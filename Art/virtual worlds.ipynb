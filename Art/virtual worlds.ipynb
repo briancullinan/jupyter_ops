{
 "cells": [
  {
   "cell_type": "markdown",
   "metadata": {},
   "source": [
    "black and white pegboard world\n",
    "\n",
    "can a 3d world be constructed from multiple google images\n",
    "\n",
    "using Unreal or idTech world mapping\n",
    "\n",
    "use webgl rendering filter for web based 3d world\n",
    "\n",
    "quilled paper scultpures from any image\n",
    "\n",
    "colorful font from algorithm\n",
    "\n",
    "patterns like Ryans drawings\n",
    "\n",
    "\n"
   ]
  },
  {
   "cell_type": "code",
   "execution_count": null,
   "metadata": {},
   "outputs": [],
   "source": []
  }
 ],
 "metadata": {
  "kernelspec": {
   "display_name": "Javascript (Node.js)",
   "language": "javascript",
   "name": "javascript"
  },
  "language_info": {
   "file_extension": ".js",
   "mimetype": "application/javascript",
   "name": "javascript",
   "version": "10.16.0"
  }
 },
 "nbformat": 4,
 "nbformat_minor": 2
}
