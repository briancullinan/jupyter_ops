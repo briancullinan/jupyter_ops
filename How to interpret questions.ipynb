{
  "cells": [
    {
      "cell_type": "markdown",
      "source": [
        "# How to interpret questions in jupyter notebooks?\n",
        "\n",
        "How to turn jupyter notebooks in to modules?\n",
        "\n"
      ],
      "metadata": {}
    },
    {
      "cell_type": "code",
      "source": [
        "try {\n",
        "// How to parse a well formatted simple notebook the cheap way?\n",
        "var imports = ((filename) => {\n",
        "    var f = fs.readFileSync(filename).toString();\n",
        "    var re = new RegExp('initialize([\\\\s\\\\S]*?)done', 'ig');\n",
        "    var m; co = []; while ((m = re.exec(f)) && co.push(m[1]));\n",
        "    var code = JSON.parse('[\"//'+co.join('\",\"')+'\"]').join('');\n",
        "    return eval(code + '\\n\\n;\\n\\n([importNotebook, getCells]);');\n",
        "})('How to find answers.ipynb');\n",
        "    importNotebook = imports[0];\n",
        "    getCells = imports[1];\n",
        "}catch(e){$$.sendError(e)}\n"
      ],
      "outputs": [],
      "execution_count": 1,
      "metadata": {
        "collapsed": false,
        "outputHidden": false,
        "inputHidden": false
      }
    },
    {
      "cell_type": "code",
      "source": [
        "$$.async();\n",
        "importNotebook('How to find answers.ipynb')\n",
        "    .then(r => $$.sendResult('hit' + r))"
      ],
      "outputs": [],
      "execution_count": 3,
      "metadata": {
        "collapsed": false,
        "outputHidden": false,
        "inputHidden": false
      }
    },
    {
      "cell_type": "markdown",
      "source": [
        "TLDR; How to use fuse.js to implement a simple search?\n",
        "\n",
        "How to answer questions using jupyter notebooks and simple search?\n",
        "\n",
        "How to search jupter notebooks for questions and answers?\n",
        "\n"
      ],
      "metadata": {}
    },
    {
      "cell_type": "code",
      "source": [
        "\n",
        "// install fuse\n",
        "require('child_process').execSync('npm install fuse.js');\n",
        "\n",
        "if (typeof cellCache == 'undefined') {var cellCache = []};\n",
        "\n",
        "var Fuse = require('fuse.js');\n",
        "var fuse = new Fuse(cellCache, {\n",
        "    shouldSort: true, \n",
        "    keys: ['question'],\n",
        "    id: 'id'\n",
        "});\n",
        "\n",
        "// How to search fuse?\n",
        "(interpret = (message) => fuse.search(message));\n",
        "\n"
      ],
      "outputs": [],
      "execution_count": 2,
      "metadata": {
        "collapsed": false,
        "outputHidden": false,
        "inputHidden": false
      }
    },
    {
      "cell_type": "markdown",
      "source": [
        "How to cache notebook questions in fuse?"
      ],
      "metadata": {}
    },
    {
      "cell_type": "code",
      "source": [
        "\n",
        "var cacheCells = (cells, notebook) => {};\n",
        "// interpret notebooks by importing them in to cache\n",
        "var interpretNotebook = (notebook) => {\n",
        "    return importNotebook(notebook)\n",
        "        .then(r => {console.log(r);\n",
        "        getCells(notebook, ['markdown', 'code'])})\n",
        "        .then(cells => cacheCells(cells, notebook))\n",
        "        .catch(e => console.log(e));\n",
        "};\n",
        "(interpretNotebook);\n",
        "\n"
      ],
      "outputs": [],
      "execution_count": 3,
      "metadata": {
        "collapsed": false,
        "outputHidden": false,
        "inputHidden": false
      }
    },
    {
      "cell_type": "markdown",
      "source": [
        "How to find all the notebooks and files?\n",
        "\n",
        "How to get markdown from all notebooks in {directory}?\n"
      ],
      "metadata": {}
    },
    {
      "cell_type": "code",
      "source": [
        "// How to flatten and array in javascript?\n",
        "var flatten = arr => arr.reduce((acc, val) => \n",
        "      acc.concat(Array.isArray(val) ? flatten(val) : val), []);\n",
        "\n",
        "Array.prototype.flatten = function() {return flatten(this)};\n",
        "\n",
        "// How to escape a string for regex?\n",
        "function escapeRegExp(str) {\n",
        "  return str.replace(/[\\-\\[\\]\\/\\{\\}\\(\\)\\*\\+\\?\\.\\\\\\^\\$\\|]/g, \"\\\\$&\");\n",
        "}\n",
        "\n",
        "// How to walk directories and files recursively and synchronously\n",
        "var walkSync = (d, depth) => {\n",
        "    var file = path.basename(d).split('*')\n",
        "        .map(f => escapeRegExp(f)).join('[^/]*');\n",
        "    var reg = new RegExp(file, 'ig');\n",
        "    var dir = path.dirname(path.resolve(d));\n",
        "    return flatten(fs.readdirSync(dir)\n",
        "    .filter(file => path.join(dir, file).match(reg))\n",
        "    .map(file => fs.statSync(path.join(dir, file)).isDirectory()\n",
        "         && depth > 0\n",
        "        ? walkSync(path.join(dir, file), depth - 1)\n",
        "        : path.join(dir, file).replace(/\\\\/g, '/')));\n",
        "};\n",
        "\n",
        "// How to test walkSync?\n",
        "var notebooks = walkSync('How to*.ipynb', 1);\n",
        "console.log(notebooks);\n",
        "(walkSync);\n"
      ],
      "outputs": [],
      "execution_count": 4,
      "metadata": {
        "collapsed": false,
        "outputHidden": false,
        "inputHidden": false
      }
    },
    {
      "cell_type": "markdown",
      "source": [
        "How to find questions leading up to jupter cells?\n",
        "\n",
        "How to read markdown leading up to code cells?\n"
      ],
      "metadata": {}
    },
    {
      "cell_type": "code",
      "source": [
        "// TODO: use the m flag option for regexp?\n",
        "var re = new RegExp('(^|\\\\n).*?\\\\?(\\\\s+|$)', 'ig');\n",
        "var re2 = new RegExp('(^|\\\\n)//.*\\\\?(\\\\s+|$)', 'ig')\n",
        "\n",
        "var accumulateMarkdown = (cells) => {\n",
        "    var counter = 0, prev = [];\n",
        "    return cells.reduce((md, c) => {\n",
        "        var source = c.source.join('').trim();\n",
        "        if (c.cell_type == 'markdown') {\n",
        "            prev.push(source);\n",
        "            return md;\n",
        "        } else if(c.cell_type !== 'code') {\n",
        "            return md;\n",
        "        }\n",
        "        var cell = {code: source, markdown: prev};\n",
        "        prev = [];\n",
        "        return md.concat([cell]);\n",
        "    }, []);\n",
        "};\n",
        "\n",
        "// How to convert a string to an Array of RegEx matches\n",
        "var regexToArray = (ex, str, i = 0) => {\n",
        "    var co = []; var m;\n",
        "    while ((m = re.exec(str)) && co.push(m[i]));\n",
        "    return co;\n",
        "};\n"
      ],
      "outputs": [],
      "execution_count": null,
      "metadata": {
        "collapsed": false,
        "outputHidden": false,
        "inputHidden": false
      }
    },
    {
      "cell_type": "markdown",
      "source": [
        "\n\n",
        "This is a complex question to answer.  Perhaps using IBM Watson language alchemy?\n",
        "\n",
        "How to find functions in jupyter notebooks?\n",
        "\n"
      ],
      "metadata": {}
    },
    {
      "cell_type": "code",
      "source": [
        "\n",
        "// TODO: interpret markdown leading up to code results and find the resulting function in the list\n",
        "// for now, the boring solution is to assume all markdown output is a question?\n",
        "\n",
        "// How to store code markdown results for later use?\n",
        "if (typeof cellCache == 'undefined') { var cellCache = []; }\n",
        "if (typeof cacheIds == 'undefined') { var cacheIds = {}; }\n",
        "(cacheCells = ((cells, notebook) => {\n",
        "    console.log(cells);\n",
        "    var filename = path.basename(notebook);\n",
        "    var newCache = accumulateMarkdown(cells);\n",
        "    newCache.forEach((c, i) => {\n",
        "        if(typeof cacheIds[filename+'['+i+']'] !== 'undefined') {\n",
        "            return;\n",
        "        }\n",
        "        var questions = regexToArray(re, c.markdown)\n",
        "            .concat(regexToArray(re, c.source));\n",
        "        cacheIds[filename+'['+i+']'] = questions;\n",
        "        questions.forEach((q) => cellCache.push({\n",
        "            id: filename+'['+i+']',\n",
        "            question: q,\n",
        "            cache: c,\n",
        "            function: global[filename+'['+i+']']\n",
        "        }));\n",
        "    });\n",
        "    return cellCache;\n",
        "}));\n",
        "\n"
      ],
      "outputs": [],
      "execution_count": 5,
      "metadata": {
        "collapsed": false,
        "outputHidden": false,
        "inputHidden": false
      }
    },
    {
      "cell_type": "markdown",
      "source": [
        "\n",
        "How to test caching works?\n"
      ],
      "metadata": {}
    },
    {
      "cell_type": "code",
      "source": [
        "\n",
        "var testNotebook = 'How to test import.ipynb';\n",
        "var testCells = [\n",
        "    {cell_type: 'code', source: []},\n",
        "    {cell_type: 'markdown', source: [\"how to test for errors line 2?\"]},\n",
        "    {cell_type: 'code', source: [\"(function (err) { throw error; })\"]}\n",
        "];\n",
        "global[testNotebook+'[1]'] \n",
        "    = eval(testCells[testCells.length-1].source.join('').trim());\n",
        "var markdownCache = cacheCells(testCells, testNotebook);\n",
        "    console.log(markdownCache);\n",
        "if(markdownCache[0].function == global[testNotebook+'[1]']) {\n",
        "    console.log(markdownCache);\n",
        "    $$.sendResult(cacheCells);\n",
        "}\n"
      ],
      "outputs": [],
      "execution_count": 8,
      "metadata": {
        "collapsed": false,
        "outputHidden": false,
        "inputHidden": false
      }
    },
    {
      "cell_type": "markdown",
      "source": [
        "How to interpret a jupyter {directory}?\n",
        "\n",
        "How to display interpreted results in markdown?\n",
        "\n",
        "How to test the interpreter works?\n"
      ],
      "metadata": {}
    },
    {
      "cell_type": "code",
      "source": [
        "try {\n",
        "\n",
        "    // How to represent search results in markdown?\n",
        "    var interpretMarkdown = (results) => {\n",
        "       return '\\n\\n\\n' + results.length + ' match' \n",
        "           + (results.length !== 1 ? 'es' : '')\n",
        "           + ' found \\n\\n\\n' + results.map(r => r[0].id + '\\n\\n\\n')\n",
        "           + results.reduce((str, c) => {\n",
        "            return str += '\\n\\n\\n' + c[0].markdown + '\\n\\n\\n' \n",
        "                + '```\\n\\n\\n' + c[0].source + '\\n\\n\\n```\\n\\n\\n';\n",
        "        }, '');\n",
        "    };\n",
        "    \n",
        "    // How to test the interpreter is working?\n",
        "    $$.async();\n",
        "    Promise.all([\n",
        "        interpretNotebook('How to find answers.ipynb'),\n",
        "        interpretNotebook('How to interpret questions.ipynb')\n",
        "    ]).then((cache) => Promise.resolve([\n",
        "        interpret('import notebook'),\n",
        "        interpret('interpret markdown')\n",
        "    ])).then(results => {\n",
        "        console.log(results);\n",
        "        var output = interpretMarkdown(results);\n",
        "        $$.sendResult(interpretMarkdown);\n",
        "    }).catch(e => $$.sendResult(e));\n",
        "\n",
        "}catch(e) {$$.sendResult(e);}\n",
        "\n"
      ],
      "outputs": [],
      "execution_count": 9,
      "metadata": {
        "collapsed": false,
        "outputHidden": false,
        "inputHidden": false
      }
    },
    {
      "cell_type": "code",
      "source": [
        "// TODO: function called intend() that errors out if there is not only 1 match with all supplied parameters, must specify the result in the index to not get this error.\n"
      ],
      "outputs": [],
      "execution_count": 17,
      "metadata": {
        "collapsed": false,
        "outputHidden": false,
        "inputHidden": false
      }
    }
  ],
  "metadata": {
    "kernelspec": {
      "name": "node_nteract",
      "language": "javascript",
      "display_name": "Node.js (nteract)"
    },
    "kernel_info": {
      "name": "node_nteract"
    },
    "language_info": {
      "name": "javascript",
      "version": "6.5.0",
      "mimetype": "application/javascript",
      "file_extension": ".js"
    }
  },
  "nbformat": 4,
  "nbformat_minor": 4
}