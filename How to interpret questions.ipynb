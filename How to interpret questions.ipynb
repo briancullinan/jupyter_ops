{
  "cells": [
    {
      "cell_type": "markdown",
      "source": [
        "# How to interpret questions in jupyter notebooks?\n",
        "\n",
        "How to turn jupyter notebooks in to modules?\n",
        "\n"
      ],
      "metadata": {}
    },
    {
      "cell_type": "code",
      "source": [
        "\n",
        "try {\n",
        "    // How to parse a well formatted simple notebook the cheap way?\n",
        "    var code = (filename) => {\n",
        "        var co = [];\n",
        "        var f = fs.readFileSync(filename).toString();\n",
        "        var re = new RegExp('\\\\s*\"cell_type\": \"code\",\\\\s*\"source\":\\\\s*\\\\[\\\\s*([\\\\s\\\\S]*?\\\\$\\\\$.done[\\\\s\\\\S]*?)\\\\s*\\\\]\\\\s*,\\s*', 'ig');\n",
        "        while ((m = re.exec(f)) && co.push(m[1]));\n",
        "        return JSON.parse('['+co+']').join('') + '\\n\\n; importNotebook;';\n",
        "    };\n",
        "    \n",
        "    // Execute the notebook\n",
        "    if(typeof importNotebook == 'undefined') {\n",
        "        var importNotebook = ((notebook) => {\n",
        "            return (($$) => vm.runInThisContext(code(notebook)))\n",
        "                ({async: () => {}, done: (done) => {}});\n",
        "        })('How to find answers.ipynb');\n",
        "        $$.done(importNotebook);\n",
        "    }\n",
        "} catch (e) {$$.done(e)}\n",
        "\n"
      ],
      "outputs": [],
      "execution_count": 1,
      "metadata": {
        "collapsed": false,
        "outputHidden": false,
        "inputHidden": false
      }
    },
    {
      "cell_type": "markdown",
      "source": [
        "How to find all the notebooks and files?\n",
        "\n",
        "How to get markdown from all notebooks in {directory}?\n"
      ],
      "metadata": {}
    },
    {
      "cell_type": "code",
      "source": [
        "// How to flatten and array in javascript?\n",
        "var flatten = arr => arr.reduce((acc, val) => \n",
        "      acc.concat(Array.isArray(val) ? flatten(val) : val), []);\n",
        "\n",
        "Array.prototype.flatten = function() {return flatten(this)};\n",
        "\n",
        "// How to escape a string for regex?\n",
        "function escapeRegExp(str) {\n",
        "  return str.replace(/[\\-\\[\\]\\/\\{\\}\\(\\)\\*\\+\\?\\.\\\\\\^\\$\\|]/g, \"\\\\$&\");\n",
        "}\n",
        "\n",
        "// How to walk directories and files recursively and synchronously\n",
        "var walkSync = (d, depth) => {\n",
        "    var file = path.basename(d).split('*')\n",
        "        .map(f => escapeRegExp(f)).join('[^/]*');\n",
        "    var reg = new RegExp(file, 'ig');\n",
        "    var dir = path.dirname(path.resolve(d));\n",
        "    return flatten(fs.readdirSync(dir)\n",
        "    .filter(file => path.join(dir, file).match(reg))\n",
        "    .map(file => fs.statSync(path.join(dir, file)).isDirectory()\n",
        "         && depth > 0\n",
        "        ? walkSync(path.join(dir, file), depth - 1)\n",
        "        : path.join(dir, file).replace(/\\\\/g, '/')));\n",
        "};\n",
        "\n",
        "// How to test walkSync?\n",
        "var notebooks = walkSync('How to*.ipynb', 1);\n",
        "console.log(notebooks);\n",
        "(walkSync);\n"
      ],
      "outputs": [
        {
          "output_type": "stream",
          "name": "stdout",
          "text": [
            "[ 'C:/Users/brian.cullinan/Documents/jupytangular2/How to find answers.ipynb',\n",
            "  'C:/Users/brian.cullinan/Documents/jupytangular2/How to install Docker on Mac.ipynb',\n",
            "  'C:/Users/brian.cullinan/Documents/jupytangular2/How to install Docker on Windows.ipynb',\n",
            "  'C:/Users/brian.cullinan/Documents/jupytangular2/How to interpret questions.ipynb',\n",
            "  'C:/Users/brian.cullinan/Documents/jupytangular2/How to test import.ipynb',\n",
            "  'C:/Users/brian.cullinan/Documents/jupytangular2/How to use express.ipynb',\n",
            "  'C:/Users/brian.cullinan/Documents/jupytangular2/How to use simple-imap.ipynb' ]\n"
          ]
        },
        {
          "output_type": "execute_result",
          "execution_count": 5,
          "data": {
            "text/plain": [
              "[Function: walkSync]"
            ]
          },
          "metadata": {}
        }
      ],
      "execution_count": 5,
      "metadata": {
        "collapsed": false,
        "outputHidden": false,
        "inputHidden": false
      }
    },
    {
      "cell_type": "markdown",
      "source": [
        "How to find questions leading up to jupter cells?\n",
        "\n",
        "This is a complex question to answer.  Perhaps using IBM Watson language alchemy?\n",
        "\n",
        "How to find functions in jupyter notebooks?\n",
        "\n"
      ],
      "metadata": {}
    },
    {
      "cell_type": "code",
      "source": [
        "\n",
        "// TODO: interpret markdown leading up to code results and find the resulting function in the list\n",
        "// for now, the boring solution is to assume all markdown output is a question?\n",
        "var cacheCells = ((cells, notebook) => {\n",
        "    var code = 0, prev = [];\n",
        "    return cells.reduce((md, c) => {\n",
        "        if (c.cell_type == 'markdown') {\n",
        "            prev.push(c.source.join('').trim());\n",
        "        } else if(c.cell_type !== 'code') {\n",
        "            return md;\n",
        "        } else if (typeof global[notebook+'['+code+']'] !== 'function') {\n",
        "            code++;\n",
        "            return md;\n",
        "        }\n",
        "        md.push({\n",
        "            id: notebook+'['+code+']',\n",
        "            markdown: prev,\n",
        "            source: c.source.join('').trim(),\n",
        "            function: global[notebook+'['+code+']']\n",
        "        });\n",
        "        code++;\n",
        "        prev = [];\n",
        "        return md;\n",
        "    }, []);\n",
        "});\n",
        "\n",
        "// How to test search works?\n",
        "var testNotebook = 'How to test import';\n",
        "var testCells = [\n",
        "    {cell_type: 'code', source: []},\n",
        "    {cell_type: 'markdown', source: [\"test for errors line 2\"]},\n",
        "    {cell_type: 'code', source: [\"(function (err) { throw error; })\"]}\n",
        "];\n",
        "global[testNotebook+'[1]'] \n",
        "    = eval(testCells[testCells.length-1].source.join('').trim());\n",
        "var markdownCache = cacheCells(testCells, testNotebook);\n",
        "if(markdownCache[0].function == global[testNotebook+'[1]']) {\n",
        "    $$.done(cacheCells);\n",
        "}\n",
        "\n"
      ],
      "outputs": [],
      "execution_count": 3,
      "metadata": {
        "collapsed": false,
        "outputHidden": false,
        "inputHidden": false
      }
    },
    {
      "cell_type": "markdown",
      "source": [
        "How to use fuse.js to implement a simple search?\n",
        "\n",
        "How to answer questions using jupyter notebooks and simple search?\n",
        "\n"
      ],
      "metadata": {}
    },
    {
      "cell_type": "code",
      "source": [
        "\n",
        "try {\n",
        "require('child_process').execSync('npm install fuse.js');\n",
        "var Fuse = require('fuse.js');\n",
        "var cellCache = [];\n",
        "var fuse;\n",
        "var interpretNotebook = (notebook) => {\n",
        "    return importNotebook(notebook).then(r => {\n",
        "        return getCells(notebook, ['markdown', 'code']);\n",
        "    }).then(cells => {\n",
        "        cellCache = cellCache.concat(cacheCells(cells, notebook));\n",
        "    });\n",
        "};\n",
        "var interpret = (message) => Promise.resolve(fuse.search(message));\n",
        "\n",
        "$$.async();\n",
        "interpretNotebook('How to interpret questions.ipynb').then((results) => {\n",
        "    fuse = new Fuse(cellCache, {\n",
        "        shouldSort: true, \n",
        "        keys: ['markdown'], \n",
        "        'id': 'id'\n",
        "    })\n",
        "    interpret('find questions in cells').then(results => {\n",
        "        console.log(results);\n",
        "        console.log(results.length + ' match found ' + results[0]);\n",
        "        $$.done(interpret);\n",
        "        return results;\n",
        "    })\n",
        "});\n",
        "} catch (e) {$$.done(e)}\n",
        "\n\n"
      ],
      "outputs": [],
      "execution_count": 19,
      "metadata": {
        "collapsed": false,
        "outputHidden": false,
        "inputHidden": false
      }
    },
    {
      "cell_type": "markdown",
      "source": [
        "How to interpret a jupyter {directory}?"
      ],
      "metadata": {}
    },
    {
      "cell_type": "code",
      "source": [
        "/*\n",
        "try {\n",
        "\n",
        "    interpret('walk directory /How to*.ipynb')\n",
        "        .then(notes => interpret('answer questions in ' + notes))\n",
        "\n",
        "}catch(e) {\n",
        "    $$.done(e);\n",
        "}\n",
        "*/\n",
        "\n"
      ],
      "outputs": [],
      "execution_count": 5,
      "metadata": {
        "collapsed": false,
        "outputHidden": false,
        "inputHidden": false
      }
    },
    {
      "cell_type": "markdown",
      "source": [
        "\n"
      ],
      "metadata": {
        "collapsed": false,
        "outputHidden": false,
        "inputHidden": false
      }
    },
    {
      "cell_type": "code",
      "source": [
        "// TODO: function called intend() that errors out if there is not only 1 match with all supplied parameters, must specify the result in the index to not get this error.\n"
      ],
      "outputs": [],
      "execution_count": 7,
      "metadata": {
        "collapsed": false,
        "outputHidden": false,
        "inputHidden": false
      }
    }
  ],
  "metadata": {
    "kernelspec": {
      "name": "node_nteract",
      "language": "javascript",
      "display_name": "Node.js (nteract)"
    },
    "kernel_info": {
      "name": "node_nteract"
    },
    "language_info": {
      "name": "javascript",
      "version": "6.5.0",
      "mimetype": "application/javascript",
      "file_extension": ".js"
    }
  },
  "nbformat": 4,
  "nbformat_minor": 4
}