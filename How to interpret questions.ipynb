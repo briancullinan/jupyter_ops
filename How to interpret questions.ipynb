{
  "cells": [
    {
      "cell_type": "markdown",
      "source": [
        "# How to interpret questions in jupyter notebooks?\n",
        "\n",
        "How to turn jupyter notebooks in to modules?\n",
        "\n"
      ],
      "metadata": {}
    },
    {
      "cell_type": "code",
      "source": [
        "\n",
        "try {\n",
        "    // How to parse a well formatted simple notebook the cheap way?\n",
        "    ((filename, $$) => {\n",
        "        var f = fs.readFileSync(filename).toString();\n",
        "        var re = new RegExp('initialize([\\\\s\\\\S]*?)done', 'ig');\n",
        "        var code = JSON.parse('[\"//'+re.exec(f)[1]+'\"]').join('');\n",
        "        return eval(code);\n",
        "    })('How to find answers.ipynb', {\n",
        "            async: $$.async,\n",
        "            done: $$.sendResult,\n",
        "            sendError: $$.sendError\n",
        "        });\n",
        "} catch (e) {$$.sendError(e)}\n",
        "\n"
      ],
      "outputs": [
        {
          "output_type": "error",
          "ename": "SyntaxError",
          "evalue": "Unexpected identifier",
          "traceback": [
            "evalmachine.<anonymous>:12",
            "            sendError: $$.sendError",
            "            ^^^^^^^^^",
            "SyntaxError: Unexpected identifier",
            "    at Object.exports.runInThisContext (vm.js:76:16)",
            "    at run ([eval]:613:19)",
            "    at onRunRequest ([eval]:384:22)",
            "    at onMessage ([eval]:352:17)",
            "    at emitTwo (events.js:106:13)",
            "    at process.emit (events.js:191:7)",
            "    at process.nextTick (internal/child_process.js:744:12)",
            "    at _combinedTickCallback (internal/process/next_tick.js:67:7)",
            "    at process._tickCallback (internal/process/next_tick.js:98:9)"
          ]
        }
      ],
      "execution_count": 5,
      "metadata": {
        "collapsed": false,
        "outputHidden": false,
        "inputHidden": false
      }
    },
    {
      "cell_type": "markdown",
      "source": [
        "How to find all the notebooks and files?\n",
        "\n",
        "How to get markdown from all notebooks in {directory}?\n"
      ],
      "metadata": {}
    },
    {
      "cell_type": "code",
      "source": [
        "// How to flatten and array in javascript?\n",
        "var flatten = arr => arr.reduce((acc, val) => \n",
        "      acc.concat(Array.isArray(val) ? flatten(val) : val), []);\n",
        "\n",
        "Array.prototype.flatten = function() {return flatten(this)};\n",
        "\n",
        "// How to escape a string for regex?\n",
        "function escapeRegExp(str) {\n",
        "  return str.replace(/[\\-\\[\\]\\/\\{\\}\\(\\)\\*\\+\\?\\.\\\\\\^\\$\\|]/g, \"\\\\$&\");\n",
        "}\n",
        "\n",
        "// How to walk directories and files recursively and synchronously\n",
        "var walkSync = (d, depth) => {\n",
        "    var file = path.basename(d).split('*')\n",
        "        .map(f => escapeRegExp(f)).join('[^/]*');\n",
        "    var reg = new RegExp(file, 'ig');\n",
        "    var dir = path.dirname(path.resolve(d));\n",
        "    return flatten(fs.readdirSync(dir)\n",
        "    .filter(file => path.join(dir, file).match(reg))\n",
        "    .map(file => fs.statSync(path.join(dir, file)).isDirectory()\n",
        "         && depth > 0\n",
        "        ? walkSync(path.join(dir, file), depth - 1)\n",
        "        : path.join(dir, file).replace(/\\\\/g, '/')));\n",
        "};\n",
        "\n",
        "// How to test walkSync?\n",
        "var notebooks = walkSync('How to*.ipynb', 1);\n",
        "console.log(notebooks);\n",
        "(walkSync);\n"
      ],
      "outputs": [],
      "execution_count": 2,
      "metadata": {
        "collapsed": false,
        "outputHidden": false,
        "inputHidden": false
      }
    },
    {
      "cell_type": "markdown",
      "source": [
        "How to find questions leading up to jupter cells?\n",
        "\n",
        "This is a complex question to answer.  Perhaps using IBM Watson language alchemy?\n",
        "\n",
        "How to find functions in jupyter notebooks?\n",
        "\n"
      ],
      "metadata": {}
    },
    {
      "cell_type": "code",
      "source": [
        "\n",
        "// TODO: interpret markdown leading up to code results and find the resulting function in the list\n",
        "// for now, the boring solution is to assume all markdown output is a question?\n",
        "var cacheCells = ((cells, notebook) => {\n",
        "    var counter = 0, prev = [];\n",
        "    var filename = path.basename(notebook);\n",
        "    return cells.reduce((md, c) => {\n",
        "        var source = c.source.join('').trim();\n",
        "        if (c.cell_type == 'markdown') {\n",
        "            prev.push(source);\n",
        "            return md;\n",
        "        } else if(c.cell_type !== 'code') {\n",
        "            return md;\n",
        "        }\n",
        "        // TODO: use the m flag option for regexp?\n",
        "        var co = []; var m; var re = new RegExp('(^|\\\\n).*?\\\\?(\\\\s+|$)', 'ig');\n",
        "        var markdown = prev.join(''); var re2 = new RegExp('(^|\\\\n)//.*\\\\?(\\\\s+|$)', 'ig');\n",
        "        while ((m = re.exec(markdown)) && co.push(m[0].replace(/how to|[\\\\?\\\\.]/ig, '')));\n",
        "        while ((m = re2.exec(source)) && co.push(m[0].replace(/how to|[\\\\?\\\\.]/ig, '')));\n",
        "        co.forEach((q) => md.push({\n",
        "            id: filename+'['+counter+']',\n",
        "            question: q,\n",
        "            markdown: prev,\n",
        "            source: source,\n",
        "            function: global[filename+'['+counter+']']\n",
        "        }));\n",
        "        counter++;\n",
        "        prev = [];\n",
        "        return md;\n",
        "    }, []);\n",
        "});\n",
        "\n",
        "// How to caching works?\n",
        "var testNotebook = 'How to test import.ipynb';\n",
        "var testCells = [\n",
        "    {cell_type: 'code', source: []},\n",
        "    {cell_type: 'markdown', source: [\"how to test for errors line 2?\"]},\n",
        "    {cell_type: 'code', source: [\"(function (err) { throw error; })\"]}\n",
        "];\n",
        "global[testNotebook+'[1]'] \n",
        "    = eval(testCells[testCells.length-1].source.join('').trim());\n",
        "var markdownCache = cacheCells(testCells, testNotebook);\n",
        "if(markdownCache[0].function == global[testNotebook+'[1]']) {\n",
        "    console.log(markdownCache);\n",
        "    $$.sendResult(cacheCells);\n",
        "}\n",
        "\n"
      ],
      "outputs": [],
      "execution_count": 3,
      "metadata": {
        "collapsed": false,
        "outputHidden": false,
        "inputHidden": false
      }
    },
    {
      "cell_type": "markdown",
      "source": [
        "How to use fuse.js to implement a simple search?\n",
        "\n",
        "How to answer questions using jupyter notebooks and simple search?\n",
        "\n",
        "How to search jupter notebooks for questions and answers?\n",
        "\n"
      ],
      "metadata": {}
    },
    {
      "cell_type": "code",
      "source": [
        "\n",
        "try {\n",
        "    // install fuse\n",
        "    require('child_process').execSync('npm install fuse.js');\n",
        "    var Fuse = require('fuse.js');\n",
        "    var fuse;\n",
        "    \n",
        "    // interpret notebooks by importing them in to cache\n",
        "    var cellCache = [];\n",
        "    var interpretNotebook = (notebook) => {\n",
        "        return importNotebook(notebook).then(r => {\n",
        "            return getCells(notebook, ['markdown', 'code']);\n",
        "        }).then(cells => {\n",
        "            cellCache = cellCache.concat(cacheCells(cells, notebook));\n",
        "            fuse = new Fuse(cellCache, {\n",
        "                shouldSort: true, \n",
        "                keys: ['question']\n",
        "            });\n",
        "            return cellCache;\n",
        "        });\n",
        "    };\n",
        "    \n",
        "    // How to search fuse?\n",
        "    var interpret = (message) => fuse.search(message);\n",
        "    \n",
        "    // how to test the interpreter works\n",
        "    $$.async();\n",
        "    Promise.all([\n",
        "        interpretNotebook('How to find answers.ipynb')\n",
        "    ]).then((cache) => Promise.resolve([\n",
        "        interpret('import notebook')\n",
        "    ])).then(results => {\n",
        "        $$.sendResult(interpret);\n",
        "    }).catch(e => $$.sendResult(e));\n",
        "} catch (e) {$$.sendResult(e)}\n",
        "\n\n"
      ],
      "outputs": [],
      "execution_count": 4,
      "metadata": {
        "collapsed": false,
        "outputHidden": false,
        "inputHidden": false
      }
    },
    {
      "cell_type": "markdown",
      "source": [
        "How to interpret a jupyter {directory}?\n",
        "\n",
        "How to display interpreted results in markdown?\n",
        "\n"
      ],
      "metadata": {}
    },
    {
      "cell_type": "code",
      "source": [
        "try {\n",
        "\n",
        "    // How to represent search results in markdown?\n",
        "    var interpretMarkdown = (results) => {\n",
        "       return '\\n\\n\\n' + results.length + ' match' \n",
        "           + (results.length !== 1 ? 'es' : '')\n",
        "           + ' found \\n\\n\\n' + results.map(r => r[0].id + '\\n\\n\\n')\n",
        "           + results.reduce((str, c) => {\n",
        "            return str += '\\n\\n\\n' + c[0].markdown + '\\n\\n\\n' \n",
        "                + '```\\n\\n\\n' + c[0].source + '\\n\\n\\n```\\n\\n\\n';\n",
        "        }, '');\n",
        "    };\n",
        "    \n",
        "    // How to test the interpreter is working?\n",
        "    $$.async();\n",
        "    Promise.all([\n",
        "        interpretNotebook('How to interpret questions.ipynb')\n",
        "    ]).then((cache) => Promise.resolve([\n",
        "        interpret('interpret markdown')\n",
        "    ])).then(results => {\n",
        "        var output = interpretMarkdown(results);\n",
        "        console.log(output);\n",
        "        $$.sendResult(interpretMarkdown);\n",
        "    }).catch(e => $$.sendResult(e));\n",
        "    \n",
        "}catch(e) {$$.sendResult(e);}\n",
        "\n"
      ],
      "outputs": [],
      "execution_count": 5,
      "metadata": {
        "collapsed": false,
        "outputHidden": false,
        "inputHidden": false
      }
    },
    {
      "cell_type": "code",
      "source": [
        "// TODO: function called intend() that errors out if there is not only 1 match with all supplied parameters, must specify the result in the index to not get this error.\n"
      ],
      "outputs": [],
      "execution_count": 6,
      "metadata": {
        "collapsed": false,
        "outputHidden": false,
        "inputHidden": false
      }
    }
  ],
  "metadata": {
    "kernelspec": {
      "name": "node_nteract",
      "language": "javascript",
      "display_name": "Node.js (nteract)"
    },
    "kernel_info": {
      "name": "node_nteract"
    },
    "language_info": {
      "name": "javascript",
      "version": "6.5.0",
      "mimetype": "application/javascript",
      "file_extension": ".js"
    }
  },
  "nbformat": 4,
  "nbformat_minor": 4
}