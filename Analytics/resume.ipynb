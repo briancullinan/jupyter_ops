{
 "cells": [
  {
   "cell_type": "markdown",
   "metadata": {},
   "source": [
    "course list pie chart?\n"
   ]
  },
  {
   "cell_type": "code",
   "execution_count": 16,
   "metadata": {},
   "outputs": [
    {
     "data": {
      "text/plain": [
       "[Function: getCourseSVG]"
      ]
     },
     "execution_count": 16,
     "metadata": {},
     "output_type": "execute_result"
    }
   ],
   "source": [
    "var importer = require('../Core');\n",
    "var getDataSheet = importer.import('google sheet array objects');\n",
    "var d3PieChart = importer.import('d3 pie chart');\n",
    "\n",
    "function getCourseSVG() {\n",
    "    var docId = '1dAtBQyn5vwStM6ITn7iCpp996Sus26k0bJtbGNlCX2g';\n",
    "\n",
    "    return getDataSheet(docId, 'Courses pie data')\n",
    "        .then(data => data.map(d => ({label: d.subject, value: d.percent})))\n",
    "        .then(values => d3PieChart(values))\n",
    "}\n",
    "\n",
    "module.exports = getCourseSVG;"
   ]
  },
  {
   "cell_type": "markdown",
   "metadata": {},
   "source": [
    "test course list pie chart?\n"
   ]
  },
  {
   "cell_type": "code",
   "execution_count": 8,
   "metadata": {},
   "outputs": [
    {
     "name": "stdout",
     "output_type": "stream",
     "text": [
      "reading notebook /Users/briancullinan/jupytangular2/Analytics/resume.ipynb\n",
      "compiling /Users/briancullinan/jupytangular2/Analytics/resume.ipynb[0] aka course list pie chart\n",
      "reading notebook /Users/briancullinan/jupytangular2/Frameworks/d3.ipynb\n",
      "compiling /Users/briancullinan/jupytangular2/Frameworks/d3.ipynb[3] aka d3 pie chart\n"
     ]
    },
    {
     "data": {
      "text/html": [
       "<svg xmlns=\"http://www.w3.org/2000/svg\" width=\"100\" height=\"100\"><g transform=\"translate(50,50)\"><g class=\"arc\"><path d=\"M2.4492935982947065e-15,-40A40,40,0,0,1,4.402885071119359,-39.75694408591428L0,0Z\" fill=\"#7fc97f\"></path><text transform=\"translate(3.3071915780398182,-59.90878469695528)\" dy=\"0.35em\">ECO - 6.32</text></g><g class=\"arc\"><path d=\"M4.402885071119359,-39.75694408591428A40,40,0,0,1,12.988673765973422,-37.832451067848005L0,0Z\" fill=\"#beaed4\"></path><text transform=\"translate(13.123285434309636,-58.547240578951595)\" dy=\"0.35em\">ENG - 12.63</text></g><g class=\"arc\"><path d=\"M12.988673765973422,-37.832451067848005A40,40,0,0,1,17.074047766861714,-36.17287509799193L0,0Z\" fill=\"#fdc086\"></path><text transform=\"translate(22.581370592322084,-55.5885033273267)\" dy=\"0.35em\">HUM - 6.32</text></g><g class=\"arc\"><path d=\"M17.074047766861714,-36.17287509799193A40,40,0,0,1,39.62068150005806,-5.495598008493432L0,0Z\" fill=\"#ffff99\"></path><text transform=\"translate(48.34672229484435,-35.53300498614212)\" dy=\"0.35em\">MAT - 56.84</text></g><g class=\"arc\"><path d=\"M39.62068150005806,-5.495598008493432A40,40,0,0,1,39.86365264621338,3.299878437464769L0,0Z\" fill=\"#386cb0\"></path><text transform=\"translate(59.97711960890161,-1.6568413984175)\" dy=\"0.35em\">MUP - 12.63</text></g><g class=\"arc\"><path d=\"M39.86365264621338,3.299878437464769A40,40,0,0,1,22.795341474463573,32.86901895497645L0,0Z\" fill=\"#f0027f\"></path><text transform=\"translate(51.96414180497115,29.995465765226072)\" dy=\"0.35em\">CHM - 50.53</text></g><g class=\"arc\"><path d=\"M22.795341474463573,32.86901895497645A40,40,0,0,1,-39.8624984391175,3.3137921164965634L0,0Z\" fill=\"#bf5b17\"></path><text transform=\"translate(-25.59686690174604,54.26601519196244)\" dy=\"0.35em\">CS - 120</text></g><g class=\"arc\"><path d=\"M-39.8624984391175,3.3137921164965634A40,40,0,0,1,-39.985034185183885,-1.0940937846802918L0,0Z\" fill=\"#666666\"></path><text transform=\"translate(-59.97682954627146,1.6673084830046687)\" dy=\"0.35em\">REL - 6.32</text></g><g class=\"arc\"><path d=\"M-39.985034185183885,-1.0940937846802918A40,40,0,0,1,-38.77844465923773,-9.809802740648621L0,0Z\" fill=\"#7fc97f\"></path><text transform=\"translate(-59.43317815019611,-8.227839021702552)\" dy=\"0.35em\">STA - 12.63</text></g><g class=\"arc\"><path d=\"M-38.77844465923773,-9.809802740648621A40,40,0,0,1,-27.899771514699445,-28.663613684034424L0,0Z\" fill=\"#beaed4\"></path><text transform=\"translate(-51.96937577377003,-29.986396610541323)\" dy=\"0.35em\">EMF - 31.58</text></g><g class=\"arc\"><path d=\"M-27.899771514699445,-28.663613684034424A40,40,0,0,1,-17.080360338454803,-36.169894811964L0,0Z\" fill=\"#fdc086\"></path><text transform=\"translate(-34.20161606295808,-49.2975603725175)\" dy=\"0.35em\">PHY - 18.95</text></g><g class=\"arc\"><path d=\"M-17.080360338454803,-36.169894811964A40,40,0,0,1,-12.995276026291542,-37.83018372940439L0,0Z\" fill=\"#ffff99\"></path><text transform=\"translate(-22.591071464054714,-55.58456161656735)\" dy=\"0.35em\">POS - 6.32</text></g><g class=\"arc\"><path d=\"M-12.995276026291542,-37.83018372940439A40,40,0,0,1,-8.752262779459954,-39.03073015252571L0,0Z\" fill=\"#386cb0\"></path><text transform=\"translate(-16.335488212775513,-57.733454987990044)\" dy=\"0.35em\">MUS - 6.32</text></g><g class=\"arc\"><path d=\"M-8.752262779459954,-39.03073015252571A40,40,0,0,1,-4.402885071119363,-39.75694408591428L0,0Z\" fill=\"#f0027f\"></path><text transform=\"translate(-9.881383110516575,-59.18072547564112)\" dy=\"0.35em\">CCJ - 6.32</text></g><g class=\"arc\"><path d=\"M-4.402885071119363,-39.75694408591428A40,40,0,0,1,-7.347880794884118e-15,-40L0,0Z\" fill=\"#bf5b17\"></path><text transform=\"translate(-3.3071915780398524,-59.90878469695527)\" dy=\"0.35em\">TH - 6.32</text></g></g></svg>"
      ]
     },
     "execution_count": 8,
     "metadata": {},
     "output_type": "execute_result"
    }
   ],
   "source": [
    "var importer = require('../Core');\n",
    "var getCourseSVG = importer.import('course list pie chart');\n",
    "\n",
    "getCourseSVG().then(r => $$.html(r));\n"
   ]
  },
  {
   "cell_type": "code",
   "execution_count": null,
   "metadata": {},
   "outputs": [],
   "source": []
  },
  {
   "cell_type": "code",
   "execution_count": null,
   "metadata": {},
   "outputs": [],
   "source": []
  }
 ],
 "metadata": {
  "kernelspec": {
   "display_name": "Javascript (Node.js)",
   "language": "javascript",
   "name": "javascript"
  },
  "language_info": {
   "file_extension": ".js",
   "mimetype": "application/javascript",
   "name": "javascript",
   "version": "10.15.3"
  }
 },
 "nbformat": 4,
 "nbformat_minor": 2
}
