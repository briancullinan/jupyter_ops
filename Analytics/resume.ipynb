{
 "cells": [
  {
   "cell_type": "markdown",
   "metadata": {},
   "source": [
    "course list pie chart?\n"
   ]
  },
  {
   "cell_type": "code",
   "execution_count": 16,
   "metadata": {},
   "outputs": [
    {
     "data": {
      "text/plain": [
       "[Function: getCourseSVG]"
      ]
     },
     "execution_count": 16,
     "metadata": {},
     "output_type": "execute_result"
    }
   ],
   "source": [
    "var importer = require('../Core');\n",
    "var getDataSheet = importer.import('google sheet array objects');\n",
    "var d3PieChart = importer.import('d3 pie chart');\n",
    "\n",
    "function getCourseSVG() {\n",
    "    var docId = '1dAtBQyn5vwStM6ITn7iCpp996Sus26k0bJtbGNlCX2g';\n",
    "\n",
    "    return getDataSheet(docId, 'Courses pie data')\n",
    "        .then(data => data.map(d => ({label: d.subject, value: d.percent})))\n",
    "        .then(values => d3PieChart(values))\n",
    "}\n",
    "\n",
    "module.exports = getCourseSVG;"
   ]
  },
  {
   "cell_type": "markdown",
   "metadata": {},
   "source": [
    "test course list pie chart?\n"
   ]
  },
  {
   "cell_type": "code",
   "execution_count": 8,
   "metadata": {},
   "outputs": [
    {
     "name": "stdout",
     "output_type": "stream",
     "text": [
      "reading notebook /Users/briancullinan/jupytangular2/Analytics/resume.ipynb\n",
      "compiling /Users/briancullinan/jupytangular2/Analytics/resume.ipynb[0] aka course list pie chart\n",
      "reading notebook /Users/briancullinan/jupytangular2/Frameworks/d3.ipynb\n",
      "compiling /Users/briancullinan/jupytangular2/Frameworks/d3.ipynb[3] aka d3 pie chart\n"
     ]
    },
    {
     "data": {
      "text/html": [
       "<svg xmlns=\"http://www.w3.org/2000/svg\" width=\"500\" height=\"500\"><g transform=\"translate(250,250)\"><g class=\"arc\"><path d=\"M8.572527594031473e-15,-140A140,140,0,0,1,15.410097748917755,-139.14930430069998L0,0Z\" fill=\"#7fc97f\"></path><text dy=\"0.35em\" transform=\"translate(8.54357824326953,-154.76436046713448) rotate(-90) rotate(3.1597366886092835)\">ECO - 6.32</text></g><g class=\"arc\"><path d=\"M15.410097748917755,-139.14930430069998A140,140,0,0,1,45.46035818090698,-132.41357873746801L0,0Z\" fill=\"#beaed4\"></path><text dy=\"0.35em\" transform=\"translate(33.9018207052999,-151.24703816229163) rotate(-90) rotate(12.63394717106908)\">ENG - 12.63</text></g><g class=\"arc\"><path d=\"M45.46035818090698,-132.41357873746801A140,140,0,0,1,59.75916718401599,-126.60506284297175L0,0Z\" fill=\"#fdc086\"></path><text dy=\"0.35em\" transform=\"translate(58.33520736349872,-143.60363359559398) rotate(-90) rotate(22.108157653528874)\">HUM - 6.32</text></g><g class=\"arc\"><path d=\"M59.75916718401599,-126.60506284297175A140,140,0,0,1,138.6723852502032,-19.234593029727012L0,0Z\" fill=\"#ffff99\"></path><text dy=\"0.35em\" transform=\"translate(124.89569926168123,-91.79359621420046) rotate(-90) rotate(53.6855262061495)\">MAT - 56.84</text></g><g class=\"arc\"><path d=\"M138.6723852502032,-19.234593029727012A140,140,0,0,1,139.52278426174684,11.54957453112669L0,0Z\" fill=\"#386cb0\"></path><text dy=\"0.35em\" transform=\"translate(154.94089232299584,-4.280173612578542) rotate(-90) rotate(88.41763186401135)\">MUP - 12.63</text></g><g class=\"arc\"><path d=\"M139.52278426174684,11.54957453112669A140,140,0,0,1,79.7836951606225,115.04156634241757L0,0Z\" fill=\"#f0027f\"></path><text dy=\"0.35em\" transform=\"translate(134.24069966284213,77.48828656016735) rotate(-90) rotate(119.99500041663197)\">CHM - 50.53</text></g><g class=\"arc\"><path d=\"M79.7836951606225,115.04156634241757A140,140,0,0,1,-139.51874453691124,11.598272407737971L0,0Z\" fill=\"#bf5b17\"></path><text dy=\"0.35em\" transform=\"translate(-66.12523949617727,140.18720591256962) rotate(-90) rotate(205.252895592034)\">CS - 120</text></g><g class=\"arc\"><path d=\"M-139.51874453691124,11.598272407737971A140,140,0,0,1,-139.94761964814361,-3.8293282463810216L0,0Z\" fill=\"#666666\"></path><text dy=\"0.35em\" transform=\"translate(-154.9401429945346,4.307213581095395) rotate(-90) rotate(268.40763269727523)\">REL - 6.32</text></g><g class=\"arc\"><path d=\"M-139.94761964814361,-3.8293282463810216A140,140,0,0,1,-135.72455630733205,-34.33430959227017L0,0Z\" fill=\"#7fc97f\"></path><text dy=\"0.35em\" transform=\"translate(-153.53571022133994,-21.25525080606493) rotate(-90) rotate(277.88184317973503)\">STA - 12.63</text></g><g class=\"arc\"><path d=\"M-135.72455630733205,-34.33430959227017A140,140,0,0,1,-97.64920030144806,-100.32264789412048L0,0Z\" fill=\"#beaed4\"></path><text dy=\"0.35em\" transform=\"translate(-134.2542207489059,-77.46485791056509) rotate(-90) rotate(299.9850012498959)\">EMF - 31.58</text></g><g class=\"arc\"><path d=\"M-97.64920030144806,-100.32264789412048A140,140,0,0,1,-59.781261184591806,-126.59463184187399L0,0Z\" fill=\"#fdc086\"></path><text dy=\"0.35em\" transform=\"translate(-88.35417482930839,-127.35203096233688) rotate(-90) rotate(325.247896008666)\">PHY - 18.95</text></g><g class=\"arc\"><path d=\"M-59.781261184591806,-126.59463184187399A140,140,0,0,1,-45.4834660920204,-132.40564305291537L0,0Z\" fill=\"#ffff99\"></path><text dy=\"0.35em\" transform=\"translate(-58.36026794880801,-143.593450842799) rotate(-90) rotate(337.88184317973503)\">POS - 6.32</text></g><g class=\"arc\"><path d=\"M-45.4834660920204,-132.40564305291537A140,140,0,0,1,-30.632919728109844,-136.60755553383999L0,0Z\" fill=\"#386cb0\"></path><text dy=\"0.35em\" transform=\"translate(-42.20001121633674,-149.14475871897426) rotate(-90) rotate(344.2013165569536)\">MUS - 6.32</text></g><g class=\"arc\"><path d=\"M-30.632919728109844,-136.60755553383999A140,140,0,0,1,-15.410097748917773,-139.14930430069998L0,0Z\" fill=\"#f0027f\"></path><text dy=\"0.35em\" transform=\"translate(-25.526906368834485,-152.88354081207288) rotate(-90) rotate(350.52078993417217)\">CCJ - 6.32</text></g><g class=\"arc\"><path d=\"M-15.410097748917773,-139.14930430069998A140,140,0,0,1,-2.5717582782094416e-14,-140L0,0Z\" fill=\"#bf5b17\"></path><text dy=\"0.35em\" transform=\"translate(-8.54357824326962,-154.76436046713445) rotate(-90) rotate(356.84026331139074)\">TH - 6.32</text></g></g></svg>"
      ]
     },
     "execution_count": 8,
     "metadata": {},
     "output_type": "execute_result"
    }
   ],
   "source": [
    "var importer = require('../Core');\n",
    "var getCourseSVG = importer.import('course list pie chart');\n",
    "\n",
    "getCourseSVG().then(r => $$.html(r));\n"
   ]
  },
  {
   "cell_type": "code",
   "execution_count": null,
   "metadata": {},
   "outputs": [],
   "source": []
  },
  {
   "cell_type": "code",
   "execution_count": null,
   "metadata": {},
   "outputs": [],
   "source": []
  }
 ],
 "metadata": {
  "kernelspec": {
   "display_name": "Javascript (Node.js)",
   "language": "javascript",
   "name": "javascript"
  },
  "language_info": {
   "file_extension": ".js",
   "mimetype": "application/javascript",
   "name": "javascript",
   "version": "10.15.3"
  }
 },
 "nbformat": 4,
 "nbformat_minor": 2
}
