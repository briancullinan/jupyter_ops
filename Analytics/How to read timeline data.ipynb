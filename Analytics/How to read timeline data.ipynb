{
  "cells": [
    {
      "cell_type": "markdown",
      "source": [
        "# How to read Google calendar and timeline data?\n",
        "\n"
      ],
      "metadata": {}
    },
    {
      "cell_type": "code",
      "source": [
        "var months = ['Jan', 'Feb', 'Mar', 'Apr', 'May', 'Jun', 'Jul', 'Aug', 'Sep', 'Oct', 'Nov', 'Dec'];\n",
        "var path = require('path');\n",
        "var fs = require('fs');\n",
        "var seleniumPath = path.join('..', 'Core', 'How to interpret all notebooks.ipynb');\n",
        "var TIMELINE_DIR = path.join(process.env.HOME || process.env.HOMEPATH || process.env.USERPROFILE, 'Timeline');\n",
        "var getTimelineCache = (dateKey) => {\n",
        "    try {\n",
        "        var locations = JSON.parse(fs.readFileSync(path.join(TIMELINE_DIR, 'location-' + dateKey + '.json')));\n",
        "    } catch (e) {\n",
        "        if(e.code !== 'EEXIST') { throw e; }\n",
        "    }\n",
        "    try {\n",
        "        var timeline = JSON.parse(fs.readFileSync(path.join(TIMELINE_DIR, 'timeline-' + dateKey + '.json')));\n",
        "\n",
        "    } catch (e) {\n",
        "        if(e.code !== 'EEXIST') { throw e; }\n",
        "    }\n",
        "    return {locations: locations, timeline: timeline};\n",
        "};\n",
        "\n"
      ],
      "outputs": [],
      "execution_count": null,
      "metadata": {
        "collapsed": false,
        "outputHidden": false,
        "inputHidden": false
      }
    },
    {
      "cell_type": "code",
      "source": [
        "\n",
        "var interpret, interpretObject, placesNearby;\n",
        "var compareTimeline = (date) => {\n",
        "    var newDate = new Date(date);\n",
        "    newDate.setHours(0,0,0);\n",
        "    var endDate = new Date(newDate);\n",
        "    endDate.setHours(23, 59, 59);\n",
        "    return importer.importNotebook(seleniumPath)\n",
        "    .then((r) => {\n",
        "        interpretObject = r['interpretObject'];\n",
        "        interpret = r['interpret'];\n",
        "    })\n",
        "    .then(() => Promise.all([\n",
        "        interpret('places nearby')\n",
        "    ]))\n",
        "    .then(r => {console.log(r); return r.map(r => r[0])})\n",
        "    .then(r => interpretObject(r))\n",
        "    .then(r => {\n",
        "        placesNearby = eval(r[0].code);\n",
        "    })\n",
        "    .then(() => listEventBetweenTwoDates(oauth2Client, \n",
        "                         newDate, \n",
        "                         endDate))\n",
        "    .then(r => resultEvents\n",
        "          .filter(e => typeof e.event.location !== 'undefined'))\n",
        "    .then(r => Promise.all(resultEvents\n",
        "        .map(e => {\n",
        "            var newKey = newDate.getDate() \n",
        "                + months[newDate.getMonth()] \n",
        "                + (newDate.getFullYear() + '').substr(2, 2);\n",
        "            var cache = getTimelineCache(newKey);\n",
        "            // get nearest location event to date\n",
        "            return placesNearby();\n",
        "    })))\n",
        "}\n",
        "\n",
        "(compareTimeline);\n",
        "\n"
      ],
      "outputs": [],
      "execution_count": null,
      "metadata": {
        "collapsed": false,
        "outputHidden": false,
        "inputHidden": false
      }
    },
    {
      "cell_type": "code",
      "source": [
        "$$.async();\n",
        "compareTimeline(new Date('2016/9/22'))\n",
        "    .then(r => $$.sendResult(r))\n",
        "    .catch(e => $$.sendError(e));\n",
        "\n"
      ],
      "outputs": [],
      "execution_count": null,
      "metadata": {
        "collapsed": false,
        "outputHidden": false,
        "inputHidden": false
      }
    }
  ],
  "metadata": {
    "kernelspec": {
      "name": "node_nteract",
      "language": "javascript",
      "display_name": "Node.js (nteract)"
    },
    "kernel_info": {
      "name": "node_nteract"
    },
    "language_info": {
      "name": "javascript",
      "version": "6.5.0",
      "mimetype": "application/javascript",
      "file_extension": ".js"
    }
  },
  "nbformat": 4,
  "nbformat_minor": 4
}