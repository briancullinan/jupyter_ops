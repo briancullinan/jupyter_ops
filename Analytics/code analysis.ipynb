{
 "cells": [
  {
   "cell_type": "markdown",
   "metadata": {},
   "source": [
    "Show git repo organization options?\n",
    "\n",
    "Show router tree, module import tree, call tree, feature tree?\n",
    "\n",
    "Warn of changes made outside of the module or feature branch?\n",
    "\n",
    "Lint all code?  Reformat all code using webstorm?\n",
    "\n",
    "Code analysis to combine blocks into modules?\n",
    "\n"
   ]
  },
  {
   "cell_type": "markdown",
   "metadata": {},
   "source": [
    "TODO: use language server for this\n",
    "\n",
    "generate unit test from logic branching?\n"
   ]
  },
  {
   "cell_type": "code",
   "execution_count": null,
   "metadata": {},
   "outputs": [],
   "source": [
    "var acorn = require(\"acorn\");\n",
    "var ASTQ  = require(\"astq\");\n",
    "var _ = require('lodash');\n",
    "var importer = require('../Core');\n",
    "\n",
    "var source = importer.interpret('zuora eloqua mapper').code;\n",
    "    \n",
    "var comments = [], tokens = [];\n",
    "\n",
    "var ast = acorn.parse(source, {\n",
    "    ecmaVersion: 6,\n",
    "    // collect ranges for each node\n",
    "\tranges: true,\n",
    "\t// collect comments in Esprima's format\n",
    "\tonComment: comments,\n",
    "\t// collect token ranges\n",
    "\tonToken: tokens\n",
    "})\n",
    "\n",
    "var astq = new ASTQ();\n",
    "var assignments = astq.query(ast, `\n",
    "//AssignmentExpression [\n",
    "    //Identifier[@name=='record']\n",
    "]\n",
    "`);\n",
    "var grouped = _.groupBy(assignments, a => comments.filter(c => c.start < a.start).pop().value.trim());\n",
    "var output = '';\n",
    "Object.keys(grouped).forEach(k => {\n",
    "    const ass = grouped[k].map(as => {\n",
    "        const leftMembers = as.left.type === 'MemberExpression'\n",
    "            ? [as.left.property.value] : astq.query(as.left, `\n",
    "//MemberExpression\n",
    "`).map(m => m.property.value).filter(m => m);\n",
    "        const rightMembers = as.right.type === 'MemberExpression'\n",
    "            ? [as.right.property.value] : astq.query(as.right, `\n",
    "//MemberExpression\n",
    "`).map(m => m.property.value).filter(m => m);\n",
    "        if(leftMembers.length === 0 || rightMembers.length === 0) {\n",
    "            return;\n",
    "        }\n",
    "        return `\n",
    "            it('should map ${leftMembers.join(', ')} to eloqua given ${rightMembers.join(', ')} from zuora', () => {\n",
    "                const mapped = mapDataToFields(records);\n",
    "                assert.equal(records[0]['${rightMembers.join('\\'] || records[0][\\'')}'], mapped[0]['${leftMembers}']);\n",
    "            })\n",
    "`;\n",
    "    }).filter(m => m).join('\\n');\n",
    "    output += `\n",
    "        describe('${k} properties mapped', () => {\n",
    "            ${ass}\n",
    "        });\n",
    "`\n",
    "})\n",
    "//console.log(astq.query(ast, `//AssignmentExpression`));\n",
    "var destination = [].concat(...astq.query(ast, `//AssignmentExpression`)\n",
    "    .map(as => as.left.type === 'MemberExpression'\n",
    "            ? [as.left.property.value]\n",
    "            : astq.query(as.left, `//MemberExpression`)\n",
    "         .map(m => m.property.value)\n",
    "         )).filter(m => m)\n",
    "var source = astq.query(ast, `\n",
    "//MemberExpression [\n",
    "    //Literal\n",
    "]\n",
    "`)\n",
    "    .filter(e => (e.property.value + '').includes('.'))\n",
    "    .map(e => e.property.value)\n",
    "console.log(`\n",
    "var assert = require('assert');\n",
    "var importer = require('../Core');\n",
    "var renewalsQuery = importer.import('zuora renewals query');\n",
    "var { bulkImportTemplate } = importer.import('eloqua create template');\n",
    "var { getUniqueRatePlans } = importer.import('zuora account blueprints');\n",
    "\n",
    "var zuoraQuery = renewalsQuery.getQuery('beginning of November', 'beginning of December').Query;\n",
    "\n",
    "var accounts = getUniqueRatePlans();\n",
    "for(var records of accounts) {\n",
    "\n",
    "    describe('given account with ' + records.map(r => r['ProductRatePlan.Name']), () => {\n",
    "        ${output}\n",
    "    })\n",
    "\n",
    "}\n",
    "\n",
    "describe('check field map', () => {\n",
    "    it('should map all fields from zuora query', () => {\n",
    "        const requireFields = ${JSON.stringify(source, null, 4).replace(/\\n/ig, '\\n    ')};\n",
    "        const missing = requireFields.filter(f => !zuoraQuery.includes(f));\n",
    "        assert(missing.length === 0, 'missing fields from zuora query ' + missing.join(', '));\n",
    "    })\n",
    "\n",
    "    it('should map all fields in eloqua import definition', () => {\n",
    "        const mappedFields = ${JSON.stringify(destination, null, 4).replace(/\\n/ig, '\\n    ')};\n",
    "        const unmapped = Object.keys(bulkImportTemplate(60).fields).filter(k => !mappedFields.includes(k));\n",
    "        assert(unmapped.length === 0, 'unmapped eloqua fields ' + unmapped.join(', '));\n",
    "    })\n",
    "\n",
    "    it('should map all record fields to eloqua fields', () => {\n",
    "        const mappedFields = ${JSON.stringify(destination, null, 4).replace(/\\n/ig, '\\n    ')};\n",
    "        const missing = mappedFields.filter(f => !Object.keys(bulkImportTemplate(60).fields).includes(f));\n",
    "        assert(missing.length === 0, 'missing fields from eloqua import definition ' + missing.join(', '));\n",
    "    })\n",
    "})\n",
    "\n",
    "`);\n"
   ]
  },
  {
   "cell_type": "markdown",
   "metadata": {
    "collapsed": true
   },
   "source": [
    "get ast path array?"
   ]
  },
  {
   "cell_type": "code",
   "execution_count": null,
   "metadata": {},
   "outputs": [],
   "source": [
    "var ASTQ  = require(\"astq\");\n",
    "var astq = new ASTQ();\n",
    "var esquery = require('esquery');\n",
    "var esprima = require('esprima'); \n",
    "\n",
    "function getArrayAST(selector, ctx, index) {\n",
    "    if(typeof ctx === 'string') {\n",
    "        ctx = esprima.parse(ctx, {range: true, tokens: true, comment: true});\n",
    "    }\n",
    "    try {\n",
    "        return astq.query(ctx, selector);\n",
    "    } catch (e) {\n",
    "        if(e.message.includes('query parsing failed')) {\n",
    "            return esquery(ctx, selector);\n",
    "        } else {\n",
    "            throw e;\n",
    "        }\n",
    "    }\n",
    "}\n",
    "\n",
    "// TODO: implement getObjectXPath with ASTs\n",
    "\n",
    "module.exports = getArrayAST;\n",
    "\n"
   ]
  },
  {
   "cell_type": "markdown",
   "metadata": {},
   "source": [
    "test ast path array?"
   ]
  },
  {
   "cell_type": "code",
   "execution_count": null,
   "metadata": {},
   "outputs": [],
   "source": [
    "var importer = require('../Core');\n",
    "var getArrayAST = importer.import('get ast path array');\n",
    "\n",
    "function testASTArray(selector, search = '') {\n",
    "    return getArrayAST(selector, importer.interpret(search).code);\n",
    "}\n",
    "\n",
    "module.exports = testASTArray;\n",
    "\n"
   ]
  },
  {
   "cell_type": "markdown",
   "metadata": {},
   "source": [
    "get module exports from source?\n"
   ]
  },
  {
   "cell_type": "code",
   "execution_count": null,
   "metadata": {},
   "outputs": [],
   "source": [
    "var importer = require('../Core');\n",
    "var getArrayAST = importer.import('get ast path array');\n",
    "\n",
    "var GET_EXPORTS = `//AssignmentExpression[//Identifier[@name=='exports']]/Identifier`;\n",
    "var GET_FUNCTIONS = `//FunctionDeclaration`;\n",
    "\n",
    "// TODO: does this work on other node_modules?\n",
    "function getExports(code) {\n",
    "    // can't call it exports or it might detect itself\n",
    "    var moduleOutput = getArrayAST(GET_EXPORTS, code)\n",
    "        .map(e => e.name);\n",
    "    return getArrayAST(GET_FUNCTIONS, code)\n",
    "        .filter(f => moduleOutput.includes(f.id.name))\n",
    "        .map(f => f.id.name);\n",
    "}\n",
    "\n",
    "module.exports = getExports;\n"
   ]
  },
  {
   "cell_type": "markdown",
   "metadata": {},
   "source": [
    "get parameter names?\n",
    "\n",
    "function parameters?\n"
   ]
  },
  {
   "cell_type": "code",
   "execution_count": null,
   "metadata": {},
   "outputs": [],
   "source": [
    "var importer = require('../Core');\n",
    "var getExports = importer.import('get module exports');\n",
    "var getArrayAST = importer.import('get ast path array');\n",
    "\n",
    "function getParameterNames(search) {\n",
    "    const result = typeof search === 'function'\n",
    "        ? search.toString()\n",
    "        : importer.interpret(search).code;\n",
    "    \n",
    "    var fnName = getExports(result)[0];\n",
    "    var GET_PARAMETERS = `//FunctionDeclaration[\n",
    "            /Identifier[@name == '${fnName}']\n",
    "        ]/*[@type != 'BlockStatement']//Identifier`;\n",
    "    var parameters = getArrayAST(GET_PARAMETERS, result).map(p => p.name);\n",
    "\n",
    "    console.log(`Parameter names ${fnName} ${parameters}`);\n",
    "    return [fnName, ...(parameters || [])];\n",
    "}\n",
    "\n",
    "module.exports = getParameterNames;\n"
   ]
  },
  {
   "cell_type": "markdown",
   "metadata": {},
   "source": [
    "get imports from source?"
   ]
  },
  {
   "cell_type": "code",
   "execution_count": null,
   "metadata": {},
   "outputs": [],
   "source": [
    "var importer = require('../Core');\n",
    "var importerCode = importer.interpret('import notebook.ipynb');\n",
    "var getArrayAST = importer.import('get ast path array');\n",
    "var GET_IMPORTS = `//CallExpression[//Identifier[@name=='import' || @name=='importNotebook']]//Literal`;\n",
    "var GET_IMPORTER = `//CallExpression//Identifier[\n",
    "    @name=='interpret' || @name=='runAllPromises' || @name=='runInNewContext' ||\n",
    "    @name=='getCells' || @name=='streamJson' || @name=='regexToArray']`\n",
    "\n",
    "function matchImports(code) {\n",
    "    var imports = getArrayAST(GET_IMPORTS, code)\n",
    "        .map(s => s.value);\n",
    "    var coreMatches = getArrayAST(GET_IMPORTER, code)\n",
    "        .map(s => s.name)\n",
    "        .map(i => importerCode.filter(core => getExports(core.code).includes(i))[0].id);\n",
    "    return imports.concat(coreMatches);\n",
    "}\n",
    "\n",
    "module.exports = matchImports;\n",
    "\n"
   ]
  },
  {
   "cell_type": "markdown",
   "metadata": {},
   "source": [
    "get requires from source?"
   ]
  },
  {
   "cell_type": "code",
   "execution_count": null,
   "metadata": {},
   "outputs": [],
   "source": [
    "var importer = require('../Core');\n",
    "var getArrayAST = importer.import('get ast path array');\n",
    "\n",
    "var GET_REQUIRE = `//CallExpression[//Identifier[@name=='require']]//Literal`;\n",
    "\n",
    "function getRequires(code) {\n",
    "    var requires = getArrayAST(GET_REQUIRE, code)\n",
    "        .map(s => s.value);\n",
    "    return requires;\n",
    "}\n",
    "\n",
    "\n",
    "module.exports = getRequires;\n",
    "\n"
   ]
  }
 ],
 "metadata": {
  "kernelspec": {
   "display_name": "Javascript (Node.js)",
   "language": "javascript",
   "name": "javascript"
  },
  "language_info": {
   "file_extension": ".js",
   "mimetype": "application/javascript",
   "name": "javascript",
   "version": "10.15.3"
  }
 },
 "nbformat": 4,
 "nbformat_minor": 2
}
