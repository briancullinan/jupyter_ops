{
 "cells": [
  {
   "cell_type": "markdown",
   "metadata": {},
   "source": [
    "Show git repo organization options?\n",
    "\n",
    "Show router tree, module import tree, call tree, feature tree?\n",
    "\n",
    "Warn of changes made outside of the module or feature branch?\n",
    "\n",
    "Lint all code?  Reformat all code using webstorm?\n",
    "\n",
    "\n"
   ]
  }
 ],
 "metadata": {
  "kernelspec": {
   "display_name": "Javascript (Node.js)",
   "language": "javascript",
   "name": "javascript"
  },
  "language_info": {
   "file_extension": ".js",
   "mimetype": "application/javascript",
   "name": "javascript",
   "version": "7.7.2"
  }
 },
 "nbformat": 4,
 "nbformat_minor": 2
}
