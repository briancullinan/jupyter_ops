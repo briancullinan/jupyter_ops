{
 "cells": [
  {
   "cell_type": "markdown",
   "metadata": {},
   "source": [
    "How much time a week spent on social networks? Get calendar service working well.\n",
    "\n",
    "Lost friends compare friend pages?\n",
    "\n",
    "Combine calendar with who I've spent time talking to at a year scale?\n",
    "\n",
    "Combine with IMAP service to find who I've been talking to?\n",
    "\n",
    "Compare job searching months with LinkedIn connections?\n",
    "\n",
    "Add Google Chrome history to calendar to compare with other collected dates for verification/validation?\n",
    "\n",
    "Compare both LinkedIn data sets from previous robot and current robot, show percent of missing information?\n",
    "    \n",
    "    "
   ]
  }
 ],
 "metadata": {
  "kernelspec": {
   "display_name": "Javascript (Node.js)",
   "language": "javascript",
   "name": "javascript"
  },
  "language_info": {
   "file_extension": ".js",
   "mimetype": "application/javascript",
   "name": "javascript",
   "version": "7.7.2"
  }
 },
 "nbformat": 4,
 "nbformat_minor": 2
}
