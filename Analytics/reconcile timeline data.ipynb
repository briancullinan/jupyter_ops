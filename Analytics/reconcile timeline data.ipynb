{
  "cells": [
    {
      "cell_type": "markdown",
      "source": [
        "# How to read Google calendar and timeline data?\n",
        "\n"
      ],
      "metadata": {}
    },
    {
      "cell_type": "code",
      "source": [
        "var months = ['Jan', 'Feb', 'Mar', 'Apr', 'May', 'Jun', 'Jul', 'Aug', 'Sep', 'Oct', 'Nov', 'Dec'];\n",
        "var path = require('path');\n",
        "var fs = require('fs');\n",
        "var TIMELINE_DIR = path.join(process.env.HOME || process.env.HOMEPATH || process.env.USERPROFILE, 'Timeline');\n",
        "\n",
        "var getTimelineCache = (newDate) => {\n",
        "    var newKey = newDate.getDate() \n",
        "        + months[newDate.getMonth()] \n",
        "        + (newDate.getFullYear() + '').substr(2, 2);\n",
        "    try {\n",
        "        var locations = JSON.parse(fs.readFileSync(path.join(TIMELINE_DIR, 'location-' + dateKey + '.json')));\n",
        "    } catch (e) {\n",
        "        if(e.code !== 'EEXIST') { throw e; }\n",
        "    }\n",
        "    try {\n",
        "        var timeline = JSON.parse(fs.readFileSync(path.join(TIMELINE_DIR, 'timeline-' + dateKey + '.json')));\n",
        "\n",
        "    } catch (e) {\n",
        "        if(e.code !== 'EEXIST') { throw e; }\n",
        "    }\n",
        "    return {locations: locations, timeline: timeline};\n",
        "};\n",
        "(getTimelineCache);\n"
      ],
      "outputs": [
        {
          "output_type": "execute_result",
          "execution_count": 1,
          "data": {
            "text/plain": [
              "[Function: getTimelineCache]"
            ]
          },
          "metadata": {}
        }
      ],
      "execution_count": 1,
      "metadata": {
        "collapsed": false,
        "outputHidden": false,
        "inputHidden": false
      }
    },
    {
      "cell_type": "code",
      "source": [
        "var path = require('path');\n",
        "var corePath = path.resolve(path.join(__dirname, '..', 'Core'));\n",
        "var interpretPath = path.join('..', 'Core', 'How to interpret all notebooks.ipynb');\n",
        "var calendarPath = path.join('..', 'Utilities', 'How to use Google Calendar API.ipynb');\n",
        "var importer = require(corePath);\n",
        "var interpret, interpretObject,\n",
        "    placesNearby, listEventBetweenTwoDates;\n",
        "var compareTimeline = (date) => {\n",
        "    var newDate = new Date(date);\n",
        "    newDate.setHours(0,0,0);\n",
        "    var endDate = new Date(newDate);\n",
        "    endDate.setHours(23, 59, 59);\n",
        "    return importer.importNotebook(interpretPath)\n",
        "        .then((r) => {\n",
        "            interpretObject = r['interpretObject'];\n",
        "            interpret = r['interpret'];\n",
        "            return importer.importNotebook(calendarPath);\n",
        "        })\n",
        "        .then((r) => {\n",
        "            listEventBetweenTwoDates = r['listEventBetweenTwoDates'];\n",
        "            return Promise.all([\n",
        "                interpret('find a place')\n",
        "            ]);\n",
        "        })\n",
        "        .then(r => r.map(r => r[0]))\n",
        "        .then(r => interpretObject(r))\n",
        "        .then(r => {\n",
        "            placesNearby = eval(r[0].code);\n",
        "        })\n",
        "        .then(() => listEventBetweenTwoDates(newDate, endDate))\n",
        "        //.then(r => console.log(r))\n",
        "        .then(r => r.filter(e => typeof e.event.location !== 'undefined'))\n",
        "        .then(r => Promise.all(r.map(e => {\n",
        "            var cache = getTimelineCache(date);\n",
        "            cache.locations.forEach(l => {\n",
        "\n",
        "            });\n",
        "            // get nearest location event to date\n",
        "            return placesNearby();\n",
        "        })))\n",
        "}\n",
        "\n",
        "(compareTimeline);\n",
        "\n"
      ],
      "outputs": [
        {
          "output_type": "execute_result",
          "execution_count": 2,
          "data": {
            "text/plain": [
              "[Function: compareTimeline]"
            ]
          },
          "metadata": {}
        }
      ],
      "execution_count": 2,
      "metadata": {
        "collapsed": false,
        "outputHidden": false,
        "inputHidden": false
      }
    },
    {
      "cell_type": "code",
      "source": [
        "$$.async();\n",
        "compareTimeline(new Date('2016/9/22'))\n",
        "    .then(r => $$.sendResult(r))\n",
        "    .catch(e => $$.sendError(e));\n",
        "\n"
      ],
      "outputs": [
        {
          "output_type": "stream",
          "name": "stdout",
          "text": [
            "Already imported\n",
            "\n",
            "[ 'How to import a notebook.ipynb',\n",
            "  'How to interpret questions.ipynb',\n",
            "  'How to authorize Google apps.ipynb',\n",
            "  'How to interpret all notebooks.ipynb' ]\n",
            "\n",
            "Already imported\n",
            "\n",
            "[ 'How to import a notebook.ipynb',\n",
            "  'How to interpret questions.ipynb',\n",
            "  'How to authorize Google apps.ipynb',\n",
            "  'How to interpret all notebooks.ipynb' ]\n",
            "\n",
            "Already imported\n",
            "\n",
            "[ 'How to import a notebook.ipynb',\n",
            "  'How to interpret questions.ipynb',\n",
            "  'How to authorize Google apps.ipynb',\n",
            "  'How to interpret all notebooks.ipynb' ]\n",
            "\n",
            "[ { start: '2016-09-22T21:00:00.000Z',\n",
            "    event: \n",
            "     { kind: 'calendar#event',\n",
            "       etag: '\"2949158680284000\"',\n",
            "       id: 'orp91edose8auoh3itthj8v4uc',\n",
            "       status: 'confirmed',\n",
            "       htmlLink: 'https://www.google.com/calendar/event?eid=b3JwOTFlZG9zZThhdW9oM2l0dGhqOHY0dWMgbWVnYW1pbmRicmlhbkBt',\n",
            "       created: '2016-09-22T21:21:28.000Z',\n",
            "       updated: '2016-09-22T21:22:20.142Z',\n",
            "       summary: 'Established my own legal team',\n",
            "       description: 'Jim Waring - Jim.Waring@phoenix.gov\\nBrad Holm\\nPhoenix City Attorney\\nCity of Phoenix Law Department\\n200 West Washington Street, Suite 1300\\nPhoenix, Arizona 85003\\n(602) 262-7193 (direct)\\n(602) 534-9866 (fax)',\n",
            "       creator: [Object],\n",
            "       organizer: [Object],\n",
            "       start: [Object],\n",
            "       end: [Object],\n",
            "       iCalUID: 'orp91edose8auoh3itthj8v4uc@google.com',\n",
            "       sequence: 0,\n",
            "       reminders: [Object] } },\n",
            "  { start: '2016-09-23T00:00:00.000Z',\n",
            "    event: \n",
            "     { kind: 'calendar#event',\n",
            "       etag: '\"2949134836278000\"',\n",
            "       id: 'c2do2eep2kj98lno5cbbe08e4c',\n",
            "       status: 'confirmed',\n",
            "       htmlLink: 'https://www.google.com/calendar/event?eid=YzJkbzJlZXAya2o5OGxubzVjYmJlMDhlNGMgbWVnYW1pbmRicmlhbkBt',\n",
            "       created: '2016-09-22T18:03:38.000Z',\n",
            "       updated: '2016-09-22T18:03:38.139Z',\n",
            "       summary: 'Call with Stephen about position',\n",
            "       creator: [Object],\n",
            "       organizer: [Object],\n",
            "       start: [Object],\n",
            "       end: [Object],\n",
            "       iCalUID: 'c2do2eep2kj98lno5cbbe08e4c@google.com',\n",
            "       sequence: 0,\n",
            "       reminders: [Object] } },\n",
            "  { start: '2016-09-23T02:00:00.000Z',\n",
            "    event: \n",
            "     { kind: 'calendar#event',\n",
            "       etag: '\"2999281121740000\"',\n",
            "       id: 'fl43jk26blj1rggcbj0dlllbuc',\n",
            "       status: 'confirmed',\n",
            "       htmlLink: 'https://www.google.com/calendar/event?eid=Zmw0M2prMjZibGoxcmdnY2JqMGRsbGxidWMgbWVnYW1pbmRicmlhbkBt',\n",
            "       created: '2016-10-04T18:20:04.000Z',\n",
            "       updated: '2017-07-09T22:49:20.870Z',\n",
            "       summary: 'Hanging out with Aleks and Ela',\n",
            "       location: '21128 N 74th Pl, Scottsdale, AZ 85255, USA',\n",
            "       creator: [Object],\n",
            "       organizer: [Object],\n",
            "       start: [Object],\n",
            "       end: [Object],\n",
            "       iCalUID: 'fl43jk26blj1rggcbj0dlllbuc@google.com',\n",
            "       sequence: 2,\n",
            "       reminders: [Object] } },\n",
            "  { start: '2016-09-23T03:00:00.000Z',\n",
            "    event: \n",
            "     { kind: 'calendar#event',\n",
            "       etag: '\"2999281126326000\"',\n",
            "       id: 'mub25kiue5rnpmpve8oea5kdok',\n",
            "       status: 'confirmed',\n",
            "       htmlLink: 'https://www.google.com/calendar/event?eid=bXViMjVraXVlNXJucG1wdmU4b2VhNWtkb2sgbWVnYW1pbmRicmlhbkBt',\n",
            "       created: '2016-10-04T18:19:24.000Z',\n",
            "       updated: '2017-07-09T22:49:23.163Z',\n",
            "       summary: 'Dinner with Aleks, Ela, Iga, and Jaime',\n",
            "       location: 'Kazimierz World Wine Bar, 7137 E Stetson Dr, Scottsdale, AZ 85251, USA',\n",
            "       creator: [Object],\n",
            "       organizer: [Object],\n",
            "       start: [Object],\n",
            "       end: [Object],\n",
            "       iCalUID: 'mub25kiue5rnpmpve8oea5kdok@google.com',\n",
            "       sequence: 3,\n",
            "       reminders: [Object] } } ]\n"
          ]
        }
      ],
      "execution_count": 3,
      "metadata": {
        "collapsed": false,
        "outputHidden": false,
        "inputHidden": false
      }
    },
    {
      "cell_type": "code",
      "source": [],
      "outputs": [],
      "execution_count": 4,
      "metadata": {
        "collapsed": false,
        "outputHidden": false,
        "inputHidden": false
      }
    }
  ],
  "metadata": {
    "kernelspec": {
      "name": "node_nteract",
      "language": "javascript",
      "display_name": "Node.js (nteract)"
    },
    "kernel_info": {
      "name": "node_nteract"
    },
    "language_info": {
      "name": "javascript",
      "version": "6.5.0",
      "mimetype": "application/javascript",
      "file_extension": ".js"
    }
  },
  "nbformat": 4,
  "nbformat_minor": 4
}