{
 "cells": [
  {
   "cell_type": "markdown",
   "metadata": {},
   "source": [
    "\n",
    "Create a bot for banking, feed in to ORC, analyze/validate locations, who was using the card, beneficiary, gifts versus essentials, display live graph that updates as soon as a purchase is made.  Possible this will require new credit card service and API access?  Yodlee was pretty closed until you get paid verification.\n",
    "\n"
   ]
  }
 ],
 "metadata": {
  "kernelspec": {
   "display_name": "Javascript (Node.js)",
   "language": "javascript",
   "name": "javascript"
  },
  "language_info": {
   "file_extension": ".js",
   "mimetype": "application/javascript",
   "name": "javascript",
   "version": "7.7.2"
  }
 },
 "nbformat": 4,
 "nbformat_minor": 2
}
