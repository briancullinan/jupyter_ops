{
 "cells": [
  {
   "cell_type": "markdown",
   "metadata": {},
   "source": [
    "# data collection\n",
    "\n",
    "Collect lots of things from lots of sources.\n",
    "\n",
    "\n"
   ]
  },
  {
   "cell_type": "markdown",
   "metadata": {},
   "source": [
    "## basic http tools\n",
    "\n",
    "Copying files from many sources.\n"
   ]
  },
  {
   "cell_type": "markdown",
   "metadata": {},
   "source": [
    "### copy list of links to json\n",
    "\n",
    "https://www.maricopacountyattorney.org/CivicAlerts.aspx?AID=400\n",
    "\n",
    "Crime reports?\n"
   ]
  },
  {
   "cell_type": "markdown",
   "metadata": {},
   "source": [
    "#### the code\n",
    "\n"
   ]
  },
  {
   "cell_type": "code",
   "execution_count": null,
   "metadata": {},
   "outputs": [],
   "source": [
    "var fs = require('fs');\n",
    "var path = require('path');\n",
    "\n",
    "var PROFILE_PATH = process.env.HOME || process.env.HOMEPATH || process.env.USERPROFILE || '';\n",
    "var project = path.join(PROFILE_PATH, 'Collections/crimes');\n",
    "\n",
    "function scrapeAlert(ID) {\n",
    "    if(fs.existsSync(path.join(project, 'maricopa-alert-' + ID + '.json'))) {\n",
    "        return;\n",
    "    }\n",
    "    return client\n",
    "        .url('https://www.maricopacountyattorney.org/CivicAlerts.aspx?AID=' + ID)\n",
    "        .getAllXPath({\n",
    "            time: '//*[@class = \"single\"]//*[@class = \"date\"]//text()',\n",
    "            title: '//*[contains(@class, \"single\")]//h3//text()',\n",
    "            content: '//*[@class = \"single\"]//*[@class = \"content\"]//text()'\n",
    "        })\n",
    "        .then(r => {\n",
    "            fs.writeFileSync(path.join(project, 'maricopa-alert-' + ID + '.json'), JSON.stringify(r, null, 4));\n",
    "            return r;\n",
    "        })\n",
    "        .catch(e => console.log(e))\n",
    "}\n",
    "module.exports = scrapeAlert;\n",
    "\n",
    "if(typeof $$ !== 'undefined') {\n",
    "    $$.async();\n",
    "    var IDs = Array.from(Array(500).keys());\n",
    "    multiCrawl(IDs, 'crime reports')\n",
    "        .then(r => $$.sendResult(r))\n",
    "        .catch(e => $$.sendError(e))\n",
    "}\n"
   ]
  },
  {
   "cell_type": "markdown",
   "metadata": {},
   "source": [
    "### search a lot of engines\n",
    "\n",
    "\n"
   ]
  },
  {
   "cell_type": "markdown",
   "metadata": {
    "heading_collapsed": true
   },
   "source": [
    "#### the code \n",
    "\n",
    "meta search all?\n"
   ]
  },
  {
   "cell_type": "code",
   "execution_count": null,
   "metadata": {
    "hidden": true
   },
   "outputs": [],
   "source": [
    "var fs = require('fs');\n",
    "var path = require('path');\n",
    "var importer = require('../Core');\n",
    "var multiCrawl = importer.import('multi crawl');\n",
    "\n",
    "// http://www.exploratorium.edu/files/ronh/research/index.html\n",
    "/*\n",
    "\n",
    " Exploratorium\t\n",
    " Search\n",
    " Google\t\n",
    " Search\n",
    " alltheweb\t\n",
    " Search\n",
    " Teoma\t\n",
    " Search\n",
    " AltaVista\t\n",
    " Search\n",
    " Wisenut\t\n",
    " Search\n",
    " HotBot\t\n",
    " Search\n",
    " lii.org\t\n",
    " Search\n",
    " Northern Light\t\n",
    " Search\n",
    " Lycos\t\n",
    " Search\n",
    " Scirus\t\n",
    " \n",
    " Meta:\n",
    "  Ask Jeeves\t\n",
    " Search\n",
    " MetaCrawler\t\n",
    " Search\n",
    " Dogpile\t\n",
    " Search\n",
    " SavvySearch\t\n",
    " \n",
    " \n",
    " */\n",
    "var PROFILE_PATH = process.env.HOME || process.env.HOMEPATH || process.env.USERPROFILE || '';\n",
    "var project = path.join(PROFILE_PATH, 'Collections/searches');\n",
    "\n",
    "function searchAll(query = 'search engine') {\n",
    "    var engines = [\n",
    "        'https://www.google.com/search?q=' + query,\n",
    "        'https://www.bing.com/search?q=' + query,\n",
    "        'https://search.yahoo.com/search?p=' + query,\n",
    "        'https://www.ask.com/web?q=' + query,\n",
    "        'https://search.aol.com/aol/search?q=' + query,\n",
    "        'http://www.baidu.com/s?wd=' + query,\n",
    "        'https://www.wolframalpha.com/input/?i=' + query,\n",
    "        'https://duckduckgo.com/?q=' + query,\n",
    "        'https://www.yandex.com/search/?text=' + query,\n",
    "        'https://archive.org/search.php?query=' + query,\n",
    "    ];\n",
    "    \n",
    "    // TODO: save results\n",
    "    return multiCrawl(engines, 'search results json')\n",
    "        .then(r => {\n",
    "            const time = new Date();\n",
    "            fs.writeFileSync(path.join(project, query.replace(/[^a-z0-9]/ig, '_')\n",
    "                                       + '-' + time.getFullYear()\n",
    "                                       + '-' + (time.getMonth() + 1)\n",
    "                                       + '-' + time.getDate()\n",
    "                                       + '.json'), JSON.stringify(r, null, 4));\n",
    "            return r;\n",
    "        })\n",
    "}\n",
    "module.exports = searchAll;\n",
    "\n",
    "if(typeof $$ !== 'undefined') {\n",
    "    $$.async();\n",
    "    searchAll()\n",
    "        .then(r => $$.sendResult(r))\n",
    "        .catch(e => $$.sendError(e))\n",
    "}\n"
   ]
  },
  {
   "cell_type": "markdown",
   "metadata": {
    "heading_collapsed": true
   },
   "source": [
    "#### schedule search all?\n",
    "\n",
    "TODO: convert this to a pattern.\n",
    "\n"
   ]
  },
  {
   "cell_type": "code",
   "execution_count": null,
   "metadata": {
    "hidden": true
   },
   "outputs": [],
   "source": [
    "var google = require('googleapis');\n",
    "var importer = require('../Core');\n",
    "var {\n",
    "    getOauthClient,\n",
    "    ISODateString,\n",
    "    createNewEvent,\n",
    "} = importer.import([\n",
    "    'convert date iso',\n",
    "    'create new calendar event',\n",
    "    'import google calendar api',\n",
    "]);\n",
    "\n",
    "var options = {\n",
    "    calendarId: 'aws'\n",
    "}\n",
    "\n",
    "function scheduleSearch(search) {\n",
    "    const parameters = {\n",
    "        query: search || 'search engines'\n",
    "    }\n",
    "    const newDate = new Date();\n",
    "    return (typeof options.auth === 'undefined'\n",
    "           ? getOauthClient(options)\n",
    "           : Promise.resolve([]))\n",
    "        .then(() => createNewEvent('meta search all', JSON.stringify(parameters, null, 4), options))\n",
    "}\n",
    "module.exports = scheduleSearch;\n"
   ]
  },
  {
   "cell_type": "markdown",
   "metadata": {
    "heading_collapsed": true
   },
   "source": [
    "#### tell joke?\n",
    "\n"
   ]
  },
  {
   "cell_type": "code",
   "execution_count": null,
   "metadata": {
    "hidden": true
   },
   "outputs": [],
   "source": [
    "var util = require('bluebird');\n",
    "var request = util.promisify(require('request'));\n",
    "var importer = require('../Core')\n",
    "\n",
    "var jokes;\n",
    "function getJoke() {\n",
    "    // TODO: collect jokes instead\n",
    "    return (typeof jokes === 'undefined'\n",
    "        ? request('http://www.ducksters.com/jokes/silly.php')\n",
    "        .then(res => importer.regexToArray(/^.*?Q:.*$|^.*?A:.*$/igm, res.body))\n",
    "        .then(r => {\n",
    "            r = r.reduce((arr, j, i) => {\n",
    "                if(i % 2 === 1) {\n",
    "                    arr.push([\n",
    "                        r[i-1].replace(/<.*?\\s*\\/?>/ig, '').trim().replace(/^\\s*|\\s*$/igm, ''),\n",
    "                        j.replace(/<.*?\\s*\\/?>/ig, '').trim().replace(/^\\s*|\\s*$/igm, '')\n",
    "                    ]);\n",
    "                }\n",
    "                return arr;\n",
    "            }, []);\n",
    "            console.log(r);\n",
    "            jokes = r;\n",
    "            return r;\n",
    "        })\n",
    "        : Promise.resolve(jokes))\n",
    "        .then(arr => {\n",
    "            const i = Math.round(Math.random() * arr.length);\n",
    "            return arr[i];\n",
    "        })\n",
    "}\n",
    "module.exports = getJoke;\n",
    "\n"
   ]
  },
  {
   "cell_type": "markdown",
   "metadata": {},
   "source": [
    "## advanced http tools \n",
    "\n"
   ]
  },
  {
   "cell_type": "markdown",
   "metadata": {},
   "source": [
    "### TODO multicrawl with selenium\n"
   ]
  },
  {
   "cell_type": "markdown",
   "metadata": {
    "heading_collapsed": true
   },
   "source": [
    "#### the code\n",
    "\n",
    "multi crawl?\n"
   ]
  },
  {
   "cell_type": "code",
   "execution_count": null,
   "metadata": {
    "hidden": true
   },
   "outputs": [],
   "source": [
    "var importer = require('../Core');\n",
    "var runSeleniumCell = importer.import('selenium cell');\n",
    "\n",
    "var TIMEOUT = 1000;\n",
    "var CONNECTIONS = 3;\n",
    "\n",
    "// recursively dequeue tasks\n",
    "function deQueue(inputQueue, searchCallback, ctx) {\n",
    "    const results = [];\n",
    "    console.log(ctx.client.requestHandler.sessionID);\n",
    "    const callback = typeof searchCallback === 'function'\n",
    "        ? searchCallback\n",
    "        : importer.import(searchCallback, Object.assign({useCache: false}, ctx));\n",
    "    if(inputQueue.length > 0) {\n",
    "        const item = inputQueue.shift();\n",
    "        return new Promise(resolve => setTimeout(() => resolve(), 100))\n",
    "            .then(() => callback(...[item, ctx]))\n",
    "            .catch(e => {\n",
    "                console.log(e + '');\n",
    "                if((e + '').indexOf('Already') > -1 || (e + '').indexOf('session') > -1) {\n",
    "                    inputQueue.push(item);\n",
    "                    throw new Error('Abandoning session :(', e);\n",
    "                }\n",
    "            })\n",
    "            .then(r => results.push(r))\n",
    "            .then(() => deQueue(inputQueue, searchCallback, ctx))\n",
    "            .then(r => results.concat(r))\n",
    "            .catch(e => console.log(e))\n",
    "    } else {\n",
    "        return results;\n",
    "    }\n",
    "}\n",
    "\n",
    "// create a number of individual selenium sessions and dequeue the tasks with the callback search\n",
    "function multiCrawl(inputList, searchCallback) {\n",
    "    var indexes = Array.from(Array(Math.min(inputList.length, CONNECTIONS)).keys());\n",
    "    var connections = [];\n",
    "    var promises = indexes.map((s, i) => resolve => {\n",
    "        const client = runSeleniumCell(false, false);\n",
    "        return client\n",
    "            // skip this if error\n",
    "            //.then(() => connections[i].onlyOneWindow())\n",
    "            //.then(() => connections[i].resizeWindow())\n",
    "            .then(ctx => {\n",
    "                connections.push(ctx);\n",
    "                resolve(ctx)\n",
    "            })\n",
    "            .catch(e => {\n",
    "                console.log(e);\n",
    "                resolve(null);\n",
    "            })\n",
    "    });\n",
    "    var queue = [].concat(inputList);\n",
    "    var count = 0;\n",
    "    return importer.runAllPromises(promises)\n",
    "        .then(() => {\n",
    "            console.log(connections.map(c => c.client.requestHandler.sessionID));\n",
    "        })\n",
    "        .then(() => {\n",
    "            return connections[0].client\n",
    "                .scanning(true)\n",
    "                .then(() => connections[0].getAllSessionUrls())\n",
    "                .scanning(false)\n",
    "        })\n",
    "        .then(() => console.log('done loading sessions'))\n",
    "        .then(() => Promise.all(connections.map(ctx => deQueue(queue, searchCallback, ctx))))\n",
    "        .then(r => [].concat([], ...r))\n",
    "}\n",
    "module.exports = multiCrawl;\n",
    "\n"
   ]
  },
  {
   "cell_type": "markdown",
   "metadata": {},
   "source": [
    "### crawl domain?\n",
    "\n"
   ]
  },
  {
   "cell_type": "markdown",
   "metadata": {},
   "source": [
    "#### the code\n",
    "\n"
   ]
  },
  {
   "cell_type": "code",
   "execution_count": 35,
   "metadata": {
    "scrolled": true
   },
   "outputs": [
    {
     "name": "stdout",
     "output_type": "stream",
     "text": [
      "importing domain crawler tools - 1 cell - data collection.ipynb[6]\n",
      "/Users/briancullinan/jupyter_ops/Analytics/data collection.ipynb[6] aka domain crawler tools\n",
      "compiling /Users/briancullinan/jupyter_ops/Analytics/data collection.ipynb[6] aka domain crawler tools with module,importer,exports,__dirname,__filename,$$\n",
      "importing glob files - 1 cell - files.ipynb[2]\n",
      "importing select tree - 1 cell - patterns.ipynb[2]\n",
      "https://www.google.com/\n",
      "https://www.google.com/images/branding/googlelogo/2x/googlelogo_color_272x92dp.png\n",
      "https://www.google.com/xjs/_/js/k=xjs.s.en_US.R8dX-hLA4nk.O/ck=xjs.s.8N3EJVB8puY.L.W.O/am=AAAAgEUAu-4AIP9vBYAAgB0DAAABYcEGC4QhocJYnYAIEA/d=1/exm=Fkg7bd,HcFEGb,IvlUe,MC8mtf,OF7gzc,RMhBfe,T4BAC,TJw5qb,TbaHGc,Y33vzc,cdos,cr,csi,d,hsm,iDPoPb,jsa,mvYTse,tg8oTe,uz938c,vWNDde,ws9Tlc,yQ43ff/ed=1/dg=2/ct=zgms/rs=ACT90oHR0bkKQ-1_CyQGavk4eU7R5R4yaA/m=aa,abd,async,dvl,fEVMic,foot,ifl,lu,m,mUpTid,mu,sb_wiz,sf,spch,wft,xz7cCd?xjs=s1\n",
      "https://apis.google.com/_/scs/abc-static/_/js/k=gapi.gapi.en.7kWSr24wXFc.O/m=gapi_iframes,googleapis_client,plusone/rt=j/sv=1/d=1/ed=1/rs=AHpOoo-i9r7IbCTUQfJ0v-FPhRKRS8aihQ/cb=gapi.loaded_0\n",
      "https://www.gstatic.com/og/_/js/k=og.og2.en_US.QYP04uCN8fk.O/rt=j/m=def,aswid/exm=in,fot/d=1/ed=1/rs=AA2YrTsbNVQQNRI9ypYWIrBhlXjCUcznaw\n",
      "https://ogs.google.com/widget/app/so?hl=en&origin=https%3A%2F%2Fwww.google.com&pid=1&spid=1&usegapi=1\n",
      "https://www.google.com/advanced_search?hl=en&fg=1\n",
      "https://www.google.com/history/optout?hl=en&fg=1\n",
      "https://www.google.com/xjs/_/js/k=xjs.s.en_US.R8dX-hLA4nk.O/ck=xjs.s.8N3EJVB8puY.L.W.O/m=Fkg7bd,HcFEGb,IvlUe,MC8mtf,OF7gzc,RMhBfe,T4BAC,TJw5qb,TbaHGc,Y33vzc,cdos,cr,hsm,iDPoPb,jsa,mvYTse,tg8oTe,uz938c,vWNDde,ws9Tlc,yQ43ff,d,csi/am=AAAAgEUAu-4AIP9vBYAAgB0DAAABYcEGC4QhocJYnYAIEA/d=1/dg=2/ct=zgms/rs=ACT90oHR0bkKQ-1_CyQGavk4eU7R5R4yaA\n",
      "https://accounts.google.com/ServiceLogin?hl=en&passive=true&continue=https://www.google.com/\n",
      "https://accounts.google.com/ServiceLogin?service=mail&passive=true&rm=false&continue=https://mail.google.com/mail/?tab%3Dwm%26ogbl&scc=1&ltmpl=default&ltmplcache=2&emr=1&osid=1\n",
      "https://www.google.com/\n",
      "https://www.google.com/preferences?hl=en&fg=1\n",
      "https://www.google.com/imghp?hl=en&tab=wi&ogbl\n",
      "https://www.google.com/preferences?hl=en\n",
      "https://www.google.com/services/?subid=ww-ww-et-g-awa-a-g_hpbfoot1_1!o2&utm_source=google.com&utm_medium=referral&utm_campaign=google_hpbfooter&fg=1#?modal_active=none\n",
      "https://www.google.com/search/howsearchworks/?fg=1\n",
      "https://policies.google.com/terms?fg=1\n",
      "https://ads.google.com/intl/en_us/home/?subid=ww-ww-et-g-awa-a-g_hpafoot1_1!o2&utm_source=google.com&utm_medium=referral&utm_campaign=google_hpafooter&fg=1\n",
      "https://support.google.com/websearch/?visit_id=637119713930784128-3189663459&hl=en&rd=2#topic=3378866\n",
      "https://about.google/?fg=1&utm_source=google-US&utm_medium=referral&utm_campaign=hp-header\n",
      "https://www.google.com/history/privacyadvisor/search/unauth?utm_source=googlemenu&fg=1\n",
      "https://policies.google.com/privacy?fg=1\n",
      "https://store.google.com/US/?utm_source=hp_header&utm_medium=google_ooo&utm_campaign=GS100042&hl=en-US\n",
      "https://about.google/intl/en/products/?tab=wh&tip=parking-reminder\n"
     ]
    },
    {
     "data": {
      "text/plain": [
       "'done'"
      ]
     },
     "execution_count": 35,
     "metadata": {},
     "output_type": "execute_result"
    }
   ],
   "source": [
    "var fs = require('fs');\n",
    "var path = require('path');\n",
    "var importer = require('../Core');\n",
    "var {\n",
    "    cacheFilename,\n",
    "    doBrowserRequest\n",
    "} = importer.import('domain crawler tools')\n",
    "\n",
    "async function crawlAll(url, depth, searches) {\n",
    "    if(!depth) depth = 3 // TODO: minutes depth using time range?\n",
    "    if(!searches) searches = []\n",
    "    \n",
    "    var requests = (typeof url === 'string' ? [url] : url )\n",
    "        .filter((l, i, arr) => arr.indexOf(l) === i)\n",
    "        .filter(l => !l.includes('data:'))\n",
    "    var searches2 = []\n",
    "    for(var i = 0; i < requests.length; i++) {\n",
    "        var l = requests[i]\n",
    "        var result = await doBrowserRequest(l)\n",
    "        searches2.push(result)\n",
    "    }\n",
    "    var links = [].concat.apply([], searches2.map(s => !s ? [] : s.styles.concat(s.links)))\n",
    "    var crawl = depth > 1\n",
    "        ? await crawlAll(links,\n",
    "                         depth - 1, searches.concat(searches2))\n",
    "        : searches.concat(searches2)\n",
    "    \n",
    "    if(depth === 1) {\n",
    "        var filePath = cacheFilename(crawl[0].url)\n",
    "        fs.writeFileSync(filePath, JSON.stringify(crawl, null, 4))\n",
    "    }\n",
    "    //return crawl\n",
    "}\n",
    "\n",
    "module.exports = crawlAll\n",
    "//var importer = require('../Core')\n",
    "//var crawlAll = importer.import('crawl domain')\n",
    "\n",
    "if(typeof $$ !== 'undefined') {\n",
    "    $$.async()\n",
    "    crawlAll('https://google.com', 2)\n",
    "        .then(r => $$.sendResult('done'))\n",
    "        .catch(e => $$.sendError(e))\n",
    "}\n",
    "\n"
   ]
  },
  {
   "cell_type": "markdown",
   "metadata": {},
   "source": [
    "#### domain crawler tools?\n"
   ]
  },
  {
   "cell_type": "code",
   "execution_count": 30,
   "metadata": {},
   "outputs": [
    {
     "name": "stdout",
     "output_type": "stream",
     "text": [
      "importing glob files - 1 cell - files.ipynb[2]\n",
      "importing select tree - 1 cell - patterns.ipynb[2]\n"
     ]
    },
    {
     "data": {
      "text/plain": [
       "{\n",
       "  cacheFilename: [Function: cacheFilename],\n",
       "  findCache: [Function: findCache],\n",
       "  getAllLinks: [Function: getAllLinks],\n",
       "  doBrowserRequest: [AsyncFunction: doBrowserRequest]\n",
       "}"
      ]
     },
     "execution_count": 30,
     "metadata": {},
     "output_type": "execute_result"
    }
   ],
   "source": [
    "var {URL, pathToFileURL} = require('url')\n",
    "var fs = require('fs')\n",
    "var path = require('path')\n",
    "var puppeteer = require('puppeteer')\n",
    "var importer = require('../Core')\n",
    "var {glob} = importer.import('glob files')\n",
    "var {selectDom} = importer.import('select tree')\n",
    "\n",
    "var PROFILE_PATH = process.env.HOME || process.env.HOMEPATH || process.env.USERPROFILE || '';\n",
    "var project = path.join(PROFILE_PATH, 'Collections/crawls');\n",
    "\n",
    "function cacheFilename(url) {\n",
    "    if(typeof url === 'string')\n",
    "        url = new URL(url)\n",
    "    const time = new Date()\n",
    "    var file = url.hostname.replace(/[^a-z0-9-_]/ig, '_')\n",
    "       + '-' + time.getFullYear()\n",
    "       + '-' + (time.getMonth() + 1)\n",
    "       + '-' + time.getDate() + '.json'\n",
    "    return path.join(project, file)\n",
    "}\n",
    "\n",
    "function findCache(host) {\n",
    "    const crawl = glob(\n",
    "        '**/*' + host.replace(/[^a-z0-9_-]/ig, '_') + '*',\n",
    "        project\n",
    "    )\n",
    "    crawl.sort((a, b) => {\n",
    "        return fs.statSync(b).mtime.getTime() - fs.statSync(a).mtime.getTime()\n",
    "    })\n",
    "    return crawl\n",
    "}\n",
    "\n",
    "// TODO: make a utility for this because it keeps coming up here and in convert spreadsheet\n",
    "function getAllLinks(url, doc) {\n",
    "    var r = selectDom({\n",
    "        links: ['//a/@href|(//img|//iframe|//audio)[@src]/@src'],\n",
    "        styles: ['//link/@href|//style/@text()'],\n",
    "        html: ['/*']\n",
    "    }, doc)\n",
    "    return {\n",
    "        links: r.links.map(s => new URL(s, url).href),\n",
    "        styles: r.styles.map(s => new URL(s, url).href),\n",
    "        html: r.html.map(h => h.outerHTML).join('')\n",
    "    }\n",
    "}\n",
    "\n",
    "var browser\n",
    "async function doBrowserRequest(url) {\n",
    "    \n",
    "    if(!browser) browser = await puppeteer.launch()\n",
    "    const page = await browser.newPage()\n",
    "    var response = await page.goto(url)\n",
    "    await new Promise(resolve => setTimeout(resolve, 1000))\n",
    "    console.log(url)\n",
    "    var type = response.headers()['content-type'].split(';')[0]\n",
    "    var buffer = await response.buffer()\n",
    "    var url = await page.url()\n",
    "\n",
    "    var result = getAllLinks(url, await page.content())\n",
    "    result.type = type\n",
    "    result.url = url\n",
    "    result.content = type.includes('text/')\n",
    "        ? buffer.toString()\n",
    "        : `data:${type};base64,${buffer.toString('base64')}`\n",
    "    \n",
    "    await page.close()\n",
    "    //await browser.close()\n",
    "    //browser = null\n",
    "    return result\n",
    "}\n",
    "    \n",
    "module.exports = {\n",
    "    cacheFilename,\n",
    "    findCache,\n",
    "    getAllLinks,\n",
    "    doBrowserRequest\n",
    "}\n",
    "    "
   ]
  },
  {
   "cell_type": "markdown",
   "metadata": {
    "heading_collapsed": true
   },
   "source": [
    "#### schedule crawl domain?\n",
    "\n"
   ]
  },
  {
   "cell_type": "code",
   "execution_count": null,
   "metadata": {
    "hidden": true
   },
   "outputs": [],
   "source": [
    "var google = require('googleapis');\n",
    "var importer = require('../Core');\n",
    "var {\n",
    "    getOauthClient,\n",
    "    ISODateString,\n",
    "    createNewEvent,\n",
    "} = importer.import([\n",
    "    'convert date iso',\n",
    "    'create new calendar event',\n",
    "    'import google calendar api',\n",
    "]);\n",
    "\n",
    "var options = {\n",
    "    calendarId: 'aws'\n",
    "}\n",
    "\n",
    "function scheduleSearch(search) {\n",
    "    const parameters = {\n",
    "        query: search\n",
    "    }\n",
    "    const newDate = new Date();\n",
    "    return (typeof options.auth === 'undefined'\n",
    "           ? getOauthClient(options)\n",
    "           : Promise.resolve([]))\n",
    "        .then(() => createNewEvent('crawl domain', JSON.stringify(parameters, null, 4), options))\n",
    "}\n",
    "module.exports = scheduleSearch;\n"
   ]
  },
  {
   "cell_type": "markdown",
   "metadata": {},
   "source": [
    "## html tools\n",
    "\n",
    "TODO: move this to Languages/html.ipynb.\n",
    "\n"
   ]
  },
  {
   "cell_type": "markdown",
   "metadata": {},
   "source": [
    "### find search boxes on a page\n",
    "\n"
   ]
  },
  {
   "cell_type": "markdown",
   "metadata": {
    "heading_collapsed": true
   },
   "source": [
    "#### the code\n",
    "\n",
    "search results as json?"
   ]
  },
  {
   "cell_type": "code",
   "execution_count": null,
   "metadata": {
    "hidden": true
   },
   "outputs": [],
   "source": [
    "function searchResultsToJson(url) {\n",
    "    console.log(url + ' - ' + client.requestHandler.sessionID);\n",
    "    return client\n",
    "        .url(url)\n",
    "        .pause(2000)\n",
    "        .getAllXPath({\n",
    "            query: '//input[contains(@aria-label, \"Search\")]/@value'\n",
    "            +\n",
    "            '|//input[contains(@aria-label, \"search\")]/@value'\n",
    "            +\n",
    "            // yahoo\n",
    "            '|//label[contains(., \"Search\")]/following::*//input[@type=\"text\"]/@value' \n",
    "            +\n",
    "            '|//input[contains(@class, \"Search\")]/@value'\n",
    "            +\n",
    "            // wolfram\n",
    "            '|//input[contains(@name, \"query\")]/@value'\n",
    "            +\n",
    "            // duckduckgo\n",
    "            '|//input[contains(@id, \"search\")]/@value'\n",
    "            +\n",
    "            // yandex\n",
    "            '|//input[contains(@aria-label, \"Request\")]/@value',\n",
    "            results: [\n",
    "                '//h3|//h2|div[contains(@class, \"title\")]'\n",
    "                +\n",
    "                // ask\n",
    "                '|//*[contains(@class, \"item-title\")]',\n",
    "                {\n",
    "                    name: './/text()',\n",
    "                    summary: './/following-sibling::div//text()'\n",
    "                }\n",
    "            ]\n",
    "        })\n",
    "        .then(r => {\n",
    "            return {\n",
    "                url: url,\n",
    "                query: typeof r.query === 'string'\n",
    "                    ? r.query\n",
    "                    : r.query[0],\n",
    "                results: r.results.map(s => ({\n",
    "                    name: typeof s.name === 'string'\n",
    "                        ? s.name : s.name.join('\\n'),\n",
    "                    summary: typeof s.summary === 'string'\n",
    "                        ? s.summary : s.summary.join('\\n')\n",
    "                }))\n",
    "            };\n",
    "        })\n",
    "        .catch(e => {\n",
    "            console.log(e)\n",
    "            return {\n",
    "                url: url,\n",
    "                query: null,\n",
    "                results: []\n",
    "            }\n",
    "        })\n",
    "}\n",
    "module.exports = searchResultsToJson;\n"
   ]
  }
 ],
 "metadata": {
  "kernelspec": {
   "display_name": "Javascript (Node.js)",
   "language": "javascript",
   "name": "javascript"
  },
  "language_info": {
   "file_extension": ".js",
   "mimetype": "application/javascript",
   "name": "javascript",
   "version": "12.7.0"
  }
 },
 "nbformat": 4,
 "nbformat_minor": 2
}
