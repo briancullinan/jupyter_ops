{
 "cells": [
  {
   "cell_type": "markdown",
   "metadata": {},
   "source": [
    "convert notebook to open api?\n"
   ]
  },
  {
   "cell_type": "code",
   "execution_count": 5,
   "metadata": {},
   "outputs": [
    {
     "data": {
      "text/plain": [
       "[Function: getRpcFromCells]"
      ]
     },
     "execution_count": 5,
     "metadata": {},
     "output_type": "execute_result"
    }
   ],
   "source": [
    "var path = require('path');\n",
    "var importer = require('../Core');\n",
    "var getRpcFromSpec = importer.import('get rpc from spec');\n",
    "var getPermissions = importer.import('rpc permissions');\n",
    "var groupPermissions = importer.import('test rpc permissions');\n",
    "var addAST = importer.import('get all ast properties')\n",
    "var package = require('../package.json');\n",
    "\n",
    "// TODO: move this to patterns utility\n",
    "function getTail(path, ctx) {\n",
    "    var cur = path.split('.')[0];\n",
    "    if(!cur) return ctx;\n",
    "    if(typeof ctx[cur] === 'undefined') ctx[cur] = {};\n",
    "    return getTail(path.split('.').slice(1).join('.'), ctx[cur]);\n",
    "}\n",
    "\n",
    "function getPathId(cell) {\n",
    "    return path.relative('../', path.dirname(cell.filename)).replace(/\\//ig, '.resources.').toLowerCase();\n",
    "}\n",
    "\n",
    "function getRpcSpecFromCells(search) {\n",
    "    var functions = groupPermissions(['Function', 'Available'], search);\n",
    "    var resources = Object.keys(functions).reduce((obj, f) => {\n",
    "        var cell = addAST(importer.interpret(f));\n",
    "        var path = getPathId(cell);\n",
    "        if(path) path += '.resources.';\n",
    "        var notebook = cell.notebook.replace(/\\.ipynb|\\s+/ig, '').toLowerCase();\n",
    "        var fn = cell.params[0];\n",
    "        var tail = getTail(`${path}${notebook}`, obj);\n",
    "        if(typeof tail.methods === 'undefined') tail.methods = {};\n",
    "        tail.methods[fn] = {\n",
    "            description: cell.markdown,\n",
    "            scopes: functions[f],\n",
    "            id: `${package.name}.${path}${notebook}.${fn}`,\n",
    "            httpMethod: 'GET',\n",
    "            path: `?function=${cell.questions[0]}`,\n",
    "            parameters: cell.params.slice(1).reduce((o, p) => (o[p] = {\n",
    "                type: 'string',\n",
    "                location: 'query',\n",
    "                required: true,\n",
    "                description: ''\n",
    "            }, o), {})\n",
    "        };\n",
    "        return obj;\n",
    "    }, {});\n",
    "    return {\n",
    "        title: 'Jupyter Ops',\n",
    "        name: package.name,\n",
    "        description: package.description,\n",
    "        protocol: 'rest',\n",
    "        baseUrl: process.env.FUNCTIONS_URL,\n",
    "        resources: resources,\n",
    "        auth: {},\n",
    "        schemas: {},\n",
    "        parameters: {}\n",
    "    }\n",
    "}\n",
    "\n",
    "module.exports = getRpcSpecFromCells;\n"
   ]
  },
  {
   "cell_type": "markdown",
   "metadata": {},
   "source": [
    "test convert notebook api?\n"
   ]
  },
  {
   "cell_type": "code",
   "execution_count": 11,
   "metadata": {},
   "outputs": [
    {
     "name": "stdout",
     "output_type": "stream",
     "text": [
      "reading notebook /Users/briancullinan/jupyter_ops/Cloud Services/rpc.ipynb\n",
      "compiling /Users/briancullinan/jupyter_ops/Cloud Services/rpc.ipynb[8] aka get rpc from spec\n",
      "reading notebook /Users/briancullinan/jupyter_ops/Cloud Services/rpc.ipynb\n",
      "compiling /Users/briancullinan/jupyter_ops/Cloud Services/rpc.ipynb[7] aka get environment\n",
      "reading notebook /Users/briancullinan/jupyter_ops/Cloud Services/rpc.ipynb\n",
      "compiling /Users/briancullinan/jupyter_ops/Cloud Services/rpc.ipynb[3] aka test get permissions\n",
      "reading notebook /Users/briancullinan/jupyter_ops/Cloud Services/rpc.ipynb\n",
      "compiling /Users/briancullinan/jupyter_ops/Cloud Services/rpc.ipynb[2] aka rpc permissions\n",
      "reading notebook /Users/briancullinan/jupyter_ops/Cloud Services/rpc.ipynb\n",
      "compiling /Users/briancullinan/jupyter_ops/Cloud Services/rpc.ipynb[1] aka get cell rpc groups\n",
      "reading notebook /Users/briancullinan/jupyter_ops/Cloud Services/rpc.ipynb\n",
      "compiling /Users/briancullinan/jupyter_ops/Cloud Services/rpc.ipynb[0] aka rpc groups\n",
      "{ title: 'Jupyter Ops',\n",
      "  name: 'jupyter_ops',\n",
      "  description: 'Automation Notebooks in Jupyter',\n",
      "  protocol: 'rest',\n",
      "  baseUrl: 'http://localhost:8010/sheet-to-web/us-central1/studyRPC',\n",
      "  resources: { marketing: { resources: [Object] } },\n",
      "  auth: {},\n",
      "  schemas: {},\n",
      "  parameters: {} }\n",
      "{ marketing:\n",
      "   { studysauce:\n",
      "      { copyStudy: [Function: bound assignAndRequest],\n",
      "        renderCards: [Function: bound assignAndRequest],\n",
      "        authorizeProfile: [Function: bound assignAndRequest],\n",
      "        extractProfile: [Function: bound assignAndRequest],\n",
      "        renderUser: [Function: bound assignAndRequest] } } }\n"
     ]
    },
    {
     "ename": "TypeError",
     "evalue": "Cannot read property 'getPermissions' of undefined",
     "output_type": "error",
     "traceback": [
      "evalmachine.<anonymous>:15",
      "    juypter_ops.rpc.getPermissions({search: null})",
      "                    ^",
      "",
      "TypeError: Cannot read property 'getPermissions' of undefined",
      "    at evalmachine.<anonymous>:15:21",
      "    at Script.runInThisContext (vm.js:122:20)",
      "    at Object.runInThisContext (vm.js:329:38)",
      "    at run ([eval]:1002:15)",
      "    at onRunRequest ([eval]:829:18)",
      "    at onMessage ([eval]:789:13)",
      "    at process.emit (events.js:198:13)",
      "    at emit (internal/child_process.js:832:12)",
      "    at process._tickCallback (internal/process/next_tick.js:63:19)"
     ]
    }
   ],
   "source": [
    "var importer = require('../Core');\n",
    "var getRpcSpecFromCells = importer.import('convert notebook to open api');\n",
    "var getRpcFromSpec = importer.import('get rpc from spec');\n",
    "var getEnvironment = importer.import('get environment');\n",
    "var groupPermissions = importer.import('test get permissions');\n",
    "getEnvironment('STUDY_LOCAL')\n",
    "\n",
    "if(typeof $$ !== 'undefined') {\n",
    "    $$.async()\n",
    "    var spec = getRpcSpecFromCells('study sauce.ipynb');\n",
    "    console.log(spec);\n",
    "    var juypter_ops = getRpcFromSpec(spec);\n",
    "    console.log(juypter_ops);\n",
    "//    juypter_ops.rpc.getPermissions({search: null})\n",
    "    juypter_ops.rpc.getPermissions({search: null})\n",
    "        .then(r => $$.sendResult(r))\n",
    "        .catch(e => $$.sendError(e))\n",
    "}\n"
   ]
  },
  {
   "cell_type": "markdown",
   "metadata": {},
   "source": [
    "convert google discovery to documentation?\n",
    "\n",
    "https://developers.google.com/apis-explorer/#s/discovery/v1/discovery.apis.getRest?api=discovery&version=v1&_h=2&\n",
    "\n",
    "https://www.googleapis.com/discovery/v1/apis/discovery/v1/rest\n",
    "\n",
    "https://developers.google.com/apis-explorer/#p/discovery/v1/discovery.apis.list?_h=1&\n",
    "\n",
    "\n"
   ]
  },
  {
   "cell_type": "code",
   "execution_count": null,
   "metadata": {},
   "outputs": [],
   "source": []
  },
  {
   "cell_type": "markdown",
   "metadata": {},
   "source": [
    "discover well-known apis?\n",
    "\n",
    "TODO: figure out how OpenAPI, Swagger RAML do this, Google's is obvious\n",
    "\n",
    "https://tools.ietf.org/html/rfc5785\n"
   ]
  },
  {
   "cell_type": "code",
   "execution_count": null,
   "metadata": {},
   "outputs": [],
   "source": []
  }
 ],
 "metadata": {
  "kernelspec": {
   "display_name": "Javascript (Node.js)",
   "language": "javascript",
   "name": "javascript"
  },
  "language_info": {
   "file_extension": ".js",
   "mimetype": "application/javascript",
   "name": "javascript",
   "version": "10.16.0"
  }
 },
 "nbformat": 4,
 "nbformat_minor": 2
}
