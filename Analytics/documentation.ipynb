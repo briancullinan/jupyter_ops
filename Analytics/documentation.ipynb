{
 "cells": [
  {
   "cell_type": "markdown",
   "metadata": {},
   "source": [
    "convert notebook to documentation?\n"
   ]
  },
  {
   "cell_type": "code",
   "execution_count": 5,
   "metadata": {},
   "outputs": [
    {
     "data": {
      "text/plain": [
       "[Function: getRpcFromCells]"
      ]
     },
     "execution_count": 5,
     "metadata": {},
     "output_type": "execute_result"
    }
   ],
   "source": [
    "var importer = require('../Core');\n",
    "var getRpcFromSpec = importer.import('get rpc from spec');\n",
    "var getPermissions = importer.import('rpc permissions');\n",
    "var groupPermissions = importer.import('test rpc permissions');\n",
    "var addAST = importer.import('get all ast properties')\n",
    "\n",
    "function getRpcFromCells() {\n",
    "    var functions = groupPermissions(['Function']);\n",
    "    var resources = Object.keys(functions).reduce((obj, f) => {\n",
    "        var cell = addAST(importer.interpret(f));\n",
    "        var notebook = cell.notebook.replace(/\\.ipynb|\\s+/ig, '').toLowerCase();\n",
    "        if(typeof obj[notebook] === 'undefined') obj[notebook] = {methods: {}};\n",
    "        obj[notebook].methods[cell.params[0]] = {\n",
    "            description: cell.markdown,\n",
    "            scopes: functions[f],\n",
    "            id: `jupyter_ops.${notebook}.${cell.params[0]}`,\n",
    "            httpMethod: 'GET',\n",
    "            path: `?function=${cell.params[0]}`,\n",
    "            parameters: cell.params.slice(1).reduce((o, p) => (o[p] = {\n",
    "                type: 'string',\n",
    "                location: 'query',\n",
    "                required: true,\n",
    "                description: ''\n",
    "            }, o), {})\n",
    "        };\n",
    "        return obj;\n",
    "    }, {});\n",
    "    return {\n",
    "        title: 'Jupyter Ops',\n",
    "        name: 'jupyter_ops',\n",
    "        description: 'Automation notebooks in Jupyter',\n",
    "        protocol: 'rest',\n",
    "        baseUrl: process.env.FUNCTIONS_URL,\n",
    "        resources: resources,\n",
    "        auth: [],\n",
    "        schemas: [],\n",
    "        parameters: {}\n",
    "    }\n",
    "}\n",
    "\n",
    "module.exports = getRpcFromCells;\n"
   ]
  },
  {
   "cell_type": "markdown",
   "metadata": {},
   "source": [
    "test convert notebook documentation?\n"
   ]
  },
  {
   "cell_type": "code",
   "execution_count": null,
   "metadata": {},
   "outputs": [
    {
     "name": "stdout",
     "output_type": "stream",
     "text": [
      "reading notebook /Users/briancullinan/jupyter_ops/Cloud Services/rpc.ipynb\n",
      "compiling /Users/briancullinan/jupyter_ops/Cloud Services/rpc.ipynb[8] aka get rpc from spec\n",
      "reading notebook /Users/briancullinan/jupyter_ops/Cloud Services/rpc.ipynb\n",
      "compiling /Users/briancullinan/jupyter_ops/Cloud Services/rpc.ipynb[7] aka get environment\n",
      "reading notebook /Users/briancullinan/jupyter_ops/Cloud Services/rpc.ipynb\n",
      "{}\n",
      "requesting http://localhost:8010/sheet-to-web/us-central1/studyRPC?function=copyStudy {\"function\":\"copyStudy\"}\n"
     ]
    }
   ],
   "source": [
    "var importer = require('../Core');\n",
    "var getRpcFromCells = importer.import('convert notebook to documentation');\n",
    "var getRpcFromSpec = importer.import('get rpc from spec');\n",
    "var getEnvironment = importer.import('get environment');\n",
    "getEnvironment('STUDY_LOCAL')\n",
    "\n",
    "if(typeof $$ !== 'undefined') {\n",
    "    $$.async()\n",
    "    var juypter_ops = getRpcFromSpec(getRpcFromCells());\n",
    "    juypter_ops.studysauce.copyStudy({email: 'megamindbrian@gmail.com'})\n",
    "        .then(r => $$.sendResult(r))\n",
    "        .catch(e => $$.sendError(e))\n",
    "}\n"
   ]
  },
  {
   "cell_type": "markdown",
   "metadata": {},
   "source": [
    "convert google discovery to documentation?\n",
    "\n",
    "https://developers.google.com/apis-explorer/#s/discovery/v1/discovery.apis.getRest?api=discovery&version=v1&_h=2&\n",
    "\n",
    "https://www.googleapis.com/discovery/v1/apis/discovery/v1/rest\n",
    "\n",
    "https://developers.google.com/apis-explorer/#p/discovery/v1/discovery.apis.list?_h=1&\n",
    "\n",
    "\n"
   ]
  },
  {
   "cell_type": "code",
   "execution_count": null,
   "metadata": {},
   "outputs": [],
   "source": []
  },
  {
   "cell_type": "markdown",
   "metadata": {},
   "source": [
    "discover well-known apis?\n",
    "\n",
    "TODO: figure out how OpenAPI, Swagger RAML do this, Google's is obvious\n",
    "\n",
    "https://tools.ietf.org/html/rfc5785\n"
   ]
  },
  {
   "cell_type": "code",
   "execution_count": null,
   "metadata": {},
   "outputs": [],
   "source": []
  }
 ],
 "metadata": {
  "kernelspec": {
   "display_name": "Javascript (Node.js)",
   "language": "javascript",
   "name": "javascript"
  },
  "language_info": {
   "file_extension": ".js",
   "mimetype": "application/javascript",
   "name": "javascript",
   "version": "10.16.0"
  }
 },
 "nbformat": 4,
 "nbformat_minor": 2
}
