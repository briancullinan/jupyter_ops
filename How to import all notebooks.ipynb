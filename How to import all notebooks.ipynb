{
  "cells": [
    {
      "cell_type": "markdown",
      "source": [
        "How to find all the notebooks and files?\n",
        "\n",
        "How to get markdown from all notebooks in {directory}?\n",
        "\n",
        "How to import all notebooks?\n",
        "\n"
      ],
      "metadata": {}
    },
    {
      "cell_type": "code",
      "source": [
        "var importNotebook = require('./').importNotebook;\n",
        "var walkSync = (d, depth) => [];\n",
        "\n",
        "try {\n",
        "    //var notebooks = walkSync('How to*.ipynb', 1);\n",
        "    var notebooks = ['How to interpret questions.ipynb'];\n",
        "    var interpretNotebook; var interpretMarkdown;\n",
        "    var interpret;\n",
        "    $$.async();\n",
        "    importNotebook(notebooks[0])\n",
        "        .then((results) => {\n",
        "            interpretNotebook = results['interpretNotebook'];\n",
        "            //interpretMarkdown = results['interpretMarkdown'];\n",
        "            interpret = results['interpret'];\n",
        "            return interpretNotebook(notebooks[0]);\n",
        "        })\n",
        "        .then((cache) => {\n",
        "            return Promise.all([\n",
        "                interpret('import notebook'),\n",
        "            ]);\n",
        "        })\n",
        "        .then(results => {\n",
        "            return interpretMarkdown(results);\n",
        "        })\n",
        "        .then(results => {\n",
        "            console.log(results);\n",
        "            $$.mime(results['values'][0]);\n",
        "        })\n",
        "        .catch(e => $$.sendError(e));\n",
        "}catch(e) {$$.sendError(e)}\n",
        "/*\n",
        "Promise.all(notebooks.map((n) => interpretNotebook(n)))\n",
        "    .then((cache) => Promise.resolve([\n",
        "        interpret('import notebook'),\n",
        "        interpret('interpret markdown')\n",
        "    ])).then(results => {\n",
        "        var output = interpretMarkdown(results);\n",
        "        $$.mime({'text/markdown' : output});\n",
        "    }).catch(e => $$.sendError(e));\n",
        "console.log(notebooks);\n",
        "*/"
      ],
      "outputs": [
        {
          "output_type": "stream",
          "name": "stdout",
          "text": [
            "$$.async(); Promise.resolve(interpretNotebook.apply(this,[\"How to interpret questions.ipynb\",null,null,null,null])).then(r => {console.log(r); return $$.mime({\"text/json\": r})});\n",
            "$$.async(); Promise.resolve(interpret.apply(this,[\"import notebook\",null,null,null,null])).then(r => {console.log(r); return $$.mime({\"text/json\": r})});\n"
          ]
        },
        {
          "output_type": "error",
          "ename": "TypeError",
          "evalue": "Cannot read property '0' of undefined",
          "traceback": [
            "TypeError: Cannot read property '0' of undefined",
            "    at importNotebook.then.then.then.results (evalmachine.<anonymous>:23:58)",
            "    at process._tickCallback (internal/process/next_tick.js:103:7)"
          ]
        }
      ],
      "execution_count": 1,
      "metadata": {
        "collapsed": false,
        "outputHidden": false,
        "inputHidden": false
      }
    },
    {
      "cell_type": "markdown",
      "source": [
        "How to search all directories?"
      ],
      "metadata": {}
    },
    {
      "cell_type": "code",
      "source": [
        "// How to flatten and array in javascript?\n",
        "var flatten = arr => arr.reduce((acc, val) => \n",
        "      acc.concat(Array.isArray(val) ? flatten(val) : val), []);\n",
        "\n",
        "Array.prototype.flatten = function() {return flatten(this)};\n",
        "\n",
        "// How to escape a string for regex?\n",
        "function escapeRegExp(str) {\n",
        "  return str.replace(/[\\-\\[\\]\\/\\{\\}\\(\\)\\*\\+\\?\\.\\\\\\^\\$\\|]/g, \"\\\\$&\");\n",
        "}\n",
        "\n",
        "// How to walk directories and files recursively and synchronously\n",
        "(walkSync = (d, depth) => {\n",
        "    var file = path.basename(d).split('*')\n",
        "        .map(f => escapeRegExp(f)).join('[^/]*');\n",
        "    var reg = new RegExp(file, 'ig');\n",
        "    var dir = path.dirname(path.resolve(d));\n",
        "    return flatten(fs.readdirSync(dir)\n",
        "    .filter(file => path.join(dir, file).match(reg))\n",
        "    .map(file => fs.statSync(path.join(dir, file)).isDirectory()\n",
        "         && depth > 0\n",
        "        ? walkSync(path.join(dir, file), depth - 1)\n",
        "        : path.join(dir, file).replace(/\\\\/g, '/')));\n",
        "});\n",
        "(walkSync);\n"
      ],
      "outputs": [],
      "execution_count": 2,
      "metadata": {
        "collapsed": false,
        "outputHidden": false,
        "inputHidden": false
      }
    },
    {
      "cell_type": "markdown",
      "source": [],
      "metadata": {}
    },
    {
      "cell_type": "code",
      "source": [
        "// TODO: function called intend() that errors out if there is not only 1 match with all supplied parameters, must specify the result in the index to not get this error.\n"
      ],
      "outputs": [],
      "execution_count": null,
      "metadata": {
        "collapsed": false,
        "outputHidden": false,
        "inputHidden": false
      }
    }
  ],
  "metadata": {
    "kernelspec": {
      "name": "node_nteract",
      "language": "javascript",
      "display_name": "Node.js (nteract)"
    },
    "kernel_info": {
      "name": "node_nteract"
    },
    "language_info": {
      "name": "javascript",
      "version": "6.5.0",
      "mimetype": "application/javascript",
      "file_extension": ".js"
    }
  },
  "nbformat": 4,
  "nbformat_minor": 4
}