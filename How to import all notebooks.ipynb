{
  "cells": [
    {
      "cell_type": "markdown",
      "source": [
        "How to find all the notebooks and files?\n",
        "\n",
        "How to get markdown from all notebooks in {directory}?\n",
        "\n",
        "How to import all notebooks?\n",
        "\n"
      ],
      "metadata": {}
    },
    {
      "cell_type": "code",
      "source": [
        "var importNotebook = require('./').importNotebook;\n",
        "var walkSync = (d, depth) => [];\n",
        "\n",
        "try {\n",
        "    //var notebooks = walkSync('How to*.ipynb', 1);\n",
        "    var notebooks = ['How to interpret questions.ipynb'];\n",
        "    var interpretNotebook; var interpretMarkdown;\n",
        "    var interpret;\n",
        "    $$.async();\n",
        "    importNotebook(notebooks[0])\n",
        "        .then((results) => {\n",
        "            interpretNotebook = results['interpretNotebook'];\n",
        "            //interpretMarkdown = results['interpretMarkdown'];\n",
        "            interpret = results['interpret'];\n",
        "            return interpretNotebook(notebooks[0]);\n",
        "        })\n",
        "        .then((cache) => {\n",
        "            return Promise.all([\n",
        "                interpret('import notebook'),\n",
        "            ]);\n",
        "        })\n",
        "        .then(results => {\n",
        "            return interpretMarkdown(results);\n",
        "        })\n",
        "        .then(results => {\n",
        "            $$.mime({'text/markdown' : results});\n",
        "        })\n",
        "        .catch(e => $$.sendError(e));\n",
        "}catch(e) {$$.sendError(e)}\n",
        "/*\n",
        "Promise.all(notebooks.map((n) => interpretNotebook(n)))\n",
        "    .then((cache) => Promise.resolve([\n",
        "        interpret('import notebook'),\n",
        "        interpret('interpret markdown')\n",
        "    ])).then(results => {\n",
        "        var output = interpretMarkdown(results);\n",
        "        $$.mime({'text/markdown' : output});\n",
        "    }).catch(e => $$.sendError(e));\n",
        "console.log(notebooks);\n",
        "*/"
      ],
      "outputs": [
        {
          "output_type": "execute_result",
          "execution_count": 1,
          "data": {
            "text/markdown": [
              "\n\n\n",
              "5 matches found: How to find answers.ipynb[6] , How to interpret questions.ipynb[2] , How to find answers.ipynb[0] , How to interpret questions.ipynb[0] , How to interpret questions.ipynb[0]\n",
              "\n\n\n\n\n",
              "How to import a {notebook}?\n",
              "\n",
              "How to test the import feature?\n",
              "\n\n",
              "```\n",
              "\n\n",
              "// initialize\n",
              "// What does import return?\n",
              "imported['How to find answers.ipynb'] = Promise.resolve({\n",
              "    'How to find answers.ipynb[0]': importNotebook,\n",
              "    'How to find answers.ipynb[1]': getCells\n",
              "});\n",
              "\n",
              "// How to test if a notebook has already been imported?\n",
              "var oldImport = importNotebook;\n",
              "(importNotebook = (notebook) => {\n",
              "    var filename = path.basename(notebook);\n",
              "    if(typeof notebook === 'undefined') {\n",
              "        return Promise.resolve({});\n",
              "    }\n",
              "    if (typeof imported[filename] !== 'undefined') {\n",
              "        console.log('Already imported');\n",
              "        console.log(Object.keys(imported));\n",
              "        return imported[filename];\n",
              "    }\n",
              "    return oldImport(notebook);\n",
              "});\n",
              "\n",
              "// $$.done() for our dumb parser\n",
              "\n\n",
              "```\n",
              "\n\n"
            ]
          },
          "metadata": {}
        }
      ],
      "execution_count": 1,
      "metadata": {
        "collapsed": false,
        "outputHidden": false,
        "inputHidden": false
      }
    },
    {
      "cell_type": "markdown",
      "source": [
        "How to search all directories?"
      ],
      "metadata": {}
    },
    {
      "cell_type": "code",
      "source": [
        "// How to flatten and array in javascript?\n",
        "var flatten = arr => arr.reduce((acc, val) => \n",
        "      acc.concat(Array.isArray(val) ? flatten(val) : val), []);\n",
        "\n",
        "Array.prototype.flatten = function() {return flatten(this)};\n",
        "\n",
        "// How to escape a string for regex?\n",
        "function escapeRegExp(str) {\n",
        "  return str.replace(/[\\-\\[\\]\\/\\{\\}\\(\\)\\*\\+\\?\\.\\\\\\^\\$\\|]/g, \"\\\\$&\");\n",
        "}\n",
        "\n",
        "// How to walk directories and files recursively and synchronously\n",
        "(walkSync = (d, depth) => {\n",
        "    var file = path.basename(d).split('*')\n",
        "        .map(f => escapeRegExp(f)).join('[^/]*');\n",
        "    var reg = new RegExp(file, 'ig');\n",
        "    var dir = path.dirname(path.resolve(d));\n",
        "    return flatten(fs.readdirSync(dir)\n",
        "    .filter(file => path.join(dir, file).match(reg))\n",
        "    .map(file => fs.statSync(path.join(dir, file)).isDirectory()\n",
        "         && depth > 0\n",
        "        ? walkSync(path.join(dir, file), depth - 1)\n",
        "        : path.join(dir, file).replace(/\\\\/g, '/')));\n",
        "});\n",
        "(walkSync);\n"
      ],
      "outputs": [],
      "execution_count": 2,
      "metadata": {
        "collapsed": false,
        "outputHidden": false,
        "inputHidden": false
      }
    },
    {
      "cell_type": "markdown",
      "source": [],
      "metadata": {}
    },
    {
      "cell_type": "code",
      "source": [
        "// TODO: function called intend() that errors out if there is not only 1 match with all supplied parameters, must specify the result in the index to not get this error.\n"
      ],
      "outputs": [],
      "execution_count": null,
      "metadata": {
        "collapsed": false,
        "outputHidden": false,
        "inputHidden": false
      }
    }
  ],
  "metadata": {
    "kernelspec": {
      "name": "node_nteract",
      "language": "javascript",
      "display_name": "Node.js (nteract)"
    },
    "kernel_info": {
      "name": "node_nteract"
    },
    "language_info": {
      "name": "javascript",
      "version": "6.5.0",
      "mimetype": "application/javascript",
      "file_extension": ".js"
    }
  },
  "nbformat": 4,
  "nbformat_minor": 4
}