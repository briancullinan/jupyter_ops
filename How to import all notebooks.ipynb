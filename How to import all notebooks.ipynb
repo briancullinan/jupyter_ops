{
  "cells": [
    {
      "cell_type": "markdown",
      "source": [
        "How to find all the notebooks and files?\n",
        "\n",
        "How to get markdown from all notebooks in {directory}?\n",
        "\n",
        "How to import all notebooks?\n",
        "\n"
      ],
      "metadata": {}
    },
    {
      "cell_type": "code",
      "source": [
        "var importNotebook = require('./').importNotebook;\n",
        "var walkSync = (d, depth) => [];\n",
        "\n",
        "var notebook = 'How to interpret questions.ipynb';\n",
        "$$.async();\n",
        "importNotebook(notebook)\n",
        "    .then(() => interpretNotebook(notebook))\n",
        "    .then(() => Promise.all([interpret('import notebook')]))\n",
        "    .then((r) => interpretMarkdown(r))\n",
        "    .then((r) => $$.mime({'text/markdown' : r}))\n",
        "    .catch(e => $$.sendError(e));\n"
      ],
      "outputs": [
        {
          "output_type": "execute_result",
          "execution_count": 1,
          "data": {
            "text/markdown": [
              "\n\n\n",
              "5 matches found: How to find answers.ipynb[6] , How to interpret questions.ipynb[2] , How to find answers.ipynb[0] , How to interpret questions.ipynb[0] , How to interpret questions.ipynb[0]\n",
              "\n\n\n\n\n",
              "How to import a {notebook}?\n",
              "\n",
              "How to test the import feature?\n",
              "\n\n",
              "```\n",
              "\n\n",
              "// initialize\n",
              "// What does import return?\n",
              "imported['How to find answers.ipynb'] = Promise.resolve({\n",
              "    'How to find answers.ipynb[0]': importNotebook,\n",
              "    'How to find answers.ipynb[1]': getCells\n",
              "});\n",
              "\n",
              "// How to test if a notebook has already been imported?\n",
              "var oldImport = importNotebook;\n",
              "(importNotebook = (notebook) => {\n",
              "    var filename = path.basename(notebook);\n",
              "    if(typeof notebook === 'undefined') {\n",
              "        return Promise.resolve({});\n",
              "    }\n",
              "    if (typeof imported[filename] !== 'undefined') {\n",
              "        console.log('Already imported');\n",
              "        console.log(Object.keys(imported));\n",
              "        return imported[filename];\n",
              "    }\n",
              "    return oldImport(notebook);\n",
              "});\n",
              "\n",
              "// $$.done() for our dumb parser\n",
              "\n\n",
              "```\n",
              "\n\n"
            ]
          },
          "metadata": {}
        }
      ],
      "execution_count": 1,
      "metadata": {
        "collapsed": false,
        "outputHidden": false,
        "inputHidden": false
      }
    },
    {
      "cell_type": "markdown",
      "source": [
        "How to search all directories?"
      ],
      "metadata": {}
    },
    {
      "cell_type": "code",
      "source": [
        "// How to flatten and array in javascript?\n",
        "var flatten = arr => arr.reduce((acc, val) => \n",
        "      acc.concat(Array.isArray(val) ? flatten(val) : val), []);\n",
        "\n",
        "Array.prototype.flatten = function() {return flatten(this)};\n",
        "\n",
        "// How to escape a string for regex?\n",
        "function escapeRegExp(str) {\n",
        "  return str.replace(/[\\-\\[\\]\\/\\{\\}\\(\\)\\*\\+\\?\\.\\\\\\^\\$\\|]/g, \"\\\\$&\");\n",
        "}\n",
        "\n",
        "// How to walk directories and files recursively and synchronously\n",
        "(walkSync = (d, depth) => {\n",
        "    var file = path.basename(d).split('*')\n",
        "        .map(f => escapeRegExp(f)).join('[^/]*');\n",
        "    var reg = new RegExp(file, 'ig');\n",
        "    var dir = path.dirname(path.resolve(d));\n",
        "    return flatten(fs.readdirSync(dir)\n",
        "    .filter(file => path.join(dir, file).match(reg))\n",
        "    .map(file => fs.statSync(path.join(dir, file)).isDirectory()\n",
        "         && depth > 0\n",
        "        ? walkSync(path.join(dir, file), depth - 1)\n",
        "        : path.join(dir, file).replace(/\\\\/g, '/')));\n",
        "});\n",
        "(walkSync);\n"
      ],
      "outputs": [
        {
          "output_type": "execute_result",
          "execution_count": 2,
          "data": {
            "text/plain": [
              "[Function: walkSync]"
            ]
          },
          "metadata": {}
        }
      ],
      "execution_count": 2,
      "metadata": {
        "collapsed": false,
        "outputHidden": false,
        "inputHidden": false
      }
    },
    {
      "cell_type": "code",
      "source": [
        "// TODO: function called intend() that errors out if there is not only 1 match with all supplied parameters, must specify the result in the index to not get this error.\n",
        "\n",
        "var notebooks = walkSync('How to*.ipynb', 1);\n",
        "$$.async();\n",
        "Promise.all(notebooks.map(n => interpretNotebook(n)))\n",
        "    .then(() => Promise.all([interpret('docker windows')]))\n",
        "    .then((r) => interpretMarkdown(r))\n",
        "    .then((r) => $$.mime({'text/markdown' : r}))\n",
        "    .catch(e => $$.sendError(e));\n"
      ],
      "outputs": [
        {
          "output_type": "execute_result",
          "execution_count": 6,
          "data": {
            "text/markdown": [
              "\n\n\n",
              "6 matches found: How to install Docker on Windows.ipynb[0] , How to install Docker on Mac.ipynb[0] , How to install Docker on Windows.ipynb[0] , How to install Docker on Mac.ipynb[1] , How to install Docker on Windows.ipynb[2] , How to install Docker on Mac.ipynb[0]\n",
              "\n\n\n\n\n",
              "# How to install Docker on Windows?\n",
              "\n",
              "[Download Docker](https://download.docker.com/win/stable/InstallDocker.msi)\n",
              "and install then skip to step 3.\n",
              "\n",
              "## 1\n",
              "\n",
              "Is Docker already installed?\n",
              "\n\n",
              "```\n",
              "\n\n",
              "$$.async();\n",
              "var exec = require('child_process').exec;\n",
              "var installed = false;\n",
              "var docker = exec('docker ps', function (err, stdout, stderr) {\n",
              "    if (stdout.indexOf('not found') > -1) {\n",
              "        $$.done('Docker not found, installing');\n",
              "    } else {\n",
              "        installed = true;\n",
              "        $$.done('Docker is already installed');\n",
              "    }\n",
              "});\n",
              "\n\n",
              "```\n",
              "\n\n"
            ]
          },
          "metadata": {}
        }
      ],
      "execution_count": 6,
      "metadata": {
        "collapsed": false,
        "outputHidden": false,
        "inputHidden": false
      }
    },
    {
      "cell_type": "code",
      "source": [],
      "outputs": [],
      "execution_count": 4,
      "metadata": {
        "collapsed": false,
        "outputHidden": false,
        "inputHidden": false
      }
    }
  ],
  "metadata": {
    "kernelspec": {
      "name": "node_nteract",
      "language": "javascript",
      "display_name": "Node.js (nteract)"
    },
    "kernel_info": {
      "name": "node_nteract"
    },
    "language_info": {
      "name": "javascript",
      "version": "6.5.0",
      "mimetype": "application/javascript",
      "file_extension": ".js"
    }
  },
  "nbformat": 4,
  "nbformat_minor": 4
}