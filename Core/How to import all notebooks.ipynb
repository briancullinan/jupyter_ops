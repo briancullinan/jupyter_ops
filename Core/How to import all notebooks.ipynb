{
  "cells": [
    {
      "cell_type": "markdown",
      "source": [
        "How to find all the notebooks and files?\n",
        "\n",
        "How to get markdown from all notebooks in {directory}?\n",
        "\n"
      ],
      "metadata": {}
    },
    {
      "cell_type": "code",
      "source": [
        "var path = require('path');\n",
        "var walkSync = (d, depth) => [];\n",
        "\n",
        "$$.async();\n",
        "promise.then(() => interpretNotebook(notebook))\n",
        "    .then(() => Promise.all([interpret('import notebook')]))\n",
        "    .then((r) => interpretMarkdown(r))\n",
        "    .then((r) => $$.mime({'text/markdown' : r}))\n",
        "    .catch(e => $$.sendError(e));\n"
      ],
      "outputs": [],
      "execution_count": 1,
      "metadata": {
        "collapsed": false,
        "outputHidden": false,
        "inputHidden": false
      }
    },
    {
      "cell_type": "markdown",
      "source": [
        "How to search all directories?"
      ],
      "metadata": {}
    },
    {
      "cell_type": "code",
      "source": [
        "// How to flatten and array in javascript?\n",
        "var flatten = arr => arr.reduce((acc, val) => \n",
        "      acc.concat(Array.isArray(val) ? flatten(val) : val), []);\n",
        "\n",
        "Array.prototype.flatten = function() {return flatten(this)};\n",
        "\n",
        "// How to escape a string for regex?\n",
        "function escapeRegExp(str) {\n",
        "  return str.replace(/[\\-\\[\\]\\/\\{\\}\\(\\)\\*\\+\\?\\.\\\\\\^\\$\\|]/g, \"\\\\$&\");\n",
        "}\n",
        "\n",
        "// How to walk directories and files recursively and synchronously\n",
        "(walkSync = (d, depth, reg) => {\n",
        "    if(typeof reg === 'undefined' || reg == null) {\n",
        "        reg = new RegExp(path.basename(d).split('*')\n",
        "            .map(f => escapeRegExp(f)).join('[^/]*'), 'ig');\n",
        "    }\n",
        "    var dir = path.resolve(d.split('*')[0]);\n",
        "    return flatten(fs.readdirSync(dir)\n",
        "    .map(file => fs.statSync(path.join(dir, file)).isDirectory()\n",
        "        ? depth > 0 && walkSync(path.join(dir, file), depth - 1, reg) || []\n",
        "        : path.join(dir, file).match(reg) !== null\n",
        "        && path.join(dir, file).replace(/\\\\/g, '/') || []));\n",
        "});\n",
        "(walkSync);\n"
      ],
      "outputs": [],
      "execution_count": 3,
      "metadata": {
        "collapsed": false,
        "outputHidden": false,
        "inputHidden": false
      }
    },
    {
      "cell_type": "code",
      "source": [
        "// TODO: function called intend() that errors out if there is not only 1 match with all supplied parameters, must specify the result in the index to not get this error.\n",
        "\n",
        "var notebooks = walkSync(path.join(__dirname, 'How to*.ipynb'), 1);\n",
        "$$.async();\n",
        "Promise.all(notebooks.map(n => interpretNotebook(n)))\n",
        "    .then(() => Promise.all([interpret('docker windows')]))\n",
        "    .then((r) => interpretMarkdown(r))\n",
        "    .then((r) => $$.mime({'text/markdown' : r}))\n",
        "    .catch(e => $$.sendError(e));\n"
      ],
      "outputs": [],
      "execution_count": 4,
      "metadata": {
        "collapsed": false,
        "outputHidden": false,
        "inputHidden": false
      }
    },
    {
      "cell_type": "code",
      "source": [],
      "outputs": [],
      "execution_count": 5,
      "metadata": {
        "collapsed": false,
        "outputHidden": false,
        "inputHidden": false
      }
    }
  ],
  "metadata": {
    "kernelspec": {
      "name": "node_nteract",
      "language": "javascript",
      "display_name": "Node.js (nteract)"
    },
    "kernel_info": {
      "name": "node_nteract"
    },
    "language_info": {
      "name": "javascript",
      "version": "6.5.0",
      "mimetype": "application/javascript",
      "file_extension": ".js"
    }
  },
  "nbformat": 4,
  "nbformat_minor": 4
}