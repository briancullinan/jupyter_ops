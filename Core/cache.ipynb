{
 "cells": [
  {
   "cell_type": "markdown",
   "metadata": {},
   "source": [
    "# cache\n",
    "\n",
    "Commands and population data for importing in to a database.\n",
    "\n",
    "Even M$ visual studio products have to cache symbols somewhere.\n",
    "\n",
    "I suppose this notebook should offline documentation too.\n"
   ]
  }
 ],
 "metadata": {
  "kernelspec": {
   "display_name": "Javascript (Node.js)",
   "language": "javascript",
   "name": "javascript"
  },
  "language_info": {
   "file_extension": ".js",
   "mimetype": "application/javascript",
   "name": "javascript",
   "version": "10.16.0"
  }
 },
 "nbformat": 4,
 "nbformat_minor": 2
}
