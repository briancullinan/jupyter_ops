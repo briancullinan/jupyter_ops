{
 "cells": [
  {
   "cell_type": "markdown",
   "metadata": {},
   "source": [
    "# cache\n",
    "\n",
    "Commands and population data for importing in to a database.\n",
    "\n",
    "Even M$ visual studio products have to cache symbols somewhere.\n",
    "\n",
    "I suppose this notebook should offline documentation too.\n",
    "\n",
    "Rules:\n",
    "\n",
    "- Cache functions and caches must be idempotent, calling the function multiple times with the same or different parameters will produce enjoyable results.\n",
    "- Calling functions without any parameters should result in the default cache updating procedure, run for some time, and then exit.\n",
    "- Caches stored in this notebook should be small, less than 1 MB each.\n",
    "- Caches should be uniquely indexed and sorted so it is easy to display when something changes.\n",
    "\n"
   ]
  },
  {
   "cell_type": "markdown",
   "metadata": {},
   "source": [
    "## notebook cache\n",
    "\n",
    "Information about the current library cached.\n"
   ]
  },
  {
   "cell_type": "markdown",
   "metadata": {},
   "source": [
    "### TODO: keyword index\n",
    "\n",
    "A cache of question marked sentences to use as keywords in looking up functions.\n",
    "\n",
    "TODO: look at media server caching techniques.\n"
   ]
  },
  {
   "cell_type": "code",
   "execution_count": null,
   "metadata": {},
   "outputs": [],
   "source": []
  },
  {
   "cell_type": "code",
   "execution_count": null,
   "metadata": {},
   "outputs": [],
   "source": []
  },
  {
   "cell_type": "markdown",
   "metadata": {},
   "source": [
    "### TODO: imports cache\n",
    "\n",
    "A cache of all imports in every cell, for making project trees.\n",
    "\n",
    "TODO: use this cache to detect when a module changes in import notebook.\n"
   ]
  },
  {
   "cell_type": "markdown",
   "metadata": {},
   "source": [
    "#### the cache\n",
    "\n",
    "imports cache?\n",
    "\n",
    "This code is automatically replaced with import code and stored in this notebook.\n"
   ]
  },
  {
   "cell_type": "code",
   "execution_count": null,
   "metadata": {},
   "outputs": [],
   "source": []
  },
  {
   "cell_type": "markdown",
   "metadata": {},
   "source": [
    "#### TODO: create import cache?\n",
    "\n"
   ]
  },
  {
   "cell_type": "code",
   "execution_count": null,
   "metadata": {},
   "outputs": [],
   "source": []
  },
  {
   "cell_type": "markdown",
   "metadata": {},
   "source": [
    "### exports cache\n",
    "\n",
    "A cache of all exports, no matter the language.\n"
   ]
  },
  {
   "cell_type": "markdown",
   "metadata": {},
   "source": [
    "#### the cache\n",
    "\n",
    "exports cache?\n",
    "\n",
    "This code is automatically replaced with export code and stored in this notebook.\n"
   ]
  },
  {
   "cell_type": "code",
   "execution_count": null,
   "metadata": {},
   "outputs": [],
   "source": [
    "\n",
    "// export cache automatically replaced\n",
    "var exportsCache = []\n",
    "\n",
    "module.exports = exportsCache\n",
    "\n"
   ]
  },
  {
   "cell_type": "markdown",
   "metadata": {},
   "source": [
    "#### update export cache?\n"
   ]
  },
  {
   "cell_type": "code",
   "execution_count": null,
   "metadata": {},
   "outputs": [],
   "source": [
    "var importer = require('../Core')\n",
    "var updateCode = importer.import('update code cell')\n",
    "\n",
    "function sortAlphaNumeric(a, b) {\n",
    "    // convert to strings and force lowercase\n",
    "    a = typeof a === 'string' ? a.toLowerCase() : a.toString();\n",
    "    b = typeof b === 'string' ? b.toLowerCase() : b.toString();\n",
    "\n",
    "    return a.localeCompare(b);\n",
    "}\n",
    "\n",
    "function cleanCache(exportsCache) {\n",
    "    var allCells = importer.interpret()\n",
    "    var cellIds = allCells.map(cell => cell.id)\n",
    "    \n",
    "    // clean up ids that exist in the index but not in memory\n",
    "    var extra = exportsCache.filter(e => cellIds.includes(e[1]))\n",
    "    extra.forEach(e => exportsCache.splice(cellIds.indexOf(e[1]), 1))\n",
    "    \n",
    "    exportsCache.sort((a, b) => {\n",
    "        return sortAlphaNumeric(a[1], b[1])\n",
    "    })\n",
    "}\n",
    "\n",
    "function updateNotebook(exports) {\n",
    "    // load current cache\n",
    "    var exportsCache = importer.import('exports cache')\n",
    "    var exportIds = exportsCache.map(e => e[1])\n",
    "    var cacheCell = importer.interpret('exports cache')\n",
    "    \n",
    "    // update with results from search\n",
    "    exports.forEach(e => {\n",
    "        var i = exportIds.indexOf(e[1])\n",
    "        if(i === -1) {\n",
    "            exportsCache.push(e)\n",
    "        } else {\n",
    "            exportsCache.splice(i, 1, e)\n",
    "        }\n",
    "    })\n",
    "    \n",
    "    cleanCache(exportsCache)\n",
    "    \n",
    "    var code = `\n",
    "// export cache automatically replaced\n",
    "var exportsCache = ${JSON.stringify(exportsCache, null, 4)}\n",
    "\n",
    "module.exports = exportsCache\n",
    "`\n",
    "    updateCode(cacheCell, code)\n",
    "}\n",
    "\n",
    "module.exports = updateNotebook;\n"
   ]
  },
  {
   "cell_type": "markdown",
   "metadata": {},
   "source": [
    "#### create export cache?\n",
    "\n",
    "TODO: generalize this so the database can be anywhere, not just a JSON notebook\n",
    "\n",
    "TODO: make this a demonstration of idempotence, it keeps loading files.ipynb\n",
    "\n",
    "TODO: sort and index in an Array instead of object with properties\n"
   ]
  },
  {
   "cell_type": "code",
   "execution_count": 1,
   "metadata": {},
   "outputs": [
    {
     "ename": "SyntaxError",
     "evalue": "Unexpected token ]",
     "output_type": "error",
     "traceback": [
      "evalmachine.<anonymous>:45",
      "    exportsCache.filter([mtime, id, exports] => {",
      "                                           ^",
      "",
      "SyntaxError: Unexpected token ]",
      "    at new Script (vm.js:83:7)",
      "    at createScript (vm.js:277:10)",
      "    at Object.runInThisContext (vm.js:329:10)",
      "    at run ([eval]:1002:15)",
      "    at onRunRequest ([eval]:829:18)",
      "    at onMessage ([eval]:789:13)",
      "    at process.emit (events.js:198:13)",
      "    at emit (internal/child_process.js:832:12)",
      "    at process._tickCallback (internal/process/next_tick.js:63:19)"
     ]
    }
   ],
   "source": [
    "var path = require('path')\n",
    "var assert = require('assert')\n",
    "var importer = require('../Core')\n",
    "var updateNotebook = importer.import('update export cache')\n",
    "var getExports = importer.import('get exports from source')\n",
    "\n",
    "function promiseExports(cell) {\n",
    "    return new Promise(resolve => {\n",
    "        setTimeout(() => {\n",
    "            var result\n",
    "            try {\n",
    "                if (process.memoryUsage().heapUsed > 500000000) {\n",
    "                    throw new Error('out of memory')\n",
    "                }\n",
    "                result = getExports(cell.code)\n",
    "            } catch (e) {\n",
    "                result = e.message\n",
    "            }\n",
    "            resolve([Date.now(), cell.id, result])\n",
    "        }, 100)\n",
    "    })\n",
    "}\n",
    "\n",
    "function createExportCache(search) {\n",
    "    var exportsCache = importer.import('exports cache')\n",
    "    var exportIds = exportsCache.map(e => e[1])\n",
    "    var allCells = importer.interpret()\n",
    "    var cellIds = allCells.map(cell => cell.id)\n",
    "    var notebooks = cellIds\n",
    "        .map(k => k.replace(/\\.ipynb\\[[0-9]+\\]$/ig, '.ipynb'))\n",
    "        .filter((f, i, arr) => arr.indexOf(f) === i)\n",
    "    \n",
    "    // add files that don't exist\n",
    "    var missing = notebooks.filter(n => !exportIds.includes(`${n}[0]`))\n",
    "    if(!search) {\n",
    "        search = missing.pop()\n",
    "    }\n",
    "    \n",
    "    // TODO: update any changed notebooks first\n",
    "    \n",
    "    // update the oldest record\n",
    "    if(!search) {\n",
    "        exportsCache.sort((a, b) => a[0] - b[0])\n",
    "        search = exportsCache[0]\n",
    "    }\n",
    "    \n",
    "    if(!search) {\n",
    "        throw new Error('nothing to do with notebook cache')\n",
    "    }\n",
    "    \n",
    "    var allCells = [].concat.apply([], importer.interpret(search))\n",
    "    var allCellIds = allCells.map(c => c.id)\n",
    "    console.log(`caching ${search} - ${allCells.length} cells`)\n",
    "    // get only first occurrence\n",
    "    allCells = allCells\n",
    "        .filter((c, i) => allCellIds.indexOf(c.id) == i)\n",
    "        .filter(c => c.code.length < 100000)\n",
    "\n",
    "    return Promise\n",
    "        .all(allCells.map(promiseExports))\n",
    "        .then(updateNotebook)\n",
    "}\n",
    "\n",
    "module.exports = createExportCache\n",
    "\n",
    "if(typeof $$ !== 'undefined') {\n",
    "    createExportCache()\n",
    "}\n"
   ]
  },
  {
   "cell_type": "markdown",
   "metadata": {},
   "source": [
    "#### TODO: cache every notebook in a seperate process?"
   ]
  },
  {
   "cell_type": "code",
   "execution_count": null,
   "metadata": {},
   "outputs": [],
   "source": [
    "\n",
    "\n"
   ]
  },
  {
   "cell_type": "markdown",
   "metadata": {},
   "source": [
    "### notebook cache tools\n",
    "\n",
    "Some tools for when to update the notebook cache.\n",
    "\n"
   ]
  },
  {
   "cell_type": "markdown",
   "metadata": {},
   "source": [
    "#### TODO: stale code\n",
    "\n",
    "Determine when to update a notebook. Handles the mtime property on cells.\n",
    "\n",
    "TODO: depends on import cache to build a tree of dependencies\n"
   ]
  },
  {
   "cell_type": "code",
   "execution_count": null,
   "metadata": {},
   "outputs": [],
   "source": []
  },
  {
   "cell_type": "markdown",
   "metadata": {
    "heading_collapsed": true
   },
   "source": [
    "#### update code cell?\n",
    "\n",
    "Find the code cell following the specified lookup markdown and update the contents.\n"
   ]
  },
  {
   "cell_type": "code",
   "execution_count": null,
   "metadata": {
    "hidden": true
   },
   "outputs": [],
   "source": [
    "var fs = require('fs')\n",
    "\n",
    "function updateCode(cell, code) {\n",
    "    var notebook = JSON.parse(fs.readFileSync(cell.filename))\n",
    "    var match = (/\\/\\/.*/ig).exec(code)[0]\n",
    "    \n",
    "    assert(match && match.length > 2,\n",
    "           `nothing to match, include a \"//\" comment`)\n",
    "    // replace code cell with new code\n",
    "    // make sure the cell if where the cache says\n",
    "    assert(notebook.cells[cell.to].source\n",
    "           .join('')\n",
    "           .includes(match),\n",
    "           `code cell \"${match}\" could not be located`)\n",
    "    \n",
    "    notebook.cells[cell.to].source = code.split('\\n')\n",
    "        .map(line => line + '\\n')\n",
    "    \n",
    "    fs.writeFileSync(cell.filename, JSON.stringify(notebook, null, 4))\n",
    "}\n",
    "\n",
    "module.exports = updateCode\n"
   ]
  },
  {
   "cell_type": "markdown",
   "metadata": {
    "heading_collapsed": true
   },
   "source": [
    "## TODO: bookmark cache\n",
    "\n",
    "Always wanted to write something like evernote to automatically pull in the content of pages I bookmark. Incognito mode on news sites to avoid payment. Ad block plugins installed.  Might as well make ad-blocked cached copies of every page I visit.\n",
    "\n",
    "\n"
   ]
  },
  {
   "cell_type": "code",
   "execution_count": null,
   "metadata": {
    "hidden": true
   },
   "outputs": [],
   "source": []
  },
  {
   "cell_type": "markdown",
   "metadata": {
    "heading_collapsed": true
   },
   "source": [
    "## TODO: documentation cache\n",
    "\n",
    "Tools for searching and downloading documention as it related to this library.\n",
    "\n"
   ]
  },
  {
   "cell_type": "code",
   "execution_count": null,
   "metadata": {
    "hidden": true
   },
   "outputs": [],
   "source": []
  }
 ],
 "metadata": {
  "kernelspec": {
   "display_name": "Javascript (Node.js)",
   "language": "javascript",
   "name": "javascript"
  },
  "language_info": {
   "file_extension": ".js",
   "mimetype": "application/javascript",
   "name": "javascript",
   "version": "10.16.0"
  }
 },
 "nbformat": 4,
 "nbformat_minor": 2
}
