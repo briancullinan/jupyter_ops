{
 "cells": [
  {
   "cell_type": "markdown",
   "metadata": {},
   "source": [
    "# cache\n",
    "\n",
    "Commands and population data for importing in to a database.\n",
    "\n",
    "Even M$ visual studio products have to cache symbols somewhere.\n",
    "\n",
    "I suppose this notebook should offline documentation too.\n"
   ]
  },
  {
   "cell_type": "markdown",
   "metadata": {},
   "source": [
    "## notebook cache\n",
    "\n",
    "Information about the current library cached.\n"
   ]
  },
  {
   "cell_type": "markdown",
   "metadata": {},
   "source": [
    "### imports cache\n",
    "\n",
    "A cache of all imports in every cell, for making project trees.\n",
    "\n",
    "TODO: use this cache to detect when a module changes in import notebook.\n"
   ]
  },
  {
   "cell_type": "markdown",
   "metadata": {},
   "source": [
    "#### the cache\n",
    "\n",
    "imports cache?\n",
    "\n",
    "This code is automatically replaced with import code and stored in this notebook.\n"
   ]
  },
  {
   "cell_type": "code",
   "execution_count": null,
   "metadata": {},
   "outputs": [],
   "source": []
  },
  {
   "cell_type": "markdown",
   "metadata": {},
   "source": [
    "#### TODO: create import cache?\n",
    "\n"
   ]
  },
  {
   "cell_type": "code",
   "execution_count": null,
   "metadata": {},
   "outputs": [],
   "source": []
  },
  {
   "cell_type": "markdown",
   "metadata": {},
   "source": [
    "### exports cache\n",
    "\n",
    "A cache of all exports, no matter the language.\n"
   ]
  },
  {
   "cell_type": "markdown",
   "metadata": {},
   "source": [
    "#### the cache\n",
    "\n",
    "exports cache?\n",
    "\n",
    "This code is automatically replaced with export code and stored in this notebook.\n"
   ]
  },
  {
   "cell_type": "code",
   "execution_count": null,
   "metadata": {},
   "outputs": [],
   "source": [
    "\n",
    "// export cache automatically replaced\n",
    "var exportsCache = {\"files.ipynb[0]\":[\"listInProject\"],\"files.ipynb[1]\":[\"ignores\"],\"files.ipynb[2]\":[\"listProjects\"],\"files.ipynb[3]\":[],\"files.ipynb[4]\":[\"mockTypescriptFs\"],\"files.ipynb[5]\":[\"projectWordCloud\",\"wordCount\"],\"files.ipynb[6]\":[\"projectTree\",\"icons\",\"wordCount\"],\"files.ipynb[7]\":[\"findSimilarFile\"],\"files.ipynb[8]\":[\"projectRelatives\",\"fixRelative\"],\"files.ipynb[9]\":[\"findLongFunctions\",\"matchCurlyBraces\"],\"files.ipynb[10]\":[],\"files.ipynb[11]\":[\"mkdirpSync\"],\"files.ipynb[12]\":[],\"files.ipynb[13]\":\"Line 1: Unexpected identifier\",\"audio.ipynb[0]\":[\"walkAudio\",\"selectAudio\"],\"budgeting.ipynb[0]\":[],\"calculations for life.ipynb[0]\":[],\"calculations for life.ipynb[1]\":[],\"calculations for life.ipynb[2]\":[],\"documentation.ipynb[0]\":[\"getRpcSpecFromCells\",\"getTail\",\"getPathId\"],\"documentation.ipynb[1]\":[],\"documentation.ipynb[2]\":[],\"documentation.ipynb[3]\":[],\"movie database.ipynb[0]\":[\"importSQL\",\"insertPrincipals\",\"insertTitles\",\"insertNames\"],\"movie database.ipynb[1]\":[\"getTitles\",\"getTitlesByName\",\"getActorsByTitles\",\"getActorTitlesIntersection\",\"getTitleTitleIntersection\",\"getExactName\",\"getExactTitle\",\"getTitle\"],\"movie database.ipynb[2]\":[\"dropTitles\"],\"movie database.ipynb[3]\":[],\"movie database.ipynb[4]\":[\"createTables\"],\"movie database.ipynb[5]\":[],\"reconcile timeline data.ipynb[0]\":[],\"resume.ipynb[0]\":[\"getCourseSVG\"],\"resume.ipynb[1]\":[],\"resume.ipynb[2]\":[],\"resume.ipynb[3]\":[],\"virtual worlds.ipynb[0]\":[],\"aws.ipynb[0]\":[\"handler\"],\"aws.ipynb[1]\":[\"latestS3\",\"getS3Objects\"],\"aws.ipynb[2]\":[],\"deploy host.ipynb[0]\":[\"deployAws\"],\"deploy host.ipynb[1]\":\"Line 1: Unexpected string\",\"deploy host.ipynb[2]\":[],\"deploy host.ipynb[3]\":\"Line 1: Unexpected string\",\"google cloud api.ipynb[0]\":[\"listUrlMaps\",\"listTargetProxies\",\"listGlobalForwards\",\"listBackendBuckets\",\"listSslCertificates\"],\"google cloud api.ipynb[1]\":[],\"google cloud api.ipynb[2]\":[\"waitForOperation\"],\"google cloud api.ipynb[3]\":[\"insertBackendBucket\",\"insertGlobalForward\",\"updateUrlMap\",\"safeName\",\"addSslCertificate\",\"insertSslCertificate\",\"addTargetHttpsProxy\",\"insertTargetHttpsProxy\",\"addGlobalForward\"],\"google cloud api.ipynb[4]\":[],\"google cloud api.ipynb[5]\":[],\"google cloud api.ipynb[6]\":[\"addIP\",\"safeName\",\"createZone\",\"insertAddress\"],\"google cloud api.ipynb[7]\":[],\"google cloud api.ipynb[8]\":[],\"google cloud api.ipynb[9]\":[\"authorizeGoogle\"],\"google cloud commands.ipynb[0]\":\"Line 1: Unexpected token [\",\"google cloud commands.ipynb[1]\":\"Line 1: Unexpected token [\",\"google cloud commands.ipynb[2]\":\"Line 1: Unexpected token ILLEGAL\",\"google cloud commands.ipynb[3]\":\"Line 1: Unexpected string\",\"google cloud commands.ipynb[4]\":\"Line 1: Unexpected identifier\",\"google rpc.ipynb[0]\":[\"rpc\",\"functions\",\"https\",\"onRequest\",\"req\",\"res\",\"process\",\"env\",\"HOME\",\"HOMEPATH\",\"USERPROFILE\",\"config\",\"services\",\"Object\",\"keys\",\"reduce\",\"k\",\"forEach\",\"s\",\"toUpperCase\",\"cors\",\"Promise\",\"resolve\",\"then\",\"getResult\",\"command\",\"body\",\"query\",\"result\",\"importer\",\"interpret\",\"method\",\"circles\",\"r\",\"getOwnPropertyNames\",\"alt\",\"key\",\"console\",\"error\",\"status\",\"send\",\"catch\",\"e\"],\"google rpc.ipynb[1]\":[\"handler\",\"expressHandler\"],\"google rpc.ipynb[2]\":[],\"google rpc.ipynb[3]\":[],\"google storage api.ipynb[0]\":[\"createBucket\",\"safeName\",\"setPublic\",\"listBuckets\",\"addBucket\"],\"google storage api.ipynb[1]\":[],\"google storage api.ipynb[2]\":[\"streamToOutput\"],\"google storage api.ipynb[3]\":[\"fetchOrStream\"],\"google storage api.ipynb[4]\":[\"streamToGoogle\"],\"google storage api.ipynb[5]\":[\"copyFileBucket\"],\"google storage api.ipynb[6]\":[],\"aspects.ipynb[0]\":[\"findSource\"],\"aspects.ipynb[1]\":[],\"aspects.ipynb[2]\":[],\"aspects.ipynb[3]\":[],\"aspects.ipynb[4]\":[],\"cache.ipynb[0]\":[],\"cache.ipynb[1]\":[],\"cache.ipynb[2]\":[\"exportsCache\"],\"cache.ipynb[3]\":[\"exportsCache\",\"e\",\"id\",\"cell\",\"getExports\",\"code\",\"message\",\"createExportCache\",\"updateNotebook\",\"promiseExports\"],\"cache.ipynb[4]\":[],\"cache.ipynb[5]\":[],\"cache.ipynb[6]\":[],\"compile.ipynb[0]\":[],\"compile.ipynb[1]\":[],\"compile.ipynb[2]\":[\"test\"],\"compile.ipynb[3]\":[],\"import.ipynb[0]\":[\"import\",\"importNotebook\",\"getCellsOrDirectory\"],\"import.ipynb[1]\":[\"streamJson\",\"walkJson\",\"selectJson\"],\"import.ipynb[2]\":[\"regexToArray\"],\"import.ipynb[3]\":[\"getCells\"],\"import.ipynb[4]\":[\"runAllPromises\"],\"import.ipynb[5]\":[\"interpret\"],\"import.ipynb[6]\":[\"tmpGlobal\",\"mod\",\"runInNewContext\",\"requireCode\"],\"import.ipynb[7]\":[\"cacheCells\",\"clearNotebook\",\"getQuestions\",\"accumulateMarkdown\"],\"import.ipynb[8]\":[\"interpretMarkdown\",\"resultMarkdown\"],\"import.ipynb[9]\":[\"fuseSearch\",\"doSearch\",\"getAllCells\",\"interpretObject\"],\"import.ipynb[10]\":[\"cacheAll\"],\"intent.ipynb[0]\":\"Line 2: Unexpected identifier\",\"intent.ipynb[1]\":\"Line 1: Unexpected identifier\",\"intent.ipynb[2]\":[],\"intent.ipynb[3]\":\"Line 1: Invalid left-hand side in assignment\",\"intent.ipynb[4]\":\"Line 1: Unexpected identifier\",\"intent.ipynb[5]\":\"Line 1: Unexpected identifier\",\"intent.ipynb[6]\":\"Line 1: Unexpected identifier\",\"intent.ipynb[7]\":[],\"kernels.ipynb[0]\":[\"jsonInterface\",\"wireJson\",\"pathJson\"],\"kernels.ipynb[1]\":[],\"kernels.ipynb[2]\":[\"pythonJson\",\"nodeJson\",\"notebookJson\",\"bashJson\",\"processingJson\"],\"kernels.ipynb[3]\":[\"languageInterface\"],\"kernels.ipynb[4]\":[\"kernelInfoInterface\",\"nativeKernelInfo\"],\"kernels.ipynb[5]\":\"Line 6: Unexpected token ...\",\"kernels.ipynb[6]\":[\"nativeMetaKernel\",\"reassignProperties\"],\"kernels.ipynb[7]\":[\"do_init\",\"do_is_complete\",\"do_message\",\"do_respond\",\"do_install\"],\"kernels.ipynb[8]\":[\"socketMetaKernel\",\"do_respond\",\"do_init\"],\"kernels.ipynb[9]\":[\"do_init\",\"do_shutdown\",\"do_message\",\"do_execute\",\"do_complete\",\"do_inspect\",\"do_history\",\"do_is_complete\",\"processMetaKernel\"],\"kernels.ipynb[10]\":[\"testProcessKernel\"],\"kernels.ipynb[11]\":[\"do_init\",\"do_respond\",\"replMetaKernal\"],\"kernels.ipynb[12]\":[\"testProcessKernel\",\"do_respond\"],\"kernels.ipynb[13]\":\"Line 5: Unexpected token ...\",\"kernels.ipynb[14]\":\"Line 4: Unexpected end of input\",\"kernels.ipynb[15]\":\"Line 10: Unexpected token :\",\"kernels.ipynb[16]\":[\"wireKernelInterface\",\"wireKernel\",\"addCB\"],\"kernels.ipynb[17]\":[\"wireMetaKernel\",\"do_execute\",\"do_display\",\"do_shutdown\",\"do_complete\",\"do_history\",\"do_is_complete\",\"do_inspect\"],\"kernels.ipynb[18]\":[\"nodeMetaKernel\",\"do_execute\",\"do_is_complete\",\"do_init\"],\"kernels.ipynb[19]\":[\"testNodeMetaKernel\"],\"kernels.ipynb[20]\":[\"nodeKernel\",\"getVersion\"],\"kernels.ipynb[21]\":[],\"kernels.ipynb[22]\":[],\"kernels.ipynb[23]\":[\"bashKernel\",\"bashLanguage\"],\"kernels.ipynb[24]\":[\"parseMessage\",\"collapseMessage\",\"hash\",\"json\"],\"kernels.ipynb[25]\":[\"setupSockets\",\"setupSocket\"],\"kernels.ipynb[26]\":[],\"kernels.ipynb[27]\":[],\"languages.ipynb[0]\":[],\"languages.ipynb[1]\":[],\"languages.ipynb[2]\":[\"transpile\",\"remove\",\"replace\"],\"languages.ipynb[3]\":[],\"languages.ipynb[4]\":[],\"languages.ipynb[5]\":[],\"languages.ipynb[6]\":[],\"languages.ipynb[7]\":[],\"languages.ipynb[8]\":\"Line 30: Unexpected quasi //*[contains(@type, \\\"Call\\\")\",\"languages.ipynb[9]\":[],\"languages.ipynb[10]\":\"Line 2: Unexpected token .\",\"languages.ipynb[11]\":[],\"languages.ipynb[12]\":[\"toLogString\",\"toSafeString\"],\"languages.ipynb[13]\":[],\"languages.ipynb[14]\":[],\"languages.ipynb[15]\":[],\"languages.ipynb[16]\":[],\"notebook.ipynb[0]\":[],\"notebook.ipynb[1]\":[],\"notebook.ipynb[2]\":[],\"notebook.ipynb[3]\":[],\"notebook.ipynb[4]\":[],\"notebook.ipynb[5]\":[\"replaceCore\",\"replaceProperty\"],\"notebook.ipynb[6]\":[\"replaceImports\",\"getImportTemplate\",\"replaceImport\"],\"notebook.ipynb[7]\":[],\"notebook.ipynb[8]\":[\"addImports\",\"addImport\"],\"notebook.ipynb[9]\":[],\"notebook.ipynb[10]\":[\"exportAndDeploy\",\"outputExport\"],\"notebook.ipynb[11]\":[\"injectImports\",\"cellsToNotebook\"],\"notebook.ipynb[12]\":[\"getExtension\"],\"notebook.ipynb[13]\":[\"niceName\"],\"notebook.ipynb[14]\":[\"authorTemplate\"],\"patterns.ipynb[0]\":[\"walkTree\"],\"patterns.ipynb[1]\":[],\"patterns.ipynb[2]\":[\"evaluateDom\",\"evaluateQuery\",\"selectTree\",\"selectDom\"],\"patterns.ipynb[3]\":[\"testProgram\",\"testSelect\"],\"patterns.ipynb[4]\":[],\"patterns.ipynb[5]\":[\"promiseOrResolve\"],\"patterns.ipynb[6]\":[\"childClass\"],\"patterns.ipynb[7]\":[\"extend\",\"override\",\"testClass\",\"childObj\",\"parentObj\"],\"patterns.ipynb[8]\":[\"interface\",\"typeErrorTemplate\",\"standardCompare\",\"arrayCompare\",\"objectCompare\"],\"patterns.ipynb[9]\":[\"myInterface\",\"print\"],\"patterns.ipynb[10]\":[],\"rpc.ipynb[0]\":[\"FUNCTION_GROUPS\",\"SELENIUM_GROUPS\",\"UNITTEST_GROUPS\",\"DEFAULT_GROUPS\",\"PUBLIC\"],\"rpc.ipynb[1]\":[\"getCellGroups\",\"getUnmatched\"],\"rpc.ipynb[2]\":[\"getPermissions\"],\"rpc.ipynb[3]\":[\"groupPermissions\"],\"rpc.ipynb[4]\":[\"filterCommand\"],\"rpc.ipynb[5]\":[\"storeResult\",\"updateResultEvent\"],\"rpc.ipynb[6]\":[\"getResult\"],\"rpc.ipynb[7]\":[\"getEnvironment\"],\"rpc.ipynb[8]\":[\"getRpcFromSpec\",\"assignAndRequest\",\"getResourceParameters\"],\"rpc.ipynb[9]\":[],\"rpc.ipynb[10]\":[],\"syntax.ipynb[0]\":[\"getRequires\"],\"syntax.ipynb[1]\":[\"testGetRequires\"],\"syntax.ipynb[2]\":[\"getExports\"],\"syntax.ipynb[3]\":[\"testGetExports\"],\"syntax.ipynb[4]\":[\"getParameters\"],\"syntax.ipynb[5]\":[\"testGetParameters\"],\"syntax.ipynb[6]\":[\"getImports\"],\"syntax.ipynb[7]\":[\"testGetImports\"],\"syntax.ipynb[8]\":[],\"syntax.ipynb[9]\":\"Line 3: Unexpected token ...\",\"syntax.ipynb[10]\":[],\"syntax.ipynb[11]\":[\"treeToHtml\",\"treeToStr\"],\"syntax.ipynb[12]\":[],\"syntax.ipynb[13]\":[\"htmlToTree\",\"accumulateChildNodes\"],\"syntax.ipynb[14]\":[\"testASTArray\",\"setupASTArray\",\"htmlEntities\"],\"syntax.ipynb[15]\":[\"testHtmlTree\"],\"syntax.ipynb[16]\":[\"selectAst\"],\"syntax.ipynb[17]\":[\"testCodeToDom\"],\"syntax.ipynb[18]\":[\"makeXpaths\",\"makeCombinations\"],\"syntax.ipynb[19]\":[\"testMakeXpaths\"],\"syntax.ipynb[20]\":[\"minXpath\"],\"syntax.ipynb[21]\":\"Line 2: Unexpected identifier\",\"syntax.ipynb[22]\":[\"selectExpr\"],\"syntax.ipynb[23]\":[],\"syntax.ipynb[24]\":[\"testExpressions\",\"matchCell\",\"findImport\"],\"syntax.ipynb[25]\":[],\"syntax.ipynb[26]\":[],\"syntax.ipynb[27]\":[],\"active directory.ipynb[0]\":[],\"git commands.ipynb[0]\":\"Line 1: Unexpected identifier\",\"git commands.ipynb[1]\":\"Line 1: Unexpected identifier\",\"git commands.ipynb[2]\":\"Line 1: Unexpected identifier\",\"git commands.ipynb[3]\":\"Line 1: Unexpected identifier\",\"git commands.ipynb[4]\":\"Line 1: Unexpected identifier\",\"git commands.ipynb[5]\":\"Line 1: Unexpected identifier\",\"git.ipynb[0]\":[\"renameUsingGit\"],\"git.ipynb[1]\":[],\"git.ipynb[2]\":[\"gitTree\"],\"git.ipynb[3]\":[\"gitTipOfTree\",\"getResetCommit\",\"resetAllBranches\"],\"git.ipynb[4]\":[\"getBranchBoundaries\"],\"git.ipynb[5]\":[\"resetRebaseInstallEvent\"],\"git.ipynb[6]\":[\"getUpdate\",\"installBuildTestEvent\",\"updateHeartbeatEvent\",\"findBranchRemote\"],\"git.ipynb[7]\":[\"cloneProject\",\"deepCopy\"],\"git.ipynb[8]\":[\"gitEditor\",\"getGist\",\"replaceSelectors\"],\"git.ipynb[9]\":[\"loadScraped\",\"noop\",\"getAllLinks\",\"fixLink\"],\"git.ipynb[10]\":[\"globBranch\"],\"git.ipynb[11]\":[\"gitHistory\",\"gitRemote\",\"gitBranch\",\"gitLog\"],\"npm.ipynb[0]\":[],\"npm.ipynb[1]\":[\"checkLocalNPM\"],\"npm.ipynb[2]\":[\"npm\"],\"npm.ipynb[3]\":[],\"registry.ipynb[0]\":\"Line 1: Unexpected identifier\",\"sql to json.ipynb[0]\":[\"unserialize\",\"importer\",\"runInNewContext\",\"r\",\"__filename\",\"mysqlQuery\",\"showTables\",\"describeTable\",\"selectObjects\"],\"sql to json.ipynb[1]\":[],\"sql to json.ipynb[2]\":[],\"demo.ipynb[0]\":[],\"demo.ipynb[1]\":[],\"demo.ipynb[2]\":[],\"demo.ipynb[3]\":\"Line 1: Unexpected identifier\",\"demo.ipynb[4]\":[],\"demo.ipynb[5]\":[],\"demo.ipynb[6]\":[],\"demo.ipynb[7]\":\"Line 1: Unexpected identifier\",\"demo.ipynb[8]\":[],\"demo.ipynb[9]\":[],\"demo.ipynb[10]\":[],\"demo.ipynb[11]\":[],\"demo.ipynb[12]\":[],\"demo.ipynb[13]\":[],\"demo.ipynb[14]\":\"Line 1: Unexpected identifier\",\"demo.ipynb[15]\":\"Line 2: Unexpected identifier\",\"docker commands.ipynb[0]\":\"Line 1: Unexpected identifier\",\"docker commands.ipynb[1]\":\"Line 1: Unexpected identifier\",\"docker commands.ipynb[2]\":\"Line 1: Unexpected identifier\",\"docker commands.ipynb[3]\":\"Line 1: Unexpected identifier\",\"docker commands.ipynb[4]\":\"Line 1: Unexpected identifier\",\"docker commands.ipynb[5]\":\"Line 1: Unexpected string\",\"docker commands.ipynb[6]\":\"Line 1: Unexpected string\",\"docker commands.ipynb[7]\":\"Line 1: Unexpected string\",\"docker demo.ipynb[0]\":[],\"docker demo.ipynb[1]\":[\"seleniumDocker\",\"bashToRun\"],\"dotnet.ipynb[0]\":\"Line 1: Unexpected token ILLEGAL\",\"install Docker on Mac.ipynb[0]\":[],\"install Docker on Mac.ipynb[1]\":[],\"install Docker on Windows.ipynb[0]\":[],\"install Docker on Windows.ipynb[1]\":[],\"install Docker on Windows.ipynb[2]\":[],\"install Docker on Windows.ipynb[3]\":\"Line 16: Unexpected token ILLEGAL\",\"install Docker on Windows.ipynb[4]\":[],\"node install.ipynb[0]\":\"Line 1: Unexpected token :\",\"node install.ipynb[1]\":\"Line 1: Unexpected token var\",\"node install.ipynb[2]\":\"Line 1: Unexpected identifier\",\"falsey javascript.ipynb[0]\":[],\"falsey javascript.ipynb[1]\":[],\"falsey javascript.ipynb[2]\":[],\"falsey javascript.ipynb[3]\":[],\"falsey javascript.ipynb[4]\":[],\"falsey javascript.ipynb[5]\":[],\"falsey javascript.ipynb[6]\":[],\"fizz buzz.ipynb[0]\":[\"fizzBuzz\"],\"fizz buzz.ipynb[1]\":[\"isFib\"],\"fizz buzz.ipynb[2]\":[\"sortDesc\"],\"fizz buzz.ipynb[3]\":[],\"math.ipynb[0]\":[\"spliceClone\",\"permute\",\"solve\"],\"math.ipynb[1]\":[],\"Angular 2.ipynb[0]\":\"Line 1: Unexpected token %\",\"Angular 2.ipynb[1]\":\"Line 1: Unexpected token %\",\"Angular 2.ipynb[2]\":\"Line 1: Unexpected token %\",\"Angular 2.ipynb[3]\":[],\"Angular 2.ipynb[4]\":\"Line 1: Unexpected token\",\"Angular 2.ipynb[5]\":\"Line 1: Unexpected token %\",\"Angular components.ipynb[0]\":\"Line 1: Unexpected token\",\"Angular components.ipynb[1]\":\"Line 1: Unexpected token\",\"Angular components.ipynb[2]\":\"Line 1: Unexpected token\",\"Angular components.ipynb[3]\":[\"searchHandler\",\"searchAll\"],\"Angular components.ipynb[4]\":[],\"Angular components.ipynb[5]\":\"Line 1: Unexpected token\",\"Angular components.ipynb[6]\":\"Line 1: Unexpected token\",\"angular core modules.ipynb[0]\":\"Line 1: Unexpected token\",\"angular render service.ipynb[0]\":\"Line 3: Unexpected token\",\"angular render service.ipynb[1]\":[],\"angular-cli.ipynb[0]\":\"Line 24: Unexpected token switch\",\"angular-cli.ipynb[1]\":[],\"build Angular components.ipynb[0]\":[\"ng\"],\"build Angular components.ipynb[1]\":[\"webpackAngularProject\"],\"build Angular components.ipynb[2]\":[],\"build Angular components.ipynb[3]\":[],\"display angular.ipynb[0]\":[\"getScriptsAndStyles\"],\"display angular.ipynb[1]\":[\"displAngular\"],\"display angular.ipynb[2]\":[\"outputSlowly\",\"compress\"],\"display angular.ipynb[3]\":[],\"display angular.ipynb[4]\":[],\"display angular.ipynb[5]\":[],\"display angular.ipynb[6]\":[],\"autorewire.ipynb[0]\":[],\"autorewire.ipynb[1]\":[\"AutoMock\",\"parent\",\"simpleStubCreator\"],\"autorewire.ipynb[2]\":[],\"d3 dates.ipynb[0]\":[\"d3Swimlane\",\"display\",\"moveBrush\",\"getPaths\"],\"d3 dates.ipynb[1]\":[\"d3Heatmap\",\"monthPath\"],\"d3.ipynb[0]\":[\"d3CloudToSVG\",\"drawD3Cloud\"],\"d3.ipynb[1]\":[\"d3TieredPieSVG\",\"arcTween\",\"computeTextRotation\"],\"d3.ipynb[2]\":[],\"d3.ipynb[3]\":[\"d3PieChart\"],\"d3.ipynb[4]\":[\"formatNodes\"],\"d3.ipynb[5]\":[\"displayBranches\",\"branchIndex\"],\"d3.ipynb[6]\":[],\"de-linting.ipynb[0]\":[\"delintCode\"],\"de-linting.ipynb[1]\":[\"delintCell\"],\"de-linting.ipynb[2]\":[],\"de-linting.ipynb[3]\":[\"delint\"],\"git repos.ipynb[0]\":\"Line 1: Unexpected identifier\",\"git repos.ipynb[1]\":\"Line 1: Unexpected identifier\",\"git repos.ipynb[2]\":\"Line 1: Unexpected identifier\",\"git repos.ipynb[3]\":\"Line 1: Unexpected token ILLEGAL\",\"git repos.ipynb[4]\":\"Line 1: Unexpected identifier\",\"git repos.ipynb[5]\":\"Line 1: Unexpected identifier\",\"git repos.ipynb[6]\":\"Line 1: Unexpected identifier\",\"git repos.ipynb[7]\":\"Line 1: Unexpected identifier\",\"gulp.ipynb[0]\":[],\"gulp.ipynb[1]\":[\"tasksToPromise\"],\"gulp.ipynb[2]\":\"Line 112: Unexpected string\",\"gulp.ipynb[3]\":[],\"gulp.ipynb[4]\":[],\"gulp.ipynb[5]\":[\"searchNotebooks\",\"bufferToStream\"],\"gulp.ipynb[6]\":[],\"gulp.ipynb[7]\":[\"getRelativeImports\"],\"gulp.ipynb[8]\":[],\"gulp.ipynb[9]\":[],\"gulp.ipynb[10]\":[],\"How code should look.ipynb[0]\":[],\"identity server.ipynb[0]\":[],\"identity server.ipynb[1]\":[],\"identity server.ipynb[2]\":[],\"identity server.ipynb[3]\":[],\"identity server.ipynb[4]\":[],\"identity server.ipynb[5]\":[],\"jupyter interaction.ipynb[0]\":[\"execute\",\"js_execute\"],\"Jupyter language kernels.ipynb[0]\":[],\"Jupyter language kernels.ipynb[1]\":[],\"Jupyter language kernels.ipynb[2]\":\"Line 1: Unexpected token ILLEGAL\",\"Jupyter language kernels.ipynb[3]\":\"Line 4: Unexpected token /\",\"Jupyter language kernels.ipynb[4]\":\"Line 2: Unexpected token /\",\"Jupyter language kernels.ipynb[5]\":\"Line 17: Invalid regular expression: missing /\",\"Jupyter language kernels.ipynb[6]\":\"Line 3: Unexpected token ILLEGAL\",\"Jupyter language kernels.ipynb[7]\":\"Line 4: Unexpected end of input\",\"Jupyter language kernels.ipynb[8]\":[],\"jupyter.ipynb[0]\":\"Line 3: Unexpected identifier\",\"jwt in csharp.ipynb[0]\":\"Line 1: Unexpected token ILLEGAL\",\"jwt in csharp.ipynb[1]\":[],\"karma template.ipynb[0]\":[],\"karma template.ipynb[1]\":[],\"ngx-translate.ipynb[0]\":[\"getTranslations\"],\"ngx-translate.ipynb[1]\":[\"findMisplaced\",\"flattenAllKeys\",\"getUnused\",\"getMissing\"],\"node express.ipynb[0]\":[],\"node express.ipynb[1]\":[],\"node express.ipynb[2]\":[],\"node express.ipynb[3]\":[],\"node express.ipynb[4]\":[],\"node express.ipynb[5]\":[],\"node express.ipynb[6]\":[],\"node express.ipynb[7]\":[],\"node express.ipynb[8]\":[\"app\",\"restart\"],\"node simple-imap.ipynb[0]\":[\"imapClient\",\"authorizeGmail\"],\"node simple-imap.ipynb[1]\":[\"searchImap\",\"flatten\"],\"node simple-imap.ipynb[2]\":[],\"node simple-imap.ipynb[3]\":[\"scanCommandsEmail\"],\"node simple-imap.ipynb[4]\":[],\"node simple-imap.ipynb[5]\":[\"getAttachments\",\"saveAttachments\"],\"node simple-imap.ipynb[6]\":[\"sendEmail\"],\"node simple-imap.ipynb[7]\":[],\"notebook extensions.ipynb[0]\":[],\"promisify automock socketio.ipynb[0]\":[\"promisifyMock\"],\"promisify automock socketio.ipynb[1]\":[\"sockifyRequire\",\"sockifyServer\"],\"promisify automock socketio.ipynb[2]\":[\"sockifyClient\"],\"promisify automock socketio.ipynb[3]\":[],\"promisify automock socketio.ipynb[4]\":[],\"promisify automock socketio.ipynb[5]\":[],\"register jupter kernels.ipynb[0]\":\"Line 1: Unexpected token\",\"test runner.ipynb[0]\":[\"testCells\",\"resetTests\"],\"test runner.ipynb[1]\":[\"testWatcher\"],\"twilio.ipynb[0]\":[\"incomingTwilio\"],\"twilio.ipynb[1]\":[\"incomingTwilio\",\"setReminder\"],\"twilio.ipynb[2]\":[\"sendTwilio\"],\"twilio.ipynb[3]\":[\"callTwilio\"],\"zuora to eloqua.ipynb[0]\":[\"csvToJson\",\"createBulkExportJob\",\"getBulkExportFile\",\"getBulkExportJobStatus\",\"getAuthHeaders\"],\"zuora to eloqua.ipynb[1]\":[\"getCatalog\"],\"zuora to eloqua.ipynb[2]\":[],\"zuora to eloqua.ipynb[3]\":[\"getQuery\"],\"zuora to eloqua.ipynb[4]\":[],\"zuora to eloqua.ipynb[5]\":\"Line 1: Unexpected identifier\",\"zuora to eloqua.ipynb[6]\":[],\"zuora to eloqua.ipynb[7]\":[\"mapDataToFields\",\"mapRatePlanToProduct\"],\"zuora to eloqua.ipynb[8]\":[],\"zuora to eloqua.ipynb[10]\":[\"bulkImportTemplate\",\"contentCreateTemplate\",\"temporaryImportTemplate\"],\"zuora to eloqua.ipynb[11]\":[],\"zuora to eloqua.ipynb[12]\":[\"getImportData\",\"getOauthToken\",\"getEloquaConfig\"],\"zuora to eloqua.ipynb[13]\":[\"getCustomDataObject\",\"getImportDefinitions\"],\"zuora to eloqua.ipynb[14]\":[],\"zuora to eloqua.ipynb[15]\":[\"handler\"],\"zuora to eloqua.ipynb[16]\":[],\"zuora to eloqua.ipynb[17]\":[\"handler\"],\"zuora to eloqua.ipynb[18]\":[],\"zuora to eloqua.ipynb[19]\":[\"getZuoraMonth\"],\"zuora to eloqua.ipynb[20]\":[],\"zuora to eloqua.ipynb[21]\":[\"getZuoraAccounts\",\"zuoraQuery\",\"getContact\",\"getAccountById\",\"getPaymentMethod\",\"getAccountLast4Digits\"],\"zuora to eloqua.ipynb[22]\":[],\"zuora to eloqua.ipynb[23]\":[\"bulkUploadEloqua\"],\"zuora to eloqua.ipynb[24]\":[],\"zuora to eloqua.ipynb[25]\":[],\"zuora to eloqua.ipynb[26]\":[\"calculatePrice\"],\"zuora to eloqua.ipynb[27]\":[\"filterROR\",\"rorsToAccounts\",\"totalFilteredRecords\",\"accountTotals\",\"verifyMissing\",\"validateWorksheet\",\"compareRecordsCatalog\"],\"zuora to eloqua.ipynb[28]\":[],\"zuora to eloqua.ipynb[29]\":[\"zuoraQuery\",\"getContact\",\"getContactByAccount\",\"getAccountById\",\"getAccount\",\"getSubscription\",\"getPaymentMethod\",\"getRatePlans\"],\"zuora to eloqua.ipynb[30]\":[],\"zuora to eloqua.ipynb[31]\":[],\"zuora to eloqua.ipynb[32]\":[],\"google calendar data.ipynb[0]\":[],\"google calendar data.ipynb[1]\":[\"chromeDtToDate\"],\"google calendar data.ipynb[2]\":[\"getBookmarksFromTakeout\"],\"google calendar data.ipynb[3]\":[\"getHistory\"],\"google calendar data.ipynb[4]\":[],\"google calendar data.ipynb[5]\":[\"syncChromeBookmarks\"],\"google calendar data.ipynb[6]\":[\"syncChromeHistory\",\"loadChromeHistory\"],\"google calendar data.ipynb[7]\":[\"syncChrome\",\"unzip\"],\"google calendar data.ipynb[8]\":[],\"google calendar graphs.ipynb[0]\":[],\"google calendar graphs.ipynb[1]\":[\"calendarSearchToHeatmap\"],\"google calendar graphs.ipynb[2]\":[\"calendarSearchToSwimlane\"],\"google calendar graphs.ipynb[3]\":[\"calendarSearchToPieChart\"],\"google calendar graphs.ipynb[4]\":[],\"google calendar.ipynb[0]\":[\"authorizeCalendar\"],\"google calendar.ipynb[1]\":[\"listEvents\",\"processResult\"],\"google calendar.ipynb[2]\":[\"runTodaysEvents\"],\"google calendar.ipynb[3]\":[],\"google calendar.ipynb[4]\":[\"correctTimeLimits\"],\"google calendar.ipynb[5]\":[\"correctCalendarId\",\"filterCalendar\"],\"google calendar.ipynb[6]\":[\"getDaysEvents\"],\"google calendar.ipynb[7]\":[\"updateEvent\"],\"google calendar.ipynb[8]\":[\"createNewEvent\"],\"google contacts.ipynb[0]\":[\"getContacts\",\"findMatch\",\"googlePromise\",\"listContacts\"],\"google contacts.ipynb[1]\":[\"getSettings\",\"googlePromise\",\"mapMembership\"],\"google contacts.ipynb[2]\":[],\"google contacts.ipynb[3]\":[],\"google drive.ipynb[0]\":[\"authorizeDrive\"],\"google drive.ipynb[1]\":[],\"google drive.ipynb[2]\":[\"listDrive\"],\"google drive.ipynb[3]\":[\"insertPermission\"],\"google drive.ipynb[4]\":[],\"google drive.ipynb[5]\":[\"createSheet\"],\"google drive.ipynb[6]\":[\"copyFile\"],\"google maps.ipynb[0]\":[\"placesNearby\"],\"google maps.ipynb[1]\":[\"placeDetails\"],\"google maps.ipynb[2]\":[\"googleGeocodeAddress\"],\"google maps.ipynb[3]\":[\"getNearby\"],\"google maps.ipynb[4]\":[],\"google scheduling.ipynb[0]\":[\"adjustPurpleEvents\",\"googlePromise\",\"batchPromises\"],\"google scheduling.ipynb[1]\":[],\"google scheduling.ipynb[2]\":[],\"google scheduling.ipynb[3]\":[],\"google scheduling.ipynb[4]\":[],\"google scheduling.ipynb[5]\":[\"calendarHeatmap\"],\"google scheduling.ipynb[6]\":[\"searchCalendar\"],\"google scheduling.ipynb[7]\":[],\"google search api.ipynb[0]\":[\"search\"],\"google search api.ipynb[1]\":[],\"google search api.ipynb[2]\":[\"authorizeSearch\"],\"google sheets.ipynb[0]\":[\"getTemplates\"],\"google sheets.ipynb[1]\":[],\"google sheets.ipynb[2]\":[\"getInfo\"],\"google sheets.ipynb[3]\":[\"getDataSheet\"],\"google sheets.ipynb[4]\":[\"getRows\"],\"google sheets.ipynb[5]\":[],\"google sheets.ipynb[6]\":[\"addRow\"],\"google sheets.ipynb[7]\":[\"getSheetByName\"],\"google sheets.ipynb[8]\":[\"updateRow\"],\"google sheets.ipynb[9]\":[],\"google sheets.ipynb[10]\":[\"authorizeSheets\"],\"2017 Update.ipynb[0]\":\"Line 1: Unexpected token %\",\"2017 Update.ipynb[1]\":\"Line 1: Unexpected token %\",\"2017 Update.ipynb[2]\":\"Line 1: Unexpected token %\",\"2017 Update.ipynb[3]\":\"Line 1: Unexpected token %\",\"2017 Update.ipynb[4]\":\"Line 1: Unexpected token %\",\"2017 Update.ipynb[5]\":[],\"brians resume.ipynb[0]\":[\"getBookmarkFolders\"],\"brians resume.ipynb[1]\":[\"updateInterestPage\"],\"convert spreadsheet.ipynb[0]\":[],\"convert spreadsheet.ipynb[1]\":[\"filteredData\",\"unfilteredData\"],\"convert spreadsheet.ipynb[2]\":[\"getTemplateProperties\",\"createAssignFilter\"],\"convert spreadsheet.ipynb[3]\":[\"renderRows\",\"safeName\",\"escape\",\"getDataClasses\",\"defineProperty\"],\"convert spreadsheet.ipynb[4]\":[\"wrapTemplate\",\"safeName\",\"toJSON\"],\"convert spreadsheet.ipynb[5]\":[\"collectRoutes\"],\"convert spreadsheet.ipynb[6]\":[\"collectExternalResources\",\"safeName\"],\"convert spreadsheet.ipynb[7]\":[\"getTemplateByUrl\"],\"convert spreadsheet.ipynb[8]\":[\"collectTemplateResources\"],\"convert spreadsheet.ipynb[9]\":[\"importTest\"],\"convert spreadsheet.ipynb[10]\":[\"getSheet\",\"safeName\",\"addSheet\"],\"convert spreadsheet.ipynb[11]\":[\"importSheet\"],\"convert spreadsheet.ipynb[12]\":[\"setupBackend\"],\"convert spreadsheet.ipynb[13]\":[\"copyMarketing\"],\"convert spreadsheet.ipynb[14]\":\"Line 2: Unexpected token :\",\"ECommerce.ipynb[0]\":\"Line 1: Unexpected token %\",\"ECommerce.ipynb[1]\":\"Line 1: Unexpected token %\",\"ECommerce.ipynb[2]\":\"Line 1: Unexpected token %\",\"ECommerce.ipynb[3]\":\"Line 1: Unexpected token %\",\"ECommerce.ipynb[4]\":[],\"Good UX Intro.ipynb[0]\":[],\"Good UX Intro.ipynb[1]\":[],\"Good UX Intro.ipynb[2]\":[],\"Good UX Intro.ipynb[3]\":[],\"Good UX Intro.ipynb[4]\":[],\"Landing Pages.ipynb[0]\":[],\"Landing Pages.ipynb[1]\":[],\"Landing Pages.ipynb[2]\":[],\"Landing Pages.ipynb[3]\":[],\"Landing Pages.ipynb[4]\":[],\"Landing Pages.ipynb[5]\":[],\"Landing Pages.ipynb[6]\":[],\"Landing Pages.ipynb[7]\":[],\"Landing Pages.ipynb[8]\":[],\"Landing Pages.ipynb[9]\":[],\"Landing Pages.ipynb[10]\":[],\"Landing Pages.ipynb[11]\":[],\"Landing Pages.ipynb[12]\":[],\"Landing Pages.ipynb[13]\":[],\"Landing Pages.ipynb[14]\":[],\"Landing Pages.ipynb[15]\":[],\"Landing Pages.ipynb[16]\":[],\"Landing Pages.ipynb[17]\":[],\"Landing Pages.ipynb[18]\":[],\"Landing Pages.ipynb[19]\":[],\"Landing Pages.ipynb[20]\":[],\"marketing scripts.ipynb[0]\":[\"checkout\"],\"marketing scripts.ipynb[1]\":[\"contactUs\"],\"marketing scripts.ipynb[2]\":\"Line 2: Unexpected token :\",\"study sauce.ipynb[0]\":[],\"study sauce.ipynb[1]\":[\"getSignedUrl\",\"req\",\"res\",\"method\",\"status\",\"end\",\"file\",\"storage\",\"bucket\",\"body\",\"filename\",\"expiresAtMs\",\"Date\",\"now\",\"config\",\"action\",\"expires\",\"contentType\",\"err\",\"url\",\"console\",\"error\",\"send\"],\"study sauce.ipynb[2]\":[\"copyStudy\"],\"study sauce.ipynb[3]\":[\"renderCards\",\"parseCards\"],\"study sauce.ipynb[4]\":[\"authorizeProfile\"],\"study sauce.ipynb[5]\":[\"receiveCode\",\"extractProfile\",\"safeName\"],\"study sauce.ipynb[6]\":[\"renderUser\"],\"study sauce.ipynb[7]\":\"Line 2: Unexpected token :\",\"study sauce.ipynb[8]\":[\"createStudyPack\",\"createCards\"],\"Wireframing.ipynb[0]\":\"Line 1: Unexpected token %\",\"Wireframing.ipynb[1]\":[],\"Wireframing.ipynb[2]\":[],\"Wireframing.ipynb[3]\":[\"npmls\"],\"Wireframing.ipynb[4]\":[],\"Wireframing.ipynb[5]\":[],\"Wireframing.ipynb[6]\":[],\"Wireframing.ipynb[7]\":[],\"Wireframing.ipynb[8]\":[],\"Wireframing.ipynb[9]\":[],\"Wireframing.ipynb[10]\":[],\"Wireframing.ipynb[11]\":[],\"Wireframing.ipynb[12]\":\"Line 1: Unexpected token %\",\"Wireframing.ipynb[13]\":\"Line 1: Unexpected token %\",\"Wireframing.ipynb[14]\":[],\"avidbrain.ipynb[0]\":[\"testLogin\"],\"avidbrain.ipynb[1]\":[],\"avidbrain.ipynb[2]\":[],\"data collection.ipynb[0]\":[\"scrapeAlert\"],\"data collection.ipynb[1]\":[\"multiCrawl\",\"deQueue\"],\"data collection.ipynb[2]\":[\"searchResultsToJson\"],\"data collection.ipynb[3]\":[\"searchAll\"],\"data collection.ipynb[4]\":[\"scheduleSearch\"],\"data collection.ipynb[5]\":[\"crawlAll\",\"startCrawl\",\"fixLink\"],\"data collection.ipynb[6]\":[\"scheduleSearch\"],\"data collection.ipynb[7]\":[\"getJoke\"],\"facebook connections.ipynb[0]\":[\"collectFacebookProfiles\",\"parseFacebookFriends\"],\"facebook connections.ipynb[1]\":[],\"facebook connections.ipynb[2]\":[],\"facebook connections.ipynb[3]\":[\"friendsOnFacebook\"],\"facebook connections.ipynb[4]\":[\"addFacebookFriends\",\"loadNewConnections\"],\"facebook connections.ipynb[5]\":[],\"facebook data.ipynb[0]\":[\"loginFacebook\",\"enterFacebook\"],\"facebook data.ipynb[1]\":[\"readFacebookProfileInfo\"],\"facebook data.ipynb[2]\":[\"likeAllPosts\",\"listFacebookPosts\",\"scrapeFacebookPost\",\"likeFacebookPost\"],\"facebook data.ipynb[3]\":[\"scrapeFacebookEvent\"],\"facebook data.ipynb[4]\":[\"scrapeFacebookEvents\",\"getEvents\"],\"facebook data.ipynb[5]\":[],\"facebook data.ipynb[6]\":[\"scrapeFacebookFriends\"],\"facebook data.ipynb[7]\":[\"getFriendsDiff\",\"getFriends\"],\"facebook data.ipynb[8]\":[],\"facebook data.ipynb[9]\":[\"unfollowFacebook\"],\"facebook data.ipynb[10]\":[],\"facebook data.ipynb[11]\":[\"clickInvite\",\"getUninvited\",\"clickConnect\"],\"facebook messaging.ipynb[0]\":[\"getUnreadThreads\"],\"facebook messaging.ipynb[1]\":[\"scanCommandsFacebook\"],\"facebook messaging.ipynb[2]\":[],\"facebook messaging.ipynb[3]\":[\"listFacebookThreads\",\"getFacebookThreads\",\"listArchivedFacebook\"],\"facebook messaging.ipynb[4]\":[\"readFacebookThread\",\"switchToParticipantThread\",\"getThreadParticipants\",\"readFacebookMessages\"],\"facebook messaging.ipynb[5]\":[],\"facebook messaging.ipynb[6]\":[\"sendFacebookMessage\"],\"forms.ipynb[0]\":[\"importer\",\"import\"],\"forms.ipynb[1]\":[\"selectDropdown\"],\"forms.ipynb[2]\":[\"fillForm\"],\"forms.ipynb[3]\":[\"multiLogin\",\"fillAll\"],\"forms.ipynb[4]\":[\"testLogins\"],\"forms.ipynb[5]\":[],\"github.ipynb[0]\":[\"getGithub\"],\"github.ipynb[1]\":[],\"github.ipynb[2]\":[],\"google authorize.ipynb[0]\":[\"authorize\",\"storeToken\",\"receiveCode\",\"errorFallback\",\"renewToken\"],\"google authorize.ipynb[1]\":[\"authorizeSelenium\"],\"google authorize.ipynb[2]\":[],\"google authorize.ipynb[3]\":[],\"google takeout.ipynb[0]\":[\"downloadGoogleTakeout\",\"listTakeouts\",\"takeoutProducts\"],\"google takeout.ipynb[1]\":[\"googleTakeout\"],\"google takeout.ipynb[2]\":[],\"google takeout.ipynb[3]\":[\"convertUnicode\",\"addSite\"],\"google takeout.ipynb[4]\":[],\"google timeline.ipynb[0]\":[\"getGoogleTimeline\",\"selectDate\"],\"google timeline.ipynb[1]\":[\"readTimelinePage\"],\"google timeline.ipynb[2]\":[\"averageDestinations\",\"toRadians\",\"straightDistance\"],\"google timeline.ipynb[3]\":[\"reconcileTimelineLocations\",\"filterEvents\"],\"google timeline.ipynb[4]\":[\"loadLocations\"],\"google timeline.ipynb[5]\":[\"reconcileTimeline\",\"loadOnce\",\"daysInMonth\"],\"google timeline.ipynb[6]\":[\"timelineEvents\"],\"linkedin connections.ipynb[0]\":[\"syncLinkedInContacts\",\"escapeFilename\"],\"linkedin connections.ipynb[1]\":[\"scrapeEntireLinkedInProfile\",\"loadEntirePage\"],\"linkedin connections.ipynb[2]\":[\"listAllConnections\"],\"linkedin connections.ipynb[3]\":[],\"linkedin connections.ipynb[4]\":[\"listAllConnections\",\"connectLinkedin\"],\"linkedin connections.ipynb[5]\":[\"addLinkedinConnections\"],\"linkedin connections.ipynb[6]\":[],\"linkedin connections.ipynb[7]\":[],\"linkedin messages.ipynb[0]\":[\"loginLinkedIn\",\"enterLinkedIn\"],\"linkedin messages.ipynb[1]\":[\"readLinkedInProfileInfo\",\"visitMyProfile\"],\"linkedin messages.ipynb[2]\":[\"listLinkedInThreads\",\"scrollLinkedInThreads\",\"getLinkedInThreads\"],\"linkedin messages.ipynb[3]\":[\"readLinkedInThread\",\"getThreadParticipants\",\"scrollLinkedInMessages\",\"readLinkedInMessages\"],\"linkedin messages.ipynb[4]\":[\"scrapeLinkedInThreads\",\"readThread\",\"listThreads\"],\"linkedin messages.ipynb[5]\":[],\"linkedin messages.ipynb[6]\":[],\"orchestration.ipynb[0]\":[\"resizeWindow\",\"getScreenSize\"],\"orchestration.ipynb[1]\":[\"onlyOneWindow\",\"closeAllTabs\",\"closeAllWindows\"],\"orchestration.ipynb[2]\":[\"tileWindows\",\"openUrl\",\"createNewWindows\"],\"orchestration.ipynb[3]\":[\"getAllSessionUrls\",\"repositionSession\"],\"orchestration.ipynb[4]\":[\"sendJoke\"],\"orchestration.ipynb[5]\":[\"sendFacebookThanks\"],\"orchestration.ipynb[6]\":[\"tellJokes\"],\"orchestration.ipynb[7]\":[\"cleanUpSessions\",\"closeAllSessions\"],\"orchestration.ipynb[8]\":[\"getScreenshots\",\"uploadS3\"],\"orchestration.ipynb[9]\":[],\"selenium commands.ipynb[0]\":\"Line 1: Unexpected number\",\"selenium commands.ipynb[1]\":\"Line 1: Unexpected token\",\"selenium commands.ipynb[2]\":\"Line 1: Unexpected token\",\"selenium commands.ipynb[3]\":\"Line 1: Unexpected identifier\",\"selenium demo.ipynb[0]\":[],\"selenium demo.ipynb[1]\":[],\"selenium server.ipynb[0]\":[\"seleniumServer\",\"promisifyChrome\",\"response\"],\"selenium server.ipynb[1]\":[\"router\",\"route\"],\"selenium server.ipynb[2]\":[\"go\",\"router\",\"waitForComplete\"],\"selenium server.ipynb[3]\":[\"findElements\",\"router\"],\"selenium server.ipynb[4]\":[\"deleteSession\",\"createSession\",\"router\",\"getSessionCapabilities\"],\"selenium server.ipynb[5]\":[\"getWindowHandles\",\"router\"],\"selenium server.ipynb[6]\":[\"clickElement\",\"router\"],\"send social message.ipynb[0]\":[],\"service auth.ipynb[0]\":[\"getCredentials\",\"decrypt\"],\"service auth.ipynb[1]\":[\"saveCredentials\",\"encrypt\",\"encryptSet\"],\"service auth.ipynb[2]\":[],\"service auth.ipynb[3]\":[\"readPasswordsHtm\"],\"service auth.ipynb[4]\":[\"downloadGooglePasswords\",\"waitForPasswordLoad\",\"copyPasswordRow\",\"copyPasswords\"],\"service auth.ipynb[5]\":[],\"service auth.ipynb[6]\":[\"loginGoogle\",\"enterGoogleUsername\",\"enterGooglePassword\",\"enterCredentials\"],\"service auth.ipynb[7]\":[],\"utilities.ipynb[0]\":[\"scrollClient\"],\"utilities.ipynb[1]\":[\"getAllUntil\"],\"utilities.ipynb[2]\":[\"clickSpa\"],\"utilities.ipynb[3]\":[],\"webdriver.ipynb[0]\":[\"createWebdriverClient\"],\"webdriver.ipynb[1]\":[\"connectSession\"],\"webdriver.ipynb[2]\":[\"readSessions\"],\"webdriver.ipynb[3]\":[\"updateOrAddSession\",\"lockPromise\"],\"webdriver.ipynb[4]\":[\"getSessions\",\"lockPromise\",\"updateOrAddSession\"],\"webdriver.ipynb[5]\":[\"lockPromise\",\"verifySession\",\"updateOrAddSession\",\"scanning\",\"addPlugins\"],\"webdriver.ipynb[6]\":[],\"webdriver.ipynb[7]\":[],\"webdriver.ipynb[8]\":[],\"webdriver.ipynb[9]\":[],\"What is Selenium.ipynb[0]\":[\"getSeleniumServer\"],\"What is Selenium.ipynb[1]\":[\"vncIframe\",\"urlEncode\"],\"What is Selenium.ipynb[2]\":[\"runSeleniumCell\"],\"What is Selenium.ipynb[3]\":[\"testLive\"],\"What is Selenium.ipynb[4]\":[],\"you earned it.ipynb[0]\":[\"highFive\",\"loginYouEarnedIt\",\"doHighFive\"],\"you earned it.ipynb[1]\":[\"runHighFiver\"],\"you earned it.ipynb[2]\":[],\"you earned it.ipynb[3]\":[],\"Untitled.ipynb[0]\":[],\"Untitled.ipynb[1]\":[],\"bash.ipynb[0]\":\"Line 1: Unexpected token |\",\"bash.ipynb[1]\":\"Line 1: Unexpected token ~\",\"bash.ipynb[2]\":\"Line 1: Unexpected identifier\",\"bash.ipynb[3]\":\"Line 1: Unexpected identifier\",\"bash.ipynb[4]\":\"Line 1: Unexpected token ~\",\"bash.ipynb[5]\":\"Line 1: Unexpected token /\",\"bash.ipynb[6]\":\"Line 1: Unexpected identifier\",\"bash.ipynb[7]\":\"Line 1: Unexpected token :\",\"child process.ipynb[0]\":[\"execCmd\",\"bashToExec\"],\"child process.ipynb[1]\":[],\"child process.ipynb[2]\":[\"bashToOne\"],\"compress.ipynb[0]\":[\"LZString\",\"o\"],\"compress.ipynb[1]\":[\"LZString\",\"getBaseValue\"],\"compress.ipynb[2]\":[],\"compress.ipynb[3]\":[],\"dates.ipynb[0]\":[\"getTuesdays\"],\"dates.ipynb[1]\":[\"ISODateString\",\"pad\"],\"dates.ipynb[2]\":[\"sumEvents\"],\"dates.ipynb[3]\":[\"filterDistant\"],\"dates.ipynb[4]\":[\"graphDates\"],\"dates.ipynb[5]\":[],\"diff.ipynb[0]\":[\"diffTwoTexts\",\"htmlEntities\",\"prismHighlightHtml\"],\"diff.ipynb[1]\":[],\"diff.ipynb[2]\":[],\"heartbeat.ipynb[0]\":[\"thump\"],\"heartbeat.ipynb[1]\":[\"runTodaysHeartbeat\"],\"heartbeat.ipynb[2]\":[],\"levenshtein.ipynb[0]\":[\"levDist\"],\"levenshtein.ipynb[1]\":[\"levSort\"],\"levenshtein.ipynb[2]\":[],\"mono.ipynb[0]\":[],\"mono.ipynb[1]\":[],\"mono.ipynb[2]\":\"Line 1: Unexpected token ILLEGAL\",\"nmap.ipynb[0]\":[],\"nmap.ipynb[1]\":[],\"openssl.ipynb[0]\":\"Line 3: Unexpected token ILLEGAL\",\"openssl.ipynb[1]\":\"Line 3: Unexpected token ILLEGAL\",\"openssl.ipynb[2]\":\"Line 3: Unexpected token ILLEGAL\",\"openssl.ipynb[3]\":[],\"parse.ipynb[0]\":[\"escapeRegExp\"],\"polyfills.ipynb[0]\":[\"request\"],\"polyfills.ipynb[1]\":[],\"qr codes.ipynb[0]\":[],\"qr codes.ipynb[1]\":[\"httpRequest\"],\"qr codes.ipynb[2]\":[],\"scraping.ipynb[0]\":[\"getLocations\",\"getLocation\"],\"scraping.ipynb[1]\":[\"getNearbyJSON\",\"getResultsPage\",\"getAllResults\"],\"scraping.ipynb[2]\":[\"loadLocations\",\"getAllLocationsData\"],\"scraping.ipynb[3]\":[],\"uuid.ipynb[0]\":[\"v35\",\"sha1\",\"bytesToUuid\",\"uuidToBytes\",\"stringToBytes\"],\"vnc.ipynb[0]\":\"Line 1: Unexpected token :\",\"vnc.ipynb[1]\":\"Line 1: Unexpected token .\",\"vnc.ipynb[2]\":\"Line 1: Unexpected identifier\",\"vnc.ipynb[3]\":\"Line 1: Unexpected identifier\",\"vnc.ipynb[4]\":\"Line 2: Unexpected identifier\",\"vnc.ipynb[5]\":\"Line 1: Unexpected string\",\"vnc.ipynb[6]\":\"Line 1: Unexpected token ILLEGAL\",\"vnc.ipynb[7]\":\"Line 1: Unexpected token ~\",\"vnc.ipynb[8]\":\"Line 1: Unexpected token ~\",\"windows.ipynb[0]\":\"Line 1: Unexpected identifier\",\"windows.ipynb[1]\":\"Line 1: Unexpected identifier\",\"windows.ipynb[2]\":[],\"windows.ipynb[3]\":\"Line 1: Unexpected token <\",\"windows.ipynb[4]\":[],\"windows.ipynb[5]\":\"Line 2: Unexpected identifier\",\"windows.ipynb[6]\":[],\"windows.ipynb[7]\":\"Line 1: Unexpected string\"}\n",
    "\n",
    "module.exports = exportsCache\n",
    "\n"
   ]
  },
  {
   "cell_type": "markdown",
   "metadata": {},
   "source": [
    "#### create export cache?\n",
    "\n",
    "TODO: generalize this so the database can be anywhere, not just a JSON notebook\n",
    "\n",
    "TODO: make this a demonstration of idempotence.\n"
   ]
  },
  {
   "cell_type": "code",
   "execution_count": null,
   "metadata": {},
   "outputs": [
    {
     "name": "stdout",
     "output_type": "stream",
     "text": [
      "compiling /Users/briancullinan/jupyter_ops/Core/syntax.ipynb[2] aka ### get exports from source\n",
      "compiling /Users/briancullinan/jupyter_ops/Core/syntax.ipynb[16] aka select ast\n",
      "compiling /Users/briancullinan/jupyter_ops/Core/syntax.ipynb[11] aka tree to html\n",
      "compiling /Users/briancullinan/jupyter_ops/Core/patterns.ipynb[2] aka ### select tree\n",
      "compiling /Users/briancullinan/jupyter_ops/Core/patterns.ipynb[0] aka ,### walk tree\n"
     ]
    }
   ],
   "source": [
    "var importer = require('../Core')\n",
    "var getExports = importer.import('get exports from source')\n",
    "var fs = require('fs')\n",
    "var path = require('path')\n",
    "var assert = require('assert')\n",
    "\n",
    "function updateNotebook(exports) {\n",
    "    // load current cache\n",
    "    var exportsCache = importer.import('exports cache')\n",
    "    var cacheCell = importer.interpret('exports cache')\n",
    "    // update with results from search\n",
    "    exports.forEach(e => {\n",
    "        exportsCache[e.id] = e.exports\n",
    "    })\n",
    "    var code = `\n",
    "// export cache automatically replaced\n",
    "var exportsCache = ${JSON.stringify(exportsCache)}\n",
    "\n",
    "module.exports = exportsCache\n",
    "`\n",
    "    var cachePath = path.resolve(__dirname, './cache.ipynb')\n",
    "    var notebook = JSON.parse(fs.readFileSync(cachePath))\n",
    "    // make sure the cell if where the cache says\n",
    "    assert(notebook.cells[cacheCell.to].source.join('')\n",
    "           .includes('export cache automatically replaced'),\n",
    "           'export cache cell could not be located')\n",
    "    // replace code cell with new code\n",
    "    notebook.cells[cacheCell.to].source = code.split('\\n')\n",
    "        .map(line => line + '\\n')\n",
    "    fs.writeFileSync(cachePath, JSON.stringify(notebook, null, 4))\n",
    "}\n",
    "\n",
    "function promiseExports(cell) {\n",
    "    return new Promise(resolve => {\n",
    "        setTimeout(() => {\n",
    "            try {\n",
    "                if (process.memoryUsage().heapUsed > 500000000) {\n",
    "                    throw new Error('out of memory')\n",
    "                }\n",
    "                console.log(cell.id)\n",
    "                cell.exports = getExports(cell.code)\n",
    "            } catch (e) {\n",
    "                cell.exports = e.message\n",
    "            }\n",
    "            resolve(cell)\n",
    "        }, 100)\n",
    "    })\n",
    "}\n",
    "\n",
    "function createExportCache(search) {\n",
    "    if(typeof search === 'undefined') {\n",
    "        var exportsCache = importer.import('exports cache')\n",
    "        var cachedFiles = Object.keys(exportsCache)\n",
    "            .map(k => k.replace(/\\.ipynb\\[[0-9]+\\]$/ig, '.ipynb'))\n",
    "            .filter((f, i, arr) => arr.indexOf(f) === i)\n",
    "        var missing = importer.interpret()\n",
    "            .filter(cell => !cachedFiles.includes(path.basename(cell.filename)))\n",
    "            .sort((a, b) => b.mtime - a.mtime)\n",
    "        \n",
    "        search = missing.length > 0\n",
    "            ? missing.pop().id\n",
    "            : Object.keys(exportsCache)\n",
    "            .filter(k => exportsCache[k].includes('out of memory'))[0]\n",
    "            || Object.keys(exportsCache)\n",
    "            .filter(k => typeof exportsCache[k] !== 'object')[0]\n",
    "        \n",
    "        // search the whole notebook not just one cell\n",
    "        search = search.replace(/\\.ipynb\\[[0-9]+\\]$/ig, '.ipynb')\n",
    "    }\n",
    "    // TODO: one notebook at a time\n",
    "    var allCells = [].concat.apply([], importer.interpret(search))\n",
    "    var allCellIds = allCells.map(c => c.id)\n",
    "    console.log(`caching ${search} - ${allCells.length} cells`)\n",
    "    // get only first occurrence\n",
    "    allCells = allCells\n",
    "        .filter((c, i) => allCellIds.indexOf(c.id) == i)\n",
    "        .filter(c => c.code.length < 100000)\n",
    "    //    .slice(0, 10)\n",
    "    return Promise\n",
    "        .all(allCells.map(promiseExports))\n",
    "        .then(updateNotebook)\n",
    "}\n",
    "\n",
    "module.exports = createExportCache\n",
    "\n",
    "if(typeof $$ !== 'undefined') {\n",
    "    createExportCache()\n",
    "}\n"
   ]
  },
  {
   "cell_type": "markdown",
   "metadata": {},
   "source": [
    "#### TODO: cache every notebook in a seperate process?"
   ]
  },
  {
   "cell_type": "code",
   "execution_count": null,
   "metadata": {},
   "outputs": [],
   "source": [
    "\n",
    "\n"
   ]
  },
  {
   "cell_type": "markdown",
   "metadata": {},
   "source": [
    "### notebook cache tools\n",
    "\n",
    "Some tools for when to update the notebook cache.\n",
    "\n"
   ]
  },
  {
   "cell_type": "markdown",
   "metadata": {},
   "source": [
    "#### TODO: stale code\n",
    "\n",
    "Determine when to update a notebook. Handles the mtime property on cells.\n"
   ]
  },
  {
   "cell_type": "code",
   "execution_count": null,
   "metadata": {},
   "outputs": [],
   "source": []
  },
  {
   "cell_type": "markdown",
   "metadata": {},
   "source": [
    "#### TODO: update code cell\n",
    "\n",
    "Find the code cell following the specified lookup markdown and update the contents.\n"
   ]
  },
  {
   "cell_type": "code",
   "execution_count": null,
   "metadata": {},
   "outputs": [],
   "source": []
  },
  {
   "cell_type": "markdown",
   "metadata": {
    "heading_collapsed": true
   },
   "source": [
    "## TODO: bookmark cache\n",
    "\n",
    "Always wanted to write something like evernote to automatically pull in the content of pages I bookmark. Incognito mode on news sites to avoid payment. Ad block plugins installed.  Might as well make ad-blocked cached copies of every page I visit.\n",
    "\n",
    "\n"
   ]
  },
  {
   "cell_type": "code",
   "execution_count": null,
   "metadata": {
    "hidden": true
   },
   "outputs": [],
   "source": []
  },
  {
   "cell_type": "markdown",
   "metadata": {
    "heading_collapsed": true
   },
   "source": [
    "## TODO: documentation cache\n",
    "\n",
    "Tools for searching and downloading documention as it related to this library.\n",
    "\n"
   ]
  },
  {
   "cell_type": "code",
   "execution_count": null,
   "metadata": {
    "hidden": true
   },
   "outputs": [],
   "source": []
  }
 ],
 "metadata": {
  "kernelspec": {
   "display_name": "Javascript (Node.js)",
   "language": "javascript",
   "name": "javascript"
  },
  "language_info": {
   "file_extension": ".js",
   "mimetype": "application/javascript",
   "name": "javascript",
   "version": "10.16.0"
  }
 },
 "nbformat": 4,
 "nbformat_minor": 2
}
