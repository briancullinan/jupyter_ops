{
 "cells": [
  {
   "cell_type": "markdown",
   "metadata": {},
   "source": [
    "# cache\n",
    "\n",
    "Commands and population data for importing in to a database.\n",
    "\n",
    "Even M$ visual studio products have to cache symbols somewhere.\n",
    "\n",
    "I suppose this notebook should offline documentation too.\n"
   ]
  },
  {
   "cell_type": "markdown",
   "metadata": {},
   "source": [
    "## notebook cache\n",
    "\n",
    "Information about the current library cached.\n"
   ]
  },
  {
   "cell_type": "code",
   "execution_count": null,
   "metadata": {},
   "outputs": [],
   "source": []
  },
  {
   "cell_type": "markdown",
   "metadata": {},
   "source": [
    "### exports cache\n",
    "\n",
    "A cache of all exports, no matter the language.\n"
   ]
  },
  {
   "cell_type": "code",
   "execution_count": null,
   "metadata": {},
   "outputs": [],
   "source": []
  },
  {
   "cell_type": "markdown",
   "metadata": {
    "heading_collapsed": true
   },
   "source": [
    "#### the code\n",
    "\n",
    "exports cache?\n"
   ]
  },
  {
   "cell_type": "code",
   "execution_count": null,
   "metadata": {
    "hidden": true
   },
   "outputs": [],
   "source": [
    "\n",
    "// export cache automatically replaced\n",
    "var exportCache = {\"/Users/briancullinan/jupyter_ops/Core/files.ipynb\":\"out of memory\",\"/Users/briancullinan/jupyter_ops/Algorithms/audio.ipynb\":[\"walkAudio\",\"selectAudio\"],\"/Users/briancullinan/jupyter_ops/Analytics/calculations for life.ipynb\":[],\"/Users/briancullinan/jupyter_ops/Analytics/documentation.ipynb\":[],\"/Users/briancullinan/jupyter_ops/Analytics/movie database.ipynb\":\"out of memory\",\"/Users/briancullinan/jupyter_ops/Analytics/resume.ipynb\":\"out of memory\",\"/Users/briancullinan/jupyter_ops/Cloud Services/aws.ipynb\":\"out of memory\",\"/Users/briancullinan/jupyter_ops/Cloud Services/deploy host.ipynb\":\"out of memory\",\"/Users/briancullinan/jupyter_ops/Cloud Services/google cloud api.ipynb\":\"out of memory\",\"/Users/briancullinan/jupyter_ops/Cloud Services/google cloud commands.ipynb\":\"out of memory\",\"/Users/briancullinan/jupyter_ops/Cloud Services/google rpc.ipynb\":\"out of memory\",\"/Users/briancullinan/jupyter_ops/Cloud Services/google storage api.ipynb\":\"out of memory\",\"/Users/briancullinan/jupyter_ops/Core/aspects.ipynb\":\"out of memory\",\"/Users/briancullinan/jupyter_ops/Core/cache.ipynb\":\"out of memory\",\"/Users/briancullinan/jupyter_ops/Core/compile.ipynb\":\"out of memory\",\"/Users/briancullinan/jupyter_ops/Core/import.ipynb\":\"out of memory\",\"/Users/briancullinan/jupyter_ops/Core/intent.ipynb\":\"out of memory\",\"/Users/briancullinan/jupyter_ops/Core/kernels.ipynb\":\"out of memory\",\"/Users/briancullinan/jupyter_ops/Core/languages.ipynb\":\"out of memory\",\"/Users/briancullinan/jupyter_ops/Core/notebook.ipynb\":\"out of memory\",\"/Users/briancullinan/jupyter_ops/Core/patterns.ipynb\":\"out of memory\",\"/Users/briancullinan/jupyter_ops/Core/rpc.ipynb\":\"out of memory\",\"/Users/briancullinan/jupyter_ops/Core/syntax.ipynb\":\"out of memory\",\"/Users/briancullinan/jupyter_ops/Databases/git commands.ipynb\":\"out of memory\",\"/Users/briancullinan/jupyter_ops/Databases/git.ipynb\":\"out of memory\",\"/Users/briancullinan/jupyter_ops/Databases/npm.ipynb\":\"out of memory\",\"/Users/briancullinan/jupyter_ops/Databases/registry.ipynb\":\"out of memory\",\"/Users/briancullinan/jupyter_ops/Databases/sql to json.ipynb\":\"out of memory\",\"/Users/briancullinan/jupyter_ops/demo.ipynb\":\"out of memory\",\"/Users/briancullinan/jupyter_ops/Docker/docker commands.ipynb\":\"out of memory\",\"/Users/briancullinan/jupyter_ops/Docker/docker demo.ipynb\":\"out of memory\",\"/Users/briancullinan/jupyter_ops/Docker/dotnet.ipynb\":\"out of memory\",\"/Users/briancullinan/jupyter_ops/Docker/install Docker on Mac.ipynb\":\"out of memory\",\"/Users/briancullinan/jupyter_ops/Docker/install Docker on Windows.ipynb\":\"out of memory\",\"/Users/briancullinan/jupyter_ops/Docker/node install.ipynb\":\"out of memory\",\"/Users/briancullinan/jupyter_ops/Exercises/falsey javascript.ipynb\":\"out of memory\",\"/Users/briancullinan/jupyter_ops/Exercises/fizz buzz.ipynb\":\"out of memory\",\"/Users/briancullinan/jupyter_ops/Exercises/math.ipynb\":\"out of memory\",\"/Users/briancullinan/jupyter_ops/Frameworks/Angular/Angular 2.ipynb\":\"out of memory\",\"/Users/briancullinan/jupyter_ops/Frameworks/Angular/Angular components.ipynb\":\"out of memory\",\"/Users/briancullinan/jupyter_ops/Frameworks/Angular/angular core modules.ipynb\":\"out of memory\",\"/Users/briancullinan/jupyter_ops/Frameworks/Angular/angular render service.ipynb\":\"out of memory\",\"/Users/briancullinan/jupyter_ops/Frameworks/Angular/angular-cli.ipynb\":\"out of memory\",\"/Users/briancullinan/jupyter_ops/Frameworks/Angular/build Angular components.ipynb\":\"out of memory\",\"/Users/briancullinan/jupyter_ops/Frameworks/Angular/display angular.ipynb\":\"out of memory\",\"/Users/briancullinan/jupyter_ops/Frameworks/autorewire.ipynb\":\"out of memory\",\"/Users/briancullinan/jupyter_ops/Frameworks/d3 dates.ipynb\":\"out of memory\",\"/Users/briancullinan/jupyter_ops/Frameworks/d3.ipynb\":\"out of memory\",\"/Users/briancullinan/jupyter_ops/Frameworks/de-linting.ipynb\":\"out of memory\",\"/Users/briancullinan/jupyter_ops/Frameworks/git repos.ipynb\":\"out of memory\",\"/Users/briancullinan/jupyter_ops/Frameworks/gulp.ipynb\":\"out of memory\",\"/Users/briancullinan/jupyter_ops/Frameworks/How code should look.ipynb\":\"out of memory\",\"/Users/briancullinan/jupyter_ops/Frameworks/identity server.ipynb\":\"out of memory\",\"/Users/briancullinan/jupyter_ops/Frameworks/jupyter interaction.ipynb\":\"out of memory\",\"/Users/briancullinan/jupyter_ops/Frameworks/Jupyter language kernels.ipynb\":\"out of memory\",\"/Users/briancullinan/jupyter_ops/Frameworks/jupyter.ipynb\":\"out of memory\",\"/Users/briancullinan/jupyter_ops/Frameworks/jwt in csharp.ipynb\":\"out of memory\",\"/Users/briancullinan/jupyter_ops/Frameworks/karma template.ipynb\":\"out of memory\",\"/Users/briancullinan/jupyter_ops/Frameworks/ngx-translate.ipynb\":\"out of memory\",\"/Users/briancullinan/jupyter_ops/Frameworks/node express.ipynb\":\"out of memory\",\"/Users/briancullinan/jupyter_ops/Frameworks/node simple-imap.ipynb\":\"out of memory\",\"/Users/briancullinan/jupyter_ops/Frameworks/promisify automock socketio.ipynb\":\"out of memory\",\"/Users/briancullinan/jupyter_ops/Frameworks/register jupter kernels.ipynb\":\"out of memory\",\"/Users/briancullinan/jupyter_ops/Frameworks/test runner.ipynb\":\"out of memory\",\"/Users/briancullinan/jupyter_ops/Frameworks/twilio.ipynb\":\"out of memory\",\"/Users/briancullinan/jupyter_ops/Frameworks/zuora to eloqua.ipynb\":\"out of memory\",\"/Users/briancullinan/jupyter_ops/Google/google calendar data.ipynb\":\"out of memory\",\"/Users/briancullinan/jupyter_ops/Google/google calendar graphs.ipynb\":\"out of memory\",\"/Users/briancullinan/jupyter_ops/Google/google calendar.ipynb\":\"out of memory\",\"/Users/briancullinan/jupyter_ops/Google/google contacts.ipynb\":\"out of memory\",\"/Users/briancullinan/jupyter_ops/Google/google drive.ipynb\":\"out of memory\",\"/Users/briancullinan/jupyter_ops/Google/google maps.ipynb\":\"out of memory\",\"/Users/briancullinan/jupyter_ops/Google/google scheduling.ipynb\":\"out of memory\",\"/Users/briancullinan/jupyter_ops/Google/google search api.ipynb\":\"out of memory\",\"/Users/briancullinan/jupyter_ops/Google/google sheets.ipynb\":\"out of memory\",\"/Users/briancullinan/jupyter_ops/Marketing/2017 Update.ipynb\":\"out of memory\",\"/Users/briancullinan/jupyter_ops/Marketing/brians resume.ipynb\":\"out of memory\",\"/Users/briancullinan/jupyter_ops/Marketing/convert spreadsheet.ipynb\":\"out of memory\",\"/Users/briancullinan/jupyter_ops/Marketing/ECommerce.ipynb\":\"out of memory\",\"/Users/briancullinan/jupyter_ops/Marketing/Good UX Intro.ipynb\":\"out of memory\",\"/Users/briancullinan/jupyter_ops/Marketing/Landing Pages.ipynb\":\"out of memory\",\"/Users/briancullinan/jupyter_ops/Marketing/marketing scripts.ipynb\":\"out of memory\",\"/Users/briancullinan/jupyter_ops/Marketing/study sauce.ipynb\":\"out of memory\",\"/Users/briancullinan/jupyter_ops/Marketing/Wireframing.ipynb\":\"out of memory\",\"/Users/briancullinan/jupyter_ops/Selenium/avidbrain.ipynb\":\"out of memory\",\"/Users/briancullinan/jupyter_ops/Selenium/data collection.ipynb\":\"out of memory\",\"/Users/briancullinan/jupyter_ops/Selenium/facebook connections.ipynb\":\"out of memory\",\"/Users/briancullinan/jupyter_ops/Selenium/facebook data.ipynb\":\"out of memory\",\"/Users/briancullinan/jupyter_ops/Selenium/facebook messaging.ipynb\":\"out of memory\",\"/Users/briancullinan/jupyter_ops/Selenium/forms.ipynb\":\"out of memory\",\"/Users/briancullinan/jupyter_ops/Selenium/github.ipynb\":\"out of memory\",\"/Users/briancullinan/jupyter_ops/Selenium/google authorize.ipynb\":\"out of memory\",\"/Users/briancullinan/jupyter_ops/Selenium/google takeout.ipynb\":\"out of memory\",\"/Users/briancullinan/jupyter_ops/Selenium/google timeline.ipynb\":\"out of memory\",\"/Users/briancullinan/jupyter_ops/Selenium/linkedin connections.ipynb\":\"out of memory\",\"/Users/briancullinan/jupyter_ops/Selenium/linkedin messages.ipynb\":\"out of memory\",\"/Users/briancullinan/jupyter_ops/Selenium/orchestration.ipynb\":\"out of memory\",\"/Users/briancullinan/jupyter_ops/Selenium/selenium commands.ipynb\":\"out of memory\",\"/Users/briancullinan/jupyter_ops/Selenium/selenium demo.ipynb\":\"out of memory\",\"/Users/briancullinan/jupyter_ops/Selenium/selenium server.ipynb\":\"out of memory\",\"/Users/briancullinan/jupyter_ops/Selenium/service auth.ipynb\":\"out of memory\",\"/Users/briancullinan/jupyter_ops/Selenium/utilities.ipynb\":\"out of memory\",\"/Users/briancullinan/jupyter_ops/Selenium/webdriver.ipynb\":\"out of memory\",\"/Users/briancullinan/jupyter_ops/Selenium/What is Selenium.ipynb\":\"out of memory\",\"/Users/briancullinan/jupyter_ops/Selenium/you earned it.ipynb\":\"out of memory\",\"/Users/briancullinan/jupyter_ops/Utilities/bash.ipynb\":\"out of memory\",\"/Users/briancullinan/jupyter_ops/Utilities/child process.ipynb\":\"out of memory\",\"/Users/briancullinan/jupyter_ops/Utilities/compress.ipynb\":\"out of memory\",\"/Users/briancullinan/jupyter_ops/Utilities/dates.ipynb\":\"out of memory\",\"/Users/briancullinan/jupyter_ops/Utilities/diff.ipynb\":\"out of memory\",\"/Users/briancullinan/jupyter_ops/Utilities/heartbeat.ipynb\":\"out of memory\",\"/Users/briancullinan/jupyter_ops/Utilities/levenshtein.ipynb\":\"out of memory\",\"/Users/briancullinan/jupyter_ops/Utilities/mono.ipynb\":\"out of memory\",\"/Users/briancullinan/jupyter_ops/Utilities/nmap.ipynb\":\"out of memory\",\"/Users/briancullinan/jupyter_ops/Utilities/openssl.ipynb\":\"out of memory\",\"/Users/briancullinan/jupyter_ops/Utilities/parse.ipynb\":\"out of memory\",\"/Users/briancullinan/jupyter_ops/Utilities/polyfills.ipynb\":\"out of memory\",\"/Users/briancullinan/jupyter_ops/Utilities/qr codes.ipynb\":\"out of memory\",\"/Users/briancullinan/jupyter_ops/Utilities/scraping.ipynb\":\"out of memory\",\"/Users/briancullinan/jupyter_ops/Utilities/uuid.ipynb\":\"out of memory\",\"/Users/briancullinan/jupyter_ops/Utilities/vnc.ipynb\":\"out of memory\",\"/Users/briancullinan/jupyter_ops/Utilities/windows.ipynb\":\"out of memory\"}\n",
    "\n",
    "module.exports = exportCache\n",
    "\n"
   ]
  },
  {
   "cell_type": "markdown",
   "metadata": {
    "heading_collapsed": true
   },
   "source": [
    "#### create export cache?\n",
    "\n"
   ]
  },
  {
   "cell_type": "code",
   "execution_count": null,
   "metadata": {
    "hidden": true
   },
   "outputs": [
    {
     "name": "stdout",
     "output_type": "stream",
     "text": [
      "compiling /Users/briancullinan/jupyter_ops/Core/syntax.ipynb[2] aka ### get exports from source\n",
      "compiling /Users/briancullinan/jupyter_ops/Core/syntax.ipynb[16] aka select ast\n",
      "compiling /Users/briancullinan/jupyter_ops/Core/syntax.ipynb[11] aka tree to html\n",
      "compiling /Users/briancullinan/jupyter_ops/Core/patterns.ipynb[2] aka ### select tree\n",
      "compiling /Users/briancullinan/jupyter_ops/Core/patterns.ipynb[0] aka ,### walk tree\n"
     ]
    }
   ],
   "source": [
    "var importer = require('../Core')\n",
    "var getExports = importer.import('get exports from source')\n",
    "var fs = require('fs')\n",
    "var path = require('path')\n",
    "var assert = require('assert')\n",
    "\n",
    "function updateNotebook(exports) {\n",
    "    // load current cache\n",
    "    var exportsCache = importer.import('exports cache')\n",
    "    var cacheCell = importer.interpret('exports cache')\n",
    "    // update with results from search\n",
    "    exports.forEach(e => {\n",
    "        exportsCache[e.id] = e.exports\n",
    "    })\n",
    "    var code = `\n",
    "// export cache automatically replaced\n",
    "var exportsCache = ${JSON.stringify(cache)}\n",
    "\n",
    "module.exports = exportsCache\n",
    "`\n",
    "    var cachePath = path.resolve(__dirname, './cache.ipynb')\n",
    "    var notebook = JSON.parse(fs.readFileSync(cachePath))\n",
    "    // make sure the cell if where the cache says\n",
    "    assert(notebook.cells[cacheCell.to]\n",
    "           .includes('export cache automatically replaced'),\n",
    "           'export cache cell could not be located')\n",
    "    // replace code cell with new code\n",
    "    notebook.cells[cacheCell.to].source = code.split('\\n')\n",
    "        .map(line => line + '\\n')\n",
    "    fs.writeFileSync(cachePath, JSON.stringify(notebook, null, 4))\n",
    "}\n",
    "\n",
    "function promiseExports(cell) {\n",
    "    return new Promise(resolve => {\n",
    "        setTimeout(() => {\n",
    "            try {\n",
    "                if (process.memoryUsage().heapUsed > 500000000) {\n",
    "                    throw new Error('out of memory')\n",
    "                }\n",
    "                console.log(cell.filename)\n",
    "                cell.exports = getExports(cell.code)\n",
    "            } catch (e) {\n",
    "                cell.exports = e.message\n",
    "            }\n",
    "            resolve(cell)\n",
    "        }, 100)\n",
    "    })\n",
    "}\n",
    "\n",
    "function createExportCache(search) {\n",
    "    // TODO: one notebook at a time\n",
    "    var allCells = importer.interpret([search])\n",
    "    var allCellIds = allCells.map(c => c.id)\n",
    "    // get only first occurrence\n",
    "    allCells = allCells\n",
    "        .filter((c, i) => allCellIds.indexOf(c.id) == i)\n",
    "        .filter(c => c.code.length < 10000\n",
    "                && c.code.trim().length > 10)\n",
    "    //    .slice(0, 10)\n",
    "    return Promise\n",
    "        .all(allCells.map(promiseExports))\n",
    "        .then(updateNotebook)\n",
    "}\n",
    "\n",
    "module.exports = createExportCache\n",
    "\n",
    "if(typeof $$ !== 'undefined') {\n",
    "    createExportCache()\n",
    "}\n"
   ]
  },
  {
   "cell_type": "markdown",
   "metadata": {
    "heading_collapsed": true
   },
   "source": [
    "#### TODO: cache every notebook in a seperate process?"
   ]
  },
  {
   "cell_type": "code",
   "execution_count": null,
   "metadata": {
    "hidden": true
   },
   "outputs": [],
   "source": [
    "\n",
    "\n"
   ]
  },
  {
   "cell_type": "markdown",
   "metadata": {},
   "source": [
    "## TODO: bookmark cache\n",
    "\n",
    "Always wanted to write something like evernote to automatically pull in the content of pages I bookmark. Incognito mode on news sites to avoid payment. Ad block plugins installed.  Might as well make ad-blocked cached copies of every page I visit.\n",
    "\n",
    "\n"
   ]
  },
  {
   "cell_type": "code",
   "execution_count": null,
   "metadata": {},
   "outputs": [],
   "source": []
  },
  {
   "cell_type": "markdown",
   "metadata": {},
   "source": [
    "## TODO: documentation cache\n",
    "\n",
    "Tools for searching and downloading documention as it related to this library.\n",
    "\n"
   ]
  },
  {
   "cell_type": "code",
   "execution_count": null,
   "metadata": {},
   "outputs": [],
   "source": []
  }
 ],
 "metadata": {
  "kernelspec": {
   "display_name": "Javascript (Node.js)",
   "language": "javascript",
   "name": "javascript"
  },
  "language_info": {
   "file_extension": ".js",
   "mimetype": "application/javascript",
   "name": "javascript",
   "version": "10.16.0"
  }
 },
 "nbformat": 4,
 "nbformat_minor": 2
}
