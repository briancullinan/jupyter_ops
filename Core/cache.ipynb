{
 "cells": [
  {
   "cell_type": "markdown",
   "metadata": {},
   "source": [
    "# cache\n",
    "\n",
    "Commands and population data for importing in to a database.\n",
    "\n",
    "Even M$ visual studio products have to cache symbols somewhere.\n",
    "\n",
    "I suppose this notebook should offline documentation too.\n"
   ]
  },
  {
   "cell_type": "markdown",
   "metadata": {},
   "source": [
    "## notebook cache\n",
    "\n",
    "Information about the current library cached.\n"
   ]
  },
  {
   "cell_type": "code",
   "execution_count": null,
   "metadata": {},
   "outputs": [],
   "source": []
  },
  {
   "cell_type": "markdown",
   "metadata": {},
   "source": [
    "### exports cache\n",
    "\n",
    "A cache of all exports, no matter the language.\n"
   ]
  },
  {
   "cell_type": "code",
   "execution_count": null,
   "metadata": {},
   "outputs": [],
   "source": []
  },
  {
   "cell_type": "markdown",
   "metadata": {},
   "source": [
    "#### the code\n",
    "\n",
    "exports cache?\n"
   ]
  },
  {
   "cell_type": "code",
   "execution_count": null,
   "metadata": {},
   "outputs": [],
   "source": [
    "// export cache automatically replaced"
   ]
  },
  {
   "cell_type": "markdown",
   "metadata": {},
   "source": [
    "#### create export cache?\n",
    "\n"
   ]
  },
  {
   "cell_type": "code",
   "execution_count": null,
   "metadata": {},
   "outputs": [
    {
     "name": "stdout",
     "output_type": "stream",
     "text": [
      "compiling /Users/briancullinan/jupyter_ops/Core/syntax.ipynb[2] aka ### get exports from source\n",
      "compiling /Users/briancullinan/jupyter_ops/Core/syntax.ipynb[16] aka select ast\n",
      "compiling /Users/briancullinan/jupyter_ops/Core/syntax.ipynb[11] aka tree to html\n",
      "compiling /Users/briancullinan/jupyter_ops/Core/patterns.ipynb[2] aka ### select tree\n",
      "compiling /Users/briancullinan/jupyter_ops/Core/patterns.ipynb[0] aka ,### walk tree\n"
     ]
    }
   ],
   "source": [
    "var importer = require('../Core')\n",
    "var getExports = importer.import('get exports from source')\n",
    "var fs = require('fs')\n",
    "var path = require('path')\n",
    "\n",
    "function updateNotebook(exports) {\n",
    "    var cache = {}\n",
    "    exports.forEach(e => {\n",
    "        cache[e.filename] = e.exports\n",
    "    })\n",
    "    console.log(cache)\n",
    "    var code = `\n",
    "// export cache automatically replaced\n",
    "var exportCache = ${JSON.stringify(cache)}\n",
    "\n",
    "module.exports = exportCache\n",
    "`\n",
    "    var cachePath = path.resolve(__dirname, './cache.ipynb')\n",
    "    var notebook = JSON.parse(fs.readFileSync(cachePath))\n",
    "    notebook.cells.forEach(c => {\n",
    "        if(c.cell_type === 'code'\n",
    "           && c.source.join('').includes('export cache automatically replaced')) {\n",
    "            c.source = code.split('\\n').map(line => line + '\\n')\n",
    "        }\n",
    "    })\n",
    "    fs.writeFileSync(cachePath, JSON.stringify(notebook, null, 4))\n",
    "}\n",
    "\n",
    "function promiseExports(cell) {\n",
    "    return new Promise(resolve => {\n",
    "        setTimeout(() => {\n",
    "            try {\n",
    "                if (process.memoryUsage().heapUsed > 200000000) {\n",
    "                    throw new Error('out of memory')\n",
    "                }\n",
    "                cell.exports = getExports(cell.code)\n",
    "            } catch (e) {\n",
    "                cell.exports = e.message\n",
    "            }\n",
    "            resolve(cell)\n",
    "        }, 100)\n",
    "    })\n",
    "}\n",
    "\n",
    "function createExportCache() {\n",
    "    var allCells = importer.interpret()\n",
    "    var allCellIds = allCells.map(c => c.id)\n",
    "    // get only first occurrence\n",
    "    allCells = allCells\n",
    "        .filter((c, i) => allCellIds.indexOf(c.id) == i)\n",
    "        .filter(c => c.code.length < 10000\n",
    "                && c.code.trim().length > 10)\n",
    "    //    .slice(0, 10)\n",
    "    return Promise\n",
    "        .all(allCells.map(promiseExports))\n",
    "        .then(updateNotebook)\n",
    "}\n",
    "\n",
    "module.exports = createExportCache\n",
    "\n",
    "if(typeof $$ !== 'undefined') {\n",
    "    createExportCache()\n",
    "}\n"
   ]
  },
  {
   "cell_type": "markdown",
   "metadata": {},
   "source": [
    "## TODO: bookmark cache\n",
    "\n",
    "Always wanted to write something like evernote to automatically pull in the content of pages I bookmark. Incognito mode on news sites to avoid payment. Ad block plugins installed.  Might as well make ad-blocked cached copies of every page I visit.\n",
    "\n",
    "\n"
   ]
  },
  {
   "cell_type": "code",
   "execution_count": null,
   "metadata": {},
   "outputs": [],
   "source": []
  },
  {
   "cell_type": "markdown",
   "metadata": {},
   "source": [
    "## TODO: documentation cache\n",
    "\n",
    "Tools for searching and downloading documention as it related to this library.\n",
    "\n"
   ]
  },
  {
   "cell_type": "code",
   "execution_count": null,
   "metadata": {},
   "outputs": [],
   "source": []
  }
 ],
 "metadata": {
  "kernelspec": {
   "display_name": "Javascript (Node.js)",
   "language": "javascript",
   "name": "javascript"
  },
  "language_info": {
   "file_extension": ".js",
   "mimetype": "application/javascript",
   "name": "javascript",
   "version": "10.16.0"
  }
 },
 "nbformat": 4,
 "nbformat_minor": 2
}
