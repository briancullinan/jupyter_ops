{
 "cells": [
  {
   "cell_type": "markdown",
   "metadata": {},
   "source": [
    "\n",
    ">TODO: HOW TO MAKE THIS HEADER SMALLER?\n",
    "\n",
    "How to provide this command as a service to other notebooks?\n",
    "\n",
    "What to include to create inheritence in jupyter?\n"
   ]
  },
  {
   "cell_type": "code",
   "execution_count": 1,
   "metadata": {
    "collapsed": false,
    "inputHidden": false,
    "outputHidden": false
   },
   "outputs": [],
   "source": [
    "$$.async()\n",
    "setTimeout(() => $$.done(1), 0);\n"
   ]
  },
  {
   "cell_type": "code",
   "execution_count": 1,
   "metadata": {
    "collapsed": false,
    "inputHidden": false,
    "outputHidden": false
   },
   "outputs": [],
   "source": [
    "$$.async();\n",
    "setTimeout(() => {\n",
    "try {\n",
    "    throw 'should only fail per cell';\n",
    "}\n",
    "catch(e) {\n",
    "    $$.done(e);\n",
    "}}, 10);\n"
   ]
  },
  {
   "cell_type": "code",
   "execution_count": null,
   "metadata": {
    "collapsed": false,
    "inputHidden": false,
    "outputHidden": false
   },
   "outputs": [],
   "source": [
    "// hole in documentation?\n",
    "/*\n",
    "$$.async();\n",
    "setTimeout(() => {\n",
    "    throw 'should only fail per cell';\n",
    "});\n",
    "never returns output\n",
    "*/\n",
    "\n"
   ]
  },
  {
   "cell_type": "code",
   "execution_count": null,
   "metadata": {
    "collapsed": false,
    "inputHidden": false,
    "outputHidden": false
   },
   "outputs": [],
   "source": [
    "$$.async()\n",
    "setTimeout(() => $$.done('import successful'), 20);\n"
   ]
  },
  {
   "cell_type": "markdown",
   "metadata": {},
   "source": [
    "How to import functions from notebooks?"
   ]
  },
  {
   "cell_type": "code",
   "execution_count": 1,
   "metadata": {
    "collapsed": false,
    "inputHidden": false,
    "outputHidden": false
   },
   "outputs": [
    {
     "name": "stdout",
     "output_type": "stream",
     "text": [
      "Already imported\n",
      "[ 'How to find answers.ipynb' ]\n"
     ]
    },
    {
     "data": {
      "text/plain": [
       "[ { 'How to find answers.ipynb[0]': [Function: importNotebook],\n",
       "    'How to find answers.ipynb[1]': [Function: getCells] } ]"
      ]
     },
     "execution_count": 1,
     "metadata": {},
     "output_type": "execute_result"
    }
   ],
   "source": [
    "// initialize\n",
    "/*\n",
    "var importNotebook = require('./').importNotebook;\n",
    "    \n",
    "try {\n",
    "\n",
    "    $$.async();\n",
    "\n",
    "    // How to test to make sure the cell parser works\n",
    "    Promise.all([importNotebook('How to find answers.ipynb')])\n",
    "        .then((r) => $$.sendResult(r))\n",
    "        .catch((e) => $$.sendError(e));\n",
    "        \n",
    "}catch(e){$$.sendError(e)}\n",
    "*/\n",
    "// $$.done() for our dumb parser\n"
   ]
  },
  {
   "cell_type": "code",
   "execution_count": null,
   "metadata": {
    "collapsed": false,
    "inputHidden": false,
    "outputHidden": false
   },
   "outputs": [],
   "source": []
  }
 ],
 "metadata": {
  "kernel_info": {
   "name": "node_nteract"
  },
  "kernelspec": {
   "display_name": "Javascript (Node.js)",
   "language": "javascript",
   "name": "javascript"
  },
  "language_info": {
   "file_extension": ".js",
   "mimetype": "application/javascript",
   "name": "javascript",
   "version": "7.7.2"
  }
 },
 "nbformat": 4,
 "nbformat_minor": 4
}
