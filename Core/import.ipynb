{
 "cells": [
  {
   "cell_type": "markdown",
   "metadata": {},
   "source": [
    "# import notebook?\n",
    "\n",
    "How to execute and import a jupyter notebook?\n",
    "\n"
   ]
  },
  {
   "cell_type": "markdown",
   "metadata": {},
   "source": [
    "How to use inheritence in jupyter notebooks?\n",
    "\n",
    "How to make a class out of jupter notebooks?\n",
    "\n",
    "How to use jupyter notebooks as services?\n",
    "\n",
    "TODO: not allowed to import cells that are not fully validated and unit tested.\n"
   ]
  },
  {
   "cell_type": "markdown",
   "metadata": {
    "heading_collapsed": true
   },
   "source": [
    "## importNotebook(search)\n"
   ]
  },
  {
   "cell_type": "markdown",
   "metadata": {
    "heading_collapsed": true,
    "hidden": true
   },
   "source": [
    "#### the code\n",
    "\n"
   ]
  },
  {
   "cell_type": "code",
   "execution_count": 1,
   "metadata": {
    "collapsed": true,
    "hidden": true,
    "inputHidden": false,
    "outputHidden": false
   },
   "outputs": [],
   "source": [
    "// initialize\n",
    "var path = require('path');\n",
    "var fs = require('fs')\n",
    "\n",
    "// TODO: combine with id2 from rpc and nicename from notebook export\n",
    "// TODO: insert niceName and getExports here?\n",
    "// must have a unique id for each unique cell so that\n",
    "// individual cells can serve as modules as well as notebooks\n",
    "// adding the cell id as a part of the filename\n",
    "function getCellPath(cell) {\n",
    "    var question = cell.questions && cell.questions[0]\n",
    "        ? (' aka ' + cell.questions[0].substr(0, 50))\n",
    "        : '';\n",
    "    return path.join(path.dirname(path.resolve(cell.filename)), cell.id) + question\n",
    "}\n",
    "\n",
    "// How to test if a notebook has already been imported\n",
    "function importNotebook(notebook, ctx = {}) {\n",
    "    if (typeof notebook === 'undefined') {\n",
    "        return Promise.resolve({});\n",
    "    }\n",
    "    // read notebook from files and make a module\n",
    "    var cells;\n",
    "    if(notebook[0] === '.'\n",
    "       && fs.existsSync(path.resolve(__dirname, notebook))) {\n",
    "        cells = getCells(path.resolve(__dirname, notebook))\n",
    "    } else {\n",
    "        cells = interpret(notebook)\n",
    "    }\n",
    "\n",
    "    if(typeof cells.code !== 'undefined') {\n",
    "        \n",
    "        return makeModule(cells.source.join(''),\n",
    "                          getCellPath(cells),\n",
    "                          ctx);\n",
    "        \n",
    "    }\n",
    "    console.log(`importing ${notebook} - ${cells.length} cells`)\n",
    "    return cells.reduce((obj, c, i) => {\n",
    "        \n",
    "        var result = makeModule(c.source.join(''),\n",
    "                                getCellPath(c),\n",
    "                                ctx);\n",
    "        \n",
    "        if(typeof result === 'object') {\n",
    "            if(typeof result[Object.keys(result)[0]] === 'function') {\n",
    "                const func = result[Object.keys(result)[0]];\n",
    "                obj[cells[i].id] = func;\n",
    "                obj[func.name] = obj[cells[i].id];\n",
    "            }\n",
    "            Object.assign(obj, result)\n",
    "        }\n",
    "        if (typeof result === 'function') {\n",
    "            obj[cells[i].id] = result;\n",
    "            obj[result.name] = obj[cells[i].id];\n",
    "        }\n",
    "        obj[i] = result;\n",
    "        Object.assign(ctx, obj);\n",
    "        return obj;\n",
    "    }, {});\n",
    "}\n",
    "\n",
    "module.exports.import = importNotebook;\n",
    "\n",
    "// $$.done(); for our dumb parser\n",
    "\n"
   ]
  },
  {
   "cell_type": "markdown",
   "metadata": {
    "heading_collapsed": true
   },
   "source": [
    "## makeModule(code, path, context)\n",
    "\n",
    "Imports arbitrary code as a Node module.\n"
   ]
  },
  {
   "cell_type": "markdown",
   "metadata": {
    "heading_collapsed": true,
    "hidden": true
   },
   "source": [
    "#### make a module from a string of code\n",
    "\n"
   ]
  },
  {
   "cell_type": "markdown",
   "metadata": {
    "hidden": true
   },
   "source": [
    "Import arbitrary code in to the current context?\n",
    "\n",
    "Import arbitrary code in to a new context?\n",
    "\n",
    "\n",
    "## options\n",
    "\n",
    "* useCache: true\n",
    "* __filename: path or filename in errors\n",
    "* \n",
    "\n",
    "\n",
    "TODO: webpack other languages and import\n",
    "\n",
    "TODO: use zeromq to import any language using other kernels\n",
    "\n",
    "TODO: use language server from VS Code\n"
   ]
  },
  {
   "cell_type": "markdown",
   "metadata": {
    "heading_collapsed": true,
    "hidden": true
   },
   "source": [
    "#### the code\n",
    "\n",
    "how does node module require work?\n",
    "\n",
    "How to turn jupyter notebooks in to modules?\n"
   ]
  },
  {
   "cell_type": "code",
   "execution_count": null,
   "metadata": {
    "collapsed": true,
    "hidden": true
   },
   "outputs": [],
   "source": [
    "// initialize\n",
    "\n",
    "var Module = require('module').Module\n",
    "var path = require('path')\n",
    "\n",
    "function getCached(filepath) {\n",
    "    // must have a new name for every generation otherwise cache will be returned\n",
    "    var mtime = fs.statSync(filepath\n",
    "    // TODO: find a better way to serve notebook names\n",
    "        .replace(/\\.ipynb(\\[[0-9]+\\]).*$/ig, '.ipynb')).mtime.getTime();\n",
    "\n",
    "    // TODO: don't use cache of parent modules that have includes that have changed\n",
    "    var cachedModule = Module._cache[filepath];\n",
    "    if (cachedModule && mtime < cachedModule.buildTime) {\n",
    "        return cachedModule;\n",
    "    }\n",
    "}\n",
    "\n",
    "function makeModule(code, pathToCode, ctxGlobal) {\n",
    "    var filepath = path.resolve(process.cwd(), pathToCode);\n",
    "    \n",
    "    ctxGlobal = ctxGlobal || {}\n",
    "    ctxGlobal.module = getCached(filepath)\n",
    "    if(ctxGlobal.module) {\n",
    "        return ctxGlobal.module.exports\n",
    "    }\n",
    "    Object.assign(ctxGlobal, {\n",
    "        importer: require('../Core'),\n",
    "        module: new Module(filepath, ctxGlobal.module),\n",
    "        exports: {}\n",
    "    })\n",
    "    Object.assign(ctxGlobal.module, {\n",
    "        module: ctxGlobal.module,\n",
    "        exports: ctxGlobal.exports,\n",
    "        parent: module,\n",
    "        buildTime: (new Date()).getTime(),\n",
    "        filename: pathToCode,\n",
    "        paths: Module._nodeModulePaths(path.dirname(filepath))\n",
    "    })\n",
    "    Module._cache[filepath] = ctxGlobal.module;\n",
    "    \n",
    "    // this is basically the magic of the 'rewire' module, reuse this?\n",
    "    const validVars = Object.keys(ctxGlobal)\n",
    "        .filter(k => k.match(/^[a-z_][a-z0-9_]*$/i))\n",
    "        .join(',');\n",
    "\n",
    "    console.info('compiling ' + pathToCode);\n",
    "    \n",
    "    // TODO: use the transpiler or kernels here\n",
    "    ctxGlobal.module._compile(`\n",
    "module.exports = (({${validVars}}) => {\n",
    "${code}\n",
    "})`, filepath);\n",
    "    \n",
    "    // assign the actual imports internally by calling the func export\n",
    "    var result = ctxGlobal.module.exports;\n",
    "    ctxGlobal.exports = ctxGlobal.module.exports = {};\n",
    "    result(ctxGlobal);\n",
    "    ctxGlobal.module.loaded = true;\n",
    "    ctxGlobal.module.exports = ctxGlobal.module.exports\n",
    "        || ctxGlobal.exports || result;\n",
    "    return ctxGlobal.module.exports;\n",
    "}\n",
    "\n",
    "module.exports.makeModule = makeModule;\n",
    "\n",
    "// $$.done() for our dumb parser\n"
   ]
  },
  {
   "cell_type": "markdown",
   "metadata": {
    "heading_collapsed": true
   },
   "source": [
    "## displayCell(id)\n"
   ]
  },
  {
   "cell_type": "markdown",
   "metadata": {
    "heading_collapsed": true,
    "hidden": true
   },
   "source": [
    "#### the code\n",
    "\n",
    "How to display interpreted results in markdown?\n",
    "\n"
   ]
  },
  {
   "cell_type": "code",
   "execution_count": null,
   "metadata": {
    "hidden": true
   },
   "outputs": [],
   "source": [
    "// initialize\n",
    "\n",
    "function resultMarkdown(res) {\n",
    "    return ('\\n\\n\\n' + res.length + ' match'\n",
    "        + (res.length !== 1 ? 'es' : '')\n",
    "        + ' found: ' + res.join(' , ') + '\\n\\n\\n'\n",
    "        + (res.length > 0\n",
    "            ? ('\\n\\n\\n' + res.markdown.join('\\n') + '\\n\\n\\n'\n",
    "                + '```\\n\\n\\n' + res.code + '\\n\\n\\n```\\n\\n\\n')\n",
    "            : ''));\n",
    "};\n",
    "\n",
    "function displayCell(results) {\n",
    "    return (typeof results[0] !== 'undefined' && typeof results[0] !== 'string'\n",
    "        ? results.reduce((str, res) => {\n",
    "            str += resultMarkdown(res);\n",
    "            return str;\n",
    "        }, '')\n",
    "        : resultMarkdown(results));\n",
    "}\n",
    "\n",
    "module.exports.displayCell = displayCell\n",
    "\n",
    "\n",
    "// $$.done() for our dumb parser\n"
   ]
  },
  {
   "cell_type": "markdown",
   "metadata": {},
   "source": [
    "## interpret(query)\n",
    "\n",
    "How to answer questions using jupyter notebooks and simple search?\n",
    "\n",
    "How to search jupter notebooks for questions and answers?\n"
   ]
  },
  {
   "cell_type": "markdown",
   "metadata": {
    "heading_collapsed": true
   },
   "source": [
    "#### search notebooks using question marks as the index\n",
    "\n"
   ]
  },
  {
   "cell_type": "markdown",
   "metadata": {
    "hidden": true
   },
   "source": [
    "This function has 4 modes:\n",
    "\n",
    "```\n",
    "search terms\n",
    "search notebook.ipynb\n",
    "search notebook.ipynb[0]\n",
    "search notebook.ipynb[search terms]\n",
    "```\n",
    "\n",
    "Passing in a string returns the top match of a single cell, unless the string names a notebook in which case it returns and Array of all the cells in the notebook.\n",
    "`[0]` returns the index of code cells, markdown cells are accumulated leading up to a code cell.\n",
    "`[search terms]` searches the markdown within the specified notebook, it's garunteed to return a cell from the notebook or no match error.\n",
    "\n"
   ]
  },
  {
   "cell_type": "markdown",
   "metadata": {},
   "source": [
    "#### the code\n",
    "\n",
    "How to search notebook questions?\n"
   ]
  },
  {
   "cell_type": "code",
   "execution_count": null,
   "metadata": {},
   "outputs": [],
   "source": [
    "// initialize\n",
    "\n",
    "var path = require('path');\n",
    "var fs = require('fs');\n",
    "var Fuse = require('fuse.js');\n",
    "var {\n",
    "    cacheAll,\n",
    "    cellCache,\n",
    "    lookupCell\n",
    "} = cache = importNotebook('./cache.ipynb')\n",
    "\n",
    "var FUSE_CONFIG = {\n",
    "    caseSensitive: false,\n",
    "    findAllMatches: true,\n",
    "    distance: 100,\n",
    "    threshold: 0.8,\n",
    "    tokenize: true,\n",
    "    shouldSort: true,\n",
    "    keys: ['2.questions'],\n",
    "    id: '1'\n",
    "}\n",
    "\n",
    "var token = new Fuse(cellCache, FUSE_CONFIG);\n",
    "var fuse = new Fuse(cellCache, Object.assign({}, FUSE_CONFIG, {\n",
    "    tokenize: false\n",
    "}));\n",
    "\n",
    "var first = true;\n",
    "function interpret(queries) {\n",
    "    if(first) {\n",
    "        first = false;\n",
    "        cacheAll();\n",
    "    }\n",
    "    \n",
    "    const fileMode = typeof queries === 'string' && queries.match(/\\.ipynb$/ig);\n",
    "    let searchResults = [].concat.apply([], (typeof queries === 'string'\n",
    "        ? [queries]\n",
    "        : queries).map(query => {\n",
    "        query = path.basename(query).split(/[\\[\\]]/ig);\n",
    "        var searchResults;\n",
    "        if (query.length === 3) {\n",
    "            searchResults = [searchQueryFiles(query)[0]]\n",
    "        } else if (query[0].match(/\\.ipynb$/ig)) {\n",
    "            searchResults = searchFiles(query[0]);\n",
    "        } else {\n",
    "            searchResults = [queryDatabase(query[0])[0]];\n",
    "        }\n",
    "        if(searchResults.length === 0 || typeof searchResults[0] === 'undefined')\n",
    "            throw new Error(`Nothing found for ${JSON.stringify(queries)\n",
    "                            .substr(0, 200)}`);\n",
    "        return searchResults\n",
    "    }))\n",
    "\n",
    "    return typeof queries === 'string' && !fileMode\n",
    "        ? lookupCell(searchResults[0])\n",
    "        : searchResults.map(r => lookupCell(r));\n",
    "}\n",
    "\n",
    "// filter query results by filename\n",
    "function filterFilename(arr, fname) {\n",
    "    return arr\n",
    "        .filter(id => id.substr(0, fname.length + 1) === fname + '[');\n",
    "}\n",
    "\n",
    "function queryDatabase(search) {\n",
    "    var tokenResults = token.search(search);\n",
    "    var fuseResults = fuse.search(search);\n",
    "    return fuseResults\n",
    "        .filter(s => tokenResults.includes(s))\n",
    "        .concat(tokenResults.filter(s => fuseResults.includes(s)))\n",
    "}\n",
    "\n",
    "function searchFiles(query) {\n",
    "    return filterFilename(cellCache.map(c => c.id),\n",
    "                          path.basename(query))\n",
    "        .sort((a, b) => \n",
    "              parseInt(a.split(/[\\[\\]]/ig)[1])\n",
    "              - parseInt(b.split(/[\\[\\]]/ig)[1]))\n",
    "}\n",
    "\n",
    "function searchQueryFiles(query) {\n",
    "    var isNumeric = parseInt(query[1]) + '' === query[1];\n",
    "    return isNumeric\n",
    "        ? [cellCache.filter(cell => cell.id === `${query[0]}[${query[1]}]`)[0].id]\n",
    "        : filterFilename(queryDatabase(query[1]), query[0])\n",
    "}\n",
    "\n",
    "module.exports.interpret = interpret;\n",
    "\n",
    "// $$.done() for our dumb parser\n"
   ]
  },
  {
   "cell_type": "markdown",
   "metadata": {},
   "source": [
    "## basic tools\n",
    "\n"
   ]
  },
  {
   "cell_type": "markdown",
   "metadata": {
    "heading_collapsed": true
   },
   "source": [
    "### streamJson()\n",
    "\n",
    "Because notebooks could store images and data sets. They might get fairly large, unfortunately. Stream the file so the big parts don't stick around in memory."
   ]
  },
  {
   "cell_type": "markdown",
   "metadata": {
    "heading_collapsed": true,
    "hidden": true
   },
   "source": [
    "#### the code\n",
    "\n",
    "How to stream json using a {match} function?\n",
    "\n",
    "TODO: remove dependence on jsonpath, don't need matching, just the streaming part\n"
   ]
  },
  {
   "cell_type": "code",
   "execution_count": null,
   "metadata": {
    "collapsed": true,
    "hidden": true,
    "inputHidden": false,
    "outputHidden": false
   },
   "outputs": [],
   "source": [
    "// initialize\n",
    "\n",
    "\n",
    "// TODO: replace json path with this\n",
    "function walkJson() {\n",
    "    \n",
    "}\n",
    "\n",
    "function selectJson() {\n",
    "    \n",
    "}\n",
    "\n",
    "var fs = require('fs');\n",
    "var {JSONPath} = require('jsonpath-plus');\n",
    "var fileCache = {};\n",
    "\n",
    "function streamJson(file, path, match = ((c) => true)) {\n",
    "    const json = JSON.parse(fs.readFileSync(file).toString());\n",
    "    const nodes = JSONPath({json: Object.assign({}, json), path: '$..', resultType: 'all', callback: n => {\n",
    "        if(typeof n.value !== 'object' || n.value === null) {\n",
    "            return;\n",
    "        }\n",
    "        try {\n",
    "            return match({\n",
    "                path: n.path.split(/[\\\\'\\]\\[\\$]+/igm).slice(1),\n",
    "                value: n.value\n",
    "            });\n",
    "        } catch (e) {\n",
    "            console.error(e);\n",
    "            return;\n",
    "        }\n",
    "    }});\n",
    "}\n",
    "\n",
    "module.exports.streamJson = streamJson;\n",
    "\n",
    "// $$.done() for our dumb parser\n"
   ]
  },
  {
   "cell_type": "markdown",
   "metadata": {
    "heading_collapsed": true
   },
   "source": [
    "### regexToArray(exp, source[, index])\n",
    "\n",
    "This should be built in to Javascript probably..\n"
   ]
  },
  {
   "cell_type": "markdown",
   "metadata": {
    "heading_collapsed": true,
    "hidden": true
   },
   "source": [
    "#### the code\n",
    "\n",
    "How to convert regexp matches to an array?"
   ]
  },
  {
   "cell_type": "code",
   "execution_count": null,
   "metadata": {
    "hidden": true
   },
   "outputs": [],
   "source": [
    "// initialize\n",
    "\n",
    "function regexToArray(ex, str, i = 0) {\n",
    "    var co = []; var m;\n",
    "    while ((m = ex.exec(str)) && co.push(m[i])) ;\n",
    "    return co;\n",
    "}\n",
    "\n",
    "module.exports.regexToArray = regexToArray;\n",
    "\n",
    "// $$.done() for our dumb parser\n"
   ]
  },
  {
   "cell_type": "markdown",
   "metadata": {
    "heading_collapsed": true
   },
   "source": [
    "### runAllPromises(promises[])\n",
    "\n",
    "Sometimes you want to run promises in series instead of in parallel.\n"
   ]
  },
  {
   "cell_type": "markdown",
   "metadata": {
    "heading_collapsed": true,
    "hidden": true
   },
   "source": [
    "#### the code\n",
    "\n",
    "How to run all promises sequentially?\n",
    "\n"
   ]
  },
  {
   "cell_type": "code",
   "execution_count": null,
   "metadata": {
    "collapsed": true,
    "hidden": true,
    "inputHidden": false,
    "outputHidden": false
   },
   "outputs": [],
   "source": [
    "// initialize\n",
    "\n",
    "function runAllPromises(promises) {\n",
    "    return promises.reduce((promise, func) => {\n",
    "        return promise.then(result => {\n",
    "            return (typeof func == 'function'\n",
    "                ? (new Promise(func)) : Promise.resolve(func))\n",
    "                .then(Array.prototype.concat.bind(result));\n",
    "        });\n",
    "    }, Promise.resolve([]));\n",
    "}\n",
    "\n",
    "module.exports.runAllPromises = runAllPromises;\n",
    "\n",
    "// $$.done() for our dumb parser\n",
    "\n"
   ]
  },
  {
   "cell_type": "markdown",
   "metadata": {
    "heading_collapsed": true
   },
   "source": [
    "### getCells(notebook)\n",
    "\n"
   ]
  },
  {
   "cell_type": "markdown",
   "metadata": {
    "heading_collapsed": true,
    "hidden": true
   },
   "source": [
    "#### the code\n",
    "\n",
    "How to parse cells from a notebook?\n",
    "\n"
   ]
  },
  {
   "cell_type": "code",
   "execution_count": null,
   "metadata": {
    "collapsed": true,
    "hidden": true,
    "inputHidden": false,
    "outputHidden": false
   },
   "outputs": [],
   "source": [
    "// initialize\n",
    "\n",
    "var path = require('path')\n",
    "\n",
    "function getCells(notebook, types = ['*', 'code']) {\n",
    "    notebook = path.resolve(notebook)\n",
    "    //console.info('reading notebook ' + notebook);\n",
    "    var json = JSON.parse(fs.readFileSync(notebook))\n",
    "    var kernel = json.metadata.kernelspec;\n",
    "    var cells = json.cells\n",
    "        .filter(c => types.includes(c.cell_type))\n",
    "        .map((c, i) => Object.assign(c, {\n",
    "            language: kernel.language,\n",
    "            filename: notebook,\n",
    "            id: `${path.basename(notebook)}[${i}]`\n",
    "        }));\n",
    "    return cells\n",
    "}\n",
    "\n",
    "module.exports.getCells = getCells;\n",
    "\n",
    "\n",
    "// $$.done() for our dumb parser\n"
   ]
  }
 ],
 "metadata": {
  "kernel_info": {
   "name": "javascript"
  },
  "kernelspec": {
   "display_name": "Javascript (Node.js)",
   "language": "javascript",
   "name": "javascript"
  },
  "language_info": {
   "file_extension": ".js",
   "mimetype": "application/javascript",
   "name": "javascript",
   "version": "10.16.0"
  }
 },
 "nbformat": 4,
 "nbformat_minor": 4
}
