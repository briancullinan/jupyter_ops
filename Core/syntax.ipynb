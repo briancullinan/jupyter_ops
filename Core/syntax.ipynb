{
 "cells": [
  {
   "cell_type": "markdown",
   "metadata": {},
   "source": [
    "# syntax tools\n",
    "\n",
    "\n"
   ]
  },
  {
   "cell_type": "markdown",
   "metadata": {
    "heading_collapsed": true
   },
   "source": [
    "## locating libraries\n",
    "\n"
   ]
  },
  {
   "cell_type": "markdown",
   "metadata": {
    "heading_collapsed": true,
    "hidden": true
   },
   "source": [
    "### get requires from source?\n",
    "\n",
    "get requires?\n",
    "\n",
    "throws an error on dynamic includes.\n"
   ]
  },
  {
   "cell_type": "markdown",
   "metadata": {
    "heading_collapsed": true,
    "hidden": true
   },
   "source": [
    "#### the code"
   ]
  },
  {
   "cell_type": "code",
   "execution_count": null,
   "metadata": {
    "hidden": true
   },
   "outputs": [],
   "source": [
    "var importer = require('../Core');\n",
    "var {selectAst, selectDom} = importer.import('./syntax.ipynb')\n",
    "\n",
    "// TODO: use this in files and gulp script \n",
    "//   require(\"module\").builtinModules\n",
    "function getRequires(code) {\n",
    "    return [].concat.apply([], selectAst([\n",
    "        `//CallExpression[./Identifier[@name=\"require\"]]`,\n",
    "        (ctx) => {\n",
    "            var req = selectDom([`.//Literal/@value`], ctx)\n",
    "            if(req.length === 0) throw new Error(\n",
    "                `dynamic require possibly? ${JSON.stringify(htmlToTree(ctx))}`)\n",
    "            return req;\n",
    "        }\n",
    "    ], code))\n",
    "}\n",
    "\n",
    "\n",
    "module.exports = getRequires;\n",
    "\n"
   ]
  },
  {
   "cell_type": "markdown",
   "metadata": {
    "heading_collapsed": true,
    "hidden": true
   },
   "source": [
    "#### test require detection\n",
    "\n"
   ]
  },
  {
   "cell_type": "code",
   "execution_count": null,
   "metadata": {
    "hidden": true
   },
   "outputs": [],
   "source": [
    "var importer = require('../Core');\n",
    "var {getRequires} = importer.import('./syntax.ipynb')\n",
    "\n",
    "var code = `\n",
    "var importer = require('../Core');\n",
    "var glob = require('glob');\n",
    "var path = require('path');\n",
    "`\n",
    "\n",
    "function testGetRequires() {\n",
    "    return getRequires(code)\n",
    "}\n",
    "\n",
    "if(typeof $$ != 'undefined') {\n",
    "    testGetRequires()\n",
    "    \n",
    "    /*\n",
    "    expected output\n",
    "    ../Core\n",
    "    glob\n",
    "    path\n",
    "    */\n",
    "}\n"
   ]
  },
  {
   "cell_type": "markdown",
   "metadata": {
    "heading_collapsed": true,
    "hidden": true
   },
   "source": [
    "### get exports from source?\n",
    "\n",
    "get module exports from source?\n"
   ]
  },
  {
   "cell_type": "markdown",
   "metadata": {
    "heading_collapsed": true,
    "hidden": true
   },
   "source": [
    "#### the code\n",
    "\n"
   ]
  },
  {
   "cell_type": "code",
   "execution_count": 1,
   "metadata": {
    "hidden": true
   },
   "outputs": [
    {
     "name": "stdout",
     "output_type": "stream",
     "text": [
      "compiling /Users/briancullinan/jupyter_ops/Core/files.ipynb[0] aka list project files\n",
      "compiling /Users/briancullinan/jupyter_ops/Core/files.ipynb[1] aka common ignore paths\n",
      "compiling /Users/briancullinan/jupyter_ops/Core/syntax.ipynb[11] aka select ast\n",
      "compiling /Users/briancullinan/jupyter_ops/Core/syntax.ipynb[6] aka tree to html\n",
      "compiling /Users/briancullinan/jupyter_ops/Core/patterns.ipynb[2] aka ### select tree\n",
      "compiling /Users/briancullinan/jupyter_ops/Core/patterns.ipynb[0] aka ,### walk tree\n"
     ]
    },
    {
     "data": {
      "text/plain": [
       "[Function: getExports]"
      ]
     },
     "execution_count": 1,
     "metadata": {},
     "output_type": "execute_result"
    }
   ],
   "source": [
    "var importer = require('../Core');\n",
    "var {selectAst} = importer.import('./syntax.ipynb')\n",
    "\n",
    "// TODO: does this work on other node_modules?\n",
    "function getExports(code) {\n",
    "    var exports = [].concat.apply([], selectAst([\n",
    "        `//AssignmentExpression[.//Identifier[@name=\"exports\"]]`,\n",
    "        [`.//Identifier/@name`]\n",
    "    ], code))\n",
    "    var functions = selectAst([\n",
    "        `//FunctionDeclaration/Identifier[@parent-attr=\"id\"]/@name`\n",
    "    ], code)\n",
    "    return exports.concat(functions)\n",
    "        .filter(e => e !== 'exports' && e !== 'require' && e !== 'module')\n",
    "        .filter((e, i, arr) => arr.indexOf(e) === i)\n",
    "}\n",
    "\n",
    "module.exports = getExports;\n"
   ]
  },
  {
   "cell_type": "markdown",
   "metadata": {
    "heading_collapsed": true,
    "hidden": true
   },
   "source": [
    "#### test export detection\n",
    "\n"
   ]
  },
  {
   "cell_type": "code",
   "execution_count": 11,
   "metadata": {
    "hidden": true
   },
   "outputs": [
    {
     "name": "stdout",
     "output_type": "stream",
     "text": [
      "compiling /Users/briancullinan/jupyter_ops/Core/syntax.ipynb[2] aka ### get exports from source\n",
      "compiling /Users/briancullinan/jupyter_ops/Core/syntax.ipynb[11] aka select ast\n",
      "compiling /Users/briancullinan/jupyter_ops/Core/syntax.ipynb[6] aka tree to html\n"
     ]
    },
    {
     "data": {
      "text/plain": [
       "[ 'import', 'importNotebook', 'testExports' ]"
      ]
     },
     "execution_count": 11,
     "metadata": {},
     "output_type": "execute_result"
    }
   ],
   "source": [
    "var importer = require('../Core');\n",
    "var getExports = importer.import('./syntax.ipynb')\n",
    "\n",
    "var code = `\n",
    "exports.import = importNotebook\n",
    "exports = testExports\n",
    "exports = require('../index.js')\n",
    "`\n",
    "\n",
    "function testGetExports() {\n",
    "    return getExports(code)\n",
    "}\n",
    "\n",
    "if(typeof $$ != 'undefined') {\n",
    "    testGetExports()\n",
    "    \n",
    "    /*\n",
    "    expected output\n",
    "    importNotebook\n",
    "    import\n",
    "    testExports\n",
    "    */\n",
    "}\n"
   ]
  },
  {
   "cell_type": "markdown",
   "metadata": {
    "heading_collapsed": true,
    "hidden": true
   },
   "source": [
    "### get parameter names?\n",
    "\n",
    "function parameters?\n"
   ]
  },
  {
   "cell_type": "markdown",
   "metadata": {
    "heading_collapsed": true,
    "hidden": true
   },
   "source": [
    "#### the code\n",
    "\n"
   ]
  },
  {
   "cell_type": "code",
   "execution_count": 12,
   "metadata": {
    "hidden": true
   },
   "outputs": [
    {
     "name": "stdout",
     "output_type": "stream",
     "text": [
      "compiling /Users/briancullinan/jupyter_ops/Core/syntax.ipynb[2] aka ### get exports from source\n",
      "compiling /Users/briancullinan/jupyter_ops/Core/syntax.ipynb[13] aka select ast\n",
      "compiling /Users/briancullinan/jupyter_ops/Core/syntax.ipynb[8] aka tree to html\n"
     ]
    },
    {
     "data": {
      "text/plain": [
       "[Function: getParameters]"
      ]
     },
     "execution_count": 12,
     "metadata": {},
     "output_type": "execute_result"
    }
   ],
   "source": [
    "var importer = require('../Core');\n",
    "var {getExports, selectAst} = importer.import('./syntax.ipynb')\n",
    "\n",
    "function getParameters(code) {\n",
    "    var fnName = getExports(code)[0];\n",
    "    if(!fnName) {\n",
    "        return [];\n",
    "    }\n",
    "    var params = selectAst([`//*[@parent-attr=\"params\"]/@name`], code)\n",
    "    return [fnName, ...params];\n",
    "}\n",
    "\n",
    "module.exports = getParameters;\n"
   ]
  },
  {
   "cell_type": "markdown",
   "metadata": {
    "heading_collapsed": true,
    "hidden": true
   },
   "source": [
    "#### test parameter names?\n",
    "\n"
   ]
  },
  {
   "cell_type": "code",
   "execution_count": 13,
   "metadata": {
    "hidden": true
   },
   "outputs": [
    {
     "name": "stdout",
     "output_type": "stream",
     "text": [
      "compiling /Users/briancullinan/jupyter_ops/Core/syntax.ipynb[4] aka function parameters\n"
     ]
    },
    {
     "data": {
      "text/plain": [
       "[ 'getParameters', 'code' ]"
      ]
     },
     "execution_count": 13,
     "metadata": {},
     "output_type": "execute_result"
    }
   ],
   "source": [
    "var importer = require('../Core');\n",
    "var getParameters = importer.import('./syntax.ipynb')\n",
    "\n",
    "var code = `\n",
    "function getParameters(code) {\n",
    "}\n",
    "`\n",
    "\n",
    "function testGetParameters() {\n",
    "    return getParameters(code)\n",
    "}\n",
    "\n",
    "if(typeof $$ != 'undefined') {\n",
    "    testGetParameters()\n",
    "    \n",
    "    /*\n",
    "    expected output\n",
    "    getParameters\n",
    "    code\n",
    "    \n",
    "    */\n",
    "}\n"
   ]
  },
  {
   "cell_type": "markdown",
   "metadata": {
    "heading_collapsed": true,
    "hidden": true
   },
   "source": [
    "### get imports from source?\n",
    "\n"
   ]
  },
  {
   "cell_type": "markdown",
   "metadata": {
    "heading_collapsed": true,
    "hidden": true
   },
   "source": [
    "#### the code\n",
    "\n"
   ]
  },
  {
   "cell_type": "code",
   "execution_count": null,
   "metadata": {
    "hidden": true
   },
   "outputs": [],
   "source": [
    "var importer = require('../Core');\n",
    "var {selectAst} = importer.import('./syntax.ipynb')\n",
    "var CORE_DECLARE = `//*[\n",
    "    contains(@type, \"Declar\")\n",
    "    and ./*/*[@type=\"Literal\" and contains(@value, \"Core\")]\n",
    "]`;\n",
    "var IMPORTER = `${CORE_DECLARE}/*[@type=\"Identifier\"]/@name`;\n",
    "var IMPORTER_CALLS = `//*[contains(@type, \"Call\") and ./*[\n",
    "    contains(@type, \"Member\") and ./Identifier/@name=\"importer\"\n",
    "]]`;\n",
    "\n",
    "function getImports(code) {\n",
    "    var importer = selectAst([IMPORTER], code)[0]\n",
    "    return [].concat.apply([], selectAst([\n",
    "        IMPORTER_CALLS.replace('importer', importer),\n",
    "        [`./Identifier/@name|./*/Identifier/@name|.//Literal/@value`]\n",
    "    ], code))\n",
    "        .filter((i, j, arr) => arr.indexOf(i) === j)\n",
    "}\n",
    "\n",
    "module.exports = getImports;\n",
    "\n"
   ]
  },
  {
   "cell_type": "markdown",
   "metadata": {
    "heading_collapsed": true,
    "hidden": true
   },
   "source": [
    "#### test get imports?\n",
    "\n"
   ]
  },
  {
   "cell_type": "code",
   "execution_count": 1,
   "metadata": {
    "hidden": true,
    "scrolled": false
   },
   "outputs": [
    {
     "name": "stdout",
     "output_type": "stream",
     "text": [
      "compiling /Users/briancullinan/jupyter_ops/Core/files.ipynb[2] aka ,### list project files\n",
      "compiling /Users/briancullinan/jupyter_ops/Core/files.ipynb[3] aka common ignore paths\n",
      "compiling /Users/briancullinan/jupyter_ops/Core/syntax.ipynb[6] aka ### get imports from source\n",
      "compiling /Users/briancullinan/jupyter_ops/Core/syntax.ipynb[16] aka select ast\n",
      "compiling /Users/briancullinan/jupyter_ops/Core/syntax.ipynb[11] aka tree to html\n",
      "compiling /Users/briancullinan/jupyter_ops/Core/patterns.ipynb[2] aka ### select tree\n",
      "compiling /Users/briancullinan/jupyter_ops/Core/patterns.ipynb[0] aka ,### walk tree\n",
      "[ 'importer',\n",
      "  'import',\n",
      "  'd3.ipynb[create word-cloud]',\n",
      "  'relative paths and includes' ]\n"
     ]
    },
    {
     "data": {
      "text/plain": [
       "[ 'importer', 'import', 'get parameter names' ]"
      ]
     },
     "execution_count": 1,
     "metadata": {},
     "output_type": "execute_result"
    }
   ],
   "source": [
    "var importer = require('../Core');\n",
    "var getImports = importer.import('./syntax.ipynb')\n",
    "\n",
    "var code = `\n",
    "var importer = require('../Core');\n",
    "var getParameters = importer.import('get parameter names')\n",
    "`\n",
    "\n",
    "function testGetImports() {\n",
    "    console.log(getImports(importer.interpret('files.ipynb[0]').code))\n",
    "    return getImports(code)\n",
    "}\n",
    "\n",
    "if(typeof $$ != 'undefined') {\n",
    "    testGetImports()\n",
    "    \n",
    "    /*\n",
    "    expected output\n",
    "    get parameter names\n",
    "    import\n",
    "    \n",
    "    */\n",
    "}\n"
   ]
  },
  {
   "cell_type": "markdown",
   "metadata": {
    "heading_collapsed": true,
    "hidden": true
   },
   "source": [
    "### TODO: retrieving framework documentation\n",
    "\n",
    "generate a synax tree from documentation\n",
    "\n"
   ]
  },
  {
   "cell_type": "markdown",
   "metadata": {
    "heading_collapsed": true,
    "hidden": true
   },
   "source": [
    "#### the code"
   ]
  },
  {
   "cell_type": "code",
   "execution_count": null,
   "metadata": {
    "hidden": true
   },
   "outputs": [],
   "source": []
  },
  {
   "cell_type": "markdown",
   "metadata": {
    "heading_collapsed": true,
    "hidden": true
   },
   "source": [
    "#### test language translator\n",
    "\n",
    "TODO: Creating an interface like this becomes a simple http request to download and create a language compatible pattern, do in C# and in Node\n",
    "\n",
    "\n"
   ]
  },
  {
   "cell_type": "code",
   "execution_count": null,
   "metadata": {
    "hidden": true
   },
   "outputs": [],
   "source": [
    "/*\n",
    "var wireKernelInterface = {\n",
    "    ...metaKernelInterface,\n",
    "    // implement all requests, these are required by the meta kernel\n",
    "    execute_request, inspect_request, complete_request,\n",
    "    history_request, is_complete_request, shutdown_request,\n",
    "    // requests maybe not required right now?\n",
    "    kernel_info_request, interrupt_request, input_request,\n",
    "    connect_request, comm_info_request, kernel_info_request,\n",
    "\n",
    "    // implement all replys\n",
    "    execute_reply, inspect_reply, complete_reply,\n",
    "    history_reply, kernel_info_reply, is_complete_reply,\n",
    "    connect_reply, comm_info_reply, kernel_info_reply,\n",
    "    shutdown_reply, interrupt_reply, input_reply,\n",
    "\n",
    "    // a few extra protocol methods\n",
    "    display_data, update_display_data, execute_input,\n",
    "    execute_result, error, status, clear_output,\n",
    "    comm_msg, comm_close\n",
    "}\n",
    "\n",
    "module.exports = wireKernelInterface;\n",
    "*/\n"
   ]
  },
  {
   "cell_type": "markdown",
   "metadata": {
    "heading_collapsed": true,
    "hidden": true
   },
   "source": [
    "### TODO: creating libraries from code blocks\n",
    "\n",
    "Code analysis to combine blocks into modules\n"
   ]
  },
  {
   "cell_type": "code",
   "execution_count": null,
   "metadata": {
    "hidden": true
   },
   "outputs": [],
   "source": []
  },
  {
   "cell_type": "markdown",
   "metadata": {
    "heading_collapsed": true,
    "hidden": true
   },
   "source": [
    "### TODO: manipulating code libraries\n",
    "\n",
    "TODO: show git repo organization options\n",
    "\n",
    "Warn of changes made outside of the module or feature branch\n",
    "\n"
   ]
  },
  {
   "cell_type": "markdown",
   "metadata": {
    "heading_collapsed": true
   },
   "source": [
    "## code trees"
   ]
  },
  {
   "cell_type": "markdown",
   "metadata": {
    "hidden": true
   },
   "source": [
    "Functions for working with code trees. selectTree is nice, but jsel and CSS-style selectors don't give you access to parents. True XPath can navigate both directions of an XML/HTML tree. Later in the section selectAst converts the code to an html tree for XPath and CSS-style evaluating."
   ]
  },
  {
   "cell_type": "markdown",
   "metadata": {
    "heading_collapsed": true,
    "hidden": true
   },
   "source": [
    "### tree to html\n",
    "\n",
    "Reasoning. Every atom is made up of smaller component parts. This conversion creates a tree that breaks down to &lt;elements&gt; and attr=\"ibutes\", just like neutrons and protons. XML, HTML, and CSS parsers are common in every language, which means the XPath and CSS query selectors also might be available.\n"
   ]
  },
  {
   "cell_type": "markdown",
   "metadata": {
    "heading_collapsed": true,
    "hidden": true
   },
   "source": [
    "#### the code\n",
    "\n",
    "tree to html?\n"
   ]
  },
  {
   "cell_type": "code",
   "execution_count": null,
   "metadata": {
    "hidden": true
   },
   "outputs": [],
   "source": [
    "var importer = require('../Core');\n",
    "var {selectDom} = importer.import('./syntax.ipynb')\n",
    "var {JSDOM} = require('jsdom');\n",
    "\n",
    "function treeToStr(statement, parent) {\n",
    "    var {type} = statement;\n",
    "    var result = ``, attrs = ``;\n",
    "    var isList = true;\n",
    "    for(var i in statement) {\n",
    "        if(parseInt(i) + '' === i + '') {\n",
    "            result += treeToStr(statement[i], parent)\n",
    "            continue;\n",
    "        }\n",
    "        isList = false;\n",
    "        var jsType = typeof statement[i];\n",
    "        if(jsType === 'object' && statement[i]) {\n",
    "            jsType = Object.getPrototypeOf(statement[i]).constructor.name;\n",
    "        }\n",
    "        // if the property is an Object, print out as a child\n",
    "        // TODO: replace this type property when converting other trees\n",
    "        //   should be like getEl() treeToStr(() => el.type)\n",
    "        if(statement[i] && typeof statement[i].type !== 'undefined'\n",
    "           // or if the property is an Array,\n",
    "           //   print them out as child elements\n",
    "           || (Array.isArray(statement[i]) && statement[i].length\n",
    "           && typeof statement[i][0].type !== 'undefined')) {\n",
    "            // print out the other keys just for fun matching\n",
    "            attrs +=  `\n",
    "${i}=\"\" ${i}-type=\"${jsType}\"`;\n",
    "            result += `\n",
    "${treeToStr(statement[i], i)}`\n",
    "            // output as child element and <-attr> elements\n",
    "            //   for posterity, only child elements are return on the select,\n",
    "            //   but attr elements can still be matched\n",
    "        } else {\n",
    "            // if the property is not an object, i.e. native types\n",
    "            attrs +=  `\n",
    "${i}=${JSON.stringify(statement[i])} ${i}-type=\"${jsType}\"`\n",
    "        }\n",
    "    }\n",
    "    \n",
    "    return isList ? result : `\n",
    "<${type}${attrs}${parent ? `\n",
    " parent-attr=\"${parent}\"`: ``}>${result}</${type}>`\n",
    "}\n",
    "\n",
    "function treeToHtml(tree) {\n",
    "    var body = treeToStr(tree);\n",
    "    return selectDom('//BODY', '<BODY>' + body + '</BODY>');\n",
    "}\n",
    "\n",
    "module.exports = {\n",
    "    treeToHtml\n",
    "};\n"
   ]
  },
  {
   "cell_type": "markdown",
   "metadata": {
    "heading_collapsed": true,
    "hidden": true
   },
   "source": [
    "#### justification\n",
    "\n",
    "Just so it can be parsed with XPath instead of crappy wanna-be query languahes. Get them all working the same!  Also, html/xml parsers are common in many languages. So this library can be parsed and translated to other languages, using itself!\n",
    "\n"
   ]
  },
  {
   "cell_type": "markdown",
   "metadata": {
    "hidden": true
   },
   "source": [
    "\n",
    "Crap modules I won't need any more:\n",
    "- css\n",
    "- ASTQ\n",
    "- Acorn\n",
    "- esprima\n",
    "- escodegen\n",
    "- esquery\n",
    "- jsonpath\n",
    "- jsonpath-plus\n",
    "- jsonquery\n",
    "- jspath\n",
    "- json:select\n",
    "- jsel\n",
    "- minimatch\n",
    "\n",
    "TODO: get rid of jsonpath-plus, jsonstream, jspath, \n",
    "\n"
   ]
  },
  {
   "cell_type": "markdown",
   "metadata": {
    "heading_collapsed": true,
    "hidden": true
   },
   "source": [
    "#### test converting element to markdown using an ast\n",
    "\n"
   ]
  },
  {
   "cell_type": "markdown",
   "metadata": {
    "hidden": true
   },
   "source": [
    "```\n",
    "/* expected output `\n",
    "[ Script {\n",
    "    type: 'Program',\n",
    "    body: [ [FunctionDeclaration], [ExpressionStatement] ],\n",
    "    sourceType: 'script',\n",
    "    range: [ 1, 45 ],\n",
    "    comments: [],\n",
    "    tokens:\n",
    "\n",
    "<program type=\"program\">\n",
    "    <function>\n",
    "    </function>\n",
    "    <expression>\n",
    "    </expression>\n",
    "</program>\n",
    "\n",
    "*/\n",
    "```\n",
    "\n"
   ]
  },
  {
   "cell_type": "code",
   "execution_count": null,
   "metadata": {
    "hidden": true
   },
   "outputs": [],
   "source": []
  },
  {
   "cell_type": "markdown",
   "metadata": {
    "heading_collapsed": true,
    "hidden": true
   },
   "source": [
    "### html to tree\n",
    "\n",
    "Convert HTML back from the function above, html to tree."
   ]
  },
  {
   "cell_type": "markdown",
   "metadata": {
    "heading_collapsed": true,
    "hidden": true
   },
   "source": [
    "#### the code\n",
    "\n",
    "html to tree?"
   ]
  },
  {
   "cell_type": "code",
   "execution_count": null,
   "metadata": {
    "hidden": true
   },
   "outputs": [],
   "source": [
    "var {JSDOM} = require('jsdom');\n",
    "\n",
    "// TODO: create a pattern same as notebook markdown in core, accumulate\n",
    "function accumulateChildNodes(body) {\n",
    "    var commentBuffer = []\n",
    "    // TODO: exclude children parent properties\n",
    "    //   left-over children are assigned to children: []\n",
    "    return Array.from(body.childNodes)\n",
    "        .reduce((obj, n) => {\n",
    "            if(n.nodeName === '#text') {\n",
    "                commentBuffer.push[n];\n",
    "                return obj;\n",
    "            }\n",
    "            var parent = n.getAttribute('parent-attr');\n",
    "            var newNode = htmlToTree(n);\n",
    "            if(parent) {\n",
    "                var parentType = body.getAttribute(parent + '-type')\n",
    "                if(parentType === 'Array') {\n",
    "                    if(typeof obj[parent] === 'undefined')\n",
    "                        obj[parent] = [];\n",
    "                    obj[parent].push(newNode);\n",
    "                } else {\n",
    "                    obj[parent] = newNode;\n",
    "                }\n",
    "            } else {\n",
    "                // TODO: if no children left and no other -attr properties,\n",
    "                //   remove the child property from the output\n",
    "                if(typeof obj.children === 'undefined')\n",
    "                    obj.children = [];\n",
    "                obj.children.push(newNode);\n",
    "            }\n",
    "            if(typeof newNode.comments !== 'undefined') {\n",
    "                newNode.comments.push.apply(\n",
    "                    newNode.comments, commentBuffer)\n",
    "                commentBuffer = [];\n",
    "            }\n",
    "            return obj;\n",
    "        }, {})\n",
    "}\n",
    "\n",
    "// expects a string or a tree from JSDOM\n",
    "function htmlToTree(body) {\n",
    "    if(typeof body === 'string') {\n",
    "        var dom = new JSDOM(body);\n",
    "        return accumulateChildNodes(dom.window.document.body).children;\n",
    "    }\n",
    "    if(body.nodeName === '#text') {\n",
    "        return body.nodeValue;\n",
    "    }\n",
    "    // convert attributed object containers back to properties\n",
    "    // TODO: might have a property named -type and it will be lost\n",
    "    var attrs = body.getAttributeNames()\n",
    "        .filter(a => a !== 'parent-attr' && a.substr(-5) != '-type')\n",
    "        .reduce((obj, p) => {\n",
    "            var attr = body.getAttribute(p);\n",
    "            try { obj[p] = JSON.parse(attr); }\n",
    "            catch (e) { obj[p] = attr; }\n",
    "            return obj;\n",
    "        }, {})\n",
    "    \n",
    "    var children = accumulateChildNodes(body);\n",
    "    \n",
    "    return Object.assign({\n",
    "        type: body.nodeName\n",
    "    }, attrs, children);\n",
    "}\n",
    "\n",
    "module.exports = {\n",
    "    htmlToTree\n",
    "};\n",
    "\n"
   ]
  },
  {
   "cell_type": "markdown",
   "metadata": {
    "heading_collapsed": true,
    "hidden": true
   },
   "source": [
    "#### test tree to html\n",
    "\n"
   ]
  },
  {
   "cell_type": "code",
   "execution_count": null,
   "metadata": {
    "hidden": true,
    "scrolled": false
   },
   "outputs": [],
   "source": [
    "var importer = require('../Core');\n",
    "var {treeToHtml, htmlToTree} = importer.import('./syntax.ipynb');\n",
    "\n",
    "var assert = require('assert');\n",
    "var esprima = require('esprima'); \n",
    "\n",
    "function setupASTArray(code) {\n",
    "    var ctx = esprima.parse(code, {range: true, tokens: true,\n",
    "                        comment: true, whitespace: true})\n",
    "    \n",
    "    return ctx;\n",
    "}\n",
    "\n",
    "function testASTArray(ctx) {\n",
    "    var page = treeToHtml(ctx);\n",
    "    var translated_back = htmlToTree(page);\n",
    "    console.log(translated_back[0]);\n",
    "    assert(JSON.stringify(ctx).length\n",
    "           === JSON.stringify(translated_back[0]).length,\n",
    "           'different code trees');    \n",
    "    console.log('two JSON trees are same-same')\n",
    "    return page;\n",
    "}\n",
    "\n",
    "module.exports = testASTArray;\n",
    "\n",
    "function htmlEntities(str) {\n",
    "    return String(str)\n",
    "        .replace(/&/g, '&amp;')\n",
    "        .replace(/</g, '&lt;')\n",
    "        .replace(/>/g, '&gt;')\n",
    "        .replace(/\"/g, '&quot;');\n",
    "}\n",
    "\n",
    "if(typeof $$ !== 'undefined') {\n",
    "    var code = `\n",
    "function name(params) {\n",
    "    \n",
    "}\n",
    "console.log()\n",
    "`\n",
    "    var ctx = setupASTArray(code);\n",
    "    var html = testASTArray(ctx);\n",
    "    $$.html('<pre>' + htmlEntities(html) + '</pre>')\n",
    "}\n"
   ]
  },
  {
   "cell_type": "markdown",
   "metadata": {
    "hidden": true
   },
   "source": [
    "expected output\n",
    "\n",
    "\n",
    "```\n",
    "FunctionDeclaration {\n",
    "    type: 'FunctionDeclaration',\n",
    "    id:\n",
    "     Identifier { type: 'Identifier', name: 'name', range: [Array] },\n",
    "    params: [ [Identifier] ],\n",
    "    body:\n",
    "     BlockStatement { type: 'BlockStatement', body: [], range: [Array] },\n",
    "    generator: false,\n",
    "    expression: false,\n",
    "    async: false,\n",
    "    range: [ 1, 31 ] },\n",
    "  ExpressionStatement {\n",
    "    type: 'ExpressionStatement',\n",
    "    expression:\n",
    "     CallExpression {\n",
    "       type: 'CallExpression',\n",
    "       callee: [StaticMemberExpression],\n",
    "       arguments: [],\n",
    "       range: [Array] },\n",
    "    range: [ 32, 45 ] } ]\n",
    "```\n"
   ]
  },
  {
   "cell_type": "markdown",
   "metadata": {
    "heading_collapsed": true,
    "hidden": true
   },
   "source": [
    "#### test what happens on regular html converted to a tree\n",
    "\n",
    "\n"
   ]
  },
  {
   "cell_type": "code",
   "execution_count": null,
   "metadata": {
    "hidden": true
   },
   "outputs": [],
   "source": [
    "var importer = require('../Core');\n",
    "var {htmlToTree} = importer.import('./syntax.ipynb');\n",
    "\n",
    "function testHtmlTree(page) {\n",
    "    var translated_back = htmlToTree(page);\n",
    "    return translated_back;\n",
    "}\n",
    "\n",
    "if(typeof $$ !== 'undefined') {\n",
    "    // copied from Chrome Google search homepage\n",
    "    var code = `<div id=\"fakebox-container\">\n",
    "      <div id=\"fakebox\">\n",
    "        <div id=\"fakebox-search-icon\"></div>\n",
    "        <div id=\"fakebox-text\">Search Google or type a URL</div>\n",
    "        <input id=\"fakebox-input\" autocomplete=\"off\" tabindex=\"-1\" type=\"url\" aria-hidden=\"true\">\n",
    "        <div id=\"fakebox-cursor\"></div>\n",
    "        <button id=\"fakebox-microphone\" title=\"Search by voice\"></button>\n",
    "      </div>\n",
    "    </div>`\n",
    "    var tree = testHtmlTree(code);\n",
    "    console.log(tree);\n",
    "}\n"
   ]
  },
  {
   "cell_type": "markdown",
   "metadata": {
    "heading_collapsed": true,
    "hidden": true
   },
   "source": [
    "### select code tree?\n",
    "\n",
    "select ast?\n",
    "\n",
    "Select code from tree?\n",
    "\n",
    "Use CSS selectors to find code.\n",
    "\n"
   ]
  },
  {
   "cell_type": "markdown",
   "metadata": {
    "heading_collapsed": true,
    "hidden": true
   },
   "source": [
    "#### the code\n"
   ]
  },
  {
   "cell_type": "code",
   "execution_count": null,
   "metadata": {
    "hidden": true
   },
   "outputs": [],
   "source": [
    "var importer = require('../Core');\n",
    "var {\n",
    "    selectDom,\n",
    "    evaluateDom,\n",
    "    treeToHtml\n",
    "} = importer.import('./syntax.ipynb')\n",
    "var esprima = require('esprima');\n",
    "\n",
    "var FUNCTION_BODY = `//FunctionDeclaration/BlockStatement`\n",
    "\n",
    "function selectAst(descriptor, code) {\n",
    "    if(typeof code === 'function') {\n",
    "        code = code.toString()\n",
    "    }\n",
    "    if(typeof code === 'string') {\n",
    "        code = esprima.parse(code, {range: true, tokens: true,\n",
    "                                    comment: true, whitespace: true})\n",
    "    }\n",
    "    // TODO: move this conversion to selectDom for all objects?\n",
    "    //   No more selectTree because jsel and friends are inconsistent.\n",
    "    if(typeof code.evaluate === 'undefined'\n",
    "       && typeof code.ownerDocument === 'undefined')\n",
    "        code = treeToHtml(code)\n",
    "    \n",
    "    return selectDom(descriptor, code)\n",
    "}\n",
    "\n",
    "function makeExpr(code) {\n",
    "    if(typeof code === 'function') {\n",
    "        return selectAst([FUNCTION_BODY], code.toString())[0]\n",
    "    }\n",
    "    return selectAst([`//ExpressionStatement/*`], `(${code})`)[0]\n",
    "}\n",
    "\n",
    "module.exports = {\n",
    "    selectAst,\n",
    "    makeExpr\n",
    "}\n"
   ]
  },
  {
   "cell_type": "markdown",
   "metadata": {
    "heading_collapsed": true,
    "hidden": true
   },
   "source": [
    "#### test selecting xpath with parent data\n",
    "\n",
    "Test selecting trees with the html translator.\n",
    "\n",
    "Get the same result as using the json evaluator.\n"
   ]
  },
  {
   "cell_type": "code",
   "execution_count": null,
   "metadata": {
    "hidden": true,
    "scrolled": false
   },
   "outputs": [],
   "source": [
    "var escodegen = require('escodegen');\n",
    "var assert = require('assert');\n",
    "var importer = require('../Core');\n",
    "var {\n",
    "    selectAst,\n",
    "    selectDom,\n",
    "    makeXpaths,\n",
    "    htmlToTree\n",
    "} = importer.import('./syntax.ipynb')\n",
    "\n",
    "var code = `\n",
    "var importer = require('../Core');\n",
    "function name(params) {\n",
    "    return importer.interpret('this is a describe request');\n",
    "}\n",
    "console.log()\n",
    "`\n",
    "\n",
    "function testCodeToDom(code) {\n",
    "    // make a path with the interpret symbol\n",
    "    var node1 = selectAst(`//*[@name=\"interpret\"]`, code)\n",
    "    console.log(node1)\n",
    "    var parent = selectDom(`parent::*`, node1);\n",
    "    assert(parent.nodeName !== '', 'parent selector works');\n",
    "    console.log(selectDom(`*`, node1).children.length);\n",
    "    console.log(htmlToTree(parent));\n",
    "}\n",
    "\n",
    "if(typeof $$ !== 'undefined') {\n",
    "    testCodeToDom(code);\n",
    "}\n"
   ]
  },
  {
   "cell_type": "markdown",
   "metadata": {
    "heading_collapsed": true,
    "hidden": true
   },
   "source": [
    "#### test with acorn instead\n",
    "\n",
    "select acorn tree?\n"
   ]
  },
  {
   "cell_type": "code",
   "execution_count": 3,
   "metadata": {
    "hidden": true
   },
   "outputs": [
    {
     "name": "stdout",
     "output_type": "stream",
     "text": [
      "compiling /Users/briancullinan/jupyter_ops/Core/syntax.ipynb[16] aka select ast\n",
      "compiling /Users/briancullinan/jupyter_ops/Core/syntax.ipynb[11] aka tree to html\n",
      "compiling /Users/briancullinan/jupyter_ops/Core/syntax.ipynb[13] aka html to tree\n",
      "{ type: 'Identifier',\n",
      "  start: 92,\n",
      "  end: 101,\n",
      "  range: [ 92, 101 ],\n",
      "  name: 'interpret' }\n"
     ]
    }
   ],
   "source": [
    "var acorn = require(\"acorn\")\n",
    "var importer = require('../Core')\n",
    "var {selectAst, htmlToTree} = importer.import('./syntax.ipynb')\n",
    "\n",
    "function selectAcorn(descriptor, code) {\n",
    "    var comments = [], tokens = [];\n",
    "    if(typeof code === 'string') {\n",
    "        code = acorn.parse(code, {\n",
    "            ecmaVersion: 6,\n",
    "            // collect ranges for each node\n",
    "            locations: true,\n",
    "            ranges: true,\n",
    "            // collect comments in Esprima's format\n",
    "            onComment: comments,\n",
    "            // collect token ranges\n",
    "            onToken: tokens,\n",
    "        })\n",
    "    }\n",
    "    return selectAst(descriptor, code);\n",
    "}\n",
    "\n",
    "module.exports = {\n",
    "    selectAcorn\n",
    "}\n",
    "\n",
    "if(typeof $$ !== 'undefined') {\n",
    "    var code = `\n",
    "    var importer = require('../Core');\n",
    "    function name(params) {\n",
    "        return importer.interpret('this is a describe request');\n",
    "    }\n",
    "    console.log()\n",
    "    `\n",
    "    var call = selectAcorn(`//*[@name=\"interpret\"]`, code);\n",
    "    console.log(htmlToTree(call))\n",
    "}\n"
   ]
  },
  {
   "cell_type": "markdown",
   "metadata": {
    "heading_collapsed": true,
    "hidden": true
   },
   "source": [
    "### get xpath to node\n",
    "\n",
    "XPath minimizing service from recording prototype app.\n",
    " "
   ]
  },
  {
   "cell_type": "markdown",
   "metadata": {
    "heading_collapsed": true,
    "hidden": true
   },
   "source": [
    "#### make xpaths?\n",
    "\n",
    "For generating links to nodes from the node, uses parentElement.\n",
    "\n"
   ]
  },
  {
   "cell_type": "code",
   "execution_count": null,
   "metadata": {
    "hidden": true
   },
   "outputs": [],
   "source": [
    "var assert = require('assert');\n",
    "var importer = require('../Core');\n",
    "var {selectDom} = importer.import('./syntax.ipynb');\n",
    "\n",
    "function makeCombinations(values) {\n",
    "    // get every combination of matching classifiers\n",
    "    //   pass it up to be used for minimization\n",
    "    //   on a larger context\n",
    "    var combinations = [];\n",
    "    // start at 1 to always include * or Element tag name\n",
    "    let i, j;\n",
    "    for (i = 1; i <= values.length; i++) {\n",
    "        for (j = 1; j <= values.length; j++) {\n",
    "            combinations.push([\n",
    "                values[0],\n",
    "                ...values.slice(i, j)\n",
    "            ].join(''))\n",
    "        }\n",
    "    }\n",
    "    return combinations\n",
    "        .filter((c, i, arr) => arr.indexOf(c) === i)\n",
    "        .sort((a, b) => a.length - b.length)\n",
    "}\n",
    "\n",
    "// algorithm magic!\n",
    "// create an very specific XPath following these rules\n",
    "function makeXpaths(node) {\n",
    "    var classifiers = [{\n",
    "        tag: `local-name(.)`,\n",
    "        ids: [`@*[name()=\"type\" or name()=\"id\" or name()=\"name\"]`],\n",
    "        classNames: `@class`,\n",
    "        index: `count(preceding-sibling::*)`,\n",
    "        parent: `local-name(parent::*)`,\n",
    "        //parent: `parent::*/@*[name()=\"type\" or name()=\"id\" or name()=\"name\"]`,\n",
    "        nthType: `count(preceding-sibling::*[local-name(*)=local-name(.)])`\n",
    "    }, ({tag, ids, classNames, index, parent, nthType}) => ({\n",
    "        tag: tag && tag !== 'object' ? tag : `*`,\n",
    "        id: ids.length\n",
    "            ? `[${ids\n",
    "            .map(id => \n",
    "                 `(@id=\"${id}\" or @name=\"${id}\" or @type=\"${id}\")`)\n",
    "            .join(` and `)}]`\n",
    "            : ``,\n",
    "        classNames: classNames.length > 0\n",
    "            ? `[contains(@class, \"${classNames}\")]`\n",
    "            : ``,\n",
    "        index: typeof index !== 'undefined' && parent\n",
    "            ? `/parent::${parent}/*[${index+1}]`\n",
    "            : ``,\n",
    "        parent: parent && typeof nthType !== 'undefined'\n",
    "            ? `/parent::${parent}/${\n",
    "                tag && tag !== 'object' ? tag : `*`}[${nthType+1}]`\n",
    "            : ``\n",
    "    })]\n",
    "    \n",
    "    var classifiers = selectDom(classifiers, node)[0];\n",
    "    var {tag, id, classNames, index, parent} = classifiers;\n",
    "    // to ensure the order from most specific to least specific\n",
    "    var combinations = [].concat.apply([], makeCombinations( \n",
    "                                       [tag, id, classNames, index, parent]))\n",
    "    assert(selectDom(combinations[0], node),\n",
    "           'oops, the xpath expression maker messed up');\n",
    "    return combinations;\n",
    "}\n",
    "\n",
    "module.exports = {\n",
    "    makeXpaths\n",
    "};\n"
   ]
  },
  {
   "cell_type": "markdown",
   "metadata": {
    "heading_collapsed": true,
    "hidden": true
   },
   "source": [
    "#### test making an xpath from any arbitraty node\n",
    "\n",
    "generate css selectors from code?\n",
    "\n",
    "problem, jsel doesn't support parent()\n"
   ]
  },
  {
   "cell_type": "code",
   "execution_count": null,
   "metadata": {
    "hidden": true,
    "scrolled": false
   },
   "outputs": [],
   "source": [
    "var esprima = require('esprima'); \n",
    "var escodegen = require('escodegen');\n",
    "var assert = require('assert');\n",
    "var importer = require('../Core');\n",
    "var {\n",
    "    selectAst,\n",
    "    selectDom,\n",
    "    makeXpaths,\n",
    "    htmlToTree\n",
    "} = importer.import('./syntax.ipynb')\n",
    "\n",
    "var code = `\n",
    "var importer = require('../Core');\n",
    "function name(params) {\n",
    "    return importer.interpret('this is a describe request');\n",
    "}\n",
    "console.log()\n",
    "`\n",
    "\n",
    "function testMakeXpaths(code) {\n",
    "    // make a path with the interpret symbol\n",
    "    var node1 = selectAst(`//*[@name=\"name\"]`, code)\n",
    "    var parent = selectDom(`//*[@type=\"FunctionDeclaration\"]`, node1);\n",
    "    var output = makeXpaths(parent)\n",
    "    var node2 = selectAst(`//${output[0]}`, code)\n",
    "    console.log(node2)\n",
    "    assert(node1.parentNode.getAttribute('name') === node2.getAttribute('name'));\n",
    "    return node2\n",
    "    \n",
    "}\n",
    "// TODO: compare with acorn\n",
    "if(typeof $$ !== 'undefined') {\n",
    "    var nodes = testMakeXpaths(code);\n",
    "    console.log(htmlToTree(nodes));\n",
    "}\n"
   ]
  },
  {
   "cell_type": "markdown",
   "metadata": {
    "heading_collapsed": true,
    "hidden": true
   },
   "source": [
    "#### minimize xpath?\n",
    "\n",
    "Should get something like ```Identifier[@name=\"importer\"]``` by the end of this.\n",
    "\n"
   ]
  },
  {
   "cell_type": "code",
   "execution_count": null,
   "metadata": {
    "hidden": true
   },
   "outputs": [],
   "source": [
    "var importer = require('../Core');\n",
    "var {selectDom} = importer.import('./syntax.ipynb');\n",
    "\n",
    "function minXpath(combinations, ctx) {\n",
    "    // flatten the XPath stack using '/'\n",
    "    // sort by smallest and return shortest path matching 1 DOM element\n",
    "    const minimal = combinations\n",
    "            .filter(c => selectDom([`.//${c}`], ctx).length === 1)\n",
    "            .sort((a, b) => a.length - b.length);\n",
    "    return minimal[ 0 ];\n",
    "\n",
    "    // TODO: prioritize by button/input, ids, classes, attributes? (extra credit), index\n",
    "}\n",
    "\n",
    "module.exports = {\n",
    "    minXpath\n",
    "};\n"
   ]
  },
  {
   "cell_type": "markdown",
   "metadata": {
    "heading_collapsed": true,
    "hidden": true
   },
   "source": [
    "#### TODO: convert simple xpath to css selector"
   ]
  },
  {
   "cell_type": "code",
   "execution_count": null,
   "metadata": {
    "hidden": true
   },
   "outputs": [],
   "source": [
    "\n",
    "function convertXPathToCss(path) {\n",
    "    // if matched xpath is simple enough, convert it to CSS\n",
    "    // DIV[contains(@class, \"product-tile\")]/parent::*/DIV[2]//MD-CARD[contains(@class, \"mat-card\")]/parent::*/MD-CARD[1]\n",
    "    return path\n",
    "            .replace(/\\/([a-z-]+)\\[@id=\"(.*?)\"]/ig, '/$1#$2')\n",
    "            .replace(/\\/([^\\/]+)\\[contains\\(@class, \"(.*?)\"\\)]/ig, '/$1.$2')\n",
    "            .replace(/\\/parent::[a-z-]+\\/[a-z-]+\\[([0-9]+)]/ig, ':nth-child($1)')\n",
    "            .replace(/^\\/\\//ig, '')\n",
    "            .replace(/\\/\\//ig, ' ')\n",
    "            .replace(/\\//ig, ' > ');\n",
    "}\n",
    "\n",
    "\n"
   ]
  },
  {
   "cell_type": "markdown",
   "metadata": {
    "heading_collapsed": true,
    "hidden": true
   },
   "source": [
    "### improved syntax manipulation\n",
    "\n",
    "Replacing the functionality I noticed in babel somewhere. Basically walking a tree with visitors is ugly, so we replace it with a sequence of CSS style queries.\n",
    "\n"
   ]
  },
  {
   "cell_type": "markdown",
   "metadata": {
    "heading_collapsed": true,
    "hidden": true
   },
   "source": [
    "#### select expression?\n",
    "\n",
    "select from code?\n",
    "\n",
    "Convert the body of a function to a list of search strings.\n"
   ]
  },
  {
   "cell_type": "code",
   "execution_count": null,
   "metadata": {
    "hidden": true
   },
   "outputs": [],
   "source": [
    "var importer = require('../Core');\n",
    "var {\n",
    "    selectAst,\n",
    "    selectDom,\n",
    "    makeXpaths,\n",
    "    minXpath,\n",
    "    htmlToTree\n",
    "} = importer.import('./syntax.ipynb');\n",
    "\n",
    "function exprToXpath(code) {\n",
    "    // create an XPath search out of the function body\n",
    "    //   using the parameters as matching predicates\n",
    "    code = selectAst([\n",
    "        `(*/FunctionDeclaration|*/*/ArrowFunctionExpression)`\n",
    "    ], code.toString())[0]\n",
    "    \n",
    "    var expression = selectDom([\n",
    "        `Identifier[@parent-attr=\"params\"]/@name`,\n",
    "        // select all elements from func that match param name\n",
    "        //   TODO: default functionality can be overridden by specifying\n",
    "        //   a function as the default parameter value\n",
    "        (name) => selectDom([`BlockStatement//*[@name=\"${name}\"]`], code)[0]\n",
    "    ], code)[0]; // TODO: make multiple expressions?\n",
    "    if(!expression) {\n",
    "        throw new Error(`can't match expression ${JSON.stringify(htmlToTree(code))}`)\n",
    "    }\n",
    "    var xpath = makeXpaths(expression);\n",
    "    // add minimizing expressions, unique to the original context\n",
    "    var min = minXpath(xpath, selectDom(`BlockStatement`, code));\n",
    "    delete code;\n",
    "    return min;\n",
    "}\n",
    "\n",
    "module.exports = {\n",
    "    exprToXpath\n",
    "}\n"
   ]
  },
  {
   "cell_type": "markdown",
   "metadata": {
    "heading_collapsed": true,
    "hidden": true
   },
   "source": [
    "#### test selecting expressions\n"
   ]
  },
  {
   "cell_type": "code",
   "execution_count": null,
   "metadata": {
    "hidden": true
   },
   "outputs": [],
   "source": [
    "var importer = require('../Core');\n",
    "var {exprToXpath} = importer.import('./syntax.ipynb');\n",
    "\n",
    "if(typeof $$ !== 'undefined') {\n",
    "    var xpath = exprToXpath((importer) => {\n",
    "            var importer = require('../Core');\n",
    "        });\n",
    "    \n",
    "    console.log(xpath)\n",
    "//    replaceCore(code)\n",
    "}\n",
    "\n"
   ]
  },
  {
   "cell_type": "markdown",
   "metadata": {
    "heading_collapsed": true,
    "hidden": true
   },
   "source": [
    "#### test expression on notebook code?\n",
    "\n",
    "TODO: improve speed\n",
    "\n"
   ]
  },
  {
   "cell_type": "code",
   "execution_count": null,
   "metadata": {
    "hidden": true,
    "scrolled": false
   },
   "outputs": [],
   "source": [
    "var importer = require('../Core');\n",
    "var {exprToXpath, selectAst} = importer.import('./syntax.ipynb');\n",
    "var {cellCache} = importer.import('./cache.ipynb')\n",
    "\n",
    "function matchCell(xpath, cell) {\n",
    "    try {\n",
    "        var match = selectAst([`//${xpath}`], cell.code);\n",
    "        if(match.length > 0) {\n",
    "            console.log(`match ${cell.id}`)\n",
    "            return cell;\n",
    "        }\n",
    "        return false;\n",
    "    } catch (e) {\n",
    "        console.log(e.message);\n",
    "        return false;\n",
    "    }\n",
    "}\n",
    "\n",
    "function findImport(importer) {\n",
    "    var importer = require('../Core');\n",
    "}\n",
    "\n",
    "function testExpressions() {\n",
    "    var xpath = exprToXpath(findImport);\n",
    "    console.log(`matching ${xpath}`);\n",
    "    var allCells = cellCache\n",
    "    var allCellIds = allCells.map(c => c.id)\n",
    "    // get only first occurrence\n",
    "    allCells = allCells\n",
    "        .filter((c, i) => allCellIds.indexOf(c.id) == i)\n",
    "        .filter(c => c.code.length < 10000\n",
    "                && c.code.trim().length > 10)\n",
    "    //    .slice(0, 10)\n",
    "    return Promise\n",
    "        .all(allCells.map(cell => new Promise(resolve => {\n",
    "            return setTimeout(() => resolve(matchCell(xpath, cell)), 100);\n",
    "        })))\n",
    "        .then(matches => matches.filter(cell => cell)\n",
    "              .map(cell => cell.id))\n",
    "}\n",
    "\n",
    "module.exports = testExpressions;\n",
    "\n",
    "if(typeof $$ !== 'undefined') {\n",
    "    testExpressions()\n",
    "        .then(matches => $$.sendResult(matches))\n",
    "}\n"
   ]
  },
  {
   "cell_type": "markdown",
   "metadata": {
    "heading_collapsed": true,
    "hidden": true
   },
   "source": [
    "#### TODO: test with odd code like convert spreadsheet[4]\n",
    "\n"
   ]
  },
  {
   "cell_type": "code",
   "execution_count": null,
   "metadata": {
    "hidden": true
   },
   "outputs": [],
   "source": []
  },
  {
   "cell_type": "markdown",
   "metadata": {},
   "source": [
    "## TODO: generate unit tests\n",
    "\n",
    "Generate unit test from logic branching?\n",
    "\n",
    "TODO: use language server for this\n",
    "\n",
    "Attach to the same branches,\n",
    "\n",
    "https://github.com/gotwarlost/istanbul/blob/master/lib/instrumenter.js\n",
    "\n"
   ]
  },
  {
   "cell_type": "markdown",
   "metadata": {},
   "source": [
    "### unit test each token type\n",
    "\n"
   ]
  },
  {
   "cell_type": "markdown",
   "metadata": {},
   "source": [
    "#### statements\n",
    "\n"
   ]
  },
  {
   "cell_type": "code",
   "execution_count": null,
   "metadata": {},
   "outputs": [],
   "source": [
    "var STATEMENTS = `//*[contains(@type, \"Declaration\")]\n",
    "|//*[contains(@type, \"Statement\")]`\n",
    "\n"
   ]
  },
  {
   "cell_type": "markdown",
   "metadata": {
    "heading_collapsed": true
   },
   "source": [
    "#### calls\n",
    "\n"
   ]
  },
  {
   "cell_type": "code",
   "execution_count": null,
   "metadata": {
    "hidden": true
   },
   "outputs": [],
   "source": [
    "var CALLS = `//CallExpression`\n",
    "\n"
   ]
  },
  {
   "cell_type": "markdown",
   "metadata": {
    "heading_collapsed": true
   },
   "source": [
    "#### logical branches\n",
    "\n"
   ]
  },
  {
   "cell_type": "code",
   "execution_count": null,
   "metadata": {
    "hidden": true
   },
   "outputs": [],
   "source": [
    "\n",
    "var BRANCHES = `//IfStatement|SwitchStatement`\n",
    "\n"
   ]
  },
  {
   "cell_type": "markdown",
   "metadata": {},
   "source": [
    "### generate unit test?\n",
    "\n"
   ]
  },
  {
   "cell_type": "markdown",
   "metadata": {},
   "source": [
    "#### the code\n",
    "\n"
   ]
  },
  {
   "cell_type": "code",
   "execution_count": null,
   "metadata": {},
   "outputs": [],
   "source": []
  },
  {
   "cell_type": "markdown",
   "metadata": {},
   "source": [
    "#### update notebook test cell"
   ]
  },
  {
   "cell_type": "code",
   "execution_count": null,
   "metadata": {},
   "outputs": [],
   "source": []
  },
  {
   "cell_type": "markdown",
   "metadata": {
    "heading_collapsed": true
   },
   "source": [
    "## TODO: detecting framework features\n",
    "\n",
    "Show router tree, module import tree, call tree, feature tree\n"
   ]
  },
  {
   "cell_type": "code",
   "execution_count": null,
   "metadata": {
    "hidden": true
   },
   "outputs": [],
   "source": []
  },
  {
   "cell_type": "markdown",
   "metadata": {
    "heading_collapsed": true
   },
   "source": [
    "## TODO: format detection by example\n",
    "\n",
    "Lint all code\n",
    "\n",
    "Reformat all code like when using webstorm\n"
   ]
  },
  {
   "cell_type": "code",
   "execution_count": null,
   "metadata": {
    "hidden": true
   },
   "outputs": [],
   "source": []
  }
 ],
 "metadata": {
  "kernelspec": {
   "display_name": "Javascript (Node.js)",
   "language": "javascript",
   "name": "javascript"
  },
  "language_info": {
   "file_extension": ".js",
   "mimetype": "application/javascript",
   "name": "javascript",
   "version": "10.16.0"
  }
 },
 "nbformat": 4,
 "nbformat_minor": 2
}
