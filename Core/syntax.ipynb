{
 "cells": [
  {
   "cell_type": "markdown",
   "metadata": {},
   "source": [
    "# syntax tools\n",
    "\n",
    "\n"
   ]
  },
  {
   "cell_type": "markdown",
   "metadata": {
    "heading_collapsed": true
   },
   "source": [
    "## locating libraries\n",
    "\n"
   ]
  },
  {
   "cell_type": "code",
   "execution_count": null,
   "metadata": {
    "hidden": true
   },
   "outputs": [],
   "source": []
  },
  {
   "cell_type": "markdown",
   "metadata": {
    "hidden": true
   },
   "source": [
    "### retrieving and framework documentation\n",
    "\n"
   ]
  },
  {
   "cell_type": "code",
   "execution_count": null,
   "metadata": {
    "hidden": true
   },
   "outputs": [],
   "source": []
  },
  {
   "cell_type": "markdown",
   "metadata": {
    "hidden": true
   },
   "source": [
    "### creating libraries from code blocks\n",
    "\n",
    "Code analysis to combine blocks into modules\n"
   ]
  },
  {
   "cell_type": "code",
   "execution_count": null,
   "metadata": {
    "hidden": true
   },
   "outputs": [],
   "source": []
  },
  {
   "cell_type": "markdown",
   "metadata": {
    "hidden": true
   },
   "source": [
    "### manipulating code libraries\n",
    "\n",
    "Show git repo organization options?\n",
    "\n",
    "Warn of changes made outside of the module or feature branch?\n",
    "\n"
   ]
  },
  {
   "cell_type": "markdown",
   "metadata": {},
   "source": [
    "## code trees"
   ]
  },
  {
   "cell_type": "markdown",
   "metadata": {},
   "source": [
    "### walk code trees?\n",
    "\n",
    "Select code from tree?\n",
    "\n",
    "Use CSS selectors to find code.\n",
    "\n"
   ]
  },
  {
   "cell_type": "code",
   "execution_count": null,
   "metadata": {},
   "outputs": [],
   "source": [
    "\n",
    "function walkAst() {\n",
    "    // TODO: adds a feature for parsing default parameters\n",
    "    // TODO: add a feature for parsing function bodies as the search path\n",
    "    \n",
    "}\n",
    "\n",
    "\n",
    "function selectAST() {\n",
    "    // TODO: call selectTree after loading code\n",
    "    // adds a feature for matching code\n",
    "    //   and automatically return evaluation on another level of arrays\n",
    "}\n"
   ]
  },
  {
   "cell_type": "markdown",
   "metadata": {},
   "source": [
    " ### Generate CSS selectors from code?\n",
    " \n",
    " XPath minimizing service from recording prototype app.\n",
    " \n",
    " TODO: improve this with trees.\n",
    " "
   ]
  },
  {
   "cell_type": "code",
   "execution_count": null,
   "metadata": {},
   "outputs": [],
   "source": [
    "\n",
    "static convertXPathToCss(path: string): string {\n",
    "    // if matched xpath is simple enough, convert it to CSS\n",
    "    // DIV[contains(@class, \"product-tile\")]/parent::*/DIV[2]//MD-CARD[contains(@class, \"mat-card\")]/parent::*/MD-CARD[1]\n",
    "    return path\n",
    "            .replace(/\\/([a-z-]+)\\[@id=\"(.*?)\"]/ig, '/$1#$2')\n",
    "            .replace(/\\/([^\\/]+)\\[contains\\(@class, \"(.*?)\"\\)]/ig, '/$1.$2')\n",
    "            .replace(/\\/parent::[a-z-]+\\/[a-z-]+\\[([0-9]+)]/ig, ':nth-child($1)')\n",
    "            .replace(/^\\/\\//ig, '')\n",
    "            .replace(/\\/\\//ig, ' ')\n",
    "            .replace(/\\//ig, ' > ');\n",
    "}\n",
    "\n",
    "elementToXPath(path: Array<EventTarget>): string {\n",
    "\n",
    "    // algorithm magic!\n",
    "    // create an very specific XPath following these rules\n",
    "    const addSegment = (elem: Node): string => {\n",
    "        if (typeof elem === 'undefined' || elem === null) {\n",
    "            return '/';\n",
    "        }\n",
    "        // add:\n",
    "        // * element tag name,\n",
    "        const tag = elem.nodeName;\n",
    "        // * ids,\n",
    "        let id: string | boolean = false;\n",
    "        if (typeof (elem as any).getAttribute === 'function') {\n",
    "            id = (elem as any).getAttribute('id');\n",
    "        }\n",
    "        // * classes with nouns (extra credit dictionary or service integration?),\n",
    "        let className: string | boolean = false;\n",
    "        if (typeof (elem as any).classList !== 'undefined') {\n",
    "            className = (elem as any).classList[ 0 ];\n",
    "        }\n",
    "        // * indexes when all siblings are homogeneous, i.e. <li> and <tr><td>\n",
    "        let countTypes = 0;\n",
    "        if (typeof elem.parentElement !== 'undefined' && elem.parentElement !== null) {\n",
    "            for (let e = 0; e < elem.parentElement.children.length; e++) {\n",
    "                const el = elem.parentElement.children[ e ];\n",
    "                if (el.nodeName === elem.nodeName) {\n",
    "                    countTypes += 1;\n",
    "                }\n",
    "                if (el === elem) {\n",
    "                    break;\n",
    "                }\n",
    "            }\n",
    "        }\n",
    "\n",
    "        return `${tag\n",
    "                ? tag : ''}${id\n",
    "                ? `[@id=\"${id}\"]` : ''}${className\n",
    "                ? `[contains(@class, \"${className}\")]` : ''}${countTypes > 0\n",
    "                ? `/parent::${elem.parentElement.nodeName}/${tag}[${countTypes}]` : ''}`;\n",
    "    };\n",
    "    // use a stack to start for easy debugging\n",
    "    const pathStack = [];\n",
    "    // as we traverse parents of evt.target DOM element\n",
    "    for (const currentEl of path) {\n",
    "        pathStack.unshift(addSegment(currentEl as Node));\n",
    "        if ((currentEl as Node).nodeName === 'BODY') {\n",
    "            break;\n",
    "        }\n",
    "        if ((currentEl as Node).nodeName === 'APP-ROOT') {\n",
    "            return;\n",
    "        }\n",
    "    }\n",
    "\n",
    "    // flatten the XPath stack using '/'\n",
    "    const fullPath = '//*[not(./app-root)]//' + pathStack.join('/');\n",
    "    const matches = RecordingComponent.getArrayXPath(fullPath);\n",
    "    if (matches.length !== 1) {\n",
    "        throw new Error('Can\\'t do anything right!');\n",
    "    }\n",
    "\n",
    "    // minimize XPath by splitting up every combination and checking only 1 element is matched for click\n",
    "    const combinations: Array<string> = [];\n",
    "    // * between 1 to N segments\n",
    "    for (let i = 1; i < pathStack.length; i++) {\n",
    "        for (let j = 1; j < i; j++) {\n",
    "            const segments = ([\n",
    "                ...pathStack.slice(j, i),\n",
    "                // replace match with an extra / to create // between unnecessary segments\n",
    "                '', // added to create // between target element\n",
    "                pathStack[ pathStack.length - 1 ]\n",
    "            ]).join('/');\n",
    "            combinations.push('//' + segments);\n",
    "        }\n",
    "        // * starts from 0 to N\n",
    "        // *\n",
    "    }\n",
    "\n",
    "    // sort by smallest and return shortest path matching 1 DOM element\n",
    "    const minimal = combinations\n",
    "            .filter(c => RecordingComponent.getArrayXPath(c).length === 1)\n",
    "            .sort((a, b) => a.length - b.length);\n",
    "\n",
    "    return minimal[ 0 ];\n",
    "    // TODO: prioritize by button/input, ids, classes, attributes? (extra credit), index\n",
    "}"
   ]
  },
  {
   "cell_type": "markdown",
   "metadata": {
    "heading_collapsed": true
   },
   "source": [
    "### generate unit tests\n",
    "\n",
    "TODO: use language server for this\n",
    "\n",
    "generate unit test from logic branching?\n"
   ]
  },
  {
   "cell_type": "code",
   "execution_count": null,
   "metadata": {
    "hidden": true
   },
   "outputs": [],
   "source": [
    "var acorn = require(\"acorn\");\n",
    "var ASTQ  = require(\"astq\");\n",
    "var _ = require('lodash');\n",
    "var importer = require('../Core');\n",
    "\n",
    "var source = importer.interpret('zuora eloqua mapper').code;\n",
    "    \n",
    "var comments = [], tokens = [];\n",
    "\n",
    "var ast = acorn.parse(source, {\n",
    "    ecmaVersion: 6,\n",
    "    // collect ranges for each node\n",
    "\tranges: true,\n",
    "\t// collect comments in Esprima's format\n",
    "\tonComment: comments,\n",
    "\t// collect token ranges\n",
    "\tonToken: tokens,\n",
    "    \n",
    "})\n",
    "\n",
    "var astq = new ASTQ();\n",
    "var assignments = astq.query(ast, `\n",
    "//AssignmentExpression [\n",
    "    //Identifier[@name=='record']\n",
    "]\n",
    "`);\n",
    "var grouped = _.groupBy(assignments, a => comments.filter(c => c.start < a.start).pop().value.trim());\n",
    "var output = '';\n",
    "Object.keys(grouped).forEach(k => {\n",
    "    const ass = grouped[k].map(as => {\n",
    "        const leftMembers = as.left.type === 'MemberExpression'\n",
    "            ? [as.left.property.value] : astq.query(as.left, `\n",
    "//MemberExpression\n",
    "`).map(m => m.property.value).filter(m => m);\n",
    "        const rightMembers = as.right.type === 'MemberExpression'\n",
    "            ? [as.right.property.value] : astq.query(as.right, `\n",
    "//MemberExpression\n",
    "`).map(m => m.property.value).filter(m => m);\n",
    "        if(leftMembers.length === 0 || rightMembers.length === 0) {\n",
    "            return;\n",
    "        }\n",
    "        return `\n",
    "            it('should map ${leftMembers.join(', ')} to eloqua given ${rightMembers.join(', ')} from zuora', () => {\n",
    "                const mapped = mapDataToFields(records);\n",
    "                assert.equal(records[0]['${rightMembers.join('\\'] || records[0][\\'')}'], mapped[0]['${leftMembers}']);\n",
    "            })\n",
    "`;\n",
    "    }).filter(m => m).join('\\n');\n",
    "    output += `\n",
    "        describe('${k} properties mapped', () => {\n",
    "            ${ass}\n",
    "        });\n",
    "`\n",
    "})\n",
    "//console.log(astq.query(ast, `//AssignmentExpression`));\n",
    "var destination = [].concat(...astq.query(ast, `//AssignmentExpression`)\n",
    "    .map(as => as.left.type === 'MemberExpression'\n",
    "            ? [as.left.property.value]\n",
    "            : astq.query(as.left, `//MemberExpression`)\n",
    "         .map(m => m.property.value)\n",
    "         )).filter(m => m)\n",
    "var source = astq.query(ast, `\n",
    "//MemberExpression [\n",
    "    //Literal\n",
    "]\n",
    "`)\n",
    "    .filter(e => (e.property.value + '').includes('.'))\n",
    "    .map(e => e.property.value)\n",
    "console.log(`\n",
    "var assert = require('assert');\n",
    "var importer = require('../Core');\n",
    "var renewalsQuery = importer.import('zuora renewals query');\n",
    "var { bulkImportTemplate } = importer.import('eloqua create template');\n",
    "var { getUniqueRatePlans } = importer.import('zuora account blueprints');\n",
    "\n",
    "var zuoraQuery = renewalsQuery.getQuery('beginning of November', 'beginning of December').Query;\n",
    "\n",
    "var accounts = getUniqueRatePlans();\n",
    "for(var records of accounts) {\n",
    "\n",
    "    describe('given account with ' + records.map(r => r['ProductRatePlan.Name']), () => {\n",
    "        ${output}\n",
    "    })\n",
    "\n",
    "}\n",
    "\n",
    "describe('check field map', () => {\n",
    "    it('should map all fields from zuora query', () => {\n",
    "        const requireFields = ${JSON.stringify(source, null, 4).replace(/\\n/ig, '\\n    ')};\n",
    "        const missing = requireFields.filter(f => !zuoraQuery.includes(f));\n",
    "        assert(missing.length === 0, 'missing fields from zuora query ' + missing.join(', '));\n",
    "    })\n",
    "\n",
    "    it('should map all fields in eloqua import definition', () => {\n",
    "        const mappedFields = ${JSON.stringify(destination, null, 4).replace(/\\n/ig, '\\n    ')};\n",
    "        const unmapped = Object.keys(bulkImportTemplate(60).fields).filter(k => !mappedFields.includes(k));\n",
    "        assert(unmapped.length === 0, 'unmapped eloqua fields ' + unmapped.join(', '));\n",
    "    })\n",
    "\n",
    "    it('should map all record fields to eloqua fields', () => {\n",
    "        const mappedFields = ${JSON.stringify(destination, null, 4).replace(/\\n/ig, '\\n    ')};\n",
    "        const missing = mappedFields.filter(f => !Object.keys(bulkImportTemplate(60).fields).includes(f));\n",
    "        assert(missing.length === 0, 'missing fields from eloqua import definition ' + missing.join(', '));\n",
    "    })\n",
    "})\n",
    "\n",
    "`);\n"
   ]
  },
  {
   "cell_type": "markdown",
   "metadata": {
    "heading_collapsed": true
   },
   "source": [
    "### detecting framework features\n",
    "\n",
    "Show router tree, module import tree, call tree, feature tree\n"
   ]
  },
  {
   "cell_type": "code",
   "execution_count": null,
   "metadata": {
    "hidden": true
   },
   "outputs": [],
   "source": []
  },
  {
   "cell_type": "markdown",
   "metadata": {},
   "source": [
    "### format detection by example\n",
    "\n",
    "Lint all code\n",
    "\n",
    "Reformat all code like when using webstorm\n"
   ]
  },
  {
   "cell_type": "code",
   "execution_count": null,
   "metadata": {},
   "outputs": [],
   "source": []
  },
  {
   "cell_type": "markdown",
   "metadata": {
    "heading_collapsed": true
   },
   "source": [
    "### common tree queries\n",
    "\n",
    "TODO: remove all of these and replace with new transpiler\n"
   ]
  },
  {
   "cell_type": "markdown",
   "metadata": {
    "hidden": true
   },
   "source": []
  },
  {
   "cell_type": "markdown",
   "metadata": {
    "hidden": true
   },
   "source": []
  },
  {
   "cell_type": "code",
   "execution_count": null,
   "metadata": {
    "hidden": true
   },
   "outputs": [],
   "source": []
  },
  {
   "cell_type": "markdown",
   "metadata": {
    "hidden": true
   },
   "source": [
    "common astq and esquery for notebooks?\n",
    "\n",
    "common ast queries?\n"
   ]
  },
  {
   "cell_type": "code",
   "execution_count": null,
   "metadata": {
    "hidden": true
   },
   "outputs": [],
   "source": [
    "var GET_CORE = `/VariableDeclaration[//Literal[index(@value, 'Core') > 0]]`;\n",
    "var GET_CORENAME = `/*/VariableDeclarator/Identifier`;\n",
    "var GET_DECLARATIONS = `//*[@type == 'VariableDeclarator'\n",
    "|| @type == 'FunctionDeclaration'\n",
    "|| @type == 'StaticMemberExpression']`;\n",
    "var GET_DECLARED = fnName => `${GET_DECLARATIONS}/Identifier[@name == '${fnName}']`;\n",
    "var GET_CALLED = fnName => `//CallExpression/Identifier[@name == '${fnName}']`;\n",
    "var GET_IMPORTER = importer => `/*[(@type == 'StaticMemberExpression' || @type == 'MemberExpression')\n",
    "                && /Identifier[@name == '${importer}']]`;\n",
    "var GET_CALLER = importer => `//CallExpression[${GET_IMPORTER(importer)}]`;\n",
    "var GET_PARENT = of => `//*[${of}]`;\n",
    "// TODO: use form code analysis\n",
    "var GET_IMPORT_IDENTIFIER = `/Identifier[@name=='import' || @name=='importNotebook']`;\n",
    "var GET_IMPORT = match => `//CallExpression[\n",
    "    (${GET_IMPORT_IDENTIFIER}\n",
    "    || /StaticMemberExpression${GET_IMPORT_IDENTIFIER})\n",
    "    && //Literal[@value == '${match}']]`;\n",
    "var GET_EXPORTS = `//AssignmentExpression[//Identifier[@name=='exports']]`;\n",
    "var GET_FUNCTIONS = `//FunctionDeclaration`;\n",
    "var GET_IMPORTS = `//CallExpression[${GET_IMPORT_IDENTIFIER} \n",
    "    || /StaticMemberExpression${GET_IMPORT_IDENTIFIER}]//Literal`;\n",
    "var GET_IMPORTER_CALLS = `//CallExpression//Identifier[\n",
    "    ${[ 'import',\n",
    "  'streamJson',\n",
    "  'regexToArray',\n",
    "  'getCells',\n",
    "  'runAllPromises',\n",
    "  'interpret',\n",
    "  'runInNewContext',\n",
    "  'cacheCells',\n",
    "  'interpretMarkdown',\n",
    "  'fuseSearch',\n",
    "  'cacheAll' ].map(k => `@name=='${k}'`).join(' || ')}]`\n",
    "var GET_PARAMETERS = fnName => `//FunctionDeclaration[\n",
    "    /Identifier[@name == '${fnName}']\n",
    "]/*[@type != 'BlockStatement']//Identifier`;\n",
    "var GET_REQUIRE = `//CallExpression[/Identifier[@name=='require']]//Literal`;\n",
    "\n",
    "module.exports = {\n",
    "    GET_CORE,\n",
    "    GET_CORENAME,\n",
    "    GET_DECLARATIONS,\n",
    "    GET_DECLARED,\n",
    "    GET_CALLED,\n",
    "    GET_IMPORTER,\n",
    "    GET_CALLER,\n",
    "    GET_PARENT,\n",
    "    GET_IMPORT_IDENTIFIER,\n",
    "    GET_IMPORT,\n",
    "    GET_EXPORTS,\n",
    "    GET_FUNCTIONS,\n",
    "    GET_IMPORTS,\n",
    "    GET_IMPORTER_CALLS,\n",
    "    GET_PARAMETERS,\n",
    "    GET_REQUIRE\n",
    "}\n"
   ]
  },
  {
   "cell_type": "markdown",
   "metadata": {
    "collapsed": true,
    "hidden": true
   },
   "source": [
    "get ast path array?\n",
    "\n",
    "TODO: make this act more like getArrayXPath but without dependence on astq, esquery, and esprima\n",
    "\n",
    "\n"
   ]
  },
  {
   "cell_type": "code",
   "execution_count": null,
   "metadata": {
    "hidden": true
   },
   "outputs": [],
   "source": [
    "var ASTQ  = require(\"astq\");\n",
    "var astq = new ASTQ();\n",
    "var esquery = require('esquery');\n",
    "var esprima = require('esprima'); \n",
    "\n",
    "function walkAst() {\n",
    "    // TODO: adds a feature for functions\n",
    "}\n",
    "\n",
    "\n",
    "function selectAst() {\n",
    "    // TODO: call selectTree after loading code\n",
    "    // adds a feature for matching code\n",
    "    //   and automatically return evaluation on another level of arrays\n",
    "}\n",
    "\n",
    "function getArrayAST(selector, ctx, index) {\n",
    "    if(typeof ctx === 'string') {\n",
    "        ctx = esprima.parse(ctx, {range: true, tokens: true,\n",
    "                                  comment: true, whitespace: true});\n",
    "    }\n",
    "    try {\n",
    "        return astq.query(ctx, selector);\n",
    "    } catch (e) {\n",
    "        if(e.message.includes('query parsing failed')) {\n",
    "            return esquery(ctx, selector);\n",
    "        } else {\n",
    "            throw e;\n",
    "        }\n",
    "    }\n",
    "}\n",
    "\n",
    "// TODO: implement getObjectXPath with ASTs\n",
    "\n",
    "module.exports = getArrayAST;\n",
    "\n"
   ]
  },
  {
   "cell_type": "markdown",
   "metadata": {
    "hidden": true
   },
   "source": [
    "test ast path array?"
   ]
  },
  {
   "cell_type": "code",
   "execution_count": null,
   "metadata": {
    "hidden": true
   },
   "outputs": [],
   "source": [
    "var importer = require('../Core');\n",
    "var getArrayAST = importer.import('get ast path array');\n",
    "\n",
    "function testASTArray(selector, search = '') {\n",
    "    return getArrayAST(selector, importer.interpret(search).code);\n",
    "}\n",
    "\n",
    "module.exports = testASTArray;\n",
    "\n"
   ]
  },
  {
   "cell_type": "markdown",
   "metadata": {
    "hidden": true
   },
   "source": [
    "get module exports from source?\n",
    "\n",
    "get exports from source?\n"
   ]
  },
  {
   "cell_type": "code",
   "execution_count": null,
   "metadata": {
    "hidden": true
   },
   "outputs": [],
   "source": [
    "var importer = require('../Core');\n",
    "var getArrayAST = importer.import('get ast path array');\n",
    "var {GET_EXPORTS, GET_FUNCTIONS} = importer.import('common ast queries');\n",
    "\n",
    "// TODO: does this work on other node_modules?\n",
    "function getExports(code) {\n",
    "    // can't call it exports or it might detect itself\n",
    "    var moduleOutput = getArrayAST(GET_EXPORTS, code)\n",
    "    var exportFunctions = [].concat.apply([], moduleOutput\n",
    "                                          .map(e => getArrayAST('/Identifier', e)\n",
    "                                               .map(e => e.name)));\n",
    "    var outputFunctions = getArrayAST(GET_FUNCTIONS, code)\n",
    "        .filter(f => exportFunctions.includes(f.id.name))\n",
    "        .map(f => f.id.name)\n",
    "    var assignments = moduleOutput\n",
    "        .map(e => getArrayAST('/StaticMemberExpression', e)\n",
    "             .map(e => e.property.name))\n",
    "    return outputFunctions.concat.apply(outputFunctions, assignments);\n",
    "}\n",
    "\n",
    "module.exports = getExports;\n"
   ]
  },
  {
   "cell_type": "markdown",
   "metadata": {
    "hidden": true
   },
   "source": [
    "get parameter names?\n",
    "\n",
    "function parameters?\n"
   ]
  },
  {
   "cell_type": "code",
   "execution_count": null,
   "metadata": {
    "hidden": true
   },
   "outputs": [],
   "source": [
    "var importer = require('../Core');\n",
    "var getExports = importer.import('get module exports');\n",
    "var getArrayAST = importer.import('get ast path array');\n",
    "var {GET_PARAMETERS, GET_FUNCTIONS} = importer.import('common ast queries');\n",
    "\n",
    "// TODO: fix calls to this and remove interpret\n",
    "function getParameters(search) {\n",
    "    const result = typeof search === 'function'\n",
    "        ? search.toString()\n",
    "        : typeof search === 'string'\n",
    "            ? importer.interpret(search).code\n",
    "            : search;\n",
    "    \n",
    "    var fnName = getExports(result)[0]\n",
    "        || getArrayAST(GET_FUNCTIONS, result).map(f => f.id.name)[0];\n",
    "    if(!fnName) {\n",
    "        return [];\n",
    "    }\n",
    "    \n",
    "    var parameters = getArrayAST(GET_PARAMETERS(fnName), result).map(p => p.name);\n",
    "    return [fnName, ...(parameters || [])];\n",
    "}\n",
    "\n",
    "module.exports = getParameters;\n"
   ]
  },
  {
   "cell_type": "markdown",
   "metadata": {
    "hidden": true
   },
   "source": [
    "get imports from source?"
   ]
  },
  {
   "cell_type": "code",
   "execution_count": null,
   "metadata": {
    "hidden": true
   },
   "outputs": [],
   "source": [
    "var importer = require('../Core');\n",
    "var importerCode = importer.interpret('import.ipynb');\n",
    "var getExports = importer.import('get module exports');\n",
    "var getArrayAST = importer.import('get ast path array');\n",
    "var {GET_IMPORTS, GET_IMPORTER_CALLS} = importer.import('common ast queries');\n",
    "\n",
    "function getImports(code) {\n",
    "    var imports = getArrayAST(GET_IMPORTS, code)\n",
    "        .map(s => s.value);\n",
    "    var coreMatches = getArrayAST(GET_IMPORTER_CALLS, code)\n",
    "        .map(s => s.name)\n",
    "        .map(i => importerCode\n",
    "             .filter(core => (core.exports = core.exports || getExports(core.code))\n",
    "                     .includes(i))[0].id);\n",
    "    return imports.concat(coreMatches);\n",
    "}\n",
    "\n",
    "module.exports = getImports;\n",
    "\n"
   ]
  },
  {
   "cell_type": "markdown",
   "metadata": {
    "hidden": true
   },
   "source": [
    "get requires from source?"
   ]
  },
  {
   "cell_type": "code",
   "execution_count": null,
   "metadata": {
    "hidden": true
   },
   "outputs": [],
   "source": [
    "var importer = require('../Core');\n",
    "var getArrayAST = importer.import('get ast path array');\n",
    "var {GET_REQUIRE} = importer.import('common ast queries');\n",
    "\n",
    "function getRequires(code) {\n",
    "    return getArrayAST(GET_REQUIRE, code)\n",
    "        .map(s => s.value)\n",
    "}\n",
    "\n",
    "\n",
    "module.exports = getRequires;\n",
    "\n"
   ]
  },
  {
   "cell_type": "markdown",
   "metadata": {
    "hidden": true
   },
   "source": [
    "get all ast properties?"
   ]
  },
  {
   "cell_type": "code",
   "execution_count": null,
   "metadata": {
    "hidden": true
   },
   "outputs": [],
   "source": [
    "var importer = require('../Core');\n",
    "var getArrayAST = importer.import('get ast path array');\n",
    "var getExports = importer.import('get exports from source');\n",
    "var getParameters = importer.import('function parameters');\n",
    "var getImports = importer.import('get imports from source');\n",
    "\n",
    "function addAST(cell) {\n",
    "    cell = typeof cell === 'string'\n",
    "            ? importer.interpret(cell)\n",
    "            : cell;\n",
    "    var code = cell.code || cell;\n",
    "    try {\n",
    "        cell.ast = getArrayAST('*', code);\n",
    "    } catch (e) {\n",
    "        return cell;\n",
    "    }\n",
    "    return Object.assign(cell, {\n",
    "        exports: getExports(cell.ast),\n",
    "        params: getParameters(cell.ast),\n",
    "        imports: getImports(cell.ast)\n",
    "    });\n",
    "}\n",
    "\n",
    "module.exports = addAST;\n",
    "\n"
   ]
  }
 ],
 "metadata": {
  "kernelspec": {
   "display_name": "Javascript (Node.js)",
   "language": "javascript",
   "name": "javascript"
  },
  "language_info": {
   "file_extension": ".js",
   "mimetype": "application/javascript",
   "name": "javascript",
   "version": "10.16.0"
  }
 },
 "nbformat": 4,
 "nbformat_minor": 2
}
