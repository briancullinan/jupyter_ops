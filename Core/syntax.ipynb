{
 "cells": [
  {
   "cell_type": "markdown",
   "metadata": {},
   "source": [
    "# syntax tools\n",
    "\n",
    "\n"
   ]
  },
  {
   "cell_type": "markdown",
   "metadata": {
    "heading_collapsed": true
   },
   "source": [
    "## locating libraries\n",
    "\n"
   ]
  },
  {
   "cell_type": "code",
   "execution_count": null,
   "metadata": {
    "hidden": true
   },
   "outputs": [],
   "source": []
  },
  {
   "cell_type": "markdown",
   "metadata": {
    "heading_collapsed": true,
    "hidden": true
   },
   "source": [
    "### retrieving and framework documentation\n",
    "\n"
   ]
  },
  {
   "cell_type": "code",
   "execution_count": null,
   "metadata": {
    "hidden": true
   },
   "outputs": [],
   "source": []
  },
  {
   "cell_type": "markdown",
   "metadata": {
    "heading_collapsed": true,
    "hidden": true
   },
   "source": [
    "### creating libraries from code blocks\n",
    "\n",
    "Code analysis to combine blocks into modules\n"
   ]
  },
  {
   "cell_type": "code",
   "execution_count": null,
   "metadata": {
    "hidden": true
   },
   "outputs": [],
   "source": []
  },
  {
   "cell_type": "markdown",
   "metadata": {
    "heading_collapsed": true,
    "hidden": true
   },
   "source": [
    "### manipulating code libraries\n",
    "\n",
    "Show git repo organization options?\n",
    "\n",
    "Warn of changes made outside of the module or feature branch?\n",
    "\n"
   ]
  },
  {
   "cell_type": "markdown",
   "metadata": {},
   "source": [
    "## code trees"
   ]
  },
  {
   "cell_type": "markdown",
   "metadata": {},
   "source": [
    "Functions for working with code trees. selectTree is nice, but jsel and CSS-style selectors don't give you access to parents. True XPath can navigate both directions of an XML/HTML tree. Later in the section selectAst converts the code to an html tree for XPath and CSS-style evaluating."
   ]
  },
  {
   "cell_type": "markdown",
   "metadata": {
    "heading_collapsed": true
   },
   "source": [
    "### tree to html\n",
    "\n",
    "Reasoning. Every atom is made up of smaller component parts. This conversion creates a tree that breaks down to &lt;elements&gt; and attr=\"ibutes\", just like neutrons and protons. XML, HTML, and CSS parsers are common in every language, which means the XPath and CSS query selectors also might be available.\n"
   ]
  },
  {
   "cell_type": "markdown",
   "metadata": {
    "heading_collapsed": true,
    "hidden": true
   },
   "source": [
    "#### the code\n",
    "\n",
    "tree to html?\n"
   ]
  },
  {
   "cell_type": "code",
   "execution_count": null,
   "metadata": {
    "hidden": true
   },
   "outputs": [],
   "source": [
    "var importer = require('../Core');\n",
    "var {selectDom} = importer.import('select tree')\n",
    "var {JSDOM} = require('jsdom');\n",
    "\n",
    "function treeToStr(statement, parent) {\n",
    "    var {type} = statement;\n",
    "    var result = ``, attrs = ``;\n",
    "    var isList = true;\n",
    "    for(var i in statement) {\n",
    "        if(parseInt(i) + '' === i + '') {\n",
    "            result += treeToStr(statement[i], parent)\n",
    "            continue;\n",
    "        }\n",
    "        isList = false;\n",
    "        var jsType = typeof statement[i];\n",
    "        if(jsType === 'object' && statement[i]) {\n",
    "            jsType = Object.getPrototypeOf(statement[i]).constructor.name;\n",
    "        }\n",
    "        // if the property is an Object, print out as a child\n",
    "        // TODO: replace this type property when converting other trees\n",
    "        //   should be like getEl() treeToStr(() => el.type)\n",
    "        if(statement[i] && typeof statement[i].type !== 'undefined'\n",
    "           // or if the property is an Array,\n",
    "           //   print them out as child elements\n",
    "           || (Array.isArray(statement[i]) && statement[i].length\n",
    "           && typeof statement[i][0].type !== 'undefined')) {\n",
    "            // print out the other keys just for fun matching\n",
    "            attrs +=  `\n",
    "${i}=\"\" ${i}-type=\"${jsType}\"`;\n",
    "            result += `\n",
    "${treeToStr(statement[i], i)}`\n",
    "            // output as child element and <-attr> elements\n",
    "            //   for posterity, only child elements are return on the select,\n",
    "            //   but attr elements can still be matched\n",
    "        } else {\n",
    "            // if the property is not an object, i.e. native types\n",
    "            attrs +=  `\n",
    "${i}=${JSON.stringify(statement[i])} ${i}-type=\"${jsType}\"`\n",
    "        }\n",
    "    }\n",
    "    \n",
    "    return isList ? result : `\n",
    "<${type}${attrs}${parent ? `\n",
    " parent-attr=\"${parent}\"`: ``}>${result}</${type}>`\n",
    "}\n",
    "\n",
    "function treeToHtml(tree) {\n",
    "    var body = treeToStr(tree);\n",
    "    return selectDom('//BODY', '<BODY>' + body + '</BODY>');\n",
    "}\n",
    "\n",
    "module.exports = {\n",
    "    treeToHtml\n",
    "};\n"
   ]
  },
  {
   "cell_type": "markdown",
   "metadata": {
    "heading_collapsed": true,
    "hidden": true
   },
   "source": [
    "#### justification\n",
    "\n",
    "Just so it can be parsed with XPath instead of crappy wanna-be query languahes. Get them all working the same!  Also, html/xml parsers are common in many languages. So this library can be parsed and translated to other languages, using itself!\n",
    "\n"
   ]
  },
  {
   "cell_type": "markdown",
   "metadata": {
    "hidden": true
   },
   "source": [
    "\n",
    "Crap modules I won't need any more:\n",
    "- css\n",
    "- ASTQ\n",
    "- Acorn\n",
    "- esprima\n",
    "- escodegen\n",
    "- esquery\n",
    "- jsonpath\n",
    "- jsonpath-plus\n",
    "- jsonquery\n",
    "- jspath\n",
    "- json:select\n",
    "- jsel\n",
    "- minimatch\n",
    "\n",
    "TODO: get rid of jsonpath-plus, jsonstream, jspath, \n",
    "\n"
   ]
  },
  {
   "cell_type": "markdown",
   "metadata": {
    "heading_collapsed": true,
    "hidden": true
   },
   "source": [
    "#### test converting element to markdown using an ast\n",
    "\n"
   ]
  },
  {
   "cell_type": "markdown",
   "metadata": {
    "hidden": true
   },
   "source": [
    "```\n",
    "/* expected output `\n",
    "[ Script {\n",
    "    type: 'Program',\n",
    "    body: [ [FunctionDeclaration], [ExpressionStatement] ],\n",
    "    sourceType: 'script',\n",
    "    range: [ 1, 45 ],\n",
    "    comments: [],\n",
    "    tokens:\n",
    "\n",
    "<program type=\"program\">\n",
    "    <function>\n",
    "    </function>\n",
    "    <expression>\n",
    "    </expression>\n",
    "</program>\n",
    "\n",
    "*/\n",
    "```\n",
    "\n"
   ]
  },
  {
   "cell_type": "code",
   "execution_count": null,
   "metadata": {
    "hidden": true
   },
   "outputs": [],
   "source": []
  },
  {
   "cell_type": "markdown",
   "metadata": {
    "heading_collapsed": true
   },
   "source": [
    "### html to tree\n",
    "\n",
    "Convert HTML back from the function above, html to tree."
   ]
  },
  {
   "cell_type": "markdown",
   "metadata": {
    "heading_collapsed": true,
    "hidden": true
   },
   "source": [
    "#### the code\n",
    "\n",
    "html to tree?"
   ]
  },
  {
   "cell_type": "code",
   "execution_count": null,
   "metadata": {
    "hidden": true
   },
   "outputs": [],
   "source": [
    "var {JSDOM} = require('jsdom');\n",
    "\n",
    "// TODO: create a pattern same as notebook markdown in core, accumulate\n",
    "function accumulateChildNodes(body) {\n",
    "    var commentBuffer = []\n",
    "    // TODO: exclude children parent properties\n",
    "    //   left-over children are assigned to children: []\n",
    "    return Array.from(body.childNodes)\n",
    "        .reduce((obj, n) => {\n",
    "            if(n.nodeName === '#text') {\n",
    "                commentBuffer.push[n];\n",
    "                return obj;\n",
    "            }\n",
    "            var parent = n.getAttribute('parent-attr');\n",
    "            var newNode = htmlToTree(n);\n",
    "            if(parent) {\n",
    "                var parentType = body.getAttribute(parent + '-type')\n",
    "                if(parentType === 'Array') {\n",
    "                    if(typeof obj[parent] === 'undefined')\n",
    "                        obj[parent] = [];\n",
    "                    obj[parent].push(newNode);\n",
    "                } else {\n",
    "                    obj[parent] = newNode;\n",
    "                }\n",
    "            } else {\n",
    "                // TODO: if no children left and no other -attr properties,\n",
    "                //   remove the child property from the output\n",
    "                if(typeof obj.children === 'undefined')\n",
    "                    obj.children = [];\n",
    "                obj.children.push(newNode);\n",
    "            }\n",
    "            if(typeof newNode.comments !== 'undefined') {\n",
    "                newNode.comments.push.apply(\n",
    "                    newNode.comments, commentBuffer)\n",
    "                commentBuffer = [];\n",
    "            }\n",
    "            return obj;\n",
    "        }, {})\n",
    "}\n",
    "\n",
    "// expects a string or a tree from JSDOM\n",
    "function htmlToTree(body) {\n",
    "    if(typeof body === 'string') {\n",
    "        var dom = new JSDOM(body);\n",
    "        return accumulateChildNodes(dom.window.document.body).children;\n",
    "    }\n",
    "    if(body.nodeName === '#text') {\n",
    "        return body.nodeValue;\n",
    "    }\n",
    "    // convert attributed object containers back to properties\n",
    "    // TODO: might have a property named -type and it will be lost\n",
    "    var attrs = body.getAttributeNames()\n",
    "        .filter(a => a !== 'parent-attr' && a.substr(-5) != '-type')\n",
    "        .reduce((obj, p) => {\n",
    "            var attr = body.getAttribute(p);\n",
    "            try { obj[p] = JSON.parse(attr); }\n",
    "            catch (e) { obj[p] = attr; }\n",
    "            return obj;\n",
    "        }, {})\n",
    "    \n",
    "    var children = accumulateChildNodes(body);\n",
    "    \n",
    "    return Object.assign({\n",
    "        type: body.nodeName\n",
    "    }, attrs, children);\n",
    "}\n",
    "\n",
    "module.exports = {\n",
    "    htmlToTree\n",
    "};\n",
    "\n"
   ]
  },
  {
   "cell_type": "markdown",
   "metadata": {
    "heading_collapsed": true,
    "hidden": true
   },
   "source": [
    "#### test tree to html\n",
    "\n"
   ]
  },
  {
   "cell_type": "code",
   "execution_count": 20,
   "metadata": {
    "hidden": true,
    "scrolled": false
   },
   "outputs": [
    {
     "name": "stdout",
     "output_type": "stream",
     "text": [
      "compiling /Users/briancullinan/jupyter_ops/Core/syntax.ipynb[5] aka html to tree\n",
      "{ type: 'Program',\n",
      "  body:\n",
      "   [ { type: 'FunctionDeclaration',\n",
      "       id: [Object],\n",
      "       params: [Array],\n",
      "       body: [Object],\n",
      "       generator: false,\n",
      "       expression: false,\n",
      "       async: false,\n",
      "       range: [Array] },\n",
      "     { type: 'ExpressionStatement',\n",
      "       expression: [Object],\n",
      "       range: [Array] } ],\n",
      "  sourcetype: 'script',\n",
      "  range: [ 1, 45 ],\n",
      "  comments: [],\n",
      "  tokens:\n",
      "   [ { type: 'Keyword', value: 'function', range: [Array] },\n",
      "     { type: 'Identifier', value: 'name', range: [Array] },\n",
      "     { type: 'Punctuator', value: '(', range: [Array] },\n",
      "     { type: 'Identifier', value: 'params', range: [Array] },\n",
      "     { type: 'Punctuator', value: ')', range: [Array] },\n",
      "     { type: 'Punctuator', value: '{', range: [Array] },\n",
      "     { type: 'Punctuator', value: '}', range: [Array] },\n",
      "     { type: 'Identifier', value: 'console', range: [Array] },\n",
      "     { type: 'Punctuator', value: '.', range: [Array] },\n",
      "     { type: 'Identifier', value: 'log', range: [Array] },\n",
      "     { type: 'Punctuator', value: '(', range: [Array] },\n",
      "     { type: 'Punctuator', value: ')', range: [Array] } ] }\n",
      "two JSON trees are same-same\n"
     ]
    },
    {
     "data": {
      "text/html": [
       "<pre>\n",
       "&lt;Program\n",
       "type=&quot;Program&quot; type-type=&quot;string&quot;\n",
       "body=&quot;&quot; body-type=&quot;Array&quot;\n",
       "sourceType=&quot;script&quot; sourceType-type=&quot;string&quot;\n",
       "range=[1,45] range-type=&quot;Array&quot;\n",
       "comments=[] comments-type=&quot;Array&quot;\n",
       "tokens=&quot;&quot; tokens-type=&quot;Array&quot;&gt;\n",
       "\n",
       "&lt;FunctionDeclaration\n",
       "type=&quot;FunctionDeclaration&quot; type-type=&quot;string&quot;\n",
       "id=&quot;&quot; id-type=&quot;Identifier&quot;\n",
       "params=&quot;&quot; params-type=&quot;Array&quot;\n",
       "body=&quot;&quot; body-type=&quot;BlockStatement&quot;\n",
       "generator=false generator-type=&quot;boolean&quot;\n",
       "expression=false expression-type=&quot;boolean&quot;\n",
       "async=false async-type=&quot;boolean&quot;\n",
       "range=[1,31] range-type=&quot;Array&quot;\n",
       " parent-attr=&quot;body&quot;&gt;\n",
       "\n",
       "&lt;Identifier\n",
       "type=&quot;Identifier&quot; type-type=&quot;string&quot;\n",
       "name=&quot;name&quot; name-type=&quot;string&quot;\n",
       "range=[10,14] range-type=&quot;Array&quot;\n",
       " parent-attr=&quot;id&quot;&gt;&lt;/Identifier&gt;\n",
       "\n",
       "&lt;Identifier\n",
       "type=&quot;Identifier&quot; type-type=&quot;string&quot;\n",
       "name=&quot;params&quot; name-type=&quot;string&quot;\n",
       "range=[15,21] range-type=&quot;Array&quot;\n",
       " parent-attr=&quot;params&quot;&gt;&lt;/Identifier&gt;\n",
       "\n",
       "&lt;BlockStatement\n",
       "type=&quot;BlockStatement&quot; type-type=&quot;string&quot;\n",
       "body=[] body-type=&quot;Array&quot;\n",
       "range=[23,31] range-type=&quot;Array&quot;\n",
       " parent-attr=&quot;body&quot;&gt;&lt;/BlockStatement&gt;&lt;/FunctionDeclaration&gt;\n",
       "&lt;ExpressionStatement\n",
       "type=&quot;ExpressionStatement&quot; type-type=&quot;string&quot;\n",
       "expression=&quot;&quot; expression-type=&quot;CallExpression&quot;\n",
       "range=[32,45] range-type=&quot;Array&quot;\n",
       " parent-attr=&quot;body&quot;&gt;\n",
       "\n",
       "&lt;CallExpression\n",
       "type=&quot;CallExpression&quot; type-type=&quot;string&quot;\n",
       "callee=&quot;&quot; callee-type=&quot;StaticMemberExpression&quot;\n",
       "arguments=[] arguments-type=&quot;Array&quot;\n",
       "range=[32,45] range-type=&quot;Array&quot;\n",
       " parent-attr=&quot;expression&quot;&gt;\n",
       "\n",
       "&lt;MemberExpression\n",
       "type=&quot;MemberExpression&quot; type-type=&quot;string&quot;\n",
       "computed=false computed-type=&quot;boolean&quot;\n",
       "object=&quot;&quot; object-type=&quot;Identifier&quot;\n",
       "property=&quot;&quot; property-type=&quot;Identifier&quot;\n",
       "range=[32,43] range-type=&quot;Array&quot;\n",
       " parent-attr=&quot;callee&quot;&gt;\n",
       "\n",
       "&lt;Identifier\n",
       "type=&quot;Identifier&quot; type-type=&quot;string&quot;\n",
       "name=&quot;console&quot; name-type=&quot;string&quot;\n",
       "range=[32,39] range-type=&quot;Array&quot;\n",
       " parent-attr=&quot;object&quot;&gt;&lt;/Identifier&gt;\n",
       "\n",
       "&lt;Identifier\n",
       "type=&quot;Identifier&quot; type-type=&quot;string&quot;\n",
       "name=&quot;log&quot; name-type=&quot;string&quot;\n",
       "range=[40,43] range-type=&quot;Array&quot;\n",
       " parent-attr=&quot;property&quot;&gt;&lt;/Identifier&gt;&lt;/MemberExpression&gt;&lt;/CallExpression&gt;&lt;/ExpressionStatement&gt;\n",
       "\n",
       "&lt;Keyword\n",
       "type=&quot;Keyword&quot; type-type=&quot;string&quot;\n",
       "value=&quot;function&quot; value-type=&quot;string&quot;\n",
       "range=[1,9] range-type=&quot;Array&quot;\n",
       " parent-attr=&quot;tokens&quot;&gt;&lt;/Keyword&gt;\n",
       "&lt;Identifier\n",
       "type=&quot;Identifier&quot; type-type=&quot;string&quot;\n",
       "value=&quot;name&quot; value-type=&quot;string&quot;\n",
       "range=[10,14] range-type=&quot;Array&quot;\n",
       " parent-attr=&quot;tokens&quot;&gt;&lt;/Identifier&gt;\n",
       "&lt;Punctuator\n",
       "type=&quot;Punctuator&quot; type-type=&quot;string&quot;\n",
       "value=&quot;(&quot; value-type=&quot;string&quot;\n",
       "range=[14,15] range-type=&quot;Array&quot;\n",
       " parent-attr=&quot;tokens&quot;&gt;&lt;/Punctuator&gt;\n",
       "&lt;Identifier\n",
       "type=&quot;Identifier&quot; type-type=&quot;string&quot;\n",
       "value=&quot;params&quot; value-type=&quot;string&quot;\n",
       "range=[15,21] range-type=&quot;Array&quot;\n",
       " parent-attr=&quot;tokens&quot;&gt;&lt;/Identifier&gt;\n",
       "&lt;Punctuator\n",
       "type=&quot;Punctuator&quot; type-type=&quot;string&quot;\n",
       "value=&quot;)&quot; value-type=&quot;string&quot;\n",
       "range=[21,22] range-type=&quot;Array&quot;\n",
       " parent-attr=&quot;tokens&quot;&gt;&lt;/Punctuator&gt;\n",
       "&lt;Punctuator\n",
       "type=&quot;Punctuator&quot; type-type=&quot;string&quot;\n",
       "value=&quot;{&quot; value-type=&quot;string&quot;\n",
       "range=[23,24] range-type=&quot;Array&quot;\n",
       " parent-attr=&quot;tokens&quot;&gt;&lt;/Punctuator&gt;\n",
       "&lt;Punctuator\n",
       "type=&quot;Punctuator&quot; type-type=&quot;string&quot;\n",
       "value=&quot;}&quot; value-type=&quot;string&quot;\n",
       "range=[30,31] range-type=&quot;Array&quot;\n",
       " parent-attr=&quot;tokens&quot;&gt;&lt;/Punctuator&gt;\n",
       "&lt;Identifier\n",
       "type=&quot;Identifier&quot; type-type=&quot;string&quot;\n",
       "value=&quot;console&quot; value-type=&quot;string&quot;\n",
       "range=[32,39] range-type=&quot;Array&quot;\n",
       " parent-attr=&quot;tokens&quot;&gt;&lt;/Identifier&gt;\n",
       "&lt;Punctuator\n",
       "type=&quot;Punctuator&quot; type-type=&quot;string&quot;\n",
       "value=&quot;.&quot; value-type=&quot;string&quot;\n",
       "range=[39,40] range-type=&quot;Array&quot;\n",
       " parent-attr=&quot;tokens&quot;&gt;&lt;/Punctuator&gt;\n",
       "&lt;Identifier\n",
       "type=&quot;Identifier&quot; type-type=&quot;string&quot;\n",
       "value=&quot;log&quot; value-type=&quot;string&quot;\n",
       "range=[40,43] range-type=&quot;Array&quot;\n",
       " parent-attr=&quot;tokens&quot;&gt;&lt;/Identifier&gt;\n",
       "&lt;Punctuator\n",
       "type=&quot;Punctuator&quot; type-type=&quot;string&quot;\n",
       "value=&quot;(&quot; value-type=&quot;string&quot;\n",
       "range=[43,44] range-type=&quot;Array&quot;\n",
       " parent-attr=&quot;tokens&quot;&gt;&lt;/Punctuator&gt;\n",
       "&lt;Punctuator\n",
       "type=&quot;Punctuator&quot; type-type=&quot;string&quot;\n",
       "value=&quot;)&quot; value-type=&quot;string&quot;\n",
       "range=[44,45] range-type=&quot;Array&quot;\n",
       " parent-attr=&quot;tokens&quot;&gt;&lt;/Punctuator&gt;&lt;/Program&gt;</pre>"
      ]
     },
     "execution_count": 20,
     "metadata": {},
     "output_type": "execute_result"
    }
   ],
   "source": [
    "var importer = require('../Core');\n",
    "var {treeToHtml} = importer.import('tree to html');\n",
    "var {htmlToTree} = importer.import('html to tree');\n",
    "\n",
    "var assert = require('assert');\n",
    "var esprima = require('esprima'); \n",
    "\n",
    "function setupASTArray(code) {\n",
    "    var ctx = esprima.parse(code, {range: true, tokens: true,\n",
    "                        comment: true, whitespace: true})\n",
    "    \n",
    "    return ctx;\n",
    "}\n",
    "\n",
    "function testASTArray(ctx) {\n",
    "    var page = treeToHtml(ctx);\n",
    "    var translated_back = htmlToTree(page);\n",
    "    console.log(translated_back[0]);\n",
    "    assert(JSON.stringify(ctx).length\n",
    "           === JSON.stringify(translated_back[0]).length,\n",
    "           'different code trees');    \n",
    "    console.log('two JSON trees are same-same')\n",
    "    return page;\n",
    "}\n",
    "\n",
    "module.exports = testASTArray;\n",
    "\n",
    "function htmlEntities(str) {\n",
    "    return String(str)\n",
    "        .replace(/&/g, '&amp;')\n",
    "        .replace(/</g, '&lt;')\n",
    "        .replace(/>/g, '&gt;')\n",
    "        .replace(/\"/g, '&quot;');\n",
    "}\n",
    "\n",
    "if(typeof $$ !== 'undefined') {\n",
    "    var code = `\n",
    "function name(params) {\n",
    "    \n",
    "}\n",
    "console.log()\n",
    "`\n",
    "    var ctx = setupASTArray(code);\n",
    "    var html = testASTArray(ctx);\n",
    "    $$.html('<pre>' + htmlEntities(html) + '</pre>')\n",
    "}\n"
   ]
  },
  {
   "cell_type": "markdown",
   "metadata": {
    "hidden": true
   },
   "source": [
    "expected output\n",
    "\n",
    "\n",
    "```\n",
    "FunctionDeclaration {\n",
    "    type: 'FunctionDeclaration',\n",
    "    id:\n",
    "     Identifier { type: 'Identifier', name: 'name', range: [Array] },\n",
    "    params: [ [Identifier] ],\n",
    "    body:\n",
    "     BlockStatement { type: 'BlockStatement', body: [], range: [Array] },\n",
    "    generator: false,\n",
    "    expression: false,\n",
    "    async: false,\n",
    "    range: [ 1, 31 ] },\n",
    "  ExpressionStatement {\n",
    "    type: 'ExpressionStatement',\n",
    "    expression:\n",
    "     CallExpression {\n",
    "       type: 'CallExpression',\n",
    "       callee: [StaticMemberExpression],\n",
    "       arguments: [],\n",
    "       range: [Array] },\n",
    "    range: [ 32, 45 ] } ]\n",
    "```\n"
   ]
  },
  {
   "cell_type": "markdown",
   "metadata": {
    "heading_collapsed": true,
    "hidden": true
   },
   "source": [
    "#### test what happens on regular html converted to a tree\n",
    "\n",
    "\n"
   ]
  },
  {
   "cell_type": "code",
   "execution_count": null,
   "metadata": {
    "hidden": true
   },
   "outputs": [],
   "source": [
    "var importer = require('../Core');\n",
    "var {htmlToTree} = importer.import('convert html to tree');\n",
    "\n",
    "function testHtmlTree(page) {\n",
    "    var translated_back = htmlToTree(page);\n",
    "    console.log(translated_back[0]);\n",
    "    return translated_back;\n",
    "}\n",
    "\n",
    "if(typeof $$ !== 'undefined') {\n",
    "    // copied from Chrome Google search homepage\n",
    "    var code = `<div id=\"fakebox-container\">\n",
    "      <div id=\"fakebox\">\n",
    "        <div id=\"fakebox-search-icon\"></div>\n",
    "        <div id=\"fakebox-text\">Search Google or type a URL</div>\n",
    "        <input id=\"fakebox-input\" autocomplete=\"off\" tabindex=\"-1\" type=\"url\" aria-hidden=\"true\">\n",
    "        <div id=\"fakebox-cursor\"></div>\n",
    "        <button id=\"fakebox-microphone\" title=\"Search by voice\"></button>\n",
    "      </div>\n",
    "    </div>`\n",
    "    var tree = testHtmlTree(code);\n",
    "    console.log(tree);\n",
    "}\n"
   ]
  },
  {
   "cell_type": "markdown",
   "metadata": {
    "heading_collapsed": true
   },
   "source": [
    "### select code tree?\n",
    "\n",
    "select ast?\n",
    "\n",
    "Select code from tree?\n",
    "\n",
    "Use CSS selectors to find code.\n",
    "\n"
   ]
  },
  {
   "cell_type": "markdown",
   "metadata": {
    "heading_collapsed": true,
    "hidden": true
   },
   "source": [
    "#### the code\n"
   ]
  },
  {
   "cell_type": "code",
   "execution_count": 8,
   "metadata": {
    "hidden": true
   },
   "outputs": [
    {
     "name": "stdout",
     "output_type": "stream",
     "text": [
      "compiling /Users/briancullinan/jupyter_ops/Core/syntax.ipynb[3] aka tree to html\n"
     ]
    },
    {
     "data": {
      "text/plain": [
       "{ walkAst: [Function: walkAst],\n",
       "  selectAst: [Function: selectAst] }"
      ]
     },
     "execution_count": 8,
     "metadata": {},
     "output_type": "execute_result"
    }
   ],
   "source": [
    "var importer = require('../Core');\n",
    "var {treeToHtml} = importer.import('tree to html');\n",
    "var {selectDom, evaluateDom} = importer.import('select tree')\n",
    "var esprima = require('esprima'); \n",
    "\n",
    "function selectAst(descriptor, code) {\n",
    "    if(typeof code === 'string') {\n",
    "        code = esprima.parse(code, {range: true, tokens: true,\n",
    "                                  comment: true, whitespace: true});\n",
    "    }\n",
    "    \n",
    "    // TODO: move this conversion to selectDom for all objects?\n",
    "    //   No more selectTree because jsel and friends are inconsistent.\n",
    "    if(typeof code.evaluate === 'undefined'\n",
    "       && typeof code.ownerDocument === 'undefined')\n",
    "        code = treeToHtml(code);\n",
    "    \n",
    "    return selectDom(descriptor, code);\n",
    "}\n",
    "\n",
    "module.exports = {\n",
    "    selectAst\n",
    "}\n"
   ]
  },
  {
   "cell_type": "markdown",
   "metadata": {
    "heading_collapsed": true,
    "hidden": true
   },
   "source": [
    "#### test selecting xpath with parent data\n",
    "\n",
    "Test selecting trees with the html translator.\n",
    "\n",
    "Get the same result as using the json evaluator.\n"
   ]
  },
  {
   "cell_type": "code",
   "execution_count": 1,
   "metadata": {
    "hidden": true,
    "scrolled": false
   },
   "outputs": [
    {
     "name": "stdout",
     "output_type": "stream",
     "text": [
      "compiling /Users/briancullinan/jupyter_ops/Core/files.ipynb[0] aka list project files\n",
      "compiling /Users/briancullinan/jupyter_ops/Core/files.ipynb[1] aka common ignore paths\n",
      "compiling /Users/briancullinan/jupyter_ops/Core/syntax.ipynb[8] aka select ast\n",
      "compiling /Users/briancullinan/jupyter_ops/Core/syntax.ipynb[3] aka tree to html\n",
      "compiling /Users/briancullinan/jupyter_ops/Core/patterns.ipynb[2] aka ### select tree\n",
      "compiling /Users/briancullinan/jupyter_ops/Core/patterns.ipynb[0] aka ,### walk tree\n",
      "compiling /Users/briancullinan/jupyter_ops/Core/syntax.ipynb[10] aka ,#### make long xpath\n",
      "compiling /Users/briancullinan/jupyter_ops/Core/syntax.ipynb[5] aka html to tree\n",
      "Script {\n",
      "  type: 'Program',\n",
      "  body:\n",
      "   [ VariableDeclaration {\n",
      "       type: 'VariableDeclaration',\n",
      "       declarations: [Array],\n",
      "       kind: 'var',\n",
      "       range: [Array] },\n",
      "     FunctionDeclaration {\n",
      "       type: 'FunctionDeclaration',\n",
      "       id: [Identifier],\n",
      "       params: [Array],\n",
      "       body: [BlockStatement],\n",
      "       generator: false,\n",
      "       expression: false,\n",
      "       async: false,\n",
      "       range: [Array] },\n",
      "     ExpressionStatement {\n",
      "       type: 'ExpressionStatement',\n",
      "       expression: [CallExpression],\n",
      "       range: [Array] } ],\n",
      "  sourceType: 'script',\n",
      "  range: [ 1, 136 ],\n",
      "  comments: [],\n",
      "  tokens:\n",
      "   [ { type: 'Keyword', value: 'var', range: [Array] },\n",
      "     { type: 'Identifier', value: 'importer', range: [Array] },\n",
      "     { type: 'Punctuator', value: '=', range: [Array] },\n",
      "     { type: 'Identifier', value: 'require', range: [Array] },\n",
      "     { type: 'Punctuator', value: '(', range: [Array] },\n",
      "     { type: 'String', value: '\\'../Core\\'', range: [Array] },\n",
      "     { type: 'Punctuator', value: ')', range: [Array] },\n",
      "     { type: 'Punctuator', value: ';', range: [Array] },\n",
      "     { type: 'Keyword', value: 'function', range: [Array] },\n",
      "     { type: 'Identifier', value: 'name', range: [Array] },\n",
      "     { type: 'Punctuator', value: '(', range: [Array] },\n",
      "     { type: 'Identifier', value: 'params', range: [Array] },\n",
      "     { type: 'Punctuator', value: ')', range: [Array] },\n",
      "     { type: 'Punctuator', value: '{', range: [Array] },\n",
      "     { type: 'Keyword', value: 'return', range: [Array] },\n",
      "     { type: 'Identifier', value: 'importer', range: [Array] },\n",
      "     { type: 'Punctuator', value: '.', range: [Array] },\n",
      "     { type: 'Identifier', value: 'interpret', range: [Array] },\n",
      "     { type: 'Punctuator', value: '(', range: [Array] },\n",
      "     { type: 'String',\n",
      "       value: '\\'this is a describe request\\'',\n",
      "       range: [Array] },\n",
      "     { type: 'Punctuator', value: ')', range: [Array] },\n",
      "     { type: 'Punctuator', value: ';', range: [Array] },\n",
      "     { type: 'Punctuator', value: '}', range: [Array] },\n",
      "     { type: 'Identifier', value: 'console', range: [Array] },\n",
      "     { type: 'Punctuator', value: '.', range: [Array] },\n",
      "     { type: 'Identifier', value: 'log', range: [Array] },\n",
      "     { type: 'Punctuator', value: '(', range: [Array] },\n",
      "     { type: 'Punctuator', value: ')', range: [Array] } ] }\n",
      "HTMLUnknownElement {\n",
      "  [Symbol(SameObject caches)]:\n",
      "   [Object: null prototype] { childNodes: NodeList {}, children: HTMLCollection {} } }\n",
      "1\n",
      "{ type: 'MemberExpression',\n",
      "  computed: false,\n",
      "  object: { type: 'Identifier', name: 'importer', range: [ 71, 79 ] },\n",
      "  property: { type: 'Identifier', name: 'interpret', range: [ 80, 89 ] },\n",
      "  range: [ 71, 89 ] }\n"
     ]
    }
   ],
   "source": [
    "var importer = require('../Core');\n",
    "//var {makeXpath} = importer.import('make long xpath');\n",
    "var {selectAst} = importer.import('select code tree')\n",
    "var {selectDom} = importer.import('select tree')\n",
    "var {makeXpath} = importer.import('make long xpath')\n",
    "var {htmlToTree} = importer.import('html to tree')\n",
    "var escodegen = require('escodegen');\n",
    "var assert = require('assert');\n",
    "\n",
    "var code = `\n",
    "var importer = require('../Core');\n",
    "function name(params) {\n",
    "    return importer.interpret('this is a describe request');\n",
    "}\n",
    "console.log()\n",
    "`\n",
    "\n",
    "function testCodeToDom(code) {\n",
    "    // make a path with the interpret symbol\n",
    "    var node1 = selectAst(`//*[@name=\"interpret\"]`, code)\n",
    "    console.log(node1)\n",
    "    var parent = selectDom(`parent::*`, node1);\n",
    "    assert(parent.nodeName !== '', 'parent selector works');\n",
    "    console.log(selectDom(`*`, node1).children.length);\n",
    "    console.log(htmlToTree(parent));\n",
    "}\n",
    "// TODO: compare with acorn\n",
    "if(typeof $$ !== 'undefined') {\n",
    "    testCodeToDom(code);\n",
    "}\n"
   ]
  },
  {
   "cell_type": "markdown",
   "metadata": {
    "heading_collapsed": true,
    "hidden": true
   },
   "source": [
    "#### TODO: test with acorn instead\n"
   ]
  },
  {
   "cell_type": "markdown",
   "metadata": {
    "heading_collapsed": true
   },
   "source": [
    "### get xpath to node?\n",
    "\n",
    "XPath minimizing service from recording prototype app.\n",
    " "
   ]
  },
  {
   "cell_type": "markdown",
   "metadata": {
    "hidden": true
   },
   "source": [
    "#### make long xpath?\n",
    "\n",
    "For generating links to nodes from the node, uses parentElement.\n",
    "\n"
   ]
  },
  {
   "cell_type": "code",
   "execution_count": null,
   "metadata": {
    "hidden": true
   },
   "outputs": [],
   "source": [
    "var importer = require('../Core');\n",
    "var {selectDom} = importer.import('select tree');\n",
    "var assert = require('assert');\n",
    "// algorithm magic!\n",
    "// create an very specific XPath following these rules\n",
    "\n",
    "function makeXpath(node) {\n",
    "    var classifiers = [{\n",
    "        tag: `local-name(.)`,\n",
    "        ids: [`@*[name()=\"type\" or name()=\"id\" or name()=\"name\"]`],\n",
    "        classNames: `@class`,\n",
    "        index: `count(preceding-sibling::*)`,\n",
    "        parent: `local-name(parent::*)`,\n",
    "        //parent: `parent::*/@*[name()=\"type\" or name()=\"id\" or name()=\"name\"]`,\n",
    "        nthType: `count(preceding-sibling::*[local-name(*)=local-name(.)])`\n",
    "    }, ({tag, ids, classNames, index, parent, nthType}) => ({\n",
    "        tag: tag && tag !== 'object' ? tag : `*`,\n",
    "        id: ids.length\n",
    "            ? `[${ids\n",
    "            .map(id => \n",
    "                 `(@id=\"${id}\" or @name=\"${id}\" or @type=\"${id}\")`)\n",
    "            .join(` and `)}]`\n",
    "            : ``,\n",
    "        classNames: classNames.length > 0\n",
    "            ? `[contains(@class, \"${classNames}\")]`\n",
    "            : ``,\n",
    "        index: typeof index !== 'undefined' && parent\n",
    "            ? `/parent::${parent}/*[${index+1}]`\n",
    "            : ``,\n",
    "        parent: parent && typeof nthType !== 'undefined'\n",
    "            ? `/parent::${parent}/${\n",
    "                tag && tag !== 'object' ? tag : `*`}[${nthType+1}]`\n",
    "            : ``\n",
    "        \n",
    "    })]\n",
    "    \n",
    "    var match = selectDom([\n",
    "        classifiers,\n",
    "        ({tag, id, classNames, index, parent}) =>\n",
    "            `${tag}${id}${classNames}${index}${parent}`\n",
    "    ], node)[0];\n",
    "    assert(selectDom(match, node),\n",
    "           'oops, the xpath expression maker messed up');\n",
    "    return match;\n",
    "}\n",
    "\n",
    "module.exports = {\n",
    "    makeXpath\n",
    "};\n"
   ]
  },
  {
   "cell_type": "markdown",
   "metadata": {
    "hidden": true
   },
   "source": [
    "#### test making an xpath from any arbitraty node\n",
    "\n",
    "generate css selectors from code?\n",
    "\n",
    "problem, jsel doesn't support parent()\n"
   ]
  },
  {
   "cell_type": "code",
   "execution_count": 3,
   "metadata": {
    "hidden": true,
    "scrolled": false
   },
   "outputs": [
    {
     "name": "stdout",
     "output_type": "stream",
     "text": [
      "compiling /Users/briancullinan/jupyter_ops/Core/syntax.ipynb[8] aka select ast\n",
      "compiling /Users/briancullinan/jupyter_ops/Core/syntax.ipynb[3] aka tree to html\n",
      "compiling /Users/briancullinan/jupyter_ops/Core/syntax.ipynb[10] aka ,#### make long xpath\n",
      "compiling /Users/briancullinan/jupyter_ops/Core/syntax.ipynb[5] aka html to tree\n",
      "HTMLUnknownElement {\n",
      "  [Symbol(SameObject caches)]:\n",
      "   [Object: null prototype] {\n",
      "     childNodes:\n",
      "      NodeList {\n",
      "        '0': [Text],\n",
      "        '1': [HTMLUnknownElement],\n",
      "        '2': [Text],\n",
      "        '3': [HTMLUnknownElement],\n",
      "        '4': [Text],\n",
      "        '5': [HTMLUnknownElement] },\n",
      "     children:\n",
      "      HTMLCollection {\n",
      "        '0': [HTMLUnknownElement],\n",
      "        '1': [HTMLUnknownElement],\n",
      "        '2': [HTMLUnknownElement] } } }\n",
      "{ type: 'FunctionDeclaration',\n",
      "  id: { type: 'Identifier', name: 'name', range: [ 45, 49 ] },\n",
      "  params: [ { type: 'Identifier', name: 'params', range: [Array] } ],\n",
      "  body:\n",
      "   { type: 'BlockStatement',\n",
      "     body: [ [Object] ],\n",
      "     range: [ 58, 122 ] },\n",
      "  generator: false,\n",
      "  expression: false,\n",
      "  async: false,\n",
      "  range: [ 36, 122 ] }\n"
     ]
    }
   ],
   "source": [
    "var esprima = require('esprima'); \n",
    "var escodegen = require('escodegen');\n",
    "var assert = require('assert');\n",
    "var importer = require('../Core');\n",
    "var {selectAst} = importer.import('select code tree')\n",
    "var {selectDom} = importer.import('select tree')\n",
    "var {makeXpath} = importer.import('make long xpath')\n",
    "var {htmlToTree} = importer.import('html to tree')\n",
    "\n",
    "var code = `\n",
    "var importer = require('../Core');\n",
    "function name(params) {\n",
    "    return importer.interpret('this is a describe request');\n",
    "}\n",
    "console.log()\n",
    "`\n",
    "\n",
    "function testMakeXpath(code) {\n",
    "    // make a path with the interpret symbol\n",
    "    var node1 = selectAst(`//*[@name=\"name\"]`, code)\n",
    "    var parent = selectDom(`//*[@type=\"FunctionDeclaration\"]`, node1);\n",
    "    var output = makeXpath(parent)\n",
    "    var node2 = selectAst(`//${output}`, code)\n",
    "    console.log(node2)\n",
    "    assert(node1.parentNode.getAttribute('name') === node2.getAttribute('name'));\n",
    "    return node2\n",
    "    \n",
    "}\n",
    "// TODO: compare with acorn\n",
    "if(typeof $$ !== 'undefined') {\n",
    "    var nodes = testMakeXpath(code);\n",
    "    console.log(htmlToTree(nodes));\n",
    "}\n"
   ]
  },
  {
   "cell_type": "markdown",
   "metadata": {
    "hidden": true
   },
   "source": [
    "#### minimize xpath\n",
    "\n"
   ]
  },
  {
   "cell_type": "code",
   "execution_count": null,
   "metadata": {
    "hidden": true
   },
   "outputs": [],
   "source": [
    "\n",
    "function minimizeXpath(fullPath) {\n",
    "    // flatten the XPath stack using '/'\n",
    "    const fullPath = '//*[not(./app-root)]//' + pathStack.join('/');\n",
    "    const matches = RecordingComponent.getArrayXPath(fullPath);\n",
    "    if (matches.length !== 1) {\n",
    "        throw new Error('Can\\'t do anything right!');\n",
    "    }\n",
    "\n",
    "    // minimize XPath by splitting up every combination\n",
    "    //   and checking only 1 element is matched for click\n",
    "    const combinations: Array<string> = [];\n",
    "    // * between 1 to N segments\n",
    "    for (let i = 1; i < pathStack.length; i++) {\n",
    "        for (let j = 1; j < i; j++) {\n",
    "            const segments = ([\n",
    "                ...pathStack.slice(j, i),\n",
    "                // replace match with an extra / to create // \n",
    "                //   between unnecessary segments\n",
    "                '', // added to create // between target element\n",
    "                pathStack[ pathStack.length - 1 ]\n",
    "            ]).join('/');\n",
    "            combinations.push('//' + segments);\n",
    "        }\n",
    "        // * starts from 0 to N\n",
    "        // *\n",
    "    }\n",
    "\n",
    "    // sort by smallest and return shortest path matching 1 DOM element\n",
    "    const minimal = combinations\n",
    "            .filter(c => RecordingComponent.getArrayXPath(c).length === 1)\n",
    "            .sort((a, b) => a.length - b.length);\n",
    "\n",
    "    return minimal[ 0 ];\n",
    "\n",
    "    // TODO: prioritize by button/input, ids, classes, attributes? (extra credit), index\n",
    "}\n",
    "\n",
    "module.exports = minimizeXpath;\n"
   ]
  },
  {
   "cell_type": "markdown",
   "metadata": {
    "hidden": true
   },
   "source": [
    "#### convert simple xpath to css selector"
   ]
  },
  {
   "cell_type": "code",
   "execution_count": null,
   "metadata": {
    "hidden": true
   },
   "outputs": [],
   "source": [
    "\n",
    "static convertXPathToCss(path: string): string {\n",
    "    // if matched xpath is simple enough, convert it to CSS\n",
    "    // DIV[contains(@class, \"product-tile\")]/parent::*/DIV[2]//MD-CARD[contains(@class, \"mat-card\")]/parent::*/MD-CARD[1]\n",
    "    return path\n",
    "            .replace(/\\/([a-z-]+)\\[@id=\"(.*?)\"]/ig, '/$1#$2')\n",
    "            .replace(/\\/([^\\/]+)\\[contains\\(@class, \"(.*?)\"\\)]/ig, '/$1.$2')\n",
    "            .replace(/\\/parent::[a-z-]+\\/[a-z-]+\\[([0-9]+)]/ig, ':nth-child($1)')\n",
    "            .replace(/^\\/\\//ig, '')\n",
    "            .replace(/\\/\\//ig, ' ')\n",
    "            .replace(/\\//ig, ' > ');\n",
    "}\n",
    "\n"
   ]
  },
  {
   "cell_type": "markdown",
   "metadata": {},
   "source": [
    "### improved syntax manipulation\n",
    "\n",
    "Replacing the functionality I noticed in babel somewhere. Basically walking a tree with visitors is ugly, so we replace it with a sequence of CSS style queries.\n",
    "\n"
   ]
  },
  {
   "cell_type": "markdown",
   "metadata": {
    "heading_collapsed": true
   },
   "source": [
    "#### select expression?\n",
    "\n",
    "select from code?\n",
    "\n",
    "Convert the body of a function to a list of search strings.\n"
   ]
  },
  {
   "cell_type": "code",
   "execution_count": null,
   "metadata": {
    "hidden": true
   },
   "outputs": [],
   "source": [
    "var importer = require('../Core');\n",
    "var {selectAst} = importer.import('select ast');\n",
    "var {selectDom} = importer.import('select tree');\n",
    "var {makeXpath} = importer.import('make long xpath')\n",
    "\n",
    "// create an XPath search out of the function body\n",
    "//   using the parameters as matching predicates\n",
    "function selectExpr(code) {\n",
    "    var func = selectAst([\n",
    "        `(*/FunctionDeclaration|*/*/ArrowFunctionExpression)`\n",
    "    ], code.toString())[0]\n",
    "    var expression = selectDom([\n",
    "        `Identifier[@parent-attr=\"params\"]/@name`,\n",
    "        // select all elements from func that match param name\n",
    "        //   TODO: default functionality can be overridden by specifying\n",
    "        //   a function as the default parameter value\n",
    "        (name) => selectDom(`BlockStatement//*[@name=\"${name}\"]`, func)\n",
    "    ], func)[0]; // TODO: make multiple expressions?\n",
    "    var xpath = makeXpath(expression);\n",
    "    \n",
    "    // TODO: add minimizing expressions, unique to the original context\n",
    "    return xpath;\n",
    "}\n",
    "\n",
    "module.exports = {\n",
    "    selectExpr\n",
    "}\n"
   ]
  },
  {
   "cell_type": "markdown",
   "metadata": {
    "heading_collapsed": true
   },
   "source": [
    "#### test selecting expressions\n"
   ]
  },
  {
   "cell_type": "code",
   "execution_count": null,
   "metadata": {
    "hidden": true
   },
   "outputs": [],
   "source": [
    "var importer = require('../Core');\n",
    "var {selectExpr} = importer.import('select expression');\n",
    "\n",
    "if(typeof $$ !== 'undefined') {\n",
    "    var xpath = selectExpr((importer) => {\n",
    "            var importer = require('../Core');\n",
    "        });\n",
    "    \n",
    "    console.log(xpath)\n",
    "//    replaceCore(code)\n",
    "}\n",
    "\n"
   ]
  },
  {
   "cell_type": "markdown",
   "metadata": {},
   "source": [
    "#### test created expression on notebook code?\n"
   ]
  },
  {
   "cell_type": "code",
   "execution_count": null,
   "metadata": {},
   "outputs": [],
   "source": [
    "var importer = require('../Core');\n",
    "var {selectExpr} = importer.import('select expression');\n",
    "var {selectAst} = importer.import('select ast');\n",
    "\n",
    "if(typeof $$ !== 'undefined') {\n",
    "    var xpath = selectExpr((importer) => {\n",
    "            var importer = require('../Core');\n",
    "        });\n",
    "    var allCells = importer.interpret([\n",
    "        'languages.ipynb[test created expression]'\n",
    "    ]);\n",
    "    console.log(allCells.filter(cell => {\n",
    "        try {\n",
    "            var match = selectAst([`//${xpath}`], cell.code);\n",
    "            return match.length > 0;\n",
    "        } catch (e) {\n",
    "            return false;\n",
    "        }\n",
    "    }))\n",
    "    console.log(xpath)\n",
    "//    replaceCore(code)\n",
    "}\n"
   ]
  },
  {
   "cell_type": "code",
   "execution_count": null,
   "metadata": {},
   "outputs": [],
   "source": []
  },
  {
   "cell_type": "markdown",
   "metadata": {
    "heading_collapsed": true
   },
   "source": [
    "### TODO: generate unit tests\n",
    "\n",
    "TODO: use language server for this\n",
    "\n",
    "generate unit test from logic branching?\n"
   ]
  },
  {
   "cell_type": "code",
   "execution_count": null,
   "metadata": {
    "hidden": true
   },
   "outputs": [],
   "source": [
    "var acorn = require(\"acorn\");\n",
    "var ASTQ  = require(\"astq\");\n",
    "var _ = require('lodash');\n",
    "var importer = require('../Core');\n",
    "\n",
    "var source = importer.interpret('zuora eloqua mapper').code;\n",
    "    \n",
    "var comments = [], tokens = [];\n",
    "\n",
    "var ast = acorn.parse(source, {\n",
    "    ecmaVersion: 6,\n",
    "    // collect ranges for each node\n",
    "\tranges: true,\n",
    "\t// collect comments in Esprima's format\n",
    "\tonComment: comments,\n",
    "\t// collect token ranges\n",
    "\tonToken: tokens,\n",
    "    \n",
    "})\n",
    "\n",
    "var astq = new ASTQ();\n",
    "var assignments = astq.query(ast, `\n",
    "//AssignmentExpression [\n",
    "    //Identifier[@name=='record']\n",
    "]\n",
    "`);\n",
    "var grouped = _.groupBy(assignments, a => comments.filter(c => c.start < a.start).pop().value.trim());\n",
    "var output = '';\n",
    "Object.keys(grouped).forEach(k => {\n",
    "    const ass = grouped[k].map(as => {\n",
    "        const leftMembers = as.left.type === 'MemberExpression'\n",
    "            ? [as.left.property.value] : astq.query(as.left, `\n",
    "//MemberExpression\n",
    "`).map(m => m.property.value).filter(m => m);\n",
    "        const rightMembers = as.right.type === 'MemberExpression'\n",
    "            ? [as.right.property.value] : astq.query(as.right, `\n",
    "//MemberExpression\n",
    "`).map(m => m.property.value).filter(m => m);\n",
    "        if(leftMembers.length === 0 || rightMembers.length === 0) {\n",
    "            return;\n",
    "        }\n",
    "        return `\n",
    "            it('should map ${leftMembers.join(', ')} to eloqua given ${rightMembers.join(', ')} from zuora', () => {\n",
    "                const mapped = mapDataToFields(records);\n",
    "                assert.equal(records[0]['${rightMembers.join('\\'] || records[0][\\'')}'], mapped[0]['${leftMembers}']);\n",
    "            })\n",
    "`;\n",
    "    }).filter(m => m).join('\\n');\n",
    "    output += `\n",
    "        describe('${k} properties mapped', () => {\n",
    "            ${ass}\n",
    "        });\n",
    "`\n",
    "})\n",
    "//console.log(astq.query(ast, `//AssignmentExpression`));\n",
    "var destination = [].concat(...astq.query(ast, `//AssignmentExpression`)\n",
    "    .map(as => as.left.type === 'MemberExpression'\n",
    "            ? [as.left.property.value]\n",
    "            : astq.query(as.left, `//MemberExpression`)\n",
    "         .map(m => m.property.value)\n",
    "         )).filter(m => m)\n",
    "var source = astq.query(ast, `\n",
    "//MemberExpression [\n",
    "    //Literal\n",
    "]\n",
    "`)\n",
    "    .filter(e => (e.property.value + '').includes('.'))\n",
    "    .map(e => e.property.value)\n",
    "console.log(`\n",
    "var assert = require('assert');\n",
    "var importer = require('../Core');\n",
    "var renewalsQuery = importer.import('zuora renewals query');\n",
    "var { bulkImportTemplate } = importer.import('eloqua create template');\n",
    "var { getUniqueRatePlans } = importer.import('zuora account blueprints');\n",
    "\n",
    "var zuoraQuery = renewalsQuery.getQuery('beginning of November', 'beginning of December').Query;\n",
    "\n",
    "var accounts = getUniqueRatePlans();\n",
    "for(var records of accounts) {\n",
    "\n",
    "    describe('given account with ' + records.map(r => r['ProductRatePlan.Name']), () => {\n",
    "        ${output}\n",
    "    })\n",
    "\n",
    "}\n",
    "\n",
    "describe('check field map', () => {\n",
    "    it('should map all fields from zuora query', () => {\n",
    "        const requireFields = ${JSON.stringify(source, null, 4).replace(/\\n/ig, '\\n    ')};\n",
    "        const missing = requireFields.filter(f => !zuoraQuery.includes(f));\n",
    "        assert(missing.length === 0, 'missing fields from zuora query ' + missing.join(', '));\n",
    "    })\n",
    "\n",
    "    it('should map all fields in eloqua import definition', () => {\n",
    "        const mappedFields = ${JSON.stringify(destination, null, 4).replace(/\\n/ig, '\\n    ')};\n",
    "        const unmapped = Object.keys(bulkImportTemplate(60).fields).filter(k => !mappedFields.includes(k));\n",
    "        assert(unmapped.length === 0, 'unmapped eloqua fields ' + unmapped.join(', '));\n",
    "    })\n",
    "\n",
    "    it('should map all record fields to eloqua fields', () => {\n",
    "        const mappedFields = ${JSON.stringify(destination, null, 4).replace(/\\n/ig, '\\n    ')};\n",
    "        const missing = mappedFields.filter(f => !Object.keys(bulkImportTemplate(60).fields).includes(f));\n",
    "        assert(missing.length === 0, 'missing fields from eloqua import definition ' + missing.join(', '));\n",
    "    })\n",
    "})\n",
    "\n",
    "`);\n"
   ]
  },
  {
   "cell_type": "markdown",
   "metadata": {
    "heading_collapsed": true
   },
   "source": [
    "### TODO: detecting framework features\n",
    "\n",
    "Show router tree, module import tree, call tree, feature tree\n"
   ]
  },
  {
   "cell_type": "code",
   "execution_count": null,
   "metadata": {
    "hidden": true
   },
   "outputs": [],
   "source": []
  },
  {
   "cell_type": "markdown",
   "metadata": {
    "heading_collapsed": true
   },
   "source": [
    "### TODO: format detection by example\n",
    "\n",
    "Lint all code\n",
    "\n",
    "Reformat all code like when using webstorm\n"
   ]
  },
  {
   "cell_type": "code",
   "execution_count": null,
   "metadata": {
    "hidden": true
   },
   "outputs": [],
   "source": []
  },
  {
   "cell_type": "markdown",
   "metadata": {
    "heading_collapsed": true
   },
   "source": [
    "### common tree queries\n",
    "\n",
    "TODO: remove all of these and replace with new transpiler\n"
   ]
  },
  {
   "cell_type": "markdown",
   "metadata": {
    "hidden": true
   },
   "source": []
  },
  {
   "cell_type": "markdown",
   "metadata": {
    "hidden": true
   },
   "source": []
  },
  {
   "cell_type": "code",
   "execution_count": null,
   "metadata": {
    "hidden": true
   },
   "outputs": [],
   "source": []
  },
  {
   "cell_type": "markdown",
   "metadata": {
    "hidden": true
   },
   "source": [
    "common astq and esquery for notebooks?\n",
    "\n",
    "common ast queries?\n"
   ]
  },
  {
   "cell_type": "code",
   "execution_count": null,
   "metadata": {
    "hidden": true
   },
   "outputs": [],
   "source": [
    "var GET_CORE = `/VariableDeclaration[//Literal[index(@value, 'Core') > 0]]`;\n",
    "var GET_CORENAME = `/*/VariableDeclarator/Identifier`;\n",
    "var GET_DECLARATIONS = `//*[@type == 'VariableDeclarator'\n",
    "|| @type == 'FunctionDeclaration'\n",
    "|| @type == 'StaticMemberExpression']`;\n",
    "var GET_DECLARED = fnName => `${GET_DECLARATIONS}/Identifier[@name == '${fnName}']`;\n",
    "var GET_CALLED = fnName => `//CallExpression/Identifier[@name == '${fnName}']`;\n",
    "var GET_IMPORTER = importer => `/*[(@type == 'StaticMemberExpression' || @type == 'MemberExpression')\n",
    "                && /Identifier[@name == '${importer}']]`;\n",
    "var GET_CALLER = importer => `//CallExpression[${GET_IMPORTER(importer)}]`;\n",
    "var GET_PARENT = of => `//*[${of}]`;\n",
    "// TODO: use form code analysis\n",
    "var GET_IMPORT_IDENTIFIER = `/Identifier[@name=='import' || @name=='importNotebook']`;\n",
    "var GET_IMPORT = match => `//CallExpression[\n",
    "    (${GET_IMPORT_IDENTIFIER}\n",
    "    || /StaticMemberExpression${GET_IMPORT_IDENTIFIER})\n",
    "    && //Literal[@value == '${match}']]`;\n",
    "var GET_EXPORTS = `//AssignmentExpression[//Identifier[@name=='exports']]`;\n",
    "var GET_FUNCTIONS = `//FunctionDeclaration`;\n",
    "var GET_IMPORTS = `//CallExpression[${GET_IMPORT_IDENTIFIER} \n",
    "    || /StaticMemberExpression${GET_IMPORT_IDENTIFIER}]//Literal`;\n",
    "var GET_IMPORTER_CALLS = `//CallExpression//Identifier[\n",
    "    ${[ 'import',\n",
    "  'streamJson',\n",
    "  'regexToArray',\n",
    "  'getCells',\n",
    "  'runAllPromises',\n",
    "  'interpret',\n",
    "  'runInNewContext',\n",
    "  'cacheCells',\n",
    "  'interpretMarkdown',\n",
    "  'fuseSearch',\n",
    "  'cacheAll' ].map(k => `@name=='${k}'`).join(' || ')}]`\n",
    "var GET_PARAMETERS = fnName => `//FunctionDeclaration[\n",
    "    /Identifier[@name == '${fnName}']\n",
    "]/*[@type != 'BlockStatement']//Identifier`;\n",
    "var GET_REQUIRE = `//CallExpression[/Identifier[@name=='require']]//Literal`;\n",
    "\n",
    "module.exports = {\n",
    "    GET_CORE,\n",
    "    GET_CORENAME,\n",
    "    GET_DECLARATIONS,\n",
    "    GET_DECLARED,\n",
    "    GET_CALLED,\n",
    "    GET_IMPORTER,\n",
    "    GET_CALLER,\n",
    "    GET_PARENT,\n",
    "    GET_IMPORT_IDENTIFIER,\n",
    "    GET_IMPORT,\n",
    "    GET_EXPORTS,\n",
    "    GET_FUNCTIONS,\n",
    "    GET_IMPORTS,\n",
    "    GET_IMPORTER_CALLS,\n",
    "    GET_PARAMETERS,\n",
    "    GET_REQUIRE\n",
    "}\n"
   ]
  },
  {
   "cell_type": "markdown",
   "metadata": {
    "collapsed": true,
    "hidden": true
   },
   "source": [
    "get ast path array?\n",
    "\n",
    "TODO: make this act more like getArrayXPath but without dependence on astq, esquery, and esprima\n",
    "\n",
    "\n"
   ]
  },
  {
   "cell_type": "code",
   "execution_count": null,
   "metadata": {
    "hidden": true
   },
   "outputs": [],
   "source": [
    "var ASTQ  = require(\"astq\");\n",
    "var astq = new ASTQ();\n",
    "var esquery = require('esquery');\n",
    "var esprima = require('esprima'); \n",
    "\n",
    "function getArrayAST(selector, ctx, index) {\n",
    "    if(typeof ctx === 'string') {\n",
    "        ctx = esprima.parse(ctx, {range: true, tokens: true,\n",
    "                                  comment: true, whitespace: true});\n",
    "    }\n",
    "    try {\n",
    "        return astq.query(ctx, selector);\n",
    "    } catch (e) {\n",
    "        if(e.message.includes('query parsing failed')) {\n",
    "            return esquery(ctx, selector);\n",
    "        } else {\n",
    "            throw e;\n",
    "        }\n",
    "    }\n",
    "}\n",
    "\n",
    "// TODO: implement getObjectXPath with ASTs\n",
    "\n",
    "module.exports = getArrayAST;\n",
    "\n"
   ]
  },
  {
   "cell_type": "markdown",
   "metadata": {
    "hidden": true
   },
   "source": [
    "test ast path array?"
   ]
  },
  {
   "cell_type": "code",
   "execution_count": null,
   "metadata": {
    "hidden": true
   },
   "outputs": [],
   "source": [
    "var importer = require('../Core');\n",
    "var getArrayAST = importer.import('get ast path array');\n",
    "\n",
    "function testASTArray(selector, search = '') {\n",
    "    return getArrayAST(selector, importer.interpret(search).code);\n",
    "}\n",
    "\n",
    "module.exports = testASTArray;\n",
    "\n"
   ]
  },
  {
   "cell_type": "markdown",
   "metadata": {
    "hidden": true
   },
   "source": [
    "get module exports from source?\n",
    "\n",
    "get exports from source?\n"
   ]
  },
  {
   "cell_type": "code",
   "execution_count": null,
   "metadata": {
    "hidden": true
   },
   "outputs": [],
   "source": [
    "var importer = require('../Core');\n",
    "var getArrayAST = importer.import('get ast path array');\n",
    "var {GET_EXPORTS, GET_FUNCTIONS} = importer.import('common ast queries');\n",
    "\n",
    "// TODO: does this work on other node_modules?\n",
    "function getExports(code) {\n",
    "    // can't call it exports or it might detect itself\n",
    "    var moduleOutput = getArrayAST(GET_EXPORTS, code)\n",
    "    var exportFunctions = [].concat.apply([], moduleOutput\n",
    "                                          .map(e => getArrayAST('/Identifier', e)\n",
    "                                               .map(e => e.name)));\n",
    "    var outputFunctions = getArrayAST(GET_FUNCTIONS, code)\n",
    "        .filter(f => exportFunctions.includes(f.id.name))\n",
    "        .map(f => f.id.name)\n",
    "    var assignments = moduleOutput\n",
    "        .map(e => getArrayAST('/StaticMemberExpression', e)\n",
    "             .map(e => e.property.name))\n",
    "    return outputFunctions.concat.apply(outputFunctions, assignments);\n",
    "}\n",
    "\n",
    "module.exports = getExports;\n"
   ]
  },
  {
   "cell_type": "markdown",
   "metadata": {
    "hidden": true
   },
   "source": [
    "get parameter names?\n",
    "\n",
    "function parameters?\n"
   ]
  },
  {
   "cell_type": "code",
   "execution_count": null,
   "metadata": {
    "hidden": true
   },
   "outputs": [],
   "source": [
    "var importer = require('../Core');\n",
    "var getExports = importer.import('get module exports');\n",
    "var getArrayAST = importer.import('get ast path array');\n",
    "var {GET_PARAMETERS, GET_FUNCTIONS} = importer.import('common ast queries');\n",
    "\n",
    "// TODO: fix calls to this and remove interpret\n",
    "function getParameters(search) {\n",
    "    const result = typeof search === 'function'\n",
    "        ? search.toString()\n",
    "        : typeof search === 'string'\n",
    "            ? importer.interpret(search).code\n",
    "            : search;\n",
    "    \n",
    "    var fnName = getExports(result)[0]\n",
    "        || getArrayAST(GET_FUNCTIONS, result).map(f => f.id.name)[0];\n",
    "    if(!fnName) {\n",
    "        return [];\n",
    "    }\n",
    "    \n",
    "    var parameters = getArrayAST(GET_PARAMETERS(fnName), result).map(p => p.name);\n",
    "    return [fnName, ...(parameters || [])];\n",
    "}\n",
    "\n",
    "module.exports = getParameters;\n"
   ]
  },
  {
   "cell_type": "markdown",
   "metadata": {
    "hidden": true
   },
   "source": [
    "get imports from source?"
   ]
  },
  {
   "cell_type": "code",
   "execution_count": null,
   "metadata": {
    "hidden": true
   },
   "outputs": [],
   "source": [
    "var importer = require('../Core');\n",
    "var importerCode = importer.interpret('import.ipynb');\n",
    "var getExports = importer.import('get module exports');\n",
    "var getArrayAST = importer.import('get ast path array');\n",
    "var {GET_IMPORTS, GET_IMPORTER_CALLS} = importer.import('common ast queries');\n",
    "\n",
    "function getImports(code) {\n",
    "    var imports = getArrayAST(GET_IMPORTS, code)\n",
    "        .map(s => s.value);\n",
    "    var coreMatches = getArrayAST(GET_IMPORTER_CALLS, code)\n",
    "        .map(s => s.name)\n",
    "        .map(i => importerCode\n",
    "             .filter(core => (core.exports = core.exports || getExports(core.code))\n",
    "                     .includes(i))[0].id);\n",
    "    return imports.concat(coreMatches);\n",
    "}\n",
    "\n",
    "module.exports = getImports;\n",
    "\n"
   ]
  },
  {
   "cell_type": "markdown",
   "metadata": {
    "hidden": true
   },
   "source": [
    "get requires from source?"
   ]
  },
  {
   "cell_type": "code",
   "execution_count": null,
   "metadata": {
    "hidden": true
   },
   "outputs": [],
   "source": [
    "var importer = require('../Core');\n",
    "var getArrayAST = importer.import('get ast path array');\n",
    "var {GET_REQUIRE} = importer.import('common ast queries');\n",
    "\n",
    "function getRequires(code) {\n",
    "    return getArrayAST(GET_REQUIRE, code)\n",
    "        .map(s => s.value)\n",
    "}\n",
    "\n",
    "\n",
    "module.exports = getRequires;\n",
    "\n"
   ]
  },
  {
   "cell_type": "markdown",
   "metadata": {
    "hidden": true
   },
   "source": [
    "get all ast properties?"
   ]
  },
  {
   "cell_type": "code",
   "execution_count": null,
   "metadata": {
    "hidden": true
   },
   "outputs": [],
   "source": [
    "var importer = require('../Core');\n",
    "var getArrayAST = importer.import('get ast path array');\n",
    "var getExports = importer.import('get exports from source');\n",
    "var getParameters = importer.import('function parameters');\n",
    "var getImports = importer.import('get imports from source');\n",
    "\n",
    "function addAST(cell) {\n",
    "    cell = typeof cell === 'string'\n",
    "            ? importer.interpret(cell)\n",
    "            : cell;\n",
    "    var code = cell.code || cell;\n",
    "    try {\n",
    "        cell.ast = getArrayAST('*', code);\n",
    "    } catch (e) {\n",
    "        return cell;\n",
    "    }\n",
    "    return Object.assign(cell, {\n",
    "        exports: getExports(cell.ast),\n",
    "        params: getParameters(cell.ast),\n",
    "        imports: getImports(cell.ast)\n",
    "    });\n",
    "}\n",
    "\n",
    "module.exports = addAST;\n",
    "\n"
   ]
  }
 ],
 "metadata": {
  "kernelspec": {
   "display_name": "Javascript (Node.js)",
   "language": "javascript",
   "name": "javascript"
  },
  "language_info": {
   "file_extension": ".js",
   "mimetype": "application/javascript",
   "name": "javascript",
   "version": "10.16.0"
  }
 },
 "nbformat": 4,
 "nbformat_minor": 2
}
