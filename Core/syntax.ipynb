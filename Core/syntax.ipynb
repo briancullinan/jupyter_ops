{
 "cells": [
  {
   "cell_type": "markdown",
   "metadata": {},
   "source": [
    "# syntax tools\n",
    "\n",
    "\n"
   ]
  },
  {
   "cell_type": "markdown",
   "metadata": {
    "heading_collapsed": true
   },
   "source": [
    "## locating libraries\n",
    "\n"
   ]
  },
  {
   "cell_type": "code",
   "execution_count": null,
   "metadata": {
    "hidden": true
   },
   "outputs": [],
   "source": []
  },
  {
   "cell_type": "markdown",
   "metadata": {
    "heading_collapsed": true,
    "hidden": true
   },
   "source": [
    "### retrieving and framework documentation\n",
    "\n"
   ]
  },
  {
   "cell_type": "code",
   "execution_count": null,
   "metadata": {
    "hidden": true
   },
   "outputs": [],
   "source": []
  },
  {
   "cell_type": "markdown",
   "metadata": {
    "heading_collapsed": true,
    "hidden": true
   },
   "source": [
    "### creating libraries from code blocks\n",
    "\n",
    "Code analysis to combine blocks into modules\n"
   ]
  },
  {
   "cell_type": "code",
   "execution_count": null,
   "metadata": {
    "hidden": true
   },
   "outputs": [],
   "source": []
  },
  {
   "cell_type": "markdown",
   "metadata": {
    "heading_collapsed": true,
    "hidden": true
   },
   "source": [
    "### manipulating code libraries\n",
    "\n",
    "Show git repo organization options?\n",
    "\n",
    "Warn of changes made outside of the module or feature branch?\n",
    "\n"
   ]
  },
  {
   "cell_type": "markdown",
   "metadata": {},
   "source": [
    "## code trees"
   ]
  },
  {
   "cell_type": "markdown",
   "metadata": {},
   "source": []
  },
  {
   "cell_type": "markdown",
   "metadata": {},
   "source": [
    "### tree to html?\n",
    "\n",
    "Reasoning. Every atom is made up of smaller component parts. This conversion creates a tree that breaks down to &lt;elements&gt; and attr=\"ibutes\", just like neutrons and protons. XML, HTML, and CSS parsers are common in every language, which means the XPath and CSS query selectors also might be available.\n"
   ]
  },
  {
   "cell_type": "markdown",
   "metadata": {
    "heading_collapsed": true
   },
   "source": [
    "#### justification\n",
    "\n",
    "Just so it can be parsed with XPath instead of crappy wanna-be query languahes. Get them all working the same!  Also, html/xml parsers are common in many languages. So this library can be parsed and translated to other languages, using itself!\n",
    "\n"
   ]
  },
  {
   "cell_type": "markdown",
   "metadata": {
    "hidden": true
   },
   "source": [
    "\n",
    "Crap modules I won't need any more:\n",
    "- css\n",
    "- ASTQ\n",
    "- Acorn\n",
    "- esprima\n",
    "- escodegen\n",
    "- esquery\n",
    "- jsonpath\n",
    "- jsonpath-plus\n",
    "- jsonquery\n",
    "- jspath\n",
    "- json:select\n",
    "- jsel\n",
    "\n",
    "TODO: get rid of jsonpath-plus, jsonstream, jspath, \n",
    "\n"
   ]
  },
  {
   "cell_type": "markdown",
   "metadata": {},
   "source": [
    "#### the code\n",
    "\n"
   ]
  },
  {
   "cell_type": "code",
   "execution_count": 8,
   "metadata": {},
   "outputs": [
    {
     "data": {
      "text/plain": [
       "{ treeToHtml: [Function: treeToHtml] }"
      ]
     },
     "execution_count": 8,
     "metadata": {},
     "output_type": "execute_result"
    }
   ],
   "source": [
    "\n",
    "function treeToHtml(statement, parent) {\n",
    "    var {type} = statement;\n",
    "    var result = ``, attrs = ``;\n",
    "    var isList = true;\n",
    "    for(var i in statement) {\n",
    "        if(parseInt(i) + '' === i + '') {\n",
    "            result += treeToHtml(statement[i], parent)\n",
    "            continue;\n",
    "        }\n",
    "        isList = false;\n",
    "        var jsType = typeof statement[i];\n",
    "        if(jsType === 'object' && statement[i]) {\n",
    "            jsType = Object.getPrototypeOf(statement[i]).constructor.name;\n",
    "        }\n",
    "        // if the property is an Object, print out as a child\n",
    "        // TODO: replace this type property when converting other trees\n",
    "        //   should be like getEl() treeToHtml(() => el.type)\n",
    "        if(typeof statement[i].type !== 'undefined'\n",
    "           // or if the property is an Array,\n",
    "           //   print them out as child elements\n",
    "           || (Array.isArray(statement[i]) && statement[i].length\n",
    "           && typeof statement[i][0].type !== 'undefined')) {\n",
    "            // print out the other keys just for fun matching\n",
    "            attrs +=  `\n",
    "${i}=\"\" ${i}-type=\"${jsType}\"`;\n",
    "            result += `\n",
    "${treeToHtml(statement[i], i)}`\n",
    "            // output as child element and <-attr> elements\n",
    "            //   for posterity, only child elements are return on the select,\n",
    "            //   but attr elements can still be matched\n",
    "        } else {\n",
    "            // if the property is not an object, i.e. native types\n",
    "            attrs +=  `\n",
    "${i}=${JSON.stringify(statement[i])} ${i}-type=\"${jsType}\"`\n",
    "        }\n",
    "    }\n",
    "    \n",
    "    return isList ? result : `\n",
    "<${type}${attrs}${parent ? `\n",
    " parent-attr=\"${parent}\"`: ``}>${result}</${type}>`\n",
    "}\n",
    "\n",
    "module.exports = {\n",
    "    treeToHtml\n",
    "};\n"
   ]
  },
  {
   "cell_type": "markdown",
   "metadata": {
    "heading_collapsed": true
   },
   "source": [
    "#### test converting element to markdown using an ast\n",
    "\n"
   ]
  },
  {
   "cell_type": "markdown",
   "metadata": {
    "hidden": true
   },
   "source": [
    "```\n",
    "/* expected output `\n",
    "[ Script {\n",
    "    type: 'Program',\n",
    "    body: [ [FunctionDeclaration], [ExpressionStatement] ],\n",
    "    sourceType: 'script',\n",
    "    range: [ 1, 45 ],\n",
    "    comments: [],\n",
    "    tokens:\n",
    "\n",
    "<program type=\"program\">\n",
    "    <function>\n",
    "    </function>\n",
    "    <expression>\n",
    "    </expression>\n",
    "</program>\n",
    "\n",
    "*/\n",
    "```\n",
    "\n"
   ]
  },
  {
   "cell_type": "code",
   "execution_count": null,
   "metadata": {
    "hidden": true
   },
   "outputs": [],
   "source": []
  },
  {
   "cell_type": "markdown",
   "metadata": {},
   "source": [
    "### html to tree?\n",
    "\n"
   ]
  },
  {
   "cell_type": "markdown",
   "metadata": {},
   "source": [
    "#### the code"
   ]
  },
  {
   "cell_type": "code",
   "execution_count": 28,
   "metadata": {},
   "outputs": [
    {
     "data": {
      "text/plain": [
       "{ htmlToTree: [Function: htmlToTree] }"
      ]
     },
     "execution_count": 28,
     "metadata": {},
     "output_type": "execute_result"
    }
   ],
   "source": [
    "var {JSDOM} = require('jsdom');\n",
    "\n",
    "// TODO: create a pattern same as notebook markdown in core, accumulate\n",
    "function accumulateChildNodes(body) {\n",
    "    var commentBuffer = []\n",
    "    // TODO: exclude children parent properties\n",
    "    //   left-over children are assigned to children: []\n",
    "    return Array.from(body.childNodes)\n",
    "        .reduce((obj, n) => {\n",
    "            if(n.nodeName === '#text') {\n",
    "                commentBuffer.push[n];\n",
    "                return obj;\n",
    "            }\n",
    "            var parent = n.getAttribute('parent-attr');\n",
    "            var newNode = htmlToTree(n);\n",
    "            if(parent) {\n",
    "                var parentType = body.getAttribute(parent + '-type')\n",
    "                if(parentType === 'Array') {\n",
    "                    if(typeof obj[parent] === 'undefined')\n",
    "                        obj[parent] = [];\n",
    "                    obj[parent].push(newNode);\n",
    "                } else {\n",
    "                    obj[parent] = newNode;\n",
    "                }\n",
    "            } else {\n",
    "                // TODO: if no children left and no other -attr properties,\n",
    "                //   remove the child property from the output\n",
    "                if(typeof obj.children === 'undefined')\n",
    "                    obj.children = [];\n",
    "                obj.children.push(newNode);\n",
    "            }\n",
    "            if(typeof newNode.comments !== 'undefined') {\n",
    "                newNode.comments.push.apply(\n",
    "                    newNode.comments, commentBuffer)\n",
    "                commentBuffer = [];\n",
    "            }\n",
    "            return obj;\n",
    "        }, {})\n",
    "}\n",
    "\n",
    "// expects a string or a tree from JSDOM\n",
    "function htmlToTree(body) {\n",
    "    if(typeof body === 'string') {\n",
    "        var dom = new JSDOM(body);\n",
    "        return accumulateChildNodes(dom.window.document.body).children;\n",
    "    }\n",
    "    if(body.nodeName === '#text') {\n",
    "        return body.nodeValue;\n",
    "    }\n",
    "    // convert attributed object containers back to properties\n",
    "    // TODO: might have a property named -type and it will be lost\n",
    "    var attrs = body.getAttributeNames()\n",
    "        .filter(a => a !== 'parent-attr' && a.substr(-5) != '-type')\n",
    "        .reduce((obj, p) => {\n",
    "            var attr = body.getAttribute(p);\n",
    "            try { obj[p] = JSON.parse(attr); }\n",
    "            catch (e) { obj[p] = attr; }\n",
    "            return obj;\n",
    "        }, {})\n",
    "    \n",
    "    var children = accumulateChildNodes(body);\n",
    "    \n",
    "    return Object.assign(attrs, children);\n",
    "}\n",
    "\n",
    "module.exports = {\n",
    "    htmlToTree\n",
    "};\n",
    "\n"
   ]
  },
  {
   "cell_type": "markdown",
   "metadata": {},
   "source": [
    "#### test tree to html\n",
    "\n"
   ]
  },
  {
   "cell_type": "code",
   "execution_count": 3,
   "metadata": {
    "scrolled": false
   },
   "outputs": [
    {
     "name": "stdout",
     "output_type": "stream",
     "text": [
      "{ type: 'Program',\n",
      "  body:\n",
      "   [ { type: 'FunctionDeclaration',\n",
      "       id: '',\n",
      "       params: [Array],\n",
      "       body: '',\n",
      "       generator: false,\n",
      "       expression: false,\n",
      "       async: false,\n",
      "       range: [Array] },\n",
      "     { type: 'ExpressionStatement', expression: '', range: [Array] } ],\n",
      "  sourcetype: 'script',\n",
      "  range: [ 1, 45 ],\n",
      "  comments: [],\n",
      "  tokens:\n",
      "   [ { type: 'Keyword', value: 'function', range: [Array] },\n",
      "     { type: 'Identifier', value: 'name', range: [Array] },\n",
      "     { type: 'Punctuator', value: '(', range: [Array] },\n",
      "     { type: 'Identifier', value: 'params', range: [Array] },\n",
      "     { type: 'Punctuator', value: ')', range: [Array] },\n",
      "     { type: 'Punctuator', value: '{', range: [Array] },\n",
      "     { type: 'Punctuator', value: '}', range: [Array] },\n",
      "     { type: 'Identifier', value: 'console', range: [Array] },\n",
      "     { type: 'Punctuator', value: '.', range: [Array] },\n",
      "     { type: 'Identifier', value: 'log', range: [Array] },\n",
      "     { type: 'Punctuator', value: '(', range: [Array] },\n",
      "     { type: 'Punctuator', value: ')', range: [Array] } ] }\n"
     ]
    },
    {
     "ename": "AssertionError [ERR_ASSERTION]",
     "evalue": "different code trees",
     "output_type": "error",
     "traceback": [
      "assert.js:339",
      "    throw err;",
      "    ^",
      "",
      "AssertionError [ERR_ASSERTION]: different code trees",
      "    at testASTArray (evalmachine.<anonymous>:19:5)",
      "    at evalmachine.<anonymous>:44:16",
      "    at Script.runInThisContext (vm.js:122:20)",
      "    at Object.runInThisContext (vm.js:329:38)",
      "    at run ([eval]:1002:15)",
      "    at onRunRequest ([eval]:829:18)",
      "    at onMessage ([eval]:789:13)",
      "    at process.emit (events.js:198:13)",
      "    at emit (internal/child_process.js:832:12)",
      "    at process._tickCallback (internal/process/next_tick.js:63:19)"
     ]
    }
   ],
   "source": [
    "var importer = require('../Core');\n",
    "var {treeToHtml} = importer.import('tree to html');\n",
    "var {htmlToTree} = importer.import('html to tree');\n",
    "\n",
    "var assert = require('assert');\n",
    "var esprima = require('esprima'); \n",
    "\n",
    "function setupASTArray(code) {\n",
    "    var ctx = esprima.parse(code, {range: true, tokens: true,\n",
    "                        comment: true, whitespace: true})\n",
    "    \n",
    "    return ctx;\n",
    "}\n",
    "\n",
    "function testASTArray(ctx) {\n",
    "    var page = treeToHtml(ctx);\n",
    "    var translated_back = htmlToTree(page);\n",
    "    console.log(translated_back[0]);\n",
    "    assert(JSON.stringify(ctx).length\n",
    "           === JSON.stringify(translated_back[0]).length,\n",
    "           'different code trees');    \n",
    "    console.log('two JSON trees are same-same')\n",
    "    return page;\n",
    "}\n",
    "\n",
    "module.exports = testASTArray;\n",
    "\n",
    "function htmlEntities(str) {\n",
    "    return String(str)\n",
    "        .replace(/&/g, '&amp;')\n",
    "        .replace(/</g, '&lt;')\n",
    "        .replace(/>/g, '&gt;')\n",
    "        .replace(/\"/g, '&quot;');\n",
    "}\n",
    "\n",
    "if(typeof $$ !== 'undefined') {\n",
    "    var code = `\n",
    "function name(params) {\n",
    "    \n",
    "}\n",
    "console.log()\n",
    "`\n",
    "    var ctx = setupASTArray(code);\n",
    "    var html = testASTArray(ctx);\n",
    "    $$.html('<pre>' + htmlEntities(html) + '</pre>')\n",
    "}\n"
   ]
  },
  {
   "cell_type": "markdown",
   "metadata": {},
   "source": [
    "expected output\n",
    "\n",
    "\n",
    "```\n",
    "FunctionDeclaration {\n",
    "    type: 'FunctionDeclaration',\n",
    "    id:\n",
    "     Identifier { type: 'Identifier', name: 'name', range: [Array] },\n",
    "    params: [ [Identifier] ],\n",
    "    body:\n",
    "     BlockStatement { type: 'BlockStatement', body: [], range: [Array] },\n",
    "    generator: false,\n",
    "    expression: false,\n",
    "    async: false,\n",
    "    range: [ 1, 31 ] },\n",
    "  ExpressionStatement {\n",
    "    type: 'ExpressionStatement',\n",
    "    expression:\n",
    "     CallExpression {\n",
    "       type: 'CallExpression',\n",
    "       callee: [StaticMemberExpression],\n",
    "       arguments: [],\n",
    "       range: [Array] },\n",
    "    range: [ 32, 45 ] } ]\n",
    "```\n"
   ]
  },
  {
   "cell_type": "markdown",
   "metadata": {
    "heading_collapsed": true
   },
   "source": [
    "#### TODO: test what happens on regular html converted to a tree\n",
    "\n",
    "\n"
   ]
  },
  {
   "cell_type": "code",
   "execution_count": null,
   "metadata": {
    "hidden": true
   },
   "outputs": [],
   "source": []
  },
  {
   "cell_type": "markdown",
   "metadata": {
    "heading_collapsed": true
   },
   "source": [
    "### walk code trees?\n",
    "\n",
    "Select code from tree?\n",
    "\n",
    "Use CSS selectors to find code.\n",
    "\n"
   ]
  },
  {
   "cell_type": "code",
   "execution_count": null,
   "metadata": {
    "hidden": true
   },
   "outputs": [],
   "source": [
    "var esprima = require('esprima'); \n",
    "\n",
    "// same as walkTree but on functions, it converts to XPath and evaluates\n",
    "function walkAst(select, ctx, evaluate) {\n",
    "    var result;\n",
    "    if(Array.isArray(select)) {\n",
    "        // doesn't include the array reduce on the context\n",
    "        //   like walkTree does, simple map here\n",
    "        result = select.map(query => walkTree(query, ctx, evaluate));\n",
    "    } else if (typeof select === 'function') {\n",
    "        // TODO: add a feature for parsing function bodies as the search path\n",
    "        \n",
    "    } else if (typeof select === 'object') {\n",
    "        result = Object.keys(select).reduce((obj, prop) => {\n",
    "            obj[prop] = walkTree(select[prop], ctx, evaluate);\n",
    "            return obj;\n",
    "        }, {});\n",
    "    } else {\n",
    "        result = evaluate(select, ctx);\n",
    "    }\n",
    "    return typeof select === 'string' && result.length === 1\n",
    "       ? result[0]\n",
    "       : result;\n",
    "    \n",
    "}\n",
    "\n",
    "// TODO: test with acorn instead\n",
    "function selectAST(descriptor, ctx) {\n",
    "    if(typeof ctx === 'string') {\n",
    "        ctx = esprima.parse(ctx, {range: true, tokens: true,\n",
    "                                  comment: true, whitespace: true});\n",
    "    }\n",
    "    // adds a feature for matching code\n",
    "    //   and automatically return evaluation on another level of arrays\n",
    "    return walk\n",
    "}\n",
    "\n",
    "module.exports = {\n",
    "    walkAst,\n",
    "    selectAST\n",
    "}\n"
   ]
  },
  {
   "cell_type": "markdown",
   "metadata": {
    "heading_collapsed": true
   },
   "source": [
    "### get xpath to node?\n",
    "\n",
    "XPath minimizing service from recording prototype app.\n",
    " "
   ]
  },
  {
   "cell_type": "markdown",
   "metadata": {
    "heading_collapsed": true,
    "hidden": true
   },
   "source": [
    "#### make long xpath?\n",
    "\n",
    "For generating links to nodes from the node, uses parentElement.\n",
    "\n"
   ]
  },
  {
   "cell_type": "code",
   "execution_count": 26,
   "metadata": {
    "hidden": true
   },
   "outputs": [
    {
     "data": {
      "text/plain": [
       "{ makeXpath: [Function: makeXpath] }"
      ]
     },
     "execution_count": 26,
     "metadata": {},
     "output_type": "execute_result"
    }
   ],
   "source": [
    "var importer = require('../Core');\n",
    "var {selectTree} = importer.import('select tree');\n",
    "\n",
    "// algorithm magic!\n",
    "// create an very specific XPath following these rules\n",
    "\n",
    "function makeXpath(node) {\n",
    "    var classifiers = {\n",
    "        tag: `name(*)`,\n",
    "        type: `*/@*[name()=\"type\"]`,\n",
    "        id: [`@*[name()=\"id\" or name()=\"name\"]`],\n",
    "        classNames: `@class`,\n",
    "        index: `count(preceding-sibling::*)`,\n",
    "        parent: `name(parent::*)`,\n",
    "        nthType: `count(preceding-sibling::*[name()=name(*)])`\n",
    "    }\n",
    "    \n",
    "    return selectTree([\n",
    "        classifiers,\n",
    "        ({tag, id, classNames, type, parent, nthType}) => `${tag\n",
    "            && tag !== 'object'\n",
    "            ? tag : `*`}${id.length\n",
    "            ? `[@id=\"${id[0]}\" or @name=\"${id}\"]` : ``}${type\n",
    "            ? `[@type=\"${type}\"]`: ``}${classNames.length > 0\n",
    "            ? `[contains(@class, \"${classNames}\")]` : ``}${parent\n",
    "            ? `/parent::${parent}/${tag}[${nthType}]` : ``}`\n",
    "    ], node);\n",
    "}\n",
    "\n",
    "module.exports = {\n",
    "    makeXpath\n",
    "};\n"
   ]
  },
  {
   "cell_type": "markdown",
   "metadata": {
    "heading_collapsed": true,
    "hidden": true
   },
   "source": [
    "#### test making an xpath from any arbitraty node\n",
    "\n",
    "generate css selectors from code?\n",
    "\n",
    "problem, jsel doesn't support parent()\n"
   ]
  },
  {
   "cell_type": "code",
   "execution_count": 1,
   "metadata": {
    "hidden": true,
    "scrolled": false
   },
   "outputs": [
    {
     "name": "stdout",
     "output_type": "stream",
     "text": [
      "compiling /Users/briancullinan/jupyter_ops/Core/files.ipynb[1] aka common ignore paths\n",
      "compiling /Users/briancullinan/jupyter_ops/Core/patterns.ipynb[2] aka ### select tree\n",
      "compiling /Users/briancullinan/jupyter_ops/Core/patterns.ipynb[0] aka ,### walk tree\n",
      "compiling /Users/briancullinan/jupyter_ops/Core/syntax.ipynb[9] aka ### get xpath to node\n",
      "Identifier { type: 'Identifier', name: 'interpret' }\n",
      "[]\n",
      "[ '*[@id=\"interpret\" or @name=\"interpret\"][@type=\"Identifier\"]' ]\n",
      "Identifier { type: 'Identifier', name: 'interpret' }\n"
     ]
    }
   ],
   "source": [
    "var importer = require('../Core');\n",
    "//var {makeXpath} = importer.import('make long xpath');\n",
    "var {selectTree} = importer.import('select tree')\n",
    "var {makeXpath} = importer.import('make long xpath')\n",
    "var esprima = require('esprima'); \n",
    "var escodegen = require('escodegen');\n",
    "var assert = require('assert');\n",
    "\n",
    "var code = `\n",
    "var importer = require('../Core');\n",
    "function name(params) {\n",
    "    return importer.interpret('this is a describe request');\n",
    "}\n",
    "console.log()\n",
    "`\n",
    "\n",
    "function testMakeXpath(code) {\n",
    "    var ctx = esprima.parse(code)\n",
    "    // make a path with the interpret symbol\n",
    "    var node1 = selectTree(`//*[@name=\"interpret\"]`, ctx)\n",
    "    console.log(node1)\n",
    "    console.log(selectTree(`parent::*`, node1))\n",
    "    var output = makeXpath(node1)\n",
    "    console.log(output)\n",
    "    var node2 = selectTree(`//${output[0]}`, ctx)\n",
    "    console.log(node2)\n",
    "    assert(node1.name === node2.name);\n",
    "    \n",
    "}\n",
    "// TODO: compare with acorn\n",
    "if(typeof $$ !== 'undefined') {\n",
    "    testMakeXpath(code);\n",
    "}\n"
   ]
  },
  {
   "cell_type": "code",
   "execution_count": null,
   "metadata": {
    "hidden": true
   },
   "outputs": [],
   "source": []
  },
  {
   "cell_type": "markdown",
   "metadata": {
    "heading_collapsed": true,
    "hidden": true
   },
   "source": [
    "#### minimize xpath\n",
    "\n"
   ]
  },
  {
   "cell_type": "code",
   "execution_count": null,
   "metadata": {
    "hidden": true
   },
   "outputs": [],
   "source": [
    "\n",
    "function minimizeXpath(fullPath) {\n",
    "    // flatten the XPath stack using '/'\n",
    "    const fullPath = '//*[not(./app-root)]//' + pathStack.join('/');\n",
    "    const matches = RecordingComponent.getArrayXPath(fullPath);\n",
    "    if (matches.length !== 1) {\n",
    "        throw new Error('Can\\'t do anything right!');\n",
    "    }\n",
    "\n",
    "    // minimize XPath by splitting up every combination\n",
    "    //   and checking only 1 element is matched for click\n",
    "    const combinations: Array<string> = [];\n",
    "    // * between 1 to N segments\n",
    "    for (let i = 1; i < pathStack.length; i++) {\n",
    "        for (let j = 1; j < i; j++) {\n",
    "            const segments = ([\n",
    "                ...pathStack.slice(j, i),\n",
    "                // replace match with an extra / to create // \n",
    "                //   between unnecessary segments\n",
    "                '', // added to create // between target element\n",
    "                pathStack[ pathStack.length - 1 ]\n",
    "            ]).join('/');\n",
    "            combinations.push('//' + segments);\n",
    "        }\n",
    "        // * starts from 0 to N\n",
    "        // *\n",
    "    }\n",
    "\n",
    "    // sort by smallest and return shortest path matching 1 DOM element\n",
    "    const minimal = combinations\n",
    "            .filter(c => RecordingComponent.getArrayXPath(c).length === 1)\n",
    "            .sort((a, b) => a.length - b.length);\n",
    "\n",
    "    return minimal[ 0 ];\n",
    "\n",
    "    // TODO: prioritize by button/input, ids, classes, attributes? (extra credit), index\n",
    "}\n",
    "\n",
    "module.exports = minimizeXpath;\n"
   ]
  },
  {
   "cell_type": "markdown",
   "metadata": {
    "heading_collapsed": true,
    "hidden": true
   },
   "source": [
    "#### convert simple xpath to css selector"
   ]
  },
  {
   "cell_type": "code",
   "execution_count": null,
   "metadata": {
    "hidden": true
   },
   "outputs": [],
   "source": [
    "\n",
    "static convertXPathToCss(path: string): string {\n",
    "    // if matched xpath is simple enough, convert it to CSS\n",
    "    // DIV[contains(@class, \"product-tile\")]/parent::*/DIV[2]//MD-CARD[contains(@class, \"mat-card\")]/parent::*/MD-CARD[1]\n",
    "    return path\n",
    "            .replace(/\\/([a-z-]+)\\[@id=\"(.*?)\"]/ig, '/$1#$2')\n",
    "            .replace(/\\/([^\\/]+)\\[contains\\(@class, \"(.*?)\"\\)]/ig, '/$1.$2')\n",
    "            .replace(/\\/parent::[a-z-]+\\/[a-z-]+\\[([0-9]+)]/ig, ':nth-child($1)')\n",
    "            .replace(/^\\/\\//ig, '')\n",
    "            .replace(/\\/\\//ig, ' ')\n",
    "            .replace(/\\//ig, ' > ');\n",
    "}\n",
    "\n"
   ]
  },
  {
   "cell_type": "markdown",
   "metadata": {
    "heading_collapsed": true
   },
   "source": [
    "### TODO: generate unit tests\n",
    "\n",
    "TODO: use language server for this\n",
    "\n",
    "generate unit test from logic branching?\n"
   ]
  },
  {
   "cell_type": "code",
   "execution_count": null,
   "metadata": {
    "hidden": true
   },
   "outputs": [],
   "source": [
    "var acorn = require(\"acorn\");\n",
    "var ASTQ  = require(\"astq\");\n",
    "var _ = require('lodash');\n",
    "var importer = require('../Core');\n",
    "\n",
    "var source = importer.interpret('zuora eloqua mapper').code;\n",
    "    \n",
    "var comments = [], tokens = [];\n",
    "\n",
    "var ast = acorn.parse(source, {\n",
    "    ecmaVersion: 6,\n",
    "    // collect ranges for each node\n",
    "\tranges: true,\n",
    "\t// collect comments in Esprima's format\n",
    "\tonComment: comments,\n",
    "\t// collect token ranges\n",
    "\tonToken: tokens,\n",
    "    \n",
    "})\n",
    "\n",
    "var astq = new ASTQ();\n",
    "var assignments = astq.query(ast, `\n",
    "//AssignmentExpression [\n",
    "    //Identifier[@name=='record']\n",
    "]\n",
    "`);\n",
    "var grouped = _.groupBy(assignments, a => comments.filter(c => c.start < a.start).pop().value.trim());\n",
    "var output = '';\n",
    "Object.keys(grouped).forEach(k => {\n",
    "    const ass = grouped[k].map(as => {\n",
    "        const leftMembers = as.left.type === 'MemberExpression'\n",
    "            ? [as.left.property.value] : astq.query(as.left, `\n",
    "//MemberExpression\n",
    "`).map(m => m.property.value).filter(m => m);\n",
    "        const rightMembers = as.right.type === 'MemberExpression'\n",
    "            ? [as.right.property.value] : astq.query(as.right, `\n",
    "//MemberExpression\n",
    "`).map(m => m.property.value).filter(m => m);\n",
    "        if(leftMembers.length === 0 || rightMembers.length === 0) {\n",
    "            return;\n",
    "        }\n",
    "        return `\n",
    "            it('should map ${leftMembers.join(', ')} to eloqua given ${rightMembers.join(', ')} from zuora', () => {\n",
    "                const mapped = mapDataToFields(records);\n",
    "                assert.equal(records[0]['${rightMembers.join('\\'] || records[0][\\'')}'], mapped[0]['${leftMembers}']);\n",
    "            })\n",
    "`;\n",
    "    }).filter(m => m).join('\\n');\n",
    "    output += `\n",
    "        describe('${k} properties mapped', () => {\n",
    "            ${ass}\n",
    "        });\n",
    "`\n",
    "})\n",
    "//console.log(astq.query(ast, `//AssignmentExpression`));\n",
    "var destination = [].concat(...astq.query(ast, `//AssignmentExpression`)\n",
    "    .map(as => as.left.type === 'MemberExpression'\n",
    "            ? [as.left.property.value]\n",
    "            : astq.query(as.left, `//MemberExpression`)\n",
    "         .map(m => m.property.value)\n",
    "         )).filter(m => m)\n",
    "var source = astq.query(ast, `\n",
    "//MemberExpression [\n",
    "    //Literal\n",
    "]\n",
    "`)\n",
    "    .filter(e => (e.property.value + '').includes('.'))\n",
    "    .map(e => e.property.value)\n",
    "console.log(`\n",
    "var assert = require('assert');\n",
    "var importer = require('../Core');\n",
    "var renewalsQuery = importer.import('zuora renewals query');\n",
    "var { bulkImportTemplate } = importer.import('eloqua create template');\n",
    "var { getUniqueRatePlans } = importer.import('zuora account blueprints');\n",
    "\n",
    "var zuoraQuery = renewalsQuery.getQuery('beginning of November', 'beginning of December').Query;\n",
    "\n",
    "var accounts = getUniqueRatePlans();\n",
    "for(var records of accounts) {\n",
    "\n",
    "    describe('given account with ' + records.map(r => r['ProductRatePlan.Name']), () => {\n",
    "        ${output}\n",
    "    })\n",
    "\n",
    "}\n",
    "\n",
    "describe('check field map', () => {\n",
    "    it('should map all fields from zuora query', () => {\n",
    "        const requireFields = ${JSON.stringify(source, null, 4).replace(/\\n/ig, '\\n    ')};\n",
    "        const missing = requireFields.filter(f => !zuoraQuery.includes(f));\n",
    "        assert(missing.length === 0, 'missing fields from zuora query ' + missing.join(', '));\n",
    "    })\n",
    "\n",
    "    it('should map all fields in eloqua import definition', () => {\n",
    "        const mappedFields = ${JSON.stringify(destination, null, 4).replace(/\\n/ig, '\\n    ')};\n",
    "        const unmapped = Object.keys(bulkImportTemplate(60).fields).filter(k => !mappedFields.includes(k));\n",
    "        assert(unmapped.length === 0, 'unmapped eloqua fields ' + unmapped.join(', '));\n",
    "    })\n",
    "\n",
    "    it('should map all record fields to eloqua fields', () => {\n",
    "        const mappedFields = ${JSON.stringify(destination, null, 4).replace(/\\n/ig, '\\n    ')};\n",
    "        const missing = mappedFields.filter(f => !Object.keys(bulkImportTemplate(60).fields).includes(f));\n",
    "        assert(missing.length === 0, 'missing fields from eloqua import definition ' + missing.join(', '));\n",
    "    })\n",
    "})\n",
    "\n",
    "`);\n"
   ]
  },
  {
   "cell_type": "markdown",
   "metadata": {
    "heading_collapsed": true
   },
   "source": [
    "### TODO: detecting framework features\n",
    "\n",
    "Show router tree, module import tree, call tree, feature tree\n"
   ]
  },
  {
   "cell_type": "code",
   "execution_count": null,
   "metadata": {
    "hidden": true
   },
   "outputs": [],
   "source": []
  },
  {
   "cell_type": "markdown",
   "metadata": {
    "heading_collapsed": true
   },
   "source": [
    "### TODO: format detection by example\n",
    "\n",
    "Lint all code\n",
    "\n",
    "Reformat all code like when using webstorm\n"
   ]
  },
  {
   "cell_type": "code",
   "execution_count": null,
   "metadata": {
    "hidden": true
   },
   "outputs": [],
   "source": []
  },
  {
   "cell_type": "markdown",
   "metadata": {
    "heading_collapsed": true
   },
   "source": [
    "### common tree queries\n",
    "\n",
    "TODO: remove all of these and replace with new transpiler\n"
   ]
  },
  {
   "cell_type": "markdown",
   "metadata": {
    "hidden": true
   },
   "source": []
  },
  {
   "cell_type": "markdown",
   "metadata": {
    "hidden": true
   },
   "source": []
  },
  {
   "cell_type": "code",
   "execution_count": null,
   "metadata": {
    "hidden": true
   },
   "outputs": [],
   "source": []
  },
  {
   "cell_type": "markdown",
   "metadata": {
    "hidden": true
   },
   "source": [
    "common astq and esquery for notebooks?\n",
    "\n",
    "common ast queries?\n"
   ]
  },
  {
   "cell_type": "code",
   "execution_count": null,
   "metadata": {
    "hidden": true
   },
   "outputs": [],
   "source": [
    "var GET_CORE = `/VariableDeclaration[//Literal[index(@value, 'Core') > 0]]`;\n",
    "var GET_CORENAME = `/*/VariableDeclarator/Identifier`;\n",
    "var GET_DECLARATIONS = `//*[@type == 'VariableDeclarator'\n",
    "|| @type == 'FunctionDeclaration'\n",
    "|| @type == 'StaticMemberExpression']`;\n",
    "var GET_DECLARED = fnName => `${GET_DECLARATIONS}/Identifier[@name == '${fnName}']`;\n",
    "var GET_CALLED = fnName => `//CallExpression/Identifier[@name == '${fnName}']`;\n",
    "var GET_IMPORTER = importer => `/*[(@type == 'StaticMemberExpression' || @type == 'MemberExpression')\n",
    "                && /Identifier[@name == '${importer}']]`;\n",
    "var GET_CALLER = importer => `//CallExpression[${GET_IMPORTER(importer)}]`;\n",
    "var GET_PARENT = of => `//*[${of}]`;\n",
    "// TODO: use form code analysis\n",
    "var GET_IMPORT_IDENTIFIER = `/Identifier[@name=='import' || @name=='importNotebook']`;\n",
    "var GET_IMPORT = match => `//CallExpression[\n",
    "    (${GET_IMPORT_IDENTIFIER}\n",
    "    || /StaticMemberExpression${GET_IMPORT_IDENTIFIER})\n",
    "    && //Literal[@value == '${match}']]`;\n",
    "var GET_EXPORTS = `//AssignmentExpression[//Identifier[@name=='exports']]`;\n",
    "var GET_FUNCTIONS = `//FunctionDeclaration`;\n",
    "var GET_IMPORTS = `//CallExpression[${GET_IMPORT_IDENTIFIER} \n",
    "    || /StaticMemberExpression${GET_IMPORT_IDENTIFIER}]//Literal`;\n",
    "var GET_IMPORTER_CALLS = `//CallExpression//Identifier[\n",
    "    ${[ 'import',\n",
    "  'streamJson',\n",
    "  'regexToArray',\n",
    "  'getCells',\n",
    "  'runAllPromises',\n",
    "  'interpret',\n",
    "  'runInNewContext',\n",
    "  'cacheCells',\n",
    "  'interpretMarkdown',\n",
    "  'fuseSearch',\n",
    "  'cacheAll' ].map(k => `@name=='${k}'`).join(' || ')}]`\n",
    "var GET_PARAMETERS = fnName => `//FunctionDeclaration[\n",
    "    /Identifier[@name == '${fnName}']\n",
    "]/*[@type != 'BlockStatement']//Identifier`;\n",
    "var GET_REQUIRE = `//CallExpression[/Identifier[@name=='require']]//Literal`;\n",
    "\n",
    "module.exports = {\n",
    "    GET_CORE,\n",
    "    GET_CORENAME,\n",
    "    GET_DECLARATIONS,\n",
    "    GET_DECLARED,\n",
    "    GET_CALLED,\n",
    "    GET_IMPORTER,\n",
    "    GET_CALLER,\n",
    "    GET_PARENT,\n",
    "    GET_IMPORT_IDENTIFIER,\n",
    "    GET_IMPORT,\n",
    "    GET_EXPORTS,\n",
    "    GET_FUNCTIONS,\n",
    "    GET_IMPORTS,\n",
    "    GET_IMPORTER_CALLS,\n",
    "    GET_PARAMETERS,\n",
    "    GET_REQUIRE\n",
    "}\n"
   ]
  },
  {
   "cell_type": "markdown",
   "metadata": {
    "collapsed": true,
    "hidden": true
   },
   "source": [
    "get ast path array?\n",
    "\n",
    "TODO: make this act more like getArrayXPath but without dependence on astq, esquery, and esprima\n",
    "\n",
    "\n"
   ]
  },
  {
   "cell_type": "code",
   "execution_count": null,
   "metadata": {
    "hidden": true
   },
   "outputs": [],
   "source": [
    "var ASTQ  = require(\"astq\");\n",
    "var astq = new ASTQ();\n",
    "var esquery = require('esquery');\n",
    "var esprima = require('esprima'); \n",
    "\n",
    "function getArrayAST(selector, ctx, index) {\n",
    "    if(typeof ctx === 'string') {\n",
    "        ctx = esprima.parse(ctx, {range: true, tokens: true,\n",
    "                                  comment: true, whitespace: true});\n",
    "    }\n",
    "    try {\n",
    "        return astq.query(ctx, selector);\n",
    "    } catch (e) {\n",
    "        if(e.message.includes('query parsing failed')) {\n",
    "            return esquery(ctx, selector);\n",
    "        } else {\n",
    "            throw e;\n",
    "        }\n",
    "    }\n",
    "}\n",
    "\n",
    "// TODO: implement getObjectXPath with ASTs\n",
    "\n",
    "module.exports = getArrayAST;\n",
    "\n"
   ]
  },
  {
   "cell_type": "markdown",
   "metadata": {
    "hidden": true
   },
   "source": [
    "test ast path array?"
   ]
  },
  {
   "cell_type": "code",
   "execution_count": null,
   "metadata": {
    "hidden": true
   },
   "outputs": [],
   "source": [
    "var importer = require('../Core');\n",
    "var getArrayAST = importer.import('get ast path array');\n",
    "\n",
    "function testASTArray(selector, search = '') {\n",
    "    return getArrayAST(selector, importer.interpret(search).code);\n",
    "}\n",
    "\n",
    "module.exports = testASTArray;\n",
    "\n"
   ]
  },
  {
   "cell_type": "markdown",
   "metadata": {
    "hidden": true
   },
   "source": [
    "get module exports from source?\n",
    "\n",
    "get exports from source?\n"
   ]
  },
  {
   "cell_type": "code",
   "execution_count": null,
   "metadata": {
    "hidden": true
   },
   "outputs": [],
   "source": [
    "var importer = require('../Core');\n",
    "var getArrayAST = importer.import('get ast path array');\n",
    "var {GET_EXPORTS, GET_FUNCTIONS} = importer.import('common ast queries');\n",
    "\n",
    "// TODO: does this work on other node_modules?\n",
    "function getExports(code) {\n",
    "    // can't call it exports or it might detect itself\n",
    "    var moduleOutput = getArrayAST(GET_EXPORTS, code)\n",
    "    var exportFunctions = [].concat.apply([], moduleOutput\n",
    "                                          .map(e => getArrayAST('/Identifier', e)\n",
    "                                               .map(e => e.name)));\n",
    "    var outputFunctions = getArrayAST(GET_FUNCTIONS, code)\n",
    "        .filter(f => exportFunctions.includes(f.id.name))\n",
    "        .map(f => f.id.name)\n",
    "    var assignments = moduleOutput\n",
    "        .map(e => getArrayAST('/StaticMemberExpression', e)\n",
    "             .map(e => e.property.name))\n",
    "    return outputFunctions.concat.apply(outputFunctions, assignments);\n",
    "}\n",
    "\n",
    "module.exports = getExports;\n"
   ]
  },
  {
   "cell_type": "markdown",
   "metadata": {
    "hidden": true
   },
   "source": [
    "get parameter names?\n",
    "\n",
    "function parameters?\n"
   ]
  },
  {
   "cell_type": "code",
   "execution_count": null,
   "metadata": {
    "hidden": true
   },
   "outputs": [],
   "source": [
    "var importer = require('../Core');\n",
    "var getExports = importer.import('get module exports');\n",
    "var getArrayAST = importer.import('get ast path array');\n",
    "var {GET_PARAMETERS, GET_FUNCTIONS} = importer.import('common ast queries');\n",
    "\n",
    "// TODO: fix calls to this and remove interpret\n",
    "function getParameters(search) {\n",
    "    const result = typeof search === 'function'\n",
    "        ? search.toString()\n",
    "        : typeof search === 'string'\n",
    "            ? importer.interpret(search).code\n",
    "            : search;\n",
    "    \n",
    "    var fnName = getExports(result)[0]\n",
    "        || getArrayAST(GET_FUNCTIONS, result).map(f => f.id.name)[0];\n",
    "    if(!fnName) {\n",
    "        return [];\n",
    "    }\n",
    "    \n",
    "    var parameters = getArrayAST(GET_PARAMETERS(fnName), result).map(p => p.name);\n",
    "    return [fnName, ...(parameters || [])];\n",
    "}\n",
    "\n",
    "module.exports = getParameters;\n"
   ]
  },
  {
   "cell_type": "markdown",
   "metadata": {
    "hidden": true
   },
   "source": [
    "get imports from source?"
   ]
  },
  {
   "cell_type": "code",
   "execution_count": null,
   "metadata": {
    "hidden": true
   },
   "outputs": [],
   "source": [
    "var importer = require('../Core');\n",
    "var importerCode = importer.interpret('import.ipynb');\n",
    "var getExports = importer.import('get module exports');\n",
    "var getArrayAST = importer.import('get ast path array');\n",
    "var {GET_IMPORTS, GET_IMPORTER_CALLS} = importer.import('common ast queries');\n",
    "\n",
    "function getImports(code) {\n",
    "    var imports = getArrayAST(GET_IMPORTS, code)\n",
    "        .map(s => s.value);\n",
    "    var coreMatches = getArrayAST(GET_IMPORTER_CALLS, code)\n",
    "        .map(s => s.name)\n",
    "        .map(i => importerCode\n",
    "             .filter(core => (core.exports = core.exports || getExports(core.code))\n",
    "                     .includes(i))[0].id);\n",
    "    return imports.concat(coreMatches);\n",
    "}\n",
    "\n",
    "module.exports = getImports;\n",
    "\n"
   ]
  },
  {
   "cell_type": "markdown",
   "metadata": {
    "hidden": true
   },
   "source": [
    "get requires from source?"
   ]
  },
  {
   "cell_type": "code",
   "execution_count": null,
   "metadata": {
    "hidden": true
   },
   "outputs": [],
   "source": [
    "var importer = require('../Core');\n",
    "var getArrayAST = importer.import('get ast path array');\n",
    "var {GET_REQUIRE} = importer.import('common ast queries');\n",
    "\n",
    "function getRequires(code) {\n",
    "    return getArrayAST(GET_REQUIRE, code)\n",
    "        .map(s => s.value)\n",
    "}\n",
    "\n",
    "\n",
    "module.exports = getRequires;\n",
    "\n"
   ]
  },
  {
   "cell_type": "markdown",
   "metadata": {
    "hidden": true
   },
   "source": [
    "get all ast properties?"
   ]
  },
  {
   "cell_type": "code",
   "execution_count": null,
   "metadata": {
    "hidden": true
   },
   "outputs": [],
   "source": [
    "var importer = require('../Core');\n",
    "var getArrayAST = importer.import('get ast path array');\n",
    "var getExports = importer.import('get exports from source');\n",
    "var getParameters = importer.import('function parameters');\n",
    "var getImports = importer.import('get imports from source');\n",
    "\n",
    "function addAST(cell) {\n",
    "    cell = typeof cell === 'string'\n",
    "            ? importer.interpret(cell)\n",
    "            : cell;\n",
    "    var code = cell.code || cell;\n",
    "    try {\n",
    "        cell.ast = getArrayAST('*', code);\n",
    "    } catch (e) {\n",
    "        return cell;\n",
    "    }\n",
    "    return Object.assign(cell, {\n",
    "        exports: getExports(cell.ast),\n",
    "        params: getParameters(cell.ast),\n",
    "        imports: getImports(cell.ast)\n",
    "    });\n",
    "}\n",
    "\n",
    "module.exports = addAST;\n",
    "\n"
   ]
  }
 ],
 "metadata": {
  "kernelspec": {
   "display_name": "Javascript (Node.js)",
   "language": "javascript",
   "name": "javascript"
  },
  "language_info": {
   "file_extension": ".js",
   "mimetype": "application/javascript",
   "name": "javascript",
   "version": "10.16.0"
  }
 },
 "nbformat": 4,
 "nbformat_minor": 2
}
