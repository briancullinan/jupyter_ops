{
 "cells": [
  {
   "cell_type": "markdown",
   "metadata": {},
   "source": [
    "# ```intent compile (run, evaluate)```\n",
    "\n",
    "\n"
   ]
  },
  {
   "cell_type": "markdown",
   "metadata": {
    "heading_collapsed": true
   },
   "source": [
    "## introduction\n",
    "\n",
    "Possibly use just these parts of the javascript compiler to create my language.\n",
    "\n",
    "http://www.bradoncode.com/blog/2015/08/26/javascript-semi-colon-insertion/\n",
    "\n"
   ]
  },
  {
   "cell_type": "markdown",
   "metadata": {
    "hidden": true
   },
   "source": [
    "\n",
    "As easy as looking up every combination of every word for code and then assuming there are quotes around each command\n",
    "\n",
    "http://tc39wiki.calculist.org/es6/template-strings/\n",
    "\n",
    "Tagged template literal:\n",
    "The following syntax:\n",
    "\n",
    "```\n",
    "\n",
    "function`your template ${foo}`;\n",
    "```\n",
    "\n",
    "Is called the tagged template literal.\n",
    "\n",
    "The function which is called as a tagged template literal receives the its arguments in the following manner:\n",
    "\n",
    "```\n",
    "function taggedTemplate(strings, arg1, arg2, arg3, arg4) {\n",
    "  console.log(strings);\n",
    "  console.log(arg1, arg2, arg3, arg4);\n",
    "}\n",
    "```\n",
    "\n",
    "taggedTemplate`a${1}b${2}c${3}`;\n",
    "\n"
   ]
  },
  {
   "cell_type": "markdown",
   "metadata": {},
   "source": [
    "## ```tokenizer (scan, lexer)```\n"
   ]
  },
  {
   "cell_type": "code",
   "execution_count": null,
   "metadata": {},
   "outputs": [],
   "source": []
  },
  {
   "cell_type": "markdown",
   "metadata": {},
   "source": [
    "## ```parser (learn, convert, inspect)```\n",
    "\n"
   ]
  },
  {
   "cell_type": "code",
   "execution_count": null,
   "metadata": {},
   "outputs": [],
   "source": []
  },
  {
   "cell_type": "markdown",
   "metadata": {},
   "source": [
    "#### TODO: test using languages and syntax features to add formatting recognition to the parser\n",
    "\n"
   ]
  },
  {
   "cell_type": "markdown",
   "metadata": {},
   "source": [
    "## ```linker (interpret, describe)```\n",
    "\n",
    "Try every combination of strings to find the match of patterns that makes the most sense. Usually an interpreter is like a Java runtime but in this case we are interpreting other code as part of the linker.\n",
    "\n",
    "TODO: improve on the fuse search stuff it uses now.\n",
    "\n"
   ]
  },
  {
   "cell_type": "code",
   "execution_count": null,
   "metadata": {},
   "outputs": [],
   "source": [
    "var logger = (message) => {\n",
    "    console.log(message)\n",
    "    return (m) => 'wtf? ' + m\n",
    "}\n",
    "\n",
    "function test() {\n",
    "    return logger `test` `another`;\n",
    "}\n",
    "\n",
    "test()\n",
    "\n"
   ]
  },
  {
   "cell_type": "markdown",
   "metadata": {},
   "source": [
    "#### test using nlp to convert sentance structure to a ranking algorithm for interpret\n",
    "\n"
   ]
  },
  {
   "cell_type": "markdown",
   "metadata": {},
   "source": [
    "## ```runtime (import, display, require, export)```\n",
    "\n",
    "TODO: repeat the process for the next import\n",
    "\n",
    "\n"
   ]
  },
  {
   "cell_type": "code",
   "execution_count": null,
   "metadata": {},
   "outputs": [],
   "source": []
  }
 ],
 "metadata": {
  "kernelspec": {
   "display_name": "Javascript (Node.js)",
   "language": "javascript",
   "name": "javascript"
  },
  "language_info": {
   "file_extension": ".js",
   "mimetype": "application/javascript",
   "name": "javascript",
   "version": "10.16.0"
  }
 },
 "nbformat": 4,
 "nbformat_minor": 2
}
