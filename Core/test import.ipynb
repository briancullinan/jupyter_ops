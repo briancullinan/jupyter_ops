{
 "cells": [
  {
   "cell_type": "markdown",
   "metadata": {},
   "source": [
    "\n",
    ">TODO: HOW TO MAKE THIS HEADER SMALLER?\n",
    "\n",
    "How to provide this command as a service to other notebooks?\n",
    "\n",
    "What to include to create inheritence in jupyter?\n"
   ]
  },
  {
   "cell_type": "code",
   "execution_count": 1,
   "metadata": {
    "collapsed": false,
    "inputHidden": false,
    "outputHidden": false
   },
   "outputs": [],
   "source": [
    "$$.async()\r",
    "setTimeout(() => $$.done(1), 0);\r",
    ""
   ]
  },
  {
   "cell_type": "code",
   "execution_count": 1,
   "metadata": {
    "collapsed": false,
    "inputHidden": false,
    "outputHidden": false
   },
   "outputs": [],
   "source": [
    "$$.async();\r",
    "setTimeout(() => {\r",
    "    try {\r",
    "        throw 'should only fail per cell';\r",
    "    }\r",
    "    catch (e) {\r",
    "        $$.done(e);\r",
    "    }\r",
    "}, 10);\r",
    ""
   ]
  },
  {
   "cell_type": "code",
   "execution_count": null,
   "metadata": {
    "collapsed": false,
    "inputHidden": false,
    "outputHidden": false
   },
   "outputs": [],
   "source": [
    "// hole in documentation?\r",
    "/*\r",
    "$$.async();\r",
    "setTimeout(() => {\r",
    "    throw 'should only fail per cell';\r",
    "});\r",
    "never returns output\r",
    "*/\r",
    "\r",
    ""
   ]
  },
  {
   "cell_type": "code",
   "execution_count": null,
   "metadata": {
    "collapsed": false,
    "inputHidden": false,
    "outputHidden": false
   },
   "outputs": [],
   "source": [
    "$$.async()\r",
    "setTimeout(() => $$.done('import successful'), 20);\r",
    ""
   ]
  },
  {
   "cell_type": "markdown",
   "metadata": {},
   "source": [
    "How to import functions from notebooks?"
   ]
  },
  {
   "cell_type": "code",
   "execution_count": 1,
   "metadata": {
    "collapsed": false,
    "inputHidden": false,
    "outputHidden": false
   },
   "outputs": [
    {
     "name": "stdout",
     "output_type": "stream",
     "text": [
      "Already imported\n",
      "[ 'How to find answers.ipynb' ]\n"
     ]
    },
    {
     "data": {
      "text/plain": [
       "[ { 'How to find answers.ipynb[0]': [Function: importNotebook],\n",
       "    'How to find answers.ipynb[1]': [Function: getCells] } ]"
      ]
     },
     "execution_count": 1,
     "metadata": {},
     "output_type": "execute_result"
    }
   ],
   "source": [
    ""
   ]
  },
  {
   "cell_type": "code",
   "execution_count": null,
   "metadata": {
    "collapsed": false,
    "inputHidden": false,
    "outputHidden": false
   },
   "outputs": [],
   "source": [
    ""
   ]
  }
 ],
 "metadata": {
  "kernel_info": {
   "name": "node_nteract"
  },
  "kernelspec": {
   "display_name": "Javascript (Node.js)",
   "language": "javascript",
   "name": "javascript"
  },
  "language_info": {
   "file_extension": ".js",
   "mimetype": "application/javascript",
   "name": "javascript",
   "version": "7.7.2"
  }
 },
 "nbformat": 4,
 "nbformat_minor": 4
}