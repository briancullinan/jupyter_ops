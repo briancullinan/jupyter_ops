{
 "cells": [
  {
   "cell_type": "markdown",
   "metadata": {},
   "source": [
    "# files\n",
    "\n",
    "Some file handling, searching, recognizing tools.\n"
   ]
  },
  {
   "cell_type": "markdown",
   "metadata": {
    "heading_collapsed": true
   },
   "source": [
    "## visualizing files\n",
    "\n"
   ]
  },
  {
   "cell_type": "markdown",
   "metadata": {
    "heading_collapsed": true,
    "hidden": true
   },
   "source": [
    "### create a word cloud of imports\n",
    "\n"
   ]
  },
  {
   "cell_type": "markdown",
   "metadata": {
    "heading_collapsed": true,
    "hidden": true
   },
   "source": [
    "#### the code\n",
    "\n",
    "project word-cloud?\n",
    "\n"
   ]
  },
  {
   "cell_type": "code",
   "execution_count": null,
   "metadata": {
    "hidden": true
   },
   "outputs": [],
   "source": [
    "var importer = require('../Core');\n",
    "var path = require('path');\n",
    "    \n",
    "function projectWordCloud(project) {\n",
    "    var d3CloudToSVG = importer.import('d3.ipynb[create word-cloud]');\n",
    "    var relativePaths = importer.import('relative paths and includes', {project});\n",
    "    \n",
    "    var words = [];\n",
    "\n",
    "    function wordCount(r) {\n",
    "        var words = r['packages'].map(p => p.import)\n",
    "            .concat(r['packages'].map(p => path.basename(p.file)))\n",
    "            .concat(r['relatives'].map(r => path.basename(r.import)))\n",
    "            .concat(r['relatives'].map(r => path.basename(r.file)));\n",
    "        var wordCount = {};\n",
    "        words.forEach(w => {\n",
    "            if (typeof wordCount[w] === 'undefined') {\n",
    "                wordCount[w] = 15;\n",
    "            } else {\n",
    "                wordCount[w]++;\n",
    "            }\n",
    "        });\n",
    "        return Object.keys(wordCount).map((d) => ({text: d, size: wordCount[d]}));\n",
    "    };\n",
    "\n",
    "    return relativePaths(project)\n",
    "        .then(words => d3CloudToSVG(wordCount(words)));\n",
    "}\n",
    "\n",
    "module.exports = projectWordCloud;\n",
    "\n",
    "if(typeof $$ !== 'undefined') {\n",
    "    var PROFILE_PATH = process.env.HOME || process.env.HOMEPATH || process.env.USERPROFILE || '';\n",
    "    var project = PROFILE_PATH + '/Documents/portal';\n",
    "\n",
    "    $$.async()\n",
    "    projectWordCloud(project)\n",
    "        .then(svg => $$.svg(svg))\n",
    "        .catch(e => $$.sendError(e));\n",
    "}\n"
   ]
  },
  {
   "cell_type": "markdown",
   "metadata": {
    "heading_collapsed": true,
    "hidden": true
   },
   "source": [
    "### create a tree out of imports\n"
   ]
  },
  {
   "cell_type": "markdown",
   "metadata": {
    "heading_collapsed": true,
    "hidden": true
   },
   "source": [
    "#### the code\n",
    "\n",
    "project imports d3 tree?\n",
    "\n"
   ]
  },
  {
   "cell_type": "code",
   "execution_count": null,
   "metadata": {
    "hidden": true
   },
   "outputs": [],
   "source": [
    "var importer = require('../Core');\n",
    "var path = require('path');\n",
    "\n",
    "function icons(c) {\n",
    "    return c.replace('.component', '\\u2699')\n",
    "           .replace('.module', '\\u26E9')\n",
    "           .replace('.service', '\\u26F4')\n",
    "           .replace('.routing', '\\u2697');\n",
    "}\n",
    "\n",
    "function wordCount(r) {\n",
    "    var words = r['packages'].map(p => p.import)\n",
    "        .concat(r['packages'].map(p => path.basename(p.file)))\n",
    "        .concat(r['relatives'].map(r => path.basename(r.import)))\n",
    "        .concat(r['relatives'].map(r => path.basename(r.file)));\n",
    "    var wordCounts = {};\n",
    "    words.forEach(w => {\n",
    "        if (typeof wordCounts[w] === 'undefined') {\n",
    "            wordCounts[w] = 1;\n",
    "        } else {\n",
    "            wordCounts[w]++;\n",
    "        }\n",
    "    });\n",
    "    var resultWords = Object.keys(wordCounts).map((d, i) => ({\n",
    "        name: icons(d),\n",
    "        branch: ((/\\.component|\\.module|\\.service|\\.routing/ig).exec(d) || {})[0],\n",
    "        size: wordCounts[d]}));\n",
    "    var edges = [];\n",
    "    r['packages'].forEach(p => edges[edges.length] = {\n",
    "        source: icons(p.import),\n",
    "        target: icons(path.basename(p.file))\n",
    "    });\n",
    "    r['relatives'].forEach(p => edges[edges.length] = {\n",
    "        source: icons(path.basename(p.file)),\n",
    "        target: icons(path.basename(p.import))\n",
    "    });\n",
    "    return {nodes: resultWords, edges: edges};\n",
    "};\n",
    "\n",
    "var formatNodes;\n",
    "function projectTree(project) {\n",
    "    var formatNodes = importer.import('d3.ipynb[format tree]');\n",
    "    var d3TieredPieSVG = importer.import('d3.ipynb[display d3 tree]');\n",
    "    var projectRelatives = importer.import('relative paths and includes', {project});\n",
    "    var words = [];\n",
    "    \n",
    "    return projectRelatives(project)\n",
    "        .then(words => {\n",
    "            var tree = wordCount(words);\n",
    "            var nodeNames = tree.nodes.map(n => n.name);\n",
    "            tree.nodes = tree.nodes\n",
    "                .filter((n, i, arr) => nodeNames.indexOf(n.name) === i)\n",
    "                .map((n, i) => {\n",
    "                    Object.assign(n, {index: tree.nodes\n",
    "                                      .filter(f => f.branch === n.branch).indexOf(n)})\n",
    "                    return n;\n",
    "                })\n",
    "            var edgeNames = tree.edges.map(n => n.source + '/' + n.target);\n",
    "            tree.edges = tree.edges\n",
    "                .filter((n, i, arr) => edgeNames.indexOf(n.source + '/' + n.target) === i)\n",
    "            var root = formatNodes(tree.nodes, tree.edges);\n",
    "            return d3TieredPieSVG(root);\n",
    "        })\n",
    "        .catch(e => console.log(e))\n",
    "};\n",
    "module.exports = projectTree;\n",
    "\n",
    "if(typeof $$ !== 'undefined') {\n",
    "    var PROFILE_PATH = process.env.HOME || process.env.HOMEPATH || process.env.USERPROFILE;\n",
    "    var project = PROFILE_PATH + '/jupytangular2';\n",
    "\n",
    "    $$.async()\n",
    "    projectTree(project)\n",
    "        .then(svg => $$.svg(svg))\n",
    "        .catch(e => $$.sendError(e));\n",
    "}\n"
   ]
  },
  {
   "cell_type": "markdown",
   "metadata": {
    "heading_collapsed": true
   },
   "source": [
    "## listing files\n",
    "\n",
    "Finding files is easy with minimatch.\n",
    "\n"
   ]
  },
  {
   "cell_type": "markdown",
   "metadata": {
    "heading_collapsed": true,
    "hidden": true
   },
   "source": [
    "### glob files?\n",
    "\n",
    "Combine minimatch with recursive directory searching.\n"
   ]
  },
  {
   "cell_type": "markdown",
   "metadata": {
    "heading_collapsed": true,
    "hidden": true
   },
   "source": [
    "#### the code\n"
   ]
  },
  {
   "cell_type": "code",
   "execution_count": 1,
   "metadata": {
    "hidden": true
   },
   "outputs": [
    {
     "name": "stdout",
     "output_type": "stream",
     "text": [
      "importing /Users/briancullinan/jupyter_ops/Core/cache.ipynb[1] - 1 cells - cache.ipynb[1]\n",
      "importing cache all - 1 cell - cache.ipynb[3]\n",
      "importing list project files - 1 cell - files.ipynb[4]\n",
      "importing common ignore paths - 1 cell - files.ipynb[5]\n",
      "importing cache notebook,cell cache,refresh regular cache,update regular cache,update code cell - 5 cells - cache.ipynb[1],cache.ipynb[0],cache.ipynb[13],cache.ipynb[11],cache.ipynb[10]\n",
      "importing cell cache - 1 cell - cache.ipynb[0]\n",
      "importing minimatch - 1 cell - files.ipynb[15]\n",
      "importing expand - 1 cell - files.ipynb[13]\n",
      "importing mini parser - 1 cell - files.ipynb[14]\n",
      "importing common ignore paths - 1 cell - files.ipynb[5]\n"
     ]
    },
    {
     "data": {
      "text/plain": [
       "{ glob: [Function: glob] }"
      ]
     },
     "execution_count": 1,
     "metadata": {},
     "output_type": "execute_result"
    }
   ],
   "source": [
    "var fs = require('fs')\n",
    "var path = require('path')\n",
    "var importer = require('../Core')\n",
    "var {minimatch} = importer.import('minimatch')\n",
    "var {ignores} = importer.import('common ignore paths');\n",
    "\n",
    "// searches project directory recursively for file paths matching the pattern\n",
    "function globMatch(pattern, cwd, origin) {\n",
    "    var result = []\n",
    "    cwd = path.resolve(cwd)\n",
    "    var files = fs.readdirSync(cwd)\n",
    "    files.forEach(file => {\n",
    "        file = '/' + path.relative(origin, path.join(cwd, file))\n",
    "        \n",
    "        // skip ignores, don't even search directories\n",
    "        if(ignores.filter(i => minimatch(file, i)).length > 0) {\n",
    "            return\n",
    "        }\n",
    "        \n",
    "        var isDirectory = fs.lstatSync(path.join(origin, '.' + file)).isDirectory()\n",
    "        if(minimatch(file, pattern)) {\n",
    "            if(isDirectory) {\n",
    "                // if we are collecting only directories\n",
    "                if(pattern.substr(-1) === '/') {\n",
    "                    result.push('.' + file)\n",
    "                }\n",
    "            } else {\n",
    "                // if not collecting directories\n",
    "                if(pattern.substr(-1) !== '/') {\n",
    "                    result.push('.' + file)\n",
    "                }\n",
    "            }\n",
    "        }\n",
    "        \n",
    "        // recursive matching\n",
    "        if(isDirectory) {\n",
    "            result.push.apply(result, globMatch(pattern, '.' + file, origin))\n",
    "        }\n",
    "    })\n",
    "    return result\n",
    "}\n",
    "\n",
    "function glob(pattern, cwd) {\n",
    "    return globMatch(pattern, cwd, cwd)\n",
    "}\n",
    "\n",
    "module.exports = {\n",
    "    glob\n",
    "}\n"
   ]
  },
  {
   "cell_type": "markdown",
   "metadata": {
    "heading_collapsed": true,
    "hidden": true
   },
   "source": [
    "#### test glob files\n",
    "\n"
   ]
  },
  {
   "cell_type": "code",
   "execution_count": 6,
   "metadata": {
    "hidden": true
   },
   "outputs": [
    {
     "name": "stdout",
     "output_type": "stream",
     "text": [
      "importing glob files - 1 cell - files.ipynb[2]\n",
      "importing minimatch - 1 cell - files.ipynb[15]\n",
      "importing expand - 1 cell - files.ipynb[13]\n",
      "importing mini parser - 1 cell - files.ipynb[14]\n",
      "importing common ignore paths - 1 cell - files.ipynb[5]\n",
      "[ '/Users/briancullinan/jupyter_ops/Core/index.js' ]\n"
     ]
    }
   ],
   "source": [
    "var assert = require('assert')\n",
    "var importer = require('../Core')\n",
    "var {glob} = importer.import('glob files')\n",
    "\n",
    "// test that glob works on the current directory\n",
    "function testGlobFiles() {\n",
    "    var results = glob('**index**', '.')\n",
    "    assert(results.length === 1,\n",
    "           'index is missing in glob resultss')\n",
    "    return results\n",
    "}\n",
    "\n",
    "module.exports = testGlobFiles\n",
    "\n",
    "if(typeof $$ !== 'undefined') {\n",
    "    console.log(testGlobFiles())\n",
    "}\n"
   ]
  },
  {
   "cell_type": "markdown",
   "metadata": {
    "heading_collapsed": true,
    "hidden": true
   },
   "source": [
    "### list project files?\n",
    "\n",
    "List files in a project excluding some excessive searches locations?\n",
    "\n",
    "TODO: sortLev on all files on no result and find with similar names < 20% difference\n"
   ]
  },
  {
   "cell_type": "markdown",
   "metadata": {
    "heading_collapsed": true,
    "hidden": true
   },
   "source": [
    "#### the code\n",
    "\n"
   ]
  },
  {
   "cell_type": "code",
   "execution_count": null,
   "metadata": {
    "hidden": true
   },
   "outputs": [],
   "source": [
    "var path = require('path');\n",
    "var {ignores} = importer.import('common ignore paths');\n",
    "var {glob} = importer.import('glob files')\n",
    "\n",
    "// TODO: pull all from gitignore library and add to ignore list\n",
    "//  https://github.com/github/gitignore\n",
    "// TODO: submit script to github project for fame and fortune!\n",
    "\n",
    "// But we also want to automatically load projects?\n",
    "function listInProject(root, match = '{,*,*/,*/*/*,*/*/*/*,*/*/*/*/*}package.json') {\n",
    "    return glob(match, path.resolve(root))\n",
    "}\n",
    "\n",
    "module.exports = {\n",
    "    listInProject\n",
    "}\n"
   ]
  },
  {
   "cell_type": "markdown",
   "metadata": {
    "heading_collapsed": true,
    "hidden": true
   },
   "source": [
    "### ignoring files\n",
    "\n",
    "common ignore paths?\n",
    "\n",
    "TODO: use the one from github, might need to be reformatted for minimatch\n",
    "\n",
    "https://github.com/github/gitignore\n"
   ]
  },
  {
   "cell_type": "markdown",
   "metadata": {
    "heading_collapsed": true,
    "hidden": true
   },
   "source": [
    "#### the code"
   ]
  },
  {
   "cell_type": "code",
   "execution_count": null,
   "metadata": {
    "hidden": true
   },
   "outputs": [],
   "source": [
    "var ignores = [\n",
    "    '**/bin/**',\n",
    "    '**/obj/**',\n",
    "    '**/dist/**',\n",
    "    \n",
    "    '**/*.spec*',\n",
    "    '**/*.Tests/**',\n",
    "    '**/typings/**',\n",
    "    '**/packages/**',\n",
    "    '**/node_modules/**',\n",
    "    '**/vendor/**',\n",
    "//            '**/*test*/*',\n",
    "//            '**/*Test*/*',\n",
    "    '**/Downloads/**',\n",
    "    '**/Library/**',\n",
    "    '**/Applications/**',\n",
    "    '**/AppData/**',\n",
    "    '**/Trash/**',\n",
    "    '**/proc/**',\n",
    "    '**/Music/**',\n",
    "    '**/wp-content/**',\n",
    "    '**/wp-includes/**',\n",
    "    '**/Pods/**',\n",
    "    '**/svn/**',\n",
    "    '**/lib/**',\n",
    "    '**/.git/**',\n",
    "    '**/.vscode/**',\n",
    "    '**/.npm/**',\n",
    "    '**/\\\\.*',\n",
    "    '**/.*',\n",
    "    '**/Cache/**',\n",
    "    '**/Creative Cloud Files/**',\n",
    "]\n",
    "\n",
    "module.exports = {\n",
    "    ignores\n",
    "}\n"
   ]
  },
  {
   "cell_type": "markdown",
   "metadata": {
    "heading_collapsed": true,
    "hidden": true
   },
   "source": [
    "### listing projects\n",
    "\n",
    "Detect projects across multiple frameworks.  List them by name for easy lookup.\n",
    "\n",
    "TODO: get names out of project files, instead of just parent directory.\n"
   ]
  },
  {
   "cell_type": "markdown",
   "metadata": {
    "heading_collapsed": true,
    "hidden": true
   },
   "source": [
    "#### the code\n",
    "\n",
    "List all projects by names?\n",
    "\n"
   ]
  },
  {
   "cell_type": "code",
   "execution_count": null,
   "metadata": {
    "hidden": true
   },
   "outputs": [],
   "source": [
    "var importer = require('../Core');\n",
    "var path = require('path');\n",
    "var listInProject = importer.import('list project files');\n",
    "\n",
    "// But we also want to automatically load projects?\n",
    "function listProjects(root, match = '{,*,*/,*/*/*,*/*/*/*,*/*/*/*/*}+(package.json|NuGet.config|*.sln|*.csproj)') {\n",
    "    var result = {};\n",
    "    var matches = listInProject(root, match);\n",
    "    matches.forEach(m => {\n",
    "        var projectPath = path.resolve(path.dirname(m));\n",
    "        result[path.basename(projectPath)] = projectPath;\n",
    "    });\n",
    "    return result;\n",
    "};\n",
    "module.exports = listProjects;\n",
    "\n"
   ]
  },
  {
   "cell_type": "markdown",
   "metadata": {
    "heading_collapsed": true,
    "hidden": true
   },
   "source": [
    "#### test project files list\n"
   ]
  },
  {
   "cell_type": "code",
   "execution_count": null,
   "metadata": {
    "hidden": true
   },
   "outputs": [],
   "source": [
    "var importer = require('../Core');\n",
    "var {\n",
    "    listInProject,\n",
    "    listProjects\n",
    "} = importer.import(['list project files', 'list all projects by name']);\n",
    "\n",
    "var PROFILE_PATH = process.env.HOME || process.env.HOMEPATH || process.env.USERPROFILE;\n",
    "\n",
    "if(typeof describe !== 'undefined') {\n",
    "\n",
    "    describe('file system service', () => {\n",
    "        beforeEach(() => {\n",
    "        })\n",
    "\n",
    "        it('should list files quickly', () => {\n",
    "            var files = listInProject(PROFILE_PATH);\n",
    "            console.log(files.length);\n",
    "            assert(files.length > 0);\n",
    "        })\n",
    "\n",
    "        it('should ignore hidden directories for better performance', () => {\n",
    "            var files = listProjects(PROFILE_PATH);\n",
    "            console.log(files.portal);\n",
    "            assert(files.jupytangular && files.jupytangular.indexOf('jupytangular') > -1\n",
    "                    || files.jupytangular2 && files.jupytangular2.indexOf('jupytangular2') > -1, 'could not find own notebook project under the name jupytangular');\n",
    "        })\n",
    "    });\n",
    "\n",
    "}\n"
   ]
  },
  {
   "cell_type": "markdown",
   "metadata": {},
   "source": [
    "## fixing files\n",
    "\n"
   ]
  },
  {
   "cell_type": "markdown",
   "metadata": {
    "heading_collapsed": true
   },
   "source": [
    "### find similar filename\n",
    "\n",
    "Useful when a require or import path changes, this can automatically find files that moved but kept the same name.\n",
    "\n",
    "\n"
   ]
  },
  {
   "cell_type": "markdown",
   "metadata": {
    "heading_collapsed": true,
    "hidden": true
   },
   "source": [
    "#### the code\n",
    "\n",
    "Find similar filename in project?\n"
   ]
  },
  {
   "cell_type": "code",
   "execution_count": null,
   "metadata": {
    "hidden": true
   },
   "outputs": [],
   "source": [
    "var importer = require('../Core')\n",
    "var {glob} = importer.import('glob files')\n",
    "\n",
    "function findSimilarFile(base, project) {\n",
    "    return new Promise((resolve, reject) => {\n",
    "        var searchStrings = '**/' + base + '*';\n",
    "        console.log('Search for ' + searchStrings);\n",
    "        glob(searchStrings, {\n",
    "            ignore: ['**/node_modules/**'],\n",
    "            cwd: project\n",
    "        }, function (err, matches) {\n",
    "            var isEmpty = matches.length == 0;\n",
    "            if (err) {\n",
    "                return reject(err);\n",
    "            } else if (isEmpty) {\n",
    "                console.log('No matches for ' + searchStrings)\n",
    "                return resolve();\n",
    "            }\n",
    "\n",
    "            // TODO: try to build and make sure it works before patching\n",
    "            resolve(matches[0].replace('.ts', ''));\n",
    "        });\n",
    "    });\n",
    "};\n",
    "\n",
    "module.exports = findSimilarFile;\n",
    "\n"
   ]
  },
  {
   "cell_type": "markdown",
   "metadata": {
    "heading_collapsed": true
   },
   "source": [
    "### fix all imports in a project\n"
   ]
  },
  {
   "cell_type": "markdown",
   "metadata": {
    "heading_collapsed": true,
    "hidden": true
   },
   "source": [
    "#### the code\n",
    "\n",
    "fix project paths?\n",
    "\n",
    "TODO: make this syntax aware using transpiler\n",
    "\n",
    "TODO: find file based on matching syntax structure\n",
    "\n",
    "TODO: convert this to a fix for eslint or transpiler\n"
   ]
  },
  {
   "cell_type": "code",
   "execution_count": null,
   "metadata": {
    "hidden": true
   },
   "outputs": [],
   "source": [
    "var fs = require('fs')\n",
    "var path = require('path')\n",
    "var importer = require('../Core')\n",
    "var {relativeImports} = importer.import('builtin and local modules')\n",
    "\n",
    "function fixImports(project) {\n",
    "    var packagePath = path.join(project, 'package.json')\n",
    "    var codeFiles = listInProject(project, '**/*.+(ts|js|ipynb)')\n",
    "    codeFiles.forEach(f => {\n",
    "        var imports = relativeImports(f)\n",
    "        \n",
    "        // TODO: find file based on matching syntax structure\n",
    "        imports.missing.forEach(i => {\n",
    "            var match = codeFiles\n",
    "                .filter(f => path.basename(f) === path.basename(i))[0]\n",
    "            if(match) {\n",
    "                var newRelative = './' + path.relative(\n",
    "                    path.dirname(f), path.join(project, match))\n",
    "                var fixFile = fs.readFileSync(f).toString()\n",
    "                fs.writeFileSync(f, fixFile.replace(i, newRelative))\n",
    "            }\n",
    "        })\n",
    "        \n",
    "        // fix package json\n",
    "        if(fs.existsSync(packagePath)) {\n",
    "            var packageJson = JSON.parse(fs.readFileSync(packagePath))\n",
    "            var toAdd = imports.packages\n",
    "                .filter(p => typeof packageJson.dependencies[p] === 'undefined'\n",
    "                        && typeof packageJson.devDependencies[p] === 'undefined')\n",
    "            toAdd.forEach(a => {\n",
    "                console.log(`adding ${a}`)\n",
    "                packageJson.dependencies[a] = 'latest'\n",
    "            })\n",
    "            if(toAdd.length > 0) {\n",
    "                fs.writeFileSync(packagePath,\n",
    "                                 JSON.stringify(packageJson, null, 4))\n",
    "            }\n",
    "        }\n",
    "    })\n",
    "}\n",
    "\n",
    "module.exports = {\n",
    "    fixImports\n",
    "}\n"
   ]
  },
  {
   "cell_type": "markdown",
   "metadata": {
    "heading_collapsed": true,
    "hidden": true
   },
   "source": [
    "#### TODO: test fix imports\n",
    "\n",
    "Using memory-fs make a code file, move a reference, check the file was corrected.\n"
   ]
  },
  {
   "cell_type": "code",
   "execution_count": null,
   "metadata": {
    "hidden": true
   },
   "outputs": [],
   "source": []
  },
  {
   "cell_type": "markdown",
   "metadata": {
    "heading_collapsed": true
   },
   "source": [
    "### find functions that are too long\n",
    "\n",
    "(?=\\{((?:[^{}]++|\\{(?1)\\})++)\\})\n",
    "\n",
    "TODO: turn this in to a bs-lint test\n",
    "\n",
    "TODO: use a recusive decent parser to apply to all languages, test finding long python functions which are white-space delimited\n"
   ]
  },
  {
   "cell_type": "markdown",
   "metadata": {
    "heading_collapsed": true,
    "hidden": true
   },
   "source": [
    "#### the code\n",
    "\n",
    "Find too long of functions using regexp?\n",
    "\n"
   ]
  },
  {
   "cell_type": "code",
   "execution_count": null,
   "metadata": {
    "hidden": true
   },
   "outputs": [],
   "source": [
    "var importer = require('../Core');\n",
    "var {listInProject} = importer.import('list project files');\n",
    "\n",
    "function matchCurlyBraces(contents) {\n",
    "    var XRegExp = require('xregexp');\n",
    "    var newMatches = XRegExp.matchRecursive(contents, '{', '}', 'gi', {\n",
    "        valueNames: ['literal', null, 'value', null]\n",
    "    }).filter(m => m.name === 'value');\n",
    "    //console.log(newMatches);\n",
    "    return newMatches.reduce(\n",
    "        (arr, m) => arr.concat(matchCurlyBraces(m.value)),\n",
    "        newMatches);\n",
    "};\n",
    "\n",
    "function findLongFunctions(project) {\n",
    "    var files = listInProject(project, '**/*.+(ts|js|cs)')\n",
    "    var results = files.map(file => {\n",
    "        const contents = file.contents.toString();\n",
    "        try {\n",
    "            results = results.concat(matchCurlyBraces(contents)\n",
    "                .map(m => Object.assign(m, {path: file.path})))\n",
    "        } catch (e) {\n",
    "            results = results.concat([{\n",
    "                name: 'value',\n",
    "                value: file.contents.toString(),\n",
    "                start: 0,\n",
    "                end: file.contents.length,\n",
    "                error: e,\n",
    "                path: file.path\n",
    "            }])\n",
    "        }\n",
    "    });\n",
    "    var code = results.map(r => r.value);\n",
    "    var topLevel = results\n",
    "        .filter(r => code\n",
    "            .filter(c => c !== r.value && c.indexOf(r.value) > 0).length === 0)\n",
    "    results = results\n",
    "        .filter(m => topLevel.filter(c => c.value === m.value).length === 0)\n",
    "    code = results.map(r => r.value);\n",
    "    topLevel = topLevel.concat(results.filter(r => code\n",
    "        .filter(c => c !== r.value && c.indexOf(r.value) > 0).length === 0))\n",
    "    results = results\n",
    "        .filter(m => topLevel.filter(c => c.value === m.value).length === 0)\n",
    "    return results\n",
    "        .filter(m => m.value.split(/\\n/ig).length > 100)\n",
    "}\n",
    "\n",
    "module.exports = findLongFunctions\n"
   ]
  },
  {
   "cell_type": "markdown",
   "metadata": {
    "heading_collapsed": true,
    "hidden": true
   },
   "source": [
    "#### test find too long of functions\n"
   ]
  },
  {
   "cell_type": "code",
   "execution_count": null,
   "metadata": {
    "hidden": true
   },
   "outputs": [],
   "source": [
    "var PROFILE_PATH = process.env.HOME || process.env.HOMEPATH || process.env.USERPROFILE;\n",
    "var project = PROFILE_PATH + '/Documents/asm';\n",
    "\n",
    "if(typeof $$ !== 'undefined') {\n",
    "    $$.async();\n",
    "    findLongFunctions(project)\n",
    "        .then(e => $$.sendResult(e.map(m => m.path)))\n",
    "        .catch(e => $$.sendError(e))\n",
    "\n",
    "}\n"
   ]
  },
  {
   "cell_type": "markdown",
   "metadata": {},
   "source": [
    "## file tools"
   ]
  },
  {
   "cell_type": "markdown",
   "metadata": {},
   "source": [
    "### minimatch\n",
    "\n",
    "Just the path matching, none of the options or bells and whistles.\n",
    "\n",
    "Derived from: https://github.com/isaacs/minimatch/blob/master/minimatch.js\n"
   ]
  },
  {
   "cell_type": "markdown",
   "metadata": {
    "heading_collapsed": true
   },
   "source": [
    "#### expand?\n"
   ]
  },
  {
   "cell_type": "code",
   "execution_count": null,
   "metadata": {
    "hidden": true
   },
   "outputs": [],
   "source": [
    "var concatMap = require('concat-map');\n",
    "var balanced = require('balanced-match');\n",
    "\n",
    "module.exports = expandTop;\n",
    "\n",
    "var escSlash = '\\0SLASH'+Math.random()+'\\0';\n",
    "var escOpen = '\\0OPEN'+Math.random()+'\\0';\n",
    "var escClose = '\\0CLOSE'+Math.random()+'\\0';\n",
    "var escComma = '\\0COMMA'+Math.random()+'\\0';\n",
    "var escPeriod = '\\0PERIOD'+Math.random()+'\\0';\n",
    "\n",
    "function numeric(str) {\n",
    "  return parseInt(str, 10) == str\n",
    "    ? parseInt(str, 10)\n",
    "    : str.charCodeAt(0);\n",
    "}\n",
    "\n",
    "function escapeBraces(str) {\n",
    "  return str.split('\\\\\\\\').join(escSlash)\n",
    "            .split('\\\\{').join(escOpen)\n",
    "            .split('\\\\}').join(escClose)\n",
    "            .split('\\\\,').join(escComma)\n",
    "            .split('\\\\.').join(escPeriod);\n",
    "}\n",
    "\n",
    "function unescapeBraces(str) {\n",
    "  return str.split(escSlash).join('\\\\')\n",
    "            .split(escOpen).join('{')\n",
    "            .split(escClose).join('}')\n",
    "            .split(escComma).join(',')\n",
    "            .split(escPeriod).join('.');\n",
    "}\n",
    "\n",
    "\n",
    "// Basically just str.split(\",\"), but handling cases\n",
    "// where we have nested braced sections, which should be\n",
    "// treated as individual members, like {a,{b,c},d}\n",
    "function parseCommaParts(str) {\n",
    "  if (!str)\n",
    "    return [''];\n",
    "\n",
    "  var parts = [];\n",
    "  var m = balanced('{', '}', str);\n",
    "\n",
    "  if (!m)\n",
    "    return str.split(',');\n",
    "\n",
    "  var pre = m.pre;\n",
    "  var body = m.body;\n",
    "  var post = m.post;\n",
    "  var p = pre.split(',');\n",
    "\n",
    "  p[p.length-1] += '{' + body + '}';\n",
    "  var postParts = parseCommaParts(post);\n",
    "  if (post.length) {\n",
    "    p[p.length-1] += postParts.shift();\n",
    "    p.push.apply(p, postParts);\n",
    "  }\n",
    "\n",
    "  parts.push.apply(parts, p);\n",
    "\n",
    "  return parts;\n",
    "}\n",
    "\n",
    "function expandTop(str) {\n",
    "  if (!str)\n",
    "    return [];\n",
    "\n",
    "  // I don't know why Bash 4.3 does this, but it does.\n",
    "  // Anything starting with {} will have the first two bytes preserved\n",
    "  // but *only* at the top level, so {},a}b will not expand to anything,\n",
    "  // but a{},b}c will be expanded to [a}c,abc].\n",
    "  // One could argue that this is a bug in Bash, but since the goal of\n",
    "  // this module is to match Bash's rules, we escape a leading {}\n",
    "  if (str.substr(0, 2) === '{}') {\n",
    "    str = '\\\\{\\\\}' + str.substr(2);\n",
    "  }\n",
    "\n",
    "  return expand(escapeBraces(str), true).map(unescapeBraces);\n",
    "}\n",
    "\n",
    "function identity(e) {\n",
    "  return e;\n",
    "}\n",
    "\n",
    "function embrace(str) {\n",
    "  return '{' + str + '}';\n",
    "}\n",
    "function isPadded(el) {\n",
    "  return /^-?0\\d/.test(el);\n",
    "}\n",
    "\n",
    "function lte(i, y) {\n",
    "  return i <= y;\n",
    "}\n",
    "function gte(i, y) {\n",
    "  return i >= y;\n",
    "}\n",
    "\n",
    "function expand(str, isTop) {\n",
    "  var expansions = [];\n",
    "\n",
    "  var m = balanced('{', '}', str);\n",
    "  if (!m || /\\$$/.test(m.pre)) return [str];\n",
    "\n",
    "  var isNumericSequence = /^-?\\d+\\.\\.-?\\d+(?:\\.\\.-?\\d+)?$/.test(m.body);\n",
    "  var isAlphaSequence = /^[a-zA-Z]\\.\\.[a-zA-Z](?:\\.\\.-?\\d+)?$/.test(m.body);\n",
    "  var isSequence = isNumericSequence || isAlphaSequence;\n",
    "  var isOptions = m.body.indexOf(',') >= 0;\n",
    "  if (!isSequence && !isOptions) {\n",
    "    // {a},b}\n",
    "    if (m.post.match(/,.*\\}/)) {\n",
    "      str = m.pre + '{' + m.body + escClose + m.post;\n",
    "      return expand(str);\n",
    "    }\n",
    "    return [str];\n",
    "  }\n",
    "\n",
    "  var n;\n",
    "  if (isSequence) {\n",
    "    n = m.body.split(/\\.\\./);\n",
    "  } else {\n",
    "    n = parseCommaParts(m.body);\n",
    "    if (n.length === 1) {\n",
    "      // x{{a,b}}y ==> x{a}y x{b}y\n",
    "      n = expand(n[0], false).map(embrace);\n",
    "      if (n.length === 1) {\n",
    "        var post = m.post.length\n",
    "          ? expand(m.post, false)\n",
    "          : [''];\n",
    "        return post.map(function(p) {\n",
    "          return m.pre + n[0] + p;\n",
    "        });\n",
    "      }\n",
    "    }\n",
    "  }\n",
    "\n",
    "  // at this point, n is the parts, and we know it's not a comma set\n",
    "  // with a single entry.\n",
    "\n",
    "  // no need to expand pre, since it is guaranteed to be free of brace-sets\n",
    "  var pre = m.pre;\n",
    "  var post = m.post.length\n",
    "    ? expand(m.post, false)\n",
    "    : [''];\n",
    "\n",
    "  var N;\n",
    "\n",
    "  if (isSequence) {\n",
    "    var x = numeric(n[0]);\n",
    "    var y = numeric(n[1]);\n",
    "    var width = Math.max(n[0].length, n[1].length)\n",
    "    var incr = n.length == 3\n",
    "      ? Math.abs(numeric(n[2]))\n",
    "      : 1;\n",
    "    var test = lte;\n",
    "    var reverse = y < x;\n",
    "    if (reverse) {\n",
    "      incr *= -1;\n",
    "      test = gte;\n",
    "    }\n",
    "    var pad = n.some(isPadded);\n",
    "\n",
    "    N = [];\n",
    "\n",
    "    for (var i = x; test(i, y); i += incr) {\n",
    "      var c;\n",
    "      if (isAlphaSequence) {\n",
    "        c = String.fromCharCode(i);\n",
    "        if (c === '\\\\')\n",
    "          c = '';\n",
    "      } else {\n",
    "        c = String(i);\n",
    "        if (pad) {\n",
    "          var need = width - c.length;\n",
    "          if (need > 0) {\n",
    "            var z = new Array(need + 1).join('0');\n",
    "            if (i < 0)\n",
    "              c = '-' + z + c.slice(1);\n",
    "            else\n",
    "              c = z + c;\n",
    "          }\n",
    "        }\n",
    "      }\n",
    "      N.push(c);\n",
    "    }\n",
    "  } else {\n",
    "    N = concatMap(n, function(el) { return expand(el, false) });\n",
    "  }\n",
    "\n",
    "  for (var j = 0; j < N.length; j++) {\n",
    "    for (var k = 0; k < post.length; k++) {\n",
    "      var expansion = pre + N[j] + post[k];\n",
    "      if (!isTop || isSequence || expansion)\n",
    "        expansions.push(expansion);\n",
    "    }\n",
    "  }\n",
    "\n",
    "  return expansions;\n",
    "}\n"
   ]
  },
  {
   "cell_type": "markdown",
   "metadata": {
    "heading_collapsed": true
   },
   "source": [
    "#### mini parser?\n"
   ]
  },
  {
   "cell_type": "code",
   "execution_count": null,
   "metadata": {
    "hidden": true
   },
   "outputs": [],
   "source": [
    "var reSpecials = charSet('().*{}+?[]^$\\\\!')\n",
    "\n",
    "// replace stuff like \\* with *\n",
    "function globUnescape (s) {\n",
    "  return s.replace(/\\\\(.)/g, '$1')\n",
    "}\n",
    "\n",
    "function charSet (s) {\n",
    "  return s.split('').reduce(function (set, c) {\n",
    "    set[c] = true\n",
    "    return set\n",
    "  }, {})\n",
    "}\n",
    "\n",
    "var SUBPARSE = {}\n",
    "function parse (pattern, isSub) {\n",
    "  if (pattern.length > 1024 * 64) {\n",
    "    throw new TypeError('pattern is too long')\n",
    "  }\n",
    "\n",
    "  // shortcuts\n",
    "  if (pattern === '**') return {glob: true}\n",
    "  if (pattern === '') return ''\n",
    "\n",
    "  var re = ''\n",
    "  var hasMagic = false\n",
    "  var escaping = false\n",
    "  // ? => one single character\n",
    "  var patternListStack = []\n",
    "  var negativeLists = []\n",
    "  var stateChar\n",
    "  var inClass = false\n",
    "  var reClassStart = -1\n",
    "  var classStart = -1\n",
    "  // . and .. never match anything that doesn't start with .,\n",
    "  // even when options.dot is set.\n",
    "  var patternStart = pattern.charAt(0) === '.' ? '' // anything\n",
    "  // not (start or / followed by . or .. followed by / or end)\n",
    "  : '(?!(?:^|\\\\\\/)\\\\.{1,2}(?:$|\\\\\\/))'\n",
    "\n",
    "  function clearStateChar () {\n",
    "    if (stateChar) {\n",
    "      // we had some state-tracking character\n",
    "      // that wasn't consumed by this pass.\n",
    "      switch (stateChar) {\n",
    "        case '*':\n",
    "          re += '[^/]*?'\n",
    "          hasMagic = true\n",
    "        break\n",
    "        case '?':\n",
    "          re += '[^/]'\n",
    "          hasMagic = true\n",
    "        break\n",
    "        default:\n",
    "          re += '\\\\' + stateChar\n",
    "        break\n",
    "      }\n",
    "      stateChar = false\n",
    "    }\n",
    "  }\n",
    "\n",
    "  for (var i = 0, len = pattern.length, c\n",
    "    ; (i < len) && (c = pattern.charAt(i))\n",
    "    ; i++) {\n",
    "    // skip over any that are escaped.\n",
    "    if (escaping && reSpecials[c]) {\n",
    "      re += '\\\\' + c\n",
    "      escaping = false\n",
    "      continue\n",
    "    }\n",
    "\n",
    "    switch (c) {\n",
    "      case '/':\n",
    "        // completely not allowed, even escaped.\n",
    "        // Should already be path-split by now.\n",
    "        return false\n",
    "\n",
    "      case '\\\\':\n",
    "        clearStateChar()\n",
    "        escaping = true\n",
    "      continue\n",
    "\n",
    "      // the various stateChar values\n",
    "      // for the \"extglob\" stuff.\n",
    "      case '?':\n",
    "      case '*':\n",
    "      case '+':\n",
    "      case '@':\n",
    "      case '!':\n",
    "        // all of those are literals inside a class, except that\n",
    "        // the glob [!a] means [^a] in regexp\n",
    "        if (inClass) {\n",
    "          if (c === '!' && i === classStart + 1) c = '^'\n",
    "          re += c\n",
    "          continue\n",
    "        }\n",
    "\n",
    "        // if we already have a stateChar, then it means\n",
    "        // that there was something like ** or +? in there.\n",
    "        // Handle the stateChar, then proceed with this one.\n",
    "        clearStateChar()\n",
    "        stateChar = c\n",
    "        // if extglob is disabled, then +(asdf|foo) isn't a thing.\n",
    "        // just clear the statechar *now*, rather than even diving into\n",
    "        // the patternList stuff.\n",
    "      continue\n",
    "\n",
    "      case '(':\n",
    "        if (inClass) {\n",
    "          re += '('\n",
    "          continue\n",
    "        }\n",
    "\n",
    "        if (!stateChar) {\n",
    "          re += '\\\\('\n",
    "          continue\n",
    "        }\n",
    "\n",
    "        patternListStack.push({\n",
    "          type: stateChar,\n",
    "          start: i - 1,\n",
    "          reStart: re.length,\n",
    "          open: plTypes[stateChar].open,\n",
    "          close: plTypes[stateChar].close\n",
    "        })\n",
    "        // negation is (?:(?!js)[^/]*)\n",
    "        re += stateChar === '!' ? '(?:(?!(?:' : '(?:'\n",
    "        stateChar = false\n",
    "      continue\n",
    "\n",
    "      case ')':\n",
    "        if (inClass || !patternListStack.length) {\n",
    "          re += '\\\\)'\n",
    "          continue\n",
    "        }\n",
    "\n",
    "        clearStateChar()\n",
    "        hasMagic = true\n",
    "        var pl = patternListStack.pop()\n",
    "        // negation is (?:(?!js)[^/]*)\n",
    "        // The others are (?:<pattern>)<type>\n",
    "        re += pl.close\n",
    "        if (pl.type === '!') {\n",
    "          negativeLists.push(pl)\n",
    "        }\n",
    "        pl.reEnd = re.length\n",
    "      continue\n",
    "\n",
    "      case '|':\n",
    "        if (inClass || !patternListStack.length || escaping) {\n",
    "          re += '\\\\|'\n",
    "          escaping = false\n",
    "          continue\n",
    "        }\n",
    "\n",
    "        clearStateChar()\n",
    "        re += '|'\n",
    "      continue\n",
    "\n",
    "      // these are mostly the same in regexp and glob\n",
    "      case '[':\n",
    "        // swallow any state-tracking char before the [\n",
    "        clearStateChar()\n",
    "\n",
    "        if (inClass) {\n",
    "          re += '\\\\' + c\n",
    "          continue\n",
    "        }\n",
    "\n",
    "        inClass = true\n",
    "        classStart = i\n",
    "        reClassStart = re.length\n",
    "        re += c\n",
    "      continue\n",
    "\n",
    "      case ']':\n",
    "        //  a right bracket shall lose its special\n",
    "        //  meaning and represent itself in\n",
    "        //  a bracket expression if it occurs\n",
    "        //  first in the list.  -- POSIX.2 2.8.3.2\n",
    "        if (i === classStart + 1 || !inClass) {\n",
    "          re += '\\\\' + c\n",
    "          escaping = false\n",
    "          continue\n",
    "        }\n",
    "\n",
    "        // handle the case where we left a class open.\n",
    "        // \"[z-a]\" is valid, equivalent to \"\\[z-a\\]\"\n",
    "        if (inClass) {\n",
    "          // split where the last [ was, make sure we don't have\n",
    "          // an invalid re. if so, re-walk the contents of the\n",
    "          // would-be class to re-translate any characters that\n",
    "          // were passed through as-is\n",
    "          // TODO: It would probably be faster to determine this\n",
    "          // without a try/catch and a new RegExp, but it's tricky\n",
    "          // to do safely.  For now, this is safe and works.\n",
    "          var cs = pattern.substring(classStart + 1, i)\n",
    "          try {\n",
    "            RegExp('[' + cs + ']')\n",
    "          } catch (er) {\n",
    "            // not a valid class!\n",
    "            var sp = parse(cs, SUBPARSE)\n",
    "            re = re.substr(0, reClassStart) + '\\\\[' + sp[0] + '\\\\]'\n",
    "            hasMagic = hasMagic || sp[1]\n",
    "            inClass = false\n",
    "            continue\n",
    "          }\n",
    "        }\n",
    "\n",
    "        // finish up the class.\n",
    "        hasMagic = true\n",
    "        inClass = false\n",
    "        re += c\n",
    "      continue\n",
    "\n",
    "      default:\n",
    "        // swallow any state char that wasn't consumed\n",
    "        clearStateChar()\n",
    "\n",
    "        if (escaping) {\n",
    "          // no need\n",
    "          escaping = false\n",
    "        } else if (reSpecials[c]\n",
    "          && !(c === '^' && inClass)) {\n",
    "          re += '\\\\'\n",
    "        }\n",
    "\n",
    "        re += c\n",
    "\n",
    "    } // switch\n",
    "  } // for\n",
    "\n",
    "  // handle the case where we left a class open.\n",
    "  // \"[abc\" is valid, equivalent to \"\\[abc\"\n",
    "  if (inClass) {\n",
    "    // split where the last [ was, and escape it\n",
    "    // this is a huge pita.  We now have to re-walk\n",
    "    // the contents of the would-be class to re-translate\n",
    "    // any characters that were passed through as-is\n",
    "    cs = pattern.substr(classStart + 1)\n",
    "    sp = parse(cs, SUBPARSE)\n",
    "    re = re.substr(0, reClassStart) + '\\\\[' + sp[0]\n",
    "    hasMagic = hasMagic || sp[1]\n",
    "  }\n",
    "\n",
    "  // handle the case where we had a +( thing at the *end*\n",
    "  // of the pattern.\n",
    "  // each pattern list stack adds 3 chars, and we need to go through\n",
    "  // and escape any | chars that were passed through as-is for the regexp.\n",
    "  // Go through and escape them, taking care not to double-escape any\n",
    "  // | chars that were already escaped.\n",
    "  for (pl = patternListStack.pop(); pl; pl = patternListStack.pop()) {\n",
    "    var tail = re.slice(pl.reStart + pl.open.length)\n",
    "    // maybe some even number of \\, then maybe 1 \\, followed by a |\n",
    "    tail = tail.replace(/((?:\\\\{2}){0,64})(\\\\?)\\|/g, function (_, $1, $2) {\n",
    "      if (!$2) {\n",
    "        // the | isn't already escaped, so escape it.\n",
    "        $2 = '\\\\'\n",
    "      }\n",
    "\n",
    "      // need to escape all those slashes *again*, without escaping the\n",
    "      // one that we need for escaping the | character.  As it works out,\n",
    "      // escaping an even number of slashes can be done by simply repeating\n",
    "      // it exactly after itself.  That's why this trick works.\n",
    "      //\n",
    "      // I am sorry that you have to see this.\n",
    "      return $1 + $1 + $2 + '|'\n",
    "    })\n",
    "\n",
    "    var t = pl.type === '*' ? star\n",
    "      : pl.type === '?' ? qmark\n",
    "      : '\\\\' + pl.type\n",
    "\n",
    "    hasMagic = true\n",
    "    re = re.slice(0, pl.reStart) + t + '\\\\(' + tail\n",
    "  }\n",
    "\n",
    "  // handle trailing things that only matter at the very end.\n",
    "  clearStateChar()\n",
    "  if (escaping) {\n",
    "    // trailing \\\\\n",
    "    re += '\\\\\\\\'\n",
    "  }\n",
    "\n",
    "  // only need to apply the nodot start if the re starts with\n",
    "  // something that could conceivably capture a dot\n",
    "  var addPatternStart = false\n",
    "  switch (re.charAt(0)) {\n",
    "    case '.':\n",
    "    case '[':\n",
    "    case '(': addPatternStart = true\n",
    "  }\n",
    "\n",
    "  // Hack to work around lack of negative lookbehind in JS\n",
    "  // A pattern like: *.!(x).!(y|z) needs to ensure that a name\n",
    "  // like 'a.xyz.yz' doesn't match.  So, the first negative\n",
    "  // lookahead, has to look ALL the way ahead, to the end of\n",
    "  // the pattern.\n",
    "  for (var n = negativeLists.length - 1; n > -1; n--) {\n",
    "    var nl = negativeLists[n]\n",
    "\n",
    "    var nlBefore = re.slice(0, nl.reStart)\n",
    "    var nlFirst = re.slice(nl.reStart, nl.reEnd - 8)\n",
    "    var nlLast = re.slice(nl.reEnd - 8, nl.reEnd)\n",
    "    var nlAfter = re.slice(nl.reEnd)\n",
    "\n",
    "    nlLast += nlAfter\n",
    "\n",
    "    // Handle nested stuff like *(*.js|!(*.json)), where open parens\n",
    "    // mean that we should *not* include the ) in the bit that is considered\n",
    "    // \"after\" the negated section.\n",
    "    var openParensBefore = nlBefore.split('(').length - 1\n",
    "    var cleanAfter = nlAfter\n",
    "    for (i = 0; i < openParensBefore; i++) {\n",
    "      cleanAfter = cleanAfter.replace(/\\)[+*?]?/, '')\n",
    "    }\n",
    "    nlAfter = cleanAfter\n",
    "\n",
    "    var dollar = ''\n",
    "    if (nlAfter === '' && isSub !== SUBPARSE) {\n",
    "      dollar = '$'\n",
    "    }\n",
    "    var newRe = nlBefore + nlFirst + nlAfter + dollar + nlLast\n",
    "    re = newRe\n",
    "  }\n",
    "\n",
    "  // if the re is not \"\" at this point, then we need to make sure\n",
    "  // it doesn't match against an empty path part.\n",
    "  // Otherwise a/* will match a/, which it should not.\n",
    "  if (re !== '' && hasMagic) {\n",
    "    re = '(?=.)' + re\n",
    "  }\n",
    "\n",
    "  if (addPatternStart) {\n",
    "    re = patternStart + re\n",
    "  }\n",
    "\n",
    "  // parsing just a piece of a larger pattern.\n",
    "  if (isSub === SUBPARSE) {\n",
    "    return [re, hasMagic]\n",
    "  }\n",
    "\n",
    "  // skip the regexp for non-magical patterns\n",
    "  // unescape anything in it, though, so that it'll be\n",
    "  // an exact match against a file etc.\n",
    "  if (!hasMagic) {\n",
    "    return globUnescape(pattern)\n",
    "  }\n",
    "\n",
    "  try {\n",
    "    var regExp = new RegExp('^' + re + '$', 'i')\n",
    "  } catch (er) {\n",
    "    // If it was an invalid regular expression, then it can't match\n",
    "    // anything.  This trick looks for a character after the end of\n",
    "    // the string, which is of course impossible, except in multi-line\n",
    "    // mode, but it's not a /m regex.\n",
    "    return new RegExp('$.')\n",
    "  }\n",
    "\n",
    "  regExp._glob = pattern\n",
    "  regExp._src = re\n",
    "\n",
    "  return regExp\n",
    "}\n",
    "\n",
    "module.exports = parse\n"
   ]
  },
  {
   "cell_type": "markdown",
   "metadata": {
    "heading_collapsed": true
   },
   "source": [
    "#### minimatch?\n",
    "\n"
   ]
  },
  {
   "cell_type": "code",
   "execution_count": null,
   "metadata": {
    "hidden": true
   },
   "outputs": [],
   "source": [
    "var importer = require('../Core')\n",
    "var expand = importer.import('expand')\n",
    "var parse = importer.import('mini parser')\n",
    "\n",
    "function regExpEscape (s) {\n",
    "  return s.replace(/[-[\\]{}()*+?.,\\\\^$|#\\s]/g, '\\\\$&')\n",
    "}\n",
    "\n",
    "// convert minimatch expression to regular expression\n",
    "function minimatch (filename, pattern) {\n",
    "    // expand braces\n",
    "    var set = expand(pattern)\n",
    "\n",
    "        // matching patterns.\n",
    "        .map(function (s) {\n",
    "            return s.split(/\\/+/)\n",
    "        })\n",
    "\n",
    "        // glob --> regexps\n",
    "        .map(function (s, si, set) {\n",
    "            return s.map(parse)\n",
    "        })\n",
    "\n",
    "        // filter out everything that didn't compile properly.\n",
    "        .filter(function (s) {\n",
    "            return s.indexOf(false) === -1\n",
    "        })\n",
    "\n",
    "        // convert the sets to regular expressions\n",
    "        .map(function (pattern) {\n",
    "            return pattern.map(function (p) {\n",
    "                return (typeof p.glob === 'boolean') \n",
    "                    ? '(?:(?!(?:\\\\\\/|^)(?:\\\\.{1,2})($|\\\\\\/)).)*?'\n",
    "                    : (typeof p === 'string') ? regExpEscape(p)\n",
    "                    : p._src\n",
    "            }).join('\\\\\\/')\n",
    "        }).join('|')\n",
    "    try {\n",
    "        var re = new RegExp('^(?:' + set + ')$', 'i')\n",
    "        return filename.match(re) !== null\n",
    "    } catch (ex) {\n",
    "        throw ex\n",
    "    }\n",
    "}\n",
    "\n",
    "module.exports = {\n",
    "    minimatch\n",
    "}\n"
   ]
  },
  {
   "cell_type": "markdown",
   "metadata": {},
   "source": [
    "#### test minimatch\n",
    "\n"
   ]
  },
  {
   "cell_type": "code",
   "execution_count": 28,
   "metadata": {
    "scrolled": false
   },
   "outputs": [
    {
     "name": "stdout",
     "output_type": "stream",
     "text": [
      "importing minimatch - 1 cell - files.ipynb[15]\n",
      "true\n",
      "true\n",
      "true\n"
     ]
    }
   ],
   "source": [
    "var importer = require('../Core')\n",
    "var {minimatch} = importer.import('minimatch')\n",
    "//var mini = require('minimatch')\n",
    "\n",
    "console.log(minimatch('/some/file/to/test', '**/file/**'))\n",
    "console.log(minimatch('/node_modules/@firebase', '**/node_modules/**'))\n",
    "//mini.makeRe('**/node_modules/**', {dot: true, regexp: true})\n",
    "//console.log(mini('/node_modules/@firebase', '**/node_modules/**'))\n",
    "\n",
    "/*\n",
    "expected output\n",
    "true\n",
    "true\n",
    "*/\n"
   ]
  },
  {
   "cell_type": "markdown",
   "metadata": {
    "heading_collapsed": true
   },
   "source": [
    "### match filename?\n",
    "\n",
    "Minimatching from an object full of file names and their output destination.\n"
   ]
  },
  {
   "cell_type": "code",
   "execution_count": null,
   "metadata": {
    "hidden": true
   },
   "outputs": [],
   "source": [
    "var importer = require('../Core')\n",
    "var {minimatch} = importer.import('minimatch')\n",
    "\n",
    "var getDirectory = (match) => match[match.length-1] === '/'\n",
    "    ? match\n",
    "    : (fs.existsSync(match) && fs.lstatSync(match).isDirectory()\n",
    "       ? match\n",
    "       : path.dirname(match));\n",
    "\n",
    "\n",
    "function matchFilename(filename, matchOutput, projectOutput) {\n",
    "    return Object.keys(matchOutput)\n",
    "    .filter(match => minimatch(filename, match))\n",
    "    .map(match => {\n",
    "        var projectMatch = path.join(projectOutput, matchOutput[match])\n",
    "        var dir = getDirectory(projectMatch);\n",
    "        return path.join(dir, path.basename(projectMatch) === path.basename(dir)\n",
    "            ? filename\n",
    "            : path.basename(matchOutput[match]));\n",
    "    })\n",
    "}\n",
    "\n",
    "module.exports = {\n",
    "    matchFilename,\n",
    "    getDirectory\n",
    "}\n"
   ]
  },
  {
   "cell_type": "markdown",
   "metadata": {
    "heading_collapsed": true
   },
   "source": [
    "### make directories recursively\n",
    "\n",
    "mkdirp?\n"
   ]
  },
  {
   "cell_type": "code",
   "execution_count": null,
   "metadata": {
    "hidden": true
   },
   "outputs": [],
   "source": [
    "var fs = require('fs');\n",
    "var path = require('path');\n",
    "\n",
    "function mkdirpSync(p) {\n",
    "    if(!fs.existsSync(p)) {\n",
    "        try {\n",
    "            fs.mkdirSync(p);\n",
    "        } catch (e) {\n",
    "            if(e.code === 'ENOENT') {\n",
    "                mkdirpSync(path.dirname(p));\n",
    "                fs.mkdirSync(p);\n",
    "            }\n",
    "        }\n",
    "    }\n",
    "}\n",
    "\n",
    "module.exports = mkdirpSync;\n"
   ]
  },
  {
   "cell_type": "markdown",
   "metadata": {
    "heading_collapsed": true
   },
   "source": [
    "### mocking file-system calls\n",
    "\n",
    "This can be useful if a library doesn't natively support streams or putting content in to memory instead of directly on disk.\n",
    "\n"
   ]
  },
  {
   "cell_type": "markdown",
   "metadata": {
    "heading_collapsed": true,
    "hidden": true
   },
   "source": [
    "#### the code\n",
    "\n",
    "How to use memory-fs and rewire to audit cli events?\n",
    "\n"
   ]
  },
  {
   "cell_type": "code",
   "execution_count": null,
   "metadata": {
    "hidden": true,
    "inputHidden": false,
    "outputHidden": false
   },
   "outputs": [],
   "source": [
    "var path = require('path');\n",
    "var mock = require('mock-require');\n",
    "var memfs = require('memfs');\n",
    "var unionfs = require('unionfs');\n",
    "var fs = require('fs');\n",
    "var ts = require('typescript');\n",
    "\n",
    "// TODO: use https://github.com/jhnns/rewire for replacing variables, something like https://github.com/mariocasciaro/object-path?\n",
    "\n",
    "function mockTypescriptFs(root, data) {\n",
    "    var mem = new memfs.Volume;\n",
    "\n",
    "    mem.mountSync(root, data);\n",
    "\n",
    "    // Create a union of two file systems:\n",
    "    unionfs\n",
    "        .use(fs)\n",
    "        .use(mem)\n",
    "        .replace(fs);\n",
    "\n",
    "    var tsMock = Object.assign({}, ts);\n",
    "    var toMock = {\n",
    "        readFile: 'readFileSync',\n",
    "        realpath: 'realpathSync',\n",
    "        writeFile: 'writeFileSync',\n",
    "        fileExists: 'existsSync',\n",
    "        directoryExists: 'existsSync',\n",
    "        createDirectory: 'mkdirSync',\n",
    "        getDirectories: 'readdirSync'\n",
    "    };\n",
    "    Object.keys(toMock)\n",
    "        .forEach(k => {\n",
    "            if (typeof mem[toMock[k]] === 'function') {\n",
    "                tsMock.sys[k] = function () {\n",
    "                    // typescript.sys functions return defined on error\n",
    "                    try {\n",
    "                        return mem[toMock[k]].apply(mem, arguments);\n",
    "                    } catch (e) {\n",
    "                        return;\n",
    "                    }\n",
    "                };\n",
    "            }\n",
    "        });\n",
    "\n",
    "    mock('typescript', tsMock);\n",
    "    return mock;\n",
    "};\n",
    "module.exports = mockTypescriptFs;\n",
    "\n",
    "// TODO: search github for projects like graceful-fs and then search google for projects that use graceful-fs and see if we can record some filesystem activity\n",
    "\n"
   ]
  },
  {
   "cell_type": "markdown",
   "metadata": {
    "heading_collapsed": true
   },
   "source": [
    "## TODO: use static code analysis to find consecutive words in template files?\n",
    "\n",
    "https://stackoverflow.com/questions/18717536/in-python-how-can-i-distinguish-between-a-human-readible-word-and-random-string\n",
    "\n",
    "TODO: combine with DOM minimizing service from recording app?\n",
    "\n",
    "TODO: use to find the main content of the page for scraping.\n"
   ]
  },
  {
   "cell_type": "code",
   "execution_count": null,
   "metadata": {
    "hidden": true
   },
   "outputs": [],
   "source": [
    "var fs = require('fs');\n",
    "var importer = require('../Core')\n",
    "var {glob} = importer.import('glob files')\n",
    "fs.readdirSync('.');\n",
    "var PROJECT_PATH = '/Users/briancullinan/Google Drive/Colab Notebooks'\n",
    "glob.sync('**/*.ipynb', {cwd: PROJECT_PATH}).forEach(f => {\n",
    "    const nb = JSON.parse(fs.readFileSync(path.join(PROJECT_PATH, f)).toString());\n",
    "    nb.nbformat_minor = 0;\n",
    "    /*\n",
    "    nb.metadata = {\n",
    "        colab: {\n",
    "          \"name\": path.basename(f),\n",
    "          \"version\": \"0.3.2\",\n",
    "          \"views\": {},\n",
    "          \"default_view\": {},\n",
    "          \"provenance\": []\n",
    "        },\n",
    "        kernelspec: {\n",
    "          \"name\": \"javascript\",\n",
    "          \"display_name\": \"Javascript\"\n",
    "        }\n",
    "    };\n",
    "    */\n",
    "    fs.writeFileSync(path.join(PROJECT_PATH, f), JSON.stringify(nb, null, 2));\n",
    "});\n"
   ]
  },
  {
   "cell_type": "markdown",
   "metadata": {
    "heading_collapsed": true
   },
   "source": [
    "## TODO:\n",
    "\n",
    "TODO: make a utulity for displaying files that match specific code.\n",
    "\n",
    "TODO: make a utility for loading file information like PECL ID3 from PHP.\n"
   ]
  },
  {
   "cell_type": "code",
   "execution_count": null,
   "metadata": {
    "hidden": true
   },
   "outputs": [],
   "source": []
  }
 ],
 "metadata": {
  "kernel_info": {
   "name": "javascript"
  },
  "kernelspec": {
   "display_name": "Javascript (Node.js)",
   "language": "javascript",
   "name": "javascript"
  },
  "language_info": {
   "file_extension": ".js",
   "mimetype": "application/javascript",
   "name": "javascript",
   "version": "10.16.0"
  }
 },
 "nbformat": 4,
 "nbformat_minor": 4
}
