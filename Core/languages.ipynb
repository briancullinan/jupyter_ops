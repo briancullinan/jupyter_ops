{
 "cells": [
  {
   "cell_type": "markdown",
   "metadata": {},
   "source": [
    "# language tools\n",
    "\n",
    "Converting between languages, parsing languages computer languages, demonstrating tools like syntax hilighters, and outputting the diffed code\n"
   ]
  },
  {
   "cell_type": "code",
   "execution_count": null,
   "metadata": {},
   "outputs": [],
   "source": []
  },
  {
   "cell_type": "markdown",
   "metadata": {},
   "source": [
    "TODO: use syntax tree to convert from and to any language\n",
    "\n",
    "\n",
    "use a common library for language generation \n",
    "\n",
    "https://bitbucket.org/birkenfeld/pygments-main/src/default/pygments/lexers/haskell.py\n",
    "\n",
    "https://github.com/PrismJS/prism/blob/master/components/prism-markdown.js\n",
    "\n",
    "http://qbnz.com/highlighter/\n",
    "\n",
    "https://stackoverflow.com/questions/171924/how-do-i-syntax-check-a-bash-script-without-running-it\n",
    "\n",
    "bash -n scriptname\n",
    "\n",
    "Improve on the babel-preset-php pattern of replacing code with a tree, just use templates and the tree creator on regular code blocks\n",
    "\n",
    "https://gitlab.com/kornelski/babel-preset-php/blob/master/lib/trans.js\n",
    "\n",
    "```\n",
    "function translateAssignBlock(node, scope) {\n",
    "    if (isVariableCreatingAssignment(node, scope)) {\n",
    "        return makeVariableDeclaration(node.left.name, \"var\", translateExpr(node.right, scope), node.loc, scope);\n",
    "    }\n",
    "    return wrapInStatement(translateAssign(node, scope));\n",
    "}\n",
    "```\n",
    "\n",
    "should be something like:\n",
    "```\n",
    "var ASSIGMENT_EXPRESSION = (leftName, right) => {\n",
    "    var leftName = right;\n",
    "}\n",
    "\n",
    "function translateAssignBlock(node, scope) {\n",
    "    if(//Assignment[/Identifier].includes(node)) {\n",
    "        return getAST(ASSIGMENT_EXPRESSION, node)\n",
    "    }\n",
    "    return getAST(STATEMENT, node)\n",
    "}\n",
    "```\n",
    "\n",
    "that way when they are written in multiple languages we can transpile any language, maybe\n",
    "\n",
    "use this library as a reference for lots of languages https://github.com/seaneshbaugh/rosetta-euler\n",
    "\n",
    "automatically translate https://projecteuler.net/archives to any language\n",
    "\n",
    "\n",
    "TODO: use babel and a transpiling kernel from babel-preset-php, \n",
    "\n",
    "TODO: make a generic translator that does manipulations on queries based on templates\n",
    "\n",
    "\n",
    "\n",
    "\n"
   ]
  },
  {
   "cell_type": "code",
   "execution_count": null,
   "metadata": {},
   "outputs": [],
   "source": [
    "// sample definition for MatLab\n",
    "\n"
   ]
  },
  {
   "cell_type": "code",
   "execution_count": null,
   "metadata": {},
   "outputs": [],
   "source": [
    "// definition for nodejs\n",
    "\n"
   ]
  },
  {
   "cell_type": "markdown",
   "metadata": {
    "heading_collapsed": true
   },
   "source": [
    "## TODO: babel transpiler plugin\n",
    "\n"
   ]
  },
  {
   "cell_type": "markdown",
   "metadata": {},
   "source": [
    "## syntax tree tools?\n",
    "\n",
    "\n"
   ]
  },
  {
   "cell_type": "markdown",
   "metadata": {
    "heading_collapsed": true
   },
   "source": [
    "### justification\n",
    "\n",
    "Just so it can be parsed with XPath instead. Get them all working the same!\n",
    "\n"
   ]
  },
  {
   "cell_type": "markdown",
   "metadata": {
    "hidden": true
   },
   "source": [
    "\n",
    "Crap modules I won't need any more:\n",
    "- css\n",
    "- ASTQ\n",
    "- Acorn\n",
    "- esprima\n",
    "- escodegen\n",
    "- esquery\n",
    "- jsonpath\n",
    "- jsonquery\n",
    "- jspath\n",
    "- json:select\n",
    "- jsel\n",
    "\n",
    "TODO: get rid of jsonpath-plus, jsonstream, jspath, \n",
    "\n"
   ]
  },
  {
   "cell_type": "markdown",
   "metadata": {
    "hidden": true
   },
   "source": [
    "```\n",
    "/* expected output `\n",
    "[ Script {\n",
    "    type: 'Program',\n",
    "    body: [ [FunctionDeclaration], [ExpressionStatement] ],\n",
    "    sourceType: 'script',\n",
    "    range: [ 1, 45 ],\n",
    "    comments: [],\n",
    "    tokens:\n",
    "\n",
    "<program type=\"program\">\n",
    "    <function>\n",
    "    </function>\n",
    "    <expression>\n",
    "    </expression>\n",
    "</program>\n",
    "\n",
    "*/\n",
    "```\n",
    "\n"
   ]
  },
  {
   "cell_type": "markdown",
   "metadata": {},
   "source": [
    "### convert a syntax tree to html?\n",
    "\n",
    "Reasoning. Every atom is made up of smaller component parts. This conversion creates a tree that breaks down to &lt;elements&gt; and attr=\"ibutes\", just like neutrons and protons.\n"
   ]
  },
  {
   "cell_type": "code",
   "execution_count": 2,
   "metadata": {
    "scrolled": true
   },
   "outputs": [
    {
     "data": {
      "text/plain": [
       "[Function: statementToElement]"
      ]
     },
     "execution_count": 2,
     "metadata": {},
     "output_type": "execute_result"
    }
   ],
   "source": [
    "\n",
    "function statementToElement(statement) {\n",
    "    var {type} = statement;\n",
    "    var result = ``, attrs = ``;\n",
    "    var isList = true;\n",
    "    for(var i in statement) {\n",
    "        if(parseInt(i) + '' === i + '') {\n",
    "            result += statementToElement(statement[i])\n",
    "            continue;\n",
    "        }\n",
    "        isList = false;\n",
    "        var jsType = typeof statement[i];\n",
    "        if(jsType === 'object' && statement[i]) {\n",
    "            jsType = Object.getPrototypeOf(statement[i]).constructor.name;\n",
    "        }\n",
    "        // if the property is an Object, print out as a child\n",
    "        // TODO: replace this type property when converting other trees\n",
    "        //   should be like getEl() statementToElement(() => el.type)\n",
    "        if(typeof statement[i].type !== 'undefined'\n",
    "           || (typeof statement[i][0] !== 'undefined'\n",
    "        // or if the property is an Array, print them out as child elements\n",
    "           && typeof statement[i][0].type !== 'undefined')) {\n",
    "            // print out the other keys just for fun matching\n",
    "            attrs +=  `\n",
    "${i}=\"\" ${i}-type=\"${jsType}\"`;\n",
    "            result += `<${i}-attr>${statementToElement(statement[i])}</${i}-attr>`\n",
    "        } else {\n",
    "            // if the property is not an object, i.e. native types\n",
    "            attrs +=  `\n",
    "${i}=\"${statement[i]}\" ${i}-type=\"${jsType}\"`\n",
    "        }\n",
    "    }\n",
    "    \n",
    "    return isList ? result : `\n",
    "<${type}${attrs}>${result}</${type}>`\n",
    "}\n",
    "\n",
    "module.exports = statementToElement;\n"
   ]
  },
  {
   "cell_type": "markdown",
   "metadata": {},
   "source": [
    "### convert an html tree to objects?\n",
    "\n"
   ]
  },
  {
   "cell_type": "code",
   "execution_count": 9,
   "metadata": {},
   "outputs": [
    {
     "data": {
      "text/plain": [
       "[Function: elementToStatement]"
      ]
     },
     "execution_count": 9,
     "metadata": {},
     "output_type": "execute_result"
    }
   ],
   "source": [
    "var {JSDOM} = require('jsdom');\n",
    "\n",
    "// TODO: create a pattern same as notebook markdown in core, accumulate\n",
    "function accumulateComments(nodes) {\n",
    "    var commentBuffer = []\n",
    "    return nodes.reduce((acc, n) => {\n",
    "        if(typeof n !== 'object') {\n",
    "            commentBuffer.push[n];\n",
    "        } else {\n",
    "            n.comments = commentBuffer;\n",
    "            commentBuffer = [];\n",
    "            acc.push(n);\n",
    "        }\n",
    "        return acc;\n",
    "    }, []);\n",
    "}\n",
    "\n",
    "// expects a string or a tree from JSDOM\n",
    "function elementToStatement(body) {\n",
    "    if(typeof body === 'string') {\n",
    "        var dom = new JSDOM(body);\n",
    "        body = dom.window.document.body;\n",
    "    }\n",
    "    if(body.nodeName === '#text') {\n",
    "        return body.nodeValue;\n",
    "    }\n",
    "    var attrs = body.getAttributeNames()\n",
    "        .filter(a => a.substr(-5) !== '-type');\n",
    "    if(attrs.length === 0) {\n",
    "        var elsAndText = Array.from(body.childNodes)\n",
    "            .map(c => elementToStatement(c));\n",
    "        return accumulateComments(elsAndText);\n",
    "    }\n",
    "    var result = attrs.reduce((obj, p) => {\n",
    "        var childObject = Array.from(body.childNodes)\n",
    "           .filter(n => n.nodeName.toLowerCase() === p.toLowerCase() + '-attr')[0];\n",
    "        var type = body.getAttribute(p + '-type');\n",
    "        if(childObject) {\n",
    "            // converted from an array of childNodes above\n",
    "            var children = elementToStatement(childObject);\n",
    "            obj[p] = type === 'Array' ? children : children[0];\n",
    "        } else {\n",
    "            var attr = body.getAttribute(p);\n",
    "            obj[p] = attr;\n",
    "            if(type === 'boolean')  obj[p] = attr === 'true';\n",
    "            if(type === 'number')  obj[p] = parseInt(attr);\n",
    "        }\n",
    "        return obj;\n",
    "    }, {})\n",
    "    return result;\n",
    "}\n",
    "\n",
    "module.exports = elementToStatement;\n",
    "\n"
   ]
  },
  {
   "cell_type": "markdown",
   "metadata": {},
   "source": [
    "#### test tree to html?"
   ]
  },
  {
   "cell_type": "code",
   "execution_count": 11,
   "metadata": {
    "scrolled": false
   },
   "outputs": [
    {
     "name": "stdout",
     "output_type": "stream",
     "text": [
      "function name(params) {\n",
      "}\n",
      "console.log();\n"
     ]
    },
    {
     "ename": "Error",
     "evalue": "Unknown node type: undefined",
     "output_type": "error",
     "traceback": [
      "/Users/briancullinan/jupyter_ops/node_modules/escodegen/escodegen.js:2493",
      "        throw new Error('Unknown node type: ' + node.type);",
      "        ^",
      "",
      "Error: Unknown node type: undefined",
      "    at generateInternal (/Users/briancullinan/jupyter_ops/node_modules/escodegen/escodegen.js:2493:15)",
      "    at Object.generate (/Users/briancullinan/jupyter_ops/node_modules/escodegen/escodegen.js:2554:18)",
      "    at testASTArray (evalmachine.<anonymous>:30:29)",
      "    at evalmachine.<anonymous>:53:16",
      "    at Script.runInThisContext (vm.js:122:20)",
      "    at Object.runInThisContext (vm.js:329:38)",
      "    at run ([eval]:1002:15)",
      "    at onRunRequest ([eval]:829:18)",
      "    at onMessage ([eval]:789:13)",
      "    at process.emit (events.js:198:13)"
     ]
    }
   ],
   "source": [
    "var importer = require('../Core');\n",
    "var assert = require('assert');\n",
    "// TODO: make this dependency obsolete\n",
    "var esquery = require('esquery');\n",
    "var esprima = require('esprima'); \n",
    "var escodegen = require('escodegen');\n",
    "var ASTQ  = require(\"astq\");\n",
    "var astq = new ASTQ();\n",
    "\n",
    "var gen_options = {\n",
    "    comment: true,\n",
    "    tokens: true,\n",
    "    whitespace: true,\n",
    "    format: {indent: {style: '    '}, quotes: 'single'}\n",
    "}\n",
    "\n",
    "function setupASTArray(code) {\n",
    "    var ctx = esprima.parse(code, {range: true, tokens: true,\n",
    "                        comment: true, whitespace: true})\n",
    "    \n",
    "    escodegen.attachComments(ctx, ctx.comments, ctx.tokens, ctx.whitespace);\n",
    "    return ctx;\n",
    "}\n",
    "\n",
    "function testASTArray(ctx) {\n",
    "    var output1 = escodegen.generate(ctx, gen_options)\n",
    "    console.log(output1);\n",
    "    var page = statementToElement(ctx);\n",
    "    var translated_back = elementToStatement(page)[0];\n",
    "    var output2 = escodegen.generate(translated_back, gen_options);\n",
    "    assert(output1 === output2, 'different code trees');    \n",
    "    return page;\n",
    "}\n",
    "\n",
    "module.exports = testASTArray;\n",
    "\n",
    "function htmlEntities(str) {\n",
    "    return String(str)\n",
    "        .replace(/&/g, '&amp;')\n",
    "        .replace(/</g, '&lt;')\n",
    "        .replace(/>/g, '&gt;')\n",
    "        .replace(/\"/g, '&quot;');\n",
    "}\n",
    "\n",
    "if(typeof $$ !== 'undefined') {\n",
    "    var code = `\n",
    "function name(params) {\n",
    "    \n",
    "}\n",
    "console.log()\n",
    "`\n",
    "    var ctx = setupASTArray(code);\n",
    "    var html = testASTArray(ctx)\n",
    "    console.log(astq.query(ctx, '*'));\n",
    "    console.log(astq.query(ctx, '*')[0].tokens);\n",
    "    console.log(esquery(ctx, '*').length);\n",
    "    console.log(esquery(ctx, 'Program').length);\n",
    "    \n",
    "    $$.html('<pre>' + htmlEntities(html) + '</pre>')\n",
    "}\n"
   ]
  },
  {
   "cell_type": "markdown",
   "metadata": {},
   "source": [
    "#### TODO test tree to html with astq\n",
    "\n",
    "TODO: convert between astq and other tree libraries\n",
    "\n",
    "replacing that functionality I noticed in babel somewhere\n",
    "\n"
   ]
  },
  {
   "cell_type": "code",
   "execution_count": 106,
   "metadata": {},
   "outputs": [],
   "source": [
    "// reserved words\n",
    "\n",
    "var keywords = ['type', 'id', 'params',\n",
    "                'body', 'generator', 'async',\n",
    "                'range', 'expression', 'callee',\n",
    "                'arguments'];\n",
    "\n"
   ]
  },
  {
   "cell_type": "markdown",
   "metadata": {},
   "source": [
    "expected output\n",
    "\n",
    "\n",
    "```\n",
    "FunctionDeclaration {\n",
    "    type: 'FunctionDeclaration',\n",
    "    id:\n",
    "     Identifier { type: 'Identifier', name: 'name', range: [Array] },\n",
    "    params: [ [Identifier] ],\n",
    "    body:\n",
    "     BlockStatement { type: 'BlockStatement', body: [], range: [Array] },\n",
    "    generator: false,\n",
    "    expression: false,\n",
    "    async: false,\n",
    "    range: [ 1, 31 ] },\n",
    "  ExpressionStatement {\n",
    "    type: 'ExpressionStatement',\n",
    "    expression:\n",
    "     CallExpression {\n",
    "       type: 'CallExpression',\n",
    "       callee: [StaticMemberExpression],\n",
    "       arguments: [],\n",
    "       range: [Array] },\n",
    "    range: [ 32, 45 ] } ]\n",
    "```\n"
   ]
  },
  {
   "cell_type": "markdown",
   "metadata": {},
   "source": [
    "### generate a synax tree from documentation\n"
   ]
  },
  {
   "cell_type": "markdown",
   "metadata": {},
   "source": [
    "#### test language translator\n",
    "\n",
    "TODO: Creating an interface like this becomes a simple http request to download and create a language compatible pattern, do in C# and in Node\n",
    "\n",
    "\n"
   ]
  },
  {
   "cell_type": "code",
   "execution_count": null,
   "metadata": {},
   "outputs": [],
   "source": [
    "\n",
    "var wireKernelInterface = {\n",
    "    ...metaKernelInterface,\n",
    "    // implement all requests, these are required by the meta kernel\n",
    "    execute_request, inspect_request, complete_request,\n",
    "    history_request, is_complete_request, shutdown_request,\n",
    "    // requests maybe not required right now?\n",
    "    kernel_info_request, interrupt_request, input_request,\n",
    "    connect_request, comm_info_request, kernel_info_request,\n",
    "\n",
    "    // implement all replys\n",
    "    execute_reply, inspect_reply, complete_reply,\n",
    "    history_reply, kernel_info_reply, is_complete_reply,\n",
    "    connect_reply, comm_info_reply, kernel_info_reply,\n",
    "    shutdown_reply, interrupt_reply, input_reply,\n",
    "\n",
    "    // a few extra protocol methods\n",
    "    display_data, update_display_data, execute_input,\n",
    "    execute_result, error, status, clear_output,\n",
    "    comm_msg, comm_close\n",
    "}\n",
    "\n",
    "module.exports = wireKernelInterface;\n",
    "    "
   ]
  },
  {
   "cell_type": "markdown",
   "metadata": {},
   "source": []
  },
  {
   "cell_type": "code",
   "execution_count": null,
   "metadata": {},
   "outputs": [],
   "source": []
  }
 ],
 "metadata": {
  "kernelspec": {
   "display_name": "Javascript (Node.js)",
   "language": "javascript",
   "name": "javascript"
  },
  "language_info": {
   "file_extension": ".js",
   "mimetype": "application/javascript",
   "name": "javascript",
   "version": "10.16.0"
  }
 },
 "nbformat": 4,
 "nbformat_minor": 2
}
