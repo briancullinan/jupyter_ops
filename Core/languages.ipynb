{
 "cells": [
  {
   "cell_type": "markdown",
   "metadata": {},
   "source": [
    "use syntax tree to convert from and to any language\n",
    "\n",
    "\n",
    "use a common library for language generation \n",
    "\n",
    "https://bitbucket.org/birkenfeld/pygments-main/src/default/pygments/lexers/haskell.py\n",
    "\n",
    "https://github.com/PrismJS/prism/blob/master/components/prism-markdown.js\n",
    "\n",
    "http://qbnz.com/highlighter/\n",
    "\n",
    "https://stackoverflow.com/questions/171924/how-do-i-syntax-check-a-bash-script-without-running-it\n",
    "\n",
    "bash -n scriptname\n",
    "\n",
    "Improve on the babel-preset-php pattern of replacing code with a tree, just use templates and the tree creator on regular code blocks\n",
    "\n",
    "https://gitlab.com/kornelski/babel-preset-php/blob/master/lib/trans.js\n",
    "\n",
    "```\n",
    "function translateAssignBlock(node, scope) {\n",
    "    if (isVariableCreatingAssignment(node, scope)) {\n",
    "        return makeVariableDeclaration(node.left.name, \"var\", translateExpr(node.right, scope), node.loc, scope);\n",
    "    }\n",
    "    return wrapInStatement(translateAssign(node, scope));\n",
    "}\n",
    "```\n",
    "\n",
    "should be something like:\n",
    "```\n",
    "var ASSIGMENT_EXPRESSION = (leftName, right) => {\n",
    "    var leftName = right;\n",
    "}\n",
    "\n",
    "function translateAssignBlock(node, scope) {\n",
    "    if(//Assignment[/Identifier].includes(node)) {\n",
    "        return getAST(ASSIGMENT_EXPRESSION, node)\n",
    "    }\n",
    "    return getAST(STATEMENT, node)\n",
    "}\n",
    "```\n",
    "\n",
    "that way when they are written in multiple languages we can transpile any language, maybe\n",
    "\n",
    "use this library as a reference for lots of languages https://github.com/seaneshbaugh/rosetta-euler\n",
    "\n",
    "automatically translate https://projecteuler.net/archives to any language\n",
    "\n",
    "\n",
    "TODO: use babel and a transpiling kernel from babel-preset-php, \n",
    "\n",
    "TODO: make a generic translator that does manipulations on queries based on templates\n",
    "\n",
    "\n",
    "\n",
    "\n"
   ]
  },
  {
   "cell_type": "code",
   "execution_count": 2,
   "metadata": {},
   "outputs": [],
   "source": [
    "// sample definition for MatLab\n",
    "\n"
   ]
  },
  {
   "cell_type": "code",
   "execution_count": null,
   "metadata": {},
   "outputs": [],
   "source": [
    "// definition for nodejs\n",
    "\n"
   ]
  },
  {
   "cell_type": "markdown",
   "metadata": {},
   "source": [
    "## convert a tree to html?\n",
    "\n",
    "Just so it can be parsed with XPath instead. Get them all working the same!\n",
    "\n",
    "Crap modules I won't need any more:\n",
    "- css\n",
    "- ASTQ\n",
    "- Acorn\n",
    "- esprima\n",
    "- escodegen\n",
    "- esquery\n",
    "- jsonpath\n",
    "- jsonquery\n",
    "- jspath\n",
    "- json:select\n",
    "\n",
    "TODO: get rid of jsonpath-plus, jsonstream, jspath, \n",
    "\n"
   ]
  },
  {
   "cell_type": "code",
   "execution_count": 39,
   "metadata": {},
   "outputs": [
    {
     "name": "stdout",
     "output_type": "stream",
     "text": [
      "reading notebook /Users/briancullinan/jupyter_ops/Core/languages.ipynb\n"
     ]
    },
    {
     "data": {
      "text/html": [
       "<pre>\n",
       "&lt;Program\n",
       "type=&quot;Program&quot;\n",
       "sourceType=&quot;script&quot;\n",
       "range=&quot;1,45&quot;\n",
       "comments=&quot;&quot;&gt;\n",
       "&lt;body&gt;&lt;/body&gt;&lt;tokens&gt;&lt;/tokens&gt;\n",
       "&lt;/Program&gt;</pre>"
      ]
     },
     "execution_count": 39,
     "metadata": {},
     "output_type": "execute_result"
    }
   ],
   "source": [
    "var importer = require('../Core');\n",
    "var ASTQ  = require(\"astq\");\n",
    "var astq = new ASTQ();\n",
    "var esquery = require('esquery');\n",
    "var esprima = require('esprima'); \n",
    "var Mustache = require('mustache');\n",
    "\n",
    "function getArrayAST(selector, ctx, index) {\n",
    "    if(typeof ctx === 'string') {\n",
    "        ctx = esprima.parse(ctx, {range: true, tokens: true,\n",
    "                                  comment: true, whitespace: true});\n",
    "    }\n",
    "    try {\n",
    "        return astq.query(ctx, selector);\n",
    "    } catch (e) {\n",
    "        if(e.message.includes('query parsing failed')) {\n",
    "            return esquery(ctx, selector);\n",
    "        } else {\n",
    "            throw e;\n",
    "        }\n",
    "    }\n",
    "}\n",
    "\n",
    "var ATTRIBUTE = `{{#.}}=\"{{.}}\"{{/.}}`\n",
    "var ELEMENT = `\n",
    "<{{type}} type=\"{{type}}\">\n",
    "<body>{{#body}}{{.}}{{/body}}</body>\n",
    "</{{type}}>\n",
    "`;\n",
    "var Program = `{{ELEMENT}}`\n",
    "var BlockStatement = `{{ELEMENT}}`\n",
    "var FunctionDeclaration = `\n",
    "{{#ELEMENT}}\n",
    "<params>{{params}}</params>\n",
    "{{.}}\n",
    "{{/ELEMENT}}\n",
    "`\n",
    "\n",
    "\n",
    "function statementToElement(statement) {\n",
    "    var {type} = statement;\n",
    "    var result = ``, attrs = ``;\n",
    "    for(var i in statement) {\n",
    "        if(typeof statement[i].type !== 'undefined'\n",
    "           || typeof statement[i][0] !== 'undefined'\n",
    "           && typeof statement[i][0].type !== 'undefined') {\n",
    "            result += `<${i}></${i}>`\n",
    "        } else {\n",
    "            attrs +=  `\n",
    "${i}=\"${statement[i]}\"`\n",
    "        }\n",
    "    }\n",
    "    \n",
    "    return `\n",
    "<${type}${attrs}>\n",
    "${result}\n",
    "</${type}>`\n",
    "}\n",
    "\n",
    "function testASTArray(selector, search = '') {\n",
    "    var cell = importer.interpret(search);\n",
    "    var ast = getArrayAST(selector, `\n",
    "function name(params) {\n",
    "    \n",
    "}\n",
    "console.log()\n",
    "`);\n",
    "    return statementToElement(ast[0]);\n",
    "}\n",
    "\n",
    "module.exports = testASTArray;\n",
    "\n",
    "function htmlEntities(str) {\n",
    "    return String(str).replace(/&/g, '&amp;').replace(/</g, '&lt;').replace(/>/g, '&gt;').replace(/\"/g, '&quot;');\n",
    "}\n",
    "\n",
    "if(typeof $$ !== 'undefined') {\n",
    "    var html = testASTArray('*', 'convert a tree to html')\n",
    "    $$.html('<pre>' + htmlEntities(html) + '</pre>')\n",
    "}\n"
   ]
  },
  {
   "cell_type": "markdown",
   "metadata": {},
   "source": [
    "#### test tree to html?"
   ]
  },
  {
   "cell_type": "code",
   "execution_count": 16,
   "metadata": {},
   "outputs": [
    {
     "name": "stdout",
     "output_type": "stream",
     "text": [
      "compiling /Users/briancullinan/jupyter_ops/Selenium/utilities.ipynb[1] aka get xpath array\n"
     ]
    },
    {
     "ename": "ReferenceError",
     "evalue": "page is not defined",
     "output_type": "error",
     "traceback": [
      "evalmachine.<anonymous>:3",
      "var dom = new JSDOM(page);",
      "                    ^",
      "",
      "ReferenceError: page is not defined",
      "    at evalmachine.<anonymous>:3:21",
      "    at Script.runInThisContext (vm.js:122:20)",
      "    at Object.runInThisContext (vm.js:329:38)",
      "    at run ([eval]:1002:15)",
      "    at onRunRequest ([eval]:829:18)",
      "    at onMessage ([eval]:789:13)",
      "    at process.emit (events.js:198:13)",
      "    at emit (internal/child_process.js:832:12)",
      "    at process._tickCallback (internal/process/next_tick.js:63:19)"
     ]
    }
   ],
   "source": [
    "var {JSDOM} = require('jsdom');\n",
    "var getArrayXPath = importer.import('get xpath array');\n",
    "var dom = new JSDOM(page);\n",
    "var imgObjs = getArrayXPath('//img[@src]', dom.window.document.body);\n",
    "\n",
    "    /* expected output `\n",
    "[ Script {\n",
    "    type: 'Program',\n",
    "    body: [ [FunctionDeclaration], [ExpressionStatement] ],\n",
    "    sourceType: 'script',\n",
    "    range: [ 1, 45 ],\n",
    "    comments: [],\n",
    "    tokens:\n",
    "\n",
    "<program type=\"program\">\n",
    "    <function>\n",
    "    </function>\n",
    "    <expression>\n",
    "    </expression>\n",
    "</program>\n",
    "\n",
    "    */\n",
    "\n",
    "\n"
   ]
  },
  {
   "cell_type": "markdown",
   "metadata": {},
   "source": [
    "what the fuck is this?\n",
    "\n",
    "this could my writing my intent compiler as easy as looking up every combination of every word for code and then assuming there are quotes around each command\n",
    "\n",
    "http://tc39wiki.calculist.org/es6/template-strings/\n",
    "\n",
    "\n"
   ]
  },
  {
   "cell_type": "code",
   "execution_count": 31,
   "metadata": {},
   "outputs": [
    {
     "name": "stdout",
     "output_type": "stream",
     "text": [
      "[ 'test' ]\n"
     ]
    },
    {
     "data": {
      "text/plain": [
       "'wtf? another'"
      ]
     },
     "execution_count": 31,
     "metadata": {},
     "output_type": "execute_result"
    }
   ],
   "source": [
    "var logger = (message) => {\n",
    "    console.log(message)\n",
    "    return (m) => 'wtf? ' + m\n",
    "}\n",
    "\n",
    "function test() {\n",
    "    return logger `test` `another`;\n",
    "}\n",
    "\n",
    "test()"
   ]
  },
  {
   "cell_type": "code",
   "execution_count": null,
   "metadata": {},
   "outputs": [],
   "source": []
  },
  {
   "cell_type": "code",
   "execution_count": null,
   "metadata": {},
   "outputs": [],
   "source": []
  }
 ],
 "metadata": {
  "kernelspec": {
   "display_name": "Javascript (Node.js)",
   "language": "javascript",
   "name": "javascript"
  },
  "language_info": {
   "file_extension": ".js",
   "mimetype": "application/javascript",
   "name": "javascript",
   "version": "10.16.0"
  }
 },
 "nbformat": 4,
 "nbformat_minor": 2
}
