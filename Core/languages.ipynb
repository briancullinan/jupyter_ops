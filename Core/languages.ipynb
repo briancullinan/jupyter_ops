{
 "cells": [
  {
   "cell_type": "markdown",
   "metadata": {},
   "source": [
    "use syntax tree to convert from and to any language\n",
    "\n",
    "\n",
    "use a common library for language generation \n",
    "\n",
    "https://bitbucket.org/birkenfeld/pygments-main/src/default/pygments/lexers/haskell.py\n",
    "\n",
    "https://github.com/PrismJS/prism/blob/master/components/prism-markdown.js\n",
    "\n",
    "http://qbnz.com/highlighter/\n",
    "\n",
    "https://stackoverflow.com/questions/171924/how-do-i-syntax-check-a-bash-script-without-running-it\n",
    "\n",
    "bash -n scriptname\n",
    "\n"
   ]
  },
  {
   "cell_type": "code",
   "execution_count": 2,
   "metadata": {},
   "outputs": [],
   "source": [
    "// sample definition for MatLab\n",
    "\n"
   ]
  },
  {
   "cell_type": "code",
   "execution_count": null,
   "metadata": {},
   "outputs": [],
   "source": [
    "// definition for nodejs\n",
    "\n"
   ]
  }
 ],
 "metadata": {
  "kernelspec": {
   "display_name": "Javascript (Node.js)",
   "language": "javascript",
   "name": "javascript"
  },
  "language_info": {
   "file_extension": ".js",
   "mimetype": "application/javascript",
   "name": "javascript",
   "version": "10.16.0"
  }
 },
 "nbformat": 4,
 "nbformat_minor": 2
}
