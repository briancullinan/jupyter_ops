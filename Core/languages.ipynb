{
 "cells": [
  {
   "cell_type": "markdown",
   "metadata": {},
   "source": [
    "# language tools\n",
    "\n",
    "Converting between languages, parsing languages computer languages, demonstrating tools like syntax hilighters, and outputting the diffed code\n"
   ]
  },
  {
   "cell_type": "markdown",
   "metadata": {},
   "source": [
    "## introduction\n",
    "\n"
   ]
  },
  {
   "cell_type": "markdown",
   "metadata": {},
   "source": [
    "TODO: see if anything can be learned from https://www.rascal-mpl.org/\n",
    "\n",
    "\n",
    "TODO: use syntax tree to convert from and to any language\n",
    "\n",
    "\n",
    "use a common library for language generation \n",
    "\n",
    "https://bitbucket.org/birkenfeld/pygments-main/src/default/pygments/lexers/haskell.py\n",
    "\n",
    "https://github.com/PrismJS/prism/blob/master/components/prism-markdown.js\n",
    "\n",
    "http://qbnz.com/highlighter/\n",
    "\n",
    "https://stackoverflow.com/questions/171924/how-do-i-syntax-check-a-bash-script-without-running-it\n",
    "\n",
    "bash -n scriptname\n",
    "\n",
    "Improve on the babel-preset-php pattern of replacing code with a tree, just use templates and the tree creator on regular code blocks\n",
    "\n",
    "https://gitlab.com/kornelski/babel-preset-php/blob/master/lib/trans.js\n",
    "\n",
    "```\n",
    "function translateAssignBlock(node, scope) {\n",
    "    if (isVariableCreatingAssignment(node, scope)) {\n",
    "        return makeVariableDeclaration(node.left.name, \"var\", translateExpr(node.right, scope), node.loc, scope);\n",
    "    }\n",
    "    return wrapInStatement(translateAssign(node, scope));\n",
    "}\n",
    "```\n",
    "\n",
    "should be something like:\n",
    "```\n",
    "var ASSIGMENT_EXPRESSION = (leftName, right) => {\n",
    "    var leftName = right;\n",
    "}\n",
    "\n",
    "function translateAssignBlock(node, scope) {\n",
    "    if(//Assignment[/Identifier].includes(node)) {\n",
    "        return getAST(ASSIGMENT_EXPRESSION, node)\n",
    "    }\n",
    "    return getAST(STATEMENT, node)\n",
    "}\n",
    "```\n",
    "\n",
    "that way when they are written in multiple languages we can transpile any language, maybe\n",
    "\n",
    "use this library as a reference for lots of languages https://github.com/seaneshbaugh/rosetta-euler\n",
    "\n",
    "automatically translate https://projecteuler.net/archives to any language\n",
    "\n",
    "https://wiki.haskell.org/Euler_problems\n",
    "\n",
    "\n",
    "TODO: use babel and a transpiling kernel from babel-preset-php, \n",
    "\n",
    "TODO: make a generic translator that does manipulations on queries based on templates\n",
    "\n",
    "\n",
    "\n",
    "\n"
   ]
  },
  {
   "cell_type": "code",
   "execution_count": null,
   "metadata": {},
   "outputs": [],
   "source": [
    "// sample definition for MatLab\n",
    "\n"
   ]
  },
  {
   "cell_type": "code",
   "execution_count": null,
   "metadata": {},
   "outputs": [],
   "source": [
    "// definition for nodejs\n",
    "\n"
   ]
  },
  {
   "cell_type": "markdown",
   "metadata": {},
   "source": [
    "## select multilungual tree\n",
    "\n"
   ]
  },
  {
   "cell_type": "markdown",
   "metadata": {},
   "source": [
    "### TODO: select jison tree\n",
    "\n",
    "Because parsing esprima code isn't enough! Let's use syntax tree features in any language. The Jison parse comes from Bison, which has lots of support\n",
    "\n",
    "Tree-sitter also looks nice https://github.com/tree-sitter/tree-sitter-c\n",
    "\n",
    "https://github.com/zaach/jison\n",
    "\n",
    "https://en.m.wikipedia.org/wiki/GNU_Bison\n",
    "\n",
    "Works just like selectAst() except no esprima, generates the tree using jison instead, so it requires a language specifier either in a comment at the top of the code or in a parameter.  It can also read a file if it exists, so one more check in addition to reading a string, and the language can be derived from the file extension.\n",
    "\n"
   ]
  },
  {
   "cell_type": "markdown",
   "metadata": {
    "heading_collapsed": true
   },
   "source": [
    "#### the code\n",
    "\n",
    "select jison tree?\n",
    "\n",
    "TODO: unfail this idea if `.y` files are found for the languages I want to use.\n",
    "\n"
   ]
  },
  {
   "cell_type": "code",
   "execution_count": null,
   "metadata": {
    "hidden": true
   },
   "outputs": [],
   "source": [
    "var fs = require('fs');\n",
    "var jison = require('jison');\n",
    "var importer = require('../Core')\n",
    "var {\n",
    "    selectDom,\n",
    "    evaluateDom,\n",
    "    treeToHtml,\n",
    "    htmlToTree\n",
    "} = importer.import(['select tree', 'tree to html', 'html to tree'])\n",
    "\n",
    "function getParser(jisonFile) {\n",
    "    var bnf\n",
    "    if(fs.existsSync(jisonFile)) {\n",
    "        bnf = fs.readFileSync(jisonFile, 'utf8')\n",
    "    } else {\n",
    "        bnf = importer.interpret(jisonFile).code\n",
    "    }\n",
    "    \n",
    "    var parser = new jison.Parser(bnf)\n",
    "    return parser\n",
    "}\n",
    "\n",
    "\n",
    "function toString(ctx, subctx) {\n",
    "    var ast = (subctx || ctx)\n",
    "    if(typeof ast.ownerDocument !== 'undefined') {\n",
    "        ast = htmlToTree(ast)\n",
    "    }\n",
    "    //escodegen.attachComments(ast, ast.comments, ast.tokens, ast.whitespace)\n",
    "    return escodegen.generate(ast, {\n",
    "        comment: true,\n",
    "        tokens: true,\n",
    "        whitespace: true,\n",
    "        format: {indent: {style: '    '}, quotes: 'single'}\n",
    "    })\n",
    "}\n",
    "\n",
    "function selectCode(descriptor, code, language) {\n",
    "    if(typeof code === 'function') {\n",
    "        code = code.toString()\n",
    "    }\n",
    "    if(typeof code === 'string') {\n",
    "        if(fs.existsSync(code)) {\n",
    "            code = fs.readFileSync(code)\n",
    "            if(typeof language === 'undefined') {\n",
    "                language = \n",
    "            }\n",
    "        }\n",
    "        var parser = getParser(language)\n",
    "        try {\n",
    "            code = esprima.parse(code, {range: true, tokens: true,\n",
    "                                        comment: true, whitespace: true})\n",
    "        } catch(e) {\n",
    "            console.log(e)\n",
    "            throw new Error('Could not parse \\n' + code)\n",
    "        }\n",
    "    }\n",
    "    // TODO: move this conversion to selectDom for all objects?\n",
    "    //   No more selectTree because jsel and friends are inconsistent.\n",
    "    if(typeof code.evaluate === 'undefined'\n",
    "       && typeof code.ownerDocument === 'undefined') {\n",
    "        code = selectDom('//Program', treeToHtml(code))\n",
    "        code.ownerDocument.toString = toString.bind(code, code)\n",
    "    }\n",
    "    return selectDom(descriptor, code)\n",
    "}\n",
    "\n",
    "module.exports = {\n",
    "    selectCode\n",
    "}\n"
   ]
  },
  {
   "cell_type": "markdown",
   "metadata": {},
   "source": [
    "### select antlr tree\n",
    "\n",
    "Using antlr templates because look at all the glorious grammars posted right there on it's main Github page! https://github.com/antlr/grammars-v4\n",
    "\n",
    "select antlr tree?\n"
   ]
  },
  {
   "cell_type": "code",
   "execution_count": null,
   "metadata": {},
   "outputs": [],
   "source": [
    "var fs = require('fs');\n",
    "var {CommonTokenStream, InputStream} = require('antlr4');\n",
    "var importer = require('../Core')\n",
    "var {\n",
    "    selectDom,\n",
    "    evaluateDom,\n",
    "    treeToHtml,\n",
    "    htmlToTree\n",
    "} = importer.import(['select tree', 'tree to html', 'html to tree'])\n",
    "\n",
    "function getParser(language) {\n",
    "    // TODO: get parser by language lookup\n",
    "    const {CLexer} = require('../Resources/Parsers/grammars-v4-master/c/CLexer.js')\n",
    "    const {CParser} = require('../Resources/Parsers/grammars-v4-master/c/CParser.js')\n",
    "\n",
    "    return (input) => {\n",
    "        //const parser = new GenericParser()\n",
    "        const lexer = new CLexer(new InputStream(input))\n",
    "        const parser = new CParser(new CommonTokenStream(lexer))\n",
    "        parser.buildParseTrees = true;\n",
    "        return parser\n",
    "    }\n",
    "}\n",
    "\n",
    "//TODO: fix this with own transpiler because no one is going to share their hard work on StringTemplate4 code\n",
    "function toString(ctx, subctx) {\n",
    "    var ast = (subctx || ctx)\n",
    "    if(typeof ast.ownerDocument !== 'undefined') {\n",
    "        ast = htmlToTree(ast)\n",
    "    }\n",
    "    //escodegen.attachComments(ast, ast.comments, ast.tokens, ast.whitespace)\n",
    "    return escodegen.generate(ast, {\n",
    "        comment: true,\n",
    "        tokens: true,\n",
    "        whitespace: true,\n",
    "        format: {indent: {style: '    '}, quotes: 'single'}\n",
    "    })\n",
    "}\n",
    "\n",
    "function selectCode(descriptor, code, language) {\n",
    "    if(typeof code === 'function') {\n",
    "        code = code.toString()\n",
    "    }\n",
    "    if(typeof code === 'string') {\n",
    "        if(fs.existsSync(code)) {\n",
    "            code = fs.readFileSync(code).toString('utf8')\n",
    "            if(typeof language === 'undefined') {\n",
    "                // TODO: use language file extension from media-server code module gheshi support\n",
    "            //    language = \n",
    "            }\n",
    "        }\n",
    "        var parser = getParser(language)\n",
    "        try {\n",
    "            code = parser(code)\n",
    "            return code\n",
    "        } catch(e) {\n",
    "            console.log(e)\n",
    "            throw new Error('Could not parse \\n' + code)\n",
    "        }\n",
    "    }\n",
    "    // No more selectTree because jsel and friends are inconsistent/partially implemented.\n",
    "    if(typeof code.evaluate === 'undefined'\n",
    "       && typeof code.ownerDocument === 'undefined') {\n",
    "        code = selectDom('//Program', treeToHtml(code))\n",
    "        code.ownerDocument.toString = toString.bind(code, code)\n",
    "    }\n",
    "    return selectDom(descriptor, code)\n",
    "}\n",
    "\n",
    "module.exports = {\n",
    "    selectCode\n",
    "}\n"
   ]
  },
  {
   "cell_type": "markdown",
   "metadata": {},
   "source": [
    "#### TODO: test select jison on some quake 3 C code\n",
    "\n"
   ]
  },
  {
   "cell_type": "code",
   "execution_count": 8,
   "metadata": {},
   "outputs": [
    {
     "name": "stdout",
     "output_type": "stream",
     "text": [
      "CompilationUnitContext {\n",
      "  parentCtx: null,\n",
      "  invokingState: -1,\n",
      "  ruleIndex: 82,\n",
      "  children: [\n",
      "    TerminalNodeImpl {\n",
      "      parentCtx: [Circular],\n",
      "      symbol: [CommonToken],\n",
      "      invokingState: 1263\n",
      "    }\n",
      "  ],\n",
      "  start: CommonToken {\n",
      "    source: [ [CLexer], [InputStream] ],\n",
      "    type: -1,\n",
      "    channel: 0,\n",
      "    start: 7273,\n",
      "    stop: 7272,\n",
      "    tokenIndex: 0,\n",
      "    line: 292,\n",
      "    column: 0,\n",
      "    _text: null\n",
      "  },\n",
      "  stop: null,\n",
      "  exception: null,\n",
      "  parser: CParser {\n",
      "    _listeners: [ ConsoleErrorListener {} ],\n",
      "    _interp: ParserATNSimulator {\n",
      "      atn: [ATN],\n",
      "      sharedContextCache: [PredictionContextCache],\n",
      "      parser: [Circular],\n",
      "      decisionToDFA: [Array],\n",
      "      predictionMode: 1,\n",
      "      _input: null,\n",
      "      _startIndex: 0,\n",
      "      _outerContext: null,\n",
      "      _dfa: null,\n",
      "      mergeCache: null\n",
      "    },\n",
      "    _stateNumber: -1,\n",
      "    _input: CommonTokenStream {\n",
      "      tokenSource: [CLexer],\n",
      "      tokens: [Array],\n",
      "      index: 0,\n",
      "      fetchedEOF: true,\n",
      "      channel: 0\n",
      "    },\n",
      "    _errHandler: DefaultErrorStrategy {\n",
      "      errorRecoveryMode: false,\n",
      "      lastErrorIndex: -1,\n",
      "      lastErrorStates: null\n",
      "    },\n",
      "    _precedenceStack: [ 0 ],\n",
      "    _ctx: null,\n",
      "    buildParseTrees: true,\n",
      "    _tracer: null,\n",
      "    _parseListeners: null,\n",
      "    _syntaxErrors: 0,\n",
      "    ruleNames: [\n",
      "      'primaryExpression',\n",
      "      'genericSelection',\n",
      "      'genericAssocList',\n",
      "      'genericAssociation',\n",
      "      'postfixExpression',\n",
      "      'argumentExpressionList',\n",
      "      'unaryExpression',\n",
      "      'unaryOperator',\n",
      "      'castExpression',\n",
      "      'multiplicativeExpression',\n",
      "      'additiveExpression',\n",
      "      'shiftExpression',\n",
      "      'relationalExpression',\n",
      "      'equalityExpression',\n",
      "      'andExpression',\n",
      "      'exclusiveOrExpression',\n",
      "      'inclusiveOrExpression',\n",
      "      'logicalAndExpression',\n",
      "      'logicalOrExpression',\n",
      "      'conditionalExpression',\n",
      "      'assignmentExpression',\n",
      "      'assignmentOperator',\n",
      "      'expression',\n",
      "      'constantExpression',\n",
      "      'declaration',\n",
      "      'declarationSpecifiers',\n",
      "      'declarationSpecifiers2',\n",
      "      'declarationSpecifier',\n",
      "      'initDeclaratorList',\n",
      "      'initDeclarator',\n",
      "      'storageClassSpecifier',\n",
      "      'typeSpecifier',\n",
      "      'structOrUnionSpecifier',\n",
      "      'structOrUnion',\n",
      "      'structDeclarationList',\n",
      "      'structDeclaration',\n",
      "      'specifierQualifierList',\n",
      "      'structDeclaratorList',\n",
      "      'structDeclarator',\n",
      "      'enumSpecifier',\n",
      "      'enumeratorList',\n",
      "      'enumerator',\n",
      "      'enumerationConstant',\n",
      "      'atomicTypeSpecifier',\n",
      "      'typeQualifier',\n",
      "      'functionSpecifier',\n",
      "      'alignmentSpecifier',\n",
      "      'declarator',\n",
      "      'directDeclarator',\n",
      "      'gccDeclaratorExtension',\n",
      "      'gccAttributeSpecifier',\n",
      "      'gccAttributeList',\n",
      "      'gccAttribute',\n",
      "      'nestedParenthesesBlock',\n",
      "      'pointer',\n",
      "      'typeQualifierList',\n",
      "      'parameterTypeList',\n",
      "      'parameterList',\n",
      "      'parameterDeclaration',\n",
      "      'identifierList',\n",
      "      'typeName',\n",
      "      'abstractDeclarator',\n",
      "      'directAbstractDeclarator',\n",
      "      'typedefName',\n",
      "      'initializer',\n",
      "      'initializerList',\n",
      "      'designation',\n",
      "      'designatorList',\n",
      "      'designator',\n",
      "      'staticAssertDeclaration',\n",
      "      'statement',\n",
      "      'labeledStatement',\n",
      "      'compoundStatement',\n",
      "      'blockItemList',\n",
      "      'blockItem',\n",
      "      'expressionStatement',\n",
      "      'selectionStatement',\n",
      "      'iterationStatement',\n",
      "      'forCondition',\n",
      "      'forDeclaration',\n",
      "      'forExpression',\n",
      "      'jumpStatement',\n",
      "      'compilationUnit',\n",
      "      'translationUnit',\n",
      "      'externalDeclaration',\n",
      "      'functionDefinition',\n",
      "      'declarationList'\n",
      "    ],\n",
      "    literalNames: [\n",
      "      null,                   \"'__extension__'\", \"'__builtin_va_arg'\",\n",
      "      \"'__builtin_offsetof'\", \"'__m128'\",        \"'__m128d'\",\n",
      "      \"'__m128i'\",            \"'__typeof__'\",    \"'__inline__'\",\n",
      "      \"'__stdcall'\",          \"'__declspec'\",    \"'__asm'\",\n",
      "      \"'__attribute__'\",      \"'__asm__'\",       \"'__volatile__'\",\n",
      "      \"'auto'\",               \"'break'\",         \"'case'\",\n",
      "      \"'char'\",               \"'const'\",         \"'continue'\",\n",
      "      \"'default'\",            \"'do'\",            \"'double'\",\n",
      "      \"'else'\",               \"'enum'\",          \"'extern'\",\n",
      "      \"'float'\",              \"'for'\",           \"'goto'\",\n",
      "      \"'if'\",                 \"'inline'\",        \"'int'\",\n",
      "      \"'long'\",               \"'register'\",      \"'restrict'\",\n",
      "      \"'return'\",             \"'short'\",         \"'signed'\",\n",
      "      \"'sizeof'\",             \"'static'\",        \"'struct'\",\n",
      "      \"'switch'\",             \"'typedef'\",       \"'union'\",\n",
      "      \"'unsigned'\",           \"'void'\",          \"'volatile'\",\n",
      "      \"'while'\",              \"'_Alignas'\",      \"'_Alignof'\",\n",
      "      \"'_Atomic'\",            \"'_Bool'\",         \"'_Complex'\",\n",
      "      \"'_Generic'\",           \"'_Imaginary'\",    \"'_Noreturn'\",\n",
      "      \"'_Static_assert'\",     \"'_Thread_local'\", \"'('\",\n",
      "      \"')'\",                  \"'['\",             \"']'\",\n",
      "      \"'{'\",                  \"'}'\",             \"'<'\",\n",
      "      \"'<='\",                 \"'>'\",             \"'>='\",\n",
      "      \"'<<'\",                 \"'>>'\",            \"'+'\",\n",
      "      \"'++'\",                 \"'-'\",             \"'--'\",\n",
      "      \"'*'\",                  \"'/'\",             \"'%'\",\n",
      "      \"'&'\",                  \"'|'\",             \"'&&'\",\n",
      "      \"'||'\",                 \"'^'\",             \"'!'\",\n",
      "      \"'~'\",                  \"'?'\",             \"':'\",\n",
      "      \"';'\",                  \"','\",             \"'='\",\n",
      "      \"'*='\",                 \"'/='\",            \"'%='\",\n",
      "      \"'+='\",                 \"'-='\",            \"'<<='\",\n",
      "      \"'>>='\",                \"'&='\",            \"'^='\",\n",
      "      \"'|='\",\n",
      "      ... 5 more items\n",
      "    ],\n",
      "    symbolicNames: [\n",
      "      null,               null,          null,\n",
      "      null,               null,          null,\n",
      "      null,               null,          null,\n",
      "      null,               null,          null,\n",
      "      null,               null,          null,\n",
      "      'Auto',             'Break',       'Case',\n",
      "      'Char',             'Const',       'Continue',\n",
      "      'Default',          'Do',          'Double',\n",
      "      'Else',             'Enum',        'Extern',\n",
      "      'Float',            'For',         'Goto',\n",
      "      'If',               'Inline',      'Int',\n",
      "      'Long',             'Register',    'Restrict',\n",
      "      'Return',           'Short',       'Signed',\n",
      "      'Sizeof',           'Static',      'Struct',\n",
      "      'Switch',           'Typedef',     'Union',\n",
      "      'Unsigned',         'Void',        'Volatile',\n",
      "      'While',            'Alignas',     'Alignof',\n",
      "      'Atomic',           'Bool',        'Complex',\n",
      "      'Generic',          'Imaginary',   'Noreturn',\n",
      "      'StaticAssert',     'ThreadLocal', 'LeftParen',\n",
      "      'RightParen',       'LeftBracket', 'RightBracket',\n",
      "      'LeftBrace',        'RightBrace',  'Less',\n",
      "      'LessEqual',        'Greater',     'GreaterEqual',\n",
      "      'LeftShift',        'RightShift',  'Plus',\n",
      "      'PlusPlus',         'Minus',       'MinusMinus',\n",
      "      'Star',             'Div',         'Mod',\n",
      "      'And',              'Or',          'AndAnd',\n",
      "      'OrOr',             'Caret',       'Not',\n",
      "      'Tilde',            'Question',    'Colon',\n",
      "      'Semi',             'Comma',       'Assign',\n",
      "      'StarAssign',       'DivAssign',   'ModAssign',\n",
      "      'PlusAssign',       'MinusAssign', 'LeftShiftAssign',\n",
      "      'RightShiftAssign', 'AndAssign',   'XorAssign',\n",
      "      'OrAssign',\n",
      "      ... 19 more items\n",
      "    ]\n",
      "  }\n",
      "}\n"
     ]
    }
   ],
   "source": [
    "var antlr = require('antlr4')\n",
    "var importer = require('../Core')\n",
    "var {selectCode} = importer.import('select antlr tree')\n",
    "\n",
    "var tree = selectCode('*', '/Users/briancullinan/planet_quake/code/q3_ui/ui_cdkey.c')\n",
    "console.log(tree.compilationUnit())"
   ]
  },
  {
   "cell_type": "code",
   "execution_count": null,
   "metadata": {},
   "outputs": [],
   "source": []
  },
  {
   "cell_type": "markdown",
   "metadata": {
    "heading_collapsed": true
   },
   "source": [
    "#### TODO: transpile to languages and frameworks\n"
   ]
  },
  {
   "cell_type": "code",
   "execution_count": null,
   "metadata": {
    "hidden": true
   },
   "outputs": [],
   "source": [
    "// Each composite transpiler instance has the ability to traverse the parse tree\n",
    "// for a specific language with its 'visit*' methods, and generate output code for \n",
    "// another language with its 'emit*' methods.\n",
    "const getJavascriptVisitor = require('./codegeneration/javascript/Visitor');\n",
    "const getJavaGenerator = require('./codegeneration/java/Generator');\n",
    "const getPythonGenerator = require('./codegeneration/python/Generator');\n",
    "...\n",
    "\n",
    "const loadJSTree = (input) => {\n",
    "/* Lexing and parsing the user input */\n",
    "  ...\n",
    "};\n",
    "\n",
    "/**\n",
    " * Compose a transpiler and return a compile method that will use that transpiler\n",
    " * to visit the tree and return generated code.\n",
    " *\n",
    " * @param {function} loadTree - the method takes in user input and returns a tree.\n",
    " * @param {Visitor} visitor - the input-language visitor.\n",
    " * @param {function} generator - returns a generator that inherits from it’s arg.\n",
    " * \n",
    " * @returns {function} the compile function to be exported\n",
    " */\n",
    "const composeTranspiler = (loadTree, visitor, generator) => {\n",
    "  const Transpiler = generator(visitor);\n",
    "  const transpiler = new Transpiler();\n",
    "\n",
    "  return {\n",
    "    compile: (input) => {\n",
    "      const tree = loadTree(input);\n",
    "      return transpiler.start(tree);\n",
    "    }\n",
    "  };\n",
    "}\n",
    "\n",
    "module.exports = {\n",
    "  javascript: {\n",
    "    java: composeTranspiler(\n",
    "      loadJSTree,\n",
    "      getJavascriptVisitor(JavascriptANTLRVisitor), // Visitor + ANTLR visitor\n",
    "      getJavaGenerator // Method that takes in a superclass, i.e. the visitor\n",
    "    ),\n",
    "    python: composeTranspiler(\n",
    "      loadJSTree,\n",
    "      getJavascriptVisitor(JavascriptANTLRVisitor)),\n",
    "      getPythonGenerator\n",
    "    ),\n",
    "    ...\n",
    "   },\n",
    "   ...\n",
    "}"
   ]
  },
  {
   "cell_type": "markdown",
   "metadata": {},
   "source": [
    "## transpiling tools\n",
    "\n"
   ]
  },
  {
   "cell_type": "markdown",
   "metadata": {
    "heading_collapsed": true
   },
   "source": [
    "### transpile code\n",
    "\n",
    "Pretty nice syntax but does it work on non, C-style languages.\n",
    "\n",
    "This is probably the closest example I could find in recent research:\n",
    "\n",
    "https://blog.scottlogic.com/2016/06/22/xslt-inspired-ast-transforms.html\n",
    "\n",
    "With one small twist. Matches are derived automatically from code in the current language.\n"
   ]
  },
  {
   "cell_type": "markdown",
   "metadata": {
    "heading_collapsed": true,
    "hidden": true
   },
   "source": [
    "#### the code\n",
    "\n",
    "transpile code?"
   ]
  },
  {
   "cell_type": "code",
   "execution_count": null,
   "metadata": {
    "hidden": true
   },
   "outputs": [],
   "source": [
    "var importer = require('../Core')\n",
    "var {htmlToTree} = importer.import('html to tree')\n",
    "var {selectAst} = importer.import('select code tree')\n",
    "\n",
    "function add() {\n",
    "}\n",
    "\n",
    "function replace() {\n",
    "}\n",
    "\n",
    "function remove(ctx) {\n",
    "    if(!Array.isArray(ctx)) {\n",
    "        ctx = [ctx]\n",
    "    }\n",
    "    ctx.forEach(o => {\n",
    "        var body = selectAst([`./parent::*`], o)[0]\n",
    "        body.removeChild(o)\n",
    "    })\n",
    "}\n",
    "\n",
    "function transpile(input, output, code) {\n",
    "    var root\n",
    "    if(Array.isArray(input) && typeof code === 'undefined') {\n",
    "        code = output\n",
    "    }\n",
    "    root = selectAst(`//Program`, code)\n",
    "    input.forEach(i => {\n",
    "        selectAst([...i], root)\n",
    "    })\n",
    "    // TODO: add a feature for parsing default parameters\n",
    "    // TODO: check if tree string and tree dom and tree ast are changed\n",
    "    /*\n",
    "    if()\n",
    "    } else {\n",
    "        root = selectAst(`//Program`, code)\n",
    "        selectAst([input, output], root)\n",
    "    }\n",
    "    */\n",
    "    return root\n",
    "}\n",
    "\n",
    "module.exports = {\n",
    "    transpile,\n",
    "    remove,\n",
    "    replace\n",
    "}\n"
   ]
  },
  {
   "cell_type": "markdown",
   "metadata": {
    "heading_collapsed": true,
    "hidden": true
   },
   "source": [
    "#### test transpiling with core module"
   ]
  },
  {
   "cell_type": "code",
   "execution_count": null,
   "metadata": {
    "hidden": true,
    "scrolled": false
   },
   "outputs": [],
   "source": [
    "var importer = require('../Core')\n",
    "var {replaceCore} = importer.import('replace core requirement')\n",
    "\n",
    "var code = `\n",
    "var importer = require('../Core');\n",
    "var getArrayAST = importer.import('get ast path array');\n",
    "`\n",
    "\n",
    "if(typeof $$ != 'undefined') {\n",
    "    $$.mime({'text/plain': replaceCore(code)})\n",
    "    \n",
    "    /*\n",
    "    expected output \n",
    "var getArrayAST = importer.import('get ast path array');\n",
    "*/\n",
    "    \n",
    "}\n",
    "\n"
   ]
  },
  {
   "cell_type": "markdown",
   "metadata": {
    "heading_collapsed": true,
    "hidden": true
   },
   "source": [
    "#### TODO: test using CSS style\n"
   ]
  },
  {
   "cell_type": "code",
   "execution_count": null,
   "metadata": {
    "hidden": true
   },
   "outputs": [],
   "source": [
    "\n",
    "\n",
    "//\"\"`*[type*='StaticMemberExpression'] > *[name==\"importer\"]`;\n",
    "//var $ = cheerio.load(page);\n"
   ]
  },
  {
   "cell_type": "markdown",
   "metadata": {
    "heading_collapsed": true,
    "hidden": true
   },
   "source": [
    "#### TODO: convert between astq and other tree libraries\n",
    "\n",
    "How does this work\n",
    "\n",
    "https://github.com/coderaiser/estree-to-babel\n",
    "\n"
   ]
  },
  {
   "cell_type": "code",
   "execution_count": null,
   "metadata": {
    "hidden": true
   },
   "outputs": [],
   "source": [
    "\n",
    "var keywords = ['type', 'id', 'params',\n",
    "                'body', 'generator', 'async',\n",
    "                'range', 'expression', 'callee',\n",
    "                'arguments'];\n"
   ]
  },
  {
   "cell_type": "markdown",
   "metadata": {
    "heading_collapsed": true,
    "hidden": true
   },
   "source": [
    "#### TODO: convert trees using this library\n",
    "\n"
   ]
  },
  {
   "cell_type": "code",
   "execution_count": null,
   "metadata": {
    "hidden": true
   },
   "outputs": [],
   "source": [
    "const fs = require('mz/fs');\n",
    "const xpath = require('xpath');\n",
    "const parse5 = require('parse5');\n",
    "const xmlser = require('xmlserializer');\n",
    "const dom = require('xmldom').DOMParser;\n",
    "\n",
    "(async () => {\n",
    "    const html = await fs.readFile('./test.htm');\n",
    "    const document = parse5.parse(html.toString());\n",
    "    const xhtml = xmlser.serializeToString(document);\n",
    "    const doc = new dom().parseFromString(xhtml);\n",
    "    const select = xpath.useNamespaces({\"x\": \"http://www.w3.org/1999/xhtml\"});\n",
    "    const nodes = select(\"//x:a/@href\", doc);\n",
    "    console.log(nodes);\n",
    "})();\n",
    "\n"
   ]
  },
  {
   "cell_type": "markdown",
   "metadata": {
    "heading_collapsed": true
   },
   "source": [
    "### babel transpiler plugin\n",
    "\n",
    "Add a plugin for babel to the babel jupyter notebook can be used.\n"
   ]
  },
  {
   "cell_type": "markdown",
   "metadata": {
    "heading_collapsed": true,
    "hidden": true
   },
   "source": [
    "#### the code\n",
    "\n",
    "babel transpiler?\n"
   ]
  },
  {
   "cell_type": "code",
   "execution_count": null,
   "metadata": {
    "hidden": true
   },
   "outputs": [],
   "source": [
    "var babel = require('babel-core')\n",
    "var toBabel = require('estree-to-babel');\n",
    "var importer = require('../Core')\n",
    "var {selectAst} = importer.import('select code tree')\n",
    "var {selectAcorn} = importer.import('select acorn tree')\n",
    "var {htmlToTree} = importer.import('html to tree')\n",
    "var {addImports} = importer.import('add missing imports')\n",
    "var {replaceCore} = importer.import('replace core requirement')\n",
    "var {replaceImports} = importer.import('replace notebook import')\n",
    "\n",
    "// TODO: convert these to transpiler tools like Add, Replace, Remove\n",
    "var transpilePlugins = [\n",
    "    addImports,\n",
    "    replaceImports,\n",
    "    replaceCore,\n",
    "]\n",
    "\n",
    "function transpileNotebook() {\n",
    "    return {\n",
    "        manipulateOptions(opts, parserOpts) {\n",
    "            opts.parserOpts = {\n",
    "                parser(code, opts) {\n",
    "                    code = transpilePlugins.reduce((code, plugin) => {\n",
    "                        return plugin(code, opts.sourceFileName)\n",
    "                    }, code)\n",
    "                    var ast = toBabel(code)\n",
    "                    return ast\n",
    "                },\n",
    "            };\n",
    "        },\n",
    "    };\n",
    "}\n",
    "\n",
    "function babelTranspile() {\n",
    "    return {\n",
    "        plugins: [\n",
    "            transpileNotebook\n",
    "        ]\n",
    "    }\n",
    "}\n",
    "\n",
    "module.exports = babelTranspile\n",
    "\n"
   ]
  },
  {
   "cell_type": "markdown",
   "metadata": {
    "heading_collapsed": true,
    "hidden": true
   },
   "source": [
    "#### example and test of babel transpiler\n",
    "\n",
    "This would be copied in to babel-jupyter-preset.js and included in .babelrc and used with js-babel jupyter kernel.\n",
    "\n",
    "https://github.com/n-riesco/jp-babel\n",
    "\n"
   ]
  },
  {
   "cell_type": "code",
   "execution_count": null,
   "metadata": {
    "hidden": true
   },
   "outputs": [],
   "source": [
    "var babel = require('babel-core')\n",
    "var importer = require('../Core')\n",
    "var babelTranspile = importer.import('babel transpiler')\n",
    "\n",
    "var out = babel.transform(`\n",
    "// this code is missing an import\n",
    "addImports('// some test code')\n",
    "`, {\n",
    "    presets: [babelTranspile],\n",
    "    plugins: [/* 'estree' */],\n",
    "    filename: 'test_code.js'\n",
    "}).code;\n",
    "\n",
    "console.log(out)\n",
    "\n",
    "/* expected output\n",
    "\n",
    "var addImports = require('./')\n",
    "\n",
    "*/\n"
   ]
  },
  {
   "cell_type": "markdown",
   "metadata": {
    "heading_collapsed": true
   },
   "source": [
    "### TODO: Find all TODO items in code and in JSON notebooks\n",
    "\n",
    "\n"
   ]
  },
  {
   "cell_type": "markdown",
   "metadata": {
    "heading_collapsed": true
   },
   "source": [
    "### TODO: show the power by making a calculator in fewer lines of code"
   ]
  },
  {
   "cell_type": "markdown",
   "metadata": {
    "heading_collapsed": true
   },
   "source": [
    "### TODO: convert between languages\n",
    "\n",
    "Improve on the babel-preset-php pattern of replacing code with a tree, just use templates and the tree creator on regular code blocks\n",
    "\n",
    "\n"
   ]
  },
  {
   "cell_type": "markdown",
   "metadata": {
    "heading_collapsed": true,
    "hidden": true
   },
   "source": [
    "#### convert php with less code\n",
    "\n",
    "\n",
    "https://gitlab.com/kornelski/babel-preset-php/blob/master/lib/trans.js\n"
   ]
  },
  {
   "cell_type": "code",
   "execution_count": null,
   "metadata": {
    "hidden": true,
    "scrolled": false
   },
   "outputs": [],
   "source": [
    "\n",
    "// make sure this format works both directions\n",
    "// from PHP to javascript\n",
    "var fromPhpToJavascropt = {\n",
    "    '//CallExpression[@name=\"array_shift\"]': {\n",
    "        \n",
    "    }\n",
    "}\n",
    "\n",
    "var fromJavascriptToPhp = {\n",
    "    \n",
    "}\n",
    "\n",
    "var phpToJs = [\n",
    "    [() => array_shift(arr), () => arr.shift()],\n",
    "    [() => strpos(str, match), () => { // has parameters so call this function instead?\n",
    "        var i = str.indexOf(match);\n",
    "        return i > -1 ? i : false}],\n",
    "    [() => substr(str, start, length), () => str.substr(start, length)],\n",
    "    [() => is_numeric(num), () => !isNaN(parseInt(num)) || !isNaN(parseFloat(num))],\n",
    "    [() => abs(), () => Math.abs()], // doesn't mess with parameters\n",
    "    // Call Identifier name match done automatically\n",
    "    //[['abs', 'sin', 'cos', 'pow', 'floor', 'ceil', 'round', 'max', 'min'], {\n",
    "    //    `//*[contains(@type, \"Call\")`: (id) => Math.id(), // optional ()\n",
    "    //}]\n",
    "    // above is shorthand for this:\n",
    "    [(id = ['abs', 'sin', 'cos',\n",
    "            'pow', 'floor', 'ceil',\n",
    "            'round', 'max', 'min']) => id(), {\n",
    "        `//*[contains(@type, \"Call\")`: (id) => Math.id(), // optional ()\n",
    "    }]\n",
    "\n",
    "]\n",
    "\n",
    "// this will work as long as PHP syntax is also called a Call or Member or Indentifier\n",
    "var jsToPhp = phpToJs.map(d => [d[1], d[0]])\n"
   ]
  },
  {
   "cell_type": "markdown",
   "metadata": {
    "heading_collapsed": true,
    "hidden": true
   },
   "source": [
    "#### convert this jupyter kernel to matlab\n",
    "\n",
    "https://github.com/WolframResearch/WolframLanguageForJupyter/blob/master/WolframLanguageForJupyter/Resources/SocketUtilities.wl\n",
    "\n"
   ]
  },
  {
   "cell_type": "markdown",
   "metadata": {
    "hidden": true
   },
   "source": [
    "```\n",
    "\tNeeds[\"ZeroMQLink`\"]; (* socketWriteFunction, ZeroMQLink`Private`ZMQWriteInternal,\n",
    "\t\t\t\t\t\t\t\tZeroMQLink`ZMQSocketWriteMessage *)\n",
    "\n",
    "(************************************\n",
    "\tprivate symbols\n",
    "*************************************)\n",
    "\n",
    "\t(* begin the private context for WolframLanguageForJupyter *)\n",
    "\tBegin[\"`Private`\"];\n",
    "\n",
    "(************************************\n",
    "\tutility for writing a part\n",
    "\t\tof a message frame to a\n",
    "\t\tsocket\n",
    "*************************************)\n",
    "\n",
    "\t(* write a part of a message frame to a socket *)\n",
    "\t(* adjust for differences in Wolfram Engine version *)\n",
    "\tIf[TrueQ[$VersionNumber < 12.0],\n",
    "\t\tOptions[socketWriteFunction] = {\"Asynchronous\"->False,\"Multipart\"->False};\n",
    "\t\tsocketWriteFunction[sock_, data_List, opts:OptionsPattern[]] := ZeroMQLink`Private`ZMQWriteInternal[sock, data, opts];\n",
    "\t\tsocketWriteFunction[sock_, data_ByteArray, rest___]:= socketWriteFunction[sock, Normal[data], rest]\n",
    "\t\t,\n",
    "\t\tsocketWriteFunction = ZeroMQLink`ZMQSocketWriteMessage\n",
    "\t];\n",
    "\n",
    "(************************************\n",
    "\tutility for writing a message\n",
    "\t\tframe to a socket\n",
    "*************************************)\n",
    "\n",
    "\t(* write a message frame that matches Jupyter's messaging protocols to a socket *)\n",
    "\tsendFrame[socket_, frame_Association] := Module[{},\n",
    "\t\t\n",
    "\t\t(* see https://jupyter-client.readthedocs.io/en/stable/messaging.html for an explanation of the below *)\n",
    "\t\t\n",
    "\t\tsocketWriteFunction[\n",
    "\t\t\tsocket, \n",
    "\t\t\tframe[\"ident\"],\n",
    "\t\t\t\"Multipart\" -> True\n",
    "\t\t];\n",
    "\n",
    "\t\tsocketWriteFunction[\n",
    "\t\t\tsocket, \n",
    "\t\t\tStringToByteArray[#1],\n",
    "\t\t\t\"Multipart\" -> True\n",
    "\t\t]& /@ Lookup[frame, {\"idsmsg\", \"signature\", \"header\", \"pheader\", \"metadata\"}];\n",
    "\n",
    "\t\tsocketWriteFunction[\n",
    "\t\t\tsocket, \n",
    "\t\t\tStringToByteArray[frame[\"content\"]],\n",
    "\t\t\t\"Multipart\" -> False\n",
    "\t\t];\n",
    "\t];\n",
    "    \n",
    "    ```"
   ]
  },
  {
   "cell_type": "code",
   "execution_count": null,
   "metadata": {
    "hidden": true
   },
   "outputs": [],
   "source": []
  },
  {
   "cell_type": "markdown",
   "metadata": {
    "heading_collapsed": true,
    "hidden": true
   },
   "source": [
    "#### translation formats test\n",
    "\n",
    "Should only need one description format from notebook module exporter to improve\n",
    "\n",
    "jison and bison specifications could be imported and used automatically\n",
    "\n",
    "https://www.npmjs.com/package/jison\n",
    "\n",
    "https://www.gnu.org/software/bison/\n",
    "\n",
    "Then I won't need jsdom, or any custom language stuff\n"
   ]
  },
  {
   "cell_type": "code",
   "execution_count": null,
   "metadata": {
    "hidden": true
   },
   "outputs": [],
   "source": [
    "\n",
    "// format I used on study sauce templates\n",
    "\n",
    "var array_shift = function (arr) {return arr.shift();};\n",
    "var strpos = function (str, match) {var i; return (i = str.indexOf(match)) > -1 ? i : false;};\n",
    "var substr = function (str, start, length) {return str.substr(start, length);};\n",
    "var is_numeric = function (num) {return !isNaN(parseInt(num)) || !isNaN(parseFloat(num));};\n",
    "var strlen = function (str) {return (''+(str || '')).length;};\n",
    "var array_merge = function () {\n",
    "var isObject = typeof arguments[0] == 'object' && arguments[0] != null && arguments[0].constructor != Array;\n",
    "var args = [isObject ? {} : []];\n",
    "for(var a = 0; a < arguments.length; a++) {\n",
    "    args[args.length] = arguments[a];\n",
    "};\n",
    "return args.reduce(function (a, b) {\n",
    "    return isObject ? $.extend(a, b) : $.merge(a, b);\n",
    "});\n",
    "};\n",
    "var round = function (num, digits) {\n",
    "    if(digits > 0) {\n",
    "        return Math.round(num * (10 * (digits ? digits : 0))) / (10 * (digits ? digits : 0));\n",
    "    }\n",
    "    return Math.round(num);\n",
    "};\n",
    "var is_string = function (obj) {return typeof obj == 'string';};\n",
    "var is_a = function (obj, typeStr) { return typeof obj == 'object' && obj != null && obj.constructor.name == typeStr();};\n",
    "var intval = function (str) {var result = parseInt(str); return isNaN(result) ? 0 : result;};\n",
    "var trim = function (str) {return (str || '').trim();};\n",
    "var explode = function (del, str) {return (str || '').split(del);};\n",
    "var array_slice = function (arr, start, length) { return (arr || []).slice(start, length); };\n",
    "var array_splice = function (arr, start, length) { return arr.splice(start, length); };\n",
    "var array_search = function (item, arr) { var index = (arr || []).indexOf(item); return index == -1 ? false : index; };\n",
    "var count = function (arr) { return (arr || []).length; };\n",
    "var in_array = function (needle, arr) { return (arr || []).indexOf(needle) > -1; };\n",
    "var array_values = function (arr) { return (arr || []).slice(0); };\n",
    "var is_array = function (obj) { return typeof obj == 'array' || typeof obj == 'object'; }; // PHP and javascript don't make a distinction between arrays and objects syntax wise using [property], all php objects should be restful anyways\n",
    "var array_keys = function (obj) {var result=[]; for (var k in obj) { if (obj.hasOwnProperty(k)) { result[result.length] = k } } return result; };\n",
    "var implode = function (sep, arr) {return (arr || []).join(sep);};\n",
    "var preg_replace = function (needle, replacement, subject) {\n",
    "    return (subject || '').replace(new RegExp(needle.split('/').slice(1, -1).join('/'), needle.split('/').slice(-1)[0] + 'g'), replacement);\n",
    "};\n",
    "var number_format = function (num, digits) { return parseFloat(num).toFixed(digits);};\n",
    "var preg_match = function (needle, subject, matches) {\n",
    "    var result = (new RegExp(needle.split('/').slice(1, -1).join('/'), needle.split('/').slice(-1)[0] + 'g')).exec(subject);\n",
    "    if(result == null) {\n",
    "        return 0;\n",
    "    }\n",
    "    if(typeof matches != 'undefined') {\n",
    "        for(var m = 0; m < result.length; m++) {\n",
    "            matches[m] = result[m];\n",
    "        }\n",
    "    }\n",
    "    return result.length;\n",
    "};\n",
    "var ucfirst = function (str) {return (str || '').substr(0, 1).toLocaleUpperCase() + str.substr(1);};\n",
    "var str_replace = function (needle, replacement, haystack) {return (haystack || '').replace(new RegExp(RegExp.escape(needle), 'g'), replacement);};\n",
    "var call_user_func_array = function (context, params) {return context[0][context[1]].apply(context[0], params);};\n",
    "var print = function (s) { window.views.__output += s };\n",
    "var strtolower = function(s) { return (s || '').toLocaleLowerCase(); };\n",
    "var empty = function(s) {\n",
    "    if(typeof s == 'undefined' || ('' + s).trim() == ''\n",
    "        || s === false || s === 'false' || s == null || s === 0\n",
    "        || (typeof s == 'object' && s.constructor == Array && s.length == 0)) {\n",
    "        return true;\n",
    "    }\n",
    "    if(typeof s == 'object') {\n",
    "        for(var p in s) {\n",
    "            if(s.hasOwnProperty(p)) {\n",
    "                return false;\n",
    "            }\n",
    "        }\n",
    "    }\n",
    "};\n",
    "var json_encode = JSON.stringify;\n",
    "var method_exists = function (s,m) { return typeof s == 'object' && typeof s[m] == 'function'; };\n",
    "var isset = function (s) { return typeof s != 'undefined'; };\n",
    "\n"
   ]
  },
  {
   "cell_type": "markdown",
   "metadata": {
    "heading_collapsed": true
   },
   "source": [
    "### TODO: eval detector"
   ]
  },
  {
   "cell_type": "code",
   "execution_count": null,
   "metadata": {
    "hidden": true
   },
   "outputs": [],
   "source": []
  },
  {
   "cell_type": "markdown",
   "metadata": {
    "heading_collapsed": true
   },
   "source": [
    "### TODO: translate patterns in to other languages\n"
   ]
  },
  {
   "cell_type": "code",
   "execution_count": null,
   "metadata": {
    "hidden": true
   },
   "outputs": [],
   "source": []
  },
  {
   "cell_type": "markdown",
   "metadata": {
    "heading_collapsed": true
   },
   "source": [
    "### TODO: detect weird language situations like typings and errors\n",
    "\n",
    "TODO: import falsey javascript in to this notebook?\n"
   ]
  },
  {
   "cell_type": "code",
   "execution_count": null,
   "metadata": {
    "hidden": true
   },
   "outputs": [],
   "source": []
  },
  {
   "cell_type": "markdown",
   "metadata": {
    "heading_collapsed": true
   },
   "source": [
    "### TODO: automatically console.log values involved in assertions\n",
    "\n",
    "So annoying to run tests multiple times to debug.\n",
    "\n",
    "TODO: Depends on working aspects\n",
    "\n"
   ]
  },
  {
   "cell_type": "markdown",
   "metadata": {
    "heading_collapsed": true,
    "hidden": true
   },
   "source": [
    "#### more information\n",
    "\n",
    "Partly derived from \n",
    "\n",
    "https://github.com/gotwarlost/istanbul/blob/master/lib/instrumenter.js\n",
    "\n",
    "\n"
   ]
  },
  {
   "cell_type": "markdown",
   "metadata": {
    "hidden": true
   },
   "source": [
    "```\n",
    "this.walker = new Walker({\n",
    "ArrowFunctionExpression: [ this.arrowBlockConverter ],\n",
    "ExpressionStatement: this.coverStatement,\n",
    "ExportNamedDeclaration: this.coverExport,\n",
    "BreakStatement: this.coverStatement,\n",
    "ContinueStatement: this.coverStatement,\n",
    "DebuggerStatement: this.coverStatement,\n",
    "ReturnStatement: this.coverStatement,\n",
    "ThrowStatement: this.coverStatement,\n",
    "TryStatement: [ this.paranoidHandlerCheck, this.coverStatement],\n",
    "VariableDeclaration: this.coverStatement,\n",
    "IfStatement: [ this.ifBlockConverter, this.coverStatement, this.ifBranchInjector ],\n",
    "ForStatement: [ this.skipInit, this.loopBlockConverter, this.coverStatement ],\n",
    "ForInStatement: [ this.skipLeft, this.loopBlockConverter, this.coverStatement ],\n",
    "ForOfStatement: [ this.skipLeft, this.loopBlockConverter, this.coverStatement ],\n",
    "WhileStatement: [ this.loopBlockConverter, this.coverStatement ],\n",
    "DoWhileStatement: [ this.loopBlockConverter, this.coverStatement ],\n",
    "SwitchStatement: [ this.coverStatement, this.switchBranchInjector ],\n",
    "SwitchCase: [ this.switchCaseInjector ],\n",
    "WithStatement: [ this.withBlockConverter, this.coverStatement ],\n",
    "FunctionDeclaration: [ this.coverFunction, this.coverStatement ],\n",
    "FunctionExpression: this.coverFunction,\n",
    "LabeledStatement: this.coverStatement,\n",
    "ConditionalExpression: this.conditionalBranchInjector,\n",
    "LogicalExpression: this.logicalExpressionBranchInjector,\n",
    "ObjectExpression: this.maybeAddType,\n",
    "MetaProperty: this.coverMetaProperty,\n",
    "}, this.extractCurrentHint, this, this.opts.walkDebug);\n",
    "```\n"
   ]
  },
  {
   "cell_type": "markdown",
   "metadata": {
    "heading_collapsed": true,
    "hidden": true
   },
   "source": [
    "#### the code\n",
    "\n",
    "Add logging messages to every statement so the logger can suppress the ones we aren't working on.\n",
    "\n"
   ]
  },
  {
   "cell_type": "code",
   "execution_count": null,
   "metadata": {
    "hidden": true
   },
   "outputs": [],
   "source": []
  },
  {
   "cell_type": "markdown",
   "metadata": {
    "heading_collapsed": true
   },
   "source": [
    "### TODO: automatically detect where logging is needed\n",
    "\n"
   ]
  },
  {
   "cell_type": "markdown",
   "metadata": {
    "hidden": true
   },
   "source": [
    "display safe object?\n",
    "\n",
    "TODO: move this to languages and use with transpiler to create nice logging scripts. Every company I worked for said their logging isn't good enough to be helpful, maybe something can be done automatically in code.\n"
   ]
  },
  {
   "cell_type": "code",
   "execution_count": null,
   "metadata": {
    "hidden": true
   },
   "outputs": [],
   "source": [
    "function toLogString(vals) {\n",
    "  return vals.map(val => {\n",
    "    if ('string' === typeof val) return val\n",
    "    return toSafeString(val)\n",
    "  }).join(' ') + '\\n'\n",
    "}\n",
    "\n",
    "function toSafeString(val) {\n",
    "  let pre = ''\n",
    "  if ('object' === typeof val && val && val.constructor && val.constructor.name !== 'Object') {\n",
    "    pre = '[' + val.constructor.name + '] '\n",
    "  }\n",
    "  if ('function' === typeof val) {\n",
    "    return val + ''\n",
    "  }\n",
    "  try {\n",
    "    return pre + JSON.stringify(val)\n",
    "  } catch (e) {}\n",
    "  try {\n",
    "    return pre + '' + val\n",
    "  } catch (e) {}\n",
    "  return pre + '[value cannot be rendered]'\n",
    "}\n",
    "\n"
   ]
  },
  {
   "cell_type": "markdown",
   "metadata": {
    "heading_collapsed": true
   },
   "source": [
    "### TODO: derive imports from usage\n",
    "\n",
    "The ```require()``` is used and automatically fix ```{expanded}``` or ```assignment =``` imports.\n",
    "\n",
    "So annoying to get `[This] is not a function`, just because you forgot to ```{expand}``` an import. Why do frameworks even do this, it's stupid.\n"
   ]
  },
  {
   "cell_type": "code",
   "execution_count": null,
   "metadata": {
    "hidden": true
   },
   "outputs": [],
   "source": []
  },
  {
   "cell_type": "markdown",
   "metadata": {
    "heading_collapsed": true
   },
   "source": [
    "## TODO: get debugging working in all languages / jupyter\n",
    "\n",
    "Using transpiling and injection:\n",
    "\n",
    "https://github.com/gotwarlost/istanbul/blob/master/lib/instrumenter.js\n",
    "\n",
    "TODO: depends on working aspects.\n"
   ]
  },
  {
   "cell_type": "code",
   "execution_count": null,
   "metadata": {
    "hidden": true
   },
   "outputs": [],
   "source": []
  },
  {
   "cell_type": "markdown",
   "metadata": {
    "heading_collapsed": true
   },
   "source": [
    "## TODO: syntax, completion, evaluation, quality tools, similar to the crap that is automated on github."
   ]
  },
  {
   "cell_type": "code",
   "execution_count": null,
   "metadata": {
    "hidden": true
   },
   "outputs": [],
   "source": []
  },
  {
   "cell_type": "markdown",
   "metadata": {
    "hidden": true
   },
   "source": []
  },
  {
   "cell_type": "code",
   "execution_count": null,
   "metadata": {
    "hidden": true
   },
   "outputs": [],
   "source": []
  }
 ],
 "metadata": {
  "kernelspec": {
   "display_name": "Javascript (Node.js)",
   "language": "javascript",
   "name": "javascript"
  },
  "language_info": {
   "file_extension": ".js",
   "mimetype": "application/javascript",
   "name": "javascript",
   "version": "12.7.0"
  }
 },
 "nbformat": 4,
 "nbformat_minor": 2
}
