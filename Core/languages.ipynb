{
 "cells": [
  {
   "cell_type": "markdown",
   "metadata": {},
   "source": [
    "# language tools\n",
    "\n",
    "Converting between languages, parsing languages computer languages, demonstrating tools like syntax hilighters, and outputting the diffed code\n"
   ]
  },
  {
   "cell_type": "code",
   "execution_count": null,
   "metadata": {},
   "outputs": [],
   "source": []
  },
  {
   "cell_type": "markdown",
   "metadata": {},
   "source": [
    "TODO: use syntax tree to convert from and to any language\n",
    "\n",
    "\n",
    "use a common library for language generation \n",
    "\n",
    "https://bitbucket.org/birkenfeld/pygments-main/src/default/pygments/lexers/haskell.py\n",
    "\n",
    "https://github.com/PrismJS/prism/blob/master/components/prism-markdown.js\n",
    "\n",
    "http://qbnz.com/highlighter/\n",
    "\n",
    "https://stackoverflow.com/questions/171924/how-do-i-syntax-check-a-bash-script-without-running-it\n",
    "\n",
    "bash -n scriptname\n",
    "\n",
    "Improve on the babel-preset-php pattern of replacing code with a tree, just use templates and the tree creator on regular code blocks\n",
    "\n",
    "https://gitlab.com/kornelski/babel-preset-php/blob/master/lib/trans.js\n",
    "\n",
    "```\n",
    "function translateAssignBlock(node, scope) {\n",
    "    if (isVariableCreatingAssignment(node, scope)) {\n",
    "        return makeVariableDeclaration(node.left.name, \"var\", translateExpr(node.right, scope), node.loc, scope);\n",
    "    }\n",
    "    return wrapInStatement(translateAssign(node, scope));\n",
    "}\n",
    "```\n",
    "\n",
    "should be something like:\n",
    "```\n",
    "var ASSIGMENT_EXPRESSION = (leftName, right) => {\n",
    "    var leftName = right;\n",
    "}\n",
    "\n",
    "function translateAssignBlock(node, scope) {\n",
    "    if(//Assignment[/Identifier].includes(node)) {\n",
    "        return getAST(ASSIGMENT_EXPRESSION, node)\n",
    "    }\n",
    "    return getAST(STATEMENT, node)\n",
    "}\n",
    "```\n",
    "\n",
    "that way when they are written in multiple languages we can transpile any language, maybe\n",
    "\n",
    "use this library as a reference for lots of languages https://github.com/seaneshbaugh/rosetta-euler\n",
    "\n",
    "automatically translate https://projecteuler.net/archives to any language\n",
    "\n",
    "\n",
    "TODO: use babel and a transpiling kernel from babel-preset-php, \n",
    "\n",
    "TODO: make a generic translator that does manipulations on queries based on templates\n",
    "\n",
    "\n",
    "\n",
    "\n"
   ]
  },
  {
   "cell_type": "code",
   "execution_count": null,
   "metadata": {},
   "outputs": [],
   "source": [
    "// sample definition for MatLab\n",
    "\n"
   ]
  },
  {
   "cell_type": "code",
   "execution_count": null,
   "metadata": {},
   "outputs": [],
   "source": [
    "// definition for nodejs\n",
    "\n"
   ]
  },
  {
   "cell_type": "markdown",
   "metadata": {
    "heading_collapsed": true
   },
   "source": [
    "## TODO: babel transpiler plugin\n",
    "\n"
   ]
  },
  {
   "cell_type": "markdown",
   "metadata": {},
   "source": [
    "## syntax tree tools?\n",
    "\n",
    "\n"
   ]
  },
  {
   "cell_type": "markdown",
   "metadata": {
    "heading_collapsed": true
   },
   "source": [
    "### justification\n",
    "\n",
    "Just so it can be parsed with XPath instead. Get them all working the same!\n",
    "\n"
   ]
  },
  {
   "cell_type": "markdown",
   "metadata": {
    "hidden": true
   },
   "source": [
    "\n",
    "Crap modules I won't need any more:\n",
    "- css\n",
    "- ASTQ\n",
    "- Acorn\n",
    "- esprima\n",
    "- escodegen\n",
    "- esquery\n",
    "- jsonpath\n",
    "- jsonquery\n",
    "- jspath\n",
    "- json:select\n",
    "- jsel\n",
    "\n",
    "TODO: get rid of jsonpath-plus, jsonstream, jspath, \n",
    "\n"
   ]
  },
  {
   "cell_type": "markdown",
   "metadata": {
    "hidden": true
   },
   "source": [
    "```\n",
    "/* expected output `\n",
    "[ Script {\n",
    "    type: 'Program',\n",
    "    body: [ [FunctionDeclaration], [ExpressionStatement] ],\n",
    "    sourceType: 'script',\n",
    "    range: [ 1, 45 ],\n",
    "    comments: [],\n",
    "    tokens:\n",
    "\n",
    "<program type=\"program\">\n",
    "    <function>\n",
    "    </function>\n",
    "    <expression>\n",
    "    </expression>\n",
    "</program>\n",
    "\n",
    "*/\n",
    "```\n",
    "\n"
   ]
  },
  {
   "cell_type": "markdown",
   "metadata": {
    "heading_collapsed": true
   },
   "source": [
    "### convert a syntax tree to html?\n",
    "\n",
    "Reasoning. Every atom is made up of smaller component parts. This conversion creates a tree that breaks down to &lt;elements&gt; and attr=\"ibutes\", just like neutrons and protons.\n"
   ]
  },
  {
   "cell_type": "code",
   "execution_count": 158,
   "metadata": {
    "hidden": true,
    "scrolled": true
   },
   "outputs": [
    {
     "data": {
      "text/plain": [
       "[Function: elementToStatement]"
      ]
     },
     "execution_count": 158,
     "metadata": {},
     "output_type": "execute_result"
    }
   ],
   "source": [
    "\n",
    "function statementToElement(statement) {\n",
    "    var {type} = statement;\n",
    "    var result = ``, attrs = ``;\n",
    "    var isList = true;\n",
    "    for(var i in statement) {\n",
    "        if(parseInt(i) + '' === i + '') {\n",
    "            result += statementToElement(statement[i])\n",
    "            continue;\n",
    "        }\n",
    "        isList = false;\n",
    "        // if the property is an Object, print out as a child\n",
    "        // TODO: replace this type property when converting other trees\n",
    "        //   should be like getEl() statementToElement(() => el.type)\n",
    "        if(typeof statement[i].type !== 'undefined'\n",
    "           || (typeof statement[i][0] !== 'undefined'\n",
    "        // or if the property is an Array, print them out as child elements\n",
    "           && typeof statement[i][0].type !== 'undefined')) {\n",
    "            // print out the other keys just for fun matching\n",
    "            attrs +=  `\n",
    "${i}=\"\" ${i}-type=\"${typeof statement[i]}\"`;\n",
    "            result += `<${i}>${statementToElement(statement[i])}</${i}>`\n",
    "        } else {\n",
    "            // if the property is not an object, i.e. native types\n",
    "            attrs +=  `\n",
    "${i}=\"${statement[i]}\" ${i}-type=\"${typeof statement[i]}\"`\n",
    "        }\n",
    "    }\n",
    "    \n",
    "    return isList ? result : `\n",
    "<${type}${attrs}>${result}</${type}>`\n",
    "}\n",
    "\n",
    "module.exports = elementToStatement;\n"
   ]
  },
  {
   "cell_type": "markdown",
   "metadata": {},
   "source": [
    "### convert an html tree to objects?\n",
    "\n"
   ]
  },
  {
   "cell_type": "code",
   "execution_count": 159,
   "metadata": {},
   "outputs": [
    {
     "data": {
      "text/plain": [
       "[Function: statementToElement]"
      ]
     },
     "execution_count": 159,
     "metadata": {},
     "output_type": "execute_result"
    }
   ],
   "source": [
    "\n",
    "// TODO: create a pattern same as notebook markdown in core, accumulate\n",
    "function accumulateComments(nodes) {\n",
    "    var commentBuffer = []\n",
    "    return nodes.reduce((acc, n) => {\n",
    "        if(typeof n !== 'object') {\n",
    "            commentBuffer.push[n];\n",
    "        } else {\n",
    "            n.comments = commentBuffer;\n",
    "            commentBuffer = [];\n",
    "            acc.push(n);\n",
    "        }\n",
    "        return acc;\n",
    "    }, []);\n",
    "}\n",
    "\n",
    "// expects a string or a tree from JSDOM\n",
    "function elementToStatement(body) {\n",
    "    if(typeof body === 'string') {\n",
    "        var dom = new JSDOM(body);\n",
    "        body = dom.window.document.body;\n",
    "    }\n",
    "    if(body.nodeName === '#text') {\n",
    "        return body.nodeValue;\n",
    "    }\n",
    "    var attrs = body.getAttributeNames()\n",
    "        .filter(a => a.substr(-5) === '-type');\n",
    "    if(attrs.length === 0) {\n",
    "        var commentBuffer\n",
    "        return Array.from(body.childNodes)\n",
    "            .map(c => elementToStatement(c));\n",
    "        return accumulateComments()\n",
    "    }\n",
    "    var result = attrs.reduce((obj, p) => {\n",
    "        var childObject = Array.from(body.childNodes)\n",
    "           .filter(n => n.nodeName.toLowerCase() === p.toLowerCase())[0];\n",
    "        var type = body.getAttribute(p + '-type');\n",
    "        console.log(type)\n",
    "        if(childObject) {\n",
    "            // converted from an array of childNodes above\n",
    "            var children = elementToStatement(childObject)\n",
    "            obj[p] = type === 'object' ? children[0] : children;\n",
    "        } else {\n",
    "            obj[p] = body.getAttribute(p);\n",
    "        }\n",
    "        return obj;\n",
    "    }, {})\n",
    "    return result;\n",
    "}\n",
    "\n",
    "module.exports = statementToElement;\n",
    "\n"
   ]
  },
  {
   "cell_type": "markdown",
   "metadata": {},
   "source": [
    "#### test tree to html?"
   ]
  },
  {
   "cell_type": "code",
   "execution_count": 161,
   "metadata": {
    "scrolled": false
   },
   "outputs": [
    {
     "name": "stdout",
     "output_type": "stream",
     "text": [
      "[ FunctionDeclaration {\n",
      "    type: 'FunctionDeclaration',\n",
      "    id:\n",
      "     Identifier { type: 'Identifier', name: 'name', range: [Array] },\n",
      "    params: [ [Identifier] ],\n",
      "    body:\n",
      "     BlockStatement { type: 'BlockStatement', body: [], range: [Array] },\n",
      "    generator: false,\n",
      "    expression: false,\n",
      "    async: false,\n",
      "    range: [ 1, 31 ] },\n",
      "  ExpressionStatement {\n",
      "    type: 'ExpressionStatement',\n",
      "    expression:\n",
      "     CallExpression {\n",
      "       type: 'CallExpression',\n",
      "       callee: [StaticMemberExpression],\n",
      "       arguments: [],\n",
      "       range: [Array] },\n",
      "    range: [ 32, 45 ] } ]\n",
      "[ { type: 'Keyword', value: 'function', range: [ 1, 9 ] },\n",
      "  { type: 'Identifier', value: 'name', range: [ 10, 14 ] },\n",
      "  { type: 'Punctuator', value: '(', range: [ 14, 15 ] },\n",
      "  { type: 'Identifier', value: 'params', range: [ 15, 21 ] },\n",
      "  { type: 'Punctuator', value: ')', range: [ 21, 22 ] },\n",
      "  { type: 'Punctuator', value: '{', range: [ 23, 24 ] },\n",
      "  { type: 'Punctuator', value: '}', range: [ 30, 31 ] },\n",
      "  { type: 'Identifier', value: 'console', range: [ 32, 39 ] },\n",
      "  { type: 'Punctuator', value: '.', range: [ 39, 40 ] },\n",
      "  { type: 'Identifier', value: 'log', range: [ 40, 43 ] },\n",
      "  { type: 'Punctuator', value: '(', range: [ 43, 44 ] },\n",
      "  { type: 'Punctuator', value: ')', range: [ 44, 45 ] } ]\n",
      "10\n",
      "1\n",
      "function name(params) {\n",
      "}\n",
      "console.log();\n",
      "null\n",
      "null\n",
      "null\n",
      "null\n",
      "null\n",
      "null\n",
      "{ 'type-type': 'string',\n",
      "  'body-type': 'object',\n",
      "  'sourcetype-type': 'string',\n",
      "  'range-type': 'object',\n",
      "  'comments-type': 'object',\n",
      "  'tokens-type': 'object' }\n"
     ]
    },
    {
     "data": {
      "text/html": [
       "<pre>\n",
       "&lt;Program\n",
       "type=&quot;Program&quot; type-type=&quot;string&quot;\n",
       "body=&quot;&quot; body-type=&quot;object&quot;\n",
       "sourceType=&quot;script&quot; sourceType-type=&quot;string&quot;\n",
       "range=&quot;1,45&quot; range-type=&quot;object&quot;\n",
       "comments=&quot;&quot; comments-type=&quot;object&quot;\n",
       "tokens=&quot;&quot; tokens-type=&quot;object&quot;&gt;&lt;body&gt;\n",
       "&lt;FunctionDeclaration\n",
       "type=&quot;FunctionDeclaration&quot; type-type=&quot;string&quot;\n",
       "id=&quot;&quot; id-type=&quot;object&quot;\n",
       "params=&quot;&quot; params-type=&quot;object&quot;\n",
       "body=&quot;&quot; body-type=&quot;object&quot;\n",
       "generator=&quot;false&quot; generator-type=&quot;boolean&quot;\n",
       "expression=&quot;false&quot; expression-type=&quot;boolean&quot;\n",
       "async=&quot;false&quot; async-type=&quot;boolean&quot;\n",
       "range=&quot;1,31&quot; range-type=&quot;object&quot;&gt;&lt;id&gt;\n",
       "&lt;Identifier\n",
       "type=&quot;Identifier&quot; type-type=&quot;string&quot;\n",
       "name=&quot;name&quot; name-type=&quot;string&quot;\n",
       "range=&quot;10,14&quot; range-type=&quot;object&quot;&gt;&lt;/Identifier&gt;&lt;/id&gt;&lt;params&gt;\n",
       "&lt;Identifier\n",
       "type=&quot;Identifier&quot; type-type=&quot;string&quot;\n",
       "name=&quot;params&quot; name-type=&quot;string&quot;\n",
       "range=&quot;15,21&quot; range-type=&quot;object&quot;&gt;&lt;/Identifier&gt;&lt;/params&gt;&lt;body&gt;\n",
       "&lt;BlockStatement\n",
       "type=&quot;BlockStatement&quot; type-type=&quot;string&quot;\n",
       "body=&quot;&quot; body-type=&quot;object&quot;\n",
       "range=&quot;23,31&quot; range-type=&quot;object&quot;&gt;&lt;/BlockStatement&gt;&lt;/body&gt;&lt;/FunctionDeclaration&gt;\n",
       "&lt;ExpressionStatement\n",
       "type=&quot;ExpressionStatement&quot; type-type=&quot;string&quot;\n",
       "expression=&quot;&quot; expression-type=&quot;object&quot;\n",
       "range=&quot;32,45&quot; range-type=&quot;object&quot;&gt;&lt;expression&gt;\n",
       "&lt;CallExpression\n",
       "type=&quot;CallExpression&quot; type-type=&quot;string&quot;\n",
       "callee=&quot;&quot; callee-type=&quot;object&quot;\n",
       "arguments=&quot;&quot; arguments-type=&quot;object&quot;\n",
       "range=&quot;32,45&quot; range-type=&quot;object&quot;&gt;&lt;callee&gt;\n",
       "&lt;MemberExpression\n",
       "type=&quot;MemberExpression&quot; type-type=&quot;string&quot;\n",
       "computed=&quot;false&quot; computed-type=&quot;boolean&quot;\n",
       "object=&quot;&quot; object-type=&quot;object&quot;\n",
       "property=&quot;&quot; property-type=&quot;object&quot;\n",
       "range=&quot;32,43&quot; range-type=&quot;object&quot;&gt;&lt;object&gt;\n",
       "&lt;Identifier\n",
       "type=&quot;Identifier&quot; type-type=&quot;string&quot;\n",
       "name=&quot;console&quot; name-type=&quot;string&quot;\n",
       "range=&quot;32,39&quot; range-type=&quot;object&quot;&gt;&lt;/Identifier&gt;&lt;/object&gt;&lt;property&gt;\n",
       "&lt;Identifier\n",
       "type=&quot;Identifier&quot; type-type=&quot;string&quot;\n",
       "name=&quot;log&quot; name-type=&quot;string&quot;\n",
       "range=&quot;40,43&quot; range-type=&quot;object&quot;&gt;&lt;/Identifier&gt;&lt;/property&gt;&lt;/MemberExpression&gt;&lt;/callee&gt;&lt;/CallExpression&gt;&lt;/expression&gt;&lt;/ExpressionStatement&gt;&lt;/body&gt;&lt;tokens&gt;\n",
       "&lt;Keyword\n",
       "type=&quot;Keyword&quot; type-type=&quot;string&quot;\n",
       "value=&quot;function&quot; value-type=&quot;string&quot;\n",
       "range=&quot;1,9&quot; range-type=&quot;object&quot;&gt;&lt;/Keyword&gt;\n",
       "&lt;Identifier\n",
       "type=&quot;Identifier&quot; type-type=&quot;string&quot;\n",
       "value=&quot;name&quot; value-type=&quot;string&quot;\n",
       "range=&quot;10,14&quot; range-type=&quot;object&quot;&gt;&lt;/Identifier&gt;\n",
       "&lt;Punctuator\n",
       "type=&quot;Punctuator&quot; type-type=&quot;string&quot;\n",
       "value=&quot;(&quot; value-type=&quot;string&quot;\n",
       "range=&quot;14,15&quot; range-type=&quot;object&quot;&gt;&lt;/Punctuator&gt;\n",
       "&lt;Identifier\n",
       "type=&quot;Identifier&quot; type-type=&quot;string&quot;\n",
       "value=&quot;params&quot; value-type=&quot;string&quot;\n",
       "range=&quot;15,21&quot; range-type=&quot;object&quot;&gt;&lt;/Identifier&gt;\n",
       "&lt;Punctuator\n",
       "type=&quot;Punctuator&quot; type-type=&quot;string&quot;\n",
       "value=&quot;)&quot; value-type=&quot;string&quot;\n",
       "range=&quot;21,22&quot; range-type=&quot;object&quot;&gt;&lt;/Punctuator&gt;\n",
       "&lt;Punctuator\n",
       "type=&quot;Punctuator&quot; type-type=&quot;string&quot;\n",
       "value=&quot;{&quot; value-type=&quot;string&quot;\n",
       "range=&quot;23,24&quot; range-type=&quot;object&quot;&gt;&lt;/Punctuator&gt;\n",
       "&lt;Punctuator\n",
       "type=&quot;Punctuator&quot; type-type=&quot;string&quot;\n",
       "value=&quot;}&quot; value-type=&quot;string&quot;\n",
       "range=&quot;30,31&quot; range-type=&quot;object&quot;&gt;&lt;/Punctuator&gt;\n",
       "&lt;Identifier\n",
       "type=&quot;Identifier&quot; type-type=&quot;string&quot;\n",
       "value=&quot;console&quot; value-type=&quot;string&quot;\n",
       "range=&quot;32,39&quot; range-type=&quot;object&quot;&gt;&lt;/Identifier&gt;\n",
       "&lt;Punctuator\n",
       "type=&quot;Punctuator&quot; type-type=&quot;string&quot;\n",
       "value=&quot;.&quot; value-type=&quot;string&quot;\n",
       "range=&quot;39,40&quot; range-type=&quot;object&quot;&gt;&lt;/Punctuator&gt;\n",
       "&lt;Identifier\n",
       "type=&quot;Identifier&quot; type-type=&quot;string&quot;\n",
       "value=&quot;log&quot; value-type=&quot;string&quot;\n",
       "range=&quot;40,43&quot; range-type=&quot;object&quot;&gt;&lt;/Identifier&gt;\n",
       "&lt;Punctuator\n",
       "type=&quot;Punctuator&quot; type-type=&quot;string&quot;\n",
       "value=&quot;(&quot; value-type=&quot;string&quot;\n",
       "range=&quot;43,44&quot; range-type=&quot;object&quot;&gt;&lt;/Punctuator&gt;\n",
       "&lt;Punctuator\n",
       "type=&quot;Punctuator&quot; type-type=&quot;string&quot;\n",
       "value=&quot;)&quot; value-type=&quot;string&quot;\n",
       "range=&quot;44,45&quot; range-type=&quot;object&quot;&gt;&lt;/Punctuator&gt;&lt;/tokens&gt;&lt;/Program&gt;</pre>"
      ]
     },
     "execution_count": 161,
     "metadata": {},
     "output_type": "execute_result"
    }
   ],
   "source": [
    "var importer = require('../Core');\n",
    "\n",
    "// TODO: make this dependency obsolete\n",
    "var esquery = require('esquery');\n",
    "var esprima = require('esprima'); \n",
    "var escodegen = require('escodegen');\n",
    "var ASTQ  = require(\"astq\");\n",
    "var astq = new ASTQ();\n",
    "\n",
    "var gen_options = {\n",
    "    comment: true,\n",
    "    tokens: true,\n",
    "    whitespace: true,\n",
    "    format: {indent: {style: '    '}, quotes: 'single'}\n",
    "}\n",
    "\n",
    "function testASTArray(search) {\n",
    "    //var code = importer.interpret(search).code;\n",
    "    var code = `\n",
    "function name(params) {\n",
    "    \n",
    "}\n",
    "console.log()\n",
    "`\n",
    "    var ctx = esprima.parse(code, {range: true, tokens: true,\n",
    "                        comment: true, whitespace: true})\n",
    "    \n",
    "    // TODO: demonstrate\n",
    "    console.log(astq.query(ctx, '*')[0].body);\n",
    "    console.log(astq.query(ctx, '*')[0].tokens);\n",
    "    console.log(esquery(ctx, '*').length);\n",
    "    console.log(esquery(ctx, 'Program').length);\n",
    "    \n",
    "    escodegen.attachComments(ctx, ctx.comments, ctx.tokens, ctx.whitespace);\n",
    "    console.log(escodegen.generate(ctx, gen_options));\n",
    "\n",
    "    \n",
    "    var page = statementToElement(ctx);\n",
    "    var translated_back = elementToStatement(page)[0];\n",
    "    console.log(translated_back);\n",
    "    //console.log(escodegen.generate(translated_back, gen_options));\n",
    "\n",
    "    return page;    \n",
    "}\n",
    "\n",
    "module.exports = testASTArray;\n",
    "\n",
    "function htmlEntities(str) {\n",
    "    return String(str)\n",
    "        .replace(/&/g, '&amp;')\n",
    "        .replace(/</g, '&lt;')\n",
    "        .replace(/>/g, '&gt;')\n",
    "        .replace(/\"/g, '&quot;');\n",
    "}\n",
    "\n",
    "if(typeof $$ !== 'undefined') {\n",
    "    var html = testASTArray('*', 'convert a tree to html')\n",
    "    $$.html('<pre>' + htmlEntities(html) + '</pre>')\n",
    "}\n"
   ]
  },
  {
   "cell_type": "markdown",
   "metadata": {
    "heading_collapsed": true
   },
   "source": [
    "#### TODO test tree to html with astq\n",
    "\n",
    "TODO: convert between astq and other tree libraries\n",
    "\n",
    "replacing that functionality I noticed in babel somewhere\n",
    "\n"
   ]
  },
  {
   "cell_type": "code",
   "execution_count": 106,
   "metadata": {
    "hidden": true
   },
   "outputs": [],
   "source": [
    "// reserved words\n",
    "\n",
    "var keywords = ['type', 'id', 'params',\n",
    "                'body', 'generator', 'async',\n",
    "                'range', 'expression', 'callee',\n",
    "                'arguments'];\n",
    "\n"
   ]
  },
  {
   "cell_type": "markdown",
   "metadata": {
    "hidden": true
   },
   "source": [
    "expected output\n",
    "\n",
    "\n",
    "```\n",
    "FunctionDeclaration {\n",
    "    type: 'FunctionDeclaration',\n",
    "    id:\n",
    "     Identifier { type: 'Identifier', name: 'name', range: [Array] },\n",
    "    params: [ [Identifier] ],\n",
    "    body:\n",
    "     BlockStatement { type: 'BlockStatement', body: [], range: [Array] },\n",
    "    generator: false,\n",
    "    expression: false,\n",
    "    async: false,\n",
    "    range: [ 1, 31 ] },\n",
    "  ExpressionStatement {\n",
    "    type: 'ExpressionStatement',\n",
    "    expression:\n",
    "     CallExpression {\n",
    "       type: 'CallExpression',\n",
    "       callee: [StaticMemberExpression],\n",
    "       arguments: [],\n",
    "       range: [Array] },\n",
    "    range: [ 32, 45 ] } ]\n",
    "```\n"
   ]
  },
  {
   "cell_type": "markdown",
   "metadata": {},
   "source": [
    "### generate a synax tree from documentation\n"
   ]
  },
  {
   "cell_type": "markdown",
   "metadata": {},
   "source": [
    "#### test language translator\n",
    "\n",
    "TODO: Creating an interface like this becomes a simple http request to download and create a language compatible pattern, do in C# and in Node\n",
    "\n",
    "\n"
   ]
  },
  {
   "cell_type": "code",
   "execution_count": null,
   "metadata": {},
   "outputs": [],
   "source": [
    "\n",
    "var wireKernelInterface = {\n",
    "    ...metaKernelInterface,\n",
    "    // implement all requests, these are required by the meta kernel\n",
    "    execute_request, inspect_request, complete_request,\n",
    "    history_request, is_complete_request, shutdown_request,\n",
    "    // requests maybe not required right now?\n",
    "    kernel_info_request, interrupt_request, input_request,\n",
    "    connect_request, comm_info_request, kernel_info_request,\n",
    "\n",
    "    // implement all replys\n",
    "    execute_reply, inspect_reply, complete_reply,\n",
    "    history_reply, kernel_info_reply, is_complete_reply,\n",
    "    connect_reply, comm_info_reply, kernel_info_reply,\n",
    "    shutdown_reply, interrupt_reply, input_reply,\n",
    "\n",
    "    // a few extra protocol methods\n",
    "    display_data, update_display_data, execute_input,\n",
    "    execute_result, error, status, clear_output,\n",
    "    comm_msg, comm_close\n",
    "}\n",
    "\n",
    "module.exports = wireKernelInterface;\n",
    "    "
   ]
  },
  {
   "cell_type": "markdown",
   "metadata": {},
   "source": []
  },
  {
   "cell_type": "code",
   "execution_count": null,
   "metadata": {},
   "outputs": [],
   "source": []
  }
 ],
 "metadata": {
  "kernelspec": {
   "display_name": "Javascript (Node.js)",
   "language": "javascript",
   "name": "javascript"
  },
  "language_info": {
   "file_extension": ".js",
   "mimetype": "application/javascript",
   "name": "javascript",
   "version": "10.16.0"
  }
 },
 "nbformat": 4,
 "nbformat_minor": 2
}
