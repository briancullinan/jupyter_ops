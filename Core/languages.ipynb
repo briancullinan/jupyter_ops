{
 "cells": [
  {
   "cell_type": "markdown",
   "metadata": {},
   "source": [
    "# language tools\n",
    "\n",
    "Converting between languages, parsing languages computer languages, demonstrating tools like syntax hilighters, and outputting the diffed code\n"
   ]
  },
  {
   "cell_type": "markdown",
   "metadata": {
    "heading_collapsed": true
   },
   "source": [
    "## introduction\n",
    "\n"
   ]
  },
  {
   "cell_type": "markdown",
   "metadata": {
    "hidden": true
   },
   "source": [
    "TODO: use syntax tree to convert from and to any language\n",
    "\n",
    "\n",
    "use a common library for language generation \n",
    "\n",
    "https://bitbucket.org/birkenfeld/pygments-main/src/default/pygments/lexers/haskell.py\n",
    "\n",
    "https://github.com/PrismJS/prism/blob/master/components/prism-markdown.js\n",
    "\n",
    "http://qbnz.com/highlighter/\n",
    "\n",
    "https://stackoverflow.com/questions/171924/how-do-i-syntax-check-a-bash-script-without-running-it\n",
    "\n",
    "bash -n scriptname\n",
    "\n",
    "Improve on the babel-preset-php pattern of replacing code with a tree, just use templates and the tree creator on regular code blocks\n",
    "\n",
    "https://gitlab.com/kornelski/babel-preset-php/blob/master/lib/trans.js\n",
    "\n",
    "```\n",
    "function translateAssignBlock(node, scope) {\n",
    "    if (isVariableCreatingAssignment(node, scope)) {\n",
    "        return makeVariableDeclaration(node.left.name, \"var\", translateExpr(node.right, scope), node.loc, scope);\n",
    "    }\n",
    "    return wrapInStatement(translateAssign(node, scope));\n",
    "}\n",
    "```\n",
    "\n",
    "should be something like:\n",
    "```\n",
    "var ASSIGMENT_EXPRESSION = (leftName, right) => {\n",
    "    var leftName = right;\n",
    "}\n",
    "\n",
    "function translateAssignBlock(node, scope) {\n",
    "    if(//Assignment[/Identifier].includes(node)) {\n",
    "        return getAST(ASSIGMENT_EXPRESSION, node)\n",
    "    }\n",
    "    return getAST(STATEMENT, node)\n",
    "}\n",
    "```\n",
    "\n",
    "that way when they are written in multiple languages we can transpile any language, maybe\n",
    "\n",
    "use this library as a reference for lots of languages https://github.com/seaneshbaugh/rosetta-euler\n",
    "\n",
    "automatically translate https://projecteuler.net/archives to any language\n",
    "\n",
    "\n",
    "TODO: use babel and a transpiling kernel from babel-preset-php, \n",
    "\n",
    "TODO: make a generic translator that does manipulations on queries based on templates\n",
    "\n",
    "\n",
    "\n",
    "\n"
   ]
  },
  {
   "cell_type": "code",
   "execution_count": null,
   "metadata": {
    "hidden": true
   },
   "outputs": [],
   "source": [
    "// sample definition for MatLab\n",
    "\n"
   ]
  },
  {
   "cell_type": "code",
   "execution_count": null,
   "metadata": {
    "hidden": true
   },
   "outputs": [],
   "source": [
    "// definition for nodejs\n",
    "\n"
   ]
  },
  {
   "cell_type": "markdown",
   "metadata": {},
   "source": [
    "## syntax tree tools\n",
    "\n"
   ]
  },
  {
   "cell_type": "markdown",
   "metadata": {
    "heading_collapsed": true
   },
   "source": [
    "### justification\n",
    "\n",
    "Just so it can be parsed with XPath instead. Get them all working the same!\n",
    "\n"
   ]
  },
  {
   "cell_type": "markdown",
   "metadata": {
    "hidden": true
   },
   "source": [
    "\n",
    "Crap modules I won't need any more:\n",
    "- css\n",
    "- ASTQ\n",
    "- Acorn\n",
    "- esprima\n",
    "- escodegen\n",
    "- esquery\n",
    "- jsonpath\n",
    "- jsonquery\n",
    "- jspath\n",
    "- json:select\n",
    "- jsel\n",
    "\n",
    "TODO: get rid of jsonpath-plus, jsonstream, jspath, \n",
    "\n"
   ]
  },
  {
   "cell_type": "markdown",
   "metadata": {
    "hidden": true
   },
   "source": [
    "```\n",
    "/* expected output `\n",
    "[ Script {\n",
    "    type: 'Program',\n",
    "    body: [ [FunctionDeclaration], [ExpressionStatement] ],\n",
    "    sourceType: 'script',\n",
    "    range: [ 1, 45 ],\n",
    "    comments: [],\n",
    "    tokens:\n",
    "\n",
    "<program type=\"program\">\n",
    "    <function>\n",
    "    </function>\n",
    "    <expression>\n",
    "    </expression>\n",
    "</program>\n",
    "\n",
    "*/\n",
    "```\n",
    "\n"
   ]
  },
  {
   "cell_type": "markdown",
   "metadata": {
    "heading_collapsed": true
   },
   "source": [
    "### convert a syntax tree to html?\n",
    "\n",
    "Reasoning. Every atom is made up of smaller component parts. This conversion creates a tree that breaks down to &lt;elements&gt; and attr=\"ibutes\", just like neutrons and protons.\n"
   ]
  },
  {
   "cell_type": "code",
   "execution_count": null,
   "metadata": {
    "hidden": true,
    "scrolled": true
   },
   "outputs": [],
   "source": [
    "\n",
    "function statementToElement(statement) {\n",
    "    var {type} = statement;\n",
    "    var result = ``, attrs = ``;\n",
    "    var isList = true;\n",
    "    for(var i in statement) {\n",
    "        if(parseInt(i) + '' === i + '') {\n",
    "            result += statementToElement(statement[i])\n",
    "            continue;\n",
    "        }\n",
    "        isList = false;\n",
    "        var jsType = typeof statement[i];\n",
    "        if(jsType === 'object' && statement[i]) {\n",
    "            jsType = Object.getPrototypeOf(statement[i]).constructor.name;\n",
    "        }\n",
    "        // if the property is an Object, print out as a child\n",
    "        // TODO: replace this type property when converting other trees\n",
    "        //   should be like getEl() statementToElement(() => el.type)\n",
    "        if(typeof statement[i].type !== 'undefined'\n",
    "           || (typeof statement[i][0] !== 'undefined'\n",
    "        // or if the property is an Array, print them out as child elements\n",
    "           && typeof statement[i][0].type !== 'undefined')) {\n",
    "            // print out the other keys just for fun matching\n",
    "            attrs +=  `\n",
    "${i}=\"\" ${i}-type=\"${jsType}\"`;\n",
    "            result += `<${i}-attr>${statementToElement(statement[i])}</${i}-attr>`\n",
    "        } else {\n",
    "            // if the property is not an object, i.e. native types\n",
    "            attrs +=  `\n",
    "${i}=\"${statement[i]}\" ${i}-type=\"${jsType}\"`\n",
    "        }\n",
    "    }\n",
    "    \n",
    "    return isList ? result : `\n",
    "<${type}${attrs}>${result}</${type}>`\n",
    "}\n",
    "\n",
    "module.exports = statementToElement;\n"
   ]
  },
  {
   "cell_type": "markdown",
   "metadata": {
    "heading_collapsed": true
   },
   "source": [
    "### convert an html tree to objects?\n",
    "\n"
   ]
  },
  {
   "cell_type": "code",
   "execution_count": null,
   "metadata": {
    "hidden": true
   },
   "outputs": [],
   "source": [
    "var {JSDOM} = require('jsdom');\n",
    "\n",
    "// TODO: create a pattern same as notebook markdown in core, accumulate\n",
    "function accumulateComments(nodes) {\n",
    "    var commentBuffer = []\n",
    "    return nodes.reduce((acc, n) => {\n",
    "        if(typeof n !== 'object') {\n",
    "            commentBuffer.push[n];\n",
    "        } else {\n",
    "            n.comments = commentBuffer;\n",
    "            commentBuffer = [];\n",
    "            acc.push(n);\n",
    "        }\n",
    "        return acc;\n",
    "    }, []);\n",
    "}\n",
    "\n",
    "// expects a string or a tree from JSDOM\n",
    "function elementToStatement(body) {\n",
    "    if(typeof body === 'string') {\n",
    "        var dom = new JSDOM(body);\n",
    "        body = dom.window.document.body;\n",
    "    }\n",
    "    if(body.nodeName === '#text') {\n",
    "        return body.nodeValue;\n",
    "    }\n",
    "    var attrs = body.getAttributeNames()\n",
    "        .filter(a => a.substr(-5) !== '-type');\n",
    "    if(attrs.length === 0) {\n",
    "        var elsAndText = Array.from(body.childNodes)\n",
    "            .map(c => elementToStatement(c));\n",
    "        return accumulateComments(elsAndText);\n",
    "    }\n",
    "    var result = attrs.reduce((obj, p) => {\n",
    "        var childObject = Array.from(body.childNodes)\n",
    "           .filter(n => n.nodeName.toLowerCase() === p.toLowerCase() + '-attr')[0];\n",
    "        var type = body.getAttribute(p + '-type');\n",
    "        if(childObject) {\n",
    "            // converted from an array of childNodes above\n",
    "            var children = elementToStatement(childObject);\n",
    "            obj[p] = type === 'Array' ? children : children[0];\n",
    "        } else {\n",
    "            var attr = body.getAttribute(p);\n",
    "            obj[p] = attr;\n",
    "            if(type === 'boolean')  obj[p] = attr === 'true';\n",
    "            if(type === 'number')  obj[p] = parseInt(attr);\n",
    "        }\n",
    "        return obj;\n",
    "    }, {})\n",
    "    return result;\n",
    "}\n",
    "\n",
    "module.exports = elementToStatement;\n",
    "\n"
   ]
  },
  {
   "cell_type": "markdown",
   "metadata": {
    "heading_collapsed": true,
    "hidden": true
   },
   "source": [
    "#### test tree to html?"
   ]
  },
  {
   "cell_type": "code",
   "execution_count": null,
   "metadata": {
    "hidden": true,
    "scrolled": false
   },
   "outputs": [],
   "source": [
    "var importer = require('../Core');\n",
    "var assert = require('assert');\n",
    "// TODO: make this dependency obsolete\n",
    "var esquery = require('esquery');\n",
    "var esprima = require('esprima'); \n",
    "var escodegen = require('escodegen');\n",
    "var ASTQ  = require(\"astq\");\n",
    "var astq = new ASTQ();\n",
    "\n",
    "var gen_options = {\n",
    "    comment: true,\n",
    "    tokens: true,\n",
    "    whitespace: true,\n",
    "    format: {indent: {style: '    '}, quotes: 'single'}\n",
    "}\n",
    "\n",
    "function setupASTArray(code) {\n",
    "    var ctx = esprima.parse(code, {range: true, tokens: true,\n",
    "                        comment: true, whitespace: true})\n",
    "    \n",
    "    escodegen.attachComments(ctx, ctx.comments, ctx.tokens, ctx.whitespace);\n",
    "    return ctx;\n",
    "}\n",
    "\n",
    "function testASTArray(ctx) {\n",
    "    var output1 = escodegen.generate(ctx, gen_options)\n",
    "    console.log(output1);\n",
    "    var page = statementToElement(ctx);\n",
    "    var translated_back = elementToStatement(page)[0];\n",
    "    var output2 = escodegen.generate(translated_back, gen_options);\n",
    "    assert(output1 === output2, 'different code trees');    \n",
    "    return page;\n",
    "}\n",
    "\n",
    "module.exports = testASTArray;\n",
    "\n",
    "function htmlEntities(str) {\n",
    "    return String(str)\n",
    "        .replace(/&/g, '&amp;')\n",
    "        .replace(/</g, '&lt;')\n",
    "        .replace(/>/g, '&gt;')\n",
    "        .replace(/\"/g, '&quot;');\n",
    "}\n",
    "\n",
    "if(typeof $$ !== 'undefined') {\n",
    "    var code = `\n",
    "function name(params) {\n",
    "    \n",
    "}\n",
    "console.log()\n",
    "`\n",
    "    var ctx = setupASTArray(code);\n",
    "    var html = testASTArray(ctx)\n",
    "    console.log(astq.query(ctx, '*'));\n",
    "    console.log(astq.query(ctx, '*')[0].tokens);\n",
    "    console.log(esquery(ctx, '*').length);\n",
    "    console.log(esquery(ctx, 'Program').length);\n",
    "    \n",
    "    $$.html('<pre>' + htmlEntities(html) + '</pre>')\n",
    "}\n"
   ]
  },
  {
   "cell_type": "markdown",
   "metadata": {
    "hidden": true
   },
   "source": [
    "expected output\n",
    "\n",
    "\n",
    "```\n",
    "FunctionDeclaration {\n",
    "    type: 'FunctionDeclaration',\n",
    "    id:\n",
    "     Identifier { type: 'Identifier', name: 'name', range: [Array] },\n",
    "    params: [ [Identifier] ],\n",
    "    body:\n",
    "     BlockStatement { type: 'BlockStatement', body: [], range: [Array] },\n",
    "    generator: false,\n",
    "    expression: false,\n",
    "    async: false,\n",
    "    range: [ 1, 31 ] },\n",
    "  ExpressionStatement {\n",
    "    type: 'ExpressionStatement',\n",
    "    expression:\n",
    "     CallExpression {\n",
    "       type: 'CallExpression',\n",
    "       callee: [StaticMemberExpression],\n",
    "       arguments: [],\n",
    "       range: [Array] },\n",
    "    range: [ 32, 45 ] } ]\n",
    "```\n"
   ]
  },
  {
   "cell_type": "markdown",
   "metadata": {},
   "source": [
    "### improved syntax manipulation\n",
    "\n",
    "replacing that functionality I noticed in babel somewhere\n",
    "\n"
   ]
  },
  {
   "cell_type": "markdown",
   "metadata": {},
   "source": [
    "#### test 0\n",
    "\n",
    "Pretty nice syntax but does it work on non, C-style languages.\n",
    "\n",
    "TODO: derive from the names and how the ```require()``` is used and automatically fix ```{expanded}``` or ```assignment =``` imports.\n",
    "\n"
   ]
  },
  {
   "cell_type": "code",
   "execution_count": 62,
   "metadata": {},
   "outputs": [
    {
     "ename": "SyntaxError",
     "evalue": "Unexpected token var",
     "output_type": "error",
     "traceback": [
      "evalmachine.<anonymous>:8",
      "    [() => strpos(str, match), () => (var i = str.indexOf(match), i > -1 ? i : false)],",
      "                                      ^^^",
      "",
      "SyntaxError: Unexpected token var",
      "    at new Script (vm.js:83:7)",
      "    at createScript (vm.js:277:10)",
      "    at Object.runInThisContext (vm.js:329:10)",
      "    at run ([eval]:1002:15)",
      "    at onRunRequest ([eval]:829:18)",
      "    at onMessage ([eval]:789:13)",
      "    at process.emit (events.js:198:13)",
      "    at emit (internal/child_process.js:832:12)",
      "    at process._tickCallback (internal/process/next_tick.js:63:19)"
     ]
    }
   ],
   "source": [
    "\n",
    "function transpile(definition) {\n",
    "    console.log('hit');\n",
    "}\n",
    "\n",
    "var phpToJs = [\n",
    "    [() => array_shift(arr), () => arr.shift()],\n",
    "    [() => strpos(str, match), () => { // has parameters so call this function instead?\n",
    "        var i = str.indexOf(match);\n",
    "        return i > -1 ? i : false}],\n",
    "    [() => substr(str, start, length), () => str.substr(start, length)],\n",
    "    [() => is_numeric(num), () => !isNaN(parseInt(num)) || !isNaN(parseFloat(num))],\n",
    "    [() => abs(), () => Math.abs()], // doesn't mess with parameters\n",
    "    // ...call(['abs', 'sin', 'cos', 'pow'], (id) => Math.id()))\n",
    "    [['abs', 'sin', 'cos', 'pow', 'floor', 'ceil', 'round', 'max', 'min'], {\n",
    "        `//*[contains(@type, \"Call\")`: (id) => Math.id(), // optional ()\n",
    "    }]\n",
    "]\n",
    "\n",
    "// this will work as long as PHP syntax is also called a Call or Member or Indentifier\n",
    "var jsToPhp = phpToJs.map(d => [d[1], d[0]])\n",
    "\n",
    "function replaceImport() {\n",
    "    return transpile(\n",
    "        (str = (({ctx, str}) => {\n",
    "            console.log('do some manipulation on the ctx of str');\n",
    "            console.log(str);\n",
    "            console.log(this);\n",
    "        })) => importer.import(str),\n",
    "        (ctx = ({ctx}) => {\n",
    "            // default contstructor serves to do manipulation on matching parent ctx\n",
    "            console.log(ctx);\n",
    "        }) => require(str)\n",
    "    );\n",
    "}\n",
    "\n",
    "function replaceCore() {\n",
    "    transpile(\n",
    "        () => {\n",
    "            var importer = require('../Core');\n",
    "        },\n",
    "        () => {}\n",
    "    )\n",
    "    transpile(\n",
    "        () => importer.callee,\n",
    "        ({callee = ({ctx, callee}) => {\n",
    "            if(callee.name === 'import') callee.name = 'importNotebook'\n",
    "        }, ctx}) => ctx.callee = callee.property\n",
    "    )\n",
    "}\n",
    "\n"
   ]
  },
  {
   "cell_type": "markdown",
   "metadata": {},
   "source": [
    "#### test xpath based transpiling\n",
    "\n",
    "A different style of syntax manipulation to reduce amount of code needed in babel.\n",
    "\n",
    "This method would replace the one in the notebook export script.\n",
    "\n"
   ]
  },
  {
   "cell_type": "code",
   "execution_count": null,
   "metadata": {
    "scrolled": false
   },
   "outputs": [],
   "source": [
    "// this is pretty nice\n",
    "\n",
    "function transpile(definition) {\n",
    "}\n",
    "\n",
    "\n",
    "var CORE_REQUIRE = `/*[@type=\"Literal\" and contains(@value, \"Core\")]`;\n",
    "var CORE_DECLARE = `//*[contains(@type, \"Variable\") and contains(., ${CORE_REQUIRE})]`;\n",
    "var IMPORTER = `${CORE_DECLARE}/*[@type=\"Identifier\"]/@name`;\n",
    "var IMPORTER_CALLS = `//*[contains(@type, \"Call\") and ./*[\n",
    "    contains(@type, \"Member\") and ./*[@type=\"Identifier\" and @name=${IMPORTER}]\n",
    "]]`;\n",
    "\n",
    "function replaceCore(ast) {\n",
    "    var impName = query(ast, IMPORTER)[0];\n",
    "    return transpile({\n",
    "        CORE_DECLARE: '',\n",
    "        IMPORTER_CALLS: (parent) => {\n",
    "            parent.callee = parent.callee.property\n",
    "            if(parent.callee.name === 'import') parent.callee.name = 'importNotebook'\n",
    "        }\n",
    "    })\n",
    "}\n",
    "\n",
    "\n",
    "var esquery = require('esquery');\n",
    "var jsel = require('jsel');\n",
    "var esprima = require('esprima'); \n",
    "var escodegen = require('escodegen');\n",
    "var cheerio = require('cheerio')\n",
    "var {XPathResult, JSDOM} = require('jsdom');\n",
    "\n",
    "var getArrayXPath = (selector, ctx) => {\n",
    "    var iterator = (ctx.evaluate || ctx.ownerDocument.evaluate)(\n",
    "        selector,\n",
    "        ctx, null,\n",
    "        (XPathResult || {}).ORDERED_NODE_ITERATOR_TYPE || 5, null);\n",
    "    var co = [];\n",
    "    var m;\n",
    "    while ((m = iterator.iterateNext()) && co.push(m.nodeValue || m)) ;\n",
    "    return co;\n",
    "};\n",
    "\n",
    "// replace core\n",
    "function testReplaceCore(code) {\n",
    "    var ast = esprima.parse(code, {range: true, tokens: true,\n",
    "                            comment: true, whitespace: true})\n",
    "    var body = jsel(ast);\n",
    "    //var funcOut1 = body.selectAll(`//*[@type=\"FunctionDeclaration\"]`);\n",
    "    var code = body.selectAll(IMPORTER_CALLS);\n",
    "    console.log(code);\n",
    "    \n",
    "    translated_back = code[0];\n",
    "    // TODO: test the same exact statements on JSDOM with our implementation\n",
    "    var page = statementToElement(ast);\n",
    "    var dom = new JSDOM(page);\n",
    "    var els = getArrayXPath(CORE_DECLARE, dom.window.document.body);\n",
    "    var translated_back = elementToStatement(els[0]);\n",
    "    return translated_back;\n",
    "}\n",
    "\n",
    "\n",
    "var code = `\n",
    "var importer = require('../Core');\n",
    "function name(params) {\n",
    "    return importer.interpret('this is a describe request');\n",
    "}\n",
    "console.log()\n",
    "`\n",
    "\n",
    "if(typeof $$ !== 'undefined') {\n",
    "    var translated_back = testReplaceCore(code);\n",
    "    var output2 = escodegen.generate(translated_back);\n",
    "    console.log(output2);\n",
    "    // TODO: test with CSS style\n",
    "    //\"\"`*[type*='StaticMemberExpression'] > *[name==\"importer\"]`;\n",
    "    //var $ = cheerio.load(page);\n",
    "}\n",
    "\n"
   ]
  },
  {
   "cell_type": "code",
   "execution_count": null,
   "metadata": {},
   "outputs": [],
   "source": []
  },
  {
   "cell_type": "code",
   "execution_count": null,
   "metadata": {},
   "outputs": [],
   "source": []
  },
  {
   "cell_type": "markdown",
   "metadata": {
    "heading_collapsed": true
   },
   "source": [
    "#### TODO: convert between astq and other tree libraries\n",
    "\n"
   ]
  },
  {
   "cell_type": "code",
   "execution_count": null,
   "metadata": {
    "hidden": true
   },
   "outputs": [],
   "source": [
    "\n",
    "var keywords = ['type', 'id', 'params',\n",
    "                'body', 'generator', 'async',\n",
    "                'range', 'expression', 'callee',\n",
    "                'arguments'];\n"
   ]
  },
  {
   "cell_type": "markdown",
   "metadata": {
    "heading_collapsed": true
   },
   "source": [
    "#### TODO: convert trees using this library\n",
    "\n"
   ]
  },
  {
   "cell_type": "code",
   "execution_count": null,
   "metadata": {
    "hidden": true
   },
   "outputs": [],
   "source": [
    "const fs = require('mz/fs');\n",
    "const xpath = require('xpath');\n",
    "const parse5 = require('parse5');\n",
    "const xmlser = require('xmlserializer');\n",
    "const dom = require('xmldom').DOMParser;\n",
    "\n",
    "(async () => {\n",
    "    const html = await fs.readFile('./test.htm');\n",
    "    const document = parse5.parse(html.toString());\n",
    "    const xhtml = xmlser.serializeToString(document);\n",
    "    const doc = new dom().parseFromString(xhtml);\n",
    "    const select = xpath.useNamespaces({\"x\": \"http://www.w3.org/1999/xhtml\"});\n",
    "    const nodes = select(\"//x:a/@href\", doc);\n",
    "    console.log(nodes);\n",
    "})();\n",
    "\n"
   ]
  },
  {
   "cell_type": "markdown",
   "metadata": {},
   "source": [
    "### convert between languages\n",
    "\n",
    "Improve on the babel-preset-php pattern of replacing code with a tree, just use templates and the tree creator on regular code blocks\n",
    "\n",
    "https://gitlab.com/kornelski/babel-preset-php/blob/master/lib/trans.js\n",
    "\n"
   ]
  },
  {
   "cell_type": "code",
   "execution_count": null,
   "metadata": {
    "scrolled": false
   },
   "outputs": [],
   "source": [
    "\n",
    "// make sure this format works both directions\n",
    "// from PHP to javascript\n",
    "var fromPhpToJavascropt = {\n",
    "    '//CallExpression[@name=\"array_shift\"]': {\n",
    "        \n",
    "    }\n",
    "}\n",
    "\n",
    "var fromJavascriptToPhp = {\n",
    "    \n",
    "}\n"
   ]
  },
  {
   "cell_type": "markdown",
   "metadata": {
    "heading_collapsed": true
   },
   "source": [
    "#### translation formats test\n",
    "\n",
    "Should only need one description format from notebook module exporter to improve\n"
   ]
  },
  {
   "cell_type": "code",
   "execution_count": null,
   "metadata": {
    "hidden": true
   },
   "outputs": [],
   "source": [
    "// from selenium notebooks\n",
    "    .getAllUntil(\n",
    "        '//*[contains(@role, \"main\")]//*[contains(@class, \"scrollable\")][contains(.,\"Messages\")]',\n",
    "        '//*[contains(@role, \"main\")]//*[contains(@class, \"scrollable\")][contains(.,\"Messages\")]//h4//text()',\n",
    "        [],\n",
    "        (a, b) => a + '' === b + '',\n",
    "        i => i < 10,\n",
    "        true /* scroll up, not down */\n",
    "    )\n",
    "    .getAllXPath([\n",
    "        '//*[contains(@role, \"main\")]//*[contains(@class, \"scrollable\")][contains(.,\"Messages\")]//h4',\n",
    "        {\n",
    "            time: './/text()',\n",
    "            messages: [\n",
    "                './following-sibling::div[count(./preceding-sibling::h4)=$i+1]',\n",
    "                {\n",
    "                    from: './/h5//text()',\n",
    "                    message: './/*[not(name()=\"H5\")]/text()'\n",
    "                }\n",
    "            ]\n",
    "        }\n",
    "    ])\n",
    "\n",
    "function replaceCore(ast) {\n",
    "    var impParent = getArrayAST(GET_PARENT(GET_CORE), ast)[0];\n",
    "    if(impParent) {\n",
    "        var impDeclare = getArrayAST(GET_CORE, impParent)[0];\n",
    "        var impName = getArrayAST(GET_CORENAME, impDeclare)[0].name;\n",
    "        impParent.splice(impParent.indexOf(impDeclare), 1);\n",
    "        var impUsage = getArrayAST(GET_CALLER(impName), ast);\n",
    "        impUsage.forEach(parent => {\n",
    "            parent.callee = parent.callee.property;\n",
    "            if(parent.callee.name === 'import') parent.callee.name = 'importNotebook'\n",
    "        });\n",
    "    }\n",
    "}\n",
    "\n",
    "\n",
    "// format from syntax notebook, too much code!!\n",
    "var GET_CALLED = fnName => `//CallExpression/Identifier[@name == '${fnName}']`;\n",
    "var GET_IMPORTER = importer => `/*[(@type == 'StaticMemberExpression' || @type == 'MemberExpression')\n",
    "                && /Identifier[@name == '${importer}']]`;\n",
    "var GET_CALLER = importer => `//CallExpression[${GET_IMPORTER(importer)}]`;\n",
    "var GET_PARENT = of => `//*[${of}]`;\n",
    "// TODO: use form code analysis\n",
    "var GET_IMPORT_IDENTIFIER = `/Identifier[@name=='import' || @name=='importNotebook']`;\n",
    "var GET_IMPORT = match => `//CallExpression[\n",
    "    (${GET_IMPORT_IDENTIFIER}\n",
    "    || /StaticMemberExpression${GET_IMPORT_IDENTIFIER})\n",
    "    && //Literal[@value == '${match}']]`;\n",
    "var GET_EXPORTS = `//AssignmentExpression[//Identifier[@name=='exports']]`;\n",
    "var GET_FUNCTIONS = `//FunctionDeclaration`;\n",
    "var GET_IMPORTS = `//CallExpression[${GET_IMPORT_IDENTIFIER} \n",
    "    || /StaticMemberExpression${GET_IMPORT_IDENTIFIER}]//Literal`;\n",
    "var GET_IMPORTER_CALLS = `//CallExpression//Identifier[\n",
    "    ${[ 'import',\n",
    "  'streamJson',\n",
    "  'regexToArray',\n",
    "  'getCells',\n",
    "  'runAllPromises',\n",
    "  'interpret',\n",
    "  'runInNewContext',\n",
    "  'cacheCells',\n",
    "  'interpretMarkdown',\n",
    "  'fuseSearch',\n",
    "  'cacheAll' ].map(k => `@name=='${k}'`).join(' || ')}]`\n",
    "\n",
    "// from javascript to PHP\n",
    "\n",
    "// from source or from matcher\n",
    "\n",
    "// format I used on study sauce templates\n",
    "\n",
    "var array_shift = function (arr) {return arr.shift();};\n",
    "var strpos = function (str, match) {var i; return (i = str.indexOf(match)) > -1 ? i : false;};\n",
    "var substr = function (str, start, length) {return str.substr(start, length);};\n",
    "var is_numeric = function (num) {return !isNaN(parseInt(num)) || !isNaN(parseFloat(num));};\n",
    "var strlen = function (str) {return (''+(str || '')).length;};\n",
    "var array_merge = function () {\n",
    "var isObject = typeof arguments[0] == 'object' && arguments[0] != null && arguments[0].constructor != Array;\n",
    "var args = [isObject ? {} : []];\n",
    "for(var a = 0; a < arguments.length; a++) {\n",
    "    args[args.length] = arguments[a];\n",
    "};\n",
    "return args.reduce(function (a, b) {\n",
    "    return isObject ? $.extend(a, b) : $.merge(a, b);\n",
    "});\n",
    "};\n",
    "var round = function (num, digits) {\n",
    "    if(digits > 0) {\n",
    "        return Math.round(num * (10 * (digits ? digits : 0))) / (10 * (digits ? digits : 0));\n",
    "    }\n",
    "    return Math.round(num);\n",
    "};\n",
    "var is_string = function (obj) {return typeof obj == 'string';};\n",
    "var is_a = function (obj, typeStr) { return typeof obj == 'object' && obj != null && obj.constructor.name == typeStr();};\n",
    "var intval = function (str) {var result = parseInt(str); return isNaN(result) ? 0 : result;};\n",
    "var trim = function (str) {return (str || '').trim();};\n",
    "var explode = function (del, str) {return (str || '').split(del);};\n",
    "var array_slice = function (arr, start, length) { return (arr || []).slice(start, length); };\n",
    "var array_splice = function (arr, start, length) { return arr.splice(start, length); };\n",
    "var array_search = function (item, arr) { var index = (arr || []).indexOf(item); return index == -1 ? false : index; };\n",
    "var count = function (arr) { return (arr || []).length; };\n",
    "var in_array = function (needle, arr) { return (arr || []).indexOf(needle) > -1; };\n",
    "var array_values = function (arr) { return (arr || []).slice(0); };\n",
    "var is_array = function (obj) { return typeof obj == 'array' || typeof obj == 'object'; }; // PHP and javascript don't make a distinction between arrays and objects syntax wise using [property], all php objects should be restful anyways\n",
    "var array_keys = function (obj) {var result=[]; for (var k in obj) { if (obj.hasOwnProperty(k)) { result[result.length] = k } } return result; };\n",
    "var implode = function (sep, arr) {return (arr || []).join(sep);};\n",
    "var preg_replace = function (needle, replacement, subject) {\n",
    "    return (subject || '').replace(new RegExp(needle.split('/').slice(1, -1).join('/'), needle.split('/').slice(-1)[0] + 'g'), replacement);\n",
    "};\n",
    "var number_format = function (num, digits) { return parseFloat(num).toFixed(digits);};\n",
    "var preg_match = function (needle, subject, matches) {\n",
    "    var result = (new RegExp(needle.split('/').slice(1, -1).join('/'), needle.split('/').slice(-1)[0] + 'g')).exec(subject);\n",
    "    if(result == null) {\n",
    "        return 0;\n",
    "    }\n",
    "    if(typeof matches != 'undefined') {\n",
    "        for(var m = 0; m < result.length; m++) {\n",
    "            matches[m] = result[m];\n",
    "        }\n",
    "    }\n",
    "    return result.length;\n",
    "};\n",
    "var ucfirst = function (str) {return (str || '').substr(0, 1).toLocaleUpperCase() + str.substr(1);};\n",
    "var str_replace = function (needle, replacement, haystack) {return (haystack || '').replace(new RegExp(RegExp.escape(needle), 'g'), replacement);};\n",
    "var call_user_func_array = function (context, params) {return context[0][context[1]].apply(context[0], params);};\n",
    "var print = function (s) { window.views.__output += s };\n",
    "var strtolower = function(s) { return (s || '').toLocaleLowerCase(); };\n",
    "var empty = function(s) {\n",
    "    if(typeof s == 'undefined' || ('' + s).trim() == ''\n",
    "        || s === false || s === 'false' || s == null || s === 0\n",
    "        || (typeof s == 'object' && s.constructor == Array && s.length == 0)) {\n",
    "        return true;\n",
    "    }\n",
    "    if(typeof s == 'object') {\n",
    "        for(var p in s) {\n",
    "            if(s.hasOwnProperty(p)) {\n",
    "                return false;\n",
    "            }\n",
    "        }\n",
    "    }\n",
    "};\n",
    "var json_encode = JSON.stringify;\n",
    "var method_exists = function (s,m) { return typeof s == 'object' && typeof s[m] == 'function'; };\n",
    "var isset = function (s) { return typeof s != 'undefined'; };\n",
    "\n"
   ]
  },
  {
   "cell_type": "markdown",
   "metadata": {
    "heading_collapsed": true
   },
   "source": [
    "### generate a synax tree from documentation\n"
   ]
  },
  {
   "cell_type": "markdown",
   "metadata": {
    "heading_collapsed": true,
    "hidden": true
   },
   "source": [
    "#### test language translator\n",
    "\n",
    "TODO: Creating an interface like this becomes a simple http request to download and create a language compatible pattern, do in C# and in Node\n",
    "\n",
    "\n"
   ]
  },
  {
   "cell_type": "code",
   "execution_count": null,
   "metadata": {
    "hidden": true
   },
   "outputs": [],
   "source": [
    "\n",
    "var wireKernelInterface = {\n",
    "    ...metaKernelInterface,\n",
    "    // implement all requests, these are required by the meta kernel\n",
    "    execute_request, inspect_request, complete_request,\n",
    "    history_request, is_complete_request, shutdown_request,\n",
    "    // requests maybe not required right now?\n",
    "    kernel_info_request, interrupt_request, input_request,\n",
    "    connect_request, comm_info_request, kernel_info_request,\n",
    "\n",
    "    // implement all replys\n",
    "    execute_reply, inspect_reply, complete_reply,\n",
    "    history_reply, kernel_info_reply, is_complete_reply,\n",
    "    connect_reply, comm_info_reply, kernel_info_reply,\n",
    "    shutdown_reply, interrupt_reply, input_reply,\n",
    "\n",
    "    // a few extra protocol methods\n",
    "    display_data, update_display_data, execute_input,\n",
    "    execute_result, error, status, clear_output,\n",
    "    comm_msg, comm_close\n",
    "}\n",
    "\n",
    "module.exports = wireKernelInterface;\n",
    "    "
   ]
  },
  {
   "cell_type": "markdown",
   "metadata": {
    "hidden": true
   },
   "source": []
  },
  {
   "cell_type": "code",
   "execution_count": null,
   "metadata": {
    "hidden": true
   },
   "outputs": [],
   "source": []
  },
  {
   "cell_type": "markdown",
   "metadata": {
    "heading_collapsed": true
   },
   "source": [
    "## TODO: babel transpiler plugin\n",
    "\n"
   ]
  }
 ],
 "metadata": {
  "kernelspec": {
   "display_name": "Javascript (Node.js)",
   "language": "javascript",
   "name": "javascript"
  },
  "language_info": {
   "file_extension": ".js",
   "mimetype": "application/javascript",
   "name": "javascript",
   "version": "10.16.0"
  }
 },
 "nbformat": 4,
 "nbformat_minor": 2
}
