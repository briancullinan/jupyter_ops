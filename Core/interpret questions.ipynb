{
 "cells": [
  {
   "cell_type": "markdown",
   "metadata": {},
   "source": [
    "\n",
    "TLDR; How to use fuse.js to implement a simple search?\n",
    "\n",
    "# How to interpret questions in jupyter notebooks?\n",
    "\n",
    "How to turn jupyter notebooks in to modules?\n",
    "\n",
    "How to answer questions using jupyter notebooks and simple search?\n",
    "\n",
    "How to search jupter notebooks for questions and answers?\n",
    "\n"
   ]
  },
  {
   "cell_type": "code",
   "execution_count": 3,
   "metadata": {
    "collapsed": false,
    "inputHidden": false,
    "outputHidden": false
   },
   "outputs": [
    {
     "data": {
      "text/plain": [
       "[Function: interpret]"
      ]
     },
     "execution_count": 3,
     "metadata": {},
     "output_type": "execute_result"
    }
   ],
   "source": [
    "// install fuse\n",
    "try {\n",
    "    require.resolve('fuse.js');\n",
    "} catch (e) {\n",
    "    require('child_process').execSync('npm install fuse.js');\n",
    "}\n",
    "\n",
    "if (typeof cellCache == 'undefined') {var cellCache = []};\n",
    "\n",
    "var Fuse = require('fuse.js');\n",
    "var fuse = new Fuse(cellCache, {\n",
    "    shouldSort: true, \n",
    "    keys: ['question'],\n",
    "    id: 'id'\n",
    "});\n",
    "\n",
    "var interpret = (message) => fuse.search(message);\n",
    "(interpret);\n",
    "\n"
   ]
  },
  {
   "cell_type": "markdown",
   "metadata": {},
   "source": [
    "How to cache notebook questions in fuse?"
   ]
  },
  {
   "cell_type": "code",
   "execution_count": 4,
   "metadata": {
    "collapsed": false,
    "inputHidden": false,
    "outputHidden": false
   },
   "outputs": [
    {
     "data": {
      "text/plain": [
       "[Function: interpretNotebook]"
      ]
     },
     "execution_count": 4,
     "metadata": {},
     "output_type": "execute_result"
    }
   ],
   "source": [
    "var corePath = path.resolve(__dirname);\n",
    "var getCells = require(corePath).getCells;\n",
    "var cacheCells = (cells, notebook) => {}; // defined below\n",
    "// interpret notebooks by importing them in to cache\n",
    "(interpretNotebook = (notebook) => {\n",
    "    return getCells(notebook, ['*', 'markdown', 'code'])\n",
    "        .then(cells => cacheCells(cells, notebook));\n",
    "});\n",
    "\n"
   ]
  },
  {
   "cell_type": "markdown",
   "metadata": {},
   "source": [
    "How to find questions leading up to jupter cells?\n",
    "\n",
    "How to read markdown leading up to code cells?\n"
   ]
  },
  {
   "cell_type": "code",
   "execution_count": 5,
   "metadata": {
    "collapsed": false,
    "inputHidden": false,
    "outputHidden": false
   },
   "outputs": [
    {
     "data": {
      "text/plain": [
       "[Function: regexToArray]"
      ]
     },
     "execution_count": 5,
     "metadata": {},
     "output_type": "execute_result"
    }
   ],
   "source": [
    "// TODO: use the m flag option for regexp?\n",
    "var re = new RegExp('(^|\\\\n).*?\\\\?(\\\\s+|$)', 'ig');\n",
    "var re2 = new RegExp('(^|\\\\n)//.*\\\\?(\\\\s+|$)', 'ig')\n",
    "\n",
    "var accumulateMarkdown = (cells) => {\n",
    "    var counter = 0, prev = [];\n",
    "    return cells.reduce((md, c) => {\n",
    "        counter++;\n",
    "        var source = c.source.join('');\n",
    "        if (c.cell_type == 'markdown') {\n",
    "            prev.push(source);\n",
    "            return md;\n",
    "        } else if(c.cell_type !== 'code') {\n",
    "            return md;\n",
    "        }\n",
    "        // TODO: improve the counter\n",
    "        var cell = {code: source, markdown: prev, from: counter-1, to: counter};\n",
    "        prev = [];\n",
    "        md.push(cell);\n",
    "        return md;\n",
    "    }, []);\n",
    "};\n",
    "\n",
    "// How to convert a string to an Array of RegEx matches\n",
    "var regexToArray = (ex, str, i = 0) => {\n",
    "    var co = []; var m;\n",
    "    while ((m = re.exec(str)) && co.push(m[i]));\n",
    "    return co;\n",
    "};\n",
    "(regexToArray);"
   ]
  },
  {
   "cell_type": "markdown",
   "metadata": {},
   "source": [
    "\n",
    "\n",
    "This is a complex question to answer.  Perhaps using IBM Watson language alchemy?\n",
    "\n",
    "How to find functions in jupyter notebooks?\n",
    "\n"
   ]
  },
  {
   "cell_type": "code",
   "execution_count": 6,
   "metadata": {
    "collapsed": false,
    "inputHidden": false,
    "outputHidden": false
   },
   "outputs": [
    {
     "data": {
      "text/plain": [
       "[Function: cacheCells]"
      ]
     },
     "execution_count": 6,
     "metadata": {},
     "output_type": "execute_result"
    }
   ],
   "source": [
    "\n",
    "// TODO: interpret markdown leading up to code results and find the resulting function in the list\n",
    "// for now, the boring solution is to assume all markdown output is a question?\n",
    "\n",
    "// How to store code markdown results for later use?\n",
    "if (typeof cellCache == 'undefined') { var cellCache = []; }\n",
    "if (typeof cacheIds == 'undefined') { var cacheIds = {}; }\n",
    "(cacheCells = ((cells, notebook) => {\n",
    "    var filename = path.basename(notebook);\n",
    "    var newCache = accumulateMarkdown(cells);\n",
    "    newCache.forEach((c, i) => {\n",
    "        if(typeof cacheIds[filename+'['+i+']'] !== 'undefined') {\n",
    "            return;\n",
    "        }\n",
    "        var questions = regexToArray(re, c.markdown)\n",
    "            .concat(regexToArray(re, c.source)\n",
    "                    .map(r => r.replace(/how to|?/ig, '')));\n",
    "        cacheIds[filename+'['+i+']'] = Object.assign({}, c, {\n",
    "            id: filename+'['+i+']',\n",
    "            filename: notebook,\n",
    "            questions: questions,\n",
    "            notebook: filename,\n",
    "            function: global[filename+'['+i+']']\n",
    "        });\n",
    "        questions.forEach((q) => cellCache.push({\n",
    "            id: filename+'['+i+']',\n",
    "            question: q\n",
    "        }));\n",
    "    });\n",
    "    return cellCache;\n",
    "}));\n",
    "\n"
   ]
  },
  {
   "cell_type": "markdown",
   "metadata": {},
   "source": [
    "\n",
    "How to test caching works?\n"
   ]
  },
  {
   "cell_type": "code",
   "execution_count": 7,
   "metadata": {
    "collapsed": false,
    "inputHidden": false,
    "outputHidden": false
   },
   "outputs": [
    {
     "data": {
      "text/plain": [
       "[Function: cacheCells]"
      ]
     },
     "execution_count": 7,
     "metadata": {},
     "output_type": "execute_result"
    }
   ],
   "source": [
    "\n",
    "var testNotebook = 'test import.ipynb';\n",
    "var testCells = [\n",
    "    {cell_type: 'code', source: []},\n",
    "    {cell_type: 'markdown', source: [\"how to test for errors line 2?\"]},\n",
    "    {cell_type: 'code', source: [\"(function (err) { throw error; })\"]}\n",
    "];\n",
    "global[testNotebook+'[1]'] \n",
    "    = eval(testCells[testCells.length-1].source.join('').trim());\n",
    "var markdownCache = cacheCells(testCells, testNotebook);\n",
    "if(markdownCache[0].id == testNotebook+'[1]') {\n",
    "    $$.sendResult(cacheCells);\n",
    "}\n"
   ]
  },
  {
   "cell_type": "markdown",
   "metadata": {},
   "source": [
    "How to interpret a jupyter {directory}?\n",
    "\n",
    "How to display interpreted results in markdown?\n",
    "\n",
    "How to test the interpreter works?\n"
   ]
  },
  {
   "cell_type": "code",
   "execution_count": 8,
   "metadata": {
    "collapsed": false,
    "inputHidden": false,
    "outputHidden": false
   },
   "outputs": [
    {
     "data": {
      "text/plain": [
       "[Function: interpretMarkdown]"
      ]
     },
     "execution_count": 8,
     "metadata": {},
     "output_type": "execute_result"
    }
   ],
   "source": [
    "// How to represent search results in markdown?\n",
    "var resultMarkdown = (res) => {\n",
    "    return ('\\n\\n\\n' + res.length + ' match' \n",
    "   + (res.length !== 1 ? 'es' : '')\n",
    "   + ' found: ' + res.join(' , ') + '\\n\\n\\n'\n",
    "   + (res.length > 0 \n",
    "      ? ('\\n\\n\\n' + cacheIds[res[0]].markdown.join('\\n') + '\\n\\n\\n' \n",
    "        + '```\\n\\n\\n' + cacheIds[res[0]].code + '\\n\\n\\n```\\n\\n\\n') \n",
    "      : ''));\n",
    "};\n",
    "\n",
    "var interpretMarkdown = (results) => \n",
    "    (typeof results[0] !== 'undefined' && typeof results[0] !== 'string'\n",
    "    ? results.reduce((str, res) => str += resultMarkdown(res), '')\n",
    "    : resultMarkdown(results));\n",
    "\n",
    "(interpretMarkdown);\n"
   ]
  },
  {
   "cell_type": "code",
   "execution_count": 11,
   "metadata": {
    "collapsed": false,
    "inputHidden": false,
    "outputHidden": false
   },
   "outputs": [
    {
     "data": {
      "text/plain": [
       "[Function: interpretObject]"
      ]
     },
     "execution_count": 11,
     "metadata": {},
     "output_type": "execute_result"
    }
   ],
   "source": [
    "var corePath = path.resolve(__dirname);\n",
    "var getCells = require(corePath).getCells;\n",
    "\n",
    "var getFresher = (cache) => {\n",
    "    return getCells(cache.filename, ['*', 'markdown', 'code'])\n",
    "        .then(r => {\n",
    "            cache.fresher = accumulateMarkdown(r.slice(cache.from, cache.to))[0].code;\n",
    "            return cache;\n",
    "        });\n",
    "};\n",
    "\n",
    "var interpretObject = (results) =>\n",
    "    (typeof results[0] !== 'undefined' && typeof results[0] !== 'string'\n",
    "    ? Promise.all(results.map((res) => Promise.all(res.map(r => {\n",
    "        delete cacheIds[r].function;\n",
    "        return getFresher(cacheIds[r]);\n",
    "    }))))\n",
    "    : Promise.all(results.map(r => {\n",
    "        delete cacheIds[r].function;\n",
    "        return getFresher(cacheIds[r]);\n",
    "    })));\n",
    "$$.sendResult(interpretObject);\n"
   ]
  },
  {
   "cell_type": "markdown",
   "metadata": {},
   "source": [
    "How to execute a cell from interpreted search results?\n"
   ]
  },
  {
   "cell_type": "code",
   "execution_count": 10,
   "metadata": {
    "collapsed": false,
    "inputHidden": false,
    "outputHidden": false
   },
   "outputs": [
    {
     "data": {
      "text/plain": [
       "[Function: intend]"
      ]
     },
     "execution_count": 10,
     "metadata": {},
     "output_type": "execute_result"
    }
   ],
   "source": [
    "var importer = require(__dirname);\n",
    "var runAllPromises = importer.runAllPromises;\n",
    "var imported = importer.imported;\n",
    "// An intention is the same as interpret but gracefully executes or returns markdown\n",
    "(intend = (message, a1, a2, a3, a4, a5, a6, a7, a8, a9) => {\n",
    "    var intentions = message;\n",
    "    if (typeof message === 'string') {\n",
    "        intentions = [message];\n",
    "    }\n",
    "    return runAllPromises(intentions.map(m => {\n",
    "        return Promise.resolve(interpret(m))\n",
    "            .then(r => {\n",
    "            if(r.length === 1 || \n",
    "                typeof imported[cacheIds[r[0]].notebook][r[0]] \n",
    "                    !== 'undefined') {\n",
    "                // TODO: dependency injection here?\n",
    "                return imported[cacheIds[r[0]].notebook][r[0]]\n",
    "                    .apply(this, [a1, a2, a3, a4, a5, a6, a7, a8, a9]);\n",
    "            } else {\n",
    "                return interpretMarkdown([r]);\n",
    "            }\n",
    "        })\n",
    "    }));\n",
    "});\n",
    "\n"
   ]
  },
  {
   "cell_type": "code",
   "execution_count": null,
   "metadata": {
    "collapsed": false,
    "inputHidden": false,
    "outputHidden": false
   },
   "outputs": [],
   "source": []
  }
 ],
 "metadata": {
  "kernel_info": {
   "name": "javascript"
  },
  "kernelspec": {
   "display_name": "Javascript (Node.js)",
   "language": "javascript",
   "name": "javascript"
  },
  "language_info": {
   "file_extension": ".js",
   "mimetype": "application/javascript",
   "name": "javascript",
   "version": "7.7.2"
  }
 },
 "nbformat": 4,
 "nbformat_minor": 4
}
