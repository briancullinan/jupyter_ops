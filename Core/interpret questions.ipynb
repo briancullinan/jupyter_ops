{
 "cells": [
  {
   "cell_type": "markdown",
   "metadata": {},
   "source": [
    "\n",
    "TLDR; How to use fuse.js to implement a simple search?\n",
    "\n",
    "# How to interpret questions in jupyter notebooks?\n",
    "\n",
    "How to turn jupyter notebooks in to modules?\n",
    "\n",
    "How to answer questions using jupyter notebooks and simple search?\n",
    "\n",
    "How to search jupter notebooks for questions and answers?\n",
    "\n"
   ]
  },
  {
   "cell_type": "code",
   "execution_count": 1,
   "metadata": {
    "collapsed": false,
    "inputHidden": false,
    "outputHidden": false
   },
   "outputs": [
    {
     "data": {
      "text/plain": [
       "[Function: interpret]"
      ]
     },
     "execution_count": 1,
     "metadata": {},
     "output_type": "execute_result"
    }
   ],
   "source": [
    "// install fuse\n",
    "var path = require('path');\n",
    "\n",
    "if (typeof cellCache === 'undefined') {\n",
    "    var cellCache = [];\n",
    "}\n",
    "\n",
    "var Fuse = require('fuse.js');\n",
    "var fuse = new Fuse(cellCache, {\n",
    "    shouldSort: true,\n",
    "    keys: ['question'],\n",
    "    id: 'id'\n",
    "});\n",
    "\n",
    "var fuseSearch = (message) => {\n",
    "    const fname = path.basename(message);\n",
    "    const notebook = cellCache.filter(c => c.id.substr(0, fname.length + 1) === fname + '[');\n",
    "    if(notebook.length > 0) {\n",
    "       return notebook.map(c => c.id);\n",
    "    }\n",
    "    return fuse.search(message);\n",
    "};\n",
    "module.exports = fuseSearch;\n"
   ]
  },
  {
   "cell_type": "markdown",
   "metadata": {},
   "source": [
    "How to cache notebook questions in fuse?"
   ]
  },
  {
   "cell_type": "code",
   "execution_count": 2,
   "metadata": {
    "collapsed": false,
    "inputHidden": false,
    "outputHidden": false
   },
   "outputs": [
    {
     "data": {
      "text/plain": [
       "[Function: interpretNotebook]"
      ]
     },
     "execution_count": 2,
     "metadata": {},
     "output_type": "execute_result"
    }
   ],
   "source": [
    "var path = require('path');\r",
    "var getCells = require('../Core').getCells;\r",
    "var cacheCells = (cells, notebook) => {\r",
    "}; // defined below\r",
    "// interpret notebooks by importing them in to cache\r",
    "var cacheNotebook = (notebook) => {\n",
    "    return cacheCells(getCells(notebook, ['*', 'markdown', 'code']), notebook);\r",
    "};\r",
    "module.exports = cacheNotebook;\r"
   ]
  },
  {
   "cell_type": "markdown",
   "metadata": {},
   "source": [
    "How to find questions leading up to jupter cells?\n",
    "\n",
    "How to read markdown leading up to code cells?\n"
   ]
  },
  {
   "cell_type": "code",
   "execution_count": 16,
   "metadata": {
    "collapsed": false,
    "inputHidden": false,
    "outputHidden": false
   },
   "outputs": [
    {
     "data": {
      "text/plain": [
       "[Function: accumulateMarkdown]"
      ]
     },
     "execution_count": 16,
     "metadata": {},
     "output_type": "execute_result"
    }
   ],
   "source": [
    "// TODO: use the m flag option for regexp?\r",
    "var re = new RegExp('(^|\\\\n).*?\\\\?(\\\\s+|$)', 'ig');\r",
    "var re2 = new RegExp('(^|\\\\n)//.*\\\\?(\\\\s+|$)', 'ig')\r",
    "\r",
    "var accumulateMarkdown = (cells) => {\r",
    "    var counter = 0, prev = [];\r",
    "    return cells.reduce((md, c) => {\r",
    "        counter++;\r",
    "        var source = c.source.join('');\r",
    "        if (c.cell_type === 'markdown') {\r",
    "            prev.push(source);\r",
    "            return md;\r",
    "        } else if (c.cell_type !== 'code') {\r",
    "            return md;\r",
    "        }\r",
    "        // TODO: improve the counter\r",
    "        var cell = {code: source, markdown: prev, from: counter - 1, to: counter, language: c.language};\r",
    "        prev = [];\r",
    "        md.push(cell);\r",
    "        return md;\r",
    "    }, []);\r",
    "};\r",
    "\r",
    "// How to convert a string to an Array of RegEx matches\r",
    "var regexToArray = (ex, str, i = 0) => {\r",
    "    var co = [];\r",
    "    var m;\r",
    "    while ((m = ex.exec(str)) && co.push(m[i])) ;\r",
    "    return co;\r",
    "};\r",
    "\r",
    "module.exports = accumulateMarkdown;\r"
   ]
  },
  {
   "cell_type": "markdown",
   "metadata": {},
   "source": [
    "\n",
    "\n",
    "This is a complex question to answer.  Perhaps using IBM Watson language alchemy?\n",
    "\n",
    "How to find functions in jupyter notebooks?\n",
    "\n"
   ]
  },
  {
   "cell_type": "code",
   "execution_count": null,
   "metadata": {
    "collapsed": false,
    "inputHidden": false,
    "outputHidden": false
   },
   "outputs": [],
   "source": [
    "// TODO: interpret markdown leading up to code results and find the resulting function in the list\r",
    "// for now, the boring solution is to assume all markdown output is a question?\r",
    "\r",
    "// How to store code markdown results for later use?\r",
    "if (typeof cellCache === 'undefined') {\r",
    "    var cellCache = [];\r",
    "}\r",
    "if (typeof cacheIds === 'undefined') {\r",
    "    var cacheIds = {};\r",
    "}\r",
    "var cacheCells = ((cells, notebook) => {\n",
    "    var filename = path.basename(notebook);\r",
    "    var newCache = accumulateMarkdown(cells);\r",
    "    newCache.forEach((c, i) => {\r",
    "        if (typeof cacheIds[filename + '[' + i + ']'] !== 'undefined') {\r",
    "            return;\r",
    "        }\r",
    "        var questions = regexToArray(re, c.markdown)\r",
    "            .concat(regexToArray(re, c.source)\r",
    "                .map(r => r.replace(/how to|?/ig, '')));\r",
    "        cacheIds[filename + '[' + i + ']'] = Object.assign({}, c, {\r",
    "            id: filename + '[' + i + ']',\r",
    "            filename: notebook,\r",
    "            questions: questions,\r",
    "            notebook: filename,\r",
    "        });\r",
    "        questions.forEach((q) => cellCache.push({\r",
    "            id: filename + '[' + i + ']',\r",
    "            question: q\r",
    "        }));\r",
    "    });\r",
    "    return cellCache;\r",
    "});\r",
    "module.exports = cacheCells;\r",
    "\r"
   ]
  },
  {
   "cell_type": "markdown",
   "metadata": {},
   "source": [
    "How to interpret a jupyter {directory}?\n",
    "\n",
    "How to display interpreted results in markdown?\n",
    "\n",
    "How to test the interpreter works?\n"
   ]
  },
  {
   "cell_type": "code",
   "execution_count": 11,
   "metadata": {
    "collapsed": false,
    "inputHidden": false,
    "outputHidden": false
   },
   "outputs": [
    {
     "data": {
      "text/plain": [
       "[Function: interpretMarkdown]"
      ]
     },
     "execution_count": 11,
     "metadata": {},
     "output_type": "execute_result"
    }
   ],
   "source": [
    "// How to represent search results in markdown?\r",
    "var resultMarkdown = (res) => {\r",
    "    return ('\\n\\n\\n' + res.length + ' match'\r",
    "        + (res.length !== 1 ? 'es' : '')\r",
    "        + ' found: ' + res.join(' , ') + '\\n\\n\\n'\r",
    "        + (res.length > 0\r",
    "            ? ('\\n\\n\\n' + cacheIds[res[0]].markdown.join('\\n') + '\\n\\n\\n'\r",
    "                + '```\\n\\n\\n' + cacheIds[res[0]].code + '\\n\\n\\n```\\n\\n\\n')\r",
    "            : ''));\r",
    "};\r",
    "\r",
    "var interpretMarkdown = (results) =>\r",
    "    (typeof results[0] !== 'undefined' && typeof results[0] !== 'string'\r",
    "        ? results.reduce((str, res) => {\r",
    "            str += resultMarkdown(res);\r",
    "            return str;\r",
    "        }, '')\r",
    "        : resultMarkdown(results));\r",
    "\r",
    "module.exports = interpretMarkdown;\r"
   ]
  },
  {
   "cell_type": "code",
   "execution_count": 10,
   "metadata": {
    "collapsed": false,
    "inputHidden": false,
    "outputHidden": false
   },
   "outputs": [
    {
     "data": {
      "text/plain": [
       "[Function: interpretObject]"
      ]
     },
     "execution_count": 10,
     "metadata": {},
     "output_type": "execute_result"
    }
   ],
   "source": [
    "var getCells = require('../Core').getCells;\r",
    "\r",
    "var getFresher = (cache) => {\r",
    "    const r = getCells(cache.filename, ['*', 'markdown', 'code'])\r",
    "    cache.fresher = accumulateMarkdown(r.slice(cache.from, cache.to))[0].code;\n",
    "    return cache;\n",
    "};\r",
    "\r",
    "var interpretObject = (results) => {\n",
    "    return typeof results[0] !== 'undefined' && typeof results[0] !== 'string'\r",
    "        ? results.map((res) => res.map(r => {\r",
    "            return getFresher(cacheIds[r]);\r",
    "        }))\r",
    "        : results.map(r => {\r",
    "            return getFresher(cacheIds[r]);\r",
    "        })\r",
    "};\r",
    "module.exports = interpretObject;\r"
   ]
  },
  {
   "cell_type": "code",
   "execution_count": null,
   "metadata": {},
   "outputs": [],
   "source": []
  }
 ],
 "metadata": {
  "kernel_info": {
   "name": "javascript"
  },
  "kernelspec": {
   "display_name": "Javascript (Node.js)",
   "language": "javascript",
   "name": "javascript"
  },
  "language_info": {
   "file_extension": ".js",
   "mimetype": "application/javascript",
   "name": "javascript",
   "version": "8.8.1"
  }
 },
 "nbformat": 4,
 "nbformat_minor": 4
}
