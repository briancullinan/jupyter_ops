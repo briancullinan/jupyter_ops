{
 "cells": [
  {
   "cell_type": "markdown",
   "metadata": {},
   "source": [
    "\n",
    "TLDR; How to use fuse.js to implement a simple search?\n",
    "\n",
    "# How to interpret questions in jupyter notebooks?\n",
    "\n",
    "How to turn jupyter notebooks in to modules?\n",
    "\n",
    "How to answer questions using jupyter notebooks and simple search?\n",
    "\n",
    "How to search jupter notebooks for questions and answers?\n",
    "\n"
   ]
  },
  {
   "cell_type": "code",
   "execution_count": 1,
   "metadata": {
    "collapsed": false,
    "inputHidden": false,
    "outputHidden": false
   },
   "outputs": [
    {
     "data": {
      "text/plain": [
       "[Function: interpret]"
      ]
     },
     "execution_count": 1,
     "metadata": {},
     "output_type": "execute_result"
    }
   ],
   "source": [
    "// install fuse\n",
    "var path = require('path');\n",
    "\n",
    "if (typeof cellCache === 'undefined') {\n",
    "    var cellCache = [];\n",
    "}\n",
    "if (typeof cacheIds === 'undefined') {\n",
    "    var cacheIds = {};\n",
    "}\n",
    "var Fuse = require('fuse.js');\n",
    "var fuse = new Fuse(cellCache, {\n",
    "    shouldSort: true,\n",
    "    keys: ['question'],\n",
    "    id: 'id'\n",
    "});\n",
    "\n",
    "// filter query results by filename\n",
    "var filterFilename = (arr, fname) => arr.filter(id => id.substr(0, fname.length + 1) === fname + '[')\n",
    "\n",
    "var fuseSearch = (message) => {\n",
    "    const cellIds = Object.keys(cacheIds);\n",
    "    const query = path.basename(message).split(/[\\[\\]]/ig);\n",
    "    const files = filterFilename(cellIds, query[0]);\n",
    "    if (query.length === 3) {\n",
    "        // filter query using exact cell if it is numeric\n",
    "        return filterFilename(parseInt(query[1]) + '' === query[1]\n",
    "            ? cellIds.filter(id => id === path.basename(message))\n",
    "            : fuse.search(query[1]), query[0])\n",
    "    } else if (query[0].indexOf('.ipynb') > -1 || query.length === 1 && files.length > 0) {\n",
    "        return files;\n",
    "    } else {\n",
    "        return fuse.search(message);\n",
    "    }\n",
    "};\n",
    "module.exports = fuseSearch;\n"
   ]
  },
  {
   "cell_type": "markdown",
   "metadata": {},
   "source": [
    "How to cache notebook questions in fuse?"
   ]
  },
  {
   "cell_type": "code",
   "execution_count": 2,
   "metadata": {
    "collapsed": false,
    "inputHidden": false,
    "outputHidden": false
   },
   "outputs": [
    {
     "data": {
      "text/plain": [
       "[Function: interpretNotebook]"
      ]
     },
     "execution_count": 2,
     "metadata": {},
     "output_type": "execute_result"
    }
   ],
   "source": [
    "var path = require('path');\r",
    "var getCells = require('../Core').getCells;\r",
    "\r",
    "// interpret notebooks by importing them in to cache\r",
    "var cacheNotebook = (notebook) => {\n",
    "    return cacheCells(getCells(notebook, ['*', 'markdown', 'code']), notebook);\r",
    "};\r",
    "module.exports = cacheNotebook;\r"
   ]
  },
  {
   "cell_type": "markdown",
   "metadata": {},
   "source": [
    "How to find questions leading up to jupter cells?\n",
    "\n",
    "How to read markdown leading up to code cells?\n"
   ]
  },
  {
   "cell_type": "code",
   "execution_count": 16,
   "metadata": {
    "collapsed": false,
    "inputHidden": false,
    "outputHidden": false
   },
   "outputs": [
    {
     "data": {
      "text/plain": [
       "[Function: accumulateMarkdown]"
      ]
     },
     "execution_count": 16,
     "metadata": {},
     "output_type": "execute_result"
    }
   ],
   "source": [
    "// TODO: use the m flag option for regexp?\n",
    "var re = (/^.*\\?.*$/igm);\n",
    "var re2 = new RegExp('(^|\\\\n)//.*\\\\?([\\\\n\\\\s]+|$)', 'ig')\n",
    "\n",
    "var accumulateMarkdown = (cells) => {\n",
    "    var counter = 0, prev = [];\n",
    "    return cells.reduce((md, c) => {\n",
    "        counter++;\n",
    "        var source = c.source.join('');\n",
    "        if (c.cell_type === 'markdown') {\n",
    "            prev.push(source);\n",
    "            return md;\n",
    "        } else if (c.cell_type !== 'code') {\n",
    "            return md;\n",
    "        }\n",
    "        // TODO: improve the counter\n",
    "        var cell = {code: source, markdown: prev, from: counter - 1, to: counter, language: c.language};\n",
    "        prev = [];\n",
    "        md.push(cell);\n",
    "        return md;\n",
    "    }, []);\n",
    "};\n",
    "\n",
    "// How to convert a string to an Array of RegEx matches\n",
    "var regexToArray = (ex, str, i = 0) => {\n",
    "    var co = [];\n",
    "    var m;\n",
    "    while ((m = ex.exec(str)) && co.push(m[i])) ;\n",
    "    return co;\n",
    "};\n",
    "\n"
   ]
  },
  {
   "cell_type": "markdown",
   "metadata": {},
   "source": [
    "\n",
    "\n",
    "This is a complex question to answer.  Perhaps using IBM Watson language alchemy?\n",
    "\n",
    "How to find functions in jupyter notebooks?\n",
    "\n"
   ]
  },
  {
   "cell_type": "code",
   "execution_count": null,
   "metadata": {
    "collapsed": false,
    "inputHidden": false,
    "outputHidden": false
   },
   "outputs": [],
   "source": [
    "// TODO: interpret markdown leading up to code results and find the resulting function in the list\r",
    "// for now, the boring solution is to assume all markdown output is a question?\r",
    "\r",
    "// How to store code markdown results for later use?\r",
    "if (typeof cellCache === 'undefined') {\r",
    "    var cellCache = [];\n",
    "}\r",
    "if (typeof cacheIds === 'undefined') {\r",
    "    var cacheIds = {};\r",
    "}\r",
    "var cacheCells = ((cells, notebook) => {\n",
    "    var filename = path.basename(notebook);\n",
    "    // update cells when files change\n",
    "    cellCache.forEach(c => {\n",
    "        if(c.id.indexOf(filename) > -1) {\n",
    "            // does this evaluate in contant time because it is by reference?\n",
    "            cellCache.splice(cellCache.indexOf(c), 1);\n",
    "        }\n",
    "    });\n",
    "    var newCache = accumulateMarkdown(cells);\r",
    "    newCache.forEach((c, i) => {\n",
    "        var questions = regexToArray(re, c.markdown)\n",
    "            .map(r => r.replace(/how to|\\?/ig, '').trim())\r",
    "            .concat(regexToArray(re, c.source)\r",
    "                .map(r => r.replace(/how to|\\?/ig, '').trim()));\n",
    "        cacheIds[filename + '[' + i + ']'] = Object.assign({}, c, {\r",
    "            id: filename + '[' + i + ']',\r",
    "            filename: notebook,\r",
    "            questions: questions,\r",
    "            notebook: filename,\r",
    "        });\r",
    "        questions.forEach((q) => cellCache.push({\r",
    "            id: filename + '[' + i + ']',\r",
    "            question: q\r",
    "        }));\r",
    "    });\n",
    "    return cellCache;\r",
    "});\r",
    "\r"
   ]
  },
  {
   "cell_type": "markdown",
   "metadata": {},
   "source": [
    "How to interpret a jupyter {directory}?\n",
    "\n",
    "How to display interpreted results in markdown?\n",
    "\n"
   ]
  },
  {
   "cell_type": "code",
   "execution_count": 11,
   "metadata": {
    "collapsed": false,
    "inputHidden": false,
    "outputHidden": false
   },
   "outputs": [
    {
     "data": {
      "text/plain": [
       "[Function: interpretMarkdown]"
      ]
     },
     "execution_count": 11,
     "metadata": {},
     "output_type": "execute_result"
    }
   ],
   "source": [
    "// How to represent search results in markdown?\r",
    "var resultMarkdown = (res) => {\r",
    "    return ('\\n\\n\\n' + res.length + ' match'\r",
    "        + (res.length !== 1 ? 'es' : '')\r",
    "        + ' found: ' + res.join(' , ') + '\\n\\n\\n'\r",
    "        + (res.length > 0\r",
    "            ? ('\\n\\n\\n' + cacheIds[res[0]].markdown.join('\\n') + '\\n\\n\\n'\r",
    "                + '```\\n\\n\\n' + cacheIds[res[0]].code + '\\n\\n\\n```\\n\\n\\n')\r",
    "            : ''));\r",
    "};\r",
    "\r",
    "var interpretMarkdown = (results) =>\r",
    "    (typeof results[0] !== 'undefined' && typeof results[0] !== 'string'\r",
    "        ? results.reduce((str, res) => {\r",
    "            str += resultMarkdown(res);\r",
    "            return str;\r",
    "        }, '')\r",
    "        : resultMarkdown(results));\r",
    "\r",
    "module.exports = interpretMarkdown;\r"
   ]
  },
  {
   "cell_type": "code",
   "execution_count": 10,
   "metadata": {
    "collapsed": false,
    "inputHidden": false,
    "outputHidden": false
   },
   "outputs": [
    {
     "data": {
      "text/plain": [
       "[Function: interpretObject]"
      ]
     },
     "execution_count": 10,
     "metadata": {},
     "output_type": "execute_result"
    }
   ],
   "source": [
    "var getCells = require('../Core').getCells;\n",
    "\n",
    "var getFresher = (cache) => {\n",
    "    try {\n",
    "        if(typeof cache === 'undefined') {\n",
    "            return cache;\n",
    "        }\n",
    "        const r = getCells(cache.filename, ['*', 'markdown', 'code'])\n",
    "        const cells = r.slice(cache.from, cache.to);\n",
    "        cache.fresher = accumulateMarkdown(cells)[0].code;\n",
    "    } finally {\n",
    "        return cache;\n",
    "    }\n",
    "};\n",
    "\n",
    "var interpretObject = (results) => {\n",
    "    return typeof results[0] !== 'undefined' && typeof results[0] !== 'string'\n",
    "        ? results.map((res) => res.map(r => {\n",
    "            return getFresher(cacheIds[r]);\n",
    "        }))\n",
    "        : results.map(r => {\n",
    "            return getFresher(cacheIds[r]);\n",
    "        })\n",
    "};\n",
    "module.exports = interpretObject;\n"
   ]
  },
  {
   "cell_type": "markdown",
   "metadata": {},
   "source": [
    "How to test the interpreter works?\n"
   ]
  },
  {
   "cell_type": "code",
   "execution_count": null,
   "metadata": {},
   "outputs": [],
   "source": [
    "\n",
    "// do nothing in cell run mode, describe is injected by test runner.ipynb\n",
    "if(typeof describe === 'undefined') {\n",
    "    var describe = (() => {});\n",
    "}\n",
    "\n",
    "describe('importer search service', () => {\n",
    "    it('should require a codebase using nothing but search terms', () => {\n",
    "        \n",
    "    })\n",
    "    \n",
    "    it('should match entire notebooks', () => {\n",
    "        \n",
    "    })\n",
    "    \n",
    "    it('should match code cells by numeric index', () => {\n",
    "        \n",
    "    })\n",
    "    \n",
    "    it('should return the full cell descriptor from a list of IDs', () => {\n",
    "        \n",
    "    })\n",
    "    \n",
    "    it('should store searchable content for later lookup', () => {\n",
    "        /*\n",
    "        var assert = require('assert');\n",
    "        var testNotebook = 'test import.ipynb';\n",
    "        var testCells = [\n",
    "            {cell_type: 'code', source: []},\n",
    "            {cell_type: 'markdown', source: ['how to test for errors line 2?']},\n",
    "            {cell_type: 'code', source: ['(function (err) { throw error; })']}\n",
    "        ];\n",
    "        global[testNotebook + '[1]']\n",
    "            = eval(testCells[testCells.length - 1].source.join('').trim());\n",
    "        var markdownCache = cacheCells(testCells, testNotebook);\n",
    "        assert(markdownCache[0].id == testNotebook + '[1]');\n",
    "        */\n",
    "    })\n",
    "    \n",
    "})\n",
    "\n"
   ]
  }
 ],
 "metadata": {
  "kernel_info": {
   "name": "javascript"
  },
  "kernelspec": {
   "display_name": "Javascript (Node.js)",
   "language": "javascript",
   "name": "javascript"
  },
  "language_info": {
   "file_extension": ".js",
   "mimetype": "application/javascript",
   "name": "javascript",
   "version": "8.6.0"
  }
 },
 "nbformat": 4,
 "nbformat_minor": 4
}
