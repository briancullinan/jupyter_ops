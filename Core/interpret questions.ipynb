{
 "cells": [
  {
   "cell_type": "markdown",
   "metadata": {},
   "source": [
    "How to find questions leading up to jupter cells?\n",
    "\n",
    "How to read markdown leading up to code cells?\n"
   ]
  },
  {
   "cell_type": "code",
   "execution_count": 16,
   "metadata": {
    "collapsed": false,
    "inputHidden": false,
    "outputHidden": false
   },
   "outputs": [
    {
     "data": {
      "text/plain": [
       "[Function: accumulateMarkdown]"
      ]
     },
     "execution_count": 16,
     "metadata": {},
     "output_type": "execute_result"
    }
   ],
   "source": [
    "// TODO: use the m flag option for regexp?\n",
    "\n",
    "function accumulateMarkdown(cells) {\n",
    "    var counter = 0, prev = [];\n",
    "    return cells.reduce((md, c) => {\n",
    "        counter++;\n",
    "        var source = c.source.join('');\n",
    "        if (c.cell_type === 'markdown') {\n",
    "            prev.push(source);\n",
    "            return md;\n",
    "        } else if (c.cell_type !== 'code') {\n",
    "            return md;\n",
    "        }\n",
    "        // TODO: improve the counter\n",
    "        var cell = {\n",
    "            code: source, markdown: prev,\n",
    "            from: counter - 1, to: counter,\n",
    "            language: c.language\n",
    "        };\n",
    "        prev = [];\n",
    "        md.push(cell);\n",
    "        return md;\n",
    "    }, []);\n",
    "}\n",
    "\n",
    "module.exports = accumulateMarkdown;\n",
    "\n"
   ]
  },
  {
   "cell_type": "markdown",
   "metadata": {},
   "source": [
    "This is a complex question to answer.  Perhaps using IBM Watson language alchemy?\n",
    "\n",
    "How to find functions in jupyter notebooks?\n",
    "\n",
    "How to cache notebook questions in fuse?\n",
    "\n"
   ]
  },
  {
   "cell_type": "code",
   "execution_count": null,
   "metadata": {
    "collapsed": false,
    "inputHidden": false,
    "outputHidden": false
   },
   "outputs": [],
   "source": [
    "// TODO: interpret markdown leading up to code results and find the resulting function in the list\n",
    "// for now, the boring solution is to assume all markdown output is a question?\n",
    "var path = require('path');\n",
    "var fs = require('fs');\n",
    "var MATCH_QUESTIONS = (/^.*\\?.*$/igm);\n",
    "//var re2 = new RegExp('(^|\\\\n)//.*\\\\?([\\\\n\\\\s]+|$)', 'ig')\n",
    "\n",
    "// How to store code markdown results for later use?\n",
    "if (typeof cellCache === 'undefined') {\n",
    "    var cellCache = [];\n",
    "}\n",
    "if (typeof cacheIds === 'undefined') {\n",
    "    var cacheIds = {};\n",
    "}\n",
    "\n",
    "// How to convert a string to an Array of RegEx matches\n",
    "function regexToArray(ex, str, i = 0) {\n",
    "    var co = [];\n",
    "    var m;\n",
    "    while ((m = ex.exec(str)) && co.push(m[i])) ;\n",
    "    return co;\n",
    "};\n",
    "\n",
    "function cacheCells(cells, notebook) {\n",
    "    if(typeof cells === 'string' && cacheIds[cells] && typeof notebook === 'undefined') {\n",
    "        return cacheIds[cells];\n",
    "    }\n",
    "    if(cells.length === 0 || notebook.length === 0) {\n",
    "        return cellCache;\n",
    "    }\n",
    "    var filename = path.basename(notebook);\n",
    "    // TODO: combine this remove logic with the \"fresher\" logic below?\n",
    "    // update cells when files change, remove old cells from cache\n",
    "    cellCache.forEach(c => {\n",
    "        if(c.id.split('[')[0] === filename) {\n",
    "            // TODO: Long-term language analysis, find V8 source code for splice,\n",
    "            //   does this evaluate in constant time because it is by reference?\n",
    "            //   how does this compare to PHP?\n",
    "            cellCache.splice(cellCache.indexOf(c), 1);\n",
    "        }\n",
    "    });\n",
    "    var newCache = accumulateMarkdown(cells);\n",
    "    var mtime = fs.existsSync(notebook) ? fs.statSync(notebook).mtime.getTime() : (new Date()).getTime();\n",
    "    newCache.forEach((c, i) => {\n",
    "        var questions = regexToArray(MATCH_QUESTIONS, c.markdown)\n",
    "            .map(r => r.replace(/how to|\\?/ig, '').trim())\n",
    "            .concat(regexToArray(MATCH_QUESTIONS, c.source)\n",
    "                .map(r => r.replace(/how to|\\?/ig, '').trim()));\n",
    "        if(questions.length === 0) {\n",
    "            questions = [''];\n",
    "        }\n",
    "        const newCell = Object.assign({}, c, {\n",
    "            id: filename + '[' + i + ']',\n",
    "            filename: notebook,\n",
    "            questions: questions,\n",
    "            notebook: filename,\n",
    "            fresher: c.code,\n",
    "            mtime: mtime\n",
    "        });\n",
    "        cacheIds[filename + '[' + i + ']'] = newCell;\n",
    "        questions.forEach((q) => cellCache.push({\n",
    "            id: filename + '[' + i + ']',\n",
    "            question: q\n",
    "        }));\n",
    "    });\n",
    "    return cellCache;\n",
    "}\n",
    "module.exports = cacheCells;\n"
   ]
  },
  {
   "cell_type": "markdown",
   "metadata": {},
   "source": [
    "How to display interpreted results in markdown?\n",
    "\n"
   ]
  },
  {
   "cell_type": "code",
   "execution_count": 11,
   "metadata": {
    "collapsed": false,
    "inputHidden": false,
    "outputHidden": false
   },
   "outputs": [
    {
     "data": {
      "text/plain": [
       "[Function: interpretMarkdown]"
      ]
     },
     "execution_count": 11,
     "metadata": {},
     "output_type": "execute_result"
    }
   ],
   "source": [
    "// How to represent search results in markdown?\n",
    "function resultMarkdown(res) {\n",
    "    return ('\\n\\n\\n' + res.length + ' match'\n",
    "        + (res.length !== 1 ? 'es' : '')\n",
    "        + ' found: ' + res.join(' , ') + '\\n\\n\\n'\n",
    "        + (res.length > 0\n",
    "            ? ('\\n\\n\\n' + cacheCells(res[0]).markdown.join('\\n') + '\\n\\n\\n'\n",
    "                + '```\\n\\n\\n' + cacheCells(res[0]).code + '\\n\\n\\n```\\n\\n\\n')\n",
    "            : ''));\n",
    "};\n",
    "\n",
    "function interpretMarkdown(results) {\n",
    "    return (typeof results[0] !== 'undefined' && typeof results[0] !== 'string'\n",
    "        ? results.reduce((str, res) => {\n",
    "            str += resultMarkdown(res);\n",
    "            return str;\n",
    "        }, '')\n",
    "        : resultMarkdown(results));\n",
    "}\n",
    "\n",
    "module.exports = interpretMarkdown;\n"
   ]
  },
  {
   "cell_type": "markdown",
   "metadata": {},
   "source": [
    "How to search notebook questions?\n",
    "\n",
    "How to answer questions using jupyter notebooks and simple search?\n",
    "\n",
    "How to search jupter notebooks for questions and answers?\n"
   ]
  },
  {
   "cell_type": "code",
   "execution_count": 1,
   "metadata": {
    "collapsed": false,
    "inputHidden": false,
    "outputHidden": false
   },
   "outputs": [
    {
     "data": {
      "text/plain": [
       "[Function: interpret]"
      ]
     },
     "execution_count": 1,
     "metadata": {},
     "output_type": "execute_result"
    }
   ],
   "source": [
    "// install fuse\n",
    "var path = require('path');\n",
    "var fs = require('fs');\n",
    "var Fuse = require('fuse.js');\n",
    "var importer = require('../Core');\n",
    "\n",
    "var FUSE_CONFIG = {\n",
    "    caseSensitive: false,\n",
    "    findAllMatches: true,\n",
    "    distance: 100,\n",
    "    threshold: 0.5,\n",
    "    tokenize: false,\n",
    "    shouldSort: true,\n",
    "    keys: ['question'],\n",
    "    id: 'id'\n",
    "}\n",
    "var fuse = new Fuse(cacheCells([], ''), FUSE_CONFIG);\n",
    "\n",
    "// filter query results by filename\n",
    "function filterFilename(arr, fname) { return arr.filter(id => id.substr(0, fname.length + 1) === fname + '['); }\n",
    "\n",
    "function fuseSearch(queries) {\n",
    "    const cellIds = cacheCells([], '').map(c => c.id);\n",
    "    const query = path.basename(queries).split(/[\\[\\]]/ig);\n",
    "    const files = filterFilename(cellIds, query[0])\n",
    "        .sort((a, b) => parseInt(a.split(/[\\[\\]]/ig)[1]) - parseInt(b.split(/[\\[\\]]/ig)[1]));\n",
    "    const isFileSearch = query.length === 1 && (query[0].indexOf('.ipynb') > -1 || files.length > 0);\n",
    "    let searchResults;\n",
    "    if (query.length === 3) {\n",
    "        // TODO: return all code cells and perform a new fuse search for the notebook\n",
    "        // filter query using exact cell if it is numeric\n",
    "        searchResults = filterFilename(parseInt(query[1]) + '' === query[1] // check if using numeric\n",
    "            ? cellIds.filter(id => id === path.basename(queries))\n",
    "            : fuse.search(query[1]), query[0])\n",
    "    } else if (isFileSearch) {\n",
    "        searchResults = files;\n",
    "    } else {\n",
    "        searchResults = fuse.search(queries);\n",
    "    }\n",
    "    searchResults = searchResults.filter((r, i, arr) => arr.indexOf(r) === i);\n",
    "    if(searchResults.length === 0) {\n",
    "        throw new Error('Nothing found for ' + JSON.stringify(queries).substr(0, 200));\n",
    "    }\n",
    "    return isFileSearch ? interpretObject(searchResults) : interpretObject([searchResults[0]])[0];\n",
    "}\n",
    "\n",
    "function getFresher(cache) {\n",
    "    try {\n",
    "        const mtime = fs.statSync(cache.filename).mtime.getTime();\n",
    "        if(mtime > (cache.mtime || 0)) {\n",
    "            cache.mtime = mtime;\n",
    "            const r = importer.getCells(cache.filename, ['*', 'markdown', 'code'])\n",
    "            const cells = r.slice(cache.from, cache.to);\n",
    "            cache.fresher = accumulateMarkdown(cells)[0].code;\n",
    "        }\n",
    "    } finally {\n",
    "        return Object.assign({}, cache);\n",
    "    }\n",
    "}\n",
    "\n",
    "function interpretObject(results) {\n",
    "    return typeof results[0] !== 'undefined' && typeof results[0] !== 'string'\n",
    "        ? results.map((res) => res.map(r => {\n",
    "            return getFresher(cacheCells(r));\n",
    "        }))\n",
    "        : results.map(r => {\n",
    "            return getFresher(cacheCells(r));\n",
    "        });\n",
    "}\n",
    "\n",
    "module.exports = fuseSearch;\n"
   ]
  },
  {
   "cell_type": "markdown",
   "metadata": {},
   "source": [
    "How to test the interpreter works\n"
   ]
  },
  {
   "cell_type": "code",
   "execution_count": null,
   "metadata": {},
   "outputs": [],
   "source": [
    "\n",
    "// do nothing in cell run mode, describe is injected by test runner.ipynb\n",
    "if(typeof describe === 'undefined') {\n",
    "    var describe = (() => {});\n",
    "}\n",
    "\n",
    "\n",
    "\n",
    "describe('importer search service', () => {\n",
    "    it('should require a codebase using nothing but search terms', () => {\n",
    "        \n",
    "    })\n",
    "    \n",
    "    it('should match entire notebooks', () => {\n",
    "        \n",
    "    })\n",
    "    \n",
    "    it('should match code cells by numeric index', () => {\n",
    "        \n",
    "    })\n",
    "    \n",
    "    it('should return the full cell descriptor from a list of IDs', () => {\n",
    "        \n",
    "    })\n",
    "    \n",
    "    it('should store searchable content for later lookup', () => {\n",
    "        /*\n",
    "        var assert = require('assert');\n",
    "        var testNotebook = 'test import.ipynb';\n",
    "        var testCells = [\n",
    "            {cell_type: 'code', source: []},\n",
    "            {cell_type: 'markdown', source: ['how to test for errors line 2?']},\n",
    "            {cell_type: 'code', source: ['(function (err) { throw error; })']}\n",
    "        ];\n",
    "        global[testNotebook + '[1]']\n",
    "            = eval(testCells[testCells.length - 1].source.join('').trim());\n",
    "        var markdownCache = cacheCells(testCells, testNotebook);\n",
    "        assert(markdownCache[0].id == testNotebook + '[1]');\n",
    "        */\n",
    "    })\n",
    "    \n",
    "})\n",
    "\n"
   ]
  }
 ],
 "metadata": {
  "kernel_info": {
   "name": "javascript"
  },
  "kernelspec": {
   "display_name": "Javascript (Node.js)",
   "language": "javascript",
   "name": "javascript"
  },
  "language_info": {
   "file_extension": ".js",
   "mimetype": "application/javascript",
   "name": "javascript",
   "version": "8.6.0"
  }
 },
 "nbformat": 4,
 "nbformat_minor": 4
}
