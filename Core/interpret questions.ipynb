{
 "cells": [
  {
   "cell_type": "markdown",
   "metadata": {},
   "source": [
    "This is a complex question to answer.  Perhaps using IBM Watson language alchemy?\n",
    "\n",
    "How to find functions in jupyter notebooks?\n",
    "\n",
    "How to cache notebook questions in fuse?\n",
    "\n"
   ]
  },
  {
   "cell_type": "code",
   "execution_count": null,
   "metadata": {
    "inputHidden": false,
    "outputHidden": false
   },
   "outputs": [],
   "source": [
    "// TODO: interpret markdown leading up to code results and find the resulting function in the list\n",
    "// for now, the boring solution is to assume all markdown output is a question?\n",
    "var path = require('path');\n",
    "var fs = require('fs');\n",
    "var MATCH_QUESTIONS = (/^.*\\?.*$/igm);\n",
    "//var re2 = new RegExp('(^|\\\\n)//.*\\\\?([\\\\n\\\\s]+|$)', 'ig')\n",
    "\n",
    "// How to store code markdown results for later use?\n",
    "if (typeof cellCache === 'undefined') {\n",
    "    var cellCache = [];\n",
    "}\n",
    "if (typeof cacheIds === 'undefined') {\n",
    "    var cacheIds = {};\n",
    "}\n",
    "\n",
    "// How to convert a string to an Array of RegEx matches\n",
    "function regexToArray(ex, str, i = 0) {\n",
    "    var co = [];\n",
    "    var m;\n",
    "    while ((m = ex.exec(str)) && co.push(m[i])) ;\n",
    "    return co;\n",
    "};\n",
    "\n",
    "function clearNotebook(filename) {\n",
    "    // update cells when files change, remove old cells from cache\n",
    "    cellCache.forEach(c => {\n",
    "        if(c.id.split('[')[0] === filename) {\n",
    "            cellCache.splice(cellCache.indexOf(c), 1);\n",
    "        }\n",
    "    });\n",
    "}\n",
    "\n",
    "function getQuestions(source, markdown) {\n",
    "    return regexToArray(MATCH_QUESTIONS, markdown)\n",
    "        .map(r => r.replace(/how to|\\?/ig, '').trim())\n",
    "        .concat(regexToArray(MATCH_QUESTIONS, source)\n",
    "            .filter(r => r.match(/how to/ig))\n",
    "            .map(r => r.replace(/how to|\\?/ig, '').trim()))\n",
    "        // find the shortest words from the query to match the same cell\n",
    "        .sort((a, b) => a.length - b.length)\n",
    "}\n",
    "\n",
    "function cacheQuestions(cells) {\n",
    "    // read markdown leading up to code cells\n",
    "    var codes = cells.filter(c => c.cell_type === 'code')\n",
    "    return codes\n",
    "        .map((c, i) => Object.assign(c, {\n",
    "            from: i > 0 ? (cells.indexOf(codes[i-1]) + 1) : 0,\n",
    "            to: cells.indexOf(c)\n",
    "        }))\n",
    "        .map((c, i) => Object.assign(c, {\n",
    "            markdown: cells.slice(c.from, c.to).map(m => m.source.join('')),\n",
    "            code: c.source.join('')\n",
    "        }))\n",
    "}\n",
    "\n",
    "function cacheCells(cells, notebook) {\n",
    "    if(typeof cells === 'string' && typeof notebook === 'undefined') {\n",
    "        return cacheIds[cells];\n",
    "    }\n",
    "    if(cells.length === 0 || notebook.length === 0) {\n",
    "        return cellCache;\n",
    "    }\n",
    "    \n",
    "    var filename = path.basename(notebook);\n",
    "    clearNotebook(filename);\n",
    "    var newCache = cacheQuestions(cells);\n",
    "    var mtime = fs.existsSync(notebook) ? fs.statSync(notebook).mtime.getTime() : (new Date()).getTime();\n",
    "    newCache.forEach((c, i) => {\n",
    "        var questions = getQuestions(c.code, c.markdown) || [''];\n",
    "        cacheIds[filename + '[' + i + ']'] = Object.assign({}, c, {\n",
    "            id: filename + '[' + i + ']',\n",
    "            filename: notebook,\n",
    "            questions: questions,\n",
    "            notebook: filename,\n",
    "            mtime: mtime\n",
    "        });\n",
    "        questions.forEach((q) => cellCache.push({\n",
    "            id: filename + '[' + i + ']',\n",
    "            question: q\n",
    "        }));\n",
    "    });\n",
    "    return cellCache;\n",
    "}\n",
    "\n",
    "module.exports = cacheCells;\n"
   ]
  },
  {
   "cell_type": "markdown",
   "metadata": {},
   "source": [
    "How to display interpreted results in markdown?\n",
    "\n"
   ]
  },
  {
   "cell_type": "code",
   "execution_count": 11,
   "metadata": {
    "inputHidden": false,
    "outputHidden": false
   },
   "outputs": [
    {
     "data": {
      "text/plain": [
       "[Function: interpretMarkdown]"
      ]
     },
     "execution_count": 11,
     "metadata": {},
     "output_type": "execute_result"
    }
   ],
   "source": [
    "// How to represent search results in markdown?\n",
    "function resultMarkdown(res) {\n",
    "    return ('\\n\\n\\n' + res.length + ' match'\n",
    "        + (res.length !== 1 ? 'es' : '')\n",
    "        + ' found: ' + res.join(' , ') + '\\n\\n\\n'\n",
    "        + (res.length > 0\n",
    "            ? ('\\n\\n\\n' + cacheCells(res[0]).markdown.join('\\n') + '\\n\\n\\n'\n",
    "                + '```\\n\\n\\n' + cacheCells(res[0]).code + '\\n\\n\\n```\\n\\n\\n')\n",
    "            : ''));\n",
    "};\n",
    "\n",
    "function interpretMarkdown(results) {\n",
    "    return (typeof results[0] !== 'undefined' && typeof results[0] !== 'string'\n",
    "        ? results.reduce((str, res) => {\n",
    "            str += resultMarkdown(res);\n",
    "            return str;\n",
    "        }, '')\n",
    "        : resultMarkdown(results));\n",
    "}\n",
    "\n",
    "module.exports = interpretMarkdown;\n"
   ]
  },
  {
   "cell_type": "markdown",
   "metadata": {},
   "source": [
    "How to search notebook questions?\n",
    "\n",
    "How to answer questions using jupyter notebooks and simple search?\n",
    "\n",
    "How to search jupter notebooks for questions and answers?\n"
   ]
  },
  {
   "cell_type": "code",
   "execution_count": 1,
   "metadata": {
    "inputHidden": false,
    "outputHidden": false
   },
   "outputs": [
    {
     "data": {
      "text/plain": [
       "[Function: interpret]"
      ]
     },
     "execution_count": 1,
     "metadata": {},
     "output_type": "execute_result"
    }
   ],
   "source": [
    "// install fuse\n",
    "var path = require('path');\n",
    "var fs = require('fs');\n",
    "var Fuse = require('fuse.js');\n",
    "var importer = require('../Core');\n",
    "\n",
    "var FUSE_CONFIG = {\n",
    "    caseSensitive: false,\n",
    "    findAllMatches: true,\n",
    "    distance: 100,\n",
    "    threshold: 0.5,\n",
    "    tokenize: false,\n",
    "    shouldSort: true,\n",
    "    keys: ['question'],\n",
    "    id: 'id'\n",
    "}\n",
    "var fuse = new Fuse(cacheCells([], ''), FUSE_CONFIG);\n",
    "\n",
    "// filter query results by filename\n",
    "function filterFilename(arr, fname) { return arr.filter(id => id.substr(0, fname.length + 1) === fname + '['); }\n",
    "\n",
    "function fuseSearch(queries) {\n",
    "    const cellIds = cacheCells([], '').map(c => c.id);\n",
    "    const query = path.basename(queries).split(/[\\[\\]]/ig);\n",
    "    const fileMode = query.length === 1 && query[0].indexOf('.ipynb') > -1;\n",
    "    let searchResults;\n",
    "    if (query.length === 3) {\n",
    "        var isNumeric = parseInt(query[1]) + '' === query[1];\n",
    "        searchResults = isNumeric\n",
    "            ? cellIds.filter(id => id === path.basename(queries))\n",
    "            : filterFilename(fuse.search(query[1]), query[0])\n",
    "    } else if (fileMode) {\n",
    "        searchResults = filterFilename(cellIds, queries)\n",
    "            .sort((a, b) => parseInt(a.split(/[\\[\\]]/ig)[1]) - parseInt(b.split(/[\\[\\]]/ig)[1]));\n",
    "    } else {\n",
    "        searchResults = fuse.search(queries);\n",
    "    }\n",
    "    if(searchResults.length === 0) {\n",
    "        throw new Error('Nothing found for ' + JSON.stringify(queries).substr(0, 200));\n",
    "    }\n",
    "    return fileMode\n",
    "        ? searchResults.map(r => getFresher(cacheCells(r)))\n",
    "        : getFresher(cacheCells(searchResults[0]));\n",
    "}\n",
    "\n",
    "function getFresher(cache) {\n",
    "    try {\n",
    "        const mtime = fs.statSync(cache.filename).mtime.getTime();\n",
    "        if(mtime > (cache.mtime || 0)) {\n",
    "            cacheCells(importer.getCells(cache.filename, ['*', 'markdown', 'code']), cache.filename)\n",
    "            return cacheCells(cache.id);\n",
    "        }\n",
    "    } finally {\n",
    "        return cache;\n",
    "    }\n",
    "}\n",
    "\n",
    "module.exports = fuseSearch;\n"
   ]
  },
  {
   "cell_type": "markdown",
   "metadata": {},
   "source": [
    "How to search notebook interpreter test?\n"
   ]
  },
  {
   "cell_type": "code",
   "execution_count": null,
   "metadata": {},
   "outputs": [],
   "source": [
    "\n",
    "// do nothing in cell run mode, describe is injected by test runner.ipynb\n",
    "if(typeof describe === 'undefined') {\n",
    "    var describe = (() => {});\n",
    "}\n",
    "\n",
    "\n",
    "\n",
    "describe('importer search service', () => {\n",
    "    it('should require a codebase using nothing but search terms', () => {\n",
    "        \n",
    "    })\n",
    "    \n",
    "    it('should match entire notebooks', () => {\n",
    "        \n",
    "    })\n",
    "    \n",
    "    it('should match code cells by numeric index', () => {\n",
    "        \n",
    "    })\n",
    "    \n",
    "    it('should return the full cell descriptor from a list of IDs', () => {\n",
    "        \n",
    "    })\n",
    "    \n",
    "    it('should store searchable content for later lookup', () => {\n",
    "        /*\n",
    "        var assert = require('assert');\n",
    "        var testNotebook = 'test import.ipynb';\n",
    "        var testCells = [\n",
    "            {cell_type: 'code', source: []},\n",
    "            {cell_type: 'markdown', source: ['how to test for errors line 2?']},\n",
    "            {cell_type: 'code', source: ['(function (err) { throw error; })']}\n",
    "        ];\n",
    "        global[testNotebook + '[1]']\n",
    "            = eval(testCells[testCells.length - 1].source.join('').trim());\n",
    "        var markdownCache = cacheCells(testCells, testNotebook);\n",
    "        assert(markdownCache[0].id == testNotebook + '[1]');\n",
    "        */\n",
    "    })\n",
    "    \n",
    "})\n",
    "\n"
   ]
  }
 ],
 "metadata": {
  "kernel_info": {
   "name": "javascript"
  },
  "kernelspec": {
   "display_name": "Javascript (Node.js)",
   "language": "javascript",
   "name": "javascript"
  },
  "language_info": {
   "file_extension": ".js",
   "mimetype": "application/javascript",
   "name": "javascript",
   "version": "10.16.0"
  }
 },
 "nbformat": 4,
 "nbformat_minor": 4
}
