{
 "cells": [
  {
   "cell_type": "markdown",
   "metadata": {},
   "source": [
    "# ```intent```\n",
    "\n",
    "This notebook is both the documentation and the compiler for `intent`.\n",
    "\n",
    "TODO: write a compiler in node based on compiler in PHP from years ago\n",
    "\n"
   ]
  },
  {
   "cell_type": "markdown",
   "metadata": {
    "heading_collapsed": true
   },
   "source": [
    "## introduction\n",
    "\n",
    "Finally a language with only 1 directive!! Programming is simple, type what you want to do and the code will be derived from many sources to achieve the desired outcome.\n",
    "\n",
    "The compiler was originally written in Node, but it has since absorbed all intentions and written itself with `intent`.  That is the goal (i.e. intent) anyway.\n"
   ]
  },
  {
   "cell_type": "markdown",
   "metadata": {
    "hidden": true
   },
   "source": [
    "### specialities of intent\n",
    "\n",
    "- simplicity, only 1 directive, aspect oriented programming, injecting code in to placing you wouldn't think it could go, see the languages, transpiler, and nlp notebooks for more\n",
    "- defining, classifying, interpreting all computer and spoken languages (TODO: see language notebook and NLP framework for information)\n",
    "- being simple to structure, intent focuses on trees and control flows from a high level, when something breaks or changes intent will tell you\n",
    "- never writing unit tests, because intent recognizes specific patterns, it can mangle/uglify any language, explaining away all sources or nuance\n",
    "- all forms of computer operations and management, since intentions are derived and classified from many sources, common intentions like \n",
    "```\n",
    "try and manage (i.e. show recent activity logs,\n",
    "                costs explorer,\n",
    "                instance information)\n",
    "that server over there (i.e. the test cloud)\n",
    "```\n",
    "becomes transpiled into an advanced application that accepts input from many different sources and outputs to many different information types.\n"
   ]
  },
  {
   "cell_type": "markdown",
   "metadata": {},
   "source": [
    "## ```intent the language!```\n",
    "\n",
    "```\n",
    "the statement above (i.e. intent the language)\n",
    "intends to (i.e. initialize)\n",
    "generate excitement (i.e. compiling? (e.g. ha ha \n",
    "                                      (i.e. adds a sense of humor to output)\n",
    "```\n"
   ]
  },
  {
   "cell_type": "markdown",
   "metadata": {
    "heading_collapsed": true
   },
   "source": [
    "### example usage\n",
    "\n",
    "Write intentions like sentences on a page. You might need to add some () for grouping this like return values or sequenses, just like when writing a sentence (i.e. - means another way of saying).\n"
   ]
  },
  {
   "cell_type": "markdown",
   "metadata": {
    "hidden": true
   },
   "source": [
    "In the intent language i.e. can be used to narrow down on function classifiers (i.e. using a data source) would import various data sources such as Google cloud storage, Amazon ECS resources, an sql database. The context of data source that is needed can be derived from the rest of the statement. For example (e.g. coming soon)\n",
    "\n",
    "\n",
    "```display json (i.e. using a data source)```\n",
    "\n",
    "would convert the output from a data source to a json display. This could be more specific such as\n",
    "\n",
    "```display json (i.e. using sqlite)```\n",
    "\n",
    "would only include the resources and sequences to accept an sqlite input and a json display.\n"
   ]
  },
  {
   "cell_type": "markdown",
   "metadata": {
    "heading_collapsed": true
   },
   "source": [
    "### language definition\n",
    "\n",
    "There is only 1 directive, a function, in the form \n"
   ]
  },
  {
   "cell_type": "markdown",
   "metadata": {
    "hidden": true
   },
   "source": [
    "\n",
    "- ```intention``` (directive)\n",
    "\n",
    "- ```any sentence of intentions``` (a single directive, or multiple directives)\n",
    "\n",
    "- ```i.e.``` - classify the intention (operator)\n",
    "\n",
    "- ```e.g.``` - classify the expectation or the respond from the previous sentence (operator)\n",
    "\n",
    "- \n"
   ]
  },
  {
   "cell_type": "markdown",
   "metadata": {
    "hidden": true
   },
   "source": [
    "Expanding on what we have learned. Writing programs that are actually readable. Similar to the mathematica language, ```dependencies are resolved automatically```. Using a feature of compiling, many languages now offer compiling while the program is running. With the use of language kernels in Jupyter, we can ```translate any language from one to another```.\n",
    "By ```adding nlp```, and some special markers in notebooks, we can detect and use any feature from the library or any source of matching patterns that fulfill the intention.\n"
   ]
  },
  {
   "cell_type": "markdown",
   "metadata": {
    "heading_collapsed": true
   },
   "source": [
    "### how to use intent?\n",
    "\n",
    "Advanced example to generate an application that outputs and represents this application.\n",
    "\n"
   ]
  },
  {
   "cell_type": "markdown",
   "metadata": {
    "hidden": true
   },
   "source": [
    "**[**\n",
    "\n",
    "```\n",
    "give an example of how to use intent\n",
    "\n",
    "```\n",
    "\n",
    "**]** <- these are optional for structure or clarification\n"
   ]
  },
  {
   "cell_type": "code",
   "execution_count": null,
   "metadata": {
    "hidden": true
   },
   "outputs": [],
   "source": [
    "\n",
    "give (i.e. using a web url,\n",
    "      cloud compiler,\n",
    "      jupter notebooks)\n",
    "an example of (e.g. how to how to use intent\n",
    "               automatically imports\n",
    "               display json (i.e. using a data source))\n",
    "how to use intent\n"
   ]
  },
  {
   "cell_type": "markdown",
   "metadata": {
    "hidden": true
   },
   "source": [
    "#### with this test intent should \n",
    "\n",
    "```now know how to repeat (i.e. compile) itself ```\n",
    "\n",
    "```\n",
    "markdown (i.e readme,\n",
    "          example usage,\n",
    "          documentation)\n",
    "code \n",
    "is the definition (i.e. import)\n",
    "of valid code cells (i.e. interpret)\n",
    "and automatically write my unit tests!\n",
    "```\n"
   ]
  },
  {
   "cell_type": "markdown",
   "metadata": {
    "heading_collapsed": true
   },
   "source": [
    "### example program\n",
    "\n",
    "This program monitors a process, such as the compiler that is running this very code.\n"
   ]
  },
  {
   "cell_type": "code",
   "execution_count": null,
   "metadata": {
    "hidden": true
   },
   "outputs": [],
   "source": [
    "because singularity is purpose\n",
    "\n",
    "every program (i.e. child process)\n",
    "needs a reason (i.e. for logging purposes)\n",
    "to exist right? (i.e. monitor program state)\n",
    "\n",
    "anything other than 1\n",
    "is defect (i.e. error,\n",
    "           derivitive of ambition (i.e. purpose)\n",
    "           )\n",
    "\n"
   ]
  },
  {
   "cell_type": "markdown",
   "metadata": {
    "hidden": true
   },
   "source": [
    "#### to really break this down\n",
    "\n",
    "Line by line:\n"
   ]
  },
  {
   "cell_type": "markdown",
   "metadata": {
    "hidden": true
   },
   "source": [
    "```\n",
    "because singularity is purpose\n",
    "every program (i.e. child process)\n",
    "```\n",
    "\n",
    "`singularity`, `purpose`, `program`, and `child process` all become synonyms for looking for words and reasons to run a program.\n"
   ]
  },
  {
   "cell_type": "markdown",
   "metadata": {
    "hidden": true
   },
   "source": [
    "The ```nlp language parser``` (TODO: insert link again) breaks a sentence and subject up just like an ```abstract syntax tree``` in code.\n",
    "\n",
    "```\n",
    "needs a reason (i.e. for logging purposes)\n",
    "```\n",
    "\n",
    "is a tag for the logger, so errors are reported like:\n",
    "\n",
    "`singularity [needs a reason]: Syntax error, un-match closing paren, continuing anyways.`\n"
   ]
  },
  {
   "cell_type": "markdown",
   "metadata": {
    "hidden": true
   },
   "source": [
    "```\n",
    "to exist right? (i.e. monitor program state)\n",
    "```\n",
    "\n",
    "Just like it says, monitors process state for changes because that is it's purpose. With logic like that, what can go wrong?\n"
   ]
  },
  {
   "cell_type": "markdown",
   "metadata": {
    "hidden": true
   },
   "source": [
    "```\n",
    "anything other than 1\n",
    "```\n",
    "\n",
    "This gives our compiler two things:\n",
    "- checking for code that generates anything other than one,\n",
    "- and checking the process for anything other than one.\n",
    "\n",
    "Both of these statements are required and are reported on. Since they are reported on, they can be interpreted by other parts of the paragraph.\n",
    "\n"
   ]
  },
  {
   "cell_type": "markdown",
   "metadata": {
    "hidden": true
   },
   "source": [
    "```\n",
    "is defect (i.e. error,\n",
    "```\n",
    "\n",
    "Report something, outputs aren't specified by the program. We can assume if you are running this from the command line, it should be reported there somehow. (TODO: see notebook on autoloading environments).\n",
    "\n"
   ]
  },
  {
   "cell_type": "markdown",
   "metadata": {
    "hidden": true
   },
   "source": [
    "```\n",
    "derivitive of ambition (i.e. purpose)\n",
    "```\n",
    "\n",
    "Derivitive of ambition in the compiling context means derive the code needed to fulfill this prupose. In the context of child processing it means the status code that is reported. With the `i.e.` the purpose and `deritive of ambition` become synonymous. Meaning the purpose of this program is to derive a child process. Just like it says ;)\n"
   ]
  },
  {
   "cell_type": "markdown",
   "metadata": {},
   "source": [
    "## installation\n",
    "\n",
    "```\n",
    "documentation and code\n",
    "are finally the same\n",
    "\n",
    "intent only depends\n",
    "on it's Core values\n",
    "```\n"
   ]
  },
  {
   "cell_type": "code",
   "execution_count": 5,
   "metadata": {},
   "outputs": [
    {
     "ename": "SyntaxError",
     "evalue": "Unexpected identifier",
     "output_type": "error",
     "traceback": [
      "evalmachine.<anonymous>:2",
      "but it has many extensions (i.e. notebook exporter,",
      "    ^^",
      "",
      "SyntaxError: Unexpected identifier",
      "    at new Script (vm.js:83:7)",
      "    at createScript (vm.js:277:10)",
      "    at Object.runInThisContext (vm.js:329:10)",
      "    at run ([eval]:1002:15)",
      "    at onRunRequest ([eval]:829:18)",
      "    at onMessage ([eval]:789:13)",
      "    at process.emit (events.js:198:13)",
      "    at emit (internal/child_process.js:832:12)",
      "    at process._tickCallback (internal/process/next_tick.js:63:19)"
     ]
    }
   ],
   "source": [
    "\n",
    "but it has many extensions (i.e. notebook exporter,\n",
    "                            intent exporter (i.e. language transpiler),\n",
    "                            rpc interface,\n",
    "                            various databases,\n",
    "                            language support\n",
    "\n",
    "just clone or download\n",
    "this notebook https://github.com/megamindbrian/jupyter_ops\n",
    "\n",
    "run (i.e. from the command line,\n",
    "     from the marketing site intent.io,\n",
    "     or from a jupyter notebook,\n",
    "     or from a multitude of languages)\n",
    "\n",
    "to display (i.e. output,\n",
    "            console,\n",
    "            notebook display extension)\n"
   ]
  },
  {
   "cell_type": "code",
   "execution_count": null,
   "metadata": {},
   "outputs": [],
   "source": []
  }
 ],
 "metadata": {
  "kernelspec": {
   "display_name": "Javascript (Node.js)",
   "language": "javascript",
   "name": "javascript"
  },
  "language_info": {
   "file_extension": ".js",
   "mimetype": "application/javascript",
   "name": "javascript",
   "version": "10.16.0"
  }
 },
 "nbformat": 4,
 "nbformat_minor": 2
}
