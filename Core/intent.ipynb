{
 "cells": [
  {
   "cell_type": "markdown",
   "metadata": {},
   "source": [
    "# intent\n",
    "\n",
    "This notebook is both the documentation and the compiler for `intent`.\n",
    "\n",
    "The compiler was originally written in Node, but it has since absorbed all intentions and written itself with `intent`.  That is the goal (i.e. intent) anyway.\n",
    "\n",
    "Specialities of intent:\n",
    "\n",
    "- defining, classifying, interpreting all computer and spoken languages (TODO: see language notebook and NLP framework for information)\n",
    "- being simple to structure, intent focuses on trees and control flows from a high level, when something breaks or changes intent will tell you\n",
    "- never writing unit tests, because intent recognizes specific patterns, it can mangle/uglify any language, explaining away all sources or nuance\n",
    "- all forms of computer operations and management, since intentions are derived and classified from many sources, common intentions like \n",
    "```\n",
    "try and manage (i.e. show recent activity logs,\n",
    "                costs explorer,\n",
    "                instance information)\n",
    "that server over there (i.e. the test cloud)\n",
    "```\n",
    "becomes transpiled into an advanced application that accepts input from many different sources and outputs to many different information types.\n",
    "\n"
   ]
  },
  {
   "cell_type": "markdown",
   "metadata": {},
   "source": [
    "## introduction\n",
    "\n",
    "Finally a language with only 1 directive!! Programming is simple, type what you want to do and the code will be derived from many sources to achieve the desired outcome.\n",
    "\n",
    "\n"
   ]
  },
  {
   "cell_type": "markdown",
   "metadata": {},
   "source": [
    "\n",
    "Write intentions like sentences on a page. You might need to add some () for grouping this like return values or sequenses, just like when writing a sentence (i.e. - means another way of saying).  In the intent language i.e. can be used to narrow down on function classifiers (i.e. using a data source) would import various data sources such as Google cloud storage, Amazon ECS resources, an sql database. The context of data source that is needed can be derived from the rest of the statement. For example (e.g. coming soon) `display json (i.e. using a data source)` would convert the output from a data source to a json display. This could be more specific such as `display json (i.e. using sqlite)` would only include the resources and sequences to accept an sqlite input and a json display.\n"
   ]
  },
  {
   "cell_type": "markdown",
   "metadata": {},
   "source": [
    "### definitions\n",
    "\n",
    "- i.e. - classify the intention (operator)\n",
    "\n",
    "- e.g. - classify the expectation or the respond from the previous sentence (operator)\n",
    "\n"
   ]
  },
  {
   "cell_type": "markdown",
   "metadata": {},
   "source": [
    "## the language!\n",
    "\n",
    "The statement above generates excitement.\n",
    "\n"
   ]
  },
  {
   "cell_type": "markdown",
   "metadata": {},
   "source": [
    "### how to use intent?\n",
    "\n",
    "example:\n",
    "\n",
    "**[**\n",
    "```\n",
    "give an example of how to use intent\n",
    "```\n",
    "**]** <- these are optional for structure or clarification\n",
    "\n",
    "TODO: write a compiler in node based on compiler in PHP from years ago\n"
   ]
  },
  {
   "cell_type": "code",
   "execution_count": null,
   "metadata": {},
   "outputs": [],
   "source": [
    "\n",
    "give (i.e. using a web url,\n",
    "      cloud compiler,\n",
    "      jupter notebooks)\n",
    "an example of (e.g. how to how to use intent\n",
    "               automatically imports\n",
    "               display json (i.e. using a data source))\n",
    "how to use intent\n"
   ]
  }
 ],
 "metadata": {
  "kernelspec": {
   "display_name": "Javascript (Node.js)",
   "language": "javascript",
   "name": "javascript"
  },
  "language_info": {
   "file_extension": ".js",
   "mimetype": "application/javascript",
   "name": "javascript",
   "version": "10.16.0"
  }
 },
 "nbformat": 4,
 "nbformat_minor": 2
}
