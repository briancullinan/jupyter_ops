{
 "cells": [
  {
   "cell_type": "markdown",
   "metadata": {},
   "source": [
    "# ```intent```\n",
    "\n",
    "This notebook is both the documentation and the compiler for `intent`.\n"
   ]
  },
  {
   "cell_type": "markdown",
   "metadata": {
    "heading_collapsed": true
   },
   "source": [
    "## introduction\n",
    "\n",
    "Finally a language with only 1 directive!! Programming is simple, type what you want to do and the code will be derived from many sources to achieve the desired outcome.\n",
    "\n",
    "The compiler was originally written in Node, but it has since absorbed all intentions and written itself with `intent`.  That is the goal (i.e. intent) anyway.\n"
   ]
  },
  {
   "cell_type": "markdown",
   "metadata": {
    "hidden": true
   },
   "source": [
    "### specialities of intent\n",
    "\n",
    "- defining, classifying, interpreting all computer and spoken languages (TODO: see language notebook and NLP framework for information)\n",
    "- being simple to structure, intent focuses on trees and control flows from a high level, when something breaks or changes intent will tell you\n",
    "- never writing unit tests, because intent recognizes specific patterns, it can mangle/uglify any language, explaining away all sources or nuance\n",
    "- all forms of computer operations and management, since intentions are derived and classified from many sources, common intentions like \n",
    "```\n",
    "try and manage (i.e. show recent activity logs,\n",
    "                costs explorer,\n",
    "                instance information)\n",
    "that server over there (i.e. the test cloud)\n",
    "```\n",
    "becomes transpiled into an advanced application that accepts input from many different sources and outputs to many different information types.\n"
   ]
  },
  {
   "cell_type": "markdown",
   "metadata": {},
   "source": [
    "## ```the language!```\n",
    "\n",
    "```\n",
    "the statement above intends to (i.e. initialize)\n",
    "generate excitement (i.e. compiling?\n",
    "                    (e.g. ha ha \n",
    "                    (i.e. adds a sense of humor to output).\n",
    "```\n"
   ]
  },
  {
   "cell_type": "markdown",
   "metadata": {
    "heading_collapsed": true
   },
   "source": [
    "### example code\n",
    "\n",
    "Write intentions like sentences on a page. You might need to add some () for grouping this like return values or sequenses, just like when writing a sentence (i.e. - means another way of saying).\n"
   ]
  },
  {
   "cell_type": "markdown",
   "metadata": {
    "hidden": true
   },
   "source": [
    "In the intent language i.e. can be used to narrow down on function classifiers (i.e. using a data source) would import various data sources such as Google cloud storage, Amazon ECS resources, an sql database. The context of data source that is needed can be derived from the rest of the statement. For example (e.g. coming soon)\n",
    "\n",
    "\n",
    "```display json (i.e. using a data source)```\n",
    "\n",
    "would convert the output from a data source to a json display. This could be more specific such as\n",
    "\n",
    "```display json (i.e. using sqlite)```\n",
    "\n",
    "would only include the resources and sequences to accept an sqlite input and a json display.\n"
   ]
  },
  {
   "cell_type": "markdown",
   "metadata": {
    "heading_collapsed": true
   },
   "source": [
    "### language definition\n",
    "\n",
    "```because singularity is purpose``` - every program needs a reason to exist right?\n",
    "\n"
   ]
  },
  {
   "cell_type": "markdown",
   "metadata": {
    "hidden": true
   },
   "source": [
    "\n",
    "- ```intention``` (directive)\n",
    "\n",
    "- ```any sentence of intentions``` (a single directive, or multiple directives)\n",
    "\n",
    "- ```i.e.``` - classify the intention (operator)\n",
    "\n",
    "- ```e.g.``` - classify the expectation or the respond from the previous sentence (operator)\n",
    "\n",
    "- \n"
   ]
  },
  {
   "cell_type": "markdown",
   "metadata": {
    "heading_collapsed": true
   },
   "source": [
    "### how to use intent?\n",
    "\n",
    "example:\n",
    "\n",
    "**[**\n",
    "```\n",
    "give an example of how to use intent\n",
    "```\n",
    "**]** <- these are optional for structure or clarification\n",
    "\n",
    "TODO: write a compiler in node based on compiler in PHP from years ago\n"
   ]
  },
  {
   "cell_type": "code",
   "execution_count": null,
   "metadata": {
    "hidden": true
   },
   "outputs": [],
   "source": [
    "\n",
    "give (i.e. using a web url,\n",
    "      cloud compiler,\n",
    "      jupter notebooks)\n",
    "an example of (e.g. how to how to use intent\n",
    "               automatically imports\n",
    "               display json (i.e. using a data source))\n",
    "how to use intent\n"
   ]
  },
  {
   "cell_type": "markdown",
   "metadata": {
    "hidden": true
   },
   "source": [
    "#### with this test intent should \n",
    "\n",
    "```now know how to repeat (i.e. compile) itself ```\n",
    "\n",
    "```\n",
    "markdown (i.e readme,\n",
    "          example usage,\n",
    "          documentation)\n",
    "code \n",
    "is the definition (i.e. import)\n",
    "of valid code cells (i.e. interpret)\n",
    "and automatically write my unit tests!\n",
    "```\n"
   ]
  },
  {
   "cell_type": "markdown",
   "metadata": {},
   "source": [
    "## installation\n",
    "\n",
    "```intent only depends on it's Core values```\n"
   ]
  },
  {
   "cell_type": "code",
   "execution_count": 4,
   "metadata": {},
   "outputs": [
    {
     "ename": "SyntaxError",
     "evalue": "Unexpected identifier",
     "output_type": "error",
     "traceback": [
      "evalmachine.<anonymous>:2",
      "but it has many extensions (i.e. notebook exporter,",
      "    ^^",
      "",
      "SyntaxError: Unexpected identifier",
      "    at new Script (vm.js:83:7)",
      "    at createScript (vm.js:277:10)",
      "    at Object.runInThisContext (vm.js:329:10)",
      "    at run ([eval]:1002:15)",
      "    at onRunRequest ([eval]:829:18)",
      "    at onMessage ([eval]:789:13)",
      "    at process.emit (events.js:198:13)",
      "    at emit (internal/child_process.js:832:12)",
      "    at process._tickCallback (internal/process/next_tick.js:63:19)"
     ]
    }
   ],
   "source": [
    "\n",
    "but it has many extensions (i.e. notebook exporter,\n",
    "                            intent exporter (i.e. language transpiler),\n",
    "                            rpc interface,\n",
    "                            various databases,\n",
    "                            language support)\n",
    "\n",
    "just clone or download this notebook https://github.com/megamindbrian/jupyter_ops\n",
    "\n",
    "and run (i.e. from the command line,\n",
    "         from the marketing site intent.io,\n",
    "         or from a jupyter notebook,\n",
    "         or from a multitude of languages)\n",
    "\n"
   ]
  },
  {
   "cell_type": "code",
   "execution_count": null,
   "metadata": {},
   "outputs": [],
   "source": []
  }
 ],
 "metadata": {
  "kernelspec": {
   "display_name": "Javascript (Node.js)",
   "language": "javascript",
   "name": "javascript"
  },
  "language_info": {
   "file_extension": ".js",
   "mimetype": "application/javascript",
   "name": "javascript",
   "version": "10.16.0"
  }
 },
 "nbformat": 4,
 "nbformat_minor": 2
}
