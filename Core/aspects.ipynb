{
 "cells": [
  {
   "cell_type": "markdown",
   "metadata": {},
   "source": [
    "# aspects\n",
    "\n",
    "\n",
    "Aspects provide additional functionality to the classic Object-Oriented pattern.\n",
    "\n",
    "https://en.wikipedia.org/wiki/Aspect-oriented_programming\n",
    "\n"
   ]
  },
  {
   "cell_type": "markdown",
   "metadata": {
    "heading_collapsed": true
   },
   "source": [
    "## introduction\n"
   ]
  },
  {
   "cell_type": "markdown",
   "metadata": {
    "hidden": true
   },
   "source": [
    "Types of aspects:\n",
    "\n",
    "- affect - run after the code\n",
    "- prefect - run before the code\n",
    "- inflect - make available part of the affection within the code\n",
    "- reflect - describe the current affection\n",
    "- infect - replace part of code with result of another\n",
    "- effect - return a list of affections the occured or will occur if reference is provided\n",
    "- expect - deriving from the context find the variables involved and if they do not meet expectation create a \"soft assertion\"?\n",
    "- inspect - show debugging information surrounding the specified code\n",
    "\n",
    "\n",
    "TODO: aspect babel plugin. This will use the transpiler.\n",
    "\n",
    "TODO: depends on transpiling kernels\n"
   ]
  },
  {
   "cell_type": "markdown",
   "metadata": {},
   "source": [
    "## transpiler bindings\n",
    "\n",
    "Transpile calls that bind functionality to the neessary directives.\n",
    "\n",
    "TODO: inspect, find calls to aspect and interpret them up front.\n",
    "\n"
   ]
  },
  {
   "cell_type": "markdown",
   "metadata": {},
   "source": [
    "### inspect\n",
    "\n",
    "Logging is one of the most obvious use cases for aspect oriented programming. It makes sense to start with this.  Log messages are inserted at every possible point in the program execution. When transpiled, additional sum information is collected and provided at the end, useful for attaching a unit test and code coverage reporter.\n",
    "\n"
   ]
  },
  {
   "cell_type": "markdown",
   "metadata": {},
   "source": [
    "#### the code\n",
    "\n",
    "inspect every statement?\n"
   ]
  },
  {
   "cell_type": "code",
   "execution_count": null,
   "metadata": {},
   "outputs": [],
   "source": [
    "var importer = require('../Core')\n",
    "var {transpile} = importer.import('transpile code')\n",
    "var {selectAst} = importer.import('select code tree')\n",
    "var {selectDom} = importer.import('select tree')\n",
    "\n",
    "var STATEMENTS = `//FunctionDeclaration`\n",
    "\n",
    "function inspect(ctx, line, filename) {\n",
    "    console.log(JSON.stringify(ctx), line, filename)\n",
    "}\n",
    "\n",
    "function inspectTemplate(ctx, line, filename) {\n",
    "    // code inserted in to transpiled module\n",
    "    inspect(ctx, line, filename)\n",
    "}\n",
    "\n",
    "function insertInspect(ctx) {\n",
    "    // TODO: 'replace' transpiler\n",
    "    var inspect = selectAst(`//FunctionDeclaration`, inspectTemplate)\n",
    "    var replaceCtx = selectDom(`.//*[./Identifier/@name=\"ctx\"]`, inspect)\n",
    "    console.log(replaceCtx)\n",
    "    //ctx.replaceWith(selectDom())\n",
    "    var parent = selectDom(`parent::*`, ctx)\n",
    "    parent.insertBefore(inspect, ctx)\n",
    "}\n",
    "\n",
    "function transpileInspect(code, filename) {\n",
    "    return transpile([\n",
    "        [STATEMENTS, insertInspect]\n",
    "    ], code)\n",
    "}\n",
    "\n",
    "module.exports = {\n",
    "    inspect,\n",
    "    inspectTemplate,\n",
    "    transpileInspect,\n",
    "}\n"
   ]
  },
  {
   "cell_type": "markdown",
   "metadata": {},
   "source": [
    "#### test statement inspector\n",
    "\n"
   ]
  },
  {
   "cell_type": "code",
   "execution_count": 2,
   "metadata": {},
   "outputs": [
    {
     "name": "stdout",
     "output_type": "stream",
     "text": [
      "compiling /Users/briancullinan/jupyter_ops/Core/aspects.ipynb[0] aka inspect every statement\n"
     ]
    },
    {
     "ename": "ReferenceError",
     "evalue": "selectAst is not defined",
     "output_type": "error",
     "traceback": [
      "/Users/briancullinan/jupyter_ops/Core/aspects.ipynb[0] aka inspect every statement:21",
      "    var inspect = selectAst(`//FunctionDeclaration`, inspectTemplate)",
      "                  ^",
      "",
      "ReferenceError: selectAst is not defined",
      "    at insertInspect (/Users/briancullinan/jupyter_ops/Core/aspects.ipynb[0] aka inspect every statement:21:19)",
      "    at walkTree (/Users/briancullinan/jupyter_ops/Core/patterns.ipynb[0] aka ,### walk tree:20:18)",
      "    at arr.map.r (/Users/briancullinan/jupyter_ops/Core/patterns.ipynb[0] aka ,### walk tree:13:37)",
      "    at Array.map (<anonymous>)",
      "    at select.reduce (/Users/briancullinan/jupyter_ops/Core/patterns.ipynb[0] aka ,### walk tree:13:28)",
      "    at Array.reduce (<anonymous>)",
      "    at walkTree (/Users/briancullinan/jupyter_ops/Core/patterns.ipynb[0] aka ,### walk tree:10:25)",
      "    at selectDom (/Users/briancullinan/jupyter_ops/Core/patterns.ipynb[2] aka ### select tree:59:12)",
      "    at input.forEach.i (/Users/briancullinan/jupyter_ops/Core/languages.ipynb[2] aka transpile code:25:13)",
      "    at Array.forEach (<anonymous>)"
     ]
    }
   ],
   "source": [
    "var importer = require('../Core')\n",
    "var {transpileInspect} = importer.import('inspect every statement')\n",
    "\n",
    "var code = `\n",
    "var escodegen = require('escodegen');\n",
    "var importer = require('../Core');\n",
    "\n",
    "function addImports() {\n",
    "\n",
    "}\n",
    "\n",
    "`\n",
    "\n",
    "if(typeof $$ != 'undefined') {\n",
    "    $$.mime({'text/plain': transpileInspect(code)})\n",
    "    \n",
    "    /*\n",
    "    expected output \n",
    "var addImports = importer.import('add missing imports')\n",
    "var escodegen = require('escodegen');\n",
    "*/\n",
    "    \n",
    "}\n"
   ]
  },
  {
   "cell_type": "code",
   "execution_count": null,
   "metadata": {},
   "outputs": [],
   "source": []
  },
  {
   "cell_type": "markdown",
   "metadata": {},
   "source": []
  },
  {
   "cell_type": "code",
   "execution_count": null,
   "metadata": {},
   "outputs": [],
   "source": []
  }
 ],
 "metadata": {
  "kernelspec": {
   "display_name": "Javascript (Node.js)",
   "language": "javascript",
   "name": "javascript"
  },
  "language_info": {
   "file_extension": ".js",
   "mimetype": "application/javascript",
   "name": "javascript",
   "version": "10.16.0"
  }
 },
 "nbformat": 4,
 "nbformat_minor": 2
}
