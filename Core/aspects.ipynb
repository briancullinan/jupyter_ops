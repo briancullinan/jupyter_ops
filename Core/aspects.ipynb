{
 "cells": [
  {
   "cell_type": "markdown",
   "metadata": {},
   "source": [
    "# aspects\n",
    "\n",
    "\n",
    "Aspects provide additional functionality to the classic Object-Oriented pattern.\n",
    "\n",
    "https://en.wikipedia.org/wiki/Aspect-oriented_programming\n",
    "\n"
   ]
  },
  {
   "cell_type": "markdown",
   "metadata": {
    "heading_collapsed": true
   },
   "source": [
    "## introduction\n"
   ]
  },
  {
   "cell_type": "markdown",
   "metadata": {
    "hidden": true
   },
   "source": [
    "Types of aspects:\n",
    "\n",
    "- affect - run after the code\n",
    "- prefect - run before the code\n",
    "- inflect - make available part of the affection within the code\n",
    "- reflect - describe the current affection\n",
    "- infect - replace part of code with result of another\n",
    "- effect - return a list of affections the occured or will occur if reference is provided\n",
    "- expect - deriving from the context find the variables involved and if they do not meet expectation create a \"soft assertion\"?\n",
    "- inspect - show debugging information surrounding the specified code\n",
    "\n",
    "\n",
    "TODO: aspect babel plugin. This will use the transpiler.\n",
    "\n",
    "TODO: depends on transpiling kernels\n"
   ]
  },
  {
   "cell_type": "markdown",
   "metadata": {},
   "source": [
    "## transpiler bindings\n",
    "\n",
    "Transpile calls that bind functionality to the neessary directives.\n",
    "\n"
   ]
  },
  {
   "cell_type": "markdown",
   "metadata": {},
   "source": [
    "### inspect\n",
    "\n",
    "TODO: inspect, find calls to aspect and interpret them up front.\n"
   ]
  },
  {
   "cell_type": "markdown",
   "metadata": {},
   "source": [
    "#### the code\n",
    "\n",
    "inspect every statement?\n"
   ]
  },
  {
   "cell_type": "code",
   "execution_count": null,
   "metadata": {},
   "outputs": [],
   "source": [
    "var importer = require('../Core')\n",
    "var transpile = importer.import('transpile code')\n",
    "\n",
    "function inspect(ctx, line, filename) {\n",
    "    console.log(JSON.stringify(ctx), line, filename)\n",
    "}\n",
    "\n",
    "function inspectTemplate(ctx, line, filename) {\n",
    "    // code inserted in to transpiled module\n",
    "    inspect(ctx, line, filename)\n",
    "}\n",
    "\n",
    "function transpileInspect(code) {\n",
    "    return transpile([\n",
    "        `//FunctionDeclaration`,\n",
    "        (ctx) => {\n",
    "            // TODO: 'replace' transpiler\n",
    "            var inspect = selectAst(`//FunctionDeclaration`, inspectTemplate)\n",
    "            var ctx = selectDom(`.//*[./Identifier/@name=\"ctx\"]`, inspect)\n",
    "            console.log(ctx)\n",
    "            //ctx.replaceWith(selectDom())\n",
    "            var parent = selectDom(`parent::*`, ctx)\n",
    "            parent.insertBefore(inspect, ctx)\n",
    "        }\n",
    "    ], code)\n",
    "}\n",
    "\n",
    "module.exports = {\n",
    "    inspect,\n",
    "    inspectTemplate,\n",
    "    transpileInspect,\n",
    "}\n"
   ]
  },
  {
   "cell_type": "markdown",
   "metadata": {},
   "source": [
    "#### test statement inspector\n",
    "\n"
   ]
  },
  {
   "cell_type": "code",
   "execution_count": 1,
   "metadata": {},
   "outputs": [
    {
     "name": "stdout",
     "output_type": "stream",
     "text": [
      "compiling /Users/briancullinan/jupyter_ops/Core/files.ipynb[2] aka ,### list project files\n",
      "compiling /Users/briancullinan/jupyter_ops/Core/files.ipynb[3] aka common ignore paths\n",
      "compiling /Users/briancullinan/jupyter_ops/Core/aspects.ipynb[0] aka aspect oriented\n",
      "compiling /Users/briancullinan/jupyter_ops/Core/languages.ipynb[2] aka transpile code\n",
      "compiling /Users/briancullinan/jupyter_ops/Core/syntax.ipynb[13] aka html to tree\n",
      "compiling /Users/briancullinan/jupyter_ops/Core/syntax.ipynb[16] aka select ast\n",
      "compiling /Users/briancullinan/jupyter_ops/Core/syntax.ipynb[11] aka tree to html\n",
      "compiling /Users/briancullinan/jupyter_ops/Core/patterns.ipynb[2] aka ### select tree\n",
      "compiling /Users/briancullinan/jupyter_ops/Core/patterns.ipynb[0] aka ,### walk tree\n"
     ]
    },
    {
     "ename": "TypeError",
     "evalue": "transpileInspect is not a function",
     "output_type": "error",
     "traceback": [
      "evalmachine.<anonymous>:13",
      "    $$.mime({'text/plain': transpileInspect(code)})",
      "                           ^",
      "",
      "TypeError: transpileInspect is not a function",
      "    at evalmachine.<anonymous>:13:28",
      "    at Script.runInThisContext (vm.js:122:20)",
      "    at Object.runInThisContext (vm.js:329:38)",
      "    at run ([eval]:1002:15)",
      "    at onRunRequest ([eval]:829:18)",
      "    at onMessage ([eval]:789:13)",
      "    at process.emit (events.js:198:13)",
      "    at emit (internal/child_process.js:832:12)",
      "    at process._tickCallback (internal/process/next_tick.js:63:19)"
     ]
    }
   ],
   "source": [
    "var importer = require('../Core')\n",
    "var transpileInspect = importer.import('inspect every statement')\n",
    "\n",
    "var code = `\n",
    "var escodegen = require('escodegen');\n",
    "var importer = require('../Core');\n",
    "\n",
    "addImports('some code')\n",
    "\n",
    "`\n",
    "\n",
    "if(typeof $$ != 'undefined') {\n",
    "    $$.mime({'text/plain': transpileInspect(code)})\n",
    "    \n",
    "    /*\n",
    "    expected output \n",
    "var addImports = importer.import('add missing imports')\n",
    "var escodegen = require('escodegen');\n",
    "*/\n",
    "    \n",
    "}\n"
   ]
  },
  {
   "cell_type": "code",
   "execution_count": null,
   "metadata": {},
   "outputs": [],
   "source": []
  },
  {
   "cell_type": "markdown",
   "metadata": {},
   "source": []
  },
  {
   "cell_type": "code",
   "execution_count": null,
   "metadata": {},
   "outputs": [],
   "source": []
  }
 ],
 "metadata": {
  "kernelspec": {
   "display_name": "Javascript (Node.js)",
   "language": "javascript",
   "name": "javascript"
  },
  "language_info": {
   "file_extension": ".js",
   "mimetype": "application/javascript",
   "name": "javascript",
   "version": "10.16.0"
  }
 },
 "nbformat": 4,
 "nbformat_minor": 2
}
