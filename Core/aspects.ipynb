{
 "cells": [
  {
   "cell_type": "markdown",
   "metadata": {},
   "source": [
    "how to aspect oriented?\n",
    "\n",
    "TODO: depends on transpiling kernels\n",
    "\n",
    "\n",
    "- affect - run after the code\n",
    "- prefect - run before the code\n",
    "- inflect - make available part of the affection within the code\n",
    "- reflect - describe the current affection\n",
    "- infect - replace part of code with result of another\n",
    "- effect - return a list of affections the occured or will occur if reference is provided"
   ]
  },
  {
   "cell_type": "code",
   "execution_count": null,
   "metadata": {},
   "outputs": [],
   "source": [
    "var path = require('path');\n",
    "var corePath = path.resolve(path.join(__dirname, 'index.js'));\n",
    "\n",
    "process.stdin.resume(); //so the program will not close instantly\n",
    "\n",
    "//do something when app is closing\n",
    "process.on('exit', findSource);\n",
    "\n",
    "//catches ctrl+c event\n",
    "process.on('SIGINT', findSource);\n",
    "\n",
    "// catches \"kill pid\" (for example: nodemon restart)\n",
    "process.on('SIGUSR1', findSource);\n",
    "process.on('SIGUSR2', findSource);\n",
    "\n",
    "// create an exception then find the source and rerun with aspects attached\n",
    "process.on('uncaughtException', findSource);\n",
    "process.on('unhandledRejection', findSource);\n",
    "\n",
    "function findSource(num, code, err) {\n",
    "    var m = module;\n",
    "    var origin;\n",
    "    while(m != null && !origin) {\n",
    "        if(m.children.map(m => m.filename).includes(corePath)\n",
    "           && m.filename !== corePath) {\n",
    "            origin = m;\n",
    "        } else {\n",
    "            m = m.parent;\n",
    "        }\n",
    "    }\n",
    "    console.log(code + ' - ' + origin.filename)\n",
    "    if(err && err.message && err.message.includes('starting aspects')) {\n",
    "        process.kill(process.pid, 'SIGUSR1');\n",
    "    }\n",
    "}\n",
    "\n",
    "try {\n",
    "    throw new Error('starting aspects');\n",
    "} catch (e) {\n",
    "    findSource(0, 'START', e);\n",
    "}\n"
   ]
  },
  {
   "cell_type": "code",
   "execution_count": null,
   "metadata": {},
   "outputs": [],
   "source": [
    "var importer = require('../Core');\n",
    "importer.import('aspect oriented');\n",
    "console.log(process.pid);"
   ]
  },
  {
   "cell_type": "code",
   "execution_count": null,
   "metadata": {},
   "outputs": [],
   "source": [
    "console.log(process.pid);"
   ]
  },
  {
   "cell_type": "code",
   "execution_count": null,
   "metadata": {},
   "outputs": [],
   "source": [
    "process.env.DEBUG"
   ]
  },
  {
   "cell_type": "markdown",
   "metadata": {},
   "source": []
  },
  {
   "cell_type": "code",
   "execution_count": null,
   "metadata": {},
   "outputs": [],
   "source": []
  }
 ],
 "metadata": {
  "kernelspec": {
   "display_name": "Javascript (Node.js)",
   "language": "javascript",
   "name": "javascript"
  },
  "language_info": {
   "file_extension": ".js",
   "mimetype": "application/javascript",
   "name": "javascript",
   "version": "10.16.0"
  }
 },
 "nbformat": 4,
 "nbformat_minor": 2
}
