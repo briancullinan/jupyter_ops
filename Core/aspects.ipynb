{
 "cells": [
  {
   "cell_type": "markdown",
   "metadata": {},
   "source": [
    "# aspects\n",
    "\n",
    "\n",
    "Aspects provide additional functionality to the classic Object-Oriented pattern.\n",
    "\n",
    "https://en.wikipedia.org/wiki/Aspect-oriented_programming\n",
    "\n"
   ]
  },
  {
   "cell_type": "markdown",
   "metadata": {
    "heading_collapsed": true
   },
   "source": [
    "## introduction\n"
   ]
  },
  {
   "cell_type": "markdown",
   "metadata": {
    "hidden": true
   },
   "source": [
    "Types of aspects:\n",
    "\n",
    "- affect - run after the code\n",
    "- prefect - run before the code\n",
    "- inflect - make available part of the affection within the code\n",
    "- reflect - describe the current affection\n",
    "- infect - replace part of code with result of another\n",
    "- effect - return a list of affections the occured or will occur if reference is provided\n",
    "- expect - deriving from the context find the variables involved and if they do not meet expectation create a \"soft assertion\"?\n",
    "- inspect - show debugging information surrounding the specified code\n",
    "\n",
    "\n",
    "TODO: aspect babel plugin. This will use the transpiler.\n",
    "\n",
    "TODO: depends on transpiling kernels\n"
   ]
  },
  {
   "cell_type": "markdown",
   "metadata": {},
   "source": [
    "## transpiler bindings\n",
    "\n",
    "Transpile calls that bind functionality to the neessary directives.\n",
    "\n",
    "TODO: inspect, find calls to aspect and interpret them up front.\n",
    "\n"
   ]
  },
  {
   "cell_type": "markdown",
   "metadata": {},
   "source": [
    "### inspect\n",
    "\n",
    "Logging is one of the most obvious use cases for aspect oriented programming. It makes sense to start with this.  Log messages are inserted at every possible point in the program execution. When transpiled, additional sum information is collected and provided at the end, useful for attaching a unit test and code coverage reporter.\n",
    "\n"
   ]
  },
  {
   "cell_type": "markdown",
   "metadata": {},
   "source": [
    "#### the code\n",
    "\n",
    "inspect every statement?\n"
   ]
  },
  {
   "cell_type": "code",
   "execution_count": 5,
   "metadata": {},
   "outputs": [
    {
     "data": {
      "text/plain": [
       "{ inspectCallback: [Function: inspectCallback],\n",
       "  inspectTemplate: [Function: inspectTemplate],\n",
       "  transpileInspect: [Function: transpileInspect] }"
      ]
     },
     "execution_count": 5,
     "metadata": {},
     "output_type": "execute_result"
    }
   ],
   "source": [
    "var importer = require('../Core')\n",
    "var {transpile} = importer.import('transpile code')\n",
    "var {selectAst} = importer.import('select code tree')\n",
    "var {selectDom} = importer.import('select tree')\n",
    "var {htmlToTree} = importer.import('html to tree')\n",
    "\n",
    "var STATEMENTS = `//FunctionDeclaration`\n",
    "var FUNCTION_BODY = `//FunctionDeclaration/BlockStatement/*`\n",
    "var NEAR_IDENTIFIERS = `./Identifier/@name\n",
    "|./*/Identifier/@name\n",
    "|./parent::*/Identifier/@name\n",
    "|./parent::*/parent::*/Identifier/@name`\n",
    "\n",
    "function inspectCallback(ctx, line, filename) {\n",
    "    console.log(JSON.stringify(ctx), line, filename)\n",
    "}\n",
    "\n",
    "function inspectTemplate(ctx, line, filename) {\n",
    "    // code inserted in to transpiled module\n",
    "    inspectCallback(ctx, line, filename)\n",
    "}\n",
    "\n",
    "function insertInspect(filename, ctx) {\n",
    "    // TODO: 'replace' transpiler\n",
    "    var inspect = selectAst([FUNCTION_BODY], inspectTemplate)[0]\n",
    "\n",
    "    // replace the ctx with nearby identifiers\n",
    "    var replaceCtx = selectDom(`.//Identifier[@name=\"ctx\"]`, inspect)\n",
    "    var nearbyIdentifiers = selectDom([NEAR_IDENTIFIERS], ctx)\n",
    "    var nearbyCtx = selectAst([`//ExpressionStatement/*`], \n",
    "                              `({${nearbyIdentifiers.join(',')}})`)[0]\n",
    "    nearbyCtx.setAttribute('parent-attr', 'arguments')\n",
    "    replaceCtx.replaceWith(nearbyCtx)\n",
    "    \n",
    "    // replace line with the line number from original range\n",
    "    \n",
    "    // replace filename with the filename given\n",
    "    \n",
    "    // insert into parent statement body\n",
    "    var parent = selectDom(`parent::*`, ctx)\n",
    "    parent.insertBefore(inspect, ctx)\n",
    "}\n",
    "\n",
    "function transpileInspect(code, filename) {\n",
    "    return transpile([\n",
    "        [STATEMENTS, insertInspect.bind(null, filename)]\n",
    "    ], code)\n",
    "}\n",
    "\n",
    "module.exports = {\n",
    "    inspectCallback,\n",
    "    inspectTemplate,\n",
    "    transpileInspect,\n",
    "}\n"
   ]
  },
  {
   "cell_type": "markdown",
   "metadata": {},
   "source": [
    "#### test statement inspector\n",
    "\n"
   ]
  },
  {
   "cell_type": "code",
   "execution_count": 1,
   "metadata": {},
   "outputs": [
    {
     "name": "stdout",
     "output_type": "stream",
     "text": [
      "compiling /Users/briancullinan/jupyter_ops/Core/files.ipynb[2] aka ,### list project files\n",
      "compiling /Users/briancullinan/jupyter_ops/Core/files.ipynb[3] aka common ignore paths\n",
      "compiling /Users/briancullinan/jupyter_ops/Core/aspects.ipynb[0] aka inspect every statement\n",
      "compiling /Users/briancullinan/jupyter_ops/Core/languages.ipynb[2] aka transpile code\n",
      "compiling /Users/briancullinan/jupyter_ops/Core/syntax.ipynb[13] aka html to tree\n",
      "compiling /Users/briancullinan/jupyter_ops/Core/syntax.ipynb[16] aka select ast\n",
      "compiling /Users/briancullinan/jupyter_ops/Core/syntax.ipynb[11] aka tree to html\n",
      "compiling /Users/briancullinan/jupyter_ops/Core/patterns.ipynb[2] aka ### select tree\n",
      "compiling /Users/briancullinan/jupyter_ops/Core/patterns.ipynb[0] aka ,### walk tree\n",
      "{ type: 'ObjectExpression',\n",
      "  properties:\n",
      "   [ { type: 'Property',\n",
      "       key: [Object],\n",
      "       computed: false,\n",
      "       value: [Object],\n",
      "       kind: 'init',\n",
      "       method: false,\n",
      "       shorthand: true,\n",
      "       range: [Array] } ],\n",
      "  range: [ 1, 13 ] }\n",
      "{ type: 'Identifier', name: 'ctx', range: [ 113, 116 ] }\n"
     ]
    },
    {
     "data": {
      "text/plain": [
       "var escodegen = require('escodegen');\n",
       "var importer = require('../Core');\n",
       "inspectCallback({ addImports }, line, filename);\n",
       "function addImports() {\n",
       "}"
      ]
     },
     "execution_count": 1,
     "metadata": {},
     "output_type": "execute_result"
    }
   ],
   "source": [
    "var importer = require('../Core')\n",
    "var {transpileInspect} = importer.import('inspect every statement')\n",
    "\n",
    "var code = `\n",
    "var escodegen = require('escodegen');\n",
    "var importer = require('../Core');\n",
    "\n",
    "function addImports() {\n",
    "\n",
    "}\n",
    "\n",
    "`\n",
    "\n",
    "if(typeof $$ != 'undefined') {\n",
    "    $$.mime({'text/plain': transpileInspect(code)})\n",
    "    \n",
    "    /*\n",
    "    expected output \n",
    "var addImports = importer.import('add missing imports')\n",
    "var escodegen = require('escodegen');\n",
    "*/\n",
    "    \n",
    "}\n"
   ]
  },
  {
   "cell_type": "code",
   "execution_count": null,
   "metadata": {},
   "outputs": [],
   "source": []
  },
  {
   "cell_type": "markdown",
   "metadata": {},
   "source": []
  },
  {
   "cell_type": "code",
   "execution_count": null,
   "metadata": {},
   "outputs": [],
   "source": []
  }
 ],
 "metadata": {
  "kernelspec": {
   "display_name": "Javascript (Node.js)",
   "language": "javascript",
   "name": "javascript"
  },
  "language_info": {
   "file_extension": ".js",
   "mimetype": "application/javascript",
   "name": "javascript",
   "version": "10.16.0"
  }
 },
 "nbformat": 4,
 "nbformat_minor": 2
}
