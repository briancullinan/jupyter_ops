{
 "cells": [
  {
   "cell_type": "markdown",
   "metadata": {},
   "source": [
    "# notebooks\n",
    "\n"
   ]
  },
  {
   "cell_type": "markdown",
   "metadata": {
    "heading_collapsed": true
   },
   "source": [
    "## introduction\n",
    "\n"
   ]
  },
  {
   "cell_type": "markdown",
   "metadata": {
    "hidden": true
   },
   "source": [
    "\n",
    "\n",
    "A couple of rules:\n",
    "- all public functions are made public using module.export or global namespace\n",
    "- use describe( test blocks to describe parsing and replacement information for the functions it is testing, i.e. function utility(root) would have a describe block describe('utility(root)') neatly formated and parsed for calendar commands\n",
    "- every file is one feature\n",
    "- every cell or export should be a single purpose component with proper includes/dependencies\n",
    "- every cell must be under 100 lines\n",
    "- every function must be testable in isolation\n",
    "- every function should be made accesible from the command line using module.exports\n",
    "- every function should be runnable from notebooks using typeof $$ !== 'undefined'\n",
    "\n",
    "\n",
    "```javascript\n",
    "\n",
    "if(typeof $$ !== 'undefined') {\n",
    "    $$.async();\n",
    "    exportAndDeploy('../Frameworks/zuora to eloqua.ipynb')\n",
    "        .then(r => $$.sendResult(r))\n",
    "        .catch(e => $$.sendError(e))\n",
    "}\n",
    "\n",
    "```\n",
    "- every module should have a markdown title, at least one question that the code intends to answer (how to?), includes at least (where name is the name of any function in the code block):\n",
    "\n",
    "\n",
    "```javascript\n",
    "\n",
    "...\n",
    "function <name> () {\n",
    "...\n",
    "}\n",
    "...\n",
    "exports = <name>\n",
    "...\n",
    "\n",
    "```\n",
    "\n",
    " - eliminate circular dependencies the same way unintended recursion is avoided, create a condition:\n",
    " \n",
    "ModuleA.js\n",
    "```\n",
    "var funcB = require('ModuleB.js');\n",
    "```\n",
    "\n",
    "ModuleB.js\n",
    "```\n",
    "var funcA = require('ModuleA.js');\n",
    "```\n",
    "\n",
    "Becomes:\n",
    "\n",
    "ModuleA.js\n",
    "```\n",
    "var funcB = require('ModuleB.js');\n",
    "```\n",
    "\n",
    "ModuleB.js\n",
    "```\n",
    "if(typeof funcA === 'undefined') {\n",
    "    var funcA = require('ModuleA.js');\n",
    "}\n",
    "```\n",
    "\n",
    " - parameters are listed in most specific left to least specific right, i.e. function(filter, context) would mean filter is only used for this function, whereas context may be passed in to this function as well as other functions.  \"filter\" is on the left because it is specifically used just for this function, context is on the right because it might contain a path on the filesystem, or some options.\n",
    " - Entry cells, i.e. cells that are intended to be called by a service, coordinate interactions between multiple services - should not contain catch blocks so that the task scheduler will fail and log the last error.\n",
    "\n",
    "\n",
    "readme.md?"
   ]
  },
  {
   "cell_type": "code",
   "execution_count": null,
   "metadata": {
    "hidden": true
   },
   "outputs": [],
   "source": [
    "// readme placeholder"
   ]
  },
  {
   "cell_type": "markdown",
   "metadata": {
    "heading_collapsed": true
   },
   "source": [
    "## import notebook"
   ]
  },
  {
   "cell_type": "markdown",
   "metadata": {
    "heading_collapsed": true,
    "hidden": true
   },
   "source": [
    "### import all cell modules?\n",
    "\n",
    "import files back in to cells? (two-way workflow)\n"
   ]
  },
  {
   "cell_type": "markdown",
   "metadata": {
    "heading_collapsed": true,
    "hidden": true
   },
   "source": [
    "#### the code"
   ]
  },
  {
   "cell_type": "code",
   "execution_count": null,
   "metadata": {
    "hidden": true
   },
   "outputs": [],
   "source": [
    "var fs = require('fs');\n",
    "var glob = require('glob');\n",
    "\n",
    "var PROFILE_PATH = process.env.HOME || process.env.HOMEPATH || process.env.USERPROFILE;\n",
    "var PROJECT_PATH = PROFILE_PATH + '/Documents/jupytangular2/Utilities/.modules';\n",
    "var project = PROFILE_PATH + '/Documents/jupytangular2';\n",
    "\n",
    "var cells = glob.sync('**/cell-*', {cwd: PROJECT_PATH});\n",
    "for(const c of cells) {\n",
    "    const cell = path.basename(c);\n",
    "    const notebook = path.basename(path.dirname(c));\n",
    "    const parent = path.basename(path.dirname(path.dirname(c)));\n",
    "    if(parent === 'jupytangular2') {\n",
    "        continue;\n",
    "    }\n",
    "    const nb = JSON.parse(fs.readFileSync(path.join(\n",
    "        project, parent, notebook + '.ipynb')));\n",
    "    let counter = 0;\n",
    "    for(const i in nb.cells) {\n",
    "        if(!nb.cells.hasOwnProperty(i)) {\n",
    "            continue;\n",
    "        }\n",
    "        // TODO: reimport all cells\n",
    "        if(nb.cells[i].cell_type === 'code') {\n",
    "            if(cell === 'cell-' + counter + '.js') {\n",
    "                nb.cells[i].source = fs.readFileSync(path.join(PROJECT_PATH, c)).toString().split('\\n');\n",
    "            }\n",
    "            counter++;\n",
    "        }\n",
    "    }\n",
    "    fs.writeFileSync(path.join(project, parent, notebook + '.ipynb'),\n",
    "                     JSON.stringify(nb, null, 2));\n",
    "}\n"
   ]
  },
  {
   "cell_type": "markdown",
   "metadata": {
    "heading_collapsed": true,
    "hidden": true
   },
   "source": [
    "### TODO: import notebooks from stack overflow links\n"
   ]
  },
  {
   "cell_type": "code",
   "execution_count": null,
   "metadata": {
    "hidden": true
   },
   "outputs": [],
   "source": []
  },
  {
   "cell_type": "markdown",
   "metadata": {
    "heading_collapsed": true,
    "hidden": true
   },
   "source": [
    "### TODO: import notebooks from other sources\n"
   ]
  },
  {
   "cell_type": "code",
   "execution_count": null,
   "metadata": {
    "hidden": true
   },
   "outputs": [],
   "source": []
  },
  {
   "cell_type": "markdown",
   "metadata": {},
   "source": [
    "## export notebook\n",
    "\n"
   ]
  },
  {
   "cell_type": "markdown",
   "metadata": {},
   "source": [
    "### automatically replace notebook dependency\n",
    "\n"
   ]
  },
  {
   "cell_type": "markdown",
   "metadata": {},
   "source": [
    "#### replace core requirement?\n",
    "\n"
   ]
  },
  {
   "cell_type": "code",
   "execution_count": null,
   "metadata": {},
   "outputs": [],
   "source": [
    "var importer = require('../Core')\n",
    "var {selectDom} = importer.import('select tree')\n",
    "var {transpile, remove} = importer.import('transpile code')\n",
    "\n",
    "var CORE_DECLARE = `//*[\n",
    "    contains(@type, \"Declar\")\n",
    "    and ./*/*[@type=\"Literal\" and contains(@value, \"Core\")]\n",
    "]`;\n",
    "var IMPORTER = `${CORE_DECLARE}/*[@type=\"Identifier\"]/@name`;\n",
    "var IMPORTER_CALLS = `//*[contains(@type, \"Call\") and ./*[\n",
    "    contains(@type, \"Member\") and ./*[@type=\"Identifier\" and @name=${IMPORTER}]\n",
    "]]`;\n",
    "\n",
    "// TODO: generalize this and make a tool\n",
    "function replaceProperty(ctx) {\n",
    "    var usage = selectDom(`./*[@parent-attr=\"callee\"]`, ctx);\n",
    "    var property = selectDom(`./*/*[@parent-attr=\"property\"]`, ctx);\n",
    "    if(selectDom(`./@name`, property) === 'import') {\n",
    "        property.setAttribute('name', 'importNotebook')\n",
    "    }\n",
    "    usage.replaceWith(property)\n",
    "    property.setAttribute('parent-attr', 'callee')\n",
    "}\n",
    "\n",
    "function replaceCore(code) {\n",
    "    return transpile([\n",
    "        [IMPORTER_CALLS, replaceProperty],\n",
    "        [CORE_DECLARE, remove],\n",
    "    ], code)\n",
    "}\n",
    "\n",
    "module.exports = {\n",
    "    replaceCore\n",
    "}\n"
   ]
  },
  {
   "cell_type": "markdown",
   "metadata": {
    "heading_collapsed": true
   },
   "source": [
    "#### replace notebook import?\n",
    "\n"
   ]
  },
  {
   "cell_type": "code",
   "execution_count": null,
   "metadata": {
    "hidden": true
   },
   "outputs": [],
   "source": [
    "var importer = require('../Core')\n",
    "var {selectDom} = importer.import('select tree')\n",
    "var {selectAst} = importer.import('select code tree')\n",
    "var {transpile} = importer.import('transpile code')\n",
    "var niceName = importer.import('rename cell to nice name')\n",
    "var {htmlToTree} = importer.import('html to tree')\n",
    "\n",
    "var IMPORT_CALLS = `//CallExpression[\n",
    "./*/Identifier[@name=\"import\" or @name=\"importNotebook\"]\n",
    "]`\n",
    "\n",
    "function getImportTemplate(imports) {\n",
    "    throw new Error('TODO: multiple import template')\n",
    "}\n",
    "\n",
    "function replaceImport(ctx) {\n",
    "    var str = selectDom([`./Literal/@value`], ctx)[0]\n",
    "    if(!str) {\n",
    "        throw new Error('dynamic include, TODO: include Core')\n",
    "    }\n",
    "    var result = importer.interpret(str)\n",
    "    if(Array.isArray(result)) {\n",
    "        template = getImportTemplate(imports);\n",
    "    } else {\n",
    "        template = selectAst([`//CallExpression`], `require(\"${niceName(result)}\")`)[0];\n",
    "    }\n",
    "    var parent = ctx.parentNode;\n",
    "    parent.replaceChild(template, ctx)\n",
    "    template.setAttribute('parent-attr', 'init')\n",
    "}\n",
    "\n",
    "function replaceImports(code) {\n",
    "    return transpile([\n",
    "        [IMPORT_CALLS, replaceImport]\n",
    "    ], code)\n",
    "}\n",
    "\n",
    "module.exports = {\n",
    "    replaceImports\n",
    "}\n"
   ]
  },
  {
   "cell_type": "markdown",
   "metadata": {
    "heading_collapsed": true
   },
   "source": [
    "#### test notebook imports\n",
    "\n"
   ]
  },
  {
   "cell_type": "code",
   "execution_count": null,
   "metadata": {
    "hidden": true
   },
   "outputs": [],
   "source": [
    "var importer = require('../Core')\n",
    "var {replaceImports} = importer.import('replace notebook import')\n",
    "\n",
    "var code = `\n",
    "var escodegen = require('escodegen');\n",
    "var importer = require('../Core');\n",
    "var getArrayAST = importer.import('get ast path array');\n",
    "`\n",
    "\n",
    "if(typeof $$ != 'undefined') {\n",
    "    $$.mime({'text/plain': replaceImports(code)})\n",
    "    \n",
    "    /*\n",
    "    expected output \n",
    "var escodegen = require('escodegen');\n",
    "var getArrayAST = importer.import('get ast path array');\n",
    "*/\n",
    "    \n",
    "}\n",
    "\n"
   ]
  },
  {
   "cell_type": "markdown",
   "metadata": {
    "heading_collapsed": true
   },
   "source": [
    "#### add missing imports?\n",
    "\n",
    "automatic jupyter dependency injector?\n",
    "\n",
    "TODO: use an extension instead of import() https://github.com/bahmutov/node-hook\n"
   ]
  },
  {
   "cell_type": "code",
   "execution_count": 4,
   "metadata": {
    "hidden": true
   },
   "outputs": [
    {
     "name": "stdout",
     "output_type": "stream",
     "text": [
      "compiling /Users/briancullinan/jupyter_ops/Core/notebook.ipynb[12] aka #### rename cell to a nice name\n",
      "compiling /Users/briancullinan/jupyter_ops/Core/notebook.ipynb[11] aka ,#### get cell extension\n"
     ]
    },
    {
     "data": {
      "text/plain": [
       "{ addImports: [Function: addImports] }"
      ]
     },
     "execution_count": 4,
     "metadata": {},
     "output_type": "execute_result"
    }
   ],
   "source": [
    "var importer = require('../Core')\n",
    "var {transpile} = importer.import('transpile code')\n",
    "var {selectDom} = importer.import('select tree')\n",
    "var {selectAst} = importer.import('select code tree')\n",
    "var niceName = importer.import('rename cell to nice name')\n",
    "var exportsCache = importer.import('exports cache')\n",
    "\n",
    "var GLOBAL_CALLS = `//CallExpression[\n",
    "not(./parent::MemberExpression)\n",
    "and not(//*[contains(@type, \"Declar\")]/Identifier/@name=./Identifier/@name)\n",
    "]`\n",
    "\n",
    "/*\n",
    "[\n",
    "\n",
    "and not(//MemberExpression/Identifier/@name=./Identifier/@name)\n",
    "]\n",
    "*/\n",
    "\n",
    "var notebookExports;\n",
    "\n",
    "function addImport(ctx) {\n",
    "    var id = selectDom(`./Identifier/@name`, ctx)\n",
    "    var file = Object.keys(exportsCache)\n",
    "        .filter(k => exportsCache[k].includes(id))\n",
    "    if(file.length === 1) {\n",
    "        var body = selectDom([`//Program`], ctx)[0]\n",
    "        var include = selectAst([`//Program/*`],\n",
    "                                `var ${id} = importNotebook(\"${file[0]}\")`)[0]\n",
    "        body.insertBefore(include, body.childNodes[0] || null)\n",
    "    } else if (file.length > 1) {\n",
    "        throw new Error(`undefined ${id}, couldn't import ${JSON.stringify(file)}`)\n",
    "    }\n",
    "}\n",
    "\n",
    "function addImports(code) {\n",
    "    return transpile([\n",
    "        [GLOBAL_CALLS, addImport]\n",
    "    ], code)\n",
    "}\n",
    "\n",
    "module.exports = {\n",
    "    addImports\n",
    "}\n"
   ]
  },
  {
   "cell_type": "markdown",
   "metadata": {
    "heading_collapsed": true
   },
   "source": [
    "#### test add missing imports?\n",
    "\n",
    "test adding a missing import on its own code\n"
   ]
  },
  {
   "cell_type": "code",
   "execution_count": 6,
   "metadata": {
    "hidden": true
   },
   "outputs": [
    {
     "name": "stdout",
     "output_type": "stream",
     "text": [
      "compiling /Users/briancullinan/jupyter_ops/Core/notebook.ipynb[7] aka #### add missing imports\n",
      "compiling /Users/briancullinan/jupyter_ops/Core/notebook.ipynb[12] aka #### rename cell to a nice name\n",
      "compiling /Users/briancullinan/jupyter_ops/Core/notebook.ipynb[11] aka ,#### get cell extension\n"
     ]
    },
    {
     "data": {
      "text/plain": [
       "var addImports = importNotebook('notebook.ipynb[8]');\n",
       "var escodegen = require('escodegen');\n",
       "var importer = require('../Core');\n",
       "addImports('some code');"
      ]
     },
     "execution_count": 6,
     "metadata": {},
     "output_type": "execute_result"
    }
   ],
   "source": [
    "var importer = require('../Core')\n",
    "var {addImports} = importer.import('add missing imports')\n",
    "\n",
    "var code = `\n",
    "var escodegen = require('escodegen');\n",
    "var importer = require('../Core');\n",
    "\n",
    "addImports('some code')\n",
    "\n",
    "`\n",
    "\n",
    "if(typeof $$ != 'undefined') {\n",
    "    $$.mime({'text/plain': addImports(code)})\n",
    "    \n",
    "    /*\n",
    "    expected output \n",
    "var addImports = importer.import('add missing imports')\n",
    "var escodegen = require('escodegen');\n",
    "*/\n",
    "    \n",
    "}\n",
    "\n"
   ]
  },
  {
   "cell_type": "markdown",
   "metadata": {},
   "source": [
    "#### TODO: automatically add exports to cells\n",
    "\n",
    "For functions that are used elsewhere.\n"
   ]
  },
  {
   "cell_type": "markdown",
   "metadata": {},
   "source": [
    "### export cells\n",
    "\n",
    "TODO: automatically find missing imports from distrib/Github/3rd party sources in any language?\n",
    "\n"
   ]
  },
  {
   "cell_type": "markdown",
   "metadata": {},
   "source": [
    "#### the code\n",
    "\n",
    "export deploy notebook coordinator?\n",
    "\n",
    "TODO: remove and rewrite all this with new transpile calls from above.\n"
   ]
  },
  {
   "cell_type": "code",
   "execution_count": null,
   "metadata": {},
   "outputs": [],
   "source": [
    "var fs = require('fs');\n",
    "var path = require('path');\n",
    "var mkdirpSync = importer.import('mkdirp');\n",
    "\n",
    "var importer = require('../Core');\n",
    "var authorTemplate = importer.import('authoring header template');\n",
    "var replaceImports = importer.import('replace notebook imports');\n",
    "var getImportsRecursively = importer.import('get imports recursively');\n",
    "var projectRelatives = importer.import('fix project paths');\n",
    "var delintCode = importer.import('delint notebooks');\n",
    "\n",
    "// searches are the top level cells starting the import tree\n",
    "function exportAndDeploy(searches, projectOutput, matchOutput) {\n",
    "    projectOutput = projectOutput || process.env.EXPORT_PATH\n",
    "        || path.join(path.resolve(__dirname), '../.output');\n",
    "    \n",
    "    const allImports = {};\n",
    "    const imports = getImportsRecursively(allImports, searches);\n",
    "    \n",
    "    var core = [];\n",
    "    Object.keys(imports)\n",
    "        .filter(i => allImports[i].questions.length > 0\n",
    "               || allImports[i].questions[0].trim() != '')\n",
    "        .forEach((e, i) => {\n",
    "            var exportedCode;\n",
    "            assert(!allImports[e].name.match(/^\\./),\n",
    "                   `No filename ${e} ${allImports[e].questions}!`);\n",
    "            // some special exceptions with file-naming\n",
    "            if(allImports[e].name === 'readme.md') {\n",
    "                exportedCode = allImports[e].markdown;\n",
    "            } else if (allImports[e].language === 'javascript'\n",
    "                       && allImports[e].ast) {\n",
    "                exportedCode = replaceImports(allImports[e], allImports);\n",
    "                const delinted = delintCode(exportedCode)[0];\n",
    "                exportedCode = delinted.fixed || delinted.source;\n",
    "            } else {\n",
    "                exportedCode = allImports[e].code;\n",
    "            }\n",
    "            \n",
    "            outputExport(exportedCode, allImports[e],\n",
    "                         projectOutput, matchOutput || {})\n",
    "        });\n",
    "    \n",
    "    return projectRelatives(projectOutput)\n",
    "    // TODO: output packed cells and cache\n",
    "    // TODO: zip and upload to AWS\n",
    "}\n",
    "\n",
    "function outputExport(exportedCode, cell, projectOutput, matchOutput) {\n",
    "    // emit the file in every location request\n",
    "    matchFilename(cell.name, matchOutput, projectOutput).forEach(filename => {\n",
    "        console.log(`emitting ${filename}`);\n",
    "        // create directory if needed\n",
    "        mkdirpSync(path.dirname(filename));\n",
    "        // add a code block header\n",
    "        if(path.extname(filename) == '.js' || path.extname(filename) == '.cs') {\n",
    "            exportedCode = authorTemplate(cell.markdown, exportedCode)\n",
    "        }\n",
    "        fs.writeFileSync(filename, exportedCode);\n",
    "    })\n",
    "}\n",
    "\n",
    "module.exports = exportAndDeploy;\n"
   ]
  },
  {
   "cell_type": "markdown",
   "metadata": {},
   "source": [
    "#### inject cells in to notebooks when built with webpack?\n",
    "\n",
    "1) Instead of loading cache from file system, load it from a combined JSON.\n",
    "\n",
    "2) Use the ```require``` method for the included features instead of Node vm.\n"
   ]
  },
  {
   "cell_type": "code",
   "execution_count": null,
   "metadata": {},
   "outputs": [],
   "source": [
    "var path = require('path');\n",
    "var importer = require('../Core');\n",
    "var getArrayAST = importer.import('get ast path array');\n",
    "var {importsTemplate, cachedTemplate} = importer.import('include require like import');\n",
    "\n",
    "// TODO: this should be a test in the Core notebook\n",
    "// inject cellCache and cellIds loaded in to the interpreter so notebooks don't need to be uploaded,\n",
    "//   and webpack can tree-shake on functions already packed\n",
    "function injectImports(ast, allImports) {\n",
    "    var cacheBody = getArrayAST(`//*[/*/ExpressionStatement/CallExpression[\n",
    "/Identifier[@name == 'cacheAll']]]`, ast)[0];\n",
    "    var firstCache = getArrayAST(`//ExpressionStatement[/CallExpression[\n",
    "/Identifier[@name == 'cacheAll']]]`, cacheBody)[0];\n",
    "    var cacheCode = getArrayAST('*', cachedTemplate(cellsToNotebook(allImports)))[0];\n",
    "    cacheBody.body.splice(cacheBody.body.indexOf(firstCache), 1, ...cacheCode.body);\n",
    "    \n",
    "    var runContext = getArrayAST(`//AssignmentExpression[\n",
    "//Identifier[@name == 'runInNewContext']]`, ast)[0];\n",
    "    var addImports = Object.values(allImports).map(i => i.id).filter((i, j, arr) => arr.indexOf(i) === j)\n",
    "    var requireCode = getArrayAST('*', importsTemplate(addImports))[0].body[0];\n",
    "    requireCode.expression.right = runContext.right;\n",
    "    runContext.right = requireCode;\n",
    "}\n",
    "\n",
    "module.exports = injectImports;\n"
   ]
  },
  {
   "cell_type": "markdown",
   "metadata": {},
   "source": [
    "### couple of tools\n"
   ]
  },
  {
   "cell_type": "markdown",
   "metadata": {
    "heading_collapsed": true
   },
   "source": [
    "#### get cell extension?\n",
    "\n",
    "Convert the notebook type to a file extension.\n"
   ]
  },
  {
   "cell_type": "code",
   "execution_count": null,
   "metadata": {
    "hidden": true
   },
   "outputs": [],
   "source": [
    "// TODO: replace with a library?\n",
    "\n",
    "// TODO: move into interpret notebook cell?\n",
    "\n",
    "function getExtension(cell, notebook) {\n",
    "    var extension;\n",
    "    if(cell.cell_type === 'markdown') {\n",
    "        extension = '.md';\n",
    "    } else if(cell.cell_type === 'raw') {\n",
    "        extension = '.txt';\n",
    "    } else if(cell.language === 'javascript') {\n",
    "        if((cell.source || [cell.code]).join('').match(/describe\\s*\\(/igm)) {\n",
    "            extension = '.spec.js'\n",
    "        } else {\n",
    "            extension = '.js';\n",
    "        }\n",
    "    } else if(cell.language === 'powershell') {\n",
    "        extension = '.ps1';\n",
    "    } else if(cell.language === 'csharp') {\n",
    "        extension = '.cs';\n",
    "    } else if(cell.language === 'python') {\n",
    "        extension = '.py';\n",
    "    } else if(cell.language === 'typescript') {\n",
    "        if((cell.source || [cell.code]).join('').match(/describe\\s*\\(/igm)\n",
    "            || (cell.questions[0] || '').includes('test')) {\n",
    "            extension = '.spec.ts'\n",
    "        } else {\n",
    "            extension = '.ts';\n",
    "        }\n",
    "    } else if(cell.language === 'bash') {\n",
    "        extension = '.sh';\n",
    "    } else {\n",
    "        throw 'unknown language or cell type: '\n",
    "            + (cell.filename || notebook)\n",
    "            + ' (' + cell.cell_type + ',' + cell.language + ')';\n",
    "    }\n",
    "    return extension;\n",
    "}\n",
    "module.exports = getExtension;\n"
   ]
  },
  {
   "cell_type": "markdown",
   "metadata": {
    "heading_collapsed": true
   },
   "source": [
    "#### rename cell to a nice name?\n",
    "\n",
    "TODO: move this to Core import notebook?"
   ]
  },
  {
   "cell_type": "code",
   "execution_count": null,
   "metadata": {
    "hidden": true
   },
   "outputs": [],
   "source": [
    "var importer = require('../Core');\n",
    "var getExtension = importer.import('cell extension')\n",
    "\n",
    "// get previous markdown and extract name that leads back to the current cell\n",
    "function niceName(cell) {\n",
    "    var name = cell.questions[0].replace('?', '')\n",
    "        .replace(/[^a-z0-9]+|\\btest\\b/igm, ' ')\n",
    "        .trim()\n",
    "        .replace(/\\s+/igm, '-')\n",
    "        + getExtension(cell);\n",
    "    if(name.toLowerCase().includes('readme')) {\n",
    "        name = 'readme.md';\n",
    "    }\n",
    "    if(name.toLowerCase().includes('package-json')) {\n",
    "        name = 'package.json';\n",
    "    }\n",
    "    return name;\n",
    "}\n",
    "\n",
    "module.exports = niceName;\n"
   ]
  },
  {
   "cell_type": "markdown",
   "metadata": {
    "heading_collapsed": true
   },
   "source": [
    "#### authoring header template?\n"
   ]
  },
  {
   "cell_type": "code",
   "execution_count": null,
   "metadata": {
    "hidden": true
   },
   "outputs": [],
   "source": [
    "\n",
    "// TODO: move this heading authoring template to utility function\n",
    "function authorTemplate(markdown, code) {\n",
    "    return `\n",
    "/**\n",
    " * Written by Brian Cullinan, exported using magic.\n",
    " * Copyright (c) ${(new Date()).getFullYear()} by Brian Cullinan, All rights reserved.\n",
    " *\n",
    "${((markdown || '') + '').split('\\n').map(l => ' * ' + l).join('\\n')}\n",
    " *\n",
    " **/\n",
    "\n",
    "${code}`;\n",
    "}\n",
    "\n",
    "module.exports = authorTemplate;"
   ]
  }
 ],
 "metadata": {
  "kernelspec": {
   "display_name": "Javascript (Node.js)",
   "language": "javascript",
   "name": "javascript"
  },
  "language_info": {
   "file_extension": ".js",
   "mimetype": "application/javascript",
   "name": "javascript",
   "version": "10.16.0"
  }
 },
 "nbformat": 4,
 "nbformat_minor": 2
}
