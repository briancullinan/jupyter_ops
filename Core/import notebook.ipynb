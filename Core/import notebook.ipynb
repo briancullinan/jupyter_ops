{
  "cells": [
    {
      "cell_type": "markdown",
      "source": [
        "# How to execute and import a jupyter notebook?\n",
        "\n",
        "Include this header script in your notebooks to find more answers.\n",
        "\n",
        "How to use inheritence in jupyter notebooks?\n",
        "\n",
        "How to make a class out of jupter notebooks?\n",
        "\n",
        "How to use jupyter notebooks as services?\n",
        "\n"
      ],
      "metadata": {}
    },
    {
      "cell_type": "code",
      "source": [
        "// initialize\n",
        "var path = require('path');\n",
        "\n",
        "// TLDR; What do we end up with?\n",
        "var importNotebook = (notebook) => Promise.resolve({});\n",
        "var getCells = ((notebook, types = ['code']) => Promise.resolve([]));\n",
        "var runAllInNEL = (cells) => Promise.resolve({values: [], session: {}});\n",
        "var assignResults = (results, filename) => results;\n",
        "\n",
        "// provide a function for importing any notebook as a module and executing it\n",
        "var importNotebook = (notebook, sameContext = true) => {\n",
        "    var filename = path.resolve(notebook);\n",
        "    var dirname = path.resolve(path.dirname(filename));\n",
        "    // only read javascript kernels\n",
        "    return getCells(filename, ['javascript', 'code'])\n",
        "    .then(cells => cells.map(c => c.source.join('').trim()))\n",
        "    .then(cells => {\n",
        "        // TODOCUMENT: Notebooks are imported in to the same context so filename and dirname are overwritten.\n",
        "        if (cells.length > 0) {\n",
        "            cells[0] = 'var __filename='+JSON.stringify(filename)+';\\n'\n",
        "                + 'var __dirname='+JSON.stringify(dirname)+';\\n' \n",
        "                + cells[0];\n",
        "        }\n",
        "        return cells;\n",
        "    })\n",
        "    .then(cells => runAllInNEL(cells, sameContext))\n",
        "    .then((results) => assignResults(results, notebook));\n",
        "};\n",
        "\n",
        "// $$.done(); for our dumb parser\n",
        "\n"
      ],
      "outputs": [],
      "execution_count": 10,
      "metadata": {
        "collapsed": false,
        "inputHidden": false,
        "outputHidden": false
      }
    },
    {
      "cell_type": "markdown",
      "source": [
        "What do I need to have installed?\n",
        "\n",
        "How to sanity check the environment?\n"
      ],
      "metadata": {}
    },
    {
      "cell_type": "code",
      "source": [
        "// initialize\n",
        "\n",
        "var execSync = require('child_process').execSync;\n",
        "var deps = ['npm install', 'JSONStream', 'nel', 'path', 'fs', 'vm'];\n",
        "try {\n",
        "    require.resolve('JSONStream');\n",
        "    require.resolve('nel');\n",
        "} catch (e) {\n",
        "    execSync(deps.slice(0, 3).join(' '), {stdio: 'inherit'});\n",
        "}\n",
        "\n",
        "// $$.done() for our dumb parser\n"
      ],
      "outputs": [
        {
          "output_type": "execute_result",
          "execution_count": 11,
          "data": {
            "text/plain": [
              "'/Users/briancullinan/jupytangular2/node_modules/nel/index.js'"
            ]
          },
          "metadata": {}
        }
      ],
      "execution_count": 11,
      "metadata": {
        "collapsed": false,
        "inputHidden": false,
        "outputHidden": false
      }
    },
    {
      "cell_type": "markdown",
      "source": [
        "How to stream json using a {match} function?"
      ],
      "metadata": {}
    },
    {
      "cell_type": "code",
      "source": [
        "// initialize\n",
        "var JSONStream = require('JSONStream');\n",
        "(streamJson = (file, parse, match = ((c) => true)) => {\n",
        "    var file = fs.createReadStream(file)\n",
        "        .pipe(JSONStream.parse(parse));\n",
        "    file.on('data', (m) => match(m));\n",
        "    // create a promise out of this stream\n",
        "    return new Promise((resolve, reject) => {\n",
        "        file.on('error', e => reject(e, file));\n",
        "        file.on('close', () => resolve(file))\n",
        "    });\n",
        "});\n",
        "// $$.done() for our dumb parser\n",
        "\n"
      ],
      "outputs": [
        {
          "output_type": "execute_result",
          "execution_count": 12,
          "data": {
            "text/plain": [
              "[Function: streamJson]"
            ]
          },
          "metadata": {}
        }
      ],
      "execution_count": 12,
      "metadata": {
        "collapsed": false,
        "inputHidden": false,
        "outputHidden": false
      }
    },
    {
      "cell_type": "markdown",
      "source": [
        "\n",
        "How to parse cells of {types} from a notebook?\n",
        "\n"
      ],
      "metadata": {}
    },
    {
      "cell_type": "code",
      "source": [
        "// initialize\n",
        "\n",
        "// How to use getCells?\n",
        "(getCells = (notebook, types = ['*', 'code']) => {\n",
        "    var cells = [];\n",
        "    var kernel;\n",
        "    return streamJson(notebook, [true, {emitPath: true}], (match) => {\n",
        "        if(match.path[0] === 'metadata'\n",
        "           && match.path[1] === 'kernelspec') {\n",
        "            kernel = match.value;\n",
        "        } else if(match.path[0] === 'cells'\n",
        "                  && types.indexOf(match.value.cell_type) > -1) {\n",
        "            cells[cells.length] = match.value;\n",
        "        }\n",
        "    }).then((file) => {\n",
        "        if (types.indexOf(kernel.language) === -1\n",
        "           && types.indexOf('*') === -1) {\n",
        "            console.log('tried to import ' + types + JSON.stringify(kernel))\n",
        "            return [];\n",
        "        }\n",
        "        return cells;\n",
        "    });\n",
        "});\n",
        "\n",
        "// $$.done() for our dumb parser\n"
      ],
      "outputs": [
        {
          "output_type": "execute_result",
          "execution_count": 13,
          "data": {
            "text/plain": [
              "[Function: getCells]"
            ]
          },
          "metadata": {}
        }
      ],
      "execution_count": 13,
      "metadata": {
        "collapsed": false,
        "inputHidden": false,
        "outputHidden": false
      }
    },
    {
      "cell_type": "markdown",
      "source": [
        "How to run all promises sequentially?\n",
        "\n"
      ],
      "metadata": {}
    },
    {
      "cell_type": "code",
      "source": [
        "// initialize\n",
        "\n",
        "var runAllPromises = (promises) => {\n",
        "    return promises.reduce((promise, func) => {\n",
        "        return promise.then(result => {\n",
        "            return (typeof func == 'function'\n",
        "                ? (new Promise(func)) : func)\n",
        "                .then(Array.prototype.concat.bind(result));\n",
        "        });\n",
        "    },Promise.resolve([]));\n",
        "};\n",
        "(runAllPromises);\n",
        "// $$.done() for our dumb parser\n",
        "\n"
      ],
      "outputs": [
        {
          "output_type": "execute_result",
          "execution_count": 14,
          "data": {
            "text/plain": [
              "[Function: runAllPromises]"
            ]
          },
          "metadata": {}
        }
      ],
      "execution_count": 14,
      "metadata": {
        "collapsed": false,
        "inputHidden": false,
        "outputHidden": false
      }
    },
    {
      "cell_type": "markdown",
      "source": [
        "How to run all code cells in jupyter?"
      ],
      "metadata": {}
    },
    {
      "cell_type": "code",
      "source": [
        "// initialize\n",
        "var nel = require('nel');\n",
        "// How to create VM promises out of the cell content?\n",
        "var sess;\n",
        "(runAllInNEL = (cells, sameContext = true) => {\n",
        "    if(typeof sess === 'undefined' || sameContext === false) {\n",
        "        sess = new nel.Session();\n",
        "    }\n",
        "    return runAllPromises(\n",
        "        cells.map(\n",
        "            (cell) =>\n",
        "            (resolve) =>\n",
        "            sess.execute(cell, {\n",
        "                onStdout: console.log,\n",
        "                onStderr: console.error,\n",
        "                onSuccess: (o) => resolve(o),\n",
        "                onError: (o) => resolve(o),\n",
        "                beforeRun: () => {}})\n",
        "        )).then((r) => (r.session = sess) && (r));\n",
        "});\n",
        "\n",
        "// $$.done() for our dumb parser\n",
        "\n"
      ],
      "outputs": [
        {
          "output_type": "execute_result",
          "execution_count": 15,
          "data": {
            "text/plain": [
              "[Function: runAllInNEL]"
            ]
          },
          "metadata": {}
        }
      ],
      "execution_count": 15,
      "metadata": {
        "collapsed": false,
        "inputHidden": false,
        "outputHidden": false
      }
    },
    {
      "cell_type": "code",
      "source": [
        "// initialize\n",
        "if (typeof imported != 'object' || imported == null) { var imported = {}; }\n",
        "\n",
        "// display a heading when new notebooks are imported\n",
        "var logIm = (cells, filename) => {\n",
        "    return 'Running ' + filename  \n",
        "                + ' with ' + cells.length + ' cells';\n",
        "};\n",
        "\n",
        "function wrapCallback (func, session) {\n",
        "    // arguments doesn't work on anonymous functions like the return value:\n",
        "    return (a1,a2,a3,a4,a5,a6,a7,a8,a9) => {\n",
        "        var exec = '$$.async(); Promise.resolve(' \n",
        "        + func + '.apply(this,' \n",
        "        + JSON.stringify([a1,a2,a3,a4,a5,a6,a7,a8,a9]) + '))'\n",
        "        + '.then(r => $$.mime({\"text/json\": r}))' \n",
        "        + '.catch(r => $$.mime({\"text/json\": r}));';\n",
        "        return runAllInNEL([exec], session)\n",
        "            .then(r => {\n",
        "                var value = typeof r[0]['mime'] !== 'undefined' \n",
        "                    && typeof r[0]['mime']['text/json'] !== 'undefined' \n",
        "                    ? r[0]['mime']['text/json']\n",
        "                    : r[0];\n",
        "                return value;\n",
        "        });\n",
        "    };\n",
        "}\n",
        "\n",
        "// cache results when notebooks are processed\n",
        "(assignResults = (results, notebook) => {\n",
        "    var filename = path.basename(notebook);\n",
        "    var session = results.session;\n",
        "    var results = results.reduce((obj, r, i) => {\n",
        "        if (typeof r === 'object' && typeof r['mime'] !== 'undefined'\n",
        "            && typeof r['mime']['text/plain'] !== 'undefined') {\n",
        "            var re = (/\\[Function:\\s*(.*?)\\]/ig);\n",
        "            var name = re.exec(r['mime']['text/plain']);\n",
        "            if(name !== null) {\n",
        "                obj[filename+'['+i+']'] = wrapCallback(name[1], session);\n",
        "                obj[name[1]] = obj[filename+'['+i+']'];\n",
        "            }\n",
        "        } else if (typeof r === 'object' \n",
        "                   && typeof r['error'] !== 'undefined') {\n",
        "            obj[filename+'['+i+']'] = r['error'];\n",
        "            console.log(filename+'['+i+']' + '\\n' + r['error']['evalue']);\n",
        "        }\n",
        "        return obj;\n",
        "    }, {});\n",
        "    // TODO: offer results as an express service instead of global context?\n",
        "    imported[filename] = results;\n",
        "    return results;\n",
        "});\n",
        "\n",
        "// $$.done() for our dumb parser\n"
      ],
      "outputs": [
        {
          "output_type": "execute_result",
          "execution_count": 16,
          "data": {
            "text/plain": [
              "[Function: assignResults]"
            ]
          },
          "metadata": {}
        }
      ],
      "execution_count": 16,
      "metadata": {
        "collapsed": false,
        "inputHidden": false,
        "outputHidden": false
      }
    },
    {
      "cell_type": "markdown",
      "source": [
        "How to import a {notebook}?\n",
        "\n",
        "How to test the import feature?\n"
      ],
      "metadata": {}
    },
    {
      "cell_type": "code",
      "source": [
        "\n",
        "// initialize\n",
        "if (typeof imported != 'object' || imported == null) { var imported = {}; }\n",
        "// How to test if a notebook has already been imported?\n",
        "var oldImport = importNotebook;\n",
        "(importNotebook = (notebook) => {\n",
        "    var filename = path.basename(notebook);\n",
        "    if(typeof notebook === 'undefined') {\n",
        "        return Promise.resolve({});\n",
        "    }\n",
        "    if (typeof imported[filename] !== 'undefined') {\n",
        "        console.log('Already imported');\n",
        "        console.log(Object.keys(imported));\n",
        "        return Promise.resolve(imported[filename]);\n",
        "    }\n",
        "    return oldImport(notebook);\n",
        "});\n",
        "\n",
        "// $$.done() for our dumb parser\n"
      ],
      "outputs": [
        {
          "output_type": "execute_result",
          "execution_count": 17,
          "data": {
            "text/plain": [
              "[Function: importNotebook]"
            ]
          },
          "metadata": {}
        }
      ],
      "execution_count": 17,
      "metadata": {
        "collapsed": false,
        "inputHidden": false,
        "outputHidden": false
      }
    },
    {
      "cell_type": "markdown",
      "source": [
        "How to load interpreter?\n",
        "\n",
        "How to search notebooks?\n"
      ],
      "metadata": {}
    },
    {
      "cell_type": "code",
      "source": [
        "// initialize\n",
        "var path = require('path');\n",
        "var interpretAllPath = './interpret all notebooks.ipynb';\n",
        "\n",
        "// save for later use\n",
        "var interpret, interpretObject;\n",
        "\n",
        "var interpretAll = (queries, root = '') => {\n",
        "    return importer.importNotebook(interpretAllPath)\n",
        "        .then((f) => {\n",
        "            interpret = f['interpret'];\n",
        "            interpretObject = f['interpretObject'];\n",
        "        })\n",
        "        // use Promise.all to do all of your code searches up front\n",
        "        .then(r => Promise.all(queries.map(interpret)))\n",
        "        .then(r => interpretObject(r.map(r => r[0])))\n",
        "};\n",
        "(interpretAll);\n",
        "// $$.done() for our dumb parser\n",
        "\n"
      ],
      "outputs": [],
      "execution_count": null,
      "metadata": {
        "collapsed": false,
        "outputHidden": false,
        "inputHidden": false
      }
    },
    {
      "cell_type": "code",
      "source": [
        "// initialize\n",
        "\n",
        "if (typeof imported != 'object' || imported == null) { var imported = {}; }\n",
        "\n",
        "imported['import notebook.ipynb'] = {\n",
        "    'import notebook.ipynb[2]': streamJson,\n",
        "    streamJson: streamJson,\n",
        "    'import notebook.ipynb[3]': getCells,\n",
        "    getCells: getCells,\n",
        "    'import notebook.ipynb[4]': runAllPromises,\n",
        "    runAllPromises: runAllPromises,\n",
        "    'import notebook.ipynb[5]': runAllInNEL,\n",
        "    runAllInNEL: runAllInNEL,\n",
        "    'import notebook.ipynb[6]': assignResults,\n",
        "    assignResults: assignResults,\n",
        "    'import notebook.ipynb[7]': importNotebook,\n",
        "    importNotebook: importNotebook,\n",
        "    'import notebook.ipynb[8]': imported,\n",
        "    imported: imported\n",
        "    'import notebook.ipynb[9]': interpretAll,\n",
        "    interpretAll: interpretAll\n",
        "};\n",
        "(imported);\n",
        "\n",
        "// $$.done() for our dumb parser\n",
        "\n"
      ],
      "outputs": [
        {
          "output_type": "execute_result",
          "execution_count": 18,
          "data": {
            "text/plain": [
              "{ 'How to import a notebook.ipynb': \n",
              "   { 'How to find answers.ipynb[2]': [Function: streamJson],\n",
              "     streamJson: [Function: streamJson],\n",
              "     'How to find answers.ipynb[3]': [Function: getCells],\n",
              "     getCells: [Function: getCells],\n",
              "     'How to find answers.ipynb[4]': [Function: runAllPromises],\n",
              "     runAllPromises: [Function: runAllPromises],\n",
              "     'How to find answers.ipynb[5]': [Function: runAllInNEL],\n",
              "     runAllInNEL: [Function: runAllInNEL],\n",
              "     'How to find answers.ipynb[6]': [Function: assignResults],\n",
              "     assignResults: [Function: assignResults],\n",
              "     'How to find answers.ipynb[7]': [Function: importNotebook],\n",
              "     importNotebook: [Function: importNotebook],\n",
              "     'How to find answers.ipynb[8]': [Circular],\n",
              "     imported: [Circular] } }"
            ]
          },
          "metadata": {}
        }
      ],
      "execution_count": 18,
      "metadata": {
        "collapsed": false,
        "inputHidden": false,
        "outputHidden": false
      }
    },
    {
      "cell_type": "markdown",
      "source": [
        "These are some other useful notebooks you may want to import.\n",
        "\n",
        "How to train a chatbot using jupyter services?\n",
        "\n",
        "What is code completion for jupter notebooks?\n",
        "\n"
      ],
      "metadata": {}
    },
    {
      "cell_type": "code",
      "source": [],
      "outputs": [],
      "execution_count": null,
      "metadata": {
        "collapsed": false,
        "inputHidden": false,
        "outputHidden": false
      }
    }
  ],
  "metadata": {
    "kernel_info": {
      "name": "javascript"
    },
    "kernelspec": {
      "name": "javascript",
      "language": "javascript",
      "display_name": "Javascript (Node.js)"
    },
    "language_info": {
      "name": "javascript",
      "version": "7.7.2",
      "mimetype": "application/javascript",
      "file_extension": ".js"
    }
  },
  "nbformat": 4,
  "nbformat_minor": 4
}