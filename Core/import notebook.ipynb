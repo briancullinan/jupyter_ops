{
 "cells": [
  {
   "cell_type": "markdown",
   "metadata": {},
   "source": [
    "# How to execute and import a jupyter notebook?\n",
    "\n",
    "Include this header script in your notebooks to find more answers.\n",
    "\n",
    "How to use inheritence in jupyter notebooks?\n",
    "\n",
    "How to make a class out of jupter notebooks?\n",
    "\n",
    "How to use jupyter notebooks as services?\n",
    "\n"
   ]
  },
  {
   "cell_type": "code",
   "execution_count": 5,
   "metadata": {
    "collapsed": false,
    "inputHidden": false,
    "outputHidden": false
   },
   "outputs": [],
   "source": [
    "// initialize\n",
    "var path = require('path');\n",
    "\n",
    "// TLDR; What do we end up with?\n",
    "var importNotebook = (notebook) => Promise.resolve({});\n",
    "var getCells = ((notebook, types = ['code']) => Promise.resolve([]));\n",
    "var runAllInNEL = (cells) => Promise.resolve({values: [], session: {}});\n",
    "var assignResults = (results, filename) => results;\n",
    "\n",
    "// provide a function for importing any notebook as a module and executing it\n",
    "var importNotebook = (notebook, sameContext = true) => {\n",
    "    var filename = path.resolve(notebook);\n",
    "    var dirname = path.resolve(path.dirname(filename));\n",
    "    var oldDir = process.cwd();\n",
    "    var results;\n",
    "    process.chdir(dirname);\n",
    "    // only read javascript kernels\n",
    "    return getCells(filename, ['javascript', 'code'])\n",
    "    .then(cells => cells.map(c => c.source.join('')))\n",
    "    .then(cells => {\n",
    "        // TODOCUMENT: Notebooks are imported in to the same context so filename and dirname are overwritten.\n",
    "        if (cells.length > 0) {\n",
    "            cells[0] = 'var __filename='+JSON.stringify(filename)+';\\n'\n",
    "                + 'var __dirname='+JSON.stringify(dirname)+';\\n' \n",
    "                + 'process.chdir('+JSON.stringify(dirname)+');\\n' \n",
    "                + cells[0];\n",
    "        }\n",
    "        return cells;\n",
    "    })\n",
    "    .then(cells => runAllInNEL(cells, sameContext))\n",
    "    .then((r) => (results = assignResults(r, notebook)))\n",
    "    .then(() => {\n",
    "        process.chdir(oldDir);\n",
    "        return results;\n",
    "    })\n",
    "};\n",
    "// output nothing here, cached version of this function is assigned below.\n",
    "// $$.done(); for our dumb parser\n",
    "\n"
   ]
  },
  {
   "cell_type": "markdown",
   "metadata": {},
   "source": [
    "What do I need to have installed?\n",
    "\n",
    "How to sanity check the environment?\n"
   ]
  },
  {
   "cell_type": "code",
   "execution_count": 6,
   "metadata": {
    "collapsed": false,
    "inputHidden": false,
    "outputHidden": false
   },
   "outputs": [
    {
     "data": {
      "text/plain": [
       "'/Users/briancullinan/jupytangular2/node_modules/nel/index.js'"
      ]
     },
     "execution_count": 6,
     "metadata": {},
     "output_type": "execute_result"
    }
   ],
   "source": [
    "// initialize\n",
    "\n",
    "var execSync = require('child_process').execSync;\n",
    "var deps = ['npm install', 'JSONStream', 'nel', 'path', 'fs', 'vm'];\n",
    "try {\n",
    "    require.resolve('JSONStream');\n",
    "    require.resolve('nel');\n",
    "} catch (e) {\n",
    "    execSync(deps.slice(0, 3).join(' '), {stdio: 'inherit'});\n",
    "}\n",
    "\n",
    "// $$.done() for our dumb parser\n"
   ]
  },
  {
   "cell_type": "markdown",
   "metadata": {},
   "source": [
    "How to stream json using a {match} function?"
   ]
  },
  {
   "cell_type": "code",
   "execution_count": 7,
   "metadata": {
    "collapsed": false,
    "inputHidden": false,
    "outputHidden": false
   },
   "outputs": [
    {
     "data": {
      "text/plain": [
       "[Function: streamJson]"
      ]
     },
     "execution_count": 7,
     "metadata": {},
     "output_type": "execute_result"
    }
   ],
   "source": [
    "// initialize\n",
    "var fs = require('fs');\n",
    "var JSONStream = require('JSONStream');\n",
    "streamJson = (file, parse, match = ((c) => true)) => {\n",
    "    var file = fs.createReadStream(file)\n",
    "        .pipe(JSONStream.parse(parse));\n",
    "    file.on('data', (m) => match(m));\n",
    "    // create a promise out of this stream\n",
    "    return new Promise((resolve, reject) => {\n",
    "        file.on('error', e => reject(e, file));\n",
    "        file.on('close', () => resolve(file))\n",
    "    });\n",
    "};\n",
    "streamJson;\n",
    "// $$.done() for our dumb parser\n",
    "\n"
   ]
  },
  {
   "cell_type": "markdown",
   "metadata": {},
   "source": [
    "\n",
    "How to parse cells of {types} from a notebook?\n",
    "\n"
   ]
  },
  {
   "cell_type": "code",
   "execution_count": 8,
   "metadata": {
    "collapsed": false,
    "inputHidden": false,
    "outputHidden": false
   },
   "outputs": [
    {
     "data": {
      "text/plain": [
       "[Function: getCells]"
      ]
     },
     "execution_count": 8,
     "metadata": {},
     "output_type": "execute_result"
    }
   ],
   "source": [
    "// initialize\n",
    "\n",
    "// How to use getCells?\n",
    "getCells = (notebook, types = ['*', 'code']) => {\n",
    "    var cells = [];\n",
    "    var kernel;\n",
    "    return streamJson(notebook, [true, {emitPath: true}], (match) => {\n",
    "        if(match.path[0] === 'metadata'\n",
    "           && match.path[1] === 'kernelspec') {\n",
    "            kernel = match.value;\n",
    "        } else if(match.path[0] === 'cells'\n",
    "                  && types.indexOf(match.value.cell_type) > -1) {\n",
    "            cells[cells.length] = match.value;\n",
    "        }\n",
    "    }).then((file) => {\n",
    "        if (types.indexOf(kernel.language) === -1\n",
    "           && types.indexOf('*') === -1) {\n",
    "            console.log('tried to import ' + types + JSON.stringify(kernel))\n",
    "            return [];\n",
    "        }\n",
    "        return cells.map(c => Object.assign(c, {language: kernel.language}));\n",
    "    });\n",
    "};\n",
    "getCells;\n",
    "\n",
    "// $$.done() for our dumb parser\n"
   ]
  },
  {
   "cell_type": "markdown",
   "metadata": {},
   "source": [
    "How to run all promises sequentially?\n",
    "\n"
   ]
  },
  {
   "cell_type": "code",
   "execution_count": 9,
   "metadata": {
    "collapsed": false,
    "inputHidden": false,
    "outputHidden": false
   },
   "outputs": [
    {
     "data": {
      "text/plain": [
       "[Function: runAllPromises]"
      ]
     },
     "execution_count": 9,
     "metadata": {},
     "output_type": "execute_result"
    }
   ],
   "source": [
    "// initialize\n",
    "\n",
    "var runAllPromises = (promises) => {\n",
    "    return promises.reduce((promise, func) => {\n",
    "        return promise.then(result => {\n",
    "            return (typeof func == 'function'\n",
    "                ? (new Promise(func)) : Promise.resolve(func))\n",
    "                .then(Array.prototype.concat.bind(result));\n",
    "        });\n",
    "    },Promise.resolve([]));\n",
    "};\n",
    "runAllPromises;\n",
    "// $$.done() for our dumb parser\n",
    "\n"
   ]
  },
  {
   "cell_type": "markdown",
   "metadata": {},
   "source": [
    "How to run all code cells in jupyter?"
   ]
  },
  {
   "cell_type": "code",
   "execution_count": 10,
   "metadata": {
    "collapsed": false,
    "inputHidden": false,
    "outputHidden": false
   },
   "outputs": [
    {
     "data": {
      "text/plain": [
       "[Function: runAllInNEL]"
      ]
     },
     "execution_count": 10,
     "metadata": {},
     "output_type": "execute_result"
    }
   ],
   "source": [
    "// initialize\n",
    "var nel = require('nel');\n",
    "// How to create VM promises out of the cell content?\n",
    "var sess;\n",
    "runAllInNEL = (cells, sameContext = true) => {\n",
    "    if(typeof sess === 'undefined' || sameContext === false) {\n",
    "        sess = new nel.Session();\n",
    "    }\n",
    "    return runAllPromises(\n",
    "        cells.map(\n",
    "            (cell) =>\n",
    "            (resolve) =>\n",
    "            sess.execute(cell, {\n",
    "                onStdout: console.log,\n",
    "                onStderr: console.error,\n",
    "                onSuccess: (o) => resolve(o),\n",
    "                onError: (o) => resolve(o),\n",
    "                beforeRun: () => {}})\n",
    "        )).then((r) => (r.session = sess) && (r));\n",
    "};\n",
    "runAllInNEL;\n",
    "\n",
    "// $$.done() for our dumb parser\n",
    "\n"
   ]
  },
  {
   "cell_type": "code",
   "execution_count": 3,
   "metadata": {
    "collapsed": false,
    "inputHidden": false,
    "outputHidden": false
   },
   "outputs": [
    {
     "data": {
      "text/plain": [
       "[Function: assignResults]"
      ]
     },
     "execution_count": 3,
     "metadata": {},
     "output_type": "execute_result"
    }
   ],
   "source": [
    "// initialize\n",
    "if (typeof imported != 'object' || imported == null) { var imported = {}; }\n",
    "\n",
    "// display a heading when new notebooks are imported\n",
    "var logIm = (cells, filename) => {\n",
    "    return 'Running ' + filename  \n",
    "                + ' with ' + cells.length + ' cells';\n",
    "};\n",
    "\n",
    "function returnNEL(r) {\n",
    "    if(typeof r[0]['mime'] !== 'undefined' \n",
    "        && typeof r[0]['mime']['application/json'] !== 'undefined') {\n",
    "        value = r[0]['mime']['application/json'];\n",
    "    }\n",
    "    else if(typeof r[0]['mime'] !== 'undefined' \n",
    "        && typeof r[0]['mime']['text/json'] !== 'undefined') {\n",
    "        value = r[0]['mime']['text/json'];\n",
    "    }\n",
    "    else if (typeof r[0]['mime'] !== 'undefined'\n",
    "        && typeof r[0]['mime'][Object.keys(r[0]['mime'])[0]] != 'undefined') {\n",
    "        value = r[0]['mime'][Object.keys(r[0]['mime'])[0]]\n",
    "    }\n",
    "    else {\n",
    "        value = r[0];\n",
    "    }\n",
    "    return value;\n",
    "}\n",
    "\n",
    "function wrapCallback (func, session) {\n",
    "    // arguments doesn't work on anonymous functions like the return value:\n",
    "    return (a1,a2,a3,a4,a5,a6,a7,a8,a9) => {\n",
    "        var exec = '$$.async(); Promise.resolve(' \n",
    "        + func + '.apply(this,' \n",
    "        + JSON.stringify([a1,a2,a3,a4,a5,a6,a7,a8,a9]) + '))'\n",
    "        + '.then(r => $$.mime({\"application/json\": r}))' \n",
    "        + '.catch(r => $$.mime({\"application/json\": r}));';\n",
    "        \n",
    "        return runAllInNEL([exec], session)\n",
    "            .then(returnNEL);\n",
    "    };\n",
    "}\n",
    "\n",
    "// cache results when notebooks are processed\n",
    "(assignResults = (results, notebook) => {\n",
    "    var filename = path.basename(notebook);\n",
    "    var session = results.session;\n",
    "    var results = results.reduce((obj, r, i) => {\n",
    "        if (typeof r === 'object' && typeof r['mime'] !== 'undefined'\n",
    "            && typeof r['mime']['text/plain'] !== 'undefined') {\n",
    "            var re = (/\\[Function:\\s*(.*?)\\]/ig);\n",
    "            var name = re.exec(r['mime']['text/plain']);\n",
    "            if(name !== null) {\n",
    "                obj[filename+'['+i+']'] = wrapCallback(name[1], session);\n",
    "                obj[name[1]] = obj[filename+'['+i+']'];\n",
    "            }\n",
    "        } else if (typeof r === 'object' \n",
    "                   && typeof r['error'] !== 'undefined') {\n",
    "            obj[filename+'['+i+']'] = r['error'];\n",
    "            console.log(filename+'['+i+']' + '\\n' + r['error']['evalue']);\n",
    "        }\n",
    "        return obj;\n",
    "    }, {});\n",
    "    // TODO: offer results as an express service instead of global context?\n",
    "    imported[filename] = results;\n",
    "    return results;\n",
    "});\n",
    "\n",
    "// $$.done() for our dumb parser\n"
   ]
  },
  {
   "cell_type": "markdown",
   "metadata": {},
   "source": [
    "How to import a {notebook}?\n",
    "\n",
    "How to test the import feature?\n"
   ]
  },
  {
   "cell_type": "code",
   "execution_count": 12,
   "metadata": {
    "collapsed": false,
    "inputHidden": false,
    "outputHidden": false
   },
   "outputs": [
    {
     "data": {
      "text/plain": [
       "[Function: importNotebook]"
      ]
     },
     "execution_count": 12,
     "metadata": {},
     "output_type": "execute_result"
    }
   ],
   "source": [
    "\n",
    "// initialize\n",
    "if (typeof imported != 'object' || imported == null) { var imported = {}; }\n",
    "// How to test if a notebook has already been imported?\n",
    "var oldImport = importNotebook, lastKeys;\n",
    "(importNotebook = (notebook) => {\n",
    "    var filename = path.basename(notebook);\n",
    "    if(typeof notebook === 'undefined') {\n",
    "        return Promise.resolve({});\n",
    "    }\n",
    "    if (typeof imported[filename] !== 'undefined') {\n",
    "        if(lastKeys != Object.keys(imported)) {\n",
    "            console.warn('Already imported');\n",
    "            console.warn((lastKeys = Object.keys(imported)));\n",
    "        }\n",
    "        return Promise.resolve(imported[filename]);\n",
    "    }\n",
    "    return oldImport(notebook);\n",
    "});\n",
    "\n",
    "// $$.done() for our dumb parser\n"
   ]
  },
  {
   "cell_type": "markdown",
   "metadata": {},
   "source": [
    "How to load interpreter?\n",
    "\n",
    "How to search notebooks?\n"
   ]
  },
  {
   "cell_type": "code",
   "execution_count": 2,
   "metadata": {
    "collapsed": false,
    "inputHidden": false,
    "outputHidden": false
   },
   "outputs": [
    {
     "data": {
      "text/plain": [
       "[Function: interpretAll]"
      ]
     },
     "execution_count": 2,
     "metadata": {},
     "output_type": "execute_result"
    }
   ],
   "source": [
    "// initialize\n",
    "var path = require('path');\n",
    "var interpretAllPath = path.join(__dirname, './interpret all notebooks.ipynb');\n",
    "\n",
    "// save for later use\n",
    "var interpret, interpretObject;\n",
    "var runInNewContext = (code, ctx) => {};\n",
    "var interpretAll = (queries, root = '') => {\n",
    "    return (typeof interpret === 'undefined'\n",
    "    ? importNotebook(interpretAllPath)\n",
    "        .then((f) => {\n",
    "            interpret = f['interpret'];\n",
    "            interpretObject = f['interpretObject'];\n",
    "        })\n",
    "    : Promise.resolve())\n",
    "    // use Promise.all to do all of your code searches up front\n",
    "    .then(() => typeof queries == 'string' \n",
    "          ? interpret(queries) \n",
    "          : Promise.all(queries.map(interpret)))\n",
    "    .then(r => typeof queries == 'string' \n",
    "          ? interpretObject([r[0]])\n",
    "          : interpretObject(r.map(r => r[0])))\n",
    "    .then(r => r.map(r => {\n",
    "        if(typeof r === 'undefined') {\n",
    "            return r;\n",
    "        }\n",
    "        // must have a unique id for each unique cell so that \n",
    "        // individual cells can serve as modules as well as notebooks\n",
    "        // adding the cell id as a part of the filename\n",
    "        r.runFresherInNewContext = (ctx) => runInNewContext(\n",
    "            r.fresher,\n",
    "            Object.assign(ctx || {}, {useCache: false, __filename: r.filename + r.id}),\n",
    "            {filename: r.filename + r.id}, false);\n",
    "        r.runInNewContext = (ctx) => runInNewContext(\n",
    "            r.code,\n",
    "            Object.assign(ctx || {}, {__filename: r.filename + r.id}),\n",
    "            {filename: r.filename + r.id}, false);\n",
    "        // TODO: specify line offset to execute service?\n",
    "        r.runInNEL = (ctx) => runAllInNEL([\n",
    "            'Object.assign(global, ' \n",
    "            + JSON.stringify(ctx || {}) + ');' + r.code])\n",
    "            .then((results) => assignResults(results, r.notebook));\n",
    "        r.runAsModule = (ctx) => runInNewContext(\n",
    "            r.code,\n",
    "            Object.assign(ctx || {}, {__filename: r.filename + r.id}),\n",
    "            {filename: r.filename + r.id});\n",
    "        return r;\n",
    "    }))\n",
    "    .then(r => typeof queries == 'string' ? r[0] : r);\n",
    "};\n",
    "interpretAll;\n",
    "// $$.done() for our dumb parser\n",
    "\n"
   ]
  },
  {
   "cell_type": "markdown",
   "metadata": {},
   "source": [
    "Import arbitrary code in to the current context?"
   ]
  },
  {
   "cell_type": "code",
   "execution_count": 14,
   "metadata": {},
   "outputs": [
    {
     "data": {
      "text/plain": [
       "[Function: requireCode]"
      ]
     },
     "execution_count": 14,
     "metadata": {},
     "output_type": "execute_result"
    }
   ],
   "source": [
    "// initialize\n",
    "var path = require('path');\n",
    "var requireCode = (code, pathToCode, global) => {\n",
    "    var Module = require(\"module\").Module;\n",
    "\n",
    "    // must have a new name for every generation otherwise cache will be returned\n",
    "    var filepath = path.resolve(process.cwd(), pathToCode);\n",
    "    var filename = path.basename(filepath);\n",
    "    var dirname = path.dirname(filepath);\n",
    "\n",
    "    var cachedModule = Module._cache[filepath];\n",
    "    if (cachedModule && global.useCache !== false) {\n",
    "        global.module = cachedModule;\n",
    "        return cachedModule.exports;\n",
    "    }\n",
    "\n",
    "    var mod = new Module(filepath, global.module);\n",
    "    global.module = mod;\n",
    "    Module._cache[filepath] = mod;\n",
    "\n",
    "    mod.filename = filepath;\n",
    "    mod.paths = Module._nodeModulePaths(dirname);\n",
    "\n",
    "    mod._compile(code, filepath);\n",
    "    mod.loaded = true;\n",
    "\n",
    "    global.exports = mod.exports;\n",
    "    return mod.exports;\n",
    "};\n",
    "requireCode;\n",
    "// $$.done() for our dumb parser\n",
    "\n"
   ]
  },
  {
   "cell_type": "markdown",
   "metadata": {},
   "source": [
    "Import arbitrary code in to a new context?"
   ]
  },
  {
   "cell_type": "code",
   "execution_count": 15,
   "metadata": {},
   "outputs": [
    {
     "data": {
      "text/plain": [
       "[Function: execInNewContext]"
      ]
     },
     "execution_count": 15,
     "metadata": {},
     "output_type": "execute_result"
    }
   ],
   "source": [
    "// initialize\n",
    "var path = require('path');\n",
    "var vm = require('vm');\n",
    "var runInNewContext = (code, ctx, options, isModule = true) => {\n",
    "    var tmpGlobal = ctx || {};\n",
    "    tmpGlobal.global = tmpGlobal;\n",
    "    Object.assign(tmpGlobal, ctx);\n",
    "    Object.assign(tmpGlobal, {\n",
    "        requireCode: requireCode,\n",
    "        moduleCode: '\"use strict\";\\n' + code,\n",
    "        projectPath: ctx.__filename,\n",
    "        'console': console,\n",
    "        'process': process,\n",
    "        'Promise': Promise,\n",
    "        'Buffer': Buffer,\n",
    "        'clearImmediate': clearImmediate,\n",
    "        'clearInterval': clearInterval,\n",
    "        'clearTimeout': clearTimeout,\n",
    "        'setImmediate': setImmediate,\n",
    "        'setInterval': setInterval,\n",
    "        'setTimeout': setTimeout,\n",
    "        '__filename': ctx.__filename,\n",
    "        '__dirname': path.dirname(ctx.__filename),\n",
    "        'require': require,\n",
    "    });\n",
    "    Object.assign(options || {}, {lineOffset: -1});\n",
    "    if(!isModule) {\n",
    "        tmpGlobal.module = {};\n",
    "    }\n",
    "    //var result = vm.runInNewContext('\"use strict\";(requireCode(moduleCode, projectPath, global));', tmpGlobal);\n",
    "    var result = vm.runInNewContext(isModule \n",
    "          ? 'requireCode(moduleCode, projectPath, global);'\n",
    "          : tmpGlobal.moduleCode, tmpGlobal, options);\n",
    "    return tmpGlobal.global.module.exports;\n",
    "};\n",
    "runInNewContext;\n",
    "// $$.done() for our dumb parser\n"
   ]
  },
  {
   "cell_type": "code",
   "execution_count": 16,
   "metadata": {
    "collapsed": false,
    "inputHidden": false,
    "outputHidden": false
   },
   "outputs": [
    {
     "data": {
      "text/plain": [
       "{ 'import notebook.ipynb': \n",
       "   { 'import notebook.ipynb[2]': [Function: streamJson],\n",
       "     streamJson: [Function: streamJson],\n",
       "     'import notebook.ipynb[3]': [Function: getCells],\n",
       "     getCells: [Function: getCells],\n",
       "     'import notebook.ipynb[4]': [Function: runAllPromises],\n",
       "     runAllPromises: [Function: runAllPromises],\n",
       "     'import notebook.ipynb[5]': [Function: runAllInNEL],\n",
       "     runAllInNEL: [Function: runAllInNEL],\n",
       "     'import notebook.ipynb[6]': [Function: assignResults],\n",
       "     assignResults: [Function: assignResults],\n",
       "     'import notebook.ipynb[7]': [Function: importNotebook],\n",
       "     importNotebook: [Function: importNotebook],\n",
       "     'import notebook.ipynb[8]': [Circular],\n",
       "     imported: [Circular],\n",
       "     'import notebook.ipynb[9]': [Function: interpretAll],\n",
       "     interpretAll: [Function: interpretAll],\n",
       "     'import notebook.ipynb[10]': [Function: requireCode],\n",
       "     requireCode: [Function: requireCode],\n",
       "     'import notebook.ipynb[11]': [Function: execInNewContext],\n",
       "     execInNewContext: [Function: execInNewContext] } }"
      ]
     },
     "execution_count": 16,
     "metadata": {},
     "output_type": "execute_result"
    }
   ],
   "source": [
    "// initialize\n",
    "\n",
    "if (typeof imported != 'object' || imported == null) { var imported = {}; }\n",
    "\n",
    "imported['import notebook.ipynb'] = {\n",
    "    'import notebook.ipynb[2]': streamJson,\n",
    "    streamJson: streamJson,\n",
    "    'import notebook.ipynb[3]': getCells,\n",
    "    getCells: getCells,\n",
    "    'import notebook.ipynb[4]': runAllPromises,\n",
    "    runAllPromises: runAllPromises,\n",
    "    'import notebook.ipynb[5]': runAllInNEL,\n",
    "    runAllInNEL: runAllInNEL,\n",
    "    'import notebook.ipynb[6]': assignResults,\n",
    "    assignResults: assignResults,\n",
    "    'import notebook.ipynb[7]': importNotebook,\n",
    "    importNotebook: importNotebook,\n",
    "    'import notebook.ipynb[8]': imported,\n",
    "    imported: imported,\n",
    "    'import notebook.ipynb[9]': interpretAll,\n",
    "    interpretAll: interpretAll,\n",
    "    'import notebook.ipynb[10]': requireCode,\n",
    "    requireCode: requireCode,\n",
    "    'import notebook.ipynb[11]': runInNewContext,\n",
    "    runInNewContext: runInNewContext\n",
    "};\n",
    "imported;\n",
    "\n",
    "// $$.done() for our dumb parser\n",
    "\n"
   ]
  },
  {
   "cell_type": "markdown",
   "metadata": {},
   "source": [
    "These are some other useful notebooks you may want to import.\n",
    "\n",
    "How to train a chatbot using jupyter services?\n",
    "\n",
    "What is code completion for jupter notebooks?\n",
    "\n"
   ]
  },
  {
   "cell_type": "code",
   "execution_count": null,
   "metadata": {
    "collapsed": false,
    "inputHidden": false,
    "outputHidden": false
   },
   "outputs": [],
   "source": []
  }
 ],
 "metadata": {
  "kernel_info": {
   "name": "javascript"
  },
  "kernelspec": {
   "display_name": "Javascript (Node.js)",
   "language": "javascript",
   "name": "javascript"
  },
  "language_info": {
   "file_extension": ".js",
   "mimetype": "application/javascript",
   "name": "javascript",
   "version": "8.6.0"
  }
 },
 "nbformat": 4,
 "nbformat_minor": 4
}
