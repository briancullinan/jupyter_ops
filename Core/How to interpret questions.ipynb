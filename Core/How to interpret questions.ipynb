{
  "cells": [
    {
      "cell_type": "markdown",
      "source": [
        "\n",
        "TLDR; How to use fuse.js to implement a simple search?\n",
        "\n",
        "# How to interpret questions in jupyter notebooks?\n",
        "\n",
        "How to turn jupyter notebooks in to modules?\n",
        "\n",
        "How to answer questions using jupyter notebooks and simple search?\n",
        "\n",
        "How to search jupter notebooks for questions and answers?\n",
        "\n"
      ],
      "metadata": {}
    },
    {
      "cell_type": "code",
      "source": [
        "// install fuse\n",
        "try {\n",
        "    require.resolve('fuse.js');\n",
        "} catch (e) {\n",
        "    require('child_process').execSync('npm install fuse.js');\n",
        "}\n",
        "\n",
        "if (typeof cellCache == 'undefined') {var cellCache = []};\n",
        "\n",
        "var Fuse = require('fuse.js');\n",
        "var fuse = new Fuse(cellCache, {\n",
        "    shouldSort: true, \n",
        "    keys: ['question'],\n",
        "    id: 'id'\n",
        "});\n",
        "\n",
        "var interpret = (message) => fuse.search(message);\n",
        "(interpret);\n",
        "\n"
      ],
      "outputs": [
        {
          "output_type": "execute_result",
          "execution_count": 3,
          "data": {
            "text/plain": [
              "[Function: interpret]"
            ]
          },
          "metadata": {}
        }
      ],
      "execution_count": 3,
      "metadata": {
        "collapsed": false,
        "outputHidden": false,
        "inputHidden": false
      }
    },
    {
      "cell_type": "markdown",
      "source": [
        "How to cache notebook questions in fuse?"
      ],
      "metadata": {}
    },
    {
      "cell_type": "code",
      "source": [
        "var getCells = require(__dirname).getCells;\n",
        "var cacheCells = (cells, notebook) => {};\n",
        "// interpret notebooks by importing them in to cache\n",
        "(interpretNotebook = (notebook) => {\n",
        "    return getCells(notebook, ['markdown', 'code'])\n",
        "        .then(cells => cacheCells(cells, notebook));\n",
        "});\n",
        "\n"
      ],
      "outputs": [
        {
          "output_type": "execute_result",
          "execution_count": 4,
          "data": {
            "text/plain": [
              "[Function: interpretNotebook]"
            ]
          },
          "metadata": {}
        }
      ],
      "execution_count": 4,
      "metadata": {
        "collapsed": false,
        "outputHidden": false,
        "inputHidden": false
      }
    },
    {
      "cell_type": "markdown",
      "source": [
        "How to find questions leading up to jupter cells?\n",
        "\n",
        "How to read markdown leading up to code cells?\n"
      ],
      "metadata": {}
    },
    {
      "cell_type": "code",
      "source": [
        "// TODO: use the m flag option for regexp?\n",
        "var re = new RegExp('(^|\\\\n).*?\\\\?(\\\\s+|$)', 'ig');\n",
        "var re2 = new RegExp('(^|\\\\n)//.*\\\\?(\\\\s+|$)', 'ig')\n",
        "\n",
        "var accumulateMarkdown = (cells) => {\n",
        "    var counter = 0, prev = [];\n",
        "    return cells.reduce((md, c) => {\n",
        "        var source = c.source.join('').trim();\n",
        "        if (c.cell_type == 'markdown') {\n",
        "            prev.push(source);\n",
        "            return md;\n",
        "        } else if(c.cell_type !== 'code') {\n",
        "            return md;\n",
        "        }\n",
        "        var cell = {code: source, markdown: prev};\n",
        "        prev = [];\n",
        "        md.push(cell);\n",
        "        return md;\n",
        "    }, []);\n",
        "};\n",
        "\n",
        "// How to convert a string to an Array of RegEx matches\n",
        "var regexToArray = (ex, str, i = 0) => {\n",
        "    var co = []; var m;\n",
        "    while ((m = re.exec(str)) && co.push(m[i]));\n",
        "    return co;\n",
        "};\n",
        "(regexToArray);"
      ],
      "outputs": [
        {
          "output_type": "execute_result",
          "execution_count": 5,
          "data": {
            "text/plain": [
              "[Function: regexToArray]"
            ]
          },
          "metadata": {}
        }
      ],
      "execution_count": 5,
      "metadata": {
        "collapsed": false,
        "outputHidden": false,
        "inputHidden": false
      }
    },
    {
      "cell_type": "markdown",
      "source": [
        "\n\n",
        "This is a complex question to answer.  Perhaps using IBM Watson language alchemy?\n",
        "\n",
        "How to find functions in jupyter notebooks?\n",
        "\n"
      ],
      "metadata": {}
    },
    {
      "cell_type": "code",
      "source": [
        "\n",
        "// TODO: interpret markdown leading up to code results and find the resulting function in the list\n",
        "// for now, the boring solution is to assume all markdown output is a question?\n",
        "\n",
        "// How to store code markdown results for later use?\n",
        "if (typeof cellCache == 'undefined') { var cellCache = []; }\n",
        "if (typeof cacheIds == 'undefined') { var cacheIds = {}; }\n",
        "(cacheCells = ((cells, notebook) => {\n",
        "    var filename = path.basename(notebook);\n",
        "    var newCache = accumulateMarkdown(cells);\n",
        "    newCache.forEach((c, i) => {\n",
        "        if(typeof cacheIds[filename+'['+i+']'] !== 'undefined') {\n",
        "            return;\n",
        "        }\n",
        "        var questions = regexToArray(re, c.markdown)\n",
        "            .concat(regexToArray(re, c.source).map(r => r.replace(/how to|?/ig, '')));\n",
        "        cacheIds[filename+'['+i+']'] = Object.assign({}, c, {\n",
        "            questions: questions,\n",
        "            notebook: filename,\n",
        "            function: global[filename+'['+i+']']\n",
        "        });\n",
        "        questions.forEach((q) => cellCache.push({\n",
        "            id: filename+'['+i+']',\n",
        "            question: q\n",
        "        }));\n",
        "    });\n",
        "    return cellCache;\n",
        "}));\n",
        "\n"
      ],
      "outputs": [
        {
          "output_type": "execute_result",
          "execution_count": 6,
          "data": {
            "text/plain": [
              "[Function: cacheCells]"
            ]
          },
          "metadata": {}
        }
      ],
      "execution_count": 6,
      "metadata": {
        "collapsed": false,
        "outputHidden": false,
        "inputHidden": false
      }
    },
    {
      "cell_type": "markdown",
      "source": [
        "\n",
        "How to test caching works?\n"
      ],
      "metadata": {}
    },
    {
      "cell_type": "code",
      "source": [
        "\n",
        "var testNotebook = 'How to test import.ipynb';\n",
        "var testCells = [\n",
        "    {cell_type: 'code', source: []},\n",
        "    {cell_type: 'markdown', source: [\"how to test for errors line 2?\"]},\n",
        "    {cell_type: 'code', source: [\"(function (err) { throw error; })\"]}\n",
        "];\n",
        "global[testNotebook+'[1]'] \n",
        "    = eval(testCells[testCells.length-1].source.join('').trim());\n",
        "var markdownCache = cacheCells(testCells, testNotebook);\n",
        "if(markdownCache[0].id == testNotebook+'[1]') {\n",
        "    $$.sendResult(cacheCells);\n",
        "}\n"
      ],
      "outputs": [
        {
          "output_type": "execute_result",
          "execution_count": 7,
          "data": {
            "text/plain": [
              "[Function: cacheCells]"
            ]
          },
          "metadata": {}
        }
      ],
      "execution_count": 7,
      "metadata": {
        "collapsed": false,
        "outputHidden": false,
        "inputHidden": false
      }
    },
    {
      "cell_type": "markdown",
      "source": [
        "How to interpret a jupyter {directory}?\n",
        "\n",
        "How to display interpreted results in markdown?\n",
        "\n",
        "How to test the interpreter works?\n"
      ],
      "metadata": {}
    },
    {
      "cell_type": "code",
      "source": [
        "// How to represent search results in markdown?\n",
        "var interpretMarkdown = (results) => results.reduce((str, res) => {\n",
        "   return (str += '\\n\\n\\n' + res.length + ' match' \n",
        "       + (res.length !== 1 ? 'es' : '')\n",
        "       + ' found: ' + res.join(' , ') + '\\n\\n\\n'\n",
        "       + (res.length > 0 ? ('\\n\\n\\n' + cacheIds[res[0]].markdown + '\\n\\n\\n' \n",
        "            + '```\\n\\n\\n' + cacheIds[res[0]].code + '\\n\\n\\n```\\n\\n\\n') : ''));\n",
        "}, '');\n",
        "(interpretMarkdown);\n"
      ],
      "outputs": [
        {
          "output_type": "execute_result",
          "execution_count": 8,
          "data": {
            "text/plain": [
              "[Function: interpretMarkdown]"
            ]
          },
          "metadata": {}
        }
      ],
      "execution_count": 8,
      "metadata": {
        "collapsed": false,
        "outputHidden": false,
        "inputHidden": false
      }
    },
    {
      "cell_type": "markdown",
      "source": [
        "How to test the interpreter is working?"
      ],
      "metadata": {}
    },
    {
      "cell_type": "code",
      "source": [
        "$$.async();\n",
        "Promise.all([\n",
        "    interpretNotebook(path.join(__dirname, 'How to find answers.ipynb')),\n",
        "    interpretNotebook(path.join(__dirname, 'How to interpret questions.ipynb'))\n",
        "]).then((cache) => Promise.resolve([\n",
        "    interpret('import notebook'),\n",
        "    interpret('interpret markdown')\n",
        "])).then(results => {\n",
        "    var output = interpretMarkdown(results);\n",
        "    $$.mime({'text/markdown' : output});\n",
        "}).catch(e => $$.sendError(e));\n"
      ],
      "outputs": [
        {
          "output_type": "execute_result",
          "execution_count": 9,
          "data": {
            "text/markdown": [
              "\n\n\n",
              "5 matches found: How to find answers.ipynb[7] , How to interpret questions.ipynb[1] , How to find answers.ipynb[0] , How to interpret questions.ipynb[0] , How to interpret questions.ipynb[0]\n",
              "\n\n\n\n\n",
              "How to import a {notebook}?\n",
              "\n",
              "How to test the import feature?\n",
              "\n\n",
              "```\n",
              "\n\n",
              "// initialize\n",
              "if (typeof imported != 'object' || imported == null) { var imported = {}; }\n",
              "// How to test if a notebook has already been imported?\n",
              "var oldImport = importNotebook;\n",
              "(importNotebook = (notebook) => {\n",
              "    var filename = path.basename(notebook);\n",
              "    if(typeof notebook === 'undefined') {\n",
              "        return Promise.resolve({});\n",
              "    }\n",
              "    if (typeof imported[filename] !== 'undefined') {\n",
              "        console.log('Already imported');\n",
              "        console.log(Object.keys(imported));\n",
              "        return Promise.resolve(imported[filename]);\n",
              "    }\n",
              "    return oldImport(notebook);\n",
              "});\n",
              "\n",
              "// $$.done() for our dumb parser\n",
              "\n\n",
              "```\n",
              "\n\n\n\n\n",
              "2 matches found: How to interpret questions.ipynb[5] , How to interpret questions.ipynb[5]\n",
              "\n\n\n\n\n",
              "How to interpret a jupyter {directory}?\n",
              "\n",
              "How to display interpreted results in markdown?\n",
              "\n",
              "How to test the interpreter works?\n",
              "\n\n",
              "```\n",
              "\n\n",
              "// How to represent search results in markdown?\n",
              "var interpretMarkdown = (results) => results.reduce((str, res) => {\n",
              "   return (str += '\\n\\n\\n' + res.length + ' match' \n",
              "       + (res.length !== 1 ? 'es' : '')\n",
              "       + ' found: ' + res.join(' , ') + '\\n\\n\\n'\n",
              "       + (res.length > 0 ? ('\\n\\n\\n' + cacheIds[res[0]].markdown + '\\n\\n\\n' \n",
              "            + '```\\n\\n\\n' + cacheIds[res[0]].code + '\\n\\n\\n```\\n\\n\\n') : ''));\n",
              "}, '');\n",
              "(interpretMarkdown);\n",
              "\n\n",
              "```\n",
              "\n\n"
            ]
          },
          "metadata": {}
        }
      ],
      "execution_count": 9,
      "metadata": {
        "collapsed": false,
        "outputHidden": false,
        "inputHidden": false
      }
    },
    {
      "cell_type": "code",
      "source": [
        "var importer = require(__dirname);\n",
        "var runAllPromises = importer.runAllPromises;\n",
        "var imported = importer.imported;\n",
        "// An intention is the same as interpret but gracefully executes or returns markdown\n",
        "(intend = (message, a1, a2, a3, a4, a5, a6, a7, a8, a9) => {\n",
        "    var intentions = message;\n",
        "    if (typeof message === 'string') {\n",
        "        intentions = [message];\n",
        "    }\n",
        "    return runAllPromises(intentions.map(m => {\n",
        "        return Promise.resolve(interpret(m))\n",
        "            .then(r => {\n",
        "            if(r.length === 1 || \n",
        "                typeof imported[cacheIds[r[0]].notebook][r[0]] \n",
        "                    !== 'undefined') {\n",
        "                // TODO: dependency injection here?\n",
        "                return imported[cacheIds[r[0]].notebook][r[0]]\n",
        "                    .apply(this, [a1, a2, a3, a4, a5, a6, a7, a8, a9]);\n",
        "            } else {\n",
        "                return interpretMarkdown([r]);\n",
        "            }\n",
        "        })\n",
        "    }));\n",
        "});\n",
        "\n"
      ],
      "outputs": [
        {
          "output_type": "error",
          "ename": "SyntaxError",
          "evalue": "Duplicate parameter name not allowed in this context",
          "traceback": [
            "evalmachine.<anonymous>:5",
            "(intend = (message, a1, a2, a3, a4, a4, a5, a6, a7, a8, a9) => {",
            "                                                          ^",
            "SyntaxError: Duplicate parameter name not allowed in this context",
            "    at Object.exports.runInThisContext (vm.js:76:16)",
            "    at run ([eval]:613:19)",
            "    at onRunRequest ([eval]:384:22)",
            "    at onMessage ([eval]:352:17)",
            "    at emitTwo (events.js:106:13)",
            "    at process.emit (events.js:191:7)",
            "    at process.nextTick (internal/child_process.js:744:12)",
            "    at _combinedTickCallback (internal/process/next_tick.js:67:7)",
            "    at process._tickCallback (internal/process/next_tick.js:98:9)"
          ]
        }
      ],
      "execution_count": 1,
      "metadata": {
        "collapsed": false,
        "outputHidden": false,
        "inputHidden": false
      }
    },
    {
      "cell_type": "code",
      "source": [],
      "outputs": [],
      "execution_count": 12,
      "metadata": {
        "collapsed": false,
        "outputHidden": false,
        "inputHidden": false
      }
    }
  ],
  "metadata": {
    "kernelspec": {
      "name": "node_nteract",
      "language": "javascript",
      "display_name": "Node.js (nteract)"
    },
    "kernel_info": {
      "name": "node_nteract"
    },
    "language_info": {
      "name": "javascript",
      "version": "6.5.0",
      "mimetype": "application/javascript",
      "file_extension": ".js"
    }
  },
  "nbformat": 4,
  "nbformat_minor": 4
}