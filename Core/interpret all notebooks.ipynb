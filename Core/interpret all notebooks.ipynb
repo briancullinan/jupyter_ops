{
 "cells": [
  {
   "cell_type": "markdown",
   "metadata": {},
   "source": [
    "find all notebooks?\n",
    "\n",
    "How to get markdown from all notebooks in {directory}?\n",
    "\n",
    "How to interpret a jupyter {directory}?\n",
    "\n"
   ]
  },
  {
   "cell_type": "code",
   "execution_count": 1,
   "metadata": {
    "collapsed": false,
    "inputHidden": false,
    "outputHidden": false
   },
   "outputs": [
    {
     "data": {
      "text/plain": [
       "{ fuseSearch: [Function: fuseSearch],\n",
       "  interpretMarkdown: [Function: interpretMarkdown],\n",
       "  interpretObject: [Function: interpretObject],\n",
       "  cacheAll: [Function: cacheAll],\n",
       "  cacheCells: [Function: cacheCells] }"
      ]
     },
     "execution_count": 1,
     "metadata": {},
     "output_type": "execute_result"
    }
   ],
   "source": [
    "var path = require('path');\n",
    "var glob = require('glob');\n",
    "var fs = require('fs');\n",
    "var assert = require('assert');\n",
    "var importer = require('../Core');\n",
    "var {\n",
    "    fuseSearch,\n",
    "    interpretMarkdown,\n",
    "    interpretObject,\n",
    "    cacheCells\n",
    "} = importer.import('interpret questions.ipynb');\n",
    "\n",
    "// How to walk directories and files recursively and synchronously\n",
    "var listInProject;\n",
    "function cacheAll(dirname) {\n",
    "    if(typeof listInProject === 'undefined') {\n",
    "        const r = fuseSearch('list project files');\n",
    "        assert(r.length > 0)\n",
    "        const search1 = interpretObject([r[0]])[0];\n",
    "        listInProject = importer.runInNewContext(search1.code, {\n",
    "            __filename: search1.filename\n",
    "        }, {}, false);\n",
    "    }\n",
    "    return listInProject(dirname, '**/*.ipynb')\n",
    "        .map(n => cacheCells(importer.getCells(n, ['*', 'markdown', 'code']), n))\n",
    "};\n",
    "\n",
    "// TODO: move this below\n",
    "// just do it in load mode\n",
    "if(typeof describe === 'undefined') {\n",
    "    var it = ((l, func) => func());\n",
    "    var beforeEach = ((func) => func());\n",
    "    var describe = ((l, func) => func());\n",
    "}\n",
    "\n",
    "describe('notebook search loader', () => {\n",
    "    it('should load file-system', () => {\n",
    "        const filesystemPath = path.join(__dirname, '../Utilities/file system.ipynb');\n",
    "        assert(fs.existsSync(filesystemPath), 'missing ' + path.resolve(filesystemPath));\n",
    "        cacheCells(importer.getCells(filesystemPath, ['*', 'markdown', 'code']), filesystemPath);\n",
    "    })\n",
    "    \n",
    "    it('should load interpreter', () => {\n",
    "        const interpreterPath = path.join(__dirname, '../Core/interpret all notebooks.ipynb');\n",
    "        assert(fs.existsSync(interpreterPath), 'missing ' + path.resolve(interpreterPath));\n",
    "        cacheCells(importer.getCells(interpreterPath, ['*', 'markdown', 'code']), interpreterPath);\n",
    "    })\n",
    "});\n",
    "\n",
    "var cacheAll;\n",
    "describe('notebook search service', () => {\n",
    "    beforeEach(() => {\n",
    "        if(typeof cacheAll === 'undefined') {\n",
    "            const r = fuseSearch('find all notebooks');\n",
    "            assert(r.length > 0);\n",
    "            const search2 = interpretObject([r[0]])[0];\n",
    "            cacheAll = importer.runInNewContext(search2.code, {\n",
    "                __filename: search2.filename,\n",
    "            }, {}, false).cacheAll\n",
    "        }\n",
    "    })\n",
    "    \n",
    "    it('should refresh cache when file changes', () => {\n",
    "        assert(path.resolve('.').indexOf('Core') > -1);\n",
    "        cacheAll(path.resolve('../'));\n",
    "        assert(true);\n",
    "    })\n",
    "});\n",
    "\n",
    "// Output the imported service functions for interpretObject and intend() so that only this file has to be imported and reduce the chance of reocurrance.\n",
    "module.exports = {\n",
    "    fuseSearch,\n",
    "    interpretMarkdown,\n",
    "    interpretObject,\n",
    "    cacheAll,\n",
    "    cacheCells\n",
    "};\n",
    "\n"
   ]
  },
  {
   "cell_type": "markdown",
   "metadata": {},
   "source": [
    "test notebook search?\n",
    "\n"
   ]
  },
  {
   "cell_type": "code",
   "execution_count": null,
   "metadata": {},
   "outputs": [],
   "source": []
  }
 ],
 "metadata": {
  "kernel_info": {
   "name": "node_nteract"
  },
  "kernelspec": {
   "display_name": "Javascript (Node.js)",
   "language": "javascript",
   "name": "javascript"
  },
  "language_info": {
   "file_extension": ".js",
   "mimetype": "application/javascript",
   "name": "javascript",
   "version": "8.8.1"
  }
 },
 "nbformat": 4,
 "nbformat_minor": 4
}
