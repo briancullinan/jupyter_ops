{
 "cells": [
  {
   "cell_type": "markdown",
   "metadata": {},
   "source": [
    "How to search all directories?"
   ]
  },
  {
   "cell_type": "code",
   "execution_count": null,
   "metadata": {
    "collapsed": false,
    "inputHidden": false,
    "outputHidden": false
   },
   "outputs": [],
   "source": [
    "// How to flatten and array in javascript?\r",
    "var flatten = arr => arr.reduce((acc, val) =>\r",
    "    acc.concat(Array.isArray(val) ? flatten(val) : val), []);\r",
    "\r",
    "Array.prototype.flatten = function () {\r",
    "    return flatten(this)\r",
    "};\r",
    "\r",
    "// How to escape a string for regex?\r",
    "function escapeRegExp(str) {\r",
    "    return str.replace(/[\\-\\[\\]\\/\\{\\}\\(\\)\\*\\+\\?\\.\\\\\\^\\$\\|]/g, '\\\\$&');\r",
    "}\r",
    "\r",
    "\r"
   ]
  },
  {
   "cell_type": "markdown",
   "metadata": {},
   "source": [
    "How to find all the notebooks and files?\n",
    "\n",
    "How to get markdown from all notebooks in {directory}?\n",
    "\n"
   ]
  },
  {
   "cell_type": "code",
   "execution_count": null,
   "metadata": {
    "collapsed": false,
    "inputHidden": false,
    "outputHidden": false
   },
   "outputs": [],
   "source": [
    "var path = require('path');\n",
    "var importer = require('../Core');\n",
    "var importedFuseSearch, importedInterpretMarkdown,\n",
    "    importedInterpretObject, cacheNotebook;\n",
    "\n",
    "// How to walk directories and files recursively and synchronously\n",
    "var glob = require('glob');\n",
    "var cacheAll = (dirname) => {\n",
    "    const r = importer.import('interpret questions.ipynb')\n",
    "    cacheNotebook = r['cacheNotebook'];\n",
    "    importedInterpretMarkdown = r['interpretMarkdown'];\n",
    "    importedInterpretObject = r['interpretObject'];\n",
    "    importedFuseSearch = r['fuseSearch'];\n",
    "    return glob.sync('**/*.ipynb', {\n",
    "        ignore: ['**/node_modules/**',\n",
    "            '**/\\\\.*',\n",
    "            '**/.*'],\n",
    "        cwd: dirname\n",
    "    })\n",
    "        .map(n => cacheNotebook(path.resolve(path.join(dirname, n))))\n",
    "};\n",
    "module.exports = cacheAll;\n",
    "\n"
   ]
  },
  {
   "cell_type": "code",
   "execution_count": null,
   "metadata": {},
   "outputs": [],
   "source": [
    "var path = require('path');\n",
    "cacheAll(path.resolve(path.join(__dirname, '..')))\n",
    "module.exports = importedFuseSearch;\n",
    "\r"
   ]
  },
  {
   "cell_type": "code",
   "execution_count": null,
   "metadata": {},
   "outputs": [],
   "source": [
    "// Output the imported service functions for interpretObject and intend() so that only this file has to be imported and reduce the chance of reocurrance.\r",
    "var interpretObject = (result) => importedInterpretObject(result);\r",
    "module.exports = interpretObject;\r"
   ]
  },
  {
   "cell_type": "code",
   "execution_count": null,
   "metadata": {
    "collapsed": false,
    "inputHidden": false,
    "outputHidden": false
   },
   "outputs": [],
   "source": [
    "var interpretMarkdown = (result) => importedInterpretMarkdown(result);\r",
    "module.exports = interpretMarkdown;\r"
   ]
  },
  {
   "cell_type": "code",
   "execution_count": null,
   "metadata": {
    "collapsed": false,
    "inputHidden": false,
    "outputHidden": false
   },
   "outputs": [],
   "source": []
  }
 ],
 "metadata": {
  "kernel_info": {
   "name": "node_nteract"
  },
  "kernelspec": {
   "display_name": "Javascript (Node.js)",
   "language": "javascript",
   "name": "javascript"
  },
  "language_info": {
   "file_extension": ".js",
   "mimetype": "application/javascript",
   "name": "javascript",
   "version": "8.8.1"
  }
 },
 "nbformat": 4,
 "nbformat_minor": 4
}
