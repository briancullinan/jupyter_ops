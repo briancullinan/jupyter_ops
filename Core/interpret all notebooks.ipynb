{
  "cells": [
    {
      "cell_type": "markdown",
      "source": [
        "How to search all directories?"
      ],
      "metadata": {}
    },
    {
      "cell_type": "code",
      "source": [
        "// How to flatten and array in javascript?\n",
        "var flatten = arr => arr.reduce((acc, val) => \n",
        "      acc.concat(Array.isArray(val) ? flatten(val) : val), []);\n",
        "\n",
        "Array.prototype.flatten = function() {return flatten(this)};\n",
        "\n",
        "// How to escape a string for regex?\n",
        "function escapeRegExp(str) {\n",
        "  return str.replace(/[\\-\\[\\]\\/\\{\\}\\(\\)\\*\\+\\?\\.\\\\\\^\\$\\|]/g, \"\\\\$&\");\n",
        "}\n",
        "\n",
        "// How to walk directories and files recursively and synchronously\n",
        "(walkSync = (d, depth, reg) => {\n",
        "    if(typeof reg === 'undefined' || reg == null) {\n",
        "        reg = new RegExp(path.basename(d).split('*')\n",
        "            .map(f => escapeRegExp(f)).join('[^/]*'), 'ig');\n",
        "    }\n",
        "    var pathSplit = path.resolve(d.split('*')[0]);\n",
        "    var dir = !fs.existsSync(pathSplit) \n",
        "        ? path.dirname(pathSplit) \n",
        "        : pathSplit;\n",
        "    return flatten(fs.readdirSync(dir)\n",
        "    .map(file => fs.statSync(path.join(dir, file)).isDirectory()\n",
        "        ? depth > 0 && walkSync(path.join(dir, file), depth - 1, reg) || []\n",
        "        : path.join(dir, file).match(reg) !== null\n",
        "        && path.join(dir, file).replace(/\\\\/g, '/') || []));\n",
        "});\n",
        "(walkSync);\n"
      ],
      "outputs": [
        {
          "output_type": "execute_result",
          "execution_count": 3,
          "data": {
            "text/plain": [
              "[Function: walkSync]"
            ]
          },
          "metadata": {}
        }
      ],
      "execution_count": 3,
      "metadata": {
        "collapsed": false,
        "inputHidden": false,
        "outputHidden": false
      }
    },
    {
      "cell_type": "markdown",
      "source": [
        "How to find all the notebooks and files?\n",
        "\n",
        "How to get markdown from all notebooks in {directory}?\n",
        "\n"
      ],
      "metadata": {}
    },
    {
      "cell_type": "code",
      "source": [
        "var importNotebook = require(__dirname).importNotebook;\n",
        "var interpretPath = path.join(__dirname, 'interpret questions.ipynb');\n",
        "var importedInterpret = (message) => {};\n",
        "var importedIntend = (message) => {};\n",
        "var importedInterpretMarkdown = (result) => {};\n",
        "var importedInterpretObject = (result) => {};\n",
        "var interpretNotebook;\n",
        "var interpretAll = (dirname) => importNotebook(interpretPath)\n",
        "    .then(r => {\n",
        "        interpretNotebook = r['interpretNotebook'];\n",
        "        importedIntend = r['intend'];\n",
        "        importedInterpretMarkdown = r['interpretMarkdown'];\n",
        "        importedInterpretObject = r['interpretObject'];\n",
        "        importedInterpret = r['interpret'];\n",
        "    })\n",
        "    .then(() => walkSync(path.join(dirname, '**', '*.ipynb'), 2))\n",
        "    .then(ns => Promise.all(ns.map(n => interpretNotebook(n))));\n",
        "(interpretAll);\n",
        "\n"
      ],
      "outputs": [
        {
          "output_type": "execute_result",
          "execution_count": 4,
          "data": {
            "text/plain": [
              "[Function: interpretAll]"
            ]
          },
          "metadata": {}
        }
      ],
      "execution_count": 4,
      "metadata": {
        "collapsed": false,
        "inputHidden": false,
        "outputHidden": false
      }
    },
    {
      "cell_type": "code",
      "source": [
        "\n",
        "$$.async();\n",
        "var interpret;\n",
        "interpretAll(path.resolve('..'))\n",
        "    .then(() => (interpret = (message) => importedInterpret(message)))\n",
        "    .then(() => $$.sendResult(interpret))\n",
        "    .catch(e => $$.sendError(e));\n"
      ],
      "outputs": [
        {
          "output_type": "stream",
          "name": "stdout",
          "text": [
            "{ 'How to interpret questions.ipynb[0]': [Function],\n",
            "  interpret: [Function],\n",
            "  'How to interpret questions.ipynb[1]': [Function],\n",
            "  interpretNotebook: [Function],\n",
            "  'How to interpret questions.ipynb[2]': [Function],\n",
            "  regexToArray: [Function],\n",
            "  'How to interpret questions.ipynb[3]': [Function],\n",
            "  cacheCells: [Function],\n",
            "  'How to interpret questions.ipynb[4]': [Function],\n",
            "  'How to interpret questions.ipynb[5]': [Function],\n",
            "  interpretMarkdown: [Function],\n",
            "  'How to interpret questions.ipynb[6]': [Function],\n",
            "  interpretObject: [Function],\n",
            "  'How to interpret questions.ipynb[8]': [Function],\n",
            "  intend: [Function] }\n"
          ]
        },
        {
          "output_type": "execute_result",
          "execution_count": 5,
          "data": {
            "text/plain": [
              "[Function: interpret]"
            ]
          },
          "metadata": {}
        }
      ],
      "execution_count": 5,
      "metadata": {}
    },
    {
      "cell_type": "code",
      "source": [
        "// Output the imported service functions for interpretObject and intend() so that only this file has to be imported and reduce the change of reocurrance.\n",
        "var interpretObject = (result) => importedInterpretObject(result);\n",
        "//interpretObject(['How to test import.ipynb[1]']).then(r => console.log(r))\n",
        "(interpretObject);\n"
      ],
      "outputs": [
        {
          "output_type": "execute_result",
          "execution_count": 11,
          "data": {
            "text/plain": [
              "[Function: interpretObject]"
            ]
          },
          "metadata": {}
        }
      ],
      "execution_count": 11,
      "metadata": {}
    },
    {
      "cell_type": "code",
      "source": [
        "var intend = (result) => importedIntend(result);\n",
        "(intend);\n"
      ],
      "outputs": [
        {
          "output_type": "execute_result",
          "execution_count": 7,
          "data": {
            "text/plain": [
              "[Function: intend]"
            ]
          },
          "metadata": {}
        }
      ],
      "execution_count": 7,
      "metadata": {
        "collapsed": false,
        "outputHidden": false,
        "inputHidden": false
      }
    },
    {
      "cell_type": "code",
      "source": [
        "var interpretMarkdown = (result) => importedInterpretMarkdown(result);\n",
        "(interpretMarkdown);\n"
      ],
      "outputs": [
        {
          "output_type": "execute_result",
          "execution_count": 8,
          "data": {
            "text/plain": [
              "[Function: interpretMarkdown]"
            ]
          },
          "metadata": {}
        }
      ],
      "execution_count": 8,
      "metadata": {
        "collapsed": false,
        "outputHidden": false,
        "inputHidden": false
      }
    },
    {
      "cell_type": "code",
      "source": [],
      "outputs": [],
      "execution_count": 9,
      "metadata": {
        "collapsed": false,
        "outputHidden": false,
        "inputHidden": false
      }
    }
  ],
  "metadata": {
    "kernel_info": {
      "name": "node_nteract"
    },
    "kernelspec": {
      "name": "node_nteract",
      "language": "javascript",
      "display_name": "Node.js (nteract)"
    },
    "language_info": {
      "name": "javascript",
      "version": "6.5.0",
      "mimetype": "application/javascript",
      "file_extension": ".js"
    }
  },
  "nbformat": 4,
  "nbformat_minor": 4
}