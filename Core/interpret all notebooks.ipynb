{
 "cells": [
  {
   "cell_type": "markdown",
   "metadata": {},
   "source": [
    "How to search all directories?"
   ]
  },
  {
   "cell_type": "code",
   "execution_count": null,
   "metadata": {
    "collapsed": false,
    "inputHidden": false,
    "outputHidden": false
   },
   "outputs": [],
   "source": [
    "// How to flatten and array in javascript?\n",
    "var flatten = arr => arr.reduce((acc, val) =>\n",
    "    acc.concat(Array.isArray(val) ? flatten(val) : val), []);\n",
    "\n",
    "Array.prototype.flatten = function () {\n",
    "    return flatten(this)\n",
    "};\n",
    "\n",
    "// How to escape a string for regex?\n",
    "function escapeRegExp(str) {\n",
    "    return str.replace(/[\\-\\[\\]\\/\\{\\}\\(\\)\\*\\+\\?\\.\\\\\\^\\$\\|]/g, '\\\\$&');\n",
    "}\n",
    "\n",
    "\n"
   ]
  },
  {
   "cell_type": "markdown",
   "metadata": {},
   "source": [
    "find all notebooks?\n",
    "\n",
    "How to get markdown from all notebooks in {directory}?\n",
    "\n"
   ]
  },
  {
   "cell_type": "code",
   "execution_count": 2,
   "metadata": {
    "collapsed": false,
    "inputHidden": false,
    "outputHidden": false
   },
   "outputs": [
    {
     "data": {
      "text/plain": [
       "{ fuseSearch: [Function: fuseSearch],\n",
       "  interpretMarkdown: [Function: interpretMarkdown],\n",
       "  interpretObject: [Function: interpretObject],\n",
       "  cacheNotebook: [Function: cacheNotebook],\n",
       "  cacheAll: [Function: cacheAll] }"
      ]
     },
     "execution_count": 2,
     "metadata": {},
     "output_type": "execute_result"
    }
   ],
   "source": [
    "var path = require('path');\n",
    "var glob = require('glob');\n",
    "var fs = require('fs');\n",
    "var assert = require('assert');\n",
    "var importer = require('../Core');\n",
    "var {\n",
    "    fuseSearch,\n",
    "    interpretMarkdown,\n",
    "    interpretObject,\n",
    "    cacheNotebook\n",
    "} = importer.import('interpret questions.ipynb');\n",
    "\n",
    "assert(fs.existsSync('../Utilities/file system.ipynb'), 'missing ' + path.resolve('../Utilities/file system.ipynb'));\n",
    "cacheNotebook('../Utilities/file system.ipynb');\n",
    "\n",
    "// How to walk directories and files recursively and synchronously\n",
    "var listInProject;\n",
    "function cacheAll(dirname) {\n",
    "    if(typeof listInProject === 'undefined') {\n",
    "        const r = fuseSearch('list project files');\n",
    "        assert(r.length > 0)\n",
    "        const search1 = interpretObject([r[0]])[0];\n",
    "        listInProject = importer.runInNewContext(search1.code, {\n",
    "            __filename: search1.filename\n",
    "        }, {}, false);\n",
    "    }\n",
    "    return listInProject(dirname, '**/*.ipynb').map(n => cacheNotebook(n))\n",
    "};\n",
    "\n",
    "// Output the imported service functions for interpretObject and intend() so that only this file has to be imported and reduce the chance of reocurrance.\n",
    "module.exports = {\n",
    "    fuseSearch,\n",
    "    interpretMarkdown,\n",
    "    interpretObject,\n",
    "    cacheNotebook,\n",
    "    cacheAll\n",
    "};\n",
    "\n"
   ]
  },
  {
   "cell_type": "markdown",
   "metadata": {},
   "source": [
    "test notebook search?\n"
   ]
  },
  {
   "cell_type": "code",
   "execution_count": 1,
   "metadata": {
    "collapsed": false,
    "inputHidden": false,
    "outputHidden": false
   },
   "outputs": [
    {
     "name": "stdout",
     "output_type": "stream",
     "text": [
      "interpret questions.ipynb\n",
      "interpret questions.ipynb\n"
     ]
    }
   ],
   "source": [
    "var importer = require('../Core');\n",
    "var path = require('path');\n",
    "var assert = require('assert');\n",
    "var fs = require('fs');\n",
    "\n",
    "var {\n",
    "    fuseSearch,\n",
    "    interpretObject,\n",
    "    cacheNotebook\n",
    "} = importer.import('interpret questions.ipynb');\n",
    "\n",
    "assert(fs.existsSync('../Core/interpret all notebooks.ipynb'), 'missing ' + path.resolve('../Core/interpret all notebooks'));\n",
    "cacheNotebook('../Core/interpret all notebooks.ipynb')\n",
    "\n",
    "// just do it in load mode\n",
    "if(typeof describe === 'undefined') {\n",
    "    var it = ((l, func) => func());\n",
    "    var beforeEach = ((func) => func());\n",
    "    var describe = ((l, func) => func());\n",
    "//    var describe = (() => {});\n",
    "}\n",
    "\n",
    "var cacheAll;\n",
    "describe('notebook search service', () => {\n",
    "    beforeEach(() => {\n",
    "        if(typeof cacheAll === 'undefined') {\n",
    "            const r = fuseSearch('find all notebooks');\n",
    "            assert(r.length > 0);\n",
    "            const search2 = interpretObject([r[0]])[0];\n",
    "            cacheAll = importer.runInNewContext(search2.code, {\n",
    "                __filename: search2.filename,\n",
    "            }, {}, false).cacheAll\n",
    "        }\n",
    "    })\n",
    "    \n",
    "    it('should refresh cache when file changes', () => {\n",
    "        assert(path.resolve('.').indexOf('Core') > -1);\n",
    "        cacheAll(path.resolve('../'));\n",
    "        assert(true);\n",
    "    })\n",
    "})\n"
   ]
  },
  {
   "cell_type": "code",
   "execution_count": null,
   "metadata": {},
   "outputs": [],
   "source": []
  }
 ],
 "metadata": {
  "kernel_info": {
   "name": "node_nteract"
  },
  "kernelspec": {
   "display_name": "Javascript (Node.js)",
   "language": "javascript",
   "name": "javascript"
  },
  "language_info": {
   "file_extension": ".js",
   "mimetype": "application/javascript",
   "name": "javascript",
   "version": "8.6.0"
  }
 },
 "nbformat": 4,
 "nbformat_minor": 4
}
