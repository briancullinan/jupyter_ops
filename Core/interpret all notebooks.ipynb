{
 "cells": [
  {
   "cell_type": "markdown",
   "metadata": {},
   "source": [
    "find all notebooks?\n",
    "\n",
    "How to get markdown from all notebooks in {directory}?\n",
    "\n",
    "How to interpret a jupyter {directory}?\n",
    "\n"
   ]
  },
  {
   "cell_type": "code",
   "execution_count": 1,
   "metadata": {
    "collapsed": false,
    "inputHidden": false,
    "outputHidden": false
   },
   "outputs": [
    {
     "data": {
      "text/plain": [
       "{ fuseSearch: [Function: fuseSearch],\n",
       "  interpretMarkdown: [Function: interpretMarkdown],\n",
       "  interpretObject: [Function: interpretObject],\n",
       "  cacheAll: [Function: cacheAll],\n",
       "  cacheCells: [Function: cacheCells] }"
      ]
     },
     "execution_count": 1,
     "metadata": {},
     "output_type": "execute_result"
    }
   ],
   "source": [
    "var path = require('path');\n",
    "var glob = require('glob');\n",
    "var fs = require('fs');\n",
    "var assert = require('assert');\n",
    "var importer = require('../Core');\n",
    "var {\n",
    "    fuseSearch,\n",
    "    interpretMarkdown,\n",
    "    cacheCells\n",
    "} = importer.import('interpret questions.ipynb');\n",
    "\n",
    "// How to walk directories and files recursively and synchronously\n",
    "var listInProject;\n",
    "function cacheAll(dirname) {\n",
    "    if(typeof listInProject === 'undefined') {\n",
    "        const cell = fuseSearch('list project files');\n",
    "        assert(!!cell)\n",
    "        listInProject = importer.runInNewContext(cell.code, {\n",
    "            __filename: cell.filename\n",
    "        }, {}, false);\n",
    "    }\n",
    "    return listInProject(dirname, '**/*.ipynb')\n",
    "        .map(n => cacheCells(importer.getCells(n, ['*', 'markdown', 'code']), n))\n",
    "};\n",
    "\n",
    "// TODO: move this below\n",
    "// just do it in load mode\n",
    "if(typeof describe === 'undefined') {\n",
    "    var it = ((l, func) => func());\n",
    "    var beforeEach = ((func) => func());\n",
    "    var describe = ((l, func) => func());\n",
    "}\n",
    "\n",
    "describe('notebook search loader', () => {\n",
    "    it('should load file-system', () => {\n",
    "        const filesystemPath = path.join(__dirname, '../Utilities/file system.ipynb');\n",
    "        console.log(path.resolve(filesystemPath));\n",
    "        assert(fs.existsSync(filesystemPath), 'missing ' + path.resolve(filesystemPath));\n",
    "        cacheCells(importer.getCells(filesystemPath, ['*', 'markdown', 'code']), filesystemPath);\n",
    "    })\n",
    "    \n",
    "    it('should load interpreter', () => {\n",
    "        const interpreterPath = path.join(__dirname, '../Core/interpret all notebooks.ipynb');\n",
    "        assert(fs.existsSync(interpreterPath), 'missing ' + path.resolve(interpreterPath));\n",
    "        cacheCells(importer.getCells(interpreterPath, ['*', 'markdown', 'code']), interpreterPath);\n",
    "    })\n",
    "});\n",
    "\n",
    "var cacheAll;\n",
    "describe('notebook search service', () => {\n",
    "    beforeEach(() => {\n",
    "        if(typeof cacheAll === 'undefined') {\n",
    "            const cell = fuseSearch('find all notebooks');\n",
    "            assert(!!cell);\n",
    "            cacheAll = importer.runInNewContext(cell.code, {\n",
    "                __filename: cell.filename,\n",
    "            }, {}, false).cacheAll\n",
    "        }\n",
    "    })\n",
    "    \n",
    "    it('should refresh cache when file changes', () => {\n",
    "        assert(fs.existsSync(path.join(__dirname, '../Core/import notebook.ipynb')),\n",
    "               'Can\\'t find Core notebooks ' + path.resolve(path.join(__dirname, '../Core')));\n",
    "        cacheAll(path.join(__dirname, '../'));\n",
    "        assert(true);\n",
    "    })\n",
    "});\n",
    "\n",
    "module.exports = {\n",
    "    fuseSearch,\n",
    "    interpretMarkdown,\n",
    "    cacheAll,\n",
    "    cacheCells\n",
    "};\n",
    "\n"
   ]
  },
  {
   "cell_type": "markdown",
   "metadata": {},
   "source": [
    "test notebook search?\n",
    "\n"
   ]
  },
  {
   "cell_type": "code",
   "execution_count": null,
   "metadata": {},
   "outputs": [],
   "source": []
  }
 ],
 "metadata": {
  "kernel_info": {
   "name": "node_nteract"
  },
  "kernelspec": {
   "display_name": "Javascript (Node.js)",
   "language": "javascript",
   "name": "javascript"
  },
  "language_info": {
   "file_extension": ".js",
   "mimetype": "application/javascript",
   "name": "javascript",
   "version": "8.6.0"
  }
 },
 "nbformat": 4,
 "nbformat_minor": 4
}
