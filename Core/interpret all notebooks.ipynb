{
 "cells": [
  {
   "cell_type": "markdown",
   "metadata": {},
   "source": [
    "find all notebooks?\n",
    "\n",
    "How to get markdown from all notebooks in {directory}?\n",
    "\n",
    "How to interpret a jupyter {directory}?\n",
    "\n"
   ]
  },
  {
   "cell_type": "code",
   "execution_count": null,
   "metadata": {
    "inputHidden": false,
    "outputHidden": false
   },
   "outputs": [],
   "source": [
    "var path = require('path');\n",
    "var glob = require('glob');\n",
    "var fs = require('fs');\n",
    "var assert = require('assert');\n",
    "var importer = require('../Core');\n",
    "var {\n",
    "    fuseSearch,\n",
    "    interpretMarkdown,\n",
    "    cacheCells\n",
    "} = importer.import('interpret questions.ipynb');\n",
    "\n",
    "// How to walk directories and files recursively and synchronously\n",
    "var listInProject;\n",
    "function cacheAll(dirname) {\n",
    "    if(typeof getAllCached !== 'undefined') {\n",
    "        const cachedCells = getAllCached();\n",
    "        return Object.keys(cachedCells).map(n => cacheCells(cachedCells[n], n));\n",
    "    } else {\n",
    "        // cache the filesystem notebook so we can use it in loading\n",
    "        const filesystemPath = path.join(__dirname, '../Utilities/file system.ipynb');\n",
    "        assert(fs.existsSync(filesystemPath), 'missing ' + path.resolve(filesystemPath));\n",
    "        cacheCells(importer.getCells(filesystemPath, ['*', 'markdown', 'code']), filesystemPath);\n",
    "    }\n",
    "    if(typeof listInProject === 'undefined') {\n",
    "        listInProject = importer.import('list project files');\n",
    "        assert(!!listInProject, 'something is seriously wrong with indexing notebooks')\n",
    "    }\n",
    "    return listInProject(dirname, '{,*,*/,*/*/*,*/*/*/*}*.ipynb')\n",
    "        .map(n => cacheCells(importer.getCells(n, ['*', 'markdown', 'code']), n))\n",
    "};\n",
    " \n",
    "module.exports = {\n",
    "    fuseSearch,\n",
    "    interpretMarkdown,\n",
    "    cacheAll,\n",
    "    cacheCells\n",
    "};\n",
    "\n"
   ]
  }
 ],
 "metadata": {
  "kernel_info": {
   "name": "node_nteract"
  },
  "kernelspec": {
   "display_name": "Javascript (Node.js)",
   "language": "javascript",
   "name": "javascript"
  },
  "language_info": {
   "file_extension": ".js",
   "mimetype": "application/javascript",
   "name": "javascript",
   "version": "10.16.0"
  }
 },
 "nbformat": 4,
 "nbformat_minor": 4
}
