{
 "cells": [
  {
   "cell_type": "markdown",
   "metadata": {},
   "source": [
    "How to search all directories?"
   ]
  },
  {
   "cell_type": "code",
   "execution_count": null,
   "metadata": {
    "collapsed": false,
    "inputHidden": false,
    "outputHidden": false
   },
   "outputs": [],
   "source": [
    "// How to flatten and array in javascript?\r",
    "var flatten = arr => arr.reduce((acc, val) =>\r",
    "    acc.concat(Array.isArray(val) ? flatten(val) : val), []);\r",
    "\r",
    "Array.prototype.flatten = function () {\r",
    "    return flatten(this)\r",
    "};\r",
    "\r",
    "// How to escape a string for regex?\r",
    "function escapeRegExp(str) {\r",
    "    return str.replace(/[\\-\\[\\]\\/\\{\\}\\(\\)\\*\\+\\?\\.\\\\\\^\\$\\|]/g, '\\\\$&');\r",
    "}\r",
    "\r",
    "\r"
   ]
  },
  {
   "cell_type": "markdown",
   "metadata": {},
   "source": [
    "How to find all the notebooks and files?\n",
    "\n",
    "How to get markdown from all notebooks in {directory}?\n",
    "\n"
   ]
  },
  {
   "cell_type": "code",
   "execution_count": null,
   "metadata": {
    "collapsed": false,
    "inputHidden": false,
    "outputHidden": false
   },
   "outputs": [],
   "source": [
    "var path = require('path');\r",
    "var importer = require('../Core');\r",
    "var importedFuseSearch, importedInterpretMarkdown,\r",
    "    importedInterpretObject, cacheNotebook;\r",
    "\r",
    "// How to walk directories and files recursively and synchronously\r",
    "var glob = require('glob');\r",
    "var cacheAll = (dirname) => {\n",
    "    return importer.import('interpret questions.ipynb')\r",
    "        .then(r => {\n",
    "            cacheNotebook = r['cacheNotebook'];\r",
    "            importedInterpretMarkdown = r['interpretMarkdown'];\r",
    "            importedInterpretObject = r['interpretObject'];\r",
    "            importedFuseSearch = r['fuseSearch'];\r",
    "        })\r",
    "        .then(() => glob.sync('**/*.ipynb', {\r",
    "            ignore: ['**/node_modules/**',\r",
    "                '**/\\\\.*',\r",
    "                '**/.*'],\r",
    "            cwd: dirname\r",
    "        }))\r",
    "        .then(ns => ns.map(n =>\r",
    "            cacheNotebook(path.resolve(path.join(dirname, n)))))\r",
    "        .catch(e => console.log(e));\n",
    "};\r",
    "module.exports = cacheAll;\r",
    "\r"
   ]
  },
  {
   "cell_type": "code",
   "execution_count": null,
   "metadata": {},
   "outputs": [],
   "source": [
    "var path = require('path');\r\n",
    "$$.async();\r",
    "cacheAll(path.resolve(path.join(__dirname, '..')))\r",
    "    .then(() => $$.sendResult(importedFuseSearch))\r",
    "    .catch(e => $$.sendError(e));\r",
    "module.exports = importedFuseSearch;\r"
   ]
  },
  {
   "cell_type": "code",
   "execution_count": null,
   "metadata": {},
   "outputs": [],
   "source": [
    "// Output the imported service functions for interpretObject and intend() so that only this file has to be imported and reduce the chance of reocurrance.\r",
    "var interpretObject = (result) => importedInterpretObject(result);\r",
    "module.exports = interpretObject;\r"
   ]
  },
  {
   "cell_type": "code",
   "execution_count": null,
   "metadata": {
    "collapsed": false,
    "inputHidden": false,
    "outputHidden": false
   },
   "outputs": [],
   "source": [
    "var interpretMarkdown = (result) => importedInterpretMarkdown(result);\r",
    "module.exports = interpretMarkdown;\r"
   ]
  },
  {
   "cell_type": "code",
   "execution_count": null,
   "metadata": {
    "collapsed": false,
    "inputHidden": false,
    "outputHidden": false
   },
   "outputs": [],
   "source": []
  }
 ],
 "metadata": {
  "kernel_info": {
   "name": "node_nteract"
  },
  "kernelspec": {
   "display_name": "Javascript (Node.js)",
   "language": "javascript",
   "name": "javascript"
  },
  "language_info": {
   "file_extension": ".js",
   "mimetype": "application/javascript",
   "name": "javascript",
   "version": "8.6.0"
  }
 },
 "nbformat": 4,
 "nbformat_minor": 4
}
