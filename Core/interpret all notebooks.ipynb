{
 "cells": [
  {
   "cell_type": "markdown",
   "metadata": {},
   "source": [
    "How to search all directories?"
   ]
  },
  {
   "cell_type": "code",
   "execution_count": 3,
   "metadata": {
    "collapsed": false,
    "inputHidden": false,
    "outputHidden": false
   },
   "outputs": [
    {
     "data": {
      "text/plain": [
       "[Function: walkSync]"
      ]
     },
     "execution_count": 3,
     "metadata": {},
     "output_type": "execute_result"
    }
   ],
   "source": [
    "// How to flatten and array in javascript?\n",
    "var flatten = arr => arr.reduce((acc, val) => \n",
    "      acc.concat(Array.isArray(val) ? flatten(val) : val), []);\n",
    "\n",
    "Array.prototype.flatten = function() {return flatten(this)};\n",
    "\n",
    "// How to escape a string for regex?\n",
    "function escapeRegExp(str) {\n",
    "  return str.replace(/[\\-\\[\\]\\/\\{\\}\\(\\)\\*\\+\\?\\.\\\\\\^\\$\\|]/g, \"\\\\$&\");\n",
    "}\n",
    "\n",
    "\n"
   ]
  },
  {
   "cell_type": "markdown",
   "metadata": {},
   "source": [
    "How to find all the notebooks and files?\n",
    "\n",
    "How to get markdown from all notebooks in {directory}?\n",
    "\n"
   ]
  },
  {
   "cell_type": "code",
   "execution_count": 1,
   "metadata": {
    "collapsed": false,
    "inputHidden": false,
    "outputHidden": false
   },
   "outputs": [
    {
     "data": {
      "text/plain": [
       "[Function: interpretAll]"
      ]
     },
     "execution_count": 1,
     "metadata": {},
     "output_type": "execute_result"
    }
   ],
   "source": [
    "var importNotebook = require(__dirname).importNotebook;\n",
    "var interpretPath = path.join(__dirname, 'interpret questions.ipynb');\n",
    "var importedInterpret = (message) => {};\n",
    "var importedIntend = (message) => {};\n",
    "var importedInterpretMarkdown = (result) => {};\n",
    "var importedInterpretObject = (result) => {};\n",
    "var interpretNotebook;\n",
    "\n",
    "// How to walk directories and files recursively and synchronously\n",
    "var glob = require('glob');\n",
    "\n",
    "var interpretAll = (dirname) => importNotebook(interpretPath)\n",
    "    .then(r => {\n",
    "        interpretNotebook = r['interpretNotebook'];\n",
    "        importedIntend = r['intend'];\n",
    "        importedInterpretMarkdown = r['interpretMarkdown'];\n",
    "        importedInterpretObject = r['interpretObject'];\n",
    "        importedInterpret = r['interpret'];\n",
    "    })\n",
    "    .then(() => glob.sync('**/*.ipynb', {cwd: dirname}))\n",
    "    .then(ns => Promise.all(ns.map(n => interpretNotebook(path.resolve(path.join(dirname, n))))));\n",
    "interpretAll;\n",
    "\n"
   ]
  },
  {
   "cell_type": "code",
   "execution_count": 2,
   "metadata": {},
   "outputs": [
    {
     "data": {
      "text/plain": [
       "[Function: interpret]"
      ]
     },
     "execution_count": 2,
     "metadata": {},
     "output_type": "execute_result"
    }
   ],
   "source": [
    "\n",
    "$$.async();\n",
    "var interpret;\n",
    "interpretAll(path.resolve(path.join(__dirname, '..')))\n",
    "    .then(() => (interpret = (message) => importedInterpret(message)))\n",
    "    .then(() => $$.sendResult(interpret))\n",
    "    .catch(e => $$.sendError(e));\n"
   ]
  },
  {
   "cell_type": "code",
   "execution_count": 11,
   "metadata": {},
   "outputs": [
    {
     "data": {
      "text/plain": [
       "[Function: interpretObject]"
      ]
     },
     "execution_count": 11,
     "metadata": {},
     "output_type": "execute_result"
    }
   ],
   "source": [
    "// Output the imported service functions for interpretObject and intend() so that only this file has to be imported and reduce the change of reocurrance.\n",
    "var interpretObject = (result) => importedInterpretObject(result);\n",
    "//interpretObject(['How to test import.ipynb[1]']).then(r => console.log(r))\n",
    "interpretObject;\n"
   ]
  },
  {
   "cell_type": "code",
   "execution_count": 7,
   "metadata": {
    "collapsed": false,
    "inputHidden": false,
    "outputHidden": false
   },
   "outputs": [
    {
     "data": {
      "text/plain": [
       "[Function: intend]"
      ]
     },
     "execution_count": 7,
     "metadata": {},
     "output_type": "execute_result"
    }
   ],
   "source": [
    "var intend = (result) => importedIntend(result);\n",
    "intend;\n"
   ]
  },
  {
   "cell_type": "code",
   "execution_count": 8,
   "metadata": {
    "collapsed": false,
    "inputHidden": false,
    "outputHidden": false
   },
   "outputs": [
    {
     "data": {
      "text/plain": [
       "[Function: interpretMarkdown]"
      ]
     },
     "execution_count": 8,
     "metadata": {},
     "output_type": "execute_result"
    }
   ],
   "source": [
    "var interpretMarkdown = (result) => importedInterpretMarkdown(result);\n",
    "interpretMarkdown;\n"
   ]
  },
  {
   "cell_type": "code",
   "execution_count": 9,
   "metadata": {
    "collapsed": false,
    "inputHidden": false,
    "outputHidden": false
   },
   "outputs": [],
   "source": []
  }
 ],
 "metadata": {
  "kernel_info": {
   "name": "node_nteract"
  },
  "kernelspec": {
   "display_name": "Javascript (Node.js)",
   "language": "javascript",
   "name": "javascript"
  },
  "language_info": {
   "file_extension": ".js",
   "mimetype": "application/javascript",
   "name": "javascript",
   "version": "7.7.2"
  }
 },
 "nbformat": 4,
 "nbformat_minor": 4
}
