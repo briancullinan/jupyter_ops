{
 "cells": [
  {
   "cell_type": "markdown",
   "metadata": {},
   "source": [
    "How to search all directories?"
   ]
  },
  {
   "cell_type": "code",
   "execution_count": null,
   "metadata": {
    "collapsed": false,
    "inputHidden": false,
    "outputHidden": false
   },
   "outputs": [],
   "source": [
    "// How to flatten and array in javascript?\n",
    "var flatten = arr => arr.reduce((acc, val) => \n",
    "      acc.concat(Array.isArray(val) ? flatten(val) : val), []);\n",
    "\n",
    "Array.prototype.flatten = function() {return flatten(this)};\n",
    "\n",
    "// How to escape a string for regex?\n",
    "function escapeRegExp(str) {\n",
    "  return str.replace(/[\\-\\[\\]\\/\\{\\}\\(\\)\\*\\+\\?\\.\\\\\\^\\$\\|]/g, \"\\\\$&\");\n",
    "}\n",
    "\n",
    "\n"
   ]
  },
  {
   "cell_type": "markdown",
   "metadata": {},
   "source": [
    "How to find all the notebooks and files?\n",
    "\n",
    "How to get markdown from all notebooks in {directory}?\n",
    "\n"
   ]
  },
  {
   "cell_type": "code",
   "execution_count": null,
   "metadata": {
    "collapsed": false,
    "inputHidden": false,
    "outputHidden": false
   },
   "outputs": [],
   "source": [
    "var path = require('path');\n",
    "var importNotebook = require(__dirname).importNotebook;\n",
    "var interpretPath = path.join(__dirname, 'interpret questions.ipynb');\n",
    "var importedInterpret = (message) => {};\n",
    "var importedIntend = (message) => {};\n",
    "var importedInterpretMarkdown = (result) => {};\n",
    "var importedInterpretObject = (result) => {};\n",
    "var interpretNotebook;\n",
    "\n",
    "// How to walk directories and files recursively and synchronously\n",
    "var glob = require('glob');\n",
    "\n",
    "var interpretAll = (dirname) => importNotebook(interpretPath)\n",
    "    .then(r => {\n",
    "        interpretNotebook = r['interpretNotebook'];\n",
    "        importedIntend = r['intend'];\n",
    "        importedInterpretMarkdown = r['interpretMarkdown'];\n",
    "        importedInterpretObject = r['interpretObject'];\n",
    "        importedInterpret = r['interpret'];\n",
    "    })\n",
    "    .then(() => glob.sync('**/*.ipynb', {\n",
    "        ignore: ['**/node_modules/**',\n",
    "                 '**/\\\\.*',\n",
    "                 '**/.*'],\n",
    "        cwd: dirname\n",
    "    }))\n",
    "    .then(ns => Promise.all(ns.map(n =>\n",
    "        interpretNotebook(path.resolve(path.join(dirname, n))))))\n",
    "    .catch(e => console.log(e))\n",
    "module.exports = interpretAll;\n",
    "\n"
   ]
  },
  {
   "cell_type": "code",
   "execution_count": null,
   "metadata": {},
   "outputs": [],
   "source": [
    "var path = require('path');\n",
    "\n",
    "$$.async();\n",
    "var interpret = (message) => importedInterpret(message);\n",
    "interpretAll(path.resolve(path.join(__dirname, '..')))\n",
    ".then(() => $$.sendResult(interpret))\n",
    ".catch(e => $$.sendError(e));\n",
    "module.exports = interpret;\n"
   ]
  },
  {
   "cell_type": "code",
   "execution_count": null,
   "metadata": {},
   "outputs": [],
   "source": [
    "// Output the imported service functions for interpretObject and intend() so that only this file has to be imported and reduce the change of reocurrance.\n",
    "var interpretObject = (result) => importedInterpretObject(result);\n",
    "//interpretObject(['How to test import.ipynb[1]']).then(r => console.log(r))\n",
    "module.exports = interpretObject;\n"
   ]
  },
  {
   "cell_type": "code",
   "execution_count": null,
   "metadata": {
    "collapsed": false,
    "inputHidden": false,
    "outputHidden": false
   },
   "outputs": [],
   "source": [
    "var intend = (result) => importedIntend(result);\n",
    "intend;\n"
   ]
  },
  {
   "cell_type": "code",
   "execution_count": null,
   "metadata": {
    "collapsed": false,
    "inputHidden": false,
    "outputHidden": false
   },
   "outputs": [],
   "source": [
    "var interpretMarkdown = (result) => importedInterpretMarkdown(result);\n",
    "module.exports = interpretMarkdown;\n"
   ]
  },
  {
   "cell_type": "code",
   "execution_count": null,
   "metadata": {
    "collapsed": false,
    "inputHidden": false,
    "outputHidden": false
   },
   "outputs": [],
   "source": []
  }
 ],
 "metadata": {
  "kernel_info": {
   "name": "node_nteract"
  },
  "kernelspec": {
   "display_name": "Javascript (Node.js)",
   "language": "javascript",
   "name": "javascript"
  },
  "language_info": {
   "file_extension": ".js",
   "mimetype": "application/javascript",
   "name": "javascript",
   "version": "8.6.0"
  }
 },
 "nbformat": 4,
 "nbformat_minor": 4
}
