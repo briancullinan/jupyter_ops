{
 "cells": [
  {
   "cell_type": "markdown",
   "metadata": {},
   "source": [
    "Long term goal: use this notebook at training data to mangle/uglify/transpile any language\n",
    "\n",
    "\n",
    "demonstrate patterns between different languages, in C# interfaces are like:\n",
    "\n",
    "```\n",
    "interface MyInterface {\n",
    "    myProperty: string\n",
    "}\n",
    "\n",
    "class MyClass : MyInterface {\n",
    "}\n",
    "```\n",
    "\n",
    "\n"
   ]
  },
  {
   "cell_type": "code",
   "execution_count": null,
   "metadata": {},
   "outputs": [],
   "source": [
    "// in javascript the same effect can be accomplished with a polyfill\n",
    "\n",
    "function applyInterface(class) {\n",
    "    var properties = ['myProperty'];\n",
    "    var i, result = {};\n",
    "    for(i=0; i<properties.length; i++) {\n",
    "        if(typeof class[properties[i]] === 'undefined') {\n",
    "            throw new Error(`Missing interface property ${properties[i]}`);\n",
    "        }\n",
    "        result[properties[i]] = class[properties[i]];\n",
    "    }\n",
    "}\n",
    "\n",
    "// or in es6 using expanders\n",
    "\n",
    "function superInterface(interface) {\n",
    "}\n",
    "\n",
    "// inheriting interfaces\n",
    "function myInterface(interface) {\n",
    "    return Object.assign({\n",
    "        myProperty\n",
    "    } = interface, superInterface(interface));\n",
    "}\n",
    "\n",
    "// enforcing interface for use within the caller context\n",
    "function myInterface(interface) {\n",
    "    return superInterface(Object.assign({\n",
    "        myProperty\n",
    "    } = interface, interface));\n",
    "}\n",
    " \n",
    "\n",
    "```"
   ]
  },
  {
   "cell_type": "code",
   "execution_count": null,
   "metadata": {},
   "outputs": [],
   "source": []
  }
 ],
 "metadata": {
  "kernelspec": {
   "display_name": "Javascript (Node.js)",
   "language": "javascript",
   "name": "javascript"
  },
  "language_info": {
   "file_extension": ".js",
   "mimetype": "application/javascript",
   "name": "javascript",
   "version": "10.16.0"
  }
 },
 "nbformat": 4,
 "nbformat_minor": 2
}
