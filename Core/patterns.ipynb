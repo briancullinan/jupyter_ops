{
 "cells": [
  {
   "cell_type": "markdown",
   "metadata": {},
   "source": [
    "## creating classes and objects\n",
    "\n",
    "Long term goal: use this notebook at training data to mangle/uglify/transpile any language\n",
    "\n",
    "demonstrate patterns between different languages, in C# interfaces are like:\n",
    "\n",
    "```\n",
    "interface MyInterface {\n",
    "    myProperty: string\n",
    "}\n",
    "\n",
    "class MyClass : MyInterface {\n",
    "}\n",
    "```\n",
    "\n",
    "\n"
   ]
  },
  {
   "cell_type": "markdown",
   "metadata": {
    "heading_collapsed": true
   },
   "source": [
    "### applying an interface?\n"
   ]
  },
  {
   "cell_type": "code",
   "execution_count": null,
   "metadata": {
    "hidden": true
   },
   "outputs": [],
   "source": [
    "// in pre-prototype days objects were treated as classes\n",
    "\n",
    "function applyInterface(class) {\n",
    "    var properties = ['myProperty'];\n",
    "    var i, result = {};\n",
    "    for(i=0; i<properties.length; i++) {\n",
    "        if(typeof class[properties[i]] === 'undefined') {\n",
    "            throw new Error(`Missing interface property ${properties[i]}`);\n",
    "        }\n",
    "        result[properties[i]] = class[properties[i]];\n",
    "    }\n",
    "}\n",
    "\n"
   ]
  },
  {
   "cell_type": "markdown",
   "metadata": {
    "heading_collapsed": true
   },
   "source": [
    "### making a class the normal way?\n"
   ]
  },
  {
   "cell_type": "code",
   "execution_count": null,
   "metadata": {
    "hidden": true
   },
   "outputs": [],
   "source": [
    "class parentClass {\n",
    "    constructor() {\n",
    "        console.log('parent');\n",
    "    }\n",
    "    \n",
    "    do_message() {\n",
    "        console.log('original');\n",
    "    }\n",
    "}\n",
    "\n",
    "class childClass extends parentClass {\n",
    "    constructor() {\n",
    "        console.log('child');\n",
    "        super();\n",
    "    }\n",
    "    \n",
    "    do_message() {\n",
    "        super.do_message();\n",
    "        console.log('overridden');\n",
    "    }\n",
    "}\n",
    "\n",
    "module.exports = () => new childClass();\n",
    "\n",
    "if(typeof $$ !== 'undefined') {\n",
    "    var testClass = module.exports();\n",
    "    testClass.do_message();\n",
    "    \n",
    "    /* expected output\n",
    "    child\n",
    "    parent\n",
    "    original\n",
    "    overridden\n",
    "    */\n",
    "    \n",
    "    /*\n",
    "    this is extremely annoying, how to achieve the same effect with prototype?\n",
    "    the javascript language is apparently not indempotent\n",
    "    \n",
    "    evalmachine.<anonymous>:1\n",
    "    class parentClass {\n",
    "    ^\n",
    "\n",
    "    SyntaxError: Identifier 'parentClass' has already been declared\n",
    "        at evalmachine.<anonymous>:1:1\n",
    "    */\n",
    "}\n",
    "\n",
    "\n"
   ]
  },
  {
   "cell_type": "markdown",
   "metadata": {},
   "source": [
    "### making a class with prototype\n",
    "\n",
    "derived from to help avoid annoying notebook errors:\n",
    "\n",
    "https://stackoverflow.com/questions/10430279/extending-an-object-in-javascript\n"
   ]
  },
  {
   "cell_type": "code",
   "execution_count": null,
   "metadata": {},
   "outputs": [],
   "source": []
  },
  {
   "cell_type": "markdown",
   "metadata": {
    "heading_collapsed": true
   },
   "source": [
    "### enforcing an interface?\n",
    "\n",
    "test enforcing an interface with prototype?\n",
    "\n"
   ]
  },
  {
   "cell_type": "code",
   "execution_count": 1,
   "metadata": {
    "hidden": true
   },
   "outputs": [
    {
     "name": "stdout",
     "output_type": "stream",
     "text": [
      "child\n",
      "parent\n",
      "original\n",
      "overridden\n"
     ]
    }
   ],
   "source": [
    "\n",
    "// or in es6 using expanders\n",
    "\n",
    "function superInterface(interface) {\n",
    "}\n",
    "\n",
    "// inheriting interfaces\n",
    "function myInterface(interface) {\n",
    "    return Object.assign({\n",
    "        myProperty\n",
    "    } = interface, superInterface(interface));\n",
    "}\n",
    "\n",
    "// enforcing interface for use within the caller context\n",
    "function myInterface(interface) {\n",
    "    return superInterface(Object.assign({\n",
    "        myProperty\n",
    "    } = interface, interface));\n",
    "}\n",
    "\n",
    "// doesn't work\n"
   ]
  },
  {
   "cell_type": "markdown",
   "metadata": {
    "hidden": true
   },
   "source": [
    "#### test enforcing an interface?\n"
   ]
  },
  {
   "cell_type": "code",
   "execution_count": 3,
   "metadata": {
    "hidden": true
   },
   "outputs": [
    {
     "name": "stdout",
     "output_type": "stream",
     "text": [
      "reading notebook /Users/briancullinan/jupyter_ops/Core/patterns.ipynb\n",
      "{}\n",
      "true\n",
      "true\n",
      "false\n"
     ]
    }
   ],
   "source": [
    "var importer = require('../Core');\n",
    "var extend = importer.import('extend prototype')\n",
    "\n",
    "function expectedInterface(props) {\n",
    "    return {\n",
    "        someProperty\n",
    "    } = props\n",
    "}\n",
    "\n",
    "function childClass(props) {\n",
    "}\n",
    "\n",
    "childClass.prototype = Object.create({\n",
    "    someProperty: true,\n",
    "    extendedProperty: true,\n",
    "})\n",
    "\n",
    "var enforcedInterface = extend(childClass, expectedInterface);\n",
    "console.log(enforcedInterface);\n",
    "console.log(enforcedInterface.someProperty);\n",
    "console.log(enforcedInterface.extendedProperty);\n",
    "console.log(extend({extendedProperty: false}, expectedInterface).extendedProperty)\n",
    "\n",
    "/* expected output\n",
    "{}\n",
    "true\n",
    "undefined - got true, fix this\n",
    "false\n",
    "\n",
    "*/\n",
    "\n"
   ]
  },
  {
   "cell_type": "code",
   "execution_count": 7,
   "metadata": {
    "hidden": true
   },
   "outputs": [
    {
     "data": {
      "text/plain": [
       "{ something: true }"
      ]
     },
     "execution_count": 7,
     "metadata": {},
     "output_type": "execute_result"
    }
   ],
   "source": [
    "Object.assign({something: true}, void 0);\n"
   ]
  },
  {
   "cell_type": "code",
   "execution_count": null,
   "metadata": {
    "hidden": true
   },
   "outputs": [],
   "source": []
  }
 ],
 "metadata": {
  "kernelspec": {
   "display_name": "Javascript (Node.js)",
   "language": "javascript",
   "name": "javascript"
  },
  "language_info": {
   "file_extension": ".js",
   "mimetype": "application/javascript",
   "name": "javascript",
   "version": "10.16.0"
  }
 },
 "nbformat": 4,
 "nbformat_minor": 2
}
