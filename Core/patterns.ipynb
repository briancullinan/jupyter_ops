{
 "cells": [
  {
   "cell_type": "markdown",
   "metadata": {},
   "source": [
    "Long term goal: use this notebook at training data to mangle/uglify/transpile any language\n",
    "\n",
    "\n",
    "demonstrate patterns between different languages, in C# interfaces are like:\n",
    "\n",
    "```\n",
    "interface MyInterface {\n",
    "    myProperty: string\n",
    "}\n",
    "\n",
    "class MyClass : MyInterface {\n",
    "}\n",
    "```\n",
    "\n",
    "\n"
   ]
  },
  {
   "cell_type": "code",
   "execution_count": null,
   "metadata": {},
   "outputs": [],
   "source": [
    "// in javascript the same effect can be accomplished with a polyfill\n",
    "\n",
    "function applyInterface(class) {\n",
    "    var properties = ['myProperty'];\n",
    "    var i, result = {};\n",
    "    for(i=0; i<properties.length; i++) {\n",
    "        if(typeof class[properties[i]] === 'undefined') {\n",
    "            throw new Error(`Missing interface property ${properties[i]}`);\n",
    "        }\n",
    "        result[properties[i]] = class[properties[i]];\n",
    "    }\n",
    "}\n",
    "\n",
    "// or in es6 using expanders\n",
    "\n",
    "function superInterface(interface) {\n",
    "}\n",
    "\n",
    "// inheriting interfaces\n",
    "function myInterface(interface) {\n",
    "    return Object.assign({\n",
    "        myProperty\n",
    "    } = interface, superInterface(interface));\n",
    "}\n",
    "\n",
    "// enforcing interface for use within the caller context\n",
    "function myInterface(interface) {\n",
    "    return superInterface(Object.assign({\n",
    "        myProperty\n",
    "    } = interface, interface));\n",
    "}\n",
    " \n",
    "\n",
    "```"
   ]
  },
  {
   "cell_type": "markdown",
   "metadata": {},
   "source": [
    "extend prototype?\n"
   ]
  },
  {
   "cell_type": "code",
   "execution_count": null,
   "metadata": {},
   "outputs": [],
   "source": [
    "\n",
    "function extend(childMethods, parent) {\n",
    "    var child = function () {\n",
    "        if(typeof childMethods === 'function') {\n",
    "            console.log(childMethods)\n",
    "            return new childMethods(...Array.from(arguments));\n",
    "        }\n",
    "        return this;\n",
    "    };\n",
    "    child.prototype = Object.create(parent.prototype);\n",
    "    Object.assign(child.prototype, childMethods,\n",
    "                  Object.getPrototypeOf(childMethods || {}));\n",
    "    return new child(child.prototype);\n",
    "}\n",
    "\n",
    "module.exports = extend\n"
   ]
  },
  {
   "cell_type": "markdown",
   "metadata": {},
   "source": [
    "test extend prototype?"
   ]
  },
  {
   "cell_type": "code",
   "execution_count": 7,
   "metadata": {},
   "outputs": [
    {
     "name": "stdout",
     "output_type": "stream",
     "text": [
      "reading notebook /Users/briancullinan/jupyter_ops/Core/patterns.ipynb\n",
      "original\n",
      "overridden\n",
      "overridden\n",
      "doubly overriden\n",
      "triply overriden\n",
      "overridden\n"
     ]
    }
   ],
   "source": [
    "var importer = require('../Core');\n",
    "var extend = importer.import('extend prototype')\n",
    "\n",
    "function do_message() {\n",
    "    console.log('original');\n",
    "}\n",
    "\n",
    "function extended_do_message () {\n",
    "    console.log('overridden');\n",
    "}\n",
    "\n",
    "function testKernel(kernel) {\n",
    "    return extend(kernel, testKernel);\n",
    "}\n",
    "\n",
    "function extendedKernel(kernel) {\n",
    "    return extend(kernel, extendedKernel)\n",
    "}\n",
    "\n",
    "function extendSelf(kernel) {\n",
    "    var self = extend(kernel, extendSelf)\n",
    "    return extend(self, extendedKernel)\n",
    "}\n",
    "\n",
    "extendedKernel.prototype = Object.create({\n",
    "    do_message: extended_do_message\n",
    "})\n",
    "\n",
    "testKernel.prototype = Object.create({\n",
    "    do_message\n",
    "})\n",
    "\n",
    "if(typeof $$ !== 'undefined') {\n",
    "    var kernel = new testKernel({});\n",
    "    kernel.do_message()\n",
    "    var kernel = new testKernel(extendedKernel);\n",
    "    kernel.do_message()\n",
    "    var kernel = new extendedKernel();\n",
    "    kernel.do_message()\n",
    "    var kernel = new extendedKernel({\n",
    "        do_message: m => console.log('doubly overriden')\n",
    "    });\n",
    "    kernel.do_message()\n",
    "    var kernel = new extendSelf({\n",
    "        do_message: m => console.log('triply overriden')\n",
    "    })\n",
    "    kernel.do_message()\n",
    "    var kernel = extend(extendSelf, extendedKernel);\n",
    "    kernel.do_message()\n",
    "    \n",
    "}\n",
    "\n",
    "/* expected output\n",
    "original\n",
    "overridden\n",
    "overridden\n",
    "doubly overriden\n",
    "*/\n"
   ]
  },
  {
   "cell_type": "code",
   "execution_count": null,
   "metadata": {},
   "outputs": [],
   "source": []
  }
 ],
 "metadata": {
  "kernelspec": {
   "display_name": "Javascript (Node.js)",
   "language": "javascript",
   "name": "javascript"
  },
  "language_info": {
   "file_extension": ".js",
   "mimetype": "application/javascript",
   "name": "javascript",
   "version": "10.16.0"
  }
 },
 "nbformat": 4,
 "nbformat_minor": 2
}
