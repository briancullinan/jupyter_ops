{
 "cells": [
  {
   "cell_type": "markdown",
   "metadata": {},
   "source": [
    "## working with trees\n",
    "\n"
   ]
  },
  {
   "cell_type": "markdown",
   "metadata": {},
   "source": [
    "### walk tree?\n",
    "\n",
    "The main feature of this is that the input type indicates the output type.\n",
    "\n",
    "If you query with an array, you get a list back. If you query with a string you get only the results back. Usually results are returned in a list.\n",
    "\n",
    "If you query with an object, you get an object back with the result of each query assign to the properties of the object.\n",
    "\n"
   ]
  },
  {
   "cell_type": "code",
   "execution_count": null,
   "metadata": {},
   "outputs": [],
   "source": [
    "\n",
    "function walkArray(select, ctx) {\n",
    "    return select.reduce((arr, query) => {\n",
    "        if(typeof query === 'function') {\n",
    "            return arr.concat(query(ctx));\n",
    "        } else if (typeof query === 'object') {\n",
    "            return arr.concat(walkObject(query));\n",
    "        } else {\n",
    "            return arr.concat(query);\n",
    "        }\n",
    "    }, [])\n",
    "}\n",
    "\n",
    "// performs select on every element\n",
    "// TODO: move recursiveness from Selenium utilities here\n",
    "function walkObject(select, ctx) {\n",
    "    return Object.keys(select).reduce((obj, prop) => {\n",
    "        if(typeof select[prop] === 'function') {\n",
    "            obj[prop] = select[prop](ctx);\n",
    "        } else if (Array.isArray(select[prop])) {\n",
    "            obj[prop] = walkArray(select[prop], ctx);\n",
    "        } else {\n",
    "            obj[prop] = select[prop];\n",
    "        }\n",
    "        return obj;\n",
    "    }, {})\n",
    "}\n",
    "\n",
    "/* \n",
    "input:\n",
    "[\n",
    "'Item > * > Expression',\n",
    "]\n",
    "\n",
    "outut: an array of results\n",
    "\n",
    "input:\n",
    "[\n",
    "'Item > * > Expression',\n",
    "{\n",
    "    title: '@title'\n",
    "}\n",
    "]\n",
    "\n",
    "output an array of results assign to an object with evaluate called on each\n",
    "result using the result as the new context for the object evaluation\n",
    "\n",
    "*/\n",
    "\n",
    "function walkTree(select, ctx) {\n",
    "    // adds evaluate to context handling\n",
    "    if(Array.isArray(select)) {\n",
    "        return walkArray.concat.apply([], walkArray(select, ctx))\n",
    "    } else if (typeof select === 'function') {\n",
    "        return walkTree(select(ctx));\n",
    "    } else if (typeof select === 'object') {\n",
    "        return walkObject(select, ctx);\n",
    "    } else\n",
    "        return ctx.evaluate(select);\n",
    "    }\n",
    "}\n",
    "\n",
    "\n",
    "\n",
    "\n",
    "var code = `\n",
    "var importer = require('../Core');\n",
    "function name(params) {\n",
    "    return importer.interpret('this is a describe request');\n",
    "}\n",
    "console.log()\n",
    "`\n",
    "\n",
    "if(typeof $$ !== 'undefined') {\n",
    "    var body = jsel(ast);\n",
    "    //var funcOut1 = body.selectAll(`//*[@type=\"FunctionDeclaration\"]`);\n",
    "    var node = body.selectAll(IMPORTER_CALLS);\n",
    "    var output2 = escodegen.generate(node);\n",
    "    console.log(output2);\n",
    "}\n",
    "\n",
    "\n"
   ]
  },
  {
   "cell_type": "markdown",
   "metadata": {},
   "source": [
    "### select tree?\n"
   ]
  },
  {
   "cell_type": "code",
   "execution_count": null,
   "metadata": {},
   "outputs": [],
   "source": [
    "\n",
    "// parse as html if it's string,\n",
    "//   if there is no context convert the tree to html\n",
    "function selectDOM(select, ctx) {\n",
    "    return walkTree(select, Object.assign(ctx, {\n",
    "        evaluate: document.evaluate\n",
    "    }))\n",
    "}\n",
    "\n",
    "// TODO: try catch with esquery, vm.runInThisContext, conver and select DOM, and jsel\n",
    "\n",
    "function selectTree(select, ctx) {\n",
    "    return walkTree(select, Object.assign(ctx, {\n",
    "        evaluate: esquery.select\n",
    "    }))\n",
    "}\n",
    "\n"
   ]
  },
  {
   "cell_type": "markdown",
   "metadata": {},
   "source": [
    "#### TODO: test selecting trees with the html translator\n",
    "\n",
    "TODO: and get the same result as using the json evaluator\n",
    "\n"
   ]
  },
  {
   "cell_type": "markdown",
   "metadata": {},
   "source": [
    "#### TODO: test selecting trees with bookmarks\n",
    "\n",
    "style improvements\n",
    "\n",
    "\n"
   ]
  },
  {
   "cell_type": "code",
   "execution_count": 7,
   "metadata": {},
   "outputs": [
    {
     "data": {
      "text/plain": [
       "'object'"
      ]
     },
     "execution_count": 7,
     "metadata": {},
     "output_type": "execute_result"
    }
   ],
   "source": [
    "var func = function () {};\n",
    "func.prototype = {};\n",
    "\n",
    "typeof new func"
   ]
  },
  {
   "cell_type": "markdown",
   "metadata": {},
   "source": [
    "## promise patterns\n"
   ]
  },
  {
   "cell_type": "markdown",
   "metadata": {
    "heading_collapsed": true
   },
   "source": [
    "### resolve a promise property?\n",
    "\n",
    " TODO: make this even simpler, if working with promises then it can callback on it own similar to lazy loading\n",
    "\n"
   ]
  },
  {
   "cell_type": "code",
   "execution_count": null,
   "metadata": {
    "hidden": true
   },
   "outputs": [],
   "source": [
    "\n",
    "function promiseOrResolve(obj, property, cb) {\n",
    "    return obj ? (typeof obj[property] != 'undefined'\n",
    "                  ? Promise.resolve(obj[property])\n",
    "                  : cb(obj).then(d => (obj[property] = d)))\n",
    "        : Promise.resolve()\n",
    "}\n",
    "\n",
    "module.exports = promiseOrResolve;\n"
   ]
  },
  {
   "cell_type": "markdown",
   "metadata": {
    "heading_collapsed": true
   },
   "source": [
    "## classes and objects\n",
    "\n",
    "Long term goal: use this notebook at training data to mangle/uglify/transpile any language\n",
    "\n",
    "TODO: import falsey javascript in to this notebook?\n",
    "\n",
    "demonstrate patterns between different languages, in C# interfaces are like:\n",
    "\n",
    "```\n",
    "interface MyInterface {\n",
    "    myProperty: string\n",
    "}\n",
    "\n",
    "class MyClass : MyInterface {\n",
    "}\n",
    "```\n",
    "\n",
    "\n"
   ]
  },
  {
   "cell_type": "markdown",
   "metadata": {
    "heading_collapsed": true,
    "hidden": true
   },
   "source": [
    "### making a class the normal way?\n"
   ]
  },
  {
   "cell_type": "code",
   "execution_count": null,
   "metadata": {
    "hidden": true
   },
   "outputs": [],
   "source": [
    "if(typeof parentClass === 'undefined') {\n",
    "    class parentClass {\n",
    "        constructor() {\n",
    "            console.log('parent');\n",
    "        }\n",
    "\n",
    "        do_message() {\n",
    "            console.log('original');\n",
    "        }\n",
    "    }\n",
    "\n",
    "    class childClass extends parentClass {\n",
    "        constructor() {\n",
    "            console.log('child');\n",
    "            super();\n",
    "        }\n",
    "\n",
    "        do_message() {\n",
    "            super.do_message();\n",
    "            console.log('overridden');\n",
    "        }\n",
    "    }\n",
    "}\n",
    "\n",
    "// TODO: better way to do this, childClass.prototype.bind?\n",
    "module.exports = () => new childClass;\n",
    "\n",
    "if(typeof $$ !== 'undefined') {\n",
    "    console.log(typeof module.exports);\n",
    "    var testClass = module.exports();\n",
    "    testClass.do_message();\n",
    "    \n",
    "    /* expected output\n",
    "    function\n",
    "    child\n",
    "    parent\n",
    "    original\n",
    "    overridden\n",
    "    */\n",
    "    \n",
    "    /*\n",
    "    this is extremely annoying, how to achieve the same effect with prototype?\n",
    "    the javascript language is apparently not indempotent\n",
    "    \n",
    "    evalmachine.<anonymous>:1\n",
    "    class parentClass {\n",
    "    ^\n",
    "\n",
    "    SyntaxError: Identifier 'parentClass' has already been declared\n",
    "        at evalmachine.<anonymous>:1:1\n",
    "    */\n",
    "}\n",
    "\n",
    "\n"
   ]
  },
  {
   "cell_type": "markdown",
   "metadata": {
    "heading_collapsed": true,
    "hidden": true
   },
   "source": [
    "### extend prototype class?\n",
    "\n",
    "derived from to help avoid annoying notebook errors:\n",
    "\n",
    "https://stackoverflow.com/questions/10430279/extending-an-object-in-javascript\n"
   ]
  },
  {
   "cell_type": "code",
   "execution_count": 72,
   "metadata": {
    "hidden": true
   },
   "outputs": [
    {
     "name": "stdout",
     "output_type": "stream",
     "text": [
      "object\n",
      "undefined\n",
      "child\n",
      "parent\n",
      "original\n",
      "overridden\n",
      "parent\n",
      "original\n"
     ]
    }
   ],
   "source": [
    "var parentObj = {\n",
    "    do_init() {\n",
    "        console.log('parent');\n",
    "    },\n",
    "    do_message() {\n",
    "        console.log('original');\n",
    "    }\n",
    "}\n",
    "\n",
    "var childObj = {\n",
    "    do_init() {\n",
    "        console.log('child');\n",
    "        parentObj.do_init();\n",
    "    },\n",
    "    do_message() {\n",
    "        parentObj.do_message();\n",
    "        console.log('overridden');\n",
    "    }\n",
    "}\n",
    "\n",
    "function extend(child, parent) {\n",
    "    var newClass = Object.create(parent || {});\n",
    "    Object.assign(newClass, child, Object.getPrototypeOf(child || {}));\n",
    "    var self = Object.create(newClass);\n",
    "    return self;\n",
    "}\n",
    "\n",
    "function override(child) {\n",
    "    return extend(child, this);\n",
    "}\n",
    "\n",
    "module.exports = {\n",
    "    extend,\n",
    "    override\n",
    "}\n",
    "//module.exports = Object.create.bind(null, childObj)\n",
    "\n",
    "if(typeof $$ !== 'undefined') {\n",
    "    console.log(typeof module.exports)\n",
    "    var testClass = module.exports.extend();\n",
    "    console.log(typeof testClass.do_init)\n",
    "    testClass = module.exports.extend(childObj, parentObj)\n",
    "    testClass.do_init();\n",
    "    testClass.do_message();\n",
    "    testClass = module.exports.extend({}, parentObj)\n",
    "    testClass.do_init();\n",
    "    testClass.do_message();\n",
    "    // TODO: more tests\n",
    "    \n",
    "    /* expected output\n",
    "    object\n",
    "    undefined\n",
    "    child\n",
    "    parent\n",
    "    original\n",
    "    overridden\n",
    "    parent\n",
    "    original\n",
    "    */\n",
    "}\n",
    "\n"
   ]
  },
  {
   "cell_type": "markdown",
   "metadata": {
    "heading_collapsed": true,
    "hidden": true
   },
   "source": [
    "### enforcing an interface?\n"
   ]
  },
  {
   "cell_type": "code",
   "execution_count": 75,
   "metadata": {
    "hidden": true
   },
   "outputs": [
    {
     "name": "stdout",
     "output_type": "stream",
     "text": [
      "{ display_name: 'Node JS', argv: [], language: '' }\n"
     ]
    }
   ],
   "source": [
    "\n",
    "// newer ES6 syntax\n",
    "\n",
    "function typeErrorTemplate(e, k, t, i, p) {\n",
    "    if(k) {\n",
    "        k = ' ' + k;\n",
    "    }\n",
    "    if(p) {\n",
    "        p = ' of type ' + p;\n",
    "    }\n",
    "    throw new Error(`type mis-match${k || ''}: \"${t}\" is not \"${i}\"${p || ''}`, e)\n",
    "}\n",
    "\n",
    "function standardCompare(type, expected) {\n",
    "    if(type === expected) return true;\n",
    "    if(!type || !expected || !(expected.isPrototypeOf(type))) {\n",
    "        return false\n",
    "    }\n",
    "    return true;\n",
    "}\n",
    "\n",
    "function arrayCompare(compare, specification, loosey) {\n",
    "    var match = specification.map(i => {\n",
    "        try {\n",
    "            return interface(compare, i, loosey);\n",
    "        } catch (e) {\n",
    "            return e;\n",
    "        }\n",
    "    }).filter(s => !s || s.constructor !== Error);\n",
    "    if(match.length > 0) {\n",
    "        return match[0];\n",
    "    }\n",
    "    typeErrorTemplate(void 0,\n",
    "                      void 0,\n",
    "                      typeof compare,\n",
    "                      specification.map(s => typeof s));\n",
    "}\n",
    "\n",
    "function objectCompare(compare, specification, loosey) {\n",
    "    var match = Object.keys(specification).reduce((map, k) => {\n",
    "        try {\n",
    "            var m = interface(compare[k], specification[k], loosey);\n",
    "            if(k === 'kernel_config') {\n",
    "            }\n",
    "            if(typeof m !== 'undefined') {\n",
    "                map[k] = m;\n",
    "            }\n",
    "        } catch (e) {\n",
    "            typeErrorTemplate(e,\n",
    "                              k,\n",
    "                              typeof compare[k],\n",
    "                              specification[k],\n",
    "                              specification[k].constructor)\n",
    "        }\n",
    "        return map;\n",
    "    }, {});\n",
    "    return match;\n",
    "}\n",
    "\n",
    "// loosey means no exceptions are thrown and undefined type is assumed\n",
    "function interface(compare, specification, loosey) {\n",
    "    var type = compare === void 0 || compare === null\n",
    "        ? compare\n",
    "        : Object.getPrototypeOf(compare);\n",
    "    var expected = specification === void 0 || specification === null\n",
    "        ? specification\n",
    "        : Object.getPrototypeOf(specification);\n",
    "    switch(expected) {\n",
    "        case Array.prototype:\n",
    "            // if it is an empty array to the actual compare on the object,\n",
    "            //   if it is not an empty array compare to each type in the array\n",
    "            if(specification.length > 0) {\n",
    "                return arrayCompare(compare, specification, loosey)\n",
    "            }\n",
    "        case Object.prototype:\n",
    "            // compare properties on object\n",
    "            if(Object.keys(specification).length > 0\n",
    "               && (typeof compare === 'object' || typeof compare === 'function')) {\n",
    "               return objectCompare(compare, specification, loosey)\n",
    "            }\n",
    "        default:\n",
    "            if(standardCompare(type, expected)\n",
    "               // if loosey is not explicitly set to false,\n",
    "               //   return void 0 (undefined) instead of error\n",
    "               //   only if compare it undefined,\n",
    "               //   still error on other wrong types\n",
    "               || (loosey !== false && compare === void 0)) {\n",
    "                return compare;\n",
    "            }\n",
    "            typeErrorTemplate(void 0,\n",
    "                              void 0,\n",
    "                              typeof compare,\n",
    "                              typeof specification,\n",
    "                              expected)\n",
    "    }\n",
    "}\n",
    "\n",
    "module.exports = interface;\n",
    "\n",
    "if(typeof $$ !== 'undefined') {\n",
    "    var jsonInterface = {\n",
    "        display_name: '',\n",
    "        argv: [], // not optional\n",
    "        language: '', // not optional\n",
    "        metadata: [void 0, {}], // optional\n",
    "        env: [void 0, {}], // TODO dictionary descriptor types?\n",
    "        interrupt_mode: [void 0, '']\n",
    "    }\n",
    "\n",
    "    console.log(interface({\n",
    "        display_name: 'Node JS',\n",
    "        argv: [],\n",
    "        language: '',\n",
    "        some_other_stuff: true\n",
    "    }, jsonInterface))\n",
    "    \n",
    "    // expected output {\"display_name\":\"Node JS\",\"argv\":[],\"language\":\"\"}\n",
    "}\n",
    "\n"
   ]
  },
  {
   "cell_type": "markdown",
   "metadata": {
    "hidden": true
   },
   "source": [
    "#### test enforcing an interface with prototype?\n",
    "\n"
   ]
  },
  {
   "cell_type": "code",
   "execution_count": 76,
   "metadata": {
    "hidden": true
   },
   "outputs": [
    {
     "name": "stdout",
     "output_type": "stream",
     "text": [
      "original 1\n",
      "original 2\n",
      "overridden 1\n",
      "overridden 2\n",
      "overridden 1\n",
      "undefined\n",
      "overridden 1\n",
      "original 2\n",
      "original 1\n",
      "undefined\n"
     ]
    }
   ],
   "source": [
    "\n",
    "function myInterface(overrides) {\n",
    "    var interface = Object.create({});\n",
    "    // TODO: wish there was a way to not name this twice\n",
    "    Object.assign(interface, {\n",
    "        propertyOne: overrides.propertyOne,\n",
    "        print: overrides.print\n",
    "    });\n",
    "    return interface;\n",
    "}\n",
    "\n",
    "function print() {\n",
    "    console.log(this.propertyOne);\n",
    "    console.log(this.propertyTwo);\n",
    "}\n",
    "\n",
    "var myClass = Object.create({\n",
    "    propertyOne: 'original 1',\n",
    "    propertyTwo: 'original 2',\n",
    "    print: print\n",
    "})\n",
    "\n",
    "if(typeof $$ !== 'undefined') {\n",
    "\n",
    "    myClass.print();\n",
    "    var overridden = overrideClass({\n",
    "        propertyOne: 'overridden 1',\n",
    "        propertyTwo: 'overridden 2'\n",
    "    })\n",
    "    overridden.print();\n",
    "    var interfaced = myInterface(overridden);\n",
    "    interfaced.print();\n",
    "    overrideClass(interfaced).print();\n",
    "    myInterface(myClass).print();\n",
    "    \n",
    "}\n",
    "\n",
    "/* expected output\n",
    "original 1\n",
    "original 2\n",
    "overridden 1\n",
    "overridden 2\n",
    "overridden 1\n",
    "undefined\n",
    "overridden 1\n",
    "original 2\n",
    "original 1\n",
    "undefined\n",
    "*/\n",
    "\n"
   ]
  },
  {
   "cell_type": "markdown",
   "metadata": {},
   "source": [
    "## improved logging\n",
    "\n",
    "display safe object?\n"
   ]
  },
  {
   "cell_type": "code",
   "execution_count": null,
   "metadata": {},
   "outputs": [],
   "source": [
    "function toLogString(vals) {\n",
    "  return vals.map(val => {\n",
    "    if ('string' === typeof val) return val\n",
    "    return toSafeString(val)\n",
    "  }).join(' ') + '\\n'\n",
    "}\n",
    "\n",
    "function toSafeString(val) {\n",
    "  let pre = ''\n",
    "  if ('object' === typeof val && val && val.constructor && val.constructor.name !== 'Object') {\n",
    "    pre = '[' + val.constructor.name + '] '\n",
    "  }\n",
    "  if ('function' === typeof val) {\n",
    "    return val + ''\n",
    "  }\n",
    "  try {\n",
    "    return pre + JSON.stringify(val)\n",
    "  } catch (e) {}\n",
    "  try {\n",
    "    return pre + '' + val\n",
    "  } catch (e) {}\n",
    "  return pre + '[value cannot be rendered]'\n",
    "}\n",
    "\n"
   ]
  }
 ],
 "metadata": {
  "kernelspec": {
   "display_name": "Javascript (Node.js)",
   "language": "javascript",
   "name": "javascript"
  },
  "language_info": {
   "file_extension": ".js",
   "mimetype": "application/javascript",
   "name": "javascript",
   "version": "10.16.0"
  }
 },
 "nbformat": 4,
 "nbformat_minor": 2
}
