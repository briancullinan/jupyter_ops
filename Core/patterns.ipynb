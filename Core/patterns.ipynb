{
 "cells": [
  {
   "cell_type": "markdown",
   "metadata": {
    "heading_collapsed": true
   },
   "source": [
    "## promise patterns\n"
   ]
  },
  {
   "cell_type": "markdown",
   "metadata": {
    "heading_collapsed": true,
    "hidden": true
   },
   "source": [
    "### resolve a promise property?\n",
    "\n",
    " TODO: make this even simpler, if working with promises then it can callback on it own similar to lazy loading\n",
    "\n"
   ]
  },
  {
   "cell_type": "code",
   "execution_count": null,
   "metadata": {
    "hidden": true
   },
   "outputs": [],
   "source": [
    "\n",
    "function promiseOrResolve(obj, property, cb) {\n",
    "    return obj ? (typeof obj[property] != 'undefined'\n",
    "                  ? Promise.resolve(obj[property])\n",
    "                  : cb(obj).then(d => (obj[property] = d)))\n",
    "        : Promise.resolve()\n",
    "}\n",
    "\n",
    "module.exports = promiseOrResolve;\n"
   ]
  },
  {
   "cell_type": "markdown",
   "metadata": {},
   "source": [
    "## classes and objects\n",
    "\n",
    "Long term goal: use this notebook at training data to mangle/uglify/transpile any language\n",
    "\n",
    "TODO: import falsey javascript in to this notebook?\n",
    "\n",
    "demonstrate patterns between different languages, in C# interfaces are like:\n",
    "\n",
    "```\n",
    "interface MyInterface {\n",
    "    myProperty: string\n",
    "}\n",
    "\n",
    "class MyClass : MyInterface {\n",
    "}\n",
    "```\n",
    "\n",
    "\n"
   ]
  },
  {
   "cell_type": "markdown",
   "metadata": {
    "heading_collapsed": true
   },
   "source": [
    "### making a class the normal way?\n"
   ]
  },
  {
   "cell_type": "code",
   "execution_count": null,
   "metadata": {
    "hidden": true
   },
   "outputs": [],
   "source": [
    "if(typeof parentClass === 'undefined') {\n",
    "    class parentClass {\n",
    "        constructor() {\n",
    "            console.log('parent');\n",
    "        }\n",
    "\n",
    "        do_message() {\n",
    "            console.log('original');\n",
    "        }\n",
    "    }\n",
    "\n",
    "    class childClass extends parentClass {\n",
    "        constructor() {\n",
    "            console.log('child');\n",
    "            super();\n",
    "        }\n",
    "\n",
    "        do_message() {\n",
    "            super.do_message();\n",
    "            console.log('overridden');\n",
    "        }\n",
    "    }\n",
    "}\n",
    "\n",
    "// TODO: better way to do this, childClass.prototype.bind?\n",
    "module.exports = () => new childClass;\n",
    "\n",
    "if(typeof $$ !== 'undefined') {\n",
    "    console.log(typeof module.exports);\n",
    "    var testClass = module.exports();\n",
    "    testClass.do_message();\n",
    "    \n",
    "    /* expected output\n",
    "    function\n",
    "    child\n",
    "    parent\n",
    "    original\n",
    "    overridden\n",
    "    */\n",
    "    \n",
    "    /*\n",
    "    this is extremely annoying, how to achieve the same effect with prototype?\n",
    "    the javascript language is apparently not indempotent\n",
    "    \n",
    "    evalmachine.<anonymous>:1\n",
    "    class parentClass {\n",
    "    ^\n",
    "\n",
    "    SyntaxError: Identifier 'parentClass' has already been declared\n",
    "        at evalmachine.<anonymous>:1:1\n",
    "    */\n",
    "}\n",
    "\n",
    "\n"
   ]
  },
  {
   "cell_type": "markdown",
   "metadata": {
    "heading_collapsed": true
   },
   "source": [
    "### making a class with prototype\n",
    "\n",
    "derived from to help avoid annoying notebook errors:\n",
    "\n",
    "https://stackoverflow.com/questions/10430279/extending-an-object-in-javascript\n"
   ]
  },
  {
   "cell_type": "code",
   "execution_count": null,
   "metadata": {
    "hidden": true
   },
   "outputs": [],
   "source": [
    "var parentObj = Object.create({\n",
    "    do_init() {\n",
    "        console.log('parent');\n",
    "    },\n",
    "    do_message() {\n",
    "        console.log('original');\n",
    "    }\n",
    "})\n",
    "\n",
    "var childObj = Object.create(parentObj);\n",
    "Object.assign(childObj, {\n",
    "    do_init() {\n",
    "        console.log('child');\n",
    "        parentObj.do_init();\n",
    "    },\n",
    "    do_message() {\n",
    "        parentObj.do_message();\n",
    "        console.log('overridden');\n",
    "    }\n",
    "})\n",
    "\n",
    "function extend(child, parent) {\n",
    "    var newClass = Object.create(parent);\n",
    "    Object.assign(newClass, child);\n",
    "    var self = Object.create(newClass);\n",
    "    return self;\n",
    "}\n",
    "\n",
    "function override(child) {\n",
    "    return extend(child, this);\n",
    "}\n",
    "\n",
    "module.exports = {\n",
    "    extend,\n",
    "    override\n",
    "}\n",
    "//module.exports = Object.create.bind(null, childObj)\n",
    "\n",
    "if(typeof $$ !== 'undefined') {\n",
    "    console.log(typeof module.exports)\n",
    "    var testClass = module.exports();\n",
    "    testClass.do_init();\n",
    "    testClass.do_message();\n",
    "    \n",
    "    /* expected output\n",
    "    child\n",
    "    parent\n",
    "    original\n",
    "    overridden\n",
    "    */\n",
    "}\n",
    "\n"
   ]
  },
  {
   "cell_type": "markdown",
   "metadata": {
    "heading_collapsed": true
   },
   "source": [
    "### enforcing an interface?\n"
   ]
  },
  {
   "cell_type": "code",
   "execution_count": null,
   "metadata": {
    "hidden": true
   },
   "outputs": [],
   "source": [
    "// in pre-prototype days objects were treated as classes\n",
    "\n",
    "function applyInterface(class) {\n",
    "    var properties = ['myProperty'];\n",
    "    var i, result = {};\n",
    "    for(i=0; i<properties.length; i++) {\n",
    "        if(typeof class[properties[i]] === 'undefined') {\n",
    "            throw new Error(`Missing interface property ${properties[i]}`);\n",
    "        }\n",
    "        result[properties[i]] = class[properties[i]];\n",
    "    }\n",
    "}\n",
    "\n",
    "// newer ES6 syntax\n",
    "\n",
    "function typeErrorTemplate(k, t, i) {\n",
    "    var p = i.constructor;\n",
    "    return `type mis-match ${k} \"${typeof t}\" is not \"${typeof i}\" of type ${p}`\n",
    "}\n",
    "\n",
    "function resolveType(compare, interface) {\n",
    "    var type = compare === void 0 || compare === null\n",
    "        ? compare\n",
    "        : Object.getPrototypeOf(compare);\n",
    "    var expected = interface === void 0 || interface === null\n",
    "        ? interface\n",
    "        : Object.getPrototypeOf(interface);\n",
    "    switch(expected) {\n",
    "        case Array.prototype:\n",
    "            // if it is an empty array to the actual compare on the object,\n",
    "            //   if it is not an empty array compare to each type in the array\n",
    "            if(interface.length > 0) {\n",
    "                return interface.filter(i => resolveType(compare, i)).length > 0;\n",
    "                break;\n",
    "            }\n",
    "        default:\n",
    "            if(type === expected) return true;\n",
    "            if(!type || !expected || !(expected.isPrototypeOf(type))) {\n",
    "                return false\n",
    "            }\n",
    "            return true;\n",
    "    }\n",
    "}\n",
    "\n",
    "function interface(obj, interface) {\n",
    "    var result = {};\n",
    "    for(var i in interface) {\n",
    "        if(interface.hasOwnProperty(i)) {\n",
    "            // TODO: expand on this for inheritable objects and multiple values\n",
    "            if(resolveType(obj[i], interface[i])) {\n",
    "                console.log('matched ' + i)\n",
    "                result[i] = obj[i];\n",
    "            } else {\n",
    "                throw new Error(typeErrorTemplate(i, obj[i], interface[i]))\n",
    "            }\n",
    "        }\n",
    "    }\n",
    "    return result;\n",
    "}\n",
    "\n",
    "module.exports = interface;\n",
    "\n",
    "if(typeof $$ !== 'undefined') {\n",
    "    var jsonInterface = {\n",
    "        display_name: '',\n",
    "        argv: [], // not optional\n",
    "        language: '', // not optional\n",
    "        metadata: [void 0, {}], // optional\n",
    "        env: [void 0, {}], // TODO dictionary descriptor types?\n",
    "        interrupt_mode: [void 0, '']\n",
    "    }\n",
    "\n",
    "    console.log(JSON.stringify(interface({\n",
    "        display_name: 'Node JS',\n",
    "        argv: [],\n",
    "        language: '',\n",
    "        some_other_stuff: true\n",
    "    }, jsonInterface)))\n",
    "    \n",
    "    // expected output {\"display_name\":\"Node JS\",\"argv\":[],\"language\":\"\"}\n",
    "}\n",
    "\n"
   ]
  },
  {
   "cell_type": "markdown",
   "metadata": {
    "hidden": true
   },
   "source": [
    "#### test enforcing an interface with prototype?\n",
    "\n"
   ]
  },
  {
   "cell_type": "code",
   "execution_count": 63,
   "metadata": {
    "hidden": true
   },
   "outputs": [
    {
     "name": "stdout",
     "output_type": "stream",
     "text": [
      "original 1\n",
      "original 2\n",
      "overridden 1\n",
      "overridden 2\n",
      "overridden 1\n",
      "undefined\n",
      "overridden 1\n",
      "original 2\n",
      "original 1\n",
      "undefined\n"
     ]
    }
   ],
   "source": [
    "\n",
    "function myInterface(overrides) {\n",
    "    var interface = Object.create({});\n",
    "    // TODO: wish there was a way to not name this twice\n",
    "    Object.assign(interface, {\n",
    "        propertyOne: overrides.propertyOne,\n",
    "        print: overrides.print\n",
    "    });\n",
    "    return interface;\n",
    "}\n",
    "\n",
    "function print() {\n",
    "    console.log(this.propertyOne);\n",
    "    console.log(this.propertyTwo);\n",
    "}\n",
    "\n",
    "var myClass = Object.create({\n",
    "    propertyOne: 'original 1',\n",
    "    propertyTwo: 'original 2',\n",
    "    print: print\n",
    "})\n",
    "\n",
    "if(typeof $$ !== 'undefined') {\n",
    "\n",
    "    myClass.print();\n",
    "    var overridden = overrideClass({\n",
    "        propertyOne: 'overridden 1',\n",
    "        propertyTwo: 'overridden 2'\n",
    "    })\n",
    "    overridden.print();\n",
    "    var interfaced = myInterface(overridden);\n",
    "    interfaced.print();\n",
    "    overrideClass(interfaced).print();\n",
    "    myInterface(myClass).print();\n",
    "    \n",
    "}\n",
    "\n",
    "/* expected output\n",
    "original 1\n",
    "original 2\n",
    "overridden 1\n",
    "overridden 2\n",
    "overridden 1\n",
    "undefined\n",
    "overridden 1\n",
    "original 2\n",
    "original 1\n",
    "undefined\n",
    "*/\n",
    "\n"
   ]
  },
  {
   "cell_type": "code",
   "execution_count": null,
   "metadata": {
    "hidden": true
   },
   "outputs": [],
   "source": []
  }
 ],
 "metadata": {
  "kernelspec": {
   "display_name": "Javascript (Node.js)",
   "language": "javascript",
   "name": "javascript"
  },
  "language_info": {
   "file_extension": ".js",
   "mimetype": "application/javascript",
   "name": "javascript",
   "version": "10.16.0"
  }
 },
 "nbformat": 4,
 "nbformat_minor": 2
}
