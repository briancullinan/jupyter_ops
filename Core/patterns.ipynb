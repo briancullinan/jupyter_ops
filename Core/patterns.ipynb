{
 "cells": [
  {
   "cell_type": "markdown",
   "metadata": {},
   "source": [
    "## creating classes and objects\n",
    "\n",
    "Long term goal: use this notebook at training data to mangle/uglify/transpile any language\n",
    "\n",
    "demonstrate patterns between different languages, in C# interfaces are like:\n",
    "\n",
    "```\n",
    "interface MyInterface {\n",
    "    myProperty: string\n",
    "}\n",
    "\n",
    "class MyClass : MyInterface {\n",
    "}\n",
    "```\n",
    "\n",
    "\n"
   ]
  },
  {
   "cell_type": "markdown",
   "metadata": {
    "heading_collapsed": true
   },
   "source": [
    "### applying an interface?\n"
   ]
  },
  {
   "cell_type": "code",
   "execution_count": null,
   "metadata": {
    "hidden": true
   },
   "outputs": [],
   "source": [
    "// in pre-prototype days objects were treated as classes\n",
    "\n",
    "function applyInterface(class) {\n",
    "    var properties = ['myProperty'];\n",
    "    var i, result = {};\n",
    "    for(i=0; i<properties.length; i++) {\n",
    "        if(typeof class[properties[i]] === 'undefined') {\n",
    "            throw new Error(`Missing interface property ${properties[i]}`);\n",
    "        }\n",
    "        result[properties[i]] = class[properties[i]];\n",
    "    }\n",
    "}\n",
    "\n"
   ]
  },
  {
   "cell_type": "markdown",
   "metadata": {
    "heading_collapsed": true
   },
   "source": [
    "### making a class the normal way?\n"
   ]
  },
  {
   "cell_type": "code",
   "execution_count": 6,
   "metadata": {
    "hidden": true
   },
   "outputs": [
    {
     "name": "stdout",
     "output_type": "stream",
     "text": [
      "function\n",
      "child\n",
      "parent\n",
      "original\n",
      "overridden\n"
     ]
    }
   ],
   "source": [
    "if(typeof parentClass === 'undefined') {\n",
    "    class parentClass {\n",
    "        constructor() {\n",
    "            console.log('parent');\n",
    "        }\n",
    "\n",
    "        do_message() {\n",
    "            console.log('original');\n",
    "        }\n",
    "    }\n",
    "\n",
    "    class childClass extends parentClass {\n",
    "        constructor() {\n",
    "            console.log('child');\n",
    "            super();\n",
    "        }\n",
    "\n",
    "        do_message() {\n",
    "            super.do_message();\n",
    "            console.log('overridden');\n",
    "        }\n",
    "    }\n",
    "}\n",
    "\n",
    "// TODO: better way to do this, childClass.prototype.bind?\n",
    "module.exports = () => new childClass;\n",
    "\n",
    "if(typeof $$ !== 'undefined') {\n",
    "    console.log(typeof module.exports);\n",
    "    var testClass = module.exports();\n",
    "    testClass.do_message();\n",
    "    \n",
    "    /* expected output\n",
    "    function\n",
    "    child\n",
    "    parent\n",
    "    original\n",
    "    overridden\n",
    "    */\n",
    "    \n",
    "    /*\n",
    "    this is extremely annoying, how to achieve the same effect with prototype?\n",
    "    the javascript language is apparently not indempotent\n",
    "    \n",
    "    evalmachine.<anonymous>:1\n",
    "    class parentClass {\n",
    "    ^\n",
    "\n",
    "    SyntaxError: Identifier 'parentClass' has already been declared\n",
    "        at evalmachine.<anonymous>:1:1\n",
    "    */\n",
    "}\n",
    "\n",
    "\n"
   ]
  },
  {
   "cell_type": "markdown",
   "metadata": {
    "heading_collapsed": true
   },
   "source": [
    "### making a class with prototype\n",
    "\n",
    "derived from to help avoid annoying notebook errors:\n",
    "\n",
    "https://stackoverflow.com/questions/10430279/extending-an-object-in-javascript\n"
   ]
  },
  {
   "cell_type": "code",
   "execution_count": 22,
   "metadata": {
    "hidden": true
   },
   "outputs": [
    {
     "name": "stdout",
     "output_type": "stream",
     "text": [
      "function\n",
      "child\n",
      "parent\n",
      "original\n",
      "overridden\n"
     ]
    }
   ],
   "source": [
    "var parentObj = Object.create({\n",
    "    do_init() {\n",
    "        console.log('parent');\n",
    "    },\n",
    "    do_message() {\n",
    "        console.log('original');\n",
    "    }\n",
    "})\n",
    "\n",
    "var childObj = Object.create(parentObj);\n",
    "Object.assign(childObj, {\n",
    "    do_init() {\n",
    "        console.log('child');\n",
    "        parentObj.do_init();\n",
    "    },\n",
    "    do_message() {\n",
    "        parentObj.do_message();\n",
    "        console.log('overridden');\n",
    "    }\n",
    "})\n",
    "\n",
    "module.exports = Object.create.bind(null, childObj)\n",
    "\n",
    "if(typeof $$ !== 'undefined') {\n",
    "    console.log(typeof module.exports)\n",
    "    var testClass = module.exports();\n",
    "    testClass.do_init();\n",
    "    testClass.do_message();\n",
    "    \n",
    "    /* expected output\n",
    "    child\n",
    "    parent\n",
    "    original\n",
    "    overridden\n",
    "    */\n",
    "}\n",
    "\n"
   ]
  },
  {
   "cell_type": "markdown",
   "metadata": {},
   "source": [
    "### enforcing an interface?\n",
    "\n",
    "test enforcing an interface with prototype?\n",
    "\n"
   ]
  },
  {
   "cell_type": "code",
   "execution_count": 1,
   "metadata": {},
   "outputs": [
    {
     "name": "stdout",
     "output_type": "stream",
     "text": [
      "child\n",
      "parent\n",
      "original\n",
      "overridden\n"
     ]
    }
   ],
   "source": [
    "\n",
    "// or in es6 using expanders\n",
    "\n",
    "function superInterface(interface) {\n",
    "}\n",
    "\n",
    "// inheriting interfaces\n",
    "function myInterface(interface) {\n",
    "    return Object.assign({\n",
    "        myProperty\n",
    "    } = interface, superInterface(interface));\n",
    "}\n",
    "\n",
    "// enforcing interface for use within the caller context\n",
    "function myInterface(interface) {\n",
    "    return superInterface(Object.assign({\n",
    "        myProperty\n",
    "    } = interface, interface));\n",
    "}\n",
    "\n",
    "// doesn't work\n"
   ]
  },
  {
   "cell_type": "markdown",
   "metadata": {},
   "source": [
    "#### test enforcing an interface?\n"
   ]
  },
  {
   "cell_type": "code",
   "execution_count": 8,
   "metadata": {},
   "outputs": [
    {
     "name": "stdout",
     "output_type": "stream",
     "text": [
      "original 1\n",
      "original 2\n",
      "overridden 1\n",
      "overridden 2\n",
      "overridden 1\n",
      "undefined\n",
      "overridden 1\n",
      "original 2\n"
     ]
    }
   ],
   "source": [
    "\n",
    "function myInterface(overrides) {\n",
    "    var interface = Object.create({});\n",
    "    Object.assign(interface, {\n",
    "        propertyOne: overrides.propertyOne,\n",
    "        print: overrides.print\n",
    "    });\n",
    "    return interface;\n",
    "}\n",
    "\n",
    "function print() {\n",
    "    console.log(this.propertyOne);\n",
    "    console.log(this.propertyTwo);\n",
    "}\n",
    "\n",
    "var myClass = Object.create({\n",
    "    propertyOne: 'original 1',\n",
    "    propertyTwo: 'original 2',\n",
    "    print: print\n",
    "})\n",
    "\n",
    "function overrideClass(overrides) {\n",
    "    var overridden = Object.create(myClass);\n",
    "    Object.assign(overridden, overrides);\n",
    "    var self = Object.create(overridden);\n",
    "    return self;\n",
    "}\n",
    "\n",
    "myClass.print();\n",
    "var overridden = overrideClass({\n",
    "    propertyOne: 'overridden 1',\n",
    "    propertyTwo: 'overridden 2'\n",
    "})\n",
    "overridden.print();\n",
    "var interfaced = myInterface(overridden);\n",
    "interfaced.print();\n",
    "overrideClass(interfaced).print();\n",
    "\n",
    "\n",
    "/* expected output\n",
    "original 1\n",
    "original 2\n",
    "overridden 1\n",
    "overridden 2\n",
    "overridden 1\n",
    "undefined\n",
    "overridden 1\n",
    "original 2\n",
    "*/\n",
    "\n"
   ]
  },
  {
   "cell_type": "code",
   "execution_count": 7,
   "metadata": {},
   "outputs": [
    {
     "data": {
      "text/plain": [
       "{ something: true }"
      ]
     },
     "execution_count": 7,
     "metadata": {},
     "output_type": "execute_result"
    }
   ],
   "source": [
    "Object.assign({something: true}, void 0);\n"
   ]
  },
  {
   "cell_type": "code",
   "execution_count": null,
   "metadata": {},
   "outputs": [],
   "source": []
  }
 ],
 "metadata": {
  "kernelspec": {
   "display_name": "Javascript (Node.js)",
   "language": "javascript",
   "name": "javascript"
  },
  "language_info": {
   "file_extension": ".js",
   "mimetype": "application/javascript",
   "name": "javascript",
   "version": "10.16.0"
  }
 },
 "nbformat": 4,
 "nbformat_minor": 2
}
