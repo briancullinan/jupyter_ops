{
  "cells": [
    {
      "cell_type": "markdown",
      "source": [
        "# Usage\n",
        "\n",
        "This library of notebooks as 1 component that is not expressed in IPython notebooks and that is Core/index.js which handles the initial import.\n",
        "\n"
      ],
      "metadata": {}
    },
    {
      "cell_type": "code",
      "source": [
        "var importer = require('./Core');\n",
        "var express = importer.import('./Frameworks/node express.ipynb');\n",
        "\n",
        "// execute every cell and provide output functions as a service?\n",
        "$$.sendResult(express)\n"
      ],
      "outputs": [],
      "execution_count": null,
      "metadata": {
        "collapsed": false,
        "inputHidden": false,
        "outputHidden": false
      }
    },
    {
      "cell_type": "code",
      "source": [
        "var importer = require('./Core');\n",
        "\n",
        "// eval a cell in the current context?\n",
        "\n",
        "// performs cheap text based searching on cells\n",
        "var mountAndRewireAngular = importer.evalNotebook(\n",
        "    'Utilities/file system.ipynb', \n",
        "    'memory-fs' || 1); // use cheap search terms or the numeric code cell\n",
        "\n"
      ],
      "outputs": [],
      "execution_count": null,
      "metadata": {
        "collapsed": false,
        "inputHidden": false,
        "outputHidden": false
      }
    },
    {
      "cell_type": "code",
      "source": [
        "var importer = require('./Core');\n",
        "\n",
        "// search notebooks for keywords, return the top search result and the contextual markdown and code cells?\n",
        "\n",
        "var interpret = importer.interpret([\n",
        "    'docker selenium',\n",
        "    'docker vnc'\n",
        "]); // store loaded functions for later use\n",
        "\n",
        "$$.sendResult(interpret);\n",
        "\n"
      ],
      "outputs": [
        {
          "output_type": "execute_result",
          "execution_count": 1,
          "data": {
            "text/plain": [
              "[ { code: 'function testLive() {\\n    return client\\n        .url(\\'https://purchasesprint.actops.com\\')\\n        .click(\\'[href*=\"/auth\"], [routerlink*=\"/auth\"]\\');\\n}\\nmodule.exports = testLive();\\n\\n',\n",
              "    markdown: [ 'Test docker selenium?' ],\n",
              "    from: 12,\n",
              "    to: 13,\n",
              "    language: 'javascript',\n",
              "    id: 'What is Selenium.ipynb[7]',\n",
              "    filename: 'C:\\\\Users\\\\brian.cullinan\\\\Documents\\\\jupytangular2\\\\Selenium\\\\What is Selenium.ipynb',\n",
              "    questions: [ 'Test docker selenium' ],\n",
              "    notebook: 'What is Selenium.ipynb',\n",
              "    fresher: 'function testLive() {\\n    return client\\n        .url(\\'https://purchasesprint.actops.com\\')\\n        .click(\\'[href*=\"/auth\"], [routerlink*=\"/auth\"]\\');\\n}\\nmodule.exports = testLive();\\n\\n',\n",
              "    runInNewContext: [Function] },\n",
              "  { code: '$$.async();\\nvar path = require(\\'path\\');\\nif (process.platform === \\'win32\\') {\\n    var notebook = \\'How to install Docker on Windows.ipynb\\';\\n} else if (process.platform === \\'darwin\\') {\\n    var notebook = \\'How to install Docker on Mac.ipynb\\';\\n} else {\\n    $$.done(\\'docker not installed\\');\\n}',\n",
              "    markdown: \n",
              "     [ '# What is Docker?\\n\\nLets download and find out ;)\\n\\n## 1\\n[Download Docker](https://download.docker.com/win/stable/InstallDocker.msi)\\nand install then skip to step 2.\\n\\nFor Docker on Windows see [How to install Docker on Windows?](//How%20To%20install%20Docker%20on%20Windows?.ipynb)\\n\\nFor Docker on Mac see [How to install Docker on Mac?](//How%20To%20install%20Docker%20on%20Windows?.ipynb)\\n' ],\n",
              "    from: 1,\n",
              "    to: 2,\n",
              "    language: 'javascript',\n",
              "    id: 'docker demo.ipynb[0]',\n",
              "    filename: 'C:\\\\Users\\\\brian.cullinan\\\\Documents\\\\jupytangular2\\\\Docker\\\\docker demo.ipynb',\n",
              "    questions: \n",
              "     [ '# What is Docker',\n",
              "       'For Docker on Windows see [ install Docker on Windows](//How%20To%20install%20Docker%20on%20Windows.ipynb)',\n",
              "       'For Docker on Mac see [ install Docker on Mac](//How%20To%20install%20Docker%20on%20Windows.ipynb)' ],\n",
              "    notebook: 'docker demo.ipynb',\n",
              "    fresher: '$$.async();\\nvar path = require(\\'path\\');\\nif (process.platform === \\'win32\\') {\\n    var notebook = \\'How to install Docker on Windows.ipynb\\';\\n} else if (process.platform === \\'darwin\\') {\\n    var notebook = \\'How to install Docker on Mac.ipynb\\';\\n} else {\\n    $$.done(\\'docker not installed\\');\\n}',\n",
              "    runInNewContext: [Function] } ]"
            ]
          },
          "metadata": {}
        }
      ],
      "execution_count": 1,
      "metadata": {
        "collapsed": false,
        "inputHidden": false,
        "outputHidden": false
      }
    },
    {
      "cell_type": "markdown",
      "source": [
        "That's it!  All code in this library can be accessed through these three methods.  Here are some search items to try out:\n",
        "\n",
        "* crawl search results using selenium docker vnc\n",
        "* build angular components\n",
        "* authenticate and search Google calendar\n",
        "\n"
      ],
      "metadata": {}
    },
    {
      "cell_type": "markdown",
      "source": [
        "# Format\n",
        "\n",
        "General notebook formatting is simple:\n",
        "\n",
        "Markdown cell: What question does this code set out to answer?\n",
        "\n",
        "```\n",
        "# How to use Docker?\n",
        "```\n",
        "\n",
        "Code cell: A short function with any necessary definition functions?\n",
        "```\n",
        "docker run <container-name>\n",
        "```\n",
        "\n",
        "Code cell: A test for the previous function.\n",
        "```\n",
        "docker run <container-name>\n",
        "if docker ps | grep <container-name> then; \\\n",
        "    echo \"container is running\"; \\\n",
        "else; \\\n",
        "    echo \"docker failed to start container\"; \\\n",
        "fi;\n",
        "```\n"
      ],
      "metadata": {}
    },
    {
      "cell_type": "markdown",
      "source": [
        "# Development\n",
        "\n",
        "Notebooks are intended to be runnable within the notebook, also runnable by other notebooks in the current context, and runnable as a remote service.  Code should be safe in all of these situations.\n",
        "\n"
      ],
      "metadata": {}
    },
    {
      "cell_type": "code",
      "source": [
        "/*\n",
        "var importer = require('./Core')));\n",
        "\n",
        "$$.async();\n",
        "\n",
        "// don't do this\n",
        "Promise.all([\n",
        "    importer.importNotebook(n)\n",
        "    importer.importNotebook(n)\n",
        "    ]);\n",
        "\n",
        "// do this instead!\n",
        "runAllPromises([\n",
        "    importer.importNotebook(n)\n",
        "    importer.importNotebook(n)\n",
        "    ])\n",
        "*/\n",
        "\n"
      ],
      "outputs": [],
      "execution_count": 1,
      "metadata": {
        "collapsed": false,
        "inputHidden": false,
        "outputHidden": false
      }
    },
    {
      "cell_type": "code",
      "source": [
        "/*\n",
        "provide a public function by returning function with name as output\n",
        "\n",
        "var import = () => {\n",
        "\n",
        "}\n",
        "\n",
        "// make this the last statement so the entire block can be imported easily\n",
        "(import);\n",
        "\n",
        "*/\n"
      ],
      "outputs": [],
      "execution_count": null,
      "metadata": {
        "collapsed": false,
        "inputHidden": false,
        "outputHidden": false
      }
    },
    {
      "cell_type": "markdown",
      "source": [
        "# Goals\n",
        "\n"
      ],
      "metadata": {}
    },
    {
      "cell_type": "code",
      "source": [
        "// expose functions as an express http service?\n",
        "\n// search services over http?"
      ],
      "outputs": [],
      "execution_count": null,
      "metadata": {
        "collapsed": false,
        "inputHidden": false,
        "outputHidden": false
      }
    },
    {
      "cell_type": "code",
      "source": [
        "// start a docker selenium in AWS?"
      ],
      "outputs": [],
      "execution_count": null,
      "metadata": {
        "collapsed": false,
        "inputHidden": false,
        "outputHidden": false
      }
    },
    {
      "cell_type": "code",
      "source": [
        "// incorporate angular components for UI/UX?"
      ],
      "outputs": [],
      "execution_count": null,
      "metadata": {
        "collapsed": false,
        "inputHidden": false,
        "outputHidden": false
      }
    },
    {
      "cell_type": "code",
      "source": [
        "// CodeOps. Automatic github feature branching and squashing in separate environments so the tree that looks right can be chosen. Linting, line-numbers on notebooks.  Automatic deploys for angular components with real HMR not this BS: https://webpack.github.io/docs/hot-module-replacement.html.  Monitor for files that change outside of project scope and automatically build the git index for the changes in that branch instead.\n",
        "\n",
        "// show a d3.cloud of import statements and require statements\n",
        "\n",
        "// show a word cloud for these notebooks\n",
        "\n"
      ],
      "outputs": [],
      "execution_count": null,
      "metadata": {
        "collapsed": false,
        "inputHidden": false,
        "outputHidden": false
      }
    },
    {
      "cell_type": "markdown",
      "source": [
        "Install build stack on colab?\n"
      ],
      "metadata": {}
    },
    {
      "cell_type": "code",
      "source": [
        "!npm config set user 0\n",
        "!npm config set unsafe-perm true\n",
        "!npm install -g --unsafe-perm ijavascript zeromq node-gyp node-pre-gyp webpack\n",
        "!ijsinstall --install=global\n",
        "!jupyter-kernelspec list\n",
        "!apt-get install -yy git built-tools\n",
        "!rm -R /content/jupytangular/ || true\n",
        "!mkdir /content/jupytangular\n",
        "!ln -s /content/jupytangular /Core || true\n",
        "!git init /content/jupytangular\n",
        "!cd jupytangular && git remote add origin https://:@bitbucket.org/megamindbrian/jupyter_ops.git\n",
        "!cd jupytangular && git fetch\n",
        "!cd jupytangular && git reset --hard origin/master\n",
        "!cd jupytangular && git pull origin master\n",
        "!cd jupytangular && npm install && npm run test && npm run build"
      ],
      "outputs": [],
      "execution_count": null,
      "metadata": {
        "collapsed": false,
        "inputHidden": false,
        "outputHidden": false
      }
    },
    {
      "cell_type": "markdown",
      "source": [
        "update notebook repo on colab?\n",
        "\n"
      ],
      "metadata": {}
    },
    {
      "cell_type": "code",
      "source": [
        "!rm -R /content/jupytangular/node_modules || true\n",
        "!cd jupytangular && git reset --hard && git pull --rebase origin master\n",
        "!cd jupytangular && npm install\n"
      ],
      "outputs": [],
      "execution_count": null,
      "metadata": {
        "collapsed": false,
        "outputHidden": false,
        "inputHidden": false
      }
    }
  ],
  "metadata": {
    "kernel_info": {
      "name": "javascript"
    },
    "kernelspec": {
      "name": "javascript",
      "language": "javascript",
      "display_name": "Javascript (Node.js)"
    },
    "language_info": {
      "name": "javascript",
      "version": "8.6.0",
      "mimetype": "application/javascript",
      "file_extension": ".js"
    }
  },
  "nbformat": 4,
  "nbformat_minor": 0
}