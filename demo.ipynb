{
 "cells": [
  {
   "cell_type": "markdown",
   "metadata": {},
   "source": [
    "# Usage\n",
    "\n",
    "This library of notebooks as 1 component that is not expressed in IPython notebooks and that is Core/index.js which handles the initial import.\n",
    "\n"
   ]
  },
  {
   "cell_type": "code",
   "execution_count": null,
   "metadata": {
    "collapsed": false,
    "inputHidden": false,
    "outputHidden": false
   },
   "outputs": [],
   "source": [
    "var importer = require('./Core');\n",
    "var express = importer.import('./Frameworks/node express.ipynb');\n",
    "\n",
    "// execute every cell and provide output functions as a service?\n",
    "$$.sendResult(express)\n"
   ]
  },
  {
   "cell_type": "code",
   "execution_count": null,
   "metadata": {
    "collapsed": false,
    "inputHidden": false,
    "outputHidden": false
   },
   "outputs": [],
   "source": [
    "var importer = require('./Core');\n",
    "\n",
    "// eval a cell in the current context?\n",
    "\n",
    "// performs cheap text based searching on cells\n",
    "var mountAndRewireAngular = importer.evalNotebook(\n",
    "    'Utilities/file system.ipynb', \n",
    "    'memory-fs' || 1); // use cheap search terms or the numeric code cell\n",
    "\n"
   ]
  },
  {
   "cell_type": "code",
   "execution_count": 1,
   "metadata": {
    "collapsed": false,
    "inputHidden": false,
    "outputHidden": false
   },
   "outputs": [
    {
     "data": {
      "text/plain": [
       "[ { code: 'function testLive() {\\n    return client\\n        .url(\\'https://purchasesprint.actops.com\\')\\n        .click(\\'[href*=\"/auth\"], [routerlink*=\"/auth\"]\\');\\n}\\nmodule.exports = testLive();\\n\\n',\n",
       "    markdown: [ 'Test docker selenium?' ],\n",
       "    from: 12,\n",
       "    to: 13,\n",
       "    language: 'javascript',\n",
       "    id: 'What is Selenium.ipynb[7]',\n",
       "    filename: 'C:\\\\Users\\\\brian.cullinan\\\\Documents\\\\jupytangular2\\\\Selenium\\\\What is Selenium.ipynb',\n",
       "    questions: [ 'Test docker selenium' ],\n",
       "    notebook: 'What is Selenium.ipynb',\n",
       "    fresher: 'function testLive() {\\n    return client\\n        .url(\\'https://purchasesprint.actops.com\\')\\n        .click(\\'[href*=\"/auth\"], [routerlink*=\"/auth\"]\\');\\n}\\nmodule.exports = testLive();\\n\\n',\n",
       "    runInNewContext: [Function] },\n",
       "  { code: '$$.async();\\nvar path = require(\\'path\\');\\nif (process.platform === \\'win32\\') {\\n    var notebook = \\'How to install Docker on Windows.ipynb\\';\\n} else if (process.platform === \\'darwin\\') {\\n    var notebook = \\'How to install Docker on Mac.ipynb\\';\\n} else {\\n    $$.done(\\'docker not installed\\');\\n}',\n",
       "    markdown: \n",
       "     [ '# What is Docker?\\n\\nLets download and find out ;)\\n\\n## 1\\n[Download Docker](https://download.docker.com/win/stable/InstallDocker.msi)\\nand install then skip to step 2.\\n\\nFor Docker on Windows see [How to install Docker on Windows?](//How%20To%20install%20Docker%20on%20Windows?.ipynb)\\n\\nFor Docker on Mac see [How to install Docker on Mac?](//How%20To%20install%20Docker%20on%20Windows?.ipynb)\\n' ],\n",
       "    from: 1,\n",
       "    to: 2,\n",
       "    language: 'javascript',\n",
       "    id: 'docker demo.ipynb[0]',\n",
       "    filename: 'C:\\\\Users\\\\brian.cullinan\\\\Documents\\\\jupytangular2\\\\Docker\\\\docker demo.ipynb',\n",
       "    questions: \n",
       "     [ '# What is Docker',\n",
       "       'For Docker on Windows see [ install Docker on Windows](//How%20To%20install%20Docker%20on%20Windows.ipynb)',\n",
       "       'For Docker on Mac see [ install Docker on Mac](//How%20To%20install%20Docker%20on%20Windows.ipynb)' ],\n",
       "    notebook: 'docker demo.ipynb',\n",
       "    fresher: '$$.async();\\nvar path = require(\\'path\\');\\nif (process.platform === \\'win32\\') {\\n    var notebook = \\'How to install Docker on Windows.ipynb\\';\\n} else if (process.platform === \\'darwin\\') {\\n    var notebook = \\'How to install Docker on Mac.ipynb\\';\\n} else {\\n    $$.done(\\'docker not installed\\');\\n}',\n",
       "    runInNewContext: [Function] } ]"
      ]
     },
     "execution_count": 1,
     "metadata": {},
     "output_type": "execute_result"
    }
   ],
   "source": [
    "var importer = require('./Core');\n",
    "\n",
    "// search notebooks for keywords, return the top search result and the contextual markdown and code cells?\n",
    "\n",
    "var interpret = importer.interpret([\n",
    "    'docker selenium',\n",
    "    'docker vnc'\n",
    "]); // store loaded functions for later use\n",
    "\n",
    "$$.sendResult(interpret);\n",
    "\n"
   ]
  },
  {
   "cell_type": "markdown",
   "metadata": {},
   "source": [
    "That's it!  All code in this library can be accessed through these three methods.  Here are some search items to try out:\n",
    "\n",
    "* crawl search results using selenium docker vnc\n",
    "* build angular components\n",
    "* authenticate and search Google calendar\n",
    "\n"
   ]
  },
  {
   "cell_type": "markdown",
   "metadata": {},
   "source": [
    "# Format\n",
    "\n",
    "General notebook formatting is simple:\n",
    "\n",
    "Markdown cell: What question does this code set out to answer?\n",
    "\n",
    "```\n",
    "# How to use Docker?\n",
    "```\n",
    "\n",
    "Code cell: A short function with any necessary definition functions?\n",
    "```\n",
    "docker run <container-name>\n",
    "```\n",
    "\n",
    "Code cell: A test for the previous function.\n",
    "```\n",
    "docker run <container-name>\n",
    "if docker ps | grep <container-name> then; \\\n",
    "    echo \"container is running\"; \\\n",
    "else; \\\n",
    "    echo \"docker failed to start container\"; \\\n",
    "fi;\n",
    "```\n"
   ]
  },
  {
   "cell_type": "markdown",
   "metadata": {},
   "source": [
    "# Development\n",
    "\n",
    "Notebooks are intended to be runnable within the notebook, also runnable by other notebooks in the current context, and runnable as a remote service.  Code should be safe in all of these situations.\n",
    "\n"
   ]
  },
  {
   "cell_type": "code",
   "execution_count": 1,
   "metadata": {
    "collapsed": false,
    "inputHidden": false,
    "outputHidden": false
   },
   "outputs": [],
   "source": [
    "/*\n",
    "var importer = require('./Core')));\n",
    "\n",
    "$$.async();\n",
    "\n",
    "// don't do this\n",
    "Promise.all([\n",
    "    importer.importNotebook(n)\n",
    "    importer.importNotebook(n)\n",
    "    ]);\n",
    "\n",
    "// do this instead!\n",
    "runAllPromises([\n",
    "    importer.importNotebook(n)\n",
    "    importer.importNotebook(n)\n",
    "    ])\n",
    "*/\n",
    "\n"
   ]
  },
  {
   "cell_type": "code",
   "execution_count": null,
   "metadata": {
    "collapsed": false,
    "inputHidden": false,
    "outputHidden": false
   },
   "outputs": [],
   "source": [
    "/*\n",
    "provide a public function by returning function with name as output\n",
    "\n",
    "var import = () => {\n",
    "\n",
    "}\n",
    "\n",
    "// make this the last statement so the entire block can be imported easily\n",
    "(import);\n",
    "\n",
    "*/\n"
   ]
  },
  {
   "cell_type": "markdown",
   "metadata": {},
   "source": [
    "# Goals\n",
    "\n"
   ]
  },
  {
   "cell_type": "code",
   "execution_count": null,
   "metadata": {
    "collapsed": false,
    "inputHidden": false,
    "outputHidden": false
   },
   "outputs": [],
   "source": [
    "// expose functions as an express http service?\n",
    "\n",
    "// search services over http?"
   ]
  },
  {
   "cell_type": "code",
   "execution_count": null,
   "metadata": {
    "collapsed": false,
    "inputHidden": false,
    "outputHidden": false
   },
   "outputs": [],
   "source": [
    "// start a docker selenium in AWS?"
   ]
  },
  {
   "cell_type": "code",
   "execution_count": null,
   "metadata": {
    "collapsed": false,
    "inputHidden": false,
    "outputHidden": false
   },
   "outputs": [],
   "source": [
    "// incorporate angular components for UI/UX?"
   ]
  },
  {
   "cell_type": "code",
   "execution_count": null,
   "metadata": {
    "collapsed": false,
    "inputHidden": false,
    "outputHidden": false
   },
   "outputs": [],
   "source": [
    "// CodeOps. Automatic github feature branching and squashing in separate environments so the tree that looks right can be chosen. Linting, line-numbers on notebooks.  Automatic deploys for angular components with real HMR not this BS: https://webpack.github.io/docs/hot-module-replacement.html.  Monitor for files that change outside of project scope and automatically build the git index for the changes in that branch instead.\n",
    "\n",
    "// show a d3.cloud of import statements and require statements\n",
    "\n",
    "// show a word cloud for these notebooks\n",
    "\n"
   ]
  },
  {
   "cell_type": "code",
   "execution_count": null,
   "metadata": {
    "collapsed": false,
    "inputHidden": false,
    "outputHidden": false
   },
   "outputs": [],
   "source": []
  }
 ],
 "metadata": {
  "kernel_info": {
   "name": "node_nteract"
  },
  "kernelspec": {
   "display_name": "Javascript (Node.js)",
   "language": "javascript",
   "name": "javascript"
  },
  "language_info": {
   "file_extension": ".js",
   "mimetype": "application/javascript",
   "name": "javascript",
   "version": "8.8.1"
  }
 },
 "nbformat": 4,
 "nbformat_minor": 4
}
