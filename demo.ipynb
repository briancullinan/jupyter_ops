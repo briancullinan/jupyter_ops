{
 "cells": [
  {
   "cell_type": "markdown",
   "metadata": {},
   "source": [
    "# Usage\n",
    "\n",
    "This library of notebooks as 1 component that is not expressed in IPython notebooks and that is Core/index.js which handles the initial import.\n",
    "\n"
   ]
  },
  {
   "cell_type": "code",
   "execution_count": null,
   "metadata": {
    "inputHidden": false,
    "outputHidden": false
   },
   "outputs": [],
   "source": [
    "var importer = require('./Core');\n",
    "var express = importer.import('./Frameworks/node express.ipynb');\n",
    "\n",
    "// execute every cell and provide output functions as a service?\n",
    "$$.sendResult(express)\n"
   ]
  },
  {
   "cell_type": "code",
   "execution_count": null,
   "metadata": {
    "inputHidden": false,
    "outputHidden": false
   },
   "outputs": [],
   "source": [
    "var importer = require('./Core');\n",
    "\n",
    "// eval a cell in the current context?\n",
    "\n",
    "// performs cheap text based searching on cells\n",
    "var mountAndRewireAngular = importer.evalNotebook(\n",
    "    'Utilities/file system.ipynb', \n",
    "    'memory-fs' || 1); // use cheap search terms or the numeric code cell\n",
    "\n"
   ]
  },
  {
   "cell_type": "code",
   "execution_count": null,
   "metadata": {
    "inputHidden": false,
    "outputHidden": false
   },
   "outputs": [],
   "source": [
    "var importer = require('./Core');\n",
    "\n",
    "// search notebooks for keywords, return the top search result and the contextual markdown and code cells?\n",
    "\n",
    "var interpret = importer.interpret([\n",
    "    'docker selenium',\n",
    "    'docker vnc'\n",
    "]); // store loaded functions for later use\n",
    "\n",
    "$$.sendResult(interpret);\n",
    "\n"
   ]
  },
  {
   "cell_type": "markdown",
   "metadata": {},
   "source": [
    "That's it!  All code in this library can be accessed through these three methods.  Here are some search items to try out:\n",
    "\n",
    "* crawl search results using selenium docker vnc\n",
    "* build angular components\n",
    "* authenticate and search Google calendar\n",
    "\n"
   ]
  },
  {
   "cell_type": "markdown",
   "metadata": {},
   "source": [
    "# Format\n",
    "\n",
    "General notebook formatting is simple:\n",
    "\n",
    "Markdown cell: What question does this code set out to answer?\n",
    "\n",
    "```\n",
    "# How to use Docker?\n",
    "```\n",
    "\n",
    "Code cell: A short function with any necessary definition functions?\n",
    "```\n",
    "docker run <container-name>\n",
    "```\n",
    "\n",
    "Code cell: A test for the previous function.\n",
    "```\n",
    "docker run <container-name>\n",
    "if docker ps | grep <container-name> then; \\\n",
    "    echo \"container is running\"; \\\n",
    "else; \\\n",
    "    echo \"docker failed to start container\"; \\\n",
    "fi;\n",
    "```\n"
   ]
  },
  {
   "cell_type": "markdown",
   "metadata": {},
   "source": [
    "# Development\n",
    "\n",
    "Notebooks are intended to be runnable within the notebook, also runnable by other notebooks in the current context, and runnable as a remote service.  Code should be safe in all of these situations.\n",
    "\n"
   ]
  },
  {
   "cell_type": "code",
   "execution_count": null,
   "metadata": {
    "inputHidden": false,
    "outputHidden": false
   },
   "outputs": [],
   "source": [
    "/*\n",
    "var importer = require('./Core')));\n",
    "\n",
    "$$.async();\n",
    "\n",
    "// don't do this\n",
    "Promise.all([\n",
    "    importer.importNotebook(n)\n",
    "    importer.importNotebook(n)\n",
    "    ]);\n",
    "\n",
    "// do this instead!\n",
    "runAllPromises([\n",
    "    importer.importNotebook(n)\n",
    "    importer.importNotebook(n)\n",
    "    ])\n",
    "*/\n",
    "\n"
   ]
  },
  {
   "cell_type": "code",
   "execution_count": null,
   "metadata": {
    "inputHidden": false,
    "outputHidden": false
   },
   "outputs": [],
   "source": [
    "/*\n",
    "provide a public function by returning function with name as output\n",
    "\n",
    "var import = () => {\n",
    "\n",
    "}\n",
    "\n",
    "// make this the last statement so the entire block can be imported easily\n",
    "(import);\n",
    "\n",
    "*/\n"
   ]
  },
  {
   "cell_type": "markdown",
   "metadata": {},
   "source": [
    "# Goals\n",
    "\n"
   ]
  },
  {
   "cell_type": "code",
   "execution_count": null,
   "metadata": {
    "inputHidden": false,
    "outputHidden": false
   },
   "outputs": [],
   "source": [
    "// expose functions as an express http service?\n",
    "\n",
    "// search services over http?"
   ]
  },
  {
   "cell_type": "code",
   "execution_count": null,
   "metadata": {
    "inputHidden": false,
    "outputHidden": false
   },
   "outputs": [],
   "source": [
    "// start a docker selenium in AWS?"
   ]
  },
  {
   "cell_type": "code",
   "execution_count": null,
   "metadata": {
    "inputHidden": false,
    "outputHidden": false
   },
   "outputs": [],
   "source": [
    "// incorporate angular components for UI/UX?"
   ]
  },
  {
   "cell_type": "code",
   "execution_count": null,
   "metadata": {
    "inputHidden": false,
    "outputHidden": false
   },
   "outputs": [],
   "source": [
    "// CodeOps. Automatic github feature branching and squashing in separate environments so the tree that looks right can be chosen. Linting, line-numbers on notebooks.  Automatic deploys for angular components with real HMR not this BS: https://webpack.github.io/docs/hot-module-replacement.html.  Monitor for files that change outside of project scope and automatically build the git index for the changes in that branch instead.\n",
    "\n",
    "// show a d3.cloud of import statements and require statements\n",
    "\n",
    "// show a word cloud for these notebooks\n",
    "\n"
   ]
  },
  {
   "cell_type": "markdown",
   "metadata": {},
   "source": [
    "Install build stack on colab?\n"
   ]
  },
  {
   "cell_type": "code",
   "execution_count": null,
   "metadata": {
    "inputHidden": false,
    "outputHidden": false
   },
   "outputs": [],
   "source": [
    "!npm config set user 0\n",
    "!npm config set unsafe-perm true\n",
    "!npm install -g --unsafe-perm ijavascript zeromq node-gyp node-pre-gyp webpack\n",
    "!ijsinstall --install=global\n",
    "!jupyter-kernelspec list\n",
    "!apt-get install -yy git built-tools\n",
    "!rm -R /content/jupytangular/ || true\n",
    "!mkdir /content/jupytangular\n",
    "!ln -s /content/jupytangular /Core || true\n",
    "!git init /content/jupytangular\n",
    "!cd jupytangular && git remote add origin https://:@bitbucket.org/megamindbrian/jupyter_ops.git\n",
    "!cd jupytangular && git fetch\n",
    "!cd jupytangular && git reset --hard origin/master\n",
    "!cd jupytangular && git pull origin master\n",
    "!cd jupytangular && npm install && npm run test && npm run build"
   ]
  },
  {
   "cell_type": "markdown",
   "metadata": {},
   "source": [
    "update notebook repo on colab?\n",
    "\n"
   ]
  },
  {
   "cell_type": "code",
   "execution_count": null,
   "metadata": {
    "inputHidden": false,
    "outputHidden": false
   },
   "outputs": [],
   "source": [
    "!rm -R /content/jupytangular/node_modules || true\n",
    "!cd jupytangular && git reset --hard && git pull --rebase origin master\n",
    "!cd jupytangular && npm install\n"
   ]
  }
 ],
 "metadata": {
  "kernel_info": {
   "name": "javascript"
  },
  "kernelspec": {
   "display_name": "Javascript (Node.js)",
   "language": "javascript",
   "name": "javascript"
  },
  "language_info": {
   "file_extension": ".js",
   "mimetype": "application/javascript",
   "name": "javascript",
   "version": "10.16.0"
  }
 },
 "nbformat": 4,
 "nbformat_minor": 1
}
