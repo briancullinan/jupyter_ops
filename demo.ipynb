{
  "cells": [
    {
      "cell_type": "markdown",
      "source": [
        "# Usage\n",
        "\n",
        "This library of notebooks as 1 component that is not expressed in IPython notebooks and that is Core/index.js which handles the initial import.\n",
        "\n"
      ],
      "metadata": {}
    },
    {
      "cell_type": "code",
      "source": [
        "var importer = require('./Core');\n",
        "\n",
        "// execute every cell and provide output functions as a service?\n",
        "\n",
        "$$.async();\n",
        "importer.importNotebook('./Frameworks/node express.ipynb')\n",
        "    .then(r => $$.sendResult(r))\n",
        "    .catch(e => $$.sendError(e));\n",
        "\n"
      ],
      "outputs": [],
      "execution_count": null,
      "metadata": {
        "collapsed": false,
        "outputHidden": false,
        "inputHidden": false
      }
    },
    {
      "cell_type": "code",
      "source": [
        "var importer = require('./Core');\n",
        "\n",
        "// eval a cell in the current context?\n",
        "\n",
        "// performs cheap text based searching on cells\n",
        "var mountAndRewireAngular = importer.evalNotebook(\n",
        "    'Utilities/file system.ipynb', \n",
        "    'memory-fs' || 1); // use cheap search terms or the numeric code cell\n",
        "\n"
      ],
      "outputs": [],
      "execution_count": null,
      "metadata": {
        "collapsed": false,
        "outputHidden": false,
        "inputHidden": false
      }
    },
    {
      "cell_type": "code",
      "source": [
        "var importer = require('./Core');\n",
        "\n",
        "// search notebooks for keywords, return the top search result and the contextual markdown and code cells?\n",
        "\n",
        "var interpret; // store loaded functions for later use\n",
        "importer.interpretAll([\n",
        "    'docker selenium',\n",
        "    'docker vnc'\n",
        "]).then(r => $$.sendResult(r))\n",
        "    .catch(e => $$.sendError(e));\n",
        "\n"
      ],
      "outputs": [],
      "execution_count": 1,
      "metadata": {
        "collapsed": false,
        "outputHidden": false,
        "inputHidden": false
      }
    },
    {
      "cell_type": "markdown",
      "source": [
        "That's it!  All code in this library can be accessed through these three methods.  Here are some search items to try out:\n",
        "\n",
        "* crawl search results using selenium docker vnc\n",
        "* build angular components\n",
        "* authenticate and search Google calendar\n",
        "\n"
      ],
      "metadata": {}
    },
    {
      "cell_type": "markdown",
      "source": [
        "# Format\n",
        "\n",
        "General notebook formatting is simple:\n",
        "\n",
        "Markdown cell: What question does this code set out to answer?\n",
        "\n",
        "```\n",
        "# How to use Docker?\n",
        "```\n",
        "\n",
        "Code cell: A short function with any necessary definition functions?\n",
        "```\n",
        "docker run <container-name>\n",
        "```\n",
        "\n",
        "Code cell: A test for the previous function.\n",
        "```\n",
        "docker run <container-name>\n",
        "if docker ps | grep <container-name> then; \\\n",
        "    echo \"container is running\"; \\\n",
        "else; \\\n",
        "    echo \"docker failed to start container\"; \\\n",
        "fi;\n",
        "```\n"
      ],
      "metadata": {}
    },
    {
      "cell_type": "markdown",
      "source": [
        "# Development\n",
        "\n",
        "Notebooks are intended to be runnable within the notebook, also runnable by other notebooks in the current context, and runnable as a remote service.  Code should be safe in all of these situations.\n",
        "\n"
      ],
      "metadata": {}
    },
    {
      "cell_type": "code",
      "source": [
        "/*\n",
        "var importer = require('./Core')));\n",
        "\n",
        "$$.async();\n",
        "\n",
        "// don't do this\n",
        "Promise.all([\n",
        "    importer.importNotebook(n)\n",
        "    importer.importNotebook(n)\n",
        "    ]);\n",
        "\n",
        "// do this instead!\n",
        "runAllPromises([\n",
        "    importer.importNotebook(n)\n",
        "    importer.importNotebook(n)\n",
        "    ])\n",
        "*/\n",
        "\n"
      ],
      "outputs": [],
      "execution_count": 1,
      "metadata": {
        "collapsed": false,
        "inputHidden": false,
        "outputHidden": false
      }
    },
    {
      "cell_type": "code",
      "source": [
        "/*\n",
        "provide a public function by returning function with name as output\n",
        "\n",
        "var import = () => {\n",
        "\n",
        "}\n",
        "\n",
        "// make this the last statement so the entire block can be imported easily\n",
        "(import);\n",
        "\n",
        "*/\n"
      ],
      "outputs": [],
      "execution_count": null,
      "metadata": {
        "collapsed": false,
        "outputHidden": false,
        "inputHidden": false
      }
    },
    {
      "cell_type": "markdown",
      "source": [
        "# Goals\n",
        "\n"
      ],
      "metadata": {}
    },
    {
      "cell_type": "code",
      "source": [
        "// expose functions as an express http service?\n",
        "\n// search services over http?"
      ],
      "outputs": [],
      "execution_count": null,
      "metadata": {
        "collapsed": false,
        "inputHidden": false,
        "outputHidden": false
      }
    },
    {
      "cell_type": "code",
      "source": [
        "// start a docker selenium in AWS?"
      ],
      "outputs": [],
      "execution_count": null,
      "metadata": {
        "collapsed": false,
        "inputHidden": false,
        "outputHidden": false
      }
    },
    {
      "cell_type": "code",
      "source": [
        "// incorporate angular components for UI/UX?"
      ],
      "outputs": [],
      "execution_count": null,
      "metadata": {
        "collapsed": false,
        "inputHidden": false,
        "outputHidden": false
      }
    },
    {
      "cell_type": "code",
      "source": [],
      "outputs": [],
      "execution_count": null,
      "metadata": {
        "collapsed": false,
        "inputHidden": false,
        "outputHidden": false
      }
    }
  ],
  "metadata": {
    "kernel_info": {
      "name": "node_nteract"
    },
    "kernelspec": {
      "name": "node_nteract",
      "language": "javascript",
      "display_name": "Node.js (nteract)"
    },
    "language_info": {
      "name": "javascript",
      "version": "6.5.0",
      "mimetype": "application/javascript",
      "file_extension": ".js"
    }
  },
  "nbformat": 4,
  "nbformat_minor": 4
}