{
  "cells": [
    {
      "cell_type": "markdown",
      "source": [
        "# What is Docker?\n",
        "\n",
        "Lets download and find out ;)\n",
        "\n",
        "## 1\n",
        "[Download Docker](https://download.docker.com/win/stable/InstallDocker.msi)\n",
        "and install then skip to step 2.\n",
        "\n",
        "For Docker on Windows see [How to install Docker on Windows?](//How%20To%20install%20Docker%20on%20Windows?.ipynb)\n",
        "\n",
        "For Docker on Mac see [How to install Docker on Mac?](//How%20To%20install%20Docker%20on%20Windows?.ipynb)\n"
      ],
      "metadata": {}
    },
    {
      "cell_type": "code",
      "source": [
        "$$.async();\n",
        "var path = require('path');\n",
        "if (process.platform === 'win32') {\n",
        "    var notebook = 'How to install Docker on Windows.ipynb';\n",
        "} else if (process.platform === 'darwin') {\n",
        "    var notebook = 'How to install Docker on Mac.ipynb';\n",
        "} else {\n",
        "    $$.done('docker not installed');\n",
        "}"
      ],
      "outputs": [
        {
          "output_type": "error",
          "ename": "ReferenceError",
          "evalue": "runNotebook is not defined",
          "traceback": [
            "ReferenceError: runNotebook is not defined",
            "    at evalmachine.<anonymous>:7:5",
            "    at ContextifyScript.Script.runInThisContext (vm.js:25:33)",
            "    at Object.exports.runInThisContext (vm.js:77:17)",
            "    at run ([eval]:613:19)",
            "    at onRunRequest ([eval]:384:22)",
            "    at onMessage ([eval]:352:17)",
            "    at emitTwo (events.js:106:13)",
            "    at process.emit (events.js:191:7)",
            "    at process.nextTick (internal/child_process.js:744:12)",
            "    at _combinedTickCallback (internal/process/next_tick.js:67:7)"
          ]
        }
      ],
      "execution_count": 6,
      "metadata": {
        "collapsed": false,
        "outputHidden": false,
        "inputHidden": false
      }
    },
    {
      "cell_type": "markdown",
      "source": [
        "Create a Docker container with some dev tools:\n",
        "* selenium (xvfb, x11vnc, novnc, mocha)\n",
        "* source code (git, act.ecommerce, angular-cli)\n",
        "\nStart from the selenium-chrome-debug image"
      ],
      "metadata": {}
    },
    {
      "cell_type": "code",
      "source": [
        "// check if there is a local-npm server running on Brian's machine\n",
        "http.get('http://SCO-100001269.ad.swiftpage.com:5080', (r) => {\n",
        "    if (r.statusCode === 200) {\n",
        "        console.log('local-npm found!');\n",
        "    }\n",
        "}).on('error', (e) => {\n",
        "});\n",
        "\n"
      ],
      "outputs": [
        {
          "output_type": "stream",
          "name": "stdout",
          "text": [
            "{ Error: getaddrinfo ENOTFOUND sco-100001269.ad.swiftpage.com sco-100001269.ad.swiftpage.com:5080\n",
            "    at errnoException (dns.js:28:10)\n",
            "    at GetAddrInfoReqWrap.onlookup [as oncomplete] (dns.js:76:26)\n",
            "  code: 'ENOTFOUND',\n",
            "  errno: 'ENOTFOUND',\n",
            "  syscall: 'getaddrinfo',\n",
            "  hostname: 'sco-100001269.ad.swiftpage.com',\n",
            "  host: 'sco-100001269.ad.swiftpage.com',\n",
            "  port: '5080' }\n"
          ]
        },
        {
          "output_type": "execute_result",
          "execution_count": 1,
          "data": {
            "text/plain": [
              "'saved Dockerfile'"
            ]
          },
          "metadata": {}
        }
      ],
      "execution_count": 1,
      "metadata": {
        "collapsed": false,
        "outputHidden": false,
        "inputHidden": false
      }
    },
    {
      "cell_type": "markdown",
      "source": [
        "## 2\n",
        "\nCreate a Docker file and project directory."
      ],
      "metadata": {}
    },
    {
      "cell_type": "markdown",
      "source": [
        "## 3\n",
        "Build the Docker image"
      ],
      "metadata": {}
    },
    {
      "cell_type": "markdown",
      "source": [
        "## 4\n",
        "\nRun your Docker container"
      ],
      "metadata": {
        "collapsed": false,
        "outputHidden": false,
        "inputHidden": false
      }
    }
  ],
  "metadata": {
    "kernelspec": {
      "name": "node_nteract",
      "language": "javascript",
      "display_name": "Node.js (nteract)"
    },
    "kernel_info": {
      "name": "node_nteract"
    },
    "language_info": {
      "name": "javascript",
      "version": "6.5.0",
      "mimetype": "application/javascript",
      "file_extension": ".js"
    }
  },
  "nbformat": 4,
  "nbformat_minor": 4
}