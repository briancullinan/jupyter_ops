{
  "cells": [
    {
      "cell_type": "markdown",
      "source": [
        "# What is Docker?\n",
        "\n",
        "Lets download and find out ;)\n",
        "\n",
        "## 1\n",
        "[Download Docker](https://download.docker.com/win/stable/InstallDocker.msi)\n",
        "and install then skip to step 2.\n",
        "\n",
        "For Docker on Windows see [How to install Docker on Windows?](//How%20To%20install%20Docker%20on%20Windows?.ipynb)\n",
        "\n",
        "For Docker on Mac see [How to install Docker on Mac?](//How%20To%20install%20Docker%20on%20Windows?.ipynb)\n"
      ],
      "metadata": {}
    },
    {
      "cell_type": "code",
      "source": [
        "$$.async();\n",
        "var path = require('path');\n",
        "if (process.platform === 'win32') {\n",
        "    var notebook = 'How to install Docker on Windows.ipynb';\n",
        "} else if (process.platform === 'darwin') {\n",
        "    var notebook = 'How to install Docker on Mac.ipynb';\n",
        "} else {\n",
        "    $$.done('docker not installed');\n",
        "}"
      ],
      "outputs": [
        {
          "output_type": "error",
          "ename": "ReferenceError",
          "evalue": "runNotebook is not defined",
          "traceback": [
            "ReferenceError: runNotebook is not defined",
            "    at evalmachine.<anonymous>:7:5",
            "    at ContextifyScript.Script.runInThisContext (vm.js:25:33)",
            "    at Object.exports.runInThisContext (vm.js:77:17)",
            "    at run ([eval]:613:19)",
            "    at onRunRequest ([eval]:384:22)",
            "    at onMessage ([eval]:352:17)",
            "    at emitTwo (events.js:106:13)",
            "    at process.emit (events.js:191:7)",
            "    at process.nextTick (internal/child_process.js:744:12)",
            "    at _combinedTickCallback (internal/process/next_tick.js:67:7)"
          ]
        }
      ],
      "execution_count": 6,
      "metadata": {
        "collapsed": false,
        "outputHidden": false,
        "inputHidden": false
      }
    },
    {
      "cell_type": "markdown",
      "source": [
        "Create a Docker container with some dev tools:\n",
        "* selenium (xvfb, x11vnc, novnc, mocha)\n",
        "* source code (git, act.ecommerce, angular-cli)\n",
        "\nStart from the selenium-chrome-debug image"
      ],
      "metadata": {}
    },
    {
      "cell_type": "code",
      "source": [
        "$$.async();\n",
        "var path = require('path');\n",
        "var dockerfilePath = path.join(process.cwd(), 'selenium-act', 'Dockerfile');\n",
        "var fs = require('fs');\n",
        "\n",
        "var aptPart = `\n",
        "FROM selenium/standalone-chrome-debug\n",
        "\n",
        "RUN apt-get -qq update\n",
        "RUN apt-get install -y --fix-missing git curl wget zip unzip vim dos2unix g++ python net-tools make \n",
        "RUN wget -O - https://deb.nodesource.com/setup_7.x | bash\n",
        "RUN apt-get install -y nodejs\n",
        "RUN nodejs -v\n",
        "\n",
        "`;\n",
        "\n",
        "var nodePart = `\n",
        "\n",
        "ENV NODE_TLS_REJECT_UNAUTHORIZED 0\n",
        "RUN npm install -g live-server babel-cli concurrently node-gyp nativescript@latest\n",
        "\n",
        "COPY act.ecommerce /home/seluser/act.ecommerce\n",
        "COPY selenium /home/seluser/selenium\n",
        "ADD novnc /home/seluser/novnc\n",
        "\n",
        "WORKDIR /home/seluser/act.ecommerce\n",
        "RUN npm install\n",
        "RUN npm run build\n",
        "\n",
        "WORKDIR /home/seluser/selenium/ecommerce\n",
        "RUN npm install\n",
        "\n",
        "WORKDIR /home/seluser/\n",
        "# modify the entry_point from selenium-docker to run our extra services\n",
        "RUN dos2unix /home/seluser/novnc/utils/launch.sh\n",
        "RUN sed -i '/wait \\$NODE_PID/i/home/seluser/novnc/utils/launch.sh --vnc localhost:5900 &' /opt/bin/entry_point.sh\n",
        "RUN sed -i '/wait \\$NODE_PID/inpm --prefix /home/seluser/selenium/ecommerce run static &' /opt/bin/entry_point.sh\n",
        "\n",
        "EXPOSE 4200\n",
        "EXPOSE 4444\n",
        "EXPOSE 3000\n",
        "\n",
        "`;\n",
        "var output = aptPart + nodePart;\n",
        "var http = require('http');\n",
        "// check if there is a local-npm server running on Brian's machine\n",
        "http.get('http://SCO-100001269.ad.swiftpage.com:5080', (r) => {\n",
        "    if (r.statusCode === 200) {\n",
        "        console.log('local-npm found!');\n",
        "        output = aptPart + `\n",
        "RUN npm config set proxy http://sco-100001269.ad.swiftpage.com:8080\n",
        "RUN npm config set proxy http://sco-100001269.ad.swiftpage.com:8080\n",
        "RUN npm config set registry http://sco-100001269.ad.swiftpage.com:5080\n",
        "RUN npm config set strict-ssl false\n",
        "` + nodePart;\n",
        "    }\n",
        "    fs.writeFile(dockerfilePath, output, function () {\n",
        "        $$.done('saved Dockerfile');\n",
        "    });\n",
        "}).on('error', (e) => {\n",
        "    fs.writeFile(dockerfilePath, output, function () {\n",
        "        $$.done('saved Dockerfile');\n",
        "    });\n",
        "});\n",
        "\n"
      ],
      "outputs": [
        {
          "output_type": "stream",
          "name": "stdout",
          "text": [
            "{ Error: getaddrinfo ENOTFOUND sco-100001269.ad.swiftpage.com sco-100001269.ad.swiftpage.com:5080\n",
            "    at errnoException (dns.js:28:10)\n",
            "    at GetAddrInfoReqWrap.onlookup [as oncomplete] (dns.js:76:26)\n",
            "  code: 'ENOTFOUND',\n",
            "  errno: 'ENOTFOUND',\n",
            "  syscall: 'getaddrinfo',\n",
            "  hostname: 'sco-100001269.ad.swiftpage.com',\n",
            "  host: 'sco-100001269.ad.swiftpage.com',\n",
            "  port: '5080' }\n"
          ]
        },
        {
          "output_type": "execute_result",
          "execution_count": 1,
          "data": {
            "text/plain": [
              "'saved Dockerfile'"
            ]
          },
          "metadata": {}
        }
      ],
      "execution_count": 1,
      "metadata": {
        "collapsed": false,
        "outputHidden": false,
        "inputHidden": false
      }
    },
    {
      "cell_type": "markdown",
      "source": [
        "## 2\n",
        "\nCreate a Docker file and project directory."
      ],
      "metadata": {}
    },
    {
      "cell_type": "code",
      "source": [
        "$$.async();\n",
        "var path = require('path');\n",
        "var notebook = path.join(process.cwd(), 'What repositories do we need.ipynb');\n",
        "runNotebook(notebook, () => {\n",
        "    $$.done('executed notebook ' + notebook);\n",
        "});"
      ],
      "outputs": [],
      "execution_count": null,
      "metadata": {
        "collapsed": false,
        "outputHidden": false,
        "inputHidden": false
      }
    },
    {
      "cell_type": "markdown",
      "source": [
        "## 3\n",
        "Build the Docker image"
      ],
      "metadata": {}
    },
    {
      "cell_type": "markdown",
      "source": [
        "## 4\n",
        "\nRun your Docker container"
      ],
      "metadata": {
        "collapsed": false,
        "outputHidden": false,
        "inputHidden": false
      }
    },
    {
      "cell_type": "code",
      "source": [
        "var exec = require('child_process').execSync;\n",
        "exec('docker ps').toString();"
      ],
      "outputs": [
        {
          "output_type": "execute_result",
          "execution_count": 2,
          "data": {
            "text/plain": [
              "'CONTAINER ID        IMAGE               COMMAND             CREATED             STATUS              PORTS               NAMES\\n'"
            ]
          },
          "metadata": {}
        }
      ],
      "execution_count": 2,
      "metadata": {
        "collapsed": false,
        "outputHidden": false,
        "inputHidden": false
      }
    },
    {
      "cell_type": "code",
      "source": [
        "$$.async();\n",
        "setTimeout(() => {\n",
        "\n",
        "}, 6000);\n",
        "\n"
      ],
      "outputs": [],
      "execution_count": 5,
      "metadata": {
        "collapsed": false,
        "outputHidden": false,
        "inputHidden": false
      }
    }
  ],
  "metadata": {
    "kernelspec": {
      "name": "node_nteract",
      "language": "javascript",
      "display_name": "Node.js (nteract)"
    },
    "kernel_info": {
      "name": "node_nteract"
    },
    "language_info": {
      "name": "javascript",
      "version": "6.5.0",
      "mimetype": "application/javascript",
      "file_extension": ".js"
    }
  },
  "nbformat": 4,
  "nbformat_minor": 4
}