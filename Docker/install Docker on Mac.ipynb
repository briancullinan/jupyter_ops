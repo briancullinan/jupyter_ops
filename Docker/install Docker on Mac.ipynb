{
 "cells": [
  {
   "cell_type": "markdown",
   "metadata": {},
   "source": [
    "# How to install Docker on Mac?\n",
    "\n",
    "[Download Docker](https://download.docker.com/owx/stable/InstallDocker.dmg)\n",
    "and install then skip to step 3.\n",
    "\n",
    "## 1\n",
    "\n",
    "Is Docker already installed?\n"
   ]
  },
  {
   "cell_type": "code",
   "execution_count": 4,
   "metadata": {
    "collapsed": false,
    "inputHidden": false,
    "outputHidden": false
   },
   "outputs": [
    {
     "data": {
      "text/plain": [
       "'Docker is already installed'"
      ]
     },
     "execution_count": 4,
     "metadata": {},
     "output_type": "execute_result"
    }
   ],
   "source": [
    "$$.async();\r",
    "var exec = require('child_process').exec;\r",
    "var installed = false;\r",
    "var docker = exec('docker ps', (err, stdout, stderr) => {\r",
    "    if (stdout.indexOf('not found') > -1) {\r",
    "        $$.done('Docker not found, installing');\r",
    "    } else {\r",
    "        installed = true;\r",
    "        $$.done('Docker is already installed');\r",
    "    }\r",
    "});\r",
    ""
   ]
  },
  {
   "cell_type": "markdown",
   "metadata": {},
   "source": [
    "Where do I download docker?"
   ]
  },
  {
   "cell_type": "raw",
   "metadata": {
    "inputHidden": false,
    "outputHidden": false
   },
   "source": [
    "curl -sL http://git.io/vsk46 | \\\n",
    "    sed -e \"s?{{docker-machine}}?$(which docker-machine)?\" \\\n",
    "        -e \"s?{{user-path}}?$(echo $PATH)?\" \\\n",
    "    >~/Library/LaunchAgents/com.docker.machine.default.plist && \\\n",
    "    launchctl load ~/Library/LaunchAgents/com.docker.machine.default.plist\n"
   ]
  },
  {
   "cell_type": "markdown",
   "metadata": {},
   "source": [
    "What other tools do I need?\n",
    "\n",
    "Install XCode, nodejs, and Docker with elevated."
   ]
  },
  {
   "cell_type": "code",
   "execution_count": 5,
   "metadata": {
    "collapsed": false,
    "inputHidden": false,
    "outputHidden": false
   },
   "outputs": [
    {
     "name": "stdout",
     "output_type": "stream",
     "text": [
      "jupytangular2@ /Users/briancullinan/jupytangular2\n",
      "+-- JSONStream@1.3.1 \n",
      "`-- rimraf@2.6.1 \n",
      "\n",
      "\n"
     ]
    },
    {
     "data": {
      "text/plain": [
       "'installed basic node utilities, rimraf, JSONStream, etc'"
      ]
     },
     "execution_count": 5,
     "metadata": {},
     "output_type": "execute_result"
    }
   ],
   "source": [
    "$$.async();\r",
    "//  /usr/bin/osascript -e 'do shell script \"/path/to/myscript args 2>&1 etc\" with administrator privileges'\r",
    "var exec = require('child_process').exec;\r",
    "var installCmd = exec('npm install rimraf JSONStream', () => {\r",
    "    $$.done('installed basic node utilities, rimraf, JSONStream, etc');\r",
    "});\r",
    "installCmd.stdout.on('data', (d) => console.log(d));\r",
    "installCmd.stderr.on('data', (d) => console.log(d));\r",
    ""
   ]
  }
 ],
 "metadata": {
  "kernel_info": {
   "name": "node_nteract"
  },
  "kernelspec": {
   "display_name": "Javascript (Node.js)",
   "language": "javascript",
   "name": "javascript"
  },
  "language_info": {
   "file_extension": ".js",
   "mimetype": "application/javascript",
   "name": "javascript",
   "version": "8.6.0"
  }
 },
 "nbformat": 4,
 "nbformat_minor": 4
}