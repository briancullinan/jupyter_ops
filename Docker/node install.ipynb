{
 "cells": [
  {
   "cell_type": "markdown",
   "metadata": {},
   "source": [
    "# How to use nodejs?\n",
    "\n",
    "How to install node on Linux?\n",
    "\n"
   ]
  },
  {
   "cell_type": "code",
   "execution_count": null,
   "metadata": {
    "collapsed": false,
    "inputHidden": false,
    "outputHidden": false
   },
   "outputs": [],
   "source": [
    "wget -O - https://deb.nodesource.com/setup_8.x | bash\n",
    "apt-get install -y nodejs\n",
    "nodejs -v\n",
    "\n",
    "env NODE_TLS_REJECT_UNAUTHORIZED 0\n",
    "npm install -g live-server babel-cli concurrently node-gyp nativescript@latest\n"
   ]
  },
  {
   "cell_type": "markdown",
   "metadata": {},
   "source": [
    "Install dev tools on Linux?"
   ]
  },
  {
   "cell_type": "code",
   "execution_count": null,
   "metadata": {
    "collapsed": false,
    "inputHidden": false,
    "outputHidden": false
   },
   "outputs": [],
   "source": [
    "mkdir /var/lib/apt/lists/partial\n",
    "apt-get -qq update\n",
    "apt-get install -y --fix-missing git curl wget zip unzip vim dos2unix g++ python net-tools make websockify novnc \n",
    "\n"
   ]
  },
  {
   "cell_type": "code",
   "execution_count": null,
   "metadata": {},
   "outputs": [],
   "source": [
    "FROM php:7.0-apache\n",
    "\n",
    "RUN apt-get update && apt-get install -y \\\n",
    "        libfreetype6-dev \\\n",
    "        libjpeg62-turbo-dev \\\n",
    "        libmcrypt-dev \\\n",
    "        libpng12-dev \\\n",
    "    && docker-php-ext-install -j$(nproc) iconv mcrypt \\\n",
    "    && docker-php-ext-configure gd --with-freetype-dir=/usr/include/ --with-jpeg-dir=/usr/include/ \\\n",
    "    && docker-php-ext-install -j$(nproc) gd\n",
    "RUN curl -sS https://getcomposer.org/installer | php -- --install-dir=/usr/local/bin --filename=composer\n",
    "\n",
    "RUN rm -rf /var/www/html/logs/* \\\n",
    "    && chown -R www-data:www-data /var/www/html\n",
    "\n",
    "RUN a2enmod ssl\n",
    "RUN a2enmod rewrite\n",
    "\n",
    "RUN openssl req -x509 -nodes -days 365 -newkey rsa:2048 -subj \"/C=UK/ST=Warwickshire/L=Leamington/O=OrgName/OU=IT Department/CN=SCO-100001269.ad.swiftpage.com\" -keyout /etc/ssl/private/mysitename.key -out /etc/ssl/private/mysitename.crt\n",
    "\n",
    "COPY ./web /var/www/html\n",
    "COPY ./site.conf.ini /etc/apache2/sites-enabled/000-default.conf\n",
    "\n",
    "COPY chain.crt /etc/ssl/private/\n",
    "COPY TrustedRoot.crt /etc/ssl/private/\n",
    "\n",
    "ENV APACHE_RUN_USER www-data\n",
    "ENV APACHE_RUN_GROUP www-data\n",
    "ENV APACHE_LOG_DIR /var/log/apache2\n",
    "ENV APACHE_PID_FILE /var/run/apache2.pid\n",
    "ENV APACHE_RUN_DIR /var/run/apache2\n",
    "ENV APACHE_LOCK_DIR /var/lock/apache2\n",
    "\n",
    "RUN echo \"ServerName SCO-100001269.ad.swiftpage.com\" >> /etc/apache2/apache2.conf\n",
    "RUN mkdir -p $APACHE_RUN_DIR $APACHE_LOCK_DIR $APACHE_LOG_DIR\n",
    "\n",
    "\n",
    "\n",
    "\n"
   ]
  }
 ],
 "metadata": {
  "kernel_info": {
   "name": "bash"
  },
  "kernelspec": {
   "display_name": "Bash",
   "language": "bash",
   "name": "bash"
  },
  "language_info": {
   "codemirror_mode": "shell",
   "file_extension": ".sh",
   "mimetype": "text/x-sh",
   "name": "bash"
  }
 },
 "nbformat": 4,
 "nbformat_minor": 4
}
