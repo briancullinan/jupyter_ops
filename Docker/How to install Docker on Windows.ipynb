{
  "cells": [
    {
      "cell_type": "markdown",
      "source": [
        "# How to install Docker on Windows?\n",
        "\n",
        "[Download Docker](https://download.docker.com/win/stable/InstallDocker.msi)\n",
        "and install then skip to step 3.\n",
        "\n",
        "## 1\n",
        "\n",
        "Is Docker already installed?\n"
      ],
      "metadata": {}
    },
    {
      "cell_type": "code",
      "source": [
        "$$.async();\n",
        "var exec = require('child_process').exec;\n",
        "var installed = false;\n",
        "var docker = exec('docker ps', function (err, stdout, stderr) {\n",
        "    if (stdout.indexOf('not found') > -1) {\n",
        "        $$.done('Docker not found, installing');\n",
        "    } else {\n",
        "        installed = true;\n",
        "        $$.done('Docker is already installed');\n",
        "    }\n",
        "});\n",
        "\n"
      ],
      "outputs": [],
      "execution_count": null,
      "metadata": {
        "collapsed": false,
        "outputHidden": false,
        "inputHidden": false
      }
    },
    {
      "cell_type": "markdown",
      "source": [
        "## 2\n",
        "\n",
        "How do I installed elevated from the command line?\n"
      ],
      "metadata": {}
    },
    {
      "cell_type": "code",
      "source": [
        "$$.async();\n",
        "var exec = require('child_process').exec;\n",
        "var http = require('https');\n",
        "var fs = require('fs');\n",
        "var elevateLoc = path.join(process.cwd(), 'elevate.zip');\n",
        "var expandedLoc = path.join(process.cwd(), 'elevate');\n",
        "http.get('https://github.com/jpassing/elevate/releases/download/1.0/elevate.zip', (r) => {\n",
        "    http.get(r.headers['location'], (r) => {\n",
        "        r.pipe(fs.createWriteStream(elevateLoc)).on('finish', () => {\n",
        "            var expand = exec('powershell -c \"Expand-Archive -Force ' + elevateLoc + ' ' + expandedLoc + '\"', () => {\n",
        "                $$$.done('downloaded and extracted elevate.exec');\n",
        "            });\n",
        "            expand.stdout.on('data', (d) => console.log(d));\n",
        "            expand.stderr.on('data', (d) => console.log(d));\n",
        "        });\n",
        "    });\n",
        "});\n",
        "\n"
      ],
      "outputs": [],
      "execution_count": null,
      "metadata": {
        "collapsed": false,
        "outputHidden": false,
        "inputHidden": false
      }
    },
    {
      "cell_type": "markdown",
      "source": [
        "Where do I download the Windows Docker installer?"
      ],
      "metadata": {}
    },
    {
      "cell_type": "code",
      "source": [
        "$$.async();\n",
        "var exec = require('child_process').exec;\n",
        "var http = require('https');\n",
        "var fs = require('fs');\n",
        "var dockerLoc = path.join(process.cwd(), 'InstallDocker.msi');\n",
        "var downloads = http.get('https://download.docker.com/win/stable/InstallDocker.msi', (r) => {\n",
        "    r.pipe(fs.createWriteStream(dockerLoc)).on('finish', () => {\n",
        "        $$.done('downloaded InstallDocker.msi');\n",
        "    });\n",
        "});\n"
      ],
      "outputs": [],
      "execution_count": null,
      "metadata": {
        "collapsed": false,
        "outputHidden": false,
        "inputHidden": false
      }
    },
    {
      "cell_type": "markdown",
      "source": [
        "How do I install elevated using msiexec?\n",
        "\n",
        "How do I fix the firewall for Docker?\n"
      ],
      "metadata": {}
    },
    {
      "cell_type": "code",
      "source": [
        "$$.async();\n",
        "var elevateExecLoc = path.join(process.cwd(), 'elevate', 'bin', 'x86', 'Release', 'elevate.exe');\n",
        "var firewallCmd = 'New-NetFirewallRule -DisplayName \\\\\"docker engine\\\\\" -Direction Inbound -Action Allow -Protocol tcp -LocalPort 2375';\n",
        "var networkCmd = 'Set-NetConnectionProfile -InterfaceAlias \\\\\"vEthernet (DockerNAT)\\\\\" -NetworkCategory Private';\n",
        "var exec = require('child_process').exec;\n",
        "var install = exec(elevateExecLoc + ' msiexec /i ' + dockerLoc + ' /qn /L*V! ' + logLoc, () => {\n",
        "    var firewall = exec(elevateExecLoc + ' powershell -c \"' + firewallCmd + ' ; ' + networkCmd + '\"', () => {\n",
        "        $$.done('installed Docker');\n",
        "    });\n",
        "    install.stdout.on('data', (d) => console.log(d));\n",
        "    install.stderr.on('data', (d) => console.log(d));\n",
        "});\n",
        "install.stdout.on('data', (d) => console.log(d));\n",
        "install.stderr.on('data', (d) => console.log(d));\n",
        "\n #@FOR /f \"tokens=*\" %i IN ('docker-machine env default') DO @%i"
      ],
      "outputs": [],
      "execution_count": null,
      "metadata": {
        "collapsed": false,
        "outputHidden": false,
        "inputHidden": false
      }
    },
    {
      "cell_type": "markdown",
      "source": [
        "How to install build tools on Windows?\n",
        "\n"
      ],
      "metadata": {}
    },
    {
      "cell_type": "code",
      "source": [
        "var npmCmd = 'npm install --global --production --unsafe-perm nativescript windows-build-tools';\n",
        "var firewall = exec(elevateExecLoc + ' powershell -c \"' + npmCmd + ' ; ' + networkCmd + '\"', () => {\n",
        "        $$.done('npm build tools installed');\n",
        "    });"
      ],
      "outputs": [],
      "execution_count": null,
      "metadata": {
        "collapsed": false,
        "outputHidden": false,
        "inputHidden": false
      }
    }
  ],
  "metadata": {
    "kernelspec": {
      "name": "node_nteract",
      "language": "javascript",
      "display_name": "Node.js (nteract)"
    },
    "kernel_info": {
      "name": "node_nteract"
    },
    "language_info": {
      "name": "javascript",
      "version": "6.5.0",
      "mimetype": "application/javascript",
      "file_extension": ".js"
    }
  },
  "nbformat": 4,
  "nbformat_minor": 4
}