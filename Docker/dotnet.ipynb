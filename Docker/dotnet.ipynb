{
 "cells": [
  {
   "cell_type": "code",
   "execution_count": null,
   "metadata": {},
   "outputs": [],
   "source": [
    "#FROM mono:latest\n",
    "\n",
    "#RUN mono --version\n",
    "#RUN ls -la\n",
    "#ADD ./subscription.services /home/src\n",
    "#ADD ./act.subscription.management.sln /home/src\n",
    "#WORKDIR /home/src\n",
    "#RUN msbuild ./subscription.services/Subscription.Services.EloquaImport/Subscription.Services.EloquaImport.csproj\n",
    "#RUN mono Subscription.Services.EloquaImport.exe\n",
    "\n",
    "#FROM microsoft/aspnetcore:1.1\n",
    "FROM microsoft/aspnetcore-build:1.0-1.1\n",
    "ARG source\n",
    "EXPOSE 80\n",
    "WORKDIR /app/src\n",
    "ADD ./*.sln /app/src/\n",
    "ADD ./subscription.services/Subscription.Services.EloquaImport/*.csproj /app/src/subscription.services/Subscription.Services.EloquaImport/\n",
    "ADD ./subscription.services/Subscription.Services.ZuoraExport/*.csproj /app/src/subscription.services/Subscription.Services.ZuoraExport/\n",
    "ADD ./*.dcproj /app/src/\n",
    "\n",
    "RUN /bin/bash -c \"dotnet restore ./act.subscription.management.sln\"\n",
    "\n",
    "ADD . /app/src \n",
    "RUN /bin/bash -c \"dotnet restore ./act.subscription.management.sln && dotnet publish ./act.subscription.management.sln -c Release -o ./obj/Docker/publish\"\n",
    "\n",
    "RUN cp -R ${source:-subscription.services/Subscription.Services.EloquaImport/obj/Docker/publish} /app\n",
    "\n",
    "WORKDIR /app/publish\n",
    "EXPOSE 80\n",
    "ENTRYPOINT [\"/usr/bin/dotnet\", \"/app/publish/Subscription.Services.EloquaImport.dll\"]\n",
    "\n"
   ]
  }
 ],
 "metadata": {
  "kernelspec": {
   "display_name": "Bash",
   "language": "bash",
   "name": "bash"
  },
  "language_info": {
   "codemirror_mode": "shell",
   "file_extension": ".sh",
   "mimetype": "text/x-sh",
   "name": "bash"
  }
 },
 "nbformat": 4,
 "nbformat_minor": 2
}
