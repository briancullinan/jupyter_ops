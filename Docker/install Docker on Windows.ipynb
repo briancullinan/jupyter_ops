{
 "cells": [
  {
   "cell_type": "markdown",
   "source": [
    "# How to install Docker on Windows?\n",
    "\n",
    "[Download Docker](https://download.docker.com/win/stable/InstallDocker.msi)\n",
    "and install then skip to step 3.\n",
    "\n",
    "## 1\n",
    "\n",
    "Is Docker already installed?\n"
   ],
   "metadata": {}
  },
  {
   "cell_type": "code",
   "source": [
    "$$.async();\r",
    "var exec = require('child_process').exec;\r",
    "var installed = false;\r",
    "var docker = exec('docker ps', function (err, stdout, stderr) {\r",
    "    if (stdout.indexOf('not found') > -1) {\r",
    "        $$.done('Docker not found, installing');\r",
    "    } else {\r",
    "        installed = true;\r",
    "        $$.done('Docker is already installed');\r",
    "    }\r",
    "});\r",
    "\r",
    ""
   ],
   "outputs": [],
   "execution_count": null,
   "metadata": {
    "collapsed": false,
    "outputHidden": false,
    "inputHidden": false
   }
  },
  {
   "cell_type": "markdown",
   "source": [
    "## 2\n",
    "\n",
    "How do I installed elevated from the command line?\n"
   ],
   "metadata": {}
  },
  {
   "cell_type": "code",
   "source": [
    "$$.async();\r",
    "var exec = require('child_process').exec;\r",
    "var http = require('https');\r",
    "var fs = require('fs');\r",
    "var elevateLoc = path.join(process.cwd(), 'elevate.zip');\r",
    "var expandedLoc = path.join(process.cwd(), 'elevate');\r",
    "http.get('https://github.com/jpassing/elevate/releases/download/1.0/elevate.zip', (r) => {\r",
    "    http.get(r.headers['location'], (r) => {\r",
    "        r.pipe(fs.createWriteStream(elevateLoc)).on('finish', () => {\r",
    "            var expand = exec('powershell -c \"Expand-Archive -Force ' + elevateLoc + ' ' + expandedLoc + '\"', () => {\r",
    "                $$$.done('downloaded and extracted elevate.exec');\r",
    "            });\r",
    "            expand.stdout.on('data', (d) => console.log(d));\r",
    "            expand.stderr.on('data', (d) => console.log(d));\r",
    "        });\r",
    "    });\r",
    "});\r",
    "\r",
    ""
   ],
   "outputs": [],
   "execution_count": null,
   "metadata": {
    "collapsed": false,
    "outputHidden": false,
    "inputHidden": false
   }
  },
  {
   "cell_type": "markdown",
   "source": [
    "Where do I download the Windows Docker installer?"
   ],
   "metadata": {}
  },
  {
   "cell_type": "code",
   "source": [
    "$$.async();\r",
    "var exec = require('child_process').exec;\r",
    "var http = require('https');\r",
    "var fs = require('fs');\r",
    "var dockerLoc = path.join(process.cwd(), 'InstallDocker.msi');\r",
    "var downloads = http.get('https://download.docker.com/win/stable/InstallDocker.msi', (r) => {\r",
    "    r.pipe(fs.createWriteStream(dockerLoc)).on('finish', () => {\r",
    "        $$.done('downloaded InstallDocker.msi');\r",
    "    });\r",
    "});\r",
    ""
   ],
   "outputs": [],
   "execution_count": null,
   "metadata": {
    "collapsed": false,
    "outputHidden": false,
    "inputHidden": false
   }
  },
  {
   "cell_type": "markdown",
   "source": [
    "How do I install elevated using msiexec?\n",
    "\n",
    "How do I fix the firewall for Docker?\n"
   ],
   "metadata": {}
  },
  {
   "cell_type": "code",
   "source": [
    "$$.async();\r",
    "var elevateExecLoc = path.join(process.cwd(), 'elevate', 'bin', 'x86', 'Release', 'elevate.exe');\r",
    "var firewallCmd = 'New-NetFirewallRule -DisplayName \\\\\"docker engine\\\\\" -Direction Inbound -Action Allow -Protocol tcp -LocalPort 2375';\r",
    "var networkCmd = 'Set-NetConnectionProfile -InterfaceAlias \\\\\"vEthernet (DockerNAT)\\\\\" -NetworkCategory Private';\r",
    "var exec = require('child_process').exec;\r",
    "var install = exec(elevateExecLoc + ' msiexec /i ' + dockerLoc + ' /qn /L*V! ' + logLoc, () => {\r",
    "    var firewall = exec(elevateExecLoc + ' powershell -c \"' + firewallCmd + ' ; ' + networkCmd + '\"', () => {\r",
    "        $$.done('installed Docker');\r",
    "    });\r",
    "    install.stdout.on('data', (d) => console.log(d));\r",
    "    install.stderr.on('data', (d) => console.log(d));\r",
    "});\r",
    "install.stdout.on('data', (d) => console.log(d));\r",
    "install.stderr.on('data', (d) => console.log(d));\r",
    "\r",
    " #@FOR /\r",
    "f\r",
    "'tokens=*' % i\r",
    "IN('docker-machine env default')\r",
    "DO\r",
    "@%\r",
    "i"
   ],
   "outputs": [],
   "execution_count": null,
   "metadata": {
    "collapsed": false,
    "outputHidden": false,
    "inputHidden": false
   }
  },
  {
   "cell_type": "markdown",
   "source": [
    "How to install build tools on Windows?\n",
    "\n"
   ],
   "metadata": {}
  },
  {
   "cell_type": "code",
   "source": [
    "var npmCmd = 'npm install --global --production --unsafe-perm nativescript windows-build-tools';\r",
    "var firewall = exec(elevateExecLoc + ' powershell -c \"' + npmCmd + ' ; ' + networkCmd + '\"', () => {\r",
    "    $$.done('npm build tools installed');\r",
    "});"
   ],
   "outputs": [],
   "execution_count": null,
   "metadata": {
    "collapsed": false,
    "outputHidden": false,
    "inputHidden": false
   }
  }
 ],
 "metadata": {
  "kernelspec": {
   "name": "node_nteract",
   "language": "javascript",
   "display_name": "Node.js (nteract)"
  },
  "kernel_info": {
   "name": "node_nteract"
  },
  "language_info": {
   "name": "javascript",
   "version": "6.5.0",
   "mimetype": "application/javascript",
   "file_extension": ".js"
  }
 },
 "nbformat": 4,
 "nbformat_minor": 4
}