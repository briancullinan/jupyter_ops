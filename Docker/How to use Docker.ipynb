{
  "cells": [
    {
      "cell_type": "markdown",
      "source": [
        "# How to use Docker?\n",
        "\n",
        "Build a docker image?\n"
      ],
      "metadata": {}
    },
    {
      "cell_type": "code",
      "source": [
        "docker build -t act-selenium\n",
        "docker images\n",
        "docker ps\n"
      ],
      "outputs": [],
      "execution_count": null,
      "metadata": {
        "collapsed": false,
        "outputHidden": false,
        "inputHidden": false
      }
    },
    {
      "cell_type": "markdown",
      "source": [
        "Restart the docker service?\n",
        "\n"
      ],
      "metadata": {}
    },
    {
      "cell_type": "code",
      "source": [
        "docker stop act-selenium\n",
        "docker rm act-selenium\n"
      ],
      "outputs": [
        {
          "output_type": "stream",
          "name": "stdout",
          "text": [
            "act-selenium\n",
            "act-selenium\n",
            "ce7f89eaf4cce4586c556e0642f94c27d3fc25b5daec505c9398df7f74c0132c\n",
            "CONTAINER ID        IMAGE               COMMAND                  CREATED             STATUS                  PORTS                                                                                                                                            NAMES\n",
            "ce7f89eaf4cc        act-selenium        \"/opt/bin/entry_po...\"   1 second ago        Up Less than a second   0.0.0.0:3000->3000/tcp, 0.0.0.0:4200->4200/tcp, 0.0.0.0:4444->4444/tcp, 0.0.0.0:5900->5900/tcp, 0.0.0.0:6080->6080/tcp, 0.0.0.0:8888->8888/tcp   act-selenium\n"
          ]
        }
      ],
      "execution_count": 1,
      "metadata": {
        "collapsed": false,
        "outputHidden": false,
        "inputHidden": false
      }
    },
    {
      "cell_type": "markdown",
      "source": [
        "Delete all containers?"
      ],
      "metadata": {}
    },
    {
      "cell_type": "code",
      "source": [
        "docker rm $(docker ps -a -q)\n"
      ],
      "outputs": [],
      "execution_count": null,
      "metadata": {
        "collapsed": false,
        "outputHidden": false,
        "inputHidden": false
      }
    },
    {
      "cell_type": "markdown",
      "source": [
        "Delete all images?"
      ],
      "metadata": {}
    },
    {
      "cell_type": "code",
      "source": [
        "docker rmi $(docker images -q)\n"
      ],
      "outputs": [],
      "execution_count": null,
      "metadata": {
        "collapsed": false,
        "outputHidden": false,
        "inputHidden": false
      }
    },
    {
      "cell_type": "markdown",
      "source": [
        "Delete all images in Powershell?"
      ],
      "metadata": {}
    },
    {
      "cell_type": "code",
      "source": [
        "docker images -q | %{docker rmi -f $_}"
      ],
      "outputs": [],
      "execution_count": null,
      "metadata": {
        "collapsed": false,
        "outputHidden": false,
        "inputHidden": false
      }
    },
    {
      "cell_type": "markdown",
      "source": [
        "Delete containers in cmd?"
      ],
      "metadata": {}
    },
    {
      "cell_type": "code",
      "source": [
        "FOR /f \"tokens=*\" %i IN ('docker ps -a -q') DO docker rm %i\n"
      ],
      "outputs": [],
      "execution_count": null,
      "metadata": {
        "collapsed": false,
        "outputHidden": false,
        "inputHidden": false
      }
    },
    {
      "cell_type": "markdown",
      "source": [
        "Delete images in cmd?"
      ],
      "metadata": {}
    },
    {
      "cell_type": "code",
      "source": [
        "FOR /f \"tokens=*\" %i IN ('docker images -q') DO docker rmi %i\n",
        "\n"
      ],
      "outputs": [],
      "execution_count": null,
      "metadata": {
        "collapsed": false,
        "outputHidden": false,
        "inputHidden": false
      }
    },
    {
      "cell_type": "markdown",
      "source": [
        "Delete danglings images in cmd?"
      ],
      "metadata": {}
    },
    {
      "cell_type": "code",
      "source": [
        "FOR /f \"tokens=*\" %i IN ('docker images -q -f \"dangling=true\"') DO docker rmi %i\n"
      ],
      "outputs": [],
      "execution_count": null,
      "metadata": {
        "collapsed": false,
        "outputHidden": false,
        "inputHidden": false
      }
    }
  ],
  "metadata": {
    "kernelspec": {
      "name": "bash",
      "language": "bash",
      "display_name": "Bash"
    },
    "kernel_info": {
      "name": "bash"
    },
    "language_info": {
      "name": "bash",
      "codemirror_mode": "shell",
      "mimetype": "text/x-sh",
      "file_extension": ".sh"
    }
  },
  "nbformat": 4,
  "nbformat_minor": 4
}