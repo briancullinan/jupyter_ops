{
  "cells": [
    {
      "cell_type": "markdown",
      "source": [
        "Install dev tools on Linux?"
      ],
      "metadata": {}
    },
    {
      "cell_type": "code",
      "source": [
        "apt-get -qq update\n",
        "apt-get install -y --fix-missing git curl wget zip unzip vim dos2unix g++ python net-tools make \n",
        "\n"
      ],
      "outputs": [],
      "execution_count": null,
      "metadata": {
        "collapsed": false,
        "outputHidden": false,
        "inputHidden": false
      }
    },
    {
      "cell_type": "markdown",
      "source": [
        "Install node on Linux"
      ],
      "metadata": {}
    },
    {
      "cell_type": "code",
      "source": [
        "wget -O - https://deb.nodesource.com/setup_7.x | bash\n",
        "apt-get install -y nodejs\n",
        "nodejs -v\n",
        "\n",
        "env NODE_TLS_REJECT_UNAUTHORIZED 0\n",
        "npm install -g live-server babel-cli concurrently node-gyp nativescript@latest\n"
      ],
      "outputs": [],
      "execution_count": null,
      "metadata": {
        "collapsed": false,
        "outputHidden": false,
        "inputHidden": false
      }
    },
    {
      "cell_type": "markdown",
      "source": [
        "Build a docker image?\n"
      ],
      "metadata": {}
    },
    {
      "cell_type": "code",
      "source": [
        "docker build -t act-selenium\n",
        "docker images\n",
        "docker ps\n"
      ],
      "outputs": [],
      "execution_count": null,
      "metadata": {
        "collapsed": false,
        "outputHidden": false,
        "inputHidden": false
      }
    },
    {
      "cell_type": "markdown",
      "source": [
        "Restart the docker service?\n",
        "\n"
      ],
      "metadata": {}
    },
    {
      "cell_type": "code",
      "source": [
        "docker stop act-selenium\n",
        "docker rm act-selenium\n",
        "docker run --shm-size=2g --name act-selenium -d -p 8888:8888 -p 6080:6080 -p 5900:5900 -p 4444:4444 -p 4200:4200 -p 3000:3000 act-selenium\n",
        "docker ps\n",
        "\n"
      ],
      "outputs": [
        {
          "output_type": "stream",
          "name": "stdout",
          "text": [
            "act-selenium\n",
            "act-selenium\n",
            "ce7f89eaf4cce4586c556e0642f94c27d3fc25b5daec505c9398df7f74c0132c\n",
            "CONTAINER ID        IMAGE               COMMAND                  CREATED             STATUS                  PORTS                                                                                                                                            NAMES\n",
            "ce7f89eaf4cc        act-selenium        \"/opt/bin/entry_po...\"   1 second ago        Up Less than a second   0.0.0.0:3000->3000/tcp, 0.0.0.0:4200->4200/tcp, 0.0.0.0:4444->4444/tcp, 0.0.0.0:5900->5900/tcp, 0.0.0.0:6080->6080/tcp, 0.0.0.0:8888->8888/tcp   act-selenium\n"
          ]
        }
      ],
      "execution_count": 1,
      "metadata": {
        "collapsed": false,
        "outputHidden": false,
        "inputHidden": false
      }
    },
    {
      "cell_type": "code",
      "source": [],
      "outputs": [],
      "execution_count": null,
      "metadata": {
        "collapsed": false,
        "outputHidden": false,
        "inputHidden": false
      }
    }
  ],
  "metadata": {
    "kernelspec": {
      "name": "bash",
      "language": "bash",
      "display_name": "Bash"
    },
    "kernel_info": {
      "name": "bash"
    },
    "language_info": {
      "name": "bash",
      "codemirror_mode": "shell",
      "mimetype": "text/x-sh",
      "file_extension": ".sh"
    }
  },
  "nbformat": 4,
  "nbformat_minor": 4
}