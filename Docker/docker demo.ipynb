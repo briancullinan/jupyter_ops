{
 "cells": [
  {
   "cell_type": "markdown",
   "metadata": {},
   "source": [
    "# What is Docker?\n",
    "\n",
    "Lets download and find out ;)\n",
    "\n",
    "## 1\n",
    "[Download Docker](https://download.docker.com/win/stable/InstallDocker.msi)\n",
    "and install then skip to step 2.\n",
    "\n",
    "For Docker on Windows see [How to install Docker on Windows?](//How%20To%20install%20Docker%20on%20Windows?.ipynb)\n",
    "\n",
    "For Docker on Mac see [How to install Docker on Mac?](//How%20To%20install%20Docker%20on%20Windows?.ipynb)\n"
   ]
  },
  {
   "cell_type": "code",
   "execution_count": 6,
   "metadata": {
    "collapsed": false,
    "inputHidden": false,
    "outputHidden": false
   },
   "outputs": [
    {
     "ename": "ReferenceError",
     "evalue": "runNotebook is not defined",
     "output_type": "error",
     "traceback": [
      "ReferenceError: runNotebook is not defined",
      "    at evalmachine.<anonymous>:7:5",
      "    at ContextifyScript.Script.runInThisContext (vm.js:25:33)",
      "    at Object.exports.runInThisContext (vm.js:77:17)",
      "    at run ([eval]:613:19)",
      "    at onRunRequest ([eval]:384:22)",
      "    at onMessage ([eval]:352:17)",
      "    at emitTwo (events.js:106:13)",
      "    at process.emit (events.js:191:7)",
      "    at process.nextTick (internal/child_process.js:744:12)",
      "    at _combinedTickCallback (internal/process/next_tick.js:67:7)"
     ]
    }
   ],
   "source": [
    "$$.async();\n",
    "var path = require('path');\n",
    "if (process.platform === 'win32') {\n",
    "    var notebook = 'How to install Docker on Windows.ipynb';\n",
    "} else if (process.platform === 'darwin') {\n",
    "    var notebook = 'How to install Docker on Mac.ipynb';\n",
    "} else {\n",
    "    $$.done('docker not installed');\n",
    "}"
   ]
  },
  {
   "cell_type": "markdown",
   "metadata": {},
   "source": [
    "Create a Docker container with some dev tools:\n",
    "* selenium (xvfb, x11vnc, novnc, mocha)\n",
    "* source code (git, act.ecommerce, angular-cli)\n",
    "\n",
    "Start from the selenium-chrome-debug image"
   ]
  },
  {
   "cell_type": "markdown",
   "metadata": {},
   "source": [
    "## 2\n",
    "\n",
    "Create a Docker file and project directory."
   ]
  },
  {
   "cell_type": "markdown",
   "metadata": {},
   "source": [
    "## 3\n",
    "Build the Docker image"
   ]
  },
  {
   "cell_type": "markdown",
   "metadata": {
    "inputHidden": false,
    "outputHidden": false
   },
   "source": [
    "## 4\n",
    "\n",
    "Run your Docker container"
   ]
  }
 ],
 "metadata": {
  "kernel_info": {
   "name": "node_nteract"
  },
  "kernelspec": {
   "display_name": "Javascript (Node.js)",
   "language": "javascript",
   "name": "javascript"
  },
  "language_info": {
   "file_extension": ".js",
   "mimetype": "application/javascript",
   "name": "javascript",
   "version": "7.7.2"
  }
 },
 "nbformat": 4,
 "nbformat_minor": 4
}
