{
 "cells": [
  {
   "cell_type": "markdown",
   "metadata": {},
   "source": [
    "# How to use Docker?\n",
    "\n",
    "Build a docker image?\n"
   ]
  },
  {
   "cell_type": "code",
   "execution_count": null,
   "metadata": {
    "collapsed": false,
    "inputHidden": false,
    "outputHidden": false
   },
   "outputs": [],
   "source": [
    "docker build -t act-selenium\n",
    "docker images\n",
    "docker ps -a\n"
   ]
  },
  {
   "cell_type": "markdown",
   "metadata": {},
   "source": [
    "Restart the docker service?\n",
    "\n"
   ]
  },
  {
   "cell_type": "code",
   "execution_count": 1,
   "metadata": {
    "collapsed": false,
    "inputHidden": false,
    "outputHidden": false
   },
   "outputs": [
    {
     "name": "stdout",
     "output_type": "stream",
     "text": [
      "act-selenium\n",
      "act-selenium\n",
      "ce7f89eaf4cce4586c556e0642f94c27d3fc25b5daec505c9398df7f74c0132c\n",
      "CONTAINER ID        IMAGE               COMMAND                  CREATED             STATUS                  PORTS                                                                                                                                            NAMES\n",
      "ce7f89eaf4cc        act-selenium        \"/opt/bin/entry_po...\"   1 second ago        Up Less than a second   0.0.0.0:3000->3000/tcp, 0.0.0.0:4200->4200/tcp, 0.0.0.0:4444->4444/tcp, 0.0.0.0:5900->5900/tcp, 0.0.0.0:6080->6080/tcp, 0.0.0.0:8888->8888/tcp   act-selenium\n"
     ]
    }
   ],
   "source": [
    "if docker ps | grep \"{name}\" then; \\\n",
    "    docker stop {name}; \\\n",
    "    docker rm {name}; \\\n",
    "fi\n"
   ]
  },
  {
   "cell_type": "markdown",
   "metadata": {},
   "source": [
    "Delete all containers?"
   ]
  },
  {
   "cell_type": "code",
   "execution_count": 1,
   "metadata": {
    "collapsed": false,
    "inputHidden": false,
    "outputHidden": false
   },
   "outputs": [
    {
     "name": "stdout",
     "output_type": "stream",
     "text": [
      "eac6b907a499\n",
      "6e6ffd26aabb\n",
      "98d2339992d3\n",
      "3731867e925f\n",
      "ec989ca4ef5a\n",
      "cbe178768711\n",
      "ad61572b5af5\n",
      "6222f5246ff5\n",
      "fbe1e99cf22b\n"
     ]
    }
   ],
   "source": [
    "docker rm $(docker ps -a -q)\n"
   ]
  },
  {
   "cell_type": "markdown",
   "metadata": {},
   "source": [
    "Delete all images?"
   ]
  },
  {
   "cell_type": "code",
   "execution_count": 2,
   "metadata": {
    "collapsed": false,
    "inputHidden": false,
    "outputHidden": false
   },
   "outputs": [
    {
     "name": "stdout",
     "output_type": "stream",
     "text": [
      "Untagged: act-selenium:latest\n",
      "Deleted: sha256:5c653737981e7737095550ea8113798b1a9df5f8a415f96646dd5102788121ac\n",
      "Deleted: sha256:1391b62550d41ebef713bcfe22af21a6c60ca3c2ec0cd2f2ffa4c8bb95d9d78a\n",
      "Deleted: sha256:e580427effc8cc85df0185301ac4bafb2bdaff1b2992f6dc7761b25e138a0480\n",
      "Deleted: sha256:ed34aac9d5e377ce1ab0915b11c1d0364b4cc7e5ab27dacaac46135d1f583ace\n",
      "Deleted: sha256:7e67500e851b7b3596f718f3a1257c19e246c482c2945c61e30a95c92fef6c63\n",
      "Deleted: sha256:54d02c4b4bc2ac956e99a9b403a14879026958a80e8047b5dbe15c051bf563d1\n",
      "Deleted: sha256:a1a5da3ebdccfab711181ea4033c25f777842eed2b75205cb92bb74a543cc8cb\n",
      "Deleted: sha256:3a34ec453d13c9a44c24f805b075340f99b5298e5def8160220c58cca8a5279f\n",
      "Deleted: sha256:9760fc45d8bc67c9ac6301d95d8fd7f38c77f394f6d2a1faf190d37b259d20ce\n",
      "Deleted: sha256:15c9fea7f98c29b2b49cf3add45d3d5e63af543e9e2d600a7d97be3e36992778\n",
      "Deleted: sha256:c4b95463cb9213eb9b8e1b5bb7f2278681fc7ffaa07013a82327006fdefcb461\n",
      "Deleted: sha256:6a56d7ce86dfe0fb3b8e4411f544389e16c0378da5d04003811c29a54439cd29\n",
      "Deleted: sha256:f228015bce156021fc05f05d178e9fe8dc7349a9c99613bb579764aa85be4943\n",
      "Deleted: sha256:efd135dcc6fdf4cf824cc6a5222b669cbfda994b3241406f64a5735ff3887375\n",
      "Deleted: sha256:9cbf06aecf9d044d0908fd622d0e48db4afcd77c8ec0abcff3ed3249f54d810c\n",
      "Deleted: sha256:8cdbfe944f4131745bc74b4b74ac41b518b7aeff6ae4807a0a83869c8c5b32d1\n",
      "Deleted: sha256:f870933b540e4dbe2425c133b1bebbedf9d35def1545b43af2100e3ea4f0951c\n",
      "Deleted: sha256:58460ca0baf5576d9daaffd964a6b3cec09619a1ec0c77292ba4f87d765eb378\n",
      "Deleted: sha256:c1767c3199cfcab009c77f454d488186af285c238f5d0d176eb12c15bf361a94\n",
      "Deleted: sha256:f5b520e8cb5b025d75e3d2154bf4eff3ad4f5491361bb771a75f309436aa2927\n",
      "Deleted: sha256:e852585dbad7ed466cbc9696b10f30f5870970f7859f0286a267448357b8bd0e\n",
      "Deleted: sha256:22bd08c4de233491d3c6e7709e1ec832cfc10abe588895645d95d9081209a2e9\n",
      "Deleted: sha256:21b874efcd91bc9fbbb072c01cb7e8b788c4517b0dcd33a4bf11b7860b7c1ebe\n",
      "Deleted: sha256:d067e82b36594b7795cd9c984324b81fad3ef868a797c6b6e9624f0d4d1119bb\n",
      "Deleted: sha256:e88daff0248264ed931ff87b14730fddd46538ac6c311f8bb15ab472fb8840cd\n",
      "Deleted: sha256:6a6fa28ab6bcbb4f6307a253638ac32ede44fd70abcd454561b42e8f13fc5c77\n",
      "Deleted: sha256:0bd72364b380d897f9dca8e5056fee9f907d24731a37fd94d9b3fb4aa9c69c7a\n",
      "Deleted: sha256:a85b6419ea56a5e66b871e601a180d4829e6867c5b077e02b6687de08b5335cb\n",
      "Deleted: sha256:f9e84de198cf62b577f82827dbd813ca104fd267f027a08299dbbf2e89054a34\n",
      "Deleted: sha256:aee41d4c218926fa4220dab75acc9b3e3a3ca4f62b329bc3efb9e7e4d9046099\n",
      "Deleted: sha256:54c5978d769c272ca2382beec7f309c176b368003398992fa42d5a944acf4077\n",
      "Deleted: sha256:dcaa80e8a692f08eddcefe4ddaea76dd4d39b50bf2206df10798d06bf092ed96\n",
      "Deleted: sha256:26b38d9482752e71c65ddaa6ad7d6d9f2cb262a811e42f39f7708289cc473e09\n",
      "Deleted: sha256:a38e5d37fce9be9e7bfcd4ad667a8e93dd3b0a28a26d2605cc60f3143a42c3da\n",
      "Deleted: sha256:1ba2130eb01ceb3011d19dc88c94e48f2d254168245a72044de7aa143f2493c2\n",
      "Deleted: sha256:e7a75de292413f7006eaf88b3ef9266b71ccac22b1ebd712482a976d4a401377\n",
      "Untagged: megamind/bots:latest\n",
      "Deleted: sha256:ecc64ef0e41d8584e141942191a32b4fef34aced1ee3b5b482b29f00d0f072f7\n",
      "Deleted: sha256:e1f3b92e97fa5b0518cc56571dc7f520fcc51a64526691f35eb88b275500f1ae\n",
      "Deleted: sha256:27d3820f2229ce389d76e7a969714acf9f939e4e80a9d3b4f6f72fb904f41313\n",
      "Deleted: sha256:e5c2194ad4955f899ad54b9b3958ecd00f8c765dd147a199fff6f572ab9cce06\n",
      "Deleted: sha256:c5e81aa9a123e1c6f8fff5a8bfd2f92d59e70f011460bd48398e01b618a84a2d\n",
      "Deleted: sha256:9b2a892158cff2d9aacb726d8fcb166680c931af08a3d1fa785a46667e529bdc\n",
      "Deleted: sha256:ed6eab62a07649fbc57b9740c1ea5fd1bd65fbc70bb6c7a8d99b449be6444992\n",
      "Deleted: sha256:eedb1c0d1470dc9460ea5be99bf59c9ec0ceb3c18a1582632ab5271d81209ca5\n",
      "Deleted: sha256:b4dba025da031552da5d5b5d0d8bd6b4cf398ea1a1d347a56b94a38be426f739\n",
      "Deleted: sha256:28459854d909d65ab9ee1489686d6481c4c6741b87f5c8370b3da5065fec0e16\n",
      "Deleted: sha256:fdaebc1ec31a24821fd5266fef1406668e48eda3e982b5e1f483919d82de3de0\n",
      "Deleted: sha256:c150bcb5c97d95b50c4522fd4117e36e425402d86f1c4526c67a8ea08ff006f5\n",
      "Deleted: sha256:a4d9c77c8da74ac04000dd1c7f10e5f40a25f70a0f5f5230cecaf6e52de14cf1\n",
      "Deleted: sha256:a51c2ba2523834163942e697329531e5f52605389b9d67997536750a2f8a14e6\n",
      "Deleted: sha256:1416f482f671f4166e884dad16d71a74cb5ef5207e245ea3f9050fcfdf55d7bc\n",
      "Deleted: sha256:3f607b61367111bf3c4566f5276a9fbd9b70a0d62b5c163cd23e80ac1aa7ee18\n",
      "Deleted: sha256:fd1708014a9a69ad8adfff9e3cea9258abe61fd4483585d547b64c7036b1b62e\n",
      "Deleted: sha256:2e6b6f82ccb766f373dc938198f246b0c7480a96a7fcd8d87be3d9d9f715fccb\n",
      "Deleted: sha256:60c7927b75972769460503deb376c60dbda4f6ed619c66c33b4a6b60d1d8d6fb\n",
      "Deleted: sha256:f5445e9696746619da5cd78886b84c6a7d4080c45b0b4726725075f0f791ca3f\n",
      "Deleted: sha256:13a928509fd0fbfabb1b03231827b44401077446b21af85baa62cba1f136bcf6\n",
      "Deleted: sha256:30ef37f57d612333cbb8c684cac55ae8aadd539fa49743eedeba44089cd12755\n",
      "Deleted: sha256:6d801ae3304be72834d4d115fb3e8b486708b2e540bbb0cde7faa0551db4b74e\n",
      "Deleted: sha256:fcdeecf713c60d1294aa3e1dd80d26f4070ad94040043a1ec45356f63f336bdd\n",
      "Deleted: sha256:18b89bb12483df3efd98f2eeb4111c01a6d92280c5588ceb78d1d867b4628b62\n",
      "Deleted: sha256:d1e1d9bb7825932024d47a23872aa1b9ef556d739509bc98d0d1f3725ed1d5b8\n",
      "Deleted: sha256:24826c4b9e2d39ee17a4c072b802107a30db05f92a599d379443890a748db1d8\n",
      "Deleted: sha256:a01087f22882ef3ebb7c2326ce900882e63aac88d9119355dcfe7fd5857fb368\n",
      "Deleted: sha256:24c0d1f1f66b1bfed841c1e440876659c849c971d4105538e5cd4c46e367788e\n",
      "Deleted: sha256:7e28c5d17f56e8b3c88dbb2e0170a45ee6473290a9eea3bf06f9573c44b2d265\n",
      "Deleted: sha256:d04432cb1b4493461a881cb01cc2cd34dd3fc86a23c390c4bf58d91114d22cb6\n",
      "Deleted: sha256:6dfdc219c4e0e9575b99f87221faf6568a958c667839a4a1daf367ca09e11acf\n",
      "Deleted: sha256:8dfdc70a39e706b0bb925319d53ccd8c2c4527d193f97b710e3c8cc5a5213cb0\n",
      "Deleted: sha256:3e84181d0dfda5b4d747508167665cd875ed1adfb3976c4aa0f72358071090e9\n",
      "Untagged: node:latest\n",
      "Untagged: node@sha256:353abd272c2332cdc5367e4db519213578b896931fcbe4d49c2adbaec3aeb5c5\n",
      "Deleted: sha256:045ea30913bb8bc5dbadb9e8d8c97472a3372fa51e5ff51afbb0e1209d7f0de2\n",
      "Deleted: sha256:d2155e693dfe8acf50232721bd3605dd9a8acc03212897d5b3be12b137755d6e\n",
      "Deleted: sha256:8bdb068caeedd20faeb6b8dc363e50ca6ba944a7130880f15fed03e278399c10\n",
      "Deleted: sha256:84e040a3b39dd8533febf65709350ef282b5f8edb3a2d3e20fe41f626841166e\n",
      "Deleted: sha256:48aede9d5b2dd3ed037ce61b66e64bb398b69a342aaa191ad02cd00204f97281\n",
      "Deleted: sha256:fd842df589c9dce7e7dfc5d45daf7ea907367642ddb8ca9eaa4d3c729fa9e912\n",
      "Deleted: sha256:63102ff996737f31e062250371c0dd77387910c5c146496600b4cfb20db5a90d\n",
      "Deleted: sha256:5d6bba18f7b25c9b93d3cc0d93a4cff54eb88b0ba22ed867633a21fc3ded5f57\n",
      "Deleted: sha256:2c40c66f7667aefbb18f7070cf52fae7abbe9b66e49b4e1fd740544e7ceaebdc\n",
      "Deleted: sha256:73b095d55ab009b9922150e51a27673ea944ee136d0ffcfb9efc96376d4c4ddb\n",
      "Deleted: sha256:697d048a4f4565905a6091cca8a16aff25a6cdba2a385c2e0de534e8fd33e3d4\n",
      "Deleted: sha256:2617a57719cc80cad409545a9c89e4a51ca204fd12606e545fae856c8ac1bf0c\n",
      "Deleted: sha256:2e94a75a77be638ce1dc0246a642d8bcfe14f4f2975d6c0c8f9b2b3309ace529\n",
      "Deleted: sha256:8a556181bbfd059e557acabbc451b1f421f54536682101429a7d7e7d0ce80c31\n",
      "Deleted: sha256:a74dd2de952a85ab9c34f897d57da4b8587c30178249fe98bb1b7a45f9a6c5b1\n",
      "Deleted: sha256:2b4e7b92ecd3fc74e92310191d6ed5052c73b4d54ca12f874bead9ac63f75d0a\n",
      "Deleted: sha256:06ec87a26fd3c74d67d543833c49daffcbd749e214b29e3cd6935f0e4d9c1aec\n",
      "Deleted: sha256:eab0af3786bcffe012c3eb33b5fa31baf04ee5561c0a074a001620fad0cc9142\n",
      "Deleted: sha256:446e46154122d7d1b2eaa7a3c6493542b57f4f9a2420ad667139a74faf525810\n",
      "Deleted: sha256:386096545b93baa126ee7df9329e9c81889aa1fc1314810d47b1da9d35b5f33e\n",
      "Deleted: sha256:a8de42351a42a9bf573e58e40dfec747eace15165c313adc00cbe25060c46b8e\n",
      "Deleted: sha256:0208072ed466e026fae3d3ca598a48218772aa822efb0d302d129204bdf832d8\n",
      "Deleted: sha256:947ebedeca97f06c80e29698a01546c59ce9e1fd33842e62507b4ffd2559b04b\n",
      "Deleted: sha256:5c6b68eaa35d8296dc65b26a86b11c6da5acba3dafbeee61ca192bf12882a26b\n",
      "Deleted: sha256:ef807a49da649a9a1144ea9465b0c0fea7152a8c0a02d8e2e1905756b6f96fa5\n",
      "Deleted: sha256:c575bd763ce5df9cf167392a03cd305fd5ebffe0066ab978341330762e2de54a\n",
      "Deleted: sha256:1e5434e0bee86b68917d0e7c44ca7f0bdd13027c3b4fe3570b4180e0faf82c1a\n",
      "Deleted: sha256:c045a657dc28019c528b05c215a3b6e3f7bca5d7b94c40a23d96b6f1e5a0e262\n",
      "Deleted: sha256:cd579b2caa0a8f361b6caa1f948b307a45c0efba5dfa1c0948ca3078fdbb2d94\n",
      "Deleted: sha256:e8588c14ac9777a958d1705601a462b626ac9886b7c6868560273cef5d173dd6\n",
      "Deleted: sha256:a48fe266f54661f86b9123970acca9db8af60ecebbd6fc9a62f5cf2edff5558b\n",
      "Deleted: sha256:bcd7c72decd5340484799b02ef31088a606d7def7ab1e1a13203b958af5aabb4\n",
      "Deleted: sha256:1b4558bd6c1cd863058395a1c2633452efe60c2ff687622949113b7b7607cb73\n",
      "Deleted: sha256:c64d01078fbf113202fb8b235a5c47d04d160ffa3c4d8cb137f46de72457bfb5\n",
      "Deleted: sha256:0b30f68ca807ec1bd9f2158c97268396bfb594bec86ee26f66bd21f0c2a7d3a4\n",
      "Deleted: sha256:83d4a999fcf67a9ffd573d2448bbb5b0a68853f313bd288c98acfc5eee406d18\n",
      "Deleted: sha256:31060e4e9fc8abb806a8d63155f8fdee88404c9b71335bf02bbb92446c0b3cd1\n",
      "Deleted: sha256:c7c041a65738ab6145c6dcb9f9bb68ce933174b1eda822cbaa6750ec939eb7ef\n",
      "Deleted: sha256:9eae4e3135471a67b28a71374f56134d8a73aec727c328b31c7da01a22e7956d\n",
      "Deleted: sha256:75dcd8aea8885455bc44aa99599f5f6f8890c08a1bc72fd11e0fffe1845ca3a9\n",
      "Deleted: sha256:770a65ade0bdc6180993cf99383a25380cac0f985eaa6a2245cc7cdd20f7e457\n",
      "Deleted: sha256:752b349f82139e6a7fb78cc2530f3900a9a292975397ae38926a64f5300af099\n",
      "Deleted: sha256:82b299ffa45577dcd50e3f32bcc8527fdafa3960556044673af5a6948f74ebd2\n",
      "Deleted: sha256:3f0e2d82cbe759e395114f1d4c19352e874110427b80c48b09316e6acdcd8069\n",
      "Deleted: sha256:8059fcc3ec607e5e9d1868de3968c0c1146fc3461373bd2e743b8539bafdb2b4\n",
      "Deleted: sha256:d060fb74b8a246cc66abd032d528b35872c17ede4a831e5a9368c67d38e491e4\n",
      "Deleted: sha256:990dce851f877121cb19808b4e51bfdea89c067f45fbd04e9cf7b0a234f50f90\n",
      "Deleted: sha256:a439b1f5fcf136c5d3b902af763e76a98b316acca6d92bfca260cec6bb101e5e\n",
      "Deleted: sha256:19e0a8e8ee1fa479efabe28344814d6eb5c50e0cd3d329683adaf1298f4d6f49\n",
      "Deleted: sha256:a0bdb505385f2a80974e8180eb235fc0ebe04a29e16145409972c288f58b9d5f\n",
      "Deleted: sha256:a55f78cfd472b14fd05830f110f53ad8617196c4446b9195db91f4ce2db750b0\n",
      "Deleted: sha256:4a8b23cd8da8947af8653a39e359355549d6c514ce1e05185599881ab428c656\n",
      "Deleted: sha256:9ecba3da9e3712e91ece33b58e853645aff68e30149b88132892908496e599f1\n",
      "Deleted: sha256:1abefcbe4f665c8753fe49c4917a60cc543a3ed10e09ac5cef60e203ce366e76\n",
      "Deleted: sha256:2c8c38e27095b235aa00d38e99a77866a9f36d9efab79cdbf61997fe5aab923b\n",
      "Deleted: sha256:10acb63d58c940f6a6536d509d747dfb0883dd2869a9c061efccf93033f723ca\n",
      "Deleted: sha256:65d637a797e71ddddda07ee3cf960aae30c74926d990f452ba12acec02aa0f9b\n",
      "Deleted: sha256:4f8013867565ad7d9d475b7c466be0f5a45cea0ee772503e1680db84c9380492\n",
      "Deleted: sha256:55fe836294bc73e334749c626f5cbaf27ef27f2ba3adf82e36a5c39cdc62058f\n",
      "Deleted: sha256:66da8a97666ff884097bf2bc2b27f8ba3d48840b12166e6feeea3cc784853472\n",
      "Deleted: sha256:e1eb6839c42d790cc0f278d6a289dbeac8ed6becca35e92c59bfbfbb1aab0864\n",
      "Deleted: sha256:d36ac8682c52d23cb6d2f9069b1af14fd9e9321a0748c66dbe74dedc8f86f179\n",
      "Deleted: sha256:33df845531b6b4ba8c972720a177f567cb1ce5d54a4da165a4d982b5396fd2ab\n",
      "Deleted: sha256:1ccd12cc8c8a484bdbaf2d23f366c38ac4de8400bf4eedabdd505febcf00063e\n",
      "Deleted: sha256:e2f1dd3f86f053c26323c3bf94ba55a9369f610d4a489c959c7ea69b84142fd5\n",
      "Deleted: sha256:e8d6f6dda2285f804663c5dd8436b90a8271b73f71e9ad53b7f8b9f1dab3f725\n",
      "Deleted: sha256:02eb7359830dbaedc84fcbe3eb410e4bb8939930bf270a833d0c472dc4df080c\n",
      "Deleted: sha256:b0a6771f375dc2f7f2d5a12cad85c46d126ae54ecf48d109e464124aa7879bea\n",
      "Deleted: sha256:a16e39c2c471c897feb8a1c884c42906be6833638b991008a8f17190a70bae8b\n",
      "Deleted: sha256:2fb9aaa8133327e8edd762b84c445fb1bd9b9f53ea1790f153cc6dc8ef1e21b4\n",
      "Deleted: sha256:239c9bbc0473a149574ca299e96f7f96e2bba4ccf77146e8661b1a28df540012\n",
      "Deleted: sha256:f38058650f70aa3359413f34092de7fbe1ed31301d4049f89ecd4be5ad73ed40\n",
      "Deleted: sha256:a3b1d3c0300d2e490096e9daa3b53cd7e5aa872d7449e3710f0bb857417a66c5\n",
      "Deleted: sha256:52ffe27ccc0557f5e66d4ecd624ff73ecfbd0bb0dc673834342aebe936e8a1e0\n",
      "Deleted: sha256:6bc2fd3e4f6b915eea84f00f8268da36f58cd641937a3519a75fbd08f206903f\n",
      "Deleted: sha256:cd99893dbc70571f46a04c705ee552e1443f27b00878f317c375827271b58af3\n",
      "Untagged: jupyter/base-notebook:latest\n",
      "Untagged: jupyter/base-notebook@sha256:0b1fd55758fb6866f87d6813488542faca91af97789b50fb489c35c419368caf\n",
      "Deleted: sha256:95a3ddb470356f548fda462b3976ba8512e14ef4c10c2e55d08f99d05bcde713\n",
      "Deleted: sha256:46c3dcead97c18e3cbf9c9c89e6a76c45af28d7382f941428971e878cf8c4f5f\n",
      "Deleted: sha256:4361a859b07b101bb84ffca4e2112a0649b19cc45ba5138f8623c4851380fc04\n",
      "Deleted: sha256:3de76b59aef746c6e0297fe379c2abe50bb3663597c7b75e3207d5053a172641\n",
      "Deleted: sha256:04eabac7c4d78f52d5bdfe27d743a325b2c73acafff07327da167f5c87520491\n",
      "Deleted: sha256:f18ba1f9c2bd727f363fe2b70b7e36ba3a2e61118f4cdd1dd1c8c0f0865186f5\n",
      "Deleted: sha256:d92d108d4949825b3b196cc37fd79e1f037fc9e18e4a786f033d66cac7b51de4\n",
      "Deleted: sha256:2f66b85aa53c0dd91abfc2fae84cd1d5878e34f112180fa5d666d5ad96709e2f\n",
      "Deleted: sha256:9935254f81c35c298cf4329af9a552a9b3e86a2c0284428ee1fd57de49c9f44f\n",
      "Deleted: sha256:e3bb4bac8d496427dbd25574a9483b5b09d9547a6d44060d1c38eb474a16ecbe\n",
      "Deleted: sha256:c01db90e93d95b14ac8408e9681938fe0d95dad2b69bac179db6dc0adf3112cd\n",
      "Deleted: sha256:44db8b6755312c32f313ceb32247295ca18899217233f02f3a737d5ec9a3988a\n",
      "Deleted: sha256:0bfbac677305df53da23496b57ef7146c9c9f028d283005758616f921edd2109\n",
      "Deleted: sha256:d17d48b2382adda1fd94284c51d725f0226bf20b07f4d29ce09596788bed7e8e\n",
      "Deleted: sha256:e40695d90088d36fa1bf089bff15385b83ee159f71bd15ab089779b029a23a05\n",
      "Deleted: sha256:ac8ff2b8617cf8aefc3c82ec9c26a0e4ba2a8e9c0b6eb9025d3c5a92c367a4b2\n",
      "Deleted: sha256:565c67cd940c7f0316e7bcc5491f977c4e16cb75538a31f077f3e3b1c713fbde\n",
      "Deleted: sha256:120bb1a8f4a36ae2bc9ed968bb023cb43f4924eb2dfecc5d7b629729700381e3\n",
      "Deleted: sha256:0ed08a72925f23fe2107063dda692e6090534575043be878fc01de2f3ef74ff2\n",
      "Deleted: sha256:0fe1e91a58ff2d4871f20e82c375062ad3617e12f43ddb668e6e76ed119da786\n",
      "Deleted: sha256:ec5e1615ba988a2a3ca37ff65a17c7a1d62b863d81501cc8b550d8cb758dc3d1\n",
      "Deleted: sha256:fcd858940a2363ac5540880f25b67e3dddb22898098aff1df26bcb8f280f4017\n",
      "Deleted: sha256:7f4a0bed5015c78baa5ba8fba207690b51963d6893f9d08594868fa7c57976e2\n",
      "Deleted: sha256:1d941c0e8905c5fd359f6bce689d93bb5d88448998cccb9348513bf5e60b2679\n",
      "Deleted: sha256:9eaecaf559cc7ca1f1f848bf4e5c8571404ef5d4a0ba8e2cb01ce53bf27708db\n",
      "Deleted: sha256:11bc0d802159fa6790b40e78a22336792ee3864d28dd6c5a1fea22d52314d9ce\n",
      "Deleted: sha256:c44333144ae0b5c86deb0ee9f9a1963514699019dc71bdf133d32fcf7a353124\n",
      "Deleted: sha256:494d16d0422624a94b27ef4c411c05ab924e4cae9797e26c5641f447f2e76920\n",
      "Deleted: sha256:53be35a33ffea3420dfa15cc40767412664e97ce2a97088ed7e3d7bffc1d0dbb\n",
      "Deleted: sha256:a12cbc1e0c2518ef3c567afc0e4c1f8652d39922613a54a9a16b60700fa14dc4\n",
      "Deleted: sha256:5d7e1d9849136cdda8d01232e5b3858568f81a6ec0ac8b99d9152ffafb225b92\n",
      "Deleted: sha256:a259d91144041674d3215912750c9607f4075309a140b39038bd83f40e2f443f\n",
      "Deleted: sha256:d60e7ffaab9bf20d13585a771ffed502686898c5078cbd01679d0b8eb0dc1f60\n",
      "Deleted: sha256:1b61eb558bf6d40c46f34fdaa7bc2cb0c19dd39526e6c17e4f00f7e82d592b9b\n",
      "Deleted: sha256:55b3855da48814020ef09d4efe7cb9b565997a462d86ea076c9d4e8ab3fdbdd7\n",
      "Deleted: sha256:a21b43b4cd52d570c7b302f0662bff6123c1ec4c90fcdf578c1a2edf612f59ac\n",
      "Deleted: sha256:743efabecfc25871efbf706b72929d667538bc054d33731362d2a6606787bb89\n",
      "Deleted: sha256:04f1cf450abbd4c6b6ed4fb21961034743e1c94c8b85de4110a358dc02bce1bf\n",
      "Deleted: sha256:216965b2ff5a31e784729e13de16ed17dfec8caddcd036d604944ac438ca8519\n",
      "Deleted: sha256:1736531c067c30f634bf018c9432790534eee9e6aeec4ee997c18cb76457fe81\n",
      "Deleted: sha256:21f352ecccf1d88116d487f6fde560bed723d54da5e5a211d300819a3cddc0c3\n",
      "Deleted: sha256:20d1446f40cee864a0a7c916655fcae3bd3381cce2859a641582dee5d8c499d2\n",
      "Deleted: sha256:16fd0a73a031c19659186ded9868e972c5d6499e9180fca357d9f423b518db72\n",
      "Deleted: sha256:ccab2fb7f1f3dd1db866e623330df553a495a71c7ec542ffbcf5a2f784a288a6\n",
      "Deleted: sha256:fe8ba42a7fe9b64a59e161930bca444fab0032f9980fa243674716786b3eddf6\n",
      "Deleted: sha256:76ca37aa4a0a8b6e6234c4ce45f8bb8e6259ea3a0eed92f2f2b41c05feaaa990\n",
      "Deleted: sha256:8ac8f52ddf2f71eadf2035d997a3544d642fe87d5f188244c2c7ffc0a7c1aae2\n",
      "Deleted: sha256:0ebf6ea9411c89feb4eda41a0d4268916fe41d2e8d9ae09e51a82139e5d3aa95\n",
      "Deleted: sha256:5cf208f92c471cc56ebf88a8d25852203fa56598537cdd8b6e3fe6df9edd6e91\n",
      "Deleted: sha256:c46b2f55b614c3a5c545964947dfdf1bf4cdcbfb1848dbcd2faae40ff6b47033\n",
      "Deleted: sha256:62230b168229c27097612ea78e86992ecb77117ae0c6ca300175b685829ab1c5\n",
      "Deleted: sha256:428ee72ce3a340b637bc07326b2ebb59c52a5727796126d07aca652669bbc2f0\n",
      "Deleted: sha256:2a8f53d962e74e138e9e7c5dbf81b9494f9228200e221d4cf4488657a4077c73\n",
      "Deleted: sha256:20696e86f145ca0cf7a55bf26510241a3b0b8d0a33826e6506e0427cc212c52c\n",
      "Deleted: sha256:9d638e8937cc0ce75c4dd043f21990e49f8d15b05a628ddf3b92bd40373da1e1\n",
      "Deleted: sha256:c2ee9b7b550766b04e2216835de88c6de3ab75e91b7acd7de20e1545edd16054\n",
      "Deleted: sha256:0bdb4a833d94ac77f4371f62c70406dc63266b9a9f7cd784d33e652272478d65\n",
      "Deleted: sha256:06e3af7cfbd9462315f2070bcafcc5504cbe3ff96507371d8e4484bdb6096c53\n",
      "Deleted: sha256:9da359b1dfd2bddc14117c02fe34d825d9260a8801b851d374e4430119a5dfce\n",
      "Deleted: sha256:c5adc4b5584cdba0ea6338f06c81b7c29164759ee121b0bf043f196020788bf3\n",
      "Deleted: sha256:54459226f2b1eb62d6372b167f188004d37e4c6f970a0ac90bb70394d186257f\n",
      "Deleted: sha256:9ec55e070497c931e1bbffe084080ca25495360b4a235d569f50bb3c390ee6c8\n",
      "Deleted: sha256:1d8299e93f041490977c630e35fd50ab4f58e7e12dce8a7b2c443f4c618fd9e5\n",
      "Deleted: sha256:88fa7f3a44a2a5490c190152d5cf4505686ddee7a88fbb2160255ce5bd528837\n",
      "Deleted: sha256:c3730a947c3ceb6c5c86c688d5a416913e5082eadee10ff9c715faa3293a48aa\n",
      "Deleted: sha256:c61733b5117dbf31cb615611570419b69d6f191657026eaa0ef3c4c50ec636f5\n",
      "Deleted: sha256:7f23d0c3a4d70c0bc17038ac48dc8c44cccce69a0c6db225e7c04914d9651e7b\n",
      "Deleted: sha256:ecdca044b9b5331dba7661b75c36af578e0c05df1c5f8712c46c3cd6a53f19a5\n",
      "Deleted: sha256:bf01e26bd2a8bc14dcaa432be98ce77fe5c822aa0bf94b6b8cd119f08b4e051b\n",
      "Deleted: sha256:7f7d3b68127c677469d3eca8817c8cf819758d997d1a06abc6e9e7c09e6edeee\n",
      "Deleted: sha256:5a2b6d12a910a856b973858ff21353c74977103ec2a5d86c9301159cf844d68e\n",
      "Deleted: sha256:5110802cf1d86f6f063256ec72da57fe859812f46f84cb43b7a9d1de0cc7d1bc\n",
      "Deleted: sha256:3f41f3dbbb642bac87e91663ccb9f4c04346ac2dd9362da4535027b4d367c351\n",
      "Deleted: sha256:e23de421322ee4709f6af9330663919f3415556477c985e3d991c2a26574f3f7\n",
      "Deleted: sha256:c66a2129ef008824a8385c0ad4324820755fecb028ce5d2fcc4303740b5080ea\n",
      "Deleted: sha256:b2a486fad6e3059dc2fd841e97e8aa4c72c493e57711b431cbb8cf29b8118e75\n",
      "Deleted: sha256:50c8afc650f132463d02abd14c750959b3c9ca83a2bfad71bd04905e958d53bd\n",
      "Deleted: sha256:d4cf5800c27cc3003bbb1175197fbea8830451d8881465e1172c2f4a7e99ef66\n",
      "Deleted: sha256:9d53803eff5d3d17a58a38dd526a166563a2049d6379e0d7b23b012cefc94522\n",
      "Deleted: sha256:e479c8c60b3333c97eef18a3d827e00057fb64ee3a65c7d107df875c62cb5004\n",
      "Deleted: sha256:35141e729e18227877ad7c163f79947d52147987f3d054b95a34f637460df9ee\n",
      "Deleted: sha256:4c5c472b7daca358f2252fe02cd3552e6a3d236a6e209decbc524e4de6fb2d06\n",
      "Deleted: sha256:7d8f2a0b7b0f4de283a952a87651eeef4f7774d0576c8ee62b03f81d0619571e\n",
      "Deleted: sha256:c8d3fcb86429fdbf668a70018126bb2457112f406ecfac8ac1905736a3b016aa\n",
      "Deleted: sha256:ff7ba86d5b7ada4b9575ca77ad319e6bf2383e40eb79c3283c5a102ca0dc6721\n",
      "Deleted: sha256:4aa8da87044b76e48a44f12fa2bed9e932c2e0c7e78c948d7168665bfebcd8c5\n",
      "Deleted: sha256:a1978cd23403a1f955f94b80a2b94f5c90e4751ccc7dc2a81b47a03a3c5dadb0\n",
      "Untagged: selenium/standalone-chrome-debug:latest\n",
      "Untagged: selenium/standalone-chrome-debug@sha256:ff5cf3f91c6a2e160daa344b7205064539c5573822661ec90b5726a293dc479b\n",
      "Deleted: sha256:593e47f379dbbd2a7b781f7419d8e61ba038d8140ec1c02a8a5033e7636916a2\n",
      "Deleted: sha256:ede2a2e9e03ba627b3186ab9af0bbcde550375fa9d81de6e1fad20bc50e44a86\n",
      "Deleted: sha256:f2c99945f9bcf903e77fed35383f635423bb46b62e822dcee8a021bb9910d634\n",
      "Deleted: sha256:b8ba281dd1761d6d5631b1195138f4bc7733e57d2de7fe75960da6b6c9747eeb\n",
      "Deleted: sha256:9ee55d527fed676107119a1ad5aed74ef35db703aa2352b61773d4f85c6b95d6\n",
      "Deleted: sha256:3c65c0695169b3b2854b2f816207df6fd6c84a40446ff286e4e22233af7a9f31\n",
      "Deleted: sha256:7dcfd286f6ca4134fd5952a58cb8e0d2728948869d1c69105fafb881cde23795\n",
      "Deleted: sha256:db49409e5815cd12788f4613be7f63df4973f35b46d066a577c9a8fd95318439\n",
      "Deleted: sha256:263af027c8c7a99e7c2592446a0eba4bf71371168335d9ba035fdb238e5e2452\n",
      "Deleted: sha256:664270431b30d0a9145abd28ba4c6f78f5d67c6b5e9f7cc35c9cd7a890a7f54b\n",
      "Deleted: sha256:9b7ae719cfbca484577627739b19e44ba8b4621eabf8b688e4d610a732f99a83\n",
      "Deleted: sha256:c64a412b52eb5a21c8bf6fad28cbe424be364fa78d40a4cd971750153876df8c\n",
      "Deleted: sha256:4a62e1f0dca5a82218af64454d90328cb3c375e092939c3cc617ab28c411b0dc\n",
      "Deleted: sha256:f5a224270eae7963a9a0ee1f85b965b697526f3dbaccd00484e3fbcc2e388e8f\n",
      "Deleted: sha256:1961e220a129118ad7d2abf9b6ab020673cc7f4494de82340a3f68459fe388e5\n",
      "Deleted: sha256:c6e3bdffb2faeb367d144c0ebf2bc2dcd80455119901ecbbd74ae93b3dc193f5\n",
      "Deleted: sha256:276b03f33cc31858c7268e7df1ce38457b4ab78492e540ffd1103502ba7a1f8d\n",
      "Deleted: sha256:e92d6a9c201a3900333742c56b1285ec175b1958782bcde1e610a8e781f8bd1b\n",
      "Deleted: sha256:305fcf606c97f2bb888e64d45115770892c06d3060f2b71e6975e0e69e520880\n",
      "Deleted: sha256:dd864b96a38e849779c42a04159bbb39c7ab47253bf222049b471d8f26b60d14\n",
      "Deleted: sha256:80e85c818fa0447c96a42501ca7457ad83e5834aa76f22c366342106889b7411\n",
      "Deleted: sha256:11a2a269cf6ec2cefcb4e24370b8b2d7a4875450bafd3a70bd42eb787481d798\n",
      "Deleted: sha256:1118f33a0ee7a874a04318248a886b2bdaf44cba286644ab7ded870aefe64b62\n",
      "Deleted: sha256:cb11ba6054003d39da5c681006ea346e04fb3444086331176bf57255f149c670\n"
     ]
    }
   ],
   "source": [
    "docker rmi $(docker images -q)\n"
   ]
  },
  {
   "cell_type": "markdown",
   "metadata": {},
   "source": [
    "Delete all images in Powershell?"
   ]
  },
  {
   "cell_type": "code",
   "execution_count": null,
   "metadata": {
    "collapsed": false,
    "inputHidden": false,
    "outputHidden": false
   },
   "outputs": [],
   "source": [
    "docker images -q | %{docker rmi -f $_}"
   ]
  },
  {
   "cell_type": "markdown",
   "metadata": {},
   "source": [
    "Delete containers in cmd?"
   ]
  },
  {
   "cell_type": "code",
   "execution_count": null,
   "metadata": {
    "collapsed": false,
    "inputHidden": false,
    "outputHidden": false
   },
   "outputs": [],
   "source": [
    "FOR /f \"tokens=*\" %i IN ('docker ps -a -q') DO docker rm %i\n"
   ]
  },
  {
   "cell_type": "markdown",
   "metadata": {},
   "source": [
    "Delete images in cmd?"
   ]
  },
  {
   "cell_type": "code",
   "execution_count": null,
   "metadata": {
    "collapsed": false,
    "inputHidden": false,
    "outputHidden": false
   },
   "outputs": [],
   "source": [
    "FOR /f \"tokens=*\" %i IN ('docker images -q') DO docker rmi %i\n",
    "\n"
   ]
  },
  {
   "cell_type": "markdown",
   "metadata": {},
   "source": [
    "Delete danglings images in cmd?"
   ]
  },
  {
   "cell_type": "code",
   "execution_count": null,
   "metadata": {
    "collapsed": false,
    "inputHidden": false,
    "outputHidden": false
   },
   "outputs": [],
   "source": [
    "FOR /f \"tokens=*\" %i IN ('docker images -q -f \"dangling=true\"') DO docker rmi %i\n"
   ]
  }
 ],
 "metadata": {
  "kernel_info": {
   "name": "bash"
  },
  "kernelspec": {
   "display_name": "Bash",
   "language": "bash",
   "name": "bash"
  },
  "language_info": {
   "codemirror_mode": "shell",
   "file_extension": ".sh",
   "mimetype": "text/x-sh",
   "name": "bash"
  }
 },
 "nbformat": 4,
 "nbformat_minor": 4
}
