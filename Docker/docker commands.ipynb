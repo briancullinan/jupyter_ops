{
 "cells": [
  {
   "cell_type": "markdown",
   "metadata": {},
   "source": [
    "# How to use Docker?\n",
    "\n",
    "Build a docker image?\n"
   ]
  },
  {
   "cell_type": "code",
   "execution_count": null,
   "metadata": {
    "collapsed": false,
    "inputHidden": false,
    "outputHidden": false
   },
   "outputs": [],
   "source": [
    "docker build -t act-selenium\n",
    "docker images\n",
    "docker ps -a\n"
   ]
  },
  {
   "cell_type": "markdown",
   "metadata": {},
   "source": [
    "Restart the docker service?\n",
    "\n"
   ]
  },
  {
   "cell_type": "code",
   "execution_count": 1,
   "metadata": {
    "collapsed": false,
    "inputHidden": false,
    "outputHidden": false
   },
   "outputs": [
    {
     "name": "stdout",
     "output_type": "stream",
     "text": [
      "act-selenium\n",
      "act-selenium\n",
      "ce7f89eaf4cce4586c556e0642f94c27d3fc25b5daec505c9398df7f74c0132c\n",
      "CONTAINER ID        IMAGE               COMMAND                  CREATED             STATUS                  PORTS                                                                                                                                            NAMES\n",
      "ce7f89eaf4cc        act-selenium        \"/opt/bin/entry_po...\"   1 second ago        Up Less than a second   0.0.0.0:3000->3000/tcp, 0.0.0.0:4200->4200/tcp, 0.0.0.0:4444->4444/tcp, 0.0.0.0:5900->5900/tcp, 0.0.0.0:6080->6080/tcp, 0.0.0.0:8888->8888/tcp   act-selenium\n"
     ]
    }
   ],
   "source": [
    "if docker ps | grep \"{name}\" then; \\\n",
    "    docker stop {name}; \\\n",
    "    docker rm {name}; \\\n",
    "fi\n"
   ]
  },
  {
   "cell_type": "markdown",
   "metadata": {},
   "source": [
    "Delete all containers?"
   ]
  },
  {
   "cell_type": "code",
   "execution_count": 2,
   "metadata": {
    "collapsed": false,
    "inputHidden": false,
    "outputHidden": false
   },
   "outputs": [
    {
     "name": "stdout",
     "output_type": "stream",
     "text": [
      "f187772a23cb\n"
     ]
    }
   ],
   "source": [
    "docker rm $(docker ps -a -q)\n"
   ]
  },
  {
   "cell_type": "markdown",
   "metadata": {},
   "source": [
    "Delete all images?"
   ]
  },
  {
   "cell_type": "code",
   "execution_count": 3,
   "metadata": {
    "collapsed": false,
    "inputHidden": false,
    "outputHidden": false
   },
   "outputs": [
    {
     "name": "stdout",
     "output_type": "stream",
     "text": [
      "Deleted: sha256:1b8b9874978250e850a1675b2527b589d3dc925de441fffea118b896b41bbc00\n",
      "Deleted: sha256:b6ae62c0ee410c5c8464bfaba452643a9acc5cc358d48882966dd8988e320d63\n",
      "Deleted: sha256:11432a3de67d8a4ffbec5aa6295629fa53acb5a9ee593ba82637c5adea078f65\n",
      "Deleted: sha256:b62ce2b5a706e215e2981ef3b9252cf50a6383a3e8d6fea077f6fc6916825795\n",
      "Deleted: sha256:b5de9f00505f8ca0c107b364d773ea5fb987611c196e1c66244e48d41310550b\n",
      "Deleted: sha256:3bcb2ac47c42e219b7a09ea6c1d2fbff6b875d2e8cef48f6f554ee1057466870\n",
      "Untagged: act-selenium:latest\n",
      "Deleted: sha256:ff0858b5e76fcca26e625042d7426cf75a7e857f1ff0910a2275fab3d68212a7\n",
      "Deleted: sha256:22f01e3dfb9076661928e956e39196b0de691bfd1c74a6e04880271111a5401d\n",
      "Deleted: sha256:94c299fdc36f38e25f0f55036626adf8c6acab9af714711f22eb4696f226e3f1\n",
      "Deleted: sha256:e85a08aac20ac078e7b9e25ef0decaa97fc32f24f1d423e559d1852d5ba90667\n",
      "Deleted: sha256:641bd0109b6fdce1b888c161ddfedec17e61cdcb537200707269ad41286caf43\n",
      "Deleted: sha256:ea10c1edc54563a3e07688d06b591f1697fd5572b456502396ebd64422920895\n",
      "Deleted: sha256:00aa831a1bd23a1cc772af8e6e508465ab0142286add075b0ade2122060ad96b\n",
      "Deleted: sha256:f30424c09cd7853c22ab0770088039e37437cc56401f098677e612b9c5a8086a\n",
      "Deleted: sha256:4b07da70e00c193975d39a8a41233c43122bdec12398ce87b384dc74741b4591\n",
      "Deleted: sha256:0f6a700aa62578423b48afa47cb67c9cf18c6b30ebc37a293ff27eb151ed3d55\n",
      "Deleted: sha256:db33b8fb132403213aa1e0093d5877b506be057a3ff9db64ab7d6de5efde3af7\n",
      "Deleted: sha256:dc786fc632bc8a949796e790182cd2e0306714822e753298c5a0b048eeb3b76f\n",
      "Deleted: sha256:abdbdb4b9110a705b25b614cdbdabffec935c839b91c02a35ff150e30e4d62ce\n",
      "Deleted: sha256:b7d040de907f1ff5b084ec0eba4225915f6f917af1db435fdf30f96c81f6bcb3\n",
      "Deleted: sha256:759deb65ff277b9db4271c2c1f156c61ea7bd220eb63f28888d6fcca1a2b48d7\n",
      "Deleted: sha256:bf821af48f54366679de25a7352dee2f9cd81fae7ea285578eaebe73161c9b7e\n",
      "Deleted: sha256:55144ef5aaf7096e69622c473fb4107f02aea9aabddc8864a67e2b38a1122e97\n",
      "Deleted: sha256:8579ebe9c9043fdbf4229fa66785fc8c055d050b5ad147f5cfc1f43d31d451db\n",
      "Deleted: sha256:8dddc54100011f85931bcc825aab17da8ff0965ab4cd9784d336841a6ca65d7f\n",
      "Deleted: sha256:35deab52469745f7d6042b0212fb9f0abcfc42f6906e95770f801ca81a99f727\n",
      "Deleted: sha256:35de358603ad80c1952609ce09c1e1beb5386e8a5291748a697872e3fe78cd5c\n",
      "Deleted: sha256:9e4571027ff794728896c65fbb3fbda209e2b96c68c8d2d09c134e0fd1f0e376\n",
      "Deleted: sha256:539280872439da8486f0c6ddadc772f8fecaf7085b290d360c26666bb8010985\n",
      "Deleted: sha256:e5f6d6c64d92486e2926a276ba3ca83df98978d143f2afb83f8e8b6be8822103\n",
      "Deleted: sha256:f8d10509a67276f1ab0c6043ef654a8c0dcd3e2004da2923c82d83c32fddac88\n",
      "Deleted: sha256:cbba81892fa525516ab84c7c70f0a22d7595ddbe97adb64ae420df462a210c29\n",
      "Deleted: sha256:cd4f28c385b228389bef74b3028b0dc0051b69d0272ad8cfde79cbabc64e42c4\n",
      "Deleted: sha256:b86ed067d6fc644d82dfbd4ed8f8a9f45cdf8c5adf6aa8b3d78fb1bb6d4aa552\n",
      "Deleted: sha256:98b33286f9dee6164808bb85f01c3f1cc871fbc5f7196adba83cf7fe12504e9d\n",
      "Deleted: sha256:e52e994f6430e5268f849afdc7d8488d2b3eb7f6d6af99c5adb5f5114aa342c2\n",
      "Deleted: sha256:6bc9ed70cabef703b788ce502ada2749cf16b373da9fd46172dc1df3f9f42dcd\n",
      "Deleted: sha256:612f315d3d06f455f99a7377ab6ff511ee4a9a62055c0c9ac19b8ead4b9c2b2f\n",
      "Deleted: sha256:df390f764e10740587f265eef9d7c10d18687560c126bf5e3036e1c2977b1eb3\n",
      "Deleted: sha256:3606008b3a0c73d5137df320c8d643d0584bead15abe78060e307df37dcfe97f\n",
      "Deleted: sha256:031d61cff0ebf8d1f98353d4e15d8b6a6e4793743c900e6f2376c09ac267c5b0\n",
      "Deleted: sha256:902e3b757981bd19e4536d951b3ebd4cdb11633c3e66d24e00c604a4a57c032c\n",
      "Deleted: sha256:90c89e21978db7da052ca824a1a77a24a804617c2eb8865aae85807ac03728bf\n",
      "Deleted: sha256:1efdea84f3c5038ef6a728dcea1dc64fbdd3d42d32e2814c0772ea27f9a3a1ef\n",
      "Deleted: sha256:513fe513f2090d4f0800c4c50dc644dfcb40863a72d31ceb0a45584cdbb49558\n",
      "Deleted: sha256:688c988f2d2f94faf73052a16957481d4c03dd05db8fb9f3bb80991904b704d8\n",
      "Deleted: sha256:6cfa1ac6fe9b1eaeda55eba7020d47d46b3d3dee177170498c318357dc804188\n",
      "Deleted: sha256:b7cc1dd5bea39f6365de9705c9ef007693bd1d91238772fc04f8ca85f00c6578\n",
      "Deleted: sha256:9d306a8473ec97e220326e0c4a3f74ef594747f1cf0037bc7b58fb18cc964965\n",
      "Deleted: sha256:2faa4b2b3e2dae50d4ea1cc80ec52757add37f591866c1ddf0134fd474896bcf\n",
      "Deleted: sha256:8ffe3f40d9f5df84b360ee52ccdbb21964ba3d438396cc4a08127696db4cf89f\n",
      "Deleted: sha256:f15652ba69e2780d916ee03fc3ecc93c7cb527c8870df13f7618797d32db688f\n",
      "Deleted: sha256:56ab0566268d77619c9c02e524ed3cc2b0393f6449154f672c832d3819967b6b\n",
      "Deleted: sha256:17ca1ea821ba0d73f24bf28526fc214d06a1077affb7a9633aeff780ed155dbf\n",
      "Deleted: sha256:56faa5b05979f9f6b965e365e4e35a143136e2e98c66144b38cb274d599daebd\n",
      "Deleted: sha256:ebb15c98c2eab2f3d36e599577373f89b93f63af3106339a2bbe6fa84a42d0e6\n",
      "Deleted: sha256:f7fa6507e3cb714900b0bbc23bbfd295cca574015b74131599b443fe0ac42f20\n",
      "Deleted: sha256:79d2bf34af0444fb8b8b8d4dc628723bf4a44f4bdd1162adf0eb106695370a2b\n",
      "Deleted: sha256:ba91491a572a43bf738d82425943462d27a8e5223618b020c3d43bfec3a00b79\n",
      "Deleted: sha256:3eb6bc529dd1d6caf8a7b1e9a3513c6d8983b7ad4047448aa2173642d61c67f8\n",
      "Deleted: sha256:f9ccda351e384d93c0f3fb14e43dda974976e20467f7e6bd9624c73d2cae45d3\n",
      "Untagged: selenium/standalone-chrome-debug:latest\n",
      "Untagged: selenium/standalone-chrome-debug@sha256:ff5cf3f91c6a2e160daa344b7205064539c5573822661ec90b5726a293dc479b\n",
      "Deleted: sha256:593e47f379dbbd2a7b781f7419d8e61ba038d8140ec1c02a8a5033e7636916a2\n",
      "Deleted: sha256:ede2a2e9e03ba627b3186ab9af0bbcde550375fa9d81de6e1fad20bc50e44a86\n",
      "Deleted: sha256:f2c99945f9bcf903e77fed35383f635423bb46b62e822dcee8a021bb9910d634\n",
      "Deleted: sha256:b8ba281dd1761d6d5631b1195138f4bc7733e57d2de7fe75960da6b6c9747eeb\n",
      "Deleted: sha256:9ee55d527fed676107119a1ad5aed74ef35db703aa2352b61773d4f85c6b95d6\n",
      "Deleted: sha256:3c65c0695169b3b2854b2f816207df6fd6c84a40446ff286e4e22233af7a9f31\n",
      "Deleted: sha256:7dcfd286f6ca4134fd5952a58cb8e0d2728948869d1c69105fafb881cde23795\n",
      "Deleted: sha256:db49409e5815cd12788f4613be7f63df4973f35b46d066a577c9a8fd95318439\n",
      "Deleted: sha256:263af027c8c7a99e7c2592446a0eba4bf71371168335d9ba035fdb238e5e2452\n",
      "Deleted: sha256:664270431b30d0a9145abd28ba4c6f78f5d67c6b5e9f7cc35c9cd7a890a7f54b\n",
      "Deleted: sha256:9b7ae719cfbca484577627739b19e44ba8b4621eabf8b688e4d610a732f99a83\n",
      "Deleted: sha256:c64a412b52eb5a21c8bf6fad28cbe424be364fa78d40a4cd971750153876df8c\n",
      "Deleted: sha256:4a62e1f0dca5a82218af64454d90328cb3c375e092939c3cc617ab28c411b0dc\n",
      "Deleted: sha256:f5a224270eae7963a9a0ee1f85b965b697526f3dbaccd00484e3fbcc2e388e8f\n",
      "Deleted: sha256:1961e220a129118ad7d2abf9b6ab020673cc7f4494de82340a3f68459fe388e5\n",
      "Deleted: sha256:c6e3bdffb2faeb367d144c0ebf2bc2dcd80455119901ecbbd74ae93b3dc193f5\n",
      "Deleted: sha256:276b03f33cc31858c7268e7df1ce38457b4ab78492e540ffd1103502ba7a1f8d\n",
      "Deleted: sha256:e92d6a9c201a3900333742c56b1285ec175b1958782bcde1e610a8e781f8bd1b\n",
      "Deleted: sha256:305fcf606c97f2bb888e64d45115770892c06d3060f2b71e6975e0e69e520880\n",
      "Deleted: sha256:dd864b96a38e849779c42a04159bbb39c7ab47253bf222049b471d8f26b60d14\n",
      "Deleted: sha256:80e85c818fa0447c96a42501ca7457ad83e5834aa76f22c366342106889b7411\n",
      "Deleted: sha256:11a2a269cf6ec2cefcb4e24370b8b2d7a4875450bafd3a70bd42eb787481d798\n",
      "Deleted: sha256:1118f33a0ee7a874a04318248a886b2bdaf44cba286644ab7ded870aefe64b62\n",
      "Deleted: sha256:cb11ba6054003d39da5c681006ea346e04fb3444086331176bf57255f149c670\n"
     ]
    }
   ],
   "source": [
    "docker rmi $(docker images -q)\n"
   ]
  },
  {
   "cell_type": "markdown",
   "metadata": {},
   "source": [
    "Delete all images in Powershell?"
   ]
  },
  {
   "cell_type": "code",
   "execution_count": null,
   "metadata": {
    "collapsed": false,
    "inputHidden": false,
    "outputHidden": false
   },
   "outputs": [],
   "source": [
    "docker images -q | %{docker rmi -f $_}"
   ]
  },
  {
   "cell_type": "markdown",
   "metadata": {},
   "source": [
    "Delete containers in cmd?"
   ]
  },
  {
   "cell_type": "code",
   "execution_count": null,
   "metadata": {
    "collapsed": false,
    "inputHidden": false,
    "outputHidden": false
   },
   "outputs": [],
   "source": [
    "FOR /f \"tokens=*\" %i IN ('docker ps -a -q') DO docker rm %i\n"
   ]
  },
  {
   "cell_type": "markdown",
   "metadata": {},
   "source": [
    "Delete images in cmd?"
   ]
  },
  {
   "cell_type": "code",
   "execution_count": null,
   "metadata": {
    "collapsed": false,
    "inputHidden": false,
    "outputHidden": false
   },
   "outputs": [],
   "source": [
    "FOR /f \"tokens=*\" %i IN ('docker images -q') DO docker rmi %i\n",
    "\n"
   ]
  },
  {
   "cell_type": "markdown",
   "metadata": {},
   "source": [
    "Delete danglings images in cmd?"
   ]
  },
  {
   "cell_type": "code",
   "execution_count": null,
   "metadata": {
    "collapsed": false,
    "inputHidden": false,
    "outputHidden": false
   },
   "outputs": [],
   "source": [
    "FOR /f \"tokens=*\" %i IN ('docker images -q -f \"dangling=true\"') DO docker rmi %i\n"
   ]
  }
 ],
 "metadata": {
  "kernel_info": {
   "name": "bash"
  },
  "kernelspec": {
   "display_name": "Bash",
   "language": "bash",
   "name": "bash"
  },
  "language_info": {
   "codemirror_mode": "shell",
   "file_extension": ".sh",
   "mimetype": "text/x-sh",
   "name": "bash"
  }
 },
 "nbformat": 4,
 "nbformat_minor": 4
}
