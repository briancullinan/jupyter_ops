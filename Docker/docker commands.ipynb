{
 "cells": [
  {
   "cell_type": "markdown",
   "metadata": {},
   "source": [
    "# How to use Docker?\n",
    "\n",
    "Build a docker image?\n"
   ]
  },
  {
   "cell_type": "code",
   "execution_count": null,
   "metadata": {
    "collapsed": false,
    "inputHidden": false,
    "outputHidden": false
   },
   "outputs": [],
   "source": [
    "docker\r",
    "build - t\r",
    "act - selenium\r",
    "docker\r",
    "images\r",
    "docker\r",
    "ps - a\r",
    ""
   ]
  },
  {
   "cell_type": "markdown",
   "metadata": {},
   "source": [
    "Restart the docker service?\n",
    "\n"
   ]
  },
  {
   "cell_type": "code",
   "execution_count": 1,
   "metadata": {
    "collapsed": false,
    "inputHidden": false,
    "outputHidden": false
   },
   "outputs": [
    {
     "name": "stdout",
     "output_type": "stream",
     "text": [
      "act-selenium\n",
      "act-selenium\n",
      "ce7f89eaf4cce4586c556e0642f94c27d3fc25b5daec505c9398df7f74c0132c\n",
      "CONTAINER ID        IMAGE               COMMAND                  CREATED             STATUS                  PORTS                                                                                                                                            NAMES\n",
      "ce7f89eaf4cc        act-selenium        \"/opt/bin/entry_po...\"   1 second ago        Up Less than a second   0.0.0.0:3000->3000/tcp, 0.0.0.0:4200->4200/tcp, 0.0.0.0:4444->4444/tcp, 0.0.0.0:5900->5900/tcp, 0.0.0.0:6080->6080/tcp, 0.0.0.0:8888->8888/tcp   act-selenium\n"
     ]
    }
   ],
   "source": [
    "if docker ps | grep\r",
    "'{name}'\r",
    "then; \\\r",
    "    docker\r",
    "stop\r",
    "{\r",
    "    name\r",
    "}\r",
    "; \\\r",
    "    docker\r",
    "rm\r",
    "{\r",
    "    name\r",
    "}\r",
    "; \\\r",
    "fi\r",
    ""
   ]
  },
  {
   "cell_type": "markdown",
   "metadata": {},
   "source": [
    "Delete all containers?"
   ]
  },
  {
   "cell_type": "code",
   "execution_count": 1,
   "metadata": {
    "collapsed": false,
    "inputHidden": false,
    "outputHidden": false
   },
   "outputs": [
    {
     "name": "stdout",
     "output_type": "stream",
     "text": [
      "33441d02e403\n",
      "01860fb2cdd5\n"
     ]
    }
   ],
   "source": [
    "docker\r",
    "rm\r",
    "$(docker\r",
    "ps - a - q\r",
    ")\r",
    ""
   ]
  },
  {
   "cell_type": "markdown",
   "metadata": {},
   "source": [
    "Delete all images?"
   ]
  },
  {
   "cell_type": "code",
   "execution_count": 2,
   "metadata": {
    "collapsed": false,
    "inputHidden": false,
    "outputHidden": false
   },
   "outputs": [
    {
     "name": "stdout",
     "output_type": "stream",
     "text": [
      "Untagged: act-selenium:latest\n",
      "Deleted: sha256:ef425ad53894e20af409ddbf65b69a89e3ae2639d6d53d867d56ab0084a9e15c\n",
      "Deleted: sha256:ab4888cd92e74d1df7bc74870aaaedfebfa75ccf5d78228270ab3351d51bcaae\n",
      "Deleted: sha256:b7ed5395cb86a76566ea3236c7bc818cb04f728bfbb6b68d872deca6d1947adf\n",
      "Deleted: sha256:ad4f82b30b2ada09a9f85627aacfd958ad5b4a45292b1964e758bddc8db052d6\n",
      "Deleted: sha256:d75980d37598ec1ee79bb7c0112e45ef224e88f6a3f2c5452db4d654ad6e373f\n",
      "Deleted: sha256:a5d7b5cfef2a2a61e9d01600f92d65afec0637c8ae58448068a088253c159d01\n",
      "Deleted: sha256:cda4fda0f630cde49829617ae9f439cb67150039e21ec31f0ed75a938861aaf5\n",
      "Deleted: sha256:af270aee312291220d1cfa8443dbb2b2c5dd2fb474cea70fa1050cd21442d0d2\n",
      "Deleted: sha256:0f149108cad40e6f375ab8f993857039590e63c85b8804b49dcb4761fb4cea55\n",
      "Deleted: sha256:d9b3ec3c4b286abd9562a83cba71f566b2b9e838b9d6a160660066ea7c3c4494\n",
      "Deleted: sha256:fd1ac9831f69563c6362b255ea46b52497791a82054128944ac2dfcfcf7f17dd\n",
      "Deleted: sha256:3758735ae91f6188fa38cf829544a6fcaed1e90e2fc5a980e49abb1e61658b45\n",
      "Deleted: sha256:35e72b531d829e45582fcc373abcae011354df00c4cbf50a1625301557a279b1\n",
      "Deleted: sha256:3f5b46627eb136243f10b10387a89af0370509fc48062c500339650d2ba789cd\n",
      "Deleted: sha256:ddf54a262fd65ccd55b98f8584b3448051c575619bf46509e9f3f20fbfcafed2\n",
      "Deleted: sha256:ad056c0320223d165a7090c08c2f47a6e33678e40732592b9905bb0bcea4e8c9\n",
      "Deleted: sha256:0e10f974e63ae2c7e5a834169ca0e9a4ecc8bebe38e8dcbd21f42ec6a39fa2fa\n",
      "Deleted: sha256:94161df96a1b5a9bb60ea4930eba5a0c6e8a43483e9009776210c92d5b8b5e92\n",
      "Deleted: sha256:d5aebf21f09fae2a6380fc55761e197cbbaf3b193ef39933dc27910c0a3b0038\n",
      "Deleted: sha256:c03c5d72b02af6f9494a831ae0771e872ad7a244f2a1787dfa69039de0b3da68\n",
      "Deleted: sha256:4fc2012a0112560051a4771efef3d07a5b20f310d5c4326c7b2787d987d124ca\n",
      "Deleted: sha256:81eeef6f8a20bcf9e660c28321cd597a29ec65ae5d40e6eb5984ce24704ad15f\n",
      "Deleted: sha256:e4d64e997ab40f5006544edf72ba98a00d113b1374fad2a06b699f7918137e7d\n",
      "Deleted: sha256:cb63971a67cfad9e8d523adaf90704f49894ada11f51009ba8e87e2a285b92d2\n",
      "Deleted: sha256:4493c2a5f8a196c28b288191f37159afe0a8fbb343b2eb3ec45df4c16115c27d\n",
      "Deleted: sha256:72102043ab32a681ad8e2e0d21957c4b3c68e9d4bd96d5b9360e829fc64bb938\n",
      "Deleted: sha256:67b1d92a0568831e891e7af7d73b31e16b637b4292d80e4fb11a946d30c9c41f\n",
      "Deleted: sha256:332aef12e8bc10c6f8c1d4895e4d43f4cccc06baba4c44cdddfa3264233b7469\n",
      "Deleted: sha256:1e03ffd30fea0551c7da95714903b2d5ebd8fd6d67c5833ee6b5cd33f53bcd08\n",
      "Deleted: sha256:c31dd07d74ebcbb1b63f555335b826ebd7c3984f822541b633966e59e6568e33\n",
      "Deleted: sha256:279ab92019b41e92ec61ff5170fe5431f011d95bb4315ba1c5e24b9cd3f13943\n",
      "Deleted: sha256:ea0e9adf9d4c305e2adcd0b2b1852d7b1dd04c264ff53d5e053a1d85729778e6\n",
      "Deleted: sha256:585d33bf967e00de3d57c9f01dce5dccec1e32bb574f650dd0dea8ec59ddc973\n",
      "Deleted: sha256:c766873d1f95cefecec084dd0fddff0de5c57c9467faafdf065373de9c1b82b7\n",
      "Deleted: sha256:901456eb9b4b54d01bbbdd1aeb4b083efe28fb824d7676d2aeaf93ef397b3a2c\n",
      "Deleted: sha256:6fdde5b5b07e7f752174f3bc9f8cb807599fd85722494d7777b72abfc1268103\n",
      "Deleted: sha256:9f4db6cfcf1faa664bc8f6e54998764f063996e7932bc107b0a8cd1269a358ee\n",
      "Deleted: sha256:2b1d56a51be0d6a018de6f66b68188f3ead7c1decc13437db8c36a96390d39b3\n",
      "Deleted: sha256:34e3d38be6f13e4ce45525633649201e60210a0599d9044c1c4cd6564dab937d\n",
      "Deleted: sha256:7d57514db984b36fed728bc0bee03448be59812b98d17c925de6a650e0ff17db\n",
      "Deleted: sha256:16828f42e883b100e856bbeca9f1c01f63ad809d36850ee73ae0242895f9e6a6\n",
      "Deleted: sha256:b22b92d004c497fbadcef892ed430960f9ebfc2bdbf7d583b85fa6c18d2ef0b8\n",
      "Deleted: sha256:5aac8448dd9f49608ed516efbcc6a88a990b4719df04393d693389b52a445c21\n",
      "Deleted: sha256:333646ce6c668b1551c0207c4840f0c7eed1d9ec6ec66c0397eca424ea138c19\n",
      "Deleted: sha256:41938f7b8b820be63cba234c14d688ad2f4e40abe6fb5d373e2dec9c0dee24d6\n",
      "Deleted: sha256:c8d2655e876f49dfd8b84c6b0cb3898d3ec2d6bc80163bcdd027c7b168ac364c\n",
      "Deleted: sha256:4c4919cc9ed9f01a29df5350755f23a14042926105d6dee171399f1c35504e35\n",
      "Deleted: sha256:c17fc8fdc5840953cf6e7371806838d513787f0bd8a415b8ca1c59ef38177452\n",
      "Deleted: sha256:a1861b14423ec08f12b31806da48af87fbbd928dfce75128686a278dd7f0084b\n",
      "Deleted: sha256:1030c5fb0b4637add126d6b64329713498e16a522302d1ae54d4bd1756d8d613\n",
      "Deleted: sha256:52a32fcd02292ba55defbc933675582ff92d012404678043da7e86b267bac6d7\n",
      "Deleted: sha256:2a7b242ec5089396c40290ec9ceda1f930c2ec6b773d80d46a8cb01c626c9024\n",
      "Deleted: sha256:8019bdc5540027b1eda4768be0ca9d0e13b71b5c87330f576e993dadcf6b865b\n",
      "Deleted: sha256:3f7f6a53c507c49e44de62166ddfc1ab7d89585410f78206149e78b9c988522e\n",
      "Deleted: sha256:c36d52bb29528afee138939778fcfef47b4122daacc727156181157db6eb443c\n",
      "Deleted: sha256:44011bd7a2287179a90885ad9fd03ceedea4346702871a51f2a0fdac914dad3d\n",
      "Deleted: sha256:a40a3fab5869402668c7580ed8e65e161726e05c49cb8ba50e9037a8a4bdd672\n",
      "Deleted: sha256:5ae759cebfe7b583537405045df734a9107cf5dd0c04c0682b1d3a2760a0d827\n",
      "Deleted: sha256:4f815b8e9f022ddeedc48f6809e8a7cc2eade633d921430315d604a6906eb179\n",
      "Deleted: sha256:5d211abcbb816652b694da881fd79a2b3a8fd9153c9789880f11f19f51338a0d\n",
      "Deleted: sha256:48bb6b463bc92017cf796b21e4691c3a7febddaa9403d988d05002393ee26e3e\n",
      "Deleted: sha256:79e2d53574d3882a5eea8e5dfd4eadb863dddd79b1fb10c6167b2b470f1909f9\n",
      "Deleted: sha256:273f5ebe78209daa6d6bf4382146a14977547a10453e2802053cc0db115d6513\n",
      "Deleted: sha256:a430b2924546f9910b0f9f45851b2fe91082665d4c3d25ea0027798c5672879d\n",
      "Deleted: sha256:ac5ae7d4a38d85ce35c6d0a2b06e7e1e8479a2b44410f56f7242e5ad1f986d00\n",
      "Deleted: sha256:cda4b62a4895079164626c05e2b56bf718c2ddde099c6aa985b90c28549f67f9\n",
      "Deleted: sha256:a5fb783eba1fa8aa0adefd75819e6ba9a5d3d190e8fd1412749dec3fd5a005e1\n",
      "Deleted: sha256:d88e2e11064a7287a65b85721a9c00e687237b1788a06b1b0e91a1334a3bace6\n",
      "Deleted: sha256:aadc0db0f6ed2e2585dcdadd24fc94bacfa172506dd2d9133d8ba65c6f003f44\n",
      "Deleted: sha256:bf371b4cbb0465fa8c97333e1265344e3efdeb2ef42bc1d082244d8b9143497b\n",
      "Deleted: sha256:e1d9342e65bc7d28f102a7543d237483a8878d7c4cc21991492dddf1cb45cf9c\n",
      "Deleted: sha256:6ee27da9e04ad3a24a3f09116234610e98af53f3d2ffaa759aedc721953ca92c\n",
      "Deleted: sha256:599c3d2be27ece09eec86bf2bfca1604ead6f80061c86bc560318701fdb752da\n",
      "Deleted: sha256:8de81f8efbb0b65bfe858d115384b5b0a6c5f7b3525e21a6791911cfa494a056\n",
      "Deleted: sha256:c54c8757dcfff1f617d25f5d624ed4587b4ab80eda5ca81ceaec368bb3cefa70\n",
      "Deleted: sha256:1ec30ab0541d6d5233e94ea95eeb915cb5edee87d59c49e0d4adaf052e3a5f9e\n",
      "Deleted: sha256:5c88188ae19e279656dd51735bb88bc19f9abcd19b4d0940b7f86e7d92ea1fdb\n",
      "Deleted: sha256:25a779671ae2378d9a384689363782f37d363607560fdb91d90fbac01f6a50f8\n",
      "Untagged: selenium/standalone-chrome-debug:latest\n",
      "Untagged: selenium/standalone-chrome-debug@sha256:ff5cf3f91c6a2e160daa344b7205064539c5573822661ec90b5726a293dc479b\n",
      "Deleted: sha256:593e47f379dbbd2a7b781f7419d8e61ba038d8140ec1c02a8a5033e7636916a2\n",
      "Deleted: sha256:ede2a2e9e03ba627b3186ab9af0bbcde550375fa9d81de6e1fad20bc50e44a86\n",
      "Deleted: sha256:f2c99945f9bcf903e77fed35383f635423bb46b62e822dcee8a021bb9910d634\n",
      "Deleted: sha256:b8ba281dd1761d6d5631b1195138f4bc7733e57d2de7fe75960da6b6c9747eeb\n",
      "Deleted: sha256:9ee55d527fed676107119a1ad5aed74ef35db703aa2352b61773d4f85c6b95d6\n",
      "Deleted: sha256:3c65c0695169b3b2854b2f816207df6fd6c84a40446ff286e4e22233af7a9f31\n",
      "Deleted: sha256:7dcfd286f6ca4134fd5952a58cb8e0d2728948869d1c69105fafb881cde23795\n",
      "Deleted: sha256:db49409e5815cd12788f4613be7f63df4973f35b46d066a577c9a8fd95318439\n",
      "Deleted: sha256:263af027c8c7a99e7c2592446a0eba4bf71371168335d9ba035fdb238e5e2452\n",
      "Deleted: sha256:664270431b30d0a9145abd28ba4c6f78f5d67c6b5e9f7cc35c9cd7a890a7f54b\n",
      "Deleted: sha256:9b7ae719cfbca484577627739b19e44ba8b4621eabf8b688e4d610a732f99a83\n",
      "Deleted: sha256:c64a412b52eb5a21c8bf6fad28cbe424be364fa78d40a4cd971750153876df8c\n",
      "Deleted: sha256:4a62e1f0dca5a82218af64454d90328cb3c375e092939c3cc617ab28c411b0dc\n",
      "Deleted: sha256:f5a224270eae7963a9a0ee1f85b965b697526f3dbaccd00484e3fbcc2e388e8f\n",
      "Deleted: sha256:1961e220a129118ad7d2abf9b6ab020673cc7f4494de82340a3f68459fe388e5\n",
      "Deleted: sha256:c6e3bdffb2faeb367d144c0ebf2bc2dcd80455119901ecbbd74ae93b3dc193f5\n",
      "Deleted: sha256:276b03f33cc31858c7268e7df1ce38457b4ab78492e540ffd1103502ba7a1f8d\n",
      "Deleted: sha256:e92d6a9c201a3900333742c56b1285ec175b1958782bcde1e610a8e781f8bd1b\n",
      "Deleted: sha256:305fcf606c97f2bb888e64d45115770892c06d3060f2b71e6975e0e69e520880\n",
      "Deleted: sha256:dd864b96a38e849779c42a04159bbb39c7ab47253bf222049b471d8f26b60d14\n",
      "Deleted: sha256:80e85c818fa0447c96a42501ca7457ad83e5834aa76f22c366342106889b7411\n",
      "Deleted: sha256:11a2a269cf6ec2cefcb4e24370b8b2d7a4875450bafd3a70bd42eb787481d798\n",
      "Deleted: sha256:1118f33a0ee7a874a04318248a886b2bdaf44cba286644ab7ded870aefe64b62\n",
      "Deleted: sha256:cb11ba6054003d39da5c681006ea346e04fb3444086331176bf57255f149c670\n"
     ]
    }
   ],
   "source": [
    "docker\r",
    "rmi\r",
    "$(docker\r",
    "images - q\r",
    ")\r",
    ""
   ]
  },
  {
   "cell_type": "markdown",
   "metadata": {},
   "source": [
    "Delete all images in Powershell?"
   ]
  },
  {
   "cell_type": "code",
   "execution_count": null,
   "metadata": {
    "collapsed": false,
    "inputHidden": false,
    "outputHidden": false
   },
   "outputs": [],
   "source": [
    "docker\r",
    "images - q | % {docker rmi - f $_}"
   ]
  },
  {
   "cell_type": "markdown",
   "metadata": {},
   "source": [
    "Delete containers in cmd?"
   ]
  },
  {
   "cell_type": "code",
   "execution_count": null,
   "metadata": {
    "collapsed": false,
    "inputHidden": false,
    "outputHidden": false
   },
   "outputs": [],
   "source": [
    "FOR / f\r",
    "'tokens=*' % i\r",
    "IN('docker ps -a -q')\r",
    "DO\r",
    "docker\r",
    "rm % i\r",
    ""
   ]
  },
  {
   "cell_type": "markdown",
   "metadata": {},
   "source": [
    "Delete images in cmd?"
   ]
  },
  {
   "cell_type": "code",
   "execution_count": null,
   "metadata": {
    "collapsed": false,
    "inputHidden": false,
    "outputHidden": false
   },
   "outputs": [],
   "source": [
    "FOR / f\r",
    "'tokens=*' % i\r",
    "IN('docker images -q')\r",
    "DO\r",
    "docker\r",
    "rmi % i\r",
    "\r",
    ""
   ]
  },
  {
   "cell_type": "markdown",
   "metadata": {},
   "source": [
    "Delete danglings images in cmd?"
   ]
  },
  {
   "cell_type": "code",
   "execution_count": null,
   "metadata": {
    "collapsed": false,
    "inputHidden": false,
    "outputHidden": false
   },
   "outputs": [],
   "source": [
    "FOR / f\r",
    "'tokens=*' % i\r",
    "IN('docker images -q -f \"dangling=true\"')\r",
    "DO\r",
    "docker\r",
    "rmi % i\r",
    ""
   ]
  }
 ],
 "metadata": {
  "kernel_info": {
   "name": "bash"
  },
  "kernelspec": {
   "display_name": "Bash",
   "language": "bash",
   "name": "bash"
  },
  "language_info": {
   "codemirror_mode": "shell",
   "file_extension": ".sh",
   "mimetype": "text/x-sh",
   "name": "bash"
  }
 },
 "nbformat": 4,
 "nbformat_minor": 4
}