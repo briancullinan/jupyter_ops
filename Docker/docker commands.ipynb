{
 "cells": [
  {
   "cell_type": "markdown",
   "metadata": {},
   "source": [
    "# How to use Docker?\n",
    "\n",
    "Build a docker image?\n"
   ]
  },
  {
   "cell_type": "code",
   "execution_count": null,
   "metadata": {
    "inputHidden": false,
    "outputHidden": false
   },
   "outputs": [],
   "source": [
    "docker build -t act-selenium\n",
    "docker images\n",
    "docker ps -a\n"
   ]
  },
  {
   "cell_type": "markdown",
   "metadata": {},
   "source": [
    "Restart the docker service?\n",
    "\n"
   ]
  },
  {
   "cell_type": "code",
   "execution_count": null,
   "metadata": {
    "inputHidden": false,
    "outputHidden": false
   },
   "outputs": [],
   "source": [
    "if docker ps | grep \"{name}\" then; \\\n",
    "    docker stop {name}; \\\n",
    "    docker rm {name}; \\\n",
    "fi\n"
   ]
  },
  {
   "cell_type": "markdown",
   "metadata": {},
   "source": [
    "Actually delete everything?\n"
   ]
  },
  {
   "cell_type": "code",
   "execution_count": null,
   "metadata": {},
   "outputs": [],
   "source": [
    "docker system prune -a\n"
   ]
  },
  {
   "cell_type": "markdown",
   "metadata": {},
   "source": [
    "Delete all containers?"
   ]
  },
  {
   "cell_type": "code",
   "execution_count": null,
   "metadata": {
    "inputHidden": false,
    "outputHidden": false
   },
   "outputs": [],
   "source": [
    "docker rm $(docker ps -a -q)\n"
   ]
  },
  {
   "cell_type": "markdown",
   "metadata": {},
   "source": [
    "Delete all images?"
   ]
  },
  {
   "cell_type": "code",
   "execution_count": null,
   "metadata": {
    "inputHidden": false,
    "outputHidden": false
   },
   "outputs": [],
   "source": [
    "docker rmi $(docker images -q)\n"
   ]
  },
  {
   "cell_type": "markdown",
   "metadata": {},
   "source": [
    "Delete all images in Powershell?"
   ]
  },
  {
   "cell_type": "code",
   "execution_count": null,
   "metadata": {
    "inputHidden": false,
    "outputHidden": false
   },
   "outputs": [],
   "source": [
    "docker images -q | %{docker rmi -f $_}"
   ]
  },
  {
   "cell_type": "markdown",
   "metadata": {},
   "source": [
    "Delete containers in cmd?"
   ]
  },
  {
   "cell_type": "code",
   "execution_count": null,
   "metadata": {
    "inputHidden": false,
    "outputHidden": false
   },
   "outputs": [],
   "source": [
    "FOR /f \"tokens=*\" %i IN ('docker ps -a -q') DO docker rm %i\n"
   ]
  },
  {
   "cell_type": "markdown",
   "metadata": {},
   "source": [
    "Delete images in cmd?"
   ]
  },
  {
   "cell_type": "code",
   "execution_count": null,
   "metadata": {
    "inputHidden": false,
    "outputHidden": false
   },
   "outputs": [],
   "source": [
    "FOR /f \"tokens=*\" %i IN ('docker images -q') DO docker rmi %i\n",
    "\n"
   ]
  },
  {
   "cell_type": "markdown",
   "metadata": {},
   "source": [
    "Delete danglings images in cmd?"
   ]
  },
  {
   "cell_type": "code",
   "execution_count": null,
   "metadata": {
    "inputHidden": false,
    "outputHidden": false
   },
   "outputs": [],
   "source": [
    "FOR /f \"tokens=*\" %i IN ('docker images -q -f \"dangling=true\"') DO docker rmi %i\n"
   ]
  },
  {
   "cell_type": "markdown",
   "metadata": {},
   "source": [
    "Docker do a bunch\n",
    "\n"
   ]
  },
  {
   "cell_type": "code",
   "execution_count": null,
   "metadata": {},
   "outputs": [],
   "source": [
    "docker build -t briancullinan/quake3e:build-tools --target build-tools .\n",
    "docker build -t briancullinan/quake3e:build-latest --no-cache --target build-latest .\n",
    "docker build -t briancullinan/quake3e:build-ded --target build-ded .\n",
    "docker build -t briancullinan/quake3e:build-js --target build-js .\n",
    "\n",
    "docker build -t briancullinan/quake3e:serve-tools --no-cache --target serve-tools .\n",
    "docker build -t briancullinan/quake3e:serve-content --target serve-content .\n",
    "docker build -t briancullinan/quake3e:serve-quake3e --target serve-quake3e .\n",
    "docker build -t briancullinan/quake3e:serve-both --target serve-both .\n",
    "docker build -t briancullinan/quake3e:repack --target repack .\n",
    "docker build -t briancullinan/quake3e:latest --target latest .\n",
    "\n",
    "docker run -ti -v /Applications/ioquake3/baseq3:/home/baseq3 --name baseq3 briancullinan/quake3e:repack\n",
    "docker commit baseq3\n",
    "docker tag baseq3 briancullinan/quake3e:baseq3\n",
    "\n",
    "docker build -t briancullinan/quake3e:full --target full .\n",
    "\n",
    "docker push briancullinan/quake3e:build-tools\n",
    "docker push briancullinan/quake3e:build-latest\n",
    "docker push briancullinan/quake3e:build-js\n",
    "docker push briancullinan/quake3e:build-content\n",
    "\n",
    "docker push briancullinan/quake3e:serve-tools\n",
    "docker push briancullinan/quake3e:serve-content\n",
    "docker push briancullinan/quake3e:serve-quake3e\n",
    "docker push briancullinan/quake3e:serve-both\n",
    "docker push briancullinan/quake3e:repack\n",
    "docker push briancullinan/quake3e:latest\n",
    "docker push briancullinan/quake3e:baseq3\n",
    "docker push briancullinan/quake3e:full\n"
   ]
  }
 ],
 "metadata": {
  "kernel_info": {
   "name": "bash"
  },
  "kernelspec": {
   "display_name": "Bash",
   "language": "bash",
   "name": "bash"
  },
  "language_info": {
   "codemirror_mode": "shell",
   "file_extension": ".sh",
   "mimetype": "text/x-sh",
   "name": "bash"
  },
  "toc": {
   "base_numbering": 1,
   "nav_menu": {},
   "number_sections": true,
   "sideBar": true,
   "skip_h1_title": false,
   "title_cell": "Table of Contents",
   "title_sidebar": "Contents",
   "toc_cell": false,
   "toc_position": {},
   "toc_section_display": true,
   "toc_window_display": false
  }
 },
 "nbformat": 4,
 "nbformat_minor": 4
}
