{
  "cells": [
    {
      "cell_type": "markdown",
      "source": [
        "# How to find answers using jupyter?\n",
        "\n",
        "Include this header script in your notebooks to find more answers.\n",
        "\n",
        "How to use inheritence in jupyter notebooks?\n",
        "\n",
        "How to make a class out of jupter notebooks?\n",
        "\n",
        "How to use jupyter notebooks as services?\n"
      ],
      "metadata": {}
    },
    {
      "cell_type": "markdown",
      "source": [
        "How to sanity check the environment?"
      ],
      "metadata": {}
    },
    {
      "cell_type": "code",
      "source": [
        "var vm = require('vm');\n",
        "var fs = require('fs');\n",
        "// TODO: exports, require, module, __filename, __dirname\n",
        "if (typeof importNotebook == 'undefined') {\n",
        "    require('child_process').execSync('npm install JSONStream');\n",
        "}\n",
        "if (typeof importedNotebooks == 'undefined') {\n",
        "    var importedNotebooks = ['How to find answers.ipynb'];\n",
        "}\n",
        "if (typeof commandRegistry == 'undefined') {\n",
        "    var commandRegistry = {};\n",
        "    commandRegistry['commandRegistry'] = commandRegistry;\n",
        "}\n",
        "$$.done('import ready');\n"
      ],
      "outputs": [],
      "execution_count": 2,
      "metadata": {
        "collapsed": false,
        "outputHidden": false,
        "inputHidden": false
      }
    },
    {
      "cell_type": "markdown",
      "source": [
        "How to import a code cells from jupyter?\n",
        "\n",
        "How to import cells of different {types}?\n"
      ],
      "metadata": {}
    },
    {
      "cell_type": "code",
      "source": [
        "var getCells = (notebook, types) => {\n",
        "    if (typeof types == 'undefined') {\n",
        "        var types = 'code';\n",
        "    }\n",
        "    if (typeof types === 'string') {\n",
        "        types = [types];\n",
        "    }\n",
        "    var cellsToRun = [];\n",
        "    var cells = fs.createReadStream(notebook).pipe(require('JSONStream').parse('cells.*'));\n",
        "    cells.on('data', (cell) => {\n",
        "        if(types.indexOf(cell.cell_type) > -1) {\n",
        "            cellsToRun[cellsToRun.length] = cell;\n",
        "        }\n",
        "    });\n",
        "    return new Promise((resolve, reject) => {\n",
        "        cells.on('error', e => reject(e, notebook));\n",
        "        cells.on('close', () => resolve(cellsToRun, notebook))\n",
        "    });\n",
        "};\n",
        "commandRegistry['getCells'] = getCells;\n",
        "$$.done(getCells);\n",
        "\n"
      ],
      "outputs": [],
      "execution_count": 3,
      "metadata": {
        "collapsed": false,
        "outputHidden": false,
        "inputHidden": false
      }
    },
    {
      "cell_type": "markdown",
      "source": [
        "How to create VM promises out of the cell content?"
      ],
      "metadata": {}
    },
    {
      "cell_type": "code",
      "source": [
        "// supported format How to find answers.ipynb[2]\n",
        "var promiseContext = (scripts, notebook) => {\n",
        "    var tempGlobal = Object.assign({}, global);\n",
        "    tempGlobal = Object.assign(tempGlobal, commandRegistry);\n",
        "    tempGlobal.$$ = Object.assign({}, $$);\n",
        "    var context = vm.createContext(tempGlobal);\n",
        "    return scripts.map((cell, i) => {\n",
        "        var script = new vm.Script(`\\n\\nconsole.log('running cell[${i}]');\\n\\n` + cell + '\\n\\n;\\n\\n');\n",
        "        return ((resolve, reject) => {\n",
        "            var result;\n",
        "            try {\n",
        "                var tmp$$ = Object.assign(tempGlobal.$$, {\n",
        "                    _isAsync: false,\n",
        "                    async: () => tmp$$._isAsync = true,\n",
        "                    done: (d) => resolve(d, i)\n",
        "                });\n",
        "                tempGlobal.$$ = tmp$$;\n",
        "                result = script.runInContext(context);\n",
        "                if (!tmp$$._isAsync) {\n",
        "                    return resolve(result, i);\n",
        "                }\n",
        "            } catch (e) {\n",
        "                return resolve(e, i);\n",
        "            }\n",
        "        });\n",
        "    });\n",
        "};\n",
        "commandRegistry['promiseContext'] = promiseContext;\n",
        "$$.async();\n",
        "var cell = [\n",
        "    'console.log(\"Sucessfully ran a script in it\\'s own context!\")'\n",
        "];\n",
        "var promise = promiseContext(cell, 'this one')\n",
        "    .map((p) => new Promise(p))[0]\n",
        "    .then(() => $$.done(promiseContext));\n"
      ],
      "outputs": [],
      "execution_count": 4,
      "metadata": {
        "collapsed": false,
        "outputHidden": false,
        "inputHidden": false
      }
    },
    {
      "cell_type": "markdown",
      "source": [
        "How to resolve a list of promises?\n",
        "\n",
        "How to execute all the cells in a notebook?\n",
        "\n"
      ],
      "metadata": {}
    },
    {
      "cell_type": "code",
      "source": [
        "\n",
        "var runAllPromises = (promises, notebook) => {\n",
        "    return promises.reduce((promise, func) => {\n",
        "        return promise.then(result => {\n",
        "            return (new Promise(func)).then((r, i) => {\n",
        "                console.log(r);\n",
        "                return r\n",
        "            }).then(Array.prototype.concat.bind(result))\n",
        "                .catch(e => console.log('error' + e))\n",
        "        });\n",
        "    },Promise.resolve([])).catch(e => console.log('error' + e));\n",
        "};\n",
        "commandRegistry['runAllPromises'] = runAllPromises;\n",
        "$$.async();\n",
        "var cells = [\n",
        "    '$$.done(\"promise 1\")',\n",
        "    '$$.done(\"promise 2\")',\n",
        "    '$$.done(\"Sucessfully ran a all promises!\")'\n",
        "];\n",
        "var promises = promiseContext(cells, 'this one')\n",
        "runAllPromises(promises, 'this one')\n",
        "    .then((results) => {\n",
        "        $$.done(runAllPromises);\n",
        "        console.log(results);\n",
        "        return results;\n",
        "    });\n"
      ],
      "outputs": [],
      "execution_count": 5,
      "metadata": {
        "collapsed": false,
        "outputHidden": false,
        "inputHidden": false
      }
    },
    {
      "cell_type": "markdown",
      "source": [
        "How to import a {notebook}?\n",
        "\n",
        "How to test the import feature?\n"
      ],
      "metadata": {}
    },
    {
      "cell_type": "code",
      "source": [
        "var importNotebook = (notebook) => {\n",
        "    if(typeof notebook === 'undefined') {\n",
        "        return;\n",
        "    }\n",
        "    if (importedNotebooks.indexOf(notebook) > -1) {\n",
        "        throw 'Already imported ' + importedNotebooks.toString();\n",
        "    }\n",
        "    importedNotebooks[importedNotebooks.length] = notebook;\n",
        "    return getCells(notebook, 'code').then((cells) => {\n",
        "        var sources = cells.map(cell => cell.source.join('').trim());\n",
        "        var promises = promiseContext(sources, notebook);\n",
        "        console.log('started notebook ' + notebook);\n",
        "        return runAllPromises(promises, notebook);\n",
        "    }).then((results) => {\n",
        "        results.forEach(r => {\n",
        "            if (typeof r === 'function') {\n",
        "                commandRegistry[notebook+'['+i+']'] = r;\n",
        "            }\n",
        "        });\n",
        "        console.log(results);\n",
        "        console.log('ran notebook ' + notebook);\n",
        "        return results;\n",
        "    });\n",
        "}\n",
        "commandRegistry['importNotebook'] = importNotebook;\n",
        "$$.async();\n",
        "if (typeof imports === 'undefined') { var imports = Promise.resolve() } try {\n",
        "imports = imports.then(importNotebook('How to test import.ipynb'))\n",
        "    .then((results) => {\n",
        "        console.log(results);\n",
        "        $$.done(importNotebook);\n",
        "        return results;\n",
        "    }).catch((e) => $$.done(e));\n",
        "} catch (e) {$$.done(e)}\n"
      ],
      "outputs": [],
      "execution_count": 6,
      "metadata": {
        "collapsed": false,
        "outputHidden": false,
        "inputHidden": false
      }
    },
    {
      "cell_type": "markdown",
      "source": [
        "TODO: MAKE THIS HEADER SMALLER?\n",
        "\n",
        "How to provide this command as a service to other notebooks?\n",
        "\n",
        "What to include to create inheritence in jupyter?\n",
        "\n",
        "How to turn jupyter notebooks in to modules?\n",
        "\n"
      ],
      "metadata": {}
    },
    {
      "cell_type": "code",
      "source": [
        "// Does this work everywhere?\n",
        "var $c = console.log;\n",
        "if (typeof notebook == 'undefined') {\n",
        "    var notebook = 'How to find answers.ipynb';\n",
        "}\n",
        "if (typeof importNotebook == 'undefined') {\n",
        "    var importNotebook = true;\n",
        "    try {\n",
        "        var m, co = '', vm = require('vm');\n",
        "        var source = require('fs').readFileSync(notebook).toString();\n",
        "        var re = new RegExp('\\\\s*\"cell_type\": \"code\",\\\\s*\"source\":\\\\s*\\\\[\\\\s*([\\\\s\\\\S]*?\\\\$\\\\$.done[\\\\s\\\\S]*?)\\\\s*\\\\]\\\\s*,\\s*', 'ig');\n",
        "        while (m = re.exec(source)) { co += (co == '' ? '' : ',\\n' ) + m[1] + ',\"\\\\n\"'; }\n",
        "        co = '\\n\\$$ = get$$();\\n\\n' + JSON.parse('['+co+']').join('') + '\\n\\n;';\n",
        "        global.getGlobal = () => global;\n",
        "        global.get$$ = () => {\n",
        "            var temp$$ = Object.assign({}, global.$$);\n",
        "            return Object.assign(temp$$, {\n",
        "                async: () => {},\n",
        "                done: (done) => {}\n",
        "            });\n",
        "        };\n",
        "        var tmpGlobal = Object.assign({}, global);\n",
        "        var context = vm.createContext(tmpGlobal);\n",
        "        (new vm.Script(co)).runInContext(context);\n",
        "        $$.async();\n",
        "        tmpGlobal.imports.then((done) => {\n",
        "            Object.assign(global, tmpGlobal.commandRegistry);\n",
        "            $$.done(done);\n",
        "        });\n",
        "    } catch (e) {\n",
        "        $$.done(e);\n",
        "    }\n",
        "}\n"
      ],
      "outputs": [
        {
          "output_type": "stream",
          "name": "stdout",
          "text": [
            "running cell[0]\n",
            "Sucessfully ran a script in it's own context!\n",
            "running cell[0]\n",
            "promise 1\n",
            "undefined\n",
            "running cell[1]\n",
            "promise 2\n",
            "running cell[2]\n",
            "Sucessfully ran a all promises!\n",
            "[ 'promise 1', 'promise 2', 'Sucessfully ran a all promises!' ]\n",
            "started notebook How to test import.ipynb\n",
            "running cell[0]\n",
            "started notebook How to interpret questions.ipynb\n",
            "running cell[0]\n",
            "undefined\n",
            "running cell[1]\n",
            "[ '/Users/briancullinan/jupytangular2/notebooks/.ipynb_checkpoints/2017 Update-checkpoint.ipynb',\n",
            "  '/Users/briancullinan/jupytangular2/notebooks/.ipynb_checkpoints/ECommerce-checkpoint.ipynb',\n",
            "  '/Users/briancullinan/jupytangular2/notebooks/.ipynb_checkpoints/Good UX Intro-checkpoint.ipynb',\n",
            "  '/Users/briancullinan/jupytangular2/notebooks/.ipynb_checkpoints/Landing Pages-checkpoint.ipynb',\n",
            "  '/Users/briancullinan/jupytangular2/notebooks/.ipynb_checkpoints/Selenium Automation-checkpoint.ipynb',\n",
            "  '/Users/briancullinan/jupytangular2/notebooks/.ipynb_checkpoints/Untitled-checkpoint.ipynb',\n",
            "  '/Users/briancullinan/jupytangular2/notebooks/.ipynb_checkpoints/Untitled1-checkpoint.ipynb',\n",
            "  '/Users/briancullinan/jupytangular2/notebooks/.ipynb_checkpoints/What is Angular 2-checkpoint.ipynb',\n",
            "  '/Users/briancullinan/jupytangular2/notebooks/.ipynb_checkpoints/Wireframing-checkpoint.ipynb',\n",
            "  '/Users/briancullinan/jupytangular2/notebooks/2017 Update.ipynb',\n",
            "  '/Users/briancullinan/jupytangular2/notebooks/ECommerce.ipynb',\n",
            "  '/Users/briancullinan/jupytangular2/notebooks/Good UX Intro.ipynb',\n",
            "  '/Users/briancullinan/jupytangular2/notebooks/How should code look.ipynb',\n",
            "  '/Users/briancullinan/jupytangular2/notebooks/How to find answers.ipynb',\n",
            "  '/Users/briancullinan/jupytangular2/notebooks/How to install Docker on Mac.ipynb',\n",
            "  '/Users/briancullinan/jupytangular2/notebooks/How to install Docker on Windows.ipynb',\n",
            "  '/Users/briancullinan/jupytangular2/notebooks/How to interpret questions.ipynb',\n",
            "  '/Users/briancullinan/jupytangular2/notebooks/How to test import.ipynb',\n",
            "  '/Users/briancullinan/jupytangular2/notebooks/How to use express.ipynb',\n",
            "  '/Users/briancullinan/jupytangular2/notebooks/How to use simple-imap.ipynb',\n",
            "  '/Users/briancullinan/jupytangular2/notebooks/Landing Pages.ipynb',\n",
            "  '/Users/briancullinan/jupytangular2/notebooks/Selenium Automation.ipynb',\n",
            "  '/Users/briancullinan/jupytangular2/notebooks/Untitled.ipynb',\n",
            "  '/Users/briancullinan/jupytangular2/notebooks/Untitled1.ipynb',\n",
            "  '/Users/briancullinan/jupytangular2/notebooks/What is Angular 2.ipynb',\n",
            "  '/Users/briancullinan/jupytangular2/notebooks/What is Docker.ipynb',\n",
            "  '/Users/briancullinan/jupytangular2/notebooks/What is Selenium.ipynb',\n",
            "  '/Users/briancullinan/jupytangular2/notebooks/What repositories do we need.ipynb',\n",
            "  '/Users/briancullinan/jupytangular2/notebooks/Wireframing.ipynb' ]\n",
            "[Function: walkSync]\n",
            "running cell[2]\n",
            "undefined\n",
            "running cell[3]\n",
            "errorTypeError: path must be a string or Buffer\n",
            "errorTypeError: path must be a string or Buffer\n",
            "errorTypeError: path must be a string or Buffer\n",
            "errorTypeError: path must be a string or Buffer\n",
            "errorTypeError: path must be a string or Buffer\n",
            "errorTypeError: path must be a string or Buffer\n",
            "errorTypeError: path must be a string or Buffer\n",
            "errorTypeError: path must be a string or Buffer\n",
            "errorTypeError: path must be a string or Buffer\n",
            "errorTypeError: path must be a string or Buffer\n",
            "errorTypeError: path must be a string or Buffer\n",
            "errorTypeError: path must be a string or Buffer\n",
            "errorTypeError: path must be a string or Buffer\n",
            "errorTypeError: path must be a string or Buffer\n",
            "errorTypeError: path must be a string or Buffer\n",
            "errorTypeError: path must be a string or Buffer\n",
            "errorTypeError: path must be a string or Buffer\n",
            "errorTypeError: path must be a string or Buffer\n",
            "errorTypeError: path must be a string or Buffer\n",
            "errorTypeError: path must be a string or Buffer\n",
            "errorTypeError: path must be a string or Buffer\n",
            "errorTypeError: path must be a string or Buffer\n",
            "errorTypeError: path must be a string or Buffer\n",
            "errorTypeError: path must be a string or Buffer\n",
            "errorTypeError: path must be a string or Buffer\n",
            "errorTypeError: path must be a string or Buffer\n",
            "errorTypeError: path must be a string or Buffer\n",
            "errorTypeError: path must be a string or Buffer\n",
            "errorTypeError: path must be a string or Buffer\n",
            "undefined\n",
            "running cell[4]\n",
            "undefined\n",
            "1\n",
            "running cell[1]\n",
            "should only fail per cell\n",
            "running cell[2]\n",
            "undefined\n",
            "running cell[3]\n",
            "import successful\n",
            "running cell[4]\n",
            "Already imported How to find answers.ipynb,How to test import.ipynb,How to interpret questions.ipynb,function u() { [native code] },function u() { [native code] },function u() { [native code] },function u() { [native code] },function u() { [native code] },function u() { [native code] },function u() { [native code] },function u() { [native code] },function u() { [native code] },function u() { [native code] },function u() { [native code] },function u() { [native code] },function u() { [native code] },function u() { [native code] },function u() { [native code] },function u() { [native code] },function u() { [native code] },function u() { [native code] },function u() { [native code] },function u() { [native code] },function u() { [native code] },function u() { [native code] },function u() { [native code] },function u() { [native code] },function u() { [native code] },function u() { [native code] },function u() { [native code] },function u() { [native code] },function u() { [native code] }\n",
            "[ 1,\n",
            "  'should only fail per cell',\n",
            "  undefined,\n",
            "  'import successful',\n",
            "  'Already imported How to find answers.ipynb,How to test import.ipynb,How to interpret questions.ipynb,function u() { [native code] },function u() { [native code] },function u() { [native code] },function u() { [native code] },function u() { [native code] },function u() { [native code] },function u() { [native code] },function u() { [native code] },function u() { [native code] },function u() { [native code] },function u() { [native code] },function u() { [native code] },function u() { [native code] },function u() { [native code] },function u() { [native code] },function u() { [native code] },function u() { [native code] },function u() { [native code] },function u() { [native code] },function u() { [native code] },function u() { [native code] },function u() { [native code] },function u() { [native code] },function u() { [native code] },function u() { [native code] },function u() { [native code] },function u() { [native code] },function u() { [native code] },function u() { [native code] }' ]\n",
            "ran notebook How to test import.ipynb\n"
          ]
        }
      ],
      "execution_count": 1,
      "metadata": {
        "collapsed": false,
        "outputHidden": false,
        "inputHidden": false
      }
    },
    {
      "cell_type": "markdown",
      "source": [
        "These are some other useful notebooks you may want to import.\n",
        "\n",
        "How to train a chatbot using jupyter services?\n"
      ],
      "metadata": {}
    },
    {
      "cell_type": "code",
      "source": [
        "$$.async();\n",
        "if (typeof imports === 'undefined') { var imports = Promise.resolve() } try {\n",
        "imports = imports.then(importNotebook('How to interpret questions.ipynb'))\n",
        "    .then((results) => $$.done(results))\n",
        "    .catch((e) => $$.done(e));\n",
        "} catch (e) {$$.done(e)}"
      ],
      "outputs": [],
      "execution_count": 9,
      "metadata": {
        "collapsed": false,
        "outputHidden": false,
        "inputHidden": false
      }
    },
    {
      "cell_type": "code",
      "source": [
        "\n",
        "$$.done('done importing importing')\n"
      ],
      "outputs": [],
      "execution_count": 1,
      "metadata": {
        "collapsed": false,
        "outputHidden": false,
        "inputHidden": false
      }
    },
    {
      "cell_type": "code",
      "source": [],
      "outputs": [],
      "execution_count": null,
      "metadata": {
        "collapsed": false,
        "outputHidden": false,
        "inputHidden": false
      }
    }
  ],
  "metadata": {
    "kernelspec": {
      "name": "node_nteract",
      "language": "javascript",
      "display_name": "Node.js (nteract)"
    },
    "kernel_info": {
      "name": "node_nteract"
    },
    "language_info": {
      "name": "javascript",
      "version": "6.5.0",
      "mimetype": "application/javascript",
      "file_extension": ".js"
    }
  },
  "nbformat": 4,
  "nbformat_minor": 4
}