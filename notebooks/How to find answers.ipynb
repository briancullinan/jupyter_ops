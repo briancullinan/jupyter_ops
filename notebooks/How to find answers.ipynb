{
  "cells": [
    {
      "cell_type": "markdown",
      "source": [
        "# How to find answers using jupyter?\n",
        "\n",
        "Include this header script in your notebooks to find more answers.\n",
        "\n",
        "How to use inheritence in jupyter notebooks?\n",
        "\n",
        "How to make a class out of jupter notebooks?\n",
        "\n",
        "How to use jupyter notebooks as services?\n",
        "\n",
        "How to sanity check the environment?\n"
      ],
      "metadata": {}
    },
    {
      "cell_type": "code",
      "source": [
        "var vm = require('vm');\n",
        "var fs = require('fs');\n",
        "// TODO: exports, require, module, __filename, __dirname\n",
        "if (typeof importNotebook == 'undefined') {\n",
        "    require('child_process').execSync('npm install JSONStream');\n",
        "}\n",
        "if (typeof commandRegistry == 'undefined') {\n",
        "    var commandRegistry = {};\n",
        "    commandRegistry['commandRegistry'] = commandRegistry;\n",
        "}\n",
        "$$.done('import ready');\n"
      ],
      "outputs": [],
      "execution_count": 1,
      "metadata": {
        "collapsed": false,
        "outputHidden": false,
        "inputHidden": false
      }
    },
    {
      "cell_type": "markdown",
      "source": [
        "How to import a code cells from jupyter?\n",
        "\n",
        "How to import cells of different {types}?\n"
      ],
      "metadata": {}
    },
    {
      "cell_type": "code",
      "source": [
        "var getCells = (notebook, types) => {\n",
        "    if (typeof types == 'undefined') {\n",
        "        var types = 'code';\n",
        "    }\n",
        "    if (typeof types === 'string') {\n",
        "        types = [types];\n",
        "    }\n",
        "    var cellsToRun = [];\n",
        "    var cells = fs.createReadStream(notebook)\n",
        "        .pipe(require('JSONStream').parse('cells.*'));\n",
        "    cells.on('data', (cell) => {\n",
        "        if(types.indexOf(cell.cell_type) > -1) {\n",
        "            cellsToRun[cellsToRun.length] = cell;\n",
        "        }\n",
        "    });\n",
        "    return new Promise((resolve, reject) => {\n",
        "        cells.on('error', e => reject(e, notebook));\n",
        "        cells.on('close', () => resolve(cellsToRun, notebook))\n",
        "    });\n",
        "};\n",
        "commandRegistry['getCells'] = getCells;\n",
        "$$.done(getCells);\n",
        "\n"
      ],
      "outputs": [],
      "execution_count": 2,
      "metadata": {
        "collapsed": false,
        "outputHidden": false,
        "inputHidden": false
      }
    },
    {
      "cell_type": "markdown",
      "source": [
        "How to create VM promises out of the cell content?"
      ],
      "metadata": {}
    },
    {
      "cell_type": "code",
      "source": [
        "// supported format How to find answers.ipynb[2]\n",
        "var promiseContext = (scripts, notebook) => {\n",
        "    var tempGlobal = Object.assign({}, global);\n",
        "    tempGlobal = Object.assign(tempGlobal, commandRegistry);\n",
        "    tempGlobal.$$ = Object.assign({}, $$);\n",
        "    var context = vm.createContext(tempGlobal);\n",
        "    return scripts.map((cell, i) => {\n",
        "        var script = new vm.Script(`\\n\\n;\\n\\n` + cell + '\\n\\n;\\n\\n');\n",
        "        return ((resolve, reject) => {\n",
        "            var result;\n",
        "            try {\n",
        "                var tmp$$ = Object.assign(tempGlobal.$$, {\n",
        "                    _isAsync: false,\n",
        "                    async: () => tmp$$._isAsync = true,\n",
        "                    done: (d) => resolve(d, i)\n",
        "                });\n",
        "                tempGlobal.$$ = tmp$$;\n",
        "                result = script.runInContext(context);\n",
        "                if (!tmp$$._isAsync) {\n",
        "                    return resolve(result, i);\n",
        "                }\n",
        "            } catch (e) {\n",
        "                return resolve(e, i);\n",
        "            }\n",
        "        });\n",
        "    });\n",
        "};\n",
        "commandRegistry['promiseContext'] = promiseContext;\n",
        "$$.async();\n",
        "var cell = [\n",
        "    'console.log(\"Sucessfully ran a script in it\\'s own context!\")'\n",
        "];\n",
        "var promise = promiseContext(cell, 'this one')\n",
        "    .map((p) => new Promise(p))[0]\n",
        "    .then(() => $$.done(promiseContext));\n"
      ],
      "outputs": [],
      "execution_count": 3,
      "metadata": {
        "collapsed": false,
        "outputHidden": false,
        "inputHidden": false
      }
    },
    {
      "cell_type": "markdown",
      "source": [
        "How to resolve a list of promises?\n",
        "\n",
        "How to execute all the cells in a notebook?\n",
        "\n"
      ],
      "metadata": {}
    },
    {
      "cell_type": "code",
      "source": [
        "\n",
        "var runAllPromises = (promises, notebook) => {\n",
        "    return promises.reduce((promise, func) => {\n",
        "        return promise.then(result => {\n",
        "            return (new Promise(func)).then((r, i) => {\n",
        "                return r\n",
        "            }).then(Array.prototype.concat.bind(result));\n",
        "        });\n",
        "    },Promise.resolve([])).catch(e => console.log(e));\n",
        "};\n",
        "commandRegistry['runAllPromises'] = runAllPromises;\n",
        "$$.async();\n",
        "var cells = [\n",
        "    '$$.done(\"promise 1\")',\n",
        "    '$$.done(\"promise 2\")',\n",
        "    '$$.done(\"Sucessfully ran a all promises!\")'\n",
        "];\n",
        "var promises = promiseContext(cells, 'this one')\n",
        "runAllPromises(promises, 'this one')\n",
        "    .then((results) => {\n",
        "        $$.done(runAllPromises);\n",
        "        return results;\n",
        "    });\n"
      ],
      "outputs": [],
      "execution_count": 4,
      "metadata": {
        "collapsed": false,
        "outputHidden": false,
        "inputHidden": false
      }
    },
    {
      "cell_type": "markdown",
      "source": [
        "How to import a {notebook}?\n",
        "\n",
        "How to test the import feature?\n"
      ],
      "metadata": {}
    },
    {
      "cell_type": "code",
      "source": [
        "if (typeof importedNotebooks == 'undefined') {\n",
        "    var importedNotebooks = [];\n",
        "}\n",
        "if (typeof importedFunctions == 'undefined') {\n",
        "    var importedFunctions = {};\n",
        "}\n",
        "if(typeof commandRegistry === 'undefined') {\n",
        "    commandRegistry = {};\n",
        "}\n",
        "try {\n",
        "commandRegistry['importedNotebooks'] = importedNotebooks;\n",
        "var importNotebook = (notebook) => {\n",
        "    if(typeof notebook === 'undefined') {\n",
        "        return Promise.resolve();\n",
        "    }\n",
        "    if (importedNotebooks.indexOf(notebook) > -1) {\n",
        "        console.log('Already imported ' + importedNotebooks.toString());\n",
        "        return Promise.resolve(importedFunctions[notebook]);\n",
        "    }\n",
        "    return getCells(notebook, 'code').then((cells) => {\n",
        "        var sources = cells.map(cell => cell.source.join('').trim());\n",
        "        var promises = promiseContext(sources, notebook);\n",
        "        console.log('started notebook ' + notebook + ' with ' + cells.length + ' cells');\n",
        "        importedNotebooks[importedNotebooks.length] = notebook;\n",
        "        return runAllPromises(promises, notebook);\n",
        "    }).then((results) => {\n",
        "        var result = {};\n",
        "        results.forEach((r, i) => {\n",
        "            if (typeof r === 'function') {\n",
        "                console.log('found function ' + notebook+'['+i+']');\n",
        "                result[notebook+'['+i+']'] = r;\n",
        "                commandRegistry[notebook+'['+i+']'] = r;\n",
        "            }\n",
        "        });\n",
        "        importedFunctions[notebook] = result;\n",
        "        return result;\n",
        "    }).catch(e => console.log(e));\n",
        "}\n",
        "commandRegistry['importNotebook'] = importNotebook;\n",
        "\n",
        "// test to make sure it works\n",
        "$$.async();\n",
        "var imports = importNotebook('How to find answers.ipynb')\n",
        "        .then((results) => {\n",
        "            console.log(results);\n",
        "            $$.done(importNotebook);\n",
        "            return results;\n",
        "        }).catch((e) => $$.done(e));\n",
        "} catch (e) {$$.done(e)}\n"
      ],
      "outputs": [],
      "execution_count": 11,
      "metadata": {
        "collapsed": false,
        "outputHidden": false,
        "inputHidden": false
      }
    },
    {
      "cell_type": "markdown",
      "source": [
        ">TODO: MAKE THIS HEADER SMALLER?\n",
        "\n",
        "How to provide this command as a service to other notebooks?\n",
        "\n",
        "What to include to create inheritence in jupyter?\n",
        "\n",
        "How to turn jupyter notebooks in to modules?\n",
        "\n"
      ],
      "metadata": {}
    },
    {
      "cell_type": "code",
      "source": [
        "// Does this work everywhere?\n",
        "var $c = console.log;\n",
        "if (typeof notebook == 'undefined') {\n",
        "    var notebook = 'How to find answers.ipynb';\n",
        "}\n",
        "if (typeof importNotebook == 'undefined') {\n",
        "    var importNotebook = true;\n",
        "    try {\n",
        "        var m, co = '', vm = require('vm');\n",
        "        var source = require('fs').readFileSync(notebook).toString();\n",
        "        var re = new RegExp('\\\\s*\"cell_type\": \"code\",\\\\s*\"source\":\\\\s*\\\\[\\\\s*([\\\\s\\\\S]*?\\\\$\\\\$.done[\\\\s\\\\S]*?)\\\\s*\\\\]\\\\s*,\\s*', 'ig');\n",
        "        while (m = re.exec(source)) { co += (co == '' ? '' : ',\\n' ) + m[1] + ',\"\\\\n\"'; }\n",
        "        co = '\\n\\$$ = get$$();\\n\\n' + JSON.parse('['+co+']').join('') + '\\n\\n;';\n",
        "        global.getGlobal = () => global;\n",
        "        global.get$$ = () => {\n",
        "            var temp$$ = Object.assign({}, global.$$);\n",
        "            return Object.assign(temp$$, {\n",
        "                async: () => {},\n",
        "                done: (done) => {}\n",
        "            });\n",
        "        };\n",
        "        var tmpGlobal = Object.assign({}, global);\n",
        "        var context = vm.createContext(tmpGlobal);\n",
        "        (new vm.Script(co)).runInContext(context);\n",
        "        $$.async();\n",
        "        tmpGlobal.imports.then((done) => {\n",
        "            Object.assign(global, tmpGlobal.commandRegistry);\n",
        "            $$.done('successfully imported notebooks');\n",
        "        });\n",
        "    } catch (e) {\n",
        "        $$.done(e);\n",
        "    }\n",
        "}\n"
      ],
      "outputs": [
        {
          "output_type": "stream",
          "name": "stdout",
          "text": [
            "Sucessfully ran a script in it's own context!\n",
            "started notebook How to find answers.ipynb with 9 cells\n",
            "Sucessfully ran a script in it's own context!\n",
            "Already imported How to find answers.ipynb\n",
            "undefined\n",
            "found function How to find answers.ipynb[1]\n",
            "found function How to find answers.ipynb[2]\n",
            "found function How to find answers.ipynb[3]\n",
            "found function How to find answers.ipynb[4]\n",
            "{ 'How to find answers.ipynb[1]': [Function: getCells],\n",
            "  'How to find answers.ipynb[2]': [Function: promiseContext],\n",
            "  'How to find answers.ipynb[3]': [Function: runAllPromises],\n",
            "  'How to find answers.ipynb[4]': [Function: importNotebook] }\n"
          ]
        },
        {
          "output_type": "execute_result",
          "execution_count": 1,
          "data": {
            "text/plain": [
              "'successfully imported notebooks'"
            ]
          },
          "metadata": {}
        },
        {
          "output_type": "stream",
          "name": "stdout",
          "text": [
            "started notebook How to test import.ipynb with 6 cells\n",
            "started notebook How to test import.ipynb with 6 cells\n",
            "Already imported How to find answers.ipynb,How to test import.ipynb,How to test import.ipynb\n",
            "Already imported How to find answers.ipynb,How to test import.ipynb,How to test import.ipynb\n",
            "Already imported How to find answers.ipynb,How to test import.ipynb,How to test import.ipynb\n",
            "Already imported How to find answers.ipynb,How to test import.ipynb,How to test import.ipynb\n"
          ]
        }
      ],
      "execution_count": 1,
      "metadata": {
        "collapsed": false,
        "outputHidden": false,
        "inputHidden": false
      }
    },
    {
      "cell_type": "markdown",
      "source": [
        "These are some other useful notebooks you may want to import.\n",
        "\n",
        "How to train a chatbot using jupyter services?\n"
      ],
      "metadata": {}
    },
    {
      "cell_type": "code",
      "source": [
        "\n",
        "$$.done('done importing importing')\n"
      ],
      "outputs": [],
      "execution_count": 1,
      "metadata": {
        "collapsed": false,
        "outputHidden": false,
        "inputHidden": false
      }
    },
    {
      "cell_type": "code",
      "source": [],
      "outputs": [],
      "execution_count": 9,
      "metadata": {
        "collapsed": false,
        "outputHidden": false,
        "inputHidden": false
      }
    }
  ],
  "metadata": {
    "kernelspec": {
      "name": "node_nteract",
      "language": "javascript",
      "display_name": "Node.js (nteract)"
    },
    "kernel_info": {
      "name": "node_nteract"
    },
    "language_info": {
      "name": "javascript",
      "version": "6.5.0",
      "mimetype": "application/javascript",
      "file_extension": ".js"
    }
  },
  "nbformat": 4,
  "nbformat_minor": 4
}