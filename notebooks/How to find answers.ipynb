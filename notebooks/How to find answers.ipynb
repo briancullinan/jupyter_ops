{
  "cells": [
    {
      "cell_type": "markdown",
      "source": [
        "# How to find answers using jupyter?\n",
        "\n",
        "Include this header script in your notebooks to find more answers.\n",
        "\n",
        "How to use inheritence in jupyter notebooks?\n",
        "\n",
        "How to make a class out of jupter notebooks?\n",
        "\n",
        "How to use jupyter notebooks as services?\n",
        "\n",
        "How to sanity check the environment?\n"
      ],
      "metadata": {}
    },
    {
      "cell_type": "code",
      "source": [
        "var deps = ['npm install', 'JSONStream', 'path', 'fs', 'vm', ];\n",
        "require('child_process').execSync(deps.slice(0, 2).join(' '));\n",
        "deps.slice(1).forEach(v => (global[v] = require(v)));\n",
        "\n",
        "// TODO: exports, require, module, __filename, __dirname\n",
        "$$.done('import ready');\n"
      ],
      "outputs": [
        {
          "output_type": "stream",
          "name": "stderr",
          "text": [
            "npm WARN enoent ENOENT: no such file or directory, open '/Users/briancullinan/jupytangular2/notebooks/package.json'\n",
            "npm WARN notebooks No description\n",
            "npm WARN notebooks No repository field.\n",
            "npm WARN notebooks No README data\n",
            "npm WARN notebooks No license field.\n"
          ]
        },
        {
          "output_type": "execute_result",
          "execution_count": 7,
          "data": {
            "text/plain": [
              "'import ready'"
            ]
          },
          "metadata": {}
        }
      ],
      "execution_count": 7,
      "metadata": {
        "collapsed": false,
        "outputHidden": false,
        "inputHidden": false
      }
    },
    {
      "cell_type": "markdown",
      "source": [
        "How to import a code cells from jupyter?\n",
        "\n",
        "How to import cells of different {types}?\n"
      ],
      "metadata": {}
    },
    {
      "cell_type": "code",
      "source": [
        "var getCells = (notebook, types) => {\n",
        "    if (typeof types == 'undefined') {\n",
        "        var types = 'code';\n",
        "    }\n",
        "    if (typeof types === 'string') {\n",
        "        types = [types];\n",
        "    }\n",
        "    var cellsToRun = [];\n",
        "    var cells = fs.createReadStream(notebook)\n",
        "        .pipe(require('JSONStream').parse('cells.*'));\n",
        "    cells.on('data', (cell) => {\n",
        "        if(types.indexOf(cell.cell_type) > -1) {\n",
        "            cellsToRun[cellsToRun.length] = cell;\n",
        "        }\n",
        "    });\n",
        "    return new Promise((resolve, reject) => {\n",
        "        cells.on('error', e => reject(e, notebook));\n",
        "        cells.on('close', () => resolve(cellsToRun, notebook))\n",
        "    });\n",
        "};\n",
        "$$.done(getCells);\n",
        "\n"
      ],
      "outputs": [
        {
          "output_type": "execute_result",
          "execution_count": 8,
          "data": {
            "text/plain": [
              "[Function: getCells]"
            ]
          },
          "metadata": {}
        }
      ],
      "execution_count": 8,
      "metadata": {
        "collapsed": false,
        "outputHidden": false,
        "inputHidden": false
      }
    },
    {
      "cell_type": "markdown",
      "source": [
        "How to create VM promises out of the cell content?"
      ],
      "metadata": {}
    },
    {
      "cell_type": "code",
      "source": [
        "// supported format How to find answers.ipynb[2]\n",
        "var promiseContext = (scripts, notebook) => {\n",
        "    var tempGlobal = Object.assign({}, global);\n",
        "    tempGlobal.$$ = Object.assign({}, $$);\n",
        "    var context = vm.createContext(tempGlobal);\n",
        "    return scripts.map((cell, i) => {\n",
        "        var script = new vm.Script(`\\n\\n;\\n\\n` + cell + '\\n\\n;\\n\\n');\n",
        "        return ((resolve, reject) => {\n",
        "            var result;\n",
        "            try {\n",
        "                var tmp$$ = Object.assign(tempGlobal.$$, {\n",
        "                    _isAsync: false,\n",
        "                    async: () => tmp$$._isAsync = true,\n",
        "                    done: (d) => resolve(d, i)\n",
        "                });\n",
        "                tempGlobal.$$ = tmp$$;\n",
        "                result = script.runInContext(context);\n",
        "                if (!tmp$$._isAsync) {\n",
        "                    return resolve(result, i);\n",
        "                }\n",
        "            } catch (e) {\n",
        "                return resolve(e, i);\n",
        "            }\n",
        "        });\n",
        "    });\n",
        "};\n",
        "\n",
        "$$.async();\n",
        "var cell = [\n",
        "    'console.log(\"Sucessfully ran a script in it\\'s own context!\")'\n",
        "];\n",
        "var promise = promiseContext(cell, 'this one')\n",
        "    .map((p) => new Promise(p))[0]\n",
        "    .then(() => $$.done(promiseContext));\n"
      ],
      "outputs": [
        {
          "output_type": "stream",
          "name": "stdout",
          "text": [
            "Sucessfully ran a script in it's own context!\n"
          ]
        },
        {
          "output_type": "execute_result",
          "execution_count": 9,
          "data": {
            "text/plain": [
              "[Function: promiseContext]"
            ]
          },
          "metadata": {}
        }
      ],
      "execution_count": 9,
      "metadata": {
        "collapsed": false,
        "outputHidden": false,
        "inputHidden": false
      }
    },
    {
      "cell_type": "markdown",
      "source": [
        "How to resolve a list of promises?\n",
        "\n",
        "How to execute all the cells in a notebook?\n",
        "\n"
      ],
      "metadata": {}
    },
    {
      "cell_type": "code",
      "source": [
        "\n",
        "var runAllPromises = (promises, notebook) => {\n",
        "    return promises.reduce((promise, func) => {\n",
        "        return promise.then(result => {\n",
        "            return (new Promise(func)).then((r, i) => {\n",
        "                return r\n",
        "            }).then(Array.prototype.concat.bind(result));\n",
        "        });\n",
        "    },Promise.resolve([])).catch(e => console.log(e));\n",
        "};\n",
        "\n",
        "$$.async();\n",
        "var cells = [\n",
        "    '$$.done(\"promise 1\")',\n",
        "    '$$.done(\"promise 2\")',\n",
        "    '$$.done(\"Sucessfully ran a all promises!\")'\n",
        "];\n",
        "var promises = promiseContext(cells, 'this one')\n",
        "runAllPromises(promises, 'this one')\n",
        "    .then((results) => {\n",
        "        $$.done(runAllPromises);\n",
        "        return results;\n",
        "    });\n"
      ],
      "outputs": [
        {
          "output_type": "execute_result",
          "execution_count": 10,
          "data": {
            "text/plain": [
              "[Function: runAllPromises]"
            ]
          },
          "metadata": {}
        }
      ],
      "execution_count": 10,
      "metadata": {
        "collapsed": false,
        "outputHidden": false,
        "inputHidden": false
      }
    },
    {
      "cell_type": "markdown",
      "source": [
        "How to import a {notebook}?\n",
        "\n",
        "How to test the import feature?\n"
      ],
      "metadata": {}
    },
    {
      "cell_type": "code",
      "source": [
        "if (typeof importedNotebooks == 'undefined') {\n",
        "    var importedNotebooks = [];\n",
        "}\n",
        "if (typeof importedFunctions == 'undefined') {\n",
        "    var importedFunctions = {};\n",
        "}\n",
        "var importNotebook = (notebook) => {\n",
        "    if(typeof notebook === 'undefined') {\n",
        "        return Promise.resolve();\n",
        "    }\n",
        "    if (importedNotebooks.indexOf(notebook) > -1) {\n",
        "        console.log('Already imported ' + importedNotebooks.toString());\n",
        "        return Promise.resolve(importedFunctions[notebook]);\n",
        "    }\n",
        "    return getCells(notebook, 'code').then((cells) => {\n",
        "        var sources = cells.map(cell => cell.source.join('').trim());\n",
        "        var promises = promiseContext(sources, notebook);\n",
        "        console.log('started notebook ' + notebook + ' with ' + cells.length + ' cells');\n",
        "        importedNotebooks[importedNotebooks.length] = notebook;\n",
        "        return runAllPromises(promises, notebook);\n",
        "    }).then((results) => {\n",
        "        var result = {};\n",
        "        results.forEach((r, i) => {\n",
        "            if (typeof r === 'function') {\n",
        "                result[notebook+'['+i+']'] = r;\n",
        "                global[notebook+'['+i+']'] = r;\n",
        "            }\n",
        "        });\n",
        "        importedFunctions[notebook] = result;\n",
        "        return result;\n",
        "    }).catch(e => console.log(e));\n",
        "}\n",
        "\n",
        "try {\n",
        "    // test to make sure it works\n",
        "    $$.async();\n",
        "    var imports = importNotebook('How to find answers.ipynb')\n",
        "            .then((results) => {\n",
        "                console.log(results);\n",
        "                $$.done(importNotebook);\n",
        "                return results;\n",
        "            }).catch((e) => $$.done(e));\n",
        "} catch (e) {$$.done(e)}\n"
      ],
      "outputs": [
        {
          "output_type": "stream",
          "name": "stdout",
          "text": [
            "Already imported How to find answers.ipynb\n",
            "{ 'How to find answers.ipynb[1]': [Function: getCells],\n",
            "  'How to find answers.ipynb[2]': [Function: promiseContext],\n",
            "  'How to find answers.ipynb[3]': [Function: runAllPromises],\n",
            "  'How to find answers.ipynb[4]': [Function: importNotebook] }\n"
          ]
        },
        {
          "output_type": "execute_result",
          "execution_count": 13,
          "data": {
            "text/plain": [
              "[Function: importNotebook]"
            ]
          },
          "metadata": {}
        }
      ],
      "execution_count": 13,
      "metadata": {
        "collapsed": false,
        "outputHidden": false,
        "inputHidden": false
      }
    },
    {
      "cell_type": "markdown",
      "source": [
        "These are some other useful notebooks you may want to import.\n",
        "\n",
        "How to train a chatbot using jupyter services?\n",
        "\n",
        "What is code completion for jupter notebooks?\n",
        "\n"
      ],
      "metadata": {}
    },
    {
      "cell_type": "code",
      "source": [
        "//$$.async();\n",
        "//importNotebook('How to interpret questions.ipynb')\n",
        "//    .then(() => $$.done('done importing importing'));\n",
        "\n"
      ],
      "outputs": [
        {
          "output_type": "stream",
          "name": "stdout",
          "text": [
            "evalmachine.<anonymous>:7\n",
            "    var filenames = walkSync(path.resolve(dirname);\n",
            "                                                 ^\n",
            "SyntaxError: missing ) after argument list\n",
            "    at scripts.map (evalmachine.<anonymous>:7:22)\n",
            "    at Array.map (native)\n",
            "    at promiseContext (evalmachine.<anonymous>:6:20)\n",
            "    at getCells.then (evalmachine.<anonymous>:17:24)\n",
            "    at process._tickCallback (internal/process/next_tick.js:103:7)\n"
          ]
        },
        {
          "output_type": "execute_result",
          "execution_count": 12,
          "data": {
            "text/plain": [
              "'done importing importing'"
            ]
          },
          "metadata": {}
        }
      ],
      "execution_count": 12,
      "metadata": {
        "collapsed": false,
        "outputHidden": false,
        "inputHidden": false
      }
    }
  ],
  "metadata": {
    "kernelspec": {
      "name": "node_nteract",
      "language": "javascript",
      "display_name": "Node.js (nteract)"
    },
    "kernel_info": {
      "name": "node_nteract"
    },
    "language_info": {
      "name": "javascript",
      "version": "6.5.0",
      "mimetype": "application/javascript",
      "file_extension": ".js"
    }
  },
  "nbformat": 4,
  "nbformat_minor": 4
}