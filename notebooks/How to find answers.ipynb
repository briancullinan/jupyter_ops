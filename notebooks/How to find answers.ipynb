{
  "cells": [
    {
      "cell_type": "markdown",
      "source": [
        "# How to find answers using jupyter?\n",
        "\n",
        "Include this header script in your notebooks to find more answers.\n",
        "\n",
        "How to use inheritence in jupyter notebooks?\n",
        "\n",
        "How to make a class out of jupter notebooks?\n",
        "\n",
        "How to use jupyter notebooks as services?\n"
      ],
      "metadata": {}
    },
    {
      "cell_type": "markdown",
      "source": [
        "How to sanity check the environment?"
      ],
      "metadata": {}
    },
    {
      "cell_type": "code",
      "source": [
        "var vm = require('vm');\n",
        "var fs = require('fs');\n",
        "// TODO: exports, require, module, __filename, __dirname\n",
        "if (typeof importNotebook == 'undefined') {\n",
        "    require('child_process').execSync('npm install JSONStream');\n",
        "}\n",
        "$$.done('import ready');\n"
      ],
      "outputs": [],
      "execution_count": 2,
      "metadata": {
        "collapsed": false,
        "outputHidden": false,
        "inputHidden": false
      }
    },
    {
      "cell_type": "markdown",
      "source": [
        "How to import a cells from jupyter?"
      ],
      "metadata": {}
    },
    {
      "cell_type": "code",
      "source": [
        "if (typeof runningNotebooks == 'undefined') {\n",
        "    var runningNotebooks = [];\n",
        "}\n",
        "var getCells = (notebook) => {\n",
        "    var cellsToRun = [];\n",
        "    if (runningNotebooks.indexOf(notebook) > -1) {\n",
        "        if (notebook.indexOf('How to find answers') > -1) {\n",
        "            throw 'Successfully imported How to find answers';\n",
        "        } else {\n",
        "            throw 'Notebook recursion detected ' + runningNotebooks.toString();\n",
        "        }\n",
        "    }\n",
        "    runningNotebooks[runningNotebooks.length] = notebook;\n",
        "    var cells = fs.createReadStream(notebook).pipe(require('JSONStream').parse('cells.*'));\n",
        "    cells.on('data', (cell) => {\n",
        "        if(cell.cell_type === 'code') {\n",
        "            cellsToRun[cellsToRun.length] = cell.source.join('').trim();\n",
        "        }\n",
        "    });\n",
        "    return new Promise((resolve, reject) => {\n",
        "        cells.on('error', e => reject(e));\n",
        "        cells.on('close', () => resolve(cellsToRun))\n",
        "    });\n",
        "};\n",
        "$$.done(getCells);\n"
      ],
      "outputs": [],
      "execution_count": 2,
      "metadata": {
        "collapsed": false,
        "outputHidden": false,
        "inputHidden": false
      }
    },
    {
      "cell_type": "markdown",
      "source": [
        "How to create VM promises out of the cell content?"
      ],
      "metadata": {}
    },
    {
      "cell_type": "code",
      "source": [
        "var promises = (cellsToRun) => {\n",
        "    var tempGlobal = Object.assign({}, global);\n",
        "    tempGlobal.$$ = Object.assign({}, $$);\n",
        "    tempGlobal.$$ = Object.assign(tempGlobal.$$, {\n",
        "        _isAsync: false,\n",
        "        async: () => tempGlobal.$$._isAsync = true\n",
        "    });\n",
        "    var context = vm.createContext(tempGlobal);\n",
        "    return cellsToRun.map(cell => {\n",
        "        return new Promise((resolve, reject) => {\n",
        "            var result;\n",
        "            try {\n",
        "                tempGlobal.$$.done = (d) => resolve(d);\n",
        "                var script = new vm.Script(cell + '\\n\\n;');\n",
        "                result = script.runInContext(context);\n",
        "                if (!tempGlobal.$$._isAsync) {resolve(result)}\n",
        "            } catch (e) {\n",
        "                resolve(e);\n",
        "            }\n",
        "        });\n",
        "    });\n",
        "};\n",
        "$$.done(promises);\n"
      ],
      "outputs": [],
      "execution_count": 2,
      "metadata": {
        "collapsed": false,
        "outputHidden": false,
        "inputHidden": false
      }
    },
    {
      "cell_type": "markdown",
      "source": [
        "How to resolve a list of promises?\n",
        "\n",
        "How to execute all the cells in a notebook?\n",
        "\n"
      ],
      "metadata": {}
    },
    {
      "cell_type": "code",
      "source": [
        "\n",
        "var runAllCells = (cellsToRun) => {\n",
        "    var p = promises(cellsToRun);\n",
        "    var results = [];\n",
        "    var chain = Promise.resolve();\n",
        "    while(p.length){\n",
        "        chain = chain.then(p.shift().then(r => {\n",
        "            results[results.length] = r;\n",
        "            console.log(r);\n",
        "        }));\n",
        "    }\n",
        "    return chain.then((results) => {\n",
        "        var index = runningNotebooks.indexOf(notebook);\n",
        "        if (index > -1) {\n",
        "            runningNotebooks.splice(index, 1);\n",
        "        }\n",
        "        return results;\n",
        "    });\n",
        "};\n",
        "$$.done(runAllCells);\n"
      ],
      "outputs": [],
      "execution_count": 2,
      "metadata": {
        "collapsed": false,
        "outputHidden": false,
        "inputHidden": false
      }
    },
    {
      "cell_type": "code",
      "source": [
        "var importNotebook = (notebook) => {\n",
        "    if(typeof notebook !== 'undefined') {\n",
        "        return getCells(notebook).then((cells) => {\n",
        "            return runAllCells(cells).then((cells) => {\n",
        "                console.log('executed notebook ' + notebook);\n",
        "                return cells;\n",
        "            });\n",
        "        });\n",
        "    }\n",
        "}\n",
        "$$.done(importNotebook);\n"
      ],
      "outputs": [],
      "execution_count": 6,
      "metadata": {
        "collapsed": false,
        "outputHidden": false,
        "inputHidden": false
      }
    },
    {
      "cell_type": "markdown",
      "source": [
        "\n",
        "How to provide this command as a service to other notebooks?\n",
        "\n",
        "What to include to create inheritence in jupyter?\n",
        "\n",
        "How to turn jupyter notebooks in to modules?\n",
        "\n"
      ],
      "metadata": {}
    },
    {
      "cell_type": "code",
      "source": [
        "// Does this work everywhere?\n",
        "if (typeof notebook == 'undefined') {\n",
        "    var notebook = 'How to find answers.ipynb';\n",
        "}\n",
        "if (typeof importNotebook == 'undefined') {\n",
        "    importNotebook = true;\n",
        "    var co = '', vm = require('vm'),\n",
        "        source = require('fs').readFileSync(notebook).toString(),\n",
        "        m, re = (/\"cell_type\": \"code\",\\s*\"source\": \\[\\s([\\s\\S]*?)\\s*\\]\\s*,\\s*/ig);\n",
        "    while (m = re.exec(source)) { co += (co == '' ? '' : ',\"\\\\n\",\\n' ) + m[1]; }\n",
        "    co = '(function ($$) {\\n\\n' + JSON.parse('['+co+']').join('') + '\\n\\n; return importNotebook; })';\n",
        "    var script = new vm.Script(co);\n",
        "    var context = vm.createContext(Object.assign({}, global));\n",
        "    context.$$ = Object.assign({}, $$);\n",
        "    Object.assign(context.$$, {async: () => {}, done: (done) => console.log(done)});\n",
        "    importNotebook = script.runInContext(context)(context.$$);\n",
        "    $$.async();\n",
        "    context.$$.done = $$.done;\n",
        "    // test to make sure it works\n",
        "    /*\n",
        "    $$.async();\n",
        "    importNotebook(notebook).then((done) => {\n",
        "        console.log(done);\n",
        "        $$.mime({'text/markdown' : 'importNotebook() usage:\\n\\n```\\nimportNotebook(path: string);\\n```'});\n",
        "        $$.done(done);\n",
        "    });\n",
        "    */\n",
        "}\n"
      ],
      "outputs": [
        {
          "output_type": "stream",
          "name": "stdout",
          "text": [
            "import ready\n",
            "[Function: getCells]\n",
            "[Function: promises]\n",
            "[Function: runAllCells]\n",
            "[Function: importNotebook]\n",
            "hit\n"
          ]
        },
        {
          "output_type": "execute_result",
          "execution_count": 1,
          "data": {
            "text/plain": [
              "[Function: importNotebook]"
            ]
          },
          "metadata": {}
        },
        {
          "output_type": "stream",
          "name": "stdout",
          "text": [
            "express is ready\n",
            "executed notebook How to use express.ipynb\n",
            "undefined\n",
            "[ 'http://www.sosmethod.org/wp-content/uploads/2016/02/peacesq-1.png',\n",
            "  'http://www.sosmethod.org/wp-content/uploads/2016/02/depressionsq.png',\n",
            "  'http://www.sosmethod.org/wp-content/uploads/2016/02/productivesq.png',\n",
            "  'http://www.sosmethod.org/wp-content/uploads/2016/02/stress-sq.png',\n",
            "  'http://www.sosmethod.org/wp-content/uploads/2016/02/relationsq.png' ]\n"
          ]
        },
        {
          "output_type": "stream",
          "name": "stderr",
          "text": [
            "Error: listen EADDRINUSE :::3000\n",
            "    at Object.exports._errnoException (util.js:1026:11)\n",
            "    at exports._exceptionWithHostPort (util.js:1049:20)\n",
            "    at Server._listen2 (net.js:1253:14)\n",
            "    at listen (net.js:1289:10)\n",
            "    at Server.listen (net.js:1385:5)\n",
            "    at EventEmitter.listen (/Users/briancullinan/jupytangular2/node_modules/express/lib/application.js:618:24)\n",
            "    at evalmachine.<anonymous>:12:22\n",
            "    at ContextifyScript.Script.runInContext (vm.js:35:29)\n",
            "    at e (evalmachine.<anonymous>:51:33)\n",
            "    at cellsToRun.map.cell (evalmachine.<anonymous>:46:16)"
          ]
        }
      ],
      "execution_count": 1,
      "metadata": {
        "collapsed": false,
        "outputHidden": false,
        "inputHidden": false
      }
    },
    {
      "cell_type": "markdown",
      "source": [
        "These are some other useful notebooks you may want to import.\n",
        "\n",
        "How to train a chatbot using jupyter services?\n"
      ],
      "metadata": {}
    },
    {
      "cell_type": "code",
      "source": [
        "$$.async();\n",
        "importNotebook('How to use express.ipynb').then((done) => {\n",
        "    $$.done(done);\n",
        "}).catch(e => $$.done(e));\n",
        "\n"
      ],
      "outputs": [],
      "execution_count": 2,
      "metadata": {
        "collapsed": false,
        "outputHidden": false,
        "inputHidden": false
      }
    }
  ],
  "metadata": {
    "kernelspec": {
      "name": "node_nteract",
      "language": "javascript",
      "display_name": "Node.js (nteract)"
    },
    "kernel_info": {
      "name": "node_nteract"
    },
    "language_info": {
      "name": "javascript",
      "version": "6.5.0",
      "mimetype": "application/javascript",
      "file_extension": ".js"
    }
  },
  "nbformat": 4,
  "nbformat_minor": 4
}