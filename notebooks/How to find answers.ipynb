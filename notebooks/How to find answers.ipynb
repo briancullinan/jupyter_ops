{
  "cells": [
    {
      "cell_type": "markdown",
      "source": [
        "# How to find answers using jupyter?\n",
        "\n",
        "Include this header script in your notebooks to find more answers.\n",
        "\n",
        "How to use inheritence in jupyter notebooks?\n",
        "\n",
        "How to make a class out of jupter notebooks?\n",
        "\n",
        "How to use jupyter notebooks as services?\n"
      ],
      "metadata": {}
    },
    {
      "cell_type": "markdown",
      "source": [
        "How to sanity check the environment?"
      ],
      "metadata": {}
    },
    {
      "cell_type": "code",
      "source": [
        "var vm = require('vm');\n",
        "var fs = require('fs');\n",
        "// TODO: exports, require, module, __filename, __dirname\n",
        "if (typeof importNotebook == 'undefined') {\n",
        "    require('child_process').execSync('npm install JSONStream');\n",
        "}\n",
        "$$.done('import ready');\n"
      ],
      "outputs": [],
      "execution_count": 2,
      "metadata": {
        "collapsed": false,
        "outputHidden": false,
        "inputHidden": false
      }
    },
    {
      "cell_type": "markdown",
      "source": [
        "How to import a cells from jupyter?"
      ],
      "metadata": {}
    },
    {
      "cell_type": "code",
      "source": [
        "if (typeof runningNotebooks == 'undefined') {\n",
        "    var runningNotebooks = [];\n",
        "}\n",
        "var getCells = (notebook) => {\n",
        "    var cellsToRun = [];\n",
        "    if (runningNotebooks.indexOf(notebook) > -1) {\n",
        "        if (notebook.indexOf('How to find answers') > -1) {\n",
        "            throw 'Successfully imported How to find answers';\n",
        "        } else {\n",
        "            throw 'Notebook recursion detected ' + runningNotebooks.toString();\n",
        "        }\n",
        "    }\n",
        "    runningNotebooks[runningNotebooks.length] = notebook;\n",
        "    var cells = fs.createReadStream(notebook).pipe(require('JSONStream').parse('cells.*'));\n",
        "    cells.on('data', (cell) => {\n",
        "        if(cell.cell_type === 'code') {\n",
        "            cellsToRun[cellsToRun.length] = cell.source.join('').trim();\n",
        "        }\n",
        "    });\n",
        "    return new Promise((resolve, reject) => {\n",
        "        cells.on('error', e => reject(e));\n",
        "        cells.on('close', () => resolve(cellsToRun))\n",
        "    });\n",
        "};\n",
        "$$.done(getCells);\n"
      ],
      "outputs": [],
      "execution_count": 2,
      "metadata": {
        "collapsed": false,
        "outputHidden": false,
        "inputHidden": false
      }
    },
    {
      "cell_type": "markdown",
      "source": [
        "How to create VM promises out of the cell content?"
      ],
      "metadata": {}
    },
    {
      "cell_type": "code",
      "source": [
        "var promises = (cellsToRun) => {\n",
        "    var context = vm.createContext(Object.assign({}, global));\n",
        "    var script = new vm.Script('() => (vm, code) => vm.runInThisContext(code)');\n",
        "    var myVM = script.runInContext(context)();\n",
        "    //return ((myVM, context) => {\n",
        "    return cellsToRun.map(cell => {\n",
        "        return new Promise((resolve, reject) => {\n",
        "            var result;\n",
        "            try {\n",
        "                result = myVM(vm, cell);\n",
        "                console.log(result);\n",
        "                if (!context.$$._isAsync) {resolve(result)}\n",
        "            } catch (e) {\n",
        "                resolve(e);\n",
        "            }\n",
        "        });\n",
        "    });\n",
        "    //})(myVM, context);\n",
        "};\n",
        "$$.done(promises);\n"
      ],
      "outputs": [],
      "execution_count": 2,
      "metadata": {
        "collapsed": false,
        "outputHidden": false,
        "inputHidden": false
      }
    },
    {
      "cell_type": "markdown",
      "source": [
        "How to resolve a list of promises?\n",
        "\n",
        "How to execute all the cells in a notebook?\n",
        "\n"
      ],
      "metadata": {}
    },
    {
      "cell_type": "code",
      "source": [
        "\n",
        "var runAllCells = (cellsToRun) => {\n",
        "    var p = promises(cellsToRun);\n",
        "    var results = [];\n",
        "    return p.reduce((p, result) => {\n",
        "        results[results.length] = result;\n",
        "        return p.then(() => {\n",
        "            console.log(result);\n",
        "            return result;\n",
        "        });\n",
        "    },Promise.resolve()).then((results) => {\n",
        "        var index = runningNotebooks.indexOf(notebook);\n",
        "        if (index > -1) {\n",
        "            runningNotebooks.splice(index, 1);\n",
        "        }\n",
        "        return results;\n",
        "    }).catch(e => done(e));\n",
        "};\n",
        "$$.done(runAllCells);\n"
      ],
      "outputs": [],
      "execution_count": 2,
      "metadata": {
        "collapsed": false,
        "outputHidden": false,
        "inputHidden": false
      }
    },
    {
      "cell_type": "code",
      "source": [
        "var importNotebook = (notebook) => {\n",
        "    if(typeof notebook !== 'undefined') {\n",
        "        return getCells(notebook).then((cells) => {\n",
        "            return runAllCells(cells).then((cells) => {\n",
        "                console.log('executed notebook ' + notebook);\n",
        "                return cells;\n",
        "            });\n",
        "        });\n",
        "    }\n",
        "}\n",
        "$$.done(importNotebook);\n"
      ],
      "outputs": [],
      "execution_count": 6,
      "metadata": {
        "collapsed": false,
        "outputHidden": false,
        "inputHidden": false
      }
    },
    {
      "cell_type": "markdown",
      "source": [
        "\n",
        "How to provide this command as a service to other notebooks?\n",
        "\n",
        "What to include to create inheritence in jupyter?\n",
        "\n",
        "How to turn jupyter notebooks in to modules?\n",
        "\n"
      ],
      "metadata": {}
    },
    {
      "cell_type": "code",
      "source": [
        "// Does this work everywhere?\n",
        "if (typeof notebook == 'undefined') {\n",
        "    var notebook = 'How to find answers.ipynb';\n",
        "}\n",
        "if (typeof importNotebook == 'undefined') {\n",
        "    importNotebook = true;\n",
        "    var co = '', vm = require('vm'),\n",
        "        source = require('fs').readFileSync(notebook).toString(),\n",
        "        m, re = (/\"cell_type\": \"code\",\\s*\"source\": \\[\\s([\\s\\S]*?)\\s*\\]\\s*,\\s*/ig);\n",
        "    while (m = re.exec(source)) { co += (co == '' ? '' : ',\"\\\\n\",\\n' ) + m[1]; }\n",
        "    co = '(function ($$, require, process) {\\n\\n' + JSON.parse('['+co+']').join('') + '\\n\\n; $$.done(importNotebook); return importNotebook; })';\n",
        "    var context = vm.createContext(Object.assign({}, global));\n",
        "    context.global = context;\n",
        "    context.$$ = Object.assign({}, $$);\n",
        "    Object.assign(context.$$, {async: () => {}, done: (done) => console.log(done)});\n",
        "    importNotebook = vm.runInThisContext(co)(context.$$, require, process);\n",
        "    // test to make sure it works\n",
        "    /*\n",
        "    $$.async();\n",
        "    importNotebook(notebook).then((done) => {\n",
        "        console.log(done);\n",
        "        $$.mime({'text/markdown' : 'importNotebook() usage:\\n\\n```\\nimportNotebook(path: string);\\n```'});\n",
        "        $$.done(done);\n",
        "    });\n",
        "    */\n",
        "}\n"
      ],
      "outputs": [],
      "execution_count": 1,
      "metadata": {
        "collapsed": false,
        "outputHidden": false,
        "inputHidden": false
      }
    },
    {
      "cell_type": "markdown",
      "source": [
        "These are some other useful notebooks you may want to import.\n",
        "\n",
        "How to train a chatbot using jupyter services?\n"
      ],
      "metadata": {}
    },
    {
      "cell_type": "code",
      "source": [
        "/*\n",
        "$$.async();\n",
        "importNotebook('How to use express.ipynb').then((done) => {\n",
        "    $$.done(done);\n",
        "}).catch(e => $$.done(e));\n",
        "*/\n",
        "\n"
      ],
      "outputs": [],
      "execution_count": 2,
      "metadata": {
        "collapsed": false,
        "outputHidden": false,
        "inputHidden": false
      }
    },
    {
      "cell_type": "code",
      "source": [
        "console.log('hit')"
      ],
      "outputs": [],
      "execution_count": 2,
      "metadata": {
        "collapsed": false,
        "outputHidden": false,
        "inputHidden": false
      }
    },
    {
      "cell_type": "code",
      "source": [],
      "outputs": [],
      "execution_count": null,
      "metadata": {
        "collapsed": false,
        "outputHidden": false,
        "inputHidden": false
      }
    },
    {
      "cell_type": "code",
      "source": [],
      "outputs": [],
      "execution_count": null,
      "metadata": {
        "collapsed": false,
        "outputHidden": false,
        "inputHidden": false
      }
    }
  ],
  "metadata": {
    "kernelspec": {
      "name": "node_nteract",
      "language": "javascript",
      "display_name": "Node.js (nteract)"
    },
    "kernel_info": {
      "name": "node_nteract"
    },
    "language_info": {
      "name": "javascript",
      "version": "6.5.0",
      "mimetype": "application/javascript",
      "file_extension": ".js"
    }
  },
  "nbformat": 4,
  "nbformat_minor": 4
}