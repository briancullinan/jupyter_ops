{
  "cells": [
    {
      "cell_type": "markdown",
      "source": [
        "# How to find answers using jupyter?\n",
        "\n",
        "Include this header script in your notebooks to find more answers.\n",
        "\n",
        "How to use inheritence in jupyter notebooks?\n",
        "\n",
        "How to make a class out of jupter notebooks?\n",
        "\n",
        "How to use jupyter notebooks as services?\n"
      ],
      "metadata": {}
    },
    {
      "cell_type": "markdown",
      "source": [
        "How to sanity check the environment?"
      ],
      "metadata": {}
    },
    {
      "cell_type": "code",
      "source": [
        "var vm = require('vm');\n",
        "var fs = require('fs');\n",
        "// TODO: exports, require, module, __filename, __dirname\n",
        "if (typeof importNotebook == 'undefined') {\n",
        "    require('child_process').execSync('npm install JSONStream');\n",
        "}\n",
        "$$.done('import ready');\n"
      ],
      "outputs": [],
      "execution_count": 2,
      "metadata": {
        "collapsed": false,
        "outputHidden": false,
        "inputHidden": false
      }
    },
    {
      "cell_type": "markdown",
      "source": [
        "How to import a cells from jupyter?"
      ],
      "metadata": {}
    },
    {
      "cell_type": "code",
      "source": [
        "if (typeof runningNotebooks == 'undefined') {\n",
        "    var runningNotebooks = [];\n",
        "}\n",
        "var getCells = (notebook) => {\n",
        "    var cellsToRun = [];\n",
        "    if (runningNotebooks.indexOf(notebook) > -1) {\n",
        "        throw 'Notebook recursion detected ' + runningNotebooks.toString();\n",
        "    }\n",
        "    runningNotebooks[runningNotebooks.length] = notebook;\n",
        "    var cells = fs.createReadStream(notebook).pipe(require('JSONStream').parse('cells.*'));\n",
        "    cells.on('data', (cell) => {\n",
        "        if(cell.cell_type === 'code') {\n",
        "            cellsToRun[cellsToRun.length] = cell.source.join('').trim();\n",
        "        }\n",
        "    });\n",
        "    return new Promise((resolve, reject) => {\n",
        "        cells.on('error', e => reject(e));\n",
        "        cells.on('close', () => resolve(cellsToRun))\n",
        "    });\n",
        "};\n",
        "$$.done(getCells);\n"
      ],
      "outputs": [],
      "execution_count": 2,
      "metadata": {
        "collapsed": false,
        "outputHidden": false,
        "inputHidden": false
      }
    },
    {
      "cell_type": "markdown",
      "source": [
        "How to create VM promises out of the cell content?"
      ],
      "metadata": {}
    },
    {
      "cell_type": "code",
      "source": [
        "var promises = (cellsToRun) => {\n",
        "    var tempGlobal = Object.assign({}, global);\n",
        "    tempGlobal.$$ = Object.assign({}, $$);\n",
        "    var context = vm.createContext(tempGlobal);\n",
        "    return cellsToRun.map((cell, i) => {\n",
        "        return ((resolve, reject) => {\n",
        "            var result;\n",
        "            try {\n",
        "                var tmp$$ = Object.assign(tempGlobal.$$, {\n",
        "                    _isAsync: false,\n",
        "                    async: () => tmp$$._isAsync = true,\n",
        "                    done: (d) => resolve(d)\n",
        "                });\n",
        "                tempGlobal.$$ = tmp$$;\n",
        "                var script = new vm.Script(`\\n\\nconsole.log('started ${i}');\\n\\n` + cell + `\\n\\n;`);\n",
        "                result = script.runInContext(context);\n",
        "                if (!tmp$$._isAsync) {\n",
        "                    return resolve(result);\n",
        "                }\n",
        "            } catch (e) {\n",
        "                console.log('hit error');\n",
        "                return resolve(e);\n",
        "            }\n",
        "        });\n",
        "    });\n",
        "};\n",
        "$$.done(promises);\n"
      ],
      "outputs": [],
      "execution_count": 3,
      "metadata": {
        "collapsed": false,
        "outputHidden": false,
        "inputHidden": false
      }
    },
    {
      "cell_type": "markdown",
      "source": [
        "How to resolve a list of promises?\n",
        "\n",
        "How to execute all the cells in a notebook?\n",
        "\n"
      ],
      "metadata": {}
    },
    {
      "cell_type": "code",
      "source": [
        "\n",
        "var runAllCells = (cellsToRun) => {\n",
        "    var p = promises(cellsToRun);\n",
        "    return p.reduce((promise, func) =>\n",
        "        promise.then(result =>\n",
        "            (new Promise(func)).then((r) => {\n",
        "        console.log(r);\n",
        "        return r\n",
        "    }).then(Array.prototype.concat.bind(result))\n",
        "                     .catch(e => console.log('error' + e))),\n",
        "            Promise.resolve([])).catch(e => console.log('error' + e))\n",
        "};\n",
        "$$.done(runAllCells);\n"
      ],
      "outputs": [],
      "execution_count": 2,
      "metadata": {
        "collapsed": false,
        "outputHidden": false,
        "inputHidden": false
      }
    },
    {
      "cell_type": "code",
      "source": [
        "var importNotebook = (notebook) => {\n",
        "    if(typeof notebook !== 'undefined') {\n",
        "        return getCells(notebook).then((cells) => {\n",
        "            return runAllCells(cells);\n",
        "        }).then((results) => {\n",
        "            var index = runningNotebooks.indexOf(notebook);\n",
        "            if(index > -1) {\n",
        "                runningNotebooks.splice(index, 1);\n",
        "            }\n",
        "            console.log('executed notebook ' + results);\n",
        "            return results;\n",
        "        });\n",
        "    }\n",
        "}\n",
        "$$.done(importNotebook);\n"
      ],
      "outputs": [],
      "execution_count": 6,
      "metadata": {
        "collapsed": false,
        "outputHidden": false,
        "inputHidden": false
      }
    },
    {
      "cell_type": "markdown",
      "source": [
        "TODO: MAKE THIS HEADER SMALLER?\n",
        "\n",
        "How to provide this command as a service to other notebooks?\n",
        "\n",
        "What to include to create inheritence in jupyter?\n",
        "\n",
        "How to turn jupyter notebooks in to modules?\n",
        "\n"
      ],
      "metadata": {}
    },
    {
      "cell_type": "code",
      "source": [
        "// Does this work everywhere?\n",
        "var $c = console.log;\n",
        "if (typeof notebook == 'undefined') {\n",
        "    var notebook = 'How to find answers.ipynb';\n",
        "}\n",
        "if (typeof importNotebook == 'undefined') {\n",
        "    var importNotebook = true;\n",
        "    try {\n",
        "    var co = '', vm = require('vm'),\n",
        "        source = require('fs').readFileSync(notebook).toString(),\n",
        "        m, re = (/\"cell_type\": \"code\",\\s*\"source\": \\[\\s([\\s\\S]*?)\\s*\\]\\s*,\\s*/ig);\n",
        "    while (m = re.exec(source)) { co += (co == '' ? '' : ',\"\\\\n\",\\n' ) + m[1]; }\n",
        "    co = '\\n\\$$ = get$$();\\n\\n' + JSON.parse('['+co+']').join('') + '\\n\\n;';\n",
        "    global.getGlobal = () => global;\n",
        "    global.get$$ = () => {\n",
        "        var temp$$ = Object.assign({}, global.$$);\n",
        "        return Object.assign(temp$$, {\n",
        "            async: () => console.log('async hit'),\n",
        "            done: (done) => console.log(done)\n",
        "        });\n",
        "    };\n",
        "    var tmpGlobal = Object.assign({}, global);\n",
        "    var context = vm.createContext(tmpGlobal);\n",
        "    (new vm.Script(co)).runInContext(context);\n",
        "    importNotebook = tmpGlobal.importNotebook;\n",
        "    $$.async();\n",
        "    tmpGlobal.imports.then(() => {\n",
        "        $$.done('done importing importing');\n",
        "    });\n",
        "    } catch (e) {\n",
        "        console.log('error' + e);\n",
        "    }\n",
        "}\n"
      ],
      "outputs": [],
      "execution_count": 2,
      "metadata": {
        "collapsed": false,
        "outputHidden": false,
        "inputHidden": false
      }
    },
    {
      "cell_type": "markdown",
      "source": [
        "These are some other useful notebooks you may want to import.\n",
        "\n",
        "How to train a chatbot using jupyter services?\n"
      ],
      "metadata": {}
    },
    {
      "cell_type": "code",
      "source": [
        "$$.async();\n",
        "var imports = importNotebook('How to test import.ipynb')\n",
        ".then(done => importNotebook('How to use express.ipynb'))\n",
        ".then(done => $$.done(done));\n"
      ],
      "outputs": [],
      "execution_count": 3,
      "metadata": {
        "collapsed": false,
        "outputHidden": false,
        "inputHidden": false
      }
    },
    {
      "cell_type": "code",
      "source": [
        "global"
      ],
      "outputs": [],
      "execution_count": 2,
      "metadata": {
        "collapsed": false,
        "outputHidden": false,
        "inputHidden": false
      }
    },
    {
      "cell_type": "code",
      "source": [],
      "outputs": [],
      "execution_count": null,
      "metadata": {
        "collapsed": false,
        "outputHidden": false,
        "inputHidden": false
      }
    }
  ],
  "metadata": {
    "kernelspec": {
      "name": "node_nteract",
      "language": "javascript",
      "display_name": "Node.js (nteract)"
    },
    "kernel_info": {
      "name": "node_nteract"
    },
    "language_info": {
      "name": "javascript",
      "version": "6.5.0",
      "mimetype": "application/javascript",
      "file_extension": ".js"
    }
  },
  "nbformat": 4,
  "nbformat_minor": 4
}