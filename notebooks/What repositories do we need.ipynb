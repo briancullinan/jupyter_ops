{
  "cells": [
    {
      "cell_type": "markdown",
      "source": [
        "# What repositories do we need?\n",
        "\n",
        "* https://github.com/novnc/noVNC.git\n",
        "* https://github.com/Swiftpage/act.ecommerce.git\n",
        "* https://github.com/Swiftpage/Selenium.git\n",
        "\n"
      ],
      "metadata": {}
    },
    {
      "cell_type": "code",
      "source": [
        "var fs = require('fs');\n",
        "var path = require('path');\n",
        "var seleniumPath = path.join(process.cwd(), 'selenium-act');\n",
        "try {\n",
        "    fs.mkdirSync(seleniumPath);\n",
        "} catch (err) {\n",
        "    if (err.code !== 'EEXIST') throw err;\n",
        "}\n"
      ],
      "outputs": [],
      "execution_count": 1,
      "metadata": {
        "collapsed": false,
        "outputHidden": false,
        "inputHidden": false
      }
    },
    {
      "cell_type": "code",
      "source": [
        "$$.async();\n",
        "var exec = require('child_process').exec;\n",
        "var rimraf = require('rimraf');\n",
        "var path = require('path');\n",
        "var seleniumPath = path.join(process.cwd(), 'selenium-act');\n",
        "var novncDir = path.join(seleniumPath, 'novnc');\n",
        "var checkGit = exec('git branch', {\n",
        "  cwd: novncDir\n",
        "}, (err, stdout) => {\n",
        "    if (stdout.indexOf('master') === -1) {\n",
        "        rimraf(novncDir, () => {\n",
        "            var cloneCmd = exec('git clone https://github.com/novnc/noVNC.git ' + novncDir, () => {\n",
        "                $$.done('cloned novnc');\n",
        "            });\n",
        "            cloneCmd.stdout.on('data', (d) => console.log(d));\n",
        "            cloneCmd.stderr.on('data', (d) => console.log(d));\n",
        "        });\n",
        "    } else {\n",
        "        $$.done('novnc already exists');\n",
        "    }\n",
        "});\n",
        "checkGit.stdout.on('data', (d) => console.log(d));\n",
        "checkGit.stderr.on('data', (d) => console.log(d));\n"
      ],
      "outputs": [
        {
          "output_type": "stream",
          "name": "stdout",
          "text": [
            "* master\n",
            "\n"
          ]
        },
        {
          "output_type": "execute_result",
          "execution_count": 3,
          "data": {
            "text/plain": [
              "'selenium-tests already exists'"
            ]
          },
          "metadata": {}
        }
      ],
      "execution_count": 3,
      "metadata": {
        "collapsed": false,
        "outputHidden": false,
        "inputHidden": false
      }
    },
    {
      "cell_type": "code",
      "source": [
        "$$.async();\n",
        "var exec = require('child_process').exec;\n",
        "var rimraf = require('rimraf');\n",
        "var path = require('path');\n",
        "var seleniumPath = path.join(process.cwd(), 'selenium-act');\n",
        "var actDir = path.join(seleniumPath, 'act.ecommerce');\n",
        "var checkGit = exec('git branch', {\n",
        "  cwd: actDir\n",
        "}, (err, stdout) => {\n",
        "    if (stdout.indexOf('Buy_funnel') === -1) {\n",
        "        rimraf(actDir, function () {\n",
        "            var cloneActCmd = exec('git clone -b Buy_funnel https://github.com/Swiftpage/act.ecommerce.git ' + actDir, () => {\n",
        "                $$.done('cloned act.ecommerce');\n",
        "            });\n",
        "            cloneActCmd.stdout.on('data', (d) => console.log(d));\n",
        "            cloneActCmd.stderr.on('data', (d) => console.log(d));\n",
        "        });\n",
        "    } else {\n",
        "        $$.done('act.ecommerce already exists');\n",
        "    }\n",
        "});\n",
        "checkGit.stdout.on('data', (d) => console.log(d));\n",
        "checkGit.stderr.on('data', (d) => console.log(d));\n"
      ],
      "outputs": [
        {
          "output_type": "stream",
          "name": "stdout",
          "text": [
            "* Buy_funnel\n",
            "\n"
          ]
        },
        {
          "output_type": "execute_result",
          "execution_count": 2,
          "data": {
            "text/plain": [
              "'selenium-tests already exists'"
            ]
          },
          "metadata": {}
        }
      ],
      "execution_count": 2,
      "metadata": {
        "collapsed": false,
        "outputHidden": false,
        "inputHidden": false
      }
    },
    {
      "cell_type": "code",
      "source": [
        "$$.async();\n",
        "var exec = require('child_process').exec;\n",
        "var rimraf = require('rimraf');\n",
        "var path = require('path');\n",
        "var seleniumPath = path.join(process.cwd(), 'selenium-act');\n",
        "var seleniumDir = path.join(seleniumPath, 'selenium');\n",
        "var checkGit = exec('git branch', {\n",
        "  cwd: seleniumDir\n",
        "}, (err, stdout) => {\n",
        "    if (stdout.indexOf('B-11243_Angular_Portal_POC') === -1) {\n",
        "        rimraf(seleniumDir, function () {\n",
        "            var cloneActCmd = exec('git clone -b B-11243_Angular_Portal_POC https://github.com/Swiftpage/Selenium.git ' + seleniumDir, () => {\n",
        "                $$.done('cloned selenium-tests');\n",
        "            });\n",
        "            cloneActCmd.stdout.on('data', (d) => console.log(d));\n",
        "            cloneActCmd.stderr.on('data', (d) => console.log(d));\n",
        "        });\n",
        "    } else {\n",
        "        $$.done('selenium already exists');\n",
        "    }\n",
        "});\n",
        "checkGit.stdout.on('data', (d) => console.log(d));\n",
        "checkGit.stderr.on('data', (d) => console.log(d));\n"
      ],
      "outputs": [
        {
          "output_type": "stream",
          "name": "stdout",
          "text": [
            "* B-11243_Angular_Portal_POC\n",
            "\n"
          ]
        },
        {
          "output_type": "execute_result",
          "execution_count": 1,
          "data": {
            "text/plain": [
              "'selenium-tests already exists'"
            ]
          },
          "metadata": {}
        }
      ],
      "execution_count": 1,
      "metadata": {
        "collapsed": false,
        "outputHidden": false,
        "inputHidden": false
      }
    }
  ],
  "metadata": {
    "kernelspec": {
      "name": "node_nteract",
      "language": "javascript",
      "display_name": "Node.js (nteract)"
    },
    "kernel_info": {
      "name": "node_nteract"
    },
    "language_info": {
      "name": "javascript",
      "version": "6.5.0",
      "mimetype": "application/javascript",
      "file_extension": ".js"
    }
  },
  "nbformat": 4,
  "nbformat_minor": 4
}