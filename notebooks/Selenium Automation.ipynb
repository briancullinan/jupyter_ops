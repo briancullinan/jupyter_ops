{
 "cells": [
  {
   "cell_type": "markdown",
   "metadata": {},
   "source": [
    "# What is Selenium?\n",
    "\n",
    "Selenium is a remote control for web-browsers.  Chrome-driver is the remote control for Chrome.\n",
    "\n",
    "http://www.seleniumhq.org/download/\n",
    "\n",
    "https://sites.google.com/a/chromium.org/chromedriver/downloads\n",
    "\n"
   ]
  },
  {
   "cell_type": "markdown",
   "metadata": {},
   "source": [
    "First run the virtual frame buffer with selenium\n",
    "\n"
   ]
  },
  {
   "cell_type": "code",
   "execution_count": 20,
   "metadata": {
    "scrolled": true
   },
   "outputs": [
    {
     "data": {
      "text/plain": [
       "0"
      ]
     },
     "execution_count": 20,
     "metadata": {},
     "output_type": "execute_result"
    },
    {
     "name": "stdout",
     "output_type": "stream",
     "text": [
      "22:25:42.886 INFO - Selenium build info: version: '3.4.0', revision: 'unknown'\n",
      "\n",
      "22:25:42.889 INFO - Launching a standalone Selenium Server\n",
      "\n",
      "2017-05-23 22:25:42.915:INFO::main: Logging initialized @209ms to org.seleniumhq.jetty9.util.log.StdErrLog\n",
      "\n",
      "\n",
      "22:25:42.969 INFO - Driver provider org.openqa.selenium.ie.InternetExplorerDriver registration is skipped:\n",
      " registration capabilities Capabilities [{ensureCleanSession=true, browserName=internet explorer, version=, platform=WINDOWS}] does not match the current platform LINUX\n",
      "\n",
      "22:25:42.969 INFO - Driver provider org.openqa.selenium.edge.EdgeDriver registration is skipped:\n",
      " registration capabilities Capabilities [{browserName=MicrosoftEdge, version=, platform=WINDOWS}] does not match the current platform LINUX\n",
      "\n",
      "22:25:42.970 INFO - Driver class not found: com.opera.core.systems.OperaDriver\n",
      "\n",
      "22:25:42.970 INFO - Driver provider com.opera.core.systems.OperaDriver registration is skipped:\n",
      "Unable to create new instances on this machine.\n",
      "\n",
      "22:25:42.970 INFO - Driver class not found: com.opera.core.systems.OperaDriver\n",
      "\n",
      "22:25:42.970 INFO - Driver provider com.opera.core.systems.OperaDriver is not registered\n",
      "\n",
      "22:25:42.979 INFO - Driver provider org.openqa.selenium.safari.SafariDriver registration is skipped:\n",
      " registration capabilities Capabilities [{browserName=safari, version=, platform=MAC}] does not match the current platform LINUX\n",
      "\n",
      "2017-05-23 22:25:43.033:INFO:osjs.Server:main: jetty-9.4.3.v20170317\n",
      "\n",
      "\n",
      "2017-05-23 22:25:43.067:INFO:osjsh.ContextHandler:main: Started o.s.j.s.ServletContextHandler@55f3ddb1{/,null,AVAILABLE}\n",
      "\n",
      "\n",
      "2017-05-23 22:25:43.089:INFO:osjs.AbstractConnector:main: Started ServerConnector@1794d431{HTTP/1.1,[http/1.1]}{0.0.0.0:4444}\n",
      "\n",
      "\n",
      "2017-05-23 22:25:43.089:INFO:osjs.Server:main: Started @384ms\n",
      "\n",
      "\n",
      "22:25:43.092 INFO - Selenium Server is up and running\n",
      "\n"
     ]
    }
   ],
   "source": [
    "$$.async()\n",
    "$TS.unholdAsync();\n",
    "var child = require(\"child_process\").exec('xvfb-run --server-num=0 --server-args=\"-screen 0 1024x768x24 -ac +extension RANDR\" java -Dwebdriver.chrome.driver=\"/usr/bin/chromedriver\" -Dwebdriver.chrome.args=\"--start-maximized\" -jar /opt/selenium/selenium-server-standalone.jar');\n",
    "child.stdout.on('data', function(data) {\n",
    "    console.log(data.toString()); \n",
    "});\n",
    "child.stderr.on('data', function(data) {\n",
    "    console.log(data.toString()); \n",
    "});\n",
    "0\n",
    "\n",
    "\n"
   ]
  },
  {
   "cell_type": "markdown",
   "metadata": {},
   "source": [
    "Then run the VNC server with fluxbox"
   ]
  },
  {
   "cell_type": "code",
   "execution_count": 22,
   "metadata": {},
   "outputs": [
    {
     "data": {
      "text/plain": [
       "0"
      ]
     },
     "execution_count": 22,
     "metadata": {},
     "output_type": "execute_result"
    },
    {
     "name": "stdout",
     "output_type": "stream",
     "text": [
      "23/05/2017 22:30:50 \n",
      "passing arg to libvncserver: -rfbport\n",
      "23/05/2017 22:30:50 passing arg to libvncserver: 5900\n",
      "\n",
      "23/05/2017 22:30:50 x11vnc version: 0.9.13 lastmod: 2011-08-10  pid: 527\n",
      "\n",
      "Xlib:  extension \"RANDR\" missing on display \":0\".\n",
      "\n",
      "23/05/2017 22:30:50 Using X display :0\n",
      "23/05/2017 22:30:50 rootwin: 0x169 reswin: 0x400001 dpy: 0x22b62b0\n",
      "\n",
      "23/05/2017 22:30:50 \n",
      "23/05/2017 22:30:50 ------------------ USEFUL INFORMATION ------------------\n",
      "\n",
      "23/05/2017 22:30:50 X DAMAGE available on display, using it for polling hints.\n",
      "23/05/2017 22:30:50   To disable this behavior use: '-noxdamage'\n",
      "23/05/2017 22:30:50 \n",
      "23/05/2017 22:30:50   Most compositing window managers like 'compiz' or 'beryl'\n",
      "23/05/2017 22:30:50   cause X DAMAGE to fail, and so you may not see any screen\n",
      "23/05/2017 22:30:50   updates via VNC.  Either disable 'compiz' (recommended) or\n",
      "23/05/2017 22:30:50   supply the x11vnc '-noxdamage' command line option.\n",
      "23/05/2017 22:30:50 \n",
      "\n",
      "23/05/2017 22:30:50 Wireframing: -wireframe mode is in effect for window moves.\n",
      "23/05/2017 22:30:50   If this yields undesired behavior (poor response, painting\n",
      "23/05/2017 22:30:50   errors, etc) it may be disabled:\n",
      "23/05/2017 22:30:50    - use '-nowf' to disable wireframing completely.\n",
      "23/05/2017 22:30:50    - use '-nowcr' to disable the Copy Rectangle after the\n",
      "23/05/2017 22:30:50      moved window is released in the new position.\n",
      "23/05/2017 22:30:50   Also see the -help entry for tuning parameters.\n",
      "23/05/2017 22:30:50   You can press 3 Alt_L's (Left \"Alt\" key) in a row to \n",
      "23/05/2017 22:30:50   repaint the screen, also see the -fixscreen option for\n",
      "23/05/2017 22:30:50   periodic repaints.\n",
      "23/05/2017 22:30:50 \n",
      "23/05/2017 22:30:50 XFIXES available on display, resetting cursor mode\n",
      "23/05/2017 22:30:50   to: '-cursor most'.\n",
      "23/05/2017 22:30:50   to disable this behavior use: '-cursor arrow'\n",
      "23/05/2017 22:30:50   or '-noxfixes'.\n",
      "23/05/2017 22:30:50 using XFIXES for cursor drawing.\n",
      "23/05/2017 22:30:50 GrabServer control via XTEST.\n",
      "\n",
      "23/05/2017 22:30:50 \n",
      "23/05/2017 22:30:50 Scroll Detection: -scrollcopyrect mode is in effect to\n",
      "23/05/2017 22:30:50   use RECORD extension to try to detect scrolling windows\n",
      "23/05/2017 22:30:50   (induced by either user keystroke or mouse input).\n",
      "23/05/2017 22:30:50   If this yields undesired behavior (poor response, painting\n",
      "23/05/2017 22:30:50   errors, etc) it may be disabled via: '-noscr'\n",
      "\n",
      "23/05/2017 22:30:50   Also see the -help entry for tuning parameters.\n",
      "23/05/2017 22:30:50   You can press 3 Alt_L's (Left \"Alt\" key) in a row to \n",
      "23/05/2017 22:30:50   repaint the screen, also see the -fixscreen option for\n",
      "23/05/2017 22:30:50   periodic repaints.\n",
      "\n",
      "23/05/2017 22:30:50 \n",
      "23/05/2017 22:30:50 XKEYBOARD: number of keysyms per keycode 7 is greater\n",
      "23/05/2017 22:30:50   than 4 and 51 keysyms are mapped above 4.\n",
      "23/05/2017 22:30:50   Automatically switching to -xkb mode.\n",
      "23/05/2017 22:30:50   If this makes the key mapping worse you can\n",
      "23/05/2017 22:30:50   disable it with the \"-noxkb\" option.\n",
      "23/05/2017 22:30:50   Also, remember \"-remap DEAD\" for accenting characters.\n",
      "23/05/2017 22:30:50 \n",
      "\n",
      "23/05/2017 22:30:50 X FBPM extension not supported.\n",
      "23/05/2017 22:30:50 X display is not capable of DPMS.\n",
      "23/05/2017 22:30:50 --------------------------------------------------------\n",
      "23/05/2017 22:30:50 \n",
      "23/05/2017 22:30:50 Default visual ID: 0x21\n",
      "\n",
      "23/05/2017 22:30:50 Read initial data from X display into framebuffer.\n",
      "23/05/2017 22:30:50 initialize_screen: fb_depth/fb_bpp/fb_Bpl 24/32/4096\n",
      "23/05/2017 22:30:50 \n",
      "23/05/2017 22:30:50 X display :0 is 32bpp depth=24 true color\n",
      "\n",
      "23/05/2017 22:30:50 \n",
      "23/05/2017 22:30:50 Listening for VNC connections on TCP port 5900\n",
      "23/05/2017 22:30:50 Listening for VNC connections on TCP6 port 5900\n",
      "23/05/2017 22:30:50 listen6: bind: Address already in use\n",
      "23/05/2017 22:30:50 Not listening on IPv6 interface.\n",
      "\n",
      "23/05/2017 22:30:50 fb read rate: 2259 MB/sec\n",
      "23/05/2017 22:30:50 fast read: reset -wait  ms to: 10\n",
      "23/05/2017 22:30:50 fast read: reset -defer ms to: 10\n",
      "\n",
      "23/05/2017 22:30:50 The X server says there are 10 mouse buttons.\n",
      "23/05/2017 22:30:50 screen setup finished.\n",
      "\n",
      "23/05/2017 22:30:50 \n",
      "\n",
      "The VNC desktop is:      ba5c1d62ca90:0\n",
      "\n",
      "******************************************************************************\n",
      "Have you tried the x11vnc '-ncache' VNC client-side pixel caching feature yet?\n",
      "\n",
      "The scheme stores pixel data offscreen on the VNC viewer side for faster\n",
      "retrieval.  It should work with any VNC viewer.  Try it by running:\n",
      "\n",
      "    x11vnc -ncache 10 ...\n",
      "\n",
      "One can also add -ncache_cr for smooth 'copyrect' window motion.\n",
      "More info: http://www.karlrunge.com/x11vnc/faq.html#faq-client-caching\n",
      "\n",
      "\n",
      "PORT=5900\n",
      "\n",
      "feh WARNING: \n",
      "Can't write to /home/jovyan/.fehbg\n",
      "\n",
      "\n"
     ]
    }
   ],
   "source": [
    "$$.async()\n",
    "$TS.unholdAsync();\n",
    "[\n",
    "    'fluxbox -display :0',\n",
    "    'x11vnc -forever -nopw -shared -rfbport 5900 -display :0'\n",
    "].forEach((cmd) => {\n",
    "    var child = require(\"child_process\").exec(cmd);\n",
    "    child.stdout.on('data', function(data) {\n",
    "        console.log(data.toString()); \n",
    "    });\n",
    "    child.stderr.on('data', function(data) {\n",
    "        console.log(data.toString()); \n",
    "    });\n",
    "});\n",
    "0\n",
    "\n"
   ]
  },
  {
   "cell_type": "markdown",
   "metadata": {},
   "source": [
    "Finally, run this middle-ware for the html5 client"
   ]
  },
  {
   "cell_type": "code",
   "execution_count": 23,
   "metadata": {
    "scrolled": true
   },
   "outputs": [
    {
     "data": {
      "text/plain": [
       "0"
      ]
     },
     "execution_count": 23,
     "metadata": {},
     "output_type": "execute_result"
    },
    {
     "name": "stdout",
     "output_type": "stream",
     "text": [
      "Warning: could not find self.pem\n",
      "\n",
      "Using local websockify at /home/jovyan/novnc/utils/websockify/run\n",
      "Starting webserver and WebSockets proxy on port 6080\n",
      "\n",
      "/home/jovyan/novnc/utils/websockify/websockify/websocket.py:30: UserWarning: no 'numpy' module, HyBi protocol will be slower\n",
      "  warnings.warn(\"no 'numpy' module, HyBi protocol will be slower\")\n",
      "WebSocket server settings:\n",
      "  - Listen on :6080\n",
      "\n",
      "  - Web server. Web root: /home/jovyan/novnc\n",
      "  - No SSL/TLS support (no cert file)\n",
      "\n",
      "  - proxying from :6080 to localhost:5900\n",
      "\n",
      "\n",
      "\n",
      "Navigate to this URL:\n",
      "\n",
      "\n",
      "    http://ba5c1d62ca90:6080/vnc.html?host=ba5c1d62ca90&port=6080\n",
      "\n",
      "Press Ctrl-C to exit\n",
      "\n",
      "\n",
      "\n"
     ]
    }
   ],
   "source": [
    "$$.async()\n",
    "$TS.unholdAsync();\n",
    "var child = require(\"child_process\").exec('../novnc/utils/launch.sh --vnc localhost:5900');\n",
    "child.stdout.on('data', function(data) {\n",
    "    console.log(data.toString()); \n",
    "});\n",
    "child.stderr.on('data', function(data) {\n",
    "    console.log(data.toString()); \n",
    "});\n",
    "0\n",
    "\n"
   ]
  },
  {
   "cell_type": "markdown",
   "metadata": {},
   "source": [
    "Show the iframe with VNC connection"
   ]
  },
  {
   "cell_type": "code",
   "execution_count": 27,
   "metadata": {
    "scrolled": true
   },
   "outputs": [
    {
     "name": "stdout",
     "output_type": "stream",
     "text": [
      " PointerEvent        :   1416 |      8496/     8496 (  0.0%)\n",
      "23/05/2017 22:44:36  FramebufferUpdate   :   1142 |     11420/    11420 (  0.0%)\n",
      "23/05/2017 22:44:36  SetEncodings        :      1 |        68/       68 (  0.0%)\n",
      "23/05/2017 22:44:36  SetPixelFormat      :      1 |        20/       20 (  0.0%)\n",
      "23/05/2017 22:44:36  TOTALS              :   2609 |     20396/    20396 (  0.0%)\n",
      "\n",
      "23/05/2017 22:44:36 destroyed xdamage object: 0x400024\n",
      "\n"
     ]
    },
    {
     "data": {
      "text/html": [
       "<div style=\"display:block; width:100%; padding-bottom:75%;position:relative;\"><iframe id=\"vnc\"style=\"position:absolute;top:0;right:0;bottom:0;left:0;width:100%;height:100%;border:0;\"src=\"//localhost:6080/vnc.html?host=localhost&port=6080&autoconnect=true&resize=downscale&view_only=true\"></iframe></div>"
      ]
     },
     "execution_count": 27,
     "metadata": {},
     "output_type": "execute_result"
    },
    {
     "name": "stdout",
     "output_type": "stream",
     "text": [
      "172.17.0.1 - - [23/May/2017 22:44:37] 172.17.0.1: Plain non-SSL (ws://) WebSocket connection\n",
      "\n",
      "172.17.0.1 - - [23/May/2017 22:44:37] 172.17.0.1: Path: '/websockify'\n",
      "172.17.0.1 - - [23/May/2017 22:44:37] connecting to: localhost:5900\n",
      "\n",
      "23/05/2017 22:44:37 Got connection from client 127.0.0.1\n",
      "23/05/2017 22:44:37   other clients:\n",
      "\n",
      "23/05/2017 22:44:37 Normal socket connection\n",
      "23/05/2017 22:44:37 Disabled X server key autorepeat.\n",
      "23/05/2017 22:44:37   to force back on run: 'xset r on' (3 times)\n",
      "23/05/2017 22:44:37 incr accepted_client=2 for 127.0.0.1:55992  sock=12\n",
      "\n",
      "23/05/2017 22:44:37 Client Protocol Version 3.8\n",
      "23/05/2017 22:44:37 Protocol version sent 3.8, using 3.8\n",
      "\n",
      "23/05/2017 22:44:37 rfbProcessClientSecurityType: executing handler for type 1\n",
      "23/05/2017 22:44:37 rfbProcessClientSecurityType: returning securityResult for client rfb version >= 3.8\n",
      "\n",
      "23/05/2017 22:44:37 Pixel format for client 127.0.0.1:\n",
      "23/05/2017 22:44:37   32 bpp, depth 24, little endian\n",
      "23/05/2017 22:44:37   true colour: max r 255 g 255 b 255, shift r 16 g 8 b 0\n",
      "23/05/2017 22:44:37 no translation needed\n",
      "\n",
      "23/05/2017 22:44:37 rfbProcessClientNormalMessage: ignoring unsupported encoding type tightPng\n",
      "23/05/2017 22:44:37 Using image quality level 6 for client 127.0.0.1\n",
      "23/05/2017 22:44:37 Using JPEG subsampling 0, Q79 for client 127.0.0.1\n",
      "23/05/2017 22:44:37 Using compression level 2 for client 127.0.0.1\n",
      "23/05/2017 22:44:37 Enabling NewFBSize protocol extension for client 127.0.0.1\n",
      "23/05/2017 22:44:37 Enabling LastRect protocol extension for client 127.0.0.1\n",
      "23/05/2017 22:44:37 Enabling full-color cursor updates for client 127.0.0.1\n",
      "23/05/2017 22:44:37 rfbProcessClientNormalMessage: ignoring unsupported encoding type Enc(0xFFFFFEFE)\n",
      "23/05/2017 22:44:37 rfbProcessClientNormalMessage: ignoring unsupported encoding type Enc(0xFFFFFECC)\n",
      "23/05/2017 22:44:37 Enabling Xvp protocol extension for client 127.0.0.1\n",
      "23/05/2017 22:44:37 rfbProcessClientNormalMessage: ignoring unsupported encoding type Enc(0xFFFFFEC8)\n",
      "23/05/2017 22:44:37 rfbProcessClientNormalMessage: ignoring unsupported encoding type Enc(0xFFFFFEC7)\n",
      "23/05/2017 22:44:37 Using tight encoding for client 127.0.0.1\n",
      "\n",
      "23/05/2017 22:44:38 \n",
      "client useCopyRect: 127.0.0.1 -1\n",
      "\n",
      "23/05/2017 22:44:38 client_set_net: 127.0.0.1  0.0001\n",
      "\n",
      "23/05/2017 22:44:38 created   xdamage object: 0x400026\n",
      "\n",
      "172.17.0.1: ignoring socket not ready\n",
      "172.17.0.1: ignoring socket not ready\n",
      "\n",
      "172.17.0.1: ignoring socket not ready\n",
      "\n",
      "172.17.0.1: ignoring socket not ready\n",
      "\n",
      "172.17.0.1: ignoring socket not ready\n",
      "\n",
      "23/05/2017 22:44:40 client 2 network rate 104.8 KB/sec (4019.7 eff KB/sec)\n",
      "23/05/2017 22:44:40 client 2 latency:  2.9 ms\n",
      "23/05/2017 22:44:40 dt1: 0.7792, dt2: 0.0044 dt3: 0.0029 bytes: 82087\n",
      "23/05/2017 22:44:40 link_rate: LR_BROADBAND - 2 ms, 104 KB/s\n",
      "\n"
     ]
    }
   ],
   "source": [
    "$TS.html(\n",
    "    '<div style=\"display:block; width:100%; padding-bottom:75%;position:relative;\">' +\n",
    "    '<iframe id=\"vnc\"' +\n",
    "        'style=\"position:absolute;top:0;right:0;bottom:0;left:0;width:100%;height:100%;border:0;\"' +\n",
    "        'src=\"//localhost:6080/vnc.html?host=localhost&port=6080&autoconnect=true&resize=downscale&view_only=true\"></iframe></div>');\n",
    "\n"
   ]
  },
  {
   "cell_type": "markdown",
   "metadata": {
    "collapsed": true
   },
   "source": [
    "Run our first selenium script"
   ]
  },
  {
   "cell_type": "code",
   "execution_count": 26,
   "metadata": {
    "scrolled": true
   },
   "outputs": [
    {
     "data": {
      "text/plain": [
       "0"
      ]
     },
     "execution_count": 26,
     "metadata": {},
     "output_type": "execute_result"
    },
    {
     "name": "stdout",
     "output_type": "stream",
     "text": [
      "Xlib:  extension \"RANDR\" missing on display \":0\".\n",
      "\n",
      "[577:588:0523/223355.807311:ERROR:bus.cc(427)] Failed to connect to the bus: Failed to connect to socket /var/run/dbus/system_bus_socket: No such file or directory\n",
      "\n",
      "Xlib:  extension \"RANDR\" missing on display \":0\".\n",
      "\n",
      "Failed to read: session.screen0.titlebar.left\n",
      "Setting default value\n",
      "\n",
      "Failed to read: session.screen0.titlebar.right\n",
      "Setting default value\n",
      "\n",
      "\n",
      "(google-chrome:577): LIBDBUSMENU-GLIB-WARNING **: Unable to get session bus: Failed to execute child process \"dbus-launch\" (No such file or directory)\n",
      "\n",
      "libudev: udev_has_devtmpfs: \n",
      "name_to_handle_at on /dev: Operation not permitted\n",
      "\n",
      "23/05/2017 22:33:56 client 1 network rate 1249.0 KB/sec (47537.5 eff KB/sec)\n",
      "23/05/2017 22:33:56 client 1 latency:  1.3 ms\n",
      "23/05/2017 22:33:56 dt1: 0.0561, dt2: 0.0107 dt3: 0.0013 bytes: 82658\n",
      "23/05/2017 22:33:56 link_rate: LR_LAN - 1 ms, 1249 KB/s\n",
      "\n",
      "libudev: udev_has_devtmpfs: name_to_handle_at on /dev: Operation not permitted\n",
      "\n",
      "[711:711:0523/223445.822644:ERROR:sandbox_linux.cc(343)] InitializeSandbox() called with multiple threads in process gpu-process. \n",
      "\n",
      "ALSA lib confmisc.c:768:(parse_card) cannot find card '0'\n",
      "\n",
      "ALSA lib conf.c:4259:(_snd_config_evaluate) function snd_func_card_driver returned error: No such file or directory\n",
      "ALSA lib confmisc.c:392:(snd_func_concat) error evaluating strings\n",
      "ALSA lib conf.c:4259:(_snd_config_evaluate) function snd_func_concat returned error: No such file or directory\n",
      "ALSA lib confmisc.c:1251:(snd_func_refer) error evaluating name\n",
      "ALSA lib conf.c:4259:(_snd_config_evaluate) function snd_func_refer returned error: No such file or directory\n",
      "ALSA lib conf.c:4738:(snd_config_expand) Evaluate error: No such file or directory\n",
      "ALSA lib pcm.c:2239:(snd_pcm_open_noupdate) Unknown PCM default\n",
      "\n",
      "ALSA lib confmisc.c:768:(parse_card) cannot find card '0'\n",
      "ALSA lib conf.c:4259:(_snd_config_evaluate) function snd_func_card_driver returned error: No such file or directory\n",
      "ALSA lib confmisc.c:392:(snd_func_concat) error evaluating strings\n",
      "ALSA lib conf.c:4259:(_snd_config_evaluate) function snd_func_concat returned error: No such file or directory\n",
      "ALSA lib confmisc.c:1251:(snd_func_refer) error evaluating name\n",
      "ALSA lib conf.c:4259:(_snd_config_evaluate) function snd_func_refer returned error: No such file or directory\n",
      "ALSA lib conf.c:4738:(snd_config_expand) Evaluate error: No such file or directory\n",
      "\n",
      "ALSA lib pcm.c:2239:(snd_pcm_open_noupdate) Unknown PCM default\n",
      "\n",
      "23/05/2017 22:39:44 \n",
      "idle keyboard:   turning X autorepeat back on.\n",
      "\n",
      "23/05/2017 22:43:44 \n",
      "cursor_noshape_updates_clients: 0\n",
      "\n",
      "[0523/224344.371041:ERROR:nacl_helper_linux.cc(311)] NaCl helper process running without a sandbox!\n",
      "Most likely you need to configure your SUID sandbox correctly\n",
      "\n",
      "23/05/2017 22:44:14 \n",
      "active keyboard: turning X autorepeat off.\n",
      "\n",
      "23/05/2017 22:44:36 \n",
      "client_count: 0\n",
      "\n",
      "23/05/2017 22:44:36 \n",
      "Restored X server key autorepeat to: 1\n",
      "\n",
      "23/05/2017 22:44:36 \n",
      "Client 127.0.0.1 gone\n",
      "\n",
      "23/05/2017 22:44:36 \n",
      "Statistics             events    Transmit/ RawEquiv ( saved)\n",
      "\n",
      "23/05/2017 22:44:36 \n",
      " ServerCutText       :      2 |        38/       38 (  0.0%)\n",
      "\n",
      "23/05/2017 22:44:36 \n",
      " XvpServerMessage    :      1 |         4/        4 (  0.0%)\n",
      "\n",
      "23/05/2017 22:44:36 \n",
      " FramebufferUpdate   :   1141 |         0/        0 (  0.0%)\n",
      "\n",
      "23/05/2017 22:44:36 \n",
      " LastRect            :    116 |      1392/     1392 (  0.0%)\n",
      "\n",
      "23/05/2017 22:44:36 \n",
      " tight               :   4028 |   4180359/ 99868688 ( 95.8%)\n",
      "\n",
      "23/05/2017 22:44:36 \n",
      " RichCursor          :     52 |     37894/    37894 (  0.0%)\n",
      "\n",
      "23/05/2017 22:44:36 \n",
      " TOTALS              :   5340 |   4219687/ 99908016 ( 95.8%)\n",
      "\n",
      "23/05/2017 22:44:36 \n",
      "Statistics             events    Received/ RawEquiv ( saved)\n",
      "\n",
      "23/05/2017 22:44:36 \n",
      " KeyEvent            :     48 |       384/      384 (  0.0%)\n",
      "\n",
      "23/05/2017 22:44:36 \n",
      " ClientCutText       :      1 |         8/        8 (  0.0%)\n",
      "\n",
      "23/05/2017 22:44:36 \n"
     ]
    }
   ],
   "source": [
    "$$.async()\n",
    "$TS.unholdAsync();\n",
    "require(\"child_process\").exec('export DISPLAY=:0 && google-chrome --no-sandbox').stderr.on('data', function(data) {\n",
    "    console.log(data.toString()); \n",
    "});\n",
    "0\n"
   ]
  },
  {
   "cell_type": "markdown",
   "metadata": {
    "collapsed": true
   },
   "source": [
    "Checkout the github repo for mocha scripts"
   ]
  },
  {
   "cell_type": "code",
   "execution_count": null,
   "metadata": {
    "collapsed": true
   },
   "outputs": [],
   "source": []
  }
 ],
 "metadata": {
  "kernelspec": {
   "display_name": "Typescript 2.3",
   "language": "typescript",
   "name": "typescript"
  },
  "language_info": {
   "file_extension": ".ts",
   "mimetype": "text/x-typescript",
   "name": "typescript",
   "version": "2.3.3"
  }
 },
 "nbformat": 4,
 "nbformat_minor": 2
}
