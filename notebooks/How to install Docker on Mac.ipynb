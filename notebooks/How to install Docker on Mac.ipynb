{
  "cells": [
    {
      "cell_type": "markdown",
      "source": [
        "# How to install Docker on Mac?\n",
        "\n",
        "[Download Docker](https://download.docker.com/owx/stable/InstallDocker.dmg)\n",
        "and install then skip to step 3.\n",
        "\n",
        "## 1\n",
        "\n",
        "Is Docker already installed?\n"
      ],
      "metadata": {}
    },
    {
      "cell_type": "code",
      "source": [
        "$$.async();\n",
        "var exec = require('child_process').exec;\n",
        "var installed = false;\n",
        "var docker = exec('docker ps', (err, stdout, stderr) => {\n",
        "    if (stdout.indexOf('not found') > -1) {\n",
        "        $$.done('Docker not found, installing');\n",
        "    } else {\n",
        "        installed = true;\n",
        "        $$.done('Docker is already installed');\n",
        "    }\n",
        "});\n"
      ],
      "outputs": [
        {
          "output_type": "execute_result",
          "execution_count": 4,
          "data": {
            "text/plain": [
              "'Docker is already installed'"
            ]
          },
          "metadata": {}
        }
      ],
      "execution_count": 4,
      "metadata": {
        "collapsed": false,
        "outputHidden": false,
        "inputHidden": false
      }
    },
    {
      "cell_type": "markdown",
      "source": [
        "Where do I download docker?"
      ],
      "metadata": {}
    },
    {
      "cell_type": "code",
      "source": [],
      "outputs": [],
      "execution_count": null,
      "metadata": {
        "collapsed": false,
        "outputHidden": false,
        "inputHidden": false
      }
    },
    {
      "cell_type": "markdown",
      "source": [
        "What other tools do I need?\n",
        "\nInstall XCode, nodejs, and Docker with elevated."
      ],
      "metadata": {}
    },
    {
      "cell_type": "code",
      "source": [
        "$$.async();\n",
        "//  /usr/bin/osascript -e 'do shell script \"/path/to/myscript args 2>&1 etc\" with administrator privileges'\n",
        "var exec = require('child_process').exec;\n",
        "var installCmd = exec('npm install rimraf JSONStream', () => {\n",
        "    $$.done('installed basic node utilities, rimraf, JSONStream, etc');\n",
        "});\n",
        "installCmd.stdout.on('data', (d) => console.log(d));\n",
        "installCmd.stderr.on('data', (d) => console.log(d));\n"
      ],
      "outputs": [
        {
          "output_type": "stream",
          "name": "stdout",
          "text": [
            "jupytangular2@ /Users/briancullinan/jupytangular2\n",
            "+-- JSONStream@1.3.1 \n",
            "`-- rimraf@2.6.1 \n",
            "\n\n"
          ]
        },
        {
          "output_type": "execute_result",
          "execution_count": 5,
          "data": {
            "text/plain": [
              "'installed basic node utilities, rimraf, JSONStream, etc'"
            ]
          },
          "metadata": {}
        }
      ],
      "execution_count": 5,
      "metadata": {
        "collapsed": false,
        "outputHidden": false,
        "inputHidden": false
      }
    }
  ],
  "metadata": {
    "kernelspec": {
      "name": "node_nteract",
      "language": "javascript",
      "display_name": "Node.js (nteract)"
    },
    "kernel_info": {
      "name": "node_nteract"
    },
    "language_info": {
      "name": "javascript",
      "version": "6.5.0",
      "mimetype": "application/javascript",
      "file_extension": ".js"
    }
  },
  "nbformat": 4,
  "nbformat_minor": 4
}