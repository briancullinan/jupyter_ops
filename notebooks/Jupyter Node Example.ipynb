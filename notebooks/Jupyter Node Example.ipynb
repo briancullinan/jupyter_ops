{
 "cells": [
  {
   "cell_type": "markdown",
   "metadata": {
    "slideshow": {
     "slide_type": "slide"
    }
   },
   "source": [
    "# Jupyter Nodejs"
   ]
  },
  {
   "cell_type": "code",
   "execution_count": null,
   "metadata": {
    "collapsed": true
   },
   "outputs": [],
   "source": [
    "%%bash\n",
    "\n",
    "clone https://github.com/megamindbrian/jupytangular2\n",
    "docker build -t jupytangular ./\n",
    "docker run --name jupytangular -it -p 8888:8888 -v ~/jupytangular2/notebooks/:/home/jovyan/notebooks jupytangular\n",
    "docker run --name jupytangular -it -p 8888:8888 -v \"C:\\Users\\brian.cullinan\\Documents\\jupytangular2\\notebooks\":/home/jovyan/notebooks jupytangular\n",
    "\n",
    "\n"
   ]
  },
  {
   "cell_type": "code",
   "execution_count": null,
   "metadata": {
    "collapsed": true
   },
   "outputs": [],
   "source": [
    "var os = require('os')\n",
    "os.hostname()"
   ]
  },
  {
   "cell_type": "code",
   "execution_count": null,
   "metadata": {
    "collapsed": true
   },
   "outputs": [],
   "source": [
    "console.log('Hello NodeJS')"
   ]
  },
  {
   "cell_type": "code",
   "execution_count": null,
   "metadata": {
    "collapsed": true
   },
   "outputs": [],
   "source": [
    "function npmls(cb) {\n",
    "  require('child_process').exec('npm ls --json', function(err, stdout, stderr) {\n",
    "    if (err) return cb(err)\n",
    "    cb(null, JSON.parse(stdout));\n",
    "  });\n",
    "}\n",
    "npmls(console.log);"
   ]
  },
  {
   "cell_type": "code",
   "execution_count": null,
   "metadata": {
    "collapsed": true
   },
   "outputs": [],
   "source": [
    "var exec = require('child_process').exec;\n",
    "child = exec('npm install nodegit');\n",
    "child.stderr.pipe(process.stderr);\n",
    "child.stdout.pipe(process.stdout);\n",
    "0"
   ]
  },
  {
   "cell_type": "code",
   "execution_count": null,
   "metadata": {
    "collapsed": true
   },
   "outputs": [],
   "source": [
    "var Git = require('nodegit');\n",
    "var url = 'https://github.com/megamindbrian/sosmethod';\n",
    "var directory = './sosmethod';\n",
    "var clone = Git.Clone.clone;\n",
    "var branch = 'master';\n",
    "var cloneOptions = new Git.CloneOptions();\n",
    "cloneOptions.checkoutBranch = branch;\n",
    "\n",
    "clone(url, directory, cloneOptions)\n",
    "    .then(function(repository){\n",
    "        console.log(repository);\n",
    "    })\n",
    "    .catch(e => console.log(e));\n",
    "0"
   ]
  },
  {
   "cell_type": "code",
   "execution_count": null,
   "metadata": {
    "collapsed": true
   },
   "outputs": [],
   "source": [
    "var exec = require('child_process').exec;\n",
    "child = exec('cd sosmethod && npm install -f');\n",
    "child.stderr.pipe(process.stderr);\n",
    "child.stdout.pipe(process.stdout);\n",
    "0"
   ]
  },
  {
   "cell_type": "markdown",
   "metadata": {},
   "source": [
    "### Finally ready to load our project"
   ]
  },
  {
   "cell_type": "code",
   "execution_count": null,
   "metadata": {
    "collapsed": true
   },
   "outputs": [],
   "source": [
    "process.env.HOME"
   ]
  },
  {
   "cell_type": "code",
   "execution_count": null,
   "metadata": {
    "collapsed": true,
    "scrolled": true
   },
   "outputs": [],
   "source": [
    "var exec = require('child_process').exec;\n",
    "child = exec('cd ./sosmethod && webpack ./config/webpack.prod.js --progress --profile --bail', function(err, stdout, stderr) {\n",
    "    // TODO: show output on command line\n",
    "});\n",
    "child.stderr.pipe(process.stderr);\n",
    "child.stdout.pipe(process.stdout);\n",
    "0\n"
   ]
  },
  {
   "cell_type": "code",
   "execution_count": null,
   "metadata": {
    "collapsed": true
   },
   "outputs": [],
   "source": [
    "const fs = require('fs');\n",
    "const js1 = fs.readFileSync('./sosmethod/dist/www/polyfills.59868df8094f160adda5.js');\n",
    "const js2 = fs.readFileSync('./sosmethod/dist/www/vendor.59868df8094f160adda5.js');\n",
    "const js3 = fs.readFileSync('./sosmethod/dist/www/app.59868df8094f160adda5.js');\n",
    "\n",
    "$$html$$ = '<bc-app style=\"position:relative;display:block;min-height:600px;min-width:600px;\">hello!</bc-app>' \n",
    "    + '<script type=\"application/javascript\">eval(atob(\"' + (new Buffer(js1)).toString('base64') + '\"));</script>'\n",
    "    + '<script type=\"application/javascript\">eval(atob(\"' + (new Buffer(js2)).toString('base64') + '\"));</script>'\n",
    "    + '<script type=\"application/javascript\">eval(atob(\"' + (new Buffer(js3)).toString('base64') + '\"));</script>';\n",
    "\n"
   ]
  },
  {
   "cell_type": "markdown",
   "metadata": {},
   "source": [
    "<h1>test</h1>"
   ]
  },
  {
   "cell_type": "code",
   "execution_count": 7,
   "metadata": {},
   "outputs": [
    {
     "data": {
      "text/plain": [
       "0"
      ]
     },
     "execution_count": 7,
     "metadata": {},
     "output_type": "execute_result"
    },
    {
     "name": "stdout",
     "output_type": "stream",
     "text": [
      "ts-loader: Using typescript@2.2.2 and /home/jovyan/src/tsconfig.json\n"
     ]
    },
    {
     "data": {
      "text/html": [
       "<image></image><script type=\"text/javascript\" src=\"/files/dev/www/polyfills.js\"></script><script type=\"text/javascript\" src=\"/files/dev/www/vendor.js\"></script><script type=\"text/javascript\" src=\"/files/dev/www/app.js\"></script>"
      ]
     },
     "execution_count": 7,
     "metadata": {},
     "output_type": "execute_result"
    }
   ],
   "source": [
    "var webpack = require('webpack');\n",
    "var config = require('../webpack.config.js');\n",
    "webpack(config, function(err, stats) {\n",
    "    // console.log(stats);\n",
    "    $$html$$ = '<image></image><script type=\"text/javascript\" src=\"/files/dev/www/polyfills.js\"></script><script type=\"text/javascript\" src=\"/files/dev/www/vendor.js\"></script><script type=\"text/javascript\" src=\"/files/dev/www/app.js\"></script>';\n",
    "});\n",
    "0"
   ]
  },
  {
   "cell_type": "code",
   "execution_count": null,
   "metadata": {
    "collapsed": true
   },
   "outputs": [],
   "source": [
    "%%babel\n",
    "new Something().doit()"
   ]
  },
  {
   "cell_type": "markdown",
   "metadata": {},
   "source": [
    "### Clojurescript!"
   ]
  },
  {
   "cell_type": "markdown",
   "metadata": {},
   "source": [
    "If you want faster load times, you can [run your own](https://github.com/fogus/himera) Himera server locally and use that url here."
   ]
  },
  {
   "cell_type": "code",
   "execution_count": null,
   "metadata": {
    "collapsed": true
   },
   "outputs": [],
   "source": [
    "%load_ext clojurescript http://himera-emh.herokuapp.com"
   ]
  },
  {
   "cell_type": "code",
   "execution_count": null,
   "metadata": {
    "collapsed": true
   },
   "outputs": [],
   "source": [
    "%%clojurescript\n",
    "(map #(+ % 23) [1 2 3])"
   ]
  }
 ],
 "metadata": {
  "celltoolbar": "Slideshow",
  "kernelspec": {
   "display_name": "Typescript 2.2",
   "language": "typescript",
   "name": "typescript"
  },
  "language_info": {
   "file_extension": ".ts",
   "mimetype": "text/x-typescript",
   "name": "typescript",
   "version": "2.2.2"
  }
 },
 "nbformat": 4,
 "nbformat_minor": 1
}
