{
  "cells": [
    {
      "cell_type": "markdown",
      "source": [
        "# How to use nodejs express?"
      ],
      "metadata": {}
    },
    {
      "cell_type": "code",
      "source": [
        "var exec = require('child_process').execSync;\n",
        "var sourceCmd = exec('npm install jsdom express request mime', {stdio: [0,1,2]});\n",
        "var express = require('express');  \n",
        "var mime = require('mime');\n",
        "var request = require('request');\n",
        "var JSDOM = require('jsdom').JSDOM;\n",
        "\n",
        "var output = path.join(process.cwd(), 'output');\n",
        "var port = process.env.PORT || 3000;"
      ],
      "outputs": [
        {
          "output_type": "error",
          "ename": "TypeError",
          "evalue": "Promise.promisifyAll is not a function",
          "traceback": [
            "TypeError: Promise.promisifyAll is not a function",
            "    at evalmachine.<anonymous>:5:23",
            "    at ContextifyScript.Script.runInThisContext (vm.js:25:33)",
            "    at Object.exports.runInThisContext (vm.js:77:17)",
            "    at run ([eval]:613:19)",
            "    at onRunRequest ([eval]:384:22)",
            "    at onMessage ([eval]:352:17)",
            "    at emitTwo (events.js:106:13)",
            "    at process.emit (events.js:191:7)",
            "    at process.nextTick (internal/child_process.js:744:12)",
            "    at _combinedTickCallback (internal/process/next_tick.js:67:7)"
          ]
        }
      ],
      "execution_count": 18,
      "metadata": {
        "collapsed": false,
        "outputHidden": false,
        "inputHidden": false
      }
    },
    {
      "cell_type": "markdown",
      "source": [
        "How to start a proxy and show an iframe?"
      ],
      "metadata": {}
    },
    {
      "cell_type": "code",
      "source": [
        "\n",
        "$$.proxy = function (host) {\n",
        "    var app = express();\n",
        "    app.use('/', function(req, res) {  \n",
        "        var url = host + req.url;\n",
        "        req.pipe(request(url)).pipe(res);\n",
        "    });\n",
        "\n",
        "    return app.listen();\n",
        "}\n"
      ],
      "outputs": [
        {
          "output_type": "execute_result",
          "execution_count": 12,
          "data": {
            "text/plain": [
              "[Function]"
            ]
          },
          "metadata": {}
        }
      ],
      "execution_count": 12,
      "metadata": {
        "collapsed": false,
        "outputHidden": false,
        "inputHidden": false
      }
    },
    {
      "cell_type": "markdown",
      "source": [
        "How to display the output from express?"
      ],
      "metadata": {}
    },
    {
      "cell_type": "code",
      "source": [
        "$$.outputProxy = function (host, port) {\n",
        "    return {'text/html' : '<iframe id=\"sosmethod\" name=\"sosmethod\" style=\"height:600px; width:100%; border:none;\" src=\"http://localhost:3000/\"></iframe>'};\n",
        "};"
      ],
      "outputs": [
        {
          "output_type": "execute_result",
          "execution_count": 13,
          "data": {
            "text/plain": [
              "[Function]"
            ]
          },
          "metadata": {}
        }
      ],
      "execution_count": 13,
      "metadata": {
        "collapsed": false,
        "outputHidden": false,
        "inputHidden": false
      }
    },
    {
      "cell_type": "markdown",
      "source": [
        "How to display a list of image elements in markdown?"
      ],
      "metadata": {}
    },
    {
      "cell_type": "code",
      "source": [
        "$$.outputImages = (images) => {\n",
        "    html = '';\n",
        "    htmlPrint = '';\n",
        "    images.forEach((i) => {\n",
        "        var filename = i.filename.split('/').pop();\n",
        "        var ext = mime.lookup(i.filename);\n",
        "        html += '<img src=\"data:' + ext + ';base64,' + (new Buffer(i.data, 'binary')).toString('base64') + '\" />';\n",
        "        htmlPrint += '<li><img src=\"/assets/' + filename + '\" /></li>\\n';\n",
        "    });\n",
        "    return {'text/markdown' : 'Usage:\\n\\n```html\\n' + htmlPrint + '\\n```\\nOuput:\\n' + html};\n",
        "};\n"
      ],
      "outputs": [
        {
          "output_type": "execute_result",
          "execution_count": 14,
          "data": {
            "text/plain": [
              "[Function]"
            ]
          },
          "metadata": {}
        }
      ],
      "execution_count": 14,
      "metadata": {
        "collapsed": false,
        "outputHidden": false,
        "inputHidden": false
      }
    },
    {
      "cell_type": "markdown",
      "source": [
        "How to save a list of image elements?\n",
        "\n",
        "$$.outputImages = (images\n",
        "images.map((i) => {"
      ],
      "metadata": {}
    },
    {
      "cell_type": "code",
      "source": [
        "$$.downloadImages = (images, output) => {\n",
        "    var requests = images.map((i) => {\n",
        "        var src = i.getAttribute('src');\n",
        "        var filename = src.split('/').pop();\n",
        "        return request(src, {encoding: 'binary'}).then(res => $$.saveFile({\n",
        "            filename: path.join(output, filename),\n",
        "            data: res.body\n",
        "        }));\n",
        "    });\n",
        "    return Promise.all(requests).then((images) => $$.outputImages(images));\n",
        "};\n",
        "\n"
      ],
      "outputs": [
        {
          "output_type": "execute_result",
          "execution_count": 15,
          "data": {
            "text/plain": [
              "[Function]"
            ]
          },
          "metadata": {}
        }
      ],
      "execution_count": 15,
      "metadata": {
        "collapsed": false,
        "outputHidden": false,
        "inputHidden": false
      }
    },
    {
      "cell_type": "markdown",
      "source": [
        "How to run a DOM query on a remote HTML page?"
      ],
      "metadata": {}
    },
    {
      "cell_type": "code",
      "source": [
        "$$.getDOM = (host, query) => request(host, (err, res, body) => \n",
        "    (new JSDOM(body)).window.document.querySelectorAll(query));\n"
      ],
      "outputs": [
        {
          "output_type": "execute_result",
          "execution_count": 16,
          "data": {
            "text/plain": [
              "[Function]"
            ]
          },
          "metadata": {}
        }
      ],
      "execution_count": 16,
      "metadata": {
        "collapsed": false,
        "outputHidden": false,
        "inputHidden": false
      }
    },
    {
      "cell_type": "markdown",
      "source": [
        "How to stop express server?"
      ],
      "metadata": {}
    },
    {
      "cell_type": "code",
      "source": [
        "$$.stopProxy = function (server) {\n",
        "    server.close();\n",
        "}"
      ],
      "outputs": [
        {
          "output_type": "execute_result",
          "execution_count": 17,
          "data": {
            "text/plain": [
              "[Function]"
            ]
          },
          "metadata": {}
        }
      ],
      "execution_count": 17,
      "metadata": {
        "collapsed": false,
        "outputHidden": false,
        "inputHidden": false
      }
    }
  ],
  "metadata": {
    "kernelspec": {
      "name": "node_nteract",
      "language": "javascript",
      "display_name": "Node.js (nteract)"
    },
    "kernel_info": {
      "name": "node_nteract"
    },
    "language_info": {
      "name": "javascript",
      "version": "6.5.0",
      "mimetype": "application/javascript",
      "file_extension": ".js"
    }
  },
  "nbformat": 4,
  "nbformat_minor": 4
}