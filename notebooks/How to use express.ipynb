{
  "cells": [
    {
      "cell_type": "markdown",
      "source": [
        "# How to use nodejs express?"
      ],
      "metadata": {}
    },
    {
      "cell_type": "code",
      "source": [
        "var exec = require('child_process').execSync;\n",
        "var sourceCmd = exec('npm install jsdom express request mime', {stdio: [0,1,2]});\n",
        "var express = require('express');  \n",
        "var mime = require('mime');\n",
        "var request = require('request');\n",
        "var JSDOM = require('jsdom').JSDOM;\n",
        "\n",
        "var output = path.join(process.cwd(), 'output');\n",
        "var port = process.env.PORT || 3000;\n",
        "var host = 'localhost';\n",
        "var query = '.w-gallery-list';\n"
      ],
      "outputs": [],
      "execution_count": 21,
      "metadata": {
        "collapsed": false,
        "outputHidden": false,
        "inputHidden": false
      }
    },
    {
      "cell_type": "markdown",
      "source": [
        "How to start a proxy using express?\n",
        "\n",
        "How to start a proxy on {port}?\n",
        "\n"
      ],
      "metadata": {}
    },
    {
      "cell_type": "code",
      "source": [
        "if (typeof server != 'undefined') {\n",
        "    server.close();\n",
        "}\n",
        "var app = express();\n",
        "app.use('/', function(req, res) {  \n",
        "    var url = host + req.url;\n",
        "    req.pipe(request(url)).pipe(res);\n",
        "});\n",
        "\n",
        "var server = app.listen(port);\n",
        "console.log('server running on port ' + port);\n"
      ],
      "outputs": [
        {
          "output_type": "stream",
          "name": "stdout",
          "text": [
            "server running on port 3000\n"
          ]
        },
        {
          "output_type": "stream",
          "name": "stderr",
          "text": [
            "Error: listen EADDRINUSE :::3000\n",
            "    at Object.exports._errnoException (util.js:1026:11)\n",
            "    at exports._exceptionWithHostPort (util.js:1049:20)\n",
            "    at Server._listen2 (net.js:1253:14)\n",
            "    at listen (net.js:1289:10)\n",
            "    at Server.listen (net.js:1385:5)\n",
            "    at EventEmitter.listen (/Users/briancullinan/jupytangular2/node_modules/express/lib/application.js:618:24)\n",
            "    at evalmachine.<anonymous>:7:5\n",
            "    at ContextifyScript.Script.runInThisContext (vm.js:25:33)\n",
            "    at Object.exports.runInThisContext (vm.js:77:17)\n",
            "    at run ([eval]:613:19)"
          ]
        }
      ],
      "execution_count": 24,
      "metadata": {
        "collapsed": false,
        "outputHidden": false,
        "inputHidden": false
      }
    },
    {
      "cell_type": "markdown",
      "source": [
        "How to display the output from express?\n",
        "\nHow to test express is working with HTML?"
      ],
      "metadata": {}
    },
    {
      "cell_type": "code",
      "source": [
        "$$.mime({'text/html' : `\n",
        "<iframe id=\"sosmethod\" name=\"sosmethod\" \n",
        "    style=\"height:600px; width:100%; border:none;\" \n",
        "    src=\"http://${host}:${port}/\"></iframe>`});"
      ],
      "outputs": [
        {
          "output_type": "execute_result",
          "execution_count": 23,
          "data": {
            "text/html": [
              "\n",
              "<iframe id=\"sosmethod\" name=\"sosmethod\" \n",
              "    style=\"height:600px; width:100%; border:none;\" \n",
              "    src=\"http://localhost:3000/\"></iframe>"
            ]
          },
          "metadata": {}
        }
      ],
      "execution_count": 23,
      "metadata": {
        "collapsed": false,
        "outputHidden": false,
        "inputHidden": false
      }
    },
    {
      "cell_type": "markdown",
      "source": [
        "How to run a DOM query on a remote HTML page?"
      ],
      "metadata": {}
    },
    {
      "cell_type": "code",
      "source": [
        "request(host, (err, res, body) => \n",
        "    (new JSDOM(body)).window.document.querySelectorAll(query));\n"
      ],
      "outputs": [
        {
          "output_type": "error",
          "ename": "ReferenceError",
          "evalue": "query is not defined",
          "traceback": [
            "ReferenceError: query is not defined",
            "    at Request.request [as _callback] (evalmachine.<anonymous>:2:56)",
            "    at self.callback (/Users/briancullinan/jupytangular2/node_modules/request/request.js:188:22)",
            "    at emitOne (events.js:96:13)",
            "    at Request.emit (events.js:188:7)",
            "    at Request.init (/Users/briancullinan/jupytangular2/node_modules/request/request.js:276:17)",
            "    at new Request (/Users/briancullinan/jupytangular2/node_modules/request/request.js:130:8)",
            "    at request (/Users/briancullinan/jupytangular2/node_modules/request/index.js:54:10)",
            "    at evalmachine.<anonymous>:1:1",
            "    at ContextifyScript.Script.runInThisContext (vm.js:25:33)",
            "    at Object.exports.runInThisContext (vm.js:77:17)"
          ]
        }
      ],
      "execution_count": 26,
      "metadata": {
        "collapsed": false,
        "outputHidden": false,
        "inputHidden": false
      }
    },
    {
      "cell_type": "markdown",
      "source": [
        "How to display a list of image elements in markdown?"
      ],
      "metadata": {}
    },
    {
      "cell_type": "code",
      "source": [
        "html = '';\n",
        "htmlPrint = '';\n",
        "images.forEach((i) => {\n",
        "    var filename = i.filename.split('/').pop();\n",
        "    var ext = mime.lookup(i.filename);\n",
        "    html += '<img src=\"data:' + ext + ';base64,' + (new Buffer(i.data, 'binary')).toString('base64') + '\" />';\n",
        "    htmlPrint += '<li><img src=\"/assets/' + filename + '\" /></li>\\n';\n",
        "});\n",
        "$$.mime({'text/markdown' : 'Usage:\\n\\n```html\\n' + htmlPrint + '\\n```\\nOutput:\\n' + html});\n"
      ],
      "outputs": [
        {
          "output_type": "error",
          "ename": "ReferenceError",
          "evalue": "images is not defined",
          "traceback": [
            "ReferenceError: images is not defined",
            "    at evalmachine.<anonymous>:3:1",
            "    at ContextifyScript.Script.runInThisContext (vm.js:25:33)",
            "    at Object.exports.runInThisContext (vm.js:77:17)",
            "    at run ([eval]:613:19)",
            "    at onRunRequest ([eval]:384:22)",
            "    at onMessage ([eval]:352:17)",
            "    at emitTwo (events.js:106:13)",
            "    at process.emit (events.js:191:7)",
            "    at process.nextTick (internal/child_process.js:744:12)",
            "    at _combinedTickCallback (internal/process/next_tick.js:67:7)"
          ]
        }
      ],
      "execution_count": 25,
      "metadata": {
        "collapsed": false,
        "outputHidden": false,
        "inputHidden": false
      }
    },
    {
      "cell_type": "markdown",
      "source": [
        "How to save a list of image elements?\n"
      ],
      "metadata": {}
    },
    {
      "cell_type": "code",
      "source": [
        "var requests = images.map((i) => {\n",
        "    var src = i.getAttribute('src');\n",
        "    var filename = src.split('/').pop();\n",
        "    return request(src, {encoding: 'binary'}).then(res => $$.saveFile({\n",
        "        filename: path.join(output, filename),\n",
        "        data: res.body\n",
        "    }));\n",
        "});\n",
        "return Promise.all(requests).then((images) => $$.outputImages(images));\n"
      ],
      "outputs": [
        {
          "output_type": "execute_result",
          "execution_count": 15,
          "data": {
            "text/plain": [
              "[Function]"
            ]
          },
          "metadata": {}
        }
      ],
      "execution_count": 15,
      "metadata": {
        "collapsed": false,
        "outputHidden": false,
        "inputHidden": false
      }
    },
    {
      "cell_type": "markdown",
      "source": [
        "How to stop express server?"
      ],
      "metadata": {}
    },
    {
      "cell_type": "code",
      "source": [
        "server.close();\n",
        "\n"
      ],
      "outputs": [
        {
          "output_type": "execute_result",
          "execution_count": 17,
          "data": {
            "text/plain": [
              "[Function]"
            ]
          },
          "metadata": {}
        }
      ],
      "execution_count": 17,
      "metadata": {
        "collapsed": false,
        "outputHidden": false,
        "inputHidden": false
      }
    }
  ],
  "metadata": {
    "kernelspec": {
      "name": "node_nteract",
      "language": "javascript",
      "display_name": "Node.js (nteract)"
    },
    "kernel_info": {
      "name": "node_nteract"
    },
    "language_info": {
      "name": "javascript",
      "version": "6.5.0",
      "mimetype": "application/javascript",
      "file_extension": ".js"
    }
  },
  "nbformat": 4,
  "nbformat_minor": 4
}