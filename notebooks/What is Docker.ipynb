{
  "cells": [
    {
      "cell_type": "markdown",
      "source": [
        "# What is Docker?\n",
        "\n",
        "Lets download and find out ;)\n",
        "\n",
        "## 1\n",
        "[Download Docker](https://download.docker.com/win/stable/InstallDocker.msi)\n",
        "and install then skip to step 3.\n"
      ],
      "metadata": {}
    },
    {
      "cell_type": "code",
      "source": [
        "$$async$$ = true;\n",
        "var http = require('https');\n",
        "var fs = require('fs');\n",
        "var downloads = http.get('https://download.docker.com/win/stable/InstallDocker.msi', (r) => {\n",
        "    r.pipe(fs.createWriteStream('InstallDocker.msi')).on('finish', () => {\n",
        "        http.get('https://github.com/jpassing/elevate/releases/download/1.0/elevate.zip', (r) => {\n",
        "            http.get(r.headers['location'], (r) => {\n",
        "                r.pipe(fs.createWriteStream('elevate.zip')).on('finish', () => {\n",
        "                    $$done$$('downloaded docker.msi, elevate.zip');\n",
        "                });\n",
        "            });\n",
        "        });\n",
        "    });\n",
        "});\n",
        "\n"
      ],
      "outputs": [],
      "execution_count": 12,
      "metadata": {
        "collapsed": false,
        "outputHidden": false,
        "inputHidden": false
      }
    },
    {
      "cell_type": "markdown",
      "source": [
        "## 2\n",
        "\nInstall Docker for Windows quietly"
      ],
      "metadata": {}
    },
    {
      "cell_type": "code",
      "source": [
        "$$async$$ = true;\n",
        "var exec = require('child_process').exec;\n",
        "var install = exec('powershell -c \"Expand-Archive -Force ' + process.cwd() + '\\\\elevate.zip\"', () => {\n",
        "    exec(process.cwd() + '\\\\elevate\\\\bin\\\\x86\\\\Release\\\\elevate.exe msiexec /i ' + process.cwd() + '\\\\InstallDocker.msi /qn /L*V! ' + process.cwd() + '\\\\log.txt', () => {\n",
        "        $$done$$('installed Docker');\n",
        "    }).stderr.on('data', (d) => console.log(d));\n",
        "}).stderr.on('data', (d) => console.log(d));\n"
      ],
      "outputs": [],
      "execution_count": 13,
      "metadata": {
        "collapsed": false,
        "outputHidden": false,
        "inputHidden": false
      }
    },
    {
      "cell_type": "markdown",
      "source": [
        "Create a Docker container with some dev tools:\n",
        "* selenium (xvfb, x11vnc, novnc, mocha)\n",
        "* source code (git, act.ecommerce, angular-cli)\n",
        "\nStart from the selenium-chrome-debug image"
      ],
      "metadata": {}
    },
    {
      "cell_type": "code",
      "source": [
        "\n",
        "FROM selenium/standalone-chrome-debug\n",
        "\n",
        "RUN apt-get -qq update\n",
        "RUN apt-get install -y --fix-missing git curl wget zip unzip vim dos2unix g++ build-essential python net-tools\n",
        "RUN wget -O - https://deb.nodesource.com/setup_7.x | bash\n",
        "RUN apt-get install -y nodejs\n",
        "\n",
        "RUN npm install -g live-server babel-cli\n",
        "\n",
        "ADD act.ecommerce /home/seluser/act.ecommerce\n",
        "ADD mobile /home/seluser/mobile\n",
        "ADD novnc /home/seluser/novnc\n",
        "\n",
        "WORKDIR /home/seluser/act.ecommerce\n",
        "RUN npm install\n",
        "RUN npm run build\n",
        "\n",
        "WORKDIR /home/seluser/mobile\n",
        "RUN npm install\n",
        "\n",
        "WORKDIR /home/seluser/\n",
        "ADD new_entry.sh /opt/bin/entry_point.sh\n",
        "RUN chmod a+x /opt/bin/entry_point.sh\n",
        "RUN dos2unix /opt/bin/entry_point.sh\n",
        "\n"
      ],
      "outputs": [],
      "execution_count": 14,
      "metadata": {
        "collapsed": false,
        "outputHidden": false,
        "inputHidden": false
      }
    },
    {
      "cell_type": "markdown",
      "source": [
        "Create a Docker file and project directory."
      ],
      "metadata": {}
    },
    {
      "cell_type": "code",
      "source": [
        "/* Your directory structure should look like this\n",
        "file -What is Docker.ipynb\n",
        "dir  -selenium-act\n",
        "file |--Dockerfile\n",
        "file |--new_entry.sh\n",
        "dir  |--act.ecommerce (from git)\n",
        "dir  |--mobile       (git repo in progress)\n",
        "dir  |--novnc        (https://github.com/novnc/noVNC/archive/master.zip)\n",
        "*/\n",
        "\n"
      ],
      "outputs": [],
      "execution_count": 15,
      "metadata": {
        "collapsed": false,
        "outputHidden": false,
        "inputHidden": false
      }
    },
    {
      "cell_type": "markdown",
      "source": [
        "## 3\n",
        "Build the Docker image"
      ],
      "metadata": {}
    },
    {
      "cell_type": "code",
      "source": [
        "$$async$$ = true;\n",
        "var exec = require('child_process').exec;\n",
        "exec('docker build -t act-selenium ./selenium-act', () => {\n",
        "    exec('docker images', () => $$done$$('built Docker container')).stdout.on('data', (d) => console.log(d));\n",
        "}).stdout.on('data', (d) => console.log(d));\n",
        "\n"
      ],
      "outputs": [],
      "execution_count": 16,
      "metadata": {
        "collapsed": false,
        "outputHidden": false,
        "inputHidden": false
      }
    },
    {
      "cell_type": "markdown",
      "source": [
        "## 4\n",
        "\nRun your Docker container"
      ],
      "metadata": {
        "collapsed": false,
        "outputHidden": false,
        "inputHidden": false
      }
    },
    {
      "cell_type": "code",
      "source": [
        "$$async$$ = true;\n",
        "var exec = require('child_process').exec;\n",
        "exec('docker stop act-selenium', () => \n",
        "exec('docker rm act-selenium', () => \n",
        "exec('docker run --shm-size=2g --name act-selenium -d -p 8888:8888 -p 6080:6080 -p 5900:5900 -p 4444:4444 -p 4200:4200 act-selenium', () => \n",
        "exec('docker ps', () => \n",
        "$$done$$('launched Docker container')\n",
        ").stdout.on('data', (d) => console.log(d))\n",
        ").stderr.on('data', (d) => console.log(d))\n",
        ").stdout.on('data', (d) => console.log(d))\n",
        ").stdout.on('data', (d) => console.log(d));\n",
        "\n"
      ],
      "outputs": [],
      "execution_count": 17,
      "metadata": {
        "collapsed": false,
        "outputHidden": false,
        "inputHidden": false
      }
    },
    {
      "cell_type": "markdown",
      "source": [
        "## 5\n",
        "\n",
        "Connect to VNC so we can see the test play out\n",
        "\n[Click here to open](http://localhost:6080/vnc.html?password=secret&host=localhost&port=6080&autoconnect=true&resize=downscale&view_only=true) in a separate browser"
      ],
      "metadata": {}
    },
    {
      "cell_type": "code",
      "source": [
        "// wait a few seconds for the container services to start\n",
        "$$async$$ = true;\n",
        "setTimeout(() => {\n",
        "$$.html(\n",
        "    '<div style=\"display:block; width:100%; padding-bottom:75%;position:relative;\">' +\n",
        "    '<iframe id=\"vnc\"' +\n",
        "        'style=\"position:absolute;top:0;right:0;bottom:0;left:0;width:100%;height:100%;border:0;\"' +\n",
        "        'src=\"http://localhost:6080/vnc.html?password=secret&host=localhost&port=6080&autoconnect=true&resize=downscale&view_only=true\"></iframe></div>');\n",
        "}, 3000);\n"
      ],
      "outputs": [],
      "execution_count": 20,
      "metadata": {
        "collapsed": false,
        "outputHidden": false,
        "inputHidden": false
      }
    },
    {
      "cell_type": "markdown",
      "source": [
        "## 6\n",
        "\nRun our first test by executing through docker"
      ],
      "metadata": {}
    },
    {
      "cell_type": "code",
      "source": [
        "$$.async = true;\n",
        "var exec = require('child_process').exec;\n",
        "var runTest = exec('docker exec -t act-selenium npm --prefix /home/seluser/mobile run test', () => \n",
        "                   $$done$$('test executed')\n",
        "                  ).stdout.on('data', (d) => console.log(d));\n"
      ],
      "outputs": [],
      "execution_count": 19,
      "metadata": {
        "collapsed": false,
        "outputHidden": false,
        "inputHidden": false
      }
    }
  ],
  "metadata": {
    "kernelspec": {
      "name": "node_nteract",
      "language": "javascript",
      "display_name": "Node.js (nteract)"
    },
    "kernel_info": {
      "name": "node_nteract"
    },
    "language_info": {
      "name": "javascript",
      "version": "6.5.0",
      "mimetype": "application/javascript",
      "file_extension": ".js"
    }
  },
  "nbformat": 4,
  "nbformat_minor": 4
}