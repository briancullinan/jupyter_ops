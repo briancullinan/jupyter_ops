{
  "cells": [
    {
      "cell_type": "markdown",
      "source": [
        "# What is Docker?\n",
        "\n",
        "Lets download and find out ;)\n",
        "\n",
        "## 1\n",
        "[Download Docker](https://download.docker.com/win/stable/InstallDocker.msi)\n",
        "and install then skip to step 2.\n"
      ],
      "metadata": {}
    },
    {
      "cell_type": "code",
      "source": [
        "$$async$$ = true;\n",
        "var path = require('path');\n",
        "var http = require('https');\n",
        "var fs = require('fs');\n",
        "var exec = require('child_process').exec;\n",
        "var elevateLoc = path.join(process.cwd(), 'selenium-act', 'elevate.zip');\n",
        "var expandedLoc = path.join(process.cwd(), 'selenium-act', 'elevate');\n",
        "var elevateExecLoc = path.join(process.cwd(), 'selenium-act', 'elevate', 'bin', 'x86', 'Release', 'elevate.exe');\n",
        "var dockerLoc = path.join(process.cwd(), 'selenium-act', 'InstallDocker.msi');\n",
        "var logLoc = path.join(process.cwd(), 'selenium-act', 'log.txt');\n",
        "console.log('checking if Docker is installed');\n",
        "var docker = exec('docker ps', function (err, stdout, stderr) {\n",
        "    //if (stdout.indexOf('not found') > -1) {\n",
        "        console.log('Docker not found, installing');\n",
        "        if (process.platform === 'win32') {\n",
        "            console.log('downloading Docker for Windows');\n",
        "            var downloads = http.get('https://download.docker.com/win/stable/InstallDocker.msi', (r) => {\n",
        "                r.pipe(fs.createWriteStream(dockerLoc)).on('finish', () => {\n",
        "                    console.log('downloading jpassing/elevate');\n",
        "                    http.get('https://github.com/jpassing/elevate/releases/download/1.0/elevate.zip', (r) => {\n",
        "                        http.get(r.headers['location'], (r) => {\n",
        "                            r.pipe(fs.createWriteStream(elevateLoc)).on('finish', () => {\n",
        "                                console.log('downloaded docker.msi, elevate.zip');\n",
        "                                console.log('extracting elevate.zip');\n",
        "                                var expand = exec('powershell -c \"Expand-Archive -Force ' + elevateLoc + ' ' + expandedLoc + '\"', () => {\n",
        "                                    console.log('running Docker install')\n",
        "                                    var install = exec(elevateExecLoc + ' powershell -c \"new-netfirewallrule -displayname \\\\\"docker engine\\\\\" -direction inbound -action allow -protocol tcp -LocalPort 2375; msiexec /i ' + dockerLoc + ' /qn /L*V! ' + logLoc + '\"', () => {\n",
        "                                        $$done$$('installed Docker');\n",
        "                                    });\n",
        "                                    install.stdout.on('data', (d) => console.log(d));\n",
        "                                    install.stderr.on('data', (d) => console.log(d));\n",
        "                                });\n",
        "                                expand.stdout.on('data', (d) => console.log(d));\n",
        "                                expand.stderr.on('data', (d) => console.log(d));\n",
        "                            });\n",
        "                        });\n",
        "                    });\n",
        "                });\n",
        "            });\n",
        "        }\n",
        "    //} else {\n",
        "    //    $$done$$('Docker is already installed');\n",
        "    //}\n",
        "});\n",
        "docker.stdout.on('data', (d) => console.log(d));\n",
        "docker.stderr.on('data', (d) => console.log(d));\n"
      ],
      "outputs": [],
      "execution_count": 12,
      "metadata": {
        "collapsed": false,
        "outputHidden": false,
        "inputHidden": false
      }
    },
    {
      "cell_type": "markdown",
      "source": [
        "Create a Docker container with some dev tools:\n",
        "* selenium (xvfb, x11vnc, novnc, mocha)\n",
        "* source code (git, act.ecommerce, angular-cli)\n",
        "\nStart from the selenium-chrome-debug image"
      ],
      "metadata": {}
    },
    {
      "cell_type": "code",
      "source": [
        "$$async$$ = true;\n",
        "var path = require('path');\n",
        "var dockerfilePath = path.join(process.cwd(), 'selenium-act', 'Dockerfile');\n",
        "\n",
        "var aptPart = `\n",
        "FROM selenium/standalone-chrome-debug\n",
        "\n",
        "RUN apt-get -qq update\n",
        "RUN apt-get install -y --fix-missing git curl wget zip unzip vim dos2unix g++ python net-tools make \n",
        "RUN wget -O - https://deb.nodesource.com/setup_7.x | bash\n",
        "RUN apt-get install -y nodejs\n",
        "RUN nodejs -v\n",
        "\n",
        "`;\n",
        "\n",
        "var nodePart = `\n",
        "\n",
        "ENV NODE_TLS_REJECT_UNAUTHORIZED 0\n",
        "RUN npm install -g live-server babel-cli concurrently node-gyp nativescript@latest\n",
        "\n",
        "COPY act.ecommerce /home/seluser/act.ecommerce\n",
        "COPY mobile /home/seluser/mobile\n",
        "ADD novnc /home/seluser/novnc\n",
        "\n",
        "WORKDIR /home/seluser/act.ecommerce\n",
        "RUN npm install\n",
        "RUN npm run build\n",
        "\n",
        "WORKDIR /home/seluser/mobile\n",
        "RUN npm install\n",
        "\n",
        "WORKDIR /home/seluser/\n",
        "# modify the entry_point from selenium-docker to run our extra services\n",
        "RUN dos2unix /home/seluser/novnc/utils/launch.sh\n",
        "RUN sed -i '/wait \\$NODE_PID/i/home/seluser/novnc/utils/launch.sh --vnc localhost:5900 &' /opt/bin/entry_point.sh\n",
        "RUN sed -i '/wait \\$NODE_PID/inpm --prefix /home/seluser/mobile run static &' /opt/bin/entry_point.sh\n",
        "\n",
        "EXPOSE 4200\n",
        "EXPOSE 4444\n",
        "EXPOSE 3000\n",
        "\n",
        "`;\n",
        "var output = aptPart + nodePart;\n",
        "var http = require('http');\n",
        "// check if there is a local-npm server running on Brian's machine\n",
        "http.get('http://SCO-100001269.ad.swiftpage.com:5080', (r) => {\n",
        "    if (r.statusCode === 200) {\n",
        "        console.log('local-npm found!');\n",
        "        output = aptPart + `\n",
        "RUN npm config set proxy http://sco-100001269.ad.swiftpage.com:8080\n",
        "RUN npm config set proxy http://sco-100001269.ad.swiftpage.com:8080\n",
        "RUN npm config set registry http://sco-100001269.ad.swiftpage.com:5080\n",
        "RUN npm config set strict-ssl false\n",
        "` + nodePart;\n",
        "    }\n",
        "    var fs = require('fs');\n",
        "    fs.writeFile(dockerfilePath, output, function () {\n",
        "        $$done$$('saved Dockerfile')\n",
        "    });\n",
        "});\n",
        "\n"
      ],
      "outputs": [],
      "execution_count": 2,
      "metadata": {
        "collapsed": false,
        "outputHidden": false,
        "inputHidden": false
      }
    },
    {
      "cell_type": "markdown",
      "source": [
        "## 2\n",
        "\nCreate a Docker file and project directory."
      ],
      "metadata": {}
    },
    {
      "cell_type": "code",
      "source": [
        "/* Your directory structure should look like this\n",
        "file -What is Docker.ipynb\n",
        "dir  -selenium-act\n",
        "file |--Dockerfile\n",
        "dir  |--act.ecommerce (from git)\n",
        "dir  |--mobile       (git repo in progress)\n",
        "dir  |--novnc        (https://github.com/novnc/noVNC/archive/master.zip)\n",
        "*/\n",
        "$$async$$ = true;\n",
        "var path = require('path');\n",
        "var seleniumPath = path.join(process.cwd(), 'selenium-act');\n",
        "var novncDir = path.join(seleniumPath, 'novnc');\n",
        "var actDir = path.join(seleniumPath, 'act.ecommerce');\n",
        "var seleniumTestDir = path.join(seleniumPath, 'selenium-tests');\n",
        "var githubActions = function () {\n",
        "    try {\n",
        "        fs.mkdirSync(seleniumPath);\n",
        "    } catch (err) {\n",
        "        if (err.code !== 'EEXIST') throw err;\n",
        "    }\n",
        "    var rimraf = require('rimraf');\n",
        "    rimraf(novncDir, function () {\n",
        "        var cloneCmd = exec('git clone https://github.com/novnc/noVNC.git ' + novncDir, () => {\n",
        "            rimraf(actDir, function () {\n",
        "                var cloneActCmd = exec('git clone -b Buy_funnel https://github.com/Swiftpage/act.ecommerce.git ' + actDir, () => {\n",
        "                    $$done$$('cloned act.ecommerce, selenium-tests, and novnc');\n",
        "                });\n",
        "                cloneActCmd.stdout.on('data', (d) => console.log(d));\n",
        "                cloneActCmd.stderr.on('data', (d) => console.log(d));\n",
        "            });\n",
        "        });\n",
        "        cloneCmd.stdout.on('data', (d) => console.log(d));\n",
        "        cloneCmd.stderr.on('data', (d) => console.log(d));\n",
        "    });\n",
        "};\n",
        "var exec = require('child_process').exec;\n",
        "try {\n",
        "    require.resolve(\"rimraf\");\n",
        "    githubActions();\n",
        "} catch(e) {\n",
        "    require.resolve(\"npm\");\n",
        "    var installCmd = exec('npm install -g rimraf', () => {\n",
        "        githubActions();\n",
        "    });\n",
        "    installCmd.stdout.on('data', (d) => console.log(d));\n",
        "    installCmd.stderr.on('data', (d) => console.log(d));\n",
        "}\n",
        "\n"
      ],
      "outputs": [],
      "execution_count": 3,
      "metadata": {
        "collapsed": false,
        "outputHidden": false,
        "inputHidden": false
      }
    },
    {
      "cell_type": "markdown",
      "source": [
        "## 3\n",
        "Build the Docker image"
      ],
      "metadata": {}
    },
    {
      "cell_type": "code",
      "source": [
        "$$async$$ = true;\n",
        "var exec = require('child_process').exec;\n",
        "var path = require('path');\n",
        "var seleniumPath = path.join(process.cwd(), 'selenium-act');\n",
        "var buildCmd = exec('docker build -t act-selenium ' + seleniumPath, () => {\n",
        "    var imagesCmd = exec('docker images', () => {\n",
        "        $$done$$('built Docker container')\n",
        "    });\n",
        "    imagesCmd.stdout.on('data', (d) => console.log(d));\n",
        "    imagesCmd.stderr.on('data', (d) => console.log(d));\n",
        "});\n",
        "buildCmd.stdout.on('data', (d) => console.log(d));\n",
        "buildCmd.stderr.on('data', (d) => console.log(d));\n",
        "\n"
      ],
      "outputs": [],
      "execution_count": 4,
      "metadata": {
        "collapsed": false,
        "outputHidden": false,
        "inputHidden": false
      }
    },
    {
      "cell_type": "markdown",
      "source": [
        "## 4\n",
        "\nRun your Docker container"
      ],
      "metadata": {
        "collapsed": false,
        "outputHidden": false,
        "inputHidden": false
      }
    },
    {
      "cell_type": "code",
      "source": [
        "$$async$$ = true;\n",
        "var exec = require('child_process').exec;\n",
        "console.log('stopping current Docker');\n",
        "var stopCmd = exec('docker stop act-selenium', () => {\n",
        "    console.log('remove current Docker');\n",
        "    var rmCmd = exec('docker rm act-selenium', () => {\n",
        "        console.log('running new Docker');\n",
        "        var runCmd = exec('docker run --shm-size=2g --name act-selenium -d -p 8888:8888 -p 6080:6080 -p 5900:5900 -p 4444:4444 -p 4200:4200 -p 3000:3000 act-selenium', () => {\n",
        "            console.log('checking new Docker is running');\n",
        "            var psCmd = exec('docker ps', () => {\n",
        "                $$done$$('launched Docker container');\n",
        "            });\n",
        "            psCmd.stdout.on('data', (d) => console.log(d));\n",
        "            psCmd.stderr.on('data', (d) => console.log(d));\n",
        "        });\n",
        "        runCmd.stdout.on('data', (d) => console.log(d));\n",
        "        runCmd.stderr.on('data', (d) => console.log(d));\n",
        "    });\n",
        "    rmCmd.stdout.on('data', (d) => console.log(d));\n",
        "    rmCmd.stderr.on('data', (d) => console.log(d));\n",
        "});\n",
        "stopCmd.stdout.on('data', (d) => console.log(d));\n",
        "stopCmd.stderr.on('data', (d) => console.log(d));\n",
        "\n"
      ],
      "outputs": [],
      "execution_count": 5,
      "metadata": {
        "collapsed": false,
        "outputHidden": false,
        "inputHidden": false
      }
    },
    {
      "cell_type": "markdown",
      "source": [
        "## 5\n",
        "\n",
        "Connect to VNC so we can see the test play out\n",
        "\n[Click here to open](http://localhost:6080/vnc.html?password=secret&host=localhost&port=6080&autoconnect=true&resize=downscale&view_only=true) in a separate browser"
      ],
      "metadata": {}
    },
    {
      "cell_type": "code",
      "source": [
        "// wait a few seconds for the container services to start\n",
        "$$async$$ = true;\n",
        "setTimeout(() => {\n",
        "$$.html(\n",
        "    '<div style=\"display:block; width:100%; padding-bottom:75%;position:relative;\">' +\n",
        "    '<iframe id=\"vnc\"' +\n",
        "        'style=\"position:absolute;top:0;right:0;bottom:0;left:0;width:100%;height:100%;border:0;\"' +\n",
        "        'src=\"http://localhost:6080/vnc.html?password=secret&host=localhost&port=6080&autoconnect=true&resize=downscale&view_only=true\"></iframe></div>');\n",
        "}, 6000);\n",
        "\n"
      ],
      "outputs": [],
      "execution_count": 8,
      "metadata": {
        "collapsed": false,
        "outputHidden": false,
        "inputHidden": false
      }
    },
    {
      "cell_type": "markdown",
      "source": [
        "## 6\n",
        "\nRun our first test by executing through docker"
      ],
      "metadata": {}
    },
    {
      "cell_type": "code",
      "source": [
        "$$async$$ = true;\n",
        "var exec = require('child_process').exec;\n",
        "console.log('running selenium tests');\n",
        "var runTest = exec('docker exec -t act-selenium npm --prefix /home/seluser/mobile run test', () => {\n",
        "    $$done$$('test executed');\n",
        "});\n",
        "runTest.stdout.on('data', (d) => console.log(d));\n",
        "runTest.stderr.on('data', (d) => console.log(d));\n",
        "\n"
      ],
      "outputs": [],
      "execution_count": 7,
      "metadata": {
        "collapsed": false,
        "outputHidden": false,
        "inputHidden": false
      }
    }
  ],
  "metadata": {
    "kernelspec": {
      "name": "node_nteract",
      "language": "javascript",
      "display_name": "Node.js (nteract)"
    },
    "kernel_info": {
      "name": "node_nteract"
    },
    "language_info": {
      "name": "javascript",
      "version": "6.5.0",
      "mimetype": "application/javascript",
      "file_extension": ".js"
    }
  },
  "nbformat": 4,
  "nbformat_minor": 4
}