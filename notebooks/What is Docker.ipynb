{
  "cells": [
    {
      "cell_type": "markdown",
      "source": [
        "# What is Docker?\n",
        "\n",
        "Lets download and find out ;)\n",
        "\n",
        "## 1\n",
        "[Download Docker](https://download.docker.com/win/stable/InstallDocker.msi)\n",
        "and install then skip to step 3.\n"
      ],
      "metadata": {}
    },
    {
      "cell_type": "code",
      "source": [
        "$$async$$ = true;\n",
        "var http = require('https');\n",
        "var fs = require('fs');\n",
        "var downloads = http.get('https://download.docker.com/win/stable/InstallDocker.msi', (r) => {\n",
        "    r.pipe(fs.createWriteStream('InstallDocker.msi')).on('finish', () => {\n",
        "        http.get('https://github.com/jpassing/elevate/releases/download/1.0/elevate.zip', (r) => {\n",
        "            http.get(r.headers['location'], (r) => {\n",
        "                r.pipe(fs.createWriteStream('elevate.zip')).on('finish', () => {\n",
        "                    $$done$$('downloaded docker.msi, elevate.zip');\n",
        "                });\n",
        "            });\n",
        "        });\n",
        "    });\n",
        "});\n",
        "\n"
      ],
      "outputs": [
        {
          "output_type": "execute_result",
          "execution_count": 21,
          "data": {
            "text/plain": [
              "'downloaded docker.msi, elevate.zip'"
            ]
          },
          "metadata": {}
        }
      ],
      "execution_count": 21,
      "metadata": {
        "collapsed": false,
        "outputHidden": false,
        "inputHidden": false
      }
    },
    {
      "cell_type": "markdown",
      "source": [
        "## 2\n",
        "\nInstall Docker for Windows quietly"
      ],
      "metadata": {}
    },
    {
      "cell_type": "code",
      "source": [
        "$$async$$ = true;\n",
        "var exec = require('child_process').exec;\n",
        "var install = exec('powershell -c \"Expand-Archive -Force ' + process.cwd() + '\\\\elevate.zip\"', () => {\n",
        "    exec(process.cwd() + '\\\\elevate\\\\bin\\\\x86\\\\Release\\\\elevate.exe msiexec /i ' + process.cwd() + '\\\\InstallDocker.msi /qn /L*V! ' + process.cwd() + '\\\\log.txt', () => {\n",
        "        $$done$$('installed Docker');\n",
        "    }).stderr.on('data', (d) => console.log(d));\n",
        "}).stderr.on('data', (d) => console.log(d));\n"
      ],
      "outputs": [
        {
          "output_type": "execute_result",
          "execution_count": 22,
          "data": {
            "text/plain": [
              "'installed Docker'"
            ]
          },
          "metadata": {}
        }
      ],
      "execution_count": 22,
      "metadata": {
        "collapsed": false,
        "outputHidden": false,
        "inputHidden": false
      }
    },
    {
      "cell_type": "markdown",
      "source": [
        "Create a Docker container with some dev tools:\n",
        "* selenium (xvfb, x11vnc, novnc, mocha)\n",
        "* source code (git, act.ecommerce, angular-cli)\n",
        "\nStart from the selenium-chrome-debug image"
      ],
      "metadata": {}
    },
    {
      "cell_type": "code",
      "source": [
        "$$async$$ = true;\n",
        "var o = `\n",
        "FROM selenium/standalone-chrome-debug\n",
        "\n",
        "RUN apt-get -qq update\n",
        "RUN apt-get install -y --fix-missing git curl wget zip unzip vim dos2unix g++ build-essential python net-tools\n",
        "RUN wget -O - https://deb.nodesource.com/setup_7.x | bash\n",
        "RUN apt-get install -y nodejs\n",
        "\n",
        "RUN npm install -g live-server babel-cli\n",
        "\n",
        "ADD act.ecommerce /home/seluser/act.ecommerce\n",
        "ADD mobile /home/seluser/mobile\n",
        "ADD novnc /home/seluser/novnc\n",
        "\n",
        "WORKDIR /home/seluser/act.ecommerce\n",
        "RUN npm install\n",
        "RUN npm run build\n",
        "\n",
        "WORKDIR /home/seluser/mobile\n",
        "RUN npm install\n",
        "\n",
        "WORKDIR /home/seluser/\n",
        "ADD new_entry.sh /opt/bin/entry_point.sh\n",
        "RUN chmod a+x /opt/bin/entry_point.sh\n",
        "RUN dos2unix /opt/bin/entry_point.sh\n",
        "\n",
        "EXPOSE 4200\n",
        "EXPOSE 4444\n",
        "\n",
        "`;\n",
        "var fs = require('fs');\n",
        "fs.writeFile(process.cwd() + '\\\\selenium-act\\\\Dockerfile', o, function () {\n",
        "    $$done$$('saved Dockerfile')\n",
        "});\n"
      ],
      "outputs": [
        {
          "output_type": "execute_result",
          "execution_count": 33,
          "data": {
            "text/plain": [
              "'saved Dockerfile'"
            ]
          },
          "metadata": {}
        }
      ],
      "execution_count": 33,
      "metadata": {
        "collapsed": false,
        "outputHidden": false,
        "inputHidden": false
      }
    },
    {
      "cell_type": "markdown",
      "source": [
        "Create a Docker file and project directory."
      ],
      "metadata": {}
    },
    {
      "cell_type": "code",
      "source": [
        "/* Your directory structure should look like this\n",
        "file -What is Docker.ipynb\n",
        "dir  -selenium-act\n",
        "file |--Dockerfile\n",
        "file |--new_entry.sh\n",
        "dir  |--act.ecommerce (from git)\n",
        "dir  |--mobile       (git repo in progress)\n",
        "dir  |--novnc        (https://github.com/novnc/noVNC/archive/master.zip)\n",
        "*/\n",
        "\n",
        "$$async$$ = true;\n",
        "var exec = require('child_process').exec;\n",
        "var rimraf = require('rimraf');\n",
        "var novncDir = process.cwd() + '\\\\selenium-act\\\\novnc';\n",
        "var actDir = process.cwd() + '\\\\selenium-act\\\\act.ecommerce';\n",
        "rimraf(novncDir, function () {\n",
        "    exec('git clone https://github.com/novnc/noVNC.git ' + novncDir, () => {\n",
        "        rimraf(actDir, function () {\n",
        "            exec('git clone -b Buy_funnel https://github.com/Swiftpage/act.ecommerce.git ' + actDir, () => {\n",
        "                $$done$$('cloned act.ecommerce, selenium-tests, and novnc');\n",
        "            }).stderr.on('data', (d) => console.log(d));\n",
        "        });\n",
        "    }).stderr.on('data', (d) => console.log(d));\n",
        "});\n"
      ],
      "outputs": [
        {
          "output_type": "stream",
          "name": "stdout",
          "text": [
            "Cloning into 'C:\\Users\\brian.cullinan\\Documents\\jupytangular2\\notebooks\\selenium-act\\novnc'...\n",
            "\n"
          ]
        },
        {
          "output_type": "execute_result",
          "execution_count": 4,
          "data": {
            "text/plain": [
              "'cloned act.ecommerce, selenium-tests, and novnc'"
            ]
          },
          "metadata": {}
        }
      ],
      "execution_count": 4,
      "metadata": {
        "collapsed": false,
        "outputHidden": false,
        "inputHidden": false
      }
    },
    {
      "cell_type": "markdown",
      "source": [
        "## 3\n",
        "Build the Docker image"
      ],
      "metadata": {}
    },
    {
      "cell_type": "code",
      "source": [
        "$$async$$ = true;\n",
        "var exec = require('child_process').exec;\n",
        "exec('docker build -t act-selenium ./selenium-act', () => {\n",
        "    exec('docker images', () => $$done$$('built Docker container')).stdout.on('data', (d) => console.log(d));\n",
        "}).stdout.on('data', (d) => console.log(d));\n",
        "\n"
      ],
      "outputs": [
        {
          "output_type": "stream",
          "name": "stdout",
          "text": [
            "Sending build context to Docker daemon 7.645 MB\r\r\n\n",
            "Step 1/20 : FROM selenium/standalone-chrome-debug\n",
            "\n",
            " ---> 870685c556e8\n",
            "Step 2/20 : RUN apt-get -qq update\n",
            "\n",
            " ---> Using cache\n",
            "\n",
            " ---> aef2262dcd46\n",
            "Step 3/20 : RUN apt-get install -y --fix-missing git curl wget zip unzip vim dos2unix g++ build-essential python net-tools\n",
            "\n",
            " ---> Using cache\n",
            "\n",
            " ---> 0b1711ea945a\n",
            "Step 4/20 : RUN wget -O - https://deb.nodesource.com/setup_7.x | bash\n",
            "\n",
            " ---> Using cache\n",
            "\n",
            " ---> f120f85b94a9\n",
            "Step 5/20 : RUN apt-get install -y nodejs\n",
            "\n",
            " ---> Using cache\n",
            "\n",
            " ---> 16f0e1355daf\n",
            "Step 6/20 : RUN npm install -g live-server babel-cli\n",
            "\n",
            " ---> Using cache\n",
            "\n",
            " ---> 32c0e91459ff\n",
            "Step 7/20 : ADD act.ecommerce /home/seluser/act.ecommerce\n",
            "\n",
            " ---> Using cache\n",
            " ---> 85d86677a982\n",
            "Step 8/20 : ADD mobile /home/seluser/mobile\n",
            "\n",
            " ---> Using cache\n",
            " ---> 3a4fd747cacc\n",
            "\n",
            "Step 9/20 : ADD novnc /home/seluser/novnc\n",
            "\n",
            " ---> Using cache\n",
            " ---> 35bb33ddcbbd\n",
            "Step 10/20 : WORKDIR /home/seluser/act.ecommerce\n",
            "\n",
            " ---> Using cache\n",
            " ---> ae8b2128e957\n",
            "Step 11/20 : RUN npm install\n",
            "\n",
            " ---> Using cache\n",
            " ---> f77f0e5212cc\n",
            "Step 12/20 : RUN npm run build\n",
            "\n",
            " ---> Using cache\n",
            " ---> f4abde4e81e8\n",
            "Step 13/20 : WORKDIR /home/seluser/mobile\n",
            "\n",
            " ---> Using cache\n",
            " ---> 8d7db124b951\n",
            "Step 14/20 : RUN npm install\n",
            " ---> Using cache\n",
            "\n",
            " ---> 7b26373a60cc\n",
            "Step 15/20 : WORKDIR /home/seluser/\n",
            " ---> Using cache\n",
            " ---> c3788e5e1299\n",
            "Step 16/20 : ADD new_entry.sh /opt/bin/entry_point.sh\n",
            "\n",
            " ---> Using cache\n",
            "\n",
            " ---> 1c3c2b8a839e\n",
            "\n",
            "Step 17/20 : RUN chmod a+x /opt/bin/entry_point.sh\n",
            "\n",
            " ---> Using cache\n",
            "\n",
            " ---> 8cc3abec3096\n",
            "Step 18/20 : RUN dos2unix /opt/bin/entry_point.sh\n",
            "\n",
            " ---> Using cache\n",
            " ---> f38ca75c0656\n",
            "Step 19/20 : EXPOSE 4200\n",
            "\n",
            " ---> Using cache\n",
            " ---> 66a301fe98c7\n",
            "Step 20/20 : EXPOSE 4444\n",
            "\n",
            " ---> Using cache\n",
            " ---> 4e8e601377b9\n",
            "\n",
            "Successfully built 4e8e601377b9\n",
            "\n",
            "REPOSITORY                         TAG                 IMAGE ID            CREATED             SIZE\n",
            "\n",
            "act-selenium                       latest              4e8e601377b9        About an hour ago   1.54 GB\n",
            "<none>                             <none>              35ac8e89095c        3 hours ago         1.54 GB\n",
            "<none>                             <none>              1f887ab7e17e        3 hours ago         1.54 GB\n",
            "<none>                             <none>              c4ef50c72be7        3 hours ago         1.54 GB\n",
            "<none>                             <none>              c5daa9c305ef        3 hours ago         1.54 GB\n",
            "<none>                             <none>              46603f447985        3 hours ago         1.54 GB\n",
            "<none>                             <none>              1c8346b6f5e8        3 hours ago         1.43 GB\n",
            "<none>                             <none>              27e8b714d7f2        3 hours ago         1.32 GB\n",
            "<none>                             <none>              a21047154bdd        3 hours ago         1.31 GB\n",
            "<none>                             <none>              cd5ba640930b        3 hours ago         1.31 GB\n",
            "<none>                             <none>              0f266daf6b2c        3 hours ago         1.31 GB\n",
            "<none>                             <none>              e95751c96c16        4 hours ago         1.31 GB\n",
            "<none>                             <none>              76b1dd5f4669        4 hours ago         992 MB\n",
            "jupytangular                       latest              921739c5426a        46 hours ago        2.52 GB\n",
            "<none>                             <none>              \n",
            "66ded0ada72b        46 hours ago        2.5 GB\n",
            "<none>                             <none>              d34f3af1fda6        46 hours ago        2.5 GB\n",
            "<none>                             <none>              ca4853c62255        47 hours ago        1.78 GB\n",
            "jupyter/base-notebook              latest              1fefbe25f01d        8 days ago          645 MB\n",
            "selenium/standalone-chrome-debug   latest              870685c556e8        5 weeks ago        \n",
            " 858 MB\n",
            "d4w/nsenter                        latest              9e4f13a0901e        8 months ago        83.8 kB\n",
            "\n"
          ]
        },
        {
          "output_type": "execute_result",
          "execution_count": 25,
          "data": {
            "text/plain": [
              "'built Docker container'"
            ]
          },
          "metadata": {}
        }
      ],
      "execution_count": 25,
      "metadata": {
        "collapsed": false,
        "outputHidden": false,
        "inputHidden": false
      }
    },
    {
      "cell_type": "markdown",
      "source": [
        "## 4\n",
        "\nRun your Docker container"
      ],
      "metadata": {
        "collapsed": false,
        "outputHidden": false,
        "inputHidden": false
      }
    },
    {
      "cell_type": "code",
      "source": [
        "$$async$$ = true;\n",
        "var exec = require('child_process').exec;\n",
        "exec('docker stop act-selenium', () => \n",
        "exec('docker rm act-selenium', () => \n",
        "exec('docker run --shm-size=2g --name act-selenium -d -p 8888:8888 -p 6080:6080 -p 5900:5900 -p 4444:4444 -p 4200:4200 act-selenium', () => \n",
        "exec('docker ps', () => \n",
        "$$done$$('launched Docker container')\n",
        ").stdout.on('data', (d) => console.log(d))\n",
        ").stderr.on('data', (d) => console.log(d))\n",
        ").stdout.on('data', (d) => console.log(d))\n",
        ").stdout.on('data', (d) => console.log(d));\n",
        "\n"
      ],
      "outputs": [
        {
          "output_type": "stream",
          "name": "stdout",
          "text": [
            "act-selenium\n",
            "\n",
            "act-selenium\n",
            "\n",
            "CONTAINER ID        IMAGE               COMMAND                  CREATED             STATUS                  PORTS                                                                                                                    NAMES\n",
            "67b60862bea3        act-selenium        \"/opt/bin/entry_po...\"   1 second ago        Up Less than a second   0.0.0.0:4200->4200/tcp, 0.0.0.0:4444->4444/tcp, 0.0.0.0:5900->5900/tcp, 0.0.0.0:6080->6080/tcp, 0.0.0.0:8888->8888/tcp   act-selenium\n",
            "\n"
          ]
        },
        {
          "output_type": "execute_result",
          "execution_count": 26,
          "data": {
            "text/plain": [
              "'launched Docker container'"
            ]
          },
          "metadata": {}
        }
      ],
      "execution_count": 26,
      "metadata": {
        "collapsed": false,
        "outputHidden": false,
        "inputHidden": false
      }
    },
    {
      "cell_type": "markdown",
      "source": [
        "## 5\n",
        "\n",
        "Connect to VNC so we can see the test play out\n",
        "\n[Click here to open](http://localhost:6080/vnc.html?password=secret&host=localhost&port=6080&autoconnect=true&resize=downscale&view_only=true) in a separate browser"
      ],
      "metadata": {}
    },
    {
      "cell_type": "code",
      "source": [
        "// wait a few seconds for the container services to start\n",
        "$$async$$ = true;\n",
        "setTimeout(() => {\n",
        "$$.html(\n",
        "    '<div style=\"display:block; width:100%; padding-bottom:75%;position:relative;\">' +\n",
        "    '<iframe id=\"vnc\"' +\n",
        "        'style=\"position:absolute;top:0;right:0;bottom:0;left:0;width:100%;height:100%;border:0;\"' +\n",
        "        'src=\"http://localhost:6080/vnc.html?password=secret&host=localhost&port=6080&autoconnect=true&resize=downscale&view_only=true\"></iframe></div>');\n",
        "}, 3000);\n"
      ],
      "outputs": [
        {
          "output_type": "execute_result",
          "execution_count": 27,
          "data": {
            "text/html": [
              "<div style=\"display:block; width:100%; padding-bottom:75%;position:relative;\"><iframe id=\"vnc\"style=\"position:absolute;top:0;right:0;bottom:0;left:0;width:100%;height:100%;border:0;\"src=\"http://localhost:6080/vnc.html?password=secret&host=localhost&port=6080&autoconnect=true&resize=downscale&view_only=true\"></iframe></div>"
            ]
          },
          "metadata": {}
        }
      ],
      "execution_count": 27,
      "metadata": {
        "collapsed": false,
        "outputHidden": false,
        "inputHidden": false
      }
    },
    {
      "cell_type": "markdown",
      "source": [
        "## 6\n",
        "\nRun our first test by executing through docker"
      ],
      "metadata": {}
    },
    {
      "cell_type": "code",
      "source": [
        "$$.async = true;\n",
        "var exec = require('child_process').exec;\n",
        "var runTest = exec('docker exec -t act-selenium npm --prefix /home/seluser/mobile run test', () => \n",
        "                   $$done$$('test executed')\n",
        "                  ).stdout.on('data', (d) => console.log(d));\n"
      ],
      "outputs": [
        {
          "output_type": "execute_result",
          "execution_count": 29,
          "data": {
            "text/plain": [
              "true"
            ]
          },
          "metadata": {}
        },
        {
          "output_type": "stream",
          "name": "stdout",
          "text": [
            "\r\n",
            "> @ test /home/seluser/mobile\r\n",
            "> wdio wdio.conf.js\r\n",
            "\r\n\n\r\n\n",
            "\u001b[1;30m[23:12:18] \u001b[0m \u001b[0;35mCOMMAND\t\u001b[0mPOST \t \"/wd/hub/session\"\r\n",
            "\n",
            "\u001b[1;30m[23:12:18] \u001b[0m \u001b[0;33mDATA\t\t\u001b[0m{\"desiredCapabilities\":{\"javascriptEnabled\":true,\"locationContextEnabled\":true,\"handlesAlerts\":true,\"rotatable\":true,\"maxInstances\":5,\"browserName\":\"chrome\",\"chromeOptions\":{\"args\":[\"no-sandbox\",\"start-fullscreen\"]},\"loggingPrefs\":{\"browser\":\"ALL\",\"driver\":\"ALL\"},\"requestOrigins\":{\"url\":\"http://webdriver.io\",\"version\":\"4.6.2\",\"name\":\"webdriverio\"}}}\r\n",
            "\n",
            "\u001b[1;30m[23:12:18] \u001b[0m \u001b[1;34mINFO\t\u001b[0mSET SESSION ID 041df020-297c-4505-be85-ab2a92ee7f13\r\n",
            "\n",
            "\u001b[1;30m[23:12:18] \u001b[0m \u001b[0;36mRESULT\t\t\u001b[0m{\"applicationCacheEnabled\":false,\"rotatable\":false,\"mobileEmulationEnabled\":false,\"networkConnectionEnabled\":true,\"chrome\":{\"chromedriverVersion\":\"2.29.461571 (8a88bbe0775e2a23afda0ceaf2ef7ee74e822cc5)\",\"userDataDir\":\"/tmp/.org.chromium.Chromium.y2B5CB\"},\"takesHeapSnapshot\":true,\"pageLoadStrategy\":\"normal\",\"databaseEnabled\":false,\"handlesAlerts\":true,\"hasTouchScreen\":true,\"version\":\"57.0.2987.133\",\"platform\":\"LINUX\",\"browserConnectionEnabled\":false,\"nativeEvents\":true,\"acceptSslCerts\":true,\"webdriver.remote.sessionid\":\"041df020-297c-4505-be85-ab2a92ee7f13\",\"locationContextEnabled\":true,\"webStorageEnabled\":true,\"browserName\":\"chrome\",\"takesScreenshot\":true,\"javascriptEnabled\":true,\"cssSelectorsEnabled\":true,\"unexpectedAlertBehaviour\":\"\"}\r\n",
            "\n",
            "\u001b[1;30m[23:12:18] \u001b[0m \u001b[0;35mCOMMAND\t\u001b[0mPOST \t \"/wd/hub/session/041df020-297c-4505-be85-ab2a92ee7f13/url\"\r\n",
            "\u001b[1;30m[23:12:18] \u001b[0m \u001b[0;33mDATA\t\t\u001b[0m{\"url\":\"localhost:4200\"}\r\n",
            "\n",
            "\u001b[1;30m[23:12:20] \u001b[0m \u001b[0;35mCOMMAND\t\u001b[0mPOST \t \"/wd/hub/session/041df020-297c-4505-be85-ab2a92ee7f13/element\"\r\n",
            "\u001b[1;30m[23:12:20] \u001b[0m \u001b[0;33mDATA\t\t\u001b[0m{\"using\":\"css selector\",\"value\":\"[href=\\\"/buy\\\"]\"}\r\n",
            "\n",
            "\u001b[1;30m[23:12:20] \u001b[0m \u001b[0;36mRESULT\t\t\u001b[0m{\"ELEMENT\":\"0\"}\r\n",
            "\n",
            "\u001b[1;30m[23:12:20] \u001b[0m \u001b[0;35mCOMMAND\t\u001b[0mPOST \t \"/wd/hub/session/041df020-297c-4505-be85-ab2a92ee7f13/element/0/click\"\r\n",
            "\u001b[1;30m[23:12:20] \u001b[0m \u001b[0;33mDATA\t\t\u001b[0m{}\r\n",
            "\n",
            "\u001b[1;30m[23:12:20] \u001b[0m \u001b[0;35mCOMMAND\t\u001b[0mPOST \t \"/wd/hub/session/041df020-297c-4505-be85-ab2a92ee7f13/element\"\r\n",
            "\u001b[1;30m[23:12:20] \u001b[0m \u001b[0;33mDATA\t\t\u001b[0m{\"using\":\"css selector\",\"value\":\"[href*=\\\"/buy/subscriptions/Act\\\"]\"}\r\n",
            "\n",
            "\u001b[1;30m[23:12:20] \u001b[0m \u001b[0;36mRESULT\t\t\u001b[0m{\"ELEMENT\":\"1\"}\r\n",
            "\u001b[1;30m[23:12:20] \u001b[0m \u001b[0;35mCOMMAND\t\u001b[0mPOST \t \"/wd/hub/session/041df020-297c-4505-be85-ab2a92ee7f13/element/1/click\"\r\n",
            "\u001b[1;30m[23:12:20] \u001b[0m \u001b[0;33mDATA\t\t\u001b[0m{}\r\n",
            "\n",
            "\u001b[1;30m[23:12:21] \u001b[0m \u001b[0;35mCOMMAND\t\u001b[0mPOST \t \"/wd/hub/session/041df020-297c-4505-be85-ab2a92ee7f13/element\"\r\n",
            "\u001b[1;30m[23:12:21] \u001b[0m \u001b[0;33mDATA\t\t\u001b[0m{\"using\":\"css selector\",\"value\":\"[href=\\\"/buy/billing\\\"]\"}\r\n",
            "\n",
            "\u001b[1;30m[23:12:21] \u001b[0m \u001b[0;36mRESULT\t\t\u001b[0m{\"ELEMENT\":\"2\"}\r\n",
            "\n",
            "\u001b[1;30m[23:12:21] \u001b[0m \u001b[0;35mCOMMAND\t\u001b[0mPOST \t \"/wd/hub/session/041df020-297c-4505-be85-ab2a92ee7f13/element/2/click\"\r\n",
            "\u001b[1;30m[23:12:21] \u001b[0m \u001b[0;33mDATA\t\t\u001b[0m{}\r\n",
            "\n",
            "\u001b[1;30m[23:12:21] \u001b[0m \u001b[0;35mCOMMAND\t\u001b[0mPOST \t \"/wd/hub/session/041df020-297c-4505-be85-ab2a92ee7f13/element\"\r\n",
            "\u001b[1;30m[23:12:21] \u001b[0m \u001b[0;33mDATA\t\t\u001b[0m{\"using\":\"css selector\",\"value\":\"[href=\\\"/buy/confirm\\\"]\"}\r\n",
            "\n",
            "\u001b[1;30m[23:12:21] \u001b[0m \u001b[0;36mRESULT\t\t\u001b[0m{\"ELEMENT\":\"3\"}\r\n",
            "\n",
            "\u001b[1;30m[23:12:21] \u001b[0m \u001b[0;35mCOMMAND\t\u001b[0mPOST \t \"/wd/hub/session/041df020-297c-4505-be85-ab2a92ee7f13/element/3/click\"\r\n",
            "\n",
            "\u001b[1;30m[23:12:21] \u001b[0m \u001b[0;33mDATA\t\t\u001b[0m{}\r\n",
            "\n",
            "\u001b[1;30m[23:12:21] \u001b[0m \u001b[0;35mCOMMAND\t\u001b[0mPOST \t \"/wd/hub/session/041df020-297c-4505-be85-ab2a92ee7f13/url\"\r\n",
            "\n",
            "\u001b[32m․\u001b[0m\n",
            "\u001b[1;30m[23:12:21] \u001b[0m \u001b[0;33mDATA\t\t\u001b[0m{\"url\":\"localhost:4200\"}\r\n",
            "\n",
            "\u001b[1;30m[23:12:22] \u001b[0m \u001b[0;35mCOMMAND\t\u001b[0mPOST \t \"/wd/hub/session/041df020-297c-4505-be85-ab2a92ee7f13/element\"\r\n",
            "\u001b[1;30m[23:12:22] \u001b[0m \u001b[0;33mDATA\t\t\u001b[0m{\"using\":\"css selector\",\"value\":\"[href*=\\\"/trial\\\"]\"}\r\n",
            "\n",
            "\u001b[1;30m[23:12:22] \u001b[0m \u001b[0;36mRESULT\t\t\u001b[0m{\"ELEMENT\":\"4\"}\r\n",
            "\n",
            "\u001b[1;30m[23:12:22] \u001b[0m \u001b[0;35mCOMMAND\t\u001b[0mPOST \t \"/wd/hub/session/041df020-297c-4505-be85-ab2a92ee7f13/element/4/click\"\r\n",
            "\n",
            "\u001b[1;30m[23:12:22] \u001b[0m \u001b[0;33mDATA\t\t\u001b[0m{}\r\n",
            "\n",
            "\u001b[1;30m[23:12:22] \u001b[0m \u001b[0;35mCOMMAND\t\u001b[0mPOST \t \"/wd/hub/session/041df020-297c-4505-be85-ab2a92ee7f13/elements\"\r\n",
            "\u001b[1;30m[23:12:22] \u001b[0m \u001b[0;33mDATA\t\t\u001b[0m{\"using\":\"css selector\",\"value\":\"[placeholder=\\\"First name\\\"]\"}\r\n",
            "\n",
            "\u001b[1;30m[23:12:24] \u001b[0m \u001b[0;36mRESULT\t\t\u001b[0m[{\"ELEMENT\":\"5\"}]\r\n",
            "\n",
            "\u001b[1;30m[23:12:24] \u001b[0m \u001b[0;35mCOMMAND\t\u001b[0mPOST \t \"/wd/hub/session/041df020-297c-4505-be85-ab2a92ee7f13/element/5/clear\"\r\n",
            "\u001b[1;30m[23:12:24] \u001b[0m \u001b[0;33mDATA\n",
            "\t\t\u001b[0m{}\r\n",
            "\n",
            "\u001b[1;30m[23:12:24] \u001b[0m \u001b[0;35mCOMMAND\n",
            "\t\u001b[0mPOST \t \"/wd/hub/session/041df020-297c-4505-be85-ab2a92ee7f13/element/5/value\"\r\n",
            "\n",
            "\u001b[1;30m[23:12:24] \u001b[0m \u001b[0;33mDATA\t\t\u001b[0m{\"value\":[\"B\",\"r\",\"i\",\"a\",\"n\"],\"text\":\"Brian\"}\r\n",
            "\n",
            "\u001b[1;30m[23:12:24] \u001b[0m \u001b[0;35mCOMMAND\t\u001b[0mPOST \t \"/wd/hub/session/041df020-297c-4505-be85-ab2a92ee7f13/elements\"\r\n",
            "\u001b[1;30m[23:12:24] \u001b[0m \u001b[0;33mDATA\t\t\u001b[0m{\"using\":\"css selector\",\"value\":\"[placeholder=\\\"Email\\\"]\"}\r\n",
            "\n",
            "\u001b[1;30m[23:12:24] \u001b[0m \u001b[0;36mRESULT\t\t\u001b[0m[{\"ELEMENT\":\"6\"}]\r\n",
            "\n",
            "\u001b[1;30m[23:12:24] \u001b[0m \u001b[0;35mCOMMAND\t\u001b[0mPOST \t \"/wd/hub/session/041df020-297c-4505-be85-ab2a92ee7f13/element/6/clear\"\r\n",
            "\n",
            "\u001b[1;30m[23:12:24] \u001b[0m \u001b[0;33mDATA\t\t\u001b[0m{}\r\n",
            "\n",
            "\u001b[1;30m[23:12:24] \u001b[0m \u001b[0;35mCOMMAND\n",
            "\t\u001b[0mPOST \t \"/wd/hub/session/041df020-297c-4505-be85-ab2a92ee7f13/element/6/value\"\r\n",
            "\n",
            "\u001b[1;30m[23:12:24] \u001b[0m \u001b[0;33mDATA\t\t\u001b[0m{\"value\":[\"m\",\"e\",\"g\",\"a\",\"m\",\"i\",\"n\",\"d\",\"b\",\"r\",\"(13 more items)\"],\"text\":\"megamindbrian@gmail.com\"}\r\n",
            "\n",
            "\u001b[1;30m[23:12:25] \u001b[0m \u001b[0;35mCOMMAND\t\u001b[0mPOST \t \"/wd/hub/session/041df020-297c-4505-be85-ab2a92ee7f13/element\"\r\n",
            "\u001b[1;30m[23:12:25] \u001b[0m \u001b[0;33mDATA\t\t\u001b[0m{\"using\":\"css selector\",\"value\":\".mat-card-actions button\"}\r\n",
            "\n",
            "\u001b[1;30m[23:12:25] \u001b[0m \u001b[0;36mRESULT\t\t\u001b[0m{\"ELEMENT\":\"7\"}\r\n",
            "\n",
            "\u001b[1;30m[23:12:25] \u001b[0m \u001b[0;35mCOMMAND\t\u001b[0mPOST \t \"/wd/hub/session/041df020-297c-4505-be85-ab2a92ee7f13/element/7/click\"\r\n",
            "\u001b[1;30m[23:12:25] \u001b[0m \u001b[0;33mDATA\t\t\u001b[0m{}\r\n",
            "\n",
            "\u001b[1;30m[23:12:25] \u001b[0m \u001b[0;35mCOMMAND\t\u001b[0mPOST \t \"/wd/hub/session/041df020-297c-4505-be85-ab2a92ee7f13/elements\"\r\n",
            "\u001b[1;30m[23:12:25] \u001b[0m \u001b[0;33mDATA\t\t\u001b[0m{\"using\":\"name\",\"value\":\"logoutForm\"}\r\n",
            "\n",
            "\u001b[1;30m[23:12:25] \u001b[0m \u001b[0;36mRESULT\t\t\u001b[0m[]\r\n",
            "\n",
            "\u001b[1;30m[23:12:25] \u001b[0m \u001b[0;35mCOMMAND\n",
            "\t\u001b[0mPOST \t \"/wd/hub/session/041df020-297c-4505-be85-ab2a92ee7f13/elements\"\r\n",
            "\u001b[1;30m[23:12:25] \u001b[0m \u001b[0;33mDATA\t\t\u001b[0m{\"using\":\"name\",\"value\":\"logoutForm\"}\r\n",
            "\n",
            "\u001b[1;30m[23:12:25] \u001b[0m \u001b[0;36mRESULT\t\t\u001b[0m[]\r\n",
            "\n",
            "\u001b[1;30m[23:12:26] \u001b[0m \u001b[0;35mCOMMAND\t\u001b[0mPOST \t \"/wd/hub/session/041df020-297c-4505-be85-ab2a92ee7f13/elements\"\r\n",
            "\u001b[1;30m[23:12:26] \u001b[0m \u001b[0;33mDATA\t\t\u001b[0m{\"using\":\"name\",\"value\":\"logoutForm\"}\r\n",
            "\n",
            "\u001b[1;30m[23:12:26] \u001b[0m \u001b[0;35mCOMMAND\t\u001b[0mGET \t \"/wd/hub/session/041df020-297c-4505-be85-ab2a92ee7f13/screenshot\"\r\n",
            "\u001b[1;30m[23:12:26] \u001b[0m \u001b[0;33mDATA\t\t\u001b[0m{}\r\n",
            "\n",
            "\u001b[1;30m[23:12:26] \u001b[0m \u001b[0;36mRESULT\t\t\u001b[0m\"iVBORw0KGgoAAAANSUhEUgAABVAAAAPVCAIAAAAPsVZOAAAgAElEQVR4nOzdd1wT9xsH8OeSS0LCliEOUMQNVqkDZxFXcVt3HbVVq9a9989VB1K3tY667bCKYrViXWhddeEeqCwnQ5CdnbvfH6cxsrVKED7vly9f4fLN3XOXu8s99x3HZGZmEgAAAAAAAAAUeXq9vuC ... (265918 more bytes)\r\n",
            "\n",
            "\u001b[1;30m[23:12:26] \u001b[0m \n",
            "\tSaved screenshot: ERROR_chrome_2017-05-24T23-12-26.359Z.png\r\n",
            "\n",
            "\u001b[31mF\u001b[0m\n",
            "\u001b[1;30m[23:12:26] \u001b[0m \u001b[0;36mRESULT\t\t\u001b[0m[]\r\n",
            "\n",
            "\u001b[1;30m[23:12:26] \u001b[0m \u001b[0;35mCOMMAND\t\u001b[0mDELETE \t \"/wd/hub/session/041df020-297c-4505-be85-ab2a92ee7f13\"\r\n",
            "\u001b[1;30m[23:12:26] \u001b[0m \u001b[0;33mDATA\t\t\u001b[0m{}\r\n",
            "\n\r\n\r\n\n",
            "\u001b[32m1 passing\u001b[0m\u001b[90m (9.20s)\u001b[0m\r\n",
            "\u001b[31m1 failing\u001b[0m\r\n",
            "\r\n\n",
            "\u001b[0m1) webdriver.io page should register for a trial:\r\n",
            "\u001b[0m\u001b[31melement (\"[name='logoutForm']\") still not existing after 1000ms\u001b[0m\u001b[93m\r\n",
            "running chrome\u001b[0m\u001b[90m\r\n",
            "Error: element (\"[name='logoutForm']\") still not existing after 1000ms\r\n",
            "    at elements(\"[name='logoutForm']\") - isExisting.js:46:17\r\n",
            "    at isExisting(\"[name='logoutForm']\") - waitForExist.js:67:22\r\n",
            "\u001b[0m\r\n",
            "\r\n\r\n\n\r\n\n",
            "\u001b[37;40mnpm\u001b[0m \u001b[0m\u001b[31;40mERR!\u001b[0m\u001b[35m\u001b[0m Linux 4.9.27-moby\r\n",
            "\u001b[0m\n",
            "\u001b[37;40mnpm\u001b[0m \u001b[0m\u001b[31;40mERR!\u001b[0m\n",
            " \u001b[0m\u001b[35margv\u001b[0m \"/usr/bin/nodejs\" \"/usr/bin/npm\" \"--prefix\" \"/home/seluser/mobile\" \"run\" \"test\"\r\n",
            "\u001b[0m\u001b[37;40mnpm\u001b[0m \u001b[0m\u001b[31;40mERR!\u001b[0m \u001b[0m\n",
            "\u001b[35mnode\u001b[0m v7.10.0\r\n",
            "\u001b[0m\u001b[37;40mnpm\u001b[0m \u001b[0m\n",
            "\u001b[31;40mERR!\u001b[0m \u001b[0m\u001b[35mnpm \u001b[0m\n",
            " v4.2.0\r\n",
            "\u001b[0m\u001b[37;40mnpm\u001b[0m\n",
            " \u001b[0m\u001b[31;40mERR!\u001b[0m \u001b[0m\n",
            "\u001b[35mcode\u001b[0m ELIFECYCLE\r\n",
            "\u001b[0m\n",
            "\u001b[37;40mnpm\u001b[0m \u001b[0m\n",
            "\u001b[31;40mERR!\u001b[0m\n",
            " \u001b[0m\u001b[35merrno\u001b[0m 1\r\n",
            "\u001b[0m\u001b[37;40mnpm\u001b[0m \u001b[0m\u001b[31;40mERR!\u001b[0m\u001b[35m\u001b[0m @ test: `wdio wdio.conf.js`\r\n",
            "\u001b[0m\u001b[37;40mnpm\u001b[0m \u001b[0m\u001b[31;40mERR!\u001b[0m\u001b[35m\u001b[0m Exit status 1\r\n",
            "\u001b[0m\u001b[37;40mnpm\u001b[0m\n",
            " \u001b[0m\u001b[31;40mERR!\u001b[0m\n",
            "\u001b[35m\u001b[0m \r\n",
            "\u001b[0m\n",
            "\u001b[37;40mnpm\u001b[0m \u001b[0m\n",
            "\u001b[31;40mERR!\u001b[0m\u001b[35m\u001b[0m\n",
            " Failed at the @ test script 'wdio wdio.conf.js'.\r\n",
            "\u001b[0m\u001b[37;40mnpm\u001b[0m \u001b[0m\n",
            "\u001b[31;40mERR!\u001b[0m\u001b[35m\u001b[0m Make sure you have the latest version of node.js and npm installed.\r\n",
            "\u001b[0m\n",
            "\u001b[37;40mnpm\u001b[0m \u001b[0m\n",
            "\u001b[31;40mERR!\u001b[0m\u001b[35m\u001b[0m If you do, this is most likely a problem with the  package,\n",
            "\r\n",
            "\u001b[0m\u001b[37;40mnpm\u001b[0m \u001b[0m\u001b[31;40mERR!\u001b[0m\u001b[35m\u001b[0m\n",
            " not with npm itself.\r\n",
            "\u001b[0m\u001b[37;40mnpm\u001b[0m \u001b[0m\n",
            "\u001b[31;40mERR!\u001b[0m\u001b[35m\u001b[0m Tell the author that this fails on your system:\r\n",
            "\u001b[0m\u001b[37;40mnpm\u001b[0m \u001b[0m\u001b[31;40mERR!\u001b[0m\u001b[35m\u001b[0m     wdio wdio.conf.js\r\n",
            "\u001b[0m\u001b[37;40mnpm\u001b[0m \u001b[0m\u001b[31;40mERR!\u001b[0m\u001b[35m\u001b[0m You can get information on how to open an issue for this project with:\r\n",
            "\u001b[0m\u001b[37;40mnpm\u001b[0m \u001b[0m\u001b[31;40mERR!\u001b[0m\u001b[35m\u001b[0m     npm bugs \r\n",
            "\u001b[0m\u001b[37;40mnpm\u001b[0m \u001b[0m\u001b[31;40mERR!\u001b[0m\u001b[35m\u001b[0m\n",
            " Or if that isn't available, you can get their info via:\r\n",
            "\u001b[0m\u001b[37;40mnpm\u001b[0m \u001b[0m\u001b[31;40mERR!\u001b[0m\u001b[35m\u001b[0m     npm owner ls \r\n",
            "\u001b[0m\u001b[37;40mnpm\u001b[0m \u001b[0m\u001b[31;40mERR!\u001b[0m\u001b[35m\u001b[0m There is likely additional logging output above.\r\n",
            "\u001b[0m\n",
            "\r\n\n",
            "\u001b[37;40mnpm\u001b[0m \u001b[0m\n",
            "\u001b[31;40mERR!\u001b[0m\u001b[35m\u001b[0m\n",
            " Please include the following file with any support request:\r\n",
            "\u001b[0m\n",
            "\u001b[37;40mnpm\u001b[0m \u001b[0m\n",
            "\u001b[31;40mERR!\u001b[0m\u001b[35m\u001b[0m\n",
            "     /root/.npm/_logs/2017-05-24T23_12_26_757Z-debug.log\n",
            "\r\n",
            "\u001b[0m\n"
          ]
        },
        {
          "output_type": "execute_result",
          "execution_count": 29,
          "data": {
            "text/plain": [
              "'test executed'"
            ]
          },
          "metadata": {}
        }
      ],
      "execution_count": 29,
      "metadata": {
        "collapsed": false,
        "outputHidden": false,
        "inputHidden": false
      }
    }
  ],
  "metadata": {
    "kernelspec": {
      "name": "node_nteract",
      "language": "javascript",
      "display_name": "Node.js (nteract)"
    },
    "kernel_info": {
      "name": "node_nteract"
    },
    "language_info": {
      "name": "javascript",
      "version": "6.5.0",
      "mimetype": "application/javascript",
      "file_extension": ".js"
    }
  },
  "nbformat": 4,
  "nbformat_minor": 4
}