{
  "cells": [
    {
      "cell_type": "markdown",
      "source": [
        "# What is Docker?\n",
        "\n",
        "Lets download and find out ;)\n",
        "\n",
        "[Download Docker](https://download.docker.com/win/stable/InstallDocker.msi)\n",
        "\n"
      ],
      "metadata": {}
    },
    {
      "cell_type": "code",
      "source": [
        "(require('https')).get(\"https://download.docker.com/win/stable/InstallDocker.msi\", (r) => r.pipe((require('fs')).createWriteStream(\"InstallDocker.msi\")))\n",
        "(require('https')).get('https://github.com/jpassing/elevate/releases/download/1.0/elevate.zip', (r) => \n",
        "    (require('https')).get(r.headers['location'], (r) => r.pipe((require('fs')).createWriteStream(\"elevate.zip\")))\n",
        ")\n",
        "0\n"
      ],
      "outputs": [],
      "execution_count": 99,
      "metadata": {
        "collapsed": false,
        "outputHidden": false,
        "inputHidden": false
      }
    },
    {
      "cell_type": "markdown",
      "source": [
        "Install Docker for Windows quietly"
      ],
      "metadata": {}
    },
    {
      "cell_type": "code",
      "source": [
        "$$async$$ = true;\n",
        "(require('child_process').exec)('powershell -c \"Expand-Archive -Force ' + process.cwd() + '\\\\elevate.zip\"', () => \n",
        "(require('child_process').exec)(process.cwd() + '\\\\elevate\\\\bin\\\\x86\\\\Release\\\\elevate.exe msiexec /i ' + process.cwd() + '\\\\InstallDocker.msi /qn /L*V! ' + process.cwd() + '\\\\log.txt', () => \n",
        "$$done$$('done')\n",
        ").stderr.on('data', (d) => console.log(d))\n",
        ").stderr.on('data', (d) => console.log(d))\n",
        "0"
      ],
      "outputs": [],
      "execution_count": 106,
      "metadata": {
        "collapsed": false,
        "outputHidden": false,
        "inputHidden": false
      }
    },
    {
      "cell_type": "markdown",
      "source": [
        "Create a Docker container with some dev tools:\n",
        "* selenium (xvfb, x11vnc, novnc, mocha)\n",
        "* source code (git, act.ecommerce, angular-cli)\n",
        "\nStart from the selenium-chrome-debug image"
      ],
      "metadata": {}
    },
    {
      "cell_type": "code",
      "source": [
        "FROM selenium/standalone-chrome-debug\n",
        "\n",
        "RUN apt-get -qq update\n",
        "RUN apt-get install -y --fix-missing git curl wget zip unzip vim dos2unix g++ build-essential python net-tools\n",
        "RUN wget -O - https://deb.nodesource.com/setup_7.x | bash\n",
        "RUN apt-get install -y nodejs\n",
        "\n",
        "RUN npm install -g live-server babel-cli\n",
        "\n",
        "ADD act.ecommerce /home/seluser/act.ecommerce\n",
        "ADD mobile /home/seluser/mobile\n",
        "ADD novnc /home/seluser/novnc\n",
        "\n",
        "WORKDIR /home/seluser/act.ecommerce\n",
        "RUN npm install\n",
        "RUN npm run build\n",
        "\n",
        "WORKDIR /home/seluser/mobile\n",
        "RUN npm install\n",
        "\n",
        "WORKDIR /home/seluser/\n",
        "ADD new_entry.sh /opt/bin/entry_point.sh\n",
        "RUN chmod a+x /opt/bin/entry_point.sh\n",
        "RUN dos2unix /opt/bin/entry_point.sh\n",
        "\n"
      ],
      "outputs": [],
      "execution_count": 55,
      "metadata": {
        "collapsed": false,
        "outputHidden": false,
        "inputHidden": false
      }
    },
    {
      "cell_type": "markdown",
      "source": [
        "Create a Docker file and project directory."
      ],
      "metadata": {}
    },
    {
      "cell_type": "code",
      "source": [
        "/* Your directory structure should look like this\n",
        "file -What is Docker.ipynb\n",
        "dir  -selenium-act\n",
        "file |--Dockerfile\n",
        "file |--new_entry.sh\n",
        "dir  |--act.ecommerce (from git)\n",
        "dir  |--mobile       (git repo in progress)\n",
        "dir  |--novnc        (https://github.com/novnc/noVNC/archive/master.zip)\n",
        "*/\n",
        "\n"
      ],
      "outputs": [],
      "execution_count": 23,
      "metadata": {
        "collapsed": false,
        "outputHidden": false,
        "inputHidden": false
      }
    },
    {
      "cell_type": "markdown",
      "source": [
        "Build the Docker image"
      ],
      "metadata": {}
    },
    {
      "cell_type": "code",
      "source": [
        "$$async$$ = true;\n",
        "(require('child_process').exec)('docker build -t act-selenium ./selenium-act', () => (require('child_process').exec)('docker images', () => $$.done()).stdout.on('data', (d) => console.log(d))).stdout.on('data', (d) => console.log(d));\n",
        "\n"
      ],
      "outputs": [],
      "execution_count": 78,
      "metadata": {
        "collapsed": false,
        "outputHidden": false,
        "inputHidden": false
      }
    },
    {
      "cell_type": "markdown",
      "source": [
        "Run your Docker container"
      ],
      "metadata": {
        "collapsed": false,
        "outputHidden": false,
        "inputHidden": false
      }
    },
    {
      "cell_type": "code",
      "source": [
        "$$async$$ = true;\n",
        "(require('child_process').exec)('docker stop act-selenium', () => \n",
        "(require('child_process').exec)('docker rm act-selenium', () => \n",
        "(require('child_process').exec)('docker run --shm-size=2g --name act-selenium -d -p 8888:8888 -p 6080:6080 -p 5900:5900 -p 4444:4444 -p 4200:4200 act-selenium', () => \n",
        "(require('child_process').exec)('docker ps', () => \n",
        "$$.done()\n",
        ").stdout.on('data', (d) => console.log(d))\n",
        ").stderr.on('data', (d) => console.log(d))\n",
        ").stdout.on('data', (d) => console.log(d))\n",
        ").stdout.on('data', (d) => console.log(d));\n",
        "\n"
      ],
      "outputs": [],
      "execution_count": 82,
      "metadata": {
        "collapsed": false,
        "outputHidden": false,
        "inputHidden": false
      }
    },
    {
      "cell_type": "markdown",
      "source": [
        "Connect to VNC so we can see the test play out\n",
        "\n[Click here to open](http://localhost:6080/vnc.html?password=secret&host=localhost&port=6080&autoconnect=true&resize=downscale&view_only=true)"
      ],
      "metadata": {}
    },
    {
      "cell_type": "code",
      "source": [
        "$$.html(\n",
        "    '<div style=\"display:block; width:100%; padding-bottom:75%;position:relative;\">' +\n",
        "    '<iframe id=\"vnc\"' +\n",
        "        'style=\"position:absolute;top:0;right:0;bottom:0;left:0;width:100%;height:100%;border:0;\"' +\n",
        "        'src=\"http://localhost:6080/vnc.html?password=secret&host=localhost&port=6080&autoconnect=true&resize=downscale&view_only=true\"></iframe></div>');"
      ],
      "outputs": [],
      "execution_count": 83,
      "metadata": {
        "collapsed": false,
        "outputHidden": false,
        "inputHidden": false
      }
    },
    {
      "cell_type": "markdown",
      "source": [
        "Run our first test by executing through docker"
      ],
      "metadata": {}
    },
    {
      "cell_type": "code",
      "source": [
        "$$.async = true;\n",
        "(require('child_process').exec)('docker exec -t act-selenium npm --prefix /home/seluser/mobile run test', () => $$.done()).stdout.on('data', (d) => console.log(d));\n",
        "0"
      ],
      "outputs": [],
      "execution_count": 84,
      "metadata": {
        "collapsed": false,
        "outputHidden": false,
        "inputHidden": false
      }
    }
  ],
  "metadata": {
    "kernelspec": {
      "name": "node_nteract",
      "language": "javascript",
      "display_name": "Node.js (nteract)"
    },
    "kernel_info": {
      "name": "node_nteract"
    },
    "language_info": {
      "name": "javascript",
      "version": "6.5.0",
      "mimetype": "application/javascript",
      "file_extension": ".js"
    }
  },
  "nbformat": 4,
  "nbformat_minor": 4
}