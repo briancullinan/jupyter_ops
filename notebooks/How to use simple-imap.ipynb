{
  "cells": [
    {
      "cell_type": "markdown",
      "source": [
        "# How to use nodejs simple-imap?\n",
        "\n",
        "How to log in to Gmail using imap-simple/node IMAP?\n",
        "\n",
        "How to temporarily allow less secure apps?\n",
        "\n",
        "https://myaccount.google.com/lesssecureapps\n",
        "\n",
        "TODO: convert to selenium/sikuli script\n",
        "\n"
      ],
      "metadata": {}
    },
    {
      "cell_type": "code",
      "source": [
        "var fs = require('fs');\n",
        "var path = require('path');\n",
        "var exec = require('child_process').execSync;\n",
        "var sourceCmd = exec('npm install dotenv imap-simple mime', {stdio: [0,1,2]});\n",
        "\n",
        "var dotenv = require('dotenv').parse;\n",
        "var imaps = require('imap-simple');\n",
        "var mime = require('mime');\n",
        "\n",
        "var output = path.join(process.cwd(), 'output');\n",
        "var credentials = path.join(process.cwd(), 'google_credentials.txt');\n"
      ],
      "outputs": [],
      "execution_count": 15,
      "metadata": {
        "collapsed": false,
        "outputHidden": false,
        "inputHidden": false
      }
    },
    {
      "cell_type": "markdown",
      "source": [
        "How to connect to Gmail using simple-imap?\n",
        "\n",
        "How do I connect using simple-imap and {credentials}?\n",
        "\n"
      ],
      "metadata": {}
    },
    {
      "cell_type": "code",
      "source": [
        "$$.imapLogin = (credentials) => {\n",
        "    var env = dotenv({path: credentials});\n",
        "    var config = {\n",
        "        imap: {\n",
        "            user: env.GOOGLE_USER,\n",
        "            password: env.GOOGLE_PASS,\n",
        "            host: 'imap.gmail.com',\n",
        "            port: 993,\n",
        "            tls: true,\n",
        "            autotls: 'required',\n",
        "            authTimeout: 3000\n",
        "        }\n",
        "    };\n",
        "    return imaps.connect(config).then((conn) => {\n",
        "        return conn.openBox('INBOX');\n",
        "    });\n",
        "};"
      ],
      "outputs": [
        {
          "output_type": "execute_result",
          "execution_count": 16,
          "data": {
            "text/plain": [
              "[Function]"
            ]
          },
          "metadata": {}
        }
      ],
      "execution_count": 16,
      "metadata": {
        "collapsed": false,
        "outputHidden": false,
        "inputHidden": false
      }
    },
    {
      "cell_type": "markdown",
      "source": [
        "How to extract a list of image attachments from an email?\n",
        "\n",
        "How do I extract attachments from {message}?\n"
      ],
      "metadata": {}
    },
    {
      "cell_type": "code",
      "source": [
        "// Fetch emails from the last 24h \n",
        "$$.imapAttachments = (message) => imaps.getParts(message.attributes.struct)\n",
        "    .filter((part) => part.disposition && part.disposition.type === 'ATTACHMENT')\n",
        "    // retrieve the attachments only of the messages with attachments \n",
        "    .map((part) => connection.getPartData(message, part).then((partData) => ({\n",
        "        filename: part.disposition.params.filename,\n",
        "        data: partData\n",
        "    })));\n",
        "\n"
      ],
      "outputs": [
        {
          "output_type": "execute_result",
          "execution_count": 22,
          "data": {
            "text/plain": [
              "[Function]"
            ]
          },
          "metadata": {}
        }
      ],
      "execution_count": 22,
      "metadata": {
        "collapsed": false,
        "outputHidden": false,
        "inputHidden": false
      }
    },
    {
      "cell_type": "markdown",
      "source": [
        "How to search for messages using simple-imap?\n",
        "\n",
        "How to search for messages in the last few {days}?\n",
        "\n",
        "How to search for messages {from} an email address?\n"
      ],
      "metadata": {}
    },
    {
      "cell_type": "code",
      "source": [
        "$$.imapSearch = (from, days) => {\n",
        "    var delay = 24 * 3600 * 1000 * days;\n",
        "    var lastWeek = new Date();\n",
        "    lastWeek.setTime(Date.now() - delay);\n",
        "    lastWeek = lastWeek.toISOString();\n",
        "    var searchCriteria = ['SEEN', ['SINCE', lastWeek], ['FROM', from]];\n",
        "    var fetchOptions = { bodies: ['HEADER.FIELDS (FROM TO SUBJECT DATE)'], struct: true };\n",
        "    return connection.search(searchCriteria, fetchOptions)\n",
        "        .flatMap(message => getAttachments(message));\n",
        "};\n",
        "\n"
      ],
      "outputs": [
        {
          "output_type": "execute_result",
          "execution_count": 18,
          "data": {
            "text/plain": [
              "[Function]"
            ]
          },
          "metadata": {}
        }
      ],
      "execution_count": 18,
      "metadata": {
        "collapsed": false,
        "outputHidden": false,
        "inputHidden": false
      }
    },
    {
      "cell_type": "markdown",
      "source": [
        "How to get attachments using simple-imap?\n",
        "\n",
        "How to get attachements from the last few {days}?\n",
        "\n",
        "How to get messages {from} and email address?\n",
        "\n"
      ],
      "metadata": {}
    },
    {
      "cell_type": "code",
      "source": [
        "$$.imapAttachments = (from, days) => {\n",
        "    return searchImap(searchCriteria, fetchOptions).then(function (messages) {\n",
        "        var attachments = messages.map((m) => $$.imapAttachments(m));\n",
        "        return Promise.all(attachments);\n",
        "    });\n",
        "};"
      ],
      "outputs": [
        {
          "output_type": "execute_result",
          "execution_count": 19,
          "data": {
            "text/plain": [
              "[Function]"
            ]
          },
          "metadata": {}
        }
      ],
      "execution_count": 19,
      "metadata": {
        "collapsed": false,
        "outputHidden": false,
        "inputHidden": false
      }
    },
    {
      "cell_type": "markdown",
      "source": [
        "How to save an attachment from simple-imap?\n",
        "\n",
        "How to save a {file}?\n",
        "\n",
        "How to save binary {data}?\n",
        "\n"
      ],
      "metadata": {
        "collapsed": false,
        "outputHidden": false,
        "inputHidden": false
      }
    },
    {
      "cell_type": "code",
      "source": [
        "// TODO: convert the attachments to a virtual filesystem, lay it on top of the current app, run end-to-end tests\n",
        "$$.saveFile = (f) => {\n",
        "    return new Promise(function(resolve, reject) {\n",
        "        fs.writeFile(f.filename, f.data, 'binary', function(err) {\n",
        "            if (err) reject(err);\n",
        "            else resolve(data);\n",
        "        }).then(() => f);\n",
        "    });\n",
        "};\n",
        "\n\n"
      ],
      "outputs": [
        {
          "output_type": "execute_result",
          "execution_count": 20,
          "data": {
            "text/plain": [
              "[Function]"
            ]
          },
          "metadata": {}
        }
      ],
      "execution_count": 20,
      "metadata": {
        "collapsed": false,
        "outputHidden": false,
        "inputHidden": false
      }
    },
    {
      "cell_type": "markdown",
      "source": [
        "How to output all attachments in the requested format?"
      ],
      "metadata": {}
    },
    {
      "cell_type": "code",
      "source": [
        "$$.outputAttachments = (attachments, output) => {\n",
        "    if (!fs.existsSync(output)) {\n",
        "        fs.mkdirSync(output);\n",
        "    }\n",
        "    var result = attachments.map((a) => $$.saveFile({\n",
        "        filename: path.join(output, a.filename),\n",
        "        data: a.data\n",
        "    }));\n",
        "    return Promise.all(result).then(images => $$.outputImages(images));\n",
        "};\n",
        "\n"
      ],
      "outputs": [
        {
          "output_type": "execute_result",
          "execution_count": 21,
          "data": {
            "text/plain": [
              "[Function]"
            ]
          },
          "metadata": {}
        }
      ],
      "execution_count": 21,
      "metadata": {
        "collapsed": false,
        "outputHidden": false,
        "inputHidden": false
      }
    }
  ],
  "metadata": {
    "kernelspec": {
      "name": "node_nteract",
      "language": "javascript",
      "display_name": "Node.js (nteract)"
    },
    "kernel_info": {
      "name": "node_nteract"
    },
    "language_info": {
      "name": "javascript",
      "version": "6.5.0",
      "mimetype": "application/javascript",
      "file_extension": ".js"
    }
  },
  "nbformat": 4,
  "nbformat_minor": 4
}