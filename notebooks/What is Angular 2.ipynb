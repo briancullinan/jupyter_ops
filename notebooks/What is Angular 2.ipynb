{
 "cells": [
  {
   "cell_type": "markdown",
   "metadata": {
    "slideshow": {
     "slide_type": "slide"
    }
   },
   "source": [
    "# What is Angular 2?\n",
    "\n",
    "We will cover a few topics to help explain the benefits of Angular 2:\n",
    "1. Architecture\n",
    "2. Resilience\n",
    "3. Material Design\n",
    "4. Benefits\n",
    "\n"
   ]
  },
  {
   "cell_type": "markdown",
   "metadata": {
    "slideshow": {
     "slide_type": "fragment"
    }
   },
   "source": [
    "\n",
    "### Navigate left and right for the high level topics listed above\n",
    "## &larr;    &rarr;\n",
    "\n",
    "\n",
    "### Navigate down for more information on the current topic\n",
    "## &darr;\n",
    "\n"
   ]
  },
  {
   "cell_type": "markdown",
   "metadata": {
    "slideshow": {
     "slide_type": "subslide"
    }
   },
   "source": [
    "## Architecture\n",
    "\n",
    "How has Angular changed the architecture of software design?\n",
    "\n",
    "\"Serverless UX\".  Angular forces the architect to separate the visual \"client\" experience from the server \"back-end\".\n",
    "\n",
    "This allows the two piece, client and backend, to be designed and implemented simultaneously.\n",
    "\n",
    "This means the projects can be kept separate but still be organized well and allow the developers to work on smaller pieces at a time.\n"
   ]
  },
  {
   "cell_type": "markdown",
   "metadata": {
    "slideshow": {
     "slide_type": "subslide"
    }
   },
   "source": [
    "## Resilience\n",
    "\n",
    "Resilience is how long in to the future will the software base be supported or continue working properly with little maintainence.\n",
    "\n",
    "Resilience is a problem that plagues all software.  A Windows upgrade could happen in the background and introduce some breaking change that makes the app unusable.\n",
    "\n",
    "Angular 2 has made this a very important priority by building a passionate community with a solid foundation of automated testing for it's underlying core components.\n",
    "\n",
    "Microsoft and Google are both heavy investors in Angular 2 and Material Design.\n",
    "\n"
   ]
  },
  {
   "cell_type": "markdown",
   "metadata": {
    "slideshow": {
     "slide_type": "subslide"
    }
   },
   "source": [
    "## Material Design\n",
    "\n",
    "Material Design was created by Google.  It is a basic set of UI priciples that they have developed and tested to be easy to use across all platforms.\n",
    "\n",
    "E.g.: \n",
    "* The focus of the content should be presented near the top of the page.  \n",
    "* Any action items from the content should be highlighted so the user can see it easily.  \n",
    "* Navigation should be consistent across all pages.  \n",
    "* Content should look attractive and be fun to interact with.\n",
    "\n",
    "https://material.io/guidelines/material-design/introduction.html\n",
    "\n"
   ]
  },
  {
   "cell_type": "markdown",
   "metadata": {
    "slideshow": {
     "slide_type": "subslide"
    }
   },
   "source": [
    "## Benefits\n",
    "\n",
    "By now we start to see the benefits of using Angular 2:\n",
    "\n",
    "* The architecture separates what users see and what the service does behind the scenes.\n",
    "* It's supported by large tech companies with a devoted work force with vested interest in the platform's success.\n",
    "* It makes it easy to focus on design.\n",
    "* It is easier for other developers to pick up and learn.\n",
    "\n",
    "\n"
   ]
  },
  {
   "cell_type": "markdown",
   "metadata": {
    "slideshow": {
     "slide_type": "slide"
    }
   },
   "source": [
    "# Architecture\n",
    "\n",
    "Angular 2 has a few key components that make the architecture an excellent choice for building web applications.\n",
    "\n",
    "1. CLI - Compile your app just like MSBuild\n",
    "2. Core - All the main functionality you need\n",
    "3. RxJs - Highly reactive pages that respond to every interaction\n",
    "3. Material - Components for good design\n",
    "4. Router - Navigate to different pages without reloading the entire page\n",
    "5. LESS / SASS - Design easily with variables and functions\n",
    "6. Webpack / Lint - Minimize load times and help coders conform to good coding styles\n",
    "\n"
   ]
  },
  {
   "cell_type": "markdown",
   "metadata": {
    "slideshow": {
     "slide_type": "subslide"
    }
   },
   "source": [
    "## Angular 2 CLI\n",
    "\n",
    "Angular makes it easy to start a server to compile and run your code.\n",
    "\n"
   ]
  },
  {
   "cell_type": "code",
   "execution_count": null,
   "metadata": {
    "collapsed": true,
    "slideshow": {
     "slide_type": "fragment"
    }
   },
   "outputs": [],
   "source": [
    "%%bash\n",
    "\n",
    "ng start"
   ]
  },
  {
   "cell_type": "code",
   "execution_count": null,
   "metadata": {
    "collapsed": true,
    "slideshow": {
     "slide_type": "fragment"
    }
   },
   "outputs": [],
   "source": [
    "%%bash\n",
    "\n",
    "webpack-dev-server --inline --progress --port 9090\n"
   ]
  },
  {
   "cell_type": "markdown",
   "metadata": {
    "slideshow": {
     "slide_type": "fragment"
    }
   },
   "source": [
    "https://github.com/Swiftpage/act.ecommerce/blob/Buy_funnel/angular-cli.json\n",
    "\n"
   ]
  },
  {
   "cell_type": "markdown",
   "metadata": {
    "slideshow": {
     "slide_type": "subslide"
    }
   },
   "source": [
    "## Core\n",
    "\n",
    "Create components, separate them in to modules, respond to lifecycle events.\n",
    "\n"
   ]
  },
  {
   "cell_type": "markdown",
   "metadata": {
    "slideshow": {
     "slide_type": "subslide"
    }
   },
   "source": [
    "## RxJs\n",
    "\n",
    "Developed by Microsoft using principles from MVVM.\n",
    "\n",
    "RxJs is used to respond to events.  Whenever something is clicked on and part of the page changes to acknowledge the click, RxJs is being used to respond to clicks in an organized way.\n",
    "\n",
    "RxJs allows many things on the page to change based on clicks without making the page freeze from too much processing.\n",
    "\n",
    "http://reactivex.io/\n",
    "\n"
   ]
  },
  {
   "cell_type": "markdown",
   "metadata": {
    "slideshow": {
     "slide_type": "subslide"
    }
   },
   "source": [
    "## Material\n",
    "\n",
    "Material are components for Angular 2 that are cross-platform, easy to use, and look great.\n",
    "\n",
    "https://material.angular.io/components\n",
    "\n"
   ]
  },
  {
   "cell_type": "code",
   "execution_count": 6,
   "metadata": {
    "slideshow": {
     "slide_type": "fragment"
    }
   },
   "outputs": [
    {
     "data": {
      "image/jpeg": "[encoded data removed]"
     },
     "execution_count": 6,
     "metadata": {},
     "output_type": "execute_result"
    }
   ],
   "source": [
    "$TS.screen('https://material.angular.io/components/category/forms', {\"javascript-delay\": 2000, \"height\": 600});"
   ]
  },
  {
   "cell_type": "markdown",
   "metadata": {
    "slideshow": {
     "slide_type": "subslide"
    }
   },
   "source": [
    "## Router\n",
    "\n",
    "The router is what controls the address bar at the top.  It allows the content to change without refreshing the entire page.  It also controls what content appears when you click on a link.\n",
    "\n",
    "The Hashtag can be configured using the code below:\n"
   ]
  },
  {
   "cell_type": "code",
   "execution_count": null,
   "metadata": {
    "collapsed": true,
    "slideshow": {
     "slide_type": "fragment"
    }
   },
   "outputs": [],
   "source": [
    " export const routing = RouterModule.forRoot(routes, { useHash: false });\n",
    " \n",
    " "
   ]
  },
  {
   "cell_type": "markdown",
   "metadata": {
    "slideshow": {
     "slide_type": "subslide"
    }
   },
   "source": [
    "## LESS / SASS\n",
    "\n",
    "http://lesscss.org/\n",
    "\n",
    "Less allows you to do what the name implies.  Write less styling code by giving your CSS context with variable names and functions.\n",
    "\n",
    "Take the following for example:\n"
   ]
  },
  {
   "cell_type": "code",
   "execution_count": null,
   "metadata": {
    "collapsed": true,
    "slideshow": {
     "slide_type": "fragment"
    }
   },
   "outputs": [],
   "source": [
    "%%css\n",
    "\n",
    "a {\n",
    "    color: #fe5000;\n",
    "}\n",
    "\n",
    "@primary: #fe5000;\n",
    "\n",
    "a {\n",
    "    color: @primary;\n",
    "}\n",
    "\n"
   ]
  },
  {
   "cell_type": "markdown",
   "metadata": {
    "slideshow": {
     "slide_type": "subslide"
    }
   },
   "source": [
    "## Webpack\n",
    "\n",
    "Webpack keeps web-apps small by removing variable names and whitespace from the final code output.  This helps the browser parse the javascript faster and run more efficiently.\n",
    "\n",
    "Webpack also removes unused code paths.  So large libraries aren't loaded in the browser if they are not used.\n",
    "\n"
   ]
  },
  {
   "cell_type": "markdown",
   "metadata": {
    "slideshow": {
     "slide_type": "subslide"
    }
   },
   "source": [
    "## Lint\n",
    "\n",
    "Lint helps developers conform to readable coding practices by removing unused variables, providing syntax suggestions, finding mistakes in logic.\n",
    "\n"
   ]
  },
  {
   "cell_type": "markdown",
   "metadata": {
    "slideshow": {
     "slide_type": "slide"
    }
   },
   "source": [
    "# Resilience\n",
    "\n",
    "Developer tools\n",
    "Leading edge\n",
    "Community\n",
    "Future proofing\n",
    "\n"
   ]
  },
  {
   "cell_type": "markdown",
   "metadata": {
    "slideshow": {
     "slide_type": "subslide"
    }
   },
   "source": []
  },
  {
   "cell_type": "markdown",
   "metadata": {
    "slideshow": {
     "slide_type": "subslide"
    }
   },
   "source": []
  },
  {
   "cell_type": "markdown",
   "metadata": {
    "slideshow": {
     "slide_type": "subslide"
    }
   },
   "source": []
  },
  {
   "cell_type": "markdown",
   "metadata": {
    "slideshow": {
     "slide_type": "subslide"
    }
   },
   "source": []
  },
  {
   "cell_type": "markdown",
   "metadata": {
    "slideshow": {
     "slide_type": "slide"
    }
   },
   "source": [
    "# Material Design\n",
    "\n",
    "\n"
   ]
  },
  {
   "cell_type": "markdown",
   "metadata": {
    "slideshow": {
     "slide_type": "subslide"
    }
   },
   "source": []
  },
  {
   "cell_type": "markdown",
   "metadata": {
    "slideshow": {
     "slide_type": "subslide"
    }
   },
   "source": []
  },
  {
   "cell_type": "markdown",
   "metadata": {
    "slideshow": {
     "slide_type": "subslide"
    }
   },
   "source": []
  },
  {
   "cell_type": "markdown",
   "metadata": {
    "slideshow": {
     "slide_type": "subslide"
    }
   },
   "source": []
  },
  {
   "cell_type": "markdown",
   "metadata": {
    "slideshow": {
     "slide_type": "slide"
    }
   },
   "source": [
    "# Benefits\n",
    "\n",
    "\n"
   ]
  },
  {
   "cell_type": "markdown",
   "metadata": {
    "slideshow": {
     "slide_type": "subslide"
    }
   },
   "source": []
  },
  {
   "cell_type": "markdown",
   "metadata": {
    "slideshow": {
     "slide_type": "subslide"
    }
   },
   "source": []
  },
  {
   "cell_type": "markdown",
   "metadata": {
    "slideshow": {
     "slide_type": "subslide"
    }
   },
   "source": []
  },
  {
   "cell_type": "markdown",
   "metadata": {
    "slideshow": {
     "slide_type": "subslide"
    }
   },
   "source": []
  },
  {
   "cell_type": "markdown",
   "metadata": {
    "slideshow": {
     "slide_type": "subslide"
    }
   },
   "source": []
  }
 ],
 "metadata": {
  "celltoolbar": "Slideshow",
  "kernelspec": {
   "display_name": "Typescript 2.3",
   "language": "typescript",
   "name": "typescript"
  },
  "language_info": {
   "file_extension": ".ts",
   "mimetype": "text/x-typescript",
   "name": "typescript",
   "version": "2.3.1"
  }
 },
 "nbformat": 4,
 "nbformat_minor": 2
}
