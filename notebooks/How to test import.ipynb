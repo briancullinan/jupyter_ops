{
  "cells": [
    {
      "cell_type": "code",
      "source": [
        "var reqs = ['fs', 'path', ];\n",
        "var fs = require('fs');\n",
        "var path = require('path');\n",
        "if (typeof importNotebook == 'undefined') {\n",
        "    // Does this work everywhere?\n",
        "    try {\n",
        "        var m, co = '', vm = require('vm');\n",
        "        var source = fs.readFileSync('How to find answers.ipynb').toString();\n",
        "        var re = new RegExp('\\\\s*\"cell_type\": \"code\",\\\\s*\"source\":\\\\s*\\\\[\\\\s*([\\\\s\\\\S]*?\\\\$\\\\$.done[\\\\s\\\\S]*?)\\\\s*\\\\]\\\\s*,\\s*', 'ig');\n",
        "        while (m = re.exec(source)) { co += (co == '' ? '' : ',\\n' ) + m[1] + ',\"\\\\n\"'; }\n",
        "        co = '\\n\\$$ = get$$();\\n\\n' + JSON.parse('['+co+']').join('') + '\\n\\n;';\n",
        "        global.getGlobal = () => global;\n",
        "        global.get$$ = () => {\n",
        "            var temp$$ = Object.assign({}, global.$$);\n",
        "            return Object.assign(temp$$, {\n",
        "                async: () => {},\n",
        "                done: (done) => {}\n",
        "            });\n",
        "        };\n",
        "        var tmpGlobal = Object.assign({}, global);\n",
        "        var context = vm.createContext(tmpGlobal);\n",
        "        (new vm.Script(co)).runInContext(context);\n",
        "        $$.async();\n",
        "        tmpGlobal.imports.then((done) => {\n",
        "            Object.assign(global, tmpGlobal.commandRegistry);\n",
        "            $$.done(done);\n",
        "        });\n",
        "    } catch (e) {\n",
        "        $$.done(e);\n",
        "    }\n",
        "}\n",
        "\n$$.done('interpreter is ready');"
      ],
      "outputs": [
        {
          "output_type": "stream",
          "name": "stdout",
          "text": [
            "Sucessfully ran a script in it's own context!\n"
          ]
        },
        {
          "output_type": "execute_result",
          "execution_count": 1,
          "data": {
            "text/plain": [
              "'interpreter is ready'"
            ]
          },
          "metadata": {}
        },
        {
          "output_type": "stream",
          "name": "stdout",
          "text": [
            "started notebook How to find answers.ipynb with 9 cells\n",
            "Sucessfully ran a script in it's own context!\n",
            "Already imported How to find answers.ipynb\n",
            "undefined\n",
            "found function How to find answers.ipynb[1]\n",
            "found function How to find answers.ipynb[2]\n",
            "found function How to find answers.ipynb[3]\n",
            "found function How to find answers.ipynb[4]\n",
            "{ 'How to find answers.ipynb[1]': [Function: getCells],\n",
            "  'How to find answers.ipynb[2]': [Function: promiseContext],\n",
            "  'How to find answers.ipynb[3]': [Function: runAllPromises],\n",
            "  'How to find answers.ipynb[4]': [Function: importNotebook] }\n"
          ]
        },
        {
          "output_type": "execute_result",
          "execution_count": 1,
          "data": {
            "text/plain": [
              "{ 'How to find answers.ipynb[1]': [Function: getCells],\n",
              "  'How to find answers.ipynb[2]': [Function: promiseContext],\n",
              "  'How to find answers.ipynb[3]': [Function: runAllPromises],\n",
              "  'How to find answers.ipynb[4]': [Function: importNotebook] }"
            ]
          },
          "metadata": {}
        },
        {
          "output_type": "stream",
          "name": "stdout",
          "text": [
            "started notebook How to test import.ipynb with 8 cells\n",
            "started notebook How to test import.ipynb with 8 cells\n",
            "Already imported How to find answers.ipynb,How to test import.ipynb,How to test import.ipynb\n",
            "Already imported How to find answers.ipynb,How to test import.ipynb,How to test import.ipynb\n",
            "Already imported How to find answers.ipynb,How to test import.ipynb,How to test import.ipynb\n",
            "Already imported How to find answers.ipynb,How to test import.ipynb,How to test import.ipynb\n"
          ]
        }
      ],
      "execution_count": 1,
      "metadata": {
        "collapsed": false,
        "outputHidden": false,
        "inputHidden": false
      }
    },
    {
      "cell_type": "code",
      "source": [
        "$$.async()\n",
        "setTimeout(() => $$.done(1), 0);\n"
      ],
      "outputs": [],
      "execution_count": 1,
      "metadata": {
        "collapsed": false,
        "outputHidden": false,
        "inputHidden": false
      }
    },
    {
      "cell_type": "code",
      "source": [
        "$$.async();\n",
        "setTimeout(() => {\n",
        "try {\n",
        "    throw 'should only fail per cell';\n",
        "}\n",
        "catch(e) {\n",
        "    $$.done(e);\n",
        "}}, 10);\n"
      ],
      "outputs": [],
      "execution_count": 1,
      "metadata": {
        "collapsed": false,
        "outputHidden": false,
        "inputHidden": false
      }
    },
    {
      "cell_type": "code",
      "source": [
        "// hole in documentation?\n",
        "/*\n",
        "$$.async();\n",
        "setTimeout(() => {\n",
        "    throw 'should only fail per cell';\n",
        "});\n",
        "never returns output\n",
        "*/\n",
        "\n"
      ],
      "outputs": [],
      "execution_count": null,
      "metadata": {
        "collapsed": false,
        "outputHidden": false,
        "inputHidden": false
      }
    },
    {
      "cell_type": "code",
      "source": [
        "$$.async()\n",
        "setTimeout(() => $$.done('import successful'), 20);\n"
      ],
      "outputs": [],
      "execution_count": null,
      "metadata": {
        "collapsed": false,
        "outputHidden": false,
        "inputHidden": false
      }
    },
    {
      "cell_type": "code",
      "source": [
        "$$.async();\n",
        "importNotebook('How to find answers.ipynb').then((cells) => {\n",
        "    $$.done(cells);\n",
        "});\n"
      ],
      "outputs": [],
      "execution_count": 1,
      "metadata": {
        "collapsed": false,
        "outputHidden": false,
        "inputHidden": false
      }
    },
    {
      "cell_type": "markdown",
      "source": [
        "How to import functions from notebooks?"
      ],
      "metadata": {}
    },
    {
      "cell_type": "code",
      "source": [
        "\n",
        "try {\n",
        "    $$.async();\n",
        "    $import$ = ((i, imports) => (i = importNotebook(i)) \n",
        "                && ((typeof imports === 'undefined') \n",
        "        ? (imports = Promise.resolve(i)) : imports.then(i)));\n",
        "    \n",
        "    \n",
        "    ('How to test import.ipynb').then(r => console.log(r))\n",
        "        .then(r => $$.done($import$)).catch((e) => $$.done($import$));\n",
        "} \n",
        "catch (e) {$$.done($import$)}\n",
        "\n"
      ],
      "outputs": [
        {
          "output_type": "execute_result",
          "execution_count": 10,
          "data": {
            "text/plain": [
              "[Function: $import$]"
            ]
          },
          "metadata": {}
        }
      ],
      "execution_count": 10,
      "metadata": {
        "collapsed": false,
        "outputHidden": false,
        "inputHidden": false
      }
    },
    {
      "cell_type": "code",
      "source": [],
      "outputs": [],
      "execution_count": null,
      "metadata": {
        "collapsed": false,
        "outputHidden": false,
        "inputHidden": false
      }
    }
  ],
  "metadata": {
    "kernelspec": {
      "name": "node_nteract",
      "language": "javascript",
      "display_name": "Node.js (nteract)"
    },
    "kernel_info": {
      "name": "node_nteract"
    },
    "language_info": {
      "name": "javascript",
      "version": "6.5.0",
      "mimetype": "application/javascript",
      "file_extension": ".js"
    }
  },
  "nbformat": 4,
  "nbformat_minor": 4
}