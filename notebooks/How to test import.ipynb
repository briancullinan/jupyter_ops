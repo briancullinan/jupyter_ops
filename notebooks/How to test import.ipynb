{
  "cells": [
    {
      "cell_type": "code",
      "source": [
        "$$.async()\n",
        "setTimeout(() => $$.done(1), 0);\n"
      ],
      "outputs": [
        {
          "output_type": "execute_result",
          "execution_count": 1,
          "data": {
            "text/plain": [
              "1"
            ]
          },
          "metadata": {}
        }
      ],
      "execution_count": 1,
      "metadata": {
        "collapsed": false,
        "outputHidden": false,
        "inputHidden": false
      }
    },
    {
      "cell_type": "code",
      "source": [
        "$$.async();\n",
        "setTimeout(() => {\n",
        "try {\n",
        "    throw 'should only fail per cell';\n",
        "}\n",
        "catch(e) {\n",
        "    $$.done(e);\n",
        "}}, 10);\n"
      ],
      "outputs": [
        {
          "output_type": "execute_result",
          "execution_count": 1,
          "data": {
            "text/plain": [
              "'should only fail per cell'"
            ]
          },
          "metadata": {}
        }
      ],
      "execution_count": 1,
      "metadata": {
        "collapsed": false,
        "outputHidden": false,
        "inputHidden": false
      }
    },
    {
      "cell_type": "code",
      "source": [
        "// hole in documentation?\n",
        "/*\n",
        "$$.async();\n",
        "setTimeout(() => {\n",
        "    throw 'should only fail per cell';\n",
        "});\n",
        "never returns output\n",
        "*/\n",
        "\n"
      ],
      "outputs": [],
      "execution_count": null,
      "metadata": {
        "collapsed": false,
        "outputHidden": false,
        "inputHidden": false
      }
    },
    {
      "cell_type": "code",
      "source": [
        "$$.async()\n",
        "setTimeout(() => $$.done('import successful'), 20);\n"
      ],
      "outputs": [],
      "execution_count": null,
      "metadata": {
        "collapsed": false,
        "outputHidden": false,
        "inputHidden": false
      }
    },
    {
      "cell_type": "code",
      "source": [
        "$$.async();\n",
        "importNotebook('How to find answers.ipynb').then((cells) => {\n",
        "    $$.done(cells);\n",
        "});\n"
      ],
      "outputs": [],
      "execution_count": null,
      "metadata": {
        "collapsed": false,
        "outputHidden": false,
        "inputHidden": false
      }
    }
  ],
  "metadata": {
    "kernelspec": {
      "name": "node_nteract",
      "language": "javascript",
      "display_name": "Node.js (nteract)"
    },
    "kernel_info": {
      "name": "node_nteract"
    },
    "language_info": {
      "name": "javascript",
      "version": "6.5.0",
      "mimetype": "application/javascript",
      "file_extension": ".js"
    }
  },
  "nbformat": 4,
  "nbformat_minor": 4
}