{
 "cells": [
  {
   "cell_type": "markdown",
   "metadata": {},
   "source": [
    "# What is Selenium?\n",
    "\n",
    "Selenium is a remote control for web-browsers.  Chrome-driver is the remote control for Chrome.\n",
    "\n",
    "http://www.seleniumhq.org/download/\n",
    "\n",
    "https://sites.google.com/a/chromium.org/chromedriver/downloads\n",
    "\n",
    "Ecommerce portal\n",
    "inside selenium\n",
    "inside chrome\n",
    "inside VNC\n",
    "inside jupyter\n",
    "inside Linux\n",
    "inside Docker\n",
    "inside Chrome\n",
    "inside Windows\n",
    "\n"
   ]
  },
  {
   "cell_type": "markdown",
   "metadata": {},
   "source": [
    "First run the virtual frame buffer with selenium\n",
    "\n"
   ]
  },
  {
   "cell_type": "code",
   "execution_count": null,
   "metadata": {
    "scrolled": true
   },
   "outputs": [],
   "source": [
    "$TS.exec('Xvfb :0 -ac -screen 0 1024x768x24 +extension RANDR');\n",
    "\n",
    "$TS.exec('export DISPLAY=:0 && java -Dwebdriver.chrome.driver=\"/usr/bin/chromedriver\" -Dwebdriver.chrome.args=\"--start-fullscreen --no-sandbox\" -jar /opt/selenium/selenium-server-standalone.jar')\n",
    "\n",
    "\n"
   ]
  },
  {
   "cell_type": "markdown",
   "metadata": {},
   "source": [
    "Then run the VNC server with fluxbox"
   ]
  },
  {
   "cell_type": "code",
   "execution_count": null,
   "metadata": {},
   "outputs": [],
   "source": [
    "$TS.exec('fluxbox -display :0');\n",
    "$TS.exec('x11vnc -forever -nopw -shared -rfbport 5900 -display :0');\n",
    "\n"
   ]
  },
  {
   "cell_type": "markdown",
   "metadata": {},
   "source": [
    "Finally, run this middle-ware for the html5 client"
   ]
  },
  {
   "cell_type": "code",
   "execution_count": null,
   "metadata": {
    "scrolled": true
   },
   "outputs": [],
   "source": [
    "$TS.exec('../novnc/utils/launch.sh --vnc localhost:5900')\n",
    "\n"
   ]
  },
  {
   "cell_type": "markdown",
   "metadata": {},
   "source": [
    "Show the iframe with VNC connection"
   ]
  },
  {
   "cell_type": "code",
   "execution_count": null,
   "metadata": {
    "scrolled": false
   },
   "outputs": [],
   "source": [
    "$TS.html(\n",
    "    '<div style=\"display:block; width:100%; padding-bottom:75%;position:relative;\">' +\n",
    "    '<iframe id=\"vnc\"' +\n",
    "        'style=\"position:absolute;top:0;right:0;bottom:0;left:0;width:100%;height:100%;border:0;\"' +\n",
    "        'src=\"//localhost:6080/vnc.html?host=localhost&port=6080&autoconnect=true&resize=downscale&view_only=true\"></iframe></div>');\n",
    "\n"
   ]
  },
  {
   "cell_type": "markdown",
   "metadata": {
    "collapsed": true
   },
   "source": [
    "Checkout the github repo for mocha scripts"
   ]
  },
  {
   "cell_type": "code",
   "execution_count": null,
   "metadata": {},
   "outputs": [],
   "source": [
    "$TS.exec('cd ./act.ecommerce && npm run static');\n",
    "\n"
   ]
  },
  {
   "cell_type": "markdown",
   "metadata": {
    "collapsed": true
   },
   "source": [
    "Run our first selenium script"
   ]
  },
  {
   "cell_type": "code",
   "execution_count": null,
   "metadata": {
    "scrolled": true
   },
   "outputs": [],
   "source": [
    "$TS.exec('export DISPLAY=:0 && google-chrome http://localhost:4200 --no-sandbox --start-fullscreen');\n",
    "\n"
   ]
  },
  {
   "cell_type": "code",
   "execution_count": null,
   "metadata": {},
   "outputs": [],
   "source": [
    "$TS.exec('cd ./mobile && npm run test');\n",
    "\n"
   ]
  },
  {
   "cell_type": "code",
   "execution_count": null,
   "metadata": {
    "collapsed": true
   },
   "outputs": [],
   "source": []
  }
 ],
 "metadata": {
  "kernelspec": {
   "display_name": "Typescript 2.3",
   "language": "typescript",
   "name": "typescript"
  },
  "language_info": {
   "file_extension": ".ts",
   "mimetype": "text/x-typescript",
   "name": "typescript",
   "version": "2.3.3"
  }
 },
 "nbformat": 4,
 "nbformat_minor": 2
}
