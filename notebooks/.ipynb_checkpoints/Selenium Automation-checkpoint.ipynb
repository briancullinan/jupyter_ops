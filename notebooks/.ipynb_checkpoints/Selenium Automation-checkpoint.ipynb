{
 "cells": [
  {
   "cell_type": "markdown",
   "metadata": {},
   "source": [
    "# What is Selenium\n",
    "\n",
    "Selenium is a remote control for web-browsers.  Chrome-driver is the remote control for Chrome.\n",
    "\n"
   ]
  },
  {
   "cell_type": "markdown",
   "metadata": {},
   "source": [
    "First run the virtual frame buffer with selenium"
   ]
  },
  {
   "cell_type": "code",
   "execution_count": 45,
   "metadata": {},
   "outputs": [
    {
     "name": "stdout",
     "output_type": "stream",
     "text": [
      "Starting job # 21 in a separate thread.\n"
     ]
    }
   ],
   "source": [
    "%%script --bg bash\n",
    "DISPLAY=:0\n",
    "xvfb-run --server-num=0 java \\\n",
    "    -Dwebdriver.chrome.driver=\"/usr/bin/chromedriver\" \\\n",
    "    -Dwebdriver.chrome.args=\"--start-maximized\" \\\n",
    "    -jar /opt/selenium/selenium-server-standalone.jar \\\n",
    "\n"
   ]
  },
  {
   "cell_type": "markdown",
   "metadata": {},
   "source": [
    "Then run the VNC server with fluxbox"
   ]
  },
  {
   "cell_type": "code",
   "execution_count": 46,
   "metadata": {},
   "outputs": [
    {
     "name": "stdout",
     "output_type": "stream",
     "text": [
      "Starting job # 22 in a separate thread.\n"
     ]
    }
   ],
   "source": [
    "%%script --bg bash\n",
    "fluxbox -display :0 &\n",
    "x11vnc -forever -nopw -shared -rfbport 5900 -display :0 &\n",
    "\n"
   ]
  },
  {
   "cell_type": "markdown",
   "metadata": {},
   "source": [
    "Finally, run this middle-ware for the html5 client"
   ]
  },
  {
   "cell_type": "code",
   "execution_count": 43,
   "metadata": {},
   "outputs": [
    {
     "name": "stdout",
     "output_type": "stream",
     "text": [
      "Starting job # 20 in a separate thread.\n"
     ]
    }
   ],
   "source": [
    "%%script --bg bash\n",
    "\n",
    "../novnc/utils/launch.sh --vnc localhost:5900\n",
    "\n"
   ]
  },
  {
   "cell_type": "markdown",
   "metadata": {},
   "source": [
    "Show the iframe with VNC connection"
   ]
  },
  {
   "cell_type": "code",
   "execution_count": 47,
   "metadata": {
    "scrolled": false
   },
   "outputs": [
    {
     "data": {
      "text/html": [
       "<iframe src=\"//localhost:6080/vnc.html?host=localhost&port=6080\" height=600 width=600></iframe>"
      ],
      "text/plain": [
       "<IPython.core.display.HTML object>"
      ]
     },
     "execution_count": 47,
     "metadata": {},
     "output_type": "execute_result"
    }
   ],
   "source": [
    "import IPython\n",
    "IPython.display.HTML('<iframe src=\"//localhost:6080/vnc.html?host=localhost&port=6080\" height=600 width=600></iframe>')"
   ]
  },
  {
   "cell_type": "markdown",
   "metadata": {
    "collapsed": true
   },
   "source": [
    "Run our first selenium script"
   ]
  },
  {
   "cell_type": "code",
   "execution_count": null,
   "metadata": {
    "collapsed": true
   },
   "outputs": [],
   "source": []
  },
  {
   "cell_type": "markdown",
   "metadata": {
    "collapsed": true
   },
   "source": [
    "Checkout the github repo for mocha scripts"
   ]
  },
  {
   "cell_type": "code",
   "execution_count": null,
   "metadata": {
    "collapsed": true
   },
   "outputs": [],
   "source": []
  }
 ],
 "metadata": {
  "kernelspec": {
   "display_name": "Python 3",
   "language": "python",
   "name": "python3"
  },
  "language_info": {
   "codemirror_mode": {
    "name": "ipython",
    "version": 3
   },
   "file_extension": ".py",
   "mimetype": "text/x-python",
   "name": "python",
   "nbconvert_exporter": "python",
   "pygments_lexer": "ipython3",
   "version": "3.5.2"
  }
 },
 "nbformat": 4,
 "nbformat_minor": 2
}
