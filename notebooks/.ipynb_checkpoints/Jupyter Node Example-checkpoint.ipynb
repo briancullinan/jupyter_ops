{
 "cells": [
  {
   "cell_type": "markdown",
   "metadata": {
    "slideshow": {
     "slide_type": "slide"
    }
   },
   "source": [
    "# Jupyter Nodejs"
   ]
  },
  {
   "cell_type": "markdown",
   "metadata": {},
   "source": [
    "clone https://github.com/megamindbrian/jupytangular2\n",
    "docker build -t jupytangular ./\n",
    "docker run -n jupytangular -it -p 8888:8888 -v ~/jupytangular2/notebooks/:/home/jovyan/notebooks jupytangular"
   ]
  },
  {
   "cell_type": "code",
   "execution_count": null,
   "metadata": {
    "collapsed": true
   },
   "outputs": [],
   "source": [
    "var os = require('os')\n",
    "os.hostname()"
   ]
  },
  {
   "cell_type": "code",
   "execution_count": null,
   "metadata": {
    "collapsed": true
   },
   "outputs": [],
   "source": [
    "console.log('Hello NodeJS')"
   ]
  },
  {
   "cell_type": "code",
   "execution_count": null,
   "metadata": {
    "collapsed": true
   },
   "outputs": [],
   "source": [
    "function npmls(cb) {\n",
    "  require('child_process').exec('npm ls --json', function(err, stdout, stderr) {\n",
    "    if (err) return cb(err)\n",
    "    cb(null, JSON.parse(stdout));\n",
    "  });\n",
    "}\n",
    "npmls(console.log);"
   ]
  },
  {
   "cell_type": "code",
   "execution_count": null,
   "metadata": {
    "collapsed": true
   },
   "outputs": [],
   "source": [
    "var exec = require('child_process').exec;\n",
    "child = exec('npm install nodegit');\n",
    "child.stderr.pipe(process.stderr);\n",
    "child.stdout.pipe(process.stdout);\n",
    "0"
   ]
  },
  {
   "cell_type": "code",
   "execution_count": null,
   "metadata": {
    "collapsed": true
   },
   "outputs": [],
   "source": [
    "var Git = require('nodegit');\n",
    "var url = 'https://github.com/megamindbrian/sosmethod';\n",
    "var directory = './sosmethod';\n",
    "var clone = Git.Clone.clone;\n",
    "var branch = 'master';\n",
    "var cloneOptions = new Git.CloneOptions();\n",
    "cloneOptions.checkoutBranch = branch;\n",
    "\n",
    "clone(url, directory, cloneOptions)\n",
    "    .then(function(repository){\n",
    "        console.log(repository);\n",
    "    })\n",
    "    .catch(e => console.log(e));\n",
    "0"
   ]
  },
  {
   "cell_type": "code",
   "execution_count": null,
   "metadata": {
    "collapsed": true
   },
   "outputs": [],
   "source": [
    "var exec = require('child_process').exec;\n",
    "child = exec('cd sosmethod && npm install -f');\n",
    "child.stderr.pipe(process.stderr);\n",
    "child.stdout.pipe(process.stdout);\n",
    "0"
   ]
  },
  {
   "cell_type": "markdown",
   "metadata": {},
   "source": [
    "### Finally ready to load our project"
   ]
  },
  {
   "cell_type": "code",
   "execution_count": null,
   "metadata": {
    "collapsed": true
   },
   "outputs": [],
   "source": [
    "process.env.HOME"
   ]
  },
  {
   "cell_type": "code",
   "execution_count": null,
   "metadata": {
    "collapsed": true,
    "scrolled": true
   },
   "outputs": [],
   "source": [
    "var exec = require('child_process').exec;\n",
    "child = exec('cd ./sosmethod && webpack ./config/webpack.prod.js --progress --profile --bail', function(err, stdout, stderr) {\n",
    "    // TODO: show output on command line\n",
    "});\n",
    "child.stderr.pipe(process.stderr);\n",
    "child.stdout.pipe(process.stdout);\n",
    "0\n"
   ]
  },
  {
   "cell_type": "code",
   "execution_count": 1,
   "metadata": {},
   "outputs": [
    {
     "ename": "SyntaxError",
     "evalue": "Unexpected token import",
     "output_type": "error",
     "traceback": [
      "/home/jovyan/notebooks/sosmethod/src/main.ts:1",
      "(function (exports, require, module, __filename, __dirname) { import './polyfills.ts';",
      "                                                              ^^^^^^",
      "SyntaxError: Unexpected token import",
      "    at Object.exports.runInThisContext (vm.js:76:16)",
      "    at Module._compile (module.js:528:28)",
      "    at Object.Module._extensions..js (module.js:565:10)",
      "    at Module.load (module.js:473:32)",
      "    at tryModuleLoad (module.js:432:12)",
      "    at Function.Module._load (module.js:424:3)",
      "    at Module.require (module.js:483:17)",
      "    at require (internal/module.js:20:19)",
      "    at evalmachine.<anonymous>:3:11",
      "    at ContextifyScript.Script.runInThisContext (vm.js:25:33)"
     ]
    }
   ],
   "source": [
    "import * as App from './sosmethod/src/main.ts';\n",
    "\n",
    "App"
   ]
  },
  {
   "cell_type": "markdown",
   "metadata": {},
   "source": [
    "<h1>test</h1>"
   ]
  },
  {
   "cell_type": "code",
   "execution_count": null,
   "metadata": {},
   "outputs": [],
   "source": [
    "%%babel\n",
    "class Something {\n",
    "    constructor() {\n",
    "        console.log('Welcome!')\n",
    "    }\n",
    "    doit() {\n",
    "        return false\n",
    "    }\n",
    "}"
   ]
  },
  {
   "cell_type": "code",
   "execution_count": null,
   "metadata": {},
   "outputs": [],
   "source": [
    "%%babel\n",
    "new Something().doit()"
   ]
  },
  {
   "cell_type": "markdown",
   "metadata": {},
   "source": [
    "### Clojurescript!"
   ]
  },
  {
   "cell_type": "markdown",
   "metadata": {},
   "source": [
    "If you want faster load times, you can [run your own](https://github.com/fogus/himera) Himera server locally and use that url here."
   ]
  },
  {
   "cell_type": "code",
   "execution_count": null,
   "metadata": {
    "collapsed": true
   },
   "outputs": [],
   "source": [
    "%load_ext clojurescript http://himera-emh.herokuapp.com"
   ]
  },
  {
   "cell_type": "code",
   "execution_count": null,
   "metadata": {
    "collapsed": true
   },
   "outputs": [],
   "source": [
    "%%clojurescript\n",
    "(map #(+ % 23) [1 2 3])"
   ]
  }
 ],
 "metadata": {
  "celltoolbar": "Slideshow",
  "kernelspec": {
   "display_name": "Typescript 2.2",
   "language": "typescript",
   "name": "typescript"
  }
 },
 "nbformat": 4,
 "nbformat_minor": 1
}
