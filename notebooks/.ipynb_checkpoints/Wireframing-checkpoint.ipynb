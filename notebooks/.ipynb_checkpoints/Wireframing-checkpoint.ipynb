{
 "cells": [
  {
   "cell_type": "markdown",
   "metadata": {
    "slideshow": {
     "slide_type": "slide"
    }
   },
   "source": [
    "# Jupyter Nodejs"
   ]
  },
  {
   "cell_type": "code",
   "execution_count": null,
   "metadata": {
    "collapsed": true
   },
   "outputs": [],
   "source": [
    "%%bash\n",
    "\n",
    "clone https://github.com/megamindbrian/jupytangular2\n",
    "docker build -t jupytangular ./\n",
    "docker run --name jupytangular -it -p 8888:8888 -v ~/jupytangular2/notebooks/:/home/jovyan/notebooks jupytangular\n",
    "docker run --name jupytangular -it -p 8888:8888 -v \"C:\\Users\\brian.cullinan\\Documents\\jupytangular2\\notebooks\":/home/jovyan/notebooks jupytangular\n",
    "\n",
    "\n"
   ]
  },
  {
   "cell_type": "code",
   "execution_count": null,
   "metadata": {
    "collapsed": true
   },
   "outputs": [],
   "source": [
    "var os = require('os')\n",
    "os.hostname()"
   ]
  },
  {
   "cell_type": "code",
   "execution_count": null,
   "metadata": {
    "collapsed": true
   },
   "outputs": [],
   "source": [
    "console.log('Hello NodeJS')"
   ]
  },
  {
   "cell_type": "code",
   "execution_count": null,
   "metadata": {
    "collapsed": true
   },
   "outputs": [],
   "source": [
    "function npmls(cb) {\n",
    "  require('child_process').exec('npm ls --json', function(err, stdout, stderr) {\n",
    "    if (err) return cb(err)\n",
    "    cb(null, JSON.parse(stdout));\n",
    "  });\n",
    "}\n",
    "npmls(console.log);"
   ]
  },
  {
   "cell_type": "code",
   "execution_count": null,
   "metadata": {
    "collapsed": true
   },
   "outputs": [],
   "source": [
    "var exec = require('child_process').exec;\n",
    "child = exec('npm install nodegit');\n",
    "child.stderr.pipe(process.stderr);\n",
    "child.stdout.pipe(process.stdout);\n",
    "0"
   ]
  },
  {
   "cell_type": "code",
   "execution_count": null,
   "metadata": {
    "collapsed": true
   },
   "outputs": [],
   "source": [
    "var Git = require('nodegit');\n",
    "var url = 'https://github.com/megamindbrian/sosmethod';\n",
    "var directory = './sosmethod';\n",
    "var clone = Git.Clone.clone;\n",
    "var branch = 'master';\n",
    "var cloneOptions = new Git.CloneOptions();\n",
    "cloneOptions.checkoutBranch = branch;\n",
    "\n",
    "clone(url, directory, cloneOptions)\n",
    "    .then(function(repository){\n",
    "        console.log(repository);\n",
    "    })\n",
    "    .catch(e => console.log(e));\n",
    "0"
   ]
  },
  {
   "cell_type": "code",
   "execution_count": null,
   "metadata": {
    "collapsed": true
   },
   "outputs": [],
   "source": [
    "var exec = require('child_process').exec;\n",
    "child = exec('cd sosmethod && npm install -f');\n",
    "child.stderr.pipe(process.stderr);\n",
    "child.stdout.pipe(process.stdout);\n",
    "0"
   ]
  },
  {
   "cell_type": "markdown",
   "metadata": {},
   "source": [
    "### Finally ready to load our project"
   ]
  },
  {
   "cell_type": "code",
   "execution_count": null,
   "metadata": {
    "collapsed": true
   },
   "outputs": [],
   "source": [
    "process.env.HOME"
   ]
  },
  {
   "cell_type": "code",
   "execution_count": null,
   "metadata": {
    "collapsed": true,
    "scrolled": true
   },
   "outputs": [],
   "source": [
    "var exec = require('child_process').exec;\n",
    "child = exec('cd ./sosmethod && webpack ./config/webpack.prod.js --progress --profile --bail', function(err, stdout, stderr) {\n",
    "    // TODO: show output on command line\n",
    "});\n",
    "child.stderr.pipe(process.stderr);\n",
    "child.stdout.pipe(process.stdout);\n",
    "0\n"
   ]
  },
  {
   "cell_type": "code",
   "execution_count": null,
   "metadata": {
    "collapsed": true
   },
   "outputs": [],
   "source": [
    "const fs = require('fs');\n",
    "const js1 = fs.readFileSync('./sosmethod/dist/www/polyfills.59868df8094f160adda5.js');\n",
    "const js2 = fs.readFileSync('./sosmethod/dist/www/vendor.59868df8094f160adda5.js');\n",
    "const js3 = fs.readFileSync('./sosmethod/dist/www/app.59868df8094f160adda5.js');\n",
    "\n",
    "$$html$$ = '<bc-app style=\"position:relative;display:block;min-height:600px;min-width:600px;\">hello!</bc-app>' \n",
    "    + '<script type=\"application/javascript\">eval(atob(\"' + (new Buffer(js1)).toString('base64') + '\"));</script>'\n",
    "    + '<script type=\"application/javascript\">eval(atob(\"' + (new Buffer(js2)).toString('base64') + '\"));</script>'\n",
    "    + '<script type=\"application/javascript\">eval(atob(\"' + (new Buffer(js3)).toString('base64') + '\"));</script>';\n",
    "\n"
   ]
  },
  {
   "cell_type": "markdown",
   "metadata": {},
   "source": [
    "<h1>test</h1>"
   ]
  },
  {
   "cell_type": "code",
   "execution_count": null,
   "metadata": {
    "collapsed": true,
    "scrolled": false
   },
   "outputs": [],
   "source": [
    "$$.async()\n",
    "var webpack = require('webpack');\n",
    "var config = require('../webpack.config.js');\n",
    "var tag = Math.random().toString(36).substring(7);\n",
    "var fs = require('fs')\n",
    "var moduleFile = '../src/app.component.ts';\n",
    "\n",
    "fs.readFile(moduleFile, 'utf8', function (err,data) {\n",
    "  if (err) {\n",
    "    return console.log(err);\n",
    "  }\n",
    "  var result = data.replace(/\\'bc-app(-.*)?\\'/ig, '\\'bc-app-' + tag + '\\'');\n",
    "\n",
    "  fs.writeFile(moduleFile, result, 'utf8', function (err) {\n",
    "     if (err) return console.log(err);\n",
    "  });\n",
    "});\n",
    "\n",
    "webpack(config, function(err, stats) {\n",
    "    //console.log(err);\n",
    "    //console.log(stats);\n",
    "    $$.html('<iframe src=\"/files/dev/www/index.html\"></iframe>');\n",
    "});\n",
    "0"
   ]
  },
  {
   "cell_type": "code",
   "execution_count": 15,
   "metadata": {},
   "outputs": [
    {
     "ename": "TypeError",
     "evalue": "Identifier 'options' has already been declared",
     "output_type": "error",
     "traceback": [
      "TypeError: Identifier 'options' has already been declared",
      "    at evalmachine.<anonymous>:1:1",
      "    at ContextifyScript.Script.runInThisContext (vm.js:25:33)",
      "    at Object.exports.runInThisContext (vm.js:77:17)",
      "    at run ([eval]:617:19)",
      "    at onRunRequest ([eval]:388:22)",
      "    at onMessage ([eval]:356:17)",
      "    at emitTwo (events.js:106:13)",
      "    at process.emit (events.js:191:7)",
      "    at process.nextTick (internal/child_process.js:744:12)",
      "    at _combinedTickCallback (internal/process/next_tick.js:67:7)"
     ]
    }
   ],
   "source": [
    "$$.async();\n",
    "const url = 'act.com';\n",
    "const options = {zoom: .5, width: 680, \"crop-y\": 1200, \"crop-h\": 400};\n",
    "const encode = require('base64-stream').encode();\n",
    "const spawn = require('child_process').spawn;\n",
    "const myOptions = ['-q', '-f', 'jpeg']\n",
    "    .concat.apply([], Object.keys(options || {}).map(k => ['--' + k, options[k]]));\n",
    "const wk = spawn('xvfb-run', ['-a', '-s', '-screen 0 640x480x16', 'wkhtmltoimage', ...myOptions, url, '-']);\n",
    "var out = '';\n",
    "wk.stderr.on('data', (d) => console.log(d));\n",
    "wk.stdout.pipe(encode).on('data', d => out += d.toString()).on('finish', () => $TS.jpg(out));"
   ]
  },
  {
   "cell_type": "code",
   "execution_count": 3,
   "metadata": {},
   "outputs": [
    {
     "ename": "SyntaxError",
     "evalue": "Unexpected token %",
     "output_type": "error",
     "traceback": [
      "evalmachine.<anonymous>:1",
      " %  % clojurescript(map, (+ % 23)[1], 2, 3);",
      " ^",
      "SyntaxError: Unexpected token %",
      "    at Object.exports.runInThisContext (vm.js:76:16)",
      "    at run ([eval]:617:19)",
      "    at onRunRequest ([eval]:388:22)",
      "    at onMessage ([eval]:356:17)",
      "    at emitTwo (events.js:106:13)",
      "    at process.emit (events.js:191:7)",
      "    at process.nextTick (internal/child_process.js:744:12)",
      "    at _combinedTickCallback (internal/process/next_tick.js:67:7)",
      "    at process._tickCallback (internal/process/next_tick.js:98:9)"
     ]
    }
   ],
   "source": [
    "%%clojurescript\n",
    "(map #(+ % 23) [1 2 3])"
   ]
  },
  {
   "cell_type": "code",
   "execution_count": 4,
   "metadata": {},
   "outputs": [
    {
     "ename": "SyntaxError",
     "evalue": "Unexpected token %",
     "output_type": "error",
     "traceback": [
      "evalmachine.<anonymous>:1",
      " %  % dot;",
      " ^",
      "SyntaxError: Unexpected token %",
      "    at Object.exports.runInThisContext (vm.js:76:16)",
      "    at run ([eval]:617:19)",
      "    at onRunRequest ([eval]:388:22)",
      "    at onMessage ([eval]:356:17)",
      "    at emitTwo (events.js:106:13)",
      "    at process.emit (events.js:191:7)",
      "    at process.nextTick (internal/child_process.js:744:12)",
      "    at _combinedTickCallback (internal/process/next_tick.js:67:7)",
      "    at process._tickCallback (internal/process/next_tick.js:98:9)"
     ]
    }
   ],
   "source": [
    "%%dot\n",
    "\n",
    "digraph apply {\n",
    "  rankdir=BT; fontname=Helvetica\n",
    "  node[peripheries=0, style=filled, fillcolor=blue, fontcolor=white,fontname=Helvetica,fixedsize=true,width=1.8,height=0.8]\n",
    "  edge[fontname=Helvetica,fontsize=12,fontcolor=blue,labeldistance=1.8]\n",
    "\n",
    "  subgraph cluster_student {\n",
    "    label=\"Student\";\n",
    "    style=filled; fillcolor=grey92\n",
    "    submit [shape=record, style=\"filled,rounded\",label=\"Submit\\nRegistration\\n\"]\n",
    "    letter [shape=box, peripheries=0, label=\"Letter\"]\n",
    "  }\n",
    "  subgraph cluster_admin {\n",
    "    label=\"Admin\"\n",
    "    style=filled; fillcolor=grey92\n",
    "    complete  [shape=diamond, height=1.5, label=\"Application\\nComplete?\"]\n",
    "    admreject [shape=record, label=\"Write Rejection\\nLetter\\n\"]\n",
    "  }\n",
    "  subgraph cluster_registrar {\n",
    "    label=\"Registrar\"\n",
    "    style=filled; fillcolor=grey92\n",
    "    min [shape=diamond, height=1.8, label=\"Minimum\\nStandard\\nMet?\"]\n",
    "  }\n",
    "  subgraph cluster_faculty {\n",
    "    label=\"Faculty\"\n",
    "    style=filled; fillcolor=grey92\n",
    "    {rank=same;\n",
    "    suitable  [shape=diamond, height=1.8,label=\"Suitable for\\nProgram?\\n\"]\n",
    "    facaccept [shape=record,  label=\"Write Acceptance\\nLetter\\n\"]\n",
    "    }\n",
    "  }\n",
    "\n",
    "  submit -> complete\n",
    "  complete -> submit     [headlabel=\"no\"]\n",
    "  complete -> min        [headlabel=\"yes\"]\n",
    "  min -> admreject       [headlabel=\"no\"]\n",
    "  min -> suitable        [headlabel=\"yes\"]\n",
    "  suitable -> admreject  [headlabel=\"no\"]\n",
    "  suitable -> facaccept  [headlabel=\"yes\"]\n",
    "  admreject -> letter\n",
    "  facaccept -> letter\n",
    "}"
   ]
  },
  {
   "cell_type": "code",
   "execution_count": null,
   "metadata": {
    "collapsed": true
   },
   "outputs": [],
   "source": []
  }
 ],
 "metadata": {
  "celltoolbar": "Slideshow",
  "kernelspec": {
   "display_name": "Typescript 2.3",
   "language": "typescript",
   "name": "typescript"
  },
  "language_info": {
   "file_extension": ".ts",
   "mimetype": "text/x-typescript",
   "name": "typescript",
   "version": "2.3.1"
  }
 },
 "nbformat": 4,
 "nbformat_minor": 1
}
