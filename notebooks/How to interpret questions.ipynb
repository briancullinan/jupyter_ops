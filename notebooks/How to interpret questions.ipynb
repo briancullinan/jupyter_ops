{
  "cells": [
    {
      "cell_type": "markdown",
      "source": [
        "# How to interpret questions in jupyter notebooks?\n",
        "\n",
        "What is code completion for jupter notebooks?\n"
      ],
      "metadata": {}
    },
    {
      "cell_type": "code",
      "source": [
        "var reqs = ['fs', 'path', ];\n",
        "var fs = require('fs');\n",
        "var path = require('path');\n",
        "if (typeof importNotebook == 'undefined') {\n",
        "    // Does this work everywhere?\n",
        "    try {\n",
        "        var m, co = '', vm = require('vm');\n",
        "        var source = fs.readFileSync('How to find answers.ipynb').toString();\n",
        "        var re = new RegExp('\\\\s*\"cell_type\": \"code\",\\\\s*\"source\":\\\\s*\\\\[\\\\s*([\\\\s\\\\S]*?\\\\$\\\\$.done[\\\\s\\\\S]*?)\\\\s*\\\\]\\\\s*,\\s*', 'ig');\n",
        "        while (m = re.exec(source)) { co += (co == '' ? '' : ',\\n' ) + m[1] + ',\"\\\\n\"'; }\n",
        "        co = '\\n\\$$ = get$$();\\n\\n' + JSON.parse('['+co+']').join('') + '\\n\\n;';\n",
        "        global.getGlobal = () => global;\n",
        "        global.get$$ = () => {\n",
        "            var temp$$ = Object.assign({}, global.$$);\n",
        "            return Object.assign(temp$$, {\n",
        "                async: () => {},\n",
        "                done: (done) => {}\n",
        "            });\n",
        "        };\n",
        "        var tmpGlobal = Object.assign({}, global);\n",
        "        var context = vm.createContext(tmpGlobal);\n",
        "        (new vm.Script(co)).runInContext(context);\n",
        "        $$.async();\n",
        "        tmpGlobal.imports.then((done) => {\n",
        "            Object.assign(global, tmpGlobal.commandRegistry);\n",
        "            $$.done(done);\n",
        "        });\n",
        "    } catch (e) {\n",
        "        $$.done(e);\n",
        "    }\n",
        "}\n",
        "\n",
        "$$.done('interpreter is ready');\n"
      ],
      "outputs": [],
      "execution_count": 7,
      "metadata": {
        "collapsed": false,
        "outputHidden": false,
        "inputHidden": false
      }
    },
    {
      "cell_type": "markdown",
      "source": [
        "How to find all the notebooks and read markdown cells?\n",
        "\n",
        "How to get markdown from all notebooks in {directory}?\n"
      ],
      "metadata": {}
    },
    {
      "cell_type": "code",
      "source": [
        "\n",
        "var flatten = arr => arr.reduce((acc, val) => \n",
        "      acc.concat(Array.isArray(val) ? flatten(val) : val), []);\n",
        "\n",
        "Array.prototype.flatten = function() {return flatten(this)};\n",
        "\n",
        "function escapeRegExp(str) {\n",
        "  return str.replace(/[\\-\\[\\]\\/\\{\\}\\(\\)\\*\\+\\?\\.\\\\\\^\\$\\|]/g, \"\\\\$&\");\n",
        "}\n",
        "\n",
        "var walkSync = d => {\n",
        "    var reg = d.split('*').slice(1).join('[^/]*');\n",
        "    var dir = d.split('*')[0];\n",
        "    return flatten(fs.readdirSync(dir)\n",
        "    .filter(file => path.join(dir, file).match(reg))\n",
        "    .map(file => fs.statSync(path.join(dir, file)).isDirectory()\n",
        "        ? walkSync(path.join(dir, file))\n",
        "        : path.join(dir, file).replace(/\\\\/g, '/')));\n",
        "};\n",
        "commandRegistry['walkSync'] = walkSync;\n",
        "var notebooks = walkSync(path.resolve('**/*.ipynb'));\n",
        "console.log(notebooks);\n",
        "$$.done(walkSync);\n"
      ],
      "outputs": [],
      "execution_count": 8,
      "metadata": {
        "collapsed": false,
        "outputHidden": false,
        "inputHidden": false
      }
    },
    {
      "cell_type": "markdown",
      "source": [
        "How to find questions leading up to jupter cells?\n",
        "\n",
        "This is a complex question to answer.  Perhaps using IBM Watson language alchemy?\n"
      ],
      "metadata": {}
    },
    {
      "cell_type": "code",
      "source": [
        "// TODO: interpret markdown leading up to code results and find the resulting function in the list\n",
        "// for now, the boring solution is to assume all markdown output is a question?\n",
        "if (typeof markdownCache === 'undefined') {\n",
        "    var markdownCache = {};\n",
        "}\n",
        "if (typeof commandRegistry === 'undefined') {\n",
        "    var commandRegistry = {};\n",
        "}\n",
        "var interpretCells = (cells, notebook) => (resolve, reject) => {\n",
        "    var previous = [];\n",
        "    var commandsAdded = [];\n",
        "    var sourceCount = 0;\n",
        "    cells.forEach((cell) => {\n",
        "        var source = cell.source.join('').trim();\n",
        "        if(cell.cell_type == 'markdown') {\n",
        "            previous[previous.length] = source;\n",
        "        } else if (cell.cell_type == 'code') {\n",
        "            if (typeof commandRegistry[notebook+'['+sourceCount+']'] !== 'undefined') {\n",
        "                markdownCache[notebook+'['+sourceCount+']'] = previous;\n",
        "                commandsAdded[commandsAdded.length] = notebook+'['+sourceCount+']';\n",
        "                previous = [];\n",
        "            }\n",
        "            sourceCount++;\n",
        "        }\n",
        "    });\n",
        "    resolve(commandsAdded);\n",
        "};\n",
        "var cells = [\n",
        "    {cell_type: 'code', source: []},\n",
        "    {cell_type: 'markdown', source: [\"test for errors\"]},\n",
        "    {cell_type: 'code', source: [\"(function (err) { throw error; })\"]}\n",
        "];\n",
        "commandRegistry['How to test import[1]'] = cells[2].source.join('').trim();\n",
        "interpretCells(cells, 'How to test import')(() => {}, () => {});\n",
        "if(markdownCache['How to test import[1]'][0] == cells[1].source) {\n",
        "    commandRegistry['interpretCells'] = interpretCells;\n",
        "    $$.done(interpretCells);\n",
        "}\n",
        "\n"
      ],
      "outputs": [],
      "execution_count": 9,
      "metadata": {
        "collapsed": false,
        "outputHidden": false,
        "inputHidden": false
      }
    },
    {
      "cell_type": "markdown",
      "source": [
        "How to interpret a jupyter {directory}?"
      ],
      "metadata": {}
    },
    {
      "cell_type": "code",
      "source": [
        "var fs = require('fs');\n",
        "if(typeof commandRegistry === 'undefined') {\n",
        "    commandRegistry = {};\n",
        "}\n",
        "if(typeof markdownCache === 'undefined') {\n",
        "    markdownCache = {};\n",
        "}\n",
        "try {\n",
        "    var interpretDirectory = (dirname, onFileContent, onError) => {\n",
        "        var filenames = walkSync(dirname);\n",
        "        var imports = filenames.map(notebook => {\n",
        "            return importNotebook(notebook).then(() => notebook);\n",
        "        });\n",
        "        var cells = Promise.all(imports)\n",
        "            .then(notebooks => notebooks.map(notebook => {\n",
        "                return getCells(notebook, ['markdown', 'code'])\n",
        "                        .then(cells => interpretCells(cells, notebook));\n",
        "            }));\n",
        "        return cells.then(promises => Promise.all(promises))\n",
        "            .then(promises => runAllPromises(promises));\n",
        "    }\n",
        "    commandRegistry['interpretDirectory'] = interpretDirectory;\n",
        "    \n",
        "    // test to make sure it works\n",
        "    $$.async();\n",
        "    interpretDirectory(path.resolve('**/How to interpret questions.ipynb'))\n",
        "        .then((results) => {\n",
        "            console.log(Object.keys(markdownCache));\n",
        "            $$.done(interpretDirectory);\n",
        "        }).catch(e => $$.done(e));\n",
        "}catch(e) {\n",
        "    $$.done(e);\n",
        "}\n"
      ],
      "outputs": [],
      "execution_count": 10,
      "metadata": {
        "collapsed": false,
        "outputHidden": false,
        "inputHidden": false
      }
    },
    {
      "cell_type": "markdown",
      "source": [
        "How to use fuse.js to implement a simple search?\n",
        "\n",
        "How to find functions in jupyter notebooks?\n"
      ],
      "metadata": {}
    },
    {
      "cell_type": "code",
      "source": [
        "if (typeof interpret == 'undefined') {\n",
        "    require('child_process').execSync('npm install fuse.js');\n",
        "}\n",
        "if(typeof markdownCache === 'undefined') {\n",
        "    markdownCache = {};\n",
        "}\n",
        "var fuse;\n",
        "try {\n",
        "    var interpret = function (message) {\n",
        "        var headings = Object.keys(markdownCache).map((k) => ({\n",
        "            cell: k,\n",
        "            content: markdownCache[k].join('')\n",
        "        }));\n",
        "        var Fuse = require('fuse.js');\n",
        "        fuse = new Fuse(headings, {shouldSort: true, keys: ['content'], 'id': 'cell'});\n",
        "        return Promise.resolve(fuse.search(message));\n",
        "    };\n",
        "    commandRegistry['interpret'] = interpret;\n",
        "    $$.async();\n",
        "    interpret('test for errors').then(results => {\n",
        "        console.log(results.length + ' match found ' + results[0]);\n",
        "        $$.done(interpret);\n",
        "        return results;\n",
        "    });\n",
        "}\n",
        "catch (e) {\n",
        "    $$.done(e);\n",
        "}\n",
        "\n"
      ],
      "outputs": [],
      "execution_count": 15,
      "metadata": {
        "collapsed": false,
        "outputHidden": false,
        "inputHidden": false
      }
    },
    {
      "cell_type": "markdown",
      "source": [
        "How to answer questions using jupyter notebooks and simple search?"
      ],
      "metadata": {
        "collapsed": false,
        "outputHidden": false,
        "inputHidden": false
      }
    },
    {
      "cell_type": "code",
      "source": [
        "// TODO: function called intend() that errors out if there is not only 1 match with all supplied parameters, must specify the result in the index to not get this error.\n"
      ],
      "outputs": [],
      "execution_count": null,
      "metadata": {
        "collapsed": false,
        "outputHidden": false,
        "inputHidden": false
      }
    },
    {
      "cell_type": "code",
      "source": [],
      "outputs": [],
      "execution_count": null,
      "metadata": {
        "collapsed": false,
        "outputHidden": false,
        "inputHidden": false
      }
    },
    {
      "cell_type": "code",
      "source": [],
      "outputs": [],
      "execution_count": null,
      "metadata": {
        "collapsed": false,
        "outputHidden": false,
        "inputHidden": false
      }
    },
    {
      "cell_type": "code",
      "source": [],
      "outputs": [],
      "execution_count": null,
      "metadata": {
        "collapsed": false,
        "outputHidden": false,
        "inputHidden": false
      }
    }
  ],
  "metadata": {
    "kernelspec": {
      "name": "node_nteract",
      "language": "javascript",
      "display_name": "Node.js (nteract)"
    },
    "kernel_info": {
      "name": "node_nteract"
    },
    "language_info": {
      "name": "javascript",
      "version": "6.5.0",
      "mimetype": "application/javascript",
      "file_extension": ".js"
    }
  },
  "nbformat": 4,
  "nbformat_minor": 4
}