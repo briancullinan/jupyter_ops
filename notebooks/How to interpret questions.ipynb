{
  "cells": [
    {
      "cell_type": "markdown",
      "source": [
        "# How to interpret questions in jupyter notebooks?\n",
        "\n"
      ],
      "metadata": {}
    },
    {
      "cell_type": "code",
      "source": [
        "var fs = require('fs');\n",
        "var path = require('path');\n",
        "if (typeof importNotebook == 'undefined') {\n",
        "    // Does this work everywhere?\n",
        "    try {\n",
        "        var m, co = '', vm = require('vm');\n",
        "        var source = require('fs').readFileSync('How to find answers.ipynb').toString();\n",
        "        var re = new RegExp('\\\\s*\"cell_type\": \"code\",\\\\s*\"source\":\\\\s*\\\\[\\\\s*([\\\\s\\\\S]*?\\\\$\\\\$.done[\\\\s\\\\S]*?)\\\\s*\\\\]\\\\s*,\\s*', 'ig');\n",
        "        while (m = re.exec(source)) { co += (co == '' ? '' : ',\\n' ) + m[1] + ',\"\\\\n\"'; }\n",
        "        co = '\\n\\$$ = get$$();\\n\\n' + JSON.parse('['+co+']').join('') + '\\n\\n;';\n",
        "        global.getGlobal = () => global;\n",
        "        global.get$$ = () => {\n",
        "            var temp$$ = Object.assign({}, global.$$);\n",
        "            return Object.assign(temp$$, {\n",
        "                async: () => {},\n",
        "                done: (done) => {}\n",
        "            });\n",
        "        };\n",
        "        var tmpGlobal = Object.assign({}, global);\n",
        "        var context = vm.createContext(tmpGlobal);\n",
        "        (new vm.Script(co)).runInContext(context);\n",
        "        $$.async();\n",
        "        tmpGlobal.imports.then((done) => {\n",
        "            Object.assign(global, tmpGlobal.commandRegistry);\n",
        "            $$.done(done);\n",
        "        });\n",
        "    } catch (e) {\n",
        "        $$.done(e);\n",
        "    }\n",
        "}\n",
        "\n",
        "$$.done('interpreter is ready');\n"
      ],
      "outputs": [],
      "execution_count": 10,
      "metadata": {
        "collapsed": false,
        "outputHidden": false,
        "inputHidden": false
      }
    },
    {
      "cell_type": "markdown",
      "source": [
        "How to find all the notebooks and read markdown cells?\n",
        "\n",
        "How to get markdown from all notebooks in {directory}?\n"
      ],
      "metadata": {}
    },
    {
      "cell_type": "code",
      "source": [
        "\n",
        "var flatten = arr => arr.reduce((acc, val) => \n",
        "      acc.concat(Array.isArray(val) ? flatten(val) : val), []);\n",
        "\n",
        "Array.prototype.flatten = function() {return flatten(this)};\n",
        "\n",
        "function escapeRegExp(str) {\n",
        "  return str.replace(/[\\-\\[\\]\\/\\{\\}\\(\\)\\*\\+\\?\\.\\\\\\^\\$\\|]/g, \"\\\\$&\");\n",
        "}\n",
        "\n",
        "var walkSync = d => {\n",
        "    var reg = d.split('*').slice(1).join('[^/]*');\n",
        "    var dir = d.split('*')[0];\n",
        "    return flatten(fs.readdirSync(dir)\n",
        "    .filter(file => path.join(dir, file).match(reg))\n",
        "    .map(file => fs.statSync(path.join(dir, file)).isDirectory()\n",
        "        ? walkSync(path.join(dir, file))\n",
        "        : path.join(dir, file).replace(/\\\\/g, '/')));\n",
        "};\n",
        "commandRegistry['walkSync'] = walkSync;\n",
        "var notebooks = walkSync(path.resolve('**/*.ipynb'));\n",
        "console.log(notebooks);\n",
        "$$.done(walkSync);\n"
      ],
      "outputs": [],
      "execution_count": 11,
      "metadata": {
        "collapsed": false,
        "outputHidden": false,
        "inputHidden": false
      }
    },
    {
      "cell_type": "markdown",
      "source": [
        "How to find questions leading up to jupter cells?\n",
        "\n",
        "This is a complex question to answer.  Perhaps using IBM Watson language alchemy?\n"
      ],
      "metadata": {}
    },
    {
      "cell_type": "code",
      "source": [
        "// TODO: interpret markdown leading up to code results and find the resulting function in the list\n",
        "// for now, the boring solution is to assume all markdown output is a question?\n",
        "if (typeof markdownCache === 'undefined') {\n",
        "    var markdownCache = {};\n",
        "}\n",
        "if (typeof commandRegistry === 'undefined') {\n",
        "    var commandRegistry = {};\n",
        "}\n",
        "var interpretCells = (cells, notebook) => (resolve, reject) => {\n",
        "    var previous = [];\n",
        "    var sourceCount = 0;\n",
        "    cells.forEach((cell) => {\n",
        "        var source = cell.source.join('').trim();\n",
        "        if(cell.cell_type == 'markdown') {\n",
        "            previous[previous.length] = source;\n",
        "        } else if (cell.cell_type == 'code') {\n",
        "            if (typeof commandRegistry[notebook+'['+sourceCount+']'] !== 'undefined') {\n",
        "                markdownCache[notebook+'['+sourceCount+']'] = previous;\n",
        "                previous = [];\n",
        "            }\n",
        "            sourceCount++;\n",
        "        }\n",
        "    });\n",
        "    resolve(cells);\n",
        "};\n",
        "var cells = [\n",
        "    {cell_type: 'code', source: []},\n",
        "    {cell_type: 'markdown', source: [\"test for errors\"]},\n",
        "    {cell_type: 'code', source: [\"(function (err) { throw error; })\"]}\n",
        "];\n",
        "commandRegistry['How to test import[1]'] = cells[2].source.join('').trim();\n",
        "interpretCells(cells, 'How to test import')(() => {}, () => {});\n",
        "if(markdownCache['How to test import[1]'][0] == cells[1].source) {\n",
        "    commandRegistry['interpretCells'] = interpretCells;\n",
        "    $$.done(interpretCells);\n",
        "}\n",
        "\n"
      ],
      "outputs": [],
      "execution_count": 12,
      "metadata": {
        "collapsed": false,
        "outputHidden": false,
        "inputHidden": false
      }
    },
    {
      "cell_type": "markdown",
      "source": [
        "How to interpret a jupyter {directory}?"
      ],
      "metadata": {}
    },
    {
      "cell_type": "code",
      "source": [
        "var fs = require('fs');\n",
        "try {\n",
        "var interpretDirectory = (dirname, onFileContent, onError) => {\n",
        "    var filenames = walkSync(dirname);\n",
        "    console.log(filenames);\n",
        "    var interpretations = filenames.map(notebook => {\n",
        "        return getCells(notebook, ['markdown', 'code'])\n",
        "            .then((cells, notebook) => interpretCells(cells, notebook));\n",
        "    });\n",
        "    $$.done(interpretations);\n",
        "    return runAllPromises(Promise.all(interpretations));\n",
        "}\n",
        "commandRegistry['interpretDirectory'] = interpretDirectory;\n",
        "interpretDirectory(path.resolve('**/How to interpret questions.ipynb'))\n",
        "    .then((results) => {\n",
        "        console.log(results);\n",
        "        $$.done(interpretDirectory);\n",
        "    });\n",
        "}catch(e) {\n",
        "    $$.done(e);\n",
        "}\n"
      ],
      "outputs": [],
      "execution_count": 13,
      "metadata": {
        "collapsed": false,
        "outputHidden": false,
        "inputHidden": false
      }
    },
    {
      "cell_type": "code",
      "source": [],
      "outputs": [],
      "execution_count": 14,
      "metadata": {
        "collapsed": false,
        "outputHidden": false,
        "inputHidden": false
      }
    }
  ],
  "metadata": {
    "kernelspec": {
      "name": "node_nteract",
      "language": "javascript",
      "display_name": "Node.js (nteract)"
    },
    "kernel_info": {
      "name": "node_nteract"
    },
    "language_info": {
      "name": "javascript",
      "version": "6.5.0",
      "mimetype": "application/javascript",
      "file_extension": ".js"
    }
  },
  "nbformat": 4,
  "nbformat_minor": 4
}