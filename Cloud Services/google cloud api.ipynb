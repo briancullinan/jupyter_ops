{
 "cells": [
  {
   "cell_type": "markdown",
   "metadata": {},
   "source": [
    "add bucket url map?\n"
   ]
  },
  {
   "cell_type": "code",
   "execution_count": 1,
   "metadata": {},
   "outputs": [
    {
     "ename": "SyntaxError",
     "evalue": "missing ) after argument list",
     "output_type": "error",
     "traceback": [
      "evalmachine.<anonymous>:11",
      "        .then(headers => client.request({url })util.promisify(https.get)({",
      "                                              ^",
      "",
      "SyntaxError: missing ) after argument list",
      "    at createScript (vm.js:80:10)",
      "    at Object.runInThisContext (vm.js:139:10)",
      "    at run ([eval]:775:15)",
      "    at onRunRequest ([eval]:620:18)",
      "    at onMessage ([eval]:588:13)",
      "    at emitTwo (events.js:125:13)",
      "    at process.emit (events.js:213:7)",
      "    at emit (internal/child_process.js:774:12)",
      "    at _combinedTickCallback (internal/process/next_tick.js:141:11)",
      "    at process._tickCallback (internal/process/next_tick.js:180:9)"
     ]
    }
   ],
   "source": [
    "var PROFILE_PATH = process.env.HOME || process.env.HOMEPATH || process.env.USERPROFILE;\n",
    "var credentials = path.join(PROFILE_PATH, '.credentials/spahaha-ea443-a78ab2269985.json');\n",
    "var https = require('https');\n",
    "var util = require('util');\n",
    "var importer = require('../Core');\n",
    "var authorizeGoogle = importer.import('authorize google service');\n",
    "\n",
    "function listUrlMaps(project) {\n",
    "    console.log(project);\n",
    "    return authorizeGoogle(credentials)\n",
    "        .then(client => client.request({\n",
    "            url: `https://www.googleapis.com/compute/v1/projects/${project}/global/urlMaps`\n",
    "        }))\n",
    "        .then(res => res.data.items.map(i => i.name));\n",
    "}\n",
    "\n",
    "module.exports = listUrlMaps;\n"
   ]
  },
  {
   "cell_type": "markdown",
   "metadata": {},
   "source": [
    "how to authorize google services?"
   ]
  },
  {
   "cell_type": "code",
   "execution_count": null,
   "metadata": {},
   "outputs": [],
   "source": [
    "var {auth} = require('google-auth-library');\n",
    "var jwt_client, google_auth;\n",
    "var headers = {};\n",
    "var util = require('util');\n",
    "var GOOGLE_AUTH_SCOPE = [\n",
    "    'https://www.googleapis.com/auth/compute',\n",
    "    'https://www.googleapis.com/auth/cloud-platform'\n",
    "];\n",
    "\n",
    "/*\n",
    "function useServiceAccountAuth(creds) {\n",
    "    if (typeof creds == 'string') {\n",
    "        try {\n",
    "            creds = require(creds);\n",
    "        } catch (err) {\n",
    "            return cb(err);\n",
    "        }\n",
    "    }\n",
    "    jwt_client = new auth_client.JWT(creds.client_email, null, creds.private_key, GOOGLE_AUTH_SCOPE, null);\n",
    "    return renewJwtAuth();\n",
    "}\n",
    "\n",
    "function renewJwtAuth() {\n",
    "    return util.promisify(jwt_client.authorize)()\n",
    "        .then((token) => {\n",
    "            self.setAuthToken({\n",
    "                type: token.token_type,\n",
    "                value: token.access_token,\n",
    "                expires: token.expiry_date\n",
    "            });\n",
    "        });\n",
    "}\n",
    "\n",
    "function setAuthToken( auth ) {\n",
    "    google_auth = auth;\n",
    "    if (!options.visibility){\n",
    "        visibility = google_auth ? 'private' : 'public';\n",
    "    }\n",
    "    if (!options.projection){\n",
    "        projection = google_auth ? 'full' : 'values';\n",
    "    }\n",
    "}\n",
    "*/\n",
    "\n",
    "function authorizeGoogle(creds) {\n",
    "    return auth.getClient({\n",
    "        keyFile: creds,\n",
    "        scopes: GOOGLE_AUTH_SCOPE\n",
    "    });\n",
    "}\n",
    "\n",
    "module.exports = authorizeGoogle;\n"
   ]
  },
  {
   "cell_type": "markdown",
   "metadata": {},
   "source": [
    "test add bucket url map?\n"
   ]
  },
  {
   "cell_type": "code",
   "execution_count": null,
   "metadata": {},
   "outputs": [],
   "source": [
    "var assert = require('assert');\n",
    "var importer = require('../Core');\n",
    "var listUrlMaps = importer.import('add bucket url map');\n",
    "\n",
    "describe('adding a subdomain to a load balancer', () => {\n",
    "    \n",
    "    it('should list buckets maps', () => {\n",
    "        return listUrlMaps('spahaha-ea443')\n",
    "            .then(items => {\n",
    "                console.log(items);\n",
    "                assert(items.length > 0, 'should have a url mapper');\n",
    "            })\n",
    "    })\n",
    "    \n",
    "    \n",
    "})\n"
   ]
  }
 ],
 "metadata": {
  "kernelspec": {
   "display_name": "Javascript (Node.js)",
   "language": "javascript",
   "name": "javascript"
  },
  "language_info": {
   "file_extension": ".js",
   "mimetype": "application/javascript",
   "name": "javascript",
   "version": "8.6.0"
  }
 },
 "nbformat": 4,
 "nbformat_minor": 2
}
