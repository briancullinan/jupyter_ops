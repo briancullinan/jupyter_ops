{
 "cells": [
  {
   "cell_type": "markdown",
   "metadata": {},
   "source": [
    "firebase rpc wrapper?\n"
   ]
  },
  {
   "cell_type": "code",
   "execution_count": null,
   "metadata": {},
   "outputs": [],
   "source": [
    "var cors = require('cors')({origin: true});\n",
    "var process = require('process');\n",
    "var functions = require('firebase-functions');\n",
    "var admin = require('firebase-admin');\n",
    "var importer = require('../Core');\n",
    "var getResult = importer.import('rpc result');\n",
    "\n",
    "try {\n",
    "    admin.initializeApp(functions.config().firebase);\n",
    "} catch (e) {\n",
    "    console.log(e);\n",
    "}\n",
    "\n",
    "if(typeof module.exports === 'undefined') {\n",
    "    module.exports = {};\n",
    "}\n",
    "\n",
    "module.exports.rpc = functions.https.onRequest((req, res) => {\n",
    "    process.env.HOME = process.env.HOMEPATH = process.env.USERPROFILE = '';\n",
    "    const config = functions.config();\n",
    "    const services = Object.keys(config).reduce(k => {\n",
    "        Object.keys(config[k]).forEach(s => {\n",
    "            process.env[k.toUpperCase() + '_' + s.toUpperCase()] = config[k][s];\n",
    "        });\n",
    "    });\n",
    "    \n",
    "    cors(req, res, () => {\n",
    "        return Promise.resolve([])\n",
    "            .then(() => getResult({\n",
    "                command: req.body['function'] || req.query['function'],\n",
    "                result: importer.interpret(req.body['function'] || req.query['function']),\n",
    "                body: req.method === 'POST' ? req.body : req.query,\n",
    "                circles: ['Public']\n",
    "            }))\n",
    "            .then(r => {\n",
    "                const result = Object.getOwnPropertyNames(r).reduce((alt, key) => {\n",
    "                    alt[key] = r[key] + '';\n",
    "                    return alt;\n",
    "                }, {});\n",
    "                console.error(result);\n",
    "                return res.status(200).send(r);\n",
    "            })\n",
    "            // TODO: object assign error?\n",
    "            .catch(e => { \n",
    "                const result = Object.getOwnPropertyNames(e).reduce((alt, key) => {\n",
    "                    alt[key] = e[key] + '';\n",
    "                    return alt;\n",
    "                }, {});\n",
    "                console.error(result);\n",
    "                return res.status(500).send(result);\n",
    "            });\n",
    "    });\n",
    "})\n"
   ]
  },
  {
   "cell_type": "markdown",
   "metadata": {},
   "source": [
    "google cloud function rpc wrapper?\n"
   ]
  },
  {
   "cell_type": "code",
   "execution_count": null,
   "metadata": {},
   "outputs": [],
   "source": [
    "var cookie = require('cookie');\n",
    "var cors = require('cors')({origin: true});\n",
    "var importer = require('../Core');\n",
    "var getResult = importer.import('rpc result');\n",
    "var getEnvironment = importer.import('get environment');\n",
    "\n",
    "var expressToResult = (req, res) => getResult({\n",
    "    command: (req.body || {})['function'] || (req.query || {})['function'],\n",
    "    result: importer.interpret((req.body || {})['function'] || (req.query || {})['function']),\n",
    "    body: req.method === 'POST' ? req.body : req.query,\n",
    "    circles: ['Public']\n",
    "})\n",
    "\n",
    "var logResult = (r) => {\n",
    "    // TODO: call storeResult()?\n",
    "    var result = typeof r === 'object'\n",
    "        ? Object.keys(r).reduce((alt, key) => {\n",
    "            alt[key] = r[key] + '';\n",
    "            return alt;\n",
    "        }, {})\n",
    "        : ('' + r);\n",
    "    console.log(result);\n",
    "    return result;\n",
    "}\n",
    "\n",
    "function expressHandler(req, res) {\n",
    "    getEnvironment();\n",
    "    req.cookies = cookie.parse(req.get('cookie') || '');\n",
    "    res.setHeader('Cache-Control', 'private');\n",
    "    cors(req, res, () => {});\n",
    "    return Promise.resolve()\n",
    "        .then(() => expressToResult(req, res))\n",
    "        .then(r => (res.status(200), r))\n",
    "        .catch(e => (res.status(500), e))\n",
    "        .then(r => logResult(r))\n",
    "        .then(r => res.send(r));\n",
    "}\n",
    "\n",
    "module.exports.handler = expressHandler;\n",
    "\n"
   ]
  },
  {
   "cell_type": "markdown",
   "metadata": {},
   "source": [
    "test google express rpc handler?\n"
   ]
  },
  {
   "cell_type": "code",
   "execution_count": null,
   "metadata": {},
   "outputs": [],
   "source": [
    "var importer = require('../Core');\n",
    "var {handler} = importer.import('google cloud function rpc wrapper');\n",
    "\n",
    "if(typeof $$ !== 'undefined') {\n",
    "    $$.async();\n",
    "    handler({\n",
    "        headers: {origin: 'google.com'},\n",
    "        get: r => null,\n",
    "        query: {\n",
    "            function: 'create a copy of study sauce template',\n",
    "            email: 'megamindbrian@gmail.com'\n",
    "        }\n",
    "    }, {\n",
    "        getHeader: h => {},\n",
    "        setHeader: h => console.log(`header ${h}`),\n",
    "        status: s => console.log(`status ${s}`),\n",
    "        send: r => console.log(r)\n",
    "    })\n",
    "        .then(r => $$.sendResult(r))\n",
    "        .catch(e => $$.sendError(e))\n",
    "}\n"
   ]
  },
  {
   "cell_type": "markdown",
   "metadata": {},
   "source": [
    "generic gcloud function handler?\n",
    "\n"
   ]
  },
  {
   "cell_type": "code",
   "execution_count": 9,
   "metadata": {},
   "outputs": [
    {
     "name": "stdout",
     "output_type": "stream",
     "text": [
      "importing nice name,get exports,get parameters,select ast - 4 cells - notebook.ipynb[13],syntax.ipynb[5],syntax.ipynb[7],syntax.ipynb[20]\n"
     ]
    },
    {
     "data": {
      "text/plain": [
       "{\n",
       "  makeHandler: [Function: makeHandler],\n",
       "  handler: [AsyncFunction: handler]\n",
       "}"
      ]
     },
     "execution_count": 9,
     "metadata": {},
     "output_type": "execute_result"
    }
   ],
   "source": [
    "var importer = require('../Core')\n",
    "var {selectAst} = importer.import('select ast')\n",
    "var {\n",
    "    niceName, getExports, getParameters\n",
    "} = importer.import(['nice name', 'get exports', 'get parameters'])\n",
    "\n",
    "async function handler(req, res) {\n",
    "    if(!req && process.stdout.isTTY) {\n",
    "        res = {}\n",
    "        req = {query: {}, body: {}, form: {}}\n",
    "        Array.from(process.argv).forEach(arg => {\n",
    "            req.query[arg.split('=')[0]] = arg.split('=').slice(1).join('=')\n",
    "        })\n",
    "    }\n",
    "    res.set('Access-Control-Allow-Origin', '*')\n",
    "    var parameters = Object.values(req.query || {})\n",
    "        .concat(Object.values(req.body || {}))\n",
    "        .concat(Object.values(req.form || {}))\n",
    "    \n",
    "    var func = require('./entry.js')\n",
    "    return await func(...parameters)\n",
    "        .then(r => !res ? console.log(r) : res.status(200).send(r))\n",
    "        .catch(e => !res ? console.log(e) : res.status(500).send(e))\n",
    "}\n",
    "\n",
    "// use syntax to alter the function handler above\n",
    "//  to pull out parameters and call the requested function\n",
    "//  slightly simpler code than including the entire library\n",
    "function makeHandler(entry) {\n",
    "    var thisCell = importer.interpret('generic cloud function handler')\n",
    "    if(!Array.isArray(entry)) {\n",
    "        entry = [entry]\n",
    "    }\n",
    "    var exports = []\n",
    "    var interpret = importer.interpret(entry)\n",
    "    var handlers = interpret.map(cell => {\n",
    "        // replace the require statement\n",
    "        // TODO: make this part generic, moving vars to parameters\n",
    "        var doc = selectAst('.', handler.toString())\n",
    "\n",
    "        var exportsName = getExports(cell.code)[0]\n",
    "        exports.push(exportsName + 'Handler')\n",
    "        var functionStmt = selectAst(`\n",
    "//FunctionDeclaration/Identifier[@name=\"handler\"]`, doc)\n",
    "        functionStmt.setAttribute('name', exportsName + 'Handler')\n",
    "        var parameters = getParameters(cell.code).slice(1)\n",
    "\n",
    "        // replace the parameters with names\n",
    "        var replaceParams = selectAst('//VariableDeclaration', `\n",
    "var parameters = [${parameters\n",
    "            .map(p => `(req.body || {})['${p}'] || (req.form || {})['${p}'] || (req.query || {})['${p}']`)\n",
    "            .join(',\\n')}]`)\n",
    "        \n",
    "        var assignmentStmt = selectAst([`//VariableDeclaration[./*/*[@name = \"parameters\"]]`], doc)\n",
    "        assignmentStmt[0].replaceWith(replaceParams)\n",
    "        \n",
    "        var requireStmt = selectAst(`//VariableDeclaration[./*/*[@name = \"func\"]]`, doc)\n",
    "        var replaceRequire = selectAst('//VariableDeclaration', `\n",
    "var ${exportsName} = require('./${niceName(cell)}')`)\n",
    "        requireStmt.replaceWith(replaceRequire)\n",
    "                \n",
    "        // replace function call with new named\n",
    "        var callStmt = selectAst(`//CallExpression/Identifier[@name = \"func\"]`, doc)\n",
    "        callStmt.setAttribute('name', exportsName)\n",
    "        return doc.ownerDocument.toString()\n",
    "    }).join('\\n\\n')\n",
    "    return `${handlers}\n",
    "\n",
    "module.exports = {\n",
    "    ${exports.join(',\\n    ')}\n",
    "}`\n",
    "}\n",
    "\n",
    "module.exports = {\n",
    "    makeHandler,\n",
    "    handler\n",
    "}\n"
   ]
  },
  {
   "cell_type": "markdown",
   "metadata": {},
   "source": [
    "#### test google handler\n"
   ]
  },
  {
   "cell_type": "code",
   "execution_count": 21,
   "metadata": {},
   "outputs": [
    {
     "name": "stdout",
     "output_type": "stream",
     "text": [
      "importing generic gcloud function handler - 1 cell - google rpc.ipynb[3]\n",
      "compiling /Users/briancullinan/jupyter_ops/Cloud Services/google rpc.ipynb[3] aka generic gcloud function handler with module,importer,exports,__dirname,__filename,$$\n",
      "importing nice name,get exports,get parameters,select ast - 4 cells - notebook.ipynb[13],syntax.ipynb[5],syntax.ipynb[7],syntax.ipynb[20]\n"
     ]
    },
    {
     "data": {
      "text/plain": [
       "'async function gitEditorHandler(req, res) {\\n' +\n",
       "  \"    res.set('Access-Control-Allow-Origin', '*');\\n\" +\n",
       "  '    if (!req && process.stdout.isTTY) {\\n' +\n",
       "  '        req = {\\n' +\n",
       "  '            query: {},\\n' +\n",
       "  '            body: {},\\n' +\n",
       "  '            form: {}\\n' +\n",
       "  '        };\\n' +\n",
       "  '        Array.from(process.argv).forEach(arg => {\\n' +\n",
       "  \"            req.query[arg.split('=')[0]] = arg.split('=').slice(1).join('=');\\n\" +\n",
       "  '        });\\n' +\n",
       "  '    }\\n' +\n",
       "  '    var parameters = [\\n' +\n",
       "  \"        req.body['url'] || req.form['url'] || req.query['url'],\\n\" +\n",
       "  \"        req.body['gist'] || req.form['gist'] || req.query['gist']\\n\" +\n",
       "  '    ];\\n' +\n",
       "  \"    var gitEditor = require('./load-ckeditor.js');\\n\" +\n",
       "  '    return await gitEditor(...parameters).then(r => !res ? console.log(r) : res.status(200).send(r)).catch(e => !res ? console.log(e) : res.status(500).send(e));\\n' +\n",
       "  '}\\n' +\n",
       "  '\\n' +\n",
       "  'module.exports = {\\n' +\n",
       "  '    gitEditorHandler\\n' +\n",
       "  '}'"
      ]
     },
     "execution_count": 21,
     "metadata": {},
     "output_type": "execute_result"
    }
   ],
   "source": [
    "var importer = require('../Core')\n",
    "var {selectAst} = importer.import('select code tree')\n",
    "var {handler, makeHandler} = importer.import('generic gcloud function handler')\n",
    "\n",
    "//var testFunc = importer.interpret('load ckeditor')\n",
    "//console.log(handler.toString())\n",
    "//var doc = selectAst('.', handler.toString())\n",
    "//console.log(assignmentStmt[0].ownerDocument.toString(assignmentStmt[0]))\n",
    "makeHandler('load ckeditor')\n",
    "\n",
    "\n"
   ]
  }
 ],
 "metadata": {
  "kernelspec": {
   "display_name": "Javascript (Node.js)",
   "language": "javascript",
   "name": "javascript"
  },
  "language_info": {
   "file_extension": ".js",
   "mimetype": "application/javascript",
   "name": "javascript",
   "version": "12.7.0"
  }
 },
 "nbformat": 4,
 "nbformat_minor": 2
}
