{
 "cells": [
  {
   "cell_type": "markdown",
   "metadata": {},
   "source": [
    "firebase rpc wrapper?\n"
   ]
  },
  {
   "cell_type": "code",
   "execution_count": null,
   "metadata": {},
   "outputs": [],
   "source": [
    "var cors = require('cors')({origin: true});\n",
    "var process = require('process');\n",
    "var functions = require('firebase-functions');\n",
    "var admin = require('firebase-admin');\n",
    "var importer = require('../Core');\n",
    "var getResult = importer.import('rpc result');\n",
    "\n",
    "try {\n",
    "    admin.initializeApp(functions.config().firebase);\n",
    "} catch (e) {\n",
    "    console.log(e);\n",
    "}\n",
    "\n",
    "if(typeof module.exports === 'undefined') {\n",
    "    module.exports = {};\n",
    "}\n",
    "\n",
    "module.exports.rpc = functions.https.onRequest((req, res) => {\n",
    "    process.env.HOME = process.env.HOMEPATH = process.env.USERPROFILE = '';\n",
    "    const config = functions.config();\n",
    "    const services = Object.keys(config).reduce(k => {\n",
    "        Object.keys(config[k]).forEach(s => {\n",
    "            process.env[k.toUpperCase() + '_' + s.toUpperCase()] = config[k][s];\n",
    "        });\n",
    "    });\n",
    "    \n",
    "    cors(req, res, () => {\n",
    "        return Promise.resolve([])\n",
    "            .then(() => getResult({\n",
    "                command: req.body['function'] || req.query['function'],\n",
    "                result: importer.interpret(req.body['function'] || req.query['function']),\n",
    "                body: req.method === 'POST' ? req.body : req.query,\n",
    "                circles: ['Public']\n",
    "            }))\n",
    "            .then(r => {\n",
    "                const result = Object.getOwnPropertyNames(r).reduce((alt, key) => {\n",
    "                    alt[key] = r[key] + '';\n",
    "                    return alt;\n",
    "                }, {});\n",
    "                console.error(result);\n",
    "                return res.status(200).send(r);\n",
    "            })\n",
    "            // TODO: object assign error?\n",
    "            .catch(e => { \n",
    "                const result = Object.getOwnPropertyNames(e).reduce((alt, key) => {\n",
    "                    alt[key] = e[key] + '';\n",
    "                    return alt;\n",
    "                }, {});\n",
    "                console.error(result);\n",
    "                return res.status(500).send(result);\n",
    "            });\n",
    "    });\n",
    "})\n"
   ]
  },
  {
   "cell_type": "markdown",
   "metadata": {},
   "source": [
    "google cloud function rpc wrapper?\n"
   ]
  },
  {
   "cell_type": "code",
   "execution_count": null,
   "metadata": {},
   "outputs": [],
   "source": [
    "var cookie = require('cookie');\n",
    "var cors = require('cors')({origin: true});\n",
    "var importer = require('../Core');\n",
    "var getResult = importer.import('rpc result');\n",
    "var getEnvironment = importer.import('get environment');\n",
    "\n",
    "var expressToResult = (req, res) => getResult({\n",
    "    command: (req.body || {})['function'] || (req.query || {})['function'],\n",
    "    result: importer.interpret((req.body || {})['function'] || (req.query || {})['function']),\n",
    "    body: req.method === 'POST' ? req.body : req.query,\n",
    "    circles: ['Public']\n",
    "})\n",
    "\n",
    "var logResult = (r) => {\n",
    "    // TODO: call storeResult()?\n",
    "    var result = typeof r === 'object'\n",
    "        ? Object.keys(r).reduce((alt, key) => {\n",
    "            alt[key] = r[key] + '';\n",
    "            return alt;\n",
    "        }, {})\n",
    "        : ('' + r);\n",
    "    console.log(result);\n",
    "    return result;\n",
    "}\n",
    "\n",
    "function expressHandler(req, res) {\n",
    "    getEnvironment();\n",
    "    req.cookies = cookie.parse(req.get('cookie') || '');\n",
    "    res.setHeader('Cache-Control', 'private');\n",
    "    cors(req, res, () => {});\n",
    "    return Promise.resolve()\n",
    "        .then(() => expressToResult(req, res))\n",
    "        .then(r => (res.status(200), r))\n",
    "        .catch(e => (res.status(500), e))\n",
    "        .then(r => logResult(r))\n",
    "        .then(r => res.send(r));\n",
    "}\n",
    "\n",
    "module.exports.handler = expressHandler;\n",
    "\n"
   ]
  },
  {
   "cell_type": "markdown",
   "metadata": {},
   "source": [
    "test google express rpc handler?\n"
   ]
  },
  {
   "cell_type": "code",
   "execution_count": null,
   "metadata": {},
   "outputs": [],
   "source": [
    "var importer = require('../Core');\n",
    "var {handler} = importer.import('google cloud function rpc wrapper');\n",
    "\n",
    "if(typeof $$ !== 'undefined') {\n",
    "    $$.async();\n",
    "    handler({\n",
    "        headers: {origin: 'google.com'},\n",
    "        get: r => null,\n",
    "        query: {\n",
    "            function: 'create a copy of study sauce template',\n",
    "            email: 'megamindbrian@gmail.com'\n",
    "        }\n",
    "    }, {\n",
    "        getHeader: h => {},\n",
    "        setHeader: h => console.log(`header ${h}`),\n",
    "        status: s => console.log(`status ${s}`),\n",
    "        send: r => console.log(r)\n",
    "    })\n",
    "        .then(r => $$.sendResult(r))\n",
    "        .catch(e => $$.sendError(e))\n",
    "}\n"
   ]
  },
  {
   "cell_type": "code",
   "execution_count": null,
   "metadata": {},
   "outputs": [],
   "source": []
  }
 ],
 "metadata": {
  "kernelspec": {
   "display_name": "Javascript (Node.js)",
   "language": "javascript",
   "name": "javascript"
  },
  "language_info": {
   "file_extension": ".js",
   "mimetype": "application/javascript",
   "name": "javascript",
   "version": "10.16.0"
  }
 },
 "nbformat": 4,
 "nbformat_minor": 2
}
