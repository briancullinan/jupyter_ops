{
 "cells": [
  {
   "cell_type": "markdown",
   "metadata": {},
   "source": [
    "upload output to google cloud storage?\n"
   ]
  },
  {
   "cell_type": "code",
   "execution_count": 1,
   "metadata": {},
   "outputs": [
    {
     "name": "stdout",
     "output_type": "stream",
     "text": [
      "CommandException: arg (./.output) does not name a directory, bucket, or bucket subdir.\n"
     ]
    },
    {
     "ename": "",
     "evalue": "1",
     "output_type": "error",
     "traceback": []
    }
   ],
   "source": [
    "if [[ -n $1 ]]; \\\n",
    "   then gsutil rsync -R \"$1\" \"$2\"; \\\n",
    "fi;\n"
   ]
  },
  {
   "cell_type": "markdown",
   "metadata": {},
   "source": [
    "add public permissions to google cloud storage?\n"
   ]
  },
  {
   "cell_type": "code",
   "execution_count": 1,
   "metadata": {},
   "outputs": [
    {
     "name": "stdout",
     "output_type": "stream",
     "text": [
      "\n",
      "\n",
      "Updates are available for some Cloud SDK components.  To install them,\n",
      "please run:\n",
      "  $ gcloud components update\n",
      "\n",
      "Updated default ACL on gs://sheet-to-web.sheet-to-web.com/\n",
      "Updated ACL on gs://sheet-to-web.sheet-to-web.com/app.html\n",
      "Updated ACL on gs://sheet-to-web.sheet-to-web.com/marketing-script.js\n",
      "Updated ACL on gs://sheet-to-web.sheet-to-web.com/marketing-site.css\n"
     ]
    }
   ],
   "source": [
    "if [[ -n $1 ]]; \\\n",
    "    then gsutil defacl ch -u AllUsers:R \"$1\" && \\\n",
    "    gsutil acl ch -u AllUsers:R \"$1/**\"; \\\n",
    "fi;\n"
   ]
  },
  {
   "cell_type": "markdown",
   "metadata": {},
   "source": [
    "copy html to google cloud storage?\n"
   ]
  },
  {
   "cell_type": "code",
   "execution_count": 42,
   "metadata": {},
   "outputs": [
    {
     "name": "stdout",
     "output_type": "stream",
     "text": [
      "product/apricot-moisturizer-refill\n",
      "product/apricot-moisturizer\n",
      "shop\n",
      "app\n"
     ]
    }
   ],
   "source": [
    "output=\"../.output\"; \\\n",
    "if [[ -n $1 ]]; \\\n",
    "    then output=$1; \\\n",
    "fi; \\\n",
    "for file in $(find \"$output\" -type f -name \"*.html\"); \\\n",
    "do \\\n",
    "    f=${file#\"$output\"/*} && \\\n",
    "    gsutil setmeta -h \"Content-Type:text/html; charset=utf-8\" \"$2/$f\" && \\\n",
    "    gsutil -h \"Content-Type:text/html; charset=utf-8\" cp \"$file\" \"$2/${f%.*}\"; \\\n",
    "done\n"
   ]
  },
  {
   "cell_type": "markdown",
   "metadata": {},
   "source": [
    "test command arguments?\n"
   ]
  },
  {
   "cell_type": "code",
   "execution_count": 26,
   "metadata": {},
   "outputs": [
    {
     "name": "stdout",
     "output_type": "stream",
     "text": [
      "\n",
      "\n",
      "\n"
     ]
    }
   ],
   "source": [
    "echo \"$1\"\n",
    "echo \"$2\"\n",
    "echo \"$3\"\n"
   ]
  },
  {
   "cell_type": "markdown",
   "metadata": {},
   "source": [
    "deploy a cloud function?"
   ]
  },
  {
   "cell_type": "code",
   "execution_count": null,
   "metadata": {},
   "outputs": [],
   "source": [
    "gcloud functions deploy $1 --entry-point handler --runtime nodejs8 --trigger-http --source ./.functions\n"
   ]
  }
 ],
 "metadata": {
  "kernelspec": {
   "display_name": "Bash",
   "language": "bash",
   "name": "bash"
  },
  "language_info": {
   "codemirror_mode": "shell",
   "file_extension": ".sh",
   "mimetype": "text/x-sh",
   "name": "bash"
  }
 },
 "nbformat": 4,
 "nbformat_minor": 2
}
