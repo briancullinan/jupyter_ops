{
 "cells": [
  {
   "cell_type": "markdown",
   "metadata": {},
   "source": [
    "aws rpc wrapper?\n"
   ]
  },
  {
   "cell_type": "code",
   "execution_count": null,
   "metadata": {
    "collapsed": true
   },
   "outputs": [],
   "source": [
    "var importer = require('../Core');\n",
    "var assert = require('assert');\n",
    "var getResult = importer.import('rpc result');\n",
    "\n",
    "function handler(event, context, callback) {\n",
    "    var body = event || {};\n",
    "    try {\n",
    "        if (event.body || event.queryStringParameters) {\n",
    "            body = Object.assign(event.body || {}, event.queryStringParameters || {});\n",
    "        }\n",
    "\n",
    "        assert(body.function, 'something is wrong with your search ' + JSON.stringify(body));\n",
    "        assert(importer.interpret(body.function).id, 'something is terribly wrong with function lookup ' + importer.interpret(body.function))\n",
    "    }\n",
    "    catch(e) {\n",
    "        callback(e, {\n",
    "            'statusCode': 500,\n",
    "            'headers': { \n",
    "                'Content-Type': 'application/json',\n",
    "                'Access-Control-Allow-Origin': '*'\n",
    "            },\n",
    "            'body': JSON.stringify({'Error': e.message})\n",
    "        })\n",
    "        return;\n",
    "    }\n",
    "    \n",
    "    // TODO: add Eloqua Notify service entry point for retrieving temporary data?\n",
    "    // TODO: parse action and call from notify service or call with posted data?\n",
    "    // TODO: add an entry point for Zuora subscription callout to update single records in eloqua?\n",
    "    return Promise.resolve([])\n",
    "        .then(() => getResult({\n",
    "            command: body['function'],\n",
    "            result: importer.interpret(body['function']),\n",
    "            body: body,\n",
    "            circles: ['Public']\n",
    "        }))\n",
    "        .then(r => callback(null, {\n",
    "            'statusCode': 200,\n",
    "            'headers': { \n",
    "                'Content-Type': 'application/json',\n",
    "                'Access-Control-Allow-Origin': '*'\n",
    "            },\n",
    "            'body': JSON.stringify(r, null, 4)\n",
    "        }))\n",
    "        // TODO: object assign error?\n",
    "        .catch(e => callback(e, {\n",
    "            'statusCode': 500,\n",
    "            'headers': { \n",
    "                'Content-Type': 'application/json',\n",
    "                'Access-Control-Allow-Origin': '*'\n",
    "            },\n",
    "            'body': JSON.stringify({'Error': e.message})\n",
    "        }));\n",
    "}\n",
    "\n",
    "if(typeof module.exports === 'undefined') {\n",
    "    module.exports = {};\n",
    "}\n",
    "module.exports.handler = handler;\n"
   ]
  },
  {
   "cell_type": "markdown",
   "metadata": {},
   "source": [
    "latest s3 bucket?\n"
   ]
  },
  {
   "cell_type": "code",
   "execution_count": 2,
   "metadata": {},
   "outputs": [
    {
     "data": {
      "text/plain": [
       "[ 'https://s3-us-west-2.amazonaws.com/selenium-bots/screenshot-2018-1-15-0-12-9.png',\n",
       "  'https://s3-us-west-2.amazonaws.com/selenium-bots/screenshot-2018-1-15-0-12-10.png',\n",
       "  'https://s3-us-west-2.amazonaws.com/selenium-bots/screenshot-2018-1-15-0-10-10.png',\n",
       "  'https://s3-us-west-2.amazonaws.com/selenium-bots/screenshot-2018-1-15-0-10-11.png',\n",
       "  'https://s3-us-west-2.amazonaws.com/selenium-bots/screenshot-2018-1-15-0-8-11.png' ]"
      ]
     },
     "execution_count": 2,
     "metadata": {},
     "output_type": "execute_result"
    }
   ],
   "source": [
    "var fs = require('fs');\n",
    "var path = require('path');\n",
    "var minimatch = require(\"minimatch\")\n",
    "var AWS = require('aws-sdk');\n",
    "var importer = require('../Core');\n",
    "var s3 = new AWS.S3();\n",
    "\n",
    "// For dev purposes only\n",
    "var AWS_HTTP = 'https://s3-us-west-2.amazonaws.com/selenium-bots/';\n",
    "var PROFILE_PATH = process.env.HOME || process.env.HOMEPATH || process.env.USERPROFILE || '';\n",
    "var key = JSON.parse(fs.readFileSync(path.join(PROFILE_PATH, '.credentials/aws-sdk.json')).toString());\n",
    "AWS.config.update(key);\n",
    "\n",
    "function getS3Objects(bucket, marker) {\n",
    "    return new Promise((resolve, reject) => s3.listObjects({\n",
    "        Bucket: bucket || 'selenium-bots',\n",
    "        Prefix: '',\n",
    "        Marker: marker\n",
    "    }, function (err, resp) {\n",
    "        if(err) {\n",
    "            return reject(err);\n",
    "        }\n",
    "        return resolve(resp);\n",
    "    }))\n",
    "    .then(resp => {\n",
    "        if(resp.IsTruncated) {\n",
    "            return getS3Objects(bucket, resp.Contents[resp.Contents.length-1].Key)\n",
    "                .then(contents => resp.Contents.concat(contents));\n",
    "        }\n",
    "        return resp.Contents;\n",
    "    })\n",
    "}\n",
    "\n",
    "function latestS3(match, bucket) {\n",
    "    return getS3Objects(bucket)\n",
    "        .then(files => {\n",
    "            return files.sort((a, b) => b.LastModified.getTime() - a.LastModified.getTime())\n",
    "               .filter(s => !match || minimatch(s.Key, match))\n",
    "               .slice(0, 5)\n",
    "               .map(i => AWS_HTTP + i.Key)\n",
    "        });\n",
    "}\n",
    "module.exports = latestS3;\n",
    "\n",
    "if(typeof $$ !== 'undefined') {\n",
    "    $$.async();\n",
    "    latestS3()\n",
    "        .then(r => $$.sendResult(r))\n",
    "        .catch(e => $$.sendError(e))\n",
    "}\n"
   ]
  },
  {
   "cell_type": "code",
   "execution_count": null,
   "metadata": {
    "collapsed": true
   },
   "outputs": [],
   "source": [
    "var aws = require('aws-sdk');\n",
    "var lambda = new aws.Lambda({\n",
    "  region: 'us-west-2' //change to your region\n",
    "});\n",
    "\n",
    "lambda.invoke({\n",
    "  FunctionName: 'name_of_your_lambda_function',\n",
    "  Payload: JSON.stringify(event, null, 2) // pass params\n",
    "}, function(error, data) {\n",
    "  if (error) {\n",
    "    context.done('error', error);\n",
    "  }\n",
    "  if(data.Payload){\n",
    "   context.succeed(data.Payload)\n",
    "  }\n",
    "});"
   ]
  }
 ],
 "metadata": {
  "kernelspec": {
   "display_name": "Javascript (Node.js)",
   "language": "javascript",
   "name": "javascript"
  },
  "language_info": {
   "file_extension": ".js",
   "mimetype": "application/javascript",
   "name": "javascript",
   "version": "10.15.3"
  }
 },
 "nbformat": 4,
 "nbformat_minor": 2
}
