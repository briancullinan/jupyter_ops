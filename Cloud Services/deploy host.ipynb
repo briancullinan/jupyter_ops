{
 "cells": [
  {
   "cell_type": "markdown",
   "metadata": {},
   "source": [
    "deploy aws?\n"
   ]
  },
  {
   "cell_type": "code",
   "execution_count": null,
   "metadata": {
    "collapsed": true
   },
   "outputs": [],
   "source": [
    "function deployAws() {\n",
    "    return execCmd(os.platform() === 'win32' ? `\n",
    "powershell.exe -nologo -noprofile -command \"& { \\\n",
    "    Add-Type -A 'System.IO.Compression.FileSystem'; \\\n",
    "    Remove-Item –path index.zip –recurse -erroraction 'silentlycontinue'; \\\n",
    "    $files = @('index.js', 'eloqua-service.js', 'eloqua-create.js', 'eloqua-mapper.js', 'https-request-polyfill.js', 'sync-zuora-eloqua.js', 'zuora-service.js', 'zuora-renewals-query.js', 'package.json', 'package-lock.json'); \\\n",
    "    $files | Compress-Archive -DestinationPath index.zip; \\\n",
    "    & aws lambda update-function-code --region us-west-2 --function-name eloqua_test --zip-file fileb://index.zip; \\\n",
    "}\"` : `\n",
    "rm index.zip \n",
    "zip ./index.zip -r index.js eloqua-service.js eloqua-create.js eloqua-mapper.js https-request-polyfill.js sync-zuora-eloqua.js zuora-service.js zuora-renewals-query.js package.json package-lock.json\n",
    "aws lambda update-function-code --region us-west-2 --function-name eloqua_test --zip-file fileb://index.zip\n",
    "`, {cwd: PROJECT_PATH});\n",
    "}\n"
   ]
  },
  {
   "cell_type": "markdown",
   "metadata": {},
   "source": [
    "powershell zip"
   ]
  },
  {
   "cell_type": "code",
   "execution_count": null,
   "metadata": {},
   "outputs": [],
   "source": [
    "powershell.exe -nologo -noprofile -command \"& { Add-Type -A 'System.IO.Compression.FileSystem'; @('notify.bundle.js') | Compress-Archive -DestinationPath index.zip; }\""
   ]
  }
 ],
 "metadata": {
  "kernelspec": {
   "display_name": "Javascript (Node.js)",
   "language": "javascript",
   "name": "javascript"
  },
  "language_info": {
   "file_extension": ".js",
   "mimetype": "application/javascript",
   "name": "javascript",
   "version": "8.6.0"
  }
 },
 "nbformat": 4,
 "nbformat_minor": 2
}
