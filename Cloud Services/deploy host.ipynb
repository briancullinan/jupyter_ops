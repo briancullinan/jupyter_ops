{
 "cells": [
  {
   "cell_type": "markdown",
   "metadata": {},
   "source": [
    "deploy aws?\n"
   ]
  },
  {
   "cell_type": "code",
   "execution_count": null,
   "metadata": {
    "collapsed": true
   },
   "outputs": [],
   "source": [
    "function deployAws() {\n",
    "    return execCmd(os.platform() === 'win32' ? `\n",
    "powershell.exe -nologo -noprofile -command \"& { \\\n",
    "    Add-Type -A 'System.IO.Compression.FileSystem'; \\\n",
    "    Remove-Item –path index.zip –recurse -erroraction 'silentlycontinue'; \\\n",
    "    $files = @('index.js', 'eloqua-service.js', 'eloqua-create.js', 'eloqua-mapper.js', 'https-request-polyfill.js', 'sync-zuora-eloqua.js', 'zuora-service.js', 'zuora-renewals-query.js', 'package.json', 'package-lock.json'); \\\n",
    "    $files | Compress-Archive -DestinationPath index.zip; \\\n",
    "    & aws lambda update-function-code --region us-west-2 --function-name eloqua_test --zip-file fileb://index.zip; \\\n",
    "}\"` : `\n",
    "rm index.zip \n",
    "zip ./index.zip -r index.js eloqua-service.js eloqua-create.js eloqua-mapper.js https-request-polyfill.js sync-zuora-eloqua.js zuora-service.js zuora-renewals-query.js package.json package-lock.json\n",
    "aws lambda update-function-code --region us-west-2 --function-name eloqua_test --zip-file fileb://index.zip\n",
    "`, {cwd: PROJECT_PATH});\n",
    "}\n"
   ]
  },
  {
   "cell_type": "markdown",
   "metadata": {},
   "source": [
    "powershell zip"
   ]
  },
  {
   "cell_type": "code",
   "execution_count": null,
   "metadata": {},
   "outputs": [],
   "source": [
    "powershell.exe -nologo -noprofile -command \"& { Add-Type -A 'System.IO.Compression.FileSystem'; @('notify.bundle.js') | Compress-Archive -DestinationPath index.zip; }\""
   ]
  },
  {
   "cell_type": "code",
   "execution_count": null,
   "metadata": {},
   "outputs": [],
   "source": [
    "const zuoraConfig = {\n",
    "    \"rest_api_user\": process.env.ZUORA_API_USER,\n",
    "    \"rest_api_password\": process.env.ZUORA_API_PASS,\n",
    "    \"rest_api_url\": process.env.ZUORA_API_URL\n",
    "};\n",
    "const eloquaConfig = {\n",
    "    \"authorize_uri\": process.env.ELOQUA_AUTHORIZE_URL,\n",
    "    \"token_uri\": process.env.ELOQUA_TOKEN_URL,\n",
    "    \"rest_api_url\": process.env.ELOQUA_API_URL,\n",
    "    \"rest_client_id\": process.env.ELOQUA_CLIENT_ID,\n",
    "    \"rest_secret\": process.env.ELOQUA_CLIENT_SECRET,\n",
    "    \"rest_api_company\": process.env.ELOQUA_API_COMPANY,\n",
    "    \"rest_api_user\": process.env.ELOQUA_API_USER,\n",
    "    \"rest_api_password\": process.env.ELOQUA_API_PASS\n",
    "};"
   ]
  },
  {
   "cell_type": "code",
   "execution_count": null,
   "metadata": {},
   "outputs": [],
   "source": [
    " --environment \"{\\\"Variables\\\":{\\\"ZUORA_API_USER\\\": \\\"ZuoraEntitlement@Swiftpage.com\\\", \\\"ZUORA_API_PASS\\\": \\\"Cnfyvk31)\\\", \\\"ZUORA_API_URL\\\": \\\"https://rest.zuora.com/v1\\\", \\\"ELOQUA_AUTHORIZE_URL\\\":\\\"https://login.eloqua.com/auth/oauth2/authorize\\\",\\\"ELOQUA_TOKEN_URL\\\": \\\"https://login.eloqua.com/auth/oauth2/token\\\", \\\"ELOQUA_API_URL\\\": \\\"https://secure.p03.eloqua.com/API\\\", \\\"ELOQUA_CLIENT_ID\\\": \\\"6c372097-6771-4308-b9a0-692f5fdc7b5c\\\", \\\"ELOQUA_CLIENT_SECRET\\\": \\\"1jl1Dur1QTUqkqDEj5MDOhKKWpar6TS3iDIS0r7pM9jVVdGPU2aEas4llgqkCMl5iTrnQNfkTMxVywbWLmaAl7Mj7Gig2HdfxzAS\\\", \\\"ELOQUA_API_COMPANY\\\": \\\"swiftpage\\\", \\\"ELOQUA_API_USER\\\": \\\"brian.cullinan\\\", \\\"ELOQUA_API_PASS\\\": \\\"Da1ddy23\\\"}}\""
   ]
  }
 ],
 "metadata": {
  "kernelspec": {
   "display_name": "Javascript (Node.js)",
   "language": "javascript",
   "name": "javascript"
  },
  "language_info": {
   "file_extension": ".js",
   "mimetype": "application/javascript",
   "name": "javascript",
   "version": "8.8.1"
  }
 },
 "nbformat": 4,
 "nbformat_minor": 2
}
