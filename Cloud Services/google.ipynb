{
 "cells": [
  {
   "cell_type": "markdown",
   "metadata": {},
   "source": [
    "firebase rpc wrapper?\n"
   ]
  },
  {
   "cell_type": "code",
   "execution_count": null,
   "metadata": {},
   "outputs": [],
   "source": [
    "var cors = require('cors')({origin: true});\n",
    "var importer = require('../Core');\n",
    "var process = require('process');\n",
    "var getResult = importer.import('rpc result');\n",
    "var functions = require('firebase-functions'),\n",
    "    admin = require('firebase-admin');\n",
    "\n",
    "try {\n",
    "    admin.initializeApp(functions.config().firebase);\n",
    "} catch (e) {\n",
    "    console.log(e);\n",
    "}\n",
    "\n",
    "if(typeof module.exports === 'undefined') {\n",
    "    module.exports = {};\n",
    "}\n",
    "\n",
    "module.exports.rpc = functions.https.onRequest((req, res) => {\n",
    "    process.env.HOME = process.env.HOMEPATH = process.env.USERPROFILE = '';\n",
    "    const config = functions.config();\n",
    "    const services = Object.keys(config).reduce(k => {\n",
    "        Object.keys(config[k]).forEach(s => {\n",
    "            process.env[k.toUpperCase() + '_' + s.toUpperCase()] = config[k][s];\n",
    "        });\n",
    "    });\n",
    "    \n",
    "    cors(req, res, () => {\n",
    "        return Promise.resolve([])\n",
    "            .then(() => getResult({\n",
    "                command: req.body['function'] || req.query['function'],\n",
    "                result: importer.interpret(req.body['function'] || req.query['function']),\n",
    "                body: req.method === 'POST' ? req.body : req.query,\n",
    "                circles: ['Public']\n",
    "            }))\n",
    "            .then(r => res.status(200).send(r))\n",
    "            // TODO: object assign error?\n",
    "            .catch(e => { \n",
    "                console.error(e);\n",
    "                return res.status(500).send(Object.getOwnPropertyNames(e).reduce((alt, key) => {\n",
    "                    alt[key] = e[key];\n",
    "                    return alt;\n",
    "                }, {}));\n",
    "            });\n",
    "    });\n",
    "})\n"
   ]
  },
  {
   "cell_type": "code",
   "execution_count": null,
   "metadata": {},
   "outputs": [],
   "source": []
  }
 ],
 "metadata": {
  "kernelspec": {
   "display_name": "Javascript (Node.js)",
   "language": "javascript",
   "name": "javascript"
  },
  "language_info": {
   "file_extension": ".js",
   "mimetype": "application/javascript",
   "name": "javascript",
   "version": "8.6.0"
  }
 },
 "nbformat": 4,
 "nbformat_minor": 2
}
