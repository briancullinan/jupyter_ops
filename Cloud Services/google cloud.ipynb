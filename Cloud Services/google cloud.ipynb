{
 "cells": [
  {
   "cell_type": "markdown",
   "metadata": {},
   "source": [
    "upload output to google cloud storage?\n"
   ]
  },
  {
   "cell_type": "code",
   "execution_count": 1,
   "metadata": {},
   "outputs": [
    {
     "name": "stdout",
     "output_type": "stream",
     "text": [
      "CommandException: arg (./.output) does not name a directory, bucket, or bucket subdir.\n"
     ]
    },
    {
     "ename": "",
     "evalue": "1",
     "output_type": "error",
     "traceback": []
    }
   ],
   "source": [
    "gsutil rsync -R ./.output gs://www.shopilluminati.com"
   ]
  },
  {
   "cell_type": "markdown",
   "metadata": {},
   "source": [
    "add public permissions to google cloud storage?\n"
   ]
  },
  {
   "cell_type": "code",
   "execution_count": null,
   "metadata": {},
   "outputs": [],
   "source": [
    "gsutil defacl ch -u AllUsers:R gs://www.shopilluminati.com\n",
    "gsutil acl ch -u AllUsers:R gs://www.shopilluminati.com/**\n"
   ]
  },
  {
   "cell_type": "markdown",
   "metadata": {},
   "source": [
    "copy html to google cloud storage?\n"
   ]
  },
  {
   "cell_type": "code",
   "execution_count": 42,
   "metadata": {},
   "outputs": [
    {
     "name": "stdout",
     "output_type": "stream",
     "text": [
      "product/apricot-moisturizer-refill\n",
      "product/apricot-moisturizer\n",
      "shop\n",
      "app\n"
     ]
    }
   ],
   "source": [
    "output=\"../.output\"; \\\n",
    "if [[ -n $1 ]]; \\\n",
    "    then output=$1; \\\n",
    "fi; \\\n",
    "for file in $(find \"$output\" -type f -name \"*.html\"); \\\n",
    "do \\\n",
    "    f=${file#\"$output\"/*} && \\\n",
    "    gsutil setmeta -h \"Content-Type:text/html; charset=utf-8\" \"gs://www.shopilluminati.com/$f\" && \\\n",
    "    gsutil -h \"Content-Type:text/html; charset=utf-8\" cp \"$file\" \"gs://www.shopilluminati.com/${f%.*}\"; \\\n",
    "done\n"
   ]
  },
  {
   "cell_type": "markdown",
   "metadata": {},
   "source": [
    "test command arguments?\n"
   ]
  },
  {
   "cell_type": "code",
   "execution_count": 26,
   "metadata": {},
   "outputs": [
    {
     "name": "stdout",
     "output_type": "stream",
     "text": [
      "\n",
      "\n",
      "\n"
     ]
    }
   ],
   "source": [
    "echo \"$1\"\n",
    "echo \"$2\"\n",
    "echo \"$3\"\n"
   ]
  },
  {
   "cell_type": "code",
   "execution_count": null,
   "metadata": {},
   "outputs": [],
   "source": []
  }
 ],
 "metadata": {
  "kernelspec": {
   "display_name": "Bash",
   "language": "bash",
   "name": "bash"
  },
  "language_info": {
   "codemirror_mode": "shell",
   "file_extension": ".sh",
   "mimetype": "text/x-sh",
   "name": "bash"
  }
 },
 "nbformat": 4,
 "nbformat_minor": 2
}
