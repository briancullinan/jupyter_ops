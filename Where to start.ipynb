{
  "cells": [
    {
      "cell_type": "markdown",
      "source": [],
      "metadata": {}
    },
    {
      "cell_type": "code",
      "source": [
        "var importNotebook = require('.').importNotebook;\n",
        "var path = require('path');\n",
        "$$.async();\n",
        "Promise.all([\n",
        "    path.join(__dirname, 'Core', 'How to interpret questions.ipynb'),\n",
        "    //path.join(__dirname, 'Core', 'How to import all notebooks.ipynb')\n",
        "    ].map(n => importNotebook(n)))\n",
        "    .then((r) => {\n",
        "        console.log(r);\n",
        "        return r;\n",
        "    })\n",
        "    //.then(r => walkSync(path.join(__dirname, '**', '*.ipynb'), 2))\n",
        "    //.then(n => Promise.all([interpretNotebook(n[0])]))\n",
        "    .then(r => $$.sendResult(r))\n",
        "    //.then(() => interpret('docker'))\n",
        "    //.then(r => $$.mime(r))\n",
        "    .catch(e => $$.sendError(e));\n"
      ],
      "outputs": [],
      "execution_count": 1,
      "metadata": {
        "collapsed": false,
        "outputHidden": false,
        "inputHidden": false
      }
    },
    {
      "cell_type": "code",
      "source": [
        "console.log('hit')"
      ],
      "outputs": [],
      "execution_count": 2,
      "metadata": {
        "collapsed": false,
        "outputHidden": false,
        "inputHidden": false
      }
    },
    {
      "cell_type": "code",
      "source": [
        "$$.async();\n",
        "require('./Core')\n",
        "    .then(() => interpret('create dockerfile'))\n",
        "    .then(r => $$.sendResult(r))\n",
        "    .catch(e => $$.sendError(e));\n"
      ],
      "outputs": [],
      "execution_count": null,
      "metadata": {
        "collapsed": false,
        "outputHidden": false,
        "inputHidden": false
      }
    }
  ],
  "metadata": {
    "kernelspec": {
      "name": "node_nteract",
      "language": "javascript",
      "display_name": "Node.js (nteract)"
    },
    "kernel_info": {
      "name": "node_nteract"
    },
    "language_info": {
      "name": "javascript",
      "version": "6.5.0",
      "mimetype": "application/javascript",
      "file_extension": ".js"
    }
  },
  "nbformat": 4,
  "nbformat_minor": 4
}