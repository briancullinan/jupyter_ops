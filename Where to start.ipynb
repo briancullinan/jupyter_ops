{
 "cells": [
  {
   "cell_type": "code",
   "execution_count": 1,
   "metadata": {
    "collapsed": false,
    "inputHidden": false,
    "outputHidden": false
   },
   "outputs": [
    {
     "name": "stdout",
     "output_type": "stream",
     "text": [
      "\"/Users/briancullinan/jupytangular2/Core\"\n",
      "from core /Users/briancullinan/jupytangular2/Core/How to import a notebook.ipynb\n",
      "/Users/briancullinan/jupytangular2/Core/How to import a notebook.ipynb\n",
      ".\n",
      "execute Selenium/What is Selenium.ipynb\n",
      "selenium /Users/briancullinan/jupytangular2/Selenium\n",
      "\n",
      "\"/Users/briancullinan/jupytangular2/Core\"\n",
      "\n",
      "from core /Users/briancullinan/jupytangular2/Core/How to import a notebook.ipynb\n",
      "\n",
      "/Users/briancullinan/jupytangular2/Core/How to import a notebook.ipynb\n",
      "\n"
     ]
    },
    {
     "data": {
      "text/plain": [
       "[ { 'What is Selenium.ipynb[0]': [Function],\n",
       "    seleniumDocker: [Function],\n",
       "    'What is Selenium.ipynb[1]': [Function],\n",
       "    vncIframe: [Function] } ]"
      ]
     },
     "execution_count": 1,
     "metadata": {},
     "output_type": "execute_result"
    }
   ],
   "source": [
    "/*\n",
    "var importer = require(path.resolve(path.join('.', 'Core')));\n",
    "var path = require('path');\n",
    "console.log(__dirname);\n",
    "$$.async();\n",
    "Promise.all([\n",
    "    // TODOCUMENT: This is a NoNo, use runAllPromises to execute notebooks sequentially in the same context\n",
    "    //path.join(__dirname, 'Core', 'How to interpret questions.ipynb'),\n",
    "    path.join(__dirname, 'Selenium', 'What is Selenium.ipynb')\n",
    "    ].map(n => importer.importNotebook(n)))\n",
    "    //.then(r => $$.sendResult(r))\n",
    "    //.then(() => importNotebook('Selenium/What is Selenium.ipynb'))\n",
    "    //.then(r => console.log(r))\n",
    "    .then(() => seleniumDocker())\n",
    "    //.then(r => interpretMarkdown(r))\n",
    "    //.then(r => r['What is Selenium.ipynb[3]']())\n",
    "    .then(r => $$.mime({'text/plain': r}))\n",
    "    .catch(e => $$.sendError(e));\n",
    "*/\n"
   ]
  },
  {
   "cell_type": "code",
   "execution_count": 2,
   "metadata": {
    "collapsed": false,
    "inputHidden": false,
    "outputHidden": false
   },
   "outputs": [],
   "source": [
    "path.resolve('.')"
   ]
  },
  {
   "cell_type": "code",
   "execution_count": 3,
   "metadata": {
    "collapsed": false,
    "inputHidden": false,
    "outputHidden": false
   },
   "outputs": [],
   "source": [
    "/*\n",
    "$$.async();\n",
    "require('./Core').interpretAll(__dirname)\n",
    "    .then(r => $$.sendResult(r))\n",
    "    .catch(e => $$.sendError(e));\n",
    "*/\n",
    "\n"
   ]
  },
  {
   "cell_type": "code",
   "execution_count": null,
   "metadata": {
    "collapsed": false,
    "inputHidden": false,
    "outputHidden": false
   },
   "outputs": [],
   "source": [
    "// expose functions as an express http service?\n",
    "\n",
    "// search services over http?"
   ]
  },
  {
   "cell_type": "code",
   "execution_count": null,
   "metadata": {
    "collapsed": false,
    "inputHidden": false,
    "outputHidden": false
   },
   "outputs": [],
   "source": [
    "// start a docker selenium in AWS?"
   ]
  },
  {
   "cell_type": "code",
   "execution_count": null,
   "metadata": {
    "collapsed": false,
    "inputHidden": false,
    "outputHidden": false
   },
   "outputs": [],
   "source": [
    "// incorporate angular components for UI/UX?"
   ]
  },
  {
   "cell_type": "code",
   "execution_count": null,
   "metadata": {
    "collapsed": false,
    "inputHidden": false,
    "outputHidden": false
   },
   "outputs": [],
   "source": []
  }
 ],
 "metadata": {
  "kernel_info": {
   "name": "node_nteract"
  },
  "kernelspec": {
   "display_name": "Javascript (Node.js)",
   "language": "javascript",
   "name": "javascript"
  },
  "language_info": {
   "file_extension": ".js",
   "mimetype": "application/javascript",
   "name": "javascript",
   "version": "7.7.2"
  }
 },
 "nbformat": 4,
 "nbformat_minor": 4
}
