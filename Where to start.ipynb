{
  "cells": [
    {
      "cell_type": "markdown",
      "source": [],
      "metadata": {}
    },
    {
      "cell_type": "code",
      "source": [
        "var importer = require('./Core');\n",
        "var path = require('path');\n",
        "$$.async();\n",
        "importer.interpretAll(__dirname)\n",
        "    .then(() => intend('import notebook', './Frameworks/How to use express.ipynb'))\n",
        "    .then(r => {console.log(r); return r})\n",
        "    .then(r => $$.sendResult(r))\n",
        "    .catch(e => $$.sendError(e));"
      ],
      "outputs": [
        {
          "output_type": "stream",
          "name": "stderr",
          "text": [
            "Error: Invalid URI \"localhost/\"\n",
            "    at Request.init (/Users/briancullinan/jupytangular2/node_modules/request/request.js:276:31)\n",
            "    at new Request (/Users/briancullinan/jupytangular2/node_modules/request/request.js:130:8)\n",
            "    at request (/Users/briancullinan/jupytangular2/node_modules/request/index.js:54:10)\n",
            "    at evalmachine.<anonymous>:7:14\n",
            "    at Layer.handle [as handle_request] (/Users/briancullinan/jupytangular2/node_modules/express/lib/router/layer.js:95:5)\n",
            "    at trim_prefix (/Users/briancullinan/jupytangular2/node_modules/express/lib/router/index.js:317:13)\n",
            "    at /Users/briancullinan/jupytangular2/node_modules/express/lib/router/index.js:284:7\n",
            "    at Function.process_params (/Users/briancullinan/jupytangular2/node_modules/express/lib/router/index.js:335:12)\n",
            "    at next (/Users/briancullinan/jupytangular2/node_modules/express/lib/router/index.js:275:10)\n",
            "    at expressInit (/Users/briancullinan/jupytangular2/node_modules/express/lib/middleware/init.js:40:5)\n",
            "\n\n"
          ]
        },
        {
          "output_type": "stream",
          "name": "stdout",
          "text": [
            "[ {} ]\n"
          ]
        },
        {
          "output_type": "execute_result",
          "execution_count": 1,
          "data": {
            "text/plain": [
              "[ {} ]"
            ]
          },
          "metadata": {}
        }
      ],
      "execution_count": 1,
      "metadata": {
        "collapsed": false,
        "outputHidden": false,
        "inputHidden": false
      }
    },
    {
      "cell_type": "code",
      "source": [],
      "outputs": [],
      "execution_count": 6,
      "metadata": {
        "collapsed": false,
        "outputHidden": false,
        "inputHidden": false
      }
    },
    {
      "cell_type": "code",
      "source": [
        "$$.async();\n",
        "require('./Core')\n",
        "    .then(() => interpret('create dockerfile'))\n",
        "    .then(r => $$.sendResult(r))\n",
        "    .catch(e => $$.sendError(e));\n"
      ],
      "outputs": [],
      "execution_count": null,
      "metadata": {
        "collapsed": false,
        "outputHidden": false,
        "inputHidden": false
      }
    }
  ],
  "metadata": {
    "kernelspec": {
      "name": "node_nteract",
      "language": "javascript",
      "display_name": "Node.js (nteract)"
    },
    "kernel_info": {
      "name": "node_nteract"
    },
    "language_info": {
      "name": "javascript",
      "version": "6.5.0",
      "mimetype": "application/javascript",
      "file_extension": ".js"
    }
  },
  "nbformat": 4,
  "nbformat_minor": 4
}