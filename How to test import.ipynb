{
  "cells": [
    {
      "cell_type": "markdown",
      "source": [
        "\n",
        ">TODO: HOW TO MAKE THIS HEADER SMALLER?\n",
        "\n",
        "How to provide this command as a service to other notebooks?\n",
        "\n",
        "What to include to create inheritence in jupyter?\n"
      ],
      "metadata": {}
    },
    {
      "cell_type": "code",
      "source": [
        "$$.async()\n",
        "setTimeout(() => $$.done(1), 0);\n"
      ],
      "outputs": [],
      "execution_count": 1,
      "metadata": {
        "collapsed": false,
        "outputHidden": false,
        "inputHidden": false
      }
    },
    {
      "cell_type": "code",
      "source": [
        "$$.async();\n",
        "setTimeout(() => {\n",
        "try {\n",
        "    throw 'should only fail per cell';\n",
        "}\n",
        "catch(e) {\n",
        "    $$.done(e);\n",
        "}}, 10);\n"
      ],
      "outputs": [],
      "execution_count": 1,
      "metadata": {
        "collapsed": false,
        "outputHidden": false,
        "inputHidden": false
      }
    },
    {
      "cell_type": "code",
      "source": [
        "// hole in documentation?\n",
        "/*\n",
        "$$.async();\n",
        "setTimeout(() => {\n",
        "    throw 'should only fail per cell';\n",
        "});\n",
        "never returns output\n",
        "*/\n",
        "\n"
      ],
      "outputs": [],
      "execution_count": null,
      "metadata": {
        "collapsed": false,
        "outputHidden": false,
        "inputHidden": false
      }
    },
    {
      "cell_type": "code",
      "source": [
        "$$.async()\n",
        "setTimeout(() => $$.done('import successful'), 20);\n"
      ],
      "outputs": [],
      "execution_count": null,
      "metadata": {
        "collapsed": false,
        "outputHidden": false,
        "inputHidden": false
      }
    },
    {
      "cell_type": "markdown",
      "source": [
        "How to import functions from notebooks?"
      ],
      "metadata": {}
    },
    {
      "cell_type": "code",
      "source": [],
      "outputs": [],
      "execution_count": null,
      "metadata": {
        "collapsed": false,
        "outputHidden": false,
        "inputHidden": false
      }
    }
  ],
  "metadata": {
    "kernelspec": {
      "name": "node_nteract",
      "language": "javascript",
      "display_name": "Node.js (nteract)"
    },
    "kernel_info": {
      "name": "node_nteract"
    },
    "language_info": {
      "name": "javascript",
      "version": "6.5.0",
      "mimetype": "application/javascript",
      "file_extension": ".js"
    }
  },
  "nbformat": 4,
  "nbformat_minor": 4
}