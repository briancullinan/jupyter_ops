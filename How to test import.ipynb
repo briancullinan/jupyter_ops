{
  "cells": [
    {
      "cell_type": "markdown",
      "source": [
        "\n",
        ">TODO: HOW TO MAKE THIS HEADER SMALLER?\n",
        "\n",
        "How to provide this command as a service to other notebooks?\n",
        "\n",
        "What to include to create inheritence in jupyter?\n"
      ],
      "metadata": {}
    },
    {
      "cell_type": "code",
      "source": [
        "try {\n",
        "    // How to sanity check our environment?\n",
        "    ['npm install', 'path', 'fs', 'vm', ].splice(1).map(v => (global[v] = require(v)));\n",
        "    \n",
        "    // How to parse a well formatted simple notebook the cheap way?\n",
        "    var code = (filename) => {\n",
        "        var co = [], f = fs.readFileSync(filename).toString(), re = new RegExp('\\\\s*\"cell_type\": \"code\",\\\\s*\"source\":\\\\s*\\\\[\\\\s*([\\\\s\\\\S]*?\\\\$\\\\$.done[\\\\s\\\\S]*?)\\\\s*\\\\]\\\\s*,\\s*', 'ig');\n",
        "        while ((m = re.exec(f)) && co.push(m[1]));\n",
        "        return JSON.parse('['+co+']').join('') + '\\n\\n; importNotebook;';\n",
        "    };\n",
        "    \n",
        "    // Execute the notebook\n",
        "    var importNotebook = ((notebook) => {\n",
        "        return (($$) => vm.runInThisContext(code(notebook)))\n",
        "            ({async: () => {}, done: (done) => {}});\n",
        "    })('How to find answers.ipynb');\n",
        "} catch (e) {$$.done(e)}"
      ],
      "outputs": [],
      "execution_count": 1,
      "metadata": {
        "collapsed": false,
        "outputHidden": false,
        "inputHidden": false
      }
    },
    {
      "cell_type": "code",
      "source": [
        "$$.async()\n",
        "setTimeout(() => $$.done(1), 0);\n"
      ],
      "outputs": [],
      "execution_count": 1,
      "metadata": {
        "collapsed": false,
        "outputHidden": false,
        "inputHidden": false
      }
    },
    {
      "cell_type": "code",
      "source": [
        "$$.async();\n",
        "setTimeout(() => {\n",
        "try {\n",
        "    throw 'should only fail per cell';\n",
        "}\n",
        "catch(e) {\n",
        "    $$.done(e);\n",
        "}}, 10);\n"
      ],
      "outputs": [],
      "execution_count": 1,
      "metadata": {
        "collapsed": false,
        "outputHidden": false,
        "inputHidden": false
      }
    },
    {
      "cell_type": "code",
      "source": [
        "// hole in documentation?\n",
        "/*\n",
        "$$.async();\n",
        "setTimeout(() => {\n",
        "    throw 'should only fail per cell';\n",
        "});\n",
        "never returns output\n",
        "*/\n",
        "\n"
      ],
      "outputs": [],
      "execution_count": null,
      "metadata": {
        "collapsed": false,
        "outputHidden": false,
        "inputHidden": false
      }
    },
    {
      "cell_type": "code",
      "source": [
        "$$.async()\n",
        "setTimeout(() => $$.done('import successful'), 20);\n"
      ],
      "outputs": [],
      "execution_count": null,
      "metadata": {
        "collapsed": false,
        "outputHidden": false,
        "inputHidden": false
      }
    },
    {
      "cell_type": "code",
      "source": [
        "$$.async();\n",
        "importNotebook('How to find answers.ipynb').then((cells) => {\n",
        "    $$.done(cells);\n",
        "});\n"
      ],
      "outputs": [],
      "execution_count": 1,
      "metadata": {
        "collapsed": false,
        "outputHidden": false,
        "inputHidden": false
      }
    },
    {
      "cell_type": "markdown",
      "source": [
        "How to import functions from notebooks?"
      ],
      "metadata": {}
    },
    {
      "cell_type": "code",
      "source": [
        "\n",
        "try {\n",
        "    $$.async();\n",
        "    $import$ = ((i, imports) => (i = importNotebook(i)) \n",
        "                && ((typeof imports === 'undefined') \n",
        "        ? (imports = Promise.resolve(i)) : imports.then(i)));\n",
        "    \n",
        "    \n",
        "    ('How to test import.ipynb').then(r => console.log(r))\n",
        "        .then(r => $$.done($import$)).catch((e) => $$.done($import$));\n",
        "} \n",
        "catch (e) {$$.done($import$)}\n",
        "\n"
      ],
      "outputs": [
        {
          "output_type": "execute_result",
          "execution_count": 3,
          "data": {
            "text/plain": [
              "[Function: $import$]"
            ]
          },
          "metadata": {}
        }
      ],
      "execution_count": 3,
      "metadata": {
        "collapsed": false,
        "outputHidden": false,
        "inputHidden": false
      }
    },
    {
      "cell_type": "code",
      "source": [],
      "outputs": [],
      "execution_count": null,
      "metadata": {
        "collapsed": false,
        "outputHidden": false,
        "inputHidden": false
      }
    }
  ],
  "metadata": {
    "kernelspec": {
      "name": "node_nteract",
      "language": "javascript",
      "display_name": "Node.js (nteract)"
    },
    "kernel_info": {
      "name": "node_nteract"
    },
    "language_info": {
      "name": "javascript",
      "version": "6.5.0",
      "mimetype": "application/javascript",
      "file_extension": ".js"
    }
  },
  "nbformat": 4,
  "nbformat_minor": 4
}