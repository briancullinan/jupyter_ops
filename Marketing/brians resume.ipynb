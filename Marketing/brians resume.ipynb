{
 "cells": [
  {
   "cell_type": "markdown",
   "metadata": {},
   "source": [
    "get a list of folder topics from bookmarks?\n"
   ]
  },
  {
   "cell_type": "code",
   "execution_count": null,
   "metadata": {},
   "outputs": [],
   "source": [
    "var _ = require('lodash');\n",
    "var importer = require('../Core');\n",
    "var getBookmarksFromTakeout = importer.import('parse bookmarks file');\n",
    "\n",
    "function getBookmarkFolders() {\n",
    "    return getBookmarksFromTakeout()\n",
    "        .then(links => {\n",
    "            // group by half hour\n",
    "            const groups = Object.keys(links).sort((a, b) => parseInt(b) - parseInt(a));\n",
    "            return groups.reduce((acc, t) => {\n",
    "                const folders = _.groupBy(links[t], l => l.folder);\n",
    "                acc = acc.concat(Object.keys(folders));\n",
    "                return acc;\n",
    "            }, []);\n",
    "        })\n",
    "        .then(folders => folders.filter((f, i, arr) => arr.indexOf(f) === i))\n",
    "}\n",
    "\n",
    "module.exports = getBookmarkFolders;\n",
    "\n",
    "if(typeof $$ != 'undefined') {\n",
    "    $$.async();\n",
    "    \n",
    "    getBookmarkFolders()\n",
    "        .then(r => $$.mime({'text/plain': r.join('\\n')}))\n",
    "        .catch(e => $$.sendError(e))\n",
    "}\n"
   ]
  },
  {
   "cell_type": "markdown",
   "metadata": {},
   "source": [
    "update insterests resume sheet?\n"
   ]
  },
  {
   "cell_type": "code",
   "execution_count": null,
   "metadata": {},
   "outputs": [],
   "source": [
    "var _ = require('lodash');\n",
    "var importer = require('../Core');\n",
    "var getBookmarksFromTakeout = importer.import('parse bookmarks file');\n",
    "var updateRow = importer.import('update a row in google sheets')\n",
    "var getDataSheet = importer.import('get google data sheet')\n",
    "\n",
    "var doc = 'https://docs.google.com/spreadsheets/d/1dAtBQyn5vwStM6ITn7iCpp996Sus26k0bJtbGNlCX2g/edit#gid=257854275';\n",
    "\n",
    "function updateInterestPage() {\n",
    "    var links, interests;\n",
    "    return getDataSheet(doc, 'Interests data')\n",
    "        .then(rows => interests = rows.map(r => r.category).filter((r, i, arr) => arr.indexOf(r) === i))\n",
    "        .then(() => getBookmarksFromTakeout())\n",
    "        .then(l => links = [].concat(...Object.values(l))\n",
    "              .filter(b => interests.includes(b.folder))\n",
    "              .map(b => ({\n",
    "                category: b.folder,\n",
    "                date: Math.round(b.time_usec / 1000 / 10000) + '',\n",
    "                title: b.title,\n",
    "                link: b.url,\n",
    "                skills: null,\n",
    "                tools: null\n",
    "            })))\n",
    "        .then(() => importer.runAllPromises(links.map(l => resolve => {\n",
    "            // category date title link skills tools\n",
    "            return updateRow(doc, r => {\n",
    "                debugger;\n",
    "                return r.category == l.category && !r.link\n",
    "                             || r.date == l.date && r.link == l.link}, l, 'Interests data')\n",
    "                .then(resolve);\n",
    "        })))\n",
    "}\n",
    "\n",
    "module.exports = updateInterestPage;\n",
    "\n",
    "if(typeof $$ != 'undefined') {\n",
    "    $$.async();\n",
    "    \n",
    "    updateInterestPage()\n",
    "        .then(r => $$.sendResult(r))\n",
    "        .catch(e => $$.sendError(e))\n",
    "}"
   ]
  }
 ],
 "metadata": {
  "kernelspec": {
   "display_name": "Javascript (Node.js)",
   "language": "javascript",
   "name": "javascript"
  },
  "language_info": {
   "file_extension": ".js",
   "mimetype": "application/javascript",
   "name": "javascript",
   "version": "10.15.3"
  }
 },
 "nbformat": 4,
 "nbformat_minor": 2
}
