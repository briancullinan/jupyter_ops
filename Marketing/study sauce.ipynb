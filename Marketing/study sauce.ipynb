{
 "cells": [
  {
   "cell_type": "markdown",
   "metadata": {},
   "source": [
    "how to convert anki package to study sauce?\n"
   ]
  },
  {
   "cell_type": "code",
   "execution_count": null,
   "metadata": {},
   "outputs": [],
   "source": []
  },
  {
   "cell_type": "markdown",
   "metadata": {},
   "source": [
    "how to sign a file url for uploading to google storage?\n"
   ]
  },
  {
   "cell_type": "code",
   "execution_count": null,
   "metadata": {},
   "outputs": [],
   "source": [
    "const {Storage} = require('@google-cloud/storage');\n",
    "const storage = new Storage();\n",
    "\n",
    "/**\n",
    " * HTTP function that generates a signed URL\n",
    " * The signed URL can be used to upload files to Google Cloud Storage (GCS)\n",
    " *\n",
    " * @param {Object} req Cloud Function request context.\n",
    " * @param {Object} res Cloud Function response context.\n",
    " */\n",
    "exports.getSignedUrl = (req, res) => {\n",
    "  if (req.method !== 'POST') {\n",
    "    // Return a \"method not allowed\" error\n",
    "    return res.status(405).end();\n",
    "  }\n",
    "  // TODO(developer) check that the user is authorized to upload\n",
    "\n",
    "  // Get a reference to the destination file in GCS\n",
    "  const file = storage.bucket(req.body.bucket).file(req.body.filename);\n",
    "\n",
    "  // Create a temporary upload URL\n",
    "  const expiresAtMs = Date.now() + 300000; // Link expires in 5 minutes\n",
    "  const config = {\n",
    "    action: 'write',\n",
    "    expires: expiresAtMs,\n",
    "    contentType: req.body.contentType,\n",
    "  };\n",
    "\n",
    "  file.getSignedUrl(config, (err, url) => {\n",
    "    if (err) {\n",
    "      console.error(err);\n",
    "      res.status(500).end();\n",
    "      return;\n",
    "    }\n",
    "    res.send(url);\n",
    "  });\n",
    "};\n",
    "\n"
   ]
  }
 ],
 "metadata": {
  "kernelspec": {
   "display_name": "Javascript (Node.js)",
   "language": "javascript",
   "name": "javascript"
  },
  "language_info": {
   "file_extension": ".js",
   "mimetype": "application/javascript",
   "name": "javascript",
   "version": "10.15.3"
  }
 },
 "nbformat": 4,
 "nbformat_minor": 2
}
