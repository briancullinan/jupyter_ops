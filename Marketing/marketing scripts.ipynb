{
 "cells": [
  {
   "cell_type": "markdown",
   "metadata": {},
   "source": [
    "How to make a purchase with stripe?"
   ]
  },
  {
   "cell_type": "code",
   "execution_count": null,
   "metadata": {},
   "outputs": [],
   "source": [
    "var head = document.getElementsByTagName('head')[0];\n",
    "var newScript = document.createElement(\"script\");\n",
    "newScript.src = 'https://js.stripe.com/v3';\n",
    "head.appendChild(newScript);\n",
    "\n",
    "var stripe;\n",
    "newScript.onload = function () {\n",
    "    stripe = Stripe('pk_live_4LdeNXQQ1sm3SECaJRr5lMg9000RQ4FXDa');\n",
    "}\n",
    "\n",
    "function checkout(evt) {\n",
    "    var sku = evt.value;\n",
    "    // When the customer clicks on the button, redirect\n",
    "    // them to Checkout.\n",
    "    stripe.redirectToCheckout({\n",
    "        items: [{sku: sku, quantity: 1}],\n",
    "        billingAddressCollection: 'required',\n",
    "        successUrl: window.location.protocol + '//' + window.location.host + '/success',\n",
    "        cancelUrl: window.location.protocol + '//' + window.location.host + '/canceled',\n",
    "    })\n",
    "    .then(function (result) {\n",
    "        if (result.error) {\n",
    "            // error, display the localized error message to your customer.\n",
    "            var displayError = document.getElementById('error-message');\n",
    "            displayError.textContent = result.error.message;\n",
    "        }\n",
    "    });\n",
    "}\n"
   ]
  },
  {
   "cell_type": "markdown",
   "metadata": {},
   "source": [
    "contact us handler?\n"
   ]
  },
  {
   "cell_type": "code",
   "execution_count": null,
   "metadata": {},
   "outputs": [],
   "source": [
    "var importer = require('../Core');\n",
    "var addRow = importer.import('add row data google sheet');\n",
    "\n",
    "var contactId = '16b1Z0sQkYhtMUfP7qMRL3vRBPWQsRbSlntURkMqWGX0';\n",
    "var redirect = 'https://www.shopilluminati.com/contact';\n",
    "\n",
    "function handler(req, res) {\n",
    "    res.set('Access-Control-Allow-Origin', '*');\n",
    "    console.log(`Adding contact row for ${req.body['name']}`)\n",
    "    return addRow(contactId, {\n",
    "        timestamp: Date.now(),\n",
    "        name: req.body['name'],\n",
    "        email: req.body['email'],\n",
    "        subject: req.body['subject'],\n",
    "        message: req.body['message'],\n",
    "        responded: 0,\n",
    "    })\n",
    "        .then(r => res.redirect(redirect))\n",
    "        .catch(e => res.status(500).send(Object.getOwnPropertyNames(e).reduce((alt, key) => {\n",
    "            alt[key] = e[key] + '';\n",
    "            return alt;\n",
    "        }, {})));\n",
    "}\n",
    "\n",
    "    \n",
    "module.exports.handler = handler;\n"
   ]
  },
  {
   "cell_type": "code",
   "execution_count": null,
   "metadata": {},
   "outputs": [],
   "source": []
  }
 ],
 "metadata": {
  "kernelspec": {
   "display_name": "Javascript (Node.js)",
   "language": "javascript",
   "name": "javascript"
  },
  "language_info": {
   "file_extension": ".js",
   "mimetype": "application/javascript",
   "name": "javascript",
   "version": "10.15.3"
  }
 },
 "nbformat": 4,
 "nbformat_minor": 2
}
