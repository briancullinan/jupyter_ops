{
 "cells": [
  {
   "cell_type": "markdown",
   "metadata": {},
   "source": [
    "google sheet template properties?\n"
   ]
  },
  {
   "cell_type": "code",
   "execution_count": null,
   "metadata": {},
   "outputs": [],
   "source": [
    "var importer = require('../Core');\n",
    "var getDataSheet = importer.import('google sheet array objects');\n",
    "var renderRows = importer.import('google sheet layout template');\n",
    "var getRows = importer.import('get worksheet rows');\n",
    "\n",
    "function getTemplateProperties(value, properties, templates) {\n",
    "    var returnObj = {};\n",
    "    var promise;\n",
    "    if(typeof properties[value + '-data'] != 'undefined') {\n",
    "        promise = Promise.resolve(properties[value + '-data']);\n",
    "    } else {\n",
    "        promise = getDataSheet(templates[value].data);\n",
    "    }\n",
    "    return promise\n",
    "        .then(data => {\n",
    "            properties[value + '-data'] = data;\n",
    "            returnObj[value + '-data'] = data;\n",
    "            var templatePromise;\n",
    "            if(typeof properties[value] != 'undefined') {\n",
    "                templatePromise = Promise.resolve(properties[value]);\n",
    "            } else {\n",
    "                templatePromise = getSections(value, properties, templates)\n",
    "                    .then(rows => renderRows(value, rows, properties));\n",
    "            }\n",
    "            return templatePromise;\n",
    "        })\n",
    "        .then(template => {\n",
    "            properties[value] = template;\n",
    "            returnObj[value] = template;\n",
    "            return returnObj;\n",
    "        });\n",
    "}\n",
    "\n",
    "// must do this up front so we can process all data\n",
    "function getSections(layoutTitle, properties, templates) {\n",
    "    var worksheet = templates[layoutTitle].template;\n",
    "    if(!worksheet) {\n",
    "        return Promise.resolve(false);\n",
    "    }\n",
    "    return getRows(cells)\n",
    "        .then(rows => {\n",
    "            var sections = rows.reduce((obj, row, i) => {\n",
    "                var subsections = row.reduce((obj, c, j) => {\n",
    "                    var value = row[j + 1];\n",
    "                    if(c === ':section' && typeof templates[value] != 'undefined') {\n",
    "                        obj[value] = getTemplateProperties(value, properties, templates);\n",
    "                    }\n",
    "                    return obj;\n",
    "                }, obj);\n",
    "                return obj;\n",
    "            }, {});\n",
    "            return Promise.all(Object.values(sections)).then(() => rows);\n",
    "        })\n",
    "}\n",
    "\n",
    "module.exports = getTemplateProperties;"
   ]
  },
  {
   "cell_type": "markdown",
   "metadata": {},
   "source": [
    "google sheet layout template?\n",
    "\n",
    "Convert a google sheet page to an HTML template\n",
    "\n"
   ]
  },
  {
   "cell_type": "code",
   "execution_count": null,
   "metadata": {},
   "outputs": [],
   "source": [
    "var importer = require('../Core');\n",
    "var Remarkable = require('remarkable');\n",
    "var md = new Remarkable({html: true, xhtmlOut: true, breaks: true});\n",
    "\n",
    "function getDataClasses(c, data) {\n",
    "    // get classes from mustache vars used with supplied data\n",
    "    var dataKeys = (data || []).reduce((keys, cur) => {\n",
    "        // get all keys in data\n",
    "        return keys.concat(Object.keys(cur));\n",
    "    }, []).filter((k, h, a) => a.indexOf(k) == h);\n",
    "    var dataClasses = dataKeys\n",
    "        .filter(k => ('\\\\{\\\\{' + k + '\\\\}\\\\}', 'ig').match(c))\n",
    "        .map(k => 'val-' + k)\n",
    "        .join(' ')\n",
    "    return dataClasses;\n",
    "}\n",
    "\n",
    "function renderRows(layoutTitle, rows, properties) {\n",
    "    // set object properties for mustache template\n",
    "    var html = rows.reduce((arr, row, i) => {\n",
    "        var rowsHtml = row.reduce((arr, c, j) => {\n",
    "            if(c.substr(0, 1) === ':') {\n",
    "                // use subsequent column for property values\n",
    "                var value = row[j + 1];\n",
    "                if(c.substr(1).toLowerCase() === 'section') {\n",
    "                    arr[arr.length] = `\n",
    "<div class=\"section-${value}\">\n",
    "${properties[value]}\n",
    "</div>\n",
    "`;\n",
    "                } else {\n",
    "                    properties[c.substr(1)] = value;\n",
    "                }\n",
    "            // render markdown content if it is not the value for the previous property\n",
    "            } else if(j == 0 || j >= 1 && row[j - 1]\n",
    "                      && row[j - 1].substr(0, 1) !== ':') {\n",
    "                var dataClasses = getDataClasses(c, properties[layoutTitle + '-data']);\n",
    "\n",
    "                var mdHtml = md.render(c);\n",
    "                // if all markdown did was insert a paragraph and line break, use value instead\n",
    "                if(mdHtml.replace(/<\\/?p>|\\s+/ig, '') == c.replace(/<\\/?p>|\\s+/ig, '')) {\n",
    "                    mdHtml = c;\n",
    "                }\n",
    "                arr[arr.length] = `\n",
    "<div class=\"${dataClasses} cell-${j}\">\n",
    "${mdHtml}\n",
    "</div>\n",
    "`;\n",
    "            }\n",
    "            return arr;\n",
    "        }, []);\n",
    "\n",
    "        // render mustache templates\n",
    "        if(rowsHtml.length > 0) {\n",
    "            var rowTemplate = `\n",
    "<div class=\"${properties['class'] || ''} col-${rowsHtml.length}\">\n",
    "${rowsHtml.join('')}\n",
    "</div>\n",
    "`;\n",
    "            arr[arr.length] = rowTemplate;\n",
    "        }\n",
    "\n",
    "        return arr;\n",
    "    }, []);\n",
    "\n",
    "    // render mustache page template\n",
    "    return html.join('');\n",
    "}\n",
    "\n",
    "module.exports = renderRows;"
   ]
  },
  {
   "cell_type": "markdown",
   "metadata": {},
   "source": [
    "test google sheet template?\n"
   ]
  },
  {
   "cell_type": "code",
   "execution_count": 11,
   "metadata": {},
   "outputs": [
    {
     "name": "stdout",
     "output_type": "stream",
     "text": [
      "reading notebook /Users/briancullinan/jupytangular2/Utilities/google sheets.ipynb\n",
      "compiling /Users/briancullinan/jupytangular2/Utilities/google sheets.ipynb[0]\n",
      "reading notebook /Users/briancullinan/jupytangular2/Marketing/convert spreadsheet.ipynb\n",
      "compiling /Users/briancullinan/jupytangular2/Marketing/convert spreadsheet.ipynb[1]\n",
      "reading notebook /Users/briancullinan/jupytangular2/Marketing/convert spreadsheet.ipynb\n",
      "compiling /Users/briancullinan/jupytangular2/Marketing/convert spreadsheet.ipynb[0]\n"
     ]
    },
    {
     "ename": "ReferenceError",
     "evalue": "describe is not defined",
     "output_type": "error",
     "traceback": [
      "evalmachine.<anonymous>:10",
      "describe('get html from template', () => {",
      "^",
      "",
      "ReferenceError: describe is not defined",
      "    at evalmachine.<anonymous>:10:1",
      "    at ContextifyScript.Script.runInThisContext (vm.js:50:33)",
      "    at Object.runInThisContext (vm.js:139:38)",
      "    at run ([eval]:775:15)",
      "    at onRunRequest ([eval]:620:18)",
      "    at onMessage ([eval]:588:13)",
      "    at emitTwo (events.js:125:13)",
      "    at process.emit (events.js:213:7)",
      "    at emit (internal/child_process.js:774:12)",
      "    at _combinedTickCallback (internal/process/next_tick.js:141:11)"
     ]
    }
   ],
   "source": [
    "var assert = require('assert');\n",
    "var importer = require('../Core');\n",
    "var getTemplates = importer.import('templates google sheet');\n",
    "var renderRows = importer.import('google sheet layout template');\n",
    "var getTemplateProperties = importer.import('google sheet template properties');\n",
    "var getDataSheet = importer.import('google sheet array objects');\n",
    "\n",
    "var docsId = '113mVIumItArQ_oXpfDRXP-2Kw2ms4t48oPJ68_p5P8k';\n",
    "\n",
    "describe('get html from template', () => {\n",
    "    \n",
    "    it('should process at least one template', () => {\n",
    "        var templates, key, properties = {};\n",
    "        return getTemplates(docsId)\n",
    "            .then(t => {\n",
    "                templates = t;\n",
    "                key = Object.keys(templates).filter(k => templates[k].template)[0];\n",
    "                return getDataSheet(templates[key].data);\n",
    "            })\n",
    "            .then(data => {\n",
    "                assert(typeof key != 'undefined', 'should have at least one template');\n",
    "                properties[key + '-data'] = data;\n",
    "                return getTemplateProperties(key, properties, templates);\n",
    "            })\n",
    "            .then(() => {\n",
    "                console.log(properties[key]);\n",
    "                console.log(properties);\n",
    "                assert(properties[key].length > 0, 'should have a page called template');\n",
    "            })\n",
    "    })\n",
    "    \n",
    "    \n",
    "})\n"
   ]
  },
  {
   "cell_type": "markdown",
   "metadata": {},
   "source": [
    "output google sheet template?\n",
    "\n",
    "Save the generated template to an HTML file, wrapping it in a base template\n"
   ]
  },
  {
   "cell_type": "code",
   "execution_count": null,
   "metadata": {},
   "outputs": [],
   "source": [
    "var fs = require('fs');\n",
    "var path = require('path');\n",
    "var Mustache = require('mustache');\n",
    "\n",
    "function wrapTemplate(layoutTitle, html, properties) {\n",
    "    // TODO: turn this in to an array/section?\n",
    "    var script = '', banner = '', domain = '';\n",
    "    if(typeof properties['stylesheet'] == 'undefined') {\n",
    "        properties['stylesheet'] = '/illuminati-style.css';\n",
    "    }\n",
    "    if(typeof properties['script'] != 'undefined') {\n",
    "        script = '<script src=\"{{script}}\"></script>';\n",
    "    }\n",
    "    if(typeof properties['banner'] != 'undefined') {\n",
    "        banner = 'background-image: url({{{banner}}});';\n",
    "    }\n",
    "    if(typeof properties['domain'] != 'undefined') {\n",
    "        domain = properties['domain'].includes(':') ? '{{domain}}' : ('https://{{domain}}');\n",
    "    }\n",
    "    \n",
    "    // TODO: automatically set title if it isn't set manually\n",
    "    var result;\n",
    "    if(typeof properties['title'] == 'undefined' && (result = (/<h1>(.*)<\\/h1>/ig).exec(html))) {\n",
    "        properties['title'] = result[1];\n",
    "    }\n",
    "    \n",
    "    var pageHtml = `\n",
    "<!doctype html>\n",
    "<html>\n",
    "<head>\n",
    "<meta charset=\"utf-8\">\n",
    "<meta name=\"viewport\" content=\"width=device-width, initial-scale=1, maximum-scale=1.0, user-scalable=no\">\n",
    "<link rel=\"icon\" href=\"{{logo}}\">\n",
    "<link rel=\"stylesheet\" media=\"screen\" href=\"{{stylesheet}}\">\n",
    "<meta property=\"og:type\" content=\"website\">\n",
    "<meta property=\"og:title\" content=\"{{title}}\">\n",
    "<link rel=\"canonical\" href=\"${domain}/${layoutTitle}\">\n",
    "<title>{{title}}</title>\n",
    "<style>\n",
    "body > div.col-1:nth-of-type(2) {\n",
    "${banner}\n",
    "}\n",
    "</style>\n",
    "</head>\n",
    "<body class=\"${layoutTitle.replace(/\\//ig, ' ')} {{class}}\">\n",
    "${html}\n",
    "${script}\n",
    "</body>\n",
    "</html>`;\n",
    "    Mustache.parse(pageHtml);\n",
    "    return Mustache.render(pageHtml, properties);\n",
    "}\n",
    "\n",
    "module.exports = wrapTemplate;\n"
   ]
  },
  {
   "cell_type": "markdown",
   "metadata": {},
   "source": [
    "test output sheet template?\n"
   ]
  },
  {
   "cell_type": "code",
   "execution_count": null,
   "metadata": {},
   "outputs": [],
   "source": [
    "var fs = require('fs');\n",
    "var path = require('path');\n",
    "var assert = require('assert');\n",
    "var importer = require('../Core');\n",
    "var getTemplates = importer.import('templates google sheet');\n",
    "var getTemplateProperties = importer.import('google sheet template properties');\n",
    "var wrapTemplate = importer.import('output google sheet template');\n",
    "\n",
    "var docsId = '113mVIumItArQ_oXpfDRXP-2Kw2ms4t48oPJ68_p5P8k';\n",
    "\n",
    "describe('output rendered html', () => {\n",
    "    \n",
    "    it('should process at least one template', () => {\n",
    "        var templates, key, properties = {};\n",
    "        return getTemplates(docsId)\n",
    "            .then(t => {\n",
    "                templates = t;\n",
    "                key = Object.keys(templates).filter(k => templates[k].template)[0];\n",
    "                return getTemplateProperties(key, properties, templates)\n",
    "                    .then(() => wrapTemplate(key, properties[key], properties))\n",
    "            })\n",
    "            .then(page => {\n",
    "                assert(page.length > 0, 'should have a page');\n",
    "            })\n",
    "    })\n",
    "    \n",
    "    \n",
    "})\n"
   ]
  },
  {
   "cell_type": "markdown",
   "metadata": {},
   "source": [
    "collect google sheets resources?\n"
   ]
  },
  {
   "cell_type": "code",
   "execution_count": null,
   "metadata": {},
   "outputs": [],
   "source": [
    "var fs = require('fs');\n",
    "var path = require('path');\n",
    "var {JSDOM, XPathResult} = require('jsdom');\n",
    "var {Readable} = require('stream');\n",
    "var importer = require('../Core');\n",
    "var wrapTemplate = importer.import('output google sheet template');\n",
    "var getTemplateProperties = importer.import('google sheet template properties');\n",
    "var getArrayXPath = importer.import('get xpath array');\n",
    "var streamToGoogle = importer.import('upload files google cloud');\n",
    "\n",
    "var regexToArray = (ex, str, i = 0) => {\n",
    "    var co = []; var m; while ((m = ex.exec(str)) && co.push(m[i])); return co;\n",
    "};\n",
    "\n",
    "// detect links and write out every part of the site\n",
    "function collectTemplateResources(layoutTitle, page, properties, templates, bucketName, rendered, sTG) {\n",
    "    if(sTG) {\n",
    "        streamToGoogle = sTG;\n",
    "    }\n",
    "    if(!rendered) {\n",
    "        rendered = [];\n",
    "    }\n",
    "     \n",
    "    var stream = new Readable();\n",
    "    stream.push(page);\n",
    "    stream.push(null);\n",
    "    \n",
    "    // get all images and urls from template\n",
    "    var dom = new JSDOM(page);\n",
    "    \n",
    "    var linksObjs = getArrayXPath('//a[@href]', dom.window.document.body);\n",
    "    var links = linksObjs.map(l => l.getAttribute('href'));\n",
    "    \n",
    "    var imgObjs = getArrayXPath('//img[@src]', dom.window.document.body);\n",
    "    var imgs = imgObjs.map(l => l.getAttribute('src'));\n",
    "    \n",
    "    var stylesObjs = getArrayXPath('//link[@href]', dom.window.document.body);\n",
    "    var styles = stylesObjs.map(l => l.getAttribute('href'));\n",
    "\n",
    "    var scriptsObjs = getArrayXPath('//script[@src]', dom.window.document.body);\n",
    "    var scripts = scriptsObjs.map(l => l.getAttribute('src'));\n",
    "    \n",
    "    var backgrounds = regexToArray(/url\\((.*?)\\)/ig, page, 1);\n",
    "    \n",
    "    var paths = [];\n",
    "    \n",
    "    // TODO: return as a list and break into separate fuunction\n",
    "    // copy resource images to output directory\n",
    "    var searches = imgs.concat(styles).concat(backgrounds).concat(scripts)\n",
    "        .filter((cur, i, arr) => arr.indexOf(cur) == i && rendered.indexOf(cur) === -1)\n",
    "        .map(i => {\n",
    "            rendered[rendered.length] = i;\n",
    "            return i;\n",
    "        });\n",
    "    \n",
    "    var linked = links\n",
    "        .filter((cur, i, arr) => arr.indexOf(cur) == i && !cur.includes(':'))\n",
    "        .map(l => {\n",
    "            var urlParts = l.split('/')\n",
    "            var key = urlParts[1];\n",
    "            var fileName = key;\n",
    "            if(rendered.indexOf(l) > -1 || typeof templates[key] == 'undefined') {\n",
    "                return Promise.resolve(false);\n",
    "            }\n",
    "            \n",
    "            console.log('Rendering ' + l);\n",
    "            rendered[rendered.length] = l;\n",
    "            return getTemplateProperties(key, properties, templates)\n",
    "                .then(() => {\n",
    "                    // if rendering a page has url parts\n",
    "                    if(urlParts.length > 2) {\n",
    "                        // use the third argument to find the correct row in the data set\n",
    "                        var rowData = properties[key + '-data']\n",
    "                            .filter(row => row['link'] == l || row['url'] == l)[0];\n",
    "                        Object.assign(properties, rowData);\n",
    "                        fileName = l.substr(1);\n",
    "                    }\n",
    "                    return wrapTemplate(fileName, properties[key], properties)\n",
    "                })\n",
    "                .then(page => collectTemplateResources(fileName, page, properties, templates, bucketName, rendered));\n",
    "        });\n",
    "    return streamToGoogle(layoutTitle + '.html', bucketName, stream)\n",
    "        .then(() => Promise.all(linked))\n",
    "        .then(() => rendered);\n",
    "}\n",
    "\n",
    "module.exports = collectTemplateResources;"
   ]
  },
  {
   "cell_type": "markdown",
   "metadata": {},
   "source": [
    "test google sheets resources?\n"
   ]
  },
  {
   "cell_type": "code",
   "execution_count": null,
   "metadata": {},
   "outputs": [],
   "source": [
    "var assert = require('assert');\n",
    "var fs = require('fs');\n",
    "var path = require('path');\n",
    "var importer = require('../Core');\n",
    "var getTemplates = importer.import('templates google sheet');\n",
    "var wrapTemplate = importer.import('output google sheet template');\n",
    "var getTemplateProperties = importer.import('google sheet template properties');\n",
    "var collectTemplateResources = importer.import('collect google sheet resources');\n",
    "var findSimilarFile = importer.import('find similar file');\n",
    "\n",
    "//https://docs.google.com/spreadsheets/d/1hVchh-0CniUy427vpukwqPyeXVGKNc9SyBztjxlzbcM/copy\n",
    "//var docsId = '113mVIumItArQ_oXpfDRXP-2Kw2ms4t48oPJ68_p5P8k';\n",
    "var DOWNLOAD_DIR = path.resolve(path.join(__dirname, '../../Downloads'));\n",
    "var docsId = '1QeZ3WduNFmjtNf_Q3Xe5zAh8dzP_nn7nr-AQU0_hXg8';\n",
    "var bucketName = 'sheet-to-web.com';\n",
    "//var bucketName = 'www.shopilluminati.com';\n",
    "\n",
    "function streamToOutput(fileUrl, bucketName, stream) {    \n",
    "     return new Promise((resolve, reject) => {\n",
    "        if(typeof stream == 'object') {\n",
    "            var outputPath = path.join(path.resolve('./.output/'), fileUrl.replace(/\\?.*/ig, ''));\n",
    "            if(!fs.existsSync(path.dirname(outputPath))) {\n",
    "                fs.mkdirSync(path.dirname(outputPath));\n",
    "            }\n",
    "            var writeStream = fs.createWriteStream(outputPath);\n",
    "            stream.pipe(writeStream)\n",
    "            .on(\"error\", (err) => {\n",
    "                reject(err);\n",
    "            })\n",
    "            .on('finish', () => {\n",
    "                resolve(outputPath);\n",
    "            });\n",
    "        } else {\n",
    "            var outputPath = path.join(path.resolve('./.output/'), path.basename(fileUrl.replace(/\\?.*/ig, '')));\n",
    "            var writeStream = fs.createWriteStream(outputPath);\n",
    "            (fileUrl.includes('https://') ? https : http).get(fileUrl, response => {\n",
    "                response.pipe(writeStream)\n",
    "                .on(\"error\", (err) => {\n",
    "                    reject(err);\n",
    "                })\n",
    "                .on('finish', () => {\n",
    "                    resolve(outputPath);\n",
    "                });\n",
    "            }).catch(e => console.log(e));\n",
    "        }\n",
    "     });\n",
    "}\n",
    "\n",
    "describe('output template resources', () => {\n",
    "\n",
    "    it('should process at least one template', () => {\n",
    "        var templates, key, properties = {};\n",
    "        return getTemplates(docsId)\n",
    "            .then(t => {\n",
    "                templates = t;\n",
    "                key = Object.keys(templates).filter(k => templates[k].template)[0];\n",
    "                return getTemplateProperties(key, properties, templates)\n",
    "                    .then(() => wrapTemplate(key, properties[key], properties));\n",
    "            })\n",
    "            .then(page => {\n",
    "                // TODO: move this in to a new function for detecting links and writing every part of site\n",
    "                assert(page.length > 0, 'should have a page');\n",
    "                return collectTemplateResources(key, page, properties, templates, bucketName, false, streamToOutput)\n",
    "                    .then(resources => {\n",
    "                        console.log(resources);\n",
    "                        return Promise.all(resources.filter(r => !r.includes(':') && r.includes('.'))\n",
    "                            .map(r => {\n",
    "                                return findSimilarFile(path.basename(r), DOWNLOAD_DIR)\n",
    "                                    .then(f => {\n",
    "                                        if(f) {\n",
    "                                            return streamToGoogle(\n",
    "                                                f,\n",
    "                                                bucketName,\n",
    "                                                fs.createReadStream(path.join(DOWNLOAD_DIR, f)));\n",
    "                                        } else {\n",
    "                                            return Promise.resolve(false);\n",
    "                                        }\n",
    "                                    });\n",
    "                            }));\n",
    "                    });\n",
    "            })\n",
    "    }).timeout(60000)\n",
    "    \n",
    "    \n",
    "})\n"
   ]
  },
  {
   "cell_type": "markdown",
   "metadata": {},
   "source": [
    "get sheet identifier from link?\n"
   ]
  },
  {
   "cell_type": "code",
   "execution_count": 4,
   "metadata": {},
   "outputs": [
    {
     "name": "stdout",
     "output_type": "stream",
     "text": [
      "reading notebook /Users/briancullinan/jupytangular2/Utilities/google sheets.ipynb\n",
      "compiling /Users/briancullinan/jupytangular2/Utilities/google sheets.ipynb[2]\n",
      "reading notebook /Users/briancullinan/jupytangular2/Utilities/google sheets.ipynb\n",
      "compiling /Users/briancullinan/jupytangular2/Utilities/google sheets.ipynb[4]\n"
     ]
    },
    {
     "data": {
      "text/plain": [
       "[Function: getSheet]"
      ]
     },
     "execution_count": 4,
     "metadata": {},
     "output_type": "execute_result"
    }
   ],
   "source": [
    "var util = require('util');\n",
    "var getInfo = importer.import('get google sheet info');\n",
    "var getDataSheet = importer.import('google sheet array objects');\n",
    "var addRow = importer.import('add row data google sheet');\n",
    "var uuid = require('uuid/v1');\n",
    "\n",
    "var purchaseId = '1kWjkjLGxQyzFUzRLBk3LpcjPW3UjcaF-PBMDX_3hZfM';\n",
    "var project = 'spahaha-ea443';\n",
    "\n",
    "function safeName(name) {\n",
    "    return name.replace(/[^a-z\\-]/ig, '-').substr(0, 40);\n",
    "}\n",
    "\n",
    "function getSheet(link) {\n",
    "    var docId = link.replace(/https:\\/\\/docs.google.com\\/spreadsheets\\/d\\/|\\/edit.*$|\\/copy.*$/ig, '');\n",
    "    var name, title;\n",
    "    \n",
    "    return getInfo(link)\n",
    "        // return assigned subdomain\n",
    "        .then(info => {\n",
    "            name = safeName(info.properties.title.replace(/\\s*(config|configuration)\\s*/ig, '')) + '-' + uuid().substr(0, 5);\n",
    "            title = info.properties.title;\n",
    "            return getDataSheet(purchaseId, 'Purchases');\n",
    "        })\n",
    "        .then(purchases => {\n",
    "            var match = purchases.filter(p => p.sheet == docId)[0];\n",
    "            if(match) {\n",
    "                console.log(`Purchase ${docId} already exists: ${match.domain} or ${match.bucket}`);\n",
    "                return Promise.resolve(match.domain || match.bucket);\n",
    "            }\n",
    "            return addRow(purchaseId, {\n",
    "                timestamp: Date.now(),\n",
    "                title: title,\n",
    "                email: '',\n",
    "                address: '',\n",
    "                domain: '',\n",
    "                bucket: name + '.sheet-to-web.com',\n",
    "                project: project,\n",
    "                sheet: docId\n",
    "            })\n",
    "                .then(() => name + '.sheet-to-web.com')\n",
    "        })\n",
    "}\n",
    "\n",
    "module.exports = getSheet;"
   ]
  },
  {
   "cell_type": "markdown",
   "metadata": {},
   "source": [
    "test get sheet identifier?\n",
    "\n"
   ]
  },
  {
   "cell_type": "code",
   "execution_count": 3,
   "metadata": {},
   "outputs": [
    {
     "ename": "ReferenceError",
     "evalue": "describe is not defined",
     "output_type": "error",
     "traceback": [
      "evalmachine.<anonymous>:4",
      "describe('get sheet identifier', () => {",
      "^",
      "",
      "ReferenceError: describe is not defined",
      "    at evalmachine.<anonymous>:4:1",
      "    at ContextifyScript.Script.runInThisContext (vm.js:50:33)",
      "    at Object.runInThisContext (vm.js:139:38)",
      "    at run ([eval]:775:15)",
      "    at onRunRequest ([eval]:620:18)",
      "    at onMessage ([eval]:588:13)",
      "    at emitTwo (events.js:125:13)",
      "    at process.emit (events.js:213:7)",
      "    at emit (internal/child_process.js:774:12)",
      "    at _combinedTickCallback (internal/process/next_tick.js:141:11)"
     ]
    }
   ],
   "source": [
    "var importer = require('../Core');\n",
    "var getSheet = importer.import('get sheet identifier');\n",
    "\n",
    "describe('get sheet identifier', () => {\n",
    "\n",
    "    it('should process the sheet id', () => {\n",
    "        return getSheet('https://docs.google.com/spreadsheets/d/113mVIumItArQ_oXpfDRXP-2Kw2ms4t48oPJ68_p5P8k/edit#gid=0')\n",
    "            .then(s => {\n",
    "                console.log(s);\n",
    "                assert(s.length > 0, 'sheet domain should be returned')\n",
    "            })\n",
    "    })\n",
    "    \n",
    "})\n"
   ]
  },
  {
   "cell_type": "markdown",
   "metadata": {},
   "source": [
    "google sheet handler?\n"
   ]
  },
  {
   "cell_type": "code",
   "execution_count": 2,
   "metadata": {},
   "outputs": [
    {
     "data": {
      "text/plain": [
       "[AsyncFunction: handler]"
      ]
     },
     "execution_count": 2,
     "metadata": {},
     "output_type": "execute_result"
    }
   ],
   "source": [
    "var importer = require('../Core');\n",
    "var getSheet = importer.import('get sheet identifier');\n",
    "\n",
    "async function handler(req, res) {\n",
    "    res.set('Access-Control-Allow-Origin', '*');\n",
    "    return await getSheet(req.query['link'])\n",
    "        .then(r => res.status(200).send(r))\n",
    "        .catch(e => res.status(500).send(Object.getOwnPropertyNames(e).reduce((alt, key) => {\n",
    "            alt[key] = e[key] + '';\n",
    "            return alt;\n",
    "        }, {})));\n",
    "}\n",
    "\n",
    "module.exports.handler = handler;\n"
   ]
  },
  {
   "cell_type": "markdown",
   "metadata": {},
   "source": [
    "sheet marketing import?\n"
   ]
  },
  {
   "cell_type": "code",
   "execution_count": 10,
   "metadata": {},
   "outputs": [
    {
     "data": {
      "text/plain": [
       "[Function: importSheet]"
      ]
     },
     "execution_count": 10,
     "metadata": {},
     "output_type": "execute_result"
    }
   ],
   "source": [
    "var getDataSheet = importer.import('google sheet array objects');\n",
    "var getTemplates = importer.import('templates google sheet');\n",
    "var wrapTemplate = importer.import('output google sheet template');\n",
    "var getTemplateProperties = importer.import('google sheet template properties');\n",
    "var collectTemplateResources = importer.import('collect google sheet resources');\n",
    "\n",
    "var purchaseId = '1kWjkjLGxQyzFUzRLBk3LpcjPW3UjcaF-PBMDX_3hZfM';\n",
    "\n",
    "function importSheet(docId, domain) {\n",
    "    return getDataSheet(purchaseId, 'Purchases')\n",
    "        .then(purchases => {\n",
    "            var match = purchases.filter(p => p.sheet == docId)[0];\n",
    "            if(!match || domain !== match.domain && domain !== match.bucket) {\n",
    "                throw new Error(`Sheet ${docId} doesn't match domain ${domain}`);\n",
    "            }\n",
    "            return getTemplates(docsId)\n",
    "        })\n",
    "        .then(t => {\n",
    "            templates = t;\n",
    "            key = Object.keys(templates).filter(k => templates[k].template)[0];\n",
    "            return getTemplateProperties(key, properties, templates)\n",
    "                .then(() => wrapTemplate(key, properties[key], properties));\n",
    "        })\n",
    "        .then(page => {\n",
    "            // TODO: move this in to a new function for detecting links and writing every part of site\n",
    "            return collectTemplateResources(key, page, properties, templates, domain);\n",
    "        })\n",
    "        .then(resources => {\n",
    "            console.log(resources);\n",
    "        })\n",
    "}\n",
    "\n",
    "module.exports = importSheet;\n"
   ]
  },
  {
   "cell_type": "markdown",
   "metadata": {},
   "source": [
    "sheet marketing import handler?\n"
   ]
  },
  {
   "cell_type": "code",
   "execution_count": null,
   "metadata": {},
   "outputs": [],
   "source": [
    "var importer = require('../Core');\n",
    "var importSheet = importer.import('sheet marketing import');\n",
    "\n",
    "async function handler(req, res) {\n",
    "    res.set('Access-Control-Allow-Origin', '*');\n",
    "    return await importSheet(req.query['link'], req.query['domain'])\n",
    "        .then(r => res.status(200).send(r))\n",
    "        .catch(e => res.status(500).send(Object.getOwnPropertyNames(e).reduce((alt, key) => {\n",
    "            alt[key] = e[key] + '';\n",
    "            return alt;\n",
    "        }, {})));\n",
    "}\n",
    "\n",
    "module.exports.handler = handler;\n"
   ]
  },
  {
   "cell_type": "markdown",
   "metadata": {},
   "source": [
    "setup sheet backend?\n"
   ]
  },
  {
   "cell_type": "code",
   "execution_count": 6,
   "metadata": {},
   "outputs": [
    {
     "name": "stdout",
     "output_type": "stream",
     "text": [
      "reading notebook /Users/briancullinan/jupytangular2/Cloud Services/google cloud api.ipynb\n",
      "compiling /Users/briancullinan/jupytangular2/Cloud Services/google cloud api.ipynb[4]\n",
      "reading notebook /Users/briancullinan/jupytangular2/Cloud Services/google cloud api.ipynb\n",
      "compiling /Users/briancullinan/jupytangular2/Cloud Services/google cloud api.ipynb[10]\n",
      "reading notebook /Users/briancullinan/jupytangular2/Cloud Services/google cloud api.ipynb\n",
      "compiling /Users/briancullinan/jupytangular2/Cloud Services/google cloud api.ipynb[0]\n",
      "reading notebook /Users/briancullinan/jupytangular2/Cloud Services/google cloud api.ipynb\n",
      "compiling /Users/briancullinan/jupytangular2/Cloud Services/google cloud api.ipynb[1]\n",
      "reading notebook /Users/briancullinan/jupytangular2/Cloud Services/google cloud api.ipynb\n",
      "compiling /Users/briancullinan/jupytangular2/Cloud Services/google cloud api.ipynb[2]\n",
      "reading notebook /Users/briancullinan/jupytangular2/Cloud Services/google cloud api.ipynb\n",
      "compiling /Users/briancullinan/jupytangular2/Cloud Services/google cloud api.ipynb[6]\n"
     ]
    },
    {
     "data": {
      "text/plain": [
       "[Function: setupBackend]"
      ]
     },
     "execution_count": 6,
     "metadata": {},
     "output_type": "execute_result"
    }
   ],
   "source": [
    "var getDataSheet = importer.import('google sheet array objects');\n",
    "var purchaseId = '1kWjkjLGxQyzFUzRLBk3LpcjPW3UjcaF-PBMDX_3hZfM';\n",
    "var addIP = importer.import('check dns');\n",
    "var {\n",
    "    insertBackendBucket,\n",
    "    insertGlobalForward,\n",
    "    updateUrlMap\n",
    "} = importer.import('add google bucket web map');\n",
    "\n",
    "var urlMap = 'web-map';\n",
    "\n",
    "function setupBackend(docId, domain) {\n",
    "    var project;\n",
    "\n",
    "    return getDataSheet(purchaseId, 'Purchases')\n",
    "        .then(purchases => {\n",
    "            var match = purchases.filter(p => p.sheet == docId)[0];\n",
    "            if(!match || domain !== match.domain && domain !== match.bucket) {\n",
    "                throw new Error(`Sheet ${docId} doesn't match domain ${domain}`);\n",
    "            }\n",
    "            project = match.project;\n",
    "            return addIP(project, domain);\n",
    "        })\n",
    "        .then(ip => insertGlobalForward(project, ip, urlMap, domain))\n",
    "        .then(() => insertBackendBucket(project, domain))\n",
    "        .then(() => updateUrlMap(project, urlMap, domain))\n",
    "}\n",
    "\n",
    "module.exports = setupBackend;"
   ]
  },
  {
   "cell_type": "markdown",
   "metadata": {},
   "source": [
    "sheet backend handler?\n"
   ]
  },
  {
   "cell_type": "code",
   "execution_count": 9,
   "metadata": {},
   "outputs": [
    {
     "name": "stdout",
     "output_type": "stream",
     "text": [
      "reading notebook /Users/briancullinan/jupytangular2/Marketing/convert spreadsheet.ipynb\n",
      "compiling /Users/briancullinan/jupytangular2/Marketing/convert spreadsheet.ipynb[13]\n"
     ]
    },
    {
     "data": {
      "text/plain": [
       "[Function: handler]"
      ]
     },
     "execution_count": 9,
     "metadata": {},
     "output_type": "execute_result"
    }
   ],
   "source": [
    "var importer = require('../Core');\n",
    "var setupBackend = importer.import('setup sheet backend');\n",
    "\n",
    "function handler(req, res) {\n",
    "    res.set('Access-Control-Allow-Origin', '*');\n",
    "    return setupBackend(req.query['link'], req.query['domain'])\n",
    "        .then(r => res.status(200).send(r))\n",
    "        .catch(e => res.status(500).send(Object.getOwnPropertyNames(e).reduce((alt, key) => {\n",
    "            alt[key] = e[key] + '';\n",
    "            return alt;\n",
    "        }, {})));\n",
    "}\n",
    "    \n",
    "module.exports.handler = handler;\n"
   ]
  },
  {
   "cell_type": "markdown",
   "metadata": {},
   "source": [
    "package.json?\n"
   ]
  },
  {
   "cell_type": "code",
   "execution_count": null,
   "metadata": {},
   "outputs": [],
   "source": [
    "{\n",
    "    \"name\": \"SheetToWeb\",\n",
    "    \"description\": \"Marketing site functions\",\n",
    "    \"license\": \"UNLICENSED\",\n",
    "    \"scripts\": {\n",
    "    },\n",
    "    \"engines\": {\n",
    "        \"node\": \">= 8\",\n",
    "        \"npm\": \">= 4\"\n",
    "    },\n",
    "    \"repository\": {\n",
    "        \"type\": \"git\",\n",
    "        \"url\": \"git+https://github.com/megamindbrian/jupytangular.git\"\n",
    "    },\n",
    "    \"dependencies\": {\n",
    "        \"@google-cloud/compute\": \"^0.12.0\",\n",
    "        \"@google-cloud/storage\": \"^2.5.0\",\n",
    "        \"googleapis\": \"^39.2.0\",\n",
    "        \"jsdom\": \"^14.0.0\",\n",
    "        \"mustache\": \"^3.0.1\",\n",
    "        \"remarkable\": \"^1.7.1\"\n",
    "    }\n",
    "}\n"
   ]
  }
 ],
 "metadata": {
  "kernelspec": {
   "display_name": "Javascript (Node.js)",
   "language": "javascript",
   "name": "javascript"
  },
  "language_info": {
   "file_extension": ".js",
   "mimetype": "application/javascript",
   "name": "javascript",
   "version": "8.6.0"
  }
 },
 "nbformat": 4,
 "nbformat_minor": 2
}
