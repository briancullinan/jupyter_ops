{
 "cells": [
  {
   "cell_type": "markdown",
   "metadata": {},
   "source": [
    "How to convert a Google sheet to a static marketing website\n",
    "\n",
    "templates google doc?\n",
    "\n",
    "templates google sheet?"
   ]
  },
  {
   "cell_type": "code",
   "execution_count": null,
   "metadata": {},
   "outputs": [],
   "source": [
    "var fs = require('fs');\n",
    "var path = require('path');\n",
    "var util = require('util');\n",
    "\n",
    "var GoogleSpreadsheet = require('google-spreadsheet');\n",
    "\n",
    "function getTemplates(doc) {\n",
    "    if(typeof doc === 'string') {\n",
    "        doc = new GoogleSpreadsheet(doc);\n",
    "    }\n",
    "    return util.promisify(doc.getInfo)()\n",
    "        .then(info => {\n",
    "            console.log('Loaded doc: ' + info.title + ' by ' + info.author.email);\n",
    "            return info;\n",
    "        })\n",
    "        .then(s => s.worksheets.reduce((obj, w) => {\n",
    "            var name = w.title.toLowerCase().replace(/\\s*layout|\\s*data|\\s*template/ig, '');\n",
    "            if( typeof obj[name] == 'undefined' ) obj[name] = {template: null, data: null};\n",
    "            if( w.title.toLowerCase().includes('data') ) obj[name].data = w;\n",
    "            else obj[name].template = w;\n",
    "            return obj;\n",
    "        }, {}))\n",
    "}\n",
    "module.exports = getTemplates;\n"
   ]
  },
  {
   "cell_type": "markdown",
   "metadata": {},
   "source": [
    "test templates google sheet?\n"
   ]
  },
  {
   "cell_type": "code",
   "execution_count": null,
   "metadata": {},
   "outputs": [],
   "source": [
    "var assert = require('assert');\n",
    "var importer = require('../Core');\n",
    "var getTemplates = importer.import('templates google sheet');\n",
    "\n",
    "var docsId = '113mVIumItArQ_oXpfDRXP-2Kw2ms4t48oPJ68_p5P8k';\n",
    "\n",
    "describe('get templates from sheet', () => {\n",
    "    \n",
    "    it('should have at least one page', () => {\n",
    "        return getTemplates(docsId)\n",
    "            .then(t => {\n",
    "                console.log(JSON.stringify(Object.keys(t).reduce((obj, cur) => {\n",
    "                    obj[cur] = {};\n",
    "                    obj[cur].template = ((t[cur].template || {}).title || '').substr(0, 1000);\n",
    "                    obj[cur].data = (t[cur].data ? ('yes: ' + t[cur].data.rowCount) : 'no');\n",
    "                    return obj;\n",
    "                }, {}), null, 4))\n",
    "                assert(Object.keys(t).length > 0, 'should have a page called template');\n",
    "            })\n",
    "    })\n",
    "    \n",
    "    \n",
    "})\n"
   ]
  },
  {
   "cell_type": "markdown",
   "metadata": {},
   "source": [
    "get google data sheet?\n",
    "\n",
    "google sheet array objects?\n"
   ]
  },
  {
   "cell_type": "code",
   "execution_count": null,
   "metadata": {},
   "outputs": [],
   "source": [
    "\n",
    "function getDataSheet(worksheet) {\n",
    "    if(!worksheet) {\n",
    "        return Promise.resolve(false);\n",
    "    }\n",
    "    return util.promisify(worksheet.getCells)({\n",
    "        'min-row': 1,\n",
    "        'max-row': 100,\n",
    "        'return-empty': false\n",
    "    })\n",
    "        .then(cells => {\n",
    "            var columns = [];\n",
    "            return cells.reduce((acc, o, arr) => {\n",
    "                if (o.row == 1) {\n",
    "                    columns[o.col] = o.value;\n",
    "                    return acc;\n",
    "                }\n",
    "                if (!acc[o.row - 2]) {\n",
    "                    acc[o.row - 2] = {};\n",
    "                }\n",
    "                acc[o.row - 2][columns[o.col]] = md.render(o.value);\n",
    "                return acc;\n",
    "            }, []);\n",
    "        })\n",
    "}\n",
    "module.exports = getDataSheet;\n"
   ]
  },
  {
   "cell_type": "markdown",
   "metadata": {},
   "source": [
    "test google data sheet?\n"
   ]
  },
  {
   "cell_type": "code",
   "execution_count": null,
   "metadata": {},
   "outputs": [],
   "source": []
  },
  {
   "cell_type": "markdown",
   "metadata": {},
   "source": [
    "google sheet layout template?\n",
    "\n",
    "Convert a google sheet page to an HTML template\n",
    "\n"
   ]
  },
  {
   "cell_type": "code",
   "execution_count": null,
   "metadata": {},
   "outputs": [],
   "source": [
    "var Remarkable = require('remarkable');\n",
    "var md = new Remarkable({html: true});\n",
    "\n",
    "function getLayoutSheet(docInfo, sheetName) {\n",
    "    var sheet = docInfo.worksheets\n",
    "        .filter(w => w.title.toLowerCase().includes(sheetName)\n",
    "            && w.title.toLowerCase().includes('layout'))[0];\n",
    "    return util.promisify(sheet.getCells)({\n",
    "        'min-row': 1,\n",
    "        'max-row': 100,\n",
    "        'return-empty': false\n",
    "    })\n",
    "        .then(cells => htmlSheetMarkup(sheetName, cells))\n",
    "}\n",
    "\n",
    "function htmlSheetMarkup(sheetName, cells) {\n",
    "    const reserved = ['class', 'layout', 'props', 'iterate'];\n",
    "    var name = sheetName.split(/\\s/ig).join('').replace(/layout/ig, '');\n",
    "    var className = '';\n",
    "    var imports = [];\n",
    "    var html = cells.filter((c, i, arr) => c.value)\n",
    "        .map((c, i, arr) => {\n",
    "            var result;\n",
    "            if (reserved.includes(c.value)) {\n",
    "                var value = arr\n",
    "                    .filter(c2 => c2.row == c.row && c2.col == c.col + 1)[0].value\n",
    "                if (c.value == 'layout') {\n",
    "                    var layout = value.split(/\\s/ig).join('-');\n",
    "                    imports[imports.length] = value;\n",
    "                    return `\n",
    "<${layout} v-model=\"${name}\"></${layout}>`\n",
    "                } else if (c.value == 'iterate') {\n",
    "                    var layout = value.split(/\\s/ig).join('-');\n",
    "                    imports[imports.length] = value;\n",
    "                    return `\n",
    "<div v-for=\"item in value\"><${layout} :value=\"item\"></${layout}></div>`\n",
    "                } else if (c.value == 'class') {\n",
    "                    className = value;\n",
    "                    return '';\n",
    "                }\n",
    "            } else if (c.col > 1 && reserved.includes((arr\n",
    "                .filter(c2 => c2.row == c.row && c2.col == c.col - 1)[0] || {}).value)) {\n",
    "                return '';\n",
    "            } else if ((result = (/\\{+\\s*(value\\.)*(.*?)\\s*\\}+/ig).exec(c.value))) {\n",
    "                return `\n",
    "    <div class=\"${result[2]}\">${md.render(c.value)}</div>`;\n",
    "            }\n",
    "            return md.render(c.value);\n",
    "        }).join('        ');\n",
    "    return { html, className, imports };\n",
    "}\n",
    "\n",
    "module.exports = {\n",
    "    getLayoutSheet,\n",
    "    htmlSheetMarkup\n",
    "};"
   ]
  },
  {
   "cell_type": "markdown",
   "metadata": {},
   "source": [
    "test google sheet template?\n"
   ]
  },
  {
   "cell_type": "code",
   "execution_count": null,
   "metadata": {},
   "outputs": [],
   "source": []
  },
  {
   "cell_type": "markdown",
   "metadata": {},
   "source": [
    "output google sheet template?\n",
    "\n",
    "Save the generated template to an HTML file, wrapping it in a base template\n"
   ]
  },
  {
   "cell_type": "code",
   "execution_count": null,
   "metadata": {},
   "outputs": [],
   "source": [
    "\n",
    "function writeTemplate(className, html, data, sheetName, imports) {\n",
    "    var formal = sheetName.split(/\\s/ig)\n",
    "        .map(t => t[0].toUpperCase() + t.substr(1))\n",
    "        .join('')\n",
    "        .replace(/\\s*layout\\s*/ig, '');\n",
    "    var components = imports.map(i => i.split(/\\s/ig)\n",
    "        .map(t => t[0].toUpperCase() + t.substr(1))\n",
    "        .join('')\n",
    "        .replace(/\\s*layout\\s*/ig, ''));\n",
    "    var importString = components.map(importFormal => \n",
    "        `import ${importFormal} from \"./${importFormal}.vue\";`\n",
    "    ).join('\\n');\n",
    "    var name = sheetName.replace(/[^a-z]/ig, '');\n",
    "    fs.writeFileSync(path.join(__dirname, '../src/views/generated/' + formal + '.vue'), `\n",
    "<template>\n",
    "    <div class=\"${formal.toLocaleLowerCase()} ${className}\">\n",
    "${html}\n",
    "    </div>\n",
    "</template>\n",
    "\n",
    "<script>\n",
    "${importString}\n",
    "\n",
    "export default {\n",
    "    name: '${name}',\n",
    "    props: ['value'],\n",
    "    components: { ${components.join(',')} },\n",
    "    data() {\n",
    "        return { \n",
    "            \"${name}\": JSON.parse(${JSON.stringify(JSON.stringify(data))})\n",
    "        };\n",
    "    },\n",
    "};\n",
    "</script>\n",
    "`);\n",
    "}\n",
    "\n",
    "module.exports = writeTemplate;\n"
   ]
  },
  {
   "cell_type": "markdown",
   "metadata": {},
   "source": [
    "test output sheet template?\n"
   ]
  },
  {
   "cell_type": "code",
   "execution_count": null,
   "metadata": {},
   "outputs": [],
   "source": []
  }
 ],
 "metadata": {
  "kernelspec": {
   "display_name": "Javascript (Node.js)",
   "language": "javascript",
   "name": "javascript"
  },
  "language_info": {
   "file_extension": ".js",
   "mimetype": "application/javascript",
   "name": "javascript",
   "version": "8.6.0"
  }
 },
 "nbformat": 4,
 "nbformat_minor": 2
}
