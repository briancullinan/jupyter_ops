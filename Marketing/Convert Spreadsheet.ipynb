{
 "cells": [
  {
   "cell_type": "markdown",
   "metadata": {},
   "source": [
    "How to convert a Google sheet to a static marketing website\n",
    "\n",
    "templates google doc?\n",
    "\n",
    "templates google sheet?"
   ]
  },
  {
   "cell_type": "code",
   "execution_count": null,
   "metadata": {},
   "outputs": [],
   "source": [
    "var util = require('util');\n",
    "var GoogleSpreadsheet = require('google-spreadsheet');\n",
    "\n",
    "function getTemplates(doc) {\n",
    "    if(typeof doc === 'string') {\n",
    "        doc = new GoogleSpreadsheet(doc);\n",
    "    }\n",
    "    return util.promisify(doc.getInfo)()\n",
    "        .then(info => {\n",
    "            console.log('Loaded doc: ' + info.title + ' by ' + info.author.email);\n",
    "            return info;\n",
    "        })\n",
    "        .then(s => s.worksheets.reduce((obj, w) => {\n",
    "            var name = w.title.toLowerCase().replace(/\\s*layout|\\s*data|\\s*template/ig, '');\n",
    "            if( typeof obj[name] == 'undefined' ) obj[name] = {template: null, data: null};\n",
    "            if( w.title.toLowerCase().includes('data') ) obj[name].data = w;\n",
    "            else obj[name].template = w;\n",
    "            return obj;\n",
    "        }, {}))\n",
    "}\n",
    "module.exports = getTemplates;\n"
   ]
  },
  {
   "cell_type": "markdown",
   "metadata": {},
   "source": [
    "test templates google sheet?\n"
   ]
  },
  {
   "cell_type": "code",
   "execution_count": null,
   "metadata": {},
   "outputs": [],
   "source": [
    "var assert = require('assert');\n",
    "var importer = require('../Core');\n",
    "var getTemplates = importer.import('templates google sheet');\n",
    "\n",
    "var docsId = '113mVIumItArQ_oXpfDRXP-2Kw2ms4t48oPJ68_p5P8k';\n",
    "\n",
    "describe('get templates from sheet', () => {\n",
    "    \n",
    "    it('should have at least one page', () => {\n",
    "        return getTemplates(docsId)\n",
    "            .then(t => {\n",
    "                console.log(JSON.stringify(Object.keys(t).reduce((obj, cur) => {\n",
    "                    obj[cur] = {};\n",
    "                    obj[cur].template = ((t[cur].template || {}).title || '').substr(0, 1000);\n",
    "                    obj[cur].data = (t[cur].data ? ('yes: ' + t[cur].data.rowCount) : 'no');\n",
    "                    return obj;\n",
    "                }, {}), null, 4))\n",
    "                assert(Object.keys(t).length > 0, 'should have a page called template');\n",
    "            })\n",
    "    })\n",
    "    \n",
    "    \n",
    "})\n"
   ]
  },
  {
   "cell_type": "markdown",
   "metadata": {},
   "source": [
    "get google data sheet?\n",
    "\n",
    "google sheet array objects?\n"
   ]
  },
  {
   "cell_type": "code",
   "execution_count": null,
   "metadata": {},
   "outputs": [],
   "source": [
    "var Remarkable = require('remarkable');\n",
    "var md = new Remarkable({html: true});\n",
    "var util = require('util');\n",
    "\n",
    "function getDataSheet(worksheet) {\n",
    "    if(!worksheet) {\n",
    "        return Promise.resolve(false);\n",
    "    }\n",
    "    return util.promisify(worksheet.getCells)({\n",
    "        'min-row': 1,\n",
    "        'max-row': 100,\n",
    "        'return-empty': false\n",
    "    })\n",
    "        .then(cells => {\n",
    "            var columns = [];\n",
    "            return cells.reduce((acc, o, arr) => {\n",
    "                if (o.row == 1) {\n",
    "                    columns[o.col] = o.value;\n",
    "                    return acc;\n",
    "                }\n",
    "                if (!acc[o.row - 2]) {\n",
    "                    acc[o.row - 2] = {};\n",
    "                }\n",
    "                acc[o.row - 2][columns[o.col]] = md.render(o.value);\n",
    "                return acc;\n",
    "            }, []);\n",
    "        })\n",
    "}\n",
    "module.exports = getDataSheet;\n"
   ]
  },
  {
   "cell_type": "markdown",
   "metadata": {},
   "source": [
    "test google data sheet?\n"
   ]
  },
  {
   "cell_type": "code",
   "execution_count": null,
   "metadata": {},
   "outputs": [],
   "source": [
    "var assert = require('assert');\n",
    "var importer = require('../Core');\n",
    "var getTemplates = importer.import('templates google sheet');\n",
    "var getDataSheet = importer.import('google sheet array objects');\n",
    "\n",
    "var docsId = '113mVIumItArQ_oXpfDRXP-2Kw2ms4t48oPJ68_p5P8k';\n",
    "\n",
    "describe('get data from data sheet', () => {\n",
    "    \n",
    "    it('should process at least one data sheet', () => {\n",
    "        return getTemplates(docsId)\n",
    "            .then(t => {\n",
    "                var key = Object.keys(t).filter(k => t[k].data)[0];\n",
    "                assert(typeof key != 'undefined', 'should have at least one data sheet');\n",
    "                return getDataSheet(t[key].data);\n",
    "            })\n",
    "            .then(data => {\n",
    "                console.log(data.length);\n",
    "                console.log(data);\n",
    "                assert(data.length > 0, 'should have data');\n",
    "            })\n",
    "    })\n",
    "    \n",
    "    \n",
    "})\n"
   ]
  },
  {
   "cell_type": "markdown",
   "metadata": {},
   "source": [
    "google sheet layout template?\n",
    "\n",
    "Convert a google sheet page to an HTML template\n",
    "\n"
   ]
  },
  {
   "cell_type": "code",
   "execution_count": 1,
   "metadata": {},
   "outputs": [
    {
     "data": {
      "text/plain": [
       "{ getLayoutSheet: [Function: getLayoutSheet],\n",
       "  htmlSheetMarkup: [Function: htmlSheetMarkup] }"
      ]
     },
     "execution_count": 1,
     "metadata": {},
     "output_type": "execute_result"
    }
   ],
   "source": [
    "var Remarkable = require('remarkable');\n",
    "var md = new Remarkable({html: true});\n",
    "var Mustache = require('mustache');\n",
    "\n",
    "function getLayoutSheet(worksheet) {\n",
    "    if(!worksheet) {\n",
    "        return Promise.resolve(false);\n",
    "    }\n",
    "    return util.promisify(worksheet.getCells)({\n",
    "        'min-row': 1,\n",
    "        'max-row': 100,\n",
    "        'return-empty': false\n",
    "    })\n",
    "        .then(cells => {\n",
    "            // turn cells in to rows, TODO: can getCells options do this for me?\n",
    "            var rows = cells.reduce((arr, c) => {\n",
    "                if(typeof arr[c.row - 1] == 'undefined') arr[c.row - 1] = [];\n",
    "                arr[c.row - 1][c.col - 1] = c.value;\n",
    "                return arr;\n",
    "            }, []);\n",
    "        \n",
    "            console.log(rows);\n",
    "            \n",
    "            // set object properties for mustache template\n",
    "            var html = rows.reduce((arr, row, i) => {\n",
    "                // use subsequent column for property values\n",
    "                var props = {};\n",
    "                var rowsHtml = row.map((c, j) => {\n",
    "                    if(c.substr(0, 1) === ':') {\n",
    "                        props[c.substr(1)] = row[j + 1];\n",
    "                        return '';\n",
    "                    } else if(j == 0 || j >= 1 && row[j - 1] && row[j - 1].substr(0, 1) !== ':') {\n",
    "                        // render markdown content if it is not the value for the previous property\n",
    "                        return `<div class=\"cell-${j}\">${md.render(c)}</div>`;\n",
    "                    } else {\n",
    "                        return '';\n",
    "                    }\n",
    "                });\n",
    "                \n",
    "                // render mustache templates\n",
    "                var rowTemplate = `\n",
    "<div class=\"{{class}} col-{{colCount}}\">\n",
    "${rowsHtml.join('\\n')}\n",
    "</div>\n",
    "`;\n",
    "                Mustache.parse(rowTemplate);\n",
    "                arr[i] = Mustache.render(rowTemplate, Object.assign(props, {\n",
    "                    colCount: rowsHtml.length\n",
    "                }));\n",
    "                \n",
    "                return arr;\n",
    "            }, []);\n",
    "        \n",
    "            // render mustache page template\n",
    "            return html.join('\\n');\n",
    "        })\n",
    "}\n",
    "\n",
    "module.exports = getLayoutSheet;"
   ]
  },
  {
   "cell_type": "markdown",
   "metadata": {},
   "source": [
    "test google sheet template?\n"
   ]
  },
  {
   "cell_type": "code",
   "execution_count": null,
   "metadata": {},
   "outputs": [],
   "source": [
    "var assert = require('assert');\n",
    "var importer = require('../Core');\n",
    "var getTemplates = importer.import('templates google sheet');\n",
    "var getLayoutSheet = importer.import('google sheet layout template');\n",
    "\n",
    "var docsId = '113mVIumItArQ_oXpfDRXP-2Kw2ms4t48oPJ68_p5P8k';\n",
    "\n",
    "describe('get html from template', () => {\n",
    "    \n",
    "    it('should process at least one template', () => {\n",
    "        return getTemplates(docsId)\n",
    "            .then(t => {\n",
    "                var key = Object.keys(t).filter(k => t[k].template)[0];\n",
    "                assert(typeof key != 'undefined', 'should have at least one template');\n",
    "                return getLayoutSheet(t[key].template);\n",
    "            })\n",
    "            .then(template => {\n",
    "                console.log(template);\n",
    "                assert(template.length > 0, 'should have a page called template');\n",
    "            })\n",
    "    })\n",
    "    \n",
    "    \n",
    "})\n"
   ]
  },
  {
   "cell_type": "markdown",
   "metadata": {},
   "source": [
    "output google sheet template?\n",
    "\n",
    "Save the generated template to an HTML file, wrapping it in a base template\n"
   ]
  },
  {
   "cell_type": "code",
   "execution_count": null,
   "metadata": {},
   "outputs": [],
   "source": [
    "var fs = require('fs');\n",
    "var path = require('path');\n",
    "\n",
    "function writeTemplate(className, html, data, sheetName, imports) {\n",
    "    var formal = sheetName.split(/\\s/ig)\n",
    "        .map(t => t[0].toUpperCase() + t.substr(1))\n",
    "        .join('')\n",
    "        .replace(/\\s*layout\\s*/ig, '');\n",
    "    var components = imports.map(i => i.split(/\\s/ig)\n",
    "        .map(t => t[0].toUpperCase() + t.substr(1))\n",
    "        .join('')\n",
    "        .replace(/\\s*layout\\s*/ig, ''));\n",
    "    var importString = components.map(importFormal => \n",
    "        `import ${importFormal} from \"./${importFormal}.vue\";`\n",
    "    ).join('\\n');\n",
    "    var name = sheetName.replace(/[^a-z]/ig, '');\n",
    "    fs.writeFileSync(path.join(__dirname, '../src/views/generated/' + formal + '.vue'), `\n",
    "<template>\n",
    "    <div class=\"${formal.toLocaleLowerCase()} ${className}\">\n",
    "${html}\n",
    "    </div>\n",
    "</template>\n",
    "\n",
    "<script>\n",
    "${importString}\n",
    "\n",
    "export default {\n",
    "    name: '${name}',\n",
    "    props: ['value'],\n",
    "    components: { ${components.join(',')} },\n",
    "    data() {\n",
    "        return { \n",
    "            \"${name}\": JSON.parse(${JSON.stringify(JSON.stringify(data))})\n",
    "        };\n",
    "    },\n",
    "};\n",
    "</script>\n",
    "`);\n",
    "}\n",
    "\n",
    "module.exports = writeTemplate;\n"
   ]
  },
  {
   "cell_type": "markdown",
   "metadata": {},
   "source": [
    "test output sheet template?\n"
   ]
  },
  {
   "cell_type": "code",
   "execution_count": null,
   "metadata": {},
   "outputs": [],
   "source": []
  }
 ],
 "metadata": {
  "kernelspec": {
   "display_name": "Javascript (Node.js)",
   "language": "javascript",
   "name": "javascript"
  },
  "language_info": {
   "file_extension": ".js",
   "mimetype": "application/javascript",
   "name": "javascript",
   "version": "8.6.0"
  }
 },
 "nbformat": 4,
 "nbformat_minor": 2
}
