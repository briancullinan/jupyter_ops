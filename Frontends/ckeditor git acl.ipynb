{
 "cells": [
  {
   "cell_type": "markdown",
   "metadata": {},
   "source": [
    "# edit anywhere\n",
    "\n",
    "Purpose: change the web however you want, save and restore it from github, treat the web like one giant web of gists.\n",
    "\n",
    "\n"
   ]
  },
  {
   "cell_type": "markdown",
   "metadata": {
    "heading_collapsed": true
   },
   "source": [
    "## introduction\n",
    "\n",
    "First attempt at this app was using megamind.bot app, the editor takes an input URL, and a filename.\n"
   ]
  },
  {
   "cell_type": "markdown",
   "metadata": {
    "hidden": true
   },
   "source": [
    " It loads a website from crawled data from Selenium/data collection.ipynb. It then sent these parameters to the client app for displaying in the same frame.\n",
    "\n",
    "The new implementation should act more like a marketing website. Enter a URL in a box in the middle like Google, use the controls that appear on the copied page content. Use different methods to get the page content such as Selenium crawler or simple phantom browser.\n",
    "\n",
    "After the content is crawled, make any changes that save to a single Gist for the entire domain. Load the gist from domain when the page is loaded (plugin phase 2).\n",
    "\n",
    "TODO:\n",
    "\n",
    "Fix SPA/PWA apps and canvas copies.\n",
    "\n",
    "Move page processing to generalized Selenium, convert scripts.\n"
   ]
  },
  {
   "cell_type": "code",
   "execution_count": null,
   "metadata": {
    "hidden": true
   },
   "outputs": [],
   "source": []
  },
  {
   "cell_type": "markdown",
   "metadata": {
    "heading_collapsed": true
   },
   "source": [
    "## gist\n",
    "\n",
    "Read and write files from gist.\n",
    "\n"
   ]
  },
  {
   "cell_type": "markdown",
   "metadata": {
    "heading_collapsed": true,
    "hidden": true
   },
   "source": [
    "### read gist file\n"
   ]
  },
  {
   "cell_type": "markdown",
   "metadata": {
    "heading_collapsed": true,
    "hidden": true
   },
   "source": [
    "#### the code\n",
    "\n",
    "read gist file?\n"
   ]
  },
  {
   "cell_type": "markdown",
   "metadata": {
    "heading_collapsed": true,
    "hidden": true
   },
   "source": [
    "### write gist file\n",
    "\n"
   ]
  },
  {
   "cell_type": "markdown",
   "metadata": {
    "heading_collapsed": true,
    "hidden": true
   },
   "source": [
    "#### the code \n",
    "\n"
   ]
  },
  {
   "cell_type": "markdown",
   "metadata": {
    "heading_collapsed": true
   },
   "source": [
    "## ckeditor client\n",
    "\n",
    "Use CKEditor and some scripts to apply some ACLs to the page and output.\n",
    "\n"
   ]
  },
  {
   "cell_type": "markdown",
   "metadata": {
    "heading_collapsed": true,
    "hidden": true
   },
   "source": [
    "### apply ACL\n"
   ]
  },
  {
   "cell_type": "markdown",
   "metadata": {
    "heading_collapsed": true,
    "hidden": true
   },
   "source": [
    "#### the code\n",
    "apply acl to html?\n"
   ]
  },
  {
   "cell_type": "markdown",
   "metadata": {
    "heading_collapsed": true,
    "hidden": true
   },
   "source": [
    "### load ckeditor\n"
   ]
  },
  {
   "cell_type": "markdown",
   "metadata": {
    "heading_collapsed": true,
    "hidden": true
   },
   "source": [
    "#### the code\n"
   ]
  },
  {
   "cell_type": "code",
   "execution_count": null,
   "metadata": {
    "hidden": true
   },
   "outputs": [],
   "source": []
  },
  {
   "cell_type": "markdown",
   "metadata": {
    "heading_collapsed": true
   },
   "source": [
    "## tools\n"
   ]
  },
  {
   "cell_type": "markdown",
   "metadata": {
    "heading_collapsed": true,
    "hidden": true
   },
   "source": [
    "### restrain CSS\n",
    "\n",
    "Replace all CSS rules with a container ID to restain it's affects on the page.\n"
   ]
  },
  {
   "cell_type": "markdown",
   "metadata": {
    "heading_collapsed": true,
    "hidden": true
   },
   "source": [
    "#### the code\n",
    "\n",
    "restrain css? \n",
    "\n"
   ]
  },
  {
   "cell_type": "code",
   "execution_count": null,
   "metadata": {
    "hidden": true
   },
   "outputs": [],
   "source": []
  },
  {
   "cell_type": "code",
   "execution_count": null,
   "metadata": {
    "hidden": true
   },
   "outputs": [],
   "source": [
    "var {JSDOM} = require('jsdom');\n",
    "var _ = require('lodash');\n",
    "var glob = require('glob')\n",
    "var path = require('path');\n",
    "\n",
    "var PROFILE_PATH = process.env.HOME || process.env.HOMEPATH || process.env.USERPROFILE || '';\n",
    "var project = path.join(PROFILE_PATH, 'Collections/crawls');\n",
    "\n",
    "function noop() {}\n",
    "\n",
    "function getAllLinks(doc) {\n",
    "    var dom = new JSDOM(doc);\n",
    "    var xpaths = importer.import('all elements xpath');\n",
    "    xpaths.document = dom.window.document;\n",
    "    xpaths.client = {\n",
    "        execute: (func, ...args) => Promise.resolve({\n",
    "            // TODO: Synchronous utility!?\n",
    "            value: func.apply(dom.window.document, args)\n",
    "        }),\n",
    "        addCommand: noop\n",
    "    };\n",
    "    return xpaths.getAllXPath({\n",
    "        links: '//a/@href|//*[@src]/@src',\n",
    "        styles: '//link/@href|style/@text()'\n",
    "    }); \n",
    "}\n",
    "\n",
    "function fixLink(url, l) {\n",
    "    return l.trim().match(/^\\/\\//ig)\n",
    "       ? ('https:' + l.trim())\n",
    "       : (l.trim().match(/^https?:\\/\\//ig)\n",
    "         ? l.trim()\n",
    "         : url.replace(/\\/$/ig, '') + '/' + l.trim().replace(/^\\//ig, ''));\n",
    "}\n",
    "\n",
    "function loadScraped(gist, file) {\n",
    "    let files = {};\n",
    "    const crawl = _.sortBy(\n",
    "        glob.sync(\n",
    "            '**/*' + gist.replace(/[^a-z0-9_-]/ig, '_') + '*',\n",
    "            {cwd: project}\n",
    "        ),\n",
    "        a => fs.statSync(path.join(project, a)).mtime.getTime()\n",
    "    ).reverse();\n",
    "    // bail\n",
    "    if(!crawl.length) {\n",
    "        return files;\n",
    "    }\n",
    "    \n",
    "    const entry = JSON.parse(fs.readFileSync(path.join(project, crawl[0])).toString());\n",
    "    const content = entry.filter(r => r.url.includes(file)\n",
    "                                 || file === 'index'\n",
    "                                 && r.url.trim().replace(/https?:\\/\\/|\\/$/ig, '').includes(gist))[0];\n",
    "    if(content) {\n",
    "        wrapXPath(content.content);\n",
    "        const styles = content.styles.map(s => fixLink(content.url, s));\n",
    "        const stylesheets = entry\n",
    "            // TODO: fix this body doesn't work, remove <body tags from downloaded page\n",
    "            .filter(r => styles.includes(r.url))\n",
    "            .map(r => r.content.replace(/<body[^>]*?><pre[^>]*?>|<\\/pre[^>]*?><\\/body[^>]*?>/ig, ''))\n",
    "            .filter(r => !r.match(/<[^>]*?>.*?<\\/[^>]*?>/ig))\n",
    "            .join('\\n');\n",
    "        files['index.html'] = {\n",
    "            content: content.content\n",
    "        };\n",
    "        files['index-acl.json'] = {\n",
    "            content: '[]'\n",
    "        };\n",
    "        files['index.css'] = {\n",
    "            content: stylesheets\n",
    "        };\n",
    "    }\n",
    "    return getAllLinks(content.content)\n",
    "        .then(r => {})\n",
    "        .then(() => files)\n",
    "}\n",
    "module.exports = loadScraped;\n"
   ]
  },
  {
   "cell_type": "code",
   "execution_count": null,
   "metadata": {
    "hidden": true
   },
   "outputs": [],
   "source": [
    "var GitHubApi = require('github');\n",
    "var ASTQ = require('astq');\n",
    "var ASTY = require('asty');\n",
    "var css = require('css');\n",
    "var glob = require('glob');\n",
    "var importer = require('../Core');\n",
    "var loadScraped = importer.import('get scraped page');\n",
    "\n",
    "// commit changes to github\n",
    "function getGist(gist) {\n",
    "    const github = new GitHubApi({\n",
    "        host: 'api.github.com'\n",
    "    });\n",
    "    /*\n",
    "    github.authenticate({\n",
    "        type: 'basic',\n",
    "        username: process.env.USERNAME,\n",
    "        password: process.env.PASSWORD\n",
    "    });\n",
    "    */\n",
    "\n",
    "    return github.gists.get({id: gist})\n",
    "        .then(r => r.data.files);\n",
    "}\n",
    "\n",
    "function replaceSelectors(str, prefix) {\n",
    "    const ast = css.parse(str);\n",
    "    // TODO: add a check for media queries\n",
    "    ast.stylesheet.rules.forEach(r => {\n",
    "        if(typeof r.selectors === 'undefined') {\n",
    "            return;\n",
    "        }\n",
    "        r.selectors.forEach((s, i) => {\n",
    "            r.selectors[i] = prefix + ' ' + s;\n",
    "        });\n",
    "    })\n",
    "    return css.stringify(ast);\n",
    "}\n",
    "\n",
    "// git \n",
    "function gitEditor(gist, file) {\n",
    "    // TODO: use a Github repo as the input\n",
    "    const HOST_ID = 'webtest123'\n",
    "    gist = gist || 'act.com' || 'a572d0830ae72b962e12a57adaec7c52';\n",
    "    file = file || 'index';\n",
    "    return loadScraped(gist, file)\n",
    "        .then(files => typeof files[ file + '-acl.json' ] !== 'undefined'\n",
    "            ? Promise.resolve(files)\n",
    "            : getGist(gist))\n",
    "        .then(files => {\n",
    "            // scan using an acl list, similar to easylist?\n",
    "            // TODO: accept formats:\n",
    "            //    {\"selector\": \"selector\"}\n",
    "            //    {\"glob-url@selector\": \"glob-template-path@selector\"}\n",
    "            //    {\"selector\": \"html-file@selector\"}\n",
    "            //    {\"selector\": \"html-file@xpath\"} ?\n",
    "            //    {\"glob-file\": {\"glob-url\"...} || [\"selector\"]}\n",
    "            const paths = JSON.parse(files[ file + '-acl.json' ].content);\n",
    "            const content = files[ file + '.html' ].content;\n",
    "            const css = replaceSelectors(files[ file + '.css' ].content, '#' + HOST_ID);\n",
    "            return {\n",
    "                id: HOST_ID,\n",
    "                html: '<style>' + css + '</style>' + content,\n",
    "                acl: paths\n",
    "            };\n",
    "        })\n",
    "}\n",
    "module.exports = gitEditor;\n",
    "\n",
    "if(typeof $$ !== 'undefined') {\n",
    "    $$.async();\n",
    "    gitEditor()\n",
    "        .then(r => $$.sendResult(r))\n",
    "        .catch(e => $$.sendError(e))\n",
    "}\n"
   ]
  },
  {
   "cell_type": "code",
   "execution_count": null,
   "metadata": {
    "hidden": true
   },
   "outputs": [],
   "source": []
  },
  {
   "cell_type": "code",
   "execution_count": null,
   "metadata": {
    "hidden": true
   },
   "outputs": [],
   "source": []
  }
 ],
 "metadata": {
  "kernelspec": {
   "display_name": "Javascript (Node.js)",
   "language": "javascript",
   "name": "javascript"
  },
  "language_info": {
   "file_extension": ".js",
   "mimetype": "application/javascript",
   "name": "javascript",
   "version": "12.7.0"
  }
 },
 "nbformat": 4,
 "nbformat_minor": 2
}
