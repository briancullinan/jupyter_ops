{
 "cells": [
  {
   "cell_type": "code",
   "execution_count": 4,
   "metadata": {},
   "outputs": [
    {
     "data": {
      "text/plain": [
       "\n",
       "{{> menu}}\n",
       "<h1> Category: <span>{{#segment}}1{{/segment}}</span></h1>\n",
       "{{#category-data}}<div><img src=\"{{banner}}\" /><a href=\"{{link}}\"><h2>{{title}}</h2>{{{summary}}}</a></div>{{/category-data}}\n",
       "\n"
      ]
     },
     "execution_count": 4,
     "metadata": {},
     "output_type": "execute_result"
    }
   ],
   "source": [
    "# addfsa\n",
    "\n",
    "?>\n",
    "\n",
    "{{> menu}}\n",
    "<h1> Category: <span>{{#segment}}1{{/segment}}</span></h1>\n",
    "{{#category-data}}<div><img src=\"{{banner}}\" /><a href=\"{{link}}\"><h2>{{title}}</h2>{{{summary}}}</a></div>{{/category-data}}"
   ]
  },
  {
   "cell_type": "code",
   "execution_count": null,
   "metadata": {},
   "outputs": [],
   "source": []
  }
 ],
 "metadata": {
  "kernelspec": {
   "display_name": "PHP",
   "language": "php",
   "name": "jupyter-php"
  },
  "language_info": {
   "file_extension": ".php",
   "mimetype": "text/x-php",
   "name": "PHP",
   "pygments_lexer": "PHP",
   "version": "7.3.11"
  }
 },
 "nbformat": 4,
 "nbformat_minor": 2
}
