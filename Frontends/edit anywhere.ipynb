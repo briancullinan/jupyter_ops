{
 "cells": [
  {
   "cell_type": "markdown",
   "metadata": {},
   "source": [
    "# edit anywhere\n",
    "\n",
    "Purpose: change the web however you want, save and restore it from github, treat the web like one giant web of gists.\n",
    "\n"
   ]
  },
  {
   "cell_type": "markdown",
   "metadata": {},
   "source": [
    "## introduction\n",
    "\n",
    "First attempt at this app was using megamind.bot app, the editor takes an input URL, and a filename.\n"
   ]
  },
  {
   "cell_type": "markdown",
   "metadata": {},
   "source": [
    " It loads a website from crawled data from Selenium/data collection.ipynb. It then sent these parameters to the client app for displaying in the same frame.\n",
    "\n",
    "The new implementation should act more like a marketing website. Enter a URL in a box in the middle like Google, use the controls that appear on the copied page content. Use different methods to get the page content such as Selenium crawler or simple phantom browser.\n",
    "\n",
    "After the content is crawled, make any changes that save to a single Gist for the entire domain. Load the gist from domain when the page is loaded (plugin phase 2).\n",
    "\n",
    "TODO:\n",
    "\n",
    "Fix SPA/PWA apps and canvas copies.\n",
    "\n",
    "Move page processing to generalized Selenium, convert scripts.\n",
    "\n",
    "TODO: Use print to PDF in chrome ignoring print styles from Developer mode, better Selenium crawler.\n",
    "\n",
    "TODO: Make a tool for the page manipulation, this is a common theme.\n"
   ]
  },
  {
   "cell_type": "code",
   "execution_count": null,
   "metadata": {},
   "outputs": [],
   "source": []
  },
  {
   "cell_type": "markdown",
   "metadata": {},
   "source": [
    "## gist\n",
    "\n",
    "Read and write files from gist.\n",
    "\n"
   ]
  },
  {
   "cell_type": "markdown",
   "metadata": {},
   "source": [
    "### read gist files\n"
   ]
  },
  {
   "cell_type": "markdown",
   "metadata": {},
   "source": [
    "#### the code\n",
    "\n",
    "read gist files?\n"
   ]
  },
  {
   "cell_type": "code",
   "execution_count": null,
   "metadata": {},
   "outputs": [],
   "source": [
    "var Octokit = require('@octokit/rest');\n",
    "\n",
    "// commit changes to github\n",
    "function getGist(gist) {\n",
    "    if(!gist) return {}\n",
    "    const github = new Octokit({\n",
    "        host: 'api.github.com'\n",
    "    });\n",
    "    /*\n",
    "    github.authenticate({\n",
    "        type: 'basic',\n",
    "        username: process.env.USERNAME,\n",
    "        password: process.env.PASSWORD\n",
    "    });\n",
    "    */\n",
    "\n",
    "    //return github.gists.get({gist_id: gist})\n",
    "    return github.gists.get({gist_id: gist})\n",
    "        .then(r => r.data)\n",
    "        .catch(e => console.log(e))\n",
    "}\n",
    "\n",
    "module.exports = getGist\n"
   ]
  },
  {
   "cell_type": "markdown",
   "metadata": {},
   "source": [
    "#### test gist\n"
   ]
  },
  {
   "cell_type": "code",
   "execution_count": null,
   "metadata": {},
   "outputs": [],
   "source": [
    "var importer = require('../Core');\n",
    "var getGist = importer.import('read gist files');\n",
    "\n",
    "if(typeof $$ !== 'undefined') {\n",
    "    $$.async();\n",
    "    getGist('a572d0830ae72b962e12a57adaec7c52')\n",
    "        .then(r => $$.sendResult(r))\n",
    "        .catch(e => $$.sendError(e))\n",
    "}\n"
   ]
  },
  {
   "cell_type": "markdown",
   "metadata": {},
   "source": [
    "### write gist files\n",
    "\n",
    "write gist files?\n"
   ]
  },
  {
   "cell_type": "code",
   "execution_count": null,
   "metadata": {},
   "outputs": [],
   "source": []
  },
  {
   "cell_type": "markdown",
   "metadata": {
    "heading_collapsed": true
   },
   "source": [
    "#### the code \n",
    "\n"
   ]
  },
  {
   "cell_type": "markdown",
   "metadata": {},
   "source": [
    "## ckeditor client\n",
    "\n",
    "Use CKEditor and some scripts to apply some ACLs to the page and output.\n",
    "\n"
   ]
  },
  {
   "cell_type": "markdown",
   "metadata": {},
   "source": [
    "### apply ACL\n"
   ]
  },
  {
   "cell_type": "markdown",
   "metadata": {},
   "source": [
    "#### the code\n",
    "apply acl to html?\n"
   ]
  },
  {
   "cell_type": "code",
   "execution_count": null,
   "metadata": {},
   "outputs": [],
   "source": [
    "// scan using an acl list, similar to easylist?\n",
    "// TODO: accept formats:\n",
    "//    {\"selector\": \"selector\"}\n",
    "//    {\"glob-url@selector\": \"glob-template-path@selector\"}\n",
    "//    {\"selector\": \"html-file@selector\"}\n",
    "//    {\"selector\": \"html-file@xpath\"} ?\n",
    "//    {\"glob-file\": {\"glob-url\"...} || [\"selector\"]}\n",
    "const paths = JSON.parse('[]');"
   ]
  },
  {
   "cell_type": "markdown",
   "metadata": {},
   "source": [
    "### load ckeditor\n"
   ]
  },
  {
   "cell_type": "markdown",
   "metadata": {},
   "source": [
    "#### the code\n",
    "\n",
    "load ckeditor?\n"
   ]
  },
  {
   "cell_type": "code",
   "execution_count": null,
   "metadata": {},
   "outputs": [],
   "source": [
    "var {URL} = require('url')\n",
    "var importer = require('../Core')\n",
    "var loadScraped = importer.import('get scraped page')\n",
    "var getGist = importer.import('read gist files')\n",
    "var {selectDom} = importer.import('select tree')\n",
    "\n",
    "// git \n",
    "async function gitEditor(url, gist) {\n",
    "    // TODO: use a Github repo as the input\n",
    "    if(typeof url == 'string') {\n",
    "        url = new URL(url);\n",
    "    }\n",
    "    var file = url.filename\n",
    "    if(!file) file = 'index'\n",
    "\n",
    "    var files = await loadScraped(url)\n",
    "    if(typeof files[ file + '-acl.json' ] === 'undefined') {\n",
    "        var saved = await getGist(gist)\n",
    "        files[file + '-acl.json'] = JSON.parse(saved[file + '-acl.json'] || '[]')\n",
    "        if(typeof files[file + '-acl.json'] === 'string') {\n",
    "            files[file + '-acl.json'] = [files[file + '-acl.json']]\n",
    "        }\n",
    "    }\n",
    "\n",
    "    // inject the editor into copied page\n",
    "    var doc = selectDom('*', files[file])\n",
    "    var body = selectDom('//body', doc)\n",
    "    body.append('<script src=\"https://cdn.ckeditor.com/ckeditor5/16.0.0/classic/ckeditor.js\"></script>')\n",
    "    // add content editable to -acl list elements\n",
    "    files[file + '-acl.json'].forEach(i => {\n",
    "        var el = selectDom(i, body)\n",
    "        el.setAttribute('contenteditable', 'contenteditable')\n",
    "    })\n",
    "\n",
    "    return body.ownerDocument.documentElement.outerHTML\n",
    "}\n",
    "\n",
    "module.exports = gitEditor\n",
    "\n",
    "if(typeof $$ !== 'undefined') {\n",
    "    $$.async();\n",
    "    gitEditor('https://www.google.com')\n",
    "        .then(r => $$.mime({'text/html': r}))\n",
    "        .catch(e => $$.sendError(e))\n",
    "}\n"
   ]
  },
  {
   "cell_type": "markdown",
   "metadata": {},
   "source": [
    "## tools\n"
   ]
  },
  {
   "cell_type": "markdown",
   "metadata": {},
   "source": [
    "### restrain CSS\n",
    "\n",
    "Replace all CSS rules with a container ID to restain it's affects on the page.\n"
   ]
  },
  {
   "cell_type": "markdown",
   "metadata": {},
   "source": [
    "#### the code\n",
    "\n",
    "restrain css? \n",
    "\n",
    "scope css?\n",
    "\n"
   ]
  },
  {
   "cell_type": "code",
   "execution_count": null,
   "metadata": {},
   "outputs": [],
   "source": [
    "var css = require('css');\n",
    "\n",
    "function prefixCssRules(str, prefix) {\n",
    "    const ast = css.parse(str);\n",
    "    // TODO: add a check for media queries\n",
    "    ast.stylesheet.rules.forEach(r => {\n",
    "        if(typeof r.selectors === 'undefined') {\n",
    "            return;\n",
    "        }\n",
    "        r.selectors.forEach((s, i) => {\n",
    "            r.selectors[i] = prefix + ' ' + s;\n",
    "        });\n",
    "    })\n",
    "    return css.stringify(ast);\n",
    "}\n",
    "\n",
    "module.exports = prefixCssRules;\n"
   ]
  },
  {
   "cell_type": "markdown",
   "metadata": {
    "heading_collapsed": true
   },
   "source": [
    "### TODO: express crawl middleware\n",
    "\n",
    "Serve every static address from a cache crawl json file.\n",
    "\n",
    "TODO: move this to data collection tools\n"
   ]
  },
  {
   "cell_type": "code",
   "execution_count": null,
   "metadata": {
    "hidden": true
   },
   "outputs": [],
   "source": []
  },
  {
   "cell_type": "markdown",
   "metadata": {},
   "source": [
    "### read crawl files\n",
    "\n",
    "Load matching files from a crawled cache json file. See Selenium/data collection.ipynb for more information on crawl cache json.\n",
    "\n",
    "TODO: move this to data collection.ipynb tools\n"
   ]
  },
  {
   "cell_type": "markdown",
   "metadata": {},
   "source": [
    "#### the code \n",
    "\n",
    "read crawl files?\n",
    "\n",
    "get scraped page?\n"
   ]
  },
  {
   "cell_type": "code",
   "execution_count": null,
   "metadata": {
    "scrolled": false
   },
   "outputs": [],
   "source": [
    "var path = require('path')\n",
    "var fs = require('fs')\n",
    "var {URL} = require('url')\n",
    "var uuid = require('uuid/v1')\n",
    "var importer = require('../Core')\n",
    "var {glob} = importer.import('glob files')\n",
    "var {minimatch} = importer.import('minimatch')\n",
    "var {selectDom} = importer.import('select tree')\n",
    "var prefixCssRules = importer.import('scope css')\n",
    "var {findCache} = importer.import('domain crawler tools')\n",
    "\n",
    "var PROFILE_PATH = process.env.HOME || process.env.HOMEPATH || process.env.USERPROFILE || '';\n",
    "var project = path.join(PROFILE_PATH, 'Collections/crawls');\n",
    "\n",
    "function matchPage(match, search, hostname) {\n",
    "    return search.includes(match)\n",
    "        || minimatch(search, match)\n",
    "        || (!match || match === 'index')\n",
    "        && search.match(/https?:\\/\\/[^\\/]*\\/?$/ig)\n",
    "        && search.includes(hostname)\n",
    "}\n",
    "\n",
    "function loadScraped(url) {\n",
    "    if(typeof url == 'string') {\n",
    "        url = new URL(url);\n",
    "    }\n",
    "    var host = url.hostname\n",
    "    var file = url.filename\n",
    "    if(!file) file = 'index'\n",
    "    \n",
    "    // lookup on filesystem\n",
    "    var cache = findCache(host)\n",
    "    if(!cache[0]) {\n",
    "        return\n",
    "    }\n",
    "    const crawl = JSON.parse(fs.readFileSync(cache[0]).toString());\n",
    "    const entry = crawl.filter(r => matchPage(file, r.url, host))[0];\n",
    "    const result = {}\n",
    "    \n",
    "    // parse out styles and images and package it up in to one nice page\n",
    "    if(entry) {\n",
    "        const stylesheets = crawl\n",
    "            // TODO: fix this body doesn't work, remove <body tags from downloaded page\n",
    "            .filter(r => entry.styles.includes(r.url))\n",
    "            .map(r => selectDom('//body/pre', r.content).textContent)\n",
    "            .filter(r => r && !r.match(/<[^>]*?>.*?<\\/[^>]*?>/ig) && !r.match(/<style/ig))\n",
    "            .join('\\n');\n",
    "        //console.log(stylesheets)\n",
    "        // TODO: load images as data URIs and lower quality\n",
    "        const HOST_ID = uuid().substr(0, 5) + '-' + host.replace(/[^a-z0-9_-]/ig, '_')\n",
    "        const css = prefixCssRules(stylesheets, '#' + HOST_ID);\n",
    "        result[file] = `<div id=\"${HOST_ID}\"><style scoped>${css}</style>${entry.content}</div>`\n",
    "    }\n",
    "    return result\n",
    "}\n",
    "\n",
    "module.exports = loadScraped\n",
    "\n",
    "//var importer = require('../Core')\n",
    "//var loadScraped = importer.import('read crawl files')\n",
    "\n",
    "if(typeof $$ != 'undefined') {\n",
    "    var scraped = loadScraped('https://google.com')\n",
    "    $$.html(scraped)\n",
    "}\n"
   ]
  },
  {
   "cell_type": "markdown",
   "metadata": {},
   "source": [
    "#### test crawl cache loader\n",
    "\n"
   ]
  },
  {
   "cell_type": "code",
   "execution_count": null,
   "metadata": {},
   "outputs": [],
   "source": []
  }
 ],
 "metadata": {
  "kernelspec": {
   "display_name": "Javascript (Node.js)",
   "language": "javascript",
   "name": "javascript"
  },
  "language_info": {
   "file_extension": ".js",
   "mimetype": "application/javascript",
   "name": "javascript",
   "version": "12.7.0"
  }
 },
 "nbformat": 4,
 "nbformat_minor": 2
}
