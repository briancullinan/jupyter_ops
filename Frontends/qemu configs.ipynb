{
 "cells": [
  {
   "cell_type": "markdown",
   "metadata": {},
   "source": [
    "# qemu\n",
    "\n"
   ]
  },
  {
   "cell_type": "markdown",
   "metadata": {},
   "source": [
    "## omg this is complicated but still better than virtualbox\n",
    "\n",
    "\n"
   ]
  },
  {
   "cell_type": "markdown",
   "metadata": {},
   "source": [
    "### mac\n",
    "\n",
    "https://github.com/kholia/OSX-KVM\n",
    "\n",
    "\n"
   ]
  },
  {
   "cell_type": "markdown",
   "metadata": {
    "heading_collapsed": true
   },
   "source": [
    "#### mac config\n"
   ]
  },
  {
   "cell_type": "code",
   "execution_count": null,
   "metadata": {
    "hidden": true
   },
   "outputs": [],
   "source": []
  },
  {
   "cell_type": "code",
   "execution_count": null,
   "metadata": {
    "hidden": true
   },
   "outputs": [],
   "source": [
    "qemu-system-x86_64 -vga std -nographic -vnc :1 -enable-kvm -m 3072 -cpu Penryn,kvm=on,vendor=GenuineIntel,+invtsc,vmware-cpuid-freq=on,$MY_OPTIONS\\\n",
    "          -machine pc-q35-2.11 \\\n",
    "          -smp 4,cores=2 \\\n",
    "          -usb -device usb-kbd -device usb-tablet \\\n",
    "          -device isa-applesmc,osk=\"ourhardworkbythesewordsguardedpleasedontsteal(c)AppleComputerInc\" \\\n",
    "          -drive if=pflash,format=raw,readonly,file=OVMF_CODE.fd \\\n",
    "          -drive if=pflash,format=raw,file=OVMF_VARS-1024x768.fd \\\n",
    "          -smbios type=2 \\\n",
    "          -device ich9-intel-hda -device hda-duplex \\\n",
    "          -device ide-drive,bus=ide.2,drive=Clover \\\n",
    "          -drive id=Clover,if=none,snapshot=on,format=qcow2,file=./'Mojave/Clover.qcow2' \\\n",
    "          -device ide-drive,bus=ide.1,drive=MacHDD \\\n",
    "          -drive id=MacHDD,if=none,file=./mac_hdd.img,format=qcow2 \\\n",
    "          -device ide-drive,bus=ide.0,drive=MacDVD \\\n",
    "          -drive id=MacDVD,if=none,snapshot=on,media=cdrom,file=./'Mojave.iso' \\\n",
    "          -netdev tap,id=net0,ifname=tap0,script=no,downscript=no -device vmxnet3,netdev=net0,id=net0,mac=52:54:00:AB:F8:B7\n",
    "          \n",
    "          "
   ]
  },
  {
   "cell_type": "markdown",
   "metadata": {},
   "source": [
    "### ubuntu\n",
    "\n"
   ]
  },
  {
   "cell_type": "markdown",
   "metadata": {},
   "source": [
    "#### working ubuntu config\n",
    "\n",
    "https://www.dzombak.com/files/qemu-bridging-mavericks.pdf\n",
    "\n",
    "```\n",
    "    -net nic,model=virtio,macaddr=54:54:00:55:55:55 \\\n",
    "    -netdev tap,ifname=tap0,script=./tap-up.sh,downscript=./tap-down.sh,id=n1 \\\n",
    "    -device e1000-82545em,netdev=n1\n",
    "```\n"
   ]
  },
  {
   "cell_type": "code",
   "execution_count": null,
   "metadata": {},
   "outputs": [],
   "source": [
    "qemu-system-x86_64 -monitor stdio \\\n",
    "    -device ati-vga \\\n",
    "    -enable-kvm -accel hvf \\\n",
    "    -smp 2 \\\n",
    "    -m 3G \\\n",
    "    -netdev tap,ifname=tap0,br=bridge1,script=no,downscript=no,id=n1 \\\n",
    "    -device rtl8139,netdev=n1 \\\n",
    "    -drive if=ide,index=1,media=cdrom,file=\"\" \\\n",
    "    -drive file=\"./VirtualBox VMs/Ubuntu/Ubuntu.vmdk\",if=none,id=ubuntuhdd \\\n",
    "    -device virtio-blk-pci,drive=ubuntuhdd,bus=pci.0,bootindex=2 \\\n",
    "    -device piix3-usb-uhci \\\n",
    "    -drive id=freeagent,file=/dev/disk2,if=none,format=raw \\\n",
    "    -device usb-storage,drive=freeagent"
   ]
  },
  {
   "cell_type": "markdown",
   "metadata": {
    "heading_collapsed": true
   },
   "source": [
    "#### more configs\n",
    "\n"
   ]
  },
  {
   "cell_type": "code",
   "execution_count": null,
   "metadata": {
    "hidden": true
   },
   "outputs": [],
   "source": [
    "qemu-system-x86_64 -smp 3 -cpu host -m 3G -vga qxl \\\n",
    "    -spice port=5924,disable-ticketing \\\n",
    "    -drive file=/Users/briancullinan/VirtualBox\\ VMs/Ubuntu/Ubuntu.vmdk,if=virtio \\\n",
    "    -net nic,model=virtio -net user,hostname=ubuntuvm \\\n",
    "    -monitor stdio -name \"Ubuntu\" \\\n",
    "&& spicy --title Ubuntu 127.0.0.1 -p 5924"
   ]
  },
  {
   "cell_type": "markdown",
   "metadata": {},
   "source": [
    "### windows\n"
   ]
  },
  {
   "cell_type": "markdown",
   "metadata": {
    "heading_collapsed": true
   },
   "source": [
    "#### more info\n",
    "\n"
   ]
  },
  {
   "cell_type": "markdown",
   "metadata": {
    "hidden": true
   },
   "source": [
    "\n",
    "\n",
    "Guest\n",
    "During installation at the partition step Windows doesn't detect the VirtIO hard drive. You have to tell Windows to use the viostor driver from the driver image.\n",
    "After installation Windows doesn't for the VirtIO ethernet adapter. You have to tell Windows to use the netkvm driver from the driver image.\n",
    "For 32 bit Windows 7 a sound driver for the Intel 82801AA AC97 exists.\n",
    "For 64 bit Windows 7 Intel HDA is available as an option (QEMU option: -soundhw hda)\n",
    "USB 2.0 pass through can be configured from host to guest with variations of: -usb -device usb-ehci,id=ehci -device usb-host,bus=ehci.0,vendorid=1452\n",
    "For Windows 8.1 USB tablet is available only with USB 2.0 pass through (QEMU option: -device usb-ehci,id=ehci -device usb-tablet,bus=ehci.0\n",
    "SPICE\n",
    "Running SPICE\n",
    "SPICE (KVM)\n",
    "QEMU with SPICE support enable (among other things) the more powerful QXL display device and makes clipboard sharing possible (copy/paste between clients and the virtual machine).\n",
    "\n",
    "To use SPICE with QEMU enable the following USE flag in package.use:\n",
    "\n",
    "FILE /etc/portage/package.useSetting USE variable\n",
    "app-emulation/qemu   spice\n"
   ]
  },
  {
   "cell_type": "markdown",
   "metadata": {},
   "source": [
    "#### working windows config\n",
    "\n"
   ]
  },
  {
   "cell_type": "code",
   "execution_count": null,
   "metadata": {},
   "outputs": [],
   "source": [
    "qemu-system-x86_64 -monitor stdio \\\n",
    "    -device ati-vga \\\n",
    "    -enable-kvm -accel hvf \\\n",
    "    -smp 2 \\\n",
    "    -m 3G \\\n",
    "    -net nic,model=virtio -net user,hostname=windowsvm \\\n",
    "    -drive if=ide,index=1,media=cdrom,file=\"\" \\\n",
    "    -drive file=\"./Parallels/Windows 10.pvm/harddisk.hdd/harddisk.hdd.0.{5fbaabe3-6958-40ff-92a7-860e329aab41}.hds\",if=none,id=windowshdd \\\n",
    "    -device virtio-blk-pci,drive=windowshdd,bus=pci.0,bootindex=2\n"
   ]
  },
  {
   "cell_type": "markdown",
   "metadata": {
    "heading_collapsed": true
   },
   "source": [
    "#### more configs\n",
    "\n"
   ]
  },
  {
   "cell_type": "code",
   "execution_count": null,
   "metadata": {
    "hidden": true
   },
   "outputs": [],
   "source": [
    "qemu-system-x86_64 --enable-kvm \\ \n",
    "-drive file=./win10.img,if=virtio \\\n",
    "-smp 4 -m 4096 -vga qxl \\\n",
    "-net nic,model=virtio -net user \\\n",
    "-soundhw hda\n",
    "\n",
    "qemu-system-x86_64 --enable-kvm \\\n",
    "-drive file=./win10.img,if=virtio \\\n",
    "-smp 4 -cpu host -m 4096 -vga qxl \\\n",
    "-net nic,model=virtio -net user \\\n",
    "-soundhw hda\n"
   ]
  },
  {
   "cell_type": "code",
   "execution_count": null,
   "metadata": {
    "hidden": true
   },
   "outputs": [],
   "source": [
    "#!/bin/sh\n",
    "SPICE_PORT=5924\n",
    "qemu-system-x86_64 -enable-kvm -daemonize \\\n",
    "    -cpu host \\\n",
    "    -drive file=WindowsVM.img,if=virtio \\\n",
    "    -net nic -net user,hostname=windowsvm \\\n",
    "    -m 1G \\\n",
    "    -vga qxl \\\n",
    "    -spice port=${SPICE_PORT},disable-ticketing \\\n",
    "    -usbdevice tablet \\\n",
    "    -device virtio-serial \\\n",
    "    -chardev spicevmc,id=vdagent,name=vdagent \\\n",
    "    -device virtserialport,chardev=vdagent,name=com.redhat.spice.0 \\\n",
    "    \"$@\"\n",
    "exec spicy --title Windows 127.0.0.1 -p 5924\n",
    "\n"
   ]
  },
  {
   "cell_type": "code",
   "execution_count": null,
   "metadata": {
    "hidden": true
   },
   "outputs": [],
   "source": [
    "#!/bin/sh\n",
    "SPICE_PORT=5924\n",
    "qemu-system-x86_64 -enable-kvm -daemonize \\\n",
    "    -cpu host \\\n",
    "    -drive file=WindowsVM.img,if=virtio \\\n",
    "    -net nic -net user,hostname=windowsvm \\\n",
    "    -m 1G \\\n",
    "    -vga qxl \\\n",
    "    -spice port=${SPICE_PORT},disable-ticketing \\\n",
    "    -usbdevice tablet \\\n",
    "    -device virtio-serial \\\n",
    "    -chardev spicevmc,id=vdagent,name=vdagent \\\n",
    "    -device virtserialport,chardev=vdagent,name=com.redhat.spice.0 \\\n",
    "    \"$@\"\n",
    "exec remote-viewer --title Windows spice://127.0.0.1:${SPICE_PORT}\n",
    "\n"
   ]
  },
  {
   "cell_type": "code",
   "execution_count": null,
   "metadata": {
    "hidden": true
   },
   "outputs": [],
   "source": [
    "#!/bin/sh\n",
    "WINIMG=~/vm/Win10_1803_English_x64.iso\n",
    "VIRTIMG=~/vm/virtio-win-0.1.149.iso\n",
    "qemu-system-x86_64 --enable-kvm -drive driver=raw,file=~/vm/win10.img,if=virtio -m 6144 \\\n",
    "-net nic,model=virtio -net user -cdrom ${WINIMG} \\\n",
    "-drive file=${VIRTIMG},index=3,media=cdrom \\\n",
    "-rtc base=localtime,clock=host -smp cores=4,threads=8 \\\n",
    "-usb -device usb-tablet \\\n",
    "-net user,smb=$HOME\n",
    "\n"
   ]
  }
 ],
 "metadata": {
  "kernelspec": {
   "display_name": "Bash",
   "language": "bash",
   "name": "bash"
  },
  "language_info": {
   "codemirror_mode": "shell",
   "file_extension": ".sh",
   "mimetype": "text/x-sh",
   "name": "bash"
  }
 },
 "nbformat": 4,
 "nbformat_minor": 2
}
