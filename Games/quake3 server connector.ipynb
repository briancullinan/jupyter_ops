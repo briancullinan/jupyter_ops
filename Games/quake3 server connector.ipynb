{
 "cells": [
  {
   "cell_type": "markdown",
   "metadata": {},
   "source": [
    "# quake 3 server connector\n",
    "\n"
   ]
  },
  {
   "cell_type": "markdown",
   "metadata": {},
   "source": [
    "## channel\n",
    "\n",
    "\n"
   ]
  },
  {
   "cell_type": "markdown",
   "metadata": {},
   "source": [
    "### channel message poller\n",
    "\n"
   ]
  },
  {
   "cell_type": "markdown",
   "metadata": {},
   "source": [
    "#### the code\n",
    "\n",
    "poll discord channel?\n",
    "\n"
   ]
  },
  {
   "cell_type": "code",
   "execution_count": null,
   "metadata": {},
   "outputs": [],
   "source": [
    "var fs = require('fs')\n",
    "var {request} = require('gaxios')\n",
    "var PROFILE_PATH = process.env.HOME || process.env.HOMEPATH || process.env.USERPROFILE\n",
    "var credentials\n",
    "var tokenPath\n",
    "if(fs.existsSync('./discord-bot.json')) {\n",
    "    tokenPath = path.resolve('./discord-bot.txt')\n",
    "} else {\n",
    "    tokenPath = path.join(PROFILE_PATH, '.credentials/discord-bot.txt')\n",
    "}\n",
    "\n",
    "async function authorizeDiscord() {\n",
    "    var {client_id, client_secret} = JSON.parse(fs.readFileSync(credentials).toString('utf-8'))\n",
    "    if(fs.existsSync(tokenPath))\n",
    "        var {access_token, expires} = JSON.parse(fs.readFileSync(tokenPath).toString('utf-8'))\n",
    "    if(access_token && Date.now() < expires) return access_token\n",
    "    var data = `grant_type=client_credentials&scope=identify%20connections%20bot%20guilds%20messages.read%20rpc`\n",
    "    var result = await request({\n",
    "        headers: {\n",
    "            'Content-Type': 'application/x-www-form-urlencoded',\n",
    "            Authorization: 'Basic ' + Buffer.from(`${client_id}:${client_secret}`).toString('base64')\n",
    "        },\n",
    "        method: 'POST',\n",
    "        url: `https://discord.com/api/v6/oauth2/token`,\n",
    "        data\n",
    "    })\n",
    "    fs.writeFileSync(tokenPath, JSON.stringify(Object.assign({}, result.data, {\n",
    "        expires: (result.data.expires_in * 1000) + Date.now()}), null, 2))\n",
    "    return result.data.access_token\n",
    "}\n",
    "\n",
    "async function userGuilds(userId = '@me') {\n",
    "    var token = fs.readFileSync(tokenPath).toString('utf-8').trim()\n",
    "    var result = await request({\n",
    "        headers: {\n",
    "            Authorization: `Bot ${token}`\n",
    "        },\n",
    "        method: 'GET',\n",
    "        url: `https://discord.com/api/v6/users/${userId}/guilds`\n",
    "    })\n",
    "    return result.data\n",
    "}\n",
    "\n",
    "async function guildChannels(guildId = '393252386426191873') {\n",
    "    var token = fs.readFileSync(tokenPath).toString('utf-8').trim()\n",
    "    var result = await request({\n",
    "        headers: {\n",
    "            Authorization: `Bot ${token}`\n",
    "        },\n",
    "        method: 'GET',\n",
    "        url: `https://discord.com/api/v6/guilds/${guildId}/channels`\n",
    "    })\n",
    "    return result.data\n",
    "}\n",
    "\n",
    "async function channelMessages(channelId = '393252386426191875') {\n",
    "    var params = {\n",
    "        after: (BigInt(Date.now() - 1420070400000 - 1000 * 65) << 22n).toString()\n",
    "    };\n",
    "    var token = fs.readFileSync(tokenPath).toString('utf-8').trim()\n",
    "    var result = await request({\n",
    "        headers: {\n",
    "            Authorization: `Bot ${token}`\n",
    "        },\n",
    "        method: 'GET',\n",
    "        url: `https://discord.com/api/v6/channels/${channelId}/messages`,\n",
    "        params\n",
    "    })\n",
    "    return result.data\n",
    "}\n",
    "\n",
    "module.exports = userGuilds\n"
   ]
  }
 ],
 "metadata": {
  "kernelspec": {
   "display_name": "Javascript (Node.js)",
   "language": "javascript",
   "name": "javascript"
  },
  "language_info": {
   "file_extension": ".js",
   "mimetype": "application/javascript",
   "name": "javascript",
   "version": "12.7.0"
  }
 },
 "nbformat": 4,
 "nbformat_minor": 4
}
