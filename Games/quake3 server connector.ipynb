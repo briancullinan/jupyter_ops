{
 "cells": [
  {
   "cell_type": "markdown",
   "metadata": {},
   "source": [
    "# quake 3 server connector\n",
    "\n"
   ]
  },
  {
   "cell_type": "markdown",
   "metadata": {},
   "source": [
    "## discord api\n",
    "\n",
    "\n"
   ]
  },
  {
   "cell_type": "markdown",
   "metadata": {},
   "source": [
    "### channel message poller\n",
    "\n"
   ]
  },
  {
   "cell_type": "markdown",
   "metadata": {},
   "source": [
    "#### the code\n",
    "\n",
    "poll discord channel?\n",
    "\n",
    "discord api?\n",
    "\n"
   ]
  },
  {
   "cell_type": "code",
   "execution_count": null,
   "metadata": {},
   "outputs": [],
   "source": [
    "var fs = require('fs')\n",
    "var path = require('path')\n",
    "var {request} = require('gaxios')\n",
    "var PROFILE_PATH = process.env.HOME || process.env.HOMEPATH || process.env.USERPROFILE\n",
    "var credentials\n",
    "var tokenPath\n",
    "if(fs.existsSync('./discord-bot.json')) {\n",
    "    tokenPath = path.resolve('./discord-bot.txt')\n",
    "} else {\n",
    "    tokenPath = path.join(PROFILE_PATH, '.credentials/discord-bot.txt')\n",
    "}\n",
    "\n",
    "async function userGuilds(userId = '@me') {\n",
    "    var token = fs.readFileSync(tokenPath).toString('utf-8').trim()\n",
    "    var result = await request({\n",
    "        headers: {\n",
    "            Authorization: `Bot ${token}`\n",
    "        },\n",
    "        method: 'GET',\n",
    "        url: `https://discord.com/api/v6/users/${userId}/guilds`\n",
    "    })\n",
    "    return result.data\n",
    "}\n",
    "\n",
    "async function guildChannels(guildId = '393252386426191873') {\n",
    "    var token = fs.readFileSync(tokenPath).toString('utf-8').trim()\n",
    "    var result = await request({\n",
    "        headers: {\n",
    "            Authorization: `Bot ${token}`\n",
    "        },\n",
    "        method: 'GET',\n",
    "        url: `https://discord.com/api/v6/guilds/${guildId}/channels`\n",
    "    })\n",
    "    return result.data\n",
    "}\n",
    "\n",
    "async function channelMessages(channelId = '393252386426191875') {\n",
    "    var params = {\n",
    "        after: (BigInt(Date.now() - 1420070400000 - 1000 * 65) << 22n).toString()\n",
    "    };\n",
    "    var token = fs.readFileSync(tokenPath).toString('utf-8').trim()\n",
    "    var result = await request({\n",
    "        headers: {\n",
    "            Authorization: `Bot ${token}`\n",
    "        },\n",
    "        method: 'GET',\n",
    "        url: `https://discord.com/api/v6/channels/${channelId}/messages`,\n",
    "        params\n",
    "    })\n",
    "    return result.data\n",
    "}\n",
    "\n",
    "async function triggerTyping(channelId = '393252386426191875') {\n",
    "    var token = fs.readFileSync(tokenPath).toString('utf-8').trim()\n",
    "    var result = await request({\n",
    "        headers: {\n",
    "            Authorization: `Bot ${token}`\n",
    "        },\n",
    "        method: 'POST',\n",
    "        url: `https://discord.com/api/v6/channels/${channelId}/typing`\n",
    "    })\n",
    "    return result.data\n",
    "}\n",
    "\n",
    "async function createMessage(message, nonce = false, channelId = '393252386426191875') {\n",
    "    var params = {\n",
    "        content: message\n",
    "    }\n",
    "    if(nonce) params['nonce'] = nonce\n",
    "    var token = fs.readFileSync(tokenPath).toString('utf-8').trim()\n",
    "    var result = await request({\n",
    "        headers: {\n",
    "            Authorization: `Bot ${token}`\n",
    "        },\n",
    "        method: 'POST',\n",
    "        url: `https://discord.com/api/v6/channels/${channelId}/messages`,\n",
    "        params\n",
    "    })\n",
    "    return result.data\n",
    "}\n",
    "\n",
    "module.exports = {\n",
    "    userGuilds,\n",
    "    guildChannels,\n",
    "    channelMessages,\n",
    "    triggerTyping,\n",
    "    createMessage\n",
    "}\n"
   ]
  },
  {
   "cell_type": "markdown",
   "metadata": {
    "heading_collapsed": true
   },
   "source": [
    "#### authorize dicsord oauth\n"
   ]
  },
  {
   "cell_type": "code",
   "execution_count": null,
   "metadata": {
    "hidden": true
   },
   "outputs": [],
   "source": [
    "\n",
    "/*\n",
    "async function authorizeDiscord() {\n",
    "    var {client_id, client_secret} = JSON.parse(fs.readFileSync(credentials).toString('utf-8'))\n",
    "    if(fs.existsSync(tokenPath))\n",
    "        var {access_token, expires} = JSON.parse(fs.readFileSync(tokenPath).toString('utf-8'))\n",
    "    if(access_token && Date.now() < expires) return access_token\n",
    "    var data = `grant_type=client_credentials&scope=identify%20connections%20bot%20guilds%20messages.read%20rpc`\n",
    "    var result = await request({\n",
    "        headers: {\n",
    "            'Content-Type': 'application/x-www-form-urlencoded',\n",
    "            Authorization: 'Basic ' + Buffer.from(`${client_id}:${client_secret}`).toString('base64')\n",
    "        },\n",
    "        method: 'POST',\n",
    "        url: `https://discord.com/api/v6/oauth2/token`,\n",
    "        data\n",
    "    })\n",
    "    fs.writeFileSync(tokenPath, JSON.stringify(Object.assign({}, result.data, {\n",
    "        expires: (result.data.expires_in * 1000) + Date.now()}), null, 2))\n",
    "    return result.data.access_token\n",
    "}\n",
    "*/\n"
   ]
  },
  {
   "cell_type": "markdown",
   "metadata": {},
   "source": [
    "### respond to channel commands\n",
    "\n"
   ]
  },
  {
   "cell_type": "markdown",
   "metadata": {},
   "source": [
    "#### the code\n",
    "\n"
   ]
  },
  {
   "cell_type": "code",
   "execution_count": null,
   "metadata": {},
   "outputs": [],
   "source": [
    "var importer = require('../Core')\n",
    "var discordApi = importer.import('discord api')\n",
    "\n",
    "async function readAllCommands() {\n",
    "    // matching format  @megamind  challenge freon dm17 , :thumbsup:   :thumbsdown: .\n",
    "    var messages = []\n",
    "    var responses = []\n",
    "    var channels = []\n",
    "    var commands = []\n",
    "    var launches = []\n",
    "    var guilds = await discordApi.userGuilds()\n",
    "    for(var i = 0; i < guilds.length; i++) {\n",
    "        channels.push.apply(channels, await guildChannels(guilds[i]))\n",
    "    }\n",
    "    \n",
    "    for(var i = 0; i < channels.length; i++) {\n",
    "        messages.push.apply(messages, await channelMessages(channels[i].id))\n",
    "    }\n",
    "    \n",
    "    // find commands in channel history\n",
    "   for(var j = 0; j < messages.length; j++) {\n",
    "        if(messages[j].content.match(/challenge/ig)\n",
    "            && messages[j].mentions.length > 0) {\n",
    "            commands.push(messages[j])\n",
    "            if(messages[j].reactions\n",
    "                .filter(a => a.emoji.name.match(/:thumbsup:/ig)).length > 0) {\n",
    "                launches.push(messages[j])\n",
    "            }\n",
    "        }\n",
    "        if(messages[j].nonce.match(/^BOT/ig)) {\n",
    "            responses.push(messages[j])\n",
    "            if(messages[j].reactions\n",
    "                .filter(a => a.emoji.name.match(/:thumbsup:/ig)).length > 0) {\n",
    "                var l = messages.filter(m => m.id == messages[j].nonce)[0]\n",
    "                if(l) launches.push(l)\n",
    "            }\n",
    "        }\n",
    "    }\n",
    "    \n",
    "    // exclude commands that already got a response\n",
    "    return commands\n",
    "        .filter(c => responses.filter(r => 'BOT'+c.id == r.nonce).length === 0)\n",
    "        .concat(launches)\n",
    "        .filter(c => responses.filter(r => 'BOT'+c.id+'L' == r.nonce).length === 0)\n",
    "}\n",
    "\n",
    "async function respondCommand() {\n",
    "    var commands = await readAllCommands()\n",
    "    for(var i = 0; i < commands.length; i++) {\n",
    "        var message = 'I read you,'\n",
    "        var instruction = ''\n",
    "        var launch = ''\n",
    "        var launching = commands[i].reactions\n",
    "            .filter(a => a.emoji.name.match(/:thumbsup:/ig)).length > 0\n",
    "        var map = ''\n",
    "        var options = (/challenge\\s?([^:@\\s]*?)\\s?([^:@\\s]*?)/ig).exec(commands[i].content)\n",
    "        if(options) {\n",
    "            launch = options[1]\n",
    "            map = options[2]\n",
    "        } else {\n",
    "            message = 'Got it,'\n",
    "        }\n",
    "        if(map.length = '') {\n",
    "            map = 'q3dm17'\n",
    "        }\n",
    "        if(launch.length == 0) {\n",
    "            instruction += ' assuming baseq3 on map ' + map\n",
    "        } else if(launching) {\n",
    "            message = 'Let\\'s play,'\n",
    "            instruction += ' ' + launch + ' on map ' + map\n",
    "        }\n",
    "        if(!commands[i].content.match(/:thumbsup:/ig)) {\n",
    "            message = 'Waiting for reaction,'\n",
    "            instruction += ' react with :thumbsup: to launch'\n",
    "        }\n",
    "        if(launching) {\n",
    "            message = 'Launching,'\n",
    "            await discordApi.createMessage(message + instruction, 'BOT'+commands[i].id+'L', commands[i].channel_id)\n",
    "            await discordApi.triggerTyping(commands[i].channel_id)\n",
    "            \n",
    "        } else if (instruction.length > 0) {\n",
    "            await discordApi.createMessage(message + instruction, 'BOT'+commands[i].id, commands[i].channel_id)\n",
    "        }\n",
    "    }\n",
    "}\n",
    "\n",
    "module.exports = respondCommand\n"
   ]
  },
  {
   "cell_type": "markdown",
   "metadata": {},
   "source": [
    "## quake 3 commands\n",
    "\n"
   ]
  },
  {
   "cell_type": "markdown",
   "metadata": {},
   "source": [
    "### quake 3 server commands\n",
    "\n"
   ]
  },
  {
   "cell_type": "markdown",
   "metadata": {},
   "source": [
    "#### the code\n",
    "\n",
    "quake 3 server commands?\n"
   ]
  },
  {
   "cell_type": "code",
   "execution_count": null,
   "metadata": {},
   "outputs": [],
   "source": [
    "var dgram = require('dgram')\n",
    "var udpClient = dgram.createSocket('udp4')\n",
    "udpClient.on('message', updateInfo)\n",
    "\n",
    "var masters = []\n",
    "async function updateInfo(m) {\n",
    "    console.log(m.toString('utf-8'))\n",
    "}\n",
    "\n",
    "async function sendRcon() {\n",
    "    \n",
    "}\n",
    "\n",
    "async function listMasters() {\n",
    "    var msgBuff = new Buffer.from('\\xFF\\xFF\\xFF\\xFFgetservers 68'.split('').map(c => c.charCodeAt(0)))\n",
    "    console.log(msgBuff)\n",
    "    udpClient.send(msgBuff, 0, msgBuff.length, 27950, 'master.ioquake3.org')\n",
    "    await new Promise(resolve => setTimeout(resolve, 10000))\n",
    "    udpClient.close()\n",
    "    return masters\n",
    "}\n",
    "\n",
    "async function getStatus() {\n",
    "    var msgBuff = new Buffer.from('\\xFF\\xFF\\xFF\\xFFgetinfo xxx');\n",
    "    udpClient.send(msgBuff, 0, msgBuff.length, SERVER_PORT, SERVER_IP);\n",
    "}\n",
    "\n",
    "\n",
    "module.exports = listMasters\n"
   ]
  },
  {
   "cell_type": "markdown",
   "metadata": {},
   "source": [
    "### find available server\n",
    "\n"
   ]
  },
  {
   "cell_type": "markdown",
   "metadata": {},
   "source": [
    "#### the code\n",
    "\n"
   ]
  },
  {
   "cell_type": "code",
   "execution_count": null,
   "metadata": {},
   "outputs": [],
   "source": []
  }
 ],
 "metadata": {
  "kernelspec": {
   "display_name": "Javascript (Node.js)",
   "language": "javascript",
   "name": "javascript"
  },
  "language_info": {
   "file_extension": ".js",
   "mimetype": "application/javascript",
   "name": "javascript",
   "version": "12.7.0"
  }
 },
 "nbformat": 4,
 "nbformat_minor": 4
}
