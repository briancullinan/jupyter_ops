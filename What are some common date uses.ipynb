{
  "cells": [
    {
      "cell_type": "markdown",
      "source": [
        "How to find Tuesdays late in the month?"
      ],
      "metadata": {
        "collapsed": false,
        "outputHidden": false,
        "inputHidden": false
      }
    },
    {
      "cell_type": "code",
      "source": [
        "function getTuesdays(month, year) {\n",
        "    var d = new Date(year, month, 1),\n",
        "        tuesdays = [];\n",
        "\n",
        "    d.setDate(d.getDate() + (9 - d.getDay()) % 7)\n",
        "    while (d.getMonth() === month) {\n",
        "        tuesdays.push(new Date(d.getTime()));\n",
        "        d.setDate(d.getDate() + 7);\n",
        "    }\n",
        "\n",
        "    return tuesdays;\n",
        "}\n",
        "\n",
        "var month = (new Date()).getMonth();\n",
        "var results = [];\n",
        "for(var m = month; month <= 12; month++) {\n",
        "    results = results.concat(getTuesdays(month, 2017).filter((d) => d.getDate() > 25));\n",
        "}\n",
        "console.log(results.map(d => d.getDate() + '/' + (d.getMonth()+1)).join('\\r\\n'))"
      ],
      "outputs": [
        {
          "output_type": "stream",
          "name": "stdout",
          "text": [
            "30/5\r\n",
            "27/6\r\n",
            "29/8\r\n",
            "26/9\r\n",
            "31/10\r\n",
            "28/11\r\n",
            "26/12\n"
          ]
        }
      ],
      "execution_count": 4,
      "metadata": {
        "collapsed": false,
        "outputHidden": false,
        "inputHidden": false
      }
    },
    {
      "cell_type": "code",
      "source": [],
      "outputs": [],
      "execution_count": null,
      "metadata": {
        "collapsed": false,
        "outputHidden": false,
        "inputHidden": false
      }
    }
  ],
  "metadata": {
    "kernelspec": {
      "name": "node_nteract",
      "language": "javascript",
      "display_name": "Node.js (nteract)"
    },
    "kernel_info": {
      "name": "node_nteract"
    },
    "language_info": {
      "name": "javascript",
      "version": "6.5.0",
      "mimetype": "application/javascript",
      "file_extension": ".js"
    }
  },
  "nbformat": 4,
  "nbformat_minor": 4
}