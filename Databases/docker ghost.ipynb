{
 "cells": [
  {
   "cell_type": "markdown",
   "metadata": {},
   "source": [
    "# docker ghost\n",
    "\n",
    "Analyze a file system compared to the docker base image, create docker compose file for all services.\n",
    "\n",
    "https://opensource.com/alternatives/norton-ghost-disk-imaging\n",
    "\n",
    "\n",
    "TODO: parallels replacement with docker?\n",
    "\n",
    "TODO: respond on /r/docker because everyone who likes docker doesn't think it's possible.\n",
    "\n"
   ]
  }
 ],
 "metadata": {
  "kernelspec": {
   "display_name": "Javascript (Node.js)",
   "language": "javascript",
   "name": "javascript"
  },
  "language_info": {
   "file_extension": ".js",
   "mimetype": "application/javascript",
   "name": "javascript",
   "version": "12.7.0"
  }
 },
 "nbformat": 4,
 "nbformat_minor": 2
}
