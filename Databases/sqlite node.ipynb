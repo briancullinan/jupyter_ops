{
 "cells": [
  {
   "cell_type": "code",
   "execution_count": 11,
   "metadata": {},
   "outputs": [
    {
     "ename": "TypeError",
     "evalue": "Expected first argument to be a function",
     "output_type": "error",
     "traceback": [
      "/Users/briancullinan/jupyter_ops/node_modules/better-sqlite3/lib/transaction.js:5",
      "\tif (typeof fn !== 'function') throw new TypeError('Expected first argument to be a function');",
      "\t                              ^",
      "",
      "TypeError: Expected first argument to be a function",
      "    at Database.transaction (/Users/briancullinan/jupyter_ops/node_modules/better-sqlite3/lib/transaction.js:5:38)",
      "    at evalmachine.<anonymous>:8:4",
      "    at Script.runInThisContext (vm.js:126:20)",
      "    at Object.runInThisContext (vm.js:316:38)",
      "    at run ([eval]:1054:15)",
      "    at onRunRequest ([eval]:888:18)",
      "    at onMessage ([eval]:848:13)",
      "    at process.emit (events.js:203:13)",
      "    at emit (internal/child_process.js:876:12)",
      "    at processTicksAndRejections (internal/process/task_queues.js:77:11)"
     ]
    }
   ],
   "source": [
    "var fs = require('fs')\n",
    "var path = require('path')\n",
    "var sqlite3 = require('better-sqlite3')\n",
    "var sauce = '/Users/briancullinan/Documents/studysauce3/db/studysauce.db'\n",
    "var db = new sqlite3(sauce, {})\n",
    "var cmds = fs.readFileSync('/Users/briancullinan/Documents/studysauce3/db/studysauce.sqlite')\n",
    "    .toString()\n",
    "db.transaction(cmds).run()"
   ]
  },
  {
   "cell_type": "code",
   "execution_count": null,
   "metadata": {},
   "outputs": [],
   "source": []
  },
  {
   "cell_type": "code",
   "execution_count": null,
   "metadata": {},
   "outputs": [],
   "source": []
  }
 ],
 "metadata": {
  "kernelspec": {
   "display_name": "Javascript (Node.js)",
   "language": "javascript",
   "name": "javascript"
  },
  "language_info": {
   "file_extension": ".js",
   "mimetype": "application/javascript",
   "name": "javascript",
   "version": "12.7.0"
  }
 },
 "nbformat": 4,
 "nbformat_minor": 2
}
