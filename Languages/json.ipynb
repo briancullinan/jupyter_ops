{
 "cells": [
  {
   "cell_type": "markdown",
   "metadata": {},
   "source": [
    "# json \n",
    "\n",
    "javascript seriealized object notation\n",
    "\n",
    "Why parse when JSON is built in? To do it in as few lines as possible. Learn something about syntax and parsing. Create an API or pattern for lexing languages.\n"
   ]
  },
  {
   "cell_type": "markdown",
   "metadata": {
    "heading_collapsed": true
   },
   "source": [
    "#### more information\n"
   ]
  },
  {
   "cell_type": "markdown",
   "metadata": {
    "hidden": true
   },
   "source": [
    "\n",
    "Derived from: https://github.com/ralfstx/minimal-json/blob/master/com.eclipsesource.json/src/main/java/com/eclipsesource/json/JsonParser.java\n",
    "\n",
    "Here's the part that bug me\n",
    "\n",
    "```\n",
    "  private void readValue() throws IOException {\n",
    "    switch (current) {\n",
    "      case 'n':\n",
    "        readNull();\n",
    "        break;\n",
    "      case 't':\n",
    "        readTrue();\n",
    "        break;\n",
    "...\n",
    "```\n",
    "\n",
    "Code would be so much shorter if it was just refactored a bit. Switch statements are really long when a list/dictionary could be used like:\n",
    "\n",
    "```\n",
    "var handler = {\n",
    "    n: readNull\n",
    "    t: readTrue\n",
    "}\n",
    "\n",
    "return handler[current]()\n",
    "\n",
    "```\n",
    "\n",
    "50 lines reduced to only 10 just by changing the type of statement.\n",
    "\n"
   ]
  },
  {
   "cell_type": "markdown",
   "metadata": {},
   "source": [
    "## stream json\n",
    "\n",
    "Because notebooks could store images and data sets. They might get fairly large, unfortunately. Stream the file so the big parts don't stick around in memory.\n"
   ]
  },
  {
   "cell_type": "markdown",
   "metadata": {},
   "source": [
    "#### the code\n",
    "\n",
    "select json?\n",
    "\n",
    "How to stream json using a {match} function?\n"
   ]
  },
  {
   "cell_type": "code",
   "execution_count": null,
   "metadata": {},
   "outputs": [],
   "source": [
    "var {Buffer} = require('buffer')\n",
    "\n",
    "// replace json path with this\n",
    "function walkJson(select, ctx, evaluate) {\n",
    "    // when a positive compile is reached,\n",
    "    //   return the new results\n",
    "    \n",
    "    // try to create valid json by\n",
    "    //   filling in the missing syntax\n",
    "    \n",
    "    // once successful, record what token/path\n",
    "    //   we're on an dealloc\n",
    "    \n",
    "    // call evaluate with only the valid parts\n",
    "    \n",
    "}\n",
    "\n",
    "function selectJson(select, file) {\n",
    "    if(typeof file === 'string') {\n",
    "        file = path.resolve(file)\n",
    "        file = fs.createReadStream(file, {\n",
    "        //    highWaterMark: 128 * 1024,\n",
    "        //    start: 0,\n",
    "        //    end: Infinity\n",
    "        })\n",
    "    }\n",
    "    \n",
    "    var results = []\n",
    "    var buffer = new Buffer(2048)\n",
    "    var evaluate = (select, ctx) => {\n",
    "        results.push.apply(results, selectTree(select, ctx))\n",
    "    }\n",
    "    file.on('data', (chunk) => {\n",
    "        buffer.push(chunk)\n",
    "        walkJson(select, buffer, evaluate)\n",
    "    })\n",
    "    file.on('end', (chunk) => {\n",
    "        buffer.push(chunk)\n",
    "        walkJson(select, buffer, evaluate)\n",
    "    })\n",
    "    \n",
    "    return results\n",
    "}\n",
    "\n",
    "module.exports = {\n",
    "    selectJson\n",
    "}\n"
   ]
  },
  {
   "cell_type": "markdown",
   "metadata": {},
   "source": [
    "#### test stream by creating a slow stream?\n",
    "\n"
   ]
  },
  {
   "cell_type": "code",
   "execution_count": null,
   "metadata": {
    "scrolled": false
   },
   "outputs": [],
   "source": [
    "var fs = require('fs')\n",
    "var path = require('path')\n",
    "var {Readable} = require('stream')\n",
    "var importer = require('../Core')\n",
    "var {selectJson} = importer.import('select json')\n",
    "\n",
    "function testSelectJson() {\n",
    "    var package = fs.createReadStream(\n",
    "        path.join(__dirname, '../package.json'), {\n",
    "            highWaterMark: 8\n",
    "        })\n",
    "    var slowStream = new Readable()\n",
    "    slowStream._read = () => {}\n",
    "    var delay = 50\n",
    "    package.on('data', (data) => {\n",
    "        delay += 50\n",
    "        setTimeout(() => slowStream.push(data), delay)\n",
    "    })\n",
    "    return selectJson('//depenedencies', slowStream)\n",
    "}\n",
    "\n",
    "module.exports = testSelectJson\n",
    "\n",
    "if(typeof $$ !== 'undefined') {\n",
    "    console.log(testSelectJson())\n",
    "}\n"
   ]
  },
  {
   "cell_type": "code",
   "execution_count": null,
   "metadata": {},
   "outputs": [],
   "source": []
  }
 ],
 "metadata": {
  "kernelspec": {
   "display_name": "Javascript (Node.js)",
   "language": "javascript",
   "name": "javascript"
  },
  "language_info": {
   "file_extension": ".js",
   "mimetype": "application/javascript",
   "name": "javascript",
   "version": "10.16.0"
  }
 },
 "nbformat": 4,
 "nbformat_minor": 2
}
