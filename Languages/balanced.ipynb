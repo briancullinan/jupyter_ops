{
 "cells": [
  {
   "cell_type": "markdown",
   "metadata": {},
   "source": [
    "# balanced?\n",
    "\n",
    "Taken from https://github.com/juliangruber/balanced-match/blob/master/index.js\n",
    "\n",
    "To support minimatch can't risk losing it, similar to PHP regex recursive flag.\n",
    "\n",
    "\n"
   ]
  },
  {
   "cell_type": "code",
   "execution_count": null,
   "metadata": {},
   "outputs": [],
   "source": [
    "module.exports = balanced;\n",
    "function balanced(a, b, str) {\n",
    "  if (a instanceof RegExp) a = maybeMatch(a, str);\n",
    "  if (b instanceof RegExp) b = maybeMatch(b, str);\n",
    "\n",
    "  var r = range(a, b, str);\n",
    "\n",
    "  return r && {\n",
    "    start: r[0],\n",
    "    end: r[1],\n",
    "    pre: str.slice(0, r[0]),\n",
    "    body: str.slice(r[0] + a.length, r[1]),\n",
    "    post: str.slice(r[1] + b.length)\n",
    "  };\n",
    "}\n",
    "\n",
    "function maybeMatch(reg, str) {\n",
    "  var m = str.match(reg);\n",
    "  return m ? m[0] : null;\n",
    "}\n",
    "\n",
    "balanced.range = range;\n",
    "function range(a, b, str) {\n",
    "  var begs, beg, left, right, result;\n",
    "  var ai = str.indexOf(a);\n",
    "  var bi = str.indexOf(b, ai + 1);\n",
    "  var i = ai;\n",
    "\n",
    "  if (ai >= 0 && bi > 0) {\n",
    "    begs = [];\n",
    "    left = str.length;\n",
    "\n",
    "    while (i >= 0 && !result) {\n",
    "      if (i == ai) {\n",
    "        begs.push(i);\n",
    "        ai = str.indexOf(a, i + 1);\n",
    "      } else if (begs.length == 1) {\n",
    "        result = [ begs.pop(), bi ];\n",
    "      } else {\n",
    "        beg = begs.pop();\n",
    "        if (beg < left) {\n",
    "          left = beg;\n",
    "          right = bi;\n",
    "        }\n",
    "\n",
    "        bi = str.indexOf(b, i + 1);\n",
    "      }\n",
    "\n",
    "      i = ai < bi && ai >= 0 ? ai : bi;\n",
    "    }\n",
    "\n",
    "    if (begs.length) {\n",
    "      result = [ left, right ];\n",
    "    }\n",
    "  }\n",
    "\n",
    "  return result;\n",
    "}"
   ]
  },
  {
   "cell_type": "code",
   "execution_count": null,
   "metadata": {},
   "outputs": [],
   "source": []
  }
 ],
 "metadata": {
  "kernel_info": {
   "name": "javascript"
  },
  "kernelspec": {
   "display_name": "Javascript (Node.js)",
   "language": "javascript",
   "name": "javascript"
  },
  "language_info": {
   "file_extension": ".js",
   "mimetype": "application/javascript",
   "name": "javascript",
   "version": "12.7.0"
  }
 },
 "nbformat": 4,
 "nbformat_minor": 2
}
