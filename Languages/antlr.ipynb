{
 "cells": [
  {
   "cell_type": "markdown",
   "metadata": {},
   "source": [
    "# antlr\n",
    "\n",
    "\n"
   ]
  },
  {
   "cell_type": "markdown",
   "metadata": {},
   "source": [
    "## introduction\n",
    "\n"
   ]
  },
  {
   "cell_type": "markdown",
   "metadata": {},
   "source": [
    "Why do this. Ultimately, it creates a shortcut for including interpreters for any language in these notebooks. Less reliance on other code, and also converting a library from one framework to another.\n",
    "\n"
   ]
  },
  {
   "cell_type": "code",
   "execution_count": null,
   "metadata": {},
   "outputs": [],
   "source": [
    "// placeholder for readme.md?\n"
   ]
  },
  {
   "cell_type": "markdown",
   "metadata": {},
   "source": [
    "## multilungual abstract syntax trees\n",
    "\n",
    "This is great day for translating between languages.\n"
   ]
  },
  {
   "cell_type": "markdown",
   "metadata": {},
   "source": [
    "### select antlr tree\n",
    "\n",
    "Using antlr templates because look at all the glorious grammars posted right there on it's main Github page! https://github.com/antlr/grammars-v4\n",
    "\n"
   ]
  },
  {
   "cell_type": "markdown",
   "metadata": {},
   "source": [
    "#### the code\n",
    "\n",
    "select antlr tree?\n"
   ]
  },
  {
   "cell_type": "code",
   "execution_count": null,
   "metadata": {},
   "outputs": [],
   "source": [
    "var fs = require('fs');\n",
    "var {CommonTokenStream, InputStream} = require('antlr4ts');\n",
    "var importer = require('../Core')\n",
    "var {\n",
    "    selectDom,\n",
    "    evaluateDom,\n",
    "    treeToHtml,\n",
    "    htmlToTree\n",
    "} = importer.import(['select tree', 'tree to html', 'html to tree'])\n",
    "var getParser = importer.import('get antlr tool')\n",
    "\n",
    "//TODO: fix this with own transpiler because no one is going to share their hard work on StringTemplate4 code\n",
    "function toString(ctx, subctx) {\n",
    "    var ast = (subctx || ctx)\n",
    "    if(typeof ast.ownerDocument !== 'undefined') {\n",
    "        ast = htmlToTree(ast)\n",
    "    }\n",
    "    //escodegen.attachComments(ast, ast.comments, ast.tokens, ast.whitespace)\n",
    "    return escodegen.generate(ast, {\n",
    "        comment: true,\n",
    "        tokens: true,\n",
    "        whitespace: true,\n",
    "        format: {indent: {style: '    '}, quotes: 'single'}\n",
    "    })\n",
    "}\n",
    "\n",
    "function selectCode(descriptor, code, language) {\n",
    "    if(typeof code === 'function') {\n",
    "        code = code.toString()\n",
    "    }\n",
    "    if(typeof code === 'string') {\n",
    "        if(fs.existsSync(code)) {\n",
    "            code = fs.readFileSync(code).toString('utf8')\n",
    "            if(typeof language === 'undefined') {\n",
    "                // TODO: use language file extension from media-server code module gheshi support\n",
    "            //    language = \n",
    "            }\n",
    "        }\n",
    "        var parser = getParser(language)\n",
    "        try {\n",
    "            const lexer = new lexer(new InputStream(input))\n",
    "            const parser = new parser(new CommonTokenStream(lexer))\n",
    "            parser.buildParseTrees = true;\n",
    "            code = parser(code)\n",
    "            return code\n",
    "        } catch(e) {\n",
    "            console.log(e)\n",
    "            throw new Error('Could not parse \\n' + code)\n",
    "        }\n",
    "    }\n",
    "    // No more selectTree because jsel and friends are inconsistent/partially implemented.\n",
    "    if(typeof code.evaluate === 'undefined'\n",
    "       && typeof code.ownerDocument === 'undefined') {\n",
    "        code = selectDom('//Program', treeToHtml(code))\n",
    "        code.ownerDocument.toString = toString.bind(code, code)\n",
    "    }\n",
    "    return selectDom(descriptor, code)\n",
    "}\n",
    "\n",
    "module.exports = {\n",
    "    selectCode\n",
    "}\n"
   ]
  },
  {
   "cell_type": "markdown",
   "metadata": {},
   "source": [
    "#### TODO: test select jison on some quake 3 C code\n",
    "\n"
   ]
  },
  {
   "cell_type": "code",
   "execution_count": null,
   "metadata": {},
   "outputs": [],
   "source": [
    "var antlr = require('antlr4ts')\n",
    "var importer = require('../Core')\n",
    "var {selectCode} = importer.import('select antlr tree')\n",
    "\n",
    "var tree = selectCode('*', '/Users/briancullinan/planet_quake/code/q3_ui/ui_cdkey.c')\n",
    "\n",
    "var root = tree.translationunit()\n",
    "//console.log(tree.translationunit())\n",
    "//console.log(tree.ruleNames)\n",
    "var result = root.accept(new GenericVisitor())\n",
    "console.log(result[0][0][0][0][0][0][0][0][0][0][0][0][0][1][0][0][0])\n",
    "//console.log(Object.getPrototypeOf(root.declarationseq()))\n",
    "//console.log(root.getChild(0).declaration().functiondefinition())\n"
   ]
  },
  {
   "cell_type": "markdown",
   "metadata": {},
   "source": [
    "## antlr tools\n",
    "\n",
    "Creating lexer and parser from .g4 files. Converting XPath to trees. Convert antlr Tool classes to nodejs so we can load grammars on the fly.\n",
    "\n"
   ]
  },
  {
   "cell_type": "markdown",
   "metadata": {},
   "source": [
    "### get antlr language\n",
    "\n"
   ]
  },
  {
   "cell_type": "markdown",
   "metadata": {},
   "source": [
    "#### the code\n",
    "\n",
    "get antlr language?\n",
    "\n",
    "get antlr tool?\n"
   ]
  },
  {
   "cell_type": "code",
   "execution_count": null,
   "metadata": {},
   "outputs": [],
   "source": [
    "\n",
    "function returnLanguageTools({lexer, parser, visitor, listener}) {\n",
    "    var result = {\n",
    "        ...lexer,\n",
    "        ...parser,\n",
    "        ...visitor,\n",
    "        ...listener,\n",
    "    }\n",
    "    //result[Object.keys(lexer)[0]] = Object.values(lexer)[0]\n",
    "    //result[Object.keys(parser)[0]] = Object.values(parser)[0]\n",
    "    //result[Object.keys(visitor)[0]] = Object.values(visitor)[0]\n",
    "    //result[Object.keys(listener)[0]] = Object.values(listener)[0]\n",
    "    return result\n",
    "}\n",
    "\n",
    "function getParser(language) {\n",
    "    // TODO: get parser by language lookup\n",
    "    if(language === 'cpp' || language === 'c++') {\n",
    "        var lexer = require('../Resources/Parsers/cpp/CPP14Lexer.ts')\n",
    "        var parser = require('../Resources/Parsers/cpp/CPP14Parser.ts')\n",
    "        var visitor = require('../Resources/Parsers/cpp/CPP14Visitor.ts')\n",
    "        var listener = require('../Resources/Parsers/cpp/CPP14Listener.ts')\n",
    "        return returnLanguageTools({\n",
    "            lexer,\n",
    "            parser,\n",
    "            visitor,\n",
    "            listener\n",
    "        })\n",
    "    }\n",
    "}\n",
    "\n",
    "module.exports = getParser\n",
    "\n"
   ]
  },
  {
   "cell_type": "markdown",
   "metadata": {},
   "source": [
    "### antlr tree visitor\n",
    "\n"
   ]
  },
  {
   "cell_type": "markdown",
   "metadata": {},
   "source": [
    "#### the code\n",
    "\n",
    "antlr tree?\n",
    "\n",
    "antlr tree visitor?\n"
   ]
  },
  {
   "cell_type": "code",
   "execution_count": null,
   "metadata": {},
   "outputs": [],
   "source": [
    "\n",
    "function typeToString(node) {\n",
    "    if(node === 'object' && node) {\n",
    "        return Object.getPrototypeOf(node).constructor.name;\n",
    "    } else {\n",
    "        return typeof node;\n",
    "    }\n",
    "}\n",
    "\n",
    "function getGenericToken(child, parser) {\n",
    "    return {\n",
    "        type: parser.ruleNames[child.getSymbol().type],\n",
    "        value: child.getText(),\n",
    "        range: [child.getSymbol().start, child.getSymbol().stop]\n",
    "    }\n",
    "}\n",
    "\n",
    "function getGenericVisitor({parser, visitor}) {\n",
    "    function GenericVisitor() {\n",
    "        visitor.call(this);\n",
    "        return this;\n",
    "    }\n",
    "    \n",
    "    console.log(parser)\n",
    "    \n",
    "    GenericVisitor.prototype = Object.create(visitor.prototype);\n",
    "    GenericVisitor.prototype.constructor = GenericVisitor;\n",
    "\n",
    "    GenericVisitor.prototype.visitChildren = function(ctx) {\n",
    "        if (!ctx) {\n",
    "          return\n",
    "        }\n",
    "\n",
    "        if (ctx.children) {\n",
    "            return ctx.children.map(child => {\n",
    "                if (child.children && child.children.length != 0) {\n",
    "                    return child.accept(this);\n",
    "                } else {\n",
    "                    return getGenericToken(child, parser)\n",
    "                }\n",
    "            })\n",
    "        }\n",
    "    }\n",
    "    \n",
    "    return {\n",
    "        GenericVisitor\n",
    "    }\n",
    "}\n",
    "\n",
    "module.exports = getGenericVisitor\n"
   ]
  },
  {
   "cell_type": "markdown",
   "metadata": {},
   "source": [
    "#### TODO: use g4 translator to automatically select entry point, because this is silly\n",
    "\n",
    "\n"
   ]
  },
  {
   "cell_type": "code",
   "execution_count": null,
   "metadata": {},
   "outputs": [],
   "source": []
  },
  {
   "cell_type": "markdown",
   "metadata": {},
   "source": [
    "#### TODO: convert antlr tree to json matching esprima format with text locations and tokens lists\n",
    "\n",
    "\n"
   ]
  },
  {
   "cell_type": "code",
   "execution_count": null,
   "metadata": {},
   "outputs": [],
   "source": [
    "var {TerminalNodeImpl} = require('antlr')\n",
    "\n",
    "\n",
    "function typeToString(node) {\n",
    "    if(jsType === 'object' && node) {\n",
    "        return Object.getPrototypeOf(node).constructor.name;\n",
    "    } else {\n",
    "        return typeof node;\n",
    "    }\n",
    "}\n",
    "\n",
    "// TODO: use transpiler to convert a tree from grammer spec to esprima style\n",
    "function toAntlrTree(parseTree) {\n",
    "    if(parseTree instanceof TerminalNodeImpl) {\n",
    "        \n",
    "    } else if (parseTree instanceof CommonToken) {\n",
    "        \n",
    "    } else if (parseTree instanceof CompilationUnitContext) {\n",
    "        var result = {}\n",
    "        result['type'] = 'Program' //typeToString(parseTree)\n",
    "        result['range'] = [0, parseTree.EOF().getSymbol().start]\n",
    "        var children = []\n",
    "        for(var i = 0; i < parseTree.getChildCount(); i++) {\n",
    "            children.push(toJson(parseTree.getChild(i)))\n",
    "        }\n",
    "        result['body'] = children\n",
    "        return result\n",
    "    }\n",
    "}\n",
    "\n",
    "/*\n",
    "public class Examples {\n",
    "\n",
    "  private static final Gson PRETTY_PRINT_GSON = new GsonBuilder().setPrettyPrinting().create();\n",
    "  private static final Gson GSON = new Gson();\n",
    "\n",
    "  public static String toJson(ParseTree tree) {\n",
    "    return toJson(tree, true);\n",
    "  }\n",
    "\n",
    "  public static String toJson(ParseTree tree, boolean prettyPrint) {\n",
    "    return prettyPrint ? PRETTY_PRINT_GSON.toJson(toMap(tree)) : GSON.toJson(toMap(tree));\n",
    "  }\n",
    "\n",
    "  public static Map<String, Object> toMap(ParseTree tree) {\n",
    "    Map<String, Object> map = new LinkedHashMap<>();\n",
    "    traverse(tree, map);\n",
    "    return map;\n",
    "  }\n",
    "\n",
    "  public static void traverse(ParseTree tree, Map<String, Object> map) {\n",
    "\n",
    "    if (tree instanceof TerminalNodeImpl) {\n",
    "      Token token = ((TerminalNodeImpl) tree).getSymbol();\n",
    "      map.put(\"type\", token.getType());\n",
    "      map.put(\"text\", token.getText());\n",
    "    }\n",
    "    else {\n",
    "      List<Map<String, Object>> children = new ArrayList<>();\n",
    "      String name = tree.getClass().getSimpleName().replaceAll(\"Context$\", \"\");\n",
    "      map.put(Character.toLowerCase(name.charAt(0)) + name.substring(1), children);\n",
    "\n",
    "      for (int i = 0; i < tree.getChildCount(); i++) {\n",
    "        Map<String, Object> nested = new LinkedHashMap<>();\n",
    "        children.add(nested);\n",
    "        traverse(tree.getChild(i), nested);\n",
    "      }\n",
    "    }\n",
    "  }\n",
    "\n",
    "  public static void main(String[] args) {\n",
    "    String source = \"(1 + 2) * 3\";\n",
    "    ExpressionLexer lexer = new ExpressionLexer(CharStreams.fromString(source));\n",
    "    ExpressionParser parser = new ExpressionParser(new CommonTokenStream(lexer));\n",
    "    System.out.println(toJson(parser.parse()));\n",
    "  }\n",
    "}\n",
    "*/\n",
    "\n",
    "module.export = toAntlrTree\n"
   ]
  },
  {
   "cell_type": "markdown",
   "metadata": {},
   "source": [
    "#### lets not forget what an esprima tree looks\n"
   ]
  },
  {
   "cell_type": "code",
   "execution_count": null,
   "metadata": {},
   "outputs": [],
   "source": [
    "var importer = require('../Core')\n",
    "var {selectAst} = importer.import('select code tree')\n",
    "var {htmlToTree} = importer.import('html to tree')\n",
    "\n",
    "var root = selectAst('//Program', importer.interpret('select antlr tree').code)\n",
    "console.log(htmlToTree(root))\n",
    "\n",
    "/*\n",
    "\n",
    "expects\n",
    "{\n",
    "  type: 'Program',\n",
    "  body: [\n",
    "    {\n",
    "      type: 'VariableDeclaration',\n",
    "      declarations: [Array],\n",
    "      kind: 'var',\n",
    "      range: [Array]\n",
    "    },\n",
    "    {\n",
    "      type: 'VariableDeclaration',\n",
    "      declarations: [Array],\n",
    "      kind: 'var',\n",
    "      range: [Array]\n",
    "    },\n",
    "  ],\n",
    "  sourcetype: 'script',\n",
    "  range: [ 0, 2317 ],\n",
    "  comments: [\n",
    "    {\n",
    "      type: 'Line',\n",
    "      value: ' TODO: get parser by language lookup',\n",
    "      range: [Array]\n",
    "    },\n",
    "  ],\n",
    "  tokens: [\n",
    "    { type: 'Keyword', value: 'var', range: [Array] },\n",
    "    { type: 'Identifier', value: 'fs', range: [Array] },\n",
    "    { type: 'Punctuator', value: '=', range: [Array] },\n",
    "  ]\n",
    "}\n",
    "*/\n",
    "\n"
   ]
  },
  {
   "cell_type": "code",
   "execution_count": null,
   "metadata": {},
   "outputs": [],
   "source": []
  }
 ],
 "metadata": {
  "kernelspec": {
   "display_name": "Javascript (Node.js)",
   "language": "javascript",
   "name": "javascript"
  },
  "language_info": {
   "file_extension": ".js",
   "mimetype": "application/javascript",
   "name": "javascript",
   "version": "12.7.0"
  }
 },
 "nbformat": 4,
 "nbformat_minor": 2
}
