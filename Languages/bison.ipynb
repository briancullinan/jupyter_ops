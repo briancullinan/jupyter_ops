{
 "cells": [
  {
   "cell_type": "markdown",
   "metadata": {},
   "source": [
    "# bison\n",
    "\n",
    "Bison is a BNF lexer. But it turns out this is not enough.\n",
    "\n"
   ]
  },
  {
   "cell_type": "markdown",
   "metadata": {},
   "source": [
    "## introduction\n"
   ]
  },
  {
   "cell_type": "markdown",
   "metadata": {},
   "source": [
    "Tree-sitter also looks nice https://github.com/tree-sitter/tree-sitter-c\n",
    "\n",
    "https://github.com/zaach/jison\n",
    "\n",
    "https://en.m.wikipedia.org/wiki/GNU_Bison\n",
    "\n"
   ]
  },
  {
   "cell_type": "code",
   "execution_count": null,
   "metadata": {},
   "outputs": [],
   "source": [
    "// placeholder for readme.md?\n"
   ]
  },
  {
   "cell_type": "markdown",
   "metadata": {},
   "source": [
    "## jison parser\n",
    "\n"
   ]
  },
  {
   "cell_type": "markdown",
   "metadata": {},
   "source": [
    "### TODO: select jison tree\n",
    "\n",
    "Because parsing esprima code isn't enough! Let's use syntax tree features in any language. The Jison parse comes from Bison, which has lots of support\n",
    "\n",
    "Works just like selectAst() except no esprima, generates the tree using jison instead, so it requires a language specifier either in a comment at the top of the code or in a parameter.  It can also read a file if it exists, so one more check in addition to reading a string, and the language can be derived from the file extension.\n",
    "\n"
   ]
  },
  {
   "cell_type": "markdown",
   "metadata": {},
   "source": [
    "#### the code\n",
    "\n",
    "select jison tree?\n",
    "\n",
    "TODO: unfail this idea if `.y` files are found for the languages I want to use.\n",
    "\n"
   ]
  },
  {
   "cell_type": "code",
   "execution_count": null,
   "metadata": {},
   "outputs": [],
   "source": [
    "var fs = require('fs');\n",
    "var jison = require('jison');\n",
    "var importer = require('../Core')\n",
    "var {\n",
    "    selectDom,\n",
    "    evaluateDom,\n",
    "    treeToHtml,\n",
    "    htmlToTree\n",
    "} = importer.import(['select tree', 'tree to html', 'html to tree'])\n",
    "\n",
    "function getParser(jisonFile) {\n",
    "    var bnf\n",
    "    if(fs.existsSync(jisonFile)) {\n",
    "        bnf = fs.readFileSync(jisonFile, 'utf8')\n",
    "    } else {\n",
    "        bnf = importer.interpret(jisonFile).code\n",
    "    }\n",
    "    \n",
    "    var parser = new jison.Parser(bnf)\n",
    "    return parser\n",
    "}\n",
    "\n",
    "\n",
    "function toString(ctx, subctx) {\n",
    "    var ast = (subctx || ctx)\n",
    "    if(typeof ast.ownerDocument !== 'undefined') {\n",
    "        ast = htmlToTree(ast)\n",
    "    }\n",
    "    //escodegen.attachComments(ast, ast.comments, ast.tokens, ast.whitespace)\n",
    "    return escodegen.generate(ast, {\n",
    "        comment: true,\n",
    "        tokens: true,\n",
    "        whitespace: true,\n",
    "        format: {indent: {style: '    '}, quotes: 'single'}\n",
    "    })\n",
    "}\n",
    "\n",
    "function selectCode(descriptor, code, language) {\n",
    "    if(typeof code === 'function') {\n",
    "        code = code.toString()\n",
    "    }\n",
    "    if(typeof code === 'string') {\n",
    "        if(fs.existsSync(code)) {\n",
    "            code = fs.readFileSync(code)\n",
    "            if(typeof language === 'undefined') {\n",
    "                language = \n",
    "            }\n",
    "        }\n",
    "        var parser = getParser(language)\n",
    "        try {\n",
    "            code = esprima.parse(code, {range: true, tokens: true,\n",
    "                                        comment: true, whitespace: true})\n",
    "        } catch(e) {\n",
    "            console.log(e)\n",
    "            throw new Error('Could not parse \\n' + code)\n",
    "        }\n",
    "    }\n",
    "    // TODO: move this conversion to selectDom for all objects?\n",
    "    //   No more selectTree because jsel and friends are inconsistent.\n",
    "    if(typeof code.evaluate === 'undefined'\n",
    "       && typeof code.ownerDocument === 'undefined') {\n",
    "        code = selectDom('//Program', treeToHtml(code))\n",
    "        code.ownerDocument.toString = toString.bind(code, code)\n",
    "    }\n",
    "    return selectDom(descriptor, code)\n",
    "}\n",
    "\n",
    "module.exports = {\n",
    "    selectCode\n",
    "}\n"
   ]
  },
  {
   "cell_type": "markdown",
   "metadata": {},
   "source": [
    "### TODO: generate syntax tree by brute forcing tokens and lines\n",
    "\n",
    "Source: https://stackoverflow.com/questions/8467150/how-to-get-abstract-syntax-tree-ast-out-of-jison-parser\n",
    "\n",
    "\n"
   ]
  },
  {
   "cell_type": "code",
   "execution_count": 1,
   "metadata": {},
   "outputs": [
    {
     "ename": "Error",
     "evalue": "Cannot find module 'jison'\nRequire stack:\n- /Users/briancullinan/jupyter_ops/Languages/[eval]",
     "output_type": "error",
     "traceback": [
      "internal/modules/cjs/loader.js:628",
      "    throw err;",
      "    ^",
      "",
      "Error: Cannot find module 'jison'",
      "Require stack:",
      "- /Users/briancullinan/jupyter_ops/Languages/[eval]",
      "    at Function.Module._resolveFilename (internal/modules/cjs/loader.js:625:15)",
      "    at Function.Module._load (internal/modules/cjs/loader.js:527:27)",
      "    at Module.require (internal/modules/cjs/loader.js:683:19)",
      "    at require (internal/modules/cjs/helpers.js:16:16)",
      "    at evalmachine.<anonymous>:25:14",
      "    at Script.runInThisContext (vm.js:126:20)",
      "    at Object.runInThisContext (vm.js:316:38)",
      "    at run ([eval]:1054:15)",
      "    at onRunRequest ([eval]:888:18)",
      "    at onMessage ([eval]:848:13)"
     ]
    }
   ],
   "source": [
    "function jisonAST(name, x) { this.name = name; this.x = x; }\n",
    "\n",
    "// return the indented AST\n",
    "jisonAST.prototype.get = function(indent){\n",
    "  // create an indentation for level l\n",
    "  function indentString(l) { var r=\"\"; for(var i=0;i<l;i++){r+=\"  \"}; return r }\n",
    "\n",
    "  var r = indentString(indent) + \"[\"+this.name+\": \";\n",
    "  var rem = this.x;\n",
    "  if( rem.length == 1 && !(rem[0] instanceof jisonAST) ) r += \"'\"+rem[0]+\"'\"; \n",
    "  else for( i in rem ){ \n",
    "      if( rem[i] instanceof jisonAST ) r += \"\\n\" + rem[i].get(indent+1);\n",
    "      else { r += \"\\n\" + indentString(indent+1); r += \"'\"+rem[i]+\"'\"; }\n",
    "    }\n",
    "  return r + \"]\";\n",
    "}\n",
    "\n",
    "function o( s ){\n",
    "    r = \"$$ = new yy.jisonAST('\"+s+\"',[\";\n",
    "    for( i = 1; i <= s.split(\" \").length; i++ ){ r += \"$\"+i+\",\" }\n",
    "    r = r.slice(0,-1) + \"]);\";\n",
    "    return [s,r];\n",
    "}\n",
    "\n",
    "var Parser = require(\"jison\").Parser;\n",
    "\n",
    "// a grammar in JSON\n",
    "var grammar = {\n",
    "    \"lex\": {\n",
    "        \"rules\": [\n",
    "           [\"\\\\s+\", \"/* skip whitespace */\"],\n",
    "           [\"[a-f0-9]+\", \"return 'HEX';\"]\n",
    "        ]\n",
    "    },\n",
    "    \"bnf\": {\n",
    "        // had to add a start/end, see below\n",
    "        \"start\" : [ [ \"hex_strings\", \"return $1\" ] ],\n",
    "        \"hex_strings\" :[ \n",
    "            o(\"hex_strings HEX\"), \n",
    "            o(\"HEX\") \n",
    "        ]\n",
    "    }\n",
    "};\n",
    "\n",
    "var parser = new Parser(grammar);\n",
    "// expose the AST object to Jison\n",
    "parser.yy.jisonAST = jisonAST\n",
    "\n",
    "console.log( parser.parse(\"adfe34bc e82a 43af\").get(0) );\n",
    "\n",
    "/*\n",
    "expects\n",
    "[hex_strings HEX: \n",
    "  [hex_strings HEX: \n",
    "    [HEX: 'adfe34bc']  \n",
    "    'e82a']  \n",
    "  '43af']\n",
    "*/\n"
   ]
  },
  {
   "cell_type": "code",
   "execution_count": null,
   "metadata": {},
   "outputs": [],
   "source": []
  },
  {
   "cell_type": "code",
   "execution_count": null,
   "metadata": {},
   "outputs": [],
   "source": []
  },
  {
   "cell_type": "code",
   "execution_count": null,
   "metadata": {},
   "outputs": [],
   "source": []
  },
  {
   "cell_type": "code",
   "execution_count": null,
   "metadata": {},
   "outputs": [],
   "source": []
  }
 ],
 "metadata": {
  "kernelspec": {
   "display_name": "Javascript (Node.js)",
   "language": "javascript",
   "name": "javascript"
  },
  "language_info": {
   "file_extension": ".js",
   "mimetype": "application/javascript",
   "name": "javascript",
   "version": "12.7.0"
  }
 },
 "nbformat": 4,
 "nbformat_minor": 2
}
