{
  "cells": [
    {
      "cell_type": "markdown",
      "source": [
        "How to use JSON web tokens in C#?"
      ],
      "metadata": {}
    },
    {
      "cell_type": "code",
      "source": [
        "#r \"System.Net\"\n",
        "\n",
        "// The above should get System.Net from GAC\n",
        "using System.Net;\n",
        "string GetUrlContent(string uri){\n",
        "                                 \n",
        "    WebClient client = new WebClient ();\n",
        "\n",
        "    using(Stream data = client.OpenRead (uri))\n",
        "    {\n",
        "        using(StreamReader reader = new StreamReader (data))\n",
        "        {\n",
        "            string s = reader.ReadToEnd ();\n",
        "            return s;\n",
        "        }\n",
        "    }\n",
        "\n",
        "}\n",
        "\n",
        "GetUrlContent(\"http://zohaib.me\");\n"
      ],
      "outputs": [],
      "execution_count": null,
      "metadata": {
        "collapsed": false,
        "outputHidden": false,
        "inputHidden": false
      }
    },
    {
      "cell_type": "code",
      "source": [],
      "outputs": [],
      "execution_count": null,
      "metadata": {
        "collapsed": false,
        "outputHidden": false,
        "inputHidden": false
      }
    }
  ],
  "metadata": {
    "kernelspec": {
      "name": "icsharp",
      "language": "csharp",
      "display_name": "CSharp"
    },
    "kernel_info": {
      "name": "icsharp"
    }
  },
  "nbformat": 4,
  "nbformat_minor": 4
}