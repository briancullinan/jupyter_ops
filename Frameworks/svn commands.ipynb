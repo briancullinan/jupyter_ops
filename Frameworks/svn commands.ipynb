{
 "cells": [
  {
   "cell_type": "code",
   "execution_count": null,
   "metadata": {},
   "outputs": [],
   "source": [
    "docker run \\\n",
    "    --name svnserve \\\n",
    "    --restart always \\\n",
    "    -p 3690:3690 \\\n",
    "    --volume /Users/briancullinan/Documents/svn:/var/opt/svn:rw \\\n",
    "    gcscaglia/docker-svnserve:latest "
   ]
  }
 ],
 "metadata": {
  "kernelspec": {
   "display_name": "Bash",
   "language": "bash",
   "name": "bash"
  },
  "language_info": {
   "codemirror_mode": "shell",
   "file_extension": ".sh",
   "mimetype": "text/x-sh",
   "name": "bash"
  }
 },
 "nbformat": 4,
 "nbformat_minor": 2
}
