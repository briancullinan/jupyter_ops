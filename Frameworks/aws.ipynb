{
 "cells": [
  {
   "cell_type": "markdown",
   "metadata": {},
   "source": [
    "aws rpc wrapper?\n"
   ]
  },
  {
   "cell_type": "code",
   "execution_count": null,
   "metadata": {},
   "outputs": [],
   "source": [
    "var importer = require('../Core');\n",
    "var assert = require('assert');\n",
    "var getResult = importer.import('rpc result');\n",
    "\n",
    "function handler(event, context, callback) {\n",
    "    var body = event || {};\n",
    "    try {\n",
    "        if (event.body || event.queryStringParameters) {\n",
    "            body = Object.assign(event.body || {}, event.queryStringParameters || {});\n",
    "        }\n",
    "\n",
    "        assert(body.function && body.function !== '', 'something is wrong with your search ' + JSON.stringify(body));\n",
    "        assert(importer.interpret(body['function']).id, 'something is terrible wrong with function lookup ' + importer.interpret(body['function']))\n",
    "    }\n",
    "    catch(e) {\n",
    "        callback(e, {\n",
    "            'statusCode': 500,\n",
    "            'headers': { \n",
    "                'Content-Type': 'application/json',\n",
    "                'Access-Control-Allow-Origin': '*'\n",
    "            },\n",
    "            'body': JSON.stringify({'Error': e.message})\n",
    "        })\n",
    "        return;\n",
    "    }\n",
    "    \n",
    "    // TODO: add Eloqua Notify service entry point for retrieving temporary data?\n",
    "    // TODO: parse action and call from notify service or call with posted data?\n",
    "    // TODO: add an entry point for Zuora subscription callout to update single records in eloqua?\n",
    "    return Promise.resolve([])\n",
    "        .then(() => getResult({\n",
    "            command: body['function'],\n",
    "            result: importer.interpret(body['function']),\n",
    "            body: body,\n",
    "            circles: ['Public']\n",
    "        }))\n",
    "        .then(r => callback(null, {\n",
    "            'statusCode': 200,\n",
    "            'headers': { \n",
    "                'Content-Type': 'application/json',\n",
    "                'Access-Control-Allow-Origin': '*'\n",
    "            },\n",
    "            'body': JSON.stringify(r, null, 4)\n",
    "        }))\n",
    "        // TODO: object assign error?\n",
    "        .catch(e => callback(e, {\n",
    "            'statusCode': 500,\n",
    "            'headers': { \n",
    "                'Content-Type': 'application/json',\n",
    "                'Access-Control-Allow-Origin': '*'\n",
    "            },\n",
    "            'body': JSON.stringify({'Error': e.message})\n",
    "        }));\n",
    "}\n",
    "\n",
    "if(typeof module.exports === 'undefined') {\n",
    "    module.exports = {};\n",
    "}\n",
    "module.exports.handler = handler;\n"
   ]
  },
  {
   "cell_type": "code",
   "execution_count": null,
   "metadata": {},
   "outputs": [],
   "source": []
  }
 ],
 "metadata": {
  "kernelspec": {
   "display_name": "Javascript (Node.js)",
   "language": "javascript",
   "name": "javascript"
  },
  "language_info": {
   "file_extension": ".js",
   "mimetype": "application/javascript",
   "name": "javascript",
   "version": "8.6.0"
  }
 },
 "nbformat": 4,
 "nbformat_minor": 2
}
