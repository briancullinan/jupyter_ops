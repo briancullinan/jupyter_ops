{
 "cells": [
  {
   "cell_type": "markdown",
   "metadata": {},
   "source": [
    "aws rpc wrapper?\n"
   ]
  },
  {
   "cell_type": "code",
   "execution_count": null,
   "metadata": {},
   "outputs": [],
   "source": [
    "var importer = require('../Core');\n",
    "var getResult = importer.import('rpc result');\n",
    "\n",
    "function handler(event, context, callback) {\n",
    "    var body = event;\n",
    "    if (event.body && event.body !== '') {\n",
    "        body = JSON.parse(event.body);\n",
    "    }\n",
    "    // TODO: add Eloqua Notify service entry point for retrieving temporary data?\n",
    "    // TODO: parse action and call from notify service or call with posted data?\n",
    "    // TODO: add an entry point for Zuora subscription callout to update single records in eloqua?\n",
    "    return Promise.resolve([])\n",
    "        .then(() => getResult({\n",
    "            command: body['function'] || req.query['function'],\n",
    "            result: importer.interpret(body['function'] || req.query['function']),\n",
    "            body: event.body || event,\n",
    "            circles: ['Public']\n",
    "        }))\n",
    "        .then(r => callback(null, {\n",
    "            'statusCode': 200,\n",
    "            'headers': { 'Content-Type': 'application/json' },\n",
    "            'body': JSON.stringify(r, null, 4)\n",
    "        }))\n",
    "        // TODO: object assign error?\n",
    "        .catch(e => {\n",
    "            console.log(e);\n",
    "            callback(e, {\n",
    "                'statusCode': 500,\n",
    "                'headers': { 'Content-Type': 'text/plain' },\n",
    "                'body': 'Error: ' + e.message\n",
    "            })\n",
    "        });\n",
    "}\n",
    "\n",
    "if(typeof module.exports === 'undefined') {\n",
    "    module.exports = {};\n",
    "}\n",
    "module.exports.handler = handler;\n"
   ]
  },
  {
   "cell_type": "code",
   "execution_count": null,
   "metadata": {},
   "outputs": [],
   "source": []
  }
 ],
 "metadata": {
  "kernelspec": {
   "display_name": "Javascript (Node.js)",
   "language": "javascript",
   "name": "javascript"
  },
  "language_info": {
   "file_extension": ".js",
   "mimetype": "application/javascript",
   "name": "javascript",
   "version": "8.6.0"
  }
 },
 "nbformat": 4,
 "nbformat_minor": 2
}
