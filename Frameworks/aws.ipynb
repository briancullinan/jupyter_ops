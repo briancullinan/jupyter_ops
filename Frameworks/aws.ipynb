{
 "cells": [
  {
   "cell_type": "markdown",
   "metadata": {},
   "source": [
    "aws rpc wrapper?\n"
   ]
  },
  {
   "cell_type": "code",
   "execution_count": null,
   "metadata": {},
   "outputs": [],
   "source": [
    "var importer = require('../Core');\n",
    "var assert = require('assert');\n",
    "var getResult = importer.import('rpc result');\n",
    "\n",
    "function handler(event, context, callback) {\n",
    "    var body = event || {};\n",
    "    try {\n",
    "        if (event.body || event.queryStringParameters) {\n",
    "            body = Object.assign(event.body || {}, event.queryStringParameters || {});\n",
    "        }\n",
    "\n",
    "        assert(body.function, 'something is wrong with your search ' + JSON.stringify(body));\n",
    "        assert(importer.interpret(body.function).id, 'something is terribly wrong with function lookup ' + importer.interpret(body.function))\n",
    "    }\n",
    "    catch(e) {\n",
    "        callback(e, {\n",
    "            'statusCode': 500,\n",
    "            'headers': { \n",
    "                'Content-Type': 'application/json',\n",
    "                'Access-Control-Allow-Origin': '*'\n",
    "            },\n",
    "            'body': JSON.stringify({'Error': e.message})\n",
    "        })\n",
    "        return;\n",
    "    }\n",
    "    \n",
    "    // TODO: add Eloqua Notify service entry point for retrieving temporary data?\n",
    "    // TODO: parse action and call from notify service or call with posted data?\n",
    "    // TODO: add an entry point for Zuora subscription callout to update single records in eloqua?\n",
    "    return Promise.resolve([])\n",
    "        .then(() => getResult({\n",
    "            command: body['function'],\n",
    "            result: importer.interpret(body['function']),\n",
    "            body: body,\n",
    "            circles: ['Public']\n",
    "        }))\n",
    "        .then(r => callback(null, {\n",
    "            'statusCode': 200,\n",
    "            'headers': { \n",
    "                'Content-Type': 'application/json',\n",
    "                'Access-Control-Allow-Origin': '*'\n",
    "            },\n",
    "            'body': JSON.stringify(r, null, 4)\n",
    "        }))\n",
    "        // TODO: object assign error?\n",
    "        .catch(e => callback(e, {\n",
    "            'statusCode': 500,\n",
    "            'headers': { \n",
    "                'Content-Type': 'application/json',\n",
    "                'Access-Control-Allow-Origin': '*'\n",
    "            },\n",
    "            'body': JSON.stringify({'Error': e.message})\n",
    "        }));\n",
    "}\n",
    "\n",
    "if(typeof module.exports === 'undefined') {\n",
    "    module.exports = {};\n",
    "}\n",
    "module.exports.handler = handler;\n"
   ]
  },
  {
   "cell_type": "markdown",
   "metadata": {},
   "source": [
    "latest s3 bucket?\n"
   ]
  },
  {
   "cell_type": "code",
   "execution_count": 1,
   "metadata": {},
   "outputs": [
    {
     "data": {
      "text/plain": [
       "[ 'https://s3-us-west-2.amazonaws.com/selenium-bots/screenshot-2018-1-1-13-29-11.png',\n",
       "  'https://s3-us-west-2.amazonaws.com/selenium-bots/screenshot-2018-1-1-13-29-0.png',\n",
       "  'https://s3-us-west-2.amazonaws.com/selenium-bots/screenshot-2018-1-1-13-28-40.png',\n",
       "  'https://s3-us-west-2.amazonaws.com/selenium-bots/screenshot-2018-1-1-13-5-7.png',\n",
       "  'https://s3-us-west-2.amazonaws.com/selenium-bots/screenshot-2018-1-1-13-1-27.png' ]"
      ]
     },
     "execution_count": 1,
     "metadata": {},
     "output_type": "execute_result"
    }
   ],
   "source": [
    "var fs = require('fs');\n",
    "var path = require('path');\n",
    "var minimatch = require(\"minimatch\")\n",
    "var AWS = require('aws-sdk');\n",
    "var importer = require('../Core');\n",
    "\n",
    "// For dev purposes only\n",
    "var AWS_HTTP = 'https://s3-us-west-2.amazonaws.com/selenium-bots/';\n",
    "var PROFILE_PATH = process.env.HOME || process.env.HOMEPATH || process.env.USERPROFILE || '';\n",
    "AWS.config.update(JSON.parse(fs.readFileSync(path.join(PROFILE_PATH, '.credentials/aws-sdk.json')).toString()));\n",
    "\n",
    "function latestS3(match, bucket) {\n",
    "    var s3 = new AWS.S3();\n",
    "    return new Promise((resolve, reject) => s3.listObjects({\n",
    "        Bucket: bucket || 'selenium-bots',\n",
    "        Prefix: ''\n",
    "    }, function (err, resp) {\n",
    "        if(err) {\n",
    "            return reject(err);\n",
    "        }\n",
    "        return resolve(resp.Contents\n",
    "                       .sort((a, b) => b.LastModified.getTime() - a.LastModified.getTime())\n",
    "                       .filter(s => !match || minimatch(s.Key, match))\n",
    "                       .slice(0, 5)\n",
    "                       .map(i => AWS_HTTP + i.Key));\n",
    "    }));\n",
    "}\n",
    "module.exports = latestS3;\n",
    "\n",
    "if(typeof $$ !== 'undefined') {\n",
    "    $$.async();\n",
    "    latestS3()\n",
    "        .then(r => $$.sendResult(r))\n",
    "        .catch(e => $$.sendError(e))\n",
    "}\n"
   ]
  },
  {
   "cell_type": "code",
   "execution_count": null,
   "metadata": {},
   "outputs": [],
   "source": []
  }
 ],
 "metadata": {
  "kernelspec": {
   "display_name": "Javascript (Node.js)",
   "language": "javascript",
   "name": "javascript"
  },
  "language_info": {
   "file_extension": ".js",
   "mimetype": "application/javascript",
   "name": "javascript",
   "version": "8.6.0"
  }
 },
 "nbformat": 4,
 "nbformat_minor": 2
}
