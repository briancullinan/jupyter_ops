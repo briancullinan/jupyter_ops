{
  "cells": [
    {
      "cell_type": "markdown",
      "source": [
        "# What repositories do we need?\n",
        "\n",
        "* https://github.com/Swiftpage/act.ecommerce.git\n",
        "* https://github.com/Swiftpage/Selenium.git\n",
        "\n"
      ],
      "metadata": {}
    },
    {
      "cell_type": "code",
      "source": [
        "mkdir -r act-selenium/act.ecommerce\n",
        "cd act-selenium/act.ecommerce\n",
        "git branch | grep 'Buy_funnel' &> /dev/null\n",
        "if [ $? != 0 ]; then\n",
        "   git clone -b Buy_funnel https://github.com/Swiftpage/act.ecommerce.git ./\n",
        "fi\n",
        "cd ../../"
      ],
      "outputs": [
        {
          "output_type": "stream",
          "name": "stdout",
          "text": [
            "* Buy_funnel\n",
            "\n"
          ]
        },
        {
          "output_type": "execute_result",
          "execution_count": 2,
          "data": {
            "text/plain": [
              "'selenium-tests already exists'"
            ]
          },
          "metadata": {}
        }
      ],
      "execution_count": 2,
      "metadata": {
        "collapsed": false,
        "outputHidden": false,
        "inputHidden": false
      }
    },
    {
      "cell_type": "code",
      "source": [
        "mkdir -r act-selenium/Selenium\n",
        "cd act-selenium/Selenium\n",
        "git branch | grep 'B-11243_Angular_Portal_POC' &> /dev/null\n",
        "if [ $? != 0 ]; then\n",
        "   git clone -b B-11243_Angular_Portal_POC https://github.com/Swiftpage/Selenium.git ./\n",
        "fi\n",
        "cd ../../"
      ],
      "outputs": [
        {
          "output_type": "stream",
          "name": "stdout",
          "text": [
            "* B-11243_Angular_Portal_POC\n",
            "\n"
          ]
        },
        {
          "output_type": "execute_result",
          "execution_count": 1,
          "data": {
            "text/plain": [
              "'selenium-tests already exists'"
            ]
          },
          "metadata": {}
        }
      ],
      "execution_count": 1,
      "metadata": {
        "collapsed": false,
        "outputHidden": false,
        "inputHidden": false
      }
    },
    {
      "cell_type": "markdown",
      "source": [
        "How to use in Docker?"
      ],
      "metadata": {}
    },
    {
      "cell_type": "code",
      "source": [
        "\n",
        "COPY act.ecommerce /home/seluser/act.ecommerce\n",
        "COPY selenium /home/seluser/selenium\n",
        "\n",
        "WORKDIR /home/seluser/act.ecommerce\n",
        "RUN npm install\n",
        "RUN npm run build\n",
        "\n",
        "WORKDIR /home/seluser/selenium/ecommerce\n",
        "RUN npm install\n",
        "\n",
        "RUN sed -i '/wait \\$NODE_PID/inpm --prefix /home/seluser/selenium/ecommerce run static &' /opt/bin/entry_point.sh\n",
        "\n"
      ],
      "outputs": [],
      "execution_count": null,
      "metadata": {
        "collapsed": false,
        "outputHidden": false,
        "inputHidden": false
      }
    },
    {
      "cell_type": "markdown",
      "source": [
        "How to use npm cache inside of docker?"
      ],
      "metadata": {}
    },
    {
      "cell_type": "code",
      "source": [
        "RUN npm config set proxy http://sco-100001269.ad.swiftpage.com:8080\n",
        "RUN npm config set proxy http://sco-100001269.ad.swiftpage.com:8080\n",
        "RUN npm config set registry http://sco-100001269.ad.swiftpage.com:5080\n",
        "RUN npm config set strict-ssl false\n",
        "\n"
      ],
      "outputs": [
        {
          "output_type": "stream",
          "name": "stdout",
          "text": [
            "bash: RUN: command not found\n",
            "bash: RUN: command not found\n",
            "bash: RUN: command not found\n",
            "bash: RUN: command not found\n"
          ]
        },
        {
          "output_type": "error",
          "ename": "",
          "evalue": "127",
          "traceback": []
        }
      ],
      "execution_count": 1,
      "metadata": {
        "collapsed": false,
        "outputHidden": false,
        "inputHidden": false
      }
    },
    {
      "cell_type": "markdown",
      "source": [
        "How to run the Docker image?"
      ],
      "metadata": {}
    },
    {
      "cell_type": "code",
      "source": [
        "docker run --shm-size=2g --name act-selenium -d -p 8888:8888 -p 6080:6080 -p 5900:5900 -p 4444:4444 -p 4200:4200 -p 3000:3000 act-selenium\n",
        "docker ps\n",
        "\n"
      ],
      "outputs": [
        {
          "output_type": "stream",
          "name": "stdout",
          "text": [
            "docker: Error response from daemon: Conflict. The container name \"/act-selenium\" is already in use by container ce7f89eaf4cce4586c556e0642f94c27d3fc25b5daec505c9398df7f74c0132c. You have to remove (or rename) that container to be able to reuse that name..\n",
            "See 'docker run --help'.\n",
            "CONTAINER ID        IMAGE               COMMAND                  CREATED             STATUS              PORTS                                                                                                                                            NAMES\n",
            "ce7f89eaf4cc        act-selenium        \"/opt/bin/entry_po...\"   46 hours ago        Up 46 hours         0.0.0.0:3000->3000/tcp, 0.0.0.0:4200->4200/tcp, 0.0.0.0:4444->4444/tcp, 0.0.0.0:5900->5900/tcp, 0.0.0.0:6080->6080/tcp, 0.0.0.0:8888->8888/tcp   act-selenium\n"
          ]
        }
      ],
      "execution_count": 1,
      "metadata": {
        "collapsed": false,
        "outputHidden": false,
        "inputHidden": false
      }
    },
    {
      "cell_type": "markdown",
      "source": [
        "Selenium test scripts?"
      ],
      "metadata": {}
    },
    {
      "cell_type": "code",
      "source": [
        "docker exec -t act-selenium npm --prefix /home/seluser/selenium/ecommerce run test"
      ],
      "outputs": [],
      "execution_count": null,
      "metadata": {
        "collapsed": false,
        "outputHidden": false,
        "inputHidden": false
      }
    }
  ],
  "metadata": {
    "kernelspec": {
      "name": "bash",
      "language": "bash",
      "display_name": "Bash"
    },
    "kernel_info": {
      "name": "bash"
    },
    "language_info": {
      "name": "bash",
      "codemirror_mode": "shell",
      "mimetype": "text/x-sh",
      "file_extension": ".sh"
    }
  },
  "nbformat": 4,
  "nbformat_minor": 4
}