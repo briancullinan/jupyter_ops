{
 "cells": [
  {
   "cell_type": "markdown",
   "metadata": {},
   "source": [
    "Generate a bunch of spec files?\n",
    "\n"
   ]
  },
  {
   "cell_type": "code",
   "execution_count": 4,
   "metadata": {
    "collapsed": false,
    "inputHidden": false,
    "outputHidden": false
   },
   "outputs": [],
   "source": [
    "var execSync = require('child_process').execSync;\r",
    "try {\r",
    "    require.resolve('glob');\r",
    "} catch (e) {\r",
    "    execSync('npm install glob');\r",
    "}\r",
    "var fs = require('fs');\r",
    "var glob = require('glob');\r",
    "var path = require('path');\r",
    "\r",
    "var cwd = 'C:\\\\Users\\\\brian.cullinan\\\\Documents\\\\portal\\\\src';\r",
    "\r",
    "var spec = `\r",
    "import {ComponentFixture} from '@angular/core/testing';\r",
    "import {} from 'jasmine';\r",
    "import {MockBackend} from '@angular/http/testing';\r",
    "import {Router} from '@angular/router';\r",
    "import {Location} from '@angular/common';\r",
    "import {By} from '@angular/platform-browser';\r",
    "import {Core} from '../../../testing/core';\r",
    "{import}\r",
    "\r",
    "describe('{title}', function () {\r",
    "    let fixture: ComponentFixture<{title}>;\r",
    "    let router: Router;\r",
    "    let location: Location;\r",
    "    let xhr: MockBackend;\r",
    "    let comp: {title};\r",
    "\r",
    "    beforeEach(() => {\r",
    "        fixture = Core.createAppWithShared([], [], [{title}]);\r",
    "        comp = fixture.componentInstance;\r",
    "        router = fixture.debugElement.injector.get(Router);\r",
    "        xhr = fixture.debugElement.injector.get(MockBackend);\r",
    "        location = fixture.debugElement.injector.get(Location);\r",
    "    });\r",
    "\r",
    "    it('should load {title}', (done) => {\r",
    "        fixture.whenStable().then(() => {\r",
    "            expect(comp).not.toBeNull();\r",
    "            done();\r",
    "        });\r",
    "    });\r",
    "\r",
    "});\r",
    "`;\r",
    "\r",
    "var files = glob.sync('**/*component.ts', {\r",
    "    ignore: '**/*.spec.ts',\r",
    "    cwd: cwd\r",
    "});\r",
    "\r",
    "var titles = files.map(f => {\r",
    "    var name = f.split('.')[0].split('/').pop();\r",
    "    var ucFirst = name.replace(/(^|\\s|-)([a-z])/g, (m, p1, p2) => p1 + p2.toUpperCase());\r",
    "    return ucFirst.replace(/-/ig, '') + 'Component';\r",
    "});\r",
    "\r",
    "titles.forEach((t, i) => {\r",
    "    try {\r",
    "        var specPath = path.join(cwd, files[i].replace('.ts', '.spec.ts'));\r",
    "        if (fs.existsSync(specPath)) {\r",
    "            return;\r",
    "        }\r",
    "        var fileStr = files[i].split('/').pop().replace('.ts', '');\r",
    "        var importStr = 'import {' + t + '} from \\'./' + fileStr + '\\';';\r",
    "        fs.writeFileSync(specPath, spec\r",
    "            .replace(/\\{title\\}/ig, t)\r",
    "            .replace(/\\{import\\}/ig, importStr));\r",
    "    } catch (e) {\r",
    "    }\r",
    "});\r",
    "\r",
    "\r",
    ""
   ]
  },
  {
   "cell_type": "code",
   "execution_count": null,
   "metadata": {},
   "outputs": [],
   "source": [
    ""
   ]
  }
 ],
 "metadata": {
  "kernel_info": {
   "name": "node_nteract"
  },
  "kernelspec": {
   "display_name": "Javascript (Node.js)",
   "language": "javascript",
   "name": "javascript"
  },
  "language_info": {
   "file_extension": ".js",
   "mimetype": "application/javascript",
   "name": "javascript",
   "version": "7.7.2"
  }
 },
 "nbformat": 4,
 "nbformat_minor": 4
}