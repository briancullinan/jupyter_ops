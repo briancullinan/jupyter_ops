{
  "cells": [
    {
      "cell_type": "markdown",
      "source": [
        "Generate a bunch of spec files?\n",
        "\n"
      ],
      "metadata": {}
    },
    {
      "cell_type": "code",
      "source": [
        "var execSync = require('child_process').execSync;\n",
        "try {\n",
        "    require.resolve('glob');\n",
        "} catch (e) {\n",
        "    execSync('npm install glob');\n",
        "}\n",
        "var fs = require('fs');\n",
        "var glob = require('glob');\n",
        "var path = require('path');\n",
        "\n",
        "var cwd = 'C:\\\\Users\\\\brian.cullinan\\\\Documents\\\\portal\\\\src\\\\app\\\\subscriptions';\n",
        "\n",
        "var spec = `\n",
        "import {ComponentFixture} from '@angular/core/testing';\n",
        "const assert = require('assert');\n",
        "import {} from 'jasmine';\n",
        "import {MockBackend} from '@angular/http/testing';\n",
        "import {Router} from '@angular/router';\n",
        "import {Location} from '@angular/common';\n",
        "import {By} from '@angular/platform-browser';\n",
        "import {Core} from '../../../testing/core';\n",
        "{import}\n",
        "\n",
        "describe('{title}', function () {\n",
        "    let fixture: ComponentFixture<{component}>;\n",
        "    let router: Router;\n",
        "    let location: Location;\n",
        "    let xhr: MockBackend;\n",
        "    let comp: {component};\n",
        "\n",
        "    beforeEach(() => {\n",
        "        fixture = Core.createAppWithShared([], [], [{component}]);\n",
        "        comp = fixture.componentInstance;\n",
        "        router = fixture.debugElement.injector.get(Router);\n",
        "        xhr = fixture.debugElement.injector.get(MockBackend);\n",
        "        location = fixture.debugElement.injector.get(Location);\n",
        "    });\n",
        "\n",
        "    it('should load {component} component', (done) => {\n",
        "        fixture.whenStable().then(() => {\n",
        "            expect(comp).not.toBeNull();\n",
        "            done();\n",
        "        });\n",
        "    });\n",
        "\n",
        "});\n",
        "`;\n",
        "\n",
        "var files = glob.sync('**/*component.ts', {\n",
        "    ignore: '**/*.spec.ts',\n",
        "    cwd: cwd\n",
        "});\n",
        "\n",
        "var titles = files.map(f => {\n",
        "    var name = f.split('.')[0].split('/').pop().replace();\n",
        "    var ucFirst = name.replace(/(^|\\s|-)([a-z])/g , (m,p1,p2) => p1+p2.toUpperCase());\n",
        "    return ucFirst.replace(/-/ig, '');\n",
        "})\n",
        "\n",
        "titles.forEach((t, i) => {\n",
        "    try {\n",
        "        var specPath = path.join(cwd, files[i].replace('.ts', '.spec.ts'));\n",
        "        var fileStr = files[i].split('/').pop().replace('.ts', '');\n",
        "        var importStr = 'import {' + t + 'Component} from \\'./' + fileStr + '\\';';\n",
        "        fs.writeFileSync(specPath, spec\n",
        "                         .replace(/\\{component\\}/ig, t + 'Component')\n",
        "                         .replace(/\\{title\\}/ig, t)\n",
        "                         .replace(/\\{import\\}/ig, importStr));\n",
        "    } catch (e) {}\n",
        "});\n",
        "\n\n"
      ],
      "outputs": [],
      "execution_count": null,
      "metadata": {
        "collapsed": false,
        "outputHidden": false,
        "inputHidden": false
      }
    }
  ],
  "metadata": {
    "kernelspec": {
      "name": "node_nteract",
      "language": "javascript",
      "display_name": "Node.js (nteract)"
    },
    "kernel_info": {
      "name": "node_nteract"
    },
    "language_info": {
      "name": "javascript",
      "version": "6.5.0",
      "mimetype": "application/javascript",
      "file_extension": ".js"
    }
  },
  "nbformat": 4,
  "nbformat_minor": 4
}