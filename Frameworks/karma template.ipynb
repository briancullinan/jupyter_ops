{
 "cells": [
  {
   "cell_type": "markdown",
   "metadata": {},
   "source": [
    "Generate a bunch of spec files?\n",
    "\n"
   ]
  },
  {
   "cell_type": "code",
   "execution_count": 4,
   "metadata": {
    "collapsed": false,
    "inputHidden": false,
    "outputHidden": false
   },
   "outputs": [],
   "source": [
    "var execSync = require('child_process').execSync;\n",
    "try {\n",
    "    require.resolve('glob');\n",
    "} catch (e) {\n",
    "    execSync('npm install glob');\n",
    "}\n",
    "var fs = require('fs');\n",
    "var glob = require('glob');\n",
    "var path = require('path');\n",
    "\n",
    "var cwd = 'C:\\\\Users\\\\brian.cullinan\\\\Documents\\\\portal\\\\src';\n",
    "\n",
    "var spec = `\n",
    "import {ComponentFixture} from '@angular/core/testing';\n",
    "import {} from 'jasmine';\n",
    "import {MockBackend} from '@angular/http/testing';\n",
    "import {Router} from '@angular/router';\n",
    "import {Location} from '@angular/common';\n",
    "import {By} from '@angular/platform-browser';\n",
    "import {Core} from '../../../testing/core';\n",
    "{import}\n",
    "\n",
    "describe('{title}', function () {\n",
    "    let fixture: ComponentFixture<{title}>;\n",
    "    let router: Router;\n",
    "    let location: Location;\n",
    "    let xhr: MockBackend;\n",
    "    let comp: {title};\n",
    "\n",
    "    beforeEach(() => {\n",
    "        fixture = Core.createAppWithShared([], [], [{title}]);\n",
    "        comp = fixture.componentInstance;\n",
    "        router = fixture.debugElement.injector.get(Router);\n",
    "        xhr = fixture.debugElement.injector.get(MockBackend);\n",
    "        location = fixture.debugElement.injector.get(Location);\n",
    "    });\n",
    "\n",
    "    it('should load {title}', (done) => {\n",
    "        fixture.whenStable().then(() => {\n",
    "            expect(comp).not.toBeNull();\n",
    "            done();\n",
    "        });\n",
    "    });\n",
    "\n",
    "});\n",
    "`;\n",
    "\n",
    "var files = glob.sync('**/*component.ts', {\n",
    "    ignore: '**/*.spec.ts',\n",
    "    cwd: cwd\n",
    "});\n",
    "\n",
    "var titles = files.map(f => {\n",
    "    var name = f.split('.')[0].split('/').pop();\n",
    "    var ucFirst = name.replace(/(^|\\s|-)([a-z])/g , (m,p1,p2) => p1+p2.toUpperCase());\n",
    "    return ucFirst.replace(/-/ig, '')+'Component';\n",
    "});\n",
    "\n",
    "titles.forEach((t, i) => {\n",
    "    try {\n",
    "        var specPath = path.join(cwd, files[i].replace('.ts', '.spec.ts'));\n",
    "        if(fs.existsSync(specPath)) {\n",
    "            return;\n",
    "        }\n",
    "        var fileStr = files[i].split('/').pop().replace('.ts', '');\n",
    "        var importStr = 'import {' + t + '} from \\'./' + fileStr + '\\';';\n",
    "        fs.writeFileSync(specPath, spec\n",
    "                         .replace(/\\{title\\}/ig, t)\n",
    "                         .replace(/\\{import\\}/ig, importStr));\n",
    "    } catch (e) {}\n",
    "});\n",
    "\n",
    "\n"
   ]
  },
  {
   "cell_type": "code",
   "execution_count": null,
   "metadata": {},
   "outputs": [],
   "source": []
  }
 ],
 "metadata": {
  "kernel_info": {
   "name": "node_nteract"
  },
  "kernelspec": {
   "display_name": "Javascript (Node.js)",
   "language": "javascript",
   "name": "javascript"
  },
  "language_info": {
   "file_extension": ".js",
   "mimetype": "application/javascript",
   "name": "javascript",
   "version": "7.7.2"
  }
 },
 "nbformat": 4,
 "nbformat_minor": 4
}
