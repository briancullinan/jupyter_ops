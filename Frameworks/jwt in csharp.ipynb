{
 "cells": [
  {
   "cell_type": "markdown",
   "source": [
    "How to use JSON web tokens in C#?"
   ],
   "metadata": {}
  },
  {
   "cell_type": "code",
   "source": [
    "#r\r",
    "'System.Net'\r",
    "\r",
    "// The above should get System.Net from GAC\r",
    "using\r",
    "System.Net;\r",
    "string\r",
    "GetUrlContent(string\r",
    "uri\r",
    ")\r",
    "{\r",
    "\r",
    "    WebClient\r",
    "    client = new WebClient();\r",
    "\r",
    "    using(Stream\r",
    "    data = client.OpenRead(uri)\r",
    ")\r",
    "    {\r",
    "        using(StreamReader\r",
    "        reader = new StreamReader(data)\r",
    "    )\r",
    "        {\r",
    "            string\r",
    "            s = reader.ReadToEnd();\r",
    "            return s;\r",
    "        }\r",
    "    }\r",
    "\r",
    "}\r",
    "\r",
    "GetUrlContent('http://zohaib.me');\r",
    ""
   ],
   "outputs": [],
   "execution_count": null,
   "metadata": {
    "collapsed": false,
    "outputHidden": false,
    "inputHidden": false
   }
  },
  {
   "cell_type": "code",
   "source": [
    ""
   ],
   "outputs": [],
   "execution_count": null,
   "metadata": {
    "collapsed": false,
    "outputHidden": false,
    "inputHidden": false
   }
  }
 ],
 "metadata": {
  "kernelspec": {
   "name": "icsharp",
   "language": "csharp",
   "display_name": "CSharp"
  },
  "kernel_info": {
   "name": "icsharp"
  }
 },
 "nbformat": 4,
 "nbformat_minor": 4
}