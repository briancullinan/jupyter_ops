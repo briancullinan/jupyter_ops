{
 "cells": [
  {
   "cell_type": "markdown",
   "source": [
    "How to use JSON web tokens in C#?"
   ],
   "metadata": {}
  },
  {
   "cell_type": "code",
   "source": [
    "#r\n",
    "'System.Net'\n",
    "\n",
    "// The above should get System.Net from GAC\n",
    "using\n",
    "System.Net;\n",
    "string\n",
    "GetUrlContent(string\n",
    "uri\n",
    ")\n",
    "{\n",
    "\n",
    "    WebClient\n",
    "    client = new WebClient();\n",
    "\n",
    "    using(Stream\n",
    "    data = client.OpenRead(uri)\n",
    ")\n",
    "    {\n",
    "        using(StreamReader\n",
    "        reader = new StreamReader(data)\n",
    "    )\n",
    "        {\n",
    "            string\n",
    "            s = reader.ReadToEnd();\n",
    "            return s;\n",
    "        }\n",
    "    }\n",
    "\n",
    "}\n",
    "\n",
    "GetUrlContent('http://zohaib.me');\n",
    ""
   ],
   "outputs": [],
   "execution_count": null,
   "metadata": {
    "collapsed": false,
    "outputHidden": false,
    "inputHidden": false
   }
  },
  {
   "cell_type": "code",
   "source": [
    ""
   ],
   "outputs": [],
   "execution_count": null,
   "metadata": {
    "collapsed": false,
    "outputHidden": false,
    "inputHidden": false
   }
  }
 ],
 "metadata": {
  "kernelspec": {
   "name": "icsharp",
   "language": "csharp",
   "display_name": "CSharp"
  },
  "kernel_info": {
   "name": "icsharp"
  }
 },
 "nbformat": 4,
 "nbformat_minor": 4
}