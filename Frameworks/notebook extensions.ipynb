{
 "cells": [
  {
   "cell_type": "markdown",
   "metadata": {},
   "source": [
    "notebook extension?\n",
    "\n",
    "TODO: connect output to jupyter kernel, using display mime types possibly?\n",
    "\n",
    "TODO: research how other plugins do this\n",
    "\n",
    "TODO: create a JSON viewer tree because I'm sick of scrolling\n",
    "\n",
    "TODO: scroll output to bottom of notebook would be nice\n",
    "\n",
    "TODO: working code completetion and syntax checking would be nice\n",
    "\n"
   ]
  },
  {
   "cell_type": "code",
   "execution_count": null,
   "metadata": {},
   "outputs": [],
   "source": []
  }
 ],
 "metadata": {
  "kernelspec": {
   "display_name": "Javascript (Node.js)",
   "language": "javascript",
   "name": "javascript"
  },
  "language_info": {
   "file_extension": ".js",
   "mimetype": "application/javascript",
   "name": "javascript",
   "version": "10.16.0"
  }
 },
 "nbformat": 4,
 "nbformat_minor": 2
}
