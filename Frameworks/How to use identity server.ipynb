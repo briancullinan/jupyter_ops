{
  "cells": [
    {
      "cell_type": "markdown",
      "source": [
        "How to use identity server 3\n"
      ],
      "metadata": {}
    },
    {
      "cell_type": "code",
      "source": [
        "var path = require('path');\n",
        "var fs = require('fs');\n",
        "var corePath = path.resolve(path.join(__dirname, '..', 'Core'));\n",
        "var importer = require(corePath);\n",
        "var writeFileSync = fs.writeFileSync;\n",
        "\n",
        "var GITHUB_TOKEN = path.join(process.env.HOME || process.env.HOMEPATH || process.env.USERPROFILE, '.credentials', 'github_token.txt');\n",
        "\n",
        "// add some run commands to the bash script\n",
        "var bashToRun = (code) => code.split('\\n').map(l => 'RUN ' + l)\n",
        "    .join('\\n').replace(/\\\\\\s*\\nRUN\\s*/ig, '\\\\\\n ');\n",
        "\n",
        "// create a selenium Dockerfile with a vnc connection\n",
        "var interpretAllPath = path.join('..', 'Core', 'How to interpret all notebooks.ipynb');\n",
        "var interpret, interpretObject;\n",
        "var identityDockerfile = (output) => {\n",
        "    var DOCKERFILE = path.resolve(path.join(output, 'Dockerfile'));\n",
        "    return importer.importNotebook(interpretAllPath)\n",
        "        .then((f) => {\n",
        "            interpret = f['interpret'];\n",
        "            interpretObject = f['interpretObject'];\n",
        "        })\n",
        "        .then(() => Promise.all([\n",
        "            interpret('run Mono'),\n",
        "            interpret('linux dev tools'),\n",
        "            // add some extra services\n",
        "            interpret('act identity repository'),\n",
        "        ]))\n",
        "        .then(r => r.map(r => r[0]))\n",
        "        .then(r => interpretObject(r))\n",
        "        .then(r => {\n",
        "            // lets fix the middle result\n",
        "            r[1].code = bashToRun(r[1].code);\n",
        "            r[2].code = bashToRun(r[2].code)\n",
        "                .replace('{username}', fs.readFileSync(GITHUB_TOKEN));;\n",
        "            return r.map(r => r.code).join('\\n');\n",
        "        })\n",
        "        .then(r => {\n",
        "            // save the Dockerfile\n",
        "            writeFileSync(DOCKERFILE, r);\n",
        "            return r;\n",
        "        });\n",
        "};\n",
        "(identityDockerfile);\n"
      ],
      "outputs": [
        {
          "output_type": "execute_result",
          "execution_count": 1,
          "data": {
            "text/plain": [
              "[Function: identityDockerfile]"
            ]
          },
          "metadata": {}
        }
      ],
      "execution_count": 1,
      "metadata": {
        "collapsed": false,
        "outputHidden": false,
        "inputHidden": false
      }
    },
    {
      "cell_type": "code",
      "source": [
        "var DOCKERFILE = path.resolve(__dirname);\n",
        "identityDockerfile(DOCKERFILE)"
      ],
      "outputs": [
        {
          "output_type": "execute_result",
          "execution_count": 2,
          "data": {
            "text/plain": [
              "Promise { <pending> }"
            ]
          },
          "metadata": {}
        }
      ],
      "execution_count": 2,
      "metadata": {
        "collapsed": false,
        "outputHidden": false,
        "inputHidden": false
      }
    },
    {
      "cell_type": "markdown",
      "source": [
        "How to set up identity server?"
      ],
      "metadata": {}
    },
    {
      "cell_type": "code",
      "source": [
        "var path = require('path');\n",
        "var execSync = require('child_process').execSync;\n",
        "var getIdentityServer = (name = 'act-identity') => {\n",
        "    var DOCKERFILE = path.resolve(__dirname);\n",
        "    return identityDockerfile(DOCKERFILE)\n",
        "        .then(r => execSync('docker build -t ' + name + ' \"' + DOCKERFILE + '\"').toString())\n",
        "        .then(r => {\n",
        "            var ps = execSync('docker ps -a').toString();\n",
        "            if(ps.indexOf(name) !== -1) {\n",
        "                return r \n",
        "                    + execSync('docker stop ' + name).toString()\n",
        "                    + execSync('docker rm ' + name).toString();\n",
        "            }\n",
        "            return '';\n",
        "        })\n",
        "        .then(r => r + execSync('docker run --name ' + name + ' ' + name).toString())\n",
        "        // wait for process to start\n",
        "        .then(() => new Promise((resolve, reject) =>\n",
        "                                setTimeout(resolve, 5000)));\n",
        "};\n",
        "(getIdentityServer);\n"
      ],
      "outputs": [
        {
          "output_type": "execute_result",
          "execution_count": 3,
          "data": {
            "text/plain": [
              "[Function: getIdentityServer]"
            ]
          },
          "metadata": {}
        }
      ],
      "execution_count": 3,
      "metadata": {
        "collapsed": false,
        "outputHidden": false,
        "inputHidden": false
      }
    },
    {
      "cell_type": "code",
      "source": [
        "$$.async();\n",
        "getIdentityServer()\n",
        "    .then(r => $$.sendResult(r))\n",
        "    .catch(e => $$.sendError(e));\n"
      ],
      "outputs": [],
      "execution_count": 19,
      "metadata": {
        "collapsed": false,
        "outputHidden": false,
        "inputHidden": false
      }
    },
    {
      "cell_type": "code",
      "source": [],
      "outputs": [],
      "execution_count": null,
      "metadata": {
        "collapsed": false,
        "outputHidden": false,
        "inputHidden": false
      }
    },
    {
      "cell_type": "code",
      "source": [],
      "outputs": [],
      "execution_count": null,
      "metadata": {
        "collapsed": false,
        "outputHidden": false,
        "inputHidden": false
      }
    }
  ],
  "metadata": {
    "kernelspec": {
      "name": "node_nteract",
      "language": "javascript",
      "display_name": "Node.js (nteract)"
    },
    "kernel_info": {
      "name": "node_nteract"
    },
    "language_info": {
      "name": "javascript",
      "version": "6.5.0",
      "mimetype": "application/javascript",
      "file_extension": ".js"
    }
  },
  "nbformat": 4,
  "nbformat_minor": 4
}