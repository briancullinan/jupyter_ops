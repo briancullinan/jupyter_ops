{
 "cells": [
  {
   "cell_type": "markdown",
   "metadata": {},
   "source": [
    "Automatically delint notebooks on save?\n",
    "\n"
   ]
  },
  {
   "cell_type": "code",
   "execution_count": null,
   "metadata": {},
   "outputs": [],
   "source": [
    "// TODO: display a tree of require dependencies and make sure it all still compiles properly\r",
    "var importer = require('../Core');\r",
    "var fs = require('fs');\r",
    "var path = require('path');\r",
    "var execSync = require('child_process').execSync;\r",
    "var ncp = require('ncp').ncp;\n",
    "var diffTwoTexts = importer.import('diff code blocks');\n",
    "var cell = importer.interpret('diff code blocks');\n",
    "ncp.limit = 16;\n",
    "\r",
    "var PROFILE_PATH = process.env.HOME || process.env.HOMEPATH || process.env.USERPROFILE;\r",
    "var project = path.resolve('../Utilities/.modules');\r",
    "var webstormWin = 'C:\\\\Program Files\\\\JetBrains\\\\WebStorm 2017.1.1\\\\bin\\\\format.bat';\r",
    "var webstormMac = '/Applications/WebStorm.app/Contents/bin/format.sh';\n",
    "var webstorm = '';\n",
    "if (process.platform === 'win32') {\n",
    "    webstorm = webstormWin;\n",
    "} else if (process.platform === 'darwin') {\n",
    "    webstorm = webstormMac;\n",
    "}\n",
    "// TODO: how to force CLI to use project based settings instead of user settings?\n",
    "var idea = path.resolve('../.idea');\n",
    "\n",
    "var delint = () => {\n",
    "    return new Promise((resolve, reject) => {\n",
    "        // output .idea to set the framework preferences?\n",
    "        return ncp(idea, project + '/.idea', function (err) {\n",
    "            if (err) {\n",
    "                return reject(err);\n",
    "            }\n",
    "            resolve();\n",
    "        });\n",
    "    })\n",
    "    // TODO: make this a test script for exporting all notebooks on file change watcher\n",
    "        .then(() => {\n",
    "            // I think I overwrote the default, some way to env variables for this?\n",
    "            const cmd = '\"' + webstorm + '\" \"' + project + '/\" -R';\n",
    "            var cwd = process.cwd();\n",
    "            if (!fs.existsSync(project)) {\n",
    "                fs.mkdirSync(project);\n",
    "            }\n",
    "            process.chdir(project);\n",
    "            execSync(cmd);\n",
    "            process.chdir(cwd);\n",
    "            var filename = path.join(project, 'Utilities/diff/cell-' + cell.to + '.js');\n",
    "            return diffTwoTexts(cell.code, fs.readFileSync(filename).toString());\r",
    "        })\r",
    "};\n",
    "module.exports = delint;\r",
    "\r"
   ]
  },
  {
   "cell_type": "markdown",
   "metadata": {},
   "source": [
    "test de-linting service?\n"
   ]
  },
  {
   "cell_type": "code",
   "execution_count": null,
   "metadata": {},
   "outputs": [],
   "source": [
    "describe('de-linting service', () => {\n",
    "    it('should de-lint a file', (done) => {\n",
    "        const r = importer.interpret('diff code blocks');\n",
    "        assert(r.filename.indexOf('diff.ipynb') > -1);\n",
    "        delint().then(r => {\n",
    "            console.log(r);\n",
    "            done();\n",
    "        });\n",
    "    })\n",
    "})\n",
    "\n"
   ]
  },
  {
   "cell_type": "markdown",
   "metadata": {},
   "source": [
    "Autofix some linting errors using bslint?\n",
    "\n"
   ]
  }
 ],
 "metadata": {
  "kernelspec": {
   "display_name": "Javascript (Node.js)",
   "language": "javascript",
   "name": "javascript"
  },
  "language_info": {
   "file_extension": ".js",
   "mimetype": "application/javascript",
   "name": "javascript",
   "version": "8.6.0"
  }
 },
 "nbformat": 4,
 "nbformat_minor": 2
}
