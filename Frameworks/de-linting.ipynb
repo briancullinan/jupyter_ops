{
 "cells": [
  {
   "cell_type": "markdown",
   "metadata": {},
   "source": [
    "Automatically delint notebooks on save?\n",
    "\n"
   ]
  },
  {
   "cell_type": "code",
   "execution_count": 7,
   "metadata": {},
   "outputs": [
    {
     "ename": "TypeError",
     "evalue": "res.map is not a function",
     "execution_count": 7,
     "output_type": "error",
     "traceback": [
      "evalmachine.<anonymous>:18",
      "        ? results.map((res) => res.map(r => {",
      "                                   ^",
      "",
      "TypeError: res.map is not a function",
      "    at results.(anonymous function).undefined.results.(anonymous function).string.results.map (evalmachine.<anonymous>:18:36)",
      "    at Array.map (<anonymous>)",
      "    at interpretObject (evalmachine.<anonymous>:18:19)",
      "    at interpret (/Users/briancullinan/jupytangular2/Core/import notebook.ipynb:291:11)",
      "    at Object.importNotebook (/Users/briancullinan/jupytangular2/Core/import notebook.ipynb:98:17)",
      "    at evalmachine.<anonymous>:6:46",
      "    at ContextifyScript.Script.runInThisContext (vm.js:50:33)",
      "    at Object.runInThisContext (vm.js:139:38)",
      "    at run ([eval]:775:15)",
      "    at onRunRequest ([eval]:620:18)"
     ]
    }
   ],
   "source": [
    "// TODO: display a tree of require dependencies and make sure it all still compiles properly\r",
    "var importer = require('../Core');\r",
    "var fs = require('fs');\r",
    "var path = require('path');\r",
    "var ncp = require('ncp').ncp;\n",
    "var {execCmd, diffTwoTexts} = importer.import([\n",
    "    'spawn child process',\n",
    "    'diff code blocks',\n",
    "]);\n",
    "var cell = importer.interpret('diff code blocks');\n",
    "ncp.limit = 16;\n",
    "\r",
    "var PROFILE_PATH = process.env.HOME || process.env.HOMEPATH || process.env.USERPROFILE;\r",
    "var project = path.resolve('../Utilities/.modules');\r",
    "var webstormWin = 'C:\\\\Program Files\\\\JetBrains\\\\WebStorm 2017.1.1\\\\bin\\\\format.bat';\r",
    "var webstormMac = '/Applications/WebStorm.app/Contents/bin/format.sh';\n",
    "var webstorm = '';\n",
    "if (process.platform === 'win32') {\n",
    "    webstorm = webstormWin;\n",
    "} else if (process.platform === 'darwin') {\n",
    "    webstorm = webstormMac;\n",
    "}\n",
    "// TODO: how to force CLI to use project based settings instead of user settings?\n",
    "var idea = path.resolve('../.idea');\n",
    "\n",
    "var delint = () => {\n",
    "    return new Promise((resolve, reject) => {\n",
    "        // output .idea to set the framework preferences?\n",
    "        return ncp(idea, project + '/.idea', function (err) {\n",
    "            if (err) {\n",
    "                return reject(err);\n",
    "            }\n",
    "            resolve();\n",
    "        });\n",
    "    })\n",
    "    // TODO: make this a test script for exporting all notebooks on file change watcher\n",
    "        .then(() => {\n",
    "            // I think I overwrote the default, some way to env variables for this?\n",
    "            const cmd = '\"' + webstorm + '\" \"' + project + '/\" -R -settings \"' + project + '/Default.xml\"';\n",
    "            var cwd = process.cwd();\n",
    "            if (!fs.existsSync(project)) {\n",
    "                fs.mkdirSync(project);\n",
    "            }\n",
    "            return execCmd(cmd, {cwd: project})\n",
    "        })\n",
    "        .then(r => {\n",
    "            console.log(r);\n",
    "            var filename = path.join(project, 'Utilities/diff/cell-' + cell.to + '.js');\n",
    "            return diffTwoTexts(cell.code, fs.readFileSync(filename).toString());\r",
    "        })\r",
    "};\n",
    "module.exports = delint;\r",
    "\r"
   ]
  },
  {
   "cell_type": "markdown",
   "metadata": {},
   "source": [
    "test de-linting service?\n"
   ]
  },
  {
   "cell_type": "code",
   "execution_count": 5,
   "metadata": {},
   "outputs": [
    {
     "ename": "AssertionError [ERR_ASSERTION]",
     "evalue": "false == true",
     "execution_count": 5,
     "output_type": "error",
     "traceback": [
      "assert.js:41",
      "  throw new errors.AssertionError({",
      "  ^",
      "",
      "AssertionError [ERR_ASSERTION]: false == true",
      "    at it (evalmachine.<anonymous>:14:9)",
      "    at it (evalmachine.<anonymous>:5:28)",
      "    at describe (evalmachine.<anonymous>:12:5)",
      "    at describe (evalmachine.<anonymous>:7:34)",
      "    at evalmachine.<anonymous>:11:1",
      "    at ContextifyScript.Script.runInThisContext (vm.js:50:33)",
      "    at Object.runInThisContext (vm.js:139:38)",
      "    at run ([eval]:775:15)",
      "    at onRunRequest ([eval]:620:18)",
      "    at onMessage ([eval]:588:13)"
     ]
    }
   ],
   "source": [
    "var importer = require('../Core');\n",
    "\n",
    "// just do it in load mode\n",
    "if(typeof describe === 'undefined') {\n",
    "    var it = ((l, func) => func());\n",
    "    var beforeEach = ((func) => func());\n",
    "    var describe = ((l, func) => func());\n",
    "//    var describe = (() => {});\n",
    "}\n",
    "\n",
    "describe('de-linting service', () => {\n",
    "    it('should de-lint a file', (done) => {\n",
    "        const r = importer.interpret('diff code blocks');\n",
    "        assert(r.filename.indexOf('diff.ipynb') > -1);\n",
    "        //delint().then(r => {\n",
    "        //    console.log(r);\n",
    "            done();\n",
    "        //}).catch(r => console.log(r));\n",
    "    }).timeout(10000)\n",
    "})\n",
    "\n"
   ]
  },
  {
   "cell_type": "markdown",
   "metadata": {},
   "source": [
    "Autofix some linting errors using bslint?\n",
    "\n"
   ]
  }
 ],
 "metadata": {
  "kernelspec": {
   "display_name": "Javascript (Node.js)",
   "language": "javascript",
   "name": "javascript"
  },
  "language_info": {
   "file_extension": ".js",
   "mimetype": "application/javascript",
   "name": "javascript",
   "version": "8.6.0"
  }
 },
 "nbformat": 4,
 "nbformat_minor": 2
}
