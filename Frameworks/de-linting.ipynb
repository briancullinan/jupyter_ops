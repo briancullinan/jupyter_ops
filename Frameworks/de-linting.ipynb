{
 "cells": [
  {
   "cell_type": "markdown",
   "metadata": {},
   "source": [
    "Automatically delint notebooks on save?\n",
    "\n",
    "delint notebooks?\n"
   ]
  },
  {
   "cell_type": "code",
   "execution_count": null,
   "metadata": {},
   "outputs": [],
   "source": [
    "// TODO: display a tree of require dependencies and make sure it all still compiles properly\n",
    "var importer = require('../Core');\n",
    "var fs = require('fs');\n",
    "var path = require('path');\n",
    "var {ncp} = require('ncp');\n",
    "var {execCmd, diffTwoTexts} = importer.import([\n",
    "    'spawn child process',\n",
    "    'diff code blocks',\n",
    "]);\n",
    "var cell = importer.interpret('diff code blocks');\n",
    "ncp.limit = 16;\n",
    "\n",
    "var webstormWin = 'C:\\\\Program Files\\\\JetBrains\\\\WebStorm 2017.1.1\\\\bin\\\\format.bat';\n",
    "var webstormMac = '/Applications/WebStorm.app/Contents/bin/format.sh';\n",
    "var webstorm = process.platform === 'win32' ? webstormWin : webstormMac;\n",
    "\n",
    "// TODO: how to force CLI to use project based settings instead of user settings?\n",
    "var idea = path.resolve(path.join(__dirname, '../.idea'));\n",
    "\n",
    "function delint(project) {\n",
    "    return new Promise((resolve, reject) => {\n",
    "        // output .idea to set the framework preferences?\n",
    "        return ncp(idea, project + '/.idea', function (err) {\n",
    "            if (err) {\n",
    "                return reject(err);\n",
    "            }\n",
    "            resolve();\n",
    "        });\n",
    "    })\n",
    "    // TODO: make this a test script for exporting all notebooks on file change watcher\n",
    "        .then(() => {\n",
    "            // I think I overwrote the default, some way to env variables for this?\n",
    "            const cmd = '\"' + webstorm + '\" \"' + project + '\"';\n",
    "            if (!fs.existsSync(project)) {\n",
    "                fs.mkdirSync(project);\n",
    "            }\n",
    "            return execCmd(cmd, {cwd: project})\n",
    "        })\n",
    "};\n",
    "module.exports = delint;\n",
    "\n"
   ]
  },
  {
   "cell_type": "markdown",
   "metadata": {},
   "source": [
    "test de-linting service?\n"
   ]
  },
  {
   "cell_type": "code",
   "execution_count": null,
   "metadata": {},
   "outputs": [],
   "source": [
    "var fs = require('fs');\n",
    "var importer = require('../Core');\n",
    "var delint = importer.import('delint notebooks');\n",
    "var exportAndDeploy = importer.import('export deploy notebook');\n",
    "var exportNotebook = importer.import('notebook.ipynb[export cells modules]');\n",
    "\n",
    "var PROFILE_PATH = process.env.HOME || process.env.HOMEPATH || process.env.USERPROFILE;\n",
    "var project = path.resolve(path.join(__dirname, '../Utilities/.modules'));\n",
    "\n",
    "// just do it in load mode\n",
    "if(typeof describe === 'undefined') {\n",
    "    var it = ((l, func) => func());\n",
    "    it.timeout = () => {};\n",
    "    var beforeEach = ((func) => func());\n",
    "    var describe = ((l, func) => func());\n",
    "//    var describe = (() => {});\n",
    "}\n",
    "\n",
    "describe('de-linting service', () => {\n",
    "    it('should de-lint a file', () => {\n",
    "        const r = importer.interpret('diff code blocks');\n",
    "        assert(r.filename.indexOf('diff.ipynb') > -1);\n",
    "        return exportAndDeploy(['delint notebooks'])\n",
    "            .then(() => exportNotebook(__filename))\n",
    "            .then(() => delint(project))\n",
    "            .then(r => {\n",
    "                //console.log(r);\n",
    "                //var filename = path.join(project, 'Utilities/diff/cell-' + cell.to + '.js');\n",
    "                //return diffTwoTexts(cell.code, fs.readFileSync(filename).toString());\n",
    "            })\n",
    "            .catch(r => console.log(r))\n",
    "    }).timeout(30000);\n",
    "})\n",
    "\n"
   ]
  },
  {
   "cell_type": "code",
   "execution_count": null,
   "metadata": {},
   "outputs": [],
   "source": [
    "var importer = require('../Core');\n",
    "var delint = importer.import('delint notebooks');\n",
    "\n",
    "if(typeof $$ !== 'undefined') {\n",
    "    var PROFILE_PATH = process.env.HOME || process.env.HOMEPATH || process.env.USERPROFILE;\n",
    "    var project = path.resolve(path.join(PROFILE_PATH, 'Documents/subscription.services.eloqua'));\n",
    "    \n",
    "    $$.async();\n",
    "    delint(project)\n",
    "        .catch(r => console.log(r))\n",
    "        .then(r => {\n",
    "            console.log(r);\n",
    "            $$.done();\n",
    "        })\n",
    "}"
   ]
  },
  {
   "cell_type": "markdown",
   "metadata": {},
   "source": [
    "Autofix some linting errors using bslint?\n",
    "\n"
   ]
  }
 ],
 "metadata": {
  "kernelspec": {
   "display_name": "Javascript (Node.js)",
   "language": "javascript",
   "name": "javascript"
  },
  "language_info": {
   "file_extension": ".js",
   "mimetype": "application/javascript",
   "name": "javascript",
   "version": "10.15.3"
  }
 },
 "nbformat": 4,
 "nbformat_minor": 2
}
