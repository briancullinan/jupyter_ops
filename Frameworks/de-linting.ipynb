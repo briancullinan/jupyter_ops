{
 "cells": [
  {
   "cell_type": "markdown",
   "metadata": {},
   "source": [
    "delint notebooks?\n"
   ]
  },
  {
   "cell_type": "code",
   "execution_count": null,
   "metadata": {},
   "outputs": [],
   "source": [
    "var CLIEngine = require(\"eslint\").CLIEngine;\n",
    "\n",
    "var esLintConfig = {\n",
    "    parser: \"babel-eslint\",\n",
    "    \"plugins\": [\"prettier\"],\n",
    "    envs: [\"es6\", \"node\", \"browser\", \"mocha\"],\n",
    "    useEslintrc: false,\n",
    "    extends: [\"eslint:recommended\", \"google\"],\n",
    "    fix: true,\n",
    "    'fix-dry-run': true,\n",
    "    'fix-type': 'problem,suggestion,layout',\n",
    "    rules: {\n",
    "        'semi': 2,\n",
    "        'prefer-const': 2,\n",
    "        'no-var': 2,\n",
    "        'no-undef': 2,\n",
    "        'no-unused-vars': [2, {vars: 'all', args: 'all'}],\n",
    "        'max-len': 2,\n",
    "        'max-depth': 2,\n",
    "        \"prettier/prettier\": \"error\",\n",
    "        'quotes': [2, 'single']\n",
    "    }\n",
    "};\n",
    "\n",
    "var cli = new CLIEngine(Object.assign(esLintConfig, {fix: false}));\n",
    "var fix = new CLIEngine(Object.assign(esLintConfig, {fix: true}));\n",
    "\n",
    "function delintCode(code) {\n",
    "    // TODO: accept a file path\n",
    "    if(typeof code === 'string') {\n",
    "        code = [code]\n",
    "    }\n",
    "    try {\n",
    "        return code\n",
    "            .map(c => Object.assign(cli.executeOnText(c).results[0], {\n",
    "                source: c,\n",
    "                fixed: fix.executeOnText(c).results[0].output || c\n",
    "            }))\n",
    "    } catch (e) {\n",
    "        console.log(e.message)\n",
    "        console.log('Error: doing nothing to code.')\n",
    "        return [{\n",
    "            code: code\n",
    "        }]\n",
    "    }\n",
    "}\n",
    "\n",
    "module.exports = delintCode;\n",
    "\n"
   ]
  },
  {
   "cell_type": "markdown",
   "metadata": {},
   "source": [
    "delint specific cells?"
   ]
  },
  {
   "cell_type": "code",
   "execution_count": null,
   "metadata": {},
   "outputs": [],
   "source": [
    "var importer = require('../Core');\n",
    "var delintCode = importer.import('delint notebooks');\n",
    "\n",
    "function delintCell(search) {\n",
    "    var results = importer.interpret(search);\n",
    "    if(typeof results[0] !== 'undefined') {\n",
    "        return delintCode(results.map(r => r.code));\n",
    "    }\n",
    "    return typeof search === 'string' && results.length === 1\n",
    "        ? delintCode(results.code)[0]\n",
    "        : delintCode(results.code);\n",
    "}\n",
    "\n",
    "module.exports = delintCell;\n",
    "\n"
   ]
  },
  {
   "cell_type": "markdown",
   "metadata": {},
   "source": [
    "test de-linting service?\n"
   ]
  },
  {
   "cell_type": "code",
   "execution_count": null,
   "metadata": {},
   "outputs": [],
   "source": [
    "var fs = require('fs');\n",
    "var importer = require('../Core');\n",
    "var delint = importer.import('delint notebooks');\n",
    "var exportAndDeploy = importer.import('export deploy notebook');\n",
    "var exportNotebook = importer.import('notebook.ipynb[export cells modules]');\n",
    "\n",
    "var PROFILE_PATH = process.env.HOME || process.env.HOMEPATH || process.env.USERPROFILE;\n",
    "var project = path.resolve(path.join(__dirname, '../Utilities/.modules'));\n",
    "\n",
    "// just do it in load mode\n",
    "if(typeof describe === 'undefined') {\n",
    "    var it = ((l, func) => func());\n",
    "    it.timeout = () => {};\n",
    "    var beforeEach = ((func) => func());\n",
    "    var describe = ((l, func) => func());\n",
    "//    var describe = (() => {});\n",
    "}\n",
    "\n",
    "// TODO: make this a test script for exporting all notebooks on file change watcher\n",
    "describe('de-linting service', () => {\n",
    "    it('should de-lint a file', () => {\n",
    "        const r = importer.interpret('diff code blocks');\n",
    "        assert(r.filename.indexOf('diff.ipynb') > -1);\n",
    "        return exportAndDeploy(['delint notebooks'])\n",
    "            .then(() => exportNotebook(__filename))\n",
    "            .then(() => delint(project))\n",
    "            .then(r => {\n",
    "                //console.log(r);\n",
    "                //var filename = path.join(project, 'Utilities/diff/cell-' + cell.to + '.js');\n",
    "                //return diffTwoTexts(cell.code, fs.readFileSync(filename).toString());\n",
    "            })\n",
    "            .catch(r => console.log(r))\n",
    "    }).timeout(30000);\n",
    "})\n",
    "\n"
   ]
  },
  {
   "cell_type": "markdown",
   "metadata": {},
   "source": [
    "delint using webstorm?\n"
   ]
  },
  {
   "cell_type": "code",
   "execution_count": null,
   "metadata": {},
   "outputs": [],
   "source": [
    "// TODO: display a tree of require dependencies and make sure it all still compiles properly\n",
    "var path = require('path');\n",
    "var {ncp} = require('ncp');\n",
    "var importer = require('../Core');\n",
    "var execCmd = importer.import('spawn child process');\n",
    "ncp.limit = 16;\n",
    "\n",
    "var webstormWin = 'C:\\\\Program Files\\\\JetBrains\\\\WebStorm 2017.1.1\\\\bin\\\\format.bat';\n",
    "var webstormMac = '/Applications/WebStorm.app/Contents/bin/format.sh';\n",
    "var webstorm = process.platform === 'win32' ? webstormWin : webstormMac;\n",
    "var idea = path.resolve(path.join(__dirname, '../.idea'));\n",
    "\n",
    "function delint(project) {\n",
    "    // output .idea to set the framework preferences?\n",
    "    // I think I overwrote the default, some way to env variables for this?\n",
    "    return util.promisify(ncp)(idea, project + '/.idea')\n",
    "        .then(() => execCmd(`\"${webstorm}\" \"${project}\"`, {cwd: project}))\n",
    "}\n",
    "\n",
    "module.exports = delint;\n",
    "\n"
   ]
  }
 ],
 "metadata": {
  "kernelspec": {
   "display_name": "Javascript (Node.js)",
   "language": "javascript",
   "name": "javascript"
  },
  "language_info": {
   "file_extension": ".js",
   "mimetype": "application/javascript",
   "name": "javascript",
   "version": "12.7.0"
  }
 },
 "nbformat": 4,
 "nbformat_minor": 2
}
