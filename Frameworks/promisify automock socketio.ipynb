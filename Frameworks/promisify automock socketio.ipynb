{
 "cells": [
  {
   "cell_type": "markdown",
   "metadata": {},
   "source": [
    "How to mock and pass through?\n",
    "\n"
   ]
  },
  {
   "cell_type": "code",
   "execution_count": 1,
   "metadata": {},
   "outputs": [
    {
     "data": {
      "text/plain": [
       "[Function: promisifyMock]"
      ]
     },
     "execution_count": 1,
     "metadata": {},
     "output_type": "execute_result"
    }
   ],
   "source": [
    "var execSync = require('child_process').execSync;\n",
    "try {\n",
    "    require.resolve('automock');\n",
    "    require.resolve('bluebird');\n",
    "} catch (e) {\n",
    "    execSync('npm install automock bluebird');\n",
    "}\n",
    "\n",
    "var Promise = require('bluebird');\n",
    "var automock = require('automock');\n",
    "var promisifyMock = (req, dep) => {\n",
    "    let ctx;\n",
    "    ctx = automock.mockValue(req, {\n",
    "        stubCreator: (name) => {\n",
    "            var orig = Promise.promisify(req[name.split('.')[1]], {\n",
    "                multiArgs: true,\n",
    "                context: req\n",
    "            });\n",
    "            //console.log('create stub ' + name);\n",
    "            return function () {\n",
    "                console.log(name + ' (' + arguments[0] + ') in ' + JSON.stringify(dep));\n",
    "                return orig.apply(null, arguments);\n",
    "            };\n",
    "        }\n",
    "    });\n",
    "    return ctx;\n",
    "};\n",
    "promisifyMock;\n"
   ]
  },
  {
   "cell_type": "markdown",
   "metadata": {},
   "source": [
    "Create an RPC socker.io server for any module using promisify?\n",
    "\n"
   ]
  },
  {
   "cell_type": "code",
   "execution_count": 2,
   "metadata": {},
   "outputs": [
    {
     "data": {
      "text/plain": [
       "[Function: sockifyServer]"
      ]
     },
     "execution_count": 2,
     "metadata": {},
     "output_type": "execute_result"
    }
   ],
   "source": [
    "var execSync = require('child_process').execSync;\n",
    "try {\n",
    "    require.resolve('automock');\n",
    "    require.resolve('socket.io');\n",
    "} catch (e) {\n",
    "    execSync('npm install automock socket.io');\n",
    "}\n",
    "var automock = require('automock');\n",
    "\n",
    "var deps = {};\n",
    "var sockifyRequire = function (dep) {\n",
    "    if(typeof deps[dep] != 'undefined') {\n",
    "        return deps[dep];\n",
    "    }\n",
    "    console.log('requiring ' + dep);\n",
    "    // TODO: add functionality to replace stubCreator with client side code, e.g. (name) => io.to('LogService').emit('handle', args)\n",
    "    var req = require(dep);\n",
    "    let ctx;\n",
    "    ctx = automock.mockValue(req, {\n",
    "        stubCreator: (name) => {\n",
    "            var orig = req[name.split('.')[1]];\n",
    "            return function () {\n",
    "                console.log(name + ' ( ' + arguments[0] + ' ) ');\n",
    "                return orig.apply(null, arguments);\n",
    "            }\n",
    "        }\n",
    "    });\n",
    "    deps[dep] = ctx;\n",
    "    return ctx;\n",
    "}\n",
    "\n",
    "var sockifyServer = (port) => {\n",
    "    var io = require('socket.io').listen(port);\n",
    "    var socketlist = [];\n",
    "    io.sockets.on('connection', function (socket) {\n",
    "        socketlist.push(socket);\n",
    "        socket.on('handler', (dep, code, fn) => {\n",
    "            // TODO: add a utility function to include specific code as the handler for automock as a replacement for requiring the actual dependency\n",
    "            // TODO: register the handler for the dependency\n",
    "        });\n",
    "        \n",
    "        socket.on('require', function (dep, fn) {\n",
    "            sockifyRequire(dep);\n",
    "            fn('done');\n",
    "        });\n",
    "        \n",
    "        socket.on('call', function (dep, name) {\n",
    "            var args = [];\n",
    "            for(var i = 2; i < arguments.length; i++) {\n",
    "                args[args.length] = arguments[i];\n",
    "            }\n",
    "            deps[dep][name].apply(null, args);\n",
    "        });\n",
    "        \n",
    "        // TODO: organize utility functions\n",
    "        socket.on('close', function () {\n",
    "            socketlist.splice(socketlist.indexOf(socket), 1);\n",
    "            socketlist.forEach(function(socket) {\n",
    "                socket.destroy();\n",
    "            });\n",
    "            io.server.close();\n",
    "        });\n",
    "    });\n",
    "    return io;\n",
    "};\n",
    "sockifyServer;\n",
    "\n",
    "\n",
    "// TODO: output interactive angular component for controlling this server\n",
    "\n"
   ]
  },
  {
   "cell_type": "raw",
   "metadata": {},
   "source": [
    "\n",
    "Mock any module with promisify and socketio?\n"
   ]
  },
  {
   "cell_type": "code",
   "execution_count": 3,
   "metadata": {},
   "outputs": [
    {
     "data": {
      "text/plain": [
       "[Function: sockifyClient]"
      ]
     },
     "execution_count": 3,
     "metadata": {},
     "output_type": "execute_result"
    }
   ],
   "source": [
    "var execSync = require('child_process').execSync;\n",
    "try {\n",
    "    require.resolve('socket.io-client');\n",
    "} catch (e) {\n",
    "    execSync('npm install socket.io-client');\n",
    "}\n",
    "\n",
    "var client = require('socket.io-client');\n",
    "var sockifyClient = (req, dep, host) => {\n",
    "    let ctx;\n",
    "    ctx = automock.mockValue(req, {\n",
    "        stubCreator: (name) => {\n",
    "            return function () {\n",
    "                var args = ['call', dep, name.split('.')[1]];\n",
    "                for(var i = 0; i < arguments.length; i++) {\n",
    "                    args[args.length] = arguments[i];\n",
    "                }\n",
    "                socket.emit.apply(socket, args);\n",
    "            };\n",
    "        }\n",
    "    });\n",
    "    var promises = promisifyMock(ctx, dep);\n",
    "    promises.___close = () => socket.emit('close');\n",
    "    var socket = client.connect(host);\n",
    "    socket.on('connect', function () {\n",
    "        // TODO: socket.emit('handler') service provider\n",
    "        socket.emit('require', dep, function () {\n",
    "            \n",
    "        });\n",
    "        socket.on('resolve', function () {\n",
    "            \n",
    "        });\n",
    "    });\n",
    "    return promises;\n",
    "};\n",
    "sockifyClient;\n",
    "\n"
   ]
  },
  {
   "cell_type": "markdown",
   "metadata": {},
   "source": [
    "Check if sockify server is running?"
   ]
  },
  {
   "cell_type": "code",
   "execution_count": null,
   "metadata": {},
   "outputs": [],
   "source": [
    "var tryReset = false;\n",
    "try {\n",
    "    var io = sockifyServer(8098);\n",
    "} catch (e) {\n",
    "    if(e.code !== 'EADDRINUSE') {\n",
    "        throw e;\n",
    "    } else {\n",
    "        tryReset = true;\n",
    "    }\n",
    "}\n",
    "var fs = sockifyClient(require('fs'), 'fs', 'http://localhost:8098');\n",
    "if(tryReset) {\n",
    "    fs.___close();\n",
    "    var io = sockifyServer(8098);\n",
    "}\n"
   ]
  },
  {
   "cell_type": "code",
   "execution_count": 4,
   "metadata": {},
   "outputs": [
    {
     "name": "stdout",
     "output_type": "stream",
     "text": [
      "(none).unlink (test.file) in \"fs\"\n"
     ]
    },
    {
     "name": "stderr",
     "output_type": "stream",
     "text": [
      "(node:39509) DeprecationWarning: sprintf() will be removed in the next major release, use the sprintf-js package instead.\n"
     ]
    },
    {
     "name": "stdout",
     "output_type": "stream",
     "text": [
      "requiring fs\n",
      "(none).unlink ( test.file ) \n",
      "(none).writeFile (test.file) in \"fs\"\n",
      "(none).writeFile ( test.file ) \n",
      "(none).readFile (test.file) in \"fs\"\n",
      "(none).readFile ( test.file ) \n"
     ]
    },
    {
     "data": {
      "text/plain": [
       "'some output'"
      ]
     },
     "execution_count": 4,
     "metadata": {},
     "output_type": "execute_result"
    }
   ],
   "source": [
    "\n",
    "$$.async();\n",
    "fs.unlink('test.file')\n",
    "    .catch(e => console.log(e))\n",
    "    .then(() => fs.writeFile('test.file', 'some output'))\n",
    "    .then(() => fs.readFile('test.file'))\n",
    "    .then(r => r.toString())\n",
    "    .then(r => $$.sendResult(r))\n",
    "    .then(() => fs.___close())\n",
    "    .catch(e => $$.sendError(e));\n",
    "\n"
   ]
  },
  {
   "cell_type": "code",
   "execution_count": null,
   "metadata": {},
   "outputs": [],
   "source": []
  }
 ],
 "metadata": {
  "kernelspec": {
   "display_name": "Javascript (Node.js)",
   "language": "javascript",
   "name": "javascript"
  },
  "language_info": {
   "file_extension": ".js",
   "mimetype": "application/javascript",
   "name": "javascript",
   "version": "7.7.2"
  }
 },
 "nbformat": 4,
 "nbformat_minor": 2
}
