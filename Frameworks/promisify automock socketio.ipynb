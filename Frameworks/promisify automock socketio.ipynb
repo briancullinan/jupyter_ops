{
 "cells": [
  {
   "cell_type": "markdown",
   "metadata": {},
   "source": [
    "How to install promisify autorewire socketio notebook?"
   ]
  },
  {
   "cell_type": "code",
   "execution_count": null,
   "metadata": {},
   "outputs": [],
   "source": [
    "var execSync = require('child_process').execSync;\r",
    "try {\r",
    "    require.resolve('bluebird');\r",
    "    require.resolve('socket.io');\r",
    "    require.resolve('socket.io-client');\r",
    "} catch (e) {\r",
    "    execSync('npm install bluebird automock socket.io socket.io-client');\r",
    "}\r",
    "\r",
    "$$.async();\r",
    "var importer = require('../Core');\r",
    "var automock;\r",
    "importer.import('mock all properties and functions using rewire')\r",
    "    .then(r => {\r",
    "        automock = r;\r",
    "        $$.sendResult('automock loaded');\r",
    "    });\r",
    "\r",
    ""
   ]
  },
  {
   "cell_type": "markdown",
   "metadata": {},
   "source": [
    "How to mock and pass through?\n",
    "\n"
   ]
  },
  {
   "cell_type": "code",
   "execution_count": 1,
   "metadata": {},
   "outputs": [
    {
     "data": {
      "text/plain": [
       "[Function: promisifyMock]"
      ]
     },
     "execution_count": 1,
     "metadata": {},
     "output_type": "execute_result"
    }
   ],
   "source": [
    "var Promise = require('bluebird');\r",
    "\r",
    "var promisifyMock = (req, dep) => {\r",
    "    let ctx;\r",
    "    ctx = automock.mockValue(req, {\r",
    "        stubCreator: (name) => {\r",
    "            var orig = Promise.promisify(req[name.split('.')[1]], {\r",
    "                multiArgs: true,\r",
    "                context: req\r",
    "            });\r",
    "            //console.log('create stub ' + name);\r",
    "            return function () {\r",
    "                console.log(name + ' (' + arguments[0] + ') in ' + JSON.stringify(dep));\r",
    "                return orig.apply(null, arguments);\r",
    "            };\r",
    "        }\r",
    "    });\r",
    "    return ctx;\r",
    "};\r",
    "promisifyMock;\r",
    ""
   ]
  },
  {
   "cell_type": "markdown",
   "metadata": {},
   "source": [
    "Create an RPC socker.io server for any module using promisify?\n",
    "\n"
   ]
  },
  {
   "cell_type": "code",
   "execution_count": 2,
   "metadata": {},
   "outputs": [
    {
     "data": {
      "text/plain": [
       "[Function: sockifyServer]"
      ]
     },
     "execution_count": 2,
     "metadata": {},
     "output_type": "execute_result"
    }
   ],
   "source": [
    "var Observable = require('rxjs/Observable').Observable;\r",
    "var server = require('socket.io');\r",
    "\r",
    "var deps = {}, io = {};\r",
    "var sockifyRequire = function (req, dep) {\r",
    "    if (typeof deps[dep] !== 'undefined') {\r",
    "        return deps[dep];\r",
    "    }\r",
    "    console.log('Requiring ' + dep);\r",
    "    deps[dep] = automock.mockValue(req, {\r",
    "        stubCreator: function (name) {\r",
    "            // don't call original\r",
    "            if (name.split('.').length === 1) {\r",
    "                return req;\r",
    "            }\r",
    "            // var orig = req[name.split('.')[1]];\r",
    "            return function () {\r",
    "                var args = ['resolve', name];\r",
    "                for (var i = 0; i < arguments.length; i++) {\r",
    "                    args[args.length] = arguments[i];\r",
    "                }\r",
    "                return new Observable(function () {\r",
    "                    var handlers = (typeof io.sockets.adapter.rooms[dep] !== 'undefined'\r",
    "                        ? Object.keys(io.sockets.adapter.rooms[dep].sockets)\r",
    "                        : [])\r",
    "                        .map(function (k) {\r",
    "                            return io.sockets.connected[k];\r",
    "                        });\r",
    "                    if (handlers.length == 0) {\r",
    "                        throw new Error('No handlers for ' + name);\r",
    "                    }\r",
    "                    handlers.forEach(function (h) {\r",
    "                        h.emit.apply(h, args);\r",
    "                    });\r",
    "                });\r",
    "            };\r",
    "        },\r",
    "        name: dep\r",
    "    });\r",
    "    console.log(deps);\r",
    "    return deps[dep];\r",
    "};\r",
    "\r",
    "var sockifyServer = function (port) {\r",
    "    io = server.listen(port);\r",
    "    var socketlist = [];\r",
    "    io.sockets.on('connection', function (socket) {\r",
    "        console.log('Client connection');\r",
    "        socketlist.push(socket);\r",
    "\r",
    "        socket.on('result', function (name) {\r",
    "            var args = ['result', name];\r",
    "            for (var i = 1; i < arguments.length; i++) {\r",
    "                args[args.length] = arguments[i];\r",
    "            }\r",
    "            var handlers = (typeof io.sockets.adapter.rooms[name] !== 'undefined'\r",
    "                ? Object.keys(io.sockets.adapter.rooms[name].sockets)\r",
    "                : [])\r",
    "                .map(function (k) {\r",
    "                    return io.sockets.connected[k];\r",
    "                });\r",
    "            handlers.forEach(function (h) {\r",
    "                h.emit.apply(h, args);\r",
    "            });\r",
    "        });\r",
    "\r",
    "        socket.on('call', function (name) {\r",
    "            var args = [];\r",
    "            for (var i = 1; i < arguments.length; i++) {\r",
    "                args[args.length] = arguments[i];\r",
    "            }\r",
    "            var props = name.split('.');\r",
    "            var dep = props[0];\r",
    "            // join the result room\r",
    "            if (!io.sockets.adapter.sids[socket.id][name]) {\r",
    "                socket.join(name);\r",
    "            }\r",
    "            var func = deps[dep];\r",
    "            for (var j = 1; j < props.length; j++) {\r",
    "                func = func[props[j]];\r",
    "            }\r",
    "            var tmpsub;\r",
    "            tmpsub = func.apply(deps[dep], args).subscribe(function () {\r",
    "                tmpsub.unsubscribe();\r",
    "            });\r",
    "        });\r",
    "\r",
    "        socket.on('handle', function (dep, cb) {\r",
    "            console.log('Handler for ' + dep);\r",
    "            if (!io.sockets.adapter.sids[socket.id][dep]) {\r",
    "                socket.join(dep);\r",
    "            }\r",
    "            cb();\r",
    "        });\r",
    "\r",
    "        socket.on('close', function () {\r",
    "            socketlist.splice(socketlist.indexOf(socket), 1);\r",
    "            socketlist.forEach(function (socket) {\r",
    "                socket.destroy();\r",
    "            });\r",
    "            io.server.close();\r",
    "        });\r",
    "    });\r",
    "    return io;\r",
    "};\r",
    "sockifyServer;\r",
    "\r",
    "module.exports = {\r",
    "    sockifyRequire: sockifyRequire,\r",
    "    sockifyServer: sockifyServer\r",
    "};\r",
    "// TODO: output interactive angular component for controlling this server\r",
    "\r",
    ""
   ]
  },
  {
   "cell_type": "markdown",
   "metadata": {},
   "source": [
    "\n",
    "Mock any module with promisify and socket.io-client?\n"
   ]
  },
  {
   "cell_type": "code",
   "execution_count": 3,
   "metadata": {},
   "outputs": [
    {
     "data": {
      "text/plain": [
       "[Function: sockifyClient]"
      ]
     },
     "execution_count": 3,
     "metadata": {},
     "output_type": "execute_result"
    }
   ],
   "source": [
    "var client = require('socket.io-client');\r",
    "\r",
    "var sockifyClient = (req, dep, host) => {\r",
    "    let ctx;\r",
    "    ctx = automock.mockValue(req, {\r",
    "        stubCreator: (name) => {\r",
    "            return function () {\r",
    "                var args = ['call', dep, name.split('.')[1]];\r",
    "                for (var i = 0; i < arguments.length; i++) {\r",
    "                    args[args.length] = arguments[i];\r",
    "                }\r",
    "                socket.emit.apply(socket, args);\r",
    "            };\r",
    "        },\r",
    "        name: dep\r",
    "    });\r",
    "    var promises = promisifyMock(ctx, dep);\r",
    "    promises.___close = () => socket.emit('close');\r",
    "    var socket = client.connect(host);\r",
    "    socket.on('connect', function () {\r",
    "        // TODO: socket.emit('handler') service provider\r",
    "        socket.emit('require', dep, function () {\r",
    "\r",
    "        });\r",
    "        socket.on('resolve', function () {\r",
    "\r",
    "        });\r",
    "    });\r",
    "    return promises;\r",
    "};\r",
    "sockifyClient;\r",
    "\r",
    ""
   ]
  },
  {
   "cell_type": "markdown",
   "metadata": {},
   "source": [
    "Check if sockify server is running?"
   ]
  },
  {
   "cell_type": "code",
   "execution_count": null,
   "metadata": {},
   "outputs": [],
   "source": [
    "var tryReset = false;\r",
    "try {\r",
    "    var io = sockifyServer(8098);\r",
    "} catch (e) {\r",
    "    if (e.code !== 'EADDRINUSE') {\r",
    "        throw e;\r",
    "    } else {\r",
    "        tryReset = true;\r",
    "    }\r",
    "}\r",
    "var fs = sockifyClient(require('fs'), 'fs', 'http://localhost:8098');\r",
    "if (tryReset) {\r",
    "    fs.___close();\r",
    "    var io = sockifyServer(8098);\r",
    "}\r",
    ""
   ]
  },
  {
   "cell_type": "code",
   "execution_count": 4,
   "metadata": {},
   "outputs": [
    {
     "name": "stdout",
     "output_type": "stream",
     "text": [
      "(none).unlink (test.file) in \"fs\"\n"
     ]
    },
    {
     "name": "stderr",
     "output_type": "stream",
     "text": [
      "(node:39509) DeprecationWarning: sprintf() will be removed in the next major release, use the sprintf-js package instead.\n"
     ]
    },
    {
     "name": "stdout",
     "output_type": "stream",
     "text": [
      "requiring fs\n",
      "(none).unlink ( test.file ) \n",
      "(none).writeFile (test.file) in \"fs\"\n",
      "(none).writeFile ( test.file ) \n",
      "(none).readFile (test.file) in \"fs\"\n",
      "(none).readFile ( test.file ) \n"
     ]
    },
    {
     "data": {
      "text/plain": [
       "'some output'"
      ]
     },
     "execution_count": 4,
     "metadata": {},
     "output_type": "execute_result"
    }
   ],
   "source": [
    "$$.async();\r",
    "fs.unlink('test.file')\r",
    "    .catch(e => console.log(e))\r",
    "    .then(() => fs.writeFile('test.file', 'some output'))\r",
    "    .then(() => fs.readFile('test.file'))\r",
    "    .then(r => r.toString())\r",
    "    .then(r => $$.sendResult(r))\r",
    "    .then(() => fs.___close())\r",
    "    .catch(e => $$.sendError(e));\r",
    "\r",
    ""
   ]
  },
  {
   "cell_type": "code",
   "execution_count": null,
   "metadata": {},
   "outputs": [],
   "source": [
    ""
   ]
  }
 ],
 "metadata": {
  "kernelspec": {
   "display_name": "Javascript (Node.js)",
   "language": "javascript",
   "name": "javascript"
  },
  "language_info": {
   "file_extension": ".js",
   "mimetype": "application/javascript",
   "name": "javascript",
   "version": "8.6.0"
  }
 },
 "nbformat": 4,
 "nbformat_minor": 2
}