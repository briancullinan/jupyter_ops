{
 "cells": [
  {
   "cell_type": "markdown",
   "metadata": {},
   "source": [
    "How to install promisify autorewire socketio notebook?"
   ]
  },
  {
   "cell_type": "code",
   "execution_count": null,
   "metadata": {},
   "outputs": [],
   "source": [
    "var execSync = require('child_process').execSync;\n",
    "try {\n",
    "    require.resolve('bluebird');\n",
    "    require.resolve('socket.io');\n",
    "    require.resolve('socket.io-client');\n",
    "} catch (e) {\n",
    "    execSync('npm install bluebird automock socket.io socket.io-client');\n",
    "}\n",
    "\n",
    "$$.async();\n",
    "var importer = require('../Core');\n",
    "var automock;\n",
    "importer.interpretAll(['mock all properties and functions using rewire'])\n",
    "    .then(r => {\n",
    "        automock = eval(r[0].code);\n",
    "        $$.sendResult('automock loaded');\n",
    "    });\n",
    "\n"
   ]
  },
  {
   "cell_type": "markdown",
   "metadata": {},
   "source": [
    "How to mock and pass through?\n",
    "\n"
   ]
  },
  {
   "cell_type": "code",
   "execution_count": 1,
   "metadata": {},
   "outputs": [
    {
     "data": {
      "text/plain": [
       "[Function: promisifyMock]"
      ]
     },
     "execution_count": 1,
     "metadata": {},
     "output_type": "execute_result"
    }
   ],
   "source": [
    "var Promise = require('bluebird');\n",
    "\n",
    "var promisifyMock = (req, dep) => {\n",
    "    let ctx;\n",
    "    ctx = automock.mockValue(req, {\n",
    "        stubCreator: (name) => {\n",
    "            var orig = Promise.promisify(req[name.split('.')[1]], {\n",
    "                multiArgs: true,\n",
    "                context: req\n",
    "            });\n",
    "            //console.log('create stub ' + name);\n",
    "            return function () {\n",
    "                console.log(name + ' (' + arguments[0] + ') in ' + JSON.stringify(dep));\n",
    "                return orig.apply(null, arguments);\n",
    "            };\n",
    "        }\n",
    "    });\n",
    "    return ctx;\n",
    "};\n",
    "promisifyMock;\n"
   ]
  },
  {
   "cell_type": "markdown",
   "metadata": {},
   "source": [
    "Create an RPC socker.io server for any module using promisify?\n",
    "\n"
   ]
  },
  {
   "cell_type": "code",
   "execution_count": 2,
   "metadata": {},
   "outputs": [
    {
     "data": {
      "text/plain": [
       "[Function: sockifyServer]"
      ]
     },
     "execution_count": 2,
     "metadata": {},
     "output_type": "execute_result"
    }
   ],
   "source": [
    "var Observable = require('rxjs/Observable').Observable;\n",
    "var server = require('socket.io');\n",
    "\n",
    "var deps = {}, io = {};\n",
    "var sockifyRequire = function (req, dep) {\n",
    "    if (typeof deps[dep] !== 'undefined') {\n",
    "        return deps[dep];\n",
    "    }\n",
    "    console.log('Requiring ' + dep);\n",
    "    deps[dep] = automock.mockValue(req, {\n",
    "        stubCreator: function (name) {\n",
    "            // don't call original\n",
    "            if (name.split('.').length === 1) {\n",
    "                return req;\n",
    "            }\n",
    "            // var orig = req[name.split('.')[1]];\n",
    "            return function () {\n",
    "                var args = ['resolve', name];\n",
    "                for (var i = 0; i < arguments.length; i++) {\n",
    "                    args[args.length] = arguments[i];\n",
    "                }\n",
    "                return new Observable(function () {\n",
    "                    var handlers = (typeof io.sockets.adapter.rooms[dep] !== 'undefined'\n",
    "                        ? Object.keys(io.sockets.adapter.rooms[dep].sockets)\n",
    "                        : [])\n",
    "                        .map(function (k) {\n",
    "                            return io.sockets.connected[k];\n",
    "                        });\n",
    "                    if(handlers.length == 0) {\n",
    "                        throw new Error('No handlers for ' + name);\n",
    "                    }\n",
    "                    handlers.forEach(function (h) {\n",
    "                        h.emit.apply(h, args);\n",
    "                    });\n",
    "                });\n",
    "            };\n",
    "        },\n",
    "        name: dep\n",
    "    });\n",
    "    console.log(deps);\n",
    "    return deps[dep];\n",
    "};\n",
    "\n",
    "var sockifyServer = function (port) {\n",
    "    io = server.listen(port);\n",
    "    var socketlist = [];\n",
    "    io.sockets.on('connection', function (socket) {\n",
    "        console.log('Client connection');\n",
    "        socketlist.push(socket);\n",
    "\n",
    "        socket.on('result', function (name) {\n",
    "            console.log('Resulted in ' + name + ' ( ' + JSON.stringify(arguments[1]).substr(0, 200) + ' ) ');\n",
    "            var args = ['result', name];\n",
    "            for (var i = 1; i < arguments.length; i++) {\n",
    "                args[args.length] = arguments[i];\n",
    "            }\n",
    "            var handlers = (typeof io.sockets.adapter.rooms[name] !== 'undefined'\n",
    "                ? Object.keys(io.sockets.adapter.rooms[name].sockets)\n",
    "                : [])\n",
    "                .map(function (k) {\n",
    "                    return io.sockets.connected[k];\n",
    "                });\n",
    "            handlers.forEach(function (h) {\n",
    "                h.emit.apply(h, args);\n",
    "            });\n",
    "        });\n",
    "\n",
    "        socket.on('call', function (name) {\n",
    "            var args = [];\n",
    "            for (var i = 1; i < arguments.length; i++) {\n",
    "                args[args.length] = arguments[i];\n",
    "            }\n",
    "            var props = name.split('.');\n",
    "            var dep = props[0];\n",
    "            // join the result room\n",
    "            if (!io.sockets.adapter.sids[socket.id][name]) {\n",
    "                socket.join(name);\n",
    "            }\n",
    "            console.log(props);\n",
    "            console.log(dep);\n",
    "            console.log(deps);\n",
    "            var func = deps[dep];\n",
    "            for (var j = 1; j < props.length; j++) {\n",
    "                func = func[props[j]];\n",
    "            }\n",
    "            console.log(name + ' ( ' + JSON.stringify(args[0]).substr(0, 200) + ' ) in ' + dep);\n",
    "            var tmpsub;\n",
    "            tmpsub = func.apply(deps[dep], args).subscribe(function () {\n",
    "                tmpsub.unsubscribe();\n",
    "            });\n",
    "        });\n",
    "\n",
    "        socket.on('handle', function (dep, cb) {\n",
    "            console.log('Handler for ' + dep);\n",
    "            if (!io.sockets.adapter.sids[socket.id][dep]) {\n",
    "                socket.join(dep);\n",
    "            }\n",
    "            cb();\n",
    "        });\n",
    "\n",
    "        socket.on('close', function () {\n",
    "            socketlist.splice(socketlist.indexOf(socket), 1);\n",
    "            socketlist.forEach(function (socket) {\n",
    "                socket.destroy();\n",
    "            });\n",
    "            io.server.close();\n",
    "        });\n",
    "    });\n",
    "    return io;\n",
    "};\n",
    "sockifyServer;\n",
    "\n",
    "module.exports = {\n",
    "    sockifyRequire: sockifyRequire,\n",
    "    sockifyServer: sockifyServer\n",
    "};\n",
    "// TODO: output interactive angular component for controlling this server\n",
    "\n"
   ]
  },
  {
   "cell_type": "raw",
   "metadata": {},
   "source": [
    "\n",
    "Mock any module with promisify and socket.io-client?\n"
   ]
  },
  {
   "cell_type": "code",
   "execution_count": 3,
   "metadata": {},
   "outputs": [
    {
     "data": {
      "text/plain": [
       "[Function: sockifyClient]"
      ]
     },
     "execution_count": 3,
     "metadata": {},
     "output_type": "execute_result"
    }
   ],
   "source": [
    "var client = require('socket.io-client');\n",
    "\n",
    "var sockifyClient = (req, dep, host) => {\n",
    "    let ctx;\n",
    "    ctx = automock.mockValue(req, {\n",
    "        stubCreator: (name) => {\n",
    "            return function () {\n",
    "                var args = ['call', dep, name.split('.')[1]];\n",
    "                for(var i = 0; i < arguments.length; i++) {\n",
    "                    args[args.length] = arguments[i];\n",
    "                }\n",
    "                socket.emit.apply(socket, args);\n",
    "            };\n",
    "        },\n",
    "        name: dep\n",
    "    });\n",
    "    var promises = promisifyMock(ctx, dep);\n",
    "    promises.___close = () => socket.emit('close');\n",
    "    var socket = client.connect(host);\n",
    "    socket.on('connect', function () {\n",
    "        // TODO: socket.emit('handler') service provider\n",
    "        socket.emit('require', dep, function () {\n",
    "            \n",
    "        });\n",
    "        socket.on('resolve', function () {\n",
    "            \n",
    "        });\n",
    "    });\n",
    "    return promises;\n",
    "};\n",
    "sockifyClient;\n",
    "\n"
   ]
  },
  {
   "cell_type": "markdown",
   "metadata": {},
   "source": [
    "Check if sockify server is running?"
   ]
  },
  {
   "cell_type": "code",
   "execution_count": null,
   "metadata": {},
   "outputs": [],
   "source": [
    "var tryReset = false;\n",
    "try {\n",
    "    var io = sockifyServer(8098);\n",
    "} catch (e) {\n",
    "    if(e.code !== 'EADDRINUSE') {\n",
    "        throw e;\n",
    "    } else {\n",
    "        tryReset = true;\n",
    "    }\n",
    "}\n",
    "var fs = sockifyClient(require('fs'), 'fs', 'http://localhost:8098');\n",
    "if(tryReset) {\n",
    "    fs.___close();\n",
    "    var io = sockifyServer(8098);\n",
    "}\n"
   ]
  },
  {
   "cell_type": "code",
   "execution_count": 4,
   "metadata": {},
   "outputs": [
    {
     "name": "stdout",
     "output_type": "stream",
     "text": [
      "(none).unlink (test.file) in \"fs\"\n"
     ]
    },
    {
     "name": "stderr",
     "output_type": "stream",
     "text": [
      "(node:39509) DeprecationWarning: sprintf() will be removed in the next major release, use the sprintf-js package instead.\n"
     ]
    },
    {
     "name": "stdout",
     "output_type": "stream",
     "text": [
      "requiring fs\n",
      "(none).unlink ( test.file ) \n",
      "(none).writeFile (test.file) in \"fs\"\n",
      "(none).writeFile ( test.file ) \n",
      "(none).readFile (test.file) in \"fs\"\n",
      "(none).readFile ( test.file ) \n"
     ]
    },
    {
     "data": {
      "text/plain": [
       "'some output'"
      ]
     },
     "execution_count": 4,
     "metadata": {},
     "output_type": "execute_result"
    }
   ],
   "source": [
    "\n",
    "$$.async();\n",
    "fs.unlink('test.file')\n",
    "    .catch(e => console.log(e))\n",
    "    .then(() => fs.writeFile('test.file', 'some output'))\n",
    "    .then(() => fs.readFile('test.file'))\n",
    "    .then(r => r.toString())\n",
    "    .then(r => $$.sendResult(r))\n",
    "    .then(() => fs.___close())\n",
    "    .catch(e => $$.sendError(e));\n",
    "\n"
   ]
  },
  {
   "cell_type": "code",
   "execution_count": null,
   "metadata": {},
   "outputs": [],
   "source": []
  }
 ],
 "metadata": {
  "kernelspec": {
   "display_name": "Javascript (Node.js)",
   "language": "javascript",
   "name": "javascript"
  },
  "language_info": {
   "file_extension": ".js",
   "mimetype": "application/javascript",
   "name": "javascript",
   "version": "7.7.2"
  }
 },
 "nbformat": 4,
 "nbformat_minor": 2
}
