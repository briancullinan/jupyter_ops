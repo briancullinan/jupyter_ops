{
  "cells": [
    {
      "cell_type": "markdown",
      "source": [
        "How to install a kernel from just the spec?"
      ],
      "metadata": {}
    },
    {
      "cell_type": "code",
      "source": [
        "import json\n",
        "import os\n",
        "import sys\n",
        "import getopt\n",
        "\n",
        "from jupyter_client.kernelspec import KernelSpecManager\n",
        "from IPython.utils.tempdir import TemporaryDirectory\n",
        "#from distutils.spawn import find_executable\n",
        "#executable = find_executable(\"configure\", path=SOURCE)\n",
        "\n",
        "kernel_json = {\"argv\":[\"mono\", \"/usr/local/bin/myjupytertest/icsharp/Kernel/bin/Release/iCSharp.Kernel.exe\", \"{connection_file}\"],\n",
        " \"display_name\":\"C#\",\n",
        " \"language\":\"csharp\",\n",
        " \"codemirror_mode\":\"shell\",\n",
        " \"env\":{\"PS1\": \"$\"}\n",
        "}\n",
        "\n",
        "def install_my_kernel_spec(user=True, prefix=None):\n",
        "    with TemporaryDirectory() as td:\n",
        "        os.chmod(td, 0o755) # Starts off as 700, not user readable\n",
        "        with open(os.path.join(td, 'kernel.json'), 'w') as f:\n",
        "            json.dump(kernel_json, f, sort_keys=True)\n",
        "        # TODO: Copy resources once they're specified\n",
        "\n",
        "        print('Installing IPython kernel spec')\n",
        "        KernelSpecManager().install_kernel_spec(td, 'icsharp', user=user, replace=True, prefix=prefix)\n",
        "\n",
        "def _is_root():\n",
        "    try:\n",
        "        return os.geteuid() == 0\n",
        "    except AttributeError:\n",
        "        return False # assume not an admin on non-Unix platforms\n",
        "\n",
        "def main(argv=[]):\n",
        "    prefix = None\n",
        "    user = not _is_root()\n",
        "\n",
        "    opts, _ = getopt.getopt(argv[1:], '', ['user', 'prefix='])\n",
        "    for k, v in opts:\n",
        "        if k == '--user':\n",
        "            user = True\n",
        "        elif k == '--prefix':\n",
        "            prefix = v\n",
        "            user = False\n",
        "\n",
        "    install_my_kernel_spec(user=user, prefix=prefix)\n",
        "\n",
        "if __name__ == '__main__':\n",
        "    main(argv=sys.argv)\n",
        "    "
      ],
      "outputs": [],
      "execution_count": null,
      "metadata": {
        "collapsed": false,
        "outputHidden": false,
        "inputHidden": false
      }
    }
  ],
  "metadata": {
    "kernelspec": {
      "name": "python3",
      "language": "python",
      "display_name": "Python 3"
    },
    "kernel_info": {
      "name": "python3"
    },
    "language_info": {
      "name": "python",
      "version": "3.6.1",
      "mimetype": "text/x-python",
      "codemirror_mode": {
        "name": "ipython",
        "version": 3
      },
      "pygments_lexer": "ipython3",
      "nbconvert_exporter": "python",
      "file_extension": ".py"
    }
  },
  "nbformat": 4,
  "nbformat_minor": 4
}