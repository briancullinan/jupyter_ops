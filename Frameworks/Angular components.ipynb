{
 "cells": [
  {
   "cell_type": "markdown",
   "metadata": {},
   "source": [
    "Display search notebook component?\n",
    "\n"
   ]
  },
  {
   "cell_type": "code",
   "execution_count": null,
   "metadata": {},
   "outputs": [],
   "source": [
    "import { Component, ModuleWithProviders, NgModule } from '@angular/core';\n",
    "import { COMMON_MODULES } from '../../../imports/core.module';\n",
    "import { RouterModule, Routes } from '@angular/router';\n",
    "import { SearchService } from '../../../imports/search.service';\n",
    "\n",
    "@Component({\n",
    "    selector: 'bc-search',\n",
    "    template: `\n",
    "        <form>\n",
    "            <md-input-container>\n",
    "                <input mdInput name=\"search\" required type=\"text\"\n",
    "                       placeholder=\"Search\"\n",
    "                       maxlength=\"100\" [(ngModel)]=\"query\" (change)=\"search()\">\n",
    "            </md-input-container>\n",
    "        </form>\n",
    "    `,\n",
    "    styles: [ `\n",
    "        md-input-container {\n",
    "            width: 100%;\n",
    "        }\n",
    "    ` ]\n",
    "})\n",
    "export class SearchComponent {\n",
    "    query = '';\n",
    "\n",
    "    constructor(public service: SearchService) {\n",
    "    }\n",
    "\n",
    "    search(): void {\n",
    "        this.service.search(this.query).subscribe(r => {\n",
    "            console.log('searched ' + r);\n",
    "        });\n",
    "    }\n",
    "}\n",
    "\n",
    "export const COMPONENTS = [\n",
    "    SearchComponent\n",
    "];\n",
    "\n",
    "export const authRoutes: Routes = [\n",
    "    {\n",
    "        path: '',\n",
    "        component: SearchComponent,\n",
    "        data: {roles: [ 'anonymous', 'user' ]}\n",
    "    }\n",
    "];\n",
    "export const routing: ModuleWithProviders = RouterModule.forChild(authRoutes);\n",
    "\n",
    "@NgModule({\n",
    "    imports: [\n",
    "        ...COMMON_MODULES,\n",
    "        routing\n",
    "    ],\n",
    "    declarations: COMPONENTS,\n",
    "    exports: COMPONENTS\n",
    "})\n",
    "export class SearchModule {\n",
    "}\n",
    "\n"
   ]
  },
  {
   "cell_type": "markdown",
   "metadata": {},
   "source": [
    "Search notebook service?\n",
    "\n"
   ]
  },
  {
   "cell_type": "code",
   "execution_count": null,
   "metadata": {},
   "outputs": [],
   "source": [
    "import { Observable } from 'rxjs/Observable';\n",
    "import { Http } from '@angular/http';\n",
    "import { Injectable } from '@angular/core';\n",
    "import { Response } from '@angular/http';\n",
    "\n",
    "export let callbackUrl = 'localhost';\n",
    "\n",
    "@Injectable()\n",
    "export class SearchService {\n",
    "    constructor(public http: Http) {\n",
    "    }\n",
    "\n",
    "    search(query: string): Observable<Response> {\n",
    "        console.log('Searching ' + query);\n",
    "        return this.http.post(callbackUrl, {query});\n",
    "    }\n",
    "}\n"
   ]
  },
  {
   "cell_type": "markdown",
   "metadata": {},
   "source": [
    "Display code results?"
   ]
  },
  {
   "cell_type": "code",
   "execution_count": null,
   "metadata": {},
   "outputs": [],
   "source": [
    "import { SearchService } from '../../../imports/search.service';\n",
    "import { ChangeDetectorRef, Component, OnDestroy, OnInit } from '@angular/core';\n",
    "import { Subscription } from 'rxjs/Subscription';\n",
    "import * as Prism from 'prismjs';\n",
    "\n",
    "@Component({\n",
    "    selector: 'bc-results',\n",
    "    template: `\n",
    "        <pre [class]=\"'language-'+(r.lang||'javascript')\" *ngFor=\"let r of results\" [innerHTML]=\"highlight(r.code)\">\n",
    "        </pre>\n",
    "    `,\n",
    "    styleUrls: [ './results.component.scss' ]\n",
    "})\n",
    "export class ResultsComponent implements OnInit, OnDestroy {\n",
    "    query = '';\n",
    "    results: Array<any> = [];\n",
    "    private resultsSub: Subscription;\n",
    "\n",
    "    constructor(public service: SearchService,\n",
    "                public ref: ChangeDetectorRef) {\n",
    "    }\n",
    "\n",
    "    ngOnInit(): void {\n",
    "        this.resultsSub = this.service.results(this.query).subscribe(r => {\n",
    "            this.results = [ (r as Array<any>)[ 0 ] ];\n",
    "            this.ref.detectChanges();\n",
    "        });\n",
    "    }\n",
    "\n",
    "    ngOnDestroy(): void {\n",
    "        this.resultsSub.unsubscribe();\n",
    "    }\n",
    "\n",
    "    highlight(code: string): string {\n",
    "        return Prism.highlight(code, Prism.languages.javascript);\n",
    "    }\n",
    "}\n",
    "\n"
   ]
  },
  {
   "cell_type": "markdown",
   "metadata": {},
   "source": [
    "Sockify search notebook provider?"
   ]
  },
  {
   "cell_type": "code",
   "execution_count": 1,
   "metadata": {},
   "outputs": [
    {
     "data": {
      "text/plain": [
       "[Function: searchHandler]"
      ]
     },
     "execution_count": 1,
     "metadata": {},
     "output_type": "execute_result"
    }
   ],
   "source": [
    "var io = require('socket.io-client');\n",
    "var importer = require('../Core');\n",
    "var path = require('path');\n",
    "var interpretAllPath = path.join(__dirname, './interpret all notebooks.ipynb');\n",
    "\n",
    "var interpret, interpretObject;\n",
    "var interpretAll = (queries, root = '') => {\n",
    "    return importer.importNotebook(interpretAllPath)\n",
    "    .then((f) => {\n",
    "        interpret = f['interpret'];\n",
    "        interpretObject = f['interpretObject'];\n",
    "    })\n",
    "    // use Promise.all to do all of your code searches up front\n",
    "    .then(r => typeof queries == 'string' \n",
    "          ? interpret(queries) \n",
    "          : Promise.all(queries.map(interpret)))\n",
    "    .then(r => interpretObject(r))\n",
    "};\n",
    "\n",
    "var searchHandler = () => {\n",
    "    var client = io('https://localhost:8000', {\n",
    "        secure: true,\n",
    "        rejectUnauthorized: false \n",
    "    });\n",
    "    return new Promise(resolve => {\n",
    "        console.log('Search handler');\n",
    "        client.on('resolve', (name, search) => {\n",
    "            console.log('searching...');\n",
    "            var interpretObject;\n",
    "            if(name == 'SearchService.prototype.search') {\n",
    "                client.emit('result', 'SearchService.prototype.search',\n",
    "                            'Searching notebooks for ' + search);\n",
    "                // TODO: include gulp notebook search, .bash_sessions,\n",
    "                //    selenium scripts, stack overflow, github, \n",
    "                interpretAll(search)\n",
    "                    .then(r => {\n",
    "                        client.emit('result', 'SearchService.prototype.results', r);\n",
    "                    });\n",
    "            }\n",
    "        });\n",
    "        client.emit('handle', 'SearchService', () => resolve());\n",
    "        client.on('error', e => console.log(e))\n",
    "    })\n",
    "};\n",
    "module.exports = searchHandler;\n",
    "searchHandler;\n",
    "\n"
   ]
  },
  {
   "cell_type": "code",
   "execution_count": null,
   "metadata": {},
   "outputs": [
    {
     "name": "stdout",
     "output_type": "stream",
     "text": [
      "Search handler\n"
     ]
    }
   ],
   "source": [
    "$$.async();\n",
    "searchHandler()\n",
    ".then(r => $$.sendResult(r))\n",
    ".catch(e => $$.sendError(e))"
   ]
  },
  {
   "cell_type": "code",
   "execution_count": null,
   "metadata": {},
   "outputs": [],
   "source": [
    "var PROFILE_PATH = process.env.HOME || process.env.HOMEPATH || process.env.USERPROFILE;\n",
    "var project = PROFILE_PATH + '/universal';\n",
    "var server = require(project + '/src/server/sockify-server.js').sockifyServer(8000);\n",
    "var client = require('socket.io-client').connect('https://localhost:8000');\n",
    "client.emit('close');\n"
   ]
  },
  {
   "cell_type": "markdown",
   "metadata": {},
   "source": [
    "Display login form?\n",
    "\n"
   ]
  },
  {
   "cell_type": "code",
   "execution_count": null,
   "metadata": {},
   "outputs": [],
   "source": [
    "import { RouterModule, Routes } from '@angular/router';\n",
    "import { Component, ModuleWithProviders, NgModule } from '@angular/core';\n",
    "import { COMMON_MODULES } from '../../../imports/core.module';\n",
    "import { AuthService } from '../../../imports/auth.service';\n",
    "\n",
    "@Component({\n",
    "    selector: 'bc-login',\n",
    "    template: `\n",
    "        <form>\n",
    "            <md-input-container>\n",
    "                <input mdInput name=\"signupEmail\" required type=\"email\"\n",
    "                       placeholder=\"Username\"\n",
    "                       maxlength=\"100\" [(ngModel)]=\"username\">\n",
    "            </md-input-container>\n",
    "            <br/>\n",
    "            <md-input-container>\n",
    "                <input mdInput name=\"signupPassword\" required type=\"password\" maxlength=\"25\"\n",
    "                       placeholder=\"Password\"\n",
    "                       length=\"40\" [(ngModel)]=\"password\">\n",
    "            </md-input-container>\n",
    "            <button md-raised-button color=\"primary\"\n",
    "                    id=\"signupSubmit\" type=\"submit\" (click)=\"onLogin()\">\n",
    "                Login\n",
    "            </button>\n",
    "        </form>\n",
    "    `,\n",
    "    styleUrls: [ './login.component.scss' ]\n",
    "})\n",
    "export class LoginComponent {\n",
    "    username: string;\n",
    "    password: string;\n",
    "\n",
    "    constructor(public service: AuthService) {\n",
    "    }\n",
    "\n",
    "    onLogin(): void {\n",
    "        this.service.login(this.username, this.password).subscribe(r => {\n",
    "            console.log(r);\n",
    "        });\n",
    "    }\n",
    "}\n",
    "\n",
    "export const COMPONENTS = [\n",
    "    LoginComponent\n",
    "];\n",
    "\n",
    "export const authRoutes: Routes = [\n",
    "    {\n",
    "        path: '',\n",
    "        component: LoginComponent,\n",
    "        data: {roles: [ 'anonymous', 'user' ]}\n",
    "    }\n",
    "];\n",
    "export const routing: ModuleWithProviders = RouterModule.forChild(authRoutes);\n",
    "\n",
    "@NgModule({\n",
    "    imports: [\n",
    "        ...COMMON_MODULES,\n",
    "        routing\n",
    "    ],\n",
    "    declarations: COMPONENTS,\n",
    "    exports: COMPONENTS\n",
    "})\n",
    "export class AuthModule {\n",
    "}\n",
    "\n"
   ]
  },
  {
   "cell_type": "markdown",
   "metadata": {},
   "source": [
    "Authentication service?\n",
    "    \n"
   ]
  },
  {
   "cell_type": "code",
   "execution_count": null,
   "metadata": {},
   "outputs": [],
   "source": [
    "import { Observable } from 'rxjs/Observable';\n",
    "import { Http } from '@angular/http';\n",
    "import { Injectable } from '@angular/core';\n",
    "\n",
    "export let callbackUrl = 'localhost';\n",
    "\n",
    "@Injectable()\n",
    "export class AuthService {\n",
    "    constructor(public http: Http) {\n",
    "    }\n",
    "\n",
    "    login(username: string, password: string): Observable<number> {\n",
    "        return this.http.post(callbackUrl, {username, password})\n",
    "            .map(r => r.json());\n",
    "    }\n",
    "}\n",
    "\n"
   ]
  }
 ],
 "metadata": {
  "kernelspec": {
   "display_name": "Typescript 2.4",
   "language": "typescript",
   "name": "typescript"
  },
  "language_info": {
   "file_extension": ".ts",
   "mimetype": "text/x-typescript",
   "name": "typescript",
   "version": "2.4.1"
  }
 },
 "nbformat": 4,
 "nbformat_minor": 2
}
