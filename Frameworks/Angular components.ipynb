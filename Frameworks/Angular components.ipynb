{
 "cells": [
  {
   "cell_type": "markdown",
   "metadata": {},
   "source": [
    "Search notebook component?"
   ]
  },
  {
   "cell_type": "code",
   "execution_count": null,
   "metadata": {},
   "outputs": [],
   "source": [
    "import { Component, ModuleWithProviders, NgModule } from '@angular/core';\n",
    "import { COMMON_MODULES } from '../../../imports/core.module';\n",
    "import { RouterModule, Routes } from '@angular/router';\n",
    "import { SearchService } from '../../../imports/search.service';\n",
    "\n",
    "@Component({\n",
    "    selector: 'bc-search',\n",
    "    template: `\n",
    "        <form>\n",
    "            <md-input-container>\n",
    "                <input mdInput name=\"search\" required type=\"text\"\n",
    "                       placeholder=\"Search\"\n",
    "                       maxlength=\"100\" [(ngModel)]=\"query\" (change)=\"search()\">\n",
    "            </md-input-container>\n",
    "        </form>\n",
    "    `,\n",
    "    styles: [ `\n",
    "        md-input-container {\n",
    "            width: 100%;\n",
    "        }\n",
    "    ` ]\n",
    "})\n",
    "export class SearchComponent {\n",
    "    query = '';\n",
    "\n",
    "    constructor(public service: SearchService) {\n",
    "    }\n",
    "\n",
    "    search(): void {\n",
    "        this.service.search(this.query).subscribe(r => {\n",
    "            console.log('searched ' + r);\n",
    "        });\n",
    "    }\n",
    "}\n",
    "\n",
    "export const COMPONENTS = [\n",
    "    SearchComponent\n",
    "];\n",
    "\n",
    "export const authRoutes: Routes = [\n",
    "    {\n",
    "        path: '',\n",
    "        component: SearchComponent,\n",
    "        data: {roles: [ 'anonymous', 'user' ]}\n",
    "    }\n",
    "];\n",
    "export const routing: ModuleWithProviders = RouterModule.forChild(authRoutes);\n",
    "\n",
    "@NgModule({\n",
    "    imports: [\n",
    "        ...COMMON_MODULES,\n",
    "        routing\n",
    "    ],\n",
    "    declarations: COMPONENTS,\n",
    "    exports: COMPONENTS\n",
    "})\n",
    "export class SearchModule {\n",
    "}\n",
    "\n"
   ]
  },
  {
   "cell_type": "code",
   "execution_count": null,
   "metadata": {},
   "outputs": [],
   "source": [
    "import { Observable } from 'rxjs/Observable';\n",
    "import { Http } from '@angular/http';\n",
    "import { Injectable } from '@angular/core';\n",
    "import { Response } from '@angular/http';\n",
    "\n",
    "export let callbackUrl = 'localhost';\n",
    "\n",
    "@Injectable()\n",
    "export class SearchService {\n",
    "    constructor(public http: Http) {\n",
    "    }\n",
    "\n",
    "    search(query: string): Observable<Response> {\n",
    "        console.log('Searching ' + query);\n",
    "        return this.http.post(callbackUrl, {query});\n",
    "    }\n",
    "}\n"
   ]
  }
 ],
 "metadata": {
  "kernelspec": {
   "display_name": "Typescript 2.4",
   "language": "typescript",
   "name": "typescript"
  },
  "language_info": {
   "file_extension": ".ts",
   "mimetype": "text/x-typescript",
   "name": "typescript",
   "version": "2.4.1"
  }
 },
 "nbformat": 4,
 "nbformat_minor": 2
}
