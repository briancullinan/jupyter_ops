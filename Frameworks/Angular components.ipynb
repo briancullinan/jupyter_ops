{
 "cells": [
  {
   "cell_type": "markdown",
   "metadata": {},
   "source": [
    "Search notebook component?\n",
    "\n"
   ]
  },
  {
   "cell_type": "code",
   "execution_count": null,
   "metadata": {},
   "outputs": [],
   "source": [
    "import { Component, ModuleWithProviders, NgModule } from '@angular/core';\n",
    "import { COMMON_MODULES } from '../../../imports/core.module';\n",
    "import { RouterModule, Routes } from '@angular/router';\n",
    "import { SearchService } from '../../../imports/search.service';\n",
    "\n",
    "@Component({\n",
    "    selector: 'bc-search',\n",
    "    template: `\n",
    "        <form>\n",
    "            <md-input-container>\n",
    "                <input mdInput name=\"search\" required type=\"text\"\n",
    "                       placeholder=\"Search\"\n",
    "                       maxlength=\"100\" [(ngModel)]=\"query\" (change)=\"search()\">\n",
    "            </md-input-container>\n",
    "        </form>\n",
    "    `,\n",
    "    styles: [ `\n",
    "        md-input-container {\n",
    "            width: 100%;\n",
    "        }\n",
    "    ` ]\n",
    "})\n",
    "export class SearchComponent {\n",
    "    query = '';\n",
    "\n",
    "    constructor(public service: SearchService) {\n",
    "    }\n",
    "\n",
    "    search(): void {\n",
    "        this.service.search(this.query).subscribe(r => {\n",
    "            console.log('searched ' + r);\n",
    "        });\n",
    "    }\n",
    "}\n",
    "\n",
    "export const COMPONENTS = [\n",
    "    SearchComponent\n",
    "];\n",
    "\n",
    "export const authRoutes: Routes = [\n",
    "    {\n",
    "        path: '',\n",
    "        component: SearchComponent,\n",
    "        data: {roles: [ 'anonymous', 'user' ]}\n",
    "    }\n",
    "];\n",
    "export const routing: ModuleWithProviders = RouterModule.forChild(authRoutes);\n",
    "\n",
    "@NgModule({\n",
    "    imports: [\n",
    "        ...COMMON_MODULES,\n",
    "        routing\n",
    "    ],\n",
    "    declarations: COMPONENTS,\n",
    "    exports: COMPONENTS\n",
    "})\n",
    "export class SearchModule {\n",
    "}\n",
    "\n"
   ]
  },
  {
   "cell_type": "code",
   "execution_count": null,
   "metadata": {},
   "outputs": [],
   "source": [
    "Search notebook service?"
   ]
  },
  {
   "cell_type": "code",
   "execution_count": null,
   "metadata": {},
   "outputs": [],
   "source": [
    "import { Observable } from 'rxjs/Observable';\n",
    "import { Http } from '@angular/http';\n",
    "import { Injectable } from '@angular/core';\n",
    "import { Response } from '@angular/http';\n",
    "\n",
    "export let callbackUrl = 'localhost';\n",
    "\n",
    "@Injectable()\n",
    "export class SearchService {\n",
    "    constructor(public http: Http) {\n",
    "    }\n",
    "\n",
    "    search(query: string): Observable<Response> {\n",
    "        console.log('Searching ' + query);\n",
    "        return this.http.post(callbackUrl, {query});\n",
    "    }\n",
    "}\n"
   ]
  },
  {
   "cell_type": "markdown",
   "metadata": {},
   "source": [
    "Display code results?"
   ]
  },
  {
   "cell_type": "code",
   "execution_count": null,
   "metadata": {},
   "outputs": [],
   "source": [
    "import { SearchService } from '../../../imports/search.service';\n",
    "import { ChangeDetectorRef, Component, OnDestroy, OnInit } from '@angular/core';\n",
    "import { Subscription } from 'rxjs/Subscription';\n",
    "import * as Prism from 'prismjs';\n",
    "\n",
    "@Component({\n",
    "    selector: 'bc-results',\n",
    "    template: `\n",
    "        <pre [class]=\"'language-'+(r.lang||'javascript')\" *ngFor=\"let r of results\" [innerHTML]=\"highlight(r.code)\">\n",
    "        </pre>\n",
    "    `,\n",
    "    styleUrls: [ './results.component.scss' ]\n",
    "})\n",
    "export class ResultsComponent implements OnInit, OnDestroy {\n",
    "    query = '';\n",
    "    results: Array<any> = [];\n",
    "    private resultsSub: Subscription;\n",
    "\n",
    "    constructor(public service: SearchService,\n",
    "                public ref: ChangeDetectorRef) {\n",
    "    }\n",
    "\n",
    "    ngOnInit(): void {\n",
    "        this.resultsSub = this.service.results(this.query).subscribe(r => {\n",
    "            this.results = [ (r as Array<any>)[ 0 ] ];\n",
    "            this.ref.detectChanges();\n",
    "        });\n",
    "    }\n",
    "\n",
    "    ngOnDestroy(): void {\n",
    "        this.resultsSub.unsubscribe();\n",
    "    }\n",
    "\n",
    "    highlight(code: string): string {\n",
    "        return Prism.highlight(code, Prism.languages.javascript);\n",
    "    }\n",
    "}\n",
    "\n"
   ]
  },
  {
   "cell_type": "markdown",
   "metadata": {},
   "source": [
    "Sockify search notebook provider?"
   ]
  },
  {
   "cell_type": "code",
   "execution_count": null,
   "metadata": {},
   "outputs": [],
   "source": [
    "var client = require('socket.io-client').connect('http://localhost:8000');\n",
    "var importer = require('../Core');\n",
    "\n",
    "$$.async();\n",
    "client.emit('handle', 'SearchService');\n",
    "client.on('resolve', (name, search) => {\n",
    "    var interpretObject;\n",
    "    if(name == 'SearchService.prototype.search') {\n",
    "        client.emit('result', 'SearchService.prototype.search', 'Searching notebooks for ' + search);\n",
    "        importer.importNotebook('../Core/interpret all notebooks.ipynb')\n",
    "            .then(nb => {\n",
    "                var interpret = nb['interpret'];\n",
    "                interpretObject = nb['interpretObject'];\n",
    "                return interpret(search);\n",
    "            })\n",
    "            .then(r => {\n",
    "                return interpretObject(r);\n",
    "            })\n",
    "            .then(r => {\n",
    "                client.emit('result', 'SearchService.prototype.results', r);\n",
    "                $$.done();\n",
    "            });\n",
    "    }\n",
    "});\n",
    "\n"
   ]
  },
  {
   "cell_type": "code",
   "execution_count": null,
   "metadata": {},
   "outputs": [],
   "source": [
    "var PROFILE_PATH = process.env.HOME || process.env.HOMEPATH || process.env.USERPROFILE;\n",
    "var project = PROFILE_PATH + '/universal';\n",
    "var server = require(project + '/src/server/sockify-server.js').sockifyServer(8000);\n",
    "var client = require('socket.io-client').connect('http://localhost:8000');\n",
    "client.emit('close');\n"
   ]
  }
 ],
 "metadata": {
  "kernelspec": {
   "display_name": "Typescript 2.4",
   "language": "typescript",
   "name": "typescript"
  },
  "language_info": {
   "file_extension": ".ts",
   "mimetype": "text/x-typescript",
   "name": "typescript",
   "version": "2.4.1"
  }
 },
 "nbformat": 4,
 "nbformat_minor": 2
}
