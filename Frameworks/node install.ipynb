{
 "cells": [
  {
   "cell_type": "markdown",
   "source": [
    "# How to use nodejs?\n",
    "\n",
    "How to install node on Linux?\n",
    "\n"
   ],
   "metadata": {}
  },
  {
   "cell_type": "code",
   "source": [
    "wget - O - https\r",
    "://deb.nodesource.com/setup_7.x | bash\r",
    "apt - get\r",
    "install - y\r",
    "nodejs\r",
    "nodejs - v\r",
    "\r",
    "env\r",
    "NODE_TLS_REJECT_UNAUTHORIZED\r",
    "0\r",
    "npm\r",
    "install - g\r",
    "live - server\r",
    "babel - cli\r",
    "concurrently\r",
    "node - gyp\r",
    "nativescript\r",
    "@latest\r",
    ""
   ],
   "outputs": [],
   "execution_count": null,
   "metadata": {
    "collapsed": false,
    "outputHidden": false,
    "inputHidden": false
   }
  },
  {
   "cell_type": "markdown",
   "source": [
    "Install dev tools on Linux?"
   ],
   "metadata": {}
  },
  {
   "cell_type": "code",
   "source": [
    "mkdir /\r",
    "var /lib/\r",
    "apt / lists / partial\r",
    "apt - get - qq\r",
    "update\r",
    "apt - get\r",
    "install - y--\r",
    "fix - missing\r",
    "git\r",
    "curl\r",
    "wget\r",
    "zip\r",
    "unzip\r",
    "vim\r",
    "dos2unix\r",
    "g++\r",
    "python\r",
    "net - tools\r",
    "make\r",
    "websockify\r",
    "novnc \r",
    "\r",
    ""
   ],
   "outputs": [],
   "execution_count": null,
   "metadata": {
    "collapsed": false,
    "outputHidden": false,
    "inputHidden": false
   }
  }
 ],
 "metadata": {
  "kernelspec": {
   "name": "bash",
   "language": "bash",
   "display_name": "Bash"
  },
  "kernel_info": {
   "name": "bash"
  },
  "language_info": {
   "name": "bash",
   "codemirror_mode": "shell",
   "mimetype": "text/x-sh",
   "file_extension": ".sh"
  }
 },
 "nbformat": 4,
 "nbformat_minor": 4
}