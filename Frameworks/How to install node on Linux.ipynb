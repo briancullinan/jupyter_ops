{
  "cells": [
    {
      "cell_type": "markdown",
      "source": [
        "# How to use nodejs?\n",
        "\n",
        "How to install node on Linux?\n",
        "\n"
      ],
      "metadata": {}
    },
    {
      "cell_type": "code",
      "source": [
        "wget -O - https://deb.nodesource.com/setup_7.x | bash\n",
        "apt-get install -y nodejs\n",
        "nodejs -v\n",
        "\n",
        "env NODE_TLS_REJECT_UNAUTHORIZED 0\n",
        "npm install -g live-server babel-cli concurrently node-gyp nativescript@latest\n"
      ],
      "outputs": [],
      "execution_count": null,
      "metadata": {
        "collapsed": false,
        "outputHidden": false,
        "inputHidden": false
      }
    },
    {
      "cell_type": "markdown",
      "source": [
        "Install dev tools on Linux?"
      ],
      "metadata": {}
    },
    {
      "cell_type": "code",
      "source": [
        "apt-get -qq update\n",
        "apt-get install -y --fix-missing git curl wget zip unzip vim dos2unix g++ python net-tools make \n",
        "\n"
      ],
      "outputs": [],
      "execution_count": null,
      "metadata": {
        "collapsed": false,
        "outputHidden": false,
        "inputHidden": false
      }
    }
  ],
  "metadata": {
    "kernelspec": {
      "name": "bash",
      "language": "bash",
      "display_name": "Bash"
    },
    "kernel_info": {
      "name": "bash"
    },
    "language_info": {
      "name": "bash",
      "codemirror_mode": "shell",
      "mimetype": "text/x-sh",
      "file_extension": ".sh"
    }
  },
  "nbformat": 4,
  "nbformat_minor": 4
}