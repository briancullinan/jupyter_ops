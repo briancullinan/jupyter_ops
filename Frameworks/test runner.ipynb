{
 "cells": [
  {
   "cell_type": "markdown",
   "metadata": {},
   "source": [
    "## test cells?\n"
   ]
  },
  {
   "cell_type": "code",
   "execution_count": null,
   "metadata": {
    "collapsed": true
   },
   "outputs": [],
   "source": [
    "var importer = require('../Core');\n",
    "var path = require('path');\n",
    "var Module = require('module').Module;\n",
    "var Mocha = require('mocha');\n",
    "\n",
    "// call test runner\n",
    "var mocha;\n",
    "if(typeof mocha === 'undefined') {\n",
    "    mocha = new Mocha({\n",
    "        ui: 'bdd',\n",
    "        reporter: 'list',\n",
    "        timeout: 10000,\n",
    "    });\n",
    "}\n",
    "\n",
    "function resetTests(suite) {\n",
    "    suite.tests.forEach(function(t) {\n",
    "        delete t.state;\n",
    "        t.timedOut = false;\n",
    "    });\n",
    "    suite.suites.forEach(resetTests);\n",
    "    suite.tests = [];\n",
    "}\n",
    "\n",
    "function testCells(cells, ctx = {}) {\n",
    "    resetTests(mocha.suite);\n",
    "    if(!cells) {\n",
    "        cells = 'test test runner';\n",
    "    }\n",
    "    if(!cells[0].code) {\n",
    "         cells = typeof cells === 'string'\n",
    "            && (!cells.includes('.ipynb') || cells.includes('['))\n",
    "             ? [importer.interpret(cells)]\n",
    "             : importer.interpret(cells);\n",
    "    }\n",
    "    cells.forEach(r => {\n",
    "        mocha.suite.emit('pre-require', ctx, r.id, mocha);\n",
    "        Object.assign(ctx, Mocha);\n",
    "        try {\n",
    "            var required = r.runInNewContext(ctx, {useCache: false});\n",
    "            Object.assign(ctx, required);\n",
    "        } catch (e) {\n",
    "            console.log(e);\n",
    "        }\n",
    "        mocha.suite.emit('require', required, r.id, mocha);\n",
    "        mocha.suite.emit('post-require', ctx, r.id, mocha);    \n",
    "    });\n",
    "    return new Promise(resolve => mocha.run(function (failures) {\n",
    "        resolve(failures);\n",
    "    }));\n",
    "}\n",
    "module.exports = testCells;\n"
   ]
  },
  {
   "cell_type": "markdown",
   "metadata": {},
   "source": [
    "## test runner?\n",
    "\n",
    "watch files run tests?\n",
    "\n",
    "How to use: \n",
    "\n",
    "```\n",
    "node -e \"require('./Core').import('watch files run tests')('**/zuora*.ipynb', 'zuora to eloqua.ipynb')\"\n",
    "\n",
    "node -e \"require('./Core').import('watch files run tests')('**/*.ipynb', 'test test runner')\"```\n",
    "\n",
    "TODO: restart this test script every loop? fork and abandon current thread?\n",
    "\n",
    "TODO: update cell cache in intrepret notebooks.ipynb\n",
    "\n",
    "TODO: git apply without whitespace, reset the rest?  separate index?  how do make git-scenario app?\n",
    "\n",
    "TODO: re-import cells on Utilities/.modules folder change. run all \"watcher\" commands from a test below?  mocha.grep?\n",
    "\n",
    "\n",
    "\n"
   ]
  },
  {
   "cell_type": "code",
   "execution_count": null,
   "metadata": {
    "collapsed": true
   },
   "outputs": [],
   "source": [
    "var chokidar = require(\"chokidar\");\n",
    "var importer = require('../Core');\n",
    "var testCells = importer.import('test cells');\n",
    "\n",
    "// TODO: code analysis to combine blocks into modules?\n",
    "\n",
    "var rateLimiter, done = true;\n",
    "function testWatcher(files, tests) {\n",
    "    files = typeof files === 'string' ? [files] : files;\n",
    "    console.log('watching ' + files + ' - ' + path.resolve('.'))\n",
    "    var watcher = chokidar.watch(files, {\n",
    "        interval: 1000,\n",
    "        atomic: 1000,\n",
    "        awaitWriteFinish: true\n",
    "    });\n",
    "    watcher.on(\"change\", function(event, path) {\n",
    "        if(!done) {\n",
    "            return;\n",
    "        }\n",
    "        console.log('running all tests');\n",
    "        done = false;\n",
    "        return testCells(tests).then(() => (done = true))\n",
    "    });\n",
    "    testCells(tests);\n",
    "    \n",
    "    var stdin = process.openStdin();\n",
    "    stdin.addListener(\"data\", function(d) {\n",
    "        stdin.close();\n",
    "    });\n",
    "}\n",
    "module.exports = testWatcher;\n"
   ]
  }
 ],
 "metadata": {
  "kernelspec": {
   "display_name": "Javascript (Node.js)",
   "language": "javascript",
   "name": "javascript"
  },
  "language_info": {
   "file_extension": ".js",
   "mimetype": "application/javascript",
   "name": "javascript",
   "version": "10.16.0"
  }
 },
 "nbformat": 4,
 "nbformat_minor": 2
}
