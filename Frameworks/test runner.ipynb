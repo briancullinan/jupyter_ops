{
 "cells": [
  {
   "cell_type": "markdown",
   "metadata": {},
   "source": [
    "test cells continuously?\n"
   ]
  },
  {
   "cell_type": "code",
   "execution_count": null,
   "metadata": {},
   "outputs": [],
   "source": [
    "var importer = require('../Core');\n",
    "var path = require('path');\n",
    "var Module = require('module').Module;\n",
    "var Mocha = require('mocha');\n",
    "\n",
    "// call test runner\n",
    "var mocha;\n",
    "if(typeof mocha === 'undefined') {\n",
    "    mocha = new Mocha({\n",
    "        ui: 'tdd',\n",
    "        reporter: 'list'\n",
    "    });\n",
    "}\n",
    "\n",
    "function resetTests(suite) {\n",
    "    suite.tests.forEach(function(t) {\n",
    "        delete t.state;\n",
    "        t.timedOut = false;\n",
    "    });\n",
    "    suite.suites.forEach(resetTests);\n",
    "    suite.tests = [];\n",
    "}\n",
    "\n",
    "var testCells = (cells, ctx = {}) => {\n",
    "    cells.forEach(r => {\n",
    "        mocha.suite.emit('pre-require', ctx, r.id, mocha);\n",
    "        Object.assign(ctx, Mocha);\n",
    "        var required = r.runInNewContext(ctx);\n",
    "        Object.assign(ctx, required);\n",
    "        mocha.suite.emit('require', required, r.id, mocha);\n",
    "        mocha.suite.emit('post-require', ctx, r.id, mocha);    \n",
    "    });\n",
    "    return new Promise(resolve => mocha.run(function (failures) {\n",
    "        resetTests(mocha.suite);\n",
    "        resolve(failures);\n",
    "    }));\n",
    "}\n",
    "module.exports = testCells;\n",
    "\n"
   ]
  },
  {
   "cell_type": "code",
   "execution_count": 4,
   "metadata": {},
   "outputs": [
    {
     "name": "stdout",
     "output_type": "stream",
     "text": [
      "\n",
      "    zuora to eloqua should transfer data end-to-end: \r",
      "  1) zuora to eloqua \"before each\" hook for \"should transfer data end-to-end\"\n",
      "    zuora oauth should connect to zuora using oauth: \r",
      "  √ zuora oauth should connect to zuora using oauth: 0ms\n",
      "    zuora export should export a CSV from zuora: \r",
      "  √ zuora export should export a CSV from zuora: 0ms\n",
      "    zuora export should convert CSV to JSON: \r",
      "  √ zuora export should convert CSV to JSON: 0ms\n",
      "    map zuora data fields should map basic data: \r",
      "  √ map zuora data fields should map basic data: 0ms\n",
      "    map zuora data fields should map contact data: \r",
      "  √ map zuora data fields should map contact data: 0ms\n",
      "    map zuora data fields should map support data: \r",
      "  √ map zuora data fields should map support data: 0ms\n",
      "    map zuora data fields should map cancelled data: \r",
      "  √ map zuora data fields should map cancelled data: 0ms\n",
      "    eloqua bulk upload should authenticate using eloqua oauth: \r",
      "  √ eloqua bulk upload should authenticate using eloqua oauth: 4ms\n",
      "    eloqua bulk upload should update data to eloqua: \r",
      "  √ eloqua bulk upload should update data to eloqua: 0ms\n",
      "    eloqua bulk upload should confirm upload was successful: \r",
      "  √ eloqua bulk upload should confirm upload was successful: 0ms\n",
      "\n",
      "  10 passing (11ms)\n",
      "  1 failing\n",
      "\n",
      "  1) zuora to eloqua\n",
      "       \"before each\" hook for \"should transfer data end-to-end\":\n",
      "     Error: Cannot find module 'xlsx'\n",
      "      at require (internal/module.js:11:18)\n",
      "      at Context.beforeEach (C:\\Users\\brian.cullinan\\Documents\\jupytangular2\\Frameworks\\zuora to eloqua.ipynbzuora to eloqua.ipynb[1]:8:20)\n",
      "\n",
      "\n",
      "\n"
     ]
    },
    {
     "data": {
      "text/plain": [
       "1"
      ]
     },
     "execution_count": 4,
     "metadata": {},
     "output_type": "execute_result"
    }
   ],
   "source": [
    "var importer = require('../Core');\n",
    "$$.async();\n",
    "// put them in the order to include them in the context\n",
    "var cells;\n",
    "importer.interpret(['analyze zuora', 'test zuora'])\n",
    "    .then(r => cells = r)\n",
    "    .then(() => importer.import('test cells continuously'))\n",
    "    .then(testCells => testCells(cells))\n",
    "    .then(r => $$.sendResult(r))\n",
    "    .catch(e => $$.sendError(e))\n"
   ]
  },
  {
   "cell_type": "code",
   "execution_count": 2,
   "metadata": {},
   "outputs": [
    {
     "name": "stdout",
     "output_type": "stream",
     "text": [
      "Initializing webdriver on localhost\n",
      "[ '4e8c29ad-49b2-429c-ad5e-cd0b71f283a3' ]\n"
     ]
    },
    {
     "data": {
      "text/plain": [
       "0"
      ]
     },
     "execution_count": 2,
     "metadata": {},
     "output_type": "execute_result"
    },
    {
     "name": "stdout",
     "output_type": "stream",
     "text": [
      "[ '4e8c29ad-49b2-429c-ad5e-cd0b71f283a3' ]\n",
      "{ x: 0, y: 3048 }\n",
      "{ Error: Couldn't connect to selenium server\n",
      "    at resizeWindow(0) - orchestration.ipynb[1]:55:10\n",
      "  message: 'ESOCKETTIMEDOUT',\n",
      "  type: 'RuntimeError',\n",
      "  seleniumStack: \n",
      "   { status: -1,\n",
      "     type: 'ESOCKETTIMEDOUT',\n",
      "     message: 'Couldn\\'t connect to selenium server',\n",
      "     orgStatusMessage: 'ESOCKETTIMEDOUT' } }\n"
     ]
    }
   ],
   "source": [
    "var importer = require('../Core');\n",
    "var framework = require('wdio-mocha-framework').adapterFactory;\n",
    "\n",
    "var PROFILE_PATH = process.env.HOME || process.env.HOMEPATH || process.env.USERPROFILE;\n",
    "\n",
    "$$.async();\n",
    "// put them in the order to include them in the context\n",
    "var f = PROFILE_PATH + '/Documents/Selenium/ecommerce/test/specs/trial.js';\n",
    "importer.import([\n",
    "    'test cells continuously',\n",
    "    'webdriver client'\n",
    "])\n",
    "    .then(r => {\n",
    "        const client = r.createWebdriverClient();\n",
    "        global.browser = client;\n",
    "        return this.framework.run('', client.options, [], client.options.desiredCapabilities)\n",
    "        return r.testCells([{\n",
    "            id: f,\n",
    "            runInNewContext: (ctx) => {\n",
    "                return importer.runInNewContext(fs.readFileSync(f).toString(), Object.assign(ctx, {\n",
    "                    __filename: f\n",
    "                }))\n",
    "            }\n",
    "        }], {\n",
    "            browser: client\n",
    "        });\n",
    "    })\n",
    "    .then(r => $$.sendResult(r))\n",
    "    .catch(e => $$.sendError(e))\n"
   ]
  },
  {
   "cell_type": "code",
   "execution_count": null,
   "metadata": {},
   "outputs": [],
   "source": []
  }
 ],
 "metadata": {
  "kernelspec": {
   "display_name": "Javascript (Node.js)",
   "language": "javascript",
   "name": "javascript"
  },
  "language_info": {
   "file_extension": ".js",
   "mimetype": "application/javascript",
   "name": "javascript",
   "version": "8.8.1"
  }
 },
 "nbformat": 4,
 "nbformat_minor": 2
}
