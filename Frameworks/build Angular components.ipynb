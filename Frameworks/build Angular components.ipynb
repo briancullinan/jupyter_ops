{
  "cells": [
    {
      "cell_type": "markdown",
      "source": [
        "# How to build Angular components?\n",
        "\n"
      ],
      "metadata": {}
    },
    {
      "cell_type": "code",
      "source": [
        "// first install angular cli\n",
        "var path = require('path');\n",
        "var MemoryFileSystem = require(\"memory-fs\");\n",
        "var data = {\n",
        "    'angular-cli.json': \n",
        "`\n",
        "{\n",
        "    \"project\": {\n",
        "        \"name\": \"act-ecommerce\"\n",
        "    },\n",
        "    \"apps\": [\n",
        "        {\n",
        "            \"root\": \".\",\n",
        "            \"main\": \"main.ts\",\n",
        "            \"tsconfig\": \"../tsconfig.json\",\n",
        "            \"prefix\": \"bc\",\n",
        "            \"styles\": [],\n",
        "            \"scripts\": []\n",
        "        }\n",
        "    ]\n",
        "}\n",
        "`\n",
        "};\n",
        "var memfs = new MemoryFileSystem(data);\n",
        "var importer = require('../Core');\n",
        "var ng, interpret, interpretObject, mountAndRewireAngular;\n",
        "var createComponent = (project, name) => {\n",
        "    return importer.importNotebook('../Core/interpret all notebooks.ipynb')\n",
        "        .then(r => {\n",
        "            interpret = r['interpret'];\n",
        "            interpretObject = r['interpretObject'];\n",
        "        })\n",
        "        .then(() => Promise.all([\n",
        "            interpret('memory-fs rewire')\n",
        "        ]))\n",
        "        .then(r => interpretObject(r.map(r => r[0])))\n",
        "        .then(r => {\n",
        "            mountAndRewireAngular = eval(\"'use strict';\" + r[0].code);\n",
        "            var conf = {\n",
        "                cliArgs: ['generate',\n",
        "                          'component',\n",
        "                          '--skip-import',\n",
        "                          name],\n",
        "                inputStream: process.stdin,\n",
        "                outputStream: process.stdout\n",
        "            };\n",
        "            memfs.mkdirpSync(path.resolve('.'));\n",
        "            memfs.writeFileSync(\n",
        "                path.resolve('./angular-cli.json'),\n",
        "                data['angular-cli.json']);\n",
        "            ng = mountAndRewireAngular(memfs);\n",
        "            return conf;\n",
        "        })\n",
        "        .then(conf => ng(conf))\n",
        "        .then(r => {\n",
        "            console.log(r);\n",
        "            return data['Users']['briancullinan']['jupytangular2'];\n",
        "        });\n",
        "};\n",
        "\n",
        "// obviously we can generate and use a CLI interface from within Node.js\n",
        "\n",
        "$$.async();\n",
        "createComponent('portal', 'testing')\n",
        "    .then(r => $$.sendResult(r))\n",
        "    .catch(e => $$.sendError(e));\n",
        "\n\n\n\n"
      ],
      "outputs": [
        {
          "output_type": "stream",
          "name": "stdout",
          "text": [
            "Already imported\n",
            "[ 'import notebook.ipynb', 'interpret all notebooks.ipynb' ]\n",
            "installing component\n",
            "1\n"
          ]
        },
        {
          "output_type": "stream",
          "name": "stderr",
          "text": [
            "Unable to find any apps in `.angular-cli.json`.\n"
          ]
        },
        {
          "output_type": "execute_result",
          "execution_count": 2,
          "data": {
            "text/plain": [
              "{ '': true,\n",
              "  Frameworks: \n",
              "   { '': true,\n",
              "     'angular-cli.json': <Buffer 0a 7b 0a 20 20 20 20 22 70 72 6f 6a 65 63 74 22 3a 20 7b 0a 20 20 20 20 20 20 20 20 22 6e 61 6d 65 22 3a 20 22 61 63 74 2d 65 63 6f 6d 6d 65 72 63 65 ... > } }"
            ]
          },
          "metadata": {}
        }
      ],
      "execution_count": 2,
      "metadata": {
        "collapsed": false,
        "outputHidden": false,
        "inputHidden": false
      }
    },
    {
      "cell_type": "code",
      "source": [
        "var execSync = require('child_process').execSync();\n",
        "try {\n",
        "    require.resolve('glob');\n",
        "} catch (e) {\n",
        "    execSync('glob');\n",
        "}\n",
        "var glob = require('glob');\n",
        "var PROFILE_PATH = process.env.HOME || process.env.HOMEPATH || process.env.USERPROFILE;\n",
        "\n",
        "// But we also want to automatically load projects?\n",
        "var listProjects = (root = PROFILE_PATH) => {\n",
        "    return new Promise((resolve, reject) => {\n",
        "        glob('**/package.json', {\n",
        "            ignore: ['**/node_modules/**',\n",
        "                    '**/vendor/**'],\n",
        "            cwd: root,\n",
        "            silent: true,\n",
        "            nodir: true,\n",
        "            strict: false\n",
        "        }, (err, matches) => {\n",
        "            var result = {};\n",
        "            matches.forEach(m => {\n",
        "                var projectPath = path.dirname(path.join(root, m));\n",
        "                result[path.basename(projectPath)] = projectPath;\n",
        "            })\n",
        "            return resolve(result);\n",
        "        });\n",
        "    });\n",
        "};\n",
        "(listProjects);\n"
      ],
      "outputs": [],
      "execution_count": 2,
      "metadata": {
        "collapsed": false,
        "outputHidden": false,
        "inputHidden": false
      }
    },
    {
      "cell_type": "code",
      "source": [
        "$$.async();\n",
        "listProjects(path.join(PROFILE_PATH, 'Documents'))\n",
        "    .then(r => $$.sendResult(r))\n",
        "    .catch(e => $$.sendError(e));"
      ],
      "outputs": [],
      "execution_count": 4,
      "metadata": {
        "collapsed": false,
        "outputHidden": false,
        "inputHidden": false
      }
    },
    {
      "cell_type": "code",
      "source": [
        "// Wouldn't it be nice if we could list these projects as interactive icons?\n",
        "\n"
      ],
      "outputs": [],
      "execution_count": null,
      "metadata": {
        "collapsed": false,
        "outputHidden": false,
        "inputHidden": false
      }
    }
  ],
  "metadata": {
    "kernelspec": {
      "name": "node_nteract",
      "language": "javascript",
      "display_name": "Node.js (nteract)"
    },
    "kernel_info": {
      "name": "node_nteract"
    },
    "language_info": {
      "name": "javascript",
      "version": "6.5.0",
      "mimetype": "application/javascript",
      "file_extension": ".js"
    }
  },
  "nbformat": 4,
  "nbformat_minor": 4
}