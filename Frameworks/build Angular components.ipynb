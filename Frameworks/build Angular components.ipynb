{
 "cells": [
  {
   "cell_type": "markdown",
   "metadata": {},
   "source": [
    "# How to build Angular components?\n",
    "\n",
    "How to create a mock filesystem?\n"
   ]
  },
  {
   "cell_type": "markdown",
   "metadata": {},
   "source": [
    "Run angular-cli commands from nodejs?\n",
    "\n",
    "Add a component to the specified project using angular-cli?\n",
    "\n"
   ]
  },
  {
   "cell_type": "code",
   "execution_count": null,
   "metadata": {
    "collapsed": false,
    "inputHidden": false,
    "outputHidden": false
   },
   "outputs": [],
   "source": [
    "var execSync = require('child_process').execSync;\r",
    "try {\r",
    "    require.resolve('@angular/cli');\r",
    "} catch (e) {\r",
    "    execSync('npm install @angular/cli');\r",
    "}\r",
    "\r",
    "// use utility/filesystem to mock all fs and typescript commands\r",
    "var mockTypescriptFs, cli;\r",
    "\r",
    "var importer = require('../Core');\r",
    "// call the CLI just like from command line\r",
    "var ng = (project, args = ['generate', 'component', 'test']) => {\r",
    "    // set up project path\r",
    "    var previous = process.cwd();\r",
    "\r",
    "    var conf = {\r",
    "        cliArgs: args,\r",
    "        inputStream: null,\r",
    "        outputStream: process.stdout\r",
    "    };\r",
    "\r",
    "    // execute\r",
    "    return importer.import('memory-fs rewire')\r",
    "        .then(mockTypescriptFs => {\r",
    "            // overlay out temp filesystem on top of current filesystem\r",
    "            mockTypescriptFs(project);\r",
    "            cli = require('@angular/cli');\r",
    "            process.chdir(project);\r",
    "            return cli(conf);\r",
    "        });\r",
    "};\r",
    "module.exports = ng;\r",
    "\r",
    ""
   ]
  },
  {
   "cell_type": "markdown",
   "metadata": {},
   "source": [
    "Compile the project using webpack?"
   ]
  },
  {
   "cell_type": "code",
   "execution_count": null,
   "metadata": {
    "collapsed": false,
    "inputHidden": false,
    "outputHidden": false
   },
   "outputs": [],
   "source": [
    "var execSync = require('child_process').execSync;\r",
    "try {\r",
    "    require.resolve('webpack');\r",
    "} catch (e) {\r",
    "    execSync('npm install webpack');\r",
    "}\r",
    "\r",
    "// source https://github.com/christianalfoni/webpack-bin/issues/106\r",
    "var webpackAngularProject = (project) => {\r",
    "    // set up project path\r",
    "    var previous = process.cwd();\r",
    "    process.chdir(project);\r",
    "    module.paths.unshift(project + '/node_modules');\r",
    "\r",
    "    var webpack = require('webpack');\r",
    "    var webpackConfig = require(path.join(project, 'webpack.config.js'));\r",
    "    var gulp = require(path.join(project, 'config', 'gulp-helpers.js'));\r",
    "    var settings = gulp.loadSettings(require(path.join(project, 'config', 'build-config.json')));\r",
    "    var config = webpackConfig({\r",
    "        env: 'prod',\r",
    "        platform: 'server'\r",
    "    }, gulp.root, settings);\r",
    "    var compiler = webpack(config);\r",
    "\r",
    "    // TODO: do we need this since it is already mocked in angular-cli\r",
    "    //mockTypescriptFs = eval(\"'use strict';\" + r[0].code);\r",
    "    //mockTypescriptFs(project, data);\r",
    "    //compiler.inputFileSystem = memfs;\r",
    "    //compiler.outputFileSystem = memfs;\r",
    "    //compiler.resolvers.normal.fileSystem = memfs;\r",
    "    //compiler.resolvers.context.fileSystem = memfs;\r",
    "\r",
    "    return new Promise((resolve, reject) => {\r",
    "        compiler.run(function (err, stats) {\r",
    "            process.chdir(previous);\r",
    "            if (err) return reject(err);\r",
    "            resolve(stats.compilation.assets['server.js'].source());\r",
    "        });\r",
    "    });\r",
    "};\r",
    "webpackAngularProject;\r",
    ""
   ]
  },
  {
   "cell_type": "code",
   "execution_count": null,
   "metadata": {
    "collapsed": false,
    "inputHidden": false,
    "outputHidden": false
   },
   "outputs": [],
   "source": [
    "//ng(path.dirname(project), ['new', '--skip-git', '--skip-install', 'new-portal'])\r",
    "//    .then(() => ng(project, [\r",
    "//    'generate', 'module', '--spec', '--flat', 'AppServer']))\r",
    "/*\r",
    "//.then(() => npm(project, ['install'], {'save': true, bin-links': false, verbose: true, prefix: project}))\r",
    "//.then(() => npm(project, ['install', '@angular/material', '@angular/cdk'], {'save': true, bin-links': false, verbose: true, prefix: project}))\r",
    "//.then(() => npm(project, ['list'], {prefix: project}))\r",
    "//.then(() => npm(project, ['prefix'], {prefix: project}))\r",
    "//convertNgUniversal(project)\r",
    "//    .then(() => ng(project, ['build', '--aot', '--prod']))\r",
    "//.then(() => webpackAngularProject(project))\r",
    ".then(r => {\r",
    "    process.chdir(project);\r",
    "    var server = require(path.join(project, '.server', 'server.js'));\r",
    "    console.log(server);\r",
    "})\r",
    "*/\r",
    "\r",
    "// TODO:\r",
    "// build the project in memory\r",
    "// make the sockify server send us logs\r",
    "// accept logins and encrypt in to password file?\r",
    "// send mock responses to display all interfaces?  e.g. logging in displays redirect and error \"you are already logged in\" on login page at the same time\r",
    ""
   ]
  },
  {
   "cell_type": "markdown",
   "metadata": {},
   "source": [
    "Set angular theme colors?"
   ]
  },
  {
   "cell_type": "code",
   "execution_count": null,
   "metadata": {},
   "outputs": [],
   "source": [
    ""
   ]
  }
 ],
 "metadata": {
  "kernel_info": {
   "name": "node_nteract"
  },
  "kernelspec": {
   "display_name": "Javascript (Node.js)",
   "language": "javascript",
   "name": "javascript"
  },
  "language_info": {
   "file_extension": ".js",
   "mimetype": "application/javascript",
   "name": "javascript",
   "version": "7.7.2"
  }
 },
 "nbformat": 4,
 "nbformat_minor": 4
}