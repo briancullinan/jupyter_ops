{
  "cells": [
    {
      "cell_type": "markdown",
      "source": [
        "# How to build Angular components?\n",
        "\n",
        "How to create a mock filesystem?\n"
      ],
      "metadata": {}
    },
    {
      "cell_type": "code",
      "source": [
        "var execSync = require('child_process').execSync;\n",
        "// first install angular cli\n",
        "var path = require('path');\n",
        "var data = {\n",
        "    'angular-cli.json': \n",
        "`\n",
        "{\n",
        "    \"project\": {\n",
        "        \"name\": \"act-ecommerce\"\n",
        "    },\n",
        "    \"apps\": [\n",
        "        {\n",
        "            \"root\": \"src\",\n",
        "            \"main\": \"main.ts\",\n",
        "            \"tsconfig\": \"../tsconfig.json\",\n",
        "            \"prefix\": \"bc\",\n",
        "            \"styles\": [],\n",
        "            \"scripts\": []\n",
        "        }\n",
        "    ]\n",
        "}\n",
        "`\n",
        "};\n",
        "\n\n"
      ],
      "outputs": [],
      "execution_count": 1,
      "metadata": {
        "collapsed": false,
        "outputHidden": false,
        "inputHidden": false
      }
    },
    {
      "cell_type": "markdown",
      "source": [
        "Run angular-cli commands from nodejs?\n",
        "\n",
        "Add a component to the specified project using angular-cli?\n",
        "\n"
      ],
      "metadata": {}
    },
    {
      "cell_type": "code",
      "source": [
        "var execSync = require('child_process').execSync;\n",
        "try {\n",
        "    require.resolve('@angular/cli');\n",
        "} catch (e) {\n",
        "    execSync('npm install @angular/cli');\n",
        "}\n",
        "var PROFILE_PATH = process.env.HOME || process.env.HOMEPATH || process.env.USERPROFILE;\n",
        "\n",
        "// use utility/filesystem to mock all fs and typescript commands\n",
        "var mockTypescriptFs, mock, cli;\n",
        "\n",
        "var importer = require('../Core');\n",
        "// call the CLI just like from command line\n",
        "var ng = (project, args = ['generate', 'component', 'test']) => {\n",
        "    // set up project path\n",
        "    var previous = process.cwd();\n",
        "    \n",
        "    var conf = {\n",
        "        cliArgs: args,\n",
        "        inputStream: null,\n",
        "        outputStream: process.stdout\n",
        "    };\n",
        "    \n",
        "    // execute\n",
        "    return importer.interpretAll('memory-fs rewire')\n",
        "        .then(r => {\n",
        "            //if(typeof cli == 'undefined') {\n",
        "                mockTypescriptFs = eval(\"'use strict';\" + r[0].code);\n",
        "                // overlay out temp filesystem on top of current filesystem\n",
        "                mock = mockTypescriptFs(data);\n",
        "                cli = require('@angular/cli');\n",
        "            //}\n",
        "            process.chdir(project);\n",
        "            return cli(conf);\n",
        "        })\n",
        "        // ng is mocked at this point\n",
        "        .then(() => {\n",
        "            process.chdir(previous);\n",
        "            //mock.stopAll();\n",
        "            data = mock.data();\n",
        "            return mock.data();\n",
        "        });\n",
        "}\n",
        "(ng);\n",
        "\n"
      ],
      "outputs": [
        {
          "output_type": "execute_result",
          "execution_count": 2,
          "data": {
            "text/plain": [
              "[Function: ng]"
            ]
          },
          "metadata": {}
        }
      ],
      "execution_count": 2,
      "metadata": {
        "collapsed": false,
        "outputHidden": false,
        "inputHidden": false
      }
    },
    {
      "cell_type": "markdown",
      "source": [
        "List projects by name?\n",
        "\n"
      ],
      "metadata": {}
    },
    {
      "cell_type": "code",
      "source": [
        "var execSync = require('child_process').execSync();\n",
        "try {\n",
        "    require.resolve('glob');\n",
        "} catch (e) {\n",
        "    execSync('glob');\n",
        "}\n",
        "var glob = require('glob');\n",
        "\n",
        "// But we also want to automatically load projects?\n",
        "var listProjects = (root = PROFILE_PATH) => {\n",
        "    return new Promise((resolve, reject) => {\n",
        "        glob('**/package.json', {\n",
        "            ignore: ['**/node_modules/**',\n",
        "                    '**/packages/**',\n",
        "                    '**/vendor/**',\n",
        "                    '/Users/**/Downloads/**',\n",
        "                    '/Users/**/Library/**',\n",
        "                    '/Users/**/Applications/**',\n",
        "                    '/Users/**/Music/**',\n",
        "                    '**/wp-content/**',\n",
        "                    '**/wp-includes/**',\n",
        "                    '**/Pods/**',\n",
        "                    '**/svn/**',\n",
        "                    '**/.git/**',\n",
        "                    '**/.vscode/**',\n",
        "                    '**/.npm/**',\n",
        "                    '**/Cache/**',\n",
        "                    '**/Creative Cloud Files/**'],\n",
        "            cwd: path.resolve(root),\n",
        "            silent: true,\n",
        "            nodir: true,\n",
        "            strict: false\n",
        "        }, (err, matches) => {\n",
        "            var result = {};\n",
        "            matches.forEach(m => {\n",
        "                var projectPath = path.dirname(path.join(root, m));\n",
        "                result[path.basename(projectPath)] = projectPath;\n",
        "            })\n",
        "            return resolve(result);\n",
        "        });\n",
        "    });\n",
        "};\n",
        "(listProjects);\n",
        "\n"
      ],
      "outputs": [
        {
          "output_type": "execute_result",
          "execution_count": 4,
          "data": {
            "text/plain": [
              "[Function: listProjects]"
            ]
          },
          "metadata": {}
        }
      ],
      "execution_count": 3,
      "metadata": {
        "collapsed": false,
        "outputHidden": false,
        "inputHidden": false
      }
    },
    {
      "cell_type": "markdown",
      "source": [
        "Build angular modules from nodejs?\n",
        "\n"
      ],
      "metadata": {}
    },
    {
      "cell_type": "code",
      "source": [
        "// Wouldn't it be nice if we could list these projects as interactive icons?\n",
        "var fs = require('fs');\n",
        "var convertNgUniversal = (project) => {\n",
        "    return ng(project, ['generate', 'module', '--spec', '--flat', 'AppServer'])\n",
        "    .then(() => {\n",
        "        var serverModulePath = project + '/src/app/app-server.module.ts';\n",
        "        var app_server = memfs.readFileSync(serverModulePath).toString();\n",
        "        app_server = app_server.replace('CommonModule', `ServerModule,\n",
        "AppModule\n",
        "],\n",
        "bootstrap: [\n",
        "\t  AppComponent\n",
        "`);\n",
        "        memfs.writeFileSync(serverModulePath, app_server);\n",
        "\n\n",
        "        var appModulePath = project + '/src/app/app.module.ts';\n",
        "        var app_module = fs.readFileSync(appModulePath).toString();\n",
        "        app_module = app_module.replace('BrowserModule,',` BrowserModule.withServerTransition({\n",
        "            appId: 'universal-demo-app'\n",
        "        }),\n",
        "`);\n",
        "        return importer.getCells('./angular universal.ipynb')\n",
        "    })\n",
        "    .then(cells => {\n",
        "        var appServerPath = project + '/src/main.server.ts';\n",
        "        memfs.writeFileSync(appServerPath, cells.join('\\n'));\n",
        "    })\n",
        "};\n",
        "(convertNgUniversal);\n",
        "\n"
      ],
      "outputs": [
        {
          "output_type": "execute_result",
          "execution_count": 4,
          "data": {
            "text/plain": [
              "[Function: convertNgUniversal]"
            ]
          },
          "metadata": {}
        }
      ],
      "execution_count": 4,
      "metadata": {
        "collapsed": false,
        "outputHidden": false,
        "inputHidden": false
      }
    },
    {
      "cell_type": "markdown",
      "source": [
        "Compile the project if needed?"
      ],
      "metadata": {}
    },
    {
      "cell_type": "code",
      "source": [
        "var execSync = require('child_process').execSync;\n",
        "try {\n",
        "    require.resolve('webpack');\n",
        "    require.resolve('@ngtools/webpack');\n",
        "} catch (e) {\n",
        "    execSync('npm install webpack @ngtools/webpack');\n",
        "}\n",
        "\n",
        "// source https://github.com/christianalfoni/webpack-bin/issues/106\n",
        "var webpackAngularProject = (project, memfs) => {\n",
        "    // set up project path\n",
        "    var previous = process.cwd();\n",
        "    process.chdir(project);\n",
        "    module.paths.unshift(project + '/node_modules');\n",
        "    \n",
        "    var webpack = require('webpack');\n",
        "    var ngtools = require('@ngtools/webpack');\n",
        "\n",
        "    var conf = {\n",
        "        entry: {\n",
        "            main: './src/main.server.ts'\n",
        "        },\n",
        "        resolve: {\n",
        "          extensions: ['.ts', '.js']\n",
        "        },\n",
        "        target: 'node',\n",
        "        output: {\n",
        "            path: process.cwd() + '/dist',\n",
        "            filename: '[name].js'\n",
        "        },\n",
        "        plugins: [\n",
        "            new ngtools.AotPlugin({\n",
        "                tsConfigPath: process.cwd() + '/tsconfig.json',\n",
        "            })\n",
        "        ],\n",
        "        module: {\n",
        "            rules: [\n",
        "                {\n",
        "                  test: /\\.ts$/,\n",
        "                  loader: '@ngtools/webpack',\n",
        "                }\n",
        "            ]\n",
        "        }\n",
        "    }\n",
        "\n",
        "    var compiler = webpack(conf);\n",
        "\n",
        "    compiler.inputFileSystem = memfs;\n",
        "    compiler.outputFileSystem = memfs;\n",
        "    compiler.resolvers.normal.fileSystem = memfs;\n",
        "    compiler.resolvers.context.fileSystem = memfs;\n",
        "\n",
        "    return new Promise((resolve, reject) => {\n",
        "        compiler.run(function(err, stats) {\n",
        "            process.chdir(previous);\n",
        "            if (err) reject(err);\n",
        "            resolve(eval(stats.compilation.assets['main.js'].source()));\n",
        "        });\n",
        "    });\n",
        "}\n",
        "(webpackAngularProject);\n"
      ],
      "outputs": [
        {
          "output_type": "execute_result",
          "execution_count": 5,
          "data": {
            "text/plain": [
              "[Function: webpackAngularProject]"
            ]
          },
          "metadata": {}
        }
      ],
      "execution_count": 5,
      "metadata": {
        "collapsed": false,
        "outputHidden": false,
        "inputHidden": false
      }
    },
    {
      "cell_type": "markdown",
      "source": [
        "Display angular modules in jupyter?\n",
        "\n"
      ],
      "metadata": {}
    },
    {
      "cell_type": "code",
      "source": [
        "$$.async();\n",
        "var execSync = require('child_process').execSync;\n",
        "try {\n",
        "    require.resolve('npm');\n",
        "} catch (e) {\n",
        "    execSync('npm install npm');\n",
        "}\n",
        "\n",
        "/*\n",
        "            return listProjects(project);\n",
        "        })\n",
        "        .then(r => {\n",
        "            project = r[path.basename(project)];\n",
        "*/\n",
        "var project = '~/Documents/new-portal';\n",
        "project = path.resolve(project.replace(/^~\\//ig, PROFILE_PATH + '\\/'));\n",
        "ng(path.dirname(project), ['new', '--skip-git', 'new-portal'])\n",
        "    .then(() => ng(project, [\n",
        "    'generate', 'module', '--spec', '--flat', 'AppServer']))\n",
        "    /*\n",
        "\n",
        "    \n",
        "            memfs.mkdirpSync(project);\n",
        "            memfs.writeFileSync(\n",
        "                path.join(project, 'angular-cli.json'),\n",
        "                data['angular-cli.json']);\n",
        "\n",
        "    */\n",
        "\n",
        "    .then(() => {\n",
        "        // set up project path\n",
        "        var previous = process.cwd();\n",
        "        process.chdir(project);\n",
        "        return new Promise((resolve, reject) => {\n",
        "            var npm = require('npm');\n",
        "\n",
        "            npm.load(function(err) {\n",
        "                // handle errors\n",
        "                if(err) {\n",
        "                    return reject(err);\n",
        "                }\n",
        "\n",
        "                console.log(project);\n",
        "                // install module ffi\n",
        "                npm.commands.init([], function(er, data) {\n",
        "                    process.chdir(previous);\n",
        "                    if(err) {\n",
        "                        reject(err);\n",
        "                    }\n",
        "                    // log errors or data\n",
        "                    resolve(data);\n",
        "                });\n",
        "\n",
        "                npm.on('log', function(message) {\n",
        "                    // log installation progress\n",
        "                    console.log(message);\n",
        "                });\n",
        "            });\n",
        "        });\n",
        "    })\n",
        "    //convertNgUniversal(project)\n",
        "    //    .then(() => ng(project, ['build', '--aot', '--prod']))\n",
        "    //.then(() => webpackAngularProject(project, memfs))\n",
        "    //.then(() => execCmd())\n",
        "    .then(r => {\n",
        "        var folder = data;\n",
        "        path.resolve(project)\n",
        "            .split(path.sep)\n",
        "            .filter((e, i) => i > 0 || e !== '')\n",
        "            .forEach(p => folder = folder[p]);\n",
        "        return folder;\n",
        "    })\n",
        "    .catch(e => console.log(e))\n",
        "    .then(r => $$.sendResult(r))\n"
      ],
      "outputs": [
        {
          "output_type": "stream",
          "name": "stdout",
          "text": [
            "installing ng\r\n",
            "  create .editorconfig\r\n",
            "  create README.md\r\n",
            "  create src\\app\\app.component.css\r\n",
            "  create src\\app\\app.component.html\r\n",
            "  create src\\app\\app.component.spec.ts\r\n",
            "  create src\\app\\app.component.ts\r\n",
            "  create src\\app\\app.module.ts\r\n",
            "  create src\\assets\\.gitkeep\r\n",
            "  create src\\environments\\environment.prod.ts\r\n",
            "  create src\\environments\\environment.ts\r\n",
            "  create src\\favicon.ico\r\n",
            "  create src\\index.html\r\n",
            "  create src\\main.ts\r\n",
            "  create src\\polyfills.ts\r\n",
            "  create src\\styles.css\r\n",
            "  create src\\test.ts\r\n",
            "  create src\\tsconfig.app.json\r\n",
            "  create src\\tsconfig.spec.json\r\n",
            "  create src\\typings.d.ts\r\n",
            "  create .angular-cli.json\r\n",
            "  create e2e\\app.e2e-spec.ts\r\n",
            "  create e2e\\app.po.ts\r\n",
            "  create e2e\\tsconfig.e2e.json\r\n",
            "  create karma.conf.js\r\n",
            "  create package.json\r\n",
            "  create protractor.conf.js\r\n",
            "  create tsconfig.json\r\n",
            "  create tslint.json\r\n",
            "Installing packages for tooling via npm.\r\n",
            "Installed packages for tooling via npm.\r\n",
            "Project 'new-portal' successfully created.\r\n",
            "Already imported\n",
            "[ 'import notebook.ipynb', 'interpret all notebooks.ipynb' ]\n",
            "installing module\r\n",
            "  create src\\app\\app-server.module.spec.ts\r\n",
            "  create src\\app\\app-server.module.ts\r\n",
            "  WARNING Module is generated but not provided, it must be provided to be used\r\n",
            "ReferenceError: memfs is not defined\n",
            "    at Promise (evalmachine.<anonymous>:36:13)\n",
            "    at ng.then.then (evalmachine.<anonymous>:34:16)\n",
            "    at process._tickCallback (internal/process/next_tick.js:103:7)\n"
          ]
        }
      ],
      "execution_count": 6,
      "metadata": {
        "collapsed": false,
        "outputHidden": false,
        "inputHidden": false
      }
    },
    {
      "cell_type": "code",
      "source": [],
      "outputs": [],
      "execution_count": 7,
      "metadata": {
        "collapsed": false,
        "outputHidden": false,
        "inputHidden": false
      }
    }
  ],
  "metadata": {
    "kernelspec": {
      "name": "node_nteract",
      "language": "javascript",
      "display_name": "Node.js (nteract)"
    },
    "kernel_info": {
      "name": "node_nteract"
    },
    "language_info": {
      "name": "javascript",
      "version": "6.5.0",
      "mimetype": "application/javascript",
      "file_extension": ".js"
    }
  },
  "nbformat": 4,
  "nbformat_minor": 4
}