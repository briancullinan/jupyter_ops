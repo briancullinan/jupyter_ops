{
  "cells": [
    {
      "cell_type": "markdown",
      "source": [
        "# How to build Angular components?\n",
        "\n",
        "How to create a mock filesystem?\n"
      ],
      "metadata": {}
    },
    {
      "cell_type": "code",
      "source": [
        "var execSync = require('child_process').execSync;\n",
        "try {\n",
        "    require.resolve('memory-fs');\n",
        "} catch (e) {\n",
        "    execSync('npm install memory-fs');\n",
        "}\n",
        "\n",
        "// first install angular cli\n",
        "var path = require('path');\n",
        "var MemoryFileSystem = require(\"memory-fs\");\n",
        "var data = {\n",
        "    'angular-cli.json': \n",
        "`\n",
        "{\n",
        "    \"project\": {\n",
        "        \"name\": \"act-ecommerce\"\n",
        "    },\n",
        "    \"apps\": [\n",
        "        {\n",
        "            \"root\": \"src\",\n",
        "            \"main\": \"main.ts\",\n",
        "            \"tsconfig\": \"../tsconfig.json\",\n",
        "            \"prefix\": \"bc\",\n",
        "            \"styles\": [],\n",
        "            \"scripts\": []\n",
        "        }\n",
        "    ]\n",
        "}\n",
        "`\n",
        "};\n",
        "var memfs = new MemoryFileSystem(data);\n",
        "(data);  // return blueprint\n",
        "\n"
      ],
      "outputs": [
        {
          "output_type": "execute_result",
          "execution_count": 1,
          "data": {
            "text/plain": [
              "{ 'angular-cli.json': '\\n{\\n    \"project\": {\\n        \"name\": \"act-ecommerce\"\\n    },\\n    \"apps\": [\\n        {\\n            \"root\": \"src\",\\n            \"main\": \"main.ts\",\\n            \"tsconfig\": \"../tsconfig.json\",\\n            \"prefix\": \"bc\",\\n            \"styles\": [],\\n            \"scripts\": []\\n        }\\n    ]\\n}\\n' }"
            ]
          },
          "metadata": {}
        }
      ],
      "execution_count": 1,
      "metadata": {
        "collapsed": false,
        "outputHidden": false,
        "inputHidden": false
      }
    },
    {
      "cell_type": "markdown",
      "source": [
        "Run angular-cli commands from nodejs?\n",
        "\n",
        "Add a component to the specified project using angular-cli?\n",
        "\n"
      ],
      "metadata": {}
    },
    {
      "cell_type": "code",
      "source": [
        "var execSync = require('child_process').execSync;\n",
        "try {\n",
        "    require.resolve('@angular/cli');\n",
        "} catch (e) {\n",
        "    execSync('npm install @angular/cli');\n",
        "}\n",
        "var PROFILE_PATH = process.env.HOME || process.env.HOMEPATH || process.env.USERPROFILE;\n",
        "\n",
        "// use utility/filesystem to mock all fs and typescript commands\n",
        "var mockTypescriptFs, mock;\n",
        "\n",
        "var importer = require('../Core');\n",
        "// call the CLI just like from command line\n",
        "var ng = (project, args = ['generate', 'component', 'test']) => {\n",
        "    // set up project path\n",
        "    var previous = process.cwd();\n",
        "    \n",
        "    var conf = {\n",
        "        cliArgs: args,\n",
        "        inputStream: process.stdin,\n",
        "        outputStream: process.stdout\n",
        "    };\n",
        "    \n",
        "    // execute\n",
        "    process.chdir(project);\n",
        "    return importer.interpretAll('memory-fs rewire')\n",
        "        .then(r => {\n",
        "            mockTypescriptFs = eval(\"'use strict';\" + r[0].code);\n",
        "            mock = mockTypescriptFs(memfs);\n",
        "    \n",
        "            // overlay out temp filesystem on top of current filesystem\n",
        "            memfs.mkdirpSync(project);\n",
        "            memfs.writeFileSync(\n",
        "                path.join(project, 'angular-cli.json'),\n",
        "                data['angular-cli.json']);\n",
        "                \n",
        "            var cli = require('@angular/cli');\n",
        "            return cli(conf);\n",
        "        })\n",
        "        // ng is mocked at this point\n",
        "        .then(r => {\n",
        "            process.chdir(previous);\n",
        "            mock.stopAll();\n",
        "            return data;\n",
        "        });\n",
        "}\n",
        "(ng);\n",
        "\n"
      ],
      "outputs": [
        {
          "output_type": "execute_result",
          "execution_count": 2,
          "data": {
            "text/plain": [
              "[Function: ng]"
            ]
          },
          "metadata": {}
        }
      ],
      "execution_count": 2,
      "metadata": {
        "collapsed": false,
        "outputHidden": false,
        "inputHidden": false
      }
    },
    {
      "cell_type": "markdown",
      "source": [
        "List projects by name?\n",
        "\n"
      ],
      "metadata": {}
    },
    {
      "cell_type": "code",
      "source": [
        "var execSync = require('child_process').execSync();\n",
        "try {\n",
        "    require.resolve('glob');\n",
        "} catch (e) {\n",
        "    execSync('glob');\n",
        "}\n",
        "var glob = require('glob');\n",
        "\n",
        "// But we also want to automatically load projects?\n",
        "var listProjects = (root = PROFILE_PATH) => {\n",
        "    return new Promise((resolve, reject) => {\n",
        "        glob('**/package.json', {\n",
        "            ignore: ['**/node_modules/**',\n",
        "                    '**/packages/**',\n",
        "                    '**/vendor/**',\n",
        "                    '/Users/**/Downloads/**',\n",
        "                    '/Users/**/Library/**',\n",
        "                    '/Users/**/Applications/**',\n",
        "                    '/Users/**/Music/**',\n",
        "                    '**/wp-content/**',\n",
        "                    '**/wp-includes/**',\n",
        "                    '**/Pods/**',\n",
        "                    '**/svn/**',\n",
        "                    '**/.git/**',\n",
        "                    '**/.vscode/**',\n",
        "                    '**/.npm/**',\n",
        "                    '**/Cache/**',\n",
        "                    '**/Creative Cloud Files/**'],\n",
        "            cwd: path.resolve(root),\n",
        "            silent: true,\n",
        "            nodir: true,\n",
        "            strict: false\n",
        "        }, (err, matches) => {\n",
        "            var result = {};\n",
        "            matches.forEach(m => {\n",
        "                var projectPath = path.dirname(path.join(root, m));\n",
        "                result[path.basename(projectPath)] = projectPath;\n",
        "            })\n",
        "            return resolve(result);\n",
        "        });\n",
        "    });\n",
        "};\n",
        "(listProjects);\n",
        "\n"
      ],
      "outputs": [
        {
          "output_type": "execute_result",
          "execution_count": 4,
          "data": {
            "text/plain": [
              "[Function: listProjects]"
            ]
          },
          "metadata": {}
        }
      ],
      "execution_count": 3,
      "metadata": {
        "collapsed": false,
        "outputHidden": false,
        "inputHidden": false
      }
    },
    {
      "cell_type": "markdown",
      "source": [
        "Build angular modules from nodejs?\n",
        "\n"
      ],
      "metadata": {}
    },
    {
      "cell_type": "code",
      "source": [
        "// Wouldn't it be nice if we could list these projects as interactive icons?\n",
        "var fs = require('fs');\n",
        "var convertNgUniversal = (project = '~/Documents/portal') => {\n",
        "    return ng(project, ['generate', 'module', '--spec', '--flat', 'AppServer'])\n",
        "    .then(() => {\n",
        "        var serverModulePath = project + '/src/app/app-server.module.ts';\n",
        "        var app_server = memfs.readFileSync(serverModulePath).toString();\n",
        "        app_server = app_server.replace('CommonModule', `ServerModule,\n",
        "AppModule\n",
        "],\n",
        "bootstrap: [\n",
        "\t  AppComponent\n",
        "`);\n",
        "        memfs.writeFileSync(serverModulePath, app_server);\n",
        "\n\n",
        "        var appModulePath = project + '/src/app/app.module.ts';\n",
        "        var app_module = fs.readFileSync(appModulePath).toString();\n",
        "        app_module = app_module.replace('BrowserModule,',` BrowserModule.withServerTransition({\n",
        "            appId: 'universal-demo-app'\n",
        "        }),\n",
        "`);\n",
        "        return importer.getCells('./angular universal.ipynb')\n",
        "    })\n",
        "    .then(cells => {\n",
        "        var appServerPath = project + '/src/main.server.ts';\n",
        "        memfs.writeFileSync(appServerPath, cells.join('\\n'));\n",
        "    })\n",
        "};\n",
        "(convertNgUniversal);\n",
        "\n"
      ],
      "outputs": [
        {
          "output_type": "execute_result",
          "execution_count": 4,
          "data": {
            "text/plain": [
              "[Function: convertNgUniversal]"
            ]
          },
          "metadata": {}
        }
      ],
      "execution_count": 4,
      "metadata": {
        "collapsed": false,
        "outputHidden": false,
        "inputHidden": false
      }
    },
    {
      "cell_type": "markdown",
      "source": [
        "Compile the project if needed?"
      ],
      "metadata": {}
    },
    {
      "cell_type": "code",
      "source": [
        "var execSync = require('child_process').execSync;\n",
        "try {\n",
        "    require.resolve('webpack');\n",
        "    require.resolve('@ngtools/webpack');\n",
        "} catch (e) {\n",
        "    execSync('npm install webpack @ngtools/webpack');\n",
        "}\n",
        "\n",
        "// source https://github.com/christianalfoni/webpack-bin/issues/106\n",
        "var webpackAngularProject = (project, memfs) => {\n",
        "    // set up project path\n",
        "    var previous = process.cwd();\n",
        "    process.chdir(project);\n",
        "    module.paths.unshift(project + '/node_modules');\n",
        "    \n",
        "    var webpack = require('webpack');\n",
        "    var ngtools = require('@ngtools/webpack');\n",
        "\n",
        "    var conf = {\n",
        "        entry: {\n",
        "            main: './src/main.server.ts'\n",
        "        },\n",
        "        resolve: {\n",
        "          extensions: ['.ts', '.js']\n",
        "        },\n",
        "        target: 'node',\n",
        "        output: {\n",
        "            path: process.cwd() + '/dist',\n",
        "            filename: '[name].js'\n",
        "        },\n",
        "        plugins: [\n",
        "            new ngtools.AotPlugin({\n",
        "                tsConfigPath: process.cwd() + '/tsconfig.json',\n",
        "            })\n",
        "        ],\n",
        "        module: {\n",
        "            rules: [\n",
        "                {\n",
        "                  test: /\\.ts$/,\n",
        "                  loader: '@ngtools/webpack',\n",
        "                }\n",
        "            ]\n",
        "        }\n",
        "    }\n",
        "\n",
        "    var compiler = webpack(conf);\n",
        "\n",
        "    compiler.inputFileSystem = memfs;\n",
        "    compiler.outputFileSystem = memfs;\n",
        "    compiler.resolvers.normal.fileSystem = memfs;\n",
        "    compiler.resolvers.context.fileSystem = memfs;\n",
        "\n",
        "    return new Promise((resolve, reject) => {\n",
        "        compiler.run(function(err, stats) {\n",
        "            process.chdir(previous);\n",
        "            if (err) reject(err);\n",
        "            resolve(eval(stats.compilation.assets['main.js'].source()));\n",
        "        });\n",
        "    });\n",
        "}\n",
        "(webpackAngularProject);\n"
      ],
      "outputs": [
        {
          "output_type": "execute_result",
          "execution_count": 5,
          "data": {
            "text/plain": [
              "[Function: webpackAngularProject]"
            ]
          },
          "metadata": {}
        }
      ],
      "execution_count": 5,
      "metadata": {
        "collapsed": false,
        "outputHidden": false,
        "inputHidden": false
      }
    },
    {
      "cell_type": "markdown",
      "source": [
        "Display angular modules in jupyter?\n",
        "\n"
      ],
      "metadata": {}
    },
    {
      "cell_type": "code",
      "source": [
        "$$.async();\n",
        "\n",
        "/*\n",
        "            return listProjects(project);\n",
        "        })\n",
        "        .then(r => {\n",
        "            project = r[path.basename(project)];\n",
        "*/\n",
        "\n",
        "var project = '~/Documents/portal';\n",
        "project = project.replace(/^~\\//ig, PROFILE_PATH + '\\/');\n",
        "\n",
        "convertNgUniversal(project)\n",
        "//    .then(() => ng(project, ['build', '--aot', '--prod']))\n",
        "    .then(() => webpackAngularProject(project, memfs))\n",
        "    //.then(() => execCmd())\n",
        "    .then(r => {\n",
        "        console.log(r);\n",
        "        var data = memfs.data;\n",
        "        path.resolve(project)\n",
        "            .split(path.sep)\n",
        "            .filter((e, i) => i > 0 || e !== '')\n",
        "            .forEach(p => data = data[p]);\n",
        "        return data;\n",
        "    })\n",
        "    .catch(e => console.log(e))\n",
        "    .then(r => $$.sendResult(r))\n"
      ],
      "outputs": [
        {
          "output_type": "stream",
          "name": "stdout",
          "text": [
            "installing module\n",
            "  create src/app/app-server.module.spec.ts\n",
            "  create src/app/app-server.module.ts\n",
            "  WARNING Module is generated but not provided, it must be provided to be used\n"
          ]
        },
        {
          "output_type": "stream",
          "name": "stderr",
          "text": [
            "Error: Module build failed: TypeError: Cannot read property 'length' of undefined\n",
            "    at createSourceFile (/Users/briancullinan/Documents/portal/node_modules/typescript/lib/typescript.js:15457:109)\n",
            "    at parseSourceFileWorker (/Users/briancullinan/Documents/portal/node_modules/typescript/lib/typescript.js:15389:26)\n",
            "    at Object.parseSourceFile (/Users/briancullinan/Documents/portal/node_modules/typescript/lib/typescript.js:15338:26)\n",
            "    at Object.createSourceFile (/Users/briancullinan/Documents/portal/node_modules/typescript/lib/typescript.js:15192:29)\n",
            "    at new TypeScriptFileRefactor (/Users/briancullinan/Documents/portal/node_modules/@ngtools/webpack/src/refactor.js:29:35)\n",
            "    at Object.ngcLoader (/Users/briancullinan/Documents/portal/node_modules/@ngtools/webpack/src/loader.js:340:26)\n",
            "    at Object.eval (eval at <anonymous> (evalmachine.<anonymous>:57:21), <anonymous>:73:7)\n",
            "    at __webpack_require__ (eval at <anonymous> (evalmachine.<anonymous>:57:21), <anonymous>:20:30)\n",
            "    at eval (eval at <anonymous> (evalmachine.<anonymous>:57:21), <anonymous>:66:18)\n",
            "    at eval (eval at <anonymous> (evalmachine.<anonymous>:57:21), <anonymous>:69:10)\n",
            "    at evalmachine.<anonymous>:57:21\n",
            "    at /Users/briancullinan/Documents/portal/node_modules/webpack/lib/Compiler.js:267:15\n",
            "    at Compiler.emitRecords (/Users/briancullinan/Documents/portal/node_modules/webpack/lib/Compiler.js:362:37)\n",
            "    at /Users/briancullinan/Documents/portal/node_modules/webpack/lib/Compiler.js:260:12\n",
            "    at /Users/briancullinan/Documents/portal/node_modules/webpack/lib/Compiler.js:355:11\n",
            "    at next (/Users/briancullinan/Documents/portal/node_modules/tapable/lib/Tapable.js:154:11)"
          ]
        }
      ],
      "execution_count": 6,
      "metadata": {
        "collapsed": false,
        "outputHidden": false,
        "inputHidden": false
      }
    },
    {
      "cell_type": "code",
      "source": [],
      "outputs": [],
      "execution_count": 7,
      "metadata": {
        "collapsed": false,
        "outputHidden": false,
        "inputHidden": false
      }
    }
  ],
  "metadata": {
    "kernelspec": {
      "name": "node_nteract",
      "language": "javascript",
      "display_name": "Node.js (nteract)"
    },
    "kernel_info": {
      "name": "node_nteract"
    },
    "language_info": {
      "name": "javascript",
      "version": "6.5.0",
      "mimetype": "application/javascript",
      "file_extension": ".js"
    }
  },
  "nbformat": 4,
  "nbformat_minor": 4
}