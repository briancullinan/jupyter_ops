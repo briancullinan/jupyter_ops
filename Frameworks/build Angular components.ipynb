{
 "cells": [
  {
   "cell_type": "markdown",
   "metadata": {},
   "source": [
    "# How to build Angular components?\n",
    "\n",
    "How to create a mock filesystem?\n"
   ]
  },
  {
   "cell_type": "code",
   "execution_count": 1,
   "metadata": {
    "collapsed": false,
    "inputHidden": false,
    "outputHidden": false
   },
   "outputs": [],
   "source": [
    "var execSync = require('child_process').execSync;\n",
    "// first install angular cli\n",
    "var path = require('path');\n",
    "var data = {\n",
    "    'angular-cli.json': \n",
    "`\n",
    "{\n",
    "    \"project\": {\n",
    "        \"name\": \"act-ecommerce\"\n",
    "    },\n",
    "    \"apps\": [\n",
    "        {\n",
    "            \"root\": \"src\",\n",
    "            \"main\": \"main.ts\",\n",
    "            \"tsconfig\": \"../tsconfig.json\",\n",
    "            \"prefix\": \"bc\",\n",
    "            \"styles\": [],\n",
    "            \"scripts\": []\n",
    "        }\n",
    "    ]\n",
    "}\n",
    "`\n",
    "};\n",
    "\n",
    "\n"
   ]
  },
  {
   "cell_type": "markdown",
   "metadata": {},
   "source": [
    "Run angular-cli commands from nodejs?\n",
    "\n",
    "Add a component to the specified project using angular-cli?\n",
    "\n"
   ]
  },
  {
   "cell_type": "code",
   "execution_count": 2,
   "metadata": {
    "collapsed": false,
    "inputHidden": false,
    "outputHidden": false
   },
   "outputs": [
    {
     "data": {
      "text/plain": [
       "[Function: ng]"
      ]
     },
     "execution_count": 2,
     "metadata": {},
     "output_type": "execute_result"
    }
   ],
   "source": [
    "var execSync = require('child_process').execSync;\n",
    "try {\n",
    "    require.resolve('@angular/cli');\n",
    "} catch (e) {\n",
    "    execSync('npm install @angular/cli');\n",
    "}\n",
    "\n",
    "// use utility/filesystem to mock all fs and typescript commands\n",
    "var mockTypescriptFs, mock, cli;\n",
    "\n",
    "var importer = require('../Core');\n",
    "// call the CLI just like from command line\n",
    "var ng = (project, args = ['generate', 'component', 'test']) => {\n",
    "    // set up project path\n",
    "    var previous = process.cwd();\n",
    "    \n",
    "    var conf = {\n",
    "        cliArgs: args,\n",
    "        inputStream: null,\n",
    "        outputStream: process.stdout\n",
    "    };\n",
    "    \n",
    "    // execute\n",
    "    return importer.interpretAll('memory-fs rewire')\n",
    "        .then(r => {\n",
    "            //if(typeof cli == 'undefined') {\n",
    "                mockTypescriptFs = eval(\"'use strict';\" + r[0].code);\n",
    "                // overlay out temp filesystem on top of current filesystem\n",
    "                mock = mockTypescriptFs(data);\n",
    "                cli = require('@angular/cli');\n",
    "            //}\n",
    "            process.chdir(project);\n",
    "            return cli(conf);\n",
    "        })\n",
    "        // ng is mocked at this point\n",
    "        .then(() => {\n",
    "            process.chdir(previous);\n",
    "            //mock.stopAll();\n",
    "            data = mock.data();\n",
    "            return mock.data();\n",
    "        });\n",
    "}\n",
    "(ng);\n",
    "\n"
   ]
  },
  {
   "cell_type": "markdown",
   "metadata": {},
   "source": [
    "List projects by name?\n",
    "\n"
   ]
  },
  {
   "cell_type": "code",
   "execution_count": 4,
   "metadata": {
    "collapsed": false,
    "inputHidden": false,
    "outputHidden": false
   },
   "outputs": [
    {
     "data": {
      "text/plain": [
       "[Function: listProjects]"
      ]
     },
     "execution_count": 4,
     "metadata": {},
     "output_type": "execute_result"
    }
   ],
   "source": [
    "var execSync = require('child_process').execSync();\n",
    "try {\n",
    "    require.resolve('glob');\n",
    "} catch (e) {\n",
    "    execSync('glob');\n",
    "}\n",
    "var glob = require('glob');\n",
    "\n",
    "// But we also want to automatically load projects?\n",
    "var listProjects = (root) => {\n",
    "    return new Promise((resolve, reject) => {\n",
    "        glob('**/package.json', {\n",
    "            ignore: ['**/node_modules/**',\n",
    "                    '**/packages/**',\n",
    "                    '**/vendor/**',\n",
    "                    '/Users/**/Downloads/**',\n",
    "                    '/Users/**/Library/**',\n",
    "                    '/Users/**/Applications/**',\n",
    "                    '/Users/**/Music/**',\n",
    "                    '**/wp-content/**',\n",
    "                    '**/wp-includes/**',\n",
    "                    '**/Pods/**',\n",
    "                    '**/svn/**',\n",
    "                    '**/.git/**',\n",
    "                    '**/.vscode/**',\n",
    "                    '**/.npm/**',\n",
    "                    '**/Cache/**',\n",
    "                    '**/Creative Cloud Files/**'],\n",
    "            cwd: path.resolve(root),\n",
    "            silent: true,\n",
    "            nodir: true,\n",
    "            strict: false\n",
    "        }, (err, matches) => {\n",
    "            var result = {};\n",
    "            matches.forEach(m => {\n",
    "                var projectPath = path.dirname(path.join(root, m));\n",
    "                result[path.basename(projectPath)] = projectPath;\n",
    "            })\n",
    "            return resolve(result);\n",
    "        });\n",
    "    });\n",
    "};\n",
    "(listProjects);\n",
    "\n"
   ]
  },
  {
   "cell_type": "markdown",
   "metadata": {},
   "source": [
    "Build angular modules from nodejs?\n",
    "\n"
   ]
  },
  {
   "cell_type": "code",
   "execution_count": 4,
   "metadata": {
    "collapsed": false,
    "inputHidden": false,
    "outputHidden": false
   },
   "outputs": [
    {
     "data": {
      "text/plain": [
       "[Function: convertNgUniversal]"
      ]
     },
     "execution_count": 4,
     "metadata": {},
     "output_type": "execute_result"
    }
   ],
   "source": [
    "// Wouldn't it be nice if we could list these projects as interactive icons?\n",
    "var fs = require('fs');\n",
    "var convertNgUniversal = (project) => {\n",
    "    return ng(project, ['generate', 'module', '--spec', '--flat', 'AppServer'])\n",
    "    .then(() => {\n",
    "        var serverModulePath = project + '/src/app/app-server.module.ts';\n",
    "        var app_server = memfs.readFileSync(serverModulePath).toString();\n",
    "        app_server = app_server.replace('CommonModule', `ServerModule,\n",
    "AppModule\n",
    "],\n",
    "bootstrap: [\n",
    "\t  AppComponent\n",
    "`);\n",
    "        memfs.writeFileSync(serverModulePath, app_server);\n",
    "\n",
    "\n",
    "        var appModulePath = project + '/src/app/app.module.ts';\n",
    "        var app_module = fs.readFileSync(appModulePath).toString();\n",
    "        app_module = app_module.replace('BrowserModule,',` BrowserModule.withServerTransition({\n",
    "            appId: 'universal-demo-app'\n",
    "        }),\n",
    "`);\n",
    "        return importer.getCells('./angular universal.ipynb')\n",
    "    })\n",
    "    .then(cells => {\n",
    "        var appServerPath = project + '/src/main.server.ts';\n",
    "        memfs.writeFileSync(appServerPath, cells.join('\\n'));\n",
    "    })\n",
    "};\n",
    "(convertNgUniversal);\n",
    "\n"
   ]
  },
  {
   "cell_type": "markdown",
   "metadata": {},
   "source": [
    "Compile the project if needed?"
   ]
  },
  {
   "cell_type": "code",
   "execution_count": 5,
   "metadata": {
    "collapsed": false,
    "inputHidden": false,
    "outputHidden": false
   },
   "outputs": [
    {
     "data": {
      "text/plain": [
       "[Function: webpackAngularProject]"
      ]
     },
     "execution_count": 5,
     "metadata": {},
     "output_type": "execute_result"
    }
   ],
   "source": [
    "var execSync = require('child_process').execSync;\n",
    "try {\n",
    "    require.resolve('webpack');\n",
    "    require.resolve('@ngtools/webpack');\n",
    "} catch (e) {\n",
    "    execSync('npm install webpack @ngtools/webpack');\n",
    "}\n",
    "\n",
    "// source https://github.com/christianalfoni/webpack-bin/issues/106\n",
    "var webpackAngularProject = (project, memfs) => {\n",
    "    // set up project path\n",
    "    var previous = process.cwd();\n",
    "    process.chdir(project);\n",
    "    module.paths.unshift(project + '/node_modules');\n",
    "    \n",
    "    var webpack = require('webpack');\n",
    "    var ngtools = require('@ngtools/webpack');\n",
    "\n",
    "    var conf = {\n",
    "        entry: {\n",
    "            main: './src/main.server.ts'\n",
    "        },\n",
    "        resolve: {\n",
    "          extensions: ['.ts', '.js']\n",
    "        },\n",
    "        target: 'node',\n",
    "        output: {\n",
    "            path: process.cwd() + '/dist',\n",
    "            filename: '[name].js'\n",
    "        },\n",
    "        plugins: [\n",
    "            new ngtools.AotPlugin({\n",
    "                tsConfigPath: process.cwd() + '/tsconfig.json',\n",
    "            })\n",
    "        ],\n",
    "        module: {\n",
    "            rules: [\n",
    "                {\n",
    "                  test: /\\.ts$/,\n",
    "                  loader: '@ngtools/webpack',\n",
    "                }\n",
    "            ]\n",
    "        }\n",
    "    }\n",
    "\n",
    "    var compiler = webpack(conf);\n",
    "\n",
    "    compiler.inputFileSystem = memfs;\n",
    "    compiler.outputFileSystem = memfs;\n",
    "    compiler.resolvers.normal.fileSystem = memfs;\n",
    "    compiler.resolvers.context.fileSystem = memfs;\n",
    "\n",
    "    return new Promise((resolve, reject) => {\n",
    "        compiler.run(function(err, stats) {\n",
    "            process.chdir(previous);\n",
    "            if (err) reject(err);\n",
    "            resolve(eval(stats.compilation.assets['main.js'].source()));\n",
    "        });\n",
    "    });\n",
    "}\n",
    "(webpackAngularProject);\n"
   ]
  },
  {
   "cell_type": "markdown",
   "metadata": {},
   "source": []
  },
  {
   "cell_type": "code",
   "execution_count": 6,
   "metadata": {
    "collapsed": false,
    "inputHidden": false,
    "outputHidden": false
   },
   "outputs": [
    {
     "data": {
      "text/plain": [
       "[Function: npm]"
      ]
     },
     "execution_count": 6,
     "metadata": {},
     "output_type": "execute_result"
    }
   ],
   "source": [
    "var npm = (project, args, conf) => {\n",
    "    var previous = process.cwd();\n",
    "    process.chdir(project);\n",
    "    return importer\n",
    "        .interpretAll('memory-fs rewire')\n",
    "        .then(r => {\n",
    "        // set up project path\n",
    "        return new Promise((resolve, reject) => {\n",
    "            mockTypescriptFs = eval(\"'use strict';\" + r[0].code);\n",
    "            // overlay out temp filesystem on top of current filesystem\n",
    "            mock = mockTypescriptFs(data);\n",
    "            var fs = mock.reRequire('fs');\n",
    "\n",
    "            cli = require('npm');\n",
    "            cli.load(conf, (err) => {\n",
    "                // handle errors\n",
    "                if(err) {\n",
    "                    return reject(err);\n",
    "                }\n",
    "\n",
    "                // install module\n",
    "                cli.commands[args[0]](args.slice(1), (er, data) => {\n",
    "                    if(err) {\n",
    "                        reject(err);\n",
    "                    }\n",
    "                    // log errors or data\n",
    "                    resolve(data);\n",
    "                });\n",
    "\n",
    "                cli.on('log', (message) => {\n",
    "                    // log installation progress\n",
    "                    console.log(message);\n",
    "                });\n",
    "            });\n",
    "        });\n",
    "    })\n",
    "    .then((r => {\n",
    "        process.chdir(previous);\n",
    "        data = mock.data();\n",
    "\n",
    "        return r;\n",
    "    }));\n",
    "};\n",
    "(npm);\n"
   ]
  },
  {
   "cell_type": "markdown",
   "metadata": {},
   "source": [
    "Display angular modules in jupyter?\n",
    "\n"
   ]
  },
  {
   "cell_type": "code",
   "execution_count": null,
   "metadata": {
    "collapsed": false,
    "inputHidden": false,
    "outputHidden": false
   },
   "outputs": [
    {
     "name": "stdout",
     "output_type": "stream",
     "text": [
      "installing ng\n",
      "  create .editorconfig\n",
      "  create README.md\n",
      "  create src/app/app.component.css\n",
      "  create src/app/app.component.html\n",
      "  create src/app/app.component.spec.ts\n",
      "  create src/app/app.component.ts\n",
      "  create src/app/app.module.ts\n",
      "  create src/assets/.gitkeep\n",
      "  create src/environments/environment.prod.ts\n",
      "  create src/environments/environment.ts\n",
      "  create src/favicon.ico\n",
      "  create src/index.html\n",
      "  create src/main.ts\n",
      "  create src/polyfills.ts\n",
      "  create src/styles.css\n",
      "  create src/test.ts\n",
      "  create src/tsconfig.app.json\n",
      "  create src/tsconfig.spec.json\n",
      "  create src/typings.d.ts\n",
      "  create .angular-cli.json\n",
      "  create e2e/app.e2e-spec.ts\n",
      "  create e2e/app.po.ts\n",
      "  create e2e/tsconfig.e2e.json\n",
      "  create karma.conf.js\n",
      "  create package.json\n",
      "  create protractor.conf.js\n",
      "  create tsconfig.json\n",
      "  create tslint.json\n",
      "Installing packages for tooling via npm.\n",
      "Installed packages for tooling via npm.\n",
      "Project 'new-portal' successfully created.\n",
      "Already imported\n",
      "[ 'import notebook.ipynb', 'interpret all notebooks.ipynb' ]\n",
      "installing module\n",
      "  create src/app/app-server.module.spec.ts\n",
      "  create src/app/app-server.module.ts\n",
      "  WARNING Module is generated but not provided, it must be provided to be used\n",
      "Already imported\n",
      "[ 'import notebook.ipynb', 'interpret all notebooks.ipynb' ]\n",
      "open (/Users/briancullinan/.npm/_cacache/content-v2/sha512/bc/01/e12d70dabf931747c0d1c119db83bc577c2aee25be71dc93753003be3efcca7394a755842d4a99f373f35f379291aec795a69028254bb540044d4696e61c) \n",
      "open (/Users/briancullinan/.npm/_cacache/content-v2/sha512/28/e8/54a882f524df6130b1cfbd0fd45133dca28c864cb05ed8fc0e52014a122fe33504c7ef81276007c537f7db9722dd6d9c5ec7f09be2279918dd5af3aee857) \n",
      "open (/Users/briancullinan/.npm/_cacache/content-v2/sha512/99/e3/7d90de07fa34f724d5f3ef8e66fbdb69d9778237b937fd4384c6d8ed780e18e3521855f62f30ce5acd3e43166c779818b37f48cf67c59e0da771d1f406e0) \n",
      "open (/Users/briancullinan/.npm/_cacache/content-v2/sha512/02/09/5edb4c5676747f08d51d0f22487badae36df8e6d410563319ef0189e4fb9140022a977563ac426ef4c46ac5ced6e505e7a2d6892e07e95aebc79e40ec4fa) \n"
     ]
    },
    {
     "name": "stderr",
     "output_type": "stream",
     "text": [
      "npm WARN registry Unexpected warning for https://registry.npmjs.org/: Miscellaneous Warning ENODATA: Cache input stream was empty\n",
      "npm WARN registry Using stale package data from https://registry.npmjs.org/ due to a request error during revalidation.\n"
     ]
    },
    {
     "name": "stdout",
     "output_type": "stream",
     "text": [
      "open (/Users/briancullinan/.npm/_cacache/tmp/f0e4a106) \n"
     ]
    },
    {
     "name": "stderr",
     "output_type": "stream",
     "text": [
      "Unhandled rejection Error: EBADF: bad file descriptor, write\n",
      "    at Object.fs.writeSync (fs.js:744:20)\n",
      "    at SyncWriteStream._write (internal/fs.js:75:6)\n",
      "    at doWrite (_stream_writable.js:329:12)\n",
      "    at writeOrBuffer (_stream_writable.js:315:5)\n",
      "    at SyncWriteStream.Writable.write (_stream_writable.js:241:11)\n",
      "    at Stdout.ondata (_stream_readable.js:555:20)\n",
      "    at emitOne (events.js:96:13)\n",
      "    at Stdout.emit (events.js:191:7)\n",
      "    at readableAddChunk (_stream_readable.js:176:18)\n",
      "    at Stdout.Readable.push (_stream_readable.js:134:10)\n",
      "    at Stdout.Transform.push (_stream_transform.js:128:32)\n",
      "    at Stdout._transform ([eval]:65:14)\n",
      "    at Stdout.Transform._read (_stream_transform.js:167:10)\n",
      "    at Stdout.Transform._write (_stream_transform.js:155:12)\n",
      "    at doWrite (_stream_writable.js:329:12)\n",
      "    at writeOrBuffer (_stream_writable.js:315:5)\n",
      "Unhandled rejection Error: ENOENT: no such file or directory, link '/Users/briancullinan/.npm/_cacache/tmp/7536a111' -> '/Users/briancullinan/.npm/_cacache/content-v2/sha512/c9/9f/aae10a42d56a51efee6da4475762f243b2ead47191397e0db63a582c8a7407bd61c403ba2ba74655ee58c6cf9376af389f94a3227343490a59182e3b978d'\n",
      "Unhandled rejection Error: ENOENT: no such file or directory, link '/Users/briancullinan/.npm/_cacache/tmp/0e79462d' -> '/Users/briancullinan/.npm/_cacache/content-v2/sha512/57/d1/c891ae0f481b6201fb970cf0ddcc011da9d267d081267811bd8d283f37067dad0097137e81c7ecc7306715249ea0dc1f9d77c5ed110c60908a5f0afc26c0'\n"
     ]
    }
   ],
   "source": [
    "var fs = require('fs');\n",
    "var execSync = require('child_process').execSync;\n",
    "try {\n",
    "    require.resolve('npm');\n",
    "} catch (e) {\n",
    "    execSync('npm install npm');\n",
    "}\n",
    "\n",
    "/*\n",
    "            return listProjects(project);\n",
    "        })\n",
    "        .then(r => {\n",
    "            project = r[path.basename(project)];\n",
    "*/\n",
    "var PROFILE_PATH = process.env.HOME || process.env.HOMEPATH || process.env.USERPROFILE;\n",
    "var project = PROFILE_PATH + '/Documents/new-portal';\n",
    "if(!fs.existsSync(project)) {\n",
    "    fs.mkdirSync(project);\n",
    "}\n",
    "\n",
    "\n",
    "$$.async();\n",
    "Promise.resolve([])\n",
    "ng(path.dirname(project), ['new', '--skip-git', 'new-portal'])\n",
    "    .then(() => ng(project, [\n",
    "    'generate', 'module', '--spec', '--flat', 'AppServer']))\n",
    "    /*\n",
    "\n",
    "    \n",
    "            memfs.mkdirpSync(project);\n",
    "            memfs.writeFileSync(\n",
    "                path.join(project, 'angular-cli.json'),\n",
    "                data['angular-cli.json']);\n",
    "\n",
    "    */\n",
    "    .then(() => npm(project, ['install'], {'bin-links': false, verbose: true, prefix: project}))\n",
    "    //.then(() => npm(project, ['list'], {prefix: project}))\n",
    "    //.then(() => npm(project, ['prefix'], {prefix: project}))\n",
    "    .then(p => {\n",
    "        if (p !== project) {\n",
    "            //throw p + ' != ' + project;\n",
    "        }\n",
    "    })\n",
    "    //convertNgUniversal(project)\n",
    "    //    .then(() => ng(project, ['build', '--aot', '--prod']))\n",
    "    //.then(() => webpackAngularProject(project, memfs))\n",
    "    //.then(() => execCmd())\n",
    "    .then(r => {\n",
    "        var folder = data;\n",
    "        path.resolve(project)\n",
    "            .split(path.sep)\n",
    "            .filter((e, i) => i > 0 || e !== '')\n",
    "            .forEach(p => folder = folder[p]);\n",
    "        return folder;\n",
    "    })\n",
    "    .catch(e => $$.sendError(e))\n",
    "    .then(r => $$.sendResult(r))\n"
   ]
  },
  {
   "cell_type": "code",
   "execution_count": null,
   "metadata": {
    "collapsed": false,
    "inputHidden": false,
    "outputHidden": false
   },
   "outputs": [],
   "source": []
  },
  {
   "cell_type": "code",
   "execution_count": null,
   "metadata": {
    "collapsed": false,
    "inputHidden": false,
    "outputHidden": false
   },
   "outputs": [],
   "source": []
  }
 ],
 "metadata": {
  "kernel_info": {
   "name": "node_nteract"
  },
  "kernelspec": {
   "display_name": "Javascript (Node.js)",
   "language": "javascript",
   "name": "javascript"
  },
  "language_info": {
   "file_extension": ".js",
   "mimetype": "application/javascript",
   "name": "javascript",
   "version": "7.7.2"
  }
 },
 "nbformat": 4,
 "nbformat_minor": 4
}
