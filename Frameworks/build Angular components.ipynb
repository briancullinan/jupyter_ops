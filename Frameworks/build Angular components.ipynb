{
 "cells": [
  {
   "cell_type": "markdown",
   "metadata": {},
   "source": [
    "# How to build Angular components?\n",
    "\n",
    "How to create a mock filesystem?\n"
   ]
  },
  {
   "cell_type": "markdown",
   "metadata": {},
   "source": [
    "Run angular-cli commands from nodejs?\n",
    "\n",
    "Add a component to the specified project using angular-cli?\n",
    "\n"
   ]
  },
  {
   "cell_type": "code",
   "execution_count": 1,
   "metadata": {
    "collapsed": false,
    "inputHidden": false,
    "outputHidden": false
   },
   "outputs": [
    {
     "data": {
      "text/plain": [
       "[Function: ng]"
      ]
     },
     "execution_count": 1,
     "metadata": {},
     "output_type": "execute_result"
    }
   ],
   "source": [
    "var execSync = require('child_process').execSync;\n",
    "try {\n",
    "    require.resolve('@angular/cli');\n",
    "} catch (e) {\n",
    "    execSync('npm install @angular/cli');\n",
    "}\n",
    "\n",
    "// use utility/filesystem to mock all fs and typescript commands\n",
    "var mockTypescriptFs, cli;\n",
    "\n",
    "var importer = require('../Core');\n",
    "// call the CLI just like from command line\n",
    "var ng = (project, args = ['generate', 'component', 'test']) => {\n",
    "    // set up project path\n",
    "    var previous = process.cwd();\n",
    "    \n",
    "    var conf = {\n",
    "        cliArgs: args,\n",
    "        inputStream: null,\n",
    "        outputStream: process.stdout\n",
    "    };\n",
    "    \n",
    "    // execute\n",
    "    return importer.interpretAll('memory-fs rewire')\n",
    "        .then(r => {\n",
    "            if(typeof mockTypescriptFs == 'undefined') {\n",
    "                mockTypescriptFs = eval(\"'use strict';\" + r[0].code);\n",
    "                // overlay out temp filesystem on top of current filesystem\n",
    "                mockTypescriptFs(project);\n",
    "                cli = require('@angular/cli');\n",
    "            }\n",
    "            process.chdir(project);\n",
    "            return cli(conf);\n",
    "        });\n",
    "};\n",
    "ng;\n",
    "\n"
   ]
  },
  {
   "cell_type": "markdown",
   "metadata": {},
   "source": [
    "List files in a project excluding some excessive searches locations?"
   ]
  },
  {
   "cell_type": "code",
   "execution_count": 2,
   "metadata": {},
   "outputs": [
    {
     "data": {
      "text/plain": [
       "[Function: listInProject]"
      ]
     },
     "execution_count": 2,
     "metadata": {},
     "output_type": "execute_result"
    }
   ],
   "source": [
    "\n",
    "// But we also want to automatically load projects?\n",
    "var listInProject = (root, match = '**/package.json') => {\n",
    "    return new Promise((resolve, reject) => {\n",
    "        glob(match, {\n",
    "            ignore: ['**/node_modules/**',\n",
    "                    '**/packages/**',\n",
    "                    '**/vendor/**',\n",
    "                    '/Users/**/Downloads/**',\n",
    "                    '/Users/**/Library/**',\n",
    "                    '/Users/**/Applications/**',\n",
    "                    '/Users/**/Music/**',\n",
    "                    '**/wp-content/**',\n",
    "                    '**/wp-includes/**',\n",
    "                    '**/Pods/**',\n",
    "                    '**/svn/**',\n",
    "                    '**/.git/**',\n",
    "                    '**/.vscode/**',\n",
    "                    '**/.npm/**',\n",
    "                    '**/Cache/**',\n",
    "                    '**/Creative Cloud Files/**'],\n",
    "            cwd: path.resolve(root),\n",
    "            silent: true,\n",
    "            nodir: true,\n",
    "            strict: false\n",
    "        }, (err, matches) => {\n",
    "            if(err) {\n",
    "                return reject(err);\n",
    "            }\n",
    "            return resolve(matches);\n",
    "        });\n",
    "    })\n",
    "    .then(matches => matches.map(m => path.join(root, m)));\n",
    "};\n",
    "listInProject;\n",
    "\n"
   ]
  },
  {
   "cell_type": "markdown",
   "metadata": {},
   "source": [
    "List projects by name?\n",
    "\n"
   ]
  },
  {
   "cell_type": "code",
   "execution_count": 4,
   "metadata": {
    "collapsed": false,
    "inputHidden": false,
    "outputHidden": false
   },
   "outputs": [
    {
     "data": {
      "text/plain": [
       "[Function: listProjects]"
      ]
     },
     "execution_count": 4,
     "metadata": {},
     "output_type": "execute_result"
    }
   ],
   "source": [
    "var execSync = require('child_process').execSync();\n",
    "try {\n",
    "    require.resolve('glob');\n",
    "} catch (e) {\n",
    "    execSync('glob');\n",
    "}\n",
    "var glob = require('glob');\n",
    "\n",
    "// But we also want to automatically load projects?\n",
    "var listProjects = (root, match = '**/package.json') => {\n",
    "    listInProject\n",
    "        .then(matches => matches.forEach(m => {\n",
    "            var projectPath = path.dirname(path.join(root, m));\n",
    "            result[path.basename(projectPath)] = projectPath;\n",
    "        }));\n",
    "};\n",
    "listProjects;\n",
    "\n"
   ]
  },
  {
   "cell_type": "markdown",
   "metadata": {},
   "source": [
    "Compile the project using webpack?"
   ]
  },
  {
   "cell_type": "code",
   "execution_count": 4,
   "metadata": {
    "collapsed": false,
    "inputHidden": false,
    "outputHidden": false
   },
   "outputs": [
    {
     "data": {
      "text/plain": [
       "[Function: webpackAngularProject]"
      ]
     },
     "execution_count": 4,
     "metadata": {},
     "output_type": "execute_result"
    }
   ],
   "source": [
    "var execSync = require('child_process').execSync;\n",
    "    try {\n",
    "    require.resolve('webpack');\n",
    "} catch (e) {\n",
    "    execSync('npm install webpack');\n",
    "}\n",
    "\n",
    "// source https://github.com/christianalfoni/webpack-bin/issues/106\n",
    "var webpackAngularProject = (project) => {\n",
    "    // set up project path\n",
    "    var previous = process.cwd();\n",
    "    process.chdir(project);\n",
    "    module.paths.unshift(project + '/node_modules');\n",
    "    \n",
    "    var webpack = require('webpack');\n",
    "    var webpackConfig = require(path.join(project, 'webpack.config.js'));\n",
    "    var gulp = require(path.join(project, 'config', 'gulp-helpers.js'));\n",
    "    var settings = gulp.loadSettings(require(path.join(project, 'config', 'build-config.json')));\n",
    "    var config = webpackConfig({\n",
    "          env: 'prod',\n",
    "          platform: 'server'\n",
    "        }, gulp.root, settings);\n",
    "    var compiler = webpack(config);\n",
    "\n",
    "    // TODO: do we need this since it is already mocked in angular-cli\n",
    "    //mockTypescriptFs = eval(\"'use strict';\" + r[0].code);\n",
    "    //mockTypescriptFs(project, data);\n",
    "    //compiler.inputFileSystem = memfs;\n",
    "    //compiler.outputFileSystem = memfs;\n",
    "    //compiler.resolvers.normal.fileSystem = memfs;\n",
    "    //compiler.resolvers.context.fileSystem = memfs;\n",
    "\n",
    "    return new Promise((resolve, reject) => {\n",
    "        compiler.run(function(err, stats) {\n",
    "            process.chdir(previous);\n",
    "            if (err) return reject(err);\n",
    "            resolve(stats.compilation.assets['server.js'].source());\n",
    "        });\n",
    "    });\n",
    "};\n",
    "webpackAngularProject;\n"
   ]
  },
  {
   "cell_type": "markdown",
   "metadata": {},
   "source": [
    "Include the script in the response?"
   ]
  },
  {
   "cell_type": "code",
   "execution_count": null,
   "metadata": {},
   "outputs": [],
   "source": [
    "var getScriptsAndStyles = (content, additional = '0.*.js') => {\n",
    "    var output = content.match(/<style.*?\\/style>/ig) || '';\n",
    "    var scripts = ``;\n",
    "    \n",
    "    var m, re = (/<link.*?>/ig);\n",
    "    while (m = re.exec(content)) {\n",
    "        var src;\n",
    "        if((src = (/href=\"(.*?)\"/ig).exec(m[0])) != null && src[1].indexOf('google') == -1) {\n",
    "            scripts += '<style>' + fs.readFileSync(path.join(project, 'public', src[1])) + '</style>';\n",
    "        } else {\n",
    "            scripts += m[0];\n",
    "        }\n",
    "    }\n",
    "    \n",
    "    var m, re = (/<script.*?\\/script>/ig);\n",
    "    while (m = re.exec(content)) {\n",
    "        var src;\n",
    "        if((src = (/src=\"(.*?)\"/ig).exec(m[0])) != null) {\n",
    "            scripts += '<script defer>' \n",
    "                + fs.readFileSync(path.join(project, 'public', src[1]))\n",
    "                + '</script>';\n",
    "        } else {\n",
    "            scripts += m[0];\n",
    "        }\n",
    "    }\n",
    "    \n",
    "    return output+scripts;\n",
    "};\n",
    "getScriptsAndStyles;\n",
    "\n"
   ]
  },
  {
   "cell_type": "markdown",
   "metadata": {},
   "source": [
    "Display angular modules in jupyter?\n",
    "\n"
   ]
  },
  {
   "cell_type": "code",
   "execution_count": 1,
   "metadata": {
    "collapsed": false,
    "inputHidden": false,
    "outputHidden": false
   },
   "outputs": [
    {
     "data": {
      "text/plain": [
       "[Function: displAngular]"
      ]
     },
     "execution_count": 1,
     "metadata": {},
     "output_type": "execute_result"
    }
   ],
   "source": [
    "var importer = require('../Core');\n",
    "var vm = require('vm');\n",
    "var fs = require('fs');\n",
    "var path = require(\"path\");\n",
    "\n",
    "var renderer;\n",
    "var displAngular = (project, url) => {\n",
    "    var innerHtml = '';\n",
    "    process.chdir(path.join(project));\n",
    "    module.paths.unshift(path.join(project, 'node_modules'));\n",
    "    require('module').Module._initPaths();\n",
    "    process.argv = [(process.argv0 = path.join(project, '.server', 'render-service.js'))];\n",
    "    return new Promise((resolve, reject) => {\n",
    "        try {\n",
    "            var rendererCode = fs.readFileSync(path.join(project, '.server', 'render-service.js')).toString();\n",
    "            importer.runInNewContext(\n",
    "                rendererCode + '\\n\\n;(global.module.exports=global.renderer);',\n",
    "                {\n",
    "                    __filename: path.join(project, '.server', 'render-service.js')\n",
    "                },\n",
    "                {\n",
    "                    displayErrors: true\n",
    "                }\n",
    "            );\n",
    "        } catch (e) {\n",
    "            return reject(e);\n",
    "        }\n",
    "\n",
    "        renderer(url, (err, html) => {\n",
    "            if(err) {\n",
    "                return reject(err);\n",
    "            }\n",
    "            var content = fs.readFileSync(path.join(project, 'public', 'index.html')).toString();\n",
    "            innerHtml = html.replace('</body></html>', getScriptsAndStyles(content) + '</body></html>');\n",
    "            return resolve(innerHtml);\n",
    "        });\n",
    "    })\n",
    "    .then(innerHtml => listInProject(project, '**/public/assets/0.*.js'))\n",
    "    .then(paths => paths.map(p => '<script defer>' + fs.readFileSync(p) + '</script>'))\n",
    "    // TODO convert to using the same type of template system as angular-cli now that typescript is becoming more relevant here.\n",
    "    .then(chunks => `\n",
    "<div id=\"container\" style=\"display:block; width:100%;position:relative;\">\n",
    "<iframe id=\"cell1\" style=\"position:absolute;top:0;right:0;bottom:0;left:0;width:100%;height:100%;border:0;\"></iframe>\n",
    "</div>\n",
    "<script defer>\n",
    "var ifrm = document.getElementById('cell1');\n",
    "var doc = ifrm.contentWindow || ifrm.contentDocument.document || ifrm.contentDocument;\n",
    "doc.document.open();\n",
    "doc.INITIAL_PATH=` + JSON.stringify('' + url) + `;\n",
    "doc.document.write(decodeURI(` + JSON.stringify(encodeURI(innerHtml + chunks)) + `));\n",
    "doc.document.close();\n",
    "var contHeight = setInterval(function () {\n",
    "    if(document.getElementById(\"container\") == null) {\n",
    "        console.log('Resizing canceled');\n",
    "        clearInterval(contHeight);\n",
    "    } else {\n",
    "        doc.document.getElementsByTagName('app-root')[0].style.display = 'block';\n",
    "        document.getElementById(\"container\").style.height = (doc.document.getElementsByTagName('app-root')[0].offsetHeight + 40) + 'px';\n",
    "    }\n",
    "}, 500);\n",
    "</script>`);\n",
    "}\n",
    "displAngular;\n",
    "\n"
   ]
  },
  {
   "cell_type": "code",
   "execution_count": null,
   "metadata": {
    "collapsed": false,
    "inputHidden": false,
    "outputHidden": false
   },
   "outputs": [
    {
     "name": "stdout",
     "output_type": "stream",
     "text": [
      "[Function]\n",
      "hit\n",
      "bootstrapFactory\n"
     ]
    },
    {
     "name": "stderr",
     "output_type": "stream",
     "text": [
      "Unhandled Promise rejection: getScriptsAndStyles is not defined ; Zone: <root> ; Task: Promise.then ; Value: { ReferenceError: getScriptsAndStyles is not defined\n",
      "    at renderer (evalmachine.<anonymous>:34:56)\n",
      "    at /Users/briancullinan/Documents/universal/.server/render-service.js:136015:29\n",
      "    at ZoneDelegate.invoke (/Users/briancullinan/Documents/universal/.server/render-service.js:103827:38)\n",
      "    at Zone.run (/Users/briancullinan/Documents/universal/.server/render-service.js:103544:55)\n",
      "    at /Users/briancullinan/Documents/universal/.server/render-service.js:104323:69\n",
      "    at ZoneDelegate.invokeTask (/Users/briancullinan/Documents/universal/.server/render-service.js:103874:43)\n",
      "    at Zone.runTask (/Users/briancullinan/Documents/universal/.server/render-service.js:103600:59)\n",
      "    at drainMicroTaskQueue (/Users/briancullinan/Documents/universal/.server/render-service.js:104056:47)\n",
      "    at ZoneTask.invokeTask (/Users/briancullinan/Documents/universal/.server/render-service.js:103961:33)\n",
      "    at ZoneTask.invoke (/Users/briancullinan/Documents/universal/.server/render-service.js:103945:60)\n",
      "  __zone_symbol__currentTask: \n",
      "   ZoneTask {\n",
      "     _zone: \n",
      "      Zone {\n",
      "        _properties: {},\n",
      "        _parent: null,\n",
      "        _name: '<root>',\n",
      "        _zoneDelegate: [Object] },\n",
      "     runCount: 0,\n",
      "     _zoneDelegates: null,\n",
      "     _state: 'notScheduled',\n",
      "     type: 'microTask',\n",
      "     source: 'Promise.then',\n",
      "     data: undefined,\n",
      "     scheduleFn: undefined,\n",
      "     cancelFn: null,\n",
      "     callback: [Function],\n",
      "     invoke: [Function] } } ReferenceError: getScriptsAndStyles is not defined\n",
      "    at renderer (evalmachine.<anonymous>:34:56)\n",
      "    at /Users/briancullinan/Documents/universal/.server/render-service.js:136015:29\n",
      "    at ZoneDelegate.invoke (/Users/briancullinan/Documents/universal/.server/render-service.js:103827:38)\n",
      "    at Zone.run (/Users/briancullinan/Documents/universal/.server/render-service.js:103544:55)\n",
      "    at /Users/briancullinan/Documents/universal/.server/render-service.js:104323:69\n",
      "    at ZoneDelegate.invokeTask (/Users/briancullinan/Documents/universal/.server/render-service.js:103874:43)\n",
      "    at Zone.runTask (/Users/briancullinan/Documents/universal/.server/render-service.js:103600:59)\n",
      "    at drainMicroTaskQueue (/Users/briancullinan/Documents/universal/.server/render-service.js:104056:47)\n",
      "    at ZoneTask.invokeTask (/Users/briancullinan/Documents/universal/.server/render-service.js:103961:33)\n",
      "    at ZoneTask.invoke (/Users/briancullinan/Documents/universal/.server/render-service.js:103945:60)\n"
     ]
    }
   ],
   "source": [
    "var PROFILE_PATH = process.env.HOME || process.env.HOMEPATH || process.env.USERPROFILE;\n",
    "var project = PROFILE_PATH + '/Documents/universal';\n",
    "if(!fs.existsSync(project)) {\n",
    "    fs.mkdirSync(project);\n",
    "}\n",
    "\n",
    "//ng(path.dirname(project), ['new', '--skip-git', '--skip-install', 'new-portal'])\n",
    "//    .then(() => ng(project, [\n",
    "//    'generate', 'module', '--spec', '--flat', 'AppServer']))\n",
    "    /*\n",
    "    //.then(() => npm(project, ['install'], {'save': true, bin-links': false, verbose: true, prefix: project}))\n",
    "    //.then(() => npm(project, ['install', '@angular/material', '@angular/cdk'], {'save': true, bin-links': false, verbose: true, prefix: project}))\n",
    "    //.then(() => npm(project, ['list'], {prefix: project}))\n",
    "    //.then(() => npm(project, ['prefix'], {prefix: project}))\n",
    "    //convertNgUniversal(project)\n",
    "    //    .then(() => ng(project, ['build', '--aot', '--prod']))\n",
    "    //.then(() => webpackAngularProject(project))\n",
    "    .then(r => {\n",
    "        process.chdir(project);\n",
    "        var server = require(path.join(project, '.server', 'server.js'));\n",
    "        console.log(server);\n",
    "    })\n",
    "    */\n",
    "\n",
    "// TODO:\n",
    "// build the project in memory\n",
    "// make the sockify server send us logs\n",
    "// accept logins and encrypt in to password file?\n",
    "// send mock responses to display all interfaces?  e.g. logging in displays redirect and error \"you are already logged in\" on login page at the same time\n",
    "\n",
    "$$.async();\n",
    "try {\n",
    "    displAngular(project, '/search')\n",
    "        .then(r => $$.html(r))\n",
    "        .catch(e => $$.sendError(e));\n",
    "} catch (e) {\n",
    "    $$.sendError(e);\n",
    "}\n",
    "\n"
   ]
  },
  {
   "cell_type": "markdown",
   "metadata": {},
   "source": [
    "Set angular theme colors?"
   ]
  },
  {
   "cell_type": "code",
   "execution_count": null,
   "metadata": {},
   "outputs": [],
   "source": []
  },
  {
   "cell_type": "code",
   "execution_count": null,
   "metadata": {},
   "outputs": [],
   "source": []
  }
 ],
 "metadata": {
  "kernel_info": {
   "name": "node_nteract"
  },
  "kernelspec": {
   "display_name": "Javascript (Node.js)",
   "language": "javascript",
   "name": "javascript"
  },
  "language_info": {
   "file_extension": ".js",
   "mimetype": "application/javascript",
   "name": "javascript",
   "version": "7.7.2"
  }
 },
 "nbformat": 4,
 "nbformat_minor": 4
}
