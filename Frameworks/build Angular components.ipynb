{
  "cells": [
    {
      "cell_type": "markdown",
      "source": [
        "# How to build Angular components?\n",
        "\n",
        "How to create a mock filesystem?\n"
      ],
      "metadata": {}
    },
    {
      "cell_type": "code",
      "source": [
        "var execSync = require('child_process').execSync;\n",
        "try {\n",
        "    require.resolve('memory-fs');\n",
        "} catch (e) {\n",
        "    execSync('npm install memory-fs');\n",
        "}\n",
        "\n",
        "// first install angular cli\n",
        "var path = require('path');\n",
        "var MemoryFileSystem = require(\"memory-fs\");\n",
        "var data = {\n",
        "    'angular-cli.json': \n",
        "`\n",
        "{\n",
        "    \"project\": {\n",
        "        \"name\": \"act-ecommerce\"\n",
        "    },\n",
        "    \"apps\": [\n",
        "        {\n",
        "            \"root\": \"src\",\n",
        "            \"main\": \"main.ts\",\n",
        "            \"tsconfig\": \"../tsconfig.json\",\n",
        "            \"prefix\": \"bc\",\n",
        "            \"styles\": [],\n",
        "            \"scripts\": []\n",
        "        }\n",
        "    ]\n",
        "}\n",
        "`\n",
        "};\n",
        "var memfs = new MemoryFileSystem(data);\n",
        "(data);  // return blueprint\n",
        "\n"
      ],
      "outputs": [],
      "execution_count": 1,
      "metadata": {
        "collapsed": false,
        "outputHidden": false,
        "inputHidden": false
      }
    },
    {
      "cell_type": "markdown",
      "source": [
        "Run angular-cli commands from nodejs?\n",
        "\n"
      ],
      "metadata": {}
    },
    {
      "cell_type": "code",
      "source": [
        "var execSync = require('child_process').execSync;\n",
        "try {\n",
        "    require.resolve('@angular/cli');\n",
        "} catch (e) {\n",
        "    execSync('npm install @angular/cli');\n",
        "}\n",
        "\n",
        "// use utility/filesystem to mock all fs and typescript commands\n",
        "var mountAndRewireAngular = (memfs) => {\n",
        "    throw 'interpret memory-fs rewire';\n",
        "};\n",
        "\n",
        "var ng = require('@angular/cli');\n",
        "// call the CLI just like from command line\n",
        "var constructNgCommand = (rootPath, name) => {\n",
        "    var conf = {\n",
        "        cliArgs: ['generate', 'component', name],\n",
        "        inputStream: process.stdin,\n",
        "        outputStream: process.stdout\n",
        "    };\n",
        "    \n",
        "    // overlay out temp filesystem on top of current filesystem\n",
        "    memfs.mkdirpSync(path.resolve(rootPath));\n",
        "    memfs.writeFileSync(\n",
        "        path.resolve(path.join(rootPath, 'angular-cli.json')),\n",
        "        data['angular-cli.json']);\n",
        "    mountAndRewireAngular(memfs);\n",
        "    \n",
        "    // execute\n",
        "    process.chdir(rootPath);\n",
        "    return ng(conf);\n",
        "}\n",
        "(constructNgCommand);\n",
        "\n"
      ],
      "outputs": [],
      "execution_count": 2,
      "metadata": {
        "collapsed": false,
        "outputHidden": false,
        "inputHidden": false
      }
    },
    {
      "cell_type": "markdown",
      "source": [
        "Add a component to the specified project using angular-cli?\n",
        "\n"
      ],
      "metadata": {}
    },
    {
      "cell_type": "code",
      "source": [
        "\n",
        "var importer = require('../Core');\n",
        "var mountAndRewireAngular;\n",
        "\n",
        "// obviously we can generate and use a CLI interface from within Node.js\n",
        "var createComponent = (project, name) => {\n",
        "    var previous = process.cwd();\n",
        "    var rootPath = process.cwd();\n",
        "    return listProjects()\n",
        "        .then(r => rootPath = r[project])\n",
        "        .then(() => importer.interpretAll('memory-fs rewire'))\n",
        "        .then(r => {\n",
        "            mountAndRewireAngular = eval(\"'use strict';\" + r[0].code);\n",
        "            return constructNgCommand(rootPath, name);\n",
        "        })\n",
        "        // ng is mocked at this point\n",
        "        .then(r => {\n",
        "            process.chdir(previous);\n",
        "            return data;\n",
        "        });\n",
        "        // TODO: unmock ng\n",
        "};\n",
        "(createComponent);\n",
        "\n"
      ],
      "outputs": [],
      "execution_count": 3,
      "metadata": {
        "collapsed": false,
        "outputHidden": false,
        "inputHidden": false
      }
    },
    {
      "cell_type": "markdown",
      "source": [
        "List projects by name?\n",
        "\n"
      ],
      "metadata": {}
    },
    {
      "cell_type": "code",
      "source": [
        "var execSync = require('child_process').execSync();\n",
        "try {\n",
        "    require.resolve('glob');\n",
        "} catch (e) {\n",
        "    execSync('glob');\n",
        "}\n",
        "var glob = require('glob');\n",
        "var PROFILE_PATH = process.env.HOME || process.env.HOMEPATH || process.env.USERPROFILE;\n",
        "\n",
        "// But we also want to automatically load projects?\n",
        "var listProjects = (root = PROFILE_PATH) => {\n",
        "    return new Promise((resolve, reject) => {\n",
        "        glob('**/package.json', {\n",
        "            ignore: ['**/node_modules/**',\n",
        "                    '**/packages/**',\n",
        "                    '**/vendor/**',\n",
        "                    '/Users/**/Downloads/**',\n",
        "                    '/Users/**/Library/**',\n",
        "                    '/Users/**/Applications/**',\n",
        "                    '/Users/**/Music/**',\n",
        "                    '**/wp-content/**',\n",
        "                    '**/wp-includes/**',\n",
        "                    '**/Pods/**',\n",
        "                    '**/svn/**'],\n",
        "            cwd: path.resolve(root),\n",
        "            silent: true,\n",
        "            nodir: true,\n",
        "            strict: false\n",
        "        }, (err, matches) => {\n",
        "            var result = {};\n",
        "            matches.forEach(m => {\n",
        "                var projectPath = path.dirname(path.join(root, m));\n",
        "                result[path.basename(projectPath)] = projectPath;\n",
        "            })\n",
        "            return resolve(result);\n",
        "        });\n",
        "    });\n",
        "};\n",
        "(listProjects);\n",
        "\n"
      ],
      "outputs": [
        {
          "output_type": "execute_result",
          "execution_count": 24,
          "data": {
            "text/plain": [
              "[Function: listProjects]"
            ]
          },
          "metadata": {}
        }
      ],
      "execution_count": 24,
      "metadata": {
        "collapsed": false,
        "outputHidden": false,
        "inputHidden": false
      }
    },
    {
      "cell_type": "code",
      "source": [
        "// test list projects works\n",
        "$$.async();\n",
        "listProjects()\n",
        "    .then(r => $$.sendResult(r))\n",
        "    .catch(e => $$.sendError(e));\n"
      ],
      "outputs": [],
      "execution_count": 26,
      "metadata": {
        "collapsed": false,
        "outputHidden": false,
        "inputHidden": false
      }
    },
    {
      "cell_type": "markdown",
      "source": [
        "Build angular modules from nodejs?\n",
        "\n"
      ],
      "metadata": {}
    },
    {
      "cell_type": "code",
      "source": [
        "// Wouldn't it be nice if we could list these projects as interactive icons?\n",
        "\n\n",
        "try {\n",
        "$$.async();\n",
        "createComponent('portal', 'testing')\n",
        "    .then(r => {\n",
        "        var data = r;\n",
        "        path.resolve(PROFILE_PATH)\n",
        "            .split(path.sep)\n",
        "            .forEach(p => data = data[p]);\n",
        "        $$.sendResult(data);\n",
        "    })\n",
        "    .catch(e => $$.sendError(e));\n",
        "} catch (e) {\n",
        "    $$.sendError(e);\n",
        "}\n",
        "\n\n"
      ],
      "outputs": [],
      "execution_count": 5,
      "metadata": {
        "collapsed": false,
        "outputHidden": false,
        "inputHidden": false
      }
    },
    {
      "cell_type": "markdown",
      "source": [
        "Display angular modules in jupyter?\n",
        "\n"
      ],
      "metadata": {}
    },
    {
      "cell_type": "code",
      "source": [],
      "outputs": [],
      "execution_count": 4,
      "metadata": {
        "collapsed": false,
        "outputHidden": false,
        "inputHidden": false
      }
    }
  ],
  "metadata": {
    "kernelspec": {
      "name": "node_nteract",
      "language": "javascript",
      "display_name": "Node.js (nteract)"
    },
    "kernel_info": {
      "name": "node_nteract"
    },
    "language_info": {
      "name": "javascript",
      "version": "6.5.0",
      "mimetype": "application/javascript",
      "file_extension": ".js"
    }
  },
  "nbformat": 4,
  "nbformat_minor": 4
}