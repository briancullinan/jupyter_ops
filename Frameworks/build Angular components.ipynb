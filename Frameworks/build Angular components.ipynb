{
 "cells": [
  {
   "cell_type": "markdown",
   "metadata": {},
   "source": [
    "# How to build Angular components using nodejs?\n",
    "\n",
    "Run angular-cli commands from nodejs?\n",
    "\n",
    "Add a component to the specified project using angular-cli?\n"
   ]
  },
  {
   "cell_type": "code",
   "execution_count": null,
   "metadata": {
    "collapsed": false,
    "inputHidden": false,
    "outputHidden": false
   },
   "outputs": [],
   "source": [
    "var importer = require('../Core');\n",
    "var mockTypescriptFs = importer.import('memory-fs rewire');\n",
    "// overlay out temp filesystem on top of current filesystem\n",
    "var cli = require('@angular/cli');\n",
    "\n",
    "var TEST_CMD = ['generate', 'component', 'test'];\n",
    "\n",
    "// use utility/filesystem to mock all fs and typescript commands\n",
    "\n",
    "// call the CLI just like from command line\n",
    "function ng(project, args = TEST_CMD) {\n",
    "    mockTypescriptFs(project);\n",
    "    // set up project path\n",
    "    var previous = process.cwd();\n",
    "\n",
    "    var conf = {\n",
    "        cliArgs: args,\n",
    "        inputStream: null,\n",
    "        outputStream: process.stdout\n",
    "    };\n",
    "    process.chdir(project);\n",
    "    \n",
    "    // execute\n",
    "    return cli(conf);\n",
    "};\n",
    "module.exports = ng;\n",
    "\n"
   ]
  },
  {
   "cell_type": "markdown",
   "metadata": {},
   "source": [
    "Compile the project using webpack?"
   ]
  },
  {
   "cell_type": "code",
   "execution_count": null,
   "metadata": {
    "collapsed": false,
    "inputHidden": false,
    "outputHidden": false
   },
   "outputs": [],
   "source": [
    "\n",
    "// source https://github.com/christianalfoni/webpack-bin/issues/106\n",
    "function webpackAngularProject(project) {\n",
    "    // set up project path\n",
    "    var previous = process.cwd();\n",
    "    process.chdir(project);\n",
    "    module.paths.unshift(project + '/node_modules');\n",
    "\n",
    "    var webpack = require('webpack');\n",
    "    var webpackConfig = require(path.join(project, 'webpack.config.js'));\n",
    "    var gulp = require(path.join(project, 'config', 'gulp-helpers.js'));\n",
    "    var settings = gulp.loadSettings(require(path.join(project, 'config', 'build-config.json')));\n",
    "    var config = webpackConfig({\n",
    "        env: 'prod',\n",
    "        platform: 'server'\n",
    "    }, gulp.root, settings);\n",
    "    var compiler = webpack(config);\n",
    "\n",
    "    // TODO: do we need this since it is already mocked in angular-cli\n",
    "    //mockTypescriptFs = eval(\"'use strict';\" + r[0].code);\n",
    "    //mockTypescriptFs(project, data);\n",
    "    //compiler.inputFileSystem = memfs;\n",
    "    //compiler.outputFileSystem = memfs;\n",
    "    //compiler.resolvers.normal.fileSystem = memfs;\n",
    "    //compiler.resolvers.context.fileSystem = memfs;\n",
    "\n",
    "    return new Promise((resolve, reject) => {\n",
    "        compiler.run(function (err, stats) {\n",
    "            process.chdir(previous);\n",
    "            if (err) return reject(err);\n",
    "            resolve(stats.compilation.assets['server.js'].source());\n",
    "        });\n",
    "    });\n",
    "};\n",
    "webpackAngularProject;\n"
   ]
  },
  {
   "cell_type": "code",
   "execution_count": null,
   "metadata": {
    "collapsed": false,
    "inputHidden": false,
    "outputHidden": false
   },
   "outputs": [],
   "source": [
    "//ng(path.dirname(project), ['new', '--skip-git', '--skip-install', 'new-portal'])\n",
    "//    .then(() => ng(project, [\n",
    "//    'generate', 'module', '--spec', '--flat', 'AppServer']))\n",
    "/*\n",
    "//.then(() => npm(project, ['install'], {'save': true, bin-links': false, verbose: true, prefix: project}))\n",
    "//.then(() => npm(project, ['install', '@angular/material', '@angular/cdk'], {'save': true, bin-links': false, verbose: true, prefix: project}))\n",
    "//.then(() => npm(project, ['list'], {prefix: project}))\n",
    "//.then(() => npm(project, ['prefix'], {prefix: project}))\n",
    "//convertNgUniversal(project)\n",
    "//    .then(() => ng(project, ['build', '--aot', '--prod']))\n",
    "//.then(() => webpackAngularProject(project))\n",
    ".then(r => {\n",
    "    process.chdir(project);\n",
    "    var server = require(path.join(project, '.server', 'server.js'));\n",
    "    console.log(server);\n",
    "})\n",
    "*/\n",
    "\n",
    "// TODO:\n",
    "// build the project in memory\n",
    "// make the sockify server send us logs\n",
    "// accept logins and encrypt in to password file?\n",
    "// send mock responses to display all interfaces?  e.g. logging in displays redirect and error \"you are already logged in\" on login page at the same time\n"
   ]
  },
  {
   "cell_type": "markdown",
   "metadata": {},
   "source": [
    "Set angular theme colors?\n",
    "\n",
    "How to run angular project from memory?\n",
    "- How to browserify/babel the project in universal,\n",
    "- NO WEBPACK,\n",
    "- more debuggable? ES5 sourcemaps?\n",
    "- update only the file that has changed in memory and rebuild,\n",
    "- combine HMR, webpack config, virtual filesystem in one script\n"
   ]
  },
  {
   "cell_type": "code",
   "execution_count": null,
   "metadata": {},
   "outputs": [],
   "source": []
  }
 ],
 "metadata": {
  "kernel_info": {
   "name": "node_nteract"
  },
  "kernelspec": {
   "display_name": "Javascript (Node.js)",
   "language": "javascript",
   "name": "javascript"
  },
  "language_info": {
   "file_extension": ".js",
   "mimetype": "application/javascript",
   "name": "javascript",
   "version": "8.6.0"
  }
 },
 "nbformat": 4,
 "nbformat_minor": 4
}
