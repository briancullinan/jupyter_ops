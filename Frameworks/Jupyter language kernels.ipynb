{
 "cells": [
  {
   "cell_type": "markdown",
   "source": [
    "# How to install extra kernels in jupyter?\n",
    "\n",
    "How to install bash kernel?\n"
   ],
   "metadata": {}
  },
  {
   "cell_type": "code",
   "source": [
    "pip\n",
    "install\n",
    "bash_kernel\n",
    "python - m\n",
    "bash_kernel.install\n",
    ""
   ],
   "outputs": [],
   "execution_count": 1,
   "metadata": {
    "collapsed": false,
    "outputHidden": false,
    "inputHidden": false
   }
  },
  {
   "cell_type": "markdown",
   "source": [
    "How to install ipython kernel?"
   ],
   "metadata": {}
  },
  {
   "cell_type": "code",
   "source": [
    "python2 - m\n",
    "pip\n",
    "install\n",
    "ipykernel\n",
    "python2 - m\n",
    "ipykernel\n",
    "install--\n",
    "user\n",
    "\n",
    ""
   ],
   "outputs": [],
   "execution_count": 2,
   "metadata": {
    "collapsed": false,
    "outputHidden": false,
    "inputHidden": false
   }
  },
  {
   "cell_type": "markdown",
   "source": [
    "How to install ICSharp (C#) kernel?"
   ],
   "metadata": {}
  },
  {
   "cell_type": "code",
   "source": [
    "# TODO: add\n",
    "mono\n",
    "http://www.mono-project.com/docs/getting-started/install/mac/\n",
    "    git\n",
    "clone--\n",
    "recursive\n",
    "https://github.com/zabirauf/icsharp.git\n",
    "    cd\n",
    "icsharp\n",
    "bash.\n",
    "/build.sh\n",
    "python.\n",
    "/install.py\n",
    ""
   ],
   "outputs": [],
   "execution_count": 3,
   "metadata": {
    "collapsed": false,
    "outputHidden": false,
    "inputHidden": false
   }
  },
  {
   "cell_type": "code",
   "source": [
    "cd\n",
    "icsharp\n",
    "bash.\n",
    "/build.sh"
   ],
   "outputs": [],
   "execution_count": 1,
   "metadata": {
    "collapsed": false,
    "outputHidden": false,
    "inputHidden": false
   }
  },
  {
   "cell_type": "code",
   "source": [
    "grep - r.\n",
    "/ -e 'xunit.runners'"
   ],
   "outputs": [],
   "execution_count": 4,
   "metadata": {
    "collapsed": false,
    "outputHidden": false,
    "inputHidden": false
   }
  },
  {
   "cell_type": "markdown",
   "source": [
    "How to install ruby?"
   ],
   "metadata": {}
  },
  {
   "cell_type": "code",
   "source": [
    "brew\n",
    "install\n",
    "rbenv\n",
    "automake\n",
    "gmp\n",
    "libtool\n",
    "wget\n",
    "rbenv\n",
    "install\n",
    "2.4\n",
    ".1\n",
    "rbenv\n",
    "global\n",
    "2.4\n",
    ".1\n",
    "echo\n",
    "'eval \"$(rbenv init -)\"' >> ~/.bashrc\n",
    "source\n",
    "~/.bashrc\n",
    "\n",
    "brew\n",
    "install\n",
    "zeromq\n",
    "brew\n",
    "install\n",
    "czmq--\n",
    "HEAD\n",
    "gem\n",
    "install\n",
    "cztop\n",
    "iruby\n",
    "iruby\n",
    "register--\n",
    "force\n",
    "\n",
    ""
   ],
   "outputs": [],
   "execution_count": 7,
   "metadata": {
    "collapsed": false,
    "outputHidden": false,
    "inputHidden": false
   }
  },
  {
   "cell_type": "markdown",
   "source": [
    "How to install Powershell?\n"
   ],
   "metadata": {}
  },
  {
   "cell_type": "code",
   "source": [
    "jupyter--\n",
    "version\n",
    "#pip3\n",
    "install\n",
    "jupyter\n",
    "jupyterlab\n",
    "notebook\n",
    "#jupyter - notebook\n",
    "serverextension\n",
    "enable--\n",
    "py\n",
    "jupyterlab--\n",
    "sys - prefix\n",
    ""
   ],
   "outputs": [
    {
     "output_type": "stream",
     "name": "stdout",
     "text": [
      "bash: jupyter: command not found\n"
     ]
    },
    {
     "output_type": "error",
     "ename": "",
     "evalue": "127",
     "traceback": []
    }
   ],
   "execution_count": 6,
   "metadata": {
    "collapsed": false,
    "outputHidden": false,
    "inputHidden": false
   }
  },
  {
   "cell_type": "code",
   "source": [
    "How\n",
    "to\n",
    "install\n",
    "typescript ?"
   ],
   "outputs": [],
   "execution_count": 2,
   "metadata": {
    "collapsed": false,
    "outputHidden": false,
    "inputHidden": false
   }
  },
  {
   "cell_type": "code",
   "source": [
    "npm\n",
    "install - g\n",
    "itypescript\n",
    ""
   ],
   "outputs": [
    {
     "output_type": "stream",
     "name": "stdout",
     "text": [
      "\u001b[?25l[\u001b[90m..................\u001b[0m] - normalizeTree: \u001b[7msill\u001b[0m \u001b[35minstall\u001b[0m loadCurrentTree\u001b[K\r[\u001b[90m..................\u001b[0m] / normalizeTree: \u001b[7msill\u001b[0m \u001b[35minstall\u001b[0m loadCurrentTree\u001b[K\r[\u001b[90m..................\u001b[0m] / normalizeTree: \u001b[7msill\u001b[0m \u001b[35minstall\u001b[0m loadCurrentTree\u001b[K\r[\u001b[90m..................\u001b[0m] / normalizeTree: \u001b[7msill\u001b[0m \u001b[35minstall\u001b[0m loadCurrentTree\u001b[K\r[\u001b[90m..................\u001b[0m] / normalizeTree: \u001b[7msill\u001b[0m \u001b[35minstall\u001b[0m loadCurrentTree\u001b[K\r[\u001b[90m..................\u001b[0m] - normalizeTree: \u001b[7msill\u001b[0m \u001b[35minstall\u001b[0m loadCurrentTree\u001b[K\r[\u001b[90m..................\u001b[0m] \\ normalizeTree: \u001b[7msill\u001b[0m \u001b[35minstall\u001b[0m loadCurrentTree\u001b[K\r[\u001b[7m    \u001b[27m\u001b[90m..............\u001b[0m] - loadRequestedDeps: \u001b[7msill\u001b[0m \u001b[35minstall\u001b[0m loadAllDepsIntoIdealTree\u001b[K\r[\u001b[7m    \u001b[27m\u001b[90m..............\u001b[0m] - loadRequestedDeps: \u001b[7msill\u001b[0m \u001b[35minstall\u001b[0m loadAllDepsIntoIdealTree\u001b[K\r[\u001b[7m    \u001b[27m\u001b[90m..............\u001b[0m] - loadRequestedDeps: \u001b[7msill\u001b[0m \u001b[35minstall\u001b[0m loadAllDepsIntoIdealTree\u001b[K\r[\u001b[7m    \u001b[27m\u001b[90m..............\u001b[0m] \\ loadRequestedDeps: \u001b[7msill\u001b[0m \u001b[35minstall\u001b[0m loadAllDepsIntoIdealTree\u001b[K\r[\u001b[7m    \u001b[27m\u001b[90m..............\u001b[0m] \\ loadRequestedDeps: \u001b[7msill\u001b[0m \u001b[35minstall\u001b[0m loadAllDepsIntoIdealTree\u001b[K\r[\u001b[7m    \u001b[27m\u001b[90m..............\u001b[0m] \\ fetchMetadata: \u001b[7msill\u001b[0m \u001b[35mmapToRegistry\u001b[0m uri https://registry.n\u001b[K\r[\u001b[7m    \u001b[27m\u001b[90m..............\u001b[0m] \\ fetchMetadata: \u001b[7msill\u001b[0m \u001b[35mmapToRegistry\u001b[0m uri https://registry.n\u001b[K\r[\u001b[7m    \u001b[27m\u001b[90m..............\u001b[0m] / fetchMetadata: \u001b[7msill\u001b[0m \u001b[35mmapToRegistry\u001b[0m uri https://registry.n\u001b[K\r[\u001b[7m    \u001b[27m\u001b[90m..............\u001b[0m] - fetchMetadata: \u001b[7msill\u001b[0m \u001b[35mmapToRegistry\u001b[0m uri https://registry.n\u001b[K\r[\u001b[7m    \u001b[27m\u001b[90m..............\u001b[0m] - fetchMetadata: \u001b[7msill\u001b[0m \u001b[35mmapToRegistry\u001b[0m uri https://registry.n\u001b[K\r[\u001b[7m    \u001b[27m\u001b[90m..............\u001b[0m] - fetchMetadata: \u001b[7msill\u001b[0m \u001b[35mmapToRegistry\u001b[0m uri https://registry.n\u001b[K\r[\u001b[7m    \u001b[27m\u001b[90m..............\u001b[0m] - fetchMetadata: \u001b[7msill\u001b[0m \u001b[35mmapToRegistry\u001b[0m uri https://registry.n\u001b[K\r[\u001b[7m    \u001b[27m\u001b[90m..............\u001b[0m] - fetchMetadata: \u001b[7msill\u001b[0m \u001b[35mmapToRegistry\u001b[0m uri https://registry.n\u001b[K\r[\u001b[7m    \u001b[27m\u001b[90m..............\u001b[0m] - fetchMetadata: \u001b[7msill\u001b[0m \u001b[35mmapToRegistry\u001b[0m uri https://registry.n\u001b[K\r[\u001b[7m    \u001b[27m\u001b[90m..............\u001b[0m] / fetchMetadata: \u001b[7msill\u001b[0m \u001b[35mmapToRegistry\u001b[0m uri https://registry.n\u001b[K\r[\u001b[7m    \u001b[27m\u001b[90m..............\u001b[0m] - fetchMetadata: \u001b[7msill\u001b[0m \u001b[35mmapToRegistry\u001b[0m uri https://registry.n\u001b[K\r[\u001b[7m    \u001b[27m\u001b[90m..............\u001b[0m] - fetchMetadata: \u001b[7msill\u001b[0m \u001b[35mmapToRegistry\u001b[0m uri https://registry.n\u001b[K\r[\u001b[7m    \u001b[27m\u001b[90m..............\u001b[0m] - fetchMetadata: \u001b[34;40mverb\u001b[0m \u001b[35mafterAdd\u001b[0m /Users/briancullinan/.npm/n\u001b[K\r[\u001b[7m    \u001b[27m\u001b[90m..............\u001b[0m] - fetchMetadata: \u001b[34;40mverb\u001b[0m \u001b[35mafterAdd\u001b[0m /Users/briancullinan/.npm/n\u001b[K\r[\u001b[7m    \u001b[27m\u001b[90m..............\u001b[0m] \\ fetchMetadata: \u001b[34;40mverb\u001b[0m \u001b[35mafterAdd\u001b[0m /Users/briancullinan/.npm/n\u001b[K\r[\u001b[7m    \u001b[27m\u001b[90m..............\u001b[0m] | fetchMetadata: \u001b[7msill\u001b[0m \u001b[35mmapToRegistry\u001b[0m uri https://registry.n\u001b[K\r[\u001b[7m    \u001b[27m\u001b[90m..............\u001b[0m] | fetchMetadata: \u001b[7msill\u001b[0m \u001b[35mmapToRegistry\u001b[0m uri https://registry.n\u001b[K\r[\u001b[7m    \u001b[27m\u001b[90m..............\u001b[0m] - fetchMetadata: \u001b[7msill\u001b[0m \u001b[35mmapToRegistry\u001b[0m uri https://registry.n\u001b[K\r[\u001b[7m    \u001b[27m\u001b[90m..............\u001b[0m] | fetchMetadata: \u001b[7msill\u001b[0m \u001b[35mmapToRegistry\u001b[0m uri https://registry.n\u001b[K\r[\u001b[7m    \u001b[27m\u001b[90m..............\u001b[0m] / fetchMetadata: \u001b[7msill\u001b[0m \u001b[35mmapToRegistry\u001b[0m uri https://registry.n\u001b[K\r[\u001b[7m    \u001b[27m\u001b[90m..............\u001b[0m] / fetchMetadata: \u001b[7msill\u001b[0m \u001b[35mmapToRegistry\u001b[0m uri https://registry.n\u001b[K\r[\u001b[7m    \u001b[27m\u001b[90m..............\u001b[0m] / fetchMetadata: \u001b[7msill\u001b[0m \u001b[35mmapToRegistry\u001b[0m uri https://registry.n\u001b[K\r[\u001b[7m    \u001b[27m\u001b[90m..............\u001b[0m] / fetchMetadata: \u001b[7msill\u001b[0m \u001b[35mmapToRegistry\u001b[0m uri https://registry.n\u001b[K\r[\u001b[7m    \u001b[27m\u001b[90m..............\u001b[0m] / fetchMetadata: \u001b[7msill\u001b[0m \u001b[35mmapToRegistry\u001b[0m uri https://registry.n\u001b[K\r[\u001b[7m    \u001b[27m\u001b[90m..............\u001b[0m] - fetchMetadata: \u001b[7msill\u001b[0m \u001b[35mmapToRegistry\u001b[0m uri https://registry.n\u001b[K\r[\u001b[7m    \u001b[27m\u001b[90m..............\u001b[0m] - fetchMetadata: \u001b[7msill\u001b[0m \u001b[35mmapToRegistry\u001b[0m uri https://registry.n\u001b[K\r[\u001b[7m    \u001b[27m\u001b[90m..............\u001b[0m] - fetchMetadata: \u001b[7msill\u001b[0m \u001b[35mmapToRegistry\u001b[0m uri https://registry.n\u001b[K\r[\u001b[7m    \u001b[27m\u001b[90m..............\u001b[0m] | fetchMetadata: \u001b[34;40mverb\u001b[0m \u001b[35mafterAdd\u001b[0m /Users/briancullinan/.npm/i\u001b[K\r[\u001b[7m    \u001b[27m\u001b[90m..............\u001b[0m] | fetchMetadata: \u001b[34;40mverb\u001b[0m \u001b[35mafterAdd\u001b[0m /Users/briancullinan/.npm/n\u001b[K\r[\u001b[7m    \u001b[27m\u001b[90m..............\u001b[0m] - fetchMetadata: \u001b[7msill\u001b[0m \u001b[35mmapToRegistry\u001b[0m uri https://registry.n\u001b[K\r[\u001b[7m    \u001b[27m\u001b[90m..............\u001b[0m] - fetchMetadata: \u001b[34;40mverb\u001b[0m \u001b[35mafterAdd\u001b[0m /Users/briancullinan/.npm/o\u001b[K\r[\u001b[7m    \u001b[27m\u001b[90m..............\u001b[0m] - fetchMetadata: \u001b[7msill\u001b[0m \u001b[35mmapToRegistry\u001b[0m uri https://registry.n\u001b[K\r[\u001b[7m    \u001b[27m\u001b[90m..............\u001b[0m] \\ fetchMetadata: \u001b[34;40mverb\u001b[0m \u001b[35mafterAdd\u001b[0m /Users/briancullinan/.npm/i\u001b[K\r[\u001b[7m    \u001b[27m\u001b[90m..............\u001b[0m] / fetchMetadata: \u001b[7msill\u001b[0m \u001b[35mmapToRegistry\u001b[0m uri https://registry.n\u001b[K\r[\u001b[7m    \u001b[27m\u001b[90m..............\u001b[0m] / fetchMetadata: \u001b[34;40mverb\u001b[0m \u001b[35mafterAdd\u001b[0m /Users/briancullinan/.npm/t\u001b[K\r[\u001b[7m           \u001b[27m\u001b[90m.......\u001b[0m] \\ diffTrees: \u001b[7msill\u001b[0m \u001b[35minstall\u001b[0m generateActionsToTake\u001b[K\r[\u001b[7m             \u001b[27m\u001b[90m.....\u001b[0m] - extract:itypescript: \u001b[7msill\u001b[0m \u001b[35mdoParallel\u001b[0m extract 58\u001b[K\r[\u001b[7m             \u001b[27m\u001b[90m.....\u001b[0m] \\ extract:itypescript: \u001b[7msill\u001b[0m \u001b[35mdoParallel\u001b[0m extract 58\u001b[K\r[\u001b[7m             \u001b[27m\u001b[90m.....\u001b[0m] | extract:itypescript: \u001b[7msill\u001b[0m \u001b[35mdoParallel\u001b[0m extract 58\u001b[K\r[\u001b[7m             \u001b[27m\u001b[90m.....\u001b[0m] \\ extract:itypescript: \u001b[7msill\u001b[0m \u001b[35mdoParallel\u001b[0m extract 58\u001b[K\r[\u001b[7m             \u001b[27m\u001b[90m.....\u001b[0m] - extract:itypescript: \u001b[7msill\u001b[0m \u001b[35mdoParallel\u001b[0m extract 58\u001b[K\r[\u001b[7m             \u001b[27m\u001b[90m.....\u001b[0m] | extract:itypescript: \u001b[7msill\u001b[0m \u001b[35mdoParallel\u001b[0m extract 58\u001b[K\r[\u001b[7m             \u001b[27m\u001b[90m.....\u001b[0m] - extract:console-control-strings: \u001b[34;40mverb\u001b[0m \u001b[35mgentlyRm\u001b[0m don't car\u001b[K\r[\u001b[7m              \u001b[27m\u001b[90m....\u001b[0m] - extract:are-we-there-yet: \u001b[34;40mverb\u001b[0m \u001b[35mgentlyRm\u001b[0m don't care about\u001b[K\r[\u001b[7m               \u001b[27m\u001b[90m...\u001b[0m] - extract:minimist: \u001b[34;40mverb\u001b[0m \u001b[35mgentlyRm\u001b[0m don't care about content\u001b[K\r[\u001b[7m               \u001b[27m\u001b[90m...\u001b[0m] - extract:zeromq: \u001b[34;40mverb\u001b[0m \u001b[35mgentlyRm\u001b[0m don't care about contents;\u001b[K\r[\u001b[7m               \u001b[27m\u001b[90m...\u001b[0m] - extract:zeromq: \u001b[34;40mverb\u001b[0m \u001b[35mgentlyRm\u001b[0m don't care about contents;\u001b[K\r[\u001b[7m               \u001b[27m\u001b[90m...\u001b[0m] | extract:zeromq: \u001b[34;40mverb\u001b[0m \u001b[35mgentlyRm\u001b[0m don't care about contents;\u001b[K\r[\u001b[7m               \u001b[27m\u001b[90m...\u001b[0m] \\ preinstall:itypescript: \u001b[7msill\u001b[0m \u001b[35mdoParallel\u001b[0m preinstall 58\u001b[K\r[\u001b[7m               \u001b[27m\u001b[90m...\u001b[0m] | build:core-util-is: \u001b[34;40mverb\u001b[0m \u001b[35mlinkMans\u001b[0m core-util-is@1.0.2\u001b[K\r[\u001b[7m               \u001b[27m\u001b[90m...\u001b[0m] - build:readable-stream: \u001b[34;40mverb\u001b[0m \u001b[35mlinkMans\u001b[0m readable-stream@2.3\u001b[K\n",
      "\u001b[K\u001b[?25h/usr/local/bin/its -> /usr/local/lib/node_modules/itypescript/bin/itypescript.js\n",
      "/usr/local/bin/itskernel -> /usr/local/lib/node_modules/itypescript/lib/kernel.js\n",
      "\u001b[?25l[\u001b[7m               \u001b[27m\u001b[90m...\u001b[0m] | install:github-from-package: \u001b[7msill\u001b[0m \u001b[35mlifecycle\u001b[0m github-from-\u001b[K\n",
      "\u001b[K\u001b[?25h\n",
      "> zeromq@4.5.0 install /usr/local/lib/node_modules/itypescript/node_modules/zeromq\n",
      "> node scripts/prebuild-install.js || (npm run build:libzmq && node-gyp rebuild)\n",
      "\n\n",
      "prebuild-install info begin Prebuild-install version 2.2.0\n",
      "prebuild-install info looking for local prebuild @ prebuilds/zeromq-v4.5.0-node-v51-darwin-x64.tar.gz\n",
      "prebuild-install info looking for cached prebuild @ /Users/briancullinan/.npm/_prebuilds/https-github.com-zeromq-zeromq.js-releases-download-v4.5.0-zeromq-v4.5.0-node-v51-darwin-x64.tar.gz\n",
      "prebuild-install http request GET https://github.com/zeromq/zeromq.js/releases/download/v4.5.0/zeromq-v4.5.0-node-v51-darwin-x64.tar.gz\n",
      "prebuild-install http 200 https://github.com/zeromq/zeromq.js/releases/download/v4.5.0/zeromq-v4.5.0-node-v51-darwin-x64.tar.gz\n",
      "prebuild-install info downloading to @ /Users/briancullinan/.npm/_prebuilds/https-github.com-zeromq-zeromq.js-releases-download-v4.5.0-zeromq-v4.5.0-node-v51-darwin-x64.tar.gz.22841-240cfcce4cf1f.tmp\n",
      "prebuild-install info renaming to @ /Users/briancullinan/.npm/_prebuilds/https-github.com-zeromq-zeromq.js-releases-download-v4.5.0-zeromq-v4.5.0-node-v51-darwin-x64.tar.gz\n",
      "prebuild-install info unpacking @ /Users/briancullinan/.npm/_prebuilds/https-github.com-zeromq-zeromq.js-releases-download-v4.5.0-zeromq-v4.5.0-node-v51-darwin-x64.tar.gz\n",
      "prebuild-install info unpack resolved to /usr/local/lib/node_modules/itypescript/node_modules/zeromq/build/Release/zmq.node\n",
      "prebuild-install info unpack required /usr/local/lib/node_modules/itypescript/node_modules/zeromq/build/Release/zmq.node successfully\n",
      "prebuild-install info install Prebuild successfully installed!\n",
      "\n\u001b[?25l[\u001b[7m                \u001b[27m\u001b[90m..\u001b[0m] | postinstall:tar-fs: \u001b[7msill\u001b[0m \u001b[35mlifecycle\u001b[0m tar-fs@1.15.3~postins\u001b[K\n",
      "\u001b[K\u001b[?25h/usr/local/lib\n",
      "`-- \u001b[40m\u001b[33mitypescript@0.1.1\u001b[39m\u001b[49m \n",
      "  +-- \u001b[40m\u001b[33mjp-kernel@0.1.3\u001b[39m\u001b[49m \n",
      "  | +-- \u001b[40m\u001b[33mjmp@0.7.5\u001b[39m\u001b[49m \n",
      "  | | `-- \u001b[40m\u001b[33mzeromq@4.5.0\u001b[39m\u001b[49m \n",
      "  | |   +-- \u001b[40m\u001b[33mnan@2.6.2\u001b[39m\u001b[49m \n",
      "  | |   `-- \u001b[40m\u001b[33mprebuild-install@2.2.0\u001b[39m\u001b[49m \n",
      "  | |     +-- \u001b[40m\u001b[33mexpand-template@1.0.3\u001b[39m\u001b[49m \n",
      "  | |     +-- \u001b[40m\u001b[33mgithub-from-package@0.0.0\u001b[39m\u001b[49m \n",
      "  | |     +-- \u001b[40m\u001b[33mminimist@1.2.0\u001b[39m\u001b[49m \n",
      "  | |     +-- \u001b[40m\u001b[33mmkdirp@0.5.1\u001b[39m\u001b[49m \n",
      "  | |     | `-- \u001b[40m\u001b[33mminimist@0.0.8\u001b[39m\u001b[49m \n",
      "  | |     +-- \u001b[40m\u001b[33mnode-abi@2.0.3\u001b[39m\u001b[49m \n",
      "  | |     +-- \u001b[40m\u001b[33mnoop-logger@0.1.1\u001b[39m\u001b[49m \n",
      "  | |     +-- \u001b[40m\u001b[33mnpmlog@4.1.2\u001b[39m\u001b[49m \n",
      "  | |     | +-- \u001b[40m\u001b[33mare-we-there-yet@1.1.4\u001b[39m\u001b[49m \n",
      "  | |     | | +-- \u001b[40m\u001b[33mdelegates@1.0.0\u001b[39m\u001b[49m \n",
      "  | |     | | `-- \u001b[40m\u001b[33mreadable-stream@2.3.3\u001b[39m\u001b[49m \n",
      "  | |     | |   +-- \u001b[40m\u001b[33mcore-util-is@1.0.2\u001b[39m\u001b[49m \n",
      "  | |     | |   +-- \u001b[40m\u001b[33minherits@2.0.3\u001b[39m\u001b[49m \n",
      "  | |     | |   +-- \u001b[40m\u001b[33misarray@1.0.0\u001b[39m\u001b[49m \n",
      "  | |     | |   +-- \u001b[40m\u001b[33mprocess-nextick-args@1.0.7\u001b[39m\u001b[49m \n",
      "  | |     | |   +-- \u001b[40m\u001b[33mstring_decoder@1.0.3\u001b[39m\u001b[49m \n",
      "  | |     | |   `-- \u001b[40m\u001b[33mutil-deprecate@1.0.2\u001b[39m\u001b[49m \n",
      "  | |     | +-- \u001b[40m\u001b[33mconsole-control-strings@1.1.0\u001b[39m\u001b[49m \n",
      "  | |     | +-- \u001b[40m\u001b[33mgauge@2.7.4\u001b[39m\u001b[49m \n",
      "  | |     | | +-- \u001b[40m\u001b[33maproba@1.1.2\u001b[39m\u001b[49m \n",
      "  | |     | | +-- \u001b[40m\u001b[33mhas-unicode@2.0.1\u001b[39m\u001b[49m \n",
      "  | |     | | +-- \u001b[40m\u001b[33mobject-assign@4.1.1\u001b[39m\u001b[49m \n",
      "  | |     | | +-- \u001b[40m\u001b[33msignal-exit@3.0.2\u001b[39m\u001b[49m \n",
      "  | |     | | +-- \u001b[40m\u001b[33mstring-width@1.0.2\u001b[39m\u001b[49m \n",
      "  | |     | | | +-- \u001b[40m\u001b[33mcode-point-at@1.1.0\u001b[39m\u001b[49m \n",
      "  | |     | | | `-- \u001b[40m\u001b[33mis-fullwidth-code-point@1.0.0\u001b[39m\u001b[49m \n",
      "  | |     | | |   `-- \u001b[40m\u001b[33mnumber-is-nan@1.0.1\u001b[39m\u001b[49m \n",
      "  | |     | | +-- \u001b[40m\u001b[33mstrip-ansi@3.0.1\u001b[39m\u001b[49m \n",
      "  | |     | | | `-- \u001b[40m\u001b[33mansi-regex@2.1.1\u001b[39m\u001b[49m \n",
      "  | |     | | `-- \u001b[40m\u001b[33mwide-align@1.1.2\u001b[39m\u001b[49m \n",
      "  | |     | `-- \u001b[40m\u001b[33mset-blocking@2.0.0\u001b[39m\u001b[49m \n",
      "  | |     +-- \u001b[40m\u001b[33mos-homedir@1.0.2\u001b[39m\u001b[49m \n",
      "  | |     +-- \u001b[40m\u001b[33mpump@1.0.2\u001b[39m\u001b[49m \n",
      "  | |     | +-- \u001b[40m\u001b[33mend-of-stream@1.4.0\u001b[39m\u001b[49m \n",
      "  | |     | `-- \u001b[40m\u001b[33monce@1.4.0\u001b[39m\u001b[49m \n",
      "  | |     |   `-- \u001b[40m\u001b[33mwrappy@1.0.2\u001b[39m\u001b[49m \n",
      "  | |     +-- \u001b[40m\u001b[33mrc@1.2.1\u001b[39m\u001b[49m \n",
      "  | |     | +-- \u001b[40m\u001b[33mdeep-extend@0.4.2\u001b[39m\u001b[49m \n",
      "  | |     | +-- \u001b[40m\u001b[33mini@1.3.4\u001b[39m\u001b[49m \n",
      "  | |     | `-- \u001b[40m\u001b[33mstrip-json-comments@2.0.1\u001b[39m\u001b[49m \n",
      "  | |     +-- \u001b[40m\u001b[33msimple-get@1.4.3\u001b[39m\u001b[49m \n",
      "  | |     | `-- \u001b[40m\u001b[33munzip-response@1.0.2\u001b[39m\u001b[49m \n",
      "  | |     +-- \u001b[40m\u001b[33mtar-fs@1.15.3\u001b[39m\u001b[49m \n",
      "  | |     | +-- \u001b[40m\u001b[33mchownr@1.0.1\u001b[39m\u001b[49m \n",
      "  | |     | `-- \u001b[40m\u001b[33mtar-stream@1.5.4\u001b[39m\u001b[49m \n",
      "  | |     |   `-- \u001b[40m\u001b[33mbl@1.2.1\u001b[39m\u001b[49m \n",
      "  | |     +-- \u001b[40m\u001b[33mtunnel-agent@0.6.0\u001b[39m\u001b[49m \n",
      "  | |     | `-- \u001b[40m\u001b[33msafe-buffer@5.1.1\u001b[39m\u001b[49m \n",
      "  | |     `-- \u001b[40m\u001b[33mxtend@4.0.1\u001b[39m\u001b[49m \n",
      "  | `-- \u001b[40m\u001b[33mnel@0.5.3\u001b[39m\u001b[49m \n",
      "  +-- \u001b[40m\u001b[33mtypescript@2.4.1\u001b[39m\u001b[49m \n",
      "  `-- \u001b[40m\u001b[33muuid@3.1.0\u001b[39m\u001b[49m \n",
      "\n"
     ]
    }
   ],
   "execution_count": 1,
   "metadata": {
    "collapsed": false,
    "outputHidden": false,
    "inputHidden": false
   }
  }
 ],
 "metadata": {
  "kernelspec": {
   "name": "bash",
   "language": "bash",
   "display_name": "Bash"
  },
  "kernel_info": {
   "name": "bash"
  },
  "language_info": {
   "name": "bash",
   "codemirror_mode": "shell",
   "mimetype": "text/x-sh",
   "file_extension": ".sh"
  }
 },
 "nbformat": 4,
 "nbformat_minor": 4
}