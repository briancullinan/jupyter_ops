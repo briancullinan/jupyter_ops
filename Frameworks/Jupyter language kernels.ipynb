{
  "cells": [
    {
      "cell_type": "markdown",
      "source": [
        "# How to install extra kernels in jupyter?\n",
        "\n",
        "How to install bash kernel?\n"
      ],
      "metadata": {}
    },
    {
      "cell_type": "code",
      "source": [
        "pip install bash_kernel\n",
        "python -m bash_kernel.install\n"
      ],
      "outputs": [],
      "execution_count": 1,
      "metadata": {
        "collapsed": false,
        "outputHidden": false,
        "inputHidden": false
      }
    },
    {
      "cell_type": "markdown",
      "source": [
        "How to install ipython kernel?"
      ],
      "metadata": {}
    },
    {
      "cell_type": "code",
      "source": [
        "python2 -m pip install ipykernel\n",
        "python2 -m ipykernel install --user\n",
        "\n"
      ],
      "outputs": [],
      "execution_count": 2,
      "metadata": {
        "collapsed": false,
        "outputHidden": false,
        "inputHidden": false
      }
    },
    {
      "cell_type": "markdown",
      "source": [
        "How to install ICSharp (C#) kernel?"
      ],
      "metadata": {}
    },
    {
      "cell_type": "code",
      "source": [
        "\n",
        "# TODO: add mono http://www.mono-project.com/docs/getting-started/install/mac/\n",
        "git clone --recursive https://github.com/zabirauf/icsharp.git\n",
        "cd icsharp\n",
        "bash ./build.sh\n",
        "python ./install.py\n"
      ],
      "outputs": [],
      "execution_count": 3,
      "metadata": {
        "collapsed": false,
        "outputHidden": false,
        "inputHidden": false
      }
    },
    {
      "cell_type": "code",
      "source": [
        "cd icsharp\n",
        "bash ./build.sh"
      ],
      "outputs": [],
      "execution_count": 1,
      "metadata": {
        "collapsed": false,
        "outputHidden": false,
        "inputHidden": false
      }
    },
    {
      "cell_type": "code",
      "source": [
        "grep -r ./ -e 'xunit.runners'"
      ],
      "outputs": [],
      "execution_count": 4,
      "metadata": {
        "collapsed": false,
        "outputHidden": false,
        "inputHidden": false
      }
    },
    {
      "cell_type": "markdown",
      "source": [
        "How to install ruby?"
      ],
      "metadata": {}
    },
    {
      "cell_type": "code",
      "source": [
        "brew install rbenv automake gmp libtool wget\n",
        "rbenv install 2.4.1\n",
        "rbenv global 2.4.1\n",
        "echo 'eval \"$(rbenv init -)\"' >> ~/.bashrc\n",
        "source ~/.bashrc\n",
        "\n",
        "brew install zeromq\n",
        "brew install czmq --HEAD\n",
        "gem install cztop iruby\n",
        "iruby register --force\n",
        "\n"
      ],
      "outputs": [],
      "execution_count": 7,
      "metadata": {
        "collapsed": false,
        "outputHidden": false,
        "inputHidden": false
      }
    },
    {
      "cell_type": "markdown",
      "source": [
        "How to install Powershell?\n"
      ],
      "metadata": {}
    },
    {
      "cell_type": "code",
      "source": [
        "jupyter --version\n",
        "#pip3 install jupyter jupyterlab notebook\n",
        "#jupyter-notebook serverextension enable --py jupyterlab --sys-prefix\n"
      ],
      "outputs": [
        {
          "output_type": "stream",
          "name": "stdout",
          "text": [
            "bash: jupyter: command not found\n"
          ]
        },
        {
          "output_type": "error",
          "ename": "",
          "evalue": "127",
          "traceback": []
        }
      ],
      "execution_count": 6,
      "metadata": {
        "collapsed": false,
        "outputHidden": false,
        "inputHidden": false
      }
    },
    {
      "cell_type": "code",
      "source": [],
      "outputs": [],
      "execution_count": 2,
      "metadata": {
        "collapsed": false,
        "outputHidden": false,
        "inputHidden": false
      }
    },
    {
      "cell_type": "code",
      "source": [],
      "outputs": [],
      "execution_count": null,
      "metadata": {
        "collapsed": false,
        "outputHidden": false,
        "inputHidden": false
      }
    }
  ],
  "metadata": {
    "kernelspec": {
      "name": "bash",
      "language": "bash",
      "display_name": "Bash"
    },
    "kernel_info": {
      "name": "bash"
    },
    "language_info": {
      "name": "bash",
      "codemirror_mode": "shell",
      "mimetype": "text/x-sh",
      "file_extension": ".sh"
    }
  },
  "nbformat": 4,
  "nbformat_minor": 4
}