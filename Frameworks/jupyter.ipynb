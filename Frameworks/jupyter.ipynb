{
 "cells": [
  {
   "cell_type": "markdown",
   "metadata": {},
   "source": [
    "change  code font\n",
    "\n",
    "\n",
    "```\n",
    "pip install jupyterthemes\n",
    "jt -t onedork -fs 95 -altp -tfs 11 -nfs 115 -cellw 88% -T\n",
    "\n",
    "```\n",
    "\n"
   ]
  },
  {
   "cell_type": "code",
   "execution_count": null,
   "metadata": {},
   "outputs": [],
   "source": [
    "\n",
    "div.text_cell,\n",
    "div.text_cell_render pre,\n",
    "div.text_cell_render {\n",
    "    font-family: 'Roboto', Menlo, Monaco, 'Courier New', monospace;\n",
    "    font-size: 18px;\n",
    "    line-height: 18px !important;\n",
    "}\n",
    "\n",
    "div.cell.text_cell .CodeMirror,\n",
    "div.cell.text_cell .CodeMirror pre,\n",
    "div.CodeMirror pre,\n",
    "div.CodeMirror-dialog,\n",
    "div.CodeMirror-dialog .CodeMirror-search-field,\n",
    "div.terminal-app .terminal {\n",
    "    font-family: 'Roboto Mono';\n",
    "    font-size: 18px;\n",
    "    line-height: 18px !important;\n",
    "}\n",
    "\n"
   ]
  }
 ],
 "metadata": {
  "kernelspec": {
   "display_name": "Javascript (Node.js)",
   "language": "javascript",
   "name": "javascript"
  },
  "language_info": {
   "file_extension": ".js",
   "mimetype": "application/javascript",
   "name": "javascript",
   "version": "10.16.0"
  }
 },
 "nbformat": 4,
 "nbformat_minor": 2
}
