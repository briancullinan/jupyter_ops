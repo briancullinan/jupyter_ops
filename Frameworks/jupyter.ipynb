{
 "cells": [
  {
   "cell_type": "markdown",
   "metadata": {},
   "source": [
    "change  code font\n",
    "\n",
    "\n",
    "```\n",
    "pip install jupyterthemes\n",
    "jt -t onedork -fs 95 -altp -tfs 11 -nfs 115 -cellw 88% -T\n",
    "\n",
    "```\n",
    "\n",
    "Long term TODO:\n",
    "\n",
    "Features for the clone:\n",
    "\n",
    "- Ability to switch between multiple Conda environments on the fly without having to restart the Jupyter Notebook.\n",
    "- 1-click clickable Table of Contents generation (you’re going to love this one!)\n",
    "- A super useful pop-up Scratch Pad (my favorite feature!), where you can play around and test your code on the side without having to change anything in the primary notebook.\n",
    "- Code Folding inside the code cells. I wonder why this feature was not part of the stock Jupyter Notebooks already.\n",
    "- 1-click Code Cell hiding, an important feature when you are telling your data story through visualizations….people are usually interested in your graphs and charts, not the code!\n",
    "- A super cool Variable Inspector!\n",
    "- A Spellchecker for Markdown cells.\n",
    "- ZenMode for those late-night coding sessions.\n",
    "- A Code Snippets menu to add commonly used python constructs like List comprehensions on the fly.\n",
    "- And finally, absolutely the best feature, a soothing beautiful midnight blue color scheme to save your eyes!\n",
    "\n"
   ]
  },
  {
   "cell_type": "code",
   "execution_count": null,
   "metadata": {},
   "outputs": [],
   "source": [
    "\n",
    "div.text_cell,\n",
    "div.text_cell_render pre,\n",
    "div.text_cell_render {\n",
    "    font-family: 'Roboto', Menlo, Monaco, 'Courier New', monospace;\n",
    "    font-size: 18px;\n",
    "    line-height: 18px !important;\n",
    "}\n",
    "\n",
    "div.cell.text_cell .CodeMirror,\n",
    "div.cell.text_cell .CodeMirror pre,\n",
    "div.CodeMirror pre,\n",
    "div.CodeMirror-dialog,\n",
    "div.CodeMirror-dialog .CodeMirror-search-field,\n",
    "div.terminal-app .terminal {\n",
    "    font-family: 'Roboto Mono';\n",
    "    font-size: 18px;\n",
    "    line-height: 18px !important;\n",
    "}\n",
    "\n"
   ]
  }
 ],
 "metadata": {
  "kernelspec": {
   "display_name": "Javascript (Node.js)",
   "language": "javascript",
   "name": "javascript"
  },
  "language_info": {
   "file_extension": ".js",
   "mimetype": "application/javascript",
   "name": "javascript",
   "version": "10.16.0"
  }
 },
 "nbformat": 4,
 "nbformat_minor": 2
}
