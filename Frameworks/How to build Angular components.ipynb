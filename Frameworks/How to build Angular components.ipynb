{
  "cells": [
    {
      "cell_type": "markdown",
      "source": [
        "# How to build Angular components?\n",
        "\n"
      ],
      "metadata": {}
    },
    {
      "cell_type": "code",
      "source": [
        "// first install angular cli\n",
        "var path = require('path');\n",
        "var execSync = require('child_process').execSync;\n",
        "try {\n",
        "    require.resolve('@angular/cli');\n",
        "    require.resolve('rewire');\n",
        "    require.resolve('typescript')\n",
        "} catch (e) {\n",
        "    execSync('npm install @angular/cli rewire typescript');\n",
        "}\n",
        "var rewire = require('rewire');\n",
        "var fs = require('fs');\n",
        "var ts = require('typescript')\n",
        "\n",
        "var mockFs = {\n",
        "    \"angular-cli.json\": `\n",
        "{\n",
        "    \"$schema\": \"./node_modules/@angular/cli/lib/config/schema.json\",\n",
        "    \"project\": {\n",
        "        \"name\": \"act-ecommerce\"\n",
        "    },\n",
        "    \"apps\": [\n",
        "        {\n",
        "            \"root\": \".\",\n",
        "            \"main\": \"main.ts\",\n",
        "            \"tsconfig\": \"../tsconfig.json\",\n",
        "            \"prefix\": \"bc\",\n",
        "            \"styles\": [],\n",
        "            \"scripts\": []\n",
        "        }\n",
        "    ]\n",
        "}\n",
        "`\n",
        "};\n",
        "\n",
        "var oldExistsSync;\n",
        "var mockExistsSync = (filename) => {\n",
        "    if(filename.indexOf('angular-cli') > -1) {\n",
        "        return true;\n",
        "    } else {\n",
        "        return oldExistsSync.apply(this, [filename]);\n",
        "    }\n",
        "};\n",
        "if(typeof oldExistsSync == 'undefined') {\n",
        "    oldExistsSync = fs.existsSync;\n",
        "    fs.existsSync = mockExistsSync;\n",
        "}\n",
        "\n",
        "var oldReadFile;\n",
        "var mockReadFile = (filename, options) => {\n",
        "    if(filename.indexOf('angular-cli') > -1) {\n",
        "        return mockFs['angular-cli.json'];\n",
        "    } else {\n",
        "        return oldReadFile.apply(this, [filename, options]);\n",
        "    }\n",
        "};\n",
        "if(typeof oldReadFileSync == 'undefined') {\n",
        "    oldReadFile = ts.sys.readFile;\n",
        "    ts.sys.readFile = mockReadFile;\n",
        "    //oldReadFileSync = fs.readFileSync;\n",
        "    //fs.readFileSync\n",
        "    \n",
        "}\n",
        "\n\n\n",
        "// obviously we can generate and use a CLI interface from within Node.js\n",
        "var ng = rewire('@angular/cli');\n",
        "ng.__set__('fs', fs);\n",
        "ng.__set__('ts', ts);\n",
        "\n",
        "$$.async();\n",
        "ng({cliArgs: ['generate', 'component', '--skip-import', 'testing'],\n",
        "    inputStream: process.stdin,\n",
        "    outputStream: process.stdout})\n",
        "    .then(r => $$.sendResult(r))\n",
        "    .catch(e => $$.sendError(e));\n",
        "\n\n\n\n"
      ],
      "outputs": [
        {
          "output_type": "stream",
          "name": "stdout",
          "text": [
            "installing component\r\n",
            "1: C:\\Users\\brian.cullinan\\Documents\\jupytangular2\n",
            "2: .\n",
            "3: app\\testing\n",
            "  create app\\testing\\testing.component.css\r\n",
            "  create app\\testing\\testing.component.html\r\n",
            "  create app\\testing\\testing.component.spec.ts\r\n",
            "  create app\\testing\\testing.component.ts\r\n",
            "undefined\n"
          ]
        },
        {
          "output_type": "stream",
          "name": "stderr",
          "text": [
            "Path must be a string. Received undefined\r\n",
            "TypeError: Path must be a string. Received undefined\n",
            "    at assertPath (path.js:7:11)\n",
            "    at Object.dirname (path.js:697:5)\n",
            "    at Class.afterInstall (C:\\Users\\brian.cullinan\\Documents\\jupytangular2\\node_modules\\@angular\\cli\\blueprints\\component\\index.js:218:49)\n",
            "    at tryCatch (C:\\Users\\brian.cullinan\\Documents\\jupytangular2\\node_modules\\rsvp\\dist\\rsvp.js:525:12)\n",
            "    at invokeCallback (C:\\Users\\brian.cullinan\\Documents\\jupytangular2\\node_modules\\rsvp\\dist\\rsvp.js:538:13)\n",
            "    at publish (C:\\Users\\brian.cullinan\\Documents\\jupytangular2\\node_modules\\rsvp\\dist\\rsvp.js:508:7)\n",
            "    at flush (C:\\Users\\brian.cullinan\\Documents\\jupytangular2\\node_modules\\rsvp\\dist\\rsvp.js:2400:5)\n",
            "    at _combinedTickCallback (internal/process/next_tick.js:67:7)\n",
            "    at process._tickCallback (internal/process/next_tick.js:98:9)\r\n"
          ]
        },
        {
          "output_type": "execute_result",
          "execution_count": 1,
          "data": {
            "text/plain": [
              "1"
            ]
          },
          "metadata": {}
        }
      ],
      "execution_count": 1,
      "metadata": {
        "collapsed": false,
        "outputHidden": false,
        "inputHidden": false
      }
    },
    {
      "cell_type": "code",
      "source": [],
      "outputs": [],
      "execution_count": null,
      "metadata": {
        "collapsed": false,
        "outputHidden": false,
        "inputHidden": false
      }
    },
    {
      "cell_type": "code",
      "source": [
        "var fs = require('fs');\n",
        "\nfs.readFileSync('Frameworks/angular-cli.json').toString();"
      ],
      "outputs": [],
      "execution_count": 5,
      "metadata": {
        "collapsed": false,
        "outputHidden": false,
        "inputHidden": false
      }
    },
    {
      "cell_type": "code",
      "source": [
        "var execSync = require('child_process').execSync();\n",
        "try {\n",
        "    require.resolve('glob');\n",
        "} catch (e) {\n",
        "    execSync('glob');\n",
        "}\n",
        "var glob = require('glob');\n",
        "var PROFILE_PATH = process.env.HOME || process.env.HOMEPATH || process.env.USERPROFILE;\n",
        "\n",
        "// But we also want to automatically load projects?\n",
        "var listProjects = (root = PROFILE_PATH) => {\n",
        "    return new Promise((resolve, reject) => {\n",
        "        glob('**/package.json', {\n",
        "            ignore: ['**/node_modules/**'],\n",
        "            cwd: root,\n",
        "            silent: true,\n",
        "            nodir: true,\n",
        "            strict: false\n",
        "        }, (err, matches) => {\n",
        "            var result = {};\n",
        "            matches.forEach(m => {\n",
        "                var projectPath = path.dirname(path.join(root, m));\n",
        "                result[path.basename(projectPath)] = projectPath;\n",
        "            })\n",
        "            return resolve();\n",
        "        });\n",
        "    });\n",
        "};\n",
        "(listProjects);\n"
      ],
      "outputs": [],
      "execution_count": 16,
      "metadata": {
        "collapsed": false,
        "outputHidden": false,
        "inputHidden": false
      }
    },
    {
      "cell_type": "code",
      "source": [
        "$$.async();\n",
        "listProjects(path.join(PROFILE_PATH, 'Documents'))\n",
        "    .then(r => $$.sendResult(r))\n",
        "    .catch(e => $$.sendError(e));"
      ],
      "outputs": [],
      "execution_count": 17,
      "metadata": {
        "collapsed": false,
        "outputHidden": false,
        "inputHidden": false
      }
    },
    {
      "cell_type": "code",
      "source": [
        "// Wouldn't it be nice if we could list these projects as interactive icons?\n",
        "\n"
      ],
      "outputs": [],
      "execution_count": null,
      "metadata": {
        "collapsed": false,
        "outputHidden": false,
        "inputHidden": false
      }
    }
  ],
  "metadata": {
    "kernelspec": {
      "name": "node_nteract",
      "language": "javascript",
      "display_name": "Node.js (nteract)"
    },
    "kernel_info": {
      "name": "node_nteract"
    },
    "language_info": {
      "name": "javascript",
      "version": "6.5.0",
      "mimetype": "application/javascript",
      "file_extension": ".js"
    }
  },
  "nbformat": 4,
  "nbformat_minor": 4
}