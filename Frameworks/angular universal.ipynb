{
  "cells": [
    {
      "cell_type": "markdown",
      "source": [
        "How to start angular universal express?\n"
      ],
      "metadata": {}
    },
    {
      "cell_type": "code",
      "source": [
        "\n",
        "import 'zone.js/dist/zone-node';\n",
        "import { platformServer, renderModuleFactory } from '@angular/platform-server'\n",
        "var ng = require('@angular/core');\n",
        "var {enableProdMode} = ng;\n",
        "import { AppServerModule } from './app.server'\n",
        "import { AppServerModuleNgFactory } from './ngfactory/src/app.server.ngfactory'\n",
        "import * as express from 'express';\n",
        "\n",
        "enableProdMode();\n",
        "\n",
        "var app = express();\n",
        "\n"
      ],
      "outputs": [
        {
          "output_type": "execute_result",
          "execution_count": 6,
          "data": {
            "text/plain": [
              "undefined"
            ]
          },
          "metadata": {}
        }
      ],
      "execution_count": 6,
      "metadata": {
        "collapsed": false,
        "outputHidden": false,
        "inputHidden": false
      }
    },
    {
      "cell_type": "markdown",
      "source": [
        "How to attach templates to express engine?\n"
      ],
      "metadata": {}
    },
    {
      "cell_type": "code",
      "source": [
        "\n",
        "//hacky express wrapper thingy.\n",
        "\n",
        "const fs = require('fs');\n",
        "const path = require('path');\n",
        "import {renderModuleFactory} from '@angular/platform-server';\n",
        "\n",
        "const templateCache  = {};\n",
        "\n",
        "export function ngExpressEngine(setupOptions){\n",
        "\n",
        "\treturn function(filePath, options, callback){\n",
        "\t\tif(!templateCache[filePath]){\n",
        "\t\t\tlet file = fs.readFileSync(filePath);\n",
        "\t\t\ttemplateCache[filePath] = file.toString();\n",
        "\t\t}\n",
        "\t\trenderModuleFactory(setupOptions.bootstrap[0], {\n",
        "\t\t\tdocument: templateCache[filePath],\n",
        "\t\t\turl: options.req.url\n",
        "\t\t})\n",
        "\t\t.then(string => {\n",
        "\t\t\tcallback(null, string);\n",
        "\t\t});\n",
        "\t}\n",
        "}\n",
        "\n"
      ],
      "outputs": [
        {
          "output_type": "execute_result",
          "execution_count": 7,
          "data": {
            "text/plain": [
              "[Function: ngExpressEngine]"
            ]
          },
          "metadata": {}
        }
      ],
      "execution_count": 7,
      "metadata": {
        "collapsed": false,
        "outputHidden": false,
        "inputHidden": false
      }
    },
    {
      "cell_type": "markdown",
      "source": [
        "express routing Angular universal server?\n"
      ],
      "metadata": {}
    },
    {
      "cell_type": "code",
      "source": [
        "\n",
        "app.engine('html', ngExpressEngine({\n",
        "\tbaseUrl: 'http://localhost:4200',\n",
        "\tbootstrap: [AppServerModuleNgFactory]\n",
        "}));\n",
        "\n",
        "app.set('view engine', 'html');\n",
        "app.set('views', 'src')\n",
        "\n",
        "app.get('/', (req, res) => {\n",
        "\tres.render('index', {req});\n",
        "});\n",
        "\n",
        "app.get('/lazy', (req, res) => {\n",
        "\tres.render('index', {req});\n",
        "});\n",
        "\n",
        "var server = app.listen(8000,() => {\n",
        "\tconsole.log('listening...')\n",
        "});\n"
      ],
      "outputs": [
        {
          "output_type": "error",
          "ename": "ReferenceError",
          "evalue": "AppServerModuleNgFactory is not defined",
          "traceback": [
            "ReferenceError: AppServerModuleNgFactory is not defined",
            "    at evalmachine.<anonymous>:3:17",
            "    at ContextifyScript.Script.runInThisContext (vm.js:23:33)",
            "    at Object.runInThisContext (vm.js:95:38)",
            "    at run ([eval]:617:19)",
            "    at onRunRequest ([eval]:388:22)",
            "    at onMessage ([eval]:356:17)",
            "    at emitTwo (events.js:106:13)",
            "    at process.emit (events.js:194:7)",
            "    at process.nextTick (internal/child_process.js:766:12)",
            "    at ZoneDelegate.invokeTask (/Users/briancullinan/Documents/portal/node_modules/zone.js/dist/zone-node.js:424:31)"
          ]
        }
      ],
      "execution_count": 9,
      "metadata": {
        "collapsed": false,
        "outputHidden": false,
        "inputHidden": false
      }
    },
    {
      "cell_type": "markdown",
      "source": [
        "How to stop universal server?\n",
        "\n"
      ],
      "metadata": {}
    },
    {
      "cell_type": "code",
      "source": [
        "var stopNgUniversal = () => {\n",
        "    server.close();\n",
        "};\n",
        "(stopNgUniversal);\n"
      ],
      "outputs": [],
      "execution_count": 4,
      "metadata": {
        "collapsed": false,
        "outputHidden": false,
        "inputHidden": false
      }
    }
  ],
  "metadata": {
    "kernelspec": {
      "name": "typescript",
      "language": "typescript",
      "display_name": "Typescript 2.4"
    },
    "kernel_info": {
      "name": "typescript"
    },
    "language_info": {
      "name": "typescript",
      "version": "2.4.1",
      "mimetype": "text/x-typescript",
      "file_extension": ".ts"
    }
  },
  "nbformat": 4,
  "nbformat_minor": 4
}