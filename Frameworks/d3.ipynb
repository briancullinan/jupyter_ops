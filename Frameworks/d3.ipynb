{
 "cells": [
  {
   "cell_type": "markdown",
   "metadata": {},
   "source": [
    "Return an SVG from d3-cloud rendering?\n",
    "\n"
   ]
  },
  {
   "cell_type": "code",
   "execution_count": 2,
   "metadata": {},
   "outputs": [
    {
     "data": {
      "text/plain": [
       "[Function: drawD3Cloud]"
      ]
     },
     "execution_count": 2,
     "metadata": {},
     "output_type": "execute_result"
    }
   ],
   "source": [
    "var execSync = require('child_process').execSync;\n",
    "try {\n",
    "    require.resolve('d3-node');\n",
    "} catch (e) {\n",
    "    execSync('npm install \"d3-node');\n",
    "}\n",
    "\n",
    "var D3Node = require('d3-node');\n",
    "var d3n = new D3Node(); // initializes D3 with container element \n",
    "var d3 = d3n.d3;\n",
    "\n",
    "var margin = {top: 20, right: 20, bottom: 30, left: 50},\n",
    "    width = 960 - margin.left - margin.right,\n",
    "    height = 500 - margin.top - margin.bottom;\n",
    "\n",
    "var fill = d3.scaleOrdinal(d3.schemeCategory20);\n",
    "\n",
    "function drawD3Cloud(wordCount) {\n",
    "    d3n.createSVG(width + margin.left + margin.right,\n",
    "                        height + margin.top + margin.bottom)\n",
    "        .append(\"g\")\n",
    "        .attr(\"transform\",\n",
    "              \"translate(\" + (margin.left + width / 2) + \",\" + (margin.top + height / 2) + \")\")\n",
    "        .selectAll(\"text\")\n",
    "        .data(wordCount)\n",
    "        .enter().append(\"text\")\n",
    "        .style(\"font-size\", function(d) { return d.size + \"px\"; })\n",
    "        .style(\"font-family\", \"Impact\")\n",
    "        .style(\"fill\", function(d, i) { return fill(i); })\n",
    "        .attr(\"text-anchor\", \"middle\")\n",
    "        .attr(\"transform\", function(d) {\n",
    "             return \"translate(\" + [d.x, d.y] + \")rotate(\" + d.rotate + \")\";\n",
    "        })\n",
    "        .text(function(d) { return d.text; });\n",
    "    \n",
    "    return d3n.svgString();\n",
    "};\n",
    "drawD3Cloud;\n"
   ]
  },
  {
   "cell_type": "markdown",
   "metadata": {},
   "source": [
    "Create a word-cloud from text and size values?\n",
    "\n"
   ]
  },
  {
   "cell_type": "code",
   "execution_count": 3,
   "metadata": {},
   "outputs": [
    {
     "data": {
      "text/plain": [
       "[Function: d3CloudToSVG]"
      ]
     },
     "execution_count": 3,
     "metadata": {},
     "output_type": "execute_result"
    }
   ],
   "source": [
    "var execSync = require('child_process').execSync;\n",
    "try {\n",
    "    require.resolve('d3-cloud');\n",
    "    require.resolve('canvas');\n",
    "} catch (e) {\n",
    "    execSync('npm install \"github:gulpjs/gulp.git#4.0\" gulp-tap d3-node d3-cloud canvas');\n",
    "}\n",
    "\n",
    "var cloud = require('d3-cloud');\n",
    "var Canvas = require(\"canvas\");\n",
    "\n",
    "var d3CloudToSVG = (wordCount) => {\n",
    "    return new Promise(resolve => {\n",
    "        cloud()\n",
    "            .canvas(function() { return new Canvas(1, 1); })\n",
    "            .size([width, height])\n",
    "            .words(wordCount)\n",
    "            .padding(0)\n",
    "            .rotate(function() { return ~~(Math.random() * 120) - 60; })\n",
    "            .font(\"Impact\")\n",
    "            .fontSize(function(d) { return d.size; })\n",
    "            .on(\"end\", function (wordCount) {\n",
    "                resolve(drawD3Cloud(wordCount));\n",
    "            })\n",
    "            .start();\n",
    "    });\n",
    "};\n",
    "d3CloudToSVG;\n"
   ]
  },
  {
   "cell_type": "code",
   "execution_count": null,
   "metadata": {},
   "outputs": [],
   "source": [
    "\n"
   ]
  },
  {
   "cell_type": "code",
   "execution_count": null,
   "metadata": {},
   "outputs": [],
   "source": []
  },
  {
   "cell_type": "code",
   "execution_count": null,
   "metadata": {},
   "outputs": [],
   "source": []
  }
 ],
 "metadata": {
  "kernelspec": {
   "display_name": "Javascript (Node.js)",
   "language": "javascript",
   "name": "javascript"
  },
  "language_info": {
   "file_extension": ".js",
   "mimetype": "application/javascript",
   "name": "javascript",
   "version": "7.7.2"
  }
 },
 "nbformat": 4,
 "nbformat_minor": 2
}
