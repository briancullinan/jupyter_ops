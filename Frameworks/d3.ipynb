{
 "cells": [
  {
   "cell_type": "markdown",
   "metadata": {},
   "source": [
    "Return an SVG from d3-cloud rendering?\n",
    "\n"
   ]
  },
  {
   "cell_type": "code",
   "execution_count": null,
   "metadata": {},
   "outputs": [],
   "source": [
    "var execSync = require('child_process').execSync;\n",
    "try {\n",
    "    require.resolve('d3-node');\n",
    "} catch (e) {\n",
    "    execSync('npm install \"d3-node');\n",
    "}\n",
    "\n",
    "var D3Node = require('d3-node');\n",
    "var d3n = new D3Node(); // initializes D3 with container element \n",
    "var d3 = d3n.d3;\n",
    "\n",
    "var margin = {top: 20, right: 20, bottom: 30, left: 50},\n",
    "    width = 960 - margin.left - margin.right,\n",
    "    height = 500 - margin.top - margin.bottom;\n",
    "\n",
    "var fill = d3.scaleOrdinal(d3.schemeCategory20);\n",
    "\n",
    "function drawD3Cloud(wordCount) {\n",
    "    d3n.createSVG(width + margin.left + margin.right,\n",
    "                        height + margin.top + margin.bottom)\n",
    "        .append(\"g\")\n",
    "        .attr(\"transform\",\n",
    "              \"translate(\" + (margin.left + width / 2) + \",\" + (margin.top + height / 2) + \")\")\n",
    "        .selectAll(\"text\")\n",
    "        .data(wordCount)\n",
    "        .enter().append(\"text\")\n",
    "        .style(\"font-size\", function(d) { return d.size + \"px\"; })\n",
    "        .style(\"font-family\", \"Impact\")\n",
    "        .style(\"fill\", function(d, i) { return fill(i); })\n",
    "        .attr(\"text-anchor\", \"middle\")\n",
    "        .attr(\"transform\", function(d) {\n",
    "             return \"translate(\" + [d.x, d.y] + \")rotate(\" + d.rotate + \")\";\n",
    "        })\n",
    "        .text(function(d) { return d.text; });\n",
    "    \n",
    "    return d3n.svgString();\n",
    "};\n",
    "drawD3Cloud;\n"
   ]
  },
  {
   "cell_type": "markdown",
   "metadata": {},
   "source": [
    "Create a word-cloud from text and size values?\n",
    "\n"
   ]
  },
  {
   "cell_type": "code",
   "execution_count": null,
   "metadata": {},
   "outputs": [],
   "source": [
    "var execSync = require('child_process').execSync;\n",
    "try {\n",
    "    require.resolve('d3-cloud');\n",
    "    require.resolve('canvas');\n",
    "} catch (e) {\n",
    "    execSync('npm install \"github:gulpjs/gulp.git#4.0\" gulp-tap d3-node d3-cloud canvas');\n",
    "}\n",
    "\n",
    "var cloud = require('d3-cloud');\n",
    "var Canvas = require(\"canvas\");\n",
    "\n",
    "var d3CloudToSVG = (wordCount) => {\n",
    "    return new Promise(resolve => {\n",
    "        cloud()\n",
    "            .canvas(function() { return new Canvas(1, 1); })\n",
    "            .size([width, height])\n",
    "            .words(wordCount)\n",
    "            .padding(0)\n",
    "            .rotate(function() { return ~~(Math.random() * 120) - 60; })\n",
    "            .font(\"Impact\")\n",
    "            .fontSize(function(d) { return d.size; })\n",
    "            .on(\"end\", function (wordCount) {\n",
    "                resolve(drawD3Cloud(wordCount));\n",
    "            })\n",
    "            .start();\n",
    "    });\n",
    "};\n",
    "d3CloudToSVG;\n"
   ]
  },
  {
   "cell_type": "markdown",
   "metadata": {},
   "source": [
    "Display a long tree?\n"
   ]
  },
  {
   "cell_type": "code",
   "execution_count": 11,
   "metadata": {},
   "outputs": [
    {
     "data": {
      "text/plain": [
       "[Function: d3TreeToSVG]"
      ]
     },
     "execution_count": 11,
     "metadata": {},
     "output_type": "execute_result"
    }
   ],
   "source": [
    "// source: https://github.com/rangle/augury/blob/dev/src/frontend/components/router-tree/router-tree.ts\n",
    "var D3Node = require('d3-node');\n",
    "var d3n = new D3Node(); // initializes D3 with container element \n",
    "var d3 = d3n.d3;\n",
    "\n",
    "var margin = {top: 25, right: 25, bottom: 25, left: 25},\n",
    "    width = 960 - margin.left - margin.right,\n",
    "    height = 500 - margin.top - margin.bottom;\n",
    "\n",
    "var tree = d3.tree()\n",
    "    .nodeSize([25, 150]);\n",
    "\n",
    "var fill = d3.scaleOrdinal(d3.schemeCategory20);\n",
    "\n",
    "var d3TreeToSVG = (routes) => {\n",
    "    \n",
    "    var svg = d3n.createSVG(width + margin.left + margin.right,\n",
    "                            height + margin.top + margin.bottom)\n",
    "    var g = svg.append(\"g\");\n",
    "\n",
    "    // Compute the new tree layout.\n",
    "\n",
    "    var root = {\n",
    "      name: 'root',\n",
    "      children: routes,\n",
    "      hash: null,\n",
    "      path: null,\n",
    "      specificity: null,\n",
    "      handler: null,\n",
    "      data: {},\n",
    "      isAux: false,\n",
    "    };\n",
    "\n",
    "    var nodes = tree(d3.hierarchy(\n",
    "      (root.children.length === 0 || root.children.length > 1) ? root : root.children[0], d => d.children));\n",
    "\n",
    "    g.selectAll('.link')\n",
    "      .data(nodes.descendants().slice(1))\n",
    "      .enter().append('path')\n",
    "        .attr('class', 'link')\n",
    "        .attr('d', d => `\n",
    "            M${d.y},${d.x}\n",
    "            C${(d.y + d.parent.y) / 2},\n",
    "              ${d.x} ${(d.y + d.parent.y) / 2},\n",
    "              ${d.parent.x} ${d.parent.y},\n",
    "              ${d.parent.x}`);\n",
    "\n",
    "    // Declare the nodes\n",
    "    var node = g.selectAll('g.node')\n",
    "      .data(nodes.descendants())\n",
    "      .enter().append('g')\n",
    "      .attr('class', 'node')\n",
    "    .style(\"fill\", function(d, i) { return fill(i); })\n",
    "    //  .on('mouseover', n => this.onRollover(n.data))\n",
    "    //  .on('mouseout', n => this.onRollover(n.data))\n",
    "      .attr('transform', d => `translate(${d.y},${d.x})`);\n",
    "\n",
    "    node.append('circle')\n",
    "      .attr('class', d => (d.data).isAux ? 'node-aux-route' : 'node-route')\n",
    "      .attr('r', 6);\n",
    "\n",
    "    node.append('text')\n",
    "      .attr('x', (d) => d.children ? -13 : 13)\n",
    "      .attr('dy', '.35em')\n",
    "      .attr('text-anchor', (d) => d.children ? 'end' : 'start')\n",
    "      .text(d => (d.data).name)\n",
    "      .attr('class', 'monospace');\n",
    "\n",
    "    // reset transform\n",
    "    g.attr('transform', 'translate(0, 0)');\n",
    "\n",
    "    g.attr(\"transform\",\n",
    "        \"translate(\" + (margin.left + width / 2) + \",\" + (margin.top + height / 2) + \")\")\n",
    "\n",
    "    return d3n.svgString();\n",
    "};\n",
    "d3TreeToSVG;\n"
   ]
  },
  {
   "cell_type": "code",
   "execution_count": 12,
   "metadata": {},
   "outputs": [
    {
     "data": {
      "image/svg+xml": [
       "<svg xmlns=\"http://www.w3.org/2000/svg\" width=\"960\" height=\"500\"><g transform=\"translate(480,250)\"><path class=\"link\" d=\"\n",
       "            M150,-12.5\n",
       "            C75,\n",
       "              -12.5 75,\n",
       "              0 0,\n",
       "              0\"></path><path class=\"link\" d=\"\n",
       "            M150,12.5\n",
       "            C75,\n",
       "              12.5 75,\n",
       "              0 0,\n",
       "              0\"></path><g class=\"node\" style=\"fill: #1f77b4;\" transform=\"translate(0,0)\"><circle class=\"node-route\" r=\"6\"></circle><text x=\"-13\" dy=\".35em\" text-anchor=\"end\" class=\"monospace\">@angular/router</text></g><g class=\"node\" style=\"fill: #aec7e8;\" transform=\"translate(150,-12.5)\"><circle class=\"node-route\" r=\"6\"></circle><text x=\"13\" dy=\".35em\" text-anchor=\"start\" class=\"monospace\">app.component</text></g><g class=\"node\" style=\"fill: #ff7f0e;\" transform=\"translate(150,12.5)\"><circle class=\"node-route\" r=\"6\"></circle><text x=\"13\" dy=\".35em\" text-anchor=\"start\" class=\"monospace\">login.component</text></g></g></svg>"
      ]
     },
     "execution_count": 12,
     "metadata": {},
     "output_type": "execute_result"
    }
   ],
   "source": [
    "\n",
    "$$.svg(d3TreeToSVG([\n",
    "    {\n",
    "        name: '@angular/router',\n",
    "        children: [\n",
    "            {\n",
    "                name: 'app.component'\n",
    "            },\n",
    "            {\n",
    "                name: 'login.component'\n",
    "            }\n",
    "        ]\n",
    "    }\n",
    "]));\n"
   ]
  },
  {
   "cell_type": "code",
   "execution_count": null,
   "metadata": {},
   "outputs": [],
   "source": []
  }
 ],
 "metadata": {
  "kernelspec": {
   "display_name": "Javascript (Node.js)",
   "language": "javascript",
   "name": "javascript"
  },
  "language_info": {
   "file_extension": ".js",
   "mimetype": "application/javascript",
   "name": "javascript",
   "version": "7.7.2"
  }
 },
 "nbformat": 4,
 "nbformat_minor": 2
}
