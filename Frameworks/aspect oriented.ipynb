{
 "cells": [
  {
   "cell_type": "markdown",
   "metadata": {},
   "source": [
    "affect - run after the code\n",
    "prefect - run before the code\n",
    "inflect - make available part of the affection within the code\n",
    "reflect - describe the current affection\n",
    "infect - replace part of code with result of another\n",
    "effect - return a list of affections the occured or will occur if reference is provided"
   ]
  }
 ],
 "metadata": {
  "kernelspec": {
   "display_name": "Javascript (Node.js)",
   "language": "javascript",
   "name": "javascript"
  },
  "language_info": {
   "file_extension": ".js",
   "mimetype": "application/javascript",
   "name": "javascript",
   "version": "10.15.3"
  }
 },
 "nbformat": 4,
 "nbformat_minor": 2
}
