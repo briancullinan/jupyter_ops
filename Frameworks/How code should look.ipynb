{
 "cells": [
  {
   "cell_type": "markdown",
   "source": [
    "# How do I want code to look?\n",
    "# How code should look?\n",
    "\n"
   ],
   "metadata": {}
  },
  {
   "cell_type": "code",
   "source": [
    "$$.interpret = (statement) => {\r",
    "    if (statement.indexOf('attachments') > -1) {\r",
    "        console.log(statement);\r",
    "    }\r",
    "};\r",
    "$$.interpret('attachments from michelle@thesosmethod.com last 7 days');\r",
    "$$.interpret('save attachments to sosmethod assets');\r",
    "$$.interpret('save sosmethod.org #kinder img to sosmethod assets');\r",
    "$$.interpret('save sosmethod.org .w-gallery img to sosmethod assets');\r",
    "\r",
    ""
   ],
   "outputs": [],
   "execution_count": null,
   "metadata": {
    "collapsed": false,
    "outputHidden": false,
    "inputHidden": false
   }
  }
 ],
 "metadata": {
  "kernelspec": {
   "name": "node_nteract",
   "language": "javascript",
   "display_name": "Node.js (nteract)"
  },
  "kernel_info": {
   "name": "node_nteract"
  },
  "language_info": {
   "name": "javascript",
   "version": "6.5.0",
   "mimetype": "application/javascript",
   "file_extension": ".js"
  }
 },
 "nbformat": 4,
 "nbformat_minor": 4
}