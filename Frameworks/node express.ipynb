{
 "cells": [
  {
   "cell_type": "markdown",
   "metadata": {},
   "source": [
    "# How to use nodejs express?"
   ]
  },
  {
   "cell_type": "code",
   "execution_count": null,
   "metadata": {
    "inputHidden": false,
    "outputHidden": false
   },
   "outputs": [],
   "source": [
    "var exec = require('child_process').execSync;\n",
    "var fs = require('fs');\n",
    "var sourceCmd = exec('npm install jsdom express request mime', {stdio: [0, 1, 2]});\n",
    "var express = require('express');\n",
    "var mime = require('mime');\n",
    "var path = require('path');\n",
    "var request = require('request');\n",
    "var JSDOM = require('jsdom').JSDOM;\n",
    "\n",
    "var output = path.join(process.cwd(), 'output');\n",
    "var port = process.env.PORT || 3000;\n",
    "var host = 'localhost';\n",
    "var query = '.w-gallery-list img';\n",
    "\n",
    "$$.done('express is ready');"
   ]
  },
  {
   "cell_type": "markdown",
   "metadata": {},
   "source": [
    "How to start a proxy using express?\n",
    "\n",
    "How to start a proxy on {port}?\n",
    "\n"
   ]
  },
  {
   "cell_type": "code",
   "execution_count": null,
   "metadata": {
    "inputHidden": false,
    "outputHidden": false
   },
   "outputs": [],
   "source": [
    "if (typeof server != 'undefined') {\n",
    "    server.close();\n",
    "}\n",
    "var app = express();\n",
    "app.use('/', function (req, res) {\n",
    "    var url = host + req.url;\n",
    "    req.pipe(request(url)).pipe(res);\n",
    "});\n",
    "\n",
    "$$.async();\n",
    "try {\n",
    "    var server = app.listen(port, () => $$.done('server up and running on port ' + port));\n",
    "    server.on('error', (e) => $$.done(e));\n",
    "} catch (e) {\n",
    "    $$.done(e);\n",
    "}\n",
    "\n"
   ]
  },
  {
   "cell_type": "markdown",
   "metadata": {},
   "source": [
    "How to display the output from express?\n",
    "\n",
    "How to test express is working with HTML?"
   ]
  },
  {
   "cell_type": "code",
   "execution_count": null,
   "metadata": {
    "inputHidden": false,
    "outputHidden": false
   },
   "outputs": [],
   "source": [
    "$$.mime({\n",
    "    'text/html': `\n",
    "<iframe id=\"sosmethod\" name=\"sosmethod\" \n",
    "    style=\"height:600px; width:100%; border:none;\" \n",
    "    src=\"http://${host}:${port}/\"></iframe>`\n",
    "});"
   ]
  },
  {
   "cell_type": "markdown",
   "metadata": {},
   "source": [
    "How to run a DOM query on a remote HTML page?"
   ]
  },
  {
   "cell_type": "code",
   "execution_count": null,
   "metadata": {
    "inputHidden": false,
    "outputHidden": false
   },
   "outputs": [],
   "source": [
    "$$.async();\n",
    "var images = [];\n",
    "new Promise((resolve, reject) => {\n",
    "    request('http://' + host + ':' + port, (err, res, body) => {\n",
    "        if (err) {\n",
    "            reject(err)\n",
    "        }\n",
    "        else {\n",
    "            resolve(body)\n",
    "        }\n",
    "    });\n",
    "}).then((body) => {\n",
    "    var nodeList = (new JSDOM(body)).window.document.querySelectorAll(query);\n",
    "    return Array.prototype.slice.call(nodeList, 0)\n",
    "        .map(i => i.getAttribute('src'));\n",
    "}).then(sources => {\n",
    "    images = sources;\n",
    "    $$.done(sources);\n",
    "}).catch(e => $$.done(e));\n"
   ]
  },
  {
   "cell_type": "markdown",
   "metadata": {},
   "source": [
    "How to save a list of image elements?\n",
    "\n",
    "How to display a list of image elements in markdown?\n",
    "\n",
    "How to {output} image elements in the requested {format}?\n"
   ]
  },
  {
   "cell_type": "code",
   "execution_count": null,
   "metadata": {
    "inputHidden": false,
    "outputHidden": false
   },
   "outputs": [],
   "source": [
    "var html = '';\n",
    "var htmlPrint = '';\n",
    "var requests = images.map((src) => {\n",
    "    var filename = src.split('/').pop();\n",
    "    return new Promise((resolve, reject) => {\n",
    "        request(src, {encoding: 'binary'}, (err, res, body) => {\n",
    "            if (err) {\n",
    "                reject(err)\n",
    "            }\n",
    "            else {\n",
    "                resolve(body)\n",
    "            }\n",
    "        });\n",
    "    }).then(body => {\n",
    "        return new Promise((resolve, reject) => {\n",
    "            fs.writeFile(\n",
    "                path.join(output, filename),\n",
    "                body,\n",
    "                'binary',\n",
    "                function (err) {\n",
    "                    if (err) reject(err);\n",
    "                    else resolve({filename: filename, data: body});\n",
    "                });\n",
    "        })\n",
    "    });\n",
    "});\n",
    "$$.async();\n",
    "Promise.all(requests).then(images => {\n",
    "    images.forEach((i) => {\n",
    "        var filename = i.filename.split('/').pop();\n",
    "        var ext = mime.lookup(i.filename);\n",
    "        html += '<img src=\"data:' + ext + ';base64,' + (new Buffer(i.data, 'binary')).toString('base64') + '\" />';\n",
    "        htmlPrint += '<li><img src=\"/assets/' + filename + '\" /></li>\\n';\n",
    "    });\n",
    "    $$.mime({'text/markdown': 'Usage:\\n\\n```html\\n' + htmlPrint + '\\n```\\nOutput:\\n' + html});\n",
    "}).catch(e => $$.done(e));\n"
   ]
  },
  {
   "cell_type": "markdown",
   "metadata": {},
   "source": [
    "How to stop express server?"
   ]
  },
  {
   "cell_type": "code",
   "execution_count": null,
   "metadata": {
    "inputHidden": false,
    "outputHidden": false
   },
   "outputs": [],
   "source": [
    "if (typeof server !== 'undefined') {\n",
    "    server.close();\n",
    "}\n",
    "\n"
   ]
  },
  {
   "cell_type": "markdown",
   "metadata": {},
   "source": [
    "express rpc wrapper?\n"
   ]
  },
  {
   "cell_type": "code",
   "execution_count": null,
   "metadata": {},
   "outputs": [],
   "source": [
    "var cors = require('cors')({origin: true});\n",
    "var bodyParser = require('body-parser');\n",
    "var express = require('express');\n",
    "var importer = require('../Core');\n",
    "var { getResult } = importer.import(['get rpc permissions', 'rpc result']);\n",
    "\n",
    "var app = express();\n",
    "var server = require('http').createServer(app);\n",
    "app.use(bodyParser.json());    // to support JSON-encoded bodies\n",
    "app.use(bodyParser.urlencoded({// to support URL-encoded bodies\n",
    "    extended: true\n",
    "}));\n",
    "app.use(cors);\n",
    "\n",
    "var router = express.Router();\n",
    "\n",
    "// TODO: ? https://en.wikipedia.org/wiki/Portmap\n",
    "router.all('/rpc', (req, res) => {\n",
    "    return Promise.resolve([])\n",
    "        .then(() => getResult({\n",
    "            command: req.body['function'] || req.query['function'],\n",
    "            result: importer.interpret(req.body['function'] || req.query['function']),\n",
    "            body: req.method === 'POST' ? req.body : req.query,\n",
    "            circles: ['Public']\n",
    "        }))\n",
    "        .then(r => {\n",
    "            //console.log(r);\n",
    "            res.status(200).send(JSON.stringify(r, null, 4));\n",
    "        })\n",
    "        // TODO: object assign error?\n",
    "        .catch(e => {\n",
    "            const resultError = Object.getOwnPropertyNames(e).reduce((alt, key) => {\n",
    "                alt[key] = e[key];\n",
    "                return alt;\n",
    "            }, {});\n",
    "            console.log(e);\n",
    "            res.status(500).send(JSON.stringify(resultError, null, 4))\n",
    "        });\n",
    "});\n",
    "\n",
    "app.use(router);\n",
    "\n",
    "// open the port\n",
    "if(typeof listener !== 'undefined') {\n",
    "    listener.close();\n",
    "}\n",
    "console.log('Listening on 0.0.0.0:8181');\n",
    "var listener = server.listen(8181)\n",
    "    .on('error', e => {\n",
    "        debugger\n",
    "        if(e.code !== 'EADDRINUSE') {\n",
    "            throw e;\n",
    "        }\n",
    "    })\n",
    "    .on('close', () => {\n",
    "        debugger\n",
    "    })\n",
    "\n",
    "// shut down properly\n",
    "process.on ('SIGTERM', () => {\n",
    "    debugger\n",
    "    listener.close()\n",
    "    process.exit(0)\n",
    "});\n",
    "process.on ('SIGINT', () => {\n",
    "    debugger\n",
    "    listener.close()\n",
    "    process.exit(0)\n",
    "});\n",
    "\n",
    "module.exports = function start() {\n",
    "    return new Promise(resolve => {\n",
    "    })\n",
    "}\n",
    "\n",
    "if(typeof $$ !== 'undefined') {\n",
    "    $$.done();\n",
    "}\n"
   ]
  },
  {
   "cell_type": "code",
   "execution_count": null,
   "metadata": {
    "collapsed": true
   },
   "outputs": [],
   "source": []
  },
  {
   "cell_type": "markdown",
   "metadata": {},
   "source": [
    "zuora eloqua express mock?\n"
   ]
  },
  {
   "cell_type": "code",
   "execution_count": null,
   "metadata": {
    "collapsed": true
   },
   "outputs": [],
   "source": [
    "var importer = require('../Core')\n",
    "var bodyParser = require('body-parser');\n",
    "var express = require('express');\n",
    "\n",
    "var selenium = express();\n",
    "var server = require('http').createServer(selenium);\n",
    "selenium.use(bodyParser.json());    // to support JSON-encoded bodies\n",
    "selenium.use(bodyParser.urlencoded({// to support URL-encoded bodies\n",
    "    extended: true\n",
    "}));\n",
    "\n",
    "var router = express.Router();\n",
    "\n",
    "\n",
    "// auth endpoints\n",
    "router.post('/auth/oauth2/authorize', (req, res) => { \n",
    "    res.send('');\n",
    "});\n",
    "\n",
    "router.post('/auth/oauth2/token', (req, res) => {\n",
    "    res.send({\n",
    "        \"access_token\": \"access_token\",\n",
    "        \"token_type\": \"bearer\",\n",
    "        \"expires_in\": 28800,\n",
    "        \"refresh_token\": \"refresh_token\",\n",
    "    })\n",
    "});\n",
    "\n",
    "\n",
    "// eloqua endpoints\n",
    "router.post('/bulk/2.0/contacts/imports', (req, res) => {\n",
    "    res.send({\n",
    "        uri: '/imports/1234'\n",
    "    });\n",
    "});\n",
    "router.post('/bulk/2.0/imports/:importId/data', (req, res) => {\n",
    "    res.status(204);\n",
    "    res.send({\n",
    "        uri: '/imports/1234'\n",
    "    });\n",
    "});\n",
    "router.post('/bulk/2.0/syncs', (req, res) => {\n",
    "    res.send({\n",
    "        uri: '/sync/1234'\n",
    "    });\n",
    "});\n",
    "var alternateImportStatus = true;\n",
    "router.get('/bulk/2.0/sync/:syncId', (req, res) => {\n",
    "    res.send({\n",
    "        status: alternateImportStatus ? 'active' : 'success',\n",
    "    });\n",
    "    alternateImportStatus = !alternateImportStatus;\n",
    "});\n",
    "\n",
    "\n",
    "// eloqua custom data object\n",
    "// as opposed to /bulk/2.0/customobjects/imports which just lists all the imports that have been performed on the CDO\n",
    "router.post('/bulk/2.0/customobjects/:objectId/imports', (req, res) => {\n",
    "    res.send({\n",
    "        uri: '/imports/1234'\n",
    "        // might be? /customobjects/:objectId/imports/:importId\n",
    "    });\n",
    "});\n",
    "\n",
    "\n",
    "\n",
    "\n",
    "// zuora endpoints\n",
    "router.post('/object/export', (req, res) => {\n",
    "    res.send({\n",
    "        Id: '1234'\n",
    "    });\n",
    "});\n",
    "var alternateExportStatus = true;\n",
    "router.get('/object/export/:exportId', (req, res) => {\n",
    "    res.send({\n",
    "        Status: alternateExportStatus ? 'Processing' : 'Completed',\n",
    "        FileId: '1234'\n",
    "    });\n",
    "    alternateExportStatus = !alternateExportStatus;\n",
    "});\n",
    "router.get('/files/:fileId', (req, res) => {\n",
    "    res.send(`RatePlanCharge.Description,Account.Id\n",
    "support,123456\n",
    "premium,654321\n",
    "`);\n",
    "});\n",
    "\n",
    "selenium.use(router);\n",
    "var app;\n",
    "function restart() {\n",
    "    if(typeof app !== 'undefined') {\n",
    "        app.close();\n",
    "    }\n",
    "    app = server.listen(18888).on('error', e => {\n",
    "        if(e.code !== 'EADDRINUSE') {\n",
    "            throw e;\n",
    "        }\n",
    "    });\n",
    "    return app;\n",
    "}\n",
    "restart();\n",
    "app.restart = restart;\n",
    "module.exports = app;\n",
    "\n",
    "process.on ('SIGTERM', () => {app.close(); process.exit(0)});\n",
    "process.on ('SIGINT', () => {app.close(); process.exit(0)});\n"
   ]
  }
 ],
 "metadata": {
  "kernel_info": {
   "name": "node_nteract"
  },
  "kernelspec": {
   "display_name": "Javascript (Node.js)",
   "language": "javascript",
   "name": "javascript"
  },
  "language_info": {
   "file_extension": ".js",
   "mimetype": "application/javascript",
   "name": "javascript",
   "version": "14.5.0"
  }
 },
 "nbformat": 4,
 "nbformat_minor": 4
}
