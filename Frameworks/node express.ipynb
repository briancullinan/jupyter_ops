{
 "cells": [
  {
   "cell_type": "markdown",
   "metadata": {},
   "source": [
    "# How to use nodejs express?"
   ]
  },
  {
   "cell_type": "code",
   "execution_count": 1,
   "metadata": {
    "collapsed": false,
    "inputHidden": false,
    "outputHidden": false
   },
   "outputs": [
    {
     "data": {
      "text/plain": [
       "'express is ready'"
      ]
     },
     "execution_count": 1,
     "metadata": {},
     "output_type": "execute_result"
    }
   ],
   "source": [
    "var exec = require('child_process').execSync;\r",
    "var fs = require('fs');\r",
    "var sourceCmd = exec('npm install jsdom express request mime', {stdio: [0, 1, 2]});\r",
    "var express = require('express');\r",
    "var mime = require('mime');\r",
    "var path = require('path');\r",
    "var request = require('request');\r",
    "var JSDOM = require('jsdom').JSDOM;\r",
    "\r",
    "var output = path.join(process.cwd(), 'output');\r",
    "var port = process.env.PORT || 3000;\r",
    "var host = 'localhost';\r",
    "var query = '.w-gallery-list img';\r",
    "\r",
    "$$.done('express is ready');"
   ]
  },
  {
   "cell_type": "markdown",
   "metadata": {},
   "source": [
    "How to start a proxy using express?\n",
    "\n",
    "How to start a proxy on {port}?\n",
    "\n"
   ]
  },
  {
   "cell_type": "code",
   "execution_count": 2,
   "metadata": {
    "collapsed": false,
    "inputHidden": false,
    "outputHidden": false
   },
   "outputs": [
    {
     "name": "stdout",
     "output_type": "stream",
     "text": [
      "{ Error: listen EADDRINUSE :::3000\n",
      "    at Object.exports._errnoException (util.js:1026:11)\n",
      "    at exports._exceptionWithHostPort (util.js:1049:20)\n",
      "    at Server._listen2 (net.js:1253:14)\n",
      "    at listen (net.js:1289:10)\n",
      "    at Server.listen (net.js:1385:5)\n",
      "    at EventEmitter.listen (/Users/briancullinan/jupytangular2/node_modules/express/lib/application.js:618:24)\n",
      "    at evalmachine.<anonymous>:12:22\n",
      "    at ContextifyScript.Script.runInThisContext (vm.js:25:33)\n",
      "    at Object.exports.runInThisContext (vm.js:77:17)\n",
      "    at run ([eval]:613:19)\n",
      "  code: 'EADDRINUSE',\n",
      "  errno: 'EADDRINUSE',\n",
      "  syscall: 'listen',\n",
      "  address: '::',\n",
      "  port: 3000 }\n"
     ]
    }
   ],
   "source": [
    "if (typeof server != 'undefined') {\r",
    "    server.close();\r",
    "}\r",
    "var app = express();\r",
    "app.use('/', function (req, res) {\r",
    "    var url = host + req.url;\r",
    "    req.pipe(request(url)).pipe(res);\r",
    "});\r",
    "\r",
    "$$.async();\r",
    "try {\r",
    "    var server = app.listen(port, () => $$.done('server up and running on port ' + port));\r",
    "    server.on('error', (e) => $$.done(e));\r",
    "} catch (e) {\r",
    "    $$.done(e);\r",
    "}\r",
    "\r",
    ""
   ]
  },
  {
   "cell_type": "markdown",
   "metadata": {},
   "source": [
    "How to display the output from express?\n",
    "\n",
    "How to test express is working with HTML?"
   ]
  },
  {
   "cell_type": "code",
   "execution_count": 3,
   "metadata": {
    "collapsed": false,
    "inputHidden": false,
    "outputHidden": false
   },
   "outputs": [],
   "source": [
    "$$.mime({\r",
    "    'text/html': `\r",
    "<iframe id=\"sosmethod\" name=\"sosmethod\" \r",
    "    style=\"height:600px; width:100%; border:none;\" \r",
    "    src=\"http://${host}:${port}/\"></iframe>`\r",
    "});"
   ]
  },
  {
   "cell_type": "markdown",
   "metadata": {},
   "source": [
    "How to run a DOM query on a remote HTML page?"
   ]
  },
  {
   "cell_type": "code",
   "execution_count": 4,
   "metadata": {
    "collapsed": false,
    "inputHidden": false,
    "outputHidden": false
   },
   "outputs": [],
   "source": [
    "$$.async();\r",
    "var images = [];\r",
    "new Promise((resolve, reject) => {\r",
    "    request('http://' + host + ':' + port, (err, res, body) => {\r",
    "        if (err) {\r",
    "            reject(err)\r",
    "        }\r",
    "        else {\r",
    "            resolve(body)\r",
    "        }\r",
    "    });\r",
    "}).then((body) => {\r",
    "    var nodeList = (new JSDOM(body)).window.document.querySelectorAll(query);\r",
    "    return Array.prototype.slice.call(nodeList, 0)\r",
    "        .map(i => i.getAttribute('src'));\r",
    "}).then(sources => {\r",
    "    images = sources;\r",
    "    $$.done(sources);\r",
    "}).catch(e => $$.done(e));\r",
    ""
   ]
  },
  {
   "cell_type": "markdown",
   "metadata": {},
   "source": [
    "How to save a list of image elements?\n",
    "\n",
    "How to display a list of image elements in markdown?\n",
    "\n",
    "How to {output} image elements in the requested {format}?\n"
   ]
  },
  {
   "cell_type": "code",
   "execution_count": 16,
   "metadata": {
    "collapsed": false,
    "inputHidden": false,
    "outputHidden": false
   },
   "outputs": [],
   "source": [
    "var html = '';\r",
    "var htmlPrint = '';\r",
    "var requests = images.map((src) => {\r",
    "    var filename = src.split('/').pop();\r",
    "    return new Promise((resolve, reject) => {\r",
    "        request(src, {encoding: 'binary'}, (err, res, body) => {\r",
    "            if (err) {\r",
    "                reject(err)\r",
    "            }\r",
    "            else {\r",
    "                resolve(body)\r",
    "            }\r",
    "        });\r",
    "    }).then(body => {\r",
    "        return new Promise((resolve, reject) => {\r",
    "            fs.writeFile(\r",
    "                path.join(output, filename),\r",
    "                body,\r",
    "                'binary',\r",
    "                function (err) {\r",
    "                    if (err) reject(err);\r",
    "                    else resolve({filename: filename, data: body});\r",
    "                });\r",
    "        })\r",
    "    });\r",
    "});\r",
    "$$.async();\r",
    "Promise.all(requests).then(images => {\r",
    "    images.forEach((i) => {\r",
    "        var filename = i.filename.split('/').pop();\r",
    "        var ext = mime.lookup(i.filename);\r",
    "        html += '<img src=\"data:' + ext + ';base64,' + (new Buffer(i.data, 'binary')).toString('base64') + '\" />';\r",
    "        htmlPrint += '<li><img src=\"/assets/' + filename + '\" /></li>\\n';\r",
    "    });\r",
    "    $$.mime({'text/markdown': 'Usage:\\n\\n```html\\n' + htmlPrint + '\\n```\\nOutput:\\n' + html});\r",
    "}).catch(e => $$.done(e));\r",
    ""
   ]
  },
  {
   "cell_type": "markdown",
   "metadata": {},
   "source": [
    "How to stop express server?"
   ]
  },
  {
   "cell_type": "code",
   "execution_count": 6,
   "metadata": {
    "collapsed": false,
    "inputHidden": false,
    "outputHidden": false
   },
   "outputs": [],
   "source": [
    "if (typeof server !== 'undefined') {\r",
    "    server.close();\r",
    "}\r",
    "\r",
    ""
   ]
  }
 ],
 "metadata": {
  "kernel_info": {
   "name": "node_nteract"
  },
  "kernelspec": {
   "display_name": "Javascript (Node.js)",
   "language": "javascript",
   "name": "javascript"
  },
  "language_info": {
   "file_extension": ".js",
   "mimetype": "application/javascript",
   "name": "javascript",
   "version": "7.7.2"
  }
 },
 "nbformat": 4,
 "nbformat_minor": 4
}