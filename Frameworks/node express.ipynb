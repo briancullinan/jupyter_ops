{
 "cells": [
  {
   "cell_type": "markdown",
   "metadata": {},
   "source": [
    "# How to use nodejs express?"
   ]
  },
  {
   "cell_type": "code",
   "execution_count": 1,
   "metadata": {
    "collapsed": false,
    "inputHidden": false,
    "outputHidden": false
   },
   "outputs": [
    {
     "data": {
      "text/plain": [
       "'express is ready'"
      ]
     },
     "execution_count": 1,
     "metadata": {},
     "output_type": "execute_result"
    }
   ],
   "source": [
    "var exec = require('child_process').execSync;\n",
    "var fs = require('fs');\n",
    "var sourceCmd = exec('npm install jsdom express request mime', {stdio: [0, 1, 2]});\n",
    "var express = require('express');\n",
    "var mime = require('mime');\n",
    "var path = require('path');\n",
    "var request = require('request');\n",
    "var JSDOM = require('jsdom').JSDOM;\n",
    "\n",
    "var output = path.join(process.cwd(), 'output');\n",
    "var port = process.env.PORT || 3000;\n",
    "var host = 'localhost';\n",
    "var query = '.w-gallery-list img';\n",
    "\n",
    "$$.done('express is ready');"
   ]
  },
  {
   "cell_type": "markdown",
   "metadata": {},
   "source": [
    "How to start a proxy using express?\n",
    "\n",
    "How to start a proxy on {port}?\n",
    "\n"
   ]
  },
  {
   "cell_type": "code",
   "execution_count": 2,
   "metadata": {
    "collapsed": false,
    "inputHidden": false,
    "outputHidden": false
   },
   "outputs": [
    {
     "name": "stdout",
     "output_type": "stream",
     "text": [
      "{ Error: listen EADDRINUSE :::3000\n",
      "    at Object.exports._errnoException (util.js:1026:11)\n",
      "    at exports._exceptionWithHostPort (util.js:1049:20)\n",
      "    at Server._listen2 (net.js:1253:14)\n",
      "    at listen (net.js:1289:10)\n",
      "    at Server.listen (net.js:1385:5)\n",
      "    at EventEmitter.listen (/Users/briancullinan/jupytangular2/node_modules/express/lib/application.js:618:24)\n",
      "    at evalmachine.<anonymous>:12:22\n",
      "    at ContextifyScript.Script.runInThisContext (vm.js:25:33)\n",
      "    at Object.exports.runInThisContext (vm.js:77:17)\n",
      "    at run ([eval]:613:19)\n",
      "  code: 'EADDRINUSE',\n",
      "  errno: 'EADDRINUSE',\n",
      "  syscall: 'listen',\n",
      "  address: '::',\n",
      "  port: 3000 }\n"
     ]
    }
   ],
   "source": [
    "if (typeof server != 'undefined') {\n",
    "    server.close();\n",
    "}\n",
    "var app = express();\n",
    "app.use('/', function (req, res) {\n",
    "    var url = host + req.url;\n",
    "    req.pipe(request(url)).pipe(res);\n",
    "});\n",
    "\n",
    "$$.async();\n",
    "try {\n",
    "    var server = app.listen(port, () => $$.done('server up and running on port ' + port));\n",
    "    server.on('error', (e) => $$.done(e));\n",
    "} catch (e) {\n",
    "    $$.done(e);\n",
    "}\n",
    "\n"
   ]
  },
  {
   "cell_type": "markdown",
   "metadata": {},
   "source": [
    "How to display the output from express?\n",
    "\n",
    "How to test express is working with HTML?"
   ]
  },
  {
   "cell_type": "code",
   "execution_count": 3,
   "metadata": {
    "collapsed": false,
    "inputHidden": false,
    "outputHidden": false
   },
   "outputs": [],
   "source": [
    "$$.mime({\n",
    "    'text/html': `\n",
    "<iframe id=\"sosmethod\" name=\"sosmethod\" \n",
    "    style=\"height:600px; width:100%; border:none;\" \n",
    "    src=\"http://${host}:${port}/\"></iframe>`\n",
    "});"
   ]
  },
  {
   "cell_type": "markdown",
   "metadata": {},
   "source": [
    "How to run a DOM query on a remote HTML page?"
   ]
  },
  {
   "cell_type": "code",
   "execution_count": 4,
   "metadata": {
    "collapsed": false,
    "inputHidden": false,
    "outputHidden": false
   },
   "outputs": [],
   "source": [
    "$$.async();\n",
    "var images = [];\n",
    "new Promise((resolve, reject) => {\n",
    "    request('http://' + host + ':' + port, (err, res, body) => {\n",
    "        if (err) {\n",
    "            reject(err)\n",
    "        }\n",
    "        else {\n",
    "            resolve(body)\n",
    "        }\n",
    "    });\n",
    "}).then((body) => {\n",
    "    var nodeList = (new JSDOM(body)).window.document.querySelectorAll(query);\n",
    "    return Array.prototype.slice.call(nodeList, 0)\n",
    "        .map(i => i.getAttribute('src'));\n",
    "}).then(sources => {\n",
    "    images = sources;\n",
    "    $$.done(sources);\n",
    "}).catch(e => $$.done(e));\n"
   ]
  },
  {
   "cell_type": "markdown",
   "metadata": {},
   "source": [
    "How to save a list of image elements?\n",
    "\n",
    "How to display a list of image elements in markdown?\n",
    "\n",
    "How to {output} image elements in the requested {format}?\n"
   ]
  },
  {
   "cell_type": "code",
   "execution_count": 16,
   "metadata": {
    "collapsed": false,
    "inputHidden": false,
    "outputHidden": false
   },
   "outputs": [],
   "source": [
    "var html = '';\n",
    "var htmlPrint = '';\n",
    "var requests = images.map((src) => {\n",
    "    var filename = src.split('/').pop();\n",
    "    return new Promise((resolve, reject) => {\n",
    "        request(src, {encoding: 'binary'}, (err, res, body) => {\n",
    "            if (err) {\n",
    "                reject(err)\n",
    "            }\n",
    "            else {\n",
    "                resolve(body)\n",
    "            }\n",
    "        });\n",
    "    }).then(body => {\n",
    "        return new Promise((resolve, reject) => {\n",
    "            fs.writeFile(\n",
    "                path.join(output, filename),\n",
    "                body,\n",
    "                'binary',\n",
    "                function (err) {\n",
    "                    if (err) reject(err);\n",
    "                    else resolve({filename: filename, data: body});\n",
    "                });\n",
    "        })\n",
    "    });\n",
    "});\n",
    "$$.async();\n",
    "Promise.all(requests).then(images => {\n",
    "    images.forEach((i) => {\n",
    "        var filename = i.filename.split('/').pop();\n",
    "        var ext = mime.lookup(i.filename);\n",
    "        html += '<img src=\"data:' + ext + ';base64,' + (new Buffer(i.data, 'binary')).toString('base64') + '\" />';\n",
    "        htmlPrint += '<li><img src=\"/assets/' + filename + '\" /></li>\\n';\n",
    "    });\n",
    "    $$.mime({'text/markdown': 'Usage:\\n\\n```html\\n' + htmlPrint + '\\n```\\nOutput:\\n' + html});\n",
    "}).catch(e => $$.done(e));\n"
   ]
  },
  {
   "cell_type": "markdown",
   "metadata": {},
   "source": [
    "How to stop express server?"
   ]
  },
  {
   "cell_type": "code",
   "execution_count": 6,
   "metadata": {
    "collapsed": false,
    "inputHidden": false,
    "outputHidden": false
   },
   "outputs": [],
   "source": [
    "if (typeof server !== 'undefined') {\n",
    "    server.close();\n",
    "}\n",
    "\n"
   ]
  },
  {
   "cell_type": "markdown",
   "metadata": {},
   "source": [
    "express rpc wrapper?\n"
   ]
  },
  {
   "cell_type": "code",
   "execution_count": 2,
   "metadata": {},
   "outputs": [
    {
     "name": "stdout",
     "output_type": "stream",
     "text": [
      "[ 'import notebook.ipynb[load interpreter]',\n",
      "  'rpc.ipynb[permissions]',\n",
      "  'rpc.ipynb[parameter names]' ]\n",
      "[ 'interpret', 'query' ]\n",
      "[ 'getPermissions' ]\n",
      "[ 'getParameterNames', 'search' ]\n",
      "Listening on 0.0.0.0:18135\n"
     ]
    }
   ],
   "source": [
    "var bodyParser = require('body-parser');\n",
    "var express = require('express');\n",
    "var importer = require('../Core')\n",
    "var {\n",
    "    getPermissions,\n",
    "    getParameterNames\n",
    "} = importer.import([\n",
    "    'rpc permissions',\n",
    "    'function parameters'\n",
    "]);\n",
    "\n",
    "var app = express();\n",
    "var server = require('http').createServer(app);\n",
    "app.use(bodyParser.json());    // to support JSON-encoded bodies\n",
    "app.use(bodyParser.urlencoded({// to support URL-encoded bodies\n",
    "    extended: true\n",
    "}));\n",
    "\n",
    "var router = express.Router();\n",
    "\n",
    "// get permissions\n",
    "var permissions = getPermissions();\n",
    "var rpcFunctions = Object.keys(permissions)\n",
    "    .filter(k => permissions[k].indexOf('Public') > -1\n",
    "            && permissions[k].indexOf('Function') > -1);\n",
    "\n",
    "// rpc endpoints\n",
    "// TODO: ? https://en.wikipedia.org/wiki/Portmap\n",
    "console.log(rpcFunctions);\n",
    "\n",
    "var cache = {};\n",
    "function addRoute(search) {\n",
    "    if(typeof cache[search] !== 'undefined') {\n",
    "        return;\n",
    "    }\n",
    "    const parameters = getParameterNames(search);\n",
    "    cache[search] = parameters;\n",
    "    console.log(parameters);\n",
    "    router.all('/' + parameters[0], (req, res) => {\n",
    "        res.header('access-control-allow-origin', req.headers['origin']);\n",
    "        res.header('access-control-allow-headers', 'Authorization, X-Requested-With, origin, content-type, accept')\n",
    "        res.header('Accept-Control-Allow-Methods', 'POST,GET,DELETE,PUT,OPTIONS');\n",
    "        if(req.method === 'OPTIONS') {\n",
    "            return res.send('');\n",
    "        }\n",
    "        // TODO: use RPC interface?\n",
    "        return Promise.resolve([])\n",
    "            .then(() => {\n",
    "                const result = importer.import(search);\n",
    "                if(typeof result === 'function') {\n",
    "                    console.log('Starting ' + parameters.join(' '))\n",
    "                    const parameterValues = parameters.slice(1).map(k => req.query[k] || req.body[k]);\n",
    "                    return result.apply(importer, parameterValues);\n",
    "                } else {\n",
    "                    return result;\n",
    "                }\n",
    "            })\n",
    "            .then(r => res.send(JSON.stringify(r, null, 4)))\n",
    "            // TODO: object assign error?\n",
    "            .catch(e => res.send(e + ''));\n",
    "    })\n",
    "}\n",
    "\n",
    "for(var i = 0; i < rpcFunctions.length; i++) {\n",
    "    addRoute(rpcFunctions[i]);\n",
    "}\n",
    "\n",
    "app.use(router);\n",
    "\n",
    "// open the port\n",
    "if(typeof listener !== 'undefined') {\n",
    "    listener.close();\n",
    "}\n",
    "console.log('Listening on 0.0.0.0:18135');\n",
    "var listener = server.listen(18135).on('error', e => {\n",
    "    if(e.code !== 'EADDRINUSE') {\n",
    "        throw e;\n",
    "    }\n",
    "});\n",
    "\n",
    "// shut down properly\n",
    "process.on ('SIGTERM', () => {listener.close(); process.exit(0)});\n",
    "process.on ('SIGINT', () => {listener.close(); process.exit(0)});\n",
    "\n",
    "if(typeof $$ !== 'undefined') {\n",
    "    $$.done();\n",
    "}\n"
   ]
  },
  {
   "cell_type": "code",
   "execution_count": null,
   "metadata": {},
   "outputs": [],
   "source": []
  }
 ],
 "metadata": {
  "kernel_info": {
   "name": "node_nteract"
  },
  "kernelspec": {
   "display_name": "Javascript (Node.js)",
   "language": "javascript",
   "name": "javascript"
  },
  "language_info": {
   "file_extension": ".js",
   "mimetype": "application/javascript",
   "name": "javascript",
   "version": "8.6.0"
  }
 },
 "nbformat": 4,
 "nbformat_minor": 4
}
