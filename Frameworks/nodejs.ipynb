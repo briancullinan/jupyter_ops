{
 "cells": [
  {
   "cell_type": "markdown",
   "metadata": {},
   "source": [
    "How to mock and pass through?\n",
    "\n"
   ]
  },
  {
   "cell_type": "code",
   "execution_count": 1,
   "metadata": {},
   "outputs": [
    {
     "data": {
      "text/plain": [
       "[Function: promisifyMock]"
      ]
     },
     "execution_count": 1,
     "metadata": {},
     "output_type": "execute_result"
    }
   ],
   "source": [
    "var execSync = require('child_process').execSync;\n",
    "try {\n",
    "    require.resolve('automock');\n",
    "    require.resolve('bluebird');\n",
    "} catch (e) {\n",
    "    execSync('npm install automock bluebird');\n",
    "}\n",
    "\n",
    "var Promise = require('bluebird');\n",
    "var automock = require('automock');\n",
    "var promisifyMock = (req, dep) => {\n",
    "    let ctx;\n",
    "    ctx = automock.mockValue(req, {\n",
    "        stubCreator: (name) => {\n",
    "            var orig = Promise.promisify(req[name.split('.')[1]], {\n",
    "                multiArgs: true,\n",
    "                context: req\n",
    "            });\n",
    "            //console.log('create stub ' + name);\n",
    "            return function () {\n",
    "                console.log(name + ' (' + arguments[0] + ') in ' + JSON.stringify(dep));\n",
    "                return orig.apply(null, arguments);\n",
    "            };\n",
    "        }\n",
    "    });\n",
    "    return ctx;\n",
    "}\n",
    "(promisifyMock);\n"
   ]
  },
  {
   "cell_type": "markdown",
   "metadata": {},
   "source": [
    "Create an RPC server for every module?\n",
    "\n"
   ]
  },
  {
   "cell_type": "code",
   "execution_count": 2,
   "metadata": {},
   "outputs": [
    {
     "data": {
      "text/plain": [
       "Namespace {\n",
       "  name: '/',\n",
       "  server: \n",
       "   Server {\n",
       "     nsps: { '/': [Circular] },\n",
       "     _path: '/socket.io',\n",
       "     _serveClient: true,\n",
       "     parser: \n",
       "      { protocol: 4,\n",
       "        types: [Object],\n",
       "        CONNECT: 0,\n",
       "        DISCONNECT: 1,\n",
       "        EVENT: 2,\n",
       "        ACK: 3,\n",
       "        ERROR: 4,\n",
       "        BINARY_EVENT: 5,\n",
       "        BINARY_ACK: 6,\n",
       "        Encoder: [Function: Encoder],\n",
       "        Decoder: [Function: Decoder] },\n",
       "     encoder: Encoder {},\n",
       "     _adapter: [Function: Adapter],\n",
       "     _origins: '*:*',\n",
       "     sockets: [Circular],\n",
       "     eio: \n",
       "      Server {\n",
       "        clients: {},\n",
       "        clientsCount: 0,\n",
       "        wsEngine: 'uws',\n",
       "        pingTimeout: 60000,\n",
       "        pingInterval: 25000,\n",
       "        upgradeTimeout: 10000,\n",
       "        maxHttpBufferSize: 100000000,\n",
       "        transports: [Object],\n",
       "        allowUpgrades: true,\n",
       "        allowRequest: [Function: bound ],\n",
       "        cookie: 'io',\n",
       "        cookiePath: '/',\n",
       "        cookieHttpOnly: true,\n",
       "        perMessageDeflate: [Object],\n",
       "        httpCompression: [Object],\n",
       "        initialPacket: [Object],\n",
       "        ws: [Object],\n",
       "        _events: [Object],\n",
       "        _eventsCount: 1 },\n",
       "     httpServer: \n",
       "      Server {\n",
       "        domain: null,\n",
       "        _events: [Object],\n",
       "        _eventsCount: 5,\n",
       "        _maxListeners: undefined,\n",
       "        _connections: 0,\n",
       "        _handle: [Object],\n",
       "        _usingSlaves: false,\n",
       "        _slaves: [],\n",
       "        _unref: false,\n",
       "        allowHalfOpen: true,\n",
       "        pauseOnConnect: false,\n",
       "        httpAllowHalfOpen: false,\n",
       "        timeout: 120000,\n",
       "        _pendingResponseData: 0,\n",
       "        maxHeadersCount: null,\n",
       "        _connectionKey: '6::::8099' },\n",
       "     engine: \n",
       "      Server {\n",
       "        clients: {},\n",
       "        clientsCount: 0,\n",
       "        wsEngine: 'uws',\n",
       "        pingTimeout: 60000,\n",
       "        pingInterval: 25000,\n",
       "        upgradeTimeout: 10000,\n",
       "        maxHttpBufferSize: 100000000,\n",
       "        transports: [Object],\n",
       "        allowUpgrades: true,\n",
       "        allowRequest: [Function: bound ],\n",
       "        cookie: 'io',\n",
       "        cookiePath: '/',\n",
       "        cookieHttpOnly: true,\n",
       "        perMessageDeflate: [Object],\n",
       "        httpCompression: [Object],\n",
       "        initialPacket: [Object],\n",
       "        ws: [Object],\n",
       "        _events: [Object],\n",
       "        _eventsCount: 1 } },\n",
       "  sockets: {},\n",
       "  connected: {},\n",
       "  fns: [],\n",
       "  ids: 0,\n",
       "  rooms: [],\n",
       "  flags: {},\n",
       "  adapter: Adapter { nsp: [Circular], rooms: {}, sids: {}, encoder: Encoder {} },\n",
       "  _events: { connection: [Function] },\n",
       "  _eventsCount: 1 }"
      ]
     },
     "execution_count": 2,
     "metadata": {},
     "output_type": "execute_result"
    }
   ],
   "source": [
    "var execSync = require('child_process').execSync;\n",
    "try {\n",
    "    require.resolve('socket.io');\n",
    "} catch (e) {\n",
    "    execSync('npm install socket.io');\n",
    "}\n",
    "\n",
    "var io = require('socket.io').listen(8099);\n",
    "io.sockets.on('connection', function (socket) {\n",
    "    socket.on('require', function (dep, fn) {\n",
    "        socket.join(dep);\n",
    "        var req = require(dep);\n",
    "        let ctx;\n",
    "        ctx = automock.mockValue(req, {\n",
    "            stubCreator: (name) => {\n",
    "                var orig = Promise.promisify(req[name.split('.')[1]], {\n",
    "                    multiArgs: true,\n",
    "                    context: req\n",
    "                });\n",
    "                return function () {\n",
    "                    return orig.apply(null, arguments)\n",
    "                        .then(function () {\n",
    "                            socket.broadcast.to(dep).emit('resolve', arguments);\n",
    "                        });\n",
    "                };\n",
    "            }\n",
    "        });\n",
    "        \n",
    "        fn('done');\n",
    "    });\n",
    "    socket.on('call', function (name, arguments, resolve, reject) {\n",
    "        console.log(name);\n",
    "        ctx[name].apply(null, arguments)\n",
    "            .then(function () {\n",
    "                resolve.apply(null, arguments);\n",
    "            })\n",
    "            .catch(function () {\n",
    "                reject.apply(null, arguments);\n",
    "            });\n",
    "    });\n",
    "});\n",
    "\n",
    "// TODO: output interactive angular component for controlling this server\n",
    "\n"
   ]
  },
  {
   "cell_type": "raw",
   "metadata": {},
   "source": [
    "\n",
    "Mock any module with promisify and socketio?\n"
   ]
  },
  {
   "cell_type": "code",
   "execution_count": null,
   "metadata": {},
   "outputs": [
    {
     "name": "stderr",
     "output_type": "stream",
     "text": [
      "(node:36377) DeprecationWarning: sprintf() will be removed in the next major release, use the sprintf-js package instead.\n"
     ]
    },
    {
     "name": "stdout",
     "output_type": "stream",
     "text": [
      "unlink\n"
     ]
    },
    {
     "name": "stderr",
     "output_type": "stream",
     "text": [
      "ReferenceError: ctx is not defined\n",
      "    at Socket.<anonymous> (evalmachine.<anonymous>:33:9)\n",
      "    at emitMany (events.js:127:13)\n",
      "    at Socket.emit (events.js:204:7)\n",
      "    at /Users/briancullinan/jupytangular2/node_modules/socket.io/lib/socket.js:514:12\n",
      "    at _combinedTickCallback (internal/process/next_tick.js:73:7)\n",
      "    at process._tickCallback (internal/process/next_tick.js:104:9)"
     ]
    }
   ],
   "source": [
    "var execSync = require('child_process').execSync;\n",
    "try {\n",
    "    require.resolve('socket.io-client');\n",
    "} catch (e) {\n",
    "    execSync('npm install socket.io-client');\n",
    "}\n",
    "\n",
    "var client = require('socket.io-client');\n",
    "var sockifyClient = (dep, host) => {\n",
    "    let ctx;\n",
    "    ctx = automock.mockValue(require(dep), {\n",
    "        stubCreator: (name) => {\n",
    "            return function () {\n",
    "                return new Promise((resolve, reject) => {\n",
    "                    socket.emit('call', name.split('.')[1], arguments, function () {\n",
    "                        resolve.apply(null, arguments);\n",
    "                    }, function () {\n",
    "                        reject.apply(null, arguments);\n",
    "                    });\n",
    "                });\n",
    "            };\n",
    "        }\n",
    "    });\n",
    "    //var fs = promisifyMock(ctx, dep);\n",
    "    var socket = client.connect('http://localhost:8099');\n",
    "    socket.on('connect', function () {\n",
    "        socket.emit('require', dep, function () {\n",
    "            \n",
    "        });\n",
    "        socket.on('resolve', function () {\n",
    "            \n",
    "        });\n",
    "    });\n",
    "    return ctx;\n",
    "}\n",
    "var fs = sockifyClient('fs');\n",
    "\n",
    "$$.async();\n",
    "fs.unlink('test.file')\n",
    "    .catch(e => console.log(e))\n",
    "    .then(() => fs.writeFile('test.file', 'some output'))\n",
    "    .then(() => fs.readFile('test.file'))\n",
    "    .then(r => r.toString())\n",
    "    .then((e, r) => $$.sendResult(r))\n",
    "    .catch(e => $$.sendError(e));\n"
   ]
  },
  {
   "cell_type": "code",
   "execution_count": null,
   "metadata": {},
   "outputs": [],
   "source": []
  }
 ],
 "metadata": {
  "kernelspec": {
   "display_name": "Javascript (Node.js)",
   "language": "javascript",
   "name": "javascript"
  },
  "language_info": {
   "file_extension": ".js",
   "mimetype": "application/javascript",
   "name": "javascript",
   "version": "7.7.2"
  }
 },
 "nbformat": 4,
 "nbformat_minor": 2
}
