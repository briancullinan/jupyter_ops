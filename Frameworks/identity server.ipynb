{
 "cells": [
  {
   "cell_type": "markdown",
   "metadata": {},
   "source": [
    "How to use identity server 3\n"
   ]
  },
  {
   "cell_type": "code",
   "execution_count": 1,
   "metadata": {
    "collapsed": false,
    "inputHidden": false,
    "outputHidden": false
   },
   "outputs": [
    {
     "ename": "SyntaxError",
     "evalue": "Unexpected string",
     "output_type": "error",
     "traceback": [
      "/Users/briancullinan/jupytangular2/Core/import notebook.ipynb:217",
      "    'import notebook.ipynb[9]': interpretAll,",
      "    ^^^^^^^^^^^^^^^^^^^^^^^^^^",
      "SyntaxError: Unexpected string",
      "    at Object.exports.runInThisContext (vm.js:76:16)",
      "    at Module._compile (module.js:528:28)",
      "    at importer (/Users/briancullinan/jupytangular2/Core/index.js:16:19)",
      "    at Object.<anonymous> (/Users/briancullinan/jupytangular2/Core/index.js:20:5)",
      "    at Module._compile (module.js:556:32)",
      "    at Object.Module._extensions..js (module.js:565:10)",
      "    at Module.load (module.js:473:32)",
      "    at tryModuleLoad (module.js:432:12)",
      "    at Function.Module._load (module.js:424:3)",
      "    at Module.require (module.js:483:17)"
     ]
    }
   ],
   "source": [
    "var path = require('path');\r",
    "var fs = require('fs');\r",
    "var importer = require('../Core');\r",
    "var writeFileSync = fs.writeFileSync;\r",
    "\r",
    "var GITHUB_TOKEN = path.join(\r",
    "    process.env.HOME || process.env.HOMEPATH || process.env.USERPROFILE, '.credentials',\r",
    "    'github_token.txt');\r",
    "\r",
    "// add some run commands to the bash script\r",
    "var bashToRun = (code) => code.split('\\n').map(l => 'RUN ' + l)\r",
    "    .join('\\n').replace(/\\\\\\s*\\nRUN\\s*/ig, '\\\\\\n ');\r",
    "\r",
    "// create a selenium Dockerfile with a vnc connection\r",
    "var identityDockerfile = (output) => {\r",
    "    var DOCKERFILE = path.resolve(path.join(output, 'Dockerfile'));\r",
    "    return importer.interpret([\r",
    "        'run Mono',\r",
    "        'linux dev tools',\r",
    "        // add some extra services\r",
    "        'act identity repository',\r",
    "        'build mono'\r",
    "    ]).then(r => {\r",
    "        // lets fix the middle result\r",
    "        r[1].code = bashToRun(r[1].code);\r",
    "        r[2].code = bashToRun(r[2].code)\r",
    "            .replace('{username}', fs.readFileSync(GITHUB_TOKEN));\r",
    "        r[3].code = bashToRun(r[3].code);\r",
    "        return r.map(r => r.code).join('\\n');\r",
    "    })\r",
    "        .then(r => {\r",
    "            // save the Dockerfile\r",
    "            writeFileSync(DOCKERFILE, r);\r",
    "            return r;\r",
    "        });\r",
    "};\r",
    "(identityDockerfile);\r",
    ""
   ]
  },
  {
   "cell_type": "code",
   "execution_count": 2,
   "metadata": {
    "collapsed": false,
    "inputHidden": false,
    "outputHidden": false
   },
   "outputs": [
    {
     "data": {
      "text/plain": [
       "Promise { <pending> }"
      ]
     },
     "execution_count": 2,
     "metadata": {},
     "output_type": "execute_result"
    }
   ],
   "source": [
    "var DOCKERFILE = path.resolve(__dirname);\r",
    "identityDockerfile(DOCKERFILE)"
   ]
  },
  {
   "cell_type": "markdown",
   "metadata": {},
   "source": [
    "How to set up identity server?"
   ]
  },
  {
   "cell_type": "code",
   "execution_count": 3,
   "metadata": {
    "collapsed": false,
    "inputHidden": false,
    "outputHidden": false
   },
   "outputs": [
    {
     "data": {
      "text/plain": [
       "[Function: getIdentityServer]"
      ]
     },
     "execution_count": 3,
     "metadata": {},
     "output_type": "execute_result"
    }
   ],
   "source": [
    "var path = require('path');\r",
    "// TODO: fix mono build step\r",
    "var execSync = require('child_process').execSync;\r",
    "var getIdentityServer = (name = 'act-identity') => {\r",
    "    var DOCKERFILE = path.resolve(__dirname);\r",
    "    return identityDockerfile(DOCKERFILE)\r",
    "        .then(r => execSync('docker build -t ' + name + ' \"' + DOCKERFILE + '\"').toString())\r",
    "        .then(r => {\r",
    "            var ps = execSync('docker ps -a').toString();\r",
    "            if (ps.indexOf(name) !== -1) {\r",
    "                return r\r",
    "                    + execSync('docker stop ' + name).toString()\r",
    "                    + execSync('docker rm ' + name).toString();\r",
    "            }\r",
    "            return '';\r",
    "        })\r",
    "        .then(r => r + execSync('docker run --name ' + name + ' ' + name).toString())\r",
    "        // wait for process to start\r",
    "        .then(() => new Promise((resolve, reject) =>\r",
    "            setTimeout(resolve, 5000)));\r",
    "};\r",
    "(getIdentityServer);\r",
    ""
   ]
  },
  {
   "cell_type": "code",
   "execution_count": 19,
   "metadata": {
    "collapsed": false,
    "inputHidden": false,
    "outputHidden": false
   },
   "outputs": [],
   "source": [
    "$$.async();\r",
    "getIdentityServer()\r",
    "    .then(r => $$.sendResult(r))\r",
    "    .catch(e => $$.sendError(e));\r",
    ""
   ]
  },
  {
   "cell_type": "code",
   "execution_count": null,
   "metadata": {
    "collapsed": false,
    "inputHidden": false,
    "outputHidden": false
   },
   "outputs": [],
   "source": [
    ""
   ]
  },
  {
   "cell_type": "code",
   "execution_count": null,
   "metadata": {
    "collapsed": false,
    "inputHidden": false,
    "outputHidden": false
   },
   "outputs": [],
   "source": [
    ""
   ]
  }
 ],
 "metadata": {
  "kernel_info": {
   "name": "node_nteract"
  },
  "kernelspec": {
   "display_name": "Javascript (Node.js)",
   "language": "javascript",
   "name": "javascript"
  },
  "language_info": {
   "file_extension": ".js",
   "mimetype": "application/javascript",
   "name": "javascript",
   "version": "7.7.2"
  }
 },
 "nbformat": 4,
 "nbformat_minor": 4
}