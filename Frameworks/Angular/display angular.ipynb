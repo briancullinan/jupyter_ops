{
 "cells": [
  {
   "cell_type": "markdown",
   "metadata": {},
   "source": [
    "Include the script in the response?\n",
    "\n"
   ]
  },
  {
   "cell_type": "code",
   "execution_count": null,
   "metadata": {},
   "outputs": [],
   "source": [
    "function getScriptsAndStyles(content, additional = '0.*.js') {\n",
    "    var output = content.match(/<style.*?\\/style>/ig) || '';\n",
    "    var scripts = ``;\n",
    "\n",
    "    var m, re = (/<link.*?>/ig);\n",
    "    while (m = re.exec(content)) {\n",
    "        var src;\n",
    "        if ((src = (/href=\"(.*?)\"/ig).exec(m[0])) != null && src[1].indexOf('google') == -1) {\n",
    "            scripts += '<style>' + fs.readFileSync(path.join(project, 'public', src[1])) + '</style>';\n",
    "        } else {\n",
    "            scripts += m[0];\n",
    "        }\n",
    "    }\n",
    "\n",
    "    var m, re = (/<script.*?\\/script>/ig);\n",
    "    while (m = re.exec(content)) {\n",
    "        var src;\n",
    "        if ((src = (/src=\"(.*?)\"/ig).exec(m[0])) != null) {\n",
    "            scripts += '<script defer>'\n",
    "                + fs.readFileSync(path.join(project, 'public', src[1]))\n",
    "                + '</script>';\n",
    "        } else {\n",
    "            scripts += m[0];\n",
    "        }\n",
    "    }\n",
    "\n",
    "    return output + scripts;\n",
    "};\n",
    "module.exports = getScriptsAndStyles;\n",
    "getScriptsAndStyles;\n",
    "\n"
   ]
  },
  {
   "cell_type": "markdown",
   "metadata": {},
   "source": [
    "Display angular modules in jupyter?\n",
    "\n"
   ]
  },
  {
   "cell_type": "code",
   "execution_count": null,
   "metadata": {},
   "outputs": [],
   "source": [
    "var importer = require('../Core');\n",
    "var vm = require('vm');\n",
    "var fs = require('fs');\n",
    "var path = require('path');\n",
    "var listInProject = importer.import('list files in project');\n",
    "\n",
    "var renderer;\n",
    "function displAngular(project, url) {\n",
    "    var innerHtml = '';\n",
    "    var scripts = '';\n",
    "    process.chdir(path.join(project));\n",
    "    module.paths.unshift(path.join(project, 'node_modules'));\n",
    "    require('module').Module._initPaths();\n",
    "    process.argv = [(process.argv0 = path.join(project, '.server', 'render-service.js'))];\n",
    "    return new Promise((resolve, reject) => {\n",
    "        try {\n",
    "            var rendererCode = fs.readFileSync(path.join(project, '.server', 'render-service.js')).toString();\n",
    "            importer.runInNewContext(\n",
    "                rendererCode + '\\n\\n;(global.module.exports=global.renderer);',\n",
    "                {\n",
    "                    __filename: path.join(project, '.server', 'render-service.js')\n",
    "                },\n",
    "                {\n",
    "                    displayErrors: true\n",
    "                }\n",
    "            );\n",
    "        } catch (e) {\n",
    "            return reject(e);\n",
    "        }\n",
    "\n",
    "        renderer(url, (err, html) => {\n",
    "            if (err) {\n",
    "                return reject(err);\n",
    "            }\n",
    "            var content = fs.readFileSync(path.join(project, 'public', 'index.html')).toString();\n",
    "            scripts = getScriptsAndStyles(content);\n",
    "            innerHtml = html;\n",
    "            return resolve(innerHtml);\n",
    "        });\n",
    "    })\n",
    "        .then(() => listInProject(project, '**/public/assets/0.*.js'))\n",
    "        .then(paths => paths.map(p => '<script defer>' + fs.readFileSync(p) + '</script>')[0])\n",
    "        // TODO convert to using the same type of template system as angular-cli now that typescript is becoming more relevant here.\n",
    "        .then(chunks => ({\n",
    "            html: `\n",
    "<div id=\"container\" style=\"display:block; width:100%;position:relative;\">\n",
    "<iframe id=\"cell1\" style=\"position:absolute;top:0;right:0;bottom:0;left:0;width:100%;height:100%;border:0;\"></iframe>\n",
    "</div>\n",
    "<script defer>\n",
    "var ifrm = document.getElementById('cell1');\n",
    "var doc = ifrm.contentWindow || ifrm.contentDocument.document || ifrm.contentDocument;\n",
    "doc.document.open();\n",
    "doc.INITIAL_PATH=` + JSON.stringify('' + url) + `;\n",
    "doc.SOCKIFY_SERVER='http://local:8000';\n",
    "doc.document.write(decodeURI(` + JSON.stringify(encodeURI(innerHtml)) + `));\n",
    "var contHeight;\n",
    "contHeight = setInterval(function () {\n",
    "    if(document.getElementById(\"container\") == null) {\n",
    "        console.log('Resizing canceled');\n",
    "        clearInterval(contHeight);\n",
    "    } else {\n",
    "        doc.document.getElementsByTagName('app-root')[0].style.display = 'block';\n",
    "        document.getElementById(\"container\").style.height = (doc.document.getElementsByTagName('app-root')[0].offsetHeight + 40) + 'px';\n",
    "    }\n",
    "}, 500);\n",
    "</script>`, scripts: scripts, chunks: chunks\n",
    "        }));\n",
    "};\n",
    "module.exports = displAngular;\n",
    "displAngular;\n"
   ]
  },
  {
   "cell_type": "code",
   "execution_count": null,
   "metadata": {},
   "outputs": [],
   "source": [
    "var importer = require('../Core');\n",
    "var searchProvider = importer.import('search notebook provider');\n",
    "var lzw = importer.import('lzw compress');\n",
    "\n",
    "var PROFILE_PATH = process.env.HOME || process.env.HOMEPATH || process.env.USERPROFILE;\n",
    "var project = PROFILE_PATH + '/universal';\n",
    "if (!fs.existsSync(project)) {\n",
    "    fs.mkdirSync(project);\n",
    "}\n",
    "\n",
    "var rateLimit = 900000;\n",
    "\n",
    "function outputSlowly(r, out) {\n",
    "    var counter = 0;\n",
    "    return new Promise(resolve => {\n",
    "        var interval;\n",
    "        var scriptPieces = Math.ceil(r.scripts.length / rateLimit);\n",
    "        console.log(scriptPieces + ' pieces');\n",
    "        interval = setInterval(() => {\n",
    "            if (counter < scriptPieces) {\n",
    "                out(r.scripts.substr(counter * rateLimit, rateLimit), counter, scriptPieces);\n",
    "            } else {\n",
    "                clearInterval(interval);\n",
    "                resolve(r.compress);\n",
    "            }\n",
    "            counter++;\n",
    "        }, 1100);\n",
    "    });\n",
    "};\n",
    "\n",
    "function compress(code) {\n",
    "    console.log('Compressing...');\n",
    "    return ({compress: r[0].code, scripts: lzw.compressToBase64(code.scripts + code.chunks)});\n",
    "};\n",
    "\n",
    "$$.async();\n",
    "try {\n",
    "    displAngular(project, '/search')\n",
    "        .then(r => {\n",
    "            $$.html(r.html, true);\n",
    "            return compress(r);\n",
    "        })\n",
    "        .then(r => {\n",
    "            console.log('App will be available in ');\n",
    "            return outputSlowly(r, (c, i, t) => {\n",
    "                console.log((t - i) + ' - ' + c.substr(0, 10));\n",
    "                $$.html(`<script>\n",
    "if(!doc.app) { doc.app=''; }\n",
    "doc.app+=` + JSON.stringify(c) + `;\n",
    "</script>`, true);\n",
    "            });\n",
    "        })\n",
    "        .then(compress => $$.html(`<script>\n",
    "eval(decodeURI(` + JSON.stringify(encodeURI(compress)) + `));\n",
    "doc.document.write(LZString.decompressFromBase64(doc.app));\n",
    "doc.document.close();\n",
    "</script>`, true))\n",
    "        .then(() => searchProvider())\n",
    "        .then(() => $$.sendResult())\n",
    "        .catch(e => $$.sendError(e));\n",
    "} catch (e) {\n",
    "    $$.sendError(e);\n",
    "}\n",
    "\n"
   ]
  },
  {
   "cell_type": "code",
   "execution_count": null,
   "metadata": {},
   "outputs": [
    {
     "name": "stdout",
     "output_type": "stream",
     "text": [
      "Requiring SearchService\n",
      "{ SearchService: { prototype: { search: [Function], results: [Function] } } }\n",
      "Requiring BrowserService\n",
      "{ SearchService: { prototype: { search: [Function], results: [Function] } },\n",
      "  BrowserService: { prototype: { chrome: [Function] } } }\n",
      "Search handler\n"
     ]
    },
    {
     "name": "stderr",
     "output_type": "stream",
     "text": [
      "(node:26599) DeprecationWarning: sprintf() will be removed in the next major release, use the sprintf-js package instead.\n"
     ]
    },
    {
     "name": "stdout",
     "output_type": "stream",
     "text": [
      "Client connection\n",
      "Client connection\n",
      "Handler for SearchService\n",
      "Client connection\n",
      "Client connection\n",
      "Client connection\n",
      "Client connection\n",
      "Handler for BrowserService\n",
      "call [\"windows.getAll\",{}]\n",
      "call [\"windows.getAll\",{}]\n",
      "call [\"tabs.getAllInWindow\",1]\n",
      "call [\"tabs.getAllInWindow\",518]\n",
      "call [\"tabs.create\",{\"active\":true,\"url\":\"https://purchasesprint.actops.com/\"}]\n",
      "call [\"debugger.attach\",{\"tabId\":566},\"1.1\"]\n",
      "call [\"debugger.sendCommand\",{\"tabId\":566},\"Page.navigate\",{\"url\":\"https://purchasesprint.actops.com/\"}]\n",
      "call [\"debugger.sendCommand\",{\"tabId\":566},\"Runtime.evaluate\",{\"expression\":\"new window.BackupPromise(resolve => {\\nresolve(document.readyState === \\\"complete\\\" || document.readyState === \\\"interactive\\\");\n",
      "call [\"debugger.sendCommand\",{\"tabId\":566},\"Runtime.evaluate\",{\"expression\":\"new window.BackupPromise(resolve => setTimeout(() => {\\nresolve([].slice.call(window.document.querySelectorAll(\\\"[href*=\\\\\\\"/aut\n",
      "call [\"debugger.sendCommand\",{\"tabId\":566},\"DOM.requestNode\",{\"objectId\":\"{\\\"injectedScriptId\\\":7,\\\"id\\\":1}\"}]\n",
      "call [\"debugger.sendCommand\",{\"tabId\":566},\"DOM.resolveNode\",{\"nodeId\":0}]\n",
      "{\"code\":-32000,\"message\":\"No node with given id found\"}\n",
      "call [\"debugger.sendCommand\",{\"tabId\":566},\"DOM.resolveNode\",{\"nodeId\":0}]\n",
      "{\"code\":-32000,\"message\":\"No node with given id found\"}\n",
      "call [\"debugger.sendCommand\",{\"tabId\":566},\"DOM.resolveNode\",{\"nodeId\":0}]\n",
      "{\"code\":-32000,\"message\":\"No node with given id found\"}\n",
      "call [\"debugger.sendCommand\",{\"tabId\":566},\"DOM.resolveNode\",{\"nodeId\":0}]\n",
      "{\"code\":-32000,\"message\":\"No node with given id found\"}\n",
      "call [\"windows.getAll\",{}]\n"
     ]
    },
    {
     "name": "stderr",
     "output_type": "stream",
     "text": [
      "Error: not implemented! /wd/hub/session/04dd16bbaa34e31dbde4be7177b00762/alert_text{\"sessionId\":\"04dd16bbaa34e31dbde4be7177b00762\"}\n",
      "    at router.get (evalmachine.<anonymous>:30:15)\n",
      "    at Layer.handle [as handle_request] (/Users/briancullinan/jupytangular2/node_modules/express/lib/router/layer.js:95:5)\n",
      "    at next (/Users/briancullinan/jupytangular2/node_modules/express/lib/router/route.js:137:13)\n",
      "    at Route.dispatch (/Users/briancullinan/jupytangular2/node_modules/express/lib/router/route.js:112:3)\n",
      "    at Layer.handle [as handle_request] (/Users/briancullinan/jupytangular2/node_modules/express/lib/router/layer.js:95:5)\n",
      "    at /Users/briancullinan/jupytangular2/node_modules/express/lib/router/index.js:281:22\n",
      "    at param (/Users/briancullinan/jupytangular2/node_modules/express/lib/router/index.js:354:14)\n",
      "    at param (/Users/briancullinan/jupytangular2/node_modules/express/lib/router/index.js:365:14)\n",
      "    at Function.process_params (/Users/briancullinan/jupytangular2/node_modules/express/lib/router/index.js:410:3)\n",
      "    at next (/Users/briancullinan/jupytangular2/node_modules/express/lib/router/index.js:275:10)\n"
     ]
    },
    {
     "name": "stdout",
     "output_type": "stream",
     "text": [
      "call [\"tabs.get\",{\"tabId\":566}]\n"
     ]
    },
    {
     "name": "stderr",
     "output_type": "stream",
     "text": [
      "(node:26599) UnhandledPromiseRejectionWarning: Unhandled promise rejection (rejection id: 1): Error: command took too long to respond\n",
      "(node:26599) [DEP0018] DeprecationWarning: Unhandled promise rejections are deprecated. In the future, promise rejections that are not handled will terminate the Node.js process with a non-zero exit code.\n"
     ]
    },
    {
     "name": "stdout",
     "output_type": "stream",
     "text": [
      "call [\"tabs.get\",{\"tabId\":566}]\n"
     ]
    },
    {
     "name": "stderr",
     "output_type": "stream",
     "text": [
      "(node:26599) UnhandledPromiseRejectionWarning: Unhandled promise rejection (rejection id: 2): Error: command took too long to respond\n"
     ]
    },
    {
     "name": "stdout",
     "output_type": "stream",
     "text": [
      "call [\"tabs.get\",{\"tabId\":566}]\n"
     ]
    },
    {
     "name": "stderr",
     "output_type": "stream",
     "text": [
      "(node:26599) UnhandledPromiseRejectionWarning: Unhandled promise rejection (rejection id: 3): Error: command took too long to respond\n"
     ]
    },
    {
     "name": "stdout",
     "output_type": "stream",
     "text": [
      "call [\"tabs.get\",{\"tabId\":566}]\n"
     ]
    },
    {
     "name": "stderr",
     "output_type": "stream",
     "text": [
      "(node:26599) UnhandledPromiseRejectionWarning: Unhandled promise rejection (rejection id: 4): Error: command took too long to respond\n",
      "Error: not implemented! /wd/hub/session/04dd16bbaa34e31dbde4be7177b00762/alert_text{\"sessionId\":\"04dd16bbaa34e31dbde4be7177b00762\"}\n",
      "    at router.get (evalmachine.<anonymous>:30:15)\n",
      "    at Layer.handle [as handle_request] (/Users/briancullinan/jupytangular2/node_modules/express/lib/router/layer.js:95:5)\n",
      "    at next (/Users/briancullinan/jupytangular2/node_modules/express/lib/router/route.js:137:13)\n",
      "    at Route.dispatch (/Users/briancullinan/jupytangular2/node_modules/express/lib/router/route.js:112:3)\n",
      "    at Layer.handle [as handle_request] (/Users/briancullinan/jupytangular2/node_modules/express/lib/router/layer.js:95:5)\n",
      "    at /Users/briancullinan/jupytangular2/node_modules/express/lib/router/index.js:281:22\n",
      "    at param (/Users/briancullinan/jupytangular2/node_modules/express/lib/router/index.js:354:14)\n",
      "    at param (/Users/briancullinan/jupytangular2/node_modules/express/lib/router/index.js:365:14)\n",
      "    at Function.process_params (/Users/briancullinan/jupytangular2/node_modules/express/lib/router/index.js:410:3)\n",
      "    at next (/Users/briancullinan/jupytangular2/node_modules/express/lib/router/index.js:275:10)\n"
     ]
    },
    {
     "name": "stdout",
     "output_type": "stream",
     "text": [
      "call [\"tabs.get\",{\"tabId\":566}]\n"
     ]
    },
    {
     "name": "stderr",
     "output_type": "stream",
     "text": [
      "(node:26599) UnhandledPromiseRejectionWarning: Unhandled promise rejection (rejection id: 5): Error: command took too long to respond\n"
     ]
    },
    {
     "name": "stdout",
     "output_type": "stream",
     "text": [
      "call [\"tabs.get\",{\"tabId\":566}]\n"
     ]
    },
    {
     "name": "stderr",
     "output_type": "stream",
     "text": [
      "(node:26599) UnhandledPromiseRejectionWarning: Unhandled promise rejection (rejection id: 6): Error: command took too long to respond\n"
     ]
    },
    {
     "name": "stdout",
     "output_type": "stream",
     "text": [
      "call [\"tabs.get\",{\"tabId\":566}]\n"
     ]
    },
    {
     "name": "stderr",
     "output_type": "stream",
     "text": [
      "(node:26599) UnhandledPromiseRejectionWarning: Unhandled promise rejection (rejection id: 7): Error: command took too long to respond\n"
     ]
    },
    {
     "name": "stdout",
     "output_type": "stream",
     "text": [
      "call [\"tabs.get\",{\"tabId\":566}]\n"
     ]
    },
    {
     "name": "stderr",
     "output_type": "stream",
     "text": [
      "(node:26599) UnhandledPromiseRejectionWarning: Unhandled promise rejection (rejection id: 8): Error: command took too long to respond\n",
      "Error: not implemented! /wd/hub/session/04dd16bbaa34e31dbde4be7177b00762/alert_text{\"sessionId\":\"04dd16bbaa34e31dbde4be7177b00762\"}\n",
      "    at router.get (evalmachine.<anonymous>:30:15)\n",
      "    at Layer.handle [as handle_request] (/Users/briancullinan/jupytangular2/node_modules/express/lib/router/layer.js:95:5)\n",
      "    at next (/Users/briancullinan/jupytangular2/node_modules/express/lib/router/route.js:137:13)\n",
      "    at Route.dispatch (/Users/briancullinan/jupytangular2/node_modules/express/lib/router/route.js:112:3)\n",
      "    at Layer.handle [as handle_request] (/Users/briancullinan/jupytangular2/node_modules/express/lib/router/layer.js:95:5)\n",
      "    at /Users/briancullinan/jupytangular2/node_modules/express/lib/router/index.js:281:22\n",
      "    at param (/Users/briancullinan/jupytangular2/node_modules/express/lib/router/index.js:354:14)\n",
      "    at param (/Users/briancullinan/jupytangular2/node_modules/express/lib/router/index.js:365:14)\n",
      "    at Function.process_params (/Users/briancullinan/jupytangular2/node_modules/express/lib/router/index.js:410:3)\n",
      "    at next (/Users/briancullinan/jupytangular2/node_modules/express/lib/router/index.js:275:10)\n"
     ]
    },
    {
     "name": "stdout",
     "output_type": "stream",
     "text": [
      "call [\"tabs.get\",{\"tabId\":566}]\n"
     ]
    },
    {
     "name": "stderr",
     "output_type": "stream",
     "text": [
      "(node:26599) UnhandledPromiseRejectionWarning: Unhandled promise rejection (rejection id: 9): Error: command took too long to respond\n"
     ]
    },
    {
     "name": "stdout",
     "output_type": "stream",
     "text": [
      "call [\"tabs.get\",{\"tabId\":566}]\n"
     ]
    },
    {
     "name": "stderr",
     "output_type": "stream",
     "text": [
      "(node:26599) UnhandledPromiseRejectionWarning: Unhandled promise rejection (rejection id: 10): Error: command took too long to respond\n"
     ]
    },
    {
     "name": "stdout",
     "output_type": "stream",
     "text": [
      "call [\"tabs.get\",{\"tabId\":566}]\n"
     ]
    },
    {
     "name": "stderr",
     "output_type": "stream",
     "text": [
      "(node:26599) UnhandledPromiseRejectionWarning: Unhandled promise rejection (rejection id: 11): Error: command took too long to respond\n"
     ]
    },
    {
     "name": "stdout",
     "output_type": "stream",
     "text": [
      "call [\"tabs.get\",{\"tabId\":566}]\n"
     ]
    },
    {
     "name": "stderr",
     "output_type": "stream",
     "text": [
      "(node:26599) UnhandledPromiseRejectionWarning: Unhandled promise rejection (rejection id: 12): Error: command took too long to respond\n",
      "Error: not implemented! /wd/hub/session/04dd16bbaa34e31dbde4be7177b00762/alert_text{\"sessionId\":\"04dd16bbaa34e31dbde4be7177b00762\"}\n",
      "    at router.get (evalmachine.<anonymous>:30:15)\n",
      "    at Layer.handle [as handle_request] (/Users/briancullinan/jupytangular2/node_modules/express/lib/router/layer.js:95:5)\n",
      "    at next (/Users/briancullinan/jupytangular2/node_modules/express/lib/router/route.js:137:13)\n",
      "    at Route.dispatch (/Users/briancullinan/jupytangular2/node_modules/express/lib/router/route.js:112:3)\n",
      "    at Layer.handle [as handle_request] (/Users/briancullinan/jupytangular2/node_modules/express/lib/router/layer.js:95:5)\n",
      "    at /Users/briancullinan/jupytangular2/node_modules/express/lib/router/index.js:281:22\n",
      "    at param (/Users/briancullinan/jupytangular2/node_modules/express/lib/router/index.js:354:14)\n",
      "    at param (/Users/briancullinan/jupytangular2/node_modules/express/lib/router/index.js:365:14)\n",
      "    at Function.process_params (/Users/briancullinan/jupytangular2/node_modules/express/lib/router/index.js:410:3)\n",
      "    at next (/Users/briancullinan/jupytangular2/node_modules/express/lib/router/index.js:275:10)\n"
     ]
    },
    {
     "name": "stdout",
     "output_type": "stream",
     "text": [
      "call [\"tabs.get\",{\"tabId\":566}]\n"
     ]
    },
    {
     "name": "stderr",
     "output_type": "stream",
     "text": [
      "(node:26599) UnhandledPromiseRejectionWarning: Unhandled promise rejection (rejection id: 13): Error: command took too long to respond\n"
     ]
    }
   ],
   "source": [
    "// TODO: move this to web extension code?\n",
    "var importer = require('../Core');\n",
    "var fs = require('fs');\n",
    "var https = require('https');\n",
    "var app = require('express')();\n",
    "var {\n",
    "    searchProvider, sockify, seleniumServer\n",
    "} = importer.import([\n",
    "    'mock properties rewire',\n",
    "    'search notebook provider',\n",
    "    'socket.io server',\n",
    "    'selenium http server'\n",
    "]);\n",
    "\n",
    "var httpsOptions = {\n",
    "    key: fs.readFileSync('../Utilities/.ca/intermediate/private/localhost.key.pem'),\n",
    "    cert: fs.readFileSync('../Utilities/.ca/intermediate/certs/localhost.cert.pem'),\n",
    "    passphrase: 'x',\n",
    "    //requestCert: true,\n",
    "    rejectUnauthorized: false\n",
    "};\n",
    "var secureServer = require('https').createServer(httpsOptions, app);\n",
    "var trustedCa = ['../Utilities/ca/intermediate/certs/localhost.cert.pem'];\n",
    "\n",
    "https.globalAgent.options.ca = [];\n",
    "for (const ca of trustedCa) {\n",
    "    https.globalAgent.options.ca.push(httpsOptions.cert);\n",
    "}\n",
    "\n",
    "sockify = r[1];\n",
    "searchProvider = r[0];\n",
    "seleniumServer = r[2];\n",
    "\n",
    "var listener = secureServer.listen(8000);\n",
    "sockify.sockifyServer(listener);\n",
    "sockify.sockifyRequire({\n",
    "    prototype: {\n",
    "        search: function () {\n",
    "        },\n",
    "        results: function () {\n",
    "        }\n",
    "    }\n",
    "}, 'SearchService');\n",
    "sockify.sockifyRequire({\n",
    "    prototype: {\n",
    "        chrome: function () {\n",
    "        }\n",
    "    }\n",
    "}, 'BrowserService');\n",
    "searchProvider();\n",
    "\n",
    "$$.async();\n",
    "seleniumServer()\n",
    "    .catch(e => $$.sendError(e));\n",
    "\n",
    "// var PROFILE_PATH = process.env.HOME || process.env.HOMEPATH || process.env.USERPROFILE;\n",
    "// var keyChain = path.join(PROFILE_PATH, '/Library/Keychains/login.keychain');\n",
    "\n",
    "// security add-trusted-cert -d -r trustAsRoot -k ../Library/Keychains/login.keychain ../server.crt\n",
    "\n",
    "/// \n",
    "/* TODO: integrate with native messaging?\n",
    "\n",
    "{\n",
    "  \"name\": \"com.my_company.my_application\",\n",
    "  \"description\": \"My Application\",\n",
    "  \"path\": \"C:\\\\Program Files\\\\My Application\\\\chrome_native_messaging_host.exe\",\n",
    "  \"type\": \"stdio\",\n",
    "  \"allowed_origins\": [\n",
    "    \"chrome-extension://knldjmfmopnpolahpmmgbagdohdnhkik/\"\n",
    "  ]\n",
    "}\n",
    "\n",
    "*/\n",
    "\n"
   ]
  },
  {
   "cell_type": "code",
   "execution_count": null,
   "metadata": {},
   "outputs": [],
   "source": [
    "var automock = require('../../universal/src/imports/automock.js');\n",
    "\n",
    "automock.mockValue({}, {\n",
    "    stubCreator: function (name) {\n",
    "        console.log(name);\n",
    "        return function () {\n",
    "        }\n",
    "    }\n",
    "})\n"
   ]
  },
  {
   "cell_type": "code",
   "execution_count": null,
   "metadata": {},
   "outputs": [],
   "source": []
  },
  {
   "cell_type": "code",
   "execution_count": null,
   "metadata": {},
   "outputs": [],
   "source": []
  }
 ],
 "metadata": {
  "kernelspec": {
   "display_name": "Javascript (Node.js)",
   "language": "javascript",
   "name": "javascript"
  },
  "language_info": {
   "file_extension": ".js",
   "mimetype": "application/javascript",
   "name": "javascript",
   "version": "8.8.1"
  }
 },
 "nbformat": 4,
 "nbformat_minor": 2
}
