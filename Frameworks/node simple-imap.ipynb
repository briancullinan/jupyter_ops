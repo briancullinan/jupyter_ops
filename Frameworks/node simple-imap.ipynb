{
 "cells": [
  {
   "cell_type": "markdown",
   "metadata": {},
   "source": [
    "# How to use nodejs simple-imap?\n",
    "\n",
    "How to log in to Gmail using imap-simple/node IMAP?\n",
    "\n",
    "How to temporarily allow less secure apps?\n",
    "\n",
    "https://myaccount.google.com/lesssecureapps\n",
    "\n",
    "TODO: convert to selenium/sikuli script\n",
    "\n"
   ]
  },
  {
   "cell_type": "markdown",
   "metadata": {},
   "source": [
    "How to connect to Gmail using simple-imap?\n",
    "\n",
    "How do I connect using simple-imap and {credentials}?\n",
    "\n",
    "node imap client?\n",
    "\n"
   ]
  },
  {
   "cell_type": "code",
   "execution_count": 5,
   "metadata": {
    "inputHidden": false,
    "outputHidden": false
   },
   "outputs": [
    {
     "data": {
      "text/plain": [
       "[Function: imapClient]"
      ]
     },
     "execution_count": 5,
     "metadata": {},
     "output_type": "execute_result"
    }
   ],
   "source": [
    "var fs = require('fs');\n",
    "var path = require('path');\n",
    "var Imap = require('imap');\n",
    "var util = require('util');\n",
    "var mime = require('mime');\n",
    "var importer = require('../Core');\n",
    "var getCredentials = importer.import('decrypt passwords');\n",
    "\n",
    "var path = require('path');\n",
    "var PROFILE_PATH = process.env.HOME || process.env.HOMEPATH || process.env.USERPROFILE;\n",
    "var credentials = path.join(PROFILE_PATH, '.credentials/sheet to web-8ca5784e0b05.json');\n",
    "\n",
    "var {GoogleAuth} = require('google-auth-library');\n",
    "var GOOGLE_AUTH_SCOPE = [\n",
    "    'https://www.googleapis.com/auth/userinfo.profile',\n",
    "    'https://mail.google.com/'\n",
    "];\n",
    "\n",
    "function authorizeGmail() {\n",
    "    return new GoogleAuth({\n",
    "        keyFile: credentials,\n",
    "        scopes: GOOGLE_AUTH_SCOPE\n",
    "    }).getClient(/* options here are always ignored b/c cache */)\n",
    "}\n",
    "\n",
    "function imapClient() {\n",
    "    var imap, client;\n",
    "    \n",
    "    return authorizeGmail()\n",
    "        .then(c => {\n",
    "            client = c;\n",
    "            return client.request({\n",
    "                url: 'https://people.googleapis.com/v1/people/me?personFields=names'\n",
    "            })\n",
    "        })\n",
    "        .then(res => {\n",
    "            var creds = 'user=megamindbrian@gmail.com\\x01auth=Bearer ' + client.credentials.access_token + '\\x01\\x01';\n",
    "            var base64 = (new Buffer(creds)).toString('base64');\n",
    "            imap = new Imap({\n",
    "                host: 'imap.gmail.com',\n",
    "                port: 993,\n",
    "                tls: true,\n",
    "                xoauth2: base64,\n",
    "                debug: console.log\n",
    "            });\n",
    "            return new Promise((resolve, reject) => {\n",
    "                imap.once('error', reject);\n",
    "                imap.once('ready', resolve);\n",
    "                imap.once('end', reject);\n",
    "                imap.connect();\n",
    "            })\n",
    "        })\n",
    "        .then(() => util.promisify(imap.openBox.bind(imap))('INBOX', true))\n",
    "        .then(() => imap)\n",
    "}\n",
    "module.exports = imapClient;\n"
   ]
  },
  {
   "cell_type": "markdown",
   "metadata": {},
   "source": [
    "How to search for messages using simple-imap?\n",
    "\n",
    "How to search for messages in the last few {days}?\n",
    "\n",
    "How to search for messages {from} a sender's email address?\n"
   ]
  },
  {
   "cell_type": "code",
   "execution_count": 6,
   "metadata": {
    "inputHidden": false,
    "outputHidden": false
   },
   "outputs": [
    {
     "name": "stdout",
     "output_type": "stream",
     "text": [
      "reading notebook /Users/briancullinan/jupytangular2/Frameworks/node simple-imap.ipynb\n",
      "compiling /Users/briancullinan/jupytangular2/Frameworks/node simple-imap.ipynb[0]\n"
     ]
    },
    {
     "data": {
      "text/plain": [
       "[Function: searchImap]"
      ]
     },
     "execution_count": 6,
     "metadata": {},
     "output_type": "execute_result"
    }
   ],
   "source": [
    "var chrono = require('chrono-node');\n",
    "var importer = require('../Core');\n",
    "var imapClient = importer.import('node imap client');\n",
    "var util = require('util');\n",
    "\n",
    "function flatten(messages) {\n",
    "    return messages.map(message => {\n",
    "        var header = message.parts.filter(function (part) {\n",
    "            return part.which.indexOf('HEADER') > -1;\n",
    "        });\n",
    "        var text = message.parts.filter(function (part) {\n",
    "            return part.which.indexOf('TEXT') > -1;\n",
    "        });\n",
    "        var subject = header[0].body.subject[0];\n",
    "        var from = header[0].body.from[0];\n",
    "        var to = header[0].body.to[0];\n",
    "        var date = header[0].body.date[0];\n",
    "        from = ((/.+<(.*?)>/ig).exec(from) || [])[1] || from;\n",
    "        to = ((/.+<(.*?)>/ig).exec(to) || [])[1] || to;\n",
    "        return {\n",
    "            id: message.attributes.uid,\n",
    "            email: from,\n",
    "            subject,\n",
    "            body: text[0].body,\n",
    "            date: chrono.parseDate(date),\n",
    "            to\n",
    "        };\n",
    "    })\n",
    "}\n",
    "\n",
    "function searchImap(from = '*', subject = '*', days = 7, mailbox = 'INBOX') {\n",
    "    // Fetch emails from the last number of {days}\n",
    "    var delay = 24 * 3600 * 1000 * days;\n",
    "    var lastWeek = new Date();\n",
    "    lastWeek.setTime(Date.now() - delay);\n",
    "    lastWeek = lastWeek.toISOString();\n",
    "    var searchCriteria = [['SINCE', lastWeek]];\n",
    "    if(from !== '*') {\n",
    "        searchCriteria.push(['FROM', from])\n",
    "    }\n",
    "    if(subject !== '*') {\n",
    "        searchCriteria.push(['SUBJECT', subject])\n",
    "    }\n",
    "    var fetchOptions = {\n",
    "        bodies: ['HEADER.FIELDS (FROM TO SUBJECT DATE)', 'TEXT'],\n",
    "        struct: true\n",
    "    };\n",
    "    var imap;\n",
    "    return imapClient()\n",
    "        .then(c => {\n",
    "            imap = c;\n",
    "            if(mailbox !== 'INBOX') {\n",
    "                return util.promisify(imap.openBox.bind(imap))(mailbox)\n",
    "            }\n",
    "        })\n",
    "        .then(() => util.promisify(imap.search.bind(imap))(searchCriteria, fetchOptions))\n",
    "        .then(r => {\n",
    "            r.flatten = () => flatten(r);\n",
    "            return r;\n",
    "        })\n",
    "        .catch(e => console.log(e))\n",
    "}\n",
    "\n",
    "module.exports = searchImap;\n"
   ]
  },
  {
   "cell_type": "markdown",
   "metadata": {},
   "source": [
    "test search messages imap?\n"
   ]
  },
  {
   "cell_type": "code",
   "execution_count": 2,
   "metadata": {},
   "outputs": [
    {
     "name": "stdout",
     "output_type": "stream",
     "text": [
      "reading notebook /Users/briancullinan/jupytangular2/Frameworks/node simple-imap.ipynb\n",
      "compiling /Users/briancullinan/jupytangular2/Frameworks/node simple-imap.ipynb[0]\n",
      "[connection] Connected to host\n",
      "<= '* OK Gimap ready for requests from 174.26.160.239 f10mb195985531pjw'\n",
      "=> 'A0 CAPABILITY'\n",
      "<= '* CAPABILITY IMAP4rev1 UNSELECT IDLE NAMESPACE QUOTA ID XLIST CHILDREN X-GM-EXT-1 XYZZY SASL-IR AUTH=XOAUTH2 AUTH=PLAIN AUTH=PLAIN-CLIENTTOKEN AUTH=OAUTHBEARER AUTH=XOAUTH'\n",
      "<= 'A0 OK Thats all she wrote! f10mb195985531pjw'\n",
      "=> 'A1 AUTHENTICATE XOAUTH2 dXNlcj1tZWdhbWluZGJyaWFuQGdtYWlsLmNvbQFhdXRoPUJlYXJlciB5YTI5LmMuRWxvQkI3T2FVcUdvTXNmaVZJUDk2N3NwTXNoOGlMWUlVM3JYZmZEczFSekRxOS1vOFlxdjlQZ1V4U3JfRVdqcHl3cFE0OHpiQnI5NFdtQUJqajI0UE81TjN2Zkp3Nkp3aUV3QkhhdEk0UTZpSmlCalY4eVA0OEhZNDhzAQE='\n",
      "<= '+ eyJzdGF0dXMiOiI0MDAiLCJzY2hlbWVzIjoiQmVhcmVyIiwic2NvcGUiOiJodHRwczovL21haWwuZ29vZ2xlLmNvbS8ifQ=='\n",
      "=> '\\r\\n'\n",
      "<= 'A1 NO [AUTHENTICATIONFAILED] Invalid credentials (Failure)'\n"
     ]
    },
    {
     "ename": "Error",
     "evalue": "Invalid credentials (Failure)",
     "output_type": "error",
     "traceback": [
      "Error: Invalid credentials (Failure)",
      "    at Connection._resTagged (/Users/briancullinan/jupytangular2/node_modules/imap/lib/Connection.js:1502:11)",
      "    at Parser.<anonymous> (/Users/briancullinan/jupytangular2/node_modules/imap/lib/Connection.js:194:10)",
      "    at emitOne (events.js:115:13)",
      "    at Parser.emit (events.js:210:7)",
      "    at Parser._resTagged (/Users/briancullinan/jupytangular2/node_modules/imap/lib/Parser.js:175:10)",
      "    at Parser._parse (/Users/briancullinan/jupytangular2/node_modules/imap/lib/Parser.js:139:16)",
      "    at Parser._tryread (/Users/briancullinan/jupytangular2/node_modules/imap/lib/Parser.js:82:15)",
      "    at TLSSocket.Parser._cbReadable (/Users/briancullinan/jupytangular2/node_modules/imap/lib/Parser.js:53:12)",
      "    at emitNone (events.js:105:13)",
      "    at TLSSocket.emit (events.js:207:7)"
     ]
    },
    {
     "name": "stdout",
     "output_type": "stream",
     "text": [
      "[connection] Ended\n",
      "[connection] Closed\n"
     ]
    }
   ],
   "source": [
    "var importer = require('../Core');\n",
    "var imapClient = importer.import('node imap client');\n",
    "\n",
    "$$.async();\n",
    "imapClient()\n",
    "    .then(r => $$.sendResult(r))\n",
    "    .catch(e => $$.sendError(e))\n",
    "\n"
   ]
  },
  {
   "cell_type": "markdown",
   "metadata": {},
   "source": [
    "scan commands email?\n"
   ]
  },
  {
   "cell_type": "code",
   "execution_count": 4,
   "metadata": {},
   "outputs": [
    {
     "name": "stdout",
     "output_type": "stream",
     "text": [
      "{ timeMin: '2017-11-27T00:00:00-00:00',\n",
      "  timeMax: '2017-11-28T00:00:00-00:00' }\n",
      "Using calendar: Commands - kqn9q1hpho8q2ti5mqvv6tkth8@group.calendar.google.com\n"
     ]
    },
    {
     "data": {
      "text/plain": [
       "[]"
      ]
     },
     "execution_count": 4,
     "metadata": {},
     "output_type": "execute_result"
    }
   ],
   "source": [
    "var importer = require('../Core');\n",
    "var {\n",
    "    searchImap,\n",
    "    sendEmail,\n",
    "    getOauthClient,\n",
    "    filterCommand,\n",
    "    storeResult\n",
    "} = importer.import([\n",
    "    'search imap messages',\n",
    "    'send email',\n",
    "    'filter command permission',\n",
    "    'store rpc result'\n",
    "]);\n",
    "\n",
    "var options = {\n",
    "    calendarId: 'Commands'\n",
    "};\n",
    "\n",
    "function scanCommandsEmail() {\n",
    "    return searchImap('*', 'megamind', 1, 'Megamind')\n",
    "        .then(messages => messages.flatten())\n",
    "        // get settings for each\n",
    "        .then(friends => {\n",
    "            const hasCommands = friends.map(f => Object.assign(f, {\n",
    "                id: 'Email: ' + id,\n",
    "                command: (/megamind\\s*(.*)/ig).exec(f.subject)[1].trim()\n",
    "            })).filter(f => f.command.length > 0\n",
    "                       // filter out responses from my own INBOX so I can test this service myself\n",
    "                        && !f.body.match(/^\\s* Mm\\s*$/gm));\n",
    "            return importer.runAllPromises(hasCommands.map(f => resolve => {\n",
    "                return filterCommand(f.command, f.date, f.id, f.email)\n",
    "                    .then(props => resolve(Object.assign(f, props)));\n",
    "            }))\n",
    "        })\n",
    "        // generate and send responses\n",
    "        .then(friends => {\n",
    "            return importer.runAllPromises(friends.map(f => resolve => {\n",
    "                return storeResult(f)\n",
    "                    .then(response => sendEmail(\n",
    "                        f.email,\n",
    "                        JSON.stringify(response, null, 4) + '\\n Mm\\n',\n",
    "                        f.subject))\n",
    "                    .catch(e => console.log(e))\n",
    "                    .then(r => resolve(r))\n",
    "            }))\n",
    "        })\n",
    "        .catch(e => console.log(e))\n",
    "}\n",
    "module.exports = scanCommandsEmail;\n",
    "\n",
    "if(typeof $$ !== 'undefined') {\n",
    "    $$.async();\n",
    "    scanCommandsEmail()\n",
    "        .then(r => $$.sendResult(r))\n",
    "        .catch((e) => $$.sendError(e))\n",
    "}\n"
   ]
  },
  {
   "cell_type": "markdown",
   "metadata": {},
   "source": [
    "How to list the subjects from simple-imap messages?\n",
    "\n",
    "How to list the sender's email address from simple-imap messages?\n"
   ]
  },
  {
   "cell_type": "code",
   "execution_count": null,
   "metadata": {
    "inputHidden": false,
    "outputHidden": false
   },
   "outputs": [],
   "source": [
    "htmlPrint = '';\n",
    "messages.forEach(message => {\n",
    "    var header = message.parts.filter(function (part) {\n",
    "        return part.which.indexOf('HEADER') > -1;\n",
    "    });\n",
    "    var subject = header[0].body.subject[0];\n",
    "    var from = header[0].body.from[0];\n",
    "    htmlPrint += '<li>subject: ' + subject + ', from: ' + from + '</li>\\n';\n",
    "});\n",
    "$$.mime({'text/markdown': 'Usage:\\n\\n```html\\n' + htmlPrint + '\\n```\\nOuput:\\n'});\n",
    "\n"
   ]
  },
  {
   "cell_type": "markdown",
   "metadata": {},
   "source": [
    "How to extract a list of image attachments from an email?\n",
    "\n",
    "How do I extract attachments from {message}\n",
    "\n",
    "How to get attachments using simple-imap?\n",
    "\n",
    "How to get attachements from the last few {days}?\n",
    "\n",
    "How to get messages {from} and email address?\n",
    "\n",
    "How to save an attachments from simple-imap?\n",
    "\n",
    "How to {output} all attachments in the requested {format}?\n",
    "\n"
   ]
  },
  {
   "cell_type": "code",
   "execution_count": null,
   "metadata": {
    "inputHidden": false,
    "outputHidden": false
   },
   "outputs": [],
   "source": [
    "var output = path.join(process.cwd(), 'output');\n",
    "// TODO: convert the attachments to a virtual filesystem, lay it on top of the current app, run end-to-end tests\n",
    "if (!fs.existsSync(output)) {\n",
    "    fs.mkdirSync(output);\n",
    "}\n",
    "\n",
    "function getAttachments(messages) {\n",
    "    attachments = []\n",
    "    return Promise.all(messages.map(message => {\n",
    "        return Promise.all(imaps.getParts(message.attributes.struct)\n",
    "            .filter((part) => part.disposition && part.disposition.type === 'ATTACHMENT')\n",
    "            // retrieve the attachments only of the messages with attachments \n",
    "            .map((part) => connection.getPartData(message, part).then((partData) => ({\n",
    "                filename: part.disposition.params.filename,\n",
    "                data: partData\n",
    "            }))))\n",
    "            .then(a => attachments = attachments.concat(a));\n",
    "    }));\n",
    "}\n",
    "\n",
    "function saveAttachments(attachments) {\n",
    "    var result = attachments.map((attachment) => {\n",
    "        return new Promise((resolve, reject) => fs.writeFile(\n",
    "            path.join(output, attachment.filename),\n",
    "            attachment.data,\n",
    "            'binary',\n",
    "            function (err) {\n",
    "                if (err) reject(err);\n",
    "                else resolve(attachment);\n",
    "            }));\n",
    "    });\n",
    "    return Promise.all(result).then(images => {\n",
    "        html = '';\n",
    "        htmlPrint = '';\n",
    "        images.forEach((i) => {\n",
    "            var filename = i.filename.split('/').pop();\n",
    "            var ext = mime.lookup(i.filename);\n",
    "            html += '<img src=\"data:' + ext + ';base64,' + (new Buffer(i.data, 'binary')).toString('base64') + '\" />';\n",
    "            htmlPrint += '<li><img src=\"/assets/' + filename + '\" /></li>\\n';\n",
    "        });\n",
    "        $$.mime({'text/markdown': 'Usage:\\n\\n```html\\n' + htmlPrint + '\\n```\\nOutput:\\n' + html});\n",
    "    })\n",
    "}\n",
    "\n",
    "\n"
   ]
  },
  {
   "cell_type": "markdown",
   "metadata": {},
   "source": [
    "send email?\n"
   ]
  },
  {
   "cell_type": "code",
   "execution_count": 2,
   "metadata": {},
   "outputs": [
    {
     "data": {
      "text/plain": [
       "[Function: sendEmail]"
      ]
     },
     "execution_count": 2,
     "metadata": {},
     "output_type": "execute_result"
    }
   ],
   "source": [
    "var nodemailer = require('nodemailer')\n",
    "var importer = require('../Core');\n",
    "var getCredentials = importer.import('decrypt passwords');\n",
    "\n",
    "function sendEmail(to, text, subject, from) {\n",
    "    var credentials = getCredentials('accounts.google.com');\n",
    "    process.env.GOOGLE_USER = credentials.Email;\n",
    "    process.env.GOOGLE_PASS = credentials.Passwd;\n",
    "\n",
    "    // create reusable transporter object using the default SMTP transport\n",
    "    let transporter = nodemailer.createTransport({\n",
    "        host: 'smtp.gmail.com',\n",
    "        port: 465,\n",
    "        secure: true, // true for 465, false for other ports\n",
    "        auth: {\n",
    "            user: process.env.GOOGLE_USER, // generated ethereal user\n",
    "            pass: process.env.GOOGLE_PASS  // generated ethereal password\n",
    "        }\n",
    "    });\n",
    "\n",
    "    // setup email data with unicode symbols\n",
    "    let mailOptions = {\n",
    "        from: from, // sender address\n",
    "        to: to, // list of receivers\n",
    "        subject: subject, // Subject line\n",
    "        text: text, // plain text body\n",
    "        html: text // html body\n",
    "    };\n",
    "\n",
    "    // send mail with defined transport object\n",
    "    return new Promise((resolve, reject) => {\n",
    "        transporter.sendMail(mailOptions, (error, info) => {\n",
    "            if (error) {\n",
    "                return reject(error);\n",
    "            }\n",
    "            resolve(info.messageId);\n",
    "        });\n",
    "    });\n",
    "}\n",
    "module.exports = sendEmail;\n",
    "\n"
   ]
  },
  {
   "cell_type": "markdown",
   "metadata": {},
   "source": [
    "Append email to drafts\n"
   ]
  },
  {
   "cell_type": "code",
   "execution_count": null,
   "metadata": {},
   "outputs": [],
   "source": [
    "var imaps = require('imap-simple');\n",
    " \n",
    "var config = {\n",
    "    imap: {\n",
    "        user: 'your@email.address',\n",
    "        password: 'yourpassword',\n",
    "        host: 'imap.gmail.com',\n",
    "        port: 993,\n",
    "        tls: true,\n",
    "        authTimeout: 3000\n",
    "    }\n",
    "};\n",
    " \n",
    "imaps.connect(config).then(function (connection) {\n",
    "  const message = `Content-Type: text/plain\n",
    "To: jhannes@gmail.com\n",
    "Subject: Hello world\n",
    " \n",
    "Hi\n",
    "This is a test message\n",
    "`;\n",
    "  connection.append(message.toString(), {mailbox: 'Drafts', flags: '\\\\Draft'});\n",
    "});\n",
    "\n"
   ]
  }
 ],
 "metadata": {
  "kernel_info": {
   "name": "node_nteract"
  },
  "kernelspec": {
   "display_name": "Javascript (Node.js)",
   "language": "javascript",
   "name": "javascript"
  },
  "language_info": {
   "file_extension": ".js",
   "mimetype": "application/javascript",
   "name": "javascript",
   "version": "8.6.0"
  }
 },
 "nbformat": 4,
 "nbformat_minor": 4
}
