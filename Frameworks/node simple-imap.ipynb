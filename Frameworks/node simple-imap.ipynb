{
 "cells": [
  {
   "cell_type": "markdown",
   "metadata": {},
   "source": [
    "# How to use nodejs simple-imap?\n",
    "\n",
    "How to log in to Gmail using imap-simple/node IMAP?\n",
    "\n",
    "How to temporarily allow less secure apps?\n",
    "\n",
    "https://myaccount.google.com/lesssecureapps\n",
    "\n",
    "TODO: convert to selenium/sikuli script\n",
    "\n"
   ]
  },
  {
   "cell_type": "markdown",
   "metadata": {},
   "source": [
    "How to connect to Gmail using simple-imap?\n",
    "\n",
    "How do I connect using simple-imap and {credentials}?\n",
    "\n",
    "node imap client?\n",
    "\n"
   ]
  },
  {
   "cell_type": "code",
   "execution_count": null,
   "metadata": {
    "collapsed": false,
    "inputHidden": false,
    "outputHidden": false
   },
   "outputs": [],
   "source": [
    "var fs = require('fs');\n",
    "var path = require('path');\n",
    "var imaps = require('imap-simple');\n",
    "var mime = require('mime');\n",
    "var importer = require('../Core');\n",
    "var getCredentials = importer.import('decrypt passwords');\n",
    "\n",
    "var output = path.join(process.cwd(), 'output');\n",
    "var credentials = getCredentials('accounts.google.com');\n",
    "process.env.GOOGLE_USER = credentials.Email;\n",
    "process.env.GOOGLE_PASS = credentials.Passwd;\n",
    "\n",
    "var config = {\n",
    "    imap: {\n",
    "        user: process.env.GOOGLE_USER,\n",
    "        password: process.env.GOOGLE_PASS,\n",
    "        host: 'imap.gmail.com',\n",
    "        port: 993,\n",
    "        tls: true,\n",
    "        autotls: 'required',\n",
    "        authTimeout: 3000\n",
    "    }\n",
    "};\n",
    "\n",
    "function imapClient() {\n",
    "    var connection;\n",
    "    return imaps.connect(config)\n",
    "        .then((conn) => {\n",
    "            connection = conn;\n",
    "            return conn.openBox('INBOX');\n",
    "        })\n",
    "        .then(() => connection)\n",
    "}\n",
    "module.exports = imapClient;\n"
   ]
  },
  {
   "cell_type": "markdown",
   "metadata": {},
   "source": [
    "How to search for messages using simple-imap?\n",
    "\n",
    "How to search for messages in the last few {days}?\n",
    "\n",
    "How to search for messages {from} a sender's email address?\n"
   ]
  },
  {
   "cell_type": "code",
   "execution_count": null,
   "metadata": {
    "collapsed": false,
    "inputHidden": false,
    "outputHidden": false
   },
   "outputs": [],
   "source": [
    "var importer = require('../Core');\n",
    "var imapClient = importer.import('node imap client');\n",
    "\n",
    "var connection;\n",
    "function searchImap(from = '*', subject = '*', days = 7) {\n",
    "    // Fetch emails from the last number of {days}\n",
    "    var delay = 24 * 3600 * 1000 * days;\n",
    "    var lastWeek = new Date();\n",
    "    lastWeek.setTime(Date.now() - delay);\n",
    "    lastWeek = lastWeek.toISOString();\n",
    "    var searchCriteria = ['SEEN', ['SINCE', lastWeek]];\n",
    "    if(from !== '*') {\n",
    "        searchCriteria.push(['FROM', from])\n",
    "    }\n",
    "    if(subject !== '*') {\n",
    "        searchCriteria.push(['SUBJECT', subject])\n",
    "    }\n",
    "    var fetchOptions = {bodies: ['HEADER.FIELDS (FROM TO SUBJECT DATE)'], struct: true};\n",
    "    var messages = [];\n",
    "    return imapClient()\n",
    "        .then(r => connection = r)\n",
    "        .then(() => connection.search(searchCriteria, fetchOptions))\n",
    "        .then(m => {\n",
    "            messages = m;\n",
    "            return m;\n",
    "        })\n",
    "}\n",
    "module.exports = searchImap;\n",
    "\n",
    "if(typeof $$ !== 'undefined') {\n",
    "$$.async();\n",
    "searchImap('*', 'megamind')\n",
    "    .then(r => $$.sendResult(r))\n",
    "    .catch((e) => $$.sendError(e))\n",
    "}\n"
   ]
  },
  {
   "cell_type": "markdown",
   "metadata": {},
   "source": [
    "How to list the subjects from simple-imap messages?\n",
    "\n",
    "How to list the sender's email address from simple-imap messages?\n"
   ]
  },
  {
   "cell_type": "code",
   "execution_count": null,
   "metadata": {
    "collapsed": false,
    "inputHidden": false,
    "outputHidden": false
   },
   "outputs": [],
   "source": [
    "htmlPrint = '';\n",
    "messages.forEach(message => {\n",
    "    var header = message.parts.filter(function (part) {\n",
    "        return part.which.indexOf('HEADER') > -1;\n",
    "    });\n",
    "    var subject = header[0].body.subject[0];\n",
    "    var from = header[0].body.from[0];\n",
    "    htmlPrint += '<li>subject: ' + subject + ', from: ' + from + '</li>\\n';\n",
    "});\n",
    "$$.mime({'text/markdown': 'Usage:\\n\\n```html\\n' + htmlPrint + '\\n```\\nOuput:\\n'});\n",
    "\n"
   ]
  },
  {
   "cell_type": "markdown",
   "metadata": {},
   "source": [
    "How to extract a list of image attachments from an email?\n",
    "\n",
    "How do I extract attachments from {message}\n",
    "\n",
    "How to get attachments using simple-imap?\n",
    "\n",
    "How to get attachements from the last few {days}?\n",
    "\n",
    "How to get messages {from} and email address?\n",
    "\n"
   ]
  },
  {
   "cell_type": "code",
   "execution_count": null,
   "metadata": {
    "collapsed": false,
    "inputHidden": false,
    "outputHidden": false
   },
   "outputs": [],
   "source": [
    "$$.async();\n",
    "attachments = []\n",
    "Promise.all(messages.map(message => {\n",
    "    return Promise.all(imaps.getParts(message.attributes.struct)\n",
    "        .filter((part) => part.disposition && part.disposition.type === 'ATTACHMENT')\n",
    "        // retrieve the attachments only of the messages with attachments \n",
    "        .map((part) => connection.getPartData(message, part).then((partData) => ({\n",
    "            filename: part.disposition.params.filename,\n",
    "            data: partData\n",
    "        }))))\n",
    "        .then(a => attachments = attachments.concat(a));\n",
    "})).then((o) => $$.done(attachments)).catch(e => $$.done(e));"
   ]
  },
  {
   "cell_type": "markdown",
   "metadata": {
    "inputHidden": false,
    "outputHidden": false
   },
   "source": [
    "How to save an attachments from simple-imap?\n",
    "\n",
    "How to save a {file}?\n",
    "\n",
    "How to save binary {data}?\n",
    "\n",
    "How to {output} all attachments in the requested {format}?\n",
    "\n"
   ]
  },
  {
   "cell_type": "code",
   "execution_count": null,
   "metadata": {
    "collapsed": false,
    "inputHidden": false,
    "outputHidden": false
   },
   "outputs": [],
   "source": [
    "// TODO: convert the attachments to a virtual filesystem, lay it on top of the current app, run end-to-end tests\n",
    "if (!fs.existsSync(output)) {\n",
    "    fs.mkdirSync(output);\n",
    "}\n",
    "var result = attachments.map((attachment) => {\n",
    "    return new Promise((resolve, reject) => fs.writeFile(\n",
    "        path.join(output, attachment.filename),\n",
    "        attachment.data,\n",
    "        'binary',\n",
    "        function (err) {\n",
    "            if (err) reject(err);\n",
    "            else resolve(attachment);\n",
    "        }));\n",
    "});\n",
    "$$.async();\n",
    "Promise.all(result).then(images => {\n",
    "    html = '';\n",
    "    htmlPrint = '';\n",
    "    images.forEach((i) => {\n",
    "        var filename = i.filename.split('/').pop();\n",
    "        var ext = mime.lookup(i.filename);\n",
    "        html += '<img src=\"data:' + ext + ';base64,' + (new Buffer(i.data, 'binary')).toString('base64') + '\" />';\n",
    "        htmlPrint += '<li><img src=\"/assets/' + filename + '\" /></li>\\n';\n",
    "    });\n",
    "    $$.mime({'text/markdown': 'Usage:\\n\\n```html\\n' + htmlPrint + '\\n```\\nOutput:\\n' + html});\n",
    "}).catch(e => $$.done(e));\n",
    "\n"
   ]
  }
 ],
 "metadata": {
  "kernel_info": {
   "name": "node_nteract"
  },
  "kernelspec": {
   "display_name": "Javascript (Node.js)",
   "language": "javascript",
   "name": "javascript"
  },
  "language_info": {
   "file_extension": ".js",
   "mimetype": "application/javascript",
   "name": "javascript",
   "version": "8.6.0"
  }
 },
 "nbformat": 4,
 "nbformat_minor": 4
}
