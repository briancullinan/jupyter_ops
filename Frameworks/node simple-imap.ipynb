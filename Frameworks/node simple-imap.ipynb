{
 "cells": [
  {
   "cell_type": "markdown",
   "metadata": {},
   "source": [
    "# How to use nodejs simple-imap?\n",
    "\n",
    "How to log in to Gmail using imap-simple/node IMAP?\n",
    "\n",
    "How to temporarily allow less secure apps?\n",
    "\n",
    "https://myaccount.google.com/lesssecureapps\n",
    "\n",
    "TODO: convert to selenium/sikuli script\n",
    "\n"
   ]
  },
  {
   "cell_type": "markdown",
   "metadata": {},
   "source": [
    "How to connect to Gmail using simple-imap?\n",
    "\n",
    "How do I connect using simple-imap and {credentials}?\n",
    "\n",
    "node imap client?\n",
    "\n"
   ]
  },
  {
   "cell_type": "code",
   "execution_count": null,
   "metadata": {
    "collapsed": false,
    "inputHidden": false,
    "outputHidden": false
   },
   "outputs": [],
   "source": [
    "var fs = require('fs');\n",
    "var path = require('path');\n",
    "var imaps = require('imap-simple');\n",
    "var mime = require('mime');\n",
    "var importer = require('../Core');\n",
    "var getCredentials = importer.import('decrypt passwords');\n",
    "\n",
    "var output = path.join(process.cwd(), 'output');\n",
    "var credentials = getCredentials('accounts.google.com');\n",
    "process.env.GOOGLE_USER = credentials.Email;\n",
    "process.env.GOOGLE_PASS = credentials.Passwd;\n",
    "\n",
    "var config = {\n",
    "    imap: {\n",
    "        user: process.env.GOOGLE_USER,\n",
    "        password: process.env.GOOGLE_PASS,\n",
    "        host: 'imap.gmail.com',\n",
    "        port: 993,\n",
    "        tls: true,\n",
    "        autotls: 'required',\n",
    "        authTimeout: 3000\n",
    "    }\n",
    "};\n",
    "\n",
    "function imapClient() {\n",
    "    var connection;\n",
    "    return imaps.connect(config)\n",
    "        .then((conn) => {\n",
    "            connection = conn;\n",
    "            return conn.openBox('INBOX');\n",
    "        })\n",
    "        .then(() => connection)\n",
    "}\n",
    "module.exports = imapClient;\n"
   ]
  },
  {
   "cell_type": "markdown",
   "metadata": {},
   "source": [
    "How to search for messages using simple-imap?\n",
    "\n",
    "How to search for messages in the last few {days}?\n",
    "\n",
    "How to search for messages {from} a sender's email address?\n"
   ]
  },
  {
   "cell_type": "code",
   "execution_count": null,
   "metadata": {
    "collapsed": false,
    "inputHidden": false,
    "outputHidden": false
   },
   "outputs": [],
   "source": [
    "var chrono = require('chrono-node');\n",
    "var importer = require('../Core');\n",
    "var {\n",
    "    imapClient,\n",
    "} = importer.import([\n",
    "    'node imap client',\n",
    "]);\n",
    "\n",
    "function flatten(messages) {\n",
    "    return messages.map(message => {\n",
    "        var header = message.parts.filter(function (part) {\n",
    "            return part.which.indexOf('HEADER') > -1;\n",
    "        });\n",
    "        var text = message.parts.filter(function (part) {\n",
    "            return part.which.indexOf('TEXT') > -1;\n",
    "        });\n",
    "        var subject = header[0].body.subject[0];\n",
    "        var from = header[0].body.from[0];\n",
    "        var to = header[0].body.to[0];\n",
    "        var date = header[0].body.date[0];\n",
    "        from = ((/.+<(.*?)>/ig).exec(from) || [])[1] || from;\n",
    "        to = ((/.+<(.*?)>/ig).exec(to) || [])[1] || to;\n",
    "        return {\n",
    "            id: message.attributes.uid,\n",
    "            email: from,\n",
    "            subject,\n",
    "            body: text[0].body,\n",
    "            date: chrono.parseDate(date),\n",
    "            to\n",
    "        };\n",
    "    })\n",
    "}\n",
    "\n",
    "function searchImap(from = '*', subject = '*', days = 7, mailbox = 'INBOX') {\n",
    "    // Fetch emails from the last number of {days}\n",
    "    var delay = 24 * 3600 * 1000 * days;\n",
    "    var lastWeek = new Date();\n",
    "    lastWeek.setTime(Date.now() - delay);\n",
    "    lastWeek = lastWeek.toISOString();\n",
    "    var searchCriteria = [['SINCE', lastWeek]];\n",
    "    if(from !== '*') {\n",
    "        searchCriteria.push(['FROM', from])\n",
    "    }\n",
    "    if(subject !== '*') {\n",
    "        searchCriteria.push(['SUBJECT', subject])\n",
    "    }\n",
    "    var fetchOptions = {\n",
    "        bodies: ['HEADER.FIELDS (FROM TO SUBJECT DATE)', 'TEXT'],\n",
    "        struct: true\n",
    "    };\n",
    "    var connection;\n",
    "    return imapClient()\n",
    "        .then(c => {\n",
    "            connection = c;\n",
    "            if(mailbox !== 'INBOX') {\n",
    "                return connection.openBox(mailbox)\n",
    "            }\n",
    "        })\n",
    "        .then(() => connection.search(searchCriteria, fetchOptions))\n",
    "        .then(r => {\n",
    "            r.flatten = () => flatten(r);\n",
    "            return r;\n",
    "        })\n",
    "        .catch(e => console.log(e))\n",
    "}\n",
    "module.exports = searchImap;\n"
   ]
  },
  {
   "cell_type": "markdown",
   "metadata": {},
   "source": [
    "scan commands email?\n"
   ]
  },
  {
   "cell_type": "code",
   "execution_count": 4,
   "metadata": {},
   "outputs": [
    {
     "name": "stdout",
     "output_type": "stream",
     "text": [
      "{ timeMin: '2017-11-27T00:00:00-00:00',\n",
      "  timeMax: '2017-11-28T00:00:00-00:00' }\n",
      "Using calendar: Commands - kqn9q1hpho8q2ti5mqvv6tkth8@group.calendar.google.com\n"
     ]
    },
    {
     "data": {
      "text/plain": [
       "[]"
      ]
     },
     "execution_count": 4,
     "metadata": {},
     "output_type": "execute_result"
    }
   ],
   "source": [
    "var importer = require('../Core');\n",
    "var {\n",
    "    searchImap,\n",
    "    sendEmail,\n",
    "    getOauthClient,\n",
    "    filterCommand,\n",
    "    storeResult\n",
    "} = importer.import([\n",
    "    'search imap messages',\n",
    "    'send email',\n",
    "    'filter command permission',\n",
    "    'store rpc result'\n",
    "]);\n",
    "\n",
    "var options = {\n",
    "    calendarId: 'Commands'\n",
    "};\n",
    "\n",
    "function scanCommandsEmail() {\n",
    "    return searchImap('*', 'megamind', 1, 'Megamind')\n",
    "        .then(messages => messages.flatten())\n",
    "        // get settings for each\n",
    "        .then(friends => {\n",
    "            const hasCommands = friends.map(f => Object.assign(f, {\n",
    "                command: (/megamind\\s*(.*)/ig).exec(f.subject)[1].trim()\n",
    "            })).filter(f => f.command.length > 0\n",
    "                       // filter out responses from my own INBOX so I can test this service myself\n",
    "                        && !f.body.match(/^\\s* Mm\\s*$/gm));\n",
    "            return importer.runAllPromises(hasCommands.map(f => resolve => {\n",
    "                return filterCommand(f.command, f.date, f.id, f.email)\n",
    "                    .then(props => resolve(Object.assign(f, props)));\n",
    "            }))\n",
    "        })\n",
    "        // generate and send responses\n",
    "        .then(friends => {\n",
    "            return importer.runAllPromises(friends.map(f => resolve => {\n",
    "                return storeResult(f)\n",
    "                    .then(response => sendEmail(\n",
    "                        f.email,\n",
    "                        JSON.stringify(response, null, 4) + '\\n Mm\\n',\n",
    "                        f.subject))\n",
    "                    .catch(e => console.log(e))\n",
    "                    .then(r => resolve(r))\n",
    "            }))\n",
    "        })\n",
    "        .catch(e => console.log(e))\n",
    "}\n",
    "module.exports = scanCommandsEmail;\n",
    "\n",
    "if(typeof $$ !== 'undefined') {\n",
    "    $$.async();\n",
    "    scanCommandsEmail()\n",
    "        .then(r => $$.sendResult(r))\n",
    "        .catch((e) => $$.sendError(e))\n",
    "}\n"
   ]
  },
  {
   "cell_type": "markdown",
   "metadata": {},
   "source": [
    "How to list the subjects from simple-imap messages?\n",
    "\n",
    "How to list the sender's email address from simple-imap messages?\n"
   ]
  },
  {
   "cell_type": "code",
   "execution_count": null,
   "metadata": {
    "collapsed": false,
    "inputHidden": false,
    "outputHidden": false
   },
   "outputs": [],
   "source": [
    "htmlPrint = '';\n",
    "messages.forEach(message => {\n",
    "    var header = message.parts.filter(function (part) {\n",
    "        return part.which.indexOf('HEADER') > -1;\n",
    "    });\n",
    "    var subject = header[0].body.subject[0];\n",
    "    var from = header[0].body.from[0];\n",
    "    htmlPrint += '<li>subject: ' + subject + ', from: ' + from + '</li>\\n';\n",
    "});\n",
    "$$.mime({'text/markdown': 'Usage:\\n\\n```html\\n' + htmlPrint + '\\n```\\nOuput:\\n'});\n",
    "\n"
   ]
  },
  {
   "cell_type": "markdown",
   "metadata": {},
   "source": [
    "How to extract a list of image attachments from an email?\n",
    "\n",
    "How do I extract attachments from {message}\n",
    "\n",
    "How to get attachments using simple-imap?\n",
    "\n",
    "How to get attachements from the last few {days}?\n",
    "\n",
    "How to get messages {from} and email address?\n",
    "\n"
   ]
  },
  {
   "cell_type": "code",
   "execution_count": null,
   "metadata": {
    "collapsed": false,
    "inputHidden": false,
    "outputHidden": false
   },
   "outputs": [],
   "source": [
    "$$.async();\n",
    "attachments = []\n",
    "Promise.all(messages.map(message => {\n",
    "    return Promise.all(imaps.getParts(message.attributes.struct)\n",
    "        .filter((part) => part.disposition && part.disposition.type === 'ATTACHMENT')\n",
    "        // retrieve the attachments only of the messages with attachments \n",
    "        .map((part) => connection.getPartData(message, part).then((partData) => ({\n",
    "            filename: part.disposition.params.filename,\n",
    "            data: partData\n",
    "        }))))\n",
    "        .then(a => attachments = attachments.concat(a));\n",
    "})).then((o) => $$.done(attachments)).catch(e => $$.done(e));"
   ]
  },
  {
   "cell_type": "markdown",
   "metadata": {
    "inputHidden": false,
    "outputHidden": false
   },
   "source": [
    "How to save an attachments from simple-imap?\n",
    "\n",
    "How to save a {file}?\n",
    "\n",
    "How to save binary {data}?\n",
    "\n",
    "How to {output} all attachments in the requested {format}?\n",
    "\n"
   ]
  },
  {
   "cell_type": "code",
   "execution_count": null,
   "metadata": {
    "collapsed": false,
    "inputHidden": false,
    "outputHidden": false
   },
   "outputs": [],
   "source": [
    "// TODO: convert the attachments to a virtual filesystem, lay it on top of the current app, run end-to-end tests\n",
    "if (!fs.existsSync(output)) {\n",
    "    fs.mkdirSync(output);\n",
    "}\n",
    "var result = attachments.map((attachment) => {\n",
    "    return new Promise((resolve, reject) => fs.writeFile(\n",
    "        path.join(output, attachment.filename),\n",
    "        attachment.data,\n",
    "        'binary',\n",
    "        function (err) {\n",
    "            if (err) reject(err);\n",
    "            else resolve(attachment);\n",
    "        }));\n",
    "});\n",
    "$$.async();\n",
    "Promise.all(result).then(images => {\n",
    "    html = '';\n",
    "    htmlPrint = '';\n",
    "    images.forEach((i) => {\n",
    "        var filename = i.filename.split('/').pop();\n",
    "        var ext = mime.lookup(i.filename);\n",
    "        html += '<img src=\"data:' + ext + ';base64,' + (new Buffer(i.data, 'binary')).toString('base64') + '\" />';\n",
    "        htmlPrint += '<li><img src=\"/assets/' + filename + '\" /></li>\\n';\n",
    "    });\n",
    "    $$.mime({'text/markdown': 'Usage:\\n\\n```html\\n' + htmlPrint + '\\n```\\nOutput:\\n' + html});\n",
    "}).catch(e => $$.done(e));\n",
    "\n"
   ]
  },
  {
   "cell_type": "markdown",
   "metadata": {},
   "source": [
    "send email?\n"
   ]
  },
  {
   "cell_type": "code",
   "execution_count": 2,
   "metadata": {},
   "outputs": [
    {
     "data": {
      "text/plain": [
       "[Function: sendEmail]"
      ]
     },
     "execution_count": 2,
     "metadata": {},
     "output_type": "execute_result"
    }
   ],
   "source": [
    "var nodemailer = require('nodemailer')\n",
    "var importer = require('../Core');\n",
    "var getCredentials = importer.import('decrypt passwords');\n",
    "\n",
    "var credentials = getCredentials('accounts.google.com');\n",
    "process.env.GOOGLE_USER = credentials.Email;\n",
    "process.env.GOOGLE_PASS = credentials.Passwd;\n",
    "\n",
    "function sendEmail(to, text, subject, from) {\n",
    "    // create reusable transporter object using the default SMTP transport\n",
    "    let transporter = nodemailer.createTransport({\n",
    "        host: 'smtp.gmail.com',\n",
    "        port: 465,\n",
    "        secure: true, // true for 465, false for other ports\n",
    "        auth: {\n",
    "            user: process.env.GOOGLE_USER, // generated ethereal user\n",
    "            pass: process.env.GOOGLE_PASS  // generated ethereal password\n",
    "        }\n",
    "    });\n",
    "\n",
    "    // setup email data with unicode symbols\n",
    "    let mailOptions = {\n",
    "        from: from, // sender address\n",
    "        to: to, // list of receivers\n",
    "        subject: subject, // Subject line\n",
    "        text: text, // plain text body\n",
    "        html: text // html body\n",
    "    };\n",
    "\n",
    "    // send mail with defined transport object\n",
    "    return new Promise((resolve, reject) => {\n",
    "        transporter.sendMail(mailOptions, (error, info) => {\n",
    "            if (error) {\n",
    "                return reject(error);\n",
    "            }\n",
    "            resolve(info.messageId);\n",
    "        });\n",
    "    });\n",
    "}\n",
    "module.exports = sendEmail;\n",
    "\n"
   ]
  },
  {
   "cell_type": "markdown",
   "metadata": {},
   "source": [
    "Append email to drafts\n"
   ]
  },
  {
   "cell_type": "code",
   "execution_count": null,
   "metadata": {},
   "outputs": [],
   "source": [
    "var imaps = require('imap-simple');\n",
    " \n",
    "var config = {\n",
    "    imap: {\n",
    "        user: 'your@email.address',\n",
    "        password: 'yourpassword',\n",
    "        host: 'imap.gmail.com',\n",
    "        port: 993,\n",
    "        tls: true,\n",
    "        authTimeout: 3000\n",
    "    }\n",
    "};\n",
    " \n",
    "imaps.connect(config).then(function (connection) {\n",
    "  const message = `Content-Type: text/plain\n",
    "To: jhannes@gmail.com\n",
    "Subject: Hello world\n",
    " \n",
    "Hi\n",
    "This is a test message\n",
    "`;\n",
    "  connection.append(message.toString(), {mailbox: 'Drafts', flags: '\\\\Draft'});\n",
    "});\n",
    "\n"
   ]
  }
 ],
 "metadata": {
  "kernel_info": {
   "name": "node_nteract"
  },
  "kernelspec": {
   "display_name": "Javascript (Node.js)",
   "language": "javascript",
   "name": "javascript"
  },
  "language_info": {
   "file_extension": ".js",
   "mimetype": "application/javascript",
   "name": "javascript",
   "version": "8.6.0"
  }
 },
 "nbformat": 4,
 "nbformat_minor": 4
}
