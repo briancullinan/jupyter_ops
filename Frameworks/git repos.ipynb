{
 "cells": [
  {
   "cell_type": "markdown",
   "metadata": {},
   "source": [
    "# What repositories do we need?\n",
    "\n",
    "* https://github.com/Swiftpage/act.ecommerce.git\n",
    "* https://github.com/Swiftpage/Selenium.git\n",
    "\n",
    "Act ecommerce repository?\n"
   ]
  },
  {
   "cell_type": "code",
   "execution_count": 2,
   "metadata": {
    "collapsed": false,
    "inputHidden": false,
    "outputHidden": false
   },
   "outputs": [
    {
     "name": "stdout",
     "output_type": "stream",
     "text": [
      "* Buy_funnel\n",
      "\n"
     ]
    },
    {
     "data": {
      "text/plain": [
       "'selenium-tests already exists'"
      ]
     },
     "execution_count": 2,
     "metadata": {},
     "output_type": "execute_result"
    }
   ],
   "source": [
    "mkdir -r act-selenium/act.ecommerce\n",
    "cd act-selenium/act.ecommerce\n",
    "git branch | grep 'Buy_funnel' &> /dev/null\n",
    "if [ $? != 0 ]; then\n",
    "   git clone -b Buy_funnel https://github.com/Swiftpage/act.ecommerce.git ./\n",
    "fi\n",
    "cd ../../\n"
   ]
  },
  {
   "cell_type": "markdown",
   "metadata": {},
   "source": [
    "Act selenium repository?"
   ]
  },
  {
   "cell_type": "code",
   "execution_count": 1,
   "metadata": {
    "collapsed": false,
    "inputHidden": false,
    "outputHidden": false
   },
   "outputs": [
    {
     "name": "stdout",
     "output_type": "stream",
     "text": [
      "* B-11243_Angular_Portal_POC\n",
      "\n"
     ]
    },
    {
     "data": {
      "text/plain": [
       "'selenium-tests already exists'"
      ]
     },
     "execution_count": 1,
     "metadata": {},
     "output_type": "execute_result"
    }
   ],
   "source": [
    "mkdir -r act-selenium/Selenium\n",
    "cd act-selenium/Selenium\n",
    "git branch | grep 'B-11243_Angular_Portal_POC' &> /dev/null\n",
    "if [ $? != 0 ]; then\n",
    "   git clone -b B-11243_Angular_Portal_POC https://github.com/Swiftpage/Selenium.git ./\n",
    "fi\n",
    "cd ../../\n"
   ]
  },
  {
   "cell_type": "markdown",
   "metadata": {},
   "source": [
    "Act identity repository?\n"
   ]
  },
  {
   "cell_type": "code",
   "execution_count": null,
   "metadata": {
    "collapsed": false,
    "inputHidden": false,
    "outputHidden": false
   },
   "outputs": [],
   "source": [
    "mkdir -p act.subscription.management ; if git --work-tree=./act.subscription.management branch | grep 'master'; then \\\n",
    "echo \\\"Already checked out subscriptions management\\\"; \\\n",
    "else \\\n",
    "git clone https://{username}@github.com/Swiftpage/act.subscription.management ./act.subscription.management ; \\\n",
    "fi ; ls -la act.subscription.management ; pwd\n"
   ]
  },
  {
   "cell_type": "markdown",
   "metadata": {},
   "source": [
    "Setup git credentials in docker?"
   ]
  },
  {
   "cell_type": "code",
   "execution_count": null,
   "metadata": {
    "collapsed": false,
    "inputHidden": false,
    "outputHidden": false
   },
   "outputs": [],
   "source": [
    "# Make ssh dir\n",
    "RUN mkdir /root/.ssh/\n",
    "\n",
    "# Copy over private key, and set permissions\n",
    "ADD id_rsa /root/.ssh/id_rsa\n",
    "\n",
    "# Create known_hosts\n",
    "RUN touch /root/.ssh/known_hosts\n"
   ]
  },
  {
   "cell_type": "markdown",
   "metadata": {},
   "source": [
    "How to use in Docker?"
   ]
  },
  {
   "cell_type": "code",
   "execution_count": null,
   "metadata": {
    "collapsed": false,
    "inputHidden": false,
    "outputHidden": false
   },
   "outputs": [],
   "source": [
    "COPY act.ecommerce /home/seluser/act.ecommerce\n",
    "COPY selenium /home/seluser/selenium\n",
    "\n",
    "WORKDIR /home/seluser/act.ecommerce\n",
    "RUN npm install\n",
    "RUN npm run build\n",
    "\n",
    "WORKDIR /home/seluser/selenium/ecommerce\n",
    "RUN npm install\n",
    "\n",
    "RUN sed -i '/wait \\\\$NODE_PID/inpm --prefix /home/seluser/selenium/ecommerce run static &' /opt/bin/entry_point.sh\n"
   ]
  },
  {
   "cell_type": "markdown",
   "metadata": {},
   "source": [
    "How to use npm cache inside of docker?"
   ]
  },
  {
   "cell_type": "code",
   "execution_count": 1,
   "metadata": {
    "collapsed": false,
    "inputHidden": false,
    "outputHidden": false
   },
   "outputs": [
    {
     "name": "stdout",
     "output_type": "stream",
     "text": [
      "bash: RUN: command not found\n",
      "bash: RUN: command not found\n",
      "bash: RUN: command not found\n",
      "bash: RUN: command not found\n"
     ]
    },
    {
     "ename": "",
     "evalue": "127",
     "output_type": "error",
     "traceback": []
    }
   ],
   "source": [
    "RUN npm config set proxy http://{host}:8050\n",
    "RUN npm config set proxy http://{host}:8050\n",
    "RUN npm config set registry http://{host}:5080\n",
    "RUN npm config set strict-ssl false\n"
   ]
  },
  {
   "cell_type": "markdown",
   "metadata": {},
   "source": [
    "How to run the Docker image?"
   ]
  },
  {
   "cell_type": "code",
   "execution_count": 1,
   "metadata": {
    "collapsed": false,
    "inputHidden": false,
    "outputHidden": false
   },
   "outputs": [
    {
     "name": "stdout",
     "output_type": "stream",
     "text": [
      "docker: Error response from daemon: Conflict. The container name \"/act-selenium\" is already in use by container ce7f89eaf4cce4586c556e0642f94c27d3fc25b5daec505c9398df7f74c0132c. You have to remove (or rename) that container to be able to reuse that name..\n",
      "See 'docker run --help'.\n",
      "CONTAINER ID        IMAGE               COMMAND                  CREATED             STATUS              PORTS                                                                                                                                            NAMES\n",
      "ce7f89eaf4cc        act-selenium        \"/opt/bin/entry_po...\"   46 hours ago        Up 46 hours         0.0.0.0:3000->3000/tcp, 0.0.0.0:4200->4200/tcp, 0.0.0.0:4444->4444/tcp, 0.0.0.0:5900->5900/tcp, 0.0.0.0:6080->6080/tcp, 0.0.0.0:8888->8888/tcp   act-selenium\n"
     ]
    }
   ],
   "source": [
    "docker run --shm-size=2g --name act-selenium -d -p 8888:8888 -p 6080:6080 -p 5900:5900 -p 4444:4444 -p 4200:4200 -p 3000:3000 act-selenium\n",
    "docker ps\n"
   ]
  },
  {
   "cell_type": "markdown",
   "metadata": {},
   "source": [
    "Selenium test scripts?"
   ]
  },
  {
   "cell_type": "code",
   "execution_count": null,
   "metadata": {
    "collapsed": false,
    "inputHidden": false,
    "outputHidden": false
   },
   "outputs": [],
   "source": [
    "docker exec -t act-selenium npm --prefix /home/seluser/selenium/ecommerce run test\n"
   ]
  }
 ],
 "metadata": {
  "kernel_info": {
   "name": "bash"
  },
  "kernelspec": {
   "display_name": "Bash",
   "language": "bash",
   "name": "bash"
  },
  "language_info": {
   "codemirror_mode": "shell",
   "file_extension": ".sh",
   "mimetype": "text/x-sh",
   "name": "bash"
  }
 },
 "nbformat": 4,
 "nbformat_minor": 4
}
