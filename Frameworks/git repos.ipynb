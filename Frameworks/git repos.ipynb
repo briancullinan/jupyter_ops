{
 "cells": [
  {
   "cell_type": "markdown",
   "source": [
    "# What repositories do we need?\n",
    "\n",
    "* https://github.com/Swiftpage/act.ecommerce.git\n",
    "* https://github.com/Swiftpage/Selenium.git\n",
    "\n",
    "Act ecommerce repository?\n"
   ],
   "metadata": {}
  },
  {
   "cell_type": "code",
   "source": [
    "mkdir - r\r",
    "act - selenium / act.ecommerce\r",
    "cd\r",
    "act - selenium / act.ecommerce\r",
    "git\r",
    "branch | grep\r",
    "'Buy_funnel' & > / dev / null\r",
    "if [$ ? != 0 ]\r",
    ";then\r",
    "git\r",
    "clone - b\r",
    "Buy_funnel\r",
    "https://github.com/Swiftpage/act.ecommerce.git ./\r",
    "    fi\r",
    "cd..\r",
    "/../"
   ],
   "outputs": [
    {
     "output_type": "stream",
     "name": "stdout",
     "text": [
      "* Buy_funnel\n",
      "\n"
     ]
    },
    {
     "output_type": "execute_result",
     "execution_count": 2,
     "data": {
      "text/plain": [
       "'selenium-tests already exists'"
      ]
     },
     "metadata": {}
    }
   ],
   "execution_count": 2,
   "metadata": {
    "collapsed": false,
    "outputHidden": false,
    "inputHidden": false
   }
  },
  {
   "cell_type": "markdown",
   "source": [
    "Act selenium repository?"
   ],
   "metadata": {}
  },
  {
   "cell_type": "code",
   "source": [
    "mkdir - r\r",
    "act - selenium / Selenium\r",
    "cd\r",
    "act - selenium / Selenium\r",
    "git\r",
    "branch | grep\r",
    "'B-11243_Angular_Portal_POC' & > / dev / null\r",
    "if [$ ? != 0 ]\r",
    ";then\r",
    "git\r",
    "clone - b\r",
    "B - 11243\r",
    "_Angular_Portal_POC\r",
    "https://github.com/Swiftpage/Selenium.git ./\r",
    "    fi\r",
    "cd..\r",
    "/../"
   ],
   "outputs": [
    {
     "output_type": "stream",
     "name": "stdout",
     "text": [
      "* B-11243_Angular_Portal_POC\n",
      "\n"
     ]
    },
    {
     "output_type": "execute_result",
     "execution_count": 1,
     "data": {
      "text/plain": [
       "'selenium-tests already exists'"
      ]
     },
     "metadata": {}
    }
   ],
   "execution_count": 1,
   "metadata": {
    "collapsed": false,
    "outputHidden": false,
    "inputHidden": false
   }
  },
  {
   "cell_type": "markdown",
   "source": [
    "Act identity repository?\n"
   ],
   "metadata": {}
  },
  {
   "cell_type": "code",
   "source": [
    "mkdir - p\r",
    "act.subscription.management;\r",
    "if git--work - tree =\r",
    ".\r",
    "/act.subscription.management branch | grep 'master'; then \\\r",
    "echo\r",
    "'Already checked out subscriptions management'; \\\r",
    "else \\\r",
    "git\r",
    "clone\r",
    "https://{username}@github.com/Swiftpage/act.subscription.management ./act.subscription.management ; \\\r",
    "    fi;\r",
    "ls - la\r",
    "act.subscription.management;\r",
    "pwd\r",
    ""
   ],
   "outputs": [],
   "execution_count": null,
   "metadata": {
    "collapsed": false,
    "outputHidden": false,
    "inputHidden": false
   }
  },
  {
   "cell_type": "markdown",
   "source": [
    "Setup git credentials in docker?"
   ],
   "metadata": {}
  },
  {
   "cell_type": "code",
   "source": [
    "# Make\r",
    "ssh\r",
    "dir\r",
    "RUN\r",
    "mkdir / root /\r",
    ".\r",
    "ssh /\r",
    "\r",
    "# Copy\r",
    "over\r",
    "private\r",
    "key, and\r",
    "set\r",
    "permissions\r",
    "ADD\r",
    "id_rsa / root /\r",
    ".\r",
    "ssh / id_rsa\r",
    "\r",
    "# Create\r",
    "known_hosts\r",
    "RUN\r",
    "touch / root /\r",
    ".\r",
    "ssh / known_hosts\r",
    "\r",
    ""
   ],
   "outputs": [],
   "execution_count": null,
   "metadata": {
    "collapsed": false,
    "outputHidden": false,
    "inputHidden": false
   }
  },
  {
   "cell_type": "markdown",
   "source": [
    "How to use in Docker?"
   ],
   "metadata": {}
  },
  {
   "cell_type": "code",
   "source": [
    "COPY\r",
    "act.ecommerce / home / seluser / act.ecommerce\r",
    "COPY\r",
    "selenium / home / seluser / selenium\r",
    "\r",
    "WORKDIR / home / seluser / act.ecommerce\r",
    "RUN\r",
    "npm\r",
    "install\r",
    "RUN\r",
    "npm\r",
    "run\r",
    "build\r",
    "\r",
    "WORKDIR / home / seluser / selenium / ecommerce\r",
    "RUN\r",
    "npm\r",
    "install\r",
    "\r",
    "RUN\r",
    "sed - i\r",
    "'/wait \\$NODE_PID/inpm --prefix /home/seluser/selenium/ecommerce run static &' / opt / bin / entry_point.sh\r",
    "\r",
    ""
   ],
   "outputs": [],
   "execution_count": null,
   "metadata": {
    "collapsed": false,
    "outputHidden": false,
    "inputHidden": false
   }
  },
  {
   "cell_type": "markdown",
   "source": [
    "How to use npm cache inside of docker?"
   ],
   "metadata": {}
  },
  {
   "cell_type": "code",
   "source": [
    "RUN\r",
    "npm\r",
    "config\r",
    "set\r",
    "proxy\r",
    "http://{host}:8050\r",
    "    RUN\r",
    "npm\r",
    "config\r",
    "set\r",
    "proxy\r",
    "http://{host}:8050\r",
    "    RUN\r",
    "npm\r",
    "config\r",
    "set\r",
    "registry\r",
    "http://{host}:5080\r",
    "    RUN\r",
    "npm\r",
    "config\r",
    "set\r",
    "strict - ssl\r",
    "false\r",
    "\r",
    ""
   ],
   "outputs": [
    {
     "output_type": "stream",
     "name": "stdout",
     "text": [
      "bash: RUN: command not found\n",
      "bash: RUN: command not found\n",
      "bash: RUN: command not found\n",
      "bash: RUN: command not found\n"
     ]
    },
    {
     "output_type": "error",
     "ename": "",
     "evalue": "127",
     "traceback": []
    }
   ],
   "execution_count": 1,
   "metadata": {
    "collapsed": false,
    "outputHidden": false,
    "inputHidden": false
   }
  },
  {
   "cell_type": "markdown",
   "source": [
    "How to run the Docker image?"
   ],
   "metadata": {}
  },
  {
   "cell_type": "code",
   "source": [
    "docker\r",
    "run--\r",
    "shm - size = 2\r",
    "g--\r",
    "name\r",
    "act - selenium - d - p\r",
    "8888\r",
    ":\r",
    "8888 - p\r",
    "6080\r",
    ":\r",
    "6080 - p\r",
    "5900\r",
    ":\r",
    "5900 - p\r",
    "4444\r",
    ":\r",
    "4444 - p\r",
    "4200\r",
    ":\r",
    "4200 - p\r",
    "3000\r",
    ":\r",
    "3000\r",
    "act - selenium\r",
    "docker\r",
    "ps\r",
    "\r",
    ""
   ],
   "outputs": [
    {
     "output_type": "stream",
     "name": "stdout",
     "text": [
      "docker: Error response from daemon: Conflict. The container name \"/act-selenium\" is already in use by container ce7f89eaf4cce4586c556e0642f94c27d3fc25b5daec505c9398df7f74c0132c. You have to remove (or rename) that container to be able to reuse that name..\n",
      "See 'docker run --help'.\n",
      "CONTAINER ID        IMAGE               COMMAND                  CREATED             STATUS              PORTS                                                                                                                                            NAMES\n",
      "ce7f89eaf4cc        act-selenium        \"/opt/bin/entry_po...\"   46 hours ago        Up 46 hours         0.0.0.0:3000->3000/tcp, 0.0.0.0:4200->4200/tcp, 0.0.0.0:4444->4444/tcp, 0.0.0.0:5900->5900/tcp, 0.0.0.0:6080->6080/tcp, 0.0.0.0:8888->8888/tcp   act-selenium\n"
     ]
    }
   ],
   "execution_count": 1,
   "metadata": {
    "collapsed": false,
    "outputHidden": false,
    "inputHidden": false
   }
  },
  {
   "cell_type": "markdown",
   "source": [
    "Selenium test scripts?"
   ],
   "metadata": {}
  },
  {
   "cell_type": "code",
   "source": [
    "docker\r",
    "exec - t\r",
    "act - selenium\r",
    "npm--\r",
    "prefix / home / seluser / selenium / ecommerce\r",
    "run\r",
    "test"
   ],
   "outputs": [],
   "execution_count": null,
   "metadata": {
    "collapsed": false,
    "outputHidden": false,
    "inputHidden": false
   }
  }
 ],
 "metadata": {
  "kernelspec": {
   "name": "bash",
   "language": "bash",
   "display_name": "Bash"
  },
  "kernel_info": {
   "name": "bash"
  },
  "language_info": {
   "name": "bash",
   "codemirror_mode": "shell",
   "mimetype": "text/x-sh",
   "file_extension": ".sh"
  }
 },
 "nbformat": 4,
 "nbformat_minor": 4
}