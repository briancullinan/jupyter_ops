{
 "cells": [
  {
   "cell_type": "markdown",
   "metadata": {},
   "source": [
    "heartbeat thump?\n"
   ]
  },
  {
   "cell_type": "code",
   "execution_count": null,
   "metadata": {},
   "outputs": [],
   "source": [
    "var fs = require('fs');\n",
    "var path = require('path');\n",
    "\n",
    "var CORE = path.resolve(path.join(__dirname, '../Core'));\n",
    "var NODE = fs.existsSync('/usr/local/bin/node') ? '/usr/local/bin/node' : '/usr/bin/node';\n",
    "\n",
    "function thump(thump, parameters, exit) {\n",
    "    var out = fs.openSync('/tmp/myjob.log', 'a');\n",
    "    var err = fs.openSync('/tmp/myjob.log', 'a');\n",
    "    console.log('executing ' + NODE + ' - ' + CORE + ' - ' + thump + ' - ' + JSON.stringify(parameters));\n",
    "    require('child_process').spawn(NODE, [\n",
    "        '-e',\n",
    "        'require(' + JSON.stringify(CORE) + ').import(\"' + thump + '\")(' + (parameters ? ('...' + JSON.stringify(parameters || [])) : '') + ').catch(e => console.log(e)).then(() => process.exit())'\n",
    "    ], {\n",
    "        detached: true,\n",
    "        stdio: [ 'ignore', out, err ]\n",
    "    }).unref();\n",
    "    if(exit !== false) {\n",
    "        if(typeof $$ !== 'undefined') {\n",
    "            return $$.done();\n",
    "        }\n",
    "        process.exit(0);\n",
    "    }\n",
    "}\n",
    "module.exports = thump;\n"
   ]
  },
  {
   "cell_type": "markdown",
   "metadata": {},
   "source": [
    "run todays heartbeat items?\n"
   ]
  },
  {
   "cell_type": "code",
   "execution_count": 17,
   "metadata": {},
   "outputs": [
    {
     "name": "stdout",
     "output_type": "stream",
     "text": [
      "reading notebook /Users/briancullinan/jupytangular2/Utilities/heartbeat.ipynb\n",
      "compiling /Users/briancullinan/jupytangular2/Utilities/heartbeat.ipynb[0]\n",
      "{ timeMin: '2018-01-04T07:00:00-00:00',\n",
      "  timeMax: '2018-01-05T07:00:00-00:00' }\n",
      "executing /usr/local/bin/node - /Users/briancullinan/jupytangular2/Core - screenshot all sessions\n",
      "executing /usr/local/bin/node - /Users/briancullinan/jupytangular2/Core - run todays calendar events \n",
      "executing /usr/local/bin/node - /Users/briancullinan/jupytangular2/Core - github updates \n"
     ]
    }
   ],
   "source": [
    "var importer = require('../Core');\n",
    "var {JSDOM} = require('jsdom');\n",
    "var {\n",
    "    getOauthClient,\n",
    "    getDaysEvents,\n",
    "    thump\n",
    "} = importer.import([\n",
    "    'days events',\n",
    "    'import google calendar api',\n",
    "    'heartbeat thump'\n",
    "]);\n",
    "\n",
    "var options = {\n",
    "    calendarId: 'aws'\n",
    "};\n",
    "\n",
    "// test Google calendar API?\n",
    "function runTodaysHeartbeat(calendar, exit) {\n",
    "    if(calendar) {\n",
    "        options.calendarId = calendar;\n",
    "    }\n",
    "    return (typeof options.auth === 'undefined'\n",
    "           ? getOauthClient(options)\n",
    "           : Promise.resolve([]))\n",
    "        .then(() => getDaysEvents(new Date(), options))\n",
    "        .then(r => {\n",
    "            const heartbeat = r.filter(r => r.event.summary === 'heartbeat'\n",
    "                                       || r.event.summary === 'todays heartbeat items');\n",
    "        \n",
    "            try {\n",
    "                var dom = new JSDOM('<body>' + (heartbeat[0].event.description || '').replace(/<br\\/?>/igm, '\\n') + '</body>');\n",
    "                const desc = dom.window.document.body.textContent.split('\\n');\n",
    "                desc.forEach(c => {\n",
    "                    if(c.trim().length > 0) {\n",
    "                        const parameters = (/[\\{].*[\\}]|[\\[].*[\\]]|(['\"]).*\\1/igm).exec(c) || ['\"\"'];\n",
    "                        thump(c.replace(parameters[0], ''), JSON.parse(parameters[0]), false);\n",
    "                    }\n",
    "                });\n",
    "            } catch ( e ) {\n",
    "                console.log(e);\n",
    "            }\n",
    "        \n",
    "            if(exit !== false) {\n",
    "                process.exit(0);\n",
    "            }\n",
    "        })\n",
    "}\n",
    "module.exports = runTodaysHeartbeat;\n",
    "\n",
    "if(typeof $$ !== 'undefined') {\n",
    "    $$.async();\n",
    "    runTodaysHeartbeat(false, false)\n",
    "        .then(r => $$.sendResult(r))\n",
    "        .then(e => $$.sendError(e))\n",
    "}\n"
   ]
  },
  {
   "cell_type": "code",
   "execution_count": null,
   "metadata": {},
   "outputs": [],
   "source": []
  }
 ],
 "metadata": {
  "kernelspec": {
   "display_name": "Javascript (Node.js)",
   "language": "javascript",
   "name": "javascript"
  },
  "language_info": {
   "file_extension": ".js",
   "mimetype": "application/javascript",
   "name": "javascript",
   "version": "8.6.0"
  }
 },
 "nbformat": 4,
 "nbformat_minor": 2
}
