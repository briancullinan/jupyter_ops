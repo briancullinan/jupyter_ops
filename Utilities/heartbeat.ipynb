{
 "cells": [
  {
   "cell_type": "markdown",
   "metadata": {},
   "source": [
    "heartbeat thump?\n"
   ]
  },
  {
   "cell_type": "code",
   "execution_count": null,
   "metadata": {},
   "outputs": [],
   "source": [
    "var fs = require('fs');\n",
    "\n",
    "function thump(thump) {\n",
    "    var out = fs.openSync('/tmp/myjob.log', 'a');\n",
    "    var err = fs.openSync('/tmp/myjob.log', 'a');\n",
    "\n",
    "    require('child_process').spawn('/usr/local/bin/node', [\n",
    "        '-e',\n",
    "        'require(\"/Users/briancullinan/jupytangular2/Core\").import(\"' + thump + '\")().catch(e => console.log(e)).then(() => process.exit())'\n",
    "    ], {\n",
    "        detached: true,\n",
    "        stdio: [ 'ignore', out, err ]\n",
    "    }).unref()\n",
    "    process.exit();\n",
    "}\n",
    "module.exports = thump;\n"
   ]
  }
 ],
 "metadata": {
  "kernelspec": {
   "display_name": "Javascript (Node.js)",
   "language": "javascript",
   "name": "javascript"
  },
  "language_info": {
   "file_extension": ".js",
   "mimetype": "application/javascript",
   "name": "javascript",
   "version": "8.6.0"
  }
 },
 "nbformat": 4,
 "nbformat_minor": 2
}
