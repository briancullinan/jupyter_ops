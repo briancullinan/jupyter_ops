{
 "cells": [
  {
   "cell_type": "markdown",
   "metadata": {},
   "source": [
    "# Functions to help schedule events\n",
    "\n",
    "how to space out purple event?\n",
    "\n",
    "\n"
   ]
  },
  {
   "cell_type": "code",
   "execution_count": null,
   "metadata": {},
   "outputs": [],
   "source": [
    "var importer = require('../Core');\n",
    "var google = require('googleapis');\n",
    "var calendar = google.calendar('v3');\n",
    "var {\n",
    "    ISODateString, correctCalendarId,\n",
    "    getOauthClient, getDaysEvents, d3Heatmap\n",
    "} = importer.import([\n",
    "    'convert date iso',\n",
    "    'lookup calendar name',\n",
    "    'import google calendar api',\n",
    "    'd3 calendar',\n",
    "    'get days events'\n",
    "])\n",
    "\n",
    "function googlePromise(func) {\n",
    "    return new Promise((resolve, reject) => func((err, response) => {\n",
    "        if (err) reject(err);\n",
    "        try {\n",
    "        } catch (e) {\n",
    "            reject(e);\n",
    "        }\n",
    "        setTimeout(() => resolve(response), 100);\n",
    "    })).catch(e => console.log(e));\n",
    "};\n",
    "\n",
    "var DAYS = 120; // plus or minus\n",
    "var options = {\n",
    "}\n",
    "          \n",
    "var now = new Date();\n",
    "function getPurple() {\n",
    "    const promises = Array.from(Array(Math.ceil(DAYS / 5)).keys()).map((acc, i) => {\n",
    "        const daysBeforeAfter = i - Math.ceil(DAYS / 5 / 2);\n",
    "        return resolve => Promise.all(Array.from(Array(5).keys()).map(day => {\n",
    "            const date = new Date(now);\n",
    "            date.setDate(date.getDate() + daysBeforeAfter * 5 + day);\n",
    "            return getDaysEvents(date, options);\n",
    "        }))\n",
    "            .then(r => {\n",
    "                setTimeout(() => resolve(r), 1500);\n",
    "            })\n",
    "    });\n",
    "    return importer.runAllPromises(promises)\n",
    "        .then(r => [].concat(...r))\n",
    "}\n",
    "module.exports = getPurple;\n",
    "\n",
    "if(typeof $$ !== 'undefined') {\n",
    "    $$.async();\n",
    "    getOauthClient(options)\n",
    "        .then(() => correctCalendarId(options))\n",
    "        .then(() => typeof global.listEvents === 'undefined' ? getPurple() : Promise.resolve(global.listEvents))\n",
    "        .then(r => {\n",
    "            global.listEvents = r;\n",
    "            return r.filter(e => e.event.colorId === '1');\n",
    "        })\n",
    "        .then(r => importer.runAllPromises(r.map((e, i) => {\n",
    "            // assuming I can only get 1 task done per day\n",
    "            const newTime = new Date(now);\n",
    "            newTime.setDate(newTime.getDate() + i);\n",
    "            newTime.setHours(12, 0, 0);\n",
    "            return googlePromise(\n",
    "                calendar.events.patch.bind(calendar.events, {\n",
    "                    eventId: e.event.id,\n",
    "                    calendarId: options.calendarId,\n",
    "                    auth: options.auth,\n",
    "                    resource: {\n",
    "                        start: { dateTime: new Date(newTime.getTime()) },\n",
    "                        end: { dateTime: new Date(newTime.getTime() + 120 * 60 * 1000) },\n",
    "                    }\n",
    "                })).then(r => new Promise(resolve => {\n",
    "                    setTimeout(() => resolve(r), 100);\n",
    "                }));\n",
    "            // TODO: skip dates using chrono description relative to each date\n",
    "            // TODO: skip overlap using study sauce algorithm\n",
    "            // TODO: skip boundaries using a new algorithm for defining inside and outside times\n",
    "        })))\n",
    "        .then(r => r.map((e, i) => ({\n",
    "            id: e.id,\n",
    "            start: new Date(e.start.dateTime),\n",
    "            end: new Date(e.end.dateTime),\n",
    "        })))\n",
    "        .then(r => d3Heatmap(r))\n",
    "        .then(r => $$.html(r))\n",
    "        .catch(e => $$.sendError(e))\n",
    "}\n",
    "\n"
   ]
  },
  {
   "cell_type": "markdown",
   "metadata": {},
   "source": [
    "how to schedule study time?\n",
    "\n",
    "how to schedule hours per event?\n",
    "\n",
    "generalize from study sauce v2\n"
   ]
  },
  {
   "cell_type": "code",
   "execution_count": null,
   "metadata": {},
   "outputs": [],
   "source": []
  },
  {
   "cell_type": "markdown",
   "metadata": {},
   "source": [
    "how to schedule inside outside of time bounds?\n",
    "\n"
   ]
  },
  {
   "cell_type": "code",
   "execution_count": null,
   "metadata": {},
   "outputs": [],
   "source": []
  },
  {
   "cell_type": "markdown",
   "metadata": {},
   "source": [
    "how to remove overlaps?\n",
    "\n",
    "how to remove overlaps from events with alloable wiggle room?\n",
    "\n"
   ]
  },
  {
   "cell_type": "code",
   "execution_count": null,
   "metadata": {},
   "outputs": [],
   "source": []
  },
  {
   "cell_type": "markdown",
   "metadata": {},
   "source": [
    "how to prioritize events based on glob summary?\n",
    "\n",
    "\n"
   ]
  },
  {
   "cell_type": "code",
   "execution_count": null,
   "metadata": {},
   "outputs": [],
   "source": []
  },
  {
   "cell_type": "markdown",
   "metadata": {},
   "source": [
    "calendar search heatmap?\n",
    "\n"
   ]
  },
  {
   "cell_type": "code",
   "execution_count": null,
   "metadata": {},
   "outputs": [],
   "source": [
    "var importer = require('../Core');\n",
    "var {\n",
    "    getOauthClient,\n",
    "    d3Heatmap,\n",
    "    listEvents,\n",
    "    correctCalendarId\n",
    "} = importer.import([\n",
    "    'import google calendar api',\n",
    "    'd3 calendar',\n",
    "    'list events',\n",
    "    'lookup calendar name',\n",
    "]);\n",
    "\n",
    "var options = {\n",
    "    \n",
    "}\n",
    "\n",
    "function calendarHeatmap(search, calendar) {\n",
    "    if(calendar) {\n",
    "        options.calendarId = calendar;\n",
    "    }\n",
    "    return getOauthClient(options)\n",
    "        .then(() => correctCalendarId(options))\n",
    "        .then(() => listEvents({\n",
    "            auth: options.auth,\n",
    "            calendarId: options.calendarId,\n",
    "            q: search\n",
    "        }))\n",
    "        .then(r => r.map((e, i) => ({\n",
    "            id: e.id,\n",
    "            start: new Date(e.event.start.dateTime),\n",
    "            end: new Date(e.event.end.dateTime),\n",
    "        })))\n",
    "        .then(r => d3Heatmap(r))\n",
    "}\n",
    "module.exports = calendarHeatmap;\n",
    "\n"
   ]
  }
 ],
 "metadata": {
  "kernelspec": {
   "display_name": "Javascript (Node.js)",
   "language": "javascript",
   "name": "javascript"
  },
  "language_info": {
   "file_extension": ".js",
   "mimetype": "application/javascript",
   "name": "javascript",
   "version": "8.6.0"
  }
 },
 "nbformat": 4,
 "nbformat_minor": 2
}
