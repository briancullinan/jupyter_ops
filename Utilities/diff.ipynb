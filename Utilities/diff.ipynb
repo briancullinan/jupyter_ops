{
 "cells": [
  {
   "cell_type": "markdown",
   "metadata": {},
   "source": [
    "Diff two blocks of code?"
   ]
  },
  {
   "cell_type": "code",
   "execution_count": 1,
   "metadata": {},
   "outputs": [
    {
     "ename": "ReferenceError",
     "evalue": "JsDiff is not defined",
     "execution_count": 1,
     "output_type": "error",
     "traceback": [
      "ReferenceError: JsDiff is not defined",
      "    at evalmachine.<anonymous>:3:12",
      "    at ContextifyScript.Script.runInThisContext (vm.js:23:33)",
      "    at Object.runInThisContext (vm.js:95:38)",
      "    at run ([eval]:617:19)",
      "    at onRunRequest ([eval]:388:22)",
      "    at onMessage ([eval]:356:17)",
      "    at emitTwo (events.js:106:13)",
      "    at process.emit (events.js:194:7)",
      "    at process.nextTick (internal/child_process.js:766:12)",
      "    at _combinedTickCallback (internal/process/next_tick.js:73:7)"
     ]
    }
   ],
   "source": [
    "// npm install diff --save\n",
    "\n",
    "var diff = JsDiff[window.diffType](a.textContent, b.textContent);\n",
    "var fragment = document.createDocumentFragment();\n",
    "for (var i=0; i < diff.length; i++) {\n",
    "\n",
    "    if (diff[i].added && diff[i + 1] && diff[i + 1].removed) {\n",
    "        var swap = diff[i];\n",
    "        diff[i] = diff[i + 1];\n",
    "        diff[i + 1] = swap;\n",
    "    }\n",
    "\n",
    "    var node;\n",
    "    if (diff[i].removed) {\n",
    "        node = document.createElement('del');\n",
    "        node.appendChild(document.createTextNode(diff[i].value));\n",
    "    } else if (diff[i].added) {\n",
    "        node = document.createElement('ins');\n",
    "        node.appendChild(document.createTextNode(diff[i].value));\n",
    "    } else {\n",
    "        node = document.createTextNode(diff[i].value);\n",
    "    }\n",
    "    fragment.appendChild(node);\n",
    "}\n",
    "\n",
    "result.textContent = '';\n",
    "result.appendChild(fragment);\n",
    "\n"
   ]
  },
  {
   "cell_type": "code",
   "execution_count": null,
   "metadata": {},
   "outputs": [],
   "source": []
  }
 ],
 "metadata": {
  "kernelspec": {
   "display_name": "Javascript (Node.js)",
   "language": "javascript",
   "name": "javascript"
  },
  "language_info": {
   "file_extension": ".js",
   "mimetype": "application/javascript",
   "name": "javascript",
   "version": "7.7.2"
  }
 },
 "nbformat": 4,
 "nbformat_minor": 2
}
