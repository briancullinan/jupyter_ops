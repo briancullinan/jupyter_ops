{
 "cells": [
  {
   "cell_type": "markdown",
   "metadata": {},
   "source": [
    "# wget commands\n",
    "\n",
    "https://simpleit.rocks/linux/how-to-download-a-website-with-wget-the-right-way/"
   ]
  },
  {
   "cell_type": "code",
   "execution_count": null,
   "metadata": {},
   "outputs": [],
   "source": [
    "wget --wait=2 \\\n",
    "     --level=inf \\\n",
    "\t --limit-rate=20K \\\n",
    "\t --recursive \\\n",
    "\t --page-requisites \\\n",
    "\t --user-agent=Mozilla \\\n",
    "\t --no-parent \\\n",
    "\t --convert-links \\\n",
    "\t --adjust-extension \\\n",
    "\t --no-clobber \\\n",
    "\t -e robots=off \\\n",
    "\t https://example.com\n",
    "     "
   ]
  },
  {
   "cell_type": "code",
   "execution_count": null,
   "metadata": {},
   "outputs": [],
   "source": [
    " wget --mirror --convert-links -nc -r http://www.truecombatelite.com/mapdepot/ -X /forums -X /files -X /images -X /gallery -X /nc -X /diane\n",
    " "
   ]
  },
  {
   "cell_type": "code",
   "execution_count": null,
   "metadata": {},
   "outputs": [],
   "source": [
    "wget --mirror --level=2 --no-parent --convert-links --html-extension --no-host --no-clobber -N -c --accept-regex \"/documentation/\" --wait=1 --page-requisites https://www.excessiveplus.net/documentation\n"
   ]
  },
  {
   "cell_type": "code",
   "execution_count": null,
   "metadata": {},
   "outputs": [],
   "source": []
  },
  {
   "cell_type": "code",
   "execution_count": null,
   "metadata": {},
   "outputs": [],
   "source": []
  }
 ],
 "metadata": {
  "kernelspec": {
   "display_name": "Bash",
   "language": "bash",
   "name": "bash"
  },
  "language_info": {
   "codemirror_mode": "shell",
   "file_extension": ".sh",
   "mimetype": "text/x-sh",
   "name": "bash"
  }
 },
 "nbformat": 4,
 "nbformat_minor": 4
}
