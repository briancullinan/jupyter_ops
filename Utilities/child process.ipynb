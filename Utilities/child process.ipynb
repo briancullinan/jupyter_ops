{
 "cells": [
  {
   "cell_type": "markdown",
   "metadata": {},
   "source": [
    "Spawning child processes?\n",
    "\n"
   ]
  },
  {
   "cell_type": "code",
   "execution_count": 1,
   "metadata": {
    "collapsed": false,
    "inputHidden": false,
    "outputHidden": false
   },
   "outputs": [
    {
     "data": {
      "text/plain": [
       "[Function: execCmd]"
      ]
     },
     "execution_count": 1,
     "metadata": {},
     "output_type": "execute_result"
    }
   ],
   "source": [
    "var {exec} = require('child_process');\n",
    "var path = require('path');\n",
    "// read cmd template and execute each line?\n",
    "var corePath = path.resolve(path.join(__dirname, '..', 'Core'));\n",
    "var importer = require(corePath);\n",
    "function bashToExec(code) {\n",
    "    return code.split(/\\s*(\\n\\s*)+/ig)\n",
    "    .map(l => '{EXEC} ' + l)\n",
    "    .join('\\n').replace(/\\\\\\s*\\n\\{EXEC\\}\\s*/ig, '\\\\\\n ');\n",
    "}\n",
    "\n",
    "function execCmd(script) {\n",
    "    // add some run commands to the bash script\n",
    "    return importer.runAllPromises(\n",
    "        bashToExec(script).split(/\\s*\\{EXEC\\}\\s*/ig)\n",
    "            .filter(r => r.trim() !== '')\n",
    "            .map(r => new Promise((resolve, reject) => {\n",
    "                const ps = exec(r,{maxBuffer: 1024 * 50000},  (err, result) => {\n",
    "                    if (err) {\n",
    "                        return resolve(err.toString());\n",
    "                    }\n",
    "                    resolve(result.toString());\n",
    "                });\n",
    "                ps.stderr.on('data', d => console.error(d));\n",
    "                ps.stdout.on('data', d => console.log(d));\n",
    "            })));\n",
    "};\n",
    "module.exports = execCmd;\n",
    "\r"
   ]
  },
  {
   "cell_type": "code",
   "execution_count": 2,
   "metadata": {
    "collapsed": false,
    "inputHidden": false,
    "outputHidden": false
   },
   "outputs": [
    {
     "name": "stdout",
     "output_type": "stream",
     "text": [
      "hit\n",
      "hit 2\n",
      "CONTAINER ID        IMAGE               COMMAND                  CREATED             STATUS                            PORTS                                                        \n",
      "                                                                                    NAMES\n",
      "29856ffcb274        dabf7613bfab        \"/opt/bin/entry_po...\"   4 days ago          Exited (255) About a minute ago   0.0.0.0:3000->3000/tcp, 0.0.0.0:4200->4200/tcp, 0.0.0.0:4444->4444/tcp, 0.0.0.0:5900->5900/tcp, 0.0.0.0:6080->6080/tcp, 0.0.0.0:8888->8888/tcp   act-selenium\n",
      "42c7ac46151a        44e7e4e5960d        \"/bin/sh -c 'RUN R...\"   4 days ago          Exited (127) 4 days ago                                                                                                                                                            elated_shannon\n",
      "51e2730b2519        44e7e4e5960d        \"/bin/sh -c 'RUN m...\"   4 days ago          Exited (127) 4 days ago                                                                                                                                                            ecstatic_pike\n",
      "497d1d1b6df9        44e7e4e5960d        \"/bin/sh -c 'RUN R...\"   4 days ago          Exited (127) 4 days ago                                                                                                                                                            keen_engelbart\n",
      "dfa766479072        44e7e4e5960d        \"/bin/sh -c 'RUN R...\"   4 days ago          Exited (127) 4 days ago                                                                                                                                                            fervent_mahavira\n",
      "84a76a26be04        44e7e4e5960d        \"/bin/sh -c 'RUN R...\"   4 days ago          Exited (127) 4 days ago                                                                                                                                                            serene_curie\n",
      "2ed2a8dc96b9        44e7e4e5960d        \"/bin/sh -c 'RUN R...\"   4 days ago          Exited (127) 4 days ago                                                                                                                                                            romantic_golick\n",
      "fd86765dccb1        44e7e4e5960d        \"/bin/sh -c 'RUN m...\"   4 days ago          Exited (127) 4 days ago                                                                                                                                                            distracted_cori\n",
      "eca0725a4419        44e7e4e5960d        \"/bin/sh -c 'RUN m...\"   4 days ago          Exited (127) 4 days ago                                                                                                                                                            wizardly_poitras\n",
      "f948a627e2c6        44e7e4e5960d        \"/bin/sh -c 'RUN R...\"   4 days ago          Exited (127) 4 days ago                                                                                                                                                            musing_hodgkin\n",
      "ccf3d247a4b5        44e7e4e5960d        \"/bin/sh -c 'RUN R...\"   4 days ago          Exited (127) 4 days ago                                                                                                                                                            friendly_noyce\n",
      "08113b5e2fc7        44e7e4e5960d        \"/bin/sh -c 'RUN m...\"   4 days ago          Exited (127) 4 days ago                                                                                                                                                            thirsty_boyd\n",
      "395b17314dad        44e7e4e5960d        \"/bin/sh -c 'RUN m...\"   4 days ago          Exited (127) 4 days ago                                                                                                                                                            blissful_leavitt\n",
      "056261c8b761        megamind/bots       \"supervisord -c /e...\"   7 weeks ago         Exited (255) 4 days ago           0.0.0.0:3690->3690/tcp, 0.0.0.0:8080->8080/tcp                                                                                                   robots\n",
      "19947728b443        mediaserver         \"/usr/bin/supervisord\"   8 weeks ago         Exited (0) 8 weeks ago                                                                                                                                                             mediaserver\n",
      "\n",
      "hit\n"
     ]
    },
    {
     "data": {
      "text/plain": [
       "[ 'CONTAINER ID        IMAGE               COMMAND                  CREATED             STATUS                            PORTS                                                                                                                                            NAMES\\n29856ffcb274        dabf7613bfab        \"/opt/bin/entry_po...\"   4 days ago          Exited (255) About a minute ago   0.0.0.0:3000->3000/tcp, 0.0.0.0:4200->4200/tcp, 0.0.0.0:4444->4444/tcp, 0.0.0.0:5900->5900/tcp, 0.0.0.0:6080->6080/tcp, 0.0.0.0:8888->8888/tcp   act-selenium\\n42c7ac46151a        44e7e4e5960d        \"/bin/sh -c \\'RUN R...\"   4 days ago          Exited (127) 4 days ago                                                                                                                                                            elated_shannon\\n51e2730b2519        44e7e4e5960d        \"/bin/sh -c \\'RUN m...\"   4 days ago          Exited (127) 4 days ago                                                                                                                                                            ecstatic_pike\\n497d1d1b6df9        44e7e4e5960d        \"/bin/sh -c \\'RUN R...\"   4 days ago          Exited (127) 4 days ago                                                                                                                                                            keen_engelbart\\ndfa766479072        44e7e4e5960d        \"/bin/sh -c \\'RUN R...\"   4 days ago          Exited (127) 4 days ago                                                                                                                                                            fervent_mahavira\\n84a76a26be04        44e7e4e5960d        \"/bin/sh -c \\'RUN R...\"   4 days ago          Exited (127) 4 days ago                                                                                                                                                            serene_curie\\n2ed2a8dc96b9        44e7e4e5960d        \"/bin/sh -c \\'RUN R...\"   4 days ago          Exited (127) 4 days ago                                                                                                                                                            romantic_golick\\nfd86765dccb1        44e7e4e5960d        \"/bin/sh -c \\'RUN m...\"   4 days ago          Exited (127) 4 days ago                                                                                                                                                            distracted_cori\\neca0725a4419        44e7e4e5960d        \"/bin/sh -c \\'RUN m...\"   4 days ago          Exited (127) 4 days ago                                                                                                                                                            wizardly_poitras\\nf948a627e2c6        44e7e4e5960d        \"/bin/sh -c \\'RUN R...\"   4 days ago          Exited (127) 4 days ago                                                                                                                                                            musing_hodgkin\\nccf3d247a4b5        44e7e4e5960d        \"/bin/sh -c \\'RUN R...\"   4 days ago          Exited (127) 4 days ago                                                                                                                                                            friendly_noyce\\n08113b5e2fc7        44e7e4e5960d        \"/bin/sh -c \\'RUN m...\"   4 days ago          Exited (127) 4 days ago                                                                                                                                                            thirsty_boyd\\n395b17314dad        44e7e4e5960d        \"/bin/sh -c \\'RUN m...\"   4 days ago          Exited (127) 4 days ago                                                                                                                                                            blissful_leavitt\\n056261c8b761        megamind/bots       \"supervisord -c /e...\"   7 weeks ago         Exited (255) 4 days ago           0.0.0.0:3690->3690/tcp, 0.0.0.0:8080->8080/tcp                                                                                                   robots\\n19947728b443        mediaserver         \"/usr/bin/supervisord\"   8 weeks ago         Exited (0) 8 weeks ago                                                                                                                                                             mediaserver\\n' ]"
      ]
     },
     "execution_count": 2,
     "metadata": {},
     "output_type": "execute_result"
    }
   ],
   "source": [
    "$$.async();\r",
    "\r",
    "execCmd(`docker ps -a`)\r",
    "    .then(r => $$.sendResult(r))\r",
    "    .catch(e => $$.sendError(e));\r",
    "\r"
   ]
  },
  {
   "cell_type": "code",
   "execution_count": null,
   "metadata": {
    "collapsed": false,
    "inputHidden": false,
    "outputHidden": false
   },
   "outputs": [],
   "source": []
  }
 ],
 "metadata": {
  "kernel_info": {
   "name": "node_nteract"
  },
  "kernelspec": {
   "display_name": "Javascript (Node.js)",
   "language": "javascript",
   "name": "javascript"
  },
  "language_info": {
   "file_extension": ".js",
   "mimetype": "application/javascript",
   "name": "javascript",
   "version": "8.8.1"
  }
 },
 "nbformat": 4,
 "nbformat_minor": 4
}
