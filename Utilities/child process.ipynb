{
 "cells": [
  {
   "cell_type": "markdown",
   "metadata": {},
   "source": [
    "Spawning child processes?\n",
    "\n"
   ]
  },
  {
   "cell_type": "code",
   "execution_count": 1,
   "metadata": {
    "collapsed": false,
    "inputHidden": false,
    "outputHidden": false
   },
   "outputs": [
    {
     "data": {
      "text/plain": [
       "[Function: execCmd]"
      ]
     },
     "execution_count": 1,
     "metadata": {},
     "output_type": "execute_result"
    }
   ],
   "source": [
    "var {exec} = require('child_process');\n",
    "var path = require('path');\r",
    "// read cmd template and execute each line?\r",
    "var corePath = path.resolve(path.join(__dirname, '..', 'Core'));\n",
    "var importer = require(corePath);\r\n",
    "var bashToExec = (code) => code.split(/\\s*(\\n\\s*)+/ig)\n",
    "    .map(l => '{EXEC} ' + l)\n",
    "    .join('\\n').replace(/\\\\\\s*\\n\\{EXEC\\}\\s*/ig, '\\\\\\n ');\n",
    "\r",
    "var execCmd = (script) => {\r",
    "    // add some run commands to the bash script\r",
    "    return importer.runAllPromises(\r",
    "        bashToExec(script).split(/\\s*\\{EXEC\\}\\s*/ig)\r",
    "            .filter(r => r.trim() !== '')\r",
    "            .map(r => new Promise((resolve, reject) => {\r",
    "                console.log('hit');\n",
    "                const ps = exec(r, (err, result) => {\n",
    "                    console.log('hit');\n",
    "                    if (err) {\r",
    "                        return resolve(err.toString());\r",
    "                    }\r",
    "                    resolve(result.toString());\r",
    "                });\n",
    "                ps.stderr.on('data', d => console.error(d));\n",
    "                ps.stdout.on('data', d => console.log(d));\n",
    "                console.log('hit 2');\n",
    "            })));\r",
    "};\r",
    "module.exports = execCmd;\r"
   ]
  },
  {
   "cell_type": "code",
   "execution_count": 2,
   "metadata": {
    "collapsed": false,
    "inputHidden": false,
    "outputHidden": false
   },
   "outputs": [
    {
     "name": "stdout",
     "output_type": "stream",
     "text": [
      "hit\n",
      "hit 2\n",
      "hit\n"
     ]
    },
    {
     "data": {
      "text/plain": [
       "[ 'Error: Command failed: docker ps -a\\n' ]"
      ]
     },
     "execution_count": 2,
     "metadata": {},
     "output_type": "execute_result"
    }
   ],
   "source": [
    "$$.async();\r",
    "\r",
    "execCmd(`docker ps -a`)\r",
    "    .then(r => $$.sendResult(r))\r",
    "    .catch(e => $$.sendError(e));\r",
    "\r"
   ]
  },
  {
   "cell_type": "code",
   "execution_count": null,
   "metadata": {
    "collapsed": false,
    "inputHidden": false,
    "outputHidden": false
   },
   "outputs": [],
   "source": []
  }
 ],
 "metadata": {
  "kernel_info": {
   "name": "node_nteract"
  },
  "kernelspec": {
   "display_name": "Javascript (Node.js)",
   "language": "javascript",
   "name": "javascript"
  },
  "language_info": {
   "file_extension": ".js",
   "mimetype": "application/javascript",
   "name": "javascript",
   "version": "8.6.0"
  }
 },
 "nbformat": 4,
 "nbformat_minor": 4
}
