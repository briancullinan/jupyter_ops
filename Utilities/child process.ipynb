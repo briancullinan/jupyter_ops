{
 "cells": [
  {
   "cell_type": "markdown",
   "metadata": {},
   "source": [
    "Spawning child processes?\n",
    "\n"
   ]
  },
  {
   "cell_type": "code",
   "execution_count": 2,
   "metadata": {
    "collapsed": false,
    "inputHidden": false,
    "outputHidden": false
   },
   "outputs": [
    {
     "data": {
      "text/plain": [
       "[Function: execCmd]"
      ]
     },
     "execution_count": 2,
     "metadata": {},
     "output_type": "execute_result"
    }
   ],
   "source": [
    "var exec = require('child_process').exec;\n",
    "// read cmd template and execute each line?\n",
    "var corePath = path.resolve(path.join(__dirname, '..', 'Core'));\n",
    "var importer = require(corePath);\n",
    "\n",
    "var execCmd = (script, vars = {}, options = {}) => {\n",
    "    // add some run commands to the bash script\n",
    "    var bashToExec = (code) => code.split(/\\s*(\\n\\s*)+/ig).map(l => '{EXEC} ' + l)\n",
    "        .join('\\n').replace(/\\\\\\s*\\n\\{EXEC\\}\\s*/ig, '\\\\\\n ');\n",
    "    \n",
    "    return importer.runAllPromises(\n",
    "        bashToExec(script).split(/\\s*\\{EXEC\\}\\s*/ig)\n",
    "        .filter(r => r.trim() !== '')\n",
    "        .map(r => new Promise((resolve, reject) => {\n",
    "            exec(r, (err, result) => {\n",
    "                if(err) {\n",
    "                    return resolve(err.toString());\n",
    "                }\n",
    "                resolve(result.toString());\n",
    "            });\n",
    "        })));\n",
    "};\n",
    "\n",
    "(execCmd);\n"
   ]
  },
  {
   "cell_type": "code",
   "execution_count": 3,
   "metadata": {
    "collapsed": false,
    "inputHidden": false,
    "outputHidden": false
   },
   "outputs": [
    {
     "data": {
      "text/plain": [
       "[ 'CONTAINER ID        IMAGE               COMMAND             CREATED             STATUS              PORTS               NAMES\\n' ]"
      ]
     },
     "execution_count": 3,
     "metadata": {},
     "output_type": "execute_result"
    }
   ],
   "source": [
    "$$.async();\n",
    "\n",
    "execCmd(`docker ps -a`)\n",
    "    .then(r => $$.sendResult(r))\n",
    "    .catch(e => $$.sendError(e));\n",
    "\n"
   ]
  },
  {
   "cell_type": "code",
   "execution_count": null,
   "metadata": {
    "collapsed": false,
    "inputHidden": false,
    "outputHidden": false
   },
   "outputs": [],
   "source": []
  }
 ],
 "metadata": {
  "kernel_info": {
   "name": "node_nteract"
  },
  "kernelspec": {
   "display_name": "Javascript (Node.js)",
   "language": "javascript",
   "name": "javascript"
  },
  "language_info": {
   "file_extension": ".js",
   "mimetype": "application/javascript",
   "name": "javascript",
   "version": "7.7.2"
  }
 },
 "nbformat": 4,
 "nbformat_minor": 4
}
