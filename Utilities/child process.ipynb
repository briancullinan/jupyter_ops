{
 "cells": [
  {
   "cell_type": "markdown",
   "metadata": {},
   "source": [
    "Spawning child processes?\n",
    "\n"
   ]
  },
  {
   "cell_type": "code",
   "execution_count": 2,
   "metadata": {
    "collapsed": false,
    "inputHidden": false,
    "outputHidden": false
   },
   "outputs": [
    {
     "data": {
      "text/plain": [
       "[Function: execCmd]"
      ]
     },
     "execution_count": 2,
     "metadata": {},
     "output_type": "execute_result"
    }
   ],
   "source": [
    "var exec = require('child_process').exec;\n",
    "var path = require('path');\r",
    "// read cmd template and execute each line?\r",
    "var corePath = path.resolve(path.join(__dirname, '..', 'Core'));\n",
    "var importer = require(corePath);\r",
    "\r",
    "var execCmd = (script, vars = {}, options = {}) => {\r",
    "    // add some run commands to the bash script\r",
    "    var bashToExec = (code) => code.split(/\\s*(\\n\\s*)+/ig)\r",
    "        .map(l => '{EXEC} ' + l)\r",
    "        .join('\\n').replace(/\\\\\\s*\\n\\{EXEC\\}\\s*/ig, '\\\\\\n ');\r",
    "\r",
    "    return importer.runAllPromises(\r",
    "        bashToExec(script).split(/\\s*\\{EXEC\\}\\s*/ig)\r",
    "            .filter(r => r.trim() !== '')\r",
    "            .map(r => new Promise((resolve, reject) => {\r",
    "                exec(r, options, (err, result) => {\n",
    "                    if (err) {\r",
    "                        return resolve(err.toString());\r",
    "                    }\r",
    "                    resolve(result.toString());\r",
    "                });\r",
    "            })));\r",
    "};\r",
    "module.exports = execCmd;\r"
   ]
  },
  {
   "cell_type": "code",
   "execution_count": 3,
   "metadata": {
    "collapsed": false,
    "inputHidden": false,
    "outputHidden": false
   },
   "outputs": [
    {
     "data": {
      "text/plain": [
       "[ 'CONTAINER ID        IMAGE               COMMAND             CREATED             STATUS              PORTS               NAMES\\n' ]"
      ]
     },
     "execution_count": 3,
     "metadata": {},
     "output_type": "execute_result"
    }
   ],
   "source": [
    "$$.async();\r",
    "\r",
    "execCmd(`docker ps -a`)\r",
    "    .then(r => $$.sendResult(r))\r",
    "    .catch(e => $$.sendError(e));\r",
    "\r"
   ]
  },
  {
   "cell_type": "code",
   "execution_count": null,
   "metadata": {
    "collapsed": false,
    "inputHidden": false,
    "outputHidden": false
   },
   "outputs": [],
   "source": []
  }
 ],
 "metadata": {
  "kernel_info": {
   "name": "node_nteract"
  },
  "kernelspec": {
   "display_name": "Javascript (Node.js)",
   "language": "javascript",
   "name": "javascript"
  },
  "language_info": {
   "file_extension": ".js",
   "mimetype": "application/javascript",
   "name": "javascript",
   "version": "8.6.0"
  }
 },
 "nbformat": 4,
 "nbformat_minor": 4
}
