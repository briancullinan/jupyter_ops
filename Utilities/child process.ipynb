{
  "cells": [
    {
      "cell_type": "markdown",
      "source": [
        "What are some common use-cases for spawning child processes?\n",
        "\n"
      ],
      "metadata": {}
    },
    {
      "cell_type": "code",
      "source": [
        "var exec = require('child_process').exec;\n",
        "// read cmd template and execute each line?\n",
        "var corePath = path.resolve(path.join(__dirname, '..', 'Core'));\n",
        "var importer = require(corePath);\n",
        "\n",
        "var execCmd = (script, vars = {}, options = {}) => {\n",
        "    // add some run commands to the bash script\n",
        "    var bashToExec = (code) => code.split(/\\s*(\\n\\s*)+/ig).map(l => '{EXEC} ' + l)\n",
        "        .join('\\n').replace(/\\\\\\s*\\n\\{EXEC\\}\\s*/ig, '\\\\\\n ');\n",
        "    \n",
        "    return importer.runAllPromises(\n",
        "        bashToExec(script).split(/\\s*\\{EXEC\\}\\s*/ig)\n",
        "        .filter(r => r.trim() !== '')\n",
        "        .map(r => new Promise((resolve, reject) => {\n",
        "            exec(r, (err, result) => {\n",
        "                if(err) {\n",
        "                    return resolve(err.toString());\n",
        "                }\n",
        "                resolve(result.toString());\n",
        "            });\n",
        "        })));\n",
        "};\n",
        "\n",
        "(execCmd);\n"
      ],
      "outputs": [
        {
          "output_type": "execute_result",
          "execution_count": 2,
          "data": {
            "text/plain": [
              "[Function: execCmd]"
            ]
          },
          "metadata": {}
        }
      ],
      "execution_count": 2,
      "metadata": {
        "collapsed": false,
        "outputHidden": false,
        "inputHidden": false
      }
    },
    {
      "cell_type": "code",
      "source": [
        "$$.async();\n",
        "\n",
        "execCmd(`docker ps -a`)\n",
        "    .then(r => $$.sendResult(r))\n",
        "    .catch(e => $$.sendError(e));\n",
        "\n"
      ],
      "outputs": [
        {
          "output_type": "execute_result",
          "execution_count": 3,
          "data": {
            "text/plain": [
              "[ 'CONTAINER ID        IMAGE               COMMAND             CREATED             STATUS              PORTS               NAMES\\n' ]"
            ]
          },
          "metadata": {}
        }
      ],
      "execution_count": 3,
      "metadata": {
        "collapsed": false,
        "outputHidden": false,
        "inputHidden": false
      }
    },
    {
      "cell_type": "code",
      "source": [],
      "outputs": [],
      "execution_count": null,
      "metadata": {
        "collapsed": false,
        "outputHidden": false,
        "inputHidden": false
      }
    }
  ],
  "metadata": {
    "kernelspec": {
      "name": "node_nteract",
      "language": "javascript",
      "display_name": "Node.js (nteract)"
    },
    "kernel_info": {
      "name": "node_nteract"
    },
    "language_info": {
      "name": "javascript",
      "version": "6.5.0",
      "mimetype": "application/javascript",
      "file_extension": ".js"
    }
  },
  "nbformat": 4,
  "nbformat_minor": 4
}