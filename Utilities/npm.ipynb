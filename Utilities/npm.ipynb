{
  "cells": [
    {
      "cell_type": "markdown",
      "source": [
        "Replace package.json latest with actual latest version numbers?\n",
        "\n"
      ],
      "metadata": {}
    },
    {
      "cell_type": "code",
      "source": [
        "var fs = require('fs');\n",
        "var path = require('path');\n",
        "var cwd = 'C:\\\\Users\\\\brian.cullinan\\\\Documents\\\\portal\\\\';\n",
        "var execSync = require('child_process').execSync;\n",
        "var packages = execSync('npm list --dev', {cwd: cwd}).toString().split('\\n');\n",
        "var packageJson = JSON.parse(fs.readFileSync(path.join(cwd, 'package.json')));\n",
        "var deps = Object.keys(packageJson.dependencies);\n",
        "deps.forEach((d, k) => {\n",
        "    packages.forEach((p, i) => {\n",
        "        if(p.indexOf(d + '@') > -1) {\n",
        "            packageJson.dependencies[d] = '~' + p.split('@').pop().replace(' deduped', '');\n",
        "        }\n",
        "    });\n",
        "});\n",
        "console.log(packages);\n",
        "var devDeps = Object.keys(packageJson.devDependencies);\n",
        "devDeps.forEach((d, k) => {\n",
        "    packages.forEach((p, i) => {\n",
        "        if(p.indexOf(d + '@') > -1) {\n",
        "            packageJson.devDependencies[d] = '~' + p.split('@').pop().replace(' deduped', '');\n",
        "        }\n",
        "    });\n",
        "});\n",
        "$$.mime({'text/html': '<pre>' + JSON.stringify(packageJson, null, 4) + '</pre>'});\n"
      ],
      "outputs": [],
      "execution_count": null,
      "metadata": {
        "collapsed": false,
        "outputHidden": false,
        "inputHidden": false
      }
    },
    {
      "cell_type": "markdown",
      "source": [
        "Check if there is a local-npm server running on Brian's machine?\n",
        "\n"
      ],
      "metadata": {}
    },
    {
      "cell_type": "code",
      "source": [
        "\n",
        "http.get('http://SCO-100001269.ad.swiftpage.com:5080', (r) => {\n",
        "    if (r.statusCode === 200) {\n",
        "        console.log('local-npm found!');\n",
        "    }\n",
        "}).on('error', (e) => {\n",
        "});\n",
        "\n"
      ],
      "outputs": [],
      "execution_count": null,
      "metadata": {
        "collapsed": false,
        "outputHidden": false,
        "inputHidden": false
      }
    }
  ],
  "metadata": {
    "kernelspec": {
      "name": "node_nteract",
      "language": "javascript",
      "display_name": "Node.js (nteract)"
    },
    "kernel_info": {
      "name": "node_nteract"
    },
    "language_info": {
      "name": "javascript",
      "version": "6.5.0",
      "mimetype": "application/javascript",
      "file_extension": ".js"
    }
  },
  "nbformat": 4,
  "nbformat_minor": 4
}