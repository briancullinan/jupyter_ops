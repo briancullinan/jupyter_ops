{
 "cells": [
  {
   "cell_type": "markdown",
   "metadata": {},
   "source": [
    "Replace package.json latest with actual latest version numbers?\n",
    "\n"
   ]
  },
  {
   "cell_type": "code",
   "execution_count": null,
   "metadata": {
    "collapsed": false,
    "inputHidden": false,
    "outputHidden": false
   },
   "outputs": [],
   "source": [
    "var fs = require('fs');\r",
    "var path = require('path');\r",
    "var cwd = 'C:\\\\Users\\\\brian.cullinan\\\\Documents\\\\portal\\\\';\r",
    "var execSync = require('child_process').execSync;\r",
    "var packages = execSync('npm list --dev', {cwd: cwd}).toString().split('\\n');\r",
    "var packageJson = JSON.parse(fs.readFileSync(path.join(cwd, 'package.json')));\r",
    "var deps = Object.keys(packageJson.dependencies);\r",
    "deps.forEach((d, k) => {\r",
    "    packages.forEach((p, i) => {\r",
    "        if (p.indexOf(d + '@') > -1) {\r",
    "            packageJson.dependencies[d] = '~' + p.split('@').pop().replace(' deduped', '');\r",
    "        }\r",
    "    });\r",
    "});\r",
    "console.log(packages);\r",
    "var devDeps = Object.keys(packageJson.devDependencies);\r",
    "devDeps.forEach((d, k) => {\r",
    "    packages.forEach((p, i) => {\r",
    "        if (p.indexOf(d + '@') > -1) {\r",
    "            packageJson.devDependencies[d] = '~' + p.split('@').pop().replace(' deduped', '');\r",
    "        }\r",
    "    });\r",
    "});\r",
    "$$.mime({'text/html': '<pre>' + JSON.stringify(packageJson, null, 4) + '</pre>'});\r",
    ""
   ]
  },
  {
   "cell_type": "markdown",
   "metadata": {},
   "source": [
    "Check if there is a local-npm server running on Brian's machine?\n",
    "\n"
   ]
  },
  {
   "cell_type": "code",
   "execution_count": null,
   "metadata": {
    "collapsed": false,
    "inputHidden": false,
    "outputHidden": false
   },
   "outputs": [],
   "source": [
    "var http = require('http');\r",
    "var os = require('os');\r",
    "var checkLocalNPM = (host) => {\r",
    "    var HOST = host || os.hostname() || 'localhost';\r",
    "    return http.get(\r",
    "        'http://' + HOST + ':5080',\r",
    "        (r) => r.statusCode === 200)\r",
    "        .on('error', (e) => false);\r",
    "};\r",
    "(checkLocalNPM);\r",
    ""
   ]
  },
  {
   "cell_type": "markdown",
   "metadata": {},
   "source": [
    "Run NPM in javscript with in-memory file-system?\n",
    "\n"
   ]
  },
  {
   "cell_type": "code",
   "execution_count": 1,
   "metadata": {
    "collapsed": false,
    "inputHidden": false,
    "outputHidden": false
   },
   "outputs": [
    {
     "data": {
      "text/plain": [
       "[Function: npm]"
      ]
     },
     "execution_count": 1,
     "metadata": {},
     "output_type": "execute_result"
    }
   ],
   "source": [
    "var execSync = require('child_process').execSync;\r",
    "try {\r",
    "    require.resolve('npm');\r",
    "} catch (e) {\r",
    "    execSync('npm install npm');\r",
    "}\r",
    "\r",
    "var npm = (project, args, conf) => {\r",
    "    var previous = process.cwd();\r",
    "    process.chdir(project);\r",
    "    return importer\r",
    "        .import('memory-fs rewire')\r",
    "        .then(r => {\r",
    "            // set up project path\r",
    "            return new Promise((resolve, reject) => {\r",
    "                //if(typeof mockTypescriptFs == 'undefined') {\r",
    "                //    mockTypescriptFs = eval(\"'use strict';\" + r[0].code);\r",
    "                // overlay out temp filesystem on top of current filesystem\r",
    "                //    mockTypescriptFs(project, data);\r",
    "                //}\r",
    "\r",
    "                var cli = require('npm');\r",
    "                cli.load(conf, (err) => {\r",
    "                    // handle errors\r",
    "                    if (err) {\r",
    "                        return reject(err);\r",
    "                    }\r",
    "\r",
    "                    // install module\r",
    "                    cli.commands[args[0]](args.slice(1), (er, data) => {\r",
    "                        if (er) {\r",
    "                            return reject(er);\r",
    "                        }\r",
    "                        // log errors or data\r",
    "                        resolve(data);\r",
    "                    });\r",
    "\r",
    "                    cli.on('log', (message) => {\r",
    "                        // log installation progress\r",
    "                        console.log(message);\r",
    "                    });\r",
    "                });\r",
    "            });\r",
    "        })\r",
    "        .then((r => {\r",
    "            process.chdir(previous);\r",
    "\r",
    "            return r;\r",
    "        }));\r",
    "};\r",
    "module.exports = npm;\r",
    ""
   ]
  },
  {
   "cell_type": "code",
   "execution_count": null,
   "metadata": {
    "collapsed": false,
    "inputHidden": false,
    "outputHidden": false
   },
   "outputs": [],
   "source": [
    ""
   ]
  }
 ],
 "metadata": {
  "kernel_info": {
   "name": "node_nteract"
  },
  "kernelspec": {
   "display_name": "Javascript (Node.js)",
   "language": "javascript",
   "name": "javascript"
  },
  "language_info": {
   "file_extension": ".js",
   "mimetype": "application/javascript",
   "name": "javascript",
   "version": "7.7.2"
  }
 },
 "nbformat": 4,
 "nbformat_minor": 4
}