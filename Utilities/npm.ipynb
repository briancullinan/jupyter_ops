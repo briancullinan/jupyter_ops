{
 "cells": [
  {
   "cell_type": "markdown",
   "metadata": {},
   "source": [
    "Replace package.json latest with actual latest version numbers?\n",
    "\n"
   ]
  },
  {
   "cell_type": "code",
   "execution_count": null,
   "metadata": {
    "collapsed": false,
    "inputHidden": false,
    "outputHidden": false
   },
   "outputs": [],
   "source": [
    "var fs = require('fs');\n",
    "var path = require('path');\n",
    "var cwd = 'C:\\\\Users\\\\brian.cullinan\\\\Documents\\\\portal\\\\';\n",
    "var execSync = require('child_process').execSync;\n",
    "var packages = execSync('npm list --dev', {cwd: cwd}).toString().split('\\n');\n",
    "var packageJson = JSON.parse(fs.readFileSync(path.join(cwd, 'package.json')));\n",
    "var deps = Object.keys(packageJson.dependencies);\n",
    "deps.forEach((d, k) => {\n",
    "    packages.forEach((p, i) => {\n",
    "        if(p.indexOf(d + '@') > -1) {\n",
    "            packageJson.dependencies[d] = '~' + p.split('@').pop().replace(' deduped', '');\n",
    "        }\n",
    "    });\n",
    "});\n",
    "console.log(packages);\n",
    "var devDeps = Object.keys(packageJson.devDependencies);\n",
    "devDeps.forEach((d, k) => {\n",
    "    packages.forEach((p, i) => {\n",
    "        if(p.indexOf(d + '@') > -1) {\n",
    "            packageJson.devDependencies[d] = '~' + p.split('@').pop().replace(' deduped', '');\n",
    "        }\n",
    "    });\n",
    "});\n",
    "$$.mime({'text/html': '<pre>' + JSON.stringify(packageJson, null, 4) + '</pre>'});\n"
   ]
  },
  {
   "cell_type": "markdown",
   "metadata": {},
   "source": [
    "Check if there is a local-npm server running on Brian's machine?\n",
    "\n"
   ]
  },
  {
   "cell_type": "code",
   "execution_count": null,
   "metadata": {
    "collapsed": false,
    "inputHidden": false,
    "outputHidden": false
   },
   "outputs": [],
   "source": [
    "var http = require('http');\n",
    "var os = require('os');\n",
    "var checkLocalNPM = (host) => {\n",
    "    var HOST = host || os.hostname() || 'localhost';\n",
    "    return http.get('http://' + HOST + ':5080', \n",
    "                    (r) => r.statusCode === 200)\n",
    "        .on('error', (e) => false);\n",
    "};\n",
    "(checkLocalNPM);\n"
   ]
  },
  {
   "cell_type": "markdown",
   "metadata": {},
   "source": [
    "Run NPM in javscript with in-memory file-system?\n",
    "\n"
   ]
  },
  {
   "cell_type": "code",
   "execution_count": 1,
   "metadata": {
    "collapsed": false,
    "inputHidden": false,
    "outputHidden": false
   },
   "outputs": [
    {
     "data": {
      "text/plain": [
       "[Function: npm]"
      ]
     },
     "execution_count": 1,
     "metadata": {},
     "output_type": "execute_result"
    }
   ],
   "source": [
    "var execSync = require('child_process').execSync;\n",
    "try {\n",
    "    require.resolve('npm');\n",
    "} catch (e) {\n",
    "    execSync('npm install npm');\n",
    "}\n",
    "\n",
    "var npm = (project, args, conf) => {\n",
    "    var previous = process.cwd();\n",
    "    process.chdir(project);\n",
    "    return importer\n",
    "        .interpretAll('memory-fs rewire')\n",
    "        .then(r => {\n",
    "        // set up project path\n",
    "        return new Promise((resolve, reject) => {\n",
    "            //if(typeof mockTypescriptFs == 'undefined') {\n",
    "            //    mockTypescriptFs = eval(\"'use strict';\" + r[0].code);\n",
    "                // overlay out temp filesystem on top of current filesystem\n",
    "            //    mockTypescriptFs(project, data);\n",
    "            //}\n",
    "            \n",
    "            var cli = require('npm');\n",
    "            cli.load(conf, (err) => {\n",
    "                // handle errors\n",
    "                if(err) {\n",
    "                    return reject(err);\n",
    "                }\n",
    "\n",
    "                // install module\n",
    "                cli.commands[args[0]](args.slice(1), (er, data) => {\n",
    "                    if(er) {\n",
    "                        return reject(er);\n",
    "                    }\n",
    "                    // log errors or data\n",
    "                    resolve(data);\n",
    "                });\n",
    "\n",
    "                cli.on('log', (message) => {\n",
    "                    // log installation progress\n",
    "                    console.log(message);\n",
    "                });\n",
    "            });\n",
    "        });\n",
    "    })\n",
    "    .then((r => {\n",
    "        process.chdir(previous);\n",
    "\n",
    "        return r;\n",
    "    }));\n",
    "};\n",
    "(npm);\n"
   ]
  },
  {
   "cell_type": "code",
   "execution_count": null,
   "metadata": {
    "collapsed": false,
    "inputHidden": false,
    "outputHidden": false
   },
   "outputs": [],
   "source": []
  }
 ],
 "metadata": {
  "kernel_info": {
   "name": "node_nteract"
  },
  "kernelspec": {
   "display_name": "Javascript (Node.js)",
   "language": "javascript",
   "name": "javascript"
  },
  "language_info": {
   "file_extension": ".js",
   "mimetype": "application/javascript",
   "name": "javascript",
   "version": "7.7.2"
  }
 },
 "nbformat": 4,
 "nbformat_minor": 4
}
