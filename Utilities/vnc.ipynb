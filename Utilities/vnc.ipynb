{
 "cells": [
  {
   "cell_type": "markdown",
   "metadata": {},
   "source": [
    "# What is VNC?\n",
    "\n",
    "VNC is a remote desktop and screen sharing service."
   ]
  },
  {
   "cell_type": "code",
   "execution_count": null,
   "metadata": {
    "collapsed": false,
    "inputHidden": false,
    "outputHidden": false
   },
   "outputs": [],
   "source": [
    "fluxbox -display :0\n",
    "x11vnc -forever -nopw -shared -rfbport -ncache 5900 -display :0\n",
    "\n"
   ]
  },
  {
   "cell_type": "markdown",
   "metadata": {},
   "source": [
    "Finally, run this middle-ware for the html5 client\n"
   ]
  },
  {
   "cell_type": "code",
   "execution_count": null,
   "metadata": {
    "collapsed": false,
    "inputHidden": false,
    "outputHidden": false
   },
   "outputs": [],
   "source": [
    "../novnc/utils/launch.sh --vnc localhost:5900\n"
   ]
  },
  {
   "cell_type": "markdown",
   "metadata": {},
   "source": [
    "VNC HTML client?\n",
    "\n",
    "* https://github.com/novnc/noVNC.git\n"
   ]
  },
  {
   "cell_type": "code",
   "execution_count": 17,
   "metadata": {
    "collapsed": false,
    "inputHidden": false,
    "outputHidden": false
   },
   "outputs": [],
   "source": [
    "mkdir -p novnc ; if git --work-tree=./novnc branch | grep master; then \\\n",
    "echo \"Already checked out novnc\"; \\\n",
    "else \\\n",
    "git clone https://github.com/novnc/noVNC.git ./novnc ; \\\n",
    "fi ; ls -la novnc ; pwd\n"
   ]
  },
  {
   "cell_type": "markdown",
   "metadata": {},
   "source": [
    "Use vnc with live-server?"
   ]
  },
  {
   "cell_type": "code",
   "execution_count": 15,
   "metadata": {
    "collapsed": false,
    "inputHidden": false,
    "outputHidden": false
   },
   "outputs": [],
   "source": [
    "npm i -g live-server\n",
    "live-server novnc\n"
   ]
  },
  {
   "cell_type": "markdown",
   "metadata": {},
   "source": [
    "VNC in Docker?\n",
    "\n",
    "Selenium Docker configured x11vnx and Xvfb for us!\n"
   ]
  },
  {
   "cell_type": "code",
   "execution_count": null,
   "metadata": {
    "collapsed": false,
    "inputHidden": false,
    "outputHidden": false
   },
   "outputs": [],
   "source": [
    "\n",
    "RUN dos2unix /home/seluser/novnc/utils/launch.sh\n",
    "RUN sed -i -e 's/export GEOMETRY.*/export GEOMETRY=\"8160x6120x24\"/g' /opt/bin/entry_point.sh\n",
    "RUN sed -i -e 's/x11vnc/x11vnc -scale 2700x2048 -noxdamage/g' /opt/bin/entry_point.sh\n",
    "RUN sed -i '/wait \\$NODE_PID/i/home/seluser/novnc/utils/launch.sh --vnc localhost:5900 &' /opt/bin/entry_point.sh\n",
    "USER seluser\n"
   ]
  },
  {
   "cell_type": "code",
   "execution_count": null,
   "metadata": {},
   "outputs": [],
   "source": [
    "echo \"deb http://archive.ubuntu.com/ubuntu xenial main restricted universe multiverse \\n\" > /etc/apt/sources.list \\\n",
    "  && echo \"deb http://archive.ubuntu.com/ubuntu xenial-updates main restricted universe multiverse \\n\" >> /etc/apt/sources.list \\\n",
    "  && echo \"deb http://security.ubuntu.com/ubuntu xenial-security main restricted universe multiverse \\n\" >> /etc/apt/sources.list \\\n",
    "  && apt-get -qqy update \\\n",
    "  && apt-get -qqy --no-install-recommends install \\\n",
    "    bzip2 \\\n",
    "    ca-certificates \\\n",
    "    openjdk-8-jre-headless \\\n",
    "    tzdata \\\n",
    "    sudo \\\n",
    "    unzip \\\n",
    "    wget \\\n",
    "    x11vnc \\\n",
    "    locales \\\n",
    "    xvfb \\\n",
    "  && echo \"UTC\" > /etc/timezone \\\n",
    "  && dpkg-reconfigure --frontend noninteractive tzdata \\\n",
    "  && useradd seluser \\\n",
    "         --shell /bin/bash  \\\n",
    "         --create-home \\\n",
    "  && usermod -a -G sudo seluser \\\n",
    "  && echo 'ALL ALL = (ALL) NOPASSWD: ALL' >> /etc/sudoers \\\n",
    "  && echo 'seluser:secret' | chpasswd \\\n",
    "  && sudo mkdir -p /opt/selenium \\\n",
    "  && sudo chown seluser:seluser /opt/selenium \\\n",
    "  && wget --no-verbose https://selenium-release.storage.googleapis.com/3.8/selenium-server-standalone-3.8.1.jar \\\n",
    "    -O /opt/selenium/selenium-server-standalone.jar \\\n",
    "  && wget -q -O - https://dl-ssl.google.com/linux/linux_signing_key.pub | apt-key add - \\\n",
    "  && echo \"deb http://dl.google.com/linux/chrome/deb/ stable main\" >> /etc/apt/sources.list.d/google-chrome.list \\\n",
    "  && apt-get update -qqy \\\n",
    "  && apt-get -qqy install \\\n",
    "    google-chrome-stable \\\n",
    "  && CD_VERSION=$(wget -qO- https://chromedriver.storage.googleapis.com/LATEST_RELEASE) \\\n",
    "  && echo \"Using chromedriver version: \"$CD_VERSION \\\n",
    "  && wget --no-verbose -O /tmp/chromedriver_linux64.zip https://chromedriver.storage.googleapis.com/$CD_VERSION/chromedriver_linux64.zip \\\n",
    "  && rm -rf /opt/selenium/chromedriver \\\n",
    "  && unzip /tmp/chromedriver_linux64.zip -d /opt/selenium \\\n",
    "  && rm /tmp/chromedriver_linux64.zip \\\n",
    "  && mv /opt/selenium/chromedriver /opt/selenium/chromedriver-$CD_VERSION \\\n",
    "  && chmod 755 /opt/selenium/chromedriver-$CD_VERSION \\\n",
    "  && ln -fs /opt/selenium/chromedriver-$CD_VERSION /usr/bin/chromedriver \\\n",
    "  && locale-gen en_US.UTF-8 \\\n",
    "  && dpkg-reconfigure --frontend noninteractive locales \\\n",
    "  && apt-get update -qqy \\\n",
    "  && apt-get -qqy --no-install-recommends install \\\n",
    "    language-pack-en \\\n",
    "    fonts-ipafont-gothic \\\n",
    "    xfonts-100dpi \\\n",
    "    xfonts-75dpi \\\n",
    "    xfonts-cyrillic \\\n",
    "    xfonts-scalable \\\n",
    "    fluxbox \\\n",
    "  && curl -sL https://deb.nodesource.com/setup_9.x | sudo -E bash - \\\n",
    "  && apt-get update -qqy \\\n",
    "  && apt-get -qqy install \\\n",
    "    nodejs \\\n",
    "    build-essential \\\n",
    "  && cd ~ \\\n",
    "  && git clone https://megamindbrian@bitbucket.org/megamindbrian/jupyter_ops.git ./jupytangular \\\n",
    "  && cd ~/jupytangular \\\n",
    "  && npm run install:aws\n"
   ]
  },
  {
   "cell_type": "code",
   "execution_count": null,
   "metadata": {},
   "outputs": [],
   "source": [
    "vnc entry point?\n"
   ]
  },
  {
   "cell_type": "code",
   "execution_count": null,
   "metadata": {},
   "outputs": [],
   "source": [
    "#!/bin/bash\n",
    "#\n",
    "# IMPORTANT: Change this file only in directory StandaloneDebug!\n",
    "\n",
    "function shutdown {\n",
    "  kill -s SIGTERM $NODE_PID\n",
    "  wait $NODE_PID\n",
    "}\n",
    "\n",
    "if [ ! -z \"$SE_OPTS\" ]; then\n",
    "  echo \"appending selenium options: ${SE_OPTS}\"\n",
    "fi\n",
    "\n",
    "rm -f /tmp/.X*lock\n",
    "\n",
    "export DISPLAY=:99 \\\n",
    "  xvfb-run -n 99 --server-args=\"-screen 0 8160x6120x24 -ac +extension RANDR\" \\\n",
    "  java -Dwebdriver.chrome.chromedriver=/opt/selenium/chromedriver-* -jar /opt/selenium/selenium-server-standalone.jar  &\n",
    "NODE_PID=$!\n",
    "\n",
    "trap shutdown SIGTERM SIGINT\n",
    "for i in $(seq 1 10)\n",
    "do\n",
    "  xdpyinfo -display $DISPLAY >/dev/null 2>&1\n",
    "  if [ $? -eq 0 ]; then\n",
    "    break\n",
    "  fi\n",
    "  echo Waiting xvfb...\n",
    "  sleep 0.5\n",
    "done\n",
    "\n",
    "fluxbox -display $DISPLAY &\n",
    "\n",
    "x11vnc -scale 2700x2048 -noxdamage -forever -nopw -shared -rfbport 5900 -display $DISPLAY &\n",
    "\n",
    "wait $NODE_PID\n"
   ]
  },
  {
   "cell_type": "markdown",
   "metadata": {},
   "source": []
  },
  {
   "cell_type": "code",
   "execution_count": null,
   "metadata": {},
   "outputs": [],
   "source": []
  },
  {
   "cell_type": "code",
   "execution_count": null,
   "metadata": {},
   "outputs": [],
   "source": []
  }
 ],
 "metadata": {
  "kernel_info": {
   "name": "bash"
  },
  "kernelspec": {
   "display_name": "Bash",
   "language": "bash",
   "name": "bash"
  },
  "language_info": {
   "codemirror_mode": "shell",
   "file_extension": ".sh",
   "mimetype": "text/x-sh",
   "name": "bash"
  }
 },
 "nbformat": 4,
 "nbformat_minor": 4
}
