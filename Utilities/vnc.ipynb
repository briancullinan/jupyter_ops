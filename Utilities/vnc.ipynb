{
 "cells": [
  {
   "cell_type": "markdown",
   "metadata": {},
   "source": [
    "# What is VNC?\n",
    "\n",
    "VNC is a remote desktop and screen sharing service."
   ]
  },
  {
   "cell_type": "code",
   "execution_count": null,
   "metadata": {
    "collapsed": false,
    "inputHidden": false,
    "outputHidden": false
   },
   "outputs": [],
   "source": [
    "fluxbox -display :0\n",
    "x11vnc -forever -nopw -shared -rfbport -ncache 5900 -display :0\n",
    "\n"
   ]
  },
  {
   "cell_type": "markdown",
   "metadata": {},
   "source": [
    "Finally, run this middle-ware for the html5 client\n"
   ]
  },
  {
   "cell_type": "code",
   "execution_count": null,
   "metadata": {
    "collapsed": false,
    "inputHidden": false,
    "outputHidden": false
   },
   "outputs": [],
   "source": [
    "../novnc/utils/launch.sh --vnc localhost:5900\n"
   ]
  },
  {
   "cell_type": "markdown",
   "metadata": {},
   "source": [
    "VNC HTML client?\n",
    "\n",
    "* https://github.com/novnc/noVNC.git\n"
   ]
  },
  {
   "cell_type": "code",
   "execution_count": 17,
   "metadata": {
    "collapsed": false,
    "inputHidden": false,
    "outputHidden": false
   },
   "outputs": [],
   "source": [
    "mkdir -p novnc ; if git --work-tree=./novnc branch | grep 'master'; then \\\n",
    "echo \"Already checked out novnc\"; \\\n",
    "else \\\n",
    "git clone https://github.com/novnc/noVNC.git ./novnc ; \\\n",
    "fi ; ls -la novnc ; pwd\n"
   ]
  },
  {
   "cell_type": "markdown",
   "metadata": {},
   "source": [
    "Use vnc with live-server?"
   ]
  },
  {
   "cell_type": "code",
   "execution_count": 15,
   "metadata": {
    "collapsed": false,
    "inputHidden": false,
    "outputHidden": false
   },
   "outputs": [],
   "source": [
    "npm i -g live-server\n",
    "live-server novnc\n"
   ]
  },
  {
   "cell_type": "markdown",
   "metadata": {},
   "source": [
    "Use VNC in Docker?\n",
    "\n",
    "Selenium Docker configured x11vnx and Xvfb for us!\n"
   ]
  },
  {
   "cell_type": "code",
   "execution_count": null,
   "metadata": {
    "collapsed": false,
    "inputHidden": false,
    "outputHidden": false
   },
   "outputs": [],
   "source": [
    "\n",
    "RUN dos2unix /home/seluser/novnc/utils/launch.sh\n",
    "RUN sed -i -e 's/export GEOMETRY.*/export GEOMETRY=\"8160x6120x24\"/g' /opt/bin/entry_point.sh\n",
    "RUN sed -i -e 's/x11vnc/x11vnc -noxdamage/g' /opt/bin/entry_point.sh\n",
    "RUN sed -i '/wait \\$NODE_PID/i/home/seluser/novnc/utils/launch.sh --vnc localhost:5900 &' /opt/bin/entry_point.sh\n",
    "USER seluser\n"
   ]
  }
 ],
 "metadata": {
  "kernel_info": {
   "name": "bash"
  },
  "kernelspec": {
   "display_name": "Bash",
   "language": "bash",
   "name": "bash"
  },
  "language_info": {
   "codemirror_mode": "shell",
   "file_extension": ".sh",
   "mimetype": "text/x-sh",
   "name": "bash"
  }
 },
 "nbformat": 4,
 "nbformat_minor": 4
}
