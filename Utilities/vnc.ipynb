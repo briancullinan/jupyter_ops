{
 "cells": [
  {
   "cell_type": "markdown",
   "metadata": {},
   "source": [
    "# What is VNC?\n",
    "\n",
    "VNC is a remote desktop and screen sharing service."
   ]
  },
  {
   "cell_type": "code",
   "execution_count": null,
   "metadata": {
    "collapsed": false,
    "inputHidden": false,
    "outputHidden": false
   },
   "outputs": [],
   "source": [
    "fluxbox - display\r",
    ":\r",
    "0\r",
    "x11vnc - forever - nopw - shared - rfbport - ncache\r",
    "5900 - display\r",
    ":\r",
    "0\r",
    "\r",
    ""
   ]
  },
  {
   "cell_type": "markdown",
   "metadata": {},
   "source": [
    "Finally, run this middle-ware for the html5 client\n"
   ]
  },
  {
   "cell_type": "code",
   "execution_count": null,
   "metadata": {
    "collapsed": false,
    "inputHidden": false,
    "outputHidden": false
   },
   "outputs": [],
   "source": [
    "..\r",
    "/novnc/u\r",
    "tils / launch.sh--\r",
    "vnc\r",
    "localhost:5900\r",
    ""
   ]
  },
  {
   "cell_type": "markdown",
   "metadata": {},
   "source": [
    "VNC HTML client?\n",
    "\n",
    "* https://github.com/novnc/noVNC.git\n"
   ]
  },
  {
   "cell_type": "code",
   "execution_count": 17,
   "metadata": {
    "collapsed": false,
    "inputHidden": false,
    "outputHidden": false
   },
   "outputs": [],
   "source": [
    "mkdir - p\r",
    "novnc;\r",
    "if git--work - tree =\r",
    ".\r",
    "/novnc branch | grep 'master'; then \\\r",
    "echo\r",
    "'Already checked out novnc'; \\\r",
    "else \\\r",
    "git\r",
    "clone\r",
    "https://github.com/novnc/noVNC.git ./novnc ; \\\r",
    "    fi;\r",
    "ls - la\r",
    "novnc;\r",
    "pwd\r",
    ""
   ]
  },
  {
   "cell_type": "markdown",
   "metadata": {},
   "source": [
    "Use vnc with live-server?"
   ]
  },
  {
   "cell_type": "code",
   "execution_count": 15,
   "metadata": {
    "collapsed": false,
    "inputHidden": false,
    "outputHidden": false
   },
   "outputs": [],
   "source": [
    "npm\r",
    "i - g\r",
    "live - server\r",
    "live - server\r",
    "novnc\r",
    ""
   ]
  },
  {
   "cell_type": "markdown",
   "metadata": {},
   "source": [
    "Use VNC in Docker?\n",
    "\n",
    "Selenium Docker configured x11vnx and Xvfb for us!\n"
   ]
  },
  {
   "cell_type": "code",
   "execution_count": null,
   "metadata": {
    "collapsed": false,
    "inputHidden": false,
    "outputHidden": false
   },
   "outputs": [],
   "source": [
    "RUN\r",
    "dos2unix / home / seluser / novnc / utils / launch.sh\r",
    "RUN\r",
    "sed - i - e\r",
    "'s/x11vnc/x11vnc -noxdamage/g' / opt / bin / entry_point.sh\r",
    "RUN\r",
    "sed - i\r",
    "'/wait \\$NODE_PID/i/home/seluser/novnc/utils/launch.sh --vnc localhost:5900 &' / opt / bin / entry_point.sh\r",
    "USER\r",
    "seluser\r",
    ""
   ]
  }
 ],
 "metadata": {
  "kernel_info": {
   "name": "bash"
  },
  "kernelspec": {
   "display_name": "Bash",
   "language": "bash",
   "name": "bash"
  },
  "language_info": {
   "codemirror_mode": "shell",
   "file_extension": ".sh",
   "mimetype": "text/x-sh",
   "name": "bash"
  }
 },
 "nbformat": 4,
 "nbformat_minor": 4
}