{
 "cells": [
  {
   "cell_type": "markdown",
   "metadata": {},
   "source": [
    "Find the levenshtein distance?\n",
    "\n"
   ]
  },
  {
   "cell_type": "code",
   "execution_count": null,
   "metadata": {},
   "outputs": [],
   "source": [
    "function levDist(s, t) {\n",
    "    var d = []; //2d matrix\n",
    "\n",
    "    // Step 1\n",
    "    var n = s.length;\n",
    "    var m = t.length;\n",
    "\n",
    "    if (n == 0) return m;\n",
    "    if (m == 0) return n;\n",
    "\n",
    "    //Create an array of arrays in javascript (a descending loop is quicker)\n",
    "    for (var i = n; i >= 0; i--) d[i] = [];\n",
    "\n",
    "    // Step 2\n",
    "    for (var i = n; i >= 0; i--) d[i][0] = i;\n",
    "    for (var j = m; j >= 0; j--) d[0][j] = j;\n",
    "\n",
    "    // Step 3\n",
    "    for (var i = 1; i <= n; i++) {\n",
    "        var s_i = s.charAt(i - 1);\n",
    "\n",
    "        // Step 4\n",
    "        for (var j = 1; j <= m; j++) {\n",
    "\n",
    "            //Check the jagged ld total so far\n",
    "            if (i == j && d[i][j] > 4) return n;\n",
    "\n",
    "            var t_j = t.charAt(j - 1);\n",
    "            var cost = (s_i == t_j) ? 0 : 1; // Step 5\n",
    "\n",
    "            //Calculate the minimum\n",
    "            var mi = d[i - 1][j] + 1;\n",
    "            var b = d[i][j - 1] + 1;\n",
    "            var c = d[i - 1][j - 1] + cost;\n",
    "\n",
    "            if (b < mi) mi = b;\n",
    "            if (c < mi) mi = c;\n",
    "\n",
    "            d[i][j] = mi; // Step 6\n",
    "\n",
    "            //Damerau transposition\n",
    "            if (i > 1 && j > 1 && s_i == t.charAt(j - 2) && s.charAt(i - 2) == t_j) {\n",
    "                d[i][j] = Math.min(d[i][j], d[i - 2][j - 2] + cost);\n",
    "            }\n",
    "        }\n",
    "    }\n",
    "\n",
    "    // Step 7\n",
    "    return d[n][m];\n",
    "}\n",
    "module.exports = levDist;\n",
    "levDist;\n",
    "\n"
   ]
  },
  {
   "cell_type": "markdown",
   "metadata": {},
   "source": [
    "Sort by levenshtein distance?\n",
    "\n"
   ]
  },
  {
   "cell_type": "code",
   "execution_count": 1,
   "metadata": {},
   "outputs": [],
   "source": [
    "function levSort(arr, search, getStr) {\n",
    "    var result = arr.map(function (a) {\n",
    "        return a;\n",
    "    });\n",
    "    result.sort(function (a, b) {\n",
    "        return levDist(getStr(a), search) - levDist(getStr(b), search);\n",
    "    });\n",
    "    return result;\n",
    "}\n",
    "module.exports = levSort;\n",
    "levSort;\n"
   ]
  },
  {
   "cell_type": "code",
   "execution_count": null,
   "metadata": {},
   "outputs": [],
   "source": [
    "\n"
   ]
  }
 ],
 "metadata": {
  "kernelspec": {
   "display_name": "Javascript (Node.js)",
   "language": "javascript",
   "name": "javascript"
  },
  "language_info": {
   "file_extension": ".js",
   "mimetype": "application/javascript",
   "name": "javascript",
   "version": "8.8.1"
  }
 },
 "nbformat": 4,
 "nbformat_minor": 2
}
