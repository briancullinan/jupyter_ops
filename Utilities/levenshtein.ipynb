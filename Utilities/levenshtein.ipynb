{
 "cells": [
  {
   "cell_type": "markdown",
   "metadata": {},
   "source": [
    "Find the levenshtein distance?\n",
    "\n"
   ]
  },
  {
   "cell_type": "code",
   "execution_count": null,
   "metadata": {},
   "outputs": [],
   "source": [
    "var levDist = (s, t) => {\r",
    "    var d = []; //2d matrix\r",
    "\r",
    "    // Step 1\r",
    "    var n = s.length;\r",
    "    var m = t.length;\r",
    "\r",
    "    if (n == 0) return m;\r",
    "    if (m == 0) return n;\r",
    "\r",
    "    //Create an array of arrays in javascript (a descending loop is quicker)\r",
    "    for (var i = n; i >= 0; i--) d[i] = [];\r",
    "\r",
    "    // Step 2\r",
    "    for (var i = n; i >= 0; i--) d[i][0] = i;\r",
    "    for (var j = m; j >= 0; j--) d[0][j] = j;\r",
    "\r",
    "    // Step 3\r",
    "    for (var i = 1; i <= n; i++) {\r",
    "        var s_i = s.charAt(i - 1);\r",
    "\r",
    "        // Step 4\r",
    "        for (var j = 1; j <= m; j++) {\r",
    "\r",
    "            //Check the jagged ld total so far\r",
    "            if (i == j && d[i][j] > 4) return n;\r",
    "\r",
    "            var t_j = t.charAt(j - 1);\r",
    "            var cost = (s_i == t_j) ? 0 : 1; // Step 5\r",
    "\r",
    "            //Calculate the minimum\r",
    "            var mi = d[i - 1][j] + 1;\r",
    "            var b = d[i][j - 1] + 1;\r",
    "            var c = d[i - 1][j - 1] + cost;\r",
    "\r",
    "            if (b < mi) mi = b;\r",
    "            if (c < mi) mi = c;\r",
    "\r",
    "            d[i][j] = mi; // Step 6\r",
    "\r",
    "            //Damerau transposition\r",
    "            if (i > 1 && j > 1 && s_i == t.charAt(j - 2) && s.charAt(i - 2) == t_j) {\r",
    "                d[i][j] = Math.min(d[i][j], d[i - 2][j - 2] + cost);\r",
    "            }\r",
    "        }\r",
    "    }\r",
    "\r",
    "    // Step 7\r",
    "    return d[n][m];\r",
    "}\r",
    "module.exports = levDist;\r",
    "levDist;\r",
    "\r",
    ""
   ]
  },
  {
   "cell_type": "markdown",
   "metadata": {},
   "source": [
    "Sort by levenshtein distance?\n",
    "\n"
   ]
  },
  {
   "cell_type": "code",
   "execution_count": 1,
   "metadata": {},
   "outputs": [],
   "source": [
    "var levSort = (arr, search, getStr) => {\r",
    "    var result = arr.map(function (a) {\r",
    "        return a;\r",
    "    });\r",
    "    result.sort(function (a, b) {\r",
    "        return levDist(getStr(a), search) - levDist(getStr(b), search);\r",
    "    });\r",
    "    return result;\r",
    "}\r",
    "module.exports = levSort;\r",
    "levSort;\r",
    ""
   ]
  },
  {
   "cell_type": "code",
   "execution_count": null,
   "metadata": {},
   "outputs": [],
   "source": [
    "\r",
    ""
   ]
  }
 ],
 "metadata": {
  "kernelspec": {
   "display_name": "Javascript (Node.js)",
   "language": "javascript",
   "name": "javascript"
  },
  "language_info": {
   "file_extension": ".js",
   "mimetype": "application/javascript",
   "name": "javascript",
   "version": "7.7.2"
  }
 },
 "nbformat": 4,
 "nbformat_minor": 2
}