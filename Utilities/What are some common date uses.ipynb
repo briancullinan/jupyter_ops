{
  "cells": [
    {
      "cell_type": "markdown",
      "source": [
        "How to find Tuesdays late in the month?"
      ],
      "metadata": {
        "collapsed": false,
        "outputHidden": false,
        "inputHidden": false
      }
    },
    {
      "cell_type": "code",
      "source": [
        "function getTuesdays(month, year) {\n",
        "    var d = new Date(year, month, 1),\n",
        "        tuesdays = [];\n",
        "\n",
        "    d.setDate(d.getDate() + (9 - d.getDay()) % 7)\n",
        "    while (d.getMonth() === month) {\n",
        "        tuesdays.push(new Date(d.getTime()));\n",
        "        d.setDate(d.getDate() + 7);\n",
        "    }\n",
        "\n",
        "    return tuesdays;\n",
        "}\n",
        "\n",
        "var month = (new Date()).getMonth();\n",
        "var results = [];\n",
        "for(var m = month; month <= 12; month++) {\n",
        "    results = results.concat(getTuesdays(month, 2017).filter((d) => d.getDate() > 25));\n",
        "}\n",
        "console.log(results.map(d => d.getDate() + '/' + (d.getMonth()+1)).join('\\r\\n'))"
      ],
      "outputs": [],
      "execution_count": 4,
      "metadata": {
        "collapsed": false,
        "outputHidden": false,
        "inputHidden": false
      }
    },
    {
      "cell_type": "markdown",
      "source": [
        "How to authenticate to Google APIs?\n",
        "\n"
      ],
      "metadata": {}
    },
    {
      "cell_type": "code",
      "source": [
        "var execSync = require('child_process').execSync;\n",
        "try {\n",
        "    require.resolve('googleapis');\n",
        "    require.resolve('google-auth-library');\n",
        "} catch (e) {\n",
        "    execSync('npm install googleapis google-auth-library');\n",
        "}\n",
        "\n\n",
        "// Load client secrets from a local file.\n",
        "var path = require('path');\n",
        "var fs = require('fs');\n",
        "var google = require('googleapis');\n",
        "var googleAuth = require('google-auth-library');\n",
        "\n",
        "// If modifying these scopes, delete your previously saved credentials\n",
        "// at ~/.credentials/calendar-nodejs-quickstart.json\n",
        "var SCOPES = ['https://www.googleapis.com/auth/calendar.readonly'];\n",
        "var TOKEN_DIR = path.join(process.env.HOME || process.env.HOMEPATH || process.env.USERPROFILE, '.credentials');\n",
        "var TOKEN_PATH = path.join(TOKEN_DIR, 'calendar-nodejs-quickstart.json');\n",
        "var SECRET_PATH = path.join(TOKEN_DIR, 'client_secret.json');\n",
        "var api = JSON.parse(fs.readFileSync(SECRET_PATH));\n",
        "\n",
        "/**\n",
        " * Store token to disk be used in later program executions.\n",
        " *\n",
        " * @param {Object} token The token to store to disk.\n",
        " */\n",
        "function storeToken(token) {\n",
        "  try {\n",
        "    fs.mkdirSync(TOKEN_DIR);\n",
        "  } catch (err) {\n",
        "    if (err.code != 'EEXIST') {\n",
        "      throw err;\n",
        "    }\n",
        "  }\n",
        "  fs.writeFile(TOKEN_PATH, JSON.stringify(token));\n",
        "  console.log('Token stored to ' + TOKEN_PATH);\n",
        "}\n",
        "\n",
        "/**\n",
        " * Create an OAuth2 client with the given credentials, and then execute the\n",
        " * given callback function.\n",
        " *\n",
        " * @param {Object} credentials The authorization client credentials.\n",
        " * @param {function} callback The callback to call with the authorized client.\n",
        " */\n",
        "var authorize = (credentials) => {\n",
        "    var clientSecret = credentials.installed.client_secret;\n",
        "    var clientId = credentials.installed.client_id;\n",
        "    var redirectUrl = credentials.installed.redirect_uris[0];\n",
        "    var auth = new googleAuth();\n",
        "    var oauth2Client = new auth.OAuth2(clientId, clientSecret, redirectUrl);\n",
        "\n",
        "    // Check if we have previously stored a token.\n",
        "    return new Promise((resolve, reject) => {\n",
        "        fs.readFile(TOKEN_PATH, function(err, token) {\n",
        "            if (err) {\n",
        "                var authUrl = oauth2Client.generateAuthUrl({\n",
        "                    access_type: 'offline',\n",
        "                    scope: SCOPES\n",
        "                });\n",
        "                resolve(authUrl);\n",
        "            } else {\n",
        "                oauth2Client.credentials = JSON.parse(token);\n",
        "                resolve(token);\n",
        "            }\n",
        "        });\n",
        "    });\n",
        "};\n",
        "(authorize);\n"
      ],
      "outputs": [
        {
          "output_type": "execute_result",
          "execution_count": 1,
          "data": {
            "text/plain": [
              "[Function: authorize]"
            ]
          },
          "metadata": {}
        }
      ],
      "execution_count": 1,
      "metadata": {
        "collapsed": false,
        "outputHidden": false,
        "inputHidden": false
      }
    },
    {
      "cell_type": "code",
      "source": [
        "var path = require('path');\n",
        "var corePath = path.resolve(path.join(__dirname, '..', 'Core'));\n",
        "var importer = require(corePath);\n",
        "var interpretAllPath = path.join('..', 'Core', 'How to interpret all notebooks.ipynb');\n",
        "var authorizeApp = (authUrl) => {\n",
        "    return importer.importNotebook(interpretAllPath)\n",
        "        .then((f) => Promise.all([\n",
        "            interpret('selenium docker'),\n",
        "            interpret('set up selenium server'),\n",
        "            interpret('webdriver client node'),\n",
        "            interpret('decrypt password'),\n",
        "            interpret('log in Google'),\n",
        "        ]))\n",
        "        .then(r => r.map(r => r[0]))\n",
        "        .then(r => interpretObject(r))\n",
        "        .then(r => {\n",
        "            var seleniumDocker = eval(r[0].code);\n",
        "            var getSeleniumServer = eval(r[1].code);\n",
        "            var createWebdriverClient = eval(r[2].code);\n",
        "            return getSeleniumServer()\n",
        "                .then(() => {\n",
        "                    var client = createWebdriverClient('localhost', 4444);\n",
        "                    eval(r[3].code);\n",
        "                    eval(r[4].code);\n",
        "                    return client.url(authUrl);\n",
        "                });\n",
        "        })\n",
        "\n",
        "    /*\n",
        "    .then(r => {\n",
        "        // do selenium auth here\n",
        "        var newToken = '4/oqoq1ZWounmv5wdL4i84szYt0bpM-b-EKn0mIryymYA';\n",
        "        oauth2Client.getToken(newToken, (err, token) => {\n",
        "            if (err) {\n",
        "                console.log(err);\n",
        "                return;\n",
        "            }\n",
        "            oauth2Client.credentials = token;\n",
        "            storeToken(token);\n",
        "            resolve(token);\n",
        "        });\n",
        "    });\n",
        "    */\n",
        "};\n",
        "(authorizeApp);"
      ],
      "outputs": [
        {
          "output_type": "execute_result",
          "execution_count": 2,
          "data": {
            "text/plain": [
              "[Function: authorizeApp]"
            ]
          },
          "metadata": {}
        }
      ],
      "execution_count": 2,
      "metadata": {
        "collapsed": false,
        "outputHidden": false,
        "inputHidden": false
      }
    },
    {
      "cell_type": "code",
      "source": [
        "// Authorize a client with the loaded credentials, then call the\n",
        "  // Google Calendar API.\n",
        "$$.async();\n",
        "authorize(api)\n",
        "    .then(r => {\n",
        "        if(r.indexOf('https://') !== -1) {\n",
        "            return authorizeApp(r);\n",
        "        } else {\n",
        "            return r;\n",
        "        }\n",
        "    })\n",
        "    .then(r => $$.sendResult('' + r))\n",
        "    .catch(e => $$.sendError(e));\n",
        "\n"
      ],
      "outputs": [
        {
          "output_type": "stream",
          "name": "stdout",
          "text": [
            "Already imported\n",
            "[ 'How to import a notebook.ipynb',\n",
            "  'How to interpret all notebooks.ipynb' ]\n",
            "Initializing webdriver on localhost\n"
          ]
        },
        {
          "output_type": "error",
          "ename": "Error",
          "evalue": "socket hang up",
          "traceback": [
            "Error: Couldn't connect to selenium server",
            "    at url(\"https://accounts.google.com/o/oauth2/auth?access_type=offline&scope=https%3A%2F%2Fwww.googleapis.com%2Fauth%2Fcalendar.readonly&response_type=code&client_id=716181333443-4du7obudqidc0dned9j4sckupp4b76ju.apps.googleusercontent.com&redirect_uri=urn%3Aietf%3Awg%3Aoauth%3A2.0%3Aoob\") - evalmachine.<anonymous>:25:35"
          ]
        }
      ],
      "execution_count": 3,
      "metadata": {
        "collapsed": false,
        "outputHidden": false,
        "inputHidden": false
      }
    },
    {
      "cell_type": "markdown",
      "source": [
        "How often does a google calendar event occur?"
      ],
      "metadata": {}
    },
    {
      "cell_type": "code",
      "source": [
        "\n",
        "/**\n",
        " * Lists the next 10 events on the user's primary calendar.\n",
        " *\n",
        " * @param {google.auth.OAuth2} auth An authorized OAuth2 client.\n",
        " */\n",
        "var resultEvents = [];\n",
        "function listEvents(auth) {\n",
        "  var calendar = google.calendar('v3');\n",
        "  calendar.events.list({\n",
        "    auth: auth,\n",
        "    //calendarId: 'p4685f6at8ccctenocjlqgnqss@group.calendar.google.com',  \n",
        "    //calendarId: 'rqqhq3me7ggg47chafhmeo6m3s@group.calendar.google.com',\n",
        "      calendarId: 'primary',\n",
        "      q: 'work on SOS',\n",
        "      timeMin: '2017-05-20T10:00:00-07:00',\n",
        "    maxResults: 100,\n",
        "    singleEvents: true,\n",
        "    orderBy: 'startTime'\n",
        "  }, function(err, response) {\n",
        "    if (err) {\n",
        "      console.log('The API returned an error: ' + err);\n",
        "      return;\n",
        "    }\n",
        "    var events = response.items;\n",
        "    if (events.length == 0) {\n",
        "      console.log('No upcoming events found.');\n",
        "    } else {\n",
        "        resultEvents = []; // reset the array\n",
        "      for (var i = 0; i < events.length; i++) {\n",
        "        var event = events[i];\n",
        "        var start = event.start.dateTime || event.start.date;\n",
        "          resultEvents[resultEvents.length] = {start: new Date(start), event: event};\n",
        "        console.log('%s - %s', start, event.summary);\n",
        "      }\n",
        "    }\n",
        "  });\n",
        "}\n"
      ],
      "outputs": [],
      "execution_count": 1,
      "metadata": {
        "collapsed": false,
        "outputHidden": false,
        "inputHidden": false
      }
    },
    {
      "cell_type": "code",
      "source": [
        "// sum up events\n",
        "var total = 0;\n",
        "resultEvents.forEach(e => {\n",
        "    if(typeof e.event.end === 'undefined') {\n",
        "        console.log(e.event);\n",
        "    }\n",
        "    total += new Date(e.event.end.dateTime).getTime() - new Date(e.event.start.dateTime).getTime();\n",
        "});\n",
        "\nconsole.log(total / 1000 / 60 / 60);"
      ],
      "outputs": [],
      "execution_count": 21,
      "metadata": {
        "collapsed": false,
        "outputHidden": false,
        "inputHidden": false
      }
    },
    {
      "cell_type": "code",
      "source": [
        "var execSync = require('child_process').execSync;\n",
        "try {\n",
        "    require.resolve('d3-node');\n",
        "} catch (e) {\n",
        "    execSync('npm install d3-node');\n",
        "}\n",
        "\n",
        "// subuffertract the events from the previous one, if it is greater than 1 months it can't help our graph\n",
        "var contributing = [];\n",
        "resultEvents.sort((a, b) => a.start - b.start);\n",
        "resultEvents.forEach((e, i) => {\n",
        "    if(i == 0) {\n",
        "        return;\n",
        "    }\n",
        "    var diff = (e.start.getTime() - resultEvents[i - 1].start.getTime()) / 1000 / 60 / 60 / 24;\n",
        "    //if(diff < 30 && diff > 0) {\n",
        "        contributing[contributing.length] = {days: diff, start: e.start, event: e.event, i: contributing.length};\n",
        "    //}\n",
        "});\n",
        "\n",
        "var D3Node = require('d3-node');\n",
        "var d3n = new D3Node(); // initializes D3 with container element \n",
        "var d3 = d3n.d3;\n",
        "console.log(contributing.map(e => e.days));\n",
        "\n",
        "// set the dimensions and margins of the graph\n",
        "var margin = {top: 20, right: 20, bottom: 30, left: 50},\n",
        "    width = 960 - margin.left - margin.right,\n",
        "    height = 500 - margin.top - margin.bottom;\n",
        "\n",
        "// set the ranges\n",
        "var x = d3.scaleTime().range([0, width]);\n",
        "var y = d3.scaleLinear().range([height, 0]);\n",
        "\n",
        "// define the line\n",
        "var valueline = d3.line()\n",
        "    .x(function(d) { return x(d.start); })\n",
        "    .y(function(d) { return y(d.days); });\n",
        "\n",
        "// append the svg obgect to the body of the page\n",
        "// appends a 'group' element to 'svg'\n",
        "// moves the 'group' element to the top left margin\n",
        "var svg = d3n.createSVG(width + margin.left + margin.right,\n",
        "                        height + margin.top + margin.bottom)\n",
        "  .append(\"g\")\n",
        "    .attr(\"transform\",\n",
        "          \"translate(\" + margin.left + \",\" + margin.top + \")\");\n",
        "\n",
        "// Get the data\n",
        "\n",
        "// Scale the range of the data\n",
        "x.domain(d3.extent(contributing, function(d) { return d.start; }));\n",
        "y.domain([0, d3.max(contributing, function(d) { return d.days; })]);\n",
        "\n",
        "// Add the valueline path.\n",
        "svg.append(\"path\")\n",
        "  .data([contributing])\n",
        "  .attr(\"class\", \"line\")\n",
        "    .attr(\"fill\", \"none\")\n",
        "    .attr(\"stroke\", \"#000\")\n",
        "  .attr(\"d\", valueline);\n",
        "\n",
        "// Add the X Axis\n",
        "svg.append(\"g\")\n",
        "  .attr(\"transform\", \"translate(0,\" + height + \")\")\n",
        "  .call(d3.axisBottom(x));\n",
        "\n",
        "// Add the Y Axis\n",
        "svg.append(\"g\")\n",
        "  .call(d3.axisLeft(y));\n",
        "\n$$.svg(d3n.svgString());"
      ],
      "outputs": [],
      "execution_count": 25,
      "metadata": {
        "collapsed": false,
        "outputHidden": false,
        "inputHidden": false
      }
    },
    {
      "cell_type": "code",
      "source": [],
      "outputs": [],
      "execution_count": null,
      "metadata": {
        "collapsed": false,
        "outputHidden": false,
        "inputHidden": false
      }
    }
  ],
  "metadata": {
    "kernelspec": {
      "name": "node_nteract",
      "language": "javascript",
      "display_name": "Node.js (nteract)"
    },
    "kernel_info": {
      "name": "node_nteract"
    },
    "language_info": {
      "name": "javascript",
      "version": "6.5.0",
      "mimetype": "application/javascript",
      "file_extension": ".js"
    }
  },
  "nbformat": 4,
  "nbformat_minor": 4
}