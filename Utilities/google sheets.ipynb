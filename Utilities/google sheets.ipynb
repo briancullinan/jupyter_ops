{
 "cells": [
  {
   "cell_type": "markdown",
   "metadata": {},
   "source": [
    "How to convert a Google sheet to a static marketing website\n",
    "\n",
    "templates google doc?\n",
    "\n",
    "templates google sheet?"
   ]
  },
  {
   "cell_type": "code",
   "execution_count": null,
   "metadata": {},
   "outputs": [],
   "source": [
    "var util = require('util');\n",
    "var importer = require('../Core');\n",
    "var getInfo = importer.import('get google sheet info');\n",
    "\n",
    "function getTemplates(doc) {\n",
    "    return getInfo(doc)\n",
    "        .then(info => {\n",
    "            console.log(`Loaded doc: ${info.properties.title} ${info.spreadsheetId}`);\n",
    "            return info.sheets.reduce((obj, worksheet) => {\n",
    "                worksheet.properties.spreadsheetId = info.spreadsheetId;\n",
    "                var layoutTitle = worksheet.properties.title.toLowerCase()\n",
    "                    .replace(/\\s*layout|\\s*data|\\s*template/ig, '')\n",
    "                    .split(/\\s+/ig).join('-');\n",
    "\n",
    "                if( typeof obj[layoutTitle] == 'undefined' ) obj[layoutTitle] = {template: null, data: null};\n",
    "                if( worksheet.properties.title.toLowerCase().includes('data') ) obj[layoutTitle].data = worksheet;\n",
    "                else obj[layoutTitle].template = worksheet;\n",
    "                return obj;\n",
    "            }, {})\n",
    "        })\n",
    "}\n",
    "module.exports = getTemplates;\n"
   ]
  },
  {
   "cell_type": "markdown",
   "metadata": {},
   "source": [
    "test templates google sheet?\n"
   ]
  },
  {
   "cell_type": "code",
   "execution_count": null,
   "metadata": {},
   "outputs": [],
   "source": [
    "var assert = require('assert');\n",
    "var importer = require('../Core');\n",
    "var getTemplates = importer.import('templates google sheet');\n",
    "\n",
    "var docsId = '113mVIumItArQ_oXpfDRXP-2Kw2ms4t48oPJ68_p5P8k';\n",
    "\n",
    "describe('get templates from sheet', () => {\n",
    "    \n",
    "    it('should have at least one page', () => {\n",
    "        return getTemplates(docsId)\n",
    "            .then(t => {\n",
    "                console.log(JSON.stringify(Object.keys(t).reduce((obj, cur) => {\n",
    "                    obj[cur] = {};\n",
    "                    obj[cur].template = ((t[cur].template || {}).title || '').substr(0, 1000);\n",
    "                    obj[cur].data = (t[cur].data ? ('yes: ' + t[cur].data.rowCount) : 'no');\n",
    "                    return obj;\n",
    "                }, {}), null, 4))\n",
    "                assert(Object.keys(t).length > 0, 'should have a page called template');\n",
    "            })\n",
    "    })\n",
    "})\n"
   ]
  },
  {
   "cell_type": "markdown",
   "metadata": {},
   "source": [
    "get google sheet info?\n"
   ]
  },
  {
   "cell_type": "code",
   "execution_count": null,
   "metadata": {},
   "outputs": [],
   "source": [
    "var importer = require('../Core');\n",
    "var authorizeSheets = importer.import('authorize sheets api');\n",
    "\n",
    "function getInfo(link) {\n",
    "    var docId = link.replace(/https:\\/\\/docs.google.com\\/spreadsheets\\/d\\/|\\/edit.*$|\\/copy.*$/ig, '');\n",
    "    var sheets;\n",
    "    \n",
    "    return authorizeSheets()\n",
    "        .then(s => sheets = s)\n",
    "        .then(() => util.promisify(sheets.spreadsheets.get.bind(sheets))({\n",
    "            spreadsheetId: docId\n",
    "        }))\n",
    "        .then(res => res.data)\n",
    "}\n",
    "\n",
    "module.exports = getInfo;\n"
   ]
  },
  {
   "cell_type": "markdown",
   "metadata": {},
   "source": [
    "get google data sheet?\n",
    "\n",
    "google sheet array objects?\n"
   ]
  },
  {
   "cell_type": "code",
   "execution_count": null,
   "metadata": {},
   "outputs": [],
   "source": [
    "var Remarkable = require('remarkable');\n",
    "var md = new Remarkable({html: true, xhtmlOut: true, breaks: true});\n",
    "var importer = require('../Core');\n",
    "var getRows = importer.import('get worksheet rows');\n",
    "\n",
    "function getDataSheet(link, worksheet) {\n",
    "    if(typeof link === 'object') {\n",
    "        worksheet = link;\n",
    "        link = worksheet.properties.spreadsheetId;\n",
    "    }\n",
    "    \n",
    "    return getRows(link, worksheet)\n",
    "        .then(rows => {\n",
    "            var columns = [];\n",
    "            return rows.reduce((acc, o, i) => {\n",
    "                if (i == 0) {\n",
    "                    columns = o;\n",
    "                    return acc;\n",
    "                }\n",
    "                if (!acc[i - 1]) {\n",
    "                    acc[i - 1] = {};\n",
    "                }\n",
    "                o.forEach((cell, j) => {\n",
    "                    var html = md.render(cell);\n",
    "                    // if all markdown did was insert a paragraph and line break, use value instead\n",
    "                    if(html.replace(/<\\/?p>|\\s+/ig, '') == cell.replace(/<\\/?p>|\\s+/ig, '')) {\n",
    "                        html = cell;\n",
    "                    }\n",
    "                    acc[i - 1][columns[j]] = html;\n",
    "                })\n",
    "                return acc;\n",
    "            }, []);\n",
    "        })\n",
    "}\n",
    "\n",
    "module.exports = getDataSheet;\n"
   ]
  },
  {
   "cell_type": "markdown",
   "metadata": {},
   "source": [
    "get worksheet rows?\n"
   ]
  },
  {
   "cell_type": "code",
   "execution_count": null,
   "metadata": {},
   "outputs": [],
   "source": [
    "var util = require('util');\n",
    "var importer = require('../Core');\n",
    "var authorizeSheets = importer.import('authorize sheets api');\n",
    "var getInfo = importer.import('get google sheet info');\n",
    "\n",
    "function getRows(link, worksheet) {\n",
    "    if(typeof link === 'object') {\n",
    "        worksheet = link;\n",
    "        link = worksheet.properties.spreadsheetId;\n",
    "    }\n",
    "    \n",
    "    var docId = link.replace(/https:\\/\\/docs.google.com\\/spreadsheets\\/d\\/|\\/edit.*$|\\/copy.*$/ig, '');\n",
    "    var sheets, wsPromise;\n",
    "    \n",
    "    if(typeof worksheet === 'string') {\n",
    "        wsPromise = getInfo(link).then(info => worksheet = info.sheets.filter(s => s.properties.title === worksheet)[0]);\n",
    "    } else {\n",
    "        wsPromise = Promise.resolve(worksheet);\n",
    "    }\n",
    "\n",
    "    return authorizeSheets()\n",
    "        .then(s => sheets = s)\n",
    "        .then(() => wsPromise)\n",
    "        .then(() => util.promisify(sheets.spreadsheets.values.get.bind(sheets))({\n",
    "            spreadsheetId: docId,\n",
    "            range: `'${worksheet.properties.title}'!A1:Z${worksheet.properties.gridProperties.rowCount}`\n",
    "        }))\n",
    "        .then(res => res.data.values)\n",
    "}\n",
    "\n",
    "module.exports = getRows;\n"
   ]
  },
  {
   "cell_type": "markdown",
   "metadata": {},
   "source": [
    "test google data sheet?\n"
   ]
  },
  {
   "cell_type": "code",
   "execution_count": null,
   "metadata": {},
   "outputs": [],
   "source": [
    "var assert = require('assert');\n",
    "var importer = require('../Core');\n",
    "var getTemplates = importer.import('templates google sheet');\n",
    "var getDataSheet = importer.import('google sheet array objects');\n",
    "\n",
    "var docsId = '113mVIumItArQ_oXpfDRXP-2Kw2ms4t48oPJ68_p5P8k';\n",
    "\n",
    "describe('get data from data sheet', () => {\n",
    "    \n",
    "    it('should process at least one data sheet', () => {\n",
    "        return getTemplates(docsId)\n",
    "            .then(t => {\n",
    "                var key = Object.keys(t).filter(k => t[k].data)[0];\n",
    "                assert(typeof key != 'undefined', 'should have at least one data sheet');\n",
    "                return getDataSheet(t[key].data);\n",
    "            })\n",
    "            .then(data => {\n",
    "                console.log(data.length);\n",
    "                console.log(data);\n",
    "                assert(data.length > 0, 'should have data');\n",
    "            })\n",
    "    })\n",
    "    \n",
    "    \n",
    "})\n"
   ]
  },
  {
   "cell_type": "markdown",
   "metadata": {},
   "source": [
    "add a row of data to a google sheet?\n",
    "\n",
    "add row data google sheet?\n"
   ]
  },
  {
   "cell_type": "code",
   "execution_count": 3,
   "metadata": {},
   "outputs": [
    {
     "data": {
      "text/plain": [
       "[Function: addRow]"
      ]
     },
     "execution_count": 3,
     "metadata": {},
     "output_type": "execute_result"
    }
   ],
   "source": [
    "var importer = require('../Core');\n",
    "var getInfo = importer.import('get google sheet info');\n",
    "\n",
    "function addRow(link, newRow) {\n",
    "    var docId = link.replace(/https:\\/\\/docs.google.com\\/spreadsheets\\/d\\/|\\/edit.*$|\\/copy.*$/ig, '');\n",
    "    \n",
    "    return getInfo(docId)\n",
    "        .then(info => {\n",
    "            console.log('Loaded doc: ' + info.properties.title);\n",
    "            sheet = info.sheets[0];\n",
    "            console.log('sheet #1: ' + sheet.title + ' ' + sheet.gridProperties.rowCount + 'x' + sheet.gridProperties.columnCount);\n",
    "\n",
    "            return util.promisify(doc.addRow)(1, newRow);\n",
    "        });\n",
    "}\n",
    "\n",
    "module.exports = addRow;"
   ]
  },
  {
   "cell_type": "markdown",
   "metadata": {},
   "source": [
    "test google sheet add row?\n"
   ]
  },
  {
   "cell_type": "code",
   "execution_count": null,
   "metadata": {},
   "outputs": [],
   "source": [
    "var assert = require('assert');\n",
    "var importer = require('../Core');\n",
    "var addRow = importer.import('add row data google sheet');\n",
    "\n",
    "var docsId = '16b1Z0sQkYhtMUfP7qMRL3vRBPWQsRbSlntURkMqWGX0';\n",
    "\n",
    "describe('add row data to google sheet', () => {\n",
    "    \n",
    "    it('should add a row', () => {\n",
    "        return addRow(docsId, {\n",
    "                timestamp: Date.now(),\n",
    "                name: 'Test Name',\n",
    "                email: 'test@test.com',\n",
    "                subject: 'This is a test subject',\n",
    "                message: 'This is a new message',\n",
    "                responded: 0\n",
    "            })\n",
    "            .then(rows => {\n",
    "                assert(typeof rows != 'undefined', 'should have added a row to the sheet');\n",
    "            })\n",
    "    })\n",
    "    \n",
    "    \n",
    "})\n"
   ]
  },
  {
   "cell_type": "markdown",
   "metadata": {},
   "source": [
    "authorize sheets api?\n"
   ]
  },
  {
   "cell_type": "code",
   "execution_count": null,
   "metadata": {},
   "outputs": [],
   "source": [
    "var PROFILE_PATH = process.env.HOME || process.env.HOMEPATH || process.env.USERPROFILE;\n",
    "var credentials;\n",
    "if(fs.existsSync('./sheet to web-8ca5784e0b05.json')) {\n",
    "    credentials = path.resolve('./sheet to web-8ca5784e0b05.json');\n",
    "} else {\n",
    "    credentials = path.join(PROFILE_PATH, '.credentials/sheet to web-8ca5784e0b05.json');\n",
    "}\n",
    "\n",
    "var {google} = require('googleapis');\n",
    "var {auth} = require('google-auth-library');\n",
    "var GOOGLE_AUTH_SCOPE = [\n",
    "    'https://www.googleapis.com/auth/spreadsheets'\n",
    "];\n",
    "\n",
    "function authorizeSheets() {\n",
    "    var sheets, client;\n",
    "\n",
    "    return auth.getClient({\n",
    "        keyFile: credentials,\n",
    "        scopes: GOOGLE_AUTH_SCOPE\n",
    "    })\n",
    "        .then(c => {\n",
    "            client = c\n",
    "            sheets = google.sheets({version: 'v4', auth: client});\n",
    "        })\n",
    "        .then(() => sheets)\n",
    "}\n",
    "\n",
    "module.exports = authorizeSheets;\n"
   ]
  }
 ],
 "metadata": {
  "kernelspec": {
   "display_name": "Javascript (Node.js)",
   "language": "javascript",
   "name": "javascript"
  },
  "language_info": {
   "file_extension": ".js",
   "mimetype": "application/javascript",
   "name": "javascript",
   "version": "8.6.0"
  }
 },
 "nbformat": 4,
 "nbformat_minor": 2
}
