{
 "cells": [
  {
   "cell_type": "markdown",
   "metadata": {},
   "source": [
    "How to convert a Google sheet to a static marketing website\n",
    "\n",
    "templates google doc?\n",
    "\n",
    "templates google sheet?"
   ]
  },
  {
   "cell_type": "code",
   "execution_count": null,
   "metadata": {},
   "outputs": [],
   "source": [
    "var util = require('util');\n",
    "var GoogleSpreadsheet = require('google-spreadsheet');\n",
    "\n",
    "function getTemplates(doc) {\n",
    "    if(typeof doc === 'string') {\n",
    "        doc = new GoogleSpreadsheet(doc);\n",
    "    }\n",
    "    return util.promisify(doc.getInfo)()\n",
    "        .then(info => {\n",
    "            console.log('Loaded doc: ' + info.title + ' by ' + info.author.email);\n",
    "            return info;\n",
    "        })\n",
    "        .then(s => s.worksheets.reduce((obj, worksheet) => {\n",
    "            var layoutTitle = worksheet.title.toLowerCase()\n",
    "                .replace(/\\s*layout|\\s*data|\\s*template/ig, '')\n",
    "                .split(/\\s+/ig).join('-');\n",
    "        \n",
    "            if( typeof obj[layoutTitle] == 'undefined' ) obj[layoutTitle] = {template: null, data: null};\n",
    "            if( worksheet.title.toLowerCase().includes('data') ) obj[layoutTitle].data = worksheet;\n",
    "            else obj[layoutTitle].template = worksheet;\n",
    "            return obj;\n",
    "        }, {}))\n",
    "}\n",
    "module.exports = getTemplates;\n"
   ]
  },
  {
   "cell_type": "markdown",
   "metadata": {},
   "source": [
    "test templates google sheet?\n"
   ]
  },
  {
   "cell_type": "code",
   "execution_count": null,
   "metadata": {},
   "outputs": [],
   "source": [
    "var assert = require('assert');\n",
    "var importer = require('../Core');\n",
    "var getTemplates = importer.import('templates google sheet');\n",
    "\n",
    "var docsId = '113mVIumItArQ_oXpfDRXP-2Kw2ms4t48oPJ68_p5P8k';\n",
    "\n",
    "describe('get templates from sheet', () => {\n",
    "    \n",
    "    it('should have at least one page', () => {\n",
    "        return getTemplates(docsId)\n",
    "            .then(t => {\n",
    "                console.log(JSON.stringify(Object.keys(t).reduce((obj, cur) => {\n",
    "                    obj[cur] = {};\n",
    "                    obj[cur].template = ((t[cur].template || {}).title || '').substr(0, 1000);\n",
    "                    obj[cur].data = (t[cur].data ? ('yes: ' + t[cur].data.rowCount) : 'no');\n",
    "                    return obj;\n",
    "                }, {}), null, 4))\n",
    "                assert(Object.keys(t).length > 0, 'should have a page called template');\n",
    "            })\n",
    "    })\n",
    "    \n",
    "    \n",
    "})\n"
   ]
  },
  {
   "cell_type": "markdown",
   "metadata": {},
   "source": [
    "get google data sheet?\n",
    "\n",
    "google sheet array objects?\n"
   ]
  },
  {
   "cell_type": "code",
   "execution_count": null,
   "metadata": {},
   "outputs": [],
   "source": [
    "var Remarkable = require('remarkable');\n",
    "var md = new Remarkable({html: true, xhtmlOut: true, breaks: true});\n",
    "var util = require('util');\n",
    "\n",
    "function getDataSheet(worksheet) {\n",
    "    if(!worksheet) {\n",
    "        return Promise.resolve(false);\n",
    "    }\n",
    "    return util.promisify(worksheet.getCells)({\n",
    "        'min-row': 1,\n",
    "        'max-row': 100,\n",
    "        'return-empty': false\n",
    "    })\n",
    "        .then(cells => {\n",
    "            var columns = [];\n",
    "            return cells.reduce((acc, o, arr) => {\n",
    "                if (o.row == 1) {\n",
    "                    columns[o.col] = o.value;\n",
    "                    return acc;\n",
    "                }\n",
    "                if (!acc[o.row - 2]) {\n",
    "                    acc[o.row - 2] = {};\n",
    "                }\n",
    "                var html = md.render(o.value);\n",
    "                // if all markdown did was insert a paragraph and line break, use value instead\n",
    "                if(html.replace(/<\\/?p>|\\s+/ig, '') == o.value.replace(/<\\/?p>|\\s+/ig, '')) {\n",
    "                    html = o.value;\n",
    "                }\n",
    "                acc[o.row - 2][columns[o.col]] = html;\n",
    "                return acc;\n",
    "            }, []);\n",
    "        })\n",
    "}\n",
    "module.exports = getDataSheet;\n"
   ]
  },
  {
   "cell_type": "markdown",
   "metadata": {},
   "source": [
    "test google data sheet?\n"
   ]
  },
  {
   "cell_type": "code",
   "execution_count": null,
   "metadata": {},
   "outputs": [],
   "source": [
    "var assert = require('assert');\n",
    "var importer = require('../Core');\n",
    "var getTemplates = importer.import('templates google sheet');\n",
    "var getDataSheet = importer.import('google sheet array objects');\n",
    "\n",
    "var docsId = '113mVIumItArQ_oXpfDRXP-2Kw2ms4t48oPJ68_p5P8k';\n",
    "\n",
    "describe('get data from data sheet', () => {\n",
    "    \n",
    "    it('should process at least one data sheet', () => {\n",
    "        return getTemplates(docsId)\n",
    "            .then(t => {\n",
    "                var key = Object.keys(t).filter(k => t[k].data)[0];\n",
    "                assert(typeof key != 'undefined', 'should have at least one data sheet');\n",
    "                return getDataSheet(t[key].data);\n",
    "            })\n",
    "            .then(data => {\n",
    "                console.log(data.length);\n",
    "                console.log(data);\n",
    "                assert(data.length > 0, 'should have data');\n",
    "            })\n",
    "    })\n",
    "    \n",
    "    \n",
    "})\n"
   ]
  },
  {
   "cell_type": "markdown",
   "metadata": {},
   "source": [
    "add a row of data to a google sheet?\n",
    "\n",
    "add row data google sheet?\n"
   ]
  },
  {
   "cell_type": "code",
   "execution_count": 3,
   "metadata": {},
   "outputs": [
    {
     "data": {
      "text/plain": [
       "[Function: addRow]"
      ]
     },
     "execution_count": 3,
     "metadata": {},
     "output_type": "execute_result"
    }
   ],
   "source": [
    "var path = require('path');\n",
    "var util = require('util');\n",
    "var fs = require('fs');\n",
    "\n",
    "var PROFILE_PATH = process.env.HOME || process.env.HOMEPATH || process.env.USERPROFILE;\n",
    "var credentials;\n",
    "if(fs.existsSync('./sheet to web-8ca5784e0b05.json')) {\n",
    "    credentials = require('./sheet to web-8ca5784e0b05.json');\n",
    "} else {\n",
    "    credentials = require(path.join(PROFILE_PATH, '.credentials/sheet to web-8ca5784e0b05.json'));\n",
    "}\n",
    "var GoogleSpreadsheet = require('google-spreadsheet');\n",
    "\n",
    "function addRow(docId, newRow) {\n",
    "    var doc = new GoogleSpreadsheet(docId);\n",
    "    \n",
    "    return util.promisify(doc.useServiceAccountAuth)(credentials)\n",
    "        .then(() => util.promisify(doc.getInfo)())\n",
    "        .then(info => {\n",
    "            console.log('Loaded doc: ' + info.title + ' by ' + info.author.email);\n",
    "            return info;\n",
    "        })\n",
    "        .then(info => {\n",
    "            sheet = info.worksheets[0];\n",
    "            console.log('sheet #1: ' + sheet.title + ' ' + sheet.rowCount + 'x' + sheet.colCount);\n",
    "\n",
    "            return util.promisify(doc.addRow)(1, newRow);\n",
    "        });\n",
    "}\n",
    "\n",
    "module.exports = addRow;"
   ]
  },
  {
   "cell_type": "markdown",
   "metadata": {},
   "source": [
    "test google sheet add row?\n"
   ]
  },
  {
   "cell_type": "code",
   "execution_count": null,
   "metadata": {},
   "outputs": [],
   "source": [
    "var assert = require('assert');\n",
    "var importer = require('../Core');\n",
    "var addRow = importer.import('add row data google sheet');\n",
    "\n",
    "var docsId = '16b1Z0sQkYhtMUfP7qMRL3vRBPWQsRbSlntURkMqWGX0';\n",
    "\n",
    "describe('add row data to google sheet', () => {\n",
    "    \n",
    "    it('should add a row', () => {\n",
    "        return addRow(docsId, {\n",
    "                timestamp: Date.now(),\n",
    "                name: 'Test Name',\n",
    "                email: 'test@test.com',\n",
    "                subject: 'This is a test subject',\n",
    "                message: 'This is a new message',\n",
    "                responded: 0\n",
    "            })\n",
    "            .then(rows => {\n",
    "                assert(typeof rows != 'undefined', 'should have added a row to the sheet');\n",
    "            })\n",
    "    })\n",
    "    \n",
    "    \n",
    "})\n"
   ]
  }
 ],
 "metadata": {
  "kernelspec": {
   "display_name": "Javascript (Node.js)",
   "language": "javascript",
   "name": "javascript"
  },
  "language_info": {
   "file_extension": ".js",
   "mimetype": "application/javascript",
   "name": "javascript",
   "version": "8.6.0"
  }
 },
 "nbformat": 4,
 "nbformat_minor": 2
}
