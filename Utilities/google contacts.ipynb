{
 "cells": [
  {
   "cell_type": "markdown",
   "metadata": {},
   "source": [
    "update google contact?\n",
    "\n"
   ]
  },
  {
   "cell_type": "code",
   "execution_count": null,
   "metadata": {},
   "outputs": [],
   "source": [
    "var google = require('googleapis');\r",
    "var people = google.people('v1');\r",
    "var importer = require('../Core');\r",
    "\r",
    "var options = {\r",
    "    scopes: [\r",
    "        'https://www.googleapis.com/auth/contacts'\r",
    "    ]\r",
    "};\r",
    "\r",
    "var findMatch = (arr, contact) => {\r",
    "    return arr.filter(c => typeof c.names !== 'undefined'\r",
    "        && c.names[0].displayName\r",
    "            .match(new RegExp(contact.displayName, 'ig')));\r",
    "}\r",
    "\r",
    "var googlePromise = (func) => {\r",
    "    return new Promise((resolve, reject) => func((err, response) => {\r",
    "        if (err) reject(err);\r",
    "        try {\r",
    "        } catch (e) {\r",
    "            reject(e);\r",
    "        }\r",
    "        setTimeout(() => resolve(response), 100);\r",
    "    })).catch(e => console.log(e));\r",
    "};\r",
    "\r",
    "var contactCache = [];\r",
    "var listContacts = (contact, done = false) => {\r",
    "    // return matching contacts or empty if there are no more pages\r",
    "    return googlePromise(\r",
    "        people.people.connections.list.bind(people.people.connections, {\r",
    "            resourceName: 'people/me',\r",
    "            personFields: 'emailAddresses,names,birthdays,phoneNumbers',\r",
    "            auth: options.auth,\r",
    "            pageToken: options.pageToken\r",
    "        }))\r",
    "        .then(r => {\r",
    "            options.pageToken = r.nextPageToken;\r",
    "            done = !options.pageToken;\r",
    "            return r.connections;\r",
    "        })\r",
    "        .then(r => {\r",
    "            for (var c of r) {\r",
    "                contactCache.push(c);\r",
    "            }\r",
    "            if (done) {\r",
    "                return findMatch(contactCache, contact);\r",
    "            }\r",
    "            return listContacts(contact, done);\r",
    "        })\r",
    "        .catch(e => console.log(e))\r",
    "};\r",
    "\r",
    "var updateContact = (contact) => {\r",
    "    return importer.import('import google calendar api')\r",
    "        .then(getOauthClient => getOauthClient(options))\r",
    "        .then(() => {\r",
    "            if (contactCache.length > 0) {\r",
    "                return findMatch(contactCache, contact);\r",
    "            }\r",
    "            options.nextPageToken = null;\r",
    "            contactCache = [];\r",
    "            return listContacts(contact);\r",
    "        })\r",
    "        .catch(e => console.log(e))\r",
    "};\r",
    "\r",
    "module.exports = updateContact;\r",
    ""
   ]
  },
  {
   "cell_type": "code",
   "execution_count": null,
   "metadata": {},
   "outputs": [],
   "source": [
    ""
   ]
  }
 ],
 "metadata": {
  "kernelspec": {
   "display_name": "Javascript (Node.js)",
   "language": "javascript",
   "name": "javascript"
  },
  "language_info": {
   "file_extension": ".js",
   "mimetype": "application/javascript",
   "name": "javascript",
   "version": "8.6.0"
  }
 },
 "nbformat": 4,
 "nbformat_minor": 2
}