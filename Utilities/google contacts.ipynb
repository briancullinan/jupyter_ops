{
 "cells": [
  {
   "cell_type": "markdown",
   "metadata": {},
   "source": [
    "sync linkedin contacts with google contacts?\n",
    "\n"
   ]
  },
  {
   "cell_type": "code",
   "execution_count": 1,
   "metadata": {},
   "outputs": [],
   "source": [
    "var importer = require('../Core');\n",
    "\n",
    "var scrapeLinkedInProfile = () => {\n",
    "    \n",
    "};\n",
    "\n",
    "var listAllConnections = () => {\n",
    "    \n",
    "};\n",
    "\n",
    "var syncLinkedInContacts = () => {\n",
    "    return importer.interpretAll(['update create merge contact'])\n",
    "    .then(r => {\n",
    "        \n",
    "    })\n",
    "};\n",
    "\n",
    "module.exports = syncLinkedInContacts;\n",
    "syncLinkedInContacts;\n",
    "\n"
   ]
  },
  {
   "cell_type": "code",
   "execution_count": 2,
   "metadata": {},
   "outputs": [
    {
     "data": {
      "text/plain": [
       "[ { code: 'var google = require(\\'googleapis\\');\\nvar calendar = google.calendar(\\'v3\\');\\nvar importer = require(\\'../Core\\');\\n\\nvar googlePromise = (func) => {\\n    return new Promise((resolve, reject) => func((err, response) => {\\n        if(err) reject(err);\\n        try {\\n        } catch (e) {\\n            reject(e);\\n        }\\n        setTimeout(() => resolve(response), 100);\\n    })).catch(e => console.log(e));\\n};\\n\\nvar listEvents;\\nvar updateEvent = (event) => {\\n    return (typeof listEvents !== \\'undefined\\'\\n        ? Promise.resolve([])\\n        : importer.interpretAll([\\n            \\'list events\\',\\n        ])\\n        .then(r => {\\n            listEvents = r[0].runInNewContext();\\n        }))\\n    .then(() => {\\n        return listEvents({\\n            auth: options.auth,\\n            calendarId: options.calendarId,\\n            timeMin: event.start.dateTime,\\n            timeMax: event.end.dateTime,\\n        })\\n    })\\n    .then(m => {\\n        const actionsArray = [];\\n        const matches = m.filter(match => match.event.summary == event.summary)\\n        if(matches.length > 0) {\\n            const descriptions = [].concat(\\n                ...JSON.parse(event.description),\\n                ...matches.map(match => JSON.parse(match.event.description)));\\n            // TODO: make sure there are no duplicates\\n            const urls = descriptions.map(d => d.url);\\n            const unique = descriptions\\n                .filter((d, i) => urls.indexOf(d.url) === i);\\n\\n            // patch the first match\\n            actionsArray.push(googlePromise(\\n                calendar.events.patch.bind(calendar.events, {\\n                    eventId: matches[0].event.id,\\n                    calendarId: options.calendarId,\\n                    auth: options.auth,\\n                    resource: {\\n                        description: JSON.stringify(unique, null, 4),\\n                    }\\n                })));\\n\\n            // TODO: delete the rest\\n            for(const match of matches.slice(1)) {\\n                actionsArray.push(googlePromise(\\n                    calendar.events.delete.bind(calendar.events, {\\n                        eventId: match.event.id,\\n                        calendarId: options.calendarId,\\n                        auth: options.auth\\n                    })));\\n            }\\n        } else {\\n            actionsArray.push(googlePromise(\\n                calendar.events.insert.bind(calendar.events, Object.assign({}, {\\n                    calendarId: options.calendarId,\\n                    auth: options.auth,\\n                    resource: event\\n                }))));\\n        }\\n        return actionsArray;\\n    })\\n    .catch(e => console.log(e))\\n};\\nmodule.exports = updateEvent;\\nupdateEvent;\\n\\n',\n",
       "    markdown: [ 'Update create merge delete event?\\n\\n' ],\n",
       "    from: 20,\n",
       "    to: 21,\n",
       "    language: 'javascript',\n",
       "    id: 'google calendar.ipynb[10]',\n",
       "    filename: '/Users/briancullinan/jupytangular2/Utilities/google calendar.ipynb',\n",
       "    questions: [ 'Update create merge delete event?\\n\\n' ],\n",
       "    notebook: 'google calendar.ipynb',\n",
       "    fresher: 'var google = require(\\'googleapis\\');\\nvar calendar = google.calendar(\\'v3\\');\\nvar importer = require(\\'../Core\\');\\n\\nvar googlePromise = (func) => {\\n    return new Promise((resolve, reject) => func((err, response) => {\\n        if(err) reject(err);\\n        try {\\n        } catch (e) {\\n            reject(e);\\n        }\\n        setTimeout(() => resolve(response), 100);\\n    })).catch(e => console.log(e));\\n};\\n\\nvar listEvents;\\nvar updateEvent = (event) => {\\n    return (typeof listEvents !== \\'undefined\\'\\n        ? Promise.resolve([])\\n        : importer.interpretAll([\\n            \\'list events\\',\\n        ])\\n        .then(r => {\\n            listEvents = r[0].runInNewContext();\\n        }))\\n    .then(() => {\\n        return listEvents({\\n            auth: options.auth,\\n            calendarId: options.calendarId,\\n            timeMin: event.start.dateTime,\\n            timeMax: event.end.dateTime,\\n        })\\n    })\\n    .then(m => {\\n        const actionsArray = [];\\n        const matches = m.filter(match => match.event.summary == event.summary)\\n        if(matches.length > 0) {\\n            const descriptions = [].concat(\\n                ...JSON.parse(event.description),\\n                ...matches.map(match => JSON.parse(match.event.description)));\\n            // TODO: make sure there are no duplicates\\n            const urls = descriptions.map(d => d.url);\\n            const unique = descriptions\\n                .filter((d, i) => urls.indexOf(d.url) === i);\\n\\n            // patch the first match\\n            actionsArray.push(googlePromise(\\n                calendar.events.patch.bind(calendar.events, {\\n                    eventId: matches[0].event.id,\\n                    calendarId: options.calendarId,\\n                    auth: options.auth,\\n                    resource: {\\n                        description: JSON.stringify(unique, null, 4),\\n                    }\\n                })));\\n\\n            // TODO: delete the rest\\n            for(const match of matches.slice(1)) {\\n                actionsArray.push(googlePromise(\\n                    calendar.events.delete.bind(calendar.events, {\\n                        eventId: match.event.id,\\n                        calendarId: options.calendarId,\\n                        auth: options.auth\\n                    })));\\n            }\\n        } else {\\n            actionsArray.push(googlePromise(\\n                calendar.events.insert.bind(calendar.events, Object.assign({}, {\\n                    calendarId: options.calendarId,\\n                    auth: options.auth,\\n                    resource: event\\n                }))));\\n        }\\n        return actionsArray;\\n    })\\n    .catch(e => console.log(e))\\n};\\nmodule.exports = updateEvent;\\nupdateEvent;\\n\\n',\n",
       "    runFresherInNewContext: [Function],\n",
       "    runInNewContext: [Function],\n",
       "    runInNEL: [Function],\n",
       "    runAsModule: [Function] } ]"
      ]
     },
     "execution_count": 2,
     "metadata": {},
     "output_type": "execute_result"
    }
   ],
   "source": [
    "\n",
    "$$.async();\n",
    "syncLinkedInContacts()\n",
    ".then(r => $$.sendResult(r))\n",
    ".catch(e => $$.sendError(e))\n"
   ]
  },
  {
   "cell_type": "markdown",
   "metadata": {},
   "source": [
    "sync facebook contacts with google contacts?\n",
    "\n"
   ]
  },
  {
   "cell_type": "code",
   "execution_count": null,
   "metadata": {},
   "outputs": [],
   "source": [
    "\n",
    "\n"
   ]
  },
  {
   "cell_type": "markdown",
   "metadata": {},
   "source": [
    "update, merge, delete, create google contact?\n",
    "\n"
   ]
  },
  {
   "cell_type": "code",
   "execution_count": null,
   "metadata": {},
   "outputs": [],
   "source": [
    "var google = require('googleapis');\n",
    "var calendar = google.contacts('v3');\n",
    "var importer = require('../Core');\n",
    "\n",
    "var googlePromise = (func) => {\n",
    "    return new Promise((resolve, reject) => func((err, response) => {\n",
    "        if(err) reject(err);\n",
    "        try {\n",
    "        } catch (e) {\n",
    "            reject(e);\n",
    "        }\n",
    "        setTimeout(() => resolve(response), 100);\n",
    "    })).catch(e => console.log(e));\n",
    "};\n",
    "\n",
    "var listContacts = (options) => {\n",
    "    var getOauthClient;\n",
    "    return importer.interpretAll([\n",
    "        'import google api',\n",
    "    ])\n",
    "    .then(r => getOauthClient = r[1].runInNewContext())\n",
    "    .then(() => getOauthClient({scopes: [ 'https://www.google.com/m8/feeds/' ]}))\n",
    "    \n",
    "};\n",
    "\n",
    "var updateContact = (contact) => {\n",
    "    return listContacts()\n",
    "};\n",
    "\n",
    "module.exports = updateContact;\n",
    "updateContact;\n",
    "\n"
   ]
  },
  {
   "cell_type": "code",
   "execution_count": null,
   "metadata": {},
   "outputs": [],
   "source": []
  }
 ],
 "metadata": {
  "kernelspec": {
   "display_name": "Javascript (Node.js)",
   "language": "javascript",
   "name": "javascript"
  },
  "language_info": {
   "file_extension": ".js",
   "mimetype": "application/javascript",
   "name": "javascript",
   "version": "8.6.0"
  }
 },
 "nbformat": 4,
 "nbformat_minor": 2
}
