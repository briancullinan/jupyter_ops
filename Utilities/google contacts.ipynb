{
 "cells": [
  {
   "cell_type": "markdown",
   "metadata": {},
   "source": [
    "sync linkedin contacts with google contacts?\n",
    "\n"
   ]
  },
  {
   "cell_type": "code",
   "execution_count": 2,
   "metadata": {},
   "outputs": [
    {
     "data": {
      "text/plain": [
       "[Function: syncLinkedInContacts]"
      ]
     },
     "execution_count": 2,
     "metadata": {},
     "output_type": "execute_result"
    }
   ],
   "source": [
    "var importer = require('../Core');\n",
    "var fs = require('fs');\n",
    "\n",
    "var PROFILE_PATH = process.env.HOME || process.env.HOMEPATH || process.env.USERPROFILE;\n",
    "var project = PROFILE_PATH + '/Conversations';\n",
    "\n",
    "var updateContact, runSeleniumCell;\n",
    "var syncLinkedInContacts = () => {\n",
    "    return importer.interpretAll([\n",
    "        'update google contact',\n",
    "        'selenium cell'\n",
    "    ])\n",
    "    .then(r => {\n",
    "        updateContact = r[0].runInNewContext();\n",
    "        runSeleniumCell = r[1].runInNewContext();\n",
    "        return runSeleniumCell('scrape linkedin contacts');\n",
    "    })\n",
    "    /*.then(listAllConnections => listAllConnections())\n",
    "    .then(r => {\n",
    "        fs.writeFileSync(project + '/connections.json', JSON.stringify(r, null, 4))\n",
    "        return r;\n",
    "    })*/\n",
    "    .then(() => updateContact())\n",
    "    \n",
    "};\n",
    "\n",
    "module.exports = syncLinkedInContacts;\n",
    "syncLinkedInContacts;\n",
    "\n"
   ]
  },
  {
   "cell_type": "markdown",
   "metadata": {},
   "source": [
    "scrape linkedin contacts?\n",
    "\n"
   ]
  },
  {
   "cell_type": "code",
   "execution_count": null,
   "metadata": {},
   "outputs": [],
   "source": [
    "var importer = require('../Core');\n",
    "\n",
    "var getAllUntil, getAllXPath;\n",
    "var listAllConnections = () => {\n",
    "    var friends = [];\n",
    "    return client\n",
    "    .then(() => importer.interpretAll([\n",
    "        'get all elements until',\n",
    "        'all xpath elements',\n",
    "    ]))\n",
    "    .then(r => {\n",
    "        getAllUntil = r[0].runFresherInNewContext({client});\n",
    "        getAllXPath = r[1].runFresherInNewContext({client});\n",
    "        return client.getUrl();\n",
    "    })\n",
    "    .url('https://www.linkedin.com/mynetwork/invite-connect/connections/')\n",
    "    .pause(3000)\n",
    "    .then(() => getAllUntil(\n",
    "        false,\n",
    "        '//a[contains(@href, \"/in/\")]/@href',\n",
    "        friends,\n",
    "        (a, b) => a == b,\n",
    "        (i) => i < 100\n",
    "    ))\n",
    "    .then(r => r.filter((l, i, arr) => arr.indexOf(l) === i))\n",
    "    .catch(e => console.log(e))\n",
    "};\n",
    "module.exports = listAllConnections;\n",
    "listAllConnections;\n",
    "\n"
   ]
  },
  {
   "cell_type": "code",
   "execution_count": 1,
   "metadata": {},
   "outputs": [
    {
     "name": "stdout",
     "output_type": "stream",
     "text": [
      "Initializing webdriver on localhost\n"
     ]
    }
   ],
   "source": [
    "var importer = require('../Core');\n",
    "\n",
    "$$.async();\n",
    "var syncLinkedInContacts;\n",
    "importer.interpretAll('sync linkedin contacts')\n",
    ".then(r => syncLinkedInContacts = r.runInNewContext())\n",
    ".then(() => syncLinkedInContacts())\n",
    ".then(r => $$.sendResult(r))\n",
    ".catch(e => $$.sendError(e))\n",
    "\n"
   ]
  },
  {
   "cell_type": "markdown",
   "metadata": {},
   "source": [
    "sync facebook contacts with google contacts?\n",
    "\n"
   ]
  },
  {
   "cell_type": "code",
   "execution_count": null,
   "metadata": {},
   "outputs": [],
   "source": [
    "\n",
    "\n"
   ]
  },
  {
   "cell_type": "markdown",
   "metadata": {},
   "source": [
    "update google contact?\n",
    "\n"
   ]
  },
  {
   "cell_type": "code",
   "execution_count": null,
   "metadata": {},
   "outputs": [],
   "source": [
    "var google = require('googleapis');\n",
    "var people = google.people('v1');\n",
    "var importer = require('../Core');\n",
    "\n",
    "var options = {scopes: [\n",
    "    'https://www.googleapis.com/auth/contacts'\n",
    "]};\n",
    "\n",
    "var googlePromise = (func) => {\n",
    "    return new Promise((resolve, reject) => func((err, response) => {\n",
    "        if(err) reject(err);\n",
    "        try {\n",
    "        } catch (e) {\n",
    "            reject(e);\n",
    "        }\n",
    "        setTimeout(() => resolve(response), 100);\n",
    "    })).catch(e => console.log(e));\n",
    "};\n",
    "\n",
    "var listContacts = (contact) => {\n",
    "    var getOauthClient;\n",
    "    return importer.interpretAll([\n",
    "        'import google calendar api',\n",
    "    ])\n",
    "    .then(r => {\n",
    "        getOauthClient = r[0].runInNewContext()\n",
    "    })\n",
    "    .then(() => getOauthClient(options))\n",
    "    .then(() => {\n",
    "        return googlePromise(\n",
    "            people.people.connections.list.bind(people.people.connections, {\n",
    "                resourceName: 'people/me',\n",
    "                personFields: 'emailAddresses,names,birthdays,phoneNumbers',\n",
    "                auth: options.auth,\n",
    "            }))\n",
    "    })\n",
    "    .then(r => r.connections)\n",
    "    .catch(e => console.log(e))\n",
    "};\n",
    "\n",
    "var updateContact = (contact) => {\n",
    "    return listContacts(contact)\n",
    "};\n",
    "\n",
    "module.exports = updateContact;\n",
    "updateContact;\n",
    "\n"
   ]
  },
  {
   "cell_type": "code",
   "execution_count": null,
   "metadata": {},
   "outputs": [],
   "source": []
  }
 ],
 "metadata": {
  "kernelspec": {
   "display_name": "Javascript (Node.js)",
   "language": "javascript",
   "name": "javascript"
  },
  "language_info": {
   "file_extension": ".js",
   "mimetype": "application/javascript",
   "name": "javascript",
   "version": "8.6.0"
  }
 },
 "nbformat": 4,
 "nbformat_minor": 2
}
