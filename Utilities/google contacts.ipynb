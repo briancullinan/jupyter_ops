{
 "cells": [
  {
   "cell_type": "markdown",
   "metadata": {},
   "source": [
    "sync linkedin contacts with google contacts?\n",
    "\n"
   ]
  },
  {
   "cell_type": "code",
   "execution_count": 2,
   "metadata": {},
   "outputs": [
    {
     "data": {
      "text/plain": [
       "[Function: syncLinkedInContacts]"
      ]
     },
     "execution_count": 2,
     "metadata": {},
     "output_type": "execute_result"
    }
   ],
   "source": [
    "var importer = require('../Core');\n",
    "\n",
    "var updateContact, listAllConnections, scrapeEntireLinkedInProfile,\n",
    "    runSeleniumCell;\n",
    "var syncLinkedInContacts = () => {\n",
    "    return importer.interpretAll([\n",
    "        'update google contact',\n",
    "        'selenium cell'\n",
    "    ])\n",
    "    .then(r => {\n",
    "        updateContact = r[0].runInNewContext();\n",
    "        runSeleniumCell = r[1].runInNewContext();\n",
    "        return runSeleniumCell([\n",
    "            'scrape linkedin contacts',\n",
    "            'scrape entire linkedin profile',\n",
    "        ]);\n",
    "    })\n",
    "    .then(r => {\n",
    "        listAllConnections = r[0];\n",
    "        scrapeEntireLinkedInProfile = r[1];\n",
    "        return listAllConnections();\n",
    "    })\n",
    "    .then((connections) => importer.runAllPromises(connections.slice(0, 1)\n",
    "        .map(c => resolve => \n",
    "             scrapeEntireLinkedInProfile('https://linkedin.com' + c)\n",
    "             .then(r => {\n",
    "                  console.log(r);\n",
    "                  return updateContact({\n",
    "                      displayName: r.name.split(/\\s/).join('.*')});\n",
    "             })\n",
    "             .then(r => resolve(r))\n",
    "             .catch(e => console.log(e))\n",
    "            )))\n",
    "    \n",
    "};\n",
    "\n",
    "module.exports = syncLinkedInContacts;\n",
    "syncLinkedInContacts;\n",
    "\n"
   ]
  },
  {
   "cell_type": "markdown",
   "metadata": {},
   "source": [
    "scrape entire linkedin profile?\n",
    "\n"
   ]
  },
  {
   "cell_type": "code",
   "execution_count": null,
   "metadata": {},
   "outputs": [],
   "source": [
    "var importer = require('../Core');\n",
    "\n",
    "var loginLinkedIn, readLinkedInProfileInfo;\n",
    "var scrapeEntireLinkedInProfile = (profile) => {\n",
    "    return client\n",
    "    .then(() => importer.interpretAll([\n",
    "        'log in linkedin',\n",
    "        'scrape linkedin profile',\n",
    "    ]))\n",
    "    .then(r => {\n",
    "        loginLinkedIn = r[0].runInNewContext({client, getCredentials});\n",
    "        readLinkedInProfileInfo = r[1].runInNewContext({client});\n",
    "        return loginLinkedIn();\n",
    "    })\n",
    "    .execute(url => {\n",
    "        var a = document.createElement('a');\n",
    "        a.setAttribute('href', url);\n",
    "        a.href = url;\n",
    "        a.style.position = 'absolute';\n",
    "        a.style.zIndex = 4294967295;\n",
    "        a.style.top = 0;\n",
    "        a.style.left = 0;\n",
    "        a.style.bottom = 0;\n",
    "        a.style.right = 0;\n",
    "        document.body.appendChild(a);\n",
    "        setTimeout(() => document.body.removeChild(a), 2000)\n",
    "    }, profile)\n",
    "    .click('a[href*=\"' + profile + '\"]')\n",
    "    .then(() => readLinkedInProfileInfo())\n",
    "    .catch(e => console.log(e))\n",
    "}\n",
    "module.exports = scrapeEntireLinkedInProfile;\n",
    "scrapeEntireLinkedInProfile;\n",
    "\n"
   ]
  },
  {
   "cell_type": "markdown",
   "metadata": {},
   "source": [
    "scrape linkedin contacts?\n",
    "\n"
   ]
  },
  {
   "cell_type": "code",
   "execution_count": null,
   "metadata": {},
   "outputs": [],
   "source": [
    "var importer = require('../Core');\n",
    "var fs = require('fs');\n",
    "\n",
    "var PROFILE_PATH = process.env.HOME || process.env.HOMEPATH || process.env.USERPROFILE;\n",
    "var project = PROFILE_PATH + '/Conversations';\n",
    "\n",
    "var getAllUntil, getAllXPath;\n",
    "var listAllConnections = () => {\n",
    "    var friends = [];\n",
    "    if(fs.existsSync(project + '/connections.json')) {\n",
    "        return Promise.resolve(JSON.parse(\n",
    "            fs.readFileSync(project + '/connections.json')));\n",
    "    }\n",
    "    return client\n",
    "    .then(() => importer.interpretAll([\n",
    "        'get all elements until',\n",
    "        'all xpath elements',\n",
    "    ]))\n",
    "    .then(r => {\n",
    "        getAllUntil = r[0].runFresherInNewContext({client});\n",
    "        getAllXPath = r[1].runFresherInNewContext({client});\n",
    "        return client.getUrl();\n",
    "    })\n",
    "    .url('https://www.linkedin.com/mynetwork/invite-connect/connections/')\n",
    "    .pause(3000)\n",
    "    .then(() => getAllUntil(\n",
    "        false,\n",
    "        '//a[contains(@href, \"/in/\")]/@href',\n",
    "        friends,\n",
    "        (a, b) => a == b,\n",
    "        (i) => i < 100\n",
    "    ))\n",
    "    .then(r => r.filter((l, i, arr) => arr.indexOf(l) === i))\n",
    "    .then(r => {\n",
    "        fs.writeFileSync(\n",
    "            project + '/connections.json',\n",
    "            JSON.stringify(r, null, 4))\n",
    "        return r;\n",
    "    })\n",
    "    .catch(e => console.log(e))\n",
    "};\n",
    "module.exports = listAllConnections;\n",
    "listAllConnections;\n",
    "\n"
   ]
  },
  {
   "cell_type": "code",
   "execution_count": null,
   "metadata": {},
   "outputs": [],
   "source": [
    "var importer = require('../Core');\n",
    "\n",
    "$$.async();\n",
    "var syncLinkedInContacts;\n",
    "importer.interpretAll('sync linkedin contacts')\n",
    ".then(r => syncLinkedInContacts = r.runInNewContext())\n",
    ".then(() => syncLinkedInContacts())\n",
    ".then(r => $$.sendResult(r.map(c => c.names)))\n",
    ".catch(e => $$.sendError(e))\n",
    "\n"
   ]
  },
  {
   "cell_type": "markdown",
   "metadata": {},
   "source": [
    "sync facebook contacts with google contacts?\n",
    "\n"
   ]
  },
  {
   "cell_type": "code",
   "execution_count": null,
   "metadata": {},
   "outputs": [],
   "source": [
    "\n",
    "\n"
   ]
  },
  {
   "cell_type": "markdown",
   "metadata": {},
   "source": [
    "update google contact?\n",
    "\n"
   ]
  },
  {
   "cell_type": "code",
   "execution_count": null,
   "metadata": {},
   "outputs": [],
   "source": [
    "var google = require('googleapis');\n",
    "var people = google.people('v1');\n",
    "var importer = require('../Core');\n",
    "\n",
    "var options = {scopes: [\n",
    "    'https://www.googleapis.com/auth/contacts'\n",
    "]};\n",
    "\n",
    "var findMatch = (arr, contact) => {\n",
    "    return arr.filter(c => typeof c.names !== 'undefined'\n",
    "                      && c.names[0].displayName\n",
    "                          .match(new RegExp(contact.displayName, 'ig')));\n",
    "}\n",
    "\n",
    "var googlePromise = (func) => {\n",
    "    return new Promise((resolve, reject) => func((err, response) => {\n",
    "        if(err) reject(err);\n",
    "        try {\n",
    "        } catch (e) {\n",
    "            reject(e);\n",
    "        }\n",
    "        setTimeout(() => resolve(response), 100);\n",
    "    })).catch(e => console.log(e));\n",
    "};\n",
    "\n",
    "var contactCache = [];\n",
    "var listContacts = (contact, done = false) => {\n",
    "    // return matching contacts or empty if there are no more pages\n",
    "    return googlePromise(\n",
    "        people.people.connections.list.bind(people.people.connections, {\n",
    "            resourceName: 'people/me',\n",
    "            personFields: 'emailAddresses,names,birthdays,phoneNumbers',\n",
    "            auth: options.auth,\n",
    "            pageToken: options.pageToken,\n",
    "        }))\n",
    "    .then(r => {\n",
    "        options.pageToken = r.nextPageToken;\n",
    "        done = !options.pageToken; \n",
    "        return r.connections;\n",
    "    })\n",
    "    .then(r => {\n",
    "        for(var c of r) {\n",
    "            contactCache.push(c);\n",
    "        }\n",
    "        if(done) {\n",
    "            const contacts = findMatch(contactCache, contact);\n",
    "            return contacts;\n",
    "        }\n",
    "        return listContacts(contact, done);\n",
    "    })\n",
    "    .catch(e => console.log(e))\n",
    "};\n",
    "\n",
    "var updateContact = (contact) => {\n",
    "    var getOauthClient;\n",
    "    return importer.interpretAll([\n",
    "        'import google calendar api',\n",
    "    ])\n",
    "    .then(r => {\n",
    "        getOauthClient = r[0].runInNewContext();\n",
    "    })\n",
    "    .then(() => getOauthClient(options))\n",
    "    .then(() => {\n",
    "        options.nextPageToken = null;\n",
    "        contactCache = [];\n",
    "        return listContacts(contact);\n",
    "    })\n",
    "    .catch(e => console.log(e))\n",
    "};\n",
    "\n",
    "module.exports = updateContact;\n",
    "updateContact;\n",
    "\n"
   ]
  },
  {
   "cell_type": "code",
   "execution_count": null,
   "metadata": {},
   "outputs": [],
   "source": []
  }
 ],
 "metadata": {
  "kernelspec": {
   "display_name": "Javascript (Node.js)",
   "language": "javascript",
   "name": "javascript"
  },
  "language_info": {
   "file_extension": ".js",
   "mimetype": "application/javascript",
   "name": "javascript",
   "version": "8.6.0"
  }
 },
 "nbformat": 4,
 "nbformat_minor": 2
}
