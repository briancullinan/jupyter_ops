{
 "cells": [
  {
   "cell_type": "markdown",
   "metadata": {
    "inputHidden": false,
    "outputHidden": false
   },
   "source": [
    "How to find Tuesdays late in the month?"
   ]
  },
  {
   "cell_type": "code",
   "execution_count": 4,
   "metadata": {
    "collapsed": false,
    "inputHidden": false,
    "outputHidden": false
   },
   "outputs": [
    {
     "name": "stdout",
     "output_type": "stream",
     "text": [
      "29/8\r\n",
      "26/9\r\n",
      "31/10\r\n",
      "28/11\r\n",
      "26/12\n"
     ]
    }
   ],
   "source": [
    "function getTuesdays(month, year) {\r",
    "    var d = new Date(year, month, 1),\r",
    "        tuesdays = [];\r",
    "\r",
    "    d.setDate(d.getDate() + (9 - d.getDay()) % 7)\r",
    "    while (d.getMonth() === month) {\r",
    "        tuesdays.push(new Date(d.getTime()));\r",
    "        d.setDate(d.getDate() + 7);\r",
    "    }\r",
    "\r",
    "    return tuesdays;\r",
    "}\r",
    "\r",
    "var month = (new Date()).getMonth();\r",
    "var results = [];\r",
    "for (var m = month; month <= 12; month++) {\r",
    "    results = results.concat(getTuesdays(month, 2017).filter((d) => d.getDate() > 25));\r",
    "}\r",
    "console.log(results.map(d => d.getDate() + '/' + (d.getMonth() + 1)).join('\\r\\n'))"
   ]
  },
  {
   "cell_type": "markdown",
   "metadata": {},
   "source": [
    "Convert a date to ISO?"
   ]
  },
  {
   "cell_type": "code",
   "execution_count": 5,
   "metadata": {
    "collapsed": false,
    "inputHidden": false,
    "outputHidden": false
   },
   "outputs": [
    {
     "data": {
      "text/plain": [
       "[Function: ISODateString]"
      ]
     },
     "execution_count": 5,
     "metadata": {},
     "output_type": "execute_result"
    }
   ],
   "source": [
    "var ISODateString = (d) => {\r",
    "    function pad(n) {\r",
    "        return n < 10 ? '0' + n : n\r",
    "    }\r",
    "\r",
    "    return d.getUTCFullYear() + '-'\r",
    "        + pad(d.getUTCMonth() + 1) + '-'\r",
    "        + pad(d.getUTCDate()) + 'T'\r",
    "        + pad(d.getUTCHours()) + ':'\r",
    "        + pad(d.getUTCMinutes()) + ':'\r",
    "        + pad(d.getUTCSeconds()) + '-00:00';\r",
    "};\r",
    "module.exports = ISODateString;\r",
    "ISODateString;\r",
    "\r",
    ""
   ]
  },
  {
   "cell_type": "markdown",
   "metadata": {},
   "source": [
    "How to sum a list of events?\n",
    "\n"
   ]
  },
  {
   "cell_type": "code",
   "execution_count": 6,
   "metadata": {
    "collapsed": false,
    "inputHidden": false,
    "outputHidden": false
   },
   "outputs": [
    {
     "name": "stdout",
     "output_type": "stream",
     "text": [
      "53\n"
     ]
    }
   ],
   "source": [
    "// sum up events\r",
    "var sumEvents = (events) => {\r",
    "    var total = 0;\r",
    "    events.forEach(e => {\r",
    "        if (typeof e.event.end === 'undefined') {\r",
    "            console.log(e.event);\r",
    "        }\r",
    "        total += new Date(e.event.end.dateTime).getTime()\r",
    "            - new Date(e.event.start.dateTime).getTime();\r",
    "    });\r",
    "    return total / 1000 / 60 / 60;\r",
    "};\r",
    "module.exports = sumEvents;\r",
    "sumEvents;\r",
    "\r",
    ""
   ]
  },
  {
   "cell_type": "markdown",
   "metadata": {},
   "source": [
    "Number of days between events?"
   ]
  },
  {
   "cell_type": "code",
   "execution_count": null,
   "metadata": {},
   "outputs": [],
   "source": [
    "// subtract the events from the previous one\r",
    "var filterDistant = (events, days = 28) => {\r",
    "    var contributing = [];\r",
    "    events.sort((a, b) => a.start - b.start);\r",
    "    events.forEach((e, i) => {\r",
    "        if (i == 0) {\r",
    "            return;\r",
    "        }\r",
    "        var diff = (e.start.getTime() - events[i - 1].start.getTime())\r",
    "            / 1000 / 60 / 60 / 24;\r",
    "        // if it is greater than 1 months it can't help our graph\r",
    "        if (diff < days && diff > 0) {\r",
    "            contributing[contributing.length] = {\r",
    "                days: diff,\r",
    "                start: e.start,\r",
    "                event: e.event,\r",
    "                i: contributing.length\r",
    "            };\r",
    "        }\r",
    "    });\r",
    "    return contributing;\r",
    "};\r",
    "module.exports = filterDistant;\r",
    "filterDistant;\r",
    "\r",
    "    "
   ]
  },
  {
   "cell_type": "markdown",
   "metadata": {},
   "source": [
    "How to display recurrence line graph?\n"
   ]
  },
  {
   "cell_type": "code",
   "execution_count": 25,
   "metadata": {
    "collapsed": false,
    "inputHidden": false,
    "outputHidden": false
   },
   "outputs": [],
   "source": [
    "var execSync = require('child_process').execSync;\r",
    "try {\r",
    "    require.resolve('d3-node');\r",
    "} catch (e) {\r",
    "    execSync('npm install d3-node');\r",
    "}\r",
    "var D3Node = require('d3-node');\r",
    "\r",
    "var graphDates = (events) => {\r",
    "    var d3n = new D3Node(); // initializes D3 with container element \r",
    "    var d3 = d3n.d3;\r",
    "\r",
    "    // set the dimensions and margins of the graph\r",
    "    var margin = {top: 20, right: 20, bottom: 30, left: 50},\r",
    "        width = 700 - margin.left - margin.right,\r",
    "        height = 500 - margin.top - margin.bottom;\r",
    "\r",
    "    // set the ranges\r",
    "    var x = d3.scaleTime().range([0, width]);\r",
    "    var y = d3.scaleLinear().range([height, 0]);\r",
    "\r",
    "    // define the line\r",
    "    var valueline = d3.line()\r",
    "        .x(function (d) {\r",
    "            return x(d.start);\r",
    "        })\r",
    "        .y(function (d) {\r",
    "            return y(d.days);\r",
    "        });\r",
    "\r",
    "    // append the svg obgect to the body of the page\r",
    "    // appends a 'group' element to 'svg'\r",
    "    // moves the 'group' element to the top left margin\r",
    "    var svg = d3n.createSVG(\r",
    "        width + margin.left + margin.right,\r",
    "        height + margin.top + margin.bottom)\r",
    "        .append('g')\r",
    "        .attr(\r",
    "            'transform',\r",
    "            'translate(' + margin.left + ',' + margin.top + ')');\r",
    "\r",
    "    // Scale the range of the data\r",
    "    x.domain(d3.extent(events, function (d) {\r",
    "        return d.start;\r",
    "    }));\r",
    "    y.domain([0, d3.max(events, function (d) {\r",
    "        return d.days;\r",
    "    })]);\r",
    "\r",
    "    // Add the valueline path.\r",
    "    svg.append('path')\r",
    "        .data([events])\r",
    "        .attr('class', 'line')\r",
    "        .attr('fill', 'none')\r",
    "        .attr('stroke', '#000')\r",
    "        .attr('d', valueline);\r",
    "\r",
    "    // Add the X Axis\r",
    "    svg.append('g')\r",
    "        .attr('transform', 'translate(0,' + height + ')')\r",
    "        .call(d3.axisBottom(x));\r",
    "\r",
    "    // Add the Y Axis\r",
    "    svg.append('g')\r",
    "        .call(d3.axisLeft(y));\r",
    "\r",
    "    return d3n.svgString();\r",
    "};\r",
    "module.exports = graphDates;\r",
    "graphDates;\r",
    "\r",
    ""
   ]
  },
  {
   "cell_type": "code",
   "execution_count": null,
   "metadata": {
    "collapsed": false,
    "inputHidden": false,
    "outputHidden": false
   },
   "outputs": [],
   "source": [
    ""
   ]
  }
 ],
 "metadata": {
  "kernel_info": {
   "name": "node_nteract"
  },
  "kernelspec": {
   "display_name": "Javascript (Node.js)",
   "language": "javascript",
   "name": "javascript"
  },
  "language_info": {
   "file_extension": ".js",
   "mimetype": "application/javascript",
   "name": "javascript",
   "version": "8.6.0"
  }
 },
 "nbformat": 4,
 "nbformat_minor": 4
}