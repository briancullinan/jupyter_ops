{
 "cells": [
  {
   "cell_type": "markdown",
   "metadata": {
    "inputHidden": false,
    "outputHidden": false
   },
   "source": [
    "How to find Tuesdays late in the month?"
   ]
  },
  {
   "cell_type": "code",
   "execution_count": 4,
   "metadata": {
    "collapsed": false,
    "inputHidden": false,
    "outputHidden": false
   },
   "outputs": [
    {
     "name": "stdout",
     "output_type": "stream",
     "text": [
      "29/8\n",
      "26/9\n",
      "31/10\n",
      "28/11\n",
      "26/12\n"
     ]
    }
   ],
   "source": [
    "function getTuesdays(month, year) {\n",
    "    var d = new Date(year, month, 1),\n",
    "        tuesdays = [];\n",
    "\n",
    "    d.setDate(d.getDate() + (9 - d.getDay()) % 7)\n",
    "    while (d.getMonth() === month) {\n",
    "        tuesdays.push(new Date(d.getTime()));\n",
    "        d.setDate(d.getDate() + 7);\n",
    "    }\n",
    "\n",
    "    return tuesdays;\n",
    "}\n",
    "\n",
    "var month = (new Date()).getMonth();\n",
    "var results = [];\n",
    "for (var m = month; month <= 12; month++) {\n",
    "    results = results.concat(getTuesdays(month, 2017).filter((d) => d.getDate() > 25));\n",
    "}\n",
    "console.log(results.map(d => d.getDate() + '/' + (d.getMonth() + 1)).join('\\r\\n'))"
   ]
  },
  {
   "cell_type": "markdown",
   "metadata": {},
   "source": [
    "Convert a date to ISO?"
   ]
  },
  {
   "cell_type": "code",
   "execution_count": 5,
   "metadata": {
    "collapsed": false,
    "inputHidden": false,
    "outputHidden": false
   },
   "outputs": [
    {
     "data": {
      "text/plain": [
       "[Function: ISODateString]"
      ]
     },
     "execution_count": 5,
     "metadata": {},
     "output_type": "execute_result"
    }
   ],
   "source": [
    "function ISODateString(d) {\n",
    "    function pad(n) {\n",
    "        return n < 10 ? '0' + n : n\n",
    "    }\n",
    "\n",
    "    return d.getUTCFullYear() + '-'\n",
    "        + pad(d.getUTCMonth() + 1) + '-'\n",
    "        + pad(d.getUTCDate()) + 'T'\n",
    "        + pad(d.getUTCHours()) + ':'\n",
    "        + pad(d.getUTCMinutes()) + ':'\n",
    "        + pad(d.getUTCSeconds()) + '-00:00';\n",
    "};\n",
    "module.exports = ISODateString;\n",
    "ISODateString;\n",
    "\n"
   ]
  },
  {
   "cell_type": "markdown",
   "metadata": {},
   "source": [
    "How to sum a list of events?\n",
    "\n"
   ]
  },
  {
   "cell_type": "code",
   "execution_count": 6,
   "metadata": {
    "collapsed": false,
    "inputHidden": false,
    "outputHidden": false
   },
   "outputs": [
    {
     "name": "stdout",
     "output_type": "stream",
     "text": [
      "53\n"
     ]
    }
   ],
   "source": [
    "// sum up events\n",
    "function sumEvents(events) {\n",
    "    var total = 0;\n",
    "    events.forEach(e => {\n",
    "        if (typeof e.event.end === 'undefined') {\n",
    "            console.log(e.event);\n",
    "        }\n",
    "        total += new Date(e.event.end.dateTime).getTime()\n",
    "            - new Date(e.event.start.dateTime).getTime();\n",
    "    });\n",
    "    return total / 1000 / 60 / 60;\n",
    "};\n",
    "module.exports = sumEvents;\n",
    "sumEvents;\n",
    "\n"
   ]
  },
  {
   "cell_type": "markdown",
   "metadata": {},
   "source": [
    "Number of days between events?"
   ]
  },
  {
   "cell_type": "code",
   "execution_count": null,
   "metadata": {},
   "outputs": [],
   "source": [
    "// subtract the events from the previous one\n",
    "function filterDistant(events, days = 28) {\n",
    "    var contributing = [];\n",
    "    events.sort((a, b) => a.start - b.start);\n",
    "    events.forEach((e, i) => {\n",
    "        if (i == 0) {\n",
    "            return;\n",
    "        }\n",
    "        var diff = (e.start.getTime() - events[i - 1].start.getTime())\n",
    "            / 1000 / 60 / 60 / 24;\n",
    "        // if it is greater than 1 months it can't help our graph\n",
    "        if (diff < days && diff > 0) {\n",
    "            contributing[contributing.length] = {\n",
    "                days: diff,\n",
    "                start: e.start,\n",
    "                event: e.event,\n",
    "                i: contributing.length\n",
    "            };\n",
    "        }\n",
    "    });\n",
    "    return contributing;\n",
    "};\n",
    "module.exports = filterDistant;\n",
    "filterDistant;\n",
    "\n",
    "    "
   ]
  },
  {
   "cell_type": "markdown",
   "metadata": {},
   "source": [
    "How to display recurrence line graph?\n"
   ]
  },
  {
   "cell_type": "code",
   "execution_count": 25,
   "metadata": {
    "collapsed": false,
    "inputHidden": false,
    "outputHidden": false
   },
   "outputs": [],
   "source": [
    "var D3Node = require('d3-node');\n",
    "\n",
    "function graphDates(events) {\n",
    "    var d3n = new D3Node(); // initializes D3 with container element \n",
    "    var d3 = d3n.d3;\n",
    "\n",
    "    // set the dimensions and margins of the graph\n",
    "    var margin = {top: 20, right: 20, bottom: 30, left: 50},\n",
    "        width = 700 - margin.left - margin.right,\n",
    "        height = 500 - margin.top - margin.bottom;\n",
    "\n",
    "    // set the ranges\n",
    "    var x = d3.scaleTime().range([0, width]);\n",
    "    var y = d3.scaleLinear().range([height, 0]);\n",
    "\n",
    "    // define the line\n",
    "    var valueline = d3.line()\n",
    "        .x(function (d) {\n",
    "            return x(d.start);\n",
    "        })\n",
    "        .y(function (d) {\n",
    "            return y(d.days);\n",
    "        });\n",
    "\n",
    "    // append the svg obgect to the body of the page\n",
    "    // appends a 'group' element to 'svg'\n",
    "    // moves the 'group' element to the top left margin\n",
    "    var svg = d3n.createSVG(\n",
    "        width + margin.left + margin.right,\n",
    "        height + margin.top + margin.bottom)\n",
    "        .append('g')\n",
    "        .attr(\n",
    "            'transform',\n",
    "            'translate(' + margin.left + ',' + margin.top + ')');\n",
    "\n",
    "    // Scale the range of the data\n",
    "    x.domain(d3.extent(events, function (d) {\n",
    "        return d.start;\n",
    "    }));\n",
    "    y.domain([0, d3.max(events, function (d) {\n",
    "        return d.days;\n",
    "    })]);\n",
    "\n",
    "    // Add the valueline path.\n",
    "    svg.append('path')\n",
    "        .data([events])\n",
    "        .attr('class', 'line')\n",
    "        .attr('fill', 'none')\n",
    "        .attr('stroke', '#000')\n",
    "        .attr('d', valueline);\n",
    "\n",
    "    // Add the X Axis\n",
    "    svg.append('g')\n",
    "        .attr('transform', 'translate(0,' + height + ')')\n",
    "        .call(d3.axisBottom(x));\n",
    "\n",
    "    // Add the Y Axis\n",
    "    svg.append('g')\n",
    "        .call(d3.axisLeft(y));\n",
    "\n",
    "    return d3n.svgString();\n",
    "};\n",
    "module.exports = graphDates;\n",
    "graphDates;\n",
    "\n"
   ]
  },
  {
   "cell_type": "code",
   "execution_count": null,
   "metadata": {
    "collapsed": false,
    "inputHidden": false,
    "outputHidden": false
   },
   "outputs": [],
   "source": []
  }
 ],
 "metadata": {
  "kernel_info": {
   "name": "node_nteract"
  },
  "kernelspec": {
   "display_name": "Javascript (Node.js)",
   "language": "javascript",
   "name": "javascript"
  },
  "language_info": {
   "file_extension": ".js",
   "mimetype": "application/javascript",
   "name": "javascript",
   "version": "8.8.1"
  }
 },
 "nbformat": 4,
 "nbformat_minor": 4
}
