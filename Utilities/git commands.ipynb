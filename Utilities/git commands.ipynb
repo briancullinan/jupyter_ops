{
 "cells": [
  {
   "cell_type": "markdown",
   "metadata": {},
   "source": [
    "git discard whitespace?\n",
    "\n",
    "https://stackoverflow.com/questions/3515597/add-only-non-whitespace-changes\n"
   ]
  },
  {
   "cell_type": "code",
   "execution_count": null,
   "metadata": {},
   "outputs": [],
   "source": [
    "git diff -U0 -w --no-color | git apply --cached --ignore-whitespace --unidiff-zero -\n"
   ]
  },
  {
   "cell_type": "markdown",
   "metadata": {},
   "source": [
    "compare git branches?\n",
    "\n"
   ]
  },
  {
   "cell_type": "code",
   "execution_count": null,
   "metadata": {},
   "outputs": [],
   "source": [
    "git difftool --tool=b3 branch1..branch2\n",
    "\n",
    "git diff > save.patch\n",
    "patch -p1 < save.patch\n",
    "\n",
    "git diff --no-prefix > save.patch\n",
    "patch -p0 < save.patch\n",
    "\n"
   ]
  },
  {
   "cell_type": "markdown",
   "metadata": {},
   "source": [
    "interesting git commands?\n"
   ]
  },
  {
   "cell_type": "code",
   "execution_count": null,
   "metadata": {},
   "outputs": [],
   "source": [
    "git log --graph --oneline --decorate --all\n",
    "\n",
    "git log --graph --all\n",
    "\n",
    "git show-branch --list\n"
   ]
  },
  {
   "cell_type": "markdown",
   "metadata": {},
   "source": [
    "cache git credentials?\n",
    "\n"
   ]
  },
  {
   "cell_type": "code",
   "execution_count": null,
   "metadata": {},
   "outputs": [],
   "source": [
    "git config --global credential.helper cache\n",
    "\n",
    "git config --global credential.helper 'cache --timeout 31536000'\n"
   ]
  }
 ],
 "metadata": {
  "kernelspec": {
   "display_name": "Bash",
   "language": "bash",
   "name": "bash"
  },
  "language_info": {
   "codemirror_mode": "shell",
   "file_extension": ".sh",
   "mimetype": "text/x-sh",
   "name": "bash"
  }
 },
 "nbformat": 4,
 "nbformat_minor": 2
}
