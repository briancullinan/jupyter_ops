{
 "cells": [
  {
   "cell_type": "code",
   "execution_count": null,
   "metadata": {},
   "outputs": [],
   "source": [
    "// How to flatten and array in javascript?\n",
    "var flatten = arr => arr.reduce((acc, val) =>\n",
    "    acc.concat(Array.isArray(val) ? flatten(val) : val), []);\n",
    "\n",
    "Array.prototype.flatten = function () {\n",
    "    return flatten(this)\n",
    "};\n",
    "\n",
    "// How to escape a string for regex?\n",
    "function escapeRegExp(str) {\n",
    "    return str.replace(/[\\-\\[\\]\\/\\{\\}\\(\\)\\*\\+\\?\\.\\\\\\^\\$\\|]/g, '\\\\$&');\n",
    "}\n",
    "\n",
    "\n"
   ]
  }
 ],
 "metadata": {
  "kernelspec": {
   "display_name": "Javascript (Node.js)",
   "language": "javascript",
   "name": "javascript"
  },
  "language_info": {
   "file_extension": ".js",
   "mimetype": "application/javascript",
   "name": "javascript",
   "version": "8.8.1"
  }
 },
 "nbformat": 4,
 "nbformat_minor": 2
}
