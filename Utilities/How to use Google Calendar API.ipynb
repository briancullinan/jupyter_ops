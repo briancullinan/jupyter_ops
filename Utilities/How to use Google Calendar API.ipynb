{
  "cells": [
    {
      "cell_type": "markdown",
      "source": [
        "# How to use Google calendar API?\n",
        "\n",
        "How to import Google calendar API?\n"
      ],
      "metadata": {}
    },
    {
      "cell_type": "code",
      "source": [
        "var execSync = require('child_process').execSync;\n",
        "try {\n",
        "    require.resolve('googleapis');\n",
        "    require.resolve('google-auth-library');\n",
        "} catch (e) {\n",
        "    execSync('npm install googleapis google-auth-library');\n",
        "}\n",
        "var google = require('googleapis');\n",
        "var googleAuth = require('google-auth-library');\n",
        "\n",
        "var path = require('path');\n",
        "var corePath = path.resolve(path.join(__dirname, '..', 'Core'));\n",
        "var importer = require(corePath);\n",
        "var seleniumPath = path.join('..', 'Selenium', 'How to authorize Google apps.ipynb');\n",
        "\n",
        "// Authorize a client with the loaded credentials, then call the\n",
        "  // Google Calendar API.\n",
        "var oauth2Client, authorize, ISODateString;\n",
        "var getOauthClient = () => {\n",
        "    return importer.importNotebook(seleniumPath)\n",
        "        .then(r => authorize = r['authorize'])\n",
        "        .then(() => authorize(['https://www.googleapis.com/auth/calendar']))\n",
        "        .then(c => {\n",
        "            var auth = new googleAuth();\n",
        "            oauth2Client = new auth.OAuth2(\n",
        "                c.clientId_, c.clientSecret_, c.redirectUri_);\n",
        "            oauth2Client.credentials = c.credentials;\n",
        "            return oauth2Client;\n",
        "        })\n",
        "};\n",
        "(getOauthClient);\n"
      ],
      "outputs": [
        {
          "output_type": "execute_result",
          "execution_count": 1,
          "data": {
            "text/plain": [
              "[Function: getOauthClient]"
            ]
          },
          "metadata": {}
        }
      ],
      "execution_count": 1,
      "metadata": {
        "collapsed": false,
        "outputHidden": false,
        "inputHidden": false
      }
    },
    {
      "cell_type": "markdown",
      "source": [
        "How to list events?"
      ],
      "metadata": {}
    },
    {
      "cell_type": "code",
      "source": [
        "\n",
        "/**\n",
        " * Lists the next 10 events on the user's primary calendar.\n",
        " *\n",
        " * @param {google.auth.OAuth2} auth An authorized OAuth2 client.\n",
        " */\n",
        "var resultEvents = [];\n",
        "var listEvents = (options = {calendarId: 'primary'}) => {\n",
        "    var auth;\n",
        "    return getOauthClient()\n",
        "        .then(r => auth = r)\n",
        "        .then(() => {\n",
        "            if(typeof options['calendarId'] == 'undefined') {\n",
        "                options['calendarId'] = 'primary';\n",
        "            }\n",
        "            var calendar = google.calendar('v3');\n",
        "            var data = Object.assign({}, options, {\n",
        "                auth: auth,\n",
        "                //calendarId: 'p4685f6at8ccctenocjlqgnqss@group.calendar.google.com',\n",
        "                //calendarId: 'rqqhq3me7ggg47chafhmeo6m3s@group.calendar.google.com',\n",
        "                //q: 'work on SOS',\n",
        "                maxResults: 100,\n",
        "                singleEvents: true,\n",
        "                orderBy: 'startTime'\n",
        "            });\n",
        "            return new Promise((resolve, reject) => {\n",
        "                calendar.events.list(data, (err, response) => {\n",
        "                    try {\n",
        "                        var events = processResult(err, response);\n",
        "                        resolve(events);\n",
        "                    } catch (e) {\n",
        "                        reject(e);\n",
        "                    }\n",
        "                });\n",
        "            });\n",
        "    });\n",
        "}\n",
        "\n",
        "(listEvents);\n"
      ],
      "outputs": [
        {
          "output_type": "execute_result",
          "execution_count": 2,
          "data": {
            "text/plain": [
              "[Function: listEvents]"
            ]
          },
          "metadata": {}
        }
      ],
      "execution_count": 2,
      "metadata": {
        "collapsed": false,
        "outputHidden": false,
        "inputHidden": false
      }
    },
    {
      "cell_type": "code",
      "source": [
        "var path = require('path');\n",
        "var corePath = path.resolve(path.join(__dirname, '..', 'Core'));\n",
        "var importer = require(corePath);\n",
        "var interpretPath = path.join('..', 'Core', 'How to interpret all notebooks.ipynb');\n",
        "\n",
        "var interpret, interpretObject, ISODateString;\n",
        "var listEventBetweenTwoDates = (min, max) => {\n",
        "    var startDate = new Date(min);\n",
        "    var endDate = new Date(max);\n",
        "    return importer.importNotebook(interpretPath)\n",
        "    .then((r) => {\n",
        "        interpretObject = r['interpretObject'];\n",
        "        interpret = r['interpret'];\n",
        "        return Promise.all([\n",
        "            interpret('date to ISO')\n",
        "        ]);\n",
        "    })\n",
        "    .then(r => r.map(r => r[0]))\n",
        "    .then(r => interpretObject(r))\n",
        "    .then(r => {\n",
        "        ISODateString = eval(r[0].code);\n",
        "        return listEvents({\n",
        "            timeMin: ISODateString(startDate),\n",
        "            timeMax: ISODateString(endDate),\n",
        "        });\n",
        "    });\n",
        "};\n",
        "(listEventBetweenTwoDates);\n"
      ],
      "outputs": [
        {
          "output_type": "execute_result",
          "execution_count": 3,
          "data": {
            "text/plain": [
              "[Function: listEventBetweenTwoDates]"
            ]
          },
          "metadata": {}
        }
      ],
      "execution_count": 3,
      "metadata": {
        "collapsed": false,
        "outputHidden": false,
        "inputHidden": false
      }
    },
    {
      "cell_type": "code",
      "source": [
        "var processResult = (err, response) => {\n",
        "    if (err) {\n",
        "      console.log('The API returned an error: ' + err);\n",
        "      throw err;\n",
        "    }\n",
        "    resultEvents = []; // reset the array\n",
        "    var events = response.items;\n",
        "    if (events.length == 0) {\n",
        "        console.log('No events found.');\n",
        "    } else {\n",
        "        for (var i = 0; i < events.length; i++) {\n",
        "            var event = events[i];\n",
        "            var start = event.start.dateTime || event.start.date;\n",
        "            resultEvents[resultEvents.length] = {\n",
        "                start: new Date(start), event: event};\n",
        "        }\n",
        "    }\n",
        "    return resultEvents;\n",
        "}\n"
      ],
      "outputs": [],
      "execution_count": 4,
      "metadata": {
        "collapsed": false,
        "outputHidden": false,
        "inputHidden": false
      }
    },
    {
      "cell_type": "markdown",
      "source": [
        "How to test Google calendar API?"
      ],
      "metadata": {}
    },
    {
      "cell_type": "code",
      "source": [
        "\n",
        "$$.async();\n",
        "getOauthClient()\n",
        "    .then(r => listEventBetweenTwoDates(new Date('2016/09/22'), new Date('2016/09/23')))\n",
        "    .then(r => $$.sendResult(r))\n",
        "    .catch(e => $$.sendError(e));\n",
        "\n"
      ],
      "outputs": [
        {
          "output_type": "stream",
          "name": "stdout",
          "text": [
            "Already imported\n",
            "[ 'How to import a notebook.ipynb',\n",
            "  'How to authorize Google apps.ipynb',\n",
            "  'How to interpret all notebooks.ipynb' ]\n"
          ]
        },
        {
          "output_type": "execute_result",
          "execution_count": 5,
          "data": {
            "text/plain": [
              "[ { start: 2016-09-22T21:00:00.000Z,\n",
              "    event: \n",
              "     { kind: 'calendar#event',\n",
              "       etag: '\"2949158680284000\"',\n",
              "       id: 'orp91edose8auoh3itthj8v4uc',\n",
              "       status: 'confirmed',\n",
              "       htmlLink: 'https://www.google.com/calendar/event?eid=b3JwOTFlZG9zZThhdW9oM2l0dGhqOHY0dWMgbWVnYW1pbmRicmlhbkBt',\n",
              "       created: '2016-09-22T21:21:28.000Z',\n",
              "       updated: '2016-09-22T21:22:20.142Z',\n",
              "       summary: 'Established my own legal team',\n",
              "       description: 'Jim Waring - Jim.Waring@phoenix.gov\\nBrad Holm\\nPhoenix City Attorney\\nCity of Phoenix Law Department\\n200 West Washington Street, Suite 1300\\nPhoenix, Arizona 85003\\n(602) 262-7193 (direct)\\n(602) 534-9866 (fax)',\n",
              "       creator: [Object],\n",
              "       organizer: [Object],\n",
              "       start: [Object],\n",
              "       end: [Object],\n",
              "       iCalUID: 'orp91edose8auoh3itthj8v4uc@google.com',\n",
              "       sequence: 0,\n",
              "       reminders: [Object] } },\n",
              "  { start: 2016-09-23T00:00:00.000Z,\n",
              "    event: \n",
              "     { kind: 'calendar#event',\n",
              "       etag: '\"2949134836278000\"',\n",
              "       id: 'c2do2eep2kj98lno5cbbe08e4c',\n",
              "       status: 'confirmed',\n",
              "       htmlLink: 'https://www.google.com/calendar/event?eid=YzJkbzJlZXAya2o5OGxubzVjYmJlMDhlNGMgbWVnYW1pbmRicmlhbkBt',\n",
              "       created: '2016-09-22T18:03:38.000Z',\n",
              "       updated: '2016-09-22T18:03:38.139Z',\n",
              "       summary: 'Call with Stephen about position',\n",
              "       creator: [Object],\n",
              "       organizer: [Object],\n",
              "       start: [Object],\n",
              "       end: [Object],\n",
              "       iCalUID: 'c2do2eep2kj98lno5cbbe08e4c@google.com',\n",
              "       sequence: 0,\n",
              "       reminders: [Object] } },\n",
              "  { start: 2016-09-23T02:00:00.000Z,\n",
              "    event: \n",
              "     { kind: 'calendar#event',\n",
              "       etag: '\"2999281121740000\"',\n",
              "       id: 'fl43jk26blj1rggcbj0dlllbuc',\n",
              "       status: 'confirmed',\n",
              "       htmlLink: 'https://www.google.com/calendar/event?eid=Zmw0M2prMjZibGoxcmdnY2JqMGRsbGxidWMgbWVnYW1pbmRicmlhbkBt',\n",
              "       created: '2016-10-04T18:20:04.000Z',\n",
              "       updated: '2017-07-09T22:49:20.870Z',\n",
              "       summary: 'Hanging out with Aleks and Ela',\n",
              "       location: '21128 N 74th Pl, Scottsdale, AZ 85255, USA',\n",
              "       creator: [Object],\n",
              "       organizer: [Object],\n",
              "       start: [Object],\n",
              "       end: [Object],\n",
              "       iCalUID: 'fl43jk26blj1rggcbj0dlllbuc@google.com',\n",
              "       sequence: 2,\n",
              "       reminders: [Object] } },\n",
              "  { start: 2016-09-23T03:00:00.000Z,\n",
              "    event: \n",
              "     { kind: 'calendar#event',\n",
              "       etag: '\"2999281126326000\"',\n",
              "       id: 'mub25kiue5rnpmpve8oea5kdok',\n",
              "       status: 'confirmed',\n",
              "       htmlLink: 'https://www.google.com/calendar/event?eid=bXViMjVraXVlNXJucG1wdmU4b2VhNWtkb2sgbWVnYW1pbmRicmlhbkBt',\n",
              "       created: '2016-10-04T18:19:24.000Z',\n",
              "       updated: '2017-07-09T22:49:23.163Z',\n",
              "       summary: 'Dinner with Aleks, Ela, Iga, and Jaime',\n",
              "       location: 'Kazimierz World Wine Bar, 7137 E Stetson Dr, Scottsdale, AZ 85251, USA',\n",
              "       creator: [Object],\n",
              "       organizer: [Object],\n",
              "       start: [Object],\n",
              "       end: [Object],\n",
              "       iCalUID: 'mub25kiue5rnpmpve8oea5kdok@google.com',\n",
              "       sequence: 3,\n",
              "       reminders: [Object] } } ]"
            ]
          },
          "metadata": {}
        }
      ],
      "execution_count": 5,
      "metadata": {
        "collapsed": false,
        "outputHidden": false,
        "inputHidden": false
      }
    },
    {
      "cell_type": "code",
      "source": [],
      "outputs": [],
      "execution_count": 6,
      "metadata": {
        "collapsed": false,
        "outputHidden": false,
        "inputHidden": false
      }
    }
  ],
  "metadata": {
    "kernelspec": {
      "name": "node_nteract",
      "language": "javascript",
      "display_name": "Node.js (nteract)"
    },
    "kernel_info": {
      "name": "node_nteract"
    },
    "language_info": {
      "name": "javascript",
      "version": "6.5.0",
      "mimetype": "application/javascript",
      "file_extension": ".js"
    }
  },
  "nbformat": 4,
  "nbformat_minor": 4
}