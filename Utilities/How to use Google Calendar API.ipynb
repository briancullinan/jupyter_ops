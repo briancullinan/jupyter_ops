{
  "cells": [
    {
      "cell_type": "markdown",
      "source": [
        "# How to use Google calendar API?\n",
        "\n",
        "How to connect to Google calendar API?\n"
      ],
      "metadata": {}
    },
    {
      "cell_type": "code",
      "source": [
        "var execSync = require('child_process').execSync;\n",
        "try {\n",
        "    require.resolve('googleapis');\n",
        "    require.resolve('google-auth-library');\n",
        "} catch (e) {\n",
        "    execSync('npm install googleapis google-auth-library');\n",
        "}\n",
        "var google = require('googleapis');\n",
        "var googleAuth = require('google-auth-library');\n",
        "\n",
        "var path = require('path');\n",
        "var corePath = path.resolve(path.join(__dirname, '..', 'Core'));\n",
        "var importer = require(corePath);\n",
        "var seleniumPath = path.join('..', 'Selenium', 'How to authorize Google apps.ipynb');\n"
      ],
      "outputs": [],
      "execution_count": null,
      "metadata": {
        "collapsed": false,
        "outputHidden": false,
        "inputHidden": false
      }
    },
    {
      "cell_type": "markdown",
      "source": [
        "How to list events?"
      ],
      "metadata": {}
    },
    {
      "cell_type": "code",
      "source": [
        "\n",
        "/**\n",
        " * Lists the next 10 events on the user's primary calendar.\n",
        " *\n",
        " * @param {google.auth.OAuth2} auth An authorized OAuth2 client.\n",
        " */\n",
        "var resultEvents = [];\n",
        "var listEvents = (auth, options = {calendarId: 'primary'}) => {\n",
        "    if(typeof options['calendarId'] == 'undefined') {\n",
        "        options['calendarId'] = 'primary';\n",
        "    }\n",
        "    var calendar = google.calendar('v3');\n",
        "    var data = Object.assign({}, options, {\n",
        "        auth: auth,\n",
        "        //calendarId: 'p4685f6at8ccctenocjlqgnqss@group.calendar.google.com',\n",
        "        //calendarId: 'rqqhq3me7ggg47chafhmeo6m3s@group.calendar.google.com',\n",
        "        //q: 'work on SOS',\n",
        "        maxResults: 100,\n",
        "        singleEvents: true,\n",
        "        orderBy: 'startTime'\n",
        "    });\n",
        "    return new Promise((resolve, reject) => {\n",
        "        calendar.events.list(data, (err, response) => {\n",
        "            try {\n",
        "                var events = processResult(err, response);\n",
        "                resolve(events);\n",
        "            } catch (e) {\n",
        "                reject(e);\n",
        "            }\n",
        "        });\n",
        "    });\n",
        "}\n",
        "\n",
        "(listEvents);\n"
      ],
      "outputs": [],
      "execution_count": null,
      "metadata": {
        "collapsed": false,
        "outputHidden": false,
        "inputHidden": false
      }
    },
    {
      "cell_type": "code",
      "source": [
        "\n",
        "var listEventBetweenTwoDates = (auth, min, max) => {\n",
        "    return listEvents(auth, {\n",
        "        timeMin: ISODateString(min),\n",
        "        timeMax: ISODateString(max),\n",
        "    });\n",
        "};\n"
      ],
      "outputs": [],
      "execution_count": null,
      "metadata": {
        "collapsed": false,
        "outputHidden": false,
        "inputHidden": false
      }
    },
    {
      "cell_type": "code",
      "source": [
        "var processResult = (err, response) => {\n",
        "    if (err) {\n",
        "      console.log('The API returned an error: ' + err);\n",
        "      throw err;\n",
        "    }\n",
        "    resultEvents = []; // reset the array\n",
        "    var events = response.items;\n",
        "    if (events.length == 0) {\n",
        "        console.log('No events found.');\n",
        "    } else {\n",
        "        for (var i = 0; i < events.length; i++) {\n",
        "            var event = events[i];\n",
        "            var start = event.start.dateTime || event.start.date;\n",
        "            resultEvents[resultEvents.length] = {\n",
        "                start: new Date(start), event: event};\n",
        "            console.log('%s - %s', start, event.summary);\n",
        "        }\n",
        "    }\n",
        "    return resultEvents;\n",
        "}\n"
      ],
      "outputs": [],
      "execution_count": null,
      "metadata": {
        "collapsed": false,
        "outputHidden": false,
        "inputHidden": false
      }
    },
    {
      "cell_type": "markdown",
      "source": [
        "How to test Google calendar API?"
      ],
      "metadata": {}
    },
    {
      "cell_type": "code",
      "source": [
        "\n",
        "// Authorize a client with the loaded credentials, then call the\n",
        "  // Google Calendar API.\n",
        "$$.async();\n",
        "var authorize, oauth2Client;\n",
        "importer.importNotebook(seleniumPath)\n",
        "    .then(r => authorize = r['authorize'])\n",
        "    .then(() => authorize(['https://www.googleapis.com/auth/calendar']))\n",
        "    .then(c => {\n",
        "        var auth = new googleAuth();\n",
        "        oauth2Client = new auth.OAuth2(\n",
        "            c.clientId_, c.clientSecret_, c.redirectUri_);\n",
        "        oauth2Client.credentials = c.credentials;\n",
        "        return oauth2Client;\n",
        "    })\n",
        "    .then(r => listEvents(r))\n",
        "    .then(r => $$.sendResult(r))\n",
        "    .catch(e => $$.sendError(e));\n"
      ],
      "outputs": [],
      "execution_count": null,
      "metadata": {
        "collapsed": false,
        "outputHidden": false,
        "inputHidden": false
      }
    }
  ],
  "metadata": {
    "kernelspec": {
      "name": "node_nteract",
      "language": "javascript",
      "display_name": "Node.js (nteract)"
    },
    "kernel_info": {
      "name": "node_nteract"
    },
    "language_info": {
      "name": "javascript",
      "version": "6.5.0",
      "mimetype": "application/javascript",
      "file_extension": ".js"
    }
  },
  "nbformat": 4,
  "nbformat_minor": 4
}