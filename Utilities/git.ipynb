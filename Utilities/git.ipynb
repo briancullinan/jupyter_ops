{
  "cells": [
    {
      "cell_type": "code",
      "source": [
        "git difftool --tool=b3 branch1..branch2\n",
        "\n"
      ],
      "outputs": [],
      "execution_count": null,
      "metadata": {
        "collapsed": false,
        "inputHidden": false,
        "outputHidden": false
      }
    },
    {
      "cell_type": "markdown",
      "source": [
        "Rebase squash cherrypick automatically to create perfect feature branch?\n",
        "\n",
        "Reset each file one at a time to make sure there aren't any unnecessary changes?\n",
        "\n",
        "Use unit testing to warn about unnecessary modules?\n",
        "\n"
      ],
      "metadata": {}
    },
    {
      "cell_type": "code",
      "source": [
        "git log --graph --oneline --decorate --all\n",
        "\n",
        "git log --graph --all\n",
        "\n",
        "git show-branch --list\n",
        "\n"
      ],
      "outputs": [],
      "execution_count": null,
      "metadata": {}
    }
  ],
  "metadata": {
    "kernel_info": {
      "name": "powershell"
    },
    "kernelspec": {
      "display_name": "Bash",
      "language": "bash",
      "name": "bash"
    },
    "language_info": {
      "codemirror_mode": "shell",
      "file_extension": ".sh",
      "mimetype": "text/x-sh",
      "name": "bash"
    }
  },
  "nbformat": 4,
  "nbformat_minor": 4
}