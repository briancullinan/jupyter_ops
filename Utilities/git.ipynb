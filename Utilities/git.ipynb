{
  "cells": [
    {
      "cell_type": "code",
      "source": [
        "git difftool --tool=b3 branch1..branch2\n",
        "\n"
      ],
      "outputs": [],
      "execution_count": null,
      "metadata": {
        "collapsed": false,
        "inputHidden": false,
        "outputHidden": false
      }
    },
    {
      "cell_type": "markdown",
      "source": [
        "Rebase squash cherrypick automatically to create perfect feature branch?\n",
        "\n",
        "Reset each file one at a time to make sure there aren't any unnecessary changes?\n",
        "\n",
        "Use unit testing to warn about unnecessary modules?\n",
        "\n"
      ],
      "metadata": {}
    },
    {
      "cell_type": "code",
      "source": [
        "git log --graph --oneline --decorate --all\n",
        "\n",
        "git log --graph --all\n",
        "\n",
        "git show-branch --list\n",
        "\n"
      ],
      "outputs": [],
      "execution_count": null,
      "metadata": {}
    },
    {
      "cell_type": "markdown",
      "source": [],
      "metadata": {}
    },
    {
      "cell_type": "code",
      "source": [
        "var D3Node = require('d3-node');\n",
        "var d3n = new D3Node(); // initializes D3 with container element \n",
        "var d3 = d3n.d3;\n",
        "\n",
        "var margin = {top: 25, right: 150, bottom: 25, left: 150},\n",
        "    width = 960 - margin.left - margin.right,\n",
        "    height = 500 - margin.top - margin.bottom;\n",
        "\n",
        "var PROFILE_PATH = process.env.HOME || process.env.HOMEPATH || process.env.USERPROFILE;\n",
        "var project = PROFILE_PATH + '/Documents/portal';\n",
        "process.chdir(project)\n",
        "var execSync = require('child_process').execSync;\n",
        "var branches = execSync('git branch').toString().split(/\\s*\\n\\s*\\**\\s*/ig);\n",
        "var branch = execSync('git log --pretty=format:\"%d %h %p\" ' + branches.join(' ')).toString().split(/\\s*\\n\\s*/ig);\n",
        "\n",
        "nodeTree = [];\n",
        "edges = [];\n",
        "branch.forEach(b => {\n",
        "    var commits = ((/\\s*\\(.*?\\)\\s*(.+)/ig).exec(b) || [b, b.trim()])[1].split(/\\s+/ig);\n",
        "    commits.forEach(r => {\n",
        "        if(nodeTree.filter(d => d.name=='4a626f8').length == 0) {\n",
        "            nodeTree[nodeTree.length] = {\n",
        "                name: r\n",
        "            }\n",
        "        }\n",
        "    });\n",
        "    edges = edges.concat(commits.slice(1).map((c, i) => {\n",
        "        return {source: c, target:commits[i]};\n",
        "    }))\n",
        "});\n",
        "\n",
        "var nodeMap = {};\n",
        "nodeTree.forEach(function(x) {\n",
        "    if(typeof x.size == 'undefined') {\n",
        "        x.size = 1;\n",
        "    }\n",
        "    nodeMap[x.name] = x;\n",
        "});\n",
        "\n",
        "var links = edges.map(function(x) {\n",
        "    if(typeof nodeMap[x.source].children == 'undefined') {\n",
        "        nodeMap[x.source].children = [];\n",
        "    }\n",
        "    nodeMap[x.source].children.push(nodeMap[x.target]);\n",
        "    return { parent: nodeMap[x.target], source: nodeMap[x.source], target: nodeMap[x.target] };\n",
        "});\n",
        "\n",
        "console.log(nodeTree.filter(d => d.name=='4a626f8')[0]);\n",
        "\n",
        "var tree = d3.hierarchy(nodeTree.filter(d => d.name=='4a626f8')[0], d => d.children);\n",
        "\n",
        "var root = // partition(\n",
        "    tree\n",
        "        .sum(d => 1)\n",
        "        .sort((a, b) => b.size - a.size || b.value - a.value)\n",
        "//)\n",
        "    .descendants().filter(d => d.depth < 2);\n",
        "\n",
        "root.forEach(r => {\n",
        "    r.name = r.data.name;\n",
        "})\n",
        "\n",
        "var tree = d3.tree().nodeSize([25, 150]);\n",
        "\n",
        "var nodes = tree(d3.hierarchy(root[0], d => d.depth < 2 ? d.children : []))\n",
        "    .descendants();\n",
        "\n",
        "var links = nodes.slice(1);\n",
        "\n",
        "var root = {\n",
        "  name: 'root',\n",
        "  children: nodes[0],\n",
        "  hash: null,\n",
        "  path: null,\n",
        "  specificity: null,\n",
        "  handler: null,\n",
        "  data: {},\n",
        "  isAux: false,\n",
        "};\n",
        "var fill = d3.scaleOrdinal(d3.schemeCategory20);\n",
        "var svg = d3n.createSVG(width + margin.left + margin.right,\n",
        "                       height + margin.top + margin.bottom)\n",
        "var g = svg.append(\"g\");\n",
        "\n",
        "var x = d3.scaleLinear().range([0, height]);\n",
        "var y = d3.scaleLinear().range([0, width]);\n",
        "\n",
        "x.domain([d3.min(nodes, function(d) { return d.x; }), d3.max(nodes, function(d) { return d.x; })]);\n",
        "y.domain([d3.min(nodes, function(d) { return d.y; }), d3.max(nodes, function(d) { return d.y; })]);\n",
        "\n",
        "g.selectAll('.link')\n",
        "  .data(links)\n",
        "  .enter().append('path')\n",
        "    .attr('class', 'link')\n",
        "    .attr('d', d => `\n",
        "        M${y(d.y)},${x(d.x)}\n",
        "        C${y((d.y + d.parent.y) / 2)},\n",
        "          ${x(d.x)} ${y((d.y + d.parent.y) / 2)},\n",
        "          ${x(d.parent.x)} ${y(d.parent.y)},\n",
        "          ${x(d.parent.x)}`);\n",
        "\n",
        "// Declare the nodes\n",
        "var node = g.selectAll('g.node')\n",
        "  .data(nodes)\n",
        "  .enter().append('g')\n",
        "  .attr('class', 'node')\n",
        "  .style(\"fill\", function(d, i) { return fill(i); })\n",
        "  .attr('transform', d => `translate(${y(d.y)},${x(d.x)})`);\n",
        "\n",
        "node.append('circle')\n",
        "  .attr('class', d => (d.data).isAux ? 'node-aux-route' : 'node-route')\n",
        "  .attr('r', 6);\n",
        "\n",
        "node.append('text')\n",
        "  .attr('x', (d) => d.children ? -13 : 13)\n",
        "  .attr('dy', '.35em')\n",
        "  .attr('text-anchor', (d) => d.children ? 'end' : 'start')\n",
        "  .text(d => (d.data).name)\n",
        "  .attr('class', 'monospace');\n",
        "\n",
        "// reset transform\n",
        "g.attr('transform', 'translate(0, 0)');\n",
        "\n",
        "g.attr(\"transform\",\n",
        "    \"translate(\" + (margin.left) + \",\" + (margin.top) + \")\")\n",
        "\n",
        "$$.svg(d3n.svgString());\n"
      ],
      "outputs": [
        {
          "output_type": "stream",
          "name": "stdout",
          "text": [
            "{ name: '4a626f8',\n",
            "  size: 1,\n",
            "  children: [ { name: 'c9660c1', size: 1, children: [Object] } ] }\n"
          ]
        }
      ],
      "execution_count": 1,
      "metadata": {
        "collapsed": false,
        "outputHidden": false,
        "inputHidden": false
      }
    },
    {
      "cell_type": "code",
      "source": [],
      "outputs": [],
      "execution_count": null,
      "metadata": {
        "collapsed": false,
        "outputHidden": false,
        "inputHidden": false
      }
    }
  ],
  "metadata": {
    "kernel_info": {
      "name": "node_nteract"
    },
    "kernelspec": {
      "name": "node_nteract",
      "language": "javascript",
      "display_name": "Node.js (nteract)"
    },
    "language_info": {
      "name": "javascript",
      "version": "6.5.0",
      "mimetype": "application/javascript",
      "file_extension": ".js"
    }
  },
  "nbformat": 4,
  "nbformat_minor": 4
}