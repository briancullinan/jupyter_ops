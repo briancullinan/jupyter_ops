{
 "cells": [
  {
   "cell_type": "markdown",
   "metadata": {},
   "source": [
    "export notebook cells as modules?\n",
    "\n"
   ]
  },
  {
   "cell_type": "code",
   "execution_count": 4,
   "metadata": {},
   "outputs": [
    {
     "data": {
      "text/plain": [
       "[Function: exportNotebook]"
      ]
     },
     "execution_count": 4,
     "metadata": {},
     "output_type": "execute_result"
    }
   ],
   "source": [
    "var PROFILE_PATH = process.env.HOME || process.env.HOMEPATH || process.env.USERPROFILE;\n",
    "var moduleOutput = PROFILE_PATH + '/jupytangular2/Utilities/.modules';\n",
    "var importer = require('../Core');\n",
    "var fs = require('fs');\n",
    "var path = require('path');\n",
    "\n",
    "var exportNotebook = (notebook) => {\n",
    "    const name = path.basename(notebook).replace(/\\.ipynb/ig, '');\n",
    "    const parent = path.basename(path.dirname(notebook));\n",
    "    if(!fs.existsSync(moduleOutput)) {\n",
    "        fs.mkdirSync(moduleOutput);\n",
    "    }\n",
    "    if(!fs.existsSync(path.join(moduleOutput, parent))) {\n",
    "        fs.mkdirSync(path.join(moduleOutput, parent));\n",
    "    }\n",
    "    if(!fs.existsSync(path.join(moduleOutput, parent, name))) {\n",
    "        fs.mkdirSync(path.join(moduleOutput, parent, name));\n",
    "    }\n",
    "    \n",
    "    return importer.getCells(notebook, ['*', 'markdown'])\n",
    "    .then(cells => {\n",
    "        const results = [];\n",
    "        for(const i in cells) /* exclude this cell */ {\n",
    "            if(!cells.hasOwnProperty(i)) {\n",
    "                continue;\n",
    "            }\n",
    "            const cellPath = path.join(moduleOutput, parent, name, 'cell-' + i + '.md');\n",
    "            fs.writeFileSync(cellPath, cells[i].source.join(''));\n",
    "            results.push(cellPath);\n",
    "        }\n",
    "        return results;\n",
    "    })\n",
    "}\n",
    "module.exports = exportNotebook;\n"
   ]
  },
  {
   "cell_type": "markdown",
   "metadata": {},
   "source": [
    "export all notebooks?\n",
    "\n"
   ]
  },
  {
   "cell_type": "code",
   "execution_count": 5,
   "metadata": {},
   "outputs": [
    {
     "data": {
      "text/plain": [
       "[Function: exportAll]"
      ]
     },
     "execution_count": 5,
     "metadata": {},
     "output_type": "execute_result"
    }
   ],
   "source": [
    "var glob = require('glob');\n",
    "var path = require('path');\n",
    "var importer = require('../Core');\n",
    "\n",
    "var exportAll = (project) => {\n",
    "    const notebooks = glob.sync('**/*.ipynb', {cwd: project});\n",
    "    return importer.runAllPromises(notebooks.map(n => resolve => {\n",
    "        return exportNotebook(path.join(project, n))\n",
    "        .then(r => resolve(r))\n",
    "        .catch(e => { console.log(e); resolve(); })\n",
    "    }))\n",
    "}\n",
    "module.exports = exportAll;\n"
   ]
  },
  {
   "cell_type": "markdown",
   "metadata": {},
   "source": [
    "test notebook export\n",
    "\n"
   ]
  },
  {
   "cell_type": "code",
   "execution_count": 6,
   "metadata": {},
   "outputs": [
    {
     "data": {
      "text/plain": [
       "[ '/Users/briancullinan/jupytangular2/Utilities/.modules/Analytics/reconcile timeline data/cell-0.js',\n",
       "  '/Users/briancullinan/jupytangular2/Utilities/.modules/Analytics/reconcile timeline data/cell-1.js',\n",
       "  '/Users/briancullinan/jupytangular2/Utilities/.modules/Analytics/reconcile timeline data/cell-2.js',\n",
       "  '/Users/briancullinan/jupytangular2/Utilities/.modules/Analytics/reconcile timeline data/cell-3.js',\n",
       "  '/Users/briancullinan/jupytangular2/Utilities/.modules/Core/import notebook/cell-0.js',\n",
       "  '/Users/briancullinan/jupytangular2/Utilities/.modules/Core/import notebook/cell-1.js',\n",
       "  '/Users/briancullinan/jupytangular2/Utilities/.modules/Core/import notebook/cell-2.js',\n",
       "  '/Users/briancullinan/jupytangular2/Utilities/.modules/Core/import notebook/cell-3.js',\n",
       "  '/Users/briancullinan/jupytangular2/Utilities/.modules/Core/import notebook/cell-4.js',\n",
       "  '/Users/briancullinan/jupytangular2/Utilities/.modules/Core/import notebook/cell-5.js',\n",
       "  '/Users/briancullinan/jupytangular2/Utilities/.modules/Core/import notebook/cell-6.js',\n",
       "  '/Users/briancullinan/jupytangular2/Utilities/.modules/Core/import notebook/cell-7.js',\n",
       "  '/Users/briancullinan/jupytangular2/Utilities/.modules/Core/import notebook/cell-8.js',\n",
       "  '/Users/briancullinan/jupytangular2/Utilities/.modules/Core/import notebook/cell-9.js',\n",
       "  '/Users/briancullinan/jupytangular2/Utilities/.modules/Core/import notebook/cell-10.js',\n",
       "  '/Users/briancullinan/jupytangular2/Utilities/.modules/Core/import notebook/cell-11.js',\n",
       "  '/Users/briancullinan/jupytangular2/Utilities/.modules/Core/interpret all notebooks/cell-0.js',\n",
       "  '/Users/briancullinan/jupytangular2/Utilities/.modules/Core/interpret all notebooks/cell-1.js',\n",
       "  '/Users/briancullinan/jupytangular2/Utilities/.modules/Core/interpret all notebooks/cell-2.js',\n",
       "  '/Users/briancullinan/jupytangular2/Utilities/.modules/Core/interpret all notebooks/cell-3.js',\n",
       "  '/Users/briancullinan/jupytangular2/Utilities/.modules/Core/interpret all notebooks/cell-4.js',\n",
       "  '/Users/briancullinan/jupytangular2/Utilities/.modules/Core/interpret all notebooks/cell-5.js',\n",
       "  '/Users/briancullinan/jupytangular2/Utilities/.modules/Core/interpret all notebooks/cell-6.js',\n",
       "  '/Users/briancullinan/jupytangular2/Utilities/.modules/Core/interpret questions/cell-0.js',\n",
       "  '/Users/briancullinan/jupytangular2/Utilities/.modules/Core/interpret questions/cell-1.js',\n",
       "  '/Users/briancullinan/jupytangular2/Utilities/.modules/Core/interpret questions/cell-2.js',\n",
       "  '/Users/briancullinan/jupytangular2/Utilities/.modules/Core/interpret questions/cell-3.js',\n",
       "  '/Users/briancullinan/jupytangular2/Utilities/.modules/Core/interpret questions/cell-4.js',\n",
       "  '/Users/briancullinan/jupytangular2/Utilities/.modules/Core/interpret questions/cell-5.js',\n",
       "  '/Users/briancullinan/jupytangular2/Utilities/.modules/Core/interpret questions/cell-6.js',\n",
       "  '/Users/briancullinan/jupytangular2/Utilities/.modules/Core/interpret questions/cell-7.js',\n",
       "  '/Users/briancullinan/jupytangular2/Utilities/.modules/Core/interpret questions/cell-8.js',\n",
       "  '/Users/briancullinan/jupytangular2/Utilities/.modules/Core/interpret questions/cell-9.js',\n",
       "  '/Users/briancullinan/jupytangular2/Utilities/.modules/Core/test import/cell-0.js',\n",
       "  '/Users/briancullinan/jupytangular2/Utilities/.modules/Core/test import/cell-1.js',\n",
       "  '/Users/briancullinan/jupytangular2/Utilities/.modules/Core/test import/cell-2.js',\n",
       "  '/Users/briancullinan/jupytangular2/Utilities/.modules/Core/test import/cell-3.js',\n",
       "  '/Users/briancullinan/jupytangular2/Utilities/.modules/Core/test import/cell-4.js',\n",
       "  '/Users/briancullinan/jupytangular2/Utilities/.modules/Core/test import/cell-5.js',\n",
       "  '/Users/briancullinan/jupytangular2/Utilities/.modules/jupytangular2/demo/cell-0.js',\n",
       "  '/Users/briancullinan/jupytangular2/Utilities/.modules/jupytangular2/demo/cell-1.js',\n",
       "  '/Users/briancullinan/jupytangular2/Utilities/.modules/jupytangular2/demo/cell-2.js',\n",
       "  '/Users/briancullinan/jupytangular2/Utilities/.modules/jupytangular2/demo/cell-3.js',\n",
       "  '/Users/briancullinan/jupytangular2/Utilities/.modules/jupytangular2/demo/cell-4.js',\n",
       "  '/Users/briancullinan/jupytangular2/Utilities/.modules/jupytangular2/demo/cell-5.js',\n",
       "  '/Users/briancullinan/jupytangular2/Utilities/.modules/jupytangular2/demo/cell-6.js',\n",
       "  '/Users/briancullinan/jupytangular2/Utilities/.modules/jupytangular2/demo/cell-7.js',\n",
       "  '/Users/briancullinan/jupytangular2/Utilities/.modules/jupytangular2/demo/cell-8.js',\n",
       "  '/Users/briancullinan/jupytangular2/Utilities/.modules/jupytangular2/demo/cell-9.js',\n",
       "  '/Users/briancullinan/jupytangular2/Utilities/.modules/Docker/docker commands/cell-0.js',\n",
       "  '/Users/briancullinan/jupytangular2/Utilities/.modules/Docker/docker commands/cell-1.js',\n",
       "  '/Users/briancullinan/jupytangular2/Utilities/.modules/Docker/docker commands/cell-2.js',\n",
       "  '/Users/briancullinan/jupytangular2/Utilities/.modules/Docker/docker commands/cell-3.js',\n",
       "  '/Users/briancullinan/jupytangular2/Utilities/.modules/Docker/docker commands/cell-4.js',\n",
       "  '/Users/briancullinan/jupytangular2/Utilities/.modules/Docker/docker commands/cell-5.js',\n",
       "  '/Users/briancullinan/jupytangular2/Utilities/.modules/Docker/docker commands/cell-6.js',\n",
       "  '/Users/briancullinan/jupytangular2/Utilities/.modules/Docker/docker commands/cell-7.js',\n",
       "  '/Users/briancullinan/jupytangular2/Utilities/.modules/Docker/docker demo/cell-0.js',\n",
       "  '/Users/briancullinan/jupytangular2/Utilities/.modules/Docker/install Docker on Mac/cell-0.js',\n",
       "  '/Users/briancullinan/jupytangular2/Utilities/.modules/Docker/install Docker on Mac/cell-1.js',\n",
       "  '/Users/briancullinan/jupytangular2/Utilities/.modules/Docker/install Docker on Windows/cell-0.js',\n",
       "  '/Users/briancullinan/jupytangular2/Utilities/.modules/Docker/install Docker on Windows/cell-1.js',\n",
       "  '/Users/briancullinan/jupytangular2/Utilities/.modules/Docker/install Docker on Windows/cell-2.js',\n",
       "  '/Users/briancullinan/jupytangular2/Utilities/.modules/Docker/install Docker on Windows/cell-3.js',\n",
       "  '/Users/briancullinan/jupytangular2/Utilities/.modules/Docker/install Docker on Windows/cell-4.js',\n",
       "  '/Users/briancullinan/jupytangular2/Utilities/.modules/Frameworks/Angular 2/cell-0.js',\n",
       "  '/Users/briancullinan/jupytangular2/Utilities/.modules/Frameworks/Angular 2/cell-1.js',\n",
       "  '/Users/briancullinan/jupytangular2/Utilities/.modules/Frameworks/Angular 2/cell-2.js',\n",
       "  '/Users/briancullinan/jupytangular2/Utilities/.modules/Frameworks/Angular 2/cell-3.js',\n",
       "  '/Users/briancullinan/jupytangular2/Utilities/.modules/Frameworks/Angular 2/cell-4.js',\n",
       "  '/Users/briancullinan/jupytangular2/Utilities/.modules/Frameworks/Angular 2/cell-5.js',\n",
       "  '/Users/briancullinan/jupytangular2/Utilities/.modules/Frameworks/Angular components/cell-0.js',\n",
       "  '/Users/briancullinan/jupytangular2/Utilities/.modules/Frameworks/Angular components/cell-1.js',\n",
       "  '/Users/briancullinan/jupytangular2/Utilities/.modules/Frameworks/Angular components/cell-2.js',\n",
       "  '/Users/briancullinan/jupytangular2/Utilities/.modules/Frameworks/Angular components/cell-3.js',\n",
       "  '/Users/briancullinan/jupytangular2/Utilities/.modules/Frameworks/Angular components/cell-4.js',\n",
       "  '/Users/briancullinan/jupytangular2/Utilities/.modules/Frameworks/Angular components/cell-5.js',\n",
       "  '/Users/briancullinan/jupytangular2/Utilities/.modules/Frameworks/Angular components/cell-6.js',\n",
       "  '/Users/briancullinan/jupytangular2/Utilities/.modules/Frameworks/angular core modules/cell-0.js',\n",
       "  '/Users/briancullinan/jupytangular2/Utilities/.modules/Frameworks/angular render service/cell-0.js',\n",
       "  '/Users/briancullinan/jupytangular2/Utilities/.modules/Frameworks/angular render service/cell-1.js',\n",
       "  '/Users/briancullinan/jupytangular2/Utilities/.modules/Frameworks/angular-cli/cell-0.js',\n",
       "  '/Users/briancullinan/jupytangular2/Utilities/.modules/Frameworks/angular-cli/cell-1.js',\n",
       "  '/Users/briancullinan/jupytangular2/Utilities/.modules/Frameworks/autorewire/cell-0.js',\n",
       "  '/Users/briancullinan/jupytangular2/Utilities/.modules/Frameworks/autorewire/cell-1.js',\n",
       "  '/Users/briancullinan/jupytangular2/Utilities/.modules/Frameworks/autorewire/cell-2.js',\n",
       "  '/Users/briancullinan/jupytangular2/Utilities/.modules/Frameworks/build Angular components/cell-0.js',\n",
       "  '/Users/briancullinan/jupytangular2/Utilities/.modules/Frameworks/build Angular components/cell-1.js',\n",
       "  '/Users/briancullinan/jupytangular2/Utilities/.modules/Frameworks/build Angular components/cell-2.js',\n",
       "  '/Users/briancullinan/jupytangular2/Utilities/.modules/Frameworks/build Angular components/cell-3.js',\n",
       "  '/Users/briancullinan/jupytangular2/Utilities/.modules/Frameworks/d3 dates/cell-0.js',\n",
       "  '/Users/briancullinan/jupytangular2/Utilities/.modules/Frameworks/d3/cell-0.js',\n",
       "  '/Users/briancullinan/jupytangular2/Utilities/.modules/Frameworks/d3/cell-1.js',\n",
       "  '/Users/briancullinan/jupytangular2/Utilities/.modules/Frameworks/d3/cell-2.js',\n",
       "  '/Users/briancullinan/jupytangular2/Utilities/.modules/Frameworks/d3/cell-3.js',\n",
       "  '/Users/briancullinan/jupytangular2/Utilities/.modules/Frameworks/d3/cell-4.js',\n",
       "  '/Users/briancullinan/jupytangular2/Utilities/.modules/Frameworks/d3/cell-5.js',\n",
       "  '/Users/briancullinan/jupytangular2/Utilities/.modules/Frameworks/de-linting/cell-0.js',\n",
       "  '/Users/briancullinan/jupytangular2/Utilities/.modules/Frameworks/de-linting/cell-1.js',\n",
       "  '/Users/briancullinan/jupytangular2/Utilities/.modules/Frameworks/display angular/cell-0.js',\n",
       "  ... 303 more items ]"
      ]
     },
     "execution_count": 6,
     "metadata": {},
     "output_type": "execute_result"
    }
   ],
   "source": [
    "$$.async()\n",
    "\n",
    "var PROFILE_PATH = process.env.HOME || process.env.HOMEPATH || process.env.USERPROFILE;\n",
    "var PROJECT_PATH = PROFILE_PATH + '/jupytangular2';\n",
    "\n",
    "exportAll(PROJECT_PATH)\n",
    ".then(r => $$.sendResult(r))\n",
    ".catch(e => $$.sendError(e))\n"
   ]
  },
  {
   "cell_type": "markdown",
   "metadata": {},
   "source": [
    "import all cell modules?"
   ]
  },
  {
   "cell_type": "code",
   "execution_count": 19,
   "metadata": {},
   "outputs": [],
   "source": [
    "var fs = require('fs');\n",
    "var glob = require('glob');\n",
    "\n",
    "var PROFILE_PATH = process.env.HOME || process.env.HOMEPATH || process.env.USERPROFILE;\n",
    "var PROJECT_PATH = PROFILE_PATH + '/Documents/jupytangular2/Utilities/.modules';\n",
    "var project = PROFILE_PATH + '/Documents/jupytangular2';\n",
    "\n",
    "var cells = glob.sync('**/cell-*', {cwd: PROJECT_PATH});\n",
    "for(const c of cells) {\n",
    "    const cell = path.basename(c);\n",
    "    const notebook = path.basename(path.dirname(c));\n",
    "    const parent = path.basename(path.dirname(path.dirname(c)));\n",
    "    if(parent === 'jupytangular2') {\n",
    "        continue;\n",
    "    }\n",
    "    const nb = JSON.parse(fs.readFileSync(path.join(project, parent, notebook + '.ipynb')));\n",
    "    let counter = 0;\n",
    "    for(const i in nb.cells) {\n",
    "        if(!nb.cells.hasOwnProperty(i)) {\n",
    "            continue;\n",
    "        }\n",
    "        if(nb.cells[i].cell_type === 'code') {\n",
    "            if(cell === 'cell-' + counter + '.js') {\n",
    "                nb.cells[i].source = fs.readFileSync(path.join(PROJECT_PATH, c)).toString().split('\\n');\n",
    "            }\n",
    "            counter++;\n",
    "        }\n",
    "    }\n",
    "    fs.writeFileSync(path.join(project, parent, notebook + '.ipynb'), JSON.stringify(nb, null, 2));\n",
    "}\n",
    "\n"
   ]
  },
  {
   "cell_type": "markdown",
   "metadata": {},
   "source": [
    "import module as notebook cell?"
   ]
  },
  {
   "cell_type": "code",
   "execution_count": null,
   "metadata": {},
   "outputs": [],
   "source": []
  },
  {
   "cell_type": "markdown",
   "metadata": {},
   "source": [
    "TODO:\n",
    "import gist as notebook\n",
    "import random instructions as notebook\n"
   ]
  },
  {
   "cell_type": "code",
   "execution_count": null,
   "metadata": {},
   "outputs": [],
   "source": []
  }
 ],
 "metadata": {
  "kernelspec": {
   "display_name": "Javascript (Node.js)",
   "language": "javascript",
   "name": "javascript"
  },
  "language_info": {
   "file_extension": ".js",
   "mimetype": "application/javascript",
   "name": "javascript",
   "version": "7.7.2"
  }
 },
 "nbformat": 4,
 "nbformat_minor": 2
}
