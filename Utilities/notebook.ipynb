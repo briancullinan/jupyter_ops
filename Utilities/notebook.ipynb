{
 "cells": [
  {
   "cell_type": "markdown",
   "metadata": {},
   "source": [
    "export cells as modules?\n",
    "\n"
   ]
  },
  {
   "cell_type": "code",
   "execution_count": 2,
   "metadata": {},
   "outputs": [
    {
     "data": {
      "text/plain": [
       "[Function: exportNotebook]"
      ]
     },
     "execution_count": 2,
     "metadata": {},
     "output_type": "execute_result"
    }
   ],
   "source": [
    "var PROFILE_PATH = process.env.HOME || process.env.HOMEPATH || process.env.USERPROFILE;\n",
    "var moduleOutput = PROFILE_PATH + '/jupytangular2/Utilities/.modules';\n",
    "var importer = require('../Core');\n",
    "var fs = require('fs');\n",
    "var path = require('path');\n",
    "\n",
    "var exportNotebook = (notebook) => {\n",
    "    const name = path.basename(notebook).replace(/\\.ipynb/ig, '');\n",
    "    const parent = path.basename(path.dirname(notebook));\n",
    "    if(!fs.existsSync(moduleOutput)) {\n",
    "        fs.mkdirSync(moduleOutput);\n",
    "    }\n",
    "    if(!fs.existsSync(path.join(moduleOutput, parent))) {\n",
    "        fs.mkdirSync(path.join(moduleOutput, parent));\n",
    "    }\n",
    "    if(!fs.existsSync(path.join(moduleOutput, parent, name))) {\n",
    "        fs.mkdirSync(path.join(moduleOutput, parent, name));\n",
    "    }\n",
    "    \n",
    "    return importer.getCells(notebook, ['*', 'code', 'markdown', 'raw'])\n",
    "        .reduce((results, cell, i) => {\n",
    "            var extension;\n",
    "            if(cell.cell_type === 'markdown') {\n",
    "                extension = '.md';\n",
    "            } else if(cell.cell_type === 'markdown') {\n",
    "                extension = '.txt';\n",
    "            } else if(cell.language === 'javascript') {\n",
    "                extension = '.js';\n",
    "            } else if(cell.language === 'powershell') {\n",
    "                extension = '.ps1';\n",
    "            } else if(cell.language === 'bash') {\n",
    "                extension = '.sh';\n",
    "            } else {\n",
    "                throw 'unknown language or cell type: ' + notebook + ' (' + cell.cell_type + ',' + cell.language + ')';\n",
    "            }\n",
    "            const cellPath = path.join(moduleOutput, parent, name,\n",
    "                                       'cell-' + i + extension);\n",
    "            fs.writeFileSync(cellPath, cell.source.join(''));\n",
    "            results.push(cellPath);\n",
    "            return results;\n",
    "        }, [])\n",
    "}\n",
    "module.exports = exportNotebook;\n"
   ]
  },
  {
   "cell_type": "markdown",
   "metadata": {},
   "source": [
    "export all notebooks?\n",
    "\n"
   ]
  },
  {
   "cell_type": "code",
   "execution_count": 3,
   "metadata": {},
   "outputs": [
    {
     "data": {
      "text/plain": [
       "[Function: exportAll]"
      ]
     },
     "execution_count": 3,
     "metadata": {},
     "output_type": "execute_result"
    }
   ],
   "source": [
    "var glob = require('glob');\n",
    "var path = require('path');\n",
    "var importer = require('../Core');\n",
    "var exportNotebook = importer.import('notebook.ipynb[export cells modules]');\n",
    "\n",
    "var exportAll = (project) => {\n",
    "    const notebooks = glob.sync('**/*.ipynb', {cwd: project});\n",
    "    return notebooks.map(n => {\n",
    "        return exportNotebook(path.join(project, n))\n",
    "    })\n",
    "}\n",
    "module.exports = exportAll;\n"
   ]
  },
  {
   "cell_type": "markdown",
   "metadata": {},
   "source": [
    "test notebook export?\n",
    "\n"
   ]
  },
  {
   "cell_type": "code",
   "execution_count": 4,
   "metadata": {},
   "outputs": [
    {
     "data": {
      "text/plain": [
       "[ '/Users/briancullinan/jupytangular2/Utilities/.modules/Analytics/budgeting/cell-0.md',\n",
       "  '/Users/briancullinan/jupytangular2/Utilities/.modules/Analytics/code analysis/cell-0.md',\n",
       "  '/Users/briancullinan/jupytangular2/Utilities/.modules/Analytics/reconcile timeline data/cell-0.md',\n",
       "  '/Users/briancullinan/jupytangular2/Utilities/.modules/Analytics/reconcile timeline data/cell-1.js',\n",
       "  '/Users/briancullinan/jupytangular2/Utilities/.modules/Analytics/reconcile timeline data/cell-2.js',\n",
       "  '/Users/briancullinan/jupytangular2/Utilities/.modules/Analytics/reconcile timeline data/cell-3.js',\n",
       "  '/Users/briancullinan/jupytangular2/Utilities/.modules/Analytics/reconcile timeline data/cell-4.js',\n",
       "  '/Users/briancullinan/jupytangular2/Utilities/.modules/Analytics/socializing/cell-0.md',\n",
       "  '/Users/briancullinan/jupytangular2/Utilities/.modules/Core/import notebook/cell-0.md',\n",
       "  '/Users/briancullinan/jupytangular2/Utilities/.modules/Core/import notebook/cell-1.js',\n",
       "  '/Users/briancullinan/jupytangular2/Utilities/.modules/Core/import notebook/cell-2.md',\n",
       "  '/Users/briancullinan/jupytangular2/Utilities/.modules/Core/import notebook/cell-3.js',\n",
       "  '/Users/briancullinan/jupytangular2/Utilities/.modules/Core/import notebook/cell-4.md',\n",
       "  '/Users/briancullinan/jupytangular2/Utilities/.modules/Core/import notebook/cell-5.js',\n",
       "  '/Users/briancullinan/jupytangular2/Utilities/.modules/Core/import notebook/cell-6.md',\n",
       "  '/Users/briancullinan/jupytangular2/Utilities/.modules/Core/import notebook/cell-7.js',\n",
       "  '/Users/briancullinan/jupytangular2/Utilities/.modules/Core/import notebook/cell-8.md',\n",
       "  '/Users/briancullinan/jupytangular2/Utilities/.modules/Core/import notebook/cell-9.js',\n",
       "  '/Users/briancullinan/jupytangular2/Utilities/.modules/Core/import notebook/cell-10.md',\n",
       "  '/Users/briancullinan/jupytangular2/Utilities/.modules/Core/import notebook/cell-11.js',\n",
       "  '/Users/briancullinan/jupytangular2/Utilities/.modules/Core/import notebook/cell-12.md',\n",
       "  '/Users/briancullinan/jupytangular2/Utilities/.modules/Core/import notebook/cell-13.js',\n",
       "  '/Users/briancullinan/jupytangular2/Utilities/.modules/Core/import notebook/cell-14.js',\n",
       "  '/Users/briancullinan/jupytangular2/Utilities/.modules/Core/import notebook/cell-15.md',\n",
       "  '/Users/briancullinan/jupytangular2/Utilities/.modules/Core/import notebook/cell-16.js',\n",
       "  '/Users/briancullinan/jupytangular2/Utilities/.modules/Core/interpret all notebooks/cell-0.md',\n",
       "  '/Users/briancullinan/jupytangular2/Utilities/.modules/Core/interpret all notebooks/cell-1.js',\n",
       "  '/Users/briancullinan/jupytangular2/Utilities/.modules/Core/interpret all notebooks/cell-2.md',\n",
       "  '/Users/briancullinan/jupytangular2/Utilities/.modules/Core/interpret all notebooks/cell-3.js',\n",
       "  '/Users/briancullinan/jupytangular2/Utilities/.modules/Core/interpret all notebooks/cell-4.js',\n",
       "  '/Users/briancullinan/jupytangular2/Utilities/.modules/Core/interpret all notebooks/cell-5.js',\n",
       "  '/Users/briancullinan/jupytangular2/Utilities/.modules/Core/interpret all notebooks/cell-6.js',\n",
       "  '/Users/briancullinan/jupytangular2/Utilities/.modules/Core/interpret all notebooks/cell-7.js',\n",
       "  '/Users/briancullinan/jupytangular2/Utilities/.modules/Core/interpret questions/cell-0.md',\n",
       "  '/Users/briancullinan/jupytangular2/Utilities/.modules/Core/interpret questions/cell-1.js',\n",
       "  '/Users/briancullinan/jupytangular2/Utilities/.modules/Core/interpret questions/cell-2.md',\n",
       "  '/Users/briancullinan/jupytangular2/Utilities/.modules/Core/interpret questions/cell-3.js',\n",
       "  '/Users/briancullinan/jupytangular2/Utilities/.modules/Core/interpret questions/cell-4.md',\n",
       "  '/Users/briancullinan/jupytangular2/Utilities/.modules/Core/interpret questions/cell-5.js',\n",
       "  '/Users/briancullinan/jupytangular2/Utilities/.modules/Core/interpret questions/cell-6.md',\n",
       "  '/Users/briancullinan/jupytangular2/Utilities/.modules/Core/interpret questions/cell-7.js',\n",
       "  '/Users/briancullinan/jupytangular2/Utilities/.modules/Core/interpret questions/cell-8.md',\n",
       "  '/Users/briancullinan/jupytangular2/Utilities/.modules/Core/interpret questions/cell-9.js',\n",
       "  '/Users/briancullinan/jupytangular2/Utilities/.modules/Core/interpret questions/cell-10.md',\n",
       "  '/Users/briancullinan/jupytangular2/Utilities/.modules/Core/interpret questions/cell-11.js',\n",
       "  '/Users/briancullinan/jupytangular2/Utilities/.modules/Core/interpret questions/cell-12.js',\n",
       "  '/Users/briancullinan/jupytangular2/Utilities/.modules/Core/interpret questions/cell-13.js',\n",
       "  '/Users/briancullinan/jupytangular2/Utilities/.modules/Core/test import/cell-0.md',\n",
       "  '/Users/briancullinan/jupytangular2/Utilities/.modules/Core/test import/cell-1.js',\n",
       "  '/Users/briancullinan/jupytangular2/Utilities/.modules/Core/test import/cell-2.js',\n",
       "  '/Users/briancullinan/jupytangular2/Utilities/.modules/Core/test import/cell-3.js',\n",
       "  '/Users/briancullinan/jupytangular2/Utilities/.modules/Core/test import/cell-4.js',\n",
       "  '/Users/briancullinan/jupytangular2/Utilities/.modules/Core/test import/cell-5.md',\n",
       "  '/Users/briancullinan/jupytangular2/Utilities/.modules/Core/test import/cell-6.js',\n",
       "  '/Users/briancullinan/jupytangular2/Utilities/.modules/Core/test import/cell-7.js',\n",
       "  '/Users/briancullinan/jupytangular2/Utilities/.modules/jupytangular2/demo/cell-0.md',\n",
       "  '/Users/briancullinan/jupytangular2/Utilities/.modules/jupytangular2/demo/cell-1.js',\n",
       "  '/Users/briancullinan/jupytangular2/Utilities/.modules/jupytangular2/demo/cell-2.js',\n",
       "  '/Users/briancullinan/jupytangular2/Utilities/.modules/jupytangular2/demo/cell-3.js',\n",
       "  '/Users/briancullinan/jupytangular2/Utilities/.modules/jupytangular2/demo/cell-4.md',\n",
       "  '/Users/briancullinan/jupytangular2/Utilities/.modules/jupytangular2/demo/cell-5.md',\n",
       "  '/Users/briancullinan/jupytangular2/Utilities/.modules/jupytangular2/demo/cell-6.md',\n",
       "  '/Users/briancullinan/jupytangular2/Utilities/.modules/jupytangular2/demo/cell-7.js',\n",
       "  '/Users/briancullinan/jupytangular2/Utilities/.modules/jupytangular2/demo/cell-8.js',\n",
       "  '/Users/briancullinan/jupytangular2/Utilities/.modules/jupytangular2/demo/cell-9.md',\n",
       "  '/Users/briancullinan/jupytangular2/Utilities/.modules/jupytangular2/demo/cell-10.js',\n",
       "  '/Users/briancullinan/jupytangular2/Utilities/.modules/jupytangular2/demo/cell-11.js',\n",
       "  '/Users/briancullinan/jupytangular2/Utilities/.modules/jupytangular2/demo/cell-12.js',\n",
       "  '/Users/briancullinan/jupytangular2/Utilities/.modules/jupytangular2/demo/cell-13.js',\n",
       "  '/Users/briancullinan/jupytangular2/Utilities/.modules/jupytangular2/demo/cell-14.js',\n",
       "  '/Users/briancullinan/jupytangular2/Utilities/.modules/Docker/docker commands/cell-0.md',\n",
       "  '/Users/briancullinan/jupytangular2/Utilities/.modules/Docker/docker commands/cell-1.js',\n",
       "  '/Users/briancullinan/jupytangular2/Utilities/.modules/Docker/docker commands/cell-2.md',\n",
       "  '/Users/briancullinan/jupytangular2/Utilities/.modules/Docker/docker commands/cell-3.js',\n",
       "  '/Users/briancullinan/jupytangular2/Utilities/.modules/Docker/docker commands/cell-4.md',\n",
       "  '/Users/briancullinan/jupytangular2/Utilities/.modules/Docker/docker commands/cell-5.js',\n",
       "  '/Users/briancullinan/jupytangular2/Utilities/.modules/Docker/docker commands/cell-6.md',\n",
       "  '/Users/briancullinan/jupytangular2/Utilities/.modules/Docker/docker commands/cell-7.js',\n",
       "  '/Users/briancullinan/jupytangular2/Utilities/.modules/Docker/docker commands/cell-8.md',\n",
       "  '/Users/briancullinan/jupytangular2/Utilities/.modules/Docker/docker commands/cell-9.js',\n",
       "  '/Users/briancullinan/jupytangular2/Utilities/.modules/Docker/docker commands/cell-10.md',\n",
       "  '/Users/briancullinan/jupytangular2/Utilities/.modules/Docker/docker commands/cell-11.js',\n",
       "  '/Users/briancullinan/jupytangular2/Utilities/.modules/Docker/docker commands/cell-12.md',\n",
       "  '/Users/briancullinan/jupytangular2/Utilities/.modules/Docker/docker commands/cell-13.js',\n",
       "  '/Users/briancullinan/jupytangular2/Utilities/.modules/Docker/docker commands/cell-14.md',\n",
       "  '/Users/briancullinan/jupytangular2/Utilities/.modules/Docker/docker commands/cell-15.js',\n",
       "  '/Users/briancullinan/jupytangular2/Utilities/.modules/Docker/docker demo/cell-0.md',\n",
       "  '/Users/briancullinan/jupytangular2/Utilities/.modules/Docker/docker demo/cell-1.js',\n",
       "  '/Users/briancullinan/jupytangular2/Utilities/.modules/Docker/docker demo/cell-2.md',\n",
       "  '/Users/briancullinan/jupytangular2/Utilities/.modules/Docker/docker demo/cell-3.md',\n",
       "  '/Users/briancullinan/jupytangular2/Utilities/.modules/Docker/docker demo/cell-4.md',\n",
       "  '/Users/briancullinan/jupytangular2/Utilities/.modules/Docker/docker demo/cell-5.md',\n",
       "  '/Users/briancullinan/jupytangular2/Utilities/.modules/Docker/install Docker on Mac/cell-0.md',\n",
       "  '/Users/briancullinan/jupytangular2/Utilities/.modules/Docker/install Docker on Mac/cell-1.js',\n",
       "  '/Users/briancullinan/jupytangular2/Utilities/.modules/Docker/install Docker on Mac/cell-2.md',\n",
       "  '/Users/briancullinan/jupytangular2/Utilities/.modules/Docker/install Docker on Mac/cell-3.md',\n",
       "  '/Users/briancullinan/jupytangular2/Utilities/.modules/Docker/install Docker on Mac/cell-4.js',\n",
       "  '/Users/briancullinan/jupytangular2/Utilities/.modules/Docker/install Docker on Windows/cell-0.md',\n",
       "  '/Users/briancullinan/jupytangular2/Utilities/.modules/Docker/install Docker on Windows/cell-1.js',\n",
       "  '/Users/briancullinan/jupytangular2/Utilities/.modules/Docker/install Docker on Windows/cell-2.md',\n",
       "  ... 608 more items ]"
      ]
     },
     "execution_count": 4,
     "metadata": {},
     "output_type": "execute_result"
    }
   ],
   "source": [
    "var path = require('path');\n",
    "var glob = require('glob');\n",
    "var assert = require('assert');\n",
    "var fs = require('fs');\n",
    "var importer = require('../Core');\n",
    "var exportNotebook = importer.import('notebook.ipynb[export cells modules]');\n",
    "var exportAll = importer.import('notebook.ipynb[export all notebooks]');\n",
    "\n",
    "var PROFILE_PATH = process.env.HOME || process.env.HOMEPATH || process.env.USERPROFILE;\n",
    "var PROJECT_PATH = PROFILE_PATH + '/jupytangular2/Utilities';\n",
    "var moduleOutput = PROJECT_PATH + '/.modules';\n",
    "\n",
    "var sortNumeric = (that) => {\n",
    "    return that.sort((a, b) => parseInt(a.split(/[^0-9]/ig).join('')) - parseInt(b.split(/[^0-9]/ig).join('')));\n",
    "}\n",
    "\n",
    "describe('notebook export service', () => {\n",
    "    beforeEach(() => {\n",
    "        assert(fs.existsSync(PROJECT_PATH));\n",
    "        assert(fs.existsSync(moduleOutput));\n",
    "    })\n",
    "    \n",
    "    it('should export this file', () => {\n",
    "        exportNotebook(path.resolve(PROJECT_PATH + '/notebook.ipynb'));\n",
    "        var files = glob.sync('Utilities/notebook/*', {cwd: moduleOutput});\n",
    "        sortNumeric(files);\n",
    "        assert(path.basename(files[0]) === 'cell-0.md');\n",
    "        assert(path.basename(files[1]) === 'cell-1.js');\n",
    "        assert(path.basename(files[2]) === 'cell-2.md');\n",
    "    })\n",
    "    \n",
    "    it('should have comparable cells', () => {\n",
    "        var importCells = importer.interpret(['notebook.ipynb[0]', 'notebook.ipynb[1]', 'notebook.ipynb[2]']);\n",
    "        exportNotebook(path.resolve(PROJECT_PATH + '/notebook.ipynb'));\n",
    "        var files = glob.sync('Utilities/notebook/*', {cwd: moduleOutput});\n",
    "        sortNumeric(files);\n",
    "        var fsCell0 = fs.readFileSync(path.join(moduleOutput, files[0])).toString();\n",
    "        var fsCell1 = fs.readFileSync(path.join(moduleOutput, files[1])).toString();\n",
    "        var fsCell2 = fs.readFileSync(path.join(moduleOutput, files[2])).toString();\n",
    "        assert(fsCell0 === importCells[0].markdown.join(''));\n",
    "        assert(fsCell1 === importCells[0].fresher, fsCell1.length + ' != ' + importCells[0].fresher.length)\n",
    "        assert(fsCell2 === importCells[1].markdown.join(''))\n",
    "    })\n",
    "    \n",
    "    it('should export all notebooks', () => {\n",
    "        var exported = exportAll(PROJECT_PATH);\n",
    "        assert(exported.length > 0);\n",
    "    })\n",
    "})\n"
   ]
  },
  {
   "cell_type": "markdown",
   "metadata": {},
   "source": [
    "import all cell modules?\n"
   ]
  },
  {
   "cell_type": "code",
   "execution_count": 19,
   "metadata": {},
   "outputs": [],
   "source": [
    "var fs = require('fs');\n",
    "var glob = require('glob');\n",
    "\n",
    "var PROFILE_PATH = process.env.HOME || process.env.HOMEPATH || process.env.USERPROFILE;\n",
    "var PROJECT_PATH = PROFILE_PATH + '/Documents/jupytangular2/Utilities/.modules';\n",
    "var project = PROFILE_PATH + '/Documents/jupytangular2';\n",
    "\n",
    "var cells = glob.sync('**/cell-*', {cwd: PROJECT_PATH});\n",
    "for(const c of cells) {\n",
    "    const cell = path.basename(c);\n",
    "    const notebook = path.basename(path.dirname(c));\n",
    "    const parent = path.basename(path.dirname(path.dirname(c)));\n",
    "    if(parent === 'jupytangular2') {\n",
    "        continue;\n",
    "    }\n",
    "    const nb = JSON.parse(fs.readFileSync(path.join(project, parent, notebook + '.ipynb')));\n",
    "    let counter = 0;\n",
    "    for(const i in nb.cells) {\n",
    "        if(!nb.cells.hasOwnProperty(i)) {\n",
    "            continue;\n",
    "        }\n",
    "        if(nb.cells[i].cell_type === 'code') {\n",
    "            if(cell === 'cell-' + counter + '.js') {\n",
    "                nb.cells[i].source = fs.readFileSync(path.join(PROJECT_PATH, c)).toString().split('\\n');\n",
    "            }\n",
    "            counter++;\n",
    "        }\n",
    "    }\n",
    "    fs.writeFileSync(path.join(project, parent, notebook + '.ipynb'), JSON.stringify(nb, null, 2));\n",
    "}\n",
    "\n"
   ]
  },
  {
   "cell_type": "markdown",
   "metadata": {},
   "source": [
    "import module as notebook cell?"
   ]
  },
  {
   "cell_type": "code",
   "execution_count": null,
   "metadata": {},
   "outputs": [],
   "source": []
  },
  {
   "cell_type": "markdown",
   "metadata": {},
   "source": [
    "TODO:\n",
    "\n",
    "import gist as notebook\n",
    "\n",
    "import random instructions as notebook\n",
    "\n"
   ]
  },
  {
   "cell_type": "code",
   "execution_count": null,
   "metadata": {},
   "outputs": [],
   "source": []
  }
 ],
 "metadata": {
  "kernelspec": {
   "display_name": "Javascript (Node.js)",
   "language": "javascript",
   "name": "javascript"
  },
  "language_info": {
   "file_extension": ".js",
   "mimetype": "application/javascript",
   "name": "javascript",
   "version": "8.6.0"
  }
 },
 "nbformat": 4,
 "nbformat_minor": 2
}
