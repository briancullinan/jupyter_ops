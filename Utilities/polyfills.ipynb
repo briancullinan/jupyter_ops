{
 "cells": [
  {
   "cell_type": "markdown",
   "metadata": {},
   "source": [
    "http request pollyfill?\n"
   ]
  },
  {
   "cell_type": "code",
   "execution_count": null,
   "metadata": {},
   "outputs": [],
   "source": [
    "var url = require('url');\n",
    "\n",
    "try {\n",
    "    var util = require('util');\n",
    "    var request = util.promisify(require('request'));\n",
    "    module.exports = request;\n",
    "} catch (e) {\n",
    "    if(e.message.indexOf('module not found') === -1) {\n",
    "        throw e;\n",
    "    }\n",
    "    \n",
    "    function request(options) {\n",
    "        return new Promise((resolve, reject) => {\n",
    "            options.timeout = 1000;\n",
    "            options.url = url.parse(options.uri);\n",
    "            Object.assign(options, options.url);\n",
    "            var https = options.protocol === 'https:' ? require('https') : require('http');\n",
    "            if(typeof options.json !== 'undefined') {\n",
    "                options.method = 'POST';\n",
    "                Object.assign(options.headers || {}, {\n",
    "                    'Content-Type': 'application/json'\n",
    "                })\n",
    "            } else {\n",
    "                options.method = 'GET';\n",
    "            }\n",
    "            const req = https.request(options, (res) => {\n",
    "                var data = ''\n",
    "                var isJson = (res.headers['content-type'] || '').indexOf('application/json') > -1;\n",
    "                res.setEncoding('utf8');\n",
    "                if(res.statusCode > 299 || res.statusCode < 200) {\n",
    "                    return reject(res);\n",
    "                }\n",
    "                res.on('data', (chunk) => {\n",
    "                    data += chunk;\n",
    "                });\n",
    "                res.on('end', () => {\n",
    "                    if(isJson) {\n",
    "                        res.body = JSON.parse(data);\n",
    "                    } else {\n",
    "                        res.body = data;\n",
    "                    }\n",
    "                    resolve(res)\n",
    "                });\n",
    "            });\n",
    "            req.on('error', (e) => {\n",
    "                console.log(`problem with request: ${e.message}`);\n",
    "            });\n",
    "            if(typeof options.json !== 'undefined') {\n",
    "                req.write(JSON.stringify(options.json));\n",
    "            }\n",
    "            req.end();\n",
    "        });\n",
    "    }\n",
    "    module.exports = request;\n",
    "}\n",
    "\n",
    "\n"
   ]
  },
  {
   "cell_type": "code",
   "execution_count": null,
   "metadata": {},
   "outputs": [],
   "source": []
  }
 ],
 "metadata": {
  "kernelspec": {
   "display_name": "Javascript (Node.js)",
   "language": "javascript",
   "name": "javascript"
  },
  "language_info": {
   "file_extension": ".js",
   "mimetype": "application/javascript",
   "name": "javascript",
   "version": "8.6.0"
  }
 },
 "nbformat": 4,
 "nbformat_minor": 2
}
