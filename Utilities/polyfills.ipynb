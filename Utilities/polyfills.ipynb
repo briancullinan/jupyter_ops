{
 "cells": [
  {
   "cell_type": "markdown",
   "metadata": {},
   "source": [
    "http request pollyfill?\n"
   ]
  },
  {
   "cell_type": "code",
   "execution_count": null,
   "metadata": {},
   "outputs": [],
   "source": [
    "var bluebird = require('bluebird');\n",
    "var req = bluebird.promisify(require('request'));\n",
    "\n",
    "function request(...args) {\n",
    "    return req(...args)\n",
    "        .then(res => {\n",
    "            if(res.statusCode < 200 || res.statusCode >= 300) {\n",
    "                throw new Error('Error: ' + res.statusCode + ' - ' + JSON.stringify(res.body));\n",
    "            }\n",
    "            var isJson = (res.headers['content-type'] || '').match(/application\\/json/ig);\n",
    "            if(isJson && typeof res.body === 'string') {\n",
    "                res.body = JSON.parse(res.body);\n",
    "            }\n",
    "            return res;\n",
    "        })\n",
    "}\n",
    "\n",
    "module.exports = {\n",
    "    request\n",
    "};\n",
    "\n"
   ]
  },
  {
   "cell_type": "code",
   "execution_count": null,
   "metadata": {},
   "outputs": [],
   "source": []
  }
 ],
 "metadata": {
  "kernelspec": {
   "display_name": "Javascript (Node.js)",
   "language": "javascript",
   "name": "javascript"
  },
  "language_info": {
   "file_extension": ".js",
   "mimetype": "application/javascript",
   "name": "javascript",
   "version": "8.8.1"
  }
 },
 "nbformat": 4,
 "nbformat_minor": 2
}
