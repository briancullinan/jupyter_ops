{
 "cells": [
  {
   "cell_type": "code",
   "execution_count": 6,
   "metadata": {},
   "outputs": [
    {
     "name": "stdout",
     "output_type": "stream",
     "text": [
      "reading notebook /Users/briancullinan/jupytangular2/Utilities/qr codes.ipynb\n",
      "compiling /Users/briancullinan/jupytangular2/Utilities/qr codes.ipynb[1]\n",
      "https://chart.googleapis.com/chart?chs=150x150&cht=qr&chl=BEGIN:VCARD%0AN:Elvis%20Presley%0ATEL;CELL:5558675309%0AEMAIL:dawid@gmail.com%0AEND:VCARD\n"
     ]
    },
    {
     "data": {
      "image/png": "[encoded data removed]"
     },
     "execution_count": 6,
     "metadata": {},
     "output_type": "execute_result"
    }
   ],
   "source": [
    "var util = require('util');\n",
    "var importer = require('../Core');\n",
    "var httpsRequest = importer.import('https request');\n",
    "\n",
    "var first = 'Elvis';\n",
    "var last = 'Presley';\n",
    "var phone = '5558675309';\n",
    "var email = 'dawid@gmail.com';\n",
    "var qr = `https://chart.googleapis.com/chart?chs=150x150&cht=qr&chl=BEGIN:VCARD%0AN:${first}%20${last}%0ATEL;CELL:${phone}%0AEMAIL:${email}%0AEND:VCARD`\n",
    "\n",
    "console.log(qr);\n",
    "$$.async(httpsRequest(qr)\n",
    "         .then(r => $$.png(r))\n",
    "         .catch(e => $$.sendError(e)))\n",
    "\n"
   ]
  },
  {
   "cell_type": "markdown",
   "metadata": {},
   "source": [
    "how to https request?\n"
   ]
  },
  {
   "cell_type": "code",
   "execution_count": 5,
   "metadata": {},
   "outputs": [
    {
     "data": {
      "text/plain": [
       "[Function: httpRequest]"
      ]
     },
     "execution_count": 5,
     "metadata": {},
     "output_type": "execute_result"
    }
   ],
   "source": [
    "var https = require('https');\n",
    "\n",
    "function httpRequest(params, postData) {\n",
    "    return new Promise(function(resolve, reject) {\n",
    "        var req = https.request(params, function(res) {\n",
    "            // reject on bad status\n",
    "            if (res.statusCode < 200 || res.statusCode >= 300) {\n",
    "                return reject(new Error('statusCode=' + res.statusCode));\n",
    "            }\n",
    "            // cumulate data\n",
    "            var body = [];\n",
    "            res.on('data', function(chunk) {\n",
    "                body.push(chunk);\n",
    "            });\n",
    "            // resolve on end\n",
    "            res.on('end', function() {\n",
    "                try {\n",
    "                    body = Buffer.concat(body).toString('base64');\n",
    "                } catch(e) {\n",
    "                    reject(e);\n",
    "                }\n",
    "                resolve(body);\n",
    "            });\n",
    "        });\n",
    "        // reject on request error\n",
    "        req.on('error', function(err) {\n",
    "            // This is not a \"Second reject\", just a different sort of failure\n",
    "            reject(err);\n",
    "        });\n",
    "        if (postData) {\n",
    "            req.write(postData);\n",
    "        }\n",
    "        // IMPORTANT\n",
    "        req.end();\n",
    "    });\n",
    "}\n",
    "\n",
    "module.exports = httpRequest;\n"
   ]
  },
  {
   "cell_type": "code",
   "execution_count": null,
   "metadata": {},
   "outputs": [],
   "source": []
  }
 ],
 "metadata": {
  "kernelspec": {
   "display_name": "Javascript (Node.js)",
   "language": "javascript",
   "name": "javascript"
  },
  "language_info": {
   "file_extension": ".js",
   "mimetype": "application/javascript",
   "name": "javascript",
   "version": "8.6.0"
  }
 },
 "nbformat": 4,
 "nbformat_minor": 2
}
