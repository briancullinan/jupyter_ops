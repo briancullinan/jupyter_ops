{
 "cells": [
  {
   "cell_type": "markdown",
   "metadata": {},
   "source": [
    "generate a qr code using google APIs?\n"
   ]
  },
  {
   "cell_type": "code",
   "execution_count": 6,
   "metadata": {},
   "outputs": [
    {
     "name": "stdout",
     "output_type": "stream",
     "text": [
      "reading notebook /Users/briancullinan/jupytangular2/Utilities/qr codes.ipynb\n",
      "compiling /Users/briancullinan/jupytangular2/Utilities/qr codes.ipynb[1]\n",
      "https://chart.googleapis.com/chart?chs=150x150&cht=qr&chl=BEGIN:VCARD%0AN:Elvis%20Presley%0ATEL;CELL:5558675309%0AEMAIL:dawid@gmail.com%0AEND:VCARD\n"
     ]
    },
    {
     "data": {
      "image/png": "[encoded data removed]"
     },
     "execution_count": 6,
     "metadata": {},
     "output_type": "execute_result"
    }
   ],
   "source": [
    "var util = require('util');\n",
    "var importer = require('../Core');\n",
    "var {request} = importer.import('https request');\n",
    "\n",
    "var first = 'Elvis';\n",
    "var last = 'Presley';\n",
    "var phone = '5558675309';\n",
    "var email = 'dawid@gmail.com';\n",
    "var qr = `https://chart.googleapis.com/chart?chs=150x150&cht=qr&chl=BEGIN:VCARD%0AN:${first}%20${last}%0ATEL;CELL:${phone}%0AEMAIL:${email}%0AEND:VCARD`\n",
    "\n",
    "console.log(qr);\n",
    "$$.async(request(qr)\n",
    "         .then(r => $$.png(new Buffer(r.body).toString('base64')))\n",
    "         .catch(e => $$.sendError(e)))\n",
    "\n"
   ]
  }
 ],
 "metadata": {
  "kernelspec": {
   "display_name": "Javascript (Node.js)",
   "language": "javascript",
   "name": "javascript"
  },
  "language_info": {
   "file_extension": ".js",
   "mimetype": "application/javascript",
   "name": "javascript",
   "version": "8.6.0"
  }
 },
 "nbformat": 4,
 "nbformat_minor": 2
}
