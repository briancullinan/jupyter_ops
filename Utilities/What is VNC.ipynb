{
  "cells": [
    {
      "cell_type": "markdown",
      "source": [
        "# What is VNC?\n",
        "\nVNC is a remote desktop and screen sharing service."
      ],
      "metadata": {}
    },
    {
      "cell_type": "code",
      "source": [
        "fluxbox -display :0\n",
        "x11vnc -forever -nopw -shared -rfbport 5900 -display :0\n",
        "\n"
      ],
      "outputs": [],
      "execution_count": null,
      "metadata": {
        "collapsed": false,
        "outputHidden": false,
        "inputHidden": false
      }
    },
    {
      "cell_type": "markdown",
      "source": [
        "Finally, run this middle-ware for the html5 client\n"
      ],
      "metadata": {}
    },
    {
      "cell_type": "code",
      "source": [
        "../novnc/utils/launch.sh --vnc localhost:5900\n"
      ],
      "outputs": [],
      "execution_count": null,
      "metadata": {
        "collapsed": false,
        "outputHidden": false,
        "inputHidden": false
      }
    },
    {
      "cell_type": "markdown",
      "source": [
        "VNC HTML client?\n",
        "\n",
        "* https://github.com/novnc/noVNC.git\n"
      ],
      "metadata": {}
    },
    {
      "cell_type": "code",
      "source": [
        "mkdir -p novnc ; if git --work-tree=./novnc branch | grep 'master'; then \\\n",
        "echo \"Already checked out novnc\"; \\\n",
        "else \\\n",
        "git clone https://github.com/novnc/noVNC.git ./novnc ; \\\n",
        "fi ; ls -la novnc ; pwd\n"
      ],
      "outputs": [],
      "execution_count": 17,
      "metadata": {
        "collapsed": false,
        "outputHidden": false,
        "inputHidden": false
      }
    },
    {
      "cell_type": "markdown",
      "source": [
        "Use vnc with live-server?"
      ],
      "metadata": {}
    },
    {
      "cell_type": "code",
      "source": [
        "npm i -g live-server\n",
        "live-server novnc\n"
      ],
      "outputs": [],
      "execution_count": 15,
      "metadata": {
        "collapsed": false,
        "outputHidden": false,
        "inputHidden": false
      }
    },
    {
      "cell_type": "markdown",
      "source": [
        "Use VNC in Docker?\n",
        "\n",
        "Selenium Docker configured x11vnx and Xvfb for us!\n"
      ],
      "metadata": {}
    },
    {
      "cell_type": "code",
      "source": [
        "\n",
        "RUN dos2unix /home/seluser/novnc/utils/launch.sh\n",
        "RUN sed -i '/wait \\$NODE_PID/i/home/seluser/novnc/utils/launch.sh --vnc localhost:5900 &' /opt/bin/entry_point.sh\n",
        "USER seluser\n"
      ],
      "outputs": [],
      "execution_count": null,
      "metadata": {
        "collapsed": false,
        "outputHidden": false,
        "inputHidden": false
      }
    }
  ],
  "metadata": {
    "kernelspec": {
      "name": "bash",
      "language": "bash",
      "display_name": "Bash"
    },
    "kernel_info": {
      "name": "bash"
    },
    "language_info": {
      "name": "bash",
      "codemirror_mode": "shell",
      "mimetype": "text/x-sh",
      "file_extension": ".sh"
    }
  },
  "nbformat": 4,
  "nbformat_minor": 4
}