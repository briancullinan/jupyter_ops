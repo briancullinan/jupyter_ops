{
  "cells": [
    {
      "cell_type": "markdown",
      "source": [
        "# What is VNC?\n",
        "\nVNC is a remote desktop and screen sharing service."
      ],
      "metadata": {}
    },
    {
      "cell_type": "code",
      "source": [
        "fluxbox -display :0\n",
        "x11vnc -forever -nopw -shared -rfbport 5900 -display :0\n",
        "\n"
      ],
      "outputs": [],
      "execution_count": null,
      "metadata": {
        "collapsed": false,
        "outputHidden": false,
        "inputHidden": false
      }
    },
    {
      "cell_type": "markdown",
      "source": [
        "Finally, run this middle-ware for the html5 client\n"
      ],
      "metadata": {}
    },
    {
      "cell_type": "code",
      "source": [
        "../novnc/utils/launch.sh --vnc localhost:5900\n"
      ],
      "outputs": [],
      "execution_count": null,
      "metadata": {
        "collapsed": false,
        "outputHidden": false,
        "inputHidden": false
      }
    },
    {
      "cell_type": "markdown",
      "source": [
        "VNC HTML client?\n",
        "\n",
        "* https://github.com/novnc/noVNC.git\n"
      ],
      "metadata": {}
    },
    {
      "cell_type": "code",
      "source": [
        "mkdir -p novnc\n",
        "cd novnc\n",
        "if git branch | grep 'master' &> /dev/null; then \\\n",
        "echo \"Already checked out novnc\"; \\\n",
        "else \\\n",
        "git clone https://github.com/novnc/noVNC.git ./ ; \\\n",
        "fi\n",
        "cd ../"
      ],
      "outputs": [
        {
          "output_type": "stream",
          "name": "stdout",
          "text": [
            "Already checked out novnc\n"
          ]
        }
      ],
      "execution_count": 17,
      "metadata": {
        "collapsed": false,
        "outputHidden": false,
        "inputHidden": false
      }
    },
    {
      "cell_type": "code",
      "source": [
        "PWD\n"
      ],
      "outputs": [
        {
          "output_type": "stream",
          "name": "stdout",
          "text": [
            "/Users/briancullinan\n"
          ]
        }
      ],
      "execution_count": 15,
      "metadata": {
        "collapsed": false,
        "outputHidden": false,
        "inputHidden": false
      }
    },
    {
      "cell_type": "markdown",
      "source": [
        "Use VNC in Docker?\n",
        "\n",
        "Selenium Docker configured x11vnx and Xvfb for us!\n"
      ],
      "metadata": {}
    },
    {
      "cell_type": "code",
      "source": [
        "ADD novnc /home/seluser/novnc\n",
        "RUN dos2unix /home/seluser/novnc/utils/launch.sh\n",
        "RUN sed -i '/wait \\$NODE_PID/i/home/seluser/novnc/utils/launch.sh --vnc localhost:5900 &' /opt/bin/entry_point.sh\n"
      ],
      "outputs": [],
      "execution_count": null,
      "metadata": {
        "collapsed": false,
        "outputHidden": false,
        "inputHidden": false
      }
    }
  ],
  "metadata": {
    "kernelspec": {
      "name": "bash",
      "language": "bash",
      "display_name": "Bash"
    },
    "kernel_info": {
      "name": "bash"
    },
    "language_info": {
      "name": "bash",
      "codemirror_mode": "shell",
      "mimetype": "text/x-sh",
      "file_extension": ".sh"
    }
  },
  "nbformat": 4,
  "nbformat_minor": 4
}