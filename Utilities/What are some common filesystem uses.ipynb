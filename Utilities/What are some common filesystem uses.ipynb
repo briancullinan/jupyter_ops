{
  "cells": [
    {
      "cell_type": "code",
      "source": [
        "var execSync = require('child_process').execSync;\n",
        "try {\n",
        "    require.resolve('renamer');\n",
        "} catch (e) {\n",
        "    execSync('npm install renamer');\n",
        "}\n",
        "\n",
        "var renamer = require('renamer');\n",
        "var files = renamer.expand('C:\\\\Users\\\\brian.cullinan\\\\Documents\\\\portal\\\\src\\\\**\\\\*.scss');\n",
        "var results = renamer.replace({files: files.filesAndDirs, find: '.scss', replace: '.less'});\n",
        "renamer.dryRun(results).list.forEach(r => {\n",
        "    console.log(r.before);\n",
        "    // rename with git instead\n",
        "    execSync('git --work-tree=\"C:\\\\Users\\\\brian.cullinan\\\\Documents\\\\portal\" --git-dir=\"C:\\\\Users\\\\brian.cullinan\\\\Documents\\\\portal\\\\.git\" mv ' + JSON.stringify(r.before) + ' ' + JSON.stringify(r.after));\n",
        "});"
      ],
      "outputs": [
        {
          "output_type": "stream",
          "name": "stdout",
          "text": [
            "C:\\Users\\brian.cullinan\\Documents\\portal\\src\\app\\app.component.scss\n",
            "C:\\Users\\brian.cullinan\\Documents\\portal\\src\\app\\app.scss\n",
            "C:\\Users\\brian.cullinan\\Documents\\portal\\src\\app\\auth\\login\\login.component.scss\n",
            "C:\\Users\\brian.cullinan\\Documents\\portal\\src\\app\\auth\\register-form\\register-form.component.scss\n",
            "C:\\Users\\brian.cullinan\\Documents\\portal\\src\\app\\layout\\404\\not-found.component.scss\n",
            "C:\\Users\\brian.cullinan\\Documents\\portal\\src\\app\\layout\\footer\\footer.component.scss\n",
            "C:\\Users\\brian.cullinan\\Documents\\portal\\src\\app\\layout\\layout.component.scss\n",
            "C:\\Users\\brian.cullinan\\Documents\\portal\\src\\app\\layout\\menu\\menu.component.scss\n",
            "C:\\Users\\brian.cullinan\\Documents\\portal\\src\\app\\layout\\toolbar\\toolbar.component.scss\n",
            "C:\\Users\\brian.cullinan\\Documents\\portal\\src\\app\\temp-demo-pages\\contact\\contact.component.scss\n",
            "C:\\Users\\brian.cullinan\\Documents\\portal\\src\\app\\temp-demo-pages\\demo\\demo.component.scss\n",
            "C:\\Users\\brian.cullinan\\Documents\\portal\\src\\app\\temp-demo-pages\\home\\home.component.scss\n",
            "C:\\Users\\brian.cullinan\\Documents\\portal\\src\\app\\trial\\trial.component.scss\n",
            "C:\\Users\\brian.cullinan\\Documents\\portal\\src\\assets\\colors.scss\n"
          ]
        }
      ],
      "execution_count": 16,
      "metadata": {
        "collapsed": false,
        "outputHidden": false,
        "inputHidden": false
      }
    },
    {
      "cell_type": "code",
      "source": [],
      "outputs": [],
      "execution_count": null,
      "metadata": {
        "collapsed": false,
        "outputHidden": false,
        "inputHidden": false
      }
    }
  ],
  "metadata": {
    "kernelspec": {
      "name": "node_nteract",
      "language": "javascript",
      "display_name": "Node.js (nteract)"
    },
    "kernel_info": {
      "name": "node_nteract"
    },
    "language_info": {
      "name": "javascript",
      "version": "6.5.0",
      "mimetype": "application/javascript",
      "file_extension": ".js"
    }
  },
  "nbformat": 4,
  "nbformat_minor": 4
}