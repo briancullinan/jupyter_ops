{
  "cells": [
    {
      "cell_type": "code",
      "source": [
        "git difftool --tool=b3 branch1..branch2\n"
      ],
      "outputs": [],
      "execution_count": null,
      "metadata": {
        "collapsed": false,
        "outputHidden": false,
        "inputHidden": false
      }
    }
  ],
  "metadata": {
    "kernelspec": {
      "name": "powershell",
      "language": "powershell",
      "display_name": "PowerShell"
    },
    "kernel_info": {
      "name": "powershell"
    }
  },
  "nbformat": 4,
  "nbformat_minor": 4
}