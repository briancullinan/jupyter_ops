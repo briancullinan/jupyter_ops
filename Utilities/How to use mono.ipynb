{
  "cells": [
    {
      "cell_type": "markdown",
      "source": [
        "How to run Mono with docker?"
      ],
      "metadata": {}
    },
    {
      "cell_type": "code",
      "source": [
        "FROM mono:latest\n",
        "\n"
      ],
      "outputs": [],
      "execution_count": null,
      "metadata": {
        "collapsed": false,
        "outputHidden": false,
        "inputHidden": false
      }
    },
    {
      "cell_type": "markdown",
      "source": [
        "How to build a project with mono"
      ],
      "metadata": {}
    },
    {
      "cell_type": "code",
      "source": [
        "\n",
        "echo '<configuration> \\\n",
        "    <packageRestore> \\\n",
        "        <add key=\"enabled\" value=\"True\" /> \\\n",
        "        <add key=\"automatic\" value=\"True\" /> \\\n",
        "    </packageRestore> \\\n",
        "    <packageSources> \\\n",
        "        <add key=\"nuget.org\" value=\"https://www.nuget.org/api/v2/\" /> \\\n",
        "        <add key=\"nuget.org\" value=\"https://api.nuget.org/v3/index.json\" protocolVersion=\"3\" /> \\\n",
        "        <add key=\"teamCity\" value=\"http://teamcity.actops.com/httpAuth/app/nuget/v1/FeedService.svc\" /> \\\n",
        "    </packageSources> \\\n",
        "</configuration>' > /act.subscription.management/.nuget/NuGet.Config\n",
        "\n",
        "ln -s subscription.myact/ Subscription.MyAct\n",
        "ln -s subscription.core/ Subscription.Core\n",
        "ln -s subscription.entitlement/ Subscription.Entitlement\n",
        "ln -s subscription.integrations/ Subscription.Integrations\n",
        "ln -s subscription.identitymanagement/ Subscription.IdentityManagement\n",
        "\n",
        "nuget sources update -Name teamCity -source http://teamcity.actops.com/httpAuth/app/nuget/v1/FeedService.svc -User {username} -pass {password} -configFile .nuget/NuGet.Config -StorePasswordInClearText\n",
        "nuget update /act.subscription.management/act.subscription.management.sln\n",
        "msbuild Subscription.IdentityManagement.csproj\n"
      ],
      "outputs": [],
      "execution_count": null,
      "metadata": {
        "collapsed": false,
        "outputHidden": false,
        "inputHidden": false
      }
    },
    {
      "cell_type": "code",
      "source": [],
      "outputs": [],
      "execution_count": null,
      "metadata": {
        "collapsed": false,
        "outputHidden": false,
        "inputHidden": false
      }
    }
  ],
  "metadata": {
    "kernelspec": {
      "name": "node_nteract",
      "language": "javascript",
      "display_name": "Node.js (nteract)"
    },
    "kernel_info": {
      "name": "node_nteract"
    },
    "language_info": {
      "name": "javascript",
      "version": "6.5.0",
      "mimetype": "application/javascript",
      "file_extension": ".js"
    }
  },
  "nbformat": 4,
  "nbformat_minor": 4
}