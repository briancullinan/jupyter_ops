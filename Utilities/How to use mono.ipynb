{
  "cells": [
    {
      "cell_type": "markdown",
      "source": [
        "How to run Mono with docker?"
      ],
      "metadata": {}
    },
    {
      "cell_type": "code",
      "source": [
        "FROM mono:latest\n",
        "\n"
      ],
      "outputs": [],
      "execution_count": null,
      "metadata": {
        "collapsed": false,
        "outputHidden": false,
        "inputHidden": false
      }
    },
    {
      "cell_type": "markdown",
      "source": [
        "How to build a project with mono"
      ],
      "metadata": {}
    },
    {
      "cell_type": "code",
      "source": [
        "\n\n"
      ],
      "outputs": [],
      "execution_count": null,
      "metadata": {
        "collapsed": false,
        "outputHidden": false,
        "inputHidden": false
      }
    }
  ],
  "metadata": {
    "kernelspec": {
      "name": "node_nteract",
      "language": "javascript",
      "display_name": "Node.js (nteract)"
    },
    "kernel_info": {
      "name": "node_nteract"
    },
    "language_info": {
      "name": "javascript",
      "version": "6.5.0",
      "mimetype": "application/javascript",
      "file_extension": ".js"
    }
  },
  "nbformat": 4,
  "nbformat_minor": 4
}