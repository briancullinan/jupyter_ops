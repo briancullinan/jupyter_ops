{
  "cells": [
    {
      "cell_type": "markdown",
      "source": [
        "Rename a bunch of files using Git and renamer?\n",
        "\n"
      ],
      "metadata": {}
    },
    {
      "cell_type": "code",
      "source": [
        "var execSync = require('child_process').execSync;\n",
        "try {\n",
        "    require.resolve('renamer');\n",
        "} catch (e) {\n",
        "    execSync('npm install renamer');\n",
        "}\n",
        "var renamer = require('renamer');\n",
        "var renameUsingGit = (root, match, find, replace) => {\n",
        "    var files = renamer.expand(path.join(root, match));\n",
        "    var results = renamer.replace({\n",
        "        files: files.filesAndDirs, \n",
        "        find: find, \n",
        "        replace: replace});\n",
        "    return renamer.dryRun(results).list.map(r => {\n",
        "        // rename with git instead\n",
        "        var output = execSync('git ' \n",
        "                 + '--work-tree=' + JSON.stringify(root)\n",
        "                 + ' --git-dir=' + JSON.stringify(path.join(root, '.git'))\n",
        "                 + ' mv ' + JSON.stringify(r.before) \n",
        "                 + ' ' + JSON.stringify(r.after));\n",
        "        return output.toString() || r.after;\n",
        "    });\n",
        "};\n",
        "(renameUsingGit);\n"
      ],
      "outputs": [
        {
          "output_type": "execute_result",
          "execution_count": 3,
          "data": {
            "text/plain": [
              "[Function: renameUsingGit]"
            ]
          },
          "metadata": {}
        }
      ],
      "execution_count": 3,
      "metadata": {
        "collapsed": false,
        "outputHidden": false,
        "inputHidden": false
      }
    },
    {
      "cell_type": "code",
      "source": [
        "// test it\n",
        "// rename all scss files to less\n",
        "renameUsingGit(\n",
        "    '/Users/briancullinan/Documents/portal',\n",
        "    'src/**/*.scss',\n",
        "    '.scss',\n",
        "    '.less');"
      ],
      "outputs": [
        {
          "output_type": "execute_result",
          "execution_count": 4,
          "data": {
            "text/plain": [
              "[ '/Users/briancullinan/Documents/portal/src/app/app.component.less',\n",
              "  '/Users/briancullinan/Documents/portal/src/app/app.less',\n",
              "  '/Users/briancullinan/Documents/portal/src/app/auth/login/login.component.less',\n",
              "  '/Users/briancullinan/Documents/portal/src/app/auth/register-form/register-form.component.less',\n",
              "  '/Users/briancullinan/Documents/portal/src/app/layout/footer/footer.component.less',\n",
              "  '/Users/briancullinan/Documents/portal/src/app/layout/layout.component.less',\n",
              "  '/Users/briancullinan/Documents/portal/src/app/layout/menu/menu.component.less',\n",
              "  '/Users/briancullinan/Documents/portal/src/app/layout/not-found/not-found.component.less',\n",
              "  '/Users/briancullinan/Documents/portal/src/app/layout/toolbar/toolbar.component.less',\n",
              "  '/Users/briancullinan/Documents/portal/src/app/temp-demo-pages/contact/contact.component.less',\n",
              "  '/Users/briancullinan/Documents/portal/src/app/temp-demo-pages/demo/demo.component.less',\n",
              "  '/Users/briancullinan/Documents/portal/src/app/temp-demo-pages/home/home.component.less',\n",
              "  '/Users/briancullinan/Documents/portal/src/app/trial/trial.component.less',\n",
              "  '/Users/briancullinan/Documents/portal/src/assets/colors.less' ]"
            ]
          },
          "metadata": {}
        }
      ],
      "execution_count": 4,
      "metadata": {
        "collapsed": false,
        "outputHidden": false,
        "inputHidden": false
      }
    },
    {
      "cell_type": "markdown",
      "source": [
        "How to use memory-fs and rewire to audit cli events?\n",
        "\n"
      ],
      "metadata": {}
    },
    {
      "cell_type": "code",
      "source": [
        "var path = require('path');\n",
        "var execSync = require('child_process').execSync;\n",
        "try {\n",
        "    require.resolve('@angular/cli');\n",
        "    require.resolve('rewire');\n",
        "    require.resolve('typescript')\n",
        "    require.resolve('memory-fs');\n",
        "} catch (e) {\n",
        "    execSync('npm install @angular/cli rewire typescript memory-fs');\n",
        "}\n",
        "var rewire = require('rewire');\n",
        "\n",
        "var mockAllWithFallback = (fallback, map) => {\n",
        "    var f = Object.assign({}, require(fallback));\n",
        "    Object.keys(f).forEach(k => {\n",
        "        var old = f[k];\n",
        "        if(typeof f[k] === 'function') {\n",
        "            f[k] = (p1, p2, p3, p4, p5, p6, p7, p8, p9) => {\n",
        "                console.log(((('Called ' + k) + p1) + p2) + p3);\n",
        "                try {\n",
        "                    return map[k].apply(\n",
        "                        null,\n",
        "                        [p1, p2, p3, p4, p5, p6, p7, p8, p9]);\n",
        "                } catch (e) {\n",
        "                    console.log(e);\n",
        "                    return old.apply(\n",
        "                        null,\n",
        "                        [p1, p2, p3, p4, p5, p6, p7, p8, p9]);\n",
        "                }\n",
        "            };\n",
        "        }\n",
        "    });\n",
        "    return f;\n",
        "};\n",
        "\n",
        "var mountAndRewireAngular = (memfs) => {\n",
        "    //var MemoryFileSystem = require(\"memory-fs\");\n",
        "    //var memfs = new MemoryFileSystem(data);\n",
        "    var ng = rewire('@angular/cli');\n",
        "    var map = {\n",
        "        fs: memfs,\n",
        "        typescript: {\n",
        "            sys: {\n",
        "                readFile: memfs.readFileSync,\n",
        "                writeFile: memfs.writeFileSync,\n",
        "                fileExists: memfs.fileExistsSync\n",
        "            }\n",
        "        }\n",
        "    };\n",
        "    Object.keys(map).forEach(k => {\n",
        "        var mock = mockAllWithFallback(k, map[k]);\n",
        "        ng.__set__(k, mock);\n",
        "    });\n",
        "    return ng;\n",
        "};\n",
        "(mountAndRewireAngular);\n",
        "\n"
      ],
      "outputs": [
        {
          "output_type": "execute_result",
          "execution_count": 2,
          "data": {
            "text/plain": [
              "[Function: mountAndRewireAngular]"
            ]
          },
          "metadata": {}
        }
      ],
      "execution_count": 2,
      "metadata": {
        "collapsed": false,
        "outputHidden": false,
        "inputHidden": false
      }
    },
    {
      "cell_type": "code",
      "source": [],
      "outputs": [],
      "execution_count": null,
      "metadata": {
        "collapsed": false,
        "outputHidden": false,
        "inputHidden": false
      }
    }
  ],
  "metadata": {
    "kernelspec": {
      "name": "node_nteract",
      "language": "javascript",
      "display_name": "Node.js (nteract)"
    },
    "kernel_info": {
      "name": "node_nteract"
    },
    "language_info": {
      "name": "javascript",
      "version": "6.5.0",
      "mimetype": "application/javascript",
      "file_extension": ".js"
    }
  },
  "nbformat": 4,
  "nbformat_minor": 4
}