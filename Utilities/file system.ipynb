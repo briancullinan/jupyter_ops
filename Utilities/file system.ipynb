{
 "cells": [
  {
   "cell_type": "markdown",
   "metadata": {},
   "source": [
    "Rename a bunch of files using Git and renamer?\n",
    "\n"
   ]
  },
  {
   "cell_type": "code",
   "execution_count": 3,
   "metadata": {
    "collapsed": false,
    "inputHidden": false,
    "outputHidden": false
   },
   "outputs": [],
   "source": [
    "var execSync = require('child_process').execSync;\n",
    "try {\n",
    "    require.resolve('renamer');\n",
    "} catch (e) {\n",
    "    execSync('npm install renamer');\n",
    "}\n",
    "var renamer = require('renamer');\n",
    "var renameUsingGit = (root, match, find, replace) => {\n",
    "    var files = renamer.expand(path.join(root, match));\n",
    "    var results = renamer.replace({\n",
    "        files: files.filesAndDirs, \n",
    "        find: find, \n",
    "        replace: replace});\n",
    "    return renamer.dryRun(results).list.map(r => {\n",
    "        // rename with git instead\n",
    "        var output = execSync('git ' \n",
    "                 + '--work-tree=' + JSON.stringify(root)\n",
    "                 + ' --git-dir=' + JSON.stringify(path.join(root, '.git'))\n",
    "                 + ' mv ' + JSON.stringify(r.before) \n",
    "                 + ' ' + JSON.stringify(r.after));\n",
    "        return output.toString() || r.after;\n",
    "    });\n",
    "};\n",
    "(renameUsingGit);\n"
   ]
  },
  {
   "cell_type": "code",
   "execution_count": 4,
   "metadata": {
    "collapsed": false,
    "inputHidden": false,
    "outputHidden": false
   },
   "outputs": [],
   "source": [
    "// test it\n",
    "// rename all scss files to less\n",
    "renameUsingGit(\n",
    "    '/Users/briancullinan/Documents/portal',\n",
    "    'src/**/*.scss',\n",
    "    '.scss',\n",
    "    '.less');"
   ]
  },
  {
   "cell_type": "markdown",
   "metadata": {},
   "source": [
    "How to use memory-fs and rewire to audit cli events?\n",
    "\n"
   ]
  },
  {
   "cell_type": "code",
   "execution_count": 2,
   "metadata": {
    "collapsed": false,
    "inputHidden": false,
    "outputHidden": false
   },
   "outputs": [],
   "source": [
    "var path = require('path');\n",
    "var execSync = require('child_process').execSync;\n",
    "try {\n",
    "    require.resolve('mock-require');\n",
    "    require.resolve('unionfs');\n",
    "    require.resolve('typescript');\n",
    "    require.resolve('memfs');\n",
    "} catch (e) {\n",
    "    execSync('npm install mock-require memfs typescript unionfs');\n",
    "}\n",
    "// TODO: use https://github.com/jhnns/rewire for replacing variables, something like https://github.com/mariocasciaro/object-path?\n",
    "\n",
    "var mockTypescriptFs = (root, data) => {\n",
    "    var mock = require('mock-require');\n",
    "    var memfs = require('memfs');\n",
    "    var mem = new memfs.Volume;\n",
    "    var unionfs = require('unionfs');\n",
    "    var fs = require('fs');\n",
    "    \n",
    "    mem.mountSync(root, data);\n",
    "\n",
    "    // Create a union of two file systems:\n",
    "    unionfs\n",
    "        .use(fs)\n",
    "        .use(mem)\n",
    "        .replace(fs);\n",
    "    \n",
    "    var ts = require('typescript');\n",
    "    var tsMock = Object.assign({}, ts);\n",
    "    var toMock = {\n",
    "        readFile: 'readFileSync',\n",
    "        realpath: 'realpathSync',\n",
    "        writeFile: 'writeFileSync',\n",
    "        fileExists: 'existsSync',\n",
    "        directoryExists: 'existsSync',\n",
    "        createDirectory: 'mkdirSync',\n",
    "        getDirectories: 'readdirSync'\n",
    "    };\n",
    "    Object.keys(toMock)\n",
    "        .forEach(k => {\n",
    "            if(typeof mem[toMock[k]] === 'function') {\n",
    "                tsMock.sys[k] = function () {\n",
    "                    // typescript.sys functions return defined on error\n",
    "                    try {\n",
    "                        return mem[toMock[k]].apply(mem, arguments);\n",
    "                    } catch (e) {\n",
    "                        return;\n",
    "                    }\n",
    "                };\n",
    "            }\n",
    "        });\n",
    "\n",
    "    mock('typescript', tsMock);\n",
    "    return mock;\n",
    "};\n",
    "(mockTypescriptFs);\n",
    "\n",
    "// TODO: search github for projects like graceful-fs and then search google for projects that use graceful-fs and see if we can record some filesystem activity\n",
    "\n"
   ]
  },
  {
   "cell_type": "code",
   "execution_count": 3,
   "metadata": {
    "collapsed": false,
    "inputHidden": false,
    "outputHidden": false
   },
   "outputs": [],
   "source": [
    "\n",
    "mockTypescriptFs();\n"
   ]
  },
  {
   "cell_type": "code",
   "execution_count": null,
   "metadata": {
    "collapsed": false,
    "inputHidden": false,
    "outputHidden": false
   },
   "outputs": [],
   "source": []
  }
 ],
 "metadata": {
  "kernel_info": {
   "name": "javascript"
  },
  "kernelspec": {
   "display_name": "Javascript (Node.js)",
   "language": "javascript",
   "name": "javascript"
  },
  "language_info": {
   "file_extension": ".js",
   "mimetype": "application/javascript",
   "name": "javascript",
   "version": "7.7.2"
  }
 },
 "nbformat": 4,
 "nbformat_minor": 4
}
