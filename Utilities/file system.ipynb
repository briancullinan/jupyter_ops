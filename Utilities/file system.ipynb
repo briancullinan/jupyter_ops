{
 "cells": [
  {
   "cell_type": "markdown",
   "metadata": {},
   "source": [
    "Rename a bunch of files using Git and renamer?\n",
    "\n"
   ]
  },
  {
   "cell_type": "code",
   "execution_count": null,
   "metadata": {
    "collapsed": false,
    "inputHidden": false,
    "outputHidden": false
   },
   "outputs": [],
   "source": [
    "var execSync = require('child_process').execSync;\n",
    "try {\n",
    "    require.resolve('renamer');\n",
    "} catch (e) {\n",
    "    execSync('npm install renamer');\n",
    "}\n",
    "var renamer = require('renamer');\n",
    "var renameUsingGit = (root, match, find, replace) => {\n",
    "    var files = renamer.expand(path.join(root, match));\n",
    "    var results = renamer.replace({\n",
    "        files: files.filesAndDirs, \n",
    "        find: find, \n",
    "        replace: replace});\n",
    "    return renamer.dryRun(results).list.map(r => {\n",
    "        // rename with git instead\n",
    "        var output = execSync('git ' \n",
    "                 + '--work-tree=' + JSON.stringify(root)\n",
    "                 + ' --git-dir=' + JSON.stringify(path.join(root, '.git'))\n",
    "                 + ' mv ' + JSON.stringify(r.before) \n",
    "                 + ' ' + JSON.stringify(r.after));\n",
    "        return output.toString() || r.after;\n",
    "    });\n",
    "};\n",
    "(renameUsingGit);\n"
   ]
  },
  {
   "cell_type": "code",
   "execution_count": null,
   "metadata": {
    "collapsed": false,
    "inputHidden": false,
    "outputHidden": false
   },
   "outputs": [],
   "source": [
    "// test it\n",
    "// rename all scss files to less\n",
    "renameUsingGit(\n",
    "    '/Users/briancullinan/Documents/portal',\n",
    "    'src/**/*.scss',\n",
    "    '.scss',\n",
    "    '.less');"
   ]
  },
  {
   "cell_type": "markdown",
   "metadata": {},
   "source": [
    "How to use memory-fs and rewire to audit cli events?\n",
    "\n"
   ]
  },
  {
   "cell_type": "code",
   "execution_count": null,
   "metadata": {
    "collapsed": false,
    "inputHidden": false,
    "outputHidden": false
   },
   "outputs": [],
   "source": [
    "var path = require('path');\n",
    "var execSync = require('child_process').execSync;\n",
    "try {\n",
    "    require.resolve('mock-require');\n",
    "    require.resolve('unionfs');\n",
    "    require.resolve('typescript');\n",
    "    require.resolve('memfs');\n",
    "} catch (e) {\n",
    "    execSync('npm install mock-require memfs typescript unionfs');\n",
    "}\n",
    "// TODO: use https://github.com/jhnns/rewire for replacing variables, something like https://github.com/mariocasciaro/object-path?\n",
    "\n",
    "var mockTypescriptFs = (root, data) => {\n",
    "    var mock = require('mock-require');\n",
    "    var memfs = require('memfs');\n",
    "    var mem = new memfs.Volume;\n",
    "    var unionfs = require('unionfs');\n",
    "    var fs = require('fs');\n",
    "    \n",
    "    mem.mountSync(root, data);\n",
    "\n",
    "    // Create a union of two file systems:\n",
    "    unionfs\n",
    "        .use(fs)\n",
    "        .use(mem)\n",
    "        .replace(fs);\n",
    "    \n",
    "    var ts = require('typescript');\n",
    "    var tsMock = Object.assign({}, ts);\n",
    "    var toMock = {\n",
    "        readFile: 'readFileSync',\n",
    "        realpath: 'realpathSync',\n",
    "        writeFile: 'writeFileSync',\n",
    "        fileExists: 'existsSync',\n",
    "        directoryExists: 'existsSync',\n",
    "        createDirectory: 'mkdirSync',\n",
    "        getDirectories: 'readdirSync'\n",
    "    };\n",
    "    Object.keys(toMock)\n",
    "        .forEach(k => {\n",
    "            if(typeof mem[toMock[k]] === 'function') {\n",
    "                tsMock.sys[k] = function () {\n",
    "                    // typescript.sys functions return defined on error\n",
    "                    try {\n",
    "                        return mem[toMock[k]].apply(mem, arguments);\n",
    "                    } catch (e) {\n",
    "                        return;\n",
    "                    }\n",
    "                };\n",
    "            }\n",
    "        });\n",
    "\n",
    "    mock('typescript', tsMock);\n",
    "    return mock;\n",
    "};\n",
    "(mockTypescriptFs);\n",
    "\n",
    "// TODO: search github for projects like graceful-fs and then search google for projects that use graceful-fs and see if we can record some filesystem activity\n",
    "\n"
   ]
  },
  {
   "cell_type": "code",
   "execution_count": null,
   "metadata": {
    "collapsed": false,
    "inputHidden": false,
    "outputHidden": false
   },
   "outputs": [],
   "source": [
    "\n",
    "mockTypescriptFs();\n"
   ]
  },
  {
   "cell_type": "code",
   "execution_count": 31,
   "metadata": {
    "collapsed": false,
    "inputHidden": false,
    "outputHidden": false
   },
   "outputs": [
    {
     "data": {
      "image/svg+xml": [
       "<svg xmlns=\"http://www.w3.org/2000/svg\" width=\"960\" height=\"500\"><g transform=\"translate(495,245)\"><text style=\"font-size: 107px; font-family: Impact; fill: #1f77b4;\" text-anchor=\"middle\" transform=\"translate(-40,73)rotate(-7)\">@angular/core</text><text style=\"font-size: 61px; font-family: Impact; fill: #aec7e8;\" text-anchor=\"middle\" transform=\"translate(134,-81)rotate(17)\">@angular/common</text><text style=\"font-size: 61px; font-family: Impact; fill: #ff7f0e;\" text-anchor=\"middle\" transform=\"translate(-153,-118)rotate(-50)\">jasmine</text><text style=\"font-size: 60px; font-family: Impact; fill: #ffbb78;\" text-anchor=\"middle\" transform=\"translate(142,-133)rotate(17)\">http/testing</text><text style=\"font-size: 35px; font-family: Impact; fill: #2ca02c;\" text-anchor=\"middle\" transform=\"translate(-87,-53)rotate(-27)\">@angular/http</text><text style=\"font-size: 33px; font-family: Impact; fill: #98df8a;\" text-anchor=\"middle\" transform=\"translate(-1,-34)rotate(-14)\">/appcomponent</text><text style=\"font-size: 31px; font-family: Impact; fill: #d62728;\" text-anchor=\"middle\" transform=\"translate(-254,-74)rotate(-59)\">core/coremodule</text><text style=\"font-size: 30px; font-family: Impact; fill: #ff9896;\" text-anchor=\"middle\" transform=\"translate(236,65)rotate(-7)\">testing/catalog-stubs</text><text style=\"font-size: 29px; font-family: Impact; fill: #9467bd;\" text-anchor=\"middle\" transform=\"translate(265,-146)rotate(30)\">@angular/material</text><text style=\"font-size: 28px; font-family: Impact; fill: #c5b0d5;\" text-anchor=\"middle\" transform=\"translate(-311,-60)rotate(-47)\">rxjs/Observable</text><text style=\"font-size: 23px; font-family: Impact; fill: #8c564b;\" text-anchor=\"middle\" transform=\"translate(326,-180)rotate(2)\">auth/authservice</text><text style=\"font-size: 22px; font-family: Impact; fill: #c49c94;\" text-anchor=\"middle\" transform=\"translate(139,137)rotate(24)\">register-form/register-user</text><text style=\"font-size: 22px; font-family: Impact; fill: #e377c2;\" text-anchor=\"middle\" transform=\"translate(252,112)rotate(11)\">billing/billingservice</text><text style=\"font-size: 22px; font-family: Impact; fill: #f7b6d2;\" text-anchor=\"middle\" transform=\"translate(-80,111)rotate(-16)\">@ngx-translate/core</text><text style=\"font-size: 22px; font-family: Impact; fill: #7f7f7f;\" text-anchor=\"middle\" transform=\"translate(-120,-82)rotate(-31)\">auth/auth-guard</text><text style=\"font-size: 21px; font-family: Impact; fill: #c7c7c7;\" text-anchor=\"middle\" transform=\"translate(-74,152)rotate(-28)\">models/product-model</text><text style=\"font-size: 21px; font-family: Impact; fill: #bcbd22;\" text-anchor=\"middle\" transform=\"translate(-348,-88)rotate(-34)\">rxjs/Subscription</text><text style=\"font-size: 21px; font-family: Impact; fill: #dbdb8d;\" text-anchor=\"middle\" transform=\"translate(50,184)rotate(4)\">line-item/up-downcomponent</text><text style=\"font-size: 21px; font-family: Impact; fill: #17becf;\" text-anchor=\"middle\" transform=\"translate(-257,-172)rotate(-18)\">login/logincomponent</text><text style=\"font-size: 20px; font-family: Impact; fill: #9edae5;\" text-anchor=\"middle\" transform=\"translate(359,146)rotate(-35)\">log/logservice</text><text style=\"font-size: 20px; font-family: Impact; fill: #1f77b4;\" text-anchor=\"middle\" transform=\"translate(-265,146)rotate(8)\">models/preview-model</text><text style=\"font-size: 20px; font-family: Impact; fill: #aec7e8;\" text-anchor=\"middle\" transform=\"translate(91,143)rotate(25)\">auth/authmanager</text><text style=\"font-size: 19px; font-family: Impact; fill: #ff7f0e;\" text-anchor=\"middle\" transform=\"translate(154,118)rotate(26)\">/authservice</text><text style=\"font-size: 18px; font-family: Impact; fill: #ffbb78;\" text-anchor=\"middle\" transform=\"translate(-124,-104)rotate(-32)\">/authmodule</text><text style=\"font-size: 18px; font-family: Impact; fill: #2ca02c;\" text-anchor=\"middle\" transform=\"translate(45,-26)rotate(-14)\">models/purchase-model</text><text style=\"font-size: 18px; font-family: Impact; fill: #98df8a;\" text-anchor=\"middle\" transform=\"translate(394,44)rotate(-58)\">rxjs/Subject</text><text style=\"font-size: 17px; font-family: Impact; fill: #d62728;\" text-anchor=\"middle\" transform=\"translate(-356,160)rotate(31)\">testing/auth-stubs</text><text style=\"font-size: 17px; font-family: Impact; fill: #ff9896;\" text-anchor=\"middle\" transform=\"translate(361,-63)rotate(35)\">layout/layoutservice</text><text style=\"font-size: 17px; font-family: Impact; fill: #9467bd;\" text-anchor=\"middle\" transform=\"translate(-389,-173)rotate(57)\">/authmanager</text><text style=\"font-size: 17px; font-family: Impact; fill: #c5b0d5;\" text-anchor=\"middle\" transform=\"translate(-138,162)rotate(-31)\">core/dialog-guard</text><text style=\"font-size: 17px; font-family: Impact; fill: #8c564b;\" text-anchor=\"middle\" transform=\"translate(353,-159)rotate(2)\">/trialcomponent</text><text style=\"font-size: 17px; font-family: Impact; fill: #c49c94;\" text-anchor=\"middle\" transform=\"translate(-243,-4)rotate(-30)\">/homecomponent</text><text style=\"font-size: 17px; font-family: Impact; fill: #e377c2;\" text-anchor=\"middle\" transform=\"translate(315,94)rotate(9)\">/contactcomponent</text><text style=\"font-size: 16px; font-family: Impact; fill: #f7b6d2;\" text-anchor=\"middle\" transform=\"translate(-229,119)rotate(-3)\">cart/cartcomponent</text><text style=\"font-size: 16px; font-family: Impact; fill: #7f7f7f;\" text-anchor=\"middle\" transform=\"translate(356,-128)rotate(20)\">/trialservice</text><text style=\"font-size: 16px; font-family: Impact; fill: #c7c7c7;\" text-anchor=\"middle\" transform=\"translate(45,156)rotate(13)\">@angular/animations</text><text style=\"font-size: 16px; font-family: Impact; fill: #bcbd22;\" text-anchor=\"middle\" transform=\"translate(188,-38)rotate(7)\">/auth-guard</text><text style=\"font-size: 16px; font-family: Impact; fill: #dbdb8d;\" text-anchor=\"middle\" transform=\"translate(-22,-58)rotate(-20)\">/dialog-guard</text><text style=\"font-size: 16px; font-family: Impact; fill: #17becf;\" text-anchor=\"middle\" transform=\"translate(-210,20)rotate(-9)\">/billingservice</text><text style=\"font-size: 16px; font-family: Impact; fill: #9edae5;\" text-anchor=\"middle\" transform=\"translate(-274,177)rotate(22)\">/up-downcomponent</text><text style=\"font-size: 15px; font-family: Impact; fill: #1f77b4;\" text-anchor=\"middle\" transform=\"translate(342,14)rotate(-17)\">/layoutservice</text><text style=\"font-size: 15px; font-family: Impact; fill: #aec7e8;\" text-anchor=\"middle\" transform=\"translate(-308,-183)rotate(-14)\">testing/trial-stubs</text><text style=\"font-size: 15px; font-family: Impact; fill: #ff7f0e;\" text-anchor=\"middle\" transform=\"translate(-352,-115)rotate(-28)\">/layoutcomponent</text><text style=\"font-size: 15px; font-family: Impact; fill: #ffbb78;\" text-anchor=\"middle\" transform=\"translate(-25,160)rotate(2)\">/trialrouting</text><text style=\"font-size: 15px; font-family: Impact; fill: #2ca02c;\" text-anchor=\"middle\" transform=\"translate(-369,-49)rotate(-32)\">/logincomponent</text><text style=\"font-size: 15px; font-family: Impact; fill: #98df8a;\" text-anchor=\"middle\" transform=\"translate(-396,153)rotate(32)\">/auth-user</text><text style=\"font-size: 15px; font-family: Impact; fill: #d62728;\" text-anchor=\"middle\" transform=\"translate(301,203)rotate(3)\">toolbar/toolbarcomponent</text><text style=\"font-size: 15px; font-family: Impact; fill: #ff9896;\" text-anchor=\"middle\" transform=\"translate(164,-183)rotate(28)\">router/testing</text><text style=\"font-size: 15px; font-family: Impact; fill: #9467bd;\" text-anchor=\"middle\" transform=\"translate(-356,10)rotate(-40)\">/register-user</text><text style=\"font-size: 15px; font-family: Impact; fill: #c5b0d5;\" text-anchor=\"middle\" transform=\"translate(-119,103)rotate(-18)\">/logservice</text><text style=\"font-size: 15px; font-family: Impact; fill: #8c564b;\" text-anchor=\"middle\" transform=\"translate(365,168)rotate(-27)\">/cartcomponent</text><text style=\"font-size: 15px; font-family: Impact; fill: #c49c94;\" text-anchor=\"middle\" transform=\"translate(304,-203)rotate(6)\">menu/menucomponent</text><text style=\"font-size: 15px; font-family: Impact; fill: #e377c2;\" text-anchor=\"middle\" transform=\"translate(-308,-198)rotate(-13)\">/iframe-loadermodule</text><text style=\"font-size: 15px; font-family: Impact; fill: #f7b6d2;\" text-anchor=\"middle\" transform=\"translate(36,-85)rotate(23)\">/act-http</text><text style=\"font-size: 15px; font-family: Impact; fill: #7f7f7f;\" text-anchor=\"middle\" transform=\"translate(225,138)rotate(39)\">/auth-stubs</text><text style=\"font-size: 15px; font-family: Impact; fill: #c7c7c7;\" text-anchor=\"middle\" transform=\"translate(-392,-15)rotate(-38)\">/approuting</text><text style=\"font-size: 15px; font-family: Impact; fill: #bcbd22;\" text-anchor=\"middle\" transform=\"translate(-68,202)rotate(-4)\">home/homecomponent</text><text style=\"font-size: 15px; font-family: Impact; fill: #dbdb8d;\" text-anchor=\"middle\" transform=\"translate(-38,-198)rotate(2)\">/authrouting</text><text style=\"font-size: 15px; font-family: Impact; fill: #17becf;\" text-anchor=\"middle\" transform=\"translate(395,179)rotate(-14)\">/buyrouting</text><text style=\"font-size: 15px; font-family: Impact; fill: #9edae5;\" text-anchor=\"middle\" transform=\"translate(260,149)rotate(54)\">/log-stubs</text><text style=\"font-size: 15px; font-family: Impact; fill: #1f77b4;\" text-anchor=\"middle\" transform=\"translate(-381,195)rotate(16)\">/demorouting</text><text style=\"font-size: 15px; font-family: Impact; fill: #aec7e8;\" text-anchor=\"middle\" transform=\"translate(-129,6)rotate(-1)\">rxjs/Rx</text></g></svg>"
      ]
     },
     "execution_count": 31,
     "metadata": {},
     "output_type": "execute_result"
    }
   ],
   "source": [
    "// TODO: break up d3 from file collection and create a gulp stream angular component out of it\n",
    "\n",
    "var path = require('path');\n",
    "var execSync = require('child_process').execSync;\n",
    "try {\n",
    "    require.resolve('gulp');\n",
    "    require.resolve('gulp-tap');\n",
    "    require.resolve('d3-node');\n",
    "    require.resolve('d3-cloud');\n",
    "    require.resolve('canvas');\n",
    "} catch (e) {\n",
    "    execSync('npm install \"github:gulpjs/gulp.git#4.0\" gulp-tap d3-node d3-cloud canvas');\n",
    "}\n",
    "\n",
    "var gulp = require('gulp');\n",
    "var tap = require('gulp-tap');\n",
    "var cloud = require('d3-cloud');\n",
    "\n",
    "var PROFILE_PATH = process.env.HOME || process.env.HOMEPATH || process.env.USERPROFILE;\n",
    "var project = PROFILE_PATH + '/Documents/portal';\n",
    "\n",
    "\n",
    "var Canvas = require(\"canvas\");\n",
    "var D3Node = require('d3-node');\n",
    "var d3n = new D3Node(); // initializes D3 with container element \n",
    "var d3 = d3n.d3;\n",
    "\n",
    "var margin = {top: 20, right: 20, bottom: 30, left: 50},\n",
    "    width = 960 - margin.left - margin.right,\n",
    "    height = 500 - margin.top - margin.bottom;\n",
    "\n",
    "var fill = d3.scaleOrdinal(d3.schemeCategory20);\n",
    "\n",
    "var svg = d3n.createSVG(width + margin.left + margin.right,\n",
    "                        height + margin.top + margin.bottom)\n",
    "  .append(\"g\")\n",
    "    .attr(\"transform\",\n",
    "          \"translate(\" + (margin.left + width / 2) + \",\" + (margin.top + height / 2) + \")\");\n",
    "\n",
    "var wordCount = {};\n",
    "function draw(wordCount) {\n",
    "    svg.selectAll(\"text\")\n",
    "    .data(wordCount)\n",
    "    .enter().append(\"text\")\n",
    "    .style(\"font-size\", function(d) { return d.size + \"px\"; })\n",
    "    .style(\"font-family\", \"Impact\")\n",
    "    .style(\"fill\", function(d, i) { return fill(i); })\n",
    "    .attr(\"text-anchor\", \"middle\")\n",
    "    .attr(\"transform\", function(d) {\n",
    "         return \"translate(\" + [d.x, d.y] + \")rotate(\" + d.rotate + \")\";\n",
    "    })\n",
    "    .text(function(d) { return d.text; });\n",
    "    \n",
    "    $$.svg(d3n.svgString());\n",
    "}\n",
    "\n",
    "var words = [];\n",
    "gulp.task('default', function() {\n",
    "    return gulp.src(['src/**/*.ts'], {cwd: project})\n",
    "        .pipe(tap(function (file) {\n",
    "            var content = file.contents.toString();\n",
    "            var re = /from\\s+.*?[\"'](.*?)['\"]/ig;\n",
    "            var m;\n",
    "            while ((m = re.exec(content))) {\n",
    "                words[words.length] = m[1];\n",
    "            }\n",
    "        }));\n",
    "});\n",
    "\n",
    "$$.async()\n",
    "try {\n",
    "gulp.series(() => gulp.task(['default'])(), function (done) {\n",
    "    done();\n",
    "    \n",
    "    words.forEach(w => {\n",
    "        var word = w.split('/').slice(w.split('/').length-2).join('#').replace(/[\\/\\.]/ig, '').replace('#', '/');\n",
    "        if(typeof wordCount[word] == 'undefined') {\n",
    "            wordCount[word] = 15;\n",
    "        } else {\n",
    "            wordCount[word]++;\n",
    "        }\n",
    "    });\n",
    "    wordCount = Object.keys(wordCount).map(function(d) {\n",
    "         return {text: d, size: wordCount[d]};\n",
    "    });\n",
    "    \n",
    "    cloud()\n",
    "        .canvas(function() { return new Canvas(1, 1); })\n",
    "        .size([width, height])\n",
    "        .words(wordCount)\n",
    "        .padding(0)\n",
    "        .rotate(function() { return ~~(Math.random() * 120) - 60; })\n",
    "        .font(\"Impact\")\n",
    "        .fontSize(function(d) { return d.size; })\n",
    "        .on(\"end\", draw)\n",
    "        .start();\n",
    "})();\n",
    "} catch (e) {\n",
    "    $$.sendError(e);\n",
    "}\n",
    "\n"
   ]
  },
  {
   "cell_type": "code",
   "execution_count": null,
   "metadata": {},
   "outputs": [],
   "source": []
  },
  {
   "cell_type": "code",
   "execution_count": null,
   "metadata": {},
   "outputs": [],
   "source": []
  }
 ],
 "metadata": {
  "kernel_info": {
   "name": "javascript"
  },
  "kernelspec": {
   "display_name": "Javascript (Node.js)",
   "language": "javascript",
   "name": "javascript"
  },
  "language_info": {
   "file_extension": ".js",
   "mimetype": "application/javascript",
   "name": "javascript",
   "version": "7.7.2"
  }
 },
 "nbformat": 4,
 "nbformat_minor": 4
}
