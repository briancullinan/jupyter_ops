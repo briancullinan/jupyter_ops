{
 "cells": [
  {
   "cell_type": "markdown",
   "metadata": {},
   "source": [
    "Rename a bunch of files using Git and renamer?\n",
    "\n"
   ]
  },
  {
   "cell_type": "code",
   "execution_count": null,
   "metadata": {
    "collapsed": false,
    "inputHidden": false,
    "outputHidden": false
   },
   "outputs": [],
   "source": [
    "var execSync = require('child_process').execSync;\n",
    "try {\n",
    "    require.resolve('renamer');\n",
    "} catch (e) {\n",
    "    execSync('npm install renamer');\n",
    "}\n",
    "var renamer = require('renamer');\n",
    "var renameUsingGit = (root, match, find, replace) => {\n",
    "    var files = renamer.expand(path.join(root, match));\n",
    "    var results = renamer.replace({\n",
    "        files: files.filesAndDirs, \n",
    "        find: find, \n",
    "        replace: replace});\n",
    "    return renamer.dryRun(results).list.map(r => {\n",
    "        // rename with git instead\n",
    "        var output = execSync('git ' \n",
    "                 + '--work-tree=' + JSON.stringify(root)\n",
    "                 + ' --git-dir=' + JSON.stringify(path.join(root, '.git'))\n",
    "                 + ' mv ' + JSON.stringify(r.before) \n",
    "                 + ' ' + JSON.stringify(r.after));\n",
    "        return output.toString() || r.after;\n",
    "    });\n",
    "};\n",
    "renameUsingGit;\n"
   ]
  },
  {
   "cell_type": "code",
   "execution_count": null,
   "metadata": {
    "collapsed": false,
    "inputHidden": false,
    "outputHidden": false
   },
   "outputs": [],
   "source": [
    "// test it\n",
    "// rename all scss files to less\n",
    "//renameUsingGit(\n",
    "//    '/Users/briancullinan/Documents/portal',\n",
    "//    'src/**/*.scss',\n",
    "//    '.scss',\n",
    "//    '.less');"
   ]
  },
  {
   "cell_type": "markdown",
   "metadata": {},
   "source": [
    "How to use memory-fs and rewire to audit cli events?\n",
    "\n"
   ]
  },
  {
   "cell_type": "code",
   "execution_count": null,
   "metadata": {
    "collapsed": false,
    "inputHidden": false,
    "outputHidden": false
   },
   "outputs": [],
   "source": [
    "var path = require('path');\n",
    "var execSync = require('child_process').execSync;\n",
    "try {\n",
    "    require.resolve('mock-require');\n",
    "    require.resolve('unionfs');\n",
    "    require.resolve('typescript');\n",
    "    require.resolve('memfs');\n",
    "} catch (e) {\n",
    "    execSync('npm install mock-require memfs typescript unionfs');\n",
    "}\n",
    "// TODO: use https://github.com/jhnns/rewire for replacing variables, something like https://github.com/mariocasciaro/object-path?\n",
    "\n",
    "var mockTypescriptFs = (root, data) => {\n",
    "    var mock = require('mock-require');\n",
    "    var memfs = require('memfs');\n",
    "    var mem = new memfs.Volume;\n",
    "    var unionfs = require('unionfs');\n",
    "    var fs = require('fs');\n",
    "    \n",
    "    mem.mountSync(root, data);\n",
    "\n",
    "    // Create a union of two file systems:\n",
    "    unionfs\n",
    "        .use(fs)\n",
    "        .use(mem)\n",
    "        .replace(fs);\n",
    "    \n",
    "    var ts = require('typescript');\n",
    "    var tsMock = Object.assign({}, ts);\n",
    "    var toMock = {\n",
    "        readFile: 'readFileSync',\n",
    "        realpath: 'realpathSync',\n",
    "        writeFile: 'writeFileSync',\n",
    "        fileExists: 'existsSync',\n",
    "        directoryExists: 'existsSync',\n",
    "        createDirectory: 'mkdirSync',\n",
    "        getDirectories: 'readdirSync'\n",
    "    };\n",
    "    Object.keys(toMock)\n",
    "        .forEach(k => {\n",
    "            if(typeof mem[toMock[k]] === 'function') {\n",
    "                tsMock.sys[k] = function () {\n",
    "                    // typescript.sys functions return defined on error\n",
    "                    try {\n",
    "                        return mem[toMock[k]].apply(mem, arguments);\n",
    "                    } catch (e) {\n",
    "                        return;\n",
    "                    }\n",
    "                };\n",
    "            }\n",
    "        });\n",
    "\n",
    "    mock('typescript', tsMock);\n",
    "    return mock;\n",
    "};\n",
    "mockTypescriptFs;\n",
    "\n",
    "// TODO: search github for projects like graceful-fs and then search google for projects that use graceful-fs and see if we can record some filesystem activity\n",
    "\n"
   ]
  },
  {
   "cell_type": "code",
   "execution_count": null,
   "metadata": {
    "collapsed": false,
    "inputHidden": false,
    "outputHidden": false
   },
   "outputs": [],
   "source": [
    "\n",
    "//mockTypescriptFs();\n"
   ]
  },
  {
   "cell_type": "markdown",
   "metadata": {},
   "source": [
    "Parse typescript includes for an entire project and display it as a word-cloud?\n",
    "\n"
   ]
  },
  {
   "cell_type": "code",
   "execution_count": 1,
   "metadata": {},
   "outputs": [
    {
     "data": {
      "text/plain": [
       "[Function: projectWordCloud]"
      ]
     },
     "execution_count": 1,
     "metadata": {},
     "output_type": "execute_result"
    }
   ],
   "source": [
    "var importer = require('../Core');\n",
    "var path = require('path');\n",
    "var execSync = require('child_process').execSync;\n",
    "try {\n",
    "    require.resolve('gulp');\n",
    "    require.resolve('gulp-tap');\n",
    "} catch (e) {\n",
    "    execSync('npm install \"github:gulpjs/gulp.git#4.0\" gulp-tap');\n",
    "}\n",
    "var gulp = require('gulp');\n",
    "var tap = require('gulp-tap');\n",
    "\n",
    "var projectWordCloud = (project) => {\n",
    "    var words = [];\n",
    "    \n",
    "    var wordCount = function (words) {\n",
    "        var wordCount = {};\n",
    "        words.forEach(w => {\n",
    "            if(typeof wordCount[w] == 'undefined') {\n",
    "                wordCount[w] = 15;\n",
    "            } else {\n",
    "                wordCount[w]++;\n",
    "            }\n",
    "        });\n",
    "        return Object.keys(wordCount).map((d) => ({text: d, size: wordCount[d]}));\n",
    "    };\n",
    "    \n",
    "    return importer.interpretAll([\n",
    "            'relative paths and includes'\n",
    "        ])\n",
    "        .then(r => r[0].runInNewContext({project}))\n",
    "        .then(r => r(project))\n",
    "        .then(r => {\n",
    "            words = r['packages'].map(p => p.split('.ts/')[1]).concat(r['relatives'].map(r => path.basename(r)));\n",
    "        })\n",
    "        .then(() => importer.importNotebook('../Frameworks/d3.ipynb'))\n",
    "        .then(r => {\n",
    "            var d3CloudToSVG = r.d3CloudToSVG;\n",
    "            return d3CloudToSVG(wordCount(words));\n",
    "        });\n",
    "};\n",
    "projectWordCloud;\n",
    "\n"
   ]
  },
  {
   "cell_type": "code",
   "execution_count": 6,
   "metadata": {},
   "outputs": [
    {
     "name": "stdout",
     "output_type": "stream",
     "text": [
      "Already imported\n",
      "[ 'import notebook.ipynb',\n",
      "  'interpret all notebooks.ipynb',\n",
      "  'd3.ipynb' ]\n",
      "Already imported\n",
      "[ 'import notebook.ipynb',\n",
      "  'interpret all notebooks.ipynb',\n",
      "  'd3.ipynb' ]\n",
      "Already imported\n",
      "[ 'import notebook.ipynb',\n",
      "  'interpret all notebooks.ipynb',\n",
      "  'd3.ipynb' ]\n"
     ]
    },
    {
     "data": {
      "image/svg+xml": [
       "<svg xmlns=\"http://www.w3.org/2000/svg\" width=\"960\" height=\"500\"><g transform=\"translate(495,245)\"><text style=\"font-size: 44px; font-family: Impact; fill: #1f77b4;\" text-anchor=\"middle\" transform=\"translate(-108,94)rotate(-18)\">@angular/router</text><text style=\"font-size: 35px; font-family: Impact; fill: #aec7e8;\" text-anchor=\"middle\" transform=\"translate(-76,-58)rotate(35)\">product-catalog.service</text><text style=\"font-size: 30px; font-family: Impact; fill: #ff7f0e;\" text-anchor=\"middle\" transform=\"translate(9,122)rotate(-53)\">@angular/http</text><text style=\"font-size: 28px; font-family: Impact; fill: #ffbb78;\" text-anchor=\"middle\" transform=\"translate(15,-48)rotate(25)\">@angular/material</text><text style=\"font-size: 27px; font-family: Impact; fill: #2ca02c;\" text-anchor=\"middle\" transform=\"translate(171,110)rotate(43)\">core.module</text><text style=\"font-size: 26px; font-family: Impact; fill: #98df8a;\" text-anchor=\"middle\" transform=\"translate(91,128)rotate(-15)\">auth.service</text><text style=\"font-size: 25px; font-family: Impact; fill: #d62728;\" text-anchor=\"middle\" transform=\"translate(125,-30)rotate(52)\">rxjs/Observable</text><text style=\"font-size: 23px; font-family: Impact; fill: #ff9896;\" text-anchor=\"middle\" transform=\"translate(153,61)rotate(46)\">register-user</text><text style=\"font-size: 22px; font-family: Impact; fill: #9467bd;\" text-anchor=\"middle\" transform=\"translate(183,-37)rotate(11)\">auth-guard</text><text style=\"font-size: 22px; font-family: Impact; fill: #c5b0d5;\" text-anchor=\"middle\" transform=\"translate(-139,1)rotate(-58)\">rxjs/Subscription</text><text style=\"font-size: 21px; font-family: Impact; fill: #8c564b;\" text-anchor=\"middle\" transform=\"translate(257,101)rotate(29)\">@ngx-translate/core</text><text style=\"font-size: 21px; font-family: Impact; fill: #c49c94;\" text-anchor=\"middle\" transform=\"translate(-249,67)rotate(21)\">environment</text><text style=\"font-size: 21px; font-family: Impact; fill: #e377c2;\" text-anchor=\"middle\" transform=\"translate(59,-117)rotate(19)\">auth.manager</text><text style=\"font-size: 21px; font-family: Impact; fill: #f7b6d2;\" text-anchor=\"middle\" transform=\"translate(87,159)rotate(-2)\">rxjs/ReplaySubject</text><text style=\"font-size: 21px; font-family: Impact; fill: #7f7f7f;\" text-anchor=\"middle\" transform=\"translate(271,57)rotate(4)\">preview-model</text><text style=\"font-size: 20px; font-family: Impact; fill: #c7c7c7;\" text-anchor=\"middle\" transform=\"translate(-68,5)rotate(-1)\">billing.service</text><text style=\"font-size: 20px; font-family: Impact; fill: #bcbd22;\" text-anchor=\"middle\" transform=\"translate(-182,-54)rotate(-17)\">product-model</text><text style=\"font-size: 19px; font-family: Impact; fill: #dbdb8d;\" text-anchor=\"middle\" transform=\"translate(210,-125)rotate(-38)\">preview-response-model</text><text style=\"font-size: 19px; font-family: Impact; fill: #17becf;\" text-anchor=\"middle\" transform=\"translate(75,72)rotate(-43)\">log.service</text><text style=\"font-size: 19px; font-family: Impact; fill: #9edae5;\" text-anchor=\"middle\" transform=\"translate(189,5)rotate(38)\">auth-user</text><text style=\"font-size: 19px; font-family: Impact; fill: #1f77b4;\" text-anchor=\"middle\" transform=\"translate(-257,-6)rotate(9)\">@angular/animations</text><text style=\"font-size: 18px; font-family: Impact; fill: #aec7e8;\" text-anchor=\"middle\" transform=\"translate(-3,-121)rotate(50)\">purchase-model</text><text style=\"font-size: 18px; font-family: Impact; fill: #ff7f0e;\" text-anchor=\"middle\" transform=\"translate(-38,99)rotate(-33)\">rxjs/Subject</text><text style=\"font-size: 18px; font-family: Impact; fill: #ffbb78;\" text-anchor=\"middle\" transform=\"translate(-30,-103)rotate(28)\">layout.service</text><text style=\"font-size: 17px; font-family: Impact; fill: #2ca02c;\" text-anchor=\"middle\" transform=\"translate(249,-30)rotate(54)\">app.component</text><text style=\"font-size: 17px; font-family: Impact; fill: #98df8a;\" text-anchor=\"middle\" transform=\"translate(219,-85)rotate(-38)\">layout.module</text><text style=\"font-size: 17px; font-family: Impact; fill: #d62728;\" text-anchor=\"middle\" transform=\"translate(297,-62)rotate(17)\">support.component</text><text style=\"font-size: 17px; font-family: Impact; fill: #ff9896;\" text-anchor=\"middle\" transform=\"translate(-79,154)rotate(-40)\">ecommerceResources</text><text style=\"font-size: 17px; font-family: Impact; fill: #9467bd;\" text-anchor=\"middle\" transform=\"translate(-234,-87)rotate(-59)\">home.component</text><text style=\"font-size: 17px; font-family: Impact; fill: #c5b0d5;\" text-anchor=\"middle\" transform=\"translate(-327,-78)rotate(52)\">login.component</text><text style=\"font-size: 17px; font-family: Impact; fill: #8c564b;\" text-anchor=\"middle\" transform=\"translate(-274,14)rotate(6)\">mailgun-validate.service</text><text style=\"font-size: 17px; font-family: Impact; fill: #c49c94;\" text-anchor=\"middle\" transform=\"translate(-311,-150)rotate(46)\">product-catalog.config</text><text style=\"font-size: 16px; font-family: Impact; fill: #e377c2;\" text-anchor=\"middle\" transform=\"translate(290,-14)rotate(50)\">logout.component</text><text style=\"font-size: 16px; font-family: Impact; fill: #f7b6d2;\" text-anchor=\"middle\" transform=\"translate(318,80)rotate(-1)\">identityResources</text><text style=\"font-size: 16px; font-family: Impact; fill: #7f7f7f;\" text-anchor=\"middle\" transform=\"translate(-130,44)rotate(-38)\">angular2-jwt</text><text style=\"font-size: 16px; font-family: Impact; fill: #c7c7c7;\" text-anchor=\"middle\" transform=\"translate(321,-5)rotate(49)\">@angular/common</text><text style=\"font-size: 16px; font-family: Impact; fill: #bcbd22;\" text-anchor=\"middle\" transform=\"translate(72,184)rotate(7)\">not-found.component</text><text style=\"font-size: 16px; font-family: Impact; fill: #dbdb8d;\" text-anchor=\"middle\" transform=\"translate(-298,130)rotate(32)\">@angular/platform-browser-dynamic</text><text style=\"font-size: 16px; font-family: Impact; fill: #17becf;\" text-anchor=\"middle\" transform=\"translate(170,-162)rotate(-29)\">login-embed.component</text><text style=\"font-size: 16px; font-family: Impact; fill: #9edae5;\" text-anchor=\"middle\" transform=\"translate(-315,58)rotate(51)\">cart.component</text><text style=\"font-size: 16px; font-family: Impact; fill: #1f77b4;\" text-anchor=\"middle\" transform=\"translate(-253,34)rotate(2)\">billing.component</text><text style=\"font-size: 16px; font-family: Impact; fill: #aec7e8;\" text-anchor=\"middle\" transform=\"translate(269,137)rotate(37)\">confirm.component</text><text style=\"font-size: 16px; font-family: Impact; fill: #ff7f0e;\" text-anchor=\"middle\" transform=\"translate(342,-81)rotate(47)\">@angular/platform-browser</text><text style=\"font-size: 16px; font-family: Impact; fill: #ffbb78;\" text-anchor=\"middle\" transform=\"translate(157,181)rotate(8)\">trial.component</text><text style=\"font-size: 16px; font-family: Impact; fill: #2ca02c;\" text-anchor=\"middle\" transform=\"translate(80,-176)rotate(-12)\">reset-password.component</text><text style=\"font-size: 16px; font-family: Impact; fill: #98df8a;\" text-anchor=\"middle\" transform=\"translate(-133,-172)rotate(22)\">primary-product.component</text><text style=\"font-size: 16px; font-family: Impact; fill: #d62728;\" text-anchor=\"middle\" transform=\"translate(21,-191)rotate(-7)\">handheld-contact.component</text><text style=\"font-size: 16px; font-family: Impact; fill: #ff9896;\" text-anchor=\"middle\" transform=\"translate(98,207)rotate(0)\">act-emarketing-calllist-upgrade.component</text><text style=\"font-size: 16px; font-family: Impact; fill: #9467bd;\" text-anchor=\"middle\" transform=\"translate(-131,156)rotate(-56)\">contact.component</text><text style=\"font-size: 16px; font-family: Impact; fill: #c5b0d5;\" text-anchor=\"middle\" transform=\"translate(203,-97)rotate(-42)\">buy.component</text><text style=\"font-size: 16px; font-family: Impact; fill: #8c564b;\" text-anchor=\"middle\" transform=\"translate(-323,72)rotate(51)\">demo.component</text><text style=\"font-size: 15px; font-family: Impact; fill: #c49c94;\" text-anchor=\"middle\" transform=\"translate(-111,-207)rotate(4)\">language.component</text><text style=\"font-size: 15px; font-family: Impact; fill: #e377c2;\" text-anchor=\"middle\" transform=\"translate(-236,-182)rotate(7)\">footer.component</text><text style=\"font-size: 15px; font-family: Impact; fill: #f7b6d2;\" text-anchor=\"middle\" transform=\"translate(-365,-31)rotate(-42)\">menu.component</text><text style=\"font-size: 15px; font-family: Impact; fill: #7f7f7f;\" text-anchor=\"middle\" transform=\"translate(149,-105)rotate(-46)\">home.routing</text><text style=\"font-size: 15px; font-family: Impact; fill: #c7c7c7;\" text-anchor=\"middle\" transform=\"translate(100,68)rotate(-40)\">rxjs/Rx</text><text style=\"font-size: 15px; font-family: Impact; fill: #bcbd22;\" text-anchor=\"middle\" transform=\"translate(-323,-116)rotate(43)\">order-tracker.module</text><text style=\"font-size: 15px; font-family: Impact; fill: #dbdb8d;\" text-anchor=\"middle\" transform=\"translate(-346,167)rotate(-37)\">products.module</text><text style=\"font-size: 15px; font-family: Impact; fill: #17becf;\" text-anchor=\"middle\" transform=\"translate(-75,-33)rotate(45)\">auth-stubs</text><text style=\"font-size: 15px; font-family: Impact; fill: #9edae5;\" text-anchor=\"middle\" transform=\"translate(-79,37)rotate(-26)\">pages.module</text><text style=\"font-size: 15px; font-family: Impact; fill: #1f77b4;\" text-anchor=\"middle\" transform=\"translate(28,-19)rotate(30)\">home.module</text><text style=\"font-size: 15px; font-family: Impact; fill: #aec7e8;\" text-anchor=\"middle\" transform=\"translate(397,38)rotate(-50)\">app.routing</text><text style=\"font-size: 15px; font-family: Impact; fill: #ff7f0e;\" text-anchor=\"middle\" transform=\"translate(351,-162)rotate(0)\">subscriptions.routing</text><text style=\"font-size: 15px; font-family: Impact; fill: #ffbb78;\" text-anchor=\"middle\" transform=\"translate(-160,-81)rotate(-13)\">log-stubs</text><text style=\"font-size: 15px; font-family: Impact; fill: #2ca02c;\" text-anchor=\"middle\" transform=\"translate(-259,178)rotate(38)\">@angular/forms</text><text style=\"font-size: 15px; font-family: Impact; fill: #98df8a;\" text-anchor=\"middle\" transform=\"translate(89,93)rotate(-29)\">trial.service</text><text style=\"font-size: 15px; font-family: Impact; fill: #d62728;\" text-anchor=\"middle\" transform=\"translate(215,-161)rotate(-39)\">trial.routing</text><text style=\"font-size: 15px; font-family: Impact; fill: #ff9896;\" text-anchor=\"middle\" transform=\"translate(-302,-117)rotate(43)\">eloquaResources</text><text style=\"font-size: 15px; font-family: Impact; fill: #9467bd;\" text-anchor=\"middle\" transform=\"translate(332,-194)rotate(10)\">@angular/http/testing</text><text style=\"font-size: 15px; font-family: Impact; fill: #c5b0d5;\" text-anchor=\"middle\" transform=\"translate(-201,-92)rotate(-50)\">app.module</text><text style=\"font-size: 15px; font-family: Impact; fill: #8c564b;\" text-anchor=\"middle\" transform=\"translate(268,182)rotate(10)\">iframe-loader.module</text><text style=\"font-size: 15px; font-family: Impact; fill: #c49c94;\" text-anchor=\"middle\" transform=\"translate(139,-164)rotate(-25)\">subtotal.component</text><text style=\"font-size: 15px; font-family: Impact; fill: #e377c2;\" text-anchor=\"middle\" transform=\"translate(-194,157)rotate(23)\">auth.routing</text><text style=\"font-size: 15px; font-family: Impact; fill: #f7b6d2;\" text-anchor=\"middle\" transform=\"translate(341,127)rotate(42)\">oauthResources</text><text style=\"font-size: 15px; font-family: Impact; fill: #7f7f7f;\" text-anchor=\"middle\" transform=\"translate(254,33)rotate(-7)\">act-http</text><text style=\"font-size: 15px; font-family: Impact; fill: #c7c7c7;\" text-anchor=\"middle\" transform=\"translate(-288,-153)rotate(46)\">act-tiles.component</text><text style=\"font-size: 15px; font-family: Impact; fill: #bcbd22;\" text-anchor=\"middle\" transform=\"translate(350,-109)rotate(37)\">up-down.component</text><text style=\"font-size: 15px; font-family: Impact; fill: #dbdb8d;\" text-anchor=\"middle\" transform=\"translate(-294,202)rotate(6)\">catalog.blueprint</text><text style=\"font-size: 15px; font-family: Impact; fill: #17becf;\" text-anchor=\"middle\" transform=\"translate(397,91)rotate(-51)\">contact.routing</text><text style=\"font-size: 15px; font-family: Impact; fill: #9edae5;\" text-anchor=\"middle\" transform=\"translate(-215,-21)rotate(-5)\">jasmine</text><text style=\"font-size: 15px; font-family: Impact; fill: #1f77b4;\" text-anchor=\"middle\" transform=\"translate(-120,-143)rotate(10)\">buy.routing</text><text style=\"font-size: 15px; font-family: Impact; fill: #aec7e8;\" text-anchor=\"middle\" transform=\"translate(295,-82)rotate(17)\">demo.routing</text><text style=\"font-size: 15px; font-family: Impact; fill: #ff7f0e;\" text-anchor=\"middle\" transform=\"translate(-396,145)rotate(-57)\">layout.component</text></g></svg>"
      ]
     },
     "execution_count": 6,
     "metadata": {},
     "output_type": "execute_result"
    }
   ],
   "source": [
    "// TODO: create a gulp stream angular component out of it\n",
    "// TODO: connect with gulp-git https://www.npmjs.com/package/gulp-git\n",
    "// install https://github.com/Automattic/node-canvas/wiki/installation---osx\n",
    "// install using brew install pkg-config fontconfig cairo pixman giflib libjpeg libpng\n",
    "var path = require('path');\n",
    "\n",
    "var PROFILE_PATH = process.env.HOME || process.env.HOMEPATH || process.env.USERPROFILE;\n",
    "var project = PROFILE_PATH + '/Documents/portal';\n",
    "\n",
    "$$.async()\n",
    "projectWordCloud(project)\n",
    "    .then(svg => $$.svg(svg))\n",
    "    .catch(e => $$.sendError(e));\n",
    "\n"
   ]
  },
  {
   "cell_type": "markdown",
   "metadata": {},
   "source": [
    "Find similar filename in project?"
   ]
  },
  {
   "cell_type": "code",
   "execution_count": null,
   "metadata": {},
   "outputs": [],
   "source": [
    "var findSimilarFile = (base, project) => {\n",
    "    return new Promise((resolve, reject) => {\n",
    "        var searchStrings = '**/' + base + '.(ts|js)';\n",
    "        console.log('Search for ' + searchStrings);\n",
    "        glob(searchStrings, {exclude: ['**/node_modules/**'], cwd: project}, function (err, matches) {\n",
    "            var isEmpty = matches.length == 0;\n",
    "            if(err) {\n",
    "                return reject(err);\n",
    "            } else if (isEmpty) {\n",
    "                console.log('No matches for ' + searchStrings)\n",
    "                return resolve();\n",
    "            }\n",
    "\n",
    "            // TODO: try to build and make sure it works before patching\n",
    "            resolve(matches[0].replace('.ts', ''));\n",
    "        });\n",
    "    });\n",
    "};\n",
    "findSimilarFile;\n",
    "\n"
   ]
  },
  {
   "cell_type": "code",
   "execution_count": null,
   "metadata": {},
   "outputs": [],
   "source": [
    "var importer = require('../Core');\n",
    "var execSync = require('child_process').execSync;\n",
    "try {\n",
    "    require.resolve('glob');\n",
    "    require.resolve('gulp');\n",
    "    require.resolve('gulp-replace');\n",
    "    require.resolve('gulp-tap');\n",
    "} catch (e) {\n",
    "    execSync('npm install glob \"github:gulpjs/gulp.git#4.0\" gulp-replace gulp-tap');\n",
    "}\n",
    "var fs = require('fs');\n",
    "var path = require('path');\n",
    "var glob = require('glob');\n",
    "var gulp = require('gulp');\n",
    "var tap = require('gulp-tap');\n",
    "var replace = require('gulp-replace');\n",
    "\n",
    "// list all broken references in modules?\n",
    "var projectRelatives = (project) => {\n",
    "    var missing, missingPackages;\n",
    "    \n",
    "    var fixRelative = (m) => {\n",
    "        if(typeof m == 'undefined') {\n",
    "            return;\n",
    "        }\n",
    "        var file = m.split('.ts/')[0] + '.ts';\n",
    "        var fromPath = m.split('.ts/')[1].split('->')[0];\n",
    "        var match = m.split('.ts/')[1].split('->')[1];\n",
    "        var newRelative = path.relative(path.dirname(file), path.join(project, match));\n",
    "        gulp.task('fix include', function() {\n",
    "            var fixFile = path.relative(project, file);\n",
    "            console.log('Replacing ' + fromPath + ' -> ' + newRelative + ' in ' + fixFile)\n",
    "            return gulp.src(['**/' + fixFile], {cwd: project})\n",
    "                .pipe(replace(fromPath, newRelative))\n",
    "                .pipe(gulp.dest(project));\n",
    "        });\n",
    "        \n",
    "        return tasksToPromise(['fix include'], []);\n",
    "    };\n",
    "    \n",
    "    var uniqueArray = (arr) => arr.filter((value, index, array) => array.indexOf(value, index + 1) < 0);\n",
    "    \n",
    "    gulp.task('add packages', function () {\n",
    "        var toAdd = '';\n",
    "        return gulp.src('package.json', {cwd: project})\n",
    "            .pipe(tap(file => {\n",
    "                // TODO: resolve using existing package.json from another project?  This method of using the import isn't going to go far, how does NPM do this?\n",
    "                // Possible to search for top two directories? @angular/material versus angular2-jwt versus zone.js/dist/zone\n",
    "                var content = file.contents.toString();\n",
    "                missingPackages.map(p => p.split('.ts/')[1].forEach(m => {\n",
    "                    if(content.indexOf(m) == -1) {\n",
    "                        toAdd += '\"' + m + '\": \"latest\",'\n",
    "                    }\n",
    "                });\n",
    "                if(toAdd != '') {\n",
    "                    console.log('Adding ' + toAdd);\n",
    "                    file.contents = new Buffer(content.replace(/\"dependencies\"\\s*:\\s*\\{/ig, (m) => m + toAdd));\n",
    "                }\n",
    "            }))\n",
    "            .pipe(gulp.dest(project));\n",
    "    });\n",
    "\n",
    "    gulp.task('fix relative paths and includes', \n",
    "        gulp.series(\n",
    "            importer.interpretAll([\n",
    "                'relative paths and includes'\n",
    "            ])\n",
    "            .then(r => r[0].runInNEL({project}))\n",
    "            .then(r => {\n",
    "                console.log(r);\n",
    "                {missing, missingPackages} = r;\n",
    "            }),\n",
    "            Promise.all(Object.keys(missing).map(k => findSimilarFile(k, project).then(f => {\n",
    "                if(typeof f == 'undefined') {\n",
    "                    return Promise.resolve();\n",
    "                }\n",
    "                return Promise.all(missing[k].map(m => fixRelative(m + '->' + f)));\n",
    "            }))),\n",
    "            'add packages'\n",
    "        ));\n",
    "    \n",
    "    return gulp.series('fix relative paths and includes');\n",
    "    // TODO: try building with all results resolved\n",
    "    // TODO: create path and apply\n",
    "};\n",
    "projectRelatives;\n",
    "\n"
   ]
  },
  {
   "cell_type": "markdown",
   "metadata": {},
   "source": [
    "De-lint notebook cells automatically?\n",
    "\n",
    "Find too long of functions using regexp?\n",
    "(?=\\{((?:[^{}]++|\\{(?1)\\})++)\\})\n",
    "\n",
    "Export all notebooks to a structured folder where each cell has it's own file for linting?\n",
    "\n",
    "Import files in to cells?\n",
    "\n"
   ]
  },
  {
   "cell_type": "markdown",
   "metadata": {},
   "source": []
  },
  {
   "cell_type": "code",
   "execution_count": null,
   "metadata": {},
   "outputs": [],
   "source": []
  }
 ],
 "metadata": {
  "kernel_info": {
   "name": "javascript"
  },
  "kernelspec": {
   "display_name": "Javascript (Node.js)",
   "language": "javascript",
   "name": "javascript"
  },
  "language_info": {
   "file_extension": ".js",
   "mimetype": "application/javascript",
   "name": "javascript",
   "version": "7.7.2"
  }
 },
 "nbformat": 4,
 "nbformat_minor": 4
}
