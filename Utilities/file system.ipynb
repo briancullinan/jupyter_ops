{
 "cells": [
  {
   "cell_type": "markdown",
   "metadata": {},
   "source": [
    "How to use memory-fs and rewire to audit cli events?\n",
    "\n"
   ]
  },
  {
   "cell_type": "code",
   "execution_count": null,
   "metadata": {
    "collapsed": false,
    "inputHidden": false,
    "outputHidden": false
   },
   "outputs": [],
   "source": [
    "var path = require('path');\n",
    "\n",
    "// TODO: use https://github.com/jhnns/rewire for replacing variables, something like https://github.com/mariocasciaro/object-path?\n",
    "\n",
    "function mockTypescriptFs(root, data) {\n",
    "    var mock = require('mock-require');\n",
    "    var memfs = require('memfs');\n",
    "    var mem = new memfs.Volume;\n",
    "    var unionfs = require('unionfs');\n",
    "    var fs = require('fs');\n",
    "\n",
    "    mem.mountSync(root, data);\n",
    "\n",
    "    // Create a union of two file systems:\n",
    "    unionfs\n",
    "        .use(fs)\n",
    "        .use(mem)\n",
    "        .replace(fs);\n",
    "\n",
    "    var ts = require('typescript');\n",
    "    var tsMock = Object.assign({}, ts);\n",
    "    var toMock = {\n",
    "        readFile: 'readFileSync',\n",
    "        realpath: 'realpathSync',\n",
    "        writeFile: 'writeFileSync',\n",
    "        fileExists: 'existsSync',\n",
    "        directoryExists: 'existsSync',\n",
    "        createDirectory: 'mkdirSync',\n",
    "        getDirectories: 'readdirSync'\n",
    "    };\n",
    "    Object.keys(toMock)\n",
    "        .forEach(k => {\n",
    "            if (typeof mem[toMock[k]] === 'function') {\n",
    "                tsMock.sys[k] = function () {\n",
    "                    // typescript.sys functions return defined on error\n",
    "                    try {\n",
    "                        return mem[toMock[k]].apply(mem, arguments);\n",
    "                    } catch (e) {\n",
    "                        return;\n",
    "                    }\n",
    "                };\n",
    "            }\n",
    "        });\n",
    "\n",
    "    mock('typescript', tsMock);\n",
    "    return mock;\n",
    "};\n",
    "mockTypescriptFs;\n",
    "\n",
    "// TODO: search github for projects like graceful-fs and then search google for projects that use graceful-fs and see if we can record some filesystem activity\n",
    "\n"
   ]
  },
  {
   "cell_type": "markdown",
   "metadata": {},
   "source": [
    "project word-cloud?\n",
    "\n"
   ]
  },
  {
   "cell_type": "code",
   "execution_count": null,
   "metadata": {},
   "outputs": [],
   "source": [
    "var importer = require('../Core');\n",
    "var path = require('path');\n",
    "var d3CloudToSVG = importer.import('d3.ipynb[create word-cloud]');\n",
    "    \n",
    "function projectWordCloud(project) {\n",
    "    var relativePaths = importer.import('relative paths and includes', {project});\n",
    "    var words = [];\n",
    "\n",
    "    function wordCount(r) {\n",
    "        var words = r['packages'].map(p => p.split('.ts/')[1])\n",
    "            .concat(r['packages'].map(p => path.basename(p.split('.ts/')[0])))\n",
    "            .concat(r['relatives'].map(r => path.basename(r)))\n",
    "            .concat(r['relatives'].map(r => path.basename(r.split('.ts/')[0])));\n",
    "        var wordCount = {};\n",
    "        words.forEach(w => {\n",
    "            if (typeof wordCount[w] === 'undefined') {\n",
    "                wordCount[w] = 15;\n",
    "            } else {\n",
    "                wordCount[w]++;\n",
    "            }\n",
    "        });\n",
    "        return Object.keys(wordCount).map((d) => ({text: d, size: wordCount[d]}));\n",
    "    };\n",
    "\n",
    "    return relativePaths(project)\n",
    "        .then(words => d3CloudToSVG(wordCount(words)));\n",
    "};\n",
    "module.exports = projectWordCloud;\n",
    "\n"
   ]
  },
  {
   "cell_type": "code",
   "execution_count": 2,
   "metadata": {},
   "outputs": [
    {
     "data": {
      "image/svg+xml": [
       "<svg xmlns=\"http://www.w3.org/2000/svg\" width=\"960\" height=\"500\"><g transform=\"translate(495,245)\"><text style=\"font-size: 89px; font-family: Impact; fill: #1f77b4;\" text-anchor=\"middle\" transform=\"translate(108,64)rotate(-14)\">@angular/core</text><text style=\"font-size: 83px; font-family: Impact; fill: #aec7e8;\" text-anchor=\"middle\" transform=\"translate(-44,-98)rotate(-26)\">core-stubs</text><text style=\"font-size: 82px; font-family: Impact; fill: #ff7f0e;\" text-anchor=\"middle\" transform=\"translate(-161,46)rotate(-33)\">undefined</text><text style=\"font-size: 42px; font-family: Impact; fill: #ffbb78;\" text-anchor=\"middle\" transform=\"translate(-207,-85)rotate(-37)\">core.module</text><text style=\"font-size: 39px; font-family: Impact; fill: #2ca02c;\" text-anchor=\"middle\" transform=\"translate(70,-106)rotate(-36)\">auth.service</text><text style=\"font-size: 36px; font-family: Impact; fill: #98df8a;\" text-anchor=\"middle\" transform=\"translate(-146,153)rotate(13)\">auth.manager</text><text style=\"font-size: 35px; font-family: Impact; fill: #d62728;\" text-anchor=\"middle\" transform=\"translate(200,-120)rotate(48)\">@angular/http</text><text style=\"font-size: 35px; font-family: Impact; fill: #ff9896;\" text-anchor=\"middle\" transform=\"translate(182,123)rotate(12)\">billing.service</text><text style=\"font-size: 32px; font-family: Impact; fill: #9467bd;\" text-anchor=\"middle\" transform=\"translate(-160,-168)rotate(-9)\">products.module</text><text style=\"font-size: 32px; font-family: Impact; fill: #c5b0d5;\" text-anchor=\"middle\" transform=\"translate(14,-26)rotate(-25)\">user.service</text><text style=\"font-size: 31px; font-family: Impact; fill: #8c564b;\" text-anchor=\"middle\" transform=\"translate(-303,25)rotate(-11)\">login.component</text><text style=\"font-size: 31px; font-family: Impact; fill: #c49c94;\" text-anchor=\"middle\" transform=\"translate(343,103)rotate(-53)\">products.config</text><text style=\"font-size: 31px; font-family: Impact; fill: #e377c2;\" text-anchor=\"middle\" transform=\"translate(123,149)rotate(23)\">rxjs/Observable</text><text style=\"font-size: 30px; font-family: Impact; fill: #f7b6d2;\" text-anchor=\"middle\" transform=\"translate(108,-33)rotate(-23)\">confirm.component</text><text style=\"font-size: 30px; font-family: Impact; fill: #7f7f7f;\" text-anchor=\"middle\" transform=\"translate(309,-106)rotate(38)\">auth.service.spec</text><text style=\"font-size: 29px; font-family: Impact; fill: #c7c7c7;\" text-anchor=\"middle\" transform=\"translate(236,65)rotate(-22)\">trial.service</text><text style=\"font-size: 29px; font-family: Impact; fill: #bcbd22;\" text-anchor=\"middle\" transform=\"translate(-290,-104)rotate(-17)\">preview-model</text><text style=\"font-size: 29px; font-family: Impact; fill: #dbdb8d;\" text-anchor=\"middle\" transform=\"translate(-342,122)rotate(58)\">log.service</text><text style=\"font-size: 27px; font-family: Impact; fill: #17becf;\" text-anchor=\"middle\" transform=\"translate(-326,-57)rotate(-22)\">catalog-stubs</text><text style=\"font-size: 27px; font-family: Impact; fill: #9edae5;\" text-anchor=\"middle\" transform=\"translate(-5,196)rotate(-1)\">order-tracker.component.spec</text><text style=\"font-size: 27px; font-family: Impact; fill: #1f77b4;\" text-anchor=\"middle\" transform=\"translate(323,-145)rotate(28)\">app.component</text><text style=\"font-size: 25px; font-family: Impact; fill: #aec7e8;\" text-anchor=\"middle\" transform=\"translate(277,-95)rotate(41)\">auth-stubs</text><text style=\"font-size: 25px; font-family: Impact; fill: #ff7f0e;\" text-anchor=\"middle\" transform=\"translate(364,118)rotate(-54)\">auth-guard.spec</text><text style=\"font-size: 24px; font-family: Impact; fill: #ffbb78;\" text-anchor=\"middle\" transform=\"translate(2,147)rotate(8)\">trial.service.spec</text><text style=\"font-size: 24px; font-family: Impact; fill: #2ca02c;\" text-anchor=\"middle\" transform=\"translate(-294,-5)rotate(-6)\">environment</text><text style=\"font-size: 23px; font-family: Impact; fill: #98df8a;\" text-anchor=\"middle\" transform=\"translate(250,105)rotate(5)\">app.module</text><text style=\"font-size: 23px; font-family: Impact; fill: #d62728;\" text-anchor=\"middle\" transform=\"translate(171,-37)rotate(-26)\">register-user</text><text style=\"font-size: 22px; font-family: Impact; fill: #ff9896;\" text-anchor=\"middle\" transform=\"translate(-328,197)rotate(4)\">@angular/material</text><text style=\"font-size: 22px; font-family: Impact; fill: #9467bd;\" text-anchor=\"middle\" transform=\"translate(-352,-143)rotate(18)\">dialog-guard</text><text style=\"font-size: 22px; font-family: Impact; fill: #c5b0d5;\" text-anchor=\"middle\" transform=\"translate(252,-203)rotate(-3)\">logout.component</text><text style=\"font-size: 22px; font-family: Impact; fill: #8c564b;\" text-anchor=\"middle\" transform=\"translate(-317,-165)rotate(33)\">testing</text><text style=\"font-size: 22px; font-family: Impact; fill: #c49c94;\" text-anchor=\"middle\" transform=\"translate(-91,30)rotate(-49)\">helpers</text><text style=\"font-size: 21px; font-family: Impact; fill: #e377c2;\" text-anchor=\"middle\" transform=\"translate(380,-173)rotate(54)\">auth.routing</text><text style=\"font-size: 21px; font-family: Impact; fill: #f7b6d2;\" text-anchor=\"middle\" transform=\"translate(-218,161)rotate(20)\">auth-guard</text><text style=\"font-size: 20px; font-family: Impact; fill: #7f7f7f;\" text-anchor=\"middle\" transform=\"translate(-34,-176)rotate(-36)\">ienvironment</text><text style=\"font-size: 20px; font-family: Impact; fill: #c7c7c7;\" text-anchor=\"middle\" transform=\"translate(278,206)rotate(0)\">preview-response-model</text><text style=\"font-size: 20px; font-family: Impact; fill: #bcbd22;\" text-anchor=\"middle\" transform=\"translate(-379,133)rotate(51)\">layout.service</text><text style=\"font-size: 19px; font-family: Impact; fill: #dbdb8d;\" text-anchor=\"middle\" transform=\"translate(-48,40)rotate(-14)\">auth-user</text><text style=\"font-size: 19px; font-family: Impact; fill: #17becf;\" text-anchor=\"middle\" transform=\"translate(158,-87)rotate(-19)\">trial.module</text><text style=\"font-size: 18px; font-family: Impact; fill: #9edae5;\" text-anchor=\"middle\" transform=\"translate(353,48)rotate(-56)\">trial.routing</text><text style=\"font-size: 18px; font-family: Impact; fill: #1f77b4;\" text-anchor=\"middle\" transform=\"translate(-363,-18)rotate(-28)\">environment.prod</text><text style=\"font-size: 18px; font-family: Impact; fill: #aec7e8;\" text-anchor=\"middle\" transform=\"translate(-92,-128)rotate(36)\">es6</text><text style=\"font-size: 18px; font-family: Impact; fill: #ff7f0e;\" text-anchor=\"middle\" transform=\"translate(25,18)rotate(-20)\">zone</text><text style=\"font-size: 18px; font-family: Impact; fill: #ffbb78;\" text-anchor=\"middle\" transform=\"translate(109,-105)rotate(33)\">proxy</text><text style=\"font-size: 18px; font-family: Impact; fill: #2ca02c;\" text-anchor=\"middle\" transform=\"translate(199,148)rotate(35)\">main</text><text style=\"font-size: 18px; font-family: Impact; fill: #98df8a;\" text-anchor=\"middle\" transform=\"translate(-262,162)rotate(27)\">sync-test</text><text style=\"font-size: 18px; font-family: Impact; fill: #d62728;\" text-anchor=\"middle\" transform=\"translate(375,141)rotate(-50)\">jasmine-patch</text><text style=\"font-size: 18px; font-family: Impact; fill: #ff9896;\" text-anchor=\"middle\" transform=\"translate(-166,-197)rotate(-17)\">async-test</text><text style=\"font-size: 17px; font-family: Impact; fill: #9467bd;\" text-anchor=\"middle\" transform=\"translate(-293,57)rotate(-44)\">trial-stubs</text><text style=\"font-size: 17px; font-family: Impact; fill: #c5b0d5;\" text-anchor=\"middle\" transform=\"translate(-361,-192)rotate(-18)\">app.routing</text><text style=\"font-size: 17px; font-family: Impact; fill: #8c564b;\" text-anchor=\"middle\" transform=\"translate(-15,-82)rotate(-38)\">path</text><text style=\"font-size: 17px; font-family: Impact; fill: #c49c94;\" text-anchor=\"middle\" transform=\"translate(152,-121)rotate(18)\">webpack</text><text style=\"font-size: 16px; font-family: Impact; fill: #e377c2;\" text-anchor=\"middle\" transform=\"translate(43,168)rotate(6)\">webpack.dev.js</text><text style=\"font-size: 16px; font-family: Impact; fill: #f7b6d2;\" text-anchor=\"middle\" transform=\"translate(-396,-79)rotate(-60)\">webpack-merge</text><text style=\"font-size: 16px; font-family: Impact; fill: #7f7f7f;\" text-anchor=\"middle\" transform=\"translate(-394,-118)rotate(-57)\">log-stubs</text><text style=\"font-size: 16px; font-family: Impact; fill: #c7c7c7;\" text-anchor=\"middle\" transform=\"translate(-16,120)rotate(7)\">zuora-post</text><text style=\"font-size: 16px; font-family: Impact; fill: #bcbd22;\" text-anchor=\"middle\" transform=\"translate(360,-101)rotate(36)\">rxjs/Subject</text><text style=\"font-size: 15px; font-family: Impact; fill: #dbdb8d;\" text-anchor=\"middle\" transform=\"translate(72,87)rotate(-44)\">os</text><text style=\"font-size: 15px; font-family: Impact; fill: #17becf;\" text-anchor=\"middle\" transform=\"translate(-195,108)rotate(17)\">entities</text><text style=\"font-size: 15px; font-family: Impact; fill: #9edae5;\" text-anchor=\"middle\" transform=\"translate(138,209)rotate(-5)\">ts-node</text><text style=\"font-size: 15px; font-family: Impact; fill: #1f77b4;\" text-anchor=\"middle\" transform=\"translate(-149,-111)rotate(-40)\">lodash</text><text style=\"font-size: 15px; font-family: Impact; fill: #aec7e8;\" text-anchor=\"middle\" transform=\"translate(329,-173)rotate(14)\">node-forge</text><text style=\"font-size: 15px; font-family: Impact; fill: #ff7f0e;\" text-anchor=\"middle\" transform=\"translate(228,-34)rotate(20)\">moment</text><text style=\"font-size: 15px; font-family: Impact; fill: #ffbb78;\" text-anchor=\"middle\" transform=\"translate(396,-25)rotate(13)\">rxjs/Rx</text><text style=\"font-size: 15px; font-family: Impact; fill: #2ca02c;\" text-anchor=\"middle\" transform=\"translate(394,184)rotate(31)\">test-cards</text><text style=\"font-size: 15px; font-family: Impact; fill: #98df8a;\" text-anchor=\"middle\" transform=\"translate(-135,44)rotate(21)\">fs</text></g></svg>"
      ]
     },
     "execution_count": 2,
     "metadata": {},
     "output_type": "execute_result"
    }
   ],
   "source": [
    "// TODO: create a gulp stream angular component out of it\n",
    "// TODO: connect with gulp-git https://www.npmjs.com/package/gulp-git\n",
    "// install https://github.com/Automattic/node-canvas/wiki/installation---osx\n",
    "// install using brew install pkg-config fontconfig cairo pixman giflib libjpeg libpng\n",
    "var importer = require('../Core');\n",
    "var path = require('path');\n",
    "var projectWordCloud = importer.import('file system.ipynb[project word-cloud]');\n",
    "\n",
    "var PROFILE_PATH = process.env.HOME || process.env.HOMEPATH || process.env.USERPROFILE;\n",
    "var project = PROFILE_PATH + '/Documents/portal';\n",
    "\n",
    "$$.async()\n",
    "projectWordCloud(project)\n",
    "    .then(svg => $$.svg(svg))\n",
    "    .catch(e => $$.sendError(e));\n",
    "\n"
   ]
  },
  {
   "cell_type": "markdown",
   "metadata": {},
   "source": [
    "project imports d3 tree?\n",
    "\n"
   ]
  },
  {
   "cell_type": "code",
   "execution_count": 12,
   "metadata": {},
   "outputs": [
    {
     "data": {
      "text/plain": [
       "[Function: projectTree]"
      ]
     },
     "execution_count": 12,
     "metadata": {},
     "output_type": "execute_result"
    }
   ],
   "source": [
    "var importer = require('../Core');\n",
    "var path = require('path');\n",
    "var formatNodes = importer.import('d3.ipynb[format tree]');\n",
    "var d3TieredPieSVG = importer.import('d3.ipynb[display d3 tree]');\n",
    "\n",
    "var extensions = /\\.(ts|js|ipynb)\\//ig;\n",
    "\n",
    "function icons(c) {\n",
    "    return c.replace('.component', '\\u2699')\n",
    "           .replace('.module', '\\u26E9')\n",
    "           .replace('.service', '\\u26F4')\n",
    "           .replace('.routing', '\\u2697');\n",
    "}\n",
    "\n",
    "function wordCount(r) {\n",
    "    var words = r['packages'].map(p => p.split(extensions)[2])\n",
    "        .concat(r['packages'].map(p => path.basename(p.split(extensions)[0])))\n",
    "        .concat(r['relatives'].map(r => path.basename(r)))\n",
    "        .concat(r['relatives'].map(r => path.basename(r.split(extensions)[0])));\n",
    "    var wordCounts = {};\n",
    "    words.forEach(w => {\n",
    "        if (typeof wordCounts[w] === 'undefined') {\n",
    "            wordCounts[w] = 1;\n",
    "        } else {\n",
    "            wordCounts[w]++;\n",
    "        }\n",
    "    });\n",
    "    var resultWords = Object.keys(wordCounts).map((d, i) => ({\n",
    "        name: icons(d),\n",
    "        branch: ((/\\.component|\\.module|\\.service|\\.routing/ig).exec(d) || {})[0],\n",
    "        size: wordCounts[d]}));\n",
    "    var edges = [];\n",
    "    r['packages'].forEach(p => edges[edges.length] = {\n",
    "        source: icons(p.split(extensions)[2]),\n",
    "        target: icons(path.basename(p.split(extensions)[0]))\n",
    "    });\n",
    "    r['relatives'].forEach(p => edges[edges.length] = {\n",
    "        source: icons(path.basename(p.split(extensions)[0])),\n",
    "        target: icons(path.basename(p.split(extensions)[2]))\n",
    "    });\n",
    "    return {nodes: resultWords, edges: edges};\n",
    "};\n",
    "\n",
    "var formatNodes;\n",
    "function projectTree(project) {\n",
    "    var projectRelatives = importer.import('relative paths and includes', {project});\n",
    "    var words = [];\n",
    "    \n",
    "    return projectRelatives(project)\n",
    "        .then(words => {\n",
    "            var tree = wordCount(words);\n",
    "            var nodeNames = tree.nodes.map(n => n.name);\n",
    "            tree.nodes = tree.nodes\n",
    "                .filter((n, i, arr) => nodeNames.indexOf(n.name) === i)\n",
    "                .map((n, i) => {\n",
    "                    Object.assign(n, {index: tree.nodes\n",
    "                                      .filter(f => f.branch === n.branch).indexOf(n)})\n",
    "                    return n;\n",
    "                })\n",
    "            var edgeNames = tree.edges.map(n => n.source + '/' + n.target);\n",
    "            tree.edges = tree.edges\n",
    "                .filter((n, i, arr) => edgeNames.indexOf(n.source + '/' + n.target) === i)\n",
    "            var root = formatNodes(tree.nodes, tree.edges);\n",
    "            return d3TieredPieSVG(root);\n",
    "        })\n",
    "        .catch(e => console.log(e))\n",
    "};\n",
    "module.exports = projectTree;\n",
    "\n",
    "\n"
   ]
  },
  {
   "cell_type": "code",
   "execution_count": 1,
   "metadata": {},
   "outputs": [
    {
     "data": {
      "image/svg+xml": [
       "<svg xmlns=\"http://www.w3.org/2000/svg\" width=\"725\" height=\"4990\"><g transform=\"translate(25,25)\"><g class=\"node\" style=\"fill: #1f77b4;\" transform=\"translate(400,4879.756097560976)\"><circle class=\"node-route\" r=\"6\"></circle><text x=\"13\" dy=\".35em\" text-anchor=\"start\" style=\"text-shadow:0 0 1px rgba(0,0,0,1), 0 0 1px rgba(0,0,0,1), 0 0 1px rgba(0,0,0,1);\" class=\"monospace\">path</text></g><g class=\"node\" style=\"fill: #1f77b4;\" transform=\"translate(400,4859.674796747968)\"><circle class=\"node-route\" r=\"6\"></circle><text x=\"13\" dy=\".35em\" text-anchor=\"start\" style=\"text-shadow:0 0 1px rgba(0,0,0,1), 0 0 1px rgba(0,0,0,1), 0 0 1px rgba(0,0,0,1);\" class=\"monospace\">fs</text></g><g class=\"node\" style=\"fill: #1f77b4;\" transform=\"translate(400,4638.780487804878)\"><circle class=\"node-route\" r=\"6\"></circle><text x=\"13\" dy=\".35em\" text-anchor=\"start\" style=\"text-shadow:0 0 1px rgba(0,0,0,1), 0 0 1px rgba(0,0,0,1), 0 0 1px rgba(0,0,0,1);\" class=\"monospace\">child_process</text></g><g class=\"node\" style=\"fill: #1f77b4;\" transform=\"translate(400,4699.024390243902)\"><circle class=\"node-route\" r=\"6\"></circle><text x=\"13\" dy=\".35em\" text-anchor=\"start\" style=\"text-shadow:0 0 1px rgba(0,0,0,1), 0 0 1px rgba(0,0,0,1), 0 0 1px rgba(0,0,0,1);\" class=\"monospace\">glob</text></g><g class=\"node\" style=\"fill: #1f77b4;\" transform=\"translate(400,4518.292682926829)\"><circle class=\"node-route\" r=\"6\"></circle><text x=\"13\" dy=\".35em\" text-anchor=\"start\" style=\"text-shadow:0 0 1px rgba(0,0,0,1), 0 0 1px rgba(0,0,0,1), 0 0 1px rgba(0,0,0,1);\" class=\"monospace\">@angular/core</text></g><g class=\"node\" style=\"fill: #1f77b4;\" transform=\"translate(400,4417.886178861789)\"><circle class=\"node-route\" r=\"6\"></circle><text x=\"13\" dy=\".35em\" text-anchor=\"start\" style=\"text-shadow:0 0 1px rgba(0,0,0,1), 0 0 1px rgba(0,0,0,1), 0 0 1px rgba(0,0,0,1);\" class=\"monospace\">prismjs</text></g><g class=\"node\" style=\"fill: #1f77b4;\" transform=\"translate(400,4678.943089430894)\"><circle class=\"node-route\" r=\"6\"></circle><text x=\"13\" dy=\".35em\" text-anchor=\"start\" style=\"text-shadow:0 0 1px rgba(0,0,0,1), 0 0 1px rgba(0,0,0,1), 0 0 1px rgba(0,0,0,1);\" class=\"monospace\">assert</text></g><g class=\"node\" style=\"fill: #1f77b4;\" transform=\"translate(400,4217.073170731707)\"><circle class=\"node-route\" r=\"6\"></circle><text x=\"13\" dy=\".35em\" text-anchor=\"start\" style=\"text-shadow:0 0 1px rgba(0,0,0,1), 0 0 1px rgba(0,0,0,1), 0 0 1px rgba(0,0,0,1);\" class=\"monospace\">util</text></g><g class=\"node\" style=\"fill: #1f77b4;\" transform=\"translate(400,4076.5040650406504)\"><circle class=\"node-route\" r=\"6\"></circle><text x=\"13\" dy=\".35em\" text-anchor=\"start\" style=\"text-shadow:0 0 1px rgba(0,0,0,1), 0 0 1px rgba(0,0,0,1), 0 0 1px rgba(0,0,0,1);\" class=\"monospace\">express</text></g><g class=\"node\" style=\"fill: #1f77b4;\" transform=\"translate(400,3433.9024390243903)\"><circle class=\"node-route\" r=\"6\"></circle><text x=\"13\" dy=\".35em\" text-anchor=\"start\" style=\"text-shadow:0 0 1px rgba(0,0,0,1), 0 0 1px rgba(0,0,0,1), 0 0 1px rgba(0,0,0,1);\" class=\"monospace\">chrono-node</text></g><g class=\"node\" style=\"fill: #1f77b4;\" transform=\"translate(400,4337.5609756097565)\"><circle class=\"node-route\" r=\"6\"></circle><text x=\"13\" dy=\".35em\" text-anchor=\"start\" style=\"text-shadow:0 0 1px rgba(0,0,0,1), 0 0 1px rgba(0,0,0,1), 0 0 1px rgba(0,0,0,1);\" class=\"monospace\">@angular/common</text></g><g class=\"node\" style=\"fill: #1f77b4;\" transform=\"translate(400,4498.211382113821)\"><circle class=\"node-route\" r=\"6\"></circle><text x=\"13\" dy=\".35em\" text-anchor=\"start\" style=\"text-shadow:0 0 1px rgba(0,0,0,1), 0 0 1px rgba(0,0,0,1), 0 0 1px rgba(0,0,0,1);\" class=\"monospace\">@angular/router</text></g><g class=\"node\" style=\"fill: #1f77b4;\" transform=\"translate(400,4618.69918699187)\"><circle class=\"node-route\" r=\"6\"></circle><text x=\"13\" dy=\".35em\" text-anchor=\"start\" style=\"text-shadow:0 0 1px rgba(0,0,0,1), 0 0 1px rgba(0,0,0,1), 0 0 1px rgba(0,0,0,1);\" class=\"monospace\">https</text></g><g class=\"node\" style=\"fill: #1f77b4;\" transform=\"translate(400,4759.268292682927)\"><circle class=\"node-route\" r=\"6\"></circle><text x=\"13\" dy=\".35em\" text-anchor=\"start\" style=\"text-shadow:0 0 1px rgba(0,0,0,1), 0 0 1px rgba(0,0,0,1), 0 0 1px rgba(0,0,0,1);\" class=\"monospace\">module</text></g><g class=\"node\" style=\"fill: #1f77b4;\" transform=\"translate(400,3815.4471544715448)\"><circle class=\"node-route\" r=\"6\"></circle><text x=\"13\" dy=\".35em\" text-anchor=\"start\" style=\"text-shadow:0 0 1px rgba(0,0,0,1), 0 0 1px rgba(0,0,0,1), 0 0 1px rgba(0,0,0,1);\" class=\"monospace\">request</text></g><g class=\"node\" style=\"fill: #1f77b4;\" transform=\"translate(400,2891.707317073171)\"><circle class=\"node-route\" r=\"6\"></circle><text x=\"13\" dy=\".35em\" text-anchor=\"start\" style=\"text-shadow:0 0 1px rgba(0,0,0,1), 0 0 1px rgba(0,0,0,1), 0 0 1px rgba(0,0,0,1);\" class=\"monospace\">\\@angular/core</text></g><g class=\"node\" style=\"fill: #1f77b4;\" transform=\"translate(400,200.81300813008147)\"><circle class=\"node-route\" r=\"6\"></circle><text x=\"13\" dy=\".35em\" text-anchor=\"start\" style=\"text-shadow:0 0 1px rgba(0,0,0,1), 0 0 1px rgba(0,0,0,1), 0 0 1px rgba(0,0,0,1);\" class=\"monospace\">config</text></g><g class=\"node\" style=\"fill: #1f77b4;\" transform=\"translate(400,3112.60162601626)\"><circle class=\"node-route\" r=\"6\"></circle><text x=\"13\" dy=\".35em\" text-anchor=\"start\" style=\"text-shadow:0 0 1px rgba(0,0,0,1), 0 0 1px rgba(0,0,0,1), 0 0 1px rgba(0,0,0,1);\" class=\"monospace\">googleapis</text></g><g class=\"node\" style=\"fill: #1f77b4;\" transform=\"translate(400,4397.804878048781)\"><circle class=\"node-route\" r=\"6\"></circle><text x=\"13\" dy=\".35em\" text-anchor=\"start\" style=\"text-shadow:0 0 1px rgba(0,0,0,1), 0 0 1px rgba(0,0,0,1), 0 0 1px rgba(0,0,0,1);\" class=\"monospace\">socket.io-client</text></g><g class=\"node\" style=\"fill: #1f77b4;\" transform=\"translate(400,4036.3414634146343)\"><circle class=\"node-route\" r=\"6\"></circle><text x=\"13\" dy=\".35em\" text-anchor=\"start\" style=\"text-shadow:0 0 1px rgba(0,0,0,1), 0 0 1px rgba(0,0,0,1), 0 0 1px rgba(0,0,0,1);\" class=\"monospace\">gulp-tap</text></g><g class=\"node\" style=\"fill: #1f77b4;\" transform=\"translate(400,4558.455284552845)\"><circle class=\"node-route\" r=\"6\"></circle><text x=\"13\" dy=\".35em\" text-anchor=\"start\" style=\"text-shadow:0 0 1px rgba(0,0,0,1), 0 0 1px rgba(0,0,0,1), 0 0 1px rgba(0,0,0,1);\" class=\"monospace\">webpack</text></g><g class=\"node\" style=\"fill: #1f77b4;\" transform=\"translate(400,4478.130081300813)\"><circle class=\"node-route\" r=\"6\"></circle><text x=\"13\" dy=\".35em\" text-anchor=\"start\" style=\"text-shadow:0 0 1px rgba(0,0,0,1), 0 0 1px rgba(0,0,0,1), 0 0 1px rgba(0,0,0,1);\" class=\"monospace\">rxjs/Observable</text></g><g class=\"node\" style=\"fill: #1f77b4;\" transform=\"translate(400,3795.3658536585363)\"><circle class=\"node-route\" r=\"6\"></circle><text x=\"13\" dy=\".35em\" text-anchor=\"start\" style=\"text-shadow:0 0 1px rgba(0,0,0,1), 0 0 1px rgba(0,0,0,1), 0 0 1px rgba(0,0,0,1);\" class=\"monospace\">jsdom</text></g><g class=\"node\" style=\"fill: #1f77b4;\" transform=\"translate(400,4257.235772357723)\"><circle class=\"node-route\" r=\"6\"></circle><text x=\"13\" dy=\".35em\" text-anchor=\"start\" style=\"text-shadow:0 0 1px rgba(0,0,0,1), 0 0 1px rgba(0,0,0,1), 0 0 1px rgba(0,0,0,1);\" class=\"monospace\">underscore</text></g><g class=\"node\" style=\"fill: #1f77b4;\" transform=\"translate(400,3413.8211382113823)\"><circle class=\"node-route\" r=\"6\"></circle><text x=\"13\" dy=\".35em\" text-anchor=\"start\" style=\"text-shadow:0 0 1px rgba(0,0,0,1), 0 0 1px rgba(0,0,0,1), 0 0 1px rgba(0,0,0,1);\" class=\"monospace\">url</text></g><g class=\"node\" style=\"fill: #1f77b4;\" transform=\"translate(400,3393.739837398374)\"><circle class=\"node-route\" r=\"6\"></circle><text x=\"13\" dy=\".35em\" text-anchor=\"start\" style=\"text-shadow:0 0 1px rgba(0,0,0,1), 0 0 1px rgba(0,0,0,1), 0 0 1px rgba(0,0,0,1);\" class=\"monospace\">http</text></g><g class=\"node\" style=\"fill: #1f77b4;\" transform=\"translate(400,4176.910569105691)\"><circle class=\"node-route\" r=\"6\"></circle><text x=\"13\" dy=\".35em\" text-anchor=\"start\" style=\"text-shadow:0 0 1px rgba(0,0,0,1), 0 0 1px rgba(0,0,0,1), 0 0 1px rgba(0,0,0,1);\" class=\"monospace\">d3-node</text></g><g class=\"node\" style=\"fill: #1f77b4;\" transform=\"translate(400,4156.829268292683)\"><circle class=\"node-route\" r=\"6\"></circle><text x=\"13\" dy=\".35em\" text-anchor=\"start\" style=\"text-shadow:0 0 1px rgba(0,0,0,1), 0 0 1px rgba(0,0,0,1), 0 0 1px rgba(0,0,0,1);\" class=\"monospace\">moment</text></g><g class=\"node\" style=\"fill: #1f77b4;\" transform=\"translate(400,3835.528455284553)\"><circle class=\"node-route\" r=\"6\"></circle><text x=\"13\" dy=\".35em\" text-anchor=\"start\" style=\"text-shadow:0 0 1px rgba(0,0,0,1), 0 0 1px rgba(0,0,0,1), 0 0 1px rgba(0,0,0,1);\" class=\"monospace\">mime</text></g><g class=\"node\" style=\"fill: #1f77b4;\" transform=\"translate(400,4458.048780487805)\"><circle class=\"node-route\" r=\"6\"></circle><text x=\"13\" dy=\".35em\" text-anchor=\"start\" style=\"text-shadow:0 0 1px rgba(0,0,0,1), 0 0 1px rgba(0,0,0,1), 0 0 1px rgba(0,0,0,1);\" class=\"monospace\">@angular/http</text></g><g class=\"node\" style=\"fill: #1f77b4;\" transform=\"translate(400,4437.967479674797)\"><circle class=\"node-route\" r=\"6\"></circle><text x=\"13\" dy=\".35em\" text-anchor=\"start\" style=\"text-shadow:0 0 1px rgba(0,0,0,1), 0 0 1px rgba(0,0,0,1), 0 0 1px rgba(0,0,0,1);\" class=\"monospace\">rxjs/Subscription</text></g><g class=\"node\" style=\"fill: #1f77b4;\" transform=\"translate(400,3534.3089430894306)\"><circle class=\"node-route\" r=\"6\"></circle><text x=\"13\" dy=\".35em\" text-anchor=\"start\" style=\"text-shadow:0 0 1px rgba(0,0,0,1), 0 0 1px rgba(0,0,0,1), 0 0 1px rgba(0,0,0,1);\" class=\"monospace\">wdio-sync</text></g><g class=\"node\" style=\"fill: #1f77b4;\" transform=\"translate(400,3514.2276422764226)\"><circle class=\"node-route\" r=\"6\"></circle><text x=\"13\" dy=\".35em\" text-anchor=\"start\" style=\"text-shadow:0 0 1px rgba(0,0,0,1), 0 0 1px rgba(0,0,0,1), 0 0 1px rgba(0,0,0,1);\" class=\"monospace\">,\\n</text></g><g class=\"node\" style=\"fill: #1f77b4;\" transform=\"translate(400,4940)\"><circle class=\"node-route\" r=\"6\"></circle><text x=\"13\" dy=\".35em\" text-anchor=\"start\" style=\"text-shadow:0 0 1px rgba(0,0,0,1), 0 0 1px rgba(0,0,0,1), 0 0 1px rgba(0,0,0,1);\" class=\"monospace\">path\\\\</text></g><g class=\"node\" style=\"fill: #1f77b4;\" transform=\"translate(400,4739.1869918699185)\"><circle class=\"node-route\" r=\"6\"></circle><text x=\"13\" dy=\".35em\" text-anchor=\"start\" style=\"text-shadow:0 0 1px rgba(0,0,0,1), 0 0 1px rgba(0,0,0,1), 0 0 1px rgba(0,0,0,1);\" class=\"monospace\">vm</text></g><g class=\"node\" style=\"fill: #1f77b4;\" transform=\"translate(400,4799.430894308943)\"><circle class=\"node-route\" r=\"6\"></circle><text x=\"13\" dy=\".35em\" text-anchor=\"start\" style=\"text-shadow:0 0 1px rgba(0,0,0,1), 0 0 1px rgba(0,0,0,1), 0 0 1px rgba(0,0,0,1);\" class=\"monospace\">JSONStream</text></g><g class=\"node\" style=\"fill: #1f77b4;\" transform=\"translate(400,3373.658536585366)\"><circle class=\"node-route\" r=\"6\"></circle><text x=\"13\" dy=\".35em\" text-anchor=\"start\" style=\"text-shadow:0 0 1px rgba(0,0,0,1), 0 0 1px rgba(0,0,0,1), 0 0 1px rgba(0,0,0,1);\" class=\"monospace\">body-parser</text></g><g class=\"node\" style=\"fill: #1f77b4;\" transform=\"translate(400,4016.2601626016262)\"><circle class=\"node-route\" r=\"6\"></circle><text x=\"13\" dy=\".35em\" text-anchor=\"start\" style=\"text-shadow:0 0 1px rgba(0,0,0,1), 0 0 1px rgba(0,0,0,1), 0 0 1px rgba(0,0,0,1);\" class=\"monospace\">gulp-replace</text></g><g class=\"node\" style=\"fill: #1f77b4;\" transform=\"translate(400,3132.6829268292686)\"><circle class=\"node-route\" r=\"6\"></circle><text x=\"13\" dy=\".35em\" text-anchor=\"start\" style=\"text-shadow:0 0 1px rgba(0,0,0,1), 0 0 1px rgba(0,0,0,1), 0 0 1px rgba(0,0,0,1);\" class=\"monospace\">google-auth-library</text></g><g class=\"node\" style=\"fill: #1f77b4;\" transform=\"translate(400,3935.9349593495936)\"><circle class=\"node-route\" r=\"6\"></circle><text x=\"13\" dy=\".35em\" text-anchor=\"start\" style=\"text-shadow:0 0 1px rgba(0,0,0,1), 0 0 1px rgba(0,0,0,1), 0 0 1px rgba(0,0,0,1);\" class=\"monospace\">xregexp</text></g><g class=\"node\" style=\"fill: #1f77b4;\" transform=\"translate(400,2951.951219512195)\"><circle class=\"node-route\" r=\"6\"></circle><text x=\"13\" dy=\".35em\" text-anchor=\"start\" style=\"text-shadow:0 0 1px rgba(0,0,0,1), 0 0 1px rgba(0,0,0,1), 0 0 1px rgba(0,0,0,1);\" class=\"monospace\">crypto</text></g><g class=\"node\" style=\"fill: #1f77b4;\" transform=\"translate(400,2911.788617886179)\"><circle class=\"node-route\" r=\"6\"></circle><text x=\"13\" dy=\".35em\" text-anchor=\"start\" style=\"text-shadow:0 0 1px rgba(0,0,0,1), 0 0 1px rgba(0,0,0,1), 0 0 1px rgba(0,0,0,1);\" class=\"monospace\">/Users/brian.cullinan/Documents/jupytangular2/Core</text></g><g class=\"node\" style=\"fill: #1f77b4;\" transform=\"translate(400,4598.617886178862)\"><circle class=\"node-route\" r=\"6\"></circle><text x=\"13\" dy=\".35em\" text-anchor=\"start\" style=\"text-shadow:0 0 1px rgba(0,0,0,1), 0 0 1px rgba(0,0,0,1), 0 0 1px rgba(0,0,0,1);\" class=\"monospace\">os</text></g><g class=\"node\" style=\"fill: #1f77b4;\" transform=\"translate(400,2871.6260162601625)\"><circle class=\"node-route\" r=\"6\"></circle><text x=\"13\" dy=\".35em\" text-anchor=\"start\" style=\"text-shadow:0 0 1px rgba(0,0,0,1), 0 0 1px rgba(0,0,0,1), 0 0 1px rgba(0,0,0,1);\" class=\"monospace\">\\@angular/common</text></g><g class=\"node\" style=\"fill: #1f77b4;\" transform=\"translate(400,2851.5447154471544)\"><circle class=\"node-route\" r=\"6\"></circle><text x=\"13\" dy=\".35em\" text-anchor=\"start\" style=\"text-shadow:0 0 1px rgba(0,0,0,1), 0 0 1px rgba(0,0,0,1), 0 0 1px rgba(0,0,0,1);\" class=\"monospace\">\\@angular/platform-browser</text></g><g class=\"node\" style=\"fill: #1f77b4;\" transform=\"translate(400,2831.4634146341464)\"><circle class=\"node-route\" r=\"6\"></circle><text x=\"13\" dy=\".35em\" text-anchor=\"start\" style=\"text-shadow:0 0 1px rgba(0,0,0,1), 0 0 1px rgba(0,0,0,1), 0 0 1px rgba(0,0,0,1);\" class=\"monospace\">on</text></g><g class=\"node\" style=\"fill: #1f77b4;\" transform=\"translate(400,2811.3821138211383)\"><circle class=\"node-route\" r=\"6\"></circle><text x=\"13\" dy=\".35em\" text-anchor=\"start\" style=\"text-shadow:0 0 1px rgba(0,0,0,1), 0 0 1px rgba(0,0,0,1), 0 0 1px rgba(0,0,0,1);\" class=\"monospace\">\\@angular/animations</text></g><g class=\"node\" style=\"fill: #1f77b4;\" transform=\"translate(400,2771.2195121951218)\"><circle class=\"node-route\" r=\"6\"></circle><text x=\"13\" dy=\".35em\" text-anchor=\"start\" style=\"text-shadow:0 0 1px rgba(0,0,0,1), 0 0 1px rgba(0,0,0,1), 0 0 1px rgba(0,0,0,1);\" class=\"monospace\">\\@angular/http</text></g><g class=\"node\" style=\"fill: #1f77b4;\" transform=\"translate(400,2751.1382113821137)\"><circle class=\"node-route\" r=\"6\"></circle><text x=\"13\" dy=\".35em\" text-anchor=\"start\" style=\"text-shadow:0 0 1px rgba(0,0,0,1), 0 0 1px rgba(0,0,0,1), 0 0 1px rgba(0,0,0,1);\" class=\"monospace\">\\@angular/platform-browser/browser</text></g><g class=\"node\" style=\"fill: #1f77b4;\" transform=\"translate(400,2731.0569105691056)\"><circle class=\"node-route\" r=\"6\"></circle><text x=\"13\" dy=\".35em\" text-anchor=\"start\" style=\"text-shadow:0 0 1px rgba(0,0,0,1), 0 0 1px rgba(0,0,0,1), 0 0 1px rgba(0,0,0,1);\" class=\"monospace\">\\@angular/http/testing</text></g><g class=\"node\" style=\"fill: #1f77b4;\" transform=\"translate(400,2690.8943089430895)\"><circle class=\"node-route\" r=\"6\"></circle><text x=\"13\" dy=\".35em\" text-anchor=\"start\" style=\"text-shadow:0 0 1px rgba(0,0,0,1), 0 0 1px rgba(0,0,0,1), 0 0 1px rgba(0,0,0,1);\" class=\"monospace\">[prop]</text></g><g class=\"node\" style=\"fill: #1f77b4;\" transform=\"translate(400,2670.8130081300815)\"><circle class=\"node-route\" r=\"6\"></circle><text x=\"13\" dy=\".35em\" text-anchor=\"start\" style=\"text-shadow:0 0 1px rgba(0,0,0,1), 0 0 1px rgba(0,0,0,1), 0 0 1px rgba(0,0,0,1);\" class=\"monospace\">(event)</text></g><g class=\"node\" style=\"fill: #1f77b4;\" transform=\"translate(400,2650.731707317073)\"><circle class=\"node-route\" r=\"6\"></circle><text x=\"13\" dy=\".35em\" text-anchor=\"start\" style=\"text-shadow:0 0 1px rgba(0,0,0,1), 0 0 1px rgba(0,0,0,1), 0 0 1px rgba(0,0,0,1);\" class=\"monospace\">@trigger</text></g><g class=\"node\" style=\"fill: #1f77b4;\" transform=\"translate(400,2630.650406504065)\"><circle class=\"node-route\" r=\"6\"></circle><text x=\"13\" dy=\".35em\" text-anchor=\"start\" style=\"text-shadow:0 0 1px rgba(0,0,0,1), 0 0 1px rgba(0,0,0,1), 0 0 1px rgba(0,0,0,1);\" class=\"monospace\"> + stringifyType(moduleType) + </text></g><g class=\"node\" style=\"fill: #1f77b4;\" transform=\"translate(400,4919.918699186992)\"><circle class=\"node-route\" r=\"6\"></circle><text x=\"13\" dy=\".35em\" text-anchor=\"start\" style=\"text-shadow:0 0 1px rgba(0,0,0,1), 0 0 1px rgba(0,0,0,1), 0 0 1px rgba(0,0,0,1);\" class=\"monospace\">firebase-functions</text></g><g class=\"node\" style=\"fill: #1f77b4;\" transform=\"translate(400,4357.642276422765)\"><circle class=\"node-route\" r=\"6\"></circle><text x=\"13\" dy=\".35em\" text-anchor=\"start\" style=\"text-shadow:0 0 1px rgba(0,0,0,1), 0 0 1px rgba(0,0,0,1), 0 0 1px rgba(0,0,0,1);\" class=\"monospace\">@ngx-translate/core</text></g><g class=\"node\" style=\"fill: #1f77b4;\" transform=\"translate(400,4719.1056910569105)\"><circle class=\"node-route\" r=\"6\"></circle><text x=\"13\" dy=\".35em\" text-anchor=\"start\" style=\"text-shadow:0 0 1px rgba(0,0,0,1), 0 0 1px rgba(0,0,0,1), 0 0 1px rgba(0,0,0,1);\" class=\"monospace\">: require\\n</text></g><g class=\"node\" style=\"fill: #1f77b4;\" transform=\"translate(400,3775.284552845528)\"><circle class=\"node-route\" r=\"6\"></circle><text x=\"13\" dy=\".35em\" text-anchor=\"start\" style=\"text-shadow:0 0 1px rgba(0,0,0,1), 0 0 1px rgba(0,0,0,1), 0 0 1px rgba(0,0,0,1);\" class=\"monospace\">dotenv</text></g><g class=\"node\" style=\"fill: #1f77b4;\" transform=\"translate(400,3755.20325203252)\"><circle class=\"node-route\" r=\"6\"></circle><text x=\"13\" dy=\".35em\" text-anchor=\"start\" style=\"text-shadow:0 0 1px rgba(0,0,0,1), 0 0 1px rgba(0,0,0,1), 0 0 1px rgba(0,0,0,1);\" class=\"monospace\">imap-simple</text></g><g class=\"node\" style=\"fill: #1f77b4;\" transform=\"translate(400,3735.121951219512)\"><circle class=\"node-route\" r=\"6\"></circle><text x=\"13\" dy=\".35em\" text-anchor=\"start\" style=\"text-shadow:0 0 1px rgba(0,0,0,1), 0 0 1px rgba(0,0,0,1), 0 0 1px rgba(0,0,0,1);\" class=\"monospace\">, from]];\\n</text></g><g class=\"node\" style=\"fill: #1f77b4;\" transform=\"translate(400,3715.040650406504)\"><circle class=\"node-route\" r=\"6\"></circle><text x=\"13\" dy=\".35em\" text-anchor=\"start\" style=\"text-shadow:0 0 1px rgba(0,0,0,1), 0 0 1px rgba(0,0,0,1), 0 0 1px rgba(0,0,0,1);\" class=\"monospace\">bluebird</text></g><g class=\"node\" style=\"fill: #1f77b4;\" transform=\"translate(400,3694.959349593496)\"><circle class=\"node-route\" r=\"6\"></circle><text x=\"13\" dy=\".35em\" text-anchor=\"start\" style=\"text-shadow:0 0 1px rgba(0,0,0,1), 0 0 1px rgba(0,0,0,1), 0 0 1px rgba(0,0,0,1);\" class=\"monospace\">socket.io</text></g><g class=\"node\" style=\"fill: #1f77b4;\" transform=\"translate(400,3674.878048780488)\"><circle class=\"node-route\" r=\"6\"></circle><text x=\"13\" dy=\".35em\" text-anchor=\"start\" style=\"text-shadow:0 0 1px rgba(0,0,0,1), 0 0 1px rgba(0,0,0,1), 0 0 1px rgba(0,0,0,1);\" class=\"monospace\">, dep, function () {\\n</text></g><g class=\"node\" style=\"fill: #1f77b4;\" transform=\"translate(400,3654.79674796748)\"><circle class=\"node-route\" r=\"6\"></circle><text x=\"13\" dy=\".35em\" text-anchor=\"start\" style=\"text-shadow:0 0 1px rgba(0,0,0,1), 0 0 1px rgba(0,0,0,1), 0 0 1px rgba(0,0,0,1);\" class=\"monospace\">mocha</text></g><g class=\"node\" style=\"fill: #1f77b4;\" transform=\"translate(400,3634.715447154472)\"><circle class=\"node-route\" r=\"6\"></circle><text x=\"13\" dy=\".35em\" text-anchor=\"start\" style=\"text-shadow:0 0 1px rgba(0,0,0,1), 0 0 1px rgba(0,0,0,1), 0 0 1px rgba(0,0,0,1);\" class=\"monospace\">, ctx, r.id, mocha);\\n</text></g><g class=\"node\" style=\"fill: #1f77b4;\" transform=\"translate(400,3614.6341463414633)\"><circle class=\"node-route\" r=\"6\"></circle><text x=\"13\" dy=\".35em\" text-anchor=\"start\" style=\"text-shadow:0 0 1px rgba(0,0,0,1), 0 0 1px rgba(0,0,0,1), 0 0 1px rgba(0,0,0,1);\" class=\"monospace\">, required, r.id, mocha);\\n</text></g><g class=\"node\" style=\"fill: #1f77b4;\" transform=\"translate(400,3594.5528455284557)\"><circle class=\"node-route\" r=\"6\"></circle><text x=\"13\" dy=\".35em\" text-anchor=\"start\" style=\"text-shadow:0 0 1px rgba(0,0,0,1), 0 0 1px rgba(0,0,0,1), 0 0 1px rgba(0,0,0,1);\" class=\"monospace\">, ctx, r.id, mocha);    \\n</text></g><g class=\"node\" style=\"fill: #1f77b4;\" transform=\"translate(400,3574.471544715447)\"><circle class=\"node-route\" r=\"6\"></circle><text x=\"13\" dy=\".35em\" text-anchor=\"start\" style=\"text-shadow:0 0 1px rgba(0,0,0,1), 0 0 1px rgba(0,0,0,1), 0 0 1px rgba(0,0,0,1);\" class=\"monospace\">glob-watcher</text></g><g class=\"node\" style=\"fill: #1f77b4;\" transform=\"translate(400,3554.3902439024387)\"><circle class=\"node-route\" r=\"6\"></circle><text x=\"13\" dy=\".35em\" text-anchor=\"start\" style=\"text-shadow:0 0 1px rgba(0,0,0,1), 0 0 1px rgba(0,0,0,1), 0 0 1px rgba(0,0,0,1);\" class=\"monospace\">wdio-mocha-framework</text></g><g class=\"node\" style=\"fill: #1f77b4;\" transform=\"translate(400,4317.479674796748)\"><circle class=\"node-route\" r=\"6\"></circle><text x=\"13\" dy=\".35em\" text-anchor=\"start\" style=\"text-shadow:0 0 1px rgba(0,0,0,1), 0 0 1px rgba(0,0,0,1), 0 0 1px rgba(0,0,0,1);\" class=\"monospace\">@angular/material</text></g><g class=\"node\" style=\"fill: #1f77b4;\" transform=\"translate(400,4297.3983739837395)\"><circle class=\"node-route\" r=\"6\"></circle><text x=\"13\" dy=\".35em\" text-anchor=\"start\" style=\"text-shadow:0 0 1px rgba(0,0,0,1), 0 0 1px rgba(0,0,0,1), 0 0 1px rgba(0,0,0,1);\" class=\"monospace\">@angular/compiler</text></g><g class=\"node\" style=\"fill: #1f77b4;\" transform=\"translate(400,3494.1463414634145)\"><circle class=\"node-route\" r=\"6\"></circle><text x=\"13\" dy=\".35em\" text-anchor=\"start\" style=\"text-shadow:0 0 1px rgba(0,0,0,1), 0 0 1px rgba(0,0,0,1), 0 0 1px rgba(0,0,0,1);\" class=\"monospace\">, ctx, r.id, mocha);  \\n</text></g><g class=\"node\" style=\"fill: #1f77b4;\" transform=\"translate(400,3474.0650406504064)\"><circle class=\"node-route\" r=\"6\"></circle><text x=\"13\" dy=\".35em\" text-anchor=\"start\" style=\"text-shadow:0 0 1px rgba(0,0,0,1), 0 0 1px rgba(0,0,0,1), 0 0 1px rgba(0,0,0,1);\" class=\"monospace\">, (context, file, m) =&gt; {\\n</text></g><g class=\"node\" style=\"fill: #1f77b4;\" transform=\"translate(400,3453.9837398373984)\"><circle class=\"node-route\" r=\"6\"></circle><text x=\"13\" dy=\".35em\" text-anchor=\"start\" style=\"text-shadow:0 0 1px rgba(0,0,0,1), 0 0 1px rgba(0,0,0,1), 0 0 1px rgba(0,0,0,1);\" class=\"monospace\">xlsx</text></g><g class=\"node\" style=\"fill: #1f77b4;\" transform=\"translate(400,4277.317073170731)\"><circle class=\"node-route\" r=\"6\"></circle><text x=\"13\" dy=\".35em\" text-anchor=\"start\" style=\"text-shadow:0 0 1px rgba(0,0,0,1), 0 0 1px rgba(0,0,0,1), 0 0 1px rgba(0,0,0,1);\" class=\"monospace\">@angular/platform-server</text></g><g class=\"node\" style=\"fill: #1f77b4;\" transform=\"translate(400,4538.373983739837)\"><circle class=\"node-route\" r=\"6\"></circle><text x=\"13\" dy=\".35em\" text-anchor=\"start\" style=\"text-shadow:0 0 1px rgba(0,0,0,1), 0 0 1px rgba(0,0,0,1), 0 0 1px rgba(0,0,0,1);\" class=\"monospace\">base64-stream</text></g><g class=\"node\" style=\"fill: #1f77b4;\" transform=\"translate(400,4237.154471544715)\"><circle class=\"node-route\" r=\"6\"></circle><text x=\"13\" dy=\".35em\" text-anchor=\"start\" style=\"text-shadow:0 0 1px rgba(0,0,0,1), 0 0 1px rgba(0,0,0,1), 0 0 1px rgba(0,0,0,1);\" class=\"monospace\">underscore.string</text></g><g class=\"node\" style=\"fill: #1f77b4;\" transform=\"translate(400,4819.512195121952)\"><circle class=\"node-route\" r=\"6\"></circle><text x=\"13\" dy=\".35em\" text-anchor=\"start\" style=\"text-shadow:0 0 1px rgba(0,0,0,1), 0 0 1px rgba(0,0,0,1), 0 0 1px rgba(0,0,0,1);\" class=\"monospace\">fibers/future</text></g><g class=\"node\" style=\"fill: #1f77b4;\" transform=\"translate(400,3353.5772357723577)\"><circle class=\"node-route\" r=\"6\"></circle><text x=\"13\" dy=\".35em\" text-anchor=\"start\" style=\"text-shadow:0 0 1px rgba(0,0,0,1), 0 0 1px rgba(0,0,0,1), 0 0 1px rgba(0,0,0,1);\" class=\"monospace\">lodash</text></g><g class=\"node\" style=\"fill: #1f77b4;\" transform=\"translate(400,4196.991869918699)\"><circle class=\"node-route\" r=\"6\"></circle><text x=\"13\" dy=\".35em\" text-anchor=\"start\" style=\"text-shadow:0 0 1px rgba(0,0,0,1), 0 0 1px rgba(0,0,0,1), 0 0 1px rgba(0,0,0,1);\" class=\"monospace\">@angular/cli</text></g><g class=\"node\" style=\"fill: #1f77b4;\" transform=\"translate(400,3313.414634146341)\"><circle class=\"node-route\" r=\"6\"></circle><text x=\"13\" dy=\".35em\" text-anchor=\"start\" style=\"text-shadow:0 0 1px rgba(0,0,0,1), 0 0 1px rgba(0,0,0,1), 0 0 1px rgba(0,0,0,1);\" class=\"monospace\">prismjs/plugins/keep-markup/prism-keep-markup</text></g><g class=\"node\" style=\"fill: #1f77b4;\" transform=\"translate(400,3293.3333333333335)\"><circle class=\"node-route\" r=\"6\"></circle><text x=\"13\" dy=\".35em\" text-anchor=\"start\" style=\"text-shadow:0 0 1px rgba(0,0,0,1), 0 0 1px rgba(0,0,0,1), 0 0 1px rgba(0,0,0,1);\" class=\"monospace\">mock-require</text></g><g class=\"node\" style=\"fill: #1f77b4;\" transform=\"translate(400,3273.252032520325)\"><circle class=\"node-route\" r=\"6\"></circle><text x=\"13\" dy=\".35em\" text-anchor=\"start\" style=\"text-shadow:0 0 1px rgba(0,0,0,1), 0 0 1px rgba(0,0,0,1), 0 0 1px rgba(0,0,0,1);\" class=\"monospace\">memfs</text></g><g class=\"node\" style=\"fill: #1f77b4;\" transform=\"translate(400,3253.170731707317)\"><circle class=\"node-route\" r=\"6\"></circle><text x=\"13\" dy=\".35em\" text-anchor=\"start\" style=\"text-shadow:0 0 1px rgba(0,0,0,1), 0 0 1px rgba(0,0,0,1), 0 0 1px rgba(0,0,0,1);\" class=\"monospace\">unionfs</text></g><g class=\"node\" style=\"fill: #1f77b4;\" transform=\"translate(400,3233.089430894309)\"><circle class=\"node-route\" r=\"6\"></circle><text x=\"13\" dy=\".35em\" text-anchor=\"start\" style=\"text-shadow:0 0 1px rgba(0,0,0,1), 0 0 1px rgba(0,0,0,1), 0 0 1px rgba(0,0,0,1);\" class=\"monospace\">typescript</text></g><g class=\"node\" style=\"fill: #1f77b4;\" transform=\"translate(400,3213.008130081301)\"><circle class=\"node-route\" r=\"6\"></circle><text x=\"13\" dy=\".35em\" text-anchor=\"start\" style=\"text-shadow:0 0 1px rgba(0,0,0,1), 0 0 1px rgba(0,0,0,1), 0 0 1px rgba(0,0,0,1);\" class=\"monospace\">renamer</text></g><g class=\"node\" style=\"fill: #1f77b4;\" transform=\"translate(400,3192.9268292682927)\"><circle class=\"node-route\" r=\"6\"></circle><text x=\"13\" dy=\".35em\" text-anchor=\"start\" style=\"text-shadow:0 0 1px rgba(0,0,0,1), 0 0 1px rgba(0,0,0,1), 0 0 1px rgba(0,0,0,1);\" class=\"monospace\">gulp-copy</text></g><g class=\"node\" style=\"fill: #1f77b4;\" transform=\"translate(400,3172.8455284552847)\"><circle class=\"node-route\" r=\"6\"></circle><text x=\"13\" dy=\".35em\" text-anchor=\"start\" style=\"text-shadow:0 0 1px rgba(0,0,0,1), 0 0 1px rgba(0,0,0,1), 0 0 1px rgba(0,0,0,1);\" class=\"monospace\">gulp-clean</text></g><g class=\"node\" style=\"fill: #1f77b4;\" transform=\"translate(400,3152.7642276422766)\"><circle class=\"node-route\" r=\"6\"></circle><text x=\"13\" dy=\".35em\" text-anchor=\"start\" style=\"text-shadow:0 0 1px rgba(0,0,0,1), 0 0 1px rgba(0,0,0,1), 0 0 1px rgba(0,0,0,1);\" class=\"monospace\">gulp-run</text></g><g class=\"node\" style=\"fill: #1f77b4;\" transform=\"translate(400,160.65040650406445)\"><circle class=\"node-route\" r=\"6\"></circle><text x=\"13\" dy=\".35em\" text-anchor=\"start\" style=\"text-shadow:0 0 1px rgba(0,0,0,1), 0 0 1px rgba(0,0,0,1), 0 0 1px rgba(0,0,0,1);\" class=\"monospace\">utilities</text></g><g class=\"node\" style=\"fill: #1f77b4;\" transform=\"translate(400,4658.861788617886)\"><circle class=\"node-route\" r=\"6\"></circle><text x=\"13\" dy=\".35em\" text-anchor=\"start\" style=\"text-shadow:0 0 1px rgba(0,0,0,1), 0 0 1px rgba(0,0,0,1), 0 0 1px rgba(0,0,0,1);\" class=\"monospace\">fuse.js</text></g><g class=\"node\" style=\"fill: #1f77b4;\" transform=\"translate(400,3092.5203252032525)\"><circle class=\"node-route\" r=\"6\"></circle><text x=\"13\" dy=\".35em\" text-anchor=\"start\" style=\"text-shadow:0 0 1px rgba(0,0,0,1), 0 0 1px rgba(0,0,0,1), 0 0 1px rgba(0,0,0,1);\" class=\"monospace\">/Users/briancullinan/jupytangular2/Core</text></g><g class=\"node\" style=\"fill: #1f77b4;\" transform=\"translate(400,3072.439024390244)\"><circle class=\"node-route\" r=\"6\"></circle><text x=\"13\" dy=\".35em\" text-anchor=\"start\" style=\"text-shadow:0 0 1px rgba(0,0,0,1), 0 0 1px rgba(0,0,0,1), 0 0 1px rgba(0,0,0,1);\" class=\"monospace\">rimraf</text></g><g class=\"node\" style=\"fill: #1f77b4;\" transform=\"translate(400,3052.3577235772354)\"><circle class=\"node-route\" r=\"6\"></circle><text x=\"13\" dy=\".35em\" text-anchor=\"start\" style=\"text-shadow:0 0 1px rgba(0,0,0,1), 0 0 1px rgba(0,0,0,1), 0 0 1px rgba(0,0,0,1);\" class=\"monospace\">@google/maps</text></g><g class=\"node\" style=\"fill: #1f77b4;\" transform=\"translate(400,3032.2764227642274)\"><circle class=\"node-route\" r=\"6\"></circle><text x=\"13\" dy=\".35em\" text-anchor=\"start\" style=\"text-shadow:0 0 1px rgba(0,0,0,1), 0 0 1px rgba(0,0,0,1), 0 0 1px rgba(0,0,0,1);\" class=\"monospace\">/Users/briancullinan/jupytangular2/Core\\</text></g><g class=\"node\" style=\"fill: #1f77b4;\" transform=\"translate(400,1606.5040650406504)\"><circle class=\"node-route\" r=\"6\"></circle><text x=\"13\" dy=\".35em\" text-anchor=\"start\" style=\"text-shadow:0 0 1px rgba(0,0,0,1), 0 0 1px rgba(0,0,0,1), 0 0 1px rgba(0,0,0,1);\" class=\"monospace\">rxjs/add/operator/filter</text></g><g class=\"node\" style=\"fill: #1f77b4;\" transform=\"translate(400,2992.1138211382113)\"><circle class=\"node-route\" r=\"6\"></circle><text x=\"13\" dy=\".35em\" text-anchor=\"start\" style=\"text-shadow:0 0 1px rgba(0,0,0,1), 0 0 1px rgba(0,0,0,1), 0 0 1px rgba(0,0,0,1);\" class=\"monospace\">mysql</text></g><g class=\"node\" style=\"fill: #1f77b4;\" transform=\"translate(400,2972.032520325203)\"><circle class=\"node-route\" r=\"6\"></circle><text x=\"13\" dy=\".35em\" text-anchor=\"start\" style=\"text-shadow:0 0 1px rgba(0,0,0,1), 0 0 1px rgba(0,0,0,1), 0 0 1px rgba(0,0,0,1);\" class=\"monospace\"> + table + </text></g><g class=\"node\" style=\"fill: #1f77b4;\" transform=\"translate(400,4136.747967479675)\"><circle class=\"node-route\" r=\"6\"></circle><text x=\"13\" dy=\".35em\" text-anchor=\"start\" style=\"text-shadow:0 0 1px rgba(0,0,0,1), 0 0 1px rgba(0,0,0,1), 0 0 1px rgba(0,0,0,1);\" class=\"monospace\">d3-cloud</text></g><g class=\"node\" style=\"fill: #1f77b4;\" transform=\"translate(400,2931.869918699187)\"><circle class=\"node-route\" r=\"6\"></circle><text x=\"13\" dy=\".35em\" text-anchor=\"start\" style=\"text-shadow:0 0 1px rgba(0,0,0,1), 0 0 1px rgba(0,0,0,1), 0 0 1px rgba(0,0,0,1);\" class=\"monospace\">webdriverio</text></g><g class=\"node\" style=\"fill: #1f77b4;\" transform=\"translate(400,4116.666666666667)\"><circle class=\"node-route\" r=\"6\"></circle><text x=\"13\" dy=\".35em\" text-anchor=\"start\" style=\"text-shadow:0 0 1px rgba(0,0,0,1), 0 0 1px rgba(0,0,0,1), 0 0 1px rgba(0,0,0,1);\" class=\"monospace\">canvas</text></g><g class=\"node\" style=\"fill: #1f77b4;\" transform=\"translate(400,4096.585365853658)\"><circle class=\"node-route\" r=\"6\"></circle><text x=\"13\" dy=\".35em\" text-anchor=\"start\" style=\"text-shadow:0 0 1px rgba(0,0,0,1), 0 0 1px rgba(0,0,0,1), 0 0 1px rgba(0,0,0,1);\" class=\"monospace\">ncp</text></g><g class=\"node\" style=\"fill: #1f77b4;\" transform=\"translate(400,4779.349593495935)\"><circle class=\"node-route\" r=\"6\"></circle><text x=\"13\" dy=\".35em\" text-anchor=\"start\" style=\"text-shadow:0 0 1px rgba(0,0,0,1), 0 0 1px rgba(0,0,0,1), 0 0 1px rgba(0,0,0,1);\" class=\"monospace\">jsonpath</text></g><g class=\"node\" style=\"fill: #1f77b4;\" transform=\"translate(400,180.73170731707341)\"><circle class=\"node-route\" r=\"6\"></circle><text x=\"13\" dy=\".35em\" text-anchor=\"start\" style=\"text-shadow:0 0 1px rgba(0,0,0,1), 0 0 1px rgba(0,0,0,1), 0 0 1px rgba(0,0,0,1);\" class=\"monospace\">avidbrain</text></g><g class=\"node\" style=\"fill: #1f77b4;\" transform=\"translate(400,4899.837398373984)\"><circle class=\"node-route\" r=\"6\"></circle><text x=\"13\" dy=\".35em\" text-anchor=\"start\" style=\"text-shadow:0 0 1px rgba(0,0,0,1), 0 0 1px rgba(0,0,0,1), 0 0 1px rgba(0,0,0,1);\" class=\"monospace\">firebase-admin</text></g><g class=\"node\" style=\"fill: #1f77b4;\" transform=\"translate(400,4839.59349593496)\"><circle class=\"node-route\" r=\"6\"></circle><text x=\"13\" dy=\".35em\" text-anchor=\"start\" style=\"text-shadow:0 0 1px rgba(0,0,0,1), 0 0 1px rgba(0,0,0,1), 0 0 1px rgba(0,0,0,1);\" class=\"monospace\">fibers</text></g><g class=\"node\" style=\"fill: #1f77b4;\" transform=\"translate(400,2791.3008130081303)\"><circle class=\"node-route\" r=\"6\"></circle><text x=\"13\" dy=\".35em\" text-anchor=\"start\" style=\"text-shadow:0 0 1px rgba(0,0,0,1), 0 0 1px rgba(0,0,0,1), 0 0 1px rgba(0,0,0,1);\" class=\"monospace\">rxjs/operators</text></g><g class=\"node\" style=\"fill: #1f77b4;\" transform=\"translate(400,3996.1788617886177)\"><circle class=\"node-route\" r=\"6\"></circle><text x=\"13\" dy=\".35em\" text-anchor=\"start\" style=\"text-shadow:0 0 1px rgba(0,0,0,1), 0 0 1px rgba(0,0,0,1), 0 0 1px rgba(0,0,0,1);\" class=\"monospace\">angular2-jwt/angular2-jwt</text></g><g class=\"node\" style=\"fill: #1f77b4;\" transform=\"translate(400,3976.0975609756097)\"><circle class=\"node-route\" r=\"6\"></circle><text x=\"13\" dy=\".35em\" text-anchor=\"start\" style=\"text-shadow:0 0 1px rgba(0,0,0,1), 0 0 1px rgba(0,0,0,1), 0 0 1px rgba(0,0,0,1);\" class=\"monospace\">gulp-watch</text></g><g class=\"node\" style=\"fill: #1f77b4;\" transform=\"translate(400,3956.0162601626016)\"><circle class=\"node-route\" r=\"6\"></circle><text x=\"13\" dy=\".35em\" text-anchor=\"start\" style=\"text-shadow:0 0 1px rgba(0,0,0,1), 0 0 1px rgba(0,0,0,1), 0 0 1px rgba(0,0,0,1);\" class=\"monospace\">stream</text></g><g class=\"node\" style=\"fill: #1f77b4;\" transform=\"translate(400,2710.9756097560976)\"><circle class=\"node-route\" r=\"6\"></circle><text x=\"13\" dy=\".35em\" text-anchor=\"start\" style=\"text-shadow:0 0 1px rgba(0,0,0,1), 0 0 1px rgba(0,0,0,1), 0 0 1px rgba(0,0,0,1);\" class=\"monospace\">buffer</text></g><g class=\"node\" style=\"fill: #1f77b4;\" transform=\"translate(400,4578.536585365854)\"><circle class=\"node-route\" r=\"6\"></circle><text x=\"13\" dy=\".35em\" text-anchor=\"start\" style=\"text-shadow:0 0 1px rgba(0,0,0,1), 0 0 1px rgba(0,0,0,1), 0 0 1px rgba(0,0,0,1);\" class=\"monospace\">nodegit</text></g><g class=\"node\" style=\"fill: #1f77b4;\" transform=\"translate(400,3915.8536585365855)\"><circle class=\"node-route\" r=\"6\"></circle><text x=\"13\" dy=\".35em\" text-anchor=\"start\" style=\"text-shadow:0 0 1px rgba(0,0,0,1), 0 0 1px rgba(0,0,0,1), 0 0 1px rgba(0,0,0,1);\" class=\"monospace\">@angular/core/testing</text></g><g class=\"node\" style=\"fill: #1f77b4;\" transform=\"translate(400,3895.7723577235774)\"><circle class=\"node-route\" r=\"6\"></circle><text x=\"13\" dy=\".35em\" text-anchor=\"start\" style=\"text-shadow:0 0 1px rgba(0,0,0,1), 0 0 1px rgba(0,0,0,1), 0 0 1px rgba(0,0,0,1);\" class=\"monospace\">jasmine</text></g><g class=\"node\" style=\"fill: #1f77b4;\" transform=\"translate(400,3875.6910569105694)\"><circle class=\"node-route\" r=\"6\"></circle><text x=\"13\" dy=\".35em\" text-anchor=\"start\" style=\"text-shadow:0 0 1px rgba(0,0,0,1), 0 0 1px rgba(0,0,0,1), 0 0 1px rgba(0,0,0,1);\" class=\"monospace\">@angular/http/testing</text></g><g class=\"node\" style=\"fill: #1f77b4;\" transform=\"translate(400,3855.609756097561)\"><circle class=\"node-route\" r=\"6\"></circle><text x=\"13\" dy=\".35em\" text-anchor=\"start\" style=\"text-shadow:0 0 1px rgba(0,0,0,1), 0 0 1px rgba(0,0,0,1), 0 0 1px rgba(0,0,0,1);\" class=\"monospace\">@angular/platform-browser</text></g><g class=\"node\" style=\"fill: #1f77b4;\" transform=\"translate(400,2590.487804878049)\"><circle class=\"node-route\" r=\"6\"></circle><text x=\"13\" dy=\".35em\" text-anchor=\"start\" style=\"text-shadow:0 0 1px rgba(0,0,0,1), 0 0 1px rgba(0,0,0,1), 0 0 1px rgba(0,0,0,1);\" class=\"monospace\">tslib</text></g><g class=\"node\" style=\"fill: #1f77b4;\" transform=\"translate(400,2570.4065040650407)\"><circle class=\"node-route\" r=\"6\"></circle><text x=\"13\" dy=\".35em\" text-anchor=\"start\" style=\"text-shadow:0 0 1px rgba(0,0,0,1), 0 0 1px rgba(0,0,0,1), 0 0 1px rgba(0,0,0,1);\" class=\"monospace\">rxjs/Subject</text></g><g class=\"node\" style=\"fill: #1f77b4;\" transform=\"translate(400,2550.325203252032)\"><circle class=\"node-route\" r=\"6\"></circle><text x=\"13\" dy=\".35em\" text-anchor=\"start\" style=\"text-shadow:0 0 1px rgba(0,0,0,1), 0 0 1px rgba(0,0,0,1), 0 0 1px rgba(0,0,0,1);\" class=\"monospace\">rxjs/observable/merge</text></g><g class=\"node\" style=\"fill: #1f77b4;\" transform=\"translate(400,2530.2439024390246)\"><circle class=\"node-route\" r=\"6\"></circle><text x=\"13\" dy=\".35em\" text-anchor=\"start\" style=\"text-shadow:0 0 1px rgba(0,0,0,1), 0 0 1px rgba(0,0,0,1), 0 0 1px rgba(0,0,0,1);\" class=\"monospace\">rxjs/observable/of</text></g><g class=\"node\" style=\"fill: #1f77b4;\" transform=\"translate(400,2510.162601626016)\"><circle class=\"node-route\" r=\"6\"></circle><text x=\"13\" dy=\".35em\" text-anchor=\"start\" style=\"text-shadow:0 0 1px rgba(0,0,0,1), 0 0 1px rgba(0,0,0,1), 0 0 1px rgba(0,0,0,1);\" class=\"monospace\">rxjs/operator/first</text></g><g class=\"node\" style=\"fill: #1f77b4;\" transform=\"translate(400,2490.081300813008)\"><circle class=\"node-route\" r=\"6\"></circle><text x=\"13\" dy=\".35em\" text-anchor=\"start\" style=\"text-shadow:0 0 1px rgba(0,0,0,1), 0 0 1px rgba(0,0,0,1), 0 0 1px rgba(0,0,0,1);\" class=\"monospace\">rxjs/operator/map</text></g><g class=\"node\" style=\"fill: #1f77b4;\" transform=\"translate(400,4377.723577235773)\"><circle class=\"node-route\" r=\"6\"></circle><text x=\"13\" dy=\".35em\" text-anchor=\"start\" style=\"text-shadow:0 0 1px rgba(0,0,0,1), 0 0 1px rgba(0,0,0,1), 0 0 1px rgba(0,0,0,1);\" class=\"monospace\">@angular/forms</text></g><g class=\"node\" style=\"fill: #1f77b4;\" transform=\"translate(400,2449.918699186992)\"><circle class=\"node-route\" r=\"6\"></circle><text x=\"13\" dy=\".35em\" text-anchor=\"start\" style=\"text-shadow:0 0 1px rgba(0,0,0,1), 0 0 1px rgba(0,0,0,1), 0 0 1px rgba(0,0,0,1);\" class=\"monospace\">rxjs/observable/fromEvent</text></g><g class=\"node\" style=\"fill: #1f77b4;\" transform=\"translate(400,2429.8373983739834)\"><circle class=\"node-route\" r=\"6\"></circle><text x=\"13\" dy=\".35em\" text-anchor=\"start\" style=\"text-shadow:0 0 1px rgba(0,0,0,1), 0 0 1px rgba(0,0,0,1), 0 0 1px rgba(0,0,0,1);\" class=\"monospace\">rxjs/add/observable/of</text></g><g class=\"node\" style=\"fill: #1f77b4;\" transform=\"translate(400,2409.7560975609754)\"><circle class=\"node-route\" r=\"6\"></circle><text x=\"13\" dy=\".35em\" text-anchor=\"start\" style=\"text-shadow:0 0 1px rgba(0,0,0,1), 0 0 1px rgba(0,0,0,1), 0 0 1px rgba(0,0,0,1);\" class=\"monospace\">rxjs/add/operator/map</text></g><g class=\"node\" style=\"fill: #1f77b4;\" transform=\"translate(400,2389.674796747968)\"><circle class=\"node-route\" r=\"6\"></circle><text x=\"13\" dy=\".35em\" text-anchor=\"start\" style=\"text-shadow:0 0 1px rgba(0,0,0,1), 0 0 1px rgba(0,0,0,1), 0 0 1px rgba(0,0,0,1);\" class=\"monospace\">parse5</text></g><g class=\"node\" style=\"fill: #1f77b4;\" transform=\"translate(400,2369.5934959349593)\"><circle class=\"node-route\" r=\"6\"></circle><text x=\"13\" dy=\".35em\" text-anchor=\"start\" style=\"text-shadow:0 0 1px rgba(0,0,0,1), 0 0 1px rgba(0,0,0,1), 0 0 1px rgba(0,0,0,1);\" class=\"monospace\">rxjs/operator/share</text></g><g class=\"node\" style=\"fill: #1f77b4;\" transform=\"translate(400,2349.512195121951)\"><circle class=\"node-route\" r=\"6\"></circle><text x=\"13\" dy=\".35em\" text-anchor=\"start\" style=\"text-shadow:0 0 1px rgba(0,0,0,1), 0 0 1px rgba(0,0,0,1), 0 0 1px rgba(0,0,0,1);\" class=\"monospace\">rxjs/BehaviorSubject</text></g><g class=\"node\" style=\"fill: #1f77b4;\" transform=\"translate(400,2329.430894308943)\"><circle class=\"node-route\" r=\"6\"></circle><text x=\"13\" dy=\".35em\" text-anchor=\"start\" style=\"text-shadow:0 0 1px rgba(0,0,0,1), 0 0 1px rgba(0,0,0,1), 0 0 1px rgba(0,0,0,1);\" class=\"monospace\">rxjs/operator/concatMap</text></g><g class=\"node\" style=\"fill: #1f77b4;\" transform=\"translate(400,2309.349593495935)\"><circle class=\"node-route\" r=\"6\"></circle><text x=\"13\" dy=\".35em\" text-anchor=\"start\" style=\"text-shadow:0 0 1px rgba(0,0,0,1), 0 0 1px rgba(0,0,0,1), 0 0 1px rgba(0,0,0,1);\" class=\"monospace\">rxjs/operator/catch</text></g><g class=\"node\" style=\"fill: #1f77b4;\" transform=\"translate(400,2289.2682926829266)\"><circle class=\"node-route\" r=\"6\"></circle><text x=\"13\" dy=\".35em\" text-anchor=\"start\" style=\"text-shadow:0 0 1px rgba(0,0,0,1), 0 0 1px rgba(0,0,0,1), 0 0 1px rgba(0,0,0,1);\" class=\"monospace\">rxjs/observable/fromPromise</text></g><g class=\"node\" style=\"fill: #1f77b4;\" transform=\"translate(400,2269.1869918699185)\"><circle class=\"node-route\" r=\"6\"></circle><text x=\"13\" dy=\".35em\" text-anchor=\"start\" style=\"text-shadow:0 0 1px rgba(0,0,0,1), 0 0 1px rgba(0,0,0,1), 0 0 1px rgba(0,0,0,1);\" class=\"monospace\">rxjs/operator/auditTime</text></g><g class=\"node\" style=\"fill: #1f77b4;\" transform=\"translate(400,2249.105691056911)\"><circle class=\"node-route\" r=\"6\"></circle><text x=\"13\" dy=\".35em\" text-anchor=\"start\" style=\"text-shadow:0 0 1px rgba(0,0,0,1), 0 0 1px rgba(0,0,0,1), 0 0 1px rgba(0,0,0,1);\" class=\"monospace\">rxjs/operator/takeUntil</text></g><g class=\"node\" style=\"fill: #1f77b4;\" transform=\"translate(400,2229.0243902439024)\"><circle class=\"node-route\" r=\"6\"></circle><text x=\"13\" dy=\".35em\" text-anchor=\"start\" style=\"text-shadow:0 0 1px rgba(0,0,0,1), 0 0 1px rgba(0,0,0,1), 0 0 1px rgba(0,0,0,1);\" class=\"monospace\">rxjs/observable/forkJoin</text></g><g class=\"node\" style=\"fill: #1f77b4;\" transform=\"translate(400,2208.9430894308944)\"><circle class=\"node-route\" r=\"6\"></circle><text x=\"13\" dy=\".35em\" text-anchor=\"start\" style=\"text-shadow:0 0 1px rgba(0,0,0,1), 0 0 1px rgba(0,0,0,1), 0 0 1px rgba(0,0,0,1);\" class=\"monospace\">events</text></g><g class=\"node\" style=\"fill: #1f77b4;\" transform=\"translate(400,2188.8617886178863)\"><circle class=\"node-route\" r=\"6\"></circle><text x=\"13\" dy=\".35em\" text-anchor=\"start\" style=\"text-shadow:0 0 1px rgba(0,0,0,1), 0 0 1px rgba(0,0,0,1), 0 0 1px rgba(0,0,0,1);\" class=\"monospace\">rxjs/add/observable/fromPromise</text></g><g class=\"node\" style=\"fill: #1f77b4;\" transform=\"translate(400,2168.780487804878)\"><circle class=\"node-route\" r=\"6\"></circle><text x=\"13\" dy=\".35em\" text-anchor=\"start\" style=\"text-shadow:0 0 1px rgba(0,0,0,1), 0 0 1px rgba(0,0,0,1), 0 0 1px rgba(0,0,0,1);\" class=\"monospace\">rxjs/observable/from</text></g><g class=\"node\" style=\"fill: #1f77b4;\" transform=\"translate(400,2148.6991869918697)\"><circle class=\"node-route\" r=\"6\"></circle><text x=\"13\" dy=\".35em\" text-anchor=\"start\" style=\"text-shadow:0 0 1px rgba(0,0,0,1), 0 0 1px rgba(0,0,0,1), 0 0 1px rgba(0,0,0,1);\" class=\"monospace\">rxjs/operator/every</text></g><g class=\"node\" style=\"fill: #1f77b4;\" transform=\"translate(400,2128.6178861788617)\"><circle class=\"node-route\" r=\"6\"></circle><text x=\"13\" dy=\".35em\" text-anchor=\"start\" style=\"text-shadow:0 0 1px rgba(0,0,0,1), 0 0 1px rgba(0,0,0,1), 0 0 1px rgba(0,0,0,1);\" class=\"monospace\">rxjs/operator/last</text></g><g class=\"node\" style=\"fill: #1f77b4;\" transform=\"translate(400,2108.536585365854)\"><circle class=\"node-route\" r=\"6\"></circle><text x=\"13\" dy=\".35em\" text-anchor=\"start\" style=\"text-shadow:0 0 1px rgba(0,0,0,1), 0 0 1px rgba(0,0,0,1), 0 0 1px rgba(0,0,0,1);\" class=\"monospace\">rxjs/operator/mergeMap</text></g><g class=\"node\" style=\"fill: #1f77b4;\" transform=\"translate(400,2088.4552845528456)\"><circle class=\"node-route\" r=\"6\"></circle><text x=\"13\" dy=\".35em\" text-anchor=\"start\" style=\"text-shadow:0 0 1px rgba(0,0,0,1), 0 0 1px rgba(0,0,0,1), 0 0 1px rgba(0,0,0,1);\" class=\"monospace\">rxjs/operator/reduce</text></g><g class=\"node\" style=\"fill: #1f77b4;\" transform=\"translate(400,2068.3739837398375)\"><circle class=\"node-route\" r=\"6\"></circle><text x=\"13\" dy=\".35em\" text-anchor=\"start\" style=\"text-shadow:0 0 1px rgba(0,0,0,1), 0 0 1px rgba(0,0,0,1), 0 0 1px rgba(0,0,0,1);\" class=\"monospace\">rxjs/operator/concatAll</text></g><g class=\"node\" style=\"fill: #1f77b4;\" transform=\"translate(400,2048.2926829268295)\"><circle class=\"node-route\" r=\"6\"></circle><text x=\"13\" dy=\".35em\" text-anchor=\"start\" style=\"text-shadow:0 0 1px rgba(0,0,0,1), 0 0 1px rgba(0,0,0,1), 0 0 1px rgba(0,0,0,1);\" class=\"monospace\">rxjs/util/EmptyError</text></g><g class=\"node\" style=\"fill: #1f77b4;\" transform=\"translate(400,2028.211382113821)\"><circle class=\"node-route\" r=\"6\"></circle><text x=\"13\" dy=\".35em\" text-anchor=\"start\" style=\"text-shadow:0 0 1px rgba(0,0,0,1), 0 0 1px rgba(0,0,0,1), 0 0 1px rgba(0,0,0,1);\" class=\"monospace\">rxjs/operator/mergeAll</text></g><g class=\"node\" style=\"fill: #1f77b4;\" transform=\"translate(400,2008.130081300813)\"><circle class=\"node-route\" r=\"6\"></circle><text x=\"13\" dy=\".35em\" text-anchor=\"start\" style=\"text-shadow:0 0 1px rgba(0,0,0,1), 0 0 1px rgba(0,0,0,1), 0 0 1px rgba(0,0,0,1);\" class=\"monospace\">rxjs/operator/finally</text></g><g class=\"node\" style=\"fill: #1f77b4;\" transform=\"translate(400,1988.0487804878048)\"><circle class=\"node-route\" r=\"6\"></circle><text x=\"13\" dy=\".35em\" text-anchor=\"start\" style=\"text-shadow:0 0 1px rgba(0,0,0,1), 0 0 1px rgba(0,0,0,1), 0 0 1px rgba(0,0,0,1);\" class=\"monospace\">rxjs/operator/do</text></g><g class=\"node\" style=\"fill: #1f77b4;\" transform=\"translate(400,1967.9674796747963)\"><circle class=\"node-route\" r=\"6\"></circle><text x=\"13\" dy=\".35em\" text-anchor=\"start\" style=\"text-shadow:0 0 1px rgba(0,0,0,1), 0 0 1px rgba(0,0,0,1), 0 0 1px rgba(0,0,0,1);\" class=\"monospace\">rxjs/operator/switchMap</text></g><g class=\"node\" style=\"fill: #1f77b4;\" transform=\"translate(400,1947.8861788617887)\"><circle class=\"node-route\" r=\"6\"></circle><text x=\"13\" dy=\".35em\" text-anchor=\"start\" style=\"text-shadow:0 0 1px rgba(0,0,0,1), 0 0 1px rgba(0,0,0,1), 0 0 1px rgba(0,0,0,1);\" class=\"monospace\">rxjs/operator/startWith</text></g><g class=\"node\" style=\"fill: #1f77b4;\" transform=\"translate(400,1927.8048780487807)\"><circle class=\"node-route\" r=\"6\"></circle><text x=\"13\" dy=\".35em\" text-anchor=\"start\" style=\"text-shadow:0 0 1px rgba(0,0,0,1), 0 0 1px rgba(0,0,0,1), 0 0 1px rgba(0,0,0,1);\" class=\"monospace\">rxjs/operator/debounceTime</text></g><g class=\"node\" style=\"fill: #1f77b4;\" transform=\"translate(400,1907.7235772357726)\"><circle class=\"node-route\" r=\"6\"></circle><text x=\"13\" dy=\".35em\" text-anchor=\"start\" style=\"text-shadow:0 0 1px rgba(0,0,0,1), 0 0 1px rgba(0,0,0,1), 0 0 1px rgba(0,0,0,1);\" class=\"monospace\">rxjs/operator/delay</text></g><g class=\"node\" style=\"fill: #1f77b4;\" transform=\"translate(400,1887.642276422764)\"><circle class=\"node-route\" r=\"6\"></circle><text x=\"13\" dy=\".35em\" text-anchor=\"start\" style=\"text-shadow:0 0 1px rgba(0,0,0,1), 0 0 1px rgba(0,0,0,1), 0 0 1px rgba(0,0,0,1);\" class=\"monospace\">rxjs/observable/defer</text></g><g class=\"node\" style=\"fill: #1f77b4;\" transform=\"translate(400,1867.560975609756)\"><circle class=\"node-route\" r=\"6\"></circle><text x=\"13\" dy=\".35em\" text-anchor=\"start\" style=\"text-shadow:0 0 1px rgba(0,0,0,1), 0 0 1px rgba(0,0,0,1), 0 0 1px rgba(0,0,0,1);\" class=\"monospace\">rxjs/observable/throw</text></g><g class=\"node\" style=\"fill: #1f77b4;\" transform=\"translate(400,1847.479674796748)\"><circle class=\"node-route\" r=\"6\"></circle><text x=\"13\" dy=\".35em\" text-anchor=\"start\" style=\"text-shadow:0 0 1px rgba(0,0,0,1), 0 0 1px rgba(0,0,0,1), 0 0 1px rgba(0,0,0,1);\" class=\"monospace\">rxjs/add/operator/share</text></g><g class=\"node\" style=\"fill: #1f77b4;\" transform=\"translate(400,1827.3983739837395)\"><circle class=\"node-route\" r=\"6\"></circle><text x=\"13\" dy=\".35em\" text-anchor=\"start\" style=\"text-shadow:0 0 1px rgba(0,0,0,1), 0 0 1px rgba(0,0,0,1), 0 0 1px rgba(0,0,0,1);\" class=\"monospace\">rxjs/add/operator/merge</text></g><g class=\"node\" style=\"fill: #1f77b4;\" transform=\"translate(400,1807.3170731707319)\"><circle class=\"node-route\" r=\"6\"></circle><text x=\"13\" dy=\".35em\" text-anchor=\"start\" style=\"text-shadow:0 0 1px rgba(0,0,0,1), 0 0 1px rgba(0,0,0,1), 0 0 1px rgba(0,0,0,1);\" class=\"monospace\">rxjs/add/operator/toArray</text></g><g class=\"node\" style=\"fill: #1f77b4;\" transform=\"translate(400,1787.2357723577238)\"><circle class=\"node-route\" r=\"6\"></circle><text x=\"13\" dy=\".35em\" text-anchor=\"start\" style=\"text-shadow:0 0 1px rgba(0,0,0,1), 0 0 1px rgba(0,0,0,1), 0 0 1px rgba(0,0,0,1);\" class=\"monospace\">rxjs/add/operator/take</text></g><g class=\"node\" style=\"fill: #1f77b4;\" transform=\"translate(400,1767.1544715447153)\"><circle class=\"node-route\" r=\"6\"></circle><text x=\"13\" dy=\".35em\" text-anchor=\"start\" style=\"text-shadow:0 0 1px rgba(0,0,0,1), 0 0 1px rgba(0,0,0,1), 0 0 1px rgba(0,0,0,1);\" class=\"monospace\">rxjs/operator/toPromise</text></g><g class=\"node\" style=\"fill: #1f77b4;\" transform=\"translate(400,1747.0731707317073)\"><circle class=\"node-route\" r=\"6\"></circle><text x=\"13\" dy=\".35em\" text-anchor=\"start\" style=\"text-shadow:0 0 1px rgba(0,0,0,1), 0 0 1px rgba(0,0,0,1), 0 0 1px rgba(0,0,0,1);\" class=\"monospace\">xhr2</text></g><g class=\"node\" style=\"fill: #1f77b4;\" transform=\"translate(400,1726.9918699186992)\"><circle class=\"node-route\" r=\"6\"></circle><text x=\"13\" dy=\".35em\" text-anchor=\"start\" style=\"text-shadow:0 0 1px rgba(0,0,0,1), 0 0 1px rgba(0,0,0,1), 0 0 1px rgba(0,0,0,1);\" class=\"monospace\">reflect-metadata</text></g><g class=\"node\" style=\"fill: #1f77b4;\" transform=\"translate(400,1706.9105691056911)\"><circle class=\"node-route\" r=\"6\"></circle><text x=\"13\" dy=\".35em\" text-anchor=\"start\" style=\"text-shadow:0 0 1px rgba(0,0,0,1), 0 0 1px rgba(0,0,0,1), 0 0 1px rgba(0,0,0,1);\" class=\"monospace\">rxjs/Rx</text></g><g class=\"node\" style=\"fill: #1f77b4;\" transform=\"translate(400,1686.8292682926826)\"><circle class=\"node-route\" r=\"6\"></circle><text x=\"13\" dy=\".35em\" text-anchor=\"start\" style=\"text-shadow:0 0 1px rgba(0,0,0,1), 0 0 1px rgba(0,0,0,1), 0 0 1px rgba(0,0,0,1);\" class=\"monospace\">zone</text></g><g class=\"node\" style=\"fill: #1f77b4;\" transform=\"translate(400,1666.747967479675)\"><circle class=\"node-route\" r=\"6\"></circle><text x=\"13\" dy=\".35em\" text-anchor=\"start\" style=\"text-shadow:0 0 1px rgba(0,0,0,1), 0 0 1px rgba(0,0,0,1), 0 0 1px rgba(0,0,0,1);\" class=\"monospace\">rxjs/add/observable/from</text></g><g class=\"node\" style=\"fill: #1f77b4;\" transform=\"translate(400,1646.666666666667)\"><circle class=\"node-route\" r=\"6\"></circle><text x=\"13\" dy=\".35em\" text-anchor=\"start\" style=\"text-shadow:0 0 1px rgba(0,0,0,1), 0 0 1px rgba(0,0,0,1), 0 0 1px rgba(0,0,0,1);\" class=\"monospace\">rxjs/add/operator/do</text></g><g class=\"node\" style=\"fill: #1f77b4;\" transform=\"translate(400,1626.5853658536585)\"><circle class=\"node-route\" r=\"6\"></circle><text x=\"13\" dy=\".35em\" text-anchor=\"start\" style=\"text-shadow:0 0 1px rgba(0,0,0,1), 0 0 1px rgba(0,0,0,1), 0 0 1px rgba(0,0,0,1);\" class=\"monospace\">keymaster</text></g><g class=\"node\" style=\"fill: #1f77b4;\" transform=\"translate(400,2470)\"><circle class=\"node-route\" r=\"6\"></circle><text x=\"13\" dy=\".35em\" text-anchor=\"start\" style=\"text-shadow:0 0 1px rgba(0,0,0,1), 0 0 1px rgba(0,0,0,1), 0 0 1px rgba(0,0,0,1);\" class=\"monospace\">rxjs/operator/filter</text></g><g class=\"node\" style=\"fill: #1f77b4;\" transform=\"translate(400,3012.1951219512193)\"><circle class=\"node-route\" r=\"6\"></circle><text x=\"13\" dy=\".35em\" text-anchor=\"start\" style=\"text-shadow:0 0 1px rgba(0,0,0,1), 0 0 1px rgba(0,0,0,1), 0 0 1px rgba(0,0,0,1);\" class=\"monospace\">npm</text></g><g class=\"node\" style=\"fill: #1f77b4;\" transform=\"translate(400,1566.3414634146338)\"><circle class=\"node-route\" r=\"6\"></circle><text x=\"13\" dy=\".35em\" text-anchor=\"start\" style=\"text-shadow:0 0 1px rgba(0,0,0,1), 0 0 1px rgba(0,0,0,1), 0 0 1px rgba(0,0,0,1);\" class=\"monospace\">index</text></g><g class=\"node\" style=\"fill: #1f77b4;\" transform=\"translate(400,1546.2601626016258)\"><circle class=\"node-route\" r=\"6\"></circle><text x=\"13\" dy=\".35em\" text-anchor=\"start\" style=\"text-shadow:0 0 1px rgba(0,0,0,1), 0 0 1px rgba(0,0,0,1), 0 0 1px rgba(0,0,0,1);\" class=\"monospace\">reconcile timeline data</text></g><g class=\"node\" style=\"fill: #1f77b4;\" transform=\"translate(400,1526.1788617886182)\"><circle class=\"node-route\" r=\"6\"></circle><text x=\"13\" dy=\".35em\" text-anchor=\"start\" style=\"text-shadow:0 0 1px rgba(0,0,0,1), 0 0 1px rgba(0,0,0,1), 0 0 1px rgba(0,0,0,1);\" class=\"monospace\">import notebook</text></g><g class=\"node\" style=\"fill: #1f77b4;\" transform=\"translate(400,1506.0975609756101)\"><circle class=\"node-route\" r=\"6\"></circle><text x=\"13\" dy=\".35em\" text-anchor=\"start\" style=\"text-shadow:0 0 1px rgba(0,0,0,1), 0 0 1px rgba(0,0,0,1), 0 0 1px rgba(0,0,0,1);\" class=\"monospace\">interpret all notebooks</text></g><g class=\"node\" style=\"fill: #1f77b4;\" transform=\"translate(400,1486.0162601626016)\"><circle class=\"node-route\" r=\"6\"></circle><text x=\"13\" dy=\".35em\" text-anchor=\"start\" style=\"text-shadow:0 0 1px rgba(0,0,0,1), 0 0 1px rgba(0,0,0,1), 0 0 1px rgba(0,0,0,1);\" class=\"monospace\">interpret questions</text></g><g class=\"node\" style=\"fill: #1f77b4;\" transform=\"translate(400,1465.9349593495936)\"><circle class=\"node-route\" r=\"6\"></circle><text x=\"13\" dy=\".35em\" text-anchor=\"start\" style=\"text-shadow:0 0 1px rgba(0,0,0,1), 0 0 1px rgba(0,0,0,1), 0 0 1px rgba(0,0,0,1);\" class=\"monospace\">docker demo</text></g><g class=\"node\" style=\"fill: #1f77b4;\" transform=\"translate(400,1445.8536585365855)\"><circle class=\"node-route\" r=\"6\"></circle><text x=\"13\" dy=\".35em\" text-anchor=\"start\" style=\"text-shadow:0 0 1px rgba(0,0,0,1), 0 0 1px rgba(0,0,0,1), 0 0 1px rgba(0,0,0,1);\" class=\"monospace\">install Docker on Mac</text></g><g class=\"node\" style=\"fill: #1f77b4;\" transform=\"translate(400,1425.772357723577)\"><circle class=\"node-route\" r=\"6\"></circle><text x=\"13\" dy=\".35em\" text-anchor=\"start\" style=\"text-shadow:0 0 1px rgba(0,0,0,1), 0 0 1px rgba(0,0,0,1), 0 0 1px rgba(0,0,0,1);\" class=\"monospace\">install Docker on Windows</text></g><g class=\"node\" style=\"fill: #1f77b4;\" transform=\"translate(400,1405.691056910569)\"><circle class=\"node-route\" r=\"6\"></circle><text x=\"13\" dy=\".35em\" text-anchor=\"start\" style=\"text-shadow:0 0 1px rgba(0,0,0,1), 0 0 1px rgba(0,0,0,1), 0 0 1px rgba(0,0,0,1);\" class=\"monospace\">Wireframing</text></g><g class=\"node\" style=\"fill: #aec7e8;\" transform=\"translate(300,1385.6097560975613)\"><circle class=\"node-route\" r=\"6\"></circle><text x=\"13\" dy=\".35em\" text-anchor=\"start\" style=\"text-shadow:0 0 1px rgba(0,0,0,1), 0 0 1px rgba(0,0,0,1), 0 0 1px rgba(0,0,0,1);\" class=\"monospace\">Angular components ( .module ) </text></g><g class=\"node\" style=\"fill: #1f77b4;\" transform=\"translate(400,1365.5284552845528)\"><circle class=\"node-route\" r=\"6\"></circle><text x=\"13\" dy=\".35em\" text-anchor=\"start\" style=\"text-shadow:0 0 1px rgba(0,0,0,1), 0 0 1px rgba(0,0,0,1), 0 0 1px rgba(0,0,0,1);\" class=\"monospace\">angular core modules</text></g><g class=\"node\" style=\"fill: #aec7e8;\" transform=\"translate(300,1345.4471544715448)\"><circle class=\"node-route\" r=\"6\"></circle><text x=\"13\" dy=\".35em\" text-anchor=\"start\" style=\"text-shadow:0 0 1px rgba(0,0,0,1), 0 0 1px rgba(0,0,0,1), 0 0 1px rgba(0,0,0,1);\" class=\"monospace\">angular render service ( .module ) </text></g><g class=\"node\" style=\"fill: #1f77b4;\" transform=\"translate(400,1325.3658536585367)\"><circle class=\"node-route\" r=\"6\"></circle><text x=\"13\" dy=\".35em\" text-anchor=\"start\" style=\"text-shadow:0 0 1px rgba(0,0,0,1), 0 0 1px rgba(0,0,0,1), 0 0 1px rgba(0,0,0,1);\" class=\"monospace\">autorewire</text></g><g class=\"node\" style=\"fill: #1f77b4;\" transform=\"translate(400,1305.2845528455287)\"><circle class=\"node-route\" r=\"6\"></circle><text x=\"13\" dy=\".35em\" text-anchor=\"start\" style=\"text-shadow:0 0 1px rgba(0,0,0,1), 0 0 1px rgba(0,0,0,1), 0 0 1px rgba(0,0,0,1);\" class=\"monospace\">build Angular components</text></g><g class=\"node\" style=\"fill: #1f77b4;\" transform=\"translate(400,1285.2032520325201)\"><circle class=\"node-route\" r=\"6\"></circle><text x=\"13\" dy=\".35em\" text-anchor=\"start\" style=\"text-shadow:0 0 1px rgba(0,0,0,1), 0 0 1px rgba(0,0,0,1), 0 0 1px rgba(0,0,0,1);\" class=\"monospace\">d3 dates</text></g><g class=\"node\" style=\"fill: #1f77b4;\" transform=\"translate(400,1265.121951219512)\"><circle class=\"node-route\" r=\"6\"></circle><text x=\"13\" dy=\".35em\" text-anchor=\"start\" style=\"text-shadow:0 0 1px rgba(0,0,0,1), 0 0 1px rgba(0,0,0,1), 0 0 1px rgba(0,0,0,1);\" class=\"monospace\">d3</text></g><g class=\"node\" style=\"fill: #1f77b4;\" transform=\"translate(400,1245.0406504065045)\"><circle class=\"node-route\" r=\"6\"></circle><text x=\"13\" dy=\".35em\" text-anchor=\"start\" style=\"text-shadow:0 0 1px rgba(0,0,0,1), 0 0 1px rgba(0,0,0,1), 0 0 1px rgba(0,0,0,1);\" class=\"monospace\">de-linting</text></g><g class=\"node\" style=\"fill: #1f77b4;\" transform=\"translate(400,1224.9593495934955)\"><circle class=\"node-route\" r=\"6\"></circle><text x=\"13\" dy=\".35em\" text-anchor=\"start\" style=\"text-shadow:0 0 1px rgba(0,0,0,1), 0 0 1px rgba(0,0,0,1), 0 0 1px rgba(0,0,0,1);\" class=\"monospace\">display angular</text></g><g class=\"node\" style=\"fill: #1f77b4;\" transform=\"translate(400,1204.878048780488)\"><circle class=\"node-route\" r=\"6\"></circle><text x=\"13\" dy=\".35em\" text-anchor=\"start\" style=\"text-shadow:0 0 1px rgba(0,0,0,1), 0 0 1px rgba(0,0,0,1), 0 0 1px rgba(0,0,0,1);\" class=\"monospace\">identity server</text></g><g class=\"node\" style=\"fill: #1f77b4;\" transform=\"translate(400,1184.7967479674799)\"><circle class=\"node-route\" r=\"6\"></circle><text x=\"13\" dy=\".35em\" text-anchor=\"start\" style=\"text-shadow:0 0 1px rgba(0,0,0,1), 0 0 1px rgba(0,0,0,1), 0 0 1px rgba(0,0,0,1);\" class=\"monospace\">karma template</text></g><g class=\"node\" style=\"fill: #1f77b4;\" transform=\"translate(400,1164.7154471544713)\"><circle class=\"node-route\" r=\"6\"></circle><text x=\"13\" dy=\".35em\" text-anchor=\"start\" style=\"text-shadow:0 0 1px rgba(0,0,0,1), 0 0 1px rgba(0,0,0,1), 0 0 1px rgba(0,0,0,1);\" class=\"monospace\">ngx-translate</text></g><g class=\"node\" style=\"fill: #1f77b4;\" transform=\"translate(400,1144.6341463414633)\"><circle class=\"node-route\" r=\"6\"></circle><text x=\"13\" dy=\".35em\" text-anchor=\"start\" style=\"text-shadow:0 0 1px rgba(0,0,0,1), 0 0 1px rgba(0,0,0,1), 0 0 1px rgba(0,0,0,1);\" class=\"monospace\">node express</text></g><g class=\"node\" style=\"fill: #1f77b4;\" transform=\"translate(400,1124.5528455284552)\"><circle class=\"node-route\" r=\"6\"></circle><text x=\"13\" dy=\".35em\" text-anchor=\"start\" style=\"text-shadow:0 0 1px rgba(0,0,0,1), 0 0 1px rgba(0,0,0,1), 0 0 1px rgba(0,0,0,1);\" class=\"monospace\">node simple-imap</text></g><g class=\"node\" style=\"fill: #1f77b4;\" transform=\"translate(400,1104.4715447154472)\"><circle class=\"node-route\" r=\"6\"></circle><text x=\"13\" dy=\".35em\" text-anchor=\"start\" style=\"text-shadow:0 0 1px rgba(0,0,0,1), 0 0 1px rgba(0,0,0,1), 0 0 1px rgba(0,0,0,1);\" class=\"monospace\">promisify automock socketio</text></g><g class=\"node\" style=\"fill: #1f77b4;\" transform=\"translate(400,1084.3902439024387)\"><circle class=\"node-route\" r=\"6\"></circle><text x=\"13\" dy=\".35em\" text-anchor=\"start\" style=\"text-shadow:0 0 1px rgba(0,0,0,1), 0 0 1px rgba(0,0,0,1), 0 0 1px rgba(0,0,0,1);\" class=\"monospace\">test runner</text></g><g class=\"node\" style=\"fill: #1f77b4;\" transform=\"translate(400,1064.308943089431)\"><circle class=\"node-route\" r=\"6\"></circle><text x=\"13\" dy=\".35em\" text-anchor=\"start\" style=\"text-shadow:0 0 1px rgba(0,0,0,1), 0 0 1px rgba(0,0,0,1), 0 0 1px rgba(0,0,0,1);\" class=\"monospace\">zuora to eloqua</text></g><g class=\"node\" style=\"fill: #1f77b4;\" transform=\"translate(400,1044.227642276423)\"><circle class=\"node-route\" r=\"6\"></circle><text x=\"13\" dy=\".35em\" text-anchor=\"start\" style=\"text-shadow:0 0 1px rgba(0,0,0,1), 0 0 1px rgba(0,0,0,1), 0 0 1px rgba(0,0,0,1);\" class=\"monospace\">child process</text></g><g class=\"node\" style=\"fill: #1f77b4;\" transform=\"translate(400,1024.1463414634145)\"><circle class=\"node-route\" r=\"6\"></circle><text x=\"13\" dy=\".35em\" text-anchor=\"start\" style=\"text-shadow:0 0 1px rgba(0,0,0,1), 0 0 1px rgba(0,0,0,1), 0 0 1px rgba(0,0,0,1);\" class=\"monospace\">dates</text></g><g class=\"node\" style=\"fill: #1f77b4;\" transform=\"translate(400,1004.0650406504064)\"><circle class=\"node-route\" r=\"6\"></circle><text x=\"13\" dy=\".35em\" text-anchor=\"start\" style=\"text-shadow:0 0 1px rgba(0,0,0,1), 0 0 1px rgba(0,0,0,1), 0 0 1px rgba(0,0,0,1);\" class=\"monospace\">file system</text></g><g class=\"node\" style=\"fill: #1f77b4;\" transform=\"translate(400,983.9837398373984)\"><circle class=\"node-route\" r=\"6\"></circle><text x=\"13\" dy=\".35em\" text-anchor=\"start\" style=\"text-shadow:0 0 1px rgba(0,0,0,1), 0 0 1px rgba(0,0,0,1), 0 0 1px rgba(0,0,0,1);\" class=\"monospace\">git</text></g><g class=\"node\" style=\"fill: #1f77b4;\" transform=\"translate(400,963.9024390243899)\"><circle class=\"node-route\" r=\"6\"></circle><text x=\"13\" dy=\".35em\" text-anchor=\"start\" style=\"text-shadow:0 0 1px rgba(0,0,0,1), 0 0 1px rgba(0,0,0,1), 0 0 1px rgba(0,0,0,1);\" class=\"monospace\">google calendar</text></g><g class=\"node\" style=\"fill: #1f77b4;\" transform=\"translate(400,943.8211382113818)\"><circle class=\"node-route\" r=\"6\"></circle><text x=\"13\" dy=\".35em\" text-anchor=\"start\" style=\"text-shadow:0 0 1px rgba(0,0,0,1), 0 0 1px rgba(0,0,0,1), 0 0 1px rgba(0,0,0,1);\" class=\"monospace\">google contacts</text></g><g class=\"node\" style=\"fill: #1f77b4;\" transform=\"translate(400,923.7398373983742)\"><circle class=\"node-route\" r=\"6\"></circle><text x=\"13\" dy=\".35em\" text-anchor=\"start\" style=\"text-shadow:0 0 1px rgba(0,0,0,1), 0 0 1px rgba(0,0,0,1), 0 0 1px rgba(0,0,0,1);\" class=\"monospace\">google maps</text></g><g class=\"node\" style=\"fill: #1f77b4;\" transform=\"translate(400,903.6585365853662)\"><circle class=\"node-route\" r=\"6\"></circle><text x=\"13\" dy=\".35em\" text-anchor=\"start\" style=\"text-shadow:0 0 1px rgba(0,0,0,1), 0 0 1px rgba(0,0,0,1), 0 0 1px rgba(0,0,0,1);\" class=\"monospace\">heartbeat</text></g><g class=\"node\" style=\"fill: #1f77b4;\" transform=\"translate(400,883.5772357723577)\"><circle class=\"node-route\" r=\"6\"></circle><text x=\"13\" dy=\".35em\" text-anchor=\"start\" style=\"text-shadow:0 0 1px rgba(0,0,0,1), 0 0 1px rgba(0,0,0,1), 0 0 1px rgba(0,0,0,1);\" class=\"monospace\">notebook</text></g><g class=\"node\" style=\"fill: #1f77b4;\" transform=\"translate(400,863.4959349593496)\"><circle class=\"node-route\" r=\"6\"></circle><text x=\"13\" dy=\".35em\" text-anchor=\"start\" style=\"text-shadow:0 0 1px rgba(0,0,0,1), 0 0 1px rgba(0,0,0,1), 0 0 1px rgba(0,0,0,1);\" class=\"monospace\">sql to json</text></g><g class=\"node\" style=\"fill: #1f77b4;\" transform=\"translate(400,843.414634146342)\"><circle class=\"node-route\" r=\"6\"></circle><text x=\"13\" dy=\".35em\" text-anchor=\"start\" style=\"text-shadow:0 0 1px rgba(0,0,0,1), 0 0 1px rgba(0,0,0,1), 0 0 1px rgba(0,0,0,1);\" class=\"monospace\">uuid</text></g><g class=\"node\" style=\"fill: #1f77b4;\" transform=\"translate(400,823.333333333333)\"><circle class=\"node-route\" r=\"6\"></circle><text x=\"13\" dy=\".35em\" text-anchor=\"start\" style=\"text-shadow:0 0 1px rgba(0,0,0,1), 0 0 1px rgba(0,0,0,1), 0 0 1px rgba(0,0,0,1);\" class=\"monospace\">What is Selenium</text></g><g class=\"node\" style=\"fill: #1f77b4;\" transform=\"translate(400,1586.4227642276423)\"><circle class=\"node-route\" r=\"6\"></circle><text x=\"13\" dy=\".35em\" text-anchor=\"start\" style=\"text-shadow:0 0 1px rgba(0,0,0,1), 0 0 1px rgba(0,0,0,1), 0 0 1px rgba(0,0,0,1);\" class=\"monospace\">demo</text></g><g class=\"node\" style=\"fill: #1f77b4;\" transform=\"translate(400,783.1707317073169)\"><circle class=\"node-route\" r=\"6\"></circle><text x=\"13\" dy=\".35em\" text-anchor=\"start\" style=\"text-shadow:0 0 1px rgba(0,0,0,1), 0 0 1px rgba(0,0,0,1), 0 0 1px rgba(0,0,0,1);\" class=\"monospace\">facebook data</text></g><g class=\"node\" style=\"fill: #1f77b4;\" transform=\"translate(400,763.0894308943089)\"><circle class=\"node-route\" r=\"6\"></circle><text x=\"13\" dy=\".35em\" text-anchor=\"start\" style=\"text-shadow:0 0 1px rgba(0,0,0,1), 0 0 1px rgba(0,0,0,1), 0 0 1px rgba(0,0,0,1);\" class=\"monospace\">github</text></g><g class=\"node\" style=\"fill: #1f77b4;\" transform=\"translate(400,743.0081300813008)\"><circle class=\"node-route\" r=\"6\"></circle><text x=\"13\" dy=\".35em\" text-anchor=\"start\" style=\"text-shadow:0 0 1px rgba(0,0,0,1), 0 0 1px rgba(0,0,0,1), 0 0 1px rgba(0,0,0,1);\" class=\"monospace\">google authorize</text></g><g class=\"node\" style=\"fill: #1f77b4;\" transform=\"translate(400,722.9268292682927)\"><circle class=\"node-route\" r=\"6\"></circle><text x=\"13\" dy=\".35em\" text-anchor=\"start\" style=\"text-shadow:0 0 1px rgba(0,0,0,1), 0 0 1px rgba(0,0,0,1), 0 0 1px rgba(0,0,0,1);\" class=\"monospace\">google takeout</text></g><g class=\"node\" style=\"fill: #1f77b4;\" transform=\"translate(400,702.8455284552847)\"><circle class=\"node-route\" r=\"6\"></circle><text x=\"13\" dy=\".35em\" text-anchor=\"start\" style=\"text-shadow:0 0 1px rgba(0,0,0,1), 0 0 1px rgba(0,0,0,1), 0 0 1px rgba(0,0,0,1);\" class=\"monospace\">google timeline</text></g><g class=\"node\" style=\"fill: #1f77b4;\" transform=\"translate(400,682.7642276422766)\"><circle class=\"node-route\" r=\"6\"></circle><text x=\"13\" dy=\".35em\" text-anchor=\"start\" style=\"text-shadow:0 0 1px rgba(0,0,0,1), 0 0 1px rgba(0,0,0,1), 0 0 1px rgba(0,0,0,1);\" class=\"monospace\">linkedin connections</text></g><g class=\"node\" style=\"fill: #1f77b4;\" transform=\"translate(400,662.6829268292686)\"><circle class=\"node-route\" r=\"6\"></circle><text x=\"13\" dy=\".35em\" text-anchor=\"start\" style=\"text-shadow:0 0 1px rgba(0,0,0,1), 0 0 1px rgba(0,0,0,1), 0 0 1px rgba(0,0,0,1);\" class=\"monospace\">linkedin messages</text></g><g class=\"node\" style=\"fill: #1f77b4;\" transform=\"translate(400,642.6016260162605)\"><circle class=\"node-route\" r=\"6\"></circle><text x=\"13\" dy=\".35em\" text-anchor=\"start\" style=\"text-shadow:0 0 1px rgba(0,0,0,1), 0 0 1px rgba(0,0,0,1), 0 0 1px rgba(0,0,0,1);\" class=\"monospace\">orchestration</text></g><g class=\"node\" style=\"fill: #1f77b4;\" transform=\"translate(400,622.5203252032516)\"><circle class=\"node-route\" r=\"6\"></circle><text x=\"13\" dy=\".35em\" text-anchor=\"start\" style=\"text-shadow:0 0 1px rgba(0,0,0,1), 0 0 1px rgba(0,0,0,1), 0 0 1px rgba(0,0,0,1);\" class=\"monospace\">selenium demo</text></g><g class=\"node\" style=\"fill: #1f77b4;\" transform=\"translate(400,602.4390243902435)\"><circle class=\"node-route\" r=\"6\"></circle><text x=\"13\" dy=\".35em\" text-anchor=\"start\" style=\"text-shadow:0 0 1px rgba(0,0,0,1), 0 0 1px rgba(0,0,0,1), 0 0 1px rgba(0,0,0,1);\" class=\"monospace\">selenium server</text></g><g class=\"node\" style=\"fill: #1f77b4;\" transform=\"translate(400,582.3577235772364)\"><circle class=\"node-route\" r=\"6\"></circle><text x=\"13\" dy=\".35em\" text-anchor=\"start\" style=\"text-shadow:0 0 1px rgba(0,0,0,1), 0 0 1px rgba(0,0,0,1), 0 0 1px rgba(0,0,0,1);\" class=\"monospace\">service auth</text></g><g class=\"node\" style=\"fill: #1f77b4;\" transform=\"translate(400,562.2764227642274)\"><circle class=\"node-route\" r=\"6\"></circle><text x=\"13\" dy=\".35em\" text-anchor=\"start\" style=\"text-shadow:0 0 1px rgba(0,0,0,1), 0 0 1px rgba(0,0,0,1), 0 0 1px rgba(0,0,0,1);\" class=\"monospace\">webdriver</text></g><g class=\"node\" style=\"fill: #1f77b4;\" transform=\"translate(400,542.1951219512193)\"><circle class=\"node-route\" r=\"6\"></circle><text x=\"13\" dy=\".35em\" text-anchor=\"start\" style=\"text-shadow:0 0 1px rgba(0,0,0,1), 0 0 1px rgba(0,0,0,1), 0 0 1px rgba(0,0,0,1);\" class=\"monospace\">you earned it</text></g><g class=\"node\" style=\"fill: #1f77b4;\" transform=\"translate(400,522.1138211382113)\"><circle class=\"node-route\" r=\"6\"></circle><text x=\"13\" dy=\".35em\" text-anchor=\"start\" style=\"text-shadow:0 0 1px rgba(0,0,0,1), 0 0 1px rgba(0,0,0,1), 0 0 1px rgba(0,0,0,1);\" class=\"monospace\">client</text></g><g class=\"node\" style=\"fill: #1f77b4;\" transform=\"translate(400,502.0325203252032)\"><circle class=\"node-route\" r=\"6\"></circle><text x=\"13\" dy=\".35em\" text-anchor=\"start\" style=\"text-shadow:0 0 1px rgba(0,0,0,1), 0 0 1px rgba(0,0,0,1), 0 0 1px rgba(0,0,0,1);\" class=\"monospace\">server</text></g><g class=\"node\" style=\"fill: #1f77b4;\" transform=\"translate(400,481.95121951219517)\"><circle class=\"node-route\" r=\"6\"></circle><text x=\"13\" dy=\".35em\" text-anchor=\"start\" style=\"text-shadow:0 0 1px rgba(0,0,0,1), 0 0 1px rgba(0,0,0,1), 0 0 1px rgba(0,0,0,1);\" class=\"monospace\">clojurescript</text></g><g class=\"node\" style=\"fill: #1f77b4;\" transform=\"translate(400,461.8699186991871)\"><circle class=\"node-route\" r=\"6\"></circle><text x=\"13\" dy=\".35em\" text-anchor=\"start\" style=\"text-shadow:0 0 1px rgba(0,0,0,1), 0 0 1px rgba(0,0,0,1), 0 0 1px rgba(0,0,0,1);\" class=\"monospace\">clojure</text></g><g class=\"node\" style=\"fill: #1f77b4;\" transform=\"translate(400,441.78861788617905)\"><circle class=\"node-route\" r=\"6\"></circle><text x=\"13\" dy=\".35em\" text-anchor=\"start\" style=\"text-shadow:0 0 1px rgba(0,0,0,1), 0 0 1px rgba(0,0,0,1), 0 0 1px rgba(0,0,0,1);\" class=\"monospace\">coffee</text></g><g class=\"node\" style=\"fill: #1f77b4;\" transform=\"translate(400,421.707317073171)\"><circle class=\"node-route\" r=\"6\"></circle><text x=\"13\" dy=\".35em\" text-anchor=\"start\" style=\"text-shadow:0 0 1px rgba(0,0,0,1), 0 0 1px rgba(0,0,0,1), 0 0 1px rgba(0,0,0,1);\" class=\"monospace\">babel</text></g><g class=\"node\" style=\"fill: #1f77b4;\" transform=\"translate(400,401.62601626016294)\"><circle class=\"node-route\" r=\"6\"></circle><text x=\"13\" dy=\".35em\" text-anchor=\"start\" style=\"text-shadow:0 0 1px rgba(0,0,0,1), 0 0 1px rgba(0,0,0,1), 0 0 1px rgba(0,0,0,1);\" class=\"monospace\">Core</text></g><g class=\"node\" style=\"fill: #1f77b4;\" transform=\"translate(400,381.5447154471549)\"><circle class=\"node-route\" r=\"6\"></circle><text x=\"13\" dy=\".35em\" text-anchor=\"start\" style=\"text-shadow:0 0 1px rgba(0,0,0,1), 0 0 1px rgba(0,0,0,1), 0 0 1px rgba(0,0,0,1);\" class=\"monospace\">webpack.config.js</text></g><g class=\"node\" style=\"fill: #aec7e8;\" transform=\"translate(300,4940)\"><circle class=\"node-route\" r=\"6\"></circle><text x=\"13\" dy=\".35em\" text-anchor=\"start\" style=\"text-shadow:0 0 1px rgba(0,0,0,1), 0 0 1px rgba(0,0,0,1), 0 0 1px rgba(0,0,0,1);\" class=\"monospace\">core⛩ ( .module ) </text></g><g class=\"node\" style=\"fill: #ff7f0e;\" transform=\"translate(200,4940)\"><circle class=\"node-route\" r=\"6\"></circle><text x=\"13\" dy=\".35em\" text-anchor=\"start\" style=\"text-shadow:0 0 1px rgba(0,0,0,1), 0 0 1px rgba(0,0,0,1), 0 0 1px rgba(0,0,0,1);\" class=\"monospace\">search⛴ ( .service ) </text></g><g class=\"node\" style=\"fill: #ff7f0e;\" transform=\"translate(200,4919.918699186992)\"><circle class=\"node-route\" r=\"6\"></circle><text x=\"13\" dy=\".35em\" text-anchor=\"start\" style=\"text-shadow:0 0 1px rgba(0,0,0,1), 0 0 1px rgba(0,0,0,1), 0 0 1px rgba(0,0,0,1);\" class=\"monospace\">auth⛴ ( .service ) </text></g><g class=\"node\" style=\"fill: #aec7e8;\" transform=\"translate(300,4919.918699186992)\"><circle class=\"node-route\" r=\"6\"></circle><text x=\"13\" dy=\".35em\" text-anchor=\"start\" style=\"text-shadow:0 0 1px rgba(0,0,0,1), 0 0 1px rgba(0,0,0,1), 0 0 1px rgba(0,0,0,1);\" class=\"monospace\">app.server⛩ ( .module ) </text></g><g class=\"node\" style=\"fill: #1f77b4;\" transform=\"translate(400,361.4634146341459)\"><circle class=\"node-route\" r=\"6\"></circle><text x=\"13\" dy=\".35em\" text-anchor=\"start\" style=\"text-shadow:0 0 1px rgba(0,0,0,1), 0 0 1px rgba(0,0,0,1), 0 0 1px rgba(0,0,0,1);\" class=\"monospace\">automock.js</text></g><g class=\"node\" style=\"fill: #ffbb78;\" transform=\"translate(100,4940)\"><circle class=\"node-route\" r=\"6\"></circle><text x=\"13\" dy=\".35em\" text-anchor=\"start\" style=\"text-shadow:0 0 1px rgba(0,0,0,1), 0 0 1px rgba(0,0,0,1), 0 0 1px rgba(0,0,0,1);\" class=\"monospace\">app⚙\\\\ ( .component ) </text></g><g class=\"node\" style=\"fill: #ffbb78;\" transform=\"translate(100,4919.918699186992)\"><circle class=\"node-route\" r=\"6\"></circle><text x=\"13\" dy=\".35em\" text-anchor=\"start\" style=\"text-shadow:0 0 1px rgba(0,0,0,1), 0 0 1px rgba(0,0,0,1), 0 0 1px rgba(0,0,0,1);\" class=\"monospace\">app⚙ ( .component ) </text></g><g class=\"node\" style=\"fill: #ff7f0e;\" transform=\"translate(200,4899.837398373984)\"><circle class=\"node-route\" r=\"6\"></circle><text x=\"13\" dy=\".35em\" text-anchor=\"start\" style=\"text-shadow:0 0 1px rgba(0,0,0,1), 0 0 1px rgba(0,0,0,1), 0 0 1px rgba(0,0,0,1);\" class=\"monospace\">log⛴ ( .service ) </text></g><g class=\"node\" style=\"fill: #1f77b4;\" transform=\"translate(400,341.38211382113786)\"><circle class=\"node-route\" r=\"6\"></circle><text x=\"13\" dy=\".35em\" text-anchor=\"start\" style=\"text-shadow:0 0 1px rgba(0,0,0,1), 0 0 1px rgba(0,0,0,1), 0 0 1px rgba(0,0,0,1);\" class=\"monospace\">auth.manager</text></g><g class=\"node\" style=\"fill: #ff7f0e;\" transform=\"translate(200,4879.756097560976)\"><circle class=\"node-route\" r=\"6\"></circle><text x=\"13\" dy=\".35em\" text-anchor=\"start\" style=\"text-shadow:0 0 1px rgba(0,0,0,1), 0 0 1px rgba(0,0,0,1), 0 0 1px rgba(0,0,0,1);\" class=\"monospace\">mailgun-validate⛴ ( .service ) </text></g><g class=\"node\" style=\"fill: #1f77b4;\" transform=\"translate(400,321.3008130081298)\"><circle class=\"node-route\" r=\"6\"></circle><text x=\"13\" dy=\".35em\" text-anchor=\"start\" style=\"text-shadow:0 0 1px rgba(0,0,0,1), 0 0 1px rgba(0,0,0,1), 0 0 1px rgba(0,0,0,1);\" class=\"monospace\">sockify-server</text></g><g class=\"node\" style=\"fill: #1f77b4;\" transform=\"translate(400,301.21951219512266)\"><circle class=\"node-route\" r=\"6\"></circle><text x=\"13\" dy=\".35em\" text-anchor=\"start\" style=\"text-shadow:0 0 1px rgba(0,0,0,1), 0 0 1px rgba(0,0,0,1), 0 0 1px rgba(0,0,0,1);\" class=\"monospace\">sockify-client</text></g><g class=\"node\" style=\"fill: #1f77b4;\" transform=\"translate(400,281.1382113821137)\"><circle class=\"node-route\" r=\"6\"></circle><text x=\"13\" dy=\".35em\" text-anchor=\"start\" style=\"text-shadow:0 0 1px rgba(0,0,0,1), 0 0 1px rgba(0,0,0,1), 0 0 1px rgba(0,0,0,1);\" class=\"monospace\">core</text></g><g class=\"node\" style=\"fill: #1f77b4;\" transform=\"translate(400,261.05691056910564)\"><circle class=\"node-route\" r=\"6\"></circle><text x=\"13\" dy=\".35em\" text-anchor=\"start\" style=\"text-shadow:0 0 1px rgba(0,0,0,1), 0 0 1px rgba(0,0,0,1), 0 0 1px rgba(0,0,0,1);\" class=\"monospace\">.</text></g><g class=\"node\" style=\"fill: #1f77b4;\" transform=\"translate(400,240.97560975609758)\"><circle class=\"node-route\" r=\"6\"></circle><text x=\"13\" dy=\".35em\" text-anchor=\"start\" style=\"text-shadow:0 0 1px rgba(0,0,0,1), 0 0 1px rgba(0,0,0,1), 0 0 1px rgba(0,0,0,1);\" class=\"monospace\">my_module.ngfactory</text></g><g class=\"node\" style=\"fill: #1f77b4;\" transform=\"translate(400,220.89430894308953)\"><circle class=\"node-route\" r=\"6\"></circle><text x=\"13\" dy=\".35em\" text-anchor=\"start\" style=\"text-shadow:0 0 1px rgba(0,0,0,1), 0 0 1px rgba(0,0,0,1), 0 0 1px rgba(0,0,0,1);\" class=\"monospace\">myapp</text></g><g class=\"node\" style=\"fill: #1f77b4;\" transform=\"translate(400,3333.4959349593496)\"><circle class=\"node-route\" r=\"6\"></circle><text x=\"13\" dy=\".35em\" text-anchor=\"start\" style=\"text-shadow:0 0 1px rgba(0,0,0,1), 0 0 1px rgba(0,0,0,1), 0 0 1px rgba(0,0,0,1);\" class=\"monospace\">diff</text></g><g class=\"node\" style=\"fill: #ffbb78;\" transform=\"translate(100,4056.4227642276423)\"><circle class=\"node-route\" r=\"6\"></circle><text x=\"13\" dy=\".35em\" text-anchor=\"start\" style=\"text-shadow:0 0 1px rgba(0,0,0,1), 0 0 1px rgba(0,0,0,1), 0 0 1px rgba(0,0,0,1);\" class=\"monospace\">gulp ( .component ) </text></g><g class=\"node\" style=\"fill: #1f77b4;\" transform=\"translate(400,803.252032520325)\"><circle class=\"node-route\" r=\"6\"></circle><text x=\"13\" dy=\".35em\" text-anchor=\"start\" style=\"text-shadow:0 0 1px rgba(0,0,0,1), 0 0 1px rgba(0,0,0,1), 0 0 1px rgba(0,0,0,1);\" class=\"monospace\">facebook connections</text></g></g></svg>"
      ]
     },
     "execution_count": 1,
     "metadata": {},
     "output_type": "execute_result"
    }
   ],
   "source": [
    "// TODO: create a gulp stream angular component out of it\n",
    "// TODO: connect with gulp-git https://www.npmjs.com/package/gulp-git\n",
    "// install https://github.com/Automattic/node-canvas/wiki/installation---osx\n",
    "// install using brew install pkg-config fontconfig cairo pixman giflib libjpeg libpng\n",
    "var path = require('path');\n",
    "var importer = require('../Core');\n",
    "var formatNodes = importer.import('d3.ipynb[format d3 tree]');\n",
    "var projectTree = importer.import('file system.ipynb[project imports d3 tree]', {formatNodes});\n",
    "\n",
    "var PROFILE_PATH = process.env.HOME || process.env.HOMEPATH || process.env.USERPROFILE;\n",
    "var project = PROFILE_PATH + '/jupytangular2';\n",
    "\n",
    "$$.async()\n",
    "projectTree(project)\n",
    "    .then(svg => $$.svg(svg))\n",
    "    .catch(e => $$.sendError(e));\n"
   ]
  },
  {
   "cell_type": "markdown",
   "metadata": {},
   "source": [
    "Find similar filename in project?\n",
    "\n"
   ]
  },
  {
   "cell_type": "code",
   "execution_count": null,
   "metadata": {},
   "outputs": [],
   "source": [
    "var glob = require('glob');\n",
    "function findSimilarFile(base, project) {\n",
    "    return new Promise((resolve, reject) => {\n",
    "        var searchStrings = '**/' + base + '.ts';\n",
    "        console.log('Search for ' + searchStrings);\n",
    "        glob(searchStrings, {\n",
    "            ignore: ['**/node_modules/**'],\n",
    "            cwd: project\n",
    "        }, function (err, matches) {\n",
    "            var isEmpty = matches.length == 0;\n",
    "            if (err) {\n",
    "                return reject(err);\n",
    "            } else if (isEmpty) {\n",
    "                console.log('No matches for ' + searchStrings)\n",
    "                return resolve();\n",
    "            }\n",
    "\n",
    "            // TODO: try to build and make sure it works before patching\n",
    "            resolve(matches[0].replace('.ts', ''));\n",
    "        });\n",
    "    });\n",
    "};\n",
    "module.exports = findSimilarFile;\n",
    "findSimilarFile;\n",
    "\n"
   ]
  },
  {
   "cell_type": "markdown",
   "metadata": {},
   "source": [
    "Fix project paths?\n",
    "\n"
   ]
  },
  {
   "cell_type": "code",
   "execution_count": null,
   "metadata": {},
   "outputs": [],
   "source": [
    "var importer = require('../Core');\n",
    "var path = require('path');\n",
    "var gulp = require('gulp');\n",
    "var tap = require('gulp-tap');\n",
    "var replace = require('gulp-replace');\n",
    "\n",
    "// list all broken references in modules?\n",
    "var {\n",
    "    getRelativeImports, tasksToPromise, findSimilarFile\n",
    "} = importer.import([\n",
    "    'relative paths and includes',\n",
    "    'task to promise',\n",
    "    'similar filename in project'\n",
    "], {gulp});\n",
    "\n",
    "function projectRelatives(project) {\n",
    "    var missing, missingPackages;\n",
    "\n",
    "    function fixRelative(m, match) {\n",
    "        if (typeof m === 'undefined') {\n",
    "            return;\n",
    "        }\n",
    "        var file = m.split('.ts/')[0] + '.ts';\n",
    "        var fromPath = m.split('.ts/')[1];\n",
    "        var newRelative = path.relative(path.dirname(file), path.join(project, match));\n",
    "        gulp.task('fix include', function () {\n",
    "            var fixFile = path.relative(project, file);\n",
    "            console.log('Replacing ' + fromPath + ' -> ' + newRelative + ' in ' + fixFile)\n",
    "            return gulp.src(['**/' + fixFile], {cwd: project})\n",
    "                .pipe(replace(fromPath, newRelative))\n",
    "                .pipe(gulp.dest(project));\n",
    "        });\n",
    "\n",
    "        return tasksToPromise(['fix include'], []);\n",
    "    };\n",
    "\n",
    "    var uniqueArray = (arr) => arr.filter((value, index, array) => array.indexOf(value, index + 1) < 0);\n",
    "\n",
    "    gulp.task('add packages', function () {\n",
    "        var toAdd = '';\n",
    "        return gulp.src('package.json', {cwd: project})\n",
    "            .pipe(tap(file => {\n",
    "                // TODO: resolve using existing package.json from another project?  This method of using the import isn't going to go far, how does NPM do this?\n",
    "                // Possible to search for top two directories? @angular/material versus angular2-jwt versus zone.js/dist/zone\n",
    "                var content = file.contents.toString();\n",
    "                missingPackages.map(p => p.split('.ts/')[1].forEach(m => {\n",
    "                    if (content.indexOf(m) === -1) {\n",
    "                        toAdd += '\"' + m + '\": \"latest\",'\n",
    "                    }\n",
    "                }));\n",
    "                if (toAdd !== '') {\n",
    "                    console.log('Adding ' + toAdd);\n",
    "                    file.contents = new Buffer(content.replace(/\"dependencies\"\\s*:\\s*\\{/ig, (m) => m + toAdd));\n",
    "                }\n",
    "            }))\n",
    "            .pipe(gulp.dest(project));\n",
    "    });\n",
    "\n",
    "    return getRelativeImports(project)\n",
    "        .then(r => {\n",
    "            missing = r['missing'];\n",
    "            missingPackages = r['missingPackages'];\n",
    "            return Promise.all(Object.keys(missing).map(k => findSimilarFile(k, project).then(f => {\n",
    "                if (typeof f === 'undefined') {\n",
    "                    return Promise.resolve();\n",
    "                }\n",
    "                return Promise.all(missing[k].map(m => fixRelative(m, f)));\n",
    "            })));\n",
    "        })\n",
    "        .then(r => tasksToPromise(['add packages']));\n",
    "    // TODO: try building with all results resolved\n",
    "    // TODO: create path and apply\n",
    "};\n",
    "module.exports = projectRelatives;\n"
   ]
  },
  {
   "cell_type": "markdown",
   "metadata": {},
   "source": [
    "list project files?\n",
    "\n",
    "List files in a project excluding some excessive searches locations?\n",
    "\n"
   ]
  },
  {
   "cell_type": "code",
   "execution_count": null,
   "metadata": {},
   "outputs": [],
   "source": [
    "var glob = require('glob');\n",
    "var path = require('path');\n",
    "\n",
    "// TODO: pull all from gitignore library and add to ignore list\n",
    "//  https://github.com/github/gitignore\n",
    "// TODO: submit script to github project for fame and fortune!\n",
    "\n",
    "// But we also want to automatically load projects?\n",
    "function listInProject(root, match = '{,*,*/,*/*/*,*/*/*/*,*/*/*/*/*}package.json') {\n",
    "    return glob.sync(match, {\n",
    "        ignore: ['**/node_modules/**',\n",
    "            '**/packages/**',\n",
    "            '**/vendor/**',\n",
    "            '**/*test*/*',\n",
    "            '**/*Test*/*',\n",
    "            '**/Downloads/**',\n",
    "            '**/bin/**',\n",
    "            '**/obj/**',\n",
    "            '**/Library/**',\n",
    "            '**/Applications/**',\n",
    "            '**/AppData/**',\n",
    "            '**/Trash/**',\n",
    "            '**/Music/**',\n",
    "            '**/wp-content/**',\n",
    "            '**/wp-includes/**',\n",
    "            '**/Pods/**',\n",
    "            '**/svn/**',\n",
    "            '**/lib/**',\n",
    "            '**/.git/**',\n",
    "            '**/.vscode/**',\n",
    "            '**/.npm/**',\n",
    "            '**/\\\\.*',\n",
    "            '**/.*',\n",
    "            '**/Cache/**',\n",
    "            '**/Creative Cloud Files/**'],\n",
    "        cwd: path.resolve(root),\n",
    "        silent: true,\n",
    "        nodir: true,\n",
    "        strict: false\n",
    "    })\n",
    "    .map(m => path.join(root, m))\n",
    "};\n",
    "module.exports = listInProject;\n",
    "listInProject;\n",
    "\n"
   ]
  },
  {
   "cell_type": "markdown",
   "metadata": {},
   "source": [
    "List all projects by names?\n",
    "\n"
   ]
  },
  {
   "cell_type": "code",
   "execution_count": 6,
   "metadata": {},
   "outputs": [
    {
     "data": {
      "text/plain": [
       "[Function: listProjects]"
      ]
     },
     "execution_count": 6,
     "metadata": {},
     "output_type": "execute_result"
    }
   ],
   "source": [
    "var importer = require('../Core');\n",
    "var path = require('path');\n",
    "var listInProject = importer.import('list project files');\n",
    "\n",
    "// But we also want to automatically load projects?\n",
    "function listProjects(root, match = '{,*,*/,*/*/*,*/*/*/*,*/*/*/*/*}+(package.json|NuGet.config|*.sln|*.csproj)') {\n",
    "    var result = {};\n",
    "    var matches = listInProject(root, match);\n",
    "    matches.forEach(m => {\n",
    "        var projectPath = path.resolve(path.dirname(m));\n",
    "        result[path.basename(projectPath)] = projectPath;\n",
    "    });\n",
    "    return result;\n",
    "};\n",
    "module.exports = listProjects;\n",
    "listProjects;\n",
    "\n"
   ]
  },
  {
   "cell_type": "markdown",
   "metadata": {},
   "source": [
    "test project files list\n"
   ]
  },
  {
   "cell_type": "code",
   "execution_count": 7,
   "metadata": {},
   "outputs": [
    {
     "ename": "ReferenceError",
     "evalue": "describe is not defined",
     "execution_count": 7,
     "output_type": "error",
     "traceback": [
      "evalmachine.<anonymous>:7",
      "describe('file system service', () => {",
      "^",
      "",
      "ReferenceError: describe is not defined",
      "    at evalmachine.<anonymous>:7:1",
      "    at ContextifyScript.Script.runInThisContext (vm.js:50:33)",
      "    at Object.runInThisContext (vm.js:139:38)",
      "    at run ([eval]:775:15)",
      "    at onRunRequest ([eval]:620:18)",
      "    at onMessage ([eval]:588:13)",
      "    at emitTwo (events.js:125:13)",
      "    at process.emit (events.js:213:7)",
      "    at emit (internal/child_process.js:774:12)",
      "    at _combinedTickCallback (internal/process/next_tick.js:141:11)"
     ]
    }
   ],
   "source": [
    "var importer = require('../Core');\n",
    "var listInProject = importer.import('list project files');\n",
    "var listProjects = importer.import('list all projects names');\n",
    "\n",
    "var PROFILE_PATH = process.env.HOME || process.env.HOMEPATH || process.env.USERPROFILE;\n",
    "\n",
    "describe('file system service', () => {\n",
    "    beforeEach(() => {\n",
    "    })\n",
    "    \n",
    "    it('should list files quickly', () => {\n",
    "        var files = listInProject(PROFILE_PATH);\n",
    "        console.log(files.length);\n",
    "        assert(files.length > 0);\n",
    "    })\n",
    "    \n",
    "    it('should ignore hidden directories for better performance', () => {\n",
    "        var files = listProjects(PROFILE_PATH);\n",
    "        console.log(files.portal);\n",
    "        assert(files.portal.indexOf('portal') > -1);\n",
    "    })\n",
    "})"
   ]
  },
  {
   "cell_type": "markdown",
   "metadata": {},
   "source": [
    "Find too long of functions using regexp?\n",
    "(?=\\{((?:[^{}]++|\\{(?1)\\})++)\\})\n",
    "\n",
    "TODO: turn this in to a bs-lint test\n"
   ]
  },
  {
   "cell_type": "code",
   "execution_count": 2,
   "metadata": {},
   "outputs": [
    {
     "data": {
      "text/plain": [
       "[Function: findLongFunctions]"
      ]
     },
     "execution_count": 2,
     "metadata": {},
     "output_type": "execute_result"
    }
   ],
   "source": [
    "var importer = require('../Core');\n",
    "var tasksToPromise = importer.import('tasks to promise', {gulp});\n",
    "var gulp = require('gulp');\n",
    "var tap = require('gulp-tap');\n",
    "var XRegExp = require('xregexp');\n",
    "\n",
    "// How to convert a string to an Array of RegEx matches\n",
    "function regexToArray(ex, str, i = 0) {\n",
    "    var co = [];\n",
    "    var m;\n",
    "    while ((m = re.exec(str)) && co.push(m[i])) ;\n",
    "    return co;\n",
    "};\n",
    "\n",
    "function matchCurlyBraces(contents) {\n",
    "    var newMatches = XRegExp.matchRecursive(contents, '{', '}', 'gi', {\n",
    "        valueNames: ['literal', null, 'value', null]\n",
    "    }).filter(m => m.name === 'value');\n",
    "    //console.log(newMatches);\n",
    "    return newMatches.reduce(\n",
    "        (arr, m) => arr.concat(matchCurlyBraces(m.value)),\n",
    "        newMatches);\n",
    "};\n",
    "\n",
    "function findLongFunctions(project) {\n",
    "    var results = [];\n",
    "    gulp.task('find long functions', function () {\n",
    "        return gulp.src('**/*.+(ts|js|cs)', {\n",
    "            ignore: ['**/node_modules/**',\n",
    "                '**/dist/**',\n",
    "                '**/typings/**',\n",
    "                '**/packages/**',\n",
    "                '**/*.spec*',\n",
    "                '**/*.Tests/**'\n",
    "            ], cwd: project\n",
    "        })\n",
    "            .pipe(tap(file => {\n",
    "                const contents = file.contents.toString();\n",
    "                try {\n",
    "                    results = results.concat(matchCurlyBraces(contents)\n",
    "                        .map(m => Object.assign(m, {path: file.path})));\n",
    "                } catch (e) {\n",
    "                    results = results.concat([{\n",
    "                        name: 'value',\n",
    "                        value: file.contents.toString(),\n",
    "                        start: 0,\n",
    "                        end: file.contents.length,\n",
    "                        error: e,\n",
    "                        path: file.path\n",
    "                    }]);\n",
    "                }\n",
    "            }));\n",
    "    });\n",
    "\n",
    "    return tasksToPromise(['find long functions'])\n",
    "        .then(() => {\n",
    "            var code = results.map(r => r.value);\n",
    "            var topLevel = results\n",
    "                .filter(r => code\n",
    "                    .filter(c => c !== r.value && c.indexOf(r.value) > 0).length === 0);\n",
    "            results = results\n",
    "                .filter(m => topLevel.filter(c => c.value === m.value).length === 0);\n",
    "            code = results.map(r => r.value);\n",
    "            topLevel = topLevel.concat(results.filter(r => code\n",
    "                .filter(c => c !== r.value && c.indexOf(r.value) > 0).length === 0));\n",
    "            results = results\n",
    "                .filter(m => topLevel.filter(c => c.value === m.value).length === 0);\n",
    "            return results\n",
    "                .filter(m => m.value.split(/\\n/ig).length > 100)\n",
    "        });\n",
    "};\n",
    "module.exports = findLongFunctions;\n"
   ]
  },
  {
   "cell_type": "code",
   "execution_count": 4,
   "metadata": {},
   "outputs": [
    {
     "data": {
      "text/plain": [
       "[ '/Users/briancullinan/Documents/asm/Subscription.Entitlement/Subscription.Entitlement/Global.asax.cs',\n",
       "  '/Users/briancullinan/Documents/asm/Subscription.Integrations/Subscription.Integrations.Zuora/ZuoraCatalogService.cs',\n",
       "  '/Users/briancullinan/Documents/asm/Subscription.Entitlement/Subscription.Entitlement/App_Start/SwaggerConfig.cs',\n",
       "  '/Users/briancullinan/Documents/asm/Subscription.Entitlement/Subscription.Entitlement/App_Start/SwaggerConfig.cs',\n",
       "  '/Users/briancullinan/Documents/asm/Subscription.MyAct/Subscription.ECommerce/App_Start/SimpleInjectorInitializer.cs',\n",
       "  '/Users/briancullinan/Documents/asm/Subscription.MyAct/Subscription.ECommerce/Models/CountryModel.cs',\n",
       "  '/Users/briancullinan/Documents/asm/Subscription.MyAct/Subscription.ECommerce/Scripts/bootstrap-select.js',\n",
       "  '/Users/briancullinan/Documents/asm/Subscription.MyAct/Subscription.ECommerce/Scripts/bootstrap-select.js',\n",
       "  '/Users/briancullinan/Documents/asm/Subscription.MyAct/Subscription.ECommerce/Scripts/bootstrap-select.js',\n",
       "  '/Users/briancullinan/Documents/asm/Subscription.MyAct/Subscription.ECommerce/Scripts/jquery.validate-vsdoc.js',\n",
       "  '/Users/briancullinan/Documents/asm/Subscription.MyAct/Subscription.ECommerce/Scripts/jquery.validate-vsdoc.js',\n",
       "  '/Users/briancullinan/Documents/asm/Subscription.MyAct/Subscription.ECommerce/Scripts/jquery.validate.js',\n",
       "  '/Users/briancullinan/Documents/asm/Subscription.MyAct/Subscription.ECommerce/Scripts/jquery.validate.js',\n",
       "  '/Users/briancullinan/Documents/asm/subscription.identitymanagement/Subscription.IdentityManagement/IdentityServer/Clients.cs',\n",
       "  '/Users/briancullinan/Documents/asm/subscription.identitymanagement/Subscription.IdentityManagement/IdentityServer/Clients.cs',\n",
       "  '/Users/briancullinan/Documents/asm/Subscription.MyAct/Subscription.ECommerce.Core/Integration/Zuora/ZuoraSoapSubscriptionService.cs' ]"
      ]
     },
     "execution_count": 4,
     "metadata": {},
     "output_type": "execute_result"
    }
   ],
   "source": [
    "var PROFILE_PATH = process.env.HOME || process.env.HOMEPATH || process.env.USERPROFILE;\n",
    "var project = PROFILE_PATH + '/Documents/asm';\n",
    "\n",
    "$$.async();\n",
    "findLongFunctions(project)\n",
    "    .then(e => $$.sendResult(e.map(m => m.path)))\n",
    "    .catch(e => $$.sendError(e))\n"
   ]
  },
  {
   "cell_type": "code",
   "execution_count": null,
   "metadata": {},
   "outputs": [],
   "source": []
  },
  {
   "cell_type": "code",
   "execution_count": null,
   "metadata": {},
   "outputs": [],
   "source": []
  }
 ],
 "metadata": {
  "kernel_info": {
   "name": "javascript"
  },
  "kernelspec": {
   "display_name": "Javascript (Node.js)",
   "language": "javascript",
   "name": "javascript"
  },
  "language_info": {
   "file_extension": ".js",
   "mimetype": "application/javascript",
   "name": "javascript",
   "version": "8.6.0"
  }
 },
 "nbformat": 4,
 "nbformat_minor": 4
}
