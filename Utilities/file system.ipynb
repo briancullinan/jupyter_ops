{
 "cells": [
  {
   "cell_type": "markdown",
   "metadata": {},
   "source": [
    "How to use memory-fs and rewire to audit cli events?\n",
    "\n"
   ]
  },
  {
   "cell_type": "code",
   "execution_count": null,
   "metadata": {
    "collapsed": false,
    "inputHidden": false,
    "outputHidden": false
   },
   "outputs": [],
   "source": [
    "var path = require('path');\r",
    "var execSync = require('child_process').execSync;\r",
    "\r",
    "// TODO: use https://github.com/jhnns/rewire for replacing variables, something like https://github.com/mariocasciaro/object-path?\r",
    "\r",
    "var mockTypescriptFs = (root, data) => {\r",
    "    var mock = require('mock-require');\r",
    "    var memfs = require('memfs');\r",
    "    var mem = new memfs.Volume;\r",
    "    var unionfs = require('unionfs');\r",
    "    var fs = require('fs');\r",
    "\r",
    "    mem.mountSync(root, data);\r",
    "\r",
    "    // Create a union of two file systems:\r",
    "    unionfs\r",
    "        .use(fs)\r",
    "        .use(mem)\r",
    "        .replace(fs);\r",
    "\r",
    "    var ts = require('typescript');\r",
    "    var tsMock = Object.assign({}, ts);\r",
    "    var toMock = {\r",
    "        readFile: 'readFileSync',\r",
    "        realpath: 'realpathSync',\r",
    "        writeFile: 'writeFileSync',\r",
    "        fileExists: 'existsSync',\r",
    "        directoryExists: 'existsSync',\r",
    "        createDirectory: 'mkdirSync',\r",
    "        getDirectories: 'readdirSync'\r",
    "    };\r",
    "    Object.keys(toMock)\r",
    "        .forEach(k => {\r",
    "            if (typeof mem[toMock[k]] === 'function') {\r",
    "                tsMock.sys[k] = function () {\r",
    "                    // typescript.sys functions return defined on error\r",
    "                    try {\r",
    "                        return mem[toMock[k]].apply(mem, arguments);\r",
    "                    } catch (e) {\r",
    "                        return;\r",
    "                    }\r",
    "                };\r",
    "            }\r",
    "        });\r",
    "\r",
    "    mock('typescript', tsMock);\r",
    "    return mock;\r",
    "};\r",
    "mockTypescriptFs;\r",
    "\r",
    "// TODO: search github for projects like graceful-fs and then search google for projects that use graceful-fs and see if we can record some filesystem activity\r",
    "\r"
   ]
  },
  {
   "cell_type": "code",
   "execution_count": null,
   "metadata": {
    "collapsed": false,
    "inputHidden": false,
    "outputHidden": false
   },
   "outputs": [],
   "source": [
    "//mockTypescriptFs();\r"
   ]
  },
  {
   "cell_type": "markdown",
   "metadata": {},
   "source": [
    "project word-cloud?\n",
    "\n"
   ]
  },
  {
   "cell_type": "code",
   "execution_count": null,
   "metadata": {},
   "outputs": [],
   "source": [
    "var importer = require('../Core');\r",
    "var path = require('path');\r",
    "\r",
    "var projectWordCloud = (project) => {\r",
    "    var words = [];\r",
    "\r",
    "    var wordCount = function (r) {\r",
    "        var words = r['packages'].map(p => p.split('.ts/')[1])\r",
    "            .concat(r['packages'].map(p => path.basename(p.split('.ts/')[0])))\r",
    "            .concat(r['relatives'].map(r => path.basename(r)))\r",
    "            .concat(r['relatives'].map(r => path.basename(r.split('.ts/')[0])));\r",
    "        var wordCount = {};\r",
    "        words.forEach(w => {\r",
    "            if (typeof wordCount[w] === 'undefined') {\r",
    "                wordCount[w] = 15;\r",
    "            } else {\r",
    "                wordCount[w]++;\r",
    "            }\r",
    "        });\r",
    "        return Object.keys(wordCount).map((d) => ({text: d, size: wordCount[d]}));\r",
    "    };\r",
    "\r",
    "    return importer.import('relative paths and includes', {project})\r",
    "        .then(relativePaths => relativePaths(project))\r",
    "        .then(r => {\r",
    "            words = r;\r",
    "        })\r",
    "        .then(() => importer.import('d3.ipynb[create word-cloud]'))\r",
    "        .then(d3CloudToSVG => d3CloudToSVG(wordCount(words)));\r",
    "};\r",
    "module.exports = projectWordCloud;\r",
    "\r"
   ]
  },
  {
   "cell_type": "code",
   "execution_count": 1,
   "metadata": {},
   "outputs": [
    {
     "data": {
      "image/svg+xml": [
       "<svg xmlns=\"http://www.w3.org/2000/svg\" width=\"960\" height=\"500\"><g transform=\"translate(495,245)\"><text style=\"font-size: 47px; font-family: Impact; fill: #1f77b4;\" text-anchor=\"middle\" transform=\"translate(-151,-40)rotate(-23)\">product-catalog.service</text><text style=\"font-size: 42px; font-family: Impact; fill: #aec7e8;\" text-anchor=\"middle\" transform=\"translate(161,-92)rotate(26)\">core.module</text><text style=\"font-size: 37px; font-family: Impact; fill: #ff7f0e;\" text-anchor=\"middle\" transform=\"translate(183,61)rotate(-12)\">@angular/router</text><text style=\"font-size: 36px; font-family: Impact; fill: #ffbb78;\" text-anchor=\"middle\" transform=\"translate(65,116)rotate(27)\">auth.service</text><text style=\"font-size: 35px; font-family: Impact; fill: #2ca02c;\" text-anchor=\"middle\" transform=\"translate(136,-33)rotate(19)\">core-stubs</text><text style=\"font-size: 34px; font-family: Impact; fill: #98df8a;\" text-anchor=\"middle\" transform=\"translate(227,-112)rotate(16)\">billing.service</text><text style=\"font-size: 32px; font-family: Impact; fill: #d62728;\" text-anchor=\"middle\" transform=\"translate(-269,-130)rotate(58)\">auth.manager</text><text style=\"font-size: 31px; font-family: Impact; fill: #ff9896;\" text-anchor=\"middle\" transform=\"translate(-166,-117)rotate(11)\">user.service</text><text style=\"font-size: 30px; font-family: Impact; fill: #9467bd;\" text-anchor=\"middle\" transform=\"translate(277,9)rotate(-4)\">products.module</text><text style=\"font-size: 28px; font-family: Impact; fill: #c5b0d5;\" text-anchor=\"middle\" transform=\"translate(28,-18)rotate(-58)\">rxjs/Observable</text><text style=\"font-size: 28px; font-family: Impact; fill: #8c564b;\" text-anchor=\"middle\" transform=\"translate(-42,-22)rotate(-41)\">subscriptions.module</text><text style=\"font-size: 28px; font-family: Impact; fill: #c49c94;\" text-anchor=\"middle\" transform=\"translate(-39,-152)rotate(-8)\">confirm.component</text><text style=\"font-size: 27px; font-family: Impact; fill: #e377c2;\" text-anchor=\"middle\" transform=\"translate(-122,-17)rotate(-24)\">billing.component</text><text style=\"font-size: 27px; font-family: Impact; fill: #f7b6d2;\" text-anchor=\"middle\" transform=\"translate(-160,79)rotate(4)\">@angular/http</text><text style=\"font-size: 27px; font-family: Impact; fill: #7f7f7f;\" text-anchor=\"middle\" transform=\"translate(331,-40)rotate(-14)\">products.config</text><text style=\"font-size: 27px; font-family: Impact; fill: #c7c7c7;\" text-anchor=\"middle\" transform=\"translate(-38,88)rotate(31)\">layout.module</text><text style=\"font-size: 27px; font-family: Impact; fill: #bcbd22;\" text-anchor=\"middle\" transform=\"translate(202,111)rotate(18)\">trial.service</text><text style=\"font-size: 25px; font-family: Impact; fill: #dbdb8d;\" text-anchor=\"middle\" transform=\"translate(-324,-36)rotate(-28)\">login.component</text><text style=\"font-size: 25px; font-family: Impact; fill: #17becf;\" text-anchor=\"middle\" transform=\"translate(260,70)rotate(-10)\">catalog-stubs</text><text style=\"font-size: 24px; font-family: Impact; fill: #9edae5;\" text-anchor=\"middle\" transform=\"translate(86,-6)rotate(-10)\">log.service</text><text style=\"font-size: 24px; font-family: Impact; fill: #1f77b4;\" text-anchor=\"middle\" transform=\"translate(-7,142)rotate(35)\">trial.component</text><text style=\"font-size: 23px; font-family: Impact; fill: #aec7e8;\" text-anchor=\"middle\" transform=\"translate(347,78)rotate(-51)\">subscriptions.routing</text><text style=\"font-size: 23px; font-family: Impact; fill: #ff7f0e;\" text-anchor=\"middle\" transform=\"translate(181,127)rotate(16)\">app.module</text><text style=\"font-size: 23px; font-family: Impact; fill: #ffbb78;\" text-anchor=\"middle\" transform=\"translate(-7,-13)rotate(-52)\">environment</text><text style=\"font-size: 22px; font-family: Impact; fill: #2ca02c;\" text-anchor=\"middle\" transform=\"translate(-316,-131)rotate(38)\">auth.module</text><text style=\"font-size: 22px; font-family: Impact; fill: #98df8a;\" text-anchor=\"middle\" transform=\"translate(-218,-166)rotate(29)\">auth-stubs</text><text style=\"font-size: 22px; font-family: Impact; fill: #d62728;\" text-anchor=\"middle\" transform=\"translate(-82,-178)rotate(-16)\">app.component</text><text style=\"font-size: 22px; font-family: Impact; fill: #ff9896;\" text-anchor=\"middle\" transform=\"translate(144,-168)rotate(-3)\">register-user</text><text style=\"font-size: 22px; font-family: Impact; fill: #9467bd;\" text-anchor=\"middle\" transform=\"translate(-320,105)rotate(-47)\">login-embed.component</text><text style=\"font-size: 22px; font-family: Impact; fill: #c5b0d5;\" text-anchor=\"middle\" transform=\"translate(-295,116)rotate(-49)\">mailgun-validate.service</text><text style=\"font-size: 22px; font-family: Impact; fill: #8c564b;\" text-anchor=\"middle\" transform=\"translate(119,-81)rotate(31)\">preview-model</text><text style=\"font-size: 22px; font-family: Impact; fill: #c49c94;\" text-anchor=\"middle\" transform=\"translate(70,30)rotate(-15)\">cart.component</text><text style=\"font-size: 21px; font-family: Impact; fill: #e377c2;\" text-anchor=\"middle\" transform=\"translate(-196,113)rotate(-7)\">order-tracker.config</text><text style=\"font-size: 21px; font-family: Impact; fill: #f7b6d2;\" text-anchor=\"middle\" transform=\"translate(-340,-109)rotate(34)\">dialog-guard</text><text style=\"font-size: 21px; font-family: Impact; fill: #7f7f7f;\" text-anchor=\"middle\" transform=\"translate(-101,147)rotate(-55)\">auth.routing</text><text style=\"font-size: 21px; font-family: Impact; fill: #c7c7c7;\" text-anchor=\"middle\" transform=\"translate(259,-169)rotate(40)\">product-model</text><text style=\"font-size: 20px; font-family: Impact; fill: #bcbd22;\" text-anchor=\"middle\" transform=\"translate(-194,136)rotate(-6)\">@ngx-translate/core</text><text style=\"font-size: 20px; font-family: Impact; fill: #dbdb8d;\" text-anchor=\"middle\" transform=\"translate(77,-193)rotate(1)\">subtotal.component</text><text style=\"font-size: 20px; font-family: Impact; fill: #17becf;\" text-anchor=\"middle\" transform=\"translate(316,-164)rotate(33)\">rxjs/BehaviorSubject</text><text style=\"font-size: 20px; font-family: Impact; fill: #9edae5;\" text-anchor=\"middle\" transform=\"translate(-380,117)rotate(-57)\">layout.service</text><text style=\"font-size: 20px; font-family: Impact; fill: #1f77b4;\" text-anchor=\"middle\" transform=\"translate(-234,178)rotate(-14)\">subtotal-total.component</text><text style=\"font-size: 19px; font-family: Impact; fill: #aec7e8;\" text-anchor=\"middle\" transform=\"translate(64,52)rotate(-7)\">auth-user</text><text style=\"font-size: 19px; font-family: Impact; fill: #ff7f0e;\" text-anchor=\"middle\" transform=\"translate(338,143)rotate(-32)\">logout.component</text><text style=\"font-size: 19px; font-family: Impact; fill: #ffbb78;\" text-anchor=\"middle\" transform=\"translate(-27,160)rotate(27)\">form-encoded</text><text style=\"font-size: 19px; font-family: Impact; fill: #2ca02c;\" text-anchor=\"middle\" transform=\"translate(-47,183)rotate(11)\">trial.module</text><text style=\"font-size: 19px; font-family: Impact; fill: #98df8a;\" text-anchor=\"middle\" transform=\"translate(-353,-65)rotate(1)\">auth-guard</text><text style=\"font-size: 18px; font-family: Impact; fill: #d62728;\" text-anchor=\"middle\" transform=\"translate(112,97)rotate(-6)\">main</text><text style=\"font-size: 18px; font-family: Impact; fill: #ff9896;\" text-anchor=\"middle\" transform=\"translate(-151,-193)rotate(-5)\">purchase-model</text><text style=\"font-size: 18px; font-family: Impact; fill: #9467bd;\" text-anchor=\"middle\" transform=\"translate(178,193)rotate(4)\">language.component</text><text style=\"font-size: 18px; font-family: Impact; fill: #c5b0d5;\" text-anchor=\"middle\" transform=\"translate(-6,206)rotate(0)\">number-picker.component</text><text style=\"font-size: 18px; font-family: Impact; fill: #8c564b;\" text-anchor=\"middle\" transform=\"translate(-333,-175)rotate(36)\">trial.routing</text><text style=\"font-size: 17px; font-family: Impact; fill: #c49c94;\" text-anchor=\"middle\" transform=\"translate(-368,-107)rotate(37)\">app.routing</text><text style=\"font-size: 17px; font-family: Impact; fill: #e377c2;\" text-anchor=\"middle\" transform=\"translate(166,172)rotate(3)\">ecommerceResources</text><text style=\"font-size: 17px; font-family: Impact; fill: #f7b6d2;\" text-anchor=\"middle\" transform=\"translate(-168,-96)rotate(2)\">layout.routing</text><text style=\"font-size: 17px; font-family: Impact; fill: #7f7f7f;\" text-anchor=\"middle\" transform=\"translate(372,-157)rotate(42)\">eloqua-request</text><text style=\"font-size: 16px; font-family: Impact; fill: #c7c7c7;\" text-anchor=\"middle\" transform=\"translate(282,-72)rotate(32)\">log-stubs</text><text style=\"font-size: 16px; font-family: Impact; fill: #bcbd22;\" text-anchor=\"middle\" transform=\"translate(347,188)rotate(-13)\">small-footer.component</text><text style=\"font-size: 16px; font-family: Impact; fill: #dbdb8d;\" text-anchor=\"middle\" transform=\"translate(-290,-28)rotate(-17)\">menu.component</text><text style=\"font-size: 16px; font-family: Impact; fill: #17becf;\" text-anchor=\"middle\" transform=\"translate(393,-165)rotate(53)\">trial-stubs</text><text style=\"font-size: 16px; font-family: Impact; fill: #9edae5;\" text-anchor=\"middle\" transform=\"translate(361,-205)rotate(-4)\">@angular/common</text><text style=\"font-size: 16px; font-family: Impact; fill: #1f77b4;\" text-anchor=\"middle\" transform=\"translate(242,-153)rotate(27)\">zuora-post</text><text style=\"font-size: 15px; font-family: Impact; fill: #aec7e8;\" text-anchor=\"middle\" transform=\"translate(-181,38)rotate(-17)\">rxjs/util/noop</text><text style=\"font-size: 15px; font-family: Impact; fill: #ff7f0e;\" text-anchor=\"middle\" transform=\"translate(-398,-98)rotate(51)\">rxjs/Rx</text><text style=\"font-size: 15px; font-family: Impact; fill: #ffbb78;\" text-anchor=\"middle\" transform=\"translate(71,-210)rotate(3)\">angular2-jwt</text><text style=\"font-size: 15px; font-family: Impact; fill: #2ca02c;\" text-anchor=\"middle\" transform=\"translate(346,-23)rotate(-8)\">translate-stubs</text><text style=\"font-size: 15px; font-family: Impact; fill: #98df8a;\" text-anchor=\"middle\" transform=\"translate(364,99)rotate(-31)\">countries.conf</text><text style=\"font-size: 15px; font-family: Impact; fill: #d62728;\" text-anchor=\"middle\" transform=\"translate(-382,-42)rotate(-9)\">node-forge</text><text style=\"font-size: 15px; font-family: Impact; fill: #ff9896;\" text-anchor=\"middle\" transform=\"translate(-166,197)rotate(8)\">ienvironment</text><text style=\"font-size: 15px; font-family: Impact; fill: #9467bd;\" text-anchor=\"middle\" transform=\"translate(-265,159)rotate(-5)\">catalog.blueprint</text><text style=\"font-size: 15px; font-family: Impact; fill: #c5b0d5;\" text-anchor=\"middle\" transform=\"translate(-324,79)rotate(-42)\">login-request</text></g></svg>"
      ]
     },
     "execution_count": 1,
     "metadata": {},
     "output_type": "execute_result"
    }
   ],
   "source": [
    "// TODO: create a gulp stream angular component out of it\r",
    "// TODO: connect with gulp-git https://www.npmjs.com/package/gulp-git\r",
    "// install https://github.com/Automattic/node-canvas/wiki/installation---osx\r",
    "// install using brew install pkg-config fontconfig cairo pixman giflib libjpeg libpng\n",
    "var importer = require('../Core');\r",
    "var path = require('path');\r",
    "\r",
    "var PROFILE_PATH = process.env.HOME || process.env.HOMEPATH || process.env.USERPROFILE;\r",
    "var project = PROFILE_PATH + '/Documents/portal';\r",
    "\r",
    "$$.async()\r",
    "importer.import('file system.ipynb[project word-cloud]')\n",
    "    .then(projectWordCloud => projectWordCloud(project))\r",
    "    .then(svg => $$.svg(svg))\r",
    "    .catch(e => $$.sendError(e));\r",
    "\r"
   ]
  },
  {
   "cell_type": "markdown",
   "metadata": {},
   "source": [
    "project import to d3 tree?\n",
    "\n"
   ]
  },
  {
   "cell_type": "code",
   "execution_count": null,
   "metadata": {},
   "outputs": [],
   "source": [
    "var importer = require('../Core');\r",
    "var path = require('path');\r\n",
    "var wordCount = function (r) {\n",
    "    var words = r['packages'].map(p => p.split('.ts/')[1])\n",
    "        .concat(r['packages'].map(p => path.basename(p.split('.ts/')[0])))\n",
    "        .concat(r['relatives'].map(r => path.basename(r)))\n",
    "        .concat(r['relatives'].map(r => path.basename(r.split('.ts/')[0])));\n",
    "    var wordCounts = {};\n",
    "    words.forEach(w => {\n",
    "        if (typeof wordCounts[w] === 'undefined') {\n",
    "            wordCounts[w] = 1;\n",
    "        } else {\n",
    "            wordCounts[w]++;\n",
    "        }\n",
    "    });\n",
    "    var resultWords = Object.keys(wordCounts).map((d) => ({name: d, size: wordCounts[d]}));\n",
    "    var edges = [];\n",
    "    r['packages'].forEach(\n",
    "        p => edges[edges.length] = {source: p.split('.ts/')[1], target: path.basename(p.split('.ts/')[0])});\n",
    "    r['relatives'].forEach(p => edges[edges.length] = {\n",
    "        source: path.basename(p.split('.ts/')[0]),\n",
    "        target: path.basename(p.split('.ts/')[1])\n",
    "    });\n",
    "    return {nodes: resultWords, edges: edges};\n",
    "};\n",
    "\r",
    "var projectTree = (project) => {\r",
    "    var words = [];\r",
    "\r",
    "    return importer.import('relative paths and includes', {project})\r",
    "        .then(projectRelatives => projectRelatives(project))\r",
    "        .then(r => {\n",
    "            words = r;\r",
    "        })\r",
    "        .then(() => importer.import('d3.ipynb[display long tree]'))\r",
    "        .then(d3TreeToSVG => {\n",
    "            var tree = wordCount(words);\r",
    "            return d3TreeToSVG(tree.nodes, tree.edges);\r",
    "        })\n",
    "        .catch(e => console.log(e))\r",
    "};\r",
    "module.exports = projectTree;\r",
    "\r"
   ]
  },
  {
   "cell_type": "code",
   "execution_count": 1,
   "metadata": {},
   "outputs": [
    {
     "data": {
      "image/svg+xml": [
       "<svg xmlns=\"http://www.w3.org/2000/svg\" width=\"960\" height=\"500\"><g transform=\"translate(480,250)\"><path d=\"M0,0Z\" style=\"stroke: #fff; fill: #1f77b4; fill-rule: evenodd;\"></path><path d=\"M2.7554552980815446e-14,-450A450,450,0,0,1,142.5005972106626,-426.8413988762155L23.750099535110433,-71.14023314603592A75,75,0,0,0,4.592425496802574e-15,-75Z\" style=\"stroke: #fff; fill: #aec7e8; fill-rule: evenodd;\"></path><path d=\"M142.5005972106626,-426.8413988762155A450,450,0,0,1,218.23981132984088,-393.53701827237984L36.37330188830681,-65.58950304539664A75,75,0,0,0,23.750099535110433,-71.14023314603592Z\" style=\"stroke: #fff; fill: #ff7f0e; fill-rule: evenodd;\"></path><path d=\"M218.23981132984088,-393.53701827237984A450,450,0,0,1,302.2614775758361,-333.37366298745366L50.37691292930602,-55.562277164575605A75,75,0,0,0,36.37330188830681,-65.58950304539664Z\" style=\"stroke: #fff; fill: #ffbb78; fill-rule: evenodd;\"></path><path d=\"M302.2614775758361,-333.37366298745366A450,450,0,0,1,397.24534973224564,-211.4145976892463L66.2075582887076,-35.235766281541046A75,75,0,0,0,50.37691292930602,-55.562277164575605Z\" style=\"stroke: #fff; fill: #2ca02c; fill-rule: evenodd;\"></path><path d=\"M397.24534973224564,-211.4145976892463A450,450,0,0,1,418.8931868898919,-164.4034609648778L69.81553114831532,-27.400576827479636A75,75,0,0,0,66.2075582887076,-35.235766281541046Z\" style=\"stroke: #fff; fill: #98df8a; fill-rule: evenodd;\"></path><path d=\"M418.8931868898919,-164.4034609648778A450,450,0,0,1,439.8407998877249,-95.07928667236784L73.3067999812875,-15.846547778727972A75,75,0,0,0,69.81553114831532,-27.400576827479636Z\" style=\"stroke: #fff; fill: #d62728; fill-rule: evenodd;\"></path><path d=\"M439.8407998877249,-95.07928667236784A450,450,0,0,1,445.35240782746456,-64.50761848246812L74.22540130457743,-10.75126974707802A75,75,0,0,0,73.3067999812875,-15.846547778727972Z\" style=\"stroke: #fff; fill: #ff9896; fill-rule: evenodd;\"></path><path d=\"M445.35240782746456,-64.50761848246812A450,450,0,0,1,449.813788271101,-12.944337804660433L74.96896471185016,-2.1573896341100722A75,75,0,0,0,74.22540130457743,-10.75126974707802Z\" style=\"stroke: #fff; fill: #9467bd; fill-rule: evenodd;\"></path><path d=\"M449.813788271101,-12.944337804660433A450,450,0,0,1,448.32501897391194,38.79017094627857L74.72083649565198,6.465028491046429A75,75,0,0,0,74.96896471185016,-2.1573896341100722Z\" style=\"stroke: #fff; fill: #c5b0d5; fill-rule: evenodd;\"></path><path d=\"M448.32501897391194,38.79017094627857A450,450,0,0,1,427.654253335657,140.04227791606974L71.27570888927616,23.34037965267829A75,75,0,0,0,74.72083649565198,6.465028491046429Z\" style=\"stroke: #fff; fill: #8c564b; fill-rule: evenodd;\"></path><path d=\"M427.654253335657,140.04227791606974A450,450,0,0,1,408.7456904775394,188.22051034900403L68.12428174625657,31.37008505816734A75,75,0,0,0,71.27570888927616,23.34037965267829Z\" style=\"stroke: #fff; fill: #c49c94; fill-rule: evenodd;\"></path><path d=\"M408.7456904775394,188.22051034900403A450,450,0,0,1,341.9303220650606,292.54684215093476L56.988387010843425,48.75780702515579A75,75,0,0,0,68.12428174625657,31.37008505816734Z\" style=\"stroke: #fff; fill: #e377c2; fill-rule: evenodd;\"></path><path d=\"M341.9303220650606,292.54684215093476A450,450,0,0,1,328.10677150228594,307.9706909664404L54.68446191704766,51.32844849440673A75,75,0,0,0,56.988387010843425,48.75780702515579Z\" style=\"stroke: #fff; fill: #f7b6d2; fill-rule: evenodd;\"></path><path d=\"M328.10677150228594,307.9706909664404A450,450,0,0,1,290.57460053785985,343.60791830553495L48.429100089643306,57.26798638425583A75,75,0,0,0,54.68446191704766,51.32844849440673Z\" style=\"stroke: #fff; fill: #7f7f7f; fill-rule: evenodd;\"></path><path d=\"M290.57460053785985,343.60791830553495A450,450,0,0,1,231.69314948854162,385.76972986495497L38.61552491475694,64.2949549774925A75,75,0,0,0,48.429100089643306,57.26798638425583Z\" style=\"stroke: #fff; fill: #c7c7c7; fill-rule: evenodd;\"></path><path d=\"M231.69314948854162,385.76972986495497A450,450,0,0,1,147.40300148188487,425.1733236623994L24.56716691364748,70.8622206103999A75,75,0,0,0,38.61552491475694,64.2949549774925Z\" style=\"stroke: #fff; fill: #bcbd22; fill-rule: evenodd;\"></path><path d=\"M147.40300148188487,425.1733236623994A450,450,0,0,1,46.52276930476684,447.5886861128367L7.753794884127807,74.59811435213945A75,75,0,0,0,24.56716691364748,70.8622206103999Z\" style=\"stroke: #fff; fill: #dbdb8d; fill-rule: evenodd;\"></path><path d=\"M46.52276930476684,447.5886861128367A450,450,0,0,1,-15.532262536368245,449.7318632479817L-2.588710422728041,74.95531054133029A75,75,0,0,0,7.753794884127807,74.59811435213945Z\" style=\"stroke: #fff; fill: #17becf; fill-rule: evenodd;\"></path><path d=\"M-15.532262536368245,449.7318632479817A450,450,0,0,1,-46.522769304765994,447.5886861128368L-7.753794884127665,74.59811435213946A75,75,0,0,0,-2.588710422728041,74.95531054133029Z\" style=\"stroke: #fff; fill: #9edae5; fill-rule: evenodd;\"></path><path d=\"M-46.522769304765994,447.5886861128368A450,450,0,0,1,-77.29157389107367,443.3125450575933L-12.881928981845611,73.88542417626554A75,75,0,0,0,-7.753794884127665,74.59811435213946Z\" style=\"stroke: #fff; fill: #1f77b4; fill-rule: evenodd;\"></path><path d=\"M-77.29157389107367,443.3125450575933A450,450,0,0,1,-127.68276984170001,431.5056318120906L-21.280461640283335,71.91760530201509A75,75,0,0,0,-12.881928981845611,73.88542417626554Z\" style=\"stroke: #fff; fill: #aec7e8; fill-rule: evenodd;\"></path><path d=\"M-127.68276984170001,431.5056318120906A450,450,0,0,1,-166.81096757027976,417.9403080563863L-27.801827928379957,69.65671800939772A75,75,0,0,0,-21.280461640283335,71.91760530201509Z\" style=\"stroke: #fff; fill: #ff7f0e; fill-rule: evenodd;\"></path><path d=\"M-166.81096757027976,417.9403080563863A450,450,0,0,1,-185.86555334545957,409.821907759439L-30.97759222424326,68.30365129323982A75,75,0,0,0,-27.801827928379957,69.65671800939772Z\" style=\"stroke: #fff; fill: #ffbb78; fill-rule: evenodd;\"></path><path d=\"M-185.86555334545957,409.821907759439A450,450,0,0,1,-222.75395351261093,390.9995859262533L-37.12565891876849,65.16659765437555A75,75,0,0,0,-30.97759222424326,68.30365129323982Z\" style=\"stroke: #fff; fill: #2ca02c; fill-rule: evenodd;\"></path><path d=\"M-222.75395351261093,390.9995859262533A450,450,0,0,1,-240.50962175750965,380.33553849470815L-40.084936959584944,63.38925641578469A75,75,0,0,0,-37.12565891876849,65.16659765437555Z\" style=\"stroke: #fff; fill: #98df8a; fill-rule: evenodd;\"></path><path d=\"M-240.50962175750965,380.33553849470815A450,450,0,0,1,-274.45590198003185,356.6145788779914L-45.74265033000531,59.4357631463319A75,75,0,0,0,-40.084936959584944,63.38925641578469Z\" style=\"stroke: #fff; fill: #d62728; fill-rule: evenodd;\"></path><path d=\"M-274.45590198003185,356.6145788779914A450,450,0,0,1,-306.07773199691275,329.8733423234227L-51.01295533281879,54.978890387237115A75,75,0,0,0,-45.74265033000531,59.4357631463319Z\" style=\"stroke: #fff; fill: #ff9896; fill-rule: evenodd;\"></path><path d=\"M-306.07773199691275,329.8733423234227A450,450,0,0,1,-367.3765887142784,259.8738964664591L-61.229431452379735,43.31231607774318A75,75,0,0,0,-51.01295533281879,54.978890387237115Z\" style=\"stroke: #fff; fill: #9467bd; fill-rule: evenodd;\"></path><path d=\"M-367.3765887142784,259.8738964664591A450,450,0,0,1,-404.3058629711307,197.5772486071442L-67.38431049518846,32.92954143452404A75,75,0,0,0,-61.229431452379735,43.31231607774318Z\" style=\"stroke: #fff; fill: #c5b0d5; fill-rule: evenodd;\"></path><path d=\"M-404.3058629711307,197.5772486071442A450,450,0,0,1,-416.9735926823261,169.21295164848817L-69.49559878038768,28.202158608081362A75,75,0,0,0,-67.38431049518846,32.92954143452404Z\" style=\"stroke: #fff; fill: #8c564b; fill-rule: evenodd;\"></path><path d=\"M-416.9735926823261,169.21295164848817A450,450,0,0,1,-438.7175604818203,100.1344202803427L-73.11959341363672,16.689070046723785A75,75,0,0,0,-69.49559878038768,28.202158608081362Z\" style=\"stroke: #fff; fill: #c49c94; fill-rule: evenodd;\"></path><path d=\"M-438.7175604818203,100.1344202803427A450,450,0,0,1,-444.5806042479357,69.62820065562777L-74.09676737465595,11.604700109271294A75,75,0,0,0,-73.11959341363672,16.689070046723785Z\" style=\"stroke: #fff; fill: #e377c2; fill-rule: evenodd;\"></path><path d=\"M-444.5806042479357,69.62820065562777A450,450,0,0,1,-447.3135943113027,49.09733540940203L-74.55226571855044,8.182889234900339A75,75,0,0,0,-74.09676737465595,11.604700109271294Z\" style=\"stroke: #fff; fill: #f7b6d2; fill-rule: evenodd;\"></path><path d=\"M-447.3135943113027,49.09733540940203A450,450,0,0,1,-449.09897391256425,28.462460025127044L-74.84982898542737,4.743743337521174A75,75,0,0,0,-74.55226571855044,8.182889234900339Z\" style=\"stroke: #fff; fill: #7f7f7f; fill-rule: evenodd;\"></path><path d=\"M-449.09897391256425,28.462460025127044A450,450,0,0,1,-449.9329608183822,7.767288407426385L-74.9888268030637,1.2945480679043975A75,75,0,0,0,-74.84982898542737,4.743743337521174Z\" style=\"stroke: #fff; fill: #c7c7c7; fill-rule: evenodd;\"></path><path d=\"M-449.9329608183822,7.767288407426385A450,450,0,0,1,-449.81378827110103,-12.94433780465878L-74.96896471185016,-2.1573896341097965A75,75,0,0,0,-74.9888268030637,1.2945480679043975Z\" style=\"stroke: #fff; fill: #bcbd22; fill-rule: evenodd;\"></path><path d=\"M-449.81378827110103,-12.94433780465878A450,450,0,0,1,-448.7417087315312,-33.628542113889L-74.79028478858854,-5.604757018981499A75,75,0,0,0,-74.96896471185016,-2.1573896341097965Z\" style=\"stroke: #fff; fill: #dbdb8d; fill-rule: evenodd;\"></path><path d=\"M-448.7417087315312,-33.628542113889A450,450,0,0,1,-446.71899334412456,-54.24150611489348L-74.45316555735408,-9.040251019148915A75,75,0,0,0,-74.79028478858854,-5.604757018981499Z\" style=\"stroke: #fff; fill: #17becf; fill-rule: evenodd;\"></path><path d=\"M-446.71899334412456,-54.24150611489348A450,450,0,0,1,-443.7499271256731,-74.73956232116849L-73.95832118761219,-12.456593720194748A75,75,0,0,0,-74.45316555735408,-9.040251019148915Z\" style=\"stroke: #fff; fill: #9edae5; fill-rule: evenodd;\"></path><path d=\"M-443.7499271256731,-74.73956232116849A450,450,0,0,1,-439.8407998877253,-95.07928667236592L-73.30679998128755,-15.846547778727654A75,75,0,0,0,-73.95832118761219,-12.456593720194748Z\" style=\"stroke: #fff; fill: #1f77b4; fill-rule: evenodd;\"></path><path d=\"M-439.8407998877253,-95.07928667236592A450,450,0,0,1,-434.99989291194936,-115.21759052589405L-72.49998215199156,-19.202931754315674A75,75,0,0,0,-73.30679998128755,-15.846547778727654Z\" style=\"stroke: #fff; fill: #aec7e8; fill-rule: evenodd;\"></path><path d=\"M-434.99989291194936,-115.21759052589405A450,450,0,0,1,-429.23746140667004,-135.11181193795548L-71.53957690111167,-22.518635322992576A75,75,0,0,0,-72.49998215199156,-19.202931754315674Z\" style=\"stroke: #fff; fill: #ff7f0e; fill-rule: evenodd;\"></path><path d=\"M-429.23746140667004,-135.11181193795548A450,450,0,0,1,-422.5657127817472,-154.71980604064223L-70.42761879695787,-25.786634340107035A75,75,0,0,0,-71.53957690111167,-22.518635322992576Z\" style=\"stroke: #fff; fill: #ffbb78; fill-rule: evenodd;\"></path><path d=\"M-422.5657127817472,-154.71980604064223A450,450,0,0,1,-414.99878078781546,-174.00003432363647L-69.16646346463591,-29.00000572060608A75,75,0,0,0,-70.42761879695787,-25.786634340107035Z\" style=\"stroke: #fff; fill: #2ca02c; fill-rule: evenodd;\"></path><path d=\"M-414.99878078781546,-174.00003432363647A450,450,0,0,1,-406.55269557467295,-192.91165263137242L-67.75878259577883,-32.15194210522874A75,75,0,0,0,-69.16646346463591,-29.00000572060608Z\" style=\"stroke: #fff; fill: #98df8a; fill-rule: evenodd;\"></path><path d=\"M-406.55269557467295,-192.91165263137242A450,450,0,0,1,-364.36178796783395,-264.08424312874706L-60.72696466130566,-44.01404052145785A75,75,0,0,0,-67.75878259577883,-32.15194210522874Z\" style=\"stroke: #fff; fill: #d62728; fill-rule: evenodd;\"></path><path d=\"M-364.36178796783395,-264.08424312874706A450,450,0,0,1,-338.54122515022476,-296.4622047981577L-56.42353752503747,-49.41036746635962A75,75,0,0,0,-60.72696466130566,-44.01404052145785Z\" style=\"stroke: #fff; fill: #ff9896; fill-rule: evenodd;\"></path><path d=\"M-338.54122515022476,-296.4622047981577A450,450,0,0,1,-324.5411013047182,-311.725959079318L-54.090183550786364,-51.95432651321966A75,75,0,0,0,-56.42353752503747,-49.41036746635962Z\" style=\"stroke: #fff; fill: #9467bd; fill-rule: evenodd;\"></path><path d=\"M-324.5411013047182,-311.725959079318A450,450,0,0,1,-302.2614775758382,-333.3736629874517L-50.37691292930637,-55.562277164575285A75,75,0,0,0,-54.090183550786364,-51.95432651321966Z\" style=\"stroke: #fff; fill: #c5b0d5; fill-rule: evenodd;\"></path><path d=\"M-302.2614775758382,-333.3736629874517A450,450,0,0,1,-286.60132320070227,-346.92892865773905L-47.76688720011705,-57.82148810962317A75,75,0,0,0,-50.37691292930637,-55.562277164575285Z\" style=\"stroke: #fff; fill: #8c564b; fill-rule: evenodd;\"></path><path d=\"M-286.60132320070227,-346.92892865773905A450,450,0,0,1,-270.33401890709274,-359.7492435315739L-45.05566981784879,-59.958207255262316A75,75,0,0,0,-47.76688720011705,-57.82148810962317Z\" style=\"stroke: #fff; fill: #c49c94; fill-rule: evenodd;\"></path><path d=\"M-270.33401890709274,-359.7492435315739A450,450,0,0,1,-253.49402612863219,-371.8074484421962L-42.249004354772026,-61.96790807369936A75,75,0,0,0,-45.05566981784879,-59.958207255262316Z\" style=\"stroke: #fff; fill: #e377c2; fill-rule: evenodd;\"></path><path d=\"M-253.49402612863219,-371.8074484421962A450,450,0,0,1,-236.11701950955626,-383.0779987129564L-39.352836584926045,-63.84633311882607A75,75,0,0,0,-42.249004354772026,-61.96790807369936Z\" style=\"stroke: #fff; fill: #f7b6d2; fill-rule: evenodd;\"></path><path d=\"M-236.11701950955626,-383.0779987129564A450,450,0,0,1,-218.23981132984355,-393.5370182723784L-36.37330188830726,-65.5895030453964A75,75,0,0,0,-39.352836584926045,-63.84633311882607Z\" style=\"stroke: #fff; fill: #7f7f7f; fill-rule: evenodd;\"></path><path d=\"M-218.23981132984355,-393.5370182723784A450,450,0,0,1,-199.9002735203272,-403.16235023436695L-33.31671225338786,-67.19372503906116A75,75,0,0,0,-36.37330188830726,-65.5895030453964Z\" style=\"stroke: #fff; fill: #c7c7c7; fill-rule: evenodd;\"></path><path d=\"M-199.9002735203272,-403.16235023436695A450,450,0,0,1,-181.13725743298818,-411.9336038364136L-30.189542905498033,-68.65560063940227A75,75,0,0,0,-33.31671225338786,-67.19372503906116Z\" style=\"stroke: #fff; fill: #bcbd22; fill-rule: evenodd;\"></path><path d=\"M-181.13725743298818,-411.9336038364136A450,450,0,0,1,-171.60933367821588,-415.9930727722744L-28.60155561303598,-69.33217879537906A75,75,0,0,0,-30.189542905498033,-68.65560063940227Z\" style=\"stroke: #fff; fill: #dbdb8d; fill-rule: evenodd;\"></path><path d=\"M-171.60933367821588,-415.9930727722744A450,450,0,0,1,-161.99051153639823,-419.83219763636043L-26.99841858939971,-69.9720329393934A75,75,0,0,0,-28.60155561303598,-69.33217879537906Z\" style=\"stroke: #fff; fill: #17becf; fill-rule: evenodd;\"></path><path d=\"M-161.99051153639823,-419.83219763636043A450,450,0,0,1,-152.28588592515493,-423.44894491306826L-25.380980987525824,-70.57482415217804A75,75,0,0,0,-26.99841858939971,-69.9720329393934Z\" style=\"stroke: #fff; fill: #9edae5; fill-rule: evenodd;\"></path><path d=\"M-152.28588592515493,-423.44894491306826A450,450,0,0,1,-142.50059721066586,-426.84139887621444L-23.750099535110976,-71.14023314603574A75,75,0,0,0,-25.380980987525824,-70.57482415217804Z\" style=\"stroke: #fff; fill: #1f77b4; fill-rule: evenodd;\"></path><path d=\"M-142.50059721066586,-426.84139887621444A450,450,0,0,1,-132.63982848491017,-430.00776260376233L-22.10663808081836,-71.66796043396039A75,75,0,0,0,-23.750099535110976,-71.14023314603574Z\" style=\"stroke: #fff; fill: #aec7e8; fill-rule: evenodd;\"></path><path d=\"M-132.63982848491017,-430.00776260376233A450,450,0,0,1,-122.70880282027547,-432.9463589296193L-20.451467136712576,-72.15772648826989A75,75,0,0,0,-22.10663808081836,-71.66796043396039Z\" style=\"stroke: #fff; fill: #ff7f0e; fill-rule: evenodd;\"></path><path d=\"M-122.70880282027547,-432.9463589296193A450,450,0,0,1,-112.71278050299026,-435.6556313320014L-18.785463417165044,-72.60927188866691A75,75,0,0,0,-20.451467136712576,-72.15772648826989Z\" style=\"stroke: #fff; fill: #ffbb78; fill-rule: evenodd;\"></path><path d=\"M-112.71278050299026,-435.6556313320014A450,450,0,0,1,-102.65705624684452,-438.1341447578951L-17.109509374474086,-73.02235745964919A75,75,0,0,0,-18.785463417165044,-72.60927188866691Z\" style=\"stroke: #fff; fill: #2ca02c; fill-rule: evenodd;\"></path><path d=\"M-102.65705624684452,-438.1341447578951A450,450,0,0,1,-92.54695638867477,-440.3805863831792L-15.424492731445794,-73.39676439719653A75,75,0,0,0,-17.109509374474086,-73.02235745964919Z\" style=\"stroke: #fff; fill: #98df8a; fill-rule: evenodd;\"></path><path d=\"M-92.54695638867477,-440.3805863831792A450,450,0,0,1,-82.3878360670989,-442.393766308004L-13.73130601118315,-73.73229438466733A75,75,0,0,0,-15.424492731445794,-73.39676439719653Z\" style=\"stroke: #fff; fill: #d62728; fill-rule: evenodd;\"></path><path d=\"M-82.3878360670989,-442.393766308004A450,450,0,0,1,-72.1850763859958,-444.1726181870602L-12.030846064332634,-74.02876969784336A75,75,0,0,0,-13.73130601118315,-73.73229438466733Z\" style=\"stroke: #fff; fill: #ff9896; fill-rule: evenodd;\"></path><path d=\"M-72.1850763859958,-444.1726181870602A450,450,0,0,1,-61.9440815642294,-445.71619979440294L-10.324013594038234,-74.28603329906716A75,75,0,0,0,-12.030846064332634,-74.02876969784336Z\" style=\"stroke: #fff; fill: #9467bd; fill-rule: evenodd;\"></path><path d=\"M-61.9440815642294,-445.71619979440294A450,450,0,0,1,-51.67027607313325,-447.0236935225315L-8.611712678855541,-74.50394892042192A75,75,0,0,0,-10.324013594038234,-74.28603329906716Z\" style=\"stroke: #fff; fill: #c5b0d5; fill-rule: evenodd;\"></path><path d=\"M-51.67027607313325,-447.0236935225315A450,450,0,0,1,-41.369101763263764,-448.094406815462L-6.894850293877294,-74.68240113591033A75,75,0,0,0,-8.611712678855541,-74.50394892042192Z\" style=\"stroke: #fff; fill: #8c564b; fill-rule: evenodd;\"></path><path d=\"M-41.369101763263764,-448.094406815462A450,450,0,0,1,-31.046014981949913,-448.92777253556113L-5.174335830324986,-74.82129542259352A75,75,0,0,0,-6.894850293877294,-74.68240113591033Z\" style=\"stroke: #fff; fill: #c49c94; fill-rule: evenodd;\"></path><path d=\"M-31.046014981949913,-448.92777253556113A450,450,0,0,1,-20.706483683163924,-449.5233492639496L-3.4510806138606536,-74.92055821065827A75,75,0,0,0,-5.174335830324986,-74.82129542259352Z\" style=\"stroke: #fff; fill: #e377c2; fill-rule: evenodd;\"></path><path d=\"M-20.706483683163924,-449.5233492639496A450,450,0,0,1,-10.355984531244042,-449.88082153431327L-1.7259974218740068,-74.98013692238555A75,75,0,0,0,-3.4510806138606536,-74.92055821065827Z\" style=\"stroke: #fff; fill: #f7b6d2; fill-rule: evenodd;\"></path><path d=\"M4.133182947122317e-14,-675A675,675,0,0,1,15.533976796860586,-674.82123230147L10.355984531240392,-449.8808215343133A450,450,0,0,0,2.7554552980815446e-14,-450Z\" style=\"stroke: #fff; fill: #7f7f7f; fill-rule: evenodd;\"></path><path d=\"M15.533976796860586,-674.82123230147A675,675,0,0,1,31.05972552474041,-674.2850238959247L20.706483683160275,-449.52334926394985A450,450,0,0,0,10.355984531240392,-449.8808215343133Z\" style=\"stroke: #fff; fill: #c7c7c7; fill-rule: evenodd;\"></path><path d=\"M31.05972552474041,-674.2850238959247A675,675,0,0,1,46.56902247291941,-673.3916588033421L31.04601498194627,-448.9277725355614A450,450,0,0,0,20.706483683160275,-449.52334926394985Z\" style=\"stroke: #fff; fill: #bcbd22; fill-rule: evenodd;\"></path><path d=\"M46.56902247291941,-673.3916588033421A675,675,0,0,1,62.05365264489019,-672.1416102231934L41.369101763260126,-448.0944068154623A450,450,0,0,0,31.04601498194627,-448.9277725355614Z\" style=\"stroke: #fff; fill: #dbdb8d; fill-rule: evenodd;\"></path><path d=\"M62.05365264489019,-672.1416102231934A675,675,0,0,1,77.50541410969443,-670.5355402837979L51.67027607312962,-447.0236935225319A450,450,0,0,0,41.369101763260126,-448.0944068154623Z\" style=\"stroke: #fff; fill: #17becf; fill-rule: evenodd;\"></path><path d=\"M77.50541410969443,-670.5355402837979A675,675,0,0,1,92.91612234633853,-668.5742996916051L61.944081564225684,-445.71619979440345A450,450,0,0,0,51.67027607312962,-447.0236935225319Z\" style=\"stroke: #fff; fill: #9edae5; fill-rule: evenodd;\"></path><path d=\"M92.91612234633853,-668.5742996916051A675,675,0,0,1,108.27761457898816,-666.2589272805911L72.1850763859921,-444.1726181870608A450,450,0,0,0,61.944081564225684,-445.71619979440345Z\" style=\"stroke: #fff; fill: #1f77b4; fill-rule: evenodd;\"></path><path d=\"M108.27761457898816,-666.2589272805911A675,675,0,0,1,123.58175410064341,-663.5906494620068L82.3878360670956,-442.39376630800456A450,450,0,0,0,72.1850763859921,-444.1726181870608Z\" style=\"stroke: #fff; fill: #aec7e8; fill-rule: evenodd;\"></path><path d=\"M123.58175410064341,-663.5906494620068A675,675,0,0,1,138.82043458300723,-660.5708795747697L92.54695638867148,-440.38058638317983A450,450,0,0,0,82.3878360670956,-442.39376630800456Z\" style=\"stroke: #fff; fill: #ff7f0e; fill-rule: evenodd;\"></path><path d=\"M138.82043458300723,-660.5708795747697A675,675,0,0,1,153.9855843702619,-657.2012171368438L102.65705624684126,-438.13414475789585A450,450,0,0,0,92.54695638867148,-440.38058638317983Z\" style=\"stroke: #fff; fill: #ffbb78; fill-rule: evenodd;\"></path><path d=\"M153.9855843702619,-657.2012171368438A675,675,0,0,1,169.0691707544805,-653.4834469980034L112.712780502987,-435.65563133200226A450,450,0,0,0,102.65705624684126,-438.13414475789585Z\" style=\"stroke: #fff; fill: #2ca02c; fill-rule: evenodd;\"></path><path d=\"M169.0691707544805,-653.4834469980034A675,675,0,0,1,184.06320423040836,-649.4195383944303L122.70880282027224,-432.9463589296202A450,450,0,0,0,112.712780502987,-435.65563133200226Z\" style=\"stroke: #fff; fill: #98df8a; fill-rule: evenodd;\"></path><path d=\"M184.06320423040836,-649.4195383944303A675,675,0,0,1,198.9597427273604,-645.011643905645L132.63982848490696,-430.0077626037633A450,450,0,0,0,122.70880282027224,-432.9463589296202Z\" style=\"stroke: #fff; fill: #d62728; fill-rule: evenodd;\"></path><path d=\"M213.75089581599389,-640.2620983143232A675,675,0,0,1,228.42882888772752,-635.1734173696041L152.2858859251517,-423.4489449130694A450,450,0,0,0,142.5005972106626,-426.8413988762155Z\" style=\"stroke: #fff; fill: #ff9896; fill-rule: evenodd;\"></path><path d=\"M228.42882888772752,-635.1734173696041A675,675,0,0,1,242.98576730459254,-629.7482964545425L161.99051153639502,-419.8321976363617A450,450,0,0,0,152.2858859251517,-423.4489449130694Z\" style=\"stroke: #fff; fill: #9467bd; fill-rule: evenodd;\"></path><path d=\"M242.98576730459254,-629.7482964545425A675,675,0,0,1,257.4140005173196,-623.9896091584133L171.60933367821306,-415.9930727722755A450,450,0,0,0,161.99051153639502,-419.8321976363617Z\" style=\"stroke: #fff; fill: #c5b0d5; fill-rule: evenodd;\"></path><path d=\"M257.4140005173196,-623.9896091584133A675,675,0,0,1,271.7058861494781,-617.9004057546223L181.1372574329854,-411.9336038364148A450,450,0,0,0,171.60933367821306,-415.9930727722755Z\" style=\"stroke: #fff; fill: #8c564b; fill-rule: evenodd;\"></path><path d=\"M271.7058861494781,-617.9004057546223A675,675,0,0,1,285.8538540455063,-611.4839115850314L190.56923603033752,-407.65594105668754A450,450,0,0,0,181.1372574329854,-411.9336038364148Z\" style=\"stroke: #fff; fill: #c49c94; fill-rule: evenodd;\"></path><path d=\"M285.8538540455063,-611.4839115850314A675,675,0,0,1,299.8504102804867,-604.7435253515524L199.90027352032448,-403.1623502343683A450,450,0,0,0,190.56923603033752,-407.65594105668754Z\" style=\"stroke: #fff; fill: #e377c2; fill-rule: evenodd;\"></path><path d=\"M299.8504102804867,-604.7435253515524A675,675,0,0,1,313.6881411295438,-597.6828173159167L209.12542741969588,-398.4552115439445A450,450,0,0,0,199.90027352032448,-403.1623502343683Z\" style=\"stroke: #fff; fill: #f7b6d2; fill-rule: evenodd;\"></path><path d=\"M327.3597169947613,-590.3055274085698A675,675,0,0,1,340.8578962875386,-582.615563247699L227.23859752502574,-388.410375498466A450,450,0,0,0,218.23981132984088,-393.53701827237984Z\" style=\"stroke: #fff; fill: #7f7f7f; fill-rule: evenodd;\"></path><path d=\"M340.8578962875386,-582.615563247699A675,675,0,0,1,354.17552926433046,-574.616998069437L236.11701950955367,-383.077998712958A450,450,0,0,0,227.23859752502574,-388.410375498466Z\" style=\"stroke: #fff; fill: #c7c7c7; fill-rule: evenodd;\"></path><path d=\"M354.17552926433046,-574.616998069437A675,675,0,0,1,367.30556181373794,-566.3140685703423L244.87037454249196,-377.5427123802282A450,450,0,0,0,236.11701950955367,-383.077998712958Z\" style=\"stroke: #fff; fill: #bcbd22; fill-rule: evenodd;\"></path><path d=\"M367.30556181373794,-566.3140685703423A675,675,0,0,1,380.2410391929448,-557.7111726632966L253.49402612862988,-371.8074484421977A450,450,0,0,0,244.87037454249196,-377.5427123802282Z\" style=\"stroke: #fff; fill: #dbdb8d; fill-rule: evenodd;\"></path><path d=\"M380.2410391929448,-557.7111726632966A675,675,0,0,1,392.9751097115202,-548.8128671480094L261.9834064743468,-365.87524476533963A450,450,0,0,0,253.49402612862988,-371.8074484421977Z\" style=\"stroke: #fff; fill: #17becf; fill-rule: evenodd;\"></path><path d=\"M392.9751097115202,-548.8128671480094A675,675,0,0,1,405.50102836063576,-539.6238652973633L270.3340189070905,-359.74924353157553A450,450,0,0,0,261.9834064743468,-365.87524476533963Z\" style=\"stroke: #fff; fill: #9edae5; fill-rule: evenodd;\"></path><path d=\"M405.50102836063576,-539.6238652973633A675,675,0,0,1,417.8121603857764,-530.149034360877L278.54144025718426,-353.43268957391797A450,450,0,0,0,270.3340189070905,-359.74924353157553Z\" style=\"stroke: #fff; fill: #1f77b4; fill-rule: evenodd;\"></path><path d=\"M417.8121603857764,-530.149034360877A675,675,0,0,1,429.9019848010503,-520.3933929866113L286.60132320070016,-346.9289286577408A450,450,0,0,0,278.54144025718426,-353.43268957391797Z\" style=\"stroke: #fff; fill: #aec7e8; fill-rule: evenodd;\"></path><path d=\"M429.9019848010503,-520.3933929866113A675,675,0,0,1,441.76409784323874,-510.3621085628805L294.50939856215916,-340.241405708587A450,450,0,0,0,286.60132320070016,-346.9289286577408Z\" style=\"stroke: #fff; fill: #ff7f0e; fill-rule: evenodd;\"></path><path d=\"M453.3922163637542,-500.06049448118046A675,675,0,0,1,464.780181156712,-489.4940073217791L309.8534541044747,-326.3293382145194A450,450,0,0,0,302.2614775758361,-333.37366298745366Z\" style=\"stroke: #fff; fill: #ffbb78; fill-rule: evenodd;\"></path><path d=\"M464.780181156712,-489.4940073217791A675,675,0,0,1,475.92196022135073,-478.6682439634649L317.2813068142338,-319.1121626423099A450,450,0,0,0,309.8534541044747,-326.3293382145194Z\" style=\"stroke: #fff; fill: #2ca02c; fill-rule: evenodd;\"></path><path d=\"M475.92196022135073,-478.6682439634649A675,675,0,0,1,486.81165195707473,-467.5889386189797L324.5411013047165,-311.72595907931975A450,450,0,0,0,317.2813068142338,-319.1121626423099Z\" style=\"stroke: #fff; fill: #98df8a; fill-rule: evenodd;\"></path><path d=\"M486.81165195707473,-467.5889386189797A675,675,0,0,1,497.44348828942725,-456.2619597977092L331.6289921929515,-304.17463986513945A450,450,0,0,0,324.5411013047165,-311.72595907931975Z\" style=\"stroke: #fff; fill: #d62728; fill-rule: evenodd;\"></path><path d=\"M497.44348828942725,-456.2619597977092A675,675,0,0,1,507.8118377253346,-444.6933071972395L338.5412251502231,-296.4622047981597A450,450,0,0,0,331.6289921929515,-304.17463986513945Z\" style=\"stroke: #fff; fill: #ff9896; fill-rule: evenodd;\"></path><path d=\"M507.8118377253346,-444.6933071972395A675,675,0,0,1,517.9112083360081,-432.8891085254235L345.27413889067213,-288.592739016949A450,450,0,0,0,338.5412251502231,-296.4622047981597Z\" style=\"stroke: #fff; fill: #9467bd; fill-rule: evenodd;\"></path><path d=\"M517.9112083360081,-432.8891085254235A675,675,0,0,1,527.73625066592,-420.8556162546453L351.8241671106133,-280.5704108364302A450,450,0,0,0,345.27413889067213,-288.592739016949Z\" style=\"stroke: #fff; fill: #c5b0d5; fill-rule: evenodd;\"></path><path d=\"M527.73625066592,-420.8556162546453A675,675,0,0,1,537.2817605663136,-408.59920430999676L358.1878403775424,-272.3994695399978A450,450,0,0,0,351.8241671106133,-280.5704108364302Z\" style=\"stroke: #fff; fill: #8c564b; fill-rule: evenodd;\"></path><path d=\"M537.2817605663136,-408.59920430999676A675,675,0,0,1,546.5426819517486,-396.12636469312395L364.3617879678324,-264.0842431287493A450,450,0,0,0,358.1878403775424,-272.3994695399978Z\" style=\"stroke: #fff; fill: #c49c94; fill-rule: evenodd;\"></path><path d=\"M546.5426819517486,-396.12636469312395A675,675,0,0,1,555.5141094782178,-383.4437040435305L370.3427396521452,-255.62913602902032A450,450,0,0,0,364.3617879678324,-264.0842431287493Z\" style=\"stroke: #fff; fill: #e377c2; fill-rule: evenodd;\"></path><path d=\"M555.5141094782178,-383.4437040435305A675,675,0,0,1,564.191291141421,-370.5579401391588L376.127527427614,-247.03862675943918A450,450,0,0,0,370.3427396521452,-255.62913602902032Z\" style=\"stroke: #fff; fill: #f7b6d2; fill-rule: evenodd;\"></path><path d=\"M564.191291141421,-370.5579401391588A675,675,0,0,1,572.5696307938152,-357.47589833810355L381.7130871958768,-238.31726555873573A450,450,0,0,0,376.127527427614,-247.03862675943918Z\" style=\"stroke: #fff; fill: #7f7f7f; fill-rule: evenodd;\"></path><path d=\"M572.5696307938152,-357.47589833810355A675,675,0,0,1,580.6446905791126,-344.2045079633422L387.0964603860751,-229.46967197556148A450,450,0,0,0,381.7130871958768,-238.31726555873573Z\" style=\"stroke: #fff; fill: #c7c7c7; fill-rule: evenodd;\"></path><path d=\"M580.6446905791126,-344.2045079633422A675,675,0,0,1,588.4121932829332,-330.7507986323964L392.27479552195547,-220.5005324215976A450,450,0,0,0,387.0964603860751,-229.46967197556148Z\" style=\"stroke: #fff; fill: #bcbd22; fill-rule: evenodd;\"></path><path d=\"M595.8680245983685,-317.12189653386946A675,675,0,0,1,603.0082353052551,-303.32502065283387L402.0054902035034,-202.21668043522257A450,450,0,0,0,397.24534973224564,-211.4145976892463Z\" style=\"stroke: #fff; fill: #dbdb8d; fill-rule: evenodd;\"></path><path d=\"M603.0082353052551,-303.32502065283387A675,675,0,0,1,609.829043362008,-289.36747894706167L406.552695574672,-192.91165263137447A450,450,0,0,0,402.0054902035034,-202.21668043522257Z\" style=\"stroke: #fff; fill: #17becf; fill-rule: evenodd;\"></path><path d=\"M609.829043362008,-289.36747894706167A675,675,0,0,1,616.3268359088986,-275.2566644761315L410.88455727259907,-183.50444298408766A450,450,0,0,0,406.552695574672,-192.91165263137447Z\" style=\"stroke: #fff; fill: #9edae5; fill-rule: evenodd;\"></path><path d=\"M616.3268359088986,-275.2566644761315A675,675,0,0,1,622.4981711817219,-261.00005148545796L414.99878078781455,-174.00003432363866A450,450,0,0,0,410.88455727259907,-183.50444298408766Z\" style=\"stroke: #fff; fill: #1f77b4; fill-rule: evenodd;\"></path><path d=\"M628.3397803348379,-246.6051914473167A675,675,0,0,1,633.8485691726196,-232.0797090609665L422.5657127817464,-154.71980604064433A450,450,0,0,0,418.8931868898919,-164.4034609648778Z\" style=\"stroke: #fff; fill: #aec7e8; fill-rule: evenodd;\"></path><path d=\"M633.8485691726196,-232.0797090609665A675,675,0,0,1,639.021619788394,-217.43129821398136L426.0144131922626,-144.9541988093209A450,450,0,0,0,422.5657127817464,-154.71980604064433Z\" style=\"stroke: #fff; fill: #ff7f0e; fill-rule: evenodd;\"></path><path d=\"M639.021619788394,-217.43129821398136A675,675,0,0,1,643.856192110004,-202.66771790693656L429.23746140666935,-135.11181193795773A450,450,0,0,0,426.0144131922626,-144.9541988093209Z\" style=\"stroke: #fff; fill: #ffbb78; fill-rule: evenodd;\"></path><path d=\"M643.856192110004,-202.66771790693656A675,675,0,0,1,648.3497253511762,-187.79678814360582L432.23315023411743,-125.19785876240388A450,450,0,0,0,429.23746140666935,-135.11181193795773Z\" style=\"stroke: #fff; fill: #2ca02c; fill-rule: evenodd;\"></path><path d=\"M648.3497253511762,-187.79678814360582A675,675,0,0,1,652.4998393679231,-172.82638578884462L434.99989291194873,-115.21759052589643A450,450,0,0,0,432.23315023411743,-125.19785876240388Z\" style=\"stroke: #fff; fill: #98df8a; fill-rule: evenodd;\"></path><path d=\"M652.4998393679231,-172.82638578884462A675,675,0,0,1,656.3043359192627,-157.7644403963568L437.53622394617514,-105.17629359757122A450,450,0,0,0,434.99989291194873,-115.21759052589643Z\" style=\"stroke: #fff; fill: #d62728; fill-rule: evenodd;\"></path><path d=\"M659.7611998315874,-142.61893000855176A675,675,0,0,1,662.8686000660654,-127.39787693071888L441.91240004404364,-84.93191795381259A450,450,0,0,0,439.8407998877249,-95.07928667236784Z\" style=\"stroke: #fff; fill: #ff9896; fill-rule: evenodd;\"></path><path d=\"M662.8686000660654,-127.39787693071888A675,675,0,0,1,665.6248906885091,-112.10934348175577L443.74992712567274,-74.73956232117051A450,450,0,0,0,441.91240004404364,-84.93191795381259Z\" style=\"stroke: #fff; fill: #9467bd; fill-rule: evenodd;\"></path><path d=\"M668.0286117411969,-96.76142772370217A675,675,0,0,1,670.0784900161864,-81.36225917234329L446.71899334412427,-54.24150611489553A450,450,0,0,0,445.35240782746456,-64.50761848246812Z\" style=\"stroke: #fff; fill: #c5b0d5; fill-rule: evenodd;\"></path><path d=\"M670.0784900161864,-81.36225917234329A675,675,0,0,1,671.7734397297105,-65.91999449114887L447.84895981980696,-43.94666299409925A450,450,0,0,0,446.71899334412427,-54.24150611489553Z\" style=\"stroke: #fff; fill: #8c564b; fill-rule: evenodd;\"></path><path d=\"M671.7734397297105,-65.91999449114887A675,675,0,0,1,673.1125630972966,-50.442813170836715L448.74170873153105,-33.62854211389114A450,450,0,0,0,447.84895981980696,-43.94666299409925Z\" style=\"stroke: #fff; fill: #c49c94; fill-rule: evenodd;\"></path><path d=\"M673.1125630972966,-50.442813170836715A675,675,0,0,1,674.0951508093079,-34.93891319684167L449.39676720620525,-23.292608797894445A450,450,0,0,0,448.74170873153105,-33.62854211389114Z\" style=\"stroke: #fff; fill: #e377c2; fill-rule: evenodd;\"></path><path d=\"M674.7206824066515,-19.41650670699065A675,675,0,0,1,674.9888265564559,-3.8838156416805205L449.9925510376373,-2.5892104277870134A450,450,0,0,0,449.813788271101,-12.944337804660433Z\" style=\"stroke: #fff; fill: #f7b6d2; fill-rule: evenodd;\"></path><path d=\"M674.9888265564559,-3.8838156416805205A675,675,0,0,1,674.8994412275733,11.650932611136948L449.93296081838224,7.767288407424632A450,450,0,0,0,449.9925510376373,-2.5892104277870134Z\" style=\"stroke: #fff; fill: #7f7f7f; fill-rule: evenodd;\"></path><path d=\"M674.8994412275733,11.650932611136948A675,675,0,0,1,674.4525737658096,27.17950957385495L449.6350491772064,18.119673049236635A450,450,0,0,0,449.93296081838224,7.767288407424632Z\" style=\"stroke: #fff; fill: #c7c7c7; fill-rule: evenodd;\"></path><path d=\"M674.4525737658096,27.17950957385495A675,675,0,0,1,673.6484608688465,42.69369003768779L449.0989739125643,28.46246002512519A450,450,0,0,0,449.6350491772064,18.119673049236635Z\" style=\"stroke: #fff; fill: #bcbd22; fill-rule: evenodd;\"></path><path d=\"M672.4875284608679,58.185256419417854A675,675,0,0,1,670.9703914669543,73.64600311410042L447.31359431130284,49.09733540940029A450,450,0,0,0,448.32501897391194,38.79017094627857Z\" style=\"stroke: #fff; fill: #dbdb8d; fill-rule: evenodd;\"></path><path d=\"M670.9703914669543,73.64600311410042A675,675,0,0,1,669.0978534873688,89.06774084142691L446.06523565824585,59.3784938942846A450,450,0,0,0,447.31359431130284,49.09733540940029Z\" style=\"stroke: #fff; fill: #17becf; fill-rule: evenodd;\"></path><path d=\"M669.0978534873688,89.06774084142691A675,675,0,0,1,666.870906371904,104.4423009834395L444.5806042479359,69.62820065562633A450,450,0,0,0,446.06523565824585,59.3784938942846Z\" style=\"stroke: #fff; fill: #9edae5; fill-rule: evenodd;\"></path><path d=\"M666.870906371904,104.4423009834395A675,675,0,0,1,664.290729694517,119.76153991130087L442.86048646301134,79.8410266075339A450,450,0,0,0,444.5806042479359,69.62820065562633Z\" style=\"stroke: #fff; fill: #1f77b4; fill-rule: evenodd;\"></path><path d=\"M664.290729694517,119.76153991130087A675,675,0,0,1,661.3586901285308,135.01734329882953L440.90579341902054,90.01156219921968A450,450,0,0,0,442.86048646301134,79.8410266075339Z\" style=\"stroke: #fff; fill: #aec7e8; fill-rule: evenodd;\"></path><path d=\"M661.3586901285308,135.01734329882953A675,675,0,0,1,658.0763407227311,150.20163042051163L438.7175604818207,100.13442028034109A450,450,0,0,0,440.90579341902054,90.01156219921968Z\" style=\"stroke: #fff; fill: #ff7f0e; fill-rule: evenodd;\"></path><path d=\"M658.0763407227311,150.20163042051163A675,675,0,0,1,654.4454200787446,165.30635843171768L436.2969467191631,110.20423895447846A450,450,0,0,0,438.7175604818207,100.13442028034109Z\" style=\"stroke: #fff; fill: #ffbb78; fill-rule: evenodd;\"></path><path d=\"M654.4454200787446,165.30635843171768A675,675,0,0,1,650.4678514301331,180.32352662885185L433.6452342867554,120.21568441923456A450,450,0,0,0,436.2969467191631,110.20423895447846Z\" style=\"stroke: #fff; fill: #2ca02c; fill-rule: evenodd;\"></path><path d=\"M650.4678514301331,180.32352662885185A675,675,0,0,1,646.1457416236908,195.24518068718248L430.7638277491272,130.163453791455A450,450,0,0,0,433.6452342867554,120.21568441923456Z\" style=\"stroke: #fff; fill: #98df8a; fill-rule: evenodd;\"></path><path d=\"M641.4813800034855,210.0634168741046A675,675,0,0,1,636.4772371982342,224.77038623560418L424.31815813215616,149.84692415706945A450,450,0,0,0,427.654253335657,140.04227791606974Z\" style=\"stroke: #fff; fill: #d62728; fill-rule: evenodd;\"></path><path d=\"M636.4772371982342,224.77038623560418A675,675,0,0,1,631.1359638126552,239.3582987537112L420.75730920843677,159.57219916914082A450,450,0,0,0,424.31815813215616,149.84692415706945Z\" style=\"stroke: #fff; fill: #ff9896; fill-rule: evenodd;\"></path><path d=\"M631.1359638126552,239.3582987537112A675,675,0,0,1,625.46038902349,253.81942747272996L416.97359268232674,169.21295164848664A450,450,0,0,0,420.75730920843677,159.57219916914082Z\" style=\"stroke: #fff; fill: #9467bd; fill-rule: evenodd;\"></path><path d=\"M625.46038902349,253.81942747272996A675,675,0,0,1,619.4535190809402,268.1461125920704L412.96901272062684,178.76407506138025A450,450,0,0,0,416.97359268232674,169.21295164848664Z\" style=\"stroke: #fff; fill: #c5b0d5; fill-rule: evenodd;\"></path><path d=\"M613.1185357163091,282.33076552350605A675,675,0,0,1,606.4587944566972,296.3658729107141L404.30586297113143,197.57724860714274A450,450,0,0,0,408.7456904775394,188.22051034900403Z\" style=\"stroke: #fff; fill: #8c564b; fill-rule: evenodd;\"></path><path d=\"M606.4587944566972,296.3658729107141A675,675,0,0,1,599.4778228476384,310.2440006089649L399.65188189842564,206.82933373930993A450,450,0,0,0,404.30586297113143,197.57724860714274Z\" style=\"stroke: #fff; fill: #c49c94; fill-rule: evenodd;\"></path><path d=\"M599.4778228476384,310.2440006089649A675,675,0,0,1,592.1793185846235,323.9577976228554L394.78621238974904,215.97186508190362A450,450,0,0,0,399.65188189842564,206.82933373930993Z\" style=\"stroke: #fff; fill: #e377c2; fill-rule: evenodd;\"></path><path d=\"M592.1793185846235,323.9577976228554A675,675,0,0,1,584.5671475544963,337.4999999999996L389.7114317029975,224.99999999999974A450,450,0,0,0,394.78621238974904,215.97186508190362Z\" style=\"stroke: #fff; fill: #f7b6d2; fill-rule: evenodd;\"></path><path d=\"M584.5671475544963,337.4999999999996A675,675,0,0,1,576.6453417877632,350.8634346786137L384.43022785850883,233.90895645240911A450,450,0,0,0,389.7114317029975,224.99999999999974Z\" style=\"stroke: #fff; fill: #7f7f7f; fill-rule: evenodd;\"></path><path d=\"M576.6453417877632,350.8634346786137A675,675,0,0,1,568.4180973228983,364.0410232869589L378.9453982152655,242.69401552463924A450,450,0,0,0,384.43022785850883,233.90895645240911Z\" style=\"stroke: #fff; fill: #c7c7c7; fill-rule: evenodd;\"></path><path d=\"M568.4180973228983,364.0410232869589A675,675,0,0,1,559.889771983778,377.0257858926271L373.25984798918535,251.35052392841806A450,450,0,0,0,378.9453982152655,242.69401552463924Z\" style=\"stroke: #fff; fill: #bcbd22; fill-rule: evenodd;\"></path><path d=\"M559.889771983778,377.0257858926271A675,675,0,0,1,551.0648830714192,389.8108446996864L367.3765887142795,259.8738964664576A450,450,0,0,0,373.25984798918535,251.35052392841806Z\" style=\"stroke: #fff; fill: #dbdb8d; fill-rule: evenodd;\"></path><path d=\"M551.0648830714192,389.8108446996864A675,675,0,0,1,541.9481049712463,402.3894276917264L361.2987366474975,268.2596184611509A450,450,0,0,0,367.3765887142795,259.8738964664576Z\" style=\"stroke: #fff; fill: #17becf; fill-rule: evenodd;\"></path><path d=\"M541.9481049712463,402.3894276917264A675,675,0,0,1,532.5442666771519,414.75487221887397L355.02951111810125,276.503248145916A450,450,0,0,0,361.2987366474975,268.2596184611509Z\" style=\"stroke: #fff; fill: #9edae5; fill-rule: evenodd;\"></path><path d=\"M532.5442666771519,414.75487221887397A675,675,0,0,1,522.8583492336675,426.9006285268789L348.57223282244496,284.60041901791925A450,450,0,0,0,355.02951111810125,276.503248145916Z\" style=\"stroke: #fff; fill: #1f77b4; fill-rule: evenodd;\"></path><path d=\"M512.8954830975908,438.8202632264021A675,675,0,0,1,502.6609454204784,450.5074627006647L335.1072969469856,300.3383084671098A450,450,0,0,0,341.9303220650606,292.54684215093476Z\" style=\"stroke: #fff; fill: #aec7e8; fill-rule: evenodd;\"></path><path d=\"M492.16015725342896,461.95603644966053A675,675,0,0,1,481.3986806756529,473.1599203691504L320.9324537837686,315.43994691276697A450,450,0,0,0,328.10677150228594,307.9706909664404Z\" style=\"stroke: #fff; fill: #ff7f0e; fill-rule: evenodd;\"></path><path d=\"M481.3986806756529,473.1599203691504A675,675,0,0,1,470.38221584833656,484.11317996271174L313.588143898891,322.7421199751412A450,450,0,0,0,320.9324537837686,315.43994691276697Z\" style=\"stroke: #fff; fill: #ffbb78; fill-rule: evenodd;\"></path><path d=\"M470.38221584833656,484.11317996271174A675,675,0,0,1,459.11659799537097,494.8100134851324L306.07773199691394,329.8733423234216A450,450,0,0,0,313.588143898891,322.7421199751412Z\" style=\"stroke: #fff; fill: #2ca02c; fill-rule: evenodd;\"></path><path d=\"M459.11659799537097,494.8100134851324A675,675,0,0,1,447.6077943125371,505.24475501549296L298.40519620835806,336.8298366769953A450,450,0,0,0,306.07773199691394,329.8733423234216Z\" style=\"stroke: #fff; fill: #98df8a; fill-rule: evenodd;\"></path><path d=\"M435.8619008067897,515.4118774583025A675,675,0,0,1,423.8851390673117,525.3059954711024L282.5900927115411,350.2039969807349A450,450,0,0,0,290.57460053785985,343.60791830553495Z\" style=\"stroke: #fff; fill: #d62728; fill-rule: evenodd;\"></path><path d=\"M423.8851390673117,525.3059954711024A675,675,0,0,1,411.68385297004954,534.9218683169858L274.455901980033,356.61457887799054A450,450,0,0,0,282.5900927115411,350.2039969807349Z\" style=\"stroke: #fff; fill: #ff9896; fill-rule: evenodd;\"></path><path d=\"M411.68385297004954,534.9218683169858A675,675,0,0,1,399.2645053174768,544.2544026405212L266.17633687831784,362.83626842701415A450,450,0,0,0,274.455901980033,356.61457887799054Z\" style=\"stroke: #fff; fill: #9467bd; fill-rule: evenodd;\"></path><path d=\"M399.2645053174768,544.2544026405212A675,675,0,0,1,386.6336744153622,553.2986551656128L257.7557829435748,368.86577011040856A450,450,0,0,0,266.17633687831784,362.83626842701415Z\" style=\"stroke: #fff; fill: #c5b0d5; fill-rule: evenodd;\"></path><path d=\"M386.6336744153622,553.2986551656128A675,675,0,0,1,373.79805058836047,562.0498353138639L249.1987003922403,374.6998902092426A450,450,0,0,0,257.7557829435748,368.86577011040856Z\" style=\"stroke: #fff; fill: #8c564b; fill-rule: evenodd;\"></path><path d=\"M373.79805058836047,562.0498353138639A675,675,0,0,1,360.7644326362663,570.5033077420611L240.50962175751087,380.33553849470735A450,450,0,0,0,249.1987003922403,374.6998902092426Z\" style=\"stroke: #fff; fill: #c49c94; fill-rule: evenodd;\"></path><path d=\"M347.53972423281243,578.6545947974324A675,675,0,0,1,334.1309302689178,586.4993788893793L222.75395351261184,390.99958592625285A450,450,0,0,0,231.69314948854162,385.76972986495497Z\" style=\"stroke: #fff; fill: #e377c2; fill-rule: evenodd;\"></path><path d=\"M334.1309302689178,586.4993788893793A675,675,0,0,1,320.54515314232134,594.0335047764274L213.69676876154756,396.02233651761827A450,450,0,0,0,222.75395351261184,390.99958592625285Z\" style=\"stroke: #fff; fill: #f7b6d2; fill-rule: evenodd;\"></path><path d=\"M320.54515314232134,594.0335047764274A675,675,0,0,1,306.78958899557057,601.2529817671833L204.5263926637137,400.83532117812223A450,450,0,0,0,213.69676876154756,396.02233651761827Z\" style=\"stroke: #fff; fill: #7f7f7f; fill-rule: evenodd;\"></path><path d=\"M306.78958899557057,601.2529817671833A675,675,0,0,1,292.8715239043523,608.1539858341326L195.24768260290153,405.4359905560884A450,450,0,0,0,204.5263926637137,400.83532117812223Z\" style=\"stroke: #fff; fill: #c7c7c7; fill-rule: evenodd;\"></path><path d=\"M292.8715239043523,608.1539858341326A675,675,0,0,1,278.7983300181908,614.7328616391578L185.86555334546054,409.82190775943855A450,450,0,0,0,195.24768260290153,405.4359905560884Z\" style=\"stroke: #fff; fill: #bcbd22; fill-rule: evenodd;\"></path><path d=\"M278.7983300181908,614.7328616391578A675,675,0,0,1,264.57746165555125,620.9861244697062L176.38497443703417,413.99074964647076A450,450,0,0,0,185.86555334546054,409.82190775943855Z\" style=\"stroke: #fff; fill: #dbdb8d; fill-rule: evenodd;\"></path><path d=\"M264.57746165555125,620.9861244697062A675,675,0,0,1,250.21645135542138,626.9104620845787L166.81096757028092,417.94030805638585A450,450,0,0,0,176.38497443703417,413.99074964647076Z\" style=\"stroke: #fff; fill: #17becf; fill-rule: evenodd;\"></path><path d=\"M250.21645135542138,626.9104620845787A675,675,0,0,1,235.72290588745975,632.5027364683665L157.14860392497317,421.668490978911A450,450,0,0,0,166.81096757028092,417.94030805638585Z\" style=\"stroke: #fff; fill: #9edae5; fill-rule: evenodd;\"></path><path d=\"M221.1045022228273,637.7599854935991A675,675,0,0,1,206.36898346783374,642.6794244897319L137.57932231188914,428.45294965982123A450,450,0,0,0,147.40300148188487,425.1733236623994Z\" style=\"stroke: #fff; fill: #1f77b4; fill-rule: evenodd;\"></path><path d=\"M206.36898346783374,642.6794244897319A675,675,0,0,1,191.5241547625512,647.2584477181355L127.6827698417008,431.5056318120903A450,450,0,0,0,137.57932231188914,428.45294965982123Z\" style=\"stroke: #fff; fill: #aec7e8; fill-rule: evenodd;\"></path><path d=\"M191.5241547625512,647.2584477181355A675,675,0,0,1,176.57787914657303,651.494629752309L117.71858609771535,434.3297531682061A450,450,0,0,0,127.6827698417008,431.5056318120903Z\" style=\"stroke: #fff; fill: #ff7f0e; fill-rule: evenodd;\"></path><path d=\"M176.57787914657303,651.494629752309A675,675,0,0,1,161.53807339410199,655.385726762585L107.69204892940132,436.92381784172335A450,450,0,0,0,117.71858609771535,434.3297531682061Z\" style=\"stroke: #fff; fill: #ffbb78; fill-rule: evenodd;\"></path><path d=\"M161.53807339410199,655.385726762585A675,675,0,0,1,146.41270382057752,658.9296777046454L97.60846921371834,439.28645180309695A450,450,0,0,0,107.69204892940132,436.92381784172335Z\" style=\"stroke: #fff; fill: #2ca02c; fill-rule: evenodd;\"></path><path d=\"M146.41270382057752,658.9296777046454A675,675,0,0,1,131.20978206306003,662.1246054112204L87.47318804204001,441.4164036074803A450,450,0,0,0,97.60846921371834,439.28645180309695Z\" style=\"stroke: #fff; fill: #98df8a; fill-rule: evenodd;\"></path><path d=\"M131.20978206306003,662.1246054112204A675,675,0,0,1,115.93736083661206,664.9688175863897L77.2915738910747,443.3125450575931A450,450,0,0,0,87.47318804204001,441.4164036074803Z\" style=\"stroke: #fff; fill: #d62728; fill-rule: evenodd;\"></path><path d=\"M115.93736083661206,664.9688175863897A675,675,0,0,1,100.60352966891848,667.4608077019617L67.06901977927899,444.9738718013078A450,450,0,0,0,77.2915738910747,443.3125450575931Z\" style=\"stroke: #fff; fill: #ff9896; fill-rule: evenodd;\"></path><path d=\"M100.60352966891848,667.4608077019617A675,675,0,0,1,85.21641061540919,669.599255795454L56.810940410272785,446.399503863636A450,450,0,0,0,67.06901977927899,444.9738718013078Z\" style=\"stroke: #fff; fill: #9467bd; fill-rule: evenodd;\"></path><path d=\"M69.78415395715027,671.383029169255A675,675,0,0,1,54.31493388379066,672.8111829905916L36.20995592252711,448.54078866039447A450,450,0,0,0,46.52276930476684,447.5886861128367Z\" style=\"stroke: #fff; fill: #c5b0d5; fill-rule: evenodd;\"></path><path d=\"M54.31493388379066,672.8111829905916A675,675,0,0,1,38.81694416383458,673.8829607919922L25.877962775889717,449.2553071946615A450,450,0,0,0,36.20995592252711,448.54078866039447Z\" style=\"stroke: #fff; fill: #8c564b; fill-rule: evenodd;\"></path><path d=\"M38.81694416383458,673.8829607919922A675,675,0,0,1,23.298393804553648,674.5977948719725L15.532262536369098,449.73186324798166A450,450,0,0,0,25.877962775889717,449.2553071946615Z\" style=\"stroke: #fff; fill: #c49c94; fill-rule: evenodd;\"></path><path d=\"M23.298393804553648,674.5977948719725A675,675,0,0,1,7.7675027038212106,674.9553065957376L5.178335135880807,449.9702043971584A450,450,0,0,0,15.532262536369098,449.73186324798166Z\" style=\"stroke: #fff; fill: #e377c2; fill-rule: evenodd;\"></path><path d=\"M7.7675027038212106,674.9553065957376A675,675,0,0,1,-7.76750270381993,674.9553065957376L-5.178335135879953,449.9702043971584A450,450,0,0,0,5.178335135880807,449.9702043971584Z\" style=\"stroke: #fff; fill: #f7b6d2; fill-rule: evenodd;\"></path><path d=\"M-23.29839380455237,674.5977948719726A675,675,0,0,1,-38.8169441638333,673.8829607919923L-25.877962775888864,449.2553071946615A450,450,0,0,0,-15.532262536368245,449.7318632479817Z\" style=\"stroke: #fff; fill: #7f7f7f; fill-rule: evenodd;\"></path><path d=\"M-38.8169441638333,673.8829607919923A675,675,0,0,1,-54.31493388378939,672.8111829905918L-36.209955922526255,448.5407886603945A450,450,0,0,0,-25.877962775888864,449.2553071946615Z\" style=\"stroke: #fff; fill: #c7c7c7; fill-rule: evenodd;\"></path><path d=\"M-69.78415395714899,671.3830291692552A675,675,0,0,1,-85.21641061540733,669.5992557954543L-56.81094041027155,446.3995038636362A450,450,0,0,0,-46.522769304765994,447.5886861128368Z\" style=\"stroke: #fff; fill: #bcbd22; fill-rule: evenodd;\"></path><path d=\"M-85.21641061540733,669.5992557954543A675,675,0,0,1,-100.60352966891692,667.4608077019619L-67.06901977927795,444.97387180130795A450,450,0,0,0,-56.81094041027155,446.3995038636362Z\" style=\"stroke: #fff; fill: #dbdb8d; fill-rule: evenodd;\"></path><path d=\"M-115.9373608366105,664.96881758639A675,675,0,0,1,-131.20978206305816,662.1246054112207L-87.47318804203877,441.4164036074805A450,450,0,0,0,-77.29157389107367,443.3125450575933Z\" style=\"stroke: #fff; fill: #17becf; fill-rule: evenodd;\"></path><path d=\"M-131.20978206305816,662.1246054112207A675,675,0,0,1,-146.41270382057567,658.9296777046458L-97.60846921371711,439.2864518030972A450,450,0,0,0,-87.47318804203877,441.4164036074805Z\" style=\"stroke: #fff; fill: #9edae5; fill-rule: evenodd;\"></path><path d=\"M-146.41270382057567,658.9296777046458A675,675,0,0,1,-161.53807339410045,655.3857267625854L-107.6920489294003,436.92381784172363A450,450,0,0,0,-97.60846921371711,439.2864518030972Z\" style=\"stroke: #fff; fill: #1f77b4; fill-rule: evenodd;\"></path><path d=\"M-161.53807339410045,655.3857267625854A675,675,0,0,1,-176.5778791465715,651.4946297523095L-117.71858609771432,434.3297531682063A450,450,0,0,0,-107.6920489294003,436.92381784172363Z\" style=\"stroke: #fff; fill: #aec7e8; fill-rule: evenodd;\"></path><path d=\"M-191.52415476255,647.2584477181359A675,675,0,0,1,-206.3689834678325,642.6794244897322L-137.57932231188832,428.4529496598215A450,450,0,0,0,-127.68276984170001,431.5056318120906Z\" style=\"stroke: #fff; fill: #ff7f0e; fill-rule: evenodd;\"></path><path d=\"M-206.3689834678325,642.6794244897322A675,675,0,0,1,-221.1045022228261,637.7599854935995L-147.40300148188408,425.1733236623997A450,450,0,0,0,-137.57932231188832,428.4529496598215Z\" style=\"stroke: #fff; fill: #ffbb78; fill-rule: evenodd;\"></path><path d=\"M-221.1045022228261,637.7599854935995A675,675,0,0,1,-235.72290588745798,632.5027364683671L-157.14860392497198,421.6684909789114A450,450,0,0,0,-147.40300148188408,425.1733236623997Z\" style=\"stroke: #fff; fill: #2ca02c; fill-rule: evenodd;\"></path><path d=\"M-250.21645135541962,626.9104620845794A675,675,0,0,1,-264.57746165554977,620.9861244697067L-176.38497443703318,413.99074964647116A450,450,0,0,0,-166.81096757027976,417.9403080563863Z\" style=\"stroke: #fff; fill: #98df8a; fill-rule: evenodd;\"></path><path d=\"M-278.79833001818935,614.7328616391585A675,675,0,0,1,-292.8715239043506,608.1539858341334L-195.2476826029004,405.43599055608894A450,450,0,0,0,-185.86555334545957,409.821907759439Z\" style=\"stroke: #fff; fill: #d62728; fill-rule: evenodd;\"></path><path d=\"M-292.8715239043506,608.1539858341334A675,675,0,0,1,-306.78958899556886,601.2529817671842L-204.52639266371258,400.8353211781228A450,450,0,0,0,-195.2476826029004,405.43599055608894Z\" style=\"stroke: #fff; fill: #ff9896; fill-rule: evenodd;\"></path><path d=\"M-306.78958899556886,601.2529817671842A675,675,0,0,1,-320.54515314232,594.0335047764281L-213.69676876154662,396.0223365176188A450,450,0,0,0,-204.52639266371258,400.8353211781228Z\" style=\"stroke: #fff; fill: #9467bd; fill-rule: evenodd;\"></path><path d=\"M-334.1309302689164,586.49937888938A675,675,0,0,1,-347.5397242328108,578.6545947974334L-231.69314948854054,385.7697298649556A450,450,0,0,0,-222.75395351261093,390.9995859262533Z\" style=\"stroke: #fff; fill: #c5b0d5; fill-rule: evenodd;\"></path><path d=\"M-360.7644326362645,570.5033077420622A675,675,0,0,1,-373.7980505883586,562.0498353138652L-249.19870039223906,374.6998902092434A450,450,0,0,0,-240.50962175750965,380.33553849470815Z\" style=\"stroke: #fff; fill: #8c564b; fill-rule: evenodd;\"></path><path d=\"M-373.7980505883586,562.0498353138652A675,675,0,0,1,-386.63367441536036,553.298655165614L-257.7557829435736,368.86577011040936A450,450,0,0,0,-249.19870039223906,374.6998902092434Z\" style=\"stroke: #fff; fill: #c49c94; fill-rule: evenodd;\"></path><path d=\"M-386.63367441536036,553.298655165614A675,675,0,0,1,-399.2645053174751,544.2544026405225L-266.1763368783167,362.836268427015A450,450,0,0,0,-257.7557829435736,368.86577011040936Z\" style=\"stroke: #fff; fill: #e377c2; fill-rule: evenodd;\"></path><path d=\"M-411.6838529700478,534.9218683169871A675,675,0,0,1,-423.88513906731,525.3059954711038L-282.59009271153997,350.20399698073584A450,450,0,0,0,-274.45590198003185,356.6145788779914Z\" style=\"stroke: #fff; fill: #f7b6d2; fill-rule: evenodd;\"></path><path d=\"M-423.88513906731,525.3059954711038A675,675,0,0,1,-435.86190080678807,515.4118774583038L-290.5746005378587,343.6079183055359A450,450,0,0,0,-282.59009271153997,350.20399698073584Z\" style=\"stroke: #fff; fill: #7f7f7f; fill-rule: evenodd;\"></path><path d=\"M-435.86190080678807,515.4118774583038A675,675,0,0,1,-447.6077943125355,505.2447550154944L-298.405196208357,336.82983667699625A450,450,0,0,0,-290.5746005378587,343.6079183055359Z\" style=\"stroke: #fff; fill: #c7c7c7; fill-rule: evenodd;\"></path><path d=\"M-459.11659799536915,494.81001348513405A675,675,0,0,1,-470.38221584833474,484.11317996271345L-313.5881438988898,322.7421199751423A450,450,0,0,0,-306.07773199691275,329.8733423234227Z\" style=\"stroke: #fff; fill: #bcbd22; fill-rule: evenodd;\"></path><path d=\"M-470.38221584833474,484.11317996271345A675,675,0,0,1,-481.3986806756512,473.15992036915225L-320.9324537837674,315.43994691276816A450,450,0,0,0,-313.5881438988898,322.7421199751423Z\" style=\"stroke: #fff; fill: #dbdb8d; fill-rule: evenodd;\"></path><path d=\"M-481.3986806756512,473.15992036915225A675,675,0,0,1,-492.16015725342754,461.9560364496621L-328.106771502285,307.9706909664414A450,450,0,0,0,-320.9324537837674,315.43994691276816Z\" style=\"stroke: #fff; fill: #17becf; fill-rule: evenodd;\"></path><path d=\"M-492.16015725342754,461.9560364496621A675,675,0,0,1,-502.66094542047676,450.50746270066657L-335.1072969469845,300.33830846711106A450,450,0,0,0,-328.106771502285,307.9706909664414Z\" style=\"stroke: #fff; fill: #9edae5; fill-rule: evenodd;\"></path><path d=\"M-502.66094542047676,450.50746270066657A675,675,0,0,1,-512.8954830975892,438.820263226404L-341.9303220650595,292.546842150936A450,450,0,0,0,-335.1072969469845,300.33830846711106Z\" style=\"stroke: #fff; fill: #1f77b4; fill-rule: evenodd;\"></path><path d=\"M-512.8954830975892,438.820263226404A675,675,0,0,1,-522.8583492336654,426.9006285268813L-348.5722328224436,284.6004190179209A450,450,0,0,0,-341.9303220650595,292.546842150936Z\" style=\"stroke: #fff; fill: #aec7e8; fill-rule: evenodd;\"></path><path d=\"M-522.8583492336654,426.9006285268813A675,675,0,0,1,-532.5442666771501,414.75487221887636L-355.0295111181,276.5032481459176A450,450,0,0,0,-348.5722328224436,284.6004190179209Z\" style=\"stroke: #fff; fill: #ff7f0e; fill-rule: evenodd;\"></path><path d=\"M-532.5442666771501,414.75487221887636A675,675,0,0,1,-541.9481049712444,402.3894276917288L-361.2987366474963,268.25961846115257A450,450,0,0,0,-355.0295111181,276.5032481459176Z\" style=\"stroke: #fff; fill: #ffbb78; fill-rule: evenodd;\"></path><path d=\"M-551.0648830714176,389.8108446996887A675,675,0,0,1,-559.8897719837765,377.02578589262936L-373.2598479891843,251.35052392841956A450,450,0,0,0,-367.3765887142784,259.8738964664591Z\" style=\"stroke: #fff; fill: #2ca02c; fill-rule: evenodd;\"></path><path d=\"M-559.8897719837765,377.02578589262936A675,675,0,0,1,-568.4180973228968,364.04102328696126L-378.9453982152645,242.69401552464083A450,450,0,0,0,-373.2598479891843,251.35052392841956Z\" style=\"stroke: #fff; fill: #98df8a; fill-rule: evenodd;\"></path><path d=\"M-568.4180973228968,364.04102328696126A675,675,0,0,1,-576.6453417877617,350.863434678616L-384.4302278585078,233.90895645241068A450,450,0,0,0,-378.9453982152645,242.69401552464083Z\" style=\"stroke: #fff; fill: #d62728; fill-rule: evenodd;\"></path><path d=\"M-576.6453417877617,350.863434678616A675,675,0,0,1,-584.567147554495,337.5000000000018L-389.7114317029967,225.0000000000012A450,450,0,0,0,-384.4302278585078,233.90895645241068Z\" style=\"stroke: #fff; fill: #ff9896; fill-rule: evenodd;\"></path><path d=\"M-584.567147554495,337.5000000000018A675,675,0,0,1,-592.1793185846224,323.9577976228576L-394.78621238974824,215.97186508190507A450,450,0,0,0,-389.7114317029967,225.0000000000012Z\" style=\"stroke: #fff; fill: #9467bd; fill-rule: evenodd;\"></path><path d=\"M-592.1793185846224,323.9577976228576A675,675,0,0,1,-599.4778228476373,310.2440006089671L-399.6518818984249,206.8293337393114A450,450,0,0,0,-394.78621238974824,215.97186508190507Z\" style=\"stroke: #fff; fill: #c5b0d5; fill-rule: evenodd;\"></path><path d=\"M-606.4587944566961,296.36587291071635A675,675,0,0,1,-613.1185357163081,282.3307655235083L-408.7456904775387,188.22051034900554A450,450,0,0,0,-404.3058629711307,197.5772486071442Z\" style=\"stroke: #fff; fill: #8c564b; fill-rule: evenodd;\"></path><path d=\"M-613.1185357163081,282.3307655235083A675,675,0,0,1,-619.4535190809391,268.14611259207265L-412.9690127206261,178.76407506138176A450,450,0,0,0,-408.7456904775387,188.22051034900554Z\" style=\"stroke: #fff; fill: #c49c94; fill-rule: evenodd;\"></path><path d=\"M-625.4603890234891,253.81942747273226A675,675,0,0,1,-631.1359638126544,239.35829875371337L-420.7573092084362,159.57219916914227A450,450,0,0,0,-416.9735926823261,169.21295164848817Z\" style=\"stroke: #fff; fill: #e377c2; fill-rule: evenodd;\"></path><path d=\"M-631.1359638126544,239.35829875371337A675,675,0,0,1,-636.4772371982334,224.77038623560634L-424.31815813215565,149.8469241570709A450,450,0,0,0,-420.7573092084362,159.57219916914227Z\" style=\"stroke: #fff; fill: #f7b6d2; fill-rule: evenodd;\"></path><path d=\"M-636.4772371982334,224.77038623560634A675,675,0,0,1,-641.4813800034848,210.06341687410665L-427.65425333565656,140.0422779160711A450,450,0,0,0,-424.31815813215565,149.8469241570709Z\" style=\"stroke: #fff; fill: #7f7f7f; fill-rule: evenodd;\"></path><path d=\"M-641.4813800034848,210.06341687410665A675,675,0,0,1,-646.1457416236901,195.245180687185L-430.76382774912673,130.16345379145667A450,450,0,0,0,-427.65425333565656,140.0422779160711Z\" style=\"stroke: #fff; fill: #c7c7c7; fill-rule: evenodd;\"></path><path d=\"M-646.1457416236901,195.245180687185A675,675,0,0,1,-650.4678514301323,180.32352662885498L-433.6452342867549,120.21568441923664A450,450,0,0,0,-430.76382774912673,130.16345379145667Z\" style=\"stroke: #fff; fill: #bcbd22; fill-rule: evenodd;\"></path><path d=\"M-650.4678514301323,180.32352662885498A675,675,0,0,1,-654.4454200787438,165.30635843172067L-436.2969467191626,110.20423895448043A450,450,0,0,0,-433.6452342867549,120.21568441923664Z\" style=\"stroke: #fff; fill: #dbdb8d; fill-rule: evenodd;\"></path><path d=\"M-658.0763407227305,150.20163042051405A675,675,0,0,1,-661.3586901285303,135.0173432988318L-440.9057934190202,90.0115621992212A450,450,0,0,0,-438.7175604818203,100.1344202803427Z\" style=\"stroke: #fff; fill: #17becf; fill-rule: evenodd;\"></path><path d=\"M-661.3586901285303,135.0173432988318A675,675,0,0,1,-664.2907296945166,119.76153991130317L-442.86048646301106,79.84102660753545A450,450,0,0,0,-440.9057934190202,90.0115621992212Z\" style=\"stroke: #fff; fill: #9edae5; fill-rule: evenodd;\"></path><path d=\"M-666.8709063719035,104.44230098344164A675,675,0,0,1,-669.0978534873684,89.06774084142965L-446.0652356582456,59.37849389428644A450,450,0,0,0,-444.5806042479357,69.62820065562777Z\" style=\"stroke: #fff; fill: #1f77b4; fill-rule: evenodd;\"></path><path d=\"M-670.9703914669541,73.64600311410304A675,675,0,0,1,-672.4875284608677,58.185256419420476L-448.32501897391177,38.79017094628032A450,450,0,0,0,-447.3135943113027,49.09733540940203Z\" style=\"stroke: #fff; fill: #aec7e8; fill-rule: evenodd;\"></path><path d=\"M-673.6484608688463,42.693690037690565A675,675,0,0,1,-674.4525737658093,27.17950957385758L-449.63504917720627,18.119673049238386A450,450,0,0,0,-449.09897391256425,28.462460025127044Z\" style=\"stroke: #fff; fill: #ff7f0e; fill-rule: evenodd;\"></path><path d=\"M-674.8994412275733,11.650932611139577A675,675,0,0,1,-674.9888265564559,-3.88381564167804L-449.9925510376373,-2.58921042778536A450,450,0,0,0,-449.9329608183822,7.767288407426385Z\" style=\"stroke: #fff; fill: #ffbb78; fill-rule: evenodd;\"></path><path d=\"M-674.7206824066516,-19.41650670698817A675,675,0,0,1,-674.095150809308,-34.93891319683904L-449.39676720620537,-23.292608797892694A450,450,0,0,0,-449.81378827110103,-12.94433780465878Z\" style=\"stroke: #fff; fill: #2ca02c; fill-rule: evenodd;\"></path><path d=\"M-673.1125630972969,-50.442813170833496A675,675,0,0,1,-671.7734397297107,-65.91999449114581L-447.8489598198072,-43.94666299409721A450,450,0,0,0,-448.7417087315312,-33.628542113889Z\" style=\"stroke: #fff; fill: #98df8a; fill-rule: evenodd;\"></path><path d=\"M-670.0784900161868,-81.36225917234023A675,675,0,0,1,-668.0286117411973,-96.76142772369928L-445.3524078274649,-64.50761848246619A450,450,0,0,0,-446.71899334412456,-54.24150611489348Z\" style=\"stroke: #fff; fill: #d62728; fill-rule: evenodd;\"></path><path d=\"M-665.6248906885096,-112.10934348175273A675,675,0,0,1,-662.868600066066,-127.39787693071601L-441.91240004404403,-84.93191795381067A450,450,0,0,0,-443.7499271256731,-74.73956232116849Z\" style=\"stroke: #fff; fill: #ff9896; fill-rule: evenodd;\"></path><path d=\"M-659.761199831588,-142.6189300085489A675,675,0,0,1,-656.3043359192634,-157.76444039635382L-437.5362239461756,-105.17629359756921A450,450,0,0,0,-439.8407998877253,-95.07928667236592Z\" style=\"stroke: #fff; fill: #9467bd; fill-rule: evenodd;\"></path><path d=\"M-652.4998393679241,-172.82638578884107A675,675,0,0,1,-648.3497253511772,-187.7967881436023L-432.23315023411817,-125.19785876240154A450,450,0,0,0,-434.99989291194936,-115.21759052589405Z\" style=\"stroke: #fff; fill: #c5b0d5; fill-rule: evenodd;\"></path><path d=\"M-643.856192110005,-202.6677179069332A675,675,0,0,1,-639.0216197883951,-217.43129821397804L-426.0144131922634,-144.95419880931868A450,450,0,0,0,-429.23746140667004,-135.11181193795548Z\" style=\"stroke: #fff; fill: #8c564b; fill-rule: evenodd;\"></path><path d=\"M-633.8485691726208,-232.07970906096332A675,675,0,0,1,-628.339780334839,-246.6051914473136L-418.8931868898927,-164.4034609648757A450,450,0,0,0,-422.5657127817472,-154.71980604064223Z\" style=\"stroke: #fff; fill: #c49c94; fill-rule: evenodd;\"></path><path d=\"M-622.4981711817233,-261.0000514854547A675,675,0,0,1,-616.3268359089,-275.25666447612844L-410.8845572726,-183.5044429840856A450,450,0,0,0,-414.99878078781546,-174.00003432363647Z\" style=\"stroke: #fff; fill: #e377c2; fill-rule: evenodd;\"></path><path d=\"M-609.8290433620094,-289.36747894705866A675,675,0,0,1,-603.0082353052568,-303.32502065283046L-402.00549020350456,-202.2166804352203A450,450,0,0,0,-406.55269557467295,-192.91165263137242Z\" style=\"stroke: #fff; fill: #f7b6d2; fill-rule: evenodd;\"></path><path d=\"M-603.0082353052568,-303.32502065283046A675,675,0,0,1,-595.8680245983702,-317.12189653386605L-397.24534973224684,-211.41459768924403A450,450,0,0,0,-402.00549020350456,-202.2166804352203Z\" style=\"stroke: #fff; fill: #7f7f7f; fill-rule: evenodd;\"></path><path d=\"M-595.8680245983702,-317.12189653386605A675,675,0,0,1,-588.4121932829354,-330.75079863239256L-392.27479552195695,-220.50053242159504A450,450,0,0,0,-397.24534973224684,-211.41459768924403Z\" style=\"stroke: #fff; fill: #c7c7c7; fill-rule: evenodd;\"></path><path d=\"M-588.4121932829354,-330.75079863239256A675,675,0,0,1,-580.6446905791149,-344.2045079633385L-387.09646038607656,-229.469671975559A450,450,0,0,0,-392.27479552195695,-220.50053242159504Z\" style=\"stroke: #fff; fill: #bcbd22; fill-rule: evenodd;\"></path><path d=\"M-580.6446905791149,-344.2045079633385A675,675,0,0,1,-572.5696307938174,-357.47589833809997L-381.7130871958783,-238.3172655587333A450,450,0,0,0,-387.09646038607656,-229.469671975559Z\" style=\"stroke: #fff; fill: #dbdb8d; fill-rule: evenodd;\"></path><path d=\"M-572.5696307938174,-357.47589833809997A675,675,0,0,1,-564.1912911414232,-370.5579401391553L-376.12752742761546,-247.03862675943685A450,450,0,0,0,-381.7130871958783,-238.3172655587333Z\" style=\"stroke: #fff; fill: #17becf; fill-rule: evenodd;\"></path><path d=\"M-564.1912911414232,-370.5579401391553A675,675,0,0,1,-555.5141094782202,-383.4437040435271L-370.3427396521468,-255.62913602901807A450,450,0,0,0,-376.12752742761546,-247.03862675943685Z\" style=\"stroke: #fff; fill: #9edae5; fill-rule: evenodd;\"></path><path d=\"M-546.5426819517509,-396.12636469312065A675,675,0,0,1,-537.281760566316,-408.5992043099936L-358.18784037754403,-272.3994695399957A450,450,0,0,0,-364.36178796783395,-264.08424312874706Z\" style=\"stroke: #fff; fill: #1f77b4; fill-rule: evenodd;\"></path><path d=\"M-537.281760566316,-408.5992043099936A675,675,0,0,1,-527.7362506659224,-420.85561625464226L-351.82416711061495,-280.57041083642815A450,450,0,0,0,-358.18784037754403,-272.3994695399957Z\" style=\"stroke: #fff; fill: #aec7e8; fill-rule: evenodd;\"></path><path d=\"M-527.7362506659224,-420.85561625464226A675,675,0,0,1,-517.9112083360106,-432.8891085254206L-345.2741388906738,-288.59273901694706A450,450,0,0,0,-351.82416711061495,-280.57041083642815Z\" style=\"stroke: #fff; fill: #ff7f0e; fill-rule: evenodd;\"></path><path d=\"M-507.81183772533717,-444.6933071972366A675,675,0,0,1,-497.4434882894298,-456.26195979770654L-331.6289921929532,-304.1746398651377A450,450,0,0,0,-338.54122515022476,-296.4622047981577Z\" style=\"stroke: #fff; fill: #ffbb78; fill-rule: evenodd;\"></path><path d=\"M-486.8116519570773,-467.58893861897695A675,675,0,0,1,-475.92196022135323,-478.6682439634623L-317.2813068142355,-319.1121626423082A450,450,0,0,0,-324.5411013047182,-311.725959079318Z\" style=\"stroke: #fff; fill: #2ca02c; fill-rule: evenodd;\"></path><path d=\"M-475.92196022135323,-478.6682439634623A675,675,0,0,1,-464.78018115671506,-489.4940073217762L-309.8534541044767,-326.3293382145175A450,450,0,0,0,-317.2813068142355,-319.1121626423082Z\" style=\"stroke: #fff; fill: #98df8a; fill-rule: evenodd;\"></path><path d=\"M-453.39221636375737,-500.0604944811776A675,675,0,0,1,-441.7640978432418,-510.3621085628778L-294.5093985621612,-340.2414057085852A450,450,0,0,0,-302.2614775758382,-333.3736629874517Z\" style=\"stroke: #fff; fill: #d62728; fill-rule: evenodd;\"></path><path d=\"M-429.9019848010534,-520.3933929866085A675,675,0,0,1,-417.8121603857796,-530.1490343608745L-278.5414402571864,-353.43268957391626A450,450,0,0,0,-286.60132320070227,-346.92892865773905Z\" style=\"stroke: #fff; fill: #ff9896; fill-rule: evenodd;\"></path><path d=\"M-405.50102836063905,-539.6238652973608A675,675,0,0,1,-392.9751097115236,-548.8128671480071L-261.98340647434907,-365.87524476533804A450,450,0,0,0,-270.33401890709274,-359.7492435315739Z\" style=\"stroke: #fff; fill: #9467bd; fill-rule: evenodd;\"></path><path d=\"M-380.2410391929483,-557.7111726632943A675,675,0,0,1,-367.30556181374135,-566.31406857034L-244.87037454249423,-377.5427123802267A450,450,0,0,0,-253.49402612863219,-371.8074484421962Z\" style=\"stroke: #fff; fill: #c5b0d5; fill-rule: evenodd;\"></path><path d=\"M-354.1755292643344,-574.6169980694347A675,675,0,0,1,-340.8578962875426,-582.6155632476967L-227.23859752502838,-388.4103754984645A450,450,0,0,0,-236.11701950955626,-383.0779987129564Z\" style=\"stroke: #fff; fill: #8c564b; fill-rule: evenodd;\"></path><path d=\"M-327.35971699476534,-590.3055274085676A675,675,0,0,1,-313.6881411295479,-597.6828173159145L-209.12542741969858,-398.455211543943A450,450,0,0,0,-218.23981132984355,-393.5370182723784Z\" style=\"stroke: #fff; fill: #c49c94; fill-rule: evenodd;\"></path><path d=\"M-299.8504102804908,-604.7435253515505A675,675,0,0,1,-285.85385404551045,-611.4839115850293L-190.5692360303403,-407.65594105668623A450,450,0,0,0,-199.9002735203272,-403.16235023436695Z\" style=\"stroke: #fff; fill: #e377c2; fill-rule: evenodd;\"></path><text transform=\"rotate(-80.76923076923077)\" x=\"225\" dx=\"-6\" dy=\".35em\" text-anchor=\"end\" class=\"monospace\">subscriptions.module</text><text transform=\"rotate(-66.26373626373626)\" x=\"225\" dx=\"-6\" dy=\".35em\" text-anchor=\"end\" class=\"monospace\">auth.module</text><text transform=\"rotate(-54.3956043956044)\" x=\"225\" dx=\"-6\" dy=\".35em\" text-anchor=\"end\" class=\"monospace\">order-tracker.module</text><text transform=\"rotate(-37.91208791208792)\" x=\"225\" dx=\"-6\" dy=\".35em\" text-anchor=\"end\" class=\"monospace\">products.module</text><text transform=\"rotate(-24.725274725274723)\" x=\"225\" dx=\"-6\" dy=\".35em\" text-anchor=\"end\" class=\"monospace\">trial.module</text><text transform=\"rotate(-16.813186813186817)\" x=\"225\" dx=\"-6\" dy=\".35em\" text-anchor=\"end\" class=\"monospace\">subscriptions.routing</text><text transform=\"rotate(-10.219780219780217)\" x=\"225\" dx=\"-6\" dy=\".35em\" text-anchor=\"end\" class=\"monospace\">main</text><text transform=\"rotate(-4.945054945054962)\" x=\"225\" dx=\"-6\" dy=\".35em\" text-anchor=\"end\" class=\"monospace\">app.module</text><text transform=\"rotate(1.6483516483516372)\" x=\"225\" dx=\"-6\" dy=\".35em\" text-anchor=\"end\" class=\"monospace\">auth.routing</text><text transform=\"rotate(11.538461538461512)\" x=\"225\" dx=\"-6\" dy=\".35em\" text-anchor=\"end\" class=\"monospace\">layout.module</text><text transform=\"rotate(21.428571428571384)\" x=\"225\" dx=\"-6\" dy=\".35em\" text-anchor=\"end\" class=\"monospace\">login-embed.component</text><text transform=\"rotate(32.63736263736261)\" x=\"225\" dx=\"-6\" dy=\".35em\" text-anchor=\"end\" class=\"monospace\">core.module</text><text transform=\"rotate(41.86813186813185)\" x=\"225\" dx=\"-6\" dy=\".35em\" text-anchor=\"end\" class=\"monospace\">trial.routing</text><text transform=\"rotate(46.48351648351644)\" x=\"225\" dx=\"-6\" dy=\".35em\" text-anchor=\"end\" class=\"monospace\">trial.component</text><text transform=\"rotate(54.395604395604366)\" x=\"225\" dx=\"-6\" dy=\".35em\" text-anchor=\"end\" class=\"monospace\">billing.component</text><text transform=\"rotate(64.94505494505492)\" x=\"225\" dx=\"-6\" dy=\".35em\" text-anchor=\"end\" class=\"monospace\">confirm.component</text><text transform=\"rotate(77.47252747252743)\" x=\"225\" dx=\"-6\" dy=\".35em\" text-anchor=\"end\" class=\"monospace\">trial.service</text><text transform=\"rotate(88.021978021978)\" x=\"225\" dx=\"-6\" dy=\".35em\" text-anchor=\"end\" class=\"monospace\">login.component</text><text transform=\"rotate(93.9560439560439)\" x=\"225\" dx=\"-6\" dy=\".35em\" text-anchor=\"end\" class=\"monospace\">forgot-password.component</text><text transform=\"rotate(97.91208791208784)\" x=\"225\" dx=\"-6\" dy=\".35em\" text-anchor=\"end\" class=\"monospace\">reset-password.component</text><text transform=\"rotate(103.18681318681314)\" x=\"225\" dx=\"-6\" dy=\".35em\" text-anchor=\"end\" class=\"monospace\">breadcrumb.component</text><text transform=\"rotate(109.12087912087907)\" x=\"225\" dx=\"-6\" dy=\".35em\" text-anchor=\"end\" class=\"monospace\">subtotal-actions.component</text><text transform=\"rotate(113.076923076923)\" x=\"225\" dx=\"-6\" dy=\".35em\" text-anchor=\"end\" class=\"monospace\">account-links.component</text><text transform=\"rotate(117.03296703296694)\" x=\"225\" dx=\"-6\" dy=\".35em\" text-anchor=\"end\" class=\"monospace\">subtotal-total.component</text><text transform=\"rotate(120.98901098901086)\" x=\"225\" dx=\"-6\" dy=\".35em\" text-anchor=\"end\" class=\"monospace\">logout.component</text><text transform=\"rotate(124.94505494505482)\" x=\"225\" dx=\"-6\" dy=\".35em\" text-anchor=\"end\" class=\"monospace\">cart.component</text><text transform=\"rotate(130.2197802197801)\" x=\"225\" dx=\"-6\" dy=\".35em\" text-anchor=\"end\" class=\"monospace\">subtotal-lineitems.component</text><text transform=\"rotate(138.79120879120862)\" x=\"225\" dx=\"-6\" dy=\".35em\" text-anchor=\"end\" class=\"monospace\">billing.service</text><text transform=\"rotate(149.3406593406592)\" x=\"225\" dx=\"-6\" dy=\".35em\" text-anchor=\"end\" class=\"monospace\">user.service</text><text transform=\"rotate(155.9340659340658)\" x=\"225\" dx=\"-6\" dy=\".35em\" text-anchor=\"end\" class=\"monospace\">primary-product.component</text><text transform=\"rotate(162.52747252747236)\" x=\"225\" dx=\"-6\" dy=\".35em\" text-anchor=\"end\" class=\"monospace\">auth.service</text><text transform=\"rotate(169.12087912087895)\" x=\"225\" dx=\"-6\" dy=\".35em\" text-anchor=\"end\" class=\"monospace\">subtotal.component</text><text transform=\"rotate(172.41758241758222)\" x=\"225\" dx=\"-6\" dy=\".35em\" text-anchor=\"end\" class=\"monospace\">act-emarketing-basic.component</text><text transform=\"rotate(175.05494505494485)\" x=\"225\" dx=\"-6\" dy=\".35em\" text-anchor=\"end\" class=\"monospace\">act-terms.component</text><text transform=\"rotate(177.6923076923075)\" x=\"225\" dx=\"-6\" dy=\".35em\" text-anchor=\"end\" class=\"monospace\">support.component</text><text transform=\"rotate(180.32967032967014)\" x=\"225\" dx=\"-6\" dy=\".35em\" text-anchor=\"end\" class=\"monospace\">standard-support.component</text><text transform=\"rotate(182.9670329670328)\" x=\"225\" dx=\"-6\" dy=\".35em\" text-anchor=\"end\" class=\"monospace\">handheld-contact-upgrade.component</text><text transform=\"rotate(185.6043956043954)\" x=\"225\" dx=\"-6\" dy=\".35em\" text-anchor=\"end\" class=\"monospace\">act-tiles.component</text><text transform=\"rotate(188.24175824175802)\" x=\"225\" dx=\"-6\" dy=\".35em\" text-anchor=\"end\" class=\"monospace\">primary-product-upgrade.component</text><text transform=\"rotate(190.87912087912065)\" x=\"225\" dx=\"-6\" dy=\".35em\" text-anchor=\"end\" class=\"monospace\">support.component</text><text transform=\"rotate(193.51648351648328)\" x=\"225\" dx=\"-6\" dy=\".35em\" text-anchor=\"end\" class=\"monospace\">act-emarketing-upgrade.component</text><text transform=\"rotate(196.1538461538459)\" x=\"225\" dx=\"-6\" dy=\".35em\" text-anchor=\"end\" class=\"monospace\">act-emarketing-contacts.component</text><text transform=\"rotate(198.79120879120853)\" x=\"225\" dx=\"-6\" dy=\".35em\" text-anchor=\"end\" class=\"monospace\">handheld-contact.component</text><text transform=\"rotate(201.42857142857116)\" x=\"225\" dx=\"-6\" dy=\".35em\" text-anchor=\"end\" class=\"monospace\">act-emarketing-calllist.component</text><text transform=\"rotate(204.0659340659338)\" x=\"225\" dx=\"-6\" dy=\".35em\" text-anchor=\"end\" class=\"monospace\">act-emarketing-calllist-upgrade.component</text><text transform=\"rotate(210.6593406593404)\" x=\"225\" dx=\"-6\" dy=\".35em\" text-anchor=\"end\" class=\"monospace\">product-catalog.service</text><text transform=\"rotate(218.57142857142827)\" x=\"225\" dx=\"-6\" dy=\".35em\" text-anchor=\"end\" class=\"monospace\">auth-stubs</text><text transform=\"rotate(222.5274725274722)\" x=\"225\" dx=\"-6\" dy=\".35em\" text-anchor=\"end\" class=\"monospace\">order-tracker.component</text><text transform=\"rotate(225.8241758241755)\" x=\"225\" dx=\"-6\" dy=\".35em\" text-anchor=\"end\" class=\"monospace\">auth.manager</text><text transform=\"rotate(229.12087912087878)\" x=\"225\" dx=\"-6\" dy=\".35em\" text-anchor=\"end\" class=\"monospace\">register-form.component</text><text transform=\"rotate(231.7582417582414)\" x=\"225\" dx=\"-6\" dy=\".35em\" text-anchor=\"end\" class=\"monospace\">layout.routing</text><text transform=\"rotate(234.39560439560404)\" x=\"225\" dx=\"-6\" dy=\".35em\" text-anchor=\"end\" class=\"monospace\">app.component</text><text transform=\"rotate(237.03296703296672)\" x=\"225\" dx=\"-6\" dy=\".35em\" text-anchor=\"end\" class=\"monospace\">mailgun-validate.service</text><text transform=\"rotate(239.6703296703293)\" x=\"225\" dx=\"-6\" dy=\".35em\" text-anchor=\"end\" class=\"monospace\">layout.component</text><text transform=\"rotate(242.30769230769192)\" x=\"225\" dx=\"-6\" dy=\".35em\" text-anchor=\"end\" class=\"monospace\">line-item.component</text><text transform=\"rotate(244.94505494505455)\" x=\"225\" dx=\"-6\" dy=\".35em\" text-anchor=\"end\" class=\"monospace\">language.component</text><text transform=\"rotate(246.92307692307654)\" x=\"225\" dx=\"-6\" dy=\".35em\" text-anchor=\"end\" class=\"monospace\">menu.component</text><text transform=\"rotate(248.24175824175785)\" x=\"225\" dx=\"-6\" dy=\".35em\" text-anchor=\"end\" class=\"monospace\">confirmation-analytics.component</text><text transform=\"rotate(249.56043956043916)\" x=\"225\" dx=\"-6\" dy=\".35em\" text-anchor=\"end\" class=\"monospace\">layout.service</text><text transform=\"rotate(250.87912087912048)\" x=\"225\" dx=\"-6\" dy=\".35em\" text-anchor=\"end\" class=\"monospace\">product-model</text><text transform=\"rotate(252.1978021978018)\" x=\"225\" dx=\"-6\" dy=\".35em\" text-anchor=\"end\" class=\"monospace\">footer.component</text><text transform=\"rotate(253.51648351648313)\" x=\"225\" dx=\"-6\" dy=\".35em\" text-anchor=\"end\" class=\"monospace\">act-emarketing-dialog.component</text><text transform=\"rotate(254.83516483516436)\" x=\"225\" dx=\"-6\" dy=\".35em\" text-anchor=\"end\" class=\"monospace\">dialog-guard</text><text transform=\"rotate(256.15384615384573)\" x=\"225\" dx=\"-6\" dy=\".35em\" text-anchor=\"end\" class=\"monospace\">small-footer.component</text><text transform=\"rotate(257.472527472527)\" x=\"225\" dx=\"-6\" dy=\".35em\" text-anchor=\"end\" class=\"monospace\">log.service</text><text transform=\"rotate(258.79120879120836)\" x=\"225\" dx=\"-6\" dy=\".35em\" text-anchor=\"end\" class=\"monospace\">not-found.component</text><text transform=\"rotate(260.10989010988965)\" x=\"225\" dx=\"-6\" dy=\".35em\" text-anchor=\"end\" class=\"monospace\">number-picker.component</text><text transform=\"rotate(261.428571428571)\" x=\"225\" dx=\"-6\" dy=\".35em\" text-anchor=\"end\" class=\"monospace\">auth-guard</text><text transform=\"rotate(262.7472527472523)\" x=\"225\" dx=\"-6\" dy=\".35em\" text-anchor=\"end\" class=\"monospace\">translate-stubs</text><text transform=\"rotate(264.0659340659337)\" x=\"225\" dx=\"-6\" dy=\".35em\" text-anchor=\"end\" class=\"monospace\">log-stubs</text><text transform=\"rotate(265.3846153846149)\" x=\"225\" dx=\"-6\" dy=\".35em\" text-anchor=\"end\" class=\"monospace\">order-tracker.config</text><text transform=\"rotate(266.70329670329625)\" x=\"225\" dx=\"-6\" dy=\".35em\" text-anchor=\"end\" class=\"monospace\">app.routing</text><text transform=\"rotate(268.02197802197753)\" x=\"225\" dx=\"-6\" dy=\".35em\" text-anchor=\"end\" class=\"monospace\">toolbar.component</text></g></svg>"
      ]
     },
     "execution_count": 1,
     "metadata": {},
     "output_type": "execute_result"
    }
   ],
   "source": [
    "// TODO: create a gulp stream angular component out of it\r",
    "// TODO: connect with gulp-git https://www.npmjs.com/package/gulp-git\r",
    "// install https://github.com/Automattic/node-canvas/wiki/installation---osx\r",
    "// install using brew install pkg-config fontconfig cairo pixman giflib libjpeg libpng\r",
    "var path = require('path');\n",
    "var importer = require('../Core');\r",
    "\r",
    "var PROFILE_PATH = process.env.HOME || process.env.HOMEPATH || process.env.USERPROFILE;\r",
    "var project = PROFILE_PATH + '/Documents/portal';\r",
    "\r",
    "$$.async()\n",
    "importer.import('file system.ipynb[project d3 tree]')\r",
    "    .then(projectTree => projectTree(project))\r",
    "    .then(svg => $$.svg(svg))\r",
    "    .catch(e => $$.sendError(e))\r"
   ]
  },
  {
   "cell_type": "markdown",
   "metadata": {},
   "source": [
    "Find similar filename in project?\n",
    "\n"
   ]
  },
  {
   "cell_type": "code",
   "execution_count": null,
   "metadata": {},
   "outputs": [],
   "source": [
    "var glob = require('glob');\r",
    "var findSimilarFile = (base, project) => {\r",
    "    return new Promise((resolve, reject) => {\r",
    "        var searchStrings = '**/' + base + '.ts';\r",
    "        console.log('Search for ' + searchStrings);\r",
    "        glob(searchStrings, {\n",
    "            ignore: ['**/node_modules/**'],\n",
    "            cwd: project\n",
    "        }, function (err, matches) {\r",
    "            var isEmpty = matches.length == 0;\r",
    "            if (err) {\r",
    "                return reject(err);\r",
    "            } else if (isEmpty) {\r",
    "                console.log('No matches for ' + searchStrings)\r",
    "                return resolve();\r",
    "            }\r",
    "\r",
    "            // TODO: try to build and make sure it works before patching\r",
    "            resolve(matches[0].replace('.ts', ''));\r",
    "        });\r",
    "    });\r",
    "};\r",
    "module.exports = findSimilarFile;\r",
    "findSimilarFile;\r",
    "\r"
   ]
  },
  {
   "cell_type": "markdown",
   "metadata": {},
   "source": [
    "Fix project paths?\n",
    "\n"
   ]
  },
  {
   "cell_type": "code",
   "execution_count": 6,
   "metadata": {},
   "outputs": [
    {
     "data": {
      "text/plain": [
       "[Function: projectRelatives]"
      ]
     },
     "execution_count": 6,
     "metadata": {},
     "output_type": "execute_result"
    }
   ],
   "source": [
    "var importer = require('../Core');\r",
    "var path = require('path');\r",
    "var gulp = require('gulp');\r",
    "var tap = require('gulp-tap');\r",
    "var replace = require('gulp-replace');\r",
    "\r",
    "// list all broken references in modules?\r",
    "var tasksToPromise, findSimilarFile;\r",
    "var projectRelatives = (project) => {\r",
    "    var missing, missingPackages;\r",
    "\r",
    "    var fixRelative = (m, match) => {\r",
    "        if (typeof m === 'undefined') {\r",
    "            return;\r",
    "        }\r",
    "        var file = m.split('.ts/')[0] + '.ts';\r",
    "        var fromPath = m.split('.ts/')[1];\r",
    "        var newRelative = path.relative(path.dirname(file), path.join(project, match));\r",
    "        gulp.task('fix include', function () {\r",
    "            var fixFile = path.relative(project, file);\r",
    "            console.log('Replacing ' + fromPath + ' -> ' + newRelative + ' in ' + fixFile)\r",
    "            return gulp.src(['**/' + fixFile], {cwd: project})\r",
    "                .pipe(replace(fromPath, newRelative))\r",
    "                .pipe(gulp.dest(project));\r",
    "        });\r",
    "\r",
    "        return tasksToPromise(['fix include'], []);\r",
    "    };\r",
    "\r",
    "    var uniqueArray = (arr) => arr.filter((value, index, array) => array.indexOf(value, index + 1) < 0);\r",
    "\r",
    "    gulp.task('add packages', function () {\r",
    "        var toAdd = '';\r",
    "        return gulp.src('package.json', {cwd: project})\r",
    "            .pipe(tap(file => {\r",
    "                // TODO: resolve using existing package.json from another project?  This method of using the import isn't going to go far, how does NPM do this?\r",
    "                // Possible to search for top two directories? @angular/material versus angular2-jwt versus zone.js/dist/zone\r",
    "                var content = file.contents.toString();\r",
    "                missingPackages.map(p => p.split('.ts/')[1].forEach(m => {\r",
    "                    if (content.indexOf(m) === -1) {\r",
    "                        toAdd += '\"' + m + '\": \"latest\",'\r",
    "                    }\r",
    "                }));\r",
    "                if (toAdd !== '') {\r",
    "                    console.log('Adding ' + toAdd);\r",
    "                    file.contents = new Buffer(content.replace(/\"dependencies\"\\s*:\\s*\\{/ig, (m) => m + toAdd));\r",
    "                }\r",
    "            }))\r",
    "            .pipe(gulp.dest(project));\r",
    "    });\r",
    "\r",
    "    return importer.import([\r",
    "        'relative paths and includes',\r",
    "        'task to promise',\r",
    "        'similar filename in project'\r",
    "    ], {gulp})\r",
    "        .then(r => {\r",
    "            tasksToPromise = r[1];\r",
    "            findSimilarFile = r[2];\r",
    "            return r[0];\r",
    "        })\r",
    "        .then(r => r['getRelativeImports'](project))\r",
    "        .then(r => {\r",
    "            missing = r['missing'];\r",
    "            missingPackages = r['missingPackages'];\r",
    "            return Promise.all(Object.keys(missing).map(k => findSimilarFile(k, project).then(f => {\r",
    "                if (typeof f === 'undefined') {\r",
    "                    return Promise.resolve();\r",
    "                }\r",
    "                return Promise.all(missing[k].map(m => fixRelative(m, f)));\r",
    "            })));\r",
    "        })\r",
    "        .then(r => tasksToPromise(['add packages']));\r",
    "    // TODO: try building with all results resolved\r",
    "    // TODO: create path and apply\r",
    "};\r",
    "module.exports = projectRelatives;\r"
   ]
  },
  {
   "cell_type": "markdown",
   "metadata": {},
   "source": [
    "List files in a project excluding some excessive searches locations?\n",
    "\n"
   ]
  },
  {
   "cell_type": "code",
   "execution_count": null,
   "metadata": {},
   "outputs": [],
   "source": [
    "var glob = require('glob');\r",
    "var path = require('path');\r",
    "\r",
    "// But we also want to automatically load projects?\r",
    "var listInProject = (root, match = '**/package.json') => {\r",
    "    return new Promise((resolve, reject) => {\r",
    "        glob(match, {\r",
    "            ignore: ['**/node_modules/**',\r",
    "                '**/packages/**',\r",
    "                '**/vendor/**',\r",
    "                '/Users/**/Downloads/**',\r",
    "                '/Users/**/Library/**',\r",
    "                '/Users/**/Applications/**',\r",
    "                '/Users/**/Music/**',\r",
    "                '**/wp-content/**',\r",
    "                '**/wp-includes/**',\r",
    "                '**/Pods/**',\r",
    "                '**/svn/**',\r",
    "                '**/.git/**',\r",
    "                '**/.vscode/**',\r",
    "                '**/.npm/**',\r",
    "                '**/\\\\.*',\r",
    "                '**/.*',\r",
    "                '**/Cache/**',\r",
    "                '**/Creative Cloud Files/**'],\r",
    "            cwd: path.resolve(root),\r",
    "            silent: true,\r",
    "            nodir: true,\r",
    "            strict: false\r",
    "        }, (err, matches) => {\r",
    "            if (err) {\r",
    "                return reject(err);\r",
    "            }\r",
    "            return resolve(matches);\r",
    "        });\r",
    "    })\r",
    "        .then(matches => matches.map(m => path.join(root, m)));\r",
    "};\r",
    "module.exports = listInProject;\r",
    "listInProject;\r",
    "\r"
   ]
  },
  {
   "cell_type": "markdown",
   "metadata": {},
   "source": [
    "List projects by name?\n",
    "\n"
   ]
  },
  {
   "cell_type": "code",
   "execution_count": null,
   "metadata": {},
   "outputs": [],
   "source": [
    "// But we also want to automatically load projects?\r",
    "var listProjects = (root, match = '**/package.json') => {\r",
    "    listInProject\r",
    "        .then(matches => matches.forEach(m => {\r",
    "            var projectPath = path.dirname(path.join(root, m));\r",
    "            result[path.basename(projectPath)] = projectPath;\r",
    "        }));\r",
    "};\r",
    "module.exports = listProjects;\r",
    "listProjects;\r",
    "\r"
   ]
  },
  {
   "cell_type": "markdown",
   "metadata": {},
   "source": [
    "De-lint notebook cells automatically?\n",
    "\n",
    "Find too long of functions using regexp?\n",
    "(?=\\{((?:[^{}]++|\\{(?1)\\})++)\\})\n",
    "\n",
    "Export all notebooks to a structured folder where each cell has it's own file for linting?\n",
    "\n",
    "Import files back in to cells? (two-way workflow)\n",
    "\n"
   ]
  },
  {
   "cell_type": "code",
   "execution_count": 8,
   "metadata": {},
   "outputs": [
    {
     "name": "stdout",
     "output_type": "stream",
     "text": [
      "Already imported\n",
      "[ 'import notebook.ipynb', 'interpret all notebooks.ipynb' ]\n"
     ]
    },
    {
     "data": {
      "text/plain": [
       "[ '/Users/briancullinan/Documents/asm/subscription.identitymanagement/Subscription.IdentityManagement/IdentityServer/Clients.cs',\n",
       "  '/Users/briancullinan/Documents/asm/subscription.identitymanagement/Subscription.IdentityManagement/IdentityServer/Clients.cs' ]"
      ]
     },
     "execution_count": 8,
     "metadata": {},
     "output_type": "execute_result"
    }
   ],
   "source": [
    "var importer = require('../Core');\r",
    "var gulp = require('gulp');\r",
    "var tap = require('gulp-tap');\r",
    "var XRegExp = require('xregexp');\r",
    "\r",
    "// How to convert a string to an Array of RegEx matches\r",
    "var regexToArray = (ex, str, i = 0) => {\r",
    "    var co = [];\r",
    "    var m;\r",
    "    while ((m = re.exec(str)) && co.push(m[i])) ;\r",
    "    return co;\r",
    "};\r",
    "\r",
    "var matchCurlyBraces = (contents) => {\r",
    "    var newMatches = XRegExp.matchRecursive(contents, '{', '}', 'gi', {\r",
    "        valueNames: ['literal', null, 'value', null]\r",
    "    }).filter(m => m.name === 'value');\r",
    "    //console.log(newMatches);\r",
    "    return newMatches.reduce(\r",
    "        (arr, m) => arr.concat(matchCurlyBraces(m.value)),\r",
    "        newMatches);\r",
    "};\r",
    "\r",
    "var findLongFunctions = (project) => {\r",
    "    var results = [];\r",
    "    gulp.task('find long functions', function () {\r",
    "        return gulp.src('**/*.+(ts|js|cs)', {\r",
    "            ignore: ['**/node_modules/**',\r",
    "                '**/dist/**',\r",
    "                '**/typings/**',\r",
    "                '**/packages/**',\r",
    "                '**/*.spec*',\r",
    "                '**/*.Tests/**'\r",
    "            ], cwd: project\r",
    "        })\r",
    "            .pipe(tap(file => {\r",
    "                const contents = file.contents.toString();\r",
    "                try {\r",
    "                    results = results.concat(matchCurlyBraces(contents)\r",
    "                        .map(m => Object.assign(m, {path: file.path})));\r",
    "                } catch (e) {\r",
    "                    results = results.concat([{\r",
    "                        name: 'value',\r",
    "                        value: file.contents.toString(),\r",
    "                        start: 0,\r",
    "                        end: file.contents.length,\r",
    "                        error: e,\r",
    "                        path: file.path\r",
    "                    }]);\r",
    "                }\r",
    "            }));\r",
    "    });\r",
    "\r",
    "    return importer.import('task to promise', {gulp})\r",
    "        .then(tasksToPromise => tasksToPromise('find long functions'))\r",
    "        .then(() => {\r",
    "            var code = results.map(r => r.value);\r",
    "            var topLevel = results\r",
    "                .filter(r => code\r",
    "                    .filter(c => c !== r.value && c.indexOf(r.value) > 0).length === 0);\r",
    "            results = results\r",
    "                .filter(m => topLevel.filter(c => c.value === m.value).length === 0);\r",
    "            code = results.map(r => r.value);\r",
    "            topLevel = topLevel.concat(results.filter(r => code\r",
    "                .filter(c => c !== r.value && c.indexOf(r.value) > 0).length === 0));\r",
    "            results = results\r",
    "                .filter(m => topLevel.filter(c => c.value === m.value).length === 0);\r",
    "            return results\r",
    "                .filter(m => m.value.split(/\\n/ig).length > 100)\r",
    "        });\r",
    "};\r",
    "module.exports = findLongFunctions;\r",
    "\r",
    "var PROFILE_PATH = process.env.HOME || process.env.HOMEPATH || process.env.USERPROFILE;\r",
    "var project = PROFILE_PATH + '/Documents/asm/subscription.identitymanagement';\r",
    "$$.async();\r",
    "findLongFunctions(project)\r",
    "    .then(e => $$.sendResult(e.map(m => m.path)))\r",
    "    .catch(e => $$.sendError(e));\r",
    "\r"
   ]
  },
  {
   "cell_type": "code",
   "execution_count": null,
   "metadata": {},
   "outputs": [],
   "source": []
  }
 ],
 "metadata": {
  "kernel_info": {
   "name": "javascript"
  },
  "kernelspec": {
   "display_name": "Javascript (Node.js)",
   "language": "javascript",
   "name": "javascript"
  },
  "language_info": {
   "file_extension": ".js",
   "mimetype": "application/javascript",
   "name": "javascript",
   "version": "8.6.0"
  }
 },
 "nbformat": 4,
 "nbformat_minor": 4
}
