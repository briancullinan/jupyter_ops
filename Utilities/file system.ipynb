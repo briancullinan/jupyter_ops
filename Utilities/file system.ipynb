{
 "cells": [
  {
   "cell_type": "markdown",
   "metadata": {},
   "source": [
    "Rename a bunch of files using Git and renamer?\n",
    "\n"
   ]
  },
  {
   "cell_type": "code",
   "execution_count": null,
   "metadata": {
    "collapsed": false,
    "inputHidden": false,
    "outputHidden": false
   },
   "outputs": [],
   "source": [
    "var execSync = require('child_process').execSync;\n",
    "try {\n",
    "    require.resolve('renamer');\n",
    "} catch (e) {\n",
    "    execSync('npm install renamer');\n",
    "}\n",
    "var renamer = require('renamer');\n",
    "var renameUsingGit = (root, match, find, replace) => {\n",
    "    var files = renamer.expand(path.join(root, match));\n",
    "    var results = renamer.replace({\n",
    "        files: files.filesAndDirs, \n",
    "        find: find, \n",
    "        replace: replace});\n",
    "    return renamer.dryRun(results).list.map(r => {\n",
    "        // rename with git instead\n",
    "        var output = execSync('git ' \n",
    "                 + '--work-tree=' + JSON.stringify(root)\n",
    "                 + ' --git-dir=' + JSON.stringify(path.join(root, '.git'))\n",
    "                 + ' mv ' + JSON.stringify(r.before) \n",
    "                 + ' ' + JSON.stringify(r.after));\n",
    "        return output.toString() || r.after;\n",
    "    });\n",
    "};\n",
    "(renameUsingGit);\n"
   ]
  },
  {
   "cell_type": "code",
   "execution_count": null,
   "metadata": {
    "collapsed": false,
    "inputHidden": false,
    "outputHidden": false
   },
   "outputs": [],
   "source": [
    "// test it\n",
    "// rename all scss files to less\n",
    "renameUsingGit(\n",
    "    '/Users/briancullinan/Documents/portal',\n",
    "    'src/**/*.scss',\n",
    "    '.scss',\n",
    "    '.less');"
   ]
  },
  {
   "cell_type": "markdown",
   "metadata": {},
   "source": [
    "How to use memory-fs and rewire to audit cli events?\n",
    "\n"
   ]
  },
  {
   "cell_type": "code",
   "execution_count": null,
   "metadata": {
    "collapsed": false,
    "inputHidden": false,
    "outputHidden": false
   },
   "outputs": [],
   "source": [
    "var path = require('path');\n",
    "var execSync = require('child_process').execSync;\n",
    "try {\n",
    "    require.resolve('mock-require');\n",
    "    require.resolve('unionfs');\n",
    "    require.resolve('typescript');\n",
    "    require.resolve('memfs');\n",
    "} catch (e) {\n",
    "    execSync('npm install mock-require memfs typescript unionfs');\n",
    "}\n",
    "// TODO: use https://github.com/jhnns/rewire for replacing variables, something like https://github.com/mariocasciaro/object-path?\n",
    "\n",
    "var mockTypescriptFs = (root, data) => {\n",
    "    var mock = require('mock-require');\n",
    "    var memfs = require('memfs');\n",
    "    var mem = new memfs.Volume;\n",
    "    var unionfs = require('unionfs');\n",
    "    var fs = require('fs');\n",
    "    \n",
    "    mem.mountSync(root, data);\n",
    "\n",
    "    // Create a union of two file systems:\n",
    "    unionfs\n",
    "        .use(fs)\n",
    "        .use(mem)\n",
    "        .replace(fs);\n",
    "    \n",
    "    var ts = require('typescript');\n",
    "    var tsMock = Object.assign({}, ts);\n",
    "    var toMock = {\n",
    "        readFile: 'readFileSync',\n",
    "        realpath: 'realpathSync',\n",
    "        writeFile: 'writeFileSync',\n",
    "        fileExists: 'existsSync',\n",
    "        directoryExists: 'existsSync',\n",
    "        createDirectory: 'mkdirSync',\n",
    "        getDirectories: 'readdirSync'\n",
    "    };\n",
    "    Object.keys(toMock)\n",
    "        .forEach(k => {\n",
    "            if(typeof mem[toMock[k]] === 'function') {\n",
    "                tsMock.sys[k] = function () {\n",
    "                    // typescript.sys functions return defined on error\n",
    "                    try {\n",
    "                        return mem[toMock[k]].apply(mem, arguments);\n",
    "                    } catch (e) {\n",
    "                        return;\n",
    "                    }\n",
    "                };\n",
    "            }\n",
    "        });\n",
    "\n",
    "    mock('typescript', tsMock);\n",
    "    return mock;\n",
    "};\n",
    "(mockTypescriptFs);\n",
    "\n",
    "// TODO: search github for projects like graceful-fs and then search google for projects that use graceful-fs and see if we can record some filesystem activity\n",
    "\n"
   ]
  },
  {
   "cell_type": "code",
   "execution_count": null,
   "metadata": {
    "collapsed": false,
    "inputHidden": false,
    "outputHidden": false
   },
   "outputs": [],
   "source": [
    "\n",
    "mockTypescriptFs();\n"
   ]
  },
  {
   "cell_type": "code",
   "execution_count": 32,
   "metadata": {
    "collapsed": false,
    "inputHidden": false,
    "outputHidden": false
   },
   "outputs": [
    {
     "data": {
      "image/svg+xml": [
       "<svg xmlns=\"http://www.w3.org/2000/svg\" width=\"960\" height=\"500\"><g transform=\"translate(495,245)\"><text style=\"font-size: 161px; font-family: Impact; fill: #1f77b4;\" text-anchor=\"middle\" transform=\"translate(25,-59)rotate(49)\">core</text><text style=\"font-size: 109px; font-family: Impact; fill: #aec7e8;\" text-anchor=\"middle\" transform=\"translate(-56,102)rotate(3)\">testing</text><text style=\"font-size: 88px; font-family: Impact; fill: #ff7f0e;\" text-anchor=\"middle\" transform=\"translate(-93,-61)rotate(29)\">router</text><text style=\"font-size: 61px; font-family: Impact; fill: #ffbb78;\" text-anchor=\"middle\" transform=\"translate(211,52)rotate(-43)\">jasmine</text><text style=\"font-size: 61px; font-family: Impact; fill: #2ca02c;\" text-anchor=\"middle\" transform=\"translate(272,-52)rotate(22)\">common</text><text style=\"font-size: 45px; font-family: Impact; fill: #98df8a;\" text-anchor=\"middle\" transform=\"translate(241,-122)rotate(25)\">platform-browser</text><text style=\"font-size: 35px; font-family: Impact; fill: #d62728;\" text-anchor=\"middle\" transform=\"translate(161,-111)rotate(-48)\">http</text><text style=\"font-size: 34px; font-family: Impact; fill: #ff9896;\" text-anchor=\"middle\" transform=\"translate(317,-171)rotate(0)\">app.component</text><text style=\"font-size: 31px; font-family: Impact; fill: #9467bd;\" text-anchor=\"middle\" transform=\"translate(-90,-24)rotate(24)\">core.module</text><text style=\"font-size: 30px; font-family: Impact; fill: #c5b0d5;\" text-anchor=\"middle\" transform=\"translate(-206,-104)rotate(-54)\">catalog-stubs</text><text style=\"font-size: 29px; font-family: Impact; fill: #8c564b;\" text-anchor=\"middle\" transform=\"translate(-194,-5)rotate(-25)\">material</text><text style=\"font-size: 28px; font-family: Impact; fill: #c49c94;\" text-anchor=\"middle\" transform=\"translate(255,92)rotate(-33)\">auth.service</text><text style=\"font-size: 28px; font-family: Impact; fill: #e377c2;\" text-anchor=\"middle\" transform=\"translate(-45,148)rotate(8)\">Observable</text><text style=\"font-size: 24px; font-family: Impact; fill: #f7b6d2;\" text-anchor=\"middle\" transform=\"translate(186,148)rotate(0)\">billing.service</text><text style=\"font-size: 24px; font-family: Impact; fill: #7f7f7f;\" text-anchor=\"middle\" transform=\"translate(-301,-36)rotate(46)\">auth-guard</text><text style=\"font-size: 23px; font-family: Impact; fill: #c7c7c7;\" text-anchor=\"middle\" transform=\"translate(-315,18)rotate(14)\">up-down.component</text><text style=\"font-size: 23px; font-family: Impact; fill: #bcbd22;\" text-anchor=\"middle\" transform=\"translate(342,25)rotate(-15)\">register-user</text><text style=\"font-size: 23px; font-family: Impact; fill: #dbdb8d;\" text-anchor=\"middle\" transform=\"translate(-294,-132)rotate(27)\">auth.manager</text><text style=\"font-size: 22px; font-family: Impact; fill: #17becf;\" text-anchor=\"middle\" transform=\"translate(-306,102)rotate(-49)\">login.component</text><text style=\"font-size: 21px; font-family: Impact; fill: #9edae5;\" text-anchor=\"middle\" transform=\"translate(-146,-186)rotate(15)\">ReplaySubject</text><text style=\"font-size: 21px; font-family: Impact; fill: #1f77b4;\" text-anchor=\"middle\" transform=\"translate(-110,16)rotate(-6)\">environment</text><text style=\"font-size: 21px; font-family: Impact; fill: #aec7e8;\" text-anchor=\"middle\" transform=\"translate(-345,-85)rotate(-17)\">Subscription</text><text style=\"font-size: 21px; font-family: Impact; fill: #ff7f0e;\" text-anchor=\"middle\" transform=\"translate(-193,-55)rotate(-32)\">log.service</text><text style=\"font-size: 21px; font-family: Impact; fill: #ffbb78;\" text-anchor=\"middle\" transform=\"translate(349,62)rotate(-28)\">product-model</text><text style=\"font-size: 20px; font-family: Impact; fill: #2ca02c;\" text-anchor=\"middle\" transform=\"translate(-277,-162)rotate(28)\">preview-model</text><text style=\"font-size: 19px; font-family: Impact; fill: #98df8a;\" text-anchor=\"middle\" transform=\"translate(336,120)rotate(7)\">logout.component</text><text style=\"font-size: 19px; font-family: Impact; fill: #d62728;\" text-anchor=\"middle\" transform=\"translate(43,7)rotate(-26)\">auth.module</text><text style=\"font-size: 19px; font-family: Impact; fill: #ff9896;\" text-anchor=\"middle\" transform=\"translate(-239,161)rotate(-24)\">product-price.component</text><text style=\"font-size: 19px; font-family: Impact; fill: #9467bd;\" text-anchor=\"middle\" transform=\"translate(97,181)rotate(-16)\">dialog-guard</text><text style=\"font-size: 19px; font-family: Impact; fill: #c5b0d5;\" text-anchor=\"middle\" transform=\"translate(-133,135)rotate(-59)\">auth-user</text><text style=\"font-size: 19px; font-family: Impact; fill: #8c564b;\" text-anchor=\"middle\" transform=\"translate(337,-135)rotate(13)\">support.component</text><text style=\"font-size: 18px; font-family: Impact; fill: #c49c94;\" text-anchor=\"middle\" transform=\"translate(329,167)rotate(28)\">act-terms.component</text><text style=\"font-size: 18px; font-family: Impact; fill: #e377c2;\" text-anchor=\"middle\" transform=\"translate(-349,72)rotate(-35)\">purchase-model</text><text style=\"font-size: 18px; font-family: Impact; fill: #f7b6d2;\" text-anchor=\"middle\" transform=\"translate(-327,171)rotate(-18)\">mailgun-validate.service</text><text style=\"font-size: 18px; font-family: Impact; fill: #7f7f7f;\" text-anchor=\"middle\" transform=\"translate(-339,-109)rotate(-14)\">animations</text><text style=\"font-size: 18px; font-family: Impact; fill: #c7c7c7;\" text-anchor=\"middle\" transform=\"translate(356,94)rotate(22)\">Subject</text><text style=\"font-size: 18px; font-family: Impact; fill: #bcbd22;\" text-anchor=\"middle\" transform=\"translate(94,-162)rotate(48)\">layout.service</text><text style=\"font-size: 18px; font-family: Impact; fill: #dbdb8d;\" text-anchor=\"middle\" transform=\"translate(158,186)rotate(-13)\">product-catalog.config</text><text style=\"font-size: 18px; font-family: Impact; fill: #17becf;\" text-anchor=\"middle\" transform=\"translate(-312,-18)rotate(39)\">auth-stubs</text><text style=\"font-size: 17px; font-family: Impact; fill: #9edae5;\" text-anchor=\"middle\" transform=\"translate(-379,-43)rotate(-35)\">angular2-jwt</text><text style=\"font-size: 17px; font-family: Impact; fill: #1f77b4;\" text-anchor=\"middle\" transform=\"translate(-59,185)rotate(16)\">demo.component</text><text style=\"font-size: 17px; font-family: Impact; fill: #aec7e8;\" text-anchor=\"middle\" transform=\"translate(-257,111)rotate(-28)\">layout.module</text><text style=\"font-size: 17px; font-family: Impact; fill: #ff7f0e;\" text-anchor=\"middle\" transform=\"translate(226,187)rotate(-12)\">ecommerceResources</text><text style=\"font-size: 17px; font-family: Impact; fill: #ffbb78;\" text-anchor=\"middle\" transform=\"translate(-128,194)rotate(11)\">subtotal.component</text><text style=\"font-size: 17px; font-family: Impact; fill: #2ca02c;\" text-anchor=\"middle\" transform=\"translate(-82,-132)rotate(22)\">cart.component</text><text style=\"font-size: 17px; font-family: Impact; fill: #98df8a;\" text-anchor=\"middle\" transform=\"translate(246,-202)rotate(5)\">breadcrumb.component</text><text style=\"font-size: 17px; font-family: Impact; fill: #d62728;\" text-anchor=\"middle\" transform=\"translate(-97,-210)rotate(-1)\">trial.component</text><text style=\"font-size: 17px; font-family: Impact; fill: #ff9896;\" text-anchor=\"middle\" transform=\"translate(-216,203)rotate(2)\">line-item.component</text><text style=\"font-size: 16px; font-family: Impact; fill: #9467bd;\" text-anchor=\"middle\" transform=\"translate(-340,94)rotate(-38)\">catalog.blueprint</text><text style=\"font-size: 16px; font-family: Impact; fill: #c5b0d5;\" text-anchor=\"middle\" transform=\"translate(374,-207)rotate(2)\">home.module</text><text style=\"font-size: 16px; font-family: Impact; fill: #8c564b;\" text-anchor=\"middle\" transform=\"translate(-129,-2)rotate(-8)\">trial.service</text><text style=\"font-size: 16px; font-family: Impact; fill: #c49c94;\" text-anchor=\"middle\" transform=\"translate(368,168)rotate(26)\">buy.component</text><text style=\"font-size: 16px; font-family: Impact; fill: #e377c2;\" text-anchor=\"middle\" transform=\"translate(-368,-155)rotate(-53)\">footer.component</text><text style=\"font-size: 16px; font-family: Impact; fill: #f7b6d2;\" text-anchor=\"middle\" transform=\"translate(-73,161)rotate(13)\">menu.component</text><text style=\"font-size: 15px; font-family: Impact; fill: #7f7f7f;\" text-anchor=\"middle\" transform=\"translate(-392,57)rotate(-57)\">oauthResources</text><text style=\"font-size: 15px; font-family: Impact; fill: #c7c7c7;\" text-anchor=\"middle\" transform=\"translate(-389,-153)rotate(-58)\">trial.routing</text><text style=\"font-size: 15px; font-family: Impact; fill: #bcbd22;\" text-anchor=\"middle\" transform=\"translate(207,-44)rotate(28)\">trial-stubs</text><text style=\"font-size: 15px; font-family: Impact; fill: #dbdb8d;\" text-anchor=\"middle\" transform=\"translate(257,203)rotate(-3)\">products.module</text><text style=\"font-size: 15px; font-family: Impact; fill: #17becf;\" text-anchor=\"middle\" transform=\"translate(29,-5)rotate(-25)\">act-http</text><text style=\"font-size: 15px; font-family: Impact; fill: #9edae5;\" text-anchor=\"middle\" transform=\"translate(39,31)rotate(-4)\">forms</text><text style=\"font-size: 15px; font-family: Impact; fill: #1f77b4;\" text-anchor=\"middle\" transform=\"translate(161,-65)rotate(6)\">Rx</text><text style=\"font-size: 15px; font-family: Impact; fill: #aec7e8;\" text-anchor=\"middle\" transform=\"translate(382,155)rotate(32)\">auth.routing</text><text style=\"font-size: 15px; font-family: Impact; fill: #ff7f0e;\" text-anchor=\"middle\" transform=\"translate(-233,-193)rotate(-53)\">log-stubs</text><text style=\"font-size: 15px; font-family: Impact; fill: #ffbb78;\" text-anchor=\"middle\" transform=\"translate(367,-102)rotate(20)\">app.routing</text><text style=\"font-size: 15px; font-family: Impact; fill: #2ca02c;\" text-anchor=\"middle\" transform=\"translate(-345,-12)rotate(17)\">buy.routing</text><text style=\"font-size: 15px; font-family: Impact; fill: #98df8a;\" text-anchor=\"middle\" transform=\"translate(-264,88)rotate(-39)\">pages.module</text><text style=\"font-size: 15px; font-family: Impact; fill: #d62728;\" text-anchor=\"middle\" transform=\"translate(-107,-158)rotate(20)\">contact.routing</text><text style=\"font-size: 15px; font-family: Impact; fill: #ff9896;\" text-anchor=\"middle\" transform=\"translate(-280,-87)rotate(-15)\">app.module</text><text style=\"font-size: 15px; font-family: Impact; fill: #9467bd;\" text-anchor=\"middle\" transform=\"translate(-206,118)rotate(-9)\">home.routing</text></g></svg>"
      ]
     },
     "execution_count": 32,
     "metadata": {},
     "output_type": "execute_result"
    }
   ],
   "source": [
    "// TODO: break up d3 from file collection and create a gulp stream angular component out of it\n",
    "// install https://github.com/Automattic/node-canvas/wiki/installation---osx\n",
    "// install using brew install pkg-config fontconfig cairo pixman giflib libjpeg libpng\n",
    "var path = require('path');\n",
    "var execSync = require('child_process').execSync;\n",
    "try {\n",
    "    require.resolve('gulp');\n",
    "    require.resolve('gulp-tap');\n",
    "    require.resolve('d3-node');\n",
    "    require.resolve('d3-cloud');\n",
    "    require.resolve('canvas');\n",
    "} catch (e) {\n",
    "    execSync('npm install \"github:gulpjs/gulp.git#4.0\" gulp-tap d3-node d3-cloud canvas');\n",
    "}\n",
    "\n",
    "var gulp = require('gulp');\n",
    "var tap = require('gulp-tap');\n",
    "var cloud = require('d3-cloud');\n",
    "\n",
    "var PROFILE_PATH = process.env.HOME || process.env.HOMEPATH || process.env.USERPROFILE;\n",
    "var project = PROFILE_PATH + '/Documents/portal';\n",
    "\n",
    "\n",
    "var Canvas = require(\"canvas\");\n",
    "var D3Node = require('d3-node');\n",
    "var d3n = new D3Node(); // initializes D3 with container element \n",
    "var d3 = d3n.d3;\n",
    "\n",
    "var margin = {top: 20, right: 20, bottom: 30, left: 50},\n",
    "    width = 960 - margin.left - margin.right,\n",
    "    height = 500 - margin.top - margin.bottom;\n",
    "\n",
    "var fill = d3.scaleOrdinal(d3.schemeCategory20);\n",
    "\n",
    "var svg = d3n.createSVG(width + margin.left + margin.right,\n",
    "                        height + margin.top + margin.bottom)\n",
    "  .append(\"g\")\n",
    "    .attr(\"transform\",\n",
    "          \"translate(\" + (margin.left + width / 2) + \",\" + (margin.top + height / 2) + \")\");\n",
    "\n",
    "var wordCount = {};\n",
    "function draw(wordCount) {\n",
    "    svg.selectAll(\"text\")\n",
    "    .data(wordCount)\n",
    "    .enter().append(\"text\")\n",
    "    .style(\"font-size\", function(d) { return d.size + \"px\"; })\n",
    "    .style(\"font-family\", \"Impact\")\n",
    "    .style(\"fill\", function(d, i) { return fill(i); })\n",
    "    .attr(\"text-anchor\", \"middle\")\n",
    "    .attr(\"transform\", function(d) {\n",
    "         return \"translate(\" + [d.x, d.y] + \")rotate(\" + d.rotate + \")\";\n",
    "    })\n",
    "    .text(function(d) { return d.text; });\n",
    "    \n",
    "    $$.svg(d3n.svgString());\n",
    "}\n",
    "\n",
    "var words = [];\n",
    "gulp.task('default', function() {\n",
    "    return gulp.src(['src/**/*.ts'], {cwd: project})\n",
    "        .pipe(tap(function (file) {\n",
    "            var content = file.contents.toString();\n",
    "            var re = /from\\s+.*?[\"'](.*?)['\"]/ig;\n",
    "            var m;\n",
    "            while ((m = re.exec(content))) {\n",
    "                words[words.length] = m[1];\n",
    "            }\n",
    "        }));\n",
    "});\n",
    "\n",
    "$$.async()\n",
    "try {\n",
    "gulp.series(() => gulp.task(['default'])(), function (done) {\n",
    "    done();\n",
    "    \n",
    "    words.forEach(w => {\n",
    "        var word = w.split('/').pop();\n",
    "        if(typeof wordCount[word] == 'undefined') {\n",
    "            wordCount[word] = 15;\n",
    "        } else {\n",
    "            wordCount[word]++;\n",
    "        }\n",
    "    });\n",
    "    wordCount = Object.keys(wordCount).map(function(d) {\n",
    "         return {text: d, size: wordCount[d]};\n",
    "    });\n",
    "    \n",
    "    cloud()\n",
    "        .canvas(function() { return new Canvas(1, 1); })\n",
    "        .size([width, height])\n",
    "        .words(wordCount)\n",
    "        .padding(0)\n",
    "        .rotate(function() { return ~~(Math.random() * 120) - 60; })\n",
    "        .font(\"Impact\")\n",
    "        .fontSize(function(d) { return d.size; })\n",
    "        .on(\"end\", draw)\n",
    "        .start();\n",
    "})();\n",
    "} catch (e) {\n",
    "    $$.sendError(e);\n",
    "}\n",
    "\n"
   ]
  },
  {
   "cell_type": "code",
   "execution_count": null,
   "metadata": {},
   "outputs": [],
   "source": []
  },
  {
   "cell_type": "code",
   "execution_count": null,
   "metadata": {},
   "outputs": [],
   "source": []
  }
 ],
 "metadata": {
  "kernel_info": {
   "name": "javascript"
  },
  "kernelspec": {
   "display_name": "Javascript (Node.js)",
   "language": "javascript",
   "name": "javascript"
  },
  "language_info": {
   "file_extension": ".js",
   "mimetype": "application/javascript",
   "name": "javascript",
   "version": "7.7.2"
  }
 },
 "nbformat": 4,
 "nbformat_minor": 4
}
