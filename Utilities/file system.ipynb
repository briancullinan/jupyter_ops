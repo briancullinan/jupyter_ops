{
  "cells": [
    {
      "cell_type": "markdown",
      "source": [
        "Rename a bunch of files using Git and renamer?\n",
        "\n"
      ],
      "metadata": {}
    },
    {
      "cell_type": "code",
      "source": [
        "var execSync = require('child_process').execSync;\n",
        "try {\n",
        "    require.resolve('renamer');\n",
        "} catch (e) {\n",
        "    execSync('npm install renamer');\n",
        "}\n",
        "var renamer = require('renamer');\n",
        "var renameUsingGit = (root, match, find, replace) => {\n",
        "    var files = renamer.expand(path.join(root, match));\n",
        "    var results = renamer.replace({\n",
        "        files: files.filesAndDirs, \n",
        "        find: find, \n",
        "        replace: replace});\n",
        "    return renamer.dryRun(results).list.map(r => {\n",
        "        // rename with git instead\n",
        "        var output = execSync('git ' \n",
        "                 + '--work-tree=' + JSON.stringify(root)\n",
        "                 + ' --git-dir=' + JSON.stringify(path.join(root, '.git'))\n",
        "                 + ' mv ' + JSON.stringify(r.before) \n",
        "                 + ' ' + JSON.stringify(r.after));\n",
        "        return output.toString() || r.after;\n",
        "    });\n",
        "};\n",
        "(renameUsingGit);\n"
      ],
      "outputs": [],
      "execution_count": 3,
      "metadata": {
        "collapsed": false,
        "outputHidden": false,
        "inputHidden": false
      }
    },
    {
      "cell_type": "code",
      "source": [
        "// test it\n",
        "// rename all scss files to less\n",
        "renameUsingGit(\n",
        "    '/Users/briancullinan/Documents/portal',\n",
        "    'src/**/*.scss',\n",
        "    '.scss',\n",
        "    '.less');"
      ],
      "outputs": [],
      "execution_count": 4,
      "metadata": {
        "collapsed": false,
        "outputHidden": false,
        "inputHidden": false
      }
    },
    {
      "cell_type": "markdown",
      "source": [
        "How to use memory-fs and rewire to audit cli events?\n",
        "\n"
      ],
      "metadata": {}
    },
    {
      "cell_type": "code",
      "source": [
        "var path = require('path');\n",
        "var execSync = require('child_process').execSync;\n",
        "try {\n",
        "    require.resolve('mock-require');\n",
        "    require.resolve('typescript');\n",
        "    require.resolve('memory-fs');\n",
        "} catch (e) {\n",
        "    execSync('npm install mock-require typescript https://github.com/webpack/memory-fs');\n",
        "}\n",
        "// TODO: use https://github.com/jhnns/rewire for replacing variables, something like https://github.com/mariocasciaro/object-path?\n",
        "var mock = require('mock-require');\n",
        "\n",
        "var mockTypescriptFs = (data) => {\n",
        "    var fs = require('fs');\n",
        "    var fsMock = {};\n",
        "    var MemoryFileSystem = require('memory-fs');\n",
        "    var memfs = new MemoryFileSystem(data);\n",
        "    var funcs = Object.keys(fs)\n",
        "        .filter(k => typeof memfs[k] == 'function');\n",
        "    \n",
        "    var fsMock = Object.assign({}, fs);\n",
        "    // write operations\n",
        "    ['writeFile', 'mkdir', 'rmdir', 'unlink', 'createWriteStream',\n",
        "     'writeFileSync', 'mkdirSync', 'rmdirSync', 'unlinkSync']\n",
        "        .forEach((k) => {\n",
        "            fsMock[k] = function () {\n",
        "                //console.log(k + ' (' + arguments[0] + ') ');\n",
        "                // create the containing directory first\n",
        "                if(!memfs.existsSync(path.dirname(arguments[0]))\n",
        "                    && fs.existsSync(path.dirname(arguments[0]))) {\n",
        "                    memfs.mkdirpSync.apply(memfs, [path.dirname(arguments[0])]);\n",
        "                }\n",
        "                return memfs[k].apply(memfs, arguments);\n",
        "            }\n",
        "        });\n",
        "    \n",
        "    // read operations\n",
        "    ['readFile', 'stat', 'exists', 'readlink', 'createReadStream',\n",
        "     'readFileSync', 'statSync', 'existsSync', 'readlinkSync']\n",
        "        .forEach((k) => {\n",
        "            fsMock[k] = function () {\n",
        "                //console.log(k + ' (' + arguments[0] + ') ');\n",
        "                // read from underlying filesystem instead\n",
        "                if(!memfs.existsSync(arguments[0])) {\n",
        "                    return fs[k].apply(null, arguments);\n",
        "                }\n",
        "                return memfs[k].apply(memfs, arguments);\n",
        "            }\n",
        "        });\n",
        "    // these functions fallback to underlying filesystem \n",
        "    // if a file does not exist\n",
        "    \n",
        "    mock('fs', fsMock);\n",
        "    \n",
        "    var ts = require('typescript');\n",
        "    var tsMock = Object.assign({}, ts);\n",
        "    var toMock = {\n",
        "        readFile: 'readFileSync',\n",
        "        realpath: 'realpathSync',\n",
        "        writeFile: 'writeFileSync',\n",
        "        fileExists: 'existsSync',\n",
        "        directoryExists: 'existsSync',\n",
        "        createDirectory: 'mkdirSync',\n",
        "        getDirectories: 'readdirSync'\n",
        "    };\n",
        "    Object.keys(toMock)\n",
        "        .forEach(k => {\n",
        "            if(typeof fsMock[toMock[k]] === 'function') {\n",
        "                tsMock.sys[k] = function () {\n",
        "                    // typescript.sys functions return defined on error\n",
        "                    try {\n",
        "                        return fsMock[toMock[k]].apply(memfs, arguments);\n",
        "                    } catch (e) {\n",
        "                        return;\n",
        "                    }\n",
        "                };\n",
        "            }\n",
        "        })\n",
        "    \n",
        "    mock('typescript', tsMock);\n",
        "    \n",
        "    var isBinaryFile = mock.reRequire('isbinaryfile').sync;\n",
        "    mock('isbinaryfile', {\n",
        "        sync: function () {\n",
        "            if(typeof arguments[0] == 'string') {\n",
        "                if(!memfs.existsSync(arguments[0])) {\n",
        "                    var file = fs.readFileSync(arguments[0]);\n",
        "                    return isBinaryFile(file, file.length);\n",
        "                }\n",
        "                return isBinaryFile(memfs.readFileSync(arguments[0]),\n",
        "                                    memfs.readFileSync(arguments[0]).length);\n",
        "            }\n",
        "            return isBinaryFile.apply(null, arguments);\n",
        "        }\n",
        "    });\n",
        "    \n",
        "    mock.data = () => memfs.data;\n",
        "    return mock;\n",
        "};\n",
        "(mockTypescriptFs);\n",
        "\n",
        "// TODO: search github for projects like graceful-fs and then search google for projects that use graceful-fs and see if we can record some filesystem activity\n",
        "\n"
      ],
      "outputs": [],
      "execution_count": 2,
      "metadata": {
        "collapsed": false,
        "outputHidden": false,
        "inputHidden": false
      }
    },
    {
      "cell_type": "code",
      "source": [
        "\n",
        "mockTypescriptFs();\n"
      ],
      "outputs": [],
      "execution_count": 3,
      "metadata": {
        "collapsed": false,
        "outputHidden": false,
        "inputHidden": false
      }
    },
    {
      "cell_type": "code",
      "source": [],
      "outputs": [],
      "execution_count": null,
      "metadata": {
        "collapsed": false,
        "outputHidden": false,
        "inputHidden": false
      }
    }
  ],
  "metadata": {
    "kernelspec": {
      "name": "node_nteract",
      "language": "javascript",
      "display_name": "Node.js (nteract)"
    },
    "kernel_info": {
      "name": "node_nteract"
    },
    "language_info": {
      "name": "javascript",
      "version": "6.5.0",
      "mimetype": "application/javascript",
      "file_extension": ".js"
    }
  },
  "nbformat": 4,
  "nbformat_minor": 4
}