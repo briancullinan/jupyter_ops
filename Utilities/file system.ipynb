{
  "cells": [
    {
      "cell_type": "markdown",
      "source": [
        "Rename a bunch of files using Git and renamer?\n",
        "\n"
      ],
      "metadata": {}
    },
    {
      "cell_type": "code",
      "source": [
        "var execSync = require('child_process').execSync;\n",
        "try {\n",
        "    require.resolve('renamer');\n",
        "} catch (e) {\n",
        "    execSync('npm install renamer');\n",
        "}\n",
        "var renamer = require('renamer');\n",
        "var renameUsingGit = (root, match, find, replace) => {\n",
        "    var files = renamer.expand(path.join(root, match));\n",
        "    var results = renamer.replace({\n",
        "        files: files.filesAndDirs, \n",
        "        find: find, \n",
        "        replace: replace});\n",
        "    return renamer.dryRun(results).list.map(r => {\n",
        "        // rename with git instead\n",
        "        var output = execSync('git ' \n",
        "                 + '--work-tree=' + JSON.stringify(root)\n",
        "                 + ' --git-dir=' + JSON.stringify(path.join(root, '.git'))\n",
        "                 + ' mv ' + JSON.stringify(r.before) \n",
        "                 + ' ' + JSON.stringify(r.after));\n",
        "        return output.toString() || r.after;\n",
        "    });\n",
        "};\n",
        "(renameUsingGit);\n"
      ],
      "outputs": [
        {
          "output_type": "execute_result",
          "execution_count": 3,
          "data": {
            "text/plain": [
              "[Function: renameUsingGit]"
            ]
          },
          "metadata": {}
        }
      ],
      "execution_count": 3,
      "metadata": {
        "collapsed": false,
        "outputHidden": false,
        "inputHidden": false
      }
    },
    {
      "cell_type": "code",
      "source": [
        "// test it\n",
        "// rename all scss files to less\n",
        "renameUsingGit(\n",
        "    '/Users/briancullinan/Documents/portal',\n",
        "    'src/**/*.scss',\n",
        "    '.scss',\n",
        "    '.less');"
      ],
      "outputs": [
        {
          "output_type": "execute_result",
          "execution_count": 4,
          "data": {
            "text/plain": [
              "[ '/Users/briancullinan/Documents/portal/src/app/app.component.less',\n",
              "  '/Users/briancullinan/Documents/portal/src/app/app.less',\n",
              "  '/Users/briancullinan/Documents/portal/src/app/auth/login/login.component.less',\n",
              "  '/Users/briancullinan/Documents/portal/src/app/auth/register-form/register-form.component.less',\n",
              "  '/Users/briancullinan/Documents/portal/src/app/layout/footer/footer.component.less',\n",
              "  '/Users/briancullinan/Documents/portal/src/app/layout/layout.component.less',\n",
              "  '/Users/briancullinan/Documents/portal/src/app/layout/menu/menu.component.less',\n",
              "  '/Users/briancullinan/Documents/portal/src/app/layout/not-found/not-found.component.less',\n",
              "  '/Users/briancullinan/Documents/portal/src/app/layout/toolbar/toolbar.component.less',\n",
              "  '/Users/briancullinan/Documents/portal/src/app/temp-demo-pages/contact/contact.component.less',\n",
              "  '/Users/briancullinan/Documents/portal/src/app/temp-demo-pages/demo/demo.component.less',\n",
              "  '/Users/briancullinan/Documents/portal/src/app/temp-demo-pages/home/home.component.less',\n",
              "  '/Users/briancullinan/Documents/portal/src/app/trial/trial.component.less',\n",
              "  '/Users/briancullinan/Documents/portal/src/assets/colors.less' ]"
            ]
          },
          "metadata": {}
        }
      ],
      "execution_count": 4,
      "metadata": {
        "collapsed": false,
        "outputHidden": false,
        "inputHidden": false
      }
    },
    {
      "cell_type": "markdown",
      "source": [
        "How to use memory-fs and rewire to audit cli events?\n",
        "\n"
      ],
      "metadata": {}
    },
    {
      "cell_type": "code",
      "source": [
        "var path = require('path');\n",
        "var execSync = require('child_process').execSync;\n",
        "try {\n",
        "    require.resolve('@angular/cli');\n",
        "    require.resolve('mock-require');\n",
        "    require.resolve('typescript')\n",
        "    require.resolve('memory-fs');\n",
        "    require.resolve('rewire');\n",
        "} catch (e) {\n",
        "    execSync('npm install @angular/cli mock-require rewire typescript memory-fs');\n",
        "}\n",
        "var mock = require('mock-require');\n",
        "\n",
        "var mountAndRewireAngular = (memfs) => {\n",
        "    var fs = require('fs');\n",
        "    var fsMock = {};\n",
        "    Object.assign(fsMock, fs);\n",
        "    var prototype = Object.getPrototypeOf(memfs);\n",
        "    Object.keys(prototype)\n",
        "        .forEach(k => {\n",
        "            var orig = prototype[k].bind(memfs);\n",
        "            fsMock[k] = (a1, a2, a3, a4, a5) => {\n",
        "                try {\n",
        "                    return orig(a1, a2, a3, a4, a5);\n",
        "                } catch (e) {\n",
        "                    return fs[k](a1, a2, a3, a4, a5);\n",
        "                }\n",
        "            }\n",
        "        });\n",
        "    \n",
        "    ['existsSync']\n",
        "        .forEach(k => {\n",
        "            var orig = fsMock[k];\n",
        "            fsMock[k] = (a1, a2, a3, a4) => {\n",
        "                return orig(a1, a2, a3, a4)\n",
        "                    || fs[k](a1, a2, a3, a4);\n",
        "            }\n",
        "        });\n",
        "    \n",
        "    [\"stat\", \"readdir\", \"mkdirp\", \"rmdir\", \"unlink\", \"readlink\"]\n",
        "        .forEach(k => {\n",
        "            var orig = fsMock[k];\n",
        "            fsMock[k] = (path, cb) => {\n",
        "                orig(path, (err, result) => {\n",
        "                    if(err) {\n",
        "                        return fs[k](path, cb);\n",
        "                    }\n",
        "                    if(typeof cb == 'function') {\n",
        "                        return cb(err, result);\n",
        "                    }\n",
        "                })\n",
        "            };\n",
        "        });\n",
        "    \n",
        "    [\"exists\"]\n",
        "        .forEach(k => {\n",
        "            var orig = fsMock[k];\n",
        "            fsMock[k] = (path, cb) => {\n",
        "                orig(path, (result) => {\n",
        "                    if(!result) {\n",
        "                        return fs[k](path, cb);\n",
        "                    }\n",
        "                    if(typeof cb == 'function') {\n",
        "                        return cb(result);\n",
        "                    }\n",
        "                });\n",
        "            };\n",
        "        });\n",
        "    \n",
        "    [\"mkdir\", \"readFile\"]\n",
        "        .forEach(k => {\n",
        "            var orig = fsMock[k];\n",
        "            fsMock[k] = (path, opts, cb) => {\n",
        "                orig(path, opts, (err, result) => {\n",
        "                    if(err && err.code != 'EEXIST') {\n",
        "                        return fs[k](path, opts, cb);\n",
        "                    }\n",
        "                    if(typeof opts == 'function') {\n",
        "                        return opts(err, result);\n",
        "                    } else if(typeof cb == 'function') {\n",
        "                        return cb(err, result);\n",
        "                    }\n",
        "                });\n",
        "            };\n",
        "        });\n",
        "    \n",
        "    mock('fs', fsMock);\n",
        "\n",
        "    var ts = require('typescript');\n",
        "    var tsMock = {};\n",
        "    Object.assign(tsMock, ts);\n",
        "    var toMock = {\n",
        "        readFile: 'readFileSync',\n",
        "        //writeFile: 'writeFileSync',\n",
        "        //fileExists: 'existsSync',\n",
        "        //directoryExists: 'existsSync',\n",
        "        //createDirectory: 'mkdirSync',\n",
        "        //getDirectories: 'readdirSync'\n",
        "    };\n",
        "    Object.keys(ts.sys)\n",
        "        .forEach(k => {\n",
        "            var orig = tsMock.sys[k];\n",
        "            tsMock.sys[k] = (a1, a2, a3, a4, a5) => {\n",
        "                if(typeof toMock[k] !== 'undefined') {\n",
        "                    try {\n",
        "                        return fsMock[toMock[k]](a1, a2, a3, a4, a5);\n",
        "                    } catch (e) {\n",
        "                        return;\n",
        "                    }\n",
        "                }\n",
        "                return orig(a1, a2, a3, a4, a5);\n",
        "            };\n",
        "        });\n",
        "    mock('typescript', tsMock);\n",
        "    \n",
        "    return require('@angular/cli');\n",
        "};\n",
        "(mountAndRewireAngular);\n",
        "\n"
      ],
      "outputs": [
        {
          "output_type": "error",
          "ename": "SyntaxError",
          "evalue": "Unexpected token .",
          "traceback": [
            "evalmachine.<anonymous>:81",
            "    console..og",
            "            ^",
            "SyntaxError: Unexpected token .",
            "    at Object.exports.runInThisContext (vm.js:76:16)",
            "    at run ([eval]:608:19)",
            "    at onRunRequest ([eval]:379:22)",
            "    at onMessage ([eval]:347:17)",
            "    at emitTwo (events.js:106:13)",
            "    at process.emit (events.js:191:7)",
            "    at process.nextTick (internal/child_process.js:744:12)",
            "    at _combinedTickCallback (internal/process/next_tick.js:67:7)",
            "    at process._tickCallback (internal/process/next_tick.js:98:9)"
          ]
        }
      ],
      "execution_count": 1,
      "metadata": {
        "collapsed": false,
        "outputHidden": false,
        "inputHidden": false
      }
    },
    {
      "cell_type": "code",
      "source": [],
      "outputs": [],
      "execution_count": null,
      "metadata": {
        "collapsed": false,
        "outputHidden": false,
        "inputHidden": false
      }
    }
  ],
  "metadata": {
    "kernelspec": {
      "name": "node_nteract",
      "language": "javascript",
      "display_name": "Node.js (nteract)"
    },
    "kernel_info": {
      "name": "node_nteract"
    },
    "language_info": {
      "name": "javascript",
      "version": "6.5.0",
      "mimetype": "application/javascript",
      "file_extension": ".js"
    }
  },
  "nbformat": 4,
  "nbformat_minor": 4
}