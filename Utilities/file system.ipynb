{
 "cells": [
  {
   "cell_type": "markdown",
   "metadata": {},
   "source": [
    "Rename a bunch of files using Git and renamer?\n",
    "\n"
   ]
  },
  {
   "cell_type": "code",
   "execution_count": null,
   "metadata": {
    "collapsed": false,
    "inputHidden": false,
    "outputHidden": false
   },
   "outputs": [],
   "source": [
    "var execSync = require('child_process').execSync;\n",
    "try {\n",
    "    require.resolve('renamer');\n",
    "} catch (e) {\n",
    "    execSync('npm install renamer');\n",
    "}\n",
    "var renamer = require('renamer');\n",
    "var renameUsingGit = (root, match, find, replace) => {\n",
    "    var files = renamer.expand(path.join(root, match));\n",
    "    var results = renamer.replace({\n",
    "        files: files.filesAndDirs, \n",
    "        find: find, \n",
    "        replace: replace});\n",
    "    return renamer.dryRun(results).list.map(r => {\n",
    "        // rename with git instead\n",
    "        var output = execSync('git ' \n",
    "                 + '--work-tree=' + JSON.stringify(root)\n",
    "                 + ' --git-dir=' + JSON.stringify(path.join(root, '.git'))\n",
    "                 + ' mv ' + JSON.stringify(r.before) \n",
    "                 + ' ' + JSON.stringify(r.after));\n",
    "        return output.toString() || r.after;\n",
    "    });\n",
    "};\n",
    "renameUsingGit;\n"
   ]
  },
  {
   "cell_type": "code",
   "execution_count": null,
   "metadata": {
    "collapsed": false,
    "inputHidden": false,
    "outputHidden": false
   },
   "outputs": [],
   "source": [
    "// test it\n",
    "// rename all scss files to less\n",
    "//renameUsingGit(\n",
    "//    '/Users/briancullinan/Documents/portal',\n",
    "//    'src/**/*.scss',\n",
    "//    '.scss',\n",
    "//    '.less');"
   ]
  },
  {
   "cell_type": "markdown",
   "metadata": {},
   "source": [
    "How to use memory-fs and rewire to audit cli events?\n",
    "\n"
   ]
  },
  {
   "cell_type": "code",
   "execution_count": null,
   "metadata": {
    "collapsed": false,
    "inputHidden": false,
    "outputHidden": false
   },
   "outputs": [],
   "source": [
    "var path = require('path');\n",
    "var execSync = require('child_process').execSync;\n",
    "try {\n",
    "    require.resolve('mock-require');\n",
    "    require.resolve('unionfs');\n",
    "    require.resolve('typescript');\n",
    "    require.resolve('memfs');\n",
    "} catch (e) {\n",
    "    execSync('npm install mock-require memfs typescript unionfs');\n",
    "}\n",
    "// TODO: use https://github.com/jhnns/rewire for replacing variables, something like https://github.com/mariocasciaro/object-path?\n",
    "\n",
    "var mockTypescriptFs = (root, data) => {\n",
    "    var mock = require('mock-require');\n",
    "    var memfs = require('memfs');\n",
    "    var mem = new memfs.Volume;\n",
    "    var unionfs = require('unionfs');\n",
    "    var fs = require('fs');\n",
    "    \n",
    "    mem.mountSync(root, data);\n",
    "\n",
    "    // Create a union of two file systems:\n",
    "    unionfs\n",
    "        .use(fs)\n",
    "        .use(mem)\n",
    "        .replace(fs);\n",
    "    \n",
    "    var ts = require('typescript');\n",
    "    var tsMock = Object.assign({}, ts);\n",
    "    var toMock = {\n",
    "        readFile: 'readFileSync',\n",
    "        realpath: 'realpathSync',\n",
    "        writeFile: 'writeFileSync',\n",
    "        fileExists: 'existsSync',\n",
    "        directoryExists: 'existsSync',\n",
    "        createDirectory: 'mkdirSync',\n",
    "        getDirectories: 'readdirSync'\n",
    "    };\n",
    "    Object.keys(toMock)\n",
    "        .forEach(k => {\n",
    "            if(typeof mem[toMock[k]] === 'function') {\n",
    "                tsMock.sys[k] = function () {\n",
    "                    // typescript.sys functions return defined on error\n",
    "                    try {\n",
    "                        return mem[toMock[k]].apply(mem, arguments);\n",
    "                    } catch (e) {\n",
    "                        return;\n",
    "                    }\n",
    "                };\n",
    "            }\n",
    "        });\n",
    "\n",
    "    mock('typescript', tsMock);\n",
    "    return mock;\n",
    "};\n",
    "mockTypescriptFs;\n",
    "\n",
    "// TODO: search github for projects like graceful-fs and then search google for projects that use graceful-fs and see if we can record some filesystem activity\n",
    "\n"
   ]
  },
  {
   "cell_type": "code",
   "execution_count": null,
   "metadata": {
    "collapsed": false,
    "inputHidden": false,
    "outputHidden": false
   },
   "outputs": [],
   "source": [
    "\n",
    "//mockTypescriptFs();\n"
   ]
  },
  {
   "cell_type": "markdown",
   "metadata": {},
   "source": [
    "Parse typescript includes for an entire project?\n",
    "\n"
   ]
  },
  {
   "cell_type": "code",
   "execution_count": 1,
   "metadata": {},
   "outputs": [
    {
     "data": {
      "text/plain": [
       "[Function: projectWordCloud]"
      ]
     },
     "execution_count": 1,
     "metadata": {},
     "output_type": "execute_result"
    }
   ],
   "source": [
    "var importer = require('../Core');\n",
    "var path = require('path');\n",
    "var execSync = require('child_process').execSync;\n",
    "try {\n",
    "    require.resolve('gulp');\n",
    "    require.resolve('gulp-tap');\n",
    "} catch (e) {\n",
    "    execSync('npm install \"github:gulpjs/gulp.git#4.0\" gulp-tap');\n",
    "}\n",
    "var gulp = require('gulp');\n",
    "var tap = require('gulp-tap');\n",
    "\n",
    "var projectWordCloud = (project) => {\n",
    "    var words = [];\n",
    "    \n",
    "    var wordCount = function (words) {\n",
    "        var wordCount = {};\n",
    "        words.forEach(w => {\n",
    "            if(typeof wordCount[w] == 'undefined') {\n",
    "                wordCount[w] = 15;\n",
    "            } else {\n",
    "                wordCount[w]++;\n",
    "            }\n",
    "        });\n",
    "        return Object.keys(wordCount).map((d) => ({text: d, size: wordCount[d]}));\n",
    "    };\n",
    "    \n",
    "    return importer.interpretAll([\n",
    "            'relative paths and includes'\n",
    "        ])\n",
    "        .then(r => r[0].runInNewContext({project}))\n",
    "        .then(r => {\n",
    "            console.log(r);\n",
    "            words = r['packages'].map(p => p.split('.ts/')[1]).concat(r['relatives'].map(r => path.basename(r)));\n",
    "        })\n",
    "        .then(() => importer.importNotebook('../Frameworks/d3.ipynb'))\n",
    "        .then(r => {\n",
    "            var d3CloudToSVG = r.d3CloudToSVG;\n",
    "            return d3CloudToSVG(wordCount(words));\n",
    "        });\n",
    "};\n",
    "projectWordCloud;\n",
    "\n"
   ]
  },
  {
   "cell_type": "code",
   "execution_count": 2,
   "metadata": {},
   "outputs": [
    {
     "name": "stdout",
     "output_type": "stream",
     "text": [
      "/Users/briancullinan/Documents/portal\n",
      "{}\n"
     ]
    },
    {
     "ename": "TypeError",
     "evalue": "Cannot read property 'map' of undefined",
     "execution_count": 2,
     "output_type": "error",
     "traceback": [
      "TypeError: Cannot read property 'map' of undefined",
      "    at importer.interpretAll.then.then.r (evalmachine.<anonymous>:34:34)",
      "    at process._tickDomainCallback (internal/process/next_tick.js:135:7)"
     ]
    }
   ],
   "source": [
    "// TODO: create a gulp stream angular component out of it\n",
    "// TODO: connect with gulp-git https://www.npmjs.com/package/gulp-git\n",
    "// install https://github.com/Automattic/node-canvas/wiki/installation---osx\n",
    "// install using brew install pkg-config fontconfig cairo pixman giflib libjpeg libpng\n",
    "var path = require('path');\n",
    "\n",
    "var PROFILE_PATH = process.env.HOME || process.env.HOMEPATH || process.env.USERPROFILE;\n",
    "var project = PROFILE_PATH + '/Documents/portal';\n",
    "\n",
    "$$.async()\n",
    "projectWordCloud(project)\n",
    "    .then(svg => $$.svg(svg))\n",
    "    .catch(e => $$.sendError(e));\n",
    "\n"
   ]
  },
  {
   "cell_type": "markdown",
   "metadata": {},
   "source": [
    "Find similar filename in project?"
   ]
  },
  {
   "cell_type": "code",
   "execution_count": null,
   "metadata": {},
   "outputs": [],
   "source": [
    "var findSimilarFile = (base, project) => {\n",
    "    return new Promise((resolve, reject) => {\n",
    "        var searchStrings = '**/' + base + '.(ts|js)';\n",
    "        console.log('Search for ' + searchStrings);\n",
    "        glob(searchStrings, {exclude: ['**/node_modules/**'], cwd: project}, function (err, matches) {\n",
    "            var isEmpty = matches.length == 0;\n",
    "            if(err) {\n",
    "                return reject(err);\n",
    "            } else if (isEmpty) {\n",
    "                console.log('No matches for ' + searchStrings)\n",
    "                return resolve();\n",
    "            }\n",
    "\n",
    "            // TODO: try to build and make sure it works before patching\n",
    "            resolve(matches[0].replace('.ts', ''));\n",
    "        });\n",
    "    });\n",
    "};\n",
    "findSimilarFile;\n",
    "\n"
   ]
  },
  {
   "cell_type": "code",
   "execution_count": 1,
   "metadata": {},
   "outputs": [
    {
     "data": {
      "text/plain": [
       "[Function: projectRelatives]"
      ]
     },
     "execution_count": 1,
     "metadata": {},
     "output_type": "execute_result"
    }
   ],
   "source": [
    "var importer = require('../Core');\n",
    "var execSync = require('child_process').execSync;\n",
    "try {\n",
    "    require.resolve('glob');\n",
    "    require.resolve('gulp');\n",
    "    require.resolve('gulp-replace');\n",
    "    require.resolve('gulp-tap');\n",
    "} catch (e) {\n",
    "    execSync('npm install glob \"github:gulpjs/gulp.git#4.0\" gulp-replace gulp-tap');\n",
    "}\n",
    "var fs = require('fs');\n",
    "var path = require('path');\n",
    "var glob = require('glob');\n",
    "var gulp = require('gulp');\n",
    "var tap = require('gulp-tap');\n",
    "var replace = require('gulp-replace');\n",
    "\n",
    "// list all broken references in modules?\n",
    "var projectRelatives = (project) => {\n",
    "    var missing, missingPackages;\n",
    "    \n",
    "    var fixRelative = (m) => {\n",
    "        if(typeof m == 'undefined') {\n",
    "            return;\n",
    "        }\n",
    "        var file = m.split('.ts/')[0] + '.ts';\n",
    "        var fromPath = m.split('.ts/')[1].split('->')[0];\n",
    "        var match = m.split('.ts/')[1].split('->')[1];\n",
    "        var newRelative = path.relative(path.dirname(file), path.join(project, match));\n",
    "        gulp.task('fix include', function() {\n",
    "            var fixFile = path.relative(project, file);\n",
    "            console.log('Replacing ' + fromPath + ' -> ' + newRelative + ' in ' + fixFile)\n",
    "            return gulp.src(['**/' + fixFile], {cwd: project})\n",
    "                .pipe(replace(fromPath, newRelative))\n",
    "                .pipe(gulp.dest(project));\n",
    "        });\n",
    "        \n",
    "        return tasksToPromise(['fix include'], []);\n",
    "    };\n",
    "    \n",
    "    var uniqueArray = (arr) => arr.filter((value, index, array) => array.indexOf(value, index + 1) < 0);\n",
    "    \n",
    "    gulp.task('add packages', function () {\n",
    "        var toAdd = '';\n",
    "        return gulp.src('package.json', {cwd: project})\n",
    "            .pipe(tap(file => {\n",
    "                // TODO: resolve using existing package.json from another project?  This method of using the import isn't going to go far, how does NPM do this?  Possible to search for top two directories? @angular/material versus angular2-jwt versus zone.js/dist/zone\n",
    "                var content = file.contents.toString();\n",
    "                missingPackages.map(p => p.split('.ts/')[1].forEach(m => {\n",
    "                    if(content.indexOf(m) == -1) {\n",
    "                        toAdd += '\"' + m + '\": \"latest\",'\n",
    "                    }\n",
    "                });\n",
    "                if(toAdd != '') {\n",
    "                    console.log('Adding ' + toAdd);\n",
    "                    file.contents = new Buffer(content.replace(/\"dependencies\"\\s*:\\s*\\{/ig, (m) => m + toAdd));\n",
    "                }\n",
    "            }))\n",
    "            .pipe(gulp.dest(project));\n",
    "    });\n",
    "\n",
    "    gulp.task('fix relative paths and includes', \n",
    "        gulp.series(\n",
    "            importer.interpretAll([\n",
    "                'relative paths and includes'\n",
    "            ])\n",
    "            .then(r => r[0].runInNEL({project}))\n",
    "            .then(r => {\n",
    "                console.log(r);\n",
    "                {missing, missingPackages} = r;\n",
    "            }),\n",
    "            Promise.all(Object.keys(missing).map(k => findSimilarFile(k, project).then(f => {\n",
    "                if(typeof f == 'undefined') {\n",
    "                    return Promise.resolve();\n",
    "                }\n",
    "                return Promise.all(missing[k].map(m => fixRelative(m + '->' + f)));\n",
    "            }))),\n",
    "            'add packages'\n",
    "        ));\n",
    "    \n",
    "    return gulp.series('fix relative paths and includes');\n",
    "    // TODO: try building with all results resolved\n",
    "    // TODO: create path and apply\n",
    "};\n",
    "projectRelatives;\n",
    "\n"
   ]
  },
  {
   "cell_type": "markdown",
   "metadata": {},
   "source": [
    "De-lint notebook cells automatically?\n",
    "\n",
    "Find too long of functions using regexp?\n",
    "(?=\\{((?:[^{}]++|\\{(?1)\\})++)\\})\n",
    "\n",
    "Export all notebooks to a structured folder where each cell has it's own file for linting?\n",
    "\n",
    "Import files in to cells?\n",
    "\n"
   ]
  },
  {
   "cell_type": "markdown",
   "metadata": {},
   "source": []
  },
  {
   "cell_type": "code",
   "execution_count": null,
   "metadata": {},
   "outputs": [],
   "source": []
  }
 ],
 "metadata": {
  "kernel_info": {
   "name": "javascript"
  },
  "kernelspec": {
   "display_name": "Javascript (Node.js)",
   "language": "javascript",
   "name": "javascript"
  },
  "language_info": {
   "file_extension": ".js",
   "mimetype": "application/javascript",
   "name": "javascript",
   "version": "7.7.2"
  }
 },
 "nbformat": 4,
 "nbformat_minor": 4
}
