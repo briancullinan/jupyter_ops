{
 "cells": [
  {
   "cell_type": "markdown",
   "metadata": {},
   "source": [
    "How to run Mono with docker?"
   ]
  },
  {
   "cell_type": "code",
   "execution_count": 1,
   "metadata": {
    "collapsed": false,
    "inputHidden": false,
    "outputHidden": false
   },
   "outputs": [
    {
     "ename": "SyntaxError",
     "evalue": "Unexpected identifier",
     "execution_count": 1,
     "output_type": "error",
     "traceback": [
      "evalmachine.<anonymous>:1",
      "FROM mono:latest",
      "     ^^^^",
      "SyntaxError: Unexpected identifier",
      "    at createScript (vm.js:53:10)",
      "    at Object.runInThisContext (vm.js:95:10)",
      "    at run ([eval]:617:19)",
      "    at onRunRequest ([eval]:388:22)",
      "    at onMessage ([eval]:356:17)",
      "    at emitTwo (events.js:106:13)",
      "    at process.emit (events.js:194:7)",
      "    at process.nextTick (internal/child_process.js:766:12)",
      "    at _combinedTickCallback (internal/process/next_tick.js:73:7)",
      "    at process._tickCallback (internal/process/next_tick.js:104:9)"
     ]
    }
   ],
   "source": [
    "FROM\r",
    "mono:latest\r",
    "\r",
    ""
   ]
  },
  {
   "cell_type": "markdown",
   "metadata": {},
   "source": [
    "How to build a project with mono"
   ]
  },
  {
   "cell_type": "code",
   "execution_count": 2,
   "metadata": {
    "collapsed": false,
    "inputHidden": false,
    "outputHidden": false
   },
   "outputs": [
    {
     "ename": "SyntaxError",
     "evalue": "Unexpected string",
     "execution_count": 2,
     "output_type": "error",
     "traceback": [
      "evalmachine.<anonymous>:2",
      "echo '<configuration> \\",
      "     ^^^^^^^^^^^^^^^^^^",
      "SyntaxError: Unexpected string",
      "    at createScript (vm.js:53:10)",
      "    at Object.runInThisContext (vm.js:95:10)",
      "    at run ([eval]:617:19)",
      "    at onRunRequest ([eval]:388:22)",
      "    at onMessage ([eval]:356:17)",
      "    at emitTwo (events.js:106:13)",
      "    at process.emit (events.js:194:7)",
      "    at process.nextTick (internal/child_process.js:766:12)",
      "    at _combinedTickCallback (internal/process/next_tick.js:73:7)",
      "    at process._tickCallback (internal/process/next_tick.js:104:9)"
     ]
    }
   ],
   "source": [
    "echo\r",
    "'<configuration> \\\r",
    "   <packageRestore> \\\r",
    "       <add key=\"enabled\" value=\"True\" /> \\\r",
    "       <add key=\"automatic\" value=\"True\" /> \\\r",
    "   </packageRestore> \\\r",
    "   <packageSources> \\\r",
    "       <add key=\"nuget.org\" value=\"https://www.nuget.org/api/v2/\" /> \\\r",
    "       <add key=\"nuget.org\" value=\"https://api.nuget.org/v3/index.json\" protocolVersion=\"3\" /> \\\r",
    "       <add key=\"teamCity\" value=\"http://teamcity.actops.com/httpAuth/app/nuget/v1/FeedService.svc\" /> \\\r",
    "   </packageSources> \\\r",
    "</configuration>' > / act.subscription.management /\r",
    ".\r",
    "nuget / NuGet.Config\r",
    "\r",
    "ln - s\r",
    "subscription.myact / Subscription.MyAct\r",
    "ln - s\r",
    "subscription.core / Subscription.Core\r",
    "ln - s\r",
    "subscription.entitlement / Subscription.Entitlement\r",
    "ln - s\r",
    "subscription.integrations / Subscription.Integrations\r",
    "ln - s\r",
    "subscription.identitymanagement / Subscription.IdentityManagement\r",
    "\r",
    "nuget\r",
    "sources\r",
    "update - Name\r",
    "teamCity - source\r",
    "http://teamcity.actops.com/httpAuth/app/nuget/v1/FeedService.svc -User {username} -pass {password} -configFile .nuget/NuGet.Config -StorePasswordInClearText\r",
    "    nuget\r",
    "update / act.subscription.management / act.subscription.management.sln\r",
    "msbuild\r",
    "Subscription.IdentityManagement.csproj\r",
    ""
   ]
  },
  {
   "cell_type": "code",
   "execution_count": 3,
   "metadata": {
    "collapsed": false,
    "inputHidden": false,
    "outputHidden": false
   },
   "outputs": [
    {
     "ename": "SyntaxError",
     "evalue": "Unexpected identifier",
     "execution_count": 3,
     "output_type": "error",
     "traceback": [
      "evalmachine.<anonymous>:1",
      "FROM mono:latest",
      "     ^^^^",
      "SyntaxError: Unexpected identifier",
      "    at createScript (vm.js:53:10)",
      "    at Object.runInThisContext (vm.js:95:10)",
      "    at run ([eval]:617:19)",
      "    at onRunRequest ([eval]:388:22)",
      "    at onMessage ([eval]:356:17)",
      "    at emitTwo (events.js:106:13)",
      "    at process.emit (events.js:194:7)",
      "    at process.nextTick (internal/child_process.js:766:12)",
      "    at _combinedTickCallback (internal/process/next_tick.js:73:7)",
      "    at process._tickCallback (internal/process/next_tick.js:104:9)"
     ]
    }
   ],
   "source": [
    "#FROM\r",
    "mono:latest\r",
    "\r",
    "#RUN\r",
    "mono--\r",
    "version\r",
    "#RUN\r",
    "ls - la\r",
    "#ADD.\r",
    "/subscription.services /\r",
    "home / src\r",
    "#ADD.\r",
    "/act.subscription.management.sln /\r",
    "home / src\r",
    "#WORKDIR / home / src\r",
    "#RUN\r",
    "msbuild.\r",
    "/subscription.services/\r",
    "Subscription.Services.EloquaImport / Subscription.Services.EloquaImport.csproj\r",
    "#RUN\r",
    "mono\r",
    "Subscription.Services.EloquaImport.exe\r",
    "\r",
    "#FROM\r",
    "microsoft / aspnetcore\r",
    ":\r",
    "1.1\r",
    "FROM\r",
    "microsoft / aspnetcore - build\r",
    ":\r",
    "1.0 - 1.1\r",
    "ARG\r",
    "source\r",
    "EXPOSE\r",
    "80\r",
    "WORKDIR / app / src\r",
    "ADD.\r",
    "/*.sln /app/src/\r",
    "ADD ./subscription.services/Subscription.Services.EloquaImport/*.csproj /app/src/subscription.services/Subscription.Services.EloquaImport/\r",
    "ADD ./subscription.services/Subscription.Services.ZuoraExport/*.csproj /app/src/subscription.services/Subscription.Services.ZuoraExport/\r",
    "ADD ./*.dcproj /app/src/\r",
    "\r",
    "RUN /bin/bash -c \"dotnet restore ./act.subscription.management.sln\"\r",
    "\r",
    "ADD . /app/src \r",
    "RUN /bin/bash -c \"dotnet restore ./act.subscription.management.sln && dotnet publish ./act.subscription.management.sln -c Release -o ./obj/Docker/publish\"\r",
    "\r",
    "RUN cp -R ${source:-subscription.services/Subscription.Services.EloquaImport/obj/Docker/publish} /app\r",
    "\r",
    "WORKDIR /app/publish\r",
    "EXPOSE 80\r",
    "ENTRYPOINT [\"/usr/bin/dotnet\", \"/app/publish/Subscription.Services.EloquaImport.dll\"]\r",
    "\r",
    ""
   ]
  }
 ],
 "metadata": {
  "kernel_info": {
   "name": "node_nteract"
  },
  "kernelspec": {
   "display_name": "Javascript (Node.js)",
   "language": "javascript",
   "name": "javascript"
  },
  "language_info": {
   "file_extension": ".js",
   "mimetype": "application/javascript",
   "name": "javascript",
   "version": "7.7.2"
  }
 },
 "nbformat": 4,
 "nbformat_minor": 4
}