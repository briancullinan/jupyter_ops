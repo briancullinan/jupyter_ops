{
 "cells": [
  {
   "cell_type": "markdown",
   "metadata": {},
   "source": [
    "How to run Mono with docker?"
   ]
  },
  {
   "cell_type": "code",
   "execution_count": 1,
   "metadata": {
    "collapsed": false,
    "inputHidden": false,
    "outputHidden": false
   },
   "outputs": [
    {
     "ename": "SyntaxError",
     "evalue": "Unexpected identifier",
     "execution_count": 1,
     "output_type": "error",
     "traceback": [
      "evalmachine.<anonymous>:1",
      "FROM mono:latest",
      "     ^^^^",
      "SyntaxError: Unexpected identifier",
      "    at createScript (vm.js:53:10)",
      "    at Object.runInThisContext (vm.js:95:10)",
      "    at run ([eval]:617:19)",
      "    at onRunRequest ([eval]:388:22)",
      "    at onMessage ([eval]:356:17)",
      "    at emitTwo (events.js:106:13)",
      "    at process.emit (events.js:194:7)",
      "    at process.nextTick (internal/child_process.js:766:12)",
      "    at _combinedTickCallback (internal/process/next_tick.js:73:7)",
      "    at process._tickCallback (internal/process/next_tick.js:104:9)"
     ]
    }
   ],
   "source": [
    "FROM\n",
    "mono:latest\n",
    "\n",
    ""
   ]
  },
  {
   "cell_type": "markdown",
   "metadata": {},
   "source": [
    "How to build a project with mono"
   ]
  },
  {
   "cell_type": "code",
   "execution_count": 2,
   "metadata": {
    "collapsed": false,
    "inputHidden": false,
    "outputHidden": false
   },
   "outputs": [
    {
     "ename": "SyntaxError",
     "evalue": "Unexpected string",
     "execution_count": 2,
     "output_type": "error",
     "traceback": [
      "evalmachine.<anonymous>:2",
      "echo '<configuration> \\",
      "     ^^^^^^^^^^^^^^^^^^",
      "SyntaxError: Unexpected string",
      "    at createScript (vm.js:53:10)",
      "    at Object.runInThisContext (vm.js:95:10)",
      "    at run ([eval]:617:19)",
      "    at onRunRequest ([eval]:388:22)",
      "    at onMessage ([eval]:356:17)",
      "    at emitTwo (events.js:106:13)",
      "    at process.emit (events.js:194:7)",
      "    at process.nextTick (internal/child_process.js:766:12)",
      "    at _combinedTickCallback (internal/process/next_tick.js:73:7)",
      "    at process._tickCallback (internal/process/next_tick.js:104:9)"
     ]
    }
   ],
   "source": [
    "echo\n",
    "'<configuration> \\\n",
    "   <packageRestore> \\\n",
    "       <add key=\"enabled\" value=\"True\" /> \\\n",
    "       <add key=\"automatic\" value=\"True\" /> \\\n",
    "   </packageRestore> \\\n",
    "   <packageSources> \\\n",
    "       <add key=\"nuget.org\" value=\"https://www.nuget.org/api/v2/\" /> \\\n",
    "       <add key=\"nuget.org\" value=\"https://api.nuget.org/v3/index.json\" protocolVersion=\"3\" /> \\\n",
    "       <add key=\"teamCity\" value=\"http://teamcity.actops.com/httpAuth/app/nuget/v1/FeedService.svc\" /> \\\n",
    "   </packageSources> \\\n",
    "</configuration>' > / act.subscription.management /\n",
    ".\n",
    "nuget / NuGet.Config\n",
    "\n",
    "ln - s\n",
    "subscription.myact / Subscription.MyAct\n",
    "ln - s\n",
    "subscription.core / Subscription.Core\n",
    "ln - s\n",
    "subscription.entitlement / Subscription.Entitlement\n",
    "ln - s\n",
    "subscription.integrations / Subscription.Integrations\n",
    "ln - s\n",
    "subscription.identitymanagement / Subscription.IdentityManagement\n",
    "\n",
    "nuget\n",
    "sources\n",
    "update - Name\n",
    "teamCity - source\n",
    "http://teamcity.actops.com/httpAuth/app/nuget/v1/FeedService.svc -User {username} -pass {password} -configFile .nuget/NuGet.Config -StorePasswordInClearText\n",
    "    nuget\n",
    "update / act.subscription.management / act.subscription.management.sln\n",
    "msbuild\n",
    "Subscription.IdentityManagement.csproj\n",
    ""
   ]
  },
  {
   "cell_type": "code",
   "execution_count": 3,
   "metadata": {
    "collapsed": false,
    "inputHidden": false,
    "outputHidden": false
   },
   "outputs": [
    {
     "ename": "SyntaxError",
     "evalue": "Unexpected identifier",
     "execution_count": 3,
     "output_type": "error",
     "traceback": [
      "evalmachine.<anonymous>:1",
      "FROM mono:latest",
      "     ^^^^",
      "SyntaxError: Unexpected identifier",
      "    at createScript (vm.js:53:10)",
      "    at Object.runInThisContext (vm.js:95:10)",
      "    at run ([eval]:617:19)",
      "    at onRunRequest ([eval]:388:22)",
      "    at onMessage ([eval]:356:17)",
      "    at emitTwo (events.js:106:13)",
      "    at process.emit (events.js:194:7)",
      "    at process.nextTick (internal/child_process.js:766:12)",
      "    at _combinedTickCallback (internal/process/next_tick.js:73:7)",
      "    at process._tickCallback (internal/process/next_tick.js:104:9)"
     ]
    }
   ],
   "source": [
    "#FROM\n",
    "mono:latest\n",
    "\n",
    "#RUN\n",
    "mono--\n",
    "version\n",
    "#RUN\n",
    "ls - la\n",
    "#ADD.\n",
    "/subscription.services /\n",
    "home / src\n",
    "#ADD.\n",
    "/act.subscription.management.sln /\n",
    "home / src\n",
    "#WORKDIR / home / src\n",
    "#RUN\n",
    "msbuild.\n",
    "/subscription.services/\n",
    "Subscription.Services.EloquaImport / Subscription.Services.EloquaImport.csproj\n",
    "#RUN\n",
    "mono\n",
    "Subscription.Services.EloquaImport.exe\n",
    "\n",
    "#FROM\n",
    "microsoft / aspnetcore\n",
    ":\n",
    "1.1\n",
    "FROM\n",
    "microsoft / aspnetcore - build\n",
    ":\n",
    "1.0 - 1.1\n",
    "ARG\n",
    "source\n",
    "EXPOSE\n",
    "80\n",
    "WORKDIR / app / src\n",
    "ADD.\n",
    "/*.sln /app/src/\n",
    "ADD ./subscription.services/Subscription.Services.EloquaImport/*.csproj /app/src/subscription.services/Subscription.Services.EloquaImport/\n",
    "ADD ./subscription.services/Subscription.Services.ZuoraExport/*.csproj /app/src/subscription.services/Subscription.Services.ZuoraExport/\n",
    "ADD ./*.dcproj /app/src/\n",
    "\n",
    "RUN /bin/bash -c \"dotnet restore ./act.subscription.management.sln\"\n",
    "\n",
    "ADD . /app/src \n",
    "RUN /bin/bash -c \"dotnet restore ./act.subscription.management.sln && dotnet publish ./act.subscription.management.sln -c Release -o ./obj/Docker/publish\"\n",
    "\n",
    "RUN cp -R ${source:-subscription.services/Subscription.Services.EloquaImport/obj/Docker/publish} /app\n",
    "\n",
    "WORKDIR /app/publish\n",
    "EXPOSE 80\n",
    "ENTRYPOINT [\"/usr/bin/dotnet\", \"/app/publish/Subscription.Services.EloquaImport.dll\"]\n",
    "\n",
    ""
   ]
  }
 ],
 "metadata": {
  "kernel_info": {
   "name": "node_nteract"
  },
  "kernelspec": {
   "display_name": "Javascript (Node.js)",
   "language": "javascript",
   "name": "javascript"
  },
  "language_info": {
   "file_extension": ".js",
   "mimetype": "application/javascript",
   "name": "javascript",
   "version": "7.7.2"
  }
 },
 "nbformat": 4,
 "nbformat_minor": 4
}