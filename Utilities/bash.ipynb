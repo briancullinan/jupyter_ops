{
 "cells": [
  {
   "cell_type": "code",
   "execution_count": null,
   "metadata": {
    "collapsed": true
   },
   "outputs": [],
   "source": [
    "du -a . | sort -n -r | head -n 10\n"
   ]
  },
  {
   "cell_type": "markdown",
   "metadata": {},
   "source": [
    "node webdriver support?\n"
   ]
  },
  {
   "cell_type": "code",
   "execution_count": null,
   "metadata": {
    "collapsed": true
   },
   "outputs": [],
   "source": [
    "npm install wdio webdriverio fibers body-parser min-document"
   ]
  },
  {
   "cell_type": "markdown",
   "metadata": {},
   "source": [
    "install node?"
   ]
  },
  {
   "cell_type": "code",
   "execution_count": null,
   "metadata": {
    "collapsed": true
   },
   "outputs": [],
   "source": [
    "curl -sL https://deb.nodesource.com/setup_9.x | sudo -E bash - \\\n",
    "    && sudo apt-get update -qqy \\\n",
    "    && sudo apt-get -qqy install nodejs build-essential"
   ]
  },
  {
   "cell_type": "markdown",
   "metadata": {},
   "source": [
    "install notebooks?"
   ]
  },
  {
   "cell_type": "code",
   "execution_count": null,
   "metadata": {
    "collapsed": true
   },
   "outputs": [],
   "source": [
    "git clone https://megamindbrian@bitbucket.org/megamindbrian/jupyter_ops.git ./jupytangular \\\n",
    "   && cd ~/jupytangular \\\n",
    "   && npm run install:minimal"
   ]
  },
  {
   "cell_type": "markdown",
   "metadata": {},
   "source": [
    "install systemd?"
   ]
  },
  {
   "cell_type": "code",
   "execution_count": null,
   "metadata": {
    "collapsed": true
   },
   "outputs": [],
   "source": [
    "cd ~/jupytangular && sudo cp ./jupyter.service /etc/systemd/system \\\n",
    "   && sudo cp ./jupyter.timer /etc/systemd/system \\\n",
    "   && sudo systemctl daemon-reload \\\n",
    "   && sudo systemctl enable jupyter \\\n",
    "   && sudo cp ./selenium.service /etc/systemd/system \\\n",
    "   && sudo systemctl daemon-reload \\\n",
    "   && sudo systemctl enable selenium \\\n",
    "   && sudo systemctl start selenium.service"
   ]
  },
  {
   "cell_type": "markdown",
   "metadata": {},
   "source": [
    "install launchd?"
   ]
  },
  {
   "cell_type": "code",
   "execution_count": null,
   "metadata": {
    "collapsed": true
   },
   "outputs": [],
   "source": [
    "cp ./com.jupytangular.heartbeat.plist ~/Library/LaunchCtl/ \\\n",
    "   && launchctl load com.jupytangular.heartbeat.plist \\\n",
    "   && launchctl enable com.jupytangular.heartbeat.plist \\\n",
    "   && launchctl start com.jupytangular.heartbeat.plist"
   ]
  },
  {
   "cell_type": "markdown",
   "metadata": {},
   "source": []
  },
  {
   "cell_type": "code",
   "execution_count": null,
   "metadata": {
    "collapsed": true
   },
   "outputs": [],
   "source": []
  }
 ],
 "metadata": {
  "kernelspec": {
   "display_name": "Bash",
   "language": "bash",
   "name": "bash"
  },
  "language_info": {
   "codemirror_mode": "shell",
   "file_extension": ".sh",
   "mimetype": "text/x-sh",
   "name": "bash"
  }
 },
 "nbformat": 4,
 "nbformat_minor": 2
}
