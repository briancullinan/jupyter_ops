{
  "cells": [
    {
      "cell_type": "markdown",
      "source": [
        "# How to use nodejs express?"
      ],
      "metadata": {}
    },
    {
      "cell_type": "code",
      "source": [
        "var exec = require('child_process').execSync;\n",
        "var fs = require('fs');\n",
        "var sourceCmd = exec('npm install jsdom express request mime', {stdio: [0,1,2]});\n",
        "var express = require('express');  \n",
        "var mime = require('mime');\n",
        "var path = require('path');\n",
        "var request = require('request');\n",
        "var JSDOM = require('jsdom').JSDOM;\n",
        "\n",
        "var output = path.join(process.cwd(), 'output');\n",
        "var port = process.env.PORT || 3000;\n",
        "var host = 'localhost';\n",
        "var query = '.w-gallery-list img';\n",
        "\n$$.done('express is ready');"
      ],
      "outputs": [
        {
          "output_type": "execute_result",
          "execution_count": 1,
          "data": {
            "text/plain": [
              "'express is ready'"
            ]
          },
          "metadata": {}
        }
      ],
      "execution_count": 1,
      "metadata": {
        "collapsed": false,
        "outputHidden": false,
        "inputHidden": false
      }
    },
    {
      "cell_type": "markdown",
      "source": [
        "How to start a proxy using express?\n",
        "\n",
        "How to start a proxy on {port}?\n",
        "\n"
      ],
      "metadata": {}
    },
    {
      "cell_type": "code",
      "source": [
        "if (typeof server != 'undefined') {\n",
        "    server.close();\n",
        "}\n",
        "var app = express();\n",
        "app.use('/', function(req, res) {  \n",
        "    var url = host + req.url;\n",
        "    req.pipe(request(url)).pipe(res);\n",
        "});\n",
        "\n",
        "$$.async();\n",
        "try {\n",
        "    var server = app.listen(port, () => $$.done('server up and running on port ' + port));\n",
        "    server.on('error', (e) => $$.done(e));\n",
        "} catch (e) {\n",
        "    $$.done(e);\n",
        "}\n",
        "\n"
      ],
      "outputs": [
        {
          "output_type": "stream",
          "name": "stdout",
          "text": [
            "{ Error: listen EADDRINUSE :::3000\n",
            "    at Object.exports._errnoException (util.js:1026:11)\n",
            "    at exports._exceptionWithHostPort (util.js:1049:20)\n",
            "    at Server._listen2 (net.js:1253:14)\n",
            "    at listen (net.js:1289:10)\n",
            "    at Server.listen (net.js:1385:5)\n",
            "    at EventEmitter.listen (/Users/briancullinan/jupytangular2/node_modules/express/lib/application.js:618:24)\n",
            "    at evalmachine.<anonymous>:12:22\n",
            "    at ContextifyScript.Script.runInThisContext (vm.js:25:33)\n",
            "    at Object.exports.runInThisContext (vm.js:77:17)\n",
            "    at run ([eval]:613:19)\n",
            "  code: 'EADDRINUSE',\n",
            "  errno: 'EADDRINUSE',\n",
            "  syscall: 'listen',\n",
            "  address: '::',\n",
            "  port: 3000 }\n"
          ]
        }
      ],
      "execution_count": 2,
      "metadata": {
        "collapsed": false,
        "outputHidden": false,
        "inputHidden": false
      }
    },
    {
      "cell_type": "markdown",
      "source": [
        "How to display the output from express?\n",
        "\nHow to test express is working with HTML?"
      ],
      "metadata": {}
    },
    {
      "cell_type": "code",
      "source": [
        "$$.mime({'text/html' : `\n",
        "<iframe id=\"sosmethod\" name=\"sosmethod\" \n",
        "    style=\"height:600px; width:100%; border:none;\" \n",
        "    src=\"http://${host}:${port}/\"></iframe>`});"
      ],
      "outputs": [],
      "execution_count": 3,
      "metadata": {
        "collapsed": false,
        "outputHidden": false,
        "inputHidden": false
      }
    },
    {
      "cell_type": "markdown",
      "source": [
        "How to run a DOM query on a remote HTML page?"
      ],
      "metadata": {}
    },
    {
      "cell_type": "code",
      "source": [
        "$$.async();\n",
        "var images = [];\n",
        "new Promise((resolve, reject) => {\n",
        "    request('http://' + host + ':' + port, (err, res, body) => {\n",
        "        if (err) {reject(err)}\n",
        "        else {resolve(body)}\n",
        "    });\n",
        "}).then((body) => {\n",
        "    var nodeList = (new JSDOM(body)).window.document.querySelectorAll(query);\n",
        "    return Array.prototype.slice.call(nodeList, 0)\n",
        "        .map(i => i.getAttribute('src'));\n",
        "}).then(sources => {\n",
        "    images = sources;\n",
        "    $$.done(sources);\n",
        "}).catch(e => $$.done(e));\n"
      ],
      "outputs": [],
      "execution_count": 4,
      "metadata": {
        "collapsed": false,
        "outputHidden": false,
        "inputHidden": false
      }
    },
    {
      "cell_type": "markdown",
      "source": [
        "How to save a list of image elements?\n",
        "\n",
        "How to display a list of image elements in markdown?\n",
        "\n",
        "How to {output} image elements in the requested {format}?\n"
      ],
      "metadata": {}
    },
    {
      "cell_type": "code",
      "source": [
        "html = '';\n",
        "htmlPrint = '';\n",
        "var requests = images.map((src) => {\n",
        "    var filename = src.split('/').pop();\n",
        "    return new Promise((resolve, reject) => {\n",
        "        request(src, {encoding: 'binary'}, (err, res, body) => {\n",
        "            if (err) {reject(err)}\n",
        "            else {resolve(body)}\n",
        "        });\n",
        "    }).then(body => {\n",
        "        return new Promise((resolve, reject) => {\n",
        "        fs.writeFile(\n",
        "            path.join(output, filename), \n",
        "            body, \n",
        "            'binary', \n",
        "            function(err) {\n",
        "                if (err) reject(err);\n",
        "                else resolve({filename: filename, data: body});\n",
        "            });\n",
        "        })\n",
        "    });\n",
        "});\n",
        "$$.async();\n",
        "Promise.all(requests).then(images => {\n",
        "    images.forEach((i) => {\n",
        "        var filename = i.filename.split('/').pop();\n",
        "        var ext = mime.lookup(i.filename);\n",
        "        html += '<img src=\"data:' + ext + ';base64,' + (new Buffer(i.data, 'binary')).toString('base64') + '\" />';\n",
        "        htmlPrint += '<li><img src=\"/assets/' + filename + '\" /></li>\\n';\n",
        "    });\n",
        "    $$.mime({'text/markdown' : 'Usage:\\n\\n```html\\n' + htmlPrint + '\\n```\\nOutput:\\n' + html});\n",
        "}).catch(e => $$.done(e));\n"
      ],
      "outputs": [],
      "execution_count": 16,
      "metadata": {
        "collapsed": false,
        "outputHidden": false,
        "inputHidden": false
      }
    },
    {
      "cell_type": "markdown",
      "source": [
        "How to stop express server?"
      ],
      "metadata": {}
    },
    {
      "cell_type": "code",
      "source": [
        "if (typeof server !== 'undefined') {\n",
        "    server.close();\n",
        "}\n",
        "\n"
      ],
      "outputs": [],
      "execution_count": 6,
      "metadata": {
        "collapsed": false,
        "outputHidden": false,
        "inputHidden": false
      }
    }
  ],
  "metadata": {
    "kernelspec": {
      "name": "node_nteract",
      "language": "javascript",
      "display_name": "Node.js (nteract)"
    },
    "kernel_info": {
      "name": "node_nteract"
    },
    "language_info": {
      "name": "javascript",
      "version": "6.5.0",
      "mimetype": "application/javascript",
      "file_extension": ".js"
    }
  },
  "nbformat": 4,
  "nbformat_minor": 4
}