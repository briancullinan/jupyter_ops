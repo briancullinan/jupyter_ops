{
  "cells": [
    {
      "cell_type": "markdown",
      "source": [
        "# How to find answers using jupyter?\n",
        "\n",
        "Include this header script in your notebooks to find more answers.\n",
        "\n",
        "How to use inheritence in jupyter notebooks?\n",
        "\n",
        "How to make a class out of jupter notebooks?\n",
        "\n",
        "How to use jupyter notebooks as services?\n",
        "\n",
        "How to sanity check the environment?\n"
      ],
      "metadata": {}
    },
    {
      "cell_type": "code",
      "source": [
        "var deps = ['npm install', 'JSONStream', 'path', 'fs', 'vm', ];\n",
        "require('child_process').execSync(deps.slice(0, 2).join(' '));\n",
        "deps.slice(1).forEach(v => (global[v] = require(v)));\n",
        "\n",
        "// TODO: exports, require, module, __filename, __dirname\n",
        "(deps);\n"
      ],
      "outputs": [],
      "execution_count": 1,
      "metadata": {
        "collapsed": false,
        "outputHidden": false,
        "inputHidden": false
      }
    },
    {
      "cell_type": "markdown",
      "source": [
        "How to import a code cells from jupyter?\n",
        "\n",
        "How to import cells of different {types}?\n"
      ],
      "metadata": {}
    },
    {
      "cell_type": "code",
      "source": [
        "var getCells = (notebook, types) => {\n",
        "    if (typeof types == 'undefined') {\n",
        "        var types = 'code';\n",
        "    }\n",
        "    if (typeof types === 'string') {\n",
        "        types = [types];\n",
        "    }\n",
        "    var cellsToRun = [];\n",
        "    var cells = fs.createReadStream(notebook)\n",
        "        .pipe(require('JSONStream').parse('cells.*'));\n",
        "    cells.on('data', (cell) => {\n",
        "        if(types.indexOf(cell.cell_type) > -1) {\n",
        "            cellsToRun[cellsToRun.length] = cell;\n",
        "        }\n",
        "    });\n",
        "    return new Promise((resolve, reject) => {\n",
        "        cells.on('error', e => reject(e, notebook));\n",
        "        cells.on('close', () => resolve(cellsToRun, notebook))\n",
        "    });\n",
        "};\n",
        "(getCells);\n",
        "\n"
      ],
      "outputs": [],
      "execution_count": 2,
      "metadata": {
        "collapsed": false,
        "outputHidden": false,
        "inputHidden": false
      }
    },
    {
      "cell_type": "markdown",
      "source": [
        "How to create VM promises out of the cell content?"
      ],
      "metadata": {}
    },
    {
      "cell_type": "code",
      "source": [
        "// supported format How to find answers.ipynb[2]\n",
        "try {\n",
        "var promiseContext = (scripts) => {\n",
        "    var ctx = Object.assign({}, global);\n",
        "    ctx.global = ctx;\n",
        "    ctx.$$ = {};\n",
        "    ctx = vm.createContext(ctx);\n",
        "    return scripts.map(cell => (resolve, reject) => {\n",
        "        try {\n",
        "            var _isAsync = false;\n",
        "            ctx.$$ = {\n",
        "                async: () => {_isAsync = true},\n",
        "                done: done => resolve(done),\n",
        "                sendResult: r => resolve(r)\n",
        "            };\n",
        "            var result = vm.runInContext(cell, ctx)\n",
        "            if (_isAsync === false) {\n",
        "                return resolve(result);\n",
        "            }\n",
        "        } catch (e) {\n",
        "            return resolve(e);\n",
        "        }\n",
        "    });\n",
        "};\n",
        "\n",
        "$$.async();\n",
        "var cells = [\n",
        "    '$$.sendResult(\"Sucessfully ran a script in it\\'s own context!\")',\n",
        "    '$$.async(); setTimeout(() => $$.sendResult(\"async works!\"), 100)'\n",
        "];\n",
        "var promises = promiseContext(cells)\n",
        "    .map((p) => new Promise(p));\n",
        "var promise = promises[1]\n",
        "    .then((r) => {\n",
        "        console.log(r);\n",
        "        $$.sendResult(promiseContext)\n",
        "    });\n",
        "}catch(e){$$.sendResult(e)}"
      ],
      "outputs": [
        {
          "output_type": "execute_result",
          "execution_count": 5,
          "data": {
            "text/plain": [
              "[Function: promiseContext]"
            ]
          },
          "metadata": {}
        }
      ],
      "execution_count": 5,
      "metadata": {
        "collapsed": false,
        "outputHidden": false,
        "inputHidden": false
      }
    },
    {
      "cell_type": "markdown",
      "source": [
        "How to resolve a list of promises?\n",
        "\n",
        "How to execute all the cells in a notebook?\n",
        "\n"
      ],
      "metadata": {}
    },
    {
      "cell_type": "code",
      "source": [
        "try {\n",
        "var runAllPromises = (promises) => {\n",
        "    return promises.reduce((promise, func) => {\n",
        "        return promise.then(result => {\n",
        "            return (new Promise(func))\n",
        "                .then(Array.prototype.concat.bind(result));\n",
        "        });\n",
        "    },Promise.resolve([]));\n",
        "};\n",
        "\n",
        "var cells = [\n",
        "    '$$.sendResult(\"promise 1\")',\n",
        "    '$$.sendResult(\"promise 2\")',\n",
        "    '$$.sendResult(\"Sucessfully ran a all promises!\")'\n",
        "];\n",
        "var promises = promiseContext(cells, 'this one')\n",
        "// error when returing \"promise 1\" because context is supposed to be overriden\n",
        "$$.async();\n",
        "runAllPromises(promises, 'this one')\n",
        "    .then((results) => {\n",
        "        console.log(results);\n",
        "        $$.sendResult(runAllPromises);\n",
        "    });\n",
        "}catch(e){$$.sendResult(e)}"
      ],
      "outputs": [],
      "execution_count": 4,
      "metadata": {
        "collapsed": false,
        "outputHidden": false,
        "inputHidden": false
      }
    },
    {
      "cell_type": "markdown",
      "source": [
        "How to import a {notebook}?\n",
        "\n",
        "How to test the import feature?\n"
      ],
      "metadata": {}
    },
    {
      "cell_type": "code",
      "source": [
        "try {\n",
        "if (typeof imported == 'undefined') { var imported = []; }\n",
        "if (typeof funcCache == 'undefined') { var funcCache = {}; }\n",
        "var importNotebook = (notebook) => {\n",
        "    if(typeof notebook === 'undefined') {\n",
        "        return Promise.resolve();\n",
        "    }\n",
        "    if (imported.indexOf(notebook) > -1) {\n",
        "        console.log('Already imported ' + imported.toString());\n",
        "        return Promise.resolve(funcCache[path.basename(notebook)]);\n",
        "    }\n",
        "    return getCells(notebook, 'code').then((cells) => {\n",
        "        var sources = cells.map(cell => cell.source.join('').trim());\n",
        "        var promises = promiseContext(sources, notebook);\n",
        "        console.log('started ' + notebook \n",
        "                    + ' with ' + cells.length + ' cells');\n",
        "        imported[imported.length] = notebook;\n",
        "        return runAllPromises(promises);\n",
        "    }).then((results) => {\n",
        "        console.log(results);\n",
        "        var result = {};\n",
        "        results.forEach((r, i) => {\n",
        "            if (typeof r === 'function') {\n",
        "                result[path.basename(notebook)+'['+i+']'] = r;\n",
        "            }\n",
        "        });\n",
        "        funcCache[path.basename(notebook)] = result;\n",
        "        Object.assign(global, result);\n",
        "        return result;\n",
        "    });\n",
        "}\n",
        "\n",
        "    // test to make sure it works\n",
        "    $$.async();\n",
        "    var imports = importNotebook('How to find answers.ipynb')\n",
        "            .then((results) => {\n",
        "                console.log(results);\n",
        "                $$.sendResult(importNotebook);\n",
        "            }).catch((e) => $$.sendResult(e));\n",
        "} catch (e) {$$.sendResult(e)}\n"
      ],
      "outputs": [],
      "execution_count": 5,
      "metadata": {
        "collapsed": false,
        "outputHidden": false,
        "inputHidden": false
      }
    },
    {
      "cell_type": "markdown",
      "source": [
        "These are some other useful notebooks you may want to import.\n",
        "\n",
        "How to train a chatbot using jupyter services?\n",
        "\n",
        "What is code completion for jupter notebooks?\n",
        "\n"
      ],
      "metadata": {}
    },
    {
      "cell_type": "code",
      "source": [
        "//$$.async();\n",
        "//importNotebook('How to interpret questions.ipynb')\n",
        "//    .then(() => $$.done('done importing importing'));\n",
        "\n",
        "$$.async();\n",
        "\n",
        "setTimeout(() => $$.sendResult('hit'), 2000);\n"
      ],
      "outputs": [],
      "execution_count": 6,
      "metadata": {
        "collapsed": false,
        "outputHidden": false,
        "inputHidden": false
      }
    },
    {
      "cell_type": "code",
      "source": [],
      "outputs": [],
      "execution_count": 7,
      "metadata": {
        "collapsed": false,
        "outputHidden": false,
        "inputHidden": false
      }
    }
  ],
  "metadata": {
    "kernelspec": {
      "name": "node_nteract",
      "language": "javascript",
      "display_name": "Node.js (nteract)"
    },
    "kernel_info": {
      "name": "node_nteract"
    },
    "language_info": {
      "name": "javascript",
      "version": "6.5.0",
      "mimetype": "application/javascript",
      "file_extension": ".js"
    }
  },
  "nbformat": 4,
  "nbformat_minor": 4
}