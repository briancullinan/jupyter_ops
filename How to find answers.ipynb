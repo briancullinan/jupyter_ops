{
  "cells": [
    {
      "cell_type": "markdown",
      "source": [
        "# How to find answers using jupyter?\n",
        "\n",
        "Include this header script in your notebooks to find more answers.\n",
        "\n",
        "How to use inheritence in jupyter notebooks?\n",
        "\n",
        "How to make a class out of jupter notebooks?\n",
        "\n",
        "How to use jupyter notebooks as services?\n",
        "\n",
        "How to sanity check the environment?\n"
      ],
      "metadata": {}
    },
    {
      "cell_type": "code",
      "source": [
        "// initialize NEL\n",
        "try {\n",
        "var deps = ['npm install', 'JSONStream', 'nel', 'path', 'fs', 'vm'];\n",
        "require('child_process').execSync(deps.slice(0, 3).join(' '));\n",
        "deps.slice(1).forEach(v => (global[v] = require(v)));\n",
        "\n",
        "// How to parse cells of {types} from a notebook?\n",
        "var getCells = (notebook, types = ['code']) => {\n",
        "    var cells = [];\n",
        "    var file = fs.createReadStream(notebook)\n",
        "        .pipe(JSONStream.parse('cells.*'));\n",
        "    file.on('data', (cell) => {\n",
        "        if(types.indexOf(cell.cell_type) > -1) {\n",
        "            cells[cells.length] = cell.source.join('').trim();\n",
        "        }\n",
        "    });\n",
        "    // create a promise out of this stream\n",
        "    return new Promise((resolve, reject) => {\n",
        "        file.on('error', e => reject(e, notebook));\n",
        "        file.on('close', () => resolve(cells, notebook))\n",
        "    });\n",
        "};\n",
        "\n",
        "// How to run all promises sequentially?\n",
        "var runAllPromises = (promises) => {\n",
        "    return promises.reduce((promise, func) => {\n",
        "        return promise.then(result => {\n",
        "            return (new Promise(func))\n",
        "                .then(Array.prototype.concat.bind(result));\n",
        "        });\n",
        "    },Promise.resolve([]));\n",
        "};\n",
        "\n",
        "// How to create VM promises out of the cell content?\n",
        "var runAll = (cells) => {\n",
        "    var sess = new nel.Session();\n",
        "    return runAllPromises(cells.map(\n",
        "        (cell) => (resolve) => sess.execute(cell, {\n",
        "            onSuccess: (o) => resolve(o),\n",
        "            onError: (o) => resolve(o),\n",
        "        })\n",
        "    ));\n",
        "};\n",
        "\n",
        "// How to test to make sure the VM works?\n",
        "$$.async();\n",
        "getCells('How to find answers.ipynb')\n",
        "    .then(cells => runAll(cells)\n",
        "          .then((r) => $$.sendResult(getCells)));\n",
        "}catch(e){$$.sendError(e)}\n",
        "// $$.done() // for our dumb parser\n"
      ],
      "outputs": [
        {
          "output_type": "execute_result",
          "execution_count": 6,
          "data": {
            "text/plain": [
              "Promise { <pending> }"
            ]
          },
          "metadata": {}
        },
        {
          "output_type": "execute_result",
          "execution_count": 6,
          "data": {
            "text/plain": [
              "[Function: getCells]"
            ]
          },
          "metadata": {}
        }
      ],
      "execution_count": 6,
      "metadata": {
        "collapsed": false,
        "outputHidden": false,
        "inputHidden": false
      }
    },
    {
      "cell_type": "markdown",
      "source": [
        "How to import a {notebook}?\n",
        "\n",
        "How to test the import feature?\n"
      ],
      "metadata": {}
    },
    {
      "cell_type": "code",
      "source": [
        "if (typeof imported == 'undefined') { var imported = {}; }\n",
        "\n",
        "// display a heading when new notebooks are imported\n",
        "var runWithHeader = (cells, filename) => {\n",
        "    console.log('Running ' + filename  \n",
        "                + ' with ' + cells.length + ' cells');\n",
        "    return (imported[filename] = runAll(cells));\n",
        "};\n",
        "\n",
        "// cache results when notebooks are processed\n",
        "var assignResults = (results, filename) => {\n",
        "    var results = results.reduce((obj, r, i) => {\n",
        "        if (typeof r === 'function') {\n",
        "            obj[filename+'['+i+']'] = r\n",
        "        }\n",
        "        return obj;\n",
        "    }, {});\n",
        "    Object.assign(global, results);\n",
        "    imported[filename] = Promise.resolve(results);\n",
        "    return results;\n",
        "};\n",
        "\n",
        "// provide a function for importing any notebook as a module and executing it\n",
        "var importNotebook = (notebook) => {\n",
        "    try {\n",
        "    var filename = path.basename(notebook);\n",
        "    if(typeof notebook === 'undefined') {\n",
        "        return Promise.resolve([]);\n",
        "    }\n",
        "    if (typeof imported[filename] !== 'undefined') {\n",
        "        console.log('Already imported');\n",
        "        console.log(Object.keys(imported));\n",
        "        return imported[filename];\n",
        "    }\n",
        "    return getCells(notebook, 'code')\n",
        "        .then((cells) => runWithHeader(cells, filename))\n",
        "        .then((results) => assignResults(results, filename));\n",
        "    }catch(e){console.log(e); return Promise.resolve([])}\n",
        "};\n",
        "\n",
        "// use this document as the test results to prevent recursion\n",
        "imported['How to find answers.ipynb'] = Promise.resolve({\n",
        "    'How to find answers.ipynb[0]': getCells,\n",
        "    'How to find answers.ipynb[1]': importNotebook\n",
        "});\n",
        "\n",
        "// test to make sure it works\n",
        "$$.async();\n",
        "importNotebook('How to find answers.ipynb')\n",
        "    .then((results) => {\n",
        "        $$.sendResult(importNotebook);\n",
        "    }).catch((e) => $$.sendError(e));\n",
        "// $$.done()\n"
      ],
      "outputs": [
        {
          "output_type": "stream",
          "name": "stdout",
          "text": [
            "Already imported\n",
            "[ 'How to find answers.ipynb' ]\n"
          ]
        },
        {
          "output_type": "execute_result",
          "execution_count": 4,
          "data": {
            "text/plain": [
              "[Function: importNotebook]"
            ]
          },
          "metadata": {}
        }
      ],
      "execution_count": 4,
      "metadata": {
        "collapsed": false,
        "outputHidden": false,
        "inputHidden": false
      }
    },
    {
      "cell_type": "markdown",
      "source": [
        "These are some other useful notebooks you may want to import.\n",
        "\n",
        "How to train a chatbot using jupyter services?\n",
        "\n",
        "What is code completion for jupter notebooks?\n",
        "\n"
      ],
      "metadata": {}
    },
    {
      "cell_type": "code",
      "source": [
        "//$$.async();\n",
        "//importNotebook('How to interpret questions.ipynb')\n",
        "//    .then(() => $$.done('done importing importing'));\n",
        "\n",
        "$$.async();\n",
        "\n",
        "setTimeout(() => $$.sendResult('hit2'), 2000);\n",
        "// $$.done()\n"
      ],
      "outputs": [
        {
          "output_type": "execute_result",
          "execution_count": 7,
          "data": {
            "text/plain": [
              "'hit2'"
            ]
          },
          "metadata": {}
        }
      ],
      "execution_count": 7,
      "metadata": {
        "collapsed": false,
        "outputHidden": false,
        "inputHidden": false
      }
    },
    {
      "cell_type": "code",
      "source": [],
      "outputs": [],
      "execution_count": null,
      "metadata": {
        "collapsed": false,
        "outputHidden": false,
        "inputHidden": false
      }
    }
  ],
  "metadata": {
    "kernelspec": {
      "name": "node_nteract",
      "language": "javascript",
      "display_name": "Node.js (nteract)"
    },
    "kernel_info": {
      "name": "node_nteract"
    },
    "language_info": {
      "name": "javascript",
      "version": "6.5.0",
      "mimetype": "application/javascript",
      "file_extension": ".js"
    }
  },
  "nbformat": 4,
  "nbformat_minor": 4
}