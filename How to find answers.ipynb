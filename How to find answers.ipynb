{
  "cells": [
    {
      "cell_type": "markdown",
      "source": [
        "# How to find answers using jupyter?\n",
        "\n",
        "Include this header script in your notebooks to find more answers.\n",
        "\n",
        "How to use inheritence in jupyter notebooks?\n",
        "\n",
        "How to make a class out of jupter notebooks?\n",
        "\n",
        "How to use jupyter notebooks as services?\n",
        "\n"
      ],
      "metadata": {}
    },
    {
      "cell_type": "code",
      "source": [
        "// initialize\n",
        "\n",
        "// TLDR; What do we end up with?\n",
        "var importNotebook = (notebook) => Promise.resolve({});\n",
        "var getCells = ((notebook, types = ['code']) => Promise.resolve([]));\n",
        "var runAllInNEL = (cells) => Promise.resolve([]);\n",
        "var assignResults = (results, filename) => {};\n",
        "\n",
        "// provide a function for importing any notebook as a module and executing it\n",
        "var importNotebook = (notebook) => {\n",
        "    try {\n",
        "        return getCells(notebook, 'code')\n",
        "            .then(cells => runAllInNEL(cells))\n",
        "            .then(results => assignResults(results, notebook))\n",
        "            .catch(e => {\n",
        "                console.log(e);\n",
        "                return ;\n",
        "            });\n",
        "    } catch(e){console.log(e); return Promise.resolve({})}\n",
        "};\n",
        "\n",
        "// $$.done(); for our dumb parser\n",
        "\n"
      ],
      "outputs": [],
      "execution_count": 1,
      "metadata": {
        "collapsed": false,
        "outputHidden": false,
        "inputHidden": false
      }
    },
    {
      "cell_type": "markdown",
      "source": [
        "What do I need to have installed?\n",
        "\n",
        "How to sanity check the environment?\n"
      ],
      "metadata": {}
    },
    {
      "cell_type": "code",
      "source": [
        "// initialize\n",
        "\n",
        "var execSync = require('child_process').execSync;\n",
        "var deps = ['npm install', 'JSONStream', 'nel', 'path', 'fs', 'vm'];\n",
        "var assign = v => Object.assign(global[v] = require(v));\n",
        "execSync(deps.slice(0, 3).join(' '), {stdio: 'inherit'});\n",
        "deps.slice(1).forEach(assign);\n",
        "\n",
        "// $$.done() for our dumb parser\n"
      ],
      "outputs": [],
      "execution_count": 2,
      "metadata": {
        "collapsed": false,
        "outputHidden": false,
        "inputHidden": false
      }
    },
    {
      "cell_type": "markdown",
      "source": [
        "How to stream json using a {match} function?"
      ],
      "metadata": {}
    },
    {
      "cell_type": "code",
      "source": [
        "// initialize\n",
        "\n",
        "(streamJson = (file, parse, match = ((c) => true)) => {\n",
        "    var file = fs.createReadStream(file)\n",
        "        .pipe(JSONStream.parse(parse));\n",
        "    file.on('data', (m) => match(m));\n",
        "    // create a promise out of this stream\n",
        "    return new Promise((resolve, reject) => {\n",
        "        file.on('error', e => reject(e, file));\n",
        "        file.on('close', () => resolve(file))\n",
        "    });\n",
        "});\n",
        "// $$.done() for our dumb parser\n",
        "\n"
      ],
      "outputs": [
        {
          "output_type": "execute_result",
          "execution_count": 3,
          "data": {
            "text/plain": [
              "[Function: streamJson]"
            ]
          },
          "metadata": {}
        }
      ],
      "execution_count": 3,
      "metadata": {
        "collapsed": false,
        "outputHidden": false,
        "inputHidden": false
      }
    },
    {
      "cell_type": "markdown",
      "source": [
        "\n",
        "How to parse cells of {types} from a notebook?\n",
        "\n"
      ],
      "metadata": {}
    },
    {
      "cell_type": "code",
      "source": [
        "// initialize\n",
        "\n",
        "// How to use getCells?\n",
        "(getCells = (notebook, types = ['code']) => {\n",
        "    var cells = [];\n",
        "    return streamJson(notebook, 'cells.*', (match) => {\n",
        "        if(types.indexOf(match.cell_type) > -1) {\n",
        "            cells[cells.length] = match.source.join('').trim();\n",
        "        }\n",
        "    }).then((file) => cells);\n",
        "});\n",
        "\n",
        "// $$.done() for our dumb parser\n"
      ],
      "outputs": [
        {
          "output_type": "execute_result",
          "execution_count": 4,
          "data": {
            "text/plain": [
              "[Function: getCells]"
            ]
          },
          "metadata": {}
        }
      ],
      "execution_count": 4,
      "metadata": {
        "collapsed": false,
        "outputHidden": false,
        "inputHidden": false
      }
    },
    {
      "cell_type": "markdown",
      "source": [
        "How to run all promises sequentially?\n",
        "\n"
      ],
      "metadata": {}
    },
    {
      "cell_type": "code",
      "source": [
        "// initialize\n",
        "\n",
        "var runAllPromises = (promises) => {\n",
        "    return promises.reduce((promise, func) => {\n",
        "        return promise.then(result => {\n",
        "            return (new Promise(func))\n",
        "                .then(Array.prototype.concat.bind(result));\n",
        "        });\n",
        "    },Promise.resolve([]));\n",
        "};\n",
        "\n",
        "// How to create VM promises out of the cell content?\n",
        "(runAllInNEL = (cells) => {\n",
        "    var sess = new nel.Session();\n",
        "    return runAllPromises(\n",
        "        cells.map(\n",
        "            (cell) => \n",
        "            (resolve) => \n",
        "            sess.execute(cell, {\n",
        "                onSuccess: (o) => resolve(o),\n",
        "                onError: (o) => resolve(o),\n",
        "                beforeRun: () => {}})\n",
        "    ));\n",
        "});\n",
        "// $$.done() for our dumb parser\n",
        "\n"
      ],
      "outputs": [
        {
          "output_type": "execute_result",
          "execution_count": 5,
          "data": {
            "text/plain": [
              "[Function: runAllInNEL]"
            ]
          },
          "metadata": {}
        }
      ],
      "execution_count": 5,
      "metadata": {
        "collapsed": false,
        "outputHidden": false,
        "inputHidden": false
      }
    },
    {
      "cell_type": "code",
      "source": [
        "// initialize\n",
        "if (typeof imported == 'undefined') { var imported = {}; }\n",
        "\n",
        "// display a heading when new notebooks are imported\n",
        "var logIm = (cells, filename) => {\n",
        "    return 'Running ' + filename  \n",
        "                + ' with ' + cells.length + ' cells';\n",
        "    console.log();\n",
        "    return ;\n",
        "};\n",
        "\n",
        "// cache results when notebooks are processed\n",
        "assignResults = (results, notebook) => {\n",
        "    var filename = path.basename(notebook);\n",
        "    var results = results.reduce((obj, r, i) => {\n",
        "        if (typeof r === 'function') {\n",
        "            obj[filename+'['+i+']'] = r\n",
        "        }\n",
        "        return obj;\n",
        "    }, {});\n",
        "    Object.assign(global, results);\n",
        "    imported[filename] = Promise.resolve(results);\n",
        "    return results;\n",
        "};\n",
        "\n",
        "// $$.done() for our dumb parser\n"
      ],
      "outputs": [
        {
          "output_type": "execute_result",
          "execution_count": 6,
          "data": {
            "text/plain": [
              "[Function: assignResults]"
            ]
          },
          "metadata": {}
        }
      ],
      "execution_count": 6,
      "metadata": {
        "collapsed": false,
        "outputHidden": false,
        "inputHidden": false
      }
    },
    {
      "cell_type": "markdown",
      "source": [
        "How to import a {notebook}?\n",
        "\n",
        "How to test the import feature?\n"
      ],
      "metadata": {}
    },
    {
      "cell_type": "code",
      "source": [
        "\n",
        "// initialize\n",
        "// What does import return?\n",
        "imported['How to find answers.ipynb'] = Promise.resolve({\n",
        "    'How to find answers.ipynb[0]': importNotebook,\n",
        "    'How to find answers.ipynb[1]': getCells\n",
        "});\n",
        "\n",
        "// How to test if a notebook has already been imported?\n",
        "var oldImport = importNotebook;\n",
        "(importNotebook = (notebook) => {\n",
        "    var filename = path.basename(notebook);\n",
        "    if(typeof notebook === 'undefined') {\n",
        "        return Promise.resolve({});\n",
        "    }\n",
        "    if (typeof imported[filename] !== 'undefined') {\n",
        "        console.log('Already imported');\n",
        "        console.log(Object.keys(imported));\n",
        "        return imported[filename];\n",
        "    }\n",
        "    return oldImport(notebook);\n",
        "});\n",
        "\n",
        "// $$.done() for our dumb parser\n"
      ],
      "outputs": [
        {
          "output_type": "execute_result",
          "execution_count": 7,
          "data": {
            "text/plain": [
              "[Function: importNotebook]"
            ]
          },
          "metadata": {}
        }
      ],
      "execution_count": 7,
      "metadata": {
        "collapsed": false,
        "outputHidden": false,
        "inputHidden": false
      }
    },
    {
      "cell_type": "markdown",
      "source": [
        "These are some other useful notebooks you may want to import.\n",
        "\n",
        "How to train a chatbot using jupyter services?\n",
        "\n",
        "What is code completion for jupter notebooks?\n",
        "\n"
      ],
      "metadata": {}
    },
    {
      "cell_type": "code",
      "source": [
        "// initialize\n",
        "    \n",
        "try {\n",
        "\n",
        "    $$.async();\n",
        "\n",
        "    // How to test to make sure the cell parser works\n",
        "    Promise.all([importNotebook('How to find answers.ipynb'),\n",
        "                 importNotebook('How to test import.ipynb')])\n",
        "        .then((r) => $$.sendResult(r))\n",
        "        .catch((e) => $$.sendError(e));\n",
        "        \n",
        "}catch(e){$$.sendError(e)}\n",
        "\n",
        "// $$.done() for our dumb parser\n"
      ],
      "outputs": [
        {
          "output_type": "stream",
          "name": "stdout",
          "text": [
            "Already imported\n",
            "[ 'How to find answers.ipynb', 'How to test import.ipynb' ]\n",
            "Already imported\n",
            "[ 'How to find answers.ipynb', 'How to test import.ipynb' ]\n"
          ]
        },
        {
          "output_type": "execute_result",
          "execution_count": 10,
          "data": {
            "text/plain": [
              "[ { 'How to find answers.ipynb[0]': [Function: importNotebook],\n",
              "    'How to find answers.ipynb[1]': [Function: getCells] },\n",
              "  {} ]"
            ]
          },
          "metadata": {}
        }
      ],
      "execution_count": 10,
      "metadata": {
        "collapsed": false,
        "outputHidden": false,
        "inputHidden": false
      }
    },
    {
      "cell_type": "code",
      "source": [],
      "outputs": [],
      "execution_count": 9,
      "metadata": {
        "collapsed": false,
        "outputHidden": false,
        "inputHidden": false
      }
    }
  ],
  "metadata": {
    "kernelspec": {
      "name": "node_nteract",
      "language": "javascript",
      "display_name": "Node.js (nteract)"
    },
    "kernel_info": {
      "name": "node_nteract"
    },
    "language_info": {
      "name": "javascript",
      "version": "6.5.0",
      "mimetype": "application/javascript",
      "file_extension": ".js"
    }
  },
  "nbformat": 4,
  "nbformat_minor": 4
}