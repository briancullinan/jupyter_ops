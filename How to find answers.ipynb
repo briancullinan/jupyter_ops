{
  "cells": [
    {
      "cell_type": "markdown",
      "source": [
        "# How to find answers using jupyter?\n",
        "\n",
        "Include this header script in your notebooks to find more answers.\n",
        "\n",
        "How to use inheritence in jupyter notebooks?\n",
        "\n",
        "How to make a class out of jupter notebooks?\n",
        "\n",
        "How to use jupyter notebooks as services?\n",
        "\n"
      ],
      "metadata": {}
    },
    {
      "cell_type": "code",
      "source": [
        "// initialize\n",
        "\n",
        "// TLDR; What do we end up with?\n",
        "var importNotebook = (notebook) => Promise.resolve({});\n",
        "var getCells = ((notebook, types = ['code']) => Promise.resolve([]));\n",
        "var runAllInNEL = (cells) => Promise.resolve({values: [], session: {}});\n",
        "var assignResults = (results, filename) => results;\n",
        "\n",
        "// provide a function for importing any notebook as a module and executing it\n",
        "var importNotebook = (notebook) => {\n",
        "    return getCells(notebook, 'code')\n",
        "            .then(cells => cells.map(c => c.source.join('').trim()))\n",
        "            .then(cells => runAllInNEL(cells))\n",
        "            .then((results) => assignResults(results, notebook));\n",
        "};\n",
        "\n",
        "// $$.done(); for our dumb parser\n",
        "\n"
      ],
      "outputs": [],
      "execution_count": 1,
      "metadata": {
        "collapsed": false,
        "outputHidden": false,
        "inputHidden": false
      }
    },
    {
      "cell_type": "markdown",
      "source": [
        "What do I need to have installed?\n",
        "\n",
        "How to sanity check the environment?\n"
      ],
      "metadata": {}
    },
    {
      "cell_type": "code",
      "source": [
        "// initialize\n",
        "\n",
        "var execSync = require('child_process').execSync;\n",
        "var deps = ['npm install', 'JSONStream', 'nel', 'path', 'fs', 'vm'];\n",
        "var assign = v => Object.assign(global[v] = require(v));\n",
        "try {\n",
        "    require.resolve('JSONStream');\n",
        "    require.resolve('nel');\n",
        "} catch (e) {\n",
        "    execSync(deps.slice(0, 3).join(' '), {stdio: 'inherit'});\n",
        "}\n",
        "deps.slice(1).forEach(assign);\n",
        "\n",
        "// $$.done() for our dumb parser\n"
      ],
      "outputs": [],
      "execution_count": 13,
      "metadata": {
        "collapsed": false,
        "outputHidden": false,
        "inputHidden": false
      }
    },
    {
      "cell_type": "markdown",
      "source": [
        "How to stream json using a {match} function?"
      ],
      "metadata": {}
    },
    {
      "cell_type": "code",
      "source": [
        "// initialize\n",
        "\n",
        "(streamJson = (file, parse, match = ((c) => true)) => {\n",
        "    var file = fs.createReadStream(file)\n",
        "        .pipe(JSONStream.parse(parse));\n",
        "    file.on('data', (m) => match(m));\n",
        "    // create a promise out of this stream\n",
        "    return new Promise((resolve, reject) => {\n",
        "        file.on('error', e => reject(e, file));\n",
        "        file.on('close', () => resolve(file))\n",
        "    });\n",
        "});\n",
        "// $$.done() for our dumb parser\n",
        "\n"
      ],
      "outputs": [],
      "execution_count": 4,
      "metadata": {
        "collapsed": false,
        "outputHidden": false,
        "inputHidden": false
      }
    },
    {
      "cell_type": "markdown",
      "source": [
        "\n",
        "How to parse cells of {types} from a notebook?\n",
        "\n"
      ],
      "metadata": {}
    },
    {
      "cell_type": "code",
      "source": [
        "// initialize\n",
        "\n",
        "// How to use getCells?\n",
        "(getCells = (notebook, types = ['code']) => {\n",
        "    var cells = [];\n",
        "    return streamJson(notebook, 'cells.*', (match) => {\n",
        "        if(types.indexOf(match.cell_type) > -1) {\n",
        "            cells[cells.length] = match;\n",
        "        }\n",
        "    }).then((file) => cells);\n",
        "});\n",
        "\n",
        "// $$.done() for our dumb parser\n"
      ],
      "outputs": [],
      "execution_count": 7,
      "metadata": {
        "collapsed": false,
        "outputHidden": false,
        "inputHidden": false
      }
    },
    {
      "cell_type": "markdown",
      "source": [
        "How to run all promises sequentially?\n",
        "\n"
      ],
      "metadata": {}
    },
    {
      "cell_type": "code",
      "source": [
        "// initialize\n",
        "\n",
        "var runAllPromises = (promises) => {\n",
        "    return promises.reduce((promise, func) => {\n",
        "        return promise.then(result => {\n",
        "            return (new Promise(func))\n",
        "                .then(Array.prototype.concat.bind(result));\n",
        "        });\n",
        "    },Promise.resolve([]));\n",
        "};\n",
        "\n",
        "// How to create VM promises out of the cell content?\n",
        "(runAllInNEL = (cells, sess) => {\n",
        "    if(typeof sess === 'undefined') {\n",
        "        sess = new nel.Session();\n",
        "    }\n",
        "    return runAllPromises(\n",
        "        cells.map(\n",
        "            (cell) =>\n",
        "            (resolve) =>\n",
        "            sess.execute(cell, {\n",
        "                onSuccess: (o) => resolve(o),\n",
        "                onError: (o) => resolve(o),\n",
        "                beforeRun: () => {}})\n",
        "        )).then((r) => ({values: r, session: sess}));\n",
        "});\n",
        "// $$.done() for our dumb parser\n",
        "\n"
      ],
      "outputs": [],
      "execution_count": 6,
      "metadata": {
        "collapsed": false,
        "outputHidden": false,
        "inputHidden": false
      }
    },
    {
      "cell_type": "code",
      "source": [
        "// initialize\n",
        "if (typeof imported == 'undefined') { var imported = {}; }\n",
        "\n",
        "// display a heading when new notebooks are imported\n",
        "var logIm = (cells, filename) => {\n",
        "    return 'Running ' + filename  \n",
        "                + ' with ' + cells.length + ' cells';\n",
        "    console.log();\n",
        "    return ;\n",
        "};\n",
        "\n",
        "function wrapCallback (func, session) {\n",
        "    return (a1,a2,a3,a4,a5) => {\n",
        "        var exec = '$$.async(); Promise.resolve(' \n",
        "        + func + '.apply(this,' \n",
        "        + JSON.stringify([a1,a2,a3,a4,a5]) \n",
        "        + ')).then(r => $$.mime({\"text/json\": r}));';\n",
        "        return runAllInNEL([exec], session)\n",
        "            .then(r => {\n",
        "                var value = r['values'][0]['mime']['text/json'];\n",
        "                return value;\n",
        "        });\n",
        "    };\n",
        "}\n",
        "\n",
        "// cache results when notebooks are processed\n",
        "(assignResults = (results, notebook) => {\n",
        "    var filename = path.basename(notebook);\n",
        "    var session = results['session'];\n",
        "    var results = results['values'].reduce((obj, r, i) => {\n",
        "        if (typeof r === 'object' && typeof r['mime'] !== 'undefined'\n",
        "            && typeof r['mime']['text/plain'] !== 'undefined') {\n",
        "            var re = (/\\[Function:\\s*(.*?)\\]/ig);\n",
        "            var name = re.exec(r['mime']['text/plain']);\n",
        "            if(name !== null) {\n",
        "                obj[filename+'['+i+']'] = wrapCallback(name[1], session);\n",
        "                obj[name[1]] = obj[filename+'['+i+']'];\n",
        "            }\n",
        "        }\n",
        "        return obj;\n",
        "    }, {});\n",
        "    Object.assign(global, results);\n",
        "    imported[filename] = Promise.resolve(results);\n",
        "    return results;\n",
        "});\n",
        "\n",
        "// $$.done() for our dumb parser\n"
      ],
      "outputs": [],
      "execution_count": 1,
      "metadata": {
        "collapsed": false,
        "outputHidden": false,
        "inputHidden": false
      }
    },
    {
      "cell_type": "markdown",
      "source": [
        "How to import a {notebook}?\n",
        "\n",
        "How to test the import feature?\n"
      ],
      "metadata": {}
    },
    {
      "cell_type": "code",
      "source": [
        "\n",
        "// initialize\n",
        "// What does import return?\n",
        "imported['How to find answers.ipynb'] = Promise.resolve({\n",
        "    'How to find answers.ipynb[0]': importNotebook,\n",
        "    'How to find answers.ipynb[1]': getCells\n",
        "});\n",
        "\n",
        "// How to test if a notebook has already been imported?\n",
        "var oldImport = importNotebook;\n",
        "(importNotebook = (notebook) => {\n",
        "    var filename = path.basename(notebook);\n",
        "    if(typeof notebook === 'undefined') {\n",
        "        return Promise.resolve({});\n",
        "    }\n",
        "    if (typeof imported[filename] !== 'undefined') {\n",
        "        console.log('Already imported');\n",
        "        console.log(Object.keys(imported));\n",
        "        return imported[filename];\n",
        "    }\n",
        "    return oldImport(notebook);\n",
        "});\n",
        "\n",
        "// $$.done() for our dumb parser\n"
      ],
      "outputs": [],
      "execution_count": 4,
      "metadata": {
        "collapsed": false,
        "outputHidden": false,
        "inputHidden": false
      }
    },
    {
      "cell_type": "markdown",
      "source": [
        "These are some other useful notebooks you may want to import.\n",
        "\n",
        "How to train a chatbot using jupyter services?\n",
        "\n",
        "What is code completion for jupter notebooks?\n",
        "\n"
      ],
      "metadata": {}
    },
    {
      "cell_type": "code",
      "source": [],
      "outputs": [],
      "execution_count": 9,
      "metadata": {
        "collapsed": false,
        "outputHidden": false,
        "inputHidden": false
      }
    }
  ],
  "metadata": {
    "kernelspec": {
      "name": "node_nteract",
      "language": "javascript",
      "display_name": "Node.js (nteract)"
    },
    "kernel_info": {
      "name": "node_nteract"
    },
    "language_info": {
      "name": "javascript",
      "version": "6.5.0",
      "mimetype": "application/javascript",
      "file_extension": ".js"
    }
  },
  "nbformat": 4,
  "nbformat_minor": 4
}