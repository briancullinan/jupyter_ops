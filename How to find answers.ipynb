{
  "cells": [
    {
      "cell_type": "markdown",
      "source": [
        "# How to find answers using jupyter?\n",
        "\n",
        "Include this header script in your notebooks to find more answers.\n",
        "\n",
        "How to use inheritence in jupyter notebooks?\n",
        "\n",
        "How to make a class out of jupter notebooks?\n",
        "\n",
        "How to use jupyter notebooks as services?\n",
        "\n",
        "How to sanity check the environment?\n"
      ],
      "metadata": {}
    },
    {
      "cell_type": "code",
      "source": [
        "var deps = ['npm install', 'JSONStream', 'path', 'fs', 'vm'];\n",
        "require('child_process').execSync(deps.slice(0, 2).join(' '));\n",
        "deps.slice(1).forEach(v => (global[v] = require(v)));\n",
        "\n",
        "// TODO: exports, require, module, __filename, __dirname\n",
        "(deps);\n",
        "// $$.done() // for our dumb parser\n",
        "\n"
      ],
      "outputs": [
        {
          "output_type": "execute_result",
          "execution_count": 2,
          "data": {
            "text/plain": [
              "[ 'npm install', 'JSONStream', 'path', 'fs', 'vm' ]"
            ]
          },
          "metadata": {}
        }
      ],
      "execution_count": 1,
      "metadata": {
        "collapsed": false,
        "outputHidden": false,
        "inputHidden": false
      }
    },
    {
      "cell_type": "markdown",
      "source": [
        "How to import a code cells from jupyter?\n",
        "\n",
        "How to import cells of different {types}?\n"
      ],
      "metadata": {}
    },
    {
      "cell_type": "code",
      "source": [
        "var getCells = (notebook, types) => {\n",
        "    if (typeof types == 'undefined') {\n",
        "        var types = 'code';\n",
        "    }\n",
        "    if (typeof types === 'string') {\n",
        "        types = [types];\n",
        "    }\n",
        "    var cellsToRun = [];\n",
        "    var cells = fs.createReadStream(notebook)\n",
        "        .pipe(require('JSONStream').parse('cells.*'));\n",
        "    cells.on('data', (cell) => {\n",
        "        if(types.indexOf(cell.cell_type) > -1) {\n",
        "            cellsToRun[cellsToRun.length] = cell;\n",
        "        }\n",
        "    });\n",
        "    return new Promise((resolve, reject) => {\n",
        "        cells.on('error', e => reject(e, notebook));\n",
        "        cells.on('close', () => resolve(cellsToRun, notebook))\n",
        "    });\n",
        "};\n",
        "(getCells);\n",
        "// $$.done()\n"
      ],
      "outputs": [
        {
          "output_type": "execute_result",
          "execution_count": 2,
          "data": {
            "text/plain": [
              "[Function: getCells]"
            ]
          },
          "metadata": {}
        }
      ],
      "execution_count": 2,
      "metadata": {
        "collapsed": false,
        "outputHidden": false,
        "inputHidden": false
      }
    },
    {
      "cell_type": "markdown",
      "source": [
        "How to create VM promises out of the cell content?"
      ],
      "metadata": {}
    },
    {
      "cell_type": "code",
      "source": [
        "// supported format How to find answers.ipynb[2]\n",
        "try {\n",
        "if (typeof imported == 'undefined') { var imported = []; }\n",
        "var globals = ['require','console','imported','setTimeout'];\n",
        "var promiseContext = (scripts) => {\n",
        "    var ctx = {$$: {}}; ctx.global = ctx;\n",
        "    globals.forEach(g => ctx[g] = global[g]);\n",
        "    return scripts.map((cell, i) => (resolve, reject) => {\n",
        "        try {\n",
        "            var _isAsync = false;\n",
        "            var tmp$$ = {\n",
        "                async: () => {_isAsync = true},\n",
        "                done: done => resolve(done),\n",
        "                sendResult: r => resolve(r)\n",
        "            };\n",
        "            ctx.$$ = tmp$$;\n",
        "            var result = vm.runInNewContext(cell, ctx);\n",
        "            if (_isAsync === false) {\n",
        "                return resolve(result);\n",
        "            }\n",
        "        } catch (e) {\n",
        "            // resolved intentionally to return exception\n",
        "            return resolve(e);\n",
        "        }\n",
        "    });\n",
        "};\n",
        "\n",
        "$$.async();\n",
        "var cells = [\n",
        "    '$$.sendResult(\"Sucessfully ran a script in it\\'s own context!\")',\n",
        "    '$$.async(); setTimeout(() => $$.sendResult(\"async works!\"), 100)'\n",
        "];\n",
        "(new Promise(promiseContext(cells)[0]))\n",
        "    .then((r) => $$.sendResult(promiseContext));\n",
        "}catch(e){$$.sendResult(e)}\n",
        "// $$.done()\n"
      ],
      "outputs": [
        {
          "output_type": "execute_result",
          "execution_count": 7,
          "data": {
            "text/plain": [
              "[Function: promiseContext]"
            ]
          },
          "metadata": {}
        }
      ],
      "execution_count": 7,
      "metadata": {
        "collapsed": false,
        "outputHidden": false,
        "inputHidden": false
      }
    },
    {
      "cell_type": "markdown",
      "source": [
        "How to resolve a list of promises?\n",
        "\n",
        "How to execute all the cells in a notebook?\n",
        "\n"
      ],
      "metadata": {}
    },
    {
      "cell_type": "code",
      "source": [
        "try {\n",
        "var runAllPromises = (promises) => {\n",
        "    return promises.reduce((promise, func) => {\n",
        "        return promise.then(result => {\n",
        "            return (new Promise(func))\n",
        "                .then(Array.prototype.concat.bind(result));\n",
        "        });\n",
        "    },Promise.resolve([]));\n",
        "};\n",
        "\n",
        "var cells = [\n",
        "    '$$.sendResult(\"promise 1\")',\n",
        "    '$$.sendResult(\"promise 2\")',\n",
        "    '$$.sendResult(\"Sucessfully ran a all promises!\")'\n",
        "];\n",
        "var promises = promiseContext(cells, 'this one')\n",
        "// error when returing \"promise 1\" because context is supposed to be overriden\n",
        "$$.async();\n",
        "runAllPromises(promises, 'this one')\n",
        "    .then((results) => {\n",
        "        $$.sendResult(runAllPromises);\n",
        "    });\n",
        "}catch(e){$$.sendResult(e)}\n",
        "// $$.done()\n"
      ],
      "outputs": [
        {
          "output_type": "execute_result",
          "execution_count": 4,
          "data": {
            "text/plain": [
              "[Function: runAllPromises]"
            ]
          },
          "metadata": {}
        }
      ],
      "execution_count": 4,
      "metadata": {
        "collapsed": false,
        "outputHidden": false,
        "inputHidden": false
      }
    },
    {
      "cell_type": "markdown",
      "source": [
        "How to import a {notebook}?\n",
        "\n",
        "How to test the import feature?\n"
      ],
      "metadata": {}
    },
    {
      "cell_type": "code",
      "source": [
        "if (typeof imported == 'undefined') { var imported; }\n",
        "\n",
        "// display a heading when new notebooks are imported\n",
        "var runWithHeader = (sources, filename) => {\n",
        "    console.log('Running ' + filename  \n",
        "                + ' with ' + cells.length + ' cells');\n",
        "    var promises = promiseContext(sources, filename);\n",
        "    return (imported[filename] = runAllPromises(promises));\n",
        "};\n",
        "\n",
        "// assign results when notebooks are processed\n",
        "var assignResults = (results, filename) => {\n",
        "    var results = results.reduce((obj, r, i) => {\n",
        "        if (typeof r === 'function') {\n",
        "            obj[filename+'['+i+']'] = r\n",
        "        }\n",
        "        return obj;\n",
        "    }, {});\n",
        "    Object.assign(global, results);\n",
        "    imported[filename] = Promise.resolve(results);\n",
        "    return results;\n",
        "};\n",
        "\n",
        "// provide a function for importing any notebook as a module and executing it\n",
        "var importNotebook = (notebook) => {\n",
        "    try {\n",
        "    var filename = path.basename(notebook);\n",
        "    if(typeof notebook === 'undefined') {\n",
        "        return Promise.resolve([]);\n",
        "    }\n",
        "    if (typeof imported[filename] !== 'undefined') {\n",
        "        console.log('Already imported');\n",
        "        console.log(Object.keys(imported));\n",
        "        return imported[filename];\n",
        "    }\n",
        "    return getCells(notebook, 'code')\n",
        "        .then((cells) => cells.map(cell => cell.source.join('').trim()))\n",
        "        .then((sources) => runWithHeader(sources, filename))\n",
        "        .then((results) => assignResults(results, filename));\n",
        "    }catch(e){console.log(e); return Promise.resolve([])}\n",
        "};\n",
        "\n",
        "// use this document as the test results to prevent recursion\n",
        "imported['How to find answers.ipynb'] = Promise.resolve({\n",
        "    'How to find answers.ipynb[1]': getCells,\n",
        "    'How to find answers.ipynb[2]': promiseContext,\n",
        "    'How to find answers.ipynb[3]': runAllPromises,\n",
        "    'How to find answers.ipynb[4]': importNotebook\n",
        "});\n",
        "\n",
        "// test to make sure it works\n",
        "$$.async();\n",
        "importNotebook('How to find answers.ipynb')\n",
        "    .then((results) => {\n",
        "        $$.sendResult(importNotebook);\n",
        "    }).catch((e) => $$.sendResult(e));\n",
        "// $$.done()\n"
      ],
      "outputs": [
        {
          "output_type": "stream",
          "name": "stdout",
          "text": [
            "Already imported\n",
            "[ 'How to find answers.ipynb' ]\n"
          ]
        },
        {
          "output_type": "execute_result",
          "execution_count": 5,
          "data": {
            "text/plain": [
              "[Function: importNotebook]"
            ]
          },
          "metadata": {}
        }
      ],
      "execution_count": 5,
      "metadata": {
        "collapsed": false,
        "outputHidden": false,
        "inputHidden": false
      }
    },
    {
      "cell_type": "markdown",
      "source": [
        "These are some other useful notebooks you may want to import.\n",
        "\n",
        "How to train a chatbot using jupyter services?\n",
        "\n",
        "What is code completion for jupter notebooks?\n",
        "\n"
      ],
      "metadata": {}
    },
    {
      "cell_type": "code",
      "source": [
        "//$$.async();\n",
        "//importNotebook('How to interpret questions.ipynb')\n",
        "//    .then(() => $$.done('done importing importing'));\n",
        "\n",
        "$$.async();\n",
        "\n",
        "setTimeout(() => $$.sendResult('hit2'), 2000);\n",
        "// $$.done()\n"
      ],
      "outputs": [
        {
          "output_type": "execute_result",
          "execution_count": 6,
          "data": {
            "text/plain": [
              "'hit2'"
            ]
          },
          "metadata": {}
        }
      ],
      "execution_count": 6,
      "metadata": {
        "collapsed": false,
        "outputHidden": false,
        "inputHidden": false
      }
    }
  ],
  "metadata": {
    "kernelspec": {
      "name": "node_nteract",
      "language": "javascript",
      "display_name": "Node.js (nteract)"
    },
    "kernel_info": {
      "name": "node_nteract"
    },
    "language_info": {
      "name": "javascript",
      "version": "6.5.0",
      "mimetype": "application/javascript",
      "file_extension": ".js"
    }
  },
  "nbformat": 4,
  "nbformat_minor": 4
}