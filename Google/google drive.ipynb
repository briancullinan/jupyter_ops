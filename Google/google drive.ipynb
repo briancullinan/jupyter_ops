{
 "cells": [
  {
   "cell_type": "markdown",
   "metadata": {},
   "source": [
    "# google drive\n",
    "\n",
    "utilities for google drive\n",
    "\n",
    "\n"
   ]
  },
  {
   "cell_type": "markdown",
   "metadata": {},
   "source": [
    "## basic needs\n",
    "\n",
    "authorization, listing, writing, copying, etc\n"
   ]
  },
  {
   "cell_type": "markdown",
   "metadata": {},
   "source": [
    "### authorization\n",
    "authorize google drive?\n"
   ]
  },
  {
   "cell_type": "markdown",
   "metadata": {},
   "source": [
    "#### the code \n",
    "\n"
   ]
  },
  {
   "cell_type": "code",
   "execution_count": 1,
   "metadata": {},
   "outputs": [
    {
     "data": {
      "text/plain": [
       "[Function: authorizeDrive]"
      ]
     },
     "execution_count": 1,
     "metadata": {},
     "output_type": "execute_result"
    }
   ],
   "source": [
    "var fs = require('fs');\n",
    "var path = require('path');\n",
    "var {google} = require('googleapis');\n",
    "var {GoogleAuth} = require('google-auth-library');\n",
    "\n",
    "var PROFILE_PATH = process.env.HOME || process.env.HOMEPATH || process.env.USERPROFILE;\n",
    "var credentials;\n",
    "if(fs.existsSync('./sheet to web-8ca5784e0b05.json')) {\n",
    "    credentials = path.resolve('./sheet to web-8ca5784e0b05.json');\n",
    "} else {\n",
    "    credentials = path.join(PROFILE_PATH, '.credentials/sheet to web-8ca5784e0b05.json');\n",
    "}\n",
    "\n",
    "var GOOGLE_AUTH_SCOPE = [\n",
    "    'https://www.googleapis.com/auth/drive'\n",
    "];\n",
    "\n",
    "function authorizeDrive() {\n",
    "    return new GoogleAuth({\n",
    "        keyFile: credentials,\n",
    "        scopes: GOOGLE_AUTH_SCOPE\n",
    "    }).getClient()\n",
    "        .then(client => google.drive({version: 'v3', auth: client}))\n",
    "}\n",
    "\n",
    "module.exports = authorizeDrive;\n"
   ]
  },
  {
   "cell_type": "markdown",
   "metadata": {
    "heading_collapsed": true
   },
   "source": [
    "#### test list google drive?\n"
   ]
  },
  {
   "cell_type": "code",
   "execution_count": null,
   "metadata": {
    "hidden": true
   },
   "outputs": [],
   "source": [
    "var importer = require('../Core');\n",
    "var listDrive = importer.import('list google drive files');\n",
    "var insertPermission = importer.import('insert google drive permissions');\n",
    "\n",
    "describe('list google drive files', () => {\n",
    "    \n",
    "    it('should list files', () => {\n",
    "        return listDrive()\n",
    "            .then(r => importer\n",
    "                  .runAllPromises(r.filter(r => r.name.includes('Untitled'))\n",
    "                                           .map(f => resolve => insertPermission(f.id, 'megamindbrian@gmail.com')\n",
    "                                                .then(resolve))))\n",
    "    })\n",
    "})\n"
   ]
  },
  {
   "cell_type": "markdown",
   "metadata": {},
   "source": [
    "### list google drive files?\n"
   ]
  },
  {
   "cell_type": "code",
   "execution_count": null,
   "metadata": {},
   "outputs": [],
   "source": [
    "var util = require('util');\n",
    "var importer = require('../Core');\n",
    "var authorizeDrive = importer.import('authorize google drive');\n",
    "\n",
    "function listDrive() {\n",
    "    return authorizeDrive()\n",
    "        .then(drive => util.promisify(drive.files.list.bind(drive))({}))\n",
    "        .then(r => r.data.files || [])\n",
    "}\n",
    "\n",
    "module.exports = listDrive;\n"
   ]
  },
  {
   "cell_type": "markdown",
   "metadata": {
    "heading_collapsed": true
   },
   "source": [
    "### insert google drive permissions?\n"
   ]
  },
  {
   "cell_type": "code",
   "execution_count": null,
   "metadata": {
    "hidden": true
   },
   "outputs": [],
   "source": [
    "var util = require('util');\n",
    "var importer = require('../Core');\n",
    "var authorizeDrive = importer.import('authorize google drive');\n",
    "\n",
    "function insertPermission(fileId, email) {\n",
    "    return authorizeDrive()\n",
    "        .then(drive => util.promisify(drive.permissions.create.bind(drive))({\n",
    "            resource: {\n",
    "                'type': 'user',\n",
    "                'role': 'owner',\n",
    "                'emailAddress': email\n",
    "            },\n",
    "            fileId: fileId,\n",
    "            fields: 'id',\n",
    "            transferOwnership: true\n",
    "        }))\n",
    "        .then(r => r.data.id)\n",
    "}\n",
    "\n",
    "module.exports = insertPermission;\n"
   ]
  },
  {
   "cell_type": "markdown",
   "metadata": {
    "heading_collapsed": true
   },
   "source": [
    "### create a sheet in google drive?\n"
   ]
  },
  {
   "cell_type": "code",
   "execution_count": null,
   "metadata": {
    "hidden": true
   },
   "outputs": [],
   "source": [
    "var util = require('util');\n",
    "var importer = require('../Core');\n",
    "var authorizeSheets = importer.import('authorize sheets api');\n",
    "var insertPermission = importer.import('insert google drive permissions');\n",
    "\n",
    "function createSheet(email) {\n",
    "    var sheets;\n",
    "    \n",
    "    return authorizeSheets()\n",
    "        .then(s => sheets = s)\n",
    "        .then(() => util.promisify(sheets.spreadsheets.create.bind(sheets))())\n",
    "        .then(r => insertPermission(r.data.spreadsheetId, 'megamindbrian@gmail.com'))\n",
    "        .then(r => insertPermission(r.data.spreadsheetId, email))\n",
    "}\n",
    "\n",
    "module.exports = createSheet;\n"
   ]
  },
  {
   "cell_type": "markdown",
   "metadata": {
    "hidden": true
   },
   "source": [
    "#### test google sheet create?\n"
   ]
  },
  {
   "cell_type": "code",
   "execution_count": null,
   "metadata": {
    "hidden": true
   },
   "outputs": [],
   "source": [
    "var importer = require('../Core');\n",
    "var createSheet = importer.import('create a sheet in google drive');\n",
    "\n",
    "describe('create a new marketing sheet', () => {\n",
    "    \n",
    "    it('should create a sheet', () => {\n",
    "        return createSheet('bjcullinan@gmail.com');\n",
    "    })\n",
    "})\n"
   ]
  },
  {
   "cell_type": "markdown",
   "metadata": {
    "heading_collapsed": true
   },
   "source": [
    "### copy a file on google drive?\n"
   ]
  },
  {
   "cell_type": "code",
   "execution_count": null,
   "metadata": {
    "hidden": true
   },
   "outputs": [],
   "source": [
    "var util = require('util');\n",
    "var importer = require('../Core');\n",
    "var authorizeDrive = importer.import('authorize google drive');\n",
    "\n",
    "function copyFile(fileId, title) {\n",
    "    return authorizeDrive()\n",
    "        .then(drive => util.promisify(drive.files.copy.bind(drive))({\n",
    "            fileId: fileId,\n",
    "            resource: {name: title},\n",
    "            convert: true\n",
    "        }))\n",
    "        .then(r => r.data.id)\n",
    "}\n",
    "\n",
    "module.exports = copyFile;\n"
   ]
  },
  {
   "cell_type": "markdown",
   "metadata": {},
   "source": [
    "## advanced tools\n",
    "\n",
    "comparing, cateloging, sharing, converting, etc\n",
    "\n"
   ]
  },
  {
   "cell_type": "markdown",
   "metadata": {},
   "source": [
    "### compare a folder with local\n",
    "\n"
   ]
  },
  {
   "cell_type": "markdown",
   "metadata": {},
   "source": [
    "#### the code \n",
    "\n"
   ]
  },
  {
   "cell_type": "code",
   "execution_count": 24,
   "metadata": {},
   "outputs": [
    {
     "ename": "Error",
     "evalue": "Invalid field selection +originalFilename",
     "output_type": "error",
     "traceback": [
      "Error: Invalid field selection +originalFilename",
      "    at Gaxios._request (/Users/briancullinan/jupyter_ops/node_modules/gaxios/build/src/gaxios.js:85:23)",
      "    at processTicksAndRejections (internal/process/task_queues.js:85:5)",
      "    at async JWT.requestAsync (/Users/briancullinan/jupyter_ops/node_modules/google-auth-library/build/src/auth/oauth2client.js:346:18)",
      "    at async listDrive (evalmachine.<anonymous>:35:18)"
     ]
    }
   ],
   "source": [
    "var fs = require('fs');\n",
    "var path = require('path');\n",
    "var {GoogleAuth} = require('google-auth-library');\n",
    "var importer = require('../Core')\n",
    "var getRpcFromSpec = importer.import('get rpc from spec')\n",
    "\n",
    "// TODO: pattern recognized! create a \"google\" object that does this for every service in the Google discovery list\n",
    "var google = {drive: ({version, auth}) => getRpcFromSpec(require(path.join(__dirname, `../Resources/APIs/drive.${version}.json`)), auth)}\n",
    "\n",
    "var PROFILE_PATH = process.env.HOME || process.env.HOMEPATH || process.env.USERPROFILE;\n",
    "var credentials;\n",
    "if(fs.existsSync('./sheet to web-8ca5784e0b05.json')) {\n",
    "    credentials = path.resolve('./sheet to web-8ca5784e0b05.json');\n",
    "} else {\n",
    "    credentials = path.join(PROFILE_PATH, '.credentials/sheet to web-8ca5784e0b05.json');\n",
    "}\n",
    "\n",
    "var GOOGLE_AUTH_SCOPE = [\n",
    "    'https://www.googleapis.com/auth/drive'\n",
    "];\n",
    "\n",
    "async function authorizeDrive() {\n",
    "    var auth = new GoogleAuth({\n",
    "        keyFile: credentials,\n",
    "        scopes: GOOGLE_AUTH_SCOPE\n",
    "    })\n",
    "    var client = await auth.getClient()\n",
    "    return google.drive({version: 'v3', auth: client})\n",
    "}\n",
    "\n",
    "\n",
    "\n",
    "async function listDrive() {\n",
    "    var drive = await authorizeDrive()\n",
    "    var result = await drive.files.list({fields: 'files(id,name,modifiedTime,md5Checksum,mimeType,owners,originalFilename)'})\n",
    "    return result.data\n",
    "}\n",
    "\n",
    "//module.exports = \n",
    "\n",
    "if(typeof $$ != 'undefined') {\n",
    "    listDrive()\n",
    "        .then(r => $$.sendResult(r))\n",
    "        .catch(e => $$.sendError(e))\n",
    "}\n",
    "\n"
   ]
  },
  {
   "cell_type": "code",
   "execution_count": null,
   "metadata": {},
   "outputs": [],
   "source": []
  }
 ],
 "metadata": {
  "kernelspec": {
   "display_name": "Javascript (Node.js)",
   "language": "javascript",
   "name": "javascript"
  },
  "language_info": {
   "file_extension": ".js",
   "mimetype": "application/javascript",
   "name": "javascript",
   "version": "12.7.0"
  }
 },
 "nbformat": 4,
 "nbformat_minor": 2
}
