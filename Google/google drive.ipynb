{
 "cells": [
  {
   "cell_type": "markdown",
   "metadata": {},
   "source": [
    "authorize google drive?\n"
   ]
  },
  {
   "cell_type": "code",
   "execution_count": 1,
   "metadata": {},
   "outputs": [
    {
     "data": {
      "text/plain": [
       "[Function: authorizeDrive]"
      ]
     },
     "execution_count": 1,
     "metadata": {},
     "output_type": "execute_result"
    }
   ],
   "source": [
    "var fs = require('fs');\n",
    "var path = require('path');\n",
    "var {google} = require('googleapis');\n",
    "var {GoogleAuth} = require('google-auth-library');\n",
    "\n",
    "var PROFILE_PATH = process.env.HOME || process.env.HOMEPATH || process.env.USERPROFILE;\n",
    "var credentials;\n",
    "if(fs.existsSync('./sheet to web-8ca5784e0b05.json')) {\n",
    "    credentials = path.resolve('./sheet to web-8ca5784e0b05.json');\n",
    "} else {\n",
    "    credentials = path.join(PROFILE_PATH, '.credentials/sheet to web-8ca5784e0b05.json');\n",
    "}\n",
    "\n",
    "var GOOGLE_AUTH_SCOPE = [\n",
    "    'https://www.googleapis.com/auth/drive'\n",
    "];\n",
    "\n",
    "function authorizeDrive() {\n",
    "    return new GoogleAuth({\n",
    "        keyFile: credentials,\n",
    "        scopes: GOOGLE_AUTH_SCOPE\n",
    "    }).getClient()\n",
    "        .then(client => google.drive({version: 'v3', auth: client}))\n",
    "}\n",
    "\n",
    "module.exports = authorizeDrive;\n"
   ]
  },
  {
   "cell_type": "markdown",
   "metadata": {},
   "source": [
    "test list google drive?\n"
   ]
  },
  {
   "cell_type": "code",
   "execution_count": null,
   "metadata": {},
   "outputs": [],
   "source": [
    "var importer = require('../Core');\n",
    "var listDrive = importer.import('list google drive files');\n",
    "var insertPermission = importer.import('insert google drive permissions');\n",
    "\n",
    "describe('list google drive files', () => {\n",
    "    \n",
    "    it('should list files', () => {\n",
    "        return listDrive()\n",
    "            .then(r => importer\n",
    "                  .runAllPromises(r.filter(r => r.name.includes('Untitled'))\n",
    "                                           .map(f => resolve => insertPermission(f.id, 'megamindbrian@gmail.com')\n",
    "                                                .then(resolve))))\n",
    "    })\n",
    "})\n"
   ]
  },
  {
   "cell_type": "markdown",
   "metadata": {},
   "source": [
    "list google drive files?\n"
   ]
  },
  {
   "cell_type": "code",
   "execution_count": null,
   "metadata": {},
   "outputs": [],
   "source": [
    "var util = require('util');\n",
    "var importer = require('../Core');\n",
    "var authorizeDrive = importer.import('authorize google drive');\n",
    "\n",
    "function listDrive() {\n",
    "    return authorizeDrive()\n",
    "        .then(drive => util.promisify(drive.files.list.bind(drive))({}))\n",
    "        .then(r => r.data.files || [])\n",
    "}\n",
    "\n",
    "module.exports = listDrive;\n"
   ]
  },
  {
   "cell_type": "markdown",
   "metadata": {},
   "source": [
    "insert google drive permissions?\n"
   ]
  },
  {
   "cell_type": "code",
   "execution_count": null,
   "metadata": {},
   "outputs": [],
   "source": [
    "var util = require('util');\n",
    "var importer = require('../Core');\n",
    "var authorizeDrive = importer.import('authorize google drive');\n",
    "\n",
    "function insertPermission(fileId, email) {\n",
    "    return authorizeDrive()\n",
    "        .then(drive => util.promisify(drive.permissions.create.bind(drive))({\n",
    "            resource: {\n",
    "                'type': 'user',\n",
    "                'role': 'owner',\n",
    "                'emailAddress': email\n",
    "            },\n",
    "            fileId: fileId,\n",
    "            fields: 'id',\n",
    "            transferOwnership: true\n",
    "        }))\n",
    "        .then(r => r.data.id)\n",
    "}\n",
    "\n",
    "module.exports = insertPermission;\n"
   ]
  },
  {
   "cell_type": "markdown",
   "metadata": {},
   "source": [
    "test google sheet create?\n"
   ]
  },
  {
   "cell_type": "code",
   "execution_count": null,
   "metadata": {},
   "outputs": [],
   "source": [
    "var importer = require('../Core');\n",
    "var createSheet = importer.import('create a sheet in google drive');\n",
    "\n",
    "describe('create a new marketing sheet', () => {\n",
    "    \n",
    "    it('should create a sheet', () => {\n",
    "        return createSheet('bjcullinan@gmail.com');\n",
    "    })\n",
    "})\n"
   ]
  },
  {
   "cell_type": "markdown",
   "metadata": {},
   "source": [
    "create a sheet in google drive?\n"
   ]
  },
  {
   "cell_type": "code",
   "execution_count": null,
   "metadata": {},
   "outputs": [],
   "source": [
    "var util = require('util');\n",
    "var importer = require('../Core');\n",
    "var authorizeSheets = importer.import('authorize sheets api');\n",
    "var insertPermission = importer.import('insert google drive permissions');\n",
    "\n",
    "function createSheet(email) {\n",
    "    var sheets;\n",
    "    \n",
    "    return authorizeSheets()\n",
    "        .then(s => sheets = s)\n",
    "        .then(() => util.promisify(sheets.spreadsheets.create.bind(sheets))())\n",
    "        .then(r => insertPermission(r.data.spreadsheetId, 'megamindbrian@gmail.com'))\n",
    "        .then(r => insertPermission(r.data.spreadsheetId, email))\n",
    "}\n",
    "\n",
    "module.exports = createSheet;\n"
   ]
  },
  {
   "cell_type": "markdown",
   "metadata": {},
   "source": [
    "copy a file on google drive?\n"
   ]
  },
  {
   "cell_type": "code",
   "execution_count": null,
   "metadata": {},
   "outputs": [],
   "source": [
    "var util = require('util');\n",
    "var importer = require('../Core');\n",
    "var authorizeDrive = importer.import('authorize google drive');\n",
    "\n",
    "function copyFile(fileId, title) {\n",
    "    return authorizeDrive()\n",
    "        .then(drive => util.promisify(drive.files.copy.bind(drive))({\n",
    "            fileId: fileId,\n",
    "            resource: {name: title},\n",
    "            convert: true\n",
    "        }))\n",
    "        .then(r => r.data.id)\n",
    "}\n",
    "\n",
    "module.exports = copyFile;\n"
   ]
  }
 ],
 "metadata": {
  "kernelspec": {
   "display_name": "Javascript (Node.js)",
   "language": "javascript",
   "name": "javascript"
  },
  "language_info": {
   "file_extension": ".js",
   "mimetype": "application/javascript",
   "name": "javascript",
   "version": "12.7.0"
  }
 },
 "nbformat": 4,
 "nbformat_minor": 2
}
