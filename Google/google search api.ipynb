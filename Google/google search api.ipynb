{
 "cells": [
  {
   "cell_type": "markdown",
   "metadata": {},
   "source": [
    "how to search the web?\n"
   ]
  },
  {
   "cell_type": "code",
   "execution_count": null,
   "metadata": {},
   "outputs": [],
   "source": [
    "var importer = require('../Core');\n",
    "var authorizeSearch = importer.import('authorize custom search');\n",
    "\n",
    "function search(q) {\n",
    "    var params = {\n",
    "        cx: '002593731262048611104:885kc72tzdc',\n",
    "        q: q\n",
    "    };\n",
    "    var client;\n",
    "    \n",
    "    return authorizeSearch()\n",
    "        .then(c => (client = c))\n",
    "        .then(() => client.request({\n",
    "            method: 'GET',\n",
    "            url: `https://www.googleapis.com/customsearch/v1`,\n",
    "            params\n",
    "        }))\n",
    "}\n",
    "\n",
    "module.exports = search;\n"
   ]
  },
  {
   "cell_type": "markdown",
   "metadata": {},
   "source": [
    "test custom search?\n"
   ]
  },
  {
   "cell_type": "code",
   "execution_count": null,
   "metadata": {},
   "outputs": [],
   "source": [
    "var importer = require('../Core');\n",
    "var search = importer.import('search the web');\n",
    "\n",
    "$$.async();\n",
    "\n",
    "search('google')\n",
    "    .then(r => $$.sendResult(r.data.items))\n",
    "    .catch(e => $$.sendError(e))\n"
   ]
  },
  {
   "cell_type": "markdown",
   "metadata": {},
   "source": [
    "authorize custom search?\n"
   ]
  },
  {
   "cell_type": "code",
   "execution_count": null,
   "metadata": {},
   "outputs": [],
   "source": [
    "var PROFILE_PATH = process.env.HOME || process.env.HOMEPATH || process.env.USERPROFILE;\n",
    "var credentials;\n",
    "if(fs.existsSync('./sheet to web-8ca5784e0b05.json')) {\n",
    "    credentials = path.resolve('./sheet to web-8ca5784e0b05.json');\n",
    "} else {\n",
    "    credentials = path.join(PROFILE_PATH, '.credentials/sheet to web-8ca5784e0b05.json');\n",
    "}\n",
    "\n",
    "var {GoogleAuth} = require('google-auth-library');\n",
    "var GOOGLE_AUTH_SCOPE = [\n",
    "    'https://www.googleapis.com/auth/cse'\n",
    "];\n",
    "\n",
    "function authorizeSearch() {\n",
    "    return new GoogleAuth({\n",
    "        keyFile: credentials,\n",
    "        scopes: GOOGLE_AUTH_SCOPE\n",
    "    }).getClient(/* options here are always ignored b/c cache */)\n",
    "}\n",
    "\n",
    "module.exports = authorizeSearch;\n"
   ]
  }
 ],
 "metadata": {
  "kernelspec": {
   "display_name": "Javascript (Node.js)",
   "language": "javascript",
   "name": "javascript"
  },
  "language_info": {
   "file_extension": ".js",
   "mimetype": "application/javascript",
   "name": "javascript",
   "version": "10.16.0"
  }
 },
 "nbformat": 4,
 "nbformat_minor": 2
}
