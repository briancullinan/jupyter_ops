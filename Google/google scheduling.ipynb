{
 "cells": [
  {
   "cell_type": "markdown",
   "metadata": {},
   "source": [
    "# scheduling\n",
    "\n"
   ]
  },
  {
   "cell_type": "markdown",
   "metadata": {},
   "source": [
    "### moving purple events\n",
    "\n"
   ]
  },
  {
   "cell_type": "markdown",
   "metadata": {},
   "source": [
    "#### the code\n",
    "\n",
    "how to space out purple event?\n",
    "\n",
    "assuming I can only get 1 task done per day\n"
   ]
  },
  {
   "cell_type": "code",
   "execution_count": null,
   "metadata": {},
   "outputs": [],
   "source": [
    "var importer = require('../Core')\n",
    "var {google} = require('googleapis')\n",
    "var util = require('util')\n",
    "var {\n",
    "    correctCalendarId, authorizeCalendar, getDaysEvents, d3Heatmap\n",
    "} = importer.import([\n",
    "    'lookup calendar name', 'authorize google calendar', 'days events', 'd3 calendar'\n",
    "])\n",
    "\n",
    "var DAYS = 1200 // plus or minus\n",
    "var SIMUL = 3\n",
    "var options = {\n",
    "}\n",
    "          \n",
    "var now = new Date()\n",
    "// TODO: batch promises?\n",
    "function batchPromises(options) {\n",
    "    const promises = Array.from(Array(Math.ceil(DAYS / SIMUL)).keys()).map((acc, i) => {\n",
    "        const daysBeforeAfter = i - Math.ceil(DAYS / SIMUL / 2)\n",
    "        return resolve => Promise.all(Array.from(Array(SIMUL).keys()).map(day => {\n",
    "            const date = new Date(now)\n",
    "            date.setDate(date.getDate() + daysBeforeAfter * SIMUL + day)\n",
    "            return getDaysEvents(date, options)\n",
    "        }))\n",
    "            .then(r => {\n",
    "                setTimeout(() => resolve(r), 100)\n",
    "            })\n",
    "    });\n",
    "    return importer.runAllPromises(promises)\n",
    "        .then(r => [].concat.apply([], r))\n",
    "}\n",
    "\n",
    "function moveEvent(e, options) {\n",
    "    var events\n",
    "    var newTime = new Date(now)\n",
    "    newTime.setDate(newTime.getDate() + i)\n",
    "    newTime.setHours(12, 0, 0)\n",
    "    return authorizeCalendar(options)\n",
    "        .then(calendar => events = calendar.events)\n",
    "        .then(() => util.promisify(events.patch.bind(events))({\n",
    "            eventId: e.event.id,\n",
    "            calendarId: options.calendarId,\n",
    "            auth: options.auth,\n",
    "            resource: {\n",
    "                start: { dateTime: new Date(newTime.getTime()) },\n",
    "                end: { dateTime: new Date(newTime.getTime() + 120 * 60 * 1000) },\n",
    "            }\n",
    "        }))\n",
    "        .then(r => new Promise(resolve => {\n",
    "            setTimeout(() => resolve(r), 100);\n",
    "        }))\n",
    "    // TODO: skip dates using chrono description relative to each date\n",
    "    // TODO: skip overlap using study sauce algorithm\n",
    "    // TODO: skip boundaries using a new algorithm for defining inside and outside times\n",
    "}\n",
    "\n",
    "function adjustPurpleEvents(options) {\n",
    "    if(!options) options = {}\n",
    "    return Promise.resolve()\n",
    "        .then(() => correctCalendarId(options))\n",
    "        .then(() => typeof global.listEvents === 'undefined'\n",
    "              ? batchPromises(options)\n",
    "              : Promise.resolve(global.listEvents))\n",
    "        .then(r => {\n",
    "            global.listEvents = r\n",
    "            const purpleEvents = r.filter(e => e.event.colorId === '1')\n",
    "            const promises = purpleEvents.map((e, i) => moveEvent(e, options))\n",
    "            return importer.runAllPromises()\n",
    "        })\n",
    "        .then(r => d3Heatmap(r.map((e, i) => ({\n",
    "            id: e.id,\n",
    "            start: new Date(e.start.dateTime),\n",
    "            end: new Date(e.end.dateTime),\n",
    "        }))))\n",
    "}\n",
    "\n",
    "module.exports = adjustPurpleEvents\n"
   ]
  },
  {
   "cell_type": "markdown",
   "metadata": {},
   "source": [
    "### study sauce scheduling\n",
    "\n"
   ]
  },
  {
   "cell_type": "markdown",
   "metadata": {},
   "source": [
    "how to schedule study time?\n",
    "\n",
    "how to schedule hours per event?\n",
    "\n",
    "generalize from study sauce v2\n"
   ]
  },
  {
   "cell_type": "code",
   "execution_count": null,
   "metadata": {},
   "outputs": [],
   "source": []
  },
  {
   "cell_type": "markdown",
   "metadata": {},
   "source": [
    "how to schedule inside outside of time bounds?\n",
    "\n"
   ]
  },
  {
   "cell_type": "code",
   "execution_count": null,
   "metadata": {},
   "outputs": [],
   "source": []
  },
  {
   "cell_type": "markdown",
   "metadata": {},
   "source": [
    "how to remove overlaps?\n",
    "\n",
    "how to remove overlaps from events with alloable wiggle room?\n",
    "\n"
   ]
  },
  {
   "cell_type": "code",
   "execution_count": null,
   "metadata": {},
   "outputs": [],
   "source": []
  },
  {
   "cell_type": "markdown",
   "metadata": {},
   "source": [
    "how to prioritize events based on glob summary?\n",
    "\n",
    "\n"
   ]
  },
  {
   "cell_type": "code",
   "execution_count": null,
   "metadata": {},
   "outputs": [],
   "source": []
  },
  {
   "cell_type": "markdown",
   "metadata": {},
   "source": [
    "calendar search heatmap?\n",
    "\n"
   ]
  },
  {
   "cell_type": "code",
   "execution_count": null,
   "metadata": {},
   "outputs": [],
   "source": [
    "var importer = require('../Core');\n",
    "var {\n",
    "    getOauthClient,\n",
    "    d3Heatmap,\n",
    "    listEvents,\n",
    "    correctCalendarId,\n",
    "    sumEvents\n",
    "} = importer.import([\n",
    "    'import google calendar api',\n",
    "    'd3 calendar',\n",
    "    'list events',\n",
    "    'lookup calendar name',\n",
    "    'sum a list of events'\n",
    "]);\n",
    "\n",
    "var options = {\n",
    "    \n",
    "}\n",
    "\n",
    "function calendarHeatmap(search, calendar) {\n",
    "    if(calendar) {\n",
    "        options.calendarId = calendar;\n",
    "    }\n",
    "    var total = 0;\n",
    "    return getOauthClient(options)\n",
    "        .then(() => correctCalendarId(options))\n",
    "        .then(() => importer.runAllPromises(search.split('|').map(term => resolve => {\n",
    "            return listEvents({\n",
    "                auth: options.auth,\n",
    "                calendarId: options.calendarId,\n",
    "                q: term\n",
    "            }).then(r => {\n",
    "                console.log(term);\n",
    "                console.log(r.map(e => e.event.summary).slice(0, 10));\n",
    "                const hours = sumEvents(r);\n",
    "                console.log(hours + ' hrs');\n",
    "                total += hours;\n",
    "                return resolve(r);\n",
    "            })\n",
    "        })))\n",
    "        .then(r => [].concat(...r.map((e, i) => ({\n",
    "            id: e.id,\n",
    "            start: new Date(e.event.start.dateTime),\n",
    "            end: new Date(e.event.end.dateTime),\n",
    "        }))))\n",
    "        .then(r => {\n",
    "            console.log(total + ' hrs total');\n",
    "            console.log((total / 41) + ' hrs / week') // subtract from 48 weeks, 2 weeks of mental health, 2 weeks of holidays\n",
    "            return [d3Heatmap(r)]\n",
    "        })\n",
    "}\n",
    "module.exports = calendarHeatmap;\n",
    "\n",
    "if(typeof $$ !== 'undefined') {\n",
    "    $$.async();\n",
    "//    calendarHeatmap('work')\n",
    "    calendarHeatmap('portal|eloqua|zuora|angular|webpack|renewals|unit test|unit tests|unit testing|selenium|angular2|pricing|jupytangular|notebook|work|sos|study sauce|notebooks|jupyter|cloud|docker|build')\n",
    "    /*\n",
    "    5776.5 hrs total\n",
    "    120.34375 hrs / week\n",
    "    */\n",
    "//    calendarHeatmap('portal|eloqua|zuora|angular|webpack|renewals|unit test|unit tests|unit testing|selenium|angular2|pricing')\n",
    "//    calendarHeatmap('portal')\n",
    "    /*\n",
    "    1353.75 hrs total\n",
    "    28.203125 hrs / week\n",
    "    */\n",
    "        .then(r => $$.html(r[0]))\n",
    "        .catch(e => $$.sendError(e))\n",
    "}\n"
   ]
  },
  {
   "cell_type": "markdown",
   "metadata": {
    "collapsed": true
   },
   "source": [
    "search calendar?"
   ]
  },
  {
   "cell_type": "code",
   "execution_count": null,
   "metadata": {},
   "outputs": [],
   "source": [
    "var importer = require('../Core');\n",
    "var {\n",
    "    getOauthClient,\n",
    "    listEvents,\n",
    "    correctCalendarId,\n",
    "} = importer.import([\n",
    "    'import google calendar api',\n",
    "    'list events',\n",
    "    'lookup calendar name',\n",
    "]);\n",
    "\n",
    "var options = {\n",
    "    \n",
    "}\n",
    "\n",
    "function searchCalendar(search, calendar) {\n",
    "    if(calendar) {\n",
    "        options.calendarId = calendar;\n",
    "    }\n",
    "    var total = 0;\n",
    "    return getOauthClient(options)\n",
    "        .then(() => correctCalendarId(options))\n",
    "        .then(() => importer.runAllPromises(search.split('|').map(term => resolve => {\n",
    "            return listEvents({\n",
    "                auth: options.auth,\n",
    "                calendarId: options.calendarId,\n",
    "                q: term\n",
    "            }).then(r => {\n",
    "                console.log(term);\n",
    "                console.log(r.map(e => e.event.summary).slice(0, 10));\n",
    "                return resolve(r);\n",
    "            })\n",
    "        })))\n",
    "}\n",
    "module.exports = searchCalendar;\n",
    "\n",
    "if(typeof $$ !== 'undefined') {\n",
    "    $$.async();\n",
    "    searchCalendar('blur')\n",
    "        .then(r => $$.sendResult(r))\n",
    "        .catch(e => $$.sendError(e))\n",
    "}\n"
   ]
  },
  {
   "cell_type": "code",
   "execution_count": null,
   "metadata": {},
   "outputs": [],
   "source": []
  }
 ],
 "metadata": {
  "kernelspec": {
   "display_name": "Javascript (Node.js)",
   "language": "javascript",
   "name": "javascript"
  },
  "language_info": {
   "file_extension": ".js",
   "mimetype": "application/javascript",
   "name": "javascript",
   "version": "10.16.0"
  }
 },
 "nbformat": 4,
 "nbformat_minor": 2
}
