{
 "cells": [
  {
   "cell_type": "markdown",
   "metadata": {},
   "source": [
    "Test avidbrain?\n",
    "\n"
   ]
  },
  {
   "cell_type": "code",
   "execution_count": null,
   "metadata": {},
   "outputs": [],
   "source": [
    "var testLogin = () => {\r",
    "    return client.url('http://web.avidbrain.com/#/index')\r",
    "        .click('a*=Log In')\r",
    "        .click('.emailInputBox')\r",
    "        .keys('.emailInputBox', 'megamindbrian@gmail.com')\r",
    "        .click('[type=\"password\"]')\r",
    "        .keys('[type=\"password\"]', 'P4$$w0rd!')\r",
    "        .click('[type=\"submit\"]')\r",
    "        .pause(1000)\r",
    "};\r",
    "module.exports = testLogin;\r",
    "testLogin;\r",
    "\r",
    "\r",
    ""
   ]
  },
  {
   "cell_type": "code",
   "execution_count": 5,
   "metadata": {},
   "outputs": [
    {
     "name": "stdout",
     "output_type": "stream",
     "text": [
      "Already imported\n",
      "[ 'import notebook.ipynb', 'interpret all notebooks.ipynb' ]\n",
      "Already imported\n",
      "[ 'import notebook.ipynb', 'interpret all notebooks.ipynb' ]\n",
      "Initializing webdriver on localhost\n",
      "Already imported\n",
      "[ 'import notebook.ipynb', 'interpret all notebooks.ipynb' ]\n"
     ]
    },
    {
     "name": "stderr",
     "output_type": "stream",
     "text": [
      "WARNING: the \"keys\" command will be depcrecated soon. Please use a different command in order to avoid failures in your test after updating WebdriverIO.\n",
      "WARNING: the \"keys\" command will be depcrecated soon. Please use a different command in order to avoid failures in your test after updating WebdriverIO.\n"
     ]
    }
   ],
   "source": [
    "var importer = require('../Core');\r",
    "\r",
    "$$.async()\r",
    "importer.import('selenium cell')\r",
    "    .then(runSeleniumCell => runSeleniumCell('test avidbrain'))\r",
    "    .then(testLogin => testLogin())\r",
    "    .then(r => $$.sendResult(r))\r",
    "    .catch(e => $$.sendError(e));\r",
    ""
   ]
  },
  {
   "cell_type": "code",
   "execution_count": null,
   "metadata": {},
   "outputs": [],
   "source": [
    ""
   ]
  }
 ],
 "metadata": {
  "kernelspec": {
   "display_name": "Javascript (Node.js)",
   "language": "javascript",
   "name": "javascript"
  },
  "language_info": {
   "file_extension": ".js",
   "mimetype": "application/javascript",
   "name": "javascript",
   "version": "7.7.2"
  }
 },
 "nbformat": 4,
 "nbformat_minor": 2
}