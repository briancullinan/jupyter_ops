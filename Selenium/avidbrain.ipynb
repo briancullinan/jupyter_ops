{
 "cells": [
  {
   "cell_type": "markdown",
   "metadata": {},
   "source": [
    "Test avidbrain?\n",
    "\n"
   ]
  },
  {
   "cell_type": "code",
   "execution_count": null,
   "metadata": {},
   "outputs": [],
   "source": [
    "function testLogin() {\n",
    "    return client.url('http://web.avidbrain.com/#/index')\n",
    "        .click('a*=Log In')\n",
    "        .click('.emailInputBox')\n",
    "        .keys('.emailInputBox', 'megamindbrian@gmail.com')\n",
    "        .click('[type=\"password\"]')\n",
    "        .keys('[type=\"password\"]', 'P4$$w0rd!')\n",
    "        .click('[type=\"submit\"]')\n",
    "        .pause(1000)\n",
    "};\n",
    "module.exports = testLogin;\n"
   ]
  },
  {
   "cell_type": "code",
   "execution_count": 5,
   "metadata": {},
   "outputs": [
    {
     "name": "stdout",
     "output_type": "stream",
     "text": [
      "Already imported\n",
      "[ 'import notebook.ipynb', 'interpret all notebooks.ipynb' ]\n",
      "Already imported\n",
      "[ 'import notebook.ipynb', 'interpret all notebooks.ipynb' ]\n",
      "Initializing webdriver on localhost\n",
      "Already imported\n",
      "[ 'import notebook.ipynb', 'interpret all notebooks.ipynb' ]\n"
     ]
    },
    {
     "name": "stderr",
     "output_type": "stream",
     "text": [
      "WARNING: the \"keys\" command will be depcrecated soon. Please use a different command in order to avoid failures in your test after updating WebdriverIO.\n",
      "WARNING: the \"keys\" command will be depcrecated soon. Please use a different command in order to avoid failures in your test after updating WebdriverIO.\n"
     ]
    }
   ],
   "source": [
    "var importer = require('../Core');\n",
    "var runSeleniumCell = importer.import('selenium cell');\n",
    "\n",
    "$$.async()\n",
    "runSeleniumCell('test avidbrain')\n",
    "    .then(testLogin => testLogin())\n",
    "    .then(r => $$.sendResult(r))\n",
    "    .catch(e => $$.sendError(e));\n"
   ]
  },
  {
   "cell_type": "code",
   "execution_count": null,
   "metadata": {},
   "outputs": [],
   "source": []
  }
 ],
 "metadata": {
  "kernelspec": {
   "display_name": "Javascript (Node.js)",
   "language": "javascript",
   "name": "javascript"
  },
  "language_info": {
   "file_extension": ".js",
   "mimetype": "application/javascript",
   "name": "javascript",
   "version": "8.6.0"
  }
 },
 "nbformat": 4,
 "nbformat_minor": 2
}
