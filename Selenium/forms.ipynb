{
 "cells": [
  {
   "cell_type": "markdown",
   "metadata": {},
   "source": [
    "# Utilities for filling, clicking, reading forms?\n",
    "\n",
    "form utilities?\n",
    "\n"
   ]
  },
  {
   "cell_type": "code",
   "execution_count": 1,
   "metadata": {},
   "outputs": [
    {
     "data": {
      "text/plain": [
       "{ '0': [Function: selectDropdown],\n",
       "  '1': [Function: fillForm],\n",
       "  'forms.ipynb[1]': [Function: selectDropdown],\n",
       "  selectDropdown: [Function: selectDropdown],\n",
       "  'forms.ipynb[2]': [Function: fillForm],\n",
       "  fillForm: [Function: fillForm] }"
      ]
     },
     "execution_count": 1,
     "metadata": {},
     "output_type": "execute_result"
    }
   ],
   "source": [
    "var importer = require('../Core');\n",
    "module.exports = importer.import(['map object form', 'fill select dropdown'], {client});\n"
   ]
  },
  {
   "cell_type": "markdown",
   "metadata": {},
   "source": [
    "fill select dropdown?\n"
   ]
  },
  {
   "cell_type": "code",
   "execution_count": 2,
   "metadata": {},
   "outputs": [
    {
     "data": {
      "text/plain": [
       "[Function: selectDropdown]"
      ]
     },
     "execution_count": 2,
     "metadata": {},
     "output_type": "execute_result"
    }
   ],
   "source": [
    "function selectDropdown(label, value) {\n",
    "    return client\n",
    "        .click('//*[contains(., \"' + label + '\")][not(*)]/parent::*/*[contains(@role, \"listbox\")]' +\n",
    "               '|//*[contains(@aria-label, \"' + label + '\")]//*[contains(@role, \"listbox\")]' + \n",
    "               '|//*[contains(@aria-label, \"' + label + '\")]//*[contains(@class, \"button-dropdown\")]') // [contains(@aria-selected, \"true\")]\n",
    "        .pause(1000)\n",
    "        .click('//*[contains(., \"' + label + '\")][not(*)]/parent::*//*[contains(@role,\"option\")][contains(.,\"' + value + '\")]' +\n",
    "               // handle google angular drop down lists or google calendar drop down\n",
    "               // TODO: break up this line in to two\n",
    "               '|//*[contains(@aria-label, \"' + label + '\")]//*[contains(@class,\"menuitem\") or contains(@role, \"gridcell\")][not(contains(@class,\"other-month\"))][contains(.,\"' + value + '\")]')\n",
    "        .pause(1000)\n",
    "}\n",
    "module.exports = selectDropdown;\n"
   ]
  },
  {
   "cell_type": "markdown",
   "metadata": {},
   "source": [
    "map object to form?\n",
    "\n"
   ]
  },
  {
   "cell_type": "code",
   "execution_count": 3,
   "metadata": {},
   "outputs": [
    {
     "data": {
      "text/plain": [
       "[Function: fillForm]"
      ]
     },
     "execution_count": 3,
     "metadata": {},
     "output_type": "execute_result"
    }
   ],
   "source": [
    "var importer = require('../Core');\n",
    "\n",
    "function fillForm(obj) {\n",
    "    const fields = Object.keys(obj);\n",
    "    return importer.runAllPromises(fields.map(f => resolve => {\n",
    "        return selectDropdown(f, obj[f])\n",
    "            .catch(e => console.log(e))\n",
    "            .then(r => resolve(r))\n",
    "    }))\n",
    "}\n",
    "module.exports = fillForm;\n"
   ]
  },
  {
   "cell_type": "code",
   "execution_count": null,
   "metadata": {},
   "outputs": [],
   "source": []
  }
 ],
 "metadata": {
  "kernelspec": {
   "display_name": "Javascript (Node.js)",
   "language": "javascript",
   "name": "javascript"
  },
  "language_info": {
   "file_extension": ".js",
   "mimetype": "application/javascript",
   "name": "javascript",
   "version": "8.6.0"
  }
 },
 "nbformat": 4,
 "nbformat_minor": 2
}
