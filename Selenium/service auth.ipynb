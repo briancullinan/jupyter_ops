{
 "cells": [
  {
   "cell_type": "markdown",
   "metadata": {},
   "source": [
    "Decrypt passwords.json?"
   ]
  },
  {
   "cell_type": "code",
   "execution_count": null,
   "metadata": {
    "inputHidden": false,
    "outputHidden": false
   },
   "outputs": [],
   "source": [
    "var path = require('path');\n",
    "var fs = require('fs');\n",
    "var crypto = require('crypto');\n",
    "var path = require('path');\n",
    "\n",
    "var PROFILE_PATH = process.env.HOME || process.env.HOMEPATH || process.env.USERPROFILE || '';\n",
    "var PASS_FILE = path.join(PROFILE_PATH, '.credentials', 'password.txt');\n",
    "var PASSWORDS_FILE = path.join(PROFILE_PATH, '.credentials', 'passwords.json');\n",
    "\n",
    "function decrypt(text) {\n",
    "    var pass = process.env.SELENIUM_PASS || fs.readFileSync(PASS_FILE).toString();\n",
    "    var decipher = crypto.createDecipher('aes-256-ctr', pass);\n",
    "    var dec = decipher.update(text, 'hex', 'binary');\n",
    "    dec += decipher.final('binary');\n",
    "    return dec;\n",
    "}\n",
    "\n",
    "function getCredentials(name) {\n",
    "    var resultSet = {};\n",
    "    var passwords = JSON.parse(fs.readFileSync(PASSWORDS_FILE).toString());\n",
    "    var set = passwords.filter(el => el.host == name)[0] || {};\n",
    "    for (var i in set) {\n",
    "        if (set.hasOwnProperty(i)) {\n",
    "            if (i == 'added' || i == 'host') {\n",
    "                resultSet[i] = set[i];\n",
    "                continue;\n",
    "            }\n",
    "            resultSet[i] = decrypt(set[i]);\n",
    "        }\n",
    "    }\n",
    "    return resultSet;\n",
    "};\n",
    "module.exports = getCredentials;\n",
    "getCredentials;\n",
    "\n"
   ]
  },
  {
   "cell_type": "markdown",
   "metadata": {},
   "source": [
    "Add encrypted to passwords.json?\n",
    "\n"
   ]
  },
  {
   "cell_type": "code",
   "execution_count": null,
   "metadata": {
    "collapsed": true
   },
   "outputs": [],
   "source": [
    "var fs = require('fs');\n",
    "var crypto = require('crypto');\n",
    "var path = require('path');\n",
    "\n",
    "var PROFILE_PATH = process.env.HOME || process.env.HOMEPATH || process.env.USERPROFILE || '';\n",
    "var PASS_FILE = path.join(PROFILE_PATH, '.credentials', 'password.txt');\n",
    "var PASSWORDS_FILE = path.join(PROFILE_PATH, '.credentials', 'passwords.json');\n",
    "var pass = process.env.SELENIUM_PASS || fs.readFileSync(PASS_FILE).toString();\n",
    "\n",
    "function encrypt(text) {\n",
    "    var cipher = crypto.createCipher('aes-256-ctr', pass);\n",
    "    var crypted = cipher.update(text, 'binary', 'hex');\n",
    "    crypted += cipher.final('hex');\n",
    "    return crypted;\n",
    "}\n",
    "\n",
    "function encryptSet(set) {\n",
    "    var resultSet = {};\n",
    "    for (var i in set) {\n",
    "        if (set.hasOwnProperty(i)) {\n",
    "            if (i == 'added' || i == 'host') {\n",
    "                resultSet[i] = set[i];\n",
    "                continue;\n",
    "            }\n",
    "            resultSet[i] = encrypt(set[i]);\n",
    "        }\n",
    "    }\n",
    "    return resultSet;\n",
    "}\n",
    "\n",
    "function saveCredentials(passwordAddJson) {\n",
    "    // TODO: passAdd from file?\n",
    "    var passwords = JSON.parse(fs.readFileSync(PASSWORDS_FILE).toString());\n",
    "    passwordAddJson.added = new Date();\n",
    "    var encrypted = encryptSet(passwordAddJson);\n",
    "    if (passwordAddJson.host) {\n",
    "        passwords = passwords.filter(function (el) {\n",
    "            return el.host.toLowerCase() != passwordAddJson.host.toLowerCase()\n",
    "                && (el.username || '').toLowerCase() != passwordAddJson.username.toLowerCase();\n",
    "        });\n",
    "    }\n",
    "    passwords[passwords.length] = encrypted;\n",
    "    var passwordString = JSON.stringify(passwords, null, 4);\n",
    "    //var compressed = zlib.gzipSync(passwordString).toString('base64');\n",
    "    console.log('Passwords: Saving encrypted file');\n",
    "    fs.writeFileSync('passwords-new.json', passwordString);\n",
    "    fs.renameSync(PASSWORDS_FILE, 'passwords-backup.json');\n",
    "    fs.renameSync('passwords-new.json', PASSWORDS_FILE);\n",
    "    fs.unlinkSync('passwords-backup.json');\n",
    "    if (typeof passAdd !== 'undefined' && fs.existsSync(passAdd)) {\n",
    "        console.log('Passwords: Deleting input file: ' + passAdd);\n",
    "        fs.unlinkSync(passAdd);\n",
    "    }\n",
    "    return encrypted;\n",
    "}\n",
    "\n",
    "module.exports = saveCredentials;\n",
    "saveCredentials;\n"
   ]
  },
  {
   "cell_type": "code",
   "execution_count": 5,
   "metadata": {},
   "outputs": [
    {
     "name": "stdout",
     "output_type": "stream",
     "text": [
      "reading notebook /Users/briancullinan/jupytangular2/Selenium/service auth.ipynb\n",
      "compiling /Users/briancullinan/jupytangular2/Selenium/service auth.ipynb[1]\n",
      "Passwords: Saving encrypted file\n"
     ]
    },
    {
     "data": {
      "text/plain": [
       "{ host: 'linkedin.com',\n",
       "  password: '746668b6ce2e94495c7b',\n",
       "  username: '5d623eb3c73ec81e1f313c41e9845d978cd242b859a157',\n",
       "  added: 2018-06-09T01:21:27.116Z }"
      ]
     },
     "execution_count": 5,
     "metadata": {},
     "output_type": "execute_result"
    },
    {
     "name": "stderr",
     "output_type": "stream",
     "text": [
      "(node:25220) Warning: Use Cipheriv for counter mode of aes-256-ctr\n",
      "(node:25220) Warning: Use Cipheriv for counter mode of aes-256-ctr\n"
     ]
    }
   ],
   "source": [
    "var importer = require('../Core');\n",
    "var saveCredentials = importer.import('add encrypted passwords.json');\n",
    "\n",
    "saveCredentials({\n",
    "    host: 'linkedin.com',\n",
    "    password: '********',\n",
    "    username: 'megamindbrian@gmail.com'\n",
    "});\n"
   ]
  },
  {
   "cell_type": "code",
   "execution_count": null,
   "metadata": {
    "collapsed": true
   },
   "outputs": [],
   "source": [
    "// add all passwords from passwords.html?\n",
    "var importer = require('../Core');\n",
    "var fs = require('fs');\n",
    "var saveCredentials = importer.import('add encrypted passwords.json');\n",
    "\n",
    "var PROFILE_PATH = process.env.HOME || process.env.HOMEPATH || process.env.USERPROFILE || '';\n",
    "var project = PROFILE_PATH + '/Documents/passwords.htm';\n",
    "\n",
    "function readPasswordsHtm() {\n",
    "    var credentials;\n",
    "    var passwords = fs.readFileSync(project).toString('utf16le');\n",
    "    importer.regexToArray(/TBODY[^>]*>[\\s\\S]*?\\/TBODY/ig, passwords).forEach(b => {\n",
    "        var creds = {};\n",
    "        creds['host'] = (((/subcaption[^>]*>(.*?)<\\/td>/ig)\n",
    "            .exec(b) || [])[1] || '').replace(/<wbr>/ig, '').toLowerCase();\n",
    "        if (creds.host.trim() === '') {\n",
    "            return;\n",
    "        }\n",
    "        importer.regexToArray(/<tr>[\\s\\S]*?<\\/tr>/ig, b).forEach(f => {\n",
    "            var key = (((/field[^>]*>(.*?)<\\/td>/ig)\n",
    "                .exec(f) || [])[1] || '').replace(/<wbr>/ig, '');\n",
    "            var value = (((/wordbreakfield[^>]*>(.*?)<\\/td>/ig)\n",
    "                .exec(f) || [])[1] || '').replace(/<wbr>/ig, '');\n",
    "            if (key.trim() !== '') {\n",
    "                creds[key] = value;\n",
    "            }\n",
    "        });\n",
    "        credentials = saveCredentials(creds);\n",
    "    });\n",
    "    return credentials;\n",
    "};\n",
    "module.exports = readPasswordsHtm;\n",
    "\n",
    "// display login form and add to passwords.json?\n",
    "\n"
   ]
  },
  {
   "cell_type": "markdown",
   "metadata": {},
   "source": [
    "download passwords from google?\n",
    "\n",
    "https://passwords.google.com\n",
    "\n"
   ]
  },
  {
   "cell_type": "code",
   "execution_count": null,
   "metadata": {
    "collapsed": true
   },
   "outputs": [],
   "source": [
    "var importer = require('../Core');\n",
    "var loginGoogle = importer.import('log in google', {client, getCredentials});\n",
    "\n",
    "function waitForPasswordLoad(r) {\n",
    "    return Promise.all([\n",
    "        client.getText(r + ' [role=\"rowheader\"]'),\n",
    "        client.getText(r + ' [role=\"rowheader\"] ~ [role=\"gridcell\"]:nth-child(2)'),\n",
    "        client.getValue(r + ' [role=\"rowheader\"] ~ [role=\"gridcell\"]:last-child input')\n",
    "    ])\n",
    "        .then(r => r[2] === 'Loading...'\n",
    "            ? client.pause(1000).then(() => waitForPasswordLoad(r))\n",
    "            : Promise.resolve(r))\n",
    "};\n",
    "\n",
    "function copyPasswordRow(i) {\n",
    "    const r = '[role=\"row\"]:nth-of-type(' + i + ') ';\n",
    "    return client.click(r + ' [role=\"button\"][aria-label*=\"Toggle\"]')\n",
    "        .pause(1000)\n",
    "        .then(() => waitForPasswordLoad(r))\n",
    "        .then(r => saveCredentials({\n",
    "            host: r[0],\n",
    "            username: r[1],\n",
    "            password: r[2]\n",
    "        }))\n",
    "        .catch(e => console.log(e))\n",
    "};\n",
    "\n",
    "function copyPasswords() {\n",
    "    return client.url('https://passwords.google.com')\n",
    "        .then(() => loginGoogle(client)\n",
    "        .pause(1000)\n",
    "        .elements('[role=\"row\"]')\n",
    "        .then(els => importer.runAllPromises(els.value.map((e, i) => resolve => {\n",
    "            return client.isExisting('[role=\"row\"]:nth-of-type(' + i + ') [role=\"button\"][aria-label*=\"Toggle\"]')\n",
    "                .then(is => is ? copyPasswordRow(i) : client)\n",
    "                .then(row => resolve(row))\n",
    "        })));\n",
    "};\n",
    "\n",
    "var saveCredentials = importer.import('add encrypted passwords.json');\n",
    "function downloadGooglePasswords() {\n",
    "    return copyPasswords();\n",
    "};\n",
    "module.exports = downloadGooglePasswords;\n"
   ]
  },
  {
   "cell_type": "code",
   "execution_count": null,
   "metadata": {
    "collapsed": true
   },
   "outputs": [],
   "source": [
    "var importer = require('../Core');\n",
    "var runSeleniumCell = importer.import('selenium cell');\n",
    "\n",
    "$$.async();\n",
    "runSeleniumCell('download passwords from google')\n",
    "    .then(downloadGooglePasswords => downloadGooglePasswords())\n",
    "    .then(r => $$.sendResult(r))\n",
    "    .catch(e => $$.sendError(e));\n",
    "\n"
   ]
  },
  {
   "cell_type": "markdown",
   "metadata": {},
   "source": [
    "How to log in to Google using webdriver?\n",
    "\n"
   ]
  },
  {
   "cell_type": "code",
   "execution_count": null,
   "metadata": {
    "inputHidden": false,
    "outputHidden": false
   },
   "outputs": [],
   "source": [
    "var matchUsername = 'input[name=\"Email\"], input[autocomplete=\"username\"]';\n",
    "function enterGoogleUsername(email) {\n",
    "    console.log('Google: Sign in required');\n",
    "    return client\n",
    "        .pause(1000)\n",
    "        .then(() => client.$(matchUsername))\n",
    "        .then(el => el.addValue(email))\n",
    "        .then(() => client.$('#identifierNext'))\n",
    "        .then(el => el.click())\n",
    "        .catch((e) => console.log(e));\n",
    "}\n",
    "\n",
    "var matchPassword = 'input[name=\"Passwd\"], input[autocomplete=\"password\"], input[name=\"password\"]';\n",
    "function enterGooglePassword(pass) {\n",
    "    console.log('Google: Require password');\n",
    "    return client\n",
    "        .pause(2000)\n",
    "        .then(() => client.$(matchPassword))\n",
    "        .then(el => el.addValue(pass))\n",
    "        .then(() => client.$('#passwordNext'))\n",
    "        .then(el => el.click());\n",
    "}\n",
    "\n",
    "function enterCredentials(is) {\n",
    "    var credentials = getCredentials('accounts.google.com');\n",
    "    if (is) {\n",
    "        return client.$('#passwordNext')\n",
    "            .then(el => el.isDisplayed())\n",
    "            .then(is => is\n",
    "                ? enterGooglePassword(credentials.Passwd)\n",
    "                : enterGoogleUsername(credentials.Email)\n",
    "                    .then(() => enterGooglePassword(credentials.Passwd)))\n",
    "    } else {\n",
    "        return client\n",
    "            .findElements('xpath', '//h1[contains(., \"Choose an account\")]')\n",
    "            .then(is => {\n",
    "                if (is.length > 0) {\n",
    "                    return client\n",
    "                        .findElements('xpath', '//*[@data-authuser][contains(., \"@\")]')\n",
    "                        .then(is => {\n",
    "                            console.log(is);\n",
    "                            return is.length > 0\n",
    "                              ? client.$('//*[@data-authuser][contains(., \"@\")]').then(el => el.click())\n",
    "                              : []\n",
    "                        })\n",
    "                        .then(() => client.$('#passwordNext'))\n",
    "                        .then(el => el.isDisplayed())\n",
    "                        .then(is => is\n",
    "                            ? enterGooglePassword(credentials.Passwd)\n",
    "                            : [])\n",
    "                } else {\n",
    "                    return client.findElements('xpath', '//h1[contains(., \"Sign in\")]')\n",
    "                        .then(is => is\n",
    "                            ? enterGoogleUsername(credentials.Email)\n",
    "                                .then(() => enterGooglePassword(credentials.Passwd))\n",
    "                            : null)\n",
    "                }\n",
    "            })\n",
    "            .catch((e) => console.log(e));\n",
    "    }\n",
    "}\n",
    "\n",
    "function loginGoogle() {\n",
    "    return client\n",
    "        .findElements('css selector', 'a[href*=\"ServiceLogin\"]')\n",
    "        .then(is => is.length > 0 ? client.click('a[href*=\"ServiceLogin\"]') : null)\n",
    "        .then(() => client.pause(1000))\n",
    "        .then(() => client.findElements('css selector', 'form[action*=\"signin\"]'))\n",
    "        .then(is => enterCredentials(is.length > 0))\n",
    "        .catch((e) => {\n",
    "            console.log(e);\n",
    "            console.log('Google: Could not log in');\n",
    "        });\n",
    "}\n",
    "\n",
    "module.exports = loginGoogle;\n",
    "\n"
   ]
  },
  {
   "cell_type": "markdown",
   "metadata": {
    "inputHidden": false,
    "outputHidden": false
   },
   "source": [
    "Automatically fill any type of login form using various algorithms?\n",
    "\n",
    "Try to log in to every site in stored passwords\n",
    "\n"
   ]
  },
  {
   "cell_type": "code",
   "execution_count": null,
   "metadata": {
    "collapsed": true
   },
   "outputs": [],
   "source": []
  }
 ],
 "metadata": {
  "kernel_info": {
   "name": "node_nteract"
  },
  "kernelspec": {
   "display_name": "Javascript (Node.js)",
   "language": "javascript",
   "name": "javascript"
  },
  "language_info": {
   "file_extension": ".js",
   "mimetype": "application/javascript",
   "name": "javascript",
   "version": "10.15.3"
  }
 },
 "nbformat": 4,
 "nbformat_minor": 4
}
