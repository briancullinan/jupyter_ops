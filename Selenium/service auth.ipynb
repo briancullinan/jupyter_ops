{
 "cells": [
  {
   "cell_type": "markdown",
   "metadata": {},
   "source": [
    "Decrypt passwords.json?"
   ]
  },
  {
   "cell_type": "code",
   "execution_count": 1,
   "metadata": {
    "collapsed": false,
    "inputHidden": false,
    "outputHidden": false
   },
   "outputs": [
    {
     "data": {
      "text/plain": [
       "[Function: getCredentials]"
      ]
     },
     "execution_count": 1,
     "metadata": {},
     "output_type": "execute_result"
    }
   ],
   "source": [
    "var path = require('path');\n",
    "var rfs = require('fs').readFileSync;\n",
    "var crypto = require('crypto');\n",
    "var path = require('path');\n",
    "\n",
    "var PROFILE_PATH = process.env.HOME || process.env.HOMEPATH || process.env.USERPROFILE;\n",
    "var PASS_FILE = path.join(PROFILE_PATH, '.credentials', 'password.txt');\n",
    "var PASSWORDS_FILE = path.join(PROFILE_PATH, '.credentials', 'passwords.json');\n",
    "var pass = process.env.SELENIUM_PASS || rfs(PASS_FILE);\n",
    "\n",
    "var decrypt = (text) => {\n",
    "    var decipher = crypto.createDecipher('aes-256-ctr', pass);\n",
    "    var dec = decipher.update(text, 'hex', 'latin1');\n",
    "    dec += decipher.final('latin1');\n",
    "    return dec;\n",
    "}\n",
    "\n",
    "var getCredentials = (name) => {\n",
    "    var resultSet = {};\n",
    "    var passwords = JSON.parse(rfs(PASSWORDS_FILE));\n",
    "    var set = passwords.filter(el => el.host == name)[0] || {};\n",
    "    for(var i in set) {\n",
    "        if(set.hasOwnProperty(i)) {\n",
    "            if(i == 'added' || i == 'host') {\n",
    "                resultSet[i] = set[i];\n",
    "                continue;\n",
    "            }\n",
    "            resultSet[i] = decrypt(set[i]);\n",
    "        }\n",
    "    }\n",
    "    return resultSet;\n",
    "};\n",
    "module.exports = getCredentials;\n",
    "getCredentials;\n",
    "\n"
   ]
  },
  {
   "cell_type": "markdown",
   "metadata": {},
   "source": [
    "Add encrypted to passwords.json?\n",
    "\n"
   ]
  },
  {
   "cell_type": "code",
   "execution_count": null,
   "metadata": {},
   "outputs": [],
   "source": [
    "var fs = require('fs');\n",
    "var rfs = require('fs').readFileSync;\n",
    "var crypto = require('crypto');\n",
    "var path = require('path');\n",
    "\n",
    "var PROFILE_PATH = process.env.HOME || process.env.HOMEPATH || process.env.USERPROFILE;\n",
    "var PASS_FILE = path.join(PROFILE_PATH, '.credentials', 'password.txt');\n",
    "var PASSWORDS_FILE = path.join(PROFILE_PATH, '.credentials', 'passwords.json');\n",
    "var pass = process.env.SELENIUM_PASS || rfs(PASS_FILE);\n",
    "\n",
    "function encrypt(text) {\n",
    "    var cipher = crypto.createCipher('aes-256-ctr', pass);\n",
    "    var crypted = cipher.update(text, 'latin1', 'hex');\n",
    "    crypted += cipher.final('hex');\n",
    "    return crypted;\n",
    "}\n",
    "\n",
    "function encryptSet(set) {\n",
    "    var resultSet = {};\n",
    "    for(var i in set) {\n",
    "        if(set.hasOwnProperty(i)) {\n",
    "            if(i == 'added' || i == 'host') {\n",
    "                resultSet[i] = set[i];\n",
    "                continue;\n",
    "            }\n",
    "            resultSet[i] = encrypt(set[i]);\n",
    "        }\n",
    "    }\n",
    "    return resultSet;\n",
    "}\n",
    "\n",
    "function saveCredentials(passwordAddJson) {\n",
    "    // TODO: passAdd from file?\n",
    "    var passwords = require(PASSWORDS_FILE);\n",
    "    passwordAddJson.added = new Date();\n",
    "    var encrypted = encryptSet(passwordAddJson);\n",
    "    if(passwordAddJson.host) {\n",
    "        passwords = passwords.filter(function (el) {\n",
    "            return el.host.toLowerCase() != passwordAddJson.host.toLowerCase();\n",
    "        });\n",
    "    }\n",
    "    passwords[passwords.length] = encrypted;\n",
    "    var passwordString = JSON.stringify(passwords, null, 4);\n",
    "    //var compressed = zlib.gzipSync(passwordString).toString('base64');\n",
    "    console.log('Passwords: Saving encrypted file');\n",
    "    fs.writeFileSync('passwords-new.json', passwordString);\n",
    "    fs.renameSync(PASSWORDS_FILE, 'passwords-backup.json');\n",
    "    fs.renameSync('passwords-new.json', PASSWORDS_FILE);\n",
    "    fs.unlinkSync('passwords-backup.json');\n",
    "    if(typeof passAdd !== 'undefined' && fs.existsSync(passAdd)) {\n",
    "        console.log('Passwords: Deleting input file: ' + passAdd);\n",
    "        fs.unlinkSync(passAdd);\n",
    "    }\n",
    "    return encrypted;\n",
    "}\n",
    "module.exports = saveCredentials;\n",
    "saveCredentials;\n"
   ]
  },
  {
   "cell_type": "code",
   "execution_count": 2,
   "metadata": {},
   "outputs": [
    {
     "name": "stdout",
     "output_type": "stream",
     "text": [
      "Already imported\n",
      "[ 'import notebook.ipynb', 'interpret all notebooks.ipynb' ]\n",
      "Passwords: Saving encrypted file\n",
      "{ host: 'facebook.com',\n",
      "  email: '5d623eb3c73ec81e1f313c41e9845d978cd242b859a157',\n",
      "  password: '746668b6ce2e9449',\n",
      "  remember: '1a',\n",
      "  added: 2017-08-19T06:17:13.411Z }\n"
     ]
    },
    {
     "data": {
      "text/plain": [
       "{ host: 'facebook.com',\n",
       "  email: '5d623eb3c73ec81e1f313c41e9845d978cd242b859a157',\n",
       "  password: '746668b6ce2e9449',\n",
       "  remember: '1a',\n",
       "  added: 2017-08-19T06:17:13.411Z }"
      ]
     },
     "execution_count": 2,
     "metadata": {},
     "output_type": "execute_result"
    }
   ],
   "source": [
    "// add all passwords from passwords.html?\n",
    "var importer = require('../Core');\n",
    "var fs = require('fs');\n",
    "\n",
    "var PROFILE_PATH = process.env.HOME || process.env.HOMEPATH || process.env.USERPROFILE;\n",
    "var fs = require('fs');\n",
    "var project = PROFILE_PATH + '/Documents/passwords.htm';\n",
    "\n",
    "// How to convert a string to an Array of RegEx matches\n",
    "var regexToArray = (ex, str, i = 0) => {\n",
    "    var co = []; var m;\n",
    "    while ((m = ex.exec(str)) && co.push(m[i]));\n",
    "    return co;\n",
    "};\n",
    "\n",
    "$$.async();\n",
    "importer.interpretAll(['add encrypted passwords.json'])\n",
    ".then(r => r[0].runInNewContext())\n",
    ".then(saveCredentials => {\n",
    "    var credentials;\n",
    "    var passwords = fs.readFileSync(project).toString('utf16le');\n",
    "    regexToArray(/TBODY[^>]*>[\\s\\S]*?\\/TBODY/ig, passwords).forEach(b => {\n",
    "        var creds = {};\n",
    "        creds['host'] = (((/subcaption[^>]*>(.*?)<\\/td>/ig)\n",
    "            .exec(b) || [])[1] || '').replace(/<wbr>/ig, '').toLowerCase();\n",
    "        if(creds.host == '') {\n",
    "            return;\n",
    "        }\n",
    "        regexToArray(/<tr>[\\s\\S]*?<\\/tr>/ig, b).forEach(f => {\n",
    "            var key = (((/field[^>]*>(.*?)<\\/td>/ig)\n",
    "                .exec(f) || [])[1] || '').replace(/<wbr>/ig, '');\n",
    "            var value = (((/wordbreakfield[^>]*>(.*?)<\\/td>/ig)\n",
    "                .exec(f) || [])[1] || '').replace(/<wbr>/ig, '');\n",
    "            creds[key] = value;\n",
    "        });\n",
    "        if(creds.host == 'facebook.com') {\n",
    "            credentials = saveCredentials(creds);\n",
    "        }\n",
    "    });\n",
    "    return credentials;\n",
    "})\n",
    ".then(r => $$.sendResult(r))\n",
    ".catch(e => $$.sendError(e));\n",
    "   \n",
    "// display login form and add to passwords.json?\n",
    "\n",
    "\n",
    "// download passwords from https://passwords.google.com\n",
    "\n"
   ]
  },
  {
   "cell_type": "markdown",
   "metadata": {},
   "source": [
    "How to log in to Google using webdriver?"
   ]
  },
  {
   "cell_type": "code",
   "execution_count": 2,
   "metadata": {
    "collapsed": false,
    "inputHidden": false,
    "outputHidden": false
   },
   "outputs": [
    {
     "ename": "ReferenceError",
     "evalue": "client is not defined",
     "output_type": "error",
     "traceback": [
      "ReferenceError: client is not defined",
      "    at evalmachine.<anonymous>:9:12",
      "    at ContextifyScript.Script.runInThisContext (vm.js:25:33)",
      "    at Object.exports.runInThisContext (vm.js:77:17)",
      "    at run ([eval]:613:19)",
      "    at onRunRequest ([eval]:384:22)",
      "    at onMessage ([eval]:352:17)",
      "    at emitTwo (events.js:106:13)",
      "    at process.emit (events.js:191:7)",
      "    at process.nextTick (internal/child_process.js:744:12)",
      "    at _combinedTickCallback (internal/process/next_tick.js:67:7)"
     ]
    }
   ],
   "source": [
    "var client = typeof client !== undefined ? client : {};\n",
    "var matchUsername = 'input[name=\"Email\"], input[autocomplete=\"username\"]';\n",
    "var enterGoogleUsername = (email) => {\n",
    "    console.log('Google: Sign in required');\n",
    "    return client\n",
    "        .waitForVisible(matchUsername, 1000)\n",
    "        .addValue(matchUsername, email)\n",
    "        .click('#identifierNext');\n",
    "}\n",
    "if (typeof client.enterGoogleUsername == 'undefined') {\n",
    "    client.addCommand('enterGoogleUsername', enterGoogleUsername);\n",
    "}\n",
    "\n",
    "var matchPassword = 'input[name=\"Passwd\"], input[autocomplete=\"password\"], input[name=\"password\"]';\n",
    "var enterGooglePassword = (pass) => {\n",
    "    console.log('Google: Require password');\n",
    "    return client\n",
    "        .waitForVisible(matchPassword, 5000)\n",
    "        .addValue(matchPassword, pass)\n",
    "        .click('#passwordNext');\n",
    "}\n",
    "if (typeof client.enterGooglePassword == 'undefined') {\n",
    "    client.addCommand('enterGooglePassword', enterGooglePassword);\n",
    "}\n",
    "\n",
    "var enterCredentials = (is) => {\n",
    "    var credentials = getCredentials('accounts.google.com');\n",
    "    if (is) {\n",
    "        return client\n",
    "            .enterGoogleUsername(credentials.Email)\n",
    "            .enterGooglePassword(credentials.Passwd)\n",
    "    } else {\n",
    "        return client.isExisting('h1*=Choose an account')\n",
    "            .then(is => {\n",
    "                if (is) {\n",
    "                    return client\n",
    "                        .click('p*=' + credentials.Email);\n",
    "                }\n",
    "            });\n",
    "    }\n",
    "}\n",
    "if (typeof client.enterCredentials == 'undefined') {\n",
    "    client.addCommand('enterCredentials', enterCredentials);\n",
    "}\n",
    "\n",
    "var loginGoogle = () => {\n",
    "    return client.isExisting('h1*=Sign in')\n",
    "        .then(is => client.enterCredentials(is))\n",
    "        .catch((e) => {\n",
    "            console.log(e);\n",
    "            console.log('Google: Could not log in');\n",
    "        });\n",
    "}\n",
    "if (typeof client.loginGoogle == 'undefined') {\n",
    "    client.addCommand('loginGoogle', loginGoogle);\n",
    "}\n",
    "module.exports = loginGoogle;\n",
    "loginGoogle;\n",
    "\n"
   ]
  },
  {
   "cell_type": "code",
   "execution_count": null,
   "metadata": {
    "collapsed": false,
    "inputHidden": false,
    "outputHidden": false
   },
   "outputs": [],
   "source": [
    "\n"
   ]
  }
 ],
 "metadata": {
  "kernel_info": {
   "name": "node_nteract"
  },
  "kernelspec": {
   "display_name": "Javascript (Node.js)",
   "language": "javascript",
   "name": "javascript"
  },
  "language_info": {
   "file_extension": ".js",
   "mimetype": "application/javascript",
   "name": "javascript",
   "version": "7.7.2"
  }
 },
 "nbformat": 4,
 "nbformat_minor": 4
}
