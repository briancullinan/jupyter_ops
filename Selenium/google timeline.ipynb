{
 "cells": [
  {
   "cell_type": "markdown",
   "metadata": {},
   "source": [
    "How to set up selenium and client?"
   ]
  },
  {
   "cell_type": "code",
   "execution_count": 1,
   "metadata": {
    "collapsed": false,
    "inputHidden": false,
    "outputHidden": false
   },
   "outputs": [
    {
     "data": {
      "text/plain": [
       "[Function: getClient]"
      ]
     },
     "execution_count": 1,
     "metadata": {},
     "output_type": "execute_result"
    }
   ],
   "source": [
    "var importer = require('../Core');\n",
    "\n",
    "var client;\n",
    "var getClient = () => {\n",
    "    return importer.interpretAll([\n",
    "        'webdriver client node',\n",
    "        'decrypt password',\n",
    "        'log in Google'\n",
    "    ])\n",
    "    .then(r => {\n",
    "        var createWebdriverClient = eval(r[0].code);\n",
    "        client = createWebdriverClient('localhost', 4444);\n",
    "        eval(r[1].code);\n",
    "        eval(r[2].code);\n",
    "        return client;\n",
    "    });\n",
    "};\n",
    "module.exports = getClient;\n",
    "getClient;\n",
    "\n"
   ]
  },
  {
   "cell_type": "code",
   "execution_count": 2,
   "metadata": {
    "collapsed": false,
    "inputHidden": false,
    "outputHidden": false
   },
   "outputs": [
    {
     "name": "stdout",
     "output_type": "stream",
     "text": [
      "Initializing webdriver on localhost\n",
      "d6f40697-322e-4202-95bc-356c3ed0df3c\n"
     ]
    }
   ],
   "source": [
    "$$.async();\n",
    "getClient()\n",
    "    .then(c => $$.sendResult(c))\n",
    "    .catch(e => $$.sendError(e));\n"
   ]
  },
  {
   "cell_type": "markdown",
   "metadata": {},
   "source": [
    "How to download google timeline data using webdriver?"
   ]
  },
  {
   "cell_type": "code",
   "execution_count": 3,
   "metadata": {
    "collapsed": false,
    "inputHidden": false,
    "outputHidden": false
   },
   "outputs": [],
   "source": [
    "var months = ['Jan', 'Feb', 'Mar', 'Apr', 'May', 'Jun', 'Jul', 'Aug', 'Sep', 'Oct', 'Nov', 'Dec'];\n",
    "var getGoogleTimeline = () => {\n",
    "    console.log('Google: Logging timeline history');\n",
    "    return client\n",
    "        .url('https://www.google.com/maps/timeline')\n",
    "        .loginGoogle()\n",
    "        .waitUntil(() => client.getUrl()\n",
    "                   .then(url => url.indexOf('timeline') > -1, 20000, ''))\n",
    "        .catch(function (e) {\n",
    "            console.log(e);\n",
    "        })\n",
    "        .pause(3000)\n",
    "        .click('button[jsaction=\"select-today\"]')\n",
    "        .pause(1000);\n",
    "}\n",
    "if (typeof client.getGoogleTimeline == 'undefined') {\n",
    "    client.addCommand('getGoogleTimeline', getGoogleTimeline);\n",
    "}\n",
    "module.exports = getGoogleTimeline;\n",
    "getGoogleTimeline;\n"
   ]
  },
  {
   "cell_type": "code",
   "execution_count": 4,
   "metadata": {
    "collapsed": false,
    "inputHidden": false,
    "outputHidden": false
   },
   "outputs": [],
   "source": [
    "var readAllPages = () => {\n",
    "    // TODO: add stop conditions\n",
    "    var oneDay = 24*60*60*1000; // hours*minutes*seconds*milliseconds\n",
    "    var firstDate = new Date(2016,8,21);\n",
    "    var secondDate = new Date();\n",
    "    var days = Math.round(\n",
    "        Math.abs((firstDate.getTime() - secondDate.getTime())/(oneDay)));\n",
    "    var result = client;\n",
    "    dayKey = '';\n",
    "    for (var c = 0; c < days; c++) {\n",
    "        result = result.readTimelinePage()\n",
    "            .click('.previous-date-range-button')\n",
    "            .pause(1000)\n",
    "    }\n",
    "    return result;\n",
    "}\n",
    "if (typeof client.getGoogleTimeline == 'undefined') {\n",
    "    client.addCommand('readAllPages', readAllPages);\n",
    "}\n",
    "module.exports = readAllPages;\n",
    "readAllPages;\n"
   ]
  },
  {
   "cell_type": "code",
   "execution_count": 5,
   "metadata": {
    "collapsed": false,
    "inputHidden": false,
    "outputHidden": false
   },
   "outputs": [],
   "source": [
    "var readTimelinePage = () => {\n",
    "    return client.execute(() => {\n",
    "        var day, lastTime, currDate, dayKey;\n",
    "        day = (document.getElementsByClassName('timeline-title')[0] \n",
    "               || document.getElementsByClassName('timeline-subtitle')[0]).innerText;\n",
    "        currDate = new Date(day);\n",
    "        \n",
    "        var newKey = currDate.getDate() \n",
    "            + months[currDate.getMonth()] \n",
    "            + (currDate.getFullYear() + '').substr(2, 2);\n",
    "        if (newKey != dayKey) {\n",
    "            dayKey = newKey;\n",
    "        }\n",
    "        \n",
    "        var timelineCache = {};\n",
    "        var document.getElementsByClassName('timeline-item').map((i) => {\n",
    "            var r = [\n",
    "                i.getElementsByClassName('place-visit-title')[0],\n",
    "                i.getElementsByClassName('timeline-item')[0]\n",
    "                    .getAttribute('data-segment-key'),\n",
    "                i.getElementsByClassName('timeline-item-title-content')[0],\n",
    "                i.getElementsByClassName('timeline-item-text')[0],\n",
    "                i.getElementsByClassName('duration-text')[0],\n",
    "            ];\n",
    "            var el = i.siblingElement;\n",
    "            var duration = r[4];\n",
    "            var timelineData = r[1].split(':');\n",
    "            var start = new Date(parseFloat(timelineData[1]))\n",
    "                || new Date(day + ' ' + duration.split('-')[0]);\n",
    "            var end = new Date(parseFloat(timelineData[2]))\n",
    "                || new Date(day + ' ' + duration.split('-')[1]);\n",
    "\n",
    "            var length = end.getTime() - start.getTime();\n",
    "            var newRow = {\n",
    "                type: 'timeline',\n",
    "                timeline: dayKey,\n",
    "                name: r[0] == '' ? r[2] : r[0],\n",
    "                location: r[3],\n",
    "                time: start,\n",
    "                length: isNaN(length) ? 0 : length\n",
    "            };\n",
    "            if (typeof timelineCache[newRow.timeline] == 'undefined') {\n",
    "                timelineCache[newRow.timeline] = [newRow];\n",
    "            }\n",
    "            else {\n",
    "                timelineCache[newRow.timeline] = timelineCache[newRow.timeline]\n",
    "                    .filter(function (i) {\n",
    "                        return i.time != newRow.time;\n",
    "                    })\n",
    "                    .concat([newRow]);\n",
    "            }\n",
    "        });\n",
    "        \n",
    "        return timelineCache;\n",
    "    })\n",
    "}\n",
    "if (typeof client.readTimelinePage == 'undefined') {\n",
    "    client.addCommand('readTimelinePage', readTimelinePage);\n",
    "}\n",
    "module.exports = readTimelinePage;\n",
    "readTimelinePage;\n"
   ]
  },
  {
   "cell_type": "code",
   "execution_count": 7,
   "metadata": {
    "collapsed": false,
    "inputHidden": false,
    "outputHidden": false
   },
   "outputs": [],
   "source": [
    "var fs = require('fs');\n",
    "$$.async()\n",
    "client.getGoogleTimeline()\n",
    "    .then((r) => readAllPages())\n",
    "    .then(() => Object.keys(timelineCache).forEach(r => fs.writeFileSync('/Users/briancullinan/Timeline/timeline-' + timelineCache[r][0].timeline + '.json', JSON.stringify(timelineCache[r], null, 4))))\n",
    "    .catch(e => $$.sendError(e));\n",
    "\n"
   ]
  },
  {
   "cell_type": "code",
   "execution_count": 3,
   "metadata": {
    "collapsed": false,
    "inputHidden": false,
    "outputHidden": false
   },
   "outputs": [],
   "source": [
    "$$.async();\n",
    "client.windowHandles()\n",
    ".then(h => $$.sendResult(h))\n",
    ".catch(e => $$.sendError(e));"
   ]
  },
  {
   "cell_type": "code",
   "execution_count": 5,
   "metadata": {
    "collapsed": false,
    "inputHidden": false,
    "outputHidden": false
   },
   "outputs": [],
   "source": [
    "var locationCache = {};\n",
    "var dayKey; var count = 0;\n",
    "$$.async();\n",
    "importer.streamJson('/Users/briancullinan/Downloads/Takeout 5/Location History/Location History.json', [true, {emitPath: true}], (match) => {\n",
    "    if(match.path[0] === 'locations') {\n",
    "        var currDate = new Date(parseInt(match.value.timestampMs));\n",
    "        var newKey = currDate.getDate() + months[currDate.getMonth()]\n",
    "            + (currDate.getFullYear() + '').substr(2, 2);\n",
    "        if (newKey != dayKey) {\n",
    "            dayKey = newKey;\n",
    "        }\n",
    "        var newRow = Object.assign({\n",
    "                time: currDate,\n",
    "                type: 'location',\n",
    "                location: dayKey,\n",
    "        }, match.value);\n",
    "        var cache = locationCache[newRow.location];\n",
    "        if(typeof cache === 'undefined') {\n",
    "            cache = locationCache[newRow.location] = [];\n",
    "        }\n",
    "        cache[cache.length] = newRow;\n",
    "    }\n",
    "})\n",
    "    .then(() => Object.keys(locationCache).forEach(r => fs.writeFileSync(\n",
    "        '/Users/briancullinan/Timeline/location-' \n",
    "        + locationCache[r][0].location + '.json',\n",
    "        JSON.stringify(locationCache[r], null, 4))))\n",
    "\n",
    "    .then(() => $$.sendResult(locationCache[dayKey]))\n",
    "    .catch(e => $$.sendError(e));\n",
    "\n"
   ]
  },
  {
   "cell_type": "code",
   "execution_count": null,
   "metadata": {
    "collapsed": false,
    "inputHidden": false,
    "outputHidden": false
   },
   "outputs": [],
   "source": []
  },
  {
   "cell_type": "code",
   "execution_count": null,
   "metadata": {
    "collapsed": false,
    "inputHidden": false,
    "outputHidden": false
   },
   "outputs": [],
   "source": []
  }
 ],
 "metadata": {
  "kernel_info": {
   "name": "node_nteract"
  },
  "kernelspec": {
   "display_name": "Javascript (Node.js)",
   "language": "javascript",
   "name": "javascript"
  },
  "language_info": {
   "file_extension": ".js",
   "mimetype": "application/javascript",
   "name": "javascript",
   "version": "7.7.2"
  }
 },
 "nbformat": 4,
 "nbformat_minor": 4
}
