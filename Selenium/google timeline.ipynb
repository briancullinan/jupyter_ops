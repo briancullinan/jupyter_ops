{
 "cells": [
  {
   "cell_type": "markdown",
   "metadata": {},
   "source": [
    "How to set up selenium and client?"
   ]
  },
  {
   "cell_type": "code",
   "execution_count": 1,
   "metadata": {
    "collapsed": false,
    "inputHidden": false,
    "outputHidden": false
   },
   "outputs": [
    {
     "data": {
      "text/plain": [
       "[Function: getClient]"
      ]
     },
     "execution_count": 1,
     "metadata": {},
     "output_type": "execute_result"
    }
   ],
   "source": [
    "var importer = require('../Core');\n",
    "\n",
    "var client;\n",
    "var getClient = () => {\n",
    "    return importer.interpretAll([\n",
    "        'webdriver client node',\n",
    "        'decrypt password',\n",
    "        'log in Google'\n",
    "    ])\n",
    "    .then(r => {\n",
    "        var createWebdriverClient = eval(r[0].code);\n",
    "        client = createWebdriverClient('localhost', 4444);\n",
    "        eval(r[1].code);\n",
    "        eval(r[2].code);\n",
    "        return client;\n",
    "    });\n",
    "};\n",
    "module.exports = getClient;\n",
    "getClient;\n",
    "\n"
   ]
  },
  {
   "cell_type": "code",
   "execution_count": 2,
   "metadata": {
    "collapsed": false,
    "inputHidden": false,
    "outputHidden": false
   },
   "outputs": [
    {
     "name": "stdout",
     "output_type": "stream",
     "text": [
      "Initializing webdriver on localhost\n",
      "d6f40697-322e-4202-95bc-356c3ed0df3c\n"
     ]
    }
   ],
   "source": [
    "$$.async();\n",
    "getClient()\n",
    "    .then(c => $$.sendResult(c))\n",
    "    .catch(e => $$.sendError(e));\n"
   ]
  },
  {
   "cell_type": "markdown",
   "metadata": {},
   "source": [
    "How to download google timeline data using webdriver?"
   ]
  },
  {
   "cell_type": "code",
   "execution_count": 3,
   "metadata": {
    "collapsed": false,
    "inputHidden": false,
    "outputHidden": false
   },
   "outputs": [],
   "source": [
    "var months = ['Jan', 'Feb', 'Mar', 'Apr', 'May', 'Jun', 'Jul', 'Aug', 'Sep', 'Oct', 'Nov', 'Dec'];\n",
    "var getGoogleTimeline = () => {\n",
    "    console.log('Google: Logging timeline history');\n",
    "    return client\n",
    "        .url('https://www.google.com/maps/timeline')\n",
    "        .loginGoogle()\n",
    "        .waitUntil(() => client.getUrl()\n",
    "                   .then(url => url.indexOf('timeline') > -1, 20000, ''))\n",
    "        .catch(function (e) {\n",
    "            console.log(e);\n",
    "        })\n",
    "        .pause(3000)\n",
    "        .click('button[jsaction=\"select-today\"]')\n",
    "        .pause(1000);\n",
    "}\n",
    "if (typeof client.getGoogleTimeline == 'undefined') {\n",
    "    client.addCommand('getGoogleTimeline', getGoogleTimeline);\n",
    "}\n",
    "module.exports = getGoogleTimeline;\n",
    "getGoogleTimeline;\n"
   ]
  },
  {
   "cell_type": "code",
   "execution_count": 4,
   "metadata": {
    "collapsed": false,
    "inputHidden": false,
    "outputHidden": false
   },
   "outputs": [],
   "source": [
    "var readAllPages = () => {\n",
    "    // TODO: add stop conditions\n",
    "    var oneDay = 24*60*60*1000; // hours*minutes*seconds*milliseconds\n",
    "    var firstDate = new Date(2016,8,21);\n",
    "    var secondDate = new Date();\n",
    "    var days = Math.round(Math.abs((firstDate.getTime() - secondDate.getTime())/(oneDay)));\n",
    "    var result = client;\n",
    "    dayKey = '';\n",
    "    for (var c = 0; c < days; c++) {\n",
    "        result = result.readTimelinePage()\n",
    "            .click('.previous-date-range-button')\n",
    "            .pause(1000)\n",
    "    }\n",
    "    return result;\n",
    "}\n",
    "if (typeof client.getGoogleTimeline == 'undefined') {\n",
    "    client.addCommand('readAllPages', readAllPages);\n",
    "}\n",
    "module.exports = readAllPages;\n",
    "readAllPages;\n"
   ]
  },
  {
   "cell_type": "code",
   "execution_count": 5,
   "metadata": {
    "collapsed": false,
    "inputHidden": false,
    "outputHidden": false
   },
   "outputs": [],
   "source": [
    "var readTimelinePage = () => {\n",
    "    var day, lastTime, currDate, dayKey;\n",
    "    return client.getText('.timeline-title')\n",
    "        .then(function (text) {\n",
    "            day = text;\n",
    "            currDate = new Date(day);\n",
    "            return client.getText('.timeline-subtitle');\n",
    "        })\n",
    "        .then(function (text) {\n",
    "            if (text != '') {\n",
    "                day = text;\n",
    "                currDate = new Date(day);\n",
    "            }\n",
    "            var newKey = currDate.getDate() \n",
    "                + months[currDate.getMonth()] \n",
    "                + (currDate.getFullYear() + '').substr(2, 2);\n",
    "            if (newKey != dayKey) {\n",
    "                dayKey = newKey;\n",
    "            }\n",
    "        })\n",
    "        .elements('.timeline-item ~ [jsinstance]')\n",
    "        .then(function (els) {\n",
    "            var result = client;\n",
    "            for (var e = 0; e < els.value.length; e++) {\n",
    "                result = result.readTimelineRow(day, dayKey, els.value[e]);\n",
    "            }\n",
    "            return result;\n",
    "        })\n",
    "        .catch(function (e) {\n",
    "            if (e.type != 'NoSuchElement')\n",
    "                console.log(e);\n",
    "        })\n",
    "}\n",
    "if (typeof client.readTimelinePage == 'undefined') {\n",
    "    client.addCommand('readTimelinePage', readTimelinePage);\n",
    "}\n",
    "module.exports = readTimelinePage;\n",
    "readTimelinePage;\n"
   ]
  },
  {
   "cell_type": "code",
   "execution_count": 6,
   "metadata": {
    "collapsed": false,
    "inputHidden": false,
    "outputHidden": false
   },
   "outputs": [],
   "source": [
    "var timelineCache = {};\n",
    "var readTimelineRow = (day, dayKey, elem) => {\n",
    "    var title, text, start, end;\n",
    "    return client.elementIdElement(elem.ELEMENT, '.place-visit-title')\n",
    "        .then(function (el) {\n",
    "            // Location items\n",
    "            start = null;\n",
    "            end = null;\n",
    "            if (el.value) {\n",
    "                return client.elementIdText(el.value.ELEMENT);\n",
    "            }\n",
    "            else {\n",
    "                // Driving items\n",
    "                return client\n",
    "                    .elementIdElement(elem.ELEMENT, '.timeline-item')\n",
    "                    .then(function (el) {\n",
    "                        return client.elementIdAttribute(el.value.ELEMENT, 'data-segment-key');\n",
    "                    })\n",
    "                    .then(function (attr) {\n",
    "                        if(attr.value) {\n",
    "                            var timelineData = attr.value.split(':');\n",
    "                            start = new Date(parseFloat(timelineData[1]));\n",
    "                            end = new Date(parseFloat(timelineData[2]));\n",
    "                        }\n",
    "                        return client.elementIdElement(elem.ELEMENT, '.timeline-item-title-content');\n",
    "                    })\n",
    "                    .then(function (el) {\n",
    "                        return client.elementIdText(el.value.ELEMENT);\n",
    "                    });\n",
    "            }\n",
    "        })\n",
    "        .then(function (el) {\n",
    "            title = el.value;\n",
    "            return client.elementIdElement(elem.ELEMENT, '.timeline-item-text');\n",
    "        })\n",
    "        .then(function (el) {\n",
    "            if(el.value) {\n",
    "                return client.elementIdText(el.value.ELEMENT);\n",
    "            }\n",
    "        })\n",
    "        .then(function (el) {\n",
    "            if(el) {\n",
    "                text = el.value;\n",
    "            }\n",
    "            return client.elementIdElement(elem.ELEMENT, '.duration-text');\n",
    "        })\n",
    "        .then(function (el) {\n",
    "            return client.elementIdText(el.value.ELEMENT);\n",
    "        })\n",
    "        .then(function (el) {\n",
    "            var duration = el.value;\n",
    "            start = start || new Date(day + ' ' + duration.split('-')[0]);\n",
    "            end = end || new Date(day + ' ' + duration.split('-')[1]);\n",
    "            var length = end.getTime() - start.getTime();\n",
    "            var newRow = {\n",
    "                type: 'timeline',\n",
    "                timeline: dayKey,\n",
    "                name: title,\n",
    "                location: text,\n",
    "                time: start,\n",
    "                length: isNaN(length) ? 0 : length\n",
    "            };\n",
    "            if (typeof timelineCache[newRow.timeline] == 'undefined') {\n",
    "                timelineCache[newRow.timeline] = [newRow];\n",
    "            }\n",
    "            else {\n",
    "                timelineCache[newRow.timeline] = timelineCache[newRow.timeline]\n",
    "                    .filter(function (i) {\n",
    "                        return i.time != newRow.time;\n",
    "                    })\n",
    "                    .concat([newRow]);\n",
    "            }\n",
    "        })\n",
    "        .catch(function (e) {\n",
    "            console.log(e);\n",
    "        });\n",
    "}\n",
    "if (typeof client.readTimelineRow == 'undefined') {\n",
    "    client.addCommand('readTimelineRow', readTimelineRow);\n",
    "}\n",
    "module.exports = readTimelineRow;\n",
    "readTimelineRow;\n"
   ]
  },
  {
   "cell_type": "code",
   "execution_count": 7,
   "metadata": {
    "collapsed": false,
    "inputHidden": false,
    "outputHidden": false
   },
   "outputs": [],
   "source": [
    "var fs = require('fs');\n",
    "$$.async()\n",
    "client.getGoogleTimeline()\n",
    "    .then((r) => readAllPages())\n",
    "    .then(() => Object.keys(timelineCache).forEach(r => fs.writeFileSync('/Users/briancullinan/Timeline/timeline-' + timelineCache[r][0].timeline + '.json', JSON.stringify(timelineCache[r], null, 4))))\n",
    "    .catch(e => $$.sendError(e));\n",
    "//    .then(() => client.readAllPages())\n",
    "\n"
   ]
  },
  {
   "cell_type": "code",
   "execution_count": 3,
   "metadata": {
    "collapsed": false,
    "inputHidden": false,
    "outputHidden": false
   },
   "outputs": [],
   "source": [
    "$$.async();\n",
    "client.windowHandles()\n",
    ".then(h => $$.sendResult(h))\n",
    ".catch(e => $$.sendError(e));"
   ]
  },
  {
   "cell_type": "code",
   "execution_count": 5,
   "metadata": {
    "collapsed": false,
    "inputHidden": false,
    "outputHidden": false
   },
   "outputs": [],
   "source": [
    "var locationCache = {};\n",
    "var dayKey; var count = 0;\n",
    "$$.async();\n",
    "importer.streamJson('/Users/briancullinan/Downloads/Takeout 5/Location History/Location History.json', [true, {emitPath: true}], (match) => {\n",
    "    if(match.path[0] === 'locations') {\n",
    "        var currDate = new Date(parseInt(match.value.timestampMs));\n",
    "        var newKey = currDate.getDate() + months[currDate.getMonth()] + (currDate.getFullYear() + '').substr(2, 2);\n",
    "        if (newKey != dayKey) {\n",
    "            dayKey = newKey;\n",
    "        }\n",
    "        var newRow = Object.assign({\n",
    "                time: currDate,\n",
    "                type: 'location',\n",
    "                location: dayKey,\n",
    "        }, match.value);\n",
    "        var cache = locationCache[newRow.location];\n",
    "        if(typeof cache === 'undefined') {\n",
    "            cache = locationCache[newRow.location] = [];\n",
    "        }\n",
    "        cache[cache.length] = newRow;\n",
    "    }\n",
    "})\n",
    "    .then(() => Object.keys(locationCache).forEach(r => fs.writeFileSync('/Users/briancullinan/Timeline/location-' + locationCache[r][0].location + '.json', JSON.stringify(locationCache[r], null, 4))))\n",
    "    .then(() => $$.sendResult(locationCache[dayKey]))\n",
    "    .catch(e => $$.sendError(e));\n",
    "\n"
   ]
  },
  {
   "cell_type": "code",
   "execution_count": null,
   "metadata": {
    "collapsed": false,
    "inputHidden": false,
    "outputHidden": false
   },
   "outputs": [],
   "source": []
  },
  {
   "cell_type": "code",
   "execution_count": null,
   "metadata": {
    "collapsed": false,
    "inputHidden": false,
    "outputHidden": false
   },
   "outputs": [],
   "source": []
  }
 ],
 "metadata": {
  "kernel_info": {
   "name": "node_nteract"
  },
  "kernelspec": {
   "display_name": "Javascript (Node.js)",
   "language": "javascript",
   "name": "javascript"
  },
  "language_info": {
   "file_extension": ".js",
   "mimetype": "application/javascript",
   "name": "javascript",
   "version": "7.7.2"
  }
 },
 "nbformat": 4,
 "nbformat_minor": 4
}
