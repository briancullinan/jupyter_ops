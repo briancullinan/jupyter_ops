{
 "cells": [
  {
   "cell_type": "markdown",
   "metadata": {},
   "source": [
    "https://www.maricopacountyattorney.org/CivicAlerts.aspx?AID=400\n",
    "\n",
    "Crime reports?\n"
   ]
  },
  {
   "cell_type": "code",
   "execution_count": null,
   "metadata": {},
   "outputs": [],
   "source": [
    "var fs = require('fs');\n",
    "var path = require('path');\n",
    "\n",
    "var PROFILE_PATH = process.env.HOME || process.env.HOMEPATH || process.env.USERPROFILE;\n",
    "var project = path.join(PROFILE_PATH, 'Collections/crimes');\n",
    "\n",
    "function scrapeAlert(ID) {\n",
    "    if(fs.existsSync(path.join(project, 'maricopa-alert-' + ID + '.json'))) {\n",
    "        return;\n",
    "    }\n",
    "    return client\n",
    "        .url('https://www.maricopacountyattorney.org/CivicAlerts.aspx?AID=' + ID)\n",
    "        .getAllXPath({\n",
    "            time: '//*[@class = \"single\"]//*[@class = \"date\"]//text()',\n",
    "            title: '//*[contains(@class, \"single\")]//h3//text()',\n",
    "            content: '//*[@class = \"single\"]//*[@class = \"content\"]//text()'\n",
    "        })\n",
    "        .then(r => {\n",
    "            fs.writeFileSync(path.join(project, 'maricopa-alert-' + ID + '.json'), JSON.stringify(r, null, 4));\n",
    "            return r;\n",
    "        })\n",
    "        .catch(e => console.log(e))\n",
    "}\n",
    "module.exports = scrapeAlert;\n",
    "\n",
    "if(typeof $$ !== 'undefined') {\n",
    "    $$.async();\n",
    "    var IDs = Array.from(Array(500).keys()).map(i => );\n",
    "    multiCrawl(IDs, 'crime reports')\n",
    "        .then(r => $$.sendResult(r))\n",
    "        .catch(e => $$.sendError(e))\n",
    "}\n"
   ]
  },
  {
   "cell_type": "markdown",
   "metadata": {},
   "source": [
    "multi crawl?\n"
   ]
  },
  {
   "cell_type": "code",
   "execution_count": null,
   "metadata": {},
   "outputs": [],
   "source": [
    "var importer = require('../Core');\n",
    "var runSeleniumCell = importer.import('selenium cell');\n",
    "\n",
    "var CONNECTIONS = 10;\n",
    "\n",
    "function multiCrawl(arr, search) {\n",
    "    var contexts = [];\n",
    "    return importer.runAllPromises(Array.from(Array(CONNECTIONS).keys()).map((s, i) => resolve => {\n",
    "        const client = runSeleniumCell(false, false);\n",
    "        const ctx = {client};\n",
    "        const funcs = importer.import([\n",
    "            'decrypt password',\n",
    "            'all elements xpath',\n",
    "            'get all elements until',\n",
    "            'resize selenium window',\n",
    "            'click spa link'\n",
    "        ], ctx);\n",
    "        contexts[i] = Object.assign(ctx, funcs);\n",
    "        return client\n",
    "            .catch(e => console.log(e))\n",
    "            .then(r => resolve())\n",
    "    }))\n",
    "        .then(() => importer.import('only one window', contexts[0])())\n",
    "        .then(() => {\n",
    "            const promises = [];\n",
    "            for(var j = 0; j < arr.length / CONNECTIONS; j++) {\n",
    "                promises.push((j => resolve => Promise.all(contexts.map((ctx, i) => {\n",
    "                    const callback = importer.import(search, ctx);\n",
    "                    if(arr.length < j * CONNECTIONS + i) {\n",
    "                        return;\n",
    "                    }\n",
    "                    return callback(arr[j * CONNECTIONS + i]);\n",
    "                })).then(r => resolve(r)))(j));\n",
    "            }\n",
    "            return importer.runAllPromises(promises);\n",
    "        })\n",
    "}\n",
    "module.exports = multiCrawl;\n",
    "\n"
   ]
  },
  {
   "cell_type": "code",
   "execution_count": null,
   "metadata": {},
   "outputs": [],
   "source": []
  },
  {
   "cell_type": "code",
   "execution_count": null,
   "metadata": {},
   "outputs": [],
   "source": []
  }
 ],
 "metadata": {
  "kernelspec": {
   "display_name": "Javascript (Node.js)",
   "language": "javascript",
   "name": "javascript"
  },
  "language_info": {
   "file_extension": ".js",
   "mimetype": "application/javascript",
   "name": "javascript",
   "version": "8.6.0"
  }
 },
 "nbformat": 4,
 "nbformat_minor": 2
}
