{
 "cells": [
  {
   "cell_type": "markdown",
   "metadata": {},
   "source": [
    "# access verification\n",
    "\n",
    "TODO: defeat Google recaptcha using TensorFlow and selenium recording mouse positions to train for randomness and \"spot the street sign\" challenges\n",
    "\n",
    "\n",
    "\n"
   ]
  }
 ],
 "metadata": {
  "kernelspec": {
   "display_name": "Javascript (Node.js)",
   "language": "javascript",
   "name": "javascript"
  },
  "language_info": {
   "file_extension": ".js",
   "mimetype": "application/javascript",
   "name": "javascript",
   "version": "10.16.0"
  }
 },
 "nbformat": 4,
 "nbformat_minor": 2
}
