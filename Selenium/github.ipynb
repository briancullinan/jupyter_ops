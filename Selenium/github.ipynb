{
 "cells": [
  {
   "cell_type": "markdown",
   "metadata": {},
   "source": [
    "Follow someone more closely?\n",
    "\n",
    "Star all the modules I am using?\n",
    "\n",
    "Automated code reviews for common detectable coding mistakes?\n",
    "\n",
    "Research every tech commenter and try to find their github activity?\n",
    "Ask them why they are FOMO instead of working?\n",
    "\n"
   ]
  }
 ],
 "metadata": {
  "kernelspec": {
   "display_name": "Javascript (Node.js)",
   "language": "javascript",
   "name": "javascript"
  },
  "language_info": {
   "file_extension": ".js",
   "mimetype": "application/javascript",
   "name": "javascript",
   "version": "7.7.2"
  }
 },
 "nbformat": 4,
 "nbformat_minor": 2
}
