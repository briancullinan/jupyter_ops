{
 "cells": [
  {
   "cell_type": "markdown",
   "metadata": {},
   "source": [
    "# What is Selenium?\n",
    "\n",
    "Selenium is a remote control for web-browsers.  Chrome-driver is the remote control for Chrome.\n",
    "\n",
    "[http://www.seleniumhq.org/download/](http://www.seleniumhq.org/download/)\n",
    "\n",
    "[https://sites.google.com/a/chromium.org/chromedriver/downloads](https://sites.google.com/a/chromium.org/chromedriver/downloads)\n",
    "\n",
    "Ecommerce portal\n",
    "inside selenium\n",
    "inside chrome\n",
    "inside VNC\n",
    "inside jupyter\n",
    "inside Linux\n",
    "inside Docker\n",
    "inside Chrome\n",
    "inside Windows\n",
    "\n"
   ]
  },
  {
   "cell_type": "markdown",
   "metadata": {},
   "source": [
    "First run the virtual frame buffer with selenium\n"
   ]
  },
  {
   "cell_type": "code",
   "execution_count": 1,
   "metadata": {
    "scrolled": true
   },
   "outputs": [],
   "source": [
    "Xvfb :0 - ac - screen\r",
    "0\r",
    "1024\r",
    "x768x24 + extension\r",
    "RANDR\r",
    ""
   ]
  },
  {
   "cell_type": "markdown",
   "metadata": {},
   "source": [
    "Run selenium \n",
    "\n"
   ]
  },
  {
   "cell_type": "code",
   "execution_count": null,
   "metadata": {
    "collapsed": false,
    "inputHidden": false,
    "outputHidden": false
   },
   "outputs": [],
   "source": [
    "export\r",
    "DISPLAY =\r",
    ":\r",
    "0\r",
    "java - Dwebdriver.chrome.driver = '/usr/bin/chromedriver' - Dwebdriver.chrome.args = '--start-fullscreen --no-sandbox --incognito' - jar / opt / selenium / selenium - server - standalone.jar\r",
    "\r",
    ""
   ]
  },
  {
   "cell_type": "markdown",
   "metadata": {},
   "source": [
    "Run our first selenium script\n",
    "\n"
   ]
  },
  {
   "cell_type": "code",
   "execution_count": null,
   "metadata": {
    "collapsed": false,
    "inputHidden": false,
    "outputHidden": false
   },
   "outputs": [],
   "source": [
    "export\r",
    "DISPLAY =\r",
    ":\r",
    "0\r",
    "google - chrome\r",
    "http://localhost:4200 --no-sandbox --start-fullscreen\r",
    "\r",
    ""
   ]
  },
  {
   "cell_type": "markdown",
   "metadata": {},
   "source": [
    "Run selenium inside of docker?"
   ]
  },
  {
   "cell_type": "code",
   "execution_count": null,
   "metadata": {
    "collapsed": true
   },
   "outputs": [],
   "source": [
    "FROM\r",
    "selenium / standalone - chrome - debug\r",
    "\r",
    "EXPOSE\r",
    "4200\r",
    "EXPOSE\r",
    "4444\r",
    "EXPOSE\r",
    "3000\r",
    "\r",
    "ENV\r",
    "DBUS_SESSION_BUS_ADDRESS / dev / null\r",
    "ENV\r",
    "CHROME_USER_DATA_DIR / usr / profile\r",
    "WORKDIR / home / seluser\r",
    "\r",
    "USER\r",
    "root\r",
    "RUN\r",
    "mkdir / usr / profile\r",
    "RUN\r",
    "mkdir / usr / downloads\r",
    "RUN\r",
    "chown\r",
    "seluser:seluser - R / usr / profile\r",
    "RUN\r",
    "chown\r",
    "seluser:seluser - R / usr / downloads\r",
    "RUN\r",
    "chmod\r",
    "777 - R / usr / profile\r",
    "RUN\r",
    "chmod\r",
    "777 - R / usr / downloads\r",
    "#VOLUME / usr / profile\r",
    "#VOLUME / data / downloads\r",
    "\r",
    "RUN\r",
    "sed - i\r",
    "'/wait \\$NODE_PID/ised -i -e s/exit_type\":\"Crashed/exit_type\":\"None/g /usr/profile/Default/Preferences &' / opt / bin / entry_point.sh\r",
    "RUN\r",
    "sed - i\r",
    "'/wait \\$NODE_PID/ised -i -e s/exited_cleanly\":false/exited_cleanly\":true/g /usr/profile/Default/Preferences &' / opt / bin / entry_point.sh\r",
    "\r",
    ""
   ]
  }
 ],
 "metadata": {
  "kernel_info": {
   "name": "bash"
  },
  "kernelspec": {
   "display_name": "Bash",
   "language": "bash",
   "name": "bash"
  },
  "language_info": {
   "codemirror_mode": "shell",
   "file_extension": ".sh",
   "mimetype": "text/x-sh",
   "name": "bash"
  }
 },
 "nbformat": 4,
 "nbformat_minor": 2
}