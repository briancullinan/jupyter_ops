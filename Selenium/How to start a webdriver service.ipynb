{
  "cells": [
    {
      "cell_type": "markdown",
      "source": [
        "How to start a webdriver client in node?"
      ],
      "metadata": {}
    },
    {
      "cell_type": "code",
      "source": [
        "var execSync = require('child_process').execSync;\n",
        "try {\n",
        "    require.resolve('webdriverio');\n",
        "} catch (e) {\n",
        "    execSync('npm install webdriverio');\n",
        "}\n",
        "var webdriverio = require('webdriverio');\n",
        "\n",
        "var createWebdriverClient = (host, port) => {\n",
        "    var webdriverServer = {\n",
        "        debug: true,\n",
        "        host: host,\n",
        "        port: port,\n",
        "        pageLoadStrategy: 'eager',\n",
        "        connectionRetryTimeout: 10000,\n",
        "        desiredCapabilities: {\n",
        "            browserName: 'chrome',\n",
        "            chromeOptions: {\n",
        "                prefs: {\n",
        "                    'download.default_directory' : '/data/downloads'\n",
        "                },\n",
        "                args: ['user-data-dir=/usr/profile']\n",
        "            }\n",
        "        }\n",
        "    };\n",
        "\n",
        "    console.log('Initializing webdriver on ' + webdriverServer.host);\n",
        "    var client = webdriverio.remote(webdriverServer);\n",
        "    client.on('error', function (e) {\n",
        "        console.log(e);\n",
        "        this.endAll();\n",
        "    });\n",
        "    client.on('end', function () {\n",
        "        console.log('Daemon: Closing browser');\n",
        "    });\n",
        "    client.on('result', function (result) {\n",
        "    });\n",
        "    return client.sessions()\n",
        "        .then(r => {\n",
        "            if(r.value.length == 0) {\n",
        "                return client.init();\n",
        "            } else {\n",
        "                console.log(r.value[0].id);\n",
        "                client.requestHandler.sessionID = r.value[0].id;\n",
        "            }\n",
        "            return client;\n",
        "        })\n",
        "        .then(r => {\n",
        "            if(r.value.length == 0) {\n",
        "                return client.newWindow();\n",
        "            }\n",
        "        });\n",
        "}\n",
        "(createWebdriverClient);\n",
        "\n"
      ],
      "outputs": [
        {
          "output_type": "execute_result",
          "execution_count": 7,
          "data": {
            "text/plain": [
              "[Function: createWebdriverClient]"
            ]
          },
          "metadata": {}
        }
      ],
      "execution_count": 7,
      "metadata": {
        "collapsed": false,
        "outputHidden": false,
        "inputHidden": false
      }
    },
    {
      "cell_type": "code",
      "source": [
        "$$.async();\n",
        "var client = createWebdriverClient('localhost', 4444)\n",
        "    .then(() => $$.sendResult(client.requestHandler.sessionID))\n",
        "    .catch(e => $$.sendError(e));\n"
      ],
      "outputs": [
        {
          "output_type": "stream",
          "name": "stdout",
          "text": [
            "Initializing webdriver on localhost\n"
          ]
        },
        {
          "output_type": "error",
          "ename": "Error",
          "evalue": "unknown error: cannot create default profile directory\n  (Driver info: chromedriver=2.30.477691 (6ee44a7247c639c0703f291d320bdf05c1531b57),platform=Linux 4.9.31-moby x86_64) (WARNING: The server did not provide any stacktrace information)\nCommand duration or timeout: 2 milliseconds\nBuild info: version: '3.4.0', revision: 'unknown', time: 'unknown'\nSystem info: host: 'a0de38c4381d', ip: '172.17.0.2', os.name: 'Linux', os.arch: 'amd64', os.version: '4.9.31-moby', java.version: '1.8.0_131'\nDriver info: driver.version: ChromeDriver",
          "traceback": [
            "Error: unknown error: cannot create default profile directory",
            "  (Driver info: chromedriver=2.30.477691 (6ee44a7247c639c0703f291d320bdf05c1531b57),platform=Linux 4.9.31-moby x86_64) (WARNING: The server did not provide any stacktrace information)",
            "Command duration or timeout: 2 milliseconds",
            "Build info: version: '3.4.0', revision: 'unknown', time: 'unknown'",
            "System info: host: 'a0de38c4381d', ip: '172.17.0.2', os.name: 'Linux', os.arch: 'amd64', os.version: '4.9.31-moby', java.version: '1.8.0_131'",
            "Driver info: driver.version: ChromeDriver"
          ]
        }
      ],
      "execution_count": 8,
      "metadata": {
        "collapsed": false,
        "outputHidden": false,
        "inputHidden": false
      }
    },
    {
      "cell_type": "code",
      "source": [
        "$$.async();\n",
        "client.windowHandles()\n",
        "    .then(r => $$.sendResult(r))\n",
        "    .catch(e => $$.sendError(e));"
      ],
      "outputs": [
        {
          "output_type": "error",
          "ename": "TypeError",
          "evalue": "Cannot read property 'windowHandles' of undefined",
          "traceback": [
            "TypeError: Cannot read property 'windowHandles' of undefined",
            "    at evalmachine.<anonymous>:2:7",
            "    at ContextifyScript.Script.runInThisContext (vm.js:25:33)",
            "    at Object.exports.runInThisContext (vm.js:77:17)",
            "    at run ([eval]:608:19)",
            "    at onRunRequest ([eval]:379:22)",
            "    at onMessage ([eval]:347:17)",
            "    at emitTwo (events.js:106:13)",
            "    at process.emit (events.js:191:7)",
            "    at process.nextTick (internal/child_process.js:744:12)",
            "    at _combinedTickCallback (internal/process/next_tick.js:67:7)"
          ]
        }
      ],
      "execution_count": 5,
      "metadata": {
        "collapsed": false,
        "outputHidden": false,
        "inputHidden": false
      }
    },
    {
      "cell_type": "markdown",
      "source": [
        "How to end the webdriver service?"
      ],
      "metadata": {}
    },
    {
      "cell_type": "code",
      "source": [
        "client.endAll();\n"
      ],
      "outputs": [],
      "execution_count": null,
      "metadata": {
        "collapsed": false,
        "outputHidden": false,
        "inputHidden": false
      }
    }
  ],
  "metadata": {
    "kernelspec": {
      "name": "node_nteract",
      "language": "javascript",
      "display_name": "Node.js (nteract)"
    },
    "kernel_info": {
      "name": "node_nteract"
    },
    "language_info": {
      "name": "javascript",
      "version": "6.5.0",
      "mimetype": "application/javascript",
      "file_extension": ".js"
    }
  },
  "nbformat": 4,
  "nbformat_minor": 4
}