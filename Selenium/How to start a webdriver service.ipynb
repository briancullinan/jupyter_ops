{
  "cells": [
    {
      "cell_type": "markdown",
      "source": [
        "How to start a webdriver client in node?"
      ],
      "metadata": {}
    },
    {
      "cell_type": "code",
      "source": [
        "var execSync = require('child_process').execSync;\n",
        "try {\n",
        "    require.resolve('webdriverio');\n",
        "} catch (e) {\n",
        "    execSync('npm install webdriverio');\n",
        "}\n",
        "var webdriverio = require('webdriverio');\n",
        "\n",
        "var createWebdriverClient = (host, port) => {\n",
        "    var webdriverServer = {\n",
        "        debug: true,\n",
        "        host: host,\n",
        "        port: port,\n",
        "        pageLoadStrategy: 'eager',\n",
        "        connectionRetryTimeout: 10000,\n",
        "        desiredCapabilities: {\n",
        "            browserName: 'chrome',\n",
        "            chromeOptions: {\n",
        "                prefs: {\n",
        "                    'download.default_directory' : '/data/downloads'\n",
        "                },\n",
        "                args: ['user-data-dir=/usr/profile']\n",
        "            }\n",
        "        }\n",
        "    };\n",
        "\n",
        "    console.log('Initializing webdriver on ' + webdriverServer.host);\n",
        "    var client = webdriverio.remote(webdriverServer);\n",
        "    client.on('error', function (e) {\n",
        "        console.log(e);\n",
        "        this.endAll();\n",
        "    });\n",
        "    client.on('end', function () {\n",
        "        console.log('Daemon: Closing browser');\n",
        "    });\n",
        "    client.on('result', function (result) {\n",
        "    });\n",
        "    client.sessions()\n",
        "        .then(r => {\n",
        "            if(r.value.length == 0) {\n",
        "                return client.init();\n",
        "            } else {\n",
        "                console.log(r.value[0].id);\n",
        "                client.requestHandler.sessionID = r.value[0].id;\n",
        "            }\n",
        "            return client;\n",
        "        })\n",
        "        .then(r => {\n",
        "            if(r.value.length == 0) {\n",
        "                return client.newWindow();\n",
        "            }\n",
        "        });\n",
        "    return client;\n",
        "}\n",
        "(createWebdriverClient);\n",
        "\n"
      ],
      "outputs": [],
      "execution_count": 1,
      "metadata": {
        "collapsed": false,
        "outputHidden": false,
        "inputHidden": false
      }
    },
    {
      "cell_type": "code",
      "source": [
        "$$.async();\n",
        "var client = createWebdriverClient('localhost', 4444)\n",
        "    .then($$.sendResult(client.requestHandler.sessionID))\n",
        "    .catch(e => $$.sendError(e));\n"
      ],
      "outputs": [],
      "execution_count": 1,
      "metadata": {
        "collapsed": false,
        "outputHidden": false,
        "inputHidden": false
      }
    },
    {
      "cell_type": "code",
      "source": [
        "$$.async();\n",
        "client.windowHandles()\n",
        "    .then(r => $$.sendResult(r))\n",
        "    .catch(e => $$.sendError(e));"
      ],
      "outputs": [],
      "execution_count": 23,
      "metadata": {
        "collapsed": false,
        "outputHidden": false,
        "inputHidden": false
      }
    },
    {
      "cell_type": "markdown",
      "source": [
        "How to end the webdriver service?"
      ],
      "metadata": {}
    },
    {
      "cell_type": "code",
      "source": [
        "client.endAll();\n"
      ],
      "outputs": [],
      "execution_count": null,
      "metadata": {
        "collapsed": false,
        "outputHidden": false,
        "inputHidden": false
      }
    }
  ],
  "metadata": {
    "kernelspec": {
      "name": "node_nteract",
      "language": "javascript",
      "display_name": "Node.js (nteract)"
    },
    "kernel_info": {
      "name": "node_nteract"
    },
    "language_info": {
      "name": "javascript",
      "version": "6.5.0",
      "mimetype": "application/javascript",
      "file_extension": ".js"
    }
  },
  "nbformat": 4,
  "nbformat_minor": 4
}