{
 "cells": [
  {
   "cell_type": "markdown",
   "metadata": {},
   "source": [
    "# What is Selenium?\n",
    "\n",
    "## 1\n",
    "\n",
    "What environment do we use?\n",
    "\n",
    "selenium docker?\n",
    "\n",
    "See [What is Docker?](What%20is%20Docker.ipynb)\n",
    "\n"
   ]
  },
  {
   "cell_type": "code",
   "execution_count": 3,
   "metadata": {
    "inputHidden": false,
    "outputHidden": false
   },
   "outputs": [
    {
     "data": {
      "text/plain": [
       "[Function: seleniumDocker]"
      ]
     },
     "execution_count": 3,
     "metadata": {},
     "output_type": "execute_result"
    }
   ],
   "source": [
    "var importer = require('../Core');\r",
    "var fs = require('fs');\r",
    "\r",
    "// add some run commands to the bash script\r",
    "var bashToRun = (code) => code.split('\\n').filter(n => n.trim().length > 0).map(l => 'RUN ' + l.trim())\r",
    "    .join('\\n').replace(/\\\\\\s*\\nRUN\\s*/ig, '\\\\\\n ');\r",
    "\r",
    "// create a selenium Dockerfile with a vnc connection\r",
    "var seleniumDocker = (outputFile) => {\n",
    "    const r = importer.interpret([\n",
    "        'run selenium inside docker',\n",
    "        // add some extra services\n",
    "        'linux dev tools',\n",
    "        'vnc html',\n",
    "        'vnc docker'\n",
    "    ]);\n",
    "    console.log(r);\n",
    "    // convert some results to Docker RUN commands instead of bash\n",
    "    r[1].code = bashToRun(r[1].code);\n",
    "    r[2].code = bashToRun(r[2].code);\n",
    "    // save the Dockerfile\n",
    "    fs.writeFileSync(outputFile, r.map(r => r.code).join('\\n'));\n",
    "    return r;\n",
    "};\r",
    "module.exports = seleniumDocker;\r"
   ]
  },
  {
   "cell_type": "markdown",
   "metadata": {},
   "source": [
    "How to set up selenium server?"
   ]
  },
  {
   "cell_type": "code",
   "execution_count": 4,
   "metadata": {
    "inputHidden": false,
    "outputHidden": false
   },
   "outputs": [
    {
     "data": {
      "text/plain": [
       "[Function: getSeleniumServer]"
      ]
     },
     "execution_count": 4,
     "metadata": {},
     "output_type": "execute_result"
    }
   ],
   "source": [
    "var importer = require('../Core');\r",
    "var path = require('path');\r",
    "var fs = require('fs');\r",
    "var execCmd = importer.import('spawn child process');\n",
    "\r",
    "var DOWNLOAD_DIR = path.join(process.env.HOME || process.env.HOMEPATH || process.env.USERPROFILE, 'Downloads');\r",
    "var PROFILE_DIR = path.join(process.env.HOME || process.env.HOMEPATH || process.env.USERPROFILE, '.defaultProfile');\r",
    "var DOCKERFILE = path.resolve(path.join(__dirname, 'Dockerfile'));\n",
    "\r",
    "var getSeleniumServer = (name = 'act-selenium') => {\r",
    "    try {\r",
    "        fs.mkdirSync(DOWNLOAD_DIR);\r",
    "    } catch (err) {\r",
    "        if (err.code != 'EEXIST') {\r",
    "            throw err;\r",
    "        }\r",
    "    }\r",
    "    try {\r",
    "        fs.mkdirSync(PROFILE_DIR);\r",
    "    } catch (err) {\r",
    "        if (err.code != 'EEXIST') {\r",
    "            throw err;\r",
    "        }\r",
    "    }\r",
    "    try {\r",
    "        fs.unlinkSync(path.join(PROFILE_DIR, 'SingletonLock'));\r",
    "    } catch (err) {\r",
    "        if (err.code != 'ENOENT') {\r",
    "            throw err;\r",
    "        }\r",
    "    }\r",
    "    seleniumDocker(DOCKERFILE);\r",
    "    return execCmd('docker ps -a')\n",
    "        .then(r => {\r",
    "            if (r[0].indexOf(name) > -1) {\r",
    "                return execCmd('docker stop ' + name)\r",
    "                    .then(r => new Promise(resolve =>\r",
    "                        setTimeout(() => resolve(r), 1000)))\r",
    "                    .then(() => execCmd('docker rm ' + name));\r",
    "            }\r",
    "        })\r",
    "        .then(() => new Promise(resolve =>\r",
    "            setTimeout(() => resolve(), 1000)))\r",
    "        .then(() => {\r",
    "            var build = 'docker build -t ' + name + ' \"'\r",
    "                + path.dirname(DOCKERFILE) + '\"\\n'\r",
    "                + 'docker run --shm-size=3g -d '\r",
    "                + '--name ' + name + ' '\r",
    "                + '-p 8888:8888 '\r",
    "                + '-p 6080:6080 '\r",
    "                + '-p 5900:5900 '\r",
    "                + '-p 4444:4444 '\r",
    "                + '-p 4200:4200 '\r",
    "                + '-p 3000:3000 '\r",
    "                // TODO: add profile dir back in when permissions works on windows\r",
    "                + '-v \"' + DOWNLOAD_DIR + '\":/data/downloads '\r",
    "                + name + '\\n';\r",
    "            return execCmd(build)\r",
    "        })\r",
    "        .then(r => new Promise(resolve => setTimeout(() => resolve(r), 6000)))\r",
    "        .catch(e => console.log(e))\r",
    "};\r",
    "module.exports = getSeleniumServer;\r",
    "getSeleniumServer;\r",
    "\r"
   ]
  },
  {
   "cell_type": "code",
   "execution_count": 1,
   "metadata": {
    "collapsed": false,
    "inputHidden": false,
    "outputHidden": false
   },
   "outputs": [
    {
     "name": "stdout",
     "output_type": "stream",
     "text": [
      "[ { code: 'FROM selenium/standalone-chrome-debug\\n\\nEXPOSE 4200\\nEXPOSE 4444\\nEXPOSE 3000\\n\\nENV DBUS_SESSION_BUS_ADDRESS /dev/null\\nENV CHROME_USER_DATA_DIR /usr/profile\\nWORKDIR /home/seluser\\n\\nUSER root\\nRUN mkdir /usr/profile\\nRUN mkdir /usr/downloads\\nRUN chown seluser:seluser -R /usr/profile\\nRUN chown seluser:seluser -R /usr/downloads\\nRUN chmod 777 -R /usr/profile\\nRUN chmod 777 -R /usr/downloads\\n#VOLUME /usr/profile\\n#VOLUME /data/downloads\\n\\nRUN sed -i \\'/wait \\\\$NODE_PID/ised -i -e s/exit_type\":\"Crashed/exit_type\":\"None/g /usr/profile/Default/Preferences &\\' /opt/bin/entry_point.sh\\nRUN sed -i \\'/wait \\\\$NODE_PID/ised -i -e s/exited_cleanly\":false/exited_cleanly\":true/g /usr/profile/Default/Preferences &\\' /opt/bin/entry_point.sh\\n\\n',\n",
      "    markdown: [ 'Run selenium inside of docker?' ],\n",
      "    from: 8,\n",
      "    to: 9,\n",
      "    language: 'bash',\n",
      "    id: 'selenium commands.ipynb[3]',\n",
      "    filename: '/Users/briancullinan/jupytangular2/Selenium/selenium commands.ipynb',\n",
      "    questions: [ 'Run selenium inside of docker' ],\n",
      "    notebook: 'selenium commands.ipynb',\n",
      "    fresher: 'FROM selenium/standalone-chrome-debug\\n\\nEXPOSE 4200\\nEXPOSE 4444\\nEXPOSE 3000\\n\\nENV DBUS_SESSION_BUS_ADDRESS /dev/null\\nENV CHROME_USER_DATA_DIR /usr/profile\\nWORKDIR /home/seluser\\n\\nUSER root\\nRUN mkdir /usr/profile\\nRUN mkdir /usr/downloads\\nRUN chown seluser:seluser -R /usr/profile\\nRUN chown seluser:seluser -R /usr/downloads\\nRUN chmod 777 -R /usr/profile\\nRUN chmod 777 -R /usr/downloads\\n#VOLUME /usr/profile\\n#VOLUME /data/downloads\\n\\nRUN sed -i \\'/wait \\\\$NODE_PID/ised -i -e s/exit_type\":\"Crashed/exit_type\":\"None/g /usr/profile/Default/Preferences &\\' /opt/bin/entry_point.sh\\nRUN sed -i \\'/wait \\\\$NODE_PID/ised -i -e s/exited_cleanly\":false/exited_cleanly\":true/g /usr/profile/Default/Preferences &\\' /opt/bin/entry_point.sh\\n\\n',\n",
      "    runInNewContext: [Function] },\n",
      "  { code: 'mkdir /var/lib/apt/lists/partial\\napt-get -qq update\\napt-get install -y --fix-missing git curl wget zip unzip vim dos2unix g++ python net-tools make websockify novnc \\n\\n',\n",
      "    markdown: [ 'Install dev tools on Linux?' ],\n",
      "    from: 3,\n",
      "    to: 4,\n",
      "    language: 'bash',\n",
      "    id: 'node install.ipynb[1]',\n",
      "    filename: '/Users/briancullinan/jupytangular2/Frameworks/node install.ipynb',\n",
      "    questions: [ 'Install dev tools on Linux' ],\n",
      "    notebook: 'node install.ipynb',\n",
      "    fresher: 'mkdir /var/lib/apt/lists/partial\\napt-get -qq update\\napt-get install -y --fix-missing git curl wget zip unzip vim dos2unix g++ python net-tools make websockify novnc \\n\\n',\n",
      "    runInNewContext: [Function] },\n",
      "  { code: 'mkdir -p novnc ; if git --work-tree=./novnc branch | grep master; then \\\\\\necho \"Already checked out novnc\"; \\\\\\nelse \\\\\\ngit clone https://github.com/novnc/noVNC.git ./novnc ; \\\\\\nfi ; ls -la novnc ; pwd\\n',\n",
      "    markdown: \n",
      "     [ 'VNC HTML client?\\n\\n* https://github.com/novnc/noVNC.git\\n' ],\n",
      "    from: 5,\n",
      "    to: 6,\n",
      "    language: 'bash',\n",
      "    id: 'vnc.ipynb[2]',\n",
      "    filename: '/Users/briancullinan/jupytangular2/Utilities/vnc.ipynb',\n",
      "    questions: [ 'VNC HTML client' ],\n",
      "    notebook: 'vnc.ipynb',\n",
      "    fresher: 'mkdir -p novnc ; if git --work-tree=./novnc branch | grep master; then \\\\\\necho \"Already checked out novnc\"; \\\\\\nelse \\\\\\ngit clone https://github.com/novnc/noVNC.git ./novnc ; \\\\\\nfi ; ls -la novnc ; pwd\\n',\n",
      "    runInNewContext: [Function] },\n",
      "  { code: '\\nRUN dos2unix /home/seluser/novnc/utils/launch.sh\\nRUN sed -i -e \\'s/export GEOMETRY.*/export GEOMETRY=\"8160x6120x24\"/g\\' /opt/bin/entry_point.sh\\nRUN sed -i -e \\'s/x11vnc/x11vnc -scale 2700x2048 -noxdamage/g\\' /opt/bin/entry_point.sh\\nRUN sed -i \\'/wait \\\\$NODE_PID/i/home/seluser/novnc/utils/launch.sh --vnc localhost:5900 &\\' /opt/bin/entry_point.sh\\nUSER seluser\\n',\n",
      "    markdown: \n",
      "     [ 'VNC in Docker?\\n\\nSelenium Docker configured x11vnx and Xvfb for us!\\n' ],\n",
      "    from: 9,\n",
      "    to: 10,\n",
      "    language: 'bash',\n",
      "    id: 'vnc.ipynb[4]',\n",
      "    filename: '/Users/briancullinan/jupytangular2/Utilities/vnc.ipynb',\n",
      "    questions: [ 'VNC in Docker' ],\n",
      "    notebook: 'vnc.ipynb',\n",
      "    fresher: '\\nRUN dos2unix /home/seluser/novnc/utils/launch.sh\\nRUN sed -i -e \\'s/export GEOMETRY.*/export GEOMETRY=\"8160x6120x24\"/g\\' /opt/bin/entry_point.sh\\nRUN sed -i -e \\'s/x11vnc/x11vnc -scale 2700x2048 -noxdamage/g\\' /opt/bin/entry_point.sh\\nRUN sed -i \\'/wait \\\\$NODE_PID/i/home/seluser/novnc/utils/launch.sh --vnc localhost:5900 &\\' /opt/bin/entry_point.sh\\nUSER seluser\\n',\n",
      "    runInNewContext: [Function] } ]\n"
     ]
    },
    {
     "data": {
      "text/plain": [
       "[ 'Sending build context to Docker daemon  594.9kB\\r\\r\\nStep 1/25 : FROM selenium/standalone-chrome-debug\\n ---> 40c049ea25c4\\nStep 2/25 : EXPOSE 4200\\n ---> Using cache\\n ---> eb6b3939fbc0\\nStep 3/25 : EXPOSE 4444\\n ---> Using cache\\n ---> 6b56eca22d93\\nStep 4/25 : EXPOSE 3000\\n ---> Using cache\\n ---> 5261fddf4dff\\nStep 5/25 : ENV DBUS_SESSION_BUS_ADDRESS /dev/null\\n ---> Using cache\\n ---> 734daac0e767\\nStep 6/25 : ENV CHROME_USER_DATA_DIR /usr/profile\\n ---> Using cache\\n ---> 016e1f9ae11c\\nStep 7/25 : WORKDIR /home/seluser\\n ---> Using cache\\n ---> 9de0acbe245c\\nStep 8/25 : USER root\\n ---> Using cache\\n ---> 4bfa0885fd3e\\nStep 9/25 : RUN mkdir /usr/profile\\n ---> Using cache\\n ---> 9349dd1e5667\\nStep 10/25 : RUN mkdir /usr/downloads\\n ---> Using cache\\n ---> c8654ff1aae7\\nStep 11/25 : RUN chown seluser:seluser -R /usr/profile\\n ---> Using cache\\n ---> c01e9cd2717f\\nStep 12/25 : RUN chown seluser:seluser -R /usr/downloads\\n ---> Using cache\\n ---> 789bf1930336\\nStep 13/25 : RUN chmod 777 -R /usr/profile\\n ---> Using cache\\n ---> b6adc269deaa\\nStep 14/25 : RUN chmod 777 -R /usr/downloads\\n ---> Using cache\\n ---> 57a95d8c7dea\\nStep 15/25 : RUN sed -i \\'/wait \\\\$NODE_PID/ised -i -e s/exit_type\":\"Crashed/exit_type\":\"None/g /usr/profile/Default/Preferences &\\' /opt/bin/entry_point.sh\\n ---> Using cache\\n ---> d50b4300b442\\nStep 16/25 : RUN sed -i \\'/wait \\\\$NODE_PID/ised -i -e s/exited_cleanly\":false/exited_cleanly\":true/g /usr/profile/Default/Preferences &\\' /opt/bin/entry_point.sh\\n ---> Using cache\\n ---> 44e7e4e5960d\\nStep 17/25 : RUN mkdir /var/lib/apt/lists/partial\\n ---> Using cache\\n ---> e7fb35908e83\\nStep 18/25 : RUN apt-get -qq update\\n ---> Using cache\\n ---> da953a5647d1\\nStep 19/25 : RUN apt-get install -y --fix-missing git curl wget zip unzip vim dos2unix g++ python net-tools make websockify novnc\\n ---> Using cache\\n ---> b3cd64ad3325\\nStep 20/25 : RUN mkdir -p novnc ; if git --work-tree=./novnc branch | grep master; then  echo \"Already checked out novnc\";  else  git clone https://github.com/novnc/noVNC.git ./novnc ;  fi ; ls -la novnc ; pwd\\n ---> Using cache\\n ---> 39eac8b3c9aa\\nStep 21/25 : RUN dos2unix /home/seluser/novnc/utils/launch.sh\\n ---> Running in b4a2d95f4553\\n\\u001b[91mdos2unix: \\u001b[0m\\u001b[91mconverting file /home/seluser/novnc/utils/launch.sh to Unix format ...\\n\\u001b[0m ---> e8a3adc5fb48\\nRemoving intermediate container b4a2d95f4553\\nStep 22/25 : RUN sed -i -e \\'s/export GEOMETRY.*/export GEOMETRY=\"8160x6120x24\"/g\\' /opt/bin/entry_point.sh\\n ---> Running in 99855adb8e7e\\n ---> 1cb296b43329\\nRemoving intermediate container 99855adb8e7e\\nStep 23/25 : RUN sed -i -e \\'s/x11vnc/x11vnc -scale 2700x2048 -noxdamage/g\\' /opt/bin/entry_point.sh\\n ---> Running in 77f90dff070b\\n ---> cbcec797d377\\nRemoving intermediate container 77f90dff070b\\nStep 24/25 : RUN sed -i \\'/wait \\\\$NODE_PID/i/home/seluser/novnc/utils/launch.sh --vnc localhost:5900 &\\' /opt/bin/entry_point.sh\\n ---> Running in 9a0fe09e4693\\n ---> 48aa3b7a1953\\nRemoving intermediate container 9a0fe09e4693\\nStep 25/25 : USER seluser\\n ---> Running in 5e256f724474\\n ---> c4b68d420d71\\nRemoving intermediate container 5e256f724474\\nSuccessfully built c4b68d420d71\\nSuccessfully tagged act-selenium:latest\\n',\n",
       "  '29856ffcb2743037962e50ecdffb7ddc0f609703fa04f437819f89f79c366f83\\n' ]"
      ]
     },
     "execution_count": 1,
     "metadata": {},
     "output_type": "execute_result"
    }
   ],
   "source": [
    "var importer = require('../Core');\n",
    "var {getSeleniumServer} = importer.import([\n",
    "    'What is Selenium.ipynb[what is selenium]',\n",
    "    'set up selenium server'\n",
    "]);\n",
    "\n",
    "$$.async();\r",
    "getSeleniumServer()\r",
    "    .then(r => $$.sendResult(r))\r",
    "    .catch(e => $$.sendError(e));\r",
    "\r"
   ]
  },
  {
   "cell_type": "markdown",
   "metadata": {},
   "source": [
    "# 2\n",
    "\n",
    "How to connect to VNC through the web browser?\n",
    "\n",
    "[Click here to open](http://localhost:6080/vnc.html?password=secret&host=localhost&port=6080&autoconnect=true&resize=downscale&view_only=true&reconnect=true) in a separate browser\n"
   ]
  },
  {
   "cell_type": "code",
   "execution_count": 1,
   "metadata": {
    "inputHidden": false,
    "outputHidden": false
   },
   "outputs": [
    {
     "data": {
      "text/plain": [
       "[Function: vncIframe]"
      ]
     },
     "execution_count": 1,
     "metadata": {},
     "output_type": "execute_result"
    }
   ],
   "source": [
    "var urlEncode = (obj) => {\r",
    "    return Object.keys(obj).map(k => encodeURIComponent(k) + '=' + encodeURIComponent(obj[k])).join('&');\r",
    "}\r",
    "\r",
    "var vncIframe = (options = {\r",
    "    password: 'secret',\r",
    "    host: 'localhost',\r",
    "    port: 6080,\r",
    "    autoconnect: true,\r",
    "    resize: 'downscale',\r",
    "    view_only: true,\r",
    "    reconnect: true\r",
    "}) => `\r",
    "<div style=\"display:block; width:100%; padding-bottom:70%;position:relative;\">\r",
    "<iframe id=\"vnc\"\r",
    "style=\"position:absolute;top:0;right:0;bottom:0;left:0;width:100%;height:100%;border:0;\" \r",
    "src=\"//local:6080/vnc.html?${urlEncode(options)}\"></iframe></div>\r",
    "`;\r",
    "module.exports = vncIframe;\r",
    "vncIframe;\r",
    "\r"
   ]
  },
  {
   "cell_type": "code",
   "execution_count": 3,
   "metadata": {
    "collapsed": false,
    "inputHidden": false,
    "outputHidden": false
   },
   "outputs": [
    {
     "data": {
      "text/html": [
       "\n",
       "<div style=\"display:block; width:100%; padding-bottom:70%;position:relative;\">\n",
       "<iframe id=\"vnc\"\n",
       "style=\"position:absolute;top:0;right:0;bottom:0;left:0;width:100%;height:100%;border:0;\" \n",
       "src=\"//local:6080/vnc.html?password=secret&host=localhost&port=6080&autoconnect=true&resize=downscale&view_only=true&reconnect=true\"></iframe></div>\n"
      ]
     },
     "execution_count": 3,
     "metadata": {},
     "output_type": "execute_result"
    }
   ],
   "source": [
    "$$.mime({'text/html': vncIframe()});\r"
   ]
  },
  {
   "cell_type": "markdown",
   "metadata": {},
   "source": [
    "## 3\n",
    "\n",
    "How to run a selenium cell on the Docker machine?\n",
    "\n"
   ]
  },
  {
   "cell_type": "code",
   "execution_count": 8,
   "metadata": {},
   "outputs": [
    {
     "data": {
      "text/plain": [
       "[Function: runSeleniumCell]"
      ]
     },
     "execution_count": 8,
     "metadata": {},
     "output_type": "execute_result"
    }
   ],
   "source": [
    "var importer = require('../Core');\n",
    "var createWebdriverClient = importer.import('webdriver client');\n",
    "\n",
    "var runSeleniumCell = (search, newWindow = true) => {\n",
    "    var client = createWebdriverClient();\n",
    "    var ctx = {client};\n",
    "    var onlyOneWindow;\n",
    "    var {\n",
    "        getCredentials,\n",
    "        getAllXPath,\n",
    "        getAllUntil,\n",
    "        resizeWindow\n",
    "    } = importer.import([\n",
    "        'decrypt password',\n",
    "        'all elements xpath',\n",
    "        'get all elements until',\n",
    "        'resize selenium window',\n",
    "    ], ctx);\n",
    "    return (newWindow\n",
    "            ? client\n",
    "        .getActiveSessions()\n",
    "        .then(sessions => {\n",
    "            const index = sessions.map(s => s[1]).indexOf(client.requestHandler.sessionID) % 4;\n",
    "            onlyOneWindow = importer.import('only one window', {\n",
    "                client,\n",
    "                OFFSET: index * 9\n",
    "            })\n",
    "            return onlyOneWindow();\n",
    "        })\n",
    "            : client)\n",
    "        .then(() => {\n",
    "            return importer.import(search, Object.assign(ctx, {\n",
    "                browser: client,\n",
    "                getCredentials,\n",
    "                getAllXPath,\n",
    "                getAllUntil,\n",
    "                resizeWindow\n",
    "            }))\n",
    "        })\n",
    "};\n",
    "module.exports = runSeleniumCell;\n"
   ]
  },
  {
   "cell_type": "code",
   "execution_count": 9,
   "metadata": {},
   "outputs": [
    {
     "name": "stdout",
     "output_type": "stream",
     "text": [
      "Initializing webdriver on localhost\n",
      "\u001b[1;30m[22:58:35] \u001b[0m \u001b[0;35mCOMMAND\t\u001b[0mGET \t \"/wd/hub/session/1c8ba9c91f146851229328caa33b824c\"\n",
      "\u001b[1;30m[22:58:35] \u001b[0m \u001b[0;35mCOMMAND\t\u001b[0mGET \t \"/wd/hub/session/187aa56fb32a9a1891ffafbc84fcd3b9\"\n",
      "\u001b[1;30m[22:58:35] \u001b[0m \u001b[0;35mCOMMAND\t\u001b[0mGET \t \"/wd/hub/session/65e30a37d1acb20f724dcc385caa946f\"\n",
      "\u001b[1;30m[22:58:35] \u001b[0m \u001b[0;35mCOMMAND\t\u001b[0mGET \t \"/wd/hub/session/714a4207c3a5f6445fe605a96f4a8f34\"\n",
      "\u001b[1;30m[22:58:35] \u001b[0m \u001b[0;35mCOMMAND\t\u001b[0mGET \t \"/wd/hub/session/a59fe47b233f672a6fc9a99ada843b55\"\n",
      "\u001b[1;30m[22:58:35] \u001b[0m \u001b[0;35mCOMMAND\t\u001b[0mGET \t \"/wd/hub/session/71c998f11914595596204040e2b1e9a1\"\n",
      "\u001b[1;30m[22:58:35] \u001b[0m \u001b[0;35mCOMMAND\t\u001b[0mGET \t \"/wd/hub/session/430ac2684023959913fd14651a51da81\"\n",
      "\u001b[1;30m[22:58:35] \u001b[0m \u001b[0;35mCOMMAND\t\u001b[0mGET \t \"/wd/hub/session/88de7e501747214b58465b1f9c7c3709\"\n",
      "[]\n",
      "\u001b[1;30m[22:58:35] \u001b[0m \u001b[0;35mCOMMAND\t\u001b[0mPOST \t \"/wd/hub/session\"\n",
      "-1\n",
      "\u001b[1;30m[22:58:36] \u001b[0m \u001b[0;35mCOMMAND\t\u001b[0mGET \t \"/wd/hub/session/ca32e065666fa9eaa09590f78ac5020d/window_handle\"\n",
      "\u001b[1;30m[22:58:37] \u001b[0m \u001b[0;35mCOMMAND\t\u001b[0mPOST \t \"/wd/hub/session/ca32e065666fa9eaa09590f78ac5020d/window\"\n",
      "\u001b[1;30m[22:58:37] \u001b[0m \u001b[0;35mCOMMAND\t\u001b[0mPOST \t \"/wd/hub/session/ca32e065666fa9eaa09590f78ac5020d/execute\"\n",
      "\u001b[1;30m[22:58:37] \u001b[0m \u001b[0;35mCOMMAND\t\u001b[0mGET \t \"/wd/hub/session/ca32e065666fa9eaa09590f78ac5020d/window_handles\"\n",
      "\u001b[1;30m[22:58:37] \u001b[0m \u001b[0;35mCOMMAND\t\u001b[0mPOST \t \"/wd/hub/session/ca32e065666fa9eaa09590f78ac5020d/window\"\n",
      "\u001b[1;30m[22:58:37] \u001b[0m \u001b[0;35mCOMMAND\t\u001b[0mGET \t \"/wd/hub/session/ca32e065666fa9eaa09590f78ac5020d/window_handle\"\n",
      "\u001b[1;30m[22:58:37] \u001b[0m \u001b[0;35mCOMMAND\t\u001b[0mGET \t \"/wd/hub/session/ca32e065666fa9eaa09590f78ac5020d/window_handles\"\n",
      "\u001b[1;30m[22:58:37] \u001b[0m \u001b[0;35mCOMMAND\t\u001b[0mPOST \t \"/wd/hub/session/ca32e065666fa9eaa09590f78ac5020d/window\"\n",
      "\u001b[1;30m[22:58:37] \u001b[0m \u001b[0;35mCOMMAND\t\u001b[0mGET \t \"/wd/hub/session/ca32e065666fa9eaa09590f78ac5020d/window_handles\"\n",
      "\u001b[1;30m[22:58:37] \u001b[0m \u001b[0;35mCOMMAND\t\u001b[0mDELETE \t \"/wd/hub/session/ca32e065666fa9eaa09590f78ac5020d/window\"\n",
      "\u001b[1;30m[22:58:37] \u001b[0m \u001b[0;35mCOMMAND\t\u001b[0mPOST \t \"/wd/hub/session/ca32e065666fa9eaa09590f78ac5020d/window\"\n",
      "\u001b[1;30m[22:58:37] \u001b[0m \u001b[0;35mCOMMAND\t\u001b[0mPOST \t \"/wd/hub/session/ca32e065666fa9eaa09590f78ac5020d/window\"\n",
      "\u001b[1;30m[22:58:37] \u001b[0m \u001b[0;35mCOMMAND\t\u001b[0mGET \t \"/wd/hub/session/ca32e065666fa9eaa09590f78ac5020d/window_handle\"\n",
      "\u001b[1;30m[22:58:37] \u001b[0m \u001b[0;35mCOMMAND\t\u001b[0mGET \t \"/wd/hub/session/ca32e065666fa9eaa09590f78ac5020d/window_handles\"\n",
      "\u001b[1;30m[22:58:37] \u001b[0m \u001b[0;35mCOMMAND\t\u001b[0mGET \t \"/wd/hub/session/ca32e065666fa9eaa09590f78ac5020d/window_handle\"\n",
      "\u001b[1;30m[22:58:37] \u001b[0m \u001b[0;35mCOMMAND\t\u001b[0mPOST \t \"/wd/hub/session/ca32e065666fa9eaa09590f78ac5020d/window\"\n",
      "\u001b[1;30m[22:58:37] \u001b[0m \u001b[0;35mCOMMAND\t\u001b[0mGET \t \"/wd/hub/session/ca32e065666fa9eaa09590f78ac5020d/window_handle\"\n",
      "\u001b[1;30m[22:58:37] \u001b[0m \u001b[0;35mCOMMAND\t\u001b[0mPOST \t \"/wd/hub/session/ca32e065666fa9eaa09590f78ac5020d/window/CDwindow-fa021c7b-d742-48de-b616-0a8305823d0d/maximize\"\n",
      "\u001b[1;30m[22:58:37] \u001b[0m \u001b[0;35mCOMMAND\t\u001b[0mGET \t \"/wd/hub/session/ca32e065666fa9eaa09590f78ac5020d/window/current/size\"\n",
      "{ x: -678, y: -332 }\n",
      "\u001b[1;30m[22:58:37] \u001b[0m \u001b[0;35mCOMMAND\t\u001b[0mPOST \t \"/wd/hub/session/ca32e065666fa9eaa09590f78ac5020d/window/CDwindow-fa021c7b-d742-48de-b616-0a8305823d0d/position\"\n",
      "\u001b[1;30m[22:58:38] \u001b[0m \u001b[0;35mCOMMAND\t\u001b[0mPOST \t \"/wd/hub/session/ca32e065666fa9eaa09590f78ac5020d/window/CDwindow-fa021c7b-d742-48de-b616-0a8305823d0d/size\"\n",
      "\u001b[1;30m[22:58:38] \u001b[0m \u001b[0;35mCOMMAND\t\u001b[0mPOST \t \"/wd/hub/session/ca32e065666fa9eaa09590f78ac5020d/url\"\n",
      "\u001b[1;30m[22:58:40] \u001b[0m \u001b[0;35mCOMMAND\t\u001b[0mPOST \t \"/wd/hub/session/ca32e065666fa9eaa09590f78ac5020d/element\"\n",
      "\u001b[1;30m[22:58:40] \u001b[0m \u001b[0;35mCOMMAND\t\u001b[0mPOST \t \"/wd/hub/session/ca32e065666fa9eaa09590f78ac5020d/element/0.4308873235162336-1/click\"\n"
     ]
    },
    {
     "ename": "Error",
     "evalue": "element not visible",
     "execution_count": 9,
     "output_type": "error",
     "traceback": [
      "Error: An element command could not be completed because the element is not visible on the page.",
      "    at elementIdClick(\"0.4308873235162336-1\") - click.js:20:22"
     ]
    }
   ],
   "source": [
    "var importer = require('../Core');\n",
    "var runSeleniumCell = importer.import('selenium cell');\n",
    "\n",
    "$$.async()\n",
    "runSeleniumCell('test docker selenium')\n",
    "    .then(r => $$.sendResult(r))\n",
    "    .catch(e => $$.sendError(e));\n"
   ]
  },
  {
   "cell_type": "markdown",
   "metadata": {},
   "source": [
    "Test docker selenium?"
   ]
  },
  {
   "cell_type": "code",
   "execution_count": 10,
   "metadata": {
    "inputHidden": false,
    "outputHidden": false
   },
   "outputs": [
    {
     "ename": "ReferenceError",
     "evalue": "client is not defined",
     "execution_count": 10,
     "output_type": "error",
     "traceback": [
      "evalmachine.<anonymous>:2",
      "    return client",
      "    ^",
      "",
      "ReferenceError: client is not defined",
      "    at testLive (evalmachine.<anonymous>:2:5)",
      "    at evalmachine.<anonymous>:6:18",
      "    at ContextifyScript.Script.runInThisContext (vm.js:50:33)",
      "    at Object.runInThisContext (vm.js:139:38)",
      "    at run ([eval]:775:15)",
      "    at onRunRequest ([eval]:620:18)",
      "    at onMessage ([eval]:588:13)",
      "    at emitTwo (events.js:125:13)",
      "    at process.emit (events.js:213:7)",
      "    at emit (internal/child_process.js:774:12)"
     ]
    }
   ],
   "source": [
    "var testLive = () => {\n",
    "    return client\n",
    "        .url('https://purchasesprint.actops.com')\n",
    "        .click('[href*=\"/auth\"], [routerlink*=\"/auth\"]');\n",
    "}\n",
    "module.exports = testLive();\n",
    "\n"
   ]
  },
  {
   "cell_type": "markdown",
   "metadata": {},
   "source": [
    "\n",
    "TODO:\n",
    "\n",
    "Auto fill fields in a live browser using the \n",
    "\n",
    "Transfer login state to current browser?\n",
    "\n"
   ]
  },
  {
   "cell_type": "code",
   "execution_count": null,
   "metadata": {},
   "outputs": [],
   "source": []
  }
 ],
 "metadata": {
  "kernel_info": {
   "name": "node_nteract"
  },
  "kernelspec": {
   "display_name": "Javascript (Node.js)",
   "language": "javascript",
   "name": "javascript"
  },
  "language_info": {
   "file_extension": ".js",
   "mimetype": "application/javascript",
   "name": "javascript",
   "version": "8.8.1"
  }
 },
 "nbformat": 4,
 "nbformat_minor": 4
}
