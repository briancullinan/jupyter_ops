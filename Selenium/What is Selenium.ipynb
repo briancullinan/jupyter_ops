{
 "cells": [
  {
   "cell_type": "markdown",
   "metadata": {},
   "source": [
    "# What is Selenium?\n",
    "\n",
    "## 1\n",
    "\n",
    "What environment do we use?\n",
    "\n",
    "selenium docker?\n",
    "\n",
    "See [What is Docker?](What%20is%20Docker.ipynb)\n",
    "\n"
   ]
  },
  {
   "cell_type": "code",
   "execution_count": 4,
   "metadata": {
    "inputHidden": false,
    "outputHidden": false
   },
   "outputs": [
    {
     "data": {
      "text/plain": [
       "[Function: seleniumDocker]"
      ]
     },
     "execution_count": 4,
     "metadata": {},
     "output_type": "execute_result"
    }
   ],
   "source": [
    "var importer = require('../Core');\n",
    "var fs = require('fs');\n",
    "\n",
    "// add some run commands to the bash script\n",
    "function bashToRun(code) {\n",
    "    return code.split('\\n').filter(n => n.trim().length > 0).map(l => 'RUN ' + l.trim())\n",
    "    .join('\\n').replace(/\\\\\\s*\\nRUN\\s*/ig, '\\\\\\n ');\n",
    "}\n",
    "\n",
    "// create a selenium Dockerfile with a vnc connection\n",
    "function seleniumDocker(outputFile) {\n",
    "    const r = importer.interpret([\n",
    "        'run selenium inside docker',\n",
    "        // add some extra services\n",
    "        'linux dev tools',\n",
    "        'vnc html',\n",
    "        'vnc docker'\n",
    "    ]);\n",
    "    // convert some results to Docker RUN commands instead of bash\n",
    "    r[1].code = bashToRun(r[1].code);\n",
    "    r[2].code = bashToRun(r[2].code);\n",
    "    // save the Dockerfile\n",
    "    fs.writeFileSync(outputFile, r.map(r => r.code).join('\\n'));\n",
    "    return r;\n",
    "};\n",
    "module.exports = seleniumDocker;\n"
   ]
  },
  {
   "cell_type": "markdown",
   "metadata": {},
   "source": [
    "How to set up selenium server?"
   ]
  },
  {
   "cell_type": "code",
   "execution_count": 5,
   "metadata": {
    "inputHidden": false,
    "outputHidden": false
   },
   "outputs": [
    {
     "data": {
      "text/plain": [
       "[Function: getSeleniumServer]"
      ]
     },
     "execution_count": 5,
     "metadata": {},
     "output_type": "execute_result"
    }
   ],
   "source": [
    "var importer = require('../Core');\n",
    "var path = require('path');\n",
    "var fs = require('fs');\n",
    "var execCmd = importer.import('spawn child process');\n",
    "\n",
    "var DOWNLOAD_DIR = path.join(process.env.HOME || process.env.HOMEPATH || process.env.USERPROFILE, 'Downloads');\n",
    "var PROFILE_DIR = path.join(process.env.HOME || process.env.HOMEPATH || process.env.USERPROFILE, '.defaultProfile');\n",
    "var DOCKERFILE = path.resolve(path.join(__dirname, 'Dockerfile'));\n",
    "\n",
    "function getSeleniumServer(name = 'act-selenium') {\n",
    "    try {\n",
    "        fs.mkdirSync(DOWNLOAD_DIR);\n",
    "    } catch (err) {\n",
    "        if (err.code != 'EEXIST') {\n",
    "            throw err;\n",
    "        }\n",
    "    }\n",
    "    try {\n",
    "        fs.mkdirSync(PROFILE_DIR);\n",
    "    } catch (err) {\n",
    "        if (err.code != 'EEXIST') {\n",
    "            throw err;\n",
    "        }\n",
    "    }\n",
    "    try {\n",
    "        fs.unlinkSync(path.join(PROFILE_DIR, 'SingletonLock'));\n",
    "    } catch (err) {\n",
    "        if (err.code != 'ENOENT') {\n",
    "            throw err;\n",
    "        }\n",
    "    }\n",
    "    seleniumDocker(DOCKERFILE);\n",
    "    return execCmd('docker ps -a')\n",
    "        .then(r => {\n",
    "            if (r[0].indexOf(name) > -1) {\n",
    "                return execCmd('docker stop ' + name)\n",
    "                    .then(r => new Promise(resolve =>\n",
    "                        setTimeout(() => resolve(r), 1000)))\n",
    "                    .then(() => execCmd('docker rm ' + name));\n",
    "            }\n",
    "        })\n",
    "        .then(() => new Promise(resolve =>\n",
    "            setTimeout(() => resolve(), 1000)))\n",
    "        .then(() => {\n",
    "            var build = 'docker build -t ' + name + ' \"'\n",
    "                + path.dirname(DOCKERFILE) + '\"\\n'\n",
    "                + 'docker run --shm-size=3g -d '\n",
    "                + '--name ' + name + ' '\n",
    "                + '-p 8888:8888 '\n",
    "                + '-p 6080:6080 '\n",
    "                + '-p 5900:5900 '\n",
    "                + '-p 4444:4444 '\n",
    "                + '-p 4200:4200 '\n",
    "                + '-p 3000:3000 '\n",
    "                // TODO: add profile dir back in when permissions works on windows\n",
    "                + '-v \"' + DOWNLOAD_DIR + '\":/data/downloads '\n",
    "                + name + '\\n';\n",
    "            return execCmd(build)\n",
    "        })\n",
    "        .then(r => new Promise(resolve => setTimeout(() => resolve(r), 6000)))\n",
    "        .catch(e => console.log(e))\n",
    "};\n",
    "module.exports = getSeleniumServer;\n",
    "getSeleniumServer;\n",
    "\n"
   ]
  },
  {
   "cell_type": "code",
   "execution_count": 6,
   "metadata": {
    "collapsed": false,
    "inputHidden": false,
    "outputHidden": false
   },
   "outputs": [
    {
     "name": "stdout",
     "output_type": "stream",
     "text": [
      "CONTAINER ID        IMAGE                         COMMAND                  CREATED\n",
      "             STATUS                      PORTS                                                                                                                                            NAMES\n",
      "836cc1922516        b18366ef977d                  \"/opt/bin/entry_poin…\"   2 days ago          Exited (255) 24 hours ago   0.0.0.0:3000->3000/tcp, 0.0.0.0:4200->4200/tcp, 0.0.0.0:4444->4444/tcp, 0.0.0.0:5900->5900/tcp, 0.0.0.0:6080->6080/tcp, 0.0.0.0:8888->8888/tcp   act-selenium\n",
      "6772e0f45ce4        0278f28bc63f                  \"/bin/sh -c 'RUN mkd…\"   2 days ago          Exited (127) 2 days ago                                                                                                                                                      competent_clarke\n",
      "df878c878e11        0278f28bc63f                  \"/bin/sh -c 'mkdir /…\"   2 weeks ago         Exited (1) 2 weeks ago                                                                                                                                                       practical_feynman\n",
      "b8216e53dc3a        6de54a652b4b                  \"/bin/sh -c 'sed -i …\"   2 weeks ago         Exited (0) 2 weeks ago                                                                                                                                                       focused_lumiere\n",
      "289d5c2763eb        8b2526be154f                  \"/bin/sh -c 'sed -i …\"   2 weeks ago         Exited (0) 2 weeks ago                                                                                                                                                       musing_pike\n",
      "74bbc022c4a7        64b58fadb6ba                  \"/bin/sh -c 'chmod 7…\"   2 weeks ago         Exited (0) 2 weeks ago                                                                                                                                                       peaceful_yonath\n",
      "bc8c76728274        89ed8bb6fac8                  \"/bin/sh -c 'chmod 7…\"   2 weeks ago         Exited (0) 2 weeks ago                                                                                                                                                       loving_lamarr\n",
      "a09bc1067a18        b1ff20b3a84f                  \"/bin/sh -c 'chown s…\"   2 weeks ago         Exited (0) 2 weeks ago                                                                                                                                                       eager_kalam\n",
      "d32546e5fee5        97afce9e8757                  \"/bin/sh -c 'chown s…\"   2 weeks ago         Exited (0) 2 weeks ago                                                                                                                                                       lucid_leavitt\n",
      "27e78dad5ff0        9b0c20964a09                  \"/bin/sh -c 'mkdir /…\"   2 weeks ago         Exited (0) 2 weeks ago                                                                                                                                                       zealous_yalow\n",
      "43a7b8dbbf43        30c904df1014                  \"/bin/sh -c 'mkdir /…\"   2 weeks ago         Exited (0) 2 weeks ago                                                                                                                                                       nostalgic_franklin\n",
      "795e91fc9ff8        70e89c34910a                  \"/bin/sh -c '#(nop) …\"   2 weeks ago         Created                                                                                                                                                                      clever_euclid\n",
      "fb4d3b13b36e        61abfc7a8627                  \"/bin/sh -c '#(nop) …\"   2 weeks ago         Created                                                                                                                                                                      gifted_kowalevski\n",
      "44c56d58686e        7249cd85d0a3                  \"/bin/sh -c '#(nop) …\"   2 weeks ago         Created                                                                                                                                                                      angry_bell\n",
      "9f3f6a1835b5        1d57d4521ce3                  \"/bin/sh -c '#(nop) …\"   2 weeks ago         Created                                                                                                                                                                      eloquent_blackwell\n",
      "ce3e5b891567        3ee9ec07c44f                  \"/bin/sh -c '#(nop) …\"   2 weeks ago         Created                                                                                                                                                                      tender_borg\n",
      "b0ac980439f5        39b5a98f4dc5                  \"/bin/sh -c '#(nop) …\"   2 weeks ago         Created                                                                                                                                                                      hungry_carson\n",
      "23f0a18a2551        593e47f379db                  \"/bin/sh -c '#(nop) …\"   2 weeks ago         Created                                                                                                                                                                      jolly_stallman\n",
      "10336c6a8c49        62557387578d                  \"/bin/sh -c '/bin/ba…\"   4 weeks ago         Exited (1) 4 weeks ago                                                                                                                                                       affectionate_montalcini\n",
      "d1304a7788ae        4fde12fedde2                  \"/bin/sh -c '/bin/ba…\"   4 weeks ago         Exited (1) 4 weeks ago                                                                                                                                                       keen_lamarr\n",
      "7ec121521e1f        1a98fd5e27c4                  \"/bin/sh -c '/bin/ba…\"   4 weeks ago         Exited (1) 4 weeks ago                                                                                                                                                       vigilant_bell\n",
      "ece64193a874        4405a3505976                  \"/bin/sh -c '/bin/ba…\"   4 weeks ago         Exited (1) 4 weeks ago                                                                                                                                                       dazzling_morse\n",
      "06d22545771e        26aaf9e84644                  \"/bin/sh -c '/bin/ba…\"   4 weeks ago         Exited (1) 4 weeks ago                                                                                                                                                       boring_goldwasser\n",
      "301321db9ab4        8498b3286f53                  \"/usr/bin/dotnet /ap…\"   5 weeks ago         Exited (0) 5 weeks ago                                                                                                                                                       elastic_shockley\n",
      "39aaf615a72a        8498b3286f53                  \"/usr/bin/dotnet /ap…\"   5 weeks ago         Exited (0) 5 weeks ago                                                                                                                                                       vigorous_tesla\n",
      "4a4e92ea46c3        8498b3286f53                  \"/usr/bin/dotnet /ap…\"   5 weeks ago         Exited (0) 5 weeks ago                                                                                                                                                       adoring_elion\n",
      "a4a607e49b57        0c535f3cbf3d                  \"bash\"                   5 weeks ago         Exited (130) 5 weeks ago                                                                                                                                                     kind_fermat\n",
      "3caff4fdd282        0c535f3cbf3d                  \"-p 8090:80\"             5 weeks ago         Created                     80/tcp                                                                                                                                           peaceful_tesla\n",
      "69e6815ff7aa        c84bbc6379a4                  \"bash\"                   5 weeks ago         Exited (130) 5 weeks ago                                                                                                                                                     stoic_stallman\n",
      "fb5f09fd8fb2        c84bbc6379a4                  \"-p 8090:80\"             5 weeks ago         Created                     80/tcp                                                                                                                                           practical_johnson\n",
      "b311dcc946d5        11c36a95d72e                  \"bash\"                   5 weeks ago         Exited (130) 5 weeks ago                                                                                                                                                     nifty_almeida\n",
      "e312b8c28a5d        11c36a95d72e                  \"-p 8090:80\"             5 weeks ago         Created                     80/tcp                                                                                                                                           hardcore_fermi\n",
      "e848c1356a5a        9a16fed5848d                  \"dotnet-ef ' /app/Su…\"   5 weeks ago         Created                     80/tcp                                                                                                                                           adoring_saha\n",
      "2f7a56d39433        01b9c9940289                  \"dotnet ' /app/Subsc…\"   5 weeks ago         Exited (1) 5 weeks ago                                                                                                                                                       cocky_kowalevski\n",
      "252897a9d7dc        01b9c9940289                  \"dotnet ' /app/Subsc…\"   5 weeks ago         Exited (1) 5 weeks ago                                                                                                                                                       keen_hermann\n",
      "c332e5592c52        31c2b6bb918e                  \"dotnet /app/Subscri…\"   5 weeks ago         Exited (1) 5 weeks ago                                                                                                                                                       cranky_nobel\n",
      "76b5a0edb90f        31c2b6bb918e                  \"dotnet /app/Subscri…\"   5 weeks ago         Exited (1) 5 weeks ago                                                                                                                                                       quizzical_swirles\n",
      "4df11eebeadc        64273bb70f3a                  \"/bin/sh -c 'cp ${so…\"   5 weeks ago         Exited (1) 5 weeks ago                                                                                                                                                       stoic_hodgkin\n",
      "5991a9c61ae8        4d0e18ba8aa1                  \"/bin/sh -c '/bin/ba…\"   5 weeks ago         Exited (1) 5 weeks ago                                                                                                                                                       gifted_knuth\n",
      "94f109900ae1        4d0e18ba8aa1                  \"/bin/sh -c '/bin/ba…\"   5 weeks ago         Exited (1) 5 weeks ago                                                                                                                                                       keen_chandrasekhar\n",
      "4a80bde97691        62f95bf6b6d5                  \"/bin/sh -c '/bin/ba…\"   5 weeks ago         Exited (1) 5 weeks ago                                                                                                                                                       amazing_haibt\n",
      "5f6ceca04b00        9bc14508de2e                  \"/bin/sh -c '/bin/ba…\"   5 weeks ago         Exited (1) 5 weeks ago                                                                                                                                                       determined_wescoff\n",
      "83691145e7e3        62c334615f62                  \"/bin/sh -c '/bin/ba…\"   5 weeks ago         Exited (1) 5 weeks ago                                                                                                                                                       ecstatic_easley\n",
      "20f3bcfd80ea        f524f6381993                  \"/bin/sh -c '/bin/ba…\"   5 weeks ago         Exited (1) 5 weeks ago                                                                                                                                                       relaxed_mahavira\n",
      "fa5ac173ae40        0d6cad5e71b5                  \"/bin/sh -c '/bin/ba…\"   5 weeks ago         Exited (145) 5 weeks ago                                                                                                                                                     hungry_kirch\n",
      "fd1600a957e4        a66f7c4fa3e1                  \"/bin/sh -c 'msbuild…\"   5 weeks ago         Exited (1) 5 weeks ago                                                                                                                                                       xenodochial_pasteur\n",
      "dd4344815ef4        6cdce0e225de                  \"/bin/sh -c 'msbuild…\"   5 weeks ago         \n",
      "Exited (1) 5 weeks ago                                                                                                                                                       cranky_leakey\n",
      "d41754037f13        0a05ac619605                  \"/bin/sh -c 'msbuild…\"   5 weeks ago         Exited (1) 5 weeks ago                                                                                                                                                       admiring_wilson\n",
      "4ad5d8cff8db        9dbaa92fa589                  \"/bin/sh -c 'msbuild…\"   5 weeks ago         Exited (1) 5 weeks ago                                                                                                                                                       keen_benz\n",
      "7fd7bc867872        9dbaa92fa589                  \"/bin/sh -c 'msbuild…\"   5 weeks ago         Exited (1) 5 weeks ago                                                                                                                                                       practical_agnesi\n",
      "54e04a2970b7        kalilinux/kali-linux-docker   \"/bin/bash\"              7 weeks ago         Exited (127) 7 weeks ago                                                                                                                                                     serene_nobel\n",
      "cd3769615416        kalilinux/kali-linux-docker   \"/bin/bash\"              7 weeks ago         Exited (0) 7 weeks ago                                                                                                                                                       modest_feynman\n",
      "23d48af93faf        017cc2365c76                  \"/bin/sh -c\"             3 months ago        Exited (2) 3 months ago                                                                                                                                                      xenodochial_bhabha\n",
      "988b3ca0849d        act-identity                  \"bash\"                   4 months ago        Exited (130) 4 months ago                                                                                                                                                    clever_easley\n",
      "f92bb0b38465        act-identity                  \"bash\"                   4 months ago        Exited (130) 4 months ago                                                                                                                                                    angry_newton\n",
      "\n",
      "act-selenium\n",
      "\n",
      "act-selenium\n",
      "\n",
      "23305e2e1faf1faa9cc17435c32a612262a7c4a03b65a36968668eef585b2fed\n",
      "\n",
      "Sending build context to Docker daemon    512kB\n",
      "\n",
      "\n",
      "Step 1/25 : FROM selenium/standalone-chrome-debug\n",
      "\n",
      " ---> 593e47f379db\n",
      "Step 2/25 : EXPOSE 4200\n",
      "\n",
      " ---> Using cache\n",
      " ---> 39b5a98f4dc5\n",
      "Step 3/25 : EXPOSE 4444\n",
      "\n",
      " ---> Using cache\n",
      " ---> 3ee9ec07c44f\n",
      "Step 4/25 : EXPOSE 3000\n",
      "\n",
      " ---> Using cache\n",
      " ---> 1d57d4521ce3\n",
      "Step 5/25 : ENV DBUS_SESSION_BUS_ADDRESS /dev/null\n",
      " ---> Using cache\n",
      " ---> 7249cd85d0a3\n",
      "Step 6/25 : ENV CHROME_USER_DATA_DIR /usr/profile\n",
      "\n"
     ]
    },
    {
     "data": {
      "text/plain": [
       "[ 'Sending build context to Docker daemon    512kB\\r\\r\\nStep 1/25 : FROM selenium/standalone-chrome-debug\\n ---> 593e47f379db\\nStep 2/25 : EXPOSE 4200\\n ---> Using cache\\n ---> 39b5a98f4dc5\\nStep 3/25 : EXPOSE 4444\\n ---> Using cache\\n ---> 3ee9ec07c44f\\nStep 4/25 : EXPOSE 3000\\n ---> Using cache\\n ---> 1d57d4521ce3\\nStep 5/25 : ENV DBUS_SESSION_BUS_ADDRESS /dev/null\\n ---> Using cache\\n ---> 7249cd85d0a3\\nStep 6/25 : ENV CHROME_USER_DATA_DIR /usr/profile\\n ---> Using cache\\n ---> 61abfc7a8627\\nStep 7/25 : WORKDIR /home/seluser\\n ---> Using cache\\n ---> 70e89c34910a\\nStep 8/25 : USER root\\n ---> Using cache\\n ---> 30c904df1014\\nStep 9/25 : RUN mkdir /usr/profile\\n ---> Using cache\\n ---> 9b0c20964a09\\nStep 10/25 : RUN mkdir /usr/downloads\\n ---> Using cache\\n ---> 97afce9e8757\\nStep 11/25 : RUN chown seluser:seluser -R /usr/profile\\n ---> Using cache\\n ---> b1ff20b3a84f\\nStep 12/25 : RUN chown seluser:seluser -R /usr/downloads\\n ---> Using cache\\n ---> 89ed8bb6fac8\\nStep 13/25 : RUN chmod 777 -R /usr/profile\\n ---> Using cache\\n ---> 64b58fadb6ba\\nStep 14/25 : RUN chmod 777 -R /usr/downloads\\n ---> Using cache\\n ---> 8b2526be154f\\nStep 15/25 : RUN sed -i \\'/wait \\\\$NODE_PID/ised -i -e s/exit_type\":\"Crashed/exit_type\":\"None/g /usr/profile/Default/Preferences &\\' /opt/bin/entry_point.sh\\n ---> Using cache\\n ---> 6de54a652b4b\\nStep 16/25 : RUN sed -i \\'/wait \\\\$NODE_PID/ised -i -e s/exited_cleanly\":false/exited_cleanly\":true/g /usr/profile/Default/Preferences &\\' /opt/bin/entry_point.sh\\n ---> Using cache\\n ---> 0278f28bc63f\\nStep 17/25 : RUN mkdir /var/lib/apt/lists/partial\\n ---> Using cache\\n ---> 97ff09aa79dc\\nStep 18/25 : RUN apt-get -qq update\\n ---> Using cache\\n ---> 0c5b8b35ac73\\nStep 19/25 : RUN apt-get install -y --fix-missing git curl wget zip unzip vim dos2unix g++ python net-tools make websockify novnc\\n ---> Using cache\\n ---> 8194d40ebc2c\\nStep 20/25 : RUN mkdir -p novnc ; if git --work-tree=./novnc branch | grep master; then  echo \"Already checked out novnc\";  else  git clone https://github.com/novnc/noVNC.git ./novnc ;  fi ; ls -la novnc ; pwd\\n ---> Using cache\\n ---> 575368c8d168\\nStep 21/25 : RUN dos2unix /home/seluser/novnc/utils/launch.sh\\n ---> Using cache\\n ---> 8f9e173bf217\\nStep 22/25 : RUN sed -i -e \\'s/export GEOMETRY.*/export GEOMETRY=\"8160x6120x24\"/g\\' /opt/bin/entry_point.sh\\n ---> Using cache\\n ---> e18f33433c2e\\nStep 23/25 : RUN sed -i -e \\'s/x11vnc/x11vnc -scale 2700x2048 -noxdamage/g\\' /opt/bin/entry_point.sh\\n ---> Using cache\\n ---> 4f1dba3a8d00\\nStep 24/25 : RUN sed -i \\'/wait \\\\$NODE_PID/i/home/seluser/novnc/utils/launch.sh --vnc localhost:5900 &\\' /opt/bin/entry_point.sh\\n ---> Using cache\\n ---> 9ab3303b1e2c\\nStep 25/25 : USER seluser\\n ---> Using cache\\n ---> 3005c77f01f2\\nSuccessfully built 3005c77f01f2\\nSuccessfully tagged act-selenium:latest\\nSECURITY WARNING: You are building a Docker image from Windows against a non-Windows Docker host. All files and directories added to build context will have \\'-rwxr-xr-x\\' permissions. It is recommended to double check and reset permissions for sensitive files and directories.\\n',\n",
       "  '23305e2e1faf1faa9cc17435c32a612262a7c4a03b65a36968668eef585b2fed\\n' ]"
      ]
     },
     "execution_count": 6,
     "metadata": {},
     "output_type": "execute_result"
    }
   ],
   "source": [
    "var importer = require('../Core');\n",
    "var {getSeleniumServer} = importer.import([\n",
    "    'What is Selenium.ipynb[what is selenium]',\n",
    "    'set up selenium server'\n",
    "]);\n",
    "\n",
    "$$.async();\n",
    "getSeleniumServer()\n",
    "    .then(r => $$.sendResult(r))\n",
    "    .catch(e => $$.sendError(e));\n",
    "\n"
   ]
  },
  {
   "cell_type": "markdown",
   "metadata": {},
   "source": [
    "# 2\n",
    "\n",
    "How to connect to VNC through the web browser?\n",
    "\n",
    "[Click here to open](http://localhost:6080/vnc.html?password=secret&host=localhost&port=6080&autoconnect=true&resize=downscale&view_only=true&reconnect=true) in a separate browser\n"
   ]
  },
  {
   "cell_type": "code",
   "execution_count": 2,
   "metadata": {
    "inputHidden": false,
    "outputHidden": false
   },
   "outputs": [
    {
     "data": {
      "text/plain": [
       "[Function: vncIframe]"
      ]
     },
     "execution_count": 2,
     "metadata": {},
     "output_type": "execute_result"
    }
   ],
   "source": [
    "function urlEncode(obj) => {\n",
    "    return Object.keys(obj).map(k => encodeURIComponent(k) + '=' + encodeURIComponent(obj[k])).join('&');\n",
    "}\n",
    "\n",
    "var vncIframe = (options = {\n",
    "    password: 'secret',\n",
    "    host: 'localhost',\n",
    "    port: 6080,\n",
    "    autoconnect: true,\n",
    "    resize: 'downscale',\n",
    "    view_only: true,\n",
    "    reconnect: true\n",
    "}) => `\n",
    "<div style=\"display:block; width:100%; padding-bottom:69%;position:relative;\">\n",
    "<iframe id=\"vnc\"\n",
    "style=\"position:absolute;top:0;right:0;bottom:0;left:0;width:100%;height:100%;border:0;\" \n",
    "src=\"//local:6080/vnc.html?${urlEncode(options)}\"></iframe></div>\n",
    "`;\n",
    "module.exports = vncIframe;\n",
    "vncIframe;\n",
    "\n"
   ]
  },
  {
   "cell_type": "code",
   "execution_count": 3,
   "metadata": {
    "collapsed": false,
    "inputHidden": false,
    "outputHidden": false
   },
   "outputs": [
    {
     "data": {
      "text/html": [
       "\n",
       "<div style=\"display:block; width:100%; padding-bottom:69%;position:relative;\">\n",
       "<iframe id=\"vnc\"\n",
       "style=\"position:absolute;top:0;right:0;bottom:0;left:0;width:100%;height:100%;border:0;\" \n",
       "src=\"//local:6080/vnc.html?password=secret&host=localhost&port=6080&autoconnect=true&resize=downscale&view_only=true&reconnect=true\"></iframe></div>\n"
      ]
     },
     "execution_count": 3,
     "metadata": {},
     "output_type": "execute_result"
    }
   ],
   "source": [
    "$$.mime({'text/html': vncIframe()});\n"
   ]
  },
  {
   "cell_type": "markdown",
   "metadata": {},
   "source": [
    "## 3\n",
    "\n",
    "How to run a selenium cell on the Docker machine?\n",
    "\n"
   ]
  },
  {
   "cell_type": "code",
   "execution_count": 1,
   "metadata": {},
   "outputs": [
    {
     "data": {
      "text/plain": [
       "[Function: runSeleniumCell]"
      ]
     },
     "execution_count": 1,
     "metadata": {},
     "output_type": "execute_result"
    }
   ],
   "source": [
    "var importer = require('../Core');\n",
    "var createWebdriverClient = importer.import('webdriver client');\n",
    "\n",
    "function runSeleniumCell(search, newWindow = true) {\n",
    "    var client = createWebdriverClient();\n",
    "    var ctx = {client};\n",
    "    var onlyOneWindow;\n",
    "    var {\n",
    "        getCredentials,\n",
    "        getAllXPath,\n",
    "        getAllUntil,\n",
    "        resizeWindow,\n",
    "        onlyOneWindow,\n",
    "        getAllSessionUrls,\n",
    "        clickSpa,\n",
    "    } = importer.import([\n",
    "        'decrypt password',\n",
    "        'all elements xpath',\n",
    "        'get all elements until',\n",
    "        'resize selenium window',\n",
    "        'only one window',\n",
    "        'get all session urls',\n",
    "        'click spa link',\n",
    "    ], ctx);\n",
    "    var formUtilities = importer.import('form utilities', ctx);\n",
    "    return client\n",
    "        .getActiveSessions()\n",
    "        .then(() => (newWindow\n",
    "                     ? client\n",
    "                     .then(() => onlyOneWindow())\n",
    "                     .then(() => getAllSessionUrls())\n",
    "                     : client))\n",
    "        .then(() => {\n",
    "            return importer.import(search, Object.assign(ctx, {\n",
    "                client: client,\n",
    "                browser: client,\n",
    "                getCredentials,\n",
    "                getAllXPath,\n",
    "                getAllUntil,\n",
    "                resizeWindow,\n",
    "                clickSpa,\n",
    "            }, formUtilities))\n",
    "        })\n",
    "};\n",
    "module.exports = runSeleniumCell;\n"
   ]
  },
  {
   "cell_type": "code",
   "execution_count": 2,
   "metadata": {},
   "outputs": [
    {
     "name": "stdout",
     "output_type": "stream",
     "text": [
      "Initializing webdriver on localhost\n",
      "[ 1511645427983, 'bd9165cacc918c80b58e1573bbac7a92' ]\n",
      "\u001b[1;30m[14:31:03] \u001b[0m \u001b[0;35mCOMMAND\t\u001b[0mGET \t \"/wd/hub/session/bd9165cacc918c80b58e1573bbac7a92/window_handle\"\n",
      "\u001b[1;30m[14:31:03] \u001b[0m \u001b[0;35mCOMMAND\t\u001b[0mPOST \t \"/wd/hub/session/bd9165cacc918c80b58e1573bbac7a92/window\"\n",
      "\u001b[1;30m[14:31:03] \u001b[0m \u001b[0;35mCOMMAND\t\u001b[0mGET \t \"/wd/hub/session/bd9165cacc918c80b58e1573bbac7a92\"\n",
      "[ 1511645428050, '3133fe0feb95113004265446032ad1cb' ]\n",
      "\u001b[1;30m[14:31:03] \u001b[0m \u001b[0;35mCOMMAND\t\u001b[0mGET \t \"/wd/hub/session/3133fe0feb95113004265446032ad1cb/window_handle\"\n",
      "\u001b[1;30m[14:31:03] \u001b[0m \u001b[0;35mCOMMAND\t\u001b[0mPOST \t \"/wd/hub/session/3133fe0feb95113004265446032ad1cb/window\"\n",
      "\u001b[1;30m[14:31:03] \u001b[0m \u001b[0;35mCOMMAND\t\u001b[0mGET \t \"/wd/hub/session/3133fe0feb95113004265446032ad1cb\"\n",
      "[ 'bd9165cacc918c80b58e1573bbac7a92',\n",
      "  '3133fe0feb95113004265446032ad1cb' ]\n",
      "\u001b[1;30m[14:31:03] \u001b[0m \u001b[0;35mCOMMAND\t\u001b[0mGET \t \"/wd/hub/session/bd9165cacc918c80b58e1573bbac7a92\"\n",
      "bd9165cacc918c80b58e1573bbac7a92\n",
      "\u001b[1;30m[14:31:03] \u001b[0m \u001b[0;35mCOMMAND\t\u001b[0mGET \t \"/wd/hub/session/3133fe0feb95113004265446032ad1cb/window_handle\"\n",
      "\u001b[1;30m[14:31:03] \u001b[0m \u001b[0;35mCOMMAND\t\u001b[0mPOST \t \"/wd/hub/session/3133fe0feb95113004265446032ad1cb/window\"\n",
      "\u001b[1;30m[14:31:03] \u001b[0m \u001b[0;35mCOMMAND\t\u001b[0mGET \t \"/wd/hub/session/3133fe0feb95113004265446032ad1cb\"\n",
      "\u001b[1;30m[14:31:03] \u001b[0m \u001b[0;35mCOMMAND\t\u001b[0mGET \t \"/wd/hub/session/bd9165cacc918c80b58e1573bbac7a92/window_handle\"\n",
      "\u001b[1;30m[14:31:03] \u001b[0m \u001b[0;35mCOMMAND\t\u001b[0mPOST \t \"/wd/hub/session/bd9165cacc918c80b58e1573bbac7a92/window\"\n",
      "\u001b[1;30m[14:31:03] \u001b[0m \u001b[0;35mCOMMAND\t\u001b[0mGET \t \"/wd/hub/session/bd9165cacc918c80b58e1573bbac7a92\"\n",
      "\u001b[1;30m[14:31:03] \u001b[0m \u001b[0;35mCOMMAND\t\u001b[0mPOST \t \"/wd/hub/session/bd9165cacc918c80b58e1573bbac7a92/execute\"\n",
      "\u001b[1;30m[14:31:03] \u001b[0m \u001b[0;35mCOMMAND\t\u001b[0mGET \t \"/wd/hub/session/bd9165cacc918c80b58e1573bbac7a92/window_handles\"\n",
      "\u001b[1;30m[14:31:03] \u001b[0m \u001b[0;35mCOMMAND\t\u001b[0mPOST \t \"/wd/hub/session/bd9165cacc918c80b58e1573bbac7a92/window\"\n",
      "\u001b[1;30m[14:31:03] \u001b[0m \u001b[0;35mCOMMAND\t\u001b[0mGET \t \"/wd/hub/session/bd9165cacc918c80b58e1573bbac7a92/window_handle\"\n",
      "\u001b[1;30m[14:31:03] \u001b[0m \u001b[0;35mCOMMAND\t\u001b[0mGET \t \"/wd/hub/session/bd9165cacc918c80b58e1573bbac7a92/window_handles\"\n",
      "\u001b[1;30m[14:31:03] \u001b[0m \u001b[0;35mCOMMAND\t\u001b[0mPOST \t \"/wd/hub/session/bd9165cacc918c80b58e1573bbac7a92/window\"\n",
      "\u001b[1;30m[14:31:03] \u001b[0m \u001b[0;35mCOMMAND\t\u001b[0mGET \t \"/wd/hub/session/bd9165cacc918c80b58e1573bbac7a92/window_handles\"\n",
      "\u001b[1;30m[14:31:03] \u001b[0m \u001b[0;35mCOMMAND\t\u001b[0mDELETE \t \"/wd/hub/session/bd9165cacc918c80b58e1573bbac7a92/window\"\n",
      "\u001b[1;30m[14:31:03] \u001b[0m \u001b[0;35mCOMMAND\t\u001b[0mPOST \t \"/wd/hub/session/bd9165cacc918c80b58e1573bbac7a92/window\"\n",
      "\u001b[1;30m[14:31:03] \u001b[0m \u001b[0;35mCOMMAND\t\u001b[0mPOST \t \"/wd/hub/session/bd9165cacc918c80b58e1573bbac7a92/window\"\n",
      "\u001b[1;30m[14:31:03] \u001b[0m \u001b[0;35mCOMMAND\t\u001b[0mGET \t \"/wd/hub/session/bd9165cacc918c80b58e1573bbac7a92/window_handle\"\n",
      "\u001b[1;30m[14:31:03] \u001b[0m \u001b[0;35mCOMMAND\t\u001b[0mGET \t \"/wd/hub/session/bd9165cacc918c80b58e1573bbac7a92/window_handles\"\n",
      "\u001b[1;30m[14:31:03] \u001b[0m \u001b[0;35mCOMMAND\t\u001b[0mGET \t \"/wd/hub/session/3133fe0feb95113004265446032ad1cb/window_handle\"\n",
      "\u001b[1;30m[14:31:03] \u001b[0m \u001b[0;35mCOMMAND\t\u001b[0mPOST \t \"/wd/hub/session/3133fe0feb95113004265446032ad1cb/window\"\n",
      "\u001b[1;30m[14:31:03] \u001b[0m \u001b[0;35mCOMMAND\t\u001b[0mGET \t \"/wd/hub/session/3133fe0feb95113004265446032ad1cb\"\n",
      "\u001b[1;30m[14:31:03] \u001b[0m \u001b[0;35mCOMMAND\t\u001b[0mGET \t \"/wd/hub/session/bd9165cacc918c80b58e1573bbac7a92/window_handle\"\n",
      "\u001b[1;30m[14:31:03] \u001b[0m \u001b[0;35mCOMMAND\t\u001b[0mPOST \t \"/wd/hub/session/bd9165cacc918c80b58e1573bbac7a92/window\"\n",
      "\u001b[1;30m[14:31:03] \u001b[0m \u001b[0;35mCOMMAND\t\u001b[0mGET \t \"/wd/hub/session/bd9165cacc918c80b58e1573bbac7a92\"\n",
      "[ '3133fe0feb95113004265446032ad1cb',\n",
      "  'bd9165cacc918c80b58e1573bbac7a92' ]\n",
      "\u001b[1;30m[14:31:03] \u001b[0m \u001b[0;35mCOMMAND\t\u001b[0mGET \t \"/wd/hub/session/3133fe0feb95113004265446032ad1cb/url\"\n",
      "\u001b[1;30m[14:31:04] \u001b[0m \u001b[0;35mCOMMAND\t\u001b[0mGET \t \"/wd/hub/session/3133fe0feb95113004265446032ad1cb/window_handles\"\n",
      "\u001b[1;30m[14:31:04] \u001b[0m \u001b[0;35mCOMMAND\t\u001b[0mPOST \t \"/wd/hub/session/3133fe0feb95113004265446032ad1cb/window\"\n",
      "\u001b[1;30m[14:31:04] \u001b[0m \u001b[0;35mCOMMAND\t\u001b[0mGET \t \"/wd/hub/session/3133fe0feb95113004265446032ad1cb/window_handle\"\n",
      "\u001b[1;30m[14:31:04] \u001b[0m \u001b[0;35mCOMMAND\t\u001b[0mPOST \t \"/wd/hub/session/3133fe0feb95113004265446032ad1cb/window\"\n",
      "{ x: 0, y: 0 }\n",
      "\u001b[1;30m[14:31:04] \u001b[0m \u001b[0;35mCOMMAND\t\u001b[0mPOST \t \"/wd/hub/session/3133fe0feb95113004265446032ad1cb/window/CDwindow-a23d3d28-a0e3-457a-bf39-bce40f3c27e4/position\"\n",
      "\u001b[1;30m[14:31:04] \u001b[0m \u001b[0;35mCOMMAND\t\u001b[0mPOST \t \"/wd/hub/session/3133fe0feb95113004265446032ad1cb/window/CDwindow-a23d3d28-a0e3-457a-bf39-bce40f3c27e4/size\"\n",
      "\u001b[1;30m[14:31:04] \u001b[0m \u001b[0;35mCOMMAND\t\u001b[0mGET \t \"/wd/hub/session/3133fe0feb95113004265446032ad1cb/url\"\n",
      "\u001b[1;30m[14:31:04] \u001b[0m \u001b[0;35mCOMMAND\t\u001b[0mGET \t \"/wd/hub/session/bd9165cacc918c80b58e1573bbac7a92/url\"\n",
      "\u001b[1;30m[14:31:04] \u001b[0m \u001b[0;35mCOMMAND\t\u001b[0mGET \t \"/wd/hub/session/bd9165cacc918c80b58e1573bbac7a92/window_handles\"\n",
      "\u001b[1;30m[14:31:04] \u001b[0m \u001b[0;35mCOMMAND\t\u001b[0mPOST \t \"/wd/hub/session/bd9165cacc918c80b58e1573bbac7a92/window\"\n",
      "\u001b[1;30m[14:31:04] \u001b[0m \u001b[0;35mCOMMAND\t\u001b[0mGET \t \"/wd/hub/session/bd9165cacc918c80b58e1573bbac7a92/window_handle\"\n",
      "\u001b[1;30m[14:31:04] \u001b[0m \u001b[0;35mCOMMAND\t\u001b[0mPOST \t \"/wd/hub/session/bd9165cacc918c80b58e1573bbac7a92/window\"\n",
      "{ x: 1350, y: 0 }\n",
      "\u001b[1;30m[14:31:04] \u001b[0m \u001b[0;35mCOMMAND\t\u001b[0mPOST \t \"/wd/hub/session/bd9165cacc918c80b58e1573bbac7a92/window/CDwindow-a6cb7fab-c922-4441-a47d-d734cd7388a7/position\"\n",
      "\u001b[1;30m[14:31:04] \u001b[0m \u001b[0;35mCOMMAND\t\u001b[0mPOST \t \"/wd/hub/session/bd9165cacc918c80b58e1573bbac7a92/window/CDwindow-a6cb7fab-c922-4441-a47d-d734cd7388a7/size\"\n",
      "\u001b[1;30m[14:31:04] \u001b[0m \u001b[0;35mCOMMAND\t\u001b[0mGET \t \"/wd/hub/session/bd9165cacc918c80b58e1573bbac7a92/url\"\n",
      "\u001b[1;30m[14:31:04] \u001b[0m \u001b[0;35mCOMMAND\t\u001b[0mPOST \t \"/wd/hub/session/bd9165cacc918c80b58e1573bbac7a92/url\"\n",
      "\u001b[1;30m[14:31:07] \u001b[0m \u001b[0;35mCOMMAND\t\u001b[0mPOST \t \"/wd/hub/session/bd9165cacc918c80b58e1573bbac7a92/element\"\n",
      "\u001b[1;30m[14:31:07] \u001b[0m \u001b[0;35mCOMMAND\t\u001b[0mPOST \t \"/wd/hub/session/bd9165cacc918c80b58e1573bbac7a92/element/0.4658438385884953-1/click\"\n"
     ]
    },
    {
     "data": {
      "text/plain": [
       "{ sessionId: 'bd9165cacc918c80b58e1573bbac7a92',\n",
       "  status: 0,\n",
       "  value: null }"
      ]
     },
     "execution_count": 2,
     "metadata": {},
     "output_type": "execute_result"
    }
   ],
   "source": [
    "var importer = require('../Core');\n",
    "var runSeleniumCell = importer.import('selenium cell');\n",
    "\n",
    "$$.async()\n",
    "runSeleniumCell('test docker selenium')\n",
    "    .then(r => $$.sendResult(r))\n",
    "    .catch(e => $$.sendError(e));\n"
   ]
  },
  {
   "cell_type": "markdown",
   "metadata": {},
   "source": [
    "Test docker selenium?"
   ]
  },
  {
   "cell_type": "code",
   "execution_count": 11,
   "metadata": {
    "inputHidden": false,
    "outputHidden": false
   },
   "outputs": [
    {
     "ename": "ReferenceError",
     "evalue": "client is not defined",
     "execution_count": 11,
     "output_type": "error",
     "traceback": [
      "evalmachine.<anonymous>:2",
      "    return client",
      "    ^",
      "",
      "ReferenceError: client is not defined",
      "    at testLive (evalmachine.<anonymous>:2:5)",
      "    at evalmachine.<anonymous>:6:18",
      "    at ContextifyScript.Script.runInThisContext (vm.js:50:33)",
      "    at Object.runInThisContext (vm.js:139:38)",
      "    at run ([eval]:821:15)",
      "    at onRunRequest ([eval]:666:18)",
      "    at onMessage ([eval]:634:13)",
      "    at emitTwo (events.js:125:13)",
      "    at process.emit (events.js:213:7)",
      "    at emit (internal/child_process.js:774:12)"
     ]
    }
   ],
   "source": [
    "function testLive() {\n",
    "    return client\n",
    "        .url('https://purchasesprint.actops.com')\n",
    "        .click('[href*=\"/auth\"], [routerlink*=\"/auth\"]');\n",
    "}\n",
    "module.exports = testLive();\n",
    "\n"
   ]
  },
  {
   "cell_type": "markdown",
   "metadata": {},
   "source": [
    "\n",
    "TODO:\n",
    "\n",
    "Auto fill fields in a live browser using the \n",
    "\n",
    "Transfer login state to current browser?\n",
    "\n"
   ]
  },
  {
   "cell_type": "code",
   "execution_count": null,
   "metadata": {},
   "outputs": [],
   "source": []
  }
 ],
 "metadata": {
  "kernel_info": {
   "name": "node_nteract"
  },
  "kernelspec": {
   "display_name": "Javascript (Node.js)",
   "language": "javascript",
   "name": "javascript"
  },
  "language_info": {
   "file_extension": ".js",
   "mimetype": "application/javascript",
   "name": "javascript",
   "version": "8.6.0"
  }
 },
 "nbformat": 4,
 "nbformat_minor": 4
}
