{
 "cells": [
  {
   "cell_type": "markdown",
   "metadata": {},
   "source": [
    "# What is Selenium?\n",
    "\n",
    "## 1\n",
    "\n",
    "What environment do we use?\n",
    "\n",
    "See [What is Docker?](What%20is%20Docker.ipynb)\n",
    "\n",
    "Run Selenium in Docker?\n"
   ]
  },
  {
   "cell_type": "code",
   "execution_count": 5,
   "metadata": {
    "inputHidden": false,
    "outputHidden": false
   },
   "outputs": [
    {
     "data": {
      "text/plain": [
       "[Function: seleniumDocker]"
      ]
     },
     "execution_count": 5,
     "metadata": {},
     "output_type": "execute_result"
    }
   ],
   "source": [
    "var importer = require('../Core');\n",
    "var path = require('path');\n",
    "var writeFileSync = require('fs').writeFileSync;\n",
    "\n",
    "// add some run commands to the bash script\n",
    "var bashToRun = (code) => code.split('\\n').filter(n => n.trim().length > 0).map(l => 'RUN ' + l.trim())\n",
    "    .join('\\n').replace(/\\\\\\s*\\nRUN\\s*/ig, '\\\\\\n ');\n",
    "\n",
    "// create a selenium Dockerfile with a vnc connection\n",
    "var seleniumDocker = (outputFile) => {\n",
    "    return importer.interpretAll([\n",
    "        'run selenium',\n",
    "        // add some extra services\n",
    "        'linux dev tools',\n",
    "        'vnc html',\n",
    "        'vnc docker'\n",
    "    ]).then(r => {\n",
    "        // convert some results to Docker RUN commands instead of bash\n",
    "        r[1].code = bashToRun(r[1].code);\n",
    "        r[2].code = bashToRun(r[2].code);\n",
    "        return r.map(r => r.code).join('\\n');\n",
    "    })\n",
    "    .then(r => {\n",
    "        // save the Dockerfile\n",
    "        writeFileSync(outputFile, r);\n",
    "        return r;\n",
    "    });\n",
    "};\n",
    "(seleniumDocker);\n"
   ]
  },
  {
   "cell_type": "markdown",
   "metadata": {},
   "source": [
    "How to set up selenium server?"
   ]
  },
  {
   "cell_type": "code",
   "execution_count": 14,
   "metadata": {
    "inputHidden": false,
    "outputHidden": false
   },
   "outputs": [
    {
     "data": {
      "text/plain": [
       "[Function: getSeleniumServer]"
      ]
     },
     "execution_count": 14,
     "metadata": {},
     "output_type": "execute_result"
    }
   ],
   "source": [
    "var importer = require('../Core');\n",
    "var path = require('path');\n",
    "\n",
    "var DOWNLOAD_DIR = path.join(process.env.HOME || process.env.HOMEPATH || process.env.USERPROFILE, 'Downloads');\n",
    "var PROFILE_DIR = path.join(process.env.HOME || process.env.HOMEPATH || process.env.USERPROFILE, '.defaultProfile');\n",
    "\n",
    "var execCmd;\n",
    "var getSeleniumServer = (name = 'act-selenium') => {\n",
    "    try {\n",
    "        fs.mkdirSync(DOWNLOAD_DIR);\n",
    "    } catch (err) {\n",
    "        if (err.code != 'EEXIST') { throw err; }\n",
    "    }\n",
    "    try {\n",
    "        fs.mkdirSync(PROFILE_DIR);\n",
    "    } catch (err) {\n",
    "        if (err.code != 'EEXIST') { throw err; }\n",
    "    }\n",
    "    try {\n",
    "        fs.unlinkSync(path.join(PROFILE_DIR, 'SingletonLock'));\n",
    "    } catch (err) {\n",
    "        if (err.code != 'ENOENT') { throw err; }\n",
    "    }\n",
    "    var DOCKERFILE = path.resolve(path.join(__dirname, 'Dockerfile'));\n",
    "    return seleniumDocker(DOCKERFILE)\n",
    "        .then(() => importer.interpretAll('spawn child process'))\n",
    "        .then(r => {\n",
    "        console.log(r);\n",
    "            execCmd = eval(\"'use strict';\" + r[0].code);\n",
    "            return execCmd('docker ps -a');\n",
    "        }).then(r => {\n",
    "            var build = 'docker build -t ' + name + ' \"' \n",
    "                + path.dirname(DOCKERFILE) + '\"\\n'\n",
    "                + (r[0].indexOf(name) > -1 \n",
    "                   ? ('docker stop ' + name + '\\n') : '')\n",
    "                + 'docker run --rm --shm-size=2g -d '\n",
    "                + '--name ' + name + ' ' \n",
    "                + '-p 8888:8888 '\n",
    "                + '-p 6080:6080 '\n",
    "                + '-p 5900:5900 '\n",
    "                + '-p 4444:4444 '\n",
    "                + '-p 4200:4200 '\n",
    "                + '-p 3000:3000 '\n",
    "                // TODO: add profile dir back in when permissions works on windows\n",
    "                + '-v \"' + DOWNLOAD_DIR + '\":/data/downloads ' \n",
    "                + name + '\\n';\n",
    "            return execCmd(build)\n",
    "        }).then(r => new Promise(resolve => setTimeout(() => resolve(r), 5000)));\n",
    "};\n",
    "(getSeleniumServer);"
   ]
  },
  {
   "cell_type": "code",
   "execution_count": 15,
   "metadata": {
    "collapsed": false,
    "inputHidden": false,
    "outputHidden": false
   },
   "outputs": [
    {
     "name": "stdout",
     "output_type": "stream",
     "text": [
      "Already imported\n",
      "[ 'import notebook.ipynb', 'interpret all notebooks.ipynb' ]\n",
      "Already imported\n",
      "[ 'import notebook.ipynb', 'interpret all notebooks.ipynb' ]\n",
      "[ { code: 'var exec = require(\\'child_process\\').exec;\\n// read cmd template and execute each line?\\nvar corePath = path.resolve(path.join(__dirname, \\'..\\', \\'Core\\'));\\nvar importer = require(corePath);\\n\\nvar execCmd = (script, vars = {}, options = {}) => {\\n    // add some run commands to the bash script\\n    var bashToExec = (code) => code.split(/\\\\s*(\\\\n\\\\s*)+/ig).map(l => \\'{EXEC} \\' + l)\\n        .join(\\'\\\\n\\').replace(/\\\\\\\\\\\\s*\\\\n\\\\{EXEC\\\\}\\\\s*/ig, \\'\\\\\\\\\\\\n \\');\\n    \\n    return importer.runAllPromises(\\n        bashToExec(script).split(/\\\\s*\\\\{EXEC\\\\}\\\\s*/ig)\\n        .filter(r => r.trim() !== \\'\\')\\n        .map(r => new Promise((resolve, reject) => {\\n            exec(r, (err, result) => {\\n                if(err) {\\n                    return resolve(err.toString());\\n                }\\n                resolve(result.toString());\\n            });\\n        })));\\n};\\n\\n(execCmd);\\n',\n",
      "    markdown: [ 'Spawning child processes?\\n\\n' ],\n",
      "    id: 'child process.ipynb[0]',\n",
      "    filename: 'C:\\\\Users\\\\brian.cullinan\\\\Documents\\\\jupytangular2\\\\Utilities\\\\child process.ipynb',\n",
      "    questions: [ 'Spawning child processes?\\n\\n' ],\n",
      "    notebook: 'child process.ipynb',\n",
      "    runInNewContext: [Function],\n",
      "    runInNEL: [Function] } ]\n"
     ]
    },
    {
     "data": {
      "text/plain": [
       "[ 'Sending build context to Docker daemon  77.31kB\\r\\r\\nStep 1/22 : FROM selenium/standalone-chrome-debug\\n ---> 593e47f379db\\nStep 2/22 : EXPOSE 4200\\n ---> Using cache\\n ---> cf96a9aac1f7\\nStep 3/22 : EXPOSE 4444\\n ---> Using cache\\n ---> 3945a29b8f5b\\nStep 4/22 : EXPOSE 3000\\n ---> Using cache\\n ---> b8b75fe784a3\\nStep 5/22 : ENV CHROME_USER_DATA_DIR /usr/profile\\n ---> Using cache\\n ---> 00409baf3489\\nStep 6/22 : WORKDIR /home/seluser\\n ---> Using cache\\n ---> b8a12d57779f\\nStep 7/22 : USER root\\n ---> Using cache\\n ---> aaa0d8320a97\\nStep 8/22 : RUN mkdir /usr/profile\\n ---> Using cache\\n ---> 62eef137b4b0\\nStep 9/22 : RUN mkdir /usr/downloads\\n ---> Using cache\\n ---> bf11798fa872\\nStep 10/22 : RUN chown seluser:seluser -R /usr/profile\\n ---> Using cache\\n ---> 6cd96f04f28a\\nStep 11/22 : RUN chown seluser:seluser -R /usr/downloads\\n ---> Using cache\\n ---> 52b7a641fd74\\nStep 12/22 : RUN chmod 777 -R /usr/profile\\n ---> Using cache\\n ---> 0b526765e8e3\\nStep 13/22 : RUN chmod 777 -R /usr/downloads\\n ---> Using cache\\n ---> ff1e0599e6bc\\nStep 14/22 : VOLUME /usr/profile\\n ---> Using cache\\n ---> b60c37d03df5\\nStep 15/22 : VOLUME /data/downloads\\n ---> Using cache\\n ---> 37aff69de5b0\\nStep 16/22 : RUN mkdir /var/lib/apt/lists/partial\\n ---> Using cache\\n ---> 8a75b91370d9\\nStep 17/22 : RUN apt-get -qq update\\n ---> Using cache\\n ---> 635451803707\\nStep 18/22 : RUN apt-get install -y --fix-missing git curl wget zip unzip vim dos2unix g++ python net-tools make websockify novnc\\n ---> Using cache\\n ---> 017cc2365c76\\nStep 19/22 : RUN mkdir -p novnc ; if git --work-tree=./novnc branch | grep \\'master\\'; then  echo \"Already checked out novnc\";  else  git clone https://github.com/novnc/noVNC.git ./novnc ;  fi ; ls -la novnc ; pwd\\n ---> Using cache\\n ---> 3ba2cfdeb78f\\nStep 20/22 : RUN dos2unix /home/seluser/novnc/utils/launch.sh\\n ---> Using cache\\n ---> 9764ab042108\\nStep 21/22 : RUN sed -i \\'/wait \\\\$NODE_PID/i/home/seluser/novnc/utils/launch.sh --vnc localhost:5900 &\\' /opt/bin/entry_point.sh\\n ---> Using cache\\n ---> 71d958b1525d\\nStep 22/22 : USER seluser\\n ---> Using cache\\n ---> a34f2ee26b42\\nSuccessfully built a34f2ee26b42\\nSuccessfully tagged act-selenium:latest\\nSECURITY WARNING: You are building a Docker image from Windows against a non-Windows Docker host. All files and directories added to build context will have \\'-rwxr-xr-x\\' permissions. It is recommended to double check and reset permissions for sensitive files and directories.\\n',\n",
       "  '77b0bcb2a4f29cec026645f956d97ad2a54dcea3c42b3bc7b3f263c7e044a6fa\\n' ]"
      ]
     },
     "execution_count": 15,
     "metadata": {},
     "output_type": "execute_result"
    }
   ],
   "source": [
    "$$.async();\n",
    "try {\n",
    "getSeleniumServer()\n",
    "    .then(r => $$.sendResult(r))\n",
    "    .catch(e => $$.sendError(e));\n",
    "} catch (e) {\n",
    "    $$.sendError(e);\n",
    "}\n"
   ]
  },
  {
   "cell_type": "markdown",
   "metadata": {},
   "source": [
    "# 2\n",
    "\n",
    "How to connect to VNC through the web browser?\n",
    "\n",
    "[Click here to open](http://localhost:6080/vnc.html?password=secret&host=localhost&port=6080&autoconnect=true&resize=downscale&view_only=true&reconnect=true) in a separate browser\n"
   ]
  },
  {
   "cell_type": "code",
   "execution_count": 5,
   "metadata": {
    "inputHidden": false,
    "outputHidden": false
   },
   "outputs": [
    {
     "data": {
      "text/plain": [
       "[Function: vncIframe]"
      ]
     },
     "execution_count": 5,
     "metadata": {},
     "output_type": "execute_result"
    }
   ],
   "source": [
    "var vncIframe = () => `\n",
    "<div style=\"display:block; width:100%; padding-bottom:70%;position:relative;\">\n",
    "<iframe id=\"vnc\"\n",
    "style=\"position:absolute;top:0;right:0;bottom:0;left:0;width:100%;height:100%;border:0;\" \n",
    "src=\"//local:6080/vnc.html?password=secret&host=localhost&port=6080&autoconnect=true&resize=downscale&view_only=true&reconnect=true\"></iframe></div>\n",
    "`;\n",
    "(vncIframe);"
   ]
  },
  {
   "cell_type": "code",
   "execution_count": 6,
   "metadata": {
    "collapsed": false,
    "inputHidden": false,
    "outputHidden": false
   },
   "outputs": [
    {
     "data": {
      "text/html": [
       "\n",
       "<div style=\"display:block; width:100%; padding-bottom:70%;position:relative;\">\n",
       "<iframe id=\"vnc\"\n",
       "style=\"position:absolute;top:0;right:0;bottom:0;left:0;width:100%;height:100%;border:0;\" \n",
       "src=\"//local:6080/vnc.html?password=secret&host=localhost&port=6080&autoconnect=true&resize=downscale&view_only=true&reconnect=true\"></iframe></div>\n"
      ]
     },
     "execution_count": 6,
     "metadata": {},
     "output_type": "execute_result"
    }
   ],
   "source": [
    "$$.mime({'text/html': vncIframe()});\n"
   ]
  },
  {
   "cell_type": "markdown",
   "metadata": {},
   "source": [
    "## 3\n",
    "\n",
    "How to run a selenium test on the Docker machine?\n",
    "\n",
    "Auto fill fields in a live browser using the \n",
    "\n",
    "Transfer login state to current browser?\n",
    "\n"
   ]
  },
  {
   "cell_type": "code",
   "execution_count": 24,
   "metadata": {
    "inputHidden": false,
    "outputHidden": false
   },
   "outputs": [
    {
     "name": "stdout",
     "output_type": "stream",
     "text": [
      "hit\n"
     ]
    },
    {
     "data": {
      "text/plain": [
       "{ state: 'fulfilled', value: undefined }"
      ]
     },
     "execution_count": 24,
     "metadata": {},
     "output_type": "execute_result"
    }
   ],
   "source": [
    "console.log('hit');\n",
    "client.url('https://purchasesprint.actops.com');\n",
    "client.click('[href*=\"/auth\"], [routerlink*=\"/auth\"]');\n",
    "\n",
    "\n",
    "module.exports = client;"
   ]
  },
  {
   "cell_type": "code",
   "execution_count": 2,
   "metadata": {},
   "outputs": [
    {
     "name": "stdout",
     "output_type": "stream",
     "text": [
      "Already imported\n",
      "[ 'import notebook.ipynb', 'interpret all notebooks.ipynb' ]\n",
      "Initializing webdriver on localhost\n",
      "Already imported\n",
      "[ 'import notebook.ipynb', 'interpret all notebooks.ipynb' ]\n",
      "hit\n"
     ]
    }
   ],
   "source": [
    "var importer = require('../Core');\n",
    "\n",
    "$$.async();\n",
    "var client;\n",
    "importer.interpretAll(['webdriver client', 'run a selenium test'])\n",
    "    .then(r => r[0].runInNewContext())\n",
    "    .then(r => client = r())\n",
    "    .then(() => importer.interpretAll(['run a selenium test']))\n",
    "    .then(r => r[0].runFresherInNewContext({client: client}))\n",
    "    .then(r => $$.sendResult(r))\n",
    "    .catch(e => $$.sendError(e));\n",
    "\n"
   ]
  },
  {
   "cell_type": "code",
   "execution_count": null,
   "metadata": {},
   "outputs": [],
   "source": []
  }
 ],
 "metadata": {
  "kernel_info": {
   "name": "node_nteract"
  },
  "kernelspec": {
   "display_name": "Javascript (Node.js)",
   "language": "javascript",
   "name": "javascript"
  },
  "language_info": {
   "file_extension": ".js",
   "mimetype": "application/javascript",
   "name": "javascript",
   "version": "7.7.2"
  }
 },
 "nbformat": 4,
 "nbformat_minor": 4
}
