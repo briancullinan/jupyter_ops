{
  "cells": [
    {
      "cell_type": "markdown",
      "source": [
        "# What is Selenium?\n",
        "\n",
        "## 1\n",
        "\n",
        "What environment do we use?\n",
        "\n",
        "See [What is Docker?](What%20is%20Docker.ipynb)\n",
        "\n",
        "Run Selenium in Docker?\n"
      ],
      "metadata": {}
    },
    {
      "cell_type": "code",
      "source": [
        "var corePath = path.resolve(path.join(__dirname, '..', 'Core'));\n",
        "var importer = require(corePath);\n",
        "var path = require('path');\n",
        "\n",
        "// add some run commands to the bash script\n",
        "var bashToRun = (code) => code.split('\\n').map(l => 'RUN ' + l)\n",
        "    .join('\\n').replace(/\\\\\\s*\\nRUN\\s*/ig, '\\\\\\n ');\n",
        "\n",
        "// create a selenium Dockerfile with a vnc connection\n",
        "var interpretAllPath = path.join('..', 'Core', 'How to interpret all notebooks.ipynb');\n",
        "var seleniumDocker = () => importer.importNotebook(interpretAllPath)\n",
        "    .then(() => Promise.all([\n",
        "        interpret('run selenium'),\n",
        "    //  add some extra services\n",
        "        interpret('vnc html'),\n",
        "        interpret('vnc docker')\n",
        "    ]))\n",
        "    // lets fix the middle result\n",
        "    //.then(r => interpretObject(r))\n",
        "    //.then(r => {\n",
        "    //    r[1][0].code = bashToRun(r[1][0].code);\n",
        "    //    return r.map(r => r[0].code).join('\\n');\n",
        "    //});\n",
        "    // TODO: save the Dockerfile\n",
        "//$$.sendResult(seleniumDocker);\n",
        "$$.async()\n",
        "seleniumDocker()\n",
        "    .then(r => $$.sendResult(r))\n",
        "    .catch(r => $$.sendError(r));"
      ],
      "outputs": [
        {
          "output_type": "stream",
          "name": "stdout",
          "text": [
            "[ { id: 'How to test import.ipynb[1]',\n",
            "    question: 'how to test for errors line 2?' },\n",
            "  { id: 'Selenium Automation.ipynb[0]',\n",
            "    question: '# What is Selenium?\\n\\n' },\n",
            "  { id: 'Selenium Automation.ipynb[3]',\n",
            "    question: 'Run selenium inside of docker?' } ]\n",
            "\n\n",
            "[ { id: 'How to test import.ipynb[1]',\n",
            "    question: 'how to test for errors line 2?' },\n",
            "  { id: 'Selenium Automation.ipynb[0]',\n",
            "    question: '# What is Selenium?\\n\\n' },\n",
            "  { id: 'Selenium Automation.ipynb[3]',\n",
            "    question: 'Run selenium inside of docker?' },\n",
            "  { id: 'What is Selenium.ipynb[0]',\n",
            "    question: '# What is Selenium?\\n\\n' },\n",
            "  { id: 'What is Selenium.ipynb[0]',\n",
            "    question: '\\nWhat environment do we use?\\n\\n' },\n",
            "  { id: 'What is Selenium.ipynb[0]',\n",
            "    question: '\\nRun Selenium in Docker?' },\n",
            "  { id: 'What is Selenium.ipynb[2]',\n",
            "    question: '\\nHow to connect to VNC through the web browser?\\n\\n' },\n",
            "  { id: 'What is Selenium.ipynb[3]',\n",
            "    question: '\\nHow to run a selenium test on the Docker machine?' } ]\n",
            "\n\n"
          ]
        },
        {
          "output_type": "error",
          "ename": "ReferenceError",
          "evalue": "interpret is not defined",
          "traceback": [
            "ReferenceError: interpret is not defined",
            "    at importer.importNotebook.then (evalmachine.<anonymous>:13:9)",
            "    at process._tickCallback (internal/process/next_tick.js:103:7)"
          ]
        }
      ],
      "execution_count": 1,
      "metadata": {
        "inputHidden": false,
        "outputHidden": false
      }
    },
    {
      "cell_type": "code",
      "source": [
        "seleniumDocker()"
      ],
      "outputs": [
        {
          "output_type": "stream",
          "name": "stdout",
          "text": [
            "Already imported\n",
            "[ 'How to import a notebook.ipynb',\n",
            "  'How to interpret all notebooks.ipynb' ]\n"
          ]
        },
        {
          "output_type": "execute_result",
          "execution_count": 2,
          "data": {
            "text/plain": [
              "Promise { <pending> }"
            ]
          },
          "metadata": {}
        }
      ],
      "execution_count": 2,
      "metadata": {
        "inputHidden": false,
        "outputHidden": false
      }
    },
    {
      "cell_type": "markdown",
      "source": [
        "# 2\n",
        "\n",
        "How to connect to VNC through the web browser?\n",
        "\n",
        "[Click here to open](http://localhost:6080/vnc.html?password=secret&host=localhost&port=6080&autoconnect=true&resize=downscale&view_only=true) in a separate browser\n"
      ],
      "metadata": {}
    },
    {
      "cell_type": "code",
      "source": [
        "var vncIframe = () => `\n",
        "<div style=\"display:block; width:100%; padding-bottom:75%;position:relative;\">\n",
        "<iframe id=\"vnc\"\n",
        "style=\"position:absolute;top:0;right:0;bottom:0;left:0;width:100%;height:100%;border:0;\"\n",
        "src=\"http://localhost:6080/vnc.html?password=secret&amp;host=localhost&amp;port=6080&amp;autoconnect=true&amp;resize=downscale&amp;view_only=true\"></iframe></div>\n",
        "`;\n",
        "(vncIframe);"
      ],
      "outputs": [
        {
          "output_type": "execute_result",
          "execution_count": 3,
          "data": {
            "text/plain": [
              "[Function: vncIframe]"
            ]
          },
          "metadata": {}
        }
      ],
      "execution_count": 3,
      "metadata": {
        "inputHidden": false,
        "outputHidden": false
      }
    },
    {
      "cell_type": "markdown",
      "source": [
        "## 3\n",
        "\n",
        "How to run a selenium test on the Docker machine?\n"
      ],
      "metadata": {}
    },
    {
      "cell_type": "code",
      "source": [],
      "outputs": [],
      "execution_count": 4,
      "metadata": {
        "inputHidden": false,
        "outputHidden": false
      }
    }
  ],
  "metadata": {
    "kernel_info": {
      "name": "node_nteract"
    },
    "kernelspec": {
      "name": "node_nteract",
      "language": "javascript",
      "display_name": "Node.js (nteract)"
    },
    "language_info": {
      "name": "javascript",
      "version": "6.5.0",
      "mimetype": "application/javascript",
      "file_extension": ".js"
    }
  },
  "nbformat": 4,
  "nbformat_minor": 4
}