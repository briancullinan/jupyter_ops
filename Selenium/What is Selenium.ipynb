{
  "cells": [
    {
      "cell_type": "markdown",
      "source": [
        "# What is Selenium?\n",
        "\n",
        "## 1\n",
        "\n",
        "What environment do we use?\n",
        "\n",
        "See [What is Docker?](What%20is%20Docker.ipynb)\n",
        "\n",
        "Run Selenium in Docker?\n"
      ],
      "metadata": {}
    },
    {
      "cell_type": "code",
      "source": [
        "var path = require('path');\n",
        "var corePath = path.resolve(path.join(__dirname, '..', 'Core'));\n",
        "var importer = require(corePath);\n",
        "var writeFileSync = require('fs').writeFileSync;\n",
        "\n",
        "// add some run commands to the bash script\n",
        "var bashToRun = (code) => code.split('\\n').map(l => 'RUN ' + l)\n",
        "    .join('\\n').replace(/\\\\\\s*\\nRUN\\s*/ig, '\\\\\\n ');\n",
        "\n",
        "// create a selenium Dockerfile with a vnc connection\n",
        "var interpretAllPath = path.join('..', 'Core', 'How to interpret all notebooks.ipynb');\n",
        "var interpret, interpretObject;\n",
        "var seleniumDocker = (outputFile) => {\n",
        "    return importer.importNotebook(interpretAllPath)\n",
        "        .then((f) => {\n",
        "            interpret = f['interpret'];\n",
        "            interpretObject = f['interpretObject'];\n",
        "        })\n",
        "        .then(() => Promise.all([\n",
        "            interpret('run selenium'),\n",
        "            // add some extra services\n",
        "            interpret('linux dev tools'),\n",
        "            interpret('vnc html'),\n",
        "            interpret('vnc docker')\n",
        "        ]))\n",
        "        .then(r => r.map(r => r[0]))\n",
        "        .then(r => interpretObject(r))\n",
        "        .then(r => {\n",
        "            // lets fix the middle result\n",
        "            r[1].code = bashToRun(r[1].code);\n",
        "            r[2].code = bashToRun(r[2].code);\n",
        "            return r.map(r => r.code).join('\\n');\n",
        "        })\n",
        "        .then(r => {\n",
        "            // save the Dockerfile\n",
        "            writeFileSync(outputFile, r);\n",
        "            return r;\n",
        "        });\n",
        "};\n",
        "(seleniumDocker);\n"
      ],
      "outputs": [
        {
          "output_type": "execute_result",
          "execution_count": 1,
          "data": {
            "text/plain": [
              "[Function: seleniumDocker]"
            ]
          },
          "metadata": {}
        }
      ],
      "execution_count": 1,
      "metadata": {
        "inputHidden": false,
        "outputHidden": false
      }
    },
    {
      "cell_type": "markdown",
      "source": [
        "How to set up selenium server?"
      ],
      "metadata": {}
    },
    {
      "cell_type": "code",
      "source": [
        "var path = require('path');\n",
        "var execSync = require('child_process').execSync;\n",
        "var DOWNLOAD_DIR = path.join(process.env.HOME || process.env.HOMEPATH || process.env.USERPROFILE, 'Downloads');\n",
        "var PROFILE_DIR = path.join(process.env.HOME || process.env.HOMEPATH || process.env.USERPROFILE, '.defaultProfile');\n",
        "var getSeleniumServer = () => {\n",
        "    try {\n",
        "        fs.mkdirSync(DOWNLOAD_DIR);\n",
        "    } catch (err) {\n",
        "        if (err.code != 'EEXIST') {\n",
        "            throw err;\n",
        "        }\n",
        "    }\n",
        "    try {\n",
        "        fs.mkdirSync(PROFILE_DIR);\n",
        "    } catch (err) {\n",
        "        if (err.code != 'EEXIST') {\n",
        "            throw err;\n",
        "        }\n",
        "    }\n",
        "    try {\n",
        "        fs.unlinkSync(path.join(PROFILE_DIR, 'SingletonLock'));\n",
        "    } catch (err) {\n",
        "        if (err.code != 'ENOENT') {\n",
        "            throw err;\n",
        "        }\n",
        "    }\n",
        "    return seleniumDocker(path.join(__dirname, 'Dockerfile'))\n",
        "        .then(r => execSync('docker build -t act-selenium .').toString())\n",
        "        .then(r => {\n",
        "            var ps = execSync('docker ps -a').toString();\n",
        "            if(ps.indexOf('act-selenium') !== -1) {\n",
        "                return r \n",
        "                    + execSync('docker stop act-selenium').toString()\n",
        "                    + execSync('docker rm act-selenium').toString();\n",
        "            }\n",
        "            return '';\n",
        "        })\n",
        "        .then(r => r + execSync('docker run --shm-size=2g --name act-selenium -d -p 8888:8888 -p 6080:6080 -p 5900:5900 -p 4444:4444 -p 4200:4200 -p 3000:3000 -v \"' + DOWNLOAD_DIR + '\":/data/downloads act-selenium').toString())\n",
        "        // wait for process to start\n",
        "        .then(() => new Promise((resolve, reject) =>\n",
        "                                setTimeout(resolve, 5000)));\n",
        "};\n",
        "(getSeleniumServer);\n"
      ],
      "outputs": [
        {
          "output_type": "execute_result",
          "execution_count": 7,
          "data": {
            "text/plain": [
              "[Function: getSeleniumServer]"
            ]
          },
          "metadata": {}
        }
      ],
      "execution_count": 7,
      "metadata": {
        "inputHidden": false,
        "outputHidden": false
      }
    },
    {
      "cell_type": "code",
      "source": [
        "$$.async();\n",
        "getSeleniumServer()\n",
        "    .then(r => $$.sendResult(r))\n",
        "    .catch(r => $$.sendError(r));"
      ],
      "outputs": [
        {
          "output_type": "stream",
          "name": "stdout",
          "text": [
            "Already imported\n",
            "[ 'How to import a notebook.ipynb',\n",
            "  'How to interpret all notebooks.ipynb' ]\n"
          ]
        },
        {
          "output_type": "stream",
          "name": "stderr",
          "text": [
            "Error: ENOENT: no such file or directory, unlink '/Users/briancullinan/.defaultProfile/SingletonLock'\n",
            "    at Error (native)"
          ]
        }
      ],
      "execution_count": 8,
      "metadata": {
        "collapsed": false,
        "outputHidden": false,
        "inputHidden": false
      }
    },
    {
      "cell_type": "markdown",
      "source": [
        "# 2\n",
        "\n",
        "How to connect to VNC through the web browser?\n",
        "\n",
        "[Click here to open](http://localhost:6080/vnc.html?password=secret&host=localhost&port=6080&autoconnect=true&resize=downscale&view_only=true&reconnect=true) in a separate browser\n"
      ],
      "metadata": {}
    },
    {
      "cell_type": "code",
      "source": [
        "var vncIframe = () => `\n",
        "<div style=\"display:block; width:100%; padding-bottom:75%;position:relative;\">\n",
        "<iframe id=\"vnc\"\n",
        "style=\"position:absolute;top:0;right:0;bottom:0;left:0;width:100%;height:100%;border:0;\" \n",
        "src=\"http://localhost:6080/vnc.html?password=secret&amp;host=localhost&amp;port=6080&amp;autoconnect=true&amp;resize=downscale&amp;view_only=true&amp;reconnect=true\"></iframe></div>\n",
        "`;\n",
        "(vncIframe);"
      ],
      "outputs": [],
      "execution_count": 6,
      "metadata": {
        "inputHidden": false,
        "outputHidden": false
      }
    },
    {
      "cell_type": "code",
      "source": [
        "$$.mime({'text/html': vncIframe()});"
      ],
      "outputs": [],
      "execution_count": 8,
      "metadata": {
        "collapsed": false,
        "outputHidden": false,
        "inputHidden": false
      }
    },
    {
      "cell_type": "markdown",
      "source": [
        "## 3\n",
        "\n",
        "How to run a selenium test on the Docker machine?\n"
      ],
      "metadata": {}
    },
    {
      "cell_type": "code",
      "source": [],
      "outputs": [],
      "execution_count": 4,
      "metadata": {
        "inputHidden": false,
        "outputHidden": false
      }
    }
  ],
  "metadata": {
    "kernel_info": {
      "name": "node_nteract"
    },
    "kernelspec": {
      "name": "node_nteract",
      "language": "javascript",
      "display_name": "Node.js (nteract)"
    },
    "language_info": {
      "name": "javascript",
      "version": "6.5.0",
      "mimetype": "application/javascript",
      "file_extension": ".js"
    }
  },
  "nbformat": 4,
  "nbformat_minor": 4
}