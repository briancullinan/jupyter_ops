{
 "cells": [
  {
   "cell_type": "markdown",
   "metadata": {},
   "source": [
    "# What is Selenium?\n",
    "\n",
    "## 1\n",
    "\n",
    "What environment do we use?\n",
    "\n",
    "See [What is Docker?](What%20is%20Docker.ipynb)\n",
    "\n",
    "Run Selenium in Docker?\n"
   ]
  },
  {
   "cell_type": "code",
   "execution_count": null,
   "metadata": {
    "inputHidden": false,
    "outputHidden": false
   },
   "outputs": [],
   "source": [
    "var importer = require('../Core');\r",
    "var fs = require('fs');\r",
    "\r",
    "// add some run commands to the bash script\r",
    "var bashToRun = (code) => code.split('\\n').filter(n => n.trim().length > 0).map(l => 'RUN ' + l.trim())\r",
    "    .join('\\n').replace(/\\\\\\s*\\nRUN\\s*/ig, '\\\\\\n ');\r",
    "\r",
    "// create a selenium Dockerfile with a vnc connection\r",
    "var seleniumDocker = (outputFile) => {\r",
    "    return importer.interpret([\r",
    "        'run selenium',\r",
    "        // add some extra services\r",
    "        'linux dev tools',\r",
    "        'vnc html',\r",
    "        'vnc docker'\r",
    "    ]).then(r => {\r",
    "        // convert some results to Docker RUN commands instead of bash\r",
    "        r[1].code = bashToRun(r[1].code);\r",
    "        r[2].code = bashToRun(r[2].code);\r",
    "        return r.map(r => r.code).join('\\n');\r",
    "    })\r",
    "        .then(r => {\r",
    "            // save the Dockerfile\r",
    "            fs.writeFileSync(outputFile, r);\r",
    "            return r;\r",
    "        })\r",
    "        .catch(e => console.log(e))\r",
    "};\r",
    "module.exports = seleniumDocker;\r"
   ]
  },
  {
   "cell_type": "markdown",
   "metadata": {},
   "source": [
    "How to set up selenium server?"
   ]
  },
  {
   "cell_type": "code",
   "execution_count": null,
   "metadata": {
    "inputHidden": false,
    "outputHidden": false
   },
   "outputs": [],
   "source": [
    "var importer = require('../Core');\r",
    "var path = require('path');\r",
    "var fs = require('fs');\r",
    "\r",
    "var DOWNLOAD_DIR = path.join(process.env.HOME || process.env.HOMEPATH || process.env.USERPROFILE, 'Downloads');\r",
    "var PROFILE_DIR = path.join(process.env.HOME || process.env.HOMEPATH || process.env.USERPROFILE, '.defaultProfile');\r",
    "\r",
    "var execCmd;\n",
    "var getSeleniumServer = (name = 'act-selenium') => {\r",
    "    try {\r",
    "        fs.mkdirSync(DOWNLOAD_DIR);\r",
    "    } catch (err) {\r",
    "        if (err.code != 'EEXIST') {\r",
    "            throw err;\r",
    "        }\r",
    "    }\r",
    "    try {\r",
    "        fs.mkdirSync(PROFILE_DIR);\r",
    "    } catch (err) {\r",
    "        if (err.code != 'EEXIST') {\r",
    "            throw err;\r",
    "        }\r",
    "    }\r",
    "    try {\r",
    "        fs.unlinkSync(path.join(PROFILE_DIR, 'SingletonLock'));\r",
    "    } catch (err) {\r",
    "        if (err.code != 'ENOENT') {\r",
    "            throw err;\r",
    "        }\r",
    "    }\r",
    "    var DOCKERFILE = path.resolve(path.join(__dirname, 'Dockerfile'));\r",
    "    return seleniumDocker(DOCKERFILE)\r",
    "        .then(() => importer.import('spawn child process'))\r",
    "        .then(r => {\n",
    "            execCmd = r;\n",
    "            return execCmd('docker ps -a');\n",
    "        })\r",
    "        .then(r => {\r",
    "            if (r[0].indexOf(name) > -1) {\r",
    "                return execCmd('docker stop ' + name)\r",
    "                    .then(r => new Promise(resolve =>\r",
    "                        setTimeout(() => resolve(r), 1000)))\r",
    "                    .then(() => execCmd('docker rm ' + name));\r",
    "            }\r",
    "        })\r",
    "        .then(() => new Promise(resolve =>\r",
    "            setTimeout(() => resolve(), 1000)))\r",
    "        .then(() => {\r",
    "            var build = 'docker build -t ' + name + ' \"'\r",
    "                + path.dirname(DOCKERFILE) + '\"\\n'\r",
    "                + 'docker run --shm-size=3g -d '\r",
    "                + '--name ' + name + ' '\r",
    "                + '-p 8888:8888 '\r",
    "                + '-p 6080:6080 '\r",
    "                + '-p 5900:5900 '\r",
    "                + '-p 4444:4444 '\r",
    "                + '-p 4200:4200 '\r",
    "                + '-p 3000:3000 '\r",
    "                // TODO: add profile dir back in when permissions works on windows\r",
    "                + '-v \"' + DOWNLOAD_DIR + '\":/data/downloads '\r",
    "                + name + '\\n';\r",
    "            return execCmd(build)\r",
    "        })\r",
    "        .then(r => new Promise(resolve => setTimeout(() => resolve(r), 6000)))\r",
    "        .catch(e => console.log(e))\r",
    "};\r",
    "module.exports = getSeleniumServer;\r",
    "getSeleniumServer;\r",
    "\r"
   ]
  },
  {
   "cell_type": "code",
   "execution_count": null,
   "metadata": {
    "collapsed": false,
    "inputHidden": false,
    "outputHidden": false
   },
   "outputs": [],
   "source": [
    "$$.async();\r",
    "getSeleniumServer()\r",
    "    .then(r => $$.sendResult(r))\r",
    "    .catch(e => $$.sendError(e));\r",
    "\r"
   ]
  },
  {
   "cell_type": "markdown",
   "metadata": {},
   "source": [
    "# 2\n",
    "\n",
    "How to connect to VNC through the web browser?\n",
    "\n",
    "[Click here to open](http://localhost:6080/vnc.html?password=secret&host=localhost&port=6080&autoconnect=true&resize=downscale&view_only=true&reconnect=true) in a separate browser\n"
   ]
  },
  {
   "cell_type": "code",
   "execution_count": 6,
   "metadata": {
    "inputHidden": false,
    "outputHidden": false
   },
   "outputs": [
    {
     "data": {
      "text/plain": [
       "[Function: vncIframe]"
      ]
     },
     "execution_count": 6,
     "metadata": {},
     "output_type": "execute_result"
    }
   ],
   "source": [
    "var urlEncode = (obj) => {\r",
    "    return Object.keys(obj).map(k => encodeURIComponent(k) + '=' + encodeURIComponent(obj[k])).join('&');\r",
    "}\r",
    "\r",
    "var vncIframe = (options = {\r",
    "    password: 'secret',\r",
    "    host: 'localhost',\r",
    "    port: 6080,\r",
    "    autoconnect: true,\r",
    "    resize: 'downscale',\r",
    "    view_only: true,\r",
    "    reconnect: true\r",
    "}) => `\r",
    "<div style=\"display:block; width:100%; padding-bottom:70%;position:relative;\">\r",
    "<iframe id=\"vnc\"\r",
    "style=\"position:absolute;top:0;right:0;bottom:0;left:0;width:100%;height:100%;border:0;\" \r",
    "src=\"//local:6080/vnc.html?${urlEncode(options)}\"></iframe></div>\r",
    "`;\r",
    "module.exports = vncIframe;\r",
    "vncIframe;\r",
    "\r"
   ]
  },
  {
   "cell_type": "code",
   "execution_count": 7,
   "metadata": {
    "collapsed": false,
    "inputHidden": false,
    "outputHidden": false
   },
   "outputs": [
    {
     "data": {
      "text/html": [
       "\n",
       "<div style=\"display:block; width:100%; padding-bottom:70%;position:relative;\">\n",
       "<iframe id=\"vnc\"\n",
       "style=\"position:absolute;top:0;right:0;bottom:0;left:0;width:100%;height:100%;border:0;\" \n",
       "src=\"//local:6080/vnc.html?password=secret&host=localhost&port=6080&autoconnect=true&resize=downscale&view_only=true&reconnect=true\"></iframe></div>\n"
      ]
     },
     "execution_count": 7,
     "metadata": {},
     "output_type": "execute_result"
    }
   ],
   "source": [
    "$$.mime({'text/html': vncIframe()});\r"
   ]
  },
  {
   "cell_type": "markdown",
   "metadata": {},
   "source": [
    "## 3\n",
    "\n",
    "How to run a selenium cell on the Docker machine?\n",
    "\n"
   ]
  },
  {
   "cell_type": "code",
   "execution_count": 8,
   "metadata": {},
   "outputs": [
    {
     "data": {
      "text/plain": [
       "[Function: runSeleniumCell]"
      ]
     },
     "execution_count": 8,
     "metadata": {},
     "output_type": "execute_result"
    }
   ],
   "source": [
    "var importer = require('../Core');\n",
    "var {getCredentials, createWebdriverClient} = importer.import([\n",
    "    'webdriver client',\n",
    "    'decrypt password'\n",
    "]);\n",
    "\n",
    "var runSeleniumCell = (search) => {\n",
    "    var client = createWebdriverClient();\n",
    "    var {getAllXPath, getAllUntil} = importer.import([\n",
    "        'all xpath elements',\n",
    "        'get all elements until',\n",
    "    ], {client})\n",
    "    return importer.import(search, {\n",
    "        browser: client,\n",
    "        client,\n",
    "        getCredentials,\n",
    "        getAllXPath,\n",
    "        getAllUntil\n",
    "    })\n",
    "};\n",
    "module.exports = runSeleniumCell;\n"
   ]
  },
  {
   "cell_type": "code",
   "execution_count": 10,
   "metadata": {},
   "outputs": [
    {
     "name": "stdout",
     "output_type": "stream",
     "text": [
      "Initializing webdriver on localhost\n",
      "\u001b[1;30m[09:10:47] \u001b[0m \u001b[0;35mCOMMAND\t\u001b[0mGET \t \"/wd/hub/session/eb35a1f1-c85b-400b-aeea-355389966f56\"\n",
      "[ 'eb35a1f1-c85b-400b-aeea-355389966f56' ]\n",
      "0\n",
      "\u001b[1;30m[09:10:47] \u001b[0m \u001b[0;35mCOMMAND\t\u001b[0mGET \t \"/wd/hub/session/eb35a1f1-c85b-400b-aeea-355389966f56/window_handle\"\n",
      "\u001b[1;30m[09:10:47] \u001b[0m \u001b[0;35mCOMMAND\t\u001b[0mPOST \t \"/wd/hub/session/eb35a1f1-c85b-400b-aeea-355389966f56/window\"\n",
      "\u001b[1;30m[09:10:47] \u001b[0m \u001b[0;35mCOMMAND\t\u001b[0mPOST \t \"/wd/hub/session/eb35a1f1-c85b-400b-aeea-355389966f56/execute\"\n",
      "\u001b[1;30m[09:10:47] \u001b[0m \u001b[0;35mCOMMAND\t\u001b[0mGET \t \"/wd/hub/session/eb35a1f1-c85b-400b-aeea-355389966f56/window_handles\"\n",
      "\u001b[1;30m[09:10:47] \u001b[0m \u001b[0;35mCOMMAND\t\u001b[0mPOST \t \"/wd/hub/session/eb35a1f1-c85b-400b-aeea-355389966f56/window\"\n",
      "\u001b[1;30m[09:10:47] \u001b[0m \u001b[0;35mCOMMAND\t\u001b[0mGET \t \"/wd/hub/session/eb35a1f1-c85b-400b-aeea-355389966f56/window_handle\"\n",
      "\u001b[1;30m[09:10:47] \u001b[0m \u001b[0;35mCOMMAND\t\u001b[0mGET \t \"/wd/hub/session/eb35a1f1-c85b-400b-aeea-355389966f56/window_handles\"\n",
      "\u001b[1;30m[09:10:48] \u001b[0m \u001b[0;35mCOMMAND\t\u001b[0mPOST \t \"/wd/hub/session/eb35a1f1-c85b-400b-aeea-355389966f56/window\"\n",
      "\u001b[1;30m[09:10:48] \u001b[0m \u001b[0;35mCOMMAND\t\u001b[0mGET \t \"/wd/hub/session/eb35a1f1-c85b-400b-aeea-355389966f56/window_handles\"\n",
      "\u001b[1;30m[09:10:48] \u001b[0m \u001b[0;35mCOMMAND\t\u001b[0mDELETE \t \"/wd/hub/session/eb35a1f1-c85b-400b-aeea-355389966f56/window\"\n",
      "\u001b[1;30m[09:10:48] \u001b[0m \u001b[0;35mCOMMAND\t\u001b[0mPOST \t \"/wd/hub/session/eb35a1f1-c85b-400b-aeea-355389966f56/window\"\n",
      "\u001b[1;30m[09:10:48] \u001b[0m \u001b[0;35mCOMMAND\t\u001b[0mPOST \t \"/wd/hub/session/eb35a1f1-c85b-400b-aeea-355389966f56/window\"\n",
      "\u001b[1;30m[09:10:48] \u001b[0m \u001b[0;35mCOMMAND\t\u001b[0mGET \t \"/wd/hub/session/eb35a1f1-c85b-400b-aeea-355389966f56/window_handle\"\n",
      "\u001b[1;30m[09:10:48] \u001b[0m \u001b[0;35mCOMMAND\t\u001b[0mGET \t \"/wd/hub/session/eb35a1f1-c85b-400b-aeea-355389966f56/window_handles\"\n",
      "\u001b[1;30m[09:10:48] \u001b[0m \u001b[0;35mCOMMAND\t\u001b[0mGET \t \"/wd/hub/session/eb35a1f1-c85b-400b-aeea-355389966f56/window_handle\"\n",
      "\u001b[1;30m[09:10:48] \u001b[0m \u001b[0;35mCOMMAND\t\u001b[0mPOST \t \"/wd/hub/session/eb35a1f1-c85b-400b-aeea-355389966f56/window\"\n",
      "\u001b[1;30m[09:10:48] \u001b[0m \u001b[0;35mCOMMAND\t\u001b[0mGET \t \"/wd/hub/session/eb35a1f1-c85b-400b-aeea-355389966f56/window_handle\"\n",
      "\u001b[1;30m[09:10:48] \u001b[0m \u001b[0;35mCOMMAND\t\u001b[0mPOST \t \"/wd/hub/session/eb35a1f1-c85b-400b-aeea-355389966f56/window/CDwindow-dd539ee9-3e49-428e-8de2-017d519e12d4/maximize\"\n",
      "\u001b[1;30m[09:10:48] \u001b[0m \u001b[0;35mCOMMAND\t\u001b[0mGET \t \"/wd/hub/session/eb35a1f1-c85b-400b-aeea-355389966f56/window/current/size\"\n",
      "{ x: 0, y: 0 }\n",
      "\u001b[1;30m[09:10:48] \u001b[0m \u001b[0;35mCOMMAND\t\u001b[0mPOST \t \"/wd/hub/session/eb35a1f1-c85b-400b-aeea-355389966f56/window/CDwindow-dd539ee9-3e49-428e-8de2-017d519e12d4/position\"\n",
      "\u001b[1;30m[09:10:48] \u001b[0m \u001b[0;35mCOMMAND\t\u001b[0mPOST \t \"/wd/hub/session/eb35a1f1-c85b-400b-aeea-355389966f56/window/CDwindow-dd539ee9-3e49-428e-8de2-017d519e12d4/size\"\n",
      "\u001b[1;30m[09:10:48] \u001b[0m \u001b[0;35mCOMMAND\t\u001b[0mPOST \t \"/wd/hub/session/eb35a1f1-c85b-400b-aeea-355389966f56/url\"\n",
      "\u001b[1;30m[09:10:48] \u001b[0m \u001b[0;35mCOMMAND\t\u001b[0mPOST \t \"/wd/hub/session/eb35a1f1-c85b-400b-aeea-355389966f56/element\"\n"
     ]
    },
    {
     "ename": "Error",
     "evalue": "An element could not be located on the page using the given search parameters.",
     "execution_count": 10,
     "output_type": "error",
     "traceback": [
      "Error: An element could not be located on the page using the given search parameters.",
      "    at element(\"[href*=\"/auth\"], [routerlink*=\"/auth\"]\") - C:\\Users\\brian.cullinan\\Documents\\jupytangular2\\node_modules\\webdriverio\\build\\lib\\commands\\click.js:12:17",
      "    at windowHandleSize(\"CDwindow-dd539ee9-3e49-428e-8de2-017d519e12d4\", [object Object]) - C:\\Users\\brian.cullinan\\Documents\\jupytangular2\\Selenium\\orchestration.ipynborchestration.ipynb[0]:33:28"
     ]
    }
   ],
   "source": [
    "var importer = require('../Core');\n",
    "var runSeleniumCell = importer.import('selenium cell');\n",
    "\n",
    "$$.async()\n",
    "runSeleniumCell('test docker selenium')\n",
    "    .then(r => $$.sendResult(r))\n",
    "    .catch(e => $$.sendError(e));\n"
   ]
  },
  {
   "cell_type": "markdown",
   "metadata": {},
   "source": [
    "Test docker selenium?"
   ]
  },
  {
   "cell_type": "code",
   "execution_count": null,
   "metadata": {
    "inputHidden": false,
    "outputHidden": false
   },
   "outputs": [],
   "source": [
    "var testLive = () => {\n",
    "    return client\n",
    "        .url('https://purchasesprint.actops.com')\n",
    "        .click('[href*=\"/auth\"], [routerlink*=\"/auth\"]');\n",
    "}\n",
    "module.exports = testLive();\n",
    "\n"
   ]
  },
  {
   "cell_type": "markdown",
   "metadata": {},
   "source": [
    "\n",
    "TODO:\n",
    "\n",
    "Auto fill fields in a live browser using the \n",
    "\n",
    "Transfer login state to current browser?\n",
    "\n"
   ]
  },
  {
   "cell_type": "code",
   "execution_count": null,
   "metadata": {},
   "outputs": [],
   "source": []
  }
 ],
 "metadata": {
  "kernel_info": {
   "name": "node_nteract"
  },
  "kernelspec": {
   "display_name": "Javascript (Node.js)",
   "language": "javascript",
   "name": "javascript"
  },
  "language_info": {
   "file_extension": ".js",
   "mimetype": "application/javascript",
   "name": "javascript",
   "version": "8.8.1"
  }
 },
 "nbformat": 4,
 "nbformat_minor": 4
}
