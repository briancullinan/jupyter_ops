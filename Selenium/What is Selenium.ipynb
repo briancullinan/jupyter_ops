{
 "cells": [
  {
   "cell_type": "markdown",
   "metadata": {},
   "source": [
    "# What is Selenium?\n",
    "\n",
    "## 1\n",
    "\n",
    "What environment do we use?\n",
    "\n",
    "See [What is Docker?](What%20is%20Docker.ipynb)\n",
    "\n",
    "Run Selenium in Docker?\n"
   ]
  },
  {
   "cell_type": "code",
   "execution_count": 1,
   "metadata": {
    "inputHidden": false,
    "outputHidden": false
   },
   "outputs": [
    {
     "data": {
      "text/plain": [
       "[Function: seleniumDocker]"
      ]
     },
     "execution_count": 1,
     "metadata": {},
     "output_type": "execute_result"
    }
   ],
   "source": [
    "var importer = require('../Core');\n",
    "var path = require('path');\n",
    "var writeFileSync = require('fs').writeFileSync;\n",
    "\n",
    "// add some run commands to the bash script\n",
    "var bashToRun = (code) => code.split('\\n').filter(n => n.trim().length > 0).map(l => 'RUN ' + l.trim())\n",
    "    .join('\\n').replace(/\\\\\\s*\\nRUN\\s*/ig, '\\\\\\n ');\n",
    "\n",
    "// create a selenium Dockerfile with a vnc connection\n",
    "var seleniumDocker = (outputFile) => {\n",
    "    return importer.interpretAll([\n",
    "        'run selenium',\n",
    "        // add some extra services\n",
    "        'linux dev tools',\n",
    "        'vnc html',\n",
    "        'vnc docker'\n",
    "    ]).then(r => {\n",
    "        // convert some results to Docker RUN commands instead of bash\n",
    "        r[1].code = bashToRun(r[1].code);\n",
    "        r[2].code = bashToRun(r[2].code);\n",
    "        return r.map(r => r.code).join('\\n');\n",
    "    })\n",
    "    .then(r => {\n",
    "        // save the Dockerfile\n",
    "        writeFileSync(outputFile, r);\n",
    "        return r;\n",
    "    })\n",
    "    .catch(e => console.log(e))\n",
    "};\n",
    "module.exports = seleniumDocker;\n",
    "seleniumDocker;\n"
   ]
  },
  {
   "cell_type": "markdown",
   "metadata": {},
   "source": [
    "How to set up selenium server?"
   ]
  },
  {
   "cell_type": "code",
   "execution_count": 2,
   "metadata": {
    "inputHidden": false,
    "outputHidden": false
   },
   "outputs": [
    {
     "data": {
      "text/plain": [
       "[Function: getSeleniumServer]"
      ]
     },
     "execution_count": 2,
     "metadata": {},
     "output_type": "execute_result"
    }
   ],
   "source": [
    "var importer = require('../Core');\n",
    "var path = require('path');\n",
    "var fs = require('fs');\n",
    "\n",
    "var DOWNLOAD_DIR = path.join(process.env.HOME || process.env.HOMEPATH || process.env.USERPROFILE, 'Downloads');\n",
    "var PROFILE_DIR = path.join(process.env.HOME || process.env.HOMEPATH || process.env.USERPROFILE, '.defaultProfile');\n",
    "\n",
    "var execCmd;\n",
    "var getSeleniumServer = (name = 'act-selenium') => {\n",
    "    try {\n",
    "        fs.mkdirSync(DOWNLOAD_DIR);\n",
    "    } catch (err) {\n",
    "        if (err.code != 'EEXIST') { throw err; }\n",
    "    }\n",
    "    try {\n",
    "        fs.mkdirSync(PROFILE_DIR);\n",
    "    } catch (err) {\n",
    "        if (err.code != 'EEXIST') { throw err; }\n",
    "    }\n",
    "    try {\n",
    "        fs.unlinkSync(path.join(PROFILE_DIR, 'SingletonLock'));\n",
    "    } catch (err) {\n",
    "        if (err.code != 'ENOENT') { throw err; }\n",
    "    }\n",
    "    var DOCKERFILE = path.resolve(path.join(__dirname, 'Dockerfile'));\n",
    "    return seleniumDocker(DOCKERFILE)\n",
    "    .then(() => importer.interpretAll('spawn child process'))\n",
    "    .then(r => {\n",
    "        execCmd = eval(\"'use strict';\" + r.code);\n",
    "        return execCmd('docker ps -a');\n",
    "    })\n",
    "    .then(r => {\n",
    "        if(r[0].indexOf(name) > -1) {\n",
    "            return execCmd('docker stop ' + name)\n",
    "                .then(r => new Promise(resolve => \n",
    "                    setTimeout(() => resolve(r), 1000)))\n",
    "                .then(() => execCmd('docker rm ' + name));\n",
    "        }\n",
    "    })\n",
    "    .then(() => new Promise(resolve => \n",
    "        setTimeout(() => resolve(), 1000)))\n",
    "    .then(() => {\n",
    "        var build = 'docker build -t ' + name + ' \"' \n",
    "            + path.dirname(DOCKERFILE) + '\"\\n'\n",
    "            + 'docker run --shm-size=3g -d '\n",
    "            + '--name ' + name + ' ' \n",
    "            + '-p 8888:8888 '\n",
    "            + '-p 6080:6080 '\n",
    "            + '-p 5900:5900 '\n",
    "            + '-p 4444:4444 '\n",
    "            + '-p 4200:4200 '\n",
    "            + '-p 3000:3000 '\n",
    "            // TODO: add profile dir back in when permissions works on windows\n",
    "            + '-v \"' + DOWNLOAD_DIR + '\":/data/downloads ' \n",
    "            + name + '\\n';\n",
    "        return execCmd(build)\n",
    "    })\n",
    "    .then(r => new Promise(resolve => setTimeout(() => resolve(r), 6000)))\n",
    "    .catch(e => console.log(e))\n",
    "};\n",
    "module.exports = getSeleniumServer;\n",
    "getSeleniumServer;\n",
    "\n"
   ]
  },
  {
   "cell_type": "code",
   "execution_count": 3,
   "metadata": {
    "collapsed": false,
    "inputHidden": false,
    "outputHidden": false
   },
   "outputs": [
    {
     "data": {
      "text/plain": [
       "[ 'Sending build context to Docker daemon  454.7kB\\r\\r\\nStep 1/24 : FROM selenium/standalone-chrome-debug\\n ---> 40c049ea25c4\\nStep 2/24 : EXPOSE 4200\\n ---> Using cache\\n ---> eb6b3939fbc0\\nStep 3/24 : EXPOSE 4444\\n ---> Using cache\\n ---> 6b56eca22d93\\nStep 4/24 : EXPOSE 3000\\n ---> Using cache\\n ---> 5261fddf4dff\\nStep 5/24 : ENV DBUS_SESSION_BUS_ADDRESS /dev/null\\n ---> Using cache\\n ---> 734daac0e767\\nStep 6/24 : ENV CHROME_USER_DATA_DIR /usr/profile\\n ---> Using cache\\n ---> 016e1f9ae11c\\nStep 7/24 : WORKDIR /home/seluser\\n ---> Using cache\\n ---> 9de0acbe245c\\nStep 8/24 : USER root\\n ---> Using cache\\n ---> 4bfa0885fd3e\\nStep 9/24 : RUN mkdir /usr/profile\\n ---> Using cache\\n ---> 9349dd1e5667\\nStep 10/24 : RUN mkdir /usr/downloads\\n ---> Using cache\\n ---> c8654ff1aae7\\nStep 11/24 : RUN chown seluser:seluser -R /usr/profile\\n ---> Using cache\\n ---> c01e9cd2717f\\nStep 12/24 : RUN chown seluser:seluser -R /usr/downloads\\n ---> Using cache\\n ---> 789bf1930336\\nStep 13/24 : RUN chmod 777 -R /usr/profile\\n ---> Using cache\\n ---> b6adc269deaa\\nStep 14/24 : RUN chmod 777 -R /usr/downloads\\n ---> Using cache\\n ---> 57a95d8c7dea\\nStep 15/24 : RUN sed -i \\'/wait \\\\$NODE_PID/ised -i -e s/exit_type\":\"Crashed/exit_type\":\"None/g /usr/profile/Default/Preferences &\\' /opt/bin/entry_point.sh\\n ---> Using cache\\n ---> d50b4300b442\\nStep 16/24 : RUN sed -i \\'/wait \\\\$NODE_PID/ised -i -e s/exited_cleanly\":false/exited_cleanly\":true/g /usr/profile/Default/Preferences &\\' /opt/bin/entry_point.sh\\n ---> Using cache\\n ---> 44e7e4e5960d\\nStep 17/24 : RUN mkdir /var/lib/apt/lists/partial\\n ---> Using cache\\n ---> e7fb35908e83\\nStep 18/24 : RUN apt-get -qq update\\n ---> Using cache\\n ---> da953a5647d1\\nStep 19/24 : RUN apt-get install -y --fix-missing git curl wget zip unzip vim dos2unix g++ python net-tools make websockify novnc\\n ---> Using cache\\n ---> b3cd64ad3325\\nStep 20/24 : RUN mkdir -p novnc ; if git --work-tree=./novnc branch | grep \\'master\\'; then  echo \"Already checked out novnc\";  else  git clone https://github.com/novnc/noVNC.git ./novnc ;  fi ; ls -la novnc ; pwd\\n ---> Using cache\\n ---> 10728305e4fe\\nStep 21/24 : RUN dos2unix /home/seluser/novnc/utils/launch.sh\\n ---> Using cache\\n ---> 030678fb2974\\nStep 22/24 : RUN sed -i -e \\'s/x11vnc/x11vnc -noxdamage/g\\' /opt/bin/entry_point.sh\\n ---> Using cache\\n ---> 7f67bd1591b7\\nStep 23/24 : RUN sed -i \\'/wait \\\\$NODE_PID/i/home/seluser/novnc/utils/launch.sh --vnc localhost:5900 &\\' /opt/bin/entry_point.sh\\n ---> Using cache\\n ---> 6043ae98500a\\nStep 24/24 : USER seluser\\n ---> Using cache\\n ---> dabf7613bfab\\nSuccessfully built dabf7613bfab\\nSuccessfully tagged act-selenium:latest\\n',\n",
       "  '40c0e0080d85c24c03f31f7c79a5703b9bb52bf10a55335578835f00237f61bf\\n' ]"
      ]
     },
     "execution_count": 3,
     "metadata": {},
     "output_type": "execute_result"
    }
   ],
   "source": [
    "$$.async();\n",
    "getSeleniumServer()\n",
    "    .then(r => $$.sendResult(r))\n",
    "    .catch(e => $$.sendError(e));\n",
    "\n"
   ]
  },
  {
   "cell_type": "markdown",
   "metadata": {},
   "source": [
    "# 2\n",
    "\n",
    "How to connect to VNC through the web browser?\n",
    "\n",
    "[Click here to open](http://localhost:6080/vnc.html?password=secret&host=localhost&port=6080&autoconnect=true&resize=downscale&view_only=true&reconnect=true) in a separate browser\n"
   ]
  },
  {
   "cell_type": "code",
   "execution_count": 1,
   "metadata": {
    "inputHidden": false,
    "outputHidden": false
   },
   "outputs": [
    {
     "data": {
      "text/plain": [
       "[Function: vncIframe]"
      ]
     },
     "execution_count": 1,
     "metadata": {},
     "output_type": "execute_result"
    }
   ],
   "source": [
    "\n",
    "var urlEncode = (obj) => {\n",
    "    return Object.keys(obj).map(k => encodeURIComponent(k) + '=' + encodeURIComponent(obj[k])).join('&');\n",
    "}\n",
    "\n",
    "var vncIframe = (options = {\n",
    "    password: 'secret',\n",
    "    host: 'localhost',\n",
    "    port: 6080,\n",
    "    autoconnect: true,\n",
    "    resize: 'downscale',\n",
    "    view_only: true,\n",
    "    reconnect: true}) => `\n",
    "<div style=\"display:block; width:100%; padding-bottom:70%;position:relative;\">\n",
    "<iframe id=\"vnc\"\n",
    "style=\"position:absolute;top:0;right:0;bottom:0;left:0;width:100%;height:100%;border:0;\" \n",
    "src=\"//local:6080/vnc.html?${urlEncode(options)}\"></iframe></div>\n",
    "`;\n",
    "module.exports = vncIframe;\n",
    "vncIframe;\n",
    "\n"
   ]
  },
  {
   "cell_type": "code",
   "execution_count": 5,
   "metadata": {
    "collapsed": false,
    "inputHidden": false,
    "outputHidden": false
   },
   "outputs": [
    {
     "data": {
      "text/html": [
       "\n",
       "<div style=\"display:block; width:100%; padding-bottom:70%;position:relative;\">\n",
       "<iframe id=\"vnc\"\n",
       "style=\"position:absolute;top:0;right:0;bottom:0;left:0;width:100%;height:100%;border:0;\" \n",
       "src=\"//local:6080/vnc.html?password=secret&host=localhost&port=6080&autoconnect=true&resize=downscale&view_only=true&reconnect=true\"></iframe></div>\n"
      ]
     },
     "execution_count": 5,
     "metadata": {},
     "output_type": "execute_result"
    }
   ],
   "source": [
    "$$.mime({'text/html': vncIframe()});\n"
   ]
  },
  {
   "cell_type": "markdown",
   "metadata": {},
   "source": [
    "## 3\n",
    "\n",
    "How to run a selenium cell on the Docker machine?\n",
    "\n"
   ]
  },
  {
   "cell_type": "code",
   "execution_count": null,
   "metadata": {},
   "outputs": [],
   "source": [
    "var importer = require('../Core');\n",
    "var sync = require('wdio-sync')\n",
    "\n",
    "var runSeleniumCell = (search) => {\n",
    "    var client, getCredentials, result, getAllXPath, getAllUntil;\n",
    "    return importer.interpretAll([\n",
    "        'webdriver client',\n",
    "        'decrypt password',\n",
    "        'all xpath elements',\n",
    "        'get all elements until'])\n",
    "    .then(r => {\n",
    "        getCredentials = r[1].runInNewContext();\n",
    "        result = r;\n",
    "        return r[0].runInNewContext();\n",
    "    })\n",
    "    .then(r => {\n",
    "        client = r();\n",
    "        getAllXPath = result[2].runInNewContext({client});\n",
    "        getAllUntil = result[3].runInNewContext({client});\n",
    "    })\n",
    "    .then(() => importer.interpretAll(search))\n",
    "    .then(r => typeof search == 'string' \n",
    "          ? r.runFresherInNewContext({browser: client, client, getCredentials, getAllXPath, getAllUntil})\n",
    "          : importer.runAllPromises(r.map(cell => ((resolve) => {\n",
    "        return resolve(cell.runFresherInNewContext({browser: client, client, getCredentials, getAllXPath, getAllUntil}));\n",
    "    }))))\n",
    "};\n",
    "module.exports = runSeleniumCell;\n",
    "runSeleniumCell;\n",
    "\n"
   ]
  },
  {
   "cell_type": "code",
   "execution_count": 7,
   "metadata": {},
   "outputs": [
    {
     "name": "stdout",
     "output_type": "stream",
     "text": [
      "Initializing webdriver on localhost\n"
     ]
    }
   ],
   "source": [
    "$$.async()\n",
    "runSeleniumCell('test docker selenium')\n",
    "    .then(r => $$.sendResult(r))\n",
    "    .catch(e => $$.sendError(e));\n"
   ]
  },
  {
   "cell_type": "markdown",
   "metadata": {},
   "source": [
    "Test docker selenium?"
   ]
  },
  {
   "cell_type": "code",
   "execution_count": 8,
   "metadata": {
    "inputHidden": false,
    "outputHidden": false
   },
   "outputs": [],
   "source": [
    "if(typeof client !== 'undefined') {\n",
    "    client.url('https://purchasesprint.actops.com');\n",
    "    client.click('[href*=\"/auth\"], [routerlink*=\"/auth\"]');\n",
    "    module.exports = client;\n",
    "}\n"
   ]
  },
  {
   "cell_type": "markdown",
   "metadata": {},
   "source": [
    "\n",
    "TODO:\n",
    "\n",
    "Auto fill fields in a live browser using the \n",
    "\n",
    "Transfer login state to current browser?\n",
    "\n"
   ]
  },
  {
   "cell_type": "code",
   "execution_count": null,
   "metadata": {},
   "outputs": [],
   "source": []
  }
 ],
 "metadata": {
  "kernel_info": {
   "name": "node_nteract"
  },
  "kernelspec": {
   "display_name": "Javascript (Node.js)",
   "language": "javascript",
   "name": "javascript"
  },
  "language_info": {
   "file_extension": ".js",
   "mimetype": "application/javascript",
   "name": "javascript",
   "version": "8.6.0"
  }
 },
 "nbformat": 4,
 "nbformat_minor": 4
}
