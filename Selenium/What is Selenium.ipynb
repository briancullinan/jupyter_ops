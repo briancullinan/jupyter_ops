{
  "cells": [
    {
      "cell_type": "markdown",
      "source": [
        "# What is Selenium?\n",
        "\n",
        "## 1\n",
        "\n",
        "What environment do we use?\n",
        "\n",
        "See [What is Docker?](What%20is%20Docker.ipynb)\n",
        "\n",
        "Run Selenium in Docker?\n"
      ],
      "metadata": {}
    },
    {
      "cell_type": "code",
      "source": [
        "var path = require('path');\n",
        "var corePath = path.resolve(path.join(__dirname, '..', 'Core'));\n",
        "var importer = require(corePath);\n",
        "var writeFileSync = require('fs').writeFileSync;\n",
        "\n",
        "// add some run commands to the bash script\n",
        "var bashToRun = (code) => code.split('\\n').map(l => 'RUN ' + l)\n",
        "    .join('\\n').replace(/\\\\\\s*\\nRUN\\s*/ig, '\\\\\\n ');\n",
        "\n",
        "// create a selenium Dockerfile with a vnc connection\n",
        "var interpretAllPath = path.join('..', 'Core', 'How to interpret all notebooks.ipynb');\n",
        "var seleniumDocker = (outputFile) => {\n",
        "    return importer.importNotebook(interpretAllPath)\n",
        "        .then((f) => {\n",
        "            return Promise.all([\n",
        "            interpret('run selenium'),\n",
        "            // add some extra services\n",
        "            interpret('linux dev tools'),\n",
        "            interpret('vnc html'),\n",
        "            interpret('vnc docker')\n",
        "        ])})\n",
        "        .then(r => r.map(r => r[0]))\n",
        "        .then(r => interpretObject(r))\n",
        "        .then(r => {\n",
        "            // lets fix the middle result\n",
        "            r[1].code = bashToRun(r[1].code);\n",
        "            r[2].code = bashToRun(r[2].code);\n",
        "            return r.map(r => r.code).join('\\n');\n",
        "        })\n",
        "        .then(r => {\n",
        "            // save the Dockerfile\n",
        "            writeFileSync(outputFile, r);\n",
        "            return r;\n",
        "        });\n",
        "};\n",
        "(seleniumDocker);\n"
      ],
      "outputs": [
        {
          "output_type": "execute_result",
          "execution_count": 1,
          "data": {
            "text/plain": [
              "[Function: seleniumDocker]"
            ]
          },
          "metadata": {}
        }
      ],
      "execution_count": 1,
      "metadata": {
        "inputHidden": false,
        "outputHidden": false
      }
    },
    {
      "cell_type": "markdown",
      "source": [
        "How to set up selenium server?"
      ],
      "metadata": {}
    },
    {
      "cell_type": "code",
      "source": [
        "var path = require('path');\n",
        "var execSync = require('child_process').execSync;\n",
        "var DOWNLOAD_DIR = path.join(process.env.HOME || process.env.HOMEPATH || process.env.USERPROFILE, 'Downloads');\n",
        "var PROFILE_DIR = path.join(process.env.HOME || process.env.HOMEPATH || process.env.USERPROFILE, '.defaultProfile');\n",
        "var getSeleniumServer = () => {\n",
        "    try {\n",
        "        fs.mkdirSync(DOWNLOAD_DIR);\n",
        "    } catch (err) {\n",
        "        if (err.code != 'EEXIST') {\n",
        "            throw err;\n",
        "        }\n",
        "    }\n",
        "    try {\n",
        "        fs.mkdirSync(PROFILE_DIR);\n",
        "    } catch (err) {\n",
        "        if (err.code != 'EEXIST') {\n",
        "            throw err;\n",
        "        }\n",
        "    }\n",
        "    return seleniumDocker(path.join(__dirname, 'Dockerfile'))\n",
        "        .then(r => execSync('docker build -t act-selenium .').toString())\n",
        "        .then(r => {\n",
        "            var ps = execSync('docker ps -a').toString();\n",
        "            if(ps.indexOf('act-selenium') !== -1) {\n",
        "                return r \n",
        "                    + execSync('docker stop act-selenium').toString()\n",
        "                    + execSync('docker rm act-selenium').toString();\n",
        "            }\n",
        "            return '';\n",
        "        })\n",
        "        .then(r => r + execSync('docker run --user=seluser --shm-size=2g --name act-selenium -d -p 8888:8888 -p 6080:6080 -p 5900:5900 -p 4444:4444 -p 4200:4200 -p 3000:3000 -v \"' + PROFILE_DIR + '\":/usr/profile -v \"' + DOWNLOAD_DIR + '\":/data/downloads act-selenium').toString());\n",
        "};\n",
        "(getSeleniumServer);\n"
      ],
      "outputs": [
        {
          "output_type": "execute_result",
          "execution_count": 2,
          "data": {
            "text/plain": [
              "[Function: getSeleniumServer]"
            ]
          },
          "metadata": {}
        }
      ],
      "execution_count": 2,
      "metadata": {
        "inputHidden": false,
        "outputHidden": false
      }
    },
    {
      "cell_type": "code",
      "source": [
        "$$.async();\n",
        "getSeleniumServer()\n",
        "    .then(r => $$.sendResult(r))\n",
        "    .catch(r => $$.sendError(r));"
      ],
      "outputs": [
        {
          "output_type": "execute_result",
          "execution_count": 3,
          "data": {
            "text/plain": [
              "'Sending build context to Docker daemon  54.78kB\\r\\r\\nStep 1/15 : FROM selenium/standalone-chrome-debug\\n ---> 870685c556e8\\nStep 2/15 : EXPOSE 4200\\n ---> Using cache\\n ---> da859600ae82\\nStep 3/15 : EXPOSE 4444\\n ---> Using cache\\n ---> 51ab31a51459\\nStep 4/15 : EXPOSE 3000\\n ---> Using cache\\n ---> de8866927da3\\nStep 5/15 : ENV CHROME_USER_DATA_DIR /usr/profile\\n ---> Using cache\\n ---> 3d01edce8e39\\nStep 6/15 : WORKDIR /home/seluser\\n ---> Using cache\\n ---> a80023c69bc3\\nStep 7/15 : USER root\\n ---> Using cache\\n ---> 579b9aa44ccd\\nStep 8/15 : VOLUME /usr/profile\\n ---> Using cache\\n ---> 850a03bab611\\nStep 9/15 : VOLUME /data/downloads\\n ---> Using cache\\n ---> 8a67833fdeff\\nStep 10/15 : RUN mkdir /var/lib/apt/lists/partial\\n ---> Using cache\\n ---> ed475371f67a\\nStep 11/15 : RUN apt-get -qq update\\n ---> Using cache\\n ---> 14381af16b55\\nStep 12/15 : RUN apt-get install -y --fix-missing git curl wget zip unzip vim dos2unix g++ python net-tools make websockify novnc\\n ---> Using cache\\n ---> 17dcb0f8d702\\nStep 13/15 : RUN mkdir -p novnc ; if git --work-tree=./novnc branch | grep \\'master\\'; then  echo \"Already checked out novnc\";  else  git clone https://github.com/novnc/noVNC.git ./novnc ;  fi ; ls -la novnc ; pwd\\n ---> Using cache\\n ---> 05987a8e0b3b\\nStep 14/15 : RUN dos2unix /home/seluser/novnc/utils/launch.sh\\n ---> Using cache\\n ---> a820e0a23805\\nStep 15/15 : RUN sed -i \\'/wait \\\\$NODE_PID/i/home/seluser/novnc/utils/launch.sh --vnc localhost:5900 &\\' /opt/bin/entry_point.sh\\n ---> Using cache\\n ---> d36a35a64135\\nSuccessfully built d36a35a64135\\nSuccessfully tagged act-selenium:latest\\nSECURITY WARNING: You are building a Docker image from Windows against a non-Windows Docker host. All files and directories added to build context will have \\'-rwxr-xr-x\\' permissions. It is recommended to double check and reset permissions for sensitive files and directories.\\nact-selenium\\nact-selenium\\n8fd343b4b667ff67610c51574b0a5a34324f68e96868386d17647181261b3602\\n'"
            ]
          },
          "metadata": {}
        }
      ],
      "execution_count": 3,
      "metadata": {
        "collapsed": false,
        "outputHidden": false,
        "inputHidden": false
      }
    },
    {
      "cell_type": "markdown",
      "source": [
        "# 2\n",
        "\n",
        "How to connect to VNC through the web browser?\n",
        "\n",
        "[Click here to open](http://localhost:6080/vnc.html?password=secret&host=localhost&port=6080&autoconnect=true&resize=downscale&view_only=true) in a separate browser\n"
      ],
      "metadata": {}
    },
    {
      "cell_type": "code",
      "source": [
        "var vncIframe = () => `\n",
        "<div style=\"display:block; width:100%; padding-bottom:75%;position:relative;\">\n",
        "<iframe id=\"vnc\"\n",
        "style=\"position:absolute;top:0;right:0;bottom:0;left:0;width:100%;height:100%;border:0;\" \n",
        "src=\"http://localhost:6080/vnc.html?password=secret&amp;host=localhost&amp;port=6080&amp;autoconnect=true&amp;resize=downscale&amp;view_only=true\"></iframe></div>\n",
        "`;\n",
        "(vncIframe);"
      ],
      "outputs": [],
      "execution_count": 6,
      "metadata": {
        "inputHidden": false,
        "outputHidden": false
      }
    },
    {
      "cell_type": "code",
      "source": [
        "$$.mime({'text/html': vncIframe()});"
      ],
      "outputs": [],
      "execution_count": 8,
      "metadata": {
        "collapsed": false,
        "outputHidden": false,
        "inputHidden": false
      }
    },
    {
      "cell_type": "markdown",
      "source": [
        "## 3\n",
        "\n",
        "How to run a selenium test on the Docker machine?\n"
      ],
      "metadata": {}
    },
    {
      "cell_type": "code",
      "source": [],
      "outputs": [],
      "execution_count": 4,
      "metadata": {
        "inputHidden": false,
        "outputHidden": false
      }
    }
  ],
  "metadata": {
    "kernel_info": {
      "name": "node_nteract"
    },
    "kernelspec": {
      "name": "node_nteract",
      "language": "javascript",
      "display_name": "Node.js (nteract)"
    },
    "language_info": {
      "name": "javascript",
      "version": "6.5.0",
      "mimetype": "application/javascript",
      "file_extension": ".js"
    }
  },
  "nbformat": 4,
  "nbformat_minor": 4
}