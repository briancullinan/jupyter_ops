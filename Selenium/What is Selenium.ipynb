{
 "cells": [
  {
   "cell_type": "markdown",
   "metadata": {},
   "source": [
    "# What is Selenium?\n",
    "\n",
    "## 1\n",
    "\n",
    "What environment do we use?\n",
    "\n",
    "See [What is Docker?](What%20is%20Docker.ipynb)\n",
    "\n",
    "Run Selenium in Docker?\n"
   ]
  },
  {
   "cell_type": "code",
   "execution_count": 1,
   "metadata": {
    "inputHidden": false,
    "outputHidden": false
   },
   "outputs": [
    {
     "data": {
      "text/plain": [
       "[Function: seleniumDocker]"
      ]
     },
     "execution_count": 1,
     "metadata": {},
     "output_type": "execute_result"
    }
   ],
   "source": [
    "var importer = require('../Core');\r",
    "var fs = require('fs');\r",
    "\r",
    "// add some run commands to the bash script\r",
    "var bashToRun = (code) => code.split('\\n').filter(n => n.trim().length > 0).map(l => 'RUN ' + l.trim())\r",
    "    .join('\\n').replace(/\\\\\\s*\\nRUN\\s*/ig, '\\\\\\n ');\r",
    "\r",
    "// create a selenium Dockerfile with a vnc connection\r",
    "var seleniumDocker = (outputFile) => {\r",
    "    return importer.interpret([\r",
    "        'run selenium',\r",
    "        // add some extra services\r",
    "        'linux dev tools',\r",
    "        'vnc html',\r",
    "        'vnc docker'\r",
    "    ]).then(r => {\r",
    "        // convert some results to Docker RUN commands instead of bash\r",
    "        r[1].code = bashToRun(r[1].code);\r",
    "        r[2].code = bashToRun(r[2].code);\r",
    "        return r.map(r => r.code).join('\\n');\r",
    "    })\r",
    "        .then(r => {\r",
    "            // save the Dockerfile\r",
    "            fs.writeFileSync(outputFile, r);\r",
    "            return r;\r",
    "        })\r",
    "        .catch(e => console.log(e))\r",
    "};\r",
    "module.exports = seleniumDocker;\r"
   ]
  },
  {
   "cell_type": "markdown",
   "metadata": {},
   "source": [
    "How to set up selenium server?"
   ]
  },
  {
   "cell_type": "code",
   "execution_count": 2,
   "metadata": {
    "inputHidden": false,
    "outputHidden": false
   },
   "outputs": [
    {
     "data": {
      "text/plain": [
       "[Function: getSeleniumServer]"
      ]
     },
     "execution_count": 2,
     "metadata": {},
     "output_type": "execute_result"
    }
   ],
   "source": [
    "var importer = require('../Core');\r",
    "var path = require('path');\r",
    "var fs = require('fs');\r",
    "\r",
    "var DOWNLOAD_DIR = path.join(process.env.HOME || process.env.HOMEPATH || process.env.USERPROFILE, 'Downloads');\r",
    "var PROFILE_DIR = path.join(process.env.HOME || process.env.HOMEPATH || process.env.USERPROFILE, '.defaultProfile');\r",
    "\r",
    "var execCmd;\r",
    "var getSeleniumServer = (name = 'act-selenium') => {\r",
    "    try {\r",
    "        fs.mkdirSync(DOWNLOAD_DIR);\r",
    "    } catch (err) {\r",
    "        if (err.code != 'EEXIST') {\r",
    "            throw err;\r",
    "        }\r",
    "    }\r",
    "    try {\r",
    "        fs.mkdirSync(PROFILE_DIR);\r",
    "    } catch (err) {\r",
    "        if (err.code != 'EEXIST') {\r",
    "            throw err;\r",
    "        }\r",
    "    }\r",
    "    try {\r",
    "        fs.unlinkSync(path.join(PROFILE_DIR, 'SingletonLock'));\r",
    "    } catch (err) {\r",
    "        if (err.code != 'ENOENT') {\r",
    "            throw err;\r",
    "        }\r",
    "    }\r",
    "    var DOCKERFILE = path.resolve(path.join(__dirname, 'Dockerfile'));\r",
    "    return seleniumDocker(DOCKERFILE)\r",
    "        .then(() => importer.import('spawn child process'))\r",
    "        .then(execCmd => execCmd('docker ps -a'))\r",
    "        .then(r => {\r",
    "            if (r[0].indexOf(name) > -1) {\r",
    "                return execCmd('docker stop ' + name)\r",
    "                    .then(r => new Promise(resolve =>\r",
    "                        setTimeout(() => resolve(r), 1000)))\r",
    "                    .then(() => execCmd('docker rm ' + name));\r",
    "            }\r",
    "        })\r",
    "        .then(() => new Promise(resolve =>\r",
    "            setTimeout(() => resolve(), 1000)))\r",
    "        .then(() => {\r",
    "            var build = 'docker build -t ' + name + ' \"'\r",
    "                + path.dirname(DOCKERFILE) + '\"\\n'\r",
    "                + 'docker run --shm-size=3g -d '\r",
    "                + '--name ' + name + ' '\r",
    "                + '-p 8888:8888 '\r",
    "                + '-p 6080:6080 '\r",
    "                + '-p 5900:5900 '\r",
    "                + '-p 4444:4444 '\r",
    "                + '-p 4200:4200 '\r",
    "                + '-p 3000:3000 '\r",
    "                // TODO: add profile dir back in when permissions works on windows\r",
    "                + '-v \"' + DOWNLOAD_DIR + '\":/data/downloads '\r",
    "                + name + '\\n';\r",
    "            return execCmd(build)\r",
    "        })\r",
    "        .then(r => new Promise(resolve => setTimeout(() => resolve(r), 6000)))\r",
    "        .catch(e => console.log(e))\r",
    "};\r",
    "module.exports = getSeleniumServer;\r",
    "getSeleniumServer;\r",
    "\r"
   ]
  },
  {
   "cell_type": "code",
   "execution_count": 4,
   "metadata": {
    "collapsed": false,
    "inputHidden": false,
    "outputHidden": false
   },
   "outputs": [
    {
     "ename": "ReferenceError",
     "evalue": "getSeleniumServer is not defined",
     "execution_count": 4,
     "output_type": "error",
     "traceback": [
      "evalmachine.<anonymous>:2",
      "getSeleniumServer()",
      "^",
      "",
      "ReferenceError: getSeleniumServer is not defined",
      "    at evalmachine.<anonymous>:2:1",
      "    at ContextifyScript.Script.runInThisContext (vm.js:50:33)",
      "    at Object.runInThisContext (vm.js:139:38)",
      "    at run ([eval]:775:15)",
      "    at onRunRequest ([eval]:620:18)",
      "    at onMessage ([eval]:588:13)",
      "    at emitTwo (events.js:125:13)",
      "    at process.emit (events.js:213:7)",
      "    at emit (internal/child_process.js:774:12)",
      "    at _combinedTickCallback (internal/process/next_tick.js:141:11)"
     ]
    }
   ],
   "source": [
    "$$.async();\r",
    "getSeleniumServer()\r",
    "    .then(r => $$.sendResult(r))\r",
    "    .catch(e => $$.sendError(e));\r",
    "\r"
   ]
  },
  {
   "cell_type": "markdown",
   "metadata": {},
   "source": [
    "# 2\n",
    "\n",
    "How to connect to VNC through the web browser?\n",
    "\n",
    "[Click here to open](http://localhost:6080/vnc.html?password=secret&host=localhost&port=6080&autoconnect=true&resize=downscale&view_only=true&reconnect=true) in a separate browser\n"
   ]
  },
  {
   "cell_type": "code",
   "execution_count": 1,
   "metadata": {
    "inputHidden": false,
    "outputHidden": false
   },
   "outputs": [
    {
     "data": {
      "text/plain": [
       "[Function: vncIframe]"
      ]
     },
     "execution_count": 1,
     "metadata": {},
     "output_type": "execute_result"
    }
   ],
   "source": [
    "var urlEncode = (obj) => {\r",
    "    return Object.keys(obj).map(k => encodeURIComponent(k) + '=' + encodeURIComponent(obj[k])).join('&');\r",
    "}\r",
    "\r",
    "var vncIframe = (options = {\r",
    "    password: 'secret',\r",
    "    host: 'localhost',\r",
    "    port: 6080,\r",
    "    autoconnect: true,\r",
    "    resize: 'downscale',\r",
    "    view_only: true,\r",
    "    reconnect: true\r",
    "}) => `\r",
    "<div style=\"display:block; width:100%; padding-bottom:70%;position:relative;\">\r",
    "<iframe id=\"vnc\"\r",
    "style=\"position:absolute;top:0;right:0;bottom:0;left:0;width:100%;height:100%;border:0;\" \r",
    "src=\"//local:6080/vnc.html?${urlEncode(options)}\"></iframe></div>\r",
    "`;\r",
    "module.exports = vncIframe;\r",
    "vncIframe;\r",
    "\r"
   ]
  },
  {
   "cell_type": "code",
   "execution_count": 2,
   "metadata": {
    "collapsed": false,
    "inputHidden": false,
    "outputHidden": false
   },
   "outputs": [
    {
     "data": {
      "text/html": [
       "\n",
       "<div style=\"display:block; width:100%; padding-bottom:70%;position:relative;\">\n",
       "<iframe id=\"vnc\"\n",
       "style=\"position:absolute;top:0;right:0;bottom:0;left:0;width:100%;height:100%;border:0;\" \n",
       "src=\"//local:6080/vnc.html?password=secret&host=localhost&port=6080&autoconnect=true&resize=downscale&view_only=true&reconnect=true\"></iframe></div>\n"
      ]
     },
     "execution_count": 2,
     "metadata": {},
     "output_type": "execute_result"
    }
   ],
   "source": [
    "$$.mime({'text/html': vncIframe()});\r"
   ]
  },
  {
   "cell_type": "markdown",
   "metadata": {},
   "source": [
    "## 3\n",
    "\n",
    "How to run a selenium cell on the Docker machine?\n",
    "\n"
   ]
  },
  {
   "cell_type": "code",
   "execution_count": 1,
   "metadata": {},
   "outputs": [
    {
     "data": {
      "text/plain": [
       "[Function: runSeleniumCell]"
      ]
     },
     "execution_count": 1,
     "metadata": {},
     "output_type": "execute_result"
    }
   ],
   "source": [
    "var importer = require('../Core');\r",
    "\r",
    "var runSeleniumCell = (search) => {\r",
    "    var client, getCredentials, getAllXPath, getAllUntil;\r",
    "    return importer.import([\r",
    "        'webdriver client',\r",
    "        'decrypt password'\r",
    "    ])\r",
    "        .then(r => {\r",
    "            getCredentials = r[1];\r",
    "            client = r[0]();\r",
    "            return importer.import([\r",
    "                'all xpath elements',\r",
    "                'get all elements until'\r",
    "            ], {client});\r",
    "        })\r",
    "        .then(r => {\r",
    "            getAllXPath = r[0];\r",
    "            getAllUntil = r[1];\r",
    "            return importer.import(search, {\r",
    "                browser: client,\r",
    "                client,\r",
    "                getCredentials,\r",
    "                getAllXPath,\r",
    "                getAllUntil\r",
    "            });\r",
    "        })\r",
    "        .catch(e => console.log(e))\r",
    "};\r",
    "module.exports = runSeleniumCell;\r"
   ]
  },
  {
   "cell_type": "code",
   "execution_count": 2,
   "metadata": {},
   "outputs": [
    {
     "name": "stdout",
     "output_type": "stream",
     "text": [
      "Initializing webdriver on localhost\n",
      "{ Error\n",
      "  message: '<!DOCTYPE html>\\n<html lang=\"en\">\\n<head>\\n<meta charset=\"utf-8\">\\n<title>Error</title>\\n</head>\\n<body>\\n<pre>Error: not implemented!<br> &nbsp; &nbsp;at router.get (evalmachine.&lt;anonymous&gt;:22:15)<br> &nbsp; &nbsp;at Layer.handle [as handle_request] (/Users/briancullinan/jupytangular2/node_modules/express/lib/router/layer.js:95:5)<br> &nbsp; &nbsp;at next (/Users/briancullinan/jupytangular2/node_modules/express/lib/router/route.js:137:13)<br> &nbsp; &nbsp;at Route.dispatch (/Users/briancullinan/jupytangular2/node_modules/express/lib/router/route.js:112:3)<br> &nbsp; &nbsp;at Layer.handle [as handle_request] (/Users/briancullinan/jupytangular2/node_modules/express/lib/router/layer.js:95:5)<br> &nbsp; &nbsp;at /Users/briancullinan/jupytangular2/node_modules/express/lib/router/index.js:281:22<br> &nbsp; &nbsp;at param (/Users/briancullinan/jupytangular2/node_modules/express/lib/router/index.js:354:14)<br> &nbsp; &nbsp;at param (/Users/briancullinan/jupytangular2/node_modules/express/lib/router/index.js:365:14)<br> &nbsp; &nbsp;at Function.process_params (/Users/briancullinan/jupytangular2/node_modules/express/lib/router/index.js:410:3)<br> &nbsp; &nbsp;at next (/Users/briancullinan/jupytangular2/node_modules/express/lib/router/index.js:275:10)</pre>\\n</body>\\n</html>\\n',\n",
      "  type: 'RuntimeError' }\n"
     ]
    }
   ],
   "source": [
    "$$.async()\r",
    "runSeleniumCell('test docker selenium')\r",
    "    .then(r => $$.sendResult(r))\r",
    "    .catch(e => $$.sendError(e));\r"
   ]
  },
  {
   "cell_type": "markdown",
   "metadata": {},
   "source": [
    "Test docker selenium?"
   ]
  },
  {
   "cell_type": "code",
   "execution_count": 8,
   "metadata": {
    "inputHidden": false,
    "outputHidden": false
   },
   "outputs": [],
   "source": [
    "if (typeof client !== 'undefined') {\r",
    "    client.url('https://purchasesprint.actops.com');\r",
    "    client.click('[href*=\"/auth\"], [routerlink*=\"/auth\"]');\r",
    "    module.exports = client;\r",
    "}\r"
   ]
  },
  {
   "cell_type": "markdown",
   "metadata": {},
   "source": [
    "\n",
    "TODO:\n",
    "\n",
    "Auto fill fields in a live browser using the \n",
    "\n",
    "Transfer login state to current browser?\n",
    "\n"
   ]
  },
  {
   "cell_type": "code",
   "execution_count": null,
   "metadata": {},
   "outputs": [],
   "source": []
  }
 ],
 "metadata": {
  "kernel_info": {
   "name": "node_nteract"
  },
  "kernelspec": {
   "display_name": "Javascript (Node.js)",
   "language": "javascript",
   "name": "javascript"
  },
  "language_info": {
   "file_extension": ".js",
   "mimetype": "application/javascript",
   "name": "javascript",
   "version": "8.6.0"
  }
 },
 "nbformat": 4,
 "nbformat_minor": 4
}
