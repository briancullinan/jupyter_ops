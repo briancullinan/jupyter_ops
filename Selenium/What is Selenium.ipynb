{
 "cells": [
  {
   "cell_type": "markdown",
   "metadata": {},
   "source": [
    "# What is Selenium?\n",
    "\n",
    "## 1\n",
    "\n",
    "What environment do we use?\n",
    "\n",
    "See [What is Docker?](What%20is%20Docker.ipynb)\n",
    "\n",
    "Run Selenium in Docker?\n"
   ]
  },
  {
   "cell_type": "code",
   "execution_count": 1,
   "metadata": {
    "inputHidden": false,
    "outputHidden": false
   },
   "outputs": [
    {
     "data": {
      "text/plain": [
       "[Function: seleniumDocker]"
      ]
     },
     "execution_count": 1,
     "metadata": {},
     "output_type": "execute_result"
    }
   ],
   "source": [
    "var importer = require('../Core');\n",
    "var path = require('path');\n",
    "var writeFileSync = require('fs').writeFileSync;\n",
    "\n",
    "// add some run commands to the bash script\n",
    "var bashToRun = (code) => code.split('\\n').filter(n => n.trim().length > 0).map(l => 'RUN ' + l.trim())\n",
    "    .join('\\n').replace(/\\\\\\s*\\nRUN\\s*/ig, '\\\\\\n ');\n",
    "\n",
    "// create a selenium Dockerfile with a vnc connection\n",
    "var seleniumDocker = (outputFile) => {\n",
    "    return importer.interpretAll([\n",
    "        'run selenium',\n",
    "        // add some extra services\n",
    "        'linux dev tools',\n",
    "        'vnc html',\n",
    "        'vnc docker'\n",
    "    ]).then(r => {\n",
    "        // convert some results to Docker RUN commands instead of bash\n",
    "        r[1].code = bashToRun(r[1].code);\n",
    "        r[2].code = bashToRun(r[2].code);\n",
    "        return r.map(r => r.code).join('\\n');\n",
    "    })\n",
    "    .then(r => {\n",
    "        // save the Dockerfile\n",
    "        writeFileSync(outputFile, r);\n",
    "        return r;\n",
    "    })\n",
    "    .catch(e => console.log(e))\n",
    "};\n",
    "module.exports = seleniumDocker;\n",
    "seleniumDocker;\n"
   ]
  },
  {
   "cell_type": "markdown",
   "metadata": {},
   "source": [
    "How to set up selenium server?"
   ]
  },
  {
   "cell_type": "code",
   "execution_count": 2,
   "metadata": {
    "inputHidden": false,
    "outputHidden": false
   },
   "outputs": [
    {
     "data": {
      "text/plain": [
       "[Function: getSeleniumServer]"
      ]
     },
     "execution_count": 2,
     "metadata": {},
     "output_type": "execute_result"
    }
   ],
   "source": [
    "var importer = require('../Core');\n",
    "var path = require('path');\n",
    "var fs = require('fs');\n",
    "\n",
    "var DOWNLOAD_DIR = path.join(process.env.HOME || process.env.HOMEPATH || process.env.USERPROFILE, 'Downloads');\n",
    "var PROFILE_DIR = path.join(process.env.HOME || process.env.HOMEPATH || process.env.USERPROFILE, '.defaultProfile');\n",
    "\n",
    "var execCmd;\n",
    "var getSeleniumServer = (name = 'act-selenium') => {\n",
    "    try {\n",
    "        fs.mkdirSync(DOWNLOAD_DIR);\n",
    "    } catch (err) {\n",
    "        if (err.code != 'EEXIST') { throw err; }\n",
    "    }\n",
    "    try {\n",
    "        fs.mkdirSync(PROFILE_DIR);\n",
    "    } catch (err) {\n",
    "        if (err.code != 'EEXIST') { throw err; }\n",
    "    }\n",
    "    try {\n",
    "        fs.unlinkSync(path.join(PROFILE_DIR, 'SingletonLock'));\n",
    "    } catch (err) {\n",
    "        if (err.code != 'ENOENT') { throw err; }\n",
    "    }\n",
    "    var DOCKERFILE = path.resolve(path.join(__dirname, 'Dockerfile'));\n",
    "    return seleniumDocker(DOCKERFILE)\n",
    "    .then(() => importer.interpretAll('spawn child process'))\n",
    "    .then(r => {\n",
    "        execCmd = eval(\"'use strict';\" + r.code);\n",
    "        return execCmd('docker ps -a');\n",
    "    })\n",
    "    .then(r => {\n",
    "        if(r[0].indexOf(name) > -1) {\n",
    "            return execCmd('docker stop ' + name)\n",
    "                .then(r => new Promise(resolve => \n",
    "                    setTimeout(() => resolve(r), 1000)))\n",
    "                .then(() => execCmd('docker rm ' + name));\n",
    "        }\n",
    "    })\n",
    "    .then(() => new Promise(resolve => \n",
    "        setTimeout(() => resolve(), 1000)))\n",
    "    .then(() => {\n",
    "        var build = 'docker build -t ' + name + ' \"' \n",
    "            + path.dirname(DOCKERFILE) + '\"\\n'\n",
    "            + 'docker run --shm-size=3g -d '\n",
    "            + '--name ' + name + ' ' \n",
    "            + '-p 8888:8888 '\n",
    "            + '-p 6080:6080 '\n",
    "            + '-p 5900:5900 '\n",
    "            + '-p 4444:4444 '\n",
    "            + '-p 4200:4200 '\n",
    "            + '-p 3000:3000 '\n",
    "            // TODO: add profile dir back in when permissions works on windows\n",
    "            + '-v \"' + DOWNLOAD_DIR + '\":/data/downloads ' \n",
    "            + name + '\\n';\n",
    "        return execCmd(build)\n",
    "    })\n",
    "    .then(r => new Promise(resolve => setTimeout(() => resolve(r), 6000)))\n",
    "    .catch(e => console.log(e))\n",
    "};\n",
    "module.exports = getSeleniumServer;\n",
    "getSeleniumServer;\n",
    "\n"
   ]
  },
  {
   "cell_type": "code",
   "execution_count": 4,
   "metadata": {
    "collapsed": false,
    "inputHidden": false,
    "outputHidden": false
   },
   "outputs": [
    {
     "ename": "ReferenceError",
     "evalue": "getSeleniumServer is not defined",
     "execution_count": 4,
     "output_type": "error",
     "traceback": [
      "evalmachine.<anonymous>:2",
      "getSeleniumServer()",
      "^",
      "",
      "ReferenceError: getSeleniumServer is not defined",
      "    at evalmachine.<anonymous>:2:1",
      "    at ContextifyScript.Script.runInThisContext (vm.js:50:33)",
      "    at Object.runInThisContext (vm.js:139:38)",
      "    at run ([eval]:775:15)",
      "    at onRunRequest ([eval]:620:18)",
      "    at onMessage ([eval]:588:13)",
      "    at emitTwo (events.js:125:13)",
      "    at process.emit (events.js:213:7)",
      "    at emit (internal/child_process.js:774:12)",
      "    at _combinedTickCallback (internal/process/next_tick.js:141:11)"
     ]
    }
   ],
   "source": [
    "$$.async();\n",
    "getSeleniumServer()\n",
    "    .then(r => $$.sendResult(r))\n",
    "    .catch(e => $$.sendError(e));\n",
    "\n"
   ]
  },
  {
   "cell_type": "markdown",
   "metadata": {},
   "source": [
    "# 2\n",
    "\n",
    "How to connect to VNC through the web browser?\n",
    "\n",
    "[Click here to open](http://localhost:6080/vnc.html?password=secret&host=localhost&port=6080&autoconnect=true&resize=downscale&view_only=true&reconnect=true) in a separate browser\n"
   ]
  },
  {
   "cell_type": "code",
   "execution_count": 1,
   "metadata": {
    "inputHidden": false,
    "outputHidden": false
   },
   "outputs": [
    {
     "data": {
      "text/plain": [
       "[Function: vncIframe]"
      ]
     },
     "execution_count": 1,
     "metadata": {},
     "output_type": "execute_result"
    }
   ],
   "source": [
    "\n",
    "var urlEncode = (obj) => {\n",
    "    return Object.keys(obj).map(k => encodeURIComponent(k) + '=' + encodeURIComponent(obj[k])).join('&');\n",
    "}\n",
    "\n",
    "var vncIframe = (options = {\n",
    "    password: 'secret',\n",
    "    host: 'localhost',\n",
    "    port: 6080,\n",
    "    autoconnect: true,\n",
    "    resize: 'downscale',\n",
    "    view_only: true,\n",
    "    reconnect: true}) => `\n",
    "<div style=\"display:block; width:100%; padding-bottom:70%;position:relative;\">\n",
    "<iframe id=\"vnc\"\n",
    "style=\"position:absolute;top:0;right:0;bottom:0;left:0;width:100%;height:100%;border:0;\" \n",
    "src=\"//local:6080/vnc.html?${urlEncode(options)}\"></iframe></div>\n",
    "`;\n",
    "module.exports = vncIframe;\n",
    "vncIframe;\n",
    "\n"
   ]
  },
  {
   "cell_type": "code",
   "execution_count": 5,
   "metadata": {
    "collapsed": false,
    "inputHidden": false,
    "outputHidden": false
   },
   "outputs": [
    {
     "data": {
      "text/html": [
       "\n",
       "<div style=\"display:block; width:100%; padding-bottom:70%;position:relative;\">\n",
       "<iframe id=\"vnc\"\n",
       "style=\"position:absolute;top:0;right:0;bottom:0;left:0;width:100%;height:100%;border:0;\" \n",
       "src=\"//local:6080/vnc.html?password=secret&host=localhost&port=6080&autoconnect=true&resize=downscale&view_only=true&reconnect=true\"></iframe></div>\n"
      ]
     },
     "execution_count": 5,
     "metadata": {},
     "output_type": "execute_result"
    }
   ],
   "source": [
    "$$.mime({'text/html': vncIframe()});\n"
   ]
  },
  {
   "cell_type": "markdown",
   "metadata": {},
   "source": [
    "## 3\n",
    "\n",
    "How to run a selenium cell on the Docker machine?\n",
    "\n"
   ]
  },
  {
   "cell_type": "code",
   "execution_count": null,
   "metadata": {},
   "outputs": [],
   "source": [
    "var importer = require('../Core');\n",
    "var sync = require('wdio-sync')\n",
    "\n",
    "var runSeleniumCell = (search) => {\n",
    "    var client, getCredentials, result, getAllXPath, getAllUntil;\n",
    "    return importer.interpretAll([\n",
    "        'webdriver client',\n",
    "        'decrypt password',\n",
    "        'all xpath elements',\n",
    "        'get all elements until'])\n",
    "    .then(r => {\n",
    "        getCredentials = r[1].runInNewContext();\n",
    "        result = r;\n",
    "        return r[0].runInNewContext();\n",
    "    })\n",
    "    .then(r => {\n",
    "        client = r();\n",
    "        getAllXPath = result[2].runInNewContext({client});\n",
    "        getAllUntil = result[3].runInNewContext({client});\n",
    "    })\n",
    "    .then(() => importer.interpretAll(search))\n",
    "    .then(r => typeof search == 'string' \n",
    "          ? r.runFresherInNewContext({browser: client, client, getCredentials, getAllXPath, getAllUntil})\n",
    "          : importer.runAllPromises(r.map(cell => ((resolve) => {\n",
    "        return resolve(cell.runFresherInNewContext({browser: client, client, getCredentials, getAllXPath, getAllUntil}));\n",
    "    }))))\n",
    "};\n",
    "module.exports = runSeleniumCell;\n",
    "runSeleniumCell;\n",
    "\n"
   ]
  },
  {
   "cell_type": "code",
   "execution_count": 7,
   "metadata": {},
   "outputs": [
    {
     "name": "stdout",
     "output_type": "stream",
     "text": [
      "Initializing webdriver on localhost\n"
     ]
    }
   ],
   "source": [
    "$$.async()\n",
    "runSeleniumCell('test docker selenium')\n",
    "    .then(r => $$.sendResult(r))\n",
    "    .catch(e => $$.sendError(e));\n"
   ]
  },
  {
   "cell_type": "markdown",
   "metadata": {},
   "source": [
    "Test docker selenium?"
   ]
  },
  {
   "cell_type": "code",
   "execution_count": 8,
   "metadata": {
    "inputHidden": false,
    "outputHidden": false
   },
   "outputs": [],
   "source": [
    "if(typeof client !== 'undefined') {\n",
    "    client.url('https://purchasesprint.actops.com');\n",
    "    client.click('[href*=\"/auth\"], [routerlink*=\"/auth\"]');\n",
    "    module.exports = client;\n",
    "}\n"
   ]
  },
  {
   "cell_type": "markdown",
   "metadata": {},
   "source": [
    "\n",
    "TODO:\n",
    "\n",
    "Auto fill fields in a live browser using the \n",
    "\n",
    "Transfer login state to current browser?\n",
    "\n"
   ]
  },
  {
   "cell_type": "code",
   "execution_count": null,
   "metadata": {},
   "outputs": [],
   "source": []
  }
 ],
 "metadata": {
  "kernel_info": {
   "name": "node_nteract"
  },
  "kernelspec": {
   "display_name": "Javascript (Node.js)",
   "language": "javascript",
   "name": "javascript"
  },
  "language_info": {
   "file_extension": ".js",
   "mimetype": "application/javascript",
   "name": "javascript",
   "version": "8.6.0"
  }
 },
 "nbformat": 4,
 "nbformat_minor": 4
}
