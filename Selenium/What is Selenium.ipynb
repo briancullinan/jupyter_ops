{
 "cells": [
  {
   "cell_type": "markdown",
   "metadata": {},
   "source": [
    "# What is Selenium?\n",
    "\n",
    "## 1\n",
    "\n",
    "What environment do we use?\n",
    "\n",
    "See [What is Docker?](What%20is%20Docker.ipynb)\n",
    "\n",
    "Run Selenium in Docker?\n"
   ]
  },
  {
   "cell_type": "code",
   "execution_count": null,
   "metadata": {
    "inputHidden": false,
    "outputHidden": false
   },
   "outputs": [],
   "source": [
    "var importer = require('../Core');\r",
    "var fs = require('fs');\r",
    "\r",
    "// add some run commands to the bash script\r",
    "var bashToRun = (code) => code.split('\\n').filter(n => n.trim().length > 0).map(l => 'RUN ' + l.trim())\r",
    "    .join('\\n').replace(/\\\\\\s*\\nRUN\\s*/ig, '\\\\\\n ');\r",
    "\r",
    "// create a selenium Dockerfile with a vnc connection\r",
    "var seleniumDocker = (outputFile) => {\r",
    "    return importer.interpret([\r",
    "        'run selenium',\r",
    "        // add some extra services\r",
    "        'linux dev tools',\r",
    "        'vnc html',\r",
    "        'vnc docker'\r",
    "    ]).then(r => {\r",
    "        // convert some results to Docker RUN commands instead of bash\r",
    "        r[1].code = bashToRun(r[1].code);\r",
    "        r[2].code = bashToRun(r[2].code);\r",
    "        return r.map(r => r.code).join('\\n');\r",
    "    })\r",
    "        .then(r => {\r",
    "            // save the Dockerfile\r",
    "            fs.writeFileSync(outputFile, r);\r",
    "            return r;\r",
    "        })\r",
    "        .catch(e => console.log(e))\r",
    "};\r",
    "module.exports = seleniumDocker;\r"
   ]
  },
  {
   "cell_type": "markdown",
   "metadata": {},
   "source": [
    "How to set up selenium server?"
   ]
  },
  {
   "cell_type": "code",
   "execution_count": null,
   "metadata": {
    "inputHidden": false,
    "outputHidden": false
   },
   "outputs": [],
   "source": [
    "var importer = require('../Core');\r",
    "var path = require('path');\r",
    "var fs = require('fs');\r",
    "\r",
    "var DOWNLOAD_DIR = path.join(process.env.HOME || process.env.HOMEPATH || process.env.USERPROFILE, 'Downloads');\r",
    "var PROFILE_DIR = path.join(process.env.HOME || process.env.HOMEPATH || process.env.USERPROFILE, '.defaultProfile');\r",
    "\r",
    "var execCmd;\n",
    "var getSeleniumServer = (name = 'act-selenium') => {\r",
    "    try {\r",
    "        fs.mkdirSync(DOWNLOAD_DIR);\r",
    "    } catch (err) {\r",
    "        if (err.code != 'EEXIST') {\r",
    "            throw err;\r",
    "        }\r",
    "    }\r",
    "    try {\r",
    "        fs.mkdirSync(PROFILE_DIR);\r",
    "    } catch (err) {\r",
    "        if (err.code != 'EEXIST') {\r",
    "            throw err;\r",
    "        }\r",
    "    }\r",
    "    try {\r",
    "        fs.unlinkSync(path.join(PROFILE_DIR, 'SingletonLock'));\r",
    "    } catch (err) {\r",
    "        if (err.code != 'ENOENT') {\r",
    "            throw err;\r",
    "        }\r",
    "    }\r",
    "    var DOCKERFILE = path.resolve(path.join(__dirname, 'Dockerfile'));\r",
    "    return seleniumDocker(DOCKERFILE)\r",
    "        .then(() => importer.import('spawn child process'))\r",
    "        .then(r => {\n",
    "            execCmd = r;\n",
    "            return execCmd('docker ps -a');\n",
    "        })\r",
    "        .then(r => {\r",
    "            if (r[0].indexOf(name) > -1) {\r",
    "                return execCmd('docker stop ' + name)\r",
    "                    .then(r => new Promise(resolve =>\r",
    "                        setTimeout(() => resolve(r), 1000)))\r",
    "                    .then(() => execCmd('docker rm ' + name));\r",
    "            }\r",
    "        })\r",
    "        .then(() => new Promise(resolve =>\r",
    "            setTimeout(() => resolve(), 1000)))\r",
    "        .then(() => {\r",
    "            var build = 'docker build -t ' + name + ' \"'\r",
    "                + path.dirname(DOCKERFILE) + '\"\\n'\r",
    "                + 'docker run --shm-size=3g -d '\r",
    "                + '--name ' + name + ' '\r",
    "                + '-p 8888:8888 '\r",
    "                + '-p 6080:6080 '\r",
    "                + '-p 5900:5900 '\r",
    "                + '-p 4444:4444 '\r",
    "                + '-p 4200:4200 '\r",
    "                + '-p 3000:3000 '\r",
    "                // TODO: add profile dir back in when permissions works on windows\r",
    "                + '-v \"' + DOWNLOAD_DIR + '\":/data/downloads '\r",
    "                + name + '\\n';\r",
    "            return execCmd(build)\r",
    "        })\r",
    "        .then(r => new Promise(resolve => setTimeout(() => resolve(r), 6000)))\r",
    "        .catch(e => console.log(e))\r",
    "};\r",
    "module.exports = getSeleniumServer;\r",
    "getSeleniumServer;\r",
    "\r"
   ]
  },
  {
   "cell_type": "code",
   "execution_count": null,
   "metadata": {
    "collapsed": false,
    "inputHidden": false,
    "outputHidden": false
   },
   "outputs": [],
   "source": [
    "$$.async();\r",
    "getSeleniumServer()\r",
    "    .then(r => $$.sendResult(r))\r",
    "    .catch(e => $$.sendError(e));\r",
    "\r"
   ]
  },
  {
   "cell_type": "markdown",
   "metadata": {},
   "source": [
    "# 2\n",
    "\n",
    "How to connect to VNC through the web browser?\n",
    "\n",
    "[Click here to open](http://localhost:6080/vnc.html?password=secret&host=localhost&port=6080&autoconnect=true&resize=downscale&view_only=true&reconnect=true) in a separate browser\n"
   ]
  },
  {
   "cell_type": "code",
   "execution_count": 1,
   "metadata": {
    "inputHidden": false,
    "outputHidden": false
   },
   "outputs": [
    {
     "data": {
      "text/plain": [
       "[Function: vncIframe]"
      ]
     },
     "execution_count": 1,
     "metadata": {},
     "output_type": "execute_result"
    }
   ],
   "source": [
    "var urlEncode = (obj) => {\r",
    "    return Object.keys(obj).map(k => encodeURIComponent(k) + '=' + encodeURIComponent(obj[k])).join('&');\r",
    "}\r",
    "\r",
    "var vncIframe = (options = {\r",
    "    password: 'secret',\r",
    "    host: 'localhost',\r",
    "    port: 6080,\r",
    "    autoconnect: true,\r",
    "    resize: 'downscale',\r",
    "    view_only: true,\r",
    "    reconnect: true\r",
    "}) => `\r",
    "<div style=\"display:block; width:100%; padding-bottom:70%;position:relative;\">\r",
    "<iframe id=\"vnc\"\r",
    "style=\"position:absolute;top:0;right:0;bottom:0;left:0;width:100%;height:100%;border:0;\" \r",
    "src=\"//local:6080/vnc.html?${urlEncode(options)}\"></iframe></div>\r",
    "`;\r",
    "module.exports = vncIframe;\r",
    "vncIframe;\r",
    "\r"
   ]
  },
  {
   "cell_type": "code",
   "execution_count": 2,
   "metadata": {
    "collapsed": false,
    "inputHidden": false,
    "outputHidden": false
   },
   "outputs": [
    {
     "data": {
      "text/html": [
       "\n",
       "<div style=\"display:block; width:100%; padding-bottom:70%;position:relative;\">\n",
       "<iframe id=\"vnc\"\n",
       "style=\"position:absolute;top:0;right:0;bottom:0;left:0;width:100%;height:100%;border:0;\" \n",
       "src=\"//local:6080/vnc.html?password=secret&host=localhost&port=6080&autoconnect=true&resize=downscale&view_only=true&reconnect=true\"></iframe></div>\n"
      ]
     },
     "execution_count": 2,
     "metadata": {},
     "output_type": "execute_result"
    }
   ],
   "source": [
    "$$.mime({'text/html': vncIframe()});\r"
   ]
  },
  {
   "cell_type": "markdown",
   "metadata": {},
   "source": [
    "## 3\n",
    "\n",
    "How to run a selenium cell on the Docker machine?\n",
    "\n"
   ]
  },
  {
   "cell_type": "code",
   "execution_count": 1,
   "metadata": {},
   "outputs": [
    {
     "ename": "SyntaxError",
     "evalue": "Unexpected token import",
     "execution_count": 1,
     "output_type": "error",
     "traceback": [
      "evalmachine.<anonymous>:2",
      "var {getCredentials, createWebdriverClient} = import([",
      "                                              ^^^^^^",
      "",
      "SyntaxError: Unexpected token import",
      "    at createScript (vm.js:80:10)",
      "    at Object.runInThisContext (vm.js:139:10)",
      "    at run ([eval]:821:15)",
      "    at onRunRequest ([eval]:666:18)",
      "    at onMessage ([eval]:634:13)",
      "    at emitTwo (events.js:125:13)",
      "    at process.emit (events.js:213:7)",
      "    at emit (internal/child_process.js:774:12)",
      "    at _combinedTickCallback (internal/process/next_tick.js:141:11)",
      "    at process._tickCallback (internal/process/next_tick.js:180:9)"
     ]
    }
   ],
   "source": [
    "var importer = require('../Core');\n",
    "var {getCredentials, createWebdriverClient} = importer.import([\n",
    "    'webdriver client',\n",
    "    'decrypt password'\n",
    "]);\n",
    "\n",
    "var runSeleniumCell = (search) => {\n",
    "    var client = createWebdriverClient();\n",
    "    var {getAllXPath, getAllUntil} = importer.import([\n",
    "        'all xpath elements',\n",
    "        'get all elements until',\n",
    "    ], {client})\n",
    "    return importer.import(search, {\n",
    "        browser: client,\n",
    "        client,\n",
    "        getCredentials,\n",
    "        getAllXPath,\n",
    "        getAllUntil\n",
    "    })\n",
    "};\n",
    "module.exports = runSeleniumCell;\n"
   ]
  },
  {
   "cell_type": "code",
   "execution_count": null,
   "metadata": {},
   "outputs": [],
   "source": [
    "var importer = require('../Core');\n",
    "\n",
    "$$.async()\n",
    "importer.import('selenium cell')\r",
    "    .then(runSeleniumCell => runSeleniumCell('test docker selenium'))\r",
    "    .then(r => $$.sendResult(r))\r",
    "    .catch(e => $$.sendError(e));\r"
   ]
  },
  {
   "cell_type": "markdown",
   "metadata": {},
   "source": [
    "Test docker selenium?"
   ]
  },
  {
   "cell_type": "code",
   "execution_count": null,
   "metadata": {
    "inputHidden": false,
    "outputHidden": false
   },
   "outputs": [],
   "source": [
    "var testLive = () => {\n",
    "    return client\n",
    "        .url('https://purchasesprint.actops.com')\n",
    "        .click('[href*=\"/auth\"], [routerlink*=\"/auth\"]');\n",
    "}\n",
    "module.exports = testLive();\n",
    "\n"
   ]
  },
  {
   "cell_type": "markdown",
   "metadata": {},
   "source": [
    "\n",
    "TODO:\n",
    "\n",
    "Auto fill fields in a live browser using the \n",
    "\n",
    "Transfer login state to current browser?\n",
    "\n"
   ]
  },
  {
   "cell_type": "code",
   "execution_count": null,
   "metadata": {},
   "outputs": [],
   "source": []
  }
 ],
 "metadata": {
  "kernel_info": {
   "name": "node_nteract"
  },
  "kernelspec": {
   "display_name": "Javascript (Node.js)",
   "language": "javascript",
   "name": "javascript"
  },
  "language_info": {
   "file_extension": ".js",
   "mimetype": "application/javascript",
   "name": "javascript",
   "version": "8.6.0"
  }
 },
 "nbformat": 4,
 "nbformat_minor": 4
}
