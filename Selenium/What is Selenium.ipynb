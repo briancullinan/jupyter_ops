{
 "cells": [
  {
   "cell_type": "markdown",
   "metadata": {},
   "source": [
    "# What is Selenium?\n",
    "\n",
    "## 1\n",
    "\n",
    "What environment do we use?\n",
    "\n",
    "selenium docker?\n",
    "\n",
    "See [What is Docker?](What%20is%20Docker.ipynb)\n",
    "\n"
   ]
  },
  {
   "cell_type": "code",
   "execution_count": 1,
   "metadata": {
    "inputHidden": false,
    "outputHidden": false
   },
   "outputs": [
    {
     "data": {
      "text/plain": [
       "[Function: seleniumDocker]"
      ]
     },
     "execution_count": 1,
     "metadata": {},
     "output_type": "execute_result"
    }
   ],
   "source": [
    "var importer = require('../Core');\r",
    "var fs = require('fs');\r",
    "\r",
    "// add some run commands to the bash script\r",
    "var bashToRun = (code) => code.split('\\n').filter(n => n.trim().length > 0).map(l => 'RUN ' + l.trim())\r",
    "    .join('\\n').replace(/\\\\\\s*\\nRUN\\s*/ig, '\\\\\\n ');\r",
    "\r",
    "// create a selenium Dockerfile with a vnc connection\r",
    "var seleniumDocker = (outputFile) => {\n",
    "    const r = importer.interpret([\n",
    "        'run selenium inside docker',\n",
    "        // add some extra services\n",
    "        'linux dev tools',\n",
    "        'vnc html',\n",
    "        'vnc docker'\n",
    "    ]);\n",
    "    // convert some results to Docker RUN commands instead of bash\n",
    "    r[1].code = bashToRun(r[1].code);\n",
    "    r[2].code = bashToRun(r[2].code);\n",
    "    // save the Dockerfile\n",
    "    fs.writeFileSync(outputFile, r.map(r => r.code).join('\\n'));\n",
    "    return r;\n",
    "};\r",
    "module.exports = seleniumDocker;\r"
   ]
  },
  {
   "cell_type": "markdown",
   "metadata": {},
   "source": [
    "How to set up selenium server?"
   ]
  },
  {
   "cell_type": "code",
   "execution_count": 2,
   "metadata": {
    "inputHidden": false,
    "outputHidden": false
   },
   "outputs": [
    {
     "data": {
      "text/plain": [
       "[Function: getSeleniumServer]"
      ]
     },
     "execution_count": 2,
     "metadata": {},
     "output_type": "execute_result"
    }
   ],
   "source": [
    "var importer = require('../Core');\r",
    "var path = require('path');\r",
    "var fs = require('fs');\r",
    "var execCmd = importer.import('spawn child process');\n",
    "\r",
    "var DOWNLOAD_DIR = path.join(process.env.HOME || process.env.HOMEPATH || process.env.USERPROFILE, 'Downloads');\r",
    "var PROFILE_DIR = path.join(process.env.HOME || process.env.HOMEPATH || process.env.USERPROFILE, '.defaultProfile');\r",
    "var DOCKERFILE = path.resolve(path.join(__dirname, 'Dockerfile'));\n",
    "\r",
    "var getSeleniumServer = (name = 'act-selenium') => {\r",
    "    try {\r",
    "        fs.mkdirSync(DOWNLOAD_DIR);\r",
    "    } catch (err) {\r",
    "        if (err.code != 'EEXIST') {\r",
    "            throw err;\r",
    "        }\r",
    "    }\r",
    "    try {\r",
    "        fs.mkdirSync(PROFILE_DIR);\r",
    "    } catch (err) {\r",
    "        if (err.code != 'EEXIST') {\r",
    "            throw err;\r",
    "        }\r",
    "    }\r",
    "    try {\r",
    "        fs.unlinkSync(path.join(PROFILE_DIR, 'SingletonLock'));\r",
    "    } catch (err) {\r",
    "        if (err.code != 'ENOENT') {\r",
    "            throw err;\r",
    "        }\r",
    "    }\r",
    "    seleniumDocker(DOCKERFILE);\r",
    "    return execCmd('docker ps -a')\n",
    "        .then(r => {\r",
    "            if (r[0].indexOf(name) > -1) {\r",
    "                return execCmd('docker stop ' + name)\r",
    "                    .then(r => new Promise(resolve =>\r",
    "                        setTimeout(() => resolve(r), 1000)))\r",
    "                    .then(() => execCmd('docker rm ' + name));\r",
    "            }\r",
    "        })\r",
    "        .then(() => new Promise(resolve =>\r",
    "            setTimeout(() => resolve(), 1000)))\r",
    "        .then(() => {\r",
    "            var build = 'docker build -t ' + name + ' \"'\r",
    "                + path.dirname(DOCKERFILE) + '\"\\n'\r",
    "                + 'docker run --shm-size=3g -d '\r",
    "                + '--name ' + name + ' '\r",
    "                + '-p 8888:8888 '\r",
    "                + '-p 6080:6080 '\r",
    "                + '-p 5900:5900 '\r",
    "                + '-p 4444:4444 '\r",
    "                + '-p 4200:4200 '\r",
    "                + '-p 3000:3000 '\r",
    "                // TODO: add profile dir back in when permissions works on windows\r",
    "                + '-v \"' + DOWNLOAD_DIR + '\":/data/downloads '\r",
    "                + name + '\\n';\r",
    "            return execCmd(build)\r",
    "        })\r",
    "        .then(r => new Promise(resolve => setTimeout(() => resolve(r), 6000)))\r",
    "        .catch(e => console.log(e))\r",
    "};\r",
    "module.exports = getSeleniumServer;\r",
    "getSeleniumServer;\r",
    "\r"
   ]
  },
  {
   "cell_type": "code",
   "execution_count": 1,
   "metadata": {
    "collapsed": false,
    "inputHidden": false,
    "outputHidden": false
   },
   "outputs": [
    {
     "name": "stdout",
     "output_type": "stream",
     "text": [
      "CONTAINER ID        IMAGE               COMMAND                  CREATED             STATUS                            PORTS                \n",
      "                                                                                                                            NAMES\n",
      "29856ffcb274        dabf7613bfab        \"/opt/bin/entry_po...\"   4 days ago          Exited (255) About a minute ago   0.0.0.0:3000->3000/tcp, 0.0.0.0:4200->4200/tcp, 0.0.0.0:4444->4444/tcp, 0.0.0.0:5900->5900/tcp, 0.0.0.0:6080->6080/tcp, 0.0.0.0:8888->8888/tcp   act-selenium\n",
      "42c7ac46151a        44e7e4e5960d        \"/bin/sh -c 'RUN R...\"   4 days ago          Exited (127) 4 days ago                                                                                                                                                            elated_shannon\n",
      "51e2730b2519        44e7e4e5960d        \"/bin/sh -c 'RUN m...\"   4 days ago          Exited (127) 4 days ago                                                                                                                                                            ecstatic_pike\n",
      "497d1d1b6df9        44e7e4e5960d        \"/bin/sh -c 'RUN R...\"   4 days ago          Exited (127) 4 days ago                                                                                                                                                            keen_engelbart\n",
      "dfa766479072        44e7e4e5960d        \"/bin/sh -c 'RUN R...\"   4 days ago          Exited (127) 4 days ago                                                                                                                                                            fervent_mahavira\n",
      "84a76a26be04        44e7e4e5960d        \"/bin/sh -c 'RUN R...\"   4 days ago          Exited (127) 4 days ago                                                                                                                                                            serene_curie\n",
      "2ed2a8dc96b9        44e7e4e5960d        \"/bin/sh -c 'RUN R...\"   4 days ago          Exited (127) 4 days ago                                                                                                                                                            romantic_golick\n",
      "fd86765dccb1        44e7e4e5960d        \"/bin/sh -c 'RUN m...\"   4 days ago          Exited (127) 4 days ago                                                                                                                                                            distracted_cori\n",
      "eca0725a4419        44e7e4e5960d        \"/bin/sh -c 'RUN m...\"   4 days ago          Exited (127) 4 days ago                                                                                                                                                            wizardly_poitras\n",
      "f948a627e2c6        44e7e4e5960d        \"/bin/sh -c 'RUN R...\"   4 days ago          Exited (127) 4 days ago                                                                                                                                                            musing_hodgkin\n",
      "ccf3d247a4b5        44e7e4e5960d        \"/bin/sh -c 'RUN R...\"   4 days ago          Exited (127) 4 days ago                                                                                                                                                            friendly_noyce\n",
      "08113b5e2fc7        44e7e4e5960d        \"/bin/sh -c 'RUN m...\"   4 days ago          Exited (127) 4 days ago                                                                                                                                                            thirsty_boyd\n",
      "395b17314dad        44e7e4e5960d        \"/bin/sh -c 'RUN m...\"   4 days ago          Exited (127) 4 days ago                                                                                                                                                            blissful_leavitt\n",
      "056261c8b761        megamind/bots       \"supervisord -c /e...\"   7 weeks ago         Exited (255) 4 days ago           0.0.0.0:3690->3690/tcp, 0.0.0.0:8080->8080/tcp                                                                                                   robots\n",
      "19947728b443        mediaserver         \"/usr/bin/supervisord\"   8 weeks ago         Exited (0) 8 weeks ago                                                                                                                                                             mediaserver\n",
      "\n",
      "act-selenium\n",
      "\n",
      "act-selenium\n",
      "\n",
      "Sending build context to Docker daemon  671.2kB\r",
      "\r\n",
      "\n",
      "Step 1/25 : FROM selenium/standalone-chrome-debug\n",
      "\n",
      " ---> 40c049ea25c4\n",
      "\n",
      "Step 2/25 : EXPOSE 4200\n",
      "\n",
      " ---> Using cache\n",
      " ---> eb6b3939fbc0\n",
      "Step 3/25 : EXPOSE 4444\n",
      "\n",
      " ---> Using cache\n",
      " ---> 6b56eca22d93\n",
      "\n",
      "Step 4/25 : EXPOSE 3000\n",
      "\n",
      " ---> Using cache\n",
      " ---> 5261fddf4dff\n",
      "\n",
      "Step 5/25 : ENV DBUS_SESSION_BUS_ADDRESS /dev/null\n",
      "\n",
      " ---> Using cache\n",
      " ---> 734daac0e767\n",
      "\n",
      "Step 6/25 : ENV CHROME_USER_DATA_DIR /usr/profile\n",
      "\n",
      " ---> Using cache\n",
      " ---> 016e1f9ae11c\n",
      "Step 7/25 : WORKDIR /home/seluser\n",
      "\n",
      " ---> Using cache\n",
      " ---> 9de0acbe245c\n",
      "\n",
      "Step 8/25 : USER root\n",
      "\n",
      " ---> Using cache\n",
      " ---> 4bfa0885fd3e\n",
      "\n",
      "Step 9/25 : RUN mkdir /usr/profile\n",
      "\n",
      " ---> Using cache\n",
      " ---> 9349dd1e5667\n",
      "\n",
      "Step 10/25 : RUN mkdir /usr/downloads\n",
      "\n",
      " ---> Using cache\n",
      " ---> c8654ff1aae7\n",
      "\n",
      "Step 11/25 : RUN chown seluser:seluser -R /usr/profile\n",
      "\n",
      " ---> Using cache\n",
      " ---> c01e9cd2717f\n",
      "Step 12/25 : RUN chown seluser:seluser -R /usr/downloads\n",
      "\n",
      " ---> Using cache\n",
      " ---> 789bf1930336\n",
      "Step 13/25 : RUN chmod 777 -R /usr/profile\n",
      "\n",
      " ---> Using cache\n",
      " ---> b6adc269deaa\n",
      "\n",
      "Step 14/25 : RUN chmod 777 -R /usr/downloads\n",
      "\n",
      " ---> Using cache\n",
      " ---> 57a95d8c7dea\n",
      "Step 15/25 : RUN sed -i '/wait \\$NODE_PID/ised -i -e s/exit_type\":\"Crashed/exit_type\":\"None/g /usr/profile/Default/Preferences &' /opt/bin/entry_point.sh\n",
      "\n",
      " ---> Using cache\n",
      " ---> d50b4300b442\n",
      "Step 16/25 : RUN sed -i '/wait \\$NODE_PID/ised -i -e s/exited_cleanly\":false/exited_cleanly\":true/g /usr/profile/Default/Preferences &' /opt/bin/entry_point.sh\n",
      "\n",
      " ---> Using cache\n",
      " ---> 44e7e4e5960d\n",
      "Step 17/25 : RUN mkdir /var/lib/apt/lists/partial\n",
      "\n",
      " ---> Using cache\n",
      " ---> e7fb35908e83\n",
      "Step 18/25 : RUN apt-get -qq update\n",
      "\n",
      " ---> Using cache\n",
      " ---> da953a5647d1\n",
      "\n",
      "Step 19/25 : RUN apt-get install -y --fix-missing git curl wget zip unzip vim dos2unix g++ python net-tools make websockify novnc\n",
      "\n",
      " ---> Using cache\n",
      " ---> b3cd64ad3325\n",
      "\n",
      "Step 20/25 : RUN mkdir -p novnc ; if git --work-tree=./novnc branch | grep master; then  echo \"Already checked out novnc\";  else  git clone https://github.com/novnc/noVNC.git ./novnc ;  fi ; ls -la novnc ; pwd\n",
      "\n",
      " ---> Using cache\n",
      " ---> 39eac8b3c9aa\n",
      "Step 21/25 : RUN dos2unix /home/seluser/novnc/utils/launch.sh\n",
      "\n",
      " ---> Using cache\n",
      " ---> e8a3adc5fb48\n",
      "\n",
      "Step 22/25 : RUN sed -i -e 's/export GEOMETRY.*/export GEOMETRY=\"8160x6120x24\"/g' /opt/bin/entry_point.sh\n",
      "\n",
      " ---> Using cache\n",
      " ---> 1cb296b43329\n",
      "\n",
      "Step 23/25 : RUN sed -i -e 's/x11vnc/x11vnc -scale 2700x2048 -noxdamage/g' /opt/bin/entry_point.sh\n",
      "\n",
      " ---> Using cache\n",
      " ---> cbcec797d377\n",
      "\n",
      "Step 24/25 : RUN sed -i '/wait \\$NODE_PID/i/home/seluser/novnc/utils/launch.sh --vnc localhost:5900 &' /opt/bin/entry_point.sh\n",
      "\n",
      " ---> Using cache\n",
      " ---> 48aa3b7a1953\n",
      "\n",
      "Step 25/25 : USER seluser\n",
      "\n",
      " ---> Using cache\n",
      " ---> c4b68d420d71\n",
      "\n",
      "Successfully built c4b68d420d71\n",
      "\n",
      "Successfully tagged act-selenium:latest\n",
      "\n",
      "812c908edbadc2e2feae9593e298b35ed6590ebccd61ed1ee7986d189556c042\n",
      "\n"
     ]
    },
    {
     "data": {
      "text/plain": [
       "[ 'Sending build context to Docker daemon  671.2kB\\r\\r\\nStep 1/25 : FROM selenium/standalone-chrome-debug\\n ---> 40c049ea25c4\\nStep 2/25 : EXPOSE 4200\\n ---> Using cache\\n ---> eb6b3939fbc0\\nStep 3/25 : EXPOSE 4444\\n ---> Using cache\\n ---> 6b56eca22d93\\nStep 4/25 : EXPOSE 3000\\n ---> Using cache\\n ---> 5261fddf4dff\\nStep 5/25 : ENV DBUS_SESSION_BUS_ADDRESS /dev/null\\n ---> Using cache\\n ---> 734daac0e767\\nStep 6/25 : ENV CHROME_USER_DATA_DIR /usr/profile\\n ---> Using cache\\n ---> 016e1f9ae11c\\nStep 7/25 : WORKDIR /home/seluser\\n ---> Using cache\\n ---> 9de0acbe245c\\nStep 8/25 : USER root\\n ---> Using cache\\n ---> 4bfa0885fd3e\\nStep 9/25 : RUN mkdir /usr/profile\\n ---> Using cache\\n ---> 9349dd1e5667\\nStep 10/25 : RUN mkdir /usr/downloads\\n ---> Using cache\\n ---> c8654ff1aae7\\nStep 11/25 : RUN chown seluser:seluser -R /usr/profile\\n ---> Using cache\\n ---> c01e9cd2717f\\nStep 12/25 : RUN chown seluser:seluser -R /usr/downloads\\n ---> Using cache\\n ---> 789bf1930336\\nStep 13/25 : RUN chmod 777 -R /usr/profile\\n ---> Using cache\\n ---> b6adc269deaa\\nStep 14/25 : RUN chmod 777 -R /usr/downloads\\n ---> Using cache\\n ---> 57a95d8c7dea\\nStep 15/25 : RUN sed -i \\'/wait \\\\$NODE_PID/ised -i -e s/exit_type\":\"Crashed/exit_type\":\"None/g /usr/profile/Default/Preferences &\\' /opt/bin/entry_point.sh\\n ---> Using cache\\n ---> d50b4300b442\\nStep 16/25 : RUN sed -i \\'/wait \\\\$NODE_PID/ised -i -e s/exited_cleanly\":false/exited_cleanly\":true/g /usr/profile/Default/Preferences &\\' /opt/bin/entry_point.sh\\n ---> Using cache\\n ---> 44e7e4e5960d\\nStep 17/25 : RUN mkdir /var/lib/apt/lists/partial\\n ---> Using cache\\n ---> e7fb35908e83\\nStep 18/25 : RUN apt-get -qq update\\n ---> Using cache\\n ---> da953a5647d1\\nStep 19/25 : RUN apt-get install -y --fix-missing git curl wget zip unzip vim dos2unix g++ python net-tools make websockify novnc\\n ---> Using cache\\n ---> b3cd64ad3325\\nStep 20/25 : RUN mkdir -p novnc ; if git --work-tree=./novnc branch | grep master; then  echo \"Already checked out novnc\";  else  git clone https://github.com/novnc/noVNC.git ./novnc ;  fi ; ls -la novnc ; pwd\\n ---> Using cache\\n ---> 39eac8b3c9aa\\nStep 21/25 : RUN dos2unix /home/seluser/novnc/utils/launch.sh\\n ---> Using cache\\n ---> e8a3adc5fb48\\nStep 22/25 : RUN sed -i -e \\'s/export GEOMETRY.*/export GEOMETRY=\"8160x6120x24\"/g\\' /opt/bin/entry_point.sh\\n ---> Using cache\\n ---> 1cb296b43329\\nStep 23/25 : RUN sed -i -e \\'s/x11vnc/x11vnc -scale 2700x2048 -noxdamage/g\\' /opt/bin/entry_point.sh\\n ---> Using cache\\n ---> cbcec797d377\\nStep 24/25 : RUN sed -i \\'/wait \\\\$NODE_PID/i/home/seluser/novnc/utils/launch.sh --vnc localhost:5900 &\\' /opt/bin/entry_point.sh\\n ---> Using cache\\n ---> 48aa3b7a1953\\nStep 25/25 : USER seluser\\n ---> Using cache\\n ---> c4b68d420d71\\nSuccessfully built c4b68d420d71\\nSuccessfully tagged act-selenium:latest\\n',\n",
       "  '812c908edbadc2e2feae9593e298b35ed6590ebccd61ed1ee7986d189556c042\\n' ]"
      ]
     },
     "execution_count": 1,
     "metadata": {},
     "output_type": "execute_result"
    }
   ],
   "source": [
    "var importer = require('../Core');\n",
    "var {getSeleniumServer} = importer.import([\n",
    "    'What is Selenium.ipynb[what is selenium]',\n",
    "    'set up selenium server'\n",
    "]);\n",
    "\n",
    "$$.async();\r",
    "getSeleniumServer()\r",
    "    .then(r => $$.sendResult(r))\r",
    "    .catch(e => $$.sendError(e));\r",
    "\r"
   ]
  },
  {
   "cell_type": "markdown",
   "metadata": {},
   "source": [
    "# 2\n",
    "\n",
    "How to connect to VNC through the web browser?\n",
    "\n",
    "[Click here to open](http://localhost:6080/vnc.html?password=secret&host=localhost&port=6080&autoconnect=true&resize=downscale&view_only=true&reconnect=true) in a separate browser\n"
   ]
  },
  {
   "cell_type": "code",
   "execution_count": 6,
   "metadata": {
    "inputHidden": false,
    "outputHidden": false
   },
   "outputs": [
    {
     "data": {
      "text/plain": [
       "[Function: vncIframe]"
      ]
     },
     "execution_count": 6,
     "metadata": {},
     "output_type": "execute_result"
    }
   ],
   "source": [
    "var urlEncode = (obj) => {\r",
    "    return Object.keys(obj).map(k => encodeURIComponent(k) + '=' + encodeURIComponent(obj[k])).join('&');\r",
    "}\r",
    "\r",
    "var vncIframe = (options = {\r",
    "    password: 'secret',\r",
    "    host: 'localhost',\r",
    "    port: 6080,\r",
    "    autoconnect: true,\r",
    "    resize: 'downscale',\r",
    "    view_only: true,\r",
    "    reconnect: true\r",
    "}) => `\r",
    "<div style=\"display:block; width:100%; padding-bottom:69%;position:relative;\">\r",
    "<iframe id=\"vnc\"\r",
    "style=\"position:absolute;top:0;right:0;bottom:0;left:0;width:100%;height:100%;border:0;\" \r",
    "src=\"//local:6080/vnc.html?${urlEncode(options)}\"></iframe></div>\r",
    "`;\r",
    "module.exports = vncIframe;\r",
    "vncIframe;\r",
    "\r"
   ]
  },
  {
   "cell_type": "code",
   "execution_count": 7,
   "metadata": {
    "collapsed": false,
    "inputHidden": false,
    "outputHidden": false
   },
   "outputs": [
    {
     "data": {
      "text/html": [
       "\n",
       "<div style=\"display:block; width:100%; padding-bottom:69%;position:relative;\">\n",
       "<iframe id=\"vnc\"\n",
       "style=\"position:absolute;top:0;right:0;bottom:0;left:0;width:100%;height:100%;border:0;\" \n",
       "src=\"//local:6080/vnc.html?password=secret&host=localhost&port=6080&autoconnect=true&resize=downscale&view_only=true&reconnect=true\"></iframe></div>\n"
      ]
     },
     "execution_count": 7,
     "metadata": {},
     "output_type": "execute_result"
    }
   ],
   "source": [
    "$$.mime({'text/html': vncIframe()});\r"
   ]
  },
  {
   "cell_type": "markdown",
   "metadata": {},
   "source": [
    "## 3\n",
    "\n",
    "How to run a selenium cell on the Docker machine?\n",
    "\n"
   ]
  },
  {
   "cell_type": "code",
   "execution_count": 1,
   "metadata": {},
   "outputs": [
    {
     "data": {
      "text/plain": [
       "[Function: runSeleniumCell]"
      ]
     },
     "execution_count": 1,
     "metadata": {},
     "output_type": "execute_result"
    }
   ],
   "source": [
    "var importer = require('../Core');\n",
    "var createWebdriverClient = importer.import('webdriver client');\n",
    "\n",
    "var runSeleniumCell = (search, newWindow = true) => {\n",
    "    var client = createWebdriverClient();\n",
    "    var ctx = {client};\n",
    "    var onlyOneWindow;\n",
    "    var {\n",
    "        getCredentials,\n",
    "        getAllXPath,\n",
    "        getAllUntil,\n",
    "        resizeWindow,\n",
    "        onlyOneWindow,\n",
    "        getAllSessionUrls,\n",
    "    } = importer.import([\n",
    "        'decrypt password',\n",
    "        'all elements xpath',\n",
    "        'get all elements until',\n",
    "        'resize selenium window',\n",
    "        'only one window',\n",
    "        'get all session urls'\n",
    "    ], ctx);\n",
    "    return client\n",
    "        .getActiveSessions()\n",
    "        .then(() => (newWindow\n",
    "                     ? client\n",
    "                     .then(() => onlyOneWindow())\n",
    "                     .then(() => getAllSessionUrls())\n",
    "                     : client))\n",
    "        .then(() => {\n",
    "            return importer.import(search, Object.assign(ctx, {\n",
    "                browser: client,\n",
    "                getCredentials,\n",
    "                getAllXPath,\n",
    "                getAllUntil,\n",
    "                resizeWindow\n",
    "            }))\n",
    "        })\n",
    "};\n",
    "module.exports = runSeleniumCell;\n"
   ]
  },
  {
   "cell_type": "code",
   "execution_count": null,
   "metadata": {},
   "outputs": [],
   "source": [
    "var importer = require('../Core');\n",
    "var runSeleniumCell = importer.import('selenium cell');\n",
    "\n",
    "$$.async()\n",
    "runSeleniumCell('test docker selenium')\n",
    "    .then(r => $$.sendResult(r))\n",
    "    .catch(e => $$.sendError(e));\n"
   ]
  },
  {
   "cell_type": "markdown",
   "metadata": {},
   "source": [
    "Test docker selenium?"
   ]
  },
  {
   "cell_type": "code",
   "execution_count": null,
   "metadata": {
    "inputHidden": false,
    "outputHidden": false
   },
   "outputs": [],
   "source": [
    "var testLive = () => {\n",
    "    return client\n",
    "        .url('https://purchasesprint.actops.com')\n",
    "        .click('[href*=\"/auth\"], [routerlink*=\"/auth\"]');\n",
    "}\n",
    "module.exports = testLive();\n",
    "\n"
   ]
  },
  {
   "cell_type": "markdown",
   "metadata": {},
   "source": [
    "\n",
    "TODO:\n",
    "\n",
    "Auto fill fields in a live browser using the \n",
    "\n",
    "Transfer login state to current browser?\n",
    "\n"
   ]
  },
  {
   "cell_type": "code",
   "execution_count": null,
   "metadata": {},
   "outputs": [],
   "source": []
  }
 ],
 "metadata": {
  "kernel_info": {
   "name": "node_nteract"
  },
  "kernelspec": {
   "display_name": "Javascript (Node.js)",
   "language": "javascript",
   "name": "javascript"
  },
  "language_info": {
   "file_extension": ".js",
   "mimetype": "application/javascript",
   "name": "javascript",
   "version": "8.6.0"
  }
 },
 "nbformat": 4,
 "nbformat_minor": 4
}
