{
 "cells": [
  {
   "cell_type": "markdown",
   "metadata": {},
   "source": [
    "# What is Selenium?\n",
    "\n",
    "## 1\n",
    "\n",
    "What environment do we use?\n",
    "\n",
    "See [What is Docker?](What%20is%20Docker.ipynb)\n",
    "\n",
    "How to set up selenium server?\n"
   ]
  },
  {
   "cell_type": "code",
   "execution_count": 7,
   "metadata": {
    "inputHidden": false,
    "outputHidden": false
   },
   "outputs": [
    {
     "data": {
      "text/plain": [
       "[Function: getSeleniumServer]"
      ]
     },
     "execution_count": 7,
     "metadata": {},
     "output_type": "execute_result"
    }
   ],
   "source": [
    "var importer = require('../Core');\n",
    "var path = require('path');\n",
    "var fs = require('fs');\n",
    "var execCmd = importer.import('spawn child process');\n",
    "var importer = require('../Core');\n",
    "var seleniumDocker = importer.import('selenium docker');\n",
    "\n",
    "var DOWNLOAD_DIR = path.join(process.env.HOME || process.env.HOMEPATH || process.env.USERPROFILE || '', 'Downloads');\n",
    "var PROFILE_DIR = path.join(process.env.HOME || process.env.HOMEPATH || process.env.USERPROFILE || '', '.defaultProfile');\n",
    "var DOCKERFILE = path.resolve(path.join(__dirname, 'Dockerfile'));\n",
    "\n",
    "function getSeleniumServer(name = 'act-selenium') {\n",
    "    try {\n",
    "        fs.mkdirSync(DOWNLOAD_DIR);\n",
    "    } catch (err) {\n",
    "        if (err.code != 'EEXIST') {\n",
    "            throw err;\n",
    "        }\n",
    "    }\n",
    "    try {\n",
    "        fs.mkdirSync(PROFILE_DIR);\n",
    "    } catch (err) {\n",
    "        if (err.code != 'EEXIST') {\n",
    "            throw err;\n",
    "        }\n",
    "    }\n",
    "    try {\n",
    "        fs.unlinkSync(path.join(PROFILE_DIR, 'SingletonLock'));\n",
    "    } catch (err) {\n",
    "        if (err.code != 'ENOENT') {\n",
    "            throw err;\n",
    "        }\n",
    "    }\n",
    "    seleniumDocker(DOCKERFILE);\n",
    "    return execCmd('docker ps -a')\n",
    "        .then(r => {\n",
    "            if (r[0].indexOf(name) > -1) {\n",
    "                return execCmd('docker stop ' + name)\n",
    "                    .then(r => new Promise(resolve =>\n",
    "                        setTimeout(() => resolve(r), 1000)))\n",
    "                    .then(() => execCmd('docker rm ' + name));\n",
    "            }\n",
    "        })\n",
    "        .then(() => new Promise(resolve =>\n",
    "            setTimeout(() => resolve(), 1000)))\n",
    "        .then(() => {\n",
    "            var build = 'docker build -t ' + name + ' \"'\n",
    "                + path.dirname(DOCKERFILE) + '\"\\n'\n",
    "                + 'docker run --shm-size=3g -d '\n",
    "                + '--name ' + name + ' '\n",
    "                + '-p 8888:8888 '\n",
    "                + '-p 6080:6080 '\n",
    "                + '-p 5900:5900 '\n",
    "                + '-p 4444:4444 '\n",
    "                + '-p 4200:4200 '\n",
    "                + '-p 3000:3000 '\n",
    "                // TODO: add profile dir back in when permissions works on windows\n",
    "                + '-v \"' + DOWNLOAD_DIR + '\":/data/downloads '\n",
    "                + name + '\\n';\n",
    "            return execCmd(build)\n",
    "        })\n",
    "        .then(r => new Promise(resolve => setTimeout(() => resolve(r), 6000)))\n",
    "};\n",
    "module.exports = getSeleniumServer;\n",
    "\n",
    "if(typeof $$ !== 'undefined') {\n",
    "    $$.async();\n",
    "    getSeleniumServer()\n",
    "        .then(r => $$.sendResult(r))\n",
    "        .catch(e => $$.sendError(e));\n",
    "}\n"
   ]
  },
  {
   "cell_type": "markdown",
   "metadata": {},
   "source": [
    "# 2\n",
    "\n",
    "How to connect to VNC through the web browser?\n",
    "\n",
    "[Click here to open](http://localhost:6080/vnc.html?password=secret&host=localhost&port=6080&autoconnect=true&resize=downscale&view_only=true&reconnect=true) in a separate browser\n"
   ]
  },
  {
   "cell_type": "code",
   "execution_count": 1,
   "metadata": {
    "inputHidden": false,
    "outputHidden": false
   },
   "outputs": [
    {
     "data": {
      "text/plain": [
       "[Function: vncIframe]"
      ]
     },
     "execution_count": 1,
     "metadata": {},
     "output_type": "execute_result"
    }
   ],
   "source": [
    "function urlEncode(obj) {\n",
    "    return Object.keys(obj).map(k => encodeURIComponent(k) + '=' + encodeURIComponent(obj[k])).join('&');\n",
    "}\n",
    "\n",
    "var vncIframe = (options = {\n",
    "    password: 'secret',\n",
    "    host: 'localhost',\n",
    "    port: 6080,\n",
    "    autoconnect: true,\n",
    "    resize: 'downscale',\n",
    "    view_only: true,\n",
    "    reconnect: true\n",
    "}) => `\n",
    "<div style=\"display:block; width:100%; padding-bottom:69%;position:relative;\">\n",
    "<iframe id=\"vnc\"\n",
    "style=\"position:absolute;top:0;right:0;bottom:0;left:0;width:100%;height:100%;border:0;\" \n",
    "src=\"//local:6080/vnc.html?${urlEncode(options)}\"></iframe></div>\n",
    "`;\n",
    "module.exports = vncIframe;\n",
    "\n",
    "if(typeof $$ !== 'undefined') {\n",
    "    $$.mime({'text/html': vncIframe()});\n",
    "}\n"
   ]
  },
  {
   "cell_type": "markdown",
   "metadata": {},
   "source": [
    "## 3\n",
    "\n",
    "How to run a selenium cell on the Docker machine?\n",
    "\n"
   ]
  },
  {
   "cell_type": "code",
   "execution_count": 11,
   "metadata": {},
   "outputs": [
    {
     "data": {
      "text/plain": [
       "[Function: runSeleniumCell]"
      ]
     },
     "execution_count": 11,
     "metadata": {},
     "output_type": "execute_result"
    }
   ],
   "source": [
    "var importer = require('../Core');\n",
    "\n",
    "function runSeleniumCell(search, newWindow = true) {\n",
    "    var createWebdriverClient = importer.import('webdriver client');\n",
    "    var client = createWebdriverClient();\n",
    "    var ctx = {client};\n",
    "    var {\n",
    "        getCredentials,\n",
    "        getAllXPath,\n",
    "        getAllUntil,\n",
    "        resizeWindow,\n",
    "        onlyOneWindow,\n",
    "        getAllSessionUrls,\n",
    "        clickSpa,\n",
    "    } = importer.import([\n",
    "        'decrypt password',\n",
    "        'all elements xpath',\n",
    "        'get all elements until',\n",
    "        'resize selenium window',\n",
    "        'only one window',\n",
    "        'get all session urls',\n",
    "        'click spa link',\n",
    "    ], ctx);\n",
    "    var formUtilities = importer.import('form utilities', ctx);\n",
    "    var isError = false;\n",
    "    return client\n",
    "        .scanning(true)\n",
    "        .getSessions()\n",
    "        .then(() => (newWindow\n",
    "                     ? client\n",
    "                     .then(() => onlyOneWindow())\n",
    "                     .then(() => getAllSessionUrls())\n",
    "                     : []))\n",
    "        .catch(e => {\n",
    "            console.log(e);\n",
    "            isError = e;\n",
    "            throw new Error('there is an error with the client ' + e);\n",
    "        })\n",
    "        .scanning(false)\n",
    "        .then(() => {\n",
    "            Object.assign(ctx, {\n",
    "                client,\n",
    "                browser: client,\n",
    "                getCredentials,\n",
    "                getAllXPath,\n",
    "                getAllUntil,\n",
    "                resizeWindow,\n",
    "                clickSpa,\n",
    "            }, formUtilities);\n",
    "            if(!search) {\n",
    "                return ctx;\n",
    "            }\n",
    "            return importer.import(search, ctx)\n",
    "        })\n",
    "};\n",
    "module.exports = runSeleniumCell;\n",
    "\n",
    "if(typeof $$ !== 'undefined') {\n",
    "    console.log('this should not be hit!');\n",
    "    $$.async()\n",
    "    runSeleniumCell('test docker selenium')\n",
    "        .then(r => $$.sendResult(r))\n",
    "        .catch(e => $$.sendError(e));\n",
    "}\n"
   ]
  },
  {
   "cell_type": "markdown",
   "metadata": {},
   "source": [
    "Test docker selenium?"
   ]
  },
  {
   "cell_type": "code",
   "execution_count": null,
   "metadata": {
    "collapsed": true,
    "inputHidden": false,
    "outputHidden": false
   },
   "outputs": [],
   "source": [
    "function testLive() {\n",
    "    return client\n",
    "        .url('https://purchasesprint.actops.com')\n",
    "        .click('[href*=\"/auth\"], [routerlink*=\"/auth\"]');\n",
    "}\n",
    "module.exports = testLive();\n",
    "\n"
   ]
  },
  {
   "cell_type": "markdown",
   "metadata": {},
   "source": [
    "\n",
    "TODO:\n",
    "\n",
    "Auto fill fields in a live browser using the \n",
    "\n",
    "Transfer login state to current browser?\n",
    "\n"
   ]
  },
  {
   "cell_type": "code",
   "execution_count": null,
   "metadata": {
    "collapsed": true
   },
   "outputs": [],
   "source": []
  }
 ],
 "metadata": {
  "kernel_info": {
   "name": "node_nteract"
  },
  "kernelspec": {
   "display_name": "Javascript (Node.js)",
   "language": "javascript",
   "name": "javascript"
  },
  "language_info": {
   "file_extension": ".js",
   "mimetype": "application/javascript",
   "name": "javascript",
   "version": "8.6.0"
  }
 },
 "nbformat": 4,
 "nbformat_minor": 4
}
