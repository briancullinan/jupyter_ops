{
  "cells": [
    {
      "cell_type": "markdown",
      "source": [
        "# What is Selenium?\n",
        "\n",
        "## 1\n",
        "\n",
        "What environment do we use?\n",
        "\n",
        "See [What is Docker?](What%20is%20Docker.ipynb)\n",
        "\n",
        "Run Selenium in Docker?\n"
      ],
      "metadata": {}
    },
    {
      "cell_type": "code",
      "source": [
        "var path = require('path');\n",
        "var corePath = path.resolve(path.join(__dirname, '..', 'Core'));\n",
        "var importer = require(corePath);\n",
        "var writeFileSync = require('fs').writeFileSync;\n",
        "\n",
        "// add some run commands to the bash script\n",
        "var bashToRun = (code) => code.split('\\n').map(l => 'RUN ' + l)\n",
        "    .join('\\n').replace(/\\\\\\s*\\nRUN\\s*/ig, '\\\\\\n ');\n",
        "\n",
        "// create a selenium Dockerfile with a vnc connection\n",
        "var interpretAllPath = path.join('..', 'Core', 'How to interpret all notebooks.ipynb');\n",
        "var interpret, interpretObject;\n",
        "var seleniumDocker = (outputFile) => {\n",
        "    return importer.importNotebook(interpretAllPath)\n",
        "        .then((f) => {\n",
        "            interpret = f['interpret'];\n",
        "            interpretObject = f['interpretObject'];\n",
        "        })\n",
        "        .then(() => Promise.all([\n",
        "            interpret('run selenium'),\n",
        "            // add some extra services\n",
        "            interpret('linux dev tools'),\n",
        "            interpret('vnc html'),\n",
        "            interpret('vnc docker'),\n",
        "        ]))\n",
        "        .then(r => interpretObject(r.map(r => r[0])))\n",
        "        .then(r => {\n",
        "            // lets fix the middle result\n",
        "            r[1].code = bashToRun(r[1].code);\n",
        "            r[2].code = bashToRun(r[2].code);\n",
        "            return r.map(r => r.code).join('\\n');\n",
        "        })\n",
        "        .then(r => {\n",
        "            // save the Dockerfile\n",
        "            writeFileSync(outputFile, r);\n",
        "            return r;\n",
        "        });\n",
        "};\n",
        "(seleniumDocker);\n"
      ],
      "outputs": [
        {
          "output_type": "execute_result",
          "execution_count": 1,
          "data": {
            "text/plain": [
              "[Function: seleniumDocker]"
            ]
          },
          "metadata": {}
        }
      ],
      "execution_count": 1,
      "metadata": {
        "inputHidden": false,
        "outputHidden": false
      }
    },
    {
      "cell_type": "markdown",
      "source": [
        "How to set up selenium server?"
      ],
      "metadata": {}
    },
    {
      "cell_type": "code",
      "source": [
        "var path = require('path');\n",
        "var execSync = require('child_process').execSync;\n",
        "var DOWNLOAD_DIR = path.join(process.env.HOME || process.env.HOMEPATH || process.env.USERPROFILE, 'Downloads');\n",
        "var PROFILE_DIR = path.join(process.env.HOME || process.env.HOMEPATH || process.env.USERPROFILE, '.defaultProfile');\n",
        "var interpretAllPath = path.join('..', 'Core', 'How to interpret all notebooks.ipynb');\n",
        "var interpret, interpretObject, execCmd;\n",
        "var getSeleniumServer = (name = 'act-selenium') => {\n",
        "    try {\n",
        "        fs.mkdirSync(DOWNLOAD_DIR);\n",
        "    } catch (err) {\n",
        "        if (err.code != 'EEXIST') { throw err; }\n",
        "    }\n",
        "    try {\n",
        "        fs.mkdirSync(PROFILE_DIR);\n",
        "    } catch (err) {\n",
        "        if (err.code != 'EEXIST') { throw err; }\n",
        "    }\n",
        "    try {\n",
        "        fs.unlinkSync(path.join(PROFILE_DIR, 'SingletonLock'));\n",
        "    } catch (err) {\n",
        "        if (err.code != 'ENOENT') { throw err; }\n",
        "    }\n",
        "    var DOCKERFILE = path.resolve(path.join(__dirname, 'Dockerfile'));\n",
        "    return seleniumDocker(DOCKERFILE)\n",
        "        .then(() => importer.importNotebook(interpretAllPath))\n",
        "        .then((f) => {\n",
        "            interpret = f['interpret'];\n",
        "            interpretObject = f['interpretObject'];\n",
        "        })\n",
        "        .then(() => Promise.all([\n",
        "            interpret('spawn child process')\n",
        "        ]))\n",
        "        .then(r => interpretObject(r.map(r => r[0])))\n",
        "        .then(r => {\n",
        "            execCmd = eval(\"'use strict';\" + r[0].code);\n",
        "            return execCmd('docker ps -a');\n",
        "        }).then(r => {\n",
        "            var build = 'docker build -t ' + name + ' \"' \n",
        "                + path.dirname(DOCKERFILE) + '\"\\n'\n",
        "                + (r[0].indexOf(name) > -1 \n",
        "                   ? ('docker stop ' + name + '\\n') : '')\n",
        "                + 'docker run --rm --shm-size=2g -d '\n",
        "                + '--name ' + name + ' ' \n",
        "                + '-p 8888:8888 '\n",
        "                + '-p 6080:6080 '\n",
        "                + '-p 5900:5900 '\n",
        "                + '-p 4444:4444 '\n",
        "                + '-p 4200:4200 '\n",
        "                + '-p 3000:3000 '\n",
        "                + '-v \"' + DOWNLOAD_DIR + '\":/data/downloads ' \n",
        "                + name + '\\n'\n",
        "                + 'sleep 5\\n';\n",
        "            return execCmd(build)\n",
        "        });\n",
        "};\n",
        "(getSeleniumServer);"
      ],
      "outputs": [
        {
          "output_type": "execute_result",
          "execution_count": 2,
          "data": {
            "text/plain": [
              "[Function: getSeleniumServer]"
            ]
          },
          "metadata": {}
        }
      ],
      "execution_count": 2,
      "metadata": {
        "inputHidden": false,
        "outputHidden": false
      }
    },
    {
      "cell_type": "code",
      "source": [
        "$$.async();\n",
        "try {\n",
        "getSeleniumServer()\n",
        "    .then(r => $$.sendResult(r))\n",
        "    .catch(e => $$.sendError(e));\n",
        "} catch (e) {\n",
        "    $$.sendError(e);\n",
        "}\n"
      ],
      "outputs": [
        {
          "output_type": "stream",
          "name": "stdout",
          "text": [
            "Already imported\n",
            "[ 'How to import a notebook.ipynb',\n",
            "  'How to interpret all notebooks.ipynb' ]\n",
            "[Function: execCmd]\n",
            "[Function: execCmd]\n"
          ]
        },
        {
          "output_type": "execute_result",
          "execution_count": 3,
          "data": {
            "text/plain": [
              "[ 'Sending build context to Docker daemon   59.9kB\\r\\r\\nStep 1/22 : FROM selenium/standalone-chrome-debug\\n ---> 593e47f379db\\nStep 2/22 : EXPOSE 4200\\n ---> Using cache\\n ---> cf96a9aac1f7\\nStep 3/22 : EXPOSE 4444\\n ---> Using cache\\n ---> 3945a29b8f5b\\nStep 4/22 : EXPOSE 3000\\n ---> Using cache\\n ---> b8b75fe784a3\\nStep 5/22 : ENV CHROME_USER_DATA_DIR /usr/profile\\n ---> Using cache\\n ---> 00409baf3489\\nStep 6/22 : WORKDIR /home/seluser\\n ---> Using cache\\n ---> b8a12d57779f\\nStep 7/22 : USER root\\n ---> Using cache\\n ---> aaa0d8320a97\\nStep 8/22 : RUN mkdir /usr/profile\\n ---> Using cache\\n ---> 62eef137b4b0\\nStep 9/22 : RUN mkdir /usr/downloads\\n ---> Using cache\\n ---> bf11798fa872\\nStep 10/22 : RUN chown seluser:seluser -R /usr/profile\\n ---> Using cache\\n ---> 6cd96f04f28a\\nStep 11/22 : RUN chown seluser:seluser -R /usr/downloads\\n ---> Using cache\\n ---> 52b7a641fd74\\nStep 12/22 : RUN chmod 777 -R /usr/profile\\n ---> Using cache\\n ---> 0b526765e8e3\\nStep 13/22 : RUN chmod 777 -R /usr/downloads\\n ---> Using cache\\n ---> ff1e0599e6bc\\nStep 14/22 : VOLUME /usr/profile\\n ---> Using cache\\n ---> b60c37d03df5\\nStep 15/22 : VOLUME /data/downloads\\n ---> Using cache\\n ---> 37aff69de5b0\\nStep 16/22 : RUN mkdir /var/lib/apt/lists/partial\\n ---> Using cache\\n ---> 8a75b91370d9\\nStep 17/22 : RUN apt-get -qq update\\n ---> Using cache\\n ---> 635451803707\\nStep 18/22 : RUN apt-get install -y --fix-missing git curl wget zip unzip vim dos2unix g++ python net-tools make websockify novnc\\n ---> Using cache\\n ---> 017cc2365c76\\nStep 19/22 : RUN mkdir -p novnc ; if git --work-tree=./novnc branch | grep \\'master\\'; then  echo \"Already checked out novnc\";  else  git clone https://github.com/novnc/noVNC.git ./novnc ;  fi ; ls -la novnc ; pwd\\n ---> Using cache\\n ---> 3ba2cfdeb78f\\nStep 20/22 : RUN dos2unix /home/seluser/novnc/utils/launch.sh\\n ---> Using cache\\n ---> 9764ab042108\\nStep 21/22 : RUN sed -i \\'/wait \\\\$NODE_PID/i/home/seluser/novnc/utils/launch.sh --vnc localhost:5900 &\\' /opt/bin/entry_point.sh\\n ---> Using cache\\n ---> 71d958b1525d\\nStep 22/22 : USER seluser\\n ---> Using cache\\n ---> a34f2ee26b42\\nSuccessfully built a34f2ee26b42\\nSuccessfully tagged act-selenium:latest\\nSECURITY WARNING: You are building a Docker image from Windows against a non-Windows Docker host. All files and directories added to build context will have \\'-rwxr-xr-x\\' permissions. It is recommended to double check and reset permissions for sensitive files and directories.\\n',\n",
              "  'act-selenium\\n',\n",
              "  'Error: Command failed: docker run --rm --shm-size=2g -d --name act-selenium -p 8888:8888 -p 6080:6080 -p 5900:5900 -p 4444:4444 -p 4200:4200 -p 3000:3000 -v \"\\\\Users\\\\brian.cullinan\\\\Downloads\":/data/downloads act-selenium\\ndocker: Error response from daemon: Conflict. The container name \"/act-selenium\" is already in use by container \"bc1834135da9f9283001cde625fa3d0f7b77297e5c4b415d6bb5e7820ec3c831\". You have to remove (or rename) that container to be able to reuse that name.\\nSee \\'docker run --help\\'.\\n',\n",
              "  'Error: Command failed: sleep 5\\n\\'sleep\\' is not recognized as an internal or external command,\\r\\noperable program or batch file.\\r\\n' ]"
            ]
          },
          "metadata": {}
        }
      ],
      "execution_count": 3,
      "metadata": {
        "collapsed": false,
        "outputHidden": false,
        "inputHidden": false
      }
    },
    {
      "cell_type": "markdown",
      "source": [
        "# 2\n",
        "\n",
        "How to connect to VNC through the web browser?\n",
        "\n",
        "[Click here to open](http://localhost:6080/vnc.html?password=secret&host=localhost&port=6080&autoconnect=true&resize=downscale&view_only=true&reconnect=true) in a separate browser\n"
      ],
      "metadata": {}
    },
    {
      "cell_type": "code",
      "source": [
        "var vncIframe = () => `\n",
        "<div style=\"display:block; width:100%; padding-bottom:75%;position:relative;\">\n",
        "<iframe id=\"vnc\"\n",
        "style=\"position:absolute;top:0;right:0;bottom:0;left:0;width:100%;height:100%;border:0;\" \n",
        "src=\"http://localhost:6080/vnc.html?password=secret&amp;host=localhost&amp;port=6080&amp;autoconnect=true&amp;resize=downscale&amp;view_only=true&amp;reconnect=true\"></iframe></div>\n",
        "`;\n",
        "(vncIframe);"
      ],
      "outputs": [
        {
          "output_type": "execute_result",
          "execution_count": 4,
          "data": {
            "text/plain": [
              "[Function: vncIframe]"
            ]
          },
          "metadata": {}
        }
      ],
      "execution_count": 4,
      "metadata": {
        "inputHidden": false,
        "outputHidden": false
      }
    },
    {
      "cell_type": "code",
      "source": [
        "$$.mime({'text/html': vncIframe()});"
      ],
      "outputs": [
        {
          "output_type": "execute_result",
          "execution_count": 5,
          "data": {
            "text/html": [
              "\n",
              "<div style=\"display:block; width:100%; padding-bottom:75%;position:relative;\">\n",
              "<iframe id=\"vnc\"\n",
              "style=\"position:absolute;top:0;right:0;bottom:0;left:0;width:100%;height:100%;border:0;\" \n",
              "src=\"http://localhost:6080/vnc.html?password=secret&amp;host=localhost&amp;port=6080&amp;autoconnect=true&amp;resize=downscale&amp;view_only=true&amp;reconnect=true\"></iframe></div>\n"
            ]
          },
          "metadata": {}
        }
      ],
      "execution_count": 5,
      "metadata": {
        "collapsed": false,
        "outputHidden": false,
        "inputHidden": false
      }
    },
    {
      "cell_type": "markdown",
      "source": [
        "## 3\n",
        "\n",
        "How to run a selenium test on the Docker machine?\n"
      ],
      "metadata": {}
    },
    {
      "cell_type": "code",
      "source": [],
      "outputs": [],
      "execution_count": 6,
      "metadata": {
        "inputHidden": false,
        "outputHidden": false
      }
    }
  ],
  "metadata": {
    "kernel_info": {
      "name": "node_nteract"
    },
    "kernelspec": {
      "name": "node_nteract",
      "language": "javascript",
      "display_name": "Node.js (nteract)"
    },
    "language_info": {
      "name": "javascript",
      "version": "6.5.0",
      "mimetype": "application/javascript",
      "file_extension": ".js"
    }
  },
  "nbformat": 4,
  "nbformat_minor": 4
}