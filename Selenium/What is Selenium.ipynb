{
 "cells": [
  {
   "cell_type": "markdown",
   "metadata": {},
   "source": [
    "# What is Selenium?\n",
    "\n",
    "## 1\n",
    "\n",
    "What environment do we use?\n",
    "\n",
    "selenium docker?\n",
    "\n",
    "See [What is Docker?](What%20is%20Docker.ipynb)\n",
    "\n"
   ]
  },
  {
   "cell_type": "code",
   "execution_count": 6,
   "metadata": {
    "inputHidden": false,
    "outputHidden": false
   },
   "outputs": [
    {
     "data": {
      "text/plain": [
       "[Function: seleniumDocker]"
      ]
     },
     "execution_count": 6,
     "metadata": {},
     "output_type": "execute_result"
    }
   ],
   "source": [
    "var importer = require('../Core');\n",
    "var fs = require('fs');\n",
    "\n",
    "// add some run commands to the bash script\n",
    "function bashToRun(code) {\n",
    "    return code.split('\\n').filter(n => n.trim().length > 0).map(l => 'RUN ' + l.trim())\n",
    "    .join('\\n').replace(/\\\\\\s*\\nRUN\\s*/ig, '\\\\\\n ');\n",
    "}\n",
    "\n",
    "// create a selenium Dockerfile with a vnc connection\n",
    "function seleniumDocker(outputFile) {\n",
    "    const r = importer.interpret([\n",
    "        'run selenium inside docker',\n",
    "        // add some extra services\n",
    "        'linux dev tools',\n",
    "        'vnc html',\n",
    "        'vnc docker'\n",
    "    ]);\n",
    "    // save the Dockerfile\n",
    "    fs.writeFileSync(outputFile, [\n",
    "        r[0].code,\n",
    "        // convert some results to Docker RUN commands instead of bash\n",
    "        bashToRun(r[1].code),\n",
    "        bashToRun(r[2].code),\n",
    "        r[3].code\n",
    "    ].join('\\n'));\n",
    "    return r;\n",
    "};\n",
    "module.exports = seleniumDocker;\n"
   ]
  },
  {
   "cell_type": "markdown",
   "metadata": {},
   "source": [
    "How to set up selenium server?"
   ]
  },
  {
   "cell_type": "code",
   "execution_count": 7,
   "metadata": {
    "inputHidden": false,
    "outputHidden": false
   },
   "outputs": [
    {
     "data": {
      "text/plain": [
       "[Function: getSeleniumServer]"
      ]
     },
     "execution_count": 7,
     "metadata": {},
     "output_type": "execute_result"
    }
   ],
   "source": [
    "var importer = require('../Core');\n",
    "var path = require('path');\n",
    "var fs = require('fs');\n",
    "var execCmd = importer.import('spawn child process');\n",
    "\n",
    "var DOWNLOAD_DIR = path.join(process.env.HOME || process.env.HOMEPATH || process.env.USERPROFILE, 'Downloads');\n",
    "var PROFILE_DIR = path.join(process.env.HOME || process.env.HOMEPATH || process.env.USERPROFILE, '.defaultProfile');\n",
    "var DOCKERFILE = path.resolve(path.join(__dirname, 'Dockerfile'));\n",
    "\n",
    "function getSeleniumServer(name = 'act-selenium') {\n",
    "    try {\n",
    "        fs.mkdirSync(DOWNLOAD_DIR);\n",
    "    } catch (err) {\n",
    "        if (err.code != 'EEXIST') {\n",
    "            throw err;\n",
    "        }\n",
    "    }\n",
    "    try {\n",
    "        fs.mkdirSync(PROFILE_DIR);\n",
    "    } catch (err) {\n",
    "        if (err.code != 'EEXIST') {\n",
    "            throw err;\n",
    "        }\n",
    "    }\n",
    "    try {\n",
    "        fs.unlinkSync(path.join(PROFILE_DIR, 'SingletonLock'));\n",
    "    } catch (err) {\n",
    "        if (err.code != 'ENOENT') {\n",
    "            throw err;\n",
    "        }\n",
    "    }\n",
    "    seleniumDocker(DOCKERFILE);\n",
    "    return execCmd('docker ps -a')\n",
    "        .then(r => {\n",
    "            if (r[0].indexOf(name) > -1) {\n",
    "                return execCmd('docker stop ' + name)\n",
    "                    .then(r => new Promise(resolve =>\n",
    "                        setTimeout(() => resolve(r), 1000)))\n",
    "                    .then(() => execCmd('docker rm ' + name));\n",
    "            }\n",
    "        })\n",
    "        .then(() => new Promise(resolve =>\n",
    "            setTimeout(() => resolve(), 1000)))\n",
    "        .then(() => {\n",
    "            var build = 'docker build -t ' + name + ' \"'\n",
    "                + path.dirname(DOCKERFILE) + '\"\\n'\n",
    "                + 'docker run --shm-size=3g -d '\n",
    "                + '--name ' + name + ' '\n",
    "                + '-p 8888:8888 '\n",
    "                + '-p 6080:6080 '\n",
    "                + '-p 5900:5900 '\n",
    "                + '-p 4444:4444 '\n",
    "                + '-p 4200:4200 '\n",
    "                + '-p 3000:3000 '\n",
    "                // TODO: add profile dir back in when permissions works on windows\n",
    "                + '-v \"' + DOWNLOAD_DIR + '\":/data/downloads '\n",
    "                + name + '\\n';\n",
    "            return execCmd(build)\n",
    "        })\n",
    "        .then(r => new Promise(resolve => setTimeout(() => resolve(r), 6000)))\n",
    "        .catch(e => console.log(e))\n",
    "};\n",
    "module.exports = getSeleniumServer;\n",
    "getSeleniumServer;\n",
    "\n"
   ]
  },
  {
   "cell_type": "code",
   "execution_count": 2,
   "metadata": {
    "collapsed": false,
    "inputHidden": false,
    "outputHidden": false
   },
   "outputs": [
    {
     "name": "stdout",
     "output_type": "stream",
     "text": [
      "CONTAINER ID        IMAGE               COMMAND             CREATED             STATUS              PORTS               NAMES\n",
      "\n",
      "d1d66d7a8f27086824f8e845245aef020880de5e43351a505dd0b1e90c64bd0d\n",
      "\n",
      "Sending build context to Docker daemon  1.146MB\r",
      "\r\n",
      "\n",
      "Step 1/25 : FROM selenium/standalone-chrome-debug\n",
      "\n",
      " ---> e5d173515f75\n",
      "\n",
      "Step 2/25 : EXPOSE 4200\n",
      "\n",
      " ---> Using cache\n",
      " ---> de4aacbca0e7\n",
      "Step 3/25 : EXPOSE 4444\n",
      "\n",
      " ---> Using cache\n",
      " ---> 9824efc0efee\n",
      "Step 4/25 : EXPOSE 3000\n",
      "\n",
      " ---> Using cache\n",
      " ---> 90f8baf644e6\n",
      "Step 5/25 : ENV DBUS_SESSION_BUS_ADDRESS /dev/null\n",
      "\n",
      " ---> Using cache\n",
      " ---> e623a9c291c0\n",
      "\n",
      "Step 6/25 : ENV CHROME_USER_DATA_DIR /usr/profile\n",
      "\n",
      " ---> Using cache\n",
      " ---> a3dfb094f7c7\n",
      "\n",
      "Step 7/25 : WORKDIR /home/seluser\n",
      "\n",
      " ---> Using cache\n",
      " ---> 0db91782a4cd\n",
      "\n",
      "Step 8/25 : USER root\n",
      "\n",
      " ---> Using cache\n",
      " ---> 8d357dc0e08d\n",
      "\n",
      "Step 9/25 : RUN mkdir /usr/profile\n",
      "\n",
      " ---> Using cache\n",
      " ---> 3bd85a5247b3\n",
      "Step 10/25 : RUN mkdir /usr/downloads\n",
      "\n",
      " ---> Using cache\n",
      " ---> 6f8e1705c264\n",
      "Step 11/25 : RUN chown seluser:seluser -R /usr/profile\n",
      "\n",
      " ---> Using cache\n",
      " ---> 4c97231d1909\n",
      "\n",
      "Step 12/25 : RUN chown seluser:seluser -R /usr/downloads\n",
      "\n",
      " ---> Using cache\n",
      " ---> 0a00241ced53\n",
      "Step 13/25 : RUN chmod 777 -R /usr/profile\n",
      "\n",
      "\n",
      " ---> Using cache\n",
      "\n",
      " ---> baa858dc174c\n",
      "Step 14/25 : RUN chmod 777 -R /usr/downloads\n",
      "\n",
      " ---> Using cache\n",
      "\n",
      " ---> 10afb13eeb26\n",
      "Step 15/25 : RUN sed -i '/wait \\$NODE_PID/ised -i -e s/exit_type\":\"Crashed/exit_type\":\"None/g /usr/profile/Default/Preferences &' /opt/bin/entry_point.sh\n",
      "\n",
      "\n",
      " ---> Using cache\n",
      " ---> 6b0ca428136e\n",
      "Step 16/25 : RUN sed -i '/wait \\$NODE_PID/ised -i -e s/exited_cleanly\":false/exited_cleanly\":true/g /usr/profile/Default/Preferences &' /opt/bin/entry_point.sh\n",
      "\n",
      " ---> Using cache\n",
      " ---> 64482da558bc\n",
      "Step 17/25 : RUN mkdir /var/lib/apt/lists/partial\n",
      "\n",
      "\n",
      " ---> Using cache\n",
      " ---> f07d15ee9af8\n",
      "\n",
      "Step 18/25 : RUN apt-get -qq update\n",
      "\n",
      "\n",
      " ---> Using cache\n",
      "\n",
      " ---> 49a99fddedbd\n",
      "Step 19/25 : RUN apt-get install -y --fix-missing git curl wget zip unzip vim dos2unix g++ python net-tools make websockify novnc\n",
      "\n",
      " ---> Using cache\n",
      " ---> 887629e4adfe\n",
      "\n",
      "Step 20/25 : RUN mkdir -p novnc ; if git --work-tree=./novnc branch | grep master; then  echo \"Already checked out novnc\";  else  git clone https://github.com/novnc/noVNC.git ./novnc ;  fi ; ls -la novnc ; pwd\n",
      "\n",
      " ---> Using cache\n",
      " ---> 910bc53957dc\n",
      "Step 21/25 : RUN dos2unix /home/seluser/novnc/utils/launch.sh\n",
      "\n",
      "\n",
      " ---> Using cache\n",
      " ---> e98c0a2144bd\n",
      "\n",
      "Step 22/25 : RUN sed -i -e 's/export GEOMETRY.*/export GEOMETRY=\"8160x6120x24\"/g' /opt/bin/entry_point.sh\n",
      "\n",
      " ---> Using cache\n",
      "\n",
      " ---> 63b1ed8e187b\n",
      "Step 23/25 : RUN sed -i -e 's/x11vnc/x11vnc -scale 2700x2048 -noxdamage/g' /opt/bin/entry_point.sh\n",
      "\n",
      "\n",
      " ---> Using cache\n",
      "\n",
      " ---> 5a39520f6c74\n",
      "Step 24/25 : RUN sed -i '/wait \\$NODE_PID/i/home/seluser/novnc/utils/launch.sh --vnc localhost:5900 &' /opt/bin/entry_point.sh\n",
      "\n",
      "\n",
      " ---> Using cache\n",
      "\n",
      " ---> 86c5e285f382\n",
      "Step 25/25 : USER seluser\n",
      "\n",
      " ---> Using cache\n",
      "\n",
      " ---> 9b1a3a1f2333\n",
      "\n",
      "Successfully built 9b1a3a1f2333\n",
      "\n",
      "Successfully tagged act-selenium:latest\n",
      "\n",
      "SECURITY WARNING: You are building a Docker image from Windows against a non-Windows Docker host. All files and directories added to build context will have '-rwxr-xr-x' permissions. It is recommended to double check and reset permissions for sensitive files and directories.\n",
      "\n"
     ]
    },
    {
     "data": {
      "text/plain": [
       "[ 'Sending build context to Docker daemon  1.146MB\\r\\r\\nStep 1/25 : FROM selenium/standalone-chrome-debug\\n ---> e5d173515f75\\nStep 2/25 : EXPOSE 4200\\n ---> Using cache\\n ---> de4aacbca0e7\\nStep 3/25 : EXPOSE 4444\\n ---> Using cache\\n ---> 9824efc0efee\\nStep 4/25 : EXPOSE 3000\\n ---> Using cache\\n ---> 90f8baf644e6\\nStep 5/25 : ENV DBUS_SESSION_BUS_ADDRESS /dev/null\\n ---> Using cache\\n ---> e623a9c291c0\\nStep 6/25 : ENV CHROME_USER_DATA_DIR /usr/profile\\n ---> Using cache\\n ---> a3dfb094f7c7\\nStep 7/25 : WORKDIR /home/seluser\\n ---> Using cache\\n ---> 0db91782a4cd\\nStep 8/25 : USER root\\n ---> Using cache\\n ---> 8d357dc0e08d\\nStep 9/25 : RUN mkdir /usr/profile\\n ---> Using cache\\n ---> 3bd85a5247b3\\nStep 10/25 : RUN mkdir /usr/downloads\\n ---> Using cache\\n ---> 6f8e1705c264\\nStep 11/25 : RUN chown seluser:seluser -R /usr/profile\\n ---> Using cache\\n ---> 4c97231d1909\\nStep 12/25 : RUN chown seluser:seluser -R /usr/downloads\\n ---> Using cache\\n ---> 0a00241ced53\\nStep 13/25 : RUN chmod 777 -R /usr/profile\\n ---> Using cache\\n ---> baa858dc174c\\nStep 14/25 : RUN chmod 777 -R /usr/downloads\\n ---> Using cache\\n ---> 10afb13eeb26\\nStep 15/25 : RUN sed -i \\'/wait \\\\$NODE_PID/ised -i -e s/exit_type\":\"Crashed/exit_type\":\"None/g /usr/profile/Default/Preferences &\\' /opt/bin/entry_point.sh\\n ---> Using cache\\n ---> 6b0ca428136e\\nStep 16/25 : RUN sed -i \\'/wait \\\\$NODE_PID/ised -i -e s/exited_cleanly\":false/exited_cleanly\":true/g /usr/profile/Default/Preferences &\\' /opt/bin/entry_point.sh\\n ---> Using cache\\n ---> 64482da558bc\\nStep 17/25 : RUN mkdir /var/lib/apt/lists/partial\\n ---> Using cache\\n ---> f07d15ee9af8\\nStep 18/25 : RUN apt-get -qq update\\n ---> Using cache\\n ---> 49a99fddedbd\\nStep 19/25 : RUN apt-get install -y --fix-missing git curl wget zip unzip vim dos2unix g++ python net-tools make websockify novnc\\n ---> Using cache\\n ---> 887629e4adfe\\nStep 20/25 : RUN mkdir -p novnc ; if git --work-tree=./novnc branch | grep master; then  echo \"Already checked out novnc\";  else  git clone https://github.com/novnc/noVNC.git ./novnc ;  fi ; ls -la novnc ; pwd\\n ---> Using cache\\n ---> 910bc53957dc\\nStep 21/25 : RUN dos2unix /home/seluser/novnc/utils/launch.sh\\n ---> Using cache\\n ---> e98c0a2144bd\\nStep 22/25 : RUN sed -i -e \\'s/export GEOMETRY.*/export GEOMETRY=\"8160x6120x24\"/g\\' /opt/bin/entry_point.sh\\n ---> Using cache\\n ---> 63b1ed8e187b\\nStep 23/25 : RUN sed -i -e \\'s/x11vnc/x11vnc -scale 2700x2048 -noxdamage/g\\' /opt/bin/entry_point.sh\\n ---> Using cache\\n ---> 5a39520f6c74\\nStep 24/25 : RUN sed -i \\'/wait \\\\$NODE_PID/i/home/seluser/novnc/utils/launch.sh --vnc localhost:5900 &\\' /opt/bin/entry_point.sh\\n ---> Using cache\\n ---> 86c5e285f382\\nStep 25/25 : USER seluser\\n ---> Using cache\\n ---> 9b1a3a1f2333\\nSuccessfully built 9b1a3a1f2333\\nSuccessfully tagged act-selenium:latest\\nSECURITY WARNING: You are building a Docker image from Windows against a non-Windows Docker host. All files and directories added to build context will have \\'-rwxr-xr-x\\' permissions. It is recommended to double check and reset permissions for sensitive files and directories.\\n',\n",
       "  'd1d66d7a8f27086824f8e845245aef020880de5e43351a505dd0b1e90c64bd0d\\n' ]"
      ]
     },
     "execution_count": 2,
     "metadata": {},
     "output_type": "execute_result"
    }
   ],
   "source": [
    "var importer = require('../Core');\n",
    "var {getSeleniumServer} = importer.import([\n",
    "    'What is Selenium.ipynb[what is selenium]',\n",
    "    'set up selenium server'\n",
    "]);\n",
    "\n",
    "$$.async();\n",
    "getSeleniumServer()\n",
    "    .then(r => $$.sendResult(r))\n",
    "    .catch(e => $$.sendError(e));\n",
    "\n"
   ]
  },
  {
   "cell_type": "markdown",
   "metadata": {},
   "source": [
    "# 2\n",
    "\n",
    "How to connect to VNC through the web browser?\n",
    "\n",
    "[Click here to open](http://localhost:6080/vnc.html?password=secret&host=localhost&port=6080&autoconnect=true&resize=downscale&view_only=true&reconnect=true) in a separate browser\n"
   ]
  },
  {
   "cell_type": "code",
   "execution_count": 1,
   "metadata": {
    "inputHidden": false,
    "outputHidden": false
   },
   "outputs": [
    {
     "data": {
      "text/plain": [
       "[Function: vncIframe]"
      ]
     },
     "execution_count": 1,
     "metadata": {},
     "output_type": "execute_result"
    }
   ],
   "source": [
    "function urlEncode(obj) {\n",
    "    return Object.keys(obj).map(k => encodeURIComponent(k) + '=' + encodeURIComponent(obj[k])).join('&');\n",
    "}\n",
    "\n",
    "var vncIframe = (options = {\n",
    "    password: 'secret',\n",
    "    host: 'localhost',\n",
    "    port: 6080,\n",
    "    autoconnect: true,\n",
    "    resize: 'downscale',\n",
    "    view_only: true,\n",
    "    reconnect: true\n",
    "}) => `\n",
    "<div style=\"display:block; width:100%; padding-bottom:69%;position:relative;\">\n",
    "<iframe id=\"vnc\"\n",
    "style=\"position:absolute;top:0;right:0;bottom:0;left:0;width:100%;height:100%;border:0;\" \n",
    "src=\"//local:6080/vnc.html?${urlEncode(options)}\"></iframe></div>\n",
    "`;\n",
    "module.exports = vncIframe;\n",
    "vncIframe;\n",
    "\n"
   ]
  },
  {
   "cell_type": "code",
   "execution_count": 2,
   "metadata": {
    "collapsed": false,
    "inputHidden": false,
    "outputHidden": false
   },
   "outputs": [
    {
     "data": {
      "text/html": [
       "\n",
       "<div style=\"display:block; width:100%; padding-bottom:69%;position:relative;\">\n",
       "<iframe id=\"vnc\"\n",
       "style=\"position:absolute;top:0;right:0;bottom:0;left:0;width:100%;height:100%;border:0;\" \n",
       "src=\"//local:6080/vnc.html?password=secret&host=localhost&port=6080&autoconnect=true&resize=downscale&view_only=true&reconnect=true\"></iframe></div>\n"
      ]
     },
     "execution_count": 2,
     "metadata": {},
     "output_type": "execute_result"
    }
   ],
   "source": [
    "$$.mime({'text/html': vncIframe()});\n"
   ]
  },
  {
   "cell_type": "markdown",
   "metadata": {},
   "source": [
    "## 3\n",
    "\n",
    "How to run a selenium cell on the Docker machine?\n",
    "\n"
   ]
  },
  {
   "cell_type": "code",
   "execution_count": 11,
   "metadata": {},
   "outputs": [
    {
     "data": {
      "text/plain": [
       "[Function: runSeleniumCell]"
      ]
     },
     "execution_count": 11,
     "metadata": {},
     "output_type": "execute_result"
    }
   ],
   "source": [
    "var importer = require('../Core');\n",
    "\n",
    "function runSeleniumCell(search, newWindow = true) {\n",
    "    var createWebdriverClient = importer.import('webdriver client');\n",
    "    var client = createWebdriverClient();\n",
    "    var ctx = {client};\n",
    "    var {\n",
    "        getCredentials,\n",
    "        getAllXPath,\n",
    "        getAllUntil,\n",
    "        resizeWindow,\n",
    "        onlyOneWindow,\n",
    "        getAllSessionUrls,\n",
    "        clickSpa,\n",
    "    } = importer.import([\n",
    "        'decrypt password',\n",
    "        'all elements xpath',\n",
    "        'get all elements until',\n",
    "        'resize selenium window',\n",
    "        'only one window',\n",
    "        'get all session urls',\n",
    "        'click spa link',\n",
    "    ], ctx);\n",
    "    var formUtilities = importer.import('form utilities', ctx);\n",
    "    return client\n",
    "        .getActiveSessions()\n",
    "        .then(() => (newWindow\n",
    "                     ? client\n",
    "                     .then(() => onlyOneWindow())\n",
    "                     .then(() => getAllSessionUrls())\n",
    "                     : client))\n",
    "        .then(() => {\n",
    "            if(typeof search === 'undefined') {\n",
    "                return client;\n",
    "            }\n",
    "            return importer.import(search, Object.assign(ctx, {\n",
    "                client: client,\n",
    "                browser: client,\n",
    "                getCredentials,\n",
    "                getAllXPath,\n",
    "                getAllUntil,\n",
    "                resizeWindow,\n",
    "                clickSpa,\n",
    "            }, formUtilities))\n",
    "        })\n",
    "};\n",
    "module.exports = runSeleniumCell;\n"
   ]
  },
  {
   "cell_type": "code",
   "execution_count": null,
   "metadata": {},
   "outputs": [
    {
     "name": "stdout",
     "output_type": "stream",
     "text": [
      "Initializing webdriver on localhost\n",
      "[ 1510335301592, '80302827-6a4d-461e-80a1-bfc09636544a' ]\n",
      "\u001b[1;30m[14:00:50] \u001b[0m \u001b[0;35mCOMMAND\t\u001b[0mGET \t \"/wd/hub/session/80302827-6a4d-461e-80a1-bfc09636544a/window_handle\"\n",
      "[ 1510335301652, '61a7d2c9-2cad-45a4-b14a-1e14e0110385' ]\n",
      "\u001b[1;30m[14:01:31] \u001b[0m \u001b[0;35mCOMMAND\t\u001b[0mGET \t \"/wd/hub/session/61a7d2c9-2cad-45a4-b14a-1e14e0110385/window_handle\"\n",
      "[ 1510335301671, '45060462-a7c8-4412-8ad2-d86bd346bd1c' ]\n",
      "\u001b[1;30m[14:02:11] \u001b[0m \u001b[0;35mCOMMAND\t\u001b[0mGET \t \"/wd/hub/session/45060462-a7c8-4412-8ad2-d86bd346bd1c/window_handle\"\n",
      "[ 1510335301696, '2ceb787b-3923-4d3b-b179-eff941c50b3e' ]\n",
      "\u001b[1;30m[14:02:42] \u001b[0m \u001b[0;35mCOMMAND\t\u001b[0mGET \t \"/wd/hub/session/2ceb787b-3923-4d3b-b179-eff941c50b3e/window_handle\"\n",
      "[ 1510335301731, 'eb35a1f1-c85b-400b-aeea-355389966f56' ]\n",
      "\u001b[1;30m[14:02:55] \u001b[0m \u001b[0;35mCOMMAND\t\u001b[0mGET \t \"/wd/hub/session/eb35a1f1-c85b-400b-aeea-355389966f56/window_handle\"\n",
      "[ 1510335301745, '317dede0-4d5b-42cd-83f7-361d9e844038' ]\n",
      "\u001b[1;30m[14:03:35] \u001b[0m \u001b[0;35mCOMMAND\t\u001b[0mGET \t \"/wd/hub/session/317dede0-4d5b-42cd-83f7-361d9e844038/window_handle\"\n",
      "[ 1510335309541, 'f4fbb8ba-6e67-410c-999e-04464c69d710' ]\n",
      "\u001b[1;30m[14:03:57] \u001b[0m \u001b[0;35mCOMMAND\t\u001b[0mGET \t \"/wd/hub/session/f4fbb8ba-6e67-410c-999e-04464c69d710/window_handle\"\n",
      "[]\n",
      "\u001b[1;30m[14:04:01] \u001b[0m \u001b[0;35mCOMMAND\t\u001b[0mPOST \t \"/wd/hub/session\"\n",
      "{ Error: Couldn't connect to selenium server\n",
      "    at session(\"delete\") - C:\\Users\\brian.cullinan\\Documents\\jupytangular2\\node_modules\\webdriverio\\build\\lib\\commands\\end.js:31:17\n",
      "    at session() - C:\\Users\\brian.cullinan\\Documents\\jupytangular2\\Selenium\\webdriver.ipynb[0]:74:59\n",
      "  message: 'connect ECONNREFUSED 127.0.0.1:4444',\n",
      "  type: 'RuntimeError',\n",
      "  seleniumStack: \n",
      "   { status: -1,\n",
      "     type: 'ECONNREFUSED',\n",
      "     message: 'Couldn\\'t connect to selenium server',\n",
      "     orgStatusMessage: 'connect ECONNREFUSED 127.0.0.1:4444' } }\n",
      "\u001b[1;30m[14:04:05] \u001b[0m \u001b[0;35mCOMMAND\t\u001b[0mGET \t \"/wd/hub/session/f4fbb8ba-6e67-410c-999e-04464c69d710/window_handle\"\n"
     ]
    }
   ],
   "source": [
    "var importer = require('../Core');\n",
    "var runSeleniumCell = importer.import('selenium cell');\n",
    "\n",
    "$$.async()\n",
    "runSeleniumCell('test docker selenium')\n",
    "    .then(r => $$.sendResult(r))\n",
    "    .catch(e => $$.sendError(e));\n"
   ]
  },
  {
   "cell_type": "markdown",
   "metadata": {},
   "source": [
    "Test docker selenium?"
   ]
  },
  {
   "cell_type": "code",
   "execution_count": null,
   "metadata": {
    "inputHidden": false,
    "outputHidden": false
   },
   "outputs": [],
   "source": [
    "function testLive() {\n",
    "    return client\n",
    "        .url('https://purchasesprint.actops.com')\n",
    "        .click('[href*=\"/auth\"], [routerlink*=\"/auth\"]');\n",
    "}\n",
    "module.exports = testLive();\n",
    "\n"
   ]
  },
  {
   "cell_type": "markdown",
   "metadata": {},
   "source": [
    "\n",
    "TODO:\n",
    "\n",
    "Auto fill fields in a live browser using the \n",
    "\n",
    "Transfer login state to current browser?\n",
    "\n"
   ]
  },
  {
   "cell_type": "code",
   "execution_count": null,
   "metadata": {},
   "outputs": [],
   "source": []
  }
 ],
 "metadata": {
  "kernel_info": {
   "name": "node_nteract"
  },
  "kernelspec": {
   "display_name": "Javascript (Node.js)",
   "language": "javascript",
   "name": "javascript"
  },
  "language_info": {
   "file_extension": ".js",
   "mimetype": "application/javascript",
   "name": "javascript",
   "version": "8.6.0"
  }
 },
 "nbformat": 4,
 "nbformat_minor": 4
}
