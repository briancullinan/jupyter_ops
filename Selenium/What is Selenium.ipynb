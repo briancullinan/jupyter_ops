{
 "cells": [
  {
   "cell_type": "markdown",
   "metadata": {},
   "source": [
    "# What is Selenium?\n",
    "\n",
    "## 1\n",
    "\n",
    "What environment do we use?\n",
    "\n",
    "See [What is Docker?](What%20is%20Docker.ipynb)\n",
    "\n",
    "Run Selenium in Docker?\n"
   ]
  },
  {
   "cell_type": "code",
   "execution_count": 1,
   "metadata": {
    "inputHidden": false,
    "outputHidden": false
   },
   "outputs": [
    {
     "data": {
      "text/plain": [
       "[Function: seleniumDocker]"
      ]
     },
     "execution_count": 1,
     "metadata": {},
     "output_type": "execute_result"
    }
   ],
   "source": [
    "var importer = require('../Core');\n",
    "var path = require('path');\n",
    "var writeFileSync = require('fs').writeFileSync;\n",
    "\n",
    "// add some run commands to the bash script\n",
    "var bashToRun = (code) => code.split('\\n').filter(n => n.trim().length > 0).map(l => 'RUN ' + l.trim())\n",
    "    .join('\\n').replace(/\\\\\\s*\\nRUN\\s*/ig, '\\\\\\n ');\n",
    "\n",
    "// create a selenium Dockerfile with a vnc connection\n",
    "var seleniumDocker = (outputFile) => {\n",
    "    return importer.interpretAll([\n",
    "        'run selenium',\n",
    "        // add some extra services\n",
    "        'linux dev tools',\n",
    "        'vnc html',\n",
    "        'vnc docker'\n",
    "    ]).then(r => {\n",
    "        // convert some results to Docker RUN commands instead of bash\n",
    "        r[1].code = bashToRun(r[1].code);\n",
    "        r[2].code = bashToRun(r[2].code);\n",
    "        return r.map(r => r.code).join('\\n');\n",
    "    })\n",
    "    .then(r => {\n",
    "        // save the Dockerfile\n",
    "        writeFileSync(outputFile, r);\n",
    "        return r;\n",
    "    });\n",
    "};\n",
    "module.exports = seleniumDocker;\n",
    "seleniumDocker;\n"
   ]
  },
  {
   "cell_type": "markdown",
   "metadata": {},
   "source": [
    "How to set up selenium server?"
   ]
  },
  {
   "cell_type": "code",
   "execution_count": 2,
   "metadata": {
    "inputHidden": false,
    "outputHidden": false
   },
   "outputs": [
    {
     "data": {
      "text/plain": [
       "[Function: getSeleniumServer]"
      ]
     },
     "execution_count": 2,
     "metadata": {},
     "output_type": "execute_result"
    }
   ],
   "source": [
    "var importer = require('../Core');\n",
    "var path = require('path');\n",
    "\n",
    "var DOWNLOAD_DIR = path.join(process.env.HOME || process.env.HOMEPATH || process.env.USERPROFILE, 'Downloads');\n",
    "var PROFILE_DIR = path.join(process.env.HOME || process.env.HOMEPATH || process.env.USERPROFILE, '.defaultProfile');\n",
    "\n",
    "var execCmd;\n",
    "var getSeleniumServer = (name = 'act-selenium') => {\n",
    "    try {\n",
    "        fs.mkdirSync(DOWNLOAD_DIR);\n",
    "    } catch (err) {\n",
    "        if (err.code != 'EEXIST') { throw err; }\n",
    "    }\n",
    "    try {\n",
    "        fs.mkdirSync(PROFILE_DIR);\n",
    "    } catch (err) {\n",
    "        if (err.code != 'EEXIST') { throw err; }\n",
    "    }\n",
    "    try {\n",
    "        fs.unlinkSync(path.join(PROFILE_DIR, 'SingletonLock'));\n",
    "    } catch (err) {\n",
    "        if (err.code != 'ENOENT') { throw err; }\n",
    "    }\n",
    "    var DOCKERFILE = path.resolve(path.join(__dirname, 'Dockerfile'));\n",
    "    return seleniumDocker(DOCKERFILE)\n",
    "        .then(() => importer.interpretAll('spawn child process'))\n",
    "        .then(r => {\n",
    "            execCmd = eval(\"'use strict';\" + r[0].code);\n",
    "            return execCmd('docker ps -a');\n",
    "        })\n",
    "        .then(r => {\n",
    "            if(r[0].indexOf(name) > -1) {\n",
    "                var build = 'docker stop ' + name + ';\\n';\n",
    "                return execCmd(build)\n",
    "                    .then(r => new Promise(resolve => setTimeout(() => resolve(r), 1000)))\n",
    "                    .then(() => execCmd('docker rm ' + name + ';\\n'));\n",
    "            }\n",
    "        })\n",
    "        .then(r => {\n",
    "            var build = 'docker build -t ' + name + ' \"' \n",
    "                + path.dirname(DOCKERFILE) + '\"\\n'\n",
    "                + 'docker run --shm-size=3g -d '\n",
    "                + '--name ' + name + ' ' \n",
    "                + '-p 8888:8888 '\n",
    "                + '-p 6080:6080 '\n",
    "                + '-p 5900:5900 '\n",
    "                + '-p 4444:4444 '\n",
    "                + '-p 4200:4200 '\n",
    "                + '-p 3000:3000 '\n",
    "                // TODO: add profile dir back in when permissions works on windows\n",
    "                + '-v \"' + DOWNLOAD_DIR + '\":/data/downloads ' \n",
    "                + name + '\\n';\n",
    "            return execCmd(build)\n",
    "        })\n",
    "        .then(r => new Promise(resolve => setTimeout(() => resolve(r), 5000)));\n",
    "};\n",
    "module.exports = getSeleniumServer;\n",
    "getSeleniumServer;\n",
    "\n"
   ]
  },
  {
   "cell_type": "code",
   "execution_count": 9,
   "metadata": {
    "collapsed": false,
    "inputHidden": false,
    "outputHidden": false
   },
   "outputs": [
    {
     "name": "stdout",
     "output_type": "stream",
     "text": [
      "Already imported\n",
      "[ 'import notebook.ipynb', 'interpret all notebooks.ipynb' ]\n",
      "Already imported\n",
      "[ 'import notebook.ipynb', 'interpret all notebooks.ipynb' ]\n"
     ]
    },
    {
     "data": {
      "text/plain": [
       "[ 'Sending build context to Docker daemon  254.5kB\\r\\r\\nStep 1/24 : FROM selenium/standalone-chrome-debug\\n ---> 593e47f379db\\nStep 2/24 : EXPOSE 4200\\n ---> Using cache\\n ---> f9ccda351e38\\nStep 3/24 : EXPOSE 4444\\n ---> Using cache\\n ---> 3eb6bc529dd1\\nStep 4/24 : EXPOSE 3000\\n ---> Using cache\\n ---> ba91491a572a\\nStep 5/24 : ENV DBUS_SESSION_BUS_ADDRESS /dev/null\\n ---> Using cache\\n ---> 79d2bf34af04\\nStep 6/24 : ENV CHROME_USER_DATA_DIR /usr/profile\\n ---> Using cache\\n ---> f7fa6507e3cb\\nStep 7/24 : WORKDIR /home/seluser\\n ---> Using cache\\n ---> ebb15c98c2ea\\nStep 8/24 : USER root\\n ---> Using cache\\n ---> 56faa5b05979\\nStep 9/24 : RUN mkdir /usr/profile\\n ---> Using cache\\n ---> 56ab0566268d\\nStep 10/24 : RUN mkdir /usr/downloads\\n ---> Using cache\\n ---> 8ffe3f40d9f5\\nStep 11/24 : RUN chown seluser:seluser -R /usr/profile\\n ---> Using cache\\n ---> 9d306a8473ec\\nStep 12/24 : RUN chown seluser:seluser -R /usr/downloads\\n ---> Using cache\\n ---> 6cfa1ac6fe9b\\nStep 13/24 : RUN chmod 777 -R /usr/profile\\n ---> Using cache\\n ---> 513fe513f209\\nStep 14/24 : RUN chmod 777 -R /usr/downloads\\n ---> Using cache\\n ---> 90c89e21978d\\nStep 15/24 : VOLUME /usr/profile\\n ---> Using cache\\n ---> 902e3b757981\\nStep 16/24 : VOLUME /data/downloads\\n ---> Using cache\\n ---> 031d61cff0eb\\nStep 17/24 : RUN mkdir /var/lib/apt/lists/partial\\n ---> Using cache\\n ---> df390f764e10\\nStep 18/24 : RUN apt-get -qq update\\n ---> Using cache\\n ---> 6bc9ed70cabe\\nStep 19/24 : RUN apt-get install -y --fix-missing git curl wget zip unzip vim dos2unix g++ python net-tools make websockify novnc\\n ---> Using cache\\n ---> 98b33286f9de\\nStep 20/24 : RUN mkdir -p novnc ; if git --work-tree=./novnc branch | grep \\'master\\'; then  echo \"Already checked out novnc\";  else  git clone https://github.com/novnc/noVNC.git ./novnc ;  fi ; ls -la novnc ; pwd\\n ---> Using cache\\n ---> cd4f28c385b2\\nStep 21/24 : RUN dos2unix /home/seluser/novnc/utils/launch.sh\\n ---> Using cache\\n ---> f8d10509a672\\nStep 22/24 : RUN sed -i -e \\'s/x11vnc/x11vnc -noxdamage/g\\' /opt/bin/entry_point.sh\\n ---> Using cache\\n ---> 539280872439\\nStep 23/24 : RUN sed -i \\'/wait \\\\$NODE_PID/i/home/seluser/novnc/utils/launch.sh --vnc localhost:5900 &\\' /opt/bin/entry_point.sh\\n ---> Using cache\\n ---> 35de358603ad\\nStep 24/24 : USER seluser\\n ---> Using cache\\n ---> 35deab524697\\nSuccessfully built 35deab524697\\nSuccessfully tagged act-selenium:latest\\n',\n",
       "  '136dd0e43558fb4277c3576fb62dfb185222fddeca09ca2c41e6f57143281372\\n' ]"
      ]
     },
     "execution_count": 9,
     "metadata": {},
     "output_type": "execute_result"
    }
   ],
   "source": [
    "$$.async();\n",
    "getSeleniumServer()\n",
    "    .then(r => $$.sendResult(r))\n",
    "    .catch(e => $$.sendError(e));\n",
    "\n"
   ]
  },
  {
   "cell_type": "markdown",
   "metadata": {},
   "source": [
    "# 2\n",
    "\n",
    "How to connect to VNC through the web browser?\n",
    "\n",
    "[Click here to open](http://localhost:6080/vnc.html?password=secret&host=localhost&port=6080&autoconnect=true&resize=downscale&view_only=true&reconnect=true) in a separate browser\n"
   ]
  },
  {
   "cell_type": "code",
   "execution_count": 4,
   "metadata": {
    "inputHidden": false,
    "outputHidden": false
   },
   "outputs": [
    {
     "data": {
      "text/plain": [
       "[Function: vncIframe]"
      ]
     },
     "execution_count": 4,
     "metadata": {},
     "output_type": "execute_result"
    }
   ],
   "source": [
    "\n",
    "var urlEncode = (obj) => {\n",
    "    return Object.keys(obj).map(k => encodeURIComponent(k) + '=' + encodeURIComponent(obj[k])).join('&');\n",
    "}\n",
    "\n",
    "var vncIframe = (options = {\n",
    "    password: 'secret',\n",
    "    host: 'localhost',\n",
    "    port: 6080,\n",
    "    autoconnect: true,\n",
    "    resize: 'downscale',\n",
    "    view_only: true,\n",
    "    reconnect: true}) => `\n",
    "<div style=\"display:block; width:100%; padding-bottom:70%;position:relative;\">\n",
    "<iframe id=\"vnc\"\n",
    "style=\"position:absolute;top:0;right:0;bottom:0;left:0;width:100%;height:100%;border:0;\" \n",
    "src=\"//local:6080/vnc.html?${urlEncode(options)}\"></iframe></div>\n",
    "`;\n",
    "module.exports = vncIframe;\n",
    "vncIframe;\n",
    "\n"
   ]
  },
  {
   "cell_type": "code",
   "execution_count": 13,
   "metadata": {
    "collapsed": false,
    "inputHidden": false,
    "outputHidden": false
   },
   "outputs": [
    {
     "data": {
      "text/html": [
       "\n",
       "<div style=\"display:block; width:100%; padding-bottom:70%;position:relative;\">\n",
       "<iframe id=\"vnc\"\n",
       "style=\"position:absolute;top:0;right:0;bottom:0;left:0;width:100%;height:100%;border:0;\" \n",
       "src=\"//local:6080/vnc.html?password=secret&host=localhost&port=6080&autoconnect=true&resize=downscale&view_only=true&reconnect=true\"></iframe></div>\n"
      ]
     },
     "execution_count": 13,
     "metadata": {},
     "output_type": "execute_result"
    }
   ],
   "source": [
    "$$.mime({'text/html': vncIframe()});\n"
   ]
  },
  {
   "cell_type": "markdown",
   "metadata": {},
   "source": [
    "## 3\n",
    "\n",
    "How to run a selenium cell on the Docker machine?\n",
    "\n"
   ]
  },
  {
   "cell_type": "code",
   "execution_count": 6,
   "metadata": {},
   "outputs": [
    {
     "data": {
      "text/plain": [
       "[Function: runSeleniumCell]"
      ]
     },
     "execution_count": 6,
     "metadata": {},
     "output_type": "execute_result"
    }
   ],
   "source": [
    "var importer = require('../Core');\n",
    "\n",
    "var runSeleniumCell = (search) => {\n",
    "    var client, getCredentials;\n",
    "    return importer.interpretAll(['webdriver client', 'decrypt password'])\n",
    "        .then(r => {\n",
    "            getCredentials = r[1].runInNewContext();\n",
    "            return r[0].runInNewContext();\n",
    "        })\n",
    "        .then(r => client = r())\n",
    "        .then(() => importer.interpretAll([search]))\n",
    "        .then(r => r[0].runFresherInNewContext({client, getCredentials}))\n",
    "};\n",
    "module.exports = runSeleniumCell;\n",
    "runSeleniumCell;\n",
    "\n"
   ]
  },
  {
   "cell_type": "code",
   "execution_count": 7,
   "metadata": {},
   "outputs": [
    {
     "name": "stdout",
     "output_type": "stream",
     "text": [
      "Already imported\n",
      "[ 'import notebook.ipynb', 'interpret all notebooks.ipynb' ]\n",
      "Initializing webdriver on localhost\n"
     ]
    },
    {
     "ename": "Error",
     "evalue": "connect ECONNREFUSED 127.0.0.1:4444",
     "execution_count": 7,
     "output_type": "error",
     "traceback": [
      "Error: Couldn't connect to selenium server",
      "    at sessions() - index.js:232:23"
     ]
    }
   ],
   "source": [
    "$$.async()\n",
    "runSeleniumCell('test docker selenium')\n",
    "    .then(r => $$.sendResult(r))\n",
    "    .catch(e => $$.sendError(e));\n"
   ]
  },
  {
   "cell_type": "markdown",
   "metadata": {},
   "source": [
    "Test docker selenium?"
   ]
  },
  {
   "cell_type": "code",
   "execution_count": 8,
   "metadata": {
    "inputHidden": false,
    "outputHidden": false
   },
   "outputs": [],
   "source": [
    "if(typeof client !== 'undefined') {\n",
    "    client.url('https://purchasesprint.actops.com');\n",
    "    client.click('[href*=\"/auth\"], [routerlink*=\"/auth\"]');\n",
    "    module.exports = client;\n",
    "}\n"
   ]
  },
  {
   "cell_type": "markdown",
   "metadata": {},
   "source": [
    "\n",
    "TODO:\n",
    "\n",
    "Auto fill fields in a live browser using the \n",
    "\n",
    "Transfer login state to current browser?\n",
    "\n"
   ]
  },
  {
   "cell_type": "code",
   "execution_count": null,
   "metadata": {},
   "outputs": [],
   "source": []
  }
 ],
 "metadata": {
  "kernel_info": {
   "name": "node_nteract"
  },
  "kernelspec": {
   "display_name": "Javascript (Node.js)",
   "language": "javascript",
   "name": "javascript"
  },
  "language_info": {
   "file_extension": ".js",
   "mimetype": "application/javascript",
   "name": "javascript",
   "version": "7.7.2"
  }
 },
 "nbformat": 4,
 "nbformat_minor": 4
}
