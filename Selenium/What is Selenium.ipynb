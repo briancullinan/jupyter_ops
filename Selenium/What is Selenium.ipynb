{
 "cells": [
  {
   "cell_type": "markdown",
   "metadata": {},
   "source": [
    "# What is Selenium?\n",
    "\n",
    "## 1\n",
    "\n",
    "What environment do we use?\n",
    "\n",
    "selenium docker?\n",
    "\n",
    "See [What is Docker?](What%20is%20Docker.ipynb)\n",
    "\n"
   ]
  },
  {
   "cell_type": "code",
   "execution_count": 1,
   "metadata": {
    "inputHidden": false,
    "outputHidden": false
   },
   "outputs": [
    {
     "data": {
      "text/plain": [
       "[Function: seleniumDocker]"
      ]
     },
     "execution_count": 1,
     "metadata": {},
     "output_type": "execute_result"
    }
   ],
   "source": [
    "var importer = require('../Core');\r",
    "var fs = require('fs');\r",
    "\r",
    "// add some run commands to the bash script\r",
    "var bashToRun = (code) => code.split('\\n').filter(n => n.trim().length > 0).map(l => 'RUN ' + l.trim())\r",
    "    .join('\\n').replace(/\\\\\\s*\\nRUN\\s*/ig, '\\\\\\n ');\r",
    "\r",
    "// create a selenium Dockerfile with a vnc connection\r",
    "var seleniumDocker = (outputFile) => {\n",
    "    const r = importer.interpret([\n",
    "        'run selenium inside docker',\n",
    "        // add some extra services\n",
    "        'linux dev tools',\n",
    "        'vnc html',\n",
    "        'vnc docker'\n",
    "    ]);\n",
    "    // convert some results to Docker RUN commands instead of bash\n",
    "    r[1].code = bashToRun(r[1].code);\n",
    "    r[2].code = bashToRun(r[2].code);\n",
    "    // save the Dockerfile\n",
    "    fs.writeFileSync(outputFile, r.map(r => r.code).join('\\n'));\n",
    "    return r;\n",
    "};\r",
    "module.exports = seleniumDocker;\r"
   ]
  },
  {
   "cell_type": "markdown",
   "metadata": {},
   "source": [
    "How to set up selenium server?"
   ]
  },
  {
   "cell_type": "code",
   "execution_count": 2,
   "metadata": {
    "inputHidden": false,
    "outputHidden": false
   },
   "outputs": [
    {
     "data": {
      "text/plain": [
       "[Function: getSeleniumServer]"
      ]
     },
     "execution_count": 2,
     "metadata": {},
     "output_type": "execute_result"
    }
   ],
   "source": [
    "var importer = require('../Core');\r",
    "var path = require('path');\r",
    "var fs = require('fs');\r",
    "var execCmd = importer.import('spawn child process');\n",
    "\r",
    "var DOWNLOAD_DIR = path.join(process.env.HOME || process.env.HOMEPATH || process.env.USERPROFILE, 'Downloads');\r",
    "var PROFILE_DIR = path.join(process.env.HOME || process.env.HOMEPATH || process.env.USERPROFILE, '.defaultProfile');\r",
    "var DOCKERFILE = path.resolve(path.join(__dirname, 'Dockerfile'));\n",
    "\r",
    "var getSeleniumServer = (name = 'act-selenium') => {\r",
    "    try {\r",
    "        fs.mkdirSync(DOWNLOAD_DIR);\r",
    "    } catch (err) {\r",
    "        if (err.code != 'EEXIST') {\r",
    "            throw err;\r",
    "        }\r",
    "    }\r",
    "    try {\r",
    "        fs.mkdirSync(PROFILE_DIR);\r",
    "    } catch (err) {\r",
    "        if (err.code != 'EEXIST') {\r",
    "            throw err;\r",
    "        }\r",
    "    }\r",
    "    try {\r",
    "        fs.unlinkSync(path.join(PROFILE_DIR, 'SingletonLock'));\r",
    "    } catch (err) {\r",
    "        if (err.code != 'ENOENT') {\r",
    "            throw err;\r",
    "        }\r",
    "    }\r",
    "    seleniumDocker(DOCKERFILE);\r",
    "    return execCmd('docker ps -a')\n",
    "        .then(r => {\r",
    "            if (r[0].indexOf(name) > -1) {\r",
    "                return execCmd('docker stop ' + name)\r",
    "                    .then(r => new Promise(resolve =>\r",
    "                        setTimeout(() => resolve(r), 1000)))\r",
    "                    .then(() => execCmd('docker rm ' + name));\r",
    "            }\r",
    "        })\r",
    "        .then(() => new Promise(resolve =>\r",
    "            setTimeout(() => resolve(), 1000)))\r",
    "        .then(() => {\r",
    "            var build = 'docker build -t ' + name + ' \"'\r",
    "                + path.dirname(DOCKERFILE) + '\"\\n'\r",
    "                + 'docker run --shm-size=3g -d '\r",
    "                + '--name ' + name + ' '\r",
    "                + '-p 8888:8888 '\r",
    "                + '-p 6080:6080 '\r",
    "                + '-p 5900:5900 '\r",
    "                + '-p 4444:4444 '\r",
    "                + '-p 4200:4200 '\r",
    "                + '-p 3000:3000 '\r",
    "                // TODO: add profile dir back in when permissions works on windows\r",
    "                + '-v \"' + DOWNLOAD_DIR + '\":/data/downloads '\r",
    "                + name + '\\n';\r",
    "            return execCmd(build)\r",
    "        })\r",
    "        .then(r => new Promise(resolve => setTimeout(() => resolve(r), 6000)))\r",
    "        .catch(e => console.log(e))\r",
    "};\r",
    "module.exports = getSeleniumServer;\r",
    "getSeleniumServer;\r",
    "\r"
   ]
  },
  {
   "cell_type": "code",
   "execution_count": null,
   "metadata": {
    "collapsed": false,
    "inputHidden": false,
    "outputHidden": false
   },
   "outputs": [],
   "source": [
    "var importer = require('../Core');\n",
    "var {getSeleniumServer} = importer.import([\n",
    "    'What is Selenium.ipynb[what is selenium]',\n",
    "    'set up selenium server'\n",
    "]);\n",
    "\n",
    "$$.async();\r",
    "getSeleniumServer()\r",
    "    .then(r => $$.sendResult(r))\r",
    "    .catch(e => $$.sendError(e));\r",
    "\r"
   ]
  },
  {
   "cell_type": "markdown",
   "metadata": {},
   "source": [
    "# 2\n",
    "\n",
    "How to connect to VNC through the web browser?\n",
    "\n",
    "[Click here to open](http://localhost:6080/vnc.html?password=secret&host=localhost&port=6080&autoconnect=true&resize=downscale&view_only=true&reconnect=true) in a separate browser\n"
   ]
  },
  {
   "cell_type": "code",
   "execution_count": null,
   "metadata": {
    "inputHidden": false,
    "outputHidden": false
   },
   "outputs": [],
   "source": [
    "var urlEncode = (obj) => {\r",
    "    return Object.keys(obj).map(k => encodeURIComponent(k) + '=' + encodeURIComponent(obj[k])).join('&');\r",
    "}\r",
    "\r",
    "var vncIframe = (options = {\r",
    "    password: 'secret',\r",
    "    host: 'localhost',\r",
    "    port: 6080,\r",
    "    autoconnect: true,\r",
    "    resize: 'downscale',\r",
    "    view_only: true,\r",
    "    reconnect: true\r",
    "}) => `\r",
    "<div style=\"display:block; width:100%; padding-bottom:70%;position:relative;\">\r",
    "<iframe id=\"vnc\"\r",
    "style=\"position:absolute;top:0;right:0;bottom:0;left:0;width:100%;height:100%;border:0;\" \r",
    "src=\"//local:6080/vnc.html?${urlEncode(options)}\"></iframe></div>\r",
    "`;\r",
    "module.exports = vncIframe;\r",
    "vncIframe;\r",
    "\r"
   ]
  },
  {
   "cell_type": "code",
   "execution_count": null,
   "metadata": {
    "collapsed": false,
    "inputHidden": false,
    "outputHidden": false
   },
   "outputs": [],
   "source": [
    "$$.mime({'text/html': vncIframe()});\r"
   ]
  },
  {
   "cell_type": "markdown",
   "metadata": {},
   "source": [
    "## 3\n",
    "\n",
    "How to run a selenium cell on the Docker machine?\n",
    "\n"
   ]
  },
  {
   "cell_type": "code",
   "execution_count": null,
   "metadata": {},
   "outputs": [],
   "source": [
    "var importer = require('../Core');\n",
    "var createWebdriverClient = importer.import('webdriver client');\n",
    "\n",
    "var runSeleniumCell = (search, newWindow = true) => {\n",
    "    var client = createWebdriverClient();\n",
    "    var ctx = {client};\n",
    "    var onlyOneWindow;\n",
    "    var {\n",
    "        getCredentials,\n",
    "        getAllXPath,\n",
    "        getAllUntil,\n",
    "        resizeWindow,\n",
    "        onlyOneWindow,\n",
    "        getAllSessionUrls,\n",
    "    } = importer.import([\n",
    "        'decrypt password',\n",
    "        'all elements xpath',\n",
    "        'get all elements until',\n",
    "        'resize selenium window',\n",
    "        'only one window',\n",
    "        'get all session urls'\n",
    "    ], ctx);\n",
    "    return (newWindow\n",
    "            ? client\n",
    "        .getActiveSessions()\n",
    "        .then(() => onlyOneWindow())\n",
    "        .then(() => getAllSessionUrls())\n",
    "            : client)\n",
    "        .then(() => {\n",
    "            return importer.import(search, Object.assign(ctx, {\n",
    "                browser: client,\n",
    "                getCredentials,\n",
    "                getAllXPath,\n",
    "                getAllUntil,\n",
    "                resizeWindow\n",
    "            }))\n",
    "        })\n",
    "};\n",
    "module.exports = runSeleniumCell;\n"
   ]
  },
  {
   "cell_type": "code",
   "execution_count": null,
   "metadata": {},
   "outputs": [],
   "source": [
    "var importer = require('../Core');\n",
    "var runSeleniumCell = importer.import('selenium cell');\n",
    "\n",
    "$$.async()\n",
    "runSeleniumCell('test docker selenium')\n",
    "    .then(r => $$.sendResult(r))\n",
    "    .catch(e => $$.sendError(e));\n"
   ]
  },
  {
   "cell_type": "markdown",
   "metadata": {},
   "source": [
    "Test docker selenium?"
   ]
  },
  {
   "cell_type": "code",
   "execution_count": null,
   "metadata": {
    "inputHidden": false,
    "outputHidden": false
   },
   "outputs": [],
   "source": [
    "var testLive = () => {\n",
    "    return client\n",
    "        .url('https://purchasesprint.actops.com')\n",
    "        .click('[href*=\"/auth\"], [routerlink*=\"/auth\"]');\n",
    "}\n",
    "module.exports = testLive();\n",
    "\n"
   ]
  },
  {
   "cell_type": "markdown",
   "metadata": {},
   "source": [
    "\n",
    "TODO:\n",
    "\n",
    "Auto fill fields in a live browser using the \n",
    "\n",
    "Transfer login state to current browser?\n",
    "\n"
   ]
  },
  {
   "cell_type": "code",
   "execution_count": null,
   "metadata": {},
   "outputs": [],
   "source": []
  }
 ],
 "metadata": {
  "kernel_info": {
   "name": "node_nteract"
  },
  "kernelspec": {
   "display_name": "Javascript (Node.js)",
   "language": "javascript",
   "name": "javascript"
  },
  "language_info": {
   "file_extension": ".js",
   "mimetype": "application/javascript",
   "name": "javascript",
   "version": "8.6.0"
  }
 },
 "nbformat": 4,
 "nbformat_minor": 4
}
