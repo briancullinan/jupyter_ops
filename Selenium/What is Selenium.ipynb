{
 "cells": [
  {
   "cell_type": "markdown",
   "metadata": {},
   "source": [
    "# What is Selenium?\n",
    "\n",
    "## 1\n",
    "\n",
    "What environment do we use?\n",
    "\n",
    "See [What is Docker?](What%20is%20Docker.ipynb)\n",
    "\n",
    "Run Selenium in Docker?\n"
   ]
  },
  {
   "cell_type": "code",
   "execution_count": 9,
   "metadata": {
    "inputHidden": false,
    "outputHidden": false
   },
   "outputs": [
    {
     "data": {
      "text/plain": [
       "[Function: seleniumDocker]"
      ]
     },
     "execution_count": 9,
     "metadata": {},
     "output_type": "execute_result"
    }
   ],
   "source": [
    "var importer = require('../Core');\r",
    "var fs = require('fs');\r",
    "\r",
    "// add some run commands to the bash script\r",
    "var bashToRun = (code) => code.split('\\n').filter(n => n.trim().length > 0).map(l => 'RUN ' + l.trim())\r",
    "    .join('\\n').replace(/\\\\\\s*\\nRUN\\s*/ig, '\\\\\\n ');\r",
    "\r",
    "// create a selenium Dockerfile with a vnc connection\r",
    "var seleniumDocker = (outputFile) => {\r",
    "    return importer.interpret([\r",
    "        'run selenium',\r",
    "        // add some extra services\r",
    "        'linux dev tools',\r",
    "        'vnc html',\r",
    "        'vnc docker'\r",
    "    ]).then(r => {\r",
    "        // convert some results to Docker RUN commands instead of bash\r",
    "        r[1].code = bashToRun(r[1].code);\r",
    "        r[2].code = bashToRun(r[2].code);\r",
    "        return r.map(r => r.code).join('\\n');\r",
    "    })\r",
    "        .then(r => {\r",
    "            // save the Dockerfile\r",
    "            fs.writeFileSync(outputFile, r);\r",
    "            return r;\r",
    "        })\r",
    "        .catch(e => console.log(e))\r",
    "};\r",
    "module.exports = seleniumDocker;\r"
   ]
  },
  {
   "cell_type": "markdown",
   "metadata": {},
   "source": [
    "How to set up selenium server?"
   ]
  },
  {
   "cell_type": "code",
   "execution_count": 10,
   "metadata": {
    "inputHidden": false,
    "outputHidden": false
   },
   "outputs": [
    {
     "data": {
      "text/plain": [
       "[Function: getSeleniumServer]"
      ]
     },
     "execution_count": 10,
     "metadata": {},
     "output_type": "execute_result"
    }
   ],
   "source": [
    "var importer = require('../Core');\r",
    "var path = require('path');\r",
    "var fs = require('fs');\r",
    "\r",
    "var DOWNLOAD_DIR = path.join(process.env.HOME || process.env.HOMEPATH || process.env.USERPROFILE, 'Downloads');\r",
    "var PROFILE_DIR = path.join(process.env.HOME || process.env.HOMEPATH || process.env.USERPROFILE, '.defaultProfile');\r",
    "\r",
    "var execCmd;\n",
    "var getSeleniumServer = (name = 'act-selenium') => {\r",
    "    try {\r",
    "        fs.mkdirSync(DOWNLOAD_DIR);\r",
    "    } catch (err) {\r",
    "        if (err.code != 'EEXIST') {\r",
    "            throw err;\r",
    "        }\r",
    "    }\r",
    "    try {\r",
    "        fs.mkdirSync(PROFILE_DIR);\r",
    "    } catch (err) {\r",
    "        if (err.code != 'EEXIST') {\r",
    "            throw err;\r",
    "        }\r",
    "    }\r",
    "    try {\r",
    "        fs.unlinkSync(path.join(PROFILE_DIR, 'SingletonLock'));\r",
    "    } catch (err) {\r",
    "        if (err.code != 'ENOENT') {\r",
    "            throw err;\r",
    "        }\r",
    "    }\r",
    "    var DOCKERFILE = path.resolve(path.join(__dirname, 'Dockerfile'));\r",
    "    return seleniumDocker(DOCKERFILE)\r",
    "        .then(() => importer.import('spawn child process'))\r",
    "        .then(r => {\n",
    "            execCmd = r;\n",
    "            return execCmd('docker ps -a');\n",
    "        })\r",
    "        .then(r => {\r",
    "            if (r[0].indexOf(name) > -1) {\r",
    "                return execCmd('docker stop ' + name)\r",
    "                    .then(r => new Promise(resolve =>\r",
    "                        setTimeout(() => resolve(r), 1000)))\r",
    "                    .then(() => execCmd('docker rm ' + name));\r",
    "            }\r",
    "        })\r",
    "        .then(() => new Promise(resolve =>\r",
    "            setTimeout(() => resolve(), 1000)))\r",
    "        .then(() => {\r",
    "            var build = 'docker build -t ' + name + ' \"'\r",
    "                + path.dirname(DOCKERFILE) + '\"\\n'\r",
    "                + 'docker run --shm-size=3g -d '\r",
    "                + '--name ' + name + ' '\r",
    "                + '-p 8888:8888 '\r",
    "                + '-p 6080:6080 '\r",
    "                + '-p 5900:5900 '\r",
    "                + '-p 4444:4444 '\r",
    "                + '-p 4200:4200 '\r",
    "                + '-p 3000:3000 '\r",
    "                // TODO: add profile dir back in when permissions works on windows\r",
    "                + '-v \"' + DOWNLOAD_DIR + '\":/data/downloads '\r",
    "                + name + '\\n';\r",
    "            return execCmd(build)\r",
    "        })\r",
    "        .then(r => new Promise(resolve => setTimeout(() => resolve(r), 6000)))\r",
    "        .catch(e => console.log(e))\r",
    "};\r",
    "module.exports = getSeleniumServer;\r",
    "getSeleniumServer;\r",
    "\r"
   ]
  },
  {
   "cell_type": "code",
   "execution_count": 11,
   "metadata": {
    "collapsed": false,
    "inputHidden": false,
    "outputHidden": false
   },
   "outputs": [
    {
     "data": {
      "text/plain": [
       "[ 'Sending build context to Docker daemon  83.46kB\\r\\r\\nStep 1/24 : FROM selenium/standalone-chrome-debug\\n ---> 593e47f379db\\nStep 2/24 : EXPOSE 4200\\n ---> Using cache\\n ---> 39b5a98f4dc5\\nStep 3/24 : EXPOSE 4444\\n ---> Using cache\\n ---> 3ee9ec07c44f\\nStep 4/24 : EXPOSE 3000\\n ---> Using cache\\n ---> 1d57d4521ce3\\nStep 5/24 : ENV DBUS_SESSION_BUS_ADDRESS /dev/null\\n ---> Using cache\\n ---> 7249cd85d0a3\\nStep 6/24 : ENV CHROME_USER_DATA_DIR /usr/profile\\n ---> Using cache\\n ---> 61abfc7a8627\\nStep 7/24 : WORKDIR /home/seluser\\n ---> Using cache\\n ---> 70e89c34910a\\nStep 8/24 : USER root\\n ---> Using cache\\n ---> 30c904df1014\\nStep 9/24 : RUN mkdir /usr/profile\\n ---> Using cache\\n ---> 9b0c20964a09\\nStep 10/24 : RUN mkdir /usr/downloads\\n ---> Using cache\\n ---> 97afce9e8757\\nStep 11/24 : RUN chown seluser:seluser -R /usr/profile\\n ---> Using cache\\n ---> b1ff20b3a84f\\nStep 12/24 : RUN chown seluser:seluser -R /usr/downloads\\n ---> Using cache\\n ---> 89ed8bb6fac8\\nStep 13/24 : RUN chmod 777 -R /usr/profile\\n ---> Using cache\\n ---> 64b58fadb6ba\\nStep 14/24 : RUN chmod 777 -R /usr/downloads\\n ---> Using cache\\n ---> 8b2526be154f\\nStep 15/24 : RUN sed -i \\'/wait \\\\$NODE_PID/ised -i -e s/exit_type\":\"Crashed/exit_type\":\"None/g /usr/profile/Default/Preferences &\\' /opt/bin/entry_point.sh\\n ---> Using cache\\n ---> 6de54a652b4b\\nStep 16/24 : RUN sed -i \\'/wait \\\\$NODE_PID/ised -i -e s/exited_cleanly\":false/exited_cleanly\":true/g /usr/profile/Default/Preferences &\\' /opt/bin/entry_point.sh\\n ---> Using cache\\n ---> 0278f28bc63f\\nStep 17/24 : RUN mkdir /var/lib/apt/lists/partial\\n ---> Using cache\\n ---> 97ff09aa79dc\\nStep 18/24 : RUN apt-get -qq update\\n ---> Using cache\\n ---> 0c5b8b35ac73\\nStep 19/24 : RUN apt-get install -y --fix-missing git curl wget zip unzip vim dos2unix g++ python net-tools make websockify novnc\\n ---> Using cache\\n ---> 8194d40ebc2c\\nStep 20/24 : RUN mkdir -p novnc ; if git --work-tree=./novnc branch | grep \\'master\\'; then  echo \"Already checked out novnc\";  else  git clone https://github.com/novnc/noVNC.git ./novnc ;  fi ; ls -la novnc ; pwd\\n ---> Using cache\\n ---> fae70d9f7282\\nStep 21/24 : RUN dos2unix /home/seluser/novnc/utils/launch.sh\\n ---> Using cache\\n ---> 340bb2842fc7\\nStep 22/24 : RUN sed -i -e \\'s/x11vnc/x11vnc -noxdamage/g\\' /opt/bin/entry_point.sh\\n ---> Using cache\\n ---> eb3496edb149\\nStep 23/24 : RUN sed -i \\'/wait \\\\$NODE_PID/i/home/seluser/novnc/utils/launch.sh --vnc localhost:5900 &\\' /opt/bin/entry_point.sh\\n ---> Using cache\\n ---> 80d492588556\\nStep 24/24 : USER seluser\\n ---> Using cache\\n ---> ed90d277786e\\nSuccessfully built ed90d277786e\\nSuccessfully tagged act-selenium:latest\\nSECURITY WARNING: You are building a Docker image from Windows against a non-Windows Docker host. All files and directories added to build context will have \\'-rwxr-xr-x\\' permissions. It is recommended to double check and reset permissions for sensitive files and directories.\\n',\n",
       "  '8329a6458df7577738f53ad761e9d2fc5191507ca0ef5e788fdea33b4257a072\\n' ]"
      ]
     },
     "execution_count": 11,
     "metadata": {},
     "output_type": "execute_result"
    }
   ],
   "source": [
    "$$.async();\r",
    "getSeleniumServer()\r",
    "    .then(r => $$.sendResult(r))\r",
    "    .catch(e => $$.sendError(e));\r",
    "\r"
   ]
  },
  {
   "cell_type": "markdown",
   "metadata": {},
   "source": [
    "# 2\n",
    "\n",
    "How to connect to VNC through the web browser?\n",
    "\n",
    "[Click here to open](http://localhost:6080/vnc.html?password=secret&host=localhost&port=6080&autoconnect=true&resize=downscale&view_only=true&reconnect=true) in a separate browser\n"
   ]
  },
  {
   "cell_type": "code",
   "execution_count": 1,
   "metadata": {
    "inputHidden": false,
    "outputHidden": false
   },
   "outputs": [
    {
     "data": {
      "text/plain": [
       "[Function: vncIframe]"
      ]
     },
     "execution_count": 1,
     "metadata": {},
     "output_type": "execute_result"
    }
   ],
   "source": [
    "var urlEncode = (obj) => {\r",
    "    return Object.keys(obj).map(k => encodeURIComponent(k) + '=' + encodeURIComponent(obj[k])).join('&');\r",
    "}\r",
    "\r",
    "var vncIframe = (options = {\r",
    "    password: 'secret',\r",
    "    host: 'localhost',\r",
    "    port: 6080,\r",
    "    autoconnect: true,\r",
    "    resize: 'downscale',\r",
    "    view_only: true,\r",
    "    reconnect: true\r",
    "}) => `\r",
    "<div style=\"display:block; width:100%; padding-bottom:70%;position:relative;\">\r",
    "<iframe id=\"vnc\"\r",
    "style=\"position:absolute;top:0;right:0;bottom:0;left:0;width:100%;height:100%;border:0;\" \r",
    "src=\"//local:6080/vnc.html?${urlEncode(options)}\"></iframe></div>\r",
    "`;\r",
    "module.exports = vncIframe;\r",
    "vncIframe;\r",
    "\r"
   ]
  },
  {
   "cell_type": "code",
   "execution_count": 2,
   "metadata": {
    "collapsed": false,
    "inputHidden": false,
    "outputHidden": false
   },
   "outputs": [
    {
     "data": {
      "text/html": [
       "\n",
       "<div style=\"display:block; width:100%; padding-bottom:70%;position:relative;\">\n",
       "<iframe id=\"vnc\"\n",
       "style=\"position:absolute;top:0;right:0;bottom:0;left:0;width:100%;height:100%;border:0;\" \n",
       "src=\"//local:6080/vnc.html?password=secret&host=localhost&port=6080&autoconnect=true&resize=downscale&view_only=true&reconnect=true\"></iframe></div>\n"
      ]
     },
     "execution_count": 2,
     "metadata": {},
     "output_type": "execute_result"
    }
   ],
   "source": [
    "$$.mime({'text/html': vncIframe()});\r"
   ]
  },
  {
   "cell_type": "markdown",
   "metadata": {},
   "source": [
    "## 3\n",
    "\n",
    "How to run a selenium cell on the Docker machine?\n",
    "\n"
   ]
  },
  {
   "cell_type": "code",
   "execution_count": 14,
   "metadata": {},
   "outputs": [
    {
     "data": {
      "text/plain": [
       "[Function: runSeleniumCell]"
      ]
     },
     "execution_count": 14,
     "metadata": {},
     "output_type": "execute_result"
    }
   ],
   "source": [
    "var importer = require('../Core');\r",
    "\r",
    "var runSeleniumCell = (search) => {\r",
    "    var client, getCredentials, getAllXPath, getAllUntil;\r",
    "    return importer.import([\r",
    "        'webdriver client',\r",
    "        'decrypt password'\r",
    "    ])\r",
    "        .then(r => {\r",
    "            getCredentials = r[1];\r",
    "            client = r[0]();\r",
    "            return importer.import([\r",
    "                'all xpath elements',\r",
    "                'get all elements until'\r",
    "            ], {client});\r",
    "        })\r",
    "        .then(r => {\r",
    "            getAllXPath = r[0];\r",
    "            getAllUntil = r[1];\r",
    "            return importer.import(search, {\r",
    "                browser: client,\r",
    "                client,\r",
    "                getCredentials,\r",
    "                getAllXPath,\r",
    "                getAllUntil\r",
    "            });\r",
    "        })\r",
    "        .catch(e => console.log(e))\r",
    "};\r",
    "module.exports = runSeleniumCell;\r"
   ]
  },
  {
   "cell_type": "code",
   "execution_count": 15,
   "metadata": {},
   "outputs": [
    {
     "name": "stdout",
     "output_type": "stream",
     "text": [
      "Initializing webdriver on localhost\n"
     ]
    },
    {
     "data": {
      "text/plain": [
       "{ state: 'success',\n",
       "  sessionId: '7fd49399-94fe-4d99-833b-ae09e43fe8ae',\n",
       "  hCode: 2091889856,\n",
       "  value: null,\n",
       "  class: 'org.openqa.selenium.remote.Response',\n",
       "  status: 0 }"
      ]
     },
     "execution_count": 15,
     "metadata": {},
     "output_type": "execute_result"
    }
   ],
   "source": [
    "var importer = require('../Core');\n",
    "\n",
    "$$.async()\n",
    "importer.import('selenium cell')\r",
    "    .then(runSeleniumCell => runSeleniumCell('test docker selenium'))\r",
    "    .then(r => $$.sendResult(r))\r",
    "    .catch(e => $$.sendError(e));\r"
   ]
  },
  {
   "cell_type": "markdown",
   "metadata": {},
   "source": [
    "Test docker selenium?"
   ]
  },
  {
   "cell_type": "code",
   "execution_count": 16,
   "metadata": {
    "inputHidden": false,
    "outputHidden": false
   },
   "outputs": [
    {
     "ename": "ReferenceError",
     "evalue": "client is not defined",
     "execution_count": 16,
     "output_type": "error",
     "traceback": [
      "ReferenceError: client is not defined",
      "    at testLive (evalmachine.<anonymous>:2:12)",
      "    at evalmachine.<anonymous>:6:18",
      "    at ContextifyScript.Script.runInThisContext (vm.js:23:33)",
      "    at Object.runInThisContext (vm.js:95:38)",
      "    at run ([eval]:617:19)",
      "    at onRunRequest ([eval]:388:22)",
      "    at onMessage ([eval]:356:17)",
      "    at emitTwo (events.js:106:13)",
      "    at process.emit (events.js:194:7)",
      "    at process.nextTick (internal/child_process.js:766:12)"
     ]
    }
   ],
   "source": [
    "var testLive = () => {\n",
    "    return client\n",
    "        .url('https://purchasesprint.actops.com')\n",
    "        .click('[href*=\"/auth\"], [routerlink*=\"/auth\"]');\n",
    "}\n",
    "module.exports = testLive();\n",
    "\n"
   ]
  },
  {
   "cell_type": "markdown",
   "metadata": {},
   "source": [
    "\n",
    "TODO:\n",
    "\n",
    "Auto fill fields in a live browser using the \n",
    "\n",
    "Transfer login state to current browser?\n",
    "\n"
   ]
  },
  {
   "cell_type": "code",
   "execution_count": null,
   "metadata": {},
   "outputs": [],
   "source": []
  }
 ],
 "metadata": {
  "kernel_info": {
   "name": "node_nteract"
  },
  "kernelspec": {
   "display_name": "Javascript (Node.js)",
   "language": "javascript",
   "name": "javascript"
  },
  "language_info": {
   "file_extension": ".js",
   "mimetype": "application/javascript",
   "name": "javascript",
   "version": "8.8.1"
  }
 },
 "nbformat": 4,
 "nbformat_minor": 4
}
