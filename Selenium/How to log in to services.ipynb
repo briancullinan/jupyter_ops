{
  "cells": [
    {
      "cell_type": "markdown",
      "source": [
        "Decrypt passwords.json?"
      ],
      "metadata": {}
    },
    {
      "cell_type": "code",
      "source": [
        "var path = require('path');\n",
        "var PROFILE_PATH = process.env.HOME || process.env.HOMEPATH || process.env.USERPROFILE;\n",
        "var PASS_FILE = path.join(PROFILE_PATH, '.credentials', 'password.txt');\n",
        "var PASSWORDS_FILE = path.join(PROFILE_PATH, '.credentials', 'passwords.json');\n",
        "var rfs = require('fs').readFileSync;\n",
        "var pass = process.env.SELENIUM_PASS || rfs(PASS_FILE);\n",
        "var crypto = require('crypto');\n",
        "var path = require('path');\n",
        "var decrypt = (text) => {\n",
        "    var decipher = crypto.createDecipher('aes-256-ctr', pass);\n",
        "    var dec = decipher.update(text, 'hex', 'latin1');\n",
        "    dec += decipher.final('latin1');\n",
        "    return dec;\n",
        "}\n",
        "\n",
        "var getCredentials = (name) => {\n",
        "    var resultSet = {};\n",
        "    var passwords = JSON.parse(rfs(PASSWORDS_FILE));\n",
        "    var set = passwords.filter(el => el.host == name)[0] || {};\n",
        "    for(var i in set) {\n",
        "        if(set.hasOwnProperty(i)) {\n",
        "            if(i == 'added' || i == 'host') {\n",
        "                resultSet[i] = set[i];\n",
        "                continue;\n",
        "            }\n",
        "            resultSet[i] = decrypt(set[i]);\n",
        "        }\n",
        "    }\n",
        "    return resultSet;\n",
        "}\n",
        "(getCredentials);\n",
        "\n"
      ],
      "outputs": [
        {
          "output_type": "execute_result",
          "execution_count": 1,
          "data": {
            "text/plain": [
              "[Function: getCredentials]"
            ]
          },
          "metadata": {}
        }
      ],
      "execution_count": 1,
      "metadata": {
        "collapsed": false,
        "outputHidden": false,
        "inputHidden": false
      }
    },
    {
      "cell_type": "markdown",
      "source": [
        "How to log in to Google using webdriver?"
      ],
      "metadata": {}
    },
    {
      "cell_type": "code",
      "source": [
        "var matchUsername = 'input[name=\"Email\"], input[autocomplete=\"username\"]';\n",
        "var enterGoogleUsername = (email) => {\n",
        "    console.log('Google: Sign in required');\n",
        "    return client\n",
        "        .waitForVisible(matchUsername, 1000)\n",
        "        .addValue(matchUsername, email)\n",
        "        .click('#identifierNext');\n",
        "}\n",
        "if (typeof client.enterGoogleUsername == 'undefined') {\n",
        "    client.addCommand('enterGoogleUsername', enterGoogleUsername);\n",
        "}\n",
        "\n",
        "var matchPassword = 'input[name=\"Passwd\"], input[autocomplete=\"password\"], input[name=\"password\"]';\n",
        "var enterGooglePassword = (pass) => {\n",
        "    console.log('Google: Require password');\n",
        "    return client\n",
        "        .waitForVisible(matchPassword, 5000)\n",
        "        .addValue(matchPassword, pass)\n",
        "        .click('#passwordNext');\n",
        "}\n",
        "if (typeof client.enterGooglePassword == 'undefined') {\n",
        "    client.addCommand('enterGooglePassword', enterGooglePassword);\n",
        "}\n",
        "\n",
        "var enterCredentials = (is) => {\n",
        "    var credentials = getCredentials('accounts.google.com');\n",
        "    if (is) {\n",
        "        return client\n",
        "            .enterGoogleUsername(credentials.Email)\n",
        "            .enterGooglePassword(credentials.Passwd)\n",
        "    } else {\n",
        "        return client.isExisting('h1*=Choose an account')\n",
        "            .then(is => {\n",
        "                if (is) {\n",
        "                    return client\n",
        "                        .click('p*=' + credentials.Email);\n",
        "                }\n",
        "            });\n",
        "    }\n",
        "}\n",
        "if (typeof client.enterCredentials == 'undefined') {\n",
        "    client.addCommand('enterCredentials', enterCredentials);\n",
        "}\n",
        "\n",
        "var loginGoogle = () => {\n",
        "        client.isExisting('h1*=Sign in')\n",
        "            .then(is => client.enterCredentials(is))\n",
        "            .catch((e) => {\n",
        "                console.log(e);\n",
        "                console.log('Google: Could not log in');\n",
        "            });\n",
        "    }\n",
        "if (typeof client.loginGoogle == 'undefined') {\n",
        "    client.addCommand('loginGoogle', loginGoogle);\n",
        "}\n",
        "(loginGoogle);\n",
        "\n"
      ],
      "outputs": [
        {
          "output_type": "error",
          "ename": "ReferenceError",
          "evalue": "client is not defined",
          "traceback": [
            "ReferenceError: client is not defined",
            "    at evalmachine.<anonymous>:9:12",
            "    at ContextifyScript.Script.runInThisContext (vm.js:25:33)",
            "    at Object.exports.runInThisContext (vm.js:77:17)",
            "    at run ([eval]:613:19)",
            "    at onRunRequest ([eval]:384:22)",
            "    at onMessage ([eval]:352:17)",
            "    at emitTwo (events.js:106:13)",
            "    at process.emit (events.js:191:7)",
            "    at process.nextTick (internal/child_process.js:744:12)",
            "    at _combinedTickCallback (internal/process/next_tick.js:67:7)"
          ]
        }
      ],
      "execution_count": 2,
      "metadata": {
        "collapsed": false,
        "outputHidden": false,
        "inputHidden": false
      }
    },
    {
      "cell_type": "code",
      "source": [
        "\n"
      ],
      "outputs": [],
      "execution_count": null,
      "metadata": {
        "collapsed": false,
        "outputHidden": false,
        "inputHidden": false
      }
    }
  ],
  "metadata": {
    "kernelspec": {
      "name": "node_nteract",
      "language": "javascript",
      "display_name": "Node.js (nteract)"
    },
    "kernel_info": {
      "name": "node_nteract"
    },
    "language_info": {
      "name": "javascript",
      "version": "6.5.0",
      "mimetype": "application/javascript",
      "file_extension": ".js"
    }
  },
  "nbformat": 4,
  "nbformat_minor": 4
}