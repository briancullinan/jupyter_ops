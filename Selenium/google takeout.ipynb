{
 "cells": [
  {
   "cell_type": "markdown",
   "metadata": {},
   "source": [
    "download google takeout?\n",
    "\n"
   ]
  },
  {
   "cell_type": "code",
   "execution_count": null,
   "metadata": {},
   "outputs": [],
   "source": [
    "var importer = require('../Core');\n",
    "\n",
    "var listTakeouts = () => {\n",
    "    return client\n",
    "    .url('https://takeout.google.com/settings/takeout')\n",
    "    .loginGoogle()\n",
    "    .waitUntil(() => client.getUrl()\n",
    "           .then(url => url.indexOf('privacy') > -1 || url.indexOf('takeout') > -1), 20000, '')\n",
    "    .url('https://takeout.google.com/settings/takeout')\n",
    "    .getAllXPath([\n",
    "        '//*[@data-id]',\n",
    "        {\n",
    "            id: './@data-id',\n",
    "            label: './/td[3]//text()'\n",
    "        }\n",
    "    ])\n",
    "};\n",
    "\n",
    "var takeoutProducts = (product) => {\n",
    "    return client\n",
    "    .url('https://takeout.google.com/settings/takeout/custom/' + product.id)\n",
    "    .pause(1000)\n",
    "    .click('//*[contains(@role, \"button\")][contains(., \"Next\")]')\n",
    "    .pause(1000)\n",
    "    .execute(() => {\n",
    "        var el = document.evaluate(\n",
    "            '//*[contains(., \"Archive size\")]/parent::*//*[contains(@role,\"option\")][contains(.,\"2\")]',\n",
    "            document,\n",
    "            null,\n",
    "            XPathResult.FIRST_ORDERED_NODE_TYPE, null\n",
    "        ).singleNodeValue;\n",
    "        var event = document.createEvent('MouseEvents');\n",
    "        event.initEvent('mousedown', true, true);\n",
    "        el.dispatchEvent(event, true);\n",
    "    })\n",
    "    .pause(1000)\n",
    "    // TODO: shorten this in to a utility command\n",
    "    // doesn't work because of some weird css BS \n",
    "    // .click('//*[contains(@role, \"option\")][contains(., \"50\")]')\n",
    "    .click('//*[contains(., \"Archive size\")]/parent::*//*[contains(@role,\"listbox\")]/div[3]//*[contains(@role,\"option\")][contains(.,\"50\")]')\n",
    "    .click('//*[contains(@role, \"button\")][contains(., \"Create archive\")]')\n",
    "    .waitUntil(() => client.isExisting('//td[last()]//*[contains(@data-download-uri, \"takeout/download\")]'), 90000, '')\n",
    "    .click('//td[last()]//*[contains(@data-download-uri, \"takeout/download\")]')\n",
    "    .loginGoogle()\n",
    "};\n",
    "\n",
    "var downloadGoogleTakeout = (products) => {\n",
    "    var regex = new RegExp(products, 'ig');\n",
    "    var selectedProducts;\n",
    "    return listTakeouts()\n",
    "    .then(ids => (selectedProducts = ids\n",
    "        .map(k => ({\n",
    "            id: k.id.join(' '),\n",
    "            label: k.label.join(' ')\n",
    "        }))\n",
    "        .filter(k => k.id.match(regex) || k.label.match(regex))))\n",
    "    .then(() => {\n",
    "        console.log(selectedProducts);\n",
    "        return importer.runAllPromises(selectedProducts\n",
    "        .map(p => (resolve) => {\n",
    "            return takeoutProducts(p)\n",
    "            .then(r => resolve(r))\n",
    "            .catch(e => resolve(e))\n",
    "        }))\n",
    "    })\n",
    "};\n",
    "if (typeof client.downloadGoogleTakeout == 'undefined') {\n",
    "    client.addCommand('downloadGoogleTakeout', downloadGoogleTakeout);\n",
    "}\n",
    "module.exports = downloadGoogleTakeout;\n",
    "downloadGoogleTakeout;\n",
    "\n"
   ]
  },
  {
   "cell_type": "markdown",
   "metadata": {},
   "source": [
    "order google takeout?\n",
    "\n"
   ]
  },
  {
   "cell_type": "code",
   "execution_count": 2,
   "metadata": {},
   "outputs": [
    {
     "data": {
      "text/plain": [
       "[Function: googleTakeout]"
      ]
     },
     "execution_count": 2,
     "metadata": {},
     "output_type": "execute_result"
    }
   ],
   "source": [
    "var importer = require('../Core');\n",
    "\n",
    "var runSeleniumCell, downloadGoogleTakeout;\n",
    "var googleTakeout = (products = 'all?') => {\n",
    "    return importer.interpretAll(['selenium cell'])\n",
    "    .then(r => {\n",
    "        runSeleniumCell = r[0].runInNewContext({});\n",
    "        return runSeleniumCell([\n",
    "            'log in google',\n",
    "            'get all elements',\n",
    "            'download google takeout'\n",
    "        ]);\n",
    "    })\n",
    "    .then(r => {\n",
    "        downloadGoogleTakeout = r[2];\n",
    "        return downloadGoogleTakeout(products);\n",
    "    })\n",
    "    .then(r => {\n",
    "        // TODO: save it in the project path?\n",
    "        return r;\n",
    "    })\n",
    "};\n",
    "module.exports = googleTakeout;\n",
    "googleTakeout;\n",
    "\n"
   ]
  },
  {
   "cell_type": "markdown",
   "metadata": {},
   "source": [
    "test google takeout\n",
    "\n"
   ]
  },
  {
   "cell_type": "code",
   "execution_count": 48,
   "metadata": {},
   "outputs": [
    {
     "name": "stdout",
     "output_type": "stream",
     "text": [
      "Already imported\n",
      "[ 'import notebook.ipynb', 'interpret all notebooks.ipynb' ]\n",
      "Already imported\n",
      "[ 'import notebook.ipynb', 'interpret all notebooks.ipynb' ]\n",
      "Already imported\n",
      "[ 'import notebook.ipynb', 'interpret all notebooks.ipynb' ]\n",
      "Initializing webdriver on localhost\n",
      "Already imported\n",
      "[ 'import notebook.ipynb', 'interpret all notebooks.ipynb' ]\n",
      "[ [Function: loginGoogle],\n",
      "  [Function: getAllXPath],\n",
      "  [Function: downloadGoogleTakeout] ]\n",
      "[ { id: 'location_history', label: 'Location History' } ]\n",
      "Google: Require password\n"
     ]
    },
    {
     "data": {
      "text/plain": [
       "[ { sessionId: 'c116a113a13b038009c5e07f55d32e47',\n",
       "    status: 0,\n",
       "    value: null } ]"
      ]
     },
     "execution_count": 48,
     "metadata": {},
     "output_type": "execute_result"
    }
   ],
   "source": [
    "var importer = require('../Core');\n",
    "\n",
    "$$.async();\n",
    "var googleTakeout;\n",
    "importer.interpretAll(['order google takeout'])\n",
    ".then(r => {\n",
    "    googleTakeout = r[0].runInNewContext();\n",
    "    return googleTakeout('location history');\n",
    "})\n",
    ".then(r => $$.sendResult(r))\n",
    ".catch(e => $$.sendError(e));\n",
    "\n"
   ]
  },
  {
   "cell_type": "markdown",
   "metadata": {},
   "source": [
    "d3 stream my chrome history by category and site sub-divided?\n",
    "\n"
   ]
  },
  {
   "cell_type": "code",
   "execution_count": null,
   "metadata": {},
   "outputs": [],
   "source": [
    "\n",
    "\n"
   ]
  }
 ],
 "metadata": {
  "kernelspec": {
   "display_name": "Javascript (Node.js)",
   "language": "javascript",
   "name": "javascript"
  },
  "language_info": {
   "file_extension": ".js",
   "mimetype": "application/javascript",
   "name": "javascript",
   "version": "7.7.2"
  }
 },
 "nbformat": 4,
 "nbformat_minor": 2
}
