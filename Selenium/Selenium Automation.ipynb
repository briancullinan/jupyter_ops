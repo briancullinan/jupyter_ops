{
  "cells": [
    {
      "cell_type": "markdown",
      "source": [
        "# What is Selenium?\n",
        "\n",
        "Selenium is a remote control for web-browsers.  Chrome-driver is the remote control for Chrome.\n",
        "\n",
        "[http://www.seleniumhq.org/download/](http://www.seleniumhq.org/download/)\n",
        "\n",
        "[https://sites.google.com/a/chromium.org/chromedriver/downloads](https://sites.google.com/a/chromium.org/chromedriver/downloads)\n",
        "\n",
        "Ecommerce portal\n",
        "inside selenium\n",
        "inside chrome\n",
        "inside VNC\n",
        "inside jupyter\n",
        "inside Linux\n",
        "inside Docker\n",
        "inside Chrome\n",
        "inside Windows\n",
        "\n"
      ],
      "metadata": {}
    },
    {
      "cell_type": "markdown",
      "source": [
        "First run the virtual frame buffer with selenium\n"
      ],
      "metadata": {}
    },
    {
      "cell_type": "code",
      "source": [
        "Xvfb :0 -ac -screen 0 1024x768x24 +extension RANDR\n"
      ],
      "outputs": [],
      "execution_count": 1,
      "metadata": {
        "scrolled": true
      }
    },
    {
      "cell_type": "markdown",
      "source": [
        "Run selenium \n",
        "\n"
      ],
      "metadata": {}
    },
    {
      "cell_type": "code",
      "source": [
        "export DISPLAY=:0 \n",
        "java -Dwebdriver.chrome.driver=\"/usr/bin/chromedriver\" -Dwebdriver.chrome.args=\"--start-fullscreen --no-sandbox\" -jar /opt/selenium/selenium-server-standalone.jar\n",
        "\n"
      ],
      "outputs": [],
      "execution_count": null,
      "metadata": {
        "collapsed": false,
        "outputHidden": false,
        "inputHidden": false
      }
    },
    {
      "cell_type": "markdown",
      "source": [
        "Run our first selenium script\n",
        "\n"
      ],
      "metadata": {
        "collapsed": true
      }
    },
    {
      "cell_type": "code",
      "source": [
        "export DISPLAY=:0\n",
        "google-chrome http://localhost:4200 --no-sandbox --start-fullscreen\n",
        "\n"
      ],
      "outputs": [],
      "execution_count": null,
      "metadata": {
        "collapsed": false,
        "outputHidden": false,
        "inputHidden": false
      }
    },
    {
      "cell_type": "markdown",
      "source": [
        "Run selenium inside of docker?"
      ],
      "metadata": {}
    },
    {
      "cell_type": "code",
      "source": [
        "FROM selenium/standalone-chrome-debug\n",
        "\n",
        "EXPOSE 4200\n",
        "EXPOSE 4444\n",
        "EXPOSE 3000\n",
        "\n",
        "ENV CHROME_USER_DATA_DIR /usr/profile\n",
        "WORKDIR /home/seluser\n",
        "\n",
        "USER root\n",
        "RUN mkdir /usr/profile\n",
        "RUN mkdir /usr/downloads\n",
        "RUN chown seluser:seluser -R /usr/profile\n",
        "RUN chown seluser:seluser -R /usr/downloads\n",
        "RUN chmod 777 -R /usr/profile\n",
        "RUN chmod 777 -R /usr/downloads\n",
        "VOLUME /usr/profile\n",
        "VOLUME /data/downloads\n"
      ],
      "outputs": [],
      "execution_count": null,
      "metadata": {
        "collapsed": true
      }
    }
  ],
  "metadata": {
    "kernelspec": {
      "name": "bash",
      "language": "bash",
      "display_name": "Bash"
    },
    "language_info": {
      "name": "bash",
      "codemirror_mode": "shell",
      "mimetype": "text/x-sh",
      "file_extension": ".sh"
    },
    "kernel_info": {
      "name": "bash"
    }
  },
  "nbformat": 4,
  "nbformat_minor": 2
}