{
 "cells": [
  {
   "cell_type": "markdown",
   "metadata": {},
   "source": [
    "How to start a webdriver client in node?"
   ]
  },
  {
   "cell_type": "code",
   "execution_count": 1,
   "metadata": {
    "inputHidden": false,
    "outputHidden": false
   },
   "outputs": [
    {
     "data": {
      "text/plain": [
       "[Function: createWebdriverClient]"
      ]
     },
     "execution_count": 1,
     "metadata": {},
     "output_type": "execute_result"
    }
   ],
   "source": [
    "var webdriverio = require('webdriverio');\r",
    "var sync = require('wdio-sync')\r",
    "var fs = require('fs');\r",
    "var importer = require('../Core');\r",
    "var path = require('path');\r",
    "\r",
    "var TOKEN_DIR = path.join(process.env.HOME || process.env.HOMEPATH || process.env.USERPROFILE, '.credentials');\r",
    "var SESSIONS_PATH = path.join(TOKEN_DIR, 'sessions.txt');\r",
    "\r",
    "var createWebdriverClient = (host, port) => {\r",
    "    var webdriverServer = {\r",
    "        sync: true,\r",
    "        debug: true,\r",
    "        host: host || 'localhost',\r",
    "        port: port || 4444,\r",
    "        baseUrl: 'https://webdriver.io',\r",
    "        pageLoadStrategy: 'eager',\r",
    "        connectionRetryTimeout: 10000,\r",
    "        desiredCapabilities: {\r",
    "            browserName: 'chrome',\r",
    "            chromeOptions: {\r",
    "                prefs: {\r",
    "                    'download.default_directory': '/data/downloads',\r",
    "                    'profile.default_content_setting_values.notifications': 2\r",
    "                },\r",
    "                args: [\r",
    "                    // TODO: https://superuser.com/questions/461035/disable-google-chrome-session-restore-functionality\r",
    "                    'user-data-dir=/usr/profile',\r",
    "                    //'start-fullscreen',\r",
    "                    'no-sandbox',\r",
    "                    'disable-session-crashed-bubble',\r",
    "                    'disable-infobars',\r",
    "                    'disable-geolocation',\r",
    "                    'disable-notifications',\r",
    "                    'show-saved-copy',\r",
    "                    'silent-debugger-extension-api'\r",
    "                    //'kiosk'\r",
    "                ]\r",
    "            }\r",
    "        }\r",
    "    };\r",
    "\r",
    "    console.log('Initializing webdriver on ' + webdriverServer.host);\r",
    "    var client = webdriverio.remote(webdriverServer);\r",
    "    sync.wrapCommands(client, [], []);\r",
    "    client.$ = (...config) => client.element.apply(client, config)\r",
    "    client.$$ = (...config) => client.elements.apply(client, config).value\r",
    "    client.on('error', function (e) {\r",
    "        console.log(e);\r",
    "        this.endAll();\r",
    "    });\r",
    "    client.on('end', function () {\r",
    "        console.log('Daemon: Closing browser');\r",
    "    });\r",
    "    client.on('result', function (result) {\r",
    "        //console.log(result);\r",
    "    });\r",
    "    return client\r",
    "        .then(() => {\r",
    "            var sessions;\r",
    "            try {\r",
    "                sessions = fs.readFileSync(SESSIONS_PATH)\r",
    "                    .toString().split('\\n');\r",
    "            } catch (e) {\r",
    "                sessions = [];\r",
    "            }\r",
    "            // validate and close each session\r",
    "            return importer.runAllPromises(sessions.map(s => (resolve) => {\r",
    "                client.requestHandler.sessionID = s\r",
    "                client.session()\r",
    "                    .then(s => resolve(s.sessionId))\r",
    "                    .catch(e => resolve(null));\r",
    "            }))\r",
    "                .then(r => r\r",
    "                    .filter(sess => typeof sess !== 'undefined' && sess !== null)\r",
    "                    .filter((elem, pos, arr) => arr.indexOf(elem) === pos));\r",
    "        })\r",
    "        // save current session\r",
    "        .then(validSessions => {\r",
    "            if (validSessions.length == 0) {\r",
    "                // save new session\r",
    "                client.requestHandler.sessionID = null;\r",
    "                // TODO: fix this, doesn't work on second init, keeps opening new windows\r",
    "                return client.init();\r",
    "            } else {\r",
    "                // set to first valid\r",
    "                client.requestHandler.sessionID = validSessions[0];\r",
    "            }\r",
    "        })\r",
    "        .then(r => {\r",
    "            fs.writeFileSync(\r",
    "                SESSIONS_PATH,\r",
    "                client.requestHandler.sessionID + '\\n')\r",
    "            return client.windowHandles();\r",
    "        })\r",
    "        .then(r => {\r",
    "            if (r.value.length == 0) {\r",
    "                return client.newWindow();\r",
    "            }\r",
    "        })\r",
    "        /*\r",
    "        .then(() => client.requestHandler.create({\r",
    "            path: '/status',\r",
    "            method: 'GET'\r",
    "        }))\r",
    "        */\r",
    "        .catch(e => console.log(e))\r",
    "};\r",
    "module.exports = createWebdriverClient;\r",
    "createWebdriverClient;\r",
    "\r"
   ]
  },
  {
   "cell_type": "code",
   "execution_count": 2,
   "metadata": {
    "collapsed": false,
    "inputHidden": false,
    "outputHidden": false
   },
   "outputs": [
    {
     "name": "stdout",
     "output_type": "stream",
     "text": [
      "Initializing webdriver on localhost\n",
      "[ 'cd2e4a2685bda6bbc5ee237846e88345' ]\n"
     ]
    },
    {
     "data": {
      "text/plain": [
       "{ sessionId: 'cd2e4a2685bda6bbc5ee237846e88345',\n",
       "  status: 0,\n",
       "  value: [ 'CDwindow-1ddf96a5-fd99-4f84-8c7f-a4aa3d6cc388' ] }"
      ]
     },
     "execution_count": 2,
     "metadata": {},
     "output_type": "execute_result"
    }
   ],
   "source": [
    "$$.async();\r",
    "var client = createWebdriverClient('localhost', 4444)\r",
    "    .then(r => $$.sendResult(r))\r",
    "    .catch(e => $$.sendError(e));\r"
   ]
  },
  {
   "cell_type": "code",
   "execution_count": null,
   "metadata": {
    "collapsed": false,
    "inputHidden": false,
    "outputHidden": false
   },
   "outputs": [],
   "source": [
    "$$.async();\r",
    "client.windowHandles()\r",
    "    .then(r => $$.sendResult(r))\r",
    "    .catch(e => $$.sendError(e));\r"
   ]
  },
  {
   "cell_type": "markdown",
   "metadata": {},
   "source": [
    "How to end the webdriver service?"
   ]
  },
  {
   "cell_type": "code",
   "execution_count": null,
   "metadata": {
    "collapsed": false,
    "inputHidden": false,
    "outputHidden": false
   },
   "outputs": [],
   "source": [
    "client.endAll();\r"
   ]
  },
  {
   "cell_type": "markdown",
   "metadata": {},
   "source": [
    "\n",
    "TODO: add decorated logging with screenshots of buttons results can be used: https://github.com/megamindbrian/bots/blob/master/bots/server.js\n",
    "\n",
    "TODO: transfer state and cache to client\n",
    "\n"
   ]
  },
  {
   "cell_type": "code",
   "execution_count": null,
   "metadata": {},
   "outputs": [],
   "source": []
  },
  {
   "cell_type": "code",
   "execution_count": null,
   "metadata": {},
   "outputs": [],
   "source": []
  }
 ],
 "metadata": {
  "kernel_info": {
   "name": "node_nteract"
  },
  "kernelspec": {
   "display_name": "Javascript (Node.js)",
   "language": "javascript",
   "name": "javascript"
  },
  "language_info": {
   "file_extension": ".js",
   "mimetype": "application/javascript",
   "name": "javascript",
   "version": "8.8.1"
  }
 },
 "nbformat": 4,
 "nbformat_minor": 4
}
