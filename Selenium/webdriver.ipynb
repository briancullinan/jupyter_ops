{
 "cells": [
  {
   "cell_type": "markdown",
   "metadata": {},
   "source": [
    "How to start a webdriver client in node?"
   ]
  },
  {
   "cell_type": "code",
   "execution_count": null,
   "metadata": {
    "inputHidden": false,
    "outputHidden": false
   },
   "outputs": [],
   "source": [
    "var importer = require('../Core');\n",
    "var sync = require('wdio-sync');\n",
    "var MAX_SESSIONS = 1;\n",
    "//var MAX_SESSIONS = 36;\n",
    "\n",
    "var client;\n",
    "function createWebdriverClient(host, port) {    \n",
    "    var webdriverServer = {\n",
    "        services: ['selenium-standalone', 'chromedriver'],\n",
    "        sync: false,\n",
    "        debug: false,\n",
    "        host: host || 'localhost',\n",
    "        port: port || 4444,\n",
    "        logLevel: 'command',\n",
    "        baseUrl: 'https://webdriver.io',\n",
    "        pageLoadStrategy: 'eager',\n",
    "        connectionRetryTimeout: 1000,\n",
    "        desiredCapabilities: {\n",
    "            browserName: 'chrome',\n",
    "            chromeOptions: {\n",
    "                prefs: {\n",
    "                    'download.default_directory': '/data/downloads',\n",
    "                    'profile.default_content_setting_values.notifications': 2,\n",
    "                    'exited_cleanly': true,\n",
    "                    'exit_type': 'None'\n",
    "                },\n",
    "                args: [\n",
    "                    // TODO: https://superuser.com/questions/461035/disable-google-chrome-session-restore-functionality\n",
    "                    'user-data-dir=/tmp/profile-' + MAX_SESSIONS,\n",
    "                    // 'start-fullscreen',\n",
    "                    'no-sandbox',\n",
    "                    'disable-session-crashed-bubble',\n",
    "                    'disable-infobars',\n",
    "                    'new-window',\n",
    "                    'disable-geolocation',\n",
    "                    'disable-notifications',\n",
    "                    'show-saved-copy',\n",
    "                    'silent-debugger-extension-api'\n",
    "                    //'kiosk'\n",
    "                ]\n",
    "            }\n",
    "        },\n",
    "    };\n",
    "    \n",
    "    client = require('webdriverio').remote(webdriverServer);\n",
    "    client.on('error', e => console.log(e.message));\n",
    "    client.on('end', () => console.log('Daemon: Closing browser'));\n",
    "    const connectSession = importer.import('connect webdriver session', {client});\n",
    "    return connectSession();\n",
    "};\n",
    "module.exports = createWebdriverClient;\n"
   ]
  },
  {
   "cell_type": "markdown",
   "metadata": {},
   "source": [
    "connect to webdriver session?\n",
    "\n",
    "find webdriver sessions?\n"
   ]
  },
  {
   "cell_type": "code",
   "execution_count": null,
   "metadata": {},
   "outputs": [],
   "source": [
    "var importer = require('../Core');\n",
    "var readSessions = importer.import('load webdriver sessions');\n",
    "var {\n",
    "    getSessions,\n",
    "    lockPromise\n",
    "} = importer.import('manage webdriver sessions', {client});\n",
    "\n",
    "var TIMEOUT = 10000;\n",
    "var MAX_SESSIONS = 1;\n",
    "\n",
    "function connectSession() {\n",
    "    return client\n",
    "        .then(() => lockPromise(true, true))\n",
    "        .getSessions(true)\n",
    "        // save current session\n",
    "        .then(validSessions => {\n",
    "            var sessions = readSessions();\n",
    "            // the next null or end will be the next available profile id\n",
    "            var index = sessions.map(s => s[1]).indexOf(validSessions[0] || 0);\n",
    "            if(index === -1) {\n",
    "                index = sessions.length;\n",
    "            }\n",
    "            if(index >= MAX_SESSIONS) {\n",
    "                throw new Error('Already running max sessions ' + MAX_SESSIONS);\n",
    "            }\n",
    "            client.options.connectionRetryTimeout = TIMEOUT;\n",
    "            client.options.desiredCapabilities.chromeOptions.args[0] = 'user-data-dir=/tmp/profile-' + index;\n",
    "            // TODO: fix this, doesn't work on second init, keeps opening new windows if chrome profile path is alreading open for read/write\n",
    "            if(typeof validSessions[0] !== 'undefined') {\n",
    "                console.log('using existing session ' + index + ' - ' + validSessions[0]);\n",
    "                client.requestHandler.sessionID = validSessions[0];\n",
    "                return client.session()\n",
    "            } else {\n",
    "                console.log('new session ' + index);\n",
    "                return client.init().session();\n",
    "            }\n",
    "        })\n",
    "        .catch(e => {\n",
    "            client.requestHandler.sessionID = null;\n",
    "            console.log(e);\n",
    "        })\n",
    "        .then(() => lockPromise(false, true))\n",
    "}\n",
    "module.exports = connectSession;\n"
   ]
  },
  {
   "cell_type": "markdown",
   "metadata": {},
   "source": [
    "Load webdriver sessions?\n"
   ]
  },
  {
   "cell_type": "code",
   "execution_count": null,
   "metadata": {},
   "outputs": [],
   "source": [
    "var fs = require('fs');\n",
    "var path = require('path');\n",
    "\n",
    "var TOKEN_DIR = path.join(process.env.HOME || process.env.HOMEPATH || process.env.USERPROFILE, '.credentials');\n",
    "var SESSIONS_PATH = path.join(TOKEN_DIR, 'sessions.json');\n",
    "\n",
    "var sessions = {};\n",
    "var sessionModified = 0;\n",
    "\n",
    "function readSessions() {\n",
    "    try {\n",
    "        if(fs.existsSync(SESSIONS_PATH)\n",
    "           && fs.statSync(SESSIONS_PATH).mtime.getTime() > sessionModified) {\n",
    "            sessionModified = fs.statSync(SESSIONS_PATH).mtime.getTime();\n",
    "            sessions = JSON.parse(fs.readFileSync(SESSIONS_PATH)\n",
    "                .toString());\n",
    "        }\n",
    "    } catch (e) {\n",
    "        sessions = [];\n",
    "    }\n",
    "    return sessions;\n",
    "};\n",
    "module.exports = readSessions;\n"
   ]
  },
  {
   "cell_type": "markdown",
   "metadata": {},
   "source": [
    "update session?\n"
   ]
  },
  {
   "cell_type": "code",
   "execution_count": null,
   "metadata": {},
   "outputs": [],
   "source": [
    "var lockFile = require('lockfile');\n",
    "var fs = require('fs');\n",
    "var path = require('path');\n",
    "var importer = require('../Core');\n",
    "var readSessions = importer.import('load webdriver sessions');\n",
    "\n",
    "var TOKEN_DIR = path.join(process.env.HOME || process.env.HOMEPATH || process.env.USERPROFILE, '.credentials');\n",
    "var SESSIONS_PATH = path.join(TOKEN_DIR, 'sessions.json');\n",
    "var INIT_WAIT = 60000; // 36 * session test time * number of simultaneous sessions\n",
    "var UPDATE_WAIT = 1000;\n",
    "\n",
    "// lock / unlock\n",
    "// insert - posibility of a session being reused, but sych session starts\n",
    "function lockPromise(lock = true, init = false) {\n",
    "    console.log((init ? 'init' : 'update') + ' - ' + (lock ? 'locking' : 'unlocking'));\n",
    "    return new Promise((resolve, reject) => {\n",
    "        const func = lock ? lockFile.lock : lockFile.unlock;\n",
    "        const p = SESSIONS_PATH + '.' + (init ? 'init' : 'update') + '.lock';\n",
    "        return func.apply(lockFile, [p].concat(lock ? [{\n",
    "            stale: init ? INIT_WAIT : UPDATE_WAIT,\n",
    "            wait: init ? INIT_WAIT : UPDATE_WAIT\n",
    "        }] : []).concat([(err) => {\n",
    "            if(err) {\n",
    "                return reject(err);\n",
    "            }\n",
    "            console.log((init ? 'init' : 'update') + ' - ' + (lock ? 'lock' : 'unlock'));\n",
    "            resolve();\n",
    "        }]));\n",
    "    });\n",
    "}\n",
    "\n",
    "function updateOrAddSession(currentSession) {\n",
    "    const sessions = readSessions();\n",
    "    if(!currentSession) {\n",
    "        return sessions;\n",
    "    }\n",
    "    // don't update sessions while scanning\n",
    "    const updateSession = sessions.filter(s => s[1] === currentSession)[0];\n",
    "    if(typeof updateSession !== 'undefined') {\n",
    "        console.log('update ' + currentSession);\n",
    "        updateSession[0] = (new Date()).getTime();\n",
    "    } else {\n",
    "        console.log('insert ' + currentSession);\n",
    "        const oldSession = sessions[sessions.length] = [];\n",
    "        // http://www.english.upenn.edu/~jenglish/English104/tzara.html\n",
    "        oldSession[1] = currentSession;\n",
    "        oldSession[0] = (new Date()).getTime();\n",
    "    }\n",
    "    fs.writeFileSync(\n",
    "        SESSIONS_PATH,\n",
    "        JSON.stringify(sessions, null, 4));\n",
    "    return sessions;\n",
    "}\n",
    "module.exports = {\n",
    "    updateOrAddSession,\n",
    "    lockPromise\n",
    "};\n"
   ]
  },
  {
   "cell_type": "markdown",
   "metadata": {},
   "source": [
    "Manage webdriver sessions?\n",
    "\n"
   ]
  },
  {
   "cell_type": "code",
   "execution_count": null,
   "metadata": {},
   "outputs": [],
   "source": [
    "var importer = require('../Core');\n",
    "var readSessions = importer.import('load webdriver sessions', {client});\n",
    "var {\n",
    "    verifySession,\n",
    "    lockPromise\n",
    "} = importer.import('verify session', {client});\n",
    "\n",
    "var TIMEOUT = 10000;\n",
    "\n",
    "function getSessions(inactive = false) {\n",
    "    const sessions = readSessions();\n",
    "    const original = client.requestHandler.sessionID;\n",
    "    var active = [].concat(sessions)\n",
    "        .filter(session => typeof session[1] !== 'undefined'\n",
    "                && session[1] !== null && session.length > 0);\n",
    "    if(inactive) {\n",
    "        active = active.filter(session => (new Date()).getTime() - session[0] > TIMEOUT);\n",
    "    }\n",
    "    var cancelled = false;\n",
    "    return importer.runAllPromises(active.map(session => (resolve) => {\n",
    "        if(cancelled) {\n",
    "            return resolve();\n",
    "        }\n",
    "        return verifySession(session)\n",
    "            .catch(e => console.log(e))\n",
    "            .then(r => {\n",
    "                // only try to find 1 decent session\n",
    "                if(inactive && typeof r !== 'undefined') {\n",
    "                    cancelled = true;\n",
    "                }\n",
    "                return resolve(r);\n",
    "            })\n",
    "    }))\n",
    "        .then(available => {\n",
    "            client.requestHandler.sessionID = original;\n",
    "            return available\n",
    "                .filter(sess => typeof sess !== 'undefined' && sess !== null)\n",
    "                .filter((elem, pos, arr) => arr.indexOf(elem) === pos)\n",
    "        })\n",
    "}\n",
    "\n",
    "if(typeof client.getSessions === 'undefined') {\n",
    "    client.addCommand('getSessions', getSessions);\n",
    "}\n",
    "\n",
    "module.exports = {\n",
    "    getSessions,\n",
    "    lockPromise\n",
    "};\n",
    "\n"
   ]
  },
  {
   "cell_type": "markdown",
   "metadata": {},
   "source": [
    "verify session?\n",
    "\n"
   ]
  },
  {
   "cell_type": "code",
   "execution_count": null,
   "metadata": {},
   "outputs": [],
   "source": [
    "var importer = require('../Core');\n",
    "var {\n",
    "    updateOrAddSession,\n",
    "    lockPromise\n",
    "} = importer.import('update session');\n",
    "\n",
    "var scanning = false;\n",
    "var TIMEOUT = 10000;\n",
    "\n",
    "function verifySession(session) {\n",
    "    client.requestHandler.sessionID = session[1];\n",
    "    return client\n",
    "        .then(() => scanning = true)\n",
    "        .windowHandle()\n",
    "        .then(r => client.window(r.value))\n",
    "        .session()\n",
    "        .then(s => s.sessionId)\n",
    "        .catch(e => {\n",
    "            if(e.message === 'ESOCKETTIMEDOUT' || e.message.indexOf('no such session')) {\n",
    "                 session[1] = '';\n",
    "            } else {\n",
    "                console.log('error ' + session[1]);\n",
    "                console.log(e)\n",
    "            }\n",
    "            // if the session is really old and has an error delete it from the list\n",
    "            //const index = sessions.map(s => s[1]).indexOf(session[1]);\n",
    "            //sessions[index][1] = null;\n",
    "        })\n",
    "        .then(r => {\n",
    "            scanning = false;\n",
    "            return r;\n",
    "        })\n",
    "}\n",
    "module.exports = {\n",
    "    lockPromise, verifySession\n",
    "};\n",
    "\n",
    "var sessions = [];\n",
    "if(typeof client.verifySession === 'undefined') {\n",
    "    client.addCommand('verifySession', verifySession);\n",
    "    client.on('result', (result) => {\n",
    "        if(scanning) {\n",
    "            return;\n",
    "        }\n",
    "        const currentSession = client.requestHandler.sessionID;\n",
    "        const updateSession = sessions.filter(s => s[1] === currentSession)[0];\n",
    "        if(typeof updateSession !== 'undefined') {\n",
    "            if((new Date()).getTime() - updateSession[0] <= TIMEOUT / 2) {\n",
    "                return;\n",
    "            }\n",
    "        }\n",
    "\n",
    "        return lockPromise(true)\n",
    "            .then(() => sessions = updateOrAddSession(currentSession))\n",
    "            .then(() => lockPromise(false))\n",
    "            .catch(e => console.log(e));\n",
    "    });\n",
    "}\n"
   ]
  },
  {
   "cell_type": "code",
   "execution_count": null,
   "metadata": {
    "collapsed": false,
    "inputHidden": false,
    "outputHidden": false
   },
   "outputs": [
    {
     "name": "stdout",
     "output_type": "stream",
     "text": [
      "Initializing webdriver on localhost\n"
     ]
    }
   ],
   "source": [
    "$$.async();\n",
    "var client = createWebdriverClient('localhost', 4444)\n",
    "    .then(r => $$.sendResult(r))\n",
    "    .catch(e => $$.sendError(e));\n"
   ]
  },
  {
   "cell_type": "code",
   "execution_count": null,
   "metadata": {
    "collapsed": false,
    "inputHidden": false,
    "outputHidden": false
   },
   "outputs": [],
   "source": [
    "$$.async();\n",
    "client.windowHandles()\n",
    "    .then(r => $$.sendResult(r))\n",
    "    .catch(e => $$.sendError(e));\n"
   ]
  },
  {
   "cell_type": "markdown",
   "metadata": {},
   "source": [
    "How to end the webdriver service?"
   ]
  },
  {
   "cell_type": "code",
   "execution_count": null,
   "metadata": {
    "collapsed": false,
    "inputHidden": false,
    "outputHidden": false
   },
   "outputs": [],
   "source": [
    "client.endAll();\n"
   ]
  },
  {
   "cell_type": "markdown",
   "metadata": {},
   "source": [
    "\n",
    "TODO: add decorated logging with screenshots of buttons results can be used: https://github.com/megamindbrian/bots/blob/master/bots/server.js\n",
    "\n",
    "TODO: transfer state and cache to client\n",
    "\n"
   ]
  },
  {
   "cell_type": "code",
   "execution_count": null,
   "metadata": {},
   "outputs": [],
   "source": []
  }
 ],
 "metadata": {
  "kernel_info": {
   "name": "node_nteract"
  },
  "kernelspec": {
   "display_name": "Javascript (Node.js)",
   "language": "javascript",
   "name": "javascript"
  },
  "language_info": {
   "file_extension": ".js",
   "mimetype": "application/javascript",
   "name": "javascript",
   "version": "8.6.0"
  }
 },
 "nbformat": 4,
 "nbformat_minor": 4
}
