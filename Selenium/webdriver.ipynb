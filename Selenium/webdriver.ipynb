{
 "cells": [
  {
   "cell_type": "markdown",
   "metadata": {},
   "source": [
    "How to start a webdriver client in node?"
   ]
  },
  {
   "cell_type": "code",
   "execution_count": 1,
   "metadata": {
    "inputHidden": false,
    "outputHidden": false
   },
   "outputs": [
    {
     "data": {
      "text/plain": [
       "[Function: createWebdriverClient]"
      ]
     },
     "execution_count": 1,
     "metadata": {},
     "output_type": "execute_result"
    }
   ],
   "source": [
    "var importer = require('../Core');\n",
    "var webdriverio = require('webdriverio');\n",
    "var sync = require('wdio-sync')\n",
    "var getSessions = importer.import('load webdriver sessions');\n",
    "\n",
    "var TIMEOUT = 10000;\n",
    "var sessionSync = false;\n",
    "\n",
    "var client;\n",
    "function createWebdriverClient(host, port) {\n",
    "    if(sessionSync) {\n",
    "        return new Promise(resolve => setTimeout(() => resolve(), 100))\n",
    "            .then(() => createWebdriverClient(host, port));\n",
    "    }\n",
    "    sessionSync = true;\n",
    "    const sessions = getSessions();\n",
    "    \n",
    "    var webdriverServer = {\n",
    "        sync: true,\n",
    "        debug: true,\n",
    "        host: host || 'localhost',\n",
    "        port: port || 4444,\n",
    "        logLevel: 'command',\n",
    "        baseUrl: 'https://webdriver.io',\n",
    "        pageLoadStrategy: 'eager',\n",
    "        connectionRetryTimeout: TIMEOUT,\n",
    "        desiredCapabilities: {\n",
    "            browserName: 'chrome',\n",
    "            chromeOptions: {\n",
    "                prefs: {\n",
    "                    'download.default_directory': '/data/downloads',\n",
    "                    'profile.default_content_setting_values.notifications': 2,\n",
    "                    'exited_cleanly': true,\n",
    "                    'exit_type': 'None'\n",
    "                },\n",
    "                args: [\n",
    "                    // TODO: https://superuser.com/questions/461035/disable-google-chrome-session-restore-functionality\n",
    "                    'user-data-dir=/tmp/profile-' + sessions.active.length % 5,\n",
    "                    // 'start-fullscreen',\n",
    "                    'no-sandbox',\n",
    "                    'disable-session-crashed-bubble',\n",
    "                    'disable-infobars',\n",
    "                    'new-window',\n",
    "                    'disable-geolocation',\n",
    "                    'disable-notifications',\n",
    "                    'show-saved-copy',\n",
    "                    'silent-debugger-extension-api'\n",
    "                    //'kiosk'\n",
    "                ]\n",
    "            }\n",
    "        },\n",
    "    };\n",
    "    \n",
    "    console.log('Initializing webdriver on ' + webdriverServer.host);\n",
    "    client = webdriverio.remote(webdriverServer);\n",
    "    const {\n",
    "        updateOrAddSession,\n",
    "        getInactiveSessions,\n",
    "        getActiveSessions\n",
    "    } = importer.import('manage webdriver sessions', {client});\n",
    "    client.on('error', e => { console.log(e); this.endAll() });\n",
    "    client.on('end', () => console.log('Daemon: Closing browser'));\n",
    "    client.on('result', (result) => updateOrAddSession(client.requestHandler.sessionID));\n",
    "    \n",
    "    return client\n",
    "        .getInactiveSessions()\n",
    "        // save current session\n",
    "        .then(validSessions => {\n",
    "            console.log(validSessions);\n",
    "            if (validSessions.length == 0) {\n",
    "                // save new session\n",
    "                client.requestHandler.sessionID = null;\n",
    "                // TODO: fix this, doesn't work on second init, keeps opening new windows\n",
    "                return client.end().catch(e => {}).init().session();\n",
    "            } else {\n",
    "                // set to first valid\n",
    "                client.requestHandler.sessionID = validSessions[0];\n",
    "                return client.session();\n",
    "            }\n",
    "        })\n",
    "        .then(r => {\n",
    "            updateOrAddSession(client.requestHandler.sessionID);\n",
    "            console.log(client.requestHandler.sessionID);\n",
    "        })\n",
    "        .catch(e => console.log(e))\n",
    "        // Down here at the bottom for safetey\n",
    "        .then(() => (sessionSync = false))\n",
    "};\n",
    "module.exports = createWebdriverClient;\n",
    "createWebdriverClient;\n"
   ]
  },
  {
   "cell_type": "markdown",
   "metadata": {},
   "source": [
    "Load webdriver sessions?\n"
   ]
  },
  {
   "cell_type": "code",
   "execution_count": null,
   "metadata": {},
   "outputs": [],
   "source": [
    "var fs = require('fs');\n",
    "var path = require('path');\n",
    "\n",
    "var TOKEN_DIR = path.join(process.env.HOME || process.env.HOMEPATH || process.env.USERPROFILE, '.credentials');\n",
    "var SESSIONS_PATH = path.join(TOKEN_DIR, 'sessions.json');\n",
    "\n",
    "var sessions = {};\n",
    "var sessionModified = 0;\n",
    "\n",
    "function getSessions() {\n",
    "    try {\n",
    "        if(fs.existsSync(SESSIONS_PATH)\n",
    "           && fs.statSync(SESSIONS_PATH).mtime.getTime() > sessionModified) {\n",
    "            sessionModified = fs.statSync(SESSIONS_PATH).mtime.getTime();\n",
    "            sessions = JSON.parse(fs.readFileSync(SESSIONS_PATH)\n",
    "                .toString());\n",
    "        }\n",
    "    } catch (e) {\n",
    "        sessions = {};\n",
    "    }\n",
    "\n",
    "    if(typeof sessions.inactive === 'undefined') {\n",
    "        sessions.inactive = [];\n",
    "    }\n",
    "    if(typeof sessions.active === 'undefined') {\n",
    "        sessions.active = [];\n",
    "    }\n",
    "    return sessions;\n",
    "};\n",
    "module.exports = getSessions;\n"
   ]
  },
  {
   "cell_type": "markdown",
   "metadata": {},
   "source": [
    "Manage webdriver sessions?\n",
    "\n"
   ]
  },
  {
   "cell_type": "code",
   "execution_count": null,
   "metadata": {},
   "outputs": [],
   "source": [
    "var fs = require('fs');\n",
    "var path = require('path');\n",
    "var importer = require('../Core');\n",
    "var getSessions = importer.import('load webdriver sessions');\n",
    "\n",
    "var TIMEOUT = 10000;\n",
    "var TOKEN_DIR = path.join(process.env.HOME || process.env.HOMEPATH || process.env.USERPROFILE, '.credentials');\n",
    "var SESSIONS_PATH = path.join(TOKEN_DIR, 'sessions.json');\n",
    "\n",
    "function updateOrAddSession(currentSession) {\n",
    "    const sessions = getSessions();\n",
    "    const updateSession = sessions.active.filter(s => s[1] === currentSession)[0];\n",
    "    if(typeof updateSession !== 'undefined') {\n",
    "        if((new Date()).getTime() - updateSession[0] > TIMEOUT / 2) {\n",
    "            updateSession[0] = (new Date()).getTime();\n",
    "        } else {\n",
    "            return;\n",
    "        }\n",
    "    } else {\n",
    "        sessions.active.push([(new Date()).getTime(), currentSession]);\n",
    "    }\n",
    "    fs.writeFileSync(\n",
    "        SESSIONS_PATH,\n",
    "        JSON.stringify(sessions, null, 4))\n",
    "}\n",
    "\n",
    "function getActiveSessions() {\n",
    "    const sessions = getSessions();\n",
    "    const original = client.requestHandler.sessionID;\n",
    "    const active = [].concat(sessions.active);\n",
    "    active.sort((a, b) => b[0] - a[0]);\n",
    "    return importer.runAllPromises(active.map(session => (resolve) => {\n",
    "        client.requestHandler.sessionID = session[1];\n",
    "        client\n",
    "            .windowHandle()\n",
    "            .then(r => client.window(r.value))\n",
    "            .session()\n",
    "            .then(s => resolve(s.sessionId))\n",
    "            .catch(e => {\n",
    "                // if the session is really old and has an error delete it from the list\n",
    "                const index = sessions.active.map(s => s[1]).indexOf(sessions[1]);\n",
    "                if((new Date()).getTime() - session[0] > 10 * TIMEOUT) {\n",
    "                    sessions.active.splice(index, 1);\n",
    "                }\n",
    "                sessions.active.slice(index, 1);\n",
    "                resolve(null);\n",
    "            });\n",
    "    }))\n",
    "        .then(available => {\n",
    "            client.requestHandler.sessionID = original;\n",
    "            updateOrAddSession(original);\n",
    "            return available\n",
    "                .filter(sess => typeof sess !== 'undefined' && sess !== null)\n",
    "                .filter((elem, pos, arr) => arr.indexOf(elem) === pos)\n",
    "        })\n",
    "}\n",
    "\n",
    "function getInactiveSessions() {\n",
    "    const sessions = getSessions();\n",
    "    const original = client.requestHandler.sessionID;\n",
    "    // validate and close each session\n",
    "    const inactive = sessions.inactive.concat(sessions.active.filter(session => \n",
    "            // reuse if lagging longer than 120 seconds?\n",
    "            (new Date()).getTime() - session[0] > TIMEOUT))\n",
    "        .filter(session => typeof session[1] !== 'undefined' && session[1] !== null)\n",
    "    inactive.sort((a, b) => a[0] - b[0]);\n",
    "    return importer.runAllPromises(inactive.map(session => (resolve) => {\n",
    "        client.requestHandler.sessionID = session[1];\n",
    "        console.log(session)\n",
    "        client\n",
    "            .windowHandle()\n",
    "            .then(r => client.window(r.value))\n",
    "            .session()\n",
    "            .then(s => resolve(s.sessionId))\n",
    "            .catch(e => resolve(null));\n",
    "    }))\n",
    "        .then(available => {\n",
    "            client.requestHandler.sessionID = original;\n",
    "            return available\n",
    "                .filter(sess => typeof sess !== 'undefined' && sess !== null)\n",
    "                .filter((elem, pos, arr) => arr.indexOf(elem) === pos)\n",
    "        })\n",
    "}\n",
    "\n",
    "if(typeof client.getInactiveSessions === 'undefined') {\n",
    "    client.addCommand('getInactiveSessions', getInactiveSessions);\n",
    "}\n",
    "if(typeof client.getActiveSessions === 'undefined') {\n",
    "    client.addCommand('getActiveSessions', getActiveSessions);\n",
    "}\n",
    "module.exports = {\n",
    "    updateOrAddSession,\n",
    "    getInactiveSessions,\n",
    "    getActiveSessions\n",
    "}\n",
    "\n"
   ]
  },
  {
   "cell_type": "code",
   "execution_count": null,
   "metadata": {
    "collapsed": false,
    "inputHidden": false,
    "outputHidden": false
   },
   "outputs": [
    {
     "name": "stdout",
     "output_type": "stream",
     "text": [
      "Initializing webdriver on localhost\n"
     ]
    }
   ],
   "source": [
    "$$.async();\n",
    "var client = createWebdriverClient('localhost', 4444)\n",
    "    .then(r => $$.sendResult(r))\n",
    "    .catch(e => $$.sendError(e));\n"
   ]
  },
  {
   "cell_type": "code",
   "execution_count": null,
   "metadata": {
    "collapsed": false,
    "inputHidden": false,
    "outputHidden": false
   },
   "outputs": [],
   "source": [
    "$$.async();\n",
    "client.windowHandles()\n",
    "    .then(r => $$.sendResult(r))\n",
    "    .catch(e => $$.sendError(e));\n"
   ]
  },
  {
   "cell_type": "markdown",
   "metadata": {},
   "source": [
    "How to end the webdriver service?"
   ]
  },
  {
   "cell_type": "code",
   "execution_count": null,
   "metadata": {
    "collapsed": false,
    "inputHidden": false,
    "outputHidden": false
   },
   "outputs": [],
   "source": [
    "client.endAll();\n"
   ]
  },
  {
   "cell_type": "markdown",
   "metadata": {},
   "source": [
    "\n",
    "TODO: add decorated logging with screenshots of buttons results can be used: https://github.com/megamindbrian/bots/blob/master/bots/server.js\n",
    "\n",
    "TODO: transfer state and cache to client\n",
    "\n"
   ]
  },
  {
   "cell_type": "code",
   "execution_count": null,
   "metadata": {},
   "outputs": [],
   "source": []
  }
 ],
 "metadata": {
  "kernel_info": {
   "name": "node_nteract"
  },
  "kernelspec": {
   "display_name": "Javascript (Node.js)",
   "language": "javascript",
   "name": "javascript"
  },
  "language_info": {
   "file_extension": ".js",
   "mimetype": "application/javascript",
   "name": "javascript",
   "version": "8.6.0"
  }
 },
 "nbformat": 4,
 "nbformat_minor": 4
}
