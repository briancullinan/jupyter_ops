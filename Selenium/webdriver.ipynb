{
 "cells": [
  {
   "cell_type": "markdown",
   "metadata": {},
   "source": [
    "How to start a webdriver client in node?"
   ]
  },
  {
   "cell_type": "code",
   "execution_count": null,
   "metadata": {
    "inputHidden": false,
    "outputHidden": false
   },
   "outputs": [],
   "source": [
    "var importer = require('../Core');\n",
    "var sync = require('wdio-sync')\n",
    "var readSessions = importer.import('load webdriver sessions');\n",
    "\n",
    "var TIMEOUT = 10000;\n",
    "var sessionSync = false;\n",
    "\n",
    "var client;\n",
    "function createWebdriverClient(host, port) {\n",
    "    if(sessionSync) {\n",
    "        return new Promise(resolve => setTimeout(() => resolve(), 100))\n",
    "            .then(() => createWebdriverClient(host, port));\n",
    "    }\n",
    "    sessionSync = true;\n",
    "    var sessions = readSessions();\n",
    "    \n",
    "    var webdriverServer = {\n",
    "//        sync: true,\n",
    "        debug: true,\n",
    "        host: host || 'localhost',\n",
    "        port: port || 4444,\n",
    "        logLevel: 'command',\n",
    "        baseUrl: 'https://webdriver.io',\n",
    "        pageLoadStrategy: 'eager',\n",
    "        connectionRetryTimeout: TIMEOUT,\n",
    "        desiredCapabilities: {\n",
    "            browserName: 'chrome',\n",
    "            chromeOptions: {\n",
    "                prefs: {\n",
    "                    'download.default_directory': '/data/downloads',\n",
    "                    'profile.default_content_setting_values.notifications': 2,\n",
    "                    'exited_cleanly': true,\n",
    "                    'exit_type': 'None'\n",
    "                },\n",
    "                args: [\n",
    "                    // TODO: https://superuser.com/questions/461035/disable-google-chrome-session-restore-functionality\n",
    "                    'user-data-dir=/tmp/profile-' + sessions.length % 36,\n",
    "                    // 'start-fullscreen',\n",
    "                    'no-sandbox',\n",
    "                    'disable-session-crashed-bubble',\n",
    "                    'disable-infobars',\n",
    "                    'new-window',\n",
    "                    'disable-geolocation',\n",
    "                    'disable-notifications',\n",
    "                    'show-saved-copy',\n",
    "                    'silent-debugger-extension-api'\n",
    "                    //'kiosk'\n",
    "                ]\n",
    "            }\n",
    "        },\n",
    "    };\n",
    "    \n",
    "    console.log('Initializing webdriver on ' + webdriverServer.host);\n",
    "    client = require('webdriverio').remote(webdriverServer);\n",
    "    const {\n",
    "        updateOrAddSession,\n",
    "        getSessions,\n",
    "    } = importer.import('manage webdriver sessions', {client});\n",
    "    client.on('error', e => { \n",
    "        console.log(e.message);\n",
    "    });\n",
    "    client.on('end', () => console.log('Daemon: Closing browser'));\n",
    "    client.on('result', (result) => updateOrAddSession(client.requestHandler.sessionID));\n",
    "    \n",
    "    return client\n",
    "        .getSessions(true)\n",
    "        // save current session\n",
    "        .then(validSessions => {\n",
    "            // the next null or end will be the next available profile id\n",
    "            var index = sessions.map(s => s[1]).indexOf(validSessions[0] || null);\n",
    "            if(index === -1) {\n",
    "                index = sessions.length;\n",
    "            }\n",
    "            client.options.desiredCapabilities.chromeOptions.args[0] = 'user-data-dir=/tmp/profile-' + index;\n",
    "            // TODO: fix this, doesn't work on second init, keeps opening new windows if chrome profile path is alreading open for read/write\n",
    "            return client\n",
    "                .then(() => (client.requestHandler.sessionID = validSessions[0] || null)\n",
    "                      || client.init())\n",
    "                .session();\n",
    "        })\n",
    "        .then(r => {\n",
    "            sessions = updateOrAddSession(client.requestHandler.sessionID);\n",
    "            console.log(client.requestHandler.sessionID);\n",
    "        })\n",
    "        .catch(e => console.log(e))\n",
    "        // Down here at the bottom for safetey\n",
    "        .then(() => {\n",
    "            sessionSync = false;\n",
    "            return client\n",
    "        })\n",
    "};\n",
    "module.exports = createWebdriverClient;\n",
    "createWebdriverClient;\n"
   ]
  },
  {
   "cell_type": "markdown",
   "metadata": {},
   "source": [
    "Load webdriver sessions?\n"
   ]
  },
  {
   "cell_type": "code",
   "execution_count": null,
   "metadata": {},
   "outputs": [],
   "source": [
    "var fs = require('fs');\n",
    "var path = require('path');\n",
    "\n",
    "var TOKEN_DIR = path.join(process.env.HOME || process.env.HOMEPATH || process.env.USERPROFILE, '.credentials');\n",
    "var SESSIONS_PATH = path.join(TOKEN_DIR, 'sessions.json');\n",
    "\n",
    "var sessions = {};\n",
    "var sessionModified = 0;\n",
    "\n",
    "function readSessions() {\n",
    "    try {\n",
    "        if(fs.existsSync(SESSIONS_PATH)\n",
    "           && fs.statSync(SESSIONS_PATH).mtime.getTime() > sessionModified) {\n",
    "            sessionModified = fs.statSync(SESSIONS_PATH).mtime.getTime();\n",
    "            sessions = JSON.parse(fs.readFileSync(SESSIONS_PATH)\n",
    "                .toString());\n",
    "        }\n",
    "    } catch (e) {\n",
    "        sessions = [];\n",
    "    }\n",
    "    return sessions;\n",
    "};\n",
    "module.exports = readSessions;\n"
   ]
  },
  {
   "cell_type": "markdown",
   "metadata": {},
   "source": [
    "Manage webdriver sessions?\n",
    "\n"
   ]
  },
  {
   "cell_type": "code",
   "execution_count": null,
   "metadata": {},
   "outputs": [],
   "source": [
    "var fs = require('fs');\n",
    "var path = require('path');\n",
    "var importer = require('../Core');\n",
    "var readSessions = importer.import('load webdriver sessions');\n",
    "\n",
    "var TIMEOUT = 10000;\n",
    "var TOKEN_DIR = path.join(process.env.HOME || process.env.HOMEPATH || process.env.USERPROFILE, '.credentials');\n",
    "var SESSIONS_PATH = path.join(TOKEN_DIR, 'sessions.json');\n",
    "\n",
    "function updateOrAddSession(currentSession) {\n",
    "    const sessions = readSessions();\n",
    "    const updateSession = sessions.filter(s => s[1] === currentSession)[0];\n",
    "    if(typeof updateSession !== 'undefined') {\n",
    "        if((new Date()).getTime() - updateSession[0] > TIMEOUT / 2) {\n",
    "            updateSession[0] = (new Date()).getTime();\n",
    "        } else {\n",
    "            return;\n",
    "        }\n",
    "    } else {\n",
    "        const oldSession = sessions.filter(s => s[1] === null)[0] || (sessions[sessions.length] = []);\n",
    "        // http://www.english.upenn.edu/~jenglish/English104/tzara.html\n",
    "        oldSession[1] = currentSession;\n",
    "        oldSession[0] = (new Date()).getTime();\n",
    "    }\n",
    "    fs.writeFileSync(\n",
    "        SESSIONS_PATH,\n",
    "        JSON.stringify(sessions, null, 4));\n",
    "    return sessions;\n",
    "}\n",
    "\n",
    "function getSessions(inactive = false) {\n",
    "    const sessions = readSessions();\n",
    "    const original = client.requestHandler.sessionID;\n",
    "    var active = [].concat(sessions)\n",
    "        .filter(session => typeof session[1] !== 'undefined' && session[1] !== null);\n",
    "    if(inactive) {\n",
    "        active = active.filter(session => (new Date()).getTime() - session[0] > TIMEOUT);\n",
    "    }\n",
    "    return importer.runAllPromises(active.map(session => (resolve) => {\n",
    "        client.requestHandler.sessionID = session[1];\n",
    "        client\n",
    "            .windowHandle()\n",
    "            .then(r => client.window(r.value))\n",
    "            .session()\n",
    "            .then(s => resolve(s.sessionId))\n",
    "            .catch(e => {\n",
    "                // if the session is really old and has an error delete it from the list\n",
    "                const index = sessions.map(s => s[1]).indexOf(session[1]);\n",
    "                sessions[index][1] = null;\n",
    "                resolve(null);\n",
    "            });\n",
    "    }))\n",
    "        .then(available => {\n",
    "            client.requestHandler.sessionID = original;\n",
    "            if(original) {\n",
    "                updateOrAddSession(original);\n",
    "            }\n",
    "            return available\n",
    "                .filter(sess => typeof sess !== 'undefined' && sess !== null)\n",
    "                .filter((elem, pos, arr) => arr.indexOf(elem) === pos)\n",
    "        })\n",
    "}\n",
    "\n",
    "if(typeof client.getSessions === 'undefined') {\n",
    "    client.addCommand('getSessions', getSessions);\n",
    "}\n",
    "\n",
    "module.exports = {\n",
    "    updateOrAddSession,\n",
    "    getSessions\n",
    "}\n",
    "\n"
   ]
  },
  {
   "cell_type": "code",
   "execution_count": null,
   "metadata": {
    "collapsed": false,
    "inputHidden": false,
    "outputHidden": false
   },
   "outputs": [
    {
     "name": "stdout",
     "output_type": "stream",
     "text": [
      "Initializing webdriver on localhost\n"
     ]
    }
   ],
   "source": [
    "$$.async();\n",
    "var client = createWebdriverClient('localhost', 4444)\n",
    "    .then(r => $$.sendResult(r))\n",
    "    .catch(e => $$.sendError(e));\n"
   ]
  },
  {
   "cell_type": "code",
   "execution_count": null,
   "metadata": {
    "collapsed": false,
    "inputHidden": false,
    "outputHidden": false
   },
   "outputs": [],
   "source": [
    "$$.async();\n",
    "client.windowHandles()\n",
    "    .then(r => $$.sendResult(r))\n",
    "    .catch(e => $$.sendError(e));\n"
   ]
  },
  {
   "cell_type": "markdown",
   "metadata": {},
   "source": [
    "How to end the webdriver service?"
   ]
  },
  {
   "cell_type": "code",
   "execution_count": null,
   "metadata": {
    "collapsed": false,
    "inputHidden": false,
    "outputHidden": false
   },
   "outputs": [],
   "source": [
    "client.endAll();\n"
   ]
  },
  {
   "cell_type": "markdown",
   "metadata": {},
   "source": [
    "\n",
    "TODO: add decorated logging with screenshots of buttons results can be used: https://github.com/megamindbrian/bots/blob/master/bots/server.js\n",
    "\n",
    "TODO: transfer state and cache to client\n",
    "\n"
   ]
  },
  {
   "cell_type": "code",
   "execution_count": null,
   "metadata": {},
   "outputs": [],
   "source": []
  }
 ],
 "metadata": {
  "kernel_info": {
   "name": "node_nteract"
  },
  "kernelspec": {
   "display_name": "Javascript (Node.js)",
   "language": "javascript",
   "name": "javascript"
  },
  "language_info": {
   "file_extension": ".js",
   "mimetype": "application/javascript",
   "name": "javascript",
   "version": "8.6.0"
  }
 },
 "nbformat": 4,
 "nbformat_minor": 4
}
