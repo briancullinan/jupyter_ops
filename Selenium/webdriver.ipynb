{
 "cells": [
  {
   "cell_type": "markdown",
   "metadata": {},
   "source": [
    "How to start a webdriver client in node?"
   ]
  },
  {
   "cell_type": "code",
   "execution_count": 1,
   "metadata": {
    "inputHidden": false,
    "outputHidden": false
   },
   "outputs": [
    {
     "data": {
      "text/plain": [
       "[Function: createWebdriverClient]"
      ]
     },
     "execution_count": 1,
     "metadata": {},
     "output_type": "execute_result"
    }
   ],
   "source": [
    "var webdriverio = require('webdriverio');\n",
    "var sync = require('wdio-sync')\n",
    "var fs = require('fs');\n",
    "var importer = require('../Core');\n",
    "var path = require('path');\n",
    "\n",
    "var TOKEN_DIR = path.join(process.env.HOME || process.env.HOMEPATH || process.env.USERPROFILE, '.credentials');\n",
    "var SESSIONS_PATH = path.join(TOKEN_DIR, 'sessions.txt');\n",
    "\n",
    "var createWebdriverClient = (host, port) => {\n",
    "    var webdriverServer = {\n",
    "        sync: true,\n",
    "        debug: true,\n",
    "        host: host || 'localhost',\n",
    "        port: port || 4444,\n",
    "        baseUrl: 'https://webdriver.io',\n",
    "        pageLoadStrategy: 'eager',\n",
    "        connectionRetryTimeout: 10000,\n",
    "        desiredCapabilities: {\n",
    "            browserName: 'chrome',\n",
    "            chromeOptions: {\n",
    "                prefs: {\n",
    "                    'download.default_directory' : '/data/downloads',\n",
    "                    'profile.default_content_setting_values.notifications': 2\n",
    "                },\n",
    "                args: [\n",
    "                    // TODO: https://superuser.com/questions/461035/disable-google-chrome-session-restore-functionality\n",
    "                    'user-data-dir=/usr/profile', \n",
    "                    'start-fullscreen', \n",
    "                    'no-sandbox',\n",
    "                    'disable-session-crashed-bubble',\n",
    "                    'disable-infobars',\n",
    "                    'disable-geolocation',\n",
    "                    'disable-notifications',\n",
    "                    'show-saved-copy',\n",
    "                    'silent-debugger-extension-api'\n",
    "                    //'kiosk'\n",
    "                ]\n",
    "            }\n",
    "        }\n",
    "    };\n",
    "    \n",
    "    console.log('Initializing webdriver on ' + webdriverServer.host);\n",
    "    var client = webdriverio.remote(webdriverServer);\n",
    "    sync.wrapCommands(client, [], []);\n",
    "    client.$ = (...config) => client.element.apply(client, config)\n",
    "    client.$$ = (...config) => client.elements.apply(client, config).value\n",
    "    client.on('error', function (e) {\n",
    "        console.log(e);\n",
    "        this.endAll();\n",
    "    });\n",
    "    client.on('end', function () {\n",
    "        console.log('Daemon: Closing browser');\n",
    "    });\n",
    "    client.on('result', function (result) {\n",
    "        //console.log(result);\n",
    "    });\n",
    "    return client\n",
    "    .then(() => {\n",
    "        var sessions;\n",
    "        try {\n",
    "            sessions = fs.readFileSync(SESSIONS_PATH)\n",
    "                .toString().split('\\n');\n",
    "        } catch (e) {\n",
    "            sessions = [];\n",
    "        }\n",
    "        // validate and close each session\n",
    "        return importer.runAllPromises(sessions.map(s => (resolve) => {\n",
    "            client.requestHandler.sessionID = s\n",
    "            client.session()\n",
    "                .then(s => resolve(s.sessionId))\n",
    "                .catch(e => resolve(null));\n",
    "        }))\n",
    "        .then(r => r\n",
    "            .filter(sess => typeof sess !== 'undefined' && sess !== null)\n",
    "            .filter((elem, pos, arr) => arr.indexOf(elem) === pos));\n",
    "    })\n",
    "    // save current session\n",
    "    .then(validSessions => {\n",
    "        if(validSessions.length == 0) {\n",
    "            // save new session\n",
    "            client.requestHandler.sessionID = null;\n",
    "            // TODO: fix this, doesn't work on second init, keeps opening new windows\n",
    "            return client.init();\n",
    "        } else {\n",
    "            // set to first valid\n",
    "            client.requestHandler.sessionID = validSessions[0];\n",
    "        }\n",
    "    })\n",
    "    .then(r => {\n",
    "        fs.writeFileSync(SESSIONS_PATH,\n",
    "                          client.requestHandler.sessionID + '\\n')\n",
    "        return client.windowHandles();\n",
    "    })\n",
    "    .then(r => {\n",
    "        if(r.value.length == 0) {\n",
    "            return client.newWindow();\n",
    "        }\n",
    "    })\n",
    "    /*\n",
    "    .then(() => client.requestHandler.create({\n",
    "        path: '/status',\n",
    "        method: 'GET'\n",
    "    }))\n",
    "    */\n",
    "    .catch(e => console.log(e))\n",
    "};\n",
    "module.exports = createWebdriverClient;\n",
    "createWebdriverClient;\n",
    "\n"
   ]
  },
  {
   "cell_type": "code",
   "execution_count": 2,
   "metadata": {
    "collapsed": false,
    "inputHidden": false,
    "outputHidden": false
   },
   "outputs": [
    {
     "name": "stdout",
     "output_type": "stream",
     "text": [
      "Initializing webdriver on localhost\n",
      "[ 'cd2e4a2685bda6bbc5ee237846e88345' ]\n"
     ]
    },
    {
     "data": {
      "text/plain": [
       "{ sessionId: 'cd2e4a2685bda6bbc5ee237846e88345',\n",
       "  status: 0,\n",
       "  value: [ 'CDwindow-1ddf96a5-fd99-4f84-8c7f-a4aa3d6cc388' ] }"
      ]
     },
     "execution_count": 2,
     "metadata": {},
     "output_type": "execute_result"
    }
   ],
   "source": [
    "$$.async();\n",
    "var client = createWebdriverClient('localhost', 4444)\n",
    "    .then(r => $$.sendResult(r))\n",
    "    .catch(e => $$.sendError(e));\n"
   ]
  },
  {
   "cell_type": "code",
   "execution_count": null,
   "metadata": {
    "collapsed": false,
    "inputHidden": false,
    "outputHidden": false
   },
   "outputs": [],
   "source": [
    "$$.async();\n",
    "client.windowHandles()\n",
    "    .then(r => $$.sendResult(r))\n",
    "    .catch(e => $$.sendError(e));\n"
   ]
  },
  {
   "cell_type": "markdown",
   "metadata": {},
   "source": [
    "How to end the webdriver service?"
   ]
  },
  {
   "cell_type": "code",
   "execution_count": null,
   "metadata": {
    "collapsed": false,
    "inputHidden": false,
    "outputHidden": false
   },
   "outputs": [],
   "source": [
    "client.endAll();\n"
   ]
  },
  {
   "cell_type": "markdown",
   "metadata": {},
   "source": [
    "\n",
    "TODO: add decorated logging with screenshots of buttons results can be used: https://github.com/megamindbrian/bots/blob/master/bots/server.js\n",
    "\n",
    "TODO: transfer state and cache to client\n",
    "\n"
   ]
  },
  {
   "cell_type": "code",
   "execution_count": null,
   "metadata": {},
   "outputs": [],
   "source": []
  },
  {
   "cell_type": "code",
   "execution_count": null,
   "metadata": {},
   "outputs": [],
   "source": []
  }
 ],
 "metadata": {
  "kernel_info": {
   "name": "node_nteract"
  },
  "kernelspec": {
   "display_name": "Javascript (Node.js)",
   "language": "javascript",
   "name": "javascript"
  },
  "language_info": {
   "file_extension": ".js",
   "mimetype": "application/javascript",
   "name": "javascript",
   "version": "7.7.2"
  }
 },
 "nbformat": 4,
 "nbformat_minor": 4
}
