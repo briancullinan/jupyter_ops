{
 "cells": [
  {
   "cell_type": "markdown",
   "metadata": {},
   "source": [
    "How to start a webdriver client in node?"
   ]
  },
  {
   "cell_type": "code",
   "execution_count": 1,
   "metadata": {
    "collapsed": false,
    "inputHidden": false,
    "outputHidden": false
   },
   "outputs": [
    {
     "data": {
      "text/plain": [
       "[Function: createWebdriverClient]"
      ]
     },
     "execution_count": 1,
     "metadata": {},
     "output_type": "execute_result"
    }
   ],
   "source": [
    "var execSync = require('child_process').execSync;\n",
    "try {\n",
    "    require.resolve('webdriverio');\n",
    "    require.resolve('wdio-sync');\n",
    "} catch (e) {\n",
    "    execSync('npm install webdriverio wdio-sync');\n",
    "}\n",
    "var webdriverio = require('webdriverio');\n",
    "var sync = require('wdio-sync')\n",
    "\n",
    "var createWebdriverClient = (host, port) => {\n",
    "    var webdriverServer = {\n",
    "        sync: true,\n",
    "        debug: true,\n",
    "        host: host || 'localhost',\n",
    "        port: port || 4444,\n",
    "        pageLoadStrategy: 'eager',\n",
    "        connectionRetryTimeout: 10000,\n",
    "        desiredCapabilities: {\n",
    "            browserName: 'chrome',\n",
    "            chromeOptions: {\n",
    "                prefs: {\n",
    "                    'download.default_directory' : '/data/downloads'\n",
    "                },\n",
    "                args: [\n",
    "                    'user-data-dir=/usr/profile', \n",
    "                    'start-fullscreen', \n",
    "                    'no-sandbox',\n",
    "                    //'disable-session-crashed-bubble',\n",
    "                    //'disable-infobars',\n",
    "                    //'kiosk'\n",
    "                ]\n",
    "            }\n",
    "        }\n",
    "    };\n",
    "    \n",
    "    // TODO: add decorated logging with screenshots of buttons \n",
    "    // results can be used: https://github.com/megamindbrian/bots/blob/master/bots/server.js\n",
    "    \n",
    "    // TODO: transfer state and cache to client\n",
    "\n",
    "    console.log('Initializing webdriver on ' + webdriverServer.host);\n",
    "    var client = webdriverio.remote(webdriverServer);\n",
    "    sync.wrapCommands(client, [], [])\n",
    "    client.$ = (...config) => client.element.apply(client, config)\n",
    "    client.$$ = (...config) => client.elements.apply(client, config).value\n",
    "    client.on('error', function (e) {\n",
    "        console.log(e);\n",
    "        this.endAll();\n",
    "    });\n",
    "    client.on('end', function () {\n",
    "        console.log('Daemon: Closing browser');\n",
    "    });\n",
    "    client.on('result', function (result) {\n",
    "        //console.log(result);\n",
    "    });\n",
    "    return client.sessions()\n",
    "        .then(r => {\n",
    "            if(r.value.length == 0) {\n",
    "                return client.init();\n",
    "            } else {\n",
    "                client.requestHandler.sessionID = r.value[0].id;\n",
    "            }\n",
    "            return client.windowHandles();\n",
    "        })\n",
    "        .then(r => {\n",
    "            if(r.value.length == 0) {\n",
    "                return client.newWindow();\n",
    "            }\n",
    "        });\n",
    "};\n",
    "module.exports = createWebdriverClient;\n",
    "createWebdriverClient;\n",
    "\n"
   ]
  },
  {
   "cell_type": "code",
   "execution_count": 2,
   "metadata": {
    "collapsed": false,
    "inputHidden": false,
    "outputHidden": false
   },
   "outputs": [
    {
     "name": "stdout",
     "output_type": "stream",
     "text": [
      "Initializing webdriver on localhost\n"
     ]
    },
    {
     "data": {
      "text/plain": [
       "'31094014-8005-453e-951b-100b66185c1f'"
      ]
     },
     "execution_count": 2,
     "metadata": {},
     "output_type": "execute_result"
    }
   ],
   "source": [
    "$$.async();\n",
    "var client = createWebdriverClient('localhost', 4444)\n",
    "    .then(() => $$.sendResult(client.requestHandler.sessionID))\n",
    "    .catch(e => $$.sendError(e));\n"
   ]
  },
  {
   "cell_type": "code",
   "execution_count": 5,
   "metadata": {
    "collapsed": false,
    "inputHidden": false,
    "outputHidden": false
   },
   "outputs": [
    {
     "ename": "TypeError",
     "evalue": "Cannot read property 'windowHandles' of undefined",
     "output_type": "error",
     "traceback": [
      "TypeError: Cannot read property 'windowHandles' of undefined",
      "    at evalmachine.<anonymous>:2:7",
      "    at ContextifyScript.Script.runInThisContext (vm.js:25:33)",
      "    at Object.exports.runInThisContext (vm.js:77:17)",
      "    at run ([eval]:608:19)",
      "    at onRunRequest ([eval]:379:22)",
      "    at onMessage ([eval]:347:17)",
      "    at emitTwo (events.js:106:13)",
      "    at process.emit (events.js:191:7)",
      "    at process.nextTick (internal/child_process.js:744:12)",
      "    at _combinedTickCallback (internal/process/next_tick.js:67:7)"
     ]
    }
   ],
   "source": [
    "$$.async();\n",
    "client.windowHandles()\n",
    "    .then(r => $$.sendResult(r))\n",
    "    .catch(e => $$.sendError(e));"
   ]
  },
  {
   "cell_type": "markdown",
   "metadata": {},
   "source": [
    "How to end the webdriver service?"
   ]
  },
  {
   "cell_type": "code",
   "execution_count": null,
   "metadata": {
    "collapsed": false,
    "inputHidden": false,
    "outputHidden": false
   },
   "outputs": [],
   "source": [
    "client.endAll();\n"
   ]
  }
 ],
 "metadata": {
  "kernel_info": {
   "name": "node_nteract"
  },
  "kernelspec": {
   "display_name": "Javascript (Node.js)",
   "language": "javascript",
   "name": "javascript"
  },
  "language_info": {
   "file_extension": ".js",
   "mimetype": "application/javascript",
   "name": "javascript",
   "version": "7.7.2"
  }
 },
 "nbformat": 4,
 "nbformat_minor": 4
}
