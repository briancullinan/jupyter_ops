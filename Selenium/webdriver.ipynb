{
 "cells": [
  {
   "cell_type": "markdown",
   "metadata": {},
   "source": [
    "How to start a webdriver client in node?"
   ]
  },
  {
   "cell_type": "code",
   "execution_count": 1,
   "metadata": {
    "inputHidden": false,
    "outputHidden": false
   },
   "outputs": [
    {
     "data": {
      "text/plain": [
       "[Function: createWebdriverClient]"
      ]
     },
     "execution_count": 1,
     "metadata": {},
     "output_type": "execute_result"
    }
   ],
   "source": [
    "var importer = require('../Core');\n",
    "var webdriverio = require('webdriverio');\n",
    "var sync = require('wdio-sync')\n",
    "var fs = require('fs');\n",
    "var path = require('path');\n",
    "\n",
    "var TIMEOUT = 10000;\n",
    "var TOKEN_DIR = path.join(process.env.HOME || process.env.HOMEPATH || process.env.USERPROFILE, '.credentials');\n",
    "var SESSIONS_PATH = path.join(TOKEN_DIR, 'sessions.json');\n",
    "\n",
    "var sessions;\n",
    "var sessionModified;\n",
    "var getSessions = () => {\n",
    "    try {\n",
    "        sessionModified = fs.statSync(SESSIONS_PATH).mtime.getTime();\n",
    "        sessions = JSON.parse(fs.readFileSync(SESSIONS_PATH)\n",
    "            .toString());\n",
    "    } catch (e) {\n",
    "        sessions = {};\n",
    "    }\n",
    "\n",
    "    if(typeof sessions.inactive === 'undefined') {\n",
    "        sessions.inactive = [];\n",
    "    }\n",
    "    if(typeof sessions.active === 'undefined') {\n",
    "        sessions.active = [];\n",
    "    }\n",
    "    return sessions;\n",
    "};\n",
    "\n",
    "var updateOrAddSession = (currentSession) => {\n",
    "    if(fs.existsSync(SESSIONS_PATH)\n",
    "       && fs.statSync(SESSIONS_PATH).mtime.getTime() > sessionModified) {\n",
    "        getSessions();\n",
    "    }\n",
    "    const updateSession = sessions.active.filter(s => s[1] === currentSession)[0];\n",
    "    if(typeof updateSession !== 'undefined') {\n",
    "        if((new Date()).getTime() - updateSession[0] > TIMEOUT / 2) {\n",
    "            updateSession[0] = (new Date()).getTime();\n",
    "        } else {\n",
    "            return;\n",
    "        }\n",
    "    } else {\n",
    "        sessions.active.push([(new Date()).getTime(), currentSession]);\n",
    "    }\n",
    "    fs.writeFileSync(\n",
    "        SESSIONS_PATH,\n",
    "        JSON.stringify(sessions, null, 4))\n",
    "}\n",
    "\n",
    "var getActiveSessions = () => {\n",
    "    const original = client.requestHandler.sessionID;\n",
    "    const active = [].concat(sessions.active);\n",
    "    active.sort((a, b) => b[0] - a[0]);\n",
    "    return importer.runAllPromises(active.map(session => (resolve) => {\n",
    "        client.requestHandler.sessionID = session[1];\n",
    "        client.session()\n",
    "            .then(s => resolve(s.sessionId))\n",
    "            .catch(e => resolve(null));\n",
    "    }))\n",
    "        .then(available => {\n",
    "            client.requestHandler.sessionID = original;\n",
    "            return available\n",
    "                .filter(sess => typeof sess !== 'undefined' && sess !== null)\n",
    "                .filter((elem, pos, arr) => arr.indexOf(elem) === pos)\n",
    "        })\n",
    "}\n",
    "\n",
    "var getClientSessions = () => {\n",
    "    const original = client.requestHandler.sessionID;\n",
    "    // validate and close each session\n",
    "    const inactive = sessions.inactive.concat(sessions.active.filter(session => \n",
    "            // reuse if lagging longer than 120 seconds?\n",
    "            (new Date()).getTime() - session[0] > TIMEOUT))\n",
    "        .filter(session => typeof session[1] !== 'undefined' && session[1] !== null)\n",
    "    inactive.sort((a, b) => b[0] - a[0]);\n",
    "    return importer.runAllPromises(inactive.map(session => (resolve) => {\n",
    "        client.requestHandler.sessionID = session[1];\n",
    "        client.session()\n",
    "            .then(s => resolve(s.sessionId))\n",
    "            .catch(e => resolve(null));\n",
    "    }))\n",
    "        .then(available => {\n",
    "            client.requestHandler.sessionID = original;\n",
    "            return available\n",
    "                .filter(sess => typeof sess !== 'undefined' && sess !== null)\n",
    "                .filter((elem, pos, arr) => arr.indexOf(elem) === pos)\n",
    "        })\n",
    "}\n",
    "\n",
    "var sessionSync = false;\n",
    "var client;\n",
    "var createWebdriverClient = (host, port) => {\n",
    "    if(sessionSync) {\n",
    "        return new Promise(resolve => setTimeout(() => resolve(), 100))\n",
    "            .then(() => createWebdriverClient(host, port));\n",
    "    }\n",
    "    sessionSync = true;\n",
    "    const sessions = getSessions();\n",
    "    \n",
    "    var webdriverServer = {\n",
    "        sync: true,\n",
    "        debug: true,\n",
    "        host: host || 'localhost',\n",
    "        port: port || 4444,\n",
    "        logLevel: 'command',\n",
    "        baseUrl: 'https://webdriver.io',\n",
    "        pageLoadStrategy: 'eager',\n",
    "        connectionRetryTimeout: TIMEOUT,\n",
    "        desiredCapabilities: {\n",
    "            browserName: 'chrome',\n",
    "            chromeOptions: {\n",
    "                prefs: {\n",
    "                    'download.default_directory': '/data/downloads',\n",
    "                    'profile.default_content_setting_values.notifications': 2,\n",
    "                    'exited_cleanly': true,\n",
    "                    'exit_type': 'None'\n",
    "                },\n",
    "                args: [\n",
    "                    // TODO: https://superuser.com/questions/461035/disable-google-chrome-session-restore-functionality\n",
    "                    'user-data-dir=/tmp/profile-' + sessions.active.length,\n",
    "                    // 'start-fullscreen',\n",
    "                    'no-sandbox',\n",
    "                    'disable-session-crashed-bubble',\n",
    "                    'disable-infobars',\n",
    "                    'new-window',\n",
    "                    'disable-geolocation',\n",
    "                    'disable-notifications',\n",
    "                    'show-saved-copy',\n",
    "                    'silent-debugger-extension-api'\n",
    "                    //'kiosk'\n",
    "                ]\n",
    "            }\n",
    "        },\n",
    "    };\n",
    "    \n",
    "    console.log('Initializing webdriver on ' + webdriverServer.host);\n",
    "    client = webdriverio.remote(webdriverServer);\n",
    "    //global.browser = {options: {sync: true}}\n",
    "    //sync.wrapCommands(client, [], []);\n",
    "    //global.$ = (...config) => client.element.apply(client, config)\n",
    "    //global.$$ = (...config) => client.elements.apply(client, config).value\n",
    "    //global.browser = client;\n",
    "    client.on('error', function (e) {\n",
    "        console.log(e);\n",
    "        this.endAll();\n",
    "    });\n",
    "    client.on('end', function () {\n",
    "        console.log('Daemon: Closing browser');\n",
    "    });\n",
    "    client.on('result', function (result) {\n",
    "        updateOrAddSession(client.requestHandler.sessionID);\n",
    "        //console.log(result);\n",
    "    });\n",
    "    client.addCommand('getClientSessions', getClientSessions);\n",
    "    client.addCommand('getActiveSessions', getActiveSessions);\n",
    "    return client\n",
    "        .getClientSessions()\n",
    "        // save current session\n",
    "        .then(validSessions => {\n",
    "            console.log(validSessions);\n",
    "            if (validSessions.length == 0) {\n",
    "                // save new session\n",
    "                client.requestHandler.sessionID = null;\n",
    "                // TODO: fix this, doesn't work on second init, keeps opening new windows\n",
    "                return client.init().session();\n",
    "            } else {\n",
    "                // set to first valid\n",
    "                client.requestHandler.sessionID = validSessions[0];\n",
    "                return client.session();\n",
    "            }\n",
    "        })\n",
    "        .then(r => {\n",
    "        console.log(r);\n",
    "            updateOrAddSession(client.requestHandler.sessionID);\n",
    "            console.log(client.requestHandler.sessionID);\n",
    "        })\n",
    "        /*\n",
    "        .then(() => client.requestHandler.create({\n",
    "            path: '/status',\n",
    "            method: 'GET'\n",
    "        }))\n",
    "        */\n",
    "        .catch(e => console.log(e))\n",
    "        // Down here at the bottom for safetey\n",
    "        .then(() => (sessionSync = false))\n",
    "};\n",
    "module.exports = createWebdriverClient;\n",
    "createWebdriverClient;\n"
   ]
  },
  {
   "cell_type": "code",
   "execution_count": 2,
   "metadata": {
    "collapsed": false,
    "inputHidden": false,
    "outputHidden": false
   },
   "outputs": [
    {
     "name": "stdout",
     "output_type": "stream",
     "text": [
      "Initializing webdriver on localhost\n",
      "[ 'cd2e4a2685bda6bbc5ee237846e88345' ]\n"
     ]
    },
    {
     "data": {
      "text/plain": [
       "{ sessionId: 'cd2e4a2685bda6bbc5ee237846e88345',\n",
       "  status: 0,\n",
       "  value: [ 'CDwindow-1ddf96a5-fd99-4f84-8c7f-a4aa3d6cc388' ] }"
      ]
     },
     "execution_count": 2,
     "metadata": {},
     "output_type": "execute_result"
    }
   ],
   "source": [
    "$$.async();\r",
    "var client = createWebdriverClient('localhost', 4444)\r",
    "    .then(r => $$.sendResult(r))\r",
    "    .catch(e => $$.sendError(e));\r"
   ]
  },
  {
   "cell_type": "code",
   "execution_count": null,
   "metadata": {
    "collapsed": false,
    "inputHidden": false,
    "outputHidden": false
   },
   "outputs": [],
   "source": [
    "$$.async();\r",
    "client.windowHandles()\r",
    "    .then(r => $$.sendResult(r))\r",
    "    .catch(e => $$.sendError(e));\r"
   ]
  },
  {
   "cell_type": "markdown",
   "metadata": {},
   "source": [
    "How to end the webdriver service?"
   ]
  },
  {
   "cell_type": "code",
   "execution_count": null,
   "metadata": {
    "collapsed": false,
    "inputHidden": false,
    "outputHidden": false
   },
   "outputs": [],
   "source": [
    "client.endAll();\r"
   ]
  },
  {
   "cell_type": "markdown",
   "metadata": {},
   "source": [
    "\n",
    "TODO: add decorated logging with screenshots of buttons results can be used: https://github.com/megamindbrian/bots/blob/master/bots/server.js\n",
    "\n",
    "TODO: transfer state and cache to client\n",
    "\n"
   ]
  },
  {
   "cell_type": "code",
   "execution_count": null,
   "metadata": {},
   "outputs": [],
   "source": []
  },
  {
   "cell_type": "code",
   "execution_count": null,
   "metadata": {},
   "outputs": [],
   "source": []
  }
 ],
 "metadata": {
  "kernel_info": {
   "name": "node_nteract"
  },
  "kernelspec": {
   "display_name": "Javascript (Node.js)",
   "language": "javascript",
   "name": "javascript"
  },
  "language_info": {
   "file_extension": ".js",
   "mimetype": "application/javascript",
   "name": "javascript",
   "version": "8.6.0"
  }
 },
 "nbformat": 4,
 "nbformat_minor": 4
}
