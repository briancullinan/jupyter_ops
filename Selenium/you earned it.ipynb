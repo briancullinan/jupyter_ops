{
 "cells": [
  {
   "cell_type": "markdown",
   "metadata": {},
   "source": [
    "high five people in YouEarnedIt?\n",
    "\n"
   ]
  },
  {
   "cell_type": "code",
   "execution_count": null,
   "metadata": {},
   "outputs": [],
   "source": [
    "var importer = require('../Core');\n",
    "\n",
    "function loginYouEarnedIt() {\n",
    "    var credentials = getCredentials('swiftpage.youearnedit.com');\n",
    "    return client\n",
    "        .click('input[name=\"user[login]\"]')\n",
    "        .keys(credentials.username)\n",
    "        .pause(1000)\n",
    "        .click('input[name=\"user[password]\"]')\n",
    "        .keys(credentials.password)\n",
    "        .pause(1000)\n",
    "        .submitForm('form[action]')\n",
    "        .pause(2000)\n",
    "}\n",
    "\n",
    "function doHighFive(el) {\n",
    "    return client.elementIdClick(el)\n",
    "        .pause(1000)\n",
    "        .isExisting('//div[contains(@class, \"modal\")]//button[contains(., \"Continue\")]')\n",
    "        .then(is => is\n",
    "            ? client.click('//div[contains(@class, \"modal\")]//button[contains(., \"Continue\")]')\n",
    "            : Promise.resolve([]))\n",
    "    // TODO: check for multiple dialog?\n",
    "}\n",
    "\n",
    "function highFive() {\n",
    "    return client.url('https://swiftpage.youearnedit.com/posts')\n",
    "        .pause(2000)\n",
    "        .isExisting('form[action*=\"sign_in\"]')\n",
    "        .then(is => is ? loginYouEarnedIt() : Promise.resolve([]))\n",
    "        .elements('//button[not(@disabled)]/i[contains(@class, \"High-Five\")]')\n",
    "        .then(els => {\n",
    "            console.log(els);\n",
    "            return importer.runAllPromises(els.value\n",
    "                .map(el => resolve => doHighFive(el.ELEMENT)\n",
    "                    .then(() => resolve())\n",
    "                    .catch(e => {\n",
    "                        console.log(e);\n",
    "                        resolve();\n",
    "               \n",
    "            })));\n",
    "        })\n",
    "        .catch(e => console.log(e))\n",
    "    // TODO: repeat or just first page?\n",
    "};\n",
    "module.exports = highFive;\n",
    "highFive;\n",
    "\n"
   ]
  },
  {
   "cell_type": "markdown",
   "metadata": {},
   "source": [
    "automate YouEarnedIt?\n",
    "\n"
   ]
  },
  {
   "cell_type": "code",
   "execution_count": 1,
   "metadata": {},
   "outputs": [
    {
     "data": {
      "text/plain": [
       "[Function: runHighFiver]"
      ]
     },
     "execution_count": 1,
     "metadata": {},
     "output_type": "execute_result"
    }
   ],
   "source": [
    "var importer = require('../Core');\n",
    "var runSeleniumCell = importer.import('selenium cell');\n",
    "function runHighFiver() {\n",
    "    var highFive = runSeleniumCell('high five people youearnedit');\n",
    "    return highFive.then(func => func());\n",
    "};\n",
    "module.exports = runHighFiver;\n",
    "\n",
    "// node -e \"require('/Users/brian.cullinan/Documents/jupytangular2/Core').interpret('automate youearnedit').then(r=>r.runInNewContext()()).then(e=>{ console.log(e); process.exit(e); }).catch(e=>{console.log(e); process.exit(e) });\"\n"
   ]
  },
  {
   "cell_type": "code",
   "execution_count": null,
   "metadata": {},
   "outputs": [
    {
     "name": "stdout",
     "output_type": "stream",
     "text": [
      "Initializing webdriver on localhost\n",
      "[ '5723794c-a3f9-4b41-b2b5-deda1be7a75c' ]\n",
      "{ x: 4080, y: 1016 }\n",
      "{ state: 'success',\n",
      "  sessionId: '5723794c-a3f9-4b41-b2b5-deda1be7a75c',\n",
      "  hCode: 2083727235,\n",
      "  value: [],\n",
      "  class: 'org.openqa.selenium.remote.Response',\n",
      "  status: 0,\n",
      "  selector: '//span[not(contains(@class, \"disabled\"))]/i[contains(@class, \"High-Five\")]' }\n"
     ]
    }
   ],
   "source": [
    "$$.async()\n",
    "runHighFiver()\n",
    "    .then(r => $$.sendResult(r))\n",
    "    .catch(e => $$.sendError(e))"
   ]
  },
  {
   "cell_type": "code",
   "execution_count": null,
   "metadata": {},
   "outputs": [],
   "source": []
  }
 ],
 "metadata": {
  "kernelspec": {
   "display_name": "Javascript (Node.js)",
   "language": "javascript",
   "name": "javascript"
  },
  "language_info": {
   "file_extension": ".js",
   "mimetype": "application/javascript",
   "name": "javascript",
   "version": "8.8.1"
  }
 },
 "nbformat": 4,
 "nbformat_minor": 2
}
