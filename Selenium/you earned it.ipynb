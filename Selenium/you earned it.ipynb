{
 "cells": [
  {
   "cell_type": "markdown",
   "metadata": {},
   "source": [
    "high five people in YouEarnedIt?\n",
    "\n"
   ]
  },
  {
   "cell_type": "code",
   "execution_count": null,
   "metadata": {},
   "outputs": [],
   "source": [
    "var importer = require('../Core');\r",
    "\r",
    "var loginYouEarnedIt = () => {\r",
    "    var credentials = getCredentials('swiftpage.youearnedit.com');\r",
    "    return client\r",
    "        .click('input[name=\"user[login]\"]')\r",
    "        .keys(credentials.username)\r",
    "        .pause(1000)\r",
    "        .click('input[name=\"user[password]\"]')\r",
    "        .keys(credentials.password)\r",
    "        .pause(1000)\r",
    "        .submitForm('form[action]')\r",
    "        .pause(2000)\r",
    "}\r",
    "\r",
    "var doHighFive = (el) => {\r",
    "    return client.elementIdClick(el)\r",
    "        .pause(1000)\r",
    "        .isVisible('//div[contains(@class, \"button\")][contains(., \"Continue\")]')\r",
    "        .then(is => is\r",
    "            ? client.click('//div[contains(@class, \"button\")][contains(., \"Continue\")]')\r",
    "            : Promise.resolve([]))\r",
    "    // TODO: check for multiple dialog?\r",
    "}\r",
    "\r",
    "var highFive = () => {\r",
    "    return client.url('https://swiftpage.youearnedit.com/posts')\r",
    "        .pause(2000)\r",
    "        .isExisting('form[action*=\"sign_in\"]')\r",
    "        .then(is => is ? loginYouEarnedIt() : Promise.resolve([]))\r",
    "        .elements('//span[not(contains(@class, \"disabled\"))]/i[contains(@class, \"High-Five\")]')\r",
    "        .then(els => {\r",
    "            return importer.runAllPromises(els.value\r",
    "                .map(el => resolve => doHighFive(el.ELEMENT)\r",
    "                    .then(() => resolve())\r",
    "                    .catch(e => {\r",
    "                        console.log(e);\r",
    "                        resolve();\r",
    "                    })));\r",
    "        })\r",
    "    // TODO: repeat or just first page?\r",
    "};\r",
    "module.exports = highFive;\r",
    "highFive;\r",
    "\r",
    ""
   ]
  },
  {
   "cell_type": "markdown",
   "metadata": {},
   "source": [
    "automate YouEarnedIt?\n",
    "\n"
   ]
  },
  {
   "cell_type": "code",
   "execution_count": null,
   "metadata": {},
   "outputs": [],
   "source": [
    "var importer = require('../Core');\r",
    "\r",
    "var runHighFiver = () => {\r",
    "    return importer.import('selenium cell')\r",
    "        .then(runSeleniumCell => runSeleniumCell('high five people youearnedit'))\r",
    "        .then(highFive => highFive())\r",
    "        .catch(e => console.log(e))\r",
    "};\r",
    "module.exports = runHighFiver;\r",
    "\r",
    "// node -e \"require('/Users/brian.cullinan/Documents/jupytangular2/Core').interpret('automate youearnedit').then(r=>r.runInNewContext()()).then(e=>{ console.log(e); process.exit(e); }).catch(e=>{console.log(e); process.exit(e) });\"\r",
    ""
   ]
  },
  {
   "cell_type": "code",
   "execution_count": null,
   "metadata": {},
   "outputs": [],
   "source": [
    ""
   ]
  }
 ],
 "metadata": {
  "kernelspec": {
   "display_name": "Javascript (Node.js)",
   "language": "javascript",
   "name": "javascript"
  },
  "language_info": {
   "file_extension": ".js",
   "mimetype": "application/javascript",
   "name": "javascript",
   "version": "7.7.2"
  }
 },
 "nbformat": 4,
 "nbformat_minor": 2
}