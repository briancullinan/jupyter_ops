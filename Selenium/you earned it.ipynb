{
 "cells": [
  {
   "cell_type": "markdown",
   "metadata": {},
   "source": [
    "high five people in YouEarnedIt?\n",
    "\n"
   ]
  },
  {
   "cell_type": "code",
   "execution_count": null,
   "metadata": {},
   "outputs": [],
   "source": [
    "var importer = require('../Core');\n",
    "\n",
    "var loginYouEarnedIt = () => {\n",
    "    var credentials = getCredentials('swiftpage.youearnedit.com');\n",
    "    return client\n",
    "    .click('input[name=\"user[login]\"]')\n",
    "    .keys(credentials.username)\n",
    "    .pause(1000)\n",
    "    .click('input[name=\"user[password]\"]')\n",
    "    .keys(credentials.password)\n",
    "    .pause(1000)\n",
    "    .submitForm('form[action]')\n",
    "    .pause(2000)\n",
    "}\n",
    "\n",
    "var doHighFive = (el) => {\n",
    "    return client.elementIdClick(el)\n",
    "    .isVisible('//div[contains(@class, \"button\")][contains(., \"Continue\")]')\n",
    "    .then(is => is\n",
    "          ? client.click('//div[contains(@class, \"button\")][contains(., \"Continue\")]')\n",
    "          : Promise.resolve([]))\n",
    "    // TODO: check for multiple dialog?\n",
    "}\n",
    "\n",
    "var highFive = () => {\n",
    "    return client.url('https://swiftpage.youearnedit.com/posts')\n",
    "    .pause(2000)\n",
    "    .isExisting('form[action*=\"sign_in\"]')\n",
    "    .then(is => is ? loginYouEarnedIt() : Promise.resolve([]))\n",
    "    .elements('//span[not(contains(@class, \"disabled\"))]/i[contains(@class, \"High-Five\")]')\n",
    "    .then(els => {\n",
    "        return importer.runAllPromises(els.value\n",
    "            .map(el => resolve => doHighFive(el.ELEMENT)\n",
    "                 .then(() => resolve())\n",
    "                 .catch(e => { console.log(e); resolve(); })));\n",
    "    })\n",
    "    // TODO: repeat or just first page?\n",
    "};\n",
    "module.exports = highFive;\n",
    "highFive;\n",
    "\n"
   ]
  },
  {
   "cell_type": "markdown",
   "metadata": {},
   "source": [
    "automate YouEarnedIt?\n",
    "\n"
   ]
  },
  {
   "cell_type": "code",
   "execution_count": 1,
   "metadata": {},
   "outputs": [
    {
     "data": {
      "text/plain": [
       "[Function: runHighFiver]"
      ]
     },
     "execution_count": 1,
     "metadata": {},
     "output_type": "execute_result"
    }
   ],
   "source": [
    "var importer = require('../Core');\n",
    "\n",
    "var runSeleniumCell;\n",
    "var runHighFiver = () => {\n",
    "    return importer.interpretAll(['selenium cell'])\n",
    "    .then(r => {\n",
    "        runSeleniumCell = r[0].runInNewContext();\n",
    "        return runSeleniumCell(['high five people youearnedit']);\n",
    "    })\n",
    "    .then(r => r[0]())\n",
    "    .catch(e => console.log(e))\n",
    "}\n",
    "module.exports = runHighFiver;\n",
    "runHighFiver;\n",
    "\n",
    "// node -e \"require('/Users/brian.cullinan/Documents/jupytangular2/Core').interpretAll('automate youearnedit').then(r=>r.runInNewContext()()).then(e=>{ console.log(e); process.exit(e); }).catch(e=>{console.log(e); process.exit(e) });\"\n"
   ]
  },
  {
   "cell_type": "code",
   "execution_count": null,
   "metadata": {},
   "outputs": [],
   "source": []
  }
 ],
 "metadata": {
  "kernelspec": {
   "display_name": "Javascript (Node.js)",
   "language": "javascript",
   "name": "javascript"
  },
  "language_info": {
   "file_extension": ".js",
   "mimetype": "application/javascript",
   "name": "javascript",
   "version": "7.7.2"
  }
 },
 "nbformat": 4,
 "nbformat_minor": 2
}
