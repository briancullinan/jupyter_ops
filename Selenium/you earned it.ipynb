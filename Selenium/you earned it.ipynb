{
 "cells": [
  {
   "cell_type": "markdown",
   "metadata": {},
   "source": [
    "high five people in YouEarnedIt?\n",
    "\n"
   ]
  },
  {
   "cell_type": "code",
   "execution_count": null,
   "metadata": {},
   "outputs": [],
   "source": [
    "var importer = require('../Core');\r",
    "\r",
    "var loginYouEarnedIt = () => {\r",
    "    var credentials = getCredentials('swiftpage.youearnedit.com');\r",
    "    return client\r",
    "        .click('input[name=\"user[login]\"]')\r",
    "        .keys(credentials.username)\r",
    "        .pause(1000)\r",
    "        .click('input[name=\"user[password]\"]')\r",
    "        .keys(credentials.password)\r",
    "        .pause(1000)\r",
    "        .submitForm('form[action]')\r",
    "        .pause(2000)\r",
    "}\r",
    "\r",
    "var doHighFive = (el) => {\r",
    "    return client.elementIdClick(el)\r",
    "        .pause(1000)\r",
    "        .isVisible('//div[contains(@class, \"button\")][contains(., \"Continue\")]')\r",
    "        .then(is => is\r",
    "            ? client.click('//div[contains(@class, \"button\")][contains(., \"Continue\")]')\r",
    "            : Promise.resolve([]))\r",
    "    // TODO: check for multiple dialog?\r",
    "}\r",
    "\r",
    "var highFive = () => {\r",
    "    return client.url('https://swiftpage.youearnedit.com/posts')\r",
    "        .pause(2000)\r",
    "        .isExisting('form[action*=\"sign_in\"]')\r",
    "        .then(is => is ? loginYouEarnedIt() : Promise.resolve([]))\r",
    "        .elements('//span[not(contains(@class, \"disabled\"))]/i[contains(@class, \"High-Five\")]')\r",
    "        .then(els => {\n",
    "            console.log(els);\r",
    "            return importer.runAllPromises(els.value\r",
    "                .map(el => resolve => doHighFive(el.ELEMENT)\r",
    "                    .then(() => resolve())\r",
    "                    .catch(e => {\r",
    "                        console.log(e);\r",
    "                        resolve();\r",
    "               \n",
    "            })));\r",
    "        })\n",
    "        .catch(e => console.log(e))\r",
    "    // TODO: repeat or just first page?\r",
    "};\r",
    "module.exports = highFive;\r",
    "highFive;\r",
    "\r"
   ]
  },
  {
   "cell_type": "markdown",
   "metadata": {},
   "source": [
    "automate YouEarnedIt?\n",
    "\n"
   ]
  },
  {
   "cell_type": "code",
   "execution_count": 1,
   "metadata": {},
   "outputs": [
    {
     "data": {
      "text/plain": [
       "[Function: runHighFiver]"
      ]
     },
     "execution_count": 1,
     "metadata": {},
     "output_type": "execute_result"
    }
   ],
   "source": [
    "var importer = require('../Core');\n",
    "var runSeleniumCell = importer.import('selenium cell');\n",
    "var runHighFiver = () => {\n",
    "    var highFive = runSeleniumCell('high five people youearnedit');\n",
    "    return highFive();\n",
    "};\n",
    "module.exports = runHighFiver;\n",
    "\n",
    "// node -e \"require('/Users/brian.cullinan/Documents/jupytangular2/Core').interpret('automate youearnedit').then(r=>r.runInNewContext()()).then(e=>{ console.log(e); process.exit(e); }).catch(e=>{console.log(e); process.exit(e) });\"\n"
   ]
  },
  {
   "cell_type": "code",
   "execution_count": null,
   "metadata": {},
   "outputs": [
    {
     "name": "stdout",
     "output_type": "stream",
     "text": [
      "Initializing webdriver on localhost\n",
      "[ '5723794c-a3f9-4b41-b2b5-deda1be7a75c' ]\n",
      "{ x: 4080, y: 1016 }\n",
      "{ state: 'success',\n",
      "  sessionId: '5723794c-a3f9-4b41-b2b5-deda1be7a75c',\n",
      "  hCode: 2083727235,\n",
      "  value: [],\n",
      "  class: 'org.openqa.selenium.remote.Response',\n",
      "  status: 0,\n",
      "  selector: '//span[not(contains(@class, \"disabled\"))]/i[contains(@class, \"High-Five\")]' }\n"
     ]
    }
   ],
   "source": [
    "$$.async()\n",
    "runHighFiver()\n",
    "    .then(r => $$.sendResult(r))\n",
    "    .catch(e => $$.sendError(e))"
   ]
  },
  {
   "cell_type": "code",
   "execution_count": null,
   "metadata": {},
   "outputs": [],
   "source": []
  }
 ],
 "metadata": {
  "kernelspec": {
   "display_name": "Javascript (Node.js)",
   "language": "javascript",
   "name": "javascript"
  },
  "language_info": {
   "file_extension": ".js",
   "mimetype": "application/javascript",
   "name": "javascript",
   "version": "8.8.1"
  }
 },
 "nbformat": 4,
 "nbformat_minor": 2
}
