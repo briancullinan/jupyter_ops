{
 "cells": [
  {
   "cell_type": "markdown",
   "metadata": {},
   "source": [
    "tile selenium chrome windows?\n",
    "\n"
   ]
  },
  {
   "cell_type": "code",
   "execution_count": null,
   "metadata": {},
   "outputs": [],
   "source": [
    "var importer = require('../Core');\n",
    "\n",
    "const rows = 3;\n",
    "const columns = 3;\n",
    "var screen;\n",
    "\n",
    "var openUrl = (url) => {\n",
    "    var id = Math.random().toString(36).substring(7);\n",
    "    return client.execute((url, id, width, height) => {\n",
    "            var a = document.createElement('a');\n",
    "            a.setAttribute('onclick', 'window.open(\"' + url + '\", \"\", \"width=' + width + ',height=' + height + '\")');\n",
    "            a.setAttribute('id', id);\n",
    "            a.href = url;\n",
    "            a.style.position = 'absolute';\n",
    "            a.style.zIndex = 4294967295;\n",
    "            a.style.top = 0;\n",
    "            a.style.left = 0;\n",
    "            a.style.bottom = 0;\n",
    "            a.style.right = 0;\n",
    "            document.body.appendChild(a);\n",
    "        }, url, id, Math.floor(screen.width / columns), Math.floor(screen.height / rows))\n",
    "        .click('a[id=\"' + id + '\"]')\n",
    "}\n",
    "\n",
    "var createNewWindows = (count, url) => {\n",
    "    var hwnd;\n",
    "    return client\n",
    "        .windowHandle()\n",
    "        .then(r => hwnd = r.value)\n",
    "        .then(() => {\n",
    "            const promises = [];\n",
    "            for(var i = 0; i < count; i++) {\n",
    "                promises.push((i => resolve => {\n",
    "                    const newPosition = {\n",
    "                        x: Math.floor(i % columns) * Math.floor(screen.width / columns),\n",
    "                        y: Math.floor(i / columns % rows) * Math.floor(screen.height / rows)\n",
    "                    };\n",
    "                    console.log(newPosition);\n",
    "                    return openUrl(url)\n",
    "                             .windowHandlePosition(newPosition)\n",
    "                             .then(() => resolve())\n",
    "                             .catch(e => { console.log(e); resolve() })\n",
    "                }).apply(this, [i + 1]));\n",
    "            }\n",
    "            return importer.runAllPromises(promises);\n",
    "        })\n",
    "        .catch(e => console.log(e))\n",
    "}\n",
    "\n",
    "var tileWindows = () => {\n",
    "    return client\n",
    "        .windowHandleMaximize()\n",
    "        .windowHandleSize()\n",
    "        .then(r => screen = r.value)\n",
    "        .windowHandles()\n",
    "        .then(h => {\n",
    "            const keep = h.value.pop();\n",
    "            var promises = [];\n",
    "            for(var i = 0; i < h.value.length; i++) {\n",
    "                promises.push((i => resolve => client\n",
    "                              .then(() => client.window(h.value[i]))\n",
    "                              .then(() => client.close())\n",
    "                              .then(() => resolve())\n",
    "                              .catch(e => resolve())).apply(this, [i]));\n",
    "            }\n",
    "            return importer.runAllPromises(promises)\n",
    "                .then(() => client.window(keep));\n",
    "        })\n",
    "        .then(() => client\n",
    "            .windowHandlePosition({x: 0, y: 0})\n",
    "            .windowHandleSize({\n",
    "                width: Math.floor(screen.width / columns),\n",
    "                height: Math.floor(screen.height / rows)\n",
    "            }))\n",
    "        .windowHandles()\n",
    "        .then(h => createNewWindows(9 - h.value.length, 'https://google.com'))\n",
    "        .pause(1000)\n",
    "        .windowHandles()\n",
    "        .catch(e => console.log(e))\n",
    "}\n",
    "module.exports = tileWindows;\n",
    "\n"
   ]
  },
  {
   "cell_type": "code",
   "execution_count": 17,
   "metadata": {},
   "outputs": [
    {
     "name": "stdout",
     "output_type": "stream",
     "text": [
      "Initializing webdriver on localhost\n",
      "{ x: 453, y: 0 }\n",
      "{ x: 906, y: 0 }\n",
      "{ x: 0, y: 324 }\n",
      "{ x: 453, y: 324 }\n",
      "{ x: 906, y: 324 }\n",
      "{ x: 0, y: 648 }\n",
      "{ x: 453, y: 648 }\n",
      "{ x: 906, y: 648 }\n"
     ]
    },
    {
     "data": {
      "text/plain": [
       "{ state: 'success',\n",
       "  sessionId: '7755a460-0458-42c8-a779-061137e7d58f',\n",
       "  hCode: 2121094882,\n",
       "  value: \n",
       "   [ 'CDwindow-a71cbd86-c03f-43d0-9cb8-79c5e1a4bb0c',\n",
       "     'CDwindow-daf56263-d910-4263-90ac-1a091f383ed3',\n",
       "     'CDwindow-fe5a15a3-1111-4483-90db-dc00aa88cbef',\n",
       "     'CDwindow-ec2a17ad-753d-4841-bd83-45dea6769f38',\n",
       "     'CDwindow-8aa2cde3-7686-448f-9037-7bd0c7c31dd2',\n",
       "     'CDwindow-a6a3f712-7a69-4a03-b2dc-a36aef452f5e',\n",
       "     'CDwindow-ee13f686-3e1b-4093-a276-f5ad33a84811',\n",
       "     'CDwindow-7ebd3790-3e4a-4392-91f8-a6c64e409f58',\n",
       "     'CDwindow-74d3d94d-b6c5-436b-bac8-d69c522ac89a' ],\n",
       "  class: 'org.openqa.selenium.remote.Response',\n",
       "  status: 0 }"
      ]
     },
     "execution_count": 17,
     "metadata": {},
     "output_type": "execute_result"
    }
   ],
   "source": [
    "var importer = require('../Core');\n",
    "\n",
    "$$.async();\n",
    "importer.import('selenium cell')\n",
    "    .then(runSeleniumCell => runSeleniumCell('tile chrome windows'))\n",
    "    .then(tileWindows => tileWindows())\n",
    "    .then(r => $$.sendResult(r))\n",
    "    .catch(e => $$.sendError(e))\n",
    "\n"
   ]
  },
  {
   "cell_type": "code",
   "execution_count": null,
   "metadata": {},
   "outputs": [],
   "source": []
  }
 ],
 "metadata": {
  "kernelspec": {
   "display_name": "Javascript (Node.js)",
   "language": "javascript",
   "name": "javascript"
  },
  "language_info": {
   "file_extension": ".js",
   "mimetype": "application/javascript",
   "name": "javascript",
   "version": "8.8.1"
  }
 },
 "nbformat": 4,
 "nbformat_minor": 2
}
