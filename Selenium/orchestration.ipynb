{
 "cells": [
  {
   "cell_type": "markdown",
   "metadata": {},
   "source": [
    "resize selenium window?"
   ]
  },
  {
   "cell_type": "code",
   "execution_count": null,
   "metadata": {},
   "outputs": [],
   "source": [
    "\n",
    "var rows = 6;\n",
    "var columns = 6;\n",
    "var screen = {\n",
    "    height: 1024 * 6,\n",
    "    width: 1350 * 6\n",
    "};\n",
    "\n",
    "function getScreenSize() {\n",
    "    return client\n",
    "        .windowHandle()\n",
    "        .then(r => client.windowHandleMaximize(r.value))\n",
    "        .catch(e => {})\n",
    "        .windowHandleSize()\n",
    "        .then(r => (screen = r.value))\n",
    "        .catch(e => console.log(e))\n",
    "}\n",
    "\n",
    "function resizeWindow(i = 0) {\n",
    "    i = Math.abs(i + (typeof OFFSET !== 'undefined' ? OFFSET : 0));\n",
    "    var hwnd;\n",
    "    return client\n",
    "        .windowHandle()\n",
    "        .then(r => client.window((hwnd = r.value)))\n",
    "        .then(() => typeof screen === 'undefined' ? getScreenSize() : screen)\n",
    "        .catch(e => console.log(e))\n",
    "        .then(screen => {\n",
    "            const newPosition = {\n",
    "                x: Math.floor(i % columns)\n",
    "                    * Math.floor(screen.width / columns),\n",
    "                y: Math.floor(i / columns % rows)\n",
    "                    * Math.floor(screen.height / rows)\n",
    "            };\n",
    "            console.log(newPosition);\n",
    "            return client.windowHandlePosition(hwnd, newPosition)\n",
    "        })\n",
    "        .catch(e => console.log(e))\n",
    "        .then(() => client.windowHandleSize(hwnd, {\n",
    "            width: Math.floor(screen.width / columns),\n",
    "            height: Math.floor(screen.height / rows)\n",
    "        }))\n",
    "        .catch(e => console.log(e))\n",
    "}\n",
    "\n",
    "if(typeof client.resizeWindow === 'undefined') {\n",
    "    client.addCommand('resizeWindow', resizeWindow);\n",
    "}\n",
    "module.exports = resizeWindow;\n"
   ]
  },
  {
   "cell_type": "markdown",
   "metadata": {},
   "source": [
    "only one window?\n",
    "\n"
   ]
  },
  {
   "cell_type": "code",
   "execution_count": null,
   "metadata": {},
   "outputs": [],
   "source": [
    "var importer = require('../Core');\n",
    "\n",
    "function closeAllTabs(keep) {\n",
    "    return client\n",
    "        .getTabIds()\n",
    "        .then(h => {\n",
    "            var promises = [];\n",
    "            for(var i = 0; i < h.length; i++) {\n",
    "                if(h[i] === keep) {\n",
    "                    continue;\n",
    "                }\n",
    "                promises.push((i => resolve => client\n",
    "                              .switchTab(h[i])\n",
    "                              .close()\n",
    "                              .then(() => resolve())\n",
    "                              .catch(e => resolve()))\n",
    "                              .apply(this, [i]));\n",
    "            }\n",
    "            return importer.runAllPromises(promises);\n",
    "        })\n",
    "        .catch(e => console.log(e))\n",
    "}\n",
    "\n",
    "function closeAllWindows(keep) {\n",
    "    return client\n",
    "        .windowHandles()\n",
    "        .then(h => {\n",
    "            var promises = [];\n",
    "            for(var i = 0; i < h.value.length; i++) {\n",
    "                if(h.value[i] === keep) {\n",
    "                    continue;\n",
    "                }\n",
    "                promises.push((i => resolve => client\n",
    "                              .window(h.value[i])\n",
    "                              .close()\n",
    "                              .then(() => resolve())\n",
    "                              .catch(e => resolve()))\n",
    "                              .apply(this, [i]));\n",
    "            }\n",
    "            return importer.runAllPromises(promises);\n",
    "        })\n",
    "        .window(keep)\n",
    "        .catch(e => console.log(e))\n",
    "}\n",
    "\n",
    "function onlyOneWindow() {\n",
    "    return client\n",
    "        .newWindow('https://google.com')\n",
    "        .windowHandle()\n",
    "        .then(r => closeAllWindows(r.value))\n",
    "        .getCurrentTabId()\n",
    "        .then(r => closeAllTabs(r))\n",
    "        .catch(e => console.log(e))\n",
    "    // TODO: close all tabs\n",
    "}\n",
    "\n",
    "module.exports = onlyOneWindow;\n",
    "\n"
   ]
  },
  {
   "cell_type": "markdown",
   "metadata": {},
   "source": [
    "tile selenium chrome windows?\n",
    "\n"
   ]
  },
  {
   "cell_type": "code",
   "execution_count": null,
   "metadata": {},
   "outputs": [],
   "source": [
    "var importer = require('../Core');\n",
    "var {getAllSessionUrls} = importer.import(['resize selenium window', 'get all session urls'], {client})\n",
    "\n",
    "function openUrl(url) {\n",
    "    var handles;\n",
    "    return client\n",
    "        .windowHandles()\n",
    "        .then(h => handles = h.value)\n",
    "        .execute((url, width, height) => {\n",
    "            window.open(url, '', 'width=1350,height=1024');\n",
    "        }, url)\n",
    "        .windowHandles()\n",
    "        .then(h => h.value.filter(hwnd => handles.indexOf(hwnd) === -1)[0])\n",
    "        .catch(e => console.log(e))\n",
    "}\n",
    "\n",
    "function createNewWindows(urls) {\n",
    "    var hwnd;\n",
    "    return client\n",
    "        .windowHandle()\n",
    "        .then(r => hwnd = r.value)\n",
    "        .windowHandles()\n",
    "        .then(r => {\n",
    "            // -1 first window is already used by sliced url\n",
    "            const count = urls.length - (r.value.length - 1);\n",
    "            const promises = [];\n",
    "            for(var i = 0; i < count; i++) {\n",
    "                promises.push((i => resolve => {\n",
    "                    console.log(urls[i]);\n",
    "                    return openUrl(urls[i])\n",
    "                        .window(hwnd)\n",
    "                        .then(h => resolve(h))\n",
    "                        .catch(e => { console.log(e); resolve() })\n",
    "                }).apply(this, [i]));\n",
    "            }\n",
    "            return importer.runAllPromises(promises);\n",
    "        })\n",
    "        .catch(e => console.log(e))\n",
    "}\n",
    "\n",
    "function tileWindows(urls) {\n",
    "    return client\n",
    "        .resizeWindow(0)\n",
    "        .url(typeof urls === 'string' ? urls : urls[0])\n",
    "        .then(h => typeof urls === 'string' ? [] : createNewWindows(urls.slice(1)))\n",
    "        .then(() => getAllSessionUrls())\n",
    "        .windowHandles()\n",
    "        .then(r => r.value)\n",
    "        .catch(e => console.log(e))\n",
    "}\n",
    "module.exports = tileWindows;\n",
    "\n"
   ]
  },
  {
   "cell_type": "code",
   "execution_count": null,
   "metadata": {},
   "outputs": [],
   "source": [
    "var importer = require('../Core');\n",
    "var runSeleniumCell = importer.import('selenium cell');\n",
    "\n",
    "var query = 'list of search engines';\n",
    "\n",
    "$$.async();\n",
    "// get multiple sets of 9 working for single page scraping in parallel\n",
    "runSeleniumCell('tile chrome windows')\n",
    "    .then(tileWindows => tileWindows([\n",
    "        'https://www.google.com/search?q=' + query,\n",
    "        'https://www.bing.com/search?q=' + query,\n",
    "        'https://search.yahoo.com/search?p=' + query,\n",
    "        'https://www.ask.com/web?q=' + query,\n",
    "        'https://search.aol.com/aol/search?q=' + query,\n",
    "        'https://www.baidu.com/s?wd=' + query,\n",
    "        'https://www.wolframalpha.com/input/?i=' + query,\n",
    "        'https://duckduckgo.com/?q=' + query,\n",
    "        'https://archive.org/search.php?query=' + query,\n",
    "    ]))\n",
    "    .then(r => $$.sendResult(r))\n",
    "    .catch(e => $$.sendError(e))\n",
    "\n"
   ]
  },
  {
   "cell_type": "markdown",
   "metadata": {},
   "source": [
    "get all session and window urls?\n",
    "\n"
   ]
  },
  {
   "cell_type": "code",
   "execution_count": null,
   "metadata": {},
   "outputs": [],
   "source": [
    "var importer = require('../Core');\n",
    "\n",
    "function getAllSessionUrls(reposition = true) {\n",
    "    var windowCounter = -1;\n",
    "    var session = client.requestHandler.sessionID;\n",
    "    return client\n",
    "        .getActiveSessions()\n",
    "        .then(r => {\n",
    "            console.log(r);\n",
    "            return importer.runAllPromises(r.map(s => resolve => {\n",
    "                client.requestHandler.sessionID = s;\n",
    "                return client\n",
    "                    .getUrl()\n",
    "                    .windowHandles()\n",
    "                    .then(h => importer.runAllPromises(h.value.map(hwnd => resolve => {\n",
    "                        windowCounter++\n",
    "                        return client\n",
    "                            .window(hwnd)\n",
    "                            .then(() => reposition ? resizeWindow(windowCounter) : [])\n",
    "                            .getUrl()\n",
    "                            .then(r => resolve(r))\n",
    "                            .catch(e => console.log(e))\n",
    "                    })))\n",
    "                    .then(r => resolve(r))\n",
    "                    .catch(e => console.log(e))\n",
    "            }))\n",
    "        })\n",
    "        .then(r => {\n",
    "            client.requestHandler.sessionID = session;\n",
    "            return r;\n",
    "        })\n",
    "        .catch(e => console.log(e))\n",
    "}\n",
    "\n",
    "module.exports = getAllSessionUrls;\n"
   ]
  },
  {
   "cell_type": "code",
   "execution_count": null,
   "metadata": {},
   "outputs": [],
   "source": [
    "var importer = require('../Core');\n",
    "var runSeleniumCell = importer.import('selenium cell');\n",
    "\n",
    "$$.async();\n",
    "runSeleniumCell(['resize selenium window', 'get all session urls'], false)\n",
    "    .then(r => r.getAllSessionUrls(false))\n",
    "    .then(r => $$.sendResult(r))\n",
    "    .catch(e => $$.sendError(e))\n"
   ]
  },
  {
   "cell_type": "markdown",
   "metadata": {},
   "source": [
    "send a joke?"
   ]
  },
  {
   "cell_type": "code",
   "execution_count": null,
   "metadata": {},
   "outputs": [],
   "source": [
    "var util = require('util');\n",
    "var request = util.promisify(require('request'));\n",
    "\n",
    "function regexToArray(ex, str, i = 0) {\n",
    "    var co = []; var m;\n",
    "    while ((m = ex.exec(str)) && co.push(m[i]));\n",
    "    return co;\n",
    "}\n",
    "\n",
    "var jokes;\n",
    "function getJoke() {\n",
    "    return (typeof jokes === 'undefined'\n",
    "        ? request('http://www.ducksters.com/jokes/silly.php')\n",
    "        .then(res => regexToArray(/^.*?Q:.*$|^.*?A:.*$/igm, res.body))\n",
    "        .then(r => {\n",
    "            r = r.reduce((arr, j, i) => {\n",
    "                if(i % 2 === 1) {\n",
    "                    arr.push([\n",
    "                        r[i-1].replace(/<.*?\\s*\\/?>/ig, '').trim().replace(/^\\s*|\\s*$/igm, ''),\n",
    "                        j.replace(/<.*?\\s*\\/?>/ig, '').trim().replace(/^\\s*|\\s*$/igm, '')\n",
    "                    ]);\n",
    "                }\n",
    "                return arr;\n",
    "            }, []);\n",
    "            console.log(r);\n",
    "            jokes = r;\n",
    "            return r;\n",
    "        })\n",
    "        : Promise.resolve(jokes))\n",
    "        .then(arr => {\n",
    "            const i = Math.round(Math.random() * arr.length);\n",
    "            return arr[i];\n",
    "        })\n",
    "}\n",
    "\n",
    "function sendJoke(hwnd) {\n",
    "    var joke;\n",
    "    return client\n",
    "        .then(() => getJoke())\n",
    "        .then(r => joke = r)\n",
    "        .window(hwnd)\n",
    "        .then(() => sendFacebookMessage(joke[0]))\n",
    "        .pause(20000)\n",
    "        .then(() => sendFacebookMessage(joke[1]))\n",
    "}\n",
    "module.exports = sendJoke;\n"
   ]
  },
  {
   "cell_type": "markdown",
   "metadata": {},
   "source": [
    "send facebook thanks?\n",
    "\n"
   ]
  },
  {
   "cell_type": "code",
   "execution_count": null,
   "metadata": {},
   "outputs": [],
   "source": [
    "function sendFacebookThanks(friend, hwnd) {\n",
    "    return client\n",
    "        .window(hwnd)\n",
    "        .clickSpa(friend)\n",
    "        .then(() => readFacebookThread(friend))\n",
    "        .then(r => {\n",
    "            const thanks = r.messages.filter(m => m.message.indexOf('dream') > -1);\n",
    "            console.log(thanks);\n",
    "            return thanks.length === 0\n",
    "              ? sendFacebookMessage('Are you living the dream?')\n",
    "              : []\n",
    "        })\n",
    "        .catch(e => console.log(e))\n",
    "}\n",
    "module.exports = sendFacebookThanks;\n"
   ]
  },
  {
   "cell_type": "markdown",
   "metadata": {},
   "source": [
    "Monitor many chats at once and continuously\n"
   ]
  },
  {
   "cell_type": "code",
   "execution_count": 1,
   "metadata": {},
   "outputs": [
    {
     "name": "stdout",
     "output_type": "stream",
     "text": [
      "Initializing webdriver on localhost\n",
      "[ 1511490270918, 'd77ac22595709c9c2a6c2416c7f5104b' ]\n",
      "\u001b[1;30m[19:44:20] \u001b[0m \u001b[0;35mCOMMAND\t\u001b[0mGET \t \"/wd/hub/session/d77ac22595709c9c2a6c2416c7f5104b/window_handle\"\n",
      "[ 1511490270932, '5624251d09d72eefedfa6a2ea7c2c976' ]\n",
      "\u001b[1;30m[19:44:20] \u001b[0m \u001b[0;35mCOMMAND\t\u001b[0mGET \t \"/wd/hub/session/5624251d09d72eefedfa6a2ea7c2c976/window_handle\"\n",
      "[ 1511490270939, 'cc96bbbaf209cfdc18f545ac3df9f684' ]\n",
      "\u001b[1;30m[19:44:20] \u001b[0m \u001b[0;35mCOMMAND\t\u001b[0mGET \t \"/wd/hub/session/cc96bbbaf209cfdc18f545ac3df9f684/window_handle\"\n",
      "[ 1511490270946, 'ec2eca85b6fa3331aa4d685bb091fd7b' ]\n",
      "\u001b[1;30m[19:44:20] \u001b[0m \u001b[0;35mCOMMAND\t\u001b[0mGET \t \"/wd/hub/session/ec2eca85b6fa3331aa4d685bb091fd7b/window_handle\"\n",
      "[ 1511490270953, 'dbb9e06fe8f730700176ca754dc8175d' ]\n",
      "\u001b[1;30m[19:44:20] \u001b[0m \u001b[0;35mCOMMAND\t\u001b[0mGET \t \"/wd/hub/session/dbb9e06fe8f730700176ca754dc8175d/window_handle\"\n",
      "[ 1511491132315, 'd729d8d4e56c7082da83206b0b79d84f' ]\n",
      "\u001b[1;30m[19:44:20] \u001b[0m \u001b[0;35mCOMMAND\t\u001b[0mGET \t \"/wd/hub/session/d729d8d4e56c7082da83206b0b79d84f/window_handle\"\n",
      "\u001b[1;30m[19:44:20] \u001b[0m \u001b[0;35mCOMMAND\t\u001b[0mPOST \t \"/wd/hub/session/d729d8d4e56c7082da83206b0b79d84f/window\"\n",
      "\u001b[1;30m[19:44:20] \u001b[0m \u001b[0;35mCOMMAND\t\u001b[0mGET \t \"/wd/hub/session/d729d8d4e56c7082da83206b0b79d84f\"\n",
      "[ 'd729d8d4e56c7082da83206b0b79d84f' ]\n",
      "\u001b[1;30m[19:44:20] \u001b[0m \u001b[0;35mCOMMAND\t\u001b[0mGET \t \"/wd/hub/session/d729d8d4e56c7082da83206b0b79d84f\"\n",
      "d729d8d4e56c7082da83206b0b79d84f\n",
      "\u001b[1;30m[19:44:20] \u001b[0m \u001b[0;35mCOMMAND\t\u001b[0mGET \t \"/wd/hub/session/d729d8d4e56c7082da83206b0b79d84f/window_handle\"\n",
      "\u001b[1;30m[19:44:20] \u001b[0m \u001b[0;35mCOMMAND\t\u001b[0mPOST \t \"/wd/hub/session/d729d8d4e56c7082da83206b0b79d84f/window\"\n",
      "\u001b[1;30m[19:44:20] \u001b[0m \u001b[0;35mCOMMAND\t\u001b[0mGET \t \"/wd/hub/session/d729d8d4e56c7082da83206b0b79d84f\"\n",
      "\u001b[1;30m[19:44:20] \u001b[0m \u001b[0;35mCOMMAND\t\u001b[0mGET \t \"/wd/hub/session/dbb9e06fe8f730700176ca754dc8175d/window_handle\"\n",
      "\u001b[1;30m[19:44:20] \u001b[0m \u001b[0;35mCOMMAND\t\u001b[0mGET \t \"/wd/hub/session/ec2eca85b6fa3331aa4d685bb091fd7b/window_handle\"\n",
      "\u001b[1;30m[19:44:20] \u001b[0m \u001b[0;35mCOMMAND\t\u001b[0mGET \t \"/wd/hub/session/cc96bbbaf209cfdc18f545ac3df9f684/window_handle\"\n",
      "\u001b[1;30m[19:44:20] \u001b[0m \u001b[0;35mCOMMAND\t\u001b[0mGET \t \"/wd/hub/session/5624251d09d72eefedfa6a2ea7c2c976/window_handle\"\n",
      "\u001b[1;30m[19:44:20] \u001b[0m \u001b[0;35mCOMMAND\t\u001b[0mGET \t \"/wd/hub/session/d77ac22595709c9c2a6c2416c7f5104b/window_handle\"\n",
      "\u001b[1;30m[19:44:20] \u001b[0m \u001b[0;35mCOMMAND\t\u001b[0mPOST \t \"/wd/hub/session/d729d8d4e56c7082da83206b0b79d84f/execute\"\n",
      "\u001b[1;30m[19:44:21] \u001b[0m \u001b[0;35mCOMMAND\t\u001b[0mGET \t \"/wd/hub/session/d729d8d4e56c7082da83206b0b79d84f/window_handles\"\n",
      "\u001b[1;30m[19:44:21] \u001b[0m \u001b[0;35mCOMMAND\t\u001b[0mPOST \t \"/wd/hub/session/d729d8d4e56c7082da83206b0b79d84f/window\"\n",
      "\u001b[1;30m[19:44:21] \u001b[0m \u001b[0;35mCOMMAND\t\u001b[0mGET \t \"/wd/hub/session/d729d8d4e56c7082da83206b0b79d84f/window_handle\"\n",
      "\u001b[1;30m[19:44:21] \u001b[0m \u001b[0;35mCOMMAND\t\u001b[0mGET \t \"/wd/hub/session/d729d8d4e56c7082da83206b0b79d84f/window_handles\"\n",
      "\u001b[1;30m[19:44:21] \u001b[0m \u001b[0;35mCOMMAND\t\u001b[0mPOST \t \"/wd/hub/session/d729d8d4e56c7082da83206b0b79d84f/window\"\n",
      "\u001b[1;30m[19:44:21] \u001b[0m \u001b[0;35mCOMMAND\t\u001b[0mGET \t \"/wd/hub/session/d729d8d4e56c7082da83206b0b79d84f/window_handles\"\n",
      "\u001b[1;30m[19:44:21] \u001b[0m \u001b[0;35mCOMMAND\t\u001b[0mDELETE \t \"/wd/hub/session/d729d8d4e56c7082da83206b0b79d84f/window\"\n",
      "\u001b[1;30m[19:44:21] \u001b[0m \u001b[0;35mCOMMAND\t\u001b[0mPOST \t \"/wd/hub/session/d729d8d4e56c7082da83206b0b79d84f/window\"\n",
      "\u001b[1;30m[19:44:21] \u001b[0m \u001b[0;35mCOMMAND\t\u001b[0mPOST \t \"/wd/hub/session/d729d8d4e56c7082da83206b0b79d84f/window\"\n",
      "\u001b[1;30m[19:44:21] \u001b[0m \u001b[0;35mCOMMAND\t\u001b[0mGET \t \"/wd/hub/session/d729d8d4e56c7082da83206b0b79d84f/window_handles\"\n",
      "\u001b[1;30m[19:44:21] \u001b[0m \u001b[0;35mCOMMAND\t\u001b[0mDELETE \t \"/wd/hub/session/d729d8d4e56c7082da83206b0b79d84f/window\"\n",
      "\u001b[1;30m[19:44:23] \u001b[0m \u001b[0;35mCOMMAND\t\u001b[0mPOST \t \"/wd/hub/session/d729d8d4e56c7082da83206b0b79d84f/window\"\n",
      "\u001b[1;30m[19:44:23] \u001b[0m \u001b[0;35mCOMMAND\t\u001b[0mPOST \t \"/wd/hub/session/d729d8d4e56c7082da83206b0b79d84f/window\"\n",
      "\u001b[1;30m[19:44:23] \u001b[0m \u001b[0;35mCOMMAND\t\u001b[0mGET \t \"/wd/hub/session/d729d8d4e56c7082da83206b0b79d84f/window_handles\"\n",
      "\u001b[1;30m[19:44:23] \u001b[0m \u001b[0;35mCOMMAND\t\u001b[0mDELETE \t \"/wd/hub/session/d729d8d4e56c7082da83206b0b79d84f/window\"\n",
      "\u001b[1;30m[19:44:24] \u001b[0m \u001b[0;35mCOMMAND\t\u001b[0mPOST \t \"/wd/hub/session/d729d8d4e56c7082da83206b0b79d84f/window\"\n",
      "\u001b[1;30m[19:44:24] \u001b[0m \u001b[0;35mCOMMAND\t\u001b[0mPOST \t \"/wd/hub/session/d729d8d4e56c7082da83206b0b79d84f/window\"\n",
      "\u001b[1;30m[19:44:24] \u001b[0m \u001b[0;35mCOMMAND\t\u001b[0mGET \t \"/wd/hub/session/d729d8d4e56c7082da83206b0b79d84f/window_handle\"\n",
      "\u001b[1;30m[19:44:24] \u001b[0m \u001b[0;35mCOMMAND\t\u001b[0mGET \t \"/wd/hub/session/d729d8d4e56c7082da83206b0b79d84f/window_handles\"\n",
      "\u001b[1;30m[19:44:24] \u001b[0m \u001b[0;35mCOMMAND\t\u001b[0mGET \t \"/wd/hub/session/d729d8d4e56c7082da83206b0b79d84f/window_handle\"\n",
      "\u001b[1;30m[19:44:24] \u001b[0m \u001b[0;35mCOMMAND\t\u001b[0mPOST \t \"/wd/hub/session/d729d8d4e56c7082da83206b0b79d84f/window\"\n",
      "\u001b[1;30m[19:44:24] \u001b[0m \u001b[0;35mCOMMAND\t\u001b[0mGET \t \"/wd/hub/session/d729d8d4e56c7082da83206b0b79d84f\"\n",
      "\u001b[1;30m[19:44:24] \u001b[0m \u001b[0;35mCOMMAND\t\u001b[0mGET \t \"/wd/hub/session/dbb9e06fe8f730700176ca754dc8175d/window_handle\"\n",
      "\u001b[1;30m[19:44:24] \u001b[0m \u001b[0;35mCOMMAND\t\u001b[0mGET \t \"/wd/hub/session/ec2eca85b6fa3331aa4d685bb091fd7b/window_handle\"\n",
      "\u001b[1;30m[19:44:24] \u001b[0m \u001b[0;35mCOMMAND\t\u001b[0mGET \t \"/wd/hub/session/cc96bbbaf209cfdc18f545ac3df9f684/window_handle\"\n",
      "\u001b[1;30m[19:44:24] \u001b[0m \u001b[0;35mCOMMAND\t\u001b[0mGET \t \"/wd/hub/session/5624251d09d72eefedfa6a2ea7c2c976/window_handle\"\n",
      "\u001b[1;30m[19:44:24] \u001b[0m \u001b[0;35mCOMMAND\t\u001b[0mGET \t \"/wd/hub/session/d77ac22595709c9c2a6c2416c7f5104b/window_handle\"\n",
      "[ 'd729d8d4e56c7082da83206b0b79d84f' ]\n",
      "\u001b[1;30m[19:44:24] \u001b[0m \u001b[0;35mCOMMAND\t\u001b[0mGET \t \"/wd/hub/session/d729d8d4e56c7082da83206b0b79d84f/url\"\n",
      "\u001b[1;30m[19:44:24] \u001b[0m \u001b[0;35mCOMMAND\t\u001b[0mGET \t \"/wd/hub/session/d729d8d4e56c7082da83206b0b79d84f/window_handles\"\n",
      "\u001b[1;30m[19:44:24] \u001b[0m \u001b[0;35mCOMMAND\t\u001b[0mPOST \t \"/wd/hub/session/d729d8d4e56c7082da83206b0b79d84f/window\"\n",
      "\u001b[1;30m[19:44:24] \u001b[0m \u001b[0;35mCOMMAND\t\u001b[0mGET \t \"/wd/hub/session/d729d8d4e56c7082da83206b0b79d84f/window_handle\"\n",
      "\u001b[1;30m[19:44:24] \u001b[0m \u001b[0;35mCOMMAND\t\u001b[0mPOST \t \"/wd/hub/session/d729d8d4e56c7082da83206b0b79d84f/window\"\n",
      "{ x: 0, y: 0 }\n",
      "\u001b[1;30m[19:44:24] \u001b[0m \u001b[0;35mCOMMAND\t\u001b[0mPOST \t \"/wd/hub/session/d729d8d4e56c7082da83206b0b79d84f/window/CDwindow-f894bab7-5d03-4ed2-a63a-754b123864fa/position\"\n",
      "\u001b[1;30m[19:44:24] \u001b[0m \u001b[0;35mCOMMAND\t\u001b[0mPOST \t \"/wd/hub/session/d729d8d4e56c7082da83206b0b79d84f/window/CDwindow-f894bab7-5d03-4ed2-a63a-754b123864fa/size\"\n",
      "\u001b[1;30m[19:44:24] \u001b[0m \u001b[0;35mCOMMAND\t\u001b[0mGET \t \"/wd/hub/session/d729d8d4e56c7082da83206b0b79d84f/url\"\n",
      "\u001b[1;30m[19:44:25] \u001b[0m \u001b[0;35mCOMMAND\t\u001b[0mGET \t \"/wd/hub/session/d729d8d4e56c7082da83206b0b79d84f/url\"\n",
      "\u001b[1;30m[19:44:25] \u001b[0m \u001b[0;35mCOMMAND\t\u001b[0mPOST \t \"/wd/hub/session/d729d8d4e56c7082da83206b0b79d84f/url\"\n",
      "\u001b[1;30m[19:44:28] \u001b[0m \u001b[0;35mCOMMAND\t\u001b[0mPOST \t \"/wd/hub/session/d729d8d4e56c7082da83206b0b79d84f/elements\"\n",
      "\u001b[1;30m[19:44:29] \u001b[0m \u001b[0;35mCOMMAND\t\u001b[0mGET \t \"/wd/hub/session/d729d8d4e56c7082da83206b0b79d84f/url\"\n",
      "\u001b[1;30m[19:44:29] \u001b[0m \u001b[0;35mCOMMAND\t\u001b[0mPOST \t \"/wd/hub/session/d729d8d4e56c7082da83206b0b79d84f/element\"\n",
      "\u001b[1;30m[19:44:29] \u001b[0m \u001b[0;35mCOMMAND\t\u001b[0mPOST \t \"/wd/hub/session/d729d8d4e56c7082da83206b0b79d84f/element/0.029655466440685174-1/click\"\n",
      "\u001b[1;30m[19:44:29] \u001b[0m \u001b[0;35mCOMMAND\t\u001b[0mPOST \t \"/wd/hub/session/d729d8d4e56c7082da83206b0b79d84f/element\"\n",
      "\u001b[1;30m[19:44:29] \u001b[0m \u001b[0;35mCOMMAND\t\u001b[0mPOST \t \"/wd/hub/session/d729d8d4e56c7082da83206b0b79d84f/element/0.029655466440685174-2/click\"\n",
      "\u001b[1;30m[19:44:32] \u001b[0m \u001b[0;35mCOMMAND\t\u001b[0mPOST \t \"/wd/hub/session/d729d8d4e56c7082da83206b0b79d84f/execute\"\n",
      "\u001b[1;30m[19:44:32] \u001b[0m \u001b[0;35mCOMMAND\t\u001b[0mPOST \t \"/wd/hub/session/d729d8d4e56c7082da83206b0b79d84f/url\"\n",
      "\u001b[1;30m[19:44:34] \u001b[0m \u001b[0;35mCOMMAND\t\u001b[0mPOST \t \"/wd/hub/session/d729d8d4e56c7082da83206b0b79d84f/element\"\n",
      "\u001b[1;30m[19:44:35] \u001b[0m \u001b[0;35mCOMMAND\t\u001b[0mPOST \t \"/wd/hub/session/d729d8d4e56c7082da83206b0b79d84f/element/0.39633312581028934-1/click\"\n",
      "\u001b[1;30m[19:44:37] \u001b[0m \u001b[0;35mCOMMAND\t\u001b[0mPOST \t \"/wd/hub/session/d729d8d4e56c7082da83206b0b79d84f/execute\"\n",
      "[ 'https://www.facebook.com/messages/t/jennifer.sanders.personal',\n",
      "  'https://www.facebook.com/messages/archived/t/jennifer.sanders.personal',\n",
      "  'https://www.facebook.com/messages/t/freda.brunat.9',\n",
      "  'https://www.facebook.com/messages/t/100012174336461',\n",
      "  'https://www.facebook.com/messages/t/chaching.bosanko.1',\n",
      "  'https://www.facebook.com/messages/t/aworrah',\n",
      "  'https://www.facebook.com/messages/t/simona.dillanjonesbalandra.5',\n",
      "  'https://www.facebook.com/messages/t/100022598510923',\n",
      "  'https://www.facebook.com/messages/t/melancholy.montechiare.7',\n",
      "  'https://www.facebook.com/messages/t/dejon.norrie.1',\n",
      "  'https://www.facebook.com/messages/t/amanda.milner.92',\n",
      "  'https://www.facebook.com/messages/t/100015057647919',\n",
      "  'https://www.facebook.com/messages/t/DezzieMonzter',\n",
      "  'https://www.facebook.com/messages/t/tenderastanislaw',\n",
      "  'https://www.facebook.com/messages/t/armando.moreno.90',\n",
      "  'https://www.facebook.com/messages/t/BrianDaviesJones',\n",
      "  'https://www.facebook.com/messages/t/kmilner.okc2boston',\n",
      "  'https://www.facebook.com/messages/t/Ross.Sephton',\n",
      "  'https://www.facebook.com/messages/t/wellsfargo',\n",
      "  'https://www.facebook.com/messages/t/rwoodall',\n",
      "  'https://www.facebook.com/messages/t/mukul.schwarze.7',\n",
      "  'https://www.facebook.com/messages/t/mynameisjane',\n",
      "  'https://www.facebook.com/messages/t/PulseQandA',\n",
      "  'https://www.facebook.com/messages/t/1878696082145274',\n",
      "  'https://www.facebook.com/messages/t/john.c.hill3',\n",
      "  'https://www.facebook.com/messages/t/763580561',\n",
      "  'https://www.facebook.com/messages/t/katie.gilbert.52643',\n",
      "  'https://www.facebook.com/messages/t/annalee.masters',\n",
      "  'https://www.facebook.com/messages/t/diana.m.wood.5',\n",
      "  'https://www.facebook.com/messages/t/gemma.tenedero.1',\n",
      "  'https://www.facebook.com/messages/t/thobeka.ndlovu.75286',\n",
      "  'https://www.facebook.com/messages/t/jeff.coffman.92',\n",
      "  'https://www.facebook.com/messages/t/railhunk',\n",
      "  'https://www.facebook.com/messages/t/scott.johnson.31149359',\n",
      "  'https://www.facebook.com/messages/t/andreas.stylianou.98',\n",
      "  'https://www.facebook.com/messages/t/Lloydster4',\n",
      "  'https://www.facebook.com/messages/t/tintin.katy512',\n",
      "  'https://www.facebook.com/messages/t/StevenLockhart123',\n",
      "  'https://www.facebook.com/messages/t/lidia.ws.7',\n",
      "  'https://www.facebook.com/messages/t/vitali.kaush',\n",
      "  'https://www.facebook.com/messages/t/sonu.karve.94',\n",
      "  'https://www.facebook.com/messages/t/jsims730',\n",
      "  'https://www.facebook.com/messages/t/borikoni',\n",
      "  'https://www.facebook.com/messages/t/brian.harris.01',\n",
      "  'https://www.facebook.com/messages/t/jennifer.reaves.58',\n",
      "  'https://www.facebook.com/messages/t/stephanie.desertgirl',\n",
      "  'https://www.facebook.com/messages/t/joanna.street24',\n",
      "  'https://www.facebook.com/messages/t/FJoeAZ',\n",
      "  'https://www.facebook.com/messages/t/Jakebot12',\n",
      "  'https://www.facebook.com/messages/t/carisa.knight6000',\n",
      "  'https://www.facebook.com/messages/t/april.knapp.13',\n",
      "  'https://www.facebook.com/messages/t/frederick.murphy.56',\n",
      "  'https://www.facebook.com/messages/t/100008264283932',\n",
      "  'https://www.facebook.com/messages/t/mietusmm',\n",
      "  'https://www.facebook.com/messages/t/ania.kaush',\n",
      "  'https://www.facebook.com/messages/t/talbert.tso',\n",
      "  'https://www.facebook.com/messages/t/callie.m.cullinan',\n",
      "  'https://www.facebook.com/messages/t/JesusAndTheAngels',\n",
      "  'https://www.facebook.com/messages/t/tblondi',\n",
      "  'https://www.facebook.com/messages/t/julie.davis.792',\n",
      "  'https://www.facebook.com/messages/t/chris.paschall.37',\n",
      "  'https://www.facebook.com/messages/t/enzo.armetta',\n",
      "  'https://www.facebook.com/messages/t/benjamin.maynard.9',\n",
      "  'https://www.facebook.com/messages/t/john.kaniecki.3',\n",
      "  'https://www.facebook.com/messages/t/nathaniel.ellingson.3',\n",
      "  'https://www.facebook.com/messages/t/katie.hiro',\n",
      "  'https://www.facebook.com/messages/t/brian.daviesjones.3',\n",
      "  'https://www.facebook.com/messages/t/100015169534875',\n",
      "  'https://www.facebook.com/messages/t/cindy.huelskampjudy',\n",
      "  'https://www.facebook.com/messages/t/caudill.619',\n",
      "  'https://www.facebook.com/messages/t/suzi.abramsonjohnson',\n",
      "  'https://www.facebook.com/messages/t/devin.west2',\n",
      "  'https://www.facebook.com/messages/t/wolfdieter.otte',\n",
      "  'https://www.facebook.com/messages/t/johan.larson.56',\n",
      "  'https://www.facebook.com/messages/t/ragunr',\n",
      "  'https://www.facebook.com/messages/t/robert.chandler',\n",
      "  'https://www.facebook.com/messages/t/james.cullinan.315',\n",
      "  'https://www.facebook.com/messages/t/firealwaysworks',\n",
      "  'https://www.facebook.com/messages/t/teresa.cvach',\n",
      "  'https://www.facebook.com/messages/t/100006728686581',\n",
      "  'https://www.facebook.com/messages/t/patti.caudill',\n",
      "  'https://www.facebook.com/messages/t/jason.hornack',\n",
      "  'https://www.facebook.com/messages/t/chris.cullinan.792',\n",
      "  'https://www.facebook.com/messages/t/katya.geissler',\n",
      "  'https://www.facebook.com/messages/t/vladimir.zuzukin',\n",
      "  'https://www.facebook.com/messages/t/Valorie.PONY.Teter',\n",
      "  'https://www.facebook.com/messages/t/100005972775784',\n",
      "  'https://www.facebook.com/messages/t/tynababbit15',\n",
      "  'https://www.facebook.com/messages/t/MCChopper',\n",
      "  'https://www.facebook.com/messages/t/100010177366596',\n",
      "  'https://www.facebook.com/messages/t/eurostar88',\n",
      "  'https://www.facebook.com/messages/t/diane.weaver.948',\n",
      "  'https://www.facebook.com/messages/t/1623650947',\n",
      "  'https://www.facebook.com/messages/t/nicolas.vanegas.581',\n",
      "  'https://www.facebook.com/messages/t/1089324394476784',\n",
      "  'https://www.facebook.com/messages/t/david.earl.smith',\n",
      "  'https://www.facebook.com/messages/t/RogerRohweder',\n",
      "  'https://www.facebook.com/messages/t/colleen.k.cullinan',\n",
      "  'https://www.facebook.com/messages/t/Bewildebeest',\n",
      "  'https://www.facebook.com/messages/t/maciejc' ]\n",
      "\u001b[1;30m[19:44:37] \u001b[0m \u001b[0;35mCOMMAND\t\u001b[0mGET \t \"/wd/hub/session/d729d8d4e56c7082da83206b0b79d84f/window_handle\"\n",
      "\u001b[1;30m[19:44:37] \u001b[0m \u001b[0;35mCOMMAND\t\u001b[0mPOST \t \"/wd/hub/session/d729d8d4e56c7082da83206b0b79d84f/window\"\n",
      "{ x: 0, y: 0 }\n",
      "\u001b[1;30m[19:44:37] \u001b[0m \u001b[0;35mCOMMAND\t\u001b[0mPOST \t \"/wd/hub/session/d729d8d4e56c7082da83206b0b79d84f/window/CDwindow-f894bab7-5d03-4ed2-a63a-754b123864fa/position\"\n",
      "\u001b[1;30m[19:44:37] \u001b[0m \u001b[0;35mCOMMAND\t\u001b[0mPOST \t \"/wd/hub/session/d729d8d4e56c7082da83206b0b79d84f/window/CDwindow-f894bab7-5d03-4ed2-a63a-754b123864fa/size\"\n",
      "\u001b[1;30m[19:44:37] \u001b[0m \u001b[0;35mCOMMAND\t\u001b[0mPOST \t \"/wd/hub/session/d729d8d4e56c7082da83206b0b79d84f/url\"\n",
      "\u001b[1;30m[19:44:39] \u001b[0m \u001b[0;35mCOMMAND\t\u001b[0mGET \t \"/wd/hub/session/d729d8d4e56c7082da83206b0b79d84f/window_handle\"\n",
      "\u001b[1;30m[19:44:39] \u001b[0m \u001b[0;35mCOMMAND\t\u001b[0mGET \t \"/wd/hub/session/d729d8d4e56c7082da83206b0b79d84f/window_handles\"\n",
      "https://www.facebook.com/messages/archived/t/jennifer.sanders.personal\n",
      "\u001b[1;30m[19:44:39] \u001b[0m \u001b[0;35mCOMMAND\t\u001b[0mGET \t \"/wd/hub/session/d729d8d4e56c7082da83206b0b79d84f/window_handles\"\n",
      "\u001b[1;30m[19:44:39] \u001b[0m \u001b[0;35mCOMMAND\t\u001b[0mPOST \t \"/wd/hub/session/d729d8d4e56c7082da83206b0b79d84f/execute\"\n",
      "\u001b[1;30m[19:44:40] \u001b[0m \u001b[0;35mCOMMAND\t\u001b[0mGET \t \"/wd/hub/session/d729d8d4e56c7082da83206b0b79d84f/window_handles\"\n",
      "\u001b[1;30m[19:44:40] \u001b[0m \u001b[0;35mCOMMAND\t\u001b[0mPOST \t \"/wd/hub/session/d729d8d4e56c7082da83206b0b79d84f/window\"\n",
      "https://www.facebook.com/messages/t/freda.brunat.9\n",
      "\u001b[1;30m[19:44:40] \u001b[0m \u001b[0;35mCOMMAND\t\u001b[0mGET \t \"/wd/hub/session/d729d8d4e56c7082da83206b0b79d84f/window_handles\"\n",
      "\u001b[1;30m[19:44:40] \u001b[0m \u001b[0;35mCOMMAND\t\u001b[0mPOST \t \"/wd/hub/session/d729d8d4e56c7082da83206b0b79d84f/execute\"\n",
      "\u001b[1;30m[19:44:40] \u001b[0m \u001b[0;35mCOMMAND\t\u001b[0mGET \t \"/wd/hub/session/d729d8d4e56c7082da83206b0b79d84f/window_handles\"\n",
      "\u001b[1;30m[19:44:40] \u001b[0m \u001b[0;35mCOMMAND\t\u001b[0mPOST \t \"/wd/hub/session/d729d8d4e56c7082da83206b0b79d84f/window\"\n",
      "\u001b[1;30m[19:44:40] \u001b[0m \u001b[0;35mCOMMAND\t\u001b[0mGET \t \"/wd/hub/session/d729d8d4e56c7082da83206b0b79d84f/window_handle\"\n",
      "\u001b[1;30m[19:44:40] \u001b[0m \u001b[0;35mCOMMAND\t\u001b[0mPOST \t \"/wd/hub/session/d729d8d4e56c7082da83206b0b79d84f/window\"\n",
      "\u001b[1;30m[19:44:40] \u001b[0m \u001b[0;35mCOMMAND\t\u001b[0mGET \t \"/wd/hub/session/d729d8d4e56c7082da83206b0b79d84f\"\n",
      "\u001b[1;30m[19:44:40] \u001b[0m \u001b[0;35mCOMMAND\t\u001b[0mGET \t \"/wd/hub/session/dbb9e06fe8f730700176ca754dc8175d/window_handle\"\n",
      "\u001b[1;30m[19:44:40] \u001b[0m \u001b[0;35mCOMMAND\t\u001b[0mGET \t \"/wd/hub/session/ec2eca85b6fa3331aa4d685bb091fd7b/window_handle\"\n",
      "\u001b[1;30m[19:44:41] \u001b[0m \u001b[0;35mCOMMAND\t\u001b[0mGET \t \"/wd/hub/session/cc96bbbaf209cfdc18f545ac3df9f684/window_handle\"\n",
      "\u001b[1;30m[19:44:41] \u001b[0m \u001b[0;35mCOMMAND\t\u001b[0mGET \t \"/wd/hub/session/5624251d09d72eefedfa6a2ea7c2c976/window_handle\"\n",
      "\u001b[1;30m[19:44:41] \u001b[0m \u001b[0;35mCOMMAND\t\u001b[0mGET \t \"/wd/hub/session/d77ac22595709c9c2a6c2416c7f5104b/window_handle\"\n",
      "[ 'd729d8d4e56c7082da83206b0b79d84f' ]\n",
      "\u001b[1;30m[19:44:41] \u001b[0m \u001b[0;35mCOMMAND\t\u001b[0mGET \t \"/wd/hub/session/d729d8d4e56c7082da83206b0b79d84f/url\"\n",
      "\u001b[1;30m[19:44:41] \u001b[0m \u001b[0;35mCOMMAND\t\u001b[0mGET \t \"/wd/hub/session/d729d8d4e56c7082da83206b0b79d84f/window_handles\"\n",
      "\u001b[1;30m[19:44:41] \u001b[0m \u001b[0;35mCOMMAND\t\u001b[0mPOST \t \"/wd/hub/session/d729d8d4e56c7082da83206b0b79d84f/window\"\n",
      "\u001b[1;30m[19:44:41] \u001b[0m \u001b[0;35mCOMMAND\t\u001b[0mGET \t \"/wd/hub/session/d729d8d4e56c7082da83206b0b79d84f/window_handle\"\n",
      "\u001b[1;30m[19:44:41] \u001b[0m \u001b[0;35mCOMMAND\t\u001b[0mPOST \t \"/wd/hub/session/d729d8d4e56c7082da83206b0b79d84f/window\"\n",
      "{ x: 0, y: 0 }\n",
      "\u001b[1;30m[19:44:41] \u001b[0m \u001b[0;35mCOMMAND\t\u001b[0mPOST \t \"/wd/hub/session/d729d8d4e56c7082da83206b0b79d84f/window/CDwindow-f894bab7-5d03-4ed2-a63a-754b123864fa/position\"\n",
      "\u001b[1;30m[19:44:41] \u001b[0m \u001b[0;35mCOMMAND\t\u001b[0mPOST \t \"/wd/hub/session/d729d8d4e56c7082da83206b0b79d84f/window/CDwindow-f894bab7-5d03-4ed2-a63a-754b123864fa/size\"\n",
      "\u001b[1;30m[19:44:41] \u001b[0m \u001b[0;35mCOMMAND\t\u001b[0mGET \t \"/wd/hub/session/d729d8d4e56c7082da83206b0b79d84f/url\"\n",
      "\u001b[1;30m[19:44:42] \u001b[0m \u001b[0;35mCOMMAND\t\u001b[0mPOST \t \"/wd/hub/session/d729d8d4e56c7082da83206b0b79d84f/window\"\n",
      "\u001b[1;30m[19:44:42] \u001b[0m \u001b[0;35mCOMMAND\t\u001b[0mGET \t \"/wd/hub/session/d729d8d4e56c7082da83206b0b79d84f/window_handle\"\n",
      "\u001b[1;30m[19:44:42] \u001b[0m \u001b[0;35mCOMMAND\t\u001b[0mPOST \t \"/wd/hub/session/d729d8d4e56c7082da83206b0b79d84f/window\"\n",
      "{ x: 1350, y: 0 }\n",
      "\u001b[1;30m[19:44:42] \u001b[0m \u001b[0;35mCOMMAND\t\u001b[0mPOST \t \"/wd/hub/session/d729d8d4e56c7082da83206b0b79d84f/window/CDwindow-09d7d9d5-b7af-4ee2-8bcd-52221a9aa09e/position\"\n",
      "\u001b[1;30m[19:44:42] \u001b[0m \u001b[0;35mCOMMAND\t\u001b[0mPOST \t \"/wd/hub/session/d729d8d4e56c7082da83206b0b79d84f/window/CDwindow-09d7d9d5-b7af-4ee2-8bcd-52221a9aa09e/size\"\n",
      "\u001b[1;30m[19:44:42] \u001b[0m \u001b[0;35mCOMMAND\t\u001b[0mGET \t \"/wd/hub/session/d729d8d4e56c7082da83206b0b79d84f/url\"\n",
      "\u001b[1;30m[19:44:44] \u001b[0m \u001b[0;35mCOMMAND\t\u001b[0mPOST \t \"/wd/hub/session/d729d8d4e56c7082da83206b0b79d84f/window\"\n",
      "\u001b[1;30m[19:44:44] \u001b[0m \u001b[0;35mCOMMAND\t\u001b[0mGET \t \"/wd/hub/session/d729d8d4e56c7082da83206b0b79d84f/window_handle\"\n",
      "\u001b[1;30m[19:44:44] \u001b[0m \u001b[0;35mCOMMAND\t\u001b[0mPOST \t \"/wd/hub/session/d729d8d4e56c7082da83206b0b79d84f/window\"\n",
      "{ x: 2700, y: 0 }\n",
      "\u001b[1;30m[19:44:44] \u001b[0m \u001b[0;35mCOMMAND\t\u001b[0mPOST \t \"/wd/hub/session/d729d8d4e56c7082da83206b0b79d84f/window/CDwindow-c4fb5a47-8c93-4d72-9c51-34a1593267fa/position\"\n",
      "\u001b[1;30m[19:44:44] \u001b[0m \u001b[0;35mCOMMAND\t\u001b[0mPOST \t \"/wd/hub/session/d729d8d4e56c7082da83206b0b79d84f/window/CDwindow-c4fb5a47-8c93-4d72-9c51-34a1593267fa/size\"\n",
      "\u001b[1;30m[19:44:44] \u001b[0m \u001b[0;35mCOMMAND\t\u001b[0mGET \t \"/wd/hub/session/d729d8d4e56c7082da83206b0b79d84f/url\"\n",
      "\u001b[1;30m[19:44:45] \u001b[0m \u001b[0;35mCOMMAND\t\u001b[0mGET \t \"/wd/hub/session/d729d8d4e56c7082da83206b0b79d84f/window_handles\"\n",
      "\u001b[1;30m[19:44:45] \u001b[0m \u001b[0;35mCOMMAND\t\u001b[0mPOST \t \"/wd/hub/session/d729d8d4e56c7082da83206b0b79d84f/window\"\n",
      "\u001b[1;30m[19:44:45] \u001b[0m \u001b[0;35mCOMMAND\t\u001b[0mGET \t \"/wd/hub/session/d729d8d4e56c7082da83206b0b79d84f/url\"\n",
      "\u001b[1;30m[19:44:46] \u001b[0m \u001b[0;35mCOMMAND\t\u001b[0mGET \t \"/wd/hub/session/d729d8d4e56c7082da83206b0b79d84f/url\"\n",
      "\u001b[1;30m[19:44:47] \u001b[0m \u001b[0;35mCOMMAND\t\u001b[0mPOST \t \"/wd/hub/session/d729d8d4e56c7082da83206b0b79d84f/execute\"\n",
      "\u001b[1;30m[19:44:47] \u001b[0m \u001b[0;35mCOMMAND\t\u001b[0mPOST \t \"/wd/hub/session/d729d8d4e56c7082da83206b0b79d84f/execute\"\n",
      "\u001b[1;30m[19:44:47] \u001b[0m \u001b[0;35mCOMMAND\t\u001b[0mPOST \t \"/wd/hub/session/d729d8d4e56c7082da83206b0b79d84f/element/0.6059735994655564-1/click\"\n",
      "\u001b[1;30m[19:44:51] \u001b[0m \u001b[0;35mCOMMAND\t\u001b[0mPOST \t \"/wd/hub/session/d729d8d4e56c7082da83206b0b79d84f/elements\"\n",
      "\u001b[1;30m[19:44:51] \u001b[0m \u001b[0;35mCOMMAND\t\u001b[0mPOST \t \"/wd/hub/session/d729d8d4e56c7082da83206b0b79d84f/elements\"\n",
      "\u001b[1;30m[19:44:51] \u001b[0m \u001b[0;35mCOMMAND\t\u001b[0mGET \t \"/wd/hub/session/d729d8d4e56c7082da83206b0b79d84f/url\"\n",
      "\u001b[1;30m[19:44:51] \u001b[0m \u001b[0;35mCOMMAND\t\u001b[0mGET \t \"/wd/hub/session/d729d8d4e56c7082da83206b0b79d84f/element/0.7261885867336848-1/text\"\n",
      "\u001b[1;30m[19:44:51] \u001b[0m \u001b[0;35mCOMMAND\t\u001b[0mPOST \t \"/wd/hub/session/d729d8d4e56c7082da83206b0b79d84f/elements\"\n",
      "\u001b[1;30m[19:44:51] \u001b[0m \u001b[0;35mCOMMAND\t\u001b[0mGET \t \"/wd/hub/session/d729d8d4e56c7082da83206b0b79d84f/element/0.7261885867336848-2/text\"\n",
      "\u001b[1;30m[19:44:51] \u001b[0m \u001b[0;35mCOMMAND\t\u001b[0mPOST \t \"/wd/hub/session/d729d8d4e56c7082da83206b0b79d84f/url\"\n",
      "\u001b[1;30m[19:44:57] \u001b[0m \u001b[0;35mCOMMAND\t\u001b[0mPOST \t \"/wd/hub/session/d729d8d4e56c7082da83206b0b79d84f/execute\"\n",
      "\u001b[1;30m[19:44:57] \u001b[0m \u001b[0;35mCOMMAND\t\u001b[0mPOST \t \"/wd/hub/session/d729d8d4e56c7082da83206b0b79d84f/execute\"\n",
      "\u001b[1;30m[19:44:59] \u001b[0m \u001b[0;35mCOMMAND\t\u001b[0mPOST \t \"/wd/hub/session/d729d8d4e56c7082da83206b0b79d84f/execute\"\n",
      "[ { from: 'Brian',\n",
      "    message: 'Brian\\nLiving the dream? Mm\\n',\n",
      "    time: 2017-11-23T01:56:00.000Z } ]\n",
      "\u001b[1;30m[19:44:59] \u001b[0m \u001b[0;35mCOMMAND\t\u001b[0mPOST \t \"/wd/hub/session/d729d8d4e56c7082da83206b0b79d84f/window\"\n",
      "\u001b[1;30m[19:44:59] \u001b[0m \u001b[0;35mCOMMAND\t\u001b[0mGET \t \"/wd/hub/session/d729d8d4e56c7082da83206b0b79d84f/url\"\n",
      "\u001b[1;30m[19:44:59] \u001b[0m \u001b[0;35mCOMMAND\t\u001b[0mGET \t \"/wd/hub/session/d729d8d4e56c7082da83206b0b79d84f/url\"\n",
      "\u001b[1;30m[19:45:00] \u001b[0m \u001b[0;35mCOMMAND\t\u001b[0mPOST \t \"/wd/hub/session/d729d8d4e56c7082da83206b0b79d84f/execute\"\n",
      "\u001b[1;30m[19:45:00] \u001b[0m \u001b[0;35mCOMMAND\t\u001b[0mPOST \t \"/wd/hub/session/d729d8d4e56c7082da83206b0b79d84f/execute\"\n",
      "\u001b[1;30m[19:45:00] \u001b[0m \u001b[0;35mCOMMAND\t\u001b[0mPOST \t \"/wd/hub/session/d729d8d4e56c7082da83206b0b79d84f/element/0.13816343197777003-1/click\"\n",
      "\u001b[1;30m[19:45:04] \u001b[0m \u001b[0;35mCOMMAND\t\u001b[0mPOST \t \"/wd/hub/session/d729d8d4e56c7082da83206b0b79d84f/elements\"\n",
      "\u001b[1;30m[19:45:04] \u001b[0m \u001b[0;35mCOMMAND\t\u001b[0mPOST \t \"/wd/hub/session/d729d8d4e56c7082da83206b0b79d84f/elements\"\n",
      "\u001b[1;30m[19:45:04] \u001b[0m \u001b[0;35mCOMMAND\t\u001b[0mGET \t \"/wd/hub/session/d729d8d4e56c7082da83206b0b79d84f/url\"\n",
      "\u001b[1;30m[19:45:04] \u001b[0m \u001b[0;35mCOMMAND\t\u001b[0mGET \t \"/wd/hub/session/d729d8d4e56c7082da83206b0b79d84f/element/0.3505592164299687-1/text\"\n",
      "\u001b[1;30m[19:45:04] \u001b[0m \u001b[0;35mCOMMAND\t\u001b[0mPOST \t \"/wd/hub/session/d729d8d4e56c7082da83206b0b79d84f/elements\"\n",
      "\u001b[1;30m[19:45:04] \u001b[0m \u001b[0;35mCOMMAND\t\u001b[0mGET \t \"/wd/hub/session/d729d8d4e56c7082da83206b0b79d84f/element/0.3505592164299687-2/text\"\n",
      "\u001b[1;30m[19:45:04] \u001b[0m \u001b[0;35mCOMMAND\t\u001b[0mPOST \t \"/wd/hub/session/d729d8d4e56c7082da83206b0b79d84f/url\"\n",
      "\u001b[1;30m[19:45:09] \u001b[0m \u001b[0;35mCOMMAND\t\u001b[0mPOST \t \"/wd/hub/session/d729d8d4e56c7082da83206b0b79d84f/execute\"\n",
      "\u001b[1;30m[19:45:09] \u001b[0m \u001b[0;35mCOMMAND\t\u001b[0mPOST \t \"/wd/hub/session/d729d8d4e56c7082da83206b0b79d84f/execute\"\n",
      "\u001b[1;30m[19:45:11] \u001b[0m \u001b[0;35mCOMMAND\t\u001b[0mPOST \t \"/wd/hub/session/d729d8d4e56c7082da83206b0b79d84f/execute\"\n",
      "[ { from: 'Brian',\n",
      "    message: 'Brian\\nLiving the dream? Mm\\n',\n",
      "    time: 2017-11-23T01:56:00.000Z } ]\n",
      "\u001b[1;30m[19:45:11] \u001b[0m \u001b[0;35mCOMMAND\t\u001b[0mPOST \t \"/wd/hub/session/d729d8d4e56c7082da83206b0b79d84f/window\"\n",
      "\u001b[1;30m[19:45:11] \u001b[0m \u001b[0;35mCOMMAND\t\u001b[0mGET \t \"/wd/hub/session/d729d8d4e56c7082da83206b0b79d84f/url\"\n",
      "\u001b[1;30m[19:45:11] \u001b[0m \u001b[0;35mCOMMAND\t\u001b[0mGET \t \"/wd/hub/session/d729d8d4e56c7082da83206b0b79d84f/url\"\n",
      "\u001b[1;30m[19:45:12] \u001b[0m \u001b[0;35mCOMMAND\t\u001b[0mPOST \t \"/wd/hub/session/d729d8d4e56c7082da83206b0b79d84f/execute\"\n",
      "\u001b[1;30m[19:45:12] \u001b[0m \u001b[0;35mCOMMAND\t\u001b[0mPOST \t \"/wd/hub/session/d729d8d4e56c7082da83206b0b79d84f/execute\"\n",
      "\u001b[1;30m[19:45:12] \u001b[0m \u001b[0;35mCOMMAND\t\u001b[0mPOST \t \"/wd/hub/session/d729d8d4e56c7082da83206b0b79d84f/element/0.8822848553131546-1/click\"\n",
      "\u001b[1;30m[19:45:16] \u001b[0m \u001b[0;35mCOMMAND\t\u001b[0mPOST \t \"/wd/hub/session/d729d8d4e56c7082da83206b0b79d84f/elements\"\n",
      "\u001b[1;30m[19:45:16] \u001b[0m \u001b[0;35mCOMMAND\t\u001b[0mPOST \t \"/wd/hub/session/d729d8d4e56c7082da83206b0b79d84f/elements\"\n",
      "\u001b[1;30m[19:45:16] \u001b[0m \u001b[0;35mCOMMAND\t\u001b[0mGET \t \"/wd/hub/session/d729d8d4e56c7082da83206b0b79d84f/url\"\n",
      "\u001b[1;30m[19:45:17] \u001b[0m \u001b[0;35mCOMMAND\t\u001b[0mGET \t \"/wd/hub/session/d729d8d4e56c7082da83206b0b79d84f/element/0.7934534549399308-1/text\"\n",
      "\u001b[1;30m[19:45:17] \u001b[0m \u001b[0;35mCOMMAND\t\u001b[0mPOST \t \"/wd/hub/session/d729d8d4e56c7082da83206b0b79d84f/url\"\n",
      "\u001b[1;30m[19:45:21] \u001b[0m \u001b[0;35mCOMMAND\t\u001b[0mPOST \t \"/wd/hub/session/d729d8d4e56c7082da83206b0b79d84f/execute\"\n",
      "\u001b[1;30m[19:45:21] \u001b[0m \u001b[0;35mCOMMAND\t\u001b[0mPOST \t \"/wd/hub/session/d729d8d4e56c7082da83206b0b79d84f/execute\"\n",
      "\u001b[1;30m[19:45:23] \u001b[0m \u001b[0;35mCOMMAND\t\u001b[0mPOST \t \"/wd/hub/session/d729d8d4e56c7082da83206b0b79d84f/execute\"\n",
      "[ { from: 'Brian',\n",
      "    message: 'Brian\\nLiving the dream? Mm\\n',\n",
      "    time: 2017-11-23T01:57:00.000Z } ]\n",
      "\u001b[1;30m[19:45:23] \u001b[0m \u001b[0;35mCOMMAND\t\u001b[0mPOST \t \"/wd/hub/session/d729d8d4e56c7082da83206b0b79d84f/window\"\n",
      "\u001b[1;30m[19:45:23] \u001b[0m \u001b[0;35mCOMMAND\t\u001b[0mGET \t \"/wd/hub/session/d729d8d4e56c7082da83206b0b79d84f/url\"\n",
      "\u001b[1;30m[19:45:23] \u001b[0m \u001b[0;35mCOMMAND\t\u001b[0mPOST \t \"/wd/hub/session/d729d8d4e56c7082da83206b0b79d84f/execute\"\n",
      "\u001b[1;30m[19:45:23] \u001b[0m \u001b[0;35mCOMMAND\t\u001b[0mPOST \t \"/wd/hub/session/d729d8d4e56c7082da83206b0b79d84f/element\"\n",
      "\u001b[1;30m[19:45:24] \u001b[0m \u001b[0;35mCOMMAND\t\u001b[0mPOST \t \"/wd/hub/session/d729d8d4e56c7082da83206b0b79d84f/element/0.4113952707059012-1/click\"\n",
      "\u001b[1;30m[19:45:25] \u001b[0m \u001b[0;35mCOMMAND\t\u001b[0mGET \t \"/wd/hub/session/d729d8d4e56c7082da83206b0b79d84f/url\"\n",
      "\u001b[1;30m[19:45:26] \u001b[0m \u001b[0;35mCOMMAND\t\u001b[0mPOST \t \"/wd/hub/session/d729d8d4e56c7082da83206b0b79d84f/execute\"\n",
      "\u001b[1;30m[19:45:26] \u001b[0m \u001b[0;35mCOMMAND\t\u001b[0mPOST \t \"/wd/hub/session/d729d8d4e56c7082da83206b0b79d84f/execute\"\n",
      "\u001b[1;30m[19:45:26] \u001b[0m \u001b[0;35mCOMMAND\t\u001b[0mPOST \t \"/wd/hub/session/d729d8d4e56c7082da83206b0b79d84f/element/0.4113952707059012-2/click\"\n",
      "\u001b[1;30m[19:45:31] \u001b[0m \u001b[0;35mCOMMAND\t\u001b[0mPOST \t \"/wd/hub/session/d729d8d4e56c7082da83206b0b79d84f/elements\"\n",
      "\u001b[1;30m[19:45:31] \u001b[0m \u001b[0;35mCOMMAND\t\u001b[0mPOST \t \"/wd/hub/session/d729d8d4e56c7082da83206b0b79d84f/elements\"\n",
      "\u001b[1;30m[19:45:31] \u001b[0m \u001b[0;35mCOMMAND\t\u001b[0mGET \t \"/wd/hub/session/d729d8d4e56c7082da83206b0b79d84f/url\"\n",
      "\u001b[1;30m[19:45:31] \u001b[0m \u001b[0;35mCOMMAND\t\u001b[0mGET \t \"/wd/hub/session/d729d8d4e56c7082da83206b0b79d84f/element/0.1734804432039807-1/text\"\n",
      "\u001b[1;30m[19:45:31] \u001b[0m \u001b[0;35mCOMMAND\t\u001b[0mPOST \t \"/wd/hub/session/d729d8d4e56c7082da83206b0b79d84f/elements\"\n",
      "\u001b[1;30m[19:45:32] \u001b[0m \u001b[0;35mCOMMAND\t\u001b[0mGET \t \"/wd/hub/session/d729d8d4e56c7082da83206b0b79d84f/element/0.1734804432039807-2/text\"\n",
      "\u001b[1;30m[19:45:32] \u001b[0m \u001b[0;35mCOMMAND\t\u001b[0mGET \t \"/wd/hub/session/d729d8d4e56c7082da83206b0b79d84f/element/0.1734804432039807-3/text\"\n",
      "\u001b[1;30m[19:45:32] \u001b[0m \u001b[0;35mCOMMAND\t\u001b[0mPOST \t \"/wd/hub/session/d729d8d4e56c7082da83206b0b79d84f/url\"\n",
      "\u001b[1;30m[19:45:37] \u001b[0m \u001b[0;35mCOMMAND\t\u001b[0mPOST \t \"/wd/hub/session/d729d8d4e56c7082da83206b0b79d84f/execute\"\n",
      "\u001b[1;30m[19:45:37] \u001b[0m \u001b[0;35mCOMMAND\t\u001b[0mPOST \t \"/wd/hub/session/d729d8d4e56c7082da83206b0b79d84f/execute\"\n",
      "\u001b[1;30m[19:45:39] \u001b[0m \u001b[0;35mCOMMAND\t\u001b[0mPOST \t \"/wd/hub/session/d729d8d4e56c7082da83206b0b79d84f/execute\"\n",
      "[ { from: 'Brian',\n",
      "    message: 'Brian\\nLiving the dream? Mm\\n',\n",
      "    time: 2017-11-23T01:57:00.000Z } ]\n",
      "\u001b[1;30m[19:45:39] \u001b[0m \u001b[0;35mCOMMAND\t\u001b[0mPOST \t \"/wd/hub/session/d729d8d4e56c7082da83206b0b79d84f/window\"\n",
      "\u001b[1;30m[19:45:39] \u001b[0m \u001b[0;35mCOMMAND\t\u001b[0mGET \t \"/wd/hub/session/d729d8d4e56c7082da83206b0b79d84f/url\"\n",
      "\u001b[1;30m[19:45:39] \u001b[0m \u001b[0;35mCOMMAND\t\u001b[0mPOST \t \"/wd/hub/session/d729d8d4e56c7082da83206b0b79d84f/execute\"\n",
      "\u001b[1;30m[19:45:39] \u001b[0m \u001b[0;35mCOMMAND\t\u001b[0mPOST \t \"/wd/hub/session/d729d8d4e56c7082da83206b0b79d84f/element\"\n",
      "\u001b[1;30m[19:45:39] \u001b[0m \u001b[0;35mCOMMAND\t\u001b[0mPOST \t \"/wd/hub/session/d729d8d4e56c7082da83206b0b79d84f/element/0.2988610388439037-1/click\"\n",
      "\u001b[1;30m[19:45:40] \u001b[0m \u001b[0;35mCOMMAND\t\u001b[0mGET \t \"/wd/hub/session/d729d8d4e56c7082da83206b0b79d84f/url\"\n",
      "\u001b[1;30m[19:45:41] \u001b[0m \u001b[0;35mCOMMAND\t\u001b[0mPOST \t \"/wd/hub/session/d729d8d4e56c7082da83206b0b79d84f/execute\"\n",
      "\u001b[1;30m[19:45:41] \u001b[0m \u001b[0;35mCOMMAND\t\u001b[0mPOST \t \"/wd/hub/session/d729d8d4e56c7082da83206b0b79d84f/execute\"\n",
      "\u001b[1;30m[19:45:41] \u001b[0m \u001b[0;35mCOMMAND\t\u001b[0mPOST \t \"/wd/hub/session/d729d8d4e56c7082da83206b0b79d84f/url\"\n",
      "\u001b[1;30m[19:45:46] \u001b[0m \u001b[0;35mCOMMAND\t\u001b[0mPOST \t \"/wd/hub/session/d729d8d4e56c7082da83206b0b79d84f/execute\"\n",
      "\u001b[1;30m[19:45:46] \u001b[0m \u001b[0;35mCOMMAND\t\u001b[0mPOST \t \"/wd/hub/session/d729d8d4e56c7082da83206b0b79d84f/execute\"\n",
      "\u001b[1;30m[19:45:48] \u001b[0m \u001b[0;35mCOMMAND\t\u001b[0mPOST \t \"/wd/hub/session/d729d8d4e56c7082da83206b0b79d84f/execute\"\n",
      "[]\n",
      "\u001b[1;30m[19:45:48] \u001b[0m \u001b[0;35mCOMMAND\t\u001b[0mPOST \t \"/wd/hub/session/d729d8d4e56c7082da83206b0b79d84f/element\"\n",
      "{ Error: An element could not be located on the page using the given search parameters.\n",
      "    at element(\"//*[contains(@aria-label, \"Type a message\")]\") - click.js:12:17\n",
      "    at keys(\"\") - facebook connections.ipynb[3]:8:10\n",
      "  type: 'NoSuchElement',\n",
      "  message: 'An element could not be located on the page using the given search parameters.' }\n",
      "\u001b[1;30m[19:45:48] \u001b[0m \u001b[0;35mCOMMAND\t\u001b[0mPOST \t \"/wd/hub/session/d729d8d4e56c7082da83206b0b79d84f/window\"\n",
      "\u001b[1;30m[19:45:48] \u001b[0m \u001b[0;35mCOMMAND\t\u001b[0mGET \t \"/wd/hub/session/d729d8d4e56c7082da83206b0b79d84f/url\"\n",
      "\u001b[1;30m[19:45:48] \u001b[0m \u001b[0;35mCOMMAND\t\u001b[0mPOST \t \"/wd/hub/session/d729d8d4e56c7082da83206b0b79d84f/execute\"\n",
      "\u001b[1;30m[19:45:48] \u001b[0m \u001b[0;35mCOMMAND\t\u001b[0mPOST \t \"/wd/hub/session/d729d8d4e56c7082da83206b0b79d84f/element\"\n",
      "\u001b[1;30m[19:45:48] \u001b[0m \u001b[0;35mCOMMAND\t\u001b[0mPOST \t \"/wd/hub/session/d729d8d4e56c7082da83206b0b79d84f/element/0.5478443944704134-1/click\"\n",
      "\u001b[1;30m[19:45:50] \u001b[0m \u001b[0;35mCOMMAND\t\u001b[0mGET \t \"/wd/hub/session/d729d8d4e56c7082da83206b0b79d84f/url\"\n",
      "\u001b[1;30m[19:45:51] \u001b[0m \u001b[0;35mCOMMAND\t\u001b[0mPOST \t \"/wd/hub/session/d729d8d4e56c7082da83206b0b79d84f/execute\"\n",
      "\u001b[1;30m[19:45:51] \u001b[0m \u001b[0;35mCOMMAND\t\u001b[0mPOST \t \"/wd/hub/session/d729d8d4e56c7082da83206b0b79d84f/execute\"\n",
      "\u001b[1;30m[19:45:51] \u001b[0m \u001b[0;35mCOMMAND\t\u001b[0mPOST \t \"/wd/hub/session/d729d8d4e56c7082da83206b0b79d84f/url\"\n",
      "\u001b[1;30m[19:45:55] \u001b[0m \u001b[0;35mCOMMAND\t\u001b[0mPOST \t \"/wd/hub/session/d729d8d4e56c7082da83206b0b79d84f/execute\"\n",
      "\u001b[1;30m[19:45:55] \u001b[0m \u001b[0;35mCOMMAND\t\u001b[0mPOST \t \"/wd/hub/session/d729d8d4e56c7082da83206b0b79d84f/execute\"\n",
      "\u001b[1;30m[19:45:57] \u001b[0m \u001b[0;35mCOMMAND\t\u001b[0mPOST \t \"/wd/hub/session/d729d8d4e56c7082da83206b0b79d84f/execute\"\n",
      "[ { from: 'Brian',\n",
      "    message: 'Brian\\nLiving the dream? Mm\\n',\n",
      "    time: 2017-11-23T01:57:00.000Z } ]\n",
      "\u001b[1;30m[19:45:57] \u001b[0m \u001b[0;35mCOMMAND\t\u001b[0mPOST \t \"/wd/hub/session/d729d8d4e56c7082da83206b0b79d84f/window\"\n",
      "\u001b[1;30m[19:45:57] \u001b[0m \u001b[0;35mCOMMAND\t\u001b[0mGET \t \"/wd/hub/session/d729d8d4e56c7082da83206b0b79d84f/url\"\n",
      "\u001b[1;30m[19:45:57] \u001b[0m \u001b[0;35mCOMMAND\t\u001b[0mPOST \t \"/wd/hub/session/d729d8d4e56c7082da83206b0b79d84f/execute\"\n",
      "\u001b[1;30m[19:45:58] \u001b[0m \u001b[0;35mCOMMAND\t\u001b[0mPOST \t \"/wd/hub/session/d729d8d4e56c7082da83206b0b79d84f/element\"\n",
      "\u001b[1;30m[19:45:58] \u001b[0m \u001b[0;35mCOMMAND\t\u001b[0mPOST \t \"/wd/hub/session/d729d8d4e56c7082da83206b0b79d84f/element/0.4313650903094972-1/click\"\n",
      "\u001b[1;30m[19:45:59] \u001b[0m \u001b[0;35mCOMMAND\t\u001b[0mGET \t \"/wd/hub/session/d729d8d4e56c7082da83206b0b79d84f/url\"\n",
      "\u001b[1;30m[19:46:00] \u001b[0m \u001b[0;35mCOMMAND\t\u001b[0mPOST \t \"/wd/hub/session/d729d8d4e56c7082da83206b0b79d84f/execute\"\n",
      "\u001b[1;30m[19:46:00] \u001b[0m \u001b[0;35mCOMMAND\t\u001b[0mPOST \t \"/wd/hub/session/d729d8d4e56c7082da83206b0b79d84f/execute\"\n",
      "\u001b[1;30m[19:46:00] \u001b[0m \u001b[0;35mCOMMAND\t\u001b[0mPOST \t \"/wd/hub/session/d729d8d4e56c7082da83206b0b79d84f/url\"\n",
      "\u001b[1;30m[19:46:06] \u001b[0m \u001b[0;35mCOMMAND\t\u001b[0mPOST \t \"/wd/hub/session/d729d8d4e56c7082da83206b0b79d84f/execute\"\n",
      "\u001b[1;30m[19:46:06] \u001b[0m \u001b[0;35mCOMMAND\t\u001b[0mPOST \t \"/wd/hub/session/d729d8d4e56c7082da83206b0b79d84f/execute\"\n",
      "\u001b[1;30m[19:46:08] \u001b[0m \u001b[0;35mCOMMAND\t\u001b[0mPOST \t \"/wd/hub/session/d729d8d4e56c7082da83206b0b79d84f/execute\"\n",
      "[ { from: 'Brian',\n",
      "    message: 'Brian\\nLiving the dream? Mm\\n',\n",
      "    time: 2017-11-23T01:57:00.000Z } ]\n",
      "\u001b[1;30m[19:46:08] \u001b[0m \u001b[0;35mCOMMAND\t\u001b[0mPOST \t \"/wd/hub/session/d729d8d4e56c7082da83206b0b79d84f/window\"\n",
      "\u001b[1;30m[19:46:08] \u001b[0m \u001b[0;35mCOMMAND\t\u001b[0mGET \t \"/wd/hub/session/d729d8d4e56c7082da83206b0b79d84f/url\"\n",
      "\u001b[1;30m[19:46:08] \u001b[0m \u001b[0;35mCOMMAND\t\u001b[0mPOST \t \"/wd/hub/session/d729d8d4e56c7082da83206b0b79d84f/execute\"\n",
      "\u001b[1;30m[19:46:08] \u001b[0m \u001b[0;35mCOMMAND\t\u001b[0mPOST \t \"/wd/hub/session/d729d8d4e56c7082da83206b0b79d84f/element\"\n",
      "\u001b[1;30m[19:46:08] \u001b[0m \u001b[0;35mCOMMAND\t\u001b[0mPOST \t \"/wd/hub/session/d729d8d4e56c7082da83206b0b79d84f/element/0.811937711090613-1/click\"\n",
      "\u001b[1;30m[19:46:09] \u001b[0m \u001b[0;35mCOMMAND\t\u001b[0mGET \t \"/wd/hub/session/d729d8d4e56c7082da83206b0b79d84f/url\"\n",
      "\u001b[1;30m[19:46:11] \u001b[0m \u001b[0;35mCOMMAND\t\u001b[0mPOST \t \"/wd/hub/session/d729d8d4e56c7082da83206b0b79d84f/execute\"\n",
      "\u001b[1;30m[19:46:11] \u001b[0m \u001b[0;35mCOMMAND\t\u001b[0mPOST \t \"/wd/hub/session/d729d8d4e56c7082da83206b0b79d84f/execute\"\n",
      "\u001b[1;30m[19:46:11] \u001b[0m \u001b[0;35mCOMMAND\t\u001b[0mPOST \t \"/wd/hub/session/d729d8d4e56c7082da83206b0b79d84f/url\"\n",
      "\u001b[1;30m[19:46:15] \u001b[0m \u001b[0;35mCOMMAND\t\u001b[0mPOST \t \"/wd/hub/session/d729d8d4e56c7082da83206b0b79d84f/execute\"\n",
      "\u001b[1;30m[19:46:15] \u001b[0m \u001b[0;35mCOMMAND\t\u001b[0mPOST \t \"/wd/hub/session/d729d8d4e56c7082da83206b0b79d84f/execute\"\n",
      "\u001b[1;30m[19:46:17] \u001b[0m \u001b[0;35mCOMMAND\t\u001b[0mPOST \t \"/wd/hub/session/d729d8d4e56c7082da83206b0b79d84f/execute\"\n",
      "[]\n",
      "\u001b[1;30m[19:46:17] \u001b[0m \u001b[0;35mCOMMAND\t\u001b[0mPOST \t \"/wd/hub/session/d729d8d4e56c7082da83206b0b79d84f/element\"\n",
      "{ Error: An element could not be located on the page using the given search parameters.\n",
      "    at element(\"//*[contains(@aria-label, \"Type a message\")]\") - click.js:12:17\n",
      "    at keys(\"\") - facebook connections.ipynb[3]:8:10\n",
      "  type: 'NoSuchElement',\n",
      "  message: 'An element could not be located on the page using the given search parameters.' }\n",
      "\u001b[1;30m[19:46:17] \u001b[0m \u001b[0;35mCOMMAND\t\u001b[0mPOST \t \"/wd/hub/session/d729d8d4e56c7082da83206b0b79d84f/window\"\n",
      "\u001b[1;30m[19:46:17] \u001b[0m \u001b[0;35mCOMMAND\t\u001b[0mGET \t \"/wd/hub/session/d729d8d4e56c7082da83206b0b79d84f/url\"\n",
      "\u001b[1;30m[19:46:17] \u001b[0m \u001b[0;35mCOMMAND\t\u001b[0mPOST \t \"/wd/hub/session/d729d8d4e56c7082da83206b0b79d84f/execute\"\n",
      "\u001b[1;30m[19:46:17] \u001b[0m \u001b[0;35mCOMMAND\t\u001b[0mPOST \t \"/wd/hub/session/d729d8d4e56c7082da83206b0b79d84f/element\"\n",
      "\u001b[1;30m[19:46:17] \u001b[0m \u001b[0;35mCOMMAND\t\u001b[0mPOST \t \"/wd/hub/session/d729d8d4e56c7082da83206b0b79d84f/element/0.6008117903597678-1/click\"\n",
      "\u001b[1;30m[19:46:19] \u001b[0m \u001b[0;35mCOMMAND\t\u001b[0mGET \t \"/wd/hub/session/d729d8d4e56c7082da83206b0b79d84f/url\"\n",
      "\u001b[1;30m[19:46:20] \u001b[0m \u001b[0;35mCOMMAND\t\u001b[0mPOST \t \"/wd/hub/session/d729d8d4e56c7082da83206b0b79d84f/execute\"\n",
      "\u001b[1;30m[19:46:20] \u001b[0m \u001b[0;35mCOMMAND\t\u001b[0mPOST \t \"/wd/hub/session/d729d8d4e56c7082da83206b0b79d84f/execute\"\n",
      "\u001b[1;30m[19:46:20] \u001b[0m \u001b[0;35mCOMMAND\t\u001b[0mPOST \t \"/wd/hub/session/d729d8d4e56c7082da83206b0b79d84f/url\"\n",
      "\u001b[1;30m[19:46:25] \u001b[0m \u001b[0;35mCOMMAND\t\u001b[0mPOST \t \"/wd/hub/session/d729d8d4e56c7082da83206b0b79d84f/execute\"\n",
      "\u001b[1;30m[19:46:25] \u001b[0m \u001b[0;35mCOMMAND\t\u001b[0mPOST \t \"/wd/hub/session/d729d8d4e56c7082da83206b0b79d84f/execute\"\n",
      "\u001b[1;30m[19:46:27] \u001b[0m \u001b[0;35mCOMMAND\t\u001b[0mPOST \t \"/wd/hub/session/d729d8d4e56c7082da83206b0b79d84f/execute\"\n",
      "[ { from: 'Brian',\n",
      "    message: 'Brian\\nLiving the dream? Mm\\n',\n",
      "    time: 2017-11-23T01:58:00.000Z } ]\n",
      "\u001b[1;30m[19:46:27] \u001b[0m \u001b[0;35mCOMMAND\t\u001b[0mPOST \t \"/wd/hub/session/d729d8d4e56c7082da83206b0b79d84f/window\"\n",
      "\u001b[1;30m[19:46:27] \u001b[0m \u001b[0;35mCOMMAND\t\u001b[0mGET \t \"/wd/hub/session/d729d8d4e56c7082da83206b0b79d84f/url\"\n",
      "\u001b[1;30m[19:46:27] \u001b[0m \u001b[0;35mCOMMAND\t\u001b[0mPOST \t \"/wd/hub/session/d729d8d4e56c7082da83206b0b79d84f/execute\"\n",
      "\u001b[1;30m[19:46:27] \u001b[0m \u001b[0;35mCOMMAND\t\u001b[0mPOST \t \"/wd/hub/session/d729d8d4e56c7082da83206b0b79d84f/element\"\n",
      "\u001b[1;30m[19:46:27] \u001b[0m \u001b[0;35mCOMMAND\t\u001b[0mPOST \t \"/wd/hub/session/d729d8d4e56c7082da83206b0b79d84f/element/0.21402626567106497-1/click\"\n",
      "\u001b[1;30m[19:46:28] \u001b[0m \u001b[0;35mCOMMAND\t\u001b[0mGET \t \"/wd/hub/session/d729d8d4e56c7082da83206b0b79d84f/url\"\n",
      "\u001b[1;30m[19:46:30] \u001b[0m \u001b[0;35mCOMMAND\t\u001b[0mPOST \t \"/wd/hub/session/d729d8d4e56c7082da83206b0b79d84f/execute\"\n",
      "\u001b[1;30m[19:46:30] \u001b[0m \u001b[0;35mCOMMAND\t\u001b[0mPOST \t \"/wd/hub/session/d729d8d4e56c7082da83206b0b79d84f/execute\"\n",
      "\u001b[1;30m[19:46:30] \u001b[0m \u001b[0;35mCOMMAND\t\u001b[0mPOST \t \"/wd/hub/session/d729d8d4e56c7082da83206b0b79d84f/url\"\n",
      "\u001b[1;30m[19:46:35] \u001b[0m \u001b[0;35mCOMMAND\t\u001b[0mPOST \t \"/wd/hub/session/d729d8d4e56c7082da83206b0b79d84f/execute\"\n",
      "\u001b[1;30m[19:46:35] \u001b[0m \u001b[0;35mCOMMAND\t\u001b[0mPOST \t \"/wd/hub/session/d729d8d4e56c7082da83206b0b79d84f/execute\"\n",
      "\u001b[1;30m[19:46:37] \u001b[0m \u001b[0;35mCOMMAND\t\u001b[0mPOST \t \"/wd/hub/session/d729d8d4e56c7082da83206b0b79d84f/execute\"\n",
      "[ { from: 'Brian',\n",
      "    message: 'Brian\\nLiving the dream? Mm\\n',\n",
      "    time: 2017-11-23T01:58:00.000Z } ]\n",
      "\u001b[1;30m[19:46:37] \u001b[0m \u001b[0;35mCOMMAND\t\u001b[0mPOST \t \"/wd/hub/session/d729d8d4e56c7082da83206b0b79d84f/window\"\n",
      "\u001b[1;30m[19:46:37] \u001b[0m \u001b[0;35mCOMMAND\t\u001b[0mGET \t \"/wd/hub/session/d729d8d4e56c7082da83206b0b79d84f/url\"\n",
      "\u001b[1;30m[19:46:37] \u001b[0m \u001b[0;35mCOMMAND\t\u001b[0mPOST \t \"/wd/hub/session/d729d8d4e56c7082da83206b0b79d84f/execute\"\n",
      "\u001b[1;30m[19:46:37] \u001b[0m \u001b[0;35mCOMMAND\t\u001b[0mPOST \t \"/wd/hub/session/d729d8d4e56c7082da83206b0b79d84f/element\"\n",
      "\u001b[1;30m[19:46:37] \u001b[0m \u001b[0;35mCOMMAND\t\u001b[0mPOST \t \"/wd/hub/session/d729d8d4e56c7082da83206b0b79d84f/element/0.13208543066438128-1/click\"\n",
      "\u001b[1;30m[19:46:38] \u001b[0m \u001b[0;35mCOMMAND\t\u001b[0mGET \t \"/wd/hub/session/d729d8d4e56c7082da83206b0b79d84f/url\"\n",
      "\u001b[1;30m[19:46:39] \u001b[0m \u001b[0;35mCOMMAND\t\u001b[0mPOST \t \"/wd/hub/session/d729d8d4e56c7082da83206b0b79d84f/execute\"\n",
      "\u001b[1;30m[19:46:39] \u001b[0m \u001b[0;35mCOMMAND\t\u001b[0mPOST \t \"/wd/hub/session/d729d8d4e56c7082da83206b0b79d84f/execute\"\n",
      "\u001b[1;30m[19:46:39] \u001b[0m \u001b[0;35mCOMMAND\t\u001b[0mPOST \t \"/wd/hub/session/d729d8d4e56c7082da83206b0b79d84f/url\"\n",
      "\u001b[1;30m[19:46:44] \u001b[0m \u001b[0;35mCOMMAND\t\u001b[0mPOST \t \"/wd/hub/session/d729d8d4e56c7082da83206b0b79d84f/execute\"\n",
      "\u001b[1;30m[19:46:44] \u001b[0m \u001b[0;35mCOMMAND\t\u001b[0mPOST \t \"/wd/hub/session/d729d8d4e56c7082da83206b0b79d84f/execute\"\n",
      "\u001b[1;30m[19:46:46] \u001b[0m \u001b[0;35mCOMMAND\t\u001b[0mPOST \t \"/wd/hub/session/d729d8d4e56c7082da83206b0b79d84f/execute\"\n",
      "[ { from: 'Brian',\n",
      "    message: 'Brian\\nLiving the dream? Mm\\n',\n",
      "    time: 2017-11-23T01:58:00.000Z } ]\n",
      "\u001b[1;30m[19:46:46] \u001b[0m \u001b[0;35mCOMMAND\t\u001b[0mPOST \t \"/wd/hub/session/d729d8d4e56c7082da83206b0b79d84f/window\"\n",
      "\u001b[1;30m[19:46:46] \u001b[0m \u001b[0;35mCOMMAND\t\u001b[0mGET \t \"/wd/hub/session/d729d8d4e56c7082da83206b0b79d84f/url\"\n",
      "\u001b[1;30m[19:46:46] \u001b[0m \u001b[0;35mCOMMAND\t\u001b[0mPOST \t \"/wd/hub/session/d729d8d4e56c7082da83206b0b79d84f/execute\"\n",
      "\u001b[1;30m[19:46:46] \u001b[0m \u001b[0;35mCOMMAND\t\u001b[0mPOST \t \"/wd/hub/session/d729d8d4e56c7082da83206b0b79d84f/element\"\n",
      "\u001b[1;30m[19:46:46] \u001b[0m \u001b[0;35mCOMMAND\t\u001b[0mPOST \t \"/wd/hub/session/d729d8d4e56c7082da83206b0b79d84f/element/0.23954742258806783-1/click\"\n",
      "\u001b[1;30m[19:46:48] \u001b[0m \u001b[0;35mCOMMAND\t\u001b[0mGET \t \"/wd/hub/session/d729d8d4e56c7082da83206b0b79d84f/url\"\n",
      "\u001b[1;30m[19:46:49] \u001b[0m \u001b[0;35mCOMMAND\t\u001b[0mPOST \t \"/wd/hub/session/d729d8d4e56c7082da83206b0b79d84f/execute\"\n",
      "\u001b[1;30m[19:46:49] \u001b[0m \u001b[0;35mCOMMAND\t\u001b[0mPOST \t \"/wd/hub/session/d729d8d4e56c7082da83206b0b79d84f/execute\"\n",
      "\u001b[1;30m[19:46:49] \u001b[0m \u001b[0;35mCOMMAND\t\u001b[0mPOST \t \"/wd/hub/session/d729d8d4e56c7082da83206b0b79d84f/element/0.23954742258806783-2/click\"\n",
      "\u001b[1;30m[19:46:53] \u001b[0m \u001b[0;35mCOMMAND\t\u001b[0mPOST \t \"/wd/hub/session/d729d8d4e56c7082da83206b0b79d84f/elements\"\n",
      "\u001b[1;30m[19:46:53] \u001b[0m \u001b[0;35mCOMMAND\t\u001b[0mPOST \t \"/wd/hub/session/d729d8d4e56c7082da83206b0b79d84f/elements\"\n",
      "\u001b[1;30m[19:46:53] \u001b[0m \u001b[0;35mCOMMAND\t\u001b[0mGET \t \"/wd/hub/session/d729d8d4e56c7082da83206b0b79d84f/url\"\n",
      "\u001b[1;30m[19:46:53] \u001b[0m \u001b[0;35mCOMMAND\t\u001b[0mPOST \t \"/wd/hub/session/d729d8d4e56c7082da83206b0b79d84f/elements\"\n",
      "\u001b[1;30m[19:46:53] \u001b[0m \u001b[0;35mCOMMAND\t\u001b[0mGET \t \"/wd/hub/session/d729d8d4e56c7082da83206b0b79d84f/element/0.47942351644580006-2/text\"\n",
      "\u001b[1;30m[19:46:53] \u001b[0m \u001b[0;35mCOMMAND\t\u001b[0mGET \t \"/wd/hub/session/d729d8d4e56c7082da83206b0b79d84f/element/0.47942351644580006-1/text\"\n",
      "\u001b[1;30m[19:46:53] \u001b[0m \u001b[0;35mCOMMAND\t\u001b[0mPOST \t \"/wd/hub/session/d729d8d4e56c7082da83206b0b79d84f/url\"\n",
      "\u001b[1;30m[19:46:58] \u001b[0m \u001b[0;35mCOMMAND\t\u001b[0mPOST \t \"/wd/hub/session/d729d8d4e56c7082da83206b0b79d84f/execute\"\n",
      "\u001b[1;30m[19:46:58] \u001b[0m \u001b[0;35mCOMMAND\t\u001b[0mPOST \t \"/wd/hub/session/d729d8d4e56c7082da83206b0b79d84f/execute\"\n",
      "\u001b[1;30m[19:47:00] \u001b[0m \u001b[0;35mCOMMAND\t\u001b[0mPOST \t \"/wd/hub/session/d729d8d4e56c7082da83206b0b79d84f/execute\"\n",
      "[ { from: 'Brian',\n",
      "    message: 'Brian\\nLiving the dream? Mm\\n\\n1\\n\\n',\n",
      "    time: 2017-11-23T01:58:00.000Z } ]\n",
      "\u001b[1;30m[19:47:00] \u001b[0m \u001b[0;35mCOMMAND\t\u001b[0mPOST \t \"/wd/hub/session/d729d8d4e56c7082da83206b0b79d84f/window\"\n",
      "\u001b[1;30m[19:47:00] \u001b[0m \u001b[0;35mCOMMAND\t\u001b[0mGET \t \"/wd/hub/session/d729d8d4e56c7082da83206b0b79d84f/url\"\n",
      "\u001b[1;30m[19:47:00] \u001b[0m \u001b[0;35mCOMMAND\t\u001b[0mPOST \t \"/wd/hub/session/d729d8d4e56c7082da83206b0b79d84f/execute\"\n",
      "\u001b[1;30m[19:47:00] \u001b[0m \u001b[0;35mCOMMAND\t\u001b[0mPOST \t \"/wd/hub/session/d729d8d4e56c7082da83206b0b79d84f/element\"\n",
      "\u001b[1;30m[19:47:00] \u001b[0m \u001b[0;35mCOMMAND\t\u001b[0mPOST \t \"/wd/hub/session/d729d8d4e56c7082da83206b0b79d84f/element/0.5862166321770352-1/click\"\n",
      "\u001b[1;30m[19:47:01] \u001b[0m \u001b[0;35mCOMMAND\t\u001b[0mGET \t \"/wd/hub/session/d729d8d4e56c7082da83206b0b79d84f/url\"\n",
      "\u001b[1;30m[19:47:02] \u001b[0m \u001b[0;35mCOMMAND\t\u001b[0mPOST \t \"/wd/hub/session/d729d8d4e56c7082da83206b0b79d84f/execute\"\n",
      "\u001b[1;30m[19:47:02] \u001b[0m \u001b[0;35mCOMMAND\t\u001b[0mPOST \t \"/wd/hub/session/d729d8d4e56c7082da83206b0b79d84f/execute\"\n",
      "\u001b[1;30m[19:47:02] \u001b[0m \u001b[0;35mCOMMAND\t\u001b[0mPOST \t \"/wd/hub/session/d729d8d4e56c7082da83206b0b79d84f/url\"\n",
      "\u001b[1;30m[19:47:07] \u001b[0m \u001b[0;35mCOMMAND\t\u001b[0mPOST \t \"/wd/hub/session/d729d8d4e56c7082da83206b0b79d84f/execute\"\n",
      "\u001b[1;30m[19:47:07] \u001b[0m \u001b[0;35mCOMMAND\t\u001b[0mPOST \t \"/wd/hub/session/d729d8d4e56c7082da83206b0b79d84f/execute\"\n",
      "\u001b[1;30m[19:47:09] \u001b[0m \u001b[0;35mCOMMAND\t\u001b[0mPOST \t \"/wd/hub/session/d729d8d4e56c7082da83206b0b79d84f/execute\"\n",
      "[ { from: 'Brian',\n",
      "    message: 'Brian\\nLiving the dream? Mm\\n',\n",
      "    time: 2017-11-23T01:59:00.000Z } ]\n",
      "\u001b[1;30m[19:47:09] \u001b[0m \u001b[0;35mCOMMAND\t\u001b[0mPOST \t \"/wd/hub/session/d729d8d4e56c7082da83206b0b79d84f/window\"\n",
      "\u001b[1;30m[19:47:09] \u001b[0m \u001b[0;35mCOMMAND\t\u001b[0mGET \t \"/wd/hub/session/d729d8d4e56c7082da83206b0b79d84f/url\"\n",
      "\u001b[1;30m[19:47:09] \u001b[0m \u001b[0;35mCOMMAND\t\u001b[0mPOST \t \"/wd/hub/session/d729d8d4e56c7082da83206b0b79d84f/execute\"\n",
      "\u001b[1;30m[19:47:09] \u001b[0m \u001b[0;35mCOMMAND\t\u001b[0mPOST \t \"/wd/hub/session/d729d8d4e56c7082da83206b0b79d84f/element\"\n",
      "\u001b[1;30m[19:47:09] \u001b[0m \u001b[0;35mCOMMAND\t\u001b[0mPOST \t \"/wd/hub/session/d729d8d4e56c7082da83206b0b79d84f/element/0.7663697355862107-1/click\"\n",
      "\u001b[1;30m[19:47:11] \u001b[0m \u001b[0;35mCOMMAND\t\u001b[0mGET \t \"/wd/hub/session/d729d8d4e56c7082da83206b0b79d84f/url\"\n",
      "\u001b[1;30m[19:47:12] \u001b[0m \u001b[0;35mCOMMAND\t\u001b[0mPOST \t \"/wd/hub/session/d729d8d4e56c7082da83206b0b79d84f/execute\"\n",
      "\u001b[1;30m[19:47:12] \u001b[0m \u001b[0;35mCOMMAND\t\u001b[0mPOST \t \"/wd/hub/session/d729d8d4e56c7082da83206b0b79d84f/execute\"\n",
      "\u001b[1;30m[19:47:12] \u001b[0m \u001b[0;35mCOMMAND\t\u001b[0mPOST \t \"/wd/hub/session/d729d8d4e56c7082da83206b0b79d84f/url\"\n",
      "\u001b[1;30m[19:47:17] \u001b[0m \u001b[0;35mCOMMAND\t\u001b[0mPOST \t \"/wd/hub/session/d729d8d4e56c7082da83206b0b79d84f/execute\"\n",
      "\u001b[1;30m[19:47:17] \u001b[0m \u001b[0;35mCOMMAND\t\u001b[0mPOST \t \"/wd/hub/session/d729d8d4e56c7082da83206b0b79d84f/execute\"\n",
      "\u001b[1;30m[19:47:19] \u001b[0m \u001b[0;35mCOMMAND\t\u001b[0mPOST \t \"/wd/hub/session/d729d8d4e56c7082da83206b0b79d84f/execute\"\n",
      "[ { from: 'Brian',\n",
      "    message: 'Brian\\nLiving the dream? Mm\\n',\n",
      "    time: 2017-11-23T01:59:00.000Z } ]\n",
      "\u001b[1;30m[19:47:19] \u001b[0m \u001b[0;35mCOMMAND\t\u001b[0mPOST \t \"/wd/hub/session/d729d8d4e56c7082da83206b0b79d84f/window\"\n",
      "\u001b[1;30m[19:47:19] \u001b[0m \u001b[0;35mCOMMAND\t\u001b[0mGET \t \"/wd/hub/session/d729d8d4e56c7082da83206b0b79d84f/url\"\n",
      "\u001b[1;30m[19:47:19] \u001b[0m \u001b[0;35mCOMMAND\t\u001b[0mPOST \t \"/wd/hub/session/d729d8d4e56c7082da83206b0b79d84f/execute\"\n",
      "\u001b[1;30m[19:47:19] \u001b[0m \u001b[0;35mCOMMAND\t\u001b[0mPOST \t \"/wd/hub/session/d729d8d4e56c7082da83206b0b79d84f/element\"\n",
      "\u001b[1;30m[19:47:19] \u001b[0m \u001b[0;35mCOMMAND\t\u001b[0mPOST \t \"/wd/hub/session/d729d8d4e56c7082da83206b0b79d84f/element/0.49598678433239884-1/click\"\n",
      "\u001b[1;30m[19:47:20] \u001b[0m \u001b[0;35mCOMMAND\t\u001b[0mGET \t \"/wd/hub/session/d729d8d4e56c7082da83206b0b79d84f/url\"\n",
      "\u001b[1;30m[19:47:21] \u001b[0m \u001b[0;35mCOMMAND\t\u001b[0mPOST \t \"/wd/hub/session/d729d8d4e56c7082da83206b0b79d84f/execute\"\n",
      "\u001b[1;30m[19:47:21] \u001b[0m \u001b[0;35mCOMMAND\t\u001b[0mPOST \t \"/wd/hub/session/d729d8d4e56c7082da83206b0b79d84f/execute\"\n",
      "\u001b[1;30m[19:47:21] \u001b[0m \u001b[0;35mCOMMAND\t\u001b[0mPOST \t \"/wd/hub/session/d729d8d4e56c7082da83206b0b79d84f/url\"\n",
      "\u001b[1;30m[19:47:26] \u001b[0m \u001b[0;35mCOMMAND\t\u001b[0mPOST \t \"/wd/hub/session/d729d8d4e56c7082da83206b0b79d84f/execute\"\n",
      "\u001b[1;30m[19:47:26] \u001b[0m \u001b[0;35mCOMMAND\t\u001b[0mPOST \t \"/wd/hub/session/d729d8d4e56c7082da83206b0b79d84f/execute\"\n",
      "\u001b[1;30m[19:47:28] \u001b[0m \u001b[0;35mCOMMAND\t\u001b[0mPOST \t \"/wd/hub/session/d729d8d4e56c7082da83206b0b79d84f/execute\"\n",
      "[ { from: 'Brian',\n",
      "    message: 'Brian\\nLiving the dream? Mm\\n',\n",
      "    time: 2017-11-23T01:59:00.000Z } ]\n",
      "\u001b[1;30m[19:47:28] \u001b[0m \u001b[0;35mCOMMAND\t\u001b[0mPOST \t \"/wd/hub/session/d729d8d4e56c7082da83206b0b79d84f/window\"\n",
      "\u001b[1;30m[19:47:28] \u001b[0m \u001b[0;35mCOMMAND\t\u001b[0mGET \t \"/wd/hub/session/d729d8d4e56c7082da83206b0b79d84f/url\"\n",
      "\u001b[1;30m[19:47:28] \u001b[0m \u001b[0;35mCOMMAND\t\u001b[0mPOST \t \"/wd/hub/session/d729d8d4e56c7082da83206b0b79d84f/execute\"\n",
      "\u001b[1;30m[19:47:29] \u001b[0m \u001b[0;35mCOMMAND\t\u001b[0mPOST \t \"/wd/hub/session/d729d8d4e56c7082da83206b0b79d84f/element\"\n",
      "\u001b[1;30m[19:47:29] \u001b[0m \u001b[0;35mCOMMAND\t\u001b[0mPOST \t \"/wd/hub/session/d729d8d4e56c7082da83206b0b79d84f/element/0.8572029745224321-1/click\"\n",
      "\u001b[1;30m[19:47:30] \u001b[0m \u001b[0;35mCOMMAND\t\u001b[0mGET \t \"/wd/hub/session/d729d8d4e56c7082da83206b0b79d84f/url\"\n",
      "\u001b[1;30m[19:47:31] \u001b[0m \u001b[0;35mCOMMAND\t\u001b[0mPOST \t \"/wd/hub/session/d729d8d4e56c7082da83206b0b79d84f/execute\"\n",
      "\u001b[1;30m[19:47:31] \u001b[0m \u001b[0;35mCOMMAND\t\u001b[0mPOST \t \"/wd/hub/session/d729d8d4e56c7082da83206b0b79d84f/execute\"\n",
      "\u001b[1;30m[19:47:31] \u001b[0m \u001b[0;35mCOMMAND\t\u001b[0mPOST \t \"/wd/hub/session/d729d8d4e56c7082da83206b0b79d84f/url\"\n",
      "\u001b[1;30m[19:47:36] \u001b[0m \u001b[0;35mCOMMAND\t\u001b[0mPOST \t \"/wd/hub/session/d729d8d4e56c7082da83206b0b79d84f/execute\"\n",
      "\u001b[1;30m[19:47:36] \u001b[0m \u001b[0;35mCOMMAND\t\u001b[0mPOST \t \"/wd/hub/session/d729d8d4e56c7082da83206b0b79d84f/execute\"\n",
      "\u001b[1;30m[19:47:38] \u001b[0m \u001b[0;35mCOMMAND\t\u001b[0mPOST \t \"/wd/hub/session/d729d8d4e56c7082da83206b0b79d84f/execute\"\n",
      "[ { from: 'Brian',\n",
      "    message: 'Brian\\nLiving the dream? Mm\\n',\n",
      "    time: 2017-11-23T01:59:00.000Z } ]\n",
      "\u001b[1;30m[19:47:38] \u001b[0m \u001b[0;35mCOMMAND\t\u001b[0mPOST \t \"/wd/hub/session/d729d8d4e56c7082da83206b0b79d84f/window\"\n",
      "\u001b[1;30m[19:47:38] \u001b[0m \u001b[0;35mCOMMAND\t\u001b[0mGET \t \"/wd/hub/session/d729d8d4e56c7082da83206b0b79d84f/url\"\n",
      "\u001b[1;30m[19:47:38] \u001b[0m \u001b[0;35mCOMMAND\t\u001b[0mPOST \t \"/wd/hub/session/d729d8d4e56c7082da83206b0b79d84f/execute\"\n",
      "\u001b[1;30m[19:47:38] \u001b[0m \u001b[0;35mCOMMAND\t\u001b[0mPOST \t \"/wd/hub/session/d729d8d4e56c7082da83206b0b79d84f/element\"\n",
      "\u001b[1;30m[19:47:38] \u001b[0m \u001b[0;35mCOMMAND\t\u001b[0mPOST \t \"/wd/hub/session/d729d8d4e56c7082da83206b0b79d84f/element/0.28915621045675044-1/click\"\n",
      "\u001b[1;30m[19:47:39] \u001b[0m \u001b[0;35mCOMMAND\t\u001b[0mGET \t \"/wd/hub/session/d729d8d4e56c7082da83206b0b79d84f/url\"\n",
      "\u001b[1;30m[19:47:41] \u001b[0m \u001b[0;35mCOMMAND\t\u001b[0mPOST \t \"/wd/hub/session/d729d8d4e56c7082da83206b0b79d84f/execute\"\n",
      "\u001b[1;30m[19:47:41] \u001b[0m \u001b[0;35mCOMMAND\t\u001b[0mPOST \t \"/wd/hub/session/d729d8d4e56c7082da83206b0b79d84f/execute\"\n",
      "\u001b[1;30m[19:47:41] \u001b[0m \u001b[0;35mCOMMAND\t\u001b[0mPOST \t \"/wd/hub/session/d729d8d4e56c7082da83206b0b79d84f/url\"\n",
      "\u001b[1;30m[19:47:45] \u001b[0m \u001b[0;35mCOMMAND\t\u001b[0mPOST \t \"/wd/hub/session/d729d8d4e56c7082da83206b0b79d84f/execute\"\n",
      "\u001b[1;30m[19:47:46] \u001b[0m \u001b[0;35mCOMMAND\t\u001b[0mPOST \t \"/wd/hub/session/d729d8d4e56c7082da83206b0b79d84f/execute\"\n",
      "\u001b[1;30m[19:47:48] \u001b[0m \u001b[0;35mCOMMAND\t\u001b[0mPOST \t \"/wd/hub/session/d729d8d4e56c7082da83206b0b79d84f/execute\"\n",
      "[ { from: 'Brian',\n",
      "    message: 'Brian\\nLiving the dream? Mm\\n',\n",
      "    time: 2017-11-23T01:59:00.000Z } ]\n",
      "\u001b[1;30m[19:47:48] \u001b[0m \u001b[0;35mCOMMAND\t\u001b[0mPOST \t \"/wd/hub/session/d729d8d4e56c7082da83206b0b79d84f/window\"\n",
      "\u001b[1;30m[19:47:48] \u001b[0m \u001b[0;35mCOMMAND\t\u001b[0mGET \t \"/wd/hub/session/d729d8d4e56c7082da83206b0b79d84f/url\"\n",
      "\u001b[1;30m[19:47:48] \u001b[0m \u001b[0;35mCOMMAND\t\u001b[0mPOST \t \"/wd/hub/session/d729d8d4e56c7082da83206b0b79d84f/execute\"\n",
      "\u001b[1;30m[19:47:48] \u001b[0m \u001b[0;35mCOMMAND\t\u001b[0mPOST \t \"/wd/hub/session/d729d8d4e56c7082da83206b0b79d84f/element\"\n",
      "\u001b[1;30m[19:47:48] \u001b[0m \u001b[0;35mCOMMAND\t\u001b[0mPOST \t \"/wd/hub/session/d729d8d4e56c7082da83206b0b79d84f/element/0.34165477557653956-1/click\"\n",
      "\u001b[1;30m[19:47:49] \u001b[0m \u001b[0;35mCOMMAND\t\u001b[0mGET \t \"/wd/hub/session/d729d8d4e56c7082da83206b0b79d84f/url\"\n",
      "\u001b[1;30m[19:47:50] \u001b[0m \u001b[0;35mCOMMAND\t\u001b[0mPOST \t \"/wd/hub/session/d729d8d4e56c7082da83206b0b79d84f/execute\"\n",
      "\u001b[1;30m[19:47:50] \u001b[0m \u001b[0;35mCOMMAND\t\u001b[0mPOST \t \"/wd/hub/session/d729d8d4e56c7082da83206b0b79d84f/execute\"\n",
      "\u001b[1;30m[19:47:50] \u001b[0m \u001b[0;35mCOMMAND\t\u001b[0mPOST \t \"/wd/hub/session/d729d8d4e56c7082da83206b0b79d84f/url\"\n",
      "\u001b[1;30m[19:47:55] \u001b[0m \u001b[0;35mCOMMAND\t\u001b[0mPOST \t \"/wd/hub/session/d729d8d4e56c7082da83206b0b79d84f/execute\"\n",
      "\u001b[1;30m[19:47:55] \u001b[0m \u001b[0;35mCOMMAND\t\u001b[0mPOST \t \"/wd/hub/session/d729d8d4e56c7082da83206b0b79d84f/execute\"\n",
      "\u001b[1;30m[19:47:57] \u001b[0m \u001b[0;35mCOMMAND\t\u001b[0mPOST \t \"/wd/hub/session/d729d8d4e56c7082da83206b0b79d84f/execute\"\n",
      "[ { from: 'Brian',\n",
      "    message: 'Brian\\nLiving the dream? Mm\\n',\n",
      "    time: 2017-11-23T01:59:00.000Z } ]\n",
      "\u001b[1;30m[19:47:57] \u001b[0m \u001b[0;35mCOMMAND\t\u001b[0mPOST \t \"/wd/hub/session/d729d8d4e56c7082da83206b0b79d84f/window\"\n",
      "\u001b[1;30m[19:47:57] \u001b[0m \u001b[0;35mCOMMAND\t\u001b[0mGET \t \"/wd/hub/session/d729d8d4e56c7082da83206b0b79d84f/url\"\n",
      "\u001b[1;30m[19:47:57] \u001b[0m \u001b[0;35mCOMMAND\t\u001b[0mPOST \t \"/wd/hub/session/d729d8d4e56c7082da83206b0b79d84f/execute\"\n",
      "\u001b[1;30m[19:47:57] \u001b[0m \u001b[0;35mCOMMAND\t\u001b[0mPOST \t \"/wd/hub/session/d729d8d4e56c7082da83206b0b79d84f/element\"\n",
      "\u001b[1;30m[19:47:57] \u001b[0m \u001b[0;35mCOMMAND\t\u001b[0mPOST \t \"/wd/hub/session/d729d8d4e56c7082da83206b0b79d84f/element/0.7179298601544017-1/click\"\n",
      "\u001b[1;30m[19:47:59] \u001b[0m \u001b[0;35mCOMMAND\t\u001b[0mGET \t \"/wd/hub/session/d729d8d4e56c7082da83206b0b79d84f/url\"\n",
      "\u001b[1;30m[19:48:00] \u001b[0m \u001b[0;35mCOMMAND\t\u001b[0mPOST \t \"/wd/hub/session/d729d8d4e56c7082da83206b0b79d84f/execute\"\n",
      "\u001b[1;30m[19:48:00] \u001b[0m \u001b[0;35mCOMMAND\t\u001b[0mPOST \t \"/wd/hub/session/d729d8d4e56c7082da83206b0b79d84f/execute\"\n",
      "\u001b[1;30m[19:48:00] \u001b[0m \u001b[0;35mCOMMAND\t\u001b[0mPOST \t \"/wd/hub/session/d729d8d4e56c7082da83206b0b79d84f/url\"\n",
      "\u001b[1;30m[19:48:05] \u001b[0m \u001b[0;35mCOMMAND\t\u001b[0mPOST \t \"/wd/hub/session/d729d8d4e56c7082da83206b0b79d84f/execute\"\n",
      "\u001b[1;30m[19:48:05] \u001b[0m \u001b[0;35mCOMMAND\t\u001b[0mPOST \t \"/wd/hub/session/d729d8d4e56c7082da83206b0b79d84f/execute\"\n",
      "\u001b[1;30m[19:48:07] \u001b[0m \u001b[0;35mCOMMAND\t\u001b[0mPOST \t \"/wd/hub/session/d729d8d4e56c7082da83206b0b79d84f/execute\"\n",
      "[ { from: 'Brian',\n",
      "    message: 'Brian\\nLiving the dream? Mm\\n',\n",
      "    time: 2017-11-23T02:00:00.000Z } ]\n",
      "\u001b[1;30m[19:48:07] \u001b[0m \u001b[0;35mCOMMAND\t\u001b[0mPOST \t \"/wd/hub/session/d729d8d4e56c7082da83206b0b79d84f/window\"\n",
      "\u001b[1;30m[19:48:07] \u001b[0m \u001b[0;35mCOMMAND\t\u001b[0mGET \t \"/wd/hub/session/d729d8d4e56c7082da83206b0b79d84f/url\"\n",
      "\u001b[1;30m[19:48:07] \u001b[0m \u001b[0;35mCOMMAND\t\u001b[0mPOST \t \"/wd/hub/session/d729d8d4e56c7082da83206b0b79d84f/execute\"\n",
      "\u001b[1;30m[19:48:07] \u001b[0m \u001b[0;35mCOMMAND\t\u001b[0mPOST \t \"/wd/hub/session/d729d8d4e56c7082da83206b0b79d84f/element\"\n",
      "\u001b[1;30m[19:48:07] \u001b[0m \u001b[0;35mCOMMAND\t\u001b[0mPOST \t \"/wd/hub/session/d729d8d4e56c7082da83206b0b79d84f/element/0.7613258704513592-1/click\"\n",
      "\u001b[1;30m[19:48:08] \u001b[0m \u001b[0;35mCOMMAND\t\u001b[0mGET \t \"/wd/hub/session/d729d8d4e56c7082da83206b0b79d84f/url\"\n",
      "\u001b[1;30m[19:48:09] \u001b[0m \u001b[0;35mCOMMAND\t\u001b[0mPOST \t \"/wd/hub/session/d729d8d4e56c7082da83206b0b79d84f/execute\"\n",
      "\u001b[1;30m[19:48:09] \u001b[0m \u001b[0;35mCOMMAND\t\u001b[0mPOST \t \"/wd/hub/session/d729d8d4e56c7082da83206b0b79d84f/execute\"\n",
      "\u001b[1;30m[19:48:09] \u001b[0m \u001b[0;35mCOMMAND\t\u001b[0mPOST \t \"/wd/hub/session/d729d8d4e56c7082da83206b0b79d84f/url\"\n",
      "\u001b[1;30m[19:48:14] \u001b[0m \u001b[0;35mCOMMAND\t\u001b[0mPOST \t \"/wd/hub/session/d729d8d4e56c7082da83206b0b79d84f/execute\"\n",
      "\u001b[1;30m[19:48:14] \u001b[0m \u001b[0;35mCOMMAND\t\u001b[0mPOST \t \"/wd/hub/session/d729d8d4e56c7082da83206b0b79d84f/execute\"\n",
      "\u001b[1;30m[19:48:16] \u001b[0m \u001b[0;35mCOMMAND\t\u001b[0mPOST \t \"/wd/hub/session/d729d8d4e56c7082da83206b0b79d84f/execute\"\n",
      "[]\n",
      "\u001b[1;30m[19:48:16] \u001b[0m \u001b[0;35mCOMMAND\t\u001b[0mPOST \t \"/wd/hub/session/d729d8d4e56c7082da83206b0b79d84f/element\"\n",
      "{ Error: An element could not be located on the page using the given search parameters.\n",
      "    at element(\"//*[contains(@aria-label, \"Type a message\")]\") - click.js:12:17\n",
      "    at keys(\"\") - facebook connections.ipynb[3]:8:10\n",
      "  type: 'NoSuchElement',\n",
      "  message: 'An element could not be located on the page using the given search parameters.' }\n",
      "\u001b[1;30m[19:48:16] \u001b[0m \u001b[0;35mCOMMAND\t\u001b[0mPOST \t \"/wd/hub/session/d729d8d4e56c7082da83206b0b79d84f/window\"\n",
      "\u001b[1;30m[19:48:16] \u001b[0m \u001b[0;35mCOMMAND\t\u001b[0mGET \t \"/wd/hub/session/d729d8d4e56c7082da83206b0b79d84f/url\"\n",
      "\u001b[1;30m[19:48:16] \u001b[0m \u001b[0;35mCOMMAND\t\u001b[0mPOST \t \"/wd/hub/session/d729d8d4e56c7082da83206b0b79d84f/execute\"\n",
      "\u001b[1;30m[19:48:16] \u001b[0m \u001b[0;35mCOMMAND\t\u001b[0mPOST \t \"/wd/hub/session/d729d8d4e56c7082da83206b0b79d84f/element\"\n",
      "\u001b[1;30m[19:48:16] \u001b[0m \u001b[0;35mCOMMAND\t\u001b[0mPOST \t \"/wd/hub/session/d729d8d4e56c7082da83206b0b79d84f/element/0.7113884485937241-1/click\"\n",
      "\u001b[1;30m[19:48:18] \u001b[0m \u001b[0;35mCOMMAND\t\u001b[0mGET \t \"/wd/hub/session/d729d8d4e56c7082da83206b0b79d84f/url\"\n",
      "\u001b[1;30m[19:48:19] \u001b[0m \u001b[0;35mCOMMAND\t\u001b[0mPOST \t \"/wd/hub/session/d729d8d4e56c7082da83206b0b79d84f/execute\"\n",
      "\u001b[1;30m[19:48:19] \u001b[0m \u001b[0;35mCOMMAND\t\u001b[0mPOST \t \"/wd/hub/session/d729d8d4e56c7082da83206b0b79d84f/execute\"\n",
      "\u001b[1;30m[19:48:19] \u001b[0m \u001b[0;35mCOMMAND\t\u001b[0mPOST \t \"/wd/hub/session/d729d8d4e56c7082da83206b0b79d84f/url\"\n",
      "\u001b[1;30m[19:48:24] \u001b[0m \u001b[0;35mCOMMAND\t\u001b[0mPOST \t \"/wd/hub/session/d729d8d4e56c7082da83206b0b79d84f/execute\"\n",
      "\u001b[1;30m[19:48:24] \u001b[0m \u001b[0;35mCOMMAND\t\u001b[0mPOST \t \"/wd/hub/session/d729d8d4e56c7082da83206b0b79d84f/execute\"\n",
      "\u001b[1;30m[19:48:26] \u001b[0m \u001b[0;35mCOMMAND\t\u001b[0mPOST \t \"/wd/hub/session/d729d8d4e56c7082da83206b0b79d84f/execute\"\n",
      "[ { from: 'Brian',\n",
      "    message: 'Brian\\nLiving the dream? Mm\\n',\n",
      "    time: 2017-11-23T02:00:00.000Z } ]\n",
      "\u001b[1;30m[19:48:26] \u001b[0m \u001b[0;35mCOMMAND\t\u001b[0mPOST \t \"/wd/hub/session/d729d8d4e56c7082da83206b0b79d84f/window\"\n",
      "\u001b[1;30m[19:48:26] \u001b[0m \u001b[0;35mCOMMAND\t\u001b[0mGET \t \"/wd/hub/session/d729d8d4e56c7082da83206b0b79d84f/url\"\n",
      "\u001b[1;30m[19:48:26] \u001b[0m \u001b[0;35mCOMMAND\t\u001b[0mPOST \t \"/wd/hub/session/d729d8d4e56c7082da83206b0b79d84f/execute\"\n",
      "\u001b[1;30m[19:48:26] \u001b[0m \u001b[0;35mCOMMAND\t\u001b[0mPOST \t \"/wd/hub/session/d729d8d4e56c7082da83206b0b79d84f/element\"\n",
      "\u001b[1;30m[19:48:26] \u001b[0m \u001b[0;35mCOMMAND\t\u001b[0mPOST \t \"/wd/hub/session/d729d8d4e56c7082da83206b0b79d84f/element/0.4777532697638187-1/click\"\n",
      "\u001b[1;30m[19:48:27] \u001b[0m \u001b[0;35mCOMMAND\t\u001b[0mGET \t \"/wd/hub/session/d729d8d4e56c7082da83206b0b79d84f/url\"\n",
      "\u001b[1;30m[19:48:29] \u001b[0m \u001b[0;35mCOMMAND\t\u001b[0mPOST \t \"/wd/hub/session/d729d8d4e56c7082da83206b0b79d84f/execute\"\n",
      "\u001b[1;30m[19:48:29] \u001b[0m \u001b[0;35mCOMMAND\t\u001b[0mPOST \t \"/wd/hub/session/d729d8d4e56c7082da83206b0b79d84f/execute\"\n",
      "\u001b[1;30m[19:48:29] \u001b[0m \u001b[0;35mCOMMAND\t\u001b[0mPOST \t \"/wd/hub/session/d729d8d4e56c7082da83206b0b79d84f/element/0.4777532697638187-2/click\"\n",
      "\u001b[1;30m[19:48:33] \u001b[0m \u001b[0;35mCOMMAND\t\u001b[0mPOST \t \"/wd/hub/session/d729d8d4e56c7082da83206b0b79d84f/elements\"\n",
      "\u001b[1;30m[19:48:33] \u001b[0m \u001b[0;35mCOMMAND\t\u001b[0mPOST \t \"/wd/hub/session/d729d8d4e56c7082da83206b0b79d84f/elements\"\n",
      "\u001b[1;30m[19:48:33] \u001b[0m \u001b[0;35mCOMMAND\t\u001b[0mGET \t \"/wd/hub/session/d729d8d4e56c7082da83206b0b79d84f/url\"\n",
      "\u001b[1;30m[19:48:33] \u001b[0m \u001b[0;35mCOMMAND\t\u001b[0mGET \t \"/wd/hub/session/d729d8d4e56c7082da83206b0b79d84f/element/0.5937224479753067-1/text\"\n",
      "\u001b[1;30m[19:48:33] \u001b[0m \u001b[0;35mCOMMAND\t\u001b[0mPOST \t \"/wd/hub/session/d729d8d4e56c7082da83206b0b79d84f/elements\"\n",
      "\u001b[1;30m[19:48:33] \u001b[0m \u001b[0;35mCOMMAND\t\u001b[0mGET \t \"/wd/hub/session/d729d8d4e56c7082da83206b0b79d84f/element/0.5937224479753067-2/text\"\n",
      "\u001b[1;30m[19:48:33] \u001b[0m \u001b[0;35mCOMMAND\t\u001b[0mGET \t \"/wd/hub/session/d729d8d4e56c7082da83206b0b79d84f/element/0.5937224479753067-3/text\"\n",
      "\u001b[1;30m[19:48:33] \u001b[0m \u001b[0;35mCOMMAND\t\u001b[0mGET \t \"/wd/hub/session/d729d8d4e56c7082da83206b0b79d84f/element/0.5937224479753067-4/text\"\n",
      "\u001b[1;30m[19:48:33] \u001b[0m \u001b[0;35mCOMMAND\t\u001b[0mGET \t \"/wd/hub/session/d729d8d4e56c7082da83206b0b79d84f/element/0.5937224479753067-5/text\"\n",
      "\u001b[1;30m[19:48:34] \u001b[0m \u001b[0;35mCOMMAND\t\u001b[0mPOST \t \"/wd/hub/session/d729d8d4e56c7082da83206b0b79d84f/url\"\n",
      "\u001b[1;30m[19:48:39] \u001b[0m \u001b[0;35mCOMMAND\t\u001b[0mPOST \t \"/wd/hub/session/d729d8d4e56c7082da83206b0b79d84f/execute\"\n",
      "\u001b[1;30m[19:48:39] \u001b[0m \u001b[0;35mCOMMAND\t\u001b[0mPOST \t \"/wd/hub/session/d729d8d4e56c7082da83206b0b79d84f/execute\"\n",
      "\u001b[1;30m[19:48:41] \u001b[0m \u001b[0;35mCOMMAND\t\u001b[0mPOST \t \"/wd/hub/session/d729d8d4e56c7082da83206b0b79d84f/execute\"\n",
      "[ { from: 'Brian',\n",
      "    message: 'Brian\\nLiving the dream?\\n',\n",
      "    time: 2017-10-31T17:07:00.000Z } ]\n",
      "\u001b[1;30m[19:48:41] \u001b[0m \u001b[0;35mCOMMAND\t\u001b[0mPOST \t \"/wd/hub/session/d729d8d4e56c7082da83206b0b79d84f/window\"\n",
      "\u001b[1;30m[19:48:41] \u001b[0m \u001b[0;35mCOMMAND\t\u001b[0mGET \t \"/wd/hub/session/d729d8d4e56c7082da83206b0b79d84f/url\"\n",
      "\u001b[1;30m[19:48:41] \u001b[0m \u001b[0;35mCOMMAND\t\u001b[0mPOST \t \"/wd/hub/session/d729d8d4e56c7082da83206b0b79d84f/execute\"\n",
      "\u001b[1;30m[19:48:41] \u001b[0m \u001b[0;35mCOMMAND\t\u001b[0mPOST \t \"/wd/hub/session/d729d8d4e56c7082da83206b0b79d84f/element\"\n",
      "\u001b[1;30m[19:48:41] \u001b[0m \u001b[0;35mCOMMAND\t\u001b[0mPOST \t \"/wd/hub/session/d729d8d4e56c7082da83206b0b79d84f/element/0.9168894534771461-1/click\"\n",
      "\u001b[1;30m[19:48:42] \u001b[0m \u001b[0;35mCOMMAND\t\u001b[0mGET \t \"/wd/hub/session/d729d8d4e56c7082da83206b0b79d84f/url\"\n",
      "\u001b[1;30m[19:48:43] \u001b[0m \u001b[0;35mCOMMAND\t\u001b[0mPOST \t \"/wd/hub/session/d729d8d4e56c7082da83206b0b79d84f/execute\"\n",
      "\u001b[1;30m[19:48:43] \u001b[0m \u001b[0;35mCOMMAND\t\u001b[0mPOST \t \"/wd/hub/session/d729d8d4e56c7082da83206b0b79d84f/execute\"\n",
      "\u001b[1;30m[19:48:43] \u001b[0m \u001b[0;35mCOMMAND\t\u001b[0mPOST \t \"/wd/hub/session/d729d8d4e56c7082da83206b0b79d84f/url\"\n",
      "\u001b[1;30m[19:48:48] \u001b[0m \u001b[0;35mCOMMAND\t\u001b[0mPOST \t \"/wd/hub/session/d729d8d4e56c7082da83206b0b79d84f/execute\"\n",
      "\u001b[1;30m[19:48:48] \u001b[0m \u001b[0;35mCOMMAND\t\u001b[0mPOST \t \"/wd/hub/session/d729d8d4e56c7082da83206b0b79d84f/execute\"\n",
      "\u001b[1;30m[19:48:50] \u001b[0m \u001b[0;35mCOMMAND\t\u001b[0mPOST \t \"/wd/hub/session/d729d8d4e56c7082da83206b0b79d84f/execute\"\n",
      "[ { from: 'Brian',\n",
      "    message: 'Brian\\nLiving the dream? Mm\\n',\n",
      "    time: 2017-11-23T02:00:00.000Z } ]\n",
      "\u001b[1;30m[19:48:50] \u001b[0m \u001b[0;35mCOMMAND\t\u001b[0mPOST \t \"/wd/hub/session/d729d8d4e56c7082da83206b0b79d84f/window\"\n",
      "\u001b[1;30m[19:48:50] \u001b[0m \u001b[0;35mCOMMAND\t\u001b[0mGET \t \"/wd/hub/session/d729d8d4e56c7082da83206b0b79d84f/url\"\n",
      "\u001b[1;30m[19:48:50] \u001b[0m \u001b[0;35mCOMMAND\t\u001b[0mPOST \t \"/wd/hub/session/d729d8d4e56c7082da83206b0b79d84f/execute\"\n",
      "\u001b[1;30m[19:48:50] \u001b[0m \u001b[0;35mCOMMAND\t\u001b[0mPOST \t \"/wd/hub/session/d729d8d4e56c7082da83206b0b79d84f/element\"\n",
      "\u001b[1;30m[19:48:50] \u001b[0m \u001b[0;35mCOMMAND\t\u001b[0mPOST \t \"/wd/hub/session/d729d8d4e56c7082da83206b0b79d84f/element/0.2510651391507601-1/click\"\n",
      "\u001b[1;30m[19:48:52] \u001b[0m \u001b[0;35mCOMMAND\t\u001b[0mGET \t \"/wd/hub/session/d729d8d4e56c7082da83206b0b79d84f/url\"\n",
      "\u001b[1;30m[19:48:53] \u001b[0m \u001b[0;35mCOMMAND\t\u001b[0mPOST \t \"/wd/hub/session/d729d8d4e56c7082da83206b0b79d84f/execute\"\n",
      "\u001b[1;30m[19:48:53] \u001b[0m \u001b[0;35mCOMMAND\t\u001b[0mPOST \t \"/wd/hub/session/d729d8d4e56c7082da83206b0b79d84f/execute\"\n",
      "\u001b[1;30m[19:48:53] \u001b[0m \u001b[0;35mCOMMAND\t\u001b[0mPOST \t \"/wd/hub/session/d729d8d4e56c7082da83206b0b79d84f/url\"\n",
      "\u001b[1;30m[19:48:58] \u001b[0m \u001b[0;35mCOMMAND\t\u001b[0mPOST \t \"/wd/hub/session/d729d8d4e56c7082da83206b0b79d84f/execute\"\n",
      "\u001b[1;30m[19:48:58] \u001b[0m \u001b[0;35mCOMMAND\t\u001b[0mPOST \t \"/wd/hub/session/d729d8d4e56c7082da83206b0b79d84f/execute\"\n",
      "\u001b[1;30m[19:49:00] \u001b[0m \u001b[0;35mCOMMAND\t\u001b[0mPOST \t \"/wd/hub/session/d729d8d4e56c7082da83206b0b79d84f/execute\"\n",
      "[ { from: 'Brian',\n",
      "    message: 'Brian\\nLiving the dream? Mm\\n',\n",
      "    time: 2017-11-23T02:01:00.000Z } ]\n",
      "\u001b[1;30m[19:49:00] \u001b[0m \u001b[0;35mCOMMAND\t\u001b[0mPOST \t \"/wd/hub/session/d729d8d4e56c7082da83206b0b79d84f/window\"\n",
      "\u001b[1;30m[19:49:00] \u001b[0m \u001b[0;35mCOMMAND\t\u001b[0mGET \t \"/wd/hub/session/d729d8d4e56c7082da83206b0b79d84f/url\"\n",
      "\u001b[1;30m[19:49:00] \u001b[0m \u001b[0;35mCOMMAND\t\u001b[0mPOST \t \"/wd/hub/session/d729d8d4e56c7082da83206b0b79d84f/execute\"\n",
      "\u001b[1;30m[19:49:00] \u001b[0m \u001b[0;35mCOMMAND\t\u001b[0mPOST \t \"/wd/hub/session/d729d8d4e56c7082da83206b0b79d84f/element\"\n",
      "\u001b[1;30m[19:49:01] \u001b[0m \u001b[0;35mCOMMAND\t\u001b[0mPOST \t \"/wd/hub/session/d729d8d4e56c7082da83206b0b79d84f/element/0.9206347164103859-1/click\"\n",
      "\u001b[1;30m[19:49:02] \u001b[0m \u001b[0;35mCOMMAND\t\u001b[0mGET \t \"/wd/hub/session/d729d8d4e56c7082da83206b0b79d84f/url\"\n",
      "\u001b[1;30m[19:49:03] \u001b[0m \u001b[0;35mCOMMAND\t\u001b[0mPOST \t \"/wd/hub/session/d729d8d4e56c7082da83206b0b79d84f/execute\"\n",
      "\u001b[1;30m[19:49:03] \u001b[0m \u001b[0;35mCOMMAND\t\u001b[0mPOST \t \"/wd/hub/session/d729d8d4e56c7082da83206b0b79d84f/execute\"\n",
      "\u001b[1;30m[19:49:03] \u001b[0m \u001b[0;35mCOMMAND\t\u001b[0mPOST \t \"/wd/hub/session/d729d8d4e56c7082da83206b0b79d84f/url\"\n",
      "\u001b[1;30m[19:49:08] \u001b[0m \u001b[0;35mCOMMAND\t\u001b[0mPOST \t \"/wd/hub/session/d729d8d4e56c7082da83206b0b79d84f/execute\"\n",
      "\u001b[1;30m[19:49:08] \u001b[0m \u001b[0;35mCOMMAND\t\u001b[0mPOST \t \"/wd/hub/session/d729d8d4e56c7082da83206b0b79d84f/execute\"\n",
      "\u001b[1;30m[19:49:10] \u001b[0m \u001b[0;35mCOMMAND\t\u001b[0mPOST \t \"/wd/hub/session/d729d8d4e56c7082da83206b0b79d84f/execute\"\n",
      "[ { from: 'Brian',\n",
      "    message: 'Brian\\nLiving the dream? Mm\\n',\n",
      "    time: 2017-11-23T02:14:00.000Z } ]\n",
      "\u001b[1;30m[19:49:10] \u001b[0m \u001b[0;35mCOMMAND\t\u001b[0mPOST \t \"/wd/hub/session/d729d8d4e56c7082da83206b0b79d84f/window\"\n",
      "\u001b[1;30m[19:49:10] \u001b[0m \u001b[0;35mCOMMAND\t\u001b[0mGET \t \"/wd/hub/session/d729d8d4e56c7082da83206b0b79d84f/url\"\n",
      "\u001b[1;30m[19:49:10] \u001b[0m \u001b[0;35mCOMMAND\t\u001b[0mPOST \t \"/wd/hub/session/d729d8d4e56c7082da83206b0b79d84f/execute\"\n",
      "\u001b[1;30m[19:49:10] \u001b[0m \u001b[0;35mCOMMAND\t\u001b[0mPOST \t \"/wd/hub/session/d729d8d4e56c7082da83206b0b79d84f/element\"\n",
      "\u001b[1;30m[19:49:10] \u001b[0m \u001b[0;35mCOMMAND\t\u001b[0mPOST \t \"/wd/hub/session/d729d8d4e56c7082da83206b0b79d84f/element/0.39393085470240274-1/click\"\n",
      "\u001b[1;30m[19:49:12] \u001b[0m \u001b[0;35mCOMMAND\t\u001b[0mGET \t \"/wd/hub/session/d729d8d4e56c7082da83206b0b79d84f/url\"\n",
      "\u001b[1;30m[19:49:13] \u001b[0m \u001b[0;35mCOMMAND\t\u001b[0mPOST \t \"/wd/hub/session/d729d8d4e56c7082da83206b0b79d84f/execute\"\n",
      "\u001b[1;30m[19:49:13] \u001b[0m \u001b[0;35mCOMMAND\t\u001b[0mPOST \t \"/wd/hub/session/d729d8d4e56c7082da83206b0b79d84f/execute\"\n",
      "\u001b[1;30m[19:49:13] \u001b[0m \u001b[0;35mCOMMAND\t\u001b[0mPOST \t \"/wd/hub/session/d729d8d4e56c7082da83206b0b79d84f/element/0.39393085470240274-2/click\"\n",
      "\u001b[1;30m[19:49:17] \u001b[0m \u001b[0;35mCOMMAND\t\u001b[0mPOST \t \"/wd/hub/session/d729d8d4e56c7082da83206b0b79d84f/elements\"\n",
      "\u001b[1;30m[19:49:17] \u001b[0m \u001b[0;35mCOMMAND\t\u001b[0mPOST \t \"/wd/hub/session/d729d8d4e56c7082da83206b0b79d84f/elements\"\n",
      "\u001b[1;30m[19:49:17] \u001b[0m \u001b[0;35mCOMMAND\t\u001b[0mGET \t \"/wd/hub/session/d729d8d4e56c7082da83206b0b79d84f/url\"\n",
      "\u001b[1;30m[19:49:17] \u001b[0m \u001b[0;35mCOMMAND\t\u001b[0mPOST \t \"/wd/hub/session/d729d8d4e56c7082da83206b0b79d84f/elements\"\n",
      "\u001b[1;30m[19:49:17] \u001b[0m \u001b[0;35mCOMMAND\t\u001b[0mGET \t \"/wd/hub/session/d729d8d4e56c7082da83206b0b79d84f/element/0.3461577151024786-13/text\"\n",
      "\u001b[1;30m[19:49:17] \u001b[0m \u001b[0;35mCOMMAND\t\u001b[0mGET \t \"/wd/hub/session/d729d8d4e56c7082da83206b0b79d84f/element/0.3461577151024786-1/text\"\n",
      "\u001b[1;30m[19:49:17] \u001b[0m \u001b[0;35mCOMMAND\t\u001b[0mGET \t \"/wd/hub/session/d729d8d4e56c7082da83206b0b79d84f/element/0.3461577151024786-2/text\"\n",
      "\u001b[1;30m[19:49:17] \u001b[0m \u001b[0;35mCOMMAND\t\u001b[0mGET \t \"/wd/hub/session/d729d8d4e56c7082da83206b0b79d84f/element/0.3461577151024786-3/text\"\n",
      "\u001b[1;30m[19:49:17] \u001b[0m \u001b[0;35mCOMMAND\t\u001b[0mGET \t \"/wd/hub/session/d729d8d4e56c7082da83206b0b79d84f/element/0.3461577151024786-4/text\"\n",
      "\u001b[1;30m[19:49:17] \u001b[0m \u001b[0;35mCOMMAND\t\u001b[0mGET \t \"/wd/hub/session/d729d8d4e56c7082da83206b0b79d84f/element/0.3461577151024786-5/text\"\n",
      "\u001b[1;30m[19:49:17] \u001b[0m \u001b[0;35mCOMMAND\t\u001b[0mGET \t \"/wd/hub/session/d729d8d4e56c7082da83206b0b79d84f/element/0.3461577151024786-6/text\"\n",
      "\u001b[1;30m[19:49:17] \u001b[0m \u001b[0;35mCOMMAND\t\u001b[0mGET \t \"/wd/hub/session/d729d8d4e56c7082da83206b0b79d84f/element/0.3461577151024786-7/text\"\n",
      "\u001b[1;30m[19:49:17] \u001b[0m \u001b[0;35mCOMMAND\t\u001b[0mGET \t \"/wd/hub/session/d729d8d4e56c7082da83206b0b79d84f/element/0.3461577151024786-8/text\"\n",
      "\u001b[1;30m[19:49:17] \u001b[0m \u001b[0;35mCOMMAND\t\u001b[0mGET \t \"/wd/hub/session/d729d8d4e56c7082da83206b0b79d84f/element/0.3461577151024786-9/text\"\n",
      "\u001b[1;30m[19:49:17] \u001b[0m \u001b[0;35mCOMMAND\t\u001b[0mGET \t \"/wd/hub/session/d729d8d4e56c7082da83206b0b79d84f/element/0.3461577151024786-10/text\"\n",
      "\u001b[1;30m[19:49:17] \u001b[0m \u001b[0;35mCOMMAND\t\u001b[0mGET \t \"/wd/hub/session/d729d8d4e56c7082da83206b0b79d84f/element/0.3461577151024786-11/text\"\n",
      "\u001b[1;30m[19:49:17] \u001b[0m \u001b[0;35mCOMMAND\t\u001b[0mGET \t \"/wd/hub/session/d729d8d4e56c7082da83206b0b79d84f/element/0.3461577151024786-12/text\"\n",
      "\u001b[1;30m[19:49:18] \u001b[0m \u001b[0;35mCOMMAND\t\u001b[0mPOST \t \"/wd/hub/session/d729d8d4e56c7082da83206b0b79d84f/url\"\n",
      "\u001b[1;30m[19:49:23] \u001b[0m \u001b[0;35mCOMMAND\t\u001b[0mPOST \t \"/wd/hub/session/d729d8d4e56c7082da83206b0b79d84f/execute\"\n",
      "\u001b[1;30m[19:49:23] \u001b[0m \u001b[0;35mCOMMAND\t\u001b[0mPOST \t \"/wd/hub/session/d729d8d4e56c7082da83206b0b79d84f/execute\"\n",
      "\u001b[1;30m[19:49:25] \u001b[0m \u001b[0;35mCOMMAND\t\u001b[0mPOST \t \"/wd/hub/session/d729d8d4e56c7082da83206b0b79d84f/execute\"\n",
      "[ { from: 'Brian',\n",
      "    message: 'Brian\\nLiving the dream? Mm\\n',\n",
      "    time: 2017-11-23T02:14:00.000Z } ]\n",
      "\u001b[1;30m[19:49:25] \u001b[0m \u001b[0;35mCOMMAND\t\u001b[0mPOST \t \"/wd/hub/session/d729d8d4e56c7082da83206b0b79d84f/window\"\n",
      "\u001b[1;30m[19:49:25] \u001b[0m \u001b[0;35mCOMMAND\t\u001b[0mGET \t \"/wd/hub/session/d729d8d4e56c7082da83206b0b79d84f/url\"\n",
      "\u001b[1;30m[19:49:25] \u001b[0m \u001b[0;35mCOMMAND\t\u001b[0mPOST \t \"/wd/hub/session/d729d8d4e56c7082da83206b0b79d84f/execute\"\n",
      "\u001b[1;30m[19:49:25] \u001b[0m \u001b[0;35mCOMMAND\t\u001b[0mPOST \t \"/wd/hub/session/d729d8d4e56c7082da83206b0b79d84f/element\"\n",
      "\u001b[1;30m[19:49:25] \u001b[0m \u001b[0;35mCOMMAND\t\u001b[0mPOST \t \"/wd/hub/session/d729d8d4e56c7082da83206b0b79d84f/element/0.2993734147908387-1/click\"\n",
      "\u001b[1;30m[19:49:27] \u001b[0m \u001b[0;35mCOMMAND\t\u001b[0mGET \t \"/wd/hub/session/d729d8d4e56c7082da83206b0b79d84f/url\"\n",
      "\u001b[1;30m[19:49:28] \u001b[0m \u001b[0;35mCOMMAND\t\u001b[0mPOST \t \"/wd/hub/session/d729d8d4e56c7082da83206b0b79d84f/execute\"\n",
      "\u001b[1;30m[19:49:28] \u001b[0m \u001b[0;35mCOMMAND\t\u001b[0mPOST \t \"/wd/hub/session/d729d8d4e56c7082da83206b0b79d84f/execute\"\n",
      "\u001b[1;30m[19:49:28] \u001b[0m \u001b[0;35mCOMMAND\t\u001b[0mPOST \t \"/wd/hub/session/d729d8d4e56c7082da83206b0b79d84f/url\"\n",
      "\u001b[1;30m[19:49:32] \u001b[0m \u001b[0;35mCOMMAND\t\u001b[0mPOST \t \"/wd/hub/session/d729d8d4e56c7082da83206b0b79d84f/execute\"\n",
      "\u001b[1;30m[19:49:32] \u001b[0m \u001b[0;35mCOMMAND\t\u001b[0mPOST \t \"/wd/hub/session/d729d8d4e56c7082da83206b0b79d84f/execute\"\n",
      "\u001b[1;30m[19:49:34] \u001b[0m \u001b[0;35mCOMMAND\t\u001b[0mPOST \t \"/wd/hub/session/d729d8d4e56c7082da83206b0b79d84f/execute\"\n",
      "[ { from: 'Brian',\n",
      "    message: 'Brian\\nLiving the dream? Mm\\n',\n",
      "    time: 2017-11-23T02:14:00.000Z } ]\n",
      "\u001b[1;30m[19:49:34] \u001b[0m \u001b[0;35mCOMMAND\t\u001b[0mPOST \t \"/wd/hub/session/d729d8d4e56c7082da83206b0b79d84f/window\"\n",
      "\u001b[1;30m[19:49:34] \u001b[0m \u001b[0;35mCOMMAND\t\u001b[0mGET \t \"/wd/hub/session/d729d8d4e56c7082da83206b0b79d84f/url\"\n",
      "\u001b[1;30m[19:49:34] \u001b[0m \u001b[0;35mCOMMAND\t\u001b[0mPOST \t \"/wd/hub/session/d729d8d4e56c7082da83206b0b79d84f/execute\"\n",
      "\u001b[1;30m[19:49:34] \u001b[0m \u001b[0;35mCOMMAND\t\u001b[0mPOST \t \"/wd/hub/session/d729d8d4e56c7082da83206b0b79d84f/element\"\n",
      "\u001b[1;30m[19:49:34] \u001b[0m \u001b[0;35mCOMMAND\t\u001b[0mPOST \t \"/wd/hub/session/d729d8d4e56c7082da83206b0b79d84f/element/0.8185398339277978-1/click\"\n",
      "\u001b[1;30m[19:49:36] \u001b[0m \u001b[0;35mCOMMAND\t\u001b[0mGET \t \"/wd/hub/session/d729d8d4e56c7082da83206b0b79d84f/url\"\n",
      "\u001b[1;30m[19:49:37] \u001b[0m \u001b[0;35mCOMMAND\t\u001b[0mPOST \t \"/wd/hub/session/d729d8d4e56c7082da83206b0b79d84f/execute\"\n",
      "\u001b[1;30m[19:49:37] \u001b[0m \u001b[0;35mCOMMAND\t\u001b[0mPOST \t \"/wd/hub/session/d729d8d4e56c7082da83206b0b79d84f/execute\"\n",
      "\u001b[1;30m[19:49:37] \u001b[0m \u001b[0;35mCOMMAND\t\u001b[0mPOST \t \"/wd/hub/session/d729d8d4e56c7082da83206b0b79d84f/url\"\n",
      "\u001b[1;30m[19:49:42] \u001b[0m \u001b[0;35mCOMMAND\t\u001b[0mPOST \t \"/wd/hub/session/d729d8d4e56c7082da83206b0b79d84f/execute\"\n",
      "\u001b[1;30m[19:49:42] \u001b[0m \u001b[0;35mCOMMAND\t\u001b[0mPOST \t \"/wd/hub/session/d729d8d4e56c7082da83206b0b79d84f/execute\"\n",
      "\u001b[1;30m[19:49:44] \u001b[0m \u001b[0;35mCOMMAND\t\u001b[0mPOST \t \"/wd/hub/session/d729d8d4e56c7082da83206b0b79d84f/execute\"\n",
      "[ { from: 'Brian',\n",
      "    message: 'Brian\\nLiving the dream? Mm\\n',\n",
      "    time: 2017-11-23T02:15:00.000Z } ]\n",
      "\u001b[1;30m[19:49:44] \u001b[0m \u001b[0;35mCOMMAND\t\u001b[0mPOST \t \"/wd/hub/session/d729d8d4e56c7082da83206b0b79d84f/window\"\n",
      "\u001b[1;30m[19:49:44] \u001b[0m \u001b[0;35mCOMMAND\t\u001b[0mGET \t \"/wd/hub/session/d729d8d4e56c7082da83206b0b79d84f/url\"\n",
      "\u001b[1;30m[19:49:44] \u001b[0m \u001b[0;35mCOMMAND\t\u001b[0mPOST \t \"/wd/hub/session/d729d8d4e56c7082da83206b0b79d84f/execute\"\n",
      "\u001b[1;30m[19:49:44] \u001b[0m \u001b[0;35mCOMMAND\t\u001b[0mPOST \t \"/wd/hub/session/d729d8d4e56c7082da83206b0b79d84f/element\"\n",
      "\u001b[1;30m[19:49:44] \u001b[0m \u001b[0;35mCOMMAND\t\u001b[0mPOST \t \"/wd/hub/session/d729d8d4e56c7082da83206b0b79d84f/element/0.5818830413998581-1/click\"\n",
      "\u001b[1;30m[19:49:45] \u001b[0m \u001b[0;35mCOMMAND\t\u001b[0mGET \t \"/wd/hub/session/d729d8d4e56c7082da83206b0b79d84f/url\"\n",
      "\u001b[1;30m[19:49:46] \u001b[0m \u001b[0;35mCOMMAND\t\u001b[0mPOST \t \"/wd/hub/session/d729d8d4e56c7082da83206b0b79d84f/execute\"\n",
      "\u001b[1;30m[19:49:46] \u001b[0m \u001b[0;35mCOMMAND\t\u001b[0mPOST \t \"/wd/hub/session/d729d8d4e56c7082da83206b0b79d84f/execute\"\n",
      "\u001b[1;30m[19:49:46] \u001b[0m \u001b[0;35mCOMMAND\t\u001b[0mPOST \t \"/wd/hub/session/d729d8d4e56c7082da83206b0b79d84f/url\"\n",
      "\u001b[1;30m[19:49:51] \u001b[0m \u001b[0;35mCOMMAND\t\u001b[0mPOST \t \"/wd/hub/session/d729d8d4e56c7082da83206b0b79d84f/execute\"\n",
      "\u001b[1;30m[19:49:51] \u001b[0m \u001b[0;35mCOMMAND\t\u001b[0mPOST \t \"/wd/hub/session/d729d8d4e56c7082da83206b0b79d84f/execute\"\n",
      "\u001b[1;30m[19:49:53] \u001b[0m \u001b[0;35mCOMMAND\t\u001b[0mPOST \t \"/wd/hub/session/d729d8d4e56c7082da83206b0b79d84f/execute\"\n",
      "[ { from: 'Brian',\n",
      "    message: 'Brian\\nLiving the dream? Mm\\n\\n',\n",
      "    time: 2017-11-23T02:15:00.000Z } ]\n",
      "\u001b[1;30m[19:49:53] \u001b[0m \u001b[0;35mCOMMAND\t\u001b[0mPOST \t \"/wd/hub/session/d729d8d4e56c7082da83206b0b79d84f/window\"\n",
      "\u001b[1;30m[19:49:53] \u001b[0m \u001b[0;35mCOMMAND\t\u001b[0mGET \t \"/wd/hub/session/d729d8d4e56c7082da83206b0b79d84f/url\"\n",
      "\u001b[1;30m[19:49:53] \u001b[0m \u001b[0;35mCOMMAND\t\u001b[0mPOST \t \"/wd/hub/session/d729d8d4e56c7082da83206b0b79d84f/execute\"\n",
      "\u001b[1;30m[19:49:53] \u001b[0m \u001b[0;35mCOMMAND\t\u001b[0mPOST \t \"/wd/hub/session/d729d8d4e56c7082da83206b0b79d84f/element\"\n",
      "\u001b[1;30m[19:49:53] \u001b[0m \u001b[0;35mCOMMAND\t\u001b[0mPOST \t \"/wd/hub/session/d729d8d4e56c7082da83206b0b79d84f/element/0.32724968332392956-1/click\"\n",
      "\u001b[1;30m[19:49:55] \u001b[0m \u001b[0;35mCOMMAND\t\u001b[0mGET \t \"/wd/hub/session/d729d8d4e56c7082da83206b0b79d84f/url\"\n",
      "\u001b[1;30m[19:49:56] \u001b[0m \u001b[0;35mCOMMAND\t\u001b[0mPOST \t \"/wd/hub/session/d729d8d4e56c7082da83206b0b79d84f/execute\"\n",
      "\u001b[1;30m[19:49:56] \u001b[0m \u001b[0;35mCOMMAND\t\u001b[0mPOST \t \"/wd/hub/session/d729d8d4e56c7082da83206b0b79d84f/execute\"\n",
      "\u001b[1;30m[19:49:56] \u001b[0m \u001b[0;35mCOMMAND\t\u001b[0mPOST \t \"/wd/hub/session/d729d8d4e56c7082da83206b0b79d84f/url\"\n",
      "\u001b[1;30m[19:50:01] \u001b[0m \u001b[0;35mCOMMAND\t\u001b[0mPOST \t \"/wd/hub/session/d729d8d4e56c7082da83206b0b79d84f/execute\"\n",
      "\u001b[1;30m[19:50:01] \u001b[0m \u001b[0;35mCOMMAND\t\u001b[0mPOST \t \"/wd/hub/session/d729d8d4e56c7082da83206b0b79d84f/execute\"\n",
      "\u001b[1;30m[19:50:03] \u001b[0m \u001b[0;35mCOMMAND\t\u001b[0mPOST \t \"/wd/hub/session/d729d8d4e56c7082da83206b0b79d84f/execute\"\n",
      "[ { from: 'Brian',\n",
      "    message: 'Brian\\nLiving the dream? Mm\\n',\n",
      "    time: 2017-11-23T02:15:00.000Z } ]\n",
      "\u001b[1;30m[19:50:03] \u001b[0m \u001b[0;35mCOMMAND\t\u001b[0mPOST \t \"/wd/hub/session/d729d8d4e56c7082da83206b0b79d84f/window\"\n",
      "\u001b[1;30m[19:50:03] \u001b[0m \u001b[0;35mCOMMAND\t\u001b[0mGET \t \"/wd/hub/session/d729d8d4e56c7082da83206b0b79d84f/url\"\n",
      "\u001b[1;30m[19:50:03] \u001b[0m \u001b[0;35mCOMMAND\t\u001b[0mPOST \t \"/wd/hub/session/d729d8d4e56c7082da83206b0b79d84f/execute\"\n",
      "\u001b[1;30m[19:50:03] \u001b[0m \u001b[0;35mCOMMAND\t\u001b[0mPOST \t \"/wd/hub/session/d729d8d4e56c7082da83206b0b79d84f/element\"\n",
      "\u001b[1;30m[19:50:03] \u001b[0m \u001b[0;35mCOMMAND\t\u001b[0mPOST \t \"/wd/hub/session/d729d8d4e56c7082da83206b0b79d84f/element/0.5860048375233093-1/click\"\n",
      "\u001b[1;30m[19:50:05] \u001b[0m \u001b[0;35mCOMMAND\t\u001b[0mGET \t \"/wd/hub/session/d729d8d4e56c7082da83206b0b79d84f/url\"\n",
      "\u001b[1;30m[19:50:06] \u001b[0m \u001b[0;35mCOMMAND\t\u001b[0mPOST \t \"/wd/hub/session/d729d8d4e56c7082da83206b0b79d84f/execute\"\n",
      "\u001b[1;30m[19:50:06] \u001b[0m \u001b[0;35mCOMMAND\t\u001b[0mPOST \t \"/wd/hub/session/d729d8d4e56c7082da83206b0b79d84f/execute\"\n",
      "\u001b[1;30m[19:50:06] \u001b[0m \u001b[0;35mCOMMAND\t\u001b[0mPOST \t \"/wd/hub/session/d729d8d4e56c7082da83206b0b79d84f/url\"\n",
      "\u001b[1;30m[19:50:10] \u001b[0m \u001b[0;35mCOMMAND\t\u001b[0mPOST \t \"/wd/hub/session/d729d8d4e56c7082da83206b0b79d84f/execute\"\n",
      "\u001b[1;30m[19:50:11] \u001b[0m \u001b[0;35mCOMMAND\t\u001b[0mPOST \t \"/wd/hub/session/d729d8d4e56c7082da83206b0b79d84f/execute\"\n",
      "\u001b[1;30m[19:50:13] \u001b[0m \u001b[0;35mCOMMAND\t\u001b[0mPOST \t \"/wd/hub/session/d729d8d4e56c7082da83206b0b79d84f/execute\"\n",
      "[ { from: 'Brian',\n",
      "    message: 'Brian\\nLiving the dream? Mm\\n',\n",
      "    time: 2017-11-23T02:31:00.000Z } ]\n",
      "\u001b[1;30m[19:50:13] \u001b[0m \u001b[0;35mCOMMAND\t\u001b[0mPOST \t \"/wd/hub/session/d729d8d4e56c7082da83206b0b79d84f/window\"\n",
      "\u001b[1;30m[19:50:13] \u001b[0m \u001b[0;35mCOMMAND\t\u001b[0mGET \t \"/wd/hub/session/d729d8d4e56c7082da83206b0b79d84f/url\"\n",
      "\u001b[1;30m[19:50:13] \u001b[0m \u001b[0;35mCOMMAND\t\u001b[0mPOST \t \"/wd/hub/session/d729d8d4e56c7082da83206b0b79d84f/execute\"\n",
      "\u001b[1;30m[19:50:13] \u001b[0m \u001b[0;35mCOMMAND\t\u001b[0mPOST \t \"/wd/hub/session/d729d8d4e56c7082da83206b0b79d84f/element\"\n",
      "\u001b[1;30m[19:50:13] \u001b[0m \u001b[0;35mCOMMAND\t\u001b[0mPOST \t \"/wd/hub/session/d729d8d4e56c7082da83206b0b79d84f/element/0.4497331471621102-1/click\"\n",
      "\u001b[1;30m[19:50:14] \u001b[0m \u001b[0;35mCOMMAND\t\u001b[0mGET \t \"/wd/hub/session/d729d8d4e56c7082da83206b0b79d84f/url\"\n",
      "\u001b[1;30m[19:50:15] \u001b[0m \u001b[0;35mCOMMAND\t\u001b[0mPOST \t \"/wd/hub/session/d729d8d4e56c7082da83206b0b79d84f/execute\"\n",
      "\u001b[1;30m[19:50:15] \u001b[0m \u001b[0;35mCOMMAND\t\u001b[0mPOST \t \"/wd/hub/session/d729d8d4e56c7082da83206b0b79d84f/execute\"\n",
      "\u001b[1;30m[19:50:15] \u001b[0m \u001b[0;35mCOMMAND\t\u001b[0mPOST \t \"/wd/hub/session/d729d8d4e56c7082da83206b0b79d84f/url\"\n",
      "\u001b[1;30m[19:50:21] \u001b[0m \u001b[0;35mCOMMAND\t\u001b[0mPOST \t \"/wd/hub/session/d729d8d4e56c7082da83206b0b79d84f/execute\"\n",
      "\u001b[1;30m[19:50:21] \u001b[0m \u001b[0;35mCOMMAND\t\u001b[0mPOST \t \"/wd/hub/session/d729d8d4e56c7082da83206b0b79d84f/execute\"\n",
      "\u001b[1;30m[19:50:23] \u001b[0m \u001b[0;35mCOMMAND\t\u001b[0mPOST \t \"/wd/hub/session/d729d8d4e56c7082da83206b0b79d84f/execute\"\n",
      "[ { from: 'Brian',\n",
      "    message: 'Brian\\nLiving the dream? Mm\\n',\n",
      "    time: 2017-11-23T02:31:00.000Z } ]\n",
      "\u001b[1;30m[19:50:23] \u001b[0m \u001b[0;35mCOMMAND\t\u001b[0mPOST \t \"/wd/hub/session/d729d8d4e56c7082da83206b0b79d84f/window\"\n",
      "\u001b[1;30m[19:50:23] \u001b[0m \u001b[0;35mCOMMAND\t\u001b[0mGET \t \"/wd/hub/session/d729d8d4e56c7082da83206b0b79d84f/url\"\n",
      "\u001b[1;30m[19:50:23] \u001b[0m \u001b[0;35mCOMMAND\t\u001b[0mPOST \t \"/wd/hub/session/d729d8d4e56c7082da83206b0b79d84f/execute\"\n",
      "\u001b[1;30m[19:50:23] \u001b[0m \u001b[0;35mCOMMAND\t\u001b[0mPOST \t \"/wd/hub/session/d729d8d4e56c7082da83206b0b79d84f/element\"\n",
      "\u001b[1;30m[19:50:23] \u001b[0m \u001b[0;35mCOMMAND\t\u001b[0mPOST \t \"/wd/hub/session/d729d8d4e56c7082da83206b0b79d84f/element/0.5433493028051648-1/click\"\n",
      "\u001b[1;30m[19:50:24] \u001b[0m \u001b[0;35mCOMMAND\t\u001b[0mGET \t \"/wd/hub/session/d729d8d4e56c7082da83206b0b79d84f/url\"\n",
      "\u001b[1;30m[19:50:25] \u001b[0m \u001b[0;35mCOMMAND\t\u001b[0mPOST \t \"/wd/hub/session/d729d8d4e56c7082da83206b0b79d84f/execute\"\n",
      "\u001b[1;30m[19:50:26] \u001b[0m \u001b[0;35mCOMMAND\t\u001b[0mPOST \t \"/wd/hub/session/d729d8d4e56c7082da83206b0b79d84f/execute\"\n",
      "\u001b[1;30m[19:50:26] \u001b[0m \u001b[0;35mCOMMAND\t\u001b[0mPOST \t \"/wd/hub/session/d729d8d4e56c7082da83206b0b79d84f/url\"\n",
      "\u001b[1;30m[19:50:30] \u001b[0m \u001b[0;35mCOMMAND\t\u001b[0mPOST \t \"/wd/hub/session/d729d8d4e56c7082da83206b0b79d84f/execute\"\n",
      "\u001b[1;30m[19:50:30] \u001b[0m \u001b[0;35mCOMMAND\t\u001b[0mPOST \t \"/wd/hub/session/d729d8d4e56c7082da83206b0b79d84f/execute\"\n",
      "\u001b[1;30m[19:50:33] \u001b[0m \u001b[0;35mCOMMAND\t\u001b[0mPOST \t \"/wd/hub/session/d729d8d4e56c7082da83206b0b79d84f/execute\"\n",
      "[ { from: 'Brian',\n",
      "    message: 'Brian\\nLiving the dream? Mm\\n',\n",
      "    time: 2017-11-23T02:31:00.000Z } ]\n",
      "\u001b[1;30m[19:50:33] \u001b[0m \u001b[0;35mCOMMAND\t\u001b[0mPOST \t \"/wd/hub/session/d729d8d4e56c7082da83206b0b79d84f/window\"\n",
      "\u001b[1;30m[19:50:33] \u001b[0m \u001b[0;35mCOMMAND\t\u001b[0mGET \t \"/wd/hub/session/d729d8d4e56c7082da83206b0b79d84f/url\"\n",
      "\u001b[1;30m[19:50:33] \u001b[0m \u001b[0;35mCOMMAND\t\u001b[0mPOST \t \"/wd/hub/session/d729d8d4e56c7082da83206b0b79d84f/execute\"\n",
      "\u001b[1;30m[19:50:33] \u001b[0m \u001b[0;35mCOMMAND\t\u001b[0mPOST \t \"/wd/hub/session/d729d8d4e56c7082da83206b0b79d84f/element\"\n",
      "\u001b[1;30m[19:50:33] \u001b[0m \u001b[0;35mCOMMAND\t\u001b[0mPOST \t \"/wd/hub/session/d729d8d4e56c7082da83206b0b79d84f/element/0.9021809199565514-1/click\"\n",
      "\u001b[1;30m[19:50:34] \u001b[0m \u001b[0;35mCOMMAND\t\u001b[0mGET \t \"/wd/hub/session/d729d8d4e56c7082da83206b0b79d84f/url\"\n",
      "\u001b[1;30m[19:50:35] \u001b[0m \u001b[0;35mCOMMAND\t\u001b[0mPOST \t \"/wd/hub/session/d729d8d4e56c7082da83206b0b79d84f/execute\"\n",
      "\u001b[1;30m[19:50:35] \u001b[0m \u001b[0;35mCOMMAND\t\u001b[0mPOST \t \"/wd/hub/session/d729d8d4e56c7082da83206b0b79d84f/execute\"\n",
      "\u001b[1;30m[19:50:35] \u001b[0m \u001b[0;35mCOMMAND\t\u001b[0mPOST \t \"/wd/hub/session/d729d8d4e56c7082da83206b0b79d84f/url\"\n",
      "\u001b[1;30m[19:50:40] \u001b[0m \u001b[0;35mCOMMAND\t\u001b[0mPOST \t \"/wd/hub/session/d729d8d4e56c7082da83206b0b79d84f/execute\"\n",
      "\u001b[1;30m[19:50:40] \u001b[0m \u001b[0;35mCOMMAND\t\u001b[0mPOST \t \"/wd/hub/session/d729d8d4e56c7082da83206b0b79d84f/execute\"\n",
      "\u001b[1;30m[19:50:42] \u001b[0m \u001b[0;35mCOMMAND\t\u001b[0mPOST \t \"/wd/hub/session/d729d8d4e56c7082da83206b0b79d84f/execute\"\n",
      "[ { from: 'Brian',\n",
      "    message: 'Brian\\nLiving the dream? Mm\\n',\n",
      "    time: 2017-11-23T02:09:00.000Z } ]\n",
      "\u001b[1;30m[19:50:42] \u001b[0m \u001b[0;35mCOMMAND\t\u001b[0mPOST \t \"/wd/hub/session/d729d8d4e56c7082da83206b0b79d84f/window\"\n",
      "\u001b[1;30m[19:50:42] \u001b[0m \u001b[0;35mCOMMAND\t\u001b[0mGET \t \"/wd/hub/session/d729d8d4e56c7082da83206b0b79d84f/url\"\n",
      "\u001b[1;30m[19:50:42] \u001b[0m \u001b[0;35mCOMMAND\t\u001b[0mPOST \t \"/wd/hub/session/d729d8d4e56c7082da83206b0b79d84f/execute\"\n",
      "\u001b[1;30m[19:50:42] \u001b[0m \u001b[0;35mCOMMAND\t\u001b[0mPOST \t \"/wd/hub/session/d729d8d4e56c7082da83206b0b79d84f/element\"\n",
      "\u001b[1;30m[19:50:42] \u001b[0m \u001b[0;35mCOMMAND\t\u001b[0mPOST \t \"/wd/hub/session/d729d8d4e56c7082da83206b0b79d84f/element/0.7902893194525091-1/click\"\n",
      "\u001b[1;30m[19:50:44] \u001b[0m \u001b[0;35mCOMMAND\t\u001b[0mGET \t \"/wd/hub/session/d729d8d4e56c7082da83206b0b79d84f/url\"\n",
      "\u001b[1;30m[19:50:45] \u001b[0m \u001b[0;35mCOMMAND\t\u001b[0mPOST \t \"/wd/hub/session/d729d8d4e56c7082da83206b0b79d84f/execute\"\n",
      "\u001b[1;30m[19:50:45] \u001b[0m \u001b[0;35mCOMMAND\t\u001b[0mPOST \t \"/wd/hub/session/d729d8d4e56c7082da83206b0b79d84f/execute\"\n",
      "\u001b[1;30m[19:50:45] \u001b[0m \u001b[0;35mCOMMAND\t\u001b[0mPOST \t \"/wd/hub/session/d729d8d4e56c7082da83206b0b79d84f/url\"\n",
      "\u001b[1;30m[19:50:50] \u001b[0m \u001b[0;35mCOMMAND\t\u001b[0mPOST \t \"/wd/hub/session/d729d8d4e56c7082da83206b0b79d84f/execute\"\n",
      "\u001b[1;30m[19:50:50] \u001b[0m \u001b[0;35mCOMMAND\t\u001b[0mPOST \t \"/wd/hub/session/d729d8d4e56c7082da83206b0b79d84f/execute\"\n",
      "\u001b[1;30m[19:50:52] \u001b[0m \u001b[0;35mCOMMAND\t\u001b[0mPOST \t \"/wd/hub/session/d729d8d4e56c7082da83206b0b79d84f/execute\"\n",
      "[ { from: 'Brian',\n",
      "    message: 'Brian\\nLiving the dream? Mm\\n\\n',\n",
      "    time: 2017-11-23T02:32:00.000Z } ]\n",
      "\u001b[1;30m[19:50:52] \u001b[0m \u001b[0;35mCOMMAND\t\u001b[0mPOST \t \"/wd/hub/session/d729d8d4e56c7082da83206b0b79d84f/window\"\n",
      "\u001b[1;30m[19:50:52] \u001b[0m \u001b[0;35mCOMMAND\t\u001b[0mGET \t \"/wd/hub/session/d729d8d4e56c7082da83206b0b79d84f/url\"\n",
      "\u001b[1;30m[19:50:52] \u001b[0m \u001b[0;35mCOMMAND\t\u001b[0mPOST \t \"/wd/hub/session/d729d8d4e56c7082da83206b0b79d84f/execute\"\n",
      "\u001b[1;30m[19:50:52] \u001b[0m \u001b[0;35mCOMMAND\t\u001b[0mPOST \t \"/wd/hub/session/d729d8d4e56c7082da83206b0b79d84f/element\"\n",
      "\u001b[1;30m[19:50:52] \u001b[0m \u001b[0;35mCOMMAND\t\u001b[0mPOST \t \"/wd/hub/session/d729d8d4e56c7082da83206b0b79d84f/element/0.2921712148369542-1/click\"\n",
      "\u001b[1;30m[19:50:53] \u001b[0m \u001b[0;35mCOMMAND\t\u001b[0mGET \t \"/wd/hub/session/d729d8d4e56c7082da83206b0b79d84f/url\"\n",
      "\u001b[1;30m[19:50:54] \u001b[0m \u001b[0;35mCOMMAND\t\u001b[0mPOST \t \"/wd/hub/session/d729d8d4e56c7082da83206b0b79d84f/execute\"\n",
      "\u001b[1;30m[19:50:54] \u001b[0m \u001b[0;35mCOMMAND\t\u001b[0mPOST \t \"/wd/hub/session/d729d8d4e56c7082da83206b0b79d84f/execute\"\n",
      "\u001b[1;30m[19:50:54] \u001b[0m \u001b[0;35mCOMMAND\t\u001b[0mPOST \t \"/wd/hub/session/d729d8d4e56c7082da83206b0b79d84f/url\"\n",
      "\u001b[1;30m[19:51:00] \u001b[0m \u001b[0;35mCOMMAND\t\u001b[0mPOST \t \"/wd/hub/session/d729d8d4e56c7082da83206b0b79d84f/execute\"\n",
      "\u001b[1;30m[19:51:00] \u001b[0m \u001b[0;35mCOMMAND\t\u001b[0mPOST \t \"/wd/hub/session/d729d8d4e56c7082da83206b0b79d84f/execute\"\n",
      "\u001b[1;30m[19:51:02] \u001b[0m \u001b[0;35mCOMMAND\t\u001b[0mPOST \t \"/wd/hub/session/d729d8d4e56c7082da83206b0b79d84f/execute\"\n",
      "[ { from: 'Brian',\n",
      "    message: 'Brian\\nLiving the dream? Mm\\n',\n",
      "    time: 2017-11-23T02:32:00.000Z } ]\n",
      "\u001b[1;30m[19:51:02] \u001b[0m \u001b[0;35mCOMMAND\t\u001b[0mPOST \t \"/wd/hub/session/d729d8d4e56c7082da83206b0b79d84f/window\"\n",
      "\u001b[1;30m[19:51:02] \u001b[0m \u001b[0;35mCOMMAND\t\u001b[0mGET \t \"/wd/hub/session/d729d8d4e56c7082da83206b0b79d84f/url\"\n",
      "\u001b[1;30m[19:51:02] \u001b[0m \u001b[0;35mCOMMAND\t\u001b[0mPOST \t \"/wd/hub/session/d729d8d4e56c7082da83206b0b79d84f/execute\"\n",
      "\u001b[1;30m[19:51:02] \u001b[0m \u001b[0;35mCOMMAND\t\u001b[0mPOST \t \"/wd/hub/session/d729d8d4e56c7082da83206b0b79d84f/element\"\n",
      "\u001b[1;30m[19:51:02] \u001b[0m \u001b[0;35mCOMMAND\t\u001b[0mPOST \t \"/wd/hub/session/d729d8d4e56c7082da83206b0b79d84f/element/0.7468355312635815-1/click\"\n",
      "\u001b[1;30m[19:51:03] \u001b[0m \u001b[0;35mCOMMAND\t\u001b[0mGET \t \"/wd/hub/session/d729d8d4e56c7082da83206b0b79d84f/url\"\n",
      "\u001b[1;30m[19:51:04] \u001b[0m \u001b[0;35mCOMMAND\t\u001b[0mPOST \t \"/wd/hub/session/d729d8d4e56c7082da83206b0b79d84f/execute\"\n",
      "\u001b[1;30m[19:51:04] \u001b[0m \u001b[0;35mCOMMAND\t\u001b[0mPOST \t \"/wd/hub/session/d729d8d4e56c7082da83206b0b79d84f/execute\"\n",
      "\u001b[1;30m[19:51:04] \u001b[0m \u001b[0;35mCOMMAND\t\u001b[0mPOST \t \"/wd/hub/session/d729d8d4e56c7082da83206b0b79d84f/url\"\n",
      "\u001b[1;30m[19:51:09] \u001b[0m \u001b[0;35mCOMMAND\t\u001b[0mPOST \t \"/wd/hub/session/d729d8d4e56c7082da83206b0b79d84f/execute\"\n",
      "\u001b[1;30m[19:51:09] \u001b[0m \u001b[0;35mCOMMAND\t\u001b[0mPOST \t \"/wd/hub/session/d729d8d4e56c7082da83206b0b79d84f/execute\"\n",
      "\u001b[1;30m[19:51:11] \u001b[0m \u001b[0;35mCOMMAND\t\u001b[0mPOST \t \"/wd/hub/session/d729d8d4e56c7082da83206b0b79d84f/execute\"\n",
      "[ { from: 'Brian',\n",
      "    message: 'Brian\\nLiving the dream? Mm\\n',\n",
      "    time: 2017-11-23T02:32:00.000Z } ]\n",
      "\u001b[1;30m[19:51:11] \u001b[0m \u001b[0;35mCOMMAND\t\u001b[0mPOST \t \"/wd/hub/session/d729d8d4e56c7082da83206b0b79d84f/window\"\n",
      "\u001b[1;30m[19:51:11] \u001b[0m \u001b[0;35mCOMMAND\t\u001b[0mGET \t \"/wd/hub/session/d729d8d4e56c7082da83206b0b79d84f/url\"\n",
      "\u001b[1;30m[19:51:11] \u001b[0m \u001b[0;35mCOMMAND\t\u001b[0mPOST \t \"/wd/hub/session/d729d8d4e56c7082da83206b0b79d84f/execute\"\n",
      "\u001b[1;30m[19:51:11] \u001b[0m \u001b[0;35mCOMMAND\t\u001b[0mPOST \t \"/wd/hub/session/d729d8d4e56c7082da83206b0b79d84f/element\"\n",
      "\u001b[1;30m[19:51:11] \u001b[0m \u001b[0;35mCOMMAND\t\u001b[0mPOST \t \"/wd/hub/session/d729d8d4e56c7082da83206b0b79d84f/element/0.8124297810362253-1/click\"\n",
      "\u001b[1;30m[19:51:13] \u001b[0m \u001b[0;35mCOMMAND\t\u001b[0mGET \t \"/wd/hub/session/d729d8d4e56c7082da83206b0b79d84f/url\"\n",
      "\u001b[1;30m[19:51:14] \u001b[0m \u001b[0;35mCOMMAND\t\u001b[0mPOST \t \"/wd/hub/session/d729d8d4e56c7082da83206b0b79d84f/execute\"\n",
      "\u001b[1;30m[19:51:14] \u001b[0m \u001b[0;35mCOMMAND\t\u001b[0mPOST \t \"/wd/hub/session/d729d8d4e56c7082da83206b0b79d84f/execute\"\n",
      "\u001b[1;30m[19:51:14] \u001b[0m \u001b[0;35mCOMMAND\t\u001b[0mPOST \t \"/wd/hub/session/d729d8d4e56c7082da83206b0b79d84f/url\"\n",
      "\u001b[1;30m[19:51:19] \u001b[0m \u001b[0;35mCOMMAND\t\u001b[0mPOST \t \"/wd/hub/session/d729d8d4e56c7082da83206b0b79d84f/execute\"\n",
      "\u001b[1;30m[19:51:19] \u001b[0m \u001b[0;35mCOMMAND\t\u001b[0mPOST \t \"/wd/hub/session/d729d8d4e56c7082da83206b0b79d84f/execute\"\n",
      "\u001b[1;30m[19:51:21] \u001b[0m \u001b[0;35mCOMMAND\t\u001b[0mPOST \t \"/wd/hub/session/d729d8d4e56c7082da83206b0b79d84f/execute\"\n",
      "[ { from: 'Brian',\n",
      "    message: 'Brian\\nLiving the dream? Mm\\n',\n",
      "    time: 2017-11-23T02:32:00.000Z } ]\n",
      "\u001b[1;30m[19:51:21] \u001b[0m \u001b[0;35mCOMMAND\t\u001b[0mPOST \t \"/wd/hub/session/d729d8d4e56c7082da83206b0b79d84f/window\"\n",
      "\u001b[1;30m[19:51:21] \u001b[0m \u001b[0;35mCOMMAND\t\u001b[0mGET \t \"/wd/hub/session/d729d8d4e56c7082da83206b0b79d84f/url\"\n",
      "\u001b[1;30m[19:51:21] \u001b[0m \u001b[0;35mCOMMAND\t\u001b[0mPOST \t \"/wd/hub/session/d729d8d4e56c7082da83206b0b79d84f/execute\"\n",
      "\u001b[1;30m[19:51:21] \u001b[0m \u001b[0;35mCOMMAND\t\u001b[0mPOST \t \"/wd/hub/session/d729d8d4e56c7082da83206b0b79d84f/element\"\n",
      "\u001b[1;30m[19:51:21] \u001b[0m \u001b[0;35mCOMMAND\t\u001b[0mPOST \t \"/wd/hub/session/d729d8d4e56c7082da83206b0b79d84f/element/0.3289326531161234-1/click\"\n",
      "\u001b[1;30m[19:51:22] \u001b[0m \u001b[0;35mCOMMAND\t\u001b[0mGET \t \"/wd/hub/session/d729d8d4e56c7082da83206b0b79d84f/url\"\n",
      "\u001b[1;30m[19:51:23] \u001b[0m \u001b[0;35mCOMMAND\t\u001b[0mPOST \t \"/wd/hub/session/d729d8d4e56c7082da83206b0b79d84f/execute\"\n",
      "\u001b[1;30m[19:51:23] \u001b[0m \u001b[0;35mCOMMAND\t\u001b[0mPOST \t \"/wd/hub/session/d729d8d4e56c7082da83206b0b79d84f/execute\"\n",
      "\u001b[1;30m[19:51:23] \u001b[0m \u001b[0;35mCOMMAND\t\u001b[0mPOST \t \"/wd/hub/session/d729d8d4e56c7082da83206b0b79d84f/url\"\n",
      "\u001b[1;30m[19:51:28] \u001b[0m \u001b[0;35mCOMMAND\t\u001b[0mPOST \t \"/wd/hub/session/d729d8d4e56c7082da83206b0b79d84f/execute\"\n",
      "\u001b[1;30m[19:51:28] \u001b[0m \u001b[0;35mCOMMAND\t\u001b[0mPOST \t \"/wd/hub/session/d729d8d4e56c7082da83206b0b79d84f/execute\"\n",
      "\u001b[1;30m[19:51:30] \u001b[0m \u001b[0;35mCOMMAND\t\u001b[0mPOST \t \"/wd/hub/session/d729d8d4e56c7082da83206b0b79d84f/execute\"\n",
      "[ { from: 'Brian',\n",
      "    message: 'Brian\\nLiving the dream? Mm\\n',\n",
      "    time: 2017-11-23T02:33:00.000Z } ]\n",
      "\u001b[1;30m[19:51:30] \u001b[0m \u001b[0;35mCOMMAND\t\u001b[0mPOST \t \"/wd/hub/session/d729d8d4e56c7082da83206b0b79d84f/window\"\n",
      "\u001b[1;30m[19:51:30] \u001b[0m \u001b[0;35mCOMMAND\t\u001b[0mGET \t \"/wd/hub/session/d729d8d4e56c7082da83206b0b79d84f/url\"\n",
      "\u001b[1;30m[19:51:30] \u001b[0m \u001b[0;35mCOMMAND\t\u001b[0mPOST \t \"/wd/hub/session/d729d8d4e56c7082da83206b0b79d84f/execute\"\n",
      "\u001b[1;30m[19:51:31] \u001b[0m \u001b[0;35mCOMMAND\t\u001b[0mPOST \t \"/wd/hub/session/d729d8d4e56c7082da83206b0b79d84f/element\"\n",
      "\u001b[1;30m[19:51:31] \u001b[0m \u001b[0;35mCOMMAND\t\u001b[0mPOST \t \"/wd/hub/session/d729d8d4e56c7082da83206b0b79d84f/element/0.7080415721509965-1/click\"\n",
      "\u001b[1;30m[19:51:32] \u001b[0m \u001b[0;35mCOMMAND\t\u001b[0mGET \t \"/wd/hub/session/d729d8d4e56c7082da83206b0b79d84f/url\"\n",
      "\u001b[1;30m[19:51:33] \u001b[0m \u001b[0;35mCOMMAND\t\u001b[0mPOST \t \"/wd/hub/session/d729d8d4e56c7082da83206b0b79d84f/execute\"\n",
      "\u001b[1;30m[19:51:33] \u001b[0m \u001b[0;35mCOMMAND\t\u001b[0mPOST \t \"/wd/hub/session/d729d8d4e56c7082da83206b0b79d84f/execute\"\n",
      "\u001b[1;30m[19:51:33] \u001b[0m \u001b[0;35mCOMMAND\t\u001b[0mPOST \t \"/wd/hub/session/d729d8d4e56c7082da83206b0b79d84f/url\"\n",
      "\u001b[1;30m[19:51:38] \u001b[0m \u001b[0;35mCOMMAND\t\u001b[0mPOST \t \"/wd/hub/session/d729d8d4e56c7082da83206b0b79d84f/execute\"\n",
      "\u001b[1;30m[19:51:38] \u001b[0m \u001b[0;35mCOMMAND\t\u001b[0mPOST \t \"/wd/hub/session/d729d8d4e56c7082da83206b0b79d84f/execute\"\n",
      "\u001b[1;30m[19:51:40] \u001b[0m \u001b[0;35mCOMMAND\t\u001b[0mPOST \t \"/wd/hub/session/d729d8d4e56c7082da83206b0b79d84f/execute\"\n",
      "[ { from: 'Brian',\n",
      "    message: 'Brian\\nLiving the dream? Mm\\n',\n",
      "    time: 2017-11-23T02:33:00.000Z } ]\n",
      "\u001b[1;30m[19:51:40] \u001b[0m \u001b[0;35mCOMMAND\t\u001b[0mPOST \t \"/wd/hub/session/d729d8d4e56c7082da83206b0b79d84f/window\"\n",
      "\u001b[1;30m[19:51:40] \u001b[0m \u001b[0;35mCOMMAND\t\u001b[0mGET \t \"/wd/hub/session/d729d8d4e56c7082da83206b0b79d84f/url\"\n",
      "\u001b[1;30m[19:51:40] \u001b[0m \u001b[0;35mCOMMAND\t\u001b[0mPOST \t \"/wd/hub/session/d729d8d4e56c7082da83206b0b79d84f/execute\"\n",
      "\u001b[1;30m[19:51:40] \u001b[0m \u001b[0;35mCOMMAND\t\u001b[0mPOST \t \"/wd/hub/session/d729d8d4e56c7082da83206b0b79d84f/element\"\n",
      "\u001b[1;30m[19:51:40] \u001b[0m \u001b[0;35mCOMMAND\t\u001b[0mPOST \t \"/wd/hub/session/d729d8d4e56c7082da83206b0b79d84f/element/0.5513221206695342-1/click\"\n",
      "\u001b[1;30m[19:51:41] \u001b[0m \u001b[0;35mCOMMAND\t\u001b[0mGET \t \"/wd/hub/session/d729d8d4e56c7082da83206b0b79d84f/url\"\n",
      "\u001b[1;30m[19:51:42] \u001b[0m \u001b[0;35mCOMMAND\t\u001b[0mPOST \t \"/wd/hub/session/d729d8d4e56c7082da83206b0b79d84f/execute\"\n",
      "\u001b[1;30m[19:51:42] \u001b[0m \u001b[0;35mCOMMAND\t\u001b[0mPOST \t \"/wd/hub/session/d729d8d4e56c7082da83206b0b79d84f/execute\"\n",
      "\u001b[1;30m[19:51:42] \u001b[0m \u001b[0;35mCOMMAND\t\u001b[0mPOST \t \"/wd/hub/session/d729d8d4e56c7082da83206b0b79d84f/url\"\n",
      "\u001b[1;30m[19:51:48] \u001b[0m \u001b[0;35mCOMMAND\t\u001b[0mPOST \t \"/wd/hub/session/d729d8d4e56c7082da83206b0b79d84f/execute\"\n",
      "\u001b[1;30m[19:51:48] \u001b[0m \u001b[0;35mCOMMAND\t\u001b[0mPOST \t \"/wd/hub/session/d729d8d4e56c7082da83206b0b79d84f/execute\"\n",
      "\u001b[1;30m[19:51:50] \u001b[0m \u001b[0;35mCOMMAND\t\u001b[0mPOST \t \"/wd/hub/session/d729d8d4e56c7082da83206b0b79d84f/execute\"\n",
      "[ { from: 'Brian',\n",
      "    message: 'Brian\\nLiving the dream? Mm\\n',\n",
      "    time: 2017-11-23T02:33:00.000Z } ]\n",
      "\u001b[1;30m[19:51:50] \u001b[0m \u001b[0;35mCOMMAND\t\u001b[0mPOST \t \"/wd/hub/session/d729d8d4e56c7082da83206b0b79d84f/window\"\n",
      "\u001b[1;30m[19:51:50] \u001b[0m \u001b[0;35mCOMMAND\t\u001b[0mGET \t \"/wd/hub/session/d729d8d4e56c7082da83206b0b79d84f/url\"\n",
      "\u001b[1;30m[19:51:50] \u001b[0m \u001b[0;35mCOMMAND\t\u001b[0mPOST \t \"/wd/hub/session/d729d8d4e56c7082da83206b0b79d84f/execute\"\n",
      "\u001b[1;30m[19:51:50] \u001b[0m \u001b[0;35mCOMMAND\t\u001b[0mPOST \t \"/wd/hub/session/d729d8d4e56c7082da83206b0b79d84f/element\"\n",
      "\u001b[1;30m[19:51:50] \u001b[0m \u001b[0;35mCOMMAND\t\u001b[0mPOST \t \"/wd/hub/session/d729d8d4e56c7082da83206b0b79d84f/element/0.6106342095859276-1/click\"\n",
      "\u001b[1;30m[19:51:51] \u001b[0m \u001b[0;35mCOMMAND\t\u001b[0mGET \t \"/wd/hub/session/d729d8d4e56c7082da83206b0b79d84f/url\"\n",
      "\u001b[1;30m[19:51:52] \u001b[0m \u001b[0;35mCOMMAND\t\u001b[0mPOST \t \"/wd/hub/session/d729d8d4e56c7082da83206b0b79d84f/execute\"\n",
      "\u001b[1;30m[19:51:52] \u001b[0m \u001b[0;35mCOMMAND\t\u001b[0mPOST \t \"/wd/hub/session/d729d8d4e56c7082da83206b0b79d84f/execute\"\n",
      "\u001b[1;30m[19:51:52] \u001b[0m \u001b[0;35mCOMMAND\t\u001b[0mPOST \t \"/wd/hub/session/d729d8d4e56c7082da83206b0b79d84f/url\"\n",
      "\u001b[1;30m[19:51:57] \u001b[0m \u001b[0;35mCOMMAND\t\u001b[0mPOST \t \"/wd/hub/session/d729d8d4e56c7082da83206b0b79d84f/execute\"\n",
      "\u001b[1;30m[19:51:57] \u001b[0m \u001b[0;35mCOMMAND\t\u001b[0mPOST \t \"/wd/hub/session/d729d8d4e56c7082da83206b0b79d84f/execute\"\n",
      "\u001b[1;30m[19:51:59] \u001b[0m \u001b[0;35mCOMMAND\t\u001b[0mPOST \t \"/wd/hub/session/d729d8d4e56c7082da83206b0b79d84f/execute\"\n",
      "[ { from: 'Brian',\n",
      "    message: 'Brian\\nLiving the dream? Mm\\n\\n',\n",
      "    time: 2017-11-23T02:33:00.000Z } ]\n",
      "\u001b[1;30m[19:51:59] \u001b[0m \u001b[0;35mCOMMAND\t\u001b[0mPOST \t \"/wd/hub/session/d729d8d4e56c7082da83206b0b79d84f/window\"\n",
      "\u001b[1;30m[19:51:59] \u001b[0m \u001b[0;35mCOMMAND\t\u001b[0mGET \t \"/wd/hub/session/d729d8d4e56c7082da83206b0b79d84f/url\"\n",
      "\u001b[1;30m[19:51:59] \u001b[0m \u001b[0;35mCOMMAND\t\u001b[0mPOST \t \"/wd/hub/session/d729d8d4e56c7082da83206b0b79d84f/execute\"\n",
      "\u001b[1;30m[19:51:59] \u001b[0m \u001b[0;35mCOMMAND\t\u001b[0mPOST \t \"/wd/hub/session/d729d8d4e56c7082da83206b0b79d84f/element\"\n",
      "\u001b[1;30m[19:51:59] \u001b[0m \u001b[0;35mCOMMAND\t\u001b[0mPOST \t \"/wd/hub/session/d729d8d4e56c7082da83206b0b79d84f/element/0.15780476189890735-1/click\"\n",
      "\u001b[1;30m[19:52:01] \u001b[0m \u001b[0;35mCOMMAND\t\u001b[0mGET \t \"/wd/hub/session/d729d8d4e56c7082da83206b0b79d84f/url\"\n",
      "\u001b[1;30m[19:52:02] \u001b[0m \u001b[0;35mCOMMAND\t\u001b[0mPOST \t \"/wd/hub/session/d729d8d4e56c7082da83206b0b79d84f/execute\"\n",
      "\u001b[1;30m[19:52:02] \u001b[0m \u001b[0;35mCOMMAND\t\u001b[0mPOST \t \"/wd/hub/session/d729d8d4e56c7082da83206b0b79d84f/execute\"\n",
      "\u001b[1;30m[19:52:02] \u001b[0m \u001b[0;35mCOMMAND\t\u001b[0mPOST \t \"/wd/hub/session/d729d8d4e56c7082da83206b0b79d84f/url\"\n",
      "\u001b[1;30m[19:52:07] \u001b[0m \u001b[0;35mCOMMAND\t\u001b[0mPOST \t \"/wd/hub/session/d729d8d4e56c7082da83206b0b79d84f/execute\"\n",
      "\u001b[1;30m[19:52:07] \u001b[0m \u001b[0;35mCOMMAND\t\u001b[0mPOST \t \"/wd/hub/session/d729d8d4e56c7082da83206b0b79d84f/execute\"\n",
      "\u001b[1;30m[19:52:09] \u001b[0m \u001b[0;35mCOMMAND\t\u001b[0mPOST \t \"/wd/hub/session/d729d8d4e56c7082da83206b0b79d84f/execute\"\n",
      "[]\n",
      "\u001b[1;30m[19:52:09] \u001b[0m \u001b[0;35mCOMMAND\t\u001b[0mPOST \t \"/wd/hub/session/d729d8d4e56c7082da83206b0b79d84f/element\"\n",
      "\u001b[1;30m[19:52:09] \u001b[0m \u001b[0;35mCOMMAND\t\u001b[0mPOST \t \"/wd/hub/session/d729d8d4e56c7082da83206b0b79d84f/element/0.3844506038527158-1/click\"\n"
     ]
    },
    {
     "name": "stderr",
     "output_type": "stream",
     "text": [
      "WARNING: the \"keys\" command will be depcrecated soon. Please use a different command in order to avoid failures in your test after updating WebdriverIO.\n"
     ]
    },
    {
     "name": "stdout",
     "output_type": "stream",
     "text": [
      "\u001b[1;30m[19:52:09] \u001b[0m \u001b[0;35mCOMMAND\t\u001b[0mPOST \t \"/wd/hub/session/d729d8d4e56c7082da83206b0b79d84f/keys\"\n"
     ]
    },
    {
     "name": "stderr",
     "output_type": "stream",
     "text": [
      "WARNING: the \"keys\" command will be depcrecated soon. Please use a different command in order to avoid failures in your test after updating WebdriverIO.\n"
     ]
    },
    {
     "name": "stdout",
     "output_type": "stream",
     "text": [
      "\u001b[1;30m[19:52:09] \u001b[0m \u001b[0;35mCOMMAND\t\u001b[0mPOST \t \"/wd/hub/session/d729d8d4e56c7082da83206b0b79d84f/keys\"\n"
     ]
    },
    {
     "name": "stderr",
     "output_type": "stream",
     "text": [
      "WARNING: the \"keys\" command will be depcrecated soon. Please use a different command in order to avoid failures in your test after updating WebdriverIO.\n"
     ]
    },
    {
     "name": "stdout",
     "output_type": "stream",
     "text": [
      "\u001b[1;30m[19:52:09] \u001b[0m \u001b[0;35mCOMMAND\t\u001b[0mPOST \t \"/wd/hub/session/d729d8d4e56c7082da83206b0b79d84f/keys\"\n",
      "\u001b[1;30m[19:52:10] \u001b[0m \u001b[0;35mCOMMAND\t\u001b[0mPOST \t \"/wd/hub/session/d729d8d4e56c7082da83206b0b79d84f/window\"\n",
      "\u001b[1;30m[19:52:10] \u001b[0m \u001b[0;35mCOMMAND\t\u001b[0mGET \t \"/wd/hub/session/d729d8d4e56c7082da83206b0b79d84f/url\"\n",
      "\u001b[1;30m[19:52:10] \u001b[0m \u001b[0;35mCOMMAND\t\u001b[0mPOST \t \"/wd/hub/session/d729d8d4e56c7082da83206b0b79d84f/execute\"\n",
      "\u001b[1;30m[19:52:10] \u001b[0m \u001b[0;35mCOMMAND\t\u001b[0mPOST \t \"/wd/hub/session/d729d8d4e56c7082da83206b0b79d84f/element\"\n",
      "\u001b[1;30m[19:52:10] \u001b[0m \u001b[0;35mCOMMAND\t\u001b[0mPOST \t \"/wd/hub/session/d729d8d4e56c7082da83206b0b79d84f/element/0.634990148475949-1/click\"\n",
      "\u001b[1;30m[19:52:11] \u001b[0m \u001b[0;35mCOMMAND\t\u001b[0mGET \t \"/wd/hub/session/d729d8d4e56c7082da83206b0b79d84f/url\"\n",
      "\u001b[1;30m[19:52:12] \u001b[0m \u001b[0;35mCOMMAND\t\u001b[0mPOST \t \"/wd/hub/session/d729d8d4e56c7082da83206b0b79d84f/execute\"\n",
      "\u001b[1;30m[19:52:12] \u001b[0m \u001b[0;35mCOMMAND\t\u001b[0mPOST \t \"/wd/hub/session/d729d8d4e56c7082da83206b0b79d84f/execute\"\n",
      "\u001b[1;30m[19:52:12] \u001b[0m \u001b[0;35mCOMMAND\t\u001b[0mPOST \t \"/wd/hub/session/d729d8d4e56c7082da83206b0b79d84f/url\"\n",
      "\u001b[1;30m[19:52:18] \u001b[0m \u001b[0;35mCOMMAND\t\u001b[0mPOST \t \"/wd/hub/session/d729d8d4e56c7082da83206b0b79d84f/execute\"\n",
      "\u001b[1;30m[19:52:18] \u001b[0m \u001b[0;35mCOMMAND\t\u001b[0mPOST \t \"/wd/hub/session/d729d8d4e56c7082da83206b0b79d84f/execute\"\n",
      "\u001b[1;30m[19:52:20] \u001b[0m \u001b[0;35mCOMMAND\t\u001b[0mPOST \t \"/wd/hub/session/d729d8d4e56c7082da83206b0b79d84f/execute\"\n",
      "[ { from: 'Brian',\n",
      "    message: 'Brian\\nLiving the dream? Mm\\n\\n',\n",
      "    time: 2017-11-23T02:34:00.000Z } ]\n",
      "\u001b[1;30m[19:52:20] \u001b[0m \u001b[0;35mCOMMAND\t\u001b[0mPOST \t \"/wd/hub/session/d729d8d4e56c7082da83206b0b79d84f/window\"\n",
      "\u001b[1;30m[19:52:20] \u001b[0m \u001b[0;35mCOMMAND\t\u001b[0mGET \t \"/wd/hub/session/d729d8d4e56c7082da83206b0b79d84f/url\"\n",
      "\u001b[1;30m[19:52:20] \u001b[0m \u001b[0;35mCOMMAND\t\u001b[0mPOST \t \"/wd/hub/session/d729d8d4e56c7082da83206b0b79d84f/execute\"\n",
      "\u001b[1;30m[19:52:20] \u001b[0m \u001b[0;35mCOMMAND\t\u001b[0mPOST \t \"/wd/hub/session/d729d8d4e56c7082da83206b0b79d84f/element\"\n",
      "\u001b[1;30m[19:52:20] \u001b[0m \u001b[0;35mCOMMAND\t\u001b[0mPOST \t \"/wd/hub/session/d729d8d4e56c7082da83206b0b79d84f/element/0.4522446602131929-1/click\"\n",
      "\u001b[1;30m[19:52:22] \u001b[0m \u001b[0;35mCOMMAND\t\u001b[0mGET \t \"/wd/hub/session/d729d8d4e56c7082da83206b0b79d84f/url\"\n",
      "\u001b[1;30m[19:52:23] \u001b[0m \u001b[0;35mCOMMAND\t\u001b[0mPOST \t \"/wd/hub/session/d729d8d4e56c7082da83206b0b79d84f/execute\"\n",
      "\u001b[1;30m[19:52:23] \u001b[0m \u001b[0;35mCOMMAND\t\u001b[0mPOST \t \"/wd/hub/session/d729d8d4e56c7082da83206b0b79d84f/execute\"\n",
      "\u001b[1;30m[19:52:23] \u001b[0m \u001b[0;35mCOMMAND\t\u001b[0mPOST \t \"/wd/hub/session/d729d8d4e56c7082da83206b0b79d84f/element/0.4522446602131929-2/click\"\n",
      "\u001b[1;30m[19:52:27] \u001b[0m \u001b[0;35mCOMMAND\t\u001b[0mPOST \t \"/wd/hub/session/d729d8d4e56c7082da83206b0b79d84f/elements\"\n",
      "\u001b[1;30m[19:52:27] \u001b[0m \u001b[0;35mCOMMAND\t\u001b[0mPOST \t \"/wd/hub/session/d729d8d4e56c7082da83206b0b79d84f/elements\"\n",
      "\u001b[1;30m[19:52:27] \u001b[0m \u001b[0;35mCOMMAND\t\u001b[0mGET \t \"/wd/hub/session/d729d8d4e56c7082da83206b0b79d84f/url\"\n",
      "\u001b[1;30m[19:52:27] \u001b[0m \u001b[0;35mCOMMAND\t\u001b[0mPOST \t \"/wd/hub/session/d729d8d4e56c7082da83206b0b79d84f/elements\"\n",
      "\u001b[1;30m[19:52:27] \u001b[0m \u001b[0;35mCOMMAND\t\u001b[0mGET \t \"/wd/hub/session/d729d8d4e56c7082da83206b0b79d84f/element/0.23746609852469613-5/text\"\n",
      "\u001b[1;30m[19:52:27] \u001b[0m \u001b[0;35mCOMMAND\t\u001b[0mGET \t \"/wd/hub/session/d729d8d4e56c7082da83206b0b79d84f/element/0.23746609852469613-1/text\"\n",
      "\u001b[1;30m[19:52:27] \u001b[0m \u001b[0;35mCOMMAND\t\u001b[0mGET \t \"/wd/hub/session/d729d8d4e56c7082da83206b0b79d84f/element/0.23746609852469613-2/text\"\n",
      "\u001b[1;30m[19:52:27] \u001b[0m \u001b[0;35mCOMMAND\t\u001b[0mGET \t \"/wd/hub/session/d729d8d4e56c7082da83206b0b79d84f/element/0.23746609852469613-3/text\"\n",
      "\u001b[1;30m[19:52:27] \u001b[0m \u001b[0;35mCOMMAND\t\u001b[0mGET \t \"/wd/hub/session/d729d8d4e56c7082da83206b0b79d84f/element/0.23746609852469613-4/text\"\n",
      "\u001b[1;30m[19:52:27] \u001b[0m \u001b[0;35mCOMMAND\t\u001b[0mPOST \t \"/wd/hub/session/d729d8d4e56c7082da83206b0b79d84f/url\"\n",
      "\u001b[1;30m[19:52:32] \u001b[0m \u001b[0;35mCOMMAND\t\u001b[0mPOST \t \"/wd/hub/session/d729d8d4e56c7082da83206b0b79d84f/execute\"\n",
      "\u001b[1;30m[19:52:32] \u001b[0m \u001b[0;35mCOMMAND\t\u001b[0mPOST \t \"/wd/hub/session/d729d8d4e56c7082da83206b0b79d84f/execute\"\n",
      "\u001b[1;30m[19:52:34] \u001b[0m \u001b[0;35mCOMMAND\t\u001b[0mPOST \t \"/wd/hub/session/d729d8d4e56c7082da83206b0b79d84f/execute\"\n",
      "[ { from: 'Brian',\n",
      "    message: 'Brian\\nLiving the dream? Mm\\n',\n",
      "    time: 2017-11-23T02:34:00.000Z } ]\n",
      "\u001b[1;30m[19:52:34] \u001b[0m \u001b[0;35mCOMMAND\t\u001b[0mPOST \t \"/wd/hub/session/d729d8d4e56c7082da83206b0b79d84f/window\"\n",
      "\u001b[1;30m[19:52:34] \u001b[0m \u001b[0;35mCOMMAND\t\u001b[0mGET \t \"/wd/hub/session/d729d8d4e56c7082da83206b0b79d84f/url\"\n",
      "\u001b[1;30m[19:52:34] \u001b[0m \u001b[0;35mCOMMAND\t\u001b[0mPOST \t \"/wd/hub/session/d729d8d4e56c7082da83206b0b79d84f/execute\"\n",
      "\u001b[1;30m[19:52:34] \u001b[0m \u001b[0;35mCOMMAND\t\u001b[0mPOST \t \"/wd/hub/session/d729d8d4e56c7082da83206b0b79d84f/element\"\n",
      "\u001b[1;30m[19:52:34] \u001b[0m \u001b[0;35mCOMMAND\t\u001b[0mPOST \t \"/wd/hub/session/d729d8d4e56c7082da83206b0b79d84f/element/0.3844506038527158-2/click\"\n",
      "\u001b[1;30m[19:52:36] \u001b[0m \u001b[0;35mCOMMAND\t\u001b[0mGET \t \"/wd/hub/session/d729d8d4e56c7082da83206b0b79d84f/url\"\n",
      "\u001b[1;30m[19:52:37] \u001b[0m \u001b[0;35mCOMMAND\t\u001b[0mPOST \t \"/wd/hub/session/d729d8d4e56c7082da83206b0b79d84f/execute\"\n",
      "\u001b[1;30m[19:52:37] \u001b[0m \u001b[0;35mCOMMAND\t\u001b[0mPOST \t \"/wd/hub/session/d729d8d4e56c7082da83206b0b79d84f/execute\"\n",
      "\u001b[1;30m[19:52:37] \u001b[0m \u001b[0;35mCOMMAND\t\u001b[0mPOST \t \"/wd/hub/session/d729d8d4e56c7082da83206b0b79d84f/url\"\n",
      "\u001b[1;30m[19:52:42] \u001b[0m \u001b[0;35mCOMMAND\t\u001b[0mPOST \t \"/wd/hub/session/d729d8d4e56c7082da83206b0b79d84f/execute\"\n",
      "\u001b[1;30m[19:52:42] \u001b[0m \u001b[0;35mCOMMAND\t\u001b[0mPOST \t \"/wd/hub/session/d729d8d4e56c7082da83206b0b79d84f/execute\"\n",
      "\u001b[1;30m[19:52:44] \u001b[0m \u001b[0;35mCOMMAND\t\u001b[0mPOST \t \"/wd/hub/session/d729d8d4e56c7082da83206b0b79d84f/execute\"\n",
      "[ { from: 'Brian',\n",
      "    message: 'Brian\\nLiving the dream? Mm\\n',\n",
      "    time: 2017-11-23T02:34:00.000Z } ]\n",
      "\u001b[1;30m[19:52:44] \u001b[0m \u001b[0;35mCOMMAND\t\u001b[0mPOST \t \"/wd/hub/session/d729d8d4e56c7082da83206b0b79d84f/window\"\n",
      "\u001b[1;30m[19:52:44] \u001b[0m \u001b[0;35mCOMMAND\t\u001b[0mGET \t \"/wd/hub/session/d729d8d4e56c7082da83206b0b79d84f/url\"\n",
      "\u001b[1;30m[19:52:44] \u001b[0m \u001b[0;35mCOMMAND\t\u001b[0mPOST \t \"/wd/hub/session/d729d8d4e56c7082da83206b0b79d84f/execute\"\n",
      "\u001b[1;30m[19:52:44] \u001b[0m \u001b[0;35mCOMMAND\t\u001b[0mPOST \t \"/wd/hub/session/d729d8d4e56c7082da83206b0b79d84f/element\"\n",
      "\u001b[1;30m[19:52:44] \u001b[0m \u001b[0;35mCOMMAND\t\u001b[0mPOST \t \"/wd/hub/session/d729d8d4e56c7082da83206b0b79d84f/element/0.2931094973173951-1/click\"\n",
      "\u001b[1;30m[19:52:45] \u001b[0m \u001b[0;35mCOMMAND\t\u001b[0mGET \t \"/wd/hub/session/d729d8d4e56c7082da83206b0b79d84f/url\"\n",
      "\u001b[1;30m[19:52:46] \u001b[0m \u001b[0;35mCOMMAND\t\u001b[0mPOST \t \"/wd/hub/session/d729d8d4e56c7082da83206b0b79d84f/execute\"\n",
      "\u001b[1;30m[19:52:46] \u001b[0m \u001b[0;35mCOMMAND\t\u001b[0mPOST \t \"/wd/hub/session/d729d8d4e56c7082da83206b0b79d84f/execute\"\n",
      "\u001b[1;30m[19:52:46] \u001b[0m \u001b[0;35mCOMMAND\t\u001b[0mPOST \t \"/wd/hub/session/d729d8d4e56c7082da83206b0b79d84f/url\"\n",
      "\u001b[1;30m[19:52:51] \u001b[0m \u001b[0;35mCOMMAND\t\u001b[0mPOST \t \"/wd/hub/session/d729d8d4e56c7082da83206b0b79d84f/execute\"\n",
      "\u001b[1;30m[19:52:51] \u001b[0m \u001b[0;35mCOMMAND\t\u001b[0mPOST \t \"/wd/hub/session/d729d8d4e56c7082da83206b0b79d84f/execute\"\n",
      "\u001b[1;30m[19:52:53] \u001b[0m \u001b[0;35mCOMMAND\t\u001b[0mPOST \t \"/wd/hub/session/d729d8d4e56c7082da83206b0b79d84f/execute\"\n",
      "[ { from: 'Brian',\n",
      "    message: 'Brian\\nLiving the dream? Mm\\n',\n",
      "    time: 2017-11-23T02:34:00.000Z } ]\n",
      "\u001b[1;30m[19:52:53] \u001b[0m \u001b[0;35mCOMMAND\t\u001b[0mPOST \t \"/wd/hub/session/d729d8d4e56c7082da83206b0b79d84f/window\"\n",
      "\u001b[1;30m[19:52:53] \u001b[0m \u001b[0;35mCOMMAND\t\u001b[0mGET \t \"/wd/hub/session/d729d8d4e56c7082da83206b0b79d84f/url\"\n",
      "\u001b[1;30m[19:52:53] \u001b[0m \u001b[0;35mCOMMAND\t\u001b[0mPOST \t \"/wd/hub/session/d729d8d4e56c7082da83206b0b79d84f/execute\"\n",
      "\u001b[1;30m[19:52:53] \u001b[0m \u001b[0;35mCOMMAND\t\u001b[0mPOST \t \"/wd/hub/session/d729d8d4e56c7082da83206b0b79d84f/element\"\n",
      "\u001b[1;30m[19:52:53] \u001b[0m \u001b[0;35mCOMMAND\t\u001b[0mPOST \t \"/wd/hub/session/d729d8d4e56c7082da83206b0b79d84f/element/0.4004417342231741-1/click\"\n",
      "\u001b[1;30m[19:52:55] \u001b[0m \u001b[0;35mCOMMAND\t\u001b[0mGET \t \"/wd/hub/session/d729d8d4e56c7082da83206b0b79d84f/url\"\n",
      "\u001b[1;30m[19:52:56] \u001b[0m \u001b[0;35mCOMMAND\t\u001b[0mPOST \t \"/wd/hub/session/d729d8d4e56c7082da83206b0b79d84f/execute\"\n",
      "\u001b[1;30m[19:52:56] \u001b[0m \u001b[0;35mCOMMAND\t\u001b[0mPOST \t \"/wd/hub/session/d729d8d4e56c7082da83206b0b79d84f/execute\"\n",
      "\u001b[1;30m[19:52:56] \u001b[0m \u001b[0;35mCOMMAND\t\u001b[0mPOST \t \"/wd/hub/session/d729d8d4e56c7082da83206b0b79d84f/url\"\n",
      "\u001b[1;30m[19:53:01] \u001b[0m \u001b[0;35mCOMMAND\t\u001b[0mPOST \t \"/wd/hub/session/d729d8d4e56c7082da83206b0b79d84f/execute\"\n",
      "\u001b[1;30m[19:53:01] \u001b[0m \u001b[0;35mCOMMAND\t\u001b[0mPOST \t \"/wd/hub/session/d729d8d4e56c7082da83206b0b79d84f/execute\"\n",
      "\u001b[1;30m[19:53:03] \u001b[0m \u001b[0;35mCOMMAND\t\u001b[0mPOST \t \"/wd/hub/session/d729d8d4e56c7082da83206b0b79d84f/execute\"\n",
      "[ { from: 'Brian',\n",
      "    message: 'Brian\\nLiving the dream? Mm\\n\\n',\n",
      "    time: 2017-11-23T02:34:00.000Z } ]\n",
      "\u001b[1;30m[19:53:03] \u001b[0m \u001b[0;35mCOMMAND\t\u001b[0mPOST \t \"/wd/hub/session/d729d8d4e56c7082da83206b0b79d84f/window\"\n",
      "\u001b[1;30m[19:53:03] \u001b[0m \u001b[0;35mCOMMAND\t\u001b[0mGET \t \"/wd/hub/session/d729d8d4e56c7082da83206b0b79d84f/url\"\n",
      "\u001b[1;30m[19:53:03] \u001b[0m \u001b[0;35mCOMMAND\t\u001b[0mPOST \t \"/wd/hub/session/d729d8d4e56c7082da83206b0b79d84f/execute\"\n",
      "\u001b[1;30m[19:53:03] \u001b[0m \u001b[0;35mCOMMAND\t\u001b[0mPOST \t \"/wd/hub/session/d729d8d4e56c7082da83206b0b79d84f/element\"\n",
      "\u001b[1;30m[19:53:03] \u001b[0m \u001b[0;35mCOMMAND\t\u001b[0mPOST \t \"/wd/hub/session/d729d8d4e56c7082da83206b0b79d84f/element/0.7369787512285413-1/click\"\n",
      "\u001b[1;30m[19:53:04] \u001b[0m \u001b[0;35mCOMMAND\t\u001b[0mGET \t \"/wd/hub/session/d729d8d4e56c7082da83206b0b79d84f/url\"\n",
      "\u001b[1;30m[19:53:05] \u001b[0m \u001b[0;35mCOMMAND\t\u001b[0mPOST \t \"/wd/hub/session/d729d8d4e56c7082da83206b0b79d84f/execute\"\n",
      "\u001b[1;30m[19:53:05] \u001b[0m \u001b[0;35mCOMMAND\t\u001b[0mPOST \t \"/wd/hub/session/d729d8d4e56c7082da83206b0b79d84f/execute\"\n",
      "\u001b[1;30m[19:53:05] \u001b[0m \u001b[0;35mCOMMAND\t\u001b[0mPOST \t \"/wd/hub/session/d729d8d4e56c7082da83206b0b79d84f/url\"\n",
      "\u001b[1;30m[19:53:10] \u001b[0m \u001b[0;35mCOMMAND\t\u001b[0mPOST \t \"/wd/hub/session/d729d8d4e56c7082da83206b0b79d84f/execute\"\n",
      "\u001b[1;30m[19:53:10] \u001b[0m \u001b[0;35mCOMMAND\t\u001b[0mPOST \t \"/wd/hub/session/d729d8d4e56c7082da83206b0b79d84f/execute\"\n",
      "\u001b[1;30m[19:53:12] \u001b[0m \u001b[0;35mCOMMAND\t\u001b[0mPOST \t \"/wd/hub/session/d729d8d4e56c7082da83206b0b79d84f/execute\"\n",
      "[ { from: 'Brian',\n",
      "    message: 'Brian\\nLiving the dream? Mm\\n',\n",
      "    time: 2017-11-23T02:34:00.000Z } ]\n",
      "\u001b[1;30m[19:53:12] \u001b[0m \u001b[0;35mCOMMAND\t\u001b[0mPOST \t \"/wd/hub/session/d729d8d4e56c7082da83206b0b79d84f/window\"\n",
      "\u001b[1;30m[19:53:12] \u001b[0m \u001b[0;35mCOMMAND\t\u001b[0mGET \t \"/wd/hub/session/d729d8d4e56c7082da83206b0b79d84f/url\"\n",
      "\u001b[1;30m[19:53:12] \u001b[0m \u001b[0;35mCOMMAND\t\u001b[0mPOST \t \"/wd/hub/session/d729d8d4e56c7082da83206b0b79d84f/execute\"\n",
      "\u001b[1;30m[19:53:12] \u001b[0m \u001b[0;35mCOMMAND\t\u001b[0mPOST \t \"/wd/hub/session/d729d8d4e56c7082da83206b0b79d84f/element\"\n",
      "\u001b[1;30m[19:53:12] \u001b[0m \u001b[0;35mCOMMAND\t\u001b[0mPOST \t \"/wd/hub/session/d729d8d4e56c7082da83206b0b79d84f/element/0.654408355171922-1/click\"\n",
      "\u001b[1;30m[19:53:14] \u001b[0m \u001b[0;35mCOMMAND\t\u001b[0mGET \t \"/wd/hub/session/d729d8d4e56c7082da83206b0b79d84f/url\"\n",
      "\u001b[1;30m[19:53:15] \u001b[0m \u001b[0;35mCOMMAND\t\u001b[0mPOST \t \"/wd/hub/session/d729d8d4e56c7082da83206b0b79d84f/execute\"\n",
      "\u001b[1;30m[19:53:15] \u001b[0m \u001b[0;35mCOMMAND\t\u001b[0mPOST \t \"/wd/hub/session/d729d8d4e56c7082da83206b0b79d84f/execute\"\n",
      "\u001b[1;30m[19:53:15] \u001b[0m \u001b[0;35mCOMMAND\t\u001b[0mPOST \t \"/wd/hub/session/d729d8d4e56c7082da83206b0b79d84f/element/0.654408355171922-2/click\"\n",
      "\u001b[1;30m[19:53:20] \u001b[0m \u001b[0;35mCOMMAND\t\u001b[0mPOST \t \"/wd/hub/session/d729d8d4e56c7082da83206b0b79d84f/elements\"\n",
      "\u001b[1;30m[19:53:20] \u001b[0m \u001b[0;35mCOMMAND\t\u001b[0mPOST \t \"/wd/hub/session/d729d8d4e56c7082da83206b0b79d84f/elements\"\n",
      "\u001b[1;30m[19:53:20] \u001b[0m \u001b[0;35mCOMMAND\t\u001b[0mGET \t \"/wd/hub/session/d729d8d4e56c7082da83206b0b79d84f/url\"\n",
      "\u001b[1;30m[19:53:20] \u001b[0m \u001b[0;35mCOMMAND\t\u001b[0mGET \t \"/wd/hub/session/d729d8d4e56c7082da83206b0b79d84f/element/0.8875172791291324-1/text\"\n",
      "\u001b[1;30m[19:53:20] \u001b[0m \u001b[0;35mCOMMAND\t\u001b[0mPOST \t \"/wd/hub/session/d729d8d4e56c7082da83206b0b79d84f/url\"\n",
      "\u001b[1;30m[19:53:25] \u001b[0m \u001b[0;35mCOMMAND\t\u001b[0mPOST \t \"/wd/hub/session/d729d8d4e56c7082da83206b0b79d84f/execute\"\n",
      "\u001b[1;30m[19:53:25] \u001b[0m \u001b[0;35mCOMMAND\t\u001b[0mPOST \t \"/wd/hub/session/d729d8d4e56c7082da83206b0b79d84f/execute\"\n",
      "\u001b[1;30m[19:53:27] \u001b[0m \u001b[0;35mCOMMAND\t\u001b[0mPOST \t \"/wd/hub/session/d729d8d4e56c7082da83206b0b79d84f/execute\"\n",
      "[ { from: 'Brian',\n",
      "    message: 'Brian\\nLiving the dream? Mm\\n',\n",
      "    time: 2017-11-23T02:35:00.000Z } ]\n",
      "\u001b[1;30m[19:53:27] \u001b[0m \u001b[0;35mCOMMAND\t\u001b[0mPOST \t \"/wd/hub/session/d729d8d4e56c7082da83206b0b79d84f/window\"\n",
      "\u001b[1;30m[19:53:27] \u001b[0m \u001b[0;35mCOMMAND\t\u001b[0mGET \t \"/wd/hub/session/d729d8d4e56c7082da83206b0b79d84f/url\"\n",
      "\u001b[1;30m[19:53:27] \u001b[0m \u001b[0;35mCOMMAND\t\u001b[0mPOST \t \"/wd/hub/session/d729d8d4e56c7082da83206b0b79d84f/execute\"\n",
      "\u001b[1;30m[19:53:27] \u001b[0m \u001b[0;35mCOMMAND\t\u001b[0mPOST \t \"/wd/hub/session/d729d8d4e56c7082da83206b0b79d84f/element\"\n",
      "\u001b[1;30m[19:53:27] \u001b[0m \u001b[0;35mCOMMAND\t\u001b[0mPOST \t \"/wd/hub/session/d729d8d4e56c7082da83206b0b79d84f/element/0.08039887973119852-1/click\"\n",
      "\u001b[1;30m[19:53:29] \u001b[0m \u001b[0;35mCOMMAND\t\u001b[0mGET \t \"/wd/hub/session/d729d8d4e56c7082da83206b0b79d84f/url\"\n",
      "\u001b[1;30m[19:53:30] \u001b[0m \u001b[0;35mCOMMAND\t\u001b[0mPOST \t \"/wd/hub/session/d729d8d4e56c7082da83206b0b79d84f/execute\"\n",
      "\u001b[1;30m[19:53:30] \u001b[0m \u001b[0;35mCOMMAND\t\u001b[0mPOST \t \"/wd/hub/session/d729d8d4e56c7082da83206b0b79d84f/execute\"\n",
      "\u001b[1;30m[19:53:30] \u001b[0m \u001b[0;35mCOMMAND\t\u001b[0mPOST \t \"/wd/hub/session/d729d8d4e56c7082da83206b0b79d84f/element/0.08039887973119852-2/click\"\n",
      "\u001b[1;30m[19:53:38] \u001b[0m \u001b[0;35mCOMMAND\t\u001b[0mPOST \t \"/wd/hub/session/d729d8d4e56c7082da83206b0b79d84f/elements\"\n",
      "\u001b[1;30m[19:53:38] \u001b[0m \u001b[0;35mCOMMAND\t\u001b[0mPOST \t \"/wd/hub/session/d729d8d4e56c7082da83206b0b79d84f/elements\"\n",
      "\u001b[1;30m[19:53:38] \u001b[0m \u001b[0;35mCOMMAND\t\u001b[0mGET \t \"/wd/hub/session/d729d8d4e56c7082da83206b0b79d84f/url\"\n",
      "\u001b[1;30m[19:53:38] \u001b[0m \u001b[0;35mCOMMAND\t\u001b[0mPOST \t \"/wd/hub/session/d729d8d4e56c7082da83206b0b79d84f/elements\"\n",
      "\u001b[1;30m[19:53:38] \u001b[0m \u001b[0;35mCOMMAND\t\u001b[0mGET \t \"/wd/hub/session/d729d8d4e56c7082da83206b0b79d84f/element/0.35671716221294236-7/text\"\n",
      "\u001b[1;30m[19:53:38] \u001b[0m \u001b[0;35mCOMMAND\t\u001b[0mGET \t \"/wd/hub/session/d729d8d4e56c7082da83206b0b79d84f/element/0.35671716221294236-1/text\"\n",
      "\u001b[1;30m[19:53:38] \u001b[0m \u001b[0;35mCOMMAND\t\u001b[0mGET \t \"/wd/hub/session/d729d8d4e56c7082da83206b0b79d84f/element/0.35671716221294236-2/text\"\n",
      "\u001b[1;30m[19:53:38] \u001b[0m \u001b[0;35mCOMMAND\t\u001b[0mGET \t \"/wd/hub/session/d729d8d4e56c7082da83206b0b79d84f/element/0.35671716221294236-3/text\"\n",
      "\u001b[1;30m[19:53:38] \u001b[0m \u001b[0;35mCOMMAND\t\u001b[0mGET \t \"/wd/hub/session/d729d8d4e56c7082da83206b0b79d84f/element/0.35671716221294236-4/text\"\n",
      "\u001b[1;30m[19:53:38] \u001b[0m \u001b[0;35mCOMMAND\t\u001b[0mGET \t \"/wd/hub/session/d729d8d4e56c7082da83206b0b79d84f/element/0.35671716221294236-5/text\"\n",
      "\u001b[1;30m[19:53:38] \u001b[0m \u001b[0;35mCOMMAND\t\u001b[0mGET \t \"/wd/hub/session/d729d8d4e56c7082da83206b0b79d84f/element/0.35671716221294236-6/text\"\n",
      "\u001b[1;30m[19:53:38] \u001b[0m \u001b[0;35mCOMMAND\t\u001b[0mPOST \t \"/wd/hub/session/d729d8d4e56c7082da83206b0b79d84f/url\"\n",
      "\u001b[1;30m[19:53:43] \u001b[0m \u001b[0;35mCOMMAND\t\u001b[0mPOST \t \"/wd/hub/session/d729d8d4e56c7082da83206b0b79d84f/execute\"\n",
      "\u001b[1;30m[19:53:43] \u001b[0m \u001b[0;35mCOMMAND\t\u001b[0mPOST \t \"/wd/hub/session/d729d8d4e56c7082da83206b0b79d84f/execute\"\n",
      "\u001b[1;30m[19:53:45] \u001b[0m \u001b[0;35mCOMMAND\t\u001b[0mPOST \t \"/wd/hub/session/d729d8d4e56c7082da83206b0b79d84f/execute\"\n",
      "[ { from: 'Brian',\n",
      "    message: 'Brian\\nLiving the dream? Mm\\n',\n",
      "    time: 2017-11-23T02:35:00.000Z } ]\n",
      "\u001b[1;30m[19:53:45] \u001b[0m \u001b[0;35mCOMMAND\t\u001b[0mPOST \t \"/wd/hub/session/d729d8d4e56c7082da83206b0b79d84f/window\"\n",
      "\u001b[1;30m[19:53:45] \u001b[0m \u001b[0;35mCOMMAND\t\u001b[0mGET \t \"/wd/hub/session/d729d8d4e56c7082da83206b0b79d84f/url\"\n",
      "\u001b[1;30m[19:53:45] \u001b[0m \u001b[0;35mCOMMAND\t\u001b[0mPOST \t \"/wd/hub/session/d729d8d4e56c7082da83206b0b79d84f/execute\"\n",
      "\u001b[1;30m[19:53:45] \u001b[0m \u001b[0;35mCOMMAND\t\u001b[0mPOST \t \"/wd/hub/session/d729d8d4e56c7082da83206b0b79d84f/element\"\n",
      "\u001b[1;30m[19:53:45] \u001b[0m \u001b[0;35mCOMMAND\t\u001b[0mPOST \t \"/wd/hub/session/d729d8d4e56c7082da83206b0b79d84f/element/0.6783593097832459-1/click\"\n",
      "\u001b[1;30m[19:53:46] \u001b[0m \u001b[0;35mCOMMAND\t\u001b[0mGET \t \"/wd/hub/session/d729d8d4e56c7082da83206b0b79d84f/url\"\n",
      "\u001b[1;30m[19:53:47] \u001b[0m \u001b[0;35mCOMMAND\t\u001b[0mPOST \t \"/wd/hub/session/d729d8d4e56c7082da83206b0b79d84f/execute\"\n",
      "\u001b[1;30m[19:53:47] \u001b[0m \u001b[0;35mCOMMAND\t\u001b[0mPOST \t \"/wd/hub/session/d729d8d4e56c7082da83206b0b79d84f/execute\"\n",
      "\u001b[1;30m[19:53:47] \u001b[0m \u001b[0;35mCOMMAND\t\u001b[0mPOST \t \"/wd/hub/session/d729d8d4e56c7082da83206b0b79d84f/element/0.6783593097832459-2/click\"\n",
      "\u001b[1;30m[19:53:57] \u001b[0m \u001b[0;35mCOMMAND\t\u001b[0mPOST \t \"/wd/hub/session/d729d8d4e56c7082da83206b0b79d84f/elements\"\n",
      "\u001b[1;30m[19:53:57] \u001b[0m \u001b[0;35mCOMMAND\t\u001b[0mPOST \t \"/wd/hub/session/d729d8d4e56c7082da83206b0b79d84f/elements\"\n",
      "\u001b[1;30m[19:53:57] \u001b[0m \u001b[0;35mCOMMAND\t\u001b[0mGET \t \"/wd/hub/session/d729d8d4e56c7082da83206b0b79d84f/url\"\n",
      "\u001b[1;30m[19:53:57] \u001b[0m \u001b[0;35mCOMMAND\t\u001b[0mPOST \t \"/wd/hub/session/d729d8d4e56c7082da83206b0b79d84f/elements\"\n",
      "\u001b[1;30m[19:53:57] \u001b[0m \u001b[0;35mCOMMAND\t\u001b[0mGET \t \"/wd/hub/session/d729d8d4e56c7082da83206b0b79d84f/element/0.50579055257684-7/text\"\n",
      "\u001b[1;30m[19:53:57] \u001b[0m \u001b[0;35mCOMMAND\t\u001b[0mGET \t \"/wd/hub/session/d729d8d4e56c7082da83206b0b79d84f/element/0.50579055257684-1/text\"\n",
      "\u001b[1;30m[19:53:57] \u001b[0m \u001b[0;35mCOMMAND\t\u001b[0mGET \t \"/wd/hub/session/d729d8d4e56c7082da83206b0b79d84f/element/0.50579055257684-2/text\"\n",
      "\u001b[1;30m[19:53:57] \u001b[0m \u001b[0;35mCOMMAND\t\u001b[0mGET \t \"/wd/hub/session/d729d8d4e56c7082da83206b0b79d84f/element/0.50579055257684-3/text\"\n",
      "\u001b[1;30m[19:53:57] \u001b[0m \u001b[0;35mCOMMAND\t\u001b[0mGET \t \"/wd/hub/session/d729d8d4e56c7082da83206b0b79d84f/element/0.50579055257684-4/text\"\n",
      "\u001b[1;30m[19:53:57] \u001b[0m \u001b[0;35mCOMMAND\t\u001b[0mGET \t \"/wd/hub/session/d729d8d4e56c7082da83206b0b79d84f/element/0.50579055257684-5/text\"\n",
      "\u001b[1;30m[19:53:57] \u001b[0m \u001b[0;35mCOMMAND\t\u001b[0mGET \t \"/wd/hub/session/d729d8d4e56c7082da83206b0b79d84f/element/0.50579055257684-6/text\"\n",
      "\u001b[1;30m[19:53:57] \u001b[0m \u001b[0;35mCOMMAND\t\u001b[0mPOST \t \"/wd/hub/session/d729d8d4e56c7082da83206b0b79d84f/url\"\n",
      "\u001b[1;30m[19:54:02] \u001b[0m \u001b[0;35mCOMMAND\t\u001b[0mPOST \t \"/wd/hub/session/d729d8d4e56c7082da83206b0b79d84f/execute\"\n",
      "\u001b[1;30m[19:54:02] \u001b[0m \u001b[0;35mCOMMAND\t\u001b[0mPOST \t \"/wd/hub/session/d729d8d4e56c7082da83206b0b79d84f/execute\"\n",
      "\u001b[1;30m[19:54:04] \u001b[0m \u001b[0;35mCOMMAND\t\u001b[0mPOST \t \"/wd/hub/session/d729d8d4e56c7082da83206b0b79d84f/execute\"\n",
      "[ { from: 'Brian',\n",
      "    message: 'Brian\\nLiving the dream? Mm\\n',\n",
      "    time: 2017-11-23T02:35:00.000Z } ]\n",
      "\u001b[1;30m[19:54:04] \u001b[0m \u001b[0;35mCOMMAND\t\u001b[0mPOST \t \"/wd/hub/session/d729d8d4e56c7082da83206b0b79d84f/window\"\n",
      "\u001b[1;30m[19:54:05] \u001b[0m \u001b[0;35mCOMMAND\t\u001b[0mGET \t \"/wd/hub/session/d729d8d4e56c7082da83206b0b79d84f/url\"\n",
      "\u001b[1;30m[19:54:05] \u001b[0m \u001b[0;35mCOMMAND\t\u001b[0mPOST \t \"/wd/hub/session/d729d8d4e56c7082da83206b0b79d84f/execute\"\n",
      "\u001b[1;30m[19:54:05] \u001b[0m \u001b[0;35mCOMMAND\t\u001b[0mPOST \t \"/wd/hub/session/d729d8d4e56c7082da83206b0b79d84f/element\"\n",
      "\u001b[1;30m[19:54:05] \u001b[0m \u001b[0;35mCOMMAND\t\u001b[0mPOST \t \"/wd/hub/session/d729d8d4e56c7082da83206b0b79d84f/element/0.2765557618729113-1/click\"\n",
      "\u001b[1;30m[19:54:06] \u001b[0m \u001b[0;35mCOMMAND\t\u001b[0mGET \t \"/wd/hub/session/d729d8d4e56c7082da83206b0b79d84f/url\"\n",
      "\u001b[1;30m[19:54:07] \u001b[0m \u001b[0;35mCOMMAND\t\u001b[0mPOST \t \"/wd/hub/session/d729d8d4e56c7082da83206b0b79d84f/execute\"\n",
      "\u001b[1;30m[19:54:07] \u001b[0m \u001b[0;35mCOMMAND\t\u001b[0mPOST \t \"/wd/hub/session/d729d8d4e56c7082da83206b0b79d84f/execute\"\n",
      "\u001b[1;30m[19:54:07] \u001b[0m \u001b[0;35mCOMMAND\t\u001b[0mPOST \t \"/wd/hub/session/d729d8d4e56c7082da83206b0b79d84f/element/0.2765557618729113-2/click\"\n",
      "\u001b[1;30m[19:54:12] \u001b[0m \u001b[0;35mCOMMAND\t\u001b[0mPOST \t \"/wd/hub/session/d729d8d4e56c7082da83206b0b79d84f/elements\"\n",
      "\u001b[1;30m[19:54:12] \u001b[0m \u001b[0;35mCOMMAND\t\u001b[0mPOST \t \"/wd/hub/session/d729d8d4e56c7082da83206b0b79d84f/elements\"\n",
      "\u001b[1;30m[19:54:12] \u001b[0m \u001b[0;35mCOMMAND\t\u001b[0mGET \t \"/wd/hub/session/d729d8d4e56c7082da83206b0b79d84f/url\"\n",
      "\u001b[1;30m[19:54:12] \u001b[0m \u001b[0;35mCOMMAND\t\u001b[0mGET \t \"/wd/hub/session/d729d8d4e56c7082da83206b0b79d84f/element/0.47839413105577866-1/text\"\n",
      "\u001b[1;30m[19:54:12] \u001b[0m \u001b[0;35mCOMMAND\t\u001b[0mPOST \t \"/wd/hub/session/d729d8d4e56c7082da83206b0b79d84f/url\"\n",
      "\u001b[1;30m[19:54:16] \u001b[0m \u001b[0;35mCOMMAND\t\u001b[0mPOST \t \"/wd/hub/session/d729d8d4e56c7082da83206b0b79d84f/execute\"\n",
      "\u001b[1;30m[19:54:16] \u001b[0m \u001b[0;35mCOMMAND\t\u001b[0mPOST \t \"/wd/hub/session/d729d8d4e56c7082da83206b0b79d84f/execute\"\n",
      "\u001b[1;30m[19:54:18] \u001b[0m \u001b[0;35mCOMMAND\t\u001b[0mPOST \t \"/wd/hub/session/d729d8d4e56c7082da83206b0b79d84f/execute\"\n",
      "[ { from: 'Brian',\n",
      "    message: 'Brian\\nLiving the dream? Mm\\n',\n",
      "    time: 2017-11-23T02:35:00.000Z } ]\n",
      "\u001b[1;30m[19:54:19] \u001b[0m \u001b[0;35mCOMMAND\t\u001b[0mPOST \t \"/wd/hub/session/d729d8d4e56c7082da83206b0b79d84f/window\"\n",
      "\u001b[1;30m[19:54:19] \u001b[0m \u001b[0;35mCOMMAND\t\u001b[0mGET \t \"/wd/hub/session/d729d8d4e56c7082da83206b0b79d84f/url\"\n",
      "\u001b[1;30m[19:54:19] \u001b[0m \u001b[0;35mCOMMAND\t\u001b[0mPOST \t \"/wd/hub/session/d729d8d4e56c7082da83206b0b79d84f/execute\"\n",
      "\u001b[1;30m[19:54:19] \u001b[0m \u001b[0;35mCOMMAND\t\u001b[0mPOST \t \"/wd/hub/session/d729d8d4e56c7082da83206b0b79d84f/element\"\n",
      "\u001b[1;30m[19:54:19] \u001b[0m \u001b[0;35mCOMMAND\t\u001b[0mPOST \t \"/wd/hub/session/d729d8d4e56c7082da83206b0b79d84f/element/0.8892514305606798-1/click\"\n",
      "\u001b[1;30m[19:54:20] \u001b[0m \u001b[0;35mCOMMAND\t\u001b[0mGET \t \"/wd/hub/session/d729d8d4e56c7082da83206b0b79d84f/url\"\n",
      "\u001b[1;30m[19:54:21] \u001b[0m \u001b[0;35mCOMMAND\t\u001b[0mPOST \t \"/wd/hub/session/d729d8d4e56c7082da83206b0b79d84f/execute\"\n",
      "\u001b[1;30m[19:54:21] \u001b[0m \u001b[0;35mCOMMAND\t\u001b[0mPOST \t \"/wd/hub/session/d729d8d4e56c7082da83206b0b79d84f/execute\"\n",
      "\u001b[1;30m[19:54:21] \u001b[0m \u001b[0;35mCOMMAND\t\u001b[0mPOST \t \"/wd/hub/session/d729d8d4e56c7082da83206b0b79d84f/element/0.8892514305606798-2/click\"\n",
      "\u001b[1;30m[19:54:26] \u001b[0m \u001b[0;35mCOMMAND\t\u001b[0mPOST \t \"/wd/hub/session/d729d8d4e56c7082da83206b0b79d84f/elements\"\n",
      "\u001b[1;30m[19:54:26] \u001b[0m \u001b[0;35mCOMMAND\t\u001b[0mPOST \t \"/wd/hub/session/d729d8d4e56c7082da83206b0b79d84f/elements\"\n",
      "\u001b[1;30m[19:54:26] \u001b[0m \u001b[0;35mCOMMAND\t\u001b[0mGET \t \"/wd/hub/session/d729d8d4e56c7082da83206b0b79d84f/url\"\n",
      "\u001b[1;30m[19:54:26] \u001b[0m \u001b[0;35mCOMMAND\t\u001b[0mGET \t \"/wd/hub/session/d729d8d4e56c7082da83206b0b79d84f/element/0.7839985187754419-1/text\"\n",
      "\u001b[1;30m[19:54:26] \u001b[0m \u001b[0;35mCOMMAND\t\u001b[0mPOST \t \"/wd/hub/session/d729d8d4e56c7082da83206b0b79d84f/url\"\n",
      "\u001b[1;30m[19:54:31] \u001b[0m \u001b[0;35mCOMMAND\t\u001b[0mPOST \t \"/wd/hub/session/d729d8d4e56c7082da83206b0b79d84f/execute\"\n",
      "\u001b[1;30m[19:54:31] \u001b[0m \u001b[0;35mCOMMAND\t\u001b[0mPOST \t \"/wd/hub/session/d729d8d4e56c7082da83206b0b79d84f/execute\"\n",
      "\u001b[1;30m[19:54:33] \u001b[0m \u001b[0;35mCOMMAND\t\u001b[0mPOST \t \"/wd/hub/session/d729d8d4e56c7082da83206b0b79d84f/execute\"\n",
      "[ { from: 'Brian',\n",
      "    message: 'Brian\\nLiving the dream? Mm\\n',\n",
      "    time: 2017-11-23T02:36:00.000Z } ]\n",
      "\u001b[1;30m[19:54:33] \u001b[0m \u001b[0;35mCOMMAND\t\u001b[0mPOST \t \"/wd/hub/session/d729d8d4e56c7082da83206b0b79d84f/window\"\n",
      "\u001b[1;30m[19:54:33] \u001b[0m \u001b[0;35mCOMMAND\t\u001b[0mGET \t \"/wd/hub/session/d729d8d4e56c7082da83206b0b79d84f/url\"\n",
      "\u001b[1;30m[19:54:33] \u001b[0m \u001b[0;35mCOMMAND\t\u001b[0mPOST \t \"/wd/hub/session/d729d8d4e56c7082da83206b0b79d84f/execute\"\n",
      "\u001b[1;30m[19:54:33] \u001b[0m \u001b[0;35mCOMMAND\t\u001b[0mPOST \t \"/wd/hub/session/d729d8d4e56c7082da83206b0b79d84f/element\"\n",
      "\u001b[1;30m[19:54:33] \u001b[0m \u001b[0;35mCOMMAND\t\u001b[0mPOST \t \"/wd/hub/session/d729d8d4e56c7082da83206b0b79d84f/element/0.3181558077175768-1/click\"\n",
      "\u001b[1;30m[19:54:35] \u001b[0m \u001b[0;35mCOMMAND\t\u001b[0mGET \t \"/wd/hub/session/d729d8d4e56c7082da83206b0b79d84f/url\"\n",
      "\u001b[1;30m[19:54:36] \u001b[0m \u001b[0;35mCOMMAND\t\u001b[0mPOST \t \"/wd/hub/session/d729d8d4e56c7082da83206b0b79d84f/execute\"\n",
      "\u001b[1;30m[19:54:36] \u001b[0m \u001b[0;35mCOMMAND\t\u001b[0mPOST \t \"/wd/hub/session/d729d8d4e56c7082da83206b0b79d84f/execute\"\n",
      "\u001b[1;30m[19:54:36] \u001b[0m \u001b[0;35mCOMMAND\t\u001b[0mPOST \t \"/wd/hub/session/d729d8d4e56c7082da83206b0b79d84f/element/0.3181558077175768-2/click\"\n",
      "\u001b[1;30m[19:54:40] \u001b[0m \u001b[0;35mCOMMAND\t\u001b[0mPOST \t \"/wd/hub/session/d729d8d4e56c7082da83206b0b79d84f/elements\"\n",
      "\u001b[1;30m[19:54:40] \u001b[0m \u001b[0;35mCOMMAND\t\u001b[0mPOST \t \"/wd/hub/session/d729d8d4e56c7082da83206b0b79d84f/elements\"\n",
      "\u001b[1;30m[19:54:40] \u001b[0m \u001b[0;35mCOMMAND\t\u001b[0mGET \t \"/wd/hub/session/d729d8d4e56c7082da83206b0b79d84f/url\"\n",
      "\u001b[1;30m[19:54:40] \u001b[0m \u001b[0;35mCOMMAND\t\u001b[0mPOST \t \"/wd/hub/session/d729d8d4e56c7082da83206b0b79d84f/elements\"\n",
      "\u001b[1;30m[19:54:40] \u001b[0m \u001b[0;35mCOMMAND\t\u001b[0mGET \t \"/wd/hub/session/d729d8d4e56c7082da83206b0b79d84f/element/0.11921324974083847-3/text\"\n",
      "\u001b[1;30m[19:54:40] \u001b[0m \u001b[0;35mCOMMAND\t\u001b[0mGET \t \"/wd/hub/session/d729d8d4e56c7082da83206b0b79d84f/element/0.11921324974083847-1/text\"\n",
      "\u001b[1;30m[19:54:40] \u001b[0m \u001b[0;35mCOMMAND\t\u001b[0mGET \t \"/wd/hub/session/d729d8d4e56c7082da83206b0b79d84f/element/0.11921324974083847-2/text\"\n",
      "\u001b[1;30m[19:54:40] \u001b[0m \u001b[0;35mCOMMAND\t\u001b[0mPOST \t \"/wd/hub/session/d729d8d4e56c7082da83206b0b79d84f/url\"\n",
      "\u001b[1;30m[19:54:45] \u001b[0m \u001b[0;35mCOMMAND\t\u001b[0mPOST \t \"/wd/hub/session/d729d8d4e56c7082da83206b0b79d84f/execute\"\n",
      "\u001b[1;30m[19:54:45] \u001b[0m \u001b[0;35mCOMMAND\t\u001b[0mPOST \t \"/wd/hub/session/d729d8d4e56c7082da83206b0b79d84f/execute\"\n",
      "\u001b[1;30m[19:54:47] \u001b[0m \u001b[0;35mCOMMAND\t\u001b[0mPOST \t \"/wd/hub/session/d729d8d4e56c7082da83206b0b79d84f/execute\"\n",
      "[ { from: 'Brian',\n",
      "    message: 'Brian\\nLiving the dream? Mm\\n',\n",
      "    time: 2017-11-23T02:36:00.000Z } ]\n",
      "\u001b[1;30m[19:54:47] \u001b[0m \u001b[0;35mCOMMAND\t\u001b[0mPOST \t \"/wd/hub/session/d729d8d4e56c7082da83206b0b79d84f/window\"\n",
      "\u001b[1;30m[19:54:47] \u001b[0m \u001b[0;35mCOMMAND\t\u001b[0mGET \t \"/wd/hub/session/d729d8d4e56c7082da83206b0b79d84f/url\"\n",
      "\u001b[1;30m[19:54:47] \u001b[0m \u001b[0;35mCOMMAND\t\u001b[0mPOST \t \"/wd/hub/session/d729d8d4e56c7082da83206b0b79d84f/execute\"\n",
      "\u001b[1;30m[19:54:48] \u001b[0m \u001b[0;35mCOMMAND\t\u001b[0mPOST \t \"/wd/hub/session/d729d8d4e56c7082da83206b0b79d84f/element\"\n",
      "\u001b[1;30m[19:54:48] \u001b[0m \u001b[0;35mCOMMAND\t\u001b[0mPOST \t \"/wd/hub/session/d729d8d4e56c7082da83206b0b79d84f/element/0.902275703535818-1/click\"\n",
      "\u001b[1;30m[19:54:49] \u001b[0m \u001b[0;35mCOMMAND\t\u001b[0mGET \t \"/wd/hub/session/d729d8d4e56c7082da83206b0b79d84f/url\"\n",
      "\u001b[1;30m[19:54:50] \u001b[0m \u001b[0;35mCOMMAND\t\u001b[0mPOST \t \"/wd/hub/session/d729d8d4e56c7082da83206b0b79d84f/execute\"\n",
      "\u001b[1;30m[19:54:50] \u001b[0m \u001b[0;35mCOMMAND\t\u001b[0mPOST \t \"/wd/hub/session/d729d8d4e56c7082da83206b0b79d84f/execute\"\n",
      "\u001b[1;30m[19:54:50] \u001b[0m \u001b[0;35mCOMMAND\t\u001b[0mPOST \t \"/wd/hub/session/d729d8d4e56c7082da83206b0b79d84f/element/0.902275703535818-2/click\"\n",
      "{ Error: An unknown server-side error occurred while processing the command.\n",
      "    at pause(2000) - facebook data.ipynb[2]:19:18\n",
      "  message: 'unknown error: Element <a class=\"_3oh-\" target=\"_self\" href=\"https://www.facebook.com/talbert.tso\">...</a> is not clickable at point (1123, 507). Other element would receive the click: <span>...</span>',\n",
      "  type: 'RuntimeError',\n",
      "  seleniumStack: \n",
      "   { status: 13,\n",
      "     type: 'UnknownError',\n",
      "     message: 'An unknown server-side error occurred while processing the command.',\n",
      "     orgStatusMessage: 'unknown error: Element <a class=\"_3oh-\" target=\"_self\" href=\"https://www.facebook.com/talbert.tso\">...</a> is not clickable at point (1123, 507). Other element would receive the click: <span>...</span>\\n  (Session info: chrome=60.0.3112.113)\\n  (Driver info: chromedriver=2.31.488763 (092de99f48a300323ecf8c2a4e2e7cab51de5ba8),platform=Linux 4.9.49-moby x86_64)' } }\n",
      "\u001b[1;30m[19:54:50] \u001b[0m \u001b[0;35mCOMMAND\t\u001b[0mPOST \t \"/wd/hub/session/d729d8d4e56c7082da83206b0b79d84f/url\"\n",
      "\u001b[1;30m[19:54:55] \u001b[0m \u001b[0;35mCOMMAND\t\u001b[0mPOST \t \"/wd/hub/session/d729d8d4e56c7082da83206b0b79d84f/execute\"\n",
      "\u001b[1;30m[19:54:55] \u001b[0m \u001b[0;35mCOMMAND\t\u001b[0mPOST \t \"/wd/hub/session/d729d8d4e56c7082da83206b0b79d84f/execute\"\n",
      "\u001b[1;30m[19:54:57] \u001b[0m \u001b[0;35mCOMMAND\t\u001b[0mPOST \t \"/wd/hub/session/d729d8d4e56c7082da83206b0b79d84f/execute\"\n",
      "Error: TypeError: Cannot read property 'name' of undefined\n",
      "    at Object.exec (/Users/briancullinan/jupytangular2/node_modules/webdriverio/build/lib/helpers/safeExecute.js:33:25)\n",
      "    at Object.resolve (/Users/briancullinan/jupytangular2/node_modules/webdriverio/build/lib/webdriverio.js:189:29)\n",
      "    at /Users/briancullinan/jupytangular2/node_modules/webdriverio/build/lib/webdriverio.js:538:32\n",
      "    at _fulfilled (/Users/briancullinan/jupytangular2/node_modules/q/q.js:854:54)\n",
      "    at self.promiseDispatch.done (/Users/briancullinan/jupytangular2/node_modules/q/q.js:883:30)\n",
      "    at Promise.promise.promiseDispatch (/Users/briancullinan/jupytangular2/node_modules/q/q.js:816:13)\n",
      "    at /Users/briancullinan/jupytangular2/node_modules/q/q.js:624:44\n",
      "    at runSingle (/Users/briancullinan/jupytangular2/node_modules/q/q.js:137:13)\n",
      "    at flush (/Users/briancullinan/jupytangular2/node_modules/q/q.js:125:13)\n",
      "    at _combinedTickCallback (internal/process/next_tick.js:131:7)\n",
      "Error: TypeError: Cannot read property 'messages' of undefined\n",
      "    at Object.exec (/Users/briancullinan/jupytangular2/node_modules/webdriverio/build/lib/helpers/safeExecute.js:33:25)\n",
      "    at Object.resolve (/Users/briancullinan/jupytangular2/node_modules/webdriverio/build/lib/webdriverio.js:189:29)\n",
      "    at /Users/briancullinan/jupytangular2/node_modules/webdriverio/build/lib/webdriverio.js:538:32\n",
      "    at _fulfilled (/Users/briancullinan/jupytangular2/node_modules/q/q.js:854:54)\n",
      "    at self.promiseDispatch.done (/Users/briancullinan/jupytangular2/node_modules/q/q.js:883:30)\n",
      "    at Promise.promise.promiseDispatch (/Users/briancullinan/jupytangular2/node_modules/q/q.js:816:13)\n",
      "    at /Users/briancullinan/jupytangular2/node_modules/q/q.js:624:44\n",
      "    at runSingle (/Users/briancullinan/jupytangular2/node_modules/q/q.js:137:13)\n",
      "    at flush (/Users/briancullinan/jupytangular2/node_modules/q/q.js:125:13)\n",
      "    at _combinedTickCallback (internal/process/next_tick.js:131:7)\n",
      "\u001b[1;30m[19:54:57] \u001b[0m \u001b[0;35mCOMMAND\t\u001b[0mPOST \t \"/wd/hub/session/d729d8d4e56c7082da83206b0b79d84f/window\"\n",
      "\u001b[1;30m[19:54:57] \u001b[0m \u001b[0;35mCOMMAND\t\u001b[0mGET \t \"/wd/hub/session/d729d8d4e56c7082da83206b0b79d84f/url\"\n",
      "\u001b[1;30m[19:54:57] \u001b[0m \u001b[0;35mCOMMAND\t\u001b[0mPOST \t \"/wd/hub/session/d729d8d4e56c7082da83206b0b79d84f/execute\"\n",
      "\u001b[1;30m[19:54:57] \u001b[0m \u001b[0;35mCOMMAND\t\u001b[0mPOST \t \"/wd/hub/session/d729d8d4e56c7082da83206b0b79d84f/element\"\n",
      "\u001b[1;30m[19:54:57] \u001b[0m \u001b[0;35mCOMMAND\t\u001b[0mPOST \t \"/wd/hub/session/d729d8d4e56c7082da83206b0b79d84f/element/0.11596716689056574-1/click\"\n",
      "\u001b[1;30m[19:54:58] \u001b[0m \u001b[0;35mCOMMAND\t\u001b[0mGET \t \"/wd/hub/session/d729d8d4e56c7082da83206b0b79d84f/url\"\n",
      "\u001b[1;30m[19:54:59] \u001b[0m \u001b[0;35mCOMMAND\t\u001b[0mPOST \t \"/wd/hub/session/d729d8d4e56c7082da83206b0b79d84f/execute\"\n",
      "\u001b[1;30m[19:54:59] \u001b[0m \u001b[0;35mCOMMAND\t\u001b[0mPOST \t \"/wd/hub/session/d729d8d4e56c7082da83206b0b79d84f/execute\"\n",
      "\u001b[1;30m[19:54:59] \u001b[0m \u001b[0;35mCOMMAND\t\u001b[0mPOST \t \"/wd/hub/session/d729d8d4e56c7082da83206b0b79d84f/element/0.11596716689056574-2/click\"\n",
      "\u001b[1;30m[19:55:05] \u001b[0m \u001b[0;35mCOMMAND\t\u001b[0mPOST \t \"/wd/hub/session/d729d8d4e56c7082da83206b0b79d84f/elements\"\n",
      "\u001b[1;30m[19:55:05] \u001b[0m \u001b[0;35mCOMMAND\t\u001b[0mPOST \t \"/wd/hub/session/d729d8d4e56c7082da83206b0b79d84f/elements\"\n",
      "\u001b[1;30m[19:55:05] \u001b[0m \u001b[0;35mCOMMAND\t\u001b[0mGET \t \"/wd/hub/session/d729d8d4e56c7082da83206b0b79d84f/url\"\n",
      "\u001b[1;30m[19:55:05] \u001b[0m \u001b[0;35mCOMMAND\t\u001b[0mGET \t \"/wd/hub/session/d729d8d4e56c7082da83206b0b79d84f/element/0.3049226008282553-1/text\"\n",
      "\u001b[1;30m[19:55:05] \u001b[0m \u001b[0;35mCOMMAND\t\u001b[0mPOST \t \"/wd/hub/session/d729d8d4e56c7082da83206b0b79d84f/elements\"\n",
      "\u001b[1;30m[19:55:05] \u001b[0m \u001b[0;35mCOMMAND\t\u001b[0mGET \t \"/wd/hub/session/d729d8d4e56c7082da83206b0b79d84f/element/0.3049226008282553-2/text\"\n",
      "\u001b[1;30m[19:55:05] \u001b[0m \u001b[0;35mCOMMAND\t\u001b[0mGET \t \"/wd/hub/session/d729d8d4e56c7082da83206b0b79d84f/element/0.3049226008282553-3/text\"\n",
      "\u001b[1;30m[19:55:05] \u001b[0m \u001b[0;35mCOMMAND\t\u001b[0mGET \t \"/wd/hub/session/d729d8d4e56c7082da83206b0b79d84f/element/0.3049226008282553-4/text\"\n",
      "\u001b[1;30m[19:55:05] \u001b[0m \u001b[0;35mCOMMAND\t\u001b[0mPOST \t \"/wd/hub/session/d729d8d4e56c7082da83206b0b79d84f/url\"\n",
      "\u001b[1;30m[19:55:10] \u001b[0m \u001b[0;35mCOMMAND\t\u001b[0mPOST \t \"/wd/hub/session/d729d8d4e56c7082da83206b0b79d84f/execute\"\n",
      "\u001b[1;30m[19:55:10] \u001b[0m \u001b[0;35mCOMMAND\t\u001b[0mPOST \t \"/wd/hub/session/d729d8d4e56c7082da83206b0b79d84f/execute\"\n",
      "\u001b[1;30m[19:55:12] \u001b[0m \u001b[0;35mCOMMAND\t\u001b[0mPOST \t \"/wd/hub/session/d729d8d4e56c7082da83206b0b79d84f/execute\"\n",
      "[ { from: 'Brian',\n",
      "    message: 'Brian\\nLiving the dream? Mm\\n\\n',\n",
      "    time: 2017-11-23T02:36:00.000Z } ]\n",
      "\u001b[1;30m[19:55:12] \u001b[0m \u001b[0;35mCOMMAND\t\u001b[0mPOST \t \"/wd/hub/session/d729d8d4e56c7082da83206b0b79d84f/window\"\n",
      "\u001b[1;30m[19:55:12] \u001b[0m \u001b[0;35mCOMMAND\t\u001b[0mGET \t \"/wd/hub/session/d729d8d4e56c7082da83206b0b79d84f/url\"\n",
      "\u001b[1;30m[19:55:12] \u001b[0m \u001b[0;35mCOMMAND\t\u001b[0mPOST \t \"/wd/hub/session/d729d8d4e56c7082da83206b0b79d84f/execute\"\n",
      "\u001b[1;30m[19:55:12] \u001b[0m \u001b[0;35mCOMMAND\t\u001b[0mPOST \t \"/wd/hub/session/d729d8d4e56c7082da83206b0b79d84f/element\"\n",
      "\u001b[1;30m[19:55:12] \u001b[0m \u001b[0;35mCOMMAND\t\u001b[0mPOST \t \"/wd/hub/session/d729d8d4e56c7082da83206b0b79d84f/element/0.8041003331461849-1/click\"\n",
      "\u001b[1;30m[19:55:14] \u001b[0m \u001b[0;35mCOMMAND\t\u001b[0mGET \t \"/wd/hub/session/d729d8d4e56c7082da83206b0b79d84f/url\"\n",
      "\u001b[1;30m[19:55:15] \u001b[0m \u001b[0;35mCOMMAND\t\u001b[0mPOST \t \"/wd/hub/session/d729d8d4e56c7082da83206b0b79d84f/execute\"\n",
      "\u001b[1;30m[19:55:15] \u001b[0m \u001b[0;35mCOMMAND\t\u001b[0mPOST \t \"/wd/hub/session/d729d8d4e56c7082da83206b0b79d84f/execute\"\n",
      "\u001b[1;30m[19:55:15] \u001b[0m \u001b[0;35mCOMMAND\t\u001b[0mPOST \t \"/wd/hub/session/d729d8d4e56c7082da83206b0b79d84f/element/0.8041003331461849-2/click\"\n",
      "\u001b[1;30m[19:55:20] \u001b[0m \u001b[0;35mCOMMAND\t\u001b[0mPOST \t \"/wd/hub/session/d729d8d4e56c7082da83206b0b79d84f/elements\"\n",
      "\u001b[1;30m[19:55:20] \u001b[0m \u001b[0;35mCOMMAND\t\u001b[0mPOST \t \"/wd/hub/session/d729d8d4e56c7082da83206b0b79d84f/elements\"\n",
      "\u001b[1;30m[19:55:20] \u001b[0m \u001b[0;35mCOMMAND\t\u001b[0mGET \t \"/wd/hub/session/d729d8d4e56c7082da83206b0b79d84f/url\"\n",
      "\u001b[1;30m[19:55:20] \u001b[0m \u001b[0;35mCOMMAND\t\u001b[0mGET \t \"/wd/hub/session/d729d8d4e56c7082da83206b0b79d84f/element/0.8343158663578933-1/text\"\n",
      "\u001b[1;30m[19:55:20] \u001b[0m \u001b[0;35mCOMMAND\t\u001b[0mPOST \t \"/wd/hub/session/d729d8d4e56c7082da83206b0b79d84f/elements\"\n",
      "\u001b[1;30m[19:55:20] \u001b[0m \u001b[0;35mCOMMAND\t\u001b[0mGET \t \"/wd/hub/session/d729d8d4e56c7082da83206b0b79d84f/element/0.8343158663578933-2/text\"\n",
      "\u001b[1;30m[19:55:20] \u001b[0m \u001b[0;35mCOMMAND\t\u001b[0mGET \t \"/wd/hub/session/d729d8d4e56c7082da83206b0b79d84f/element/0.8343158663578933-3/text\"\n",
      "\u001b[1;30m[19:55:20] \u001b[0m \u001b[0;35mCOMMAND\t\u001b[0mGET \t \"/wd/hub/session/d729d8d4e56c7082da83206b0b79d84f/element/0.8343158663578933-4/text\"\n",
      "\u001b[1;30m[19:55:20] \u001b[0m \u001b[0;35mCOMMAND\t\u001b[0mGET \t \"/wd/hub/session/d729d8d4e56c7082da83206b0b79d84f/element/0.8343158663578933-5/text\"\n",
      "\u001b[1;30m[19:55:20] \u001b[0m \u001b[0;35mCOMMAND\t\u001b[0mGET \t \"/wd/hub/session/d729d8d4e56c7082da83206b0b79d84f/element/0.8343158663578933-6/text\"\n",
      "\u001b[1;30m[19:55:20] \u001b[0m \u001b[0;35mCOMMAND\t\u001b[0mGET \t \"/wd/hub/session/d729d8d4e56c7082da83206b0b79d84f/element/0.8343158663578933-7/text\"\n",
      "\u001b[1;30m[19:55:20] \u001b[0m \u001b[0;35mCOMMAND\t\u001b[0mGET \t \"/wd/hub/session/d729d8d4e56c7082da83206b0b79d84f/element/0.8343158663578933-8/text\"\n",
      "\u001b[1;30m[19:55:21] \u001b[0m \u001b[0;35mCOMMAND\t\u001b[0mPOST \t \"/wd/hub/session/d729d8d4e56c7082da83206b0b79d84f/url\"\n",
      "\u001b[1;30m[19:55:25] \u001b[0m \u001b[0;35mCOMMAND\t\u001b[0mPOST \t \"/wd/hub/session/d729d8d4e56c7082da83206b0b79d84f/execute\"\n",
      "\u001b[1;30m[19:55:25] \u001b[0m \u001b[0;35mCOMMAND\t\u001b[0mPOST \t \"/wd/hub/session/d729d8d4e56c7082da83206b0b79d84f/execute\"\n",
      "\u001b[1;30m[19:55:28] \u001b[0m \u001b[0;35mCOMMAND\t\u001b[0mPOST \t \"/wd/hub/session/d729d8d4e56c7082da83206b0b79d84f/execute\"\n",
      "[ { from: 'Brian',\n",
      "    message: 'Brian\\nLiving the dream? Mm\\n',\n",
      "    time: 2017-11-23T02:36:00.000Z } ]\n",
      "\u001b[1;30m[19:55:28] \u001b[0m \u001b[0;35mCOMMAND\t\u001b[0mPOST \t \"/wd/hub/session/d729d8d4e56c7082da83206b0b79d84f/window\"\n",
      "\u001b[1;30m[19:55:28] \u001b[0m \u001b[0;35mCOMMAND\t\u001b[0mGET \t \"/wd/hub/session/d729d8d4e56c7082da83206b0b79d84f/url\"\n",
      "\u001b[1;30m[19:55:28] \u001b[0m \u001b[0;35mCOMMAND\t\u001b[0mPOST \t \"/wd/hub/session/d729d8d4e56c7082da83206b0b79d84f/execute\"\n",
      "\u001b[1;30m[19:55:28] \u001b[0m \u001b[0;35mCOMMAND\t\u001b[0mPOST \t \"/wd/hub/session/d729d8d4e56c7082da83206b0b79d84f/element\"\n",
      "\u001b[1;30m[19:55:28] \u001b[0m \u001b[0;35mCOMMAND\t\u001b[0mPOST \t \"/wd/hub/session/d729d8d4e56c7082da83206b0b79d84f/element/0.043752982063614665-1/click\"\n",
      "\u001b[1;30m[19:55:29] \u001b[0m \u001b[0;35mCOMMAND\t\u001b[0mGET \t \"/wd/hub/session/d729d8d4e56c7082da83206b0b79d84f/url\"\n",
      "\u001b[1;30m[19:55:30] \u001b[0m \u001b[0;35mCOMMAND\t\u001b[0mPOST \t \"/wd/hub/session/d729d8d4e56c7082da83206b0b79d84f/execute\"\n",
      "\u001b[1;30m[19:55:30] \u001b[0m \u001b[0;35mCOMMAND\t\u001b[0mPOST \t \"/wd/hub/session/d729d8d4e56c7082da83206b0b79d84f/execute\"\n",
      "\u001b[1;30m[19:55:30] \u001b[0m \u001b[0;35mCOMMAND\t\u001b[0mPOST \t \"/wd/hub/session/d729d8d4e56c7082da83206b0b79d84f/element/0.043752982063614665-2/click\"\n",
      "\u001b[1;30m[19:55:35] \u001b[0m \u001b[0;35mCOMMAND\t\u001b[0mPOST \t \"/wd/hub/session/d729d8d4e56c7082da83206b0b79d84f/elements\"\n",
      "\u001b[1;30m[19:55:35] \u001b[0m \u001b[0;35mCOMMAND\t\u001b[0mPOST \t \"/wd/hub/session/d729d8d4e56c7082da83206b0b79d84f/elements\"\n",
      "\u001b[1;30m[19:55:35] \u001b[0m \u001b[0;35mCOMMAND\t\u001b[0mGET \t \"/wd/hub/session/d729d8d4e56c7082da83206b0b79d84f/url\"\n",
      "\u001b[1;30m[19:55:35] \u001b[0m \u001b[0;35mCOMMAND\t\u001b[0mGET \t \"/wd/hub/session/d729d8d4e56c7082da83206b0b79d84f/element/0.5659540853144371-1/text\"\n",
      "\u001b[1;30m[19:55:35] \u001b[0m \u001b[0;35mCOMMAND\t\u001b[0mPOST \t \"/wd/hub/session/d729d8d4e56c7082da83206b0b79d84f/elements\"\n",
      "\u001b[1;30m[19:55:35] \u001b[0m \u001b[0;35mCOMMAND\t\u001b[0mGET \t \"/wd/hub/session/d729d8d4e56c7082da83206b0b79d84f/element/0.5659540853144371-2/text\"\n",
      "\u001b[1;30m[19:55:35] \u001b[0m \u001b[0;35mCOMMAND\t\u001b[0mGET \t \"/wd/hub/session/d729d8d4e56c7082da83206b0b79d84f/element/0.5659540853144371-3/text\"\n",
      "\u001b[1;30m[19:55:35] \u001b[0m \u001b[0;35mCOMMAND\t\u001b[0mGET \t \"/wd/hub/session/d729d8d4e56c7082da83206b0b79d84f/element/0.5659540853144371-4/text\"\n",
      "\u001b[1;30m[19:55:35] \u001b[0m \u001b[0;35mCOMMAND\t\u001b[0mGET \t \"/wd/hub/session/d729d8d4e56c7082da83206b0b79d84f/element/0.5659540853144371-5/text\"\n",
      "\u001b[1;30m[19:55:35] \u001b[0m \u001b[0;35mCOMMAND\t\u001b[0mGET \t \"/wd/hub/session/d729d8d4e56c7082da83206b0b79d84f/element/0.5659540853144371-6/text\"\n",
      "\u001b[1;30m[19:55:35] \u001b[0m \u001b[0;35mCOMMAND\t\u001b[0mPOST \t \"/wd/hub/session/d729d8d4e56c7082da83206b0b79d84f/url\"\n",
      "\u001b[1;30m[19:55:40] \u001b[0m \u001b[0;35mCOMMAND\t\u001b[0mPOST \t \"/wd/hub/session/d729d8d4e56c7082da83206b0b79d84f/execute\"\n",
      "\u001b[1;30m[19:55:40] \u001b[0m \u001b[0;35mCOMMAND\t\u001b[0mPOST \t \"/wd/hub/session/d729d8d4e56c7082da83206b0b79d84f/execute\"\n",
      "\u001b[1;30m[19:55:42] \u001b[0m \u001b[0;35mCOMMAND\t\u001b[0mPOST \t \"/wd/hub/session/d729d8d4e56c7082da83206b0b79d84f/execute\"\n",
      "[ { from: 'Brian',\n",
      "    message: 'Brian\\nLiving the dream? Mm\\n\\n',\n",
      "    time: 2017-11-23T02:36:00.000Z } ]\n",
      "\u001b[1;30m[19:55:42] \u001b[0m \u001b[0;35mCOMMAND\t\u001b[0mPOST \t \"/wd/hub/session/d729d8d4e56c7082da83206b0b79d84f/window\"\n",
      "\u001b[1;30m[19:55:42] \u001b[0m \u001b[0;35mCOMMAND\t\u001b[0mGET \t \"/wd/hub/session/d729d8d4e56c7082da83206b0b79d84f/url\"\n",
      "\u001b[1;30m[19:55:42] \u001b[0m \u001b[0;35mCOMMAND\t\u001b[0mPOST \t \"/wd/hub/session/d729d8d4e56c7082da83206b0b79d84f/execute\"\n",
      "\u001b[1;30m[19:55:42] \u001b[0m \u001b[0;35mCOMMAND\t\u001b[0mPOST \t \"/wd/hub/session/d729d8d4e56c7082da83206b0b79d84f/element\"\n",
      "\u001b[1;30m[19:55:42] \u001b[0m \u001b[0;35mCOMMAND\t\u001b[0mPOST \t \"/wd/hub/session/d729d8d4e56c7082da83206b0b79d84f/element/0.5113737999128163-1/click\"\n",
      "\u001b[1;30m[19:55:44] \u001b[0m \u001b[0;35mCOMMAND\t\u001b[0mGET \t \"/wd/hub/session/d729d8d4e56c7082da83206b0b79d84f/url\"\n",
      "\u001b[1;30m[19:55:45] \u001b[0m \u001b[0;35mCOMMAND\t\u001b[0mPOST \t \"/wd/hub/session/d729d8d4e56c7082da83206b0b79d84f/execute\"\n",
      "\u001b[1;30m[19:55:45] \u001b[0m \u001b[0;35mCOMMAND\t\u001b[0mPOST \t \"/wd/hub/session/d729d8d4e56c7082da83206b0b79d84f/execute\"\n",
      "\u001b[1;30m[19:55:45] \u001b[0m \u001b[0;35mCOMMAND\t\u001b[0mPOST \t \"/wd/hub/session/d729d8d4e56c7082da83206b0b79d84f/element/0.5113737999128163-2/click\"\n",
      "\u001b[1;30m[19:55:53] \u001b[0m \u001b[0;35mCOMMAND\t\u001b[0mPOST \t \"/wd/hub/session/d729d8d4e56c7082da83206b0b79d84f/elements\"\n",
      "\u001b[1;30m[19:55:53] \u001b[0m \u001b[0;35mCOMMAND\t\u001b[0mPOST \t \"/wd/hub/session/d729d8d4e56c7082da83206b0b79d84f/elements\"\n",
      "\u001b[1;30m[19:55:53] \u001b[0m \u001b[0;35mCOMMAND\t\u001b[0mGET \t \"/wd/hub/session/d729d8d4e56c7082da83206b0b79d84f/url\"\n",
      "\u001b[1;30m[19:55:53] \u001b[0m \u001b[0;35mCOMMAND\t\u001b[0mGET \t \"/wd/hub/session/d729d8d4e56c7082da83206b0b79d84f/element/0.8315237972892948-1/text\"\n",
      "\u001b[1;30m[19:55:53] \u001b[0m \u001b[0;35mCOMMAND\t\u001b[0mPOST \t \"/wd/hub/session/d729d8d4e56c7082da83206b0b79d84f/elements\"\n",
      "\u001b[1;30m[19:55:53] \u001b[0m \u001b[0;35mCOMMAND\t\u001b[0mGET \t \"/wd/hub/session/d729d8d4e56c7082da83206b0b79d84f/element/0.8315237972892948-2/text\"\n",
      "\u001b[1;30m[19:55:53] \u001b[0m \u001b[0;35mCOMMAND\t\u001b[0mGET \t \"/wd/hub/session/d729d8d4e56c7082da83206b0b79d84f/element/0.8315237972892948-3/text\"\n",
      "\u001b[1;30m[19:55:53] \u001b[0m \u001b[0;35mCOMMAND\t\u001b[0mGET \t \"/wd/hub/session/d729d8d4e56c7082da83206b0b79d84f/element/0.8315237972892948-4/text\"\n",
      "\u001b[1;30m[19:55:53] \u001b[0m \u001b[0;35mCOMMAND\t\u001b[0mGET \t \"/wd/hub/session/d729d8d4e56c7082da83206b0b79d84f/element/0.8315237972892948-5/text\"\n",
      "\u001b[1;30m[19:55:53] \u001b[0m \u001b[0;35mCOMMAND\t\u001b[0mGET \t \"/wd/hub/session/d729d8d4e56c7082da83206b0b79d84f/element/0.8315237972892948-6/text\"\n",
      "\u001b[1;30m[19:55:53] \u001b[0m \u001b[0;35mCOMMAND\t\u001b[0mGET \t \"/wd/hub/session/d729d8d4e56c7082da83206b0b79d84f/element/0.8315237972892948-7/text\"\n",
      "\u001b[1;30m[19:55:53] \u001b[0m \u001b[0;35mCOMMAND\t\u001b[0mGET \t \"/wd/hub/session/d729d8d4e56c7082da83206b0b79d84f/element/0.8315237972892948-8/text\"\n",
      "\u001b[1;30m[19:55:53] \u001b[0m \u001b[0;35mCOMMAND\t\u001b[0mPOST \t \"/wd/hub/session/d729d8d4e56c7082da83206b0b79d84f/url\"\n",
      "\u001b[1;30m[19:55:58] \u001b[0m \u001b[0;35mCOMMAND\t\u001b[0mPOST \t \"/wd/hub/session/d729d8d4e56c7082da83206b0b79d84f/execute\"\n",
      "\u001b[1;30m[19:55:58] \u001b[0m \u001b[0;35mCOMMAND\t\u001b[0mPOST \t \"/wd/hub/session/d729d8d4e56c7082da83206b0b79d84f/execute\"\n",
      "\u001b[1;30m[19:56:00] \u001b[0m \u001b[0;35mCOMMAND\t\u001b[0mPOST \t \"/wd/hub/session/d729d8d4e56c7082da83206b0b79d84f/execute\"\n",
      "[ { from: 'Brian',\n",
      "    message: 'Brian\\nLiving the dream? Mm\\n',\n",
      "    time: 2017-11-23T02:37:00.000Z } ]\n",
      "\u001b[1;30m[19:56:00] \u001b[0m \u001b[0;35mCOMMAND\t\u001b[0mPOST \t \"/wd/hub/session/d729d8d4e56c7082da83206b0b79d84f/window\"\n",
      "\u001b[1;30m[19:56:00] \u001b[0m \u001b[0;35mCOMMAND\t\u001b[0mGET \t \"/wd/hub/session/d729d8d4e56c7082da83206b0b79d84f/url\"\n",
      "\u001b[1;30m[19:56:00] \u001b[0m \u001b[0;35mCOMMAND\t\u001b[0mPOST \t \"/wd/hub/session/d729d8d4e56c7082da83206b0b79d84f/execute\"\n",
      "\u001b[1;30m[19:56:00] \u001b[0m \u001b[0;35mCOMMAND\t\u001b[0mPOST \t \"/wd/hub/session/d729d8d4e56c7082da83206b0b79d84f/element\"\n",
      "\u001b[1;30m[19:56:00] \u001b[0m \u001b[0;35mCOMMAND\t\u001b[0mPOST \t \"/wd/hub/session/d729d8d4e56c7082da83206b0b79d84f/element/0.30953338322198354-1/click\"\n",
      "\u001b[1;30m[19:56:02] \u001b[0m \u001b[0;35mCOMMAND\t\u001b[0mGET \t \"/wd/hub/session/d729d8d4e56c7082da83206b0b79d84f/url\"\n",
      "\u001b[1;30m[19:56:03] \u001b[0m \u001b[0;35mCOMMAND\t\u001b[0mPOST \t \"/wd/hub/session/d729d8d4e56c7082da83206b0b79d84f/execute\"\n",
      "\u001b[1;30m[19:56:03] \u001b[0m \u001b[0;35mCOMMAND\t\u001b[0mPOST \t \"/wd/hub/session/d729d8d4e56c7082da83206b0b79d84f/execute\"\n",
      "\u001b[1;30m[19:56:03] \u001b[0m \u001b[0;35mCOMMAND\t\u001b[0mPOST \t \"/wd/hub/session/d729d8d4e56c7082da83206b0b79d84f/element/0.30953338322198354-2/click\"\n",
      "\u001b[1;30m[19:56:08] \u001b[0m \u001b[0;35mCOMMAND\t\u001b[0mPOST \t \"/wd/hub/session/d729d8d4e56c7082da83206b0b79d84f/elements\"\n",
      "\u001b[1;30m[19:56:08] \u001b[0m \u001b[0;35mCOMMAND\t\u001b[0mPOST \t \"/wd/hub/session/d729d8d4e56c7082da83206b0b79d84f/elements\"\n",
      "\u001b[1;30m[19:56:08] \u001b[0m \u001b[0;35mCOMMAND\t\u001b[0mGET \t \"/wd/hub/session/d729d8d4e56c7082da83206b0b79d84f/url\"\n",
      "\u001b[1;30m[19:56:08] \u001b[0m \u001b[0;35mCOMMAND\t\u001b[0mPOST \t \"/wd/hub/session/d729d8d4e56c7082da83206b0b79d84f/elements\"\n",
      "\u001b[1;30m[19:56:08] \u001b[0m \u001b[0;35mCOMMAND\t\u001b[0mGET \t \"/wd/hub/session/d729d8d4e56c7082da83206b0b79d84f/element/0.8006935015383818-8/text\"\n",
      "\u001b[1;30m[19:56:08] \u001b[0m \u001b[0;35mCOMMAND\t\u001b[0mGET \t \"/wd/hub/session/d729d8d4e56c7082da83206b0b79d84f/element/0.8006935015383818-1/text\"\n",
      "\u001b[1;30m[19:56:08] \u001b[0m \u001b[0;35mCOMMAND\t\u001b[0mGET \t \"/wd/hub/session/d729d8d4e56c7082da83206b0b79d84f/element/0.8006935015383818-2/text\"\n",
      "\u001b[1;30m[19:56:08] \u001b[0m \u001b[0;35mCOMMAND\t\u001b[0mGET \t \"/wd/hub/session/d729d8d4e56c7082da83206b0b79d84f/element/0.8006935015383818-3/text\"\n",
      "\u001b[1;30m[19:56:08] \u001b[0m \u001b[0;35mCOMMAND\t\u001b[0mGET \t \"/wd/hub/session/d729d8d4e56c7082da83206b0b79d84f/element/0.8006935015383818-4/text\"\n",
      "\u001b[1;30m[19:56:08] \u001b[0m \u001b[0;35mCOMMAND\t\u001b[0mGET \t \"/wd/hub/session/d729d8d4e56c7082da83206b0b79d84f/element/0.8006935015383818-5/text\"\n",
      "\u001b[1;30m[19:56:08] \u001b[0m \u001b[0;35mCOMMAND\t\u001b[0mGET \t \"/wd/hub/session/d729d8d4e56c7082da83206b0b79d84f/element/0.8006935015383818-6/text\"\n",
      "\u001b[1;30m[19:56:08] \u001b[0m \u001b[0;35mCOMMAND\t\u001b[0mGET \t \"/wd/hub/session/d729d8d4e56c7082da83206b0b79d84f/element/0.8006935015383818-7/text\"\n",
      "\u001b[1;30m[19:56:08] \u001b[0m \u001b[0;35mCOMMAND\t\u001b[0mPOST \t \"/wd/hub/session/d729d8d4e56c7082da83206b0b79d84f/url\"\n",
      "\u001b[1;30m[19:56:13] \u001b[0m \u001b[0;35mCOMMAND\t\u001b[0mPOST \t \"/wd/hub/session/d729d8d4e56c7082da83206b0b79d84f/execute\"\n",
      "\u001b[1;30m[19:56:14] \u001b[0m \u001b[0;35mCOMMAND\t\u001b[0mPOST \t \"/wd/hub/session/d729d8d4e56c7082da83206b0b79d84f/execute\"\n",
      "\u001b[1;30m[19:56:16] \u001b[0m \u001b[0;35mCOMMAND\t\u001b[0mPOST \t \"/wd/hub/session/d729d8d4e56c7082da83206b0b79d84f/execute\"\n",
      "[ { from: 'Brian',\n",
      "    message: 'Brian\\nLiving the dream? Mm\\n',\n",
      "    time: 2017-11-23T02:37:00.000Z } ]\n",
      "\u001b[1;30m[19:56:16] \u001b[0m \u001b[0;35mCOMMAND\t\u001b[0mPOST \t \"/wd/hub/session/d729d8d4e56c7082da83206b0b79d84f/window\"\n",
      "\u001b[1;30m[19:56:16] \u001b[0m \u001b[0;35mCOMMAND\t\u001b[0mGET \t \"/wd/hub/session/d729d8d4e56c7082da83206b0b79d84f/url\"\n",
      "\u001b[1;30m[19:56:16] \u001b[0m \u001b[0;35mCOMMAND\t\u001b[0mPOST \t \"/wd/hub/session/d729d8d4e56c7082da83206b0b79d84f/execute\"\n",
      "\u001b[1;30m[19:56:16] \u001b[0m \u001b[0;35mCOMMAND\t\u001b[0mPOST \t \"/wd/hub/session/d729d8d4e56c7082da83206b0b79d84f/element\"\n",
      "\u001b[1;30m[19:56:16] \u001b[0m \u001b[0;35mCOMMAND\t\u001b[0mPOST \t \"/wd/hub/session/d729d8d4e56c7082da83206b0b79d84f/element/0.4086986347459898-1/click\"\n",
      "\u001b[1;30m[19:56:17] \u001b[0m \u001b[0;35mCOMMAND\t\u001b[0mGET \t \"/wd/hub/session/d729d8d4e56c7082da83206b0b79d84f/url\"\n",
      "\u001b[1;30m[19:56:18] \u001b[0m \u001b[0;35mCOMMAND\t\u001b[0mPOST \t \"/wd/hub/session/d729d8d4e56c7082da83206b0b79d84f/execute\"\n",
      "\u001b[1;30m[19:56:18] \u001b[0m \u001b[0;35mCOMMAND\t\u001b[0mPOST \t \"/wd/hub/session/d729d8d4e56c7082da83206b0b79d84f/execute\"\n",
      "\u001b[1;30m[19:56:18] \u001b[0m \u001b[0;35mCOMMAND\t\u001b[0mPOST \t \"/wd/hub/session/d729d8d4e56c7082da83206b0b79d84f/element/0.4086986347459898-2/click\"\n",
      "\u001b[1;30m[19:56:23] \u001b[0m \u001b[0;35mCOMMAND\t\u001b[0mPOST \t \"/wd/hub/session/d729d8d4e56c7082da83206b0b79d84f/elements\"\n",
      "\u001b[1;30m[19:56:23] \u001b[0m \u001b[0;35mCOMMAND\t\u001b[0mPOST \t \"/wd/hub/session/d729d8d4e56c7082da83206b0b79d84f/elements\"\n",
      "\u001b[1;30m[19:56:23] \u001b[0m \u001b[0;35mCOMMAND\t\u001b[0mGET \t \"/wd/hub/session/d729d8d4e56c7082da83206b0b79d84f/url\"\n",
      "\u001b[1;30m[19:56:23] \u001b[0m \u001b[0;35mCOMMAND\t\u001b[0mGET \t \"/wd/hub/session/d729d8d4e56c7082da83206b0b79d84f/element/0.166660800989483-1/text\"\n",
      "\u001b[1;30m[19:56:23] \u001b[0m \u001b[0;35mCOMMAND\t\u001b[0mPOST \t \"/wd/hub/session/d729d8d4e56c7082da83206b0b79d84f/elements\"\n",
      "\u001b[1;30m[19:56:23] \u001b[0m \u001b[0;35mCOMMAND\t\u001b[0mGET \t \"/wd/hub/session/d729d8d4e56c7082da83206b0b79d84f/element/0.166660800989483-2/text\"\n",
      "\u001b[1;30m[19:56:23] \u001b[0m \u001b[0;35mCOMMAND\t\u001b[0mGET \t \"/wd/hub/session/d729d8d4e56c7082da83206b0b79d84f/element/0.166660800989483-3/text\"\n",
      "\u001b[1;30m[19:56:23] \u001b[0m \u001b[0;35mCOMMAND\t\u001b[0mGET \t \"/wd/hub/session/d729d8d4e56c7082da83206b0b79d84f/element/0.166660800989483-4/text\"\n",
      "\u001b[1;30m[19:56:23] \u001b[0m \u001b[0;35mCOMMAND\t\u001b[0mGET \t \"/wd/hub/session/d729d8d4e56c7082da83206b0b79d84f/element/0.166660800989483-5/text\"\n",
      "\u001b[1;30m[19:56:23] \u001b[0m \u001b[0;35mCOMMAND\t\u001b[0mPOST \t \"/wd/hub/session/d729d8d4e56c7082da83206b0b79d84f/url\"\n",
      "\u001b[1;30m[19:56:28] \u001b[0m \u001b[0;35mCOMMAND\t\u001b[0mPOST \t \"/wd/hub/session/d729d8d4e56c7082da83206b0b79d84f/execute\"\n",
      "\u001b[1;30m[19:56:28] \u001b[0m \u001b[0;35mCOMMAND\t\u001b[0mPOST \t \"/wd/hub/session/d729d8d4e56c7082da83206b0b79d84f/execute\"\n",
      "\u001b[1;30m[19:56:30] \u001b[0m \u001b[0;35mCOMMAND\t\u001b[0mPOST \t \"/wd/hub/session/d729d8d4e56c7082da83206b0b79d84f/execute\"\n",
      "[ { from: 'Brian',\n",
      "    message: 'Brian\\nLiving the dream? Mm\\n',\n",
      "    time: 2017-11-23T02:37:00.000Z } ]\n",
      "\u001b[1;30m[19:56:30] \u001b[0m \u001b[0;35mCOMMAND\t\u001b[0mPOST \t \"/wd/hub/session/d729d8d4e56c7082da83206b0b79d84f/window\"\n",
      "\u001b[1;30m[19:56:30] \u001b[0m \u001b[0;35mCOMMAND\t\u001b[0mGET \t \"/wd/hub/session/d729d8d4e56c7082da83206b0b79d84f/url\"\n",
      "\u001b[1;30m[19:56:30] \u001b[0m \u001b[0;35mCOMMAND\t\u001b[0mPOST \t \"/wd/hub/session/d729d8d4e56c7082da83206b0b79d84f/execute\"\n",
      "\u001b[1;30m[19:56:30] \u001b[0m \u001b[0;35mCOMMAND\t\u001b[0mPOST \t \"/wd/hub/session/d729d8d4e56c7082da83206b0b79d84f/element\"\n",
      "\u001b[1;30m[19:56:30] \u001b[0m \u001b[0;35mCOMMAND\t\u001b[0mPOST \t \"/wd/hub/session/d729d8d4e56c7082da83206b0b79d84f/element/0.525413765284166-1/click\"\n",
      "\u001b[1;30m[19:56:32] \u001b[0m \u001b[0;35mCOMMAND\t\u001b[0mGET \t \"/wd/hub/session/d729d8d4e56c7082da83206b0b79d84f/url\"\n",
      "\u001b[1;30m[19:56:33] \u001b[0m \u001b[0;35mCOMMAND\t\u001b[0mPOST \t \"/wd/hub/session/d729d8d4e56c7082da83206b0b79d84f/execute\"\n",
      "\u001b[1;30m[19:56:33] \u001b[0m \u001b[0;35mCOMMAND\t\u001b[0mPOST \t \"/wd/hub/session/d729d8d4e56c7082da83206b0b79d84f/execute\"\n",
      "\u001b[1;30m[19:56:33] \u001b[0m \u001b[0;35mCOMMAND\t\u001b[0mPOST \t \"/wd/hub/session/d729d8d4e56c7082da83206b0b79d84f/element/0.525413765284166-2/click\"\n",
      "\u001b[1;30m[19:56:40] \u001b[0m \u001b[0;35mCOMMAND\t\u001b[0mPOST \t \"/wd/hub/session/d729d8d4e56c7082da83206b0b79d84f/elements\"\n",
      "\u001b[1;30m[19:56:40] \u001b[0m \u001b[0;35mCOMMAND\t\u001b[0mPOST \t \"/wd/hub/session/d729d8d4e56c7082da83206b0b79d84f/elements\"\n",
      "\u001b[1;30m[19:56:40] \u001b[0m \u001b[0;35mCOMMAND\t\u001b[0mGET \t \"/wd/hub/session/d729d8d4e56c7082da83206b0b79d84f/url\"\n",
      "\u001b[1;30m[19:56:40] \u001b[0m \u001b[0;35mCOMMAND\t\u001b[0mGET \t \"/wd/hub/session/d729d8d4e56c7082da83206b0b79d84f/element/0.47103620936691293-1/text\"\n",
      "\u001b[1;30m[19:56:40] \u001b[0m \u001b[0;35mCOMMAND\t\u001b[0mPOST \t \"/wd/hub/session/d729d8d4e56c7082da83206b0b79d84f/elements\"\n",
      "\u001b[1;30m[19:56:40] \u001b[0m \u001b[0;35mCOMMAND\t\u001b[0mGET \t \"/wd/hub/session/d729d8d4e56c7082da83206b0b79d84f/element/0.47103620936691293-2/text\"\n",
      "\u001b[1;30m[19:56:40] \u001b[0m \u001b[0;35mCOMMAND\t\u001b[0mGET \t \"/wd/hub/session/d729d8d4e56c7082da83206b0b79d84f/element/0.47103620936691293-3/text\"\n",
      "\u001b[1;30m[19:56:40] \u001b[0m \u001b[0;35mCOMMAND\t\u001b[0mGET \t \"/wd/hub/session/d729d8d4e56c7082da83206b0b79d84f/element/0.47103620936691293-4/text\"\n",
      "\u001b[1;30m[19:56:40] \u001b[0m \u001b[0;35mCOMMAND\t\u001b[0mGET \t \"/wd/hub/session/d729d8d4e56c7082da83206b0b79d84f/element/0.47103620936691293-5/text\"\n",
      "\u001b[1;30m[19:56:40] \u001b[0m \u001b[0;35mCOMMAND\t\u001b[0mGET \t \"/wd/hub/session/d729d8d4e56c7082da83206b0b79d84f/element/0.47103620936691293-6/text\"\n",
      "\u001b[1;30m[19:56:40] \u001b[0m \u001b[0;35mCOMMAND\t\u001b[0mGET \t \"/wd/hub/session/d729d8d4e56c7082da83206b0b79d84f/element/0.47103620936691293-7/text\"\n",
      "\u001b[1;30m[19:56:40] \u001b[0m \u001b[0;35mCOMMAND\t\u001b[0mGET \t \"/wd/hub/session/d729d8d4e56c7082da83206b0b79d84f/element/0.47103620936691293-8/text\"\n",
      "\u001b[1;30m[19:56:40] \u001b[0m \u001b[0;35mCOMMAND\t\u001b[0mGET \t \"/wd/hub/session/d729d8d4e56c7082da83206b0b79d84f/element/0.47103620936691293-9/text\"\n",
      "\u001b[1;30m[19:56:40] \u001b[0m \u001b[0;35mCOMMAND\t\u001b[0mGET \t \"/wd/hub/session/d729d8d4e56c7082da83206b0b79d84f/element/0.47103620936691293-10/text\"\n",
      "\u001b[1;30m[19:56:40] \u001b[0m \u001b[0;35mCOMMAND\t\u001b[0mGET \t \"/wd/hub/session/d729d8d4e56c7082da83206b0b79d84f/element/0.47103620936691293-11/text\"\n",
      "\u001b[1;30m[19:56:40] \u001b[0m \u001b[0;35mCOMMAND\t\u001b[0mPOST \t \"/wd/hub/session/d729d8d4e56c7082da83206b0b79d84f/url\"\n",
      "\u001b[1;30m[19:56:45] \u001b[0m \u001b[0;35mCOMMAND\t\u001b[0mPOST \t \"/wd/hub/session/d729d8d4e56c7082da83206b0b79d84f/execute\"\n",
      "\u001b[1;30m[19:56:45] \u001b[0m \u001b[0;35mCOMMAND\t\u001b[0mPOST \t \"/wd/hub/session/d729d8d4e56c7082da83206b0b79d84f/execute\"\n",
      "\u001b[1;30m[19:56:47] \u001b[0m \u001b[0;35mCOMMAND\t\u001b[0mPOST \t \"/wd/hub/session/d729d8d4e56c7082da83206b0b79d84f/execute\"\n",
      "[ { from: 'Brian',\n",
      "    message: 'Brian\\nLiving the dream? Mm\\n',\n",
      "    time: 2017-11-23T02:37:00.000Z } ]\n",
      "\u001b[1;30m[19:56:47] \u001b[0m \u001b[0;35mCOMMAND\t\u001b[0mPOST \t \"/wd/hub/session/d729d8d4e56c7082da83206b0b79d84f/window\"\n",
      "\u001b[1;30m[19:56:47] \u001b[0m \u001b[0;35mCOMMAND\t\u001b[0mGET \t \"/wd/hub/session/d729d8d4e56c7082da83206b0b79d84f/url\"\n",
      "\u001b[1;30m[19:56:47] \u001b[0m \u001b[0;35mCOMMAND\t\u001b[0mPOST \t \"/wd/hub/session/d729d8d4e56c7082da83206b0b79d84f/execute\"\n",
      "\u001b[1;30m[19:56:47] \u001b[0m \u001b[0;35mCOMMAND\t\u001b[0mPOST \t \"/wd/hub/session/d729d8d4e56c7082da83206b0b79d84f/element\"\n",
      "\u001b[1;30m[19:56:47] \u001b[0m \u001b[0;35mCOMMAND\t\u001b[0mPOST \t \"/wd/hub/session/d729d8d4e56c7082da83206b0b79d84f/element/0.9627586213667225-1/click\"\n",
      "\u001b[1;30m[19:56:49] \u001b[0m \u001b[0;35mCOMMAND\t\u001b[0mGET \t \"/wd/hub/session/d729d8d4e56c7082da83206b0b79d84f/url\"\n",
      "\u001b[1;30m[19:56:50] \u001b[0m \u001b[0;35mCOMMAND\t\u001b[0mPOST \t \"/wd/hub/session/d729d8d4e56c7082da83206b0b79d84f/execute\"\n",
      "\u001b[1;30m[19:56:50] \u001b[0m \u001b[0;35mCOMMAND\t\u001b[0mPOST \t \"/wd/hub/session/d729d8d4e56c7082da83206b0b79d84f/execute\"\n",
      "\u001b[1;30m[19:56:50] \u001b[0m \u001b[0;35mCOMMAND\t\u001b[0mPOST \t \"/wd/hub/session/d729d8d4e56c7082da83206b0b79d84f/element/0.9627586213667225-2/click\"\n",
      "\u001b[1;30m[19:56:55] \u001b[0m \u001b[0;35mCOMMAND\t\u001b[0mPOST \t \"/wd/hub/session/d729d8d4e56c7082da83206b0b79d84f/elements\"\n",
      "\u001b[1;30m[19:56:55] \u001b[0m \u001b[0;35mCOMMAND\t\u001b[0mPOST \t \"/wd/hub/session/d729d8d4e56c7082da83206b0b79d84f/elements\"\n",
      "\u001b[1;30m[19:56:55] \u001b[0m \u001b[0;35mCOMMAND\t\u001b[0mGET \t \"/wd/hub/session/d729d8d4e56c7082da83206b0b79d84f/url\"\n",
      "\u001b[1;30m[19:56:55] \u001b[0m \u001b[0;35mCOMMAND\t\u001b[0mGET \t \"/wd/hub/session/d729d8d4e56c7082da83206b0b79d84f/element/0.8206105674093145-1/text\"\n",
      "\u001b[1;30m[19:56:55] \u001b[0m \u001b[0;35mCOMMAND\t\u001b[0mPOST \t \"/wd/hub/session/d729d8d4e56c7082da83206b0b79d84f/elements\"\n",
      "\u001b[1;30m[19:56:55] \u001b[0m \u001b[0;35mCOMMAND\t\u001b[0mGET \t \"/wd/hub/session/d729d8d4e56c7082da83206b0b79d84f/element/0.8206105674093145-2/text\"\n",
      "\u001b[1;30m[19:56:55] \u001b[0m \u001b[0;35mCOMMAND\t\u001b[0mGET \t \"/wd/hub/session/d729d8d4e56c7082da83206b0b79d84f/element/0.8206105674093145-3/text\"\n",
      "\u001b[1;30m[19:56:55] \u001b[0m \u001b[0;35mCOMMAND\t\u001b[0mGET \t \"/wd/hub/session/d729d8d4e56c7082da83206b0b79d84f/element/0.8206105674093145-4/text\"\n",
      "\u001b[1;30m[19:56:55] \u001b[0m \u001b[0;35mCOMMAND\t\u001b[0mGET \t \"/wd/hub/session/d729d8d4e56c7082da83206b0b79d84f/element/0.8206105674093145-5/text\"\n",
      "\u001b[1;30m[19:56:55] \u001b[0m \u001b[0;35mCOMMAND\t\u001b[0mGET \t \"/wd/hub/session/d729d8d4e56c7082da83206b0b79d84f/element/0.8206105674093145-6/text\"\n",
      "\u001b[1;30m[19:56:55] \u001b[0m \u001b[0;35mCOMMAND\t\u001b[0mGET \t \"/wd/hub/session/d729d8d4e56c7082da83206b0b79d84f/element/0.8206105674093145-7/text\"\n",
      "\u001b[1;30m[19:56:55] \u001b[0m \u001b[0;35mCOMMAND\t\u001b[0mGET \t \"/wd/hub/session/d729d8d4e56c7082da83206b0b79d84f/element/0.8206105674093145-8/text\"\n",
      "\u001b[1;30m[19:56:55] \u001b[0m \u001b[0;35mCOMMAND\t\u001b[0mPOST \t \"/wd/hub/session/d729d8d4e56c7082da83206b0b79d84f/url\"\n",
      "\u001b[1;30m[19:57:00] \u001b[0m \u001b[0;35mCOMMAND\t\u001b[0mPOST \t \"/wd/hub/session/d729d8d4e56c7082da83206b0b79d84f/execute\"\n",
      "\u001b[1;30m[19:57:00] \u001b[0m \u001b[0;35mCOMMAND\t\u001b[0mPOST \t \"/wd/hub/session/d729d8d4e56c7082da83206b0b79d84f/execute\"\n",
      "\u001b[1;30m[19:57:02] \u001b[0m \u001b[0;35mCOMMAND\t\u001b[0mPOST \t \"/wd/hub/session/d729d8d4e56c7082da83206b0b79d84f/execute\"\n",
      "[ { from: 'Brian',\n",
      "    message: 'Brian\\nLiving the dream? Mm\\n',\n",
      "    time: 2017-11-23T02:37:00.000Z } ]\n",
      "\u001b[1;30m[19:57:02] \u001b[0m \u001b[0;35mCOMMAND\t\u001b[0mPOST \t \"/wd/hub/session/d729d8d4e56c7082da83206b0b79d84f/window\"\n",
      "\u001b[1;30m[19:57:02] \u001b[0m \u001b[0;35mCOMMAND\t\u001b[0mGET \t \"/wd/hub/session/d729d8d4e56c7082da83206b0b79d84f/url\"\n",
      "\u001b[1;30m[19:57:02] \u001b[0m \u001b[0;35mCOMMAND\t\u001b[0mPOST \t \"/wd/hub/session/d729d8d4e56c7082da83206b0b79d84f/execute\"\n",
      "\u001b[1;30m[19:57:02] \u001b[0m \u001b[0;35mCOMMAND\t\u001b[0mPOST \t \"/wd/hub/session/d729d8d4e56c7082da83206b0b79d84f/element\"\n",
      "\u001b[1;30m[19:57:02] \u001b[0m \u001b[0;35mCOMMAND\t\u001b[0mPOST \t \"/wd/hub/session/d729d8d4e56c7082da83206b0b79d84f/element/0.5058774012926803-1/click\"\n",
      "\u001b[1;30m[19:57:04] \u001b[0m \u001b[0;35mCOMMAND\t\u001b[0mGET \t \"/wd/hub/session/d729d8d4e56c7082da83206b0b79d84f/url\"\n",
      "\u001b[1;30m[19:57:05] \u001b[0m \u001b[0;35mCOMMAND\t\u001b[0mPOST \t \"/wd/hub/session/d729d8d4e56c7082da83206b0b79d84f/execute\"\n",
      "\u001b[1;30m[19:57:05] \u001b[0m \u001b[0;35mCOMMAND\t\u001b[0mPOST \t \"/wd/hub/session/d729d8d4e56c7082da83206b0b79d84f/execute\"\n",
      "\u001b[1;30m[19:57:05] \u001b[0m \u001b[0;35mCOMMAND\t\u001b[0mPOST \t \"/wd/hub/session/d729d8d4e56c7082da83206b0b79d84f/element/0.5058774012926803-2/click\"\n",
      "\u001b[1;30m[19:57:08] \u001b[0m \u001b[0;35mCOMMAND\t\u001b[0mPOST \t \"/wd/hub/session/d729d8d4e56c7082da83206b0b79d84f/elements\"\n",
      "\u001b[1;30m[19:57:08] \u001b[0m \u001b[0;35mCOMMAND\t\u001b[0mPOST \t \"/wd/hub/session/d729d8d4e56c7082da83206b0b79d84f/elements\"\n",
      "\u001b[1;30m[19:57:08] \u001b[0m \u001b[0;35mCOMMAND\t\u001b[0mGET \t \"/wd/hub/session/d729d8d4e56c7082da83206b0b79d84f/url\"\n",
      "\u001b[1;30m[19:57:08] \u001b[0m \u001b[0;35mCOMMAND\t\u001b[0mGET \t \"/wd/hub/session/d729d8d4e56c7082da83206b0b79d84f/element/0.8514590284022663-1/text\"\n",
      "\u001b[1;30m[19:57:08] \u001b[0m \u001b[0;35mCOMMAND\t\u001b[0mPOST \t \"/wd/hub/session/d729d8d4e56c7082da83206b0b79d84f/elements\"\n",
      "\u001b[1;30m[19:57:08] \u001b[0m \u001b[0;35mCOMMAND\t\u001b[0mGET \t \"/wd/hub/session/d729d8d4e56c7082da83206b0b79d84f/element/0.8514590284022663-2/text\"\n",
      "\u001b[1;30m[19:57:08] \u001b[0m \u001b[0;35mCOMMAND\t\u001b[0mGET \t \"/wd/hub/session/d729d8d4e56c7082da83206b0b79d84f/element/0.8514590284022663-3/text\"\n",
      "\u001b[1;30m[19:57:09] \u001b[0m \u001b[0;35mCOMMAND\t\u001b[0mPOST \t \"/wd/hub/session/d729d8d4e56c7082da83206b0b79d84f/url\"\n",
      "\u001b[1;30m[19:57:14] \u001b[0m \u001b[0;35mCOMMAND\t\u001b[0mPOST \t \"/wd/hub/session/d729d8d4e56c7082da83206b0b79d84f/execute\"\n",
      "\u001b[1;30m[19:57:14] \u001b[0m \u001b[0;35mCOMMAND\t\u001b[0mPOST \t \"/wd/hub/session/d729d8d4e56c7082da83206b0b79d84f/execute\"\n",
      "\u001b[1;30m[19:57:16] \u001b[0m \u001b[0;35mCOMMAND\t\u001b[0mPOST \t \"/wd/hub/session/d729d8d4e56c7082da83206b0b79d84f/execute\"\n",
      "[ { from: 'Brian',\n",
      "    message: 'Brian\\nLiving the dream? Mm\\n',\n",
      "    time: 2017-11-23T02:38:00.000Z } ]\n",
      "\u001b[1;30m[19:57:16] \u001b[0m \u001b[0;35mCOMMAND\t\u001b[0mPOST \t \"/wd/hub/session/d729d8d4e56c7082da83206b0b79d84f/window\"\n",
      "\u001b[1;30m[19:57:16] \u001b[0m \u001b[0;35mCOMMAND\t\u001b[0mGET \t \"/wd/hub/session/d729d8d4e56c7082da83206b0b79d84f/url\"\n",
      "\u001b[1;30m[19:57:16] \u001b[0m \u001b[0;35mCOMMAND\t\u001b[0mPOST \t \"/wd/hub/session/d729d8d4e56c7082da83206b0b79d84f/execute\"\n",
      "\u001b[1;30m[19:57:16] \u001b[0m \u001b[0;35mCOMMAND\t\u001b[0mPOST \t \"/wd/hub/session/d729d8d4e56c7082da83206b0b79d84f/element\"\n",
      "\u001b[1;30m[19:57:16] \u001b[0m \u001b[0;35mCOMMAND\t\u001b[0mPOST \t \"/wd/hub/session/d729d8d4e56c7082da83206b0b79d84f/element/0.5859049719734681-1/click\"\n",
      "\u001b[1;30m[19:57:17] \u001b[0m \u001b[0;35mCOMMAND\t\u001b[0mGET \t \"/wd/hub/session/d729d8d4e56c7082da83206b0b79d84f/url\"\n",
      "\u001b[1;30m[19:57:18] \u001b[0m \u001b[0;35mCOMMAND\t\u001b[0mPOST \t \"/wd/hub/session/d729d8d4e56c7082da83206b0b79d84f/execute\"\n",
      "\u001b[1;30m[19:57:18] \u001b[0m \u001b[0;35mCOMMAND\t\u001b[0mPOST \t \"/wd/hub/session/d729d8d4e56c7082da83206b0b79d84f/execute\"\n",
      "\u001b[1;30m[19:57:18] \u001b[0m \u001b[0;35mCOMMAND\t\u001b[0mPOST \t \"/wd/hub/session/d729d8d4e56c7082da83206b0b79d84f/element/0.5859049719734681-2/click\"\n",
      "\u001b[1;30m[19:57:23] \u001b[0m \u001b[0;35mCOMMAND\t\u001b[0mPOST \t \"/wd/hub/session/d729d8d4e56c7082da83206b0b79d84f/elements\"\n",
      "\u001b[1;30m[19:57:23] \u001b[0m \u001b[0;35mCOMMAND\t\u001b[0mPOST \t \"/wd/hub/session/d729d8d4e56c7082da83206b0b79d84f/elements\"\n",
      "\u001b[1;30m[19:57:23] \u001b[0m \u001b[0;35mCOMMAND\t\u001b[0mGET \t \"/wd/hub/session/d729d8d4e56c7082da83206b0b79d84f/url\"\n",
      "\u001b[1;30m[19:57:23] \u001b[0m \u001b[0;35mCOMMAND\t\u001b[0mPOST \t \"/wd/hub/session/d729d8d4e56c7082da83206b0b79d84f/elements\"\n",
      "\u001b[1;30m[19:57:23] \u001b[0m \u001b[0;35mCOMMAND\t\u001b[0mGET \t \"/wd/hub/session/d729d8d4e56c7082da83206b0b79d84f/element/0.0831695861334627-6/text\"\n",
      "\u001b[1;30m[19:57:23] \u001b[0m \u001b[0;35mCOMMAND\t\u001b[0mGET \t \"/wd/hub/session/d729d8d4e56c7082da83206b0b79d84f/element/0.0831695861334627-1/text\"\n",
      "\u001b[1;30m[19:57:23] \u001b[0m \u001b[0;35mCOMMAND\t\u001b[0mGET \t \"/wd/hub/session/d729d8d4e56c7082da83206b0b79d84f/element/0.0831695861334627-2/text\"\n",
      "\u001b[1;30m[19:57:23] \u001b[0m \u001b[0;35mCOMMAND\t\u001b[0mGET \t \"/wd/hub/session/d729d8d4e56c7082da83206b0b79d84f/element/0.0831695861334627-3/text\"\n",
      "\u001b[1;30m[19:57:23] \u001b[0m \u001b[0;35mCOMMAND\t\u001b[0mGET \t \"/wd/hub/session/d729d8d4e56c7082da83206b0b79d84f/element/0.0831695861334627-4/text\"\n",
      "\u001b[1;30m[19:57:23] \u001b[0m \u001b[0;35mCOMMAND\t\u001b[0mGET \t \"/wd/hub/session/d729d8d4e56c7082da83206b0b79d84f/element/0.0831695861334627-5/text\"\n",
      "\u001b[1;30m[19:57:23] \u001b[0m \u001b[0;35mCOMMAND\t\u001b[0mPOST \t \"/wd/hub/session/d729d8d4e56c7082da83206b0b79d84f/url\"\n",
      "\u001b[1;30m[19:57:28] \u001b[0m \u001b[0;35mCOMMAND\t\u001b[0mPOST \t \"/wd/hub/session/d729d8d4e56c7082da83206b0b79d84f/execute\"\n",
      "\u001b[1;30m[19:57:28] \u001b[0m \u001b[0;35mCOMMAND\t\u001b[0mPOST \t \"/wd/hub/session/d729d8d4e56c7082da83206b0b79d84f/execute\"\n",
      "\u001b[1;30m[19:57:30] \u001b[0m \u001b[0;35mCOMMAND\t\u001b[0mPOST \t \"/wd/hub/session/d729d8d4e56c7082da83206b0b79d84f/execute\"\n",
      "[ { from: 'Brian',\n",
      "    message: 'Brian\\nLiving the dream? Mm\\n\\n',\n",
      "    time: 2017-11-23T02:38:00.000Z } ]\n",
      "\u001b[1;30m[19:57:30] \u001b[0m \u001b[0;35mCOMMAND\t\u001b[0mPOST \t \"/wd/hub/session/d729d8d4e56c7082da83206b0b79d84f/window\"\n",
      "\u001b[1;30m[19:57:30] \u001b[0m \u001b[0;35mCOMMAND\t\u001b[0mGET \t \"/wd/hub/session/d729d8d4e56c7082da83206b0b79d84f/url\"\n",
      "\u001b[1;30m[19:57:30] \u001b[0m \u001b[0;35mCOMMAND\t\u001b[0mPOST \t \"/wd/hub/session/d729d8d4e56c7082da83206b0b79d84f/execute\"\n",
      "\u001b[1;30m[19:57:30] \u001b[0m \u001b[0;35mCOMMAND\t\u001b[0mPOST \t \"/wd/hub/session/d729d8d4e56c7082da83206b0b79d84f/element\"\n",
      "\u001b[1;30m[19:57:30] \u001b[0m \u001b[0;35mCOMMAND\t\u001b[0mPOST \t \"/wd/hub/session/d729d8d4e56c7082da83206b0b79d84f/element/0.7455275329761275-1/click\"\n",
      "\u001b[1;30m[19:57:32] \u001b[0m \u001b[0;35mCOMMAND\t\u001b[0mGET \t \"/wd/hub/session/d729d8d4e56c7082da83206b0b79d84f/url\"\n",
      "\u001b[1;30m[19:57:33] \u001b[0m \u001b[0;35mCOMMAND\t\u001b[0mPOST \t \"/wd/hub/session/d729d8d4e56c7082da83206b0b79d84f/execute\"\n",
      "\u001b[1;30m[19:57:33] \u001b[0m \u001b[0;35mCOMMAND\t\u001b[0mPOST \t \"/wd/hub/session/d729d8d4e56c7082da83206b0b79d84f/execute\"\n",
      "\u001b[1;30m[19:57:33] \u001b[0m \u001b[0;35mCOMMAND\t\u001b[0mPOST \t \"/wd/hub/session/d729d8d4e56c7082da83206b0b79d84f/element/0.7455275329761275-2/click\"\n",
      "\u001b[1;30m[19:57:37] \u001b[0m \u001b[0;35mCOMMAND\t\u001b[0mPOST \t \"/wd/hub/session/d729d8d4e56c7082da83206b0b79d84f/elements\"\n",
      "\u001b[1;30m[19:57:37] \u001b[0m \u001b[0;35mCOMMAND\t\u001b[0mPOST \t \"/wd/hub/session/d729d8d4e56c7082da83206b0b79d84f/elements\"\n",
      "\u001b[1;30m[19:57:37] \u001b[0m \u001b[0;35mCOMMAND\t\u001b[0mGET \t \"/wd/hub/session/d729d8d4e56c7082da83206b0b79d84f/url\"\n",
      "\u001b[1;30m[19:57:37] \u001b[0m \u001b[0;35mCOMMAND\t\u001b[0mGET \t \"/wd/hub/session/d729d8d4e56c7082da83206b0b79d84f/element/0.2919047696186401-1/text\"\n",
      "\u001b[1;30m[19:57:37] \u001b[0m \u001b[0;35mCOMMAND\t\u001b[0mPOST \t \"/wd/hub/session/d729d8d4e56c7082da83206b0b79d84f/url\"\n",
      "\u001b[1;30m[19:57:43] \u001b[0m \u001b[0;35mCOMMAND\t\u001b[0mPOST \t \"/wd/hub/session/d729d8d4e56c7082da83206b0b79d84f/execute\"\n",
      "\u001b[1;30m[19:57:43] \u001b[0m \u001b[0;35mCOMMAND\t\u001b[0mPOST \t \"/wd/hub/session/d729d8d4e56c7082da83206b0b79d84f/execute\"\n",
      "\u001b[1;30m[19:57:45] \u001b[0m \u001b[0;35mCOMMAND\t\u001b[0mPOST \t \"/wd/hub/session/d729d8d4e56c7082da83206b0b79d84f/execute\"\n",
      "[ { from: 'Brian',\n",
      "    message: 'Brian\\nLiving the dream? Mm\\n',\n",
      "    time: 2017-11-23T02:38:00.000Z } ]\n",
      "\u001b[1;30m[19:57:45] \u001b[0m \u001b[0;35mCOMMAND\t\u001b[0mPOST \t \"/wd/hub/session/d729d8d4e56c7082da83206b0b79d84f/window\"\n",
      "\u001b[1;30m[19:57:45] \u001b[0m \u001b[0;35mCOMMAND\t\u001b[0mGET \t \"/wd/hub/session/d729d8d4e56c7082da83206b0b79d84f/url\"\n",
      "\u001b[1;30m[19:57:45] \u001b[0m \u001b[0;35mCOMMAND\t\u001b[0mPOST \t \"/wd/hub/session/d729d8d4e56c7082da83206b0b79d84f/execute\"\n",
      "\u001b[1;30m[19:57:45] \u001b[0m \u001b[0;35mCOMMAND\t\u001b[0mPOST \t \"/wd/hub/session/d729d8d4e56c7082da83206b0b79d84f/element\"\n",
      "\u001b[1;30m[19:57:45] \u001b[0m \u001b[0;35mCOMMAND\t\u001b[0mPOST \t \"/wd/hub/session/d729d8d4e56c7082da83206b0b79d84f/element/0.8362029030752196-1/click\"\n",
      "\u001b[1;30m[19:57:46] \u001b[0m \u001b[0;35mCOMMAND\t\u001b[0mGET \t \"/wd/hub/session/d729d8d4e56c7082da83206b0b79d84f/url\"\n",
      "\u001b[1;30m[19:57:47] \u001b[0m \u001b[0;35mCOMMAND\t\u001b[0mPOST \t \"/wd/hub/session/d729d8d4e56c7082da83206b0b79d84f/execute\"\n",
      "\u001b[1;30m[19:57:47] \u001b[0m \u001b[0;35mCOMMAND\t\u001b[0mPOST \t \"/wd/hub/session/d729d8d4e56c7082da83206b0b79d84f/execute\"\n",
      "\u001b[1;30m[19:57:47] \u001b[0m \u001b[0;35mCOMMAND\t\u001b[0mPOST \t \"/wd/hub/session/d729d8d4e56c7082da83206b0b79d84f/element/0.8362029030752196-2/click\"\n",
      "\u001b[1;30m[19:57:54] \u001b[0m \u001b[0;35mCOMMAND\t\u001b[0mPOST \t \"/wd/hub/session/d729d8d4e56c7082da83206b0b79d84f/elements\"\n",
      "\u001b[1;30m[19:57:54] \u001b[0m \u001b[0;35mCOMMAND\t\u001b[0mPOST \t \"/wd/hub/session/d729d8d4e56c7082da83206b0b79d84f/elements\"\n",
      "\u001b[1;30m[19:57:54] \u001b[0m \u001b[0;35mCOMMAND\t\u001b[0mGET \t \"/wd/hub/session/d729d8d4e56c7082da83206b0b79d84f/url\"\n",
      "\u001b[1;30m[19:57:54] \u001b[0m \u001b[0;35mCOMMAND\t\u001b[0mPOST \t \"/wd/hub/session/d729d8d4e56c7082da83206b0b79d84f/elements\"\n",
      "\u001b[1;30m[19:57:54] \u001b[0m \u001b[0;35mCOMMAND\t\u001b[0mGET \t \"/wd/hub/session/d729d8d4e56c7082da83206b0b79d84f/element/0.221013204565361-11/text\"\n",
      "\u001b[1;30m[19:57:54] \u001b[0m \u001b[0;35mCOMMAND\t\u001b[0mGET \t \"/wd/hub/session/d729d8d4e56c7082da83206b0b79d84f/element/0.221013204565361-1/text\"\n",
      "\u001b[1;30m[19:57:54] \u001b[0m \u001b[0;35mCOMMAND\t\u001b[0mGET \t \"/wd/hub/session/d729d8d4e56c7082da83206b0b79d84f/element/0.221013204565361-2/text\"\n",
      "\u001b[1;30m[19:57:54] \u001b[0m \u001b[0;35mCOMMAND\t\u001b[0mGET \t \"/wd/hub/session/d729d8d4e56c7082da83206b0b79d84f/element/0.221013204565361-3/text\"\n",
      "\u001b[1;30m[19:57:54] \u001b[0m \u001b[0;35mCOMMAND\t\u001b[0mGET \t \"/wd/hub/session/d729d8d4e56c7082da83206b0b79d84f/element/0.221013204565361-4/text\"\n",
      "\u001b[1;30m[19:57:54] \u001b[0m \u001b[0;35mCOMMAND\t\u001b[0mGET \t \"/wd/hub/session/d729d8d4e56c7082da83206b0b79d84f/element/0.221013204565361-5/text\"\n",
      "\u001b[1;30m[19:57:54] \u001b[0m \u001b[0;35mCOMMAND\t\u001b[0mGET \t \"/wd/hub/session/d729d8d4e56c7082da83206b0b79d84f/element/0.221013204565361-6/text\"\n",
      "\u001b[1;30m[19:57:54] \u001b[0m \u001b[0;35mCOMMAND\t\u001b[0mGET \t \"/wd/hub/session/d729d8d4e56c7082da83206b0b79d84f/element/0.221013204565361-7/text\"\n",
      "\u001b[1;30m[19:57:54] \u001b[0m \u001b[0;35mCOMMAND\t\u001b[0mGET \t \"/wd/hub/session/d729d8d4e56c7082da83206b0b79d84f/element/0.221013204565361-8/text\"\n",
      "\u001b[1;30m[19:57:54] \u001b[0m \u001b[0;35mCOMMAND\t\u001b[0mGET \t \"/wd/hub/session/d729d8d4e56c7082da83206b0b79d84f/element/0.221013204565361-9/text\"\n",
      "\u001b[1;30m[19:57:54] \u001b[0m \u001b[0;35mCOMMAND\t\u001b[0mGET \t \"/wd/hub/session/d729d8d4e56c7082da83206b0b79d84f/element/0.221013204565361-10/text\"\n",
      "\u001b[1;30m[19:57:55] \u001b[0m \u001b[0;35mCOMMAND\t\u001b[0mPOST \t \"/wd/hub/session/d729d8d4e56c7082da83206b0b79d84f/url\"\n",
      "\u001b[1;30m[19:58:01] \u001b[0m \u001b[0;35mCOMMAND\t\u001b[0mPOST \t \"/wd/hub/session/d729d8d4e56c7082da83206b0b79d84f/execute\"\n",
      "\u001b[1;30m[19:58:01] \u001b[0m \u001b[0;35mCOMMAND\t\u001b[0mPOST \t \"/wd/hub/session/d729d8d4e56c7082da83206b0b79d84f/execute\"\n",
      "\u001b[1;30m[19:58:03] \u001b[0m \u001b[0;35mCOMMAND\t\u001b[0mPOST \t \"/wd/hub/session/d729d8d4e56c7082da83206b0b79d84f/execute\"\n",
      "[]\n",
      "\u001b[1;30m[19:58:03] \u001b[0m \u001b[0;35mCOMMAND\t\u001b[0mPOST \t \"/wd/hub/session/d729d8d4e56c7082da83206b0b79d84f/element\"\n",
      "\u001b[1;30m[19:58:03] \u001b[0m \u001b[0;35mCOMMAND\t\u001b[0mPOST \t \"/wd/hub/session/d729d8d4e56c7082da83206b0b79d84f/element/0.4300894160301274-1/click\"\n"
     ]
    },
    {
     "name": "stderr",
     "output_type": "stream",
     "text": [
      "WARNING: the \"keys\" command will be depcrecated soon. Please use a different command in order to avoid failures in your test after updating WebdriverIO.\n"
     ]
    },
    {
     "name": "stdout",
     "output_type": "stream",
     "text": [
      "\u001b[1;30m[19:58:03] \u001b[0m \u001b[0;35mCOMMAND\t\u001b[0mPOST \t \"/wd/hub/session/d729d8d4e56c7082da83206b0b79d84f/keys\"\n"
     ]
    },
    {
     "name": "stderr",
     "output_type": "stream",
     "text": [
      "WARNING: the \"keys\" command will be depcrecated soon. Please use a different command in order to avoid failures in your test after updating WebdriverIO.\n"
     ]
    },
    {
     "name": "stdout",
     "output_type": "stream",
     "text": [
      "\u001b[1;30m[19:58:04] \u001b[0m \u001b[0;35mCOMMAND\t\u001b[0mPOST \t \"/wd/hub/session/d729d8d4e56c7082da83206b0b79d84f/keys\"\n"
     ]
    },
    {
     "name": "stderr",
     "output_type": "stream",
     "text": [
      "WARNING: the \"keys\" command will be depcrecated soon. Please use a different command in order to avoid failures in your test after updating WebdriverIO.\n"
     ]
    },
    {
     "name": "stdout",
     "output_type": "stream",
     "text": [
      "\u001b[1;30m[19:58:04] \u001b[0m \u001b[0;35mCOMMAND\t\u001b[0mPOST \t \"/wd/hub/session/d729d8d4e56c7082da83206b0b79d84f/keys\"\n",
      "\u001b[1;30m[19:58:04] \u001b[0m \u001b[0;35mCOMMAND\t\u001b[0mPOST \t \"/wd/hub/session/d729d8d4e56c7082da83206b0b79d84f/window\"\n",
      "\u001b[1;30m[19:58:04] \u001b[0m \u001b[0;35mCOMMAND\t\u001b[0mGET \t \"/wd/hub/session/d729d8d4e56c7082da83206b0b79d84f/url\"\n",
      "\u001b[1;30m[19:58:04] \u001b[0m \u001b[0;35mCOMMAND\t\u001b[0mPOST \t \"/wd/hub/session/d729d8d4e56c7082da83206b0b79d84f/execute\"\n",
      "\u001b[1;30m[19:58:04] \u001b[0m \u001b[0;35mCOMMAND\t\u001b[0mPOST \t \"/wd/hub/session/d729d8d4e56c7082da83206b0b79d84f/element\"\n",
      "\u001b[1;30m[19:58:04] \u001b[0m \u001b[0;35mCOMMAND\t\u001b[0mPOST \t \"/wd/hub/session/d729d8d4e56c7082da83206b0b79d84f/element/0.9786496487167107-1/click\"\n",
      "\u001b[1;30m[19:58:06] \u001b[0m \u001b[0;35mCOMMAND\t\u001b[0mGET \t \"/wd/hub/session/d729d8d4e56c7082da83206b0b79d84f/url\"\n",
      "\u001b[1;30m[19:58:07] \u001b[0m \u001b[0;35mCOMMAND\t\u001b[0mPOST \t \"/wd/hub/session/d729d8d4e56c7082da83206b0b79d84f/execute\"\n",
      "\u001b[1;30m[19:58:07] \u001b[0m \u001b[0;35mCOMMAND\t\u001b[0mPOST \t \"/wd/hub/session/d729d8d4e56c7082da83206b0b79d84f/execute\"\n",
      "\u001b[1;30m[19:58:07] \u001b[0m \u001b[0;35mCOMMAND\t\u001b[0mPOST \t \"/wd/hub/session/d729d8d4e56c7082da83206b0b79d84f/url\"\n",
      "\u001b[1;30m[19:58:13] \u001b[0m \u001b[0;35mCOMMAND\t\u001b[0mPOST \t \"/wd/hub/session/d729d8d4e56c7082da83206b0b79d84f/execute\"\n",
      "\u001b[1;30m[19:58:13] \u001b[0m \u001b[0;35mCOMMAND\t\u001b[0mPOST \t \"/wd/hub/session/d729d8d4e56c7082da83206b0b79d84f/execute\"\n",
      "\u001b[1;30m[19:58:15] \u001b[0m \u001b[0;35mCOMMAND\t\u001b[0mPOST \t \"/wd/hub/session/d729d8d4e56c7082da83206b0b79d84f/execute\"\n",
      "[]\n",
      "\u001b[1;30m[19:58:15] \u001b[0m \u001b[0;35mCOMMAND\t\u001b[0mPOST \t \"/wd/hub/session/d729d8d4e56c7082da83206b0b79d84f/element\"\n",
      "\u001b[1;30m[19:58:15] \u001b[0m \u001b[0;35mCOMMAND\t\u001b[0mPOST \t \"/wd/hub/session/d729d8d4e56c7082da83206b0b79d84f/element/0.6324737954825352-1/click\"\n"
     ]
    },
    {
     "name": "stderr",
     "output_type": "stream",
     "text": [
      "WARNING: the \"keys\" command will be depcrecated soon. Please use a different command in order to avoid failures in your test after updating WebdriverIO.\n"
     ]
    },
    {
     "name": "stdout",
     "output_type": "stream",
     "text": [
      "\u001b[1;30m[19:58:15] \u001b[0m \u001b[0;35mCOMMAND\t\u001b[0mPOST \t \"/wd/hub/session/d729d8d4e56c7082da83206b0b79d84f/keys\"\n"
     ]
    },
    {
     "name": "stderr",
     "output_type": "stream",
     "text": [
      "WARNING: the \"keys\" command will be depcrecated soon. Please use a different command in order to avoid failures in your test after updating WebdriverIO.\n"
     ]
    },
    {
     "name": "stdout",
     "output_type": "stream",
     "text": [
      "\u001b[1;30m[19:58:16] \u001b[0m \u001b[0;35mCOMMAND\t\u001b[0mPOST \t \"/wd/hub/session/d729d8d4e56c7082da83206b0b79d84f/keys\"\n"
     ]
    },
    {
     "name": "stderr",
     "output_type": "stream",
     "text": [
      "WARNING: the \"keys\" command will be depcrecated soon. Please use a different command in order to avoid failures in your test after updating WebdriverIO.\n"
     ]
    },
    {
     "name": "stdout",
     "output_type": "stream",
     "text": [
      "\u001b[1;30m[19:58:16] \u001b[0m \u001b[0;35mCOMMAND\t\u001b[0mPOST \t \"/wd/hub/session/d729d8d4e56c7082da83206b0b79d84f/keys\"\n",
      "\u001b[1;30m[19:58:16] \u001b[0m \u001b[0;35mCOMMAND\t\u001b[0mPOST \t \"/wd/hub/session/d729d8d4e56c7082da83206b0b79d84f/window\"\n",
      "\u001b[1;30m[19:58:16] \u001b[0m \u001b[0;35mCOMMAND\t\u001b[0mGET \t \"/wd/hub/session/d729d8d4e56c7082da83206b0b79d84f/url\"\n",
      "\u001b[1;30m[19:58:16] \u001b[0m \u001b[0;35mCOMMAND\t\u001b[0mPOST \t \"/wd/hub/session/d729d8d4e56c7082da83206b0b79d84f/execute\"\n",
      "\u001b[1;30m[19:58:16] \u001b[0m \u001b[0;35mCOMMAND\t\u001b[0mPOST \t \"/wd/hub/session/d729d8d4e56c7082da83206b0b79d84f/element\"\n",
      "\u001b[1;30m[19:58:16] \u001b[0m \u001b[0;35mCOMMAND\t\u001b[0mPOST \t \"/wd/hub/session/d729d8d4e56c7082da83206b0b79d84f/element/0.6973752252539891-1/click\"\n",
      "\u001b[1;30m[19:58:18] \u001b[0m \u001b[0;35mCOMMAND\t\u001b[0mGET \t \"/wd/hub/session/d729d8d4e56c7082da83206b0b79d84f/url\"\n",
      "\u001b[1;30m[19:58:19] \u001b[0m \u001b[0;35mCOMMAND\t\u001b[0mPOST \t \"/wd/hub/session/d729d8d4e56c7082da83206b0b79d84f/execute\"\n",
      "\u001b[1;30m[19:58:19] \u001b[0m \u001b[0;35mCOMMAND\t\u001b[0mPOST \t \"/wd/hub/session/d729d8d4e56c7082da83206b0b79d84f/execute\"\n",
      "\u001b[1;30m[19:58:19] \u001b[0m \u001b[0;35mCOMMAND\t\u001b[0mPOST \t \"/wd/hub/session/d729d8d4e56c7082da83206b0b79d84f/url\"\n",
      "\u001b[1;30m[19:58:24] \u001b[0m \u001b[0;35mCOMMAND\t\u001b[0mPOST \t \"/wd/hub/session/d729d8d4e56c7082da83206b0b79d84f/execute\"\n",
      "\u001b[1;30m[19:58:24] \u001b[0m \u001b[0;35mCOMMAND\t\u001b[0mPOST \t \"/wd/hub/session/d729d8d4e56c7082da83206b0b79d84f/execute\"\n",
      "\u001b[1;30m[19:58:26] \u001b[0m \u001b[0;35mCOMMAND\t\u001b[0mPOST \t \"/wd/hub/session/d729d8d4e56c7082da83206b0b79d84f/execute\"\n",
      "[]\n",
      "\u001b[1;30m[19:58:26] \u001b[0m \u001b[0;35mCOMMAND\t\u001b[0mPOST \t \"/wd/hub/session/d729d8d4e56c7082da83206b0b79d84f/element\"\n",
      "\u001b[1;30m[19:58:26] \u001b[0m \u001b[0;35mCOMMAND\t\u001b[0mPOST \t \"/wd/hub/session/d729d8d4e56c7082da83206b0b79d84f/element/0.7435497949933698-1/click\"\n"
     ]
    },
    {
     "name": "stderr",
     "output_type": "stream",
     "text": [
      "WARNING: the \"keys\" command will be depcrecated soon. Please use a different command in order to avoid failures in your test after updating WebdriverIO.\n"
     ]
    },
    {
     "name": "stdout",
     "output_type": "stream",
     "text": [
      "\u001b[1;30m[19:58:26] \u001b[0m \u001b[0;35mCOMMAND\t\u001b[0mPOST \t \"/wd/hub/session/d729d8d4e56c7082da83206b0b79d84f/keys\"\n"
     ]
    },
    {
     "name": "stderr",
     "output_type": "stream",
     "text": [
      "WARNING: the \"keys\" command will be depcrecated soon. Please use a different command in order to avoid failures in your test after updating WebdriverIO.\n"
     ]
    },
    {
     "name": "stdout",
     "output_type": "stream",
     "text": [
      "\u001b[1;30m[19:58:27] \u001b[0m \u001b[0;35mCOMMAND\t\u001b[0mPOST \t \"/wd/hub/session/d729d8d4e56c7082da83206b0b79d84f/keys\"\n"
     ]
    },
    {
     "name": "stderr",
     "output_type": "stream",
     "text": [
      "WARNING: the \"keys\" command will be depcrecated soon. Please use a different command in order to avoid failures in your test after updating WebdriverIO.\n"
     ]
    },
    {
     "name": "stdout",
     "output_type": "stream",
     "text": [
      "\u001b[1;30m[19:58:27] \u001b[0m \u001b[0;35mCOMMAND\t\u001b[0mPOST \t \"/wd/hub/session/d729d8d4e56c7082da83206b0b79d84f/keys\"\n",
      "\u001b[1;30m[19:58:27] \u001b[0m \u001b[0;35mCOMMAND\t\u001b[0mPOST \t \"/wd/hub/session/d729d8d4e56c7082da83206b0b79d84f/window\"\n",
      "\u001b[1;30m[19:58:27] \u001b[0m \u001b[0;35mCOMMAND\t\u001b[0mGET \t \"/wd/hub/session/d729d8d4e56c7082da83206b0b79d84f/url\"\n",
      "\u001b[1;30m[19:58:27] \u001b[0m \u001b[0;35mCOMMAND\t\u001b[0mPOST \t \"/wd/hub/session/d729d8d4e56c7082da83206b0b79d84f/execute\"\n",
      "\u001b[1;30m[19:58:27] \u001b[0m \u001b[0;35mCOMMAND\t\u001b[0mPOST \t \"/wd/hub/session/d729d8d4e56c7082da83206b0b79d84f/element\"\n",
      "\u001b[1;30m[19:58:27] \u001b[0m \u001b[0;35mCOMMAND\t\u001b[0mPOST \t \"/wd/hub/session/d729d8d4e56c7082da83206b0b79d84f/element/0.4300894160301274-2/click\"\n",
      "\u001b[1;30m[19:58:29] \u001b[0m \u001b[0;35mCOMMAND\t\u001b[0mGET \t \"/wd/hub/session/d729d8d4e56c7082da83206b0b79d84f/url\"\n",
      "\u001b[1;30m[19:58:30] \u001b[0m \u001b[0;35mCOMMAND\t\u001b[0mPOST \t \"/wd/hub/session/d729d8d4e56c7082da83206b0b79d84f/execute\"\n",
      "\u001b[1;30m[19:58:30] \u001b[0m \u001b[0;35mCOMMAND\t\u001b[0mPOST \t \"/wd/hub/session/d729d8d4e56c7082da83206b0b79d84f/execute\"\n",
      "\u001b[1;30m[19:58:30] \u001b[0m \u001b[0;35mCOMMAND\t\u001b[0mPOST \t \"/wd/hub/session/d729d8d4e56c7082da83206b0b79d84f/url\"\n",
      "\u001b[1;30m[19:58:35] \u001b[0m \u001b[0;35mCOMMAND\t\u001b[0mPOST \t \"/wd/hub/session/d729d8d4e56c7082da83206b0b79d84f/execute\"\n",
      "\u001b[1;30m[19:58:35] \u001b[0m \u001b[0;35mCOMMAND\t\u001b[0mPOST \t \"/wd/hub/session/d729d8d4e56c7082da83206b0b79d84f/execute\"\n",
      "\u001b[1;30m[19:58:37] \u001b[0m \u001b[0;35mCOMMAND\t\u001b[0mPOST \t \"/wd/hub/session/d729d8d4e56c7082da83206b0b79d84f/execute\"\n",
      "[]\n",
      "\u001b[1;30m[19:58:37] \u001b[0m \u001b[0;35mCOMMAND\t\u001b[0mPOST \t \"/wd/hub/session/d729d8d4e56c7082da83206b0b79d84f/element\"\n",
      "\u001b[1;30m[19:58:37] \u001b[0m \u001b[0;35mCOMMAND\t\u001b[0mPOST \t \"/wd/hub/session/d729d8d4e56c7082da83206b0b79d84f/element/0.6930314118275167-1/click\"\n"
     ]
    },
    {
     "name": "stderr",
     "output_type": "stream",
     "text": [
      "WARNING: the \"keys\" command will be depcrecated soon. Please use a different command in order to avoid failures in your test after updating WebdriverIO.\n"
     ]
    },
    {
     "name": "stdout",
     "output_type": "stream",
     "text": [
      "\u001b[1;30m[19:58:37] \u001b[0m \u001b[0;35mCOMMAND\t\u001b[0mPOST \t \"/wd/hub/session/d729d8d4e56c7082da83206b0b79d84f/keys\"\n"
     ]
    },
    {
     "name": "stderr",
     "output_type": "stream",
     "text": [
      "WARNING: the \"keys\" command will be depcrecated soon. Please use a different command in order to avoid failures in your test after updating WebdriverIO.\n"
     ]
    },
    {
     "name": "stdout",
     "output_type": "stream",
     "text": [
      "\u001b[1;30m[19:58:38] \u001b[0m \u001b[0;35mCOMMAND\t\u001b[0mPOST \t \"/wd/hub/session/d729d8d4e56c7082da83206b0b79d84f/keys\"\n"
     ]
    },
    {
     "name": "stderr",
     "output_type": "stream",
     "text": [
      "WARNING: the \"keys\" command will be depcrecated soon. Please use a different command in order to avoid failures in your test after updating WebdriverIO.\n"
     ]
    },
    {
     "name": "stdout",
     "output_type": "stream",
     "text": [
      "\u001b[1;30m[19:58:38] \u001b[0m \u001b[0;35mCOMMAND\t\u001b[0mPOST \t \"/wd/hub/session/d729d8d4e56c7082da83206b0b79d84f/keys\"\n",
      "\u001b[1;30m[19:58:38] \u001b[0m \u001b[0;35mCOMMAND\t\u001b[0mPOST \t \"/wd/hub/session/d729d8d4e56c7082da83206b0b79d84f/window\"\n",
      "\u001b[1;30m[19:58:38] \u001b[0m \u001b[0;35mCOMMAND\t\u001b[0mGET \t \"/wd/hub/session/d729d8d4e56c7082da83206b0b79d84f/url\"\n",
      "\u001b[1;30m[19:58:38] \u001b[0m \u001b[0;35mCOMMAND\t\u001b[0mPOST \t \"/wd/hub/session/d729d8d4e56c7082da83206b0b79d84f/execute\"\n",
      "\u001b[1;30m[19:58:38] \u001b[0m \u001b[0;35mCOMMAND\t\u001b[0mPOST \t \"/wd/hub/session/d729d8d4e56c7082da83206b0b79d84f/element\"\n",
      "\u001b[1;30m[19:58:39] \u001b[0m \u001b[0;35mCOMMAND\t\u001b[0mPOST \t \"/wd/hub/session/d729d8d4e56c7082da83206b0b79d84f/element/0.6324737954825352-2/click\"\n",
      "\u001b[1;30m[19:58:40] \u001b[0m \u001b[0;35mCOMMAND\t\u001b[0mGET \t \"/wd/hub/session/d729d8d4e56c7082da83206b0b79d84f/url\"\n",
      "\u001b[1;30m[19:58:41] \u001b[0m \u001b[0;35mCOMMAND\t\u001b[0mPOST \t \"/wd/hub/session/d729d8d4e56c7082da83206b0b79d84f/execute\"\n",
      "\u001b[1;30m[19:58:41] \u001b[0m \u001b[0;35mCOMMAND\t\u001b[0mPOST \t \"/wd/hub/session/d729d8d4e56c7082da83206b0b79d84f/execute\"\n",
      "\u001b[1;30m[19:58:41] \u001b[0m \u001b[0;35mCOMMAND\t\u001b[0mPOST \t \"/wd/hub/session/d729d8d4e56c7082da83206b0b79d84f/url\"\n",
      "\u001b[1;30m[19:58:46] \u001b[0m \u001b[0;35mCOMMAND\t\u001b[0mPOST \t \"/wd/hub/session/d729d8d4e56c7082da83206b0b79d84f/execute\"\n",
      "\u001b[1;30m[19:58:46] \u001b[0m \u001b[0;35mCOMMAND\t\u001b[0mPOST \t \"/wd/hub/session/d729d8d4e56c7082da83206b0b79d84f/execute\"\n",
      "\u001b[1;30m[19:58:48] \u001b[0m \u001b[0;35mCOMMAND\t\u001b[0mPOST \t \"/wd/hub/session/d729d8d4e56c7082da83206b0b79d84f/execute\"\n",
      "[]\n",
      "\u001b[1;30m[19:58:48] \u001b[0m \u001b[0;35mCOMMAND\t\u001b[0mPOST \t \"/wd/hub/session/d729d8d4e56c7082da83206b0b79d84f/element\"\n",
      "\u001b[1;30m[19:58:48] \u001b[0m \u001b[0;35mCOMMAND\t\u001b[0mPOST \t \"/wd/hub/session/d729d8d4e56c7082da83206b0b79d84f/element/0.4502562776742318-1/click\"\n"
     ]
    },
    {
     "name": "stderr",
     "output_type": "stream",
     "text": [
      "WARNING: the \"keys\" command will be depcrecated soon. Please use a different command in order to avoid failures in your test after updating WebdriverIO.\n"
     ]
    },
    {
     "name": "stdout",
     "output_type": "stream",
     "text": [
      "\u001b[1;30m[19:58:48] \u001b[0m \u001b[0;35mCOMMAND\t\u001b[0mPOST \t \"/wd/hub/session/d729d8d4e56c7082da83206b0b79d84f/keys\"\n"
     ]
    },
    {
     "name": "stderr",
     "output_type": "stream",
     "text": [
      "WARNING: the \"keys\" command will be depcrecated soon. Please use a different command in order to avoid failures in your test after updating WebdriverIO.\n"
     ]
    },
    {
     "name": "stdout",
     "output_type": "stream",
     "text": [
      "\u001b[1;30m[19:58:49] \u001b[0m \u001b[0;35mCOMMAND\t\u001b[0mPOST \t \"/wd/hub/session/d729d8d4e56c7082da83206b0b79d84f/keys\"\n"
     ]
    },
    {
     "name": "stderr",
     "output_type": "stream",
     "text": [
      "WARNING: the \"keys\" command will be depcrecated soon. Please use a different command in order to avoid failures in your test after updating WebdriverIO.\n"
     ]
    },
    {
     "name": "stdout",
     "output_type": "stream",
     "text": [
      "\u001b[1;30m[19:58:49] \u001b[0m \u001b[0;35mCOMMAND\t\u001b[0mPOST \t \"/wd/hub/session/d729d8d4e56c7082da83206b0b79d84f/keys\"\n",
      "\u001b[1;30m[19:58:49] \u001b[0m \u001b[0;35mCOMMAND\t\u001b[0mPOST \t \"/wd/hub/session/d729d8d4e56c7082da83206b0b79d84f/window\"\n",
      "\u001b[1;30m[19:58:49] \u001b[0m \u001b[0;35mCOMMAND\t\u001b[0mGET \t \"/wd/hub/session/d729d8d4e56c7082da83206b0b79d84f/url\"\n",
      "\u001b[1;30m[19:58:49] \u001b[0m \u001b[0;35mCOMMAND\t\u001b[0mPOST \t \"/wd/hub/session/d729d8d4e56c7082da83206b0b79d84f/execute\"\n",
      "\u001b[1;30m[19:58:49] \u001b[0m \u001b[0;35mCOMMAND\t\u001b[0mPOST \t \"/wd/hub/session/d729d8d4e56c7082da83206b0b79d84f/element\"\n",
      "\u001b[1;30m[19:58:49] \u001b[0m \u001b[0;35mCOMMAND\t\u001b[0mPOST \t \"/wd/hub/session/d729d8d4e56c7082da83206b0b79d84f/element/0.7435497949933698-2/click\"\n",
      "\u001b[1;30m[19:58:51] \u001b[0m \u001b[0;35mCOMMAND\t\u001b[0mGET \t \"/wd/hub/session/d729d8d4e56c7082da83206b0b79d84f/url\"\n",
      "\u001b[1;30m[19:58:52] \u001b[0m \u001b[0;35mCOMMAND\t\u001b[0mPOST \t \"/wd/hub/session/d729d8d4e56c7082da83206b0b79d84f/execute\"\n",
      "\u001b[1;30m[19:58:52] \u001b[0m \u001b[0;35mCOMMAND\t\u001b[0mPOST \t \"/wd/hub/session/d729d8d4e56c7082da83206b0b79d84f/execute\"\n",
      "\u001b[1;30m[19:58:52] \u001b[0m \u001b[0;35mCOMMAND\t\u001b[0mPOST \t \"/wd/hub/session/d729d8d4e56c7082da83206b0b79d84f/url\"\n",
      "\u001b[1;30m[19:58:57] \u001b[0m \u001b[0;35mCOMMAND\t\u001b[0mPOST \t \"/wd/hub/session/d729d8d4e56c7082da83206b0b79d84f/execute\"\n",
      "\u001b[1;30m[19:58:57] \u001b[0m \u001b[0;35mCOMMAND\t\u001b[0mPOST \t \"/wd/hub/session/d729d8d4e56c7082da83206b0b79d84f/execute\"\n",
      "\u001b[1;30m[19:58:59] \u001b[0m \u001b[0;35mCOMMAND\t\u001b[0mPOST \t \"/wd/hub/session/d729d8d4e56c7082da83206b0b79d84f/execute\"\n",
      "[]\n",
      "\u001b[1;30m[19:58:59] \u001b[0m \u001b[0;35mCOMMAND\t\u001b[0mPOST \t \"/wd/hub/session/d729d8d4e56c7082da83206b0b79d84f/element\"\n",
      "\u001b[1;30m[19:58:59] \u001b[0m \u001b[0;35mCOMMAND\t\u001b[0mPOST \t \"/wd/hub/session/d729d8d4e56c7082da83206b0b79d84f/element/0.44463586007213207-1/click\"\n"
     ]
    },
    {
     "name": "stderr",
     "output_type": "stream",
     "text": [
      "WARNING: the \"keys\" command will be depcrecated soon. Please use a different command in order to avoid failures in your test after updating WebdriverIO.\n"
     ]
    },
    {
     "name": "stdout",
     "output_type": "stream",
     "text": [
      "\u001b[1;30m[19:58:59] \u001b[0m \u001b[0;35mCOMMAND\t\u001b[0mPOST \t \"/wd/hub/session/d729d8d4e56c7082da83206b0b79d84f/keys\"\n"
     ]
    },
    {
     "name": "stderr",
     "output_type": "stream",
     "text": [
      "WARNING: the \"keys\" command will be depcrecated soon. Please use a different command in order to avoid failures in your test after updating WebdriverIO.\n"
     ]
    },
    {
     "name": "stdout",
     "output_type": "stream",
     "text": [
      "\u001b[1;30m[19:59:00] \u001b[0m \u001b[0;35mCOMMAND\t\u001b[0mPOST \t \"/wd/hub/session/d729d8d4e56c7082da83206b0b79d84f/keys\"\n"
     ]
    },
    {
     "name": "stderr",
     "output_type": "stream",
     "text": [
      "WARNING: the \"keys\" command will be depcrecated soon. Please use a different command in order to avoid failures in your test after updating WebdriverIO.\n"
     ]
    },
    {
     "name": "stdout",
     "output_type": "stream",
     "text": [
      "\u001b[1;30m[19:59:00] \u001b[0m \u001b[0;35mCOMMAND\t\u001b[0mPOST \t \"/wd/hub/session/d729d8d4e56c7082da83206b0b79d84f/keys\"\n",
      "\u001b[1;30m[19:59:00] \u001b[0m \u001b[0;35mCOMMAND\t\u001b[0mPOST \t \"/wd/hub/session/d729d8d4e56c7082da83206b0b79d84f/window\"\n",
      "\u001b[1;30m[19:59:00] \u001b[0m \u001b[0;35mCOMMAND\t\u001b[0mGET \t \"/wd/hub/session/d729d8d4e56c7082da83206b0b79d84f/url\"\n",
      "\u001b[1;30m[19:59:00] \u001b[0m \u001b[0;35mCOMMAND\t\u001b[0mPOST \t \"/wd/hub/session/d729d8d4e56c7082da83206b0b79d84f/execute\"\n",
      "\u001b[1;30m[19:59:00] \u001b[0m \u001b[0;35mCOMMAND\t\u001b[0mPOST \t \"/wd/hub/session/d729d8d4e56c7082da83206b0b79d84f/element\"\n",
      "\u001b[1;30m[19:59:01] \u001b[0m \u001b[0;35mCOMMAND\t\u001b[0mPOST \t \"/wd/hub/session/d729d8d4e56c7082da83206b0b79d84f/element/0.6930314118275167-2/click\"\n",
      "\u001b[1;30m[19:59:02] \u001b[0m \u001b[0;35mCOMMAND\t\u001b[0mGET \t \"/wd/hub/session/d729d8d4e56c7082da83206b0b79d84f/url\"\n",
      "\u001b[1;30m[19:59:03] \u001b[0m \u001b[0;35mCOMMAND\t\u001b[0mPOST \t \"/wd/hub/session/d729d8d4e56c7082da83206b0b79d84f/execute\"\n",
      "\u001b[1;30m[19:59:03] \u001b[0m \u001b[0;35mCOMMAND\t\u001b[0mPOST \t \"/wd/hub/session/d729d8d4e56c7082da83206b0b79d84f/execute\"\n",
      "\u001b[1;30m[19:59:03] \u001b[0m \u001b[0;35mCOMMAND\t\u001b[0mPOST \t \"/wd/hub/session/d729d8d4e56c7082da83206b0b79d84f/url\"\n",
      "\u001b[1;30m[19:59:08] \u001b[0m \u001b[0;35mCOMMAND\t\u001b[0mPOST \t \"/wd/hub/session/d729d8d4e56c7082da83206b0b79d84f/execute\"\n",
      "\u001b[1;30m[19:59:08] \u001b[0m \u001b[0;35mCOMMAND\t\u001b[0mPOST \t \"/wd/hub/session/d729d8d4e56c7082da83206b0b79d84f/execute\"\n",
      "\u001b[1;30m[19:59:10] \u001b[0m \u001b[0;35mCOMMAND\t\u001b[0mPOST \t \"/wd/hub/session/d729d8d4e56c7082da83206b0b79d84f/execute\"\n",
      "[]\n",
      "\u001b[1;30m[19:59:10] \u001b[0m \u001b[0;35mCOMMAND\t\u001b[0mPOST \t \"/wd/hub/session/d729d8d4e56c7082da83206b0b79d84f/element\"\n",
      "\u001b[1;30m[19:59:10] \u001b[0m \u001b[0;35mCOMMAND\t\u001b[0mPOST \t \"/wd/hub/session/d729d8d4e56c7082da83206b0b79d84f/element/0.7539919260201071-1/click\"\n"
     ]
    },
    {
     "name": "stderr",
     "output_type": "stream",
     "text": [
      "WARNING: the \"keys\" command will be depcrecated soon. Please use a different command in order to avoid failures in your test after updating WebdriverIO.\n"
     ]
    },
    {
     "name": "stdout",
     "output_type": "stream",
     "text": [
      "\u001b[1;30m[19:59:10] \u001b[0m \u001b[0;35mCOMMAND\t\u001b[0mPOST \t \"/wd/hub/session/d729d8d4e56c7082da83206b0b79d84f/keys\"\n"
     ]
    },
    {
     "name": "stderr",
     "output_type": "stream",
     "text": [
      "WARNING: the \"keys\" command will be depcrecated soon. Please use a different command in order to avoid failures in your test after updating WebdriverIO.\n"
     ]
    },
    {
     "name": "stdout",
     "output_type": "stream",
     "text": [
      "\u001b[1;30m[19:59:11] \u001b[0m \u001b[0;35mCOMMAND\t\u001b[0mPOST \t \"/wd/hub/session/d729d8d4e56c7082da83206b0b79d84f/keys\"\n"
     ]
    },
    {
     "name": "stderr",
     "output_type": "stream",
     "text": [
      "WARNING: the \"keys\" command will be depcrecated soon. Please use a different command in order to avoid failures in your test after updating WebdriverIO.\n"
     ]
    },
    {
     "name": "stdout",
     "output_type": "stream",
     "text": [
      "\u001b[1;30m[19:59:11] \u001b[0m \u001b[0;35mCOMMAND\t\u001b[0mPOST \t \"/wd/hub/session/d729d8d4e56c7082da83206b0b79d84f/keys\"\n",
      "\u001b[1;30m[19:59:11] \u001b[0m \u001b[0;35mCOMMAND\t\u001b[0mPOST \t \"/wd/hub/session/d729d8d4e56c7082da83206b0b79d84f/window\"\n",
      "\u001b[1;30m[19:59:11] \u001b[0m \u001b[0;35mCOMMAND\t\u001b[0mGET \t \"/wd/hub/session/d729d8d4e56c7082da83206b0b79d84f/url\"\n",
      "\u001b[1;30m[19:59:11] \u001b[0m \u001b[0;35mCOMMAND\t\u001b[0mPOST \t \"/wd/hub/session/d729d8d4e56c7082da83206b0b79d84f/execute\"\n",
      "\u001b[1;30m[19:59:11] \u001b[0m \u001b[0;35mCOMMAND\t\u001b[0mPOST \t \"/wd/hub/session/d729d8d4e56c7082da83206b0b79d84f/element\"\n",
      "\u001b[1;30m[19:59:11] \u001b[0m \u001b[0;35mCOMMAND\t\u001b[0mPOST \t \"/wd/hub/session/d729d8d4e56c7082da83206b0b79d84f/element/0.4502562776742318-2/click\"\n",
      "\u001b[1;30m[19:59:13] \u001b[0m \u001b[0;35mCOMMAND\t\u001b[0mGET \t \"/wd/hub/session/d729d8d4e56c7082da83206b0b79d84f/url\"\n",
      "\u001b[1;30m[19:59:14] \u001b[0m \u001b[0;35mCOMMAND\t\u001b[0mPOST \t \"/wd/hub/session/d729d8d4e56c7082da83206b0b79d84f/execute\"\n",
      "\u001b[1;30m[19:59:14] \u001b[0m \u001b[0;35mCOMMAND\t\u001b[0mPOST \t \"/wd/hub/session/d729d8d4e56c7082da83206b0b79d84f/execute\"\n",
      "\u001b[1;30m[19:59:14] \u001b[0m \u001b[0;35mCOMMAND\t\u001b[0mPOST \t \"/wd/hub/session/d729d8d4e56c7082da83206b0b79d84f/url\"\n",
      "\u001b[1;30m[19:59:19] \u001b[0m \u001b[0;35mCOMMAND\t\u001b[0mPOST \t \"/wd/hub/session/d729d8d4e56c7082da83206b0b79d84f/execute\"\n",
      "\u001b[1;30m[19:59:19] \u001b[0m \u001b[0;35mCOMMAND\t\u001b[0mPOST \t \"/wd/hub/session/d729d8d4e56c7082da83206b0b79d84f/execute\"\n",
      "\u001b[1;30m[19:59:21] \u001b[0m \u001b[0;35mCOMMAND\t\u001b[0mPOST \t \"/wd/hub/session/d729d8d4e56c7082da83206b0b79d84f/execute\"\n",
      "[]\n",
      "\u001b[1;30m[19:59:21] \u001b[0m \u001b[0;35mCOMMAND\t\u001b[0mPOST \t \"/wd/hub/session/d729d8d4e56c7082da83206b0b79d84f/element\"\n",
      "\u001b[1;30m[19:59:21] \u001b[0m \u001b[0;35mCOMMAND\t\u001b[0mPOST \t \"/wd/hub/session/d729d8d4e56c7082da83206b0b79d84f/element/0.9915802648030139-1/click\"\n"
     ]
    },
    {
     "name": "stderr",
     "output_type": "stream",
     "text": [
      "WARNING: the \"keys\" command will be depcrecated soon. Please use a different command in order to avoid failures in your test after updating WebdriverIO.\n"
     ]
    },
    {
     "name": "stdout",
     "output_type": "stream",
     "text": [
      "\u001b[1;30m[19:59:21] \u001b[0m \u001b[0;35mCOMMAND\t\u001b[0mPOST \t \"/wd/hub/session/d729d8d4e56c7082da83206b0b79d84f/keys\"\n"
     ]
    },
    {
     "name": "stderr",
     "output_type": "stream",
     "text": [
      "WARNING: the \"keys\" command will be depcrecated soon. Please use a different command in order to avoid failures in your test after updating WebdriverIO.\n"
     ]
    },
    {
     "name": "stdout",
     "output_type": "stream",
     "text": [
      "\u001b[1;30m[19:59:22] \u001b[0m \u001b[0;35mCOMMAND\t\u001b[0mPOST \t \"/wd/hub/session/d729d8d4e56c7082da83206b0b79d84f/keys\"\n"
     ]
    },
    {
     "name": "stderr",
     "output_type": "stream",
     "text": [
      "WARNING: the \"keys\" command will be depcrecated soon. Please use a different command in order to avoid failures in your test after updating WebdriverIO.\n"
     ]
    },
    {
     "name": "stdout",
     "output_type": "stream",
     "text": [
      "\u001b[1;30m[19:59:22] \u001b[0m \u001b[0;35mCOMMAND\t\u001b[0mPOST \t \"/wd/hub/session/d729d8d4e56c7082da83206b0b79d84f/keys\"\n",
      "\u001b[1;30m[19:59:22] \u001b[0m \u001b[0;35mCOMMAND\t\u001b[0mPOST \t \"/wd/hub/session/d729d8d4e56c7082da83206b0b79d84f/window\"\n",
      "\u001b[1;30m[19:59:22] \u001b[0m \u001b[0;35mCOMMAND\t\u001b[0mGET \t \"/wd/hub/session/d729d8d4e56c7082da83206b0b79d84f/url\"\n",
      "\u001b[1;30m[19:59:22] \u001b[0m \u001b[0;35mCOMMAND\t\u001b[0mPOST \t \"/wd/hub/session/d729d8d4e56c7082da83206b0b79d84f/execute\"\n",
      "\u001b[1;30m[19:59:22] \u001b[0m \u001b[0;35mCOMMAND\t\u001b[0mPOST \t \"/wd/hub/session/d729d8d4e56c7082da83206b0b79d84f/element\"\n",
      "\u001b[1;30m[19:59:22] \u001b[0m \u001b[0;35mCOMMAND\t\u001b[0mPOST \t \"/wd/hub/session/d729d8d4e56c7082da83206b0b79d84f/element/0.44463586007213207-2/click\"\n",
      "\u001b[1;30m[19:59:24] \u001b[0m \u001b[0;35mCOMMAND\t\u001b[0mGET \t \"/wd/hub/session/d729d8d4e56c7082da83206b0b79d84f/url\"\n",
      "\u001b[1;30m[19:59:25] \u001b[0m \u001b[0;35mCOMMAND\t\u001b[0mPOST \t \"/wd/hub/session/d729d8d4e56c7082da83206b0b79d84f/execute\"\n",
      "\u001b[1;30m[19:59:25] \u001b[0m \u001b[0;35mCOMMAND\t\u001b[0mPOST \t \"/wd/hub/session/d729d8d4e56c7082da83206b0b79d84f/execute\"\n",
      "\u001b[1;30m[19:59:25] \u001b[0m \u001b[0;35mCOMMAND\t\u001b[0mPOST \t \"/wd/hub/session/d729d8d4e56c7082da83206b0b79d84f/url\"\n",
      "\u001b[1;30m[19:59:30] \u001b[0m \u001b[0;35mCOMMAND\t\u001b[0mPOST \t \"/wd/hub/session/d729d8d4e56c7082da83206b0b79d84f/execute\"\n",
      "\u001b[1;30m[19:59:30] \u001b[0m \u001b[0;35mCOMMAND\t\u001b[0mPOST \t \"/wd/hub/session/d729d8d4e56c7082da83206b0b79d84f/execute\"\n",
      "\u001b[1;30m[19:59:32] \u001b[0m \u001b[0;35mCOMMAND\t\u001b[0mPOST \t \"/wd/hub/session/d729d8d4e56c7082da83206b0b79d84f/execute\"\n",
      "[]\n",
      "\u001b[1;30m[19:59:32] \u001b[0m \u001b[0;35mCOMMAND\t\u001b[0mPOST \t \"/wd/hub/session/d729d8d4e56c7082da83206b0b79d84f/element\"\n",
      "\u001b[1;30m[19:59:32] \u001b[0m \u001b[0;35mCOMMAND\t\u001b[0mPOST \t \"/wd/hub/session/d729d8d4e56c7082da83206b0b79d84f/element/0.5126541444102446-1/click\"\n"
     ]
    },
    {
     "name": "stderr",
     "output_type": "stream",
     "text": [
      "WARNING: the \"keys\" command will be depcrecated soon. Please use a different command in order to avoid failures in your test after updating WebdriverIO.\n"
     ]
    },
    {
     "name": "stdout",
     "output_type": "stream",
     "text": [
      "\u001b[1;30m[19:59:32] \u001b[0m \u001b[0;35mCOMMAND\t\u001b[0mPOST \t \"/wd/hub/session/d729d8d4e56c7082da83206b0b79d84f/keys\"\n"
     ]
    },
    {
     "name": "stderr",
     "output_type": "stream",
     "text": [
      "WARNING: the \"keys\" command will be depcrecated soon. Please use a different command in order to avoid failures in your test after updating WebdriverIO.\n"
     ]
    },
    {
     "name": "stdout",
     "output_type": "stream",
     "text": [
      "\u001b[1;30m[19:59:32] \u001b[0m \u001b[0;35mCOMMAND\t\u001b[0mPOST \t \"/wd/hub/session/d729d8d4e56c7082da83206b0b79d84f/keys\"\n"
     ]
    },
    {
     "name": "stderr",
     "output_type": "stream",
     "text": [
      "WARNING: the \"keys\" command will be depcrecated soon. Please use a different command in order to avoid failures in your test after updating WebdriverIO.\n"
     ]
    },
    {
     "name": "stdout",
     "output_type": "stream",
     "text": [
      "\u001b[1;30m[19:59:32] \u001b[0m \u001b[0;35mCOMMAND\t\u001b[0mPOST \t \"/wd/hub/session/d729d8d4e56c7082da83206b0b79d84f/keys\"\n",
      "\u001b[1;30m[19:59:33] \u001b[0m \u001b[0;35mCOMMAND\t\u001b[0mPOST \t \"/wd/hub/session/d729d8d4e56c7082da83206b0b79d84f/window\"\n",
      "\u001b[1;30m[19:59:33] \u001b[0m \u001b[0;35mCOMMAND\t\u001b[0mGET \t \"/wd/hub/session/d729d8d4e56c7082da83206b0b79d84f/url\"\n",
      "\u001b[1;30m[19:59:33] \u001b[0m \u001b[0;35mCOMMAND\t\u001b[0mPOST \t \"/wd/hub/session/d729d8d4e56c7082da83206b0b79d84f/execute\"\n",
      "\u001b[1;30m[19:59:33] \u001b[0m \u001b[0;35mCOMMAND\t\u001b[0mPOST \t \"/wd/hub/session/d729d8d4e56c7082da83206b0b79d84f/element\"\n",
      "\u001b[1;30m[19:59:33] \u001b[0m \u001b[0;35mCOMMAND\t\u001b[0mPOST \t \"/wd/hub/session/d729d8d4e56c7082da83206b0b79d84f/element/0.7539919260201071-2/click\"\n",
      "\u001b[1;30m[19:59:35] \u001b[0m \u001b[0;35mCOMMAND\t\u001b[0mGET \t \"/wd/hub/session/d729d8d4e56c7082da83206b0b79d84f/url\"\n",
      "\u001b[1;30m[19:59:36] \u001b[0m \u001b[0;35mCOMMAND\t\u001b[0mPOST \t \"/wd/hub/session/d729d8d4e56c7082da83206b0b79d84f/execute\"\n",
      "\u001b[1;30m[19:59:36] \u001b[0m \u001b[0;35mCOMMAND\t\u001b[0mPOST \t \"/wd/hub/session/d729d8d4e56c7082da83206b0b79d84f/execute\"\n",
      "\u001b[1;30m[19:59:36] \u001b[0m \u001b[0;35mCOMMAND\t\u001b[0mPOST \t \"/wd/hub/session/d729d8d4e56c7082da83206b0b79d84f/url\"\n",
      "\u001b[1;30m[19:59:41] \u001b[0m \u001b[0;35mCOMMAND\t\u001b[0mPOST \t \"/wd/hub/session/d729d8d4e56c7082da83206b0b79d84f/execute\"\n",
      "\u001b[1;30m[19:59:41] \u001b[0m \u001b[0;35mCOMMAND\t\u001b[0mPOST \t \"/wd/hub/session/d729d8d4e56c7082da83206b0b79d84f/execute\"\n",
      "\u001b[1;30m[19:59:43] \u001b[0m \u001b[0;35mCOMMAND\t\u001b[0mPOST \t \"/wd/hub/session/d729d8d4e56c7082da83206b0b79d84f/execute\"\n",
      "[]\n",
      "\u001b[1;30m[19:59:43] \u001b[0m \u001b[0;35mCOMMAND\t\u001b[0mPOST \t \"/wd/hub/session/d729d8d4e56c7082da83206b0b79d84f/element\"\n",
      "\u001b[1;30m[19:59:43] \u001b[0m \u001b[0;35mCOMMAND\t\u001b[0mPOST \t \"/wd/hub/session/d729d8d4e56c7082da83206b0b79d84f/element/0.9865157796957518-1/click\"\n"
     ]
    },
    {
     "name": "stderr",
     "output_type": "stream",
     "text": [
      "WARNING: the \"keys\" command will be depcrecated soon. Please use a different command in order to avoid failures in your test after updating WebdriverIO.\n"
     ]
    },
    {
     "name": "stdout",
     "output_type": "stream",
     "text": [
      "\u001b[1;30m[19:59:43] \u001b[0m \u001b[0;35mCOMMAND\t\u001b[0mPOST \t \"/wd/hub/session/d729d8d4e56c7082da83206b0b79d84f/keys\"\n"
     ]
    },
    {
     "name": "stderr",
     "output_type": "stream",
     "text": [
      "WARNING: the \"keys\" command will be depcrecated soon. Please use a different command in order to avoid failures in your test after updating WebdriverIO.\n"
     ]
    },
    {
     "name": "stdout",
     "output_type": "stream",
     "text": [
      "\u001b[1;30m[19:59:44] \u001b[0m \u001b[0;35mCOMMAND\t\u001b[0mPOST \t \"/wd/hub/session/d729d8d4e56c7082da83206b0b79d84f/keys\"\n"
     ]
    },
    {
     "name": "stderr",
     "output_type": "stream",
     "text": [
      "WARNING: the \"keys\" command will be depcrecated soon. Please use a different command in order to avoid failures in your test after updating WebdriverIO.\n"
     ]
    },
    {
     "name": "stdout",
     "output_type": "stream",
     "text": [
      "\u001b[1;30m[19:59:44] \u001b[0m \u001b[0;35mCOMMAND\t\u001b[0mPOST \t \"/wd/hub/session/d729d8d4e56c7082da83206b0b79d84f/keys\"\n",
      "\u001b[1;30m[19:59:44] \u001b[0m \u001b[0;35mCOMMAND\t\u001b[0mPOST \t \"/wd/hub/session/d729d8d4e56c7082da83206b0b79d84f/window\"\n",
      "\u001b[1;30m[19:59:44] \u001b[0m \u001b[0;35mCOMMAND\t\u001b[0mGET \t \"/wd/hub/session/d729d8d4e56c7082da83206b0b79d84f/url\"\n",
      "\u001b[1;30m[19:59:44] \u001b[0m \u001b[0;35mCOMMAND\t\u001b[0mPOST \t \"/wd/hub/session/d729d8d4e56c7082da83206b0b79d84f/execute\"\n",
      "\u001b[1;30m[19:59:44] \u001b[0m \u001b[0;35mCOMMAND\t\u001b[0mPOST \t \"/wd/hub/session/d729d8d4e56c7082da83206b0b79d84f/element\"\n",
      "\u001b[1;30m[19:59:44] \u001b[0m \u001b[0;35mCOMMAND\t\u001b[0mPOST \t \"/wd/hub/session/d729d8d4e56c7082da83206b0b79d84f/element/0.9915802648030139-2/click\"\n",
      "\u001b[1;30m[19:59:46] \u001b[0m \u001b[0;35mCOMMAND\t\u001b[0mGET \t \"/wd/hub/session/d729d8d4e56c7082da83206b0b79d84f/url\"\n",
      "\u001b[1;30m[19:59:47] \u001b[0m \u001b[0;35mCOMMAND\t\u001b[0mPOST \t \"/wd/hub/session/d729d8d4e56c7082da83206b0b79d84f/execute\"\n",
      "\u001b[1;30m[19:59:47] \u001b[0m \u001b[0;35mCOMMAND\t\u001b[0mPOST \t \"/wd/hub/session/d729d8d4e56c7082da83206b0b79d84f/execute\"\n",
      "\u001b[1;30m[19:59:47] \u001b[0m \u001b[0;35mCOMMAND\t\u001b[0mPOST \t \"/wd/hub/session/d729d8d4e56c7082da83206b0b79d84f/url\"\n",
      "\u001b[1;30m[19:59:52] \u001b[0m \u001b[0;35mCOMMAND\t\u001b[0mPOST \t \"/wd/hub/session/d729d8d4e56c7082da83206b0b79d84f/execute\"\n",
      "\u001b[1;30m[19:59:52] \u001b[0m \u001b[0;35mCOMMAND\t\u001b[0mPOST \t \"/wd/hub/session/d729d8d4e56c7082da83206b0b79d84f/execute\"\n",
      "\u001b[1;30m[19:59:54] \u001b[0m \u001b[0;35mCOMMAND\t\u001b[0mPOST \t \"/wd/hub/session/d729d8d4e56c7082da83206b0b79d84f/execute\"\n",
      "[]\n",
      "\u001b[1;30m[19:59:54] \u001b[0m \u001b[0;35mCOMMAND\t\u001b[0mPOST \t \"/wd/hub/session/d729d8d4e56c7082da83206b0b79d84f/element\"\n",
      "\u001b[1;30m[19:59:54] \u001b[0m \u001b[0;35mCOMMAND\t\u001b[0mPOST \t \"/wd/hub/session/d729d8d4e56c7082da83206b0b79d84f/element/0.25075567228550066-1/click\"\n"
     ]
    },
    {
     "name": "stderr",
     "output_type": "stream",
     "text": [
      "WARNING: the \"keys\" command will be depcrecated soon. Please use a different command in order to avoid failures in your test after updating WebdriverIO.\n"
     ]
    },
    {
     "name": "stdout",
     "output_type": "stream",
     "text": [
      "\u001b[1;30m[19:59:54] \u001b[0m \u001b[0;35mCOMMAND\t\u001b[0mPOST \t \"/wd/hub/session/d729d8d4e56c7082da83206b0b79d84f/keys\"\n"
     ]
    },
    {
     "name": "stderr",
     "output_type": "stream",
     "text": [
      "WARNING: the \"keys\" command will be depcrecated soon. Please use a different command in order to avoid failures in your test after updating WebdriverIO.\n"
     ]
    },
    {
     "name": "stdout",
     "output_type": "stream",
     "text": [
      "\u001b[1;30m[19:59:55] \u001b[0m \u001b[0;35mCOMMAND\t\u001b[0mPOST \t \"/wd/hub/session/d729d8d4e56c7082da83206b0b79d84f/keys\"\n"
     ]
    },
    {
     "name": "stderr",
     "output_type": "stream",
     "text": [
      "WARNING: the \"keys\" command will be depcrecated soon. Please use a different command in order to avoid failures in your test after updating WebdriverIO.\n"
     ]
    },
    {
     "name": "stdout",
     "output_type": "stream",
     "text": [
      "\u001b[1;30m[19:59:55] \u001b[0m \u001b[0;35mCOMMAND\t\u001b[0mPOST \t \"/wd/hub/session/d729d8d4e56c7082da83206b0b79d84f/keys\"\n",
      "\u001b[1;30m[19:59:55] \u001b[0m \u001b[0;35mCOMMAND\t\u001b[0mPOST \t \"/wd/hub/session/d729d8d4e56c7082da83206b0b79d84f/window\"\n",
      "\u001b[1;30m[19:59:55] \u001b[0m \u001b[0;35mCOMMAND\t\u001b[0mGET \t \"/wd/hub/session/d729d8d4e56c7082da83206b0b79d84f/url\"\n",
      "\u001b[1;30m[19:59:55] \u001b[0m \u001b[0;35mCOMMAND\t\u001b[0mPOST \t \"/wd/hub/session/d729d8d4e56c7082da83206b0b79d84f/execute\"\n",
      "\u001b[1;30m[19:59:55] \u001b[0m \u001b[0;35mCOMMAND\t\u001b[0mPOST \t \"/wd/hub/session/d729d8d4e56c7082da83206b0b79d84f/element\"\n",
      "\u001b[1;30m[19:59:55] \u001b[0m \u001b[0;35mCOMMAND\t\u001b[0mPOST \t \"/wd/hub/session/d729d8d4e56c7082da83206b0b79d84f/element/0.5126541444102446-2/click\"\n",
      "\u001b[1;30m[19:59:57] \u001b[0m \u001b[0;35mCOMMAND\t\u001b[0mGET \t \"/wd/hub/session/d729d8d4e56c7082da83206b0b79d84f/url\"\n",
      "\u001b[1;30m[19:59:58] \u001b[0m \u001b[0;35mCOMMAND\t\u001b[0mPOST \t \"/wd/hub/session/d729d8d4e56c7082da83206b0b79d84f/execute\"\n",
      "\u001b[1;30m[19:59:58] \u001b[0m \u001b[0;35mCOMMAND\t\u001b[0mPOST \t \"/wd/hub/session/d729d8d4e56c7082da83206b0b79d84f/execute\"\n",
      "\u001b[1;30m[19:59:58] \u001b[0m \u001b[0;35mCOMMAND\t\u001b[0mPOST \t \"/wd/hub/session/d729d8d4e56c7082da83206b0b79d84f/url\"\n",
      "\u001b[1;30m[20:00:03] \u001b[0m \u001b[0;35mCOMMAND\t\u001b[0mPOST \t \"/wd/hub/session/d729d8d4e56c7082da83206b0b79d84f/execute\"\n",
      "\u001b[1;30m[20:00:03] \u001b[0m \u001b[0;35mCOMMAND\t\u001b[0mPOST \t \"/wd/hub/session/d729d8d4e56c7082da83206b0b79d84f/execute\"\n",
      "\u001b[1;30m[20:00:05] \u001b[0m \u001b[0;35mCOMMAND\t\u001b[0mPOST \t \"/wd/hub/session/d729d8d4e56c7082da83206b0b79d84f/execute\"\n",
      "[]\n",
      "\u001b[1;30m[20:00:05] \u001b[0m \u001b[0;35mCOMMAND\t\u001b[0mPOST \t \"/wd/hub/session/d729d8d4e56c7082da83206b0b79d84f/element\"\n",
      "\u001b[1;30m[20:00:05] \u001b[0m \u001b[0;35mCOMMAND\t\u001b[0mPOST \t \"/wd/hub/session/d729d8d4e56c7082da83206b0b79d84f/element/0.00898131857075879-1/click\"\n"
     ]
    },
    {
     "name": "stderr",
     "output_type": "stream",
     "text": [
      "WARNING: the \"keys\" command will be depcrecated soon. Please use a different command in order to avoid failures in your test after updating WebdriverIO.\n"
     ]
    },
    {
     "name": "stdout",
     "output_type": "stream",
     "text": [
      "\u001b[1;30m[20:00:05] \u001b[0m \u001b[0;35mCOMMAND\t\u001b[0mPOST \t \"/wd/hub/session/d729d8d4e56c7082da83206b0b79d84f/keys\"\n"
     ]
    },
    {
     "name": "stderr",
     "output_type": "stream",
     "text": [
      "WARNING: the \"keys\" command will be depcrecated soon. Please use a different command in order to avoid failures in your test after updating WebdriverIO.\n"
     ]
    },
    {
     "name": "stdout",
     "output_type": "stream",
     "text": [
      "\u001b[1;30m[20:00:06] \u001b[0m \u001b[0;35mCOMMAND\t\u001b[0mPOST \t \"/wd/hub/session/d729d8d4e56c7082da83206b0b79d84f/keys\"\n"
     ]
    },
    {
     "name": "stderr",
     "output_type": "stream",
     "text": [
      "WARNING: the \"keys\" command will be depcrecated soon. Please use a different command in order to avoid failures in your test after updating WebdriverIO.\n"
     ]
    },
    {
     "name": "stdout",
     "output_type": "stream",
     "text": [
      "\u001b[1;30m[20:00:06] \u001b[0m \u001b[0;35mCOMMAND\t\u001b[0mPOST \t \"/wd/hub/session/d729d8d4e56c7082da83206b0b79d84f/keys\"\n",
      "\u001b[1;30m[20:00:06] \u001b[0m \u001b[0;35mCOMMAND\t\u001b[0mPOST \t \"/wd/hub/session/d729d8d4e56c7082da83206b0b79d84f/window\"\n",
      "\u001b[1;30m[20:00:06] \u001b[0m \u001b[0;35mCOMMAND\t\u001b[0mGET \t \"/wd/hub/session/d729d8d4e56c7082da83206b0b79d84f/url\"\n",
      "\u001b[1;30m[20:00:06] \u001b[0m \u001b[0;35mCOMMAND\t\u001b[0mPOST \t \"/wd/hub/session/d729d8d4e56c7082da83206b0b79d84f/execute\"\n",
      "\u001b[1;30m[20:00:06] \u001b[0m \u001b[0;35mCOMMAND\t\u001b[0mPOST \t \"/wd/hub/session/d729d8d4e56c7082da83206b0b79d84f/element\"\n",
      "\u001b[1;30m[20:00:07] \u001b[0m \u001b[0;35mCOMMAND\t\u001b[0mPOST \t \"/wd/hub/session/d729d8d4e56c7082da83206b0b79d84f/element/0.9865157796957518-2/click\"\n",
      "\u001b[1;30m[20:00:08] \u001b[0m \u001b[0;35mCOMMAND\t\u001b[0mGET \t \"/wd/hub/session/d729d8d4e56c7082da83206b0b79d84f/url\"\n",
      "\u001b[1;30m[20:00:09] \u001b[0m \u001b[0;35mCOMMAND\t\u001b[0mPOST \t \"/wd/hub/session/d729d8d4e56c7082da83206b0b79d84f/execute\"\n",
      "\u001b[1;30m[20:00:09] \u001b[0m \u001b[0;35mCOMMAND\t\u001b[0mPOST \t \"/wd/hub/session/d729d8d4e56c7082da83206b0b79d84f/execute\"\n",
      "\u001b[1;30m[20:00:09] \u001b[0m \u001b[0;35mCOMMAND\t\u001b[0mPOST \t \"/wd/hub/session/d729d8d4e56c7082da83206b0b79d84f/element/0.9865157796957518-3/click\"\n",
      "\u001b[1;30m[20:00:14] \u001b[0m \u001b[0;35mCOMMAND\t\u001b[0mPOST \t \"/wd/hub/session/d729d8d4e56c7082da83206b0b79d84f/elements\"\n",
      "\u001b[1;30m[20:00:14] \u001b[0m \u001b[0;35mCOMMAND\t\u001b[0mPOST \t \"/wd/hub/session/d729d8d4e56c7082da83206b0b79d84f/elements\"\n",
      "\u001b[1;30m[20:00:14] \u001b[0m \u001b[0;35mCOMMAND\t\u001b[0mGET \t \"/wd/hub/session/d729d8d4e56c7082da83206b0b79d84f/url\"\n",
      "\u001b[1;30m[20:00:14] \u001b[0m \u001b[0;35mCOMMAND\t\u001b[0mGET \t \"/wd/hub/session/d729d8d4e56c7082da83206b0b79d84f/element/0.3820542614613134-1/text\"\n",
      "\u001b[1;30m[20:00:14] \u001b[0m \u001b[0;35mCOMMAND\t\u001b[0mPOST \t \"/wd/hub/session/d729d8d4e56c7082da83206b0b79d84f/elements\"\n",
      "\u001b[1;30m[20:00:14] \u001b[0m \u001b[0;35mCOMMAND\t\u001b[0mGET \t \"/wd/hub/session/d729d8d4e56c7082da83206b0b79d84f/element/0.3820542614613134-2/text\"\n",
      "\u001b[1;30m[20:00:14] \u001b[0m \u001b[0;35mCOMMAND\t\u001b[0mGET \t \"/wd/hub/session/d729d8d4e56c7082da83206b0b79d84f/element/0.3820542614613134-3/text\"\n",
      "\u001b[1;30m[20:00:14] \u001b[0m \u001b[0;35mCOMMAND\t\u001b[0mGET \t \"/wd/hub/session/d729d8d4e56c7082da83206b0b79d84f/element/0.3820542614613134-4/text\"\n",
      "\u001b[1;30m[20:00:14] \u001b[0m \u001b[0;35mCOMMAND\t\u001b[0mGET \t \"/wd/hub/session/d729d8d4e56c7082da83206b0b79d84f/element/0.3820542614613134-5/text\"\n",
      "\u001b[1;30m[20:00:14] \u001b[0m \u001b[0;35mCOMMAND\t\u001b[0mPOST \t \"/wd/hub/session/d729d8d4e56c7082da83206b0b79d84f/url\"\n",
      "\u001b[1;30m[20:00:19] \u001b[0m \u001b[0;35mCOMMAND\t\u001b[0mPOST \t \"/wd/hub/session/d729d8d4e56c7082da83206b0b79d84f/execute\"\n",
      "\u001b[1;30m[20:00:20] \u001b[0m \u001b[0;35mCOMMAND\t\u001b[0mPOST \t \"/wd/hub/session/d729d8d4e56c7082da83206b0b79d84f/execute\"\n",
      "\u001b[1;30m[20:00:22] \u001b[0m \u001b[0;35mCOMMAND\t\u001b[0mPOST \t \"/wd/hub/session/d729d8d4e56c7082da83206b0b79d84f/execute\"\n",
      "[]\n",
      "\u001b[1;30m[20:00:22] \u001b[0m \u001b[0;35mCOMMAND\t\u001b[0mPOST \t \"/wd/hub/session/d729d8d4e56c7082da83206b0b79d84f/element\"\n",
      "\u001b[1;30m[20:00:22] \u001b[0m \u001b[0;35mCOMMAND\t\u001b[0mPOST \t \"/wd/hub/session/d729d8d4e56c7082da83206b0b79d84f/element/0.9074701076286089-1/click\"\n"
     ]
    },
    {
     "name": "stderr",
     "output_type": "stream",
     "text": [
      "WARNING: the \"keys\" command will be depcrecated soon. Please use a different command in order to avoid failures in your test after updating WebdriverIO.\n"
     ]
    },
    {
     "name": "stdout",
     "output_type": "stream",
     "text": [
      "\u001b[1;30m[20:00:22] \u001b[0m \u001b[0;35mCOMMAND\t\u001b[0mPOST \t \"/wd/hub/session/d729d8d4e56c7082da83206b0b79d84f/keys\"\n"
     ]
    },
    {
     "name": "stderr",
     "output_type": "stream",
     "text": [
      "WARNING: the \"keys\" command will be depcrecated soon. Please use a different command in order to avoid failures in your test after updating WebdriverIO.\n"
     ]
    },
    {
     "name": "stdout",
     "output_type": "stream",
     "text": [
      "\u001b[1;30m[20:00:22] \u001b[0m \u001b[0;35mCOMMAND\t\u001b[0mPOST \t \"/wd/hub/session/d729d8d4e56c7082da83206b0b79d84f/keys\"\n"
     ]
    },
    {
     "name": "stderr",
     "output_type": "stream",
     "text": [
      "WARNING: the \"keys\" command will be depcrecated soon. Please use a different command in order to avoid failures in your test after updating WebdriverIO.\n"
     ]
    },
    {
     "name": "stdout",
     "output_type": "stream",
     "text": [
      "\u001b[1;30m[20:00:22] \u001b[0m \u001b[0;35mCOMMAND\t\u001b[0mPOST \t \"/wd/hub/session/d729d8d4e56c7082da83206b0b79d84f/keys\"\n",
      "\u001b[1;30m[20:00:22] \u001b[0m \u001b[0;35mCOMMAND\t\u001b[0mPOST \t \"/wd/hub/session/d729d8d4e56c7082da83206b0b79d84f/window\"\n",
      "\u001b[1;30m[20:00:22] \u001b[0m \u001b[0;35mCOMMAND\t\u001b[0mGET \t \"/wd/hub/session/d729d8d4e56c7082da83206b0b79d84f/url\"\n",
      "\u001b[1;30m[20:00:23] \u001b[0m \u001b[0;35mCOMMAND\t\u001b[0mPOST \t \"/wd/hub/session/d729d8d4e56c7082da83206b0b79d84f/execute\"\n",
      "\u001b[1;30m[20:00:23] \u001b[0m \u001b[0;35mCOMMAND\t\u001b[0mPOST \t \"/wd/hub/session/d729d8d4e56c7082da83206b0b79d84f/element\"\n",
      "\u001b[1;30m[20:00:23] \u001b[0m \u001b[0;35mCOMMAND\t\u001b[0mPOST \t \"/wd/hub/session/d729d8d4e56c7082da83206b0b79d84f/element/0.25075567228550066-2/click\"\n",
      "\u001b[1;30m[20:00:24] \u001b[0m \u001b[0;35mCOMMAND\t\u001b[0mGET \t \"/wd/hub/session/d729d8d4e56c7082da83206b0b79d84f/url\"\n",
      "\u001b[1;30m[20:00:25] \u001b[0m \u001b[0;35mCOMMAND\t\u001b[0mPOST \t \"/wd/hub/session/d729d8d4e56c7082da83206b0b79d84f/execute\"\n",
      "\u001b[1;30m[20:00:26] \u001b[0m \u001b[0;35mCOMMAND\t\u001b[0mPOST \t \"/wd/hub/session/d729d8d4e56c7082da83206b0b79d84f/execute\"\n",
      "\u001b[1;30m[20:00:26] \u001b[0m \u001b[0;35mCOMMAND\t\u001b[0mPOST \t \"/wd/hub/session/d729d8d4e56c7082da83206b0b79d84f/url\"\n",
      "\u001b[1;30m[20:00:31] \u001b[0m \u001b[0;35mCOMMAND\t\u001b[0mPOST \t \"/wd/hub/session/d729d8d4e56c7082da83206b0b79d84f/execute\"\n",
      "\u001b[1;30m[20:00:31] \u001b[0m \u001b[0;35mCOMMAND\t\u001b[0mPOST \t \"/wd/hub/session/d729d8d4e56c7082da83206b0b79d84f/execute\"\n",
      "\u001b[1;30m[20:00:33] \u001b[0m \u001b[0;35mCOMMAND\t\u001b[0mPOST \t \"/wd/hub/session/d729d8d4e56c7082da83206b0b79d84f/execute\"\n",
      "[ { from: 'Brian',\n",
      "    message: 'Brian\\nLiving the dream? ᵍC\\n',\n",
      "    time: 2017-11-23T00:43:00.000Z } ]\n",
      "\u001b[1;30m[20:00:33] \u001b[0m \u001b[0;35mCOMMAND\t\u001b[0mPOST \t \"/wd/hub/session/d729d8d4e56c7082da83206b0b79d84f/window\"\n",
      "\u001b[1;30m[20:00:33] \u001b[0m \u001b[0;35mCOMMAND\t\u001b[0mGET \t \"/wd/hub/session/d729d8d4e56c7082da83206b0b79d84f/url\"\n",
      "\u001b[1;30m[20:00:33] \u001b[0m \u001b[0;35mCOMMAND\t\u001b[0mPOST \t \"/wd/hub/session/d729d8d4e56c7082da83206b0b79d84f/execute\"\n",
      "\u001b[1;30m[20:00:33] \u001b[0m \u001b[0;35mCOMMAND\t\u001b[0mPOST \t \"/wd/hub/session/d729d8d4e56c7082da83206b0b79d84f/element\"\n",
      "\u001b[1;30m[20:00:33] \u001b[0m \u001b[0;35mCOMMAND\t\u001b[0mPOST \t \"/wd/hub/session/d729d8d4e56c7082da83206b0b79d84f/element/0.00898131857075879-2/click\"\n",
      "\u001b[1;30m[20:00:34] \u001b[0m \u001b[0;35mCOMMAND\t\u001b[0mGET \t \"/wd/hub/session/d729d8d4e56c7082da83206b0b79d84f/url\"\n",
      "\u001b[1;30m[20:00:35] \u001b[0m \u001b[0;35mCOMMAND\t\u001b[0mPOST \t \"/wd/hub/session/d729d8d4e56c7082da83206b0b79d84f/execute\"\n",
      "\u001b[1;30m[20:00:35] \u001b[0m \u001b[0;35mCOMMAND\t\u001b[0mPOST \t \"/wd/hub/session/d729d8d4e56c7082da83206b0b79d84f/execute\"\n",
      "\u001b[1;30m[20:00:35] \u001b[0m \u001b[0;35mCOMMAND\t\u001b[0mPOST \t \"/wd/hub/session/d729d8d4e56c7082da83206b0b79d84f/url\"\n",
      "\u001b[1;30m[20:00:41] \u001b[0m \u001b[0;35mCOMMAND\t\u001b[0mPOST \t \"/wd/hub/session/d729d8d4e56c7082da83206b0b79d84f/execute\"\n",
      "\u001b[1;30m[20:00:41] \u001b[0m \u001b[0;35mCOMMAND\t\u001b[0mPOST \t \"/wd/hub/session/d729d8d4e56c7082da83206b0b79d84f/execute\"\n",
      "\u001b[1;30m[20:00:43] \u001b[0m \u001b[0;35mCOMMAND\t\u001b[0mPOST \t \"/wd/hub/session/d729d8d4e56c7082da83206b0b79d84f/execute\"\n",
      "[]\n",
      "\u001b[1;30m[20:00:43] \u001b[0m \u001b[0;35mCOMMAND\t\u001b[0mPOST \t \"/wd/hub/session/d729d8d4e56c7082da83206b0b79d84f/element\"\n",
      "\u001b[1;30m[20:00:43] \u001b[0m \u001b[0;35mCOMMAND\t\u001b[0mPOST \t \"/wd/hub/session/d729d8d4e56c7082da83206b0b79d84f/element/0.7553416607857517-1/click\"\n"
     ]
    },
    {
     "name": "stderr",
     "output_type": "stream",
     "text": [
      "WARNING: the \"keys\" command will be depcrecated soon. Please use a different command in order to avoid failures in your test after updating WebdriverIO.\n"
     ]
    },
    {
     "name": "stdout",
     "output_type": "stream",
     "text": [
      "\u001b[1;30m[20:00:43] \u001b[0m \u001b[0;35mCOMMAND\t\u001b[0mPOST \t \"/wd/hub/session/d729d8d4e56c7082da83206b0b79d84f/keys\"\n"
     ]
    },
    {
     "name": "stderr",
     "output_type": "stream",
     "text": [
      "WARNING: the \"keys\" command will be depcrecated soon. Please use a different command in order to avoid failures in your test after updating WebdriverIO.\n"
     ]
    },
    {
     "name": "stdout",
     "output_type": "stream",
     "text": [
      "\u001b[1;30m[20:00:44] \u001b[0m \u001b[0;35mCOMMAND\t\u001b[0mPOST \t \"/wd/hub/session/d729d8d4e56c7082da83206b0b79d84f/keys\"\n"
     ]
    },
    {
     "name": "stderr",
     "output_type": "stream",
     "text": [
      "WARNING: the \"keys\" command will be depcrecated soon. Please use a different command in order to avoid failures in your test after updating WebdriverIO.\n"
     ]
    },
    {
     "name": "stdout",
     "output_type": "stream",
     "text": [
      "\u001b[1;30m[20:00:44] \u001b[0m \u001b[0;35mCOMMAND\t\u001b[0mPOST \t \"/wd/hub/session/d729d8d4e56c7082da83206b0b79d84f/keys\"\n",
      "\u001b[1;30m[20:00:44] \u001b[0m \u001b[0;35mCOMMAND\t\u001b[0mPOST \t \"/wd/hub/session/d729d8d4e56c7082da83206b0b79d84f/window\"\n",
      "\u001b[1;30m[20:00:44] \u001b[0m \u001b[0;35mCOMMAND\t\u001b[0mGET \t \"/wd/hub/session/d729d8d4e56c7082da83206b0b79d84f/url\"\n",
      "\u001b[1;30m[20:00:44] \u001b[0m \u001b[0;35mCOMMAND\t\u001b[0mPOST \t \"/wd/hub/session/d729d8d4e56c7082da83206b0b79d84f/execute\"\n",
      "\u001b[1;30m[20:00:44] \u001b[0m \u001b[0;35mCOMMAND\t\u001b[0mPOST \t \"/wd/hub/session/d729d8d4e56c7082da83206b0b79d84f/element\"\n",
      "\u001b[1;30m[20:00:44] \u001b[0m \u001b[0;35mCOMMAND\t\u001b[0mPOST \t \"/wd/hub/session/d729d8d4e56c7082da83206b0b79d84f/element/0.9074701076286089-2/click\"\n",
      "\u001b[1;30m[20:00:46] \u001b[0m \u001b[0;35mCOMMAND\t\u001b[0mGET \t \"/wd/hub/session/d729d8d4e56c7082da83206b0b79d84f/url\"\n",
      "\u001b[1;30m[20:00:47] \u001b[0m \u001b[0;35mCOMMAND\t\u001b[0mPOST \t \"/wd/hub/session/d729d8d4e56c7082da83206b0b79d84f/execute\"\n",
      "\u001b[1;30m[20:00:47] \u001b[0m \u001b[0;35mCOMMAND\t\u001b[0mPOST \t \"/wd/hub/session/d729d8d4e56c7082da83206b0b79d84f/execute\"\n",
      "\u001b[1;30m[20:00:47] \u001b[0m \u001b[0;35mCOMMAND\t\u001b[0mPOST \t \"/wd/hub/session/d729d8d4e56c7082da83206b0b79d84f/url\"\n",
      "\u001b[1;30m[20:00:52] \u001b[0m \u001b[0;35mCOMMAND\t\u001b[0mPOST \t \"/wd/hub/session/d729d8d4e56c7082da83206b0b79d84f/execute\"\n",
      "\u001b[1;30m[20:00:52] \u001b[0m \u001b[0;35mCOMMAND\t\u001b[0mPOST \t \"/wd/hub/session/d729d8d4e56c7082da83206b0b79d84f/execute\"\n",
      "\u001b[1;30m[20:00:54] \u001b[0m \u001b[0;35mCOMMAND\t\u001b[0mPOST \t \"/wd/hub/session/d729d8d4e56c7082da83206b0b79d84f/execute\"\n",
      "[]\n",
      "\u001b[1;30m[20:00:54] \u001b[0m \u001b[0;35mCOMMAND\t\u001b[0mPOST \t \"/wd/hub/session/d729d8d4e56c7082da83206b0b79d84f/element\"\n",
      "\u001b[1;30m[20:00:54] \u001b[0m \u001b[0;35mCOMMAND\t\u001b[0mPOST \t \"/wd/hub/session/d729d8d4e56c7082da83206b0b79d84f/element/0.8414465321360225-1/click\"\n"
     ]
    },
    {
     "name": "stderr",
     "output_type": "stream",
     "text": [
      "WARNING: the \"keys\" command will be depcrecated soon. Please use a different command in order to avoid failures in your test after updating WebdriverIO.\n"
     ]
    },
    {
     "name": "stdout",
     "output_type": "stream",
     "text": [
      "\u001b[1;30m[20:00:54] \u001b[0m \u001b[0;35mCOMMAND\t\u001b[0mPOST \t \"/wd/hub/session/d729d8d4e56c7082da83206b0b79d84f/keys\"\n"
     ]
    },
    {
     "name": "stderr",
     "output_type": "stream",
     "text": [
      "WARNING: the \"keys\" command will be depcrecated soon. Please use a different command in order to avoid failures in your test after updating WebdriverIO.\n"
     ]
    },
    {
     "name": "stdout",
     "output_type": "stream",
     "text": [
      "\u001b[1;30m[20:00:54] \u001b[0m \u001b[0;35mCOMMAND\t\u001b[0mPOST \t \"/wd/hub/session/d729d8d4e56c7082da83206b0b79d84f/keys\"\n"
     ]
    },
    {
     "name": "stderr",
     "output_type": "stream",
     "text": [
      "WARNING: the \"keys\" command will be depcrecated soon. Please use a different command in order to avoid failures in your test after updating WebdriverIO.\n"
     ]
    },
    {
     "name": "stdout",
     "output_type": "stream",
     "text": [
      "\u001b[1;30m[20:00:54] \u001b[0m \u001b[0;35mCOMMAND\t\u001b[0mPOST \t \"/wd/hub/session/d729d8d4e56c7082da83206b0b79d84f/keys\"\n",
      "\u001b[1;30m[20:00:55] \u001b[0m \u001b[0;35mCOMMAND\t\u001b[0mPOST \t \"/wd/hub/session/d729d8d4e56c7082da83206b0b79d84f/window\"\n",
      "\u001b[1;30m[20:00:55] \u001b[0m \u001b[0;35mCOMMAND\t\u001b[0mGET \t \"/wd/hub/session/d729d8d4e56c7082da83206b0b79d84f/url\"\n",
      "\u001b[1;30m[20:00:55] \u001b[0m \u001b[0;35mCOMMAND\t\u001b[0mPOST \t \"/wd/hub/session/d729d8d4e56c7082da83206b0b79d84f/execute\"\n",
      "\u001b[1;30m[20:00:55] \u001b[0m \u001b[0;35mCOMMAND\t\u001b[0mPOST \t \"/wd/hub/session/d729d8d4e56c7082da83206b0b79d84f/element\"\n",
      "\u001b[1;30m[20:00:55] \u001b[0m \u001b[0;35mCOMMAND\t\u001b[0mPOST \t \"/wd/hub/session/d729d8d4e56c7082da83206b0b79d84f/element/0.26399973793950515-1/click\"\n",
      "\u001b[1;30m[20:00:57] \u001b[0m \u001b[0;35mCOMMAND\t\u001b[0mGET \t \"/wd/hub/session/d729d8d4e56c7082da83206b0b79d84f/url\"\n",
      "\u001b[1;30m[20:00:58] \u001b[0m \u001b[0;35mCOMMAND\t\u001b[0mPOST \t \"/wd/hub/session/d729d8d4e56c7082da83206b0b79d84f/execute\"\n",
      "\u001b[1;30m[20:00:58] \u001b[0m \u001b[0;35mCOMMAND\t\u001b[0mPOST \t \"/wd/hub/session/d729d8d4e56c7082da83206b0b79d84f/execute\"\n",
      "\u001b[1;30m[20:00:58] \u001b[0m \u001b[0;35mCOMMAND\t\u001b[0mPOST \t \"/wd/hub/session/d729d8d4e56c7082da83206b0b79d84f/url\"\n",
      "\u001b[1;30m[20:01:03] \u001b[0m \u001b[0;35mCOMMAND\t\u001b[0mPOST \t \"/wd/hub/session/d729d8d4e56c7082da83206b0b79d84f/execute\"\n",
      "\u001b[1;30m[20:01:03] \u001b[0m \u001b[0;35mCOMMAND\t\u001b[0mPOST \t \"/wd/hub/session/d729d8d4e56c7082da83206b0b79d84f/execute\"\n",
      "\u001b[1;30m[20:01:05] \u001b[0m \u001b[0;35mCOMMAND\t\u001b[0mPOST \t \"/wd/hub/session/d729d8d4e56c7082da83206b0b79d84f/execute\"\n",
      "[]\n",
      "\u001b[1;30m[20:01:05] \u001b[0m \u001b[0;35mCOMMAND\t\u001b[0mPOST \t \"/wd/hub/session/d729d8d4e56c7082da83206b0b79d84f/element\"\n",
      "\u001b[1;30m[20:01:05] \u001b[0m \u001b[0;35mCOMMAND\t\u001b[0mPOST \t \"/wd/hub/session/d729d8d4e56c7082da83206b0b79d84f/element/0.9541808250115895-1/click\"\n"
     ]
    },
    {
     "name": "stderr",
     "output_type": "stream",
     "text": [
      "WARNING: the \"keys\" command will be depcrecated soon. Please use a different command in order to avoid failures in your test after updating WebdriverIO.\n"
     ]
    },
    {
     "name": "stdout",
     "output_type": "stream",
     "text": [
      "\u001b[1;30m[20:01:05] \u001b[0m \u001b[0;35mCOMMAND\t\u001b[0mPOST \t \"/wd/hub/session/d729d8d4e56c7082da83206b0b79d84f/keys\"\n"
     ]
    },
    {
     "name": "stderr",
     "output_type": "stream",
     "text": [
      "WARNING: the \"keys\" command will be depcrecated soon. Please use a different command in order to avoid failures in your test after updating WebdriverIO.\n"
     ]
    },
    {
     "name": "stdout",
     "output_type": "stream",
     "text": [
      "\u001b[1;30m[20:01:05] \u001b[0m \u001b[0;35mCOMMAND\t\u001b[0mPOST \t \"/wd/hub/session/d729d8d4e56c7082da83206b0b79d84f/keys\"\n"
     ]
    },
    {
     "name": "stderr",
     "output_type": "stream",
     "text": [
      "WARNING: the \"keys\" command will be depcrecated soon. Please use a different command in order to avoid failures in your test after updating WebdriverIO.\n"
     ]
    },
    {
     "name": "stdout",
     "output_type": "stream",
     "text": [
      "\u001b[1;30m[20:01:05] \u001b[0m \u001b[0;35mCOMMAND\t\u001b[0mPOST \t \"/wd/hub/session/d729d8d4e56c7082da83206b0b79d84f/keys\"\n",
      "\u001b[1;30m[20:01:06] \u001b[0m \u001b[0;35mCOMMAND\t\u001b[0mPOST \t \"/wd/hub/session/d729d8d4e56c7082da83206b0b79d84f/window\"\n",
      "\u001b[1;30m[20:01:06] \u001b[0m \u001b[0;35mCOMMAND\t\u001b[0mGET \t \"/wd/hub/session/d729d8d4e56c7082da83206b0b79d84f/url\"\n",
      "\u001b[1;30m[20:01:06] \u001b[0m \u001b[0;35mCOMMAND\t\u001b[0mPOST \t \"/wd/hub/session/d729d8d4e56c7082da83206b0b79d84f/execute\"\n",
      "\u001b[1;30m[20:01:06] \u001b[0m \u001b[0;35mCOMMAND\t\u001b[0mPOST \t \"/wd/hub/session/d729d8d4e56c7082da83206b0b79d84f/element\"\n",
      "\u001b[1;30m[20:01:06] \u001b[0m \u001b[0;35mCOMMAND\t\u001b[0mPOST \t \"/wd/hub/session/d729d8d4e56c7082da83206b0b79d84f/element/0.7553416607857517-2/click\"\n",
      "\u001b[1;30m[20:01:08] \u001b[0m \u001b[0;35mCOMMAND\t\u001b[0mGET \t \"/wd/hub/session/d729d8d4e56c7082da83206b0b79d84f/url\"\n",
      "\u001b[1;30m[20:01:09] \u001b[0m \u001b[0;35mCOMMAND\t\u001b[0mPOST \t \"/wd/hub/session/d729d8d4e56c7082da83206b0b79d84f/execute\"\n",
      "\u001b[1;30m[20:01:09] \u001b[0m \u001b[0;35mCOMMAND\t\u001b[0mPOST \t \"/wd/hub/session/d729d8d4e56c7082da83206b0b79d84f/execute\"\n",
      "\u001b[1;30m[20:01:09] \u001b[0m \u001b[0;35mCOMMAND\t\u001b[0mPOST \t \"/wd/hub/session/d729d8d4e56c7082da83206b0b79d84f/url\"\n",
      "\u001b[1;30m[20:01:14] \u001b[0m \u001b[0;35mCOMMAND\t\u001b[0mPOST \t \"/wd/hub/session/d729d8d4e56c7082da83206b0b79d84f/execute\"\n",
      "\u001b[1;30m[20:01:14] \u001b[0m \u001b[0;35mCOMMAND\t\u001b[0mPOST \t \"/wd/hub/session/d729d8d4e56c7082da83206b0b79d84f/execute\"\n",
      "\u001b[1;30m[20:01:16] \u001b[0m \u001b[0;35mCOMMAND\t\u001b[0mPOST \t \"/wd/hub/session/d729d8d4e56c7082da83206b0b79d84f/execute\"\n",
      "[]\n",
      "\u001b[1;30m[20:01:16] \u001b[0m \u001b[0;35mCOMMAND\t\u001b[0mPOST \t \"/wd/hub/session/d729d8d4e56c7082da83206b0b79d84f/element\"\n",
      "\u001b[1;30m[20:01:16] \u001b[0m \u001b[0;35mCOMMAND\t\u001b[0mPOST \t \"/wd/hub/session/d729d8d4e56c7082da83206b0b79d84f/element/0.7665972432247623-1/click\"\n"
     ]
    },
    {
     "name": "stderr",
     "output_type": "stream",
     "text": [
      "WARNING: the \"keys\" command will be depcrecated soon. Please use a different command in order to avoid failures in your test after updating WebdriverIO.\n"
     ]
    },
    {
     "name": "stdout",
     "output_type": "stream",
     "text": [
      "\u001b[1;30m[20:01:16] \u001b[0m \u001b[0;35mCOMMAND\t\u001b[0mPOST \t \"/wd/hub/session/d729d8d4e56c7082da83206b0b79d84f/keys\"\n"
     ]
    },
    {
     "name": "stderr",
     "output_type": "stream",
     "text": [
      "WARNING: the \"keys\" command will be depcrecated soon. Please use a different command in order to avoid failures in your test after updating WebdriverIO.\n"
     ]
    },
    {
     "name": "stdout",
     "output_type": "stream",
     "text": [
      "\u001b[1;30m[20:01:17] \u001b[0m \u001b[0;35mCOMMAND\t\u001b[0mPOST \t \"/wd/hub/session/d729d8d4e56c7082da83206b0b79d84f/keys\"\n"
     ]
    },
    {
     "name": "stderr",
     "output_type": "stream",
     "text": [
      "WARNING: the \"keys\" command will be depcrecated soon. Please use a different command in order to avoid failures in your test after updating WebdriverIO.\n"
     ]
    },
    {
     "name": "stdout",
     "output_type": "stream",
     "text": [
      "\u001b[1;30m[20:01:17] \u001b[0m \u001b[0;35mCOMMAND\t\u001b[0mPOST \t \"/wd/hub/session/d729d8d4e56c7082da83206b0b79d84f/keys\"\n",
      "\u001b[1;30m[20:01:17] \u001b[0m \u001b[0;35mCOMMAND\t\u001b[0mPOST \t \"/wd/hub/session/d729d8d4e56c7082da83206b0b79d84f/window\"\n",
      "\u001b[1;30m[20:01:17] \u001b[0m \u001b[0;35mCOMMAND\t\u001b[0mGET \t \"/wd/hub/session/d729d8d4e56c7082da83206b0b79d84f/url\"\n",
      "\u001b[1;30m[20:01:17] \u001b[0m \u001b[0;35mCOMMAND\t\u001b[0mPOST \t \"/wd/hub/session/d729d8d4e56c7082da83206b0b79d84f/execute\"\n",
      "\u001b[1;30m[20:01:17] \u001b[0m \u001b[0;35mCOMMAND\t\u001b[0mPOST \t \"/wd/hub/session/d729d8d4e56c7082da83206b0b79d84f/element\"\n",
      "\u001b[1;30m[20:01:18] \u001b[0m \u001b[0;35mCOMMAND\t\u001b[0mPOST \t \"/wd/hub/session/d729d8d4e56c7082da83206b0b79d84f/element/0.8414465321360225-2/click\"\n",
      "\u001b[1;30m[20:01:19] \u001b[0m \u001b[0;35mCOMMAND\t\u001b[0mGET \t \"/wd/hub/session/d729d8d4e56c7082da83206b0b79d84f/url\"\n",
      "\u001b[1;30m[20:01:20] \u001b[0m \u001b[0;35mCOMMAND\t\u001b[0mPOST \t \"/wd/hub/session/d729d8d4e56c7082da83206b0b79d84f/execute\"\n",
      "\u001b[1;30m[20:01:20] \u001b[0m \u001b[0;35mCOMMAND\t\u001b[0mPOST \t \"/wd/hub/session/d729d8d4e56c7082da83206b0b79d84f/execute\"\n",
      "\u001b[1;30m[20:01:20] \u001b[0m \u001b[0;35mCOMMAND\t\u001b[0mPOST \t \"/wd/hub/session/d729d8d4e56c7082da83206b0b79d84f/url\"\n",
      "\u001b[1;30m[20:01:25] \u001b[0m \u001b[0;35mCOMMAND\t\u001b[0mPOST \t \"/wd/hub/session/d729d8d4e56c7082da83206b0b79d84f/execute\"\n",
      "\u001b[1;30m[20:01:25] \u001b[0m \u001b[0;35mCOMMAND\t\u001b[0mPOST \t \"/wd/hub/session/d729d8d4e56c7082da83206b0b79d84f/execute\"\n",
      "\u001b[1;30m[20:01:27] \u001b[0m \u001b[0;35mCOMMAND\t\u001b[0mPOST \t \"/wd/hub/session/d729d8d4e56c7082da83206b0b79d84f/execute\"\n",
      "[]\n",
      "\u001b[1;30m[20:01:27] \u001b[0m \u001b[0;35mCOMMAND\t\u001b[0mPOST \t \"/wd/hub/session/d729d8d4e56c7082da83206b0b79d84f/element\"\n",
      "\u001b[1;30m[20:01:28] \u001b[0m \u001b[0;35mCOMMAND\t\u001b[0mPOST \t \"/wd/hub/session/d729d8d4e56c7082da83206b0b79d84f/element/0.911894845985886-1/click\"\n"
     ]
    },
    {
     "name": "stderr",
     "output_type": "stream",
     "text": [
      "WARNING: the \"keys\" command will be depcrecated soon. Please use a different command in order to avoid failures in your test after updating WebdriverIO.\n"
     ]
    },
    {
     "name": "stdout",
     "output_type": "stream",
     "text": [
      "\u001b[1;30m[20:01:28] \u001b[0m \u001b[0;35mCOMMAND\t\u001b[0mPOST \t \"/wd/hub/session/d729d8d4e56c7082da83206b0b79d84f/keys\"\n"
     ]
    },
    {
     "name": "stderr",
     "output_type": "stream",
     "text": [
      "WARNING: the \"keys\" command will be depcrecated soon. Please use a different command in order to avoid failures in your test after updating WebdriverIO.\n"
     ]
    },
    {
     "name": "stdout",
     "output_type": "stream",
     "text": [
      "\u001b[1;30m[20:01:28] \u001b[0m \u001b[0;35mCOMMAND\t\u001b[0mPOST \t \"/wd/hub/session/d729d8d4e56c7082da83206b0b79d84f/keys\"\n"
     ]
    },
    {
     "name": "stderr",
     "output_type": "stream",
     "text": [
      "WARNING: the \"keys\" command will be depcrecated soon. Please use a different command in order to avoid failures in your test after updating WebdriverIO.\n"
     ]
    },
    {
     "name": "stdout",
     "output_type": "stream",
     "text": [
      "\u001b[1;30m[20:01:28] \u001b[0m \u001b[0;35mCOMMAND\t\u001b[0mPOST \t \"/wd/hub/session/d729d8d4e56c7082da83206b0b79d84f/keys\"\n",
      "\u001b[1;30m[20:01:28] \u001b[0m \u001b[0;35mCOMMAND\t\u001b[0mPOST \t \"/wd/hub/session/d729d8d4e56c7082da83206b0b79d84f/window\"\n",
      "\u001b[1;30m[20:01:28] \u001b[0m \u001b[0;35mCOMMAND\t\u001b[0mGET \t \"/wd/hub/session/d729d8d4e56c7082da83206b0b79d84f/url\"\n",
      "\u001b[1;30m[20:01:28] \u001b[0m \u001b[0;35mCOMMAND\t\u001b[0mPOST \t \"/wd/hub/session/d729d8d4e56c7082da83206b0b79d84f/execute\"\n",
      "\u001b[1;30m[20:01:29] \u001b[0m \u001b[0;35mCOMMAND\t\u001b[0mPOST \t \"/wd/hub/session/d729d8d4e56c7082da83206b0b79d84f/element\"\n",
      "\u001b[1;30m[20:01:29] \u001b[0m \u001b[0;35mCOMMAND\t\u001b[0mPOST \t \"/wd/hub/session/d729d8d4e56c7082da83206b0b79d84f/element/0.9541808250115895-2/click\"\n",
      "\u001b[1;30m[20:01:31] \u001b[0m \u001b[0;35mCOMMAND\t\u001b[0mGET \t \"/wd/hub/session/d729d8d4e56c7082da83206b0b79d84f/url\"\n",
      "\u001b[1;30m[20:01:32] \u001b[0m \u001b[0;35mCOMMAND\t\u001b[0mPOST \t \"/wd/hub/session/d729d8d4e56c7082da83206b0b79d84f/execute\"\n",
      "\u001b[1;30m[20:01:32] \u001b[0m \u001b[0;35mCOMMAND\t\u001b[0mPOST \t \"/wd/hub/session/d729d8d4e56c7082da83206b0b79d84f/execute\"\n",
      "\u001b[1;30m[20:01:32] \u001b[0m \u001b[0;35mCOMMAND\t\u001b[0mPOST \t \"/wd/hub/session/d729d8d4e56c7082da83206b0b79d84f/element/0.9541808250115895-3/click\"\n",
      "\u001b[1;30m[20:01:37] \u001b[0m \u001b[0;35mCOMMAND\t\u001b[0mPOST \t \"/wd/hub/session/d729d8d4e56c7082da83206b0b79d84f/elements\"\n",
      "\u001b[1;30m[20:01:37] \u001b[0m \u001b[0;35mCOMMAND\t\u001b[0mPOST \t \"/wd/hub/session/d729d8d4e56c7082da83206b0b79d84f/elements\"\n",
      "\u001b[1;30m[20:01:37] \u001b[0m \u001b[0;35mCOMMAND\t\u001b[0mGET \t \"/wd/hub/session/d729d8d4e56c7082da83206b0b79d84f/url\"\n",
      "\u001b[1;30m[20:01:37] \u001b[0m \u001b[0;35mCOMMAND\t\u001b[0mGET \t \"/wd/hub/session/d729d8d4e56c7082da83206b0b79d84f/element/0.7149984542005388-1/text\"\n",
      "\u001b[1;30m[20:01:37] \u001b[0m \u001b[0;35mCOMMAND\t\u001b[0mPOST \t \"/wd/hub/session/d729d8d4e56c7082da83206b0b79d84f/elements\"\n",
      "\u001b[1;30m[20:01:37] \u001b[0m \u001b[0;35mCOMMAND\t\u001b[0mGET \t \"/wd/hub/session/d729d8d4e56c7082da83206b0b79d84f/element/0.7149984542005388-2/text\"\n",
      "\u001b[1;30m[20:01:37] \u001b[0m \u001b[0;35mCOMMAND\t\u001b[0mGET \t \"/wd/hub/session/d729d8d4e56c7082da83206b0b79d84f/element/0.7149984542005388-3/text\"\n",
      "\u001b[1;30m[20:01:37] \u001b[0m \u001b[0;35mCOMMAND\t\u001b[0mGET \t \"/wd/hub/session/d729d8d4e56c7082da83206b0b79d84f/element/0.7149984542005388-4/text\"\n",
      "\u001b[1;30m[20:01:37] \u001b[0m \u001b[0;35mCOMMAND\t\u001b[0mGET \t \"/wd/hub/session/d729d8d4e56c7082da83206b0b79d84f/element/0.7149984542005388-5/text\"\n",
      "\u001b[1;30m[20:01:37] \u001b[0m \u001b[0;35mCOMMAND\t\u001b[0mPOST \t \"/wd/hub/session/d729d8d4e56c7082da83206b0b79d84f/url\"\n",
      "\u001b[1;30m[20:01:42] \u001b[0m \u001b[0;35mCOMMAND\t\u001b[0mPOST \t \"/wd/hub/session/d729d8d4e56c7082da83206b0b79d84f/execute\"\n",
      "\u001b[1;30m[20:01:42] \u001b[0m \u001b[0;35mCOMMAND\t\u001b[0mPOST \t \"/wd/hub/session/d729d8d4e56c7082da83206b0b79d84f/execute\"\n",
      "\u001b[1;30m[20:01:44] \u001b[0m \u001b[0;35mCOMMAND\t\u001b[0mPOST \t \"/wd/hub/session/d729d8d4e56c7082da83206b0b79d84f/execute\"\n",
      "[]\n",
      "\u001b[1;30m[20:01:44] \u001b[0m \u001b[0;35mCOMMAND\t\u001b[0mPOST \t \"/wd/hub/session/d729d8d4e56c7082da83206b0b79d84f/element\"\n",
      "\u001b[1;30m[20:01:44] \u001b[0m \u001b[0;35mCOMMAND\t\u001b[0mPOST \t \"/wd/hub/session/d729d8d4e56c7082da83206b0b79d84f/element/0.574305393529909-1/click\"\n"
     ]
    },
    {
     "name": "stderr",
     "output_type": "stream",
     "text": [
      "WARNING: the \"keys\" command will be depcrecated soon. Please use a different command in order to avoid failures in your test after updating WebdriverIO.\n"
     ]
    },
    {
     "name": "stdout",
     "output_type": "stream",
     "text": [
      "\u001b[1;30m[20:01:44] \u001b[0m \u001b[0;35mCOMMAND\t\u001b[0mPOST \t \"/wd/hub/session/d729d8d4e56c7082da83206b0b79d84f/keys\"\n"
     ]
    },
    {
     "name": "stderr",
     "output_type": "stream",
     "text": [
      "WARNING: the \"keys\" command will be depcrecated soon. Please use a different command in order to avoid failures in your test after updating WebdriverIO.\n"
     ]
    },
    {
     "name": "stdout",
     "output_type": "stream",
     "text": [
      "\u001b[1;30m[20:01:45] \u001b[0m \u001b[0;35mCOMMAND\t\u001b[0mPOST \t \"/wd/hub/session/d729d8d4e56c7082da83206b0b79d84f/keys\"\n"
     ]
    },
    {
     "name": "stderr",
     "output_type": "stream",
     "text": [
      "WARNING: the \"keys\" command will be depcrecated soon. Please use a different command in order to avoid failures in your test after updating WebdriverIO.\n"
     ]
    },
    {
     "name": "stdout",
     "output_type": "stream",
     "text": [
      "\u001b[1;30m[20:01:45] \u001b[0m \u001b[0;35mCOMMAND\t\u001b[0mPOST \t \"/wd/hub/session/d729d8d4e56c7082da83206b0b79d84f/keys\"\n",
      "\u001b[1;30m[20:01:45] \u001b[0m \u001b[0;35mCOMMAND\t\u001b[0mPOST \t \"/wd/hub/session/d729d8d4e56c7082da83206b0b79d84f/window\"\n",
      "\u001b[1;30m[20:01:45] \u001b[0m \u001b[0;35mCOMMAND\t\u001b[0mGET \t \"/wd/hub/session/d729d8d4e56c7082da83206b0b79d84f/url\"\n",
      "\u001b[1;30m[20:01:45] \u001b[0m \u001b[0;35mCOMMAND\t\u001b[0mPOST \t \"/wd/hub/session/d729d8d4e56c7082da83206b0b79d84f/execute\"\n",
      "\u001b[1;30m[20:01:45] \u001b[0m \u001b[0;35mCOMMAND\t\u001b[0mPOST \t \"/wd/hub/session/d729d8d4e56c7082da83206b0b79d84f/element\"\n",
      "\u001b[1;30m[20:01:46] \u001b[0m \u001b[0;35mCOMMAND\t\u001b[0mPOST \t \"/wd/hub/session/d729d8d4e56c7082da83206b0b79d84f/element/0.7665972432247623-2/click\"\n",
      "\u001b[1;30m[20:01:47] \u001b[0m \u001b[0;35mCOMMAND\t\u001b[0mGET \t \"/wd/hub/session/d729d8d4e56c7082da83206b0b79d84f/url\"\n",
      "\u001b[1;30m[20:01:48] \u001b[0m \u001b[0;35mCOMMAND\t\u001b[0mPOST \t \"/wd/hub/session/d729d8d4e56c7082da83206b0b79d84f/execute\"\n",
      "\u001b[1;30m[20:01:48] \u001b[0m \u001b[0;35mCOMMAND\t\u001b[0mPOST \t \"/wd/hub/session/d729d8d4e56c7082da83206b0b79d84f/execute\"\n",
      "\u001b[1;30m[20:01:48] \u001b[0m \u001b[0;35mCOMMAND\t\u001b[0mPOST \t \"/wd/hub/session/d729d8d4e56c7082da83206b0b79d84f/url\"\n",
      "\u001b[1;30m[20:01:53] \u001b[0m \u001b[0;35mCOMMAND\t\u001b[0mPOST \t \"/wd/hub/session/d729d8d4e56c7082da83206b0b79d84f/execute\"\n",
      "\u001b[1;30m[20:01:53] \u001b[0m \u001b[0;35mCOMMAND\t\u001b[0mPOST \t \"/wd/hub/session/d729d8d4e56c7082da83206b0b79d84f/execute\"\n",
      "\u001b[1;30m[20:01:55] \u001b[0m \u001b[0;35mCOMMAND\t\u001b[0mPOST \t \"/wd/hub/session/d729d8d4e56c7082da83206b0b79d84f/execute\"\n",
      "[]\n",
      "\u001b[1;30m[20:01:55] \u001b[0m \u001b[0;35mCOMMAND\t\u001b[0mPOST \t \"/wd/hub/session/d729d8d4e56c7082da83206b0b79d84f/element\"\n",
      "\u001b[1;30m[20:01:55] \u001b[0m \u001b[0;35mCOMMAND\t\u001b[0mPOST \t \"/wd/hub/session/d729d8d4e56c7082da83206b0b79d84f/element/0.46121470413204313-1/click\"\n"
     ]
    },
    {
     "name": "stderr",
     "output_type": "stream",
     "text": [
      "WARNING: the \"keys\" command will be depcrecated soon. Please use a different command in order to avoid failures in your test after updating WebdriverIO.\n"
     ]
    },
    {
     "name": "stdout",
     "output_type": "stream",
     "text": [
      "\u001b[1;30m[20:01:55] \u001b[0m \u001b[0;35mCOMMAND\t\u001b[0mPOST \t \"/wd/hub/session/d729d8d4e56c7082da83206b0b79d84f/keys\"\n"
     ]
    },
    {
     "name": "stderr",
     "output_type": "stream",
     "text": [
      "WARNING: the \"keys\" command will be depcrecated soon. Please use a different command in order to avoid failures in your test after updating WebdriverIO.\n"
     ]
    },
    {
     "name": "stdout",
     "output_type": "stream",
     "text": [
      "\u001b[1;30m[20:01:56] \u001b[0m \u001b[0;35mCOMMAND\t\u001b[0mPOST \t \"/wd/hub/session/d729d8d4e56c7082da83206b0b79d84f/keys\"\n"
     ]
    },
    {
     "name": "stderr",
     "output_type": "stream",
     "text": [
      "WARNING: the \"keys\" command will be depcrecated soon. Please use a different command in order to avoid failures in your test after updating WebdriverIO.\n"
     ]
    },
    {
     "name": "stdout",
     "output_type": "stream",
     "text": [
      "\u001b[1;30m[20:01:56] \u001b[0m \u001b[0;35mCOMMAND\t\u001b[0mPOST \t \"/wd/hub/session/d729d8d4e56c7082da83206b0b79d84f/keys\"\n",
      "\u001b[1;30m[20:01:56] \u001b[0m \u001b[0;35mCOMMAND\t\u001b[0mPOST \t \"/wd/hub/session/d729d8d4e56c7082da83206b0b79d84f/window\"\n",
      "\u001b[1;30m[20:01:56] \u001b[0m \u001b[0;35mCOMMAND\t\u001b[0mGET \t \"/wd/hub/session/d729d8d4e56c7082da83206b0b79d84f/url\"\n",
      "\u001b[1;30m[20:01:57] \u001b[0m \u001b[0;35mCOMMAND\t\u001b[0mPOST \t \"/wd/hub/session/d729d8d4e56c7082da83206b0b79d84f/execute\"\n",
      "\u001b[1;30m[20:01:57] \u001b[0m \u001b[0;35mCOMMAND\t\u001b[0mPOST \t \"/wd/hub/session/d729d8d4e56c7082da83206b0b79d84f/element\"\n",
      "\u001b[1;30m[20:01:57] \u001b[0m \u001b[0;35mCOMMAND\t\u001b[0mPOST \t \"/wd/hub/session/d729d8d4e56c7082da83206b0b79d84f/element/0.911894845985886-2/click\"\n",
      "\u001b[1;30m[20:01:59] \u001b[0m \u001b[0;35mCOMMAND\t\u001b[0mGET \t \"/wd/hub/session/d729d8d4e56c7082da83206b0b79d84f/url\"\n",
      "\u001b[1;30m[20:02:00] \u001b[0m \u001b[0;35mCOMMAND\t\u001b[0mPOST \t \"/wd/hub/session/d729d8d4e56c7082da83206b0b79d84f/execute\"\n",
      "\u001b[1;30m[20:02:00] \u001b[0m \u001b[0;35mCOMMAND\t\u001b[0mPOST \t \"/wd/hub/session/d729d8d4e56c7082da83206b0b79d84f/execute\"\n",
      "\u001b[1;30m[20:02:00] \u001b[0m \u001b[0;35mCOMMAND\t\u001b[0mPOST \t \"/wd/hub/session/d729d8d4e56c7082da83206b0b79d84f/url\"\n",
      "\u001b[1;30m[20:02:05] \u001b[0m \u001b[0;35mCOMMAND\t\u001b[0mPOST \t \"/wd/hub/session/d729d8d4e56c7082da83206b0b79d84f/execute\"\n",
      "\u001b[1;30m[20:02:05] \u001b[0m \u001b[0;35mCOMMAND\t\u001b[0mPOST \t \"/wd/hub/session/d729d8d4e56c7082da83206b0b79d84f/execute\"\n",
      "\u001b[1;30m[20:02:07] \u001b[0m \u001b[0;35mCOMMAND\t\u001b[0mPOST \t \"/wd/hub/session/d729d8d4e56c7082da83206b0b79d84f/execute\"\n",
      "[]\n",
      "\u001b[1;30m[20:02:07] \u001b[0m \u001b[0;35mCOMMAND\t\u001b[0mPOST \t \"/wd/hub/session/d729d8d4e56c7082da83206b0b79d84f/element\"\n",
      "\u001b[1;30m[20:02:07] \u001b[0m \u001b[0;35mCOMMAND\t\u001b[0mPOST \t \"/wd/hub/session/d729d8d4e56c7082da83206b0b79d84f/element/0.8164298423541323-1/click\"\n"
     ]
    },
    {
     "name": "stderr",
     "output_type": "stream",
     "text": [
      "WARNING: the \"keys\" command will be depcrecated soon. Please use a different command in order to avoid failures in your test after updating WebdriverIO.\n"
     ]
    },
    {
     "name": "stdout",
     "output_type": "stream",
     "text": [
      "\u001b[1;30m[20:02:07] \u001b[0m \u001b[0;35mCOMMAND\t\u001b[0mPOST \t \"/wd/hub/session/d729d8d4e56c7082da83206b0b79d84f/keys\"\n"
     ]
    },
    {
     "name": "stderr",
     "output_type": "stream",
     "text": [
      "WARNING: the \"keys\" command will be depcrecated soon. Please use a different command in order to avoid failures in your test after updating WebdriverIO.\n"
     ]
    },
    {
     "name": "stdout",
     "output_type": "stream",
     "text": [
      "\u001b[1;30m[20:02:08] \u001b[0m \u001b[0;35mCOMMAND\t\u001b[0mPOST \t \"/wd/hub/session/d729d8d4e56c7082da83206b0b79d84f/keys\"\n"
     ]
    },
    {
     "name": "stderr",
     "output_type": "stream",
     "text": [
      "WARNING: the \"keys\" command will be depcrecated soon. Please use a different command in order to avoid failures in your test after updating WebdriverIO.\n"
     ]
    },
    {
     "name": "stdout",
     "output_type": "stream",
     "text": [
      "\u001b[1;30m[20:02:08] \u001b[0m \u001b[0;35mCOMMAND\t\u001b[0mPOST \t \"/wd/hub/session/d729d8d4e56c7082da83206b0b79d84f/keys\"\n",
      "\u001b[1;30m[20:02:08] \u001b[0m \u001b[0;35mCOMMAND\t\u001b[0mPOST \t \"/wd/hub/session/d729d8d4e56c7082da83206b0b79d84f/window\"\n",
      "\u001b[1;30m[20:02:08] \u001b[0m \u001b[0;35mCOMMAND\t\u001b[0mGET \t \"/wd/hub/session/d729d8d4e56c7082da83206b0b79d84f/url\"\n",
      "\u001b[1;30m[20:02:08] \u001b[0m \u001b[0;35mCOMMAND\t\u001b[0mPOST \t \"/wd/hub/session/d729d8d4e56c7082da83206b0b79d84f/execute\"\n",
      "\u001b[1;30m[20:02:08] \u001b[0m \u001b[0;35mCOMMAND\t\u001b[0mPOST \t \"/wd/hub/session/d729d8d4e56c7082da83206b0b79d84f/element\"\n",
      "\u001b[1;30m[20:02:08] \u001b[0m \u001b[0;35mCOMMAND\t\u001b[0mPOST \t \"/wd/hub/session/d729d8d4e56c7082da83206b0b79d84f/element/0.574305393529909-2/click\"\n",
      "\u001b[1;30m[20:02:10] \u001b[0m \u001b[0;35mCOMMAND\t\u001b[0mGET \t \"/wd/hub/session/d729d8d4e56c7082da83206b0b79d84f/url\"\n",
      "\u001b[1;30m[20:02:11] \u001b[0m \u001b[0;35mCOMMAND\t\u001b[0mPOST \t \"/wd/hub/session/d729d8d4e56c7082da83206b0b79d84f/execute\"\n",
      "\u001b[1;30m[20:02:11] \u001b[0m \u001b[0;35mCOMMAND\t\u001b[0mPOST \t \"/wd/hub/session/d729d8d4e56c7082da83206b0b79d84f/execute\"\n",
      "\u001b[1;30m[20:02:11] \u001b[0m \u001b[0;35mCOMMAND\t\u001b[0mPOST \t \"/wd/hub/session/d729d8d4e56c7082da83206b0b79d84f/element/0.574305393529909-3/click\"\n",
      "\u001b[1;30m[20:02:16] \u001b[0m \u001b[0;35mCOMMAND\t\u001b[0mPOST \t \"/wd/hub/session/d729d8d4e56c7082da83206b0b79d84f/elements\"\n",
      "\u001b[1;30m[20:02:16] \u001b[0m \u001b[0;35mCOMMAND\t\u001b[0mPOST \t \"/wd/hub/session/d729d8d4e56c7082da83206b0b79d84f/elements\"\n",
      "\u001b[1;30m[20:02:16] \u001b[0m \u001b[0;35mCOMMAND\t\u001b[0mGET \t \"/wd/hub/session/d729d8d4e56c7082da83206b0b79d84f/url\"\n",
      "\u001b[1;30m[20:02:16] \u001b[0m \u001b[0;35mCOMMAND\t\u001b[0mGET \t \"/wd/hub/session/d729d8d4e56c7082da83206b0b79d84f/element/0.38098900569090466-1/text\"\n",
      "\u001b[1;30m[20:02:16] \u001b[0m \u001b[0;35mCOMMAND\t\u001b[0mPOST \t \"/wd/hub/session/d729d8d4e56c7082da83206b0b79d84f/elements\"\n",
      "\u001b[1;30m[20:02:16] \u001b[0m \u001b[0;35mCOMMAND\t\u001b[0mGET \t \"/wd/hub/session/d729d8d4e56c7082da83206b0b79d84f/element/0.38098900569090466-2/text\"\n",
      "\u001b[1;30m[20:02:16] \u001b[0m \u001b[0;35mCOMMAND\t\u001b[0mGET \t \"/wd/hub/session/d729d8d4e56c7082da83206b0b79d84f/element/0.38098900569090466-3/text\"\n",
      "\u001b[1;30m[20:02:16] \u001b[0m \u001b[0;35mCOMMAND\t\u001b[0mPOST \t \"/wd/hub/session/d729d8d4e56c7082da83206b0b79d84f/url\"\n",
      "\u001b[1;30m[20:02:21] \u001b[0m \u001b[0;35mCOMMAND\t\u001b[0mPOST \t \"/wd/hub/session/d729d8d4e56c7082da83206b0b79d84f/execute\"\n",
      "\u001b[1;30m[20:02:21] \u001b[0m \u001b[0;35mCOMMAND\t\u001b[0mPOST \t \"/wd/hub/session/d729d8d4e56c7082da83206b0b79d84f/execute\"\n",
      "\u001b[1;30m[20:02:23] \u001b[0m \u001b[0;35mCOMMAND\t\u001b[0mPOST \t \"/wd/hub/session/d729d8d4e56c7082da83206b0b79d84f/execute\"\n",
      "[]\n",
      "\u001b[1;30m[20:02:23] \u001b[0m \u001b[0;35mCOMMAND\t\u001b[0mPOST \t \"/wd/hub/session/d729d8d4e56c7082da83206b0b79d84f/element\"\n",
      "\u001b[1;30m[20:02:23] \u001b[0m \u001b[0;35mCOMMAND\t\u001b[0mPOST \t \"/wd/hub/session/d729d8d4e56c7082da83206b0b79d84f/element/0.22454401644962374-1/click\"\n"
     ]
    },
    {
     "name": "stderr",
     "output_type": "stream",
     "text": [
      "WARNING: the \"keys\" command will be depcrecated soon. Please use a different command in order to avoid failures in your test after updating WebdriverIO.\n"
     ]
    },
    {
     "name": "stdout",
     "output_type": "stream",
     "text": [
      "\u001b[1;30m[20:02:23] \u001b[0m \u001b[0;35mCOMMAND\t\u001b[0mPOST \t \"/wd/hub/session/d729d8d4e56c7082da83206b0b79d84f/keys\"\n"
     ]
    },
    {
     "name": "stderr",
     "output_type": "stream",
     "text": [
      "WARNING: the \"keys\" command will be depcrecated soon. Please use a different command in order to avoid failures in your test after updating WebdriverIO.\n"
     ]
    },
    {
     "name": "stdout",
     "output_type": "stream",
     "text": [
      "\u001b[1;30m[20:02:24] \u001b[0m \u001b[0;35mCOMMAND\t\u001b[0mPOST \t \"/wd/hub/session/d729d8d4e56c7082da83206b0b79d84f/keys\"\n"
     ]
    },
    {
     "name": "stderr",
     "output_type": "stream",
     "text": [
      "WARNING: the \"keys\" command will be depcrecated soon. Please use a different command in order to avoid failures in your test after updating WebdriverIO.\n"
     ]
    },
    {
     "name": "stdout",
     "output_type": "stream",
     "text": [
      "\u001b[1;30m[20:02:24] \u001b[0m \u001b[0;35mCOMMAND\t\u001b[0mPOST \t \"/wd/hub/session/d729d8d4e56c7082da83206b0b79d84f/keys\"\n",
      "\u001b[1;30m[20:02:24] \u001b[0m \u001b[0;35mCOMMAND\t\u001b[0mPOST \t \"/wd/hub/session/d729d8d4e56c7082da83206b0b79d84f/window\"\n",
      "\u001b[1;30m[20:02:24] \u001b[0m \u001b[0;35mCOMMAND\t\u001b[0mGET \t \"/wd/hub/session/d729d8d4e56c7082da83206b0b79d84f/url\"\n",
      "\u001b[1;30m[20:02:24] \u001b[0m \u001b[0;35mCOMMAND\t\u001b[0mPOST \t \"/wd/hub/session/d729d8d4e56c7082da83206b0b79d84f/execute\"\n",
      "\u001b[1;30m[20:02:24] \u001b[0m \u001b[0;35mCOMMAND\t\u001b[0mPOST \t \"/wd/hub/session/d729d8d4e56c7082da83206b0b79d84f/element\"\n",
      "\u001b[1;30m[20:02:25] \u001b[0m \u001b[0;35mCOMMAND\t\u001b[0mPOST \t \"/wd/hub/session/d729d8d4e56c7082da83206b0b79d84f/element/0.46121470413204313-2/click\"\n",
      "\u001b[1;30m[20:02:26] \u001b[0m \u001b[0;35mCOMMAND\t\u001b[0mGET \t \"/wd/hub/session/d729d8d4e56c7082da83206b0b79d84f/url\"\n",
      "\u001b[1;30m[20:02:27] \u001b[0m \u001b[0;35mCOMMAND\t\u001b[0mPOST \t \"/wd/hub/session/d729d8d4e56c7082da83206b0b79d84f/execute\"\n",
      "\u001b[1;30m[20:02:27] \u001b[0m \u001b[0;35mCOMMAND\t\u001b[0mPOST \t \"/wd/hub/session/d729d8d4e56c7082da83206b0b79d84f/execute\"\n",
      "\u001b[1;30m[20:02:27] \u001b[0m \u001b[0;35mCOMMAND\t\u001b[0mPOST \t \"/wd/hub/session/d729d8d4e56c7082da83206b0b79d84f/url\"\n",
      "\u001b[1;30m[20:02:32] \u001b[0m \u001b[0;35mCOMMAND\t\u001b[0mPOST \t \"/wd/hub/session/d729d8d4e56c7082da83206b0b79d84f/execute\"\n",
      "\u001b[1;30m[20:02:32] \u001b[0m \u001b[0;35mCOMMAND\t\u001b[0mPOST \t \"/wd/hub/session/d729d8d4e56c7082da83206b0b79d84f/execute\"\n",
      "\u001b[1;30m[20:02:34] \u001b[0m \u001b[0;35mCOMMAND\t\u001b[0mPOST \t \"/wd/hub/session/d729d8d4e56c7082da83206b0b79d84f/execute\"\n",
      "[]\n",
      "\u001b[1;30m[20:02:34] \u001b[0m \u001b[0;35mCOMMAND\t\u001b[0mPOST \t \"/wd/hub/session/d729d8d4e56c7082da83206b0b79d84f/element\"\n",
      "\u001b[1;30m[20:02:34] \u001b[0m \u001b[0;35mCOMMAND\t\u001b[0mPOST \t \"/wd/hub/session/d729d8d4e56c7082da83206b0b79d84f/element/0.8451352620726202-1/click\"\n"
     ]
    },
    {
     "name": "stderr",
     "output_type": "stream",
     "text": [
      "WARNING: the \"keys\" command will be depcrecated soon. Please use a different command in order to avoid failures in your test after updating WebdriverIO.\n"
     ]
    },
    {
     "name": "stdout",
     "output_type": "stream",
     "text": [
      "\u001b[1;30m[20:02:34] \u001b[0m \u001b[0;35mCOMMAND\t\u001b[0mPOST \t \"/wd/hub/session/d729d8d4e56c7082da83206b0b79d84f/keys\"\n"
     ]
    },
    {
     "name": "stderr",
     "output_type": "stream",
     "text": [
      "WARNING: the \"keys\" command will be depcrecated soon. Please use a different command in order to avoid failures in your test after updating WebdriverIO.\n"
     ]
    },
    {
     "name": "stdout",
     "output_type": "stream",
     "text": [
      "\u001b[1;30m[20:02:35] \u001b[0m \u001b[0;35mCOMMAND\t\u001b[0mPOST \t \"/wd/hub/session/d729d8d4e56c7082da83206b0b79d84f/keys\"\n"
     ]
    },
    {
     "name": "stderr",
     "output_type": "stream",
     "text": [
      "WARNING: the \"keys\" command will be depcrecated soon. Please use a different command in order to avoid failures in your test after updating WebdriverIO.\n"
     ]
    },
    {
     "name": "stdout",
     "output_type": "stream",
     "text": [
      "\u001b[1;30m[20:02:35] \u001b[0m \u001b[0;35mCOMMAND\t\u001b[0mPOST \t \"/wd/hub/session/d729d8d4e56c7082da83206b0b79d84f/keys\"\n",
      "\u001b[1;30m[20:02:35] \u001b[0m \u001b[0;35mCOMMAND\t\u001b[0mPOST \t \"/wd/hub/session/d729d8d4e56c7082da83206b0b79d84f/window\"\n",
      "\u001b[1;30m[20:02:35] \u001b[0m \u001b[0;35mCOMMAND\t\u001b[0mGET \t \"/wd/hub/session/d729d8d4e56c7082da83206b0b79d84f/url\"\n",
      "\u001b[1;30m[20:02:35] \u001b[0m \u001b[0;35mCOMMAND\t\u001b[0mPOST \t \"/wd/hub/session/d729d8d4e56c7082da83206b0b79d84f/execute\"\n",
      "\u001b[1;30m[20:02:35] \u001b[0m \u001b[0;35mCOMMAND\t\u001b[0mPOST \t \"/wd/hub/session/d729d8d4e56c7082da83206b0b79d84f/element\"\n",
      "\u001b[1;30m[20:02:36] \u001b[0m \u001b[0;35mCOMMAND\t\u001b[0mPOST \t \"/wd/hub/session/d729d8d4e56c7082da83206b0b79d84f/element/0.8164298423541323-2/click\"\n",
      "\u001b[1;30m[20:02:38] \u001b[0m \u001b[0;35mCOMMAND\t\u001b[0mGET \t \"/wd/hub/session/d729d8d4e56c7082da83206b0b79d84f/url\"\n",
      "\u001b[1;30m[20:02:39] \u001b[0m \u001b[0;35mCOMMAND\t\u001b[0mPOST \t \"/wd/hub/session/d729d8d4e56c7082da83206b0b79d84f/execute\"\n",
      "\u001b[1;30m[20:02:39] \u001b[0m \u001b[0;35mCOMMAND\t\u001b[0mPOST \t \"/wd/hub/session/d729d8d4e56c7082da83206b0b79d84f/execute\"\n",
      "\u001b[1;30m[20:02:39] \u001b[0m \u001b[0;35mCOMMAND\t\u001b[0mPOST \t \"/wd/hub/session/d729d8d4e56c7082da83206b0b79d84f/url\"\n",
      "\u001b[1;30m[20:02:44] \u001b[0m \u001b[0;35mCOMMAND\t\u001b[0mPOST \t \"/wd/hub/session/d729d8d4e56c7082da83206b0b79d84f/execute\"\n",
      "\u001b[1;30m[20:02:44] \u001b[0m \u001b[0;35mCOMMAND\t\u001b[0mPOST \t \"/wd/hub/session/d729d8d4e56c7082da83206b0b79d84f/execute\"\n",
      "\u001b[1;30m[20:02:46] \u001b[0m \u001b[0;35mCOMMAND\t\u001b[0mPOST \t \"/wd/hub/session/d729d8d4e56c7082da83206b0b79d84f/execute\"\n",
      "[]\n",
      "\u001b[1;30m[20:02:46] \u001b[0m \u001b[0;35mCOMMAND\t\u001b[0mPOST \t \"/wd/hub/session/d729d8d4e56c7082da83206b0b79d84f/element\"\n",
      "\u001b[1;30m[20:02:46] \u001b[0m \u001b[0;35mCOMMAND\t\u001b[0mPOST \t \"/wd/hub/session/d729d8d4e56c7082da83206b0b79d84f/element/0.07668019078248989-1/click\"\n"
     ]
    },
    {
     "name": "stderr",
     "output_type": "stream",
     "text": [
      "WARNING: the \"keys\" command will be depcrecated soon. Please use a different command in order to avoid failures in your test after updating WebdriverIO.\n"
     ]
    },
    {
     "name": "stdout",
     "output_type": "stream",
     "text": [
      "\u001b[1;30m[20:02:46] \u001b[0m \u001b[0;35mCOMMAND\t\u001b[0mPOST \t \"/wd/hub/session/d729d8d4e56c7082da83206b0b79d84f/keys\"\n"
     ]
    },
    {
     "name": "stderr",
     "output_type": "stream",
     "text": [
      "WARNING: the \"keys\" command will be depcrecated soon. Please use a different command in order to avoid failures in your test after updating WebdriverIO.\n"
     ]
    },
    {
     "name": "stdout",
     "output_type": "stream",
     "text": [
      "\u001b[1;30m[20:02:46] \u001b[0m \u001b[0;35mCOMMAND\t\u001b[0mPOST \t \"/wd/hub/session/d729d8d4e56c7082da83206b0b79d84f/keys\"\n"
     ]
    },
    {
     "name": "stderr",
     "output_type": "stream",
     "text": [
      "WARNING: the \"keys\" command will be depcrecated soon. Please use a different command in order to avoid failures in your test after updating WebdriverIO.\n"
     ]
    },
    {
     "name": "stdout",
     "output_type": "stream",
     "text": [
      "\u001b[1;30m[20:02:46] \u001b[0m \u001b[0;35mCOMMAND\t\u001b[0mPOST \t \"/wd/hub/session/d729d8d4e56c7082da83206b0b79d84f/keys\"\n",
      "\u001b[1;30m[20:02:46] \u001b[0m \u001b[0;35mCOMMAND\t\u001b[0mPOST \t \"/wd/hub/session/d729d8d4e56c7082da83206b0b79d84f/window\"\n",
      "\u001b[1;30m[20:02:46] \u001b[0m \u001b[0;35mCOMMAND\t\u001b[0mGET \t \"/wd/hub/session/d729d8d4e56c7082da83206b0b79d84f/url\"\n",
      "\u001b[1;30m[20:02:47] \u001b[0m \u001b[0;35mCOMMAND\t\u001b[0mPOST \t \"/wd/hub/session/d729d8d4e56c7082da83206b0b79d84f/execute\"\n",
      "\u001b[1;30m[20:02:47] \u001b[0m \u001b[0;35mCOMMAND\t\u001b[0mPOST \t \"/wd/hub/session/d729d8d4e56c7082da83206b0b79d84f/element\"\n",
      "\u001b[1;30m[20:02:47] \u001b[0m \u001b[0;35mCOMMAND\t\u001b[0mPOST \t \"/wd/hub/session/d729d8d4e56c7082da83206b0b79d84f/element/0.22454401644962374-2/click\"\n",
      "\u001b[1;30m[20:02:48] \u001b[0m \u001b[0;35mCOMMAND\t\u001b[0mGET \t \"/wd/hub/session/d729d8d4e56c7082da83206b0b79d84f/url\"\n",
      "\u001b[1;30m[20:02:49] \u001b[0m \u001b[0;35mCOMMAND\t\u001b[0mPOST \t \"/wd/hub/session/d729d8d4e56c7082da83206b0b79d84f/execute\"\n",
      "\u001b[1;30m[20:02:49] \u001b[0m \u001b[0;35mCOMMAND\t\u001b[0mPOST \t \"/wd/hub/session/d729d8d4e56c7082da83206b0b79d84f/execute\"\n",
      "\u001b[1;30m[20:02:49] \u001b[0m \u001b[0;35mCOMMAND\t\u001b[0mPOST \t \"/wd/hub/session/d729d8d4e56c7082da83206b0b79d84f/element/0.22454401644962374-3/click\"\n",
      "\u001b[1;30m[20:02:54] \u001b[0m \u001b[0;35mCOMMAND\t\u001b[0mPOST \t \"/wd/hub/session/d729d8d4e56c7082da83206b0b79d84f/elements\"\n",
      "\u001b[1;30m[20:02:54] \u001b[0m \u001b[0;35mCOMMAND\t\u001b[0mPOST \t \"/wd/hub/session/d729d8d4e56c7082da83206b0b79d84f/elements\"\n",
      "\u001b[1;30m[20:02:54] \u001b[0m \u001b[0;35mCOMMAND\t\u001b[0mGET \t \"/wd/hub/session/d729d8d4e56c7082da83206b0b79d84f/url\"\n",
      "\u001b[1;30m[20:02:54] \u001b[0m \u001b[0;35mCOMMAND\t\u001b[0mGET \t \"/wd/hub/session/d729d8d4e56c7082da83206b0b79d84f/element/0.07749105104261789-1/text\"\n",
      "\u001b[1;30m[20:02:54] \u001b[0m \u001b[0;35mCOMMAND\t\u001b[0mPOST \t \"/wd/hub/session/d729d8d4e56c7082da83206b0b79d84f/elements\"\n",
      "\u001b[1;30m[20:02:54] \u001b[0m \u001b[0;35mCOMMAND\t\u001b[0mGET \t \"/wd/hub/session/d729d8d4e56c7082da83206b0b79d84f/element/0.07749105104261789-2/text\"\n",
      "\u001b[1;30m[20:02:54] \u001b[0m \u001b[0;35mCOMMAND\t\u001b[0mGET \t \"/wd/hub/session/d729d8d4e56c7082da83206b0b79d84f/element/0.07749105104261789-3/text\"\n",
      "\u001b[1;30m[20:02:54] \u001b[0m \u001b[0;35mCOMMAND\t\u001b[0mPOST \t \"/wd/hub/session/d729d8d4e56c7082da83206b0b79d84f/url\"\n",
      "\u001b[1;30m[20:03:00] \u001b[0m \u001b[0;35mCOMMAND\t\u001b[0mPOST \t \"/wd/hub/session/d729d8d4e56c7082da83206b0b79d84f/execute\"\n",
      "\u001b[1;30m[20:03:00] \u001b[0m \u001b[0;35mCOMMAND\t\u001b[0mPOST \t \"/wd/hub/session/d729d8d4e56c7082da83206b0b79d84f/execute\"\n",
      "\u001b[1;30m[20:03:02] \u001b[0m \u001b[0;35mCOMMAND\t\u001b[0mPOST \t \"/wd/hub/session/d729d8d4e56c7082da83206b0b79d84f/execute\"\n",
      "[]\n",
      "\u001b[1;30m[20:03:02] \u001b[0m \u001b[0;35mCOMMAND\t\u001b[0mPOST \t \"/wd/hub/session/d729d8d4e56c7082da83206b0b79d84f/element\"\n",
      "\u001b[1;30m[20:03:02] \u001b[0m \u001b[0;35mCOMMAND\t\u001b[0mPOST \t \"/wd/hub/session/d729d8d4e56c7082da83206b0b79d84f/element/0.06845632803093715-1/click\"\n"
     ]
    },
    {
     "name": "stderr",
     "output_type": "stream",
     "text": [
      "WARNING: the \"keys\" command will be depcrecated soon. Please use a different command in order to avoid failures in your test after updating WebdriverIO.\n"
     ]
    },
    {
     "name": "stdout",
     "output_type": "stream",
     "text": [
      "\u001b[1;30m[20:03:02] \u001b[0m \u001b[0;35mCOMMAND\t\u001b[0mPOST \t \"/wd/hub/session/d729d8d4e56c7082da83206b0b79d84f/keys\"\n"
     ]
    },
    {
     "name": "stderr",
     "output_type": "stream",
     "text": [
      "WARNING: the \"keys\" command will be depcrecated soon. Please use a different command in order to avoid failures in your test after updating WebdriverIO.\n"
     ]
    },
    {
     "name": "stdout",
     "output_type": "stream",
     "text": [
      "\u001b[1;30m[20:03:02] \u001b[0m \u001b[0;35mCOMMAND\t\u001b[0mPOST \t \"/wd/hub/session/d729d8d4e56c7082da83206b0b79d84f/keys\"\n"
     ]
    },
    {
     "name": "stderr",
     "output_type": "stream",
     "text": [
      "WARNING: the \"keys\" command will be depcrecated soon. Please use a different command in order to avoid failures in your test after updating WebdriverIO.\n"
     ]
    },
    {
     "name": "stdout",
     "output_type": "stream",
     "text": [
      "\u001b[1;30m[20:03:02] \u001b[0m \u001b[0;35mCOMMAND\t\u001b[0mPOST \t \"/wd/hub/session/d729d8d4e56c7082da83206b0b79d84f/keys\"\n",
      "\u001b[1;30m[20:03:02] \u001b[0m \u001b[0;35mCOMMAND\t\u001b[0mPOST \t \"/wd/hub/session/d729d8d4e56c7082da83206b0b79d84f/window\"\n",
      "\u001b[1;30m[20:03:02] \u001b[0m \u001b[0;35mCOMMAND\t\u001b[0mGET \t \"/wd/hub/session/d729d8d4e56c7082da83206b0b79d84f/url\"\n",
      "\u001b[1;30m[20:03:03] \u001b[0m \u001b[0;35mCOMMAND\t\u001b[0mPOST \t \"/wd/hub/session/d729d8d4e56c7082da83206b0b79d84f/execute\"\n",
      "\u001b[1;30m[20:03:03] \u001b[0m \u001b[0;35mCOMMAND\t\u001b[0mPOST \t \"/wd/hub/session/d729d8d4e56c7082da83206b0b79d84f/element\"\n",
      "\u001b[1;30m[20:03:03] \u001b[0m \u001b[0;35mCOMMAND\t\u001b[0mPOST \t \"/wd/hub/session/d729d8d4e56c7082da83206b0b79d84f/element/0.8451352620726202-2/click\"\n",
      "\u001b[1;30m[20:03:04] \u001b[0m \u001b[0;35mCOMMAND\t\u001b[0mGET \t \"/wd/hub/session/d729d8d4e56c7082da83206b0b79d84f/url\"\n",
      "\u001b[1;30m[20:03:05] \u001b[0m \u001b[0;35mCOMMAND\t\u001b[0mPOST \t \"/wd/hub/session/d729d8d4e56c7082da83206b0b79d84f/execute\"\n",
      "\u001b[1;30m[20:03:05] \u001b[0m \u001b[0;35mCOMMAND\t\u001b[0mPOST \t \"/wd/hub/session/d729d8d4e56c7082da83206b0b79d84f/execute\"\n",
      "\u001b[1;30m[20:03:05] \u001b[0m \u001b[0;35mCOMMAND\t\u001b[0mPOST \t \"/wd/hub/session/d729d8d4e56c7082da83206b0b79d84f/url\"\n",
      "\u001b[1;30m[20:03:11] \u001b[0m \u001b[0;35mCOMMAND\t\u001b[0mPOST \t \"/wd/hub/session/d729d8d4e56c7082da83206b0b79d84f/execute\"\n",
      "\u001b[1;30m[20:03:11] \u001b[0m \u001b[0;35mCOMMAND\t\u001b[0mPOST \t \"/wd/hub/session/d729d8d4e56c7082da83206b0b79d84f/execute\"\n",
      "\u001b[1;30m[20:03:13] \u001b[0m \u001b[0;35mCOMMAND\t\u001b[0mPOST \t \"/wd/hub/session/d729d8d4e56c7082da83206b0b79d84f/execute\"\n",
      "[]\n",
      "\u001b[1;30m[20:03:13] \u001b[0m \u001b[0;35mCOMMAND\t\u001b[0mPOST \t \"/wd/hub/session/d729d8d4e56c7082da83206b0b79d84f/element\"\n",
      "\u001b[1;30m[20:03:13] \u001b[0m \u001b[0;35mCOMMAND\t\u001b[0mPOST \t \"/wd/hub/session/d729d8d4e56c7082da83206b0b79d84f/element/0.4023880193923277-1/click\"\n"
     ]
    },
    {
     "name": "stderr",
     "output_type": "stream",
     "text": [
      "WARNING: the \"keys\" command will be depcrecated soon. Please use a different command in order to avoid failures in your test after updating WebdriverIO.\n"
     ]
    },
    {
     "name": "stdout",
     "output_type": "stream",
     "text": [
      "\u001b[1;30m[20:03:13] \u001b[0m \u001b[0;35mCOMMAND\t\u001b[0mPOST \t \"/wd/hub/session/d729d8d4e56c7082da83206b0b79d84f/keys\"\n"
     ]
    },
    {
     "name": "stderr",
     "output_type": "stream",
     "text": [
      "WARNING: the \"keys\" command will be depcrecated soon. Please use a different command in order to avoid failures in your test after updating WebdriverIO.\n"
     ]
    },
    {
     "name": "stdout",
     "output_type": "stream",
     "text": [
      "\u001b[1;30m[20:03:13] \u001b[0m \u001b[0;35mCOMMAND\t\u001b[0mPOST \t \"/wd/hub/session/d729d8d4e56c7082da83206b0b79d84f/keys\"\n"
     ]
    },
    {
     "name": "stderr",
     "output_type": "stream",
     "text": [
      "WARNING: the \"keys\" command will be depcrecated soon. Please use a different command in order to avoid failures in your test after updating WebdriverIO.\n"
     ]
    },
    {
     "name": "stdout",
     "output_type": "stream",
     "text": [
      "\u001b[1;30m[20:03:13] \u001b[0m \u001b[0;35mCOMMAND\t\u001b[0mPOST \t \"/wd/hub/session/d729d8d4e56c7082da83206b0b79d84f/keys\"\n",
      "\u001b[1;30m[20:03:14] \u001b[0m \u001b[0;35mCOMMAND\t\u001b[0mPOST \t \"/wd/hub/session/d729d8d4e56c7082da83206b0b79d84f/window\"\n",
      "\u001b[1;30m[20:03:14] \u001b[0m \u001b[0;35mCOMMAND\t\u001b[0mGET \t \"/wd/hub/session/d729d8d4e56c7082da83206b0b79d84f/url\"\n",
      "\u001b[1;30m[20:03:14] \u001b[0m \u001b[0;35mCOMMAND\t\u001b[0mPOST \t \"/wd/hub/session/d729d8d4e56c7082da83206b0b79d84f/execute\"\n",
      "\u001b[1;30m[20:03:14] \u001b[0m \u001b[0;35mCOMMAND\t\u001b[0mPOST \t \"/wd/hub/session/d729d8d4e56c7082da83206b0b79d84f/element\"\n",
      "\u001b[1;30m[20:03:14] \u001b[0m \u001b[0;35mCOMMAND\t\u001b[0mPOST \t \"/wd/hub/session/d729d8d4e56c7082da83206b0b79d84f/element/0.07668019078248989-2/click\"\n",
      "\u001b[1;30m[20:03:16] \u001b[0m \u001b[0;35mCOMMAND\t\u001b[0mGET \t \"/wd/hub/session/d729d8d4e56c7082da83206b0b79d84f/url\"\n",
      "\u001b[1;30m[20:03:17] \u001b[0m \u001b[0;35mCOMMAND\t\u001b[0mPOST \t \"/wd/hub/session/d729d8d4e56c7082da83206b0b79d84f/execute\"\n",
      "\u001b[1;30m[20:03:17] \u001b[0m \u001b[0;35mCOMMAND\t\u001b[0mPOST \t \"/wd/hub/session/d729d8d4e56c7082da83206b0b79d84f/execute\"\n",
      "\u001b[1;30m[20:03:17] \u001b[0m \u001b[0;35mCOMMAND\t\u001b[0mPOST \t \"/wd/hub/session/d729d8d4e56c7082da83206b0b79d84f/url\"\n",
      "\u001b[1;30m[20:03:23] \u001b[0m \u001b[0;35mCOMMAND\t\u001b[0mPOST \t \"/wd/hub/session/d729d8d4e56c7082da83206b0b79d84f/execute\"\n",
      "\u001b[1;30m[20:03:23] \u001b[0m \u001b[0;35mCOMMAND\t\u001b[0mPOST \t \"/wd/hub/session/d729d8d4e56c7082da83206b0b79d84f/execute\"\n",
      "\u001b[1;30m[20:03:25] \u001b[0m \u001b[0;35mCOMMAND\t\u001b[0mPOST \t \"/wd/hub/session/d729d8d4e56c7082da83206b0b79d84f/execute\"\n",
      "[]\n",
      "\u001b[1;30m[20:03:25] \u001b[0m \u001b[0;35mCOMMAND\t\u001b[0mPOST \t \"/wd/hub/session/d729d8d4e56c7082da83206b0b79d84f/element\"\n",
      "\u001b[1;30m[20:03:25] \u001b[0m \u001b[0;35mCOMMAND\t\u001b[0mPOST \t \"/wd/hub/session/d729d8d4e56c7082da83206b0b79d84f/element/0.8570756300185998-1/click\"\n"
     ]
    },
    {
     "name": "stderr",
     "output_type": "stream",
     "text": [
      "WARNING: the \"keys\" command will be depcrecated soon. Please use a different command in order to avoid failures in your test after updating WebdriverIO.\n"
     ]
    },
    {
     "name": "stdout",
     "output_type": "stream",
     "text": [
      "\u001b[1;30m[20:03:25] \u001b[0m \u001b[0;35mCOMMAND\t\u001b[0mPOST \t \"/wd/hub/session/d729d8d4e56c7082da83206b0b79d84f/keys\"\n"
     ]
    },
    {
     "name": "stderr",
     "output_type": "stream",
     "text": [
      "WARNING: the \"keys\" command will be depcrecated soon. Please use a different command in order to avoid failures in your test after updating WebdriverIO.\n"
     ]
    },
    {
     "name": "stdout",
     "output_type": "stream",
     "text": [
      "\u001b[1;30m[20:03:26] \u001b[0m \u001b[0;35mCOMMAND\t\u001b[0mPOST \t \"/wd/hub/session/d729d8d4e56c7082da83206b0b79d84f/keys\"\n"
     ]
    },
    {
     "name": "stderr",
     "output_type": "stream",
     "text": [
      "WARNING: the \"keys\" command will be depcrecated soon. Please use a different command in order to avoid failures in your test after updating WebdriverIO.\n"
     ]
    },
    {
     "name": "stdout",
     "output_type": "stream",
     "text": [
      "\u001b[1;30m[20:03:26] \u001b[0m \u001b[0;35mCOMMAND\t\u001b[0mPOST \t \"/wd/hub/session/d729d8d4e56c7082da83206b0b79d84f/keys\"\n",
      "\u001b[1;30m[20:03:27] \u001b[0m \u001b[0;35mCOMMAND\t\u001b[0mPOST \t \"/wd/hub/session/d729d8d4e56c7082da83206b0b79d84f/window\"\n",
      "\u001b[1;30m[20:03:27] \u001b[0m \u001b[0;35mCOMMAND\t\u001b[0mGET \t \"/wd/hub/session/d729d8d4e56c7082da83206b0b79d84f/url\"\n",
      "\u001b[1;30m[20:03:27] \u001b[0m \u001b[0;35mCOMMAND\t\u001b[0mPOST \t \"/wd/hub/session/d729d8d4e56c7082da83206b0b79d84f/execute\"\n",
      "\u001b[1;30m[20:03:27] \u001b[0m \u001b[0;35mCOMMAND\t\u001b[0mPOST \t \"/wd/hub/session/d729d8d4e56c7082da83206b0b79d84f/element\"\n",
      "\u001b[1;30m[20:03:27] \u001b[0m \u001b[0;35mCOMMAND\t\u001b[0mPOST \t \"/wd/hub/session/d729d8d4e56c7082da83206b0b79d84f/element/0.06845632803093715-2/click\"\n",
      "\u001b[1;30m[20:03:29] \u001b[0m \u001b[0;35mCOMMAND\t\u001b[0mGET \t \"/wd/hub/session/d729d8d4e56c7082da83206b0b79d84f/url\"\n",
      "\u001b[1;30m[20:03:30] \u001b[0m \u001b[0;35mCOMMAND\t\u001b[0mPOST \t \"/wd/hub/session/d729d8d4e56c7082da83206b0b79d84f/execute\"\n",
      "\u001b[1;30m[20:03:30] \u001b[0m \u001b[0;35mCOMMAND\t\u001b[0mPOST \t \"/wd/hub/session/d729d8d4e56c7082da83206b0b79d84f/execute\"\n",
      "\u001b[1;30m[20:03:30] \u001b[0m \u001b[0;35mCOMMAND\t\u001b[0mPOST \t \"/wd/hub/session/d729d8d4e56c7082da83206b0b79d84f/url\"\n",
      "\u001b[1;30m[20:03:38] \u001b[0m \u001b[0;35mCOMMAND\t\u001b[0mPOST \t \"/wd/hub/session/d729d8d4e56c7082da83206b0b79d84f/execute\"\n",
      "\u001b[1;30m[20:03:38] \u001b[0m \u001b[0;35mCOMMAND\t\u001b[0mPOST \t \"/wd/hub/session/d729d8d4e56c7082da83206b0b79d84f/execute\"\n",
      "\u001b[1;30m[20:03:40] \u001b[0m \u001b[0;35mCOMMAND\t\u001b[0mPOST \t \"/wd/hub/session/d729d8d4e56c7082da83206b0b79d84f/execute\"\n",
      "[]\n",
      "\u001b[1;30m[20:03:40] \u001b[0m \u001b[0;35mCOMMAND\t\u001b[0mPOST \t \"/wd/hub/session/d729d8d4e56c7082da83206b0b79d84f/element\"\n",
      "\u001b[1;30m[20:03:40] \u001b[0m \u001b[0;35mCOMMAND\t\u001b[0mPOST \t \"/wd/hub/session/d729d8d4e56c7082da83206b0b79d84f/element/0.6681867917687481-1/click\"\n"
     ]
    },
    {
     "name": "stderr",
     "output_type": "stream",
     "text": [
      "WARNING: the \"keys\" command will be depcrecated soon. Please use a different command in order to avoid failures in your test after updating WebdriverIO.\n"
     ]
    },
    {
     "name": "stdout",
     "output_type": "stream",
     "text": [
      "\u001b[1;30m[20:03:40] \u001b[0m \u001b[0;35mCOMMAND\t\u001b[0mPOST \t \"/wd/hub/session/d729d8d4e56c7082da83206b0b79d84f/keys\"\n"
     ]
    },
    {
     "name": "stderr",
     "output_type": "stream",
     "text": [
      "WARNING: the \"keys\" command will be depcrecated soon. Please use a different command in order to avoid failures in your test after updating WebdriverIO.\n"
     ]
    },
    {
     "name": "stdout",
     "output_type": "stream",
     "text": [
      "\u001b[1;30m[20:03:41] \u001b[0m \u001b[0;35mCOMMAND\t\u001b[0mPOST \t \"/wd/hub/session/d729d8d4e56c7082da83206b0b79d84f/keys\"\n"
     ]
    },
    {
     "name": "stderr",
     "output_type": "stream",
     "text": [
      "WARNING: the \"keys\" command will be depcrecated soon. Please use a different command in order to avoid failures in your test after updating WebdriverIO.\n"
     ]
    },
    {
     "name": "stdout",
     "output_type": "stream",
     "text": [
      "\u001b[1;30m[20:03:41] \u001b[0m \u001b[0;35mCOMMAND\t\u001b[0mPOST \t \"/wd/hub/session/d729d8d4e56c7082da83206b0b79d84f/keys\"\n",
      "\u001b[1;30m[20:03:41] \u001b[0m \u001b[0;35mCOMMAND\t\u001b[0mPOST \t \"/wd/hub/session/d729d8d4e56c7082da83206b0b79d84f/window\"\n",
      "\u001b[1;30m[20:03:41] \u001b[0m \u001b[0;35mCOMMAND\t\u001b[0mGET \t \"/wd/hub/session/d729d8d4e56c7082da83206b0b79d84f/url\"\n",
      "\u001b[1;30m[20:03:41] \u001b[0m \u001b[0;35mCOMMAND\t\u001b[0mPOST \t \"/wd/hub/session/d729d8d4e56c7082da83206b0b79d84f/execute\"\n",
      "\u001b[1;30m[20:03:41] \u001b[0m \u001b[0;35mCOMMAND\t\u001b[0mPOST \t \"/wd/hub/session/d729d8d4e56c7082da83206b0b79d84f/element\"\n",
      "\u001b[1;30m[20:03:41] \u001b[0m \u001b[0;35mCOMMAND\t\u001b[0mPOST \t \"/wd/hub/session/d729d8d4e56c7082da83206b0b79d84f/element/0.4023880193923277-2/click\"\n",
      "\u001b[1;30m[20:03:43] \u001b[0m \u001b[0;35mCOMMAND\t\u001b[0mGET \t \"/wd/hub/session/d729d8d4e56c7082da83206b0b79d84f/url\"\n",
      "\u001b[1;30m[20:03:44] \u001b[0m \u001b[0;35mCOMMAND\t\u001b[0mPOST \t \"/wd/hub/session/d729d8d4e56c7082da83206b0b79d84f/execute\"\n",
      "\u001b[1;30m[20:03:44] \u001b[0m \u001b[0;35mCOMMAND\t\u001b[0mPOST \t \"/wd/hub/session/d729d8d4e56c7082da83206b0b79d84f/execute\"\n",
      "\u001b[1;30m[20:03:44] \u001b[0m \u001b[0;35mCOMMAND\t\u001b[0mPOST \t \"/wd/hub/session/d729d8d4e56c7082da83206b0b79d84f/url\"\n",
      "\u001b[1;30m[20:03:49] \u001b[0m \u001b[0;35mCOMMAND\t\u001b[0mPOST \t \"/wd/hub/session/d729d8d4e56c7082da83206b0b79d84f/execute\"\n",
      "\u001b[1;30m[20:03:49] \u001b[0m \u001b[0;35mCOMMAND\t\u001b[0mPOST \t \"/wd/hub/session/d729d8d4e56c7082da83206b0b79d84f/execute\"\n",
      "\u001b[1;30m[20:03:51] \u001b[0m \u001b[0;35mCOMMAND\t\u001b[0mPOST \t \"/wd/hub/session/d729d8d4e56c7082da83206b0b79d84f/execute\"\n",
      "[]\n",
      "\u001b[1;30m[20:03:51] \u001b[0m \u001b[0;35mCOMMAND\t\u001b[0mPOST \t \"/wd/hub/session/d729d8d4e56c7082da83206b0b79d84f/element\"\n",
      "\u001b[1;30m[20:03:51] \u001b[0m \u001b[0;35mCOMMAND\t\u001b[0mPOST \t \"/wd/hub/session/d729d8d4e56c7082da83206b0b79d84f/element/0.9805536311721563-1/click\"\n"
     ]
    },
    {
     "name": "stderr",
     "output_type": "stream",
     "text": [
      "WARNING: the \"keys\" command will be depcrecated soon. Please use a different command in order to avoid failures in your test after updating WebdriverIO.\n"
     ]
    },
    {
     "name": "stdout",
     "output_type": "stream",
     "text": [
      "\u001b[1;30m[20:03:51] \u001b[0m \u001b[0;35mCOMMAND\t\u001b[0mPOST \t \"/wd/hub/session/d729d8d4e56c7082da83206b0b79d84f/keys\"\n"
     ]
    },
    {
     "name": "stderr",
     "output_type": "stream",
     "text": [
      "WARNING: the \"keys\" command will be depcrecated soon. Please use a different command in order to avoid failures in your test after updating WebdriverIO.\n"
     ]
    },
    {
     "name": "stdout",
     "output_type": "stream",
     "text": [
      "\u001b[1;30m[20:03:52] \u001b[0m \u001b[0;35mCOMMAND\t\u001b[0mPOST \t \"/wd/hub/session/d729d8d4e56c7082da83206b0b79d84f/keys\"\n"
     ]
    },
    {
     "name": "stderr",
     "output_type": "stream",
     "text": [
      "WARNING: the \"keys\" command will be depcrecated soon. Please use a different command in order to avoid failures in your test after updating WebdriverIO.\n"
     ]
    },
    {
     "name": "stdout",
     "output_type": "stream",
     "text": [
      "\u001b[1;30m[20:03:52] \u001b[0m \u001b[0;35mCOMMAND\t\u001b[0mPOST \t \"/wd/hub/session/d729d8d4e56c7082da83206b0b79d84f/keys\"\n",
      "\u001b[1;30m[20:03:52] \u001b[0m \u001b[0;35mCOMMAND\t\u001b[0mPOST \t \"/wd/hub/session/d729d8d4e56c7082da83206b0b79d84f/window\"\n",
      "\u001b[1;30m[20:03:52] \u001b[0m \u001b[0;35mCOMMAND\t\u001b[0mGET \t \"/wd/hub/session/d729d8d4e56c7082da83206b0b79d84f/url\"\n",
      "\u001b[1;30m[20:03:53] \u001b[0m \u001b[0;35mCOMMAND\t\u001b[0mPOST \t \"/wd/hub/session/d729d8d4e56c7082da83206b0b79d84f/execute\"\n",
      "\u001b[1;30m[20:03:53] \u001b[0m \u001b[0;35mCOMMAND\t\u001b[0mPOST \t \"/wd/hub/session/d729d8d4e56c7082da83206b0b79d84f/element\"\n",
      "\u001b[1;30m[20:03:53] \u001b[0m \u001b[0;35mCOMMAND\t\u001b[0mPOST \t \"/wd/hub/session/d729d8d4e56c7082da83206b0b79d84f/element/0.8570756300185998-2/click\"\n",
      "\u001b[1;30m[20:03:54] \u001b[0m \u001b[0;35mCOMMAND\t\u001b[0mGET \t \"/wd/hub/session/d729d8d4e56c7082da83206b0b79d84f/url\"\n",
      "\u001b[1;30m[20:03:56] \u001b[0m \u001b[0;35mCOMMAND\t\u001b[0mPOST \t \"/wd/hub/session/d729d8d4e56c7082da83206b0b79d84f/execute\"\n",
      "\u001b[1;30m[20:03:56] \u001b[0m \u001b[0;35mCOMMAND\t\u001b[0mPOST \t \"/wd/hub/session/d729d8d4e56c7082da83206b0b79d84f/execute\"\n",
      "\u001b[1;30m[20:03:56] \u001b[0m \u001b[0;35mCOMMAND\t\u001b[0mPOST \t \"/wd/hub/session/d729d8d4e56c7082da83206b0b79d84f/url\"\n",
      "\u001b[1;30m[20:04:01] \u001b[0m \u001b[0;35mCOMMAND\t\u001b[0mPOST \t \"/wd/hub/session/d729d8d4e56c7082da83206b0b79d84f/execute\"\n",
      "\u001b[1;30m[20:04:01] \u001b[0m \u001b[0;35mCOMMAND\t\u001b[0mPOST \t \"/wd/hub/session/d729d8d4e56c7082da83206b0b79d84f/execute\"\n",
      "\u001b[1;30m[20:04:03] \u001b[0m \u001b[0;35mCOMMAND\t\u001b[0mPOST \t \"/wd/hub/session/d729d8d4e56c7082da83206b0b79d84f/execute\"\n",
      "[ { from: 'Brian',\n",
      "    message: 'Brian\\nLiving the dream?\\n',\n",
      "    time: 2017-10-31T17:07:00.000Z } ]\n",
      "\u001b[1;30m[20:04:03] \u001b[0m \u001b[0;35mCOMMAND\t\u001b[0mPOST \t \"/wd/hub/session/d729d8d4e56c7082da83206b0b79d84f/window\"\n",
      "\u001b[1;30m[20:04:03] \u001b[0m \u001b[0;35mCOMMAND\t\u001b[0mGET \t \"/wd/hub/session/d729d8d4e56c7082da83206b0b79d84f/url\"\n",
      "\u001b[1;30m[20:04:03] \u001b[0m \u001b[0;35mCOMMAND\t\u001b[0mPOST \t \"/wd/hub/session/d729d8d4e56c7082da83206b0b79d84f/execute\"\n",
      "\u001b[1;30m[20:04:03] \u001b[0m \u001b[0;35mCOMMAND\t\u001b[0mPOST \t \"/wd/hub/session/d729d8d4e56c7082da83206b0b79d84f/element\"\n",
      "\u001b[1;30m[20:04:03] \u001b[0m \u001b[0;35mCOMMAND\t\u001b[0mPOST \t \"/wd/hub/session/d729d8d4e56c7082da83206b0b79d84f/element/0.6681867917687481-2/click\"\n",
      "\u001b[1;30m[20:04:04] \u001b[0m \u001b[0;35mCOMMAND\t\u001b[0mGET \t \"/wd/hub/session/d729d8d4e56c7082da83206b0b79d84f/url\"\n",
      "\u001b[1;30m[20:04:05] \u001b[0m \u001b[0;35mCOMMAND\t\u001b[0mPOST \t \"/wd/hub/session/d729d8d4e56c7082da83206b0b79d84f/execute\"\n",
      "\u001b[1;30m[20:04:05] \u001b[0m \u001b[0;35mCOMMAND\t\u001b[0mPOST \t \"/wd/hub/session/d729d8d4e56c7082da83206b0b79d84f/execute\"\n",
      "\u001b[1;30m[20:04:05] \u001b[0m \u001b[0;35mCOMMAND\t\u001b[0mPOST \t \"/wd/hub/session/d729d8d4e56c7082da83206b0b79d84f/url\"\n",
      "\u001b[1;30m[20:04:11] \u001b[0m \u001b[0;35mCOMMAND\t\u001b[0mPOST \t \"/wd/hub/session/d729d8d4e56c7082da83206b0b79d84f/execute\"\n",
      "\u001b[1;30m[20:04:11] \u001b[0m \u001b[0;35mCOMMAND\t\u001b[0mPOST \t \"/wd/hub/session/d729d8d4e56c7082da83206b0b79d84f/execute\"\n",
      "\u001b[1;30m[20:04:13] \u001b[0m \u001b[0;35mCOMMAND\t\u001b[0mPOST \t \"/wd/hub/session/d729d8d4e56c7082da83206b0b79d84f/execute\"\n",
      "[]\n",
      "\u001b[1;30m[20:04:13] \u001b[0m \u001b[0;35mCOMMAND\t\u001b[0mPOST \t \"/wd/hub/session/d729d8d4e56c7082da83206b0b79d84f/element\"\n",
      "\u001b[1;30m[20:04:13] \u001b[0m \u001b[0;35mCOMMAND\t\u001b[0mPOST \t \"/wd/hub/session/d729d8d4e56c7082da83206b0b79d84f/element/0.736979953561776-1/click\"\n"
     ]
    },
    {
     "name": "stderr",
     "output_type": "stream",
     "text": [
      "WARNING: the \"keys\" command will be depcrecated soon. Please use a different command in order to avoid failures in your test after updating WebdriverIO.\n"
     ]
    },
    {
     "name": "stdout",
     "output_type": "stream",
     "text": [
      "\u001b[1;30m[20:04:13] \u001b[0m \u001b[0;35mCOMMAND\t\u001b[0mPOST \t \"/wd/hub/session/d729d8d4e56c7082da83206b0b79d84f/keys\"\n"
     ]
    },
    {
     "name": "stderr",
     "output_type": "stream",
     "text": [
      "WARNING: the \"keys\" command will be depcrecated soon. Please use a different command in order to avoid failures in your test after updating WebdriverIO.\n"
     ]
    },
    {
     "name": "stdout",
     "output_type": "stream",
     "text": [
      "\u001b[1;30m[20:04:13] \u001b[0m \u001b[0;35mCOMMAND\t\u001b[0mPOST \t \"/wd/hub/session/d729d8d4e56c7082da83206b0b79d84f/keys\"\n"
     ]
    },
    {
     "name": "stderr",
     "output_type": "stream",
     "text": [
      "WARNING: the \"keys\" command will be depcrecated soon. Please use a different command in order to avoid failures in your test after updating WebdriverIO.\n"
     ]
    },
    {
     "name": "stdout",
     "output_type": "stream",
     "text": [
      "\u001b[1;30m[20:04:13] \u001b[0m \u001b[0;35mCOMMAND\t\u001b[0mPOST \t \"/wd/hub/session/d729d8d4e56c7082da83206b0b79d84f/keys\"\n",
      "\u001b[1;30m[20:04:14] \u001b[0m \u001b[0;35mCOMMAND\t\u001b[0mPOST \t \"/wd/hub/session/d729d8d4e56c7082da83206b0b79d84f/window\"\n",
      "\u001b[1;30m[20:04:14] \u001b[0m \u001b[0;35mCOMMAND\t\u001b[0mGET \t \"/wd/hub/session/d729d8d4e56c7082da83206b0b79d84f/url\"\n",
      "\u001b[1;30m[20:04:14] \u001b[0m \u001b[0;35mCOMMAND\t\u001b[0mPOST \t \"/wd/hub/session/d729d8d4e56c7082da83206b0b79d84f/execute\"\n",
      "\u001b[1;30m[20:04:14] \u001b[0m \u001b[0;35mCOMMAND\t\u001b[0mPOST \t \"/wd/hub/session/d729d8d4e56c7082da83206b0b79d84f/element\"\n",
      "\u001b[1;30m[20:04:14] \u001b[0m \u001b[0;35mCOMMAND\t\u001b[0mPOST \t \"/wd/hub/session/d729d8d4e56c7082da83206b0b79d84f/element/0.9805536311721563-2/click\"\n",
      "\u001b[1;30m[20:04:15] \u001b[0m \u001b[0;35mCOMMAND\t\u001b[0mGET \t \"/wd/hub/session/d729d8d4e56c7082da83206b0b79d84f/url\"\n",
      "\u001b[1;30m[20:04:16] \u001b[0m \u001b[0;35mCOMMAND\t\u001b[0mPOST \t \"/wd/hub/session/d729d8d4e56c7082da83206b0b79d84f/execute\"\n",
      "\u001b[1;30m[20:04:16] \u001b[0m \u001b[0;35mCOMMAND\t\u001b[0mPOST \t \"/wd/hub/session/d729d8d4e56c7082da83206b0b79d84f/execute\"\n",
      "\u001b[1;30m[20:04:16] \u001b[0m \u001b[0;35mCOMMAND\t\u001b[0mPOST \t \"/wd/hub/session/d729d8d4e56c7082da83206b0b79d84f/url\"\n",
      "\u001b[1;30m[20:04:22] \u001b[0m \u001b[0;35mCOMMAND\t\u001b[0mPOST \t \"/wd/hub/session/d729d8d4e56c7082da83206b0b79d84f/execute\"\n",
      "\u001b[1;30m[20:04:22] \u001b[0m \u001b[0;35mCOMMAND\t\u001b[0mPOST \t \"/wd/hub/session/d729d8d4e56c7082da83206b0b79d84f/execute\"\n",
      "\u001b[1;30m[20:04:24] \u001b[0m \u001b[0;35mCOMMAND\t\u001b[0mPOST \t \"/wd/hub/session/d729d8d4e56c7082da83206b0b79d84f/execute\"\n",
      "[]\n",
      "\u001b[1;30m[20:04:24] \u001b[0m \u001b[0;35mCOMMAND\t\u001b[0mPOST \t \"/wd/hub/session/d729d8d4e56c7082da83206b0b79d84f/element\"\n",
      "\u001b[1;30m[20:04:24] \u001b[0m \u001b[0;35mCOMMAND\t\u001b[0mPOST \t \"/wd/hub/session/d729d8d4e56c7082da83206b0b79d84f/element/0.4167288986939208-1/click\"\n"
     ]
    },
    {
     "name": "stderr",
     "output_type": "stream",
     "text": [
      "WARNING: the \"keys\" command will be depcrecated soon. Please use a different command in order to avoid failures in your test after updating WebdriverIO.\n"
     ]
    },
    {
     "name": "stdout",
     "output_type": "stream",
     "text": [
      "\u001b[1;30m[20:04:24] \u001b[0m \u001b[0;35mCOMMAND\t\u001b[0mPOST \t \"/wd/hub/session/d729d8d4e56c7082da83206b0b79d84f/keys\"\n"
     ]
    },
    {
     "name": "stderr",
     "output_type": "stream",
     "text": [
      "WARNING: the \"keys\" command will be depcrecated soon. Please use a different command in order to avoid failures in your test after updating WebdriverIO.\n"
     ]
    },
    {
     "name": "stdout",
     "output_type": "stream",
     "text": [
      "\u001b[1;30m[20:04:24] \u001b[0m \u001b[0;35mCOMMAND\t\u001b[0mPOST \t \"/wd/hub/session/d729d8d4e56c7082da83206b0b79d84f/keys\"\n"
     ]
    },
    {
     "name": "stderr",
     "output_type": "stream",
     "text": [
      "WARNING: the \"keys\" command will be depcrecated soon. Please use a different command in order to avoid failures in your test after updating WebdriverIO.\n"
     ]
    },
    {
     "name": "stdout",
     "output_type": "stream",
     "text": [
      "\u001b[1;30m[20:04:24] \u001b[0m \u001b[0;35mCOMMAND\t\u001b[0mPOST \t \"/wd/hub/session/d729d8d4e56c7082da83206b0b79d84f/keys\"\n",
      "\u001b[1;30m[20:04:24] \u001b[0m \u001b[0;35mCOMMAND\t\u001b[0mPOST \t \"/wd/hub/session/d729d8d4e56c7082da83206b0b79d84f/window\"\n",
      "\u001b[1;30m[20:04:25] \u001b[0m \u001b[0;35mCOMMAND\t\u001b[0mGET \t \"/wd/hub/session/d729d8d4e56c7082da83206b0b79d84f/url\"\n",
      "\u001b[1;30m[20:04:25] \u001b[0m \u001b[0;35mCOMMAND\t\u001b[0mPOST \t \"/wd/hub/session/d729d8d4e56c7082da83206b0b79d84f/execute\"\n",
      "\u001b[1;30m[20:04:25] \u001b[0m \u001b[0;35mCOMMAND\t\u001b[0mPOST \t \"/wd/hub/session/d729d8d4e56c7082da83206b0b79d84f/element\"\n",
      "{ Error: An element could not be located on the page using the given search parameters.\n",
      "    at element(\"a[href*=\"undefined\"]\") - click.js:12:17\n",
      "    at pause(1000) - utilities.ipynb[3]:21:10\n",
      "    at click(\"a[href*=\"undefined\"]\") - utilities.ipynb[3]:20:10\n",
      "    at execute(<Function>, ) - utilities.ipynb[3]:7:15\n",
      "    at url() - getUrl.js:30:28\n",
      "    at getUrl() - utilities.ipynb[3]:3:10\n",
      "    at clickSpa() - orchestration.ipynb[7]:4:10\n",
      "  type: 'NoSuchElement',\n",
      "  message: 'An element could not be located on the page using the given search parameters.' }\n",
      "Error: TypeError: Cannot read property 'replace' of undefined\n",
      "    at Object.exec (/Users/briancullinan/jupytangular2/node_modules/webdriverio/build/lib/helpers/safeExecute.js:33:25)\n",
      "    at Object.resolve (/Users/briancullinan/jupytangular2/node_modules/webdriverio/build/lib/webdriverio.js:189:29)\n",
      "    at /Users/briancullinan/jupytangular2/node_modules/webdriverio/build/lib/webdriverio.js:538:32\n",
      "    at _fulfilled (/Users/briancullinan/jupytangular2/node_modules/q/q.js:854:54)\n",
      "    at self.promiseDispatch.done (/Users/briancullinan/jupytangular2/node_modules/q/q.js:883:30)\n",
      "    at Promise.promise.promiseDispatch (/Users/briancullinan/jupytangular2/node_modules/q/q.js:816:13)\n",
      "    at /Users/briancullinan/jupytangular2/node_modules/q/q.js:624:44\n",
      "    at runSingle (/Users/briancullinan/jupytangular2/node_modules/q/q.js:137:13)\n",
      "    at flush (/Users/briancullinan/jupytangular2/node_modules/q/q.js:125:13)\n",
      "    at _combinedTickCallback (internal/process/next_tick.js:131:7)\n",
      "\u001b[1;30m[20:04:26] \u001b[0m \u001b[0;35mCOMMAND\t\u001b[0mPOST \t \"/wd/hub/session/d729d8d4e56c7082da83206b0b79d84f/window\"\n",
      "\u001b[1;30m[20:04:26] \u001b[0m \u001b[0;35mCOMMAND\t\u001b[0mGET \t \"/wd/hub/session/d729d8d4e56c7082da83206b0b79d84f/url\"\n",
      "\u001b[1;30m[20:04:26] \u001b[0m \u001b[0;35mCOMMAND\t\u001b[0mPOST \t \"/wd/hub/session/d729d8d4e56c7082da83206b0b79d84f/execute\"\n",
      "\u001b[1;30m[20:04:26] \u001b[0m \u001b[0;35mCOMMAND\t\u001b[0mPOST \t \"/wd/hub/session/d729d8d4e56c7082da83206b0b79d84f/element\"\n",
      "{ Error: An element could not be located on the page using the given search parameters.\n",
      "    at element(\"a[href*=\"undefined\"]\") - click.js:12:17\n",
      "    at pause(1000) - utilities.ipynb[3]:21:10\n",
      "    at click(\"a[href*=\"undefined\"]\") - utilities.ipynb[3]:20:10\n",
      "    at execute(<Function>, ) - utilities.ipynb[3]:7:15\n",
      "    at url() - getUrl.js:30:28\n",
      "    at getUrl() - utilities.ipynb[3]:3:10\n",
      "    at clickSpa() - orchestration.ipynb[7]:4:10\n",
      "  type: 'NoSuchElement',\n",
      "  message: 'An element could not be located on the page using the given search parameters.' }\n",
      "Error: TypeError: Cannot read property 'replace' of undefined\n",
      "    at Object.exec (/Users/briancullinan/jupytangular2/node_modules/webdriverio/build/lib/helpers/safeExecute.js:33:25)\n",
      "    at Object.resolve (/Users/briancullinan/jupytangular2/node_modules/webdriverio/build/lib/webdriverio.js:189:29)\n",
      "    at /Users/briancullinan/jupytangular2/node_modules/webdriverio/build/lib/webdriverio.js:538:32\n",
      "    at _fulfilled (/Users/briancullinan/jupytangular2/node_modules/q/q.js:854:54)\n",
      "    at self.promiseDispatch.done (/Users/briancullinan/jupytangular2/node_modules/q/q.js:883:30)\n",
      "    at Promise.promise.promiseDispatch (/Users/briancullinan/jupytangular2/node_modules/q/q.js:816:13)\n",
      "    at /Users/briancullinan/jupytangular2/node_modules/q/q.js:624:44\n",
      "    at runSingle (/Users/briancullinan/jupytangular2/node_modules/q/q.js:137:13)\n",
      "    at flush (/Users/briancullinan/jupytangular2/node_modules/q/q.js:125:13)\n",
      "    at _combinedTickCallback (internal/process/next_tick.js:131:7)\n"
     ]
    },
    {
     "data": {
      "text/plain": [
       "[ undefined,\n",
       "  undefined,\n",
       "  undefined,\n",
       "  undefined,\n",
       "  undefined,\n",
       "  undefined,\n",
       "  undefined,\n",
       "  undefined,\n",
       "  undefined,\n",
       "  undefined,\n",
       "  undefined,\n",
       "  undefined,\n",
       "  undefined,\n",
       "  undefined,\n",
       "  undefined,\n",
       "  undefined,\n",
       "  undefined,\n",
       "  undefined,\n",
       "  undefined,\n",
       "  undefined,\n",
       "  undefined,\n",
       "  undefined,\n",
       "  undefined,\n",
       "  undefined,\n",
       "  undefined,\n",
       "  undefined,\n",
       "  undefined,\n",
       "  undefined,\n",
       "  undefined,\n",
       "  undefined,\n",
       "  undefined,\n",
       "  undefined,\n",
       "  undefined,\n",
       "  undefined,\n",
       "  undefined,\n",
       "  undefined,\n",
       "  undefined,\n",
       "  undefined,\n",
       "  undefined,\n",
       "  undefined,\n",
       "  undefined,\n",
       "  undefined,\n",
       "  undefined,\n",
       "  undefined,\n",
       "  undefined,\n",
       "  undefined,\n",
       "  undefined,\n",
       "  undefined,\n",
       "  undefined,\n",
       "  undefined,\n",
       "  undefined,\n",
       "  undefined,\n",
       "  undefined,\n",
       "  undefined,\n",
       "  undefined,\n",
       "  undefined,\n",
       "  undefined,\n",
       "  undefined,\n",
       "  undefined,\n",
       "  undefined,\n",
       "  undefined,\n",
       "  undefined,\n",
       "  undefined,\n",
       "  undefined,\n",
       "  undefined,\n",
       "  undefined,\n",
       "  undefined,\n",
       "  undefined,\n",
       "  undefined,\n",
       "  undefined,\n",
       "  undefined,\n",
       "  undefined,\n",
       "  undefined,\n",
       "  undefined,\n",
       "  undefined,\n",
       "  undefined,\n",
       "  undefined,\n",
       "  undefined,\n",
       "  undefined,\n",
       "  undefined,\n",
       "  undefined,\n",
       "  undefined,\n",
       "  undefined,\n",
       "  undefined,\n",
       "  undefined,\n",
       "  undefined,\n",
       "  undefined,\n",
       "  undefined,\n",
       "  undefined,\n",
       "  undefined,\n",
       "  undefined,\n",
       "  undefined,\n",
       "  undefined,\n",
       "  undefined,\n",
       "  undefined,\n",
       "  undefined,\n",
       "  undefined,\n",
       "  undefined,\n",
       "  undefined,\n",
       "  undefined,\n",
       "  ... 2 more items ]"
      ]
     },
     "execution_count": 1,
     "metadata": {},
     "output_type": "execute_result"
    }
   ],
   "source": [
    "var importer = require('../Core');\n",
    "var runSeleniumCell = importer.import('selenium cell');\n",
    "\n",
    "var friends = [\n",
    "    'https://www.facebook.com/messages/t/patti.caudill',\n",
    "    'https://www.facebook.com/messages/t/andrei.darie.5',\n",
    "    'https://www.facebook.com/messages/t/setha.vanderhoof',\n",
    "    /*\n",
    "    'https://www.facebook.com/messages/t/Lloydster4',\n",
    "    'https://www.facebook.com/messages/t/jessegill',\n",
    "    'https://www.facebook.com/messages/t/lisa.potter.7140',\n",
    "    'https://www.facebook.com/messages/t/StevenLockhart123',\n",
    "    'https://www.facebook.com/messages/t/lidia.ws.7',\n",
    "    'https://www.facebook.com/messages/t/corinne.cullinan',\n",
    "    'https://www.facebook.com/messages/t/andreas.stylianou.98',\n",
    "    'https://www.facebook.com/messages/t/robert.holweger',\n",
    "    'https://www.facebook.com/messages/t/tintin.katy512',\n",
    "    'https://www.facebook.com/messages/t/greg.maserati.7',\n",
    "    'https://www.facebook.com/messages/t/scott.johnson.31149359',\n",
    "    'https://www.facebook.com/messages/t/railhunk',\n",
    "    'https://www.facebook.com/messages/t/jeff.coffman.92',\n",
    "    'https://www.facebook.com/messages/t/robert.holweger',\n",
    "    'https://www.facebook.com/messages/t/100015169534875',\n",
    "    'https://www.facebook.com/messages/t/chase.mcvey.9',\n",
    "    'https://www.facebook.com/messages/t/ryan.raub',\n",
    "    'https://www.facebook.com/messages/t/brian.harris.01',\n",
    "    'https://www.facebook.com/messages/t/borikoni',\n",
    "    'https://www.facebook.com/messages/t/tim.bangert.3',\n",
    "    'https://www.facebook.com/messages/t/jsims730',\n",
    "    'https://www.facebook.com/messages/t/Ryan-A-Stoffko-1784292651894577',\n",
    "    'https://www.facebook.com/messages/t/sonu.karve.94',\n",
    "    'https://www.facebook.com/messages/t/jason.hornack',\n",
    "    'https://www.facebook.com/messages/t/BumpyJonson',\n",
    "    'https://www.facebook.com/messages/t/frank.vitale01',\n",
    "    'https://www.facebook.com/messages/t/jeff.kalina.79',\n",
    "    'https://www.facebook.com/messages/t/demi.s.jiang',\n",
    "    'https://www.facebook.com/messages/t/stephen.baier',\n",
    "    'https://www.facebook.com/messages/t/mietusmm',\n",
    "    'https://www.facebook.com/messages/t/chris.huie.14',\n",
    "    'https://www.facebook.com/messages/t/vitali.kaush',\n",
    "    'https://www.facebook.com/messages/t/FJoeAZ',\n",
    "    'https://www.facebook.com/messages/t/SusanAgresta',\n",
    "    'https://www.facebook.com/messages/t/andrew.s.mcvey.3',\n",
    "    'https://www.facebook.com/messages/t/faulkner.shane',\n",
    "    'https://www.facebook.com/messages/t/100013570236133',\n",
    "    'https://www.facebook.com/messages/t/ryan.stoffko',\n",
    "    'https://www.facebook.com/messages/t/6212130467169267713',\n",
    "    'https://www.facebook.com/messages/t/joanna.street24',\n",
    "    'https://www.facebook.com/messages/t/stephanie.desertgirl',\n",
    "    'https://www.facebook.com/messages/t/vladimir.zuzukin',\n",
    "    'https://www.facebook.com/messages/t/ScientificMaster.Me',\n",
    "    'https://www.facebook.com/messages/t/maungkyarphyuu',\n",
    "    'https://www.facebook.com/messages/t/maciejc',\n",
    "    'https://www.facebook.com/messages/t/travis.hudson.507',\n",
    "    'https://www.facebook.com/messages/t/ryan.raub',\n",
    "    'https://www.facebook.com/messages/t/jennifer.reaves.58',\n",
    "    'https://www.facebook.com/messages/t/jeff.kalina.79',\n",
    "    'https://www.facebook.com/messages/t/talbert.tso',\n",
    "    'https://www.facebook.com/messages/t/greg.maserati.7',\n",
    "    'https://www.facebook.com/messages/t/katya.geissler',\n",
    "    'https://www.facebook.com/messages/t/100008264283932',\n",
    "    'https://www.facebook.com/messages/t/frederick.murphy.56',\n",
    "    'https://www.facebook.com/messages/t/april.knapp.13',\n",
    "    'https://www.facebook.com/messages/t/carisa.knight6000',\n",
    "    'https://www.facebook.com/messages/t/Jakebot12',\n",
    "    'https://www.facebook.com/messages/t/nathaniel.ellingson.3',\n",
    "    'https://www.facebook.com/messages/t/4dumbdogs',\n",
    "    'https://www.facebook.com/messages/t/marv.thornsberry',\n",
    "    'https://www.facebook.com/messages/t/benjamin.maynard.9',\n",
    "    'https://www.facebook.com/messages/t/enzo.armetta',\n",
    "    'https://www.facebook.com/messages/t/MCChopper',\n",
    "    'https://www.facebook.com/messages/t/suzi.abramsonjohnson',\n",
    "    'https://www.facebook.com/messages/t/chris.paschall.37',\n",
    "    'https://www.facebook.com/messages/t/tynababbit15',\n",
    "    'https://www.facebook.com/messages/t/colleen.k.cullinan',\n",
    "    'https://www.facebook.com/messages/t/ivana.vilotic.7',\n",
    "    'https://www.facebook.com/messages/t/mark.camacho.50',\n",
    "    'https://www.facebook.com/messages/t/fellchase2.0',\n",
    "    'https://www.facebook.com/messages/t/mietusmm',\n",
    "    'https://www.facebook.com/messages/t/lemcvey',\n",
    "    'https://www.facebook.com/messages/t/100010177366596',\n",
    "    'https://www.facebook.com/messages/t/julie.davis.792',\n",
    "    'https://www.facebook.com/messages/t/tblondi',\n",
    "    'https://www.facebook.com/messages/t/JesusAndTheAngels',\n",
    "    'https://www.facebook.com/messages/t/callie.m.cullinan',\n",
    "    'https://www.facebook.com/messages/t/Valorie.PONY.Teter',\n",
    "    'https://www.facebook.com/messages/t/RogerRohweder',\n",
    "    'https://www.facebook.com/messages/t/caudill.619',\n",
    "    'https://www.facebook.com/messages/t/1623650947',\n",
    "    'https://www.facebook.com/messages/t/cindy.huelskampjudy',\n",
    "    'https://www.facebook.com/messages/t/100015169534875',\n",
    "    'https://www.facebook.com/messages/t/brian.daviesjones.3',\n",
    "    'https://www.facebook.com/messages/t/100005972775784',\n",
    "    'https://www.facebook.com/messages/t/diane.weaver.948',\n",
    "    'https://www.facebook.com/messages/t/jason.hornack',\n",
    "    'https://www.facebook.com/messages/t/chase.mcvey.9',\n",
    "    'https://www.facebook.com/messages/t/100006728686581',\n",
    "    'https://www.facebook.com/messages/t/100013570236133',\n",
    "    'https://www.facebook.com/messages/t/6212130467169267713',\n",
    "    'https://www.facebook.com/messages/t/tim.bangert.3',\n",
    "    'https://www.facebook.com/messages/t/katie.hiro',\n",
    "    'https://www.facebook.com/messages/t/armando.moreno.90',\n",
    "    'https://www.facebook.com/messages/t/john.kaniecki.3',\n",
    "    'https://www.facebook.com/messages/t/chris.cullinan.792',\n",
    "    'https://www.facebook.com/messages/t/ryan.stoffko',\n",
    "    'https://www.facebook.com/messages/t/joanna.street24',\n",
    "    'https://www.facebook.com/messages/t/stephanie.desertgirl',\n",
    "    'https://www.facebook.com/messages/t/rohwedernt',\n",
    "    'https://www.facebook.com/messages/t/david.earl.smith',\n",
    "    'https://www.facebook.com/messages/t/lemcvey',\n",
    "    'https://www.facebook.com/messages/t/teresa.cvach',\n",
    "    'https://www.facebook.com/messages/t/firealwaysworks',\n",
    "    'https://www.facebook.com/messages/t/crystaldgraziano',\n",
    "    'https://www.facebook.com/messages/t/faulkner.shane',\n",
    "    'https://www.facebook.com/messages/t/colleen.k.cullinan',\n",
    "    'https://www.facebook.com/messages/t/lemcvey',\n",
    "    'https://www.facebook.com/messages/t/james.cullinan.315',\n",
    "    'https://www.facebook.com/messages/t/jaimeneufer',\n",
    "    'https://www.facebook.com/messages/t/nathaniel.ellingson.3',\n",
    "    'https://www.facebook.com/messages/t/aneesh.karve',\n",
    "    'https://www.facebook.com/messages/t/robert.chandler',\n",
    "    'https://www.facebook.com/messages/t/robert.holweger',\n",
    "    'https://www.facebook.com/messages/t/keifer.street',\n",
    "    'https://www.facebook.com/messages/t/mynameisjane',\n",
    "    'https://www.facebook.com/messages/t/ragunr',\n",
    "    'https://www.facebook.com/messages/t/johan.larson.56',\n",
    "    'https://www.facebook.com/messages/t/abe.pralle',\n",
    "    'https://www.facebook.com/messages/t/crystaldgraziano',\n",
    "    'https://www.facebook.com/messages/t/wolfdieter.otte',\n",
    "    'https://www.facebook.com/messages/t/talbert.tso',\n",
    "    'https://www.facebook.com/messages/t/abe.anwary',\n",
    "    'https://www.facebook.com/messages/t/devin.west2',\n",
    "    'https://www.facebook.com/messages/t/eurostar88',\n",
    "    */\n",
    "];\n",
    "\n",
    "var tileWindows, jokes, windows, sendFacebookMessage, sendFacebookThanks;\n",
    "\n",
    "function tellJokes() {\n",
    "    // get multiple sets of 9 working for single page scraping in parallel\n",
    "    return runSeleniumCell([\n",
    "        'tile chrome windows',\n",
    "        'log in facebook',\n",
    "        'send facebook message',\n",
    "        'send a joke',\n",
    "        'list facebook threads',\n",
    "        'scrape facebook profile',\n",
    "        'messages from facebook',\n",
    "        'send facebook thanks',\n",
    "    ])\n",
    "        .then(r => {\n",
    "            tileWindows = r.tileWindows;\n",
    "            sendFacebookMessage = r.sendFacebookMessage;\n",
    "            sendJoke = r.sendJoke;\n",
    "            listFacebookThreads = r.listFacebookThreads;\n",
    "            sendFacebookThanks = r.sendFacebookThanks;\n",
    "            return r.loginFacebook()\n",
    "        })\n",
    "        .then(() => listFacebookThreads())\n",
    "        .then(r => {\n",
    "            friends = r.slice(0, 100);\n",
    "            console.log(friends);\n",
    "        })\n",
    "        .then(() => tileWindows(friends.slice(0, 3)))\n",
    "        .then(windows => {\n",
    "            var promises = [];\n",
    "            for(var i = 0; i < Math.ceil(friends.length / windows.length); i++) {\n",
    "                promises = promises.concat((i => windows.map((hwnd, j) => resolve => {\n",
    "                    return sendFacebookThanks(friends[i * windows.length + j], hwnd).then(() => resolve());\n",
    "                }))(i));\n",
    "            }\n",
    "            return importer.runAllPromises(promises);\n",
    "        })\n",
    "        .catch(e => console.log(e))\n",
    "}\n",
    "\n",
    "$$.async();\n",
    "tellJokes()\n",
    "    .then(r => $$.sendResult(r))\n",
    "    .catch(e => $$.sendError(e))\n"
   ]
  },
  {
   "cell_type": "markdown",
   "metadata": {},
   "source": [
    "clean up old selenium sessions?"
   ]
  },
  {
   "cell_type": "code",
   "execution_count": null,
   "metadata": {},
   "outputs": [],
   "source": [
    "var importer = require('../Core');\n",
    "var execCmd = importer.import('spawn child process');\n",
    "var runSeleniumCell = importer.import('selenium cell');\n",
    "var createWebdriverClient = importer.import('webdriver client');\n",
    "\n",
    "var regexToArray = (ex, str, i = 0) => {\n",
    "    var co = []; var m; while ((m = ex.exec(str)) && co.push(m[i])); return co;\n",
    "};\n",
    "\n",
    "var client, sessions;\n",
    "function cleanUpSessions() {\n",
    "    return execCmd('docker logs act-selenium')\n",
    "        .then(r => regexToArray(/\\/session\\/(.+?)\\//ig, r.join('\\n'), 1))\n",
    "        .then(r => sessions = r.filter((s, i, arr) => arr.indexOf(s) === i))\n",
    "        .then(() => client = createWebdriverClient())\n",
    "        .then(() => {\n",
    "            return importer.runAllPromises(sessions.map(session => (resolve) => {\n",
    "                client.requestHandler.sessionID = session;\n",
    "                client\n",
    "                    .windowHandle()\n",
    "                    .then(r => client.window(r.value))\n",
    "                    .session()\n",
    "                    .end()\n",
    "                    .then(s => resolve(s.sessionId))\n",
    "                    .catch(e => resolve())\n",
    "            }))\n",
    "        })\n",
    "}\n",
    "module.exports = cleanUpSessions;\n"
   ]
  },
  {
   "cell_type": "code",
   "execution_count": null,
   "metadata": {},
   "outputs": [],
   "source": [
    "$$.async()\n",
    "cleanUpSessions();"
   ]
  },
  {
   "cell_type": "code",
   "execution_count": null,
   "metadata": {},
   "outputs": [],
   "source": []
  }
 ],
 "metadata": {
  "kernelspec": {
   "display_name": "Javascript (Node.js)",
   "language": "javascript",
   "name": "javascript"
  },
  "language_info": {
   "file_extension": ".js",
   "mimetype": "application/javascript",
   "name": "javascript",
   "version": "8.6.0"
  }
 },
 "nbformat": 4,
 "nbformat_minor": 2
}
