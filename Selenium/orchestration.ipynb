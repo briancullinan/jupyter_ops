{
 "cells": [
  {
   "cell_type": "markdown",
   "metadata": {},
   "source": [
    "resize selenium window?"
   ]
  },
  {
   "cell_type": "code",
   "execution_count": null,
   "metadata": {},
   "outputs": [],
   "source": [
    "\n",
    "var rows = 6;\n",
    "var columns = 6;\n",
    "var screen = {\n",
    "    height: 1024 * 6,\n",
    "    width: 1350 * 6\n",
    "};\n",
    "\n",
    "function getScreenSize() {\n",
    "    return client\n",
    "        .windowHandle()\n",
    "        .then(r => client.windowHandleMaximize(r.value))\n",
    "        .catch(e => {})\n",
    "        .windowHandleSize()\n",
    "        .then(r => (screen = r.value))\n",
    "        .catch(e => console.log(e))\n",
    "}\n",
    "\n",
    "function resizeWindow(i = 0) {\n",
    "    i = Math.abs(i + (typeof OFFSET !== 'undefined' ? OFFSET : 0));\n",
    "    var hwnd;\n",
    "    return client\n",
    "        .windowHandle()\n",
    "        .then(r => client.window((hwnd = r.value)))\n",
    "        .then(() => typeof screen === 'undefined' ? getScreenSize() : screen)\n",
    "        .catch(e => console.log(e))\n",
    "        .then(screen => {\n",
    "            const newPosition = {\n",
    "                x: Math.floor(i % columns)\n",
    "                    * Math.floor(screen.width / columns),\n",
    "                y: Math.floor(i / columns % rows)\n",
    "                    * Math.floor(screen.height / rows)\n",
    "            };\n",
    "            console.log(newPosition);\n",
    "            return client.windowHandlePosition(hwnd, newPosition)\n",
    "        })\n",
    "        .catch(e => console.log(e))\n",
    "        .then(() => client.windowHandleSize(hwnd, {\n",
    "            width: Math.floor(screen.width / columns),\n",
    "            height: Math.floor(screen.height / rows)\n",
    "        }))\n",
    "        .catch(e => console.log(e))\n",
    "}\n",
    "\n",
    "if(typeof client.resizeWindow === 'undefined') {\n",
    "    client.addCommand('resizeWindow', resizeWindow);\n",
    "}\n",
    "module.exports = resizeWindow;\n"
   ]
  },
  {
   "cell_type": "markdown",
   "metadata": {},
   "source": [
    "only one window?\n",
    "\n"
   ]
  },
  {
   "cell_type": "code",
   "execution_count": null,
   "metadata": {},
   "outputs": [],
   "source": [
    "var importer = require('../Core');\n",
    "\n",
    "function closeAllTabs(keep) {\n",
    "    return client\n",
    "        .getTabIds()\n",
    "        .then(h => {\n",
    "            var promises = [];\n",
    "            for(var i = 0; i < h.length; i++) {\n",
    "                if(h[i] === keep) {\n",
    "                    continue;\n",
    "                }\n",
    "                promises.push((i => resolve => client\n",
    "                              .switchTab(h[i])\n",
    "                              .close()\n",
    "                              .then(() => resolve())\n",
    "                              .catch(e => resolve()))\n",
    "                              .apply(this, [i]));\n",
    "            }\n",
    "            return importer.runAllPromises(promises);\n",
    "        })\n",
    "        .catch(e => console.log(e))\n",
    "}\n",
    "\n",
    "function closeAllWindows(keep) {\n",
    "    return client\n",
    "        .windowHandles()\n",
    "        .then(h => {\n",
    "            var promises = [];\n",
    "            for(var i = 0; i < h.value.length; i++) {\n",
    "                if(h.value[i] === keep) {\n",
    "                    continue;\n",
    "                }\n",
    "                promises.push((i => resolve => client\n",
    "                              .window(h.value[i])\n",
    "                              .close()\n",
    "                              .then(() => resolve())\n",
    "                              .catch(e => resolve()))\n",
    "                              .apply(this, [i]));\n",
    "            }\n",
    "            return importer.runAllPromises(promises);\n",
    "        })\n",
    "        .window(keep)\n",
    "        .catch(e => console.log(e))\n",
    "}\n",
    "\n",
    "function onlyOneWindow() {\n",
    "    return client\n",
    "        .newWindow('https://google.com')\n",
    "        .windowHandle()\n",
    "        .then(r => closeAllWindows(r.value))\n",
    "        .getCurrentTabId()\n",
    "        .then(r => closeAllTabs(r))\n",
    "        .catch(e => console.log(e))\n",
    "    // TODO: close all tabs\n",
    "}\n",
    "\n",
    "module.exports = onlyOneWindow;\n",
    "\n"
   ]
  },
  {
   "cell_type": "markdown",
   "metadata": {},
   "source": [
    "tile selenium chrome windows?\n",
    "\n"
   ]
  },
  {
   "cell_type": "code",
   "execution_count": null,
   "metadata": {},
   "outputs": [],
   "source": [
    "var importer = require('../Core');\n",
    "var {getAllSessionUrls} = importer.import(['resize selenium window', 'get all session urls'], {client})\n",
    "\n",
    "function openUrl(url) {\n",
    "    var handles;\n",
    "    return client\n",
    "        .windowHandles()\n",
    "        .then(h => handles = h.value)\n",
    "        .execute((url, width, height) => {\n",
    "            window.open(url, '', 'width=1350,height=1024');\n",
    "        }, url)\n",
    "        .windowHandles()\n",
    "        .then(h => h.value.filter(hwnd => handles.indexOf(hwnd) === -1)[0])\n",
    "        .catch(e => console.log(e))\n",
    "}\n",
    "\n",
    "function createNewWindows(urls) {\n",
    "    var hwnd;\n",
    "    return client\n",
    "        .windowHandle()\n",
    "        .then(r => hwnd = r.value)\n",
    "        .windowHandles()\n",
    "        .then(r => {\n",
    "            // -1 first window is already used by sliced url\n",
    "            const count = urls.length - (r.value.length - 1);\n",
    "            const promises = [];\n",
    "            for(var i = 0; i < count; i++) {\n",
    "                promises.push((i => resolve => {\n",
    "                    console.log(urls[i]);\n",
    "                    return openUrl(urls[i])\n",
    "                        .window(hwnd)\n",
    "                        .then(h => resolve(h))\n",
    "                        .catch(e => { console.log(e); resolve() })\n",
    "                }).apply(this, [i]));\n",
    "            }\n",
    "            return importer.runAllPromises(promises);\n",
    "        })\n",
    "        .catch(e => console.log(e))\n",
    "}\n",
    "\n",
    "function tileWindows(urls) {\n",
    "    return client\n",
    "        .resizeWindow(0)\n",
    "        .url(typeof urls === 'string' ? urls : urls[0])\n",
    "        .then(h => typeof urls === 'string' ? [] : createNewWindows(urls.slice(1)))\n",
    "        .then(() => getAllSessionUrls())\n",
    "        .windowHandles()\n",
    "        .catch(e => console.log(e))\n",
    "}\n",
    "module.exports = tileWindows;\n",
    "\n"
   ]
  },
  {
   "cell_type": "code",
   "execution_count": null,
   "metadata": {},
   "outputs": [],
   "source": [
    "var importer = require('../Core');\n",
    "var runSeleniumCell = importer.import('selenium cell');\n",
    "\n",
    "var query = 'list of search engines';\n",
    "\n",
    "$$.async();\n",
    "// get multiple sets of 9 working for single page scraping in parallel\n",
    "runSeleniumCell('tile chrome windows')\n",
    "    .then(tileWindows => tileWindows([\n",
    "        'https://www.google.com/search?q=' + query,\n",
    "        'https://www.bing.com/search?q=' + query,\n",
    "        'https://search.yahoo.com/search?p=' + query,\n",
    "        'https://www.ask.com/web?q=' + query,\n",
    "        'https://search.aol.com/aol/search?q=' + query,\n",
    "        'https://www.baidu.com/s?wd=' + query,\n",
    "        'https://www.wolframalpha.com/input/?i=' + query,\n",
    "        'https://duckduckgo.com/?q=' + query,\n",
    "        'https://archive.org/search.php?query=' + query,\n",
    "    ]))\n",
    "    .then(r => $$.sendResult(r))\n",
    "    .catch(e => $$.sendError(e))\n",
    "\n"
   ]
  },
  {
   "cell_type": "markdown",
   "metadata": {},
   "source": [
    "get all session and window urls?\n",
    "\n"
   ]
  },
  {
   "cell_type": "code",
   "execution_count": null,
   "metadata": {},
   "outputs": [],
   "source": [
    "var importer = require('../Core');\n",
    "\n",
    "function getAllSessionUrls(reposition = true) {\n",
    "    var windowCounter = -1;\n",
    "    var session = client.requestHandler.sessionID;\n",
    "    return client\n",
    "        .getActiveSessions()\n",
    "        .then(r => {\n",
    "            console.log(r);\n",
    "            return importer.runAllPromises(r.map(s => resolve => {\n",
    "                client.requestHandler.sessionID = s;\n",
    "                return client\n",
    "                    .getUrl()\n",
    "                    .windowHandles()\n",
    "                    .then(h => importer.runAllPromises(h.value.map(hwnd => resolve => {\n",
    "                        windowCounter++\n",
    "                        return client\n",
    "                            .window(hwnd)\n",
    "                            .then(() => reposition ? resizeWindow(windowCounter) : [])\n",
    "                            .getUrl()\n",
    "                            .then(r => resolve(r))\n",
    "                            .catch(e => console.log(e))\n",
    "                    })))\n",
    "                    .then(r => resolve(r))\n",
    "                    .catch(e => console.log(e))\n",
    "            }))\n",
    "        })\n",
    "        .then(r => {\n",
    "            client.requestHandler.sessionID = session;\n",
    "            return r;\n",
    "        })\n",
    "        .catch(e => console.log(e))\n",
    "}\n",
    "\n",
    "module.exports = getAllSessionUrls;\n"
   ]
  },
  {
   "cell_type": "code",
   "execution_count": null,
   "metadata": {},
   "outputs": [],
   "source": [
    "var importer = require('../Core');\n",
    "var runSeleniumCell = importer.import('selenium cell');\n",
    "\n",
    "$$.async();\n",
    "runSeleniumCell(['resize selenium window', 'get all session urls'], false)\n",
    "    .then(r => r.getAllSessionUrls(false))\n",
    "    .then(r => $$.sendResult(r))\n",
    "    .catch(e => $$.sendError(e))\n"
   ]
  },
  {
   "cell_type": "markdown",
   "metadata": {},
   "source": [
    "send a joke?"
   ]
  },
  {
   "cell_type": "code",
   "execution_count": 12,
   "metadata": {},
   "outputs": [
    {
     "data": {
      "text/plain": [
       "[Function: sendJoke]"
      ]
     },
     "execution_count": 12,
     "metadata": {},
     "output_type": "execute_result"
    }
   ],
   "source": [
    "var util = require('util');\n",
    "var request = util.promisify(require('request'));\n",
    "\n",
    "function regexToArray(ex, str, i = 0) {\n",
    "    var co = []; var m;\n",
    "    while ((m = ex.exec(str)) && co.push(m[i]));\n",
    "    return co;\n",
    "}\n",
    "\n",
    "var jokes;\n",
    "function getJoke() {\n",
    "    return (typeof jokes === 'undefined'\n",
    "        ? request('http://www.ducksters.com/jokes/silly.php')\n",
    "        .then(res => regexToArray(/^.*?Q:.*$|^.*?A:.*$/igm, res.body))\n",
    "        .then(r => {\n",
    "            r = r.reduce((arr, j, i) => {\n",
    "                if(i % 2 === 1) {\n",
    "                    arr.push([\n",
    "                        r[i-1].replace(/<.*?\\s*\\/?>/ig, '').trim().replace(/^\\s*|\\s*$/igm, ''),\n",
    "                        j.replace(/<.*?\\s*\\/?>/ig, '').trim().replace(/^\\s*|\\s*$/igm, '')\n",
    "                    ]);\n",
    "                }\n",
    "                return arr;\n",
    "            }, []);\n",
    "            console.log(r);\n",
    "            jokes = r;\n",
    "            return r;\n",
    "        })\n",
    "        : Promise.resolve(jokes))\n",
    "        .then(arr => {\n",
    "            const i = Math.round(Math.random() * arr.length);\n",
    "            return arr[i];\n",
    "        })\n",
    "}\n",
    "\n",
    "function sendJoke(hwnd) {\n",
    "    var joke;\n",
    "    return client\n",
    "        .then(() => getJoke())\n",
    "        .then(r => joke = r)\n",
    "        .window(hwnd)\n",
    "        .then(() => sendFacebookMessage(joke[0]))\n",
    "        .pause(20000)\n",
    "        .then(() => sendFacebookMessage(joke[1]))\n",
    "}\n",
    "module.exports = sendJoke;\n"
   ]
  },
  {
   "cell_type": "markdown",
   "metadata": {},
   "source": [
    "Monitor many chats at once and continuously\n"
   ]
  },
  {
   "cell_type": "code",
   "execution_count": 2,
   "metadata": {},
   "outputs": [
    {
     "name": "stdout",
     "output_type": "stream",
     "text": [
      "Initializing webdriver on localhost\n",
      "[ 1510696908054, 'efc69a42acc1247d96fc1660cbab1e9c' ]\n",
      "\u001b[1;30m[16:00:49] \u001b[0m \u001b[0;35mCOMMAND\t\u001b[0mGET \t \"/wd/hub/session/efc69a42acc1247d96fc1660cbab1e9c/window_handle\"\n",
      "[ 1510696908062, '4396240da06751c50b39cf112ed569c2' ]\n",
      "\u001b[1;30m[16:00:49] \u001b[0m \u001b[0;35mCOMMAND\t\u001b[0mGET \t \"/wd/hub/session/4396240da06751c50b39cf112ed569c2/window_handle\"\n",
      "[ 1510696908066, '70c1f1e880ec2a185efa345e90b57b8f' ]\n",
      "\u001b[1;30m[16:00:49] \u001b[0m \u001b[0;35mCOMMAND\t\u001b[0mGET \t \"/wd/hub/session/70c1f1e880ec2a185efa345e90b57b8f/window_handle\"\n",
      "[ 1510696908071, '35b322dbfef60abc8536a98c271158fd' ]\n",
      "\u001b[1;30m[16:00:49] \u001b[0m \u001b[0;35mCOMMAND\t\u001b[0mGET \t \"/wd/hub/session/35b322dbfef60abc8536a98c271158fd/window_handle\"\n",
      "[ 1510696908076, 'bf7964e07ecc330968d1bbf9c9334693' ]\n",
      "\u001b[1;30m[16:00:49] \u001b[0m \u001b[0;35mCOMMAND\t\u001b[0mGET \t \"/wd/hub/session/bf7964e07ecc330968d1bbf9c9334693/window_handle\"\n",
      "[ 1510696908099, '912f5052a3261443593104ddea3f0274' ]\n",
      "\u001b[1;30m[16:00:49] \u001b[0m \u001b[0;35mCOMMAND\t\u001b[0mGET \t \"/wd/hub/session/912f5052a3261443593104ddea3f0274/window_handle\"\n",
      "\u001b[1;30m[16:00:49] \u001b[0m \u001b[0;35mCOMMAND\t\u001b[0mPOST \t \"/wd/hub/session/912f5052a3261443593104ddea3f0274/window\"\n",
      "\u001b[1;30m[16:00:49] \u001b[0m \u001b[0;35mCOMMAND\t\u001b[0mGET \t \"/wd/hub/session/912f5052a3261443593104ddea3f0274\"\n",
      "[ 1510698968686, 'd6908b01aae49b8769aa19fc7e5e498c' ]\n",
      "\u001b[1;30m[16:00:49] \u001b[0m \u001b[0;35mCOMMAND\t\u001b[0mGET \t \"/wd/hub/session/d6908b01aae49b8769aa19fc7e5e498c/window_handle\"\n",
      "\u001b[1;30m[16:00:49] \u001b[0m \u001b[0;35mCOMMAND\t\u001b[0mPOST \t \"/wd/hub/session/d6908b01aae49b8769aa19fc7e5e498c/window\"\n",
      "\u001b[1;30m[16:00:49] \u001b[0m \u001b[0;35mCOMMAND\t\u001b[0mGET \t \"/wd/hub/session/d6908b01aae49b8769aa19fc7e5e498c\"\n",
      "[ '912f5052a3261443593104ddea3f0274',\n",
      "  'd6908b01aae49b8769aa19fc7e5e498c' ]\n",
      "\u001b[1;30m[16:00:49] \u001b[0m \u001b[0;35mCOMMAND\t\u001b[0mGET \t \"/wd/hub/session/912f5052a3261443593104ddea3f0274\"\n",
      "912f5052a3261443593104ddea3f0274\n",
      "\u001b[1;30m[16:00:49] \u001b[0m \u001b[0;35mCOMMAND\t\u001b[0mGET \t \"/wd/hub/session/d6908b01aae49b8769aa19fc7e5e498c/window_handle\"\n",
      "\u001b[1;30m[16:00:49] \u001b[0m \u001b[0;35mCOMMAND\t\u001b[0mPOST \t \"/wd/hub/session/d6908b01aae49b8769aa19fc7e5e498c/window\"\n",
      "\u001b[1;30m[16:00:49] \u001b[0m \u001b[0;35mCOMMAND\t\u001b[0mGET \t \"/wd/hub/session/d6908b01aae49b8769aa19fc7e5e498c\"\n",
      "\u001b[1;30m[16:00:49] \u001b[0m \u001b[0;35mCOMMAND\t\u001b[0mGET \t \"/wd/hub/session/912f5052a3261443593104ddea3f0274/window_handle\"\n",
      "\u001b[1;30m[16:00:49] \u001b[0m \u001b[0;35mCOMMAND\t\u001b[0mPOST \t \"/wd/hub/session/912f5052a3261443593104ddea3f0274/window\"\n",
      "\u001b[1;30m[16:00:49] \u001b[0m \u001b[0;35mCOMMAND\t\u001b[0mGET \t \"/wd/hub/session/912f5052a3261443593104ddea3f0274\"\n",
      "\u001b[1;30m[16:00:49] \u001b[0m \u001b[0;35mCOMMAND\t\u001b[0mGET \t \"/wd/hub/session/bf7964e07ecc330968d1bbf9c9334693/window_handle\"\n",
      "\u001b[1;30m[16:00:49] \u001b[0m \u001b[0;35mCOMMAND\t\u001b[0mGET \t \"/wd/hub/session/35b322dbfef60abc8536a98c271158fd/window_handle\"\n",
      "\u001b[1;30m[16:00:49] \u001b[0m \u001b[0;35mCOMMAND\t\u001b[0mGET \t \"/wd/hub/session/70c1f1e880ec2a185efa345e90b57b8f/window_handle\"\n",
      "\u001b[1;30m[16:00:49] \u001b[0m \u001b[0;35mCOMMAND\t\u001b[0mGET \t \"/wd/hub/session/4396240da06751c50b39cf112ed569c2/window_handle\"\n",
      "\u001b[1;30m[16:00:49] \u001b[0m \u001b[0;35mCOMMAND\t\u001b[0mGET \t \"/wd/hub/session/efc69a42acc1247d96fc1660cbab1e9c/window_handle\"\n",
      "\u001b[1;30m[16:00:49] \u001b[0m \u001b[0;35mCOMMAND\t\u001b[0mPOST \t \"/wd/hub/session/912f5052a3261443593104ddea3f0274/execute\"\n",
      "\u001b[1;30m[16:00:49] \u001b[0m \u001b[0;35mCOMMAND\t\u001b[0mGET \t \"/wd/hub/session/912f5052a3261443593104ddea3f0274/window_handles\"\n",
      "\u001b[1;30m[16:00:49] \u001b[0m \u001b[0;35mCOMMAND\t\u001b[0mPOST \t \"/wd/hub/session/912f5052a3261443593104ddea3f0274/window\"\n",
      "\u001b[1;30m[16:00:49] \u001b[0m \u001b[0;35mCOMMAND\t\u001b[0mGET \t \"/wd/hub/session/912f5052a3261443593104ddea3f0274/window_handle\"\n",
      "\u001b[1;30m[16:00:50] \u001b[0m \u001b[0;35mCOMMAND\t\u001b[0mGET \t \"/wd/hub/session/912f5052a3261443593104ddea3f0274/window_handles\"\n",
      "\u001b[1;30m[16:00:50] \u001b[0m \u001b[0;35mCOMMAND\t\u001b[0mPOST \t \"/wd/hub/session/912f5052a3261443593104ddea3f0274/window\"\n",
      "\u001b[1;30m[16:00:50] \u001b[0m \u001b[0;35mCOMMAND\t\u001b[0mGET \t \"/wd/hub/session/912f5052a3261443593104ddea3f0274/window_handles\"\n",
      "\u001b[1;30m[16:00:50] \u001b[0m \u001b[0;35mCOMMAND\t\u001b[0mDELETE \t \"/wd/hub/session/912f5052a3261443593104ddea3f0274/window\"\n",
      "\u001b[1;30m[16:00:50] \u001b[0m \u001b[0;35mCOMMAND\t\u001b[0mPOST \t \"/wd/hub/session/912f5052a3261443593104ddea3f0274/window\"\n",
      "\u001b[1;30m[16:00:50] \u001b[0m \u001b[0;35mCOMMAND\t\u001b[0mPOST \t \"/wd/hub/session/912f5052a3261443593104ddea3f0274/window\"\n",
      "\u001b[1;30m[16:00:50] \u001b[0m \u001b[0;35mCOMMAND\t\u001b[0mGET \t \"/wd/hub/session/912f5052a3261443593104ddea3f0274/window_handle\"\n",
      "\u001b[1;30m[16:00:50] \u001b[0m \u001b[0;35mCOMMAND\t\u001b[0mGET \t \"/wd/hub/session/912f5052a3261443593104ddea3f0274/window_handles\"\n",
      "\u001b[1;30m[16:00:50] \u001b[0m \u001b[0;35mCOMMAND\t\u001b[0mGET \t \"/wd/hub/session/d6908b01aae49b8769aa19fc7e5e498c/window_handle\"\n",
      "\u001b[1;30m[16:00:50] \u001b[0m \u001b[0;35mCOMMAND\t\u001b[0mPOST \t \"/wd/hub/session/d6908b01aae49b8769aa19fc7e5e498c/window\"\n",
      "\u001b[1;30m[16:00:50] \u001b[0m \u001b[0;35mCOMMAND\t\u001b[0mGET \t \"/wd/hub/session/d6908b01aae49b8769aa19fc7e5e498c\"\n",
      "\u001b[1;30m[16:00:50] \u001b[0m \u001b[0;35mCOMMAND\t\u001b[0mGET \t \"/wd/hub/session/912f5052a3261443593104ddea3f0274/window_handle\"\n",
      "\u001b[1;30m[16:00:50] \u001b[0m \u001b[0;35mCOMMAND\t\u001b[0mPOST \t \"/wd/hub/session/912f5052a3261443593104ddea3f0274/window\"\n",
      "\u001b[1;30m[16:00:50] \u001b[0m \u001b[0;35mCOMMAND\t\u001b[0mGET \t \"/wd/hub/session/912f5052a3261443593104ddea3f0274\"\n",
      "\u001b[1;30m[16:00:50] \u001b[0m \u001b[0;35mCOMMAND\t\u001b[0mGET \t \"/wd/hub/session/bf7964e07ecc330968d1bbf9c9334693/window_handle\"\n",
      "\u001b[1;30m[16:00:50] \u001b[0m \u001b[0;35mCOMMAND\t\u001b[0mGET \t \"/wd/hub/session/35b322dbfef60abc8536a98c271158fd/window_handle\"\n",
      "\u001b[1;30m[16:00:50] \u001b[0m \u001b[0;35mCOMMAND\t\u001b[0mGET \t \"/wd/hub/session/70c1f1e880ec2a185efa345e90b57b8f/window_handle\"\n",
      "\u001b[1;30m[16:00:50] \u001b[0m \u001b[0;35mCOMMAND\t\u001b[0mGET \t \"/wd/hub/session/4396240da06751c50b39cf112ed569c2/window_handle\"\n",
      "\u001b[1;30m[16:00:50] \u001b[0m \u001b[0;35mCOMMAND\t\u001b[0mGET \t \"/wd/hub/session/efc69a42acc1247d96fc1660cbab1e9c/window_handle\"\n",
      "[ 'd6908b01aae49b8769aa19fc7e5e498c',\n",
      "  '912f5052a3261443593104ddea3f0274' ]\n",
      "\u001b[1;30m[16:00:50] \u001b[0m \u001b[0;35mCOMMAND\t\u001b[0mGET \t \"/wd/hub/session/d6908b01aae49b8769aa19fc7e5e498c/url\"\n",
      "\u001b[1;30m[16:00:50] \u001b[0m \u001b[0;35mCOMMAND\t\u001b[0mGET \t \"/wd/hub/session/d6908b01aae49b8769aa19fc7e5e498c/window_handles\"\n",
      "\u001b[1;30m[16:00:50] \u001b[0m \u001b[0;35mCOMMAND\t\u001b[0mPOST \t \"/wd/hub/session/d6908b01aae49b8769aa19fc7e5e498c/window\"\n",
      "\u001b[1;30m[16:00:50] \u001b[0m \u001b[0;35mCOMMAND\t\u001b[0mGET \t \"/wd/hub/session/d6908b01aae49b8769aa19fc7e5e498c/window_handle\"\n",
      "\u001b[1;30m[16:00:50] \u001b[0m \u001b[0;35mCOMMAND\t\u001b[0mPOST \t \"/wd/hub/session/d6908b01aae49b8769aa19fc7e5e498c/window\"\n",
      "{ x: 0, y: 0 }\n",
      "\u001b[1;30m[16:00:50] \u001b[0m \u001b[0;35mCOMMAND\t\u001b[0mPOST \t \"/wd/hub/session/d6908b01aae49b8769aa19fc7e5e498c/window/CDwindow-9afb18f3-56e0-4f44-9222-b0c5ee911424/position\"\n",
      "\u001b[1;30m[16:00:50] \u001b[0m \u001b[0;35mCOMMAND\t\u001b[0mPOST \t \"/wd/hub/session/d6908b01aae49b8769aa19fc7e5e498c/window/CDwindow-9afb18f3-56e0-4f44-9222-b0c5ee911424/size\"\n",
      "\u001b[1;30m[16:00:50] \u001b[0m \u001b[0;35mCOMMAND\t\u001b[0mGET \t \"/wd/hub/session/d6908b01aae49b8769aa19fc7e5e498c/url\"\n",
      "\u001b[1;30m[16:00:50] \u001b[0m \u001b[0;35mCOMMAND\t\u001b[0mGET \t \"/wd/hub/session/912f5052a3261443593104ddea3f0274/url\"\n",
      "\u001b[1;30m[16:00:50] \u001b[0m \u001b[0;35mCOMMAND\t\u001b[0mGET \t \"/wd/hub/session/912f5052a3261443593104ddea3f0274/window_handles\"\n",
      "\u001b[1;30m[16:00:50] \u001b[0m \u001b[0;35mCOMMAND\t\u001b[0mPOST \t \"/wd/hub/session/912f5052a3261443593104ddea3f0274/window\"\n",
      "\u001b[1;30m[16:00:50] \u001b[0m \u001b[0;35mCOMMAND\t\u001b[0mGET \t \"/wd/hub/session/912f5052a3261443593104ddea3f0274/window_handle\"\n",
      "\u001b[1;30m[16:00:50] \u001b[0m \u001b[0;35mCOMMAND\t\u001b[0mPOST \t \"/wd/hub/session/912f5052a3261443593104ddea3f0274/window\"\n",
      "{ x: 1350, y: 0 }\n",
      "\u001b[1;30m[16:00:50] \u001b[0m \u001b[0;35mCOMMAND\t\u001b[0mPOST \t \"/wd/hub/session/912f5052a3261443593104ddea3f0274/window/CDwindow-6e0f16ff-3970-41cd-b851-28091b163c90/position\"\n",
      "\u001b[1;30m[16:00:50] \u001b[0m \u001b[0;35mCOMMAND\t\u001b[0mPOST \t \"/wd/hub/session/912f5052a3261443593104ddea3f0274/window/CDwindow-6e0f16ff-3970-41cd-b851-28091b163c90/size\"\n",
      "\u001b[1;30m[16:00:50] \u001b[0m \u001b[0;35mCOMMAND\t\u001b[0mGET \t \"/wd/hub/session/912f5052a3261443593104ddea3f0274/url\"\n",
      "\u001b[1;30m[16:00:51] \u001b[0m \u001b[0;35mCOMMAND\t\u001b[0mGET \t \"/wd/hub/session/912f5052a3261443593104ddea3f0274/url\"\n",
      "\u001b[1;30m[16:00:51] \u001b[0m \u001b[0;35mCOMMAND\t\u001b[0mPOST \t \"/wd/hub/session/912f5052a3261443593104ddea3f0274/url\"\n",
      "\u001b[1;30m[16:00:53] \u001b[0m \u001b[0;35mCOMMAND\t\u001b[0mPOST \t \"/wd/hub/session/912f5052a3261443593104ddea3f0274/elements\"\n",
      "\u001b[1;30m[16:00:53] \u001b[0m \u001b[0;35mCOMMAND\t\u001b[0mGET \t \"/wd/hub/session/912f5052a3261443593104ddea3f0274/window_handle\"\n",
      "\u001b[1;30m[16:00:53] \u001b[0m \u001b[0;35mCOMMAND\t\u001b[0mPOST \t \"/wd/hub/session/912f5052a3261443593104ddea3f0274/window\"\n",
      "{ x: 0, y: 0 }\n",
      "\u001b[1;30m[16:00:53] \u001b[0m \u001b[0;35mCOMMAND\t\u001b[0mPOST \t \"/wd/hub/session/912f5052a3261443593104ddea3f0274/window/CDwindow-6e0f16ff-3970-41cd-b851-28091b163c90/position\"\n",
      "\u001b[1;30m[16:00:53] \u001b[0m \u001b[0;35mCOMMAND\t\u001b[0mPOST \t \"/wd/hub/session/912f5052a3261443593104ddea3f0274/window/CDwindow-6e0f16ff-3970-41cd-b851-28091b163c90/size\"\n",
      "\u001b[1;30m[16:00:53] \u001b[0m \u001b[0;35mCOMMAND\t\u001b[0mPOST \t \"/wd/hub/session/912f5052a3261443593104ddea3f0274/url\"\n",
      "\u001b[1;30m[16:00:56] \u001b[0m \u001b[0;35mCOMMAND\t\u001b[0mGET \t \"/wd/hub/session/912f5052a3261443593104ddea3f0274/window_handle\"\n",
      "\u001b[1;30m[16:00:56] \u001b[0m \u001b[0;35mCOMMAND\t\u001b[0mGET \t \"/wd/hub/session/912f5052a3261443593104ddea3f0274/window_handles\"\n",
      "https://www.facebook.com/messages/t/brian.harris.01\n",
      "\u001b[1;30m[16:00:56] \u001b[0m \u001b[0;35mCOMMAND\t\u001b[0mGET \t \"/wd/hub/session/912f5052a3261443593104ddea3f0274/window_handles\"\n",
      "\u001b[1;30m[16:00:56] \u001b[0m \u001b[0;35mCOMMAND\t\u001b[0mPOST \t \"/wd/hub/session/912f5052a3261443593104ddea3f0274/execute\"\n",
      "\u001b[1;30m[16:00:57] \u001b[0m \u001b[0;35mCOMMAND\t\u001b[0mGET \t \"/wd/hub/session/912f5052a3261443593104ddea3f0274/window_handles\"\n",
      "\u001b[1;30m[16:00:57] \u001b[0m \u001b[0;35mCOMMAND\t\u001b[0mPOST \t \"/wd/hub/session/912f5052a3261443593104ddea3f0274/window\"\n",
      "https://www.facebook.com/messages/t/borikoni\n",
      "\u001b[1;30m[16:00:57] \u001b[0m \u001b[0;35mCOMMAND\t\u001b[0mGET \t \"/wd/hub/session/912f5052a3261443593104ddea3f0274/window_handles\"\n",
      "\u001b[1;30m[16:00:57] \u001b[0m \u001b[0;35mCOMMAND\t\u001b[0mPOST \t \"/wd/hub/session/912f5052a3261443593104ddea3f0274/execute\"\n",
      "\u001b[1;30m[16:00:57] \u001b[0m \u001b[0;35mCOMMAND\t\u001b[0mGET \t \"/wd/hub/session/912f5052a3261443593104ddea3f0274/window_handles\"\n",
      "\u001b[1;30m[16:00:57] \u001b[0m \u001b[0;35mCOMMAND\t\u001b[0mPOST \t \"/wd/hub/session/912f5052a3261443593104ddea3f0274/window\"\n",
      "https://www.facebook.com/messages/t/tim.bangert.3\n",
      "\u001b[1;30m[16:00:57] \u001b[0m \u001b[0;35mCOMMAND\t\u001b[0mGET \t \"/wd/hub/session/912f5052a3261443593104ddea3f0274/window_handles\"\n",
      "\u001b[1;30m[16:00:57] \u001b[0m \u001b[0;35mCOMMAND\t\u001b[0mPOST \t \"/wd/hub/session/912f5052a3261443593104ddea3f0274/execute\"\n",
      "\u001b[1;30m[16:00:58] \u001b[0m \u001b[0;35mCOMMAND\t\u001b[0mGET \t \"/wd/hub/session/912f5052a3261443593104ddea3f0274/window_handles\"\n",
      "\u001b[1;30m[16:00:58] \u001b[0m \u001b[0;35mCOMMAND\t\u001b[0mPOST \t \"/wd/hub/session/912f5052a3261443593104ddea3f0274/window\"\n",
      "https://www.facebook.com/messages/t/jsims730\n",
      "\u001b[1;30m[16:00:58] \u001b[0m \u001b[0;35mCOMMAND\t\u001b[0mGET \t \"/wd/hub/session/912f5052a3261443593104ddea3f0274/window_handles\"\n",
      "\u001b[1;30m[16:00:58] \u001b[0m \u001b[0;35mCOMMAND\t\u001b[0mPOST \t \"/wd/hub/session/912f5052a3261443593104ddea3f0274/execute\"\n",
      "\u001b[1;30m[16:00:58] \u001b[0m \u001b[0;35mCOMMAND\t\u001b[0mGET \t \"/wd/hub/session/912f5052a3261443593104ddea3f0274/window_handles\"\n",
      "\u001b[1;30m[16:00:58] \u001b[0m \u001b[0;35mCOMMAND\t\u001b[0mPOST \t \"/wd/hub/session/912f5052a3261443593104ddea3f0274/window\"\n",
      "https://www.facebook.com/messages/t/Ryan-A-Stoffko-1784292651894577\n",
      "\u001b[1;30m[16:00:58] \u001b[0m \u001b[0;35mCOMMAND\t\u001b[0mGET \t \"/wd/hub/session/912f5052a3261443593104ddea3f0274/window_handles\"\n",
      "\u001b[1;30m[16:00:58] \u001b[0m \u001b[0;35mCOMMAND\t\u001b[0mPOST \t \"/wd/hub/session/912f5052a3261443593104ddea3f0274/execute\"\n",
      "\u001b[1;30m[16:00:59] \u001b[0m \u001b[0;35mCOMMAND\t\u001b[0mGET \t \"/wd/hub/session/912f5052a3261443593104ddea3f0274/window_handles\"\n",
      "\u001b[1;30m[16:00:59] \u001b[0m \u001b[0;35mCOMMAND\t\u001b[0mPOST \t \"/wd/hub/session/912f5052a3261443593104ddea3f0274/window\"\n",
      "https://www.facebook.com/messages/t/sonu.karve.94\n",
      "\u001b[1;30m[16:00:59] \u001b[0m \u001b[0;35mCOMMAND\t\u001b[0mGET \t \"/wd/hub/session/912f5052a3261443593104ddea3f0274/window_handles\"\n",
      "\u001b[1;30m[16:00:59] \u001b[0m \u001b[0;35mCOMMAND\t\u001b[0mPOST \t \"/wd/hub/session/912f5052a3261443593104ddea3f0274/execute\"\n",
      "\u001b[1;30m[16:01:01] \u001b[0m \u001b[0;35mCOMMAND\t\u001b[0mGET \t \"/wd/hub/session/912f5052a3261443593104ddea3f0274/window_handles\"\n",
      "\u001b[1;30m[16:01:01] \u001b[0m \u001b[0;35mCOMMAND\t\u001b[0mPOST \t \"/wd/hub/session/912f5052a3261443593104ddea3f0274/window\"\n",
      "https://www.facebook.com/messages/t/jason.hornack\n",
      "\u001b[1;30m[16:01:01] \u001b[0m \u001b[0;35mCOMMAND\t\u001b[0mGET \t \"/wd/hub/session/912f5052a3261443593104ddea3f0274/window_handles\"\n",
      "\u001b[1;30m[16:01:01] \u001b[0m \u001b[0;35mCOMMAND\t\u001b[0mPOST \t \"/wd/hub/session/912f5052a3261443593104ddea3f0274/execute\"\n",
      "\u001b[1;30m[16:01:03] \u001b[0m \u001b[0;35mCOMMAND\t\u001b[0mGET \t \"/wd/hub/session/912f5052a3261443593104ddea3f0274/window_handles\"\n",
      "\u001b[1;30m[16:01:03] \u001b[0m \u001b[0;35mCOMMAND\t\u001b[0mPOST \t \"/wd/hub/session/912f5052a3261443593104ddea3f0274/window\"\n",
      "https://www.facebook.com/messages/t/BumpyJonson\n",
      "\u001b[1;30m[16:01:03] \u001b[0m \u001b[0;35mCOMMAND\t\u001b[0mGET \t \"/wd/hub/session/912f5052a3261443593104ddea3f0274/window_handles\"\n",
      "\u001b[1;30m[16:01:03] \u001b[0m \u001b[0;35mCOMMAND\t\u001b[0mPOST \t \"/wd/hub/session/912f5052a3261443593104ddea3f0274/execute\"\n",
      "\u001b[1;30m[16:01:06] \u001b[0m \u001b[0;35mCOMMAND\t\u001b[0mGET \t \"/wd/hub/session/912f5052a3261443593104ddea3f0274/window_handles\"\n",
      "\u001b[1;30m[16:01:06] \u001b[0m \u001b[0;35mCOMMAND\t\u001b[0mPOST \t \"/wd/hub/session/912f5052a3261443593104ddea3f0274/window\"\n",
      "\u001b[1;30m[16:01:06] \u001b[0m \u001b[0;35mCOMMAND\t\u001b[0mGET \t \"/wd/hub/session/912f5052a3261443593104ddea3f0274/window_handle\"\n",
      "\u001b[1;30m[16:01:06] \u001b[0m \u001b[0;35mCOMMAND\t\u001b[0mPOST \t \"/wd/hub/session/912f5052a3261443593104ddea3f0274/window\"\n",
      "\u001b[1;30m[16:01:06] \u001b[0m \u001b[0;35mCOMMAND\t\u001b[0mGET \t \"/wd/hub/session/912f5052a3261443593104ddea3f0274\"\n",
      "\u001b[1;30m[16:01:06] \u001b[0m \u001b[0;35mCOMMAND\t\u001b[0mGET \t \"/wd/hub/session/d6908b01aae49b8769aa19fc7e5e498c/window_handle\"\n",
      "\u001b[1;30m[16:01:06] \u001b[0m \u001b[0;35mCOMMAND\t\u001b[0mPOST \t \"/wd/hub/session/d6908b01aae49b8769aa19fc7e5e498c/window\"\n",
      "\u001b[1;30m[16:01:06] \u001b[0m \u001b[0;35mCOMMAND\t\u001b[0mGET \t \"/wd/hub/session/d6908b01aae49b8769aa19fc7e5e498c\"\n",
      "\u001b[1;30m[16:01:06] \u001b[0m \u001b[0;35mCOMMAND\t\u001b[0mGET \t \"/wd/hub/session/bf7964e07ecc330968d1bbf9c9334693/window_handle\"\n",
      "\u001b[1;30m[16:01:06] \u001b[0m \u001b[0;35mCOMMAND\t\u001b[0mGET \t \"/wd/hub/session/35b322dbfef60abc8536a98c271158fd/window_handle\"\n",
      "\u001b[1;30m[16:01:06] \u001b[0m \u001b[0;35mCOMMAND\t\u001b[0mGET \t \"/wd/hub/session/70c1f1e880ec2a185efa345e90b57b8f/window_handle\"\n",
      "\u001b[1;30m[16:01:06] \u001b[0m \u001b[0;35mCOMMAND\t\u001b[0mGET \t \"/wd/hub/session/4396240da06751c50b39cf112ed569c2/window_handle\"\n",
      "\u001b[1;30m[16:01:06] \u001b[0m \u001b[0;35mCOMMAND\t\u001b[0mGET \t \"/wd/hub/session/efc69a42acc1247d96fc1660cbab1e9c/window_handle\"\n",
      "[ '912f5052a3261443593104ddea3f0274',\n",
      "  'd6908b01aae49b8769aa19fc7e5e498c' ]\n",
      "\u001b[1;30m[16:01:06] \u001b[0m \u001b[0;35mCOMMAND\t\u001b[0mGET \t \"/wd/hub/session/912f5052a3261443593104ddea3f0274/url\"\n",
      "\u001b[1;30m[16:01:09] \u001b[0m \u001b[0;35mCOMMAND\t\u001b[0mGET \t \"/wd/hub/session/912f5052a3261443593104ddea3f0274/window_handles\"\n",
      "\u001b[1;30m[16:01:09] \u001b[0m \u001b[0;35mCOMMAND\t\u001b[0mPOST \t \"/wd/hub/session/912f5052a3261443593104ddea3f0274/window\"\n",
      "\u001b[1;30m[16:01:09] \u001b[0m \u001b[0;35mCOMMAND\t\u001b[0mGET \t \"/wd/hub/session/912f5052a3261443593104ddea3f0274/window_handle\"\n",
      "\u001b[1;30m[16:01:09] \u001b[0m \u001b[0;35mCOMMAND\t\u001b[0mPOST \t \"/wd/hub/session/912f5052a3261443593104ddea3f0274/window\"\n",
      "{ x: 0, y: 0 }\n",
      "\u001b[1;30m[16:01:09] \u001b[0m \u001b[0;35mCOMMAND\t\u001b[0mPOST \t \"/wd/hub/session/912f5052a3261443593104ddea3f0274/window/CDwindow-6e0f16ff-3970-41cd-b851-28091b163c90/position\"\n",
      "\u001b[1;30m[16:01:09] \u001b[0m \u001b[0;35mCOMMAND\t\u001b[0mPOST \t \"/wd/hub/session/912f5052a3261443593104ddea3f0274/window/CDwindow-6e0f16ff-3970-41cd-b851-28091b163c90/size\"\n",
      "\u001b[1;30m[16:01:09] \u001b[0m \u001b[0;35mCOMMAND\t\u001b[0mGET \t \"/wd/hub/session/912f5052a3261443593104ddea3f0274/url\"\n",
      "\u001b[1;30m[16:01:12] \u001b[0m \u001b[0;35mCOMMAND\t\u001b[0mPOST \t \"/wd/hub/session/912f5052a3261443593104ddea3f0274/window\"\n",
      "\u001b[1;30m[16:01:12] \u001b[0m \u001b[0;35mCOMMAND\t\u001b[0mGET \t \"/wd/hub/session/912f5052a3261443593104ddea3f0274/window_handle\"\n",
      "\u001b[1;30m[16:01:12] \u001b[0m \u001b[0;35mCOMMAND\t\u001b[0mPOST \t \"/wd/hub/session/912f5052a3261443593104ddea3f0274/window\"\n",
      "{ x: 1350, y: 0 }\n",
      "\u001b[1;30m[16:01:12] \u001b[0m \u001b[0;35mCOMMAND\t\u001b[0mPOST \t \"/wd/hub/session/912f5052a3261443593104ddea3f0274/window/CDwindow-6acb23bd-243f-41ce-9a4f-816d3f6e5bee/position\"\n",
      "\u001b[1;30m[16:01:12] \u001b[0m \u001b[0;35mCOMMAND\t\u001b[0mPOST \t \"/wd/hub/session/912f5052a3261443593104ddea3f0274/window/CDwindow-6acb23bd-243f-41ce-9a4f-816d3f6e5bee/size\"\n",
      "\u001b[1;30m[16:01:12] \u001b[0m \u001b[0;35mCOMMAND\t\u001b[0mGET \t \"/wd/hub/session/912f5052a3261443593104ddea3f0274/url\"\n",
      "\u001b[1;30m[16:01:15] \u001b[0m \u001b[0;35mCOMMAND\t\u001b[0mPOST \t \"/wd/hub/session/912f5052a3261443593104ddea3f0274/window\"\n",
      "\u001b[1;30m[16:01:15] \u001b[0m \u001b[0;35mCOMMAND\t\u001b[0mGET \t \"/wd/hub/session/912f5052a3261443593104ddea3f0274/window_handle\"\n",
      "\u001b[1;30m[16:01:15] \u001b[0m \u001b[0;35mCOMMAND\t\u001b[0mPOST \t \"/wd/hub/session/912f5052a3261443593104ddea3f0274/window\"\n",
      "{ x: 2700, y: 0 }\n",
      "\u001b[1;30m[16:01:15] \u001b[0m \u001b[0;35mCOMMAND\t\u001b[0mPOST \t \"/wd/hub/session/912f5052a3261443593104ddea3f0274/window/CDwindow-c4e330bc-14c8-486a-977b-d8a7c5bfbcb1/position\"\n",
      "\u001b[1;30m[16:01:15] \u001b[0m \u001b[0;35mCOMMAND\t\u001b[0mPOST \t \"/wd/hub/session/912f5052a3261443593104ddea3f0274/window/CDwindow-c4e330bc-14c8-486a-977b-d8a7c5bfbcb1/size\"\n",
      "\u001b[1;30m[16:01:15] \u001b[0m \u001b[0;35mCOMMAND\t\u001b[0mGET \t \"/wd/hub/session/912f5052a3261443593104ddea3f0274/url\"\n",
      "\u001b[1;30m[16:01:16] \u001b[0m \u001b[0;35mCOMMAND\t\u001b[0mPOST \t \"/wd/hub/session/912f5052a3261443593104ddea3f0274/window\"\n",
      "\u001b[1;30m[16:01:16] \u001b[0m \u001b[0;35mCOMMAND\t\u001b[0mGET \t \"/wd/hub/session/912f5052a3261443593104ddea3f0274/window_handle\"\n",
      "\u001b[1;30m[16:01:16] \u001b[0m \u001b[0;35mCOMMAND\t\u001b[0mPOST \t \"/wd/hub/session/912f5052a3261443593104ddea3f0274/window\"\n",
      "{ x: 4050, y: 0 }\n",
      "\u001b[1;30m[16:01:16] \u001b[0m \u001b[0;35mCOMMAND\t\u001b[0mPOST \t \"/wd/hub/session/912f5052a3261443593104ddea3f0274/window/CDwindow-84df69f0-4d34-422c-abba-cf38d91fdd8f/position\"\n",
      "\u001b[1;30m[16:01:16] \u001b[0m \u001b[0;35mCOMMAND\t\u001b[0mPOST \t \"/wd/hub/session/912f5052a3261443593104ddea3f0274/window/CDwindow-84df69f0-4d34-422c-abba-cf38d91fdd8f/size\"\n",
      "\u001b[1;30m[16:01:16] \u001b[0m \u001b[0;35mCOMMAND\t\u001b[0mGET \t \"/wd/hub/session/912f5052a3261443593104ddea3f0274/url\"\n",
      "\u001b[1;30m[16:01:16] \u001b[0m \u001b[0;35mCOMMAND\t\u001b[0mPOST \t \"/wd/hub/session/912f5052a3261443593104ddea3f0274/window\"\n",
      "\u001b[1;30m[16:01:16] \u001b[0m \u001b[0;35mCOMMAND\t\u001b[0mGET \t \"/wd/hub/session/912f5052a3261443593104ddea3f0274/window_handle\"\n",
      "\u001b[1;30m[16:01:16] \u001b[0m \u001b[0;35mCOMMAND\t\u001b[0mPOST \t \"/wd/hub/session/912f5052a3261443593104ddea3f0274/window\"\n",
      "{ x: 5400, y: 0 }\n",
      "\u001b[1;30m[16:01:16] \u001b[0m \u001b[0;35mCOMMAND\t\u001b[0mPOST \t \"/wd/hub/session/912f5052a3261443593104ddea3f0274/window/CDwindow-433871fb-2692-4404-aa9c-d6561cabb0b2/position\"\n",
      "\u001b[1;30m[16:01:16] \u001b[0m \u001b[0;35mCOMMAND\t\u001b[0mPOST \t \"/wd/hub/session/912f5052a3261443593104ddea3f0274/window/CDwindow-433871fb-2692-4404-aa9c-d6561cabb0b2/size\"\n",
      "\u001b[1;30m[16:01:16] \u001b[0m \u001b[0;35mCOMMAND\t\u001b[0mGET \t \"/wd/hub/session/912f5052a3261443593104ddea3f0274/url\"\n",
      "\u001b[1;30m[16:01:16] \u001b[0m \u001b[0;35mCOMMAND\t\u001b[0mPOST \t \"/wd/hub/session/912f5052a3261443593104ddea3f0274/window\"\n",
      "\u001b[1;30m[16:01:16] \u001b[0m \u001b[0;35mCOMMAND\t\u001b[0mGET \t \"/wd/hub/session/912f5052a3261443593104ddea3f0274/window_handle\"\n",
      "\u001b[1;30m[16:01:16] \u001b[0m \u001b[0;35mCOMMAND\t\u001b[0mPOST \t \"/wd/hub/session/912f5052a3261443593104ddea3f0274/window\"\n",
      "{ x: 6750, y: 0 }\n",
      "\u001b[1;30m[16:01:16] \u001b[0m \u001b[0;35mCOMMAND\t\u001b[0mPOST \t \"/wd/hub/session/912f5052a3261443593104ddea3f0274/window/CDwindow-4b3e10b8-b73b-499e-ae15-64462f23f115/position\"\n",
      "\u001b[1;30m[16:01:17] \u001b[0m \u001b[0;35mCOMMAND\t\u001b[0mPOST \t \"/wd/hub/session/912f5052a3261443593104ddea3f0274/window/CDwindow-4b3e10b8-b73b-499e-ae15-64462f23f115/size\"\n",
      "\u001b[1;30m[16:01:17] \u001b[0m \u001b[0;35mCOMMAND\t\u001b[0mGET \t \"/wd/hub/session/912f5052a3261443593104ddea3f0274/url\"\n",
      "\u001b[1;30m[16:01:17] \u001b[0m \u001b[0;35mCOMMAND\t\u001b[0mPOST \t \"/wd/hub/session/912f5052a3261443593104ddea3f0274/window\"\n",
      "\u001b[1;30m[16:01:17] \u001b[0m \u001b[0;35mCOMMAND\t\u001b[0mGET \t \"/wd/hub/session/912f5052a3261443593104ddea3f0274/window_handle\"\n",
      "\u001b[1;30m[16:01:17] \u001b[0m \u001b[0;35mCOMMAND\t\u001b[0mPOST \t \"/wd/hub/session/912f5052a3261443593104ddea3f0274/window\"\n",
      "{ x: 0, y: 1024 }\n",
      "\u001b[1;30m[16:01:17] \u001b[0m \u001b[0;35mCOMMAND\t\u001b[0mPOST \t \"/wd/hub/session/912f5052a3261443593104ddea3f0274/window/CDwindow-f65bcdfc-7c2c-4ac9-8d8f-e9590c787e18/position\"\n",
      "\u001b[1;30m[16:01:17] \u001b[0m \u001b[0;35mCOMMAND\t\u001b[0mPOST \t \"/wd/hub/session/912f5052a3261443593104ddea3f0274/window/CDwindow-f65bcdfc-7c2c-4ac9-8d8f-e9590c787e18/size\"\n",
      "\u001b[1;30m[16:01:17] \u001b[0m \u001b[0;35mCOMMAND\t\u001b[0mGET \t \"/wd/hub/session/912f5052a3261443593104ddea3f0274/url\"\n",
      "\u001b[1;30m[16:01:17] \u001b[0m \u001b[0;35mCOMMAND\t\u001b[0mPOST \t \"/wd/hub/session/912f5052a3261443593104ddea3f0274/window\"\n",
      "\u001b[1;30m[16:01:17] \u001b[0m \u001b[0;35mCOMMAND\t\u001b[0mGET \t \"/wd/hub/session/912f5052a3261443593104ddea3f0274/window_handle\"\n",
      "\u001b[1;30m[16:01:17] \u001b[0m \u001b[0;35mCOMMAND\t\u001b[0mPOST \t \"/wd/hub/session/912f5052a3261443593104ddea3f0274/window\"\n",
      "{ x: 1350, y: 1024 }\n",
      "\u001b[1;30m[16:01:17] \u001b[0m \u001b[0;35mCOMMAND\t\u001b[0mPOST \t \"/wd/hub/session/912f5052a3261443593104ddea3f0274/window/CDwindow-389ad5d4-1200-4a1d-a489-9372fe75c98d/position\"\n",
      "\u001b[1;30m[16:01:17] \u001b[0m \u001b[0;35mCOMMAND\t\u001b[0mPOST \t \"/wd/hub/session/912f5052a3261443593104ddea3f0274/window/CDwindow-389ad5d4-1200-4a1d-a489-9372fe75c98d/size\"\n",
      "\u001b[1;30m[16:01:17] \u001b[0m \u001b[0;35mCOMMAND\t\u001b[0mGET \t \"/wd/hub/session/912f5052a3261443593104ddea3f0274/url\"\n",
      "\u001b[1;30m[16:01:17] \u001b[0m \u001b[0;35mCOMMAND\t\u001b[0mPOST \t \"/wd/hub/session/912f5052a3261443593104ddea3f0274/window\"\n",
      "\u001b[1;30m[16:01:17] \u001b[0m \u001b[0;35mCOMMAND\t\u001b[0mGET \t \"/wd/hub/session/912f5052a3261443593104ddea3f0274/window_handle\"\n",
      "\u001b[1;30m[16:01:17] \u001b[0m \u001b[0;35mCOMMAND\t\u001b[0mPOST \t \"/wd/hub/session/912f5052a3261443593104ddea3f0274/window\"\n",
      "{ x: 2700, y: 1024 }\n",
      "\u001b[1;30m[16:01:17] \u001b[0m \u001b[0;35mCOMMAND\t\u001b[0mPOST \t \"/wd/hub/session/912f5052a3261443593104ddea3f0274/window/CDwindow-04d57fdc-21d3-496b-8abe-ca8281c76778/position\"\n",
      "\u001b[1;30m[16:01:18] \u001b[0m \u001b[0;35mCOMMAND\t\u001b[0mPOST \t \"/wd/hub/session/912f5052a3261443593104ddea3f0274/window/CDwindow-04d57fdc-21d3-496b-8abe-ca8281c76778/size\"\n",
      "\u001b[1;30m[16:01:18] \u001b[0m \u001b[0;35mCOMMAND\t\u001b[0mGET \t \"/wd/hub/session/912f5052a3261443593104ddea3f0274/url\"\n",
      "\u001b[1;30m[16:01:18] \u001b[0m \u001b[0;35mCOMMAND\t\u001b[0mGET \t \"/wd/hub/session/d6908b01aae49b8769aa19fc7e5e498c/url\"\n",
      "\u001b[1;30m[16:01:18] \u001b[0m \u001b[0;35mCOMMAND\t\u001b[0mGET \t \"/wd/hub/session/d6908b01aae49b8769aa19fc7e5e498c/window_handles\"\n",
      "\u001b[1;30m[16:01:18] \u001b[0m \u001b[0;35mCOMMAND\t\u001b[0mPOST \t \"/wd/hub/session/d6908b01aae49b8769aa19fc7e5e498c/window\"\n",
      "\u001b[1;30m[16:01:18] \u001b[0m \u001b[0;35mCOMMAND\t\u001b[0mGET \t \"/wd/hub/session/d6908b01aae49b8769aa19fc7e5e498c/window_handle\"\n",
      "\u001b[1;30m[16:01:18] \u001b[0m \u001b[0;35mCOMMAND\t\u001b[0mPOST \t \"/wd/hub/session/d6908b01aae49b8769aa19fc7e5e498c/window\"\n",
      "{ x: 4050, y: 1024 }\n",
      "\u001b[1;30m[16:01:18] \u001b[0m \u001b[0;35mCOMMAND\t\u001b[0mPOST \t \"/wd/hub/session/d6908b01aae49b8769aa19fc7e5e498c/window/CDwindow-9afb18f3-56e0-4f44-9222-b0c5ee911424/position\"\n",
      "\u001b[1;30m[16:01:18] \u001b[0m \u001b[0;35mCOMMAND\t\u001b[0mPOST \t \"/wd/hub/session/d6908b01aae49b8769aa19fc7e5e498c/window/CDwindow-9afb18f3-56e0-4f44-9222-b0c5ee911424/size\"\n",
      "\u001b[1;30m[16:01:18] \u001b[0m \u001b[0;35mCOMMAND\t\u001b[0mGET \t \"/wd/hub/session/d6908b01aae49b8769aa19fc7e5e498c/url\"\n",
      "\u001b[1;30m[16:01:18] \u001b[0m \u001b[0;35mCOMMAND\t\u001b[0mGET \t \"/wd/hub/session/912f5052a3261443593104ddea3f0274/window_handles\"\n",
      "[ [ 'Q: What goes up and down but does not move?', 'A: Stairs' ],\n",
      "  [ 'Q: Where should a 500 pound alien go?', 'A: On a diet' ],\n",
      "  [ 'Q: What did one toilet say to the other?',\n",
      "    'A: You look a bit flushed.' ],\n",
      "  [ 'Q: Why did the picture go to jail?',\n",
      "    'A: Because it was framed.' ],\n",
      "  [ 'Q: What did one wall say to the other wall?',\n",
      "    'A: I\\'ll meet you at the corner.' ],\n",
      "  [ 'Q: What did the paper say to the pencil?', 'A: Write on!' ],\n",
      "  [ 'Q: What do you call a boy named Lee that no one talks to?',\n",
      "    'A: Lonely' ],\n",
      "  [ 'Q: What gets wetter the more it dries?', 'A: A towel.' ],\n",
      "  [ 'Q: Why do bicycles fall over?',\n",
      "    'A: Because they are two-tired!' ],\n",
      "  [ 'Q: Why do dragons sleep during the day?',\n",
      "    'A: So they can fight knights!' ],\n",
      "  [ 'Q: What did Cinderella say when her photos did not show up?',\n",
      "    'A: Someday my prints will come!' ],\n",
      "  [ 'Q: Why was the broom late?', 'A: It over swept!' ],\n",
      "  [ 'Q: What part of the car is the laziest?',\n",
      "    'A: The wheels, because they are always tired!' ],\n",
      "  [ 'Q: What did the stamp say to the envelope?',\n",
      "    'A: Stick with me and we will go places!' ],\n",
      "  [ 'Q: What is blue and goes ding dong?',\n",
      "    'A: An Avon lady at the North Pole!' ],\n",
      "  [ 'Q: We\\'re you long in the hospital?',\n",
      "    'A: No, I was the same size I am now!' ],\n",
      "  [ 'Q: Why couldn\\'t the pirate play cards?',\n",
      "    'A: Because he was sitting on the deck!' ],\n",
      "  [ 'Q: What did the laundryman say to the impatient customer?',\n",
      "    'A: Keep your shirt on!' ],\n",
      "  [ 'Q: What\\'s the difference between a TV and a newspaper?',\n",
      "    'A: Ever tried swatting a fly with a TV?' ],\n",
      "  [ 'Q: What did one elevator say to the other elevator?',\n",
      "    'A: I think I\\'m coming down with something!' ],\n",
      "  [ 'Q: Why was the belt arrested?',\n",
      "    'A: Because it held up some pants!' ],\n",
      "  [ 'Q: Why was everyone so tired on April 1st?',\n",
      "    'A: They had just finished a March of 31 days.' ],\n",
      "  [ 'Q: Which hand is it better to write with?',\n",
      "    'A: Neither, it\\'s best to write with a pen!' ],\n",
      "  [ 'Q: Why can\\'t your nose be 12 inches long?',\n",
      "    'A: Because then it would be a foot!' ],\n",
      "  [ 'Q: What makes the calendar seem so popular?',\n",
      "    'A: Because it has a lot of dates!' ],\n",
      "  [ 'Q: Why did Mickey Mouse take a trip into space?',\n",
      "    'A: He wanted to find Pluto!' ],\n",
      "  [ 'Q: What is green and has yellow wheels?',\n",
      "    'A: Grass…..I lied about the wheels!' ],\n",
      "  [ 'Q: What is it that even the most careful person overlooks?',\n",
      "    'A: Her nose!' ],\n",
      "  [ 'Q: Did you hear about the robbery last night?',\n",
      "    'A: Two clothes pins held up a pair of pants!' ],\n",
      "  [ 'Q: Why do you go to bed every night?',\n",
      "    'A: Because the bed won\\'t come to you!' ],\n",
      "  [ 'Q: Why did Billy go out with a prune?',\n",
      "    'A: Because he couldn\\'t find a date!' ],\n",
      "  [ 'Q: Why do eskimos do their laundry in Tide?',\n",
      "    'A: Because it\\'s too cold out-tide!' ],\n",
      "  [ 'Q: How do you cure a headache?',\n",
      "    'A: Put your head through a window and the pane will just disappear!' ],\n",
      "  [ 'Q: What has four wheels and flies?', 'A: A garbage truck!' ],\n",
      "  [ 'Q: What kind of car does Mickey Mouse\\'s wife drive?',\n",
      "    'A: A minnie van!' ],\n",
      "  [ 'Q: Why don\\'t traffic lights ever go swimming?',\n",
      "    'A: Because they take too long to change!' ],\n",
      "  [ 'Q: Why did the man run around his bed?',\n",
      "    'A: To catch up on his sleep!' ],\n",
      "  [ 'Q: Why did the robber take a bath before he stole from the bank?',\n",
      "    'A: He wanted to make a clean get away!' ] ]\n",
      "\u001b[1;30m[16:01:18] \u001b[0m \u001b[0;35mCOMMAND\t\u001b[0mPOST \t \"/wd/hub/session/912f5052a3261443593104ddea3f0274/window\"\n",
      "\u001b[1;30m[16:01:18] \u001b[0m \u001b[0;35mCOMMAND\t\u001b[0mPOST \t \"/wd/hub/session/912f5052a3261443593104ddea3f0274/element\"\n",
      "\u001b[1;30m[16:01:18] \u001b[0m \u001b[0;35mCOMMAND\t\u001b[0mPOST \t \"/wd/hub/session/912f5052a3261443593104ddea3f0274/element/0.1327179716975171-1/click\"\n"
     ]
    },
    {
     "name": "stderr",
     "output_type": "stream",
     "text": [
      "WARNING: the \"keys\" command will be depcrecated soon. Please use a different command in order to avoid failures in your test after updating WebdriverIO.\n"
     ]
    },
    {
     "name": "stdout",
     "output_type": "stream",
     "text": [
      "\u001b[1;30m[16:01:18] \u001b[0m \u001b[0;35mCOMMAND\t\u001b[0mPOST \t \"/wd/hub/session/912f5052a3261443593104ddea3f0274/keys\"\n"
     ]
    },
    {
     "name": "stderr",
     "output_type": "stream",
     "text": [
      "WARNING: the \"keys\" command will be depcrecated soon. Please use a different command in order to avoid failures in your test after updating WebdriverIO.\n"
     ]
    },
    {
     "name": "stdout",
     "output_type": "stream",
     "text": [
      "\u001b[1;30m[16:01:19] \u001b[0m \u001b[0;35mCOMMAND\t\u001b[0mPOST \t \"/wd/hub/session/912f5052a3261443593104ddea3f0274/keys\"\n"
     ]
    },
    {
     "name": "stderr",
     "output_type": "stream",
     "text": [
      "WARNING: the \"keys\" command will be depcrecated soon. Please use a different command in order to avoid failures in your test after updating WebdriverIO.\n"
     ]
    },
    {
     "name": "stdout",
     "output_type": "stream",
     "text": [
      "\u001b[1;30m[16:01:19] \u001b[0m \u001b[0;35mCOMMAND\t\u001b[0mPOST \t \"/wd/hub/session/912f5052a3261443593104ddea3f0274/keys\"\n",
      "\u001b[1;30m[16:01:40] \u001b[0m \u001b[0;35mCOMMAND\t\u001b[0mPOST \t \"/wd/hub/session/912f5052a3261443593104ddea3f0274/element\"\n",
      "\u001b[1;30m[16:01:40] \u001b[0m \u001b[0;35mCOMMAND\t\u001b[0mPOST \t \"/wd/hub/session/912f5052a3261443593104ddea3f0274/element/0.1327179716975171-1/click\"\n"
     ]
    },
    {
     "name": "stderr",
     "output_type": "stream",
     "text": [
      "WARNING: the \"keys\" command will be depcrecated soon. Please use a different command in order to avoid failures in your test after updating WebdriverIO.\n"
     ]
    },
    {
     "name": "stdout",
     "output_type": "stream",
     "text": [
      "\u001b[1;30m[16:01:40] \u001b[0m \u001b[0;35mCOMMAND\t\u001b[0mPOST \t \"/wd/hub/session/912f5052a3261443593104ddea3f0274/keys\"\n"
     ]
    },
    {
     "name": "stderr",
     "output_type": "stream",
     "text": [
      "WARNING: the \"keys\" command will be depcrecated soon. Please use a different command in order to avoid failures in your test after updating WebdriverIO.\n"
     ]
    },
    {
     "name": "stdout",
     "output_type": "stream",
     "text": [
      "\u001b[1;30m[16:01:40] \u001b[0m \u001b[0;35mCOMMAND\t\u001b[0mPOST \t \"/wd/hub/session/912f5052a3261443593104ddea3f0274/keys\"\n"
     ]
    },
    {
     "name": "stderr",
     "output_type": "stream",
     "text": [
      "WARNING: the \"keys\" command will be depcrecated soon. Please use a different command in order to avoid failures in your test after updating WebdriverIO.\n"
     ]
    },
    {
     "name": "stdout",
     "output_type": "stream",
     "text": [
      "\u001b[1;30m[16:01:41] \u001b[0m \u001b[0;35mCOMMAND\t\u001b[0mPOST \t \"/wd/hub/session/912f5052a3261443593104ddea3f0274/keys\"\n",
      "\u001b[1;30m[16:01:42] \u001b[0m \u001b[0;35mCOMMAND\t\u001b[0mPOST \t \"/wd/hub/session/912f5052a3261443593104ddea3f0274/window\"\n",
      "\u001b[1;30m[16:01:42] \u001b[0m \u001b[0;35mCOMMAND\t\u001b[0mPOST \t \"/wd/hub/session/912f5052a3261443593104ddea3f0274/element\"\n",
      "\u001b[1;30m[16:01:42] \u001b[0m \u001b[0;35mCOMMAND\t\u001b[0mPOST \t \"/wd/hub/session/912f5052a3261443593104ddea3f0274/element/0.9354517843068346-1/click\"\n"
     ]
    },
    {
     "name": "stderr",
     "output_type": "stream",
     "text": [
      "WARNING: the \"keys\" command will be depcrecated soon. Please use a different command in order to avoid failures in your test after updating WebdriverIO.\n"
     ]
    },
    {
     "name": "stdout",
     "output_type": "stream",
     "text": [
      "\u001b[1;30m[16:01:42] \u001b[0m \u001b[0;35mCOMMAND\t\u001b[0mPOST \t \"/wd/hub/session/912f5052a3261443593104ddea3f0274/keys\"\n"
     ]
    },
    {
     "name": "stderr",
     "output_type": "stream",
     "text": [
      "WARNING: the \"keys\" command will be depcrecated soon. Please use a different command in order to avoid failures in your test after updating WebdriverIO.\n"
     ]
    },
    {
     "name": "stdout",
     "output_type": "stream",
     "text": [
      "\u001b[1;30m[16:01:42] \u001b[0m \u001b[0;35mCOMMAND\t\u001b[0mPOST \t \"/wd/hub/session/912f5052a3261443593104ddea3f0274/keys\"\n"
     ]
    },
    {
     "name": "stderr",
     "output_type": "stream",
     "text": [
      "WARNING: the \"keys\" command will be depcrecated soon. Please use a different command in order to avoid failures in your test after updating WebdriverIO.\n"
     ]
    },
    {
     "name": "stdout",
     "output_type": "stream",
     "text": [
      "\u001b[1;30m[16:01:43] \u001b[0m \u001b[0;35mCOMMAND\t\u001b[0mPOST \t \"/wd/hub/session/912f5052a3261443593104ddea3f0274/keys\"\n",
      "\u001b[1;30m[16:02:03] \u001b[0m \u001b[0;35mCOMMAND\t\u001b[0mPOST \t \"/wd/hub/session/912f5052a3261443593104ddea3f0274/element\"\n",
      "\u001b[1;30m[16:02:03] \u001b[0m \u001b[0;35mCOMMAND\t\u001b[0mPOST \t \"/wd/hub/session/912f5052a3261443593104ddea3f0274/element/0.9354517843068346-1/click\"\n"
     ]
    },
    {
     "name": "stderr",
     "output_type": "stream",
     "text": [
      "WARNING: the \"keys\" command will be depcrecated soon. Please use a different command in order to avoid failures in your test after updating WebdriverIO.\n"
     ]
    },
    {
     "name": "stdout",
     "output_type": "stream",
     "text": [
      "\u001b[1;30m[16:02:03] \u001b[0m \u001b[0;35mCOMMAND\t\u001b[0mPOST \t \"/wd/hub/session/912f5052a3261443593104ddea3f0274/keys\"\n"
     ]
    },
    {
     "name": "stderr",
     "output_type": "stream",
     "text": [
      "WARNING: the \"keys\" command will be depcrecated soon. Please use a different command in order to avoid failures in your test after updating WebdriverIO.\n"
     ]
    },
    {
     "name": "stdout",
     "output_type": "stream",
     "text": [
      "\u001b[1;30m[16:02:04] \u001b[0m \u001b[0;35mCOMMAND\t\u001b[0mPOST \t \"/wd/hub/session/912f5052a3261443593104ddea3f0274/keys\"\n"
     ]
    },
    {
     "name": "stderr",
     "output_type": "stream",
     "text": [
      "WARNING: the \"keys\" command will be depcrecated soon. Please use a different command in order to avoid failures in your test after updating WebdriverIO.\n"
     ]
    },
    {
     "name": "stdout",
     "output_type": "stream",
     "text": [
      "\u001b[1;30m[16:02:04] \u001b[0m \u001b[0;35mCOMMAND\t\u001b[0mPOST \t \"/wd/hub/session/912f5052a3261443593104ddea3f0274/keys\"\n",
      "\u001b[1;30m[16:02:05] \u001b[0m \u001b[0;35mCOMMAND\t\u001b[0mPOST \t \"/wd/hub/session/912f5052a3261443593104ddea3f0274/window\"\n",
      "\u001b[1;30m[16:02:05] \u001b[0m \u001b[0;35mCOMMAND\t\u001b[0mPOST \t \"/wd/hub/session/912f5052a3261443593104ddea3f0274/element\"\n",
      "\u001b[1;30m[16:02:05] \u001b[0m \u001b[0;35mCOMMAND\t\u001b[0mPOST \t \"/wd/hub/session/912f5052a3261443593104ddea3f0274/element/0.3265911372973569-1/click\"\n"
     ]
    },
    {
     "name": "stderr",
     "output_type": "stream",
     "text": [
      "WARNING: the \"keys\" command will be depcrecated soon. Please use a different command in order to avoid failures in your test after updating WebdriverIO.\n"
     ]
    },
    {
     "name": "stdout",
     "output_type": "stream",
     "text": [
      "\u001b[1;30m[16:02:05] \u001b[0m \u001b[0;35mCOMMAND\t\u001b[0mPOST \t \"/wd/hub/session/912f5052a3261443593104ddea3f0274/keys\"\n"
     ]
    },
    {
     "name": "stderr",
     "output_type": "stream",
     "text": [
      "WARNING: the \"keys\" command will be depcrecated soon. Please use a different command in order to avoid failures in your test after updating WebdriverIO.\n"
     ]
    },
    {
     "name": "stdout",
     "output_type": "stream",
     "text": [
      "\u001b[1;30m[16:02:05] \u001b[0m \u001b[0;35mCOMMAND\t\u001b[0mPOST \t \"/wd/hub/session/912f5052a3261443593104ddea3f0274/keys\"\n"
     ]
    },
    {
     "name": "stderr",
     "output_type": "stream",
     "text": [
      "WARNING: the \"keys\" command will be depcrecated soon. Please use a different command in order to avoid failures in your test after updating WebdriverIO.\n"
     ]
    },
    {
     "name": "stdout",
     "output_type": "stream",
     "text": [
      "\u001b[1;30m[16:02:06] \u001b[0m \u001b[0;35mCOMMAND\t\u001b[0mPOST \t \"/wd/hub/session/912f5052a3261443593104ddea3f0274/keys\"\n",
      "\u001b[1;30m[16:02:26] \u001b[0m \u001b[0;35mCOMMAND\t\u001b[0mPOST \t \"/wd/hub/session/912f5052a3261443593104ddea3f0274/element\"\n",
      "\u001b[1;30m[16:02:26] \u001b[0m \u001b[0;35mCOMMAND\t\u001b[0mPOST \t \"/wd/hub/session/912f5052a3261443593104ddea3f0274/element/0.3265911372973569-1/click\"\n"
     ]
    },
    {
     "name": "stderr",
     "output_type": "stream",
     "text": [
      "WARNING: the \"keys\" command will be depcrecated soon. Please use a different command in order to avoid failures in your test after updating WebdriverIO.\n"
     ]
    },
    {
     "name": "stdout",
     "output_type": "stream",
     "text": [
      "\u001b[1;30m[16:02:26] \u001b[0m \u001b[0;35mCOMMAND\t\u001b[0mPOST \t \"/wd/hub/session/912f5052a3261443593104ddea3f0274/keys\"\n"
     ]
    },
    {
     "name": "stderr",
     "output_type": "stream",
     "text": [
      "WARNING: the \"keys\" command will be depcrecated soon. Please use a different command in order to avoid failures in your test after updating WebdriverIO.\n"
     ]
    },
    {
     "name": "stdout",
     "output_type": "stream",
     "text": [
      "\u001b[1;30m[16:02:27] \u001b[0m \u001b[0;35mCOMMAND\t\u001b[0mPOST \t \"/wd/hub/session/912f5052a3261443593104ddea3f0274/keys\"\n"
     ]
    },
    {
     "name": "stderr",
     "output_type": "stream",
     "text": [
      "WARNING: the \"keys\" command will be depcrecated soon. Please use a different command in order to avoid failures in your test after updating WebdriverIO.\n"
     ]
    },
    {
     "name": "stdout",
     "output_type": "stream",
     "text": [
      "\u001b[1;30m[16:02:28] \u001b[0m \u001b[0;35mCOMMAND\t\u001b[0mPOST \t \"/wd/hub/session/912f5052a3261443593104ddea3f0274/keys\"\n",
      "\u001b[1;30m[16:02:28] \u001b[0m \u001b[0;35mCOMMAND\t\u001b[0mPOST \t \"/wd/hub/session/912f5052a3261443593104ddea3f0274/window\"\n",
      "\u001b[1;30m[16:02:28] \u001b[0m \u001b[0;35mCOMMAND\t\u001b[0mPOST \t \"/wd/hub/session/912f5052a3261443593104ddea3f0274/element\"\n",
      "\u001b[1;30m[16:02:29] \u001b[0m \u001b[0;35mCOMMAND\t\u001b[0mPOST \t \"/wd/hub/session/912f5052a3261443593104ddea3f0274/element/0.3296800620868363-1/click\"\n"
     ]
    },
    {
     "name": "stderr",
     "output_type": "stream",
     "text": [
      "WARNING: the \"keys\" command will be depcrecated soon. Please use a different command in order to avoid failures in your test after updating WebdriverIO.\n"
     ]
    },
    {
     "name": "stdout",
     "output_type": "stream",
     "text": [
      "\u001b[1;30m[16:02:29] \u001b[0m \u001b[0;35mCOMMAND\t\u001b[0mPOST \t \"/wd/hub/session/912f5052a3261443593104ddea3f0274/keys\"\n"
     ]
    },
    {
     "name": "stderr",
     "output_type": "stream",
     "text": [
      "WARNING: the \"keys\" command will be depcrecated soon. Please use a different command in order to avoid failures in your test after updating WebdriverIO.\n"
     ]
    },
    {
     "name": "stdout",
     "output_type": "stream",
     "text": [
      "\u001b[1;30m[16:02:29] \u001b[0m \u001b[0;35mCOMMAND\t\u001b[0mPOST \t \"/wd/hub/session/912f5052a3261443593104ddea3f0274/keys\"\n"
     ]
    },
    {
     "name": "stderr",
     "output_type": "stream",
     "text": [
      "WARNING: the \"keys\" command will be depcrecated soon. Please use a different command in order to avoid failures in your test after updating WebdriverIO.\n"
     ]
    },
    {
     "name": "stdout",
     "output_type": "stream",
     "text": [
      "\u001b[1;30m[16:02:30] \u001b[0m \u001b[0;35mCOMMAND\t\u001b[0mPOST \t \"/wd/hub/session/912f5052a3261443593104ddea3f0274/keys\"\n",
      "\u001b[1;30m[16:02:50] \u001b[0m \u001b[0;35mCOMMAND\t\u001b[0mPOST \t \"/wd/hub/session/912f5052a3261443593104ddea3f0274/element\"\n",
      "\u001b[1;30m[16:02:50] \u001b[0m \u001b[0;35mCOMMAND\t\u001b[0mPOST \t \"/wd/hub/session/912f5052a3261443593104ddea3f0274/element/0.3296800620868363-1/click\"\n"
     ]
    },
    {
     "name": "stderr",
     "output_type": "stream",
     "text": [
      "WARNING: the \"keys\" command will be depcrecated soon. Please use a different command in order to avoid failures in your test after updating WebdriverIO.\n"
     ]
    },
    {
     "name": "stdout",
     "output_type": "stream",
     "text": [
      "\u001b[1;30m[16:02:50] \u001b[0m \u001b[0;35mCOMMAND\t\u001b[0mPOST \t \"/wd/hub/session/912f5052a3261443593104ddea3f0274/keys\"\n"
     ]
    },
    {
     "name": "stderr",
     "output_type": "stream",
     "text": [
      "WARNING: the \"keys\" command will be depcrecated soon. Please use a different command in order to avoid failures in your test after updating WebdriverIO.\n"
     ]
    },
    {
     "name": "stdout",
     "output_type": "stream",
     "text": [
      "\u001b[1;30m[16:02:50] \u001b[0m \u001b[0;35mCOMMAND\t\u001b[0mPOST \t \"/wd/hub/session/912f5052a3261443593104ddea3f0274/keys\"\n"
     ]
    },
    {
     "name": "stderr",
     "output_type": "stream",
     "text": [
      "WARNING: the \"keys\" command will be depcrecated soon. Please use a different command in order to avoid failures in your test after updating WebdriverIO.\n"
     ]
    },
    {
     "name": "stdout",
     "output_type": "stream",
     "text": [
      "\u001b[1;30m[16:02:51] \u001b[0m \u001b[0;35mCOMMAND\t\u001b[0mPOST \t \"/wd/hub/session/912f5052a3261443593104ddea3f0274/keys\"\n",
      "\u001b[1;30m[16:02:51] \u001b[0m \u001b[0;35mCOMMAND\t\u001b[0mPOST \t \"/wd/hub/session/912f5052a3261443593104ddea3f0274/window\"\n",
      "\u001b[1;30m[16:02:51] \u001b[0m \u001b[0;35mCOMMAND\t\u001b[0mPOST \t \"/wd/hub/session/912f5052a3261443593104ddea3f0274/element\"\n",
      "\u001b[1;30m[16:02:51] \u001b[0m \u001b[0;35mCOMMAND\t\u001b[0mPOST \t \"/wd/hub/session/912f5052a3261443593104ddea3f0274/element/0.26695928421858106-1/click\"\n"
     ]
    },
    {
     "name": "stderr",
     "output_type": "stream",
     "text": [
      "WARNING: the \"keys\" command will be depcrecated soon. Please use a different command in order to avoid failures in your test after updating WebdriverIO.\n"
     ]
    },
    {
     "name": "stdout",
     "output_type": "stream",
     "text": [
      "\u001b[1;30m[16:02:52] \u001b[0m \u001b[0;35mCOMMAND\t\u001b[0mPOST \t \"/wd/hub/session/912f5052a3261443593104ddea3f0274/keys\"\n"
     ]
    },
    {
     "name": "stderr",
     "output_type": "stream",
     "text": [
      "WARNING: the \"keys\" command will be depcrecated soon. Please use a different command in order to avoid failures in your test after updating WebdriverIO.\n"
     ]
    },
    {
     "name": "stdout",
     "output_type": "stream",
     "text": [
      "\u001b[1;30m[16:02:52] \u001b[0m \u001b[0;35mCOMMAND\t\u001b[0mPOST \t \"/wd/hub/session/912f5052a3261443593104ddea3f0274/keys\"\n"
     ]
    },
    {
     "name": "stderr",
     "output_type": "stream",
     "text": [
      "WARNING: the \"keys\" command will be depcrecated soon. Please use a different command in order to avoid failures in your test after updating WebdriverIO.\n"
     ]
    },
    {
     "name": "stdout",
     "output_type": "stream",
     "text": [
      "\u001b[1;30m[16:02:53] \u001b[0m \u001b[0;35mCOMMAND\t\u001b[0mPOST \t \"/wd/hub/session/912f5052a3261443593104ddea3f0274/keys\"\n",
      "\u001b[1;30m[16:03:13] \u001b[0m \u001b[0;35mCOMMAND\t\u001b[0mPOST \t \"/wd/hub/session/912f5052a3261443593104ddea3f0274/element\"\n",
      "\u001b[1;30m[16:03:13] \u001b[0m \u001b[0;35mCOMMAND\t\u001b[0mPOST \t \"/wd/hub/session/912f5052a3261443593104ddea3f0274/element/0.26695928421858106-1/click\"\n"
     ]
    },
    {
     "name": "stderr",
     "output_type": "stream",
     "text": [
      "WARNING: the \"keys\" command will be depcrecated soon. Please use a different command in order to avoid failures in your test after updating WebdriverIO.\n"
     ]
    },
    {
     "name": "stdout",
     "output_type": "stream",
     "text": [
      "\u001b[1;30m[16:03:14] \u001b[0m \u001b[0;35mCOMMAND\t\u001b[0mPOST \t \"/wd/hub/session/912f5052a3261443593104ddea3f0274/keys\"\n"
     ]
    },
    {
     "name": "stderr",
     "output_type": "stream",
     "text": [
      "WARNING: the \"keys\" command will be depcrecated soon. Please use a different command in order to avoid failures in your test after updating WebdriverIO.\n"
     ]
    },
    {
     "name": "stdout",
     "output_type": "stream",
     "text": [
      "\u001b[1;30m[16:03:14] \u001b[0m \u001b[0;35mCOMMAND\t\u001b[0mPOST \t \"/wd/hub/session/912f5052a3261443593104ddea3f0274/keys\"\n"
     ]
    },
    {
     "name": "stderr",
     "output_type": "stream",
     "text": [
      "WARNING: the \"keys\" command will be depcrecated soon. Please use a different command in order to avoid failures in your test after updating WebdriverIO.\n"
     ]
    },
    {
     "name": "stdout",
     "output_type": "stream",
     "text": [
      "\u001b[1;30m[16:03:14] \u001b[0m \u001b[0;35mCOMMAND\t\u001b[0mPOST \t \"/wd/hub/session/912f5052a3261443593104ddea3f0274/keys\"\n",
      "\u001b[1;30m[16:03:15] \u001b[0m \u001b[0;35mCOMMAND\t\u001b[0mPOST \t \"/wd/hub/session/912f5052a3261443593104ddea3f0274/window\"\n",
      "\u001b[1;30m[16:03:15] \u001b[0m \u001b[0;35mCOMMAND\t\u001b[0mPOST \t \"/wd/hub/session/912f5052a3261443593104ddea3f0274/element\"\n",
      "{ Error: An element could not be located on the page using the given search parameters.\n",
      "    at element(\"//*[contains(@aria-label, \"Type a message\")]\") - click.js:12:17\n",
      "    at keys(\"\") - facebook connections.ipynb[3]:7:10\n",
      "  type: 'NoSuchElement',\n",
      "  message: 'An element could not be located on the page using the given search parameters.' }\n",
      "\u001b[1;30m[16:03:35] \u001b[0m \u001b[0;35mCOMMAND\t\u001b[0mPOST \t \"/wd/hub/session/912f5052a3261443593104ddea3f0274/element\"\n",
      "{ Error: An element could not be located on the page using the given search parameters.\n",
      "    at element(\"//*[contains(@aria-label, \"Type a message\")]\") - click.js:12:17\n",
      "    at keys(\"\") - facebook connections.ipynb[3]:7:10\n",
      "  type: 'NoSuchElement',\n",
      "  message: 'An element could not be located on the page using the given search parameters.' }\n",
      "\u001b[1;30m[16:03:35] \u001b[0m \u001b[0;35mCOMMAND\t\u001b[0mPOST \t \"/wd/hub/session/912f5052a3261443593104ddea3f0274/window\"\n",
      "\u001b[1;30m[16:03:35] \u001b[0m \u001b[0;35mCOMMAND\t\u001b[0mPOST \t \"/wd/hub/session/912f5052a3261443593104ddea3f0274/element\"\n",
      "\u001b[1;30m[16:03:35] \u001b[0m \u001b[0;35mCOMMAND\t\u001b[0mPOST \t \"/wd/hub/session/912f5052a3261443593104ddea3f0274/element/0.8147474252235858-1/click\"\n"
     ]
    },
    {
     "name": "stderr",
     "output_type": "stream",
     "text": [
      "WARNING: the \"keys\" command will be depcrecated soon. Please use a different command in order to avoid failures in your test after updating WebdriverIO.\n"
     ]
    },
    {
     "name": "stdout",
     "output_type": "stream",
     "text": [
      "\u001b[1;30m[16:03:36] \u001b[0m \u001b[0;35mCOMMAND\t\u001b[0mPOST \t \"/wd/hub/session/912f5052a3261443593104ddea3f0274/keys\"\n"
     ]
    },
    {
     "name": "stderr",
     "output_type": "stream",
     "text": [
      "WARNING: the \"keys\" command will be depcrecated soon. Please use a different command in order to avoid failures in your test after updating WebdriverIO.\n"
     ]
    },
    {
     "name": "stdout",
     "output_type": "stream",
     "text": [
      "\u001b[1;30m[16:03:36] \u001b[0m \u001b[0;35mCOMMAND\t\u001b[0mPOST \t \"/wd/hub/session/912f5052a3261443593104ddea3f0274/keys\"\n"
     ]
    },
    {
     "name": "stderr",
     "output_type": "stream",
     "text": [
      "WARNING: the \"keys\" command will be depcrecated soon. Please use a different command in order to avoid failures in your test after updating WebdriverIO.\n"
     ]
    },
    {
     "name": "stdout",
     "output_type": "stream",
     "text": [
      "\u001b[1;30m[16:03:36] \u001b[0m \u001b[0;35mCOMMAND\t\u001b[0mPOST \t \"/wd/hub/session/912f5052a3261443593104ddea3f0274/keys\"\n",
      "\u001b[1;30m[16:03:56] \u001b[0m \u001b[0;35mCOMMAND\t\u001b[0mPOST \t \"/wd/hub/session/912f5052a3261443593104ddea3f0274/element\"\n",
      "\u001b[1;30m[16:03:56] \u001b[0m \u001b[0;35mCOMMAND\t\u001b[0mPOST \t \"/wd/hub/session/912f5052a3261443593104ddea3f0274/element/0.8147474252235858-1/click\"\n"
     ]
    },
    {
     "name": "stderr",
     "output_type": "stream",
     "text": [
      "WARNING: the \"keys\" command will be depcrecated soon. Please use a different command in order to avoid failures in your test after updating WebdriverIO.\n"
     ]
    },
    {
     "name": "stdout",
     "output_type": "stream",
     "text": [
      "\u001b[1;30m[16:03:57] \u001b[0m \u001b[0;35mCOMMAND\t\u001b[0mPOST \t \"/wd/hub/session/912f5052a3261443593104ddea3f0274/keys\"\n"
     ]
    },
    {
     "name": "stderr",
     "output_type": "stream",
     "text": [
      "WARNING: the \"keys\" command will be depcrecated soon. Please use a different command in order to avoid failures in your test after updating WebdriverIO.\n"
     ]
    },
    {
     "name": "stdout",
     "output_type": "stream",
     "text": [
      "\u001b[1;30m[16:03:57] \u001b[0m \u001b[0;35mCOMMAND\t\u001b[0mPOST \t \"/wd/hub/session/912f5052a3261443593104ddea3f0274/keys\"\n"
     ]
    },
    {
     "name": "stderr",
     "output_type": "stream",
     "text": [
      "WARNING: the \"keys\" command will be depcrecated soon. Please use a different command in order to avoid failures in your test after updating WebdriverIO.\n"
     ]
    },
    {
     "name": "stdout",
     "output_type": "stream",
     "text": [
      "\u001b[1;30m[16:03:58] \u001b[0m \u001b[0;35mCOMMAND\t\u001b[0mPOST \t \"/wd/hub/session/912f5052a3261443593104ddea3f0274/keys\"\n",
      "\u001b[1;30m[16:03:58] \u001b[0m \u001b[0;35mCOMMAND\t\u001b[0mPOST \t \"/wd/hub/session/912f5052a3261443593104ddea3f0274/window\"\n",
      "\u001b[1;30m[16:03:59] \u001b[0m \u001b[0;35mCOMMAND\t\u001b[0mPOST \t \"/wd/hub/session/912f5052a3261443593104ddea3f0274/element\"\n",
      "\u001b[1;30m[16:03:59] \u001b[0m \u001b[0;35mCOMMAND\t\u001b[0mPOST \t \"/wd/hub/session/912f5052a3261443593104ddea3f0274/element/0.688461584226612-1/click\"\n"
     ]
    },
    {
     "name": "stderr",
     "output_type": "stream",
     "text": [
      "WARNING: the \"keys\" command will be depcrecated soon. Please use a different command in order to avoid failures in your test after updating WebdriverIO.\n"
     ]
    },
    {
     "name": "stdout",
     "output_type": "stream",
     "text": [
      "\u001b[1;30m[16:03:59] \u001b[0m \u001b[0;35mCOMMAND\t\u001b[0mPOST \t \"/wd/hub/session/912f5052a3261443593104ddea3f0274/keys\"\n"
     ]
    },
    {
     "name": "stderr",
     "output_type": "stream",
     "text": [
      "WARNING: the \"keys\" command will be depcrecated soon. Please use a different command in order to avoid failures in your test after updating WebdriverIO.\n"
     ]
    },
    {
     "name": "stdout",
     "output_type": "stream",
     "text": [
      "\u001b[1;30m[16:03:59] \u001b[0m \u001b[0;35mCOMMAND\t\u001b[0mPOST \t \"/wd/hub/session/912f5052a3261443593104ddea3f0274/keys\"\n"
     ]
    },
    {
     "name": "stderr",
     "output_type": "stream",
     "text": [
      "WARNING: the \"keys\" command will be depcrecated soon. Please use a different command in order to avoid failures in your test after updating WebdriverIO.\n"
     ]
    },
    {
     "name": "stdout",
     "output_type": "stream",
     "text": [
      "\u001b[1;30m[16:04:00] \u001b[0m \u001b[0;35mCOMMAND\t\u001b[0mPOST \t \"/wd/hub/session/912f5052a3261443593104ddea3f0274/keys\"\n",
      "\u001b[1;30m[16:04:20] \u001b[0m \u001b[0;35mCOMMAND\t\u001b[0mPOST \t \"/wd/hub/session/912f5052a3261443593104ddea3f0274/element\"\n",
      "\u001b[1;30m[16:04:20] \u001b[0m \u001b[0;35mCOMMAND\t\u001b[0mPOST \t \"/wd/hub/session/912f5052a3261443593104ddea3f0274/element/0.688461584226612-1/click\"\n"
     ]
    },
    {
     "name": "stderr",
     "output_type": "stream",
     "text": [
      "WARNING: the \"keys\" command will be depcrecated soon. Please use a different command in order to avoid failures in your test after updating WebdriverIO.\n"
     ]
    },
    {
     "name": "stdout",
     "output_type": "stream",
     "text": [
      "\u001b[1;30m[16:04:20] \u001b[0m \u001b[0;35mCOMMAND\t\u001b[0mPOST \t \"/wd/hub/session/912f5052a3261443593104ddea3f0274/keys\"\n"
     ]
    },
    {
     "name": "stderr",
     "output_type": "stream",
     "text": [
      "WARNING: the \"keys\" command will be depcrecated soon. Please use a different command in order to avoid failures in your test after updating WebdriverIO.\n"
     ]
    },
    {
     "name": "stdout",
     "output_type": "stream",
     "text": [
      "\u001b[1;30m[16:04:20] \u001b[0m \u001b[0;35mCOMMAND\t\u001b[0mPOST \t \"/wd/hub/session/912f5052a3261443593104ddea3f0274/keys\"\n"
     ]
    },
    {
     "name": "stderr",
     "output_type": "stream",
     "text": [
      "WARNING: the \"keys\" command will be depcrecated soon. Please use a different command in order to avoid failures in your test after updating WebdriverIO.\n"
     ]
    },
    {
     "name": "stdout",
     "output_type": "stream",
     "text": [
      "\u001b[1;30m[16:04:21] \u001b[0m \u001b[0;35mCOMMAND\t\u001b[0mPOST \t \"/wd/hub/session/912f5052a3261443593104ddea3f0274/keys\"\n",
      "\u001b[1;30m[16:04:22] \u001b[0m \u001b[0;35mCOMMAND\t\u001b[0mPOST \t \"/wd/hub/session/912f5052a3261443593104ddea3f0274/window\"\n",
      "\u001b[1;30m[16:04:22] \u001b[0m \u001b[0;35mCOMMAND\t\u001b[0mPOST \t \"/wd/hub/session/912f5052a3261443593104ddea3f0274/element\"\n",
      "\u001b[1;30m[16:04:22] \u001b[0m \u001b[0;35mCOMMAND\t\u001b[0mPOST \t \"/wd/hub/session/912f5052a3261443593104ddea3f0274/element/0.7119447754970629-1/click\"\n"
     ]
    },
    {
     "name": "stderr",
     "output_type": "stream",
     "text": [
      "WARNING: the \"keys\" command will be depcrecated soon. Please use a different command in order to avoid failures in your test after updating WebdriverIO.\n"
     ]
    },
    {
     "name": "stdout",
     "output_type": "stream",
     "text": [
      "\u001b[1;30m[16:04:22] \u001b[0m \u001b[0;35mCOMMAND\t\u001b[0mPOST \t \"/wd/hub/session/912f5052a3261443593104ddea3f0274/keys\"\n"
     ]
    },
    {
     "name": "stderr",
     "output_type": "stream",
     "text": [
      "WARNING: the \"keys\" command will be depcrecated soon. Please use a different command in order to avoid failures in your test after updating WebdriverIO.\n"
     ]
    },
    {
     "name": "stdout",
     "output_type": "stream",
     "text": [
      "\u001b[1;30m[16:04:22] \u001b[0m \u001b[0;35mCOMMAND\t\u001b[0mPOST \t \"/wd/hub/session/912f5052a3261443593104ddea3f0274/keys\"\n"
     ]
    },
    {
     "name": "stderr",
     "output_type": "stream",
     "text": [
      "WARNING: the \"keys\" command will be depcrecated soon. Please use a different command in order to avoid failures in your test after updating WebdriverIO.\n"
     ]
    },
    {
     "name": "stdout",
     "output_type": "stream",
     "text": [
      "\u001b[1;30m[16:04:23] \u001b[0m \u001b[0;35mCOMMAND\t\u001b[0mPOST \t \"/wd/hub/session/912f5052a3261443593104ddea3f0274/keys\"\n",
      "\u001b[1;30m[16:04:43] \u001b[0m \u001b[0;35mCOMMAND\t\u001b[0mPOST \t \"/wd/hub/session/912f5052a3261443593104ddea3f0274/element\"\n",
      "\u001b[1;30m[16:04:43] \u001b[0m \u001b[0;35mCOMMAND\t\u001b[0mPOST \t \"/wd/hub/session/912f5052a3261443593104ddea3f0274/element/0.7119447754970629-1/click\"\n"
     ]
    },
    {
     "name": "stderr",
     "output_type": "stream",
     "text": [
      "WARNING: the \"keys\" command will be depcrecated soon. Please use a different command in order to avoid failures in your test after updating WebdriverIO.\n"
     ]
    },
    {
     "name": "stdout",
     "output_type": "stream",
     "text": [
      "\u001b[1;30m[16:04:43] \u001b[0m \u001b[0;35mCOMMAND\t\u001b[0mPOST \t \"/wd/hub/session/912f5052a3261443593104ddea3f0274/keys\"\n"
     ]
    },
    {
     "name": "stderr",
     "output_type": "stream",
     "text": [
      "WARNING: the \"keys\" command will be depcrecated soon. Please use a different command in order to avoid failures in your test after updating WebdriverIO.\n"
     ]
    },
    {
     "name": "stdout",
     "output_type": "stream",
     "text": [
      "\u001b[1;30m[16:04:43] \u001b[0m \u001b[0;35mCOMMAND\t\u001b[0mPOST \t \"/wd/hub/session/912f5052a3261443593104ddea3f0274/keys\"\n"
     ]
    },
    {
     "name": "stderr",
     "output_type": "stream",
     "text": [
      "WARNING: the \"keys\" command will be depcrecated soon. Please use a different command in order to avoid failures in your test after updating WebdriverIO.\n"
     ]
    },
    {
     "name": "stdout",
     "output_type": "stream",
     "text": [
      "\u001b[1;30m[16:04:44] \u001b[0m \u001b[0;35mCOMMAND\t\u001b[0mPOST \t \"/wd/hub/session/912f5052a3261443593104ddea3f0274/keys\"\n"
     ]
    },
    {
     "data": {
      "text/plain": [
       "[ undefined,\n",
       "  undefined,\n",
       "  undefined,\n",
       "  undefined,\n",
       "  undefined,\n",
       "  undefined,\n",
       "  undefined,\n",
       "  undefined,\n",
       "  undefined ]"
      ]
     },
     "execution_count": 2,
     "metadata": {},
     "output_type": "execute_result"
    }
   ],
   "source": [
    "var importer = require('../Core');\n",
    "var runSeleniumCell = importer.import('selenium cell');\n",
    "\n",
    "var query = 'list of search engines';\n",
    "\n",
    "var tileWindows, jokes, windows, sendFacebookMessage;\n",
    "\n",
    "var friends = [\n",
    "    \n",
    "    \n",
    "    /*\n",
    "\n",
    "//    'https://www.facebook.com/messages/t/robert.holweger',\n",
    "//    'https://www.facebook.com/messages/t/tintin.katy512',\n",
    "//    'https://www.facebook.com/messages/t/greg.maserati.7',\n",
    "//    'https://www.facebook.com/messages/t/scott.johnson.31149359',\n",
    "//    'https://www.facebook.com/messages/t/railhunk',\n",
    "//'https://www.facebook.com/messages/t/jeff.coffman.92',\n",
    "//'https://www.facebook.com/messages/t/robert.holweger',\n",
    "//'https://www.facebook.com/messages/t/100015169534875',\n",
    "//'https://www.facebook.com/messages/t/chase.mcvey.9',\n",
    "//'https://www.facebook.com/messages/t/Lloydster4',\n",
    "//'https://www.facebook.com/messages/t/jessegill'\n",
    "//'https://www.facebook.com/messages/t/lisa.potter.7140',\n",
    "//'https://www.facebook.com/messages/t/StevenLockhart123',\n",
    "//'https://www.facebook.com/messages/t/lidia.ws.7',\n",
    "//'https://www.facebook.com/messages/t/corinne.cullinan',\n",
    "//'https://www.facebook.com/messages/t/andreas.stylianou.98',\n",
    "\n",
    "\n",
    "    \n",
    "    'https://www.facebook.com/messages/t/ryan.raub',\n",
    "    'https://www.facebook.com/messages/t/brian.harris.01',\n",
    "    'https://www.facebook.com/messages/t/borikoni',\n",
    "    'https://www.facebook.com/messages/t/tim.bangert.3',\n",
    "    'https://www.facebook.com/messages/t/jsims730',\n",
    "    'https://www.facebook.com/messages/t/Ryan-A-Stoffko-1784292651894577',\n",
    "    'https://www.facebook.com/messages/t/sonu.karve.94',\n",
    "    'https://www.facebook.com/messages/t/jason.hornack',\n",
    "    'https://www.facebook.com/messages/t/BumpyJonson',\n",
    "    'https://www.facebook.com/messages/t/frank.vitale01',\n",
    "    'https://www.facebook.com/messages/t/jeff.kalina.79',\n",
    "    'https://www.facebook.com/messages/t/demi.s.jiang',\n",
    "    'https://www.facebook.com/messages/t/stephen.baier',\n",
    "    'https://www.facebook.com/messages/t/mietusmm',\n",
    "    'https://www.facebook.com/messages/t/chris.huie.14',\n",
    "    'https://www.facebook.com/messages/t/vitali.kaush',\n",
    "    'https://www.facebook.com/messages/t/FJoeAZ',\n",
    "    'https://www.facebook.com/messages/t/SusanAgresta',\n",
    "    'https://www.facebook.com/messages/t/andrew.s.mcvey.3',\n",
    "    'https://www.facebook.com/messages/t/faulkner.shane',\n",
    "    'https://www.facebook.com/messages/t/100013570236133',\n",
    "    'https://www.facebook.com/messages/t/ryan.stoffko',\n",
    "    'https://www.facebook.com/messages/t/6212130467169267713',\n",
    "    'https://www.facebook.com/messages/t/joanna.street24',\n",
    "    'https://www.facebook.com/messages/t/stephanie.desertgirl',\n",
    "    'https://www.facebook.com/messages/t/vladimir.zuzukin',\n",
    "    'https://www.facebook.com/messages/t/ScientificMaster.Me',\n",
    "    'https://www.facebook.com/messages/t/maungkyarphyuu',\n",
    "    'https://www.facebook.com/messages/t/maciejc',\n",
    "    'https://www.facebook.com/messages/t/travis.hudson.507',\n",
    "    'https://www.facebook.com/messages/t/ryan.raub',\n",
    "    'https://www.facebook.com/messages/t/jennifer.reaves.58',\n",
    "    'https://www.facebook.com/messages/t/jeff.kalina.79',\n",
    "    'https://www.facebook.com/messages/t/talbert.tso',\n",
    "    'https://www.facebook.com/messages/t/greg.maserati.7',\n",
    "    'https://www.facebook.com/messages/t/katya.geissler',\n",
    "    'https://www.facebook.com/messages/t/100008264283932',\n",
    "    'https://www.facebook.com/messages/t/frederick.murphy.56',\n",
    "    'https://www.facebook.com/messages/t/april.knapp.13',\n",
    "    'https://www.facebook.com/messages/t/carisa.knight6000',\n",
    "    'https://www.facebook.com/messages/t/Jakebot12',\n",
    "    'https://www.facebook.com/messages/t/nathaniel.ellingson.3',\n",
    "    'https://www.facebook.com/messages/t/4dumbdogs',\n",
    "    'https://www.facebook.com/messages/t/marv.thornsberry',\n",
    "    'https://www.facebook.com/messages/t/benjamin.maynard.9',\n",
    "    'https://www.facebook.com/messages/t/enzo.armetta',\n",
    "    'https://www.facebook.com/messages/t/MCChopper',\n",
    "    'https://www.facebook.com/messages/t/suzi.abramsonjohnson',\n",
    "    'https://www.facebook.com/messages/t/chris.paschall.37',\n",
    "    'https://www.facebook.com/messages/t/tynababbit15',\n",
    "    'https://www.facebook.com/messages/t/colleen.k.cullinan',\n",
    "    'https://www.facebook.com/messages/t/ivana.vilotic.7',\n",
    "    'https://www.facebook.com/messages/t/mark.camacho.50',\n",
    "    'https://www.facebook.com/messages/t/fellchase2.0',\n",
    "    'https://www.facebook.com/messages/t/mietusmm',\n",
    "    'https://www.facebook.com/messages/t/lemcvey',\n",
    "    'https://www.facebook.com/messages/t/100010177366596',\n",
    "    'https://www.facebook.com/messages/t/julie.davis.792',\n",
    "    'https://www.facebook.com/messages/t/tblondi',\n",
    "    'https://www.facebook.com/messages/t/JesusAndTheAngels',\n",
    "    'https://www.facebook.com/messages/t/callie.m.cullinan',\n",
    "    'https://www.facebook.com/messages/t/Valorie.PONY.Teter',\n",
    "    'https://www.facebook.com/messages/t/RogerRohweder',\n",
    "    'https://www.facebook.com/messages/t/caudill.619',\n",
    "    'https://www.facebook.com/messages/t/1623650947',\n",
    "    'https://www.facebook.com/messages/t/cindy.huelskampjudy',\n",
    "    'https://www.facebook.com/messages/t/100015169534875',\n",
    "    'https://www.facebook.com/messages/t/brian.daviesjones.3',\n",
    "    'https://www.facebook.com/messages/t/100005972775784',\n",
    "    'https://www.facebook.com/messages/t/diane.weaver.948',\n",
    "    'https://www.facebook.com/messages/t/jason.hornack',\n",
    "    'https://www.facebook.com/messages/t/chase.mcvey.9',\n",
    "    'https://www.facebook.com/messages/t/100006728686581',\n",
    "    'https://www.facebook.com/messages/t/100013570236133',\n",
    "    'https://www.facebook.com/messages/t/6212130467169267713',\n",
    "    'https://www.facebook.com/messages/t/tim.bangert.3',\n",
    "    'https://www.facebook.com/messages/t/katie.hiro',\n",
    "    'https://www.facebook.com/messages/t/armando.moreno.90',\n",
    "    'https://www.facebook.com/messages/t/john.kaniecki.3',\n",
    "    'https://www.facebook.com/messages/t/chris.cullinan.792',\n",
    "    'https://www.facebook.com/messages/t/ryan.stoffko',\n",
    "    'https://www.facebook.com/messages/t/joanna.street24',\n",
    "    'https://www.facebook.com/messages/t/stephanie.desertgirl',\n",
    "    'https://www.facebook.com/messages/t/rohwedernt',\n",
    "    'https://www.facebook.com/messages/t/david.earl.smith',\n",
    "    'https://www.facebook.com/messages/t/lemcvey',\n",
    "    'https://www.facebook.com/messages/t/teresa.cvach',\n",
    "    'https://www.facebook.com/messages/t/firealwaysworks',\n",
    "    'https://www.facebook.com/messages/t/crystaldgraziano',\n",
    "    'https://www.facebook.com/messages/t/faulkner.shane',\n",
    "    'https://www.facebook.com/messages/t/colleen.k.cullinan',\n",
    "    'https://www.facebook.com/messages/t/lemcvey',\n",
    "    'https://www.facebook.com/messages/t/james.cullinan.315',\n",
    "    'https://www.facebook.com/messages/t/jaimeneufer',\n",
    "    'https://www.facebook.com/messages/t/nathaniel.ellingson.3',\n",
    "    'https://www.facebook.com/messages/t/aneesh.karve',\n",
    "    'https://www.facebook.com/messages/t/robert.chandler',\n",
    "    'https://www.facebook.com/messages/t/robert.holweger',\n",
    "    'https://www.facebook.com/messages/t/keifer.street',\n",
    "    'https://www.facebook.com/messages/t/mynameisjane',\n",
    "    'https://www.facebook.com/messages/t/ragunr',\n",
    "    'https://www.facebook.com/messages/t/johan.larson.56',\n",
    "    'https://www.facebook.com/messages/t/abe.pralle',\n",
    "    'https://www.facebook.com/messages/t/crystaldgraziano',\n",
    "    'https://www.facebook.com/messages/t/wolfdieter.otte',\n",
    "    'https://www.facebook.com/messages/t/carisa.knight6000',\n",
    "    'https://www.facebook.com/messages/t/talbert.tso',\n",
    "    'https://www.facebook.com/messages/t/abe.anwary',\n",
    "    'https://www.facebook.com/messages/t/devin.west2',\n",
    "    'https://www.facebook.com/messages/t/eurostar88',\n",
    "    */\n",
    "];\n",
    "\n",
    "function tellJokes() {\n",
    "    // get multiple sets of 9 working for single page scraping in parallel\n",
    "    return runSeleniumCell([\n",
    "        'tile chrome windows',\n",
    "        'log in facebook',\n",
    "        'send facebook message',\n",
    "        'send a joke'\n",
    "    ])\n",
    "        .then(r => {\n",
    "            tileWindows = r.tileWindows;\n",
    "            sendFacebookMessage = r.sendFacebookMessage;\n",
    "            sendJoke = r.sendJoke;\n",
    "            return r.loginFacebook()\n",
    "        })\n",
    "        .then(() => tileWindows(friends))\n",
    "        .then(windows => {\n",
    "            return importer.runAllPromises(windows.value.map(hwnd => resolve => {\n",
    "                return sendJoke(hwnd).then(() => resolve());\n",
    "            }))\n",
    "        })\n",
    "        .catch(e => console.log(e))\n",
    "}\n",
    "\n",
    "$$.async();\n",
    "tellJokes()\n",
    "    .then(r => $$.sendResult(r))\n",
    "    .catch(e => $$.sendError(e))\n"
   ]
  },
  {
   "cell_type": "markdown",
   "metadata": {},
   "source": [
    "clean up old selenium sessions?"
   ]
  },
  {
   "cell_type": "code",
   "execution_count": 1,
   "metadata": {},
   "outputs": [
    {
     "data": {
      "text/plain": [
       "[Function: cleanUpSessions]"
      ]
     },
     "execution_count": 1,
     "metadata": {},
     "output_type": "execute_result"
    }
   ],
   "source": [
    "var importer = require('../Core');\n",
    "var execCmd = importer.import('spawn child process');\n",
    "var runSeleniumCell = importer.import('selenium cell');\n",
    "var createWebdriverClient = importer.import('webdriver client');\n",
    "\n",
    "var regexToArray = (ex, str, i = 0) => {\n",
    "    var co = []; var m; while ((m = ex.exec(str)) && co.push(m[i])); return co;\n",
    "};\n",
    "\n",
    "var client, sessions;\n",
    "function cleanUpSessions() {\n",
    "    return execCmd('docker logs act-selenium')\n",
    "        .then(r => regexToArray(/\\/session\\/(.+?)\\//ig, r.join('\\n'), 1))\n",
    "        .then(r => sessions = r.filter((s, i, arr) => arr.indexOf(s) === i))\n",
    "        .then(() => client = createWebdriverClient())\n",
    "        .then(() => {\n",
    "            return importer.runAllPromises(sessions.map(session => (resolve) => {\n",
    "                client.requestHandler.sessionID = session;\n",
    "                client\n",
    "                    .windowHandle()\n",
    "                    .then(r => client.window(r.value))\n",
    "                    .session()\n",
    "                    .end()\n",
    "                    .then(s => resolve(s.sessionId))\n",
    "                    .catch(e => resolve())\n",
    "            }))\n",
    "        })\n",
    "}\n",
    "module.exports = cleanUpSessions;\n"
   ]
  },
  {
   "cell_type": "code",
   "execution_count": null,
   "metadata": {},
   "outputs": [
    {
     "name": "stdout",
     "output_type": "stream",
     "text": [
      "Waiting xvfb...\n",
      "Warning: could not find self.pem\n",
      "Using installed websockify at /usr/bin/websockify\n",
      "Starting webserver and WebSockets proxy on port 6080\n",
      "\n",
      "04:29:03.689 INFO - Selenium build info: version: '3.5.0', revision: '8def36e068'\n",
      "04:29:03.691 INFO - Launching a standalone Selenium Server\n",
      "2017-11-10 04:29:03.734:INFO::main: Logging initialized @837ms to org.seleniumhq.jetty9.util.log.StdErrLog\n",
      "04:29:03.836 INFO - Driver class not found: com.opera.core.systems.OperaDriver\n",
      "\n",
      "\n",
      "Navigate to this URL:\n",
      "\n",
      "    http://812c908edbad:6080/vnc.html?host=812c908edbad&port=6080\n",
      "\n",
      "Press Ctrl-C to exit\n",
      "\n",
      "\n",
      "04:29:03.894 INFO - Driver provider class org.openqa.selenium.ie.InternetExplorerDriver registration is skipped:\n",
      " registration capabilities Capabilities [{ensureCleanSession=true, browserName=internet explorer, version=, platform=WINDOWS}] does not match the current platform LINUX\n",
      "04:29:03.894 INFO - Driver provider class org.openqa.selenium.edge.EdgeDriver registration is skipped:\n",
      " registration capabilities Capabilities [{browserName=MicrosoftEdge, version=, platform=WINDOWS}] does not match the current platform LINUX\n",
      "04:29:03.895 INFO - Driver provider class org.openqa.selenium.safari.SafariDriver registration is skipped:\n",
      " registration capabilities Capabilities [{browserName=safari, version=, platform=MAC}] does not match the current platform LINUX\n",
      "04:29:03.934 INFO - Using the passthrough mode handler\n",
      "2017-11-10 04:29:03.980:INFO:osjs.Server:main: jetty-9.4.5.v20170502\n",
      "2017-11-10 04:29:04.017:WARN:osjs.SecurityHandler:main: ServletContext@o.s.j.s.ServletContextHandler@2286778{/,null,STARTING} has uncovered http methods for path: /\n",
      "2017-11-10 04:29:04.026:INFO:osjsh.ContextHandler:main: Started o.s.j.s.ServletContextHandler@2286778{/,null,AVAILABLE}\n",
      "2017-11-10 04:29:04.068:INFO:osjs.AbstractConnector:main: Started ServerConnector@cd2dae5{HTTP/1.1,[http/1.1]}{0.0.0.0:4444}\n",
      "2017-11-10 04:29:04.071:INFO:osjs.Server:main: Started @1174ms\n",
      "04:29:04.071 INFO - Selenium Server is up and running\n",
      "\n"
     ]
    },
    {
     "name": "stderr",
     "output_type": "stream",
     "text": [
      "sed: can't read /usr/profile/Default/Preferences: No such file or directory\n",
      "sed: can't read /usr/profile/Default/Preferences: No such file or directory\n",
      "Failed to read: session.ignoreBorder\n",
      "Setting default value\n",
      "Failed to read: session.forcePseudoTransparency\n",
      "Setting default value\n",
      "Failed to read: session.colorsPerChannel\n",
      "Setting default value\n",
      "Failed to read: session.doubleClickInterval\n",
      "Setting default value\n",
      "Failed to read: session.tabPadding\n",
      "Setting default value\n",
      "Failed to read: session.styleOverlay\n",
      "Setting default value\n",
      "Failed to read: session.slitlistFile\n",
      "Setting default value\n",
      "Failed to read: session.appsFile\n",
      "Setting default value\n",
      "Failed to read: session.tabsAttachArea\n",
      "Setting default value\n",
      "Failed to read: session.cacheLife\n",
      "Setting default value\n",
      "Failed to read: session.cacheMax\n",
      "Setting default value\n",
      "Failed to read: session.autoRaiseDelay\n",
      "Setting default value\n",
      "Failed to read: session.ignoreBorder\n",
      "Setting default value\n",
      "Failed to read: session.forcePseudoTransparency\n",
      "Setting default value\n",
      "Failed to read: session.colorsPerChannel\n",
      "Setting default value\n",
      "Failed to read: session.doubleClickInterval\n",
      "Setting default value\n",
      "Failed to read: session.tabPadding\n",
      "Setting default value\n",
      "Failed to read: session.styleOverlay\n",
      "Setting default value\n",
      "Failed to read: session.slitlistFile\n",
      "Setting default value\n",
      "Failed to read: session.appsFile\n",
      "Setting default value\n",
      "Failed to read: session.tabsAttachArea\n",
      "Setting default value\n",
      "Failed to read: session.cacheLife\n",
      "Setting default value\n",
      "Failed to read: session.cacheMax\n",
      "Setting default value\n",
      "Failed to read: session.autoRaiseDelay\n",
      "Setting default value\n",
      "10/11/2017 04:29:02 passing arg to libvncserver: -rfbport\n",
      "10/11/2017 04:29:02 passing arg to libvncserver: 5900\n",
      "10/11/2017 04:29:02 -usepw: found /home/seluser/.vnc/passwd\n",
      "10/11/2017 04:29:02 x11vnc version: 0.9.13 lastmod: 2011-08-10  pid: 36\n",
      "WebSocket server settings:\n",
      "  - Listen on :6080\n",
      "  - Flash security policy server\n",
      "  - Web server. Web root: /home/seluser/novnc\n",
      "  - No SSL/TLS support (no cert file)\n",
      "  - proxying from :6080 to localhost:5900\n",
      "Failed to read: session.screen0.opaqueMove\n",
      "Setting default value\n",
      "Failed to read: session.screen0.fullMaximization\n",
      "Setting default value\n",
      "Failed to read: session.screen0.maxIgnoreIncrement\n",
      "Setting default value\n",
      "Failed to read: session.screen0.maxDisableMove\n",
      "Setting default value\n",
      "Failed to read: session.screen0.maxDisableResize\n",
      "Setting default value\n",
      "Failed to read: session.screen0.workspacewarping\n",
      "Setting default value\n",
      "Failed to read: session.screen0.showwindowposition\n",
      "Setting default value\n",
      "Failed to read: session.screen0.autoRaise\n",
      "Setting default value\n",
      "Failed to read: session.screen0.clickRaises\n",
      "Setting default value\n",
      "Failed to read: session.screen0.defaultDeco\n",
      "Setting default value\n",
      "Failed to read: session.screen0.tab.placement\n",
      "Setting default value\n",
      "Failed to read: session.screen0.windowMenu\n",
      "Setting default value\n",
      "Failed to read: session.screen0.noFocusWhileTypingDelay\n",
      "Setting default value\n",
      "Failed to read: session.screen0.workspaces\n",
      "Setting default value\n",
      "Failed to read: session.screen0.edgeSnapThreshold\n",
      "Setting default value\n",
      "Failed to read: session.screen0.window.focus.alpha\n",
      "Setting default value\n",
      "Failed to read: session.screen0.window.unfocus.alpha\n",
      "Setting default value\n",
      "Failed to read: session.screen0.menu.alpha\n",
      "Setting default value\n",
      "Failed to read: session.screen0.menuDelay\n",
      "Setting default value\n",
      "Failed to read: session.screen0.tab.width\n",
      "Setting default value\n",
      "Failed to read: session.screen0.tooltipDelay\n",
      "Setting default value\n",
      "Failed to read: session.screen0.allowRemoteActions\n",
      "Setting default value\n",
      "Failed to read: session.screen0.clientMenu.usePixmap\n",
      "Setting default value\n",
      "Failed to read: session.screen0.tabs.usePixmap\n",
      "Setting default value\n",
      "Failed to read: session.screen0.tabs.maxOver\n",
      "Setting default value\n",
      "Failed to read: session.screen0.tabs.intitlebar\n",
      "Setting default value\n",
      "Failed to read: session.screen0.focusModel\n",
      "Setting default value\n",
      "Failed to read: session.screen0.tabFocusModel\n",
      "Setting default value\n",
      "Failed to read: session.screen0.focusNewWindows\n",
      "Setting default value\n",
      "Failed to read: session.screen0.focusSameHead\n",
      "Setting default value\n",
      "Failed to read: session.screen0.rowPlacementDirection\n",
      "Setting default value\n",
      "Failed to read: session.screen0.colPlacementDirection\n",
      "Setting default value\n",
      "Failed to read: session.screen0.windowPlacement\n",
      "Setting default value\n",
      "Failed to read: session.ignoreBorder\n",
      "Setting default value\n",
      "Failed to read: session.forcePseudoTransparency\n",
      "Setting default value\n",
      "Failed to read: session.colorsPerChannel\n",
      "Setting default value\n",
      "Failed to read: session.doubleClickInterval\n",
      "Setting default value\n",
      "Failed to read: session.tabPadding\n",
      "Setting default value\n",
      "Failed to read: session.styleOverlay\n",
      "Setting default value\n",
      "Failed to read: session.slitlistFile\n",
      "Setting default value\n",
      "Failed to read: session.appsFile\n",
      "Setting default value\n",
      "Failed to read: session.tabsAttachArea\n",
      "Setting default value\n",
      "Failed to read: session.cacheLife\n",
      "Setting default value\n",
      "Failed to read: session.cacheMax\n",
      "Setting default value\n",
      "Failed to read: session.autoRaiseDelay\n",
      "Setting default value\n",
      "Failed to read: session.screen0.opaqueMove\n",
      "Setting default value\n",
      "Failed to read: session.screen0.fullMaximization\n",
      "Setting default value\n",
      "Failed to read: session.screen0.maxIgnoreIncrement\n",
      "Setting default value\n",
      "Failed to read: session.screen0.maxDisableMove\n",
      "Setting default value\n",
      "Failed to read: session.screen0.maxDisableResize\n",
      "Setting default value\n",
      "Failed to read: session.screen0.workspacewarping\n",
      "Setting default value\n",
      "Failed to read: session.screen0.showwindowposition\n",
      "Setting default value\n",
      "Failed to read: session.screen0.autoRaise\n",
      "Setting default value\n",
      "Failed to read: session.screen0.clickRaises\n",
      "Setting default value\n",
      "Failed to read: session.screen0.defaultDeco\n",
      "Setting default value\n",
      "Failed to read: session.screen0.tab.placement\n",
      "Setting default value\n",
      "Failed to read: session.screen0.windowMenu\n",
      "Setting default value\n",
      "Failed to read: session.screen0.noFocusWhileTypingDelay\n",
      "Setting default value\n",
      "Failed to read: session.screen0.workspaces\n",
      "Setting default value\n",
      "Failed to read: session.screen0.edgeSnapThreshold\n",
      "Setting default value\n",
      "Failed to read: session.screen0.window.focus.alpha\n",
      "Setting default value\n",
      "Failed to read: session.screen0.window.unfocus.alpha\n",
      "Setting default value\n",
      "Failed to read: session.screen0.menu.alpha\n",
      "Setting default value\n",
      "Failed to read: session.screen0.menuDelay\n",
      "Setting default value\n",
      "Failed to read: session.screen0.tab.width\n",
      "Setting default value\n",
      "Failed to read: session.screen0.tooltipDelay\n",
      "Setting default value\n",
      "Failed to read: session.screen0.allowRemoteActions\n",
      "Setting default value\n",
      "Failed to read: session.screen0.clientMenu.usePixmap\n",
      "Setting default value\n",
      "Failed to read: session.screen0.tabs.usePixmap\n",
      "Setting default value\n",
      "Failed to read: session.screen0.tabs.maxOver\n",
      "Setting default value\n",
      "Failed to read: session.screen0.tabs.intitlebar\n",
      "Setting default value\n",
      "Failed to read: session.screen0.focusModel\n",
      "Setting default value\n",
      "Failed to read: session.screen0.tabFocusModel\n",
      "Setting default value\n",
      "Failed to read: session.screen0.focusNewWindows\n",
      "Setting default value\n",
      "Failed to read: session.screen0.focusSameHead\n",
      "Setting default value\n",
      "Failed to read: session.screen0.rowPlacementDirection\n",
      "Setting default value\n",
      "Failed to read: session.screen0.colPlacementDirection\n",
      "Setting default value\n",
      "Failed to read: session.screen0.windowPlacement\n",
      "Setting default value\n",
      "10/11/2017 04:29:04 Using X display :99.0\n",
      "10/11/2017 04:29:04 rootwin: 0x25c reswin: 0x400001 dpy: 0x166e9b0\n",
      "10/11/2017 04:29:04 \n",
      "10/11/2017 04:29:04 ------------------ USEFUL INFORMATION ------------------\n",
      "10/11/2017 04:29:04 \n",
      "10/11/2017 04:29:04 Wireframing: -wireframe mode is in effect for window moves.\n",
      "10/11/2017 04:29:04   If this yields undesired behavior (poor response, painting\n",
      "10/11/2017 04:29:04   errors, etc) it may be disabled:\n",
      "10/11/2017 04:29:04    - use '-nowf' to disable wireframing completely.\n",
      "10/11/2017 04:29:04    - use '-nowcr' to disable the Copy Rectangle after the\n",
      "10/11/2017 04:29:04      moved window is released in the new position.\n",
      "10/11/2017 04:29:04   Also see the -help entry for tuning parameters.\n",
      "10/11/2017 04:29:04   You can press 3 Alt_L's (Left \"Alt\" key) in a row to \n",
      "\n"
     ]
    },
    {
     "name": "stdout",
     "output_type": "stream",
     "text": [
      "PORT=5900\n",
      "\n"
     ]
    },
    {
     "name": "stderr",
     "output_type": "stream",
     "text": [
      "10/11/2017 04:29:04   repaint the screen, also see the -fixscreen option for\n",
      "10/11/2017 04:29:04   periodic repaints.\n",
      "10/11/2017 04:29:04   Note: '-scale' is on and this can cause more problems.\n",
      "10/11/2017 04:29:04 \n",
      "10/11/2017 04:29:04 XFIXES available on display, resetting cursor mode\n",
      "10/11/2017 04:29:04   to: '-cursor most'.\n",
      "10/11/2017 04:29:04   to disable this behavior use: '-cursor arrow'\n",
      "10/11/2017 04:29:04   or '-noxfixes'.\n",
      "10/11/2017 04:29:04 using XFIXES for cursor drawing.\n",
      "10/11/2017 04:29:04 GrabServer control via XTEST.\n",
      "10/11/2017 04:29:04 \n",
      "10/11/2017 04:29:04 Scroll Detection: -scrollcopyrect mode is in effect to\n",
      "10/11/2017 04:29:04   use RECORD extension to try to detect scrolling windows\n",
      "10/11/2017 04:29:04   (induced by either user keystroke or mouse input).\n",
      "10/11/2017 04:29:04   If this yields undesired behavior (poor response, painting\n",
      "10/11/2017 04:29:04   errors, etc) it may be disabled via: '-noscr'\n",
      "10/11/2017 04:29:04   Also see the -help entry for tuning parameters.\n",
      "10/11/2017 04:29:04   You can press 3 Alt_L's (Left \"Alt\" key) in a row to \n",
      "10/11/2017 04:29:04   repaint the screen, also see the -fixscreen option for\n",
      "10/11/2017 04:29:04   periodic repaints.\n",
      "10/11/2017 04:29:04   Note: '-scale' is on and this can cause more problems.\n",
      "10/11/2017 04:29:04 \n",
      "10/11/2017 04:29:04 XKEYBOARD: number of keysyms per keycode 7 is greater\n",
      "10/11/2017 04:29:04   than 4 and 51 keysyms are mapped above 4.\n",
      "10/11/2017 04:29:04   Automatically switching to -xkb mode.\n",
      "10/11/2017 04:29:04   If this makes the key mapping worse you can\n",
      "10/11/2017 04:29:04   disable it with the \"-noxkb\" option.\n",
      "10/11/2017 04:29:04   Also, remember \"-remap DEAD\" for accenting characters.\n",
      "10/11/2017 04:29:04 \n",
      "10/11/2017 04:29:04 X FBPM extension not supported.\n",
      "10/11/2017 04:29:04 X display is not capable of DPMS.\n",
      "10/11/2017 04:29:04 --------------------------------------------------------\n",
      "10/11/2017 04:29:04 \n",
      "10/11/2017 04:29:04 Default visual ID: 0x21\n",
      "Failed to read: session.screen0.slit.acceptKdeDockapps\n",
      "Setting default value\n",
      "Failed to read: session.screen0.slit.autoHide\n",
      "Setting default value\n",
      "Failed to read: session.screen0.slit.maxOver\n",
      "Setting default value\n",
      "Failed to read: session.screen0.slit.placement\n",
      "Setting default value\n",
      "Failed to read: session.screen0.slit.alpha\n",
      "Setting default value\n",
      "Failed to read: session.screen0.slit.onhead\n",
      "Setting default value\n",
      "Failed to read: session.screen0.slit.layer\n",
      "Setting default value\n",
      "Failed to read: session.screen0.toolbar.autoHide\n",
      "Setting default value\n",
      "Failed to read: session.screen0.toolbar.maxOver\n",
      "Setting default value\n",
      "Failed to read: session.screen0.toolbar.visible\n",
      "Setting default value\n",
      "Failed to read: session.screen0.toolbar.alpha\n",
      "Setting default value\n",
      "Failed to read: session.screen0.toolbar.layer\n",
      "Setting default value\n",
      "Failed to read: session.screen0.toolbar.onhead\n",
      "Setting default value\n",
      "Failed to read: session.screen0.toolbar.placement\n",
      "Setting default value\n",
      "Failed to read: session.screen0.toolbar.height\n",
      "Setting default value\n",
      "Failed to read: session.screen0.iconbar.mode\n",
      "Setting default value\n",
      "Failed to read: session.screen0.iconbar.alignment\n",
      "Setting default value\n",
      "Failed to read: session.screen0.iconbar.iconWidth\n",
      "Setting default value\n",
      "Failed to read: session.screen0.iconbar.iconTextPadding\n",
      "Setting default value\n",
      "Failed to read: session.screen0.iconbar.usePixmap\n",
      "Setting default value\n",
      "10/11/2017 04:29:04 Read initial data from X display into framebuffer.\n",
      "10/11/2017 04:29:04 initialize_screen: fb_depth/fb_bpp/fb_Bpl 24/32/32640\n",
      "10/11/2017 04:29:04 scaling screen: 8160x6120 -> 2700x2048\n",
      "10/11/2017 04:29:04 scaling screen: scale_fac_x=0.33088 scale_fac_y=0.33464\n",
      "10/11/2017 04:29:04 \n",
      "10/11/2017 04:29:04 X display :99.0 is 32bpp depth=24 true color\n",
      "10/11/2017 04:29:04 \n",
      "10/11/2017 04:29:06 Listening for VNC connections on TCP port 5900\n",
      "10/11/2017 04:29:06 Listening for VNC connections on TCP6 port 5900\n",
      "10/11/2017 04:29:06 listen6: bind: Address already in use\n",
      "10/11/2017 04:29:06 Not listening on IPv6 interface.\n",
      "10/11/2017 04:29:06 \n",
      "10/11/2017 04:29:06 Xinerama is present and active (e.g. multi-head).\n",
      "10/11/2017 04:29:06 Xinerama: number of sub-screens: 1\n",
      "10/11/2017 04:29:06 Xinerama: no blackouts needed (only one sub-screen)\n",
      "10/11/2017 04:29:06 \n",
      "10/11/2017 04:29:06 fb read rate: 1358 MB/sec\n",
      "10/11/2017 04:29:06 fast read: reset -wait  ms to: 10\n",
      "10/11/2017 04:29:06 fast read: reset -defer ms to: 10\n",
      "10/11/2017 04:29:06 The X server says there are 10 mouse buttons.\n",
      "10/11/2017 04:29:06 screen setup finished.\n",
      "10/11/2017 04:29:06 \n",
      "\n",
      "The VNC desktop is:      812c908edbad:0\n",
      "\n",
      "******************************************************************************\n",
      "Have you tried the x11vnc '-ncache' VNC client-side pixel caching feature yet?\n",
      "\n",
      "The scheme stores pixel data offscreen on the VNC viewer side for faster\n",
      "retrieval.  It should work with any VNC viewer.  Try it by running:\n",
      "\n",
      "    x11vnc -ncache 10 ...\n",
      "\n",
      "One can also add -ncache_cr for smooth 'copyrect' window motion.\n",
      "More info: http://www.karlrunge.com/x11vnc/faq.html#faq-client-caching\n",
      "\n",
      "172.17.0.1 - - [10/Nov/2017 04:39:54] 172.17.0.1: Plain non-SSL (ws://) WebSocket connection\n",
      "172.17.0.1 - - [10/Nov/2017 04:39:54] 172.17.0.1: Version hybi-13, base64: 'False'\n",
      "172.17.0.1 - - [10/Nov/2017 04:39:54] 172.17.0.1: Path: '/websockify'\n",
      "172.17.0.1 - - [10/Nov/2017 04:39:54] connecting to: localhost:5900\n",
      "10/11/2017 04:39:54 Got connection from client 127.0.0.1\n",
      "10/11/2017 04:39:54   other clients:\n",
      "10/11/2017 04:39:54 Normal socket connection\n",
      "10/11/2017 04:39:54 Disabled X server key autorepeat.\n",
      "10/11/2017 04:39:54   to force back on run: 'xset r on' (3 times)\n",
      "10/11/2017 04:39:54 incr accepted_client=1 for 127.0.0.1:37164  sock=12\n",
      "10/11/2017 04:39:54 Client Protocol Version 3.8\n",
      "10/11/2017 04:39:54 Protocol version sent 3.8, using 3.8\n",
      "10/11/2017 04:39:54 rfbProcessClientSecurityType: executing handler for type 2\n",
      "10/11/2017 04:39:54 copy_tiles: allocating first_line at size 256\n",
      "10/11/2017 04:39:54 Pixel format for client 127.0.0.1:\n",
      "10/11/2017 04:39:54   32 bpp, depth 24, little endian\n",
      "10/11/2017 04:39:54   true colour: max r 255 g 255 b 255, shift r 16 g 8 b 0\n",
      "10/11/2017 04:39:54 no translation needed\n",
      "10/11/2017 04:39:55 rfbProcessClientNormalMessage: ignoring unsupported encoding type tightPng\n",
      "10/11/2017 04:39:55 Using image quality level 6 for client 127.0.0.1\n",
      "10/11/2017 04:39:55 Using JPEG subsampling 0, Q79 for client 127.0.0.1\n",
      "10/11/2017 04:39:55 Using compression level 2 for client 127.0.0.1\n",
      "10/11/2017 04:39:55 Enabling NewFBSize protocol extension for client 127.0.0.1\n",
      "10/11/2017 04:39:55 Enabling LastRect protocol extension for client 127.0.0.1\n",
      "10/11/2017 04:39:55 rfbProcessClientNormalMessage: ignoring unsupported encoding type Enc(0xFFFFFEFE)\n",
      "10/11/2017 04:39:55 rfbProcessClientNormalMessage: ignoring unsupported encoding type Enc(0xFFFFFECC)\n",
      "10/11/2017 04:39:55 Enabling Xvp protocol extension for client 127.0.0.1\n",
      "10/11/2017 04:39:55 rfbProcessClientNormalMessage: ignoring unsupported encoding type Enc(0xFFFFFEC8)\n",
      "10/11/2017 04:39:55 rfbProcessClientNormalMessage: ignoring unsupported encoding type Enc(0xFFFFFEC7)\n",
      "10/11/2017 04:39:55 Enabling full-color cursor updates for client 127.0.0.1\n",
      "10/11/2017 04:39:55 Using tight encoding for client 127.0.0.1\n",
      "10/11/2017 04:39:58 client useCopyRect: 127.0.0.1 -1\n",
      "10/11/2017 04:39:58 client_set_net: 127.0.0.1  0.0007\n",
      "10/11/2017 04:40:04 created selwin: 0x400103\n",
      "10/11/2017 04:40:04 called initialize_xfixes()\n",
      "10/11/2017 04:40:23 client_count: 0\n",
      "10/11/2017 04:40:23 Restored X server key autorepeat to: 1\n",
      "10/11/2017 04:40:23 Client 127.0.0.1 gone\n",
      "10/11/2017 04:40:23 Statistics             events    Transmit/ RawEquiv ( saved)\n",
      "10/11/2017 04:40:23  ServerCutText       :      1 |         8/        8 (  0.0%)\n",
      "10/11/2017 04:40:23  XvpServerMessage    :      1 |         4/        4 (  0.0%)\n",
      "10/11/2017 04:40:23  FramebufferUpdate   :     24 |         0/        0 (  0.0%)\n",
      "10/11/2017 04:40:23  LastRect            :      2 |        24/       24 (  0.0%)\n",
      "10/11/2017 04:40:23  tight               :     88 |     43173/ 22211100 ( 99.8%)\n",
      "10/11/2017 04:40:23  RichCursor          :      2 |       239/      239 (  0.0%)\n",
      "\n",
      "10/11/2017 04:40:23  TOTALS              :    118 |     43448/ 22211375 ( 99.8%)\n",
      "10/11/2017 04:40:23 Statistics             events    Received/ RawEquiv ( saved)\n",
      "10/11/2017 04:40:23  FramebufferUpdate   :     25 |       250/      250 (  0.0%)\n",
      "10/11/2017 04:40:23  SetEncodings        :      1 |        68/       68 (  0.0%)\n",
      "10/11/2017 04:40:23  SetPixelFormat      :      1 |        20/       20 (  0.0%)\n",
      "10/11/2017 04:40:23  TOTALS              :     27 |       338/      338 (  0.0%)\n",
      "172.17.0.1 - - [10/Nov/2017 04:40:23] 172.17.0.1: Plain non-SSL (ws://) WebSocket connection\n",
      "172.17.0.1 - - [10/Nov/2017 04:40:23] 172.17.0.1: Version hybi-13, base64: 'False'\n",
      "172.17.0.1 - - [10/Nov/2017 04:40:23] 172.17.0.1: Path: '/websockify'\n",
      "172.17.0.1 - - [10/Nov/2017 04:40:23] connecting to: localhost:5900\n",
      "10/11/2017 04:40:23 Got connection from client 127.0.0.1\n",
      "10/11/2017 04:40:23   other clients:\n",
      "10/11/2017 04:40:23 Normal socket connection\n",
      "10/11/2017 04:40:23 Disabled X server key autorepeat.\n",
      "10/11/2017 04:40:23   to force back on run: 'xset r on' (3 times)\n",
      "10/11/2017 04:40:23 incr accepted_client=2 for 127.0.0.1:37168  sock=12\n",
      "10/11/2017 04:40:23 Client Protocol Version 3.8\n",
      "10/11/2017 04:40:23 Protocol version sent 3.8, using 3.8\n",
      "10/11/2017 04:40:23 rfbProcessClientSecurityType: executing handler for type 2\n",
      "10/11/2017 04:40:23 Pixel format for client 127.0.0.1:\n",
      "10/11/2017 04:40:23   32 bpp, depth 24, little endian\n",
      "10/11/2017 04:40:23   true colour: max r 255 g 255 b 255, shift r 16 g 8 b 0\n",
      "10/11/2017 04:40:23 no translation needed\n",
      "\n"
     ]
    },
    {
     "name": "stdout",
     "output_type": "stream",
     "text": [
      "2017-11-10 04:48:00.019:INFO:osjshC.ROOT:qtp971848845-10: org.openqa.selenium.remote.server.WebDriverServlet-4678c730: Initialising WebDriverServlet\n",
      "04:48:00.061 INFO - Found handler: org.openqa.selenium.remote.server.commandhandler.NoSessionHandler@3cf6ad4f\n",
      "04:48:00.063 INFO - /session/88484f1e0aa90e53f7c2c2d315a14401/window_handle: Executing GET on /session/88484f1e0aa90e53f7c2c2d315a14401/window_handle (handler: NoSessionHandler)\n",
      "04:48:00.100 INFO - Found handler: org.openqa.selenium.remote.server.commandhandler.NoSessionHandler@227d2c21\n",
      "04:48:00.100 INFO - /session/5096e1c4d3d1e7e87910ef660b02b898/window_handle: Executing GET on /session/5096e1c4d3d1e7e87910ef660b02b898/window_handle (handler: NoSessionHandler)\n",
      "04:48:00.111 INFO - Found handler: org.openqa.selenium.remote.server.commandhandler.NoSessionHandler@3946e62b\n",
      "04:48:00.112 INFO - /session/14e96631161d2e2f1a86c86375095951/window_handle: Executing GET on /session/14e96631161d2e2f1a86c86375095951/window_handle (handler: NoSessionHandler)\n",
      "04:48:00.141 INFO - Binding default provider to: org.openqa.selenium.chrome.ChromeDriverService\n",
      "04:48:00.142 INFO - Found handler: org.openqa.selenium.remote.server.BeginSession@680e119\n",
      "04:48:00.142 INFO - /session: Executing POST on /session (handler: BeginSession)\n",
      "04:48:00.161 INFO - Capabilities are: Capabilities {rotatable=true, locationContextEnabled=true, loggingPrefs={browser=ALL, driver=ALL, }, browserName=chrome, javascriptEnabled=true, chromeOptions={prefs={download.default_directory=/data/downloads, profile.default_content_set...=2.0, exited_cleanly=true, exit_type=None, }, args=[user-data-dir=/tmp/profile-4, no-sandbox, disable-session-crashed-bubble, disable-infobars, new-window, disable-geolocation, disable-notifications, show-saved-copy, silent-debugger-extension-api], }, handlesAlerts=true, requestOrigins={url=http://webdriver.io, version=4.6.2, name=webdriverio, }, }\n",
      "04:48:00.162 INFO - Capabilities {rotatable=true, locationContextEnabled=true, loggingPrefs={browser=ALL, driver=ALL, }, browserName=chrome, javascriptEnabled=true, chromeOptions={prefs={download.default_directory=/data/downloads, profile.default_content_set...=2.0, exited_cleanly=true, exit_type=None, }, args=[user-data-dir=/tmp/profile-4, no-sandbox, disable-session-crashed-bubble, disable-infobars, new-window, disable-geolocation, disable-notifications, show-saved-copy, silent-debugger-extension-api], }, handlesAlerts=true, requestOrigins={url=http://webdriver.io, version=4.6.2, name=webdriverio, }, } matched class org.openqa.selenium.remote.server.ServicedSession$Factory (provider: org.openqa.selenium.chrome.ChromeDriverService)\n",
      "04:48:00.162 INFO - Capabilities {rotatable=true, locationContextEnabled=true, loggingPrefs={browser=ALL, driver=ALL, }, browserName=chrome, javascriptEnabled=true, chromeOptions={prefs={download.default_directory=/data/downloads, profile.default_content_set...=2.0, exited_cleanly=true, exit_type=None, }, args=[user-data-dir=/tmp/profile-4, no-sandbox, disable-session-crashed-bubble, disable-infobars, new-window, disable-geolocation, disable-notifications, show-saved-copy, silent-debugger-extension-api], }, handlesAlerts=true, requestOrigins={url=http://webdriver.io, version=4.6.2, name=webdriverio, }, } matched class org.openqa.selenium.remote.server.ServicedSession$Factory (provider: org.openqa.selenium.chrome.ChromeDriverService)\n",
      "04:48:00.163 INFO - Capabilities {rotatable=true, locationContextEnabled=true, loggingPrefs={browser=ALL, driver=ALL, }, browserName=chrome, javascriptEnabled=true, chromeOptions={prefs={download.default_directory=/data/downloads, profile.default_content_set...=2.0, exited_cleanly=true, exit_type=None, }, args=[user-data-dir=/tmp/profile-4, no-sandbox, disable-session-crashed-bubble, disable-infobars, new-window, disable-geolocation, disable-notifications, show-saved-copy, silent-debugger-extension-api], }, handlesAlerts=true, requestOrigins={url=http://webdriver.io, version=4.6.2, name=webdriverio, }, } matched class org.openqa.selenium.remote.server.ServicedSession$Factory (provider: org.openqa.selenium.chrome.ChromeDriverService)\n",
      "Starting ChromeDriver 2.31.488763 (092de99f48a300323ecf8c2a4e2e7cab51de5ba8) on port 28455\n",
      "Only local connections are allowed.\n",
      "04:48:02.505 INFO - Found handler: org.openqa.selenium.remote.server.ServicedSession@2c42480d\n",
      "04:48:02.506 INFO - Handler thread for session 2ea23b58bb2bcb06dde32598cab22a7c (chrome): Executing GET on /session/2ea23b58bb2bcb06dde32598cab22a7c (handler: ServicedSession)\n",
      "04:48:02.523 INFO - To downstream: {\"sessionId\":\"2ea23b58bb2bcb06dde32598cab22a7c\",\"status\":0,\"value\":{\"acceptSslCerts\":true,\"applicationCacheEnabled\":false,\"browserConnectionEnabled\":false,\"browserName\":\"chrome\",\"chrome\":{\"chromedriverVersion\":\"2.31.488763 (092de99f48a300323ecf8c2a4e2e7cab51de5ba8)\",\"userDataDir\":\"/tmp/profile-4\"},\"cssSelectorsEnabled\":true,\"databaseEnabled\":false,\"handlesAlerts\":true,\"hasTouchScreen\":false,\"javascriptEnabled\":true,\"locationContextEnabled\":true,\"mobileEmulationEnabled\":false,\"nativeEvents\":true,\"networkConnectionEnabled\":false,\"pageLoadStrategy\":\"normal\",\"platform\":\"Linux\",\"rotatable\":false,\"setWindowRect\":true,\"takesHeapSnapshot\":true,\"takesScreenshot\":true,\"unexpectedAlertBehaviour\":\"\",\"version\":\"60.0.3112.113\",\"webStorageEnabled\":true}}\n",
      "04:48:02.534 INFO - Found handler: org.openqa.selenium.remote.server.ServicedSession@2c42480d\n",
      "04:48:02.534 INFO - Handler thread for session 2ea23b58bb2bcb06dde32598cab22a7c (chrome): Executing GET on /session/2ea23b58bb2bcb06dde32598cab22a7c/window_handle (handler: ServicedSession)\n",
      "04:48:02.535 INFO - To downstream: {\"sessionId\":\"2ea23b58bb2bcb06dde32598cab22a7c\",\"status\":0,\"value\":\"CDwindow-ec3031a7-0ec4-4fdb-9213-def3d54a52a8\"}\n",
      "04:48:02.542 INFO - Found handler: org.openqa.selenium.remote.server.ServicedSession@2c42480d\n",
      "04:48:02.542 INFO - Handler thread for session 2ea23b58bb2bcb06dde32598cab22a7c (chrome): Executing POST on /session/2ea23b58bb2bcb06dde32598cab22a7c/window (handler: ServicedSession)\n",
      "04:48:02.544 INFO - To upstream: {\"name\":\"CDwindow-ec3031a7-0ec4-4fdb-9213-def3d54a52a8\",\"handle\":\"CDwindow-ec3031a7-0ec4-4fdb-9213-def3d54a52a8\"}\n",
      "04:48:02.546 INFO - To downstream: {\"sessionId\":\"2ea23b58bb2bcb06dde32598cab22a7c\",\"status\":0,\"value\":null}\n",
      "04:48:02.551 INFO - Found handler: org.openqa.selenium.remote.server.ServicedSession@2c42480d\n",
      "04:48:02.552 INFO - Handler thread for session 2ea23b58bb2bcb06dde32598cab22a7c (chrome): Executing GET on /session/2ea23b58bb2bcb06dde32598cab22a7c (handler: ServicedSession)\n",
      "04:48:02.553 INFO - To downstream: {\"sessionId\":\"2ea23b58bb2bcb06dde32598cab22a7c\",\"status\":0,\"value\":{\"acceptSslCerts\":true,\"applicationCacheEnabled\":false,\"browserConnectionEnabled\":false,\"browserName\":\"chrome\",\"chrome\":{\"chromedriverVersion\":\"2.31.488763 (092de99f48a300323ecf8c2a4e2e7cab51de5ba8)\",\"userDataDir\":\"/tmp/profile-4\"},\"cssSelectorsEnabled\":true,\"databaseEnabled\":false,\"handlesAlerts\":true,\"hasTouchScreen\":false,\"javascriptEnabled\":true,\"locationContextEnabled\":true,\"mobileEmulationEnabled\":false,\"nativeEvents\":true,\"networkConnectionEnabled\":false,\"pageLoadStrategy\":\"normal\",\"platform\":\"Linux\",\"rotatable\":false,\"setWindowRect\":true,\"takesHeapSnapshot\":true,\"takesScreenshot\":true,\"unexpectedAlertBehaviour\":\"\",\"version\":\"60.0.3112.113\",\"webStorageEnabled\":true}}\n",
      "04:48:02.558 INFO - Found handler: org.openqa.selenium.remote.server.commandhandler.NoSessionHandler@373f6c27\n",
      "04:48:02.558 INFO - /session/14e96631161d2e2f1a86c86375095951/window_handle: Executing GET on /session/14e96631161d2e2f1a86c86375095951/window_handle (handler: NoSessionHandler)\n",
      "04:48:02.566 INFO - Found handler: org.openqa.selenium.remote.server.commandhandler.NoSessionHandler@711236a3\n",
      "04:48:02.566 INFO - /session/5096e1c4d3d1e7e87910ef660b02b898/window_handle: Executing GET on /session/5096e1c4d3d1e7e87910ef660b02b898/window_handle (handler: NoSessionHandler)\n",
      "04:48:02.571 INFO - Found handler: org.openqa.selenium.remote.server.commandhandler.NoSessionHandler@19bed953\n",
      "\n",
      "04:48:02.572 INFO - /session/88484f1e0aa90e53f7c2c2d315a14401/window_handle: Executing GET on /session/88484f1e0aa90e53f7c2c2d315a14401/window_handle (handler: NoSessionHandler)\n",
      "04:48:02.581 INFO - Found handler: org.openqa.selenium.remote.server.ServicedSession@2c42480d\n",
      "04:48:02.581 INFO - Handler thread for session 2ea23b58bb2bcb06dde32598cab22a7c (chrome): Executing POST on /session/2ea23b58bb2bcb06dde32598cab22a7c/execute (handler: ServicedSession)\n",
      "04:48:02.583 INFO - To upstream: {\"script\":\"return (function newWindow(url) {\\n  var windowName = arguments.length > 1 && arguments[1] !== undefined ? arguments[1] : 'new window';\\n  var windowFeatures = arguments.length > 2 && arguments[2] !== undefined ? arguments[2] : '';\\n\\n  window.open(url, windowName, windowFeatures);\\n}).apply(null, arguments)\",\"args\":[\"https://google.com\",\"\",\"\"]}\n",
      "04:48:02.841 INFO - To downstream: {\"sessionId\":\"2ea23b58bb2bcb06dde32598cab22a7c\",\"status\":0,\"value\":null}\n",
      "04:48:02.866 INFO - Found handler: org.openqa.selenium.remote.server.ServicedSession@2c42480d\n",
      "04:48:02.866 INFO - Handler thread for session 2ea23b58bb2bcb06dde32598cab22a7c (chrome): Executing GET on /session/2ea23b58bb2bcb06dde32598cab22a7c/window_handles (handler: ServicedSession)\n",
      "04:48:02.872 INFO - To downstream: {\"sessionId\":\"2ea23b58bb2bcb06dde32598cab22a7c\",\"status\":0,\"value\":[\"CDwindow-ec3031a7-0ec4-4fdb-9213-def3d54a52a8\",\"CDwindow-5d3053e3-eea2-4dc8-a2c5-a481b8207e6f\"]}\n",
      "04:48:02.878 INFO - Found handler: org.openqa.selenium.remote.server.ServicedSession@2c42480d\n",
      "04:48:02.878 INFO - Handler thread for session 2ea23b58bb2bcb06dde32598cab22a7c (chrome): Executing POST on /session/2ea23b58bb2bcb06dde32598cab22a7c/window (handler: ServicedSession)\n",
      "04:48:02.880 INFO - To upstream: {\"name\":\"CDwindow-5d3053e3-eea2-4dc8-a2c5-a481b8207e6f\",\"handle\":\"CDwindow-5d3053e3-eea2-4dc8-a2c5-a481b8207e6f\"}\n",
      "04:48:02.883 INFO - To downstream: {\"sessionId\":\"2ea23b58bb2bcb06dde32598cab22a7c\",\"status\":0,\"value\":null}\n",
      "04:48:02.888 INFO - Found handler: org.openqa.selenium.remote.server.ServicedSession@2c42480d\n",
      "04:48:02.888 INFO - Handler thread for session 2ea23b58bb2bcb06dde32598cab22a7c (chrome): Executing GET on /session/2ea23b58bb2bcb06dde32598cab22a7c/window_handle (handler: ServicedSession)\n",
      "04:48:02.890 INFO - To downstream: {\"sessionId\":\"2ea23b58bb2bcb06dde32598cab22a7c\",\"status\":0,\"value\":\"CDwindow-5d3053e3-eea2-4dc8-a2c5-a481b8207e6f\"}\n",
      "04:48:02.894 INFO - Found handler: org.openqa.selenium.remote.server.ServicedSession@2c42480d\n",
      "\n",
      "04:48:02.894 INFO - Handler thread for session 2ea23b58bb2bcb06dde32598cab22a7c (chrome): Executing GET on /session/2ea23b58bb2bcb06dde32598cab22a7c/window_handles (handler: ServicedSession)\n",
      "04:48:02.896 INFO - To downstream: {\"sessionId\":\"2ea23b58bb2bcb06dde32598cab22a7c\",\"status\":0,\"value\":[\"CDwindow-ec3031a7-0ec4-4fdb-9213-def3d54a52a8\",\"CDwindow-5d3053e3-eea2-4dc8-a2c5-a481b8207e6f\"]}\n",
      "04:48:02.901 INFO - Found handler: org.openqa.selenium.remote.server.ServicedSession@2c42480d\n",
      "04:48:02.901 INFO - Handler thread for session 2ea23b58bb2bcb06dde32598cab22a7c (chrome): Executing POST on /session/2ea23b58bb2bcb06dde32598cab22a7c/window (handler: ServicedSession)\n",
      "04:48:02.902 INFO - To upstream: {\"name\":\"CDwindow-ec3031a7-0ec4-4fdb-9213-def3d54a52a8\",\"handle\":\"CDwindow-ec3031a7-0ec4-4fdb-9213-def3d54a52a8\"}\n",
      "04:48:02.916 INFO - To downstream: {\"sessionId\":\"2ea23b58bb2bcb06dde32598cab22a7c\",\"status\":0,\"value\":null}\n",
      "04:48:02.922 INFO - Found handler: org.openqa.selenium.remote.server.ServicedSession@2c42480d\n",
      "04:48:02.923 INFO - Handler thread for session 2ea23b58bb2bcb06dde32598cab22a7c (chrome): Executing GET on /session/2ea23b58bb2bcb06dde32598cab22a7c/window_handles (handler: ServicedSession)\n",
      "04:48:02.924 INFO - To downstream: {\"sessionId\":\"2ea23b58bb2bcb06dde32598cab22a7c\",\"status\":0,\"value\":[\"CDwindow-ec3031a7-0ec4-4fdb-9213-def3d54a52a8\",\"CDwindow-5d3053e3-eea2-4dc8-a2c5-a481b8207e6f\"]}\n",
      "04:48:02.930 INFO - Found handler: org.openqa.selenium.remote.server.ServicedSession@2c42480d\n",
      "04:48:02.930 INFO - Handler thread for session 2ea23b58bb2bcb06dde32598cab22a7c (chrome): Executing DELETE on /session/2ea23b58bb2bcb06dde32598cab22a7c/window (handler: ServicedSession)\n",
      "04:48:03.005 INFO - To downstream: {\"sessionId\":\"2ea23b58bb2bcb06dde32598cab22a7c\",\"status\":0,\"value\":null}\n",
      "04:48:03.015 INFO - Found handler: org.openqa.selenium.remote.server.ServicedSession@2c42480d\n",
      "04:48:03.015 INFO - Handler thread for session 2ea23b58bb2bcb06dde32598cab22a7c (chrome): Executing POST on /session/2ea23b58bb2bcb06dde32598cab22a7c/window (handler: ServicedSession)\n",
      "04:48:03.017 INFO - To upstream: {\"name\":\"CDwindow-ec3031a7-0ec4-4fdb-9213-def3d54a52a8\",\"handle\":\"CDwindow-ec3031a7-0ec4-4fdb-9213-def3d54a52a8\"}\n",
      "04:48:03.020 INFO - To downstream: {\"sessionId\":\"2ea23b58bb2bcb06dde32598cab22a7c\",\"status\":23,\"value\":{\"message\":\"no such window\\n  (Session info: chrome=60.0.3112.113)\\n  (Driver info: chromedriver=2.31.488763 (092de99f48a300323ecf8c2a4e2e7cab51de5ba8),platform=Linux 4.9.49-moby x86_64)\"}}\n",
      "04:48:03.025 INFO - Found handler: org.openqa.selenium.remote.server.ServicedSession@2c42480d\n",
      "04:48:03.025 INFO - Handler thread for session 2ea23b58bb2bcb06dde32598cab22a7c (chrome): Executing POST on /session/2ea23b58bb2bcb06dde32598cab22a7c/window (handler: ServicedSession)\n",
      "04:48:03.026 INFO - To upstream: {\"name\":\"CDwindow-5d3053e3-eea2-4dc8-a2c5-a481b8207e6f\",\"handle\":\"CDwindow-5d3053e3-eea2-4dc8-a2c5-a481b8207e6f\"}\n",
      "04:48:03.028 INFO - To downstream: {\"sessionId\":\"2ea23b58bb2bcb06dde32598cab22a7c\",\"status\":0,\"value\":null}\n",
      "04:48:03.037 INFO - Found handler: org.openqa.selenium.remote.server.ServicedSession@2c42480d\n",
      "04:48:03.038 INFO - Handler thread for session 2ea23b58bb2bcb06dde32598cab22a7c (chrome): Executing GET on /session/2ea23b58bb2bcb06dde32598cab22a7c/window_handle (handler: ServicedSession)\n",
      "04:48:03.039 INFO - To downstream: {\"sessionId\":\"2ea23b58bb2bcb06dde32598cab22a7c\",\"status\":0,\"value\":\"CDwindow-5d3053e3-eea2-4dc8-a2c5-a481b8207e6f\"}\n",
      "04:48:03.049 INFO - Found handler: org.openqa.selenium.remote.server.ServicedSession@2c42480d\n",
      "04:48:03.049 INFO - Handler thread for session 2ea23b58bb2bcb06dde32598cab22a7c (chrome): Executing GET on /session/2ea23b58bb2bcb06dde32598cab22a7c/window_handles (handler: ServicedSession)\n",
      "04:48:03.051 INFO - To downstream: {\"sessionId\":\"2ea23b58bb2bcb06dde32598cab22a7c\",\"status\":0,\"value\":[\"CDwindow-5d3053e3-eea2-4dc8-a2c5-a481b8207e6f\"]}\n",
      "04:48:03.059 INFO - Found handler: org.openqa.selenium.remote.server.ServicedSession@2c42480d\n",
      "04:48:03.059 INFO - Handler thread for session 2ea23b58bb2bcb06dde32598cab22a7c (chrome): Executing GET on /session/2ea23b58bb2bcb06dde32598cab22a7c/window_handle (handler: ServicedSession)\n",
      "04:48:03.060 INFO - To downstream: {\"sessionId\":\"2ea23b58bb2bcb06dde32598cab22a7c\",\"status\":0,\"value\":\"CDwindow-5d3053e3-eea2-4dc8-a2c5-a481b8207e6f\"}\n",
      "04:48:03.065 INFO - Found handler: org.openqa.selenium.remote.server.ServicedSession@2c42480d\n",
      "04:48:03.065 INFO - Handler thread for session 2ea23b58bb2bcb06dde32598cab22a7c (chrome): Executing POST on /session/2ea23b58bb2bcb06dde32598cab22a7c/window (handler: ServicedSession)\n",
      "04:48:03.067 INFO - To upstream: {\"name\":\"CDwindow-5d3053e3-eea2-4dc8-a2c5-a481b8207e6f\",\"handle\":\"CDwindow-5d3053e3-eea2-4dc8-a2c5-a481b8207e6f\"}\n",
      "04:48:03.088 INFO - To downstream: {\"sessionId\":\"2ea23b58bb2bcb06dde32598cab22a7c\",\"status\":0,\"value\":null}\n",
      "04:48:03.098 INFO - Found handler: org.openqa.selenium.remote.server.ServicedSession@2c42480d\n",
      "04:48:03.098 INFO - Handler thread for session 2ea23b58bb2bcb06dde32598cab22a7c (chrome): Executing GET on /session/2ea23b58bb2bcb06dde32598cab22a7c (handler: ServicedSession)\n",
      "04:48:03.100 INFO - To downstream: {\"sessionId\":\"2ea23b58bb2bcb06dde32598cab22a7c\",\"status\":0,\"value\":{\"acceptSslCerts\":true,\"applicationCacheEnabled\":false,\"browserConnectionEnabled\":false,\"browserName\":\"chrome\",\"chrome\":{\"chromedriverVersion\":\"2.31.488763 (092de99f48a300323ecf8c2a4e2e7cab51de5ba8)\",\"userDataDir\":\"/tmp/profile-4\"},\"cssSelectorsEnabled\":true,\"databaseEnabled\":false,\"handlesAlerts\":true,\"hasTouchScreen\":false,\"javascriptEnabled\":true,\"locationContextEnabled\":true,\"mobileEmulationEnabled\":false,\"nativeEvents\":true,\"networkConnectionEnabled\":false,\"pageLoadStrategy\":\"normal\",\"platform\":\"Linux\",\"rotatable\":false,\"setWindowRect\":true,\"takesHeapSnapshot\":true,\"takesScreenshot\":true,\"unexpectedAlertBehaviour\":\"\",\"version\":\"60.0.3112.113\",\"webStorageEnabled\":true}}\n",
      "04:48:03.105 INFO - Found handler: org.openqa.selenium.remote.server.commandhandler.NoSessionHandler@96f3cae\n",
      "04:48:03.106 INFO - /session/14e96631161d2e2f1a86c86375095951/window_handle: Executing GET on /session/14e96631161d2e2f1a86c86375095951/window_handle (handler: NoSessionHandler)\n",
      "04:48:03.110 INFO - Found handler: org.openqa.selenium.remote.server.commandhandler.NoSessionHandler@5b205401\n",
      "04:48:03.111 INFO - /session/5096e1c4d3d1e7e87910ef660b02b898/window_handle: Executing GET on /session/5096e1c4d3d1e7e87910ef660b02b898/window_handle (handler: NoSessionHandler)\n",
      "04:48:03.117 INFO - Found handler: org.openqa.selenium.remote.server.commandhandler.NoSessionHandler@348773b4\n",
      "04:48:03.117 INFO - /session/88484f1e0aa90e53f7c2c2d315a14401/window_handle: Executing GET on /session/88484f1e0aa90e53f7c2c2d315a14401/window_handle (handler: NoSessionHandler)\n",
      "04:48:03.124 INFO - Found handler: org.openqa.selenium.remote.server.ServicedSession@2c42480d\n",
      "04:48:03.125 INFO - Handler thread for session 2ea23b58bb2bcb06dde32598cab22a7c (chrome): Executing GET on /session/2ea23b58bb2bcb06dde32598cab22a7c/url (handler: ServicedSession)\n",
      "04:48:03.838 INFO - To downstream: {\"sessionId\":\"2ea23b58bb2bcb06dde32598cab22a7c\",\"status\":0,\"value\":\"https://www.google.com/\"}\n",
      "04:48:03.857 INFO - Found handler: org.openqa.selenium.remote.server.ServicedSession@2c42480d\n",
      "04:48:03.857 INFO - Handler thread for session 2ea23b58bb2bcb06dde32598cab22a7c (chrome): Executing GET on /session/2ea23b58bb2bcb06dde32598cab22a7c/window_handles (handler: ServicedSession)\n",
      "04:48:03.859 INFO - To downstream: {\"sessionId\":\"2ea23b58bb2bcb06dde32598cab22a7c\",\"status\":0,\"value\":[\"CDwindow-5d3053e3-eea2-4dc8-a2c5-a481b8207e6f\"]}\n",
      "04:48:03.865 INFO - Found handler: org.openqa.selenium.remote.server.ServicedSession@2c42480d\n",
      "04:48:03.865 INFO - Handler thread for session 2ea23b58bb2bcb06dde32598cab22a7c (chrome): Executing POST on /session/2ea23b58bb2bcb06dde32598cab22a7c/window (handler: ServicedSession)\n",
      "04:48:03.866 INFO - To upstream: {\"name\":\"CDwindow-5d3053e3-eea2-4dc8-a2c5-a481b8207e6f\",\"handle\":\"CDwindow-5d3053e3-eea2-4dc8-a2c5-a481b8207e6f\"}\n",
      "04:48:03.868 INFO - To downstream: {\"sessionId\":\"2ea23b58bb2bcb06dde32598cab22a7c\",\"status\":0,\"value\":null}\n",
      "\n",
      "[ 1510637706819, 'efc69a42acc1247d96fc1660cbab1e9c' ]\n",
      "\u001b[1;30m[22:36:43] \u001b[0m \u001b[0;35mCOMMAND\t\u001b[0mGET \t \"/wd/hub/session/efc69a42acc1247d96fc1660cbab1e9c/window_handle\"\n",
      "\u001b[1;30m[22:36:43] \u001b[0m \u001b[0;35mCOMMAND\t\u001b[0mPOST \t \"/wd/hub/session/efc69a42acc1247d96fc1660cbab1e9c/window\"\n",
      "\u001b[1;30m[22:36:44] \u001b[0m \u001b[0;35mCOMMAND\t\u001b[0mGET \t \"/wd/hub/session/efc69a42acc1247d96fc1660cbab1e9c\"\n",
      "[ 1510637707717, 'bf7964e07ecc330968d1bbf9c9334693' ]\n",
      "\u001b[1;30m[22:36:44] \u001b[0m \u001b[0;35mCOMMAND\t\u001b[0mGET \t \"/wd/hub/session/bf7964e07ecc330968d1bbf9c9334693/window_handle\"\n",
      "\u001b[1;30m[22:36:44] \u001b[0m \u001b[0;35mCOMMAND\t\u001b[0mPOST \t \"/wd/hub/session/bf7964e07ecc330968d1bbf9c9334693/window\"\n",
      "\u001b[1;30m[22:36:45] \u001b[0m \u001b[0;35mCOMMAND\t\u001b[0mGET \t \"/wd/hub/session/bf7964e07ecc330968d1bbf9c9334693\"\n",
      "[ 1510637708552, '35b322dbfef60abc8536a98c271158fd' ]\n",
      "\u001b[1;30m[22:36:45] \u001b[0m \u001b[0;35mCOMMAND\t\u001b[0mGET \t \"/wd/hub/session/35b322dbfef60abc8536a98c271158fd/window_handle\"\n",
      "\u001b[1;30m[22:36:45] \u001b[0m \u001b[0;35mCOMMAND\t\u001b[0mPOST \t \"/wd/hub/session/35b322dbfef60abc8536a98c271158fd/window\"\n",
      "\u001b[1;30m[22:36:46] \u001b[0m \u001b[0;35mCOMMAND\t\u001b[0mGET \t \"/wd/hub/session/35b322dbfef60abc8536a98c271158fd\"\n",
      "[ 1510637708884, '70c1f1e880ec2a185efa345e90b57b8f' ]\n",
      "\u001b[1;30m[22:36:46] \u001b[0m \u001b[0;35mCOMMAND\t\u001b[0mGET \t \"/wd/hub/session/70c1f1e880ec2a185efa345e90b57b8f/window_handle\"\n",
      "\u001b[1;30m[22:36:46] \u001b[0m \u001b[0;35mCOMMAND\t\u001b[0mPOST \t \"/wd/hub/session/70c1f1e880ec2a185efa345e90b57b8f/window\"\n",
      "\u001b[1;30m[22:36:47] \u001b[0m \u001b[0;35mCOMMAND\t\u001b[0mGET \t \"/wd/hub/session/70c1f1e880ec2a185efa345e90b57b8f\"\n",
      "[ 1510637755758, '4396240da06751c50b39cf112ed569c2' ]\n",
      "\u001b[1;30m[22:36:47] \u001b[0m \u001b[0;35mCOMMAND\t\u001b[0mGET \t \"/wd/hub/session/4396240da06751c50b39cf112ed569c2/window_handle\"\n",
      "\u001b[1;30m[22:36:56] \u001b[0m \u001b[0;35mCOMMAND\t\u001b[0mGET \t \"/wd/hub/session/efc69a42acc1247d96fc1660cbab1e9c\"\n"
     ]
    }
   ],
   "source": [
    "$$.async()\n",
    "cleanUpSessions();"
   ]
  },
  {
   "cell_type": "code",
   "execution_count": null,
   "metadata": {},
   "outputs": [],
   "source": []
  }
 ],
 "metadata": {
  "kernelspec": {
   "display_name": "Javascript (Node.js)",
   "language": "javascript",
   "name": "javascript"
  },
  "language_info": {
   "file_extension": ".js",
   "mimetype": "application/javascript",
   "name": "javascript",
   "version": "8.6.0"
  }
 },
 "nbformat": 4,
 "nbformat_minor": 2
}
