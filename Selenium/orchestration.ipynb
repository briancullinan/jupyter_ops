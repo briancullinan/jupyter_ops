{
 "cells": [
  {
   "cell_type": "markdown",
   "metadata": {},
   "source": [
    "resize selenium window?"
   ]
  },
  {
   "cell_type": "code",
   "execution_count": null,
   "metadata": {},
   "outputs": [],
   "source": [
    "\n",
    "var rows = 6;\n",
    "var columns = 6;\n",
    "var screen = {\n",
    "    height: 1024 * 6,\n",
    "    width: 1350 * 6\n",
    "};\n",
    "\n",
    "function getScreenSize() {\n",
    "    return client\n",
    "        .windowHandle()\n",
    "        .then(r => client.windowHandleMaximize(r.value))\n",
    "        .catch(e => {})\n",
    "        .windowHandleSize()\n",
    "        .then(r => (screen = r.value))\n",
    "        .catch(e => console.log(e))\n",
    "}\n",
    "\n",
    "function resizeWindow(i = 0) {\n",
    "    i = Math.abs(i + (typeof OFFSET !== 'undefined' ? OFFSET : 0));\n",
    "    var hwnd;\n",
    "    return client\n",
    "        .windowHandle()\n",
    "        .then(r => client.window((hwnd = r.value)))\n",
    "        .then(() => typeof screen === 'undefined' ? getScreenSize() : screen)\n",
    "        .catch(e => console.log(e))\n",
    "        .then(screen => {\n",
    "            const newPosition = {\n",
    "                x: Math.floor(i % columns)\n",
    "                    * Math.floor(screen.width / columns),\n",
    "                y: Math.floor(i / columns % rows)\n",
    "                    * Math.floor(screen.height / rows)\n",
    "            };\n",
    "            console.log(newPosition);\n",
    "            return client.windowHandlePosition(hwnd, newPosition)\n",
    "        })\n",
    "        .catch(e => console.log(e))\n",
    "        .then(() => client.windowHandleSize(hwnd, {\n",
    "            width: Math.floor(screen.width / columns),\n",
    "            height: Math.floor(screen.height / rows)\n",
    "        }))\n",
    "        .catch(e => console.log(e))\n",
    "}\n",
    "\n",
    "if(typeof client.resizeWindow === 'undefined') {\n",
    "    client.addCommand('resizeWindow', resizeWindow);\n",
    "}\n",
    "module.exports = resizeWindow;\n"
   ]
  },
  {
   "cell_type": "markdown",
   "metadata": {},
   "source": [
    "only one window?\n",
    "\n"
   ]
  },
  {
   "cell_type": "code",
   "execution_count": null,
   "metadata": {},
   "outputs": [],
   "source": [
    "var importer = require('../Core');\n",
    "\n",
    "function closeAllTabs(keep) {\n",
    "    return client\n",
    "        .getTabIds()\n",
    "        .then(h => {\n",
    "            var promises = [];\n",
    "            for(var i = 0; i < h.length; i++) {\n",
    "                if(h[i] === keep) {\n",
    "                    continue;\n",
    "                }\n",
    "                promises.push((i => resolve => client\n",
    "                              .switchTab(h[i])\n",
    "                              .close()\n",
    "                              .then(() => resolve())\n",
    "                              .catch(e => resolve()))\n",
    "                              .apply(this, [i]));\n",
    "            }\n",
    "            return importer.runAllPromises(promises);\n",
    "        })\n",
    "        .catch(e => console.log(e))\n",
    "}\n",
    "\n",
    "function closeAllWindows(keep) {\n",
    "    return client\n",
    "        .windowHandles()\n",
    "        .then(h => {\n",
    "            var promises = [];\n",
    "            for(var i = 0; i < h.value.length; i++) {\n",
    "                if(h.value[i] === keep) {\n",
    "                    continue;\n",
    "                }\n",
    "                promises.push((i => resolve => client\n",
    "                              .window(h.value[i])\n",
    "                              .close()\n",
    "                              .then(() => resolve())\n",
    "                              .catch(e => resolve()))\n",
    "                              .apply(this, [i]));\n",
    "            }\n",
    "            return importer.runAllPromises(promises);\n",
    "        })\n",
    "        .window(keep)\n",
    "        .catch(e => console.log(e))\n",
    "}\n",
    "\n",
    "function onlyOneWindow() {\n",
    "    return client\n",
    "        .newWindow('https://google.com')\n",
    "        .windowHandle()\n",
    "        .then(r => closeAllWindows(r.value))\n",
    "        .getCurrentTabId()\n",
    "        .then(r => closeAllTabs(r))\n",
    "        .catch(e => console.log(e))\n",
    "    // TODO: close all tabs\n",
    "}\n",
    "\n",
    "module.exports = onlyOneWindow;\n",
    "\n"
   ]
  },
  {
   "cell_type": "markdown",
   "metadata": {},
   "source": [
    "tile selenium chrome windows?\n",
    "\n"
   ]
  },
  {
   "cell_type": "code",
   "execution_count": null,
   "metadata": {},
   "outputs": [],
   "source": [
    "var importer = require('../Core');\n",
    "var {getAllSessionUrls} = importer.import(['resize selenium window', 'get all session urls'], {client})\n",
    "\n",
    "function openUrl(url) {\n",
    "    var handles;\n",
    "    return client\n",
    "        .windowHandles()\n",
    "        .then(h => handles = h.value)\n",
    "        .execute((url, width, height) => {\n",
    "            window.open(url, '', 'width=1350,height=1024');\n",
    "        }, url)\n",
    "        .windowHandles()\n",
    "        .then(h => h.value.filter(hwnd => handles.indexOf(hwnd) === -1)[0])\n",
    "        .catch(e => console.log(e))\n",
    "}\n",
    "\n",
    "function createNewWindows(urls) {\n",
    "    var hwnd;\n",
    "    return client\n",
    "        .windowHandle()\n",
    "        .then(r => hwnd = r.value)\n",
    "        .windowHandles()\n",
    "        .then(r => {\n",
    "            // -1 first window is already used by sliced url\n",
    "            const count = urls.length - (r.value.length - 1);\n",
    "            const promises = [];\n",
    "            for(var i = 0; i < count; i++) {\n",
    "                promises.push((i => resolve => {\n",
    "                    console.log(urls[i]);\n",
    "                    return openUrl(urls[i])\n",
    "                        .window(hwnd)\n",
    "                        .then(h => resolve(h))\n",
    "                        .catch(e => { console.log(e); resolve() })\n",
    "                }).apply(this, [i]));\n",
    "            }\n",
    "            return importer.runAllPromises(promises);\n",
    "        })\n",
    "        .catch(e => console.log(e))\n",
    "}\n",
    "\n",
    "function tileWindows(urls) {\n",
    "    return client\n",
    "        .resizeWindow(0)\n",
    "        .url(typeof urls === 'string' ? urls : urls[0])\n",
    "        .then(h => typeof urls === 'string' ? [] : createNewWindows(urls.slice(1)))\n",
    "        .then(() => getAllSessionUrls())\n",
    "        .windowHandles()\n",
    "        .catch(e => console.log(e))\n",
    "}\n",
    "module.exports = tileWindows;\n",
    "\n"
   ]
  },
  {
   "cell_type": "code",
   "execution_count": null,
   "metadata": {},
   "outputs": [],
   "source": [
    "var importer = require('../Core');\n",
    "var runSeleniumCell = importer.import('selenium cell');\n",
    "\n",
    "var query = 'list of search engines';\n",
    "\n",
    "$$.async();\n",
    "// get multiple sets of 9 working for single page scraping in parallel\n",
    "runSeleniumCell('tile chrome windows')\n",
    "    .then(tileWindows => tileWindows([\n",
    "        'https://www.google.com/search?q=' + query,\n",
    "        'https://www.bing.com/search?q=' + query,\n",
    "        'https://search.yahoo.com/search?p=' + query,\n",
    "        'https://www.ask.com/web?q=' + query,\n",
    "        'https://search.aol.com/aol/search?q=' + query,\n",
    "        'https://www.baidu.com/s?wd=' + query,\n",
    "        'https://www.wolframalpha.com/input/?i=' + query,\n",
    "        'https://duckduckgo.com/?q=' + query,\n",
    "        'https://archive.org/search.php?query=' + query,\n",
    "    ]))\n",
    "    .then(r => $$.sendResult(r))\n",
    "    .catch(e => $$.sendError(e))\n",
    "\n"
   ]
  },
  {
   "cell_type": "markdown",
   "metadata": {},
   "source": [
    "get all session and window urls?\n",
    "\n"
   ]
  },
  {
   "cell_type": "code",
   "execution_count": null,
   "metadata": {},
   "outputs": [],
   "source": [
    "var importer = require('../Core');\n",
    "\n",
    "function getAllSessionUrls(reposition = true) {\n",
    "    var windowCounter = -1;\n",
    "    var session = client.requestHandler.sessionID;\n",
    "    return client\n",
    "        .getActiveSessions()\n",
    "        .then(r => {\n",
    "            console.log(r);\n",
    "            return importer.runAllPromises(r.map(s => resolve => {\n",
    "                client.requestHandler.sessionID = s;\n",
    "                return client\n",
    "                    .getUrl()\n",
    "                    .windowHandles()\n",
    "                    .then(h => importer.runAllPromises(h.value.map(hwnd => resolve => {\n",
    "                        windowCounter++\n",
    "                        return client\n",
    "                            .window(hwnd)\n",
    "                            .then(() => reposition ? resizeWindow(windowCounter) : [])\n",
    "                            .getUrl()\n",
    "                            .then(r => resolve(r))\n",
    "                            .catch(e => console.log(e))\n",
    "                    })))\n",
    "                    .then(r => resolve(r))\n",
    "                    .catch(e => console.log(e))\n",
    "            }))\n",
    "        })\n",
    "        .then(r => {\n",
    "            client.requestHandler.sessionID = session;\n",
    "            return r;\n",
    "        })\n",
    "        .catch(e => console.log(e))\n",
    "}\n",
    "\n",
    "module.exports = getAllSessionUrls;\n"
   ]
  },
  {
   "cell_type": "code",
   "execution_count": null,
   "metadata": {},
   "outputs": [],
   "source": [
    "var importer = require('../Core');\n",
    "var runSeleniumCell = importer.import('selenium cell');\n",
    "\n",
    "$$.async();\n",
    "runSeleniumCell(['resize selenium window', 'get all session urls'], false)\n",
    "    .then(r => r.getAllSessionUrls(false))\n",
    "    .then(r => $$.sendResult(r))\n",
    "    .catch(e => $$.sendError(e))\n"
   ]
  },
  {
   "cell_type": "markdown",
   "metadata": {},
   "source": [
    "send a joke?"
   ]
  },
  {
   "cell_type": "code",
   "execution_count": 12,
   "metadata": {},
   "outputs": [
    {
     "data": {
      "text/plain": [
       "[Function: sendJoke]"
      ]
     },
     "execution_count": 12,
     "metadata": {},
     "output_type": "execute_result"
    }
   ],
   "source": [
    "var util = require('util');\n",
    "var request = util.promisify(require('request'));\n",
    "\n",
    "function regexToArray(ex, str, i = 0) {\n",
    "    var co = []; var m;\n",
    "    while ((m = ex.exec(str)) && co.push(m[i]));\n",
    "    return co;\n",
    "}\n",
    "\n",
    "var jokes;\n",
    "function getJoke() {\n",
    "    return (typeof jokes === 'undefined'\n",
    "        ? request('http://www.ducksters.com/jokes/silly.php')\n",
    "        .then(res => regexToArray(/^.*?Q:.*$|^.*?A:.*$/igm, res.body))\n",
    "        .then(r => {\n",
    "            r = r.reduce((arr, j, i) => {\n",
    "                if(i % 2 === 1) {\n",
    "                    arr.push([\n",
    "                        r[i-1].replace(/<.*?\\s*\\/?>/ig, '').trim().replace(/^\\s*|\\s*$/igm, ''),\n",
    "                        j.replace(/<.*?\\s*\\/?>/ig, '').trim().replace(/^\\s*|\\s*$/igm, '')\n",
    "                    ]);\n",
    "                }\n",
    "                return arr;\n",
    "            }, []);\n",
    "            console.log(r);\n",
    "            jokes = r;\n",
    "            return r;\n",
    "        })\n",
    "        : Promise.resolve(jokes))\n",
    "        .then(arr => {\n",
    "            const i = Math.round(Math.random() * arr.length);\n",
    "            return arr[i];\n",
    "        })\n",
    "}\n",
    "\n",
    "function sendJoke(hwnd) {\n",
    "    var joke;\n",
    "    return client\n",
    "        .then(() => getJoke())\n",
    "        .then(r => joke = r)\n",
    "        .window(hwnd)\n",
    "        .then(() => sendFacebookMessage(joke[0]))\n",
    "        .pause(20000)\n",
    "        .then(() => sendFacebookMessage(joke[1]))\n",
    "}\n",
    "module.exports = sendJoke;\n"
   ]
  },
  {
   "cell_type": "markdown",
   "metadata": {},
   "source": [
    "Monitor many chats at once and continuously\n"
   ]
  },
  {
   "cell_type": "code",
   "execution_count": 1,
   "metadata": {},
   "outputs": [
    {
     "name": "stdout",
     "output_type": "stream",
     "text": [
      "Initializing webdriver on localhost\n",
      "[ 1510466788241, '6d7f6145a1776b200d1fc5abe9a88dd5' ]\n",
      "\u001b[1;30m[23:13:52] \u001b[0m \u001b[0;35mCOMMAND\t\u001b[0mGET \t \"/wd/hub/session/6d7f6145a1776b200d1fc5abe9a88dd5/window_handle\"\n",
      "\u001b[1;30m[23:13:52] \u001b[0m \u001b[0;35mCOMMAND\t\u001b[0mPOST \t \"/wd/hub/session/6d7f6145a1776b200d1fc5abe9a88dd5/window\"\n",
      "[ 1510466788351, '187c5a0e55072a91354398bd7a74fb9a' ]\n",
      "\u001b[1;30m[23:13:52] \u001b[0m \u001b[0;35mCOMMAND\t\u001b[0mGET \t \"/wd/hub/session/187c5a0e55072a91354398bd7a74fb9a/window_handle\"\n",
      "[ 1510466800615, 'ae4480a26f62f1bde47f9ced12c2b291' ]\n",
      "\u001b[1;30m[23:13:52] \u001b[0m \u001b[0;35mCOMMAND\t\u001b[0mGET \t \"/wd/hub/session/ae4480a26f62f1bde47f9ced12c2b291/window_handle\"\n",
      "\u001b[1;30m[23:13:52] \u001b[0m \u001b[0;35mCOMMAND\t\u001b[0mPOST \t \"/wd/hub/session/ae4480a26f62f1bde47f9ced12c2b291/window\"\n",
      "\u001b[1;30m[23:13:52] \u001b[0m \u001b[0;35mCOMMAND\t\u001b[0mGET \t \"/wd/hub/session/ae4480a26f62f1bde47f9ced12c2b291\"\n",
      "[ 1510466937260, '707b5f83330038abf6d6b77c41f01fca' ]\n",
      "\u001b[1;30m[23:13:52] \u001b[0m \u001b[0;35mCOMMAND\t\u001b[0mGET \t \"/wd/hub/session/707b5f83330038abf6d6b77c41f01fca/window_handle\"\n",
      "\u001b[1;30m[23:13:52] \u001b[0m \u001b[0;35mCOMMAND\t\u001b[0mPOST \t \"/wd/hub/session/707b5f83330038abf6d6b77c41f01fca/window\"\n",
      "\u001b[1;30m[23:13:52] \u001b[0m \u001b[0;35mCOMMAND\t\u001b[0mGET \t \"/wd/hub/session/707b5f83330038abf6d6b77c41f01fca\"\n",
      "[ 'ae4480a26f62f1bde47f9ced12c2b291',\n",
      "  '707b5f83330038abf6d6b77c41f01fca' ]\n",
      "\u001b[1;30m[23:13:52] \u001b[0m \u001b[0;35mCOMMAND\t\u001b[0mGET \t \"/wd/hub/session/ae4480a26f62f1bde47f9ced12c2b291\"\n",
      "ae4480a26f62f1bde47f9ced12c2b291\n",
      "\u001b[1;30m[23:13:52] \u001b[0m \u001b[0;35mCOMMAND\t\u001b[0mGET \t \"/wd/hub/session/707b5f83330038abf6d6b77c41f01fca/window_handle\"\n",
      "\u001b[1;30m[23:13:52] \u001b[0m \u001b[0;35mCOMMAND\t\u001b[0mPOST \t \"/wd/hub/session/707b5f83330038abf6d6b77c41f01fca/window\"\n",
      "\u001b[1;30m[23:13:52] \u001b[0m \u001b[0;35mCOMMAND\t\u001b[0mGET \t \"/wd/hub/session/707b5f83330038abf6d6b77c41f01fca\"\n",
      "\u001b[1;30m[23:13:52] \u001b[0m \u001b[0;35mCOMMAND\t\u001b[0mGET \t \"/wd/hub/session/ae4480a26f62f1bde47f9ced12c2b291/window_handle\"\n",
      "\u001b[1;30m[23:13:52] \u001b[0m \u001b[0;35mCOMMAND\t\u001b[0mPOST \t \"/wd/hub/session/ae4480a26f62f1bde47f9ced12c2b291/window\"\n",
      "\u001b[1;30m[23:13:52] \u001b[0m \u001b[0;35mCOMMAND\t\u001b[0mGET \t \"/wd/hub/session/ae4480a26f62f1bde47f9ced12c2b291\"\n",
      "\u001b[1;30m[23:13:52] \u001b[0m \u001b[0;35mCOMMAND\t\u001b[0mGET \t \"/wd/hub/session/187c5a0e55072a91354398bd7a74fb9a/window_handle\"\n",
      "\u001b[1;30m[23:13:52] \u001b[0m \u001b[0;35mCOMMAND\t\u001b[0mGET \t \"/wd/hub/session/6d7f6145a1776b200d1fc5abe9a88dd5/window_handle\"\n",
      "\u001b[1;30m[23:13:52] \u001b[0m \u001b[0;35mCOMMAND\t\u001b[0mPOST \t \"/wd/hub/session/6d7f6145a1776b200d1fc5abe9a88dd5/window\"\n",
      "\u001b[1;30m[23:13:53] \u001b[0m \u001b[0;35mCOMMAND\t\u001b[0mPOST \t \"/wd/hub/session/ae4480a26f62f1bde47f9ced12c2b291/execute\"\n",
      "\u001b[1;30m[23:13:53] \u001b[0m \u001b[0;35mCOMMAND\t\u001b[0mGET \t \"/wd/hub/session/ae4480a26f62f1bde47f9ced12c2b291/window_handles\"\n",
      "\u001b[1;30m[23:13:53] \u001b[0m \u001b[0;35mCOMMAND\t\u001b[0mPOST \t \"/wd/hub/session/ae4480a26f62f1bde47f9ced12c2b291/window\"\n",
      "\u001b[1;30m[23:13:53] \u001b[0m \u001b[0;35mCOMMAND\t\u001b[0mGET \t \"/wd/hub/session/ae4480a26f62f1bde47f9ced12c2b291/window_handle\"\n",
      "\u001b[1;30m[23:13:54] \u001b[0m \u001b[0;35mCOMMAND\t\u001b[0mGET \t \"/wd/hub/session/ae4480a26f62f1bde47f9ced12c2b291/window_handles\"\n",
      "\u001b[1;30m[23:13:54] \u001b[0m \u001b[0;35mCOMMAND\t\u001b[0mPOST \t \"/wd/hub/session/ae4480a26f62f1bde47f9ced12c2b291/window\"\n",
      "\u001b[1;30m[23:13:54] \u001b[0m \u001b[0;35mCOMMAND\t\u001b[0mGET \t \"/wd/hub/session/ae4480a26f62f1bde47f9ced12c2b291/window_handles\"\n",
      "\u001b[1;30m[23:13:54] \u001b[0m \u001b[0;35mCOMMAND\t\u001b[0mDELETE \t \"/wd/hub/session/ae4480a26f62f1bde47f9ced12c2b291/window\"\n",
      "\u001b[1;30m[23:13:54] \u001b[0m \u001b[0;35mCOMMAND\t\u001b[0mPOST \t \"/wd/hub/session/ae4480a26f62f1bde47f9ced12c2b291/window\"\n",
      "\u001b[1;30m[23:13:54] \u001b[0m \u001b[0;35mCOMMAND\t\u001b[0mPOST \t \"/wd/hub/session/ae4480a26f62f1bde47f9ced12c2b291/window\"\n",
      "\u001b[1;30m[23:13:54] \u001b[0m \u001b[0;35mCOMMAND\t\u001b[0mGET \t \"/wd/hub/session/ae4480a26f62f1bde47f9ced12c2b291/window_handle\"\n",
      "\u001b[1;30m[23:13:54] \u001b[0m \u001b[0;35mCOMMAND\t\u001b[0mGET \t \"/wd/hub/session/ae4480a26f62f1bde47f9ced12c2b291/window_handles\"\n",
      "\u001b[1;30m[23:13:54] \u001b[0m \u001b[0;35mCOMMAND\t\u001b[0mGET \t \"/wd/hub/session/707b5f83330038abf6d6b77c41f01fca/window_handle\"\n",
      "\u001b[1;30m[23:13:54] \u001b[0m \u001b[0;35mCOMMAND\t\u001b[0mPOST \t \"/wd/hub/session/707b5f83330038abf6d6b77c41f01fca/window\"\n",
      "\u001b[1;30m[23:13:54] \u001b[0m \u001b[0;35mCOMMAND\t\u001b[0mGET \t \"/wd/hub/session/707b5f83330038abf6d6b77c41f01fca\"\n",
      "\u001b[1;30m[23:13:54] \u001b[0m \u001b[0;35mCOMMAND\t\u001b[0mGET \t \"/wd/hub/session/ae4480a26f62f1bde47f9ced12c2b291/window_handle\"\n",
      "\u001b[1;30m[23:13:54] \u001b[0m \u001b[0;35mCOMMAND\t\u001b[0mPOST \t \"/wd/hub/session/ae4480a26f62f1bde47f9ced12c2b291/window\"\n",
      "\u001b[1;30m[23:13:54] \u001b[0m \u001b[0;35mCOMMAND\t\u001b[0mGET \t \"/wd/hub/session/ae4480a26f62f1bde47f9ced12c2b291\"\n",
      "\u001b[1;30m[23:13:54] \u001b[0m \u001b[0;35mCOMMAND\t\u001b[0mGET \t \"/wd/hub/session/187c5a0e55072a91354398bd7a74fb9a/window_handle\"\n",
      "\u001b[1;30m[23:13:54] \u001b[0m \u001b[0;35mCOMMAND\t\u001b[0mGET \t \"/wd/hub/session/6d7f6145a1776b200d1fc5abe9a88dd5/window_handle\"\n",
      "\u001b[1;30m[23:13:54] \u001b[0m \u001b[0;35mCOMMAND\t\u001b[0mPOST \t \"/wd/hub/session/6d7f6145a1776b200d1fc5abe9a88dd5/window\"\n",
      "[ '707b5f83330038abf6d6b77c41f01fca',\n",
      "  'ae4480a26f62f1bde47f9ced12c2b291' ]\n",
      "\u001b[1;30m[23:13:54] \u001b[0m \u001b[0;35mCOMMAND\t\u001b[0mGET \t \"/wd/hub/session/707b5f83330038abf6d6b77c41f01fca/url\"\n",
      "\u001b[1;30m[23:13:54] \u001b[0m \u001b[0;35mCOMMAND\t\u001b[0mGET \t \"/wd/hub/session/707b5f83330038abf6d6b77c41f01fca/window_handles\"\n",
      "\u001b[1;30m[23:13:54] \u001b[0m \u001b[0;35mCOMMAND\t\u001b[0mPOST \t \"/wd/hub/session/707b5f83330038abf6d6b77c41f01fca/window\"\n",
      "\u001b[1;30m[23:13:54] \u001b[0m \u001b[0;35mCOMMAND\t\u001b[0mGET \t \"/wd/hub/session/707b5f83330038abf6d6b77c41f01fca/window_handle\"\n",
      "\u001b[1;30m[23:13:54] \u001b[0m \u001b[0;35mCOMMAND\t\u001b[0mPOST \t \"/wd/hub/session/707b5f83330038abf6d6b77c41f01fca/window\"\n",
      "{ x: 0, y: 0 }\n",
      "\u001b[1;30m[23:13:54] \u001b[0m \u001b[0;35mCOMMAND\t\u001b[0mPOST \t \"/wd/hub/session/707b5f83330038abf6d6b77c41f01fca/window/CDwindow-f8f489d0-57af-4ee0-a348-99744d832206/position\"\n",
      "\u001b[1;30m[23:13:55] \u001b[0m \u001b[0;35mCOMMAND\t\u001b[0mPOST \t \"/wd/hub/session/707b5f83330038abf6d6b77c41f01fca/window/CDwindow-f8f489d0-57af-4ee0-a348-99744d832206/size\"\n",
      "\u001b[1;30m[23:13:55] \u001b[0m \u001b[0;35mCOMMAND\t\u001b[0mGET \t \"/wd/hub/session/707b5f83330038abf6d6b77c41f01fca/url\"\n",
      "\u001b[1;30m[23:13:55] \u001b[0m \u001b[0;35mCOMMAND\t\u001b[0mPOST \t \"/wd/hub/session/707b5f83330038abf6d6b77c41f01fca/window\"\n",
      "\u001b[1;30m[23:13:55] \u001b[0m \u001b[0;35mCOMMAND\t\u001b[0mGET \t \"/wd/hub/session/707b5f83330038abf6d6b77c41f01fca/window_handle\"\n",
      "\u001b[1;30m[23:13:55] \u001b[0m \u001b[0;35mCOMMAND\t\u001b[0mPOST \t \"/wd/hub/session/707b5f83330038abf6d6b77c41f01fca/window\"\n",
      "{ x: 1350, y: 0 }\n",
      "\u001b[1;30m[23:13:55] \u001b[0m \u001b[0;35mCOMMAND\t\u001b[0mPOST \t \"/wd/hub/session/707b5f83330038abf6d6b77c41f01fca/window/CDwindow-cc4f1260-e75b-42c6-8c86-5af1f05343de/position\"\n",
      "\u001b[1;30m[23:13:55] \u001b[0m \u001b[0;35mCOMMAND\t\u001b[0mPOST \t \"/wd/hub/session/707b5f83330038abf6d6b77c41f01fca/window/CDwindow-cc4f1260-e75b-42c6-8c86-5af1f05343de/size\"\n",
      "\u001b[1;30m[23:13:55] \u001b[0m \u001b[0;35mCOMMAND\t\u001b[0mGET \t \"/wd/hub/session/707b5f83330038abf6d6b77c41f01fca/url\"\n",
      "\u001b[1;30m[23:13:55] \u001b[0m \u001b[0;35mCOMMAND\t\u001b[0mPOST \t \"/wd/hub/session/707b5f83330038abf6d6b77c41f01fca/window\"\n",
      "\u001b[1;30m[23:13:55] \u001b[0m \u001b[0;35mCOMMAND\t\u001b[0mGET \t \"/wd/hub/session/707b5f83330038abf6d6b77c41f01fca/window_handle\"\n",
      "\u001b[1;30m[23:13:55] \u001b[0m \u001b[0;35mCOMMAND\t\u001b[0mPOST \t \"/wd/hub/session/707b5f83330038abf6d6b77c41f01fca/window\"\n",
      "{ x: 2700, y: 0 }\n",
      "\u001b[1;30m[23:13:55] \u001b[0m \u001b[0;35mCOMMAND\t\u001b[0mPOST \t \"/wd/hub/session/707b5f83330038abf6d6b77c41f01fca/window/CDwindow-c42b65e6-78b7-4ed5-8606-bca555970e15/position\"\n",
      "\u001b[1;30m[23:13:55] \u001b[0m \u001b[0;35mCOMMAND\t\u001b[0mPOST \t \"/wd/hub/session/707b5f83330038abf6d6b77c41f01fca/window/CDwindow-c42b65e6-78b7-4ed5-8606-bca555970e15/size\"\n",
      "\u001b[1;30m[23:13:55] \u001b[0m \u001b[0;35mCOMMAND\t\u001b[0mGET \t \"/wd/hub/session/707b5f83330038abf6d6b77c41f01fca/url\"\n",
      "\u001b[1;30m[23:13:55] \u001b[0m \u001b[0;35mCOMMAND\t\u001b[0mPOST \t \"/wd/hub/session/707b5f83330038abf6d6b77c41f01fca/window\"\n",
      "\u001b[1;30m[23:13:55] \u001b[0m \u001b[0;35mCOMMAND\t\u001b[0mGET \t \"/wd/hub/session/707b5f83330038abf6d6b77c41f01fca/window_handle\"\n",
      "\u001b[1;30m[23:13:55] \u001b[0m \u001b[0;35mCOMMAND\t\u001b[0mPOST \t \"/wd/hub/session/707b5f83330038abf6d6b77c41f01fca/window\"\n",
      "{ x: 4050, y: 0 }\n",
      "\u001b[1;30m[23:13:56] \u001b[0m \u001b[0;35mCOMMAND\t\u001b[0mPOST \t \"/wd/hub/session/707b5f83330038abf6d6b77c41f01fca/window/CDwindow-257c8ff7-1796-45af-b3ac-88dab26d2304/position\"\n",
      "\u001b[1;30m[23:13:56] \u001b[0m \u001b[0;35mCOMMAND\t\u001b[0mPOST \t \"/wd/hub/session/707b5f83330038abf6d6b77c41f01fca/window/CDwindow-257c8ff7-1796-45af-b3ac-88dab26d2304/size\"\n",
      "\u001b[1;30m[23:13:56] \u001b[0m \u001b[0;35mCOMMAND\t\u001b[0mGET \t \"/wd/hub/session/707b5f83330038abf6d6b77c41f01fca/url\"\n",
      "\u001b[1;30m[23:13:57] \u001b[0m \u001b[0;35mCOMMAND\t\u001b[0mPOST \t \"/wd/hub/session/707b5f83330038abf6d6b77c41f01fca/window\"\n",
      "\u001b[1;30m[23:13:57] \u001b[0m \u001b[0;35mCOMMAND\t\u001b[0mGET \t \"/wd/hub/session/707b5f83330038abf6d6b77c41f01fca/window_handle\"\n",
      "\u001b[1;30m[23:13:57] \u001b[0m \u001b[0;35mCOMMAND\t\u001b[0mPOST \t \"/wd/hub/session/707b5f83330038abf6d6b77c41f01fca/window\"\n",
      "{ x: 5400, y: 0 }\n",
      "\u001b[1;30m[23:13:57] \u001b[0m \u001b[0;35mCOMMAND\t\u001b[0mPOST \t \"/wd/hub/session/707b5f83330038abf6d6b77c41f01fca/window/CDwindow-2743b305-3404-4219-b949-56209a60aa17/position\"\n",
      "\u001b[1;30m[23:13:57] \u001b[0m \u001b[0;35mCOMMAND\t\u001b[0mPOST \t \"/wd/hub/session/707b5f83330038abf6d6b77c41f01fca/window/CDwindow-2743b305-3404-4219-b949-56209a60aa17/size\"\n",
      "\u001b[1;30m[23:13:57] \u001b[0m \u001b[0;35mCOMMAND\t\u001b[0mGET \t \"/wd/hub/session/707b5f83330038abf6d6b77c41f01fca/url\"\n",
      "\u001b[1;30m[23:13:57] \u001b[0m \u001b[0;35mCOMMAND\t\u001b[0mPOST \t \"/wd/hub/session/707b5f83330038abf6d6b77c41f01fca/window\"\n",
      "\u001b[1;30m[23:13:57] \u001b[0m \u001b[0;35mCOMMAND\t\u001b[0mGET \t \"/wd/hub/session/707b5f83330038abf6d6b77c41f01fca/window_handle\"\n",
      "\u001b[1;30m[23:13:57] \u001b[0m \u001b[0;35mCOMMAND\t\u001b[0mPOST \t \"/wd/hub/session/707b5f83330038abf6d6b77c41f01fca/window\"\n",
      "{ x: 6750, y: 0 }\n",
      "\u001b[1;30m[23:13:57] \u001b[0m \u001b[0;35mCOMMAND\t\u001b[0mPOST \t \"/wd/hub/session/707b5f83330038abf6d6b77c41f01fca/window/CDwindow-37e12b68-cfef-4eaf-99d5-af52a607f1d8/position\"\n",
      "\u001b[1;30m[23:13:57] \u001b[0m \u001b[0;35mCOMMAND\t\u001b[0mPOST \t \"/wd/hub/session/707b5f83330038abf6d6b77c41f01fca/window/CDwindow-37e12b68-cfef-4eaf-99d5-af52a607f1d8/size\"\n",
      "\u001b[1;30m[23:13:57] \u001b[0m \u001b[0;35mCOMMAND\t\u001b[0mGET \t \"/wd/hub/session/707b5f83330038abf6d6b77c41f01fca/url\"\n",
      "\u001b[1;30m[23:13:57] \u001b[0m \u001b[0;35mCOMMAND\t\u001b[0mPOST \t \"/wd/hub/session/707b5f83330038abf6d6b77c41f01fca/window\"\n",
      "\u001b[1;30m[23:13:57] \u001b[0m \u001b[0;35mCOMMAND\t\u001b[0mGET \t \"/wd/hub/session/707b5f83330038abf6d6b77c41f01fca/window_handle\"\n",
      "\u001b[1;30m[23:13:58] \u001b[0m \u001b[0;35mCOMMAND\t\u001b[0mPOST \t \"/wd/hub/session/707b5f83330038abf6d6b77c41f01fca/window\"\n",
      "{ x: 0, y: 1024 }\n",
      "\u001b[1;30m[23:13:58] \u001b[0m \u001b[0;35mCOMMAND\t\u001b[0mPOST \t \"/wd/hub/session/707b5f83330038abf6d6b77c41f01fca/window/CDwindow-69f288f9-d527-4d84-a311-c41d2c90b8e0/position\"\n",
      "\u001b[1;30m[23:13:58] \u001b[0m \u001b[0;35mCOMMAND\t\u001b[0mPOST \t \"/wd/hub/session/707b5f83330038abf6d6b77c41f01fca/window/CDwindow-69f288f9-d527-4d84-a311-c41d2c90b8e0/size\"\n",
      "\u001b[1;30m[23:13:58] \u001b[0m \u001b[0;35mCOMMAND\t\u001b[0mGET \t \"/wd/hub/session/707b5f83330038abf6d6b77c41f01fca/url\"\n",
      "\u001b[1;30m[23:13:58] \u001b[0m \u001b[0;35mCOMMAND\t\u001b[0mPOST \t \"/wd/hub/session/707b5f83330038abf6d6b77c41f01fca/window\"\n",
      "\u001b[1;30m[23:13:58] \u001b[0m \u001b[0;35mCOMMAND\t\u001b[0mGET \t \"/wd/hub/session/707b5f83330038abf6d6b77c41f01fca/window_handle\"\n",
      "\u001b[1;30m[23:13:58] \u001b[0m \u001b[0;35mCOMMAND\t\u001b[0mPOST \t \"/wd/hub/session/707b5f83330038abf6d6b77c41f01fca/window\"\n",
      "{ x: 1350, y: 1024 }\n",
      "\u001b[1;30m[23:13:58] \u001b[0m \u001b[0;35mCOMMAND\t\u001b[0mPOST \t \"/wd/hub/session/707b5f83330038abf6d6b77c41f01fca/window/CDwindow-7245dfb7-97ce-4be0-8b54-364cf4931087/position\"\n",
      "\u001b[1;30m[23:13:58] \u001b[0m \u001b[0;35mCOMMAND\t\u001b[0mPOST \t \"/wd/hub/session/707b5f83330038abf6d6b77c41f01fca/window/CDwindow-7245dfb7-97ce-4be0-8b54-364cf4931087/size\"\n",
      "\u001b[1;30m[23:13:58] \u001b[0m \u001b[0;35mCOMMAND\t\u001b[0mGET \t \"/wd/hub/session/707b5f83330038abf6d6b77c41f01fca/url\"\n",
      "\u001b[1;30m[23:13:58] \u001b[0m \u001b[0;35mCOMMAND\t\u001b[0mPOST \t \"/wd/hub/session/707b5f83330038abf6d6b77c41f01fca/window\"\n",
      "\u001b[1;30m[23:13:58] \u001b[0m \u001b[0;35mCOMMAND\t\u001b[0mGET \t \"/wd/hub/session/707b5f83330038abf6d6b77c41f01fca/window_handle\"\n",
      "\u001b[1;30m[23:13:58] \u001b[0m \u001b[0;35mCOMMAND\t\u001b[0mPOST \t \"/wd/hub/session/707b5f83330038abf6d6b77c41f01fca/window\"\n",
      "{ x: 2700, y: 1024 }\n",
      "\u001b[1;30m[23:13:58] \u001b[0m \u001b[0;35mCOMMAND\t\u001b[0mPOST \t \"/wd/hub/session/707b5f83330038abf6d6b77c41f01fca/window/CDwindow-8b4eb1c9-08a2-4edb-ad5f-3f764d48ec58/position\"\n",
      "\u001b[1;30m[23:13:58] \u001b[0m \u001b[0;35mCOMMAND\t\u001b[0mPOST \t \"/wd/hub/session/707b5f83330038abf6d6b77c41f01fca/window/CDwindow-8b4eb1c9-08a2-4edb-ad5f-3f764d48ec58/size\"\n",
      "\u001b[1;30m[23:13:58] \u001b[0m \u001b[0;35mCOMMAND\t\u001b[0mGET \t \"/wd/hub/session/707b5f83330038abf6d6b77c41f01fca/url\"\n",
      "\u001b[1;30m[23:13:58] \u001b[0m \u001b[0;35mCOMMAND\t\u001b[0mPOST \t \"/wd/hub/session/707b5f83330038abf6d6b77c41f01fca/window\"\n",
      "\u001b[1;30m[23:13:58] \u001b[0m \u001b[0;35mCOMMAND\t\u001b[0mGET \t \"/wd/hub/session/707b5f83330038abf6d6b77c41f01fca/window_handle\"\n",
      "\u001b[1;30m[23:13:58] \u001b[0m \u001b[0;35mCOMMAND\t\u001b[0mPOST \t \"/wd/hub/session/707b5f83330038abf6d6b77c41f01fca/window\"\n",
      "{ x: 4050, y: 1024 }\n",
      "\u001b[1;30m[23:13:58] \u001b[0m \u001b[0;35mCOMMAND\t\u001b[0mPOST \t \"/wd/hub/session/707b5f83330038abf6d6b77c41f01fca/window/CDwindow-a98aa89a-851f-45d5-a518-3b2441996d46/position\"\n",
      "\u001b[1;30m[23:13:59] \u001b[0m \u001b[0;35mCOMMAND\t\u001b[0mPOST \t \"/wd/hub/session/707b5f83330038abf6d6b77c41f01fca/window/CDwindow-a98aa89a-851f-45d5-a518-3b2441996d46/size\"\n",
      "\u001b[1;30m[23:13:59] \u001b[0m \u001b[0;35mCOMMAND\t\u001b[0mGET \t \"/wd/hub/session/707b5f83330038abf6d6b77c41f01fca/url\"\n",
      "\u001b[1;30m[23:13:59] \u001b[0m \u001b[0;35mCOMMAND\t\u001b[0mPOST \t \"/wd/hub/session/707b5f83330038abf6d6b77c41f01fca/window\"\n",
      "\u001b[1;30m[23:13:59] \u001b[0m \u001b[0;35mCOMMAND\t\u001b[0mGET \t \"/wd/hub/session/707b5f83330038abf6d6b77c41f01fca/window_handle\"\n",
      "\u001b[1;30m[23:13:59] \u001b[0m \u001b[0;35mCOMMAND\t\u001b[0mPOST \t \"/wd/hub/session/707b5f83330038abf6d6b77c41f01fca/window\"\n",
      "{ x: 5400, y: 1024 }\n",
      "\u001b[1;30m[23:13:59] \u001b[0m \u001b[0;35mCOMMAND\t\u001b[0mPOST \t \"/wd/hub/session/707b5f83330038abf6d6b77c41f01fca/window/CDwindow-a0614873-6a7f-4fe3-bccc-68cc8ee893e6/position\"\n",
      "\u001b[1;30m[23:13:59] \u001b[0m \u001b[0;35mCOMMAND\t\u001b[0mPOST \t \"/wd/hub/session/707b5f83330038abf6d6b77c41f01fca/window/CDwindow-a0614873-6a7f-4fe3-bccc-68cc8ee893e6/size\"\n",
      "\u001b[1;30m[23:13:59] \u001b[0m \u001b[0;35mCOMMAND\t\u001b[0mGET \t \"/wd/hub/session/707b5f83330038abf6d6b77c41f01fca/url\"\n",
      "\u001b[1;30m[23:13:59] \u001b[0m \u001b[0;35mCOMMAND\t\u001b[0mPOST \t \"/wd/hub/session/707b5f83330038abf6d6b77c41f01fca/window\"\n",
      "\u001b[1;30m[23:13:59] \u001b[0m \u001b[0;35mCOMMAND\t\u001b[0mGET \t \"/wd/hub/session/707b5f83330038abf6d6b77c41f01fca/window_handle\"\n",
      "\u001b[1;30m[23:13:59] \u001b[0m \u001b[0;35mCOMMAND\t\u001b[0mPOST \t \"/wd/hub/session/707b5f83330038abf6d6b77c41f01fca/window\"\n",
      "{ x: 6750, y: 1024 }\n",
      "\u001b[1;30m[23:13:59] \u001b[0m \u001b[0;35mCOMMAND\t\u001b[0mPOST \t \"/wd/hub/session/707b5f83330038abf6d6b77c41f01fca/window/CDwindow-fc32c22e-0c53-41ea-a848-37818e4fb469/position\"\n",
      "\u001b[1;30m[23:13:59] \u001b[0m \u001b[0;35mCOMMAND\t\u001b[0mPOST \t \"/wd/hub/session/707b5f83330038abf6d6b77c41f01fca/window/CDwindow-fc32c22e-0c53-41ea-a848-37818e4fb469/size\"\n",
      "\u001b[1;30m[23:13:59] \u001b[0m \u001b[0;35mCOMMAND\t\u001b[0mGET \t \"/wd/hub/session/707b5f83330038abf6d6b77c41f01fca/url\"\n",
      "\u001b[1;30m[23:13:59] \u001b[0m \u001b[0;35mCOMMAND\t\u001b[0mGET \t \"/wd/hub/session/ae4480a26f62f1bde47f9ced12c2b291/url\"\n",
      "\u001b[1;30m[23:13:59] \u001b[0m \u001b[0;35mCOMMAND\t\u001b[0mGET \t \"/wd/hub/session/ae4480a26f62f1bde47f9ced12c2b291/window_handles\"\n",
      "\u001b[1;30m[23:13:59] \u001b[0m \u001b[0;35mCOMMAND\t\u001b[0mPOST \t \"/wd/hub/session/ae4480a26f62f1bde47f9ced12c2b291/window\"\n",
      "\u001b[1;30m[23:13:59] \u001b[0m \u001b[0;35mCOMMAND\t\u001b[0mGET \t \"/wd/hub/session/ae4480a26f62f1bde47f9ced12c2b291/window_handle\"\n",
      "\u001b[1;30m[23:13:59] \u001b[0m \u001b[0;35mCOMMAND\t\u001b[0mPOST \t \"/wd/hub/session/ae4480a26f62f1bde47f9ced12c2b291/window\"\n",
      "{ x: 0, y: 2048 }\n",
      "\u001b[1;30m[23:13:59] \u001b[0m \u001b[0;35mCOMMAND\t\u001b[0mPOST \t \"/wd/hub/session/ae4480a26f62f1bde47f9ced12c2b291/window/CDwindow-2d20762f-16d2-4e13-aee9-3c91cbe854d5/position\"\n",
      "\u001b[1;30m[23:14:00] \u001b[0m \u001b[0;35mCOMMAND\t\u001b[0mPOST \t \"/wd/hub/session/ae4480a26f62f1bde47f9ced12c2b291/window/CDwindow-2d20762f-16d2-4e13-aee9-3c91cbe854d5/size\"\n",
      "\u001b[1;30m[23:14:00] \u001b[0m \u001b[0;35mCOMMAND\t\u001b[0mGET \t \"/wd/hub/session/ae4480a26f62f1bde47f9ced12c2b291/url\"\n",
      "\u001b[1;30m[23:14:00] \u001b[0m \u001b[0;35mCOMMAND\t\u001b[0mGET \t \"/wd/hub/session/ae4480a26f62f1bde47f9ced12c2b291/url\"\n",
      "\u001b[1;30m[23:14:00] \u001b[0m \u001b[0;35mCOMMAND\t\u001b[0mPOST \t \"/wd/hub/session/ae4480a26f62f1bde47f9ced12c2b291/url\"\n",
      "\u001b[1;30m[23:14:03] \u001b[0m \u001b[0;35mCOMMAND\t\u001b[0mPOST \t \"/wd/hub/session/ae4480a26f62f1bde47f9ced12c2b291/elements\"\n",
      "\u001b[1;30m[23:14:04] \u001b[0m \u001b[0;35mCOMMAND\t\u001b[0mGET \t \"/wd/hub/session/ae4480a26f62f1bde47f9ced12c2b291/window_handle\"\n",
      "\u001b[1;30m[23:14:04] \u001b[0m \u001b[0;35mCOMMAND\t\u001b[0mPOST \t \"/wd/hub/session/ae4480a26f62f1bde47f9ced12c2b291/window\"\n",
      "{ x: 0, y: 0 }\n",
      "\u001b[1;30m[23:14:04] \u001b[0m \u001b[0;35mCOMMAND\t\u001b[0mPOST \t \"/wd/hub/session/ae4480a26f62f1bde47f9ced12c2b291/window/CDwindow-2d20762f-16d2-4e13-aee9-3c91cbe854d5/position\"\n",
      "\u001b[1;30m[23:14:04] \u001b[0m \u001b[0;35mCOMMAND\t\u001b[0mPOST \t \"/wd/hub/session/ae4480a26f62f1bde47f9ced12c2b291/window/CDwindow-2d20762f-16d2-4e13-aee9-3c91cbe854d5/size\"\n",
      "\u001b[1;30m[23:14:04] \u001b[0m \u001b[0;35mCOMMAND\t\u001b[0mPOST \t \"/wd/hub/session/ae4480a26f62f1bde47f9ced12c2b291/url\"\n",
      "\u001b[1;30m[23:14:08] \u001b[0m \u001b[0;35mCOMMAND\t\u001b[0mGET \t \"/wd/hub/session/ae4480a26f62f1bde47f9ced12c2b291/window_handle\"\n",
      "\u001b[1;30m[23:14:08] \u001b[0m \u001b[0;35mCOMMAND\t\u001b[0mGET \t \"/wd/hub/session/ae4480a26f62f1bde47f9ced12c2b291/window_handles\"\n",
      "https://www.facebook.com/messages/t/ryan.stoffko\n",
      "\u001b[1;30m[23:14:08] \u001b[0m \u001b[0;35mCOMMAND\t\u001b[0mGET \t \"/wd/hub/session/ae4480a26f62f1bde47f9ced12c2b291/window_handles\"\n",
      "\u001b[1;30m[23:14:08] \u001b[0m \u001b[0;35mCOMMAND\t\u001b[0mPOST \t \"/wd/hub/session/ae4480a26f62f1bde47f9ced12c2b291/execute\"\n",
      "\u001b[1;30m[23:14:08] \u001b[0m \u001b[0;35mCOMMAND\t\u001b[0mGET \t \"/wd/hub/session/ae4480a26f62f1bde47f9ced12c2b291/window_handles\"\n",
      "\u001b[1;30m[23:14:08] \u001b[0m \u001b[0;35mCOMMAND\t\u001b[0mPOST \t \"/wd/hub/session/ae4480a26f62f1bde47f9ced12c2b291/window\"\n",
      "https://www.facebook.com/messages/t/profile.php?id=6212130467169267713\n",
      "\u001b[1;30m[23:14:08] \u001b[0m \u001b[0;35mCOMMAND\t\u001b[0mGET \t \"/wd/hub/session/ae4480a26f62f1bde47f9ced12c2b291/window_handles\"\n",
      "\u001b[1;30m[23:14:08] \u001b[0m \u001b[0;35mCOMMAND\t\u001b[0mPOST \t \"/wd/hub/session/ae4480a26f62f1bde47f9ced12c2b291/execute\"\n",
      "\u001b[1;30m[23:14:09] \u001b[0m \u001b[0;35mCOMMAND\t\u001b[0mGET \t \"/wd/hub/session/ae4480a26f62f1bde47f9ced12c2b291/window_handles\"\n",
      "\u001b[1;30m[23:14:09] \u001b[0m \u001b[0;35mCOMMAND\t\u001b[0mPOST \t \"/wd/hub/session/ae4480a26f62f1bde47f9ced12c2b291/window\"\n",
      "https://www.facebook.com/messages/t/joanna.street24\n",
      "\u001b[1;30m[23:14:09] \u001b[0m \u001b[0;35mCOMMAND\t\u001b[0mGET \t \"/wd/hub/session/ae4480a26f62f1bde47f9ced12c2b291/window_handles\"\n",
      "\u001b[1;30m[23:14:09] \u001b[0m \u001b[0;35mCOMMAND\t\u001b[0mPOST \t \"/wd/hub/session/ae4480a26f62f1bde47f9ced12c2b291/execute\"\n",
      "\u001b[1;30m[23:14:09] \u001b[0m \u001b[0;35mCOMMAND\t\u001b[0mGET \t \"/wd/hub/session/ae4480a26f62f1bde47f9ced12c2b291/window_handles\"\n",
      "\u001b[1;30m[23:14:09] \u001b[0m \u001b[0;35mCOMMAND\t\u001b[0mPOST \t \"/wd/hub/session/ae4480a26f62f1bde47f9ced12c2b291/window\"\n",
      "https://www.facebook.com/messages/t/stephanie.desertgirl\n",
      "\u001b[1;30m[23:14:09] \u001b[0m \u001b[0;35mCOMMAND\t\u001b[0mGET \t \"/wd/hub/session/ae4480a26f62f1bde47f9ced12c2b291/window_handles\"\n",
      "\u001b[1;30m[23:14:09] \u001b[0m \u001b[0;35mCOMMAND\t\u001b[0mPOST \t \"/wd/hub/session/ae4480a26f62f1bde47f9ced12c2b291/execute\"\n",
      "\u001b[1;30m[23:14:10] \u001b[0m \u001b[0;35mCOMMAND\t\u001b[0mGET \t \"/wd/hub/session/ae4480a26f62f1bde47f9ced12c2b291/window_handles\"\n",
      "\u001b[1;30m[23:14:10] \u001b[0m \u001b[0;35mCOMMAND\t\u001b[0mPOST \t \"/wd/hub/session/ae4480a26f62f1bde47f9ced12c2b291/window\"\n",
      "\u001b[1;30m[23:14:10] \u001b[0m \u001b[0;35mCOMMAND\t\u001b[0mGET \t \"/wd/hub/session/ae4480a26f62f1bde47f9ced12c2b291/window_handle\"\n",
      "\u001b[1;30m[23:14:10] \u001b[0m \u001b[0;35mCOMMAND\t\u001b[0mPOST \t \"/wd/hub/session/ae4480a26f62f1bde47f9ced12c2b291/window\"\n",
      "\u001b[1;30m[23:14:10] \u001b[0m \u001b[0;35mCOMMAND\t\u001b[0mGET \t \"/wd/hub/session/ae4480a26f62f1bde47f9ced12c2b291\"\n",
      "\u001b[1;30m[23:14:10] \u001b[0m \u001b[0;35mCOMMAND\t\u001b[0mGET \t \"/wd/hub/session/707b5f83330038abf6d6b77c41f01fca/window_handle\"\n",
      "\u001b[1;30m[23:14:10] \u001b[0m \u001b[0;35mCOMMAND\t\u001b[0mPOST \t \"/wd/hub/session/707b5f83330038abf6d6b77c41f01fca/window\"\n",
      "\u001b[1;30m[23:14:10] \u001b[0m \u001b[0;35mCOMMAND\t\u001b[0mGET \t \"/wd/hub/session/707b5f83330038abf6d6b77c41f01fca\"\n",
      "\u001b[1;30m[23:14:10] \u001b[0m \u001b[0;35mCOMMAND\t\u001b[0mGET \t \"/wd/hub/session/187c5a0e55072a91354398bd7a74fb9a/window_handle\"\n",
      "\u001b[1;30m[23:14:10] \u001b[0m \u001b[0;35mCOMMAND\t\u001b[0mGET \t \"/wd/hub/session/6d7f6145a1776b200d1fc5abe9a88dd5/window_handle\"\n",
      "\u001b[1;30m[23:14:10] \u001b[0m \u001b[0;35mCOMMAND\t\u001b[0mPOST \t \"/wd/hub/session/6d7f6145a1776b200d1fc5abe9a88dd5/window\"\n",
      "[ 'ae4480a26f62f1bde47f9ced12c2b291',\n",
      "  '707b5f83330038abf6d6b77c41f01fca' ]\n",
      "\u001b[1;30m[23:14:10] \u001b[0m \u001b[0;35mCOMMAND\t\u001b[0mGET \t \"/wd/hub/session/ae4480a26f62f1bde47f9ced12c2b291/url\"\n",
      "\u001b[1;30m[23:14:12] \u001b[0m \u001b[0;35mCOMMAND\t\u001b[0mGET \t \"/wd/hub/session/ae4480a26f62f1bde47f9ced12c2b291/window_handles\"\n",
      "\u001b[1;30m[23:14:12] \u001b[0m \u001b[0;35mCOMMAND\t\u001b[0mPOST \t \"/wd/hub/session/ae4480a26f62f1bde47f9ced12c2b291/window\"\n",
      "\u001b[1;30m[23:14:12] \u001b[0m \u001b[0;35mCOMMAND\t\u001b[0mGET \t \"/wd/hub/session/ae4480a26f62f1bde47f9ced12c2b291/window_handle\"\n",
      "\u001b[1;30m[23:14:12] \u001b[0m \u001b[0;35mCOMMAND\t\u001b[0mPOST \t \"/wd/hub/session/ae4480a26f62f1bde47f9ced12c2b291/window\"\n",
      "{ x: 0, y: 0 }\n",
      "\u001b[1;30m[23:14:12] \u001b[0m \u001b[0;35mCOMMAND\t\u001b[0mPOST \t \"/wd/hub/session/ae4480a26f62f1bde47f9ced12c2b291/window/CDwindow-2d20762f-16d2-4e13-aee9-3c91cbe854d5/position\"\n",
      "\u001b[1;30m[23:14:12] \u001b[0m \u001b[0;35mCOMMAND\t\u001b[0mPOST \t \"/wd/hub/session/ae4480a26f62f1bde47f9ced12c2b291/window/CDwindow-2d20762f-16d2-4e13-aee9-3c91cbe854d5/size\"\n",
      "\u001b[1;30m[23:14:12] \u001b[0m \u001b[0;35mCOMMAND\t\u001b[0mGET \t \"/wd/hub/session/ae4480a26f62f1bde47f9ced12c2b291/url\"\n",
      "\u001b[1;30m[23:14:14] \u001b[0m \u001b[0;35mCOMMAND\t\u001b[0mPOST \t \"/wd/hub/session/ae4480a26f62f1bde47f9ced12c2b291/window\"\n",
      "\u001b[1;30m[23:14:14] \u001b[0m \u001b[0;35mCOMMAND\t\u001b[0mGET \t \"/wd/hub/session/ae4480a26f62f1bde47f9ced12c2b291/window_handle\"\n",
      "\u001b[1;30m[23:14:14] \u001b[0m \u001b[0;35mCOMMAND\t\u001b[0mPOST \t \"/wd/hub/session/ae4480a26f62f1bde47f9ced12c2b291/window\"\n",
      "{ x: 1350, y: 0 }\n",
      "\u001b[1;30m[23:14:15] \u001b[0m \u001b[0;35mCOMMAND\t\u001b[0mPOST \t \"/wd/hub/session/ae4480a26f62f1bde47f9ced12c2b291/window/CDwindow-b486099f-06a6-441c-8a58-a58efd3938fc/position\"\n",
      "\u001b[1;30m[23:14:15] \u001b[0m \u001b[0;35mCOMMAND\t\u001b[0mPOST \t \"/wd/hub/session/ae4480a26f62f1bde47f9ced12c2b291/window/CDwindow-b486099f-06a6-441c-8a58-a58efd3938fc/size\"\n",
      "\u001b[1;30m[23:14:15] \u001b[0m \u001b[0;35mCOMMAND\t\u001b[0mGET \t \"/wd/hub/session/ae4480a26f62f1bde47f9ced12c2b291/url\"\n",
      "\u001b[1;30m[23:14:19] \u001b[0m \u001b[0;35mCOMMAND\t\u001b[0mPOST \t \"/wd/hub/session/ae4480a26f62f1bde47f9ced12c2b291/window\"\n",
      "\u001b[1;30m[23:14:19] \u001b[0m \u001b[0;35mCOMMAND\t\u001b[0mGET \t \"/wd/hub/session/ae4480a26f62f1bde47f9ced12c2b291/window_handle\"\n",
      "\u001b[1;30m[23:14:19] \u001b[0m \u001b[0;35mCOMMAND\t\u001b[0mPOST \t \"/wd/hub/session/ae4480a26f62f1bde47f9ced12c2b291/window\"\n",
      "{ x: 2700, y: 0 }\n",
      "\u001b[1;30m[23:14:19] \u001b[0m \u001b[0;35mCOMMAND\t\u001b[0mPOST \t \"/wd/hub/session/ae4480a26f62f1bde47f9ced12c2b291/window/CDwindow-1b04ca82-66d3-46c5-a643-90b6a899d42c/position\"\n",
      "\u001b[1;30m[23:14:20] \u001b[0m \u001b[0;35mCOMMAND\t\u001b[0mPOST \t \"/wd/hub/session/ae4480a26f62f1bde47f9ced12c2b291/window/CDwindow-1b04ca82-66d3-46c5-a643-90b6a899d42c/size\"\n",
      "\u001b[1;30m[23:14:20] \u001b[0m \u001b[0;35mCOMMAND\t\u001b[0mGET \t \"/wd/hub/session/ae4480a26f62f1bde47f9ced12c2b291/url\"\n",
      "\u001b[1;30m[23:14:20] \u001b[0m \u001b[0;35mCOMMAND\t\u001b[0mPOST \t \"/wd/hub/session/ae4480a26f62f1bde47f9ced12c2b291/window\"\n",
      "\u001b[1;30m[23:14:20] \u001b[0m \u001b[0;35mCOMMAND\t\u001b[0mGET \t \"/wd/hub/session/ae4480a26f62f1bde47f9ced12c2b291/window_handle\"\n",
      "\u001b[1;30m[23:14:20] \u001b[0m \u001b[0;35mCOMMAND\t\u001b[0mPOST \t \"/wd/hub/session/ae4480a26f62f1bde47f9ced12c2b291/window\"\n",
      "{ x: 4050, y: 0 }\n",
      "\u001b[1;30m[23:14:20] \u001b[0m \u001b[0;35mCOMMAND\t\u001b[0mPOST \t \"/wd/hub/session/ae4480a26f62f1bde47f9ced12c2b291/window/CDwindow-ffd260c3-f878-4d32-bbd0-2eb26a28224c/position\"\n",
      "\u001b[1;30m[23:14:21] \u001b[0m \u001b[0;35mCOMMAND\t\u001b[0mPOST \t \"/wd/hub/session/ae4480a26f62f1bde47f9ced12c2b291/window/CDwindow-ffd260c3-f878-4d32-bbd0-2eb26a28224c/size\"\n",
      "\u001b[1;30m[23:14:21] \u001b[0m \u001b[0;35mCOMMAND\t\u001b[0mGET \t \"/wd/hub/session/ae4480a26f62f1bde47f9ced12c2b291/url\"\n",
      "\u001b[1;30m[23:14:21] \u001b[0m \u001b[0;35mCOMMAND\t\u001b[0mPOST \t \"/wd/hub/session/ae4480a26f62f1bde47f9ced12c2b291/window\"\n",
      "\u001b[1;30m[23:14:21] \u001b[0m \u001b[0;35mCOMMAND\t\u001b[0mGET \t \"/wd/hub/session/ae4480a26f62f1bde47f9ced12c2b291/window_handle\"\n",
      "\u001b[1;30m[23:14:21] \u001b[0m \u001b[0;35mCOMMAND\t\u001b[0mPOST \t \"/wd/hub/session/ae4480a26f62f1bde47f9ced12c2b291/window\"\n",
      "{ x: 5400, y: 0 }\n",
      "\u001b[1;30m[23:14:21] \u001b[0m \u001b[0;35mCOMMAND\t\u001b[0mPOST \t \"/wd/hub/session/ae4480a26f62f1bde47f9ced12c2b291/window/CDwindow-4a040086-297e-4bae-bb88-833d4b858255/position\"\n",
      "\u001b[1;30m[23:14:21] \u001b[0m \u001b[0;35mCOMMAND\t\u001b[0mPOST \t \"/wd/hub/session/ae4480a26f62f1bde47f9ced12c2b291/window/CDwindow-4a040086-297e-4bae-bb88-833d4b858255/size\"\n",
      "\u001b[1;30m[23:14:21] \u001b[0m \u001b[0;35mCOMMAND\t\u001b[0mGET \t \"/wd/hub/session/ae4480a26f62f1bde47f9ced12c2b291/url\"\n",
      "\u001b[1;30m[23:14:21] \u001b[0m \u001b[0;35mCOMMAND\t\u001b[0mGET \t \"/wd/hub/session/707b5f83330038abf6d6b77c41f01fca/url\"\n",
      "\u001b[1;30m[23:14:23] \u001b[0m \u001b[0;35mCOMMAND\t\u001b[0mGET \t \"/wd/hub/session/707b5f83330038abf6d6b77c41f01fca/window_handles\"\n",
      "\u001b[1;30m[23:14:23] \u001b[0m \u001b[0;35mCOMMAND\t\u001b[0mPOST \t \"/wd/hub/session/707b5f83330038abf6d6b77c41f01fca/window\"\n",
      "\u001b[1;30m[23:14:23] \u001b[0m \u001b[0;35mCOMMAND\t\u001b[0mGET \t \"/wd/hub/session/707b5f83330038abf6d6b77c41f01fca/window_handle\"\n",
      "\u001b[1;30m[23:14:23] \u001b[0m \u001b[0;35mCOMMAND\t\u001b[0mPOST \t \"/wd/hub/session/707b5f83330038abf6d6b77c41f01fca/window\"\n",
      "{ x: 6750, y: 0 }\n",
      "\u001b[1;30m[23:14:23] \u001b[0m \u001b[0;35mCOMMAND\t\u001b[0mPOST \t \"/wd/hub/session/707b5f83330038abf6d6b77c41f01fca/window/CDwindow-f8f489d0-57af-4ee0-a348-99744d832206/position\"\n",
      "\u001b[1;30m[23:14:23] \u001b[0m \u001b[0;35mCOMMAND\t\u001b[0mPOST \t \"/wd/hub/session/707b5f83330038abf6d6b77c41f01fca/window/CDwindow-f8f489d0-57af-4ee0-a348-99744d832206/size\"\n",
      "\u001b[1;30m[23:14:23] \u001b[0m \u001b[0;35mCOMMAND\t\u001b[0mGET \t \"/wd/hub/session/707b5f83330038abf6d6b77c41f01fca/url\"\n",
      "\u001b[1;30m[23:14:23] \u001b[0m \u001b[0;35mCOMMAND\t\u001b[0mPOST \t \"/wd/hub/session/707b5f83330038abf6d6b77c41f01fca/window\"\n",
      "\u001b[1;30m[23:14:23] \u001b[0m \u001b[0;35mCOMMAND\t\u001b[0mGET \t \"/wd/hub/session/707b5f83330038abf6d6b77c41f01fca/window_handle\"\n",
      "\u001b[1;30m[23:14:23] \u001b[0m \u001b[0;35mCOMMAND\t\u001b[0mPOST \t \"/wd/hub/session/707b5f83330038abf6d6b77c41f01fca/window\"\n",
      "{ x: 0, y: 1024 }\n",
      "\u001b[1;30m[23:14:23] \u001b[0m \u001b[0;35mCOMMAND\t\u001b[0mPOST \t \"/wd/hub/session/707b5f83330038abf6d6b77c41f01fca/window/CDwindow-cc4f1260-e75b-42c6-8c86-5af1f05343de/position\"\n",
      "\u001b[1;30m[23:14:24] \u001b[0m \u001b[0;35mCOMMAND\t\u001b[0mPOST \t \"/wd/hub/session/707b5f83330038abf6d6b77c41f01fca/window/CDwindow-cc4f1260-e75b-42c6-8c86-5af1f05343de/size\"\n",
      "\u001b[1;30m[23:14:24] \u001b[0m \u001b[0;35mCOMMAND\t\u001b[0mGET \t \"/wd/hub/session/707b5f83330038abf6d6b77c41f01fca/url\"\n",
      "\u001b[1;30m[23:14:24] \u001b[0m \u001b[0;35mCOMMAND\t\u001b[0mPOST \t \"/wd/hub/session/707b5f83330038abf6d6b77c41f01fca/window\"\n",
      "\u001b[1;30m[23:14:24] \u001b[0m \u001b[0;35mCOMMAND\t\u001b[0mGET \t \"/wd/hub/session/707b5f83330038abf6d6b77c41f01fca/window_handle\"\n",
      "\u001b[1;30m[23:14:24] \u001b[0m \u001b[0;35mCOMMAND\t\u001b[0mPOST \t \"/wd/hub/session/707b5f83330038abf6d6b77c41f01fca/window\"\n",
      "{ x: 1350, y: 1024 }\n",
      "\u001b[1;30m[23:14:24] \u001b[0m \u001b[0;35mCOMMAND\t\u001b[0mPOST \t \"/wd/hub/session/707b5f83330038abf6d6b77c41f01fca/window/CDwindow-c42b65e6-78b7-4ed5-8606-bca555970e15/position\"\n",
      "\u001b[1;30m[23:14:25] \u001b[0m \u001b[0;35mCOMMAND\t\u001b[0mPOST \t \"/wd/hub/session/707b5f83330038abf6d6b77c41f01fca/window/CDwindow-c42b65e6-78b7-4ed5-8606-bca555970e15/size\"\n",
      "\u001b[1;30m[23:14:25] \u001b[0m \u001b[0;35mCOMMAND\t\u001b[0mGET \t \"/wd/hub/session/707b5f83330038abf6d6b77c41f01fca/url\"\n",
      "\u001b[1;30m[23:14:25] \u001b[0m \u001b[0;35mCOMMAND\t\u001b[0mPOST \t \"/wd/hub/session/707b5f83330038abf6d6b77c41f01fca/window\"\n",
      "\u001b[1;30m[23:14:25] \u001b[0m \u001b[0;35mCOMMAND\t\u001b[0mGET \t \"/wd/hub/session/707b5f83330038abf6d6b77c41f01fca/window_handle\"\n",
      "\u001b[1;30m[23:14:25] \u001b[0m \u001b[0;35mCOMMAND\t\u001b[0mPOST \t \"/wd/hub/session/707b5f83330038abf6d6b77c41f01fca/window\"\n",
      "{ x: 2700, y: 1024 }\n",
      "\u001b[1;30m[23:14:25] \u001b[0m \u001b[0;35mCOMMAND\t\u001b[0mPOST \t \"/wd/hub/session/707b5f83330038abf6d6b77c41f01fca/window/CDwindow-257c8ff7-1796-45af-b3ac-88dab26d2304/position\"\n",
      "\u001b[1;30m[23:14:25] \u001b[0m \u001b[0;35mCOMMAND\t\u001b[0mPOST \t \"/wd/hub/session/707b5f83330038abf6d6b77c41f01fca/window/CDwindow-257c8ff7-1796-45af-b3ac-88dab26d2304/size\"\n",
      "\u001b[1;30m[23:14:25] \u001b[0m \u001b[0;35mCOMMAND\t\u001b[0mGET \t \"/wd/hub/session/707b5f83330038abf6d6b77c41f01fca/url\"\n",
      "\u001b[1;30m[23:14:25] \u001b[0m \u001b[0;35mCOMMAND\t\u001b[0mPOST \t \"/wd/hub/session/707b5f83330038abf6d6b77c41f01fca/window\"\n",
      "\u001b[1;30m[23:14:25] \u001b[0m \u001b[0;35mCOMMAND\t\u001b[0mGET \t \"/wd/hub/session/707b5f83330038abf6d6b77c41f01fca/window_handle\"\n",
      "\u001b[1;30m[23:14:25] \u001b[0m \u001b[0;35mCOMMAND\t\u001b[0mPOST \t \"/wd/hub/session/707b5f83330038abf6d6b77c41f01fca/window\"\n",
      "{ x: 4050, y: 1024 }\n",
      "\u001b[1;30m[23:14:26] \u001b[0m \u001b[0;35mCOMMAND\t\u001b[0mPOST \t \"/wd/hub/session/707b5f83330038abf6d6b77c41f01fca/window/CDwindow-2743b305-3404-4219-b949-56209a60aa17/position\"\n",
      "\u001b[1;30m[23:14:26] \u001b[0m \u001b[0;35mCOMMAND\t\u001b[0mPOST \t \"/wd/hub/session/707b5f83330038abf6d6b77c41f01fca/window/CDwindow-2743b305-3404-4219-b949-56209a60aa17/size\"\n",
      "\u001b[1;30m[23:14:26] \u001b[0m \u001b[0;35mCOMMAND\t\u001b[0mGET \t \"/wd/hub/session/707b5f83330038abf6d6b77c41f01fca/url\"\n",
      "\u001b[1;30m[23:14:26] \u001b[0m \u001b[0;35mCOMMAND\t\u001b[0mPOST \t \"/wd/hub/session/707b5f83330038abf6d6b77c41f01fca/window\"\n",
      "\u001b[1;30m[23:14:26] \u001b[0m \u001b[0;35mCOMMAND\t\u001b[0mGET \t \"/wd/hub/session/707b5f83330038abf6d6b77c41f01fca/window_handle\"\n",
      "\u001b[1;30m[23:14:26] \u001b[0m \u001b[0;35mCOMMAND\t\u001b[0mPOST \t \"/wd/hub/session/707b5f83330038abf6d6b77c41f01fca/window\"\n",
      "{ x: 5400, y: 1024 }\n",
      "\u001b[1;30m[23:14:26] \u001b[0m \u001b[0;35mCOMMAND\t\u001b[0mPOST \t \"/wd/hub/session/707b5f83330038abf6d6b77c41f01fca/window/CDwindow-37e12b68-cfef-4eaf-99d5-af52a607f1d8/position\"\n",
      "\u001b[1;30m[23:14:26] \u001b[0m \u001b[0;35mCOMMAND\t\u001b[0mPOST \t \"/wd/hub/session/707b5f83330038abf6d6b77c41f01fca/window/CDwindow-37e12b68-cfef-4eaf-99d5-af52a607f1d8/size\"\n",
      "\u001b[1;30m[23:14:27] \u001b[0m \u001b[0;35mCOMMAND\t\u001b[0mGET \t \"/wd/hub/session/707b5f83330038abf6d6b77c41f01fca/url\"\n",
      "\u001b[1;30m[23:14:27] \u001b[0m \u001b[0;35mCOMMAND\t\u001b[0mPOST \t \"/wd/hub/session/707b5f83330038abf6d6b77c41f01fca/window\"\n",
      "\u001b[1;30m[23:14:27] \u001b[0m \u001b[0;35mCOMMAND\t\u001b[0mGET \t \"/wd/hub/session/707b5f83330038abf6d6b77c41f01fca/window_handle\"\n",
      "\u001b[1;30m[23:14:27] \u001b[0m \u001b[0;35mCOMMAND\t\u001b[0mPOST \t \"/wd/hub/session/707b5f83330038abf6d6b77c41f01fca/window\"\n",
      "{ x: 6750, y: 1024 }\n",
      "\u001b[1;30m[23:14:27] \u001b[0m \u001b[0;35mCOMMAND\t\u001b[0mPOST \t \"/wd/hub/session/707b5f83330038abf6d6b77c41f01fca/window/CDwindow-69f288f9-d527-4d84-a311-c41d2c90b8e0/position\"\n",
      "\u001b[1;30m[23:14:27] \u001b[0m \u001b[0;35mCOMMAND\t\u001b[0mPOST \t \"/wd/hub/session/707b5f83330038abf6d6b77c41f01fca/window/CDwindow-69f288f9-d527-4d84-a311-c41d2c90b8e0/size\"\n",
      "\u001b[1;30m[23:14:27] \u001b[0m \u001b[0;35mCOMMAND\t\u001b[0mGET \t \"/wd/hub/session/707b5f83330038abf6d6b77c41f01fca/url\"\n",
      "\u001b[1;30m[23:14:27] \u001b[0m \u001b[0;35mCOMMAND\t\u001b[0mPOST \t \"/wd/hub/session/707b5f83330038abf6d6b77c41f01fca/window\"\n",
      "\u001b[1;30m[23:14:27] \u001b[0m \u001b[0;35mCOMMAND\t\u001b[0mGET \t \"/wd/hub/session/707b5f83330038abf6d6b77c41f01fca/window_handle\"\n",
      "\u001b[1;30m[23:14:27] \u001b[0m \u001b[0;35mCOMMAND\t\u001b[0mPOST \t \"/wd/hub/session/707b5f83330038abf6d6b77c41f01fca/window\"\n",
      "{ x: 0, y: 2048 }\n",
      "\u001b[1;30m[23:14:28] \u001b[0m \u001b[0;35mCOMMAND\t\u001b[0mPOST \t \"/wd/hub/session/707b5f83330038abf6d6b77c41f01fca/window/CDwindow-7245dfb7-97ce-4be0-8b54-364cf4931087/position\"\n",
      "\u001b[1;30m[23:14:28] \u001b[0m \u001b[0;35mCOMMAND\t\u001b[0mPOST \t \"/wd/hub/session/707b5f83330038abf6d6b77c41f01fca/window/CDwindow-7245dfb7-97ce-4be0-8b54-364cf4931087/size\"\n",
      "\u001b[1;30m[23:14:28] \u001b[0m \u001b[0;35mCOMMAND\t\u001b[0mGET \t \"/wd/hub/session/707b5f83330038abf6d6b77c41f01fca/url\"\n",
      "\u001b[1;30m[23:14:28] \u001b[0m \u001b[0;35mCOMMAND\t\u001b[0mPOST \t \"/wd/hub/session/707b5f83330038abf6d6b77c41f01fca/window\"\n",
      "\u001b[1;30m[23:14:28] \u001b[0m \u001b[0;35mCOMMAND\t\u001b[0mGET \t \"/wd/hub/session/707b5f83330038abf6d6b77c41f01fca/window_handle\"\n",
      "\u001b[1;30m[23:14:28] \u001b[0m \u001b[0;35mCOMMAND\t\u001b[0mPOST \t \"/wd/hub/session/707b5f83330038abf6d6b77c41f01fca/window\"\n",
      "{ x: 1350, y: 2048 }\n",
      "\u001b[1;30m[23:14:28] \u001b[0m \u001b[0;35mCOMMAND\t\u001b[0mPOST \t \"/wd/hub/session/707b5f83330038abf6d6b77c41f01fca/window/CDwindow-8b4eb1c9-08a2-4edb-ad5f-3f764d48ec58/position\"\n",
      "\u001b[1;30m[23:14:28] \u001b[0m \u001b[0;35mCOMMAND\t\u001b[0mPOST \t \"/wd/hub/session/707b5f83330038abf6d6b77c41f01fca/window/CDwindow-8b4eb1c9-08a2-4edb-ad5f-3f764d48ec58/size\"\n",
      "\u001b[1;30m[23:14:28] \u001b[0m \u001b[0;35mCOMMAND\t\u001b[0mGET \t \"/wd/hub/session/707b5f83330038abf6d6b77c41f01fca/url\"\n",
      "\u001b[1;30m[23:14:29] \u001b[0m \u001b[0;35mCOMMAND\t\u001b[0mPOST \t \"/wd/hub/session/707b5f83330038abf6d6b77c41f01fca/window\"\n",
      "\u001b[1;30m[23:14:29] \u001b[0m \u001b[0;35mCOMMAND\t\u001b[0mGET \t \"/wd/hub/session/707b5f83330038abf6d6b77c41f01fca/window_handle\"\n",
      "\u001b[1;30m[23:14:29] \u001b[0m \u001b[0;35mCOMMAND\t\u001b[0mPOST \t \"/wd/hub/session/707b5f83330038abf6d6b77c41f01fca/window\"\n",
      "{ x: 2700, y: 2048 }\n",
      "\u001b[1;30m[23:14:29] \u001b[0m \u001b[0;35mCOMMAND\t\u001b[0mPOST \t \"/wd/hub/session/707b5f83330038abf6d6b77c41f01fca/window/CDwindow-a98aa89a-851f-45d5-a518-3b2441996d46/position\"\n",
      "\u001b[1;30m[23:14:29] \u001b[0m \u001b[0;35mCOMMAND\t\u001b[0mPOST \t \"/wd/hub/session/707b5f83330038abf6d6b77c41f01fca/window/CDwindow-a98aa89a-851f-45d5-a518-3b2441996d46/size\"\n",
      "\u001b[1;30m[23:14:29] \u001b[0m \u001b[0;35mCOMMAND\t\u001b[0mGET \t \"/wd/hub/session/707b5f83330038abf6d6b77c41f01fca/url\"\n",
      "\u001b[1;30m[23:14:29] \u001b[0m \u001b[0;35mCOMMAND\t\u001b[0mPOST \t \"/wd/hub/session/707b5f83330038abf6d6b77c41f01fca/window\"\n",
      "\u001b[1;30m[23:14:29] \u001b[0m \u001b[0;35mCOMMAND\t\u001b[0mGET \t \"/wd/hub/session/707b5f83330038abf6d6b77c41f01fca/window_handle\"\n",
      "\u001b[1;30m[23:14:29] \u001b[0m \u001b[0;35mCOMMAND\t\u001b[0mPOST \t \"/wd/hub/session/707b5f83330038abf6d6b77c41f01fca/window\"\n",
      "{ x: 4050, y: 2048 }\n",
      "\u001b[1;30m[23:14:29] \u001b[0m \u001b[0;35mCOMMAND\t\u001b[0mPOST \t \"/wd/hub/session/707b5f83330038abf6d6b77c41f01fca/window/CDwindow-a0614873-6a7f-4fe3-bccc-68cc8ee893e6/position\"\n",
      "\u001b[1;30m[23:14:29] \u001b[0m \u001b[0;35mCOMMAND\t\u001b[0mPOST \t \"/wd/hub/session/707b5f83330038abf6d6b77c41f01fca/window/CDwindow-a0614873-6a7f-4fe3-bccc-68cc8ee893e6/size\"\n",
      "\u001b[1;30m[23:14:30] \u001b[0m \u001b[0;35mCOMMAND\t\u001b[0mGET \t \"/wd/hub/session/707b5f83330038abf6d6b77c41f01fca/url\"\n",
      "\u001b[1;30m[23:14:30] \u001b[0m \u001b[0;35mCOMMAND\t\u001b[0mPOST \t \"/wd/hub/session/707b5f83330038abf6d6b77c41f01fca/window\"\n",
      "\u001b[1;30m[23:14:30] \u001b[0m \u001b[0;35mCOMMAND\t\u001b[0mGET \t \"/wd/hub/session/707b5f83330038abf6d6b77c41f01fca/window_handle\"\n",
      "\u001b[1;30m[23:14:30] \u001b[0m \u001b[0;35mCOMMAND\t\u001b[0mPOST \t \"/wd/hub/session/707b5f83330038abf6d6b77c41f01fca/window\"\n",
      "{ x: 5400, y: 2048 }\n",
      "\u001b[1;30m[23:14:30] \u001b[0m \u001b[0;35mCOMMAND\t\u001b[0mPOST \t \"/wd/hub/session/707b5f83330038abf6d6b77c41f01fca/window/CDwindow-fc32c22e-0c53-41ea-a848-37818e4fb469/position\"\n",
      "\u001b[1;30m[23:14:30] \u001b[0m \u001b[0;35mCOMMAND\t\u001b[0mPOST \t \"/wd/hub/session/707b5f83330038abf6d6b77c41f01fca/window/CDwindow-fc32c22e-0c53-41ea-a848-37818e4fb469/size\"\n",
      "\u001b[1;30m[23:14:30] \u001b[0m \u001b[0;35mCOMMAND\t\u001b[0mGET \t \"/wd/hub/session/707b5f83330038abf6d6b77c41f01fca/url\"\n",
      "\u001b[1;30m[23:14:30] \u001b[0m \u001b[0;35mCOMMAND\t\u001b[0mGET \t \"/wd/hub/session/ae4480a26f62f1bde47f9ced12c2b291/window_handles\"\n",
      "[ [ 'Q: What goes up and down but does not move?', 'A: Stairs' ],\n",
      "  [ 'Q: Where should a 500 pound alien go?', 'A: On a diet' ],\n",
      "  [ 'Q: What did one toilet say to the other?',\n",
      "    'A: You look a bit flushed.' ],\n",
      "  [ 'Q: Why did the picture go to jail?',\n",
      "    'A: Because it was framed.' ],\n",
      "  [ 'Q: What did one wall say to the other wall?',\n",
      "    'A: I\\'ll meet you at the corner.' ],\n",
      "  [ 'Q: What did the paper say to the pencil?', 'A: Write on!' ],\n",
      "  [ 'Q: What do you call a boy named Lee that no one talks to?',\n",
      "    'A: Lonely' ],\n",
      "  [ 'Q: What gets wetter the more it dries?', 'A: A towel.' ],\n",
      "  [ 'Q: Why do bicycles fall over?',\n",
      "    'A: Because they are two-tired!' ],\n",
      "  [ 'Q: Why do dragons sleep during the day?',\n",
      "    'A: So they can fight knights!' ],\n",
      "  [ 'Q: What did Cinderella say when her photos did not show up?',\n",
      "    'A: Someday my prints will come!' ],\n",
      "  [ 'Q: Why was the broom late?', 'A: It over swept!' ],\n",
      "  [ 'Q: What part of the car is the laziest?',\n",
      "    'A: The wheels, because they are always tired!' ],\n",
      "  [ 'Q: What did the stamp say to the envelope?',\n",
      "    'A: Stick with me and we will go places!' ],\n",
      "  [ 'Q: What is blue and goes ding dong?',\n",
      "    'A: An Avon lady at the North Pole!' ],\n",
      "  [ 'Q: We\\'re you long in the hospital?',\n",
      "    'A: No, I was the same size I am now!' ],\n",
      "  [ 'Q: Why couldn\\'t the pirate play cards?',\n",
      "    'A: Because he was sitting on the deck!' ],\n",
      "  [ 'Q: What did the laundryman say to the impatient customer?',\n",
      "    'A: Keep your shirt on!' ],\n",
      "  [ 'Q: What\\'s the difference between a TV and a newspaper?',\n",
      "    'A: Ever tried swatting a fly with a TV?' ],\n",
      "  [ 'Q: What did one elevator say to the other elevator?',\n",
      "    'A: I think I\\'m coming down with something!' ],\n",
      "  [ 'Q: Why was the belt arrested?',\n",
      "    'A: Because it held up some pants!' ],\n",
      "  [ 'Q: Why was everyone so tired on April 1st?',\n",
      "    'A: They had just finished a March of 31 days.' ],\n",
      "  [ 'Q: Which hand is it better to write with?',\n",
      "    'A: Neither, it\\'s best to write with a pen!' ],\n",
      "  [ 'Q: Why can\\'t your nose be 12 inches long?',\n",
      "    'A: Because then it would be a foot!' ],\n",
      "  [ 'Q: What makes the calendar seem so popular?',\n",
      "    'A: Because it has a lot of dates!' ],\n",
      "  [ 'Q: Why did Mickey Mouse take a trip into space?',\n",
      "    'A: He wanted to find Pluto!' ],\n",
      "  [ 'Q: What is green and has yellow wheels?',\n",
      "    'A: Grass…..I lied about the wheels!' ],\n",
      "  [ 'Q: What is it that even the most careful person overlooks?',\n",
      "    'A: Her nose!' ],\n",
      "  [ 'Q: Did you hear about the robbery last night?',\n",
      "    'A: Two clothes pins held up a pair of pants!' ],\n",
      "  [ 'Q: Why do you go to bed every night?',\n",
      "    'A: Because the bed won\\'t come to you!' ],\n",
      "  [ 'Q: Why did Billy go out with a prune?',\n",
      "    'A: Because he couldn\\'t find a date!' ],\n",
      "  [ 'Q: Why do eskimos do their laundry in Tide?',\n",
      "    'A: Because it\\'s too cold out-tide!' ],\n",
      "  [ 'Q: How do you cure a headache?',\n",
      "    'A: Put your head through a window and the pane will just disappear!' ],\n",
      "  [ 'Q: What has four wheels and flies?', 'A: A garbage truck!' ],\n",
      "  [ 'Q: What kind of car does Mickey Mouse\\'s wife drive?',\n",
      "    'A: A minnie van!' ],\n",
      "  [ 'Q: Why don\\'t traffic lights ever go swimming?',\n",
      "    'A: Because they take too long to change!' ],\n",
      "  [ 'Q: Why did the man run around his bed?',\n",
      "    'A: To catch up on his sleep!' ],\n",
      "  [ 'Q: Why did the robber take a bath before he stole from the bank?',\n",
      "    'A: He wanted to make a clean get away!' ] ]\n",
      "\u001b[1;30m[23:14:30] \u001b[0m \u001b[0;35mCOMMAND\t\u001b[0mPOST \t \"/wd/hub/session/ae4480a26f62f1bde47f9ced12c2b291/window\"\n",
      "\u001b[1;30m[23:14:30] \u001b[0m \u001b[0;35mCOMMAND\t\u001b[0mPOST \t \"/wd/hub/session/ae4480a26f62f1bde47f9ced12c2b291/element\"\n",
      "\u001b[1;30m[23:14:30] \u001b[0m \u001b[0;35mCOMMAND\t\u001b[0mPOST \t \"/wd/hub/session/ae4480a26f62f1bde47f9ced12c2b291/element/0.22101337726276515-1/click\"\n"
     ]
    },
    {
     "name": "stderr",
     "output_type": "stream",
     "text": [
      "WARNING: the \"keys\" command will be depcrecated soon. Please use a different command in order to avoid failures in your test after updating WebdriverIO.\n"
     ]
    },
    {
     "name": "stdout",
     "output_type": "stream",
     "text": [
      "\u001b[1;30m[23:14:31] \u001b[0m \u001b[0;35mCOMMAND\t\u001b[0mPOST \t \"/wd/hub/session/ae4480a26f62f1bde47f9ced12c2b291/keys\"\n"
     ]
    },
    {
     "name": "stderr",
     "output_type": "stream",
     "text": [
      "WARNING: the \"keys\" command will be depcrecated soon. Please use a different command in order to avoid failures in your test after updating WebdriverIO.\n"
     ]
    },
    {
     "name": "stdout",
     "output_type": "stream",
     "text": [
      "\u001b[1;30m[23:14:31] \u001b[0m \u001b[0;35mCOMMAND\t\u001b[0mPOST \t \"/wd/hub/session/ae4480a26f62f1bde47f9ced12c2b291/keys\"\n"
     ]
    },
    {
     "name": "stderr",
     "output_type": "stream",
     "text": [
      "WARNING: the \"keys\" command will be depcrecated soon. Please use a different command in order to avoid failures in your test after updating WebdriverIO.\n"
     ]
    },
    {
     "name": "stdout",
     "output_type": "stream",
     "text": [
      "\u001b[1;30m[23:14:32] \u001b[0m \u001b[0;35mCOMMAND\t\u001b[0mPOST \t \"/wd/hub/session/ae4480a26f62f1bde47f9ced12c2b291/keys\"\n",
      "\u001b[1;30m[23:14:52] \u001b[0m \u001b[0;35mCOMMAND\t\u001b[0mPOST \t \"/wd/hub/session/ae4480a26f62f1bde47f9ced12c2b291/element\"\n",
      "\u001b[1;30m[23:14:52] \u001b[0m \u001b[0;35mCOMMAND\t\u001b[0mPOST \t \"/wd/hub/session/ae4480a26f62f1bde47f9ced12c2b291/element/0.22101337726276515-1/click\"\n"
     ]
    },
    {
     "name": "stderr",
     "output_type": "stream",
     "text": [
      "WARNING: the \"keys\" command will be depcrecated soon. Please use a different command in order to avoid failures in your test after updating WebdriverIO.\n"
     ]
    },
    {
     "name": "stdout",
     "output_type": "stream",
     "text": [
      "\u001b[1;30m[23:14:53] \u001b[0m \u001b[0;35mCOMMAND\t\u001b[0mPOST \t \"/wd/hub/session/ae4480a26f62f1bde47f9ced12c2b291/keys\"\n"
     ]
    },
    {
     "name": "stderr",
     "output_type": "stream",
     "text": [
      "WARNING: the \"keys\" command will be depcrecated soon. Please use a different command in order to avoid failures in your test after updating WebdriverIO.\n"
     ]
    },
    {
     "name": "stdout",
     "output_type": "stream",
     "text": [
      "\u001b[1;30m[23:14:53] \u001b[0m \u001b[0;35mCOMMAND\t\u001b[0mPOST \t \"/wd/hub/session/ae4480a26f62f1bde47f9ced12c2b291/keys\"\n"
     ]
    },
    {
     "name": "stderr",
     "output_type": "stream",
     "text": [
      "WARNING: the \"keys\" command will be depcrecated soon. Please use a different command in order to avoid failures in your test after updating WebdriverIO.\n"
     ]
    },
    {
     "name": "stdout",
     "output_type": "stream",
     "text": [
      "\u001b[1;30m[23:14:53] \u001b[0m \u001b[0;35mCOMMAND\t\u001b[0mPOST \t \"/wd/hub/session/ae4480a26f62f1bde47f9ced12c2b291/keys\"\n",
      "\u001b[1;30m[23:14:55] \u001b[0m \u001b[0;35mCOMMAND\t\u001b[0mPOST \t \"/wd/hub/session/ae4480a26f62f1bde47f9ced12c2b291/window\"\n",
      "\u001b[1;30m[23:14:55] \u001b[0m \u001b[0;35mCOMMAND\t\u001b[0mPOST \t \"/wd/hub/session/ae4480a26f62f1bde47f9ced12c2b291/element\"\n",
      "\u001b[1;30m[23:14:55] \u001b[0m \u001b[0;35mCOMMAND\t\u001b[0mPOST \t \"/wd/hub/session/ae4480a26f62f1bde47f9ced12c2b291/element/0.5691455129722374-1/click\"\n"
     ]
    },
    {
     "name": "stderr",
     "output_type": "stream",
     "text": [
      "WARNING: the \"keys\" command will be depcrecated soon. Please use a different command in order to avoid failures in your test after updating WebdriverIO.\n"
     ]
    },
    {
     "name": "stdout",
     "output_type": "stream",
     "text": [
      "\u001b[1;30m[23:14:56] \u001b[0m \u001b[0;35mCOMMAND\t\u001b[0mPOST \t \"/wd/hub/session/ae4480a26f62f1bde47f9ced12c2b291/keys\"\n"
     ]
    },
    {
     "name": "stderr",
     "output_type": "stream",
     "text": [
      "WARNING: the \"keys\" command will be depcrecated soon. Please use a different command in order to avoid failures in your test after updating WebdriverIO.\n"
     ]
    },
    {
     "name": "stdout",
     "output_type": "stream",
     "text": [
      "\u001b[1;30m[23:14:56] \u001b[0m \u001b[0;35mCOMMAND\t\u001b[0mPOST \t \"/wd/hub/session/ae4480a26f62f1bde47f9ced12c2b291/keys\"\n"
     ]
    },
    {
     "name": "stderr",
     "output_type": "stream",
     "text": [
      "WARNING: the \"keys\" command will be depcrecated soon. Please use a different command in order to avoid failures in your test after updating WebdriverIO.\n"
     ]
    },
    {
     "name": "stdout",
     "output_type": "stream",
     "text": [
      "\u001b[1;30m[23:14:58] \u001b[0m \u001b[0;35mCOMMAND\t\u001b[0mPOST \t \"/wd/hub/session/ae4480a26f62f1bde47f9ced12c2b291/keys\"\n",
      "\u001b[1;30m[23:15:18] \u001b[0m \u001b[0;35mCOMMAND\t\u001b[0mPOST \t \"/wd/hub/session/ae4480a26f62f1bde47f9ced12c2b291/element\"\n",
      "\u001b[1;30m[23:15:18] \u001b[0m \u001b[0;35mCOMMAND\t\u001b[0mPOST \t \"/wd/hub/session/ae4480a26f62f1bde47f9ced12c2b291/element/0.5691455129722374-1/click\"\n"
     ]
    },
    {
     "name": "stderr",
     "output_type": "stream",
     "text": [
      "WARNING: the \"keys\" command will be depcrecated soon. Please use a different command in order to avoid failures in your test after updating WebdriverIO.\n"
     ]
    },
    {
     "name": "stdout",
     "output_type": "stream",
     "text": [
      "\u001b[1;30m[23:15:18] \u001b[0m \u001b[0;35mCOMMAND\t\u001b[0mPOST \t \"/wd/hub/session/ae4480a26f62f1bde47f9ced12c2b291/keys\"\n"
     ]
    },
    {
     "name": "stderr",
     "output_type": "stream",
     "text": [
      "WARNING: the \"keys\" command will be depcrecated soon. Please use a different command in order to avoid failures in your test after updating WebdriverIO.\n"
     ]
    },
    {
     "name": "stdout",
     "output_type": "stream",
     "text": [
      "\u001b[1;30m[23:15:18] \u001b[0m \u001b[0;35mCOMMAND\t\u001b[0mPOST \t \"/wd/hub/session/ae4480a26f62f1bde47f9ced12c2b291/keys\"\n"
     ]
    },
    {
     "name": "stderr",
     "output_type": "stream",
     "text": [
      "WARNING: the \"keys\" command will be depcrecated soon. Please use a different command in order to avoid failures in your test after updating WebdriverIO.\n"
     ]
    },
    {
     "name": "stdout",
     "output_type": "stream",
     "text": [
      "\u001b[1;30m[23:15:19] \u001b[0m \u001b[0;35mCOMMAND\t\u001b[0mPOST \t \"/wd/hub/session/ae4480a26f62f1bde47f9ced12c2b291/keys\"\n",
      "\u001b[1;30m[23:15:20] \u001b[0m \u001b[0;35mCOMMAND\t\u001b[0mPOST \t \"/wd/hub/session/ae4480a26f62f1bde47f9ced12c2b291/window\"\n",
      "\u001b[1;30m[23:15:20] \u001b[0m \u001b[0;35mCOMMAND\t\u001b[0mPOST \t \"/wd/hub/session/ae4480a26f62f1bde47f9ced12c2b291/element\"\n",
      "\u001b[1;30m[23:15:21] \u001b[0m \u001b[0;35mCOMMAND\t\u001b[0mPOST \t \"/wd/hub/session/ae4480a26f62f1bde47f9ced12c2b291/element/0.1684134124182659-1/click\"\n"
     ]
    },
    {
     "name": "stderr",
     "output_type": "stream",
     "text": [
      "WARNING: the \"keys\" command will be depcrecated soon. Please use a different command in order to avoid failures in your test after updating WebdriverIO.\n"
     ]
    },
    {
     "name": "stdout",
     "output_type": "stream",
     "text": [
      "\u001b[1;30m[23:15:21] \u001b[0m \u001b[0;35mCOMMAND\t\u001b[0mPOST \t \"/wd/hub/session/ae4480a26f62f1bde47f9ced12c2b291/keys\"\n"
     ]
    },
    {
     "name": "stderr",
     "output_type": "stream",
     "text": [
      "WARNING: the \"keys\" command will be depcrecated soon. Please use a different command in order to avoid failures in your test after updating WebdriverIO.\n"
     ]
    },
    {
     "name": "stdout",
     "output_type": "stream",
     "text": [
      "\u001b[1;30m[23:15:21] \u001b[0m \u001b[0;35mCOMMAND\t\u001b[0mPOST \t \"/wd/hub/session/ae4480a26f62f1bde47f9ced12c2b291/keys\"\n"
     ]
    },
    {
     "name": "stderr",
     "output_type": "stream",
     "text": [
      "WARNING: the \"keys\" command will be depcrecated soon. Please use a different command in order to avoid failures in your test after updating WebdriverIO.\n"
     ]
    },
    {
     "name": "stdout",
     "output_type": "stream",
     "text": [
      "\u001b[1;30m[23:15:22] \u001b[0m \u001b[0;35mCOMMAND\t\u001b[0mPOST \t \"/wd/hub/session/ae4480a26f62f1bde47f9ced12c2b291/keys\"\n",
      "\u001b[1;30m[23:15:43] \u001b[0m \u001b[0;35mCOMMAND\t\u001b[0mPOST \t \"/wd/hub/session/ae4480a26f62f1bde47f9ced12c2b291/element\"\n",
      "\u001b[1;30m[23:15:43] \u001b[0m \u001b[0;35mCOMMAND\t\u001b[0mPOST \t \"/wd/hub/session/ae4480a26f62f1bde47f9ced12c2b291/element/0.1684134124182659-1/click\"\n"
     ]
    },
    {
     "name": "stderr",
     "output_type": "stream",
     "text": [
      "WARNING: the \"keys\" command will be depcrecated soon. Please use a different command in order to avoid failures in your test after updating WebdriverIO.\n"
     ]
    },
    {
     "name": "stdout",
     "output_type": "stream",
     "text": [
      "\u001b[1;30m[23:15:43] \u001b[0m \u001b[0;35mCOMMAND\t\u001b[0mPOST \t \"/wd/hub/session/ae4480a26f62f1bde47f9ced12c2b291/keys\"\n"
     ]
    },
    {
     "name": "stderr",
     "output_type": "stream",
     "text": [
      "WARNING: the \"keys\" command will be depcrecated soon. Please use a different command in order to avoid failures in your test after updating WebdriverIO.\n"
     ]
    },
    {
     "name": "stdout",
     "output_type": "stream",
     "text": [
      "\u001b[1;30m[23:15:43] \u001b[0m \u001b[0;35mCOMMAND\t\u001b[0mPOST \t \"/wd/hub/session/ae4480a26f62f1bde47f9ced12c2b291/keys\"\n"
     ]
    },
    {
     "name": "stderr",
     "output_type": "stream",
     "text": [
      "WARNING: the \"keys\" command will be depcrecated soon. Please use a different command in order to avoid failures in your test after updating WebdriverIO.\n"
     ]
    },
    {
     "name": "stdout",
     "output_type": "stream",
     "text": [
      "\u001b[1;30m[23:15:44] \u001b[0m \u001b[0;35mCOMMAND\t\u001b[0mPOST \t \"/wd/hub/session/ae4480a26f62f1bde47f9ced12c2b291/keys\"\n",
      "\u001b[1;30m[23:15:44] \u001b[0m \u001b[0;35mCOMMAND\t\u001b[0mPOST \t \"/wd/hub/session/ae4480a26f62f1bde47f9ced12c2b291/window\"\n",
      "\u001b[1;30m[23:15:44] \u001b[0m \u001b[0;35mCOMMAND\t\u001b[0mPOST \t \"/wd/hub/session/ae4480a26f62f1bde47f9ced12c2b291/element\"\n",
      "\u001b[1;30m[23:15:44] \u001b[0m \u001b[0;35mCOMMAND\t\u001b[0mPOST \t \"/wd/hub/session/ae4480a26f62f1bde47f9ced12c2b291/element/0.39461258178113234-1/click\"\n"
     ]
    },
    {
     "name": "stderr",
     "output_type": "stream",
     "text": [
      "WARNING: the \"keys\" command will be depcrecated soon. Please use a different command in order to avoid failures in your test after updating WebdriverIO.\n"
     ]
    },
    {
     "name": "stdout",
     "output_type": "stream",
     "text": [
      "\u001b[1;30m[23:15:44] \u001b[0m \u001b[0;35mCOMMAND\t\u001b[0mPOST \t \"/wd/hub/session/ae4480a26f62f1bde47f9ced12c2b291/keys\"\n"
     ]
    },
    {
     "name": "stderr",
     "output_type": "stream",
     "text": [
      "WARNING: the \"keys\" command will be depcrecated soon. Please use a different command in order to avoid failures in your test after updating WebdriverIO.\n"
     ]
    },
    {
     "name": "stdout",
     "output_type": "stream",
     "text": [
      "\u001b[1;30m[23:15:45] \u001b[0m \u001b[0;35mCOMMAND\t\u001b[0mPOST \t \"/wd/hub/session/ae4480a26f62f1bde47f9ced12c2b291/keys\"\n"
     ]
    },
    {
     "name": "stderr",
     "output_type": "stream",
     "text": [
      "WARNING: the \"keys\" command will be depcrecated soon. Please use a different command in order to avoid failures in your test after updating WebdriverIO.\n"
     ]
    },
    {
     "name": "stdout",
     "output_type": "stream",
     "text": [
      "\u001b[1;30m[23:15:48] \u001b[0m \u001b[0;35mCOMMAND\t\u001b[0mPOST \t \"/wd/hub/session/ae4480a26f62f1bde47f9ced12c2b291/keys\"\n",
      "\u001b[1;30m[23:16:08] \u001b[0m \u001b[0;35mCOMMAND\t\u001b[0mPOST \t \"/wd/hub/session/ae4480a26f62f1bde47f9ced12c2b291/element\"\n",
      "\u001b[1;30m[23:16:09] \u001b[0m \u001b[0;35mCOMMAND\t\u001b[0mPOST \t \"/wd/hub/session/ae4480a26f62f1bde47f9ced12c2b291/element/0.39461258178113234-1/click\"\n"
     ]
    },
    {
     "name": "stderr",
     "output_type": "stream",
     "text": [
      "WARNING: the \"keys\" command will be depcrecated soon. Please use a different command in order to avoid failures in your test after updating WebdriverIO.\n"
     ]
    },
    {
     "name": "stdout",
     "output_type": "stream",
     "text": [
      "\u001b[1;30m[23:16:09] \u001b[0m \u001b[0;35mCOMMAND\t\u001b[0mPOST \t \"/wd/hub/session/ae4480a26f62f1bde47f9ced12c2b291/keys\"\n"
     ]
    },
    {
     "name": "stderr",
     "output_type": "stream",
     "text": [
      "WARNING: the \"keys\" command will be depcrecated soon. Please use a different command in order to avoid failures in your test after updating WebdriverIO.\n"
     ]
    },
    {
     "name": "stdout",
     "output_type": "stream",
     "text": [
      "\u001b[1;30m[23:16:10] \u001b[0m \u001b[0;35mCOMMAND\t\u001b[0mPOST \t \"/wd/hub/session/ae4480a26f62f1bde47f9ced12c2b291/keys\"\n"
     ]
    },
    {
     "name": "stderr",
     "output_type": "stream",
     "text": [
      "WARNING: the \"keys\" command will be depcrecated soon. Please use a different command in order to avoid failures in your test after updating WebdriverIO.\n"
     ]
    },
    {
     "name": "stdout",
     "output_type": "stream",
     "text": [
      "\u001b[1;30m[23:16:11] \u001b[0m \u001b[0;35mCOMMAND\t\u001b[0mPOST \t \"/wd/hub/session/ae4480a26f62f1bde47f9ced12c2b291/keys\"\n",
      "\u001b[1;30m[23:16:14] \u001b[0m \u001b[0;35mCOMMAND\t\u001b[0mPOST \t \"/wd/hub/session/ae4480a26f62f1bde47f9ced12c2b291/window\"\n",
      "\u001b[1;30m[23:16:14] \u001b[0m \u001b[0;35mCOMMAND\t\u001b[0mPOST \t \"/wd/hub/session/ae4480a26f62f1bde47f9ced12c2b291/element\"\n",
      "\u001b[1;30m[23:16:15] \u001b[0m \u001b[0;35mCOMMAND\t\u001b[0mPOST \t \"/wd/hub/session/ae4480a26f62f1bde47f9ced12c2b291/element/0.871277159087444-1/click\"\n"
     ]
    },
    {
     "name": "stderr",
     "output_type": "stream",
     "text": [
      "WARNING: the \"keys\" command will be depcrecated soon. Please use a different command in order to avoid failures in your test after updating WebdriverIO.\n"
     ]
    },
    {
     "name": "stdout",
     "output_type": "stream",
     "text": [
      "\u001b[1;30m[23:16:15] \u001b[0m \u001b[0;35mCOMMAND\t\u001b[0mPOST \t \"/wd/hub/session/ae4480a26f62f1bde47f9ced12c2b291/keys\"\n"
     ]
    },
    {
     "name": "stderr",
     "output_type": "stream",
     "text": [
      "WARNING: the \"keys\" command will be depcrecated soon. Please use a different command in order to avoid failures in your test after updating WebdriverIO.\n"
     ]
    },
    {
     "name": "stdout",
     "output_type": "stream",
     "text": [
      "\u001b[1;30m[23:16:16] \u001b[0m \u001b[0;35mCOMMAND\t\u001b[0mPOST \t \"/wd/hub/session/ae4480a26f62f1bde47f9ced12c2b291/keys\"\n"
     ]
    },
    {
     "name": "stderr",
     "output_type": "stream",
     "text": [
      "WARNING: the \"keys\" command will be depcrecated soon. Please use a different command in order to avoid failures in your test after updating WebdriverIO.\n"
     ]
    },
    {
     "name": "stdout",
     "output_type": "stream",
     "text": [
      "\u001b[1;30m[23:16:19] \u001b[0m \u001b[0;35mCOMMAND\t\u001b[0mPOST \t \"/wd/hub/session/ae4480a26f62f1bde47f9ced12c2b291/keys\"\n",
      "\u001b[1;30m[23:16:40] \u001b[0m \u001b[0;35mCOMMAND\t\u001b[0mPOST \t \"/wd/hub/session/ae4480a26f62f1bde47f9ced12c2b291/element\"\n",
      "\u001b[1;30m[23:16:40] \u001b[0m \u001b[0;35mCOMMAND\t\u001b[0mPOST \t \"/wd/hub/session/ae4480a26f62f1bde47f9ced12c2b291/element/0.871277159087444-1/click\"\n"
     ]
    },
    {
     "name": "stderr",
     "output_type": "stream",
     "text": [
      "WARNING: the \"keys\" command will be depcrecated soon. Please use a different command in order to avoid failures in your test after updating WebdriverIO.\n"
     ]
    },
    {
     "name": "stdout",
     "output_type": "stream",
     "text": [
      "\u001b[1;30m[23:16:41] \u001b[0m \u001b[0;35mCOMMAND\t\u001b[0mPOST \t \"/wd/hub/session/ae4480a26f62f1bde47f9ced12c2b291/keys\"\n"
     ]
    },
    {
     "name": "stderr",
     "output_type": "stream",
     "text": [
      "WARNING: the \"keys\" command will be depcrecated soon. Please use a different command in order to avoid failures in your test after updating WebdriverIO.\n"
     ]
    },
    {
     "name": "stdout",
     "output_type": "stream",
     "text": [
      "\u001b[1;30m[23:16:41] \u001b[0m \u001b[0;35mCOMMAND\t\u001b[0mPOST \t \"/wd/hub/session/ae4480a26f62f1bde47f9ced12c2b291/keys\"\n"
     ]
    },
    {
     "name": "stderr",
     "output_type": "stream",
     "text": [
      "WARNING: the \"keys\" command will be depcrecated soon. Please use a different command in order to avoid failures in your test after updating WebdriverIO.\n"
     ]
    },
    {
     "name": "stdout",
     "output_type": "stream",
     "text": [
      "\u001b[1;30m[23:16:42] \u001b[0m \u001b[0;35mCOMMAND\t\u001b[0mPOST \t \"/wd/hub/session/ae4480a26f62f1bde47f9ced12c2b291/keys\"\n"
     ]
    },
    {
     "data": {
      "text/plain": [
       "[ undefined, undefined, undefined, undefined, undefined ]"
      ]
     },
     "execution_count": 1,
     "metadata": {},
     "output_type": "execute_result"
    }
   ],
   "source": [
    "var importer = require('../Core');\n",
    "var runSeleniumCell = importer.import('selenium cell');\n",
    "\n",
    "var query = 'list of search engines';\n",
    "\n",
    "var tileWindows, jokes, windows, sendFacebookMessage;\n",
    "\n",
    "var friends = [\n",
    "    /*\n",
    "    'https://www.facebook.com/messages/t/profile.php?id=100013570236133',\n",
    "    'https://www.facebook.com/messages/t/ryan.stoffko',\n",
    "    'https://www.facebook.com/messages/t/profile.php?id=6212130467169267713',\n",
    "    'https://www.facebook.com/messages/t/joanna.street24',\n",
    "    'https://www.facebook.com/messages/t/stephanie.desertgirl',\n",
    "    'https://www.facebook.com/messages/t/rohwedernt',\n",
    "    'https://www.facebook.com/messages/t/david.earl.smith',\n",
    "    'https://www.facebook.com/messages/t/lemcvey',\n",
    "    'https://www.facebook.com/messages/t/teresa.cvach',\n",
    "    'https://www.facebook.com/messages/t/firealwaysworks',\n",
    "    'https://www.facebook.com/messages/t/crystaldgraziano',\n",
    "    'https://www.facebook.com/messages/t/faulkner.shane',\n",
    "    'https://www.facebook.com/messages/t/colleen.k.cullinan',\n",
    "    'https://www.facebook.com/messages/t/lemcvey',\n",
    "    'https://www.facebook.com/messages/t/james.cullinan.315',\n",
    "    'https://www.facebook.com/messages/t/jaimeneufer',\n",
    "    'https://www.facebook.com/messages/t/nathaniel.ellingson.3',\n",
    "    'https://www.facebook.com/messages/t/aneesh.karve',\n",
    "    'https://www.facebook.com/messages/t/robert.chandler',\n",
    "    'https://www.facebook.com/messages/t/robert.holweger',\n",
    "    'https://www.facebook.com/messages/t/keifer.street',\n",
    "    'https://www.facebook.com/messages/t/mynameisjane',\n",
    "    'https://www.facebook.com/messages/t/ragunr',\n",
    "    'https://www.facebook.com/messages/t/johan.larson.56',\n",
    "    'https://www.facebook.com/messages/t/abe.pralle',\n",
    "    'https://www.facebook.com/messages/t/crystaldgraziano',\n",
    "    'https://www.facebook.com/messages/t/wolfdieter.otte',\n",
    "    'https://www.facebook.com/messages/t/carisa.knight6000',\n",
    "    'https://www.facebook.com/messages/t/talbert.tso',\n",
    "    'https://www.facebook.com/messages/t/abe.anwary',\n",
    "    'https://www.facebook.com/messages/t/devin.west2',\n",
    "    'https://www.facebook.com/messages/t/eurostar88',\n",
    "    */\n",
    "];\n",
    "\n",
    "function tellJokes() {\n",
    "    // get multiple sets of 9 working for single page scraping in parallel\n",
    "    return runSeleniumCell([\n",
    "        'tile chrome windows',\n",
    "        'log in facebook',\n",
    "        'send facebook message',\n",
    "        'send a joke'\n",
    "    ])\n",
    "        .then(r => {\n",
    "            tileWindows = r.tileWindows;\n",
    "            sendFacebookMessage = r.sendFacebookMessage;\n",
    "            sendJoke = r.sendJoke;\n",
    "            return r.loginFacebook()\n",
    "        })\n",
    "        .then(() => tileWindows(friends))\n",
    "        .then(windows => {\n",
    "            return importer.runAllPromises(windows.value.map(hwnd => resolve => {\n",
    "                return sendJoke(hwnd).then(() => resolve());\n",
    "            }))\n",
    "        })\n",
    "        .catch(e => console.log(e))\n",
    "}\n",
    "\n",
    "$$.async();\n",
    "tellJokes()\n",
    "    .then(r => $$.sendResult(r))\n",
    "    .catch(e => $$.sendError(e))\n"
   ]
  },
  {
   "cell_type": "markdown",
   "metadata": {},
   "source": [
    "clean up old selenium sessions?"
   ]
  },
  {
   "cell_type": "code",
   "execution_count": null,
   "metadata": {},
   "outputs": [],
   "source": [
    "var importer = require('../Core');\n",
    "var execCmd = importer.import('spawn child process');\n",
    "var runSeleniumCell = importer.import('selenium cell');\n",
    "var createWebdriverClient = importer.import('webdriver client');\n",
    "\n",
    "var regexToArray = (ex, str, i = 0) => {\n",
    "    var co = []; var m; while ((m = ex.exec(str)) && co.push(m[i])); return co;\n",
    "};\n",
    "\n",
    "$$.async();\n",
    "var client, sessions;\n",
    "execCmd('docker logs act-selenium')\n",
    "    .then(r => regexToArray(/\\/session\\/(.+?)\\//ig, r.join('\\n'), 1))\n",
    "    .then(r => sessions = r.filter((s, i, arr) => arr.indexOf(s) === i))\n",
    "    .then(() => client = createWebdriverClient())\n",
    "    .then(() => {\n",
    "        return importer.runAllPromises(sessions.map(session => (resolve) => {\n",
    "            client.requestHandler.sessionID = session;\n",
    "            client\n",
    "                .windowHandle()\n",
    "                .then(r => client.window(r.value))\n",
    "                .session()\n",
    "                .end()\n",
    "                .then(s => resolve(s.sessionId))\n",
    "                .catch(e => resolve())\n",
    "        }))\n",
    "    })\n",
    "    .then(r => $$.sendResult(r))\n",
    "    .catch(r => $$.sendError(r))\n",
    "\n"
   ]
  },
  {
   "cell_type": "code",
   "execution_count": null,
   "metadata": {},
   "outputs": [],
   "source": []
  }
 ],
 "metadata": {
  "kernelspec": {
   "display_name": "Javascript (Node.js)",
   "language": "javascript",
   "name": "javascript"
  },
  "language_info": {
   "file_extension": ".js",
   "mimetype": "application/javascript",
   "name": "javascript",
   "version": "8.6.0"
  }
 },
 "nbformat": 4,
 "nbformat_minor": 2
}
