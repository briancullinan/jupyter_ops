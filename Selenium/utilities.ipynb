{
 "cells": [
  {
   "cell_type": "markdown",
   "metadata": {},
   "source": [
    "Scroll a specific element?\n"
   ]
  },
  {
   "cell_type": "code",
   "execution_count": 5,
   "metadata": {},
   "outputs": [
    {
     "data": {
      "text/plain": [
       "[Function: scrollClient]"
      ]
     },
     "execution_count": 5,
     "metadata": {},
     "output_type": "execute_result"
    }
   ],
   "source": [
    "\n",
    "var scrollClient = (selector, up = false) => {\n",
    "    // scroll to bottom of messages\n",
    "    return client\n",
    "    .execute((selector, up = false) => {\n",
    "        if(selector === '' || selector === false) {\n",
    "            window.scroll(window.scrollX, window.scrollY + (up ? -100000 : 100000));\n",
    "            return;\n",
    "        }\n",
    "        var people = document.evaluate(\n",
    "            selector,\n",
    "            document, null,\n",
    "            XPathResult.FIRST_ORDERED_NODE_TYPE, null).singleNodeValue;\n",
    "        people.scrollTop = people.scrollTop + (up ? -100000 : 100000);\n",
    "    }, selector, up)\n",
    "};\n",
    "module.exports = scrollClient;\n",
    "scrollClient;\n"
   ]
  },
  {
   "cell_type": "markdown",
   "metadata": {},
   "source": [
    "Get all elements using XPath?\n",
    "\n"
   ]
  },
  {
   "cell_type": "code",
   "execution_count": 3,
   "metadata": {},
   "outputs": [
    {
     "data": {
      "text/plain": [
       "[Function: getAllXPath]"
      ]
     },
     "execution_count": 3,
     "metadata": {},
     "output_type": "execute_result"
    }
   ],
   "source": [
    "var getAllXPathBrowser = (selector) => {\n",
    "\n",
    "    var getArrayXPath = (selector, ctx) => {\n",
    "        if(typeof ctx == 'undefined') {\n",
    "            ctx = document;\n",
    "        }\n",
    "        var iterator = document.evaluate(\n",
    "            selector,\n",
    "            ctx, null,\n",
    "            XPathResult.ORDERED_NODE_ITERATOR_TYPE, null);\n",
    "        var co = []; var m;\n",
    "        while ((m = iterator.iterateNext()) && co.push(m.nodeValue || m));\n",
    "        return co;\n",
    "    };\n",
    "\n",
    "    var getObjectXPath = (object, ctx) => {\n",
    "        var result = {};\n",
    "        // TODO: parse object\n",
    "        for(var p in object) {\n",
    "            if(object.hasOwnProperty(p)) {\n",
    "                result[p] = resolveXPathQueries(object[p], ctx);\n",
    "            }\n",
    "        }\n",
    "        return result;\n",
    "    }\n",
    "\n",
    "    var resolveXPathQueries = (selector, ctx) => {\n",
    "        var inputArr = selector;\n",
    "        if(!Array.isArray(inputArr)) {\n",
    "            inputArr = [inputArr];\n",
    "        }\n",
    "\n",
    "        // parse array of string and objects\n",
    "        var result = [], previousResults;\n",
    "        for(var i = 0; i < inputArr.length; i++) {\n",
    "            if(typeof inputArr[i] == 'string') {\n",
    "                if(typeof previousResults != 'undefined') {\n",
    "                    result = result.concat(previousResults);\n",
    "                }\n",
    "                // store in case the next query is a mapped object\n",
    "                previousResults = getArrayXPath(inputArr[i], ctx);\n",
    "            } else if (typeof inputArr[i] == 'object') {\n",
    "                if(typeof previousResults != 'undefined') {\n",
    "                    previousResults = previousResults.map(p => \n",
    "                                                getObjectXPath(inputArr[i], p));\n",
    "                    result = result.concat(previousResults);\n",
    "                    previousResults = undefined;\n",
    "                } else {\n",
    "                    result[result.length] = getObjectXPath(inputArr[i], ctx);\n",
    "                }\n",
    "            } else if (Array.isArray(inputArr[i])) {\n",
    "                result = result.concat(resolveXPathQueries(inputArr[i], ctx));\n",
    "            } else if (typeof inputArr[i] == 'function') {\n",
    "                // TODO: what to do here?\n",
    "            }\n",
    "        }\n",
    "        if(typeof previousResults != 'undefined') {\n",
    "            result = result.concat(previousResults);\n",
    "        }    \n",
    "\n",
    "        if(!Array.isArray(selector) && result.length == 1) {\n",
    "            return result[0];\n",
    "        }\n",
    "        return result;\n",
    "    };\n",
    "    return resolveXPathQueries(selector);\n",
    "}\n",
    "// TODO: better way to do this for selenium versus browser?\n",
    "var getAllXPath = (selector) => client.execute(getAllXPathBrowser, selector).then(r => r.value).catch(e => console.log(e));\n",
    "if (typeof client.getAllXPath == 'undefined') {\n",
    "    client.addCommand('getAllXPath', getAllXPath);\n",
    "}\n",
    "module.exports = getAllXPath;\n",
    "getAllXPath;\n"
   ]
  },
  {
   "cell_type": "markdown",
   "metadata": {},
   "source": [
    "Get all elements until?\n",
    "\n"
   ]
  },
  {
   "cell_type": "code",
   "execution_count": 7,
   "metadata": {},
   "outputs": [
    {
     "data": {
      "text/plain": [
       "[Function: getAllUntil]"
      ]
     },
     "execution_count": 7,
     "metadata": {},
     "output_type": "execute_result"
    }
   ],
   "source": [
    "var importer = require('../Core');\n",
    "\n",
    "var getAllXPath, scrollClient;\n",
    "var getAllUntil = (scrollableSelector,\n",
    "                   dataSelector,\n",
    "                   set = [],\n",
    "                   compare = (a, b) => m == e,\n",
    "                   cb = (i) => i < 3, i = 0) => {\n",
    "    return client\n",
    "    .then(() => importer.interpretAll(['all xpath elements', 'scroll specific element']))\n",
    "    .then(r => {\n",
    "        getAllXPath = r[0].runInNewContext({client});\n",
    "        scrollClient = r[1].runInNewContext({client});\n",
    "        return getAllXPath(dataSelector);\n",
    "    })\n",
    "    .then(r => {\n",
    "        var newPosts = r\n",
    "            .filter(e => set\n",
    "                .filter(m => compare(e, m)).length === 0);\n",
    "        set = newPosts.concat(set);\n",
    "        return newPosts.length > 0\n",
    "            ? scrollClient(scrollableSelector)\n",
    "            .pause(3000)\n",
    "            .then(() => cb(i)\n",
    "            ? getAllUntil(scrollableSelector, dataSelector, set, compare, cb, i + 1)\n",
    "            : set)\n",
    "            : Promise.resolve(set);\n",
    "    })\n",
    "    .catch(e => console.log(e))\n",
    "};\n",
    "if (typeof client.getAllUntil == 'undefined') {\n",
    "    client.addCommand('getAllUntil', getAllUntil);\n",
    "}\n",
    "module.exports = getAllUntil;\n",
    "getAllUntil;\n",
    "\n",
    "\n"
   ]
  },
  {
   "cell_type": "code",
   "execution_count": null,
   "metadata": {},
   "outputs": [],
   "source": []
  }
 ],
 "metadata": {
  "kernelspec": {
   "display_name": "Javascript (Node.js)",
   "language": "javascript",
   "name": "javascript"
  },
  "language_info": {
   "file_extension": ".js",
   "mimetype": "application/javascript",
   "name": "javascript",
   "version": "8.6.0"
  }
 },
 "nbformat": 4,
 "nbformat_minor": 2
}
