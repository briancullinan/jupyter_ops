{
 "cells": [
  {
   "cell_type": "markdown",
   "metadata": {},
   "source": [
    "Scroll a specific element?\n"
   ]
  },
  {
   "cell_type": "code",
   "execution_count": 5,
   "metadata": {},
   "outputs": [
    {
     "data": {
      "text/plain": [
       "[Function: scrollClient]"
      ]
     },
     "execution_count": 5,
     "metadata": {},
     "output_type": "execute_result"
    }
   ],
   "source": [
    "var scrollClient = (selector, up = false) => {\r",
    "    // scroll to bottom of messages\r",
    "    return client\r",
    "        .execute((selector, up = false) => {\r",
    "            if (selector === '' || selector === false) {\r",
    "                window.scroll(window.scrollX, window.scrollY + (up ? -100000 : 100000));\r",
    "                return;\r",
    "            }\r",
    "            var people = document.evaluate(\r",
    "                selector,\r",
    "                document, null,\r",
    "                XPathResult.FIRST_ORDERED_NODE_TYPE, null).singleNodeValue;\r",
    "            people.scrollTop = people.scrollTop + (up ? -100000 : 100000);\r",
    "        }, selector, up)\r",
    "};\r",
    "module.exports = scrollClient;\r",
    "scrollClient;\r"
   ]
  },
  {
   "cell_type": "markdown",
   "metadata": {},
   "source": [
    "Get all elements XPath?\n",
    "\n"
   ]
  },
  {
   "cell_type": "code",
   "execution_count": 3,
   "metadata": {},
   "outputs": [
    {
     "data": {
      "text/plain": [
       "[Function: getAllXPath]"
      ]
     },
     "execution_count": 3,
     "metadata": {},
     "output_type": "execute_result"
    }
   ],
   "source": [
    "var getAllXPathBrowser = (selector) => {\r",
    "    var getArrayXPath = (selector, ctx) => {\r",
    "        if (typeof ctx == 'undefined') {\r",
    "            ctx = document;\r",
    "        }\r",
    "        var iterator = document.evaluate(\r",
    "            selector,\r",
    "            ctx, null,\r",
    "            XPathResult.ORDERED_NODE_ITERATOR_TYPE, null);\r",
    "        var co = [];\r",
    "        var m;\r",
    "        while ((m = iterator.iterateNext()) && co.push(m.nodeValue || m)) ;\r",
    "        return co;\r",
    "    };\r",
    "\r",
    "    var getObjectXPath = (object, ctx) => {\r",
    "        var result = {};\r",
    "        // TODO: parse object\r",
    "        for (var p in object) {\r",
    "            if (object.hasOwnProperty(p)) {\r",
    "                result[p] = resolveXPathQueries(object[p], ctx);\r",
    "            }\r",
    "        }\r",
    "        return result;\r",
    "    }\r",
    "\r",
    "    var resolveXPathQueries = (selector, ctx) => {\r",
    "        var inputArr = selector;\r",
    "        if (!Array.isArray(inputArr)) {\r",
    "            inputArr = [inputArr];\r",
    "        }\r",
    "\r",
    "        // parse array of string and objects\r",
    "        var result = [], previousResults;\r",
    "        for (var i = 0; i < inputArr.length; i++) {\r",
    "            if (typeof inputArr[i] == 'string') {\r",
    "                if (typeof previousResults != 'undefined') {\r",
    "                    result = result.concat(previousResults);\r",
    "                }\r",
    "                // store in case the next query is a mapped object\r",
    "                previousResults = getArrayXPath(inputArr[i], ctx);\r",
    "            } else if (typeof inputArr[i] == 'object') {\r",
    "                if (typeof previousResults != 'undefined') {\r",
    "                    previousResults = previousResults.map(p =>\r",
    "                        getObjectXPath(inputArr[i], p));\r",
    "                    result = result.concat(previousResults);\r",
    "                    previousResults = undefined;\r",
    "                } else {\r",
    "                    result[result.length] = getObjectXPath(inputArr[i], ctx);\r",
    "                }\r",
    "            } else if (Array.isArray(inputArr[i])) {\r",
    "                result = result.concat(resolveXPathQueries(inputArr[i], ctx));\r",
    "            } else if (typeof inputArr[i] == 'function') {\r",
    "                // TODO: what to do here?\r",
    "            }\r",
    "        }\r",
    "        if (typeof previousResults != 'undefined') {\r",
    "            result = result.concat(previousResults);\r",
    "        }\r",
    "\r",
    "        if (!Array.isArray(selector) && result.length == 1) {\r",
    "            return result[0];\r",
    "        }\r",
    "        return result;\r",
    "    };\r",
    "    return resolveXPathQueries(selector);\r",
    "}\r",
    "// TODO: better way to do this for selenium versus browser?\r",
    "var getAllXPath = (selector) => client.execute(getAllXPathBrowser, selector)\r",
    "    .then(r => r.value)\r",
    "    .catch(e => console.log(e));\n",
    "if (typeof client.getAllXPath == 'undefined') {\r",
    "    client.addCommand('getAllXPath', getAllXPath);\r",
    "}\r",
    "module.exports = getAllXPath;\r"
   ]
  },
  {
   "cell_type": "markdown",
   "metadata": {},
   "source": [
    "Get all elements until?\n",
    "\n"
   ]
  },
  {
   "cell_type": "code",
   "execution_count": 7,
   "metadata": {},
   "outputs": [
    {
     "data": {
      "text/plain": [
       "[Function: getAllUntil]"
      ]
     },
     "execution_count": 7,
     "metadata": {},
     "output_type": "execute_result"
    }
   ],
   "source": [
    "var importer = require('../Core');\r",
    "var {\n",
    "    getAllXPath, scrollClient\n",
    "} = importer.import([\n",
    "    'all elements xpath',\n",
    "    'scroll specific element'\n",
    "], {client})\r",
    "var getAllUntil = (scrollableSelector,\r",
    "                   dataSelector,\r",
    "                   set = [],\r",
    "                   compare = (a, b) => m == e,\r",
    "                   cb = (i) => i < 3, i = 0) => {\r",
    "    return getAllXPath(dataSelector)\r",
    "        .then(r => {\r",
    "            var newPosts = r\r",
    "                .filter(e => set\r",
    "                    .filter(m => compare(e, m)).length === 0);\r",
    "            set = newPosts.concat(set);\r",
    "            return newPosts.length > 0\r",
    "                ? scrollClient(scrollableSelector)\r",
    "                    .pause(5000)\r",
    "                    .then(() => cb(i)\r",
    "                        ? getAllUntil(scrollableSelector, dataSelector, set, compare, cb, i + 1)\r",
    "                        : set)\r",
    "                : Promise.resolve(set);\r",
    "        })\r",
    "        .catch(e => console.log(e))\r",
    "};\r",
    "if (typeof client.getAllUntil == 'undefined') {\r",
    "    client.addCommand('getAllUntil', getAllUntil);\r",
    "}\r",
    "module.exports = getAllUntil;\r",
    "\r",
    "\r"
   ]
  },
  {
   "cell_type": "code",
   "execution_count": null,
   "metadata": {},
   "outputs": [],
   "source": []
  }
 ],
 "metadata": {
  "kernelspec": {
   "display_name": "Javascript (Node.js)",
   "language": "javascript",
   "name": "javascript"
  },
  "language_info": {
   "file_extension": ".js",
   "mimetype": "application/javascript",
   "name": "javascript",
   "version": "8.6.0"
  }
 },
 "nbformat": 4,
 "nbformat_minor": 2
}
