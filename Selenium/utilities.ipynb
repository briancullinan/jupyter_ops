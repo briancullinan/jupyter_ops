{
 "cells": [
  {
   "cell_type": "markdown",
   "metadata": {},
   "source": [
    "Scroll a specific element?\n"
   ]
  },
  {
   "cell_type": "code",
   "execution_count": 5,
   "metadata": {},
   "outputs": [
    {
     "data": {
      "text/plain": [
       "[Function: scrollClient]"
      ]
     },
     "execution_count": 5,
     "metadata": {},
     "output_type": "execute_result"
    }
   ],
   "source": [
    "\n",
    "var scrollClient = (selector, up = false) => {\n",
    "    // scroll to bottom of messages\n",
    "    return client\n",
    "    .execute((selector, up = false) => {\n",
    "        var people = document.evaluate(\n",
    "            selector,\n",
    "            document, null,\n",
    "            XPathResult.FIRST_ORDERED_NODE_TYPE, null).singleNodeValue;\n",
    "        people.scrollTop = people.scrollTop + (up ? -10000 : 10000);\n",
    "    }, selector, up)\n",
    "};\n",
    "module.exports = scrollClient;\n",
    "scrollClient;\n"
   ]
  },
  {
   "cell_type": "markdown",
   "metadata": {},
   "source": [
    "Get all elements using?\n",
    "\n"
   ]
  },
  {
   "cell_type": "code",
   "execution_count": 3,
   "metadata": {},
   "outputs": [
    {
     "data": {
      "text/plain": [
       "[Function: getAllXPath]"
      ]
     },
     "execution_count": 3,
     "metadata": {},
     "output_type": "execute_result"
    }
   ],
   "source": [
    "var getAllXPath = (selector) => {\n",
    "    return client.execute(selector => {\n",
    "        var iterator = document.evaluate(\n",
    "            selector,\n",
    "            document, null,\n",
    "            XPathResult.ORDERED_NODE_ITERATOR_TYPE, null);\n",
    "        var co = []; var m;\n",
    "        while ((m = iterator.iterateNext()) && co.push(m.nodeValue));\n",
    "        return co;\n",
    "    }, selector).then(r => r.value);\n",
    "};\n",
    "module.exports = getAllXPath;\n",
    "getAllXPath;\n",
    "\n"
   ]
  },
  {
   "cell_type": "markdown",
   "metadata": {},
   "source": [
    "Get all elements until?\n",
    "\n"
   ]
  },
  {
   "cell_type": "code",
   "execution_count": 4,
   "metadata": {},
   "outputs": [
    {
     "data": {
      "text/plain": [
       "[Function: getAllUntil]"
      ]
     },
     "execution_count": 4,
     "metadata": {},
     "output_type": "execute_result"
    }
   ],
   "source": [
    "var importer = require('../Core');\n",
    "\n",
    "var getAllXPath, scrollClient;\n",
    "var getAllUntil = (scrollableSelector,\n",
    "                   dataSelector,\n",
    "                   set = [],\n",
    "                   compare = (a, b) => m == e,\n",
    "                   cb = (i) => i < 3, i = 0) => {\n",
    "    return client\n",
    "    .then(() => importer.interpretAll(['get all elements', 'scroll specific element']))\n",
    "    .then(r => {\n",
    "        getAllXPath = r[0].runInNewContext({client});\n",
    "        scrollClient = r[1].runInNewContext({client});\n",
    "        return getAllXPath(dataSelector);\n",
    "    })\n",
    "    .then(r => {\n",
    "        var newPosts = r\n",
    "            .filter(e => set\n",
    "                .filter(m => compare(e, m)).length === 0);\n",
    "        set = newPosts.concat(set);\n",
    "        return newPosts.length > 0\n",
    "            ? scrollClient(scrollableSelector)\n",
    "                .pause(2000)\n",
    "                .then(() => cb(i)\n",
    "                      ? getAllUntil(scrollableSelector, dataSelector, set, compare, cb, i + 1)\n",
    "                      : set)\n",
    "            : Promise.resolve(set);\n",
    "    })\n",
    "\n",
    "};\n",
    "module.exports = getAllUntil;\n",
    "getAllUntil;\n",
    "\n",
    "\n"
   ]
  },
  {
   "cell_type": "code",
   "execution_count": null,
   "metadata": {},
   "outputs": [],
   "source": []
  }
 ],
 "metadata": {
  "kernelspec": {
   "display_name": "Javascript (Node.js)",
   "language": "javascript",
   "name": "javascript"
  },
  "language_info": {
   "file_extension": ".js",
   "mimetype": "application/javascript",
   "name": "javascript",
   "version": "7.7.2"
  }
 },
 "nbformat": 4,
 "nbformat_minor": 2
}
