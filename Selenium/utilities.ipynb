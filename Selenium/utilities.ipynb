{
 "cells": [
  {
   "cell_type": "markdown",
   "metadata": {},
   "source": [
    "Scroll a specific element?\n"
   ]
  },
  {
   "cell_type": "code",
   "execution_count": 5,
   "metadata": {},
   "outputs": [
    {
     "data": {
      "text/plain": [
       "[Function: scrollClient]"
      ]
     },
     "execution_count": 5,
     "metadata": {},
     "output_type": "execute_result"
    }
   ],
   "source": [
    "function scrollClient(selector, up = false) {\n",
    "    // scroll to bottom of messages\n",
    "    return client\n",
    "        .execute((selector, up = false) => {\n",
    "            if (selector === '' || selector === false) {\n",
    "                window.scroll(window.scrollX, window.scrollY + (up ? -100000 : 100000));\n",
    "                return;\n",
    "            }\n",
    "            var people = document.evaluate(\n",
    "                selector,\n",
    "                document, null,\n",
    "                XPathResult.FIRST_ORDERED_NODE_TYPE, null).singleNodeValue;\n",
    "            people.scrollTop = people.scrollTop + (up ? -100000 : 100000);\n",
    "        }, selector, up)\n",
    "};\n",
    "module.exports = scrollClient;\n",
    "scrollClient;\n"
   ]
  },
  {
   "cell_type": "markdown",
   "metadata": {},
   "source": [
    "Get all elements XPath?\n",
    "\n"
   ]
  },
  {
   "cell_type": "code",
   "execution_count": 3,
   "metadata": {},
   "outputs": [
    {
     "data": {
      "text/plain": [
       "[Function: getAllXPath]"
      ]
     },
     "execution_count": 3,
     "metadata": {},
     "output_type": "execute_result"
    }
   ],
   "source": [
    "function getAllXPathBrowser(selector) {\n",
    "    var getArrayXPath = (selector, ctx, index) => {\n",
    "        if (typeof ctx == 'undefined') {\n",
    "            ctx = module.exports.document;\n",
    "        }\n",
    "        var iterator = module.exports.document.evaluate(\n",
    "            selector.replace('$i', index),\n",
    "            ctx, null,\n",
    "            (XPathResult || {}).ORDERED_NODE_ITERATOR_TYPE || 5, null);\n",
    "        var co = [];\n",
    "        var m;\n",
    "        while ((m = iterator.iterateNext()) && co.push(m.nodeValue || m)) ;\n",
    "        return co;\n",
    "    };\n",
    "\n",
    "    var getObjectXPath = (object, ctx, index) => {\n",
    "        var result = {};\n",
    "        // TODO: parse object\n",
    "        for (var p in object) {\n",
    "            if (object.hasOwnProperty(p)) {\n",
    "                result[p] = resolveXPathQueries(object[p], ctx, index);\n",
    "            }\n",
    "        }\n",
    "        return result;\n",
    "    }\n",
    "\n",
    "    var resolveXPathQueries = (selector, ctx, index) => {\n",
    "        var inputArr = selector;\n",
    "        if (!Array.isArray(inputArr)) {\n",
    "            inputArr = [inputArr];\n",
    "        }\n",
    "        // parse array of string and objects\n",
    "        var result = [], previousResults;\n",
    "        for (var i = 0; i < inputArr.length; i++) {\n",
    "            if (typeof inputArr[i] == 'string') {\n",
    "                if (typeof previousResults != 'undefined') {\n",
    "                    result = result.concat(previousResults);\n",
    "                }\n",
    "                // store in case the next query is a mapped object\n",
    "                previousResults = getArrayXPath(inputArr[i], ctx, index);\n",
    "            } else if (typeof inputArr[i] == 'object') {\n",
    "                if (typeof previousResults !== 'undefined') {\n",
    "                    previousResults = previousResults.map((p, j) =>\n",
    "                        getObjectXPath(inputArr[i], p, j));\n",
    "                    result = result.concat(previousResults);\n",
    "                    previousResults = undefined;\n",
    "                } else {\n",
    "                    result[result.length] = getObjectXPath(inputArr[i], ctx, index);\n",
    "                }\n",
    "            } else if (Array.isArray(inputArr[i])) {\n",
    "                result = result.concat(resolveXPathQueries(inputArr[i], ctx));\n",
    "            } else if (typeof inputArr[i] == 'function') {\n",
    "                // TODO: what to do here?\n",
    "            }\n",
    "        }\n",
    "        if (typeof previousResults != 'undefined') {\n",
    "            result = result.concat(previousResults);\n",
    "        }\n",
    "\n",
    "        if (!Array.isArray(selector) && result.length == 1) {\n",
    "            return result[0];\n",
    "        }\n",
    "        return result;\n",
    "    };\n",
    "    return resolveXPathQueries(selector);\n",
    "}\n",
    "\n",
    "// TODO: better way to do this for selenium versus browser?\n",
    "function getAllXPath(selector) {\n",
    "    return module.exports.client.execute(getAllXPathBrowser, selector)\n",
    "        .then(r => r.value)\n",
    "        .catch(e => console.log(e));\n",
    "}\n",
    "\n",
    "if (typeof client !== 'undefined' && typeof client.getAllXPath === 'undefined') {\n",
    "    client.addCommand('getAllXPath', getAllXPath);\n",
    "}\n",
    "module.exports = {\n",
    "    getAllXPath,\n",
    "    client\n",
    "}\n"
   ]
  },
  {
   "cell_type": "markdown",
   "metadata": {},
   "source": [
    "Get all elements until?\n",
    "\n"
   ]
  },
  {
   "cell_type": "code",
   "execution_count": 7,
   "metadata": {},
   "outputs": [
    {
     "data": {
      "text/plain": [
       "[Function: getAllUntil]"
      ]
     },
     "execution_count": 7,
     "metadata": {},
     "output_type": "execute_result"
    }
   ],
   "source": [
    "var importer = require('../Core');\n",
    "var {\n",
    "    getAllXPath, scrollClient\n",
    "} = importer.import([\n",
    "    'all elements xpath',\n",
    "    'scroll specific element'\n",
    "], {client})\n",
    "\n",
    "function getAllUntil(scrollableSelector,\n",
    "                     dataSelector,\n",
    "                     set = [],\n",
    "                     compare = (a, b) => a === b,\n",
    "                     cb = (i) => i < 3,\n",
    "                     up = false,\n",
    "                     i = 0) {\n",
    "    return getAllXPath(dataSelector)\n",
    "        .then(r => {\n",
    "            var newPosts = ((typeof r === 'string' ? [r] : r) || [])\n",
    "                .filter(e => set\n",
    "                    .filter(m => compare(e, m)).length === 0);\n",
    "            set = newPosts.concat(set);\n",
    "            return newPosts.length > 0\n",
    "                ? scrollClient(scrollableSelector, up)\n",
    "                    .pause(4000)\n",
    "                    .then(() => cb(i)\n",
    "                        ? getAllUntil(scrollableSelector, dataSelector, set, compare, cb, up, i + 1)\n",
    "                        : set)\n",
    "                : Promise.resolve(set);\n",
    "        })\n",
    "        .catch(e => console.log(e))\n",
    "};\n",
    "if (typeof client.getAllUntil == 'undefined') {\n",
    "    client.addCommand('getAllUntil', getAllUntil);\n",
    "}\n",
    "module.exports = getAllUntil;\n",
    "\n",
    "\n"
   ]
  },
  {
   "cell_type": "markdown",
   "metadata": {},
   "source": [
    "click spa link?\n"
   ]
  },
  {
   "cell_type": "code",
   "execution_count": null,
   "metadata": {
    "collapsed": true
   },
   "outputs": [],
   "source": [
    "function clickSpa(profile) {\n",
    "    return client\n",
    "        .getUrl()\n",
    "        .then(url => url.indexOf(profile) > -1\n",
    "              ? []\n",
    "              : client\n",
    "             .execute(url => {\n",
    "                var a = document.createElement('a');\n",
    "                a.setAttribute('href', url);\n",
    "                a.setAttribute('class', 'spa');\n",
    "                a.onclick = () => setTimeout(() => document.body.removeChild(a), 500)\n",
    "                a.href = url;\n",
    "                a.style.position = 'absolute';\n",
    "                a.style.zIndex = 4294967295;\n",
    "                a.style.top = 0;\n",
    "                a.style.left = 0;\n",
    "                a.style.bottom = 0;\n",
    "                a.style.right = 0;\n",
    "                document.body.appendChild(a);\n",
    "            }, profile)\n",
    "        .click('a.spa[href*=\"' + profile + '\"]')\n",
    "        .pause(1000))\n",
    "        .catch(e => console.log(e))\n",
    "};\n",
    "if (typeof client.clickSpa == 'undefined') {\n",
    "    client.addCommand('clickSpa', clickSpa);\n",
    "}\n",
    "module.exports = clickSpa;\n"
   ]
  },
  {
   "cell_type": "markdown",
   "metadata": {},
   "source": [
    "xpath minimizing service from recording app\n",
    "\n"
   ]
  },
  {
   "cell_type": "code",
   "execution_count": null,
   "metadata": {
    "collapsed": true
   },
   "outputs": [],
   "source": [
    "\n",
    "\n",
    "static getArrayXPath(selector: string, ctx?: Node): Array<Node> {\n",
    "    if (typeof ctx === 'undefined') {\n",
    "        ctx = document;\n",
    "    }\n",
    "    const iterator = document.evaluate(\n",
    "            selector,\n",
    "            ctx, void 0,\n",
    "            XPathResult.ORDERED_NODE_ITERATOR_TYPE, void 0);\n",
    "    const co: Array<Node> = [];\n",
    "    let m = iterator.iterateNext();\n",
    "    while (m) {\n",
    "        co.push(m);\n",
    "        m = iterator.iterateNext();\n",
    "    }\n",
    "\n",
    "    return co;\n",
    "}\n",
    "\n",
    "static convertXPathToCss(path: string): string {\n",
    "    // if matched xpath is simple enough, convert it to CSS\n",
    "    // DIV[contains(@class, \"product-tile\")]/parent::*/DIV[2]//MD-CARD[contains(@class, \"mat-card\")]/parent::*/MD-CARD[1]\n",
    "    return path\n",
    "            .replace(/\\/([a-z-]+)\\[@id=\"(.*?)\"]/ig, '/$1#$2')\n",
    "            .replace(/\\/([^\\/]+)\\[contains\\(@class, \"(.*?)\"\\)]/ig, '/$1.$2')\n",
    "            .replace(/\\/parent::[a-z-]+\\/[a-z-]+\\[([0-9]+)]/ig, ':nth-child($1)')\n",
    "            .replace(/^\\/\\//ig, '')\n",
    "            .replace(/\\/\\//ig, ' ')\n",
    "            .replace(/\\//ig, ' > ');\n",
    "}\n",
    "\n",
    "elementToXPath(path: Array<EventTarget>): string {\n",
    "\n",
    "    // algorithm magic!\n",
    "    // create an very specific XPath following these rules\n",
    "    const addSegment = (elem: Node): string => {\n",
    "        if (typeof elem === 'undefined' || elem === null) {\n",
    "            return '/';\n",
    "        }\n",
    "        // add:\n",
    "        // * element tag name,\n",
    "        const tag = elem.nodeName;\n",
    "        // * ids,\n",
    "        let id: string | boolean = false;\n",
    "        if (typeof (elem as any).getAttribute === 'function') {\n",
    "            id = (elem as any).getAttribute('id');\n",
    "        }\n",
    "        // * classes with nouns (extra credit dictionary or service integration?),\n",
    "        let className: string | boolean = false;\n",
    "        if (typeof (elem as any).classList !== 'undefined') {\n",
    "            className = (elem as any).classList[ 0 ];\n",
    "        }\n",
    "        // * indexes when all siblings are homogeneous, i.e. <li> and <tr><td>\n",
    "        let countTypes = 0;\n",
    "        if (typeof elem.parentElement !== 'undefined' && elem.parentElement !== null) {\n",
    "            for (let e = 0; e < elem.parentElement.children.length; e++) {\n",
    "                const el = elem.parentElement.children[ e ];\n",
    "                if (el.nodeName === elem.nodeName) {\n",
    "                    countTypes += 1;\n",
    "                }\n",
    "                if (el === elem) {\n",
    "                    break;\n",
    "                }\n",
    "            }\n",
    "        }\n",
    "\n",
    "        return `${tag\n",
    "                ? tag : ''}${id\n",
    "                ? `[@id=\"${id}\"]` : ''}${className\n",
    "                ? `[contains(@class, \"${className}\")]` : ''}${countTypes > 0\n",
    "                ? `/parent::${elem.parentElement.nodeName}/${tag}[${countTypes}]` : ''}`;\n",
    "    };\n",
    "    // use a stack to start for easy debugging\n",
    "    const pathStack = [];\n",
    "    // as we traverse parents of evt.target DOM element\n",
    "    for (const currentEl of path) {\n",
    "        pathStack.unshift(addSegment(currentEl as Node));\n",
    "        if ((currentEl as Node).nodeName === 'BODY') {\n",
    "            break;\n",
    "        }\n",
    "        if ((currentEl as Node).nodeName === 'APP-ROOT') {\n",
    "            return;\n",
    "        }\n",
    "    }\n",
    "\n",
    "    // flatten the XPath stack using '/'\n",
    "    const fullPath = '//*[not(./app-root)]//' + pathStack.join('/');\n",
    "    const matches = RecordingComponent.getArrayXPath(fullPath);\n",
    "    if (matches.length !== 1) {\n",
    "        throw new Error('Can\\'t do anything right!');\n",
    "    }\n",
    "\n",
    "    // minimize XPath by splitting up every combination and checking only 1 element is matched for click\n",
    "    const combinations: Array<string> = [];\n",
    "    // * between 1 to N segments\n",
    "    for (let i = 1; i < pathStack.length; i++) {\n",
    "        for (let j = 1; j < i; j++) {\n",
    "            const segments = ([\n",
    "                ...pathStack.slice(j, i),\n",
    "                // replace match with an extra / to create // between unnecessary segments\n",
    "                '', // added to create // between target element\n",
    "                pathStack[ pathStack.length - 1 ]\n",
    "            ]).join('/');\n",
    "            combinations.push('//' + segments);\n",
    "        }\n",
    "        // * starts from 0 to N\n",
    "        // *\n",
    "    }\n",
    "\n",
    "    // sort by smallest and return shortest path matching 1 DOM element\n",
    "    const minimal = combinations\n",
    "            .filter(c => RecordingComponent.getArrayXPath(c).length === 1)\n",
    "            .sort((a, b) => a.length - b.length);\n",
    "\n",
    "    return minimal[ 0 ];\n",
    "    // TODO: prioritize by button/input, ids, classes, attributes? (extra credit), index\n",
    "}\n"
   ]
  },
  {
   "cell_type": "markdown",
   "metadata": {},
   "source": [
    "Find the element rect dimensions that match this OCR detection of text content on page:\n",
    "\n",
    "https://www.mathworks.com/help/vision/examples/automatically-detect-and-recognize-text-in-natural-images.html?s_tid=gn_loc_drop\n",
    "\n"
   ]
  },
  {
   "cell_type": "code",
   "execution_count": null,
   "metadata": {
    "collapsed": true
   },
   "outputs": [],
   "source": [
    "\n",
    "\n"
   ]
  }
 ],
 "metadata": {
  "kernelspec": {
   "display_name": "Javascript (Node.js)",
   "language": "javascript",
   "name": "javascript"
  },
  "language_info": {
   "file_extension": ".js",
   "mimetype": "application/javascript",
   "name": "javascript",
   "version": "8.6.0"
  }
 },
 "nbformat": 4,
 "nbformat_minor": 2
}
