{
 "cells": [
  {
   "cell_type": "markdown",
   "metadata": {},
   "source": [
    "Log in to facebook?\n",
    "\n"
   ]
  },
  {
   "cell_type": "code",
   "execution_count": 3,
   "metadata": {},
   "outputs": [
    {
     "data": {
      "text/plain": [
       "[Function: loginFacebook]"
      ]
     },
     "execution_count": 3,
     "metadata": {},
     "output_type": "execute_result"
    }
   ],
   "source": [
    "\n",
    "var enterFacebook = () => {\n",
    "    console.log('Facebook: Sign in required');\n",
    "    var credentials = getCredentials('facebook.com');\n",
    "    return client.click('input[name*=\"email\"]')\n",
    "    .keys(credentials.email)\n",
    "    .pause(1000)\n",
    "    .then(() => console.log('Facebook: Require password'))\n",
    "    .click('input[name*=\"pass\"]')\n",
    "    .keys(credentials.pass)\n",
    "    .submitForm('[type=\"submit\"]')\n",
    "    .pause(2000)\n",
    "    .isExisting('.cp-challenge-form')\n",
    "    .then(is => {\n",
    "        if(is) {\n",
    "            throw new Error('captcha');\n",
    "        }\n",
    "    });\n",
    "}\n",
    "\n",
    "var loginFacebook = () => {\n",
    "    return client\n",
    "    .getUrl().then(url => {\n",
    "        var loggedIn = url.indexOf('facebook') > -1 && url.indexOf('login') == -1 && url !== 'https://www.facebook.com'\n",
    "        return loggedIn\n",
    "            ? client\n",
    "            : client.url('https://www.facebook.com/')\n",
    "    });\n",
    "}\n",
    "module.exports = loginFacebook;\n",
    "loginFacebook;\n",
    "\n"
   ]
  },
  {
   "cell_type": "code",
   "execution_count": 4,
   "metadata": {},
   "outputs": [
    {
     "name": "stdout",
     "output_type": "stream",
     "text": [
      "Already imported\n",
      "[ 'import notebook.ipynb', 'interpret all notebooks.ipynb' ]\n",
      "Already imported\n",
      "[ 'import notebook.ipynb', 'interpret all notebooks.ipynb' ]\n",
      "Initializing webdriver on localhost\n",
      "Already imported\n",
      "[ 'import notebook.ipynb', 'interpret all notebooks.ipynb' ]\n"
     ]
    },
    {
     "data": {
      "text/plain": [
       "{ state: 'success',\n",
       "  sessionId: '345cb77a-417f-4e49-b4f3-4e3cd526b7f7',\n",
       "  hCode: 976732172,\n",
       "  value: null,\n",
       "  class: 'org.openqa.selenium.remote.Response',\n",
       "  status: 0 }"
      ]
     },
     "execution_count": 4,
     "metadata": {},
     "output_type": "execute_result"
    }
   ],
   "source": [
    "var importer = require('../Core');\n",
    "\n",
    "$$.async()\n",
    "var runSeleniumCell;\n",
    "importer.interpretAll(['selenium cell'])\n",
    "    .then(r => {\n",
    "        runSeleniumCell = r[0].runInNewContext();\n",
    "        return runSeleniumCell('log in facebook');\n",
    "    })\n",
    "    .then(loginFacebook => loginFacebook())\n",
    "    .then(r => $$.sendResult(r))\n",
    "    .catch(e => $$.sendError(e));\n",
    "\n"
   ]
  },
  {
   "cell_type": "code",
   "execution_count": null,
   "metadata": {},
   "outputs": [],
   "source": []
  }
 ],
 "metadata": {
  "kernelspec": {
   "display_name": "Javascript (Node.js)",
   "language": "javascript",
   "name": "javascript"
  },
  "language_info": {
   "file_extension": ".js",
   "mimetype": "application/javascript",
   "name": "javascript",
   "version": "7.7.2"
  }
 },
 "nbformat": 4,
 "nbformat_minor": 2
}
