{
 "cells": [
  {
   "cell_type": "markdown",
   "metadata": {},
   "source": [
    "How to authenticate to Google APIs?\n",
    "\n"
   ]
  },
  {
   "cell_type": "code",
   "execution_count": 3,
   "metadata": {
    "collapsed": false,
    "inputHidden": false,
    "outputHidden": false
   },
   "outputs": [
    {
     "data": {
      "text/plain": [
       "'/Users/briancullinan/jupytangular2/node_modules/google-auth-library/lib/auth/googleauth.js'"
      ]
     },
     "execution_count": 3,
     "metadata": {},
     "output_type": "execute_result"
    }
   ],
   "source": [
    "var execSync = require('child_process').execSync;\n",
    "try {\n",
    "    require.resolve('googleapis');\n",
    "    require.resolve('google-auth-library');\n",
    "} catch (e) {\n",
    "    execSync('npm install googleapis google-auth-library');\n",
    "}\n",
    "\n",
    "\n",
    "// Load client secrets from a local file.\n",
    "var path = require('path');\n",
    "var fs = require('fs');\n",
    "var google = require('googleapis');\n",
    "var googleAuth = require('google-auth-library');\n",
    "\n",
    "// If modifying these scopes, delete your previously saved credentials\n",
    "// at ~/.credentials/calendar-nodejs-quickstart.json\n",
    "var SCOPES = ['https://www.googleapis.com/auth/calendar.readonly'];\n",
    "var TOKEN_DIR = path.join(process.env.HOME || process.env.HOMEPATH || process.env.USERPROFILE, '.credentials');\n",
    "var TOKEN_PATH = path.join(TOKEN_DIR, 'calendar-nodejs-quickstart.json');\n",
    "var SECRET_PATH = path.join(TOKEN_DIR, 'client_secret.json');\n",
    "var credentials = JSON.parse(fs.readFileSync(SECRET_PATH));\n"
   ]
  },
  {
   "cell_type": "markdown",
   "metadata": {},
   "source": [
    "How to exchange token for oauth client?\n",
    "\n"
   ]
  },
  {
   "cell_type": "code",
   "execution_count": 4,
   "metadata": {
    "collapsed": false,
    "inputHidden": false,
    "outputHidden": false
   },
   "outputs": [
    {
     "data": {
      "text/plain": [
       "[Function: authorize]"
      ]
     },
     "execution_count": 4,
     "metadata": {},
     "output_type": "execute_result"
    }
   ],
   "source": [
    "\n",
    "/**\n",
    " * Store token to disk be used in later program executions.\n",
    " *\n",
    " * @param {Object} token The token to store to disk.\n",
    " */\n",
    "function storeToken(token) {\n",
    "  try {\n",
    "    fs.mkdirSync(TOKEN_DIR);\n",
    "  } catch (err) {\n",
    "    if (err.code != 'EEXIST') {\n",
    "      throw err;\n",
    "    }\n",
    "  }\n",
    "  fs.writeFile(TOKEN_PATH, JSON.stringify(token));\n",
    "  console.log('Token stored to ' + TOKEN_PATH);\n",
    "}\n",
    "\n",
    "/**\n",
    " * Create an OAuth2 client with the given credentials, and then execute the\n",
    " * given callback function.\n",
    " *\n",
    " * @param {Object} credentials The authorization client credentials.\n",
    " * @param {function} callback The callback to call with the authorized client.\n",
    " */\n",
    "var runSeleniumCell;\n",
    "var authorize = (scopes = SCOPES) => {\n",
    "    var clientSecret = credentials.installed.client_secret;\n",
    "    var clientId = credentials.installed.client_id;\n",
    "    var redirectUrl = credentials.installed.redirect_uris[0];\n",
    "    var auth = new googleAuth();\n",
    "    var oauth2Client = new auth.OAuth2(clientId, clientSecret, redirectUrl);\n",
    "\n",
    "    try {\n",
    "        // Check if we have previously stored a token.\n",
    "        var token = fs.readFileSync(TOKEN_PATH);\n",
    "        oauth2Client.credentials = JSON.parse(token);\n",
    "        return Promise.resolve(oauth2Client);\n",
    "    } catch (e) {\n",
    "        if(e.code !== 'ENOENT') {\n",
    "            throw e;\n",
    "        } else {\n",
    "            var authUrl = oauth2Client.generateAuthUrl({\n",
    "                    access_type: 'offline',\n",
    "                    scope: scopes\n",
    "                });\n",
    "            return importer.interpretAll(['selenium cell'])\n",
    "            .then(r => runSeleniumCell = r[0].runInNewContext())\n",
    "            .then(() => runSeleniumCell('authorize google access'))\n",
    "            .then(authorizeSelenium => authorizeSelenium(authUrl))\n",
    "            .then(code => new Promise((resolve, reject) => {\n",
    "                oauth2Client.getToken(code, (err, token) => {\n",
    "                    if(err){\n",
    "                        return reject(err);\n",
    "                    } else {\n",
    "                        return resolve(token);\n",
    "                    }\n",
    "                });\n",
    "            }))\n",
    "            .then(token => {\n",
    "                oauth2Client.credentials = token;\n",
    "                storeToken(token);\n",
    "                return oauth2Client;\n",
    "            })\n",
    "        }\n",
    "    }\n",
    "};\n",
    "module.exports = authorize;\n",
    "authorize;\n",
    "\n",
    "\n"
   ]
  },
  {
   "cell_type": "markdown",
   "metadata": {},
   "source": [
    "How to use selenium to authorize Google access?\n",
    "\n"
   ]
  },
  {
   "cell_type": "code",
   "execution_count": 6,
   "metadata": {
    "collapsed": false,
    "inputHidden": false,
    "outputHidden": false
   },
   "outputs": [
    {
     "ename": "ReferenceError",
     "evalue": "client is not defined",
     "execution_count": 6,
     "output_type": "error",
     "traceback": [
      "ReferenceError: client is not defined",
      "    at evalmachine.<anonymous>:49:12",
      "    at ContextifyScript.Script.runInThisContext (vm.js:23:33)",
      "    at Object.runInThisContext (vm.js:95:38)",
      "    at run ([eval]:617:19)",
      "    at onRunRequest ([eval]:388:22)",
      "    at onMessage ([eval]:356:17)",
      "    at emitTwo (events.js:106:13)",
      "    at process.emit (events.js:194:7)",
      "    at process.nextTick (internal/child_process.js:766:12)",
      "    at _combinedTickCallback (internal/process/next_tick.js:73:7)"
     ]
    }
   ],
   "source": [
    "var importer = require('../Core');\n",
    "\n",
    "var approveSelenium = (authUrl) => {\n",
    "    return client\n",
    "    .url(authUrl)\n",
    "    .loginGoogle()\n",
    "    .waitForVisible('#scope0 + button', 3000)\n",
    "    .moveToObject('#scope0')\n",
    "    .moveToObject('#submit_approve_access')\n",
    "    .waitForVisible('#submit_approve_access content', 3000)\n",
    "    .click('#submit_approve_access content')\n",
    "    .waitForVisible('#code', 3000)\n",
    "    .getValue('#code');\n",
    "};\n",
    "\n",
    "var seleniumDocker, getSeleniumServer, createWebdriverClient,\n",
    "    client, newToken, results, getCredentials;\n",
    "var authorizeSelenium = (authUrl) => {\n",
    "    console.log('Authorizing: ' + authUrl);\n",
    "    return importer.interpretAll([\n",
    "        'selenium docker',\n",
    "        'set up selenium server',\n",
    "        'webdriver client',\n",
    "        'decrypt password',\n",
    "        'log in Google'\n",
    "    ])\n",
    "    .then(r => {\n",
    "        results = r;\n",
    "        seleniumDocker = r[0].runInNewContext();\n",
    "        getSeleniumServer = r[1].runInNewContext({seleniumDocker});\n",
    "        createWebdriverClient = r[2].runInNewContext();\n",
    "        return getSeleniumServer('act-selenium')\n",
    "    })\n",
    "    .then(() => {\n",
    "        client = createWebdriverClient('localhost', 4444);\n",
    "        getCredentials = results[3].runInNewContext({client});\n",
    "        results[4].runInNewContext({client, getCredentials});\n",
    "        return approveSelenium(authUrl);\n",
    "    })\n",
    "    .catch(e => console.log(e))\n",
    "};\n",
    "if (typeof client != 'undefined'\n",
    "    && typeof client.authorizeSelenium == 'undefined') {\n",
    "    client.addCommand('authorizeSelenium', authorizeSelenium);\n",
    "}\n",
    "module.exports = authorizeSelenium;\n",
    "authorizeSelenium;\n",
    "\n"
   ]
  },
  {
   "cell_type": "code",
   "execution_count": null,
   "metadata": {},
   "outputs": [],
   "source": []
  }
 ],
 "metadata": {
  "kernel_info": {
   "name": "node_nteract"
  },
  "kernelspec": {
   "display_name": "Javascript (Node.js)",
   "language": "javascript",
   "name": "javascript"
  },
  "language_info": {
   "file_extension": ".js",
   "mimetype": "application/javascript",
   "name": "javascript",
   "version": "8.6.0"
  }
 },
 "nbformat": 4,
 "nbformat_minor": 4
}
