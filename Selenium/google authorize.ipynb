{
 "cells": [
  {
   "cell_type": "markdown",
   "metadata": {},
   "source": [
    "How to authenticate to Google APIs?\n",
    "\n"
   ]
  },
  {
   "cell_type": "code",
   "execution_count": 3,
   "metadata": {
    "collapsed": false,
    "inputHidden": false,
    "outputHidden": false
   },
   "outputs": [
    {
     "data": {
      "text/plain": [
       "'/Users/briancullinan/jupytangular2/node_modules/google-auth-library/lib/auth/googleauth.js'"
      ]
     },
     "execution_count": 3,
     "metadata": {},
     "output_type": "execute_result"
    }
   ],
   "source": [
    "// Load client secrets from a local file.\r",
    "var path = require('path');\r",
    "var fs = require('fs');\r",
    "var google = require('googleapis');\r",
    "var googleAuth = require('google-auth-library');\r",
    "\r",
    "// If modifying these scopes, delete your previously saved credentials\r",
    "// at ~/.credentials/calendar-nodejs-quickstart.json\r",
    "var SCOPES = ['https://www.googleapis.com/auth/calendar.readonly'];\r",
    "var TOKEN_DIR = path.join(process.env.HOME || process.env.HOMEPATH || process.env.USERPROFILE, '.credentials');\r",
    "var SECRET_PATH = path.join(TOKEN_DIR, 'client_secret.json');\r",
    "var credentials = JSON.parse(fs.readFileSync(SECRET_PATH));\r"
   ]
  },
  {
   "cell_type": "markdown",
   "metadata": {},
   "source": [
    "How to exchange token for oauth client?\n",
    "\n"
   ]
  },
  {
   "cell_type": "code",
   "execution_count": 4,
   "metadata": {
    "collapsed": false,
    "inputHidden": false,
    "outputHidden": false
   },
   "outputs": [
    {
     "data": {
      "text/plain": [
       "[Function: authorize]"
      ]
     },
     "execution_count": 4,
     "metadata": {},
     "output_type": "execute_result"
    }
   ],
   "source": [
    "/**\r",
    " * Store token to disk be used in later program executions.\r",
    " *\r",
    " * @param {Object} token The token to store to disk.\r",
    " */\r",
    "function storeToken(token, tokenPath) {\r",
    "    try {\r",
    "        fs.mkdirSync(TOKEN_DIR);\r",
    "    } catch (err) {\r",
    "        if (err.code != 'EEXIST') {\r",
    "            throw err;\r",
    "        }\r",
    "    }\r",
    "    fs.writeFileSync(tokenPath, JSON.stringify(token));\r",
    "    console.log('Token stored to ' + tokenPath);\r",
    "}\r",
    "\r",
    "/**\r",
    " * Create an OAuth2 client with the given credentials, and then execute the\r",
    " * given callback function.\r",
    " *\r",
    " * @param {Object} credentials The authorization client credentials.\r",
    " * @param {function} callback The callback to call with the authorized client.\r",
    " */\r",
    "var runSeleniumCell;\r",
    "var authorize = (scopes = SCOPES) => {\r",
    "    const tokenPath = path.join(TOKEN_DIR, scopes.join('')\r",
    "        .replace(/[^a-z]*/ig, '_') + '.json');\r",
    "    var clientSecret = credentials.installed.client_secret;\r",
    "    var clientId = credentials.installed.client_id;\r",
    "    var redirectUrl = credentials.installed.redirect_uris[0];\r",
    "    var auth = new googleAuth();\r",
    "    var oauth2Client = new auth.OAuth2(clientId, clientSecret, redirectUrl);\r",
    "\r",
    "    try {\r",
    "        // Check if we have previously stored a token.\r",
    "        var token = fs.readFileSync(tokenPath);\r",
    "        oauth2Client.credentials = JSON.parse(token);\r",
    "        return Promise.resolve(oauth2Client);\r",
    "    } catch (e) {\n",
    "        if (e.code !== 'ENOENT') {\r",
    "            throw e;\r",
    "        } else {\r",
    "            var authUrl = oauth2Client.generateAuthUrl({\r",
    "                access_type: 'offline',\r",
    "                scope: scopes\r",
    "            });\r",
    "            return importer.import(['selenium cell'])\r",
    "                .then(runSeleniumCell => runSeleniumCell('authorize google access'))\r",
    "                .then(authorizeSelenium => authorizeSelenium(authUrl))\r",
    "                .then(code => new Promise((resolve, reject) => {\r",
    "                    oauth2Client.getToken(code, (err, token) => {\r",
    "                        if (err) {\r",
    "                            return reject(err);\r",
    "                        } else {\r",
    "                            return resolve(token);\r",
    "                        }\r",
    "                    });\r",
    "                }))\r",
    "                .then(token => {\r",
    "                    oauth2Client.credentials = token;\r",
    "                    storeToken(token, tokenPath);\r",
    "                    return oauth2Client;\r",
    "                })\r",
    "        }\r",
    "    }\r",
    "};\r",
    "module.exports = authorize;\r",
    "authorize;\r",
    "\r",
    "\r"
   ]
  },
  {
   "cell_type": "markdown",
   "metadata": {},
   "source": [
    "How to use selenium to authorize Google access?\n",
    "\n"
   ]
  },
  {
   "cell_type": "code",
   "execution_count": 6,
   "metadata": {
    "collapsed": false,
    "inputHidden": false,
    "outputHidden": false
   },
   "outputs": [
    {
     "ename": "ReferenceError",
     "evalue": "client is not defined",
     "execution_count": 6,
     "output_type": "error",
     "traceback": [
      "ReferenceError: client is not defined",
      "    at evalmachine.<anonymous>:49:12",
      "    at ContextifyScript.Script.runInThisContext (vm.js:23:33)",
      "    at Object.runInThisContext (vm.js:95:38)",
      "    at run ([eval]:617:19)",
      "    at onRunRequest ([eval]:388:22)",
      "    at onMessage ([eval]:356:17)",
      "    at emitTwo (events.js:106:13)",
      "    at process.emit (events.js:194:7)",
      "    at process.nextTick (internal/child_process.js:766:12)",
      "    at _combinedTickCallback (internal/process/next_tick.js:73:7)"
     ]
    }
   ],
   "source": [
    "var importer = require('../Core');\r",
    "\r",
    "var approveSelenium = (authUrl) => {\r",
    "    return client\r",
    "        .url(authUrl)\r",
    "        .loginGoogle()\r",
    "        .waitForVisible('#scope0 + button', 3000)\r",
    "        .moveToObject('#scope0')\r",
    "        .moveToObject('#submit_approve_access')\r",
    "        .waitForVisible('#submit_approve_access content', 3000)\r",
    "        .click('#submit_approve_access content')\r",
    "        .waitForVisible('#code', 3000)\r",
    "        .getValue('#code');\r",
    "};\r",
    "\r",
    "var client, getCredentials;\r",
    "var authorizeSelenium = (authUrl) => {\r",
    "    console.log('Authorizing: ' + authUrl);\r",
    "    return importer.import('selenium docker')\r",
    "        .then(seleniumDocker => importer.import('set up selenium server', {seleniumDocker}))\r",
    "        .then(getSeleniumServer => getSeleniumServer('act-selenium'))\r",
    "        .then(() => importer.import('webdriver client'))\r",
    "        .then(createClient => {\r",
    "            client = createClient('localhost', 4444);\r",
    "            return importer.import('decrypt password', client);\r",
    "        })\r",
    "        .then(r => {\r",
    "            getCredentials = r;\r",
    "            return importer.import('log in Google', {client, getCredentials});\r",
    "        })\r",
    "        .then(() => approveSelenium(authUrl))\r",
    "        .catch(e => console.log(e))\r",
    "};\r",
    "if (typeof client !== 'undefined'\r",
    "    && typeof client.authorizeSelenium === 'undefined') {\r",
    "    client.addCommand('authorizeSelenium', authorizeSelenium);\r",
    "}\r",
    "module.exports = authorizeSelenium;\r"
   ]
  },
  {
   "cell_type": "code",
   "execution_count": null,
   "metadata": {},
   "outputs": [],
   "source": []
  }
 ],
 "metadata": {
  "kernel_info": {
   "name": "node_nteract"
  },
  "kernelspec": {
   "display_name": "Javascript (Node.js)",
   "language": "javascript",
   "name": "javascript"
  },
  "language_info": {
   "file_extension": ".js",
   "mimetype": "application/javascript",
   "name": "javascript",
   "version": "8.6.0"
  }
 },
 "nbformat": 4,
 "nbformat_minor": 4
}
