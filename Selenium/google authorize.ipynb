{
 "cells": [
  {
   "cell_type": "markdown",
   "metadata": {},
   "source": [
    "How to authenticate to Google APIs?\n",
    "\n"
   ]
  },
  {
   "cell_type": "code",
   "execution_count": 3,
   "metadata": {
    "collapsed": false,
    "inputHidden": false,
    "outputHidden": false
   },
   "outputs": [
    {
     "data": {
      "text/plain": [
       "'/Users/briancullinan/jupytangular2/node_modules/google-auth-library/lib/auth/googleauth.js'"
      ]
     },
     "execution_count": 3,
     "metadata": {},
     "output_type": "execute_result"
    }
   ],
   "source": [
    "// Load client secrets from a local file.\n",
    "var path = require('path');\n",
    "var fs = require('fs');\n",
    "var google = require('googleapis');\n",
    "var googleAuth = require('google-auth-library');\n",
    "\n",
    "// If modifying these scopes, delete your previously saved credentials\n",
    "// at ~/.credentials/calendar-nodejs-quickstart.json\n",
    "var SCOPES = ['https://www.googleapis.com/auth/calendar.readonly'];\n",
    "var TOKEN_DIR = path.join(process.env.HOME || process.env.HOMEPATH || process.env.USERPROFILE, '.credentials');\n",
    "var SECRET_PATH = path.join(TOKEN_DIR, 'client_secret.json');\n",
    "var credentials = JSON.parse(fs.readFileSync(SECRET_PATH));\n"
   ]
  },
  {
   "cell_type": "markdown",
   "metadata": {},
   "source": [
    "How to exchange token for oauth client?\n",
    "\n"
   ]
  },
  {
   "cell_type": "code",
   "execution_count": 4,
   "metadata": {
    "collapsed": false,
    "inputHidden": false,
    "outputHidden": false
   },
   "outputs": [
    {
     "data": {
      "text/plain": [
       "[Function: authorize]"
      ]
     },
     "execution_count": 4,
     "metadata": {},
     "output_type": "execute_result"
    }
   ],
   "source": [
    "var importer = require('../Core');\n",
    "var runSeleniumCell = importer.import('selenium cell');\n",
    "/**\n",
    " * Store token to disk be used in later program executions.\n",
    " *\n",
    " * @param {Object} token The token to store to disk.\n",
    " */\n",
    "function storeToken(token, tokenPath) {\n",
    "    try {\n",
    "        fs.mkdirSync(TOKEN_DIR);\n",
    "    } catch (err) {\n",
    "        if (err.code != 'EEXIST') {\n",
    "            throw err;\n",
    "        }\n",
    "    }\n",
    "    fs.writeFileSync(tokenPath, JSON.stringify(token));\n",
    "    console.log('Token stored to ' + tokenPath);\n",
    "}\n",
    "\n",
    "/**\n",
    " * Create an OAuth2 client with the given credentials, and then execute the\n",
    " * given callback function.\n",
    " *\n",
    " * @param {Object} credentials The authorization client credentials.\n",
    " * @param {function} callback The callback to call with the authorized client.\n",
    " */\n",
    "function authorize(scopes = SCOPES) {\n",
    "    const tokenPath = path.join(TOKEN_DIR, scopes.join('')\n",
    "        .replace(/[^a-z]*/ig, '_') + '.json');\n",
    "    var clientSecret = credentials.installed.client_secret;\n",
    "    var clientId = credentials.installed.client_id;\n",
    "    var redirectUrl = credentials.installed.redirect_uris[0];\n",
    "    var auth = new googleAuth();\n",
    "    var oauth2Client = new auth.OAuth2(clientId, clientSecret, redirectUrl);\n",
    "\n",
    "    try {\n",
    "        // Check if we have previously stored a token.\n",
    "        var token = fs.readFileSync(tokenPath);\n",
    "        oauth2Client.credentials = JSON.parse(token);\n",
    "        return Promise.resolve(oauth2Client);\n",
    "    } catch (e) {\n",
    "        if (e.code !== 'ENOENT') {\n",
    "            throw e;\n",
    "        } else {\n",
    "            var authUrl = oauth2Client.generateAuthUrl({\n",
    "                access_type: 'offline',\n",
    "                scope: scopes\n",
    "            });\n",
    "            return runSeleniumCell('authorize google access')\n",
    "                .then(authorizeSelenium => authorizeSelenium(authUrl))\n",
    "                .then(code => new Promise((resolve, reject) => {\n",
    "                    oauth2Client.getToken(code, (err, token) => {\n",
    "                        if (err) {\n",
    "                            return reject(err);\n",
    "                        } else {\n",
    "                            return resolve(token);\n",
    "                        }\n",
    "                    });\n",
    "                }))\n",
    "                .then(token => {\n",
    "                    oauth2Client.credentials = token;\n",
    "                    storeToken(token, tokenPath);\n",
    "                    return oauth2Client;\n",
    "                })\n",
    "                .catch(e => console.log(e))\n",
    "        }\n",
    "    }\n",
    "};\n",
    "module.exports = authorize;\n",
    "authorize;\n",
    "\n",
    "\n"
   ]
  },
  {
   "cell_type": "markdown",
   "metadata": {},
   "source": [
    "How to use selenium to authorize Google access?\n",
    "\n"
   ]
  },
  {
   "cell_type": "code",
   "execution_count": 6,
   "metadata": {
    "collapsed": false,
    "inputHidden": false,
    "outputHidden": false
   },
   "outputs": [
    {
     "ename": "ReferenceError",
     "evalue": "client is not defined",
     "execution_count": 6,
     "output_type": "error",
     "traceback": [
      "ReferenceError: client is not defined",
      "    at evalmachine.<anonymous>:49:12",
      "    at ContextifyScript.Script.runInThisContext (vm.js:23:33)",
      "    at Object.runInThisContext (vm.js:95:38)",
      "    at run ([eval]:617:19)",
      "    at onRunRequest ([eval]:388:22)",
      "    at onMessage ([eval]:356:17)",
      "    at emitTwo (events.js:106:13)",
      "    at process.emit (events.js:194:7)",
      "    at process.nextTick (internal/child_process.js:766:12)",
      "    at _combinedTickCallback (internal/process/next_tick.js:73:7)"
     ]
    }
   ],
   "source": [
    "var importer = require('../Core');\n",
    "var r = importer.import([\n",
    "    'selenium docker',\n",
    "    'set up selenium server',\n",
    "    'webdriver client'\n",
    "]);\n",
    "var {getSeleniumServer, createWebdriverClient} = r;\n",
    "\n",
    "function approveSelenium(authUrl) {\n",
    "    return client\n",
    "        .url(authUrl)\n",
    "        .loginGoogle()\n",
    "        .waitForVisible('#scope0 + button', 3000)\n",
    "        .moveToObject('#scope0')\n",
    "        .moveToObject('#submit_approve_access')\n",
    "        .waitForVisible('#submit_approve_access content', 3000)\n",
    "        .click('#submit_approve_access content')\n",
    "        .waitForVisible('#code', 3000)\n",
    "        .getValue('#code');\n",
    "};\n",
    "\n",
    "var client, getCredentials;\n",
    "function authorizeSelenium(authUrl) {\n",
    "    console.log('Authorizing: ' + authUrl);\n",
    "    return getSeleniumServer('act-selenium')\n",
    "        .then(() => {\n",
    "            client = createWebdriverClient();\n",
    "            return importer.import([\n",
    "                'decrypt password',\n",
    "                'log in Google',\n",
    "            ], {client})\n",
    "        })\n",
    "        .then(() => approveSelenium(authUrl))\n",
    "        .catch(e => console.log(e))\n",
    "};\n",
    "if (typeof client !== 'undefined'\n",
    "    && typeof client.authorizeSelenium === 'undefined') {\n",
    "    client.addCommand('authorizeSelenium', authorizeSelenium);\n",
    "}\n",
    "module.exports = authorizeSelenium;\n"
   ]
  },
  {
   "cell_type": "code",
   "execution_count": null,
   "metadata": {},
   "outputs": [],
   "source": []
  }
 ],
 "metadata": {
  "kernel_info": {
   "name": "node_nteract"
  },
  "kernelspec": {
   "display_name": "Javascript (Node.js)",
   "language": "javascript",
   "name": "javascript"
  },
  "language_info": {
   "file_extension": ".js",
   "mimetype": "application/javascript",
   "name": "javascript",
   "version": "8.8.1"
  }
 },
 "nbformat": 4,
 "nbformat_minor": 4
}
