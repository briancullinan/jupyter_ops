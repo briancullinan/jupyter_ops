{
 "cells": [
  {
   "cell_type": "markdown",
   "metadata": {},
   "source": [
    "How to authenticate to Google APIs?\n",
    "\n"
   ]
  },
  {
   "cell_type": "code",
   "execution_count": null,
   "metadata": {
    "collapsed": false,
    "inputHidden": false,
    "outputHidden": false
   },
   "outputs": [],
   "source": [
    "var execSync = require('child_process').execSync;\n",
    "try {\n",
    "    require.resolve('googleapis');\n",
    "    require.resolve('google-auth-library');\n",
    "} catch (e) {\n",
    "    execSync('npm install googleapis google-auth-library');\n",
    "}\n",
    "\n",
    "\n",
    "// Load client secrets from a local file.\n",
    "var path = require('path');\n",
    "var fs = require('fs');\n",
    "var google = require('googleapis');\n",
    "var googleAuth = require('google-auth-library');\n",
    "\n",
    "// If modifying these scopes, delete your previously saved credentials\n",
    "// at ~/.credentials/calendar-nodejs-quickstart.json\n",
    "var SCOPES = ['https://www.googleapis.com/auth/calendar.readonly'];\n",
    "var TOKEN_DIR = path.join(process.env.HOME || process.env.HOMEPATH || process.env.USERPROFILE, '.credentials');\n",
    "var TOKEN_PATH = path.join(TOKEN_DIR, 'calendar-nodejs-quickstart.json');\n",
    "var SECRET_PATH = path.join(TOKEN_DIR, 'client_secret.json');\n",
    "var credentials = JSON.parse(fs.readFileSync(SECRET_PATH));\n"
   ]
  },
  {
   "cell_type": "markdown",
   "metadata": {},
   "source": [
    "How to exchange token for oauth client?\n",
    "\n"
   ]
  },
  {
   "cell_type": "code",
   "execution_count": null,
   "metadata": {
    "collapsed": false,
    "inputHidden": false,
    "outputHidden": false
   },
   "outputs": [],
   "source": [
    "\n",
    "/**\n",
    " * Store token to disk be used in later program executions.\n",
    " *\n",
    " * @param {Object} token The token to store to disk.\n",
    " */\n",
    "function storeToken(token) {\n",
    "  try {\n",
    "    fs.mkdirSync(TOKEN_DIR);\n",
    "  } catch (err) {\n",
    "    if (err.code != 'EEXIST') {\n",
    "      throw err;\n",
    "    }\n",
    "  }\n",
    "  fs.writeFile(TOKEN_PATH, JSON.stringify(token));\n",
    "  console.log('Token stored to ' + TOKEN_PATH);\n",
    "}\n",
    "\n",
    "/**\n",
    " * Create an OAuth2 client with the given credentials, and then execute the\n",
    " * given callback function.\n",
    " *\n",
    " * @param {Object} credentials The authorization client credentials.\n",
    " * @param {function} callback The callback to call with the authorized client.\n",
    " */\n",
    "var authorize = (scopes = SCOPES) => {\n",
    "    var clientSecret = credentials.installed.client_secret;\n",
    "    var clientId = credentials.installed.client_id;\n",
    "    var redirectUrl = credentials.installed.redirect_uris[0];\n",
    "    var auth = new googleAuth();\n",
    "    var oauth2Client = new auth.OAuth2(clientId, clientSecret, redirectUrl);\n",
    "\n",
    "    try {\n",
    "        // Check if we have previously stored a token.\n",
    "        var token = fs.readFileSync(TOKEN_PATH);\n",
    "        oauth2Client.credentials = JSON.parse(token);\n",
    "        return Promise.resolve(oauth2Client);\n",
    "    } catch (e) {\n",
    "        if(e.code !== 'ENOENT') {\n",
    "            throw e;\n",
    "        } else {\n",
    "            var authUrl = oauth2Client.generateAuthUrl({\n",
    "                    access_type: 'offline',\n",
    "                    scope: scopes\n",
    "                });\n",
    "            return authorizeSelenium(authUrl)\n",
    "                .then(code => new Promise((resolve, reject) => {\n",
    "                    oauth2Client.getToken(code, (err, token) => {\n",
    "                        if(err){\n",
    "                            return reject(err);\n",
    "                        } else {\n",
    "                            return resolve(token);\n",
    "                        }\n",
    "                    });\n",
    "                }))\n",
    "                .then(token => {\n",
    "                    oauth2Client.credentials = token;\n",
    "                    storeToken(token);\n",
    "                    return oauth2Client;\n",
    "                });\n",
    "        }\n",
    "    }\n",
    "};\n",
    "(authorize);\n",
    "\n",
    "\n"
   ]
  },
  {
   "cell_type": "markdown",
   "metadata": {},
   "source": [
    "How to use selenium to authorize Google access?\n",
    "\n"
   ]
  },
  {
   "cell_type": "code",
   "execution_count": null,
   "metadata": {
    "collapsed": false,
    "inputHidden": false,
    "outputHidden": false
   },
   "outputs": [],
   "source": [
    "var importer = require('../Core');\n",
    "\n",
    "var approveSelenium = (client) => {\n",
    "    return client\n",
    "        .waitForVisible('#scope0 + a', 3000)\n",
    "        .moveToObject('#scope0')\n",
    "        .moveToObject('#submit_approve_access')\n",
    "        .waitForVisible('#submit_approve_access content', 3000)\n",
    "        .click('#submit_approve_access content')\n",
    "        .waitForVisible('#code', 3000)\n",
    "        .getValue('#code');\n",
    "};\n",
    "\n",
    "var authorizeSelenium = (authUrl) => {\n",
    "    var seleniumDocker = null,\n",
    "        getSeleniumServer = null,\n",
    "        createWebdriverClient = null,\n",
    "        client = null, \n",
    "        newToken = null;\n",
    "    console.log('Authorizing: ' + authUrl);\n",
    "    return importer.interpretAll([\n",
    "        'selenium docker',\n",
    "        'set up selenium server',\n",
    "        'webdriver client node',\n",
    "        'decrypt password',\n",
    "        'log in Google'\n",
    "    ]).then(r => {\n",
    "        seleniumDocker = eval(r[0].code);\n",
    "        getSeleniumServer = eval(r[1].code);\n",
    "        createWebdriverClient = eval(r[2].code);\n",
    "        eval(r[3].code); // loginGoogle functions use the client.addCommand\n",
    "        eval(r[4].code);\n",
    "        return getSeleniumServer('act-selenium')\n",
    "    })\n",
    "    .then(() => {\n",
    "        client = createWebdriverClient('localhost', 4444);\n",
    "        return client\n",
    "            .url(authUrl)\n",
    "            .loginGoogle();\n",
    "    })\n",
    "    .then(() => approveSelenium(client))\n",
    "    .then(code => {\n",
    "        newToken = code;\n",
    "        console.log(newToken);\n",
    "        return newToken;\n",
    "    });\n",
    "};\n",
    "(authorizeSelenium);\n",
    "\n"
   ]
  }
 ],
 "metadata": {
  "kernel_info": {
   "name": "node_nteract"
  },
  "kernelspec": {
   "display_name": "Javascript (Node.js)",
   "language": "javascript",
   "name": "javascript"
  },
  "language_info": {
   "file_extension": ".js",
   "mimetype": "application/javascript",
   "name": "javascript",
   "version": "7.7.2"
  }
 },
 "nbformat": 4,
 "nbformat_minor": 4
}
